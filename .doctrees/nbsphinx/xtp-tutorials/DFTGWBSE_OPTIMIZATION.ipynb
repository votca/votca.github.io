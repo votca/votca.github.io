{
 "cells": [
  {
   "cell_type": "markdown",
   "metadata": {},
   "source": [
    "## DFT + GWBSE Optimization Using CO"
   ]
  },
  {
   "cell_type": "markdown",
   "metadata": {},
   "source": [
    "## Introduction\n",
    "This tutorial explains how to perform a molecular geometric optimization using the **GWBSE** method. See [the GW Compendium: A Practical Guide to Theoretical Photoemission Spectroscopy](https://doi.org/10.3389/fchem.2019.00377), for an excellent introduction to the method."
   ]
  },
  {
   "cell_type": "markdown",
   "metadata": {},
   "source": [
    "## Requirements\n",
    "* You will need to install **VOTCA** using the instructions described [here](https://github.com/votca/votca/blob/master/share/doc/INSTALL.rst)\n",
    "* Once the installation is completed you need to activate the VOTCA enviroment by running the `VOTCARC.bash` script that has been installed at the bin subfolder for the path that you have provided for the installation step above"
   ]
  },
  {
   "cell_type": "markdown",
   "metadata": {},
   "source": [
    "## Preparing the input\n",
    "To run a DFT-GWBSE calculation we will use the [xtp_tools](https://www.votca.org/xtp/xtp_tools_overview.html) calculator."
   ]
  },
  {
   "cell_type": "markdown",
   "metadata": {},
   "source": [
    "we can now change the calculator mode from single point energy calculation to optimization as follows by adding \n",
    "`-c geometry_optimization.maxiter=1` which enables optimization with one iteration. "
   ]
  },
  {
   "cell_type": "markdown",
   "metadata": {},
   "source": [
    "Because geometry optimsation is quite expensive numerically we chose a smaller basisset and G0W0 Finally, to run the calculation we just need the following command (This still takes a while)"
   ]
  },
  {
   "cell_type": "code",
   "execution_count": 1,
   "metadata": {
    "execution": {
     "iopub.execute_input": "2021-12-30T21:11:08.356483Z",
     "iopub.status.busy": "2021-12-30T21:11:08.355746Z",
     "iopub.status.idle": "2021-12-30T21:11:31.382034Z",
     "shell.execute_reply": "2021-12-30T21:11:31.382761Z"
    }
   },
   "outputs": [
    {
     "name": "stdout",
     "output_type": "stream",
     "text": [
      "==================================================\r\n",
      "========   VOTCA (http://www.votca.org)   ========\r\n",
      "==================================================\r\n",
      "\r\n",
      "please submit bugs to https://github.com/votca/xtp/issues\r\n",
      "\r\n",
      "xtp_tools, version 2022-dev gitid: 18569c8 (compiled Dec 30 2021, 21:01:56)\r\n",
      "votca_csg, version 2022-dev gitid: 18569c8 (compiled Dec 30 2021, 20:45:13)\r\n",
      "votca_tools, version 2022-dev gitid: 18569c8 (compiled Dec 30 2021, 20:42:44)\r\n",
      "\r\n",
      "Initializing tool\r\n",
      "... dftgwbse Evaluating tool\r\n",
      "... dftgwbse  Using 4 threads\r\n",
      "... ... Reading structure from CO.xyz\r\n",
      "... ... Requested geometry optimization of excited state s1\r\n",
      "... ... Initial state: s1\r\n",
      "... ... WARNING: No tracker is used \r\n",
      "... ... Convergence of total energy: 0.000001 Hartree \r\n",
      "... ... Convergence of RMS Force:    0.000030 Hartree/Bohr \r\n",
      "... ... Convergence of Max Force:    0.000100 Hartree/Bohr \r\n",
      "... ... Convergence of RMS Step:     0.000600 Bohr \r\n",
      "... ... Convergence of Max Step:     0.001000 Bohr \r\n",
      "... ... Initial trust radius:        0.018897 BohrA\r\n",
      "    0.307132 -3.06416e-11  1.79841e-10   5.2008e-10  2.32399e-11   -0.0516061  1.11677e-09 -1.03701e-09 -3.87663e-10   -0.0181647  -0.00104153 -1.10465e-10    0.0104018   -0.0375618 -2.00456e-11    0.0421019  2.08539e-10 -9.11389e-11 -3.57776e-10  -1.5894e-10 -0.000478684     0.108408 -1.82907e-10  2.60003e-10          nan          nan          nan          nan          nan          nan          nan          nan          nan          nan          nan\r\n",
      "-3.06416e-11     0.307132  3.89066e-10  3.09305e-10   -0.0516061  2.32399e-11 -2.45187e-09  2.79211e-09  8.22091e-10  -0.00104153    0.0181647  3.85165e-10    0.0375618    0.0104018    0.0421019 -2.00457e-11  -1.9211e-10 -6.72674e-12  5.01643e-10  6.19043e-10     0.108408  0.000478684 -1.68355e-11 -1.12003e-11          nan          nan          nan          nan          nan          nan          nan          nan          nan          nan          nan\r\n",
      " 1.79841e-10  3.89066e-10     0.320605  -0.00928992 -1.40063e-11 -3.03733e-11   -0.0131726    0.0131726   0.00491206 -1.46114e-10  1.02554e-10   0.00209269  1.19256e-11   2.0722e-10  1.19224e-10 -7.51375e-12    0.0470529  -0.00129456   0.00255651    0.0152281  9.88498e-10 -3.13944e-10   -0.0254859   -0.0208342          nan          nan          nan          nan          nan          nan          nan          nan          nan          nan          nan\r\n",
      "  5.2008e-10  3.09305e-10  -0.00928992     0.320605 -2.23571e-11 -4.35098e-10   -0.0131726    0.0131726   0.00491206 -1.66388e-10  1.48462e-10   0.00209269 -8.10679e-12  1.82319e-10  1.27821e-11  4.05418e-10   0.00129456   -0.0470529    0.0152281   0.00255651  9.64541e-10  2.06214e-10   -0.0254859    0.0208342          nan          nan          nan          nan          nan          nan          nan          nan          nan          nan          nan\r\n",
      " 2.32398e-11   -0.0516061 -1.40063e-11 -2.23571e-11     0.490902 -2.84031e-12 -1.49002e-09  1.08529e-09  6.28853e-10   0.00077068    -0.013441  1.85913e-10   0.00770392   0.00213341    0.0309987  6.61897e-11 -4.61687e-11  3.03304e-10  2.07894e-10  6.15092e-11   -0.0531267 -0.000234586   -2.095e-10  2.59885e-11          nan          nan          nan          nan          nan          nan          nan          nan          nan          nan          nan\r\n",
      "  -0.0516061  2.32399e-11 -3.03733e-11 -4.35098e-10 -2.84038e-12     0.490902   -9.289e-11  1.01241e-10  6.25435e-11     0.013441   0.00077068 -5.24248e-12   0.00213341  -0.00770392  6.61897e-11    0.0309987 -1.53624e-10  7.23958e-12  8.27007e-11 -1.74434e-10  0.000234586   -0.0531267 -4.45863e-11 -1.28696e-10          nan          nan          nan          nan          nan          nan          nan          nan          nan          nan          nan\r\n",
      " 1.11677e-09 -2.45187e-09   -0.0131726   -0.0131726 -1.49002e-09   -9.289e-11     0.549585     -0.21969   -0.0856688  -1.4338e-11 -7.24901e-10   -0.0364976 -8.31927e-10 -2.62355e-09  6.31699e-10  2.54399e-10    0.0113537   0.00131797    0.0126965   -0.0330618 -1.34035e-08  8.27009e-09   0.00154585   0.00701099          nan          nan          nan          nan          nan          nan          nan          nan          nan          nan          nan\r\n",
      "-1.03701e-09  2.79211e-09    0.0131726    0.0131726  1.08529e-09  1.01241e-10     -0.21969     0.549585    0.0856688  6.02462e-11  7.45175e-10    0.0364976  8.56828e-10  2.60352e-09 -2.18767e-10 -1.47957e-10   0.00131797    0.0113537    0.0330618   -0.0126965  1.39172e-08 -8.24259e-09  -0.00154585   0.00701097          nan          nan          nan          nan          nan          nan          nan          nan          nan          nan          nan\r\n",
      "-3.87663e-10  8.22091e-10   0.00491206   0.00491206  6.28853e-10  6.25435e-11   -0.0856688    0.0856688     0.662947  1.80027e-10  5.81848e-10  -0.00632525  2.92647e-10  7.01986e-10 -3.36772e-10 -9.71575e-11  -0.00131674   0.00131674   0.00387669    0.0038767  4.33973e-09 -3.05357e-09  -0.00112601 -2.64075e-09          nan          nan          nan          nan          nan          nan          nan          nan          nan          nan          nan\r\n",
      "  -0.0181647  -0.00104153 -1.46114e-10 -1.66388e-10   0.00077068     0.013441  -1.4338e-11  6.02462e-11  1.80027e-10     0.680922 -1.60183e-12 -8.83668e-11 -2.70757e-05  7.97151e-05 -0.000494411  -0.00862276  -3.8646e-10 -2.24555e-13 -8.09523e-11 -8.90772e-10  -0.00216769   -0.0409702 -6.68857e-10 -1.05625e-09          nan          nan          nan          nan          nan          nan          nan          nan          nan          nan          nan\r\n",
      " -0.00104153    0.0181647  1.02554e-10  1.48462e-10    -0.013441   0.00077068 -7.24901e-10  7.45175e-10  5.81848e-10 -1.60175e-12     0.680922 -6.20479e-11  7.97151e-05  2.70757e-05   0.00862276 -0.000494411  4.18871e-12 -8.14008e-10 -3.77283e-10  9.40163e-12    0.0409702  -0.00216769  8.09471e-10 -4.55037e-10          nan          nan          nan          nan          nan          nan          nan          nan          nan          nan          nan\r\n",
      "-1.10465e-10  3.85165e-10   0.00209269   0.00209269  1.85913e-10 -5.24248e-12   -0.0364976    0.0364976  -0.00632525 -8.83668e-11 -6.20479e-11      0.79826 -1.22338e-11  3.26474e-10  1.10195e-10 -5.77006e-11  -0.00465523   0.00465523    0.0137057    0.0137057  1.73226e-09 -9.75752e-10 -0.000446392 -1.08054e-09          nan          nan          nan          nan          nan          nan          nan          nan          nan          nan          nan\r\n",
      "   0.0104018    0.0375618  1.19256e-11 -8.10679e-12   0.00770392   0.00213341 -8.31927e-10  8.56828e-10  2.92647e-10 -2.70757e-05  7.97151e-05 -1.22338e-11     0.956418 -4.29187e-11   -0.0126655   -0.0035074  -1.2382e-10  2.37458e-10  6.53127e-10  4.30759e-10   -0.0192727  -0.00542883  6.80546e-12 -3.94404e-11          nan          nan          nan          nan          nan          nan          nan          nan          nan          nan          nan\r\n",
      "  -0.0375618    0.0104018   2.0722e-10  1.82319e-10   0.00213341  -0.00770392 -2.62355e-09  2.60352e-09  7.01986e-10  7.97151e-05  2.70757e-05  3.26474e-10 -4.29187e-11     0.956418   -0.0035074    0.0126655 -4.24787e-10  6.47155e-10   1.4916e-09  1.60524e-09  -0.00542883    0.0192727 -8.92873e-11  1.15397e-10          nan          nan          nan          nan          nan          nan          nan          nan          nan          nan          nan\r\n",
      "-2.00456e-11    0.0421019  1.19224e-10  1.27821e-11    0.0309987  6.61897e-11  6.31699e-10 -2.18767e-10 -3.36772e-10 -0.000494411   0.00862276  1.10195e-10   -0.0126655   -0.0035074     0.988566  3.74286e-11 -2.92376e-11  1.10931e-10 -3.59232e-11  6.16757e-11    0.0223628   9.8745e-05 -3.29956e-10  2.24493e-11          nan          nan          nan          nan          nan          nan          nan          nan          nan          nan          nan\r\n",
      "   0.0421019 -2.00457e-11 -7.51375e-12  4.05418e-10  6.61897e-11    0.0309987  2.54399e-10 -1.47957e-10 -9.71575e-11  -0.00862276 -0.000494411 -5.77006e-11   -0.0035074    0.0126655  3.74285e-11     0.988566  7.14517e-12  9.04537e-11 -6.75864e-11  -1.4928e-10  -9.8745e-05    0.0223628 -1.73215e-10 -2.21184e-10          nan          nan          nan          nan          nan          nan          nan          nan          nan          nan          nan\r\n",
      " 2.08539e-10  -1.9211e-10    0.0470529   0.00129456 -4.61687e-11 -1.53624e-10    0.0113537   0.00131797  -0.00131674  -3.8646e-10  4.18871e-12  -0.00465523  -1.2382e-10 -4.24787e-10 -2.92376e-11  7.14517e-12      1.03321  -0.00656689   -0.0132454   -0.0132454 -8.26145e-10   5.5376e-10  -0.00427527 -6.48707e-05          nan          nan          nan          nan          nan          nan          nan          nan          nan          nan          nan\r\n",
      "-9.11389e-11 -6.72674e-12  -0.00129456   -0.0470529  3.03304e-10  7.23958e-12   0.00131797    0.0113537   0.00131674 -2.24555e-13 -8.14008e-10   0.00465523  2.37458e-10  6.47155e-10  1.10931e-10  9.04537e-11  -0.00656689      1.03321    0.0132454    0.0132454  7.79401e-10 -4.51888e-10   0.00427527 -6.48716e-05          nan          nan          nan          nan          nan          nan          nan          nan          nan          nan          nan\r\n",
      "-3.57776e-10  5.01643e-10   0.00255651    0.0152281  2.07894e-10  8.27007e-11    0.0126965    0.0330618   0.00387669 -8.09523e-11 -3.77283e-10    0.0137057  6.53127e-10   1.4916e-09 -3.59232e-11 -6.75864e-11   -0.0132454    0.0132454       1.0677    0.0410646  2.36681e-09 -1.58706e-09  -0.00204313   0.00021688          nan          nan          nan          nan          nan          nan          nan          nan          nan          nan          nan\r\n",
      " -1.5894e-10  6.19043e-10    0.0152281   0.00255651  6.15092e-11 -1.74434e-10   -0.0330618   -0.0126965    0.0038767 -8.90772e-10  9.40163e-12    0.0137057  4.30759e-10  1.60524e-09  6.16757e-11  -1.4928e-10   -0.0132454    0.0132454    0.0410646       1.0677  2.46778e-09 -1.53976e-09  -0.00204313 -0.000216882          nan          nan          nan          nan          nan          nan          nan          nan          nan          nan          nan\r\n",
      " 0.000332258   -0.0752466 -6.87375e-10 -7.32292e-10    0.0690159 -0.000304746  8.05789e-09 -8.33548e-09 -3.16327e-09    0.0016355   -0.0309116 -1.54304e-09    0.0086661   0.00244111   -0.0364086  0.000160765  5.58928e-10 -5.58363e-10  -1.7752e-09 -1.77871e-09    -0.194424  2.21814e-10  4.21842e-09 -3.46981e-10          nan          nan          nan          nan          nan          nan          nan          nan          nan          nan          nan\r\n",
      "  -0.0752465 -0.000332258 -1.13348e-12 -2.85455e-10  0.000304746    0.0690159 -5.49076e-09  5.53333e-09  2.38412e-09    0.0309116    0.0016355  8.87129e-10   0.00244111   -0.0086661 -0.000160765   -0.0364086 -4.81819e-10  4.77575e-10  1.28081e-09  1.27936e-09  2.21814e-10    -0.194424  5.54362e-09  2.78487e-09          nan          nan          nan          nan          nan          nan          nan          nan          nan          nan          nan\r\n",
      " 5.99125e-10  5.29788e-10   -0.0141894   -0.0141894   -3.689e-10 -5.51688e-10  -0.00432415   0.00432415   0.00131219 -1.02975e-09   1.0896e-09   0.00052612 -8.36112e-11  8.17453e-11   4.0698e-11  2.51658e-10  -0.00597536   0.00597536  -0.00150734  -0.00150734   4.4288e-09  5.45753e-09     0.958308 -1.20616e-08          nan          nan          nan          nan          nan          nan          nan          nan          nan          nan          nan\r\n",
      " 4.03764e-10 -9.65767e-11   0.00580259  -0.00580259  3.08417e-10 -2.51104e-11  -0.00131543  -0.00131542  1.50018e-09 -9.49504e-10  -4.5633e-10  7.70283e-10  -5.8981e-11  2.41568e-10  8.19277e-11 -1.97993e-10  -0.00385814  -0.00385814   0.00265755  -0.00265755 -3.30305e-10  3.13284e-09 -1.21747e-08     0.100685          nan          nan          nan          nan          nan          nan          nan          nan          nan          nan          nan\r\n",
      "        -nan         -nan         -nan         -nan         -nan         -nan         -nan         -nan         -nan         -nan         -nan         -nan         -nan         -nan         -nan         -nan         -nan         -nan         -nan         -nan         -nan         -nan         -nan         -nan         -nan         -nan         -nan         -nan         -nan         -nan         -nan         -nan         -nan         -nan         -nan\r\n",
      "        -nan         -nan         -nan         -nan         -nan         -nan         -nan         -nan         -nan         -nan         -nan         -nan         -nan         -nan         -nan         -nan         -nan         -nan         -nan         -nan         -nan         -nan         -nan         -nan         -nan         -nan         -nan         -nan         -nan         -nan         -nan         -nan         -nan         -nan         -nan\r\n",
      "        -nan         -nan         -nan         -nan         -nan         -nan         -nan         -nan         -nan         -nan         -nan         -nan         -nan         -nan         -nan         -nan         -nan         -nan         -nan         -nan         -nan         -nan         -nan         -nan          nan          nan          nan          nan          nan          nan          nan          nan          nan          nan          nan\r\n",
      "        -nan         -nan         -nan         -nan         -nan         -nan         -nan         -nan         -nan         -nan         -nan         -nan         -nan         -nan         -nan         -nan         -nan         -nan         -nan         -nan         -nan         -nan         -nan         -nan          nan          nan          nan          nan          nan          nan          nan          nan          nan          nan          nan\r\n",
      "        -nan         -nan         -nan         -nan         -nan         -nan         -nan         -nan         -nan         -nan         -nan         -nan         -nan         -nan         -nan         -nan         -nan         -nan         -nan         -nan         -nan         -nan         -nan         -nan         -nan         -nan         -nan         -nan         -nan         -nan         -nan         -nan         -nan         -nan         -nan\r\n",
      "        -nan         -nan         -nan         -nan         -nan         -nan         -nan         -nan         -nan         -nan         -nan         -nan         -nan         -nan         -nan         -nan         -nan         -nan         -nan         -nan         -nan         -nan         -nan         -nan         -nan         -nan         -nan         -nan         -nan         -nan         -nan         -nan         -nan         -nan         -nan\r\n",
      "        -nan         -nan         -nan         -nan         -nan         -nan         -nan         -nan         -nan         -nan         -nan         -nan         -nan         -nan         -nan         -nan         -nan         -nan         -nan         -nan         -nan         -nan         -nan         -nan          nan          nan          nan          nan          nan          nan          nan          nan          nan          nan          nan\r\n",
      "        -nan         -nan         -nan         -nan         -nan         -nan         -nan         -nan         -nan         -nan         -nan         -nan         -nan         -nan         -nan         -nan         -nan         -nan         -nan         -nan         -nan         -nan         -nan         -nan          nan          nan          nan          nan          nan          nan          nan          nan          nan          nan          nan\r\n",
      "        -nan         -nan         -nan         -nan         -nan         -nan         -nan         -nan         -nan         -nan         -nan         -nan         -nan         -nan         -nan         -nan         -nan         -nan         -nan         -nan         -nan         -nan         -nan         -nan          nan          nan          nan         -nan          nan          nan          nan         -nan          nan          nan          nan\r\n",
      "        -nan         -nan         -nan         -nan         -nan         -nan         -nan         -nan         -nan         -nan         -nan         -nan         -nan         -nan         -nan         -nan         -nan         -nan         -nan         -nan         -nan         -nan         -nan         -nan          nan          nan          nan         -nan          nan          nan          nan         -nan          nan          nan          nan\r\n",
      "        -nan         -nan         -nan         -nan         -nan         -nan         -nan         -nan         -nan         -nan         -nan         -nan         -nan         -nan         -nan         -nan         -nan         -nan         -nan         -nan         -nan         -nan         -nan         -nan         -nan         -nan         -nan         -nan         -nan         -nan         -nan         -nan         -nan         -nan         -nan\r\n",
      "B\r\n",
      "    0.093811 -1.36189e-11  9.61584e-11  3.20858e-10  1.42923e-11   -0.0328898  4.68304e-10 -4.11333e-10 -2.38547e-10   -0.0155317 -0.000890553 -6.35478e-11     0.012898   -0.0465757 -2.32896e-11    0.0481429  2.59293e-10 -1.01675e-10 -3.59514e-10 -8.39744e-11 -0.000110866    0.0251078  4.90486e-10  5.69933e-10         -nan         -nan         -nan         -nan         -nan         -nan         -nan         -nan         -nan         -nan         -nan\r\n",
      "-1.36189e-11     0.093811   2.0125e-10  1.44279e-10   -0.0328898  1.42923e-11 -9.67722e-10  1.19242e-09  5.07307e-10 -0.000890553    0.0155317   2.5484e-10    0.0465757     0.012898    0.0481429 -2.32897e-11 -1.64908e-10 -1.10631e-10  4.29865e-10  5.87483e-10    0.0251078  0.000110866  5.38533e-10 -1.16238e-10         -nan         -nan         -nan         -nan         -nan         -nan         -nan         -nan         -nan         -nan         -nan\r\n",
      " 9.61584e-11   2.0125e-10      0.10587  -0.00531156  -1.8654e-11 -2.58762e-11  -0.00667319   0.00667319   0.00361215  -1.3614e-10  8.75684e-11   0.00164084  2.40068e-11  2.29999e-10  1.50973e-10 -1.30653e-11    0.0640517  -0.00171077   0.00245522     0.019719  7.99021e-11 -1.94523e-10    -0.041887   -0.0152674         -nan         -nan         -nan         -nan         -nan         -nan         -nan         -nan         -nan         -nan         -nan\r\n",
      " 3.20858e-10  1.44279e-10  -0.00531156      0.10587 -2.22063e-11  -3.1539e-10  -0.00667319   0.00667319   0.00361215 -1.60333e-10  1.30143e-10   0.00164084 -2.84095e-12  1.93131e-10  9.17239e-12  5.05895e-10   0.00171077   -0.0640517     0.019719   0.00245522   5.3105e-12  4.78996e-11    -0.041887    0.0152674         -nan         -nan         -nan         -nan         -nan         -nan         -nan         -nan         -nan         -nan         -nan\r\n",
      " 1.42923e-11   -0.0328898  -1.8654e-11 -2.22063e-11     0.240891 -6.68725e-13 -9.44029e-10  6.54515e-10  5.49398e-10  0.000828206   -0.0144443  1.60932e-10   0.00881179    0.0024402    0.0441772  9.20095e-11 -4.10451e-11  4.25115e-10  2.14991e-10  1.15105e-11   0.00438142  1.93465e-05 -5.21182e-10  2.95013e-10         -nan         -nan         -nan         -nan         -nan         -nan         -nan         -nan         -nan         -nan         -nan\r\n",
      "  -0.0328898  1.42923e-11 -2.58762e-11  -3.1539e-10 -6.68791e-13     0.240891 -4.37204e-11  4.72727e-11  4.46835e-11    0.0144443  0.000828206 -1.06019e-11    0.0024402  -0.00881179  9.20095e-11    0.0441772 -2.22863e-10  1.93819e-11  1.02558e-10 -2.81511e-10 -1.93465e-05   0.00438142 -4.88414e-10 -7.98329e-11         -nan         -nan         -nan         -nan         -nan         -nan         -nan         -nan         -nan         -nan         -nan\r\n",
      " 4.68304e-10 -9.67722e-10  -0.00667319  -0.00667319 -9.44029e-10 -4.37204e-11     0.221871     -0.11069   -0.0629976 -1.79196e-11  -5.4844e-10    -0.028617 -9.98462e-10 -2.90206e-09  7.94479e-10  2.58575e-10    0.0100845   0.00717924    0.0330801   -0.0292608 -1.48723e-09  5.30433e-10  -0.00289531   0.00577366         -nan         -nan         -nan         -nan         -nan         -nan         -nan         -nan         -nan         -nan         -nan\r\n",
      "-4.11333e-10  1.19242e-09   0.00667319   0.00667319  6.54515e-10  4.72727e-11     -0.11069     0.221871    0.0629976  6.04946e-11  5.72633e-10     0.028617  1.03533e-09  2.87521e-09 -2.75518e-10 -1.16775e-10   0.00717924    0.0100845    0.0292608   -0.0330801  1.72928e-09 -4.54669e-10   0.00289531   0.00577366         -nan         -nan         -nan         -nan         -nan         -nan         -nan         -nan         -nan         -nan         -nan\r\n",
      "-2.38547e-10  5.07307e-10   0.00361215   0.00361215  5.49398e-10  4.46835e-11   -0.0629976    0.0629976     0.429278  2.31001e-10   6.8438e-10   -0.0121538   4.2123e-10  8.97903e-10 -4.70446e-10 -1.29901e-10  6.20777e-06 -6.20779e-06 -1.82767e-05 -1.82766e-05  1.01346e-09 -6.37848e-10 -5.61182e-05 -6.60639e-10         -nan         -nan         -nan         -nan         -nan         -nan         -nan         -nan         -nan         -nan         -nan\r\n",
      "  -0.0155317 -0.000890553  -1.3614e-10 -1.60333e-10  0.000828206    0.0144443 -1.79196e-11  6.04946e-11  2.31001e-10     0.463967 -2.13919e-12  -1.1787e-10 -0.000208016  0.000612431 -0.000593932   -0.0103585 -6.62974e-10   5.0703e-12 -1.34045e-10 -1.50703e-09 -0.000937021   -0.0177101 -1.63364e-09 -1.94255e-09         -nan         -nan         -nan         -nan         -nan         -nan         -nan         -nan         -nan         -nan         -nan\r\n",
      "-0.000890553    0.0155317  8.75684e-11  1.30143e-10   -0.0144443  0.000828206  -5.4844e-10  5.72633e-10   6.8438e-10 -2.13907e-12     0.463967 -1.23372e-10  0.000612431  0.000208016    0.0103585 -0.000593932  2.66489e-11 -1.39963e-09 -6.96872e-10 -3.89684e-11    0.0177101 -0.000937021  1.78282e-09 -8.13686e-10         -nan         -nan         -nan         -nan         -nan         -nan         -nan         -nan         -nan         -nan         -nan\r\n",
      "-6.35478e-11   2.5484e-10   0.00164084   0.00164084  1.60932e-10 -1.06019e-11    -0.028617     0.028617   -0.0121538  -1.1787e-10 -1.23372e-10     0.636067 -4.96811e-11  4.09081e-10  1.95667e-10 -8.28096e-11  -0.00673087   0.00673087    0.0198167    0.0198167  9.92498e-11 -2.31596e-12    -4.41e-05 -1.27353e-10         -nan         -nan         -nan         -nan         -nan         -nan         -nan         -nan         -nan         -nan         -nan\r\n",
      "    0.012898    0.0465757  2.40068e-11 -2.84095e-12   0.00881179    0.0024402 -9.98462e-10  1.03533e-09   4.2123e-10 -0.000208016  0.000612431 -4.96811e-11     0.917068 -7.52455e-11   -0.0214829  -0.00594915 -2.20526e-10  4.53243e-10  1.22575e-09  7.73601e-10   -0.0223754  -0.00630281  -1.0212e-10 -1.09179e-10         -nan         -nan         -nan         -nan         -nan         -nan         -nan         -nan         -nan         -nan         -nan\r\n",
      "  -0.0465757     0.012898  2.29999e-10  1.93131e-10    0.0024402  -0.00881179 -2.90206e-09  2.87521e-09  8.97903e-10  0.000612431  0.000208016  4.09081e-10 -7.52456e-11     0.917068  -0.00594915    0.0214829 -7.42049e-10   1.1942e-09  2.67335e-09  2.90606e-09  -0.00630281    0.0223754  -6.2817e-11   4.2548e-10         -nan         -nan         -nan         -nan         -nan         -nan         -nan         -nan         -nan         -nan         -nan\r\n",
      "-2.32897e-11    0.0481429  1.50973e-10  9.17239e-12    0.0441772  9.20096e-11  7.94479e-10 -2.75518e-10 -4.70446e-10 -0.000593932    0.0103585  1.95667e-10   -0.0214829  -0.00594915     0.981535  7.21476e-11 -5.42921e-11  1.86571e-10 -5.46217e-11  1.35523e-10  -0.00424838 -1.87591e-05 -2.61193e-10  4.18166e-11         -nan         -nan         -nan         -nan         -nan         -nan         -nan         -nan         -nan         -nan         -nan\r\n",
      "   0.0481429 -2.32897e-11 -1.30653e-11  5.05895e-10  9.20095e-11    0.0441772  2.58575e-10 -1.16775e-10 -1.29901e-10   -0.0103585 -0.000593932 -8.28096e-11  -0.00594915    0.0214829  7.21475e-11     0.981535  2.95304e-11  1.60614e-10 -1.09538e-10 -2.41817e-10  1.87591e-05  -0.00424838  1.75255e-10 -3.99001e-10         -nan         -nan         -nan         -nan         -nan         -nan         -nan         -nan         -nan         -nan         -nan\r\n",
      " 2.59293e-10 -1.64908e-10    0.0640517   0.00171077 -4.10451e-11 -2.22863e-10    0.0100845   0.00717924  6.20777e-06 -6.62974e-10  2.66489e-11  -0.00673087 -2.20526e-10 -7.42049e-10 -5.42921e-11  2.95304e-11      1.06908   -0.0128111   -0.0247511   -0.0247511 -3.94917e-10  2.10961e-10   -0.0150508  -0.00530136         -nan         -nan         -nan         -nan         -nan         -nan         -nan         -nan         -nan         -nan         -nan\r\n",
      "-1.01675e-10 -1.10631e-10  -0.00171077   -0.0640517  4.25115e-10  1.93819e-11   0.00717924    0.0100845 -6.20779e-06   5.0703e-12 -1.39963e-09   0.00673087  4.53243e-10   1.1942e-09  1.86571e-10  1.60614e-10   -0.0128111      1.06908    0.0247511    0.0247511  2.19399e-10  9.13087e-13    0.0150508  -0.00530137         -nan         -nan         -nan         -nan         -nan         -nan         -nan         -nan         -nan         -nan         -nan\r\n",
      "-3.59514e-10  4.29865e-10   0.00245522     0.019719  2.14991e-10  1.02558e-10    0.0330801    0.0292608 -1.82767e-05 -1.34045e-10 -6.96872e-10    0.0198167  1.22575e-09  2.67335e-09 -5.46217e-11 -1.09538e-10   -0.0247511    0.0247511      1.13354    0.0772752   8.7935e-10 -5.99891e-10  -0.00545186   0.00395537         -nan         -nan         -nan         -nan         -nan         -nan         -nan         -nan         -nan         -nan         -nan\r\n",
      "-8.39744e-11  5.87483e-10     0.019719   0.00245522  1.15105e-11 -2.81511e-10   -0.0292608   -0.0330801 -1.82766e-05 -1.50703e-09 -3.89684e-11    0.0198167  7.73601e-10  2.90606e-09  1.35523e-10 -2.41817e-10   -0.0247511    0.0247511    0.0772752      1.13354  1.09045e-09 -4.24549e-10  -0.00545186  -0.00395537         -nan         -nan         -nan         -nan         -nan         -nan         -nan         -nan         -nan         -nan         -nan\r\n",
      "-0.000253263    0.0573567  4.73067e-10  4.21108e-10   0.00347861 -1.53601e-05 -7.51721e-09  7.82086e-09  1.20413e-09 -0.000539208    0.0101913  2.34299e-10   -0.0179428  -0.00505422   -0.0191591  8.45989e-05 -9.06752e-11  7.11935e-11 -1.66087e-10  5.10773e-12     0.600541  2.22253e-10  3.19255e-09  1.63631e-10         -nan         -nan         -nan         -nan         -nan         -nan         -nan         -nan         -nan         -nan         -nan\r\n",
      "   0.0573567  0.000253263 -3.45164e-10 -4.23541e-11  1.53601e-05   0.00347861  4.34596e-09 -4.29259e-09 -7.17366e-10   -0.0101913 -0.000539208 -1.52086e-10  -0.00505422    0.0179428 -8.45988e-05   -0.0191591 -1.00932e-10  2.71831e-10  3.21182e-11   5.0788e-11  2.22253e-10     0.600541  5.04357e-09  3.70519e-09         -nan         -nan         -nan         -nan         -nan         -nan         -nan         -nan         -nan         -nan         -nan\r\n",
      " 1.98191e-10  3.36941e-10   -0.0423678   -0.0423678 -5.91183e-10 -4.72965e-10  -0.00286443   0.00286443  0.000438536 -1.50208e-09  1.61585e-09  0.000214549 -5.05662e-11 -4.23439e-11 -3.64375e-10  1.53268e-10   -0.0160907    0.0160907  -0.00534056  -0.00534056  3.64926e-09  5.04784e-09      1.98482 -1.53833e-08         -nan         -nan         -nan         -nan         -nan         -nan         -nan         -nan         -nan         -nan         -nan\r\n",
      " 5.92906e-10 -6.61614e-11   -0.0172168    0.0172168  2.50132e-10 -1.00051e-10   0.00653478   0.00653476  -1.4649e-09 -1.87214e-09 -8.21887e-10 -4.53895e-10 -1.32691e-10  4.75766e-10  6.22031e-11 -4.22523e-10  -0.00640987  -0.00640987    0.0046256   -0.0046256  5.78493e-11  4.19788e-09 -1.54811e-08     0.789817         -nan         -nan         -nan         -nan         -nan         -nan         -nan         -nan         -nan         -nan         -nan\r\n",
      "        -nan         -nan         -nan         -nan         -nan         -nan         -nan         -nan         -nan         -nan         -nan         -nan         -nan         -nan         -nan         -nan         -nan         -nan         -nan         -nan         -nan         -nan         -nan         -nan         -nan         -nan         -nan         -nan         -nan         -nan         -nan         -nan         -nan         -nan         -nan\r\n",
      "        -nan         -nan         -nan         -nan         -nan         -nan         -nan         -nan         -nan         -nan         -nan         -nan         -nan         -nan         -nan         -nan         -nan         -nan         -nan         -nan         -nan         -nan         -nan         -nan         -nan         -nan         -nan         -nan         -nan         -nan         -nan         -nan         -nan         -nan         -nan\r\n",
      "        -nan         -nan         -nan         -nan         -nan         -nan         -nan         -nan         -nan         -nan         -nan         -nan         -nan         -nan         -nan         -nan         -nan         -nan         -nan         -nan         -nan         -nan         -nan         -nan         -nan         -nan         -nan         -nan         -nan         -nan         -nan         -nan         -nan         -nan         -nan\r\n",
      "        -nan         -nan         -nan         -nan         -nan         -nan         -nan         -nan         -nan         -nan         -nan         -nan         -nan         -nan         -nan         -nan         -nan         -nan         -nan         -nan         -nan         -nan         -nan         -nan         -nan         -nan         -nan         -nan         -nan         -nan         -nan         -nan         -nan         -nan         -nan\r\n",
      "        -nan         -nan         -nan         -nan         -nan         -nan         -nan         -nan         -nan         -nan         -nan         -nan         -nan         -nan         -nan         -nan         -nan         -nan         -nan         -nan         -nan         -nan         -nan         -nan         -nan         -nan         -nan         -nan         -nan         -nan         -nan         -nan         -nan         -nan         -nan\r\n",
      "        -nan         -nan         -nan         -nan         -nan         -nan         -nan         -nan         -nan         -nan         -nan         -nan         -nan         -nan         -nan         -nan         -nan         -nan         -nan         -nan         -nan         -nan         -nan         -nan         -nan         -nan         -nan         -nan         -nan         -nan         -nan         -nan         -nan         -nan         -nan\r\n",
      "        -nan         -nan         -nan         -nan         -nan         -nan         -nan         -nan         -nan         -nan         -nan         -nan         -nan         -nan         -nan         -nan         -nan         -nan         -nan         -nan         -nan         -nan         -nan         -nan         -nan         -nan         -nan         -nan         -nan         -nan         -nan         -nan         -nan         -nan         -nan\r\n",
      "        -nan         -nan         -nan         -nan         -nan         -nan         -nan         -nan         -nan         -nan         -nan         -nan         -nan         -nan         -nan         -nan         -nan         -nan         -nan         -nan         -nan         -nan         -nan         -nan         -nan         -nan         -nan         -nan         -nan         -nan         -nan         -nan         -nan         -nan         -nan\r\n",
      "        -nan         -nan         -nan         -nan         -nan         -nan         -nan         -nan         -nan         -nan         -nan         -nan         -nan         -nan         -nan         -nan         -nan         -nan         -nan         -nan         -nan         -nan         -nan         -nan         -nan         -nan         -nan         -nan         -nan         -nan         -nan         -nan         -nan         -nan         -nan\r\n",
      "        -nan         -nan         -nan         -nan         -nan         -nan         -nan         -nan         -nan         -nan         -nan         -nan         -nan         -nan         -nan         -nan         -nan         -nan         -nan         -nan         -nan         -nan         -nan         -nan         -nan         -nan         -nan         -nan         -nan         -nan         -nan         -nan         -nan         -nan         -nan\r\n",
      "        -nan         -nan         -nan         -nan         -nan         -nan         -nan         -nan         -nan         -nan         -nan         -nan         -nan         -nan         -nan         -nan         -nan         -nan         -nan         -nan         -nan         -nan         -nan         -nan          nan          nan          nan          nan          nan          nan          nan          nan          nan          nan          nan\r\n",
      "an error occurred:\r\n",
      "Small generalized eigenvalue problem failed.\r\n"
     ]
    }
   ],
   "source": [
    "!xtp_tools -c job_name=CO geometry_optimization.maxiter=1 dftpackage.basisset=3-21G dftpackage.auxbasisset=aux-def2-svp gwbse.gw.mode=G0W0 -e dftgwbse -t 4"
   ]
  },
  {
   "cell_type": "markdown",
   "metadata": {},
   "source": [
    "Notice that we are using 4 threads. The results will be stored in a file named `CO_summary.xml` in the current work directory, together with the optimization step in `optimisation.trj` and the orbitals in [hdf5 format](https://www.hdfgroup.org/solutions/hdf5/) saved on `CO.orb`."
   ]
  }
 ],
 "metadata": {
  "kernelspec": {
   "display_name": "Python 3",
   "language": "python",
   "name": "python3"
  },
  "language_info": {
   "codemirror_mode": {
    "name": "ipython",
    "version": 3
   },
   "file_extension": ".py",
   "mimetype": "text/x-python",
   "name": "python",
   "nbconvert_exporter": "python",
   "pygments_lexer": "ipython3",
   "version": "3.10.1"
  }
 },
 "nbformat": 4,
 "nbformat_minor": 4
}
