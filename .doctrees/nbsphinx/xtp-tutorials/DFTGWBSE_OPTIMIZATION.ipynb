{
 "cells": [
  {
   "cell_type": "markdown",
   "metadata": {},
   "source": [
    "## DFT + GWBSE Optimization Using CO"
   ]
  },
  {
   "cell_type": "markdown",
   "metadata": {},
   "source": [
    "## Introduction\n",
    "This tutorial explains how to perform a molecular geometric optimization using the **GWBSE** method. See [the GW Compendium: A Practical Guide to Theoretical Photoemission Spectroscopy](https://doi.org/10.3389/fchem.2019.00377), for an excellent introduction to the method."
   ]
  },
  {
   "cell_type": "markdown",
   "metadata": {},
   "source": [
    "## Requirements\n",
    "* You will need to install **VOTCA** using the instructions described [here](https://github.com/votca/votca/blob/master/share/doc/INSTALL.rst)\n",
    "* Once the installation is completed you need to activate the VOTCA enviroment by running the `VOTCARC.bash` script that has been installed at the bin subfolder for the path that you have provided for the installation step above"
   ]
  },
  {
   "cell_type": "markdown",
   "metadata": {},
   "source": [
    "## Preparing the input\n",
    "To run a DFT-GWBSE calculation we will use the [xtp_tools](https://www.votca.org/xtp/xtp_tools_overview.html) calculator."
   ]
  },
  {
   "cell_type": "markdown",
   "metadata": {},
   "source": [
    "we can now change the calculator mode from single point energy calculation to optimization as follows by adding \n",
    "`-c geometry_optimization.maxiter=1` which enables optimization with one iteration. "
   ]
  },
  {
   "cell_type": "markdown",
   "metadata": {},
   "source": [
    "Because geometry optimsation is quite expensive numerically we chose a smaller basisset and G0W0 Finally, to run the calculation we just need the following command (This still takes a while)"
   ]
  },
  {
   "cell_type": "code",
   "execution_count": 1,
   "metadata": {
    "execution": {
     "iopub.execute_input": "2021-07-15T16:40:54.388924Z",
     "iopub.status.busy": "2021-07-15T16:40:54.388397Z",
     "iopub.status.idle": "2021-07-15T16:41:30.408288Z",
     "shell.execute_reply": "2021-07-15T16:41:30.407123Z"
    }
   },
   "outputs": [
    {
     "name": "stdout",
     "output_type": "stream",
     "text": [
      "==================================================\r\n",
      "========   VOTCA (http://www.votca.org)   ========\r\n",
      "==================================================\r\n",
      "\r\n",
      "please submit bugs to https://github.com/votca/xtp/issues\r\n",
      "\r\n",
      "xtp_tools, version 2022-dev gitid: 62a2a62 (compiled Jul 15 2021, 16:32:00)\r\n",
      "votca_csg, version 2022-dev gitid: 62a2a62 (compiled Jul 15 2021, 16:17:42)\r\n",
      "votca_tools, version 2022-dev gitid: 62a2a62 (compiled Jul 15 2021, 16:15:18)\r\n",
      "\r\n",
      "Initializing tool\r\n",
      "... dftgwbse Evaluating tool\r\n",
      "... dftgwbse  Using 4 threads\r\n",
      "... ... Reading structure from CO.xyz\r\n",
      "... ... Requested geometry optimization of excited state s1\r\n",
      "... ... Initial state: s1\r\n",
      "... ... WARNING: No tracker is used \r\n",
      "... ... Convergence of total energy: 0.000001 Hartree \r\n",
      "... ... Convergence of RMS Force:    0.000030 Hartree/Bohr \r\n",
      "... ... Convergence of Max Force:    0.000100 Hartree/Bohr \r\n",
      "... ... Convergence of RMS Step:     0.000600 Bohr \r\n",
      "... ... Convergence of Max Step:     0.001000 Bohr \r\n",
      "... ... Initial trust radius:        0.018897 BohrA\r\n",
      "    0.307132 -3.06606e-11   1.7977e-10  5.20009e-10  2.32553e-11   -0.0516061  1.11691e-09 -1.03715e-09   -3.877e-10   -0.0181647  -0.00104247 -1.10482e-10    0.0104082     -0.03756 -2.00595e-11    0.0421019  2.08584e-10 -9.12165e-11 -3.57777e-10 -1.58921e-10   0.00047931    -0.108408  -1.8292e-10 -2.10395e-10          nan          nan          nan          nan          nan          nan          nan          nan          nan          nan          nan\r\n",
      "-3.06606e-11     0.307132  3.89215e-10  3.09457e-10   -0.0516061  2.32554e-11  -2.4518e-09  2.79204e-09  8.22073e-10  -0.00104247    0.0181647   3.8516e-10      0.03756    0.0104082    0.0421019 -2.00594e-11 -1.92237e-10 -6.61879e-12  5.01627e-10  6.18995e-10    -0.108408  -0.00047931 -1.68344e-11  1.60252e-10          nan          nan          nan          nan          nan          nan          nan          nan          nan          nan          nan\r\n",
      "  1.7977e-10  3.89215e-10     0.320606  -0.00928856 -1.39479e-11 -3.03676e-11   -0.0131844    0.0131844    0.0049165 -1.46112e-10  1.02591e-10   0.00209458  1.19254e-11  2.07358e-10  1.19209e-10  -7.5275e-12    0.0470496  -0.00129341   0.00255851    0.0152379 -9.89205e-10   3.1441e-10   -0.0254861    0.0214973          nan          nan          nan          nan          nan          nan          nan          nan          nan          nan          nan\r\n",
      " 5.20009e-10  3.09457e-10  -0.00928856     0.320606 -2.23022e-11 -4.35091e-10   -0.0131844    0.0131844    0.0049165 -1.66388e-10  1.48498e-10   0.00209458 -8.10261e-12  1.82453e-10  1.27705e-11  4.05405e-10   0.00129341   -0.0470496    0.0152379   0.00255851  -9.6525e-10 -2.05747e-10   -0.0254861   -0.0214973          nan          nan          nan          nan          nan          nan          nan          nan          nan          nan          nan\r\n",
      " 2.32553e-11   -0.0516061 -1.39479e-11 -2.23022e-11     0.490902 -2.84045e-12 -1.49002e-09   1.0853e-09  6.28856e-10  0.000771376    -0.013441  1.85913e-10   0.00770356   0.00213472    0.0309987  6.62335e-11 -4.61903e-11  3.03349e-10  2.07832e-10  6.14891e-11    0.0531267  0.000234892 -2.09531e-10 -7.93298e-11          nan          nan          nan          nan          nan          nan          nan          nan          nan          nan          nan\r\n",
      "  -0.0516061  2.32554e-11 -3.03676e-11 -4.35091e-10 -2.84042e-12     0.490902 -9.28443e-11  1.01199e-10  6.25159e-11     0.013441  0.000771376 -5.25106e-12   0.00213472  -0.00770356  6.62335e-11    0.0309987 -1.53586e-10  7.24283e-12  8.26888e-11  -1.7447e-10 -0.000234892    0.0531267 -4.45661e-11  9.57325e-11          nan          nan          nan          nan          nan          nan          nan          nan          nan          nan          nan\r\n",
      " 1.11691e-09  -2.4518e-09   -0.0131844   -0.0131844 -1.49002e-09 -9.28443e-11     0.549584    -0.219689   -0.0856685 -1.43419e-11 -7.24893e-10   -0.0364975 -8.31365e-10 -2.62372e-09  6.31711e-10  2.54389e-10    0.0113611   0.00131835     0.012697   -0.0330592  1.34032e-08 -8.27061e-09   0.00154668   0.00430222          nan          nan          nan          nan          nan          nan          nan          nan          nan          nan          nan\r\n",
      "-1.03715e-09  2.79204e-09    0.0131844    0.0131844   1.0853e-09  1.01199e-10    -0.219689     0.549584    0.0856685  6.02485e-11  7.45169e-10    0.0364975  8.56269e-10  2.60369e-09 -2.18778e-10  -1.4795e-10   0.00131835    0.0113611    0.0330592    -0.012697 -1.39168e-08   8.2431e-09  -0.00154668   0.00430221          nan          nan          nan          nan          nan          nan          nan          nan          nan          nan          nan\r\n",
      "  -3.877e-10  8.22073e-10    0.0049165    0.0049165  6.28856e-10  6.25159e-11   -0.0856685    0.0856685     0.662947  1.80022e-10  5.81848e-10  -0.00632525  2.92498e-10  7.02048e-10 -3.36776e-10 -9.71425e-11   -0.0013176    0.0013176    0.0038764    0.0038764 -4.33962e-09  3.05373e-09  -0.00112682 -1.02249e-09          nan          nan          nan          nan          nan          nan          nan          nan          nan          nan          nan\r\n",
      "  -0.0181647  -0.00104247 -1.46112e-10 -1.66388e-10  0.000771376     0.013441 -1.43419e-11  6.02485e-11  1.80022e-10     0.680922  -1.6009e-12 -8.83659e-11 -2.70934e-05  7.97091e-05 -0.000494857  -0.00862273 -3.86268e-10 -2.42266e-13 -8.09518e-11 -8.90854e-10   0.00216957    0.0409701 -6.68856e-10  5.75886e-10          nan          nan          nan          nan          nan          nan          nan          nan          nan          nan          nan\r\n",
      " -0.00104247    0.0181647  1.02591e-10  1.48498e-10    -0.013441  0.000771376 -7.24893e-10  7.45169e-10  5.81848e-10 -1.60086e-12     0.680922 -6.20484e-11   7.9709e-05  2.70934e-05   0.00862273 -0.000494857  4.18661e-12 -8.14089e-10 -3.77108e-10  9.40208e-12   -0.0409701   0.00216957  8.09474e-10  9.72162e-10          nan          nan          nan          nan          nan          nan          nan          nan          nan          nan          nan\r\n",
      "-1.10482e-10   3.8516e-10   0.00209458   0.00209458  1.85913e-10 -5.25106e-12   -0.0364975    0.0364975  -0.00632525 -8.83659e-11 -6.20484e-11      0.79826 -1.23037e-11  3.26472e-10  1.10193e-10 -5.77052e-11  -0.00465827   0.00465827    0.0137047    0.0137047 -1.73223e-09  9.75817e-10 -0.000446703 -4.43125e-10          nan          nan          nan          nan          nan          nan          nan          nan          nan          nan          nan\r\n",
      "   0.0104082      0.03756  1.19254e-11 -8.10261e-12   0.00770356   0.00213472 -8.31365e-10  8.56269e-10  2.92498e-10 -2.70934e-05   7.9709e-05 -1.23037e-11     0.956418 -4.29422e-11   -0.0126649  -0.00350955 -1.23827e-10  2.37462e-10  6.52756e-10  4.30387e-10    0.0192717   0.00543221  6.81081e-12 -4.14233e-11          nan          nan          nan          nan          nan          nan          nan          nan          nan          nan          nan\r\n",
      "    -0.03756    0.0104082  2.07358e-10  1.82453e-10   0.00213472  -0.00770356 -2.62372e-09  2.60369e-09  7.02048e-10  7.97091e-05  2.70934e-05  3.26472e-10 -4.29422e-11     0.956418  -0.00350955    0.0126649 -4.25169e-10  6.47538e-10   1.4916e-09  1.60523e-09   0.00543221   -0.0192717 -8.93193e-11 -1.14194e-10          nan          nan          nan          nan          nan          nan          nan          nan          nan          nan          nan\r\n",
      "-2.00595e-11    0.0421019  1.19209e-10  1.27705e-11    0.0309987  6.62335e-11  6.31711e-10 -2.18778e-10 -3.36776e-10 -0.000494857   0.00862273  1.10193e-10   -0.0126649  -0.00350955     0.988566  3.74556e-11 -2.92501e-11  1.10928e-10   -3.595e-11   6.1662e-11   -0.0223628 -9.88741e-05 -3.29957e-10 -1.47184e-10          nan          nan          nan          nan          nan          nan          nan          nan          nan          nan          nan\r\n",
      "   0.0421019 -2.00595e-11  -7.5275e-12  4.05405e-10  6.62335e-11    0.0309987  2.54389e-10  -1.4795e-10 -9.71425e-11  -0.00862273 -0.000494857 -5.77052e-11  -0.00350955    0.0126649  3.74556e-11     0.988566  7.17909e-12   9.0433e-11  -6.7604e-11 -1.49282e-10  9.88742e-05   -0.0223628 -1.73203e-10  1.57999e-10          nan          nan          nan          nan          nan          nan          nan          nan          nan          nan          nan\r\n",
      " 2.08584e-10 -1.92237e-10    0.0470496   0.00129341 -4.61903e-11 -1.53586e-10    0.0113611   0.00131835   -0.0013176 -3.86268e-10  4.18661e-12  -0.00465827 -1.23827e-10 -4.25169e-10 -2.92501e-11  7.17909e-12      1.03321  -0.00657277   -0.0132531   -0.0132531  8.26673e-10 -5.54134e-10  -0.00427465  0.000144863          nan          nan          nan          nan          nan          nan          nan          nan          nan          nan          nan\r\n",
      "-9.12165e-11 -6.61879e-12  -0.00129341   -0.0470496  3.03349e-10  7.24283e-12   0.00131835    0.0113611    0.0013176 -2.42266e-13 -8.14089e-10   0.00465827  2.37462e-10  6.47538e-10  1.10928e-10   9.0433e-11  -0.00657277      1.03321    0.0132531    0.0132531 -7.79911e-10   4.5227e-10   0.00427465  0.000144863          nan          nan          nan          nan          nan          nan          nan          nan          nan          nan          nan\r\n",
      "-3.57777e-10  5.01627e-10   0.00255851    0.0152379  2.07832e-10  8.26888e-11     0.012697    0.0330592    0.0038764 -8.09518e-11 -3.77108e-10    0.0137047  6.52756e-10   1.4916e-09   -3.595e-11  -6.7604e-11   -0.0132531    0.0132531       1.0677    0.0410588 -2.36658e-09  1.58705e-09  -0.00204459  7.27432e-05          nan          nan          nan          nan          nan          nan          nan          nan          nan          nan          nan\r\n",
      "-1.58921e-10  6.18995e-10    0.0152379   0.00255851  6.14891e-11  -1.7447e-10   -0.0330592    -0.012697    0.0038764 -8.90854e-10  9.40208e-12    0.0137047  4.30387e-10  1.60523e-09   6.1662e-11 -1.49282e-10   -0.0132531    0.0132531    0.0410588       1.0677 -2.46754e-09  1.53973e-09  -0.00204459 -7.27439e-05          nan          nan          nan          nan          nan          nan          nan          nan          nan          nan          nan\r\n",
      "-0.000332692    0.0752465  6.87809e-10  7.32727e-10   -0.0690159  0.000305144 -8.05767e-09  8.33526e-09  3.16319e-09  -0.00163692    0.0309115  1.54301e-09  -0.00866567  -0.00244264    0.0364086 -0.000160976 -5.59306e-10  5.58741e-10  1.77504e-09  1.77854e-09    -0.194424  2.21928e-10 -4.21885e-09 -1.96564e-09          nan          nan          nan          nan          nan          nan          nan          nan          nan          nan          nan\r\n",
      "   0.0752465  0.000332692  8.18704e-13  2.85139e-10 -0.000305144   -0.0690159  5.49108e-09 -5.53365e-09 -2.38424e-09   -0.0309115  -0.00163692 -8.87188e-10  -0.00244263   0.00866567  0.000160975    0.0364086  4.82124e-10 -4.77881e-10 -1.28078e-09 -1.27932e-09  2.21928e-10    -0.194424 -5.54334e-09  1.95434e-09          nan          nan          nan          nan          nan          nan          nan          nan          nan          nan          nan\r\n",
      " 5.99102e-10  5.29835e-10    -0.014189    -0.014189 -3.68885e-10 -5.51686e-10  -0.00432854   0.00432854   0.00131356 -1.02977e-09   1.0896e-09  0.000526669 -8.36153e-11  8.17667e-11  4.06936e-11   2.5166e-10  -0.00597514   0.00597514  -0.00150833  -0.00150833  -4.4294e-09 -5.45715e-09     0.958311    1.218e-08          nan          nan          nan          nan          nan          nan          nan          nan          nan          nan          nan\r\n",
      " -2.5172e-10  3.17767e-10  -0.00600861   0.00600861 -2.69571e-10 -1.66921e-10  -0.00085471 -0.000854707  4.91158e-10  4.66995e-10  9.25473e-10  3.20049e-10 -9.13214e-11 -2.26797e-10 -1.82342e-10  1.14766e-10   0.00464964   0.00464964  -0.00031898  0.000318981 -2.16237e-09  2.23609e-09  1.24315e-08    0.0899046          nan          nan          nan          nan          nan          nan          nan          nan          nan          nan          nan\r\n",
      "        -nan         -nan         -nan         -nan         -nan         -nan         -nan         -nan         -nan         -nan         -nan         -nan         -nan         -nan         -nan         -nan         -nan         -nan         -nan         -nan         -nan         -nan         -nan         -nan         -nan         -nan         -nan         -nan         -nan         -nan         -nan         -nan         -nan         -nan         -nan\r\n",
      "        -nan         -nan         -nan         -nan         -nan         -nan         -nan         -nan         -nan         -nan         -nan         -nan         -nan         -nan         -nan         -nan         -nan         -nan         -nan         -nan         -nan         -nan         -nan         -nan         -nan         -nan         -nan         -nan         -nan         -nan         -nan         -nan         -nan         -nan         -nan\r\n",
      "        -nan         -nan         -nan         -nan         -nan         -nan         -nan         -nan         -nan         -nan         -nan         -nan         -nan         -nan         -nan         -nan         -nan         -nan         -nan         -nan         -nan         -nan         -nan         -nan          nan          nan          nan          nan          nan          nan          nan          nan          nan          nan          nan\r\n",
      "        -nan         -nan         -nan         -nan         -nan         -nan         -nan         -nan         -nan         -nan         -nan         -nan         -nan         -nan         -nan         -nan         -nan         -nan         -nan         -nan         -nan         -nan         -nan         -nan          nan          nan          nan          nan          nan          nan          nan          nan          nan          nan          nan\r\n",
      "        -nan         -nan         -nan         -nan         -nan         -nan         -nan         -nan         -nan         -nan         -nan         -nan         -nan         -nan         -nan         -nan         -nan         -nan         -nan         -nan         -nan         -nan         -nan         -nan         -nan         -nan         -nan         -nan         -nan         -nan         -nan         -nan         -nan         -nan         -nan\r\n",
      "        -nan         -nan         -nan         -nan         -nan         -nan         -nan         -nan         -nan         -nan         -nan         -nan         -nan         -nan         -nan         -nan         -nan         -nan         -nan         -nan         -nan         -nan         -nan         -nan         -nan         -nan         -nan         -nan         -nan         -nan         -nan         -nan         -nan         -nan         -nan\r\n",
      "        -nan         -nan         -nan         -nan         -nan         -nan         -nan         -nan         -nan         -nan         -nan         -nan         -nan         -nan         -nan         -nan         -nan         -nan         -nan         -nan         -nan         -nan         -nan         -nan          nan          nan          nan          nan          nan          nan          nan          nan          nan          nan          nan\r\n",
      "        -nan         -nan         -nan         -nan         -nan         -nan         -nan         -nan         -nan         -nan         -nan         -nan         -nan         -nan         -nan         -nan         -nan         -nan         -nan         -nan         -nan         -nan         -nan         -nan          nan          nan          nan          nan          nan          nan          nan          nan          nan          nan          nan\r\n",
      "        -nan         -nan         -nan         -nan         -nan         -nan         -nan         -nan         -nan         -nan         -nan         -nan         -nan         -nan         -nan         -nan         -nan         -nan         -nan         -nan         -nan         -nan         -nan         -nan          nan          nan          nan         -nan          nan          nan          nan         -nan          nan          nan          nan\r\n",
      "        -nan         -nan         -nan         -nan         -nan         -nan         -nan         -nan         -nan         -nan         -nan         -nan         -nan         -nan         -nan         -nan         -nan         -nan         -nan         -nan         -nan         -nan         -nan         -nan          nan          nan          nan         -nan          nan          nan          nan         -nan          nan          nan          nan\r\n",
      "        -nan         -nan         -nan         -nan         -nan         -nan         -nan         -nan         -nan         -nan         -nan         -nan         -nan         -nan         -nan         -nan         -nan         -nan         -nan         -nan         -nan         -nan         -nan         -nan         -nan         -nan         -nan         -nan         -nan         -nan         -nan         -nan         -nan         -nan         -nan\r\n",
      "B\r\n",
      "    0.093811 -1.36271e-11  9.61278e-11  3.20827e-10  1.43016e-11   -0.0328898  4.68361e-10 -4.11392e-10  -2.3857e-10   -0.0155316 -0.000891357 -6.35591e-11    0.0129059   -0.0465735 -2.33057e-11    0.0481429  2.59321e-10 -1.01748e-10 -3.59508e-10 -8.39435e-11  0.000111011   -0.0251078  4.90451e-10 -3.81824e-10         -nan         -nan         -nan         -nan         -nan         -nan         -nan         -nan         -nan         -nan         -nan\r\n",
      "-1.36271e-11     0.093811  2.01313e-10  1.44345e-10   -0.0328898  1.43016e-11 -9.67693e-10  1.19239e-09  5.07296e-10 -0.000891357    0.0155316  2.54837e-10    0.0465735    0.0129059    0.0481429 -2.33056e-11 -1.65026e-10 -1.10539e-10  4.29872e-10  5.87445e-10   -0.0251078 -0.000111011  5.38584e-10  4.29611e-10         -nan         -nan         -nan         -nan         -nan         -nan         -nan         -nan         -nan         -nan         -nan\r\n",
      " 9.61278e-11  2.01313e-10     0.105871  -0.00531087 -1.86188e-11  -2.5873e-11   -0.0066792    0.0066792   0.00361541 -1.36138e-10  8.75965e-11   0.00164232  2.40108e-11  2.30154e-10  1.50954e-10 -1.30791e-11    0.0640477   -0.0017097   0.00245711    0.0197315 -7.99802e-11  1.94548e-10   -0.0418868    0.0157306         -nan         -nan         -nan         -nan         -nan         -nan         -nan         -nan         -nan         -nan         -nan\r\n",
      " 3.20827e-10  1.44345e-10  -0.00531087     0.105871 -2.21735e-11 -3.15386e-10   -0.0066792    0.0066792   0.00361541 -1.60332e-10   1.3017e-10   0.00164232 -2.83037e-12   1.9328e-10  9.15762e-12  5.05882e-10    0.0017097   -0.0640477    0.0197315   0.00245711 -5.38914e-12 -4.78736e-11   -0.0418868   -0.0157306         -nan         -nan         -nan         -nan         -nan         -nan         -nan         -nan         -nan         -nan         -nan\r\n",
      " 1.43016e-11   -0.0328898 -1.86188e-11 -2.21735e-11     0.240891 -6.67518e-13 -9.44031e-10  6.54518e-10    5.494e-10  0.000828954   -0.0144443  1.60931e-10   0.00881137    0.0024417    0.0441772  9.20705e-11  -4.1059e-11  4.25161e-10  2.14904e-10  1.14858e-11  -0.00438142 -1.93718e-05 -5.21198e-10 -2.73545e-10         -nan         -nan         -nan         -nan         -nan         -nan         -nan         -nan         -nan         -nan         -nan\r\n",
      "  -0.0328898  1.43016e-11  -2.5873e-11 -3.15386e-10 -6.67479e-13     0.240891 -4.36933e-11  4.72481e-11  4.46594e-11    0.0144443  0.000828954 -1.06095e-11    0.0024417  -0.00881137  9.20705e-11    0.0441772 -2.22802e-10  1.93833e-11  1.02543e-10  -2.8156e-10  1.93718e-05  -0.00438142 -4.88392e-10 -1.05189e-10         -nan         -nan         -nan         -nan         -nan         -nan         -nan         -nan         -nan         -nan         -nan\r\n",
      " 4.68361e-10 -9.67693e-10   -0.0066792   -0.0066792 -9.44031e-10 -4.36933e-11     0.221871    -0.110689   -0.0629974 -1.79241e-11 -5.48433e-10    -0.028617  -9.9784e-10 -2.90226e-09  7.94491e-10  2.58562e-10    0.0100911   0.00718327    0.0330796   -0.0292584  1.48721e-09 -5.30485e-10  -0.00289893   0.00349226         -nan         -nan         -nan         -nan         -nan         -nan         -nan         -nan         -nan         -nan         -nan\r\n",
      "-4.11392e-10  1.19239e-09    0.0066792    0.0066792  6.54518e-10  4.72481e-11    -0.110689     0.221871    0.0629974  6.04974e-11  5.72627e-10     0.028617  1.03471e-09  2.87542e-09 -2.75529e-10 -1.16766e-10   0.00718327    0.0100911    0.0292584   -0.0330795 -1.72926e-09  4.54721e-10   0.00289893   0.00349226         -nan         -nan         -nan         -nan         -nan         -nan         -nan         -nan         -nan         -nan         -nan\r\n",
      " -2.3857e-10  5.07296e-10   0.00361541   0.00361541    5.494e-10  4.46594e-11   -0.0629974    0.0629974     0.429278  2.30996e-10  6.84381e-10   -0.0121538  4.21038e-10  8.97992e-10 -4.70452e-10  -1.2988e-10  6.21182e-06 -6.21184e-06 -1.82753e-05 -1.82753e-05 -1.01344e-09  6.37884e-10 -5.57566e-05 -2.31946e-10         -nan         -nan         -nan         -nan         -nan         -nan         -nan         -nan         -nan         -nan         -nan\r\n",
      "  -0.0155316 -0.000891357 -1.36138e-10 -1.60332e-10  0.000828954    0.0144443 -1.79241e-11  6.04974e-11  2.30996e-10     0.463967 -2.13793e-12 -1.17868e-10 -0.000208152  0.000612384 -0.000594468   -0.0103584  -6.6265e-10  5.04107e-12 -1.34045e-10 -1.50717e-09  0.000937835      0.01771 -1.63365e-09  1.05197e-09         -nan         -nan         -nan         -nan         -nan         -nan         -nan         -nan         -nan         -nan         -nan\r\n",
      "-0.000891357    0.0155316  8.75965e-11   1.3017e-10   -0.0144443  0.000828954 -5.48433e-10  5.72627e-10  6.84381e-10 -2.13787e-12     0.463967 -1.23373e-10  0.000612384  0.000208152    0.0103584 -0.000594468  2.66574e-11 -1.39978e-09 -6.96572e-10 -3.89632e-11     -0.01771  0.000937835  1.78282e-09  1.78153e-09         -nan         -nan         -nan         -nan         -nan         -nan         -nan         -nan         -nan         -nan         -nan\r\n",
      "-6.35591e-11  2.54837e-10   0.00164232   0.00164232  1.60931e-10 -1.06095e-11    -0.028617     0.028617   -0.0121538 -1.17868e-10 -1.23373e-10     0.636067 -4.97687e-11   4.0907e-10  1.95664e-10 -8.28179e-11  -0.00673527   0.00673527    0.0198152    0.0198152 -9.92512e-11  2.31885e-12 -4.39585e-05 -2.28427e-11         -nan         -nan         -nan         -nan         -nan         -nan         -nan         -nan         -nan         -nan         -nan\r\n",
      "   0.0129059    0.0465735  2.40108e-11 -2.83037e-12   0.00881137    0.0024417  -9.9784e-10  1.03471e-09  4.21038e-10 -0.000208152  0.000612384 -4.97687e-11     0.917068 -7.52869e-11   -0.0214819   -0.0059528 -2.20542e-10  4.53256e-10  1.22508e-09  7.72928e-10    0.0223743   0.00630674 -1.02116e-10 -1.67942e-10         -nan         -nan         -nan         -nan         -nan         -nan         -nan         -nan         -nan         -nan         -nan\r\n",
      "  -0.0465735    0.0129059  2.30154e-10   1.9328e-10    0.0024417  -0.00881137 -2.90226e-09  2.87542e-09  8.97992e-10  0.000612384  0.000208152   4.0907e-10 -7.52869e-11     0.917068   -0.0059528    0.0214819 -7.42739e-10  1.19489e-09  2.67335e-09  2.90606e-09   0.00630674   -0.0223743 -6.28548e-11 -4.01175e-10         -nan         -nan         -nan         -nan         -nan         -nan         -nan         -nan         -nan         -nan         -nan\r\n",
      "-2.33057e-11    0.0481429  1.50954e-10  9.15762e-12    0.0441772  9.20704e-11  7.94491e-10 -2.75529e-10 -4.70452e-10 -0.000594468    0.0103584  1.95664e-10   -0.0214819   -0.0059528     0.981535  7.21998e-11 -5.43191e-11  1.86567e-10 -5.46667e-11  1.35499e-10   0.00424838  1.87836e-05  -2.6119e-10 -2.67741e-10         -nan         -nan         -nan         -nan         -nan         -nan         -nan         -nan         -nan         -nan         -nan\r\n",
      "   0.0481429 -2.33056e-11 -1.30791e-11  5.05882e-10  9.20705e-11    0.0441772  2.58562e-10 -1.16766e-10  -1.2988e-10   -0.0103584 -0.000594468 -8.28179e-11   -0.0059528    0.0214819  7.21998e-11     0.981535  2.95857e-11   1.6058e-10  -1.0957e-10 -2.41818e-10 -1.87836e-05   0.00424838  1.75268e-10  2.92863e-10         -nan         -nan         -nan         -nan         -nan         -nan         -nan         -nan         -nan         -nan         -nan\r\n",
      " 2.59321e-10 -1.65026e-10    0.0640477    0.0017097  -4.1059e-11 -2.22802e-10    0.0100911   0.00718327  6.21182e-06  -6.6265e-10  2.66574e-11  -0.00673527 -2.20542e-10 -7.42739e-10 -5.43191e-11  2.95857e-11      1.06909   -0.0128221   -0.0247654   -0.0247654   3.9515e-10 -2.11072e-10   -0.0150495   0.00650639         -nan         -nan         -nan         -nan         -nan         -nan         -nan         -nan         -nan         -nan         -nan\r\n",
      "-1.01748e-10 -1.10539e-10   -0.0017097   -0.0640477  4.25161e-10  1.93833e-11   0.00718327    0.0100911 -6.21184e-06  5.04107e-12 -1.39978e-09   0.00673527  4.53256e-10  1.19489e-09  1.86567e-10   1.6058e-10   -0.0128221      1.06909    0.0247654    0.0247654 -2.19597e-10  -7.7209e-13    0.0150495   0.00650639         -nan         -nan         -nan         -nan         -nan         -nan         -nan         -nan         -nan         -nan         -nan\r\n",
      "-3.59508e-10  4.29872e-10   0.00245711    0.0197315  2.14904e-10  1.02543e-10    0.0330796    0.0292584 -1.82753e-05 -1.34045e-10 -6.96572e-10    0.0198152  1.22508e-09  2.67335e-09 -5.46667e-11  -1.0957e-10   -0.0247654    0.0247654      1.13353    0.0772643 -8.79279e-10  5.99922e-10  -0.00545567 -0.000300764         -nan         -nan         -nan         -nan         -nan         -nan         -nan         -nan         -nan         -nan         -nan\r\n",
      "-8.39435e-11  5.87445e-10    0.0197315   0.00245711  1.14858e-11  -2.8156e-10   -0.0292584   -0.0330795 -1.82753e-05 -1.50717e-09 -3.89632e-11    0.0198152  7.72928e-10  2.90606e-09  1.35499e-10 -2.41818e-10   -0.0247654    0.0247654    0.0772643      1.13353 -1.09035e-09  4.24545e-10  -0.00545567  0.000300764         -nan         -nan         -nan         -nan         -nan         -nan         -nan         -nan         -nan         -nan         -nan\r\n",
      " 0.000253595   -0.0573567 -4.73454e-10 -4.21495e-10  -0.00347861  1.53802e-05  7.51702e-09 -7.82067e-09  -1.2041e-09  0.000539676   -0.0101912 -2.34292e-10    0.0179419   0.00505738    0.0191591 -8.47095e-05  9.06785e-11 -7.11683e-11  1.66103e-10 -5.08769e-12     0.600541  2.22385e-10 -3.19293e-09 -2.11661e-09         -nan         -nan         -nan         -nan         -nan         -nan         -nan         -nan         -nan         -nan         -nan\r\n",
      "  -0.0573567 -0.000253595  3.45403e-10  4.25939e-11 -1.53802e-05  -0.00347861 -4.34624e-09  4.29287e-09   7.1741e-10    0.0101912  0.000539676  1.52094e-10   0.00505738   -0.0179419  8.47095e-05    0.0191591  1.00939e-10 -2.71835e-10 -3.20661e-11 -5.07644e-11  2.22385e-10     0.600541 -5.04334e-09  3.01606e-09         -nan         -nan         -nan         -nan         -nan         -nan         -nan         -nan         -nan         -nan         -nan\r\n",
      " 1.98159e-10  3.36982e-10   -0.0423676   -0.0423676 -5.91196e-10 -4.72938e-10  -0.00286794   0.00286794  0.000439315 -1.50209e-09  1.61585e-09  0.000214915 -5.05514e-11 -4.23304e-11 -3.64381e-10  1.53285e-10   -0.0160895    0.0160895  -0.00534424  -0.00534424 -3.64982e-09 -5.04749e-09      1.98482  1.57326e-08         -nan         -nan         -nan         -nan         -nan         -nan         -nan         -nan         -nan         -nan         -nan\r\n",
      "-4.32307e-10   4.0715e-10    0.0177414   -0.0177414 -2.56554e-10   -6.402e-11   0.00395801     0.003958 -7.71138e-10  9.86887e-10  1.75267e-09 -2.34597e-10 -1.75412e-10 -4.57034e-10 -2.96799e-10  3.03187e-10   0.00780649   0.00780649  -0.00043432   0.00043432 -2.49992e-09  3.33964e-09   1.5983e-08     0.772066         -nan         -nan         -nan         -nan         -nan         -nan         -nan         -nan         -nan         -nan         -nan\r\n",
      "        -nan         -nan         -nan         -nan         -nan         -nan         -nan         -nan         -nan         -nan         -nan         -nan         -nan         -nan         -nan         -nan         -nan         -nan         -nan         -nan         -nan         -nan         -nan         -nan         -nan         -nan         -nan         -nan         -nan         -nan         -nan         -nan         -nan         -nan         -nan\r\n",
      "        -nan         -nan         -nan         -nan         -nan         -nan         -nan         -nan         -nan         -nan         -nan         -nan         -nan         -nan         -nan         -nan         -nan         -nan         -nan         -nan         -nan         -nan         -nan         -nan         -nan         -nan         -nan         -nan         -nan         -nan         -nan         -nan         -nan         -nan         -nan\r\n",
      "        -nan         -nan         -nan         -nan         -nan         -nan         -nan         -nan         -nan         -nan         -nan         -nan         -nan         -nan         -nan         -nan         -nan         -nan         -nan         -nan         -nan         -nan         -nan         -nan         -nan         -nan         -nan         -nan         -nan         -nan         -nan         -nan         -nan         -nan         -nan\r\n",
      "        -nan         -nan         -nan         -nan         -nan         -nan         -nan         -nan         -nan         -nan         -nan         -nan         -nan         -nan         -nan         -nan         -nan         -nan         -nan         -nan         -nan         -nan         -nan         -nan         -nan         -nan         -nan         -nan         -nan         -nan         -nan         -nan         -nan         -nan         -nan\r\n",
      "        -nan         -nan         -nan         -nan         -nan         -nan         -nan         -nan         -nan         -nan         -nan         -nan         -nan         -nan         -nan         -nan         -nan         -nan         -nan         -nan         -nan         -nan         -nan         -nan         -nan         -nan         -nan         -nan         -nan         -nan         -nan         -nan         -nan         -nan         -nan\r\n",
      "        -nan         -nan         -nan         -nan         -nan         -nan         -nan         -nan         -nan         -nan         -nan         -nan         -nan         -nan         -nan         -nan         -nan         -nan         -nan         -nan         -nan         -nan         -nan         -nan         -nan         -nan         -nan         -nan         -nan         -nan         -nan         -nan         -nan         -nan         -nan\r\n",
      "        -nan         -nan         -nan         -nan         -nan         -nan         -nan         -nan         -nan         -nan         -nan         -nan         -nan         -nan         -nan         -nan         -nan         -nan         -nan         -nan         -nan         -nan         -nan         -nan         -nan         -nan         -nan         -nan         -nan         -nan         -nan         -nan         -nan         -nan         -nan\r\n",
      "        -nan         -nan         -nan         -nan         -nan         -nan         -nan         -nan         -nan         -nan         -nan         -nan         -nan         -nan         -nan         -nan         -nan         -nan         -nan         -nan         -nan         -nan         -nan         -nan         -nan         -nan         -nan         -nan         -nan         -nan         -nan         -nan         -nan         -nan         -nan\r\n",
      "        -nan         -nan         -nan         -nan         -nan         -nan         -nan         -nan         -nan         -nan         -nan         -nan         -nan         -nan         -nan         -nan         -nan         -nan         -nan         -nan         -nan         -nan         -nan         -nan         -nan         -nan         -nan         -nan         -nan         -nan         -nan         -nan         -nan         -nan         -nan\r\n",
      "        -nan         -nan         -nan         -nan         -nan         -nan         -nan         -nan         -nan         -nan         -nan         -nan         -nan         -nan         -nan         -nan         -nan         -nan         -nan         -nan         -nan         -nan         -nan         -nan         -nan         -nan         -nan         -nan         -nan         -nan         -nan         -nan         -nan         -nan         -nan\r\n",
      "        -nan         -nan         -nan         -nan         -nan         -nan         -nan         -nan         -nan         -nan         -nan         -nan         -nan         -nan         -nan         -nan         -nan         -nan         -nan         -nan         -nan         -nan         -nan         -nan          nan          nan          nan          nan          nan          nan          nan          nan          nan          nan          nan\r\n",
      "an error occurred:\r\n",
      "Small generalized eigenvalue problem failed.\r\n"
     ]
    }
   ],
   "source": [
    "!xtp_tools -c job_name=CO geometry_optimization.maxiter=1 dftpackage.basisset=3-21G dftpackage.auxbasisset=aux-def2-svp gwbse.gw.mode=G0W0 -e dftgwbse -t 4"
   ]
  },
  {
   "cell_type": "markdown",
   "metadata": {},
   "source": [
    "Notice that we are using 4 threads. The results will be stored in a file named `CO_summary.xml` in the current work directory, together with the optimization step in `optimisation.trj` and the orbitals in [hdf5 format](https://www.hdfgroup.org/solutions/hdf5/) saved on `CO.orb`."
   ]
  }
 ],
 "metadata": {
  "kernelspec": {
   "display_name": "Python 3",
   "language": "python",
   "name": "python3"
  },
  "language_info": {
   "codemirror_mode": {
    "name": "ipython",
    "version": 3
   },
   "file_extension": ".py",
   "mimetype": "text/x-python",
   "name": "python",
   "nbconvert_exporter": "python",
   "pygments_lexer": "ipython3",
   "version": "3.9.6"
  }
 },
 "nbformat": 4,
 "nbformat_minor": 4
}
