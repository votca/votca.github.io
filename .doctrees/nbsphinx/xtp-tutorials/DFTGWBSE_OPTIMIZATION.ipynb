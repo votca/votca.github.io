{
 "cells": [
  {
   "cell_type": "markdown",
   "metadata": {},
   "source": [
    "## DFT + GWBSE Optimization Using CO"
   ]
  },
  {
   "cell_type": "markdown",
   "metadata": {},
   "source": [
    "## Introduction\n",
    "This tutorial explains how to perform a molecular geometric optimization using the **GWBSE** method. See [the GW Compendium: A Practical Guide to Theoretical Photoemission Spectroscopy](https://doi.org/10.3389/fchem.2019.00377), for an excellent introduction to the method."
   ]
  },
  {
   "cell_type": "markdown",
   "metadata": {},
   "source": [
    "## Requirements\n",
    "* You will need to install **VOTCA** using the instructions described [here](https://github.com/votca/votca/blob/master/share/doc/INSTALL.rst)\n",
    "* Once the installation is completed you need to activate the VOTCA enviroment by running the `VOTCARC.bash` script that has been installed at the bin subfolder for the path that you have provided for the installation step above"
   ]
  },
  {
   "cell_type": "markdown",
   "metadata": {},
   "source": [
    "## Preparing the input\n",
    "To run a DFT-GWBSE calculation we will use the [xtp_tools](https://www.votca.org/xtp/xtp_tools_overview.html) calculator."
   ]
  },
  {
   "cell_type": "markdown",
   "metadata": {},
   "source": [
    "we can now change the calculator mode from single point energy calculation to optimization as follows by adding \n",
    "`-c geometry_optimization.maxiter=1` which enables optimization with one iteration. "
   ]
  },
  {
   "cell_type": "markdown",
   "metadata": {},
   "source": [
    "Because geometry optimsation is quite expensive numerically we chose a smaller basisset and G0W0 Finally, to run the calculation we just need the following command (This still takes a while)"
   ]
  },
  {
   "cell_type": "code",
   "execution_count": 1,
   "metadata": {
    "execution": {
     "iopub.execute_input": "2022-07-22T06:34:49.456356Z",
     "iopub.status.busy": "2022-07-22T06:34:49.455617Z",
     "iopub.status.idle": "2022-07-22T06:35:42.128645Z",
     "shell.execute_reply": "2022-07-22T06:35:42.129093Z"
    }
   },
   "outputs": [
    {
     "name": "stdout",
     "output_type": "stream",
     "text": [
      "==================================================\r\n",
      "========   VOTCA (http://www.votca.org)   ========\r\n",
      "==================================================\r\n",
      "\r\n",
      "please submit bugs to https://github.com/votca/xtp/issues\r\n",
      "\r\n",
      "xtp_tools, version 2023-dev gitid: 97a4ed8 (compiled Jul 22 2022, 06:22:34)\r\n",
      "votca_csg, version 2023-dev gitid: 97a4ed8 (compiled Jul 22 2022, 05:59:27)\r\n",
      "votca_tools, version 2023-dev gitid: 97a4ed8 (compiled Jul 22 2022, 05:55:19)\r\n",
      "\r\n",
      "Initializing tool\r\n",
      "... dftgwbse Evaluating tool\r\n",
      "... dftgwbse  Using 4 threads\r\n",
      "... ... Reading structure from CO.xyz\r\n",
      "... ... Requested geometry optimization of excited state s1\r\n",
      "... ... Initial state: s1\r\n",
      "... ... WARNING: No tracker is used \r\n",
      "... ... Convergence of total energy: 0.000001 Hartree \r\n",
      "... ... Convergence of RMS Force:    0.000030 Hartree/Bohr \r\n",
      "... ... Convergence of Max Force:    0.000100 Hartree/Bohr \r\n",
      "... ... Convergence of RMS Step:     0.000600 Bohr \r\n",
      "... ... Convergence of Max Step:     0.001000 Bohr \r\n",
      "... ... Initial trust radius:        0.018897 BohrA\r\n",
      "    0.307132  3.06836e-11  1.79728e-10 -5.19966e-10 -2.32688e-11   -0.0516061  1.11702e-09  1.03726e-09  3.87733e-10   -0.0181646  -0.00104294  1.10497e-10    0.0103712   -0.0375703  2.00707e-11    0.0421019 -2.08437e-10  9.08764e-11  3.57886e-10  1.59145e-10  0.000478714    -0.108408 -1.82925e-10          nan          nan          nan          nan          nan          nan          nan          nan          nan          nan          nan          nan\r\n",
      " 3.06836e-11     0.307132   -3.893e-10  3.09538e-10   -0.0516061 -2.32688e-11  2.45175e-09  2.79199e-09  8.22058e-10   0.00104294   -0.0181646  3.85156e-10   -0.0375703   -0.0103712    0.0421019  2.00707e-11 -1.91637e-10 -7.10433e-12  5.01609e-10   6.1917e-10     0.108408  0.000478714  1.68547e-11          nan          nan          nan          nan          nan          nan          nan          nan          nan          nan          nan          nan\r\n",
      " 1.79728e-10   -3.893e-10     0.320607   0.00928787  1.39261e-11 -3.03644e-11   -0.0131904   -0.0131904  -0.00491873 -1.46108e-10  1.02613e-10  -0.00209553  1.21439e-11  2.07414e-10 -1.19209e-10 -7.53467e-12   -0.0470642   0.00129556  -0.00255813   -0.0151925 -9.89566e-10  3.14672e-10   -0.0254864          nan          nan          nan          nan          nan          nan          nan          nan          nan          nan          nan          nan\r\n",
      "-5.19966e-10  3.09538e-10   0.00928787     0.320607 -2.22752e-11  4.35089e-10    0.0131904    0.0131904   0.00491873  1.66386e-10  -1.4852e-10   0.00209553  7.90899e-12 -1.82529e-10  1.27644e-11 -4.05396e-10   0.00129556   -0.0470642    0.0151925   0.00255813  9.65606e-10  2.05484e-10    0.0254864          nan          nan          nan          nan          nan          nan          nan          nan          nan          nan          nan          nan\r\n",
      "-2.32688e-11   -0.0516061  1.39261e-11 -2.22752e-11     0.490902  2.84601e-12  1.49002e-09   1.0853e-09  6.28858e-10 -0.000771726     0.013441  1.85912e-10  -0.00770566  -0.00212714    0.0309987 -6.62756e-11 -4.61357e-11  3.03152e-10  2.08122e-10  6.15301e-11   -0.0531267   -0.0002346  2.09574e-10          nan          nan          nan          nan          nan          nan          nan          nan          nan          nan          nan          nan\r\n",
      "  -0.0516061 -2.32688e-11 -3.03644e-11  4.35089e-10  2.84599e-12     0.490902  -9.2798e-11 -1.01147e-10 -6.24894e-11     0.013441  0.000771726  5.25885e-12   0.00212714  -0.00770566 -6.62756e-11    0.0309987  1.53747e-10 -7.15486e-12 -8.26889e-11  1.74327e-10   -0.0002346    0.0531267 -4.45482e-11          nan          nan          nan          nan          nan          nan          nan          nan          nan          nan          nan          nan\r\n",
      " 1.11702e-09  2.45175e-09   -0.0131904    0.0131904  1.49002e-09  -9.2798e-11     0.549583     0.219688    0.0856684 -1.43567e-11 -7.24889e-10    0.0364974 -8.33842e-10 -2.62293e-09  -6.3172e-10  2.54379e-10   -0.0113294  -0.00130496   -0.0126987      0.03307  1.34028e-08 -8.27124e-09   0.00155039          nan          nan          nan          nan          nan          nan          nan          nan          nan          nan          nan          nan\r\n",
      " 1.03726e-09  2.79199e-09   -0.0131904    0.0131904   1.0853e-09 -1.01147e-10     0.219688     0.549583    0.0856684 -6.02632e-11 -7.45167e-10    0.0364974 -8.58727e-10 -2.60287e-09 -2.18789e-10  1.47934e-10   0.00130496    0.0113294      0.03307   -0.0126987  1.39165e-08 -8.24373e-09   0.00155039          nan          nan          nan          nan          nan          nan          nan          nan          nan          nan          nan          nan\r\n",
      " 3.87733e-10  8.22058e-10  -0.00491873   0.00491873  6.28858e-10 -6.24894e-11    0.0856684    0.0856684     0.662947  -1.8003e-10 -5.81846e-10  -0.00632525  -2.9316e-10 -7.01772e-10  -3.3678e-10   9.7129e-11  -0.00131389   0.00131389   0.00387766   0.00387766  4.33948e-09 -3.05393e-09   0.00112847          nan          nan          nan          nan          nan          nan          nan          nan          nan          nan          nan          nan\r\n",
      "  -0.0181646   0.00104294 -1.46108e-10  1.66386e-10 -0.000771726     0.013441 -1.43567e-11 -6.02632e-11  -1.8003e-10     0.680922 -1.60336e-12  8.83668e-11  -2.7017e-05   7.9735e-05  0.000495081  -0.00862272   3.8711e-10  1.64885e-13  8.09521e-11  8.90489e-10   0.00217087    0.0409701 -6.68835e-10          nan          nan          nan          nan          nan          nan          nan          nan          nan          nan          nan          nan\r\n",
      " -0.00104294   -0.0181646  1.02613e-10  -1.4852e-10     0.013441  0.000771726 -7.24889e-10 -7.45167e-10 -5.81846e-10 -1.60338e-12     0.680922  6.20471e-11   7.9735e-05   2.7017e-05  -0.00862272 -0.000495081  -4.1957e-12  8.13733e-10  3.77876e-10 -9.39912e-12   -0.0409701   0.00217087  8.09483e-10          nan          nan          nan          nan          nan          nan          nan          nan          nan          nan          nan          nan\r\n",
      " 1.10497e-10  3.85156e-10  -0.00209553   0.00209553  1.85912e-10  5.25885e-12    0.0364974    0.0364974  -0.00632525  8.83668e-11  6.20471e-11      0.79826  1.19954e-11 -3.26483e-10   1.1019e-10  5.77097e-11  -0.00464514   0.00464514    0.0137092    0.0137092  1.73218e-09 -9.75896e-10  0.000447387          nan          nan          nan          nan          nan          nan          nan          nan          nan          nan          nan          nan\r\n",
      "   0.0103712   -0.0375703  1.21439e-11  7.90899e-12  -0.00770566   0.00212714 -8.33842e-10 -8.58727e-10  -2.9316e-10  -2.7017e-05   7.9735e-05  1.19954e-11     0.956418 -4.28361e-11    0.0126684  -0.00349709  1.23811e-10  -2.3745e-10 -6.54389e-10 -4.32022e-10    0.0192771   0.00541315  6.71055e-12          nan          nan          nan          nan          nan          nan          nan          nan          nan          nan          nan          nan\r\n",
      "  -0.0375703   -0.0103712  2.07414e-10 -1.82529e-10  -0.00212714  -0.00770566 -2.62293e-09 -2.60287e-09 -7.01772e-10   7.9735e-05   2.7017e-05 -3.26483e-10 -4.28361e-11     0.956418   0.00349709    0.0126684  4.23516e-10 -6.45883e-10  -1.4916e-09 -1.60523e-09   0.00541315   -0.0192771 -8.93647e-11          nan          nan          nan          nan          nan          nan          nan          nan          nan          nan          nan          nan\r\n",
      " 2.00707e-11    0.0421019 -1.19209e-10  1.27644e-11    0.0309987 -6.62756e-11  -6.3172e-10 -2.18789e-10  -3.3678e-10  0.000495081  -0.00862272   1.1019e-10    0.0126684   0.00349709     0.988566 -3.74739e-11 -2.91922e-11  1.10965e-10 -3.58477e-11   6.1685e-11    0.0223628  9.87512e-05  3.29946e-10          nan          nan          nan          nan          nan          nan          nan          nan          nan          nan          nan          nan\r\n",
      "   0.0421019  2.00707e-11 -7.53467e-12 -4.05396e-10 -6.62756e-11    0.0309987  2.54379e-10  1.47934e-10   9.7129e-11  -0.00862272 -0.000495081  5.77097e-11  -0.00349709    0.0126684  -3.7474e-11     0.988566 -7.03824e-12 -9.04945e-11  6.75172e-11   1.4929e-10  9.87512e-05   -0.0223628 -1.73189e-10          nan          nan          nan          nan          nan          nan          nan          nan          nan          nan          nan          nan\r\n",
      "-2.08437e-10 -1.91637e-10   -0.0470642   0.00129556 -4.61357e-11  1.53747e-10   -0.0113294   0.00130496  -0.00131389   3.8711e-10  -4.1957e-12  -0.00464514  1.23811e-10  4.23516e-10 -2.91922e-11 -7.03824e-12      1.03319  -0.00654741     -0.01322     -0.01322 -8.24283e-10  5.52694e-10   0.00427667          nan          nan          nan          nan          nan          nan          nan          nan          nan          nan          nan          nan\r\n",
      " 9.08764e-11 -7.10433e-12   0.00129556   -0.0470642  3.03152e-10 -7.15486e-12  -0.00130496    0.0113294   0.00131389  1.64885e-13  8.13733e-10   0.00464514  -2.3745e-10 -6.45883e-10  1.10965e-10 -9.04945e-11  -0.00654741      1.03319      0.01322      0.01322   7.7762e-10 -4.50784e-10  -0.00427667          nan          nan          nan          nan          nan          nan          nan          nan          nan          nan          nan          nan\r\n",
      " 3.57886e-10  5.01609e-10  -0.00255813    0.0151925  2.08122e-10 -8.26889e-11   -0.0126987      0.03307   0.00387766  8.09521e-11  3.77876e-10    0.0137092 -6.54389e-10  -1.4916e-09 -3.58477e-11  6.75172e-11     -0.01322      0.01322      1.06772    0.0410841  2.36725e-09 -1.58759e-09   0.00204032          nan          nan          nan          nan          nan          nan          nan          nan          nan          nan          nan          nan\r\n",
      " 1.59145e-10   6.1917e-10   -0.0151925   0.00255813  6.15301e-11  1.74327e-10      0.03307   -0.0126987   0.00387766  8.90489e-10 -9.39912e-12    0.0137092 -4.32022e-10 -1.60523e-09   6.1685e-11   1.4929e-10     -0.01322      0.01322    0.0410841      1.06772  2.46826e-09 -1.54037e-09   0.00204032          nan          nan          nan          nan          nan          nan          nan          nan          nan          nan          nan          nan\r\n",
      "-0.000332278   -0.0752466  6.88028e-10 -7.32944e-10    0.0690159  0.000304765 -8.05742e-09 -8.33501e-09 -3.16309e-09   -0.0016379    0.0309115 -1.54297e-09  -0.00866809  -0.00243406   -0.0364086 -0.000160775   5.5758e-10 -5.57019e-10 -1.77551e-09 -1.77901e-09    -0.194424  2.22163e-10 -4.21882e-09          nan          nan          nan          nan          nan          nan          nan          nan          nan          nan          nan          nan\r\n",
      "   0.0752465 -0.000332278  6.43988e-13 -2.84965e-10  0.000304765   -0.0690159  5.49145e-09  5.53402e-09  2.38438e-09   -0.0309115   -0.0016379  8.87256e-10  -0.00243406   0.00866809 -0.000160775    0.0364086 -4.80924e-10  4.76679e-10  1.28131e-09  1.27986e-09  2.22163e-10    -0.194424 -5.54325e-09          nan          nan          nan          nan          nan          nan          nan          nan          nan          nan          nan          nan\r\n",
      " 5.99104e-10 -5.29803e-10    -0.014189     0.014189  3.68886e-10 -5.51687e-10    -0.004327    -0.004327  -0.00131287 -1.02976e-09  1.08959e-09 -0.000526354 -8.35364e-11  8.18441e-11 -4.06968e-11   2.5167e-10    0.0059768   -0.0059768   0.00150202   0.00150202 -4.42901e-09 -5.45726e-09     0.958315          nan          nan          nan          nan          nan          nan          nan          nan          nan          nan          nan          nan\r\n",
      "        -nan         -nan         -nan         -nan         -nan         -nan         -nan         -nan         -nan         -nan         -nan         -nan         -nan         -nan         -nan         -nan         -nan         -nan         -nan         -nan         -nan         -nan         -nan          nan          nan          nan          nan          nan          nan          nan          nan          nan          nan          nan          nan\r\n",
      "        -nan         -nan         -nan         -nan         -nan         -nan         -nan         -nan         -nan         -nan         -nan         -nan         -nan         -nan         -nan         -nan         -nan         -nan         -nan         -nan         -nan         -nan         -nan         -nan         -nan         -nan         -nan         -nan         -nan         -nan         -nan         -nan         -nan         -nan         -nan\r\n",
      "        -nan         -nan         -nan         -nan         -nan         -nan         -nan         -nan         -nan         -nan         -nan         -nan         -nan         -nan         -nan         -nan         -nan         -nan         -nan         -nan         -nan         -nan         -nan         -nan         -nan         -nan         -nan         -nan         -nan         -nan         -nan         -nan         -nan         -nan         -nan\r\n",
      "        -nan         -nan         -nan         -nan         -nan         -nan         -nan         -nan         -nan         -nan         -nan         -nan         -nan         -nan         -nan         -nan         -nan         -nan         -nan         -nan         -nan         -nan         -nan          nan          nan          nan          nan          nan          nan          nan          nan          nan          nan          nan          nan\r\n",
      "        -nan         -nan         -nan         -nan         -nan         -nan         -nan         -nan         -nan         -nan         -nan         -nan         -nan         -nan         -nan         -nan         -nan         -nan         -nan         -nan         -nan         -nan         -nan          nan          nan          nan          nan          nan          nan          nan          nan          nan          nan          nan          nan\r\n",
      "        -nan         -nan         -nan         -nan         -nan         -nan         -nan         -nan         -nan         -nan         -nan         -nan         -nan         -nan         -nan         -nan         -nan         -nan         -nan         -nan         -nan         -nan         -nan         -nan         -nan         -nan         -nan         -nan         -nan         -nan         -nan         -nan         -nan         -nan         -nan\r\n",
      "        -nan         -nan         -nan         -nan         -nan         -nan         -nan         -nan         -nan         -nan         -nan         -nan         -nan         -nan         -nan         -nan         -nan         -nan         -nan         -nan         -nan         -nan         -nan         -nan         -nan         -nan         -nan         -nan         -nan         -nan         -nan         -nan         -nan         -nan         -nan\r\n",
      "        -nan         -nan         -nan         -nan         -nan         -nan         -nan         -nan         -nan         -nan         -nan         -nan         -nan         -nan         -nan         -nan         -nan         -nan         -nan         -nan         -nan         -nan         -nan          nan          nan          nan          nan          nan          nan          nan          nan          nan          nan          nan          nan\r\n",
      "        -nan         -nan         -nan         -nan         -nan         -nan         -nan         -nan         -nan         -nan         -nan         -nan         -nan         -nan         -nan         -nan         -nan         -nan         -nan         -nan         -nan         -nan         -nan          nan          nan          nan          nan          nan          nan          nan          nan          nan          nan          nan          nan\r\n",
      "        -nan         -nan         -nan         -nan         -nan         -nan         -nan         -nan         -nan         -nan         -nan         -nan         -nan         -nan         -nan         -nan         -nan         -nan         -nan         -nan         -nan         -nan         -nan         -nan          nan          nan          nan         -nan          nan          nan          nan         -nan          nan          nan          nan\r\n",
      "        -nan         -nan         -nan         -nan         -nan         -nan         -nan         -nan         -nan         -nan         -nan         -nan         -nan         -nan         -nan         -nan         -nan         -nan         -nan         -nan         -nan         -nan         -nan         -nan          nan          nan          nan         -nan          nan          nan          nan         -nan          nan          nan          nan\r\n",
      "        -nan         -nan         -nan         -nan         -nan         -nan         -nan         -nan         -nan         -nan         -nan         -nan         -nan         -nan         -nan         -nan         -nan         -nan         -nan         -nan         -nan         -nan         -nan         -nan         -nan         -nan         -nan         -nan         -nan         -nan         -nan         -nan         -nan         -nan         -nan\r\n",
      "B\r\n",
      "    0.093811  1.36377e-11  9.61098e-11 -3.20808e-10   -1.431e-11   -0.0328898  4.68412e-10  4.11441e-10   2.3859e-10   -0.0155316 -0.000891762  6.35691e-11    0.0128601   -0.0465862  2.33189e-11    0.0481429 -2.59243e-10  1.01403e-10  3.59625e-10   8.4214e-11  0.000110873   -0.0251078  4.90445e-10         -nan         -nan         -nan         -nan         -nan         -nan         -nan         -nan         -nan         -nan         -nan         -nan\r\n",
      " 1.36377e-11     0.093811 -2.01352e-10   1.4438e-10   -0.0328898   -1.431e-11  9.67672e-10  1.19237e-09  5.07287e-10  0.000891762   -0.0155316  2.54835e-10   -0.0465862   -0.0128601    0.0481429  2.33189e-11 -1.64455e-10 -1.10957e-10  4.29755e-10  5.87595e-10    0.0251078  0.000110873 -5.38537e-10         -nan         -nan         -nan         -nan         -nan         -nan         -nan         -nan         -nan         -nan         -nan         -nan\r\n",
      " 9.61098e-11 -2.01352e-10     0.105871   0.00531052  1.86065e-11 -2.58711e-11  -0.00668222  -0.00668222  -0.00361705 -1.36134e-10  8.76137e-11  -0.00164307  2.42557e-11  2.30205e-10 -1.50954e-10 -1.30863e-11   -0.0640667   0.00171179  -0.00245624   -0.0196693 -8.00276e-11  1.94568e-10   -0.0418872         -nan         -nan         -nan         -nan         -nan         -nan         -nan         -nan         -nan         -nan         -nan         -nan\r\n",
      "-3.20808e-10   1.4438e-10   0.00531052     0.105871 -2.21576e-11  3.15384e-10   0.00668222   0.00668222   0.00361705  1.60331e-10 -1.30187e-10   0.00164307  2.62236e-12 -1.93359e-10  9.14978e-12 -5.05873e-10   0.00171179   -0.0640667    0.0196693   0.00245624  5.43453e-12  4.78532e-11    0.0418872         -nan         -nan         -nan         -nan         -nan         -nan         -nan         -nan         -nan         -nan         -nan         -nan\r\n",
      "  -1.431e-11   -0.0328898  1.86065e-11 -2.21576e-11     0.240891  6.71536e-13  9.44034e-10  6.54521e-10  5.49402e-10  -0.00082933    0.0144443  1.60931e-10  -0.00881377  -0.00243303    0.0441772 -9.21287e-11 -4.10543e-11  4.24959e-10   2.1531e-10  1.15195e-11   0.00438142  1.93477e-05  5.21244e-10         -nan         -nan         -nan         -nan         -nan         -nan         -nan         -nan         -nan         -nan         -nan         -nan\r\n",
      "  -0.0328898   -1.431e-11 -2.58711e-11  3.15384e-10  6.71515e-13     0.240891 -4.36655e-11 -4.72166e-11 -4.46362e-11    0.0144443   0.00082933  1.06162e-11   0.00243303  -0.00881377 -9.21287e-11    0.0441772  2.23064e-10 -1.92732e-11 -1.02555e-10   2.8135e-10  1.93477e-05  -0.00438142 -4.88374e-10         -nan         -nan         -nan         -nan         -nan         -nan         -nan         -nan         -nan         -nan         -nan         -nan\r\n",
      " 4.68412e-10  9.67672e-10  -0.00668222   0.00668222  9.44034e-10 -4.36655e-11      0.22187     0.110689    0.0629973 -1.79364e-11 -5.48429e-10    0.0286169 -1.00058e-09 -2.90132e-09   -7.945e-10  2.58551e-10   -0.0100631  -0.00714991   -0.0330869     0.029268  1.48717e-09 -5.30575e-10  -0.00289396         -nan         -nan         -nan         -nan         -nan         -nan         -nan         -nan         -nan         -nan         -nan         -nan\r\n",
      " 4.11441e-10  1.19237e-09  -0.00668222   0.00668222  6.54521e-10 -4.72166e-11     0.110689      0.22187    0.0629973 -6.05094e-11 -5.72625e-10    0.0286169 -1.03743e-09 -2.87444e-09 -2.75541e-10  1.16747e-10   0.00714991    0.0100631     0.029268   -0.0330869  1.72923e-09 -4.54809e-10  -0.00289396         -nan         -nan         -nan         -nan         -nan         -nan         -nan         -nan         -nan         -nan         -nan         -nan\r\n",
      "  2.3859e-10  5.07287e-10  -0.00361705   0.00361705  5.49402e-10 -4.46362e-11    0.0629973    0.0629973     0.429278 -2.31005e-10 -6.84378e-10   -0.0121538 -4.21885e-10 -8.97595e-10 -4.70457e-10  1.29861e-10  6.19431e-06 -6.19434e-06 -1.82813e-05 -1.82812e-05  1.01341e-09 -6.37937e-10  5.83294e-05         -nan         -nan         -nan         -nan         -nan         -nan         -nan         -nan         -nan         -nan         -nan         -nan\r\n",
      "  -0.0155316  0.000891762 -1.36134e-10  1.60331e-10  -0.00082933    0.0144443 -1.79364e-11 -6.05094e-11 -2.31005e-10     0.463967 -2.14123e-12   1.1787e-10 -0.000207565  0.000612584  0.000594738   -0.0103584  6.64074e-10 -5.16893e-12  1.34042e-10  1.50654e-09  0.000938394      0.01771 -1.63362e-09         -nan         -nan         -nan         -nan         -nan         -nan         -nan         -nan         -nan         -nan         -nan         -nan\r\n",
      "-0.000891762   -0.0155316  8.76137e-11 -1.30187e-10    0.0144443   0.00082933 -5.48429e-10 -5.72625e-10 -6.84378e-10 -2.14126e-12     0.463967  1.23371e-10  0.000612584  0.000207565   -0.0103584 -0.000594738 -2.66204e-11  1.39912e-09  6.97892e-10   3.8987e-11     -0.01771  0.000938394  1.78282e-09         -nan         -nan         -nan         -nan         -nan         -nan         -nan         -nan         -nan         -nan         -nan         -nan\r\n",
      " 6.35691e-11  2.54835e-10  -0.00164307   0.00164307  1.60931e-10  1.06162e-11    0.0286169    0.0286169   -0.0121538   1.1787e-10  1.23371e-10     0.636067  4.93823e-11 -4.09117e-10   1.9566e-10  8.28258e-11  -0.00671628   0.00671628    0.0198217    0.0198217  9.92503e-11 -2.32606e-12   4.5111e-05         -nan         -nan         -nan         -nan         -nan         -nan         -nan         -nan         -nan         -nan         -nan         -nan\r\n",
      "   0.0128601   -0.0465862  2.42557e-11  2.62236e-12  -0.00881377   0.00243303 -1.00058e-09 -1.03743e-09 -4.21885e-10 -0.000207565  0.000612584  4.93823e-11     0.917068 -7.51002e-11    0.0214877  -0.00593167  2.20494e-10 -4.53214e-10 -1.22804e-09 -7.75886e-10    0.0223805    0.0062846   -1.022e-10         -nan         -nan         -nan         -nan         -nan         -nan         -nan         -nan         -nan         -nan         -nan         -nan\r\n",
      "  -0.0465862   -0.0128601  2.30205e-10 -1.93359e-10  -0.00243303  -0.00881377 -2.90132e-09 -2.87444e-09 -8.97595e-10  0.000612584  0.000207565 -4.09117e-10 -7.51001e-11     0.917068   0.00593167    0.0214877  7.39751e-10  -1.1919e-09 -2.67333e-09 -2.90605e-09    0.0062846   -0.0223805 -6.28193e-11         -nan         -nan         -nan         -nan         -nan         -nan         -nan         -nan         -nan         -nan         -nan         -nan\r\n",
      " 2.33189e-11    0.0481429 -1.50954e-10  9.14978e-12    0.0441772 -9.21287e-11   -7.945e-10 -2.75541e-10 -4.70457e-10  0.000594738   -0.0103584   1.9566e-10    0.0214877   0.00593167     0.981535 -7.22348e-11 -5.41909e-11  1.86623e-10 -5.44943e-11  1.35543e-10  -0.00424838 -1.87603e-05  2.61162e-10         -nan         -nan         -nan         -nan         -nan         -nan         -nan         -nan         -nan         -nan         -nan         -nan\r\n",
      "   0.0481429  2.33189e-11 -1.30863e-11 -5.05873e-10 -9.21287e-11    0.0441772  2.58551e-10  1.16747e-10  1.29861e-10   -0.0103584 -0.000594738  8.28258e-11  -0.00593167    0.0214877 -7.22349e-11     0.981535 -2.93578e-11  -1.6068e-10  1.09416e-10  2.41848e-10 -1.87602e-05   0.00424838   1.7529e-10         -nan         -nan         -nan         -nan         -nan         -nan         -nan         -nan         -nan         -nan         -nan         -nan\r\n",
      "-2.59243e-10 -1.64455e-10   -0.0640667   0.00171179 -4.10543e-11  2.23064e-10   -0.0100631   0.00714991  6.19431e-06  6.64074e-10 -2.66204e-11  -0.00671628  2.20494e-10  7.39751e-10 -5.41909e-11 -2.93578e-11      1.06904   -0.0127747   -0.0247036   -0.0247036 -3.94096e-10  2.10679e-10    0.0150551         -nan         -nan         -nan         -nan         -nan         -nan         -nan         -nan         -nan         -nan         -nan         -nan\r\n",
      " 1.01403e-10 -1.10957e-10   0.00171179   -0.0640667  4.24959e-10 -1.92732e-11  -0.00714991    0.0100631 -6.19434e-06 -5.16893e-12  1.39912e-09   0.00671628 -4.53214e-10  -1.1919e-09  1.86623e-10  -1.6068e-10   -0.0127747      1.06904    0.0247036    0.0247036   2.1875e-10  1.33679e-12   -0.0150551         -nan         -nan         -nan         -nan         -nan         -nan         -nan         -nan         -nan         -nan         -nan         -nan\r\n",
      " 3.59625e-10  4.29755e-10  -0.00245624    0.0196693   2.1531e-10 -1.02555e-10   -0.0330869     0.029268 -1.82813e-05  1.34042e-10  6.97892e-10    0.0198217 -1.22804e-09 -2.67333e-09 -5.44943e-11  1.09416e-10   -0.0247036    0.0247036      1.13358    0.0773116  8.79467e-10 -5.99963e-10   0.00544014         -nan         -nan         -nan         -nan         -nan         -nan         -nan         -nan         -nan         -nan         -nan         -nan\r\n",
      "  8.4214e-11  5.87595e-10   -0.0196693   0.00245624  1.15195e-11   2.8135e-10     0.029268   -0.0330869 -1.82812e-05  1.50654e-09   3.8987e-11    0.0198217 -7.75886e-10 -2.90605e-09  1.35543e-10  2.41848e-10   -0.0247036    0.0247036    0.0773116      1.13358  1.09071e-09 -4.24793e-10   0.00544014         -nan         -nan         -nan         -nan         -nan         -nan         -nan         -nan         -nan         -nan         -nan         -nan\r\n",
      " 0.000253279    0.0573567 -4.73654e-10  4.21692e-10   0.00347861  1.53611e-05   7.5168e-09  7.82045e-09  1.20406e-09  0.000539998   -0.0101912  2.34282e-10    0.0179469   0.00503962   -0.0191591 -8.46042e-05  -9.0678e-11  7.13346e-11 -1.66032e-10   5.1778e-12     0.600541  2.22548e-10 -3.19257e-09         -nan         -nan         -nan         -nan         -nan         -nan         -nan         -nan         -nan         -nan         -nan         -nan\r\n",
      "  -0.0573567  0.000253279   3.4554e-10 -4.27316e-11  1.53611e-05  -0.00347861  -4.3466e-09 -4.29322e-09  -7.1747e-10    0.0101912  0.000539998 -1.52106e-10   0.00503962   -0.0179469 -8.46041e-05    0.0191591 -1.00889e-10  2.71803e-10  3.23335e-11  5.08652e-11  2.22548e-10     0.600541 -5.04346e-09         -nan         -nan         -nan         -nan         -nan         -nan         -nan         -nan         -nan         -nan         -nan         -nan\r\n",
      " 1.98154e-10  -3.3694e-10   -0.0423679    0.0423679  5.91239e-10 -4.72918e-10  -0.00286351  -0.00286351 -0.000437097 -1.50206e-09  1.61585e-09 -0.000213933  -5.0607e-11 -4.23207e-11  3.64362e-10  1.53312e-10    0.0160951   -0.0160951   0.00532755   0.00532755 -3.64914e-09 -5.04778e-09      1.98483         -nan         -nan         -nan         -nan         -nan         -nan         -nan         -nan         -nan         -nan         -nan         -nan\r\n",
      "        -nan         -nan         -nan         -nan         -nan         -nan         -nan         -nan         -nan         -nan         -nan         -nan         -nan         -nan         -nan         -nan         -nan         -nan         -nan         -nan         -nan         -nan         -nan         -nan         -nan         -nan         -nan         -nan         -nan         -nan         -nan         -nan         -nan         -nan         -nan\r\n",
      "        -nan         -nan         -nan         -nan         -nan         -nan         -nan         -nan         -nan         -nan         -nan         -nan         -nan         -nan         -nan         -nan         -nan         -nan         -nan         -nan         -nan         -nan         -nan         -nan         -nan         -nan         -nan         -nan         -nan         -nan         -nan         -nan         -nan         -nan         -nan\r\n",
      "        -nan         -nan         -nan         -nan         -nan         -nan         -nan         -nan         -nan         -nan         -nan         -nan         -nan         -nan         -nan         -nan         -nan         -nan         -nan         -nan         -nan         -nan         -nan         -nan         -nan         -nan         -nan         -nan         -nan         -nan         -nan         -nan         -nan         -nan         -nan\r\n",
      "        -nan         -nan         -nan         -nan         -nan         -nan         -nan         -nan         -nan         -nan         -nan         -nan         -nan         -nan         -nan         -nan         -nan         -nan         -nan         -nan         -nan         -nan         -nan         -nan         -nan         -nan         -nan         -nan         -nan         -nan         -nan         -nan         -nan         -nan         -nan\r\n",
      "        -nan         -nan         -nan         -nan         -nan         -nan         -nan         -nan         -nan         -nan         -nan         -nan         -nan         -nan         -nan         -nan         -nan         -nan         -nan         -nan         -nan         -nan         -nan         -nan         -nan         -nan         -nan         -nan         -nan         -nan         -nan         -nan         -nan         -nan         -nan\r\n",
      "        -nan         -nan         -nan         -nan         -nan         -nan         -nan         -nan         -nan         -nan         -nan         -nan         -nan         -nan         -nan         -nan         -nan         -nan         -nan         -nan         -nan         -nan         -nan         -nan         -nan         -nan         -nan         -nan         -nan         -nan         -nan         -nan         -nan         -nan         -nan\r\n",
      "        -nan         -nan         -nan         -nan         -nan         -nan         -nan         -nan         -nan         -nan         -nan         -nan         -nan         -nan         -nan         -nan         -nan         -nan         -nan         -nan         -nan         -nan         -nan         -nan         -nan         -nan         -nan         -nan         -nan         -nan         -nan         -nan         -nan         -nan         -nan\r\n",
      "        -nan         -nan         -nan         -nan         -nan         -nan         -nan         -nan         -nan         -nan         -nan         -nan         -nan         -nan         -nan         -nan         -nan         -nan         -nan         -nan         -nan         -nan         -nan         -nan         -nan         -nan         -nan         -nan         -nan         -nan         -nan         -nan         -nan         -nan         -nan\r\n",
      "        -nan         -nan         -nan         -nan         -nan         -nan         -nan         -nan         -nan         -nan         -nan         -nan         -nan         -nan         -nan         -nan         -nan         -nan         -nan         -nan         -nan         -nan         -nan         -nan         -nan         -nan         -nan         -nan         -nan         -nan         -nan         -nan         -nan         -nan         -nan\r\n",
      "        -nan         -nan         -nan         -nan         -nan         -nan         -nan         -nan         -nan         -nan         -nan         -nan         -nan         -nan         -nan         -nan         -nan         -nan         -nan         -nan         -nan         -nan         -nan         -nan         -nan         -nan         -nan         -nan         -nan         -nan         -nan         -nan         -nan         -nan         -nan\r\n",
      "        -nan         -nan         -nan         -nan         -nan         -nan         -nan         -nan         -nan         -nan         -nan         -nan         -nan         -nan         -nan         -nan         -nan         -nan         -nan         -nan         -nan         -nan         -nan         -nan         -nan         -nan         -nan         -nan         -nan         -nan         -nan         -nan         -nan         -nan         -nan\r\n",
      "        -nan         -nan         -nan         -nan         -nan         -nan         -nan         -nan         -nan         -nan         -nan         -nan         -nan         -nan         -nan         -nan         -nan         -nan         -nan         -nan         -nan         -nan         -nan          nan          nan          nan          nan          nan          nan          nan          nan          nan          nan          nan          nan\r\n",
      "an error occurred:\r\n",
      "Small generalized eigenvalue problem failed.\r\n"
     ]
    }
   ],
   "source": [
    "!xtp_tools -c job_name=CO geometry_optimization.maxiter=1 dftpackage.basisset=3-21G dftpackage.auxbasisset=aux-def2-svp gwbse.gw.mode=G0W0 -e dftgwbse -t 4"
   ]
  },
  {
   "cell_type": "markdown",
   "metadata": {},
   "source": [
    "Notice that we are using 4 threads. The results will be stored in a file named `CO_summary.xml` in the current work directory, together with the optimization step in `optimisation.trj` and the orbitals in [hdf5 format](https://www.hdfgroup.org/solutions/hdf5/) saved on `CO.orb`."
   ]
  }
 ],
 "metadata": {
  "kernelspec": {
   "display_name": "Python 3",
   "language": "python",
   "name": "python3"
  },
  "language_info": {
   "codemirror_mode": {
    "name": "ipython",
    "version": 3
   },
   "file_extension": ".py",
   "mimetype": "text/x-python",
   "name": "python",
   "nbconvert_exporter": "python",
   "pygments_lexer": "ipython3",
   "version": "3.10.5"
  }
 },
 "nbformat": 4,
 "nbformat_minor": 4
}
