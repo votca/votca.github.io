{
 "cells": [
  {
   "cell_type": "markdown",
   "metadata": {},
   "source": [
    "## DFT + GWBSE Optimization Using CO"
   ]
  },
  {
   "cell_type": "markdown",
   "metadata": {},
   "source": [
    "## Introduction\n",
    "This tutorial explains how to perform a molecular geometric optimization using the **GWBSE** method. See [the GW Compendium: A Practical Guide to Theoretical Photoemission Spectroscopy](https://doi.org/10.3389/fchem.2019.00377), for an excellent introduction to the method."
   ]
  },
  {
   "cell_type": "markdown",
   "metadata": {},
   "source": [
    "## Requirements\n",
    "* You will need to install **VOTCA** using the instructions described [here](https://github.com/votca/votca/blob/master/share/doc/INSTALL.rst)\n",
    "* Once the installation is completed you need to activate the VOTCA enviroment by running the `VOTCARC.bash` script that has been installed at the bin subfolder for the path that you have provided for the installation step above"
   ]
  },
  {
   "cell_type": "markdown",
   "metadata": {},
   "source": [
    "## Preparing the input\n",
    "To run a DFT-GWBSE calculation we will use the [xtp_tools](https://www.votca.org/xtp/xtp_tools_overview.html) calculator."
   ]
  },
  {
   "cell_type": "markdown",
   "metadata": {},
   "source": [
    "we can now change the calculator mode from single point energy calculation to optimization as follows by adding \n",
    "`-c geometry_optimization.maxiter=1` which enables optimization with one iteration. "
   ]
  },
  {
   "cell_type": "markdown",
   "metadata": {},
   "source": [
    "Because geometry optimsation is quite expensive numerically we chose a smaller basisset and G0W0 Finally, to run the calculation we just need the following command (This still takes a while)"
   ]
  },
  {
   "cell_type": "code",
   "execution_count": 1,
   "metadata": {
    "execution": {
     "iopub.execute_input": "2021-08-03T18:06:09.591621Z",
     "iopub.status.busy": "2021-08-03T18:06:09.590951Z",
     "iopub.status.idle": "2021-08-03T18:07:15.917129Z",
     "shell.execute_reply": "2021-08-03T18:07:15.917557Z"
    }
   },
   "outputs": [
    {
     "name": "stdout",
     "output_type": "stream",
     "text": [
      "==================================================\r\n",
      "========   VOTCA (http://www.votca.org)   ========\r\n",
      "==================================================\r\n",
      "\r\n",
      "please submit bugs to https://github.com/votca/xtp/issues\r\n",
      "\r\n",
      "xtp_tools, version 2022-dev gitid: bb12c18 (compiled Aug  3 2021, 17:56:52)\r\n",
      "votca_csg, version 2022-dev gitid: bb12c18 (compiled Aug  3 2021, 17:40:19)\r\n",
      "votca_tools, version 2022-dev gitid: bb12c18 (compiled Aug  3 2021, 17:37:22)\r\n",
      "\r\n",
      "Initializing tool\r\n",
      "... dftgwbse Evaluating tool\r\n",
      "... dftgwbse  Using 4 threads\r\n",
      "... ... Reading structure from CO.xyz\r\n",
      "... ... Requested geometry optimization of excited state s1\r\n",
      "... ... Initial state: s1\r\n",
      "... ... WARNING: No tracker is used \r\n",
      "... ... Convergence of total energy: 0.000001 Hartree \r\n",
      "... ... Convergence of RMS Force:    0.000030 Hartree/Bohr \r\n",
      "... ... Convergence of Max Force:    0.000100 Hartree/Bohr \r\n",
      "... ... Convergence of RMS Step:     0.000600 Bohr \r\n",
      "... ... Convergence of Max Step:     0.001000 Bohr \r\n",
      "... ... Initial trust radius:        0.018897 Bohr\r\n",
      "... ... \r\n",
      "... ... =========== OPTIMIZATION SUMMARY ================================= \r\n",
      "... ... At iteration  0\r\n",
      "... ...  ---- POSITIONS (Angstrom)   \r\n",
      "... ...  Atom\t x\t  y\t  z \r\n",
      "... ...    0    +0.0000  +0.0000  +0.0000\r\n",
      "... ...    1    +1.2000  +0.0000  +0.0000\r\n",
      "... ...    Total energy:     -112.26831841 Hartree \r\n",
      "... ...    Trust radius:       0.01889726 Bohr     \r\n",
      "... ...  ---- FORCES (Hartree/Bohr)   \r\n",
      "... ...       central differences   \r\n",
      "... ...       displacement 0.0010 Angstrom   \r\n",
      "... ...  Atom\t x\t  y\t  z \r\n",
      "... ...    0    -0.1314  -0.0000  -0.0000\r\n",
      "... ...    1    +0.1314  +0.0000  +0.0000A\r\n",
      "    0.301149 -1.39175e-12  7.67654e-10 -8.84284e-10 -1.20175e-09 -1.04415e-09   -0.0519724  1.01994e-12 -5.92028e-10   -0.0141959    0.0104641 -2.25008e-10    0.0390253 -0.000528608    0.0423984 -8.04741e-13 -1.50277e-10 -3.06276e-10  1.92448e-10 -4.05666e-10    -0.107078  -0.00208098  6.12388e-11 -1.95614e-10          nan          nan          nan          nan          nan          nan          nan          nan          nan          nan          nan\r\n",
      "-1.39175e-12     0.301149 -1.48904e-10  3.06502e-10 -2.19307e-10 -1.02677e-10  1.01999e-12   -0.0519724  2.98595e-12   -0.0104641   -0.0141959   6.5712e-13 -0.000528608   -0.0390253 -8.04758e-13    0.0423984 -2.11276e-10   1.9415e-12 -1.60104e-10  4.10457e-12  -0.00208098     0.107078   5.8339e-11  5.18047e-12          nan          nan          nan          nan          nan          nan          nan          nan          nan          nan          nan\r\n",
      " 7.67654e-10 -1.48904e-10     0.391684   -0.0714504    -0.110612    -0.110612 -1.82651e-10  9.49985e-11   -0.0539991  -3.4209e-11  1.16282e-10   -0.0243414  1.89057e-09   -5.748e-11  1.23288e-10 -3.06009e-11    0.0363566   -0.0109033    0.0169784   -0.0176185 -7.94327e-09 -3.79141e-10   -0.0243024    0.0139349          nan          nan          nan          nan          nan          nan          nan          nan          nan          nan          nan\r\n",
      "-8.84284e-10  3.06502e-10   -0.0714504     0.391684     0.110612     0.110612  2.21265e-10 -1.49448e-10    0.0539991  3.36991e-11 -1.20567e-10    0.0243414  -1.9104e-09  3.19174e-11 -2.12868e-10  1.52722e-10    0.0109033   -0.0363566   -0.0176185    0.0169784  8.02484e-09  4.96627e-10    0.0243024    0.0139349          nan          nan          nan          nan          nan          nan          nan          nan          nan          nan          nan\r\n",
      "-1.20175e-09 -2.19307e-10    -0.110612     0.110612     0.460208     0.139975   3.0228e-10  1.00032e-10    0.0732565  1.43375e-10 -3.34789e-11    0.0330222 -2.59156e-09 -9.85383e-12 -2.89287e-10 -1.07151e-10     0.016771    0.0174111   -0.0210471   -0.0262128  1.08907e-08   1.1665e-10  -0.00962675    0.0173119          nan          nan          nan          nan          nan          nan          nan          nan          nan          nan          nan\r\n",
      "-1.04415e-09 -1.02677e-10    -0.110612     0.110612     0.139975     0.460208  2.47831e-10  6.14177e-11    0.0732565   1.3909e-10  -3.2969e-11    0.0330222   -2.566e-09 -2.96841e-11 -1.67166e-10 -1.75713e-11    0.0174111     0.016771    0.0262128    0.0210471  1.07722e-08  1.99058e-10  -0.00962675   -0.0173119          nan          nan          nan          nan          nan          nan          nan          nan          nan          nan          nan\r\n",
      "  -0.0519724  1.01999e-12 -1.82651e-10  2.21265e-10   3.0228e-10  2.47831e-10     0.486835 -2.44907e-13  1.77663e-10    0.0109753  -0.00809015  3.96543e-11    0.0083053 -0.000112498    0.0301449  2.91492e-12 -9.03936e-11  1.01337e-10  1.26615e-10  1.35604e-10    0.0549836   0.00106857  -4.1138e-11  1.51639e-10          nan          nan          nan          nan          nan          nan          nan          nan          nan          nan          nan\r\n",
      " 1.01994e-12   -0.0519724  9.49985e-11 -1.49448e-10  1.00032e-10  6.14177e-11 -2.44905e-13     0.486835 -4.01568e-12   0.00809015    0.0109753 -1.15376e-12 -0.000112498   -0.0083053  2.91488e-12    0.0301449  2.69509e-10  7.29081e-12  2.01308e-10 -9.57732e-12   0.00106857   -0.0549836  2.31446e-10 -1.83194e-12          nan          nan          nan          nan          nan          nan          nan          nan          nan          nan          nan\r\n",
      "-5.92028e-10  2.98595e-12   -0.0539991    0.0539991    0.0732565    0.0732565  1.77663e-10 -4.01568e-12     0.659928  2.69364e-10 -2.00128e-10  -0.00518518 -7.77965e-10  3.34057e-12 -1.34331e-10  2.18449e-12   0.00288268   0.00288268  -0.00380181   0.00380181  5.23336e-09  1.53575e-10   0.00263591 -1.14004e-10          nan          nan          nan          nan          nan          nan          nan          nan          nan          nan          nan\r\n",
      "  -0.0141959   -0.0104641  -3.4209e-11  3.36991e-11  1.43375e-10   1.3909e-10    0.0109753   0.00809015  2.69364e-10     0.668107  7.25324e-13 -7.88503e-11   1.3478e-05 -1.02195e-05  -0.00729292  -0.00537578 -2.62681e-11 -2.97387e-11  1.09081e-09  -4.3576e-11    0.0334559   -0.0236718  8.06049e-10  1.07784e-09          nan          nan          nan          nan          nan          nan          nan          nan          nan          nan          nan\r\n",
      "   0.0104641   -0.0141959  1.16282e-10 -1.20567e-10 -3.34789e-11  -3.2969e-11  -0.00809015    0.0109753 -2.00128e-10  7.25219e-13     0.668107  5.93124e-11 -1.02195e-05  -1.3478e-05   0.00537578  -0.00729292  1.07647e-09  2.92417e-11 -2.62284e-11  2.27578e-11   -0.0236718   -0.0334559  1.13031e-09 -7.93278e-10          nan          nan          nan          nan          nan          nan          nan          nan          nan          nan          nan\r\n",
      "-2.25008e-10   6.5712e-13   -0.0243414    0.0243414    0.0330222    0.0330222  3.96543e-11 -1.15376e-12  -0.00518518 -7.88503e-11  5.93124e-11     0.793012 -5.03133e-10  1.23148e-12 -7.47809e-11  4.84054e-13   0.00924671   0.00924671    -0.012195     0.012195   1.9919e-09  5.77054e-11   0.00107752 -5.29418e-11          nan          nan          nan          nan          nan          nan          nan          nan          nan          nan          nan\r\n",
      "   0.0390253 -0.000528608  1.89057e-09  -1.9104e-09 -2.59156e-09   -2.566e-09    0.0083053 -0.000112498 -7.77965e-10   1.3478e-05 -1.02195e-05 -5.03133e-10     0.954263 -3.99765e-13   -0.0128739  0.000174381 -1.21966e-09 -1.11411e-09  1.60963e-09 -1.46829e-09    0.0198855  0.000655988 -1.22712e-10  4.94524e-11          nan          nan          nan          nan          nan          nan          nan          nan          nan          nan          nan\r\n",
      "-0.000528608   -0.0390253   -5.748e-11  3.19174e-11 -9.85383e-12 -2.96841e-11 -0.000112498   -0.0083053  3.34057e-12 -1.02195e-05  -1.3478e-05  1.23148e-12 -3.99769e-13     0.954263  0.000174381    0.0128739 -5.83444e-11  8.29959e-11 -5.22929e-11 -5.32563e-11 -0.000655988    0.0198855   3.4552e-11  -5.3921e-14          nan          nan          nan          nan          nan          nan          nan          nan          nan          nan          nan\r\n",
      "   0.0423984 -8.04758e-13  1.23288e-10 -2.12868e-10 -2.89287e-10 -1.67166e-10    0.0301449  2.91488e-12 -1.34331e-10  -0.00729292   0.00537578 -7.47809e-11   -0.0128739  0.000174381     0.973645  1.57449e-12 -1.19886e-10 -3.21722e-11  1.60749e-10 -4.21506e-11   -0.0229462 -0.000445943  1.86454e-11   1.7185e-10          nan          nan          nan          nan          nan          nan          nan          nan          nan          nan          nan\r\n",
      "-8.04741e-13    0.0423984 -3.06009e-11  1.52722e-10 -1.07151e-10 -1.75713e-11  2.91492e-12    0.0301449  2.18449e-12  -0.00537578  -0.00729292  4.84054e-13  0.000174381    0.0128739  1.57449e-12     0.973645  1.26709e-10  8.11049e-12    9.312e-11 -5.40632e-12 -0.000445943    0.0229462  5.39037e-10  1.80186e-12          nan          nan          nan          nan          nan          nan          nan          nan          nan          nan          nan\r\n",
      "-1.50277e-10 -2.11276e-10    0.0363566    0.0109033     0.016771    0.0174111 -9.03936e-11  2.69509e-10   0.00288268 -2.62681e-11  1.07647e-09   0.00924671 -1.21966e-09 -5.83444e-11 -1.19886e-10  1.26709e-10      1.03685    0.0176768   -0.0205628    0.0205628  1.51852e-09 -2.12288e-11  -0.00299885  0.000147816          nan          nan          nan          nan          nan          nan          nan          nan          nan          nan          nan\r\n",
      "-3.06276e-10   1.9415e-12   -0.0109033   -0.0363566    0.0174111     0.016771  1.01337e-10  7.29081e-12   0.00288268 -2.97387e-11  2.92417e-11   0.00924671 -1.11411e-09  8.29959e-11 -3.21722e-11  8.11049e-12    0.0176768      1.03685   -0.0205628    0.0205628  1.56759e-09  4.93125e-11  -0.00299885 -0.000147816          nan          nan          nan          nan          nan          nan          nan          nan          nan          nan          nan\r\n",
      " 1.92448e-10 -1.60104e-10    0.0169784   -0.0176185   -0.0210471    0.0262128  1.26615e-10  2.01308e-10  -0.00380181  1.09081e-09 -2.62284e-11    -0.012195  1.60963e-09 -5.22929e-11  1.60749e-10    9.312e-11   -0.0205628   -0.0205628      1.04837   -0.0292044 -1.99605e-09 -1.04412e-10  -0.00433097  -0.00026834          nan          nan          nan          nan          nan          nan          nan          nan          nan          nan          nan\r\n",
      "-4.05666e-10  4.10457e-12   -0.0176185    0.0169784   -0.0262128    0.0210471  1.35604e-10 -9.57732e-12   0.00380181  -4.3576e-11  2.27578e-11     0.012195 -1.46829e-09 -5.32563e-11 -4.21506e-11 -5.40632e-12    0.0205628    0.0205628   -0.0292044      1.04837  2.06659e-09  5.53643e-11   0.00433097  -0.00026834          nan          nan          nan          nan          nan          nan          nan          nan          nan          nan          nan\r\n",
      "    0.074572   0.00144926  5.43327e-09 -5.44775e-09 -7.38995e-09 -7.36668e-09   -0.0700162  -0.00136072 -4.10071e-09   -0.0248161    0.0175587  -1.7419e-09  -0.00919347  0.000303277    0.0362819  0.000705115 -1.22949e-09 -1.25826e-09  1.61636e-09 -1.65728e-09    -0.195058 -8.52901e-12 -3.94278e-10   2.0687e-09          nan          nan          nan          nan          nan          nan          nan          nan          nan          nan          nan\r\n",
      "  0.00144926    -0.074572  4.13974e-10 -4.36988e-10  -1.4588e-11 -2.91817e-11  -0.00136072    0.0700162 -1.20679e-10    0.0175587    0.0248161  -5.0146e-11 -0.000303277  -0.00919347  0.000705115   -0.0362819  4.54609e-11  4.75467e-12  1.09823e-10 -8.08505e-11 -8.52901e-12    -0.195058 -6.14452e-09    2.355e-11          nan          nan          nan          nan          nan          nan          nan          nan          nan          nan          nan\r\n",
      "-1.18902e-11 -8.00464e-10    -0.005581     0.005581   -0.0182304   -0.0182304  5.74971e-11  7.00393e-10  -0.00449313  1.14357e-09   1.4802e-09  -0.00192952  1.47132e-10 -1.19795e-10 -1.56073e-11 -3.11326e-11  -0.00565127  -0.00565127  -0.00300777   0.00300777  -8.5071e-10 -6.30051e-09      1.05339  4.73053e-11          nan          nan          nan          nan          nan          nan          nan          nan          nan          nan          nan\r\n",
      "-3.66169e-10 -4.57768e-12  -0.00404636  -0.00404636  -0.00470565   0.00470565  4.30539e-10  4.10417e-12  7.20226e-11  1.04222e-09 -7.58126e-10  3.60854e-11  1.54483e-10 -1.07214e-12  2.41561e-10  -2.4475e-12   0.00285144  -0.00285144  -0.00366376  -0.00366376  2.26889e-09  2.79309e-11  3.29532e-11     0.120823          nan          nan          nan          nan          nan          nan          nan          nan          nan          nan          nan\r\n",
      "        -nan         -nan         -nan         -nan         -nan         -nan         -nan         -nan         -nan         -nan         -nan         -nan         -nan         -nan         -nan         -nan         -nan         -nan         -nan         -nan         -nan         -nan         -nan         -nan         -nan         -nan         -nan         -nan         -nan         -nan         -nan         -nan         -nan         -nan         -nan\r\n",
      "        -nan         -nan         -nan         -nan         -nan         -nan         -nan         -nan         -nan         -nan         -nan         -nan         -nan         -nan         -nan         -nan         -nan         -nan         -nan         -nan         -nan         -nan         -nan         -nan         -nan         -nan         -nan         -nan         -nan         -nan         -nan         -nan         -nan         -nan         -nan\r\n",
      "        -nan         -nan         -nan         -nan         -nan         -nan         -nan         -nan         -nan         -nan         -nan         -nan         -nan         -nan         -nan         -nan         -nan         -nan         -nan         -nan         -nan         -nan         -nan         -nan          nan          nan          nan          nan          nan          nan          nan          nan          nan          nan          nan\r\n",
      "        -nan         -nan         -nan         -nan         -nan         -nan         -nan         -nan         -nan         -nan         -nan         -nan         -nan         -nan         -nan         -nan         -nan         -nan         -nan         -nan         -nan         -nan         -nan         -nan          nan          nan          nan          nan          nan          nan          nan          nan          nan          nan          nan\r\n",
      "        -nan         -nan         -nan         -nan         -nan         -nan         -nan         -nan         -nan         -nan         -nan         -nan         -nan         -nan         -nan         -nan         -nan         -nan         -nan         -nan         -nan         -nan         -nan         -nan         -nan         -nan         -nan         -nan         -nan         -nan         -nan         -nan         -nan         -nan         -nan\r\n",
      "        -nan         -nan         -nan         -nan         -nan         -nan         -nan         -nan         -nan         -nan         -nan         -nan         -nan         -nan         -nan         -nan         -nan         -nan         -nan         -nan         -nan         -nan         -nan         -nan         -nan         -nan         -nan         -nan         -nan         -nan         -nan         -nan         -nan         -nan         -nan\r\n",
      "        -nan         -nan         -nan         -nan         -nan         -nan         -nan         -nan         -nan         -nan         -nan         -nan         -nan         -nan         -nan         -nan         -nan         -nan         -nan         -nan         -nan         -nan         -nan         -nan          nan          nan          nan          nan          nan          nan          nan          nan          nan          nan          nan\r\n",
      "        -nan         -nan         -nan         -nan         -nan         -nan         -nan         -nan         -nan         -nan         -nan         -nan         -nan         -nan         -nan         -nan         -nan         -nan         -nan         -nan         -nan         -nan         -nan         -nan          nan          nan          nan          nan          nan          nan          nan          nan          nan          nan          nan\r\n",
      "        -nan         -nan         -nan         -nan         -nan         -nan         -nan         -nan         -nan         -nan         -nan         -nan         -nan         -nan         -nan         -nan         -nan         -nan         -nan         -nan         -nan         -nan         -nan         -nan          nan          nan          nan         -nan          nan          nan          nan         -nan          nan          nan          nan\r\n",
      "        -nan         -nan         -nan         -nan         -nan         -nan         -nan         -nan         -nan         -nan         -nan         -nan         -nan         -nan         -nan         -nan         -nan         -nan         -nan         -nan         -nan         -nan         -nan         -nan          nan          nan          nan         -nan          nan          nan          nan         -nan          nan          nan          nan\r\n",
      "        -nan         -nan         -nan         -nan         -nan         -nan         -nan         -nan         -nan         -nan         -nan         -nan         -nan         -nan         -nan         -nan         -nan         -nan         -nan         -nan         -nan         -nan         -nan         -nan         -nan         -nan         -nan         -nan         -nan         -nan         -nan         -nan         -nan         -nan         -nan\r\n",
      "B\r\n",
      "   0.0903883 -6.20711e-13  2.82916e-10 -3.56935e-10 -4.85283e-10 -3.85277e-10   -0.0326152  6.25498e-13 -3.66711e-10   -0.0119244   0.00878974 -1.49744e-10    0.0481031  -0.00065157    0.0477611 -9.23651e-13  -9.8963e-11 -3.09515e-10  1.22568e-10 -4.10291e-10   -0.0244239 -0.000474661  4.31319e-11 -5.00681e-10         -nan         -nan         -nan         -nan         -nan         -nan         -nan         -nan         -nan         -nan         -nan\r\n",
      "-6.20714e-13    0.0903883  -7.3254e-11   1.7326e-10 -1.25327e-10 -5.13077e-11  6.25528e-13   -0.0326152   1.8484e-12  -0.00878974   -0.0119244   3.9388e-13  -0.00065157   -0.0481031 -9.23672e-13    0.0477611  -2.9843e-10 -1.07063e-11 -2.25023e-10  1.44712e-11 -0.000474661    0.0244239 -7.66355e-10  2.57822e-14         -nan         -nan         -nan         -nan         -nan         -nan         -nan         -nan         -nan         -nan         -nan\r\n",
      " 2.82916e-10  -7.3254e-11     0.139107   -0.0342728   -0.0539928   -0.0539928 -8.96616e-11  6.46862e-11   -0.0387943 -2.49408e-11  9.93833e-11   -0.0189362  2.03658e-09 -6.51597e-11  1.06134e-10 -3.17189e-11      0.05458  -0.00899303    0.0148525   -0.0157136 -4.01568e-10  9.28007e-11    -0.031596   0.00992611         -nan         -nan         -nan         -nan         -nan         -nan         -nan         -nan         -nan         -nan         -nan\r\n",
      "-3.56935e-10   1.7326e-10   -0.0342728     0.139107    0.0539928    0.0539928  1.20965e-10 -1.08476e-10    0.0387943  2.44637e-11 -1.04892e-10    0.0189362 -2.06583e-09  2.74005e-11   -2.213e-10  1.88532e-10   0.00899303     -0.05458   -0.0157136    0.0148525  4.70167e-10  3.77375e-12     0.031596   0.00992611         -nan         -nan         -nan         -nan         -nan         -nan         -nan         -nan         -nan         -nan         -nan\r\n",
      "-4.85283e-10 -1.25327e-10   -0.0539928    0.0539928     0.172555    0.0677214  1.65542e-10  7.39459e-11    0.0526293  1.21375e-10 -2.47821e-11    0.0256893 -2.80213e-09 -4.45507e-12 -3.00757e-10 -1.33108e-10    0.0143551    0.0152162   -0.0178623   -0.0457107  6.42945e-10  2.81352e-11   -0.0288753    0.0126406         -nan         -nan         -nan         -nan         -nan         -nan         -nan         -nan         -nan         -nan         -nan\r\n",
      "-3.85277e-10 -5.13077e-11   -0.0539928    0.0539928    0.0677214     0.172555  1.21752e-10  4.26429e-11    0.0526293  1.15866e-10  -2.4305e-11    0.0256893 -2.76437e-09 -3.37063e-11 -1.43943e-10  -1.7942e-11    0.0152162    0.0143551    0.0457107    0.0178623   5.4571e-10  9.74158e-11   -0.0288753   -0.0126406         -nan         -nan         -nan         -nan         -nan         -nan         -nan         -nan         -nan         -nan         -nan\r\n",
      "  -0.0326152  6.25527e-13 -8.96616e-11  1.20965e-10  1.65542e-10  1.21752e-10     0.236624 -1.38075e-13  1.35483e-10    0.0115765  -0.00853334  2.41287e-11   0.00949851  -0.00012866    0.0424653  4.00001e-12 -1.62649e-10  1.23517e-10  2.25497e-10  1.65733e-10  -0.00359497 -6.98658e-05  5.53879e-12  4.78575e-10         -nan         -nan         -nan         -nan         -nan         -nan         -nan         -nan         -nan         -nan         -nan\r\n",
      " 6.25497e-13   -0.0326152  6.46862e-11 -1.08476e-10  7.39459e-11  4.26429e-11 -1.38074e-13     0.236624 -3.37839e-12   0.00853334    0.0115765 -9.81035e-13  -0.00012866  -0.00949851  3.99996e-12    0.0424653  4.04543e-10  1.33131e-11  3.01321e-10 -1.51547e-11 -6.98658e-05   0.00359497  8.20192e-10  1.54435e-12         -nan         -nan         -nan         -nan         -nan         -nan         -nan         -nan         -nan         -nan         -nan\r\n",
      "-3.66711e-10   1.8484e-12   -0.0387943    0.0387943    0.0526293    0.0526293  1.35483e-10 -3.37839e-12     0.424108   3.2983e-10 -2.45363e-10   -0.0112617 -9.32861e-10  4.48649e-12 -1.82484e-10   2.9775e-12  0.000392266  0.000392266 -0.000517337  0.000517337  1.09284e-09  3.50251e-11  -0.00120866 -2.92952e-11         -nan         -nan         -nan         -nan         -nan         -nan         -nan         -nan         -nan         -nan         -nan\r\n",
      "  -0.0119244  -0.00878974 -2.49408e-11  2.44637e-11  1.21375e-10  1.15866e-10    0.0115765   0.00853334   3.2983e-10     0.446812  9.54213e-13 -1.12229e-10  -0.00038579  0.000292521  -0.00868986   -0.0064055 -4.73677e-11 -5.32059e-11   1.8292e-09  -7.9329e-11    0.0145003   -0.0102597  1.77855e-09  1.91631e-09         -nan         -nan         -nan         -nan         -nan         -nan         -nan         -nan         -nan         -nan         -nan\r\n",
      "  0.00878974   -0.0119244  9.93833e-11 -1.04892e-10 -2.47821e-11  -2.4305e-11  -0.00853334    0.0115765 -2.45363e-10  9.54057e-13     0.446812  8.41742e-11  0.000292521   0.00038579    0.0064055  -0.00868986  1.80307e-09  5.31993e-11 -4.69551e-11  4.11169e-11   -0.0102597   -0.0145003  2.39282e-09 -1.40293e-09         -nan         -nan         -nan         -nan         -nan         -nan         -nan         -nan         -nan         -nan         -nan\r\n",
      "-1.49744e-10   3.9388e-13   -0.0189362    0.0189362    0.0256893    0.0256893  2.41287e-11 -9.81035e-13   -0.0112617 -1.12229e-10  8.41742e-11     0.627074 -6.54357e-10  1.55547e-12 -1.02977e-10  5.64701e-13     0.013247     0.013247   -0.0174708    0.0174708  2.08945e-10   8.0348e-12 -0.000496161 -1.09624e-11         -nan         -nan         -nan         -nan         -nan         -nan         -nan         -nan         -nan         -nan         -nan\r\n",
      "   0.0481031  -0.00065157  2.03658e-09 -2.06583e-09 -2.80213e-09 -2.76437e-09   0.00949851  -0.00012866 -9.32861e-10  -0.00038579  0.000292521 -6.54357e-10     0.912954 -7.12852e-13   -0.0215518  0.000291925 -2.19058e-09 -1.97657e-09  2.89125e-09 -2.60468e-09    0.0227038  0.000748959  -5.4856e-11  2.58731e-10         -nan         -nan         -nan         -nan         -nan         -nan         -nan         -nan         -nan         -nan         -nan\r\n",
      " -0.00065157   -0.0481031 -6.51597e-11  2.74005e-11 -4.45507e-12 -3.37063e-11  -0.00012866  -0.00949851  4.48649e-12  0.000292521   0.00038579  1.55547e-12  -7.1286e-13     0.912954  0.000291925    0.0215518 -1.24012e-10  1.62551e-10 -1.08504e-10 -1.05511e-10 -0.000748959    0.0227038 -1.07583e-10 -1.77182e-12         -nan         -nan         -nan         -nan         -nan         -nan         -nan         -nan         -nan         -nan         -nan\r\n",
      "   0.0477611 -9.23672e-13  1.06134e-10   -2.213e-10 -3.00757e-10 -1.43943e-10    0.0424653  3.99996e-12 -1.82484e-10  -0.00868986    0.0064055 -1.02977e-10   -0.0215518  0.000291925     0.952112  2.99077e-12 -1.97302e-10 -4.89713e-11  2.64577e-10 -6.41396e-11   0.00321145  6.24123e-05  6.87193e-12  3.04976e-10         -nan         -nan         -nan         -nan         -nan         -nan         -nan         -nan         -nan         -nan         -nan\r\n",
      "-9.23652e-13    0.0477611 -3.17189e-11  1.88532e-10 -1.33108e-10  -1.7942e-11  4.00001e-12    0.0424653   2.9775e-12   -0.0064055  -0.00868986  5.64701e-13  0.000291925    0.0215518  2.99077e-12     0.952112  2.10002e-10  9.56419e-12   1.5439e-10 -6.05913e-12  6.24123e-05  -0.00321145   4.8071e-10 -5.50125e-13         -nan         -nan         -nan         -nan         -nan         -nan         -nan         -nan         -nan         -nan         -nan\r\n",
      " -9.8963e-11  -2.9843e-10      0.05458   0.00899303    0.0143551    0.0152162 -1.62649e-10  4.04543e-10  0.000392266 -4.73677e-11  1.80307e-09     0.013247 -2.19058e-09 -1.24012e-10 -1.97302e-10  2.10002e-10       1.0743    0.0333326   -0.0381585    0.0381585  4.67381e-10 -1.04044e-10   -0.0123457   0.00409405         -nan         -nan         -nan         -nan         -nan         -nan         -nan         -nan         -nan         -nan         -nan\r\n",
      "-3.09515e-10 -1.07063e-11  -0.00899303     -0.05458    0.0152162    0.0143551  1.23517e-10  1.33131e-11  0.000392266 -5.32059e-11  5.31993e-11     0.013247 -1.97657e-09  1.62551e-10 -4.89713e-11  9.56419e-12    0.0333326       1.0743   -0.0381585    0.0381585    5.884e-10    6.948e-11   -0.0123457  -0.00409405         -nan         -nan         -nan         -nan         -nan         -nan         -nan         -nan         -nan         -nan         -nan\r\n",
      " 1.22568e-10 -2.25023e-10    0.0148525   -0.0157136   -0.0178623    0.0457107  2.25497e-10  3.01321e-10 -0.000517337   1.8292e-09 -4.69551e-11   -0.0174708  2.89125e-09 -1.08504e-10  2.64577e-10   1.5439e-10   -0.0381585   -0.0381585      1.09569   -0.0547244 -6.03775e-10 -1.01929e-10   -0.0112964  -0.00539849         -nan         -nan         -nan         -nan         -nan         -nan         -nan         -nan         -nan         -nan         -nan\r\n",
      "-4.10291e-10  1.44712e-11   -0.0157136    0.0148525   -0.0457107    0.0178623  1.65733e-10 -1.51547e-11  0.000517337  -7.9329e-11  4.11169e-11    0.0174708 -2.60468e-09 -1.05511e-10 -6.41396e-11 -6.05913e-12    0.0381585    0.0381585   -0.0547244      1.09569  7.76995e-10 -1.87588e-11    0.0112964  -0.00539849         -nan         -nan         -nan         -nan         -nan         -nan         -nan         -nan         -nan         -nan         -nan\r\n",
      "  -0.0559709  -0.00108776 -3.89223e-09  3.95665e-09  5.37599e-09  5.28365e-09  -0.00259781 -5.04867e-05  1.12215e-09   0.00900538  -0.00637178  2.78594e-10    0.0177733 -0.000586312    0.0179747  0.000349326 -5.23328e-11 -7.83536e-11  6.30134e-11 -9.83648e-11     0.583856 -9.32027e-12 -3.02215e-10  1.90045e-09         -nan         -nan         -nan         -nan         -nan         -nan         -nan         -nan         -nan         -nan         -nan\r\n",
      " -0.00108776    0.0559709 -6.45803e-11  1.56073e-10  1.08053e-10  1.73338e-10 -5.04867e-05   0.00259781  3.03207e-11  -0.00637178  -0.00900538  7.20745e-12  0.000586312    0.0177733  0.000349326   -0.0179747  1.41642e-10   1.0662e-10  1.15034e-10 -8.86733e-11 -9.32027e-12     0.583856 -4.55859e-09  3.77674e-11         -nan         -nan         -nan         -nan         -nan         -nan         -nan         -nan         -nan         -nan         -nan\r\n",
      " 6.71503e-11  -4.4019e-10   -0.0322084    0.0322084   -0.0288441   -0.0288441  2.50786e-12  8.79072e-10  -0.00259293  1.64118e-09  2.20337e-09  -0.00132696  9.57982e-11 -7.08605e-11   9.4115e-12  6.09666e-10   -0.0137513   -0.0137513   -0.0109068    0.0109068 -7.92146e-10 -5.06137e-09      2.11563  4.73104e-11         -nan         -nan         -nan         -nan         -nan         -nan         -nan         -nan         -nan         -nan         -nan\r\n",
      " -4.6219e-10  1.86211e-12    0.0113134    0.0113134    0.0144364   -0.0144364  4.39687e-10   1.0225e-12 -4.53376e-11  1.91276e-09 -1.39886e-09 -1.82884e-11   2.7907e-10  -1.1098e-12  3.30235e-10  -2.2432e-12   0.00481339  -0.00481339  -0.00627937  -0.00627937  2.38067e-09  4.63105e-11  3.29307e-11     0.811537         -nan         -nan         -nan         -nan         -nan         -nan         -nan         -nan         -nan         -nan         -nan\r\n",
      "        -nan         -nan         -nan         -nan         -nan         -nan         -nan         -nan         -nan         -nan         -nan         -nan         -nan         -nan         -nan         -nan         -nan         -nan         -nan         -nan         -nan         -nan         -nan         -nan         -nan         -nan         -nan         -nan         -nan         -nan         -nan         -nan         -nan         -nan         -nan\r\n",
      "        -nan         -nan         -nan         -nan         -nan         -nan         -nan         -nan         -nan         -nan         -nan         -nan         -nan         -nan         -nan         -nan         -nan         -nan         -nan         -nan         -nan         -nan         -nan         -nan         -nan         -nan         -nan         -nan         -nan         -nan         -nan         -nan         -nan         -nan         -nan\r\n",
      "        -nan         -nan         -nan         -nan         -nan         -nan         -nan         -nan         -nan         -nan         -nan         -nan         -nan         -nan         -nan         -nan         -nan         -nan         -nan         -nan         -nan         -nan         -nan         -nan         -nan         -nan         -nan         -nan         -nan         -nan         -nan         -nan         -nan         -nan         -nan\r\n",
      "        -nan         -nan         -nan         -nan         -nan         -nan         -nan         -nan         -nan         -nan         -nan         -nan         -nan         -nan         -nan         -nan         -nan         -nan         -nan         -nan         -nan         -nan         -nan         -nan         -nan         -nan         -nan         -nan         -nan         -nan         -nan         -nan         -nan         -nan         -nan\r\n",
      "        -nan         -nan         -nan         -nan         -nan         -nan         -nan         -nan         -nan         -nan         -nan         -nan         -nan         -nan         -nan         -nan         -nan         -nan         -nan         -nan         -nan         -nan         -nan         -nan         -nan         -nan         -nan         -nan         -nan         -nan         -nan         -nan         -nan         -nan         -nan\r\n",
      "        -nan         -nan         -nan         -nan         -nan         -nan         -nan         -nan         -nan         -nan         -nan         -nan         -nan         -nan         -nan         -nan         -nan         -nan         -nan         -nan         -nan         -nan         -nan         -nan         -nan         -nan         -nan         -nan         -nan         -nan         -nan         -nan         -nan         -nan         -nan\r\n",
      "        -nan         -nan         -nan         -nan         -nan         -nan         -nan         -nan         -nan         -nan         -nan         -nan         -nan         -nan         -nan         -nan         -nan         -nan         -nan         -nan         -nan         -nan         -nan         -nan         -nan         -nan         -nan         -nan         -nan         -nan         -nan         -nan         -nan         -nan         -nan\r\n",
      "        -nan         -nan         -nan         -nan         -nan         -nan         -nan         -nan         -nan         -nan         -nan         -nan         -nan         -nan         -nan         -nan         -nan         -nan         -nan         -nan         -nan         -nan         -nan         -nan         -nan         -nan         -nan         -nan         -nan         -nan         -nan         -nan         -nan         -nan         -nan\r\n",
      "        -nan         -nan         -nan         -nan         -nan         -nan         -nan         -nan         -nan         -nan         -nan         -nan         -nan         -nan         -nan         -nan         -nan         -nan         -nan         -nan         -nan         -nan         -nan         -nan         -nan         -nan         -nan         -nan         -nan         -nan         -nan         -nan         -nan         -nan         -nan\r\n",
      "        -nan         -nan         -nan         -nan         -nan         -nan         -nan         -nan         -nan         -nan         -nan         -nan         -nan         -nan         -nan         -nan         -nan         -nan         -nan         -nan         -nan         -nan         -nan         -nan         -nan         -nan         -nan         -nan         -nan         -nan         -nan         -nan         -nan         -nan         -nan\r\n",
      "        -nan         -nan         -nan         -nan         -nan         -nan         -nan         -nan         -nan         -nan         -nan         -nan         -nan         -nan         -nan         -nan         -nan         -nan         -nan         -nan         -nan         -nan         -nan         -nan          nan          nan          nan          nan          nan          nan          nan          nan          nan          nan          nan\r\n",
      "an error occurred:\r\n",
      "Small generalized eigenvalue problem failed.\r\n"
     ]
    }
   ],
   "source": [
    "!xtp_tools -c job_name=CO geometry_optimization.maxiter=1 dftpackage.basisset=3-21G dftpackage.auxbasisset=aux-def2-svp gwbse.gw.mode=G0W0 -e dftgwbse -t 4"
   ]
  },
  {
   "cell_type": "markdown",
   "metadata": {},
   "source": [
    "Notice that we are using 4 threads. The results will be stored in a file named `CO_summary.xml` in the current work directory, together with the optimization step in `optimisation.trj` and the orbitals in [hdf5 format](https://www.hdfgroup.org/solutions/hdf5/) saved on `CO.orb`."
   ]
  }
 ],
 "metadata": {
  "kernelspec": {
   "display_name": "Python 3",
   "language": "python",
   "name": "python3"
  },
  "language_info": {
   "codemirror_mode": {
    "name": "ipython",
    "version": 3
   },
   "file_extension": ".py",
   "mimetype": "text/x-python",
   "name": "python",
   "nbconvert_exporter": "python",
   "pygments_lexer": "ipython3",
   "version": "3.9.6"
  }
 },
 "nbformat": 4,
 "nbformat_minor": 4
}
