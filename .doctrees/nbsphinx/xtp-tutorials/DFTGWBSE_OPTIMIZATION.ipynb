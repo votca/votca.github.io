{
 "cells": [
  {
   "cell_type": "markdown",
   "metadata": {},
   "source": [
    "## DFT + GWBSE Optimization Using CO"
   ]
  },
  {
   "cell_type": "markdown",
   "metadata": {},
   "source": [
    "## Introduction\n",
    "This tutorial explains how to perform a molecular geometric optimization using the **GWBSE** method. See [the GW Compendium: A Practical Guide to Theoretical Photoemission Spectroscopy](https://doi.org/10.3389/fchem.2019.00377), for an excellent introduction to the method."
   ]
  },
  {
   "cell_type": "markdown",
   "metadata": {},
   "source": [
    "## Requirements\n",
    "* You will need to install **VOTCA** using the instructions described [here](https://github.com/votca/votca/blob/master/share/doc/INSTALL.rst)\n",
    "* Once the installation is completed you need to activate the VOTCA enviroment by running the `VOTCARC.bash` script that has been installed at the bin subfolder for the path that you have provided for the installation step above"
   ]
  },
  {
   "cell_type": "markdown",
   "metadata": {},
   "source": [
    "## Preparing the input\n",
    "To run a DFT-GWBSE calculation we will use the [xtp_tools](https://www.votca.org/xtp/xtp_tools_overview.html) calculator."
   ]
  },
  {
   "cell_type": "markdown",
   "metadata": {},
   "source": [
    "we can now change the calculator mode from single point energy calculation to optimization as follows by adding \n",
    "`-c geometry_optimization.maxiter=1` which enables optimization with one iteration. "
   ]
  },
  {
   "cell_type": "markdown",
   "metadata": {},
   "source": [
    "Because geometry optimsation is quite expensive numerically we chose a smaller basisset and G0W0 Finally, to run the calculation we just need the following command (This still takes a while)"
   ]
  },
  {
   "cell_type": "code",
   "execution_count": 1,
   "metadata": {
    "execution": {
     "iopub.execute_input": "2022-05-06T06:07:57.724501Z",
     "iopub.status.busy": "2022-05-06T06:07:57.723974Z",
     "iopub.status.idle": "2022-05-06T06:08:23.820669Z",
     "shell.execute_reply": "2022-05-06T06:08:23.821416Z"
    }
   },
   "outputs": [
    {
     "name": "stdout",
     "output_type": "stream",
     "text": [
      "==================================================\r\n",
      "========   VOTCA (http://www.votca.org)   ========\r\n",
      "==================================================\r\n",
      "\r\n",
      "please submit bugs to https://github.com/votca/xtp/issues\r\n",
      "\r\n",
      "xtp_tools, version 2023-dev gitid: 3bb0876 (compiled May  6 2022, 05:58:55)\r\n",
      "votca_csg, version 2023-dev gitid: 3bb0876 (compiled May  6 2022, 05:42:28)\r\n",
      "votca_tools, version 2023-dev gitid: 3bb0876 (compiled May  6 2022, 05:39:43)\r\n",
      "\r\n",
      "Initializing tool\r\n",
      "... dftgwbse Evaluating tool\r\n",
      "... dftgwbse  Using 4 threads\r\n",
      "... ... Reading structure from CO.xyz\r\n",
      "... ... Requested geometry optimization of excited state s1\r\n",
      "... ... Initial state: s1\r\n",
      "... ... WARNING: No tracker is used \r\n",
      "... ... Convergence of total energy: 0.000001 Hartree \r\n",
      "... ... Convergence of RMS Force:    0.000030 Hartree/Bohr \r\n",
      "... ... Convergence of Max Force:    0.000100 Hartree/Bohr \r\n",
      "... ... Convergence of RMS Step:     0.000600 Bohr \r\n",
      "... ... Convergence of Max Step:     0.001000 Bohr \r\n",
      "... ... Initial trust radius:        0.018897 BohrA\r\n",
      "    0.306708 -4.56421e-14  1.22458e-10   3.9043e-10  3.34508e-14   -0.0516336  1.98733e-13 -1.95415e-13 -5.04125e-14 -1.48234e-06   -0.0181563 -2.97386e-14 -1.05024e-05    0.0389795  2.88794e-14   -0.0421241  1.94746e-11  -2.6157e-11   4.0181e-14   3.8222e-14  3.38049e-07    -0.108303   1.6043e-10          nan          nan          nan          nan          nan          nan          nan          nan          nan          nan          nan          nan\r\n",
      "-4.56726e-14     0.306708  1.79157e-13  1.75762e-13   -0.0516336  3.34732e-14 -1.74359e-09  2.01157e-09  5.34415e-10    0.0181563 -1.48234e-06  3.16684e-10   -0.0389795 -1.05024e-05   -0.0421241  2.88174e-14  1.19962e-13 -1.17973e-13  -3.2947e-10 -3.36152e-10    -0.108303 -3.38049e-07  2.39039e-14          nan          nan          nan          nan          nan          nan          nan          nan          nan          nan          nan          nan\r\n",
      " 1.22458e-10  1.79157e-13     0.319156   -0.0100481  1.04062e-13    4.198e-11 -1.88245e-05  1.88245e-05  7.03511e-06  6.54033e-14  -4.2865e-11  3.01064e-06  5.43511e-14 -2.56197e-11  3.50271e-14  1.63903e-11   -0.0495092   0.00204416 -3.56987e-06 -1.63585e-05 -6.04961e-13  -1.5833e-11    0.0252874          nan          nan          nan          nan          nan          nan          nan          nan          nan          nan          nan          nan\r\n",
      "  3.9043e-10  1.75762e-13   -0.0100481     0.319156  1.09043e-13   -3.679e-10 -1.88245e-05  1.88245e-05  7.03511e-06  5.89491e-14 -1.10116e-10  3.01064e-06  5.62226e-14 -3.30934e-11  3.91061e-14 -3.13124e-10  -0.00204416    0.0495092 -1.63585e-05 -3.56987e-06 -5.97037e-13 -5.25147e-10    0.0252874          nan          nan          nan          nan          nan          nan          nan          nan          nan          nan          nan          nan\r\n",
      " 3.34618e-14   -0.0516336  1.04062e-13  1.09043e-13     0.490609 -5.11565e-15 -1.69885e-09  1.28897e-09   7.5566e-10   -0.0134761  1.10023e-06  2.05863e-10   -0.0080157  -2.1597e-06   -0.0309388 -9.71063e-14  6.31488e-14 -6.43988e-14 -1.87759e-10 -1.83891e-10     0.053272  1.66279e-07  3.45697e-14          nan          nan          nan          nan          nan          nan          nan          nan          nan          nan          nan          nan\r\n",
      "  -0.0516336  3.34683e-14    4.198e-11   -3.679e-10 -5.10147e-15     0.490609  1.23202e-13 -1.28184e-13  -7.0363e-14  1.10023e-06    0.0134761 -1.92261e-14  -2.1597e-06    0.0080157 -9.70844e-14   -0.0309388 -1.41584e-11  1.80257e-11  1.09271e-14  1.21805e-14  -1.6628e-07     0.053272 -9.98375e-11          nan          nan          nan          nan          nan          nan          nan          nan          nan          nan          nan          nan\r\n",
      " 1.98733e-13 -1.74359e-09 -1.88245e-05 -1.88245e-05 -1.69885e-09  1.23202e-13     0.549726    -0.220522   -0.0861688 -7.16777e-10 -1.82325e-14   -0.0368756 -5.42593e-10 -1.98392e-13 -7.89528e-10  4.39896e-14 -1.24318e-05 -3.56916e-07   -0.0125301     0.034935  6.78358e-09 -6.52616e-13 -2.60248e-06          nan          nan          nan          nan          nan          nan          nan          nan          nan          nan          nan          nan\r\n",
      "-1.95415e-13  2.01157e-09  1.88245e-05  1.88245e-05  1.28897e-09 -1.28184e-13    -0.220522     0.549726    0.0861688  7.84029e-10  1.17611e-14    0.0368756  5.50067e-10  2.00313e-13  4.60014e-10 -4.80303e-14 -3.56915e-07 -1.24318e-05    -0.034935    0.0125301 -7.28253e-09  6.44909e-13  2.60248e-06          nan          nan          nan          nan          nan          nan          nan          nan          nan          nan          nan          nan\r\n",
      "-5.04124e-14  5.34415e-10  7.03511e-06  7.03511e-06   7.5566e-10  -7.0363e-14   -0.0861688    0.0861688     0.662739  4.24852e-10  5.12944e-15  -0.00625217  6.14588e-11  2.22977e-14  4.50125e-10  -4.1923e-14  1.45387e-06 -1.45387e-06  -0.00414117  -0.00414117 -1.82084e-09  1.61253e-13  1.75678e-06          nan          nan          nan          nan          nan          nan          nan          nan          nan          nan          nan          nan\r\n",
      "-1.48234e-06    0.0181563  6.54033e-14  5.89492e-14   -0.0134761  1.10023e-06 -7.16777e-10  7.84029e-10  4.24852e-10     0.680027 -1.83432e-15  3.11521e-11  -7.6988e-05 -2.70287e-08  -0.00866729  7.07626e-07  3.09319e-14 -3.21303e-14 -9.37655e-11  -8.8745e-11   -0.0410255   3.2214e-06   4.7607e-15          nan          nan          nan          nan          nan          nan          nan          nan          nan          nan          nan          nan\r\n",
      "  -0.0181563 -1.48234e-06  -4.2865e-11 -1.10116e-10  1.10023e-06    0.0134761 -1.82325e-14  1.17612e-14   5.1295e-15 -1.98753e-15     0.680027  2.60328e-16  2.70287e-08  -7.6988e-05  7.07626e-07   0.00866729  1.45175e-11  -1.9538e-11  5.85443e-15  4.66099e-15   3.2214e-06    0.0410255 -1.18009e-10          nan          nan          nan          nan          nan          nan          nan          nan          nan          nan          nan          nan\r\n",
      "-2.97386e-14  3.16684e-10  3.01064e-06  3.01064e-06  2.05863e-10  -1.9226e-14   -0.0368756    0.0368756  -0.00625217  3.11521e-11  2.60334e-16     0.797893  2.21528e-10  8.01812e-14 -6.39474e-11  6.05465e-15  5.10303e-06 -5.10303e-06   -0.0145354   -0.0145354 -9.57151e-10  8.50707e-14  7.04717e-07          nan          nan          nan          nan          nan          nan          nan          nan          nan          nan          nan          nan\r\n",
      "-1.05024e-05   -0.0389795  5.43511e-14  5.62225e-14   -0.0080157  -2.1597e-06 -5.42593e-10  5.50067e-10  6.14588e-11  -7.6988e-05  2.70287e-08  2.21528e-10     0.956279 -5.08733e-14   -0.0131238   -3.536e-06  1.06059e-13 -1.04715e-13 -2.31212e-10 -3.46022e-10   -0.0200194 -5.45637e-06  2.35892e-14          nan          nan          nan          nan          nan          nan          nan          nan          nan          nan          nan          nan\r\n",
      "   0.0389795 -1.05024e-05 -2.56197e-11 -3.30934e-11  -2.1597e-06    0.0080157 -1.98392e-13  2.00313e-13  2.22977e-14 -2.70287e-08  -7.6988e-05  8.01812e-14 -5.08185e-14     0.956279   -3.536e-06    0.0131238  4.62596e-11  6.85497e-11 -1.08887e-13 -1.07592e-13 -5.45637e-06    0.0200194 -4.89095e-11          nan          nan          nan          nan          nan          nan          nan          nan          nan          nan          nan          nan\r\n",
      " 2.88875e-14   -0.0421241   3.5027e-14  3.91061e-14   -0.0309388  -9.7095e-14 -7.89528e-10  4.60014e-10  4.50125e-10  -0.00866729  7.07626e-07 -6.39474e-11   -0.0131238   -3.536e-06     0.987501  5.35866e-14 -1.12883e-14 -3.87985e-14  -1.3445e-10  4.39278e-11    0.0224113   6.9953e-08   2.7146e-14          nan          nan          nan          nan          nan          nan          nan          nan          nan          nan          nan          nan\r\n",
      "  -0.0421241  2.88259e-14  1.63903e-11 -3.13124e-10 -9.71132e-14   -0.0309388  4.39896e-14 -4.80305e-14  -4.1923e-14  7.07626e-07   0.00866729  6.05465e-15   -3.536e-06    0.0131238  5.36252e-14     0.987501  6.74219e-11  1.10956e-10 -2.84993e-14  2.15972e-14 -6.99531e-08    0.0224113  1.30106e-10          nan          nan          nan          nan          nan          nan          nan          nan          nan          nan          nan          nan\r\n",
      " 1.94746e-11  1.19962e-13   -0.0495092  -0.00204416  6.31488e-14 -1.41584e-11 -1.24318e-05 -3.56915e-07  1.45387e-06  3.09319e-14  1.45175e-11  5.10303e-06  1.06059e-13  4.62596e-11 -1.12883e-14  6.74219e-11      1.02819   -0.0020693 -1.52502e-05 -1.52502e-05 -4.39615e-13  1.80134e-12  -0.00469072          nan          nan          nan          nan          nan          nan          nan          nan          nan          nan          nan          nan\r\n",
      " -2.6157e-11 -1.17973e-13   0.00204416    0.0495092 -6.43988e-14  1.80257e-11 -3.56916e-07 -1.24318e-05 -1.45387e-06 -3.21303e-14  -1.9538e-11 -5.10303e-06 -1.04715e-13  6.85497e-11 -3.87986e-14  1.10956e-10   -0.0020693      1.02819  1.52502e-05  1.52502e-05  4.13792e-13  8.99704e-11   0.00469072          nan          nan          nan          nan          nan          nan          nan          nan          nan          nan          nan          nan\r\n",
      "  4.0181e-14  -3.2947e-10 -3.56987e-06 -1.63585e-05 -1.87759e-10  1.09271e-14   -0.0125301    -0.034935  -0.00414117 -9.37655e-11  5.85443e-15   -0.0145354 -2.31212e-10 -1.08887e-13  -1.3445e-10 -2.84993e-14 -1.52502e-05  1.52502e-05      1.07163    0.0455077  1.15778e-09 -1.35887e-13 -2.41118e-06          nan          nan          nan          nan          nan          nan          nan          nan          nan          nan          nan          nan\r\n",
      "  3.8222e-14 -3.36152e-10 -1.63585e-05 -3.56987e-06 -1.83891e-10  1.21805e-14     0.034935    0.0125301  -0.00414117  -8.8745e-11    4.661e-15   -0.0145354 -3.46022e-10 -1.07592e-13  4.39278e-11  2.15972e-14 -1.52502e-05  1.52502e-05    0.0455077      1.07163   1.2482e-09 -1.09792e-13 -2.41118e-06          nan          nan          nan          nan          nan          nan          nan          nan          nan          nan          nan          nan\r\n",
      "-2.34856e-07    0.0752424   3.3075e-13  3.25442e-13   -0.0690969  2.15674e-07 -3.52652e-09   3.8526e-09  1.17254e-09    0.0309264  -2.4284e-06  8.30841e-10   0.00901647  2.45748e-06   -0.0363998  1.13616e-07  2.50415e-13 -2.50035e-13 -7.12841e-10 -7.14106e-10    -0.194835  3.50921e-13  3.05271e-13          nan          nan          nan          nan          nan          nan          nan          nan          nan          nan          nan          nan\r\n",
      "   0.0752424  2.34856e-07  1.03398e-10  4.38778e-10 -2.15674e-07   -0.0690969  3.46935e-13 -3.42002e-13 -1.02087e-13  -2.4284e-06   -0.0309264 -7.35894e-14  2.45748e-06  -0.00901647 -1.13616e-07   -0.0363998 -7.75988e-12  4.82539e-12  6.10803e-14  6.02832e-14  3.50887e-13    -0.194835  2.30345e-09          nan          nan          nan          nan          nan          nan          nan          nan          nan          nan          nan          nan\r\n",
      "-1.58821e-10 -3.31428e-14    0.0143253    0.0143253 -3.17697e-14  1.71047e-10  5.86562e-06 -5.86562e-06 -1.76758e-06 -6.93978e-15 -4.79008e-11 -7.09369e-07 -5.73005e-15 -8.18509e-12  1.61675e-15  2.22422e-10  -0.00613235   0.00613235 -1.39231e-06 -1.39231e-06  3.69611e-13  2.19098e-09     0.954926          nan          nan          nan          nan          nan          nan          nan          nan          nan          nan          nan          nan\r\n",
      "        -nan         -nan         -nan         -nan         -nan         -nan         -nan         -nan         -nan         -nan         -nan         -nan         -nan         -nan         -nan         -nan         -nan         -nan         -nan         -nan         -nan         -nan         -nan          nan          nan          nan          nan          nan          nan          nan          nan          nan          nan          nan          nan\r\n",
      "        -nan         -nan         -nan         -nan         -nan         -nan         -nan         -nan         -nan         -nan         -nan         -nan         -nan         -nan         -nan         -nan         -nan         -nan         -nan         -nan         -nan         -nan         -nan         -nan         -nan         -nan         -nan         -nan         -nan         -nan         -nan         -nan         -nan         -nan         -nan\r\n",
      "        -nan         -nan         -nan         -nan         -nan         -nan         -nan         -nan         -nan         -nan         -nan         -nan         -nan         -nan         -nan         -nan         -nan         -nan         -nan         -nan         -nan         -nan         -nan         -nan         -nan         -nan         -nan         -nan         -nan         -nan         -nan         -nan         -nan         -nan         -nan\r\n",
      "        -nan         -nan         -nan         -nan         -nan         -nan         -nan         -nan         -nan         -nan         -nan         -nan         -nan         -nan         -nan         -nan         -nan         -nan         -nan         -nan         -nan         -nan         -nan          nan          nan          nan          nan          nan          nan          nan          nan          nan          nan          nan          nan\r\n",
      "        -nan         -nan         -nan         -nan         -nan         -nan         -nan         -nan         -nan         -nan         -nan         -nan         -nan         -nan         -nan         -nan         -nan         -nan         -nan         -nan         -nan         -nan         -nan          nan          nan          nan          nan          nan          nan          nan          nan          nan          nan          nan          nan\r\n",
      "        -nan         -nan         -nan         -nan         -nan         -nan         -nan         -nan         -nan         -nan         -nan         -nan         -nan         -nan         -nan         -nan         -nan         -nan         -nan         -nan         -nan         -nan         -nan         -nan         -nan         -nan         -nan         -nan         -nan         -nan         -nan         -nan         -nan         -nan         -nan\r\n",
      "        -nan         -nan         -nan         -nan         -nan         -nan         -nan         -nan         -nan         -nan         -nan         -nan         -nan         -nan         -nan         -nan         -nan         -nan         -nan         -nan         -nan         -nan         -nan         -nan         -nan         -nan         -nan         -nan         -nan         -nan         -nan         -nan         -nan         -nan         -nan\r\n",
      "        -nan         -nan         -nan         -nan         -nan         -nan         -nan         -nan         -nan         -nan         -nan         -nan         -nan         -nan         -nan         -nan         -nan         -nan         -nan         -nan         -nan         -nan         -nan          nan          nan          nan          nan          nan          nan          nan          nan          nan          nan          nan          nan\r\n",
      "        -nan         -nan         -nan         -nan         -nan         -nan         -nan         -nan         -nan         -nan         -nan         -nan         -nan         -nan         -nan         -nan         -nan         -nan         -nan         -nan         -nan         -nan         -nan          nan          nan          nan          nan          nan          nan          nan          nan          nan          nan          nan          nan\r\n",
      "        -nan         -nan         -nan         -nan         -nan         -nan         -nan         -nan         -nan         -nan         -nan         -nan         -nan         -nan         -nan         -nan         -nan         -nan         -nan         -nan         -nan         -nan         -nan         -nan          nan          nan          nan         -nan          nan          nan          nan         -nan          nan          nan          nan\r\n",
      "        -nan         -nan         -nan         -nan         -nan         -nan         -nan         -nan         -nan         -nan         -nan         -nan         -nan         -nan         -nan         -nan         -nan         -nan         -nan         -nan         -nan         -nan         -nan         -nan          nan          nan          nan         -nan          nan          nan          nan         -nan          nan          nan          nan\r\n",
      "        -nan         -nan         -nan         -nan         -nan         -nan         -nan         -nan         -nan         -nan         -nan         -nan         -nan         -nan         -nan         -nan         -nan         -nan         -nan         -nan         -nan         -nan         -nan         -nan         -nan         -nan         -nan         -nan         -nan         -nan         -nan         -nan         -nan         -nan         -nan\r\n",
      "B\r\n",
      "   0.0935659 -2.03114e-14  6.09655e-11  2.33642e-10  2.05577e-14   -0.0328713  8.62447e-14 -8.41029e-14 -3.11735e-14  -1.2659e-06   -0.0155052 -2.04952e-14 -1.30174e-05    0.0483139  3.35626e-14   -0.0481173   1.9872e-11 -2.29724e-11  3.41969e-14  3.31994e-14  7.81787e-08   -0.0250466 -5.23673e-11         -nan         -nan         -nan         -nan         -nan         -nan         -nan         -nan         -nan         -nan         -nan         -nan\r\n",
      "-2.03303e-14    0.0935659  7.86309e-14  7.64538e-14   -0.0328713  2.05768e-14 -6.93485e-10  8.66161e-10  3.29987e-10    0.0155052  -1.2659e-06  2.18245e-10   -0.0483139 -1.30174e-05   -0.0481173  3.34985e-14   1.0067e-13 -9.96395e-14 -2.78098e-10 -2.81198e-10   -0.0250466 -7.81788e-08 -1.50546e-14         -nan         -nan         -nan         -nan         -nan         -nan         -nan         -nan         -nan         -nan         -nan         -nan\r\n",
      " 6.09655e-11  7.86309e-14      0.10504  -0.00568231  6.11694e-14  2.62123e-11 -9.51163e-06  9.51163e-06   5.1649e-06  5.02259e-14 -4.11691e-11  2.35952e-06  5.02739e-14 -2.62509e-11  3.95627e-14  2.15886e-11   -0.0670098   0.00240141 -3.36293e-06 -2.07706e-05  -1.0503e-13  9.09167e-11    0.0419176         -nan         -nan         -nan         -nan         -nan         -nan         -nan         -nan         -nan         -nan         -nan         -nan\r\n",
      " 2.33642e-10  7.64538e-14  -0.00568231      0.10504  6.46914e-14 -2.63301e-10 -9.51163e-06  9.51163e-06   5.1649e-06   4.3751e-14 -1.08726e-10  2.35952e-06  5.20952e-14 -3.35764e-11  4.45888e-14 -3.84219e-10  -0.00240141    0.0670098 -2.07706e-05 -3.36293e-06 -1.02456e-13 -8.33994e-11    0.0419176         -nan         -nan         -nan         -nan         -nan         -nan         -nan         -nan         -nan         -nan         -nan         -nan\r\n",
      " 2.05673e-14   -0.0328713  6.11694e-14  6.46915e-14     0.240584   -1.886e-15 -1.05286e-09  7.63349e-10  6.49827e-10   -0.0144632  1.18082e-06  1.73493e-10  -0.00916843 -2.47028e-06   -0.0440553 -1.34682e-13  5.52153e-14 -5.20032e-14 -1.51136e-10 -1.63432e-10  -0.00432456 -1.34984e-08     3.74e-15         -nan         -nan         -nan         -nan         -nan         -nan         -nan         -nan         -nan         -nan         -nan         -nan\r\n",
      "  -0.0328713  2.05705e-14  2.62123e-11 -2.63301e-10  -1.8707e-15     0.240584  7.31031e-14 -7.66311e-14 -6.05376e-14  1.18082e-06    0.0144632 -1.62628e-14 -2.47028e-06   0.00916843 -1.34658e-13   -0.0440553 -2.41341e-11  1.18383e-11  9.83186e-15  6.62307e-15  1.34984e-08  -0.00432456  2.19108e-11         -nan         -nan         -nan         -nan         -nan         -nan         -nan         -nan         -nan         -nan         -nan         -nan\r\n",
      " 8.62446e-14 -6.93485e-10 -9.51163e-06 -9.51163e-06 -1.05286e-09  7.31031e-14     0.221542     -0.11082   -0.0632617 -5.30872e-10 -1.58942e-14   -0.0289004 -4.89916e-10 -1.79221e-13 -9.26879e-10  5.01337e-14 -1.10318e-05  -6.3759e-06   -0.0337442    0.0308642  1.18894e-09 -1.16694e-13  3.46299e-06         -nan         -nan         -nan         -nan         -nan         -nan         -nan         -nan         -nan         -nan         -nan         -nan\r\n",
      "-8.41028e-14  8.66161e-10  9.51163e-06  9.51163e-06  7.63349e-10 -7.66311e-14     -0.11082     0.221542    0.0632617  5.98429e-10  9.40131e-15    0.0289004  4.97242e-10  1.81097e-13  5.21072e-10 -5.51129e-14  -6.3759e-06 -1.10318e-05   -0.0308642    0.0337442 -1.36166e-09  1.13856e-13 -3.46299e-06         -nan         -nan         -nan         -nan         -nan         -nan         -nan         -nan         -nan         -nan         -nan         -nan\r\n",
      "-3.11734e-14  3.29987e-10   5.1649e-06   5.1649e-06  6.49827e-10 -6.05376e-14   -0.0632617    0.0632617     0.428924  4.79328e-10  5.79341e-15    -0.012098  1.75705e-11   6.4748e-15  6.21667e-10 -5.79063e-14  9.61959e-09 -9.61956e-09 -2.74002e-05 -2.74002e-05 -4.95217e-10   4.4069e-14  3.55422e-07         -nan         -nan         -nan         -nan         -nan         -nan         -nan         -nan         -nan         -nan         -nan         -nan\r\n",
      " -1.2659e-06    0.0155052  5.02259e-14  4.37511e-14   -0.0144632  1.18082e-06 -5.30872e-10  5.98429e-10  4.79328e-10     0.462759 -2.42119e-15 -2.96426e-13 -0.000635208 -2.23007e-07   -0.0104064   8.4961e-07  2.90457e-14 -2.99886e-14 -8.94167e-11 -8.39328e-11   -0.0177344  1.39254e-06 -1.02511e-15         -nan         -nan         -nan         -nan         -nan         -nan         -nan         -nan         -nan         -nan         -nan         -nan\r\n",
      "  -0.0155052  -1.2659e-06 -4.11691e-11 -1.08726e-10  1.18082e-06    0.0144632 -1.58942e-14  9.40145e-15   5.7935e-15 -2.63413e-15     0.462759 -1.63898e-16  2.23007e-07 -0.000635208   8.4961e-07    0.0104064  3.07984e-11 -3.62823e-11   1.1827e-14  1.08899e-14  1.39254e-06    0.0177344 -1.14127e-10         -nan         -nan         -nan         -nan         -nan         -nan         -nan         -nan         -nan         -nan         -nan         -nan\r\n",
      "-2.04952e-14  2.18245e-10  2.35952e-06  2.35952e-06  1.73493e-10 -1.62627e-14   -0.0289004    0.0289004    -0.012098 -2.96426e-13 -1.63892e-16     0.635437     3.22e-10  1.16559e-13 -1.32652e-10   1.2507e-14  7.37367e-06 -7.37367e-06    -0.021003    -0.021003 -1.07108e-10  9.05826e-15  1.87035e-07         -nan         -nan         -nan         -nan         -nan         -nan         -nan         -nan         -nan         -nan         -nan         -nan\r\n",
      "-1.30174e-05   -0.0483139  5.02739e-14  5.20952e-14  -0.00916843 -2.47028e-06 -4.89916e-10  4.97242e-10  1.75705e-11 -0.000635208  2.23007e-07     3.22e-10     0.916802 -8.93449e-14   -0.0222399 -5.99218e-06  1.81617e-13 -1.78897e-13 -3.71311e-10 -6.02973e-10   -0.0232165 -6.32776e-06  3.64579e-14         -nan         -nan         -nan         -nan         -nan         -nan         -nan         -nan         -nan         -nan         -nan         -nan\r\n",
      "   0.0483139 -1.30174e-05 -2.62509e-11 -3.35764e-11 -2.47028e-06   0.00916843 -1.79221e-13  1.81097e-13  6.47483e-15 -2.23007e-07 -0.000635208  1.16559e-13 -8.92412e-14     0.916802 -5.99218e-06    0.0222399  9.04567e-11  1.41205e-10 -1.86301e-13 -1.83674e-13 -6.32776e-06    0.0232165  -1.0423e-10         -nan         -nan         -nan         -nan         -nan         -nan         -nan         -nan         -nan         -nan         -nan         -nan\r\n",
      " 3.35775e-14   -0.0481173  3.95625e-14  4.45888e-14   -0.0440553  -1.3467e-13 -9.26879e-10  5.21072e-10  6.21667e-10   -0.0104064   8.4961e-07 -1.32652e-10   -0.0222399 -5.99218e-06      0.97942  1.03091e-13 -3.12786e-14 -6.07397e-14 -2.15076e-10   1.1263e-10  -0.00417248 -1.30237e-08  4.43863e-14         -nan         -nan         -nan         -nan         -nan         -nan         -nan         -nan         -nan         -nan         -nan         -nan\r\n",
      "  -0.0481173  3.35069e-14  2.15886e-11 -3.84219e-10 -1.34697e-13   -0.0440553  5.01337e-14 -5.51131e-14 -5.79063e-14   8.4961e-07    0.0104064   1.2507e-14 -5.99218e-06    0.0222399  1.03169e-13      0.97942  1.31024e-10  1.96683e-10  -5.2794e-14  3.92429e-14  1.30237e-08  -0.00417248  4.31217e-10         -nan         -nan         -nan         -nan         -nan         -nan         -nan         -nan         -nan         -nan         -nan         -nan\r\n",
      "  1.9872e-11   1.0067e-13   -0.0670098  -0.00240141  5.52153e-14 -2.41341e-11 -1.10318e-05  -6.3759e-06  9.61959e-09  2.90457e-14  3.07984e-11  7.37367e-06  1.81617e-13  9.04567e-11 -3.12786e-14  1.31024e-10       1.0596  -0.00440413 -2.84835e-05 -2.84835e-05 -2.50795e-13 -2.35524e-11   -0.0159918         -nan         -nan         -nan         -nan         -nan         -nan         -nan         -nan         -nan         -nan         -nan         -nan\r\n",
      "-2.29724e-11 -9.96395e-14   0.00240141    0.0670098 -5.20032e-14  1.18383e-11  -6.3759e-06 -1.10318e-05 -9.61956e-09 -2.99886e-14 -3.62823e-11 -7.37367e-06 -1.78897e-13  1.41205e-10 -6.07397e-14  1.96683e-10  -0.00440413       1.0596  2.84835e-05  2.84835e-05  2.10589e-13  1.64385e-10    0.0159918         -nan         -nan         -nan         -nan         -nan         -nan         -nan         -nan         -nan         -nan         -nan         -nan\r\n",
      " 3.41969e-14 -2.78098e-10 -3.36293e-06 -2.07706e-05 -1.51136e-10  9.83186e-15   -0.0337442   -0.0308642 -2.74002e-05 -8.94167e-11   1.1827e-14    -0.021003 -3.71311e-10 -1.86301e-13 -2.15076e-10  -5.2794e-14 -2.84835e-05  2.84835e-05      1.14073     0.085536  5.62041e-10 -1.09547e-13 -5.93564e-06         -nan         -nan         -nan         -nan         -nan         -nan         -nan         -nan         -nan         -nan         -nan         -nan\r\n",
      " 3.31994e-14 -2.81198e-10 -2.07706e-05 -3.36293e-06 -1.63432e-10  6.62307e-15    0.0308642    0.0337442 -2.74002e-05 -8.39328e-11  1.08899e-14    -0.021003 -6.02973e-10 -1.83674e-13   1.1263e-10  3.92429e-14 -2.84835e-05  2.84835e-05     0.085536      1.14073  7.02584e-10 -6.93643e-14 -5.93564e-06         -nan         -nan         -nan         -nan         -nan         -nan         -nan         -nan         -nan         -nan         -nan         -nan\r\n",
      " 1.78706e-07   -0.0572532 -3.54171e-13 -3.50137e-13  -0.00341529  1.06602e-08   4.1284e-09 -4.38905e-09 -6.37935e-10   -0.0102623  8.05816e-07 -1.16523e-10   -0.0185867  -5.0659e-06   -0.0190696  5.95226e-08 -5.32635e-14  -3.9171e-15 -5.04659e-11  1.50414e-10     0.599386  3.33505e-13  2.55284e-13         -nan         -nan         -nan         -nan         -nan         -nan         -nan         -nan         -nan         -nan         -nan         -nan\r\n",
      "  -0.0572532 -1.78706e-07  8.19174e-11 -1.79426e-10 -1.06602e-08  -0.00341529 -3.94114e-13  3.89989e-13  5.94268e-14  8.05816e-07    0.0102623  1.12286e-14  -5.0659e-06    0.0185867 -5.95226e-08   -0.0190696  2.12095e-11  1.78422e-10 -6.14364e-14 -4.69207e-15  3.33534e-13     0.599386  2.61312e-09         -nan         -nan         -nan         -nan         -nan         -nan         -nan         -nan         -nan         -nan         -nan         -nan\r\n",
      " 6.18675e-11 -7.04199e-15    0.0423952    0.0423952 -8.02331e-15 -5.25863e-11  3.47428e-06 -3.47428e-06 -3.77673e-07  -6.7729e-15 -8.87906e-11 -1.97011e-07  3.24815e-14 -1.15882e-10  3.46776e-14  4.93168e-10    -0.016942     0.016942 -5.63845e-06 -5.63845e-06  3.25105e-13  2.39357e-09       1.9863         -nan         -nan         -nan         -nan         -nan         -nan         -nan         -nan         -nan         -nan         -nan         -nan\r\n",
      "        -nan         -nan         -nan         -nan         -nan         -nan         -nan         -nan         -nan         -nan         -nan         -nan         -nan         -nan         -nan         -nan         -nan         -nan         -nan         -nan         -nan         -nan         -nan         -nan         -nan         -nan         -nan         -nan         -nan         -nan         -nan         -nan         -nan         -nan         -nan\r\n",
      "        -nan         -nan         -nan         -nan         -nan         -nan         -nan         -nan         -nan         -nan         -nan         -nan         -nan         -nan         -nan         -nan         -nan         -nan         -nan         -nan         -nan         -nan         -nan         -nan         -nan         -nan         -nan         -nan         -nan         -nan         -nan         -nan         -nan         -nan         -nan\r\n",
      "        -nan         -nan         -nan         -nan         -nan         -nan         -nan         -nan         -nan         -nan         -nan         -nan         -nan         -nan         -nan         -nan         -nan         -nan         -nan         -nan         -nan         -nan         -nan         -nan         -nan         -nan         -nan         -nan         -nan         -nan         -nan         -nan         -nan         -nan         -nan\r\n",
      "        -nan         -nan         -nan         -nan         -nan         -nan         -nan         -nan         -nan         -nan         -nan         -nan         -nan         -nan         -nan         -nan         -nan         -nan         -nan         -nan         -nan         -nan         -nan         -nan         -nan         -nan         -nan         -nan         -nan         -nan         -nan         -nan         -nan         -nan         -nan\r\n",
      "        -nan         -nan         -nan         -nan         -nan         -nan         -nan         -nan         -nan         -nan         -nan         -nan         -nan         -nan         -nan         -nan         -nan         -nan         -nan         -nan         -nan         -nan         -nan         -nan         -nan         -nan         -nan         -nan         -nan         -nan         -nan         -nan         -nan         -nan         -nan\r\n",
      "        -nan         -nan         -nan         -nan         -nan         -nan         -nan         -nan         -nan         -nan         -nan         -nan         -nan         -nan         -nan         -nan         -nan         -nan         -nan         -nan         -nan         -nan         -nan         -nan         -nan         -nan         -nan         -nan         -nan         -nan         -nan         -nan         -nan         -nan         -nan\r\n",
      "        -nan         -nan         -nan         -nan         -nan         -nan         -nan         -nan         -nan         -nan         -nan         -nan         -nan         -nan         -nan         -nan         -nan         -nan         -nan         -nan         -nan         -nan         -nan         -nan         -nan         -nan         -nan         -nan         -nan         -nan         -nan         -nan         -nan         -nan         -nan\r\n",
      "        -nan         -nan         -nan         -nan         -nan         -nan         -nan         -nan         -nan         -nan         -nan         -nan         -nan         -nan         -nan         -nan         -nan         -nan         -nan         -nan         -nan         -nan         -nan         -nan         -nan         -nan         -nan         -nan         -nan         -nan         -nan         -nan         -nan         -nan         -nan\r\n",
      "        -nan         -nan         -nan         -nan         -nan         -nan         -nan         -nan         -nan         -nan         -nan         -nan         -nan         -nan         -nan         -nan         -nan         -nan         -nan         -nan         -nan         -nan         -nan         -nan         -nan         -nan         -nan         -nan         -nan         -nan         -nan         -nan         -nan         -nan         -nan\r\n",
      "        -nan         -nan         -nan         -nan         -nan         -nan         -nan         -nan         -nan         -nan         -nan         -nan         -nan         -nan         -nan         -nan         -nan         -nan         -nan         -nan         -nan         -nan         -nan         -nan         -nan         -nan         -nan         -nan         -nan         -nan         -nan         -nan         -nan         -nan         -nan\r\n",
      "        -nan         -nan         -nan         -nan         -nan         -nan         -nan         -nan         -nan         -nan         -nan         -nan         -nan         -nan         -nan         -nan         -nan         -nan         -nan         -nan         -nan         -nan         -nan         -nan         -nan         -nan         -nan         -nan         -nan         -nan         -nan         -nan         -nan         -nan         -nan\r\n",
      "        -nan         -nan         -nan         -nan         -nan         -nan         -nan         -nan         -nan         -nan         -nan         -nan         -nan         -nan         -nan         -nan         -nan         -nan         -nan         -nan         -nan         -nan         -nan          nan          nan          nan          nan          nan          nan          nan          nan          nan          nan          nan          nan\r\n",
      "an error occurred:\r\n",
      "Small generalized eigenvalue problem failed.\r\n"
     ]
    }
   ],
   "source": [
    "!xtp_tools -c job_name=CO geometry_optimization.maxiter=1 dftpackage.basisset=3-21G dftpackage.auxbasisset=aux-def2-svp gwbse.gw.mode=G0W0 -e dftgwbse -t 4"
   ]
  },
  {
   "cell_type": "markdown",
   "metadata": {},
   "source": [
    "Notice that we are using 4 threads. The results will be stored in a file named `CO_summary.xml` in the current work directory, together with the optimization step in `optimisation.trj` and the orbitals in [hdf5 format](https://www.hdfgroup.org/solutions/hdf5/) saved on `CO.orb`."
   ]
  }
 ],
 "metadata": {
  "kernelspec": {
   "display_name": "Python 3",
   "language": "python",
   "name": "python3"
  },
  "language_info": {
   "codemirror_mode": {
    "name": "ipython",
    "version": 3
   },
   "file_extension": ".py",
   "mimetype": "text/x-python",
   "name": "python",
   "nbconvert_exporter": "python",
   "pygments_lexer": "ipython3",
   "version": "3.10.4"
  }
 },
 "nbformat": 4,
 "nbformat_minor": 4
}
