{
 "cells": [
  {
   "cell_type": "markdown",
   "metadata": {},
   "source": [
    "## DFT + GWBSE Optimization Using CO"
   ]
  },
  {
   "cell_type": "markdown",
   "metadata": {},
   "source": [
    "## Introduction\n",
    "This tutorial explains how to perform a molecular geometric optimization using the **GWBSE** method. See [the GW Compendium: A Practical Guide to Theoretical Photoemission Spectroscopy](https://doi.org/10.3389/fchem.2019.00377), for an excellent introduction to the method."
   ]
  },
  {
   "cell_type": "markdown",
   "metadata": {},
   "source": [
    "## Requirements\n",
    "* You will need to install **VOTCA** using the instructions described [here](https://github.com/votca/votca/blob/master/share/doc/INSTALL.rst)\n",
    "* Once the installation is completed you need to activate the VOTCA enviroment by running the `VOTCARC.bash` script that has been installed at the bin subfolder for the path that you have provided for the installation step above"
   ]
  },
  {
   "cell_type": "markdown",
   "metadata": {},
   "source": [
    "## Preparing the input\n",
    "To run a DFT-GWBSE calculation we will use the [xtp_tools](https://www.votca.org/xtp/xtp_tools_overview.html) calculator."
   ]
  },
  {
   "cell_type": "markdown",
   "metadata": {},
   "source": [
    "we can now change the calculator mode from single point energy calculation to optimization as follows by adding \n",
    "`-c geometry_optimization.maxiter=1` which enables optimization with one iteration. "
   ]
  },
  {
   "cell_type": "markdown",
   "metadata": {},
   "source": [
    "Because geometry optimsation is quite expensive numerically we chose a smaller basisset and G0W0 Finally, to run the calculation we just need the following command (This still takes a while)"
   ]
  },
  {
   "cell_type": "code",
   "execution_count": 1,
   "metadata": {
    "execution": {
     "iopub.execute_input": "2022-06-10T06:16:36.141169Z",
     "iopub.status.busy": "2022-06-10T06:16:36.140590Z",
     "iopub.status.idle": "2022-06-10T06:16:51.117152Z",
     "shell.execute_reply": "2022-06-10T06:16:51.117519Z"
    }
   },
   "outputs": [
    {
     "name": "stdout",
     "output_type": "stream",
     "text": [
      "==================================================\r\n",
      "========   VOTCA (http://www.votca.org)   ========\r\n",
      "==================================================\r\n",
      "\r\n",
      "please submit bugs to https://github.com/votca/xtp/issues\r\n",
      "\r\n",
      "xtp_tools, version 2023-dev gitid: d2c50dd (compiled Jun 10 2022, 06:06:00)\r\n",
      "votca_csg, version 2023-dev gitid: d2c50dd (compiled Jun 10 2022, 05:45:46)\r\n",
      "votca_tools, version 2023-dev gitid: d2c50dd (compiled Jun 10 2022, 05:42:10)\r\n",
      "\r\n",
      "Initializing tool\r\n",
      "... dftgwbse Evaluating tool\r\n",
      "... dftgwbse  Using 4 threads\r\n",
      "... ... Reading structure from CO.xyz\r\n",
      "... ... Requested geometry optimization of excited state s1\r\n",
      "... ... Initial state: s1\r\n",
      "... ... WARNING: No tracker is used \r\n",
      "... ... Convergence of total energy: 0.000001 Hartree \r\n",
      "... ... Convergence of RMS Force:    0.000030 Hartree/Bohr \r\n",
      "... ... Convergence of Max Force:    0.000100 Hartree/Bohr \r\n",
      "... ... Convergence of RMS Step:     0.000600 Bohr \r\n",
      "... ... Convergence of Max Step:     0.001000 Bohr \r\n",
      "... ... Initial trust radius:        0.018897 BohrA\r\n",
      "    0.307132 -3.10146e-11  4.45613e-11  -2.3072e-10  2.35001e-11   -0.0516061  8.55625e-10  7.79092e-10 -3.22621e-10    0.0181638  -0.00105675 -7.15353e-11    0.0103321     0.037581 -2.02684e-11    0.0421019 -2.33049e-10  1.30553e-10 -3.01471e-10 -1.07303e-10  0.000480989    -0.108408 -1.28184e-10 -1.07781e-10          nan          nan          nan          nan          nan          nan          nan          nan          nan          nan          nan\r\n",
      "-3.10147e-11     0.307132 -1.47316e-10   7.0782e-11   -0.0516061  2.35001e-11  9.00243e-10   1.0864e-09 -1.97405e-10   0.00105675    0.0181638 -2.25158e-10     0.037581   -0.0103321    0.0421019 -2.02684e-11 -1.93838e-11  2.13552e-10 -9.74874e-11  5.00824e-12    -0.108408 -0.000480989 -1.34457e-11 -2.38966e-12          nan          nan          nan          nan          nan          nan          nan          nan          nan          nan          nan\r\n",
      " 4.45613e-11 -1.47316e-10     0.320627   0.00926768  1.56426e-10  1.03002e-10    0.0133644    0.0133644  -0.00498385 -5.82005e-11 -1.47032e-11  -0.00212328 -8.94554e-11   1.8313e-10 -1.71643e-10 -2.09327e-11    0.0470695  -0.00128768  -0.00258291   -0.0151696  1.82122e-10 -3.05113e-10   -0.0254901    0.0124181          nan          nan          nan          nan          nan          nan          nan          nan          nan          nan          nan\r\n",
      " -2.3072e-10   7.0782e-11   0.00926768     0.320627 -1.69752e-10   3.2394e-10   -0.0133644   -0.0133644   0.00498385 -5.01129e-11  6.88077e-11   0.00212328  7.30464e-11  -1.4469e-10   6.9011e-11 -1.85843e-10  -0.00128768    0.0470695    0.0151696   0.00258291 -1.68642e-10  7.89454e-10    0.0254901    0.0124181          nan          nan          nan          nan          nan          nan          nan          nan          nan          nan          nan\r\n",
      " 2.35001e-11   -0.0516061  1.56426e-10 -1.69752e-10     0.490902 -2.89128e-12  1.80086e-09  1.37392e-09 -8.20734e-10 -0.000781944   -0.0134404 -1.98452e-10   0.00770787  -0.00211911    0.0309987  6.69502e-11 -6.50584e-11 -1.89688e-10 -1.33756e-10 -2.73799e-10    0.0531267  0.000235715  1.67522e-10  6.74718e-11          nan          nan          nan          nan          nan          nan          nan          nan          nan          nan          nan\r\n",
      "  -0.0516061  2.35001e-11  1.03002e-10   3.2394e-10 -2.89124e-12     0.490902 -2.54521e-10 -2.67848e-10  1.54983e-10   -0.0134404  0.000781944  1.92697e-11   0.00211911   0.00770787  6.69502e-11    0.0309987   1.9111e-10 -5.10663e-11  9.18639e-11 -1.62882e-10 -0.000235715    0.0531267  2.48373e-10  5.55653e-11          nan          nan          nan          nan          nan          nan          nan          nan          nan          nan          nan\r\n",
      " 8.55625e-10  9.00243e-10    0.0133644   -0.0133644  1.80086e-09 -2.54521e-10     0.549563     0.219668   -0.0856646 -7.12092e-12  6.43989e-10   -0.0364958 -1.85634e-09  2.97713e-09 -9.22334e-10  3.15836e-10   -0.0113211   -0.0012656    0.0127106   -0.0330712  5.13149e-10  -7.4601e-09  -0.00157035   -0.0186632          nan          nan          nan          nan          nan          nan          nan          nan          nan          nan          nan\r\n",
      " 7.79092e-10   1.0864e-09    0.0133644   -0.0133644  1.37392e-09 -2.67848e-10     0.219668     0.549563   -0.0856646  4.69836e-11  7.52302e-10   -0.0364958 -1.89478e-09  2.96072e-09 -7.15558e-10  2.13204e-10    0.0012656    0.0113211   -0.0330712    0.0127106   4.2613e-11 -7.44288e-09  -0.00157035    0.0186632          nan          nan          nan          nan          nan          nan          nan          nan          nan          nan          nan\r\n",
      "-3.22621e-10 -1.97405e-10  -0.00498385   0.00498385 -8.20734e-10  1.54983e-10   -0.0856646   -0.0856646     0.662947  -1.7499e-10 -2.31593e-10  -0.00632525  4.08895e-10  -7.4102e-10  5.58327e-10 -1.54233e-10    0.0013128   -0.0013128   0.00387803   0.00387803  -9.1989e-10  2.85829e-09   0.00114332  5.79729e-09          nan          nan          nan          nan          nan          nan          nan          nan          nan          nan          nan\r\n",
      "   0.0181638   0.00105675 -5.82005e-11 -5.01129e-11 -0.000781944   -0.0134404 -7.12092e-12  4.69836e-11  -1.7499e-10     0.680922  1.58612e-12  8.85895e-11  2.69946e-05  7.97426e-05  0.000501637   0.00862234 -3.66211e-10 -3.65161e-11  6.96259e-11  8.83684e-10  -0.00220115   -0.0409685 -8.96063e-10 -4.74282e-10          nan          nan          nan          nan          nan          nan          nan          nan          nan          nan          nan\r\n",
      " -0.00105675    0.0181638 -1.47032e-11  6.88077e-11   -0.0134404  0.000781944  6.43989e-10  7.52302e-10 -2.31593e-10   1.5862e-12     0.680922 -1.12766e-10  7.97426e-05 -2.69945e-05   0.00862234 -0.000501637 -5.77487e-11  8.71807e-10  -5.5225e-10 -1.49523e-10   -0.0409685   0.00220115 -8.14789e-10 -1.09173e-09          nan          nan          nan          nan          nan          nan          nan          nan          nan          nan          nan\r\n",
      "-7.15353e-11 -2.25158e-10  -0.00212328   0.00212328 -1.98452e-10  1.92697e-11   -0.0364958   -0.0364958  -0.00632525  8.85895e-11 -1.12766e-10      0.79826  3.98819e-10  -4.6797e-10 -1.57887e-11 -4.96614e-11   0.00464128  -0.00464128    0.0137105    0.0137105  8.86677e-11  8.70737e-10  0.000453178  2.42182e-09          nan          nan          nan          nan          nan          nan          nan          nan          nan          nan          nan\r\n",
      "   0.0103321     0.037581 -8.94554e-11  7.30464e-11   0.00770787   0.00211911 -1.85634e-09 -1.89478e-09  4.08895e-10  2.69946e-05  7.97426e-05  3.98819e-10     0.956418  4.27563e-11    -0.012672  -0.00348389  3.03504e-10 -4.15709e-10   1.0522e-09  1.05158e-09    0.0192826   0.00539346  3.05767e-11 -2.36094e-12          nan          nan          nan          nan          nan          nan          nan          nan          nan          nan          nan\r\n",
      "    0.037581   -0.0103321   1.8313e-10  -1.4469e-10  -0.00211911   0.00770787  2.97713e-09  2.96072e-09  -7.4102e-10  7.97426e-05 -2.69945e-05  -4.6797e-10  4.27563e-11     0.956418   0.00348389    -0.012672 -5.75067e-10  5.75686e-10 -1.67332e-09 -1.78553e-09  -0.00539346    0.0192826 -7.82448e-12  6.15933e-11          nan          nan          nan          nan          nan          nan          nan          nan          nan          nan          nan\r\n",
      "-2.02684e-11    0.0421019 -1.71643e-10   6.9011e-11    0.0309987  6.69503e-11 -9.22334e-10 -7.15558e-10  5.58327e-10  0.000501637   0.00862234 -1.57887e-11    -0.012672   0.00348389     0.988566  3.78324e-11  8.54689e-12 -1.86192e-10  2.23478e-10 -1.97817e-11   -0.0223628 -9.92206e-05  3.66013e-10  8.06237e-11          nan          nan          nan          nan          nan          nan          nan          nan          nan          nan          nan\r\n",
      "   0.0421019 -2.02683e-11 -2.09327e-11 -1.85843e-10  6.69502e-11    0.0309987  3.15836e-10  2.13204e-10 -1.54233e-10   0.00862234 -0.000501637 -4.96614e-11  -0.00348389    -0.012672  3.78324e-11     0.988566  1.22219e-10  1.21041e-10 -1.18812e-11 -1.89526e-10  9.92206e-05   -0.0223628  4.45784e-10   1.0506e-10          nan          nan          nan          nan          nan          nan          nan          nan          nan          nan          nan\r\n",
      "-2.33049e-10 -1.93838e-11    0.0470695  -0.00128768 -6.50584e-11   1.9111e-10   -0.0113211    0.0012656    0.0013128 -3.66211e-10 -5.77487e-11   0.00464128  3.03504e-10 -5.75067e-10  8.54689e-12  1.22219e-10      1.03318  -0.00653996    0.0132103    0.0132103  -5.7583e-11  5.05012e-10  -0.00427515  0.000191904          nan          nan          nan          nan          nan          nan          nan          nan          nan          nan          nan\r\n",
      " 1.30553e-10  2.13552e-10  -0.00128768    0.0470695 -1.89688e-10 -5.10663e-11   -0.0012656    0.0113211   -0.0013128 -3.65161e-11  8.71807e-10  -0.00464128 -4.15709e-10  5.75686e-10 -1.86192e-10  1.21041e-10  -0.00653996      1.03318   -0.0132103   -0.0132103  6.21475e-11 -5.84066e-10   0.00427515  0.000191903          nan          nan          nan          nan          nan          nan          nan          nan          nan          nan          nan\r\n",
      "-3.01471e-10 -9.74874e-11  -0.00258291    0.0151696 -1.33756e-10  9.18639e-11    0.0127106   -0.0330712   0.00387803  6.96259e-11  -5.5225e-10    0.0137105   1.0522e-09 -1.67332e-09  2.23478e-10 -1.18812e-11    0.0132103   -0.0132103      1.06773    0.0410916 -2.87709e-10  1.40645e-09   0.00204566 -0.000458164          nan          nan          nan          nan          nan          nan          nan          nan          nan          nan          nan\r\n",
      "-1.07303e-10  5.00824e-12   -0.0151696   0.00258291 -2.73799e-10 -1.62882e-10   -0.0330712    0.0127106   0.00387803  8.83684e-10 -1.49523e-10    0.0137105  1.05158e-09 -1.78553e-09 -1.97817e-11 -1.89526e-10    0.0132103   -0.0132103    0.0410916      1.06773  -2.1033e-10  1.41112e-09   0.00204566  0.000458168          nan          nan          nan          nan          nan          nan          nan          nan          nan          nan          nan\r\n",
      "-0.000333858    0.0752465  -2.4858e-10  3.00436e-10   -0.0690159  0.000306214 -1.37681e-09 -1.00881e-09  9.71161e-10   0.00166075    0.0309103 -4.51169e-11  -0.00867057   0.00242521    0.0364086 -0.000161539  1.19508e-10 -1.20777e-10  4.88057e-10  4.85267e-10    -0.194424  2.24387e-10  3.79908e-09   1.0712e-09          nan          nan          nan          nan          nan          nan          nan          nan          nan          nan          nan\r\n",
      "   0.0752465  0.000333858  1.78432e-10  -5.5791e-10 -0.000306213   -0.0690159  5.06006e-09  5.10925e-09  -2.2612e-09    0.0309103  -0.00166075 -7.95698e-10  -0.00242521  -0.00867057  0.000161539    0.0364086 -4.42695e-10  4.47925e-10 -1.20911e-09 -1.21035e-09  2.24387e-10    -0.194424  1.19909e-09  1.26408e-09          nan          nan          nan          nan          nan          nan          nan          nan          nan          nan          nan\r\n",
      "-3.04834e-10 -4.79429e-10   -0.0141837    0.0141837  4.10997e-10  1.86452e-10   0.00438264   0.00438264  -0.00132976 -1.14243e-09  -1.0775e-09 -0.000533016  7.68383e-11  1.04383e-10  -4.1475e-11  1.63499e-10  -0.00597929   0.00597929   0.00149453   0.00149453  3.89347e-09  1.34987e-09     0.958364  6.65362e-09          nan          nan          nan          nan          nan          nan          nan          nan          nan          nan          nan\r\n",
      "-1.78052e-10 -3.09821e-10  -0.00350156  -0.00350156  8.69596e-10 -7.08533e-11   0.00359632  -0.00359631 -3.11263e-09 -4.42791e-10 -1.16493e-09 -1.73462e-09  5.48099e-11  1.05939e-10  2.12165e-10   6.3799e-11   0.00361774   0.00361774  -0.00322212   0.00322212  1.02983e-09  1.43397e-09  6.98877e-09     0.178598          nan          nan          nan          nan          nan          nan          nan          nan          nan          nan          nan\r\n",
      "        -nan         -nan         -nan         -nan         -nan         -nan         -nan         -nan         -nan         -nan         -nan         -nan         -nan         -nan         -nan         -nan         -nan         -nan         -nan         -nan         -nan         -nan         -nan         -nan         -nan         -nan         -nan         -nan         -nan         -nan         -nan         -nan         -nan         -nan         -nan\r\n",
      "        -nan         -nan         -nan         -nan         -nan         -nan         -nan         -nan         -nan         -nan         -nan         -nan         -nan         -nan         -nan         -nan         -nan         -nan         -nan         -nan         -nan         -nan         -nan         -nan         -nan         -nan         -nan         -nan         -nan         -nan         -nan         -nan         -nan         -nan         -nan\r\n",
      "        -nan         -nan         -nan         -nan         -nan         -nan         -nan         -nan         -nan         -nan         -nan         -nan         -nan         -nan         -nan         -nan         -nan         -nan         -nan         -nan         -nan         -nan         -nan         -nan          nan          nan          nan          nan          nan          nan          nan          nan          nan          nan          nan\r\n",
      "        -nan         -nan         -nan         -nan         -nan         -nan         -nan         -nan         -nan         -nan         -nan         -nan         -nan         -nan         -nan         -nan         -nan         -nan         -nan         -nan         -nan         -nan         -nan         -nan          nan          nan          nan          nan          nan          nan          nan          nan          nan          nan          nan\r\n",
      "        -nan         -nan         -nan         -nan         -nan         -nan         -nan         -nan         -nan         -nan         -nan         -nan         -nan         -nan         -nan         -nan         -nan         -nan         -nan         -nan         -nan         -nan         -nan         -nan         -nan         -nan         -nan         -nan         -nan         -nan         -nan         -nan         -nan         -nan         -nan\r\n",
      "        -nan         -nan         -nan         -nan         -nan         -nan         -nan         -nan         -nan         -nan         -nan         -nan         -nan         -nan         -nan         -nan         -nan         -nan         -nan         -nan         -nan         -nan         -nan         -nan         -nan         -nan         -nan         -nan         -nan         -nan         -nan         -nan         -nan         -nan         -nan\r\n",
      "        -nan         -nan         -nan         -nan         -nan         -nan         -nan         -nan         -nan         -nan         -nan         -nan         -nan         -nan         -nan         -nan         -nan         -nan         -nan         -nan         -nan         -nan         -nan         -nan          nan          nan          nan          nan          nan          nan          nan          nan          nan          nan          nan\r\n",
      "        -nan         -nan         -nan         -nan         -nan         -nan         -nan         -nan         -nan         -nan         -nan         -nan         -nan         -nan         -nan         -nan         -nan         -nan         -nan         -nan         -nan         -nan         -nan         -nan          nan          nan          nan          nan          nan          nan          nan          nan          nan          nan          nan\r\n",
      "        -nan         -nan         -nan         -nan         -nan         -nan         -nan         -nan         -nan         -nan         -nan         -nan         -nan         -nan         -nan         -nan         -nan         -nan         -nan         -nan         -nan         -nan         -nan         -nan          nan          nan          nan         -nan          nan          nan          nan         -nan          nan          nan          nan\r\n",
      "        -nan         -nan         -nan         -nan         -nan         -nan         -nan         -nan         -nan         -nan         -nan         -nan         -nan         -nan         -nan         -nan         -nan         -nan         -nan         -nan         -nan         -nan         -nan         -nan          nan          nan          nan         -nan          nan          nan          nan         -nan          nan          nan          nan\r\n",
      "        -nan         -nan         -nan         -nan         -nan         -nan         -nan         -nan         -nan         -nan         -nan         -nan         -nan         -nan         -nan         -nan         -nan         -nan         -nan         -nan         -nan         -nan         -nan         -nan         -nan         -nan         -nan         -nan         -nan         -nan         -nan         -nan         -nan         -nan         -nan\r\n",
      "B\r\n",
      "    0.093811 -1.37864e-11  1.67872e-11 -1.31199e-10  1.44528e-11   -0.0328898  3.54541e-10  2.99654e-10 -1.98329e-10    0.0155309 -0.000903569 -3.66569e-11    0.0128115    0.0465996 -2.35493e-11    0.0481429   -2.875e-10  1.38482e-10 -3.10745e-10 -3.82753e-11    0.0001114   -0.0251078 -4.01128e-10 -2.39857e-10         -nan         -nan         -nan         -nan         -nan         -nan         -nan         -nan         -nan         -nan         -nan\r\n",
      "-1.37864e-11     0.093811 -9.50616e-11  4.01747e-11   -0.0328898  1.44528e-11  3.69122e-10  4.83534e-10 -1.23094e-10  0.000903569    0.0155309 -1.66761e-10    0.0465996   -0.0128115    0.0481429 -2.35493e-11 -1.28818e-11  2.85352e-10 -7.57845e-11  7.32335e-11   -0.0251078   -0.0001114 -5.11047e-10 -3.37171e-10         -nan         -nan         -nan         -nan         -nan         -nan         -nan         -nan         -nan         -nan         -nan\r\n",
      " 1.67872e-11 -9.50616e-11     0.105882   0.00530029  1.02685e-10  7.15186e-11    0.0067704    0.0067704  -0.00366494  -5.1845e-11 -2.02855e-11  -0.00166482 -9.66298e-11  2.03132e-10 -2.10619e-10 -2.54666e-11    0.0640777  -0.00170484  -0.00247801    -0.019626 -6.24143e-11 -1.11422e-11   -0.0418855   0.00905445         -nan         -nan         -nan         -nan         -nan         -nan         -nan         -nan         -nan         -nan         -nan\r\n",
      "-1.31199e-10  4.01747e-11   0.00530029     0.105882  -1.0977e-10  2.29076e-10   -0.0067704   -0.0067704   0.00366494 -5.46515e-11  7.11911e-11   0.00166482  7.33562e-11 -1.52872e-10  7.35186e-11 -2.18444e-10  -0.00170484    0.0640777     0.019626   0.00247801  1.33483e-10  1.11393e-10    0.0418855   0.00905445         -nan         -nan         -nan         -nan         -nan         -nan         -nan         -nan         -nan         -nan         -nan\r\n",
      " 1.44528e-11   -0.0328898  1.02685e-10  -1.0977e-10     0.240891 -6.93685e-13  1.10445e-09  8.03856e-10 -6.98467e-10 -0.000840311   -0.0144436 -1.60499e-10    0.0088163  -0.00242385    0.0441772  9.30651e-11 -5.64761e-11 -3.34204e-10 -5.72912e-11 -2.87389e-10  -0.00438142 -1.94397e-05  5.20778e-10  8.20962e-10         -nan         -nan         -nan         -nan         -nan         -nan         -nan         -nan         -nan         -nan         -nan\r\n",
      "  -0.0328898  1.44528e-11  7.15186e-11  2.29076e-10 -6.93635e-13     0.240891 -1.39729e-10 -1.46814e-10   1.2426e-10   -0.0144436  0.000840311  9.89704e-12   0.00242385    0.0088163  9.30652e-11    0.0441772  2.80029e-10 -4.99307e-11  1.11435e-10 -2.79245e-10  1.94397e-05  -0.00438142  4.31951e-10  -4.1691e-11         -nan         -nan         -nan         -nan         -nan         -nan         -nan         -nan         -nan         -nan         -nan\r\n",
      " 3.54541e-10  3.69122e-10    0.0067704   -0.0067704  1.10445e-09 -1.39729e-10      0.22186     0.110678   -0.0629945 -1.32148e-12  4.62565e-10   -0.0286157 -1.92952e-09    3.223e-09 -1.03144e-09  3.28833e-10   -0.0100562  -0.00709188    0.0331039    -0.029269 -8.01274e-10 -3.84382e-10   0.00293112   -0.0152685         -nan         -nan         -nan         -nan         -nan         -nan         -nan         -nan         -nan         -nan         -nan\r\n",
      " 2.99654e-10  4.83534e-10    0.0067704   -0.0067704  8.03856e-10 -1.46814e-10     0.110678      0.22186   -0.0629945  4.95842e-11  5.69062e-10   -0.0286157 -1.97978e-09  3.19973e-09 -7.87529e-10  1.91733e-10   0.00709188    0.0100562    -0.029269    0.0331039 -8.98714e-10 -3.12334e-10   0.00293112    0.0152685         -nan         -nan         -nan         -nan         -nan         -nan         -nan         -nan         -nan         -nan         -nan\r\n",
      "-1.98329e-10 -1.23094e-10  -0.00366494   0.00366494 -6.98467e-10   1.2426e-10   -0.0629945   -0.0629945     0.429278 -2.25289e-10 -2.34111e-10   -0.0121538   4.5701e-10 -9.08818e-10  7.69106e-10 -2.08941e-10 -6.18916e-06  6.18918e-06  -1.8283e-05 -1.82829e-05 -7.45361e-11  5.84277e-10  5.94716e-05  1.40257e-09         -nan         -nan         -nan         -nan         -nan         -nan         -nan         -nan         -nan         -nan         -nan\r\n",
      "   0.0155309  0.000903569  -5.1845e-11 -5.46515e-11 -0.000840311   -0.0144436 -1.32148e-12  4.95842e-11 -2.25289e-10     0.463967  2.11829e-12  1.17677e-10  0.000207392  0.000612642  0.000602612     0.010358 -6.17036e-10 -6.25019e-11  1.11995e-10  1.49024e-09 -0.000951485   -0.0177093 -1.86778e-09 -8.92861e-10         -nan         -nan         -nan         -nan         -nan         -nan         -nan         -nan         -nan         -nan         -nan\r\n",
      "-0.000903569    0.0155309 -2.02855e-11  7.11911e-11   -0.0144436  0.000840311  4.62565e-10  5.69062e-10 -2.34111e-10  2.11841e-12     0.463967 -1.09258e-10  0.000612642 -0.000207392     0.010358 -0.000602612 -7.66917e-11  1.45494e-09 -8.67844e-10 -1.88306e-10   -0.0177093  0.000951485 -1.77771e-09 -1.98985e-09         -nan         -nan         -nan         -nan         -nan         -nan         -nan         -nan         -nan         -nan         -nan\r\n",
      "-3.66569e-11 -1.66761e-10  -0.00166482   0.00166482 -1.60499e-10  9.89704e-12   -0.0286157   -0.0286157   -0.0121538  1.17677e-10 -1.09258e-10     0.636067  5.48048e-10 -6.14942e-10  -6.4668e-11 -6.62001e-11    0.0067107   -0.0067107    0.0198236    0.0198236  1.03283e-10  -8.5914e-12  4.59019e-05  2.26439e-10         -nan         -nan         -nan         -nan         -nan         -nan         -nan         -nan         -nan         -nan         -nan\r\n",
      "   0.0128115    0.0465996 -9.66298e-11  7.33562e-11    0.0088163   0.00242385 -1.92952e-09 -1.97978e-09   4.5701e-10  0.000207392  0.000612642  5.48048e-10     0.917068  7.49558e-11   -0.0214939  -0.00590927  5.27957e-10 -7.57779e-10  1.86187e-09  1.85733e-09    0.0223869   0.00626175  1.65199e-10  8.30969e-11         -nan         -nan         -nan         -nan         -nan         -nan         -nan         -nan         -nan         -nan         -nan\r\n",
      "   0.0465996   -0.0128115  2.03132e-10 -1.52872e-10  -0.00242385    0.0088163    3.223e-09  3.19973e-09 -9.08818e-10  0.000612642 -0.000207392 -6.14942e-10  7.49558e-11     0.917068   0.00590927   -0.0214939 -1.02102e-09  1.02556e-09 -2.98402e-09 -3.21384e-09  -0.00626175    0.0223869  1.26469e-10  1.90223e-10         -nan         -nan         -nan         -nan         -nan         -nan         -nan         -nan         -nan         -nan         -nan\r\n",
      "-2.35493e-11    0.0481429 -2.10619e-10  7.35186e-11    0.0441772  9.30652e-11 -1.03144e-09 -7.87529e-10  7.69106e-10  0.000602612     0.010358  -6.4668e-11   -0.0214939   0.00590927     0.981535  7.29246e-11  -3.4523e-12 -3.05746e-10  3.63053e-10 -7.51409e-11   0.00424838  1.88495e-05  3.17088e-10  1.19399e-10         -nan         -nan         -nan         -nan         -nan         -nan         -nan         -nan         -nan         -nan         -nan\r\n",
      "   0.0481429 -2.35493e-11 -2.54666e-11 -2.18444e-10  9.30651e-11    0.0441772  3.28833e-10  1.91733e-10 -2.08941e-10     0.010358 -0.000602612 -6.62001e-11  -0.00590927   -0.0214939  7.29246e-11     0.981535  2.23066e-10  2.15128e-10 -7.35283e-12 -3.16551e-10 -1.88494e-05   0.00424838  6.75824e-10  1.76959e-10         -nan         -nan         -nan         -nan         -nan         -nan         -nan         -nan         -nan         -nan         -nan\r\n",
      "  -2.875e-10 -1.28818e-11    0.0640777  -0.00170484 -5.64761e-11  2.80029e-10   -0.0100562   0.00709188 -6.18916e-06 -6.17036e-10 -7.66917e-11    0.0067107  5.27957e-10 -1.02102e-09  -3.4523e-12  2.23066e-10      1.06903   -0.0127608    0.0246854    0.0246854  4.18607e-11  2.29423e-10   -0.0150557   0.00520189         -nan         -nan         -nan         -nan         -nan         -nan         -nan         -nan         -nan         -nan         -nan\r\n",
      " 1.38482e-10  2.85352e-10  -0.00170484    0.0640777 -3.34204e-10 -4.99307e-11  -0.00709188    0.0100562  6.18918e-06 -6.25019e-11  1.45494e-09   -0.0067107 -7.57779e-10  1.02556e-09 -3.05746e-10  2.15128e-10   -0.0127608      1.06903   -0.0246854   -0.0246854 -1.38813e-10 -2.90477e-10    0.0150557   0.00520189         -nan         -nan         -nan         -nan         -nan         -nan         -nan         -nan         -nan         -nan         -nan\r\n",
      "-3.10745e-10 -7.57845e-11  -0.00247801     0.019626 -5.72912e-11  1.11435e-10    0.0331039    -0.029269  -1.8283e-05  1.11995e-10 -8.67844e-10    0.0198236  1.86187e-09 -2.98402e-09  3.63053e-10 -7.35283e-12    0.0246854   -0.0246854      1.13359    0.0773256  1.19075e-10  4.33842e-10   0.00543977   -0.0051395         -nan         -nan         -nan         -nan         -nan         -nan         -nan         -nan         -nan         -nan         -nan\r\n",
      "-3.82753e-11  7.32335e-11    -0.019626   0.00247801 -2.87389e-10 -2.79245e-10    -0.029269    0.0331039 -1.82829e-05  1.49024e-09 -1.88306e-10    0.0198236  1.85733e-09 -3.21384e-09 -7.51409e-11 -3.16551e-10    0.0246854   -0.0246854    0.0773256      1.13359  1.80344e-10   3.3716e-10   0.00543977    0.0051395         -nan         -nan         -nan         -nan         -nan         -nan         -nan         -nan         -nan         -nan         -nan\r\n",
      " 0.000254483   -0.0573567  6.11186e-13  4.60386e-11  -0.00347861  1.54341e-05   -3.281e-10 -5.32709e-10 -3.98942e-12 -0.000547532   -0.0101908  -2.3316e-11    0.0179521   -0.0050213    0.0191591 -8.50063e-05 -2.23017e-13  9.08066e-11  5.04382e-11  2.62755e-10     0.600541  2.24908e-10  2.81261e-09 -4.76984e-10         -nan         -nan         -nan         -nan         -nan         -nan         -nan         -nan         -nan         -nan         -nan\r\n",
      "  -0.0573567 -0.000254483 -1.64093e-10  3.70924e-10 -1.54341e-05  -0.00347861 -3.85767e-09 -3.80969e-09  6.45024e-10   -0.0101908  0.000547532  1.38946e-10    0.0050213    0.0179521  8.50063e-05    0.0191591 -1.49267e-10 -6.09814e-11 -1.42112e-10 -5.14241e-11  2.24908e-10     0.600541  7.07784e-11  1.78248e-09         -nan         -nan         -nan         -nan         -nan         -nan         -nan         -nan         -nan         -nan         -nan\r\n",
      "-3.28191e-10 -3.21269e-10   -0.0423663    0.0423663  6.07609e-10  5.83222e-10    0.0029006    0.0029006 -0.000442417 -1.66949e-09 -1.60312e-09 -0.000216585  1.09722e-10  1.72958e-10  4.07578e-10  8.27882e-10   -0.0160974    0.0160974   0.00532145   0.00532145  3.14887e-09   5.2569e-10      1.98491   8.8809e-09         -nan         -nan         -nan         -nan         -nan         -nan         -nan         -nan         -nan         -nan         -nan\r\n",
      "-2.58071e-10 -1.83511e-10    0.0102148    0.0102148  6.91236e-10 -2.31167e-11    -0.017292    0.0172919  3.62598e-09 -8.59107e-10 -2.03031e-09  1.11485e-09  6.01123e-11  2.24251e-10  1.66157e-10  1.78691e-10   0.00617092   0.00617092  -0.00584714   0.00584714 -1.77516e-10  1.98803e-09  9.23633e-09     0.920493         -nan         -nan         -nan         -nan         -nan         -nan         -nan         -nan         -nan         -nan         -nan\r\n",
      "        -nan         -nan         -nan         -nan         -nan         -nan         -nan         -nan         -nan         -nan         -nan         -nan         -nan         -nan         -nan         -nan         -nan         -nan         -nan         -nan         -nan         -nan         -nan         -nan         -nan         -nan         -nan         -nan         -nan         -nan         -nan         -nan         -nan         -nan         -nan\r\n",
      "        -nan         -nan         -nan         -nan         -nan         -nan         -nan         -nan         -nan         -nan         -nan         -nan         -nan         -nan         -nan         -nan         -nan         -nan         -nan         -nan         -nan         -nan         -nan         -nan         -nan         -nan         -nan         -nan         -nan         -nan         -nan         -nan         -nan         -nan         -nan\r\n",
      "        -nan         -nan         -nan         -nan         -nan         -nan         -nan         -nan         -nan         -nan         -nan         -nan         -nan         -nan         -nan         -nan         -nan         -nan         -nan         -nan         -nan         -nan         -nan         -nan         -nan         -nan         -nan         -nan         -nan         -nan         -nan         -nan         -nan         -nan         -nan\r\n",
      "        -nan         -nan         -nan         -nan         -nan         -nan         -nan         -nan         -nan         -nan         -nan         -nan         -nan         -nan         -nan         -nan         -nan         -nan         -nan         -nan         -nan         -nan         -nan         -nan         -nan         -nan         -nan         -nan         -nan         -nan         -nan         -nan         -nan         -nan         -nan\r\n",
      "        -nan         -nan         -nan         -nan         -nan         -nan         -nan         -nan         -nan         -nan         -nan         -nan         -nan         -nan         -nan         -nan         -nan         -nan         -nan         -nan         -nan         -nan         -nan         -nan         -nan         -nan         -nan         -nan         -nan         -nan         -nan         -nan         -nan         -nan         -nan\r\n",
      "        -nan         -nan         -nan         -nan         -nan         -nan         -nan         -nan         -nan         -nan         -nan         -nan         -nan         -nan         -nan         -nan         -nan         -nan         -nan         -nan         -nan         -nan         -nan         -nan         -nan         -nan         -nan         -nan         -nan         -nan         -nan         -nan         -nan         -nan         -nan\r\n",
      "        -nan         -nan         -nan         -nan         -nan         -nan         -nan         -nan         -nan         -nan         -nan         -nan         -nan         -nan         -nan         -nan         -nan         -nan         -nan         -nan         -nan         -nan         -nan         -nan         -nan         -nan         -nan         -nan         -nan         -nan         -nan         -nan         -nan         -nan         -nan\r\n",
      "        -nan         -nan         -nan         -nan         -nan         -nan         -nan         -nan         -nan         -nan         -nan         -nan         -nan         -nan         -nan         -nan         -nan         -nan         -nan         -nan         -nan         -nan         -nan         -nan         -nan         -nan         -nan         -nan         -nan         -nan         -nan         -nan         -nan         -nan         -nan\r\n",
      "        -nan         -nan         -nan         -nan         -nan         -nan         -nan         -nan         -nan         -nan         -nan         -nan         -nan         -nan         -nan         -nan         -nan         -nan         -nan         -nan         -nan         -nan         -nan         -nan         -nan         -nan         -nan         -nan         -nan         -nan         -nan         -nan         -nan         -nan         -nan\r\n",
      "        -nan         -nan         -nan         -nan         -nan         -nan         -nan         -nan         -nan         -nan         -nan         -nan         -nan         -nan         -nan         -nan         -nan         -nan         -nan         -nan         -nan         -nan         -nan         -nan         -nan         -nan         -nan         -nan         -nan         -nan         -nan         -nan         -nan         -nan         -nan\r\n",
      "        -nan         -nan         -nan         -nan         -nan         -nan         -nan         -nan         -nan         -nan         -nan         -nan         -nan         -nan         -nan         -nan         -nan         -nan         -nan         -nan         -nan         -nan         -nan         -nan          nan          nan          nan          nan          nan          nan          nan          nan          nan          nan          nan\r\n",
      "an error occurred:\r\n",
      "Small generalized eigenvalue problem failed.\r\n"
     ]
    }
   ],
   "source": [
    "!xtp_tools -c job_name=CO geometry_optimization.maxiter=1 dftpackage.basisset=3-21G dftpackage.auxbasisset=aux-def2-svp gwbse.gw.mode=G0W0 -e dftgwbse -t 4"
   ]
  },
  {
   "cell_type": "markdown",
   "metadata": {},
   "source": [
    "Notice that we are using 4 threads. The results will be stored in a file named `CO_summary.xml` in the current work directory, together with the optimization step in `optimisation.trj` and the orbitals in [hdf5 format](https://www.hdfgroup.org/solutions/hdf5/) saved on `CO.orb`."
   ]
  }
 ],
 "metadata": {
  "kernelspec": {
   "display_name": "Python 3",
   "language": "python",
   "name": "python3"
  },
  "language_info": {
   "codemirror_mode": {
    "name": "ipython",
    "version": 3
   },
   "file_extension": ".py",
   "mimetype": "text/x-python",
   "name": "python",
   "nbconvert_exporter": "python",
   "pygments_lexer": "ipython3",
   "version": "3.10.4"
  }
 },
 "nbformat": 4,
 "nbformat_minor": 4
}
