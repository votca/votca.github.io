{
 "cells": [
  {
   "cell_type": "markdown",
   "metadata": {},
   "source": [
    "## DFT + GWBSE Optimization Using CO"
   ]
  },
  {
   "cell_type": "markdown",
   "metadata": {},
   "source": [
    "## Introduction\n",
    "This tutorial explains how to perform a molecular geometric optimization using the **GWBSE** method. See [the GW Compendium: A Practical Guide to Theoretical Photoemission Spectroscopy](https://doi.org/10.3389/fchem.2019.00377), for an excellent introduction to the method."
   ]
  },
  {
   "cell_type": "markdown",
   "metadata": {},
   "source": [
    "## Requirements\n",
    "* You will need to install **VOTCA** using the instructions described [here](https://github.com/votca/votca/blob/master/share/doc/INSTALL.rst)\n",
    "* Once the installation is completed you need to activate the VOTCA enviroment by running the `VOTCARC.bash` script that has been installed at the bin subfolder for the path that you have provided for the installation step above"
   ]
  },
  {
   "cell_type": "markdown",
   "metadata": {},
   "source": [
    "## Preparing the input\n",
    "To run a DFT-GWBSE calculation we will use the [xtp_tools](https://www.votca.org/xtp/xtp_tools_overview.html) calculator."
   ]
  },
  {
   "cell_type": "markdown",
   "metadata": {},
   "source": [
    "we can now change the calculator mode from single point energy calculation to optimization as follows by adding \n",
    "`-c geometry_optimization.maxiter=1` which enables optimization with one iteration. "
   ]
  },
  {
   "cell_type": "markdown",
   "metadata": {},
   "source": [
    "Because geometry optimsation is quite expensive numerically we chose a smaller basisset and G0W0 Finally, to run the calculation we just need the following command (This still takes a while)"
   ]
  },
  {
   "cell_type": "code",
   "execution_count": 1,
   "metadata": {
    "execution": {
     "iopub.execute_input": "2022-04-15T06:12:39.700736Z",
     "iopub.status.busy": "2022-04-15T06:12:39.700158Z",
     "iopub.status.idle": "2022-04-15T06:13:25.269783Z",
     "shell.execute_reply": "2022-04-15T06:13:25.270480Z"
    }
   },
   "outputs": [
    {
     "name": "stdout",
     "output_type": "stream",
     "text": [
      "==================================================\r\n",
      "========   VOTCA (http://www.votca.org)   ========\r\n",
      "==================================================\r\n",
      "\r\n",
      "please submit bugs to https://github.com/votca/xtp/issues\r\n",
      "\r\n",
      "xtp_tools, version 2023-dev gitid: 9f6d0dd (compiled Apr 15 2022, 06:03:53)\r\n",
      "votca_csg, version 2023-dev gitid: 9f6d0dd (compiled Apr 15 2022, 05:47:41)\r\n",
      "votca_tools, version 2023-dev gitid: 9f6d0dd (compiled Apr 15 2022, 05:45:32)\r\n",
      "\r\n",
      "Initializing tool\r\n",
      "... dftgwbse Evaluating tool\r\n",
      "... dftgwbse  Using 4 threads\r\n",
      "... ... Reading structure from CO.xyz\r\n",
      "... ... Requested geometry optimization of excited state s1\r\n",
      "... ... Initial state: s1\r\n",
      "... ... WARNING: No tracker is used \r\n",
      "... ... Convergence of total energy: 0.000001 Hartree \r\n",
      "... ... Convergence of RMS Force:    0.000030 Hartree/Bohr \r\n",
      "... ... Convergence of Max Force:    0.000100 Hartree/Bohr \r\n",
      "... ... Convergence of RMS Step:     0.000600 Bohr \r\n",
      "... ... Convergence of Max Step:     0.001000 Bohr \r\n",
      "... ... Initial trust radius:        0.018897 Bohr\r\n",
      "... ... \r\n",
      "... ... =========== OPTIMIZATION SUMMARY ================================= \r\n",
      "... ... At iteration  0\r\n",
      "... ...  ---- POSITIONS (Angstrom)   \r\n",
      "... ...  Atom\t x\t  y\t  z \r\n",
      "... ...    0    +0.0000  +0.0000  +0.0000\r\n",
      "... ...    1    +1.2000  +0.0000  +0.0000\r\n",
      "... ...    Total energy:     -112.26831841 Hartree \r\n",
      "... ...    Trust radius:       0.01889726 Bohr     \r\n",
      "... ...  ---- FORCES (Hartree/Bohr)   \r\n",
      "... ...       central differences   \r\n",
      "... ...       displacement 0.0010 Angstrom   \r\n",
      "... ...  Atom\t x\t  y\t  z \r\n",
      "... ...    0    -0.1314  -0.0000  -0.0000\r\n",
      "... ...    1    +0.1314  +0.0000  +0.0000A\r\n",
      "    0.301149 -1.57263e-13 -4.71525e-13  2.43026e-12 -1.12806e-13    0.0519724  6.22283e-13  6.24872e-13  1.79063e-13   -0.0176074   0.00100088 -1.05716e-13   0.00160401   -0.0389959  8.87984e-14   -0.0423984 -2.10061e-13 -1.61841e-13  1.00462e-13  8.54297e-14  -0.00105936    -0.107093 -1.01089e-12          nan          nan          nan          nan          nan          nan          nan          nan          nan          nan          nan          nan\r\n",
      "-1.57268e-13     0.301149  -6.2766e-13  6.30251e-13    0.0519724 -1.12929e-13 -8.63112e-12 -1.05899e-11  -3.1927e-12  -0.00100088   -0.0176074  1.88671e-12   -0.0389959  -0.00160401   -0.0423984  8.88189e-14 -3.46641e-14  1.96056e-14  -1.8319e-12 -1.46001e-12    -0.107093   0.00105936 -1.05747e-13          nan          nan          nan          nan          nan          nan          nan          nan          nan          nan          nan          nan\r\n",
      "-4.71525e-13  -6.2766e-13     0.310895   0.00933822  2.97392e-13  3.14469e-13    0.0131224    0.0131224   0.00516493 -1.81001e-14   2.3877e-13  -0.00232822 -3.26738e-13 -7.98523e-14 -6.17252e-14  2.58872e-14   -0.0491413   0.00191702   0.00195442  1.19499e-05  2.09048e-12  -2.0123e-13    0.0249332          nan          nan          nan          nan          nan          nan          nan          nan          nan          nan          nan          nan\r\n",
      " 2.43026e-12  6.30251e-13   0.00933822     0.310895 -2.94442e-13  2.25492e-12   -0.0131224   -0.0131224  -0.00516493 -7.44386e-13 -1.96141e-13   0.00232822  3.23105e-13  1.74418e-13  6.00539e-14 -2.39389e-12   0.00191702   -0.0491413 -1.19499e-05  -0.00195442 -2.12967e-12 -3.35146e-12   -0.0249332          nan          nan          nan          nan          nan          nan          nan          nan          nan          nan          nan          nan\r\n",
      "-1.12807e-13    0.0519724  2.97392e-13 -2.94442e-13     0.486835  -2.9679e-14  7.41913e-12  4.84967e-12  3.32683e-12 -0.000773812   -0.0136128 -1.07827e-12   0.00829904  0.000341363    0.0301449  3.24467e-13 -6.20838e-15 -6.91065e-15  2.83282e-13  6.09969e-13   -0.0549913  0.000543975  1.32434e-13          nan          nan          nan          nan          nan          nan          nan          nan          nan          nan          nan          nan\r\n",
      "   0.0519724 -1.12932e-13  3.14469e-13  2.25492e-12 -2.96793e-14     0.486835 -2.93735e-13 -2.90771e-13 -1.87761e-13   -0.0136128  0.000773812  6.10172e-14 -0.000341363   0.00829904  3.24571e-13    0.0301449 -2.82048e-13 -4.46551e-14 -1.68785e-14 -3.00512e-14 -0.000543975   -0.0549913 -2.87148e-14          nan          nan          nan          nan          nan          nan          nan          nan          nan          nan          nan          nan\r\n",
      " 6.22283e-13 -8.63112e-12    0.0131224   -0.0131224  7.41913e-12 -2.93735e-13     0.540997     0.220763    0.0908609 -4.07461e-14  3.45438e-12   -0.0409577 -5.63563e-12   9.7378e-14  -3.4453e-12  6.02571e-14  0.000641201  -0.00258367    -0.013381    0.0338433  3.33001e-11 -2.31283e-12   0.00197571          nan          nan          nan          nan          nan          nan          nan          nan          nan          nan          nan          nan\r\n",
      " 6.24871e-13 -1.05899e-11    0.0131224   -0.0131224  4.84967e-12 -2.90771e-13     0.220763     0.540997    0.0908609  1.84993e-15  4.21686e-12   -0.0409577 -5.73019e-12  9.36976e-14 -1.07734e-12  5.86357e-14   0.00258367 -0.000641201    0.0338433    -0.013381  3.67684e-11   -2.351e-12   0.00197571          nan          nan          nan          nan          nan          nan          nan          nan          nan          nan          nan          nan\r\n",
      " 1.79063e-13  -3.1927e-12   0.00516493  -0.00516493  3.32683e-12 -1.87761e-13    0.0908609    0.0908609     0.659928  1.84905e-15  2.40922e-12   0.00518522 -2.96268e-13  5.09506e-15 -1.34531e-12  7.60424e-14  7.47771e-05 -7.47771e-05   0.00477052   0.00477052  9.73264e-12 -6.11823e-13   0.00134386          nan          nan          nan          nan          nan          nan          nan          nan          nan          nan          nan          nan\r\n",
      "  -0.0176074  -0.00100088 -1.81002e-14 -7.44386e-13 -0.000773812   -0.0136128 -4.07462e-14  1.84999e-15  1.84899e-15     0.668107 -1.24794e-15  5.91006e-16 -2.65051e-07 -1.69094e-05  0.000514185    0.0090455  1.65033e-12  2.24593e-13  3.50617e-15 -2.56273e-14   0.00273055    0.0408925   3.1497e-12          nan          nan          nan          nan          nan          nan          nan          nan          nan          nan          nan          nan\r\n",
      "  0.00100088   -0.0176074   2.3877e-13 -1.96141e-13   -0.0136128  0.000773812  3.45438e-12  4.21686e-12  2.40922e-12 -1.24749e-15     0.668107 -8.43912e-14 -1.69094e-05  2.65051e-07    0.0090455 -0.000514185  9.80921e-15 -3.89456e-14  2.49615e-12  6.21223e-13    0.0408925  -0.00273055  1.98966e-14          nan          nan          nan          nan          nan          nan          nan          nan          nan          nan          nan          nan\r\n",
      "-1.05716e-13  1.88671e-12  -0.00232822   0.00232822 -1.07827e-12  6.10172e-14   -0.0409577   -0.0409577   0.00518522     5.91e-16 -8.43913e-14     0.793012  1.50161e-12 -2.28124e-14 -2.67569e-13  1.45771e-14 -0.000239861  0.000239861   -0.0153023   -0.0153023 -5.52646e-12  3.51511e-13   -0.0005671          nan          nan          nan          nan          nan          nan          nan          nan          nan          nan          nan          nan\r\n",
      "  0.00160401   -0.0389959 -3.26738e-13  3.23105e-13   0.00829904 -0.000341363 -5.63563e-12 -5.73019e-12 -2.96268e-13 -2.65051e-07 -1.69094e-05  1.50161e-12     0.954263  1.20249e-14   -0.0128642  0.000529142 -3.80313e-14  3.87819e-14  -2.1609e-12 -2.83798e-12   -0.0198704    0.0010143 -6.84127e-14          nan          nan          nan          nan          nan          nan          nan          nan          nan          nan          nan          nan\r\n",
      "  -0.0389959  -0.00160401 -7.98523e-14  1.74418e-13  0.000341363   0.00829904   9.7378e-14  9.36976e-14  5.09511e-15 -1.69094e-05  2.65051e-07 -2.28124e-14  1.20287e-14     0.954263 -0.000529142   -0.0128642  3.80802e-13  2.96251e-13  3.74768e-14  3.81924e-14   -0.0010143   -0.0198704 -3.09411e-13          nan          nan          nan          nan          nan          nan          nan          nan          nan          nan          nan          nan\r\n",
      " 8.88014e-14   -0.0423984 -6.17252e-14  6.00539e-14    0.0301449  3.24591e-13  -3.4453e-12 -1.07734e-12 -1.34531e-12  0.000514185    0.0090455 -2.67569e-13   -0.0128642 -0.000529142     0.973646   1.7223e-13 -3.12403e-14 -2.17009e-14 -1.09857e-12  1.69488e-13    0.0229494 -0.000227016 -8.02204e-14          nan          nan          nan          nan          nan          nan          nan          nan          nan          nan          nan          nan\r\n",
      "  -0.0423984  8.88277e-14  2.58872e-14 -2.39389e-12  3.24476e-13    0.0301449  6.02571e-14  5.86356e-14  7.60424e-14    0.0090455 -0.000514185  1.45771e-14  0.000529142   -0.0128642  1.72241e-13     0.973646 -5.85055e-13 -6.83012e-13  5.19797e-14 -1.00355e-15  0.000227016    0.0229494 -7.37069e-13          nan          nan          nan          nan          nan          nan          nan          nan          nan          nan          nan          nan\r\n",
      "-2.10061e-13 -3.46641e-14   -0.0491413   0.00191702 -6.20838e-15 -2.82048e-13  0.000641201   0.00258367  7.47771e-05  1.65033e-12  9.80921e-15 -0.000239861 -3.80314e-14  3.80802e-13 -3.12403e-14 -5.85055e-13      1.02127  -0.00209575  0.000669319  0.000669319  7.61693e-14 -1.76003e-13  -0.00474247          nan          nan          nan          nan          nan          nan          nan          nan          nan          nan          nan          nan\r\n",
      "-1.61841e-13  1.96056e-14   0.00191702   -0.0491413 -6.91066e-15 -4.46551e-14  -0.00258367 -0.000641201 -7.47771e-05  2.24593e-13 -3.89455e-14  0.000239861  3.87819e-14  2.96251e-13 -2.17009e-14 -6.83012e-13  -0.00209575      1.02127 -0.000669319 -0.000669319 -9.85245e-14 -2.56217e-13   0.00474247          nan          nan          nan          nan          nan          nan          nan          nan          nan          nan          nan          nan\r\n",
      " 1.00462e-13  -1.8319e-12   0.00195442 -1.19499e-05  2.83282e-13 -1.68785e-14    -0.013381    0.0338433   0.00477052  3.50617e-15  2.49615e-12   -0.0153023  -2.1609e-12  3.74768e-14 -1.09857e-12  5.19797e-14  0.000669319 -0.000669319      1.06396    0.0447855  5.15522e-12 -3.32017e-13  0.000567977          nan          nan          nan          nan          nan          nan          nan          nan          nan          nan          nan          nan\r\n",
      " 8.54297e-14 -1.46001e-12  1.19499e-05  -0.00195442  6.09969e-13 -3.00512e-14    0.0338433    -0.013381   0.00477052 -2.56272e-14  6.21223e-13   -0.0153023 -2.83798e-12  3.81923e-14  1.69488e-13 -1.00355e-15  0.000669319 -0.000669319    0.0447855      1.06396  5.57636e-12 -3.54938e-13  0.000567977          nan          nan          nan          nan          nan          nan          nan          nan          nan          nan          nan          nan\r\n",
      " 0.000737772    0.0745824 -1.06313e-12  1.09063e-12    0.0700259  0.000692698 -1.57408e-11 -1.81716e-11 -6.32298e-12  -0.00202541   -0.0303323  4.11797e-12   0.00918651  0.000468931    -0.036287 -0.000358952 -3.99946e-14  2.39572e-14  -3.2068e-12 -2.88826e-12    -0.195058  1.06937e-12 -1.02193e-12          nan          nan          nan          nan          nan          nan          nan          nan          nan          nan          nan          nan\r\n",
      "   0.0745824 -0.000737772 -3.11907e-13  2.82096e-12 -0.000692698    0.0700259  1.12463e-12  1.15192e-12  3.87715e-13   -0.0303323   0.00202541 -2.58925e-13 -0.000468931   0.00918651  0.000358952    -0.036287  9.77108e-14 -4.03299e-13  1.94265e-13  1.78652e-13  1.06935e-12    -0.195058 -1.15502e-11          nan          nan          nan          nan          nan          nan          nan          nan          nan          nan          nan          nan\r\n",
      " 4.35958e-13  9.42875e-14    0.0139006   -0.0139006 -1.42011e-13  6.07294e-14  -0.00406102  -0.00406102  -0.00129558  2.42486e-12 -2.76632e-14  0.000544952  7.06842e-14  1.11146e-14 -6.55473e-14 -2.04051e-12  -0.00611044   0.00611044 -0.000414016 -0.000414016 -1.23723e-12 -1.08665e-11     0.943117          nan          nan          nan          nan          nan          nan          nan          nan          nan          nan          nan          nan\r\n",
      "        -nan         -nan         -nan         -nan         -nan         -nan         -nan         -nan         -nan         -nan         -nan         -nan         -nan         -nan         -nan         -nan         -nan         -nan         -nan         -nan         -nan         -nan         -nan          nan          nan          nan          nan          nan          nan          nan          nan          nan          nan          nan          nan\r\n",
      "        -nan         -nan         -nan         -nan         -nan         -nan         -nan         -nan         -nan         -nan         -nan         -nan         -nan         -nan         -nan         -nan         -nan         -nan         -nan         -nan         -nan         -nan         -nan         -nan         -nan         -nan         -nan         -nan         -nan         -nan         -nan         -nan         -nan         -nan         -nan\r\n",
      "        -nan         -nan         -nan         -nan         -nan         -nan         -nan         -nan         -nan         -nan         -nan         -nan         -nan         -nan         -nan         -nan         -nan         -nan         -nan         -nan         -nan         -nan         -nan         -nan         -nan         -nan         -nan         -nan         -nan         -nan         -nan         -nan         -nan         -nan         -nan\r\n",
      "        -nan         -nan         -nan         -nan         -nan         -nan         -nan         -nan         -nan         -nan         -nan         -nan         -nan         -nan         -nan         -nan         -nan         -nan         -nan         -nan         -nan         -nan         -nan          nan          nan          nan          nan          nan          nan          nan          nan          nan          nan          nan          nan\r\n",
      "        -nan         -nan         -nan         -nan         -nan         -nan         -nan         -nan         -nan         -nan         -nan         -nan         -nan         -nan         -nan         -nan         -nan         -nan         -nan         -nan         -nan         -nan         -nan          nan          nan          nan          nan          nan          nan          nan          nan          nan          nan          nan          nan\r\n",
      "        -nan         -nan         -nan         -nan         -nan         -nan         -nan         -nan         -nan         -nan         -nan         -nan         -nan         -nan         -nan         -nan         -nan         -nan         -nan         -nan         -nan         -nan         -nan         -nan         -nan         -nan         -nan         -nan         -nan         -nan         -nan         -nan         -nan         -nan         -nan\r\n",
      "        -nan         -nan         -nan         -nan         -nan         -nan         -nan         -nan         -nan         -nan         -nan         -nan         -nan         -nan         -nan         -nan         -nan         -nan         -nan         -nan         -nan         -nan         -nan         -nan         -nan         -nan         -nan         -nan         -nan         -nan         -nan         -nan         -nan         -nan         -nan\r\n",
      "        -nan         -nan         -nan         -nan         -nan         -nan         -nan         -nan         -nan         -nan         -nan         -nan         -nan         -nan         -nan         -nan         -nan         -nan         -nan         -nan         -nan         -nan         -nan          nan          nan          nan          nan          nan          nan          nan          nan          nan          nan          nan          nan\r\n",
      "        -nan         -nan         -nan         -nan         -nan         -nan         -nan         -nan         -nan         -nan         -nan         -nan         -nan         -nan         -nan         -nan         -nan         -nan         -nan         -nan         -nan         -nan         -nan          nan          nan          nan          nan          nan          nan          nan          nan          nan          nan          nan          nan\r\n",
      "        -nan         -nan         -nan         -nan         -nan         -nan         -nan         -nan         -nan         -nan         -nan         -nan         -nan         -nan         -nan         -nan         -nan         -nan         -nan         -nan         -nan         -nan         -nan         -nan          nan          nan          nan         -nan          nan          nan          nan         -nan          nan          nan          nan\r\n",
      "        -nan         -nan         -nan         -nan         -nan         -nan         -nan         -nan         -nan         -nan         -nan         -nan         -nan         -nan         -nan         -nan         -nan         -nan         -nan         -nan         -nan         -nan         -nan         -nan          nan          nan          nan         -nan          nan          nan          nan         -nan          nan          nan          nan\r\n",
      "        -nan         -nan         -nan         -nan         -nan         -nan         -nan         -nan         -nan         -nan         -nan         -nan         -nan         -nan         -nan         -nan         -nan         -nan         -nan         -nan         -nan         -nan         -nan         -nan         -nan         -nan         -nan         -nan         -nan         -nan         -nan         -nan         -nan         -nan         -nan\r\n",
      "B\r\n",
      "   0.0903884 -7.02937e-14 -2.26662e-13  1.45458e-12 -6.92518e-14    0.0326152   2.6403e-13  2.65555e-13  1.10933e-13     -0.01479  0.000840728    -7.38e-14   0.00197713   -0.0480669  1.02025e-13   -0.0477612 -2.98576e-13 -2.51944e-13  8.81192e-14  6.57354e-14 -0.000241635   -0.0244273  -2.3806e-13         -nan         -nan         -nan         -nan         -nan         -nan         -nan         -nan         -nan         -nan         -nan         -nan\r\n",
      "-7.02979e-14    0.0903884 -2.65853e-13   2.6738e-13    0.0326152 -6.93299e-14 -3.23873e-12 -4.46665e-12 -1.97798e-12 -0.000840728     -0.01479  1.31697e-12   -0.0480669  -0.00197713   -0.0477612  1.02038e-13 -3.38111e-14   1.1395e-14 -1.63444e-12 -1.08393e-12   -0.0244273  0.000241635  9.46183e-15         -nan         -nan         -nan         -nan         -nan         -nan         -nan         -nan         -nan         -nan         -nan         -nan\r\n",
      "-2.26662e-13 -2.65853e-13    0.0996718   0.00516245  1.86281e-13  2.11868e-13   0.00640541   0.00640541   0.00371062 -1.25537e-14   1.6667e-13  -0.00181121 -3.00667e-13 -7.94549e-14 -8.14336e-14   1.5857e-14   -0.0657412   0.00221606   0.00168665 -0.000926317  4.10774e-13 -5.11047e-13    0.0407332         -nan         -nan         -nan         -nan         -nan         -nan         -nan         -nan         -nan         -nan         -nan         -nan\r\n",
      " 1.45458e-12   2.6738e-13   0.00516245    0.0996718 -1.84193e-13  1.57625e-12  -0.00640541  -0.00640541  -0.00371062  -7.1893e-13 -1.25761e-13   0.00181121  2.97085e-13  1.72918e-13  7.94005e-14 -2.90322e-12   0.00221606   -0.0657412  0.000926317  -0.00168665 -4.22872e-13 -5.51386e-13   -0.0407332         -nan         -nan         -nan         -nan         -nan         -nan         -nan         -nan         -nan         -nan         -nan         -nan\r\n",
      "-6.92527e-14    0.0326152  1.86281e-13 -1.84193e-13     0.236624 -1.76719e-14  4.80673e-12  3.01856e-12  2.97525e-12 -0.000816203   -0.0143586 -1.03239e-12   0.00949135  0.000390406    0.0424654  4.45024e-13 -1.78171e-14 -6.76705e-15 -8.55306e-14  5.20269e-13   0.00359549 -3.55667e-05  6.22785e-15         -nan         -nan         -nan         -nan         -nan         -nan         -nan         -nan         -nan         -nan         -nan         -nan\r\n",
      "   0.0326152 -6.93308e-14  2.11868e-13  1.57625e-12 -1.76732e-14     0.236624 -1.83605e-13 -1.81504e-13 -1.67831e-13   -0.0143586  0.000816203  5.83617e-14 -0.000390406   0.00949135  4.45162e-13    0.0424654 -4.61282e-13 -1.44535e-13  2.45553e-15 -2.22096e-14  3.55667e-05   0.00359549 -5.24848e-14         -nan         -nan         -nan         -nan         -nan         -nan         -nan         -nan         -nan         -nan         -nan         -nan\r\n",
      "  2.6403e-13 -3.23873e-12   0.00640541  -0.00640541  4.80673e-12 -1.83605e-13     0.211991     0.107157    0.0652769 -3.98191e-14  2.21606e-12   -0.0318627 -5.17832e-12  9.06325e-14 -4.29417e-12  7.93073e-14  0.000582847  -0.00319582   -0.0344739    0.0290512  6.74076e-12 -4.77107e-13  -0.00219905         -nan         -nan         -nan         -nan         -nan         -nan         -nan         -nan         -nan         -nan         -nan         -nan\r\n",
      " 2.65555e-13 -4.46665e-12   0.00640541  -0.00640541  3.01856e-12 -1.81504e-13     0.107157     0.211991    0.0652769  1.05904e-15  2.94755e-12   -0.0318627 -5.27177e-12  8.69952e-14 -1.40686e-12  7.73374e-14   0.00319582 -0.000582847    0.0290512   -0.0344739  7.79379e-12 -4.87941e-13  -0.00219905         -nan         -nan         -nan         -nan         -nan         -nan         -nan         -nan         -nan         -nan         -nan         -nan\r\n",
      " 1.10933e-13 -1.97798e-12   0.00371062  -0.00371062  2.97525e-12 -1.67831e-13    0.0652769    0.0652769     0.424108   2.1883e-15   2.6095e-12    0.0112618  3.22388e-13 -4.05255e-15 -1.84249e-12  1.04099e-13  1.01751e-05 -1.01751e-05  0.000649139  0.000649139  2.50223e-12 -1.59056e-13  0.000330168         -nan         -nan         -nan         -nan         -nan         -nan         -nan         -nan         -nan         -nan         -nan         -nan\r\n",
      "    -0.01479 -0.000840728 -1.25538e-14  -7.1893e-13 -0.000816203   -0.0143586 -3.98191e-14   1.0591e-15  2.18823e-15     0.446813 -1.62495e-15  9.36323e-16  7.58813e-06  0.000484097  0.000612677    0.0107781  2.69325e-12  3.85103e-13  5.86533e-15 -4.19749e-14   0.00118346    0.0177234  5.11355e-12         -nan         -nan         -nan         -nan         -nan         -nan         -nan         -nan         -nan         -nan         -nan         -nan\r\n",
      " 0.000840728     -0.01479   1.6667e-13 -1.25761e-13   -0.0143586  0.000816203  2.21606e-12  2.94755e-12   2.6095e-12 -1.62882e-15     0.446813  1.50489e-13  0.000484097 -7.58813e-06    0.0107781 -0.000612677  1.01833e-14 -5.80337e-14  3.71857e-12  6.40199e-13    0.0177234  -0.00118346 -1.95894e-15         -nan         -nan         -nan         -nan         -nan         -nan         -nan         -nan         -nan         -nan         -nan         -nan\r\n",
      "   -7.38e-14  1.31697e-12  -0.00181121   0.00181121 -1.03239e-12  5.83618e-14   -0.0318627   -0.0318627    0.0112618  9.36315e-16  1.50489e-13     0.627074  2.01743e-12 -3.06051e-14  -5.0936e-13  2.79735e-14  -0.00034363   0.00034363   -0.0219224   -0.0219224 -1.26403e-12  7.98493e-14 -0.000188044         -nan         -nan         -nan         -nan         -nan         -nan         -nan         -nan         -nan         -nan         -nan         -nan\r\n",
      "  0.00197713   -0.0480669 -3.00667e-13  2.97085e-13   0.00949135 -0.000390406 -5.17832e-12 -5.27177e-12  3.22388e-13  7.58813e-06  0.000484097  2.01743e-12     0.912954  2.15278e-14   -0.0215356   0.00088582 -6.34118e-14  6.49075e-14 -3.47625e-12 -4.82836e-12   -0.0226866   0.00115805 -2.87226e-14         -nan         -nan         -nan         -nan         -nan         -nan         -nan         -nan         -nan         -nan         -nan         -nan\r\n",
      "  -0.0480669  -0.00197713 -7.94549e-14  1.72918e-13  0.000390406   0.00949135  9.06325e-14  8.69952e-14 -4.05247e-15  0.000484097 -7.58813e-06 -3.06051e-14  2.15371e-14     0.912954  -0.00088582   -0.0215356  7.20342e-13  6.31722e-13   6.2624e-14  6.40512e-14  -0.00115805   -0.0226866 -6.03494e-13         -nan         -nan         -nan         -nan         -nan         -nan         -nan         -nan         -nan         -nan         -nan         -nan\r\n",
      " 1.02026e-13   -0.0477612 -8.14336e-14  7.94005e-14    0.0424654  4.45188e-13 -4.29417e-12 -1.40686e-12 -1.84249e-12  0.000612677    0.0107781  -5.0936e-13   -0.0215356  -0.00088582     0.952113  3.26966e-13 -5.68265e-14 -3.68949e-14 -1.89874e-12  3.45462e-13  -0.00321192  3.17724e-05 -1.83164e-13         -nan         -nan         -nan         -nan         -nan         -nan         -nan         -nan         -nan         -nan         -nan         -nan\r\n",
      "  -0.0477612  1.02049e-13   1.5857e-14 -2.90322e-12  4.45032e-13    0.0424654  7.93072e-14  7.73372e-14  1.04099e-13    0.0107781 -0.000612677  2.79735e-14   0.00088582   -0.0215356  3.26994e-13     0.952113  -1.0751e-12 -1.16911e-12  8.99994e-14 -3.80986e-15 -3.17724e-05  -0.00321192 -3.04838e-12         -nan         -nan         -nan         -nan         -nan         -nan         -nan         -nan         -nan         -nan         -nan         -nan\r\n",
      "-2.98576e-13 -3.38111e-14   -0.0657412   0.00221606 -1.78171e-14 -4.61282e-13  0.000582847   0.00319582  1.01751e-05  2.69325e-12  1.01833e-14  -0.00034363 -6.34119e-14  7.20342e-13 -5.68265e-14  -1.0751e-12      1.04539  -0.00441879   0.00124206   0.00124206  5.82847e-14  1.37867e-13   -0.0159337         -nan         -nan         -nan         -nan         -nan         -nan         -nan         -nan         -nan         -nan         -nan         -nan\r\n",
      "-2.51944e-13   1.1395e-14   0.00221606   -0.0657412 -6.76705e-15 -1.44535e-13  -0.00319582 -0.000582847 -1.01751e-05  3.85103e-13 -5.80336e-14   0.00034363  6.49075e-14  6.31722e-13 -3.68949e-14 -1.16911e-12  -0.00441879      1.04539  -0.00124206  -0.00124206 -9.63958e-14 -8.64264e-13    0.0159337         -nan         -nan         -nan         -nan         -nan         -nan         -nan         -nan         -nan         -nan         -nan         -nan\r\n",
      " 8.81192e-14 -1.63444e-12   0.00168665  0.000926317 -8.55306e-14  2.45553e-15   -0.0344739    0.0290512  0.000649139  5.86532e-15  3.71857e-12   -0.0219224 -3.47625e-12   6.2624e-14 -1.89874e-12  8.99994e-14   0.00124206  -0.00124206      1.12461    0.0836383  2.46357e-12 -1.70305e-13  0.000439004         -nan         -nan         -nan         -nan         -nan         -nan         -nan         -nan         -nan         -nan         -nan         -nan\r\n",
      " 6.57353e-14 -1.08393e-12 -0.000926317  -0.00168665  5.20269e-13 -2.22096e-14    0.0290512   -0.0344739  0.000649139 -4.19748e-14  6.40199e-13   -0.0219224 -4.82836e-12   6.4051e-14  3.45462e-13 -3.80987e-15   0.00124206  -0.00124206    0.0836383      1.12461  3.18712e-12 -2.08756e-13  0.000439004         -nan         -nan         -nan         -nan         -nan         -nan         -nan         -nan         -nan         -nan         -nan         -nan\r\n",
      "-0.000553743   -0.0559788  1.24157e-12 -1.25944e-12    0.0025982  2.57014e-05  2.07757e-11  2.23912e-11  3.15153e-12  0.000734985    0.0110071 -1.17125e-12   -0.0177599 -0.000906566   -0.0179773 -0.000177832 -1.97468e-14 -7.14423e-14 -1.02092e-12  7.43268e-13     0.583856  1.16881e-12 -9.84081e-13         -nan         -nan         -nan         -nan         -nan         -nan         -nan         -nan         -nan         -nan         -nan         -nan\r\n",
      "  -0.0559788  0.000553743 -5.38668e-13 -1.08046e-12 -2.57014e-05    0.0025982  -1.4295e-12 -1.44693e-12  -2.1239e-13    0.0110071 -0.000734985  8.01252e-14  0.000906566   -0.0177599  0.000177832   -0.0179773 -4.40312e-13 -1.31546e-12  4.38137e-14 -4.75054e-14  1.16879e-12     0.583856 -1.55183e-11         -nan         -nan         -nan         -nan         -nan         -nan         -nan         -nan         -nan         -nan         -nan         -nan\r\n",
      " -5.7598e-13  1.33255e-15    0.0411809   -0.0411809  7.72964e-15  3.21627e-13  -0.00223331  -0.00223331 -0.000231345  5.38957e-12 -1.95239e-14  0.000140652   4.1327e-14 -5.43249e-13 -1.52829e-13 -3.20531e-12   -0.0168453    0.0168453   2.4764e-05   2.4764e-05 -1.19441e-12 -1.40378e-11      1.94806         -nan         -nan         -nan         -nan         -nan         -nan         -nan         -nan         -nan         -nan         -nan         -nan\r\n",
      "        -nan         -nan         -nan         -nan         -nan         -nan         -nan         -nan         -nan         -nan         -nan         -nan         -nan         -nan         -nan         -nan         -nan         -nan         -nan         -nan         -nan         -nan         -nan         -nan         -nan         -nan         -nan         -nan         -nan         -nan         -nan         -nan         -nan         -nan         -nan\r\n",
      "        -nan         -nan         -nan         -nan         -nan         -nan         -nan         -nan         -nan         -nan         -nan         -nan         -nan         -nan         -nan         -nan         -nan         -nan         -nan         -nan         -nan         -nan         -nan         -nan         -nan         -nan         -nan         -nan         -nan         -nan         -nan         -nan         -nan         -nan         -nan\r\n",
      "        -nan         -nan         -nan         -nan         -nan         -nan         -nan         -nan         -nan         -nan         -nan         -nan         -nan         -nan         -nan         -nan         -nan         -nan         -nan         -nan         -nan         -nan         -nan         -nan         -nan         -nan         -nan         -nan         -nan         -nan         -nan         -nan         -nan         -nan         -nan\r\n",
      "        -nan         -nan         -nan         -nan         -nan         -nan         -nan         -nan         -nan         -nan         -nan         -nan         -nan         -nan         -nan         -nan         -nan         -nan         -nan         -nan         -nan         -nan         -nan         -nan         -nan         -nan         -nan         -nan         -nan         -nan         -nan         -nan         -nan         -nan         -nan\r\n",
      "        -nan         -nan         -nan         -nan         -nan         -nan         -nan         -nan         -nan         -nan         -nan         -nan         -nan         -nan         -nan         -nan         -nan         -nan         -nan         -nan         -nan         -nan         -nan         -nan         -nan         -nan         -nan         -nan         -nan         -nan         -nan         -nan         -nan         -nan         -nan\r\n",
      "        -nan         -nan         -nan         -nan         -nan         -nan         -nan         -nan         -nan         -nan         -nan         -nan         -nan         -nan         -nan         -nan         -nan         -nan         -nan         -nan         -nan         -nan         -nan         -nan         -nan         -nan         -nan         -nan         -nan         -nan         -nan         -nan         -nan         -nan         -nan\r\n",
      "        -nan         -nan         -nan         -nan         -nan         -nan         -nan         -nan         -nan         -nan         -nan         -nan         -nan         -nan         -nan         -nan         -nan         -nan         -nan         -nan         -nan         -nan         -nan         -nan         -nan         -nan         -nan         -nan         -nan         -nan         -nan         -nan         -nan         -nan         -nan\r\n",
      "        -nan         -nan         -nan         -nan         -nan         -nan         -nan         -nan         -nan         -nan         -nan         -nan         -nan         -nan         -nan         -nan         -nan         -nan         -nan         -nan         -nan         -nan         -nan         -nan         -nan         -nan         -nan         -nan         -nan         -nan         -nan         -nan         -nan         -nan         -nan\r\n",
      "        -nan         -nan         -nan         -nan         -nan         -nan         -nan         -nan         -nan         -nan         -nan         -nan         -nan         -nan         -nan         -nan         -nan         -nan         -nan         -nan         -nan         -nan         -nan         -nan         -nan         -nan         -nan         -nan         -nan         -nan         -nan         -nan         -nan         -nan         -nan\r\n",
      "        -nan         -nan         -nan         -nan         -nan         -nan         -nan         -nan         -nan         -nan         -nan         -nan         -nan         -nan         -nan         -nan         -nan         -nan         -nan         -nan         -nan         -nan         -nan         -nan         -nan         -nan         -nan         -nan         -nan         -nan         -nan         -nan         -nan         -nan         -nan\r\n",
      "        -nan         -nan         -nan         -nan         -nan         -nan         -nan         -nan         -nan         -nan         -nan         -nan         -nan         -nan         -nan         -nan         -nan         -nan         -nan         -nan         -nan         -nan         -nan         -nan         -nan         -nan         -nan         -nan         -nan         -nan         -nan         -nan         -nan         -nan         -nan\r\n",
      "        -nan         -nan         -nan         -nan         -nan         -nan         -nan         -nan         -nan         -nan         -nan         -nan         -nan         -nan         -nan         -nan         -nan         -nan         -nan         -nan         -nan         -nan         -nan          nan          nan          nan          nan          nan          nan          nan          nan          nan          nan          nan          nan\r\n",
      "an error occurred:\r\n",
      "Small generalized eigenvalue problem failed.\r\n"
     ]
    }
   ],
   "source": [
    "!xtp_tools -c job_name=CO geometry_optimization.maxiter=1 dftpackage.basisset=3-21G dftpackage.auxbasisset=aux-def2-svp gwbse.gw.mode=G0W0 -e dftgwbse -t 4"
   ]
  },
  {
   "cell_type": "markdown",
   "metadata": {},
   "source": [
    "Notice that we are using 4 threads. The results will be stored in a file named `CO_summary.xml` in the current work directory, together with the optimization step in `optimisation.trj` and the orbitals in [hdf5 format](https://www.hdfgroup.org/solutions/hdf5/) saved on `CO.orb`."
   ]
  }
 ],
 "metadata": {
  "kernelspec": {
   "display_name": "Python 3",
   "language": "python",
   "name": "python3"
  },
  "language_info": {
   "codemirror_mode": {
    "name": "ipython",
    "version": 3
   },
   "file_extension": ".py",
   "mimetype": "text/x-python",
   "name": "python",
   "nbconvert_exporter": "python",
   "pygments_lexer": "ipython3",
   "version": "3.10.4"
  }
 },
 "nbformat": 4,
 "nbformat_minor": 4
}
