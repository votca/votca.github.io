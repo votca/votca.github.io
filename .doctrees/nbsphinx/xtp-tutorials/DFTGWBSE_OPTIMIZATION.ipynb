{
 "cells": [
  {
   "cell_type": "markdown",
   "metadata": {},
   "source": [
    "## DFT + GWBSE Optimization Using CO"
   ]
  },
  {
   "cell_type": "markdown",
   "metadata": {},
   "source": [
    "## Introduction\n",
    "This tutorial explains how to perform a molecular geometric optimization using the **GWBSE** method. See [the GW Compendium: A Practical Guide to Theoretical Photoemission Spectroscopy](https://doi.org/10.3389/fchem.2019.00377), for an excellent introduction to the method."
   ]
  },
  {
   "cell_type": "markdown",
   "metadata": {},
   "source": [
    "## Requirements\n",
    "* You will need to install **VOTCA** using the instructions described [here](https://github.com/votca/votca/blob/master/share/doc/INSTALL.rst)\n",
    "* Once the installation is completed you need to activate the VOTCA enviroment by running the `VOTCARC.bash` script that has been installed at the bin subfolder for the path that you have provided for the installation step above"
   ]
  },
  {
   "cell_type": "markdown",
   "metadata": {},
   "source": [
    "## Preparing the input\n",
    "To run a DFT-GWBSE calculation we will use the [xtp_tools](https://www.votca.org/xtp/xtp_tools_overview.html) calculator."
   ]
  },
  {
   "cell_type": "markdown",
   "metadata": {},
   "source": [
    "we can now change the calculator mode from single point energy calculation to optimization as follows by adding \n",
    "`-c geometry_optimization.maxiter=1` which enables optimization with one iteration. "
   ]
  },
  {
   "cell_type": "markdown",
   "metadata": {},
   "source": [
    "Because geometry optimsation is quite expensive numerically we chose a smaller basisset and G0W0 Finally, to run the calculation we just need the following command (This still takes a while)"
   ]
  },
  {
   "cell_type": "code",
   "execution_count": 1,
   "metadata": {
    "execution": {
     "iopub.execute_input": "2022-01-13T00:26:44.373965Z",
     "iopub.status.busy": "2022-01-13T00:26:44.373409Z",
     "iopub.status.idle": "2022-01-13T00:26:59.059718Z",
     "shell.execute_reply": "2022-01-13T00:26:59.059093Z"
    }
   },
   "outputs": [
    {
     "name": "stdout",
     "output_type": "stream",
     "text": [
      "==================================================\r\n",
      "========   VOTCA (http://www.votca.org)   ========\r\n",
      "==================================================\r\n",
      "\r\n",
      "please submit bugs to https://github.com/votca/xtp/issues\r\n",
      "\r\n",
      "xtp_tools, version 2022-dev gitid: 6746a45 (compiled Jan 13 2022, 00:17:45)\r\n",
      "votca_csg, version 2022-dev gitid: 6746a45 (compiled Jan 13 2022, 00:01:08)\r\n",
      "votca_tools, version 2022-dev gitid: 6746a45 (compiled Jan 12 2022, 23:59:22)\r\n",
      "\r\n",
      "Initializing tool\r\n",
      "... dftgwbse Evaluating tool\r\n",
      "... dftgwbse  Using 4 threads\r\n",
      "... ... Reading structure from CO.xyz\r\n",
      "... ... Requested geometry optimization of excited state s1\r\n",
      "... ... Initial state: s1\r\n",
      "... ... WARNING: No tracker is used \r\n",
      "... ... Convergence of total energy: 0.000001 Hartree \r\n",
      "... ... Convergence of RMS Force:    0.000030 Hartree/Bohr \r\n",
      "... ... Convergence of Max Force:    0.000100 Hartree/Bohr \r\n",
      "... ... Convergence of RMS Step:     0.000600 Bohr \r\n",
      "... ... Convergence of Max Step:     0.001000 Bohr \r\n",
      "... ... Initial trust radius:        0.018897 BohrA\r\n",
      "    0.307132 -3.09804e-11  4.44961e-11 -2.30657e-10   2.3479e-11   -0.0516061  8.55691e-10   7.7916e-10 -3.22633e-10    0.0181639  -0.00105544 -7.15482e-11    0.0103529    0.0375753 -2.02504e-11    0.0421019 -2.33099e-10  1.30714e-10 -3.01415e-10 -1.07189e-10  0.000481751    -0.108408 -1.28203e-10 -5.22495e-11          nan          nan          nan          nan          nan          nan          nan          nan          nan          nan          nan\r\n",
      "-3.09803e-11     0.307132 -1.47394e-10  7.08625e-11   -0.0516061   2.3479e-11   9.0019e-10  1.08635e-09 -1.97387e-10   0.00105544    0.0181639 -2.25155e-10    0.0375753   -0.0103529    0.0421019 -2.02504e-11 -1.93668e-11  2.13593e-10 -9.73642e-11  5.02052e-12    -0.108408 -0.000481751 -1.34111e-11 -8.64974e-11          nan          nan          nan          nan          nan          nan          nan          nan          nan          nan          nan\r\n",
      " 4.44961e-11 -1.47394e-10     0.320625    0.0092696  1.56315e-10   1.0303e-10     0.013348     0.013348   -0.0049777  -5.8203e-11 -1.47565e-11  -0.00212066 -8.92288e-11  1.82961e-10 -1.71588e-10 -2.09593e-11     0.047062  -0.00128724  -0.00258116   -0.0151933  1.82131e-10 -3.04563e-10   -0.0254896    0.0213339          nan          nan          nan          nan          nan          nan          nan          nan          nan          nan          nan\r\n",
      "-2.30657e-10  7.08625e-11    0.0092696     0.320625 -1.69648e-10  3.23912e-10    -0.013348    -0.013348    0.0049777  -5.0114e-11  6.88549e-11   0.00212066  7.28406e-11 -1.44512e-10  6.89583e-11 -1.85819e-10  -0.00128724     0.047062    0.0151933   0.00258116 -1.68661e-10  7.88905e-10    0.0254896    0.0213339          nan          nan          nan          nan          nan          nan          nan          nan          nan          nan          nan\r\n",
      "  2.3479e-11   -0.0516061  1.56315e-10 -1.69648e-10     0.490902 -2.88463e-12  1.80089e-09  1.37395e-09 -8.20743e-10 -0.000780978   -0.0134404 -1.98453e-10   0.00770669  -0.00212339    0.0309987  6.68855e-11 -6.52037e-11 -1.89622e-10 -1.33857e-10 -2.73755e-10    0.0531267  0.000236089  1.67537e-10  6.76398e-11          nan          nan          nan          nan          nan          nan          nan          nan          nan          nan          nan\r\n",
      "  -0.0516061   2.3479e-11   1.0303e-10  3.23912e-10 -2.88466e-12     0.490902 -2.54436e-10 -2.67769e-10  1.54936e-10   -0.0134404  0.000780978  1.92583e-11   0.00212339   0.00770669  6.68856e-11    0.0309987  1.91023e-10 -5.11255e-11  9.18336e-11 -1.62992e-10 -0.000236089    0.0531267  2.48394e-10  9.10101e-12          nan          nan          nan          nan          nan          nan          nan          nan          nan          nan          nan\r\n",
      " 8.55691e-10   9.0019e-10     0.013348    -0.013348  1.80089e-09 -2.54436e-10     0.549565      0.21967    -0.085665 -7.12858e-12  6.43985e-10    -0.036496 -1.85486e-09  2.97807e-09 -9.22358e-10  3.15794e-10    -0.011337  -0.00127513    0.0127089   -0.0330659  5.13613e-10  -7.4601e-09  -0.00156733  -0.00509634          nan          nan          nan          nan          nan          nan          nan          nan          nan          nan          nan\r\n",
      "  7.7916e-10  1.08635e-09     0.013348    -0.013348  1.37395e-09 -2.67769e-10      0.21967     0.549565    -0.085665  4.69698e-11  7.52302e-10    -0.036496 -1.89331e-09  2.96168e-09  -7.1558e-10  2.13165e-10   0.00127513     0.011337   -0.0330659    0.0127089   4.3076e-11 -7.44289e-09  -0.00156733   0.00509633          nan          nan          nan          nan          nan          nan          nan          nan          nan          nan          nan\r\n",
      "-3.22633e-10 -1.97387e-10   -0.0049777    0.0049777 -8.20743e-10  1.54936e-10    -0.085665    -0.085665     0.662947 -1.74987e-10 -2.31597e-10  -0.00632525  4.08525e-10 -7.41223e-10  5.58336e-10 -1.54202e-10   0.00131467  -0.00131467    0.0038774    0.0038774 -9.20064e-10  2.85823e-09   0.00114149   1.2653e-09          nan          nan          nan          nan          nan          nan          nan          nan          nan          nan          nan\r\n",
      "   0.0181639   0.00105544  -5.8203e-11  -5.0114e-11 -0.000780978   -0.0134404 -7.12858e-12  4.69698e-11 -1.74987e-10     0.680922  1.58755e-12  8.85912e-11  2.70331e-05  7.97295e-05  0.000501017   0.00862238 -3.65771e-10 -3.65506e-11  6.96104e-11  8.83869e-10  -0.00219792   -0.0409686 -8.96064e-10  3.71185e-10          nan          nan          nan          nan          nan          nan          nan          nan          nan          nan          nan\r\n",
      " -0.00105544    0.0181639 -1.47565e-11  6.88549e-11   -0.0134404  0.000780978  6.43985e-10  7.52302e-10 -2.31597e-10  1.58759e-12     0.680922 -1.12765e-10  7.97295e-05 -2.70331e-05   0.00862238 -0.000501017 -5.78204e-11  8.72079e-10 -5.51815e-10 -1.49494e-10   -0.0409686   0.00219792 -8.14782e-10 -9.43949e-10          nan          nan          nan          nan          nan          nan          nan          nan          nan          nan          nan\r\n",
      "-7.15482e-11 -2.25155e-10  -0.00212066   0.00212066 -1.98453e-10  1.92583e-11    -0.036496    -0.036496  -0.00632525  8.85912e-11 -1.12765e-10      0.79826  3.98586e-10 -4.68169e-10 -1.57861e-11 -4.96624e-11   0.00464791  -0.00464791    0.0137082    0.0137082  8.86154e-11   8.7074e-10   0.00045245  5.44375e-10          nan          nan          nan          nan          nan          nan          nan          nan          nan          nan          nan\r\n",
      "   0.0103529    0.0375753 -8.92288e-11  7.28406e-11   0.00770669   0.00212339 -1.85486e-09 -1.89331e-09  4.08525e-10  2.70331e-05  7.97295e-05  3.98586e-10     0.956418    4.281e-11   -0.0126701  -0.00349093  3.03726e-10 -4.15931e-10  1.05116e-09  1.05055e-09    0.0192796   0.00540431  3.05388e-11  3.80274e-11          nan          nan          nan          nan          nan          nan          nan          nan          nan          nan          nan\r\n",
      "   0.0375753   -0.0103529  1.82961e-10 -1.44512e-10  -0.00212339   0.00770669  2.97807e-09  2.96168e-09 -7.41223e-10  7.97295e-05 -2.70331e-05 -4.68169e-10    4.281e-11     0.956418   0.00349093   -0.0126701 -5.76084e-10  5.76701e-10 -1.67357e-09 -1.78577e-09  -0.00540431    0.0192796 -7.77756e-12  3.08334e-11          nan          nan          nan          nan          nan          nan          nan          nan          nan          nan          nan\r\n",
      "-2.02504e-11    0.0421019 -1.71588e-10  6.89583e-11    0.0309987  6.68856e-11 -9.22358e-10  -7.1558e-10  5.58336e-10  0.000501017   0.00862238 -1.57861e-11   -0.0126701   0.00349093     0.988566  3.78017e-11  8.52675e-12  -1.8631e-10  2.23386e-10 -1.97725e-11   -0.0223628 -9.93776e-05  3.65971e-10  1.05213e-10          nan          nan          nan          nan          nan          nan          nan          nan          nan          nan          nan\r\n",
      "   0.0421019 -2.02504e-11 -2.09593e-11 -1.85819e-10  6.68855e-11    0.0309987  3.15794e-10  2.13165e-10 -1.54202e-10   0.00862238 -0.000501017 -4.96624e-11  -0.00349093   -0.0126701  3.78017e-11     0.988566  1.22125e-10  1.21034e-10 -1.18063e-11  -1.8959e-10  9.93777e-05   -0.0223628  4.45804e-10  1.78742e-11          nan          nan          nan          nan          nan          nan          nan          nan          nan          nan          nan\r\n",
      "-2.33099e-10 -1.93668e-11     0.047062  -0.00128724 -6.52037e-11  1.91023e-10    -0.011337   0.00127513   0.00131467 -3.65771e-10 -5.78204e-11   0.00464791  3.03726e-10 -5.76084e-10  8.52675e-12  1.22125e-10      1.03319  -0.00655275     0.013227     0.013227 -5.77148e-11  5.05691e-10  -0.00427431  0.000149191          nan          nan          nan          nan          nan          nan          nan          nan          nan          nan          nan\r\n",
      " 1.30714e-10  2.13593e-10  -0.00128724     0.047062 -1.89622e-10 -5.11255e-11  -0.00127513     0.011337  -0.00131467 -3.65506e-11  8.72079e-10  -0.00464791 -4.15931e-10  5.76701e-10  -1.8631e-10  1.21034e-10  -0.00655275      1.03319    -0.013227    -0.013227  6.23241e-11 -5.84742e-10   0.00427431  0.000149191          nan          nan          nan          nan          nan          nan          nan          nan          nan          nan          nan\r\n",
      "-3.01415e-10 -9.73642e-11  -0.00258116    0.0151933 -1.33857e-10  9.18336e-11    0.0127089   -0.0330659    0.0038774  6.96104e-11 -5.51815e-10    0.0137082  1.05116e-09 -1.67357e-09  2.23386e-10 -1.18063e-11     0.013227    -0.013227      1.06772    0.0410788 -2.87766e-10  1.40615e-09   0.00204727 -9.35254e-05          nan          nan          nan          nan          nan          nan          nan          nan          nan          nan          nan\r\n",
      "-1.07189e-10  5.02052e-12   -0.0151933   0.00258116 -2.73755e-10 -1.62992e-10   -0.0330659    0.0127089    0.0038774  8.83869e-10 -1.49494e-10    0.0137082  1.05055e-09 -1.78577e-09 -1.97725e-11  -1.8959e-10     0.013227    -0.013227    0.0410788      1.06772  -2.1039e-10  1.41086e-09   0.00204727  9.35263e-05          nan          nan          nan          nan          nan          nan          nan          nan          nan          nan          nan\r\n",
      "-0.000334386    0.0752465 -2.48512e-10  3.00377e-10   -0.0690159  0.000306698 -1.37714e-09 -1.00913e-09  9.71297e-10   0.00165831    0.0309104 -4.50694e-11   -0.0086692   0.00243009    0.0364086 -0.000161795  1.19771e-10 -1.21042e-10  4.88074e-10  4.85285e-10    -0.194424  2.24124e-10  3.79894e-09  1.41388e-09          nan          nan          nan          nan          nan          nan          nan          nan          nan          nan          nan\r\n",
      "   0.0752465  0.000334386  1.78047e-10 -5.57525e-10 -0.000306698   -0.0690159  5.05999e-09  5.10919e-09 -2.26113e-09    0.0309104  -0.00165831 -7.95698e-10  -0.00243009   -0.0086692  0.000161795    0.0364086 -4.43272e-10  4.48502e-10 -1.20886e-09 -1.21011e-09  2.24124e-10    -0.194424   1.1994e-09  5.94577e-11          nan          nan          nan          nan          nan          nan          nan          nan          nan          nan          nan\r\n",
      "-3.04848e-10 -4.79423e-10   -0.0141841    0.0141841  4.10968e-10  1.86456e-10   0.00437868   0.00437868  -0.00132864  -1.1424e-09 -1.07753e-09 -0.000532591  7.69168e-11  1.04298e-10 -4.14787e-11  1.63505e-10  -0.00597832   0.00597832   0.00149812   0.00149812  3.89333e-09  1.35017e-09     0.958358  1.20512e-08          nan          nan          nan          nan          nan          nan          nan          nan          nan          nan          nan\r\n",
      " 7.74876e-11 -2.80998e-10  -0.00596444  -0.00596444  4.82111e-10 -5.77384e-10   0.00100735  -0.00100735 -6.21929e-10  4.36753e-10 -9.49599e-10 -3.92481e-10  9.75355e-11  3.22117e-11  1.79432e-10 -9.93663e-11   0.00466245   0.00466245  0.000136025 -0.000136025  1.49669e-09  1.77885e-10  1.23104e-08    0.0917743          nan          nan          nan          nan          nan          nan          nan          nan          nan          nan          nan\r\n",
      "        -nan         -nan         -nan         -nan         -nan         -nan         -nan         -nan         -nan         -nan         -nan         -nan         -nan         -nan         -nan         -nan         -nan         -nan         -nan         -nan         -nan         -nan         -nan         -nan         -nan         -nan         -nan         -nan         -nan         -nan         -nan         -nan         -nan         -nan         -nan\r\n",
      "        -nan         -nan         -nan         -nan         -nan         -nan         -nan         -nan         -nan         -nan         -nan         -nan         -nan         -nan         -nan         -nan         -nan         -nan         -nan         -nan         -nan         -nan         -nan         -nan         -nan         -nan         -nan         -nan         -nan         -nan         -nan         -nan         -nan         -nan         -nan\r\n",
      "        -nan         -nan         -nan         -nan         -nan         -nan         -nan         -nan         -nan         -nan         -nan         -nan         -nan         -nan         -nan         -nan         -nan         -nan         -nan         -nan         -nan         -nan         -nan         -nan          nan          nan          nan          nan          nan          nan          nan          nan          nan          nan          nan\r\n",
      "        -nan         -nan         -nan         -nan         -nan         -nan         -nan         -nan         -nan         -nan         -nan         -nan         -nan         -nan         -nan         -nan         -nan         -nan         -nan         -nan         -nan         -nan         -nan         -nan          nan          nan          nan          nan          nan          nan          nan          nan          nan          nan          nan\r\n",
      "        -nan         -nan         -nan         -nan         -nan         -nan         -nan         -nan         -nan         -nan         -nan         -nan         -nan         -nan         -nan         -nan         -nan         -nan         -nan         -nan         -nan         -nan         -nan         -nan         -nan         -nan         -nan         -nan         -nan         -nan         -nan         -nan         -nan         -nan         -nan\r\n",
      "        -nan         -nan         -nan         -nan         -nan         -nan         -nan         -nan         -nan         -nan         -nan         -nan         -nan         -nan         -nan         -nan         -nan         -nan         -nan         -nan         -nan         -nan         -nan         -nan         -nan         -nan         -nan         -nan         -nan         -nan         -nan         -nan         -nan         -nan         -nan\r\n",
      "        -nan         -nan         -nan         -nan         -nan         -nan         -nan         -nan         -nan         -nan         -nan         -nan         -nan         -nan         -nan         -nan         -nan         -nan         -nan         -nan         -nan         -nan         -nan         -nan          nan          nan          nan          nan          nan          nan          nan          nan          nan          nan          nan\r\n",
      "        -nan         -nan         -nan         -nan         -nan         -nan         -nan         -nan         -nan         -nan         -nan         -nan         -nan         -nan         -nan         -nan         -nan         -nan         -nan         -nan         -nan         -nan         -nan         -nan          nan          nan          nan          nan          nan          nan          nan          nan          nan          nan          nan\r\n",
      "        -nan         -nan         -nan         -nan         -nan         -nan         -nan         -nan         -nan         -nan         -nan         -nan         -nan         -nan         -nan         -nan         -nan         -nan         -nan         -nan         -nan         -nan         -nan         -nan          nan          nan          nan         -nan          nan          nan          nan         -nan          nan          nan          nan\r\n",
      "        -nan         -nan         -nan         -nan         -nan         -nan         -nan         -nan         -nan         -nan         -nan         -nan         -nan         -nan         -nan         -nan         -nan         -nan         -nan         -nan         -nan         -nan         -nan         -nan          nan          nan          nan         -nan          nan          nan          nan         -nan          nan          nan          nan\r\n",
      "        -nan         -nan         -nan         -nan         -nan         -nan         -nan         -nan         -nan         -nan         -nan         -nan         -nan         -nan         -nan         -nan         -nan         -nan         -nan         -nan         -nan         -nan         -nan         -nan         -nan         -nan         -nan         -nan         -nan         -nan         -nan         -nan         -nan         -nan         -nan\r\n",
      "B\r\n",
      "    0.093811 -1.37707e-11  1.67595e-11 -1.31172e-10  1.44397e-11   -0.0328898   3.5457e-10  2.99685e-10 -1.98336e-10     0.015531 -0.000902453 -3.66664e-11    0.0128374    0.0465925 -2.35282e-11    0.0481429 -2.87516e-10  1.38653e-10 -3.10685e-10 -3.81301e-11  0.000111576   -0.0251078 -4.01161e-10  6.63809e-11         -nan         -nan         -nan         -nan         -nan         -nan         -nan         -nan         -nan         -nan         -nan\r\n",
      "-1.37707e-11     0.093811 -9.50956e-11  4.02103e-11   -0.0328898  1.44397e-11  3.69099e-10  4.83512e-10 -1.23083e-10  0.000902453     0.015531 -1.66759e-10    0.0465925   -0.0128374    0.0481429 -2.35282e-11  -1.2828e-11  2.85383e-10 -7.56247e-11  7.32376e-11   -0.0251078 -0.000111576 -5.11012e-10 -3.52556e-10         -nan         -nan         -nan         -nan         -nan         -nan         -nan         -nan         -nan         -nan         -nan\r\n",
      " 1.67595e-11 -9.50956e-11     0.105881   0.00530126  1.02618e-10  7.15348e-11   0.00676207   0.00676207  -0.00366041 -5.18476e-11 -2.03255e-11  -0.00166277 -9.63872e-11   2.0295e-10 -2.10558e-10 -2.54943e-11    0.0640677  -0.00170436  -0.00247673   -0.0196594 -6.23499e-11 -1.11217e-11   -0.0418855    0.0156095         -nan         -nan         -nan         -nan         -nan         -nan         -nan         -nan         -nan         -nan         -nan\r\n",
      "-1.31172e-10  4.02103e-11   0.00530126     0.105881 -1.09708e-10   2.2906e-10  -0.00676207  -0.00676207   0.00366041 -5.46522e-11  7.12252e-11   0.00166277  7.31408e-11 -1.52677e-10  7.34605e-11 -2.18418e-10  -0.00170436    0.0640677    0.0196594   0.00247673  1.33416e-10  1.11374e-10    0.0418855    0.0156095         -nan         -nan         -nan         -nan         -nan         -nan         -nan         -nan         -nan         -nan         -nan\r\n",
      " 1.44397e-11   -0.0328898  1.02618e-10 -1.09708e-10     0.240891 -6.89268e-13  1.10447e-09  8.03872e-10 -6.98474e-10 -0.000839273   -0.0144437 -1.60499e-10   0.00881495  -0.00242874    0.0441772  9.29755e-11 -5.66344e-11 -3.34177e-10 -5.74653e-11  -2.8734e-10  -0.00438142 -1.94705e-05  5.20767e-10  4.65864e-10         -nan         -nan         -nan         -nan         -nan         -nan         -nan         -nan         -nan         -nan         -nan\r\n",
      "  -0.0328898  1.44397e-11  7.15348e-11   2.2906e-10 -6.89303e-13     0.240891 -1.39678e-10 -1.46768e-10   1.2422e-10   -0.0144437  0.000839273   9.8878e-12   0.00242874   0.00881495  9.29755e-11    0.0441772  2.79885e-10 -5.00097e-11  1.11411e-10 -2.79401e-10  1.94705e-05  -0.00438142  4.31976e-10 -5.14614e-10         -nan         -nan         -nan         -nan         -nan         -nan         -nan         -nan         -nan         -nan         -nan\r\n",
      "  3.5457e-10  3.69099e-10   0.00676207  -0.00676207  1.10447e-09 -1.39678e-10     0.221861     0.110679   -0.0629948  -1.3261e-12  4.62561e-10   -0.0286158 -1.92792e-09  3.22397e-09 -1.03146e-09  3.28787e-10   -0.0100702  -0.00711249     0.033099   -0.0292643 -8.01259e-10 -3.84441e-10   0.00292995  -0.00414236         -nan         -nan         -nan         -nan         -nan         -nan         -nan         -nan         -nan         -nan         -nan\r\n",
      " 2.99685e-10  4.83512e-10   0.00676207  -0.00676207  8.03872e-10 -1.46768e-10     0.110679     0.221861   -0.0629948  4.95735e-11  5.69061e-10   -0.0286158 -1.97819e-09  3.20073e-09 -7.87552e-10   1.9169e-10   0.00711249    0.0100702   -0.0292643     0.033099 -8.98701e-10 -3.12395e-10   0.00292995   0.00414236         -nan         -nan         -nan         -nan         -nan         -nan         -nan         -nan         -nan         -nan         -nan\r\n",
      "-1.98336e-10 -1.23083e-10  -0.00366041   0.00366041 -6.98474e-10   1.2422e-10   -0.0629948   -0.0629948     0.429278 -2.25286e-10 -2.34116e-10   -0.0121538  4.56557e-10 -9.09046e-10  7.69118e-10 -2.08898e-10   -6.198e-06  6.19803e-06   -1.828e-05 -1.82799e-05 -7.45723e-11  5.84271e-10  5.84144e-05  2.90925e-10         -nan         -nan         -nan         -nan         -nan         -nan         -nan         -nan         -nan         -nan         -nan\r\n",
      "    0.015531  0.000902453 -5.18476e-11 -5.46522e-11 -0.000839273   -0.0144437  -1.3261e-12  4.95735e-11 -2.25286e-10     0.463967  2.12019e-12  1.17679e-10  0.000207689  0.000612542  0.000601868     0.010358 -6.16293e-10 -6.25572e-11  1.11967e-10  1.49055e-09 -0.000950089   -0.0177094 -1.86775e-09  6.60219e-10         -nan         -nan         -nan         -nan         -nan         -nan         -nan         -nan         -nan         -nan         -nan\r\n",
      "-0.000902453     0.015531 -2.03255e-11  7.12252e-11   -0.0144437  0.000839273  4.62561e-10  5.69061e-10 -2.34116e-10  2.12024e-12     0.463967 -1.09256e-10  0.000612542 -0.000207689     0.010358 -0.000601868 -7.67818e-11  1.45537e-09 -8.67118e-10 -1.88267e-10   -0.0177094  0.000950089 -1.77772e-09 -1.71955e-09         -nan         -nan         -nan         -nan         -nan         -nan         -nan         -nan         -nan         -nan         -nan\r\n",
      "-3.66664e-11 -1.66759e-10  -0.00166277   0.00166277 -1.60499e-10   9.8878e-12   -0.0286158   -0.0286158   -0.0121538  1.17679e-10 -1.09256e-10     0.636067  5.47742e-10 -6.15215e-10 -6.46645e-11  -6.6204e-11   0.00672028  -0.00672028    0.0198203    0.0198203  1.03284e-10 -8.58565e-12  4.54052e-05  3.25191e-11         -nan         -nan         -nan         -nan         -nan         -nan         -nan         -nan         -nan         -nan         -nan\r\n",
      "   0.0128374    0.0465925 -9.63872e-11  7.31408e-11   0.00881495   0.00242874 -1.92792e-09 -1.97819e-09  4.56557e-10  0.000207689  0.000612542  5.47742e-10     0.917068    7.505e-11   -0.0214906  -0.00592121  5.28345e-10 -7.58168e-10  1.86001e-09  1.85548e-09    0.0223834   0.00627434  1.65237e-10  1.68991e-10         -nan         -nan         -nan         -nan         -nan         -nan         -nan         -nan         -nan         -nan         -nan\r\n",
      "   0.0465925   -0.0128374   2.0295e-10 -1.52677e-10  -0.00242874   0.00881495  3.22397e-09  3.20073e-09 -9.09046e-10  0.000612542 -0.000207689 -6.15215e-10    7.505e-11     0.917068   0.00592121   -0.0214906 -1.02284e-09  1.02738e-09 -2.98445e-09 -3.21427e-09  -0.00627434    0.0223834  1.26439e-10  5.33099e-11         -nan         -nan         -nan         -nan         -nan         -nan         -nan         -nan         -nan         -nan         -nan\r\n",
      "-2.35282e-11    0.0481429 -2.10558e-10  7.34605e-11    0.0441772  9.29756e-11 -1.03146e-09 -7.87552e-10  7.69118e-10  0.000601868     0.010358 -6.46645e-11   -0.0214906   0.00592121     0.981535  7.28658e-11 -3.50787e-12  -3.0594e-10  3.62901e-10 -7.51168e-11   0.00424838  1.88793e-05  3.17029e-10  1.84037e-10         -nan         -nan         -nan         -nan         -nan         -nan         -nan         -nan         -nan         -nan         -nan\r\n",
      "   0.0481429 -2.35282e-11 -2.54943e-11 -2.18418e-10  9.29754e-11    0.0441772  3.28787e-10   1.9169e-10 -2.08898e-10     0.010358 -0.000601868  -6.6204e-11  -0.00592121   -0.0214906  7.28657e-11     0.981535  2.22908e-10   2.1511e-10 -7.22155e-12 -3.16669e-10 -1.88793e-05   0.00424838  6.75851e-10  2.88687e-11         -nan         -nan         -nan         -nan         -nan         -nan         -nan         -nan         -nan         -nan         -nan\r\n",
      "-2.87516e-10  -1.2828e-11    0.0640677  -0.00170436 -5.66344e-11  2.79885e-10   -0.0100702   0.00711249   -6.198e-06 -6.16293e-10 -7.67818e-11   0.00672028  5.28345e-10 -1.02284e-09 -3.50787e-12  2.22908e-10      1.06905   -0.0127847    0.0247166    0.0247166  4.19353e-11  2.29587e-10    -0.015053   0.00653124         -nan         -nan         -nan         -nan         -nan         -nan         -nan         -nan         -nan         -nan         -nan\r\n",
      " 1.38653e-10  2.85383e-10  -0.00170436    0.0640677 -3.34177e-10 -5.00097e-11  -0.00711249    0.0100702  6.19803e-06 -6.25572e-11  1.45537e-09  -0.00672028 -7.58168e-10  1.02738e-09  -3.0594e-10   2.1511e-10   -0.0127847      1.06905   -0.0247166   -0.0247166 -1.38852e-10 -2.90697e-10     0.015053   0.00653124         -nan         -nan         -nan         -nan         -nan         -nan         -nan         -nan         -nan         -nan         -nan\r\n",
      "-3.10685e-10 -7.56247e-11  -0.00247673    0.0196594 -5.74653e-11  1.11411e-10     0.033099   -0.0292643   -1.828e-05  1.11967e-10 -8.67118e-10    0.0198203  1.86001e-09 -2.98445e-09  3.62901e-10 -7.22155e-12    0.0247166   -0.0247166      1.13357    0.0773017   1.1898e-10  4.33707e-10   0.00544716  1.81505e-05         -nan         -nan         -nan         -nan         -nan         -nan         -nan         -nan         -nan         -nan         -nan\r\n",
      "-3.81301e-11  7.32376e-11   -0.0196594   0.00247673  -2.8734e-10 -2.79401e-10   -0.0292643     0.033099 -1.82799e-05  1.49055e-09 -1.88267e-10    0.0198203  1.85548e-09 -3.21427e-09 -7.51168e-11 -3.16669e-10    0.0247166   -0.0247166    0.0773017      1.13357  1.80306e-10  3.37061e-10   0.00544716   -1.815e-05         -nan         -nan         -nan         -nan         -nan         -nan         -nan         -nan         -nan         -nan         -nan\r\n",
      " 0.000254886   -0.0573567  6.57143e-13  4.59877e-11  -0.00347861  1.54585e-05 -3.27862e-10 -5.32473e-10 -4.03086e-12 -0.000546728   -0.0101909 -2.33254e-11    0.0179492  -0.00503139    0.0191591 -8.51409e-05 -8.31092e-14  9.07891e-11  5.04921e-11  2.62757e-10     0.600541  2.24662e-10  2.81251e-09  8.82475e-10         -nan         -nan         -nan         -nan         -nan         -nan         -nan         -nan         -nan         -nan         -nan\r\n",
      "  -0.0573567 -0.000254886 -1.63818e-10  3.70651e-10 -1.54585e-05  -0.00347861 -3.85772e-09 -3.80974e-09  6.45026e-10   -0.0101909  0.000546728  1.38946e-10   0.00503139    0.0179492  8.51408e-05    0.0191591  -1.4929e-10 -6.09068e-11  -1.4214e-10 -5.13305e-11  2.24662e-10     0.600541  7.09336e-11   1.2443e-09         -nan         -nan         -nan         -nan         -nan         -nan         -nan         -nan         -nan         -nan         -nan\r\n",
      "-3.28222e-10 -3.21235e-10   -0.0423663    0.0423663  6.07583e-10  5.83253e-10   0.00289923   0.00289923 -0.000442813 -1.66947e-09 -1.60314e-09 -0.000216737  1.09818e-10  1.72893e-10  4.07524e-10  8.27911e-10   -0.0160946    0.0160946   0.00532984   0.00532984  3.14876e-09  5.25866e-10       1.9849  1.55786e-08         -nan         -nan         -nan         -nan         -nan         -nan         -nan         -nan         -nan         -nan         -nan\r\n",
      "-2.84464e-11 -2.81675e-10    0.0176049    0.0176049  4.06344e-10  -4.3412e-10  -0.00469419   0.00469418  9.21809e-10  7.10067e-10 -1.72442e-09   2.8096e-10  1.78004e-10  8.77828e-11  2.18718e-10  -7.5112e-13   0.00783282   0.00783282  0.000108721 -0.000108721    1.197e-09  1.17145e-09  1.58378e-08     0.775211         -nan         -nan         -nan         -nan         -nan         -nan         -nan         -nan         -nan         -nan         -nan\r\n",
      "        -nan         -nan         -nan         -nan         -nan         -nan         -nan         -nan         -nan         -nan         -nan         -nan         -nan         -nan         -nan         -nan         -nan         -nan         -nan         -nan         -nan         -nan         -nan         -nan         -nan         -nan         -nan         -nan         -nan         -nan         -nan         -nan         -nan         -nan         -nan\r\n",
      "        -nan         -nan         -nan         -nan         -nan         -nan         -nan         -nan         -nan         -nan         -nan         -nan         -nan         -nan         -nan         -nan         -nan         -nan         -nan         -nan         -nan         -nan         -nan         -nan         -nan         -nan         -nan         -nan         -nan         -nan         -nan         -nan         -nan         -nan         -nan\r\n",
      "        -nan         -nan         -nan         -nan         -nan         -nan         -nan         -nan         -nan         -nan         -nan         -nan         -nan         -nan         -nan         -nan         -nan         -nan         -nan         -nan         -nan         -nan         -nan         -nan         -nan         -nan         -nan         -nan         -nan         -nan         -nan         -nan         -nan         -nan         -nan\r\n",
      "        -nan         -nan         -nan         -nan         -nan         -nan         -nan         -nan         -nan         -nan         -nan         -nan         -nan         -nan         -nan         -nan         -nan         -nan         -nan         -nan         -nan         -nan         -nan         -nan         -nan         -nan         -nan         -nan         -nan         -nan         -nan         -nan         -nan         -nan         -nan\r\n",
      "        -nan         -nan         -nan         -nan         -nan         -nan         -nan         -nan         -nan         -nan         -nan         -nan         -nan         -nan         -nan         -nan         -nan         -nan         -nan         -nan         -nan         -nan         -nan         -nan         -nan         -nan         -nan         -nan         -nan         -nan         -nan         -nan         -nan         -nan         -nan\r\n",
      "        -nan         -nan         -nan         -nan         -nan         -nan         -nan         -nan         -nan         -nan         -nan         -nan         -nan         -nan         -nan         -nan         -nan         -nan         -nan         -nan         -nan         -nan         -nan         -nan         -nan         -nan         -nan         -nan         -nan         -nan         -nan         -nan         -nan         -nan         -nan\r\n",
      "        -nan         -nan         -nan         -nan         -nan         -nan         -nan         -nan         -nan         -nan         -nan         -nan         -nan         -nan         -nan         -nan         -nan         -nan         -nan         -nan         -nan         -nan         -nan         -nan         -nan         -nan         -nan         -nan         -nan         -nan         -nan         -nan         -nan         -nan         -nan\r\n",
      "        -nan         -nan         -nan         -nan         -nan         -nan         -nan         -nan         -nan         -nan         -nan         -nan         -nan         -nan         -nan         -nan         -nan         -nan         -nan         -nan         -nan         -nan         -nan         -nan         -nan         -nan         -nan         -nan         -nan         -nan         -nan         -nan         -nan         -nan         -nan\r\n",
      "        -nan         -nan         -nan         -nan         -nan         -nan         -nan         -nan         -nan         -nan         -nan         -nan         -nan         -nan         -nan         -nan         -nan         -nan         -nan         -nan         -nan         -nan         -nan         -nan         -nan         -nan         -nan         -nan         -nan         -nan         -nan         -nan         -nan         -nan         -nan\r\n",
      "        -nan         -nan         -nan         -nan         -nan         -nan         -nan         -nan         -nan         -nan         -nan         -nan         -nan         -nan         -nan         -nan         -nan         -nan         -nan         -nan         -nan         -nan         -nan         -nan         -nan         -nan         -nan         -nan         -nan         -nan         -nan         -nan         -nan         -nan         -nan\r\n",
      "        -nan         -nan         -nan         -nan         -nan         -nan         -nan         -nan         -nan         -nan         -nan         -nan         -nan         -nan         -nan         -nan         -nan         -nan         -nan         -nan         -nan         -nan         -nan         -nan          nan          nan          nan          nan          nan          nan          nan          nan          nan          nan          nan\r\n",
      "an error occurred:\r\n",
      "Small generalized eigenvalue problem failed.\r\n"
     ]
    }
   ],
   "source": [
    "!xtp_tools -c job_name=CO geometry_optimization.maxiter=1 dftpackage.basisset=3-21G dftpackage.auxbasisset=aux-def2-svp gwbse.gw.mode=G0W0 -e dftgwbse -t 4"
   ]
  },
  {
   "cell_type": "markdown",
   "metadata": {},
   "source": [
    "Notice that we are using 4 threads. The results will be stored in a file named `CO_summary.xml` in the current work directory, together with the optimization step in `optimisation.trj` and the orbitals in [hdf5 format](https://www.hdfgroup.org/solutions/hdf5/) saved on `CO.orb`."
   ]
  }
 ],
 "metadata": {
  "kernelspec": {
   "display_name": "Python 3",
   "language": "python",
   "name": "python3"
  },
  "language_info": {
   "codemirror_mode": {
    "name": "ipython",
    "version": 3
   },
   "file_extension": ".py",
   "mimetype": "text/x-python",
   "name": "python",
   "nbconvert_exporter": "python",
   "pygments_lexer": "ipython3",
   "version": "3.10.1"
  }
 },
 "nbformat": 4,
 "nbformat_minor": 4
}
