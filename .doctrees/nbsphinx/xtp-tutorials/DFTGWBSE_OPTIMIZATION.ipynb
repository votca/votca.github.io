{
 "cells": [
  {
   "cell_type": "markdown",
   "metadata": {},
   "source": [
    "## DFT + GWBSE Optimization Using CO"
   ]
  },
  {
   "cell_type": "markdown",
   "metadata": {},
   "source": [
    "## Introduction\n",
    "This tutorial explains how to perform a molecular geometric optimization using the **GWBSE** method. See [the GW Compendium: A Practical Guide to Theoretical Photoemission Spectroscopy](https://doi.org/10.3389/fchem.2019.00377), for an excellent introduction to the method."
   ]
  },
  {
   "cell_type": "markdown",
   "metadata": {},
   "source": [
    "## Requirements\n",
    "* You will need to install **VOTCA** using the instructions described [here](https://github.com/votca/votca/blob/master/share/doc/INSTALL.rst)\n",
    "* Once the installation is completed you need to activate the VOTCA enviroment by running the `VOTCARC.bash` script that has been installed at the bin subfolder for the path that you have provided for the installation step above"
   ]
  },
  {
   "cell_type": "markdown",
   "metadata": {},
   "source": [
    "## Preparing the input\n",
    "To run a DFT-GWBSE calculation we will use the [xtp_tools](https://www.votca.org/xtp/xtp_tools_overview.html) calculator."
   ]
  },
  {
   "cell_type": "markdown",
   "metadata": {},
   "source": [
    "we can now change the calculator mode from single point energy calculation to optimization as follows by adding \n",
    "`-c geometry_optimization.maxiter=1` which enables optimization with one iteration. "
   ]
  },
  {
   "cell_type": "markdown",
   "metadata": {},
   "source": [
    "Because geometry optimsation is quite expensive numerically we chose a smaller basisset and G0W0 Finally, to run the calculation we just need the following command (This still takes a while)"
   ]
  },
  {
   "cell_type": "code",
   "execution_count": 1,
   "metadata": {
    "execution": {
     "iopub.execute_input": "2021-07-17T04:00:36.928695Z",
     "iopub.status.busy": "2021-07-17T04:00:36.928139Z",
     "iopub.status.idle": "2021-07-17T04:00:40.292138Z",
     "shell.execute_reply": "2021-07-17T04:00:40.292862Z"
    }
   },
   "outputs": [
    {
     "name": "stdout",
     "output_type": "stream",
     "text": [
      "==================================================\r\n",
      "========   VOTCA (http://www.votca.org)   ========\r\n",
      "==================================================\r\n",
      "\r\n",
      "please submit bugs to https://github.com/votca/xtp/issues\r\n",
      "\r\n",
      "xtp_tools, version 2022-dev gitid: 007ccbc (compiled Jul 17 2021, 03:51:42)\r\n",
      "votca_csg, version 2022-dev gitid: 007ccbc (compiled Jul 17 2021, 03:38:05)\r\n",
      "votca_tools, version 2022-dev gitid: 007ccbc (compiled Jul 17 2021, 03:35:34)\r\n",
      "\r\n",
      "Initializing tool\r\n",
      "... dftgwbse Evaluating tool\r\n",
      "... dftgwbse  Using 4 threads\r\n",
      "... ... Reading structure from CO.xyz\r\n",
      "... ... Requested geometry optimization of excited state s1\r\n",
      "... ... Initial state: s1\r\n",
      "... ... WARNING: No tracker is used \r\n",
      "... ... Convergence of total energy: 0.000001 Hartree \r\n",
      "... ... Convergence of RMS Force:    0.000030 Hartree/Bohr \r\n",
      "... ... Convergence of Max Force:    0.000100 Hartree/Bohr \r\n",
      "... ... Convergence of RMS Step:     0.000600 Bohr \r\n",
      "... ... Convergence of Max Step:     0.001000 Bohr \r\n",
      "... ... Initial trust radius:        0.018897 BohrA\r\n",
      "    0.307132  1.84722e-14 -1.19379e-10 -3.82617e-10 -1.40933e-14   -0.0516061  7.78067e-14 -7.99539e-14  1.92621e-14    0.0181946 -8.27828e-07  1.14879e-14  9.27546e-06   -0.0389755  1.23925e-14    0.0421019  1.99711e-11 -2.79982e-11 -6.45584e-15 -8.40755e-15  -3.8812e-07     0.108409 -1.56048e-10          nan          nan          nan          nan          nan          nan          nan          nan          nan          nan          nan          nan\r\n",
      "  1.8509e-14     0.307132   9.0803e-14  9.29637e-14   -0.0516061 -1.41016e-14  1.68357e-09 -1.94681e-09  5.10789e-10 -8.27828e-07   -0.0181946  3.05782e-10    0.0389755  9.27546e-06    0.0421019  1.23301e-14   6.1958e-14 -5.99898e-14 -3.17408e-10 -3.25435e-10    -0.108409  -3.8812e-07  3.32086e-14          nan          nan          nan          nan          nan          nan          nan          nan          nan          nan          nan          nan\r\n",
      "-1.19379e-10   9.0803e-14      0.31985   -0.0100452  6.09096e-14  -4.1064e-11   1.0487e-05  -1.0487e-05  3.90421e-06 -4.42952e-11 -3.31999e-14  1.66331e-06 -1.98584e-14 -2.49088e-11 -2.48408e-14  1.61215e-11    0.0495318  -0.00205135 -1.19825e-06  1.01013e-05 -3.17538e-13 -1.56093e-11    0.0253475          nan          nan          nan          nan          nan          nan          nan          nan          nan          nan          nan          nan\r\n",
      "-3.82617e-10  9.29637e-14   -0.0100452      0.31985  5.77675e-14  3.74774e-10   1.0487e-05  -1.0487e-05  3.90421e-06 -1.08717e-10 -3.04721e-14  1.66331e-06 -1.82689e-14 -3.19285e-11 -2.19334e-14 -2.93777e-10   0.00205135   -0.0495318  1.01013e-05 -1.19825e-06 -3.19903e-13  -5.1794e-10    0.0253475          nan          nan          nan          nan          nan          nan          nan          nan          nan          nan          nan          nan\r\n",
      "-1.40832e-14   -0.0516061  6.09096e-14  5.77675e-14     0.490902  1.55422e-15  1.65015e-09 -1.23431e-09  7.26246e-10  6.12553e-07    0.0134631  1.92566e-10   0.00799385  1.90239e-06    0.0309987 -4.03404e-14  3.46012e-14 -3.56231e-14  -1.8058e-10 -1.76916e-10    0.0531272  1.90203e-07  5.31751e-14          nan          nan          nan          nan          nan          nan          nan          nan          nan          nan          nan          nan\r\n",
      "  -0.0516061 -1.41028e-14  -4.1064e-11  3.74774e-10  1.52177e-15     0.490902  4.75145e-14 -4.43036e-14  2.69095e-14   -0.0134631  6.12553e-07  7.29918e-15  1.90239e-06  -0.00799385 -4.03502e-14    0.0309987 -1.57853e-11  1.94484e-11 -1.03442e-14 -9.38334e-15  1.90203e-07   -0.0531272   1.0036e-10          nan          nan          nan          nan          nan          nan          nan          nan          nan          nan          nan          nan\r\n",
      " 7.78067e-14  1.68357e-09   1.0487e-05   1.0487e-05  1.65015e-09  4.75145e-14     0.550341    -0.220446    0.0858093  -8.9059e-16 -6.85581e-10    0.0365574  -5.4067e-10 -1.05896e-13 -7.78859e-10 -1.84062e-14  6.64632e-06  4.65318e-06    0.0124663   -0.0350142 -6.46285e-09  2.32276e-13  5.79421e-06          nan          nan          nan          nan          nan          nan          nan          nan          nan          nan          nan          nan\r\n",
      "-7.99539e-14 -1.94681e-09  -1.0487e-05  -1.0487e-05 -1.23431e-09 -4.43036e-14    -0.220446     0.550341   -0.0858093  3.64559e-15  7.50003e-10   -0.0365574   5.4769e-10  1.07481e-13   4.6896e-10  1.55879e-14  4.65318e-06  6.64632e-06    0.0350142   -0.0124663  6.95495e-09 -2.34436e-13 -5.79421e-06          nan          nan          nan          nan          nan          nan          nan          nan          nan          nan          nan          nan\r\n",
      " 1.92623e-14  5.10789e-10  3.90421e-06  3.90421e-06  7.26246e-10  2.69095e-14    0.0858093   -0.0858093     0.662947  -3.2895e-15 -4.06803e-10  -0.00632528 -6.07628e-11 -1.19392e-14 -4.48452e-10 -1.68472e-14  7.88064e-07 -7.88064e-07  -0.00409419  -0.00409419 -1.71073e-09  5.58062e-14  2.61301e-06          nan          nan          nan          nan          nan          nan          nan          nan          nan          nan          nan          nan\r\n",
      "   0.0181946 -8.27828e-07 -4.42952e-11 -1.08717e-10  6.12553e-07   -0.0134631 -8.90606e-16  3.64572e-15 -3.28954e-15     0.680922 -7.76174e-16 -2.34714e-16  1.62053e-08 -8.41908e-05 -3.92968e-07   0.00863691 -1.13879e-11   1.9046e-11 -3.11444e-15 -1.86004e-15  1.71981e-06    0.0410276  -1.1313e-10          nan          nan          nan          nan          nan          nan          nan          nan          nan          nan          nan          nan\r\n",
      "-8.27828e-07   -0.0181946 -3.31999e-14 -3.04719e-14    0.0134631  6.12553e-07 -6.85581e-10  7.50003e-10 -4.06803e-10 -8.69676e-16     0.680922 -2.53169e-11 -8.41908e-05 -1.62053e-08  -0.00863691 -3.92968e-07 -1.59923e-14  1.72265e-14  9.14722e-11  8.38142e-11    0.0410276 -1.71981e-06 -1.01166e-14          nan          nan          nan          nan          nan          nan          nan          nan          nan          nan          nan          nan\r\n",
      " 1.14879e-14  3.05782e-10  1.66331e-06  1.66331e-06  1.92566e-10  7.29931e-15    0.0365574   -0.0365574  -0.00632528 -2.34711e-16 -2.53169e-11      0.79826 -2.17058e-10 -4.34664e-14   6.3121e-11  2.22635e-15  2.78614e-06 -2.78614e-06   -0.0144747   -0.0144747 -9.11097e-10  3.03219e-14  1.08482e-06          nan          nan          nan          nan          nan          nan          nan          nan          nan          nan          nan          nan\r\n",
      " 9.27546e-06    0.0389755 -1.98584e-14 -1.82689e-14   0.00799385  1.90239e-06  -5.4067e-10   5.4769e-10 -6.07628e-11  1.62053e-08 -8.41908e-05 -2.17058e-10     0.956418 -2.89091e-14   -0.0131422 -3.12761e-06 -5.71964e-14  5.63292e-14  2.28669e-10  3.39595e-10    0.0200227 -4.69336e-06  4.27449e-15          nan          nan          nan          nan          nan          nan          nan          nan          nan          nan          nan          nan\r\n",
      "  -0.0389755  9.27546e-06 -2.49088e-11 -3.19285e-11  1.90239e-06  -0.00799385 -1.05896e-13  1.07481e-13 -1.19392e-14 -8.41908e-05 -1.62053e-08 -4.34664e-14 -2.88873e-14     0.956418 -3.12761e-06    0.0131422 -4.53866e-11 -6.55395e-11  5.92342e-14  5.83574e-14  4.69336e-06    0.0200227 -4.47405e-11          nan          nan          nan          nan          nan          nan          nan          nan          nan          nan          nan          nan\r\n",
      " 1.23929e-14    0.0421019 -2.48409e-14 -2.19334e-14    0.0309987 -4.03613e-14 -7.78859e-10   4.6896e-10 -4.48452e-10 -3.92968e-07  -0.00863691   6.3121e-11   -0.0131422 -3.12761e-06     0.988567 -2.31321e-14  1.20864e-14  3.13083e-14  1.35024e-10 -4.18819e-11    -0.022363 -8.00631e-08 -3.54435e-14          nan          nan          nan          nan          nan          nan          nan          nan          nan          nan          nan          nan\r\n",
      "   0.0421019  1.23393e-14  1.61215e-11 -2.93777e-10 -4.03534e-14    0.0309987 -1.84061e-14  1.55878e-14 -1.68472e-14   0.00863691 -3.92968e-07  2.22635e-15 -3.12761e-06    0.0131422 -2.31796e-14     0.988567 -6.76758e-11  -1.0923e-10  2.75865e-14 -1.58767e-14 -8.00631e-08     0.022363  1.36987e-10          nan          nan          nan          nan          nan          nan          nan          nan          nan          nan          nan          nan\r\n",
      " 1.99711e-11   6.1958e-14    0.0495318   0.00205135  3.46012e-14 -1.57853e-11  6.64632e-06  4.65318e-06  7.88064e-07 -1.13879e-11 -1.59923e-14  2.78614e-06 -5.71964e-14 -4.53866e-11  1.20864e-14 -6.76758e-11      1.02871    -0.002068 -8.37218e-06 -8.37218e-06 -2.31078e-13 -1.59675e-12   0.00469825          nan          nan          nan          nan          nan          nan          nan          nan          nan          nan          nan          nan\r\n",
      "-2.79982e-11 -5.99898e-14  -0.00205135   -0.0495318 -3.56231e-14  1.94484e-11  4.65318e-06  6.64632e-06 -7.88064e-07   1.9046e-11  1.72265e-14 -2.78614e-06  5.63292e-14 -6.55395e-11  3.13083e-14  -1.0923e-10    -0.002068      1.02871  8.37218e-06  8.37218e-06  2.08825e-13 -9.25519e-11  -0.00469825          nan          nan          nan          nan          nan          nan          nan          nan          nan          nan          nan          nan\r\n",
      "-6.45584e-15 -3.17408e-10 -1.19825e-06  1.01013e-05  -1.8058e-10 -1.03442e-14    0.0124663    0.0350142  -0.00409419 -3.11445e-15  9.14722e-11   -0.0144747  2.28669e-10  5.92342e-14  1.35024e-10  2.75865e-14 -8.37218e-06  8.37218e-06       1.0722    0.0455636  1.10042e-09 -1.63436e-14  1.09192e-06          nan          nan          nan          nan          nan          nan          nan          nan          nan          nan          nan          nan\r\n",
      "-8.40755e-15 -3.25435e-10  1.01013e-05 -1.19825e-06 -1.76916e-10 -9.38334e-15   -0.0350142   -0.0124663  -0.00409419 -1.86004e-15  8.38142e-11   -0.0144747  3.39595e-10  5.83574e-14 -4.18819e-11 -1.58767e-14 -8.37218e-06  8.37218e-06    0.0455636       1.0722  1.19324e-09 -3.91531e-14  1.09192e-06          nan          nan          nan          nan          nan          nan          nan          nan          nan          nan          nan          nan\r\n",
      " 2.69397e-07    0.0752473  1.65301e-13  1.66384e-13   -0.0690166  -2.4709e-07   3.3474e-09 -3.67017e-09  1.09582e-09 -1.29758e-06   -0.0309549  7.94527e-10  -0.00900335  -2.1104e-06    0.0364089   1.3035e-07  1.30399e-13 -1.29649e-13 -6.79723e-10    -6.83e-10    -0.194424  2.62445e-13 -2.29414e-13          nan          nan          nan          nan          nan          nan          nan          nan          nan          nan          nan          nan\r\n",
      "  -0.0752473  2.69397e-07  1.00033e-10  4.31976e-10  -2.4709e-07    0.0690166 -1.12032e-13  1.13877e-13   -3.047e-14   -0.0309549  1.29758e-06 -2.43419e-14   2.1104e-06  -0.00900335   1.3035e-07   -0.0364089  6.77584e-12 -1.84552e-12  2.28557e-14  2.39308e-14  2.62426e-13    -0.194424  2.17981e-09          nan          nan          nan          nan          nan          nan          nan          nan          nan          nan          nan          nan\r\n",
      " 1.48422e-10  4.99545e-14    0.0143923    0.0143923 -7.77806e-15 -1.80845e-10    1.704e-06   -1.704e-06  8.34505e-07 -5.57356e-11 -2.15652e-14  3.91495e-07 -1.66154e-15 -9.30655e-12 -8.99254e-15  2.06937e-10   0.00614164  -0.00614164  2.20049e-06  2.20049e-06  -4.9151e-13  2.06495e-09     0.956475          nan          nan          nan          nan          nan          nan          nan          nan          nan          nan          nan          nan\r\n",
      "        -nan         -nan         -nan         -nan         -nan         -nan         -nan         -nan         -nan         -nan         -nan         -nan         -nan         -nan         -nan         -nan         -nan         -nan         -nan         -nan         -nan         -nan         -nan          nan          nan          nan          nan          nan          nan          nan          nan          nan          nan          nan          nan\r\n",
      "        -nan         -nan         -nan         -nan         -nan         -nan         -nan         -nan         -nan         -nan         -nan         -nan         -nan         -nan         -nan         -nan         -nan         -nan         -nan         -nan         -nan         -nan         -nan         -nan         -nan         -nan         -nan         -nan         -nan         -nan         -nan         -nan         -nan         -nan         -nan\r\n",
      "        -nan         -nan         -nan         -nan         -nan         -nan         -nan         -nan         -nan         -nan         -nan         -nan         -nan         -nan         -nan         -nan         -nan         -nan         -nan         -nan         -nan         -nan         -nan         -nan         -nan         -nan         -nan         -nan         -nan         -nan         -nan         -nan         -nan         -nan         -nan\r\n",
      "        -nan         -nan         -nan         -nan         -nan         -nan         -nan         -nan         -nan         -nan         -nan         -nan         -nan         -nan         -nan         -nan         -nan         -nan         -nan         -nan         -nan         -nan         -nan          nan          nan          nan          nan          nan          nan          nan          nan          nan          nan          nan          nan\r\n",
      "        -nan         -nan         -nan         -nan         -nan         -nan         -nan         -nan         -nan         -nan         -nan         -nan         -nan         -nan         -nan         -nan         -nan         -nan         -nan         -nan         -nan         -nan         -nan          nan          nan          nan          nan          nan          nan          nan          nan          nan          nan          nan          nan\r\n",
      "        -nan         -nan         -nan         -nan         -nan         -nan         -nan         -nan         -nan         -nan         -nan         -nan         -nan         -nan         -nan         -nan         -nan         -nan         -nan         -nan         -nan         -nan         -nan         -nan         -nan         -nan         -nan         -nan         -nan         -nan         -nan         -nan         -nan         -nan         -nan\r\n",
      "        -nan         -nan         -nan         -nan         -nan         -nan         -nan         -nan         -nan         -nan         -nan         -nan         -nan         -nan         -nan         -nan         -nan         -nan         -nan         -nan         -nan         -nan         -nan         -nan         -nan         -nan         -nan         -nan         -nan         -nan         -nan         -nan         -nan         -nan         -nan\r\n",
      "        -nan         -nan         -nan         -nan         -nan         -nan         -nan         -nan         -nan         -nan         -nan         -nan         -nan         -nan         -nan         -nan         -nan         -nan         -nan         -nan         -nan         -nan         -nan          nan          nan          nan          nan          nan          nan          nan          nan          nan          nan          nan          nan\r\n",
      "        -nan         -nan         -nan         -nan         -nan         -nan         -nan         -nan         -nan         -nan         -nan         -nan         -nan         -nan         -nan         -nan         -nan         -nan         -nan         -nan         -nan         -nan         -nan          nan          nan          nan          nan          nan          nan          nan          nan          nan          nan          nan          nan\r\n",
      "        -nan         -nan         -nan         -nan         -nan         -nan         -nan         -nan         -nan         -nan         -nan         -nan         -nan         -nan         -nan         -nan         -nan         -nan         -nan         -nan         -nan         -nan         -nan         -nan          nan          nan          nan         -nan          nan          nan          nan         -nan          nan          nan          nan\r\n",
      "        -nan         -nan         -nan         -nan         -nan         -nan         -nan         -nan         -nan         -nan         -nan         -nan         -nan         -nan         -nan         -nan         -nan         -nan         -nan         -nan         -nan         -nan         -nan         -nan          nan          nan          nan         -nan          nan          nan          nan         -nan          nan          nan          nan\r\n",
      "        -nan         -nan         -nan         -nan         -nan         -nan         -nan         -nan         -nan         -nan         -nan         -nan         -nan         -nan         -nan         -nan         -nan         -nan         -nan         -nan         -nan         -nan         -nan         -nan         -nan         -nan         -nan         -nan         -nan         -nan         -nan         -nan         -nan         -nan         -nan\r\n",
      "B\r\n",
      "   0.0938111  8.20965e-15 -5.96106e-11 -2.29194e-10 -8.64918e-15   -0.0328899  3.39988e-14 -3.53839e-14  1.20017e-14    0.0155572 -7.07832e-07  7.94376e-15  1.15014e-05   -0.0483286  1.43863e-14    0.0481429  2.07155e-11 -2.55784e-11 -5.12752e-15 -6.31467e-15 -8.98908e-08    0.0251081  4.55413e-11         -nan         -nan         -nan         -nan         -nan         -nan         -nan         -nan         -nan         -nan         -nan         -nan\r\n",
      " 8.23174e-15    0.0938111  3.90684e-14  4.04608e-14   -0.0328899 -8.65438e-15  6.71683e-10 -8.41266e-10  3.15845e-10 -7.07832e-07   -0.0155572  2.11228e-10    0.0483286  1.15014e-05    0.0481429  1.43197e-14  5.17471e-14 -5.05431e-14 -2.67822e-10 -2.72685e-10   -0.0251081 -8.98908e-08  7.74719e-14         -nan         -nan         -nan         -nan         -nan         -nan         -nan         -nan         -nan         -nan         -nan         -nan\r\n",
      "-5.96106e-11  3.90684e-14     0.105488  -0.00569419  3.65161e-14 -2.56376e-11  5.31271e-06 -5.31271e-06  2.87101e-06 -4.24166e-11 -2.51106e-14  1.30417e-06  -1.7476e-14 -2.54925e-11 -2.86696e-14  2.14245e-11    0.0671006  -0.00241346 -9.45924e-07  1.44485e-05 -6.32405e-14  8.77587e-11    0.0419528         -nan         -nan         -nan         -nan         -nan         -nan         -nan         -nan         -nan         -nan         -nan         -nan\r\n",
      "-2.29194e-10  4.04608e-14  -0.00569419     0.105488   3.4319e-14  2.69422e-10  5.31271e-06 -5.31271e-06  2.87101e-06 -1.07892e-10 -2.23384e-14  1.30417e-06 -1.59095e-14 -3.24391e-11 -2.50625e-14 -3.60071e-10   0.00241346   -0.0671006  1.44485e-05 -9.45924e-07 -6.47597e-14 -8.36187e-11    0.0419528         -nan         -nan         -nan         -nan         -nan         -nan         -nan         -nan         -nan         -nan         -nan         -nan\r\n",
      " -8.6442e-15   -0.0328899   3.6516e-14   3.4319e-14     0.240892  2.96779e-16  1.02705e-09 -7.31986e-10  6.25184e-10  6.58276e-07     0.014468  1.61035e-10   0.00914341  2.17597e-06    0.0441772 -5.60456e-14  3.13608e-14 -2.83025e-14 -1.44122e-10 -1.57394e-10  -0.00438148 -1.56864e-08  4.86513e-14         -nan         -nan         -nan         -nan         -nan         -nan         -nan         -nan         -nan         -nan         -nan         -nan\r\n",
      "  -0.0328899 -8.65284e-15 -2.56376e-11  2.69422e-10  2.63988e-16     0.240892  2.82929e-14 -2.60416e-14  2.31664e-14    -0.014468  6.58276e-07  6.20235e-15  2.17597e-06  -0.00914341 -5.60636e-14    0.0441772 -2.65242e-11  1.32525e-11  -7.6214e-15 -1.07767e-14 -1.56864e-08   0.00438148 -2.81784e-11         -nan         -nan         -nan         -nan         -nan         -nan         -nan         -nan         -nan         -nan         -nan         -nan\r\n",
      " 3.39988e-14  6.71683e-10  5.31271e-06  5.31271e-06  1.02705e-09   2.8293e-14     0.222254    -0.111072     0.063101  4.05996e-16 -5.06342e-10    0.0286639 -4.90945e-10 -9.58189e-14 -9.15076e-10 -2.10226e-14  5.85725e-06  9.53714e-06    0.0336868   -0.0310004 -1.14843e-09   5.5219e-14  7.06115e-06         -nan         -nan         -nan         -nan         -nan         -nan         -nan         -nan         -nan         -nan         -nan         -nan\r\n",
      "-3.53839e-14 -8.41266e-10 -5.31271e-06 -5.31271e-06 -7.31986e-10 -2.60416e-14    -0.111072     0.222254    -0.063101  2.38806e-15  5.71818e-10   -0.0286639  4.97892e-10  9.73792e-14   5.3358e-10  1.75362e-14  9.53714e-06  5.85725e-06    0.0310004   -0.0336868  1.31822e-09 -5.52591e-14 -7.06115e-06         -nan         -nan         -nan         -nan         -nan         -nan         -nan         -nan         -nan         -nan         -nan         -nan\r\n",
      " 1.20018e-14  3.15845e-10  2.87101e-06  2.87101e-06  6.25184e-10  2.31663e-14     0.063101    -0.063101     0.429278 -3.76076e-15 -4.59351e-10   -0.0121538 -1.80065e-11 -3.31229e-15 -6.21028e-10 -2.33042e-14 -3.71907e-09  3.71908e-09  1.93215e-05  1.93215e-05 -4.69789e-10   2.0447e-14  3.83982e-06         -nan         -nan         -nan         -nan         -nan         -nan         -nan         -nan         -nan         -nan         -nan         -nan\r\n",
      "   0.0155572 -7.07832e-07 -4.24166e-11 -1.07892e-10  6.58276e-07    -0.014468  4.05929e-16  2.38825e-15 -3.76082e-15     0.463968 -1.05535e-15 -2.89182e-17  1.24498e-07 -0.000646798 -4.72069e-07    0.0103755 -2.55669e-11  3.56073e-11 -6.39375e-15 -4.86728e-15  7.43418e-07    0.0177349 -1.16111e-10         -nan         -nan         -nan         -nan         -nan         -nan         -nan         -nan         -nan         -nan         -nan         -nan\r\n",
      "-7.07832e-07   -0.0155572 -2.51107e-14 -2.23383e-14     0.014468  6.58276e-07 -5.06342e-10  5.71818e-10 -4.59351e-10 -1.18637e-15     0.463968   7.1136e-12 -0.000646798 -1.24498e-07   -0.0103755 -4.72069e-07 -1.48806e-14  1.63736e-14   8.8725e-11  7.86846e-11    0.0177349 -7.43418e-07 -3.43145e-14         -nan         -nan         -nan         -nan         -nan         -nan         -nan         -nan         -nan         -nan         -nan         -nan\r\n",
      " 7.94375e-15  2.11228e-10  1.30417e-06  1.30417e-06  1.61035e-10  6.20252e-15    0.0286639   -0.0286639   -0.0121538 -2.89086e-17   7.1136e-12     0.636067 -3.15701e-10 -6.32738e-14  1.30433e-10  4.66459e-15  4.02841e-06 -4.02841e-06   -0.0209286   -0.0209286 -1.01201e-10  5.48536e-15  1.72119e-06         -nan         -nan         -nan         -nan         -nan         -nan         -nan         -nan         -nan         -nan         -nan         -nan\r\n",
      " 1.15014e-05    0.0483286  -1.7476e-14 -1.59095e-14   0.00914341  2.17597e-06 -4.90945e-10  4.97892e-10 -1.80065e-11  1.24498e-07 -0.000646798 -3.15701e-10     0.917068  -5.0861e-14   -0.0222914 -5.30496e-06 -9.79618e-14  9.61973e-14  3.67689e-10  5.91602e-10    0.0232461 -5.44894e-06  1.32977e-14         -nan         -nan         -nan         -nan         -nan         -nan         -nan         -nan         -nan         -nan         -nan         -nan\r\n",
      "  -0.0483286  1.15014e-05 -2.54925e-11 -3.24391e-11  2.17597e-06  -0.00914341 -9.58189e-14  9.73792e-14 -3.31227e-15 -0.000646798 -1.24498e-07 -6.32738e-14 -5.08203e-14     0.917068 -5.30496e-06    0.0222914 -8.87399e-11 -1.35173e-10  1.01389e-13  9.96032e-14  5.44894e-06    0.0232461 -9.96409e-11         -nan         -nan         -nan         -nan         -nan         -nan         -nan         -nan         -nan         -nan         -nan         -nan\r\n",
      " 1.43923e-14    0.0481429 -2.86698e-14 -2.50625e-14    0.0441772  -5.6077e-14 -9.15076e-10   5.3358e-10 -6.21028e-10 -4.72069e-07   -0.0103755  1.30433e-10   -0.0222914 -5.30496e-06     0.981536 -4.45539e-14  2.86414e-14  5.13282e-14  2.17066e-10  -1.0907e-10   0.00424845  1.52101e-08 -6.44493e-14         -nan         -nan         -nan         -nan         -nan         -nan         -nan         -nan         -nan         -nan         -nan         -nan\r\n",
      "   0.0481429  1.43286e-14  2.14245e-11 -3.60071e-10 -5.60681e-14    0.0441772 -2.10226e-14  1.75361e-14 -2.33042e-14    0.0103755 -4.72069e-07  4.66459e-15 -5.30496e-06    0.0222914 -4.46479e-14     0.981536 -1.31565e-10 -1.94571e-10  4.83615e-14 -3.17542e-14  1.52101e-08  -0.00424845  4.25988e-10         -nan         -nan         -nan         -nan         -nan         -nan         -nan         -nan         -nan         -nan         -nan         -nan\r\n",
      " 2.07155e-11  5.17471e-14    0.0671006   0.00241346  3.13608e-14 -2.65242e-11  5.85725e-06  9.53714e-06 -3.71907e-09 -2.55669e-11 -1.48806e-14  4.02841e-06 -9.79618e-14 -8.87399e-11  2.86415e-14 -1.31565e-10      1.06067  -0.00440426 -1.56447e-05 -1.56447e-05 -1.32954e-13  2.30492e-11    0.0159921         -nan         -nan         -nan         -nan         -nan         -nan         -nan         -nan         -nan         -nan         -nan         -nan\r\n",
      "-2.55784e-11 -5.05431e-14  -0.00241346   -0.0671006 -2.83025e-14  1.32525e-11  9.53714e-06  5.85725e-06  3.71908e-09  3.56073e-11  1.63736e-14 -4.02841e-06  9.61972e-14 -1.35173e-10  5.13282e-14 -1.94571e-10  -0.00440426      1.06067  1.56447e-05  1.56447e-05  9.87551e-14 -1.65222e-10   -0.0159921         -nan         -nan         -nan         -nan         -nan         -nan         -nan         -nan         -nan         -nan         -nan         -nan\r\n",
      "-5.12753e-15 -2.67822e-10 -9.45924e-07  1.44485e-05 -1.44122e-10 -7.62139e-15    0.0336868    0.0310004  1.93215e-05 -6.39378e-15   8.8725e-11   -0.0209286  3.67689e-10  1.01389e-13  2.17066e-10  4.83615e-14 -1.56447e-05  1.56447e-05      1.14195    0.0856822  5.30815e-10  1.84291e-14   4.8037e-06         -nan         -nan         -nan         -nan         -nan         -nan         -nan         -nan         -nan         -nan         -nan         -nan\r\n",
      "-6.31467e-15 -2.72685e-10  1.44485e-05 -9.45924e-07 -1.57394e-10 -1.07767e-14   -0.0310004   -0.0336868  1.93215e-05 -4.86728e-15  7.86846e-11   -0.0209286  5.91602e-10  9.96031e-14  -1.0907e-10 -3.17542e-14 -1.56447e-05  1.56447e-05    0.0856822      1.14195  6.72702e-10 -1.61705e-14   4.8037e-06         -nan         -nan         -nan         -nan         -nan         -nan         -nan         -nan         -nan         -nan         -nan         -nan\r\n",
      "-2.05348e-07   -0.0573573 -1.93217e-13 -1.94726e-13  -0.00347867 -1.24542e-08 -3.93644e-09   4.1906e-09 -6.01555e-10  4.27799e-07    0.0102055 -1.05874e-10    0.0186411  4.36951e-06    0.0191594  6.85935e-08 -3.25009e-14 -1.54669e-14 -5.74491e-11  1.42009e-10     0.600541  1.14698e-13 -5.09998e-13         -nan         -nan         -nan         -nan         -nan         -nan         -nan         -nan         -nan         -nan         -nan         -nan\r\n",
      "   0.0573573 -2.05348e-07  7.82685e-11 -1.76587e-10 -1.24542e-08   0.00347867  1.47995e-13  -1.4889e-13  2.51502e-14    0.0102055 -4.27799e-07  5.93675e-15 -4.36951e-06    0.0186411  6.85935e-08   -0.0191594 -2.27832e-11 -1.75435e-10  3.94074e-14 -8.84743e-15  1.14757e-13     0.600541  2.49342e-09         -nan         -nan         -nan         -nan         -nan         -nan         -nan         -nan         -nan         -nan         -nan         -nan\r\n",
      "-6.41717e-11  6.61283e-14    0.0424309    0.0424309  4.02169e-14  5.54521e-11  6.26892e-06 -6.26892e-06  3.24137e-06  -8.2791e-11 -3.09355e-14  1.43498e-06  1.99788e-14 -1.11057e-10 -5.40496e-14  4.90501e-10    0.0169414   -0.0169414  5.30548e-06  5.30548e-06 -7.42511e-13  2.27211e-09      1.98197         -nan         -nan         -nan         -nan         -nan         -nan         -nan         -nan         -nan         -nan         -nan         -nan\r\n",
      "        -nan         -nan         -nan         -nan         -nan         -nan         -nan         -nan         -nan         -nan         -nan         -nan         -nan         -nan         -nan         -nan         -nan         -nan         -nan         -nan         -nan         -nan         -nan         -nan         -nan         -nan         -nan         -nan         -nan         -nan         -nan         -nan         -nan         -nan         -nan\r\n",
      "        -nan         -nan         -nan         -nan         -nan         -nan         -nan         -nan         -nan         -nan         -nan         -nan         -nan         -nan         -nan         -nan         -nan         -nan         -nan         -nan         -nan         -nan         -nan         -nan         -nan         -nan         -nan         -nan         -nan         -nan         -nan         -nan         -nan         -nan         -nan\r\n",
      "        -nan         -nan         -nan         -nan         -nan         -nan         -nan         -nan         -nan         -nan         -nan         -nan         -nan         -nan         -nan         -nan         -nan         -nan         -nan         -nan         -nan         -nan         -nan         -nan         -nan         -nan         -nan         -nan         -nan         -nan         -nan         -nan         -nan         -nan         -nan\r\n",
      "        -nan         -nan         -nan         -nan         -nan         -nan         -nan         -nan         -nan         -nan         -nan         -nan         -nan         -nan         -nan         -nan         -nan         -nan         -nan         -nan         -nan         -nan         -nan         -nan         -nan         -nan         -nan         -nan         -nan         -nan         -nan         -nan         -nan         -nan         -nan\r\n",
      "        -nan         -nan         -nan         -nan         -nan         -nan         -nan         -nan         -nan         -nan         -nan         -nan         -nan         -nan         -nan         -nan         -nan         -nan         -nan         -nan         -nan         -nan         -nan         -nan         -nan         -nan         -nan         -nan         -nan         -nan         -nan         -nan         -nan         -nan         -nan\r\n",
      "        -nan         -nan         -nan         -nan         -nan         -nan         -nan         -nan         -nan         -nan         -nan         -nan         -nan         -nan         -nan         -nan         -nan         -nan         -nan         -nan         -nan         -nan         -nan         -nan         -nan         -nan         -nan         -nan         -nan         -nan         -nan         -nan         -nan         -nan         -nan\r\n",
      "        -nan         -nan         -nan         -nan         -nan         -nan         -nan         -nan         -nan         -nan         -nan         -nan         -nan         -nan         -nan         -nan         -nan         -nan         -nan         -nan         -nan         -nan         -nan         -nan         -nan         -nan         -nan         -nan         -nan         -nan         -nan         -nan         -nan         -nan         -nan\r\n",
      "        -nan         -nan         -nan         -nan         -nan         -nan         -nan         -nan         -nan         -nan         -nan         -nan         -nan         -nan         -nan         -nan         -nan         -nan         -nan         -nan         -nan         -nan         -nan         -nan         -nan         -nan         -nan         -nan         -nan         -nan         -nan         -nan         -nan         -nan         -nan\r\n",
      "        -nan         -nan         -nan         -nan         -nan         -nan         -nan         -nan         -nan         -nan         -nan         -nan         -nan         -nan         -nan         -nan         -nan         -nan         -nan         -nan         -nan         -nan         -nan         -nan         -nan         -nan         -nan         -nan         -nan         -nan         -nan         -nan         -nan         -nan         -nan\r\n",
      "        -nan         -nan         -nan         -nan         -nan         -nan         -nan         -nan         -nan         -nan         -nan         -nan         -nan         -nan         -nan         -nan         -nan         -nan         -nan         -nan         -nan         -nan         -nan         -nan         -nan         -nan         -nan         -nan         -nan         -nan         -nan         -nan         -nan         -nan         -nan\r\n",
      "        -nan         -nan         -nan         -nan         -nan         -nan         -nan         -nan         -nan         -nan         -nan         -nan         -nan         -nan         -nan         -nan         -nan         -nan         -nan         -nan         -nan         -nan         -nan         -nan         -nan         -nan         -nan         -nan         -nan         -nan         -nan         -nan         -nan         -nan         -nan\r\n",
      "        -nan         -nan         -nan         -nan         -nan         -nan         -nan         -nan         -nan         -nan         -nan         -nan         -nan         -nan         -nan         -nan         -nan         -nan         -nan         -nan         -nan         -nan         -nan          nan          nan          nan          nan          nan          nan          nan          nan          nan          nan          nan          nan\r\n",
      "an error occurred:\r\n",
      "Small generalized eigenvalue problem failed.\r\n"
     ]
    }
   ],
   "source": [
    "!xtp_tools -c job_name=CO geometry_optimization.maxiter=1 dftpackage.basisset=3-21G dftpackage.auxbasisset=aux-def2-svp gwbse.gw.mode=G0W0 -e dftgwbse -t 4"
   ]
  },
  {
   "cell_type": "markdown",
   "metadata": {},
   "source": [
    "Notice that we are using 4 threads. The results will be stored in a file named `CO_summary.xml` in the current work directory, together with the optimization step in `optimisation.trj` and the orbitals in [hdf5 format](https://www.hdfgroup.org/solutions/hdf5/) saved on `CO.orb`."
   ]
  }
 ],
 "metadata": {
  "kernelspec": {
   "display_name": "Python 3",
   "language": "python",
   "name": "python3"
  },
  "language_info": {
   "codemirror_mode": {
    "name": "ipython",
    "version": 3
   },
   "file_extension": ".py",
   "mimetype": "text/x-python",
   "name": "python",
   "nbconvert_exporter": "python",
   "pygments_lexer": "ipython3",
   "version": "3.9.6"
  }
 },
 "nbformat": 4,
 "nbformat_minor": 4
}
