{
 "cells": [
  {
   "cell_type": "markdown",
   "metadata": {},
   "source": [
    "## DFT + GWBSE Optimization Using CO"
   ]
  },
  {
   "cell_type": "markdown",
   "metadata": {},
   "source": [
    "## Introduction\n",
    "This tutorial explains how to perform a molecular geometric optimization using the **GWBSE** method. See [the GW Compendium: A Practical Guide to Theoretical Photoemission Spectroscopy](https://doi.org/10.3389/fchem.2019.00377), for an excellent introduction to the method."
   ]
  },
  {
   "cell_type": "markdown",
   "metadata": {},
   "source": [
    "## Requirements\n",
    "* You will need to install **VOTCA** using the instructions described [here](https://github.com/votca/votca/blob/master/share/doc/INSTALL.rst)\n",
    "* Once the installation is completed you need to activate the VOTCA enviroment by running the `VOTCARC.bash` script that has been installed at the bin subfolder for the path that you have provided for the installation step above"
   ]
  },
  {
   "cell_type": "markdown",
   "metadata": {},
   "source": [
    "## Preparing the input\n",
    "To run a DFT-GWBSE calculation we will use the [xtp_tools](https://www.votca.org/xtp/xtp_tools_overview.html) calculator."
   ]
  },
  {
   "cell_type": "markdown",
   "metadata": {},
   "source": [
    "we can now change the calculator mode from single point energy calculation to optimization as follows by adding \n",
    "`-c geometry_optimization.maxiter=1` which enables optimization with one iteration. "
   ]
  },
  {
   "cell_type": "markdown",
   "metadata": {},
   "source": [
    "Because geometry optimsation is quite expensive numerically we chose a smaller basisset and G0W0 Finally, to run the calculation we just need the following command (This still takes a while)"
   ]
  },
  {
   "cell_type": "code",
   "execution_count": 1,
   "metadata": {
    "execution": {
     "iopub.execute_input": "2021-09-29T15:01:29.036515Z",
     "iopub.status.busy": "2021-09-29T15:01:29.035961Z",
     "iopub.status.idle": "2021-09-29T15:01:32.407262Z",
     "shell.execute_reply": "2021-09-29T15:01:32.407691Z"
    }
   },
   "outputs": [
    {
     "name": "stdout",
     "output_type": "stream",
     "text": [
      "==================================================\r\n",
      "========   VOTCA (http://www.votca.org)   ========\r\n",
      "==================================================\r\n",
      "\r\n",
      "please submit bugs to https://github.com/votca/xtp/issues\r\n",
      "\r\n",
      "xtp_tools, version 2022-dev gitid: 2999e40 (compiled Sep 29 2021, 14:53:18)\r\n",
      "votca_csg, version 2022-dev gitid: 2999e40 (compiled Sep 29 2021, 14:40:12)\r\n",
      "votca_tools, version 2022-dev gitid: 2999e40 (compiled Sep 29 2021, 14:37:44)\r\n",
      "\r\n",
      "Initializing tool\r\n",
      "... dftgwbse Evaluating tool\r\n",
      "... dftgwbse  Using 4 threads\r\n",
      "... ... Reading structure from CO.xyz\r\n",
      "... ... Requested geometry optimization of excited state s1\r\n",
      "... ... Initial state: s1\r\n",
      "... ... WARNING: No tracker is used \r\n",
      "... ... Convergence of total energy: 0.000001 Hartree \r\n",
      "... ... Convergence of RMS Force:    0.000030 Hartree/Bohr \r\n",
      "... ... Convergence of Max Force:    0.000100 Hartree/Bohr \r\n",
      "... ... Convergence of RMS Step:     0.000600 Bohr \r\n",
      "... ... Convergence of Max Step:     0.001000 Bohr \r\n",
      "... ... Initial trust radius:        0.018897 BohrA\r\n",
      "    0.307132  1.87657e-14 -1.19379e-10 -3.82617e-10 -1.42587e-14   -0.0516061  7.86781e-14 -8.04351e-14 -1.96881e-14   -0.0181946   8.1201e-07 -1.16436e-14 -9.05219e-06    0.0389755  1.23133e-14    0.0421019 -1.99711e-11  2.79982e-11   6.7541e-15  8.65232e-15  3.27401e-07    -0.108409  1.56048e-10          nan          nan          nan          nan          nan          nan          nan          nan          nan          nan          nan          nan\r\n",
      " 1.87347e-14     0.307132  8.95519e-14  9.13403e-14   -0.0516061  -1.4239e-14  1.68357e-09 -1.94681e-09 -5.10789e-10   8.1201e-07    0.0181946 -3.05782e-10   -0.0389755 -9.05219e-06    0.0421019  1.22761e-14 -6.03468e-14  5.84317e-14  3.17408e-10  3.25435e-10     0.108409  3.27401e-07 -3.24819e-14          nan          nan          nan          nan          nan          nan          nan          nan          nan          nan          nan          nan\r\n",
      "-1.19379e-10  8.95519e-14      0.31985   -0.0100452   5.9439e-14  -4.1064e-11  1.02866e-05 -1.02866e-05  -3.8296e-06  4.42952e-11  3.26743e-14 -1.63153e-06  1.95644e-14  2.49088e-11   -2.389e-14  1.61215e-11   -0.0495318   0.00205135  1.17777e-06 -9.84975e-06  3.12015e-13  1.56093e-11   -0.0253475          nan          nan          nan          nan          nan          nan          nan          nan          nan          nan          nan          nan\r\n",
      "-3.82617e-10  9.13403e-14   -0.0100452      0.31985   5.6689e-14  3.74774e-10  1.02866e-05 -1.02866e-05  -3.8296e-06  1.08717e-10  2.98425e-14 -1.63153e-06  1.79754e-14  3.19285e-11 -2.15069e-14 -2.93777e-10  -0.00205135    0.0495318 -9.84975e-06  1.17777e-06  3.14099e-13  5.17941e-10   -0.0253475          nan          nan          nan          nan          nan          nan          nan          nan          nan          nan          nan          nan\r\n",
      "-1.42566e-14   -0.0516061  5.94389e-14   5.6689e-14     0.490902  1.63488e-15  1.65015e-09 -1.23431e-09 -7.26246e-10 -6.00848e-07   -0.0134631 -1.92566e-10  -0.00799385  -1.8566e-06    0.0309987 -4.03696e-14 -3.37519e-14  3.47555e-14  1.80579e-10  1.76916e-10   -0.0531272 -1.60447e-07  -5.1495e-14          nan          nan          nan          nan          nan          nan          nan          nan          nan          nan          nan          nan\r\n",
      "  -0.0516061 -1.42504e-14  -4.1064e-11  3.74774e-10  1.67089e-15     0.490902  4.74296e-14 -4.46039e-14 -2.69284e-14    0.0134631 -6.00848e-07 -7.40471e-15  -1.8566e-06   0.00799385 -4.02948e-14    0.0309987  1.57853e-11 -1.94484e-11  1.02667e-14  9.30309e-15 -1.60447e-07    0.0531272  -1.0036e-10          nan          nan          nan          nan          nan          nan          nan          nan          nan          nan          nan          nan\r\n",
      " 7.86781e-14  1.68357e-09  1.02866e-05  1.02866e-05  1.65015e-09  4.74296e-14     0.550341    -0.220446   -0.0858093  -1.1016e-16  6.85581e-10   -0.0365574  5.40671e-10  1.02687e-13 -7.78859e-10 -1.83326e-14 -6.47797e-06 -4.54955e-06   -0.0124663    0.0350142  6.46285e-09 -2.41538e-13 -5.62782e-06          nan          nan          nan          nan          nan          nan          nan          nan          nan          nan          nan          nan\r\n",
      " -8.0435e-14 -1.94681e-09 -1.02866e-05 -1.02866e-05 -1.23431e-09 -4.46039e-14    -0.220446     0.550341    0.0858093 -2.74423e-15 -7.50003e-10    0.0365574  -5.4769e-10 -1.04266e-13   4.6896e-10  1.60082e-14 -4.54955e-06 -6.47797e-06   -0.0350142    0.0124663 -6.95495e-09  2.43377e-13  5.62782e-06          nan          nan          nan          nan          nan          nan          nan          nan          nan          nan          nan          nan\r\n",
      "-1.96884e-14 -5.10789e-10  -3.8296e-06  -3.8296e-06 -7.26246e-10 -2.69284e-14   -0.0858093    0.0858093     0.662947  -2.6699e-15 -4.06803e-10  -0.00632528 -6.07629e-11 -1.15239e-14  4.48452e-10  1.68688e-14  7.68171e-07 -7.68171e-07  -0.00409419  -0.00409419 -1.71073e-09  5.87167e-14  2.54218e-06          nan          nan          nan          nan          nan          nan          nan          nan          nan          nan          nan          nan\r\n",
      "  -0.0181946   8.1201e-07  4.42952e-11  1.08717e-10 -6.00848e-07    0.0134631 -1.10145e-16 -2.74462e-15 -2.66981e-15     0.680922 -8.45793e-16 -1.04103e-16  1.57963e-08 -8.41908e-05  3.85458e-07  -0.00863691 -1.13879e-11   1.9046e-11 -3.15277e-15 -1.99098e-15  1.70712e-06    0.0410276 -1.13131e-10          nan          nan          nan          nan          nan          nan          nan          nan          nan          nan          nan          nan\r\n",
      "  8.1201e-07    0.0181946  3.26743e-14  2.98422e-14   -0.0134631 -6.00848e-07  6.85581e-10 -7.50003e-10 -4.06803e-10 -8.04181e-16     0.680922 -2.53169e-11 -8.41908e-05 -1.57963e-08   0.00863691  3.85458e-07 -1.56009e-14  1.67645e-14  9.14723e-11  8.38142e-11    0.0410276 -1.70712e-06 -9.98298e-15          nan          nan          nan          nan          nan          nan          nan          nan          nan          nan          nan          nan\r\n",
      "-1.16436e-14 -3.05782e-10 -1.63153e-06 -1.63153e-06 -1.92566e-10 -7.40506e-15   -0.0365574    0.0365574  -0.00632528 -1.04164e-16 -2.53169e-11      0.79826 -2.17058e-10 -4.22117e-14  -6.3121e-11 -2.23194e-15  2.71581e-06 -2.71581e-06   -0.0144747   -0.0144747 -9.11097e-10  3.15052e-14  1.05509e-06          nan          nan          nan          nan          nan          nan          nan          nan          nan          nan          nan          nan\r\n",
      "-9.05219e-06   -0.0389755  1.95644e-14  1.79754e-14  -0.00799385  -1.8566e-06  5.40671e-10  -5.4769e-10 -6.07629e-11  1.57963e-08 -8.41908e-05 -2.17058e-10     0.956418 -2.81349e-14    0.0131422  3.05233e-06 -5.56631e-14  5.49584e-14  2.28669e-10  3.39595e-10    0.0200227 -4.58988e-06  4.01645e-15          nan          nan          nan          nan          nan          nan          nan          nan          nan          nan          nan          nan\r\n",
      "   0.0389755 -9.05219e-06  2.49088e-11  3.19285e-11  -1.8566e-06   0.00799385  1.02687e-13 -1.04266e-13 -1.15239e-14 -8.41908e-05 -1.57963e-08 -4.22117e-14  -2.8178e-14     0.956418  3.05233e-06   -0.0131422 -4.53865e-11 -6.55395e-11  5.73624e-14    5.665e-14  4.58988e-06    0.0200227 -4.47406e-11          nan          nan          nan          nan          nan          nan          nan          nan          nan          nan          nan          nan\r\n",
      " 1.23117e-14    0.0421019   -2.389e-14 -2.15068e-14    0.0309987 -4.02945e-14 -7.78859e-10   4.6896e-10  4.48452e-10  3.85458e-07   0.00863691  -6.3121e-11    0.0131422  3.05233e-06     0.988567 -2.31815e-14 -1.16321e-14 -3.05148e-14 -1.35024e-10  4.18819e-11     0.022363  6.75377e-08  3.46346e-14          nan          nan          nan          nan          nan          nan          nan          nan          nan          nan          nan          nan\r\n",
      "   0.0421019  1.22874e-14  1.61215e-11 -2.93777e-10 -4.03662e-14    0.0309987 -1.83326e-14  1.60082e-14  1.68688e-14  -0.00863691  3.85458e-07 -2.23194e-15  3.05233e-06   -0.0131422 -2.31728e-14     0.988567  6.76758e-11   1.0923e-10 -2.68573e-14  1.53549e-14  6.75377e-08    -0.022363 -1.36987e-10          nan          nan          nan          nan          nan          nan          nan          nan          nan          nan          nan          nan\r\n",
      "-1.99711e-11 -6.03468e-14   -0.0495318  -0.00205135 -3.37519e-14  1.57853e-11 -6.47797e-06 -4.54955e-06  7.68171e-07 -1.13879e-11 -1.56009e-14  2.71581e-06  -5.5663e-14 -4.53865e-11 -1.16321e-14  6.76758e-11      1.02871    -0.002068 -8.16083e-06 -8.16083e-06 -2.25118e-13 -1.59673e-12   0.00469825          nan          nan          nan          nan          nan          nan          nan          nan          nan          nan          nan          nan\r\n",
      " 2.79982e-11  5.84317e-14   0.00205135    0.0495318  3.47555e-14 -1.94484e-11 -4.54955e-06 -6.47797e-06 -7.68171e-07   1.9046e-11  1.67645e-14 -2.71581e-06  5.49584e-14 -6.55395e-11 -3.05148e-14   1.0923e-10    -0.002068      1.02871  8.16083e-06  8.16083e-06  2.03444e-13  -9.2552e-11  -0.00469825          nan          nan          nan          nan          nan          nan          nan          nan          nan          nan          nan          nan\r\n",
      " 6.75411e-15  3.17408e-10  1.17777e-06 -9.84975e-06  1.80579e-10  1.02667e-14   -0.0124663   -0.0350142  -0.00409419 -3.15277e-15  9.14723e-11   -0.0144747  2.28669e-10  5.73624e-14 -1.35024e-10 -2.68573e-14 -8.16083e-06  8.16083e-06       1.0722    0.0455636  1.10042e-09 -1.85751e-14  1.05816e-06          nan          nan          nan          nan          nan          nan          nan          nan          nan          nan          nan          nan\r\n",
      " 8.65232e-15  3.25435e-10 -9.84975e-06  1.17777e-06  1.76916e-10  9.30309e-15    0.0350142    0.0124663  -0.00409419 -1.99099e-15  8.38142e-11   -0.0144747  3.39595e-10  5.66501e-14  4.18819e-11  1.53549e-14 -8.16083e-06  8.16083e-06    0.0455636       1.0722  1.19324e-09 -4.07889e-14  1.05816e-06          nan          nan          nan          nan          nan          nan          nan          nan          nan          nan          nan          nan\r\n",
      "-2.27251e-07   -0.0752473 -1.62732e-13 -1.63635e-13    0.0690166  2.08434e-07  -3.3474e-09  3.67017e-09  1.09582e-09 -1.28801e-06   -0.0309549  7.94527e-10  -0.00900335 -2.06387e-06   -0.0364089 -1.09957e-07  1.27098e-13 -1.26375e-13 -6.79723e-10    -6.83e-10    -0.194424  2.59359e-13 -2.16399e-13          nan          nan          nan          nan          nan          nan          nan          nan          nan          nan          nan          nan\r\n",
      "   0.0752473 -2.27251e-07 -1.00033e-10 -4.31976e-10  2.08434e-07   -0.0690166  1.17313e-13 -1.18903e-13 -3.26037e-14   -0.0309549  1.28801e-06 -2.53535e-14  2.06387e-06  -0.00900335 -1.09957e-07    0.0364089  6.77583e-12 -1.84551e-12  2.36528e-14  2.46951e-14   2.5937e-13    -0.194424  2.17981e-09          nan          nan          nan          nan          nan          nan          nan          nan          nan          nan          nan          nan\r\n",
      "-1.48422e-10 -4.79204e-14   -0.0143923   -0.0143923  7.58385e-15  1.80844e-10 -1.60875e-06  1.60875e-06  7.95604e-07 -5.57357e-11 -2.08716e-14  3.74229e-07 -1.58109e-15 -9.30651e-12  8.94179e-15 -2.06937e-10   0.00614164  -0.00614164   2.1432e-06   2.1432e-06 -4.69865e-13  2.06495e-09     0.956475          nan          nan          nan          nan          nan          nan          nan          nan          nan          nan          nan          nan\r\n",
      "        -nan         -nan         -nan         -nan         -nan         -nan         -nan         -nan         -nan         -nan         -nan         -nan         -nan         -nan         -nan         -nan         -nan         -nan         -nan         -nan         -nan         -nan         -nan          nan          nan          nan          nan          nan          nan          nan          nan          nan          nan          nan          nan\r\n",
      "        -nan         -nan         -nan         -nan         -nan         -nan         -nan         -nan         -nan         -nan         -nan         -nan         -nan         -nan         -nan         -nan         -nan         -nan         -nan         -nan         -nan         -nan         -nan         -nan         -nan         -nan         -nan         -nan         -nan         -nan         -nan         -nan         -nan         -nan         -nan\r\n",
      "        -nan         -nan         -nan         -nan         -nan         -nan         -nan         -nan         -nan         -nan         -nan         -nan         -nan         -nan         -nan         -nan         -nan         -nan         -nan         -nan         -nan         -nan         -nan         -nan         -nan         -nan         -nan         -nan         -nan         -nan         -nan         -nan         -nan         -nan         -nan\r\n",
      "        -nan         -nan         -nan         -nan         -nan         -nan         -nan         -nan         -nan         -nan         -nan         -nan         -nan         -nan         -nan         -nan         -nan         -nan         -nan         -nan         -nan         -nan         -nan          nan          nan          nan          nan          nan          nan          nan          nan          nan          nan          nan          nan\r\n",
      "        -nan         -nan         -nan         -nan         -nan         -nan         -nan         -nan         -nan         -nan         -nan         -nan         -nan         -nan         -nan         -nan         -nan         -nan         -nan         -nan         -nan         -nan         -nan          nan          nan          nan          nan          nan          nan          nan          nan          nan          nan          nan          nan\r\n",
      "        -nan         -nan         -nan         -nan         -nan         -nan         -nan         -nan         -nan         -nan         -nan         -nan         -nan         -nan         -nan         -nan         -nan         -nan         -nan         -nan         -nan         -nan         -nan         -nan         -nan         -nan         -nan         -nan         -nan         -nan         -nan         -nan         -nan         -nan         -nan\r\n",
      "        -nan         -nan         -nan         -nan         -nan         -nan         -nan         -nan         -nan         -nan         -nan         -nan         -nan         -nan         -nan         -nan         -nan         -nan         -nan         -nan         -nan         -nan         -nan         -nan         -nan         -nan         -nan         -nan         -nan         -nan         -nan         -nan         -nan         -nan         -nan\r\n",
      "        -nan         -nan         -nan         -nan         -nan         -nan         -nan         -nan         -nan         -nan         -nan         -nan         -nan         -nan         -nan         -nan         -nan         -nan         -nan         -nan         -nan         -nan         -nan          nan          nan          nan          nan          nan          nan          nan          nan          nan          nan          nan          nan\r\n",
      "        -nan         -nan         -nan         -nan         -nan         -nan         -nan         -nan         -nan         -nan         -nan         -nan         -nan         -nan         -nan         -nan         -nan         -nan         -nan         -nan         -nan         -nan         -nan          nan          nan          nan          nan          nan          nan          nan          nan          nan          nan          nan          nan\r\n",
      "        -nan         -nan         -nan         -nan         -nan         -nan         -nan         -nan         -nan         -nan         -nan         -nan         -nan         -nan         -nan         -nan         -nan         -nan         -nan         -nan         -nan         -nan         -nan         -nan          nan          nan          nan         -nan          nan          nan          nan         -nan          nan          nan          nan\r\n",
      "        -nan         -nan         -nan         -nan         -nan         -nan         -nan         -nan         -nan         -nan         -nan         -nan         -nan         -nan         -nan         -nan         -nan         -nan         -nan         -nan         -nan         -nan         -nan         -nan          nan          nan          nan         -nan          nan          nan          nan         -nan          nan          nan          nan\r\n",
      "        -nan         -nan         -nan         -nan         -nan         -nan         -nan         -nan         -nan         -nan         -nan         -nan         -nan         -nan         -nan         -nan         -nan         -nan         -nan         -nan         -nan         -nan         -nan         -nan         -nan         -nan         -nan         -nan         -nan         -nan         -nan         -nan         -nan         -nan         -nan\r\n",
      "B\r\n",
      "   0.0938111  8.36652e-15 -5.96107e-11 -2.29194e-10  -8.7599e-15   -0.0328899  3.43588e-14 -3.54951e-14 -1.22865e-14   -0.0155572  6.94306e-07 -8.06005e-15 -1.12245e-05    0.0483286   1.4289e-14    0.0481429 -2.07155e-11  2.55784e-11  5.38837e-15  6.54868e-15  7.58279e-08   -0.0251081 -4.55413e-11         -nan         -nan         -nan         -nan         -nan         -nan         -nan         -nan         -nan         -nan         -nan         -nan\r\n",
      " 8.34448e-15    0.0938111  3.86094e-14  3.97607e-14   -0.0328899 -8.73492e-15  6.71683e-10 -8.41267e-10 -3.15845e-10  6.94306e-07    0.0155572 -2.11228e-10   -0.0483286 -1.12245e-05    0.0481429  1.42421e-14 -5.03956e-14  4.92184e-14  2.67822e-10  2.72685e-10    0.0251081  7.58279e-08 -7.47789e-14         -nan         -nan         -nan         -nan         -nan         -nan         -nan         -nan         -nan         -nan         -nan         -nan\r\n",
      "-5.96107e-11  3.86095e-14     0.105488  -0.00569419  3.56105e-14 -2.56376e-11   5.2112e-06  -5.2112e-06 -2.81615e-06  4.24166e-11  2.47384e-14 -1.27925e-06  1.72321e-14  2.54925e-11 -2.75298e-14  2.14245e-11   -0.0671006   0.00241346  9.30698e-07 -1.40931e-05  6.19694e-14 -8.77588e-11   -0.0419528         -nan         -nan         -nan         -nan         -nan         -nan         -nan         -nan         -nan         -nan         -nan         -nan\r\n",
      "-2.29194e-10  3.97607e-14  -0.00569419     0.105488  3.36803e-14  2.69422e-10   5.2112e-06  -5.2112e-06 -2.81615e-06  1.07892e-10  2.18592e-14 -1.27925e-06  1.56608e-14  3.24392e-11  -2.4578e-14 -3.60071e-10  -0.00241346    0.0671006 -1.40931e-05  9.30698e-07  6.33751e-14  8.36187e-11   -0.0419528         -nan         -nan         -nan         -nan         -nan         -nan         -nan         -nan         -nan         -nan         -nan         -nan\r\n",
      "-8.75482e-15   -0.0328899  3.56105e-14  3.36803e-14     0.240892  3.47476e-16  1.02705e-09 -7.31986e-10 -6.25184e-10 -6.45697e-07    -0.014468 -1.61035e-10  -0.00914341 -2.12359e-06    0.0441772 -5.60856e-14 -3.05956e-14  2.76302e-14  1.44122e-10  1.57394e-10   0.00438148  1.32323e-08 -4.70558e-14         -nan         -nan         -nan         -nan         -nan         -nan         -nan         -nan         -nan         -nan         -nan         -nan\r\n",
      "  -0.0328899 -8.75093e-15 -2.56376e-11  2.69422e-10  3.87299e-16     0.240892  2.82147e-14 -2.62304e-14 -2.31833e-14     0.014468 -6.45697e-07   -6.328e-15 -2.12359e-06   0.00914341  -5.5984e-14    0.0441772  2.65243e-11 -1.32525e-11  7.59384e-15  1.06236e-14  1.32323e-08  -0.00438148  2.81784e-11         -nan         -nan         -nan         -nan         -nan         -nan         -nan         -nan         -nan         -nan         -nan         -nan\r\n",
      " 3.43588e-14  6.71683e-10   5.2112e-06   5.2112e-06  1.02705e-09  2.82147e-14     0.222254    -0.111072    -0.063101 -1.13649e-15  5.06343e-10   -0.0286639  4.90945e-10  9.29157e-14 -9.15076e-10 -2.09792e-14 -5.70872e-06 -9.31511e-06   -0.0336868    0.0310004  1.14843e-09 -5.63679e-14 -6.81217e-06         -nan         -nan         -nan         -nan         -nan         -nan         -nan         -nan         -nan         -nan         -nan         -nan\r\n",
      "-3.54951e-14 -8.41267e-10  -5.2112e-06  -5.2112e-06 -7.31986e-10 -2.62303e-14    -0.111072     0.222254     0.063101 -1.76834e-15 -5.71818e-10    0.0286639 -4.97892e-10 -9.44721e-14   5.3358e-10  1.81163e-14 -9.31511e-06 -5.70872e-06   -0.0310004    0.0336868 -1.31822e-09  5.63284e-14  6.81217e-06         -nan         -nan         -nan         -nan         -nan         -nan         -nan         -nan         -nan         -nan         -nan         -nan\r\n",
      "-1.22869e-14 -3.15845e-10 -2.81615e-06 -2.81615e-06 -6.25184e-10 -2.31833e-14    -0.063101     0.063101     0.429278 -3.06933e-15 -4.59352e-10   -0.0121538 -1.80066e-11 -3.13028e-15  6.21028e-10  2.33429e-14 -3.62518e-09  3.62519e-09  1.93215e-05  1.93215e-05 -4.69789e-10  2.10516e-14  3.72018e-06         -nan         -nan         -nan         -nan         -nan         -nan         -nan         -nan         -nan         -nan         -nan         -nan\r\n",
      "  -0.0155572  6.94306e-07  4.24166e-11  1.07892e-10 -6.45697e-07     0.014468 -1.13639e-15 -1.76881e-15 -3.06926e-15     0.463968  -1.1634e-15  9.82932e-17  1.21355e-07 -0.000646798  4.63049e-07   -0.0103755 -2.55668e-11  3.56073e-11 -6.34875e-15 -4.96238e-15  7.37932e-07    0.0177349 -1.16112e-10         -nan         -nan         -nan         -nan         -nan         -nan         -nan         -nan         -nan         -nan         -nan         -nan\r\n",
      " 6.94306e-07    0.0155572  2.47384e-14  2.18589e-14    -0.014468 -6.45697e-07  5.06343e-10 -5.71818e-10 -4.59352e-10 -1.10231e-15     0.463968  7.11362e-12 -0.000646798 -1.21355e-07    0.0103755  4.63049e-07  -1.4527e-14  1.59176e-14  8.87251e-11  7.86846e-11    0.0177349 -7.37932e-07 -3.33816e-14         -nan         -nan         -nan         -nan         -nan         -nan         -nan         -nan         -nan         -nan         -nan         -nan\r\n",
      "-8.06003e-15 -2.11228e-10 -1.27925e-06 -1.27925e-06 -1.61035e-10 -6.32844e-15   -0.0286639    0.0286639   -0.0121538  9.82145e-17  7.11362e-12     0.636067 -3.15701e-10 -6.14606e-14 -1.30433e-10 -4.67101e-15  3.92672e-06 -3.92672e-06   -0.0209286   -0.0209286 -1.01201e-10  5.59442e-15  1.66778e-06         -nan         -nan         -nan         -nan         -nan         -nan         -nan         -nan         -nan         -nan         -nan         -nan\r\n",
      "-1.12245e-05   -0.0483286  1.72321e-14  1.56608e-14  -0.00914341 -2.12359e-06  4.90945e-10 -4.97892e-10 -1.80066e-11  1.21355e-07 -0.000646798 -3.15701e-10     0.917068 -4.95033e-14    0.0222914  5.17727e-06 -9.53061e-14  9.38676e-14  3.67689e-10  5.91602e-10    0.0232461  -5.3288e-06  1.27543e-14         -nan         -nan         -nan         -nan         -nan         -nan         -nan         -nan         -nan         -nan         -nan         -nan\r\n",
      "   0.0483286 -1.12245e-05  2.54925e-11  3.24392e-11 -2.12359e-06   0.00914341  9.29157e-14 -9.44721e-14 -3.13028e-15 -0.000646798 -1.21355e-07 -6.14606e-14 -4.95866e-14     0.917068  5.17727e-06   -0.0222914 -8.87398e-11 -1.35173e-10  9.81604e-14   9.6706e-14   5.3288e-06    0.0232461 -9.96409e-11         -nan         -nan         -nan         -nan         -nan         -nan         -nan         -nan         -nan         -nan         -nan         -nan\r\n",
      " 1.42828e-14    0.0481429 -2.75298e-14 -2.45779e-14    0.0441772 -5.59837e-14 -9.15076e-10   5.3358e-10  6.21028e-10  4.63049e-07    0.0103755 -1.30433e-10    0.0222914  5.17727e-06     0.981536 -4.46401e-14 -2.76558e-14 -5.00233e-14 -2.17066e-10   1.0907e-10  -0.00424845 -1.28306e-08  6.31823e-14         -nan         -nan         -nan         -nan         -nan         -nan         -nan         -nan         -nan         -nan         -nan         -nan\r\n",
      "   0.0481429   1.4258e-14  2.14245e-11 -3.60071e-10 -5.60789e-14    0.0441772 -2.09791e-14  1.81161e-14  2.33429e-14   -0.0103755  4.63049e-07   -4.671e-15  5.17727e-06   -0.0222914 -4.46195e-14     0.981536  1.31565e-10  1.94571e-10 -4.70581e-14  3.07592e-14 -1.28306e-08   0.00424845 -4.25988e-10         -nan         -nan         -nan         -nan         -nan         -nan         -nan         -nan         -nan         -nan         -nan         -nan\r\n",
      "-2.07155e-11 -5.03957e-14   -0.0671006  -0.00241346 -3.05956e-14  2.65243e-11 -5.70872e-06 -9.31511e-06 -3.62518e-09 -2.55668e-11  -1.4527e-14  3.92672e-06  -9.5306e-14 -8.87398e-11 -2.76558e-14  1.31565e-10      1.06067  -0.00440426 -1.52497e-05 -1.52497e-05 -1.29358e-13  2.30492e-11    0.0159921         -nan         -nan         -nan         -nan         -nan         -nan         -nan         -nan         -nan         -nan         -nan         -nan\r\n",
      " 2.55784e-11  4.92184e-14   0.00241346    0.0671006  2.76302e-14 -1.32525e-11 -9.31511e-06 -5.70872e-06  3.62519e-09  3.56073e-11  1.59176e-14 -3.92672e-06  9.38676e-14 -1.35173e-10 -5.00233e-14  1.94571e-10  -0.00440426      1.06067  1.52497e-05  1.52497e-05  9.60619e-14 -1.65222e-10   -0.0159921         -nan         -nan         -nan         -nan         -nan         -nan         -nan         -nan         -nan         -nan         -nan         -nan\r\n",
      " 5.38837e-15  2.67822e-10  9.30698e-07 -1.40931e-05  1.44122e-10  7.59385e-15   -0.0336868   -0.0310004  1.93215e-05 -6.34876e-15  8.87251e-11   -0.0209286  3.67689e-10  9.81604e-14 -2.17066e-10 -4.70581e-14 -1.52497e-05  1.52497e-05      1.14195    0.0856822  5.30816e-10  1.63931e-14  4.66884e-06         -nan         -nan         -nan         -nan         -nan         -nan         -nan         -nan         -nan         -nan         -nan         -nan\r\n",
      " 6.54868e-15  2.72685e-10 -1.40931e-05  9.30698e-07  1.57394e-10  1.06236e-14    0.0310004    0.0336868  1.93215e-05 -4.96239e-15  7.86846e-11   -0.0209286  5.91602e-10  9.67062e-14   1.0907e-10  3.07592e-14 -1.52497e-05  1.52497e-05    0.0856822      1.14195  6.72702e-10 -1.72916e-14  4.66884e-06         -nan         -nan         -nan         -nan         -nan         -nan         -nan         -nan         -nan         -nan         -nan         -nan\r\n",
      " 1.73222e-07    0.0573573  1.89591e-13  1.90952e-13   0.00347867  1.05058e-08  3.93644e-09  -4.1906e-09 -6.01555e-10  4.24642e-07    0.0102055 -1.05874e-10    0.0186411  4.27317e-06   -0.0191594 -5.78625e-08  -3.1498e-14 -1.52305e-14 -5.74491e-11  1.42009e-10     0.600541  1.16833e-13 -4.88362e-13         -nan         -nan         -nan         -nan         -nan         -nan         -nan         -nan         -nan         -nan         -nan         -nan\r\n",
      "  -0.0573573  1.73222e-07 -7.82685e-11  1.76587e-10  1.05058e-08  -0.00347867 -1.53271e-13  1.54042e-13  2.59016e-14    0.0102055 -4.24642e-07  6.09326e-15 -4.27317e-06    0.0186411 -5.78624e-08    0.0191594 -2.27832e-11 -1.75435e-10  3.79519e-14 -9.04094e-15  1.16715e-13     0.600541  2.49342e-09         -nan         -nan         -nan         -nan         -nan         -nan         -nan         -nan         -nan         -nan         -nan         -nan\r\n",
      " 6.41718e-11 -6.40047e-14   -0.0424309   -0.0424309 -3.87512e-14 -5.54521e-11 -6.04479e-06  6.04479e-06  3.13564e-06 -8.27915e-11 -3.00821e-14  1.38794e-06  1.92866e-14 -1.11057e-10  5.30434e-14 -4.90501e-10    0.0169414   -0.0169414  5.16032e-06  5.16032e-06 -7.13245e-13  2.27211e-09      1.98197         -nan         -nan         -nan         -nan         -nan         -nan         -nan         -nan         -nan         -nan         -nan         -nan\r\n",
      "        -nan         -nan         -nan         -nan         -nan         -nan         -nan         -nan         -nan         -nan         -nan         -nan         -nan         -nan         -nan         -nan         -nan         -nan         -nan         -nan         -nan         -nan         -nan         -nan         -nan         -nan         -nan         -nan         -nan         -nan         -nan         -nan         -nan         -nan         -nan\r\n",
      "        -nan         -nan         -nan         -nan         -nan         -nan         -nan         -nan         -nan         -nan         -nan         -nan         -nan         -nan         -nan         -nan         -nan         -nan         -nan         -nan         -nan         -nan         -nan         -nan         -nan         -nan         -nan         -nan         -nan         -nan         -nan         -nan         -nan         -nan         -nan\r\n",
      "        -nan         -nan         -nan         -nan         -nan         -nan         -nan         -nan         -nan         -nan         -nan         -nan         -nan         -nan         -nan         -nan         -nan         -nan         -nan         -nan         -nan         -nan         -nan         -nan         -nan         -nan         -nan         -nan         -nan         -nan         -nan         -nan         -nan         -nan         -nan\r\n",
      "        -nan         -nan         -nan         -nan         -nan         -nan         -nan         -nan         -nan         -nan         -nan         -nan         -nan         -nan         -nan         -nan         -nan         -nan         -nan         -nan         -nan         -nan         -nan         -nan         -nan         -nan         -nan         -nan         -nan         -nan         -nan         -nan         -nan         -nan         -nan\r\n",
      "        -nan         -nan         -nan         -nan         -nan         -nan         -nan         -nan         -nan         -nan         -nan         -nan         -nan         -nan         -nan         -nan         -nan         -nan         -nan         -nan         -nan         -nan         -nan         -nan         -nan         -nan         -nan         -nan         -nan         -nan         -nan         -nan         -nan         -nan         -nan\r\n",
      "        -nan         -nan         -nan         -nan         -nan         -nan         -nan         -nan         -nan         -nan         -nan         -nan         -nan         -nan         -nan         -nan         -nan         -nan         -nan         -nan         -nan         -nan         -nan         -nan         -nan         -nan         -nan         -nan         -nan         -nan         -nan         -nan         -nan         -nan         -nan\r\n",
      "        -nan         -nan         -nan         -nan         -nan         -nan         -nan         -nan         -nan         -nan         -nan         -nan         -nan         -nan         -nan         -nan         -nan         -nan         -nan         -nan         -nan         -nan         -nan         -nan         -nan         -nan         -nan         -nan         -nan         -nan         -nan         -nan         -nan         -nan         -nan\r\n",
      "        -nan         -nan         -nan         -nan         -nan         -nan         -nan         -nan         -nan         -nan         -nan         -nan         -nan         -nan         -nan         -nan         -nan         -nan         -nan         -nan         -nan         -nan         -nan         -nan         -nan         -nan         -nan         -nan         -nan         -nan         -nan         -nan         -nan         -nan         -nan\r\n",
      "        -nan         -nan         -nan         -nan         -nan         -nan         -nan         -nan         -nan         -nan         -nan         -nan         -nan         -nan         -nan         -nan         -nan         -nan         -nan         -nan         -nan         -nan         -nan         -nan         -nan         -nan         -nan         -nan         -nan         -nan         -nan         -nan         -nan         -nan         -nan\r\n",
      "        -nan         -nan         -nan         -nan         -nan         -nan         -nan         -nan         -nan         -nan         -nan         -nan         -nan         -nan         -nan         -nan         -nan         -nan         -nan         -nan         -nan         -nan         -nan         -nan         -nan         -nan         -nan         -nan         -nan         -nan         -nan         -nan         -nan         -nan         -nan\r\n",
      "        -nan         -nan         -nan         -nan         -nan         -nan         -nan         -nan         -nan         -nan         -nan         -nan         -nan         -nan         -nan         -nan         -nan         -nan         -nan         -nan         -nan         -nan         -nan         -nan         -nan         -nan         -nan         -nan         -nan         -nan         -nan         -nan         -nan         -nan         -nan\r\n",
      "        -nan         -nan         -nan         -nan         -nan         -nan         -nan         -nan         -nan         -nan         -nan         -nan         -nan         -nan         -nan         -nan         -nan         -nan         -nan         -nan         -nan         -nan         -nan          nan          nan          nan          nan          nan          nan          nan          nan          nan          nan          nan          nan\r\n",
      "an error occurred:\r\n",
      "Small generalized eigenvalue problem failed.\r\n"
     ]
    }
   ],
   "source": [
    "!xtp_tools -c job_name=CO geometry_optimization.maxiter=1 dftpackage.basisset=3-21G dftpackage.auxbasisset=aux-def2-svp gwbse.gw.mode=G0W0 -e dftgwbse -t 4"
   ]
  },
  {
   "cell_type": "markdown",
   "metadata": {},
   "source": [
    "Notice that we are using 4 threads. The results will be stored in a file named `CO_summary.xml` in the current work directory, together with the optimization step in `optimisation.trj` and the orbitals in [hdf5 format](https://www.hdfgroup.org/solutions/hdf5/) saved on `CO.orb`."
   ]
  }
 ],
 "metadata": {
  "kernelspec": {
   "display_name": "Python 3",
   "language": "python",
   "name": "python3"
  },
  "language_info": {
   "codemirror_mode": {
    "name": "ipython",
    "version": 3
   },
   "file_extension": ".py",
   "mimetype": "text/x-python",
   "name": "python",
   "nbconvert_exporter": "python",
   "pygments_lexer": "ipython3",
   "version": "3.9.7"
  }
 },
 "nbformat": 4,
 "nbformat_minor": 4
}
