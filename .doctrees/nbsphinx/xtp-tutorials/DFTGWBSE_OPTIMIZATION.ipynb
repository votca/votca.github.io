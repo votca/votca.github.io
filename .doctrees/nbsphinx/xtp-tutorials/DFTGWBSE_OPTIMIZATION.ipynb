{
 "cells": [
  {
   "cell_type": "markdown",
   "metadata": {},
   "source": [
    "## DFT + GWBSE Optimization Using CO"
   ]
  },
  {
   "cell_type": "markdown",
   "metadata": {},
   "source": [
    "## Introduction\n",
    "This tutorial explains how to perform a molecular geometric optimization using the **GWBSE** method. See [the GW Compendium: A Practical Guide to Theoretical Photoemission Spectroscopy](https://doi.org/10.3389/fchem.2019.00377), for an excellent introduction to the method."
   ]
  },
  {
   "cell_type": "markdown",
   "metadata": {},
   "source": [
    "## Requirements\n",
    "* You will need to install **VOTCA** using the instructions described [here](https://github.com/votca/votca/blob/master/share/doc/INSTALL.rst)\n",
    "* Once the installation is completed you need to activate the VOTCA enviroment by running the `VOTCARC.bash` script that has been installed at the bin subfolder for the path that you have provided for the installation step above"
   ]
  },
  {
   "cell_type": "markdown",
   "metadata": {},
   "source": [
    "## Preparing the input\n",
    "To run a DFT-GWBSE calculation we will use the [xtp_tools](https://www.votca.org/xtp/xtp_tools_overview.html) calculator."
   ]
  },
  {
   "cell_type": "markdown",
   "metadata": {},
   "source": [
    "we can now change the calculator mode from single point energy calculation to optimization as follows by adding \n",
    "`-c geometry_optimization.maxiter=1` which enables optimization with one iteration. "
   ]
  },
  {
   "cell_type": "markdown",
   "metadata": {},
   "source": [
    "Because geometry optimsation is quite expensive numerically we chose a smaller basisset and G0W0 Finally, to run the calculation we just need the following command (This still takes a while)"
   ]
  },
  {
   "cell_type": "code",
   "execution_count": 1,
   "metadata": {
    "execution": {
     "iopub.execute_input": "2021-10-15T06:05:40.060338Z",
     "iopub.status.busy": "2021-10-15T06:05:40.059750Z",
     "iopub.status.idle": "2021-10-15T06:06:06.098881Z",
     "shell.execute_reply": "2021-10-15T06:06:06.099713Z"
    }
   },
   "outputs": [
    {
     "name": "stdout",
     "output_type": "stream",
     "text": [
      "==================================================\r\n",
      "========   VOTCA (http://www.votca.org)   ========\r\n",
      "==================================================\r\n",
      "\r\n",
      "please submit bugs to https://github.com/votca/xtp/issues\r\n",
      "\r\n",
      "xtp_tools, version 2022-dev gitid: 297230b (compiled Oct 15 2021, 05:56:46)\r\n",
      "votca_csg, version 2022-dev gitid: 297230b (compiled Oct 15 2021, 05:42:03)\r\n",
      "votca_tools, version 2022-dev gitid: 297230b (compiled Oct 15 2021, 05:39:22)\r\n",
      "\r\n",
      "Initializing tool\r\n",
      "... dftgwbse Evaluating tool\r\n",
      "... dftgwbse  Using 4 threads\r\n",
      "... ... Reading structure from CO.xyz\r\n",
      "... ... Requested geometry optimization of excited state s1\r\n",
      "... ... Initial state: s1\r\n",
      "... ... WARNING: No tracker is used \r\n",
      "... ... Convergence of total energy: 0.000001 Hartree \r\n",
      "... ... Convergence of RMS Force:    0.000030 Hartree/Bohr \r\n",
      "... ... Convergence of Max Force:    0.000100 Hartree/Bohr \r\n",
      "... ... Convergence of RMS Step:     0.000600 Bohr \r\n",
      "... ... Convergence of Max Step:     0.001000 Bohr \r\n",
      "... ... Initial trust radius:        0.018897 BohrA\r\n",
      "    0.307557 -4.74368e-16  -3.8729e-14  1.96287e-14    0.0515784 -2.49798e-15  4.78246e-11  2.37471e-11 -6.05547e-12   -0.0182326  1.49891e-05  1.29807e-11     0.038971  0.000168987    0.0420794  -2.1737e-15 -6.16283e-14 -9.35842e-15 -1.51519e-11    4.967e-12     0.108498  8.19669e-06 -7.93507e-15          nan          nan          nan          nan          nan          nan          nan          nan          nan          nan          nan          nan\r\n",
      "-4.50712e-16     0.307557  3.93704e-12  2.01403e-11 -2.53526e-15    0.0515784  3.11285e-15 -1.59466e-14 -7.55741e-17 -1.49891e-05   -0.0182326  3.02041e-16  0.000168987    -0.038971 -2.20114e-15    0.0420794  8.72431e-12 -1.46054e-12 -3.92379e-14 -1.30019e-14 -8.19669e-06     0.108498  1.40803e-12          nan          nan          nan          nan          nan          nan          nan          nan          nan          nan          nan          nan\r\n",
      " -3.8729e-14  3.93704e-12     0.320545    0.0100422  1.35451e-13 -4.69827e-12 -0.000189422 -0.000189422 -7.02496e-05  1.76458e-15 -9.17922e-12  2.97921e-05 -9.55646e-16  2.23151e-13 -8.40561e-15 -2.32317e-15   0.00205864    0.0495541  2.16163e-05  0.000184335  1.74553e-14  3.08146e-12    0.0253868          nan          nan          nan          nan          nan          nan          nan          nan          nan          nan          nan          nan\r\n",
      " 1.96287e-14  2.01403e-11    0.0100422     0.320545 -1.74612e-13  5.36646e-11  0.000189422  0.000189422  7.02496e-05 -2.10888e-15 -4.45545e-12 -2.97921e-05 -7.60415e-15  2.18049e-12  3.30131e-14  -3.0345e-11   -0.0495541  -0.00205864  0.000184335  2.16163e-05 -4.61355e-14  3.04621e-11   -0.0253868          nan          nan          nan          nan          nan          nan          nan          nan          nan          nan          nan          nan\r\n",
      "   0.0515784 -2.55637e-15  1.35451e-13 -1.74612e-13     0.491199   1.7491e-15 -1.63507e-10 -2.12474e-10 -9.28081e-11     -0.01345  1.10573e-05  4.06114e-11  -0.00797197 -3.45683e-05   -0.0310586 -5.26334e-15  8.45702e-14  1.10647e-13  2.52721e-11 -3.03589e-11    0.0529951  4.00361e-06  7.22551e-14          nan          nan          nan          nan          nan          nan          nan          nan          nan          nan          nan          nan\r\n",
      "-2.52047e-15    0.0515784 -4.69827e-12  5.36646e-11  1.76453e-15     0.491199  -6.2163e-15 -4.53035e-14 -8.12713e-16 -1.10573e-05     -0.01345  5.33063e-16 -3.45683e-05   0.00797197 -5.24963e-15   -0.0310586  7.63559e-12  2.54876e-12 -3.07294e-14  4.67679e-15 -4.00361e-06    0.0529951  -5.0057e-12          nan          nan          nan          nan          nan          nan          nan          nan          nan          nan          nan          nan\r\n",
      " 4.78246e-11  3.11284e-15 -0.000189422  0.000189422 -1.63507e-10 -6.21631e-15     0.550957     0.220369    0.0854511 -1.15135e-11  2.31831e-15   -0.0362389  -1.3133e-13 -9.49113e-16  9.80221e-12  3.42654e-16  8.43219e-05  -0.00012163    0.0124022    0.0350933  -2.1048e-11  8.36996e-15 -5.24578e-05          nan          nan          nan          nan          nan          nan          nan          nan          nan          nan          nan          nan\r\n",
      " 2.37471e-11 -1.59466e-14 -0.000189422  0.000189422 -2.12474e-10 -4.53035e-14     0.220369     0.550957    0.0854511  2.12123e-12  1.98038e-15   -0.0362389  2.27229e-12  7.60111e-15  4.01495e-11  2.48333e-14  -0.00012163  8.43219e-05   -0.0350933   -0.0124022 -5.37928e-11 -2.02421e-14 -5.24578e-05          nan          nan          nan          nan          nan          nan          nan          nan          nan          nan          nan          nan\r\n",
      "-6.05547e-12 -7.56303e-17 -7.02496e-05  7.02496e-05 -9.28081e-11 -8.12713e-16    0.0854511    0.0854511     0.663153  9.49895e-12 -7.52593e-15   0.00639727  7.94659e-12  3.41291e-14  5.90375e-12  2.50669e-16 -1.42228e-05 -1.42228e-05  -0.00404734   0.00404734 -4.36242e-11 -3.14614e-17 -2.75364e-05          nan          nan          nan          nan          nan          nan          nan          nan          nan          nan          nan          nan\r\n",
      "  -0.0182326 -1.49891e-05  1.76462e-15 -2.10895e-15     -0.01345 -1.10573e-05 -1.15135e-11  2.12123e-12  9.49895e-12     0.681816  7.43416e-16  9.47403e-12 -9.13982e-05 -3.21184e-07  -0.00860647  -7.0754e-06 -4.08684e-15  2.69383e-15 -7.42166e-13 -8.05797e-13   -0.0410285 -3.68293e-05 -7.55048e-15          nan          nan          nan          nan          nan          nan          nan          nan          nan          nan          nan          nan\r\n",
      " 1.49891e-05   -0.0182326 -9.17922e-12 -4.45545e-12  1.10573e-05     -0.01345  2.31835e-15  1.98033e-15 -7.52594e-15  8.76435e-16     0.681816 -7.69715e-15 -3.21184e-07  9.13982e-05   7.0754e-06  -0.00860647 -2.24151e-13 -1.77212e-12  1.37826e-16 -6.94356e-15  3.68293e-05   -0.0410285 -1.08999e-11          nan          nan          nan          nan          nan          nan          nan          nan          nan          nan          nan          nan\r\n",
      " 1.29807e-11  3.02041e-16  2.97921e-05 -2.97921e-05  4.06114e-11  5.33006e-16   -0.0362389   -0.0362389   0.00639727  9.47403e-12 -7.69713e-15      0.79863  6.72086e-12  2.92592e-14 -1.02101e-11 -4.38502e-18  5.06515e-05  5.06515e-05    0.0144137   -0.0144137  4.27027e-11   2.7746e-15  1.10383e-05          nan          nan          nan          nan          nan          nan          nan          nan          nan          nan          nan          nan\r\n",
      "    0.038971  0.000168987 -9.55646e-16 -7.60415e-15  -0.00797197 -3.45683e-05  -1.3133e-13  2.27229e-12  7.94659e-12 -9.13982e-05 -3.21184e-07  6.72086e-12     0.956559  1.14506e-14   -0.0131604 -5.70665e-05  3.58387e-14  3.75069e-14  7.32983e-12 -9.37727e-12   -0.0200323  -8.8378e-05 -1.27117e-14          nan          nan          nan          nan          nan          nan          nan          nan          nan          nan          nan          nan\r\n",
      " 0.000168987    -0.038971  2.23151e-13  2.18049e-12 -3.45683e-05   0.00797197 -9.49112e-16  7.60111e-15  3.41291e-14 -3.21184e-07  9.13982e-05  2.92592e-14  1.14542e-14     0.956559 -5.70665e-05    0.0131604 -2.70719e-12 -6.59755e-13  4.32479e-14 -4.15537e-14  -8.8378e-05    0.0200323  2.45889e-12          nan          nan          nan          nan          nan          nan          nan          nan          nan          nan          nan          nan\r\n",
      "   0.0420794 -2.20442e-15  -8.4057e-15  3.30131e-14   -0.0310586 -5.21717e-15  9.80221e-12  4.01495e-11  5.90375e-12  -0.00860647   7.0754e-06 -1.02101e-11   -0.0131604 -5.70665e-05     0.989636  5.64039e-15  -6.2297e-14 -4.41011e-14 -1.69078e-11   1.3363e-11    0.0223203  1.68622e-06 -1.05823e-14          nan          nan          nan          nan          nan          nan          nan          nan          nan          nan          nan          nan\r\n",
      "-2.17976e-15    0.0420794 -2.32315e-15  -3.0345e-11 -5.22435e-15   -0.0310586  3.42679e-16  2.48332e-14  2.50671e-16  -7.0754e-06  -0.00860647 -4.38756e-18 -5.70665e-05    0.0131604  5.66568e-15     0.989636  1.89054e-12 -1.65422e-12 -9.53957e-15    -8.65e-15 -1.68622e-06    0.0223203  2.04145e-11          nan          nan          nan          nan          nan          nan          nan          nan          nan          nan          nan          nan\r\n",
      "-6.16283e-14  8.72431e-12   0.00205864   -0.0495541  8.45702e-14  7.63559e-12  8.43219e-05  -0.00012163 -1.42228e-05 -4.08686e-15 -2.24151e-13  5.06515e-05  3.58387e-14 -2.70719e-12  -6.2297e-14  1.89054e-12      1.02923   0.00206722  0.000153049 -0.000153049 -4.01651e-14  1.80675e-11   0.00469351          nan          nan          nan          nan          nan          nan          nan          nan          nan          nan          nan          nan\r\n",
      "-9.35842e-15 -1.46054e-12    0.0495541  -0.00205864  1.10647e-13  2.54876e-12  -0.00012163  8.43219e-05 -1.42228e-05  2.69384e-15 -1.77212e-12  5.06515e-05  3.75068e-14 -6.59755e-13 -4.41011e-14 -1.65422e-12   0.00206722      1.02923  0.000153049 -0.000153049  7.20866e-14 -3.60515e-12   0.00469351          nan          nan          nan          nan          nan          nan          nan          nan          nan          nan          nan          nan\r\n",
      "-1.51519e-11 -3.92379e-14  2.16163e-05  0.000184335  2.52721e-11 -3.07294e-14    0.0124022   -0.0350933  -0.00404734 -7.42166e-13  1.37827e-16    0.0144137  7.32983e-12  4.32479e-14 -1.69078e-11 -9.53956e-15  0.000153049  0.000153049      1.07278   -0.0456191 -5.96677e-12 -8.29967e-14 -1.31441e-05          nan          nan          nan          nan          nan          nan          nan          nan          nan          nan          nan          nan\r\n",
      "   4.967e-12 -1.30019e-14  0.000184335  2.16163e-05 -3.03589e-11  4.67679e-15    0.0350933   -0.0124022   0.00404734 -8.05797e-13 -6.94358e-15   -0.0144137 -9.37727e-12 -4.15537e-14   1.3363e-11    -8.65e-15 -0.000153049 -0.000153049   -0.0456191      1.07278 -1.55518e-11 -2.96705e-14  1.31441e-05          nan          nan          nan          nan          nan          nan          nan          nan          nan          nan          nan          nan\r\n",
      "   -0.075296  5.68837e-06 -6.55564e-15  3.32611e-14   -0.0689447  5.20855e-06  7.71043e-12  3.73719e-11  3.99106e-11    0.0309921   -2.782e-05 -2.69246e-11   0.00898912   3.9658e-05   -0.0364163  2.75113e-06  5.06723e-14  1.04094e-15  1.20388e-11 -2.48933e-12     -0.19441  4.79894e-14 -3.35112e-14          nan          nan          nan          nan          nan          nan          nan          nan          nan          nan          nan          nan\r\n",
      "-5.68837e-06    -0.075296  -3.4437e-12 -2.71669e-11 -5.20855e-06   -0.0689447 -9.20579e-15  1.61973e-14 -2.70773e-17    2.782e-05    0.0309921  -1.4877e-15   3.9658e-05  -0.00898912 -2.75113e-06   -0.0364163 -7.91913e-12  1.73904e-12  3.80081e-14  1.22339e-14  4.79991e-14     -0.19441 -7.98681e-11          nan          nan          nan          nan          nan          nan          nan          nan          nan          nan          nan          nan\r\n",
      " 1.20911e-15   -6.019e-12    0.0144102   -0.0144102 -6.07429e-15  5.60633e-11  2.75237e-05  2.75237e-05   6.2809e-06  1.93521e-14  1.65262e-11 -1.98759e-06  1.42608e-14  -3.4468e-12  9.47181e-16 -4.11862e-11   0.00614394   0.00614394 -3.23987e-05  3.23987e-05 -2.08771e-14 -9.63313e-11     0.957553          nan          nan          nan          nan          nan          nan          nan          nan          nan          nan          nan          nan\r\n",
      "        -nan         -nan         -nan         -nan         -nan         -nan         -nan         -nan         -nan         -nan         -nan         -nan         -nan         -nan         -nan         -nan         -nan         -nan         -nan         -nan         -nan         -nan         -nan          nan          nan          nan          nan          nan          nan          nan          nan          nan          nan          nan          nan\r\n",
      "        -nan         -nan         -nan         -nan         -nan         -nan         -nan         -nan         -nan         -nan         -nan         -nan         -nan         -nan         -nan         -nan         -nan         -nan         -nan         -nan         -nan         -nan         -nan         -nan         -nan         -nan         -nan         -nan         -nan         -nan         -nan         -nan         -nan         -nan         -nan\r\n",
      "        -nan         -nan         -nan         -nan         -nan         -nan         -nan         -nan         -nan         -nan         -nan         -nan         -nan         -nan         -nan         -nan         -nan         -nan         -nan         -nan         -nan         -nan         -nan         -nan         -nan         -nan         -nan         -nan         -nan         -nan         -nan         -nan         -nan         -nan         -nan\r\n",
      "        -nan         -nan         -nan         -nan         -nan         -nan         -nan         -nan         -nan         -nan         -nan         -nan         -nan         -nan         -nan         -nan         -nan         -nan         -nan         -nan         -nan         -nan         -nan          nan          nan          nan          nan          nan          nan          nan          nan          nan          nan          nan          nan\r\n",
      "        -nan         -nan         -nan         -nan         -nan         -nan         -nan         -nan         -nan         -nan         -nan         -nan         -nan         -nan         -nan         -nan         -nan         -nan         -nan         -nan         -nan         -nan         -nan          nan          nan          nan          nan          nan          nan          nan          nan          nan          nan          nan          nan\r\n",
      "        -nan         -nan         -nan         -nan         -nan         -nan         -nan         -nan         -nan         -nan         -nan         -nan         -nan         -nan         -nan         -nan         -nan         -nan         -nan         -nan         -nan         -nan         -nan         -nan         -nan         -nan         -nan         -nan         -nan         -nan         -nan         -nan         -nan         -nan         -nan\r\n",
      "        -nan         -nan         -nan         -nan         -nan         -nan         -nan         -nan         -nan         -nan         -nan         -nan         -nan         -nan         -nan         -nan         -nan         -nan         -nan         -nan         -nan         -nan         -nan         -nan         -nan         -nan         -nan         -nan         -nan         -nan         -nan         -nan         -nan         -nan         -nan\r\n",
      "        -nan         -nan         -nan         -nan         -nan         -nan         -nan         -nan         -nan         -nan         -nan         -nan         -nan         -nan         -nan         -nan         -nan         -nan         -nan         -nan         -nan         -nan         -nan          nan          nan          nan          nan          nan          nan          nan          nan          nan          nan          nan          nan\r\n",
      "        -nan         -nan         -nan         -nan         -nan         -nan         -nan         -nan         -nan         -nan         -nan         -nan         -nan         -nan         -nan         -nan         -nan         -nan         -nan         -nan         -nan         -nan         -nan          nan          nan          nan          nan          nan          nan          nan          nan          nan          nan          nan          nan\r\n",
      "        -nan         -nan         -nan         -nan         -nan         -nan         -nan         -nan         -nan         -nan         -nan         -nan         -nan         -nan         -nan         -nan         -nan         -nan         -nan         -nan         -nan         -nan         -nan         -nan          nan          nan          nan         -nan          nan          nan          nan         -nan          nan          nan          nan\r\n",
      "        -nan         -nan         -nan         -nan         -nan         -nan         -nan         -nan         -nan         -nan         -nan         -nan         -nan         -nan         -nan         -nan         -nan         -nan         -nan         -nan         -nan         -nan         -nan         -nan          nan          nan          nan         -nan          nan          nan          nan         -nan          nan          nan          nan\r\n",
      "        -nan         -nan         -nan         -nan         -nan         -nan         -nan         -nan         -nan         -nan         -nan         -nan         -nan         -nan         -nan         -nan         -nan         -nan         -nan         -nan         -nan         -nan         -nan         -nan         -nan         -nan         -nan         -nan         -nan         -nan         -nan         -nan         -nan         -nan         -nan\r\n",
      "B\r\n",
      "    0.094057  1.93457e-18 -1.93477e-14  8.85307e-15    0.0329085 -1.47887e-15  2.39175e-11  1.07037e-11 -5.66305e-12   -0.0156091  1.28323e-05  1.35053e-11     0.048343  0.000209627    0.0481685 -2.42995e-15 -6.94348e-14 -7.39374e-15 -1.69248e-11  4.83719e-12    0.0251553   1.9004e-06 -5.97844e-15         -nan         -nan         -nan         -nan         -nan         -nan         -nan         -nan         -nan         -nan         -nan         -nan\r\n",
      " 1.73415e-17     0.094057  2.23076e-12  1.09831e-11 -1.49402e-15    0.0329085  1.75442e-15 -8.71859e-15 -7.47661e-17 -1.28323e-05   -0.0156091  2.83259e-16  0.000209627    -0.048343 -2.45613e-15    0.0481685  1.06186e-11   -1.469e-12 -4.75091e-14 -1.44976e-14  -1.9004e-06    0.0251553 -1.73401e-12         -nan         -nan         -nan         -nan         -nan         -nan         -nan         -nan         -nan         -nan         -nan         -nan\r\n",
      "-1.93477e-14  2.23076e-12     0.105939   0.00570601  7.39315e-14 -2.77353e-12 -9.62117e-05 -9.62117e-05 -5.17435e-05  5.52723e-15 -9.47611e-12  2.33697e-05 -8.52747e-16  1.31572e-13 -6.74293e-15 -2.47839e-14   0.00242563    0.0671913  1.70741e-05  0.000263765 -3.58436e-15  4.28829e-13     0.042045         -nan         -nan         -nan         -nan         -nan         -nan         -nan         -nan         -nan         -nan         -nan         -nan\r\n",
      " 8.85306e-15  1.09831e-11   0.00570601     0.105939 -1.04809e-13  4.13362e-11  9.62117e-05  9.62117e-05  5.17435e-05 -5.87179e-15 -5.52138e-12 -2.33697e-05 -8.32714e-15  2.44462e-12  3.90887e-14 -3.98861e-11   -0.0671913  -0.00242563  0.000263765  1.70741e-05  7.04239e-18  4.23104e-12    -0.042045         -nan         -nan         -nan         -nan         -nan         -nan         -nan         -nan         -nan         -nan         -nan         -nan\r\n",
      "   0.0329085 -1.51378e-15  7.39315e-14 -1.04809e-13     0.241204  1.84101e-15 -8.89812e-11 -1.27544e-10 -7.79348e-11   -0.0144728  1.18981e-05  3.67563e-11  -0.00911839 -3.95395e-05   -0.0442994 -7.52696e-15    7.955e-14  1.02129e-13  2.36954e-11 -2.81056e-11  -0.00443755 -3.35243e-07  7.23817e-14         -nan         -nan         -nan         -nan         -nan         -nan         -nan         -nan         -nan         -nan         -nan         -nan\r\n",
      "-1.49473e-15    0.0329085 -2.77353e-12  4.13362e-11  1.86093e-15     0.241204 -3.68716e-15 -3.45036e-14 -6.66735e-16 -1.18981e-05   -0.0144728  5.10685e-16 -3.95395e-05   0.00911839 -7.51024e-15   -0.0442994  7.97803e-12  3.56772e-12 -3.14221e-14  8.87132e-15  3.35243e-07  -0.00443755    4.123e-11         -nan         -nan         -nan         -nan         -nan         -nan         -nan         -nan         -nan         -nan         -nan         -nan\r\n",
      " 2.39175e-11  1.75441e-15 -9.62117e-05  9.62117e-05 -8.89812e-11 -3.68717e-15      0.22297     0.111325    0.0629404 -1.63896e-11  6.03269e-15   -0.0284267  2.13111e-13  4.22305e-16  7.63025e-12  3.79249e-16  0.000173414 -0.000107425    0.0336287    0.0311369  4.14057e-12  7.59499e-16 -2.11318e-05         -nan         -nan         -nan         -nan         -nan         -nan         -nan         -nan         -nan         -nan         -nan         -nan\r\n",
      " 1.07037e-11 -8.71861e-15 -9.62117e-05  9.62117e-05 -1.27544e-10 -3.45036e-14     0.111325      0.22297    0.0629404  -1.3921e-12  5.69406e-15   -0.0284267  2.78928e-12  9.58814e-15   4.7541e-11  3.25745e-14 -0.000107425  0.000173414   -0.0311369   -0.0336287 -6.57006e-13 -3.94608e-15 -2.11318e-05         -nan         -nan         -nan         -nan         -nan         -nan         -nan         -nan         -nan         -nan         -nan         -nan\r\n",
      "-5.66305e-12 -7.48288e-17 -5.17435e-05  5.17435e-05 -7.79348e-11 -6.66738e-16    0.0629404    0.0629404      0.42963  9.32896e-12  -7.3414e-15    0.0122085  1.22466e-11  5.26466e-14  7.87001e-12  3.50851e-16  2.31633e-07  2.31633e-07  6.59149e-05 -6.59149e-05 -6.82948e-12  2.54273e-16 -2.60556e-05         -nan         -nan         -nan         -nan         -nan         -nan         -nan         -nan         -nan         -nan         -nan         -nan\r\n",
      "  -0.0156091 -1.28323e-05  5.52727e-15 -5.87186e-15   -0.0144728 -1.18981e-05 -1.63896e-11  -1.3921e-12  9.32896e-12     0.465176  9.78835e-16  1.57165e-11 -0.000658394 -2.31367e-06   -0.0103444 -8.50415e-06 -1.03861e-14  4.40603e-15 -2.18898e-12 -1.20055e-12   -0.0177317 -1.59168e-05  1.80037e-14         -nan         -nan         -nan         -nan         -nan         -nan         -nan         -nan         -nan         -nan         -nan         -nan\r\n",
      " 1.28323e-05   -0.0156091 -9.47611e-12 -5.52138e-12  1.18981e-05   -0.0144728  6.03273e-15  5.69402e-15 -7.34142e-15  1.17357e-15     0.465176 -1.27404e-14 -2.31367e-06  0.000658394  8.50415e-06   -0.0103444  1.49315e-13 -3.24022e-12 -1.47921e-15 -1.33553e-14  1.59168e-05   -0.0177317  1.06258e-11         -nan         -nan         -nan         -nan         -nan         -nan         -nan         -nan         -nan         -nan         -nan         -nan\r\n",
      " 1.35053e-11  2.83256e-16  2.33697e-05 -2.33697e-05  3.67563e-11  5.10605e-16   -0.0284267   -0.0284267    0.0122085  1.57165e-11 -1.27404e-14     0.636701  1.16004e-11  5.04616e-14  -1.8394e-11 -4.35469e-17  7.32819e-05  7.32819e-05    0.0208536   -0.0208536  2.55626e-11  1.97696e-15  1.18203e-05         -nan         -nan         -nan         -nan         -nan         -nan         -nan         -nan         -nan         -nan         -nan         -nan\r\n",
      "    0.048343  0.000209627 -8.52745e-16 -8.32714e-15  -0.00911839 -3.95395e-05  2.13111e-13  2.78928e-12  1.22466e-11 -0.000658394 -2.31367e-06  1.16004e-11     0.917337  2.10765e-14   -0.0223427 -9.68832e-05   6.9069e-14  7.26808e-14  1.37036e-11 -1.81421e-11   -0.0232848 -0.000102728  2.68285e-15         -nan         -nan         -nan         -nan         -nan         -nan         -nan         -nan         -nan         -nan         -nan         -nan\r\n",
      " 0.000209627    -0.048343  1.31572e-13  2.44462e-12 -3.95395e-05   0.00911839  4.22308e-16  9.58814e-15  5.26466e-14 -2.31367e-06  0.000658394  5.04616e-14  2.10797e-14     0.917337 -9.68832e-05    0.0223427  -5.6531e-12 -1.21458e-12  8.34212e-14 -7.97594e-14 -0.000102728    0.0232848 -1.49281e-12         -nan         -nan         -nan         -nan         -nan         -nan         -nan         -nan         -nan         -nan         -nan         -nan\r\n",
      "   0.0481685 -2.45788e-15 -6.74305e-15  3.90887e-14   -0.0442994 -7.46014e-15  7.63025e-12   4.7541e-11  7.87001e-12   -0.0103444  8.50415e-06  -1.8394e-11   -0.0223427 -9.68832e-05     0.983661  1.10697e-14 -1.20156e-13 -7.75396e-14 -3.22669e-11  2.39697e-11  -0.00432401 -3.26665e-07 -1.67842e-14         -nan         -nan         -nan         -nan         -nan         -nan         -nan         -nan         -nan         -nan         -nan         -nan\r\n",
      "-2.43563e-15    0.0481685 -2.47838e-14 -3.98861e-11 -7.47367e-15   -0.0442994  3.79277e-16  3.25744e-14  3.50854e-16 -8.50415e-06   -0.0103444 -4.35509e-17 -9.68832e-05    0.0223427  1.11257e-14     0.983661  5.47455e-12 -2.82258e-12  -2.6024e-14 -1.65703e-14  3.26665e-07  -0.00432401 -1.26244e-11         -nan         -nan         -nan         -nan         -nan         -nan         -nan         -nan         -nan         -nan         -nan         -nan\r\n",
      "-6.94348e-14  1.06186e-11   0.00242563   -0.0671913    7.955e-14  7.97803e-12  0.000173414 -0.000107425  2.31633e-07 -1.03862e-14  1.49315e-13  7.32819e-05   6.9069e-14  -5.6531e-12 -1.20156e-13  5.47455e-12      1.06175   0.00440539  0.000286133 -0.000286133 -4.81791e-14   2.1392e-11     0.015997         -nan         -nan         -nan         -nan         -nan         -nan         -nan         -nan         -nan         -nan         -nan         -nan\r\n",
      "-7.39374e-15   -1.469e-12    0.0671913  -0.00242563  1.02129e-13  3.56772e-12 -0.000107425  0.000173414  2.31633e-07  4.40603e-15 -3.24022e-12  7.32819e-05  7.26808e-14 -1.21458e-12 -7.75396e-14 -2.82258e-12   0.00440539      1.06175  0.000286133 -0.000286133   7.9729e-14  -3.2149e-12     0.015997         -nan         -nan         -nan         -nan         -nan         -nan         -nan         -nan         -nan         -nan         -nan         -nan\r\n",
      "-1.69248e-11 -4.75091e-14  1.70741e-05  0.000263765  2.36954e-11 -3.14221e-14    0.0336287   -0.0311369  6.59149e-05 -2.18898e-12 -1.47921e-15    0.0208536  1.37036e-11  8.34213e-14 -3.22669e-11  -2.6024e-14  0.000286133  0.000286133      1.14317   -0.0858282 -7.42163e-12 -9.64452e-14   -6.481e-05         -nan         -nan         -nan         -nan         -nan         -nan         -nan         -nan         -nan         -nan         -nan         -nan\r\n",
      " 4.83719e-12 -1.44976e-14  0.000263765  1.70741e-05 -2.81056e-11  8.87132e-15    0.0311369   -0.0336287 -6.59149e-05 -1.20055e-12 -1.33553e-14   -0.0208536 -1.81421e-11 -7.97594e-14  2.39697e-11 -1.65703e-14 -0.000286133 -0.000286133   -0.0858282      1.14317 -1.70524e-11 -3.13252e-14    6.481e-05         -nan         -nan         -nan         -nan         -nan         -nan         -nan         -nan         -nan         -nan         -nan         -nan\r\n",
      "   0.0574548 -4.34052e-06  3.96737e-15 -7.34304e-15  -0.00354178   2.6757e-07 -4.68901e-12 -9.68718e-12  2.23434e-12   -0.0101472  9.10866e-06   1.1841e-11    -0.018703 -8.25137e-05    -0.019244  1.45382e-06  1.71456e-14  7.67829e-14  7.84421e-12 -1.92397e-11     0.601743   1.0145e-14 -5.14934e-14         -nan         -nan         -nan         -nan         -nan         -nan         -nan         -nan         -nan         -nan         -nan         -nan\r\n",
      " 4.34052e-06    0.0574548 -3.79714e-13   5.1907e-12  -2.6757e-07  -0.00354178  3.88649e-16  -4.4929e-15  1.56423e-17 -9.10866e-06   -0.0101472  1.22845e-15 -8.25137e-05     0.018703 -1.45382e-06    -0.019244  9.65454e-12 -1.74364e-12  -4.2056e-14 -1.71249e-14  1.02196e-14     0.601743  5.26063e-11         -nan         -nan         -nan         -nan         -nan         -nan         -nan         -nan         -nan         -nan         -nan         -nan\r\n",
      "-5.51964e-15  5.13926e-12    0.0425254   -0.0425254  6.10333e-14  1.05703e-11 -1.57889e-05 -1.57889e-05 -1.76271e-05 -7.69247e-15 -2.14409e-11   7.5322e-06 -4.73207e-15  2.74436e-13 -7.84446e-15   1.7531e-12    0.0169499    0.0169499 -7.43081e-05  7.43081e-05 -2.82396e-14  4.41395e-11       1.9854         -nan         -nan         -nan         -nan         -nan         -nan         -nan         -nan         -nan         -nan         -nan         -nan\r\n",
      "        -nan         -nan         -nan         -nan         -nan         -nan         -nan         -nan         -nan         -nan         -nan         -nan         -nan         -nan         -nan         -nan         -nan         -nan         -nan         -nan         -nan         -nan         -nan         -nan         -nan         -nan         -nan         -nan         -nan         -nan         -nan         -nan         -nan         -nan         -nan\r\n",
      "        -nan         -nan         -nan         -nan         -nan         -nan         -nan         -nan         -nan         -nan         -nan         -nan         -nan         -nan         -nan         -nan         -nan         -nan         -nan         -nan         -nan         -nan         -nan         -nan         -nan         -nan         -nan         -nan         -nan         -nan         -nan         -nan         -nan         -nan         -nan\r\n",
      "        -nan         -nan         -nan         -nan         -nan         -nan         -nan         -nan         -nan         -nan         -nan         -nan         -nan         -nan         -nan         -nan         -nan         -nan         -nan         -nan         -nan         -nan         -nan         -nan         -nan         -nan         -nan         -nan         -nan         -nan         -nan         -nan         -nan         -nan         -nan\r\n",
      "        -nan         -nan         -nan         -nan         -nan         -nan         -nan         -nan         -nan         -nan         -nan         -nan         -nan         -nan         -nan         -nan         -nan         -nan         -nan         -nan         -nan         -nan         -nan         -nan         -nan         -nan         -nan         -nan         -nan         -nan         -nan         -nan         -nan         -nan         -nan\r\n",
      "        -nan         -nan         -nan         -nan         -nan         -nan         -nan         -nan         -nan         -nan         -nan         -nan         -nan         -nan         -nan         -nan         -nan         -nan         -nan         -nan         -nan         -nan         -nan         -nan         -nan         -nan         -nan         -nan         -nan         -nan         -nan         -nan         -nan         -nan         -nan\r\n",
      "        -nan         -nan         -nan         -nan         -nan         -nan         -nan         -nan         -nan         -nan         -nan         -nan         -nan         -nan         -nan         -nan         -nan         -nan         -nan         -nan         -nan         -nan         -nan         -nan         -nan         -nan         -nan         -nan         -nan         -nan         -nan         -nan         -nan         -nan         -nan\r\n",
      "        -nan         -nan         -nan         -nan         -nan         -nan         -nan         -nan         -nan         -nan         -nan         -nan         -nan         -nan         -nan         -nan         -nan         -nan         -nan         -nan         -nan         -nan         -nan         -nan         -nan         -nan         -nan         -nan         -nan         -nan         -nan         -nan         -nan         -nan         -nan\r\n",
      "        -nan         -nan         -nan         -nan         -nan         -nan         -nan         -nan         -nan         -nan         -nan         -nan         -nan         -nan         -nan         -nan         -nan         -nan         -nan         -nan         -nan         -nan         -nan         -nan         -nan         -nan         -nan         -nan         -nan         -nan         -nan         -nan         -nan         -nan         -nan\r\n",
      "        -nan         -nan         -nan         -nan         -nan         -nan         -nan         -nan         -nan         -nan         -nan         -nan         -nan         -nan         -nan         -nan         -nan         -nan         -nan         -nan         -nan         -nan         -nan         -nan         -nan         -nan         -nan         -nan         -nan         -nan         -nan         -nan         -nan         -nan         -nan\r\n",
      "        -nan         -nan         -nan         -nan         -nan         -nan         -nan         -nan         -nan         -nan         -nan         -nan         -nan         -nan         -nan         -nan         -nan         -nan         -nan         -nan         -nan         -nan         -nan         -nan         -nan         -nan         -nan         -nan         -nan         -nan         -nan         -nan         -nan         -nan         -nan\r\n",
      "        -nan         -nan         -nan         -nan         -nan         -nan         -nan         -nan         -nan         -nan         -nan         -nan         -nan         -nan         -nan         -nan         -nan         -nan         -nan         -nan         -nan         -nan         -nan         -nan         -nan         -nan         -nan         -nan         -nan         -nan         -nan         -nan         -nan         -nan         -nan\r\n",
      "        -nan         -nan         -nan         -nan         -nan         -nan         -nan         -nan         -nan         -nan         -nan         -nan         -nan         -nan         -nan         -nan         -nan         -nan         -nan         -nan         -nan         -nan         -nan          nan          nan          nan          nan          nan          nan          nan          nan          nan          nan          nan          nan\r\n",
      "an error occurred:\r\n",
      "Small generalized eigenvalue problem failed.\r\n"
     ]
    }
   ],
   "source": [
    "!xtp_tools -c job_name=CO geometry_optimization.maxiter=1 dftpackage.basisset=3-21G dftpackage.auxbasisset=aux-def2-svp gwbse.gw.mode=G0W0 -e dftgwbse -t 4"
   ]
  },
  {
   "cell_type": "markdown",
   "metadata": {},
   "source": [
    "Notice that we are using 4 threads. The results will be stored in a file named `CO_summary.xml` in the current work directory, together with the optimization step in `optimisation.trj` and the orbitals in [hdf5 format](https://www.hdfgroup.org/solutions/hdf5/) saved on `CO.orb`."
   ]
  }
 ],
 "metadata": {
  "kernelspec": {
   "display_name": "Python 3",
   "language": "python",
   "name": "python3"
  },
  "language_info": {
   "codemirror_mode": {
    "name": "ipython",
    "version": 3
   },
   "file_extension": ".py",
   "mimetype": "text/x-python",
   "name": "python",
   "nbconvert_exporter": "python",
   "pygments_lexer": "ipython3",
   "version": "3.9.7"
  }
 },
 "nbformat": 4,
 "nbformat_minor": 4
}
