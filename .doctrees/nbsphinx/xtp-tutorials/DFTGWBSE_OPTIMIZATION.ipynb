{
 "cells": [
  {
   "cell_type": "markdown",
   "metadata": {},
   "source": [
    "## DFT + GWBSE Optimization Using CO"
   ]
  },
  {
   "cell_type": "markdown",
   "metadata": {},
   "source": [
    "## Introduction\n",
    "This tutorial explains how to perform a molecular geometric optimization using the **GWBSE** method. See [the GW Compendium: A Practical Guide to Theoretical Photoemission Spectroscopy](https://doi.org/10.3389/fchem.2019.00377), for an excellent introduction to the method."
   ]
  },
  {
   "cell_type": "markdown",
   "metadata": {},
   "source": [
    "## Requirements\n",
    "* You will need to install **VOTCA** using the instructions described [here](https://github.com/votca/votca/blob/master/share/doc/INSTALL.rst)\n",
    "* Once the installation is completed you need to activate the VOTCA enviroment by running the `VOTCARC.bash` script that has been installed at the bin subfolder for the path that you have provided for the installation step above"
   ]
  },
  {
   "cell_type": "markdown",
   "metadata": {},
   "source": [
    "## Preparing the input\n",
    "To run a DFT-GWBSE calculation we will use the [xtp_tools](https://www.votca.org/xtp/xtp_tools_overview.html) calculator."
   ]
  },
  {
   "cell_type": "markdown",
   "metadata": {},
   "source": [
    "we can now change the calculator mode from single point energy calculation to optimization as follows by adding \n",
    "`-c geometry_optimization.maxiter=1` which enables optimization with one iteration. "
   ]
  },
  {
   "cell_type": "markdown",
   "metadata": {},
   "source": [
    "Because geometry optimsation is quite expensive numerically we chose a smaller basisset and G0W0 Finally, to run the calculation we just need the following command (This still takes a while)"
   ]
  },
  {
   "cell_type": "code",
   "execution_count": 1,
   "metadata": {
    "execution": {
     "iopub.execute_input": "2021-09-29T21:28:18.218709Z",
     "iopub.status.busy": "2021-09-29T21:28:18.218009Z",
     "iopub.status.idle": "2021-09-29T21:29:09.383628Z",
     "shell.execute_reply": "2021-09-29T21:29:09.382952Z"
    }
   },
   "outputs": [
    {
     "name": "stdout",
     "output_type": "stream",
     "text": [
      "==================================================\r\n",
      "========   VOTCA (http://www.votca.org)   ========\r\n",
      "==================================================\r\n",
      "\r\n",
      "please submit bugs to https://github.com/votca/xtp/issues\r\n",
      "\r\n",
      "xtp_tools, version 2022-dev gitid: 83a8cfd (compiled Sep 29 2021, 21:17:46)\r\n",
      "votca_csg, version 2022-dev gitid: 83a8cfd (compiled Sep 29 2021, 21:00:48)\r\n",
      "votca_tools, version 2022-dev gitid: 83a8cfd (compiled Sep 29 2021, 20:57:33)\r\n",
      "\r\n",
      "Initializing tool\r\n",
      "... dftgwbse Evaluating tool\r\n",
      "... dftgwbse  Using 4 threads\r\n",
      "... ... Reading structure from CO.xyz\r\n",
      "... ... Requested geometry optimization of excited state s1\r\n",
      "... ... Initial state: s1\r\n",
      "... ... WARNING: No tracker is used \r\n",
      "... ... Convergence of total energy: 0.000001 Hartree \r\n",
      "... ... Convergence of RMS Force:    0.000030 Hartree/Bohr \r\n",
      "... ... Convergence of Max Force:    0.000100 Hartree/Bohr \r\n",
      "... ... Convergence of RMS Step:     0.000600 Bohr \r\n",
      "... ... Convergence of Max Step:     0.001000 Bohr \r\n",
      "... ... Initial trust radius:        0.018897 Bohr\r\n",
      "... ... \r\n",
      "... ... =========== OPTIMIZATION SUMMARY ================================= \r\n",
      "... ... At iteration  0\r\n",
      "... ...  ---- POSITIONS (Angstrom)   \r\n",
      "... ...  Atom\t x\t  y\t  z \r\n",
      "... ...    0    +0.0000  +0.0000  +0.0000\r\n",
      "... ...    1    +1.2000  +0.0000  +0.0000\r\n",
      "... ...    Total energy:     -112.26831841 Hartree \r\n",
      "... ...    Trust radius:       0.01889726 Bohr     \r\n",
      "... ...  ---- FORCES (Hartree/Bohr)   \r\n",
      "... ...       central differences   \r\n",
      "... ...       displacement 0.0010 Angstrom   \r\n",
      "... ...  Atom\t x\t  y\t  z \r\n",
      "... ...    0    -0.1314  -0.0000  -0.0000\r\n",
      "... ...    1    +0.1314  +0.0000  +0.0000A\r\n",
      "    0.301149  2.35931e-15  5.07057e-13 -2.46586e-12  2.06893e-15   -0.0519724  -3.3509e-16  2.84336e-15  1.43479e-17    0.0176358  2.28088e-05  3.49561e-16  8.88684e-06   -0.0390288  2.01078e-15   -0.0423984  2.11689e-13   1.6057e-13  8.33129e-17 -3.26624e-16  0.000556973    -0.107096 -1.01365e-12          nan          nan          nan          nan          nan          nan          nan          nan          nan          nan          nan          nan\r\n",
      " 2.35119e-15     0.301149 -1.05867e-14  1.38182e-14   -0.0519724   2.1358e-15  8.66727e-12  1.06261e-11 -3.19809e-12 -2.28088e-05    0.0176358 -1.88967e-12   -0.0390288 -8.88684e-06   -0.0423984  1.97817e-15 -2.62077e-15   2.2321e-15  1.83532e-12  1.46308e-12    -0.107096 -0.000556973  3.75308e-15          nan          nan          nan          nan          nan          nan          nan          nan          nan          nan          nan          nan\r\n",
      " 5.07057e-13 -1.05866e-14      0.31015    0.0100838 -1.04371e-14  3.31001e-13 -0.000299525 -0.000299525  0.000117703 -1.82158e-14 -4.30905e-15  5.30572e-05 -7.24223e-15   8.5103e-14 -4.72117e-15 -2.24636e-14   -0.0492147   0.00195049 -4.68155e-05 -5.75776e-05  4.25943e-14  6.73585e-14   -0.0247722          nan          nan          nan          nan          nan          nan          nan          nan          nan          nan          nan          nan\r\n",
      "-2.46586e-12  1.38182e-14    0.0100838      0.31015  6.11824e-15  2.23781e-12  0.000299525  0.000299525 -0.000117703 -7.45603e-13  4.45852e-15 -5.30572e-05  7.48348e-15 -1.79713e-13  1.36903e-15  2.39096e-12   0.00195049   -0.0492147  5.75776e-05  4.68155e-05 -6.68645e-14  3.48565e-12    0.0247722          nan          nan          nan          nan          nan          nan          nan          nan          nan          nan          nan          nan\r\n",
      " 2.07068e-15   -0.0519724  -1.0437e-14  6.11823e-15     0.486835  2.75541e-15  7.43587e-12    4.867e-12 -3.33245e-12  1.76342e-05   -0.0136348  -1.0805e-12  -0.00830605 -1.89128e-06   -0.0301449 -2.63414e-15  -5.6816e-16  1.02024e-15  2.83799e-13  6.10808e-13    0.0549932  0.000286001  7.45084e-15          nan          nan          nan          nan          nan          nan          nan          nan          nan          nan          nan          nan\r\n",
      "  -0.0519724  2.13928e-15  3.31001e-13  2.23781e-12  2.76006e-15     0.486835 -1.78453e-16 -4.49842e-15  6.47489e-16   -0.0136348 -1.76342e-05 -6.53789e-17  1.89128e-06  -0.00830605 -2.72415e-15   -0.0301449 -2.81942e-13 -4.50331e-14 -4.02892e-16  7.42025e-18 -0.000286001    0.0549932    2.094e-14          nan          nan          nan          nan          nan          nan          nan          nan          nan          nan          nan          nan\r\n",
      "-3.35083e-16  8.66727e-12 -0.000299525  0.000299525  7.43587e-12 -1.78444e-16     0.541742     0.221509   -0.0910075 -4.87748e-15  3.45927e-12   -0.0410238  5.64677e-12 -1.39947e-15  3.44828e-12 -5.20233e-16 -5.40913e-05  4.33292e-05   -0.0133605    0.0339038 -3.34137e-11 -1.73665e-13  0.000153517          nan          nan          nan          nan          nan          nan          nan          nan          nan          nan          nan          nan\r\n",
      " 2.84351e-15  1.06261e-11 -0.000299525  0.000299525    4.867e-12 -4.49844e-15     0.221509     0.541742   -0.0910075 -4.72686e-15  4.22307e-12   -0.0410238   5.7414e-12 -1.15843e-15   1.0798e-12 -3.86016e-15 -4.33292e-05  5.40913e-05    0.0339038   -0.0133605 -3.68818e-11 -1.97302e-13  0.000153517          nan          nan          nan          nan          nan          nan          nan          nan          nan          nan          nan          nan\r\n",
      " 1.42365e-17 -3.19809e-12  0.000117703 -0.000117703 -3.33245e-12  6.47489e-16   -0.0910075   -0.0910075     0.659928  3.37389e-15 -2.40919e-12  -0.00518522 -2.96352e-13  1.88381e-16 -1.34703e-12  3.96364e-16  7.25698e-06 -7.25698e-06   -0.0047711   -0.0047711  9.74317e-12  5.20435e-14 -7.39669e-05          nan          nan          nan          nan          nan          nan          nan          nan          nan          nan          nan          nan\r\n",
      "   0.0176358 -2.28088e-05 -1.82158e-14 -7.45603e-13  1.76342e-05   -0.0136348 -4.87746e-15 -4.72699e-15  3.37404e-15     0.668107  2.71622e-15  1.00874e-17 -2.57227e-08  1.69114e-05  1.17177e-05  -0.00906009  1.65109e-12  2.24627e-13 -1.22919e-15 -1.75442e-15  0.000266143   -0.0409827 -3.14797e-12          nan          nan          nan          nan          nan          nan          nan          nan          nan          nan          nan          nan\r\n",
      " 2.28088e-05    0.0176358 -4.30903e-15  4.45843e-15   -0.0136348 -1.76342e-05  3.45927e-12  4.22307e-12 -2.40919e-12  2.69251e-15     0.668107 -8.43784e-14  1.69114e-05  2.57227e-08  -0.00906009 -1.17177e-05 -1.25174e-15  7.08102e-16  2.49711e-12  6.21382e-13   -0.0409827 -0.000266143 -3.26049e-15          nan          nan          nan          nan          nan          nan          nan          nan          nan          nan          nan          nan\r\n",
      " 3.49562e-16 -1.88967e-12  5.30572e-05 -5.30572e-05  -1.0805e-12   -6.549e-17   -0.0410238   -0.0410238  -0.00518522  1.01129e-17 -8.43784e-14     0.793012 -1.50197e-12  2.39687e-16  2.68231e-13 -1.27162e-16  2.32781e-05 -2.32781e-05   -0.0153042   -0.0153042  5.53373e-12  2.82444e-14  -3.2979e-05          nan          nan          nan          nan          nan          nan          nan          nan          nan          nan          nan          nan\r\n",
      " 8.88684e-06   -0.0390288 -7.24223e-15  7.48348e-15  -0.00830605  1.89128e-06  5.64677e-12   5.7414e-12 -2.96352e-13 -2.57227e-08  1.69114e-05 -1.50197e-12     0.954263 -4.62429e-15   -0.0128751  2.93165e-06 -3.22257e-15  4.31533e-15  2.16195e-12   2.8392e-12   -0.0198961 -9.89423e-05  3.37183e-15          nan          nan          nan          nan          nan          nan          nan          nan          nan          nan          nan          nan\r\n",
      "  -0.0390288 -8.88684e-06   8.5103e-14 -1.79713e-13 -1.89128e-06  -0.00830605 -1.39948e-15 -1.15843e-15  1.88398e-16  1.69114e-05  2.57227e-08  2.39687e-16 -4.62207e-15     0.954263 -2.93165e-06   -0.0128751 -3.80236e-13 -2.97014e-13 -1.21773e-15 -1.27041e-16  9.89423e-05   -0.0198961 -3.09967e-13          nan          nan          nan          nan          nan          nan          nan          nan          nan          nan          nan          nan\r\n",
      " 2.01433e-15   -0.0423984 -4.72123e-15  1.36901e-15   -0.0301449 -2.70599e-15  3.44828e-12   1.0798e-12 -1.34703e-12  1.17177e-05  -0.00906009  2.68231e-13   -0.0128751 -2.93165e-06     0.973646  6.00346e-15 -1.53042e-15 -2.45928e-16  1.09981e-12 -1.69449e-13    0.0229502  0.000119356  1.71157e-15          nan          nan          nan          nan          nan          nan          nan          nan          nan          nan          nan          nan\r\n",
      "  -0.0423984  1.99375e-15 -2.24635e-14  2.39096e-12 -2.62425e-15   -0.0301449 -5.20251e-16 -3.86017e-15  3.96363e-16  -0.00906009 -1.17177e-05 -1.27163e-16  2.93165e-06   -0.0128751  6.00734e-15     0.973646  5.86011e-13   6.8321e-13  6.77544e-16 -1.06874e-15 -0.000119356    0.0229502 -7.39329e-13          nan          nan          nan          nan          nan          nan          nan          nan          nan          nan          nan          nan\r\n",
      " 2.11689e-13 -2.62077e-15   -0.0492147   0.00195049 -5.68162e-16 -2.81942e-13 -5.40913e-05 -4.33292e-05  7.25698e-06  1.65109e-12 -1.25174e-15  2.32781e-05 -3.22245e-15 -3.80236e-13 -1.53042e-15  5.86011e-13      1.02126  -0.00208536  -6.4964e-05  -6.4964e-05  6.77534e-15  1.70996e-13   0.00474588          nan          nan          nan          nan          nan          nan          nan          nan          nan          nan          nan          nan\r\n",
      "  1.6057e-13   2.2321e-15   0.00195049   -0.0492147  1.02024e-15 -4.50331e-14  4.33292e-05  5.40913e-05 -7.25698e-06  2.24627e-13  7.08121e-16 -2.32781e-05  4.31535e-15 -2.97014e-13 -2.45936e-16   6.8321e-13  -0.00208536      1.02126   6.4964e-05   6.4964e-05 -9.83881e-15  2.61873e-13  -0.00474588          nan          nan          nan          nan          nan          nan          nan          nan          nan          nan          nan          nan\r\n",
      " 8.33136e-17  1.83532e-12 -4.68155e-05  5.75776e-05  2.83799e-13  -4.0289e-16   -0.0133605    0.0339038   -0.0047711 -1.22919e-15  2.49711e-12   -0.0153042  2.16195e-12 -1.21771e-15  1.09981e-12  6.77537e-16  -6.4964e-05   6.4964e-05      1.06397    0.0447959  -5.1644e-12  -2.6088e-14  4.43301e-06          nan          nan          nan          nan          nan          nan          nan          nan          nan          nan          nan          nan\r\n",
      "-3.26623e-16  1.46308e-12 -5.75776e-05  4.68155e-05  6.10808e-13  7.42157e-18    0.0339038   -0.0133605   -0.0047711  -1.7544e-15  6.21382e-13   -0.0153042   2.8392e-12 -1.26898e-16 -1.69449e-13 -1.06874e-15  -6.4964e-05   6.4964e-05    0.0447959      1.06397 -5.58609e-12 -2.91177e-14  4.43301e-06          nan          nan          nan          nan          nan          nan          nan          nan          nan          nan          nan          nan\r\n",
      "-0.000387892    0.0745851 -2.12539e-14  3.84516e-14   -0.0700284  0.000364194  1.57829e-11  1.82135e-11 -6.32563e-12 -0.000197414    0.0303992  -4.1219e-12   0.00919836 -4.57431e-05   -0.0362883  0.000188723 -4.50511e-15  2.69369e-15   3.2097e-12  2.89074e-12    -0.195058 -6.56534e-14  1.85304e-14          nan          nan          nan          nan          nan          nan          nan          nan          nan          nan          nan          nan\r\n",
      "   0.0745851  0.000387892  3.78026e-13 -2.88738e-12 -0.000364194   -0.0700284   8.1276e-14  9.80194e-14 -3.31696e-14    0.0303992  0.000197414 -2.07308e-14  4.57431e-05   0.00919836 -0.000188723   -0.0362883 -9.52272e-14  4.01123e-13   1.6706e-14   1.4803e-14 -6.56688e-14    -0.195058 -1.15925e-11          nan          nan          nan          nan          nan          nan          nan          nan          nan          nan          nan          nan\r\n",
      " 4.40554e-13  6.77087e-15   -0.0140864    0.0140864 -2.36429e-15 -5.12783e-14  2.73832e-05  2.73832e-05 -1.75236e-05 -2.42355e-12 -1.25741e-15 -8.99201e-06  1.16528e-15  1.23438e-14 -1.75508e-15    -2.04e-12   0.00609939  -0.00609939 -1.85504e-05 -1.85504e-05  -1.5943e-14 -1.09264e-11     0.941172          nan          nan          nan          nan          nan          nan          nan          nan          nan          nan          nan          nan\r\n",
      "        -nan         -nan         -nan         -nan         -nan         -nan         -nan         -nan         -nan         -nan         -nan         -nan         -nan         -nan         -nan         -nan         -nan         -nan         -nan         -nan         -nan         -nan         -nan          nan          nan          nan          nan          nan          nan          nan          nan          nan          nan          nan          nan\r\n",
      "        -nan         -nan         -nan         -nan         -nan         -nan         -nan         -nan         -nan         -nan         -nan         -nan         -nan         -nan         -nan         -nan         -nan         -nan         -nan         -nan         -nan         -nan         -nan         -nan         -nan         -nan         -nan         -nan         -nan         -nan         -nan         -nan         -nan         -nan         -nan\r\n",
      "        -nan         -nan         -nan         -nan         -nan         -nan         -nan         -nan         -nan         -nan         -nan         -nan         -nan         -nan         -nan         -nan         -nan         -nan         -nan         -nan         -nan         -nan         -nan         -nan         -nan         -nan         -nan         -nan         -nan         -nan         -nan         -nan         -nan         -nan         -nan\r\n",
      "        -nan         -nan         -nan         -nan         -nan         -nan         -nan         -nan         -nan         -nan         -nan         -nan         -nan         -nan         -nan         -nan         -nan         -nan         -nan         -nan         -nan         -nan         -nan          nan          nan          nan          nan          nan          nan          nan          nan          nan          nan          nan          nan\r\n",
      "        -nan         -nan         -nan         -nan         -nan         -nan         -nan         -nan         -nan         -nan         -nan         -nan         -nan         -nan         -nan         -nan         -nan         -nan         -nan         -nan         -nan         -nan         -nan          nan          nan          nan          nan          nan          nan          nan          nan          nan          nan          nan          nan\r\n",
      "        -nan         -nan         -nan         -nan         -nan         -nan         -nan         -nan         -nan         -nan         -nan         -nan         -nan         -nan         -nan         -nan         -nan         -nan         -nan         -nan         -nan         -nan         -nan         -nan         -nan         -nan         -nan         -nan         -nan         -nan         -nan         -nan         -nan         -nan         -nan\r\n",
      "        -nan         -nan         -nan         -nan         -nan         -nan         -nan         -nan         -nan         -nan         -nan         -nan         -nan         -nan         -nan         -nan         -nan         -nan         -nan         -nan         -nan         -nan         -nan         -nan         -nan         -nan         -nan         -nan         -nan         -nan         -nan         -nan         -nan         -nan         -nan\r\n",
      "        -nan         -nan         -nan         -nan         -nan         -nan         -nan         -nan         -nan         -nan         -nan         -nan         -nan         -nan         -nan         -nan         -nan         -nan         -nan         -nan         -nan         -nan         -nan          nan          nan          nan          nan          nan          nan          nan          nan          nan          nan          nan          nan\r\n",
      "        -nan         -nan         -nan         -nan         -nan         -nan         -nan         -nan         -nan         -nan         -nan         -nan         -nan         -nan         -nan         -nan         -nan         -nan         -nan         -nan         -nan         -nan         -nan          nan          nan          nan          nan          nan          nan          nan          nan          nan          nan          nan          nan\r\n",
      "        -nan         -nan         -nan         -nan         -nan         -nan         -nan         -nan         -nan         -nan         -nan         -nan         -nan         -nan         -nan         -nan         -nan         -nan         -nan         -nan         -nan         -nan         -nan         -nan          nan          nan          nan         -nan          nan          nan          nan         -nan          nan          nan          nan\r\n",
      "        -nan         -nan         -nan         -nan         -nan         -nan         -nan         -nan         -nan         -nan         -nan         -nan         -nan         -nan         -nan         -nan         -nan         -nan         -nan         -nan         -nan         -nan         -nan         -nan          nan          nan          nan         -nan          nan          nan          nan         -nan          nan          nan          nan\r\n",
      "        -nan         -nan         -nan         -nan         -nan         -nan         -nan         -nan         -nan         -nan         -nan         -nan         -nan         -nan         -nan         -nan         -nan         -nan         -nan         -nan         -nan         -nan         -nan         -nan         -nan         -nan         -nan         -nan         -nan         -nan         -nan         -nan         -nan         -nan         -nan\r\n",
      "B\r\n",
      "   0.0903884  1.33587e-15  2.41748e-13 -1.46971e-12  1.17208e-15   -0.0326152 -1.22975e-16  1.82836e-15 -1.29064e-17    0.0148139  1.91592e-05  2.75953e-16  1.09541e-05   -0.0481075   2.1466e-15   -0.0477612  3.00033e-13  2.51032e-13  2.17874e-16 -4.38462e-16  0.000127043   -0.0244282  -2.3574e-13         -nan         -nan         -nan         -nan         -nan         -nan         -nan         -nan         -nan         -nan         -nan         -nan\r\n",
      "  1.3282e-15    0.0903884 -3.84512e-15  5.82664e-15   -0.0326152  1.20861e-15  3.25403e-12  4.48199e-12 -1.98134e-12 -1.91592e-05    0.0148139 -1.31899e-12   -0.0481075 -1.09541e-05   -0.0477612  2.10108e-15 -2.27014e-15  1.64071e-15  1.63752e-12  1.08647e-12   -0.0244282 -0.000127043  1.00248e-14         -nan         -nan         -nan         -nan         -nan         -nan         -nan         -nan         -nan         -nan         -nan         -nan\r\n",
      " 2.41748e-13 -3.84503e-15    0.0993079   0.00552637 -6.83185e-15  2.22183e-13 -0.000146207 -0.000146207  8.45606e-05 -1.26327e-14 -2.70472e-15  4.12754e-05 -6.64392e-15  8.43313e-14 -5.85817e-15 -1.13384e-14   -0.0658246   0.00224578 -4.10565e-05 -5.55334e-05  7.15314e-15  4.83699e-13   -0.0407598         -nan         -nan         -nan         -nan         -nan         -nan         -nan         -nan         -nan         -nan         -nan         -nan\r\n",
      "-1.46971e-12  5.82665e-15   0.00552637    0.0993079  3.80378e-15   1.5655e-12  0.000146207  0.000146207 -8.45606e-05 -7.20108e-13  2.83461e-15 -4.12754e-05   6.8895e-15 -1.77822e-13  1.79851e-15  2.89933e-12   0.00224578   -0.0658246  5.55334e-05  4.10565e-05 -1.43624e-14  5.78797e-13    0.0407598         -nan         -nan         -nan         -nan         -nan         -nan         -nan         -nan         -nan         -nan         -nan         -nan\r\n",
      " 1.17266e-15   -0.0326152 -6.83181e-15  3.80378e-15     0.236624  2.69449e-15  4.81712e-12  3.02939e-12 -2.98026e-12  1.86003e-05   -0.0143817 -1.03461e-12  -0.00949938   -2.163e-06   -0.0424654 -3.90027e-15 -6.05811e-17  9.22178e-16 -8.55681e-14  5.20778e-13  -0.00359562 -1.86996e-05  6.23216e-15         -nan         -nan         -nan         -nan         -nan         -nan         -nan         -nan         -nan         -nan         -nan         -nan\r\n",
      "  -0.0326152  1.21176e-15  2.22183e-13   1.5655e-12  2.70098e-15     0.236624 -9.84714e-17 -3.11814e-15  5.84577e-16   -0.0143817 -1.86003e-05 -1.13032e-16    2.163e-06  -0.00949938 -4.01668e-15   -0.0424654 -4.61545e-13 -1.44748e-13 -5.78651e-16  2.24103e-16  1.86996e-05  -0.00359562  5.25518e-14         -nan         -nan         -nan         -nan         -nan         -nan         -nan         -nan         -nan         -nan         -nan         -nan\r\n",
      "-1.22932e-16  3.25403e-12 -0.000146207  0.000146207  4.81712e-12  -9.8473e-17     0.212355     0.107521   -0.0653822  -3.1596e-15  2.21908e-12   -0.0319141  5.18869e-12 -1.51074e-15  4.29837e-12  -5.9018e-16 -4.71721e-05  3.26952e-05   -0.0344752    0.0291037 -6.76968e-12 -3.60018e-14  0.000168464         -nan         -nan         -nan         -nan         -nan         -nan         -nan         -nan         -nan         -nan         -nan         -nan\r\n",
      "  1.8285e-15  4.48199e-12 -0.000146207  0.000146207  3.02939e-12 -3.11817e-15     0.107521     0.212355   -0.0653822 -3.02805e-15   2.9518e-12   -0.0319141  5.28221e-12 -1.26477e-15   1.4104e-12 -4.63957e-15 -3.26952e-05  4.71721e-05    0.0291037   -0.0344752 -7.82269e-12 -4.29171e-14  0.000168464         -nan         -nan         -nan         -nan         -nan         -nan         -nan         -nan         -nan         -nan         -nan         -nan\r\n",
      "-1.30226e-17 -1.98134e-12  8.45606e-05 -8.45606e-05 -2.98026e-12  5.84589e-16   -0.0653822   -0.0653822     0.424108  3.67727e-15 -2.60951e-12   -0.0112618   3.2248e-13  1.64048e-16 -1.84487e-12  5.44182e-16  9.87478e-07 -9.87478e-07 -0.000649218 -0.000649218   2.5055e-12  1.43412e-14 -0.000102649         -nan         -nan         -nan         -nan         -nan         -nan         -nan         -nan         -nan         -nan         -nan         -nan\r\n",
      "   0.0148139 -1.91592e-05 -1.26327e-14 -7.20108e-13  1.86003e-05   -0.0143817 -3.15963e-15 -3.02823e-15  3.67748e-15     0.446813  3.54591e-15   -3.692e-16  7.36414e-07 -0.000484156  1.39622e-05   -0.0107955  2.69453e-12  3.85159e-13  -1.5255e-15 -2.40733e-15   0.00011535   -0.0177625 -5.11054e-12         -nan         -nan         -nan         -nan         -nan         -nan         -nan         -nan         -nan         -nan         -nan         -nan\r\n",
      " 1.91592e-05    0.0148139  -2.7047e-15  2.83453e-15   -0.0143817 -1.86003e-05  2.21908e-12   2.9518e-12 -2.60951e-12  3.51635e-15     0.446813  1.50468e-13 -0.000484156 -7.36414e-07   -0.0107955 -1.39622e-05 -1.50484e-15  5.94738e-16  3.72013e-12  6.40431e-13   -0.0177625  -0.00011535 -3.48269e-15         -nan         -nan         -nan         -nan         -nan         -nan         -nan         -nan         -nan         -nan         -nan         -nan\r\n",
      " 2.75955e-16 -1.31899e-12  4.12754e-05 -4.12754e-05 -1.03461e-12 -1.13167e-16   -0.0319141   -0.0319141   -0.0112618 -3.69168e-16  1.50468e-13     0.627074 -2.01789e-12  3.18901e-16  5.10553e-13 -2.19935e-16  3.33486e-05 -3.33486e-05   -0.0219251   -0.0219251  1.26529e-12  6.63919e-15 -4.96569e-05         -nan         -nan         -nan         -nan         -nan         -nan         -nan         -nan         -nan         -nan         -nan         -nan\r\n",
      " 1.09541e-05   -0.0481075 -6.64391e-15   6.8895e-15  -0.00949938    2.163e-06  5.18869e-12  5.28221e-12   3.2248e-13  7.36414e-07 -0.000484156 -2.01789e-12     0.912954 -8.87612e-15   -0.0215538  4.90778e-06 -5.16392e-15  7.32867e-15  3.47798e-12  4.83043e-12   -0.0227159 -0.000112965  5.43145e-15         -nan         -nan         -nan         -nan         -nan         -nan         -nan         -nan         -nan         -nan         -nan         -nan\r\n",
      "  -0.0481075 -1.09541e-05  8.43313e-14 -1.77822e-13   -2.163e-06  -0.00949938 -1.51074e-15 -1.26476e-15  1.64073e-16 -0.000484156 -7.36414e-07  3.18902e-16 -8.87113e-15     0.912954 -4.90778e-06   -0.0215538 -7.19399e-13 -6.33048e-13 -2.19691e-15 -3.57874e-17  0.000112965   -0.0227159 -6.02807e-13         -nan         -nan         -nan         -nan         -nan         -nan         -nan         -nan         -nan         -nan         -nan         -nan\r\n",
      "  2.1515e-15   -0.0477612 -5.85823e-15  1.79849e-15   -0.0424654 -3.99172e-15  4.29837e-12   1.4104e-12 -1.84487e-12  1.39622e-05   -0.0107955  5.10553e-13   -0.0215538 -4.90778e-06     0.952113  1.16494e-14 -2.64866e-15 -5.08084e-16  1.90089e-12 -3.45404e-13  -0.00321203 -1.67047e-05   1.0416e-15         -nan         -nan         -nan         -nan         -nan         -nan         -nan         -nan         -nan         -nan         -nan         -nan\r\n",
      "  -0.0477612  2.12038e-15 -1.13384e-14  2.89933e-12  -3.8871e-15   -0.0424654 -5.90225e-16  -4.6396e-15  5.44181e-16   -0.0107955 -1.39622e-05  -2.1994e-16  4.90778e-06   -0.0215538  1.16602e-14     0.952113   1.0768e-12  1.16941e-12  1.29063e-15 -1.79918e-15  1.67047e-05  -0.00321203 -3.05123e-12         -nan         -nan         -nan         -nan         -nan         -nan         -nan         -nan         -nan         -nan         -nan         -nan\r\n",
      " 3.00033e-13 -2.27015e-15   -0.0658246   0.00224578 -6.05832e-17 -4.61545e-13 -4.71721e-05 -3.26952e-05  9.87478e-07  2.69453e-12 -1.50484e-15  3.33486e-05 -5.16367e-15 -7.19399e-13 -2.64866e-15   1.0768e-12      1.04537  -0.00439951 -0.000120554 -0.000120554  3.86604e-15 -1.41279e-13    0.0159252         -nan         -nan         -nan         -nan         -nan         -nan         -nan         -nan         -nan         -nan         -nan         -nan\r\n",
      " 2.51032e-13  1.64071e-15   0.00224578   -0.0658246   9.2218e-16 -1.44748e-13  3.26952e-05  4.71721e-05 -9.87478e-07  3.85159e-13  5.94769e-16 -3.33486e-05  7.32871e-15 -6.33048e-13 -5.08101e-16  1.16941e-12  -0.00439951      1.04537  0.000120554  0.000120554 -8.75012e-15  8.68636e-13   -0.0159252         -nan         -nan         -nan         -nan         -nan         -nan         -nan         -nan         -nan         -nan         -nan         -nan\r\n",
      " 2.17875e-16  1.63752e-12 -4.10565e-05  5.55334e-05 -8.55681e-14  -5.7865e-16   -0.0344752    0.0291037 -0.000649218  -1.5255e-15  3.72013e-12   -0.0219251  3.47798e-12 -2.19687e-15  1.90089e-12  1.29061e-15 -0.000120554  0.000120554      1.12463    0.0836575 -2.46957e-12   -1.215e-14 -1.86668e-05         -nan         -nan         -nan         -nan         -nan         -nan         -nan         -nan         -nan         -nan         -nan         -nan\r\n",
      " -4.3847e-16  1.08647e-12 -5.55334e-05  4.10565e-05  5.20778e-13  2.24105e-16    0.0291037   -0.0344752 -0.000649218  -2.4073e-15  6.40431e-13   -0.0219251  4.83043e-12 -3.54968e-17 -3.45404e-13 -1.79919e-15 -0.000120554  0.000120554    0.0836575      1.12463 -3.19403e-12 -1.70494e-14 -1.86668e-05         -nan         -nan         -nan         -nan         -nan         -nan         -nan         -nan         -nan         -nan         -nan         -nan\r\n",
      " 0.000291137   -0.0559807  2.53615e-14  -3.6382e-14  -0.00259829  1.35128e-05 -2.08614e-11  -2.2477e-11  3.16128e-12   7.1638e-05   -0.0110314  1.17554e-12   -0.0177828  8.84332e-05   -0.0179779   9.3497e-05 -4.15977e-15 -7.37095e-15  1.01909e-12 -7.47465e-13     0.583856  -6.9622e-14 -2.96528e-15         -nan         -nan         -nan         -nan         -nan         -nan         -nan         -nan         -nan         -nan         -nan         -nan\r\n",
      "  -0.0559807 -0.000291137  4.56869e-13  1.16234e-12 -1.35128e-05  -0.00259829 -1.09529e-13 -1.20418e-13  1.78205e-14   -0.0110314  -7.1638e-05  6.46925e-15 -8.84332e-05   -0.0177828  -9.3497e-05   -0.0179779  4.40587e-13   1.3175e-12   6.5111e-15  -5.1502e-15  -6.9671e-14     0.583856 -1.55531e-11         -nan         -nan         -nan         -nan         -nan         -nan         -nan         -nan         -nan         -nan         -nan         -nan\r\n",
      "-5.72999e-13   8.0314e-15   -0.0412083    0.0412083   5.6702e-15 -3.21342e-13   0.00014933   0.00014933 -8.46253e-05 -5.38671e-12 -4.11118e-15 -4.01535e-05   3.7056e-15 -5.41391e-13 -5.05108e-16 -3.20647e-12    0.0168307   -0.0168307 -2.63233e-05 -2.63233e-05 -3.68887e-14 -1.40928e-11      1.94504         -nan         -nan         -nan         -nan         -nan         -nan         -nan         -nan         -nan         -nan         -nan         -nan\r\n",
      "        -nan         -nan         -nan         -nan         -nan         -nan         -nan         -nan         -nan         -nan         -nan         -nan         -nan         -nan         -nan         -nan         -nan         -nan         -nan         -nan         -nan         -nan         -nan         -nan         -nan         -nan         -nan         -nan         -nan         -nan         -nan         -nan         -nan         -nan         -nan\r\n",
      "        -nan         -nan         -nan         -nan         -nan         -nan         -nan         -nan         -nan         -nan         -nan         -nan         -nan         -nan         -nan         -nan         -nan         -nan         -nan         -nan         -nan         -nan         -nan         -nan         -nan         -nan         -nan         -nan         -nan         -nan         -nan         -nan         -nan         -nan         -nan\r\n",
      "        -nan         -nan         -nan         -nan         -nan         -nan         -nan         -nan         -nan         -nan         -nan         -nan         -nan         -nan         -nan         -nan         -nan         -nan         -nan         -nan         -nan         -nan         -nan         -nan         -nan         -nan         -nan         -nan         -nan         -nan         -nan         -nan         -nan         -nan         -nan\r\n",
      "        -nan         -nan         -nan         -nan         -nan         -nan         -nan         -nan         -nan         -nan         -nan         -nan         -nan         -nan         -nan         -nan         -nan         -nan         -nan         -nan         -nan         -nan         -nan         -nan         -nan         -nan         -nan         -nan         -nan         -nan         -nan         -nan         -nan         -nan         -nan\r\n",
      "        -nan         -nan         -nan         -nan         -nan         -nan         -nan         -nan         -nan         -nan         -nan         -nan         -nan         -nan         -nan         -nan         -nan         -nan         -nan         -nan         -nan         -nan         -nan         -nan         -nan         -nan         -nan         -nan         -nan         -nan         -nan         -nan         -nan         -nan         -nan\r\n",
      "        -nan         -nan         -nan         -nan         -nan         -nan         -nan         -nan         -nan         -nan         -nan         -nan         -nan         -nan         -nan         -nan         -nan         -nan         -nan         -nan         -nan         -nan         -nan         -nan         -nan         -nan         -nan         -nan         -nan         -nan         -nan         -nan         -nan         -nan         -nan\r\n",
      "        -nan         -nan         -nan         -nan         -nan         -nan         -nan         -nan         -nan         -nan         -nan         -nan         -nan         -nan         -nan         -nan         -nan         -nan         -nan         -nan         -nan         -nan         -nan         -nan         -nan         -nan         -nan         -nan         -nan         -nan         -nan         -nan         -nan         -nan         -nan\r\n",
      "        -nan         -nan         -nan         -nan         -nan         -nan         -nan         -nan         -nan         -nan         -nan         -nan         -nan         -nan         -nan         -nan         -nan         -nan         -nan         -nan         -nan         -nan         -nan         -nan         -nan         -nan         -nan         -nan         -nan         -nan         -nan         -nan         -nan         -nan         -nan\r\n",
      "        -nan         -nan         -nan         -nan         -nan         -nan         -nan         -nan         -nan         -nan         -nan         -nan         -nan         -nan         -nan         -nan         -nan         -nan         -nan         -nan         -nan         -nan         -nan         -nan         -nan         -nan         -nan         -nan         -nan         -nan         -nan         -nan         -nan         -nan         -nan\r\n",
      "        -nan         -nan         -nan         -nan         -nan         -nan         -nan         -nan         -nan         -nan         -nan         -nan         -nan         -nan         -nan         -nan         -nan         -nan         -nan         -nan         -nan         -nan         -nan         -nan         -nan         -nan         -nan         -nan         -nan         -nan         -nan         -nan         -nan         -nan         -nan\r\n",
      "        -nan         -nan         -nan         -nan         -nan         -nan         -nan         -nan         -nan         -nan         -nan         -nan         -nan         -nan         -nan         -nan         -nan         -nan         -nan         -nan         -nan         -nan         -nan         -nan         -nan         -nan         -nan         -nan         -nan         -nan         -nan         -nan         -nan         -nan         -nan\r\n",
      "        -nan         -nan         -nan         -nan         -nan         -nan         -nan         -nan         -nan         -nan         -nan         -nan         -nan         -nan         -nan         -nan         -nan         -nan         -nan         -nan         -nan         -nan         -nan          nan          nan          nan          nan          nan          nan          nan          nan          nan          nan          nan          nan\r\n",
      "an error occurred:\r\n",
      "Small generalized eigenvalue problem failed.\r\n"
     ]
    }
   ],
   "source": [
    "!xtp_tools -c job_name=CO geometry_optimization.maxiter=1 dftpackage.basisset=3-21G dftpackage.auxbasisset=aux-def2-svp gwbse.gw.mode=G0W0 -e dftgwbse -t 4"
   ]
  },
  {
   "cell_type": "markdown",
   "metadata": {},
   "source": [
    "Notice that we are using 4 threads. The results will be stored in a file named `CO_summary.xml` in the current work directory, together with the optimization step in `optimisation.trj` and the orbitals in [hdf5 format](https://www.hdfgroup.org/solutions/hdf5/) saved on `CO.orb`."
   ]
  }
 ],
 "metadata": {
  "kernelspec": {
   "display_name": "Python 3",
   "language": "python",
   "name": "python3"
  },
  "language_info": {
   "codemirror_mode": {
    "name": "ipython",
    "version": 3
   },
   "file_extension": ".py",
   "mimetype": "text/x-python",
   "name": "python",
   "nbconvert_exporter": "python",
   "pygments_lexer": "ipython3",
   "version": "3.9.7"
  }
 },
 "nbformat": 4,
 "nbformat_minor": 4
}
