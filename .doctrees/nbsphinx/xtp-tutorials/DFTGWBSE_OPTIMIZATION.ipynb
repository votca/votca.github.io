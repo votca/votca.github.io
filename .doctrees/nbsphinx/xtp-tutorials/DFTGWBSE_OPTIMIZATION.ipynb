{
 "cells": [
  {
   "cell_type": "markdown",
   "metadata": {},
   "source": [
    "## DFT + GWBSE Optimization Using CO"
   ]
  },
  {
   "cell_type": "markdown",
   "metadata": {},
   "source": [
    "## Introduction\n",
    "This tutorial explains how to perform a molecular geometric optimization using the **GWBSE** method. See [the GW Compendium: A Practical Guide to Theoretical Photoemission Spectroscopy](https://doi.org/10.3389/fchem.2019.00377), for an excellent introduction to the method."
   ]
  },
  {
   "cell_type": "markdown",
   "metadata": {},
   "source": [
    "## Requirements\n",
    "* You will need to install **VOTCA** using the instructions described [here](https://github.com/votca/votca/blob/master/share/doc/INSTALL.rst)\n",
    "* Once the installation is completed you need to activate the VOTCA enviroment by running the `VOTCARC.bash` script that has been installed at the bin subfolder for the path that you have provided for the installation step above"
   ]
  },
  {
   "cell_type": "markdown",
   "metadata": {},
   "source": [
    "## Preparing the input\n",
    "To run a DFT-GWBSE calculation we will use the [xtp_tools](https://www.votca.org/xtp/xtp_tools_overview.html) calculator."
   ]
  },
  {
   "cell_type": "markdown",
   "metadata": {},
   "source": [
    "we can now change the calculator mode from single point energy calculation to optimization as follows by adding \n",
    "`-c geometry_optimization.maxiter=1` which enables optimization with one iteration. "
   ]
  },
  {
   "cell_type": "markdown",
   "metadata": {},
   "source": [
    "Because geometry optimsation is quite expensive numerically we chose a smaller basisset and G0W0 Finally, to run the calculation we just need the following command (This still takes a while)"
   ]
  },
  {
   "cell_type": "code",
   "execution_count": 1,
   "metadata": {
    "execution": {
     "iopub.execute_input": "2022-12-30T00:29:46.093828Z",
     "iopub.status.busy": "2022-12-30T00:29:46.093496Z",
     "iopub.status.idle": "2022-12-30T00:30:51.910973Z",
     "shell.execute_reply": "2022-12-30T00:30:51.910137Z"
    }
   },
   "outputs": [
    {
     "name": "stdout",
     "output_type": "stream",
     "text": [
      "==================================================\r\n",
      "========   VOTCA (http://www.votca.org)   ========\r\n",
      "==================================================\r\n",
      "\r\n",
      "please submit bugs to https://github.com/votca/xtp/issues\r\n",
      "\r\n",
      "xtp_tools, version 2023-dev gitid: cc98c65 (compiled Dec 30 2022, 00:19:03)\r\n",
      "votca_csg, version 2023-dev gitid: cc98c65 (compiled Dec 29 2022, 23:59:26)\r\n",
      "votca_tools, version 2023-dev gitid: cc98c65 (compiled Dec 29 2022, 23:55:54)\r\n",
      "\r\n",
      "Initializing tool\r\n",
      "... dftgwbse Evaluating tool\r\n",
      "... dftgwbse  Using 4 threads\r\n",
      "... ... Reading structure from CO.xyz\r\n",
      "... ... Requested geometry optimization of excited state s1\r\n",
      "... ... Initial state: s1\r\n",
      "... ... WARNING: No tracker is used \r\n",
      "... ... Convergence of total energy: 0.000001 Hartree \r\n",
      "... ... Convergence of RMS Force:    0.000030 Hartree/Bohr \r\n",
      "... ... Convergence of Max Force:    0.000100 Hartree/Bohr \r\n",
      "... ... Convergence of RMS Step:     0.000600 Bohr \r\n",
      "... ... Convergence of Max Step:     0.001000 Bohr \r\n",
      "... ... Initial trust radius:        0.018897 Bohr\r\n",
      "... ... \r\n",
      "... ... =========== OPTIMIZATION SUMMARY ================================= \r\n",
      "... ... At iteration  0\r\n",
      "... ...  ---- POSITIONS (Angstrom)   \r\n",
      "... ...  Atom\t x\t  y\t  z \r\n",
      "... ...    0    +0.0000  +0.0000  +0.0000\r\n",
      "... ...    1    +1.2000  +0.0000  +0.0000\r\n",
      "... ...    Total energy:     -112.26831841 Hartree \r\n",
      "... ...    Trust radius:       0.01889726 Bohr     \r\n",
      "... ...  ---- FORCES (Hartree/Bohr)   \r\n",
      "... ...       central differences   \r\n",
      "... ...       displacement 0.0010 Angstrom   \r\n",
      "... ...  Atom\t x\t  y\t  z \r\n",
      "... ...    0    -0.1314  -0.0000  -0.0000\r\n",
      "... ...    1    +0.1314  +0.0000  +0.0000A\r\n",
      "    0.301149 -1.39177e-12  7.77061e-10 -8.95121e-10  -1.1937e-09 -1.03717e-09   -0.0519724  1.02035e-12  5.92028e-10    0.0141005   -0.0105922  2.25008e-10   -0.0390252  0.000530291    0.0423984 -8.04996e-13  1.52031e-10  3.09956e-10 -1.91066e-10  4.02861e-10    -0.107078  -0.00205756 -5.79755e-11 -1.91716e-10          nan          nan          nan          nan          nan          nan          nan          nan          nan          nan          nan\r\n",
      "-1.39176e-12     0.301149 -1.48017e-10  3.04546e-10 -2.22016e-10 -1.03956e-10  1.02035e-12   -0.0519724 -3.01851e-12    0.0105922    0.0141005 -6.69517e-13  0.000530291    0.0390252 -8.05011e-13    0.0423984  2.09801e-10 -1.99395e-12  1.62032e-10 -4.10671e-12  -0.00205756     0.107078 -5.83687e-11 -4.45422e-11          nan          nan          nan          nan          nan          nan          nan          nan          nan          nan          nan\r\n",
      " 7.77061e-10 -1.48017e-10     0.393692   -0.0734588    -0.111214    -0.111214 -1.84879e-10  9.44513e-11    0.0546601  3.44037e-11 -1.16894e-10    0.0246394 -1.91373e-09  5.71834e-11  1.24788e-10 -3.04525e-11   -0.0360437    0.0112162   -0.0170669    0.0177091  -8.0463e-09 -3.78793e-10    0.0239707   0.00927056          nan          nan          nan          nan          nan          nan          nan          nan          nan          nan          nan\r\n",
      "-8.95121e-10  3.04546e-10   -0.0734588     0.393692     0.111214     0.111214  2.23987e-10 -1.48546e-10   -0.0546601  -3.3894e-11  1.21179e-10   -0.0246394  1.93379e-09 -3.18034e-11 -2.15477e-10  1.51753e-10   -0.0112162    0.0360437    0.0177091   -0.0170669  8.12898e-09  4.95538e-10   -0.0239707   0.00927056          nan          nan          nan          nan          nan          nan          nan          nan          nan          nan          nan\r\n",
      " -1.1937e-09 -2.22016e-10    -0.111214     0.111214     0.458199     0.137966  3.00267e-10  1.01366e-10   -0.0727646 -1.42763e-10  3.36878e-11   -0.0328004  2.57416e-09  1.01737e-11 -2.87349e-10  -1.0852e-10   -0.0168589   -0.0175011    0.0207341    0.0265257  1.08259e-08  1.09322e-10    0.0101795    0.0202329          nan          nan          nan          nan          nan          nan          nan          nan          nan          nan          nan\r\n",
      "-1.03717e-09 -1.03956e-10    -0.111214     0.111214     0.137966     0.458199  2.46173e-10  6.22584e-11   -0.0727646 -1.38478e-10  3.31781e-11   -0.0328004  2.54878e-09  3.02372e-11 -1.66049e-10 -1.78317e-11   -0.0175011   -0.0168589   -0.0265257   -0.0207341  1.07082e-08  1.92812e-10    0.0101795   -0.0202329          nan          nan          nan          nan          nan          nan          nan          nan          nan          nan          nan\r\n",
      "  -0.0519724  1.02035e-12 -1.84879e-10  2.23987e-10  3.00267e-10  2.46173e-10     0.486835 -2.44454e-13 -1.77662e-10   -0.0109016   0.00818919 -3.96538e-11   -0.0083053  0.000112856    0.0301449  2.91572e-12  9.15302e-11 -1.02571e-10 -1.25797e-10 -1.34673e-10    0.0549839   0.00105654  3.87554e-11  1.48814e-10          nan          nan          nan          nan          nan          nan          nan          nan          nan          nan          nan\r\n",
      " 1.02035e-12   -0.0519724  9.44513e-11 -1.48546e-10  1.01366e-10  6.22584e-11 -2.44454e-13     0.486835  4.02574e-12  -0.00818919   -0.0109016  1.15597e-12  0.000112856    0.0083053  2.91566e-12    0.0301449  -2.6767e-10 -7.20007e-12 -2.03748e-10  9.64771e-12   0.00105654   -0.0549839 -2.31774e-10  3.63582e-11          nan          nan          nan          nan          nan          nan          nan          nan          nan          nan          nan\r\n",
      " 5.92028e-10 -3.01851e-12    0.0546601   -0.0546601   -0.0727646   -0.0727646 -1.77662e-10  4.02574e-12     0.659928   2.6753e-10 -2.02573e-10  -0.00518518 -7.77966e-10  3.33092e-12  1.34331e-10 -2.19199e-12   0.00291715   0.00291715  -0.00377543   0.00377543 -5.23738e-09 -1.52189e-10   0.00247257  1.20184e-10          nan          nan          nan          nan          nan          nan          nan          nan          nan          nan          nan\r\n",
      "   0.0141005    0.0105922  3.44037e-11  -3.3894e-11 -1.42763e-10 -1.38478e-10   -0.0109016  -0.00818919   2.6753e-10     0.668107  7.19446e-13 -7.83067e-11  1.33845e-05 -1.03417e-05   0.00724395   0.00544159 -2.63938e-11 -2.98509e-11  1.09033e-09 -4.30971e-11    -0.033235     0.023981  8.18958e-10 -1.25437e-09          nan          nan          nan          nan          nan          nan          nan          nan          nan          nan          nan\r\n",
      "  -0.0105922    0.0141005 -1.16894e-10  1.21179e-10  3.36878e-11  3.31781e-11   0.00818919   -0.0109016 -2.02573e-10  7.19461e-13     0.668107  6.00282e-11 -1.03417e-05 -1.33845e-05  -0.00544159   0.00724395  1.07695e-09  2.97207e-11 -2.63548e-11  2.28978e-11     0.023981     0.033235  1.12303e-09  5.22745e-10          nan          nan          nan          nan          nan          nan          nan          nan          nan          nan          nan\r\n",
      " 2.25008e-10 -6.69517e-13    0.0246394   -0.0246394   -0.0328004   -0.0328004 -3.96538e-11  1.15597e-12  -0.00518518 -7.83067e-11  6.00282e-11     0.793012 -5.03134e-10  1.22497e-12  7.47807e-11 -4.88052e-13   0.00935726   0.00935726   -0.0121103    0.0121103  -1.9936e-09 -5.71559e-11   0.00100941  5.52302e-11          nan          nan          nan          nan          nan          nan          nan          nan          nan          nan          nan\r\n",
      "  -0.0390252  0.000530291 -1.91373e-09  1.93379e-09  2.57416e-09  2.54878e-09   -0.0083053  0.000112856 -7.77966e-10  1.33845e-05 -1.03417e-05 -5.03134e-10     0.954263  -3.9968e-13    0.0128739 -0.000174936 -1.23425e-09 -1.12742e-09  1.59847e-09  -1.4581e-09   -0.0198856 -0.000652495   -1.157e-10 -4.86176e-11          nan          nan          nan          nan          nan          nan          nan          nan          nan          nan          nan\r\n",
      " 0.000530291    0.0390252  5.71834e-11 -3.18034e-11  1.01737e-11  3.02372e-11  0.000112856    0.0083053  3.33092e-12 -1.03417e-05 -1.33845e-05  1.22497e-12  -3.9968e-13     0.954263 -0.000174936   -0.0128739 -5.78807e-11  8.24922e-11 -5.28027e-11 -5.40294e-11  0.000652495   -0.0198856  3.45552e-11  1.23684e-11          nan          nan          nan          nan          nan          nan          nan          nan          nan          nan          nan\r\n",
      "   0.0423984 -8.05012e-13  1.24788e-10 -2.15477e-10 -2.87349e-10 -1.66049e-10    0.0301449  2.91566e-12  1.34331e-10   0.00724395  -0.00544159  7.47807e-11    0.0128739 -0.000174936     0.973645  1.57548e-12  1.21338e-10  3.25523e-11 -1.59656e-10  4.18576e-11   -0.0229463 -0.000440923 -1.80336e-11  1.69525e-10          nan          nan          nan          nan          nan          nan          nan          nan          nan          nan          nan\r\n",
      "-8.04996e-13    0.0423984 -3.04525e-11  1.51753e-10  -1.0852e-10 -1.78317e-11  2.91572e-12    0.0301449 -2.19199e-12   0.00544159   0.00724395 -4.88052e-13 -0.000174936   -0.0128739  1.57547e-12     0.973645 -1.25863e-10  -8.0639e-12 -9.42617e-11  5.47596e-12 -0.000440923    0.0229463 -5.39569e-10  4.43374e-11          nan          nan          nan          nan          nan          nan          nan          nan          nan          nan          nan\r\n",
      " 1.52031e-10  2.09801e-10   -0.0360437   -0.0112162   -0.0168589   -0.0175011  9.15302e-11  -2.6767e-10   0.00291715 -2.63938e-11  1.07695e-09   0.00935726 -1.23425e-09 -5.78807e-11  1.21338e-10 -1.25863e-10      1.03722    0.0180518   -0.0206643    0.0206643 -1.53741e-09  2.06453e-11  -0.00300907 -0.000101736          nan          nan          nan          nan          nan          nan          nan          nan          nan          nan          nan\r\n",
      " 3.09956e-10 -1.99395e-12    0.0112162    0.0360437   -0.0175011   -0.0168589 -1.02571e-10 -7.20007e-12   0.00291715 -2.98509e-11  2.97207e-11   0.00935726 -1.12742e-09  8.24922e-11  3.25523e-11  -8.0639e-12    0.0180518      1.03722   -0.0206643    0.0206643 -1.58714e-09 -4.94378e-11  -0.00300907  0.000101736          nan          nan          nan          nan          nan          nan          nan          nan          nan          nan          nan\r\n",
      "-1.91066e-10  1.62032e-10   -0.0170669    0.0177091    0.0207341   -0.0265257 -1.25797e-10 -2.03748e-10  -0.00377543  1.09033e-09 -2.63548e-11   -0.0121103  1.59847e-09 -5.28027e-11 -1.59656e-10 -9.42617e-11   -0.0206643   -0.0206643        1.048   -0.0288294   1.9833e-09  1.04146e-10   -0.0042976  0.000306249          nan          nan          nan          nan          nan          nan          nan          nan          nan          nan          nan\r\n",
      " 4.02861e-10 -4.10671e-12    0.0177091   -0.0170669    0.0265257   -0.0207341 -1.34673e-10  9.64771e-12   0.00377543 -4.30971e-11  2.28978e-11    0.0121103  -1.4581e-09 -5.40294e-11  4.18576e-11  5.47596e-12    0.0206643    0.0206643   -0.0288294        1.048 -2.05338e-09 -5.44462e-11    0.0042976  0.000306249          nan          nan          nan          nan          nan          nan          nan          nan          nan          nan          nan\r\n",
      "   0.0745723   0.00143294  5.50511e-09  -5.5198e-09 -7.34814e-09 -7.32502e-09   -0.0700164   -0.0013454  4.10445e-09    0.0246523   -0.0177881  1.74348e-09   0.00919353 -0.000301662    0.0362821  0.000697177  1.24501e-09  1.27416e-09 -1.60632e-09  1.64696e-09    -0.195058  -8.5319e-12  3.69812e-10  2.05094e-09          nan          nan          nan          nan          nan          nan          nan          nan          nan          nan          nan\r\n",
      "  0.00143294   -0.0745723  4.12583e-10 -4.35473e-10 -8.56619e-12 -2.33692e-11   -0.0013454    0.0700164  1.19557e-10   -0.0177881   -0.0246523  4.96733e-11  0.000301662   0.00919353  0.000697177   -0.0362821 -4.47866e-11  -4.3447e-12 -1.09808e-10  8.04607e-11 -8.53187e-12    -0.195058  6.14656e-09 -4.91593e-10          nan          nan          nan          nan          nan          nan          nan          nan          nan          nan          nan\r\n",
      " 1.10756e-11  8.01247e-10   0.00574294  -0.00574294    0.0178639    0.0178639 -5.45154e-11 -7.01133e-10  -0.00428357  1.15723e-09  1.47228e-09   -0.0018402  1.39837e-10 -1.19901e-10  1.44593e-11  3.11291e-11  -0.00558713  -0.00558713  -0.00311017   0.00311017  8.09979e-10  6.30206e-09      1.05451  -4.2992e-11          nan          nan          nan          nan          nan          nan          nan          nan          nan          nan          nan\r\n",
      "-3.61373e-10 -9.51701e-11  -0.00266906  -0.00266906  -0.00552773   0.00552773   4.2377e-10  1.11161e-10  -7.6938e-11 -1.21247e-09  4.99405e-10 -3.77365e-11 -1.51538e-10  3.97245e-11  2.37278e-10  5.82989e-11  -0.00187405   0.00187405   0.00425999   0.00425999  2.24932e-09 -5.37088e-10 -2.85365e-11     0.125977          nan          nan          nan          nan          nan          nan          nan          nan          nan          nan          nan\r\n",
      "        -nan         -nan         -nan         -nan         -nan         -nan         -nan         -nan         -nan         -nan         -nan         -nan         -nan         -nan         -nan         -nan         -nan         -nan         -nan         -nan         -nan         -nan         -nan         -nan         -nan         -nan         -nan         -nan         -nan         -nan         -nan         -nan         -nan         -nan         -nan\r\n",
      "        -nan         -nan         -nan         -nan         -nan         -nan         -nan         -nan         -nan         -nan         -nan         -nan         -nan         -nan         -nan         -nan         -nan         -nan         -nan         -nan         -nan         -nan         -nan         -nan         -nan         -nan         -nan         -nan         -nan         -nan         -nan         -nan         -nan         -nan         -nan\r\n",
      "        -nan         -nan         -nan         -nan         -nan         -nan         -nan         -nan         -nan         -nan         -nan         -nan         -nan         -nan         -nan         -nan         -nan         -nan         -nan         -nan         -nan         -nan         -nan         -nan          nan          nan          nan          nan          nan          nan          nan          nan          nan          nan          nan\r\n",
      "        -nan         -nan         -nan         -nan         -nan         -nan         -nan         -nan         -nan         -nan         -nan         -nan         -nan         -nan         -nan         -nan         -nan         -nan         -nan         -nan         -nan         -nan         -nan         -nan          nan          nan          nan          nan          nan          nan          nan          nan          nan          nan          nan\r\n",
      "        -nan         -nan         -nan         -nan         -nan         -nan         -nan         -nan         -nan         -nan         -nan         -nan         -nan         -nan         -nan         -nan         -nan         -nan         -nan         -nan         -nan         -nan         -nan         -nan         -nan         -nan         -nan         -nan         -nan         -nan         -nan         -nan         -nan         -nan         -nan\r\n",
      "        -nan         -nan         -nan         -nan         -nan         -nan         -nan         -nan         -nan         -nan         -nan         -nan         -nan         -nan         -nan         -nan         -nan         -nan         -nan         -nan         -nan         -nan         -nan         -nan         -nan         -nan         -nan         -nan         -nan         -nan         -nan         -nan         -nan         -nan         -nan\r\n",
      "        -nan         -nan         -nan         -nan         -nan         -nan         -nan         -nan         -nan         -nan         -nan         -nan         -nan         -nan         -nan         -nan         -nan         -nan         -nan         -nan         -nan         -nan         -nan         -nan          nan          nan          nan          nan          nan          nan          nan          nan          nan          nan          nan\r\n",
      "        -nan         -nan         -nan         -nan         -nan         -nan         -nan         -nan         -nan         -nan         -nan         -nan         -nan         -nan         -nan         -nan         -nan         -nan         -nan         -nan         -nan         -nan         -nan         -nan          nan          nan          nan          nan          nan          nan          nan          nan          nan          nan          nan\r\n",
      "        -nan         -nan         -nan         -nan         -nan         -nan         -nan         -nan         -nan         -nan         -nan         -nan         -nan         -nan         -nan         -nan         -nan         -nan         -nan         -nan         -nan         -nan         -nan         -nan          nan          nan          nan         -nan          nan          nan          nan         -nan          nan          nan          nan\r\n",
      "        -nan         -nan         -nan         -nan         -nan         -nan         -nan         -nan         -nan         -nan         -nan         -nan         -nan         -nan         -nan         -nan         -nan         -nan         -nan         -nan         -nan         -nan         -nan         -nan          nan          nan          nan         -nan          nan          nan          nan         -nan          nan          nan          nan\r\n",
      "        -nan         -nan         -nan         -nan         -nan         -nan         -nan         -nan         -nan         -nan         -nan         -nan         -nan         -nan         -nan         -nan         -nan         -nan         -nan         -nan         -nan         -nan         -nan         -nan         -nan         -nan         -nan         -nan         -nan         -nan         -nan         -nan         -nan         -nan         -nan\r\n",
      "B\r\n",
      "   0.0903883 -6.20668e-13  2.86384e-10  -3.6131e-10 -4.82034e-10 -3.82707e-10   -0.0326152  6.25737e-13  3.66711e-10    0.0118443  -0.00889734  1.49744e-10   -0.0481031  0.000653644    0.0477611 -9.23926e-13  1.00087e-10  3.13238e-10 -1.21652e-10  4.07455e-10    -0.024424 -0.000469318 -4.09762e-11 -4.92928e-10         -nan         -nan         -nan         -nan         -nan         -nan         -nan         -nan         -nan         -nan         -nan\r\n",
      "-6.20668e-13    0.0903883 -7.28063e-11  1.72133e-10 -1.26869e-10 -5.19424e-11  6.25748e-13   -0.0326152  -1.8686e-12   0.00889734    0.0118443 -4.02154e-13  0.000653644    0.0481031  -9.2394e-13    0.0477611  2.96362e-10  1.05595e-11  2.27739e-10 -1.45874e-11 -0.000469318     0.024424  7.67145e-10  -1.2495e-10         -nan         -nan         -nan         -nan         -nan         -nan         -nan         -nan         -nan         -nan         -nan\r\n",
      " 2.86384e-10 -7.28063e-11     0.140087   -0.0352531   -0.0542867   -0.0542867 -9.07544e-11  6.43044e-11    0.0392692  2.50805e-11 -9.98321e-11     0.019168 -2.06153e-09   6.4824e-11  1.07423e-10 -3.15676e-11   -0.0543063   0.00926662   -0.0149299    0.0157938 -4.06716e-10  9.20704e-11    0.0314147   0.00662702         -nan         -nan         -nan         -nan         -nan         -nan         -nan         -nan         -nan         -nan         -nan\r\n",
      " -3.6131e-10  1.72133e-10   -0.0352531     0.140087    0.0542867    0.0542867  1.22455e-10 -1.07807e-10   -0.0392692 -2.46037e-11   1.0534e-10    -0.019168  2.09112e-09 -2.73342e-11 -2.24012e-10  1.87326e-10  -0.00926662    0.0543063    0.0157938   -0.0149299  4.76224e-10   3.8721e-12   -0.0314147   0.00662702         -nan         -nan         -nan         -nan         -nan         -nan         -nan         -nan         -nan         -nan         -nan\r\n",
      "-4.82034e-10 -1.26869e-10   -0.0542867    0.0542867     0.171575     0.066741  1.64442e-10  7.49178e-11    -0.052276 -1.20926e-10  2.49338e-11   -0.0255168  2.78331e-09  4.73615e-12 -2.98742e-10 -1.34801e-10    -0.014431   -0.0152948    0.0175887    0.0459842  6.38815e-10  2.77858e-11    0.0290812     0.014745         -nan         -nan         -nan         -nan         -nan         -nan         -nan         -nan         -nan         -nan         -nan\r\n",
      "-3.82707e-10 -5.19424e-11   -0.0542867    0.0542867     0.066741     0.171575  1.20939e-10  4.32176e-11    -0.052276 -1.15418e-10   2.4457e-11   -0.0255168  2.74583e-09  3.43319e-11 -1.42983e-10 -1.82119e-11   -0.0152948    -0.014431   -0.0459842   -0.0175887  5.42241e-10   9.7959e-11    0.0290812    -0.014745         -nan         -nan         -nan         -nan         -nan         -nan         -nan         -nan         -nan         -nan         -nan\r\n",
      "  -0.0326152  6.25744e-13 -9.07544e-11  1.22455e-10  1.64442e-10  1.20939e-10     0.236624 -1.37621e-13 -1.35483e-10   -0.0114988    0.0086378 -2.41282e-11  -0.00949851   0.00012907    0.0424653  4.00114e-12  1.64677e-10 -1.25025e-10 -2.24022e-10 -1.64598e-10  -0.00359498 -6.90793e-05 -5.49006e-12  4.70514e-10         -nan         -nan         -nan         -nan         -nan         -nan         -nan         -nan         -nan         -nan         -nan\r\n",
      "  6.2574e-13   -0.0326152  6.43044e-11 -1.07807e-10  7.49178e-11  4.32176e-11  -1.3762e-13     0.236624  3.38608e-12   -0.0086378   -0.0114988  9.82349e-13   0.00012907   0.00949851  4.00107e-12    0.0424653 -4.01791e-10 -1.31713e-11 -3.04981e-10  1.52798e-11 -6.90793e-05   0.00359498 -8.21119e-10   1.2098e-10         -nan         -nan         -nan         -nan         -nan         -nan         -nan         -nan         -nan         -nan         -nan\r\n",
      " 3.66711e-10  -1.8686e-12    0.0392692   -0.0392692    -0.052276    -0.052276 -1.35483e-10  3.38608e-12     0.424108  3.27581e-10 -2.48357e-10   -0.0112617 -9.32861e-10  4.47508e-12  1.82484e-10  -2.9877e-12  0.000396956  0.000396956 -0.000513748  0.000513748 -1.09383e-09 -3.46519e-11  -0.00119925  3.11414e-11         -nan         -nan         -nan         -nan         -nan         -nan         -nan         -nan         -nan         -nan         -nan\r\n",
      "   0.0118443   0.00889734  2.50805e-11 -2.46037e-11 -1.20926e-10 -1.15418e-10   -0.0114988   -0.0086378  3.27581e-10     0.446812  9.46518e-13 -1.11457e-10 -0.000383113  0.000296019   0.00863151   0.00648391  -4.7597e-11 -5.34126e-11  1.82835e-09 -7.84685e-11   -0.0144045    0.0103937  1.80322e-09 -2.22984e-09         -nan         -nan         -nan         -nan         -nan         -nan         -nan         -nan         -nan         -nan         -nan\r\n",
      " -0.00889734    0.0118443 -9.98321e-11   1.0534e-10  2.49338e-11   2.4457e-11    0.0086378   -0.0114988 -2.48357e-10  9.46539e-13     0.446812   8.5193e-11  0.000296019  0.000383113  -0.00648391   0.00863151  1.80394e-09    5.406e-11 -4.71858e-11  4.13702e-11    0.0103937    0.0144045  2.37876e-09  9.24353e-10         -nan         -nan         -nan         -nan         -nan         -nan         -nan         -nan         -nan         -nan         -nan\r\n",
      " 1.49744e-10 -4.02154e-13     0.019168    -0.019168   -0.0255168   -0.0255168 -2.41282e-11   9.8235e-13   -0.0112617 -1.11457e-10   8.5193e-11     0.627074 -6.54358e-10  1.54699e-12  1.02976e-10 -5.70175e-13    0.0134054    0.0134054   -0.0173495    0.0173495 -2.09507e-10 -7.89655e-12 -0.000495894  1.17603e-11         -nan         -nan         -nan         -nan         -nan         -nan         -nan         -nan         -nan         -nan         -nan\r\n",
      "  -0.0481031  0.000653644 -2.06153e-09  2.09112e-09  2.78331e-09  2.74583e-09  -0.00949851   0.00012907 -9.32861e-10 -0.000383113  0.000296019 -6.54358e-10     0.912954 -7.12695e-13    0.0215518 -0.000292854  -2.2168e-09 -2.00018e-09   2.8712e-09  -2.5866e-09   -0.0227039 -0.000744971 -5.07525e-11 -2.53939e-10         -nan         -nan         -nan         -nan         -nan         -nan         -nan         -nan         -nan         -nan         -nan\r\n",
      " 0.000653644    0.0481031   6.4824e-11 -2.73342e-11  4.73615e-12  3.43319e-11   0.00012907   0.00949851  4.47508e-12  0.000296019  0.000383113  1.54699e-12 -7.12695e-13     0.912954 -0.000292854   -0.0215518 -1.23045e-10  1.61556e-10 -1.09594e-10 -1.07022e-10  0.000744971   -0.0227039 -1.07732e-10  6.63755e-11         -nan         -nan         -nan         -nan         -nan         -nan         -nan         -nan         -nan         -nan         -nan\r\n",
      "   0.0477611 -9.23942e-13  1.07423e-10 -2.24012e-10 -2.98742e-10 -1.42983e-10    0.0424653  4.00107e-12  1.82484e-10   0.00863151  -0.00648391  1.02976e-10    0.0215518 -0.000292854     0.952112  2.99267e-12  1.99692e-10  4.95496e-11 -2.62779e-10  6.36937e-11   0.00321146  6.17097e-05 -7.22758e-12  3.00227e-10         -nan         -nan         -nan         -nan         -nan         -nan         -nan         -nan         -nan         -nan         -nan\r\n",
      "-9.23926e-13    0.0477611 -3.15676e-11  1.87326e-10 -1.34801e-10 -1.82119e-11  4.00114e-12    0.0424653  -2.9877e-12   0.00648391   0.00863151 -5.70175e-13 -0.000292854   -0.0215518  2.99267e-12     0.952112 -2.08598e-10 -9.51329e-12 -1.56282e-10  6.13963e-12  6.17097e-05  -0.00321146 -4.81142e-10  7.55299e-11         -nan         -nan         -nan         -nan         -nan         -nan         -nan         -nan         -nan         -nan         -nan\r\n",
      " 1.00087e-10  2.96362e-10   -0.0543063  -0.00926662    -0.014431   -0.0152948  1.64677e-10 -4.01791e-10  0.000396956  -4.7597e-11  1.80394e-09    0.0134054  -2.2168e-09 -1.23045e-10  1.99692e-10 -2.08598e-10        1.075    0.0340286   -0.0383467    0.0383467 -4.73084e-10  1.03228e-10   -0.0122813  -0.00269865         -nan         -nan         -nan         -nan         -nan         -nan         -nan         -nan         -nan         -nan         -nan\r\n",
      " 3.13238e-10  1.05595e-11   0.00926662    0.0543063   -0.0152948    -0.014431 -1.25025e-10 -1.31713e-11  0.000396956 -5.34126e-11    5.406e-11    0.0134054 -2.00018e-09  1.61556e-10  4.95496e-11 -9.51329e-12    0.0340286        1.075   -0.0383467    0.0383467 -5.95703e-10   -6.916e-11   -0.0122813   0.00269865         -nan         -nan         -nan         -nan         -nan         -nan         -nan         -nan         -nan         -nan         -nan\r\n",
      "-1.21652e-10  2.27739e-10   -0.0149299    0.0157938    0.0175887   -0.0459842 -2.24022e-10 -3.04981e-10 -0.000513748  1.82835e-09 -4.71858e-11   -0.0173495   2.8712e-09 -1.09594e-10 -2.62779e-10 -1.56282e-10   -0.0383467   -0.0383467        1.095   -0.0540284  5.99938e-10  1.02761e-10   -0.0113697   0.00626704         -nan         -nan         -nan         -nan         -nan         -nan         -nan         -nan         -nan         -nan         -nan\r\n",
      " 4.07455e-10 -1.45874e-11    0.0157938   -0.0149299    0.0459842   -0.0175887 -1.64598e-10  1.52798e-11  0.000513748 -7.84685e-11  4.13702e-11    0.0173495  -2.5866e-09 -1.07022e-10  6.36937e-11  6.13963e-12    0.0383467    0.0383467   -0.0540284        1.095 -7.72035e-10  1.95348e-11    0.0113697   0.00626704         -nan         -nan         -nan         -nan         -nan         -nan         -nan         -nan         -nan         -nan         -nan\r\n",
      "  -0.0559711  -0.00107551 -3.94056e-09  4.00585e-09  5.34066e-09  5.24895e-09  -0.00259782 -4.99183e-05 -1.12172e-09  -0.00894591   0.00645501 -2.78296e-10   -0.0177734   0.00058319    0.0179748  0.000345394   5.3357e-11  7.97087e-11 -6.31578e-11  9.82575e-11     0.583856 -9.32311e-12  2.88249e-10  1.88395e-09         -nan         -nan         -nan         -nan         -nan         -nan         -nan         -nan         -nan         -nan         -nan\r\n",
      " -0.00107551    0.0559711 -6.54537e-11  1.56357e-10  1.05609e-10  1.71738e-10 -4.99183e-05   0.00259782 -3.01724e-11   0.00645501   0.00894591 -7.18946e-12  -0.00058319   -0.0177734  0.000345394   -0.0179748 -1.40659e-10 -1.05874e-10 -1.16199e-10  8.95163e-11 -9.32311e-12     0.583856  4.55743e-09 -4.38466e-10         -nan         -nan         -nan         -nan         -nan         -nan         -nan         -nan         -nan         -nan         -nan\r\n",
      " -6.3736e-11  4.40559e-10    0.0320217   -0.0320217    0.0290638    0.0290638 -2.65123e-12 -8.80023e-10  -0.00250772  1.66376e-09  2.19044e-09  -0.00128185  9.19207e-11 -7.09077e-11 -9.74207e-12 -6.10388e-10   -0.0136533   -0.0136533   -0.0110408    0.0110408  7.59591e-10  5.05991e-09      2.11726 -4.30614e-11         -nan         -nan         -nan         -nan         -nan         -nan         -nan         -nan         -nan         -nan         -nan\r\n",
      "-4.54884e-10 -1.13779e-10    0.0075523    0.0075523    0.0168402   -0.0168402  4.32257e-10  1.10834e-10  4.56393e-11 -2.22562e-09  9.21653e-10  1.83346e-11 -2.73747e-10  7.09617e-11  3.24721e-10  8.04929e-11  -0.00316921   0.00316921   0.00729416   0.00729416  2.35922e-09 -5.49728e-10 -2.85084e-11     0.820536         -nan         -nan         -nan         -nan         -nan         -nan         -nan         -nan         -nan         -nan         -nan\r\n",
      "        -nan         -nan         -nan         -nan         -nan         -nan         -nan         -nan         -nan         -nan         -nan         -nan         -nan         -nan         -nan         -nan         -nan         -nan         -nan         -nan         -nan         -nan         -nan         -nan         -nan         -nan         -nan         -nan         -nan         -nan         -nan         -nan         -nan         -nan         -nan\r\n",
      "        -nan         -nan         -nan         -nan         -nan         -nan         -nan         -nan         -nan         -nan         -nan         -nan         -nan         -nan         -nan         -nan         -nan         -nan         -nan         -nan         -nan         -nan         -nan         -nan         -nan         -nan         -nan         -nan         -nan         -nan         -nan         -nan         -nan         -nan         -nan\r\n",
      "        -nan         -nan         -nan         -nan         -nan         -nan         -nan         -nan         -nan         -nan         -nan         -nan         -nan         -nan         -nan         -nan         -nan         -nan         -nan         -nan         -nan         -nan         -nan         -nan         -nan         -nan         -nan         -nan         -nan         -nan         -nan         -nan         -nan         -nan         -nan\r\n",
      "        -nan         -nan         -nan         -nan         -nan         -nan         -nan         -nan         -nan         -nan         -nan         -nan         -nan         -nan         -nan         -nan         -nan         -nan         -nan         -nan         -nan         -nan         -nan         -nan         -nan         -nan         -nan         -nan         -nan         -nan         -nan         -nan         -nan         -nan         -nan\r\n",
      "        -nan         -nan         -nan         -nan         -nan         -nan         -nan         -nan         -nan         -nan         -nan         -nan         -nan         -nan         -nan         -nan         -nan         -nan         -nan         -nan         -nan         -nan         -nan         -nan         -nan         -nan         -nan         -nan         -nan         -nan         -nan         -nan         -nan         -nan         -nan\r\n",
      "        -nan         -nan         -nan         -nan         -nan         -nan         -nan         -nan         -nan         -nan         -nan         -nan         -nan         -nan         -nan         -nan         -nan         -nan         -nan         -nan         -nan         -nan         -nan         -nan         -nan         -nan         -nan         -nan         -nan         -nan         -nan         -nan         -nan         -nan         -nan\r\n",
      "        -nan         -nan         -nan         -nan         -nan         -nan         -nan         -nan         -nan         -nan         -nan         -nan         -nan         -nan         -nan         -nan         -nan         -nan         -nan         -nan         -nan         -nan         -nan         -nan         -nan         -nan         -nan         -nan         -nan         -nan         -nan         -nan         -nan         -nan         -nan\r\n",
      "        -nan         -nan         -nan         -nan         -nan         -nan         -nan         -nan         -nan         -nan         -nan         -nan         -nan         -nan         -nan         -nan         -nan         -nan         -nan         -nan         -nan         -nan         -nan         -nan         -nan         -nan         -nan         -nan         -nan         -nan         -nan         -nan         -nan         -nan         -nan\r\n",
      "        -nan         -nan         -nan         -nan         -nan         -nan         -nan         -nan         -nan         -nan         -nan         -nan         -nan         -nan         -nan         -nan         -nan         -nan         -nan         -nan         -nan         -nan         -nan         -nan         -nan         -nan         -nan         -nan         -nan         -nan         -nan         -nan         -nan         -nan         -nan\r\n",
      "        -nan         -nan         -nan         -nan         -nan         -nan         -nan         -nan         -nan         -nan         -nan         -nan         -nan         -nan         -nan         -nan         -nan         -nan         -nan         -nan         -nan         -nan         -nan         -nan         -nan         -nan         -nan         -nan         -nan         -nan         -nan         -nan         -nan         -nan         -nan\r\n",
      "        -nan         -nan         -nan         -nan         -nan         -nan         -nan         -nan         -nan         -nan         -nan         -nan         -nan         -nan         -nan         -nan         -nan         -nan         -nan         -nan         -nan         -nan         -nan         -nan          nan          nan          nan          nan          nan          nan          nan          nan          nan          nan          nan\r\n",
      "an error occurred:\r\n",
      "Small generalized eigenvalue problem failed.\r\n"
     ]
    }
   ],
   "source": [
    "!xtp_tools -c job_name=CO geometry_optimization.maxiter=1 dftpackage.basisset=3-21G dftpackage.auxbasisset=aux-def2-svp gwbse.gw.mode=G0W0 -e dftgwbse -t 4"
   ]
  },
  {
   "cell_type": "markdown",
   "metadata": {},
   "source": [
    "Notice that we are using 4 threads. The results will be stored in a file named `CO_summary.xml` in the current work directory, together with the optimization step in `optimisation.trj` and the orbitals in [hdf5 format](https://www.hdfgroup.org/solutions/hdf5/) saved on `CO.orb`."
   ]
  }
 ],
 "metadata": {
  "kernelspec": {
   "display_name": "Python 3",
   "language": "python",
   "name": "python3"
  },
  "language_info": {
   "codemirror_mode": {
    "name": "ipython",
    "version": 3
   },
   "file_extension": ".py",
   "mimetype": "text/x-python",
   "name": "python",
   "nbconvert_exporter": "python",
   "pygments_lexer": "ipython3",
   "version": "3.11.0"
  }
 },
 "nbformat": 4,
 "nbformat_minor": 4
}
