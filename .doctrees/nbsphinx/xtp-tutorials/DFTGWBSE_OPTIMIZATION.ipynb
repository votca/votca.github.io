{
 "cells": [
  {
   "cell_type": "markdown",
   "metadata": {},
   "source": [
    "## DFT + GWBSE Optimization Using CO"
   ]
  },
  {
   "cell_type": "markdown",
   "metadata": {},
   "source": [
    "## Introduction\n",
    "This tutorial explains how to perform a molecular geometric optimization using the **GWBSE** method. See [the GW Compendium: A Practical Guide to Theoretical Photoemission Spectroscopy](https://doi.org/10.3389/fchem.2019.00377), for an excellent introduction to the method."
   ]
  },
  {
   "cell_type": "markdown",
   "metadata": {},
   "source": [
    "## Requirements\n",
    "* You will need to install **VOTCA** using the instructions described [here](https://github.com/votca/votca/blob/master/share/doc/INSTALL.rst)\n",
    "* Once the installation is completed you need to activate the VOTCA enviroment by running the `VOTCARC.bash` script that has been installed at the bin subfolder for the path that you have provided for the installation step above"
   ]
  },
  {
   "cell_type": "markdown",
   "metadata": {},
   "source": [
    "## Preparing the input\n",
    "To run a DFT-GWBSE calculation we will use the [xtp_tools](https://www.votca.org/xtp/xtp_tools_overview.html) calculator."
   ]
  },
  {
   "cell_type": "markdown",
   "metadata": {},
   "source": [
    "we can now change the calculator mode from single point energy calculation to optimization as follows by adding \n",
    "`-c geometry_optimization.maxiter=1` which enables optimization with one iteration. "
   ]
  },
  {
   "cell_type": "markdown",
   "metadata": {},
   "source": [
    "Because geometry optimsation is quite expensive numerically we chose a smaller basisset and G0W0 Finally, to run the calculation we just need the following command (This still takes a while)"
   ]
  },
  {
   "cell_type": "code",
   "execution_count": 1,
   "metadata": {
    "execution": {
     "iopub.execute_input": "2021-08-20T06:21:22.953950Z",
     "iopub.status.busy": "2021-08-20T06:21:22.953212Z",
     "iopub.status.idle": "2021-08-20T06:22:01.163656Z",
     "shell.execute_reply": "2021-08-20T06:22:01.164078Z"
    }
   },
   "outputs": [
    {
     "name": "stdout",
     "output_type": "stream",
     "text": [
      "==================================================\r\n",
      "========   VOTCA (http://www.votca.org)   ========\r\n",
      "==================================================\r\n",
      "\r\n",
      "please submit bugs to https://github.com/votca/xtp/issues\r\n",
      "\r\n",
      "xtp_tools, version 2022-dev gitid: 7a5a47f (compiled Aug 20 2021, 06:11:48)\r\n",
      "votca_csg, version 2022-dev gitid: 7a5a47f (compiled Aug 20 2021, 05:55:05)\r\n",
      "votca_tools, version 2022-dev gitid: 7a5a47f (compiled Aug 20 2021, 05:52:06)\r\n",
      "\r\n",
      "Initializing tool\r\n",
      "... dftgwbse Evaluating tool\r\n",
      "... dftgwbse  Using 4 threads\r\n",
      "... ... Reading structure from CO.xyz\r\n",
      "... ... Requested geometry optimization of excited state s1\r\n",
      "... ... Initial state: s1\r\n",
      "... ... WARNING: No tracker is used \r\n",
      "... ... Convergence of total energy: 0.000001 Hartree \r\n",
      "... ... Convergence of RMS Force:    0.000030 Hartree/Bohr \r\n",
      "... ... Convergence of Max Force:    0.000100 Hartree/Bohr \r\n",
      "... ... Convergence of RMS Step:     0.000600 Bohr \r\n",
      "... ... Convergence of Max Step:     0.001000 Bohr \r\n",
      "... ... Initial trust radius:        0.018897 BohrA\r\n",
      "    0.307132 -3.10971e-11  4.46924e-11 -2.30855e-10  2.35617e-11   -0.0516061  8.55427e-10    7.789e-10 -3.22586e-10    0.0181637  -0.00105927 -7.14955e-11    0.0103263    0.0375826  -2.0321e-11    0.0421019 -2.33037e-10  1.30519e-10 -3.01459e-10 -1.07303e-10  0.000482247    -0.108408 -1.28147e-10          nan          nan          nan          nan          nan          nan          nan          nan          nan          nan          nan          nan\r\n",
      "-3.10971e-11     0.307132 -1.47149e-10  7.06229e-11   -0.0516061  2.35617e-11    9.004e-10  1.08656e-09 -1.97461e-10   0.00105927    0.0181637 -2.25171e-10    0.0375826   -0.0103263    0.0421019  -2.0321e-11 -1.94211e-11  2.13577e-10 -9.75362e-11  4.98236e-12    -0.108408 -0.000482247 -1.35171e-11          nan          nan          nan          nan          nan          nan          nan          nan          nan          nan          nan          nan\r\n",
      " 4.46924e-11 -1.47149e-10     0.320631   0.00926396  1.56618e-10  1.02937e-10    0.0133962    0.0133962  -0.00499576 -5.81911e-11 -1.45966e-11  -0.00212835 -8.97164e-11  1.83543e-10 -1.71739e-10 -2.08768e-11    0.0470698  -0.00128614  -0.00258749   -0.0151672  1.82061e-10 -3.06184e-10   -0.0254908          nan          nan          nan          nan          nan          nan          nan          nan          nan          nan          nan          nan\r\n",
      "-2.30855e-10  7.06229e-11   0.00926396     0.320631 -1.69962e-10  3.24005e-10   -0.0133962   -0.0133962   0.00499576 -5.01126e-11  6.87202e-11   0.00212835  7.33001e-11 -1.45106e-10   6.9114e-11 -1.85903e-10  -0.00128614    0.0470698    0.0151672   0.00258749 -1.68605e-10  7.90526e-10    0.0254908          nan          nan          nan          nan          nan          nan          nan          nan          nan          nan          nan          nan\r\n",
      " 2.35617e-11   -0.0516061  1.56618e-10 -1.69962e-10     0.490902  -2.9001e-12   1.8008e-09  1.37385e-09 -8.20707e-10 -0.000783812   -0.0134403 -1.98449e-10   0.00770819  -0.00211793    0.0309987  6.71255e-11 -6.50262e-11 -1.89703e-10 -1.33746e-10  -2.7382e-10    0.0531267  0.000236332  1.67515e-10          nan          nan          nan          nan          nan          nan          nan          nan          nan          nan          nan          nan\r\n",
      "  -0.0516061  2.35617e-11  1.02937e-10  3.24005e-10 -2.90008e-12     0.490902 -2.54776e-10 -2.68119e-10  1.55127e-10   -0.0134403  0.000783812  1.93043e-11   0.00211793   0.00770819  6.71256e-11    0.0309987  1.91114e-10 -5.10411e-11  9.18929e-11 -1.62837e-10 -0.000236332    0.0531267  2.48323e-10          nan          nan          nan          nan          nan          nan          nan          nan          nan          nan          nan          nan\r\n",
      " 8.55427e-10    9.004e-10    0.0133962   -0.0133962   1.8008e-09 -2.54776e-10     0.549559     0.219665   -0.0856639 -7.15545e-12     6.44e-10   -0.0364955 -1.85627e-09  2.97716e-09 -9.22273e-10  3.15963e-10   -0.0113208  -0.00125889    0.0127127    -0.033071  5.11937e-10 -7.46009e-09  -0.00157527          nan          nan          nan          nan          nan          nan          nan          nan          nan          nan          nan          nan\r\n",
      "   7.789e-10  1.08656e-09    0.0133962   -0.0133962  1.37385e-09 -2.68119e-10     0.219665     0.549559   -0.0856639  4.69682e-11  7.52303e-10   -0.0364955 -1.89471e-09  2.96074e-09 -7.15493e-10  2.13339e-10   0.00125889    0.0113208    -0.033071    0.0127127  4.14001e-11 -7.44289e-09  -0.00157527          nan          nan          nan          nan          nan          nan          nan          nan          nan          nan          nan          nan\r\n",
      "-3.22586e-10 -1.97461e-10  -0.00499576   0.00499576 -8.20707e-10  1.55127e-10   -0.0856639   -0.0856639     0.662947 -1.74982e-10   -2.316e-10  -0.00632525  4.08879e-10 -7.41029e-10    5.583e-10 -1.54331e-10   0.00131274  -0.00131274   0.00387805   0.00387805 -9.19435e-10  2.85845e-09   0.00114651          nan          nan          nan          nan          nan          nan          nan          nan          nan          nan          nan          nan\r\n",
      "   0.0181637   0.00105927 -5.81911e-11 -5.01126e-11 -0.000783812   -0.0134403 -7.15545e-12  4.69682e-11 -1.74982e-10     0.680922  1.59278e-12  8.85935e-11  2.69935e-05   7.9743e-05  0.000502835   0.00862227 -3.66193e-10 -3.65172e-11  6.96317e-11    8.837e-10  -0.00220637   -0.0409682 -8.96013e-10          nan          nan          nan          nan          nan          nan          nan          nan          nan          nan          nan          nan\r\n",
      " -0.00105927    0.0181637 -1.45966e-11  6.87202e-11   -0.0134403  0.000783812     6.44e-10  7.52303e-10   -2.316e-10  1.59288e-12     0.680922 -1.12763e-10  7.97429e-05 -2.69935e-05   0.00862227 -0.000502835 -5.77453e-11  8.71813e-10 -5.52232e-10 -1.49521e-10   -0.0409682   0.00220637 -8.14857e-10          nan          nan          nan          nan          nan          nan          nan          nan          nan          nan          nan          nan\r\n",
      "-7.14955e-11 -2.25171e-10  -0.00212835   0.00212835 -1.98449e-10  1.93043e-11   -0.0364955   -0.0364955  -0.00632525  8.85935e-11 -1.12763e-10      0.79826   3.9881e-10 -4.67979e-10 -1.57976e-11 -4.96585e-11    0.0046411   -0.0046411    0.0137105    0.0137105   8.8806e-11  8.70727e-10  0.000454444          nan          nan          nan          nan          nan          nan          nan          nan          nan          nan          nan          nan\r\n",
      "   0.0103263    0.0375826 -8.97164e-11  7.33001e-11   0.00770819   0.00211793 -1.85627e-09 -1.89471e-09  4.08879e-10  2.69935e-05  7.97429e-05   3.9881e-10     0.956418  4.27539e-11   -0.0126725  -0.00348196  3.03478e-10 -4.15683e-10  1.05217e-09  1.05155e-09    0.0192834   0.00539075    3.064e-11          nan          nan          nan          nan          nan          nan          nan          nan          nan          nan          nan          nan\r\n",
      "   0.0375826   -0.0103263  1.83543e-10 -1.45106e-10  -0.00211793   0.00770819  2.97716e-09  2.96074e-09 -7.41029e-10   7.9743e-05 -2.69935e-05 -4.67979e-10  4.27539e-11     0.956418   0.00348196   -0.0126725 -5.75054e-10   5.7567e-10 -1.67335e-09 -1.78556e-09  -0.00539075    0.0192834 -7.93946e-12          nan          nan          nan          nan          nan          nan          nan          nan          nan          nan          nan          nan\r\n",
      " -2.0321e-11    0.0421019 -1.71739e-10   6.9114e-11    0.0309987  6.71256e-11 -9.22273e-10 -7.15493e-10    5.583e-10  0.000502835   0.00862227 -1.57976e-11   -0.0126725   0.00348196     0.988566  3.79304e-11  8.55975e-12 -1.86176e-10  2.23472e-10 -1.98083e-11   -0.0223628 -9.94801e-05  3.66118e-10          nan          nan          nan          nan          nan          nan          nan          nan          nan          nan          nan          nan\r\n",
      "   0.0421019  -2.0321e-11 -2.08768e-11 -1.85903e-10  6.71255e-11    0.0309987  3.15963e-10  2.13339e-10 -1.54331e-10   0.00862227 -0.000502835 -4.96585e-11  -0.00348196   -0.0126725  3.79304e-11     0.988566  1.22214e-10  1.21067e-10 -1.19131e-11  -1.8953e-10  9.94801e-05   -0.0223628  4.45724e-10          nan          nan          nan          nan          nan          nan          nan          nan          nan          nan          nan          nan\r\n",
      "-2.33037e-10 -1.94211e-11    0.0470698  -0.00128614 -6.50262e-11  1.91114e-10   -0.0113208   0.00125889   0.00131274 -3.66193e-10 -5.77453e-11    0.0046411  3.03478e-10 -5.75054e-10  8.55975e-12  1.22214e-10      1.03318  -0.00653961    0.0132098    0.0132098 -5.74959e-11  5.05005e-10  -0.00427485          nan          nan          nan          nan          nan          nan          nan          nan          nan          nan          nan          nan\r\n",
      " 1.30519e-10  2.13577e-10  -0.00128614    0.0470698 -1.89703e-10 -5.10411e-11  -0.00125889    0.0113208  -0.00131274 -3.65172e-11  8.71813e-10   -0.0046411 -4.15683e-10   5.7567e-10 -1.86176e-10  1.21067e-10  -0.00653961      1.03318   -0.0132098   -0.0132098  6.20528e-11 -5.84059e-10   0.00427485          nan          nan          nan          nan          nan          nan          nan          nan          nan          nan          nan          nan\r\n",
      "-3.01459e-10 -9.75362e-11  -0.00258749    0.0151672 -1.33746e-10  9.18929e-11    0.0127127    -0.033071   0.00387805  6.96317e-11 -5.52232e-10    0.0137105  1.05217e-09 -1.67335e-09  2.23472e-10 -1.19131e-11    0.0132098   -0.0132098      1.06773    0.0410919 -2.87484e-10  1.40651e-09   0.00204665          nan          nan          nan          nan          nan          nan          nan          nan          nan          nan          nan          nan\r\n",
      "-1.07303e-10  4.98236e-12   -0.0151672   0.00258749  -2.7382e-10 -1.62837e-10    -0.033071    0.0127127   0.00387805    8.837e-10 -1.49521e-10    0.0137105  1.05155e-09 -1.78556e-09 -1.98083e-11  -1.8953e-10    0.0132098   -0.0132098    0.0410919      1.06773 -2.10104e-10  1.41117e-09   0.00204665          nan          nan          nan          nan          nan          nan          nan          nan          nan          nan          nan          nan\r\n",
      "-0.000334731    0.0752465 -2.48678e-10  3.00554e-10   -0.0690159  0.000307014 -1.37597e-09 -1.00797e-09  9.70804e-10   0.00166468    0.0309101 -4.52424e-11  -0.00867091   0.00242399    0.0364086 -0.000161962  1.19431e-10   -1.207e-10  4.87866e-10  4.85076e-10    -0.194424  2.24986e-10  3.79937e-09          nan          nan          nan          nan          nan          nan          nan          nan          nan          nan          nan          nan\r\n",
      "   0.0752465  0.000334731  1.79191e-10 -5.58667e-10 -0.000307014   -0.0690159  5.06024e-09  5.10944e-09 -2.26137e-09    0.0309101  -0.00166468 -7.95696e-10  -0.00242399  -0.00867091  0.000161962    0.0364086 -4.42701e-10  4.47931e-10  -1.2092e-09 -1.21044e-09  2.24986e-10    -0.194424   1.1983e-09          nan          nan          nan          nan          nan          nan          nan          nan          nan          nan          nan          nan\r\n",
      "-3.04772e-10  -4.7945e-10   -0.0141828    0.0141828   4.1107e-10  1.86415e-10   0.00439137   0.00439137  -0.00133232 -1.14241e-09 -1.07752e-09  -0.00053401  7.67841e-11  1.04478e-10 -4.14616e-11  1.63494e-10  -0.00597975   0.00597975   0.00149322   0.00149322  3.89375e-09  1.34903e-09     0.958374          nan          nan          nan          nan          nan          nan          nan          nan          nan          nan          nan          nan\r\n",
      "        -nan         -nan         -nan         -nan         -nan         -nan         -nan         -nan         -nan         -nan         -nan         -nan         -nan         -nan         -nan         -nan         -nan         -nan         -nan         -nan         -nan         -nan         -nan          nan          nan          nan          nan          nan          nan          nan          nan          nan          nan          nan          nan\r\n",
      "        -nan         -nan         -nan         -nan         -nan         -nan         -nan         -nan         -nan         -nan         -nan         -nan         -nan         -nan         -nan         -nan         -nan         -nan         -nan         -nan         -nan         -nan         -nan         -nan         -nan         -nan         -nan         -nan         -nan         -nan         -nan         -nan         -nan         -nan         -nan\r\n",
      "        -nan         -nan         -nan         -nan         -nan         -nan         -nan         -nan         -nan         -nan         -nan         -nan         -nan         -nan         -nan         -nan         -nan         -nan         -nan         -nan         -nan         -nan         -nan         -nan         -nan         -nan         -nan         -nan         -nan         -nan         -nan         -nan         -nan         -nan         -nan\r\n",
      "        -nan         -nan         -nan         -nan         -nan         -nan         -nan         -nan         -nan         -nan         -nan         -nan         -nan         -nan         -nan         -nan         -nan         -nan         -nan         -nan         -nan         -nan         -nan          nan          nan          nan          nan          nan          nan          nan          nan          nan          nan          nan          nan\r\n",
      "        -nan         -nan         -nan         -nan         -nan         -nan         -nan         -nan         -nan         -nan         -nan         -nan         -nan         -nan         -nan         -nan         -nan         -nan         -nan         -nan         -nan         -nan         -nan          nan          nan          nan          nan          nan          nan          nan          nan          nan          nan          nan          nan\r\n",
      "        -nan         -nan         -nan         -nan         -nan         -nan         -nan         -nan         -nan         -nan         -nan         -nan         -nan         -nan         -nan         -nan         -nan         -nan         -nan         -nan         -nan         -nan         -nan         -nan         -nan         -nan         -nan         -nan         -nan         -nan         -nan         -nan         -nan         -nan         -nan\r\n",
      "        -nan         -nan         -nan         -nan         -nan         -nan         -nan         -nan         -nan         -nan         -nan         -nan         -nan         -nan         -nan         -nan         -nan         -nan         -nan         -nan         -nan         -nan         -nan         -nan         -nan         -nan         -nan         -nan         -nan         -nan         -nan         -nan         -nan         -nan         -nan\r\n",
      "        -nan         -nan         -nan         -nan         -nan         -nan         -nan         -nan         -nan         -nan         -nan         -nan         -nan         -nan         -nan         -nan         -nan         -nan         -nan         -nan         -nan         -nan         -nan          nan          nan          nan          nan          nan          nan          nan          nan          nan          nan          nan          nan\r\n",
      "        -nan         -nan         -nan         -nan         -nan         -nan         -nan         -nan         -nan         -nan         -nan         -nan         -nan         -nan         -nan         -nan         -nan         -nan         -nan         -nan         -nan         -nan         -nan          nan          nan          nan          nan          nan          nan          nan          nan          nan          nan          nan          nan\r\n",
      "        -nan         -nan         -nan         -nan         -nan         -nan         -nan         -nan         -nan         -nan         -nan         -nan         -nan         -nan         -nan         -nan         -nan         -nan         -nan         -nan         -nan         -nan         -nan         -nan          nan          nan          nan         -nan          nan          nan          nan         -nan          nan          nan          nan\r\n",
      "        -nan         -nan         -nan         -nan         -nan         -nan         -nan         -nan         -nan         -nan         -nan         -nan         -nan         -nan         -nan         -nan         -nan         -nan         -nan         -nan         -nan         -nan         -nan         -nan          nan          nan          nan         -nan          nan          nan          nan         -nan          nan          nan          nan\r\n",
      "        -nan         -nan         -nan         -nan         -nan         -nan         -nan         -nan         -nan         -nan         -nan         -nan         -nan         -nan         -nan         -nan         -nan         -nan         -nan         -nan         -nan         -nan         -nan         -nan         -nan         -nan         -nan         -nan         -nan         -nan         -nan         -nan         -nan         -nan         -nan\r\n",
      "B\r\n",
      "    0.093811 -1.38232e-11  1.68434e-11 -1.31257e-10  1.44908e-11   -0.0328898  3.54453e-10  2.99571e-10 -1.98307e-10    0.0155308 -0.000905728 -3.66274e-11    0.0128044    0.0466015 -2.36106e-11    0.0481429 -2.87488e-10  1.38438e-10 -3.10739e-10 -3.82862e-11  0.000111691   -0.0251078 -4.01028e-10         -nan         -nan         -nan         -nan         -nan         -nan         -nan         -nan         -nan         -nan         -nan         -nan\r\n",
      "-1.38232e-11     0.093811 -9.49868e-11  4.01044e-11   -0.0328898  1.44908e-11  3.69188e-10  4.83601e-10 -1.23128e-10  0.000905728    0.0155308 -1.66767e-10    0.0466015   -0.0128044    0.0481429 -2.36106e-11 -1.29279e-11  2.85381e-10 -7.58332e-11   7.3217e-11   -0.0251078 -0.000111691 -5.11131e-10         -nan         -nan         -nan         -nan         -nan         -nan         -nan         -nan         -nan         -nan         -nan         -nan\r\n",
      " 1.68434e-11 -9.49868e-11     0.105884   0.00529841  1.02797e-10  7.14799e-11   0.00678652   0.00678652  -0.00367369 -5.18351e-11 -2.02042e-11   -0.0016688 -9.69026e-11  2.03578e-10 -2.10724e-10 -2.54081e-11    0.0640789  -0.00170347  -0.00248205   -0.0196206 -6.25453e-11 -1.11736e-11   -0.0418853         -nan         -nan         -nan         -nan         -nan         -nan         -nan         -nan         -nan         -nan         -nan         -nan\r\n",
      "-1.31257e-10  4.01044e-11   0.00529841     0.105884 -1.09894e-10  2.29114e-10  -0.00678652  -0.00678652   0.00367369 -5.46522e-11  7.11287e-11    0.0016688  7.36195e-11 -1.53323e-10  7.36325e-11 -2.18507e-10  -0.00170347    0.0640789    0.0196206   0.00248205   1.3361e-10  1.11428e-10    0.0418853         -nan         -nan         -nan         -nan         -nan         -nan         -nan         -nan         -nan         -nan         -nan         -nan\r\n",
      " 1.44908e-11   -0.0328898  1.02797e-10 -1.09894e-10     0.240891  -6.9665e-13  1.10441e-09  8.03817e-10 -6.98446e-10 -0.000842318   -0.0144435 -1.60496e-10   0.00881667   -0.0024225    0.0441772  9.33088e-11 -5.64315e-11 -3.34222e-10 -5.72809e-11 -2.87425e-10  -0.00438142 -1.94906e-05  5.20841e-10         -nan         -nan         -nan         -nan         -nan         -nan         -nan         -nan         -nan         -nan         -nan         -nan\r\n",
      "  -0.0328898  1.44908e-11  7.14799e-11  2.29114e-10 -6.96628e-13     0.240891  -1.3988e-10 -1.46976e-10  1.24382e-10   -0.0144435  0.000842318  9.92503e-12    0.0024225   0.00881667  9.33089e-11    0.0441772  2.80029e-10 -4.98849e-11  1.11454e-10   -2.792e-10  1.94905e-05  -0.00438142  4.31867e-10         -nan         -nan         -nan         -nan         -nan         -nan         -nan         -nan         -nan         -nan         -nan         -nan\r\n",
      " 3.54453e-10  3.69188e-10   0.00678652  -0.00678652  1.10441e-09  -1.3988e-10     0.221858     0.110676    -0.062994 -1.34994e-12  4.62577e-10   -0.0286154 -1.92944e-09  3.22303e-09 -1.03138e-09  3.28974e-10    -0.010056  -0.00708253    0.0331067   -0.0292688 -8.01319e-10 -3.84229e-10   0.00293531         -nan         -nan         -nan         -nan         -nan         -nan         -nan         -nan         -nan         -nan         -nan         -nan\r\n",
      " 2.99571e-10  4.83601e-10   0.00678652  -0.00678652  8.03817e-10 -1.46976e-10     0.110676     0.221858    -0.062994  4.95745e-11  5.69064e-10   -0.0286154  -1.9797e-09  3.19974e-09 -7.87461e-10  1.91883e-10   0.00708253     0.010056   -0.0292688    0.0331067 -8.98762e-10 -3.12186e-10   0.00293531         -nan         -nan         -nan         -nan         -nan         -nan         -nan         -nan         -nan         -nan         -nan         -nan\r\n",
      "-1.98307e-10 -1.23128e-10  -0.00367369   0.00367369 -6.98446e-10  1.24382e-10    -0.062994    -0.062994     0.429278  -2.2528e-10 -2.34119e-10   -0.0121538   4.5699e-10 -9.08829e-10   7.6907e-10 -2.09076e-10 -6.18892e-06  6.18894e-06 -1.82831e-05  -1.8283e-05 -7.44423e-11  5.84291e-10  6.07411e-05         -nan         -nan         -nan         -nan         -nan         -nan         -nan         -nan         -nan         -nan         -nan         -nan\r\n",
      "   0.0155308  0.000905728 -5.18351e-11 -5.46522e-11 -0.000842318   -0.0144435 -1.34994e-12  4.95745e-11  -2.2528e-10     0.463967  2.12717e-12  1.17681e-10  0.000207384  0.000612645  0.000604052    0.0103579 -6.17006e-10 -6.25031e-11  1.12002e-10  1.49027e-09 -0.000953741   -0.0177092 -1.86771e-09         -nan         -nan         -nan         -nan         -nan         -nan         -nan         -nan         -nan         -nan         -nan         -nan\r\n",
      "-0.000905728    0.0155308 -2.02042e-11  7.11287e-11   -0.0144435  0.000842318  4.62577e-10  5.69064e-10 -2.34119e-10   2.1273e-12     0.463967 -1.09254e-10  0.000612645 -0.000207384    0.0103579 -0.000604052 -7.66868e-11  1.45495e-09 -8.67812e-10 -1.88303e-10   -0.0177092  0.000953741  -1.7778e-09         -nan         -nan         -nan         -nan         -nan         -nan         -nan         -nan         -nan         -nan         -nan         -nan\r\n",
      "-3.66274e-11 -1.66767e-10   -0.0016688    0.0016688 -1.60496e-10  9.92503e-12   -0.0286154   -0.0286154   -0.0121538  1.17681e-10 -1.09254e-10     0.636067  5.48035e-10 -6.14955e-10 -6.46799e-11 -6.61887e-11   0.00671043  -0.00671043    0.0198237    0.0198237  1.03281e-10  -8.6069e-12  4.65164e-05         -nan         -nan         -nan         -nan         -nan         -nan         -nan         -nan         -nan         -nan         -nan         -nan\r\n",
      "   0.0128044    0.0466015 -9.69026e-11  7.36195e-11   0.00881667    0.0024225 -1.92944e-09  -1.9797e-09   4.5699e-10  0.000207384  0.000612645  5.48035e-10     0.917068  7.49509e-11   -0.0214948    -0.005906  5.27911e-10 -7.57733e-10  1.86181e-09  1.85728e-09    0.0223878    0.0062586  1.65244e-10         -nan         -nan         -nan         -nan         -nan         -nan         -nan         -nan         -nan         -nan         -nan         -nan\r\n",
      "   0.0466015   -0.0128044  2.03578e-10 -1.53323e-10   -0.0024225   0.00881667  3.22303e-09  3.19974e-09 -9.08829e-10  0.000612645 -0.000207384 -6.14955e-10  7.49508e-11     0.917068     0.005906   -0.0214948   -1.021e-09  1.02553e-09 -2.98408e-09  -3.2139e-09   -0.0062586    0.0223878  1.26381e-10         -nan         -nan         -nan         -nan         -nan         -nan         -nan         -nan         -nan         -nan         -nan         -nan\r\n",
      "-2.36106e-11    0.0481429 -2.10724e-10  7.36325e-11    0.0441772  9.33089e-11 -1.03138e-09 -7.87461e-10   7.6907e-10  0.000604052    0.0103579 -6.46799e-11   -0.0214948     0.005906     0.981535  7.31135e-11 -3.42812e-12 -3.05719e-10  3.63045e-10 -7.51852e-11   0.00424838  1.88988e-05  3.17234e-10         -nan         -nan         -nan         -nan         -nan         -nan         -nan         -nan         -nan         -nan         -nan         -nan\r\n",
      "   0.0481429 -2.36106e-11 -2.54081e-11 -2.18507e-10  9.33088e-11    0.0441772  3.28974e-10  1.91883e-10 -2.09076e-10    0.0103579 -0.000604052 -6.61887e-11    -0.005906   -0.0214948  7.31136e-11     0.981535   2.2306e-10   2.1517e-10 -7.40331e-12 -3.16551e-10 -1.88987e-05   0.00424838  6.75759e-10         -nan         -nan         -nan         -nan         -nan         -nan         -nan         -nan         -nan         -nan         -nan         -nan\r\n",
      "-2.87488e-10 -1.29279e-11    0.0640789  -0.00170347 -5.64315e-11  2.80029e-10    -0.010056   0.00708253 -6.18892e-06 -6.17006e-10 -7.66868e-11   0.00671043  5.27911e-10   -1.021e-09 -3.42812e-12   2.2306e-10      1.06903   -0.0127601    0.0246845    0.0246845  4.18979e-11  2.29409e-10   -0.0150557         -nan         -nan         -nan         -nan         -nan         -nan         -nan         -nan         -nan         -nan         -nan         -nan\r\n",
      " 1.38438e-10  2.85381e-10  -0.00170347    0.0640789 -3.34222e-10 -4.98849e-11  -0.00708253     0.010056  6.18894e-06 -6.25031e-11  1.45495e-09  -0.00671043 -7.57733e-10  1.02553e-09 -3.05719e-10   2.1517e-10   -0.0127601      1.06903   -0.0246845   -0.0246845 -1.38856e-10 -2.90452e-10    0.0150557         -nan         -nan         -nan         -nan         -nan         -nan         -nan         -nan         -nan         -nan         -nan         -nan\r\n",
      "-3.10739e-10 -7.58332e-11  -0.00248205    0.0196206 -5.72809e-11  1.11454e-10    0.0331067   -0.0292688 -1.82831e-05  1.12002e-10 -8.67812e-10    0.0198237  1.86181e-09 -2.98408e-09  3.63045e-10 -7.40331e-12    0.0246845   -0.0246845      1.13359    0.0773262  1.19143e-10  4.33826e-10   0.00543976         -nan         -nan         -nan         -nan         -nan         -nan         -nan         -nan         -nan         -nan         -nan         -nan\r\n",
      "-3.82862e-11   7.3217e-11   -0.0196206   0.00248205 -2.87425e-10   -2.792e-10   -0.0292688    0.0331067  -1.8283e-05  1.49027e-09 -1.88303e-10    0.0198237  1.85728e-09  -3.2139e-09 -7.51852e-11 -3.16551e-10    0.0246845   -0.0246845    0.0773262      1.13359  1.80402e-10  3.37138e-10   0.00543976         -nan         -nan         -nan         -nan         -nan         -nan         -nan         -nan         -nan         -nan         -nan         -nan\r\n",
      " 0.000255149   -0.0573567  5.02101e-13   4.6138e-11  -0.00347861  1.54744e-05 -3.28722e-10 -5.33333e-10 -3.88145e-12  -0.00054883   -0.0101907 -2.32918e-11    0.0179528  -0.00501877    0.0191591 -8.52286e-05 -2.42241e-13  9.08041e-11  5.04197e-11  2.62747e-10     0.600541  2.25503e-10  2.81273e-09         -nan         -nan         -nan         -nan         -nan         -nan         -nan         -nan         -nan         -nan         -nan         -nan\r\n",
      "  -0.0573567 -0.000255149 -1.64621e-10  3.71455e-10 -1.54745e-05  -0.00347861 -3.85755e-09 -3.80957e-09  6.45019e-10   -0.0101907   0.00054883  1.38947e-10   0.00501877    0.0179528  8.52286e-05    0.0191591 -1.49265e-10 -6.09933e-11  -1.4213e-10  -5.1464e-11  2.25503e-10     0.600541  7.02856e-11         -nan         -nan         -nan         -nan         -nan         -nan         -nan         -nan         -nan         -nan         -nan         -nan\r\n",
      "-3.28108e-10 -3.21346e-10   -0.0423661    0.0423661  6.07708e-10  5.83122e-10     0.002905     0.002905 -0.000442385 -1.66943e-09 -1.60319e-09  -0.00021662  1.09699e-10   1.7299e-10  4.07723e-10  8.27805e-10   -0.0160978    0.0160978   0.00532044   0.00532044  3.14904e-09  5.25083e-10      1.98492         -nan         -nan         -nan         -nan         -nan         -nan         -nan         -nan         -nan         -nan         -nan         -nan\r\n",
      "        -nan         -nan         -nan         -nan         -nan         -nan         -nan         -nan         -nan         -nan         -nan         -nan         -nan         -nan         -nan         -nan         -nan         -nan         -nan         -nan         -nan         -nan         -nan         -nan         -nan         -nan         -nan         -nan         -nan         -nan         -nan         -nan         -nan         -nan         -nan\r\n",
      "        -nan         -nan         -nan         -nan         -nan         -nan         -nan         -nan         -nan         -nan         -nan         -nan         -nan         -nan         -nan         -nan         -nan         -nan         -nan         -nan         -nan         -nan         -nan         -nan         -nan         -nan         -nan         -nan         -nan         -nan         -nan         -nan         -nan         -nan         -nan\r\n",
      "        -nan         -nan         -nan         -nan         -nan         -nan         -nan         -nan         -nan         -nan         -nan         -nan         -nan         -nan         -nan         -nan         -nan         -nan         -nan         -nan         -nan         -nan         -nan         -nan         -nan         -nan         -nan         -nan         -nan         -nan         -nan         -nan         -nan         -nan         -nan\r\n",
      "        -nan         -nan         -nan         -nan         -nan         -nan         -nan         -nan         -nan         -nan         -nan         -nan         -nan         -nan         -nan         -nan         -nan         -nan         -nan         -nan         -nan         -nan         -nan         -nan         -nan         -nan         -nan         -nan         -nan         -nan         -nan         -nan         -nan         -nan         -nan\r\n",
      "        -nan         -nan         -nan         -nan         -nan         -nan         -nan         -nan         -nan         -nan         -nan         -nan         -nan         -nan         -nan         -nan         -nan         -nan         -nan         -nan         -nan         -nan         -nan         -nan         -nan         -nan         -nan         -nan         -nan         -nan         -nan         -nan         -nan         -nan         -nan\r\n",
      "        -nan         -nan         -nan         -nan         -nan         -nan         -nan         -nan         -nan         -nan         -nan         -nan         -nan         -nan         -nan         -nan         -nan         -nan         -nan         -nan         -nan         -nan         -nan         -nan         -nan         -nan         -nan         -nan         -nan         -nan         -nan         -nan         -nan         -nan         -nan\r\n",
      "        -nan         -nan         -nan         -nan         -nan         -nan         -nan         -nan         -nan         -nan         -nan         -nan         -nan         -nan         -nan         -nan         -nan         -nan         -nan         -nan         -nan         -nan         -nan         -nan         -nan         -nan         -nan         -nan         -nan         -nan         -nan         -nan         -nan         -nan         -nan\r\n",
      "        -nan         -nan         -nan         -nan         -nan         -nan         -nan         -nan         -nan         -nan         -nan         -nan         -nan         -nan         -nan         -nan         -nan         -nan         -nan         -nan         -nan         -nan         -nan         -nan         -nan         -nan         -nan         -nan         -nan         -nan         -nan         -nan         -nan         -nan         -nan\r\n",
      "        -nan         -nan         -nan         -nan         -nan         -nan         -nan         -nan         -nan         -nan         -nan         -nan         -nan         -nan         -nan         -nan         -nan         -nan         -nan         -nan         -nan         -nan         -nan         -nan         -nan         -nan         -nan         -nan         -nan         -nan         -nan         -nan         -nan         -nan         -nan\r\n",
      "        -nan         -nan         -nan         -nan         -nan         -nan         -nan         -nan         -nan         -nan         -nan         -nan         -nan         -nan         -nan         -nan         -nan         -nan         -nan         -nan         -nan         -nan         -nan         -nan         -nan         -nan         -nan         -nan         -nan         -nan         -nan         -nan         -nan         -nan         -nan\r\n",
      "        -nan         -nan         -nan         -nan         -nan         -nan         -nan         -nan         -nan         -nan         -nan         -nan         -nan         -nan         -nan         -nan         -nan         -nan         -nan         -nan         -nan         -nan         -nan         -nan         -nan         -nan         -nan         -nan         -nan         -nan         -nan         -nan         -nan         -nan         -nan\r\n",
      "        -nan         -nan         -nan         -nan         -nan         -nan         -nan         -nan         -nan         -nan         -nan         -nan         -nan         -nan         -nan         -nan         -nan         -nan         -nan         -nan         -nan         -nan         -nan          nan          nan          nan          nan          nan          nan          nan          nan          nan          nan          nan          nan\r\n",
      "an error occurred:\r\n",
      "Small generalized eigenvalue problem failed.\r\n"
     ]
    }
   ],
   "source": [
    "!xtp_tools -c job_name=CO geometry_optimization.maxiter=1 dftpackage.basisset=3-21G dftpackage.auxbasisset=aux-def2-svp gwbse.gw.mode=G0W0 -e dftgwbse -t 4"
   ]
  },
  {
   "cell_type": "markdown",
   "metadata": {},
   "source": [
    "Notice that we are using 4 threads. The results will be stored in a file named `CO_summary.xml` in the current work directory, together with the optimization step in `optimisation.trj` and the orbitals in [hdf5 format](https://www.hdfgroup.org/solutions/hdf5/) saved on `CO.orb`."
   ]
  }
 ],
 "metadata": {
  "kernelspec": {
   "display_name": "Python 3",
   "language": "python",
   "name": "python3"
  },
  "language_info": {
   "codemirror_mode": {
    "name": "ipython",
    "version": 3
   },
   "file_extension": ".py",
   "mimetype": "text/x-python",
   "name": "python",
   "nbconvert_exporter": "python",
   "pygments_lexer": "ipython3",
   "version": "3.9.6"
  }
 },
 "nbformat": 4,
 "nbformat_minor": 4
}
