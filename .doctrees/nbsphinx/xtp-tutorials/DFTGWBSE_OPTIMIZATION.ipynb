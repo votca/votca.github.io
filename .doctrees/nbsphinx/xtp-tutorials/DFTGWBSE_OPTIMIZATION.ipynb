{
 "cells": [
  {
   "cell_type": "markdown",
   "metadata": {},
   "source": [
    "## DFT + GWBSE Optimization Using CO"
   ]
  },
  {
   "cell_type": "markdown",
   "metadata": {},
   "source": [
    "## Introduction\n",
    "This tutorial explains how to perform a molecular geometric optimization using the **GWBSE** method. See [the GW Compendium: A Practical Guide to Theoretical Photoemission Spectroscopy](https://doi.org/10.3389/fchem.2019.00377), for an excellent introduction to the method."
   ]
  },
  {
   "cell_type": "markdown",
   "metadata": {},
   "source": [
    "## Requirements\n",
    "* You will need to install **VOTCA** using the instructions described [here](https://github.com/votca/votca/blob/master/share/doc/INSTALL.rst)\n",
    "* Once the installation is completed you need to activate the VOTCA enviroment by running the `VOTCARC.bash` script that has been installed at the bin subfolder for the path that you have provided for the installation step above"
   ]
  },
  {
   "cell_type": "markdown",
   "metadata": {},
   "source": [
    "## Preparing the input\n",
    "To run a DFT-GWBSE calculation we will use the [xtp_tools](https://www.votca.org/xtp/xtp_tools_overview.html) calculator."
   ]
  },
  {
   "cell_type": "markdown",
   "metadata": {},
   "source": [
    "we can now change the calculator mode from single point energy calculation to optimization as follows by adding \n",
    "`-c geometry_optimization.maxiter=1` which enables optimization with one iteration. "
   ]
  },
  {
   "cell_type": "markdown",
   "metadata": {},
   "source": [
    "Because geometry optimsation is quite expensive numerically we chose a smaller basisset and G0W0 Finally, to run the calculation we just need the following command (This still takes a while)"
   ]
  },
  {
   "cell_type": "code",
   "execution_count": 1,
   "metadata": {
    "execution": {
     "iopub.execute_input": "2023-06-01T09:11:59.717904Z",
     "iopub.status.busy": "2023-06-01T09:11:59.717646Z",
     "iopub.status.idle": "2023-06-01T09:12:18.390603Z",
     "shell.execute_reply": "2023-06-01T09:12:18.389283Z"
    }
   },
   "outputs": [
    {
     "name": "stdout",
     "output_type": "stream",
     "text": [
      "==================================================\r\n",
      "========   VOTCA (http://www.votca.org)   ========\r\n",
      "==================================================\r\n",
      "\r\n",
      "please submit bugs to https://github.com/votca/votca/issues\r\n",
      "\r\n",
      "xtp_tools, version 2023-dev gitid: 65ff0dc (compiled Jun  1 2023, 08:38:49)\r\n",
      "\r\n",
      "Initializing tool\r\n",
      "... dftgwbse Evaluating tool\r\n",
      "... dftgwbse  Using 4 threads\r\n",
      "... ... Reading structure from CO.xyz\r\n",
      "... ... Requested geometry optimization of excited state s1\r\n",
      "... ... Initial state: s1\r\n",
      "... ... WARNING: No tracker is used \r\n",
      "... ... Convergence of total energy: 0.000001 Hartree \r\n",
      "... ... Convergence of RMS Force:    0.000030 Hartree/Bohr \r\n",
      "... ... Convergence of Max Force:    0.000100 Hartree/Bohr \r\n",
      "... ... Convergence of RMS Step:     0.000600 Bohr \r\n",
      "... ... Convergence of Max Step:     0.001000 Bohr \r\n",
      "... ... Initial trust radius:        0.018897 BohrA\r\n",
      "    0.307132  3.05639e-11  1.80024e-10 -5.20267e-10 -2.31836e-11   -0.0516061   1.1163e-09  1.03656e-09  3.87531e-10   -0.0181649  -0.00103937  1.10403e-10    0.0103725   -0.0375699   1.9998e-11    0.0421019 -2.08374e-10  9.08105e-11  3.57772e-10  1.59033e-10  0.000478234    -0.108408  -1.8288e-10          nan          nan          nan          nan          nan          nan          nan          nan          nan          nan          nan          nan\r\n",
      " 3.05639e-11     0.307132  -3.8869e-10  3.08944e-10   -0.0516061 -2.31836e-11  2.45209e-09  2.79233e-09  8.22154e-10   0.00103937   -0.0181649  3.85184e-10   -0.0375699   -0.0103725    0.0421019  1.99979e-11 -1.91583e-10 -7.15732e-12  5.01686e-10   6.1925e-10     0.108408  0.000478234  1.68174e-11          nan          nan          nan          nan          nan          nan          nan          nan          nan          nan          nan          nan\r\n",
      " 1.80024e-10  -3.8869e-10     0.320601   0.00929305  1.41131e-11  -3.0388e-11   -0.0131453   -0.0131453  -0.00490187 -1.46127e-10  1.02459e-10  -0.00208835   1.2017e-11    2.069e-10 -1.19234e-10 -7.48137e-12   -0.0470664    0.0012982  -0.00255141   -0.0151874 -9.86859e-10  3.12804e-10   -0.0254852          nan          nan          nan          nan          nan          nan          nan          nan          nan          nan          nan          nan\r\n",
      "-5.20267e-10  3.08944e-10   0.00929305     0.320601 -2.24812e-11  4.35113e-10    0.0131453    0.0131453   0.00490187  1.66394e-10  -1.4837e-10   0.00208835  8.03388e-12 -1.82014e-10  1.28092e-11 -4.05455e-10    0.0012982   -0.0470664    0.0151874   0.00255141  9.62926e-10  2.07356e-10    0.0254852          nan          nan          nan          nan          nan          nan          nan          nan          nan          nan          nan          nan\r\n",
      "-2.31836e-11   -0.0516061  1.41131e-11 -2.24812e-11     0.490902  2.83042e-12     1.49e-09  1.08527e-09  6.28844e-10 -0.000769081    0.0134411  1.85914e-10  -0.00770558  -0.00212741    0.0309987 -6.60283e-11 -4.60951e-11   3.0311e-10  2.08164e-10  6.15681e-11   -0.0531267 -0.000234365  2.09411e-10          nan          nan          nan          nan          nan          nan          nan          nan          nan          nan          nan          nan\r\n",
      "  -0.0516061 -2.31836e-11  -3.0388e-11  4.35113e-10  2.83047e-12     0.490902 -9.30596e-11 -1.01428e-10 -6.26439e-11    0.0134411  0.000769081   5.2128e-12   0.00212741  -0.00770558 -6.60284e-11    0.0309987  1.53799e-10 -7.20325e-12 -8.27343e-11   1.7428e-10 -0.000234365    0.0531267 -4.46464e-11          nan          nan          nan          nan          nan          nan          nan          nan          nan          nan          nan          nan\r\n",
      "  1.1163e-09  2.45209e-09   -0.0131453    0.0131453     1.49e-09 -9.30596e-11     0.549588     0.219694    0.0856694 -1.42876e-11 -7.24923e-10    0.0364978 -8.34388e-10 -2.62278e-09 -6.31661e-10  2.54434e-10   -0.0113238  -0.00131217   -0.0126959    0.0330723  1.34049e-08 -8.26794e-09   0.00154205          nan          nan          nan          nan          nan          nan          nan          nan          nan          nan          nan          nan\r\n",
      " 1.03656e-09  2.79233e-09   -0.0131453    0.0131453  1.08527e-09 -1.01428e-10     0.219694     0.549588    0.0856694  -6.0199e-11 -7.45189e-10    0.0364978 -8.59274e-10 -2.60273e-09 -2.18724e-10  1.48009e-10   0.00131217    0.0113238    0.0330723   -0.0126959  1.39185e-08 -8.24046e-09   0.00154205          nan          nan          nan          nan          nan          nan          nan          nan          nan          nan          nan          nan\r\n",
      " 3.87531e-10  8.22154e-10  -0.00490187   0.00490187  6.28844e-10 -6.26439e-11    0.0856694    0.0856694     0.662947 -1.80002e-10 -5.81856e-10  -0.00632525 -2.93306e-10  -7.0171e-10 -3.36756e-10   9.7211e-11  -0.00131326   0.00131326   0.00387788   0.00387788  4.34018e-09 -3.05288e-09   0.00112344          nan          nan          nan          nan          nan          nan          nan          nan          nan          nan          nan          nan\r\n",
      "  -0.0181649   0.00103937 -1.46127e-10  1.66394e-10 -0.000769081    0.0134411 -1.42876e-11  -6.0199e-11 -1.80002e-10     0.680922 -1.59596e-12  8.83638e-11 -2.70041e-05  7.97393e-05  0.000493385  -0.00862282  3.87293e-10  1.51597e-13  8.09526e-11  8.90408e-10   0.00216298    0.0409705  -6.6891e-10          nan          nan          nan          nan          nan          nan          nan          nan          nan          nan          nan          nan\r\n",
      " -0.00103937   -0.0181649  1.02459e-10  -1.4837e-10    0.0134411  0.000769081 -7.24923e-10 -7.45189e-10 -5.81856e-10 -1.59593e-12     0.680922  6.20513e-11  7.97393e-05  2.70041e-05  -0.00862282 -0.000493385 -4.19717e-12  8.13653e-10   3.7805e-10 -9.39459e-12   -0.0409705   0.00216298  8.09424e-10          nan          nan          nan          nan          nan          nan          nan          nan          nan          nan          nan          nan\r\n",
      " 1.10403e-10  3.85184e-10  -0.00208835   0.00208835  1.85914e-10   5.2128e-12    0.0364978    0.0364978  -0.00632525  8.83638e-11  6.20513e-11      0.79826  1.19275e-11 -3.26485e-10  1.10205e-10  5.76827e-11  -0.00464293   0.00464293    0.0137099    0.0137099   1.7324e-09 -9.75478e-10  0.000445371          nan          nan          nan          nan          nan          nan          nan          nan          nan          nan          nan          nan\r\n",
      "   0.0103725   -0.0375699   1.2017e-11  8.03388e-12  -0.00770558   0.00212741 -8.34388e-10 -8.59274e-10 -2.93306e-10 -2.70041e-05  7.97393e-05  1.19275e-11     0.956418 -4.28143e-11    0.0126683  -0.00349754   1.2384e-10 -2.37468e-10 -6.54745e-10 -4.32372e-10    0.0192769   0.00541374  6.75867e-12          nan          nan          nan          nan          nan          nan          nan          nan          nan          nan          nan          nan\r\n",
      "  -0.0375699   -0.0103725    2.069e-10 -1.82014e-10  -0.00212741  -0.00770558 -2.62278e-09 -2.60273e-09  -7.0171e-10  7.97393e-05  2.70041e-05 -3.26485e-10 -4.28143e-11     0.956418   0.00349754    0.0126683  4.23225e-10 -6.45598e-10 -1.49157e-09  -1.6052e-09   0.00541374   -0.0192769 -8.92029e-11          nan          nan          nan          nan          nan          nan          nan          nan          nan          nan          nan          nan\r\n",
      "  1.9998e-11    0.0421019 -1.19234e-10  1.28092e-11    0.0309987 -6.60284e-11 -6.31661e-10 -2.18724e-10 -3.36756e-10  0.000493385  -0.00862282  1.10205e-10    0.0126683   0.00349754     0.988566 -3.73412e-11 -2.91792e-11  1.10953e-10 -3.58094e-11  6.17226e-11    0.0223628  9.86522e-05  3.29952e-10          nan          nan          nan          nan          nan          nan          nan          nan          nan          nan          nan          nan\r\n",
      "   0.0421019  1.99979e-11 -7.48137e-12 -4.05455e-10 -6.60283e-11    0.0309987  2.54434e-10  1.48009e-10   9.7211e-11  -0.00862282 -0.000493385  5.76827e-11  -0.00349754    0.0126683 -3.73411e-11     0.988566 -7.00312e-12 -9.05289e-11  6.75068e-11   1.4928e-10  9.86523e-05   -0.0223628 -1.73263e-10          nan          nan          nan          nan          nan          nan          nan          nan          nan          nan          nan          nan\r\n",
      "-2.08374e-10 -1.91583e-10   -0.0470664    0.0012982 -4.60951e-11  1.53799e-10   -0.0113238   0.00131217  -0.00131326  3.87293e-10 -4.19717e-12  -0.00464293   1.2384e-10  4.23225e-10 -2.91792e-11 -7.00312e-12      1.03318  -0.00654314   -0.0132145   -0.0132145 -8.24006e-10  5.52248e-10    0.0042774          nan          nan          nan          nan          nan          nan          nan          nan          nan          nan          nan          nan\r\n",
      " 9.08105e-11 -7.15732e-12    0.0012982   -0.0470664   3.0311e-10 -7.20325e-12  -0.00131217    0.0113238   0.00131326  1.51596e-13  8.13653e-10   0.00464293 -2.37468e-10 -6.45598e-10  1.10953e-10 -9.05289e-11  -0.00654314      1.03318    0.0132145    0.0132145  7.77345e-10 -4.50337e-10   -0.0042774          nan          nan          nan          nan          nan          nan          nan          nan          nan          nan          nan          nan\r\n",
      " 3.57772e-10  5.01686e-10  -0.00255141    0.0151874  2.08164e-10 -8.27343e-11   -0.0126959    0.0330723   0.00387788  8.09526e-11   3.7805e-10    0.0137099 -6.54745e-10 -1.49157e-09 -3.58094e-11  6.75068e-11   -0.0132145    0.0132145      1.06773    0.0410884  2.36774e-09 -1.58709e-09   0.00203831          nan          nan          nan          nan          nan          nan          nan          nan          nan          nan          nan          nan\r\n",
      " 1.59033e-10   6.1925e-10   -0.0151874   0.00255141  6.15681e-11   1.7428e-10    0.0330723   -0.0126959   0.00387788  8.90408e-10 -9.39459e-12    0.0137099 -4.32372e-10  -1.6052e-09  6.17226e-11   1.4928e-10   -0.0132145    0.0132145    0.0410884      1.06773  2.46875e-09 -1.53987e-09   0.00203831          nan          nan          nan          nan          nan          nan          nan          nan          nan          nan          nan          nan\r\n",
      "-0.000331946   -0.0752466   6.8636e-10 -7.31291e-10    0.0690159   0.00030446 -8.05877e-09 -8.33637e-09 -3.16362e-09  -0.00163195    0.0309118 -1.54317e-09  -0.00866801  -0.00243433   -0.0364086 -0.000160614  5.57401e-10 -5.56839e-10 -1.77589e-09  -1.7794e-09    -0.194424  2.21241e-10 -4.21727e-09          nan          nan          nan          nan          nan          nan          nan          nan          nan          nan          nan          nan\r\n",
      "   0.0752466 -0.000331945  1.90635e-12 -2.86227e-10  0.000304459   -0.0690159  5.48945e-09  5.53203e-09  2.38362e-09   -0.0309118  -0.00163195  8.86886e-10  -0.00243433   0.00866801 -0.000160614    0.0364086  -4.8058e-10  4.76335e-10  1.28096e-09  1.27951e-09  2.21241e-10    -0.194424 -5.54446e-09          nan          nan          nan          nan          nan          nan          nan          nan          nan          nan          nan          nan\r\n",
      " 5.99197e-10  -5.2968e-10   -0.0141901    0.0141901  3.68901e-10 -5.51709e-10  -0.00431614  -0.00431614  -0.00130981 -1.02978e-09  1.08957e-09 -0.000525182 -8.35635e-11  8.17448e-11 -4.06933e-11  2.51652e-10   0.00597636  -0.00597636     0.001503     0.001503 -4.42753e-09 -5.45847e-09       0.9583          nan          nan          nan          nan          nan          nan          nan          nan          nan          nan          nan          nan\r\n",
      "        -nan         -nan         -nan         -nan         -nan         -nan         -nan         -nan         -nan         -nan         -nan         -nan         -nan         -nan         -nan         -nan         -nan         -nan         -nan         -nan         -nan         -nan         -nan          nan          nan          nan          nan          nan          nan          nan          nan          nan          nan          nan          nan\r\n",
      "        -nan         -nan         -nan         -nan         -nan         -nan         -nan         -nan         -nan         -nan         -nan         -nan         -nan         -nan         -nan         -nan         -nan         -nan         -nan         -nan         -nan         -nan         -nan         -nan         -nan         -nan         -nan         -nan         -nan         -nan         -nan         -nan         -nan         -nan         -nan\r\n",
      "        -nan         -nan         -nan         -nan         -nan         -nan         -nan         -nan         -nan         -nan         -nan         -nan         -nan         -nan         -nan         -nan         -nan         -nan         -nan         -nan         -nan         -nan         -nan         -nan         -nan         -nan         -nan         -nan         -nan         -nan         -nan         -nan         -nan         -nan         -nan\r\n",
      "        -nan         -nan         -nan         -nan         -nan         -nan         -nan         -nan         -nan         -nan         -nan         -nan         -nan         -nan         -nan         -nan         -nan         -nan         -nan         -nan         -nan         -nan         -nan          nan          nan          nan          nan          nan          nan          nan          nan          nan          nan          nan          nan\r\n",
      "        -nan         -nan         -nan         -nan         -nan         -nan         -nan         -nan         -nan         -nan         -nan         -nan         -nan         -nan         -nan         -nan         -nan         -nan         -nan         -nan         -nan         -nan         -nan          nan          nan          nan          nan          nan          nan          nan          nan          nan          nan          nan          nan\r\n",
      "        -nan         -nan         -nan         -nan         -nan         -nan         -nan         -nan         -nan         -nan         -nan         -nan         -nan         -nan         -nan         -nan         -nan         -nan         -nan         -nan         -nan         -nan         -nan         -nan         -nan         -nan         -nan         -nan         -nan         -nan         -nan         -nan         -nan         -nan         -nan\r\n",
      "        -nan         -nan         -nan         -nan         -nan         -nan         -nan         -nan         -nan         -nan         -nan         -nan         -nan         -nan         -nan         -nan         -nan         -nan         -nan         -nan         -nan         -nan         -nan         -nan         -nan         -nan         -nan         -nan         -nan         -nan         -nan         -nan         -nan         -nan         -nan\r\n",
      "        -nan         -nan         -nan         -nan         -nan         -nan         -nan         -nan         -nan         -nan         -nan         -nan         -nan         -nan         -nan         -nan         -nan         -nan         -nan         -nan         -nan         -nan         -nan          nan          nan          nan          nan          nan          nan          nan          nan          nan          nan          nan          nan\r\n",
      "        -nan         -nan         -nan         -nan         -nan         -nan         -nan         -nan         -nan         -nan         -nan         -nan         -nan         -nan         -nan         -nan         -nan         -nan         -nan         -nan         -nan         -nan         -nan          nan          nan          nan          nan          nan          nan          nan          nan          nan          nan          nan          nan\r\n",
      "        -nan         -nan         -nan         -nan         -nan         -nan         -nan         -nan         -nan         -nan         -nan         -nan         -nan         -nan         -nan         -nan         -nan         -nan         -nan         -nan         -nan         -nan         -nan         -nan          nan          nan          nan         -nan          nan          nan          nan         -nan          nan          nan          nan\r\n",
      "        -nan         -nan         -nan         -nan         -nan         -nan         -nan         -nan         -nan         -nan         -nan         -nan         -nan         -nan         -nan         -nan         -nan         -nan         -nan         -nan         -nan         -nan         -nan         -nan          nan          nan          nan         -nan          nan          nan          nan         -nan          nan          nan          nan\r\n",
      "        -nan         -nan         -nan         -nan         -nan         -nan         -nan         -nan         -nan         -nan         -nan         -nan         -nan         -nan         -nan         -nan         -nan         -nan         -nan         -nan         -nan         -nan         -nan         -nan         -nan         -nan         -nan         -nan         -nan         -nan         -nan         -nan         -nan         -nan         -nan\r\n",
      "B\r\n",
      "    0.093811  1.35841e-11  9.62374e-11  -3.2094e-10 -1.42574e-11   -0.0328898  4.68101e-10   4.1114e-10  2.38465e-10   -0.0155318 -0.000888705  6.35069e-11    0.0128617   -0.0465858  2.32342e-11    0.0481429 -2.59202e-10  1.01359e-10  3.59529e-10  8.41195e-11  0.000110762   -0.0251078  4.90587e-10         -nan         -nan         -nan         -nan         -nan         -nan         -nan         -nan         -nan         -nan         -nan         -nan\r\n",
      "  1.3584e-11     0.093811 -2.01083e-10  1.44122e-10   -0.0328898 -1.42575e-11  9.67814e-10  1.19252e-09  5.07346e-10  0.000888705   -0.0155318  2.54851e-10   -0.0465858   -0.0128617    0.0481429  2.32341e-11 -1.64416e-10 -1.10994e-10  4.29813e-10  5.87656e-10    0.0251078  0.000110762 -5.38432e-10         -nan         -nan         -nan         -nan         -nan         -nan         -nan         -nan         -nan         -nan         -nan         -nan\r\n",
      " 9.62374e-11 -2.01083e-10     0.105869   0.00531314  1.87153e-11  -2.5885e-11  -0.00665939  -0.00665939  -0.00360465 -1.36152e-10  8.74934e-11  -0.00163743  2.40978e-11  2.29636e-10 -1.50986e-10  -1.3033e-11   -0.0640685   0.00171417   -0.0024502   -0.0196654 -7.97162e-11  1.94459e-10   -0.0418872         -nan         -nan         -nan         -nan         -nan         -nan         -nan         -nan         -nan         -nan         -nan         -nan\r\n",
      " -3.2094e-10  1.44122e-10   0.00531314     0.105869   -2.228e-11  3.15399e-10   0.00665939   0.00665939   0.00360465  1.60339e-10 -1.30072e-10   0.00163743  2.77723e-12 -1.92787e-10  9.20717e-12 -5.05935e-10   0.00171417   -0.0640685    0.0196654    0.0024502  5.13578e-12   4.7967e-11    0.0418872         -nan         -nan         -nan         -nan         -nan         -nan         -nan         -nan         -nan         -nan         -nan         -nan\r\n",
      "-1.42574e-11   -0.0328898  1.87153e-11   -2.228e-11     0.240891  6.64315e-13   9.4402e-10  6.54506e-10  5.49392e-10 -0.000826488    0.0144444  1.60933e-10  -0.00881368  -0.00243334    0.0441772 -9.17853e-11 -4.10075e-11  4.24909e-10  2.15373e-10  1.15768e-11   0.00438142  1.93284e-05  5.21099e-10         -nan         -nan         -nan         -nan         -nan         -nan         -nan         -nan         -nan         -nan         -nan         -nan\r\n",
      "  -0.0328898 -1.42575e-11  -2.5885e-11  3.15399e-10  6.64364e-13     0.240891 -4.38219e-11 -4.73866e-11 -4.47712e-11    0.0144444  0.000826488  1.05762e-11   0.00243334  -0.00881368 -9.17855e-11    0.0441772  2.23138e-10 -1.93421e-11 -1.02601e-10    2.813e-10  1.93283e-05  -0.00438142 -4.88493e-10         -nan         -nan         -nan         -nan         -nan         -nan         -nan         -nan         -nan         -nan         -nan         -nan\r\n",
      " 4.68101e-10  9.67814e-10  -0.00665939   0.00665939   9.4402e-10 -4.38219e-11     0.221873     0.110691     0.062998 -1.78769e-11 -5.48459e-10    0.0286172 -1.00118e-09 -2.90114e-09 -7.94443e-10   2.5862e-10    -0.010058  -0.00715717   -0.0330842    0.0292701  1.48731e-09 -5.30184e-10  -0.00289081         -nan         -nan         -nan         -nan         -nan         -nan         -nan         -nan         -nan         -nan         -nan         -nan\r\n",
      "  4.1114e-10  1.19252e-09  -0.00665939   0.00665939  6.54506e-10 -4.73866e-11     0.110691     0.221873     0.062998 -6.04558e-11 -5.72645e-10    0.0286172 -1.03803e-09 -2.87427e-09 -2.75475e-10  1.16842e-10   0.00715717     0.010058    0.0292701   -0.0330842  1.72937e-09 -4.54431e-10  -0.00289081         -nan         -nan         -nan         -nan         -nan         -nan         -nan         -nan         -nan         -nan         -nan         -nan\r\n",
      " 2.38465e-10  5.07346e-10  -0.00360465   0.00360465  5.49392e-10 -4.47712e-11     0.062998     0.062998     0.429278 -2.30972e-10  -6.8439e-10   -0.0121538 -4.22073e-10 -8.97506e-10 -4.70426e-10  1.29976e-10  6.19136e-06 -6.19138e-06 -1.82823e-05 -1.82822e-05  1.01356e-09 -6.37688e-10  5.53982e-05         -nan         -nan         -nan         -nan         -nan         -nan         -nan         -nan         -nan         -nan         -nan         -nan\r\n",
      "  -0.0155318  0.000888705 -1.36152e-10  1.60339e-10 -0.000826488    0.0144444 -1.78769e-11 -6.04558e-11 -2.30972e-10     0.463967 -2.13142e-12  1.17864e-10 -0.000207466  0.000612617  0.000592699   -0.0103585  6.64385e-10 -5.19191e-12  1.34039e-10   1.5064e-09  0.000934987    0.0177102 -1.63372e-09         -nan         -nan         -nan         -nan         -nan         -nan         -nan         -nan         -nan         -nan         -nan         -nan\r\n",
      "-0.000888705   -0.0155318  8.74934e-11 -1.30072e-10    0.0144444  0.000826488 -5.48459e-10 -5.72645e-10  -6.8439e-10 -2.13138e-12     0.463967  1.23377e-10  0.000612617  0.000207466   -0.0103585 -0.000592699 -2.66138e-11  1.39898e-09   6.9819e-10  3.89978e-11   -0.0177102  0.000934987  1.78273e-09         -nan         -nan         -nan         -nan         -nan         -nan         -nan         -nan         -nan         -nan         -nan         -nan\r\n",
      " 6.35069e-11  2.54851e-10  -0.00163743   0.00163743  1.60933e-10  1.05762e-11    0.0286172    0.0286172   -0.0121538  1.17864e-10  1.23377e-10     0.636067  4.92973e-11 -4.09127e-10  1.95681e-10   8.2778e-11  -0.00671308   0.00671308    0.0198228    0.0198228  9.92481e-11 -2.30035e-12  4.37389e-05         -nan         -nan         -nan         -nan         -nan         -nan         -nan         -nan         -nan         -nan         -nan         -nan\r\n",
      "   0.0128617   -0.0465858  2.40978e-11  2.77723e-12  -0.00881368   0.00243334 -1.00118e-09 -1.03803e-09 -4.22073e-10 -0.000207466  0.000612617  4.92973e-11     0.917068 -7.50621e-11    0.0214875  -0.00593242  2.20544e-10 -4.53242e-10 -1.22868e-09 -7.76517e-10    0.0223803   0.00628529 -1.02146e-10         -nan         -nan         -nan         -nan         -nan         -nan         -nan         -nan         -nan         -nan         -nan         -nan\r\n",
      "  -0.0465858   -0.0128617  2.29636e-10 -1.92787e-10  -0.00243334  -0.00881368 -2.90114e-09 -2.87427e-09 -8.97506e-10  0.000612617  0.000207466 -4.09127e-10  -7.5062e-11     0.917068   0.00593242    0.0214875  7.39223e-10 -1.19139e-09 -2.67328e-09 -2.90598e-09   0.00628529   -0.0223803 -6.26538e-11         -nan         -nan         -nan         -nan         -nan         -nan         -nan         -nan         -nan         -nan         -nan         -nan\r\n",
      " 2.32342e-11    0.0481429 -1.50986e-10  9.20717e-12    0.0441772 -9.17855e-11 -7.94443e-10 -2.75475e-10 -4.70426e-10  0.000592699   -0.0103585  1.95681e-10    0.0214875   0.00593242     0.981535 -7.19794e-11  -5.4167e-11  1.86601e-10 -5.44313e-11  1.35605e-10  -0.00424838 -1.87415e-05  2.61222e-10         -nan         -nan         -nan         -nan         -nan         -nan         -nan         -nan         -nan         -nan         -nan         -nan\r\n",
      "   0.0481429  2.32341e-11  -1.3033e-11 -5.05935e-10 -9.17854e-11    0.0441772   2.5862e-10  1.16842e-10  1.29976e-10   -0.0103585 -0.000592699   8.2778e-11  -0.00593242    0.0214875 -7.19793e-11     0.981535 -2.92993e-11 -1.60737e-10  1.09395e-10  2.41829e-10 -1.87415e-05   0.00424838  1.75205e-10         -nan         -nan         -nan         -nan         -nan         -nan         -nan         -nan         -nan         -nan         -nan         -nan\r\n",
      "-2.59202e-10 -1.64416e-10   -0.0640685   0.00171417 -4.10075e-11  2.23138e-10    -0.010058   0.00715717  6.19136e-06  6.64385e-10 -2.66138e-11  -0.00671308  2.20544e-10  7.39223e-10  -5.4167e-11 -2.92993e-11      1.06903   -0.0127667   -0.0246932   -0.0246932  -3.9396e-10  2.10525e-10    0.0150558         -nan         -nan         -nan         -nan         -nan         -nan         -nan         -nan         -nan         -nan         -nan         -nan\r\n",
      " 1.01359e-10 -1.10994e-10   0.00171417   -0.0640685  4.24909e-10 -1.93421e-11  -0.00715717     0.010058 -6.19138e-06 -5.19191e-12  1.39898e-09   0.00671308 -4.53242e-10 -1.19139e-09  1.86601e-10 -1.60737e-10   -0.0127667      1.06903    0.0246932    0.0246932  2.18617e-10  1.49349e-12   -0.0150558         -nan         -nan         -nan         -nan         -nan         -nan         -nan         -nan         -nan         -nan         -nan         -nan\r\n",
      " 3.59529e-10  4.29813e-10   -0.0024502    0.0196654  2.15373e-10 -1.02601e-10   -0.0330842    0.0292701 -1.82823e-05  1.34039e-10   6.9819e-10    0.0198228 -1.22868e-09 -2.67328e-09 -5.44313e-11  1.09395e-10   -0.0246932    0.0246932      1.13359    0.0773196   8.7963e-10 -5.99744e-10     0.005438         -nan         -nan         -nan         -nan         -nan         -nan         -nan         -nan         -nan         -nan         -nan         -nan\r\n",
      " 8.41195e-11  5.87656e-10   -0.0196654    0.0024502  1.15768e-11    2.813e-10    0.0292701   -0.0330842 -1.82822e-05   1.5064e-09  3.89978e-11    0.0198228 -7.76517e-10 -2.90598e-09  1.35605e-10  2.41829e-10   -0.0246932    0.0246932    0.0773196      1.13359  1.09087e-09 -4.24577e-10     0.005438         -nan         -nan         -nan         -nan         -nan         -nan         -nan         -nan         -nan         -nan         -nan         -nan\r\n",
      " 0.000253026    0.0573567 -4.72178e-10  4.20232e-10   0.00347861  1.53457e-05  7.51795e-09   7.8216e-09  1.20425e-09  0.000538038   -0.0101913  2.34326e-10    0.0179468   0.00504017   -0.0191591 -8.45194e-05 -9.06498e-11  7.13092e-11 -1.66024e-10  5.18702e-12     0.600541  2.21685e-10 -3.19171e-09         -nan         -nan         -nan         -nan         -nan         -nan         -nan         -nan         -nan         -nan         -nan         -nan\r\n",
      "  -0.0573567  0.000253026  3.44581e-10  -4.1768e-11  1.53457e-05  -0.00347861 -4.34477e-09 -4.29142e-09 -7.17176e-10    0.0101913  0.000538038 -1.52048e-10   0.00504017   -0.0179468 -8.45194e-05    0.0191591 -1.00899e-10  2.71814e-10  3.23431e-11   5.0872e-11  2.21686e-10     0.600541 -5.04413e-09         -nan         -nan         -nan         -nan         -nan         -nan         -nan         -nan         -nan         -nan         -nan         -nan\r\n",
      " 1.98274e-10 -3.36872e-10    -0.042368     0.042368  5.91108e-10 -4.73056e-10  -0.00285985  -0.00285985 -0.000438214 -1.50215e-09  1.61576e-09 -0.000214365 -5.06099e-11 -4.23234e-11  3.64379e-10  1.53203e-10    0.0160953   -0.0160953   0.00532662   0.00532662 -3.64824e-09 -5.04857e-09      1.98481         -nan         -nan         -nan         -nan         -nan         -nan         -nan         -nan         -nan         -nan         -nan         -nan\r\n",
      "        -nan         -nan         -nan         -nan         -nan         -nan         -nan         -nan         -nan         -nan         -nan         -nan         -nan         -nan         -nan         -nan         -nan         -nan         -nan         -nan         -nan         -nan         -nan         -nan         -nan         -nan         -nan         -nan         -nan         -nan         -nan         -nan         -nan         -nan         -nan\r\n",
      "        -nan         -nan         -nan         -nan         -nan         -nan         -nan         -nan         -nan         -nan         -nan         -nan         -nan         -nan         -nan         -nan         -nan         -nan         -nan         -nan         -nan         -nan         -nan         -nan         -nan         -nan         -nan         -nan         -nan         -nan         -nan         -nan         -nan         -nan         -nan\r\n",
      "        -nan         -nan         -nan         -nan         -nan         -nan         -nan         -nan         -nan         -nan         -nan         -nan         -nan         -nan         -nan         -nan         -nan         -nan         -nan         -nan         -nan         -nan         -nan         -nan         -nan         -nan         -nan         -nan         -nan         -nan         -nan         -nan         -nan         -nan         -nan\r\n",
      "        -nan         -nan         -nan         -nan         -nan         -nan         -nan         -nan         -nan         -nan         -nan         -nan         -nan         -nan         -nan         -nan         -nan         -nan         -nan         -nan         -nan         -nan         -nan         -nan         -nan         -nan         -nan         -nan         -nan         -nan         -nan         -nan         -nan         -nan         -nan\r\n",
      "        -nan         -nan         -nan         -nan         -nan         -nan         -nan         -nan         -nan         -nan         -nan         -nan         -nan         -nan         -nan         -nan         -nan         -nan         -nan         -nan         -nan         -nan         -nan         -nan         -nan         -nan         -nan         -nan         -nan         -nan         -nan         -nan         -nan         -nan         -nan\r\n",
      "        -nan         -nan         -nan         -nan         -nan         -nan         -nan         -nan         -nan         -nan         -nan         -nan         -nan         -nan         -nan         -nan         -nan         -nan         -nan         -nan         -nan         -nan         -nan         -nan         -nan         -nan         -nan         -nan         -nan         -nan         -nan         -nan         -nan         -nan         -nan\r\n",
      "        -nan         -nan         -nan         -nan         -nan         -nan         -nan         -nan         -nan         -nan         -nan         -nan         -nan         -nan         -nan         -nan         -nan         -nan         -nan         -nan         -nan         -nan         -nan         -nan         -nan         -nan         -nan         -nan         -nan         -nan         -nan         -nan         -nan         -nan         -nan\r\n",
      "        -nan         -nan         -nan         -nan         -nan         -nan         -nan         -nan         -nan         -nan         -nan         -nan         -nan         -nan         -nan         -nan         -nan         -nan         -nan         -nan         -nan         -nan         -nan         -nan         -nan         -nan         -nan         -nan         -nan         -nan         -nan         -nan         -nan         -nan         -nan\r\n",
      "        -nan         -nan         -nan         -nan         -nan         -nan         -nan         -nan         -nan         -nan         -nan         -nan         -nan         -nan         -nan         -nan         -nan         -nan         -nan         -nan         -nan         -nan         -nan         -nan         -nan         -nan         -nan         -nan         -nan         -nan         -nan         -nan         -nan         -nan         -nan\r\n",
      "        -nan         -nan         -nan         -nan         -nan         -nan         -nan         -nan         -nan         -nan         -nan         -nan         -nan         -nan         -nan         -nan         -nan         -nan         -nan         -nan         -nan         -nan         -nan         -nan         -nan         -nan         -nan         -nan         -nan         -nan         -nan         -nan         -nan         -nan         -nan\r\n",
      "        -nan         -nan         -nan         -nan         -nan         -nan         -nan         -nan         -nan         -nan         -nan         -nan         -nan         -nan         -nan         -nan         -nan         -nan         -nan         -nan         -nan         -nan         -nan         -nan         -nan         -nan         -nan         -nan         -nan         -nan         -nan         -nan         -nan         -nan         -nan\r\n",
      "        -nan         -nan         -nan         -nan         -nan         -nan         -nan         -nan         -nan         -nan         -nan         -nan         -nan         -nan         -nan         -nan         -nan         -nan         -nan         -nan         -nan         -nan         -nan          nan          nan          nan          nan          nan          nan          nan          nan          nan          nan          nan          nan\r\n",
      "an error occurred:\r\n",
      "Small generalized eigenvalue problem failed.\r\n"
     ]
    }
   ],
   "source": [
    "!xtp_tools -c job_name=CO geometry_optimization.maxiter=1 dftpackage.basisset=3-21G dftpackage.auxbasisset=aux-def2-svp gwbse.gw.mode=G0W0 -e dftgwbse -t 4"
   ]
  },
  {
   "cell_type": "markdown",
   "metadata": {},
   "source": [
    "Notice that we are using 4 threads. The results will be stored in a file named `CO_summary.xml` in the current work directory, together with the optimization step in `optimisation.trj` and the orbitals in [hdf5 format](https://www.hdfgroup.org/solutions/hdf5/) saved on `CO.orb`."
   ]
  }
 ],
 "metadata": {
  "kernelspec": {
   "display_name": "Python 3",
   "language": "python",
   "name": "python3"
  },
  "language_info": {
   "codemirror_mode": {
    "name": "ipython",
    "version": 3
   },
   "file_extension": ".py",
   "mimetype": "text/x-python",
   "name": "python",
   "nbconvert_exporter": "python",
   "pygments_lexer": "ipython3",
   "version": "3.11.3"
  }
 },
 "nbformat": 4,
 "nbformat_minor": 4
}
