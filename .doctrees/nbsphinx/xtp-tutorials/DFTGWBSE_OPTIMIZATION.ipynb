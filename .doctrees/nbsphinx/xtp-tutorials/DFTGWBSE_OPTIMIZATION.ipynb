{
 "cells": [
  {
   "cell_type": "markdown",
   "metadata": {},
   "source": [
    "## DFT + GWBSE Optimization Using CO"
   ]
  },
  {
   "cell_type": "markdown",
   "metadata": {},
   "source": [
    "## Introduction\n",
    "This tutorial explains how to perform a molecular geometric optimization using the **GWBSE** method. See [the GW Compendium: A Practical Guide to Theoretical Photoemission Spectroscopy](https://doi.org/10.3389/fchem.2019.00377), for an excellent introduction to the method."
   ]
  },
  {
   "cell_type": "markdown",
   "metadata": {},
   "source": [
    "## Requirements\n",
    "* You will need to install **VOTCA** using the instructions described [here](https://github.com/votca/votca/blob/master/share/doc/INSTALL.rst)\n",
    "* Once the installation is completed you need to activate the VOTCA enviroment by running the `VOTCARC.bash` script that has been installed at the bin subfolder for the path that you have provided for the installation step above"
   ]
  },
  {
   "cell_type": "markdown",
   "metadata": {},
   "source": [
    "## Preparing the input\n",
    "To run a DFT-GWBSE calculation we will use the [xtp_tools](https://www.votca.org/xtp/xtp_tools_overview.html) calculator."
   ]
  },
  {
   "cell_type": "markdown",
   "metadata": {},
   "source": [
    "we can now change the calculator mode from single point energy calculation to optimization as follows by adding \n",
    "`-c geometry_optimization.maxiter=1` which enables optimization with one iteration. "
   ]
  },
  {
   "cell_type": "markdown",
   "metadata": {},
   "source": [
    "Because geometry optimsation is quite expensive numerically we chose a smaller basisset and G0W0 Finally, to run the calculation we just need the following command (This still takes a while)"
   ]
  },
  {
   "cell_type": "code",
   "execution_count": 1,
   "metadata": {
    "execution": {
     "iopub.execute_input": "2022-10-01T22:40:45.265424Z",
     "iopub.status.busy": "2022-10-01T22:40:45.264796Z",
     "iopub.status.idle": "2022-10-01T22:41:54.304216Z",
     "shell.execute_reply": "2022-10-01T22:41:54.304727Z"
    }
   },
   "outputs": [
    {
     "name": "stdout",
     "output_type": "stream",
     "text": [
      "==================================================\r\n",
      "========   VOTCA (http://www.votca.org)   ========\r\n",
      "==================================================\r\n",
      "\r\n",
      "please submit bugs to https://github.com/votca/xtp/issues\r\n",
      "\r\n",
      "xtp_tools, version 2023-dev gitid: 2b03a4e (compiled Oct  1 2022, 22:29:50)\r\n",
      "votca_csg, version 2023-dev gitid: 2b03a4e (compiled Oct  1 2022, 22:09:28)\r\n",
      "votca_tools, version 2023-dev gitid: 2b03a4e (compiled Oct  1 2022, 22:05:46)\r\n",
      "\r\n",
      "Initializing tool\r\n",
      "... dftgwbse Evaluating tool\r\n",
      "... dftgwbse  Using 4 threads\r\n",
      "... ... Reading structure from CO.xyz\r\n",
      "... ... Requested geometry optimization of excited state s1\r\n",
      "... ... Initial state: s1\r\n",
      "... ... WARNING: No tracker is used \r\n",
      "... ... Convergence of total energy: 0.000001 Hartree \r\n",
      "... ... Convergence of RMS Force:    0.000030 Hartree/Bohr \r\n",
      "... ... Convergence of Max Force:    0.000100 Hartree/Bohr \r\n",
      "... ... Convergence of RMS Step:     0.000600 Bohr \r\n",
      "... ... Convergence of Max Step:     0.001000 Bohr \r\n",
      "... ... Initial trust radius:        0.018897 Bohr\r\n",
      "... ... \r\n",
      "... ... =========== OPTIMIZATION SUMMARY ================================= \r\n",
      "... ... At iteration  0\r\n",
      "... ...  ---- POSITIONS (Angstrom)   \r\n",
      "... ...  Atom\t x\t  y\t  z \r\n",
      "... ...    0    +0.0000  +0.0000  +0.0000\r\n",
      "... ...    1    +1.2000  +0.0000  +0.0000\r\n",
      "... ...    Total energy:     -112.26831841 Hartree \r\n",
      "... ...    Trust radius:       0.01889726 Bohr     \r\n",
      "... ...  ---- FORCES (Hartree/Bohr)   \r\n",
      "... ...       central differences   \r\n",
      "... ...       displacement 0.0010 Angstrom   \r\n",
      "... ...  Atom\t x\t  y\t  z \r\n",
      "... ...    0    -0.1314  -0.0000  -0.0000\r\n",
      "... ...    1    +0.1314  +0.0000  +0.0000A\r\n",
      "    0.301149 -1.39371e-12  7.78168e-10 -8.99643e-10 -1.20883e-09 -1.05153e-09   -0.0519724  1.02476e-12  -5.9644e-10   -0.0141333    0.0105484 -2.27605e-10    0.0390246 -0.000575645    0.0423984 -8.09216e-13 -1.53668e-10 -3.10018e-10  1.93104e-10 -4.05363e-10     0.107078   0.00206045 -6.06139e-11          nan          nan          nan          nan          nan          nan          nan          nan          nan          nan          nan          nan\r\n",
      "-1.39371e-12     0.301149 -1.58368e-10  3.15676e-10 -2.12739e-10 -9.12645e-11  1.02477e-12   -0.0519724  7.83411e-12   -0.0105484   -0.0141333  3.46258e-12 -0.000575645   -0.0390246  -8.0927e-13    0.0423984 -2.08646e-10  3.61234e-12 -1.63021e-10  6.67167e-12   0.00206045    -0.107078 -6.00552e-11          nan          nan          nan          nan          nan          nan          nan          nan          nan          nan          nan          nan\r\n",
      " 7.78168e-10 -1.58368e-10     0.393003   -0.0727698    -0.111012    -0.111012 -1.75146e-10  9.02125e-11   -0.0544342 -3.36887e-11  1.20779e-10   -0.0245376  1.90114e-09 -6.36269e-11  1.18571e-10  -2.9693e-11    0.0361302   -0.0111289    0.0170241   -0.0177212  8.03537e-09  4.15862e-10    0.0240678          nan          nan          nan          nan          nan          nan          nan          nan          nan          nan          nan          nan\r\n",
      "-8.99643e-10  3.15676e-10   -0.0727698     0.393003     0.111012     0.111012  2.19099e-10 -1.44966e-10    0.0544342  3.42722e-11 -1.26078e-10    0.0245376 -1.92098e-09  3.82322e-11 -2.13678e-10  1.51936e-10    0.0111289   -0.0361302   -0.0177212    0.0170241 -8.12461e-09 -5.33797e-10   -0.0240678          nan          nan          nan          nan          nan          nan          nan          nan          nan          nan          nan          nan\r\n",
      "-1.20883e-09 -2.12739e-10    -0.111012     0.111012     0.458888     0.138655  2.94948e-10  1.11098e-10    0.0729337   1.4462e-10 -3.90898e-11    0.0328767 -2.57351e-09  -1.9097e-12 -2.86878e-10 -1.13978e-10    0.0167983    0.0174954   -0.0208209   -0.0264382 -1.08902e-08 -1.54672e-10    0.0100166          nan          nan          nan          nan          nan          nan          nan          nan          nan          nan          nan          nan\r\n",
      "-1.05153e-09 -9.12645e-11    -0.111012     0.111012     0.138655     0.458888  2.40194e-10  6.71449e-11    0.0729337  1.39321e-10 -3.96732e-11    0.0328767 -2.54811e-09 -2.17516e-11 -1.64635e-10 -1.88702e-11    0.0174954    0.0167983    0.0264382    0.0208209 -1.07713e-08 -2.44687e-10    0.0100166          nan          nan          nan          nan          nan          nan          nan          nan          nan          nan          nan          nan\r\n",
      "  -0.0519724  1.02477e-12 -1.75146e-10  2.19099e-10  2.94948e-10  2.40194e-10     0.486835  -2.4256e-13  1.72842e-10    0.0109269  -0.00815535  3.80701e-11   0.00830516 -0.000122508    0.0301449  2.92678e-12 -9.11794e-11  1.01252e-10  1.26555e-10  1.34538e-10   -0.0549838  -0.00105803  3.98007e-11          nan          nan          nan          nan          nan          nan          nan          nan          nan          nan          nan          nan\r\n",
      " 1.02476e-12   -0.0519724  9.02125e-11 -1.44966e-10  1.11098e-10  6.71449e-11 -2.42562e-13     0.486835  6.62852e-13   0.00815535    0.0109269  3.72154e-13 -0.000122508  -0.00830516  2.92683e-12    0.0301449  2.68458e-10  7.36536e-12  2.02051e-10 -9.61961e-12  -0.00105803    0.0549838 -2.31911e-10          nan          nan          nan          nan          nan          nan          nan          nan          nan          nan          nan          nan\r\n",
      " -5.9644e-10  7.83411e-12   -0.0544342    0.0544342    0.0729337    0.0729337  1.72842e-10  6.62852e-13     0.659928  2.68622e-10 -2.06559e-10  -0.00518518 -7.77549e-10  4.33202e-12 -1.32471e-10  3.22204e-13   0.00290983   0.00290983  -0.00378108   0.00378108 -5.25002e-09   -1.701e-10  -0.00251609          nan          nan          nan          nan          nan          nan          nan          nan          nan          nan          nan          nan\r\n",
      "  -0.0141333   -0.0105484 -3.36887e-11  3.42722e-11   1.4462e-10  1.39321e-10    0.0109269   0.00815535  2.68622e-10     0.668107   7.2224e-13 -7.84288e-11  1.34045e-05 -1.03158e-05  -0.00726079   -0.0054191 -2.59226e-11 -3.28027e-11  1.08788e-09 -4.33479e-11   -0.0333098     0.023877 -8.07952e-10          nan          nan          nan          nan          nan          nan          nan          nan          nan          nan          nan          nan\r\n",
      "   0.0105484   -0.0141333  1.20779e-10 -1.26078e-10 -3.90898e-11 -3.96732e-11  -0.00815535    0.0109269 -2.06559e-10  7.22098e-13     0.668107  5.96366e-11 -1.03158e-05 -1.34045e-05    0.0054191  -0.00726079  1.07343e-09  2.88913e-11 -2.52702e-11  1.83901e-11     0.023877    0.0333098 -1.12382e-09          nan          nan          nan          nan          nan          nan          nan          nan          nan          nan          nan          nan\r\n",
      "-2.27605e-10  3.46258e-12   -0.0245376    0.0245376    0.0328767    0.0328767  3.80701e-11  3.72154e-13  -0.00518518 -7.84288e-11  5.96366e-11     0.793012 -5.00993e-10  3.71587e-12 -7.51912e-11  9.01863e-13   0.00933376   0.00933376   -0.0121285    0.0121285  -2.0008e-09 -6.66874e-11  -0.00102698          nan          nan          nan          nan          nan          nan          nan          nan          nan          nan          nan          nan\r\n",
      "   0.0390246 -0.000575645  1.90114e-09 -1.92098e-09 -2.57351e-09 -2.54811e-09   0.00830516 -0.000122508 -7.77549e-10  1.34045e-05 -1.03158e-05 -5.00993e-10     0.954263  -3.9996e-13   -0.0128737  0.000189898 -1.22953e-09 -1.12173e-09  1.59819e-09 -1.45735e-09   -0.0198848 -0.000676144  1.18105e-10          nan          nan          nan          nan          nan          nan          nan          nan          nan          nan          nan          nan\r\n",
      "-0.000575645   -0.0390246 -6.36269e-11  3.82322e-11  -1.9097e-12 -2.17516e-11 -0.000122508  -0.00830516  4.33202e-12 -1.03158e-05 -1.34045e-05  3.71587e-12 -3.99963e-13     0.954263  0.000189898    0.0128737 -5.51308e-11  8.57112e-11 -5.72807e-11  -5.0517e-11  0.000676144   -0.0198848 -3.53207e-11          nan          nan          nan          nan          nan          nan          nan          nan          nan          nan          nan          nan\r\n",
      "   0.0423984 -8.09269e-13  1.18571e-10 -2.13678e-10 -2.86878e-10 -1.64635e-10    0.0301449  2.92683e-12 -1.32471e-10  -0.00726079    0.0054191 -7.51912e-11   -0.0128737  0.000189898     0.973645  1.58461e-12 -1.19192e-10 -3.33664e-11  1.59349e-10 -4.15807e-11    0.0229463  0.000441545 -1.74061e-11          nan          nan          nan          nan          nan          nan          nan          nan          nan          nan          nan          nan\r\n",
      "-8.09216e-13    0.0423984  -2.9693e-11  1.51936e-10 -1.13978e-10 -1.88702e-11  2.92678e-12    0.0301449  3.22204e-13   -0.0054191  -0.00726079  9.01863e-13  0.000189898    0.0128737  1.58461e-12     0.973645  1.25622e-10  7.85305e-12  9.31759e-11 -7.35061e-12  0.000441545   -0.0229463 -5.38014e-10          nan          nan          nan          nan          nan          nan          nan          nan          nan          nan          nan          nan\r\n",
      "-1.53668e-10 -2.08646e-10    0.0361302    0.0111289    0.0167983    0.0174954 -9.11794e-11  2.68458e-10   0.00290983 -2.59226e-11  1.07343e-09   0.00933376 -1.22953e-09 -5.51308e-11 -1.19192e-10  1.25622e-10      1.03714    0.0179718   -0.0206432    0.0206432 -1.53757e-09  1.51733e-11   0.00299893          nan          nan          nan          nan          nan          nan          nan          nan          nan          nan          nan          nan\r\n",
      "-3.10018e-10  3.61234e-12   -0.0111289   -0.0361302    0.0174954    0.0167983  1.01252e-10  7.36536e-12   0.00290983 -3.28027e-11  2.88913e-11   0.00933376 -1.12173e-09  8.57112e-11 -3.33664e-11  7.85305e-12    0.0179718      1.03714   -0.0206432    0.0206432 -1.58783e-09 -5.51912e-11   0.00299893          nan          nan          nan          nan          nan          nan          nan          nan          nan          nan          nan          nan\r\n",
      " 1.93104e-10 -1.63021e-10    0.0170241   -0.0177212   -0.0208209    0.0264382  1.26555e-10  2.02051e-10  -0.00378108  1.08788e-09 -2.52702e-11   -0.0121285  1.59819e-09 -5.72807e-11  1.59349e-10  9.31759e-11   -0.0206432   -0.0206432      1.04808   -0.0289094  1.99185e-09  1.11864e-10    0.0043161          nan          nan          nan          nan          nan          nan          nan          nan          nan          nan          nan          nan\r\n",
      "-4.05363e-10  6.67167e-12   -0.0177212    0.0170241   -0.0264382    0.0208209  1.34538e-10 -9.61961e-12   0.00378108 -4.33479e-11  1.83901e-11    0.0121285 -1.45735e-09  -5.0517e-11 -4.15807e-11 -7.35061e-12    0.0206432    0.0206432   -0.0289094      1.04808 -2.06221e-09 -6.16378e-11   -0.0043161          nan          nan          nan          nan          nan          nan          nan          nan          nan          nan          nan          nan\r\n",
      "  -0.0745723  -0.00143496  -5.4913e-09  5.51077e-09  7.38455e-09  7.36072e-09    0.0700164   0.00134729  4.11256e-09    0.0247078   -0.0177109  1.74885e-09   0.00919316 -0.000312595   -0.0362821 -0.000698159    1.245e-09  1.27336e-09 -1.61169e-09  1.65231e-09    -0.195058 -8.52532e-12 -3.63908e-10          nan          nan          nan          nan          nan          nan          nan          nan          nan          nan          nan          nan\r\n",
      " -0.00143496    0.0745723 -4.33042e-10  4.56638e-10  3.17182e-11  5.12428e-11   0.00134729   -0.0700164  1.31794e-10   -0.0177109   -0.0247078  5.69493e-11  0.000312595   0.00919316 -0.000698159    0.0362821 -4.16679e-11  -1.2469e-12 -1.14237e-10  8.56844e-11 -8.52537e-12    -0.195058 -6.16415e-09          nan          nan          nan          nan          nan          nan          nan          nan          nan          nan          nan          nan\r\n",
      " 1.15159e-11  8.02008e-10   0.00567026  -0.00567026    0.0180177    0.0180177 -5.63723e-11 -7.00217e-10   0.00436825 -1.14754e-09 -1.47375e-09   0.00187665 -1.42121e-10  1.20301e-10  1.80549e-11  3.41348e-11   0.00560316   0.00560316   0.00308588  -0.00308588 -8.16551e-10 -6.32134e-09      1.05452          nan          nan          nan          nan          nan          nan          nan          nan          nan          nan          nan          nan\r\n",
      "        -nan         -nan         -nan         -nan         -nan         -nan         -nan         -nan         -nan         -nan         -nan         -nan         -nan         -nan         -nan         -nan         -nan         -nan         -nan         -nan         -nan         -nan         -nan          nan          nan          nan          nan          nan          nan          nan          nan          nan          nan          nan          nan\r\n",
      "        -nan         -nan         -nan         -nan         -nan         -nan         -nan         -nan         -nan         -nan         -nan         -nan         -nan         -nan         -nan         -nan         -nan         -nan         -nan         -nan         -nan         -nan         -nan         -nan         -nan         -nan         -nan         -nan         -nan         -nan         -nan         -nan         -nan         -nan         -nan\r\n",
      "        -nan         -nan         -nan         -nan         -nan         -nan         -nan         -nan         -nan         -nan         -nan         -nan         -nan         -nan         -nan         -nan         -nan         -nan         -nan         -nan         -nan         -nan         -nan         -nan         -nan         -nan         -nan         -nan         -nan         -nan         -nan         -nan         -nan         -nan         -nan\r\n",
      "        -nan         -nan         -nan         -nan         -nan         -nan         -nan         -nan         -nan         -nan         -nan         -nan         -nan         -nan         -nan         -nan         -nan         -nan         -nan         -nan         -nan         -nan         -nan          nan          nan          nan          nan          nan          nan          nan          nan          nan          nan          nan          nan\r\n",
      "        -nan         -nan         -nan         -nan         -nan         -nan         -nan         -nan         -nan         -nan         -nan         -nan         -nan         -nan         -nan         -nan         -nan         -nan         -nan         -nan         -nan         -nan         -nan          nan          nan          nan          nan          nan          nan          nan          nan          nan          nan          nan          nan\r\n",
      "        -nan         -nan         -nan         -nan         -nan         -nan         -nan         -nan         -nan         -nan         -nan         -nan         -nan         -nan         -nan         -nan         -nan         -nan         -nan         -nan         -nan         -nan         -nan         -nan         -nan         -nan         -nan         -nan         -nan         -nan         -nan         -nan         -nan         -nan         -nan\r\n",
      "        -nan         -nan         -nan         -nan         -nan         -nan         -nan         -nan         -nan         -nan         -nan         -nan         -nan         -nan         -nan         -nan         -nan         -nan         -nan         -nan         -nan         -nan         -nan         -nan         -nan         -nan         -nan         -nan         -nan         -nan         -nan         -nan         -nan         -nan         -nan\r\n",
      "        -nan         -nan         -nan         -nan         -nan         -nan         -nan         -nan         -nan         -nan         -nan         -nan         -nan         -nan         -nan         -nan         -nan         -nan         -nan         -nan         -nan         -nan         -nan          nan          nan          nan          nan          nan          nan          nan          nan          nan          nan          nan          nan\r\n",
      "        -nan         -nan         -nan         -nan         -nan         -nan         -nan         -nan         -nan         -nan         -nan         -nan         -nan         -nan         -nan         -nan         -nan         -nan         -nan         -nan         -nan         -nan         -nan          nan          nan          nan          nan          nan          nan          nan          nan          nan          nan          nan          nan\r\n",
      "        -nan         -nan         -nan         -nan         -nan         -nan         -nan         -nan         -nan         -nan         -nan         -nan         -nan         -nan         -nan         -nan         -nan         -nan         -nan         -nan         -nan         -nan         -nan         -nan          nan          nan          nan         -nan          nan          nan          nan         -nan          nan          nan          nan\r\n",
      "        -nan         -nan         -nan         -nan         -nan         -nan         -nan         -nan         -nan         -nan         -nan         -nan         -nan         -nan         -nan         -nan         -nan         -nan         -nan         -nan         -nan         -nan         -nan         -nan          nan          nan          nan         -nan          nan          nan          nan         -nan          nan          nan          nan\r\n",
      "        -nan         -nan         -nan         -nan         -nan         -nan         -nan         -nan         -nan         -nan         -nan         -nan         -nan         -nan         -nan         -nan         -nan         -nan         -nan         -nan         -nan         -nan         -nan         -nan         -nan         -nan         -nan         -nan         -nan         -nan         -nan         -nan         -nan         -nan         -nan\r\n",
      "B\r\n",
      "   0.0903883 -6.21677e-13  2.86177e-10 -3.63246e-10  -4.8839e-10 -3.88566e-10   -0.0326152  6.28511e-13  -3.6943e-10   -0.0118718   0.00886057 -1.51548e-10    0.0481023 -0.000709549    0.0477611 -9.28828e-13 -1.01889e-10  -3.1282e-10  1.23236e-10 -4.09654e-10    0.0244239  0.000469979 -4.25132e-11         -nan         -nan         -nan         -nan         -nan         -nan         -nan         -nan         -nan         -nan         -nan         -nan\r\n",
      "-6.21675e-13    0.0903883 -7.72226e-11  1.77047e-10 -1.23659e-10 -4.65903e-11  6.28517e-13   -0.0326152  4.85202e-12  -0.00886057   -0.0118718   2.3487e-12 -0.000709549   -0.0481023 -9.28884e-13    0.0477611 -2.95622e-10 -9.20339e-12 -2.27973e-10  1.70425e-11  0.000469979   -0.0244239    7.667e-10         -nan         -nan         -nan         -nan         -nan         -nan         -nan         -nan         -nan         -nan         -nan         -nan\r\n",
      " 2.86177e-10 -7.72226e-11     0.139751   -0.0349168   -0.0541881   -0.0541881 -8.44611e-11  6.16566e-11   -0.0391069 -2.42486e-11  1.02315e-10   -0.0190888   2.0487e-09 -7.09982e-11  9.99523e-11 -3.05166e-11    0.0543816   -0.0091903    0.0148931   -0.0158309   4.0973e-10 -8.57197e-11    0.0314451         -nan         -nan         -nan         -nan         -nan         -nan         -nan         -nan         -nan         -nan         -nan         -nan\r\n",
      "-3.63246e-10  1.77047e-10   -0.0349168     0.139751    0.0541881    0.0541881  1.19511e-10 -1.05621e-10    0.0391069   2.4821e-11 -1.08792e-10    0.0190888 -2.07806e-09  3.34784e-11 -2.21913e-10  1.87446e-10    0.0091903   -0.0543816   -0.0158309    0.0148931  -4.8105e-10 -1.07148e-11   -0.0314451         -nan         -nan         -nan         -nan         -nan         -nan         -nan         -nan         -nan         -nan         -nan         -nan\r\n",
      " -4.8839e-10 -1.23659e-10   -0.0541881    0.0541881     0.171911    0.0670773  1.61084e-10  8.12885e-11    0.0523975  1.22454e-10 -2.83941e-11    0.0255761 -2.78366e-09  3.16168e-12 -2.97917e-10 -1.41571e-10    0.0143515    0.0152893   -0.0176646   -0.0459073 -6.48437e-10 -3.58249e-11    0.0290634         -nan         -nan         -nan         -nan         -nan         -nan         -nan         -nan         -nan         -nan         -nan         -nan\r\n",
      "-3.88566e-10 -4.65903e-11   -0.0541881    0.0541881    0.0670773     0.171911  1.17119e-10  4.62386e-11    0.0523975  1.15978e-10 -2.89665e-11    0.0255761 -2.74614e-09 -2.61965e-11 -1.40987e-10 -1.96104e-11    0.0152893    0.0143515    0.0459073    0.0176646 -5.51355e-10 -1.07827e-10    0.0290634         -nan         -nan         -nan         -nan         -nan         -nan         -nan         -nan         -nan         -nan         -nan         -nan\r\n",
      "  -0.0326152  6.28515e-13 -8.44611e-11  1.19511e-10  1.61084e-10  1.17119e-10     0.236624 -1.35801e-13  1.31184e-10    0.0115255  -0.00860211  2.26181e-11   0.00949835 -0.000140109    0.0424653  4.01707e-12 -1.63549e-10  1.23434e-10  2.24694e-10  1.64829e-10   0.00359498  6.91766e-05 -5.88138e-12         -nan         -nan         -nan         -nan         -nan         -nan         -nan         -nan         -nan         -nan         -nan         -nan\r\n",
      " 6.28509e-13   -0.0326152  6.16566e-11 -1.05621e-10  8.12885e-11  4.62386e-11 -1.35806e-13     0.236624  8.16514e-13   0.00860211    0.0115255  4.86535e-13 -0.000140109  -0.00949835  4.01712e-12    0.0424653  4.02592e-10  1.30685e-11  3.02837e-10  -1.5854e-11  6.91766e-05  -0.00359498 -8.20382e-10         -nan         -nan         -nan         -nan         -nan         -nan         -nan         -nan         -nan         -nan         -nan         -nan\r\n",
      " -3.6943e-10  4.85202e-12   -0.0391069    0.0391069    0.0523975    0.0523975  1.31184e-10  8.16514e-13     0.424108  3.28843e-10 -2.52573e-10   -0.0112617 -9.33327e-10  4.72183e-12 -1.79933e-10  4.26337e-13  0.000395959  0.000395959 -0.000514516  0.000514516 -1.09707e-09 -3.92464e-11   0.00122919         -nan         -nan         -nan         -nan         -nan         -nan         -nan         -nan         -nan         -nan         -nan         -nan\r\n",
      "  -0.0118718  -0.00886057 -2.42486e-11   2.4821e-11  1.22454e-10  1.15978e-10    0.0115255   0.00860211  3.28843e-10     0.446812  9.50582e-13 -1.11691e-10 -0.000383686  0.000295275  -0.00865157  -0.00645711 -4.68546e-11 -5.83133e-11  1.82444e-09 -7.89931e-11   -0.0144369    0.0103486 -1.78411e-09         -nan         -nan         -nan         -nan         -nan         -nan         -nan         -nan         -nan         -nan         -nan         -nan\r\n",
      "  0.00886057   -0.0118718  1.02315e-10 -1.08792e-10 -2.83941e-11 -2.89665e-11  -0.00860211    0.0115255 -2.52573e-10  9.50386e-13     0.446812  8.51631e-11  0.000295275  0.000383686   0.00645711  -0.00865157  1.79859e-09  5.31379e-11 -4.59847e-11  3.45261e-11    0.0103486    0.0144369 -2.38087e-09         -nan         -nan         -nan         -nan         -nan         -nan         -nan         -nan         -nan         -nan         -nan         -nan\r\n",
      "-1.51548e-10   2.3487e-12   -0.0190888    0.0190888    0.0255761    0.0255761  2.26181e-11  4.86535e-13   -0.0112617 -1.11691e-10  8.51631e-11     0.627074 -6.51481e-10   4.8773e-12 -1.03755e-10  1.34178e-12    0.0133717    0.0133717   -0.0173755    0.0173755 -2.11082e-10 -1.00826e-11  0.000508727         -nan         -nan         -nan         -nan         -nan         -nan         -nan         -nan         -nan         -nan         -nan         -nan\r\n",
      "   0.0481023 -0.000709549   2.0487e-09 -2.07806e-09 -2.78366e-09 -2.74614e-09   0.00949835 -0.000140109 -9.33327e-10 -0.000383686  0.000295275 -6.51481e-10     0.912954 -7.13518e-13   -0.0215514  0.000317901 -2.20877e-09 -1.99024e-09  2.87108e-09 -2.58553e-09    -0.022703 -0.000771971   5.2677e-11         -nan         -nan         -nan         -nan         -nan         -nan         -nan         -nan         -nan         -nan         -nan         -nan\r\n",
      "-0.000709549   -0.0481023 -7.09982e-11  3.34784e-11  3.16168e-12 -2.61965e-11 -0.000140109  -0.00949835  4.72183e-12  0.000295275  0.000383686   4.8773e-12 -7.13524e-13     0.912954  0.000317901    0.0215514 -1.18425e-10  1.67123e-10 -1.17307e-10 -1.01226e-10  0.000771971    -0.022703  1.06704e-10         -nan         -nan         -nan         -nan         -nan         -nan         -nan         -nan         -nan         -nan         -nan         -nan\r\n",
      "   0.0477611 -9.28883e-13  9.99523e-11 -2.21913e-10 -2.97917e-10 -1.40987e-10    0.0424653  4.01712e-12 -1.79933e-10  -0.00865157   0.00645711 -1.03755e-10   -0.0215514  0.000317901     0.952112  3.01062e-12 -1.96033e-10 -5.10897e-11  2.62218e-10 -6.32082e-11  -0.00321146 -6.17966e-05  -2.6718e-12         -nan         -nan         -nan         -nan         -nan         -nan         -nan         -nan         -nan         -nan         -nan         -nan\r\n",
      "-9.28824e-13    0.0477611 -3.05166e-11  1.87446e-10 -1.41571e-10 -1.96104e-11  4.01707e-12    0.0424653  4.26337e-13  -0.00645711  -0.00865157  1.34178e-12  0.000317901    0.0215514  3.01063e-12     0.952112  2.08136e-10  9.12619e-12  1.54318e-10 -9.37479e-12 -6.17967e-05   0.00321146 -4.76163e-10         -nan         -nan         -nan         -nan         -nan         -nan         -nan         -nan         -nan         -nan         -nan         -nan\r\n",
      "-1.01889e-10 -2.95622e-10    0.0543816    0.0091903    0.0143515    0.0152893 -1.63549e-10  4.02592e-10  0.000395959 -4.68546e-11  1.79859e-09    0.0133717 -2.20877e-09 -1.18425e-10 -1.96033e-10  2.08136e-10      1.07485      0.03388   -0.0383077    0.0383077 -4.73194e-10  1.00282e-10    0.0122839         -nan         -nan         -nan         -nan         -nan         -nan         -nan         -nan         -nan         -nan         -nan         -nan\r\n",
      " -3.1282e-10 -9.20339e-12   -0.0091903   -0.0543816    0.0152893    0.0143515  1.23434e-10  1.30685e-11  0.000395959 -5.83133e-11  5.31379e-11    0.0133717 -1.99024e-09  1.67123e-10 -5.10897e-11  9.12619e-12      0.03388      1.07485   -0.0383077    0.0383077 -5.96537e-10 -7.27627e-11    0.0122839         -nan         -nan         -nan         -nan         -nan         -nan         -nan         -nan         -nan         -nan         -nan         -nan\r\n",
      " 1.23236e-10 -2.27973e-10    0.0148931   -0.0158309   -0.0176646    0.0459073  2.24694e-10  3.02837e-10 -0.000514516  1.82444e-09 -4.59847e-11   -0.0173755  2.87108e-09 -1.17307e-10  2.62218e-10  1.54318e-10   -0.0383077   -0.0383077      1.09515    -0.054177  6.04057e-10  1.06323e-10     0.011371         -nan         -nan         -nan         -nan         -nan         -nan         -nan         -nan         -nan         -nan         -nan         -nan\r\n",
      "-4.09654e-10  1.70425e-11   -0.0158309    0.0148931   -0.0459073    0.0176646  1.64829e-10  -1.5854e-11  0.000514516 -7.89931e-11  3.45261e-11    0.0173755 -2.58553e-09 -1.01226e-10 -6.32082e-11 -9.37479e-12    0.0383077    0.0383077    -0.054177      1.09515 -7.76803e-10  1.66843e-11    -0.011371         -nan         -nan         -nan         -nan         -nan         -nan         -nan         -nan         -nan         -nan         -nan         -nan\r\n",
      "   0.0559711   0.00107703  3.93953e-09 -4.00773e-09 -5.37696e-09 -5.28458e-09   0.00259782  4.99887e-05 -1.12597e-09  -0.00896605     0.006427 -2.79843e-10   -0.0177727  0.000604327   -0.0179748  -0.00034588  5.56134e-11  7.83667e-11  -6.3218e-11  9.78568e-11     0.583856  -9.3134e-12 -2.75957e-10         -nan         -nan         -nan         -nan         -nan         -nan         -nan         -nan         -nan         -nan         -nan         -nan\r\n",
      "  0.00107703   -0.0559711  8.59595e-11 -1.77504e-10 -1.32259e-10 -2.01336e-10  4.99887e-05  -0.00259782 -3.52136e-11     0.006427   0.00896605 -8.96431e-12 -0.000604327   -0.0177727  -0.00034588    0.0179748 -1.40761e-10 -1.06443e-10 -1.14982e-10  9.18917e-11 -9.31349e-12     0.583856 -4.58157e-09         -nan         -nan         -nan         -nan         -nan         -nan         -nan         -nan         -nan         -nan         -nan         -nan\r\n",
      "-6.63155e-11  4.39754e-10    0.0320569   -0.0320569    0.0290372    0.0290372 -3.63369e-12 -8.79801e-10   0.00256204 -1.64465e-09 -2.19224e-09   0.00130942  -9.2536e-11  7.03575e-11 -4.98539e-12 -6.05261e-10    0.0136679    0.0136679    0.0110228   -0.0110228 -7.61784e-10 -5.08442e-09      2.11729         -nan         -nan         -nan         -nan         -nan         -nan         -nan         -nan         -nan         -nan         -nan         -nan\r\n",
      "        -nan         -nan         -nan         -nan         -nan         -nan         -nan         -nan         -nan         -nan         -nan         -nan         -nan         -nan         -nan         -nan         -nan         -nan         -nan         -nan         -nan         -nan         -nan         -nan         -nan         -nan         -nan         -nan         -nan         -nan         -nan         -nan         -nan         -nan         -nan\r\n",
      "        -nan         -nan         -nan         -nan         -nan         -nan         -nan         -nan         -nan         -nan         -nan         -nan         -nan         -nan         -nan         -nan         -nan         -nan         -nan         -nan         -nan         -nan         -nan         -nan         -nan         -nan         -nan         -nan         -nan         -nan         -nan         -nan         -nan         -nan         -nan\r\n",
      "        -nan         -nan         -nan         -nan         -nan         -nan         -nan         -nan         -nan         -nan         -nan         -nan         -nan         -nan         -nan         -nan         -nan         -nan         -nan         -nan         -nan         -nan         -nan         -nan         -nan         -nan         -nan         -nan         -nan         -nan         -nan         -nan         -nan         -nan         -nan\r\n",
      "        -nan         -nan         -nan         -nan         -nan         -nan         -nan         -nan         -nan         -nan         -nan         -nan         -nan         -nan         -nan         -nan         -nan         -nan         -nan         -nan         -nan         -nan         -nan         -nan         -nan         -nan         -nan         -nan         -nan         -nan         -nan         -nan         -nan         -nan         -nan\r\n",
      "        -nan         -nan         -nan         -nan         -nan         -nan         -nan         -nan         -nan         -nan         -nan         -nan         -nan         -nan         -nan         -nan         -nan         -nan         -nan         -nan         -nan         -nan         -nan         -nan         -nan         -nan         -nan         -nan         -nan         -nan         -nan         -nan         -nan         -nan         -nan\r\n",
      "        -nan         -nan         -nan         -nan         -nan         -nan         -nan         -nan         -nan         -nan         -nan         -nan         -nan         -nan         -nan         -nan         -nan         -nan         -nan         -nan         -nan         -nan         -nan         -nan         -nan         -nan         -nan         -nan         -nan         -nan         -nan         -nan         -nan         -nan         -nan\r\n",
      "        -nan         -nan         -nan         -nan         -nan         -nan         -nan         -nan         -nan         -nan         -nan         -nan         -nan         -nan         -nan         -nan         -nan         -nan         -nan         -nan         -nan         -nan         -nan         -nan         -nan         -nan         -nan         -nan         -nan         -nan         -nan         -nan         -nan         -nan         -nan\r\n",
      "        -nan         -nan         -nan         -nan         -nan         -nan         -nan         -nan         -nan         -nan         -nan         -nan         -nan         -nan         -nan         -nan         -nan         -nan         -nan         -nan         -nan         -nan         -nan         -nan         -nan         -nan         -nan         -nan         -nan         -nan         -nan         -nan         -nan         -nan         -nan\r\n",
      "        -nan         -nan         -nan         -nan         -nan         -nan         -nan         -nan         -nan         -nan         -nan         -nan         -nan         -nan         -nan         -nan         -nan         -nan         -nan         -nan         -nan         -nan         -nan         -nan         -nan         -nan         -nan         -nan         -nan         -nan         -nan         -nan         -nan         -nan         -nan\r\n",
      "        -nan         -nan         -nan         -nan         -nan         -nan         -nan         -nan         -nan         -nan         -nan         -nan         -nan         -nan         -nan         -nan         -nan         -nan         -nan         -nan         -nan         -nan         -nan         -nan         -nan         -nan         -nan         -nan         -nan         -nan         -nan         -nan         -nan         -nan         -nan\r\n",
      "        -nan         -nan         -nan         -nan         -nan         -nan         -nan         -nan         -nan         -nan         -nan         -nan         -nan         -nan         -nan         -nan         -nan         -nan         -nan         -nan         -nan         -nan         -nan         -nan         -nan         -nan         -nan         -nan         -nan         -nan         -nan         -nan         -nan         -nan         -nan\r\n",
      "        -nan         -nan         -nan         -nan         -nan         -nan         -nan         -nan         -nan         -nan         -nan         -nan         -nan         -nan         -nan         -nan         -nan         -nan         -nan         -nan         -nan         -nan         -nan          nan          nan          nan          nan          nan          nan          nan          nan          nan          nan          nan          nan\r\n",
      "an error occurred:\r\n",
      "Small generalized eigenvalue problem failed.\r\n"
     ]
    }
   ],
   "source": [
    "!xtp_tools -c job_name=CO geometry_optimization.maxiter=1 dftpackage.basisset=3-21G dftpackage.auxbasisset=aux-def2-svp gwbse.gw.mode=G0W0 -e dftgwbse -t 4"
   ]
  },
  {
   "cell_type": "markdown",
   "metadata": {},
   "source": [
    "Notice that we are using 4 threads. The results will be stored in a file named `CO_summary.xml` in the current work directory, together with the optimization step in `optimisation.trj` and the orbitals in [hdf5 format](https://www.hdfgroup.org/solutions/hdf5/) saved on `CO.orb`."
   ]
  }
 ],
 "metadata": {
  "kernelspec": {
   "display_name": "Python 3",
   "language": "python",
   "name": "python3"
  },
  "language_info": {
   "codemirror_mode": {
    "name": "ipython",
    "version": 3
   },
   "file_extension": ".py",
   "mimetype": "text/x-python",
   "name": "python",
   "nbconvert_exporter": "python",
   "pygments_lexer": "ipython3",
   "version": "3.10.7"
  }
 },
 "nbformat": 4,
 "nbformat_minor": 4
}
