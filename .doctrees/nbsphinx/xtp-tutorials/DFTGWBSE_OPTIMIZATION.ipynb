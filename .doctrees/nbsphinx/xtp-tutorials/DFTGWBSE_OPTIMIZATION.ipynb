{
 "cells": [
  {
   "cell_type": "markdown",
   "metadata": {},
   "source": [
    "## DFT + GWBSE Optimization Using CO"
   ]
  },
  {
   "cell_type": "markdown",
   "metadata": {},
   "source": [
    "## Introduction\n",
    "This tutorial explains how to perform a molecular geometric optimization using the **GWBSE** method. See [the GW Compendium: A Practical Guide to Theoretical Photoemission Spectroscopy](https://doi.org/10.3389/fchem.2019.00377), for an excellent introduction to the method."
   ]
  },
  {
   "cell_type": "markdown",
   "metadata": {},
   "source": [
    "## Requirements\n",
    "* You will need to install **VOTCA** using the instructions described [here](https://github.com/votca/votca/blob/master/share/doc/INSTALL.rst)\n",
    "* Once the installation is completed you need to activate the VOTCA enviroment by running the `VOTCARC.bash` script that has been installed at the bin subfolder for the path that you have provided for the installation step above"
   ]
  },
  {
   "cell_type": "markdown",
   "metadata": {},
   "source": [
    "## Preparing the input\n",
    "To run a DFT-GWBSE calculation we will use the [xtp_tools](https://www.votca.org/xtp/xtp_tools_overview.html) calculator."
   ]
  },
  {
   "cell_type": "markdown",
   "metadata": {},
   "source": [
    "we can now change the calculator mode from single point energy calculation to optimization as follows by adding \n",
    "`-c geometry_optimization.maxiter=1` which enables optimization with one iteration. "
   ]
  },
  {
   "cell_type": "markdown",
   "metadata": {},
   "source": [
    "Because geometry optimsation is quite expensive numerically we chose a smaller basisset and G0W0 Finally, to run the calculation we just need the following command (This still takes a while)"
   ]
  },
  {
   "cell_type": "code",
   "execution_count": 1,
   "metadata": {
    "execution": {
     "iopub.execute_input": "2022-07-08T06:18:10.732947Z",
     "iopub.status.busy": "2022-07-08T06:18:10.732413Z",
     "iopub.status.idle": "2022-07-08T06:18:32.114673Z",
     "shell.execute_reply": "2022-07-08T06:18:32.115073Z"
    }
   },
   "outputs": [
    {
     "name": "stdout",
     "output_type": "stream",
     "text": [
      "==================================================\r\n",
      "========   VOTCA (http://www.votca.org)   ========\r\n",
      "==================================================\r\n",
      "\r\n",
      "please submit bugs to https://github.com/votca/xtp/issues\r\n",
      "\r\n",
      "xtp_tools, version 2023-dev gitid: 231177b (compiled Jul  8 2022, 06:09:37)\r\n",
      "votca_csg, version 2023-dev gitid: 231177b (compiled Jul  8 2022, 05:53:16)\r\n",
      "votca_tools, version 2023-dev gitid: 231177b (compiled Jul  8 2022, 05:50:14)\r\n",
      "\r\n",
      "Initializing tool\r\n",
      "... dftgwbse Evaluating tool\r\n",
      "... dftgwbse  Using 4 threads\r\n",
      "... ... Reading structure from CO.xyz\r\n",
      "... ... Requested geometry optimization of excited state s1\r\n",
      "... ... Initial state: s1\r\n",
      "... ... WARNING: No tracker is used \r\n",
      "... ... Convergence of total energy: 0.000001 Hartree \r\n",
      "... ... Convergence of RMS Force:    0.000030 Hartree/Bohr \r\n",
      "... ... Convergence of Max Force:    0.000100 Hartree/Bohr \r\n",
      "... ... Convergence of RMS Step:     0.000600 Bohr \r\n",
      "... ... Convergence of Max Step:     0.001000 Bohr \r\n",
      "... ... Initial trust radius:        0.018897 BohrA\r\n",
      "    0.307132    3.069e-11  1.79695e-10 -5.19937e-10  -2.3274e-11   -0.0516061  1.11704e-09  1.03729e-09  3.87735e-10   -0.0181646  -0.00104345  1.10499e-10    0.0103981   -0.0375628   2.0075e-11    0.0421019 -2.08561e-10  9.11376e-11  3.57818e-10  1.58995e-10  0.000478807     0.108408 -1.82933e-10          nan          nan          nan          nan          nan          nan          nan          nan          nan          nan          nan          nan\r\n",
      " 3.06899e-11     0.307132 -3.89371e-10  3.09617e-10   -0.0516061 -2.32741e-11  2.45174e-09  2.79198e-09  8.22056e-10   0.00104345   -0.0181646  3.85156e-10   -0.0375628   -0.0103981    0.0421019  2.00749e-11 -1.92094e-10 -6.72861e-12  5.01608e-10  6.19031e-10     0.108408 -0.000478807  1.68296e-11          nan          nan          nan          nan          nan          nan          nan          nan          nan          nan          nan          nan\r\n",
      " 1.79695e-10 -3.89371e-10     0.320607   0.00928712  1.38861e-11 -3.03617e-11   -0.0131968   -0.0131968  -0.00492115  -1.4611e-10   1.0263e-10  -0.00209657   1.2018e-11  2.07497e-10 -1.19193e-10 -7.54185e-12   -0.0470529   0.00129333  -0.00256003   -0.0152272 -9.89944e-10 -3.14908e-10   -0.0254863          nan          nan          nan          nan          nan          nan          nan          nan          nan          nan          nan          nan\r\n",
      "-5.19937e-10  3.09617e-10   0.00928712     0.320607 -2.22446e-11  4.35087e-10    0.0131968    0.0131968   0.00492115  1.66388e-10 -1.48537e-10   0.00209657  8.01657e-12 -1.82598e-10   1.2758e-11 -4.05392e-10   0.00129333   -0.0470529    0.0152272   0.00256003  9.65997e-10 -2.05251e-10    0.0254863          nan          nan          nan          nan          nan          nan          nan          nan          nan          nan          nan          nan\r\n",
      " -2.3274e-11   -0.0516061  1.38861e-11 -2.22446e-11     0.490902  2.84635e-12  1.49002e-09   1.0853e-09  6.28858e-10 -0.000772106     0.013441  1.85912e-10  -0.00770413  -0.00213266    0.0309987 -6.62895e-11 -4.61855e-11  3.03303e-10  2.07903e-10  6.14885e-11   -0.0531267  0.000234646  2.09558e-10          nan          nan          nan          nan          nan          nan          nan          nan          nan          nan          nan          nan\r\n",
      "  -0.0516061 -2.32741e-11 -3.03617e-11  4.35087e-10  2.84638e-12     0.490902 -9.27943e-11 -1.01153e-10 -6.24865e-11     0.013441  0.000772106  5.25923e-12   0.00213266  -0.00770413 -6.62895e-11    0.0309987  1.53623e-10 -7.20868e-12 -8.26793e-11  1.74439e-10 -0.000234646   -0.0531267 -4.45466e-11          nan          nan          nan          nan          nan          nan          nan          nan          nan          nan          nan          nan\r\n",
      " 1.11704e-09  2.45174e-09   -0.0131968    0.0131968  1.49002e-09 -9.27943e-11     0.549582     0.219688    0.0856683 -1.43433e-11 -7.24886e-10    0.0364973 -8.31949e-10 -2.62352e-09 -6.31725e-10  2.54377e-10   -0.0113541  -0.00131309   -0.0126981    0.0330614  1.34028e-08  8.27126e-09   0.00154699          nan          nan          nan          nan          nan          nan          nan          nan          nan          nan          nan          nan\r\n",
      " 1.03729e-09  2.79198e-09   -0.0131968    0.0131968   1.0853e-09 -1.01153e-10     0.219688     0.549582    0.0856683   -6.025e-11 -7.45165e-10    0.0364973 -8.56848e-10 -2.60349e-09 -2.18791e-10  1.47942e-10   0.00131309    0.0113541    0.0330614   -0.0126981  1.39164e-08  8.24377e-09   0.00154699          nan          nan          nan          nan          nan          nan          nan          nan          nan          nan          nan          nan\r\n",
      " 3.87735e-10  8.22056e-10  -0.00492115   0.00492115  6.28858e-10 -6.24865e-11    0.0856683    0.0856683     0.662947 -1.80016e-10 -5.81851e-10  -0.00632525 -2.92653e-10 -7.01983e-10 -3.36781e-10  9.71267e-11  -0.00131678   0.00131678   0.00387668   0.00387668  4.33948e-09  3.05394e-09   0.00112746          nan          nan          nan          nan          nan          nan          nan          nan          nan          nan          nan          nan\r\n",
      "  -0.0181646   0.00104345  -1.4611e-10  1.66388e-10 -0.000772106     0.013441 -1.43433e-11   -6.025e-11 -1.80016e-10     0.680922 -1.60001e-12  8.83653e-11 -2.70764e-05  7.97148e-05  0.000495326  -0.00862271  3.86466e-10  2.25109e-13  8.09522e-11  8.90768e-10   0.00217199     -0.04097 -6.68857e-10          nan          nan          nan          nan          nan          nan          nan          nan          nan          nan          nan          nan\r\n",
      " -0.00104345   -0.0181646   1.0263e-10 -1.48537e-10     0.013441  0.000772106 -7.24886e-10 -7.45165e-10 -5.81851e-10 -1.59989e-12     0.680922  6.20494e-11  7.97148e-05  2.70764e-05  -0.00862271 -0.000495326 -4.18867e-12  8.14005e-10  3.77291e-10 -9.40042e-12     -0.04097  -0.00217199  8.09478e-10          nan          nan          nan          nan          nan          nan          nan          nan          nan          nan          nan          nan\r\n",
      " 1.10499e-10  3.85156e-10  -0.00209657   0.00209657  1.85912e-10  5.25923e-12    0.0364973    0.0364973  -0.00632525  8.83653e-11  6.20494e-11      0.79826  1.22313e-11 -3.26474e-10   1.1019e-10  5.77102e-11  -0.00465535   0.00465535    0.0137057    0.0137057  1.73218e-09  9.75901e-10  0.000446935          nan          nan          nan          nan          nan          nan          nan          nan          nan          nan          nan          nan\r\n",
      "   0.0103981   -0.0375628   1.2018e-11  8.01657e-12  -0.00770413   0.00213266 -8.31949e-10 -8.56848e-10 -2.92653e-10 -2.70764e-05  7.97148e-05  1.22313e-11     0.956418 -4.29182e-11    0.0126659  -0.00350616  1.23831e-10 -2.37465e-10 -6.53139e-10 -4.30769e-10    0.0192732  -0.00542697  6.77843e-12          nan          nan          nan          nan          nan          nan          nan          nan          nan          nan          nan          nan\r\n",
      "  -0.0375628   -0.0103981  2.07497e-10 -1.82598e-10  -0.00213266  -0.00770413 -2.62352e-09 -2.60349e-09 -7.01983e-10  7.97148e-05  2.70764e-05 -3.26474e-10 -4.29183e-11     0.956418   0.00350616    0.0126659  4.24798e-10 -6.47168e-10 -1.49159e-09 -1.60522e-09   0.00542697    0.0192732 -8.93523e-11          nan          nan          nan          nan          nan          nan          nan          nan          nan          nan          nan          nan\r\n",
      "  2.0075e-11    0.0421019 -1.19193e-10   1.2758e-11    0.0309987 -6.62895e-11 -6.31725e-10 -2.18791e-10 -3.36781e-10  0.000495326  -0.00862271   1.1019e-10    0.0126659   0.00350616     0.988566 -3.74825e-11 -2.92357e-11  1.10941e-10 -3.59288e-11  6.16608e-11    0.0223628 -9.87704e-05  3.29959e-10          nan          nan          nan          nan          nan          nan          nan          nan          nan          nan          nan          nan\r\n",
      "   0.0421019  2.00749e-11 -7.54185e-12 -4.05392e-10 -6.62895e-11    0.0309987  2.54377e-10  1.47942e-10  9.71267e-11  -0.00862271 -0.000495326  5.77102e-11  -0.00350616    0.0126659 -3.74825e-11     0.988566 -7.14772e-12  -9.0442e-11   6.7582e-11  1.49287e-10  9.87705e-05    0.0223628 -1.73191e-10          nan          nan          nan          nan          nan          nan          nan          nan          nan          nan          nan          nan\r\n",
      "-2.08561e-10 -1.92094e-10   -0.0470529   0.00129333 -4.61855e-11  1.53623e-10   -0.0113541   0.00131309  -0.00131678  3.86466e-10 -4.18867e-12  -0.00465535  1.23831e-10  4.24798e-10 -2.92357e-11 -7.14772e-12      1.03321  -0.00656712   -0.0132457   -0.0132457  -8.2612e-10 -5.53846e-10   0.00427489          nan          nan          nan          nan          nan          nan          nan          nan          nan          nan          nan          nan\r\n",
      " 9.11376e-11 -6.72861e-12   0.00129333   -0.0470529  3.03303e-10 -7.20868e-12  -0.00131309    0.0113541   0.00131678  2.25109e-13  8.14005e-10   0.00465535 -2.37465e-10 -6.47168e-10  1.10941e-10  -9.0442e-11  -0.00656712      1.03321    0.0132457    0.0132457  7.79387e-10  4.51969e-10  -0.00427489          nan          nan          nan          nan          nan          nan          nan          nan          nan          nan          nan          nan\r\n",
      " 3.57818e-10  5.01608e-10  -0.00256003    0.0152272  2.07903e-10 -8.26793e-11   -0.0126981    0.0330614   0.00387668  8.09522e-11  3.77291e-10    0.0137057 -6.53139e-10 -1.49159e-09 -3.59288e-11   6.7582e-11   -0.0132457    0.0132457       1.0677    0.0410644  2.36667e-09  1.58726e-09   0.00204428          nan          nan          nan          nan          nan          nan          nan          nan          nan          nan          nan          nan\r\n",
      " 1.58995e-10  6.19031e-10   -0.0152272   0.00256003  6.14885e-11  1.74439e-10    0.0330614   -0.0126981   0.00387668  8.90768e-10 -9.40042e-12    0.0137057 -4.30769e-10 -1.60522e-09  6.16608e-11  1.49287e-10   -0.0132457    0.0132457    0.0410644       1.0677  2.46765e-09  1.53997e-09   0.00204428          nan          nan          nan          nan          nan          nan          nan          nan          nan          nan          nan          nan\r\n",
      "-0.000332343   -0.0752465  6.88265e-10 -7.33188e-10    0.0690159  0.000304824 -8.05739e-09 -8.33498e-09 -3.16308e-09  -0.00163874    0.0309115 -1.54297e-09  -0.00866634  -0.00244028   -0.0364086 -0.000160807  5.58904e-10 -5.58339e-10  -1.7751e-09  -1.7786e-09    -0.194424  -2.2209e-10 -4.21941e-09          nan          nan          nan          nan          nan          nan          nan          nan          nan          nan          nan          nan\r\n",
      "  -0.0752465  0.000332343 -4.81365e-13  2.84803e-10 -0.000304824    0.0690159 -5.49149e-09 -5.53406e-09 -2.38439e-09    0.0309115   0.00163874 -8.87264e-10   0.00244028  -0.00866634  0.000160807   -0.0364086  4.81878e-10 -4.77634e-10 -1.28096e-09 -1.27951e-09  -2.2209e-10    -0.194424  5.54299e-09          nan          nan          nan          nan          nan          nan          nan          nan          nan          nan          nan          nan\r\n",
      " 5.99075e-10 -5.29895e-10   -0.0141885    0.0141885  3.68868e-10 -5.51684e-10  -0.00433377  -0.00433377  -0.00131522 -1.02979e-09   1.0896e-09 -0.000527339 -8.35821e-11  8.18293e-11 -4.06884e-11  2.51661e-10   0.00597556  -0.00597556    0.0015068    0.0015068  -4.4302e-09  5.45664e-09     0.958314          nan          nan          nan          nan          nan          nan          nan          nan          nan          nan          nan          nan\r\n",
      "        -nan         -nan         -nan         -nan         -nan         -nan         -nan         -nan         -nan         -nan         -nan         -nan         -nan         -nan         -nan         -nan         -nan         -nan         -nan         -nan         -nan         -nan         -nan          nan          nan          nan          nan          nan          nan          nan          nan          nan          nan          nan          nan\r\n",
      "        -nan         -nan         -nan         -nan         -nan         -nan         -nan         -nan         -nan         -nan         -nan         -nan         -nan         -nan         -nan         -nan         -nan         -nan         -nan         -nan         -nan         -nan         -nan         -nan         -nan         -nan         -nan         -nan         -nan         -nan         -nan         -nan         -nan         -nan         -nan\r\n",
      "        -nan         -nan         -nan         -nan         -nan         -nan         -nan         -nan         -nan         -nan         -nan         -nan         -nan         -nan         -nan         -nan         -nan         -nan         -nan         -nan         -nan         -nan         -nan         -nan         -nan         -nan         -nan         -nan         -nan         -nan         -nan         -nan         -nan         -nan         -nan\r\n",
      "        -nan         -nan         -nan         -nan         -nan         -nan         -nan         -nan         -nan         -nan         -nan         -nan         -nan         -nan         -nan         -nan         -nan         -nan         -nan         -nan         -nan         -nan         -nan          nan          nan          nan          nan          nan          nan          nan          nan          nan          nan          nan          nan\r\n",
      "        -nan         -nan         -nan         -nan         -nan         -nan         -nan         -nan         -nan         -nan         -nan         -nan         -nan         -nan         -nan         -nan         -nan         -nan         -nan         -nan         -nan         -nan         -nan          nan          nan          nan          nan          nan          nan          nan          nan          nan          nan          nan          nan\r\n",
      "        -nan         -nan         -nan         -nan         -nan         -nan         -nan         -nan         -nan         -nan         -nan         -nan         -nan         -nan         -nan         -nan         -nan         -nan         -nan         -nan         -nan         -nan         -nan         -nan         -nan         -nan         -nan         -nan         -nan         -nan         -nan         -nan         -nan         -nan         -nan\r\n",
      "        -nan         -nan         -nan         -nan         -nan         -nan         -nan         -nan         -nan         -nan         -nan         -nan         -nan         -nan         -nan         -nan         -nan         -nan         -nan         -nan         -nan         -nan         -nan         -nan         -nan         -nan         -nan         -nan         -nan         -nan         -nan         -nan         -nan         -nan         -nan\r\n",
      "        -nan         -nan         -nan         -nan         -nan         -nan         -nan         -nan         -nan         -nan         -nan         -nan         -nan         -nan         -nan         -nan         -nan         -nan         -nan         -nan         -nan         -nan         -nan          nan          nan          nan          nan          nan          nan          nan          nan          nan          nan          nan          nan\r\n",
      "        -nan         -nan         -nan         -nan         -nan         -nan         -nan         -nan         -nan         -nan         -nan         -nan         -nan         -nan         -nan         -nan         -nan         -nan         -nan         -nan         -nan         -nan         -nan          nan          nan          nan          nan          nan          nan          nan          nan          nan          nan          nan          nan\r\n",
      "        -nan         -nan         -nan         -nan         -nan         -nan         -nan         -nan         -nan         -nan         -nan         -nan         -nan         -nan         -nan         -nan         -nan         -nan         -nan         -nan         -nan         -nan         -nan         -nan          nan          nan          nan         -nan          nan          nan          nan         -nan          nan          nan          nan\r\n",
      "        -nan         -nan         -nan         -nan         -nan         -nan         -nan         -nan         -nan         -nan         -nan         -nan         -nan         -nan         -nan         -nan         -nan         -nan         -nan         -nan         -nan         -nan         -nan         -nan          nan          nan          nan         -nan          nan          nan          nan         -nan          nan          nan          nan\r\n",
      "        -nan         -nan         -nan         -nan         -nan         -nan         -nan         -nan         -nan         -nan         -nan         -nan         -nan         -nan         -nan         -nan         -nan         -nan         -nan         -nan         -nan         -nan         -nan         -nan         -nan         -nan         -nan         -nan         -nan         -nan         -nan         -nan         -nan         -nan         -nan\r\n",
      "B\r\n",
      "    0.093811  1.36406e-11  9.60959e-11 -3.20797e-10 -1.43133e-11   -0.0328898  4.68419e-10  4.11453e-10  2.38592e-10   -0.0155316 -0.000892201  6.35702e-11    0.0128934    -0.046577  2.33238e-11    0.0481429 -2.59313e-10  1.01664e-10  3.59548e-10  8.40271e-11  0.000110894    0.0251078  4.90411e-10         -nan         -nan         -nan         -nan         -nan         -nan         -nan         -nan         -nan         -nan         -nan         -nan\r\n",
      " 1.36405e-11     0.093811  -2.0138e-10  1.44414e-10   -0.0328898 -1.43134e-11  9.67665e-10  1.19237e-09  5.07286e-10  0.000892201   -0.0155316  2.54835e-10    -0.046577   -0.0128934    0.0481429  2.33238e-11 -1.64887e-10 -1.10634e-10  4.29829e-10  5.87479e-10    0.0251078 -0.000110894 -5.38649e-10         -nan         -nan         -nan         -nan         -nan         -nan         -nan         -nan         -nan         -nan         -nan         -nan\r\n",
      " 9.60959e-11  -2.0138e-10     0.105872   0.00531014  1.85813e-11 -2.58697e-11   -0.0066855   -0.0066855  -0.00361883 -1.36135e-10   8.7626e-11  -0.00164388  2.41181e-11  2.30305e-10 -1.50933e-10 -1.30935e-11   -0.0640523   0.00170968  -0.00245834    -0.019716  -8.0059e-11 -1.94576e-10   -0.0418865         -nan         -nan         -nan         -nan         -nan         -nan         -nan         -nan         -nan         -nan         -nan         -nan\r\n",
      "-3.20797e-10  1.44414e-10   0.00531014     0.105872 -2.21392e-11  3.15384e-10    0.0066855    0.0066855   0.00361883  1.60333e-10 -1.30199e-10   0.00164388  2.73275e-12 -1.93438e-10   9.1418e-12  -5.0587e-10   0.00170968   -0.0640523     0.019716   0.00245834  5.47148e-12 -4.78478e-11    0.0418865         -nan         -nan         -nan         -nan         -nan         -nan         -nan         -nan         -nan         -nan         -nan         -nan\r\n",
      "-1.43133e-11   -0.0328898  1.85813e-11 -2.21392e-11     0.240891  6.71397e-13  9.44035e-10   6.5452e-10  5.49402e-10 -0.000829739    0.0144442   1.6093e-10  -0.00881202  -0.00243934    0.0441772 -9.21481e-11 -4.10686e-11  4.25114e-10  2.15003e-10  1.14781e-11   0.00438142 -1.93515e-05  5.21208e-10         -nan         -nan         -nan         -nan         -nan         -nan         -nan         -nan         -nan         -nan         -nan         -nan\r\n",
      "  -0.0328898 -1.43134e-11 -2.58697e-11  3.15384e-10  6.71426e-13     0.240891 -4.36636e-11 -4.72215e-11 -4.46338e-11    0.0144442  0.000829739  1.06163e-11   0.00243934  -0.00881202 -9.21482e-11    0.0441772  2.22863e-10 -1.93382e-11 -1.02535e-10  2.81511e-10  1.93515e-05   0.00438142  -4.8837e-10         -nan         -nan         -nan         -nan         -nan         -nan         -nan         -nan         -nan         -nan         -nan         -nan\r\n",
      " 4.68419e-10  9.67665e-10   -0.0066855    0.0066855  9.44035e-10 -4.36636e-11      0.22187     0.110688    0.0629972  -1.7927e-11 -5.48427e-10    0.0286169 -9.98485e-10 -2.90203e-09 -7.94505e-10  2.58547e-10   -0.0100849  -0.00717273   -0.0330822    0.0292604  1.48719e-09  5.30552e-10  -0.00290386         -nan         -nan         -nan         -nan         -nan         -nan         -nan         -nan         -nan         -nan         -nan         -nan\r\n",
      " 4.11453e-10  1.19237e-09   -0.0066855    0.0066855   6.5452e-10 -4.72215e-11     0.110688      0.22187    0.0629972 -6.05002e-11 -5.72624e-10    0.0286169 -1.03535e-09 -2.87518e-09 -2.75542e-10  1.16756e-10   0.00717273    0.0100849    0.0292604   -0.0330822  1.72924e-09  4.54792e-10  -0.00290386         -nan         -nan         -nan         -nan         -nan         -nan         -nan         -nan         -nan         -nan         -nan         -nan\r\n",
      " 2.38592e-10  5.07286e-10  -0.00361883   0.00361883  5.49402e-10 -4.46338e-11    0.0629972    0.0629972     0.429278 -2.30988e-10 -6.84384e-10   -0.0121538 -4.21237e-10 -8.97899e-10 -4.70458e-10  1.29858e-10  6.20792e-06 -6.20794e-06 -1.82766e-05 -1.82766e-05  1.01341e-09  6.37931e-10  5.49104e-05         -nan         -nan         -nan         -nan         -nan         -nan         -nan         -nan         -nan         -nan         -nan         -nan\r\n",
      "  -0.0155316  0.000892201 -1.36135e-10  1.60333e-10 -0.000829739    0.0144442  -1.7927e-11 -6.05002e-11 -2.30988e-10     0.463967 -2.13666e-12  1.17867e-10 -0.000208021  0.000612429  0.000595031   -0.0103584  6.62985e-10 -5.06972e-12  1.34044e-10  1.50702e-09   0.00093888     -0.01771 -1.63367e-09         -nan         -nan         -nan         -nan         -nan         -nan         -nan         -nan         -nan         -nan         -nan         -nan\r\n",
      "-0.000892201   -0.0155316   8.7626e-11 -1.30199e-10    0.0144442  0.000829739 -5.48427e-10 -5.72624e-10 -6.84384e-10  -2.1365e-12     0.463967  1.23374e-10  0.000612429  0.000208021   -0.0103584 -0.000595031 -2.66492e-11  1.39963e-09  6.96885e-10  3.89703e-11     -0.01771  -0.00093888  1.78282e-09         -nan         -nan         -nan         -nan         -nan         -nan         -nan         -nan         -nan         -nan         -nan         -nan\r\n",
      " 6.35702e-11  2.54835e-10  -0.00164388   0.00164388   1.6093e-10  1.06163e-11    0.0286169    0.0286169   -0.0121538  1.17867e-10  1.23374e-10     0.636067   4.9678e-11 -4.09081e-10   1.9566e-10  8.28267e-11  -0.00673104   0.00673104    0.0198167    0.0198167  9.92541e-11  2.32238e-12  4.36044e-05         -nan         -nan         -nan         -nan         -nan         -nan         -nan         -nan         -nan         -nan         -nan         -nan\r\n",
      "   0.0128934    -0.046577  2.41181e-11  2.73275e-12  -0.00881202   0.00243934 -9.98485e-10 -1.03535e-09 -4.21237e-10 -0.000208021  0.000612429   4.9678e-11     0.917068 -7.52447e-11    0.0214835  -0.00594705  2.20547e-10 -4.53255e-10 -1.22578e-09 -7.73619e-10     0.022376  -0.00630065 -1.02137e-10         -nan         -nan         -nan         -nan         -nan         -nan         -nan         -nan         -nan         -nan         -nan         -nan\r\n",
      "   -0.046577   -0.0128934  2.30305e-10 -1.93438e-10  -0.00243934  -0.00881202 -2.90203e-09 -2.87518e-09 -8.97899e-10  0.000612429  0.000208021 -4.09081e-10 -7.52449e-11     0.917068   0.00594705    0.0214835  7.42068e-10 -1.19423e-09 -2.67333e-09 -2.90604e-09   0.00630065     0.022376 -6.28411e-11         -nan         -nan         -nan         -nan         -nan         -nan         -nan         -nan         -nan         -nan         -nan         -nan\r\n",
      " 2.33238e-11    0.0481429 -1.50933e-10   9.1418e-12    0.0441772 -9.21482e-11 -7.94505e-10 -2.75542e-10 -4.70458e-10  0.000595031   -0.0103584   1.9566e-10    0.0214835   0.00594705     0.981535 -7.22514e-11 -5.42871e-11  1.86588e-10 -5.46309e-11  1.35499e-10  -0.00424838  1.87639e-05   2.6119e-10         -nan         -nan         -nan         -nan         -nan         -nan         -nan         -nan         -nan         -nan         -nan         -nan\r\n",
      "   0.0481429  2.33238e-11 -1.30935e-11  -5.0587e-10 -9.21481e-11    0.0441772  2.58547e-10  1.16756e-10  1.29858e-10   -0.0103584 -0.000595031  8.28267e-11  -0.00594705    0.0214835 -7.22513e-11     0.981535 -2.95352e-11 -1.60595e-10  1.09531e-10  2.41832e-10 -1.87639e-05  -0.00424838  1.75278e-10         -nan         -nan         -nan         -nan         -nan         -nan         -nan         -nan         -nan         -nan         -nan         -nan\r\n",
      "-2.59313e-10 -1.64887e-10   -0.0640523   0.00170968 -4.10686e-11  2.22863e-10   -0.0100849   0.00717273  6.20792e-06  6.62985e-10 -2.66492e-11  -0.00673104  2.20547e-10  7.42068e-10 -5.42871e-11 -2.95352e-11      1.06908   -0.0128115   -0.0247516   -0.0247516 -3.94907e-10 -2.11004e-10    0.0150504         -nan         -nan         -nan         -nan         -nan         -nan         -nan         -nan         -nan         -nan         -nan         -nan\r\n",
      " 1.01664e-10 -1.10634e-10   0.00170968   -0.0640523  4.25114e-10 -1.93382e-11  -0.00717273    0.0100849 -6.20794e-06 -5.06972e-12  1.39963e-09   0.00673104 -4.53255e-10 -1.19423e-09  1.86588e-10 -1.60595e-10   -0.0128115      1.06908    0.0247516    0.0247516  2.19414e-10 -8.90949e-13   -0.0150504         -nan         -nan         -nan         -nan         -nan         -nan         -nan         -nan         -nan         -nan         -nan         -nan\r\n",
      " 3.59548e-10  4.29829e-10  -0.00245834     0.019716  2.15003e-10 -1.02535e-10   -0.0330822    0.0292604 -1.82766e-05  1.34044e-10  6.96885e-10    0.0198167 -1.22578e-09 -2.67333e-09 -5.46309e-11  1.09531e-10   -0.0247516    0.0247516      1.13354    0.0772748  8.79295e-10  5.99964e-10    0.0054532         -nan         -nan         -nan         -nan         -nan         -nan         -nan         -nan         -nan         -nan         -nan         -nan\r\n",
      " 8.40271e-11  5.87479e-10    -0.019716   0.00245834  1.14781e-11  2.81511e-10    0.0292604   -0.0330822 -1.82766e-05  1.50702e-09  3.89703e-11    0.0198167 -7.73619e-10 -2.90604e-09  1.35499e-10  2.41832e-10   -0.0247516    0.0247516    0.0772748      1.13354  1.09042e-09  4.24647e-10    0.0054532         -nan         -nan         -nan         -nan         -nan         -nan         -nan         -nan         -nan         -nan         -nan         -nan\r\n",
      " 0.000253329    0.0573567 -4.73857e-10  4.21902e-10   0.00347861  1.53641e-05  7.51679e-09  7.82045e-09  1.20406e-09  0.000540278   -0.0101912  2.34285e-10    0.0179433   0.00505249   -0.0191591 -8.46207e-05 -9.06809e-11  7.12188e-11  -1.6609e-10  5.10714e-12     0.600541 -2.22605e-10 -3.19349e-09         -nan         -nan         -nan         -nan         -nan         -nan         -nan         -nan         -nan         -nan         -nan         -nan\r\n",
      "   0.0573567 -0.000253329 -3.45659e-10  4.28474e-11 -1.53641e-05   0.00347861   4.3466e-09  4.29323e-09  7.17466e-10   -0.0101912 -0.000540278  1.52104e-10  -0.00505249    0.0179433  8.46206e-05   -0.0191591  1.00923e-10 -2.71824e-10 -3.21332e-11 -5.07835e-11 -2.22605e-10     0.600541  5.04303e-09         -nan         -nan         -nan         -nan         -nan         -nan         -nan         -nan         -nan         -nan         -nan         -nan\r\n",
      " 1.98124e-10 -3.37036e-10   -0.0423673    0.0423673  5.91203e-10 -4.72913e-10  -0.00287268  -0.00287268 -0.000440573 -1.50211e-09  1.61585e-09 -0.000215499  -5.0551e-11 -4.22863e-11   3.6439e-10  1.53299e-10    0.0160905   -0.0160905   0.00534115   0.00534115 -3.65064e-09  5.04701e-09      1.98483         -nan         -nan         -nan         -nan         -nan         -nan         -nan         -nan         -nan         -nan         -nan         -nan\r\n",
      "        -nan         -nan         -nan         -nan         -nan         -nan         -nan         -nan         -nan         -nan         -nan         -nan         -nan         -nan         -nan         -nan         -nan         -nan         -nan         -nan         -nan         -nan         -nan         -nan         -nan         -nan         -nan         -nan         -nan         -nan         -nan         -nan         -nan         -nan         -nan\r\n",
      "        -nan         -nan         -nan         -nan         -nan         -nan         -nan         -nan         -nan         -nan         -nan         -nan         -nan         -nan         -nan         -nan         -nan         -nan         -nan         -nan         -nan         -nan         -nan         -nan         -nan         -nan         -nan         -nan         -nan         -nan         -nan         -nan         -nan         -nan         -nan\r\n",
      "        -nan         -nan         -nan         -nan         -nan         -nan         -nan         -nan         -nan         -nan         -nan         -nan         -nan         -nan         -nan         -nan         -nan         -nan         -nan         -nan         -nan         -nan         -nan         -nan         -nan         -nan         -nan         -nan         -nan         -nan         -nan         -nan         -nan         -nan         -nan\r\n",
      "        -nan         -nan         -nan         -nan         -nan         -nan         -nan         -nan         -nan         -nan         -nan         -nan         -nan         -nan         -nan         -nan         -nan         -nan         -nan         -nan         -nan         -nan         -nan         -nan         -nan         -nan         -nan         -nan         -nan         -nan         -nan         -nan         -nan         -nan         -nan\r\n",
      "        -nan         -nan         -nan         -nan         -nan         -nan         -nan         -nan         -nan         -nan         -nan         -nan         -nan         -nan         -nan         -nan         -nan         -nan         -nan         -nan         -nan         -nan         -nan         -nan         -nan         -nan         -nan         -nan         -nan         -nan         -nan         -nan         -nan         -nan         -nan\r\n",
      "        -nan         -nan         -nan         -nan         -nan         -nan         -nan         -nan         -nan         -nan         -nan         -nan         -nan         -nan         -nan         -nan         -nan         -nan         -nan         -nan         -nan         -nan         -nan         -nan         -nan         -nan         -nan         -nan         -nan         -nan         -nan         -nan         -nan         -nan         -nan\r\n",
      "        -nan         -nan         -nan         -nan         -nan         -nan         -nan         -nan         -nan         -nan         -nan         -nan         -nan         -nan         -nan         -nan         -nan         -nan         -nan         -nan         -nan         -nan         -nan         -nan         -nan         -nan         -nan         -nan         -nan         -nan         -nan         -nan         -nan         -nan         -nan\r\n",
      "        -nan         -nan         -nan         -nan         -nan         -nan         -nan         -nan         -nan         -nan         -nan         -nan         -nan         -nan         -nan         -nan         -nan         -nan         -nan         -nan         -nan         -nan         -nan         -nan         -nan         -nan         -nan         -nan         -nan         -nan         -nan         -nan         -nan         -nan         -nan\r\n",
      "        -nan         -nan         -nan         -nan         -nan         -nan         -nan         -nan         -nan         -nan         -nan         -nan         -nan         -nan         -nan         -nan         -nan         -nan         -nan         -nan         -nan         -nan         -nan         -nan         -nan         -nan         -nan         -nan         -nan         -nan         -nan         -nan         -nan         -nan         -nan\r\n",
      "        -nan         -nan         -nan         -nan         -nan         -nan         -nan         -nan         -nan         -nan         -nan         -nan         -nan         -nan         -nan         -nan         -nan         -nan         -nan         -nan         -nan         -nan         -nan         -nan         -nan         -nan         -nan         -nan         -nan         -nan         -nan         -nan         -nan         -nan         -nan\r\n",
      "        -nan         -nan         -nan         -nan         -nan         -nan         -nan         -nan         -nan         -nan         -nan         -nan         -nan         -nan         -nan         -nan         -nan         -nan         -nan         -nan         -nan         -nan         -nan         -nan         -nan         -nan         -nan         -nan         -nan         -nan         -nan         -nan         -nan         -nan         -nan\r\n",
      "        -nan         -nan         -nan         -nan         -nan         -nan         -nan         -nan         -nan         -nan         -nan         -nan         -nan         -nan         -nan         -nan         -nan         -nan         -nan         -nan         -nan         -nan         -nan          nan          nan          nan          nan          nan          nan          nan          nan          nan          nan          nan          nan\r\n",
      "an error occurred:\r\n",
      "Small generalized eigenvalue problem failed.\r\n"
     ]
    }
   ],
   "source": [
    "!xtp_tools -c job_name=CO geometry_optimization.maxiter=1 dftpackage.basisset=3-21G dftpackage.auxbasisset=aux-def2-svp gwbse.gw.mode=G0W0 -e dftgwbse -t 4"
   ]
  },
  {
   "cell_type": "markdown",
   "metadata": {},
   "source": [
    "Notice that we are using 4 threads. The results will be stored in a file named `CO_summary.xml` in the current work directory, together with the optimization step in `optimisation.trj` and the orbitals in [hdf5 format](https://www.hdfgroup.org/solutions/hdf5/) saved on `CO.orb`."
   ]
  }
 ],
 "metadata": {
  "kernelspec": {
   "display_name": "Python 3",
   "language": "python",
   "name": "python3"
  },
  "language_info": {
   "codemirror_mode": {
    "name": "ipython",
    "version": 3
   },
   "file_extension": ".py",
   "mimetype": "text/x-python",
   "name": "python",
   "nbconvert_exporter": "python",
   "pygments_lexer": "ipython3",
   "version": "3.10.5"
  }
 },
 "nbformat": 4,
 "nbformat_minor": 4
}
