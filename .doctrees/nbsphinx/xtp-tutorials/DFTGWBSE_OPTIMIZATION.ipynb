{
 "cells": [
  {
   "cell_type": "markdown",
   "metadata": {},
   "source": [
    "## DFT + GWBSE Optimization Using CO"
   ]
  },
  {
   "cell_type": "markdown",
   "metadata": {},
   "source": [
    "## Introduction\n",
    "This tutorial explains how to perform a molecular geometric optimization using the **GWBSE** method. See [the GW Compendium: A Practical Guide to Theoretical Photoemission Spectroscopy](https://doi.org/10.3389/fchem.2019.00377), for an excellent introduction to the method."
   ]
  },
  {
   "cell_type": "markdown",
   "metadata": {},
   "source": [
    "## Requirements\n",
    "* You will need to install **VOTCA** using the instructions described [here](https://github.com/votca/votca/blob/master/share/doc/INSTALL.rst)\n",
    "* Once the installation is completed you need to activate the VOTCA enviroment by running the `VOTCARC.bash` script that has been installed at the bin subfolder for the path that you have provided for the installation step above"
   ]
  },
  {
   "cell_type": "markdown",
   "metadata": {},
   "source": [
    "## Preparing the input\n",
    "To run a DFT-GWBSE calculation we will use the [xtp_tools](https://www.votca.org/xtp/xtp_tools_overview.html) calculator."
   ]
  },
  {
   "cell_type": "markdown",
   "metadata": {},
   "source": [
    "we can now change the calculator mode from single point energy calculation to optimization as follows by adding \n",
    "`-c geometry_optimization.maxiter=1` which enables optimization with one iteration. "
   ]
  },
  {
   "cell_type": "markdown",
   "metadata": {},
   "source": [
    "Because geometry optimsation is quite expensive numerically we chose a smaller basisset and G0W0 Finally, to run the calculation we just need the following command (This still takes a while)"
   ]
  },
  {
   "cell_type": "code",
   "execution_count": 1,
   "metadata": {
    "execution": {
     "iopub.execute_input": "2021-07-15T21:58:08.991699Z",
     "iopub.status.busy": "2021-07-15T21:58:08.991143Z",
     "iopub.status.idle": "2021-07-15T21:58:45.461628Z",
     "shell.execute_reply": "2021-07-15T21:58:45.462271Z"
    }
   },
   "outputs": [
    {
     "name": "stdout",
     "output_type": "stream",
     "text": [
      "==================================================\r\n",
      "========   VOTCA (http://www.votca.org)   ========\r\n",
      "==================================================\r\n",
      "\r\n",
      "please submit bugs to https://github.com/votca/xtp/issues\r\n",
      "\r\n",
      "xtp_tools, version 2022-dev gitid: 31cdc85 (compiled Jul 15 2021, 21:49:09)\r\n",
      "votca_csg, version 2022-dev gitid: 31cdc85 (compiled Jul 15 2021, 21:33:05)\r\n",
      "votca_tools, version 2022-dev gitid: 31cdc85 (compiled Jul 15 2021, 21:30:44)\r\n",
      "\r\n",
      "Initializing tool\r\n",
      "... dftgwbse Evaluating tool\r\n",
      "... dftgwbse  Using 4 threads\r\n",
      "... ... Reading structure from CO.xyz\r\n",
      "... ... Requested geometry optimization of excited state s1\r\n",
      "... ... Initial state: s1\r\n",
      "... ... WARNING: No tracker is used \r\n",
      "... ... Convergence of total energy: 0.000001 Hartree \r\n",
      "... ... Convergence of RMS Force:    0.000030 Hartree/Bohr \r\n",
      "... ... Convergence of Max Force:    0.000100 Hartree/Bohr \r\n",
      "... ... Convergence of RMS Step:     0.000600 Bohr \r\n",
      "... ... Convergence of Max Step:     0.001000 Bohr \r\n",
      "... ... Initial trust radius:        0.018897 BohrA\r\n",
      "    0.307132 -3.06558e-11  1.79784e-10  5.20023e-10  2.32521e-11   -0.0516061  1.11688e-09 -1.03712e-09  3.87692e-10    0.0181647   0.00104228  1.10478e-10   -0.0104089    0.0375598 -2.00567e-11    0.0421019 -2.08584e-10  9.12194e-11  3.57772e-10  1.58914e-10  0.000479354    -0.108408 -1.82917e-10          nan          nan          nan          nan          nan          nan          nan          nan          nan          nan          nan          nan\r\n",
      "-3.06558e-11     0.307132  3.89186e-10  3.09428e-10   -0.0516061  2.32521e-11 -2.45182e-09  2.79206e-09 -8.22076e-10   0.00104228   -0.0181647 -3.85161e-10   -0.0375598   -0.0104089    0.0421019 -2.00567e-11  1.92244e-10  6.61421e-12 -5.01631e-10 -6.18995e-10    -0.108408 -0.000479354 -1.68343e-11          nan          nan          nan          nan          nan          nan          nan          nan          nan          nan          nan          nan\r\n",
      " 1.79784e-10  3.89186e-10     0.320606  -0.00928882 -1.39589e-11 -3.03687e-11   -0.0131821    0.0131821  -0.00491563  1.46112e-10 -1.02584e-10  -0.00209421  -1.1915e-11 -2.07332e-10  1.19212e-10 -7.52481e-12   -0.0470495    0.0012935  -0.00255819   -0.0152384 -9.89068e-10  3.14317e-10    -0.025486          nan          nan          nan          nan          nan          nan          nan          nan          nan          nan          nan          nan\r\n",
      " 5.20023e-10  3.09428e-10  -0.00928882     0.320606 -2.23129e-11 -4.35093e-10   -0.0131821    0.0131821  -0.00491563  1.66388e-10 -1.48491e-10  -0.00209421  8.11254e-12 -1.82427e-10  1.27728e-11  4.05407e-10   -0.0012935    0.0470495   -0.0152384  -0.00255819 -9.65112e-10  -2.0584e-10    -0.025486          nan          nan          nan          nan          nan          nan          nan          nan          nan          nan          nan          nan\r\n",
      " 2.32521e-11   -0.0516061 -1.39589e-11 -2.23129e-11     0.490902 -2.83958e-12 -1.49002e-09  1.08529e-09 -6.28855e-10  -0.00077124     0.013441 -1.85913e-10  -0.00770352  -0.00213486    0.0309987  6.62238e-11  4.61892e-11 -3.03351e-10 -2.07829e-10 -6.14905e-11    0.0531267  0.000234914 -2.09524e-10          nan          nan          nan          nan          nan          nan          nan          nan          nan          nan          nan          nan\r\n",
      "  -0.0516061  2.32521e-11 -3.03687e-11 -4.35093e-10 -2.83956e-12     0.490902  -9.2854e-11  1.01208e-10 -6.25217e-11    -0.013441  -0.00077124  5.24949e-12  -0.00213486   0.00770352  6.62238e-11    0.0309987  1.53585e-10 -7.24647e-12 -8.26908e-11  1.74471e-10 -0.000234914    0.0531267 -4.45701e-11          nan          nan          nan          nan          nan          nan          nan          nan          nan          nan          nan          nan\r\n",
      " 1.11688e-09 -2.45182e-09   -0.0131821   -0.0131821 -1.49002e-09  -9.2854e-11     0.549584    -0.219689    0.0856686  1.43409e-11  7.24894e-10    0.0364975  8.31342e-10  2.62373e-09  6.31708e-10  2.54391e-10   -0.0113613  -0.00131892   -0.0126969    0.0330591  1.34033e-08 -8.27048e-09   0.00154647          nan          nan          nan          nan          nan          nan          nan          nan          nan          nan          nan          nan\r\n",
      "-1.03712e-09  2.79206e-09    0.0131821    0.0131821  1.08529e-09  1.01208e-10    -0.219689     0.549584   -0.0856686 -6.02476e-11  -7.4517e-10   -0.0364975 -8.56247e-10  -2.6037e-09 -2.18776e-10 -1.47952e-10  -0.00131892   -0.0113613   -0.0330591    0.0126969 -1.39169e-08  8.24297e-09  -0.00154647          nan          nan          nan          nan          nan          nan          nan          nan          nan          nan          nan          nan\r\n",
      " 3.87692e-10 -8.22076e-10  -0.00491563  -0.00491563 -6.28855e-10 -6.25217e-11    0.0856686   -0.0856686     0.662947  1.80023e-10  5.81848e-10  -0.00632525  2.92492e-10  7.02051e-10  3.36775e-10  9.71457e-11  -0.00131763   0.00131763   0.00387639   0.00387639  4.33965e-09 -3.05369e-09   0.00112664          nan          nan          nan          nan          nan          nan          nan          nan          nan          nan          nan          nan\r\n",
      "   0.0181647   0.00104228  1.46112e-10  1.66388e-10  -0.00077124    -0.013441  1.43409e-11 -6.02476e-11  1.80023e-10     0.680922 -1.60095e-12 -8.83659e-11  -2.7094e-05  7.97089e-05   0.00049477   0.00862274 -3.86261e-10 -2.42896e-13 -8.09517e-11 -8.90858e-10  -0.00216914   -0.0409702  6.68857e-10          nan          nan          nan          nan          nan          nan          nan          nan          nan          nan          nan          nan\r\n",
      "  0.00104228   -0.0181647 -1.02584e-10 -1.48491e-10     0.013441  -0.00077124  7.24894e-10  -7.4517e-10  5.81848e-10 -1.60096e-12     0.680922 -6.20484e-11  7.97088e-05   2.7094e-05  -0.00862274   0.00049477  4.18652e-12 -8.14093e-10 -3.77102e-10  9.40218e-12    0.0409702  -0.00216914 -8.09473e-10          nan          nan          nan          nan          nan          nan          nan          nan          nan          nan          nan          nan\r\n",
      " 1.10478e-10 -3.85161e-10  -0.00209421  -0.00209421 -1.85913e-10  5.24949e-12    0.0364975   -0.0364975  -0.00632525 -8.83659e-11 -6.20484e-11      0.79826 -1.23065e-11  3.26472e-10 -1.10193e-10  5.77043e-11  -0.00465838   0.00465838    0.0137047    0.0137047  1.73223e-09 -9.75801e-10  0.000446634          nan          nan          nan          nan          nan          nan          nan          nan          nan          nan          nan          nan\r\n",
      "  -0.0104089   -0.0375598  -1.1915e-11  8.11254e-12  -0.00770352  -0.00213486  8.31342e-10 -8.56247e-10  2.92492e-10  -2.7094e-05  7.97088e-05 -1.23065e-11     0.956418 -4.29435e-11    0.0126649   0.00350978 -1.23826e-10  2.37462e-10  6.52741e-10  4.30372e-10   -0.0192716  -0.00543257 -6.81443e-12          nan          nan          nan          nan          nan          nan          nan          nan          nan          nan          nan          nan\r\n",
      "   0.0375598   -0.0104089 -2.07332e-10 -1.82427e-10  -0.00213486   0.00770352  2.62373e-09  -2.6037e-09  7.02051e-10  7.97089e-05   2.7094e-05  3.26472e-10 -4.29435e-11     0.956418   0.00350978   -0.0126649 -4.25183e-10  6.47551e-10   1.4916e-09  1.60523e-09  -0.00543257    0.0192716  8.93124e-11          nan          nan          nan          nan          nan          nan          nan          nan          nan          nan          nan          nan\r\n",
      "-2.00567e-11    0.0421019  1.19212e-10  1.27728e-11    0.0309987  6.62238e-11  6.31708e-10 -2.18776e-10  3.36775e-10   0.00049477  -0.00862274 -1.10193e-10    0.0126649   0.00350978     0.988566  3.74509e-11  2.92508e-11 -1.10927e-10  3.59504e-11 -6.16633e-11   -0.0223628 -9.88832e-05 -3.29957e-10          nan          nan          nan          nan          nan          nan          nan          nan          nan          nan          nan          nan\r\n",
      "   0.0421019 -2.00566e-11 -7.52481e-12  4.05407e-10  6.62238e-11    0.0309987  2.54391e-10 -1.47952e-10  9.71457e-11   0.00862274   0.00049477  5.77043e-11   0.00350978   -0.0126649  3.74509e-11     0.988566    -7.18e-12 -9.04336e-11  6.76051e-11  1.49281e-10  9.88833e-05   -0.0223628 -1.73206e-10          nan          nan          nan          nan          nan          nan          nan          nan          nan          nan          nan          nan\r\n",
      "-2.08584e-10  1.92244e-10   -0.0470495   -0.0012935  4.61892e-11  1.53585e-10   -0.0113613  -0.00131892  -0.00131763 -3.86261e-10  4.18652e-12  -0.00465838 -1.23826e-10 -4.25183e-10  2.92508e-11    -7.18e-12      1.03321  -0.00657297   -0.0132534   -0.0132534 -8.26697e-10  5.54138e-10   0.00427467          nan          nan          nan          nan          nan          nan          nan          nan          nan          nan          nan          nan\r\n",
      " 9.12194e-11  6.61421e-12    0.0012935    0.0470495 -3.03351e-10 -7.24647e-12  -0.00131892   -0.0113613   0.00131763 -2.42896e-13 -8.14093e-10   0.00465838  2.37462e-10  6.47551e-10 -1.10927e-10 -9.04336e-11  -0.00657297      1.03321    0.0132534    0.0132534  7.79933e-10 -4.52275e-10  -0.00427467          nan          nan          nan          nan          nan          nan          nan          nan          nan          nan          nan          nan\r\n",
      " 3.57772e-10 -5.01631e-10  -0.00255819   -0.0152384 -2.07829e-10 -8.26908e-11   -0.0126969   -0.0330591   0.00387639 -8.09517e-11 -3.77102e-10    0.0137047  6.52741e-10   1.4916e-09  3.59504e-11  6.76051e-11   -0.0132534    0.0132534       1.0677    0.0410586  2.36659e-09 -1.58702e-09   0.00204454          nan          nan          nan          nan          nan          nan          nan          nan          nan          nan          nan          nan\r\n",
      " 1.58914e-10 -6.18995e-10   -0.0152384  -0.00255819 -6.14905e-11  1.74471e-10    0.0330591    0.0126969   0.00387639 -8.90858e-10  9.40218e-12    0.0137047  4.30372e-10  1.60523e-09 -6.16633e-11  1.49281e-10   -0.0132534    0.0132534    0.0410586       1.0677  2.46755e-09  -1.5397e-09   0.00204454          nan          nan          nan          nan          nan          nan          nan          nan          nan          nan          nan          nan\r\n",
      "-0.000332723    0.0752465  6.87724e-10  7.32642e-10   -0.0690159  0.000305172 -8.05772e-09  8.33532e-09 -3.16321e-09    0.0016366   -0.0309116 -1.54301e-09   0.00866563   0.00244279    0.0364086  -0.00016099  5.59325e-10 -5.58759e-10 -1.77504e-09 -1.77855e-09    -0.194424  2.21897e-10 -4.21876e-09          nan          nan          nan          nan          nan          nan          nan          nan          nan          nan          nan          nan\r\n",
      "   0.0752465  0.000332723  8.81355e-13  2.85202e-10 -0.000305172   -0.0690159    5.491e-09 -5.53357e-09  2.38421e-09    0.0309116    0.0016366  8.87174e-10   0.00244279  -0.00866563   0.00016099    0.0364086 -4.82129e-10  4.77885e-10  1.28076e-09   1.2793e-09  2.21897e-10    -0.194424  -5.5434e-09          nan          nan          nan          nan          nan          nan          nan          nan          nan          nan          nan          nan\r\n",
      " 5.99107e-10  5.29827e-10    -0.014189    -0.014189 -3.68887e-10 -5.51687e-10  -0.00432774   0.00432774  -0.00131331  1.02977e-09  -1.0896e-09 -0.000526572  8.36185e-11 -8.17587e-11  4.06944e-11   2.5166e-10   0.00597511  -0.00597511   0.00150845   0.00150845 -4.42928e-09 -5.45722e-09     0.958311          nan          nan          nan          nan          nan          nan          nan          nan          nan          nan          nan          nan\r\n",
      "        -nan         -nan         -nan         -nan         -nan         -nan         -nan         -nan         -nan         -nan         -nan         -nan         -nan         -nan         -nan         -nan         -nan         -nan         -nan         -nan         -nan         -nan         -nan          nan          nan          nan          nan          nan          nan          nan          nan          nan          nan          nan          nan\r\n",
      "        -nan         -nan         -nan         -nan         -nan         -nan         -nan         -nan         -nan         -nan         -nan         -nan         -nan         -nan         -nan         -nan         -nan         -nan         -nan         -nan         -nan         -nan         -nan         -nan         -nan         -nan         -nan         -nan         -nan         -nan         -nan         -nan         -nan         -nan         -nan\r\n",
      "        -nan         -nan         -nan         -nan         -nan         -nan         -nan         -nan         -nan         -nan         -nan         -nan         -nan         -nan         -nan         -nan         -nan         -nan         -nan         -nan         -nan         -nan         -nan         -nan         -nan         -nan         -nan         -nan         -nan         -nan         -nan         -nan         -nan         -nan         -nan\r\n",
      "        -nan         -nan         -nan         -nan         -nan         -nan         -nan         -nan         -nan         -nan         -nan         -nan         -nan         -nan         -nan         -nan         -nan         -nan         -nan         -nan         -nan         -nan         -nan          nan          nan          nan          nan          nan          nan          nan          nan          nan          nan          nan          nan\r\n",
      "        -nan         -nan         -nan         -nan         -nan         -nan         -nan         -nan         -nan         -nan         -nan         -nan         -nan         -nan         -nan         -nan         -nan         -nan         -nan         -nan         -nan         -nan         -nan          nan          nan          nan          nan          nan          nan          nan          nan          nan          nan          nan          nan\r\n",
      "        -nan         -nan         -nan         -nan         -nan         -nan         -nan         -nan         -nan         -nan         -nan         -nan         -nan         -nan         -nan         -nan         -nan         -nan         -nan         -nan         -nan         -nan         -nan         -nan         -nan         -nan         -nan         -nan         -nan         -nan         -nan         -nan         -nan         -nan         -nan\r\n",
      "        -nan         -nan         -nan         -nan         -nan         -nan         -nan         -nan         -nan         -nan         -nan         -nan         -nan         -nan         -nan         -nan         -nan         -nan         -nan         -nan         -nan         -nan         -nan         -nan         -nan         -nan         -nan         -nan         -nan         -nan         -nan         -nan         -nan         -nan         -nan\r\n",
      "        -nan         -nan         -nan         -nan         -nan         -nan         -nan         -nan         -nan         -nan         -nan         -nan         -nan         -nan         -nan         -nan         -nan         -nan         -nan         -nan         -nan         -nan         -nan          nan          nan          nan          nan          nan          nan          nan          nan          nan          nan          nan          nan\r\n",
      "        -nan         -nan         -nan         -nan         -nan         -nan         -nan         -nan         -nan         -nan         -nan         -nan         -nan         -nan         -nan         -nan         -nan         -nan         -nan         -nan         -nan         -nan         -nan          nan          nan          nan          nan          nan          nan          nan          nan          nan          nan          nan          nan\r\n",
      "        -nan         -nan         -nan         -nan         -nan         -nan         -nan         -nan         -nan         -nan         -nan         -nan         -nan         -nan         -nan         -nan         -nan         -nan         -nan         -nan         -nan         -nan         -nan         -nan          nan          nan          nan         -nan          nan          nan          nan         -nan          nan          nan          nan\r\n",
      "        -nan         -nan         -nan         -nan         -nan         -nan         -nan         -nan         -nan         -nan         -nan         -nan         -nan         -nan         -nan         -nan         -nan         -nan         -nan         -nan         -nan         -nan         -nan         -nan          nan          nan          nan         -nan          nan          nan          nan         -nan          nan          nan          nan\r\n",
      "        -nan         -nan         -nan         -nan         -nan         -nan         -nan         -nan         -nan         -nan         -nan         -nan         -nan         -nan         -nan         -nan         -nan         -nan         -nan         -nan         -nan         -nan         -nan         -nan         -nan         -nan         -nan         -nan         -nan         -nan         -nan         -nan         -nan         -nan         -nan\r\n",
      "B\r\n",
      "    0.093811 -1.36249e-11  9.61338e-11  3.20833e-10  1.42996e-11   -0.0328898  4.68349e-10  -4.1138e-10  2.38565e-10    0.0155316  0.000891201  6.35567e-11   -0.0129067    0.0465733 -2.33024e-11    0.0481429  -2.5932e-10  1.01752e-10  3.59504e-10  8.39359e-11  0.000111021   -0.0251078  4.90458e-10         -nan         -nan         -nan         -nan         -nan         -nan         -nan         -nan         -nan         -nan         -nan         -nan\r\n",
      " -1.3625e-11     0.093811  2.01301e-10  1.44332e-10   -0.0328898  1.42996e-11 -9.67699e-10   1.1924e-09 -5.07298e-10  0.000891201   -0.0155316 -2.54838e-10   -0.0465733   -0.0129067    0.0481429 -2.33023e-11  1.65033e-10  1.10535e-10 -4.29876e-10 -5.87444e-10   -0.0251078 -0.000111021  5.38575e-10         -nan         -nan         -nan         -nan         -nan         -nan         -nan         -nan         -nan         -nan         -nan         -nan\r\n",
      " 9.61338e-11  2.01301e-10     0.105871    -0.005311 -1.86254e-11 -2.58737e-11  -0.00667803   0.00667803  -0.00361477  1.36138e-10 -8.75909e-11  -0.00164203 -2.39985e-11 -2.30125e-10  1.50957e-10 -1.30764e-11   -0.0640474   0.00170978  -0.00245683   -0.0197323 -7.99651e-11  1.94543e-10   -0.0418868         -nan         -nan         -nan         -nan         -nan         -nan         -nan         -nan         -nan         -nan         -nan         -nan\r\n",
      " 3.20833e-10  1.44332e-10    -0.005311     0.105871 -2.21799e-11 -3.15387e-10  -0.00667803   0.00667803  -0.00361477  1.60332e-10 -1.30164e-10  -0.00164203  2.84208e-12 -1.93251e-10  9.16052e-12  5.05885e-10  -0.00170978    0.0640474   -0.0197323  -0.00245683 -5.37364e-12 -4.78788e-11   -0.0418868         -nan         -nan         -nan         -nan         -nan         -nan         -nan         -nan         -nan         -nan         -nan         -nan\r\n",
      " 1.42996e-11   -0.0328898 -1.86254e-11 -2.21799e-11     0.240891    -6.67e-13 -9.44031e-10  6.54518e-10   -5.494e-10 -0.000828808    0.0144443 -1.60931e-10  -0.00881133  -0.00244186    0.0441772   9.2057e-11  4.10569e-11 -4.25163e-10   -2.149e-10 -1.14883e-11  -0.00438142 -1.93736e-05 -5.21194e-10         -nan         -nan         -nan         -nan         -nan         -nan         -nan         -nan         -nan         -nan         -nan         -nan\r\n",
      "  -0.0328898  1.42996e-11 -2.58737e-11 -3.15387e-10 -6.66968e-13     0.240891  -4.3699e-11  4.72535e-11 -4.46644e-11   -0.0144443 -0.000828808  1.06082e-11  -0.00244186   0.00881133   9.2057e-11    0.0441772    2.228e-10 -1.93883e-11 -1.02545e-10  2.81562e-10  1.93736e-05  -0.00438142 -4.88396e-10         -nan         -nan         -nan         -nan         -nan         -nan         -nan         -nan         -nan         -nan         -nan         -nan\r\n",
      " 4.68349e-10 -9.67699e-10  -0.00667803  -0.00667803 -9.44031e-10  -4.3699e-11     0.221871    -0.110689    0.0629974   1.7923e-11  5.48434e-10     0.028617  9.97815e-10  2.90228e-09  7.94488e-10  2.58565e-10   -0.0100913  -0.00718417   -0.0330793    0.0292584  1.48721e-09 -5.30471e-10  -0.00289833         -nan         -nan         -nan         -nan         -nan         -nan         -nan         -nan         -nan         -nan         -nan         -nan\r\n",
      " -4.1138e-10   1.1924e-09   0.00667803   0.00667803  6.54518e-10  4.72535e-11    -0.110689     0.221871   -0.0629974 -6.04964e-11 -5.72628e-10    -0.028617 -1.03469e-09 -2.87544e-09 -2.75527e-10 -1.16768e-10  -0.00718417   -0.0100913   -0.0292584    0.0330793 -1.72927e-09  4.54707e-10   0.00289833         -nan         -nan         -nan         -nan         -nan         -nan         -nan         -nan         -nan         -nan         -nan         -nan\r\n",
      " 2.38565e-10 -5.07298e-10  -0.00361477  -0.00361477   -5.494e-10 -4.46644e-11    0.0629974   -0.0629974     0.429278  2.30996e-10  6.84381e-10   -0.0121538   4.2103e-10  8.97996e-10   4.7045e-10  1.29884e-10  6.21196e-06 -6.21198e-06 -1.82753e-05 -1.82752e-05  1.01344e-09 -6.37875e-10  5.57818e-05         -nan         -nan         -nan         -nan         -nan         -nan         -nan         -nan         -nan         -nan         -nan         -nan\r\n",
      "   0.0155316  0.000891201  1.36138e-10  1.60332e-10 -0.000828808   -0.0144443   1.7923e-11 -6.04964e-11  2.30996e-10     0.463967 -2.13799e-12 -1.17869e-10 -0.000208156  0.000612383  0.000594364    0.0103584 -6.62637e-10  5.04001e-12 -1.34046e-10 -1.50718e-09 -0.000937649   -0.0177101  1.63365e-09         -nan         -nan         -nan         -nan         -nan         -nan         -nan         -nan         -nan         -nan         -nan         -nan\r\n",
      " 0.000891201   -0.0155316 -8.75909e-11 -1.30164e-10    0.0144443 -0.000828808  5.48434e-10 -5.72628e-10  6.84381e-10   -2.138e-12     0.463967 -1.23373e-10  0.000612383  0.000208156   -0.0103584  0.000594364  2.66577e-11 -1.39979e-09  -6.9656e-10 -3.89629e-11    0.0177101 -0.000937649 -1.78282e-09         -nan         -nan         -nan         -nan         -nan         -nan         -nan         -nan         -nan         -nan         -nan         -nan\r\n",
      " 6.35567e-11 -2.54838e-10  -0.00164203  -0.00164203 -1.60931e-10  1.06082e-11     0.028617    -0.028617   -0.0121538 -1.17869e-10 -1.23373e-10     0.636067 -4.97721e-11   4.0907e-10 -1.95664e-10  8.28161e-11  -0.00673542   0.00673542    0.0198152    0.0198152   9.9251e-11 -2.31794e-12  4.39659e-05         -nan         -nan         -nan         -nan         -nan         -nan         -nan         -nan         -nan         -nan         -nan         -nan\r\n",
      "  -0.0129067   -0.0465733 -2.39985e-11  2.84208e-12  -0.00881133  -0.00244186  9.97815e-10 -1.03469e-09   4.2103e-10 -0.000208156  0.000612383 -4.97721e-11     0.917068 -7.52892e-11    0.0214818   0.00595319 -2.20542e-10  4.53255e-10  1.22506e-09  7.72902e-10   -0.0223741  -0.00630715  1.02113e-10         -nan         -nan         -nan         -nan         -nan         -nan         -nan         -nan         -nan         -nan         -nan         -nan\r\n",
      "   0.0465733   -0.0129067 -2.30125e-10 -1.93251e-10  -0.00244186   0.00881133  2.90228e-09 -2.87544e-09  8.97996e-10  0.000612383  0.000208156   4.0907e-10 -7.52892e-11     0.917068   0.00595319   -0.0214818 -7.42764e-10  1.19492e-09  2.67335e-09  2.90606e-09  -0.00630715    0.0223741  6.28517e-11         -nan         -nan         -nan         -nan         -nan         -nan         -nan         -nan         -nan         -nan         -nan         -nan\r\n",
      "-2.33024e-11    0.0481429  1.50957e-10  9.16052e-12    0.0441772   9.2057e-11  7.94488e-10 -2.75527e-10   4.7045e-10  0.000594364   -0.0103584 -1.95664e-10    0.0214818   0.00595319     0.981535  7.21907e-11  5.43208e-11 -1.86565e-10  5.46673e-11 -1.35501e-10   0.00424838  1.87854e-05 -2.61191e-10         -nan         -nan         -nan         -nan         -nan         -nan         -nan         -nan         -nan         -nan         -nan         -nan\r\n",
      "   0.0481429 -2.33023e-11 -1.30764e-11  5.05885e-10   9.2057e-11    0.0441772  2.58565e-10 -1.16768e-10  1.29884e-10    0.0103584  0.000594364  8.28161e-11   0.00595319   -0.0214818  7.21907e-11     0.981535 -2.95871e-11 -1.60581e-10  1.09571e-10  2.41816e-10 -1.87853e-05   0.00424838  1.75265e-10         -nan         -nan         -nan         -nan         -nan         -nan         -nan         -nan         -nan         -nan         -nan         -nan\r\n",
      " -2.5932e-10  1.65033e-10   -0.0640474  -0.00170978  4.10569e-11    2.228e-10   -0.0100913  -0.00718417  6.21196e-06 -6.62637e-10  2.66577e-11  -0.00673542 -2.20542e-10 -7.42764e-10  5.43208e-11 -2.95871e-11      1.06909   -0.0128225   -0.0247659   -0.0247659 -3.95161e-10  2.11071e-10    0.0150494         -nan         -nan         -nan         -nan         -nan         -nan         -nan         -nan         -nan         -nan         -nan         -nan\r\n",
      " 1.01752e-10  1.10535e-10   0.00170978    0.0640474 -4.25163e-10 -1.93883e-11  -0.00718417   -0.0100913 -6.21198e-06  5.04001e-12 -1.39979e-09   0.00673542  4.53255e-10  1.19492e-09 -1.86565e-10 -1.60581e-10   -0.0128225      1.06909    0.0247659    0.0247659  2.19604e-10  7.69594e-13   -0.0150494         -nan         -nan         -nan         -nan         -nan         -nan         -nan         -nan         -nan         -nan         -nan         -nan\r\n",
      " 3.59504e-10 -4.29876e-10  -0.00245683   -0.0197323   -2.149e-10 -1.02545e-10   -0.0330793   -0.0292584 -1.82753e-05 -1.34046e-10  -6.9656e-10    0.0198152  1.22506e-09  2.67335e-09  5.46673e-11  1.09571e-10   -0.0247659    0.0247659      1.13353    0.0772639  8.79283e-10 -5.99914e-10   0.00545572         -nan         -nan         -nan         -nan         -nan         -nan         -nan         -nan         -nan         -nan         -nan         -nan\r\n",
      " 8.39359e-11 -5.87444e-10   -0.0197323  -0.00245683 -1.14883e-11  2.81562e-10    0.0292584    0.0330793 -1.82752e-05 -1.50718e-09 -3.89629e-11    0.0198152  7.72902e-10  2.90606e-09 -1.35501e-10  2.41816e-10   -0.0247659    0.0247659    0.0772639      1.13353  1.09035e-09 -4.24533e-10   0.00545572         -nan         -nan         -nan         -nan         -nan         -nan         -nan         -nan         -nan         -nan         -nan         -nan\r\n",
      " 0.000253618   -0.0573567  -4.7338e-10  -4.2142e-10  -0.00347861  1.53816e-05  7.51707e-09 -7.82072e-09   1.2041e-09  -0.00053957    0.0101912  2.34294e-10   -0.0179418   -0.0050577    0.0191591 -8.47173e-05 -9.06778e-11  7.11644e-11 -1.66104e-10  5.08681e-12     0.600541  2.22349e-10 -3.19286e-09         -nan         -nan         -nan         -nan         -nan         -nan         -nan         -nan         -nan         -nan         -nan         -nan\r\n",
      "  -0.0573567 -0.000253618  3.45356e-10  4.25463e-11 -1.53816e-05  -0.00347861 -4.34617e-09   4.2928e-09 -7.17398e-10   -0.0101912  -0.00053957 -1.52092e-10   -0.0050577    0.0179418  8.47173e-05    0.0191591 -1.00941e-10  2.71836e-10  3.20624e-11   5.0764e-11  2.22349e-10     0.600541 -5.04339e-09         -nan         -nan         -nan         -nan         -nan         -nan         -nan         -nan         -nan         -nan         -nan         -nan\r\n",
      " 1.98166e-10  3.36975e-10   -0.0423676   -0.0423676 -5.91192e-10 -4.72944e-10  -0.00286736   0.00286736 -0.000439206  1.50209e-09 -1.61585e-09 -0.000214863  5.05518e-11  4.23347e-11  -3.6438e-10  1.53281e-10    0.0160894   -0.0160894   0.00534437   0.00534437 -3.64972e-09 -5.04756e-09      1.98482         -nan         -nan         -nan         -nan         -nan         -nan         -nan         -nan         -nan         -nan         -nan         -nan\r\n",
      "        -nan         -nan         -nan         -nan         -nan         -nan         -nan         -nan         -nan         -nan         -nan         -nan         -nan         -nan         -nan         -nan         -nan         -nan         -nan         -nan         -nan         -nan         -nan         -nan         -nan         -nan         -nan         -nan         -nan         -nan         -nan         -nan         -nan         -nan         -nan\r\n",
      "        -nan         -nan         -nan         -nan         -nan         -nan         -nan         -nan         -nan         -nan         -nan         -nan         -nan         -nan         -nan         -nan         -nan         -nan         -nan         -nan         -nan         -nan         -nan         -nan         -nan         -nan         -nan         -nan         -nan         -nan         -nan         -nan         -nan         -nan         -nan\r\n",
      "        -nan         -nan         -nan         -nan         -nan         -nan         -nan         -nan         -nan         -nan         -nan         -nan         -nan         -nan         -nan         -nan         -nan         -nan         -nan         -nan         -nan         -nan         -nan         -nan         -nan         -nan         -nan         -nan         -nan         -nan         -nan         -nan         -nan         -nan         -nan\r\n",
      "        -nan         -nan         -nan         -nan         -nan         -nan         -nan         -nan         -nan         -nan         -nan         -nan         -nan         -nan         -nan         -nan         -nan         -nan         -nan         -nan         -nan         -nan         -nan         -nan         -nan         -nan         -nan         -nan         -nan         -nan         -nan         -nan         -nan         -nan         -nan\r\n",
      "        -nan         -nan         -nan         -nan         -nan         -nan         -nan         -nan         -nan         -nan         -nan         -nan         -nan         -nan         -nan         -nan         -nan         -nan         -nan         -nan         -nan         -nan         -nan         -nan         -nan         -nan         -nan         -nan         -nan         -nan         -nan         -nan         -nan         -nan         -nan\r\n",
      "        -nan         -nan         -nan         -nan         -nan         -nan         -nan         -nan         -nan         -nan         -nan         -nan         -nan         -nan         -nan         -nan         -nan         -nan         -nan         -nan         -nan         -nan         -nan         -nan         -nan         -nan         -nan         -nan         -nan         -nan         -nan         -nan         -nan         -nan         -nan\r\n",
      "        -nan         -nan         -nan         -nan         -nan         -nan         -nan         -nan         -nan         -nan         -nan         -nan         -nan         -nan         -nan         -nan         -nan         -nan         -nan         -nan         -nan         -nan         -nan         -nan         -nan         -nan         -nan         -nan         -nan         -nan         -nan         -nan         -nan         -nan         -nan\r\n",
      "        -nan         -nan         -nan         -nan         -nan         -nan         -nan         -nan         -nan         -nan         -nan         -nan         -nan         -nan         -nan         -nan         -nan         -nan         -nan         -nan         -nan         -nan         -nan         -nan         -nan         -nan         -nan         -nan         -nan         -nan         -nan         -nan         -nan         -nan         -nan\r\n",
      "        -nan         -nan         -nan         -nan         -nan         -nan         -nan         -nan         -nan         -nan         -nan         -nan         -nan         -nan         -nan         -nan         -nan         -nan         -nan         -nan         -nan         -nan         -nan         -nan         -nan         -nan         -nan         -nan         -nan         -nan         -nan         -nan         -nan         -nan         -nan\r\n",
      "        -nan         -nan         -nan         -nan         -nan         -nan         -nan         -nan         -nan         -nan         -nan         -nan         -nan         -nan         -nan         -nan         -nan         -nan         -nan         -nan         -nan         -nan         -nan         -nan         -nan         -nan         -nan         -nan         -nan         -nan         -nan         -nan         -nan         -nan         -nan\r\n",
      "        -nan         -nan         -nan         -nan         -nan         -nan         -nan         -nan         -nan         -nan         -nan         -nan         -nan         -nan         -nan         -nan         -nan         -nan         -nan         -nan         -nan         -nan         -nan         -nan         -nan         -nan         -nan         -nan         -nan         -nan         -nan         -nan         -nan         -nan         -nan\r\n",
      "        -nan         -nan         -nan         -nan         -nan         -nan         -nan         -nan         -nan         -nan         -nan         -nan         -nan         -nan         -nan         -nan         -nan         -nan         -nan         -nan         -nan         -nan         -nan          nan          nan          nan          nan          nan          nan          nan          nan          nan          nan          nan          nan\r\n",
      "an error occurred:\r\n",
      "Small generalized eigenvalue problem failed.\r\n"
     ]
    }
   ],
   "source": [
    "!xtp_tools -c job_name=CO geometry_optimization.maxiter=1 dftpackage.basisset=3-21G dftpackage.auxbasisset=aux-def2-svp gwbse.gw.mode=G0W0 -e dftgwbse -t 4"
   ]
  },
  {
   "cell_type": "markdown",
   "metadata": {},
   "source": [
    "Notice that we are using 4 threads. The results will be stored in a file named `CO_summary.xml` in the current work directory, together with the optimization step in `optimisation.trj` and the orbitals in [hdf5 format](https://www.hdfgroup.org/solutions/hdf5/) saved on `CO.orb`."
   ]
  }
 ],
 "metadata": {
  "kernelspec": {
   "display_name": "Python 3",
   "language": "python",
   "name": "python3"
  },
  "language_info": {
   "codemirror_mode": {
    "name": "ipython",
    "version": 3
   },
   "file_extension": ".py",
   "mimetype": "text/x-python",
   "name": "python",
   "nbconvert_exporter": "python",
   "pygments_lexer": "ipython3",
   "version": "3.9.6"
  }
 },
 "nbformat": 4,
 "nbformat_minor": 4
}
