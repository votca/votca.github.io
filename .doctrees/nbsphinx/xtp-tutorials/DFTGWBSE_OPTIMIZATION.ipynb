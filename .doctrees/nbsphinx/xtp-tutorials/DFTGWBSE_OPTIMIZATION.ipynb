{
 "cells": [
  {
   "cell_type": "markdown",
   "metadata": {},
   "source": [
    "## DFT + GWBSE Optimization Using CO"
   ]
  },
  {
   "cell_type": "markdown",
   "metadata": {},
   "source": [
    "## Introduction\n",
    "This tutorial explains how to perform a molecular geometric optimization using the **GWBSE** method. See [the GW Compendium: A Practical Guide to Theoretical Photoemission Spectroscopy](https://doi.org/10.3389/fchem.2019.00377), for an excellent introduction to the method."
   ]
  },
  {
   "cell_type": "markdown",
   "metadata": {},
   "source": [
    "## Requirements\n",
    "* You will need to install **VOTCA** using the instructions described [here](https://github.com/votca/votca/blob/master/share/doc/INSTALL.rst)\n",
    "* Once the installation is completed you need to activate the VOTCA enviroment by running the `VOTCARC.bash` script that has been installed at the bin subfolder for the path that you have provided for the installation step above"
   ]
  },
  {
   "cell_type": "markdown",
   "metadata": {},
   "source": [
    "## Preparing the input\n",
    "To run a DFT-GWBSE calculation we will use the [xtp_tools](https://www.votca.org/xtp/xtp_tools_overview.html) calculator."
   ]
  },
  {
   "cell_type": "markdown",
   "metadata": {},
   "source": [
    "we can now change the calculator mode from single point energy calculation to optimization as follows by adding \n",
    "`-c geometry_optimization.maxiter=1` which enables optimization with one iteration. "
   ]
  },
  {
   "cell_type": "markdown",
   "metadata": {},
   "source": [
    "Because geometry optimsation is quite expensive numerically we chose a smaller basisset and G0W0 Finally, to run the calculation we just need the following command (This still takes a while)"
   ]
  },
  {
   "cell_type": "code",
   "execution_count": 1,
   "metadata": {
    "execution": {
     "iopub.execute_input": "2022-10-02T19:36:39.296919Z",
     "iopub.status.busy": "2022-10-02T19:36:39.296300Z",
     "iopub.status.idle": "2022-10-02T19:38:00.519216Z",
     "shell.execute_reply": "2022-10-02T19:38:00.518685Z"
    }
   },
   "outputs": [
    {
     "name": "stdout",
     "output_type": "stream",
     "text": [
      "==================================================\r\n",
      "========   VOTCA (http://www.votca.org)   ========\r\n",
      "==================================================\r\n",
      "\r\n",
      "please submit bugs to https://github.com/votca/xtp/issues\r\n",
      "\r\n",
      "xtp_tools, version 2023-dev gitid: 613916e (compiled Oct  2 2022, 19:26:34)\r\n",
      "votca_csg, version 2023-dev gitid: 613916e (compiled Oct  2 2022, 19:07:11)\r\n",
      "votca_tools, version 2023-dev gitid: 613916e (compiled Oct  2 2022, 19:03:43)\r\n",
      "\r\n",
      "Initializing tool\r\n",
      "... dftgwbse Evaluating tool\r\n",
      "... dftgwbse  Using 4 threads\r\n",
      "... ... Reading structure from CO.xyz\r\n",
      "... ... Requested geometry optimization of excited state s1\r\n",
      "... ... Initial state: s1\r\n",
      "... ... WARNING: No tracker is used \r\n",
      "... ... Convergence of total energy: 0.000001 Hartree \r\n",
      "... ... Convergence of RMS Force:    0.000030 Hartree/Bohr \r\n",
      "... ... Convergence of Max Force:    0.000100 Hartree/Bohr \r\n",
      "... ... Convergence of RMS Step:     0.000600 Bohr \r\n",
      "... ... Convergence of Max Step:     0.001000 Bohr \r\n",
      "... ... Initial trust radius:        0.018897 Bohr\r\n",
      "... ... \r\n",
      "... ... =========== OPTIMIZATION SUMMARY ================================= \r\n",
      "... ... At iteration  0\r\n",
      "... ...  ---- POSITIONS (Angstrom)   \r\n",
      "... ...  Atom\t x\t  y\t  z \r\n",
      "... ...    0    +0.0000  +0.0000  +0.0000\r\n",
      "... ...    1    +1.2000  +0.0000  +0.0000\r\n",
      "... ...    Total energy:     -112.26831841 Hartree \r\n",
      "... ...    Trust radius:       0.01889726 Bohr     \r\n",
      "... ...  ---- FORCES (Hartree/Bohr)   \r\n",
      "... ...       central differences   \r\n",
      "... ...       displacement 0.0010 Angstrom   \r\n",
      "... ...  Atom\t x\t  y\t  z \r\n",
      "... ...    0    -0.1314  -0.0000  -0.0000\r\n",
      "... ...    1    +0.1314  +0.0000  +0.0000A\r\n",
      "    0.300728  1.54403e-15  5.14845e-14  5.21162e-14    0.0519964  3.15064e-15   2.6271e-11 -2.65319e-11  1.38441e-11   -0.0175948 -3.34238e-05 -4.56986e-12     0.039031  0.000314084    0.0424178  2.89922e-15 -3.82198e-14 -3.59965e-14 -3.59872e-12  3.93624e-12     0.107004  1.44909e-05  7.63213e-15  7.79972e-13          nan          nan          nan          nan          nan          nan          nan          nan          nan          nan          nan\r\n",
      " 1.54076e-15     0.300728 -2.04395e-12 -2.30488e-12  3.29467e-15    0.0519964  2.65008e-14 -2.71638e-14  1.20059e-14 -3.34238e-05    0.0175948  -3.9024e-15 -0.000314084     0.039031  2.85244e-15    0.0424178  -5.5467e-13 -2.17183e-13 -5.18871e-16 -1.67591e-15  1.44909e-05    -0.107004  1.41476e-13 -6.24794e-14          nan          nan          nan          nan          nan          nan          nan          nan          nan          nan          nan\r\n",
      " 5.14846e-14 -2.04395e-12     0.309473    -0.010086  1.39202e-15 -1.27522e-12  0.000440087 -0.000440087  0.000173596 -3.58143e-14  2.20861e-12  -7.8524e-05   1.1609e-14  3.12005e-13 -1.70053e-14  4.10437e-13    0.0491903   0.00194277 -8.35848e-05  0.000463788  3.05468e-13  1.97969e-12   -0.0247329  -0.00211565          nan          nan          nan          nan          nan          nan          nan          nan          nan          nan          nan\r\n",
      " 5.21162e-14 -2.30488e-12    -0.010086     0.309473  9.14491e-16 -4.93686e-13  0.000440087 -0.000440087  0.000173596 -3.38424e-14 -3.59507e-14  -7.8524e-05  1.08789e-14  3.85854e-13 -1.25854e-14 -3.84563e-12   0.00194277    0.0491903 -0.000463788  8.35848e-05   3.0641e-13  2.47801e-12   -0.0247329   0.00211565          nan          nan          nan          nan          nan          nan          nan          nan          nan          nan          nan\r\n",
      "   0.0519964  3.31484e-15    1.392e-15  9.14489e-16     0.486555 -1.50652e-15  7.09053e-13   7.2504e-14  7.46828e-13    -0.013646 -2.59224e-05  1.84652e-12  -0.00832812 -6.70166e-05   -0.0300841    7.981e-15  1.05556e-14  1.33878e-14  1.40008e-12 -9.69575e-13    0.0551239  7.46508e-06  3.95609e-15 -5.47277e-12          nan          nan          nan          nan          nan          nan          nan          nan          nan          nan          nan\r\n",
      " 3.17387e-15    0.0519964 -1.27522e-12 -4.93686e-13  -1.5122e-15     0.486555  1.61528e-15 -1.12866e-15  3.87066e-16 -2.59224e-05     0.013646  1.77619e-15  6.70166e-05  -0.00832812  7.90787e-15   -0.0300841 -4.43746e-13 -1.32848e-14  1.93137e-15 -4.71483e-15  7.46508e-06   -0.0551239  1.09389e-12  4.35552e-13          nan          nan          nan          nan          nan          nan          nan          nan          nan          nan          nan\r\n",
      "  2.6271e-11  2.65008e-14  0.000440087  0.000440087  7.09053e-13  1.61528e-15     0.541141    -0.221582    0.0913839 -1.66954e-11 -1.91974e-14   -0.0413363  7.57542e-12  6.61364e-14 -1.06771e-11 -6.59037e-15 -0.000340137  4.00658e-05    0.0134232    0.0338243  1.59899e-10  -1.1089e-13 -1.33255e-08   -0.0224305          nan          nan          nan          nan          nan          nan          nan          nan          nan          nan          nan\r\n",
      "-2.65319e-11 -2.71637e-14 -0.000440087 -0.000440087   7.2504e-14 -1.12864e-15    -0.221582     0.541141   -0.0913839    1.894e-11   2.1118e-14    0.0413363 -7.50156e-12 -6.54092e-14  6.42097e-12   2.1069e-15 -4.00658e-05  0.000340137    0.0338243    0.0134232 -1.60406e-10  1.11882e-13  1.33256e-08   -0.0224305          nan          nan          nan          nan          nan          nan          nan          nan          nan          nan          nan\r\n",
      " 1.38441e-11  1.20059e-14  0.000173596  0.000173596  7.46828e-13  3.87066e-16    0.0913839   -0.0913839     0.659711 -9.57648e-12  -9.9988e-15   0.00509591   3.4792e-13  2.76632e-15 -3.26868e-12 -2.91751e-15 -4.79398e-05 -4.79398e-05  -0.00481961   0.00481961   6.4542e-11 -4.33781e-14 -1.82552e-05  -6.5003e-10          nan          nan          nan          nan          nan          nan          nan          nan          nan          nan          nan\r\n",
      "  -0.0175948 -3.34238e-05 -3.58143e-14 -3.38423e-14    -0.013646 -2.59224e-05 -1.66954e-11    1.894e-11 -9.57648e-12     0.667191  -1.2276e-15  2.33058e-12  2.39761e-05  2.38486e-07  -0.00908943 -1.72666e-05  3.19093e-14    5.743e-15  2.15256e-13 -3.16577e-12   -0.0409783  7.22945e-05  4.92488e-15 -6.85174e-12          nan          nan          nan          nan          nan          nan          nan          nan          nan          nan          nan\r\n",
      "-3.34238e-05    0.0175948  2.20861e-12 -3.59507e-14 -2.59224e-05     0.013646 -1.91974e-14   2.1118e-14 -9.99879e-15 -1.25513e-15     0.667191  2.24513e-15  2.38486e-07 -2.39761e-05 -1.72666e-05   0.00908943 -3.38628e-12 -4.35758e-13  7.45391e-15 -3.36092e-14 -7.22945e-05   -0.0409783 -4.69166e-12 -5.16381e-13          nan          nan          nan          nan          nan          nan          nan          nan          nan          nan          nan\r\n",
      "-4.56986e-12  -3.9024e-15  -7.8524e-05  -7.8524e-05  1.84652e-12  1.77621e-15   -0.0413363    0.0413363   0.00509591  2.33058e-12  2.24511e-15     0.792641  -2.2921e-12 -2.03733e-14    3.347e-12   3.0707e-15   0.00015278   0.00015278    0.0153597   -0.0153597 -2.09948e-11  1.35274e-14  6.93208e-06  2.83542e-10          nan          nan          nan          nan          nan          nan          nan          nan          nan          nan          nan\r\n",
      "    0.039031 -0.000314084   1.1609e-14  1.08789e-14  -0.00832812  6.70166e-05  7.57542e-12 -7.50156e-12   3.4792e-13  2.39761e-05  2.38486e-07  -2.2921e-12     0.954094 -6.42632e-15   -0.0128552  0.000103446 -8.48393e-14 -8.38322e-14 -8.37574e-12  7.43896e-12   -0.0198867 -0.000162722 -1.36496e-15 -2.59467e-12          nan          nan          nan          nan          nan          nan          nan          nan          nan          nan          nan\r\n",
      " 0.000314084     0.039031  3.12005e-13  3.85854e-13 -6.70166e-05  -0.00832812  6.61364e-14 -6.54092e-14  2.76633e-15  2.38486e-07 -2.39761e-05 -2.03733e-14 -6.41947e-15     0.954094 -0.000103446   -0.0128552  1.09874e-12  1.61982e-13 -7.71222e-14  7.61322e-14 -0.000162722    0.0198867 -4.92226e-13  1.82356e-13          nan          nan          nan          nan          nan          nan          nan          nan          nan          nan          nan\r\n",
      "   0.0424178  2.84682e-15 -1.70053e-14 -1.25854e-14   -0.0300841  7.89129e-15 -1.06771e-11  6.42097e-12 -3.26868e-12  -0.00908943 -1.72666e-05    3.347e-12   -0.0128552 -0.000103446     0.972602 -7.44308e-15  2.27939e-14  3.00002e-14  3.17524e-12 -2.15257e-12      0.02299  3.11339e-06  4.66698e-15  7.04165e-13          nan          nan          nan          nan          nan          nan          nan          nan          nan          nan          nan\r\n",
      " 2.88633e-15    0.0424178  4.10437e-13 -3.84563e-12  7.98477e-15   -0.0300841 -6.59037e-15  2.10679e-15 -2.91751e-15 -1.72666e-05   0.00908943   3.0707e-15  0.000103446   -0.0128552 -7.43852e-15     0.972602 -2.94403e-13  7.28266e-13  -3.3786e-15 -3.83302e-15  3.11339e-06     -0.02299 -4.54159e-13 -8.26324e-14          nan          nan          nan          nan          nan          nan          nan          nan          nan          nan          nan\r\n",
      "-3.82198e-14  -5.5467e-13    0.0491903   0.00194277  1.05556e-14 -4.43746e-13 -0.000340137 -4.00658e-05 -4.79398e-05  3.19093e-14 -3.38628e-12   0.00015278 -8.48393e-14  1.09874e-12  2.27939e-14 -2.94403e-13      1.02072   0.00209061  0.000424261 -0.000424261 -2.22414e-13  8.47335e-14  -0.00474914  3.35077e-06          nan          nan          nan          nan          nan          nan          nan          nan          nan          nan          nan\r\n",
      "-3.59965e-14 -2.17183e-13   0.00194277    0.0491903  1.33878e-14 -1.32848e-14  4.00658e-05  0.000340137 -4.79398e-05  5.74301e-15 -4.35758e-13   0.00015278 -8.38322e-14  1.61982e-13  3.00002e-14  7.28266e-13   0.00209061      1.02072  0.000424261 -0.000424261 -2.20317e-13 -2.30276e-13  -0.00474914 -3.35077e-06          nan          nan          nan          nan          nan          nan          nan          nan          nan          nan          nan\r\n",
      "-3.59872e-12 -5.18873e-16 -8.35848e-05 -0.000463788  1.40008e-12  1.93137e-15    0.0134232    0.0338243  -0.00481961  2.15256e-13   7.4539e-15    0.0153597 -8.37574e-12 -7.71222e-14  3.17524e-12  -3.3786e-15  0.000424261  0.000424261      1.06337   -0.0447393 -2.20651e-11  1.66756e-14  7.39478e-05  -0.00049738          nan          nan          nan          nan          nan          nan          nan          nan          nan          nan          nan\r\n",
      " 3.93624e-12  -1.6759e-15  0.000463788  8.35848e-05 -9.69575e-13 -4.71483e-15    0.0338243    0.0134232   0.00481961 -3.16577e-12 -3.36092e-14   -0.0153597  7.43896e-12  7.61323e-14 -2.15257e-12 -3.83303e-15 -0.000424261 -0.000424261   -0.0447393      1.06337  2.23844e-11 -1.46349e-14 -7.39478e-05 -0.000497381          nan          nan          nan          nan          nan          nan          nan          nan          nan          nan          nan\r\n",
      "  -0.0745352 -1.00938e-05 -2.01333e-13 -2.00625e-13   -0.0700995 -9.49313e-06 -1.04286e-10  1.03022e-10 -5.13606e-11    0.0303572  5.35566e-05  1.77439e-11    0.0092117  7.53744e-05   -0.0362794 -4.91309e-06  1.75587e-13  1.79577e-13  1.81629e-11 -1.76202e-11    -0.195077  3.37145e-14  1.77681e-13  3.64352e-11          nan          nan          nan          nan          nan          nan          nan          nan          nan          nan          nan\r\n",
      "-1.00938e-05    0.0745352 -3.48889e-12 -2.20689e-12 -9.49313e-06    0.0700995  7.63283e-14 -7.55833e-14  3.53573e-14 -5.35566e-05    0.0303572 -1.19585e-14  7.53744e-05   -0.0092117 -4.91309e-06    0.0362794   6.4211e-14 -4.79869e-13 -7.74753e-15  1.18009e-14  3.37798e-14    -0.195077  4.87979e-11  2.72158e-12          nan          nan          nan          nan          nan          nan          nan          nan          nan          nan          nan\r\n",
      " 1.86344e-14  -5.9962e-12   -0.0140675   -0.0140675 -5.57387e-15 -4.10392e-12   0.00021445  -0.00021445  7.42116e-05 -4.85696e-15 -5.97014e-12 -3.27087e-05 -8.07291e-15  1.50215e-12 -9.13751e-15 -1.10993e-12  -0.00609654  -0.00609654   5.2599e-05  -5.2599e-05  3.13372e-13  5.03402e-11     0.940168 -2.30864e-11          nan          nan          nan          nan          nan          nan          nan          nan          nan          nan          nan\r\n",
      " 6.09607e-12 -4.52028e-13  0.000715312 -0.000715312  6.98989e-12 -5.47538e-13   0.00550124   0.00550124  4.06888e-10 -7.92318e-12 -6.03837e-13 -1.94488e-10 -1.49229e-12  9.10738e-14 -4.95437e-12  4.03552e-13 -0.000394064  0.000394064  -0.00473865  -0.00473865  4.13153e-11  3.08223e-12  -2.1612e-11     0.175679          nan          nan          nan          nan          nan          nan          nan          nan          nan          nan          nan\r\n",
      "        -nan         -nan         -nan         -nan         -nan         -nan         -nan         -nan         -nan         -nan         -nan         -nan         -nan         -nan         -nan         -nan         -nan         -nan         -nan         -nan         -nan         -nan         -nan         -nan         -nan         -nan         -nan         -nan         -nan         -nan         -nan         -nan         -nan         -nan         -nan\r\n",
      "        -nan         -nan         -nan         -nan         -nan         -nan         -nan         -nan         -nan         -nan         -nan         -nan         -nan         -nan         -nan         -nan         -nan         -nan         -nan         -nan         -nan         -nan         -nan         -nan         -nan         -nan         -nan         -nan         -nan         -nan         -nan         -nan         -nan         -nan         -nan\r\n",
      "        -nan         -nan         -nan         -nan         -nan         -nan         -nan         -nan         -nan         -nan         -nan         -nan         -nan         -nan         -nan         -nan         -nan         -nan         -nan         -nan         -nan         -nan         -nan         -nan          nan          nan          nan          nan          nan          nan          nan          nan          nan          nan          nan\r\n",
      "        -nan         -nan         -nan         -nan         -nan         -nan         -nan         -nan         -nan         -nan         -nan         -nan         -nan         -nan         -nan         -nan         -nan         -nan         -nan         -nan         -nan         -nan         -nan         -nan          nan          nan          nan          nan          nan          nan          nan          nan          nan          nan          nan\r\n",
      "        -nan         -nan         -nan         -nan         -nan         -nan         -nan         -nan         -nan         -nan         -nan         -nan         -nan         -nan         -nan         -nan         -nan         -nan         -nan         -nan         -nan         -nan         -nan         -nan         -nan         -nan         -nan         -nan         -nan         -nan         -nan         -nan         -nan         -nan         -nan\r\n",
      "        -nan         -nan         -nan         -nan         -nan         -nan         -nan         -nan         -nan         -nan         -nan         -nan         -nan         -nan         -nan         -nan         -nan         -nan         -nan         -nan         -nan         -nan         -nan         -nan         -nan         -nan         -nan         -nan         -nan         -nan         -nan         -nan         -nan         -nan         -nan\r\n",
      "        -nan         -nan         -nan         -nan         -nan         -nan         -nan         -nan         -nan         -nan         -nan         -nan         -nan         -nan         -nan         -nan         -nan         -nan         -nan         -nan         -nan         -nan         -nan         -nan          nan          nan          nan          nan          nan          nan          nan          nan          nan          nan          nan\r\n",
      "        -nan         -nan         -nan         -nan         -nan         -nan         -nan         -nan         -nan         -nan         -nan         -nan         -nan         -nan         -nan         -nan         -nan         -nan         -nan         -nan         -nan         -nan         -nan         -nan          nan          nan          nan          nan          nan          nan          nan          nan          nan          nan          nan\r\n",
      "        -nan         -nan         -nan         -nan         -nan         -nan         -nan         -nan         -nan         -nan         -nan         -nan         -nan         -nan         -nan         -nan         -nan         -nan         -nan         -nan         -nan         -nan         -nan         -nan          nan          nan          nan         -nan          nan          nan          nan         -nan          nan          nan          nan\r\n",
      "        -nan         -nan         -nan         -nan         -nan         -nan         -nan         -nan         -nan         -nan         -nan         -nan         -nan         -nan         -nan         -nan         -nan         -nan         -nan         -nan         -nan         -nan         -nan         -nan          nan          nan          nan         -nan          nan          nan          nan         -nan          nan          nan          nan\r\n",
      "        -nan         -nan         -nan         -nan         -nan         -nan         -nan         -nan         -nan         -nan         -nan         -nan         -nan         -nan         -nan         -nan         -nan         -nan         -nan         -nan         -nan         -nan         -nan         -nan         -nan         -nan         -nan         -nan         -nan         -nan         -nan         -nan         -nan         -nan         -nan\r\n",
      "B\r\n",
      "   0.0901503  5.58695e-16  1.97161e-14  2.04633e-14    0.0325949  1.82273e-15  9.86248e-12  -1.0398e-11  8.89837e-12   -0.0147607   -2.804e-05 -3.29408e-12    0.0480893  0.000386977    0.0477326  3.19791e-15 -2.76395e-14  -2.3574e-14 -2.32709e-12  2.93181e-12    0.0243816  3.30185e-06  2.51063e-14  6.14755e-12         -nan         -nan         -nan         -nan         -nan         -nan         -nan         -nan         -nan         -nan         -nan\r\n",
      "   5.614e-16    0.0901503 -8.55454e-13 -1.39098e-12  1.91506e-15    0.0325949  1.04962e-14 -1.12609e-14  7.73864e-15   -2.804e-05    0.0147607 -2.81627e-15 -0.000386977    0.0480893  3.13275e-15    0.0477326 -9.01834e-13 -2.97139e-13  1.63856e-15 -5.67139e-15  3.30185e-06   -0.0243816 -5.78667e-12 -4.57214e-13         -nan         -nan         -nan         -nan         -nan         -nan         -nan         -nan         -nan         -nan         -nan\r\n",
      " 1.97161e-14 -8.55454e-13    0.0988835  -0.00551433  9.67072e-16 -7.47427e-13  0.000214251 -0.000214251  0.000124509 -2.63417e-14  2.22633e-12 -6.10468e-05    1.478e-14  2.97628e-13 -1.88971e-14  4.98967e-13    0.0657324   0.00223356 -7.72555e-05  0.000588233  2.27311e-14 -1.65298e-12    -0.040675  -0.00140491         -nan         -nan         -nan         -nan         -nan         -nan         -nan         -nan         -nan         -nan         -nan\r\n",
      " 2.04633e-14 -1.39098e-12  -0.00551433    0.0988835  6.93133e-16  -2.5127e-13  0.000214251 -0.000214251  0.000124509 -2.42911e-14 -1.16088e-13 -6.10468e-05  1.33163e-14  4.51739e-13 -1.34603e-14 -4.74231e-12   0.00223356    0.0657324 -0.000588233  7.72555e-05  2.45006e-14  2.98252e-13    -0.040675   0.00140491         -nan         -nan         -nan         -nan         -nan         -nan         -nan         -nan         -nan         -nan         -nan\r\n",
      "   0.0325949  1.93137e-15  9.67055e-16  6.93132e-16     0.236331 -1.61906e-15  5.39855e-13 -4.36759e-14  5.62057e-13   -0.0143743 -2.73059e-05  2.17701e-12   -0.0095244 -7.66432e-05   -0.0423454  1.11293e-14  1.56481e-14  2.08509e-14   2.1934e-12 -1.41427e-12  -0.00354089 -4.79519e-07 -3.08699e-16  1.07451e-12         -nan         -nan         -nan         -nan         -nan         -nan         -nan         -nan         -nan         -nan         -nan\r\n",
      " 1.83725e-15    0.0325949 -7.47427e-13  -2.5127e-13 -1.62089e-15     0.236331  9.95892e-16 -7.12736e-16  2.78267e-16 -2.73059e-05    0.0143743  2.04678e-15  7.66432e-05   -0.0095244  1.10264e-14   -0.0423454  -7.7708e-13  1.97443e-15  2.83971e-15 -7.97201e-15 -4.79519e-07   0.00354089 -3.05114e-12 -7.09928e-14         -nan         -nan         -nan         -nan         -nan         -nan         -nan         -nan         -nan         -nan         -nan\r\n",
      " 9.86248e-12  1.04962e-14  0.000214251  0.000214251  5.39855e-13  9.95886e-16     0.211668     -0.10727    0.0655438 -1.16467e-11 -1.40628e-14    -0.032136  9.21181e-12  8.06208e-14 -1.20819e-11 -7.10972e-15 -0.000292408  0.000218569    0.0345284    0.0289704  1.28281e-11 -4.78536e-15  0.000212201   -0.0169484         -nan         -nan         -nan         -nan         -nan         -nan         -nan         -nan         -nan         -nan         -nan\r\n",
      " -1.0398e-11 -1.12609e-14 -0.000214251 -0.000214251  -4.3676e-14 -7.12721e-16     -0.10727     0.211668   -0.0655438  1.39891e-11  1.60706e-14     0.032136 -9.05768e-12 -7.91597e-14  6.84057e-12  1.59753e-15 -0.000218569  0.000292408    0.0289704    0.0345284 -1.47657e-11  6.66885e-15 -0.000212201   -0.0169484         -nan         -nan         -nan         -nan         -nan         -nan         -nan         -nan         -nan         -nan         -nan\r\n",
      " 8.89837e-12  7.73866e-15  0.000124509  0.000124509  5.62057e-13  2.78268e-16    0.0655438   -0.0655438     0.423732 -9.92639e-12 -1.04399e-14    0.0111903  3.57857e-13  2.71914e-15 -4.01267e-12 -3.57872e-15  -6.9318e-06  -6.9318e-06 -0.000696886  0.000696886  1.32668e-11 -7.85269e-15  4.93192e-05 -1.66761e-10         -nan         -nan         -nan         -nan         -nan         -nan         -nan         -nan         -nan         -nan         -nan\r\n",
      "  -0.0147607   -2.804e-05 -2.63417e-14  -2.4291e-14   -0.0143743 -2.73059e-05 -1.16467e-11  1.39891e-11 -9.92639e-12     0.445598 -1.63498e-15    2.202e-12 -0.000472769 -4.70255e-06   -0.0108238 -2.05612e-05  3.66296e-14 -7.26315e-15 -1.33194e-12 -3.61639e-12    -0.017764  3.13396e-05  -1.3719e-15 -1.26962e-11         -nan         -nan         -nan         -nan         -nan         -nan         -nan         -nan         -nan         -nan         -nan\r\n",
      "  -2.804e-05    0.0147607  2.22633e-12 -1.16088e-13 -2.73059e-05    0.0143743 -1.40628e-14  1.60706e-14 -1.04399e-14 -1.67543e-15     0.445598  2.07778e-15 -4.70255e-06  0.000472769 -2.05612e-05    0.0108238 -5.62757e-12 -6.79243e-13  1.02906e-14 -5.41689e-14 -3.13396e-05    -0.017764 -8.45002e-12 -9.58322e-13         -nan         -nan         -nan         -nan         -nan         -nan         -nan         -nan         -nan         -nan         -nan\r\n",
      "-3.29408e-12 -2.81627e-15 -6.10468e-05 -6.10468e-05  2.17702e-12   2.0468e-15    -0.032136     0.032136    0.0111903    2.202e-12  2.07776e-15     0.626438 -3.54051e-12 -3.15063e-14  5.04596e-12  4.63152e-15  0.000218729  0.000218729    0.0219898   -0.0219898  -2.7386e-12  1.02618e-15 -2.26726e-05  5.77619e-11         -nan         -nan         -nan         -nan         -nan         -nan         -nan         -nan         -nan         -nan         -nan\r\n",
      "   0.0480893 -0.000386977    1.478e-14  1.33163e-14   -0.0095244  7.66432e-05  9.21181e-12 -9.05768e-12  3.57857e-13 -0.000472769 -4.70255e-06 -3.54051e-12     0.912633 -1.04659e-14   -0.0215002  0.000173013 -1.58894e-13 -1.56857e-13 -1.56756e-11  1.37814e-11    -0.022678 -0.000185562  -1.3786e-14 -5.13724e-12         -nan         -nan         -nan         -nan         -nan         -nan         -nan         -nan         -nan         -nan         -nan\r\n",
      " 0.000386977    0.0480893  2.97628e-13  4.51739e-13 -7.66432e-05   -0.0095244  8.06208e-14 -7.91597e-14  2.71915e-15 -4.70255e-06  0.000472769 -3.15063e-14   -1.045e-14     0.912633 -0.000173013   -0.0215002  2.20932e-12  3.15102e-13 -1.44648e-13  1.42648e-13 -0.000185562     0.022678  1.04144e-12  3.50268e-13         -nan         -nan         -nan         -nan         -nan         -nan         -nan         -nan         -nan         -nan         -nan\r\n",
      "   0.0477326   3.1249e-15 -1.88971e-14 -1.34603e-14   -0.0423454  1.10013e-14 -1.20819e-11  6.84057e-12 -4.01267e-12   -0.0108238 -2.05612e-05  5.04596e-12   -0.0215002 -0.000173013     0.950071 -1.42349e-14  3.94393e-14   5.2673e-14  5.57462e-12 -3.69616e-12  -0.00314125   -4.254e-07 -1.72261e-15  -4.4036e-12         -nan         -nan         -nan         -nan         -nan         -nan         -nan         -nan         -nan         -nan         -nan\r\n",
      " 3.17995e-15    0.0477326  4.98967e-13 -4.74231e-12  1.11342e-14   -0.0423454 -7.10968e-15  1.59735e-15 -3.57871e-15 -2.05612e-05    0.0108238  4.63152e-15  0.000173013   -0.0215002 -1.42224e-14     0.950071  -6.9005e-13  1.18843e-12 -4.94438e-15 -8.30291e-15   -4.254e-07   0.00314125 -2.13968e-12  3.13489e-13         -nan         -nan         -nan         -nan         -nan         -nan         -nan         -nan         -nan         -nan         -nan\r\n",
      "-2.76395e-14 -9.01834e-13    0.0657324   0.00223356  1.56481e-14  -7.7708e-13 -0.000292408 -0.000218569  -6.9318e-06  3.66296e-14 -5.62757e-12  0.000218729 -1.58894e-13  2.20932e-12  3.94393e-14  -6.9005e-13      1.04428   0.00440656  0.000786906 -0.000786906 -7.68254e-14  4.62336e-13    -0.015919 -0.000524314         -nan         -nan         -nan         -nan         -nan         -nan         -nan         -nan         -nan         -nan         -nan\r\n",
      " -2.3574e-14 -2.97139e-13   0.00223356    0.0657324  2.08509e-14  1.97442e-15  0.000218569  0.000292408  -6.9318e-06 -7.26314e-15 -6.79243e-13  0.000218729 -1.56857e-13  3.15102e-13   5.2673e-14  1.18843e-12   0.00440656      1.04428  0.000786906 -0.000786906 -6.73326e-14  -8.9487e-13    -0.015919  0.000524314         -nan         -nan         -nan         -nan         -nan         -nan         -nan         -nan         -nan         -nan         -nan\r\n",
      "-2.32709e-12  1.63855e-15 -7.72555e-05 -0.000588233   2.1934e-12  2.83971e-15    0.0345284    0.0289704 -0.000696886 -1.33194e-12  1.02906e-14    0.0219898 -1.56756e-11 -1.44648e-13  5.57462e-12 -4.94437e-15  0.000786906  0.000786906      1.12338     -0.08351 -6.46667e-12  1.19818e-14  0.000194702  -0.00724449         -nan         -nan         -nan         -nan         -nan         -nan         -nan         -nan         -nan         -nan         -nan\r\n",
      " 2.93181e-12 -5.67139e-15  0.000588233  7.72555e-05 -1.41427e-12 -7.97201e-15    0.0289704    0.0345284  0.000696886 -3.61639e-12 -5.41689e-14   -0.0219898  1.37814e-11  1.42648e-13 -3.69616e-12 -8.30292e-15 -0.000786906 -0.000786906     -0.08351      1.12338  7.82792e-12 -2.51612e-15 -0.000194702  -0.00724449         -nan         -nan         -nan         -nan         -nan         -nan         -nan         -nan         -nan         -nan         -nan\r\n",
      "   0.0558853  7.56819e-06  1.52435e-13  1.54046e-13  -0.00253709 -3.43581e-07  8.09917e-11 -8.25614e-11  1.27423e-11   -0.0110902 -1.95654e-05 -3.12466e-12   -0.0177222 -0.000145012   -0.0178963 -2.42358e-06  2.64275e-14  3.40029e-14  3.66853e-12 -2.59642e-12     0.582693  1.87338e-14  2.13817e-13  4.57621e-11         -nan         -nan         -nan         -nan         -nan         -nan         -nan         -nan         -nan         -nan         -nan\r\n",
      " 7.56819e-06   -0.0558853 -9.27543e-13  6.48179e-13 -3.43581e-07   0.00253709 -5.36244e-14  5.53089e-14 -7.98548e-15  1.95654e-05   -0.0110902  1.66091e-15 -0.000145012    0.0177222 -2.42358e-06    0.0178963  5.40236e-15 -1.06235e-12  7.28045e-15  3.60834e-16  1.88546e-14     0.582693  5.82259e-11  3.47467e-12         -nan         -nan         -nan         -nan         -nan         -nan         -nan         -nan         -nan         -nan         -nan\r\n",
      " 2.48961e-14 -5.48745e-12   -0.0411215   -0.0411215   8.1491e-16 -3.67172e-12  0.000201044 -0.000201044   6.5175e-05 -3.36436e-15  -9.7531e-12 -3.24778e-05 -1.17332e-14  1.51081e-12 -6.78244e-15   -3.074e-12   -0.0168214   -0.0168214  0.000188731 -0.000188731  3.51506e-13  6.14002e-11      1.94219 -3.19832e-11         -nan         -nan         -nan         -nan         -nan         -nan         -nan         -nan         -nan         -nan         -nan\r\n",
      " 6.02722e-12 -4.55096e-13  -0.00160117   0.00160117 -2.10987e-12  1.47703e-13   -0.0193934   -0.0193934 -2.81845e-10 -1.64921e-11  -1.2545e-12  1.02697e-10  -4.8765e-12  3.20868e-13 -2.60085e-12  2.20819e-13 -0.000635524  0.000635524  -0.00829871  -0.00829871  5.18761e-11  3.92508e-12 -3.06706e-11     0.904074         -nan         -nan         -nan         -nan         -nan         -nan         -nan         -nan         -nan         -nan         -nan\r\n",
      "        -nan         -nan         -nan         -nan         -nan         -nan         -nan         -nan         -nan         -nan         -nan         -nan         -nan         -nan         -nan         -nan         -nan         -nan         -nan         -nan         -nan         -nan         -nan         -nan         -nan         -nan         -nan         -nan         -nan         -nan         -nan         -nan         -nan         -nan         -nan\r\n",
      "        -nan         -nan         -nan         -nan         -nan         -nan         -nan         -nan         -nan         -nan         -nan         -nan         -nan         -nan         -nan         -nan         -nan         -nan         -nan         -nan         -nan         -nan         -nan         -nan         -nan         -nan         -nan         -nan         -nan         -nan         -nan         -nan         -nan         -nan         -nan\r\n",
      "        -nan         -nan         -nan         -nan         -nan         -nan         -nan         -nan         -nan         -nan         -nan         -nan         -nan         -nan         -nan         -nan         -nan         -nan         -nan         -nan         -nan         -nan         -nan         -nan         -nan         -nan         -nan         -nan         -nan         -nan         -nan         -nan         -nan         -nan         -nan\r\n",
      "        -nan         -nan         -nan         -nan         -nan         -nan         -nan         -nan         -nan         -nan         -nan         -nan         -nan         -nan         -nan         -nan         -nan         -nan         -nan         -nan         -nan         -nan         -nan         -nan         -nan         -nan         -nan         -nan         -nan         -nan         -nan         -nan         -nan         -nan         -nan\r\n",
      "        -nan         -nan         -nan         -nan         -nan         -nan         -nan         -nan         -nan         -nan         -nan         -nan         -nan         -nan         -nan         -nan         -nan         -nan         -nan         -nan         -nan         -nan         -nan         -nan         -nan         -nan         -nan         -nan         -nan         -nan         -nan         -nan         -nan         -nan         -nan\r\n",
      "        -nan         -nan         -nan         -nan         -nan         -nan         -nan         -nan         -nan         -nan         -nan         -nan         -nan         -nan         -nan         -nan         -nan         -nan         -nan         -nan         -nan         -nan         -nan         -nan         -nan         -nan         -nan         -nan         -nan         -nan         -nan         -nan         -nan         -nan         -nan\r\n",
      "        -nan         -nan         -nan         -nan         -nan         -nan         -nan         -nan         -nan         -nan         -nan         -nan         -nan         -nan         -nan         -nan         -nan         -nan         -nan         -nan         -nan         -nan         -nan         -nan         -nan         -nan         -nan         -nan         -nan         -nan         -nan         -nan         -nan         -nan         -nan\r\n",
      "        -nan         -nan         -nan         -nan         -nan         -nan         -nan         -nan         -nan         -nan         -nan         -nan         -nan         -nan         -nan         -nan         -nan         -nan         -nan         -nan         -nan         -nan         -nan         -nan         -nan         -nan         -nan         -nan         -nan         -nan         -nan         -nan         -nan         -nan         -nan\r\n",
      "        -nan         -nan         -nan         -nan         -nan         -nan         -nan         -nan         -nan         -nan         -nan         -nan         -nan         -nan         -nan         -nan         -nan         -nan         -nan         -nan         -nan         -nan         -nan         -nan         -nan         -nan         -nan         -nan         -nan         -nan         -nan         -nan         -nan         -nan         -nan\r\n",
      "        -nan         -nan         -nan         -nan         -nan         -nan         -nan         -nan         -nan         -nan         -nan         -nan         -nan         -nan         -nan         -nan         -nan         -nan         -nan         -nan         -nan         -nan         -nan         -nan         -nan         -nan         -nan         -nan         -nan         -nan         -nan         -nan         -nan         -nan         -nan\r\n",
      "        -nan         -nan         -nan         -nan         -nan         -nan         -nan         -nan         -nan         -nan         -nan         -nan         -nan         -nan         -nan         -nan         -nan         -nan         -nan         -nan         -nan         -nan         -nan         -nan          nan          nan          nan          nan          nan          nan          nan          nan          nan          nan          nan\r\n",
      "an error occurred:\r\n",
      "Small generalized eigenvalue problem failed.\r\n"
     ]
    }
   ],
   "source": [
    "!xtp_tools -c job_name=CO geometry_optimization.maxiter=1 dftpackage.basisset=3-21G dftpackage.auxbasisset=aux-def2-svp gwbse.gw.mode=G0W0 -e dftgwbse -t 4"
   ]
  },
  {
   "cell_type": "markdown",
   "metadata": {},
   "source": [
    "Notice that we are using 4 threads. The results will be stored in a file named `CO_summary.xml` in the current work directory, together with the optimization step in `optimisation.trj` and the orbitals in [hdf5 format](https://www.hdfgroup.org/solutions/hdf5/) saved on `CO.orb`."
   ]
  }
 ],
 "metadata": {
  "kernelspec": {
   "display_name": "Python 3",
   "language": "python",
   "name": "python3"
  },
  "language_info": {
   "codemirror_mode": {
    "name": "ipython",
    "version": 3
   },
   "file_extension": ".py",
   "mimetype": "text/x-python",
   "name": "python",
   "nbconvert_exporter": "python",
   "pygments_lexer": "ipython3",
   "version": "3.10.7"
  }
 },
 "nbformat": 4,
 "nbformat_minor": 4
}
