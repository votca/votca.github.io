{
 "cells": [
  {
   "cell_type": "markdown",
   "metadata": {},
   "source": [
    "## DFT + GWBSE Optimization Using CO"
   ]
  },
  {
   "cell_type": "markdown",
   "metadata": {},
   "source": [
    "## Introduction\n",
    "This tutorial explains how to perform a molecular geometric optimization using the **GWBSE** method. See [the GW Compendium: A Practical Guide to Theoretical Photoemission Spectroscopy](https://doi.org/10.3389/fchem.2019.00377), for an excellent introduction to the method."
   ]
  },
  {
   "cell_type": "markdown",
   "metadata": {},
   "source": [
    "## Requirements\n",
    "* You will need to install **VOTCA** using the instructions described [here](https://github.com/votca/votca/blob/master/share/doc/INSTALL.rst)\n",
    "* Once the installation is completed you need to activate the VOTCA enviroment by running the `VOTCARC.bash` script that has been installed at the bin subfolder for the path that you have provided for the installation step above"
   ]
  },
  {
   "cell_type": "markdown",
   "metadata": {},
   "source": [
    "## Preparing the input\n",
    "To run a DFT-GWBSE calculation we will use the [xtp_tools](https://www.votca.org/xtp/xtp_tools_overview.html) calculator."
   ]
  },
  {
   "cell_type": "markdown",
   "metadata": {},
   "source": [
    "we can now change the calculator mode from single point energy calculation to optimization as follows by adding \n",
    "`-c geometry_optimization.maxiter=1` which enables optimization with one iteration. "
   ]
  },
  {
   "cell_type": "markdown",
   "metadata": {},
   "source": [
    "Because geometry optimsation is quite expensive numerically we chose a smaller basisset and G0W0 Finally, to run the calculation we just need the following command (This still takes a while)"
   ]
  },
  {
   "cell_type": "code",
   "execution_count": 1,
   "metadata": {
    "execution": {
     "iopub.execute_input": "2021-09-19T15:57:49.789718Z",
     "iopub.status.busy": "2021-09-19T15:57:49.789059Z",
     "iopub.status.idle": "2021-09-19T15:58:20.498444Z",
     "shell.execute_reply": "2021-09-19T15:58:20.498921Z"
    }
   },
   "outputs": [
    {
     "name": "stdout",
     "output_type": "stream",
     "text": [
      "==================================================\r\n",
      "========   VOTCA (http://www.votca.org)   ========\r\n",
      "==================================================\r\n",
      "\r\n",
      "please submit bugs to https://github.com/votca/xtp/issues\r\n",
      "\r\n",
      "xtp_tools, version 2022-dev gitid: 8b373a4 (compiled Sep 19 2021, 15:49:27)\r\n",
      "votca_csg, version 2022-dev gitid: 8b373a4 (compiled Sep 19 2021, 15:35:43)\r\n",
      "votca_tools, version 2022-dev gitid: 8b373a4 (compiled Sep 19 2021, 15:33:06)\r\n",
      "\r\n",
      "Initializing tool\r\n",
      "... dftgwbse Evaluating tool\r\n",
      "... dftgwbse  Using 4 threads\r\n",
      "... ... Reading structure from CO.xyz\r\n",
      "... ... Requested geometry optimization of excited state s1\r\n",
      "... ... Initial state: s1\r\n",
      "... ... WARNING: No tracker is used \r\n",
      "... ... Convergence of total energy: 0.000001 Hartree \r\n",
      "... ... Convergence of RMS Force:    0.000030 Hartree/Bohr \r\n",
      "... ... Convergence of Max Force:    0.000100 Hartree/Bohr \r\n",
      "... ... Convergence of RMS Step:     0.000600 Bohr \r\n",
      "... ... Convergence of Max Step:     0.001000 Bohr \r\n",
      "... ... Initial trust radius:        0.018897 BohrA\r\n",
      "    0.307132 -3.10875e-11   4.4677e-11 -2.30839e-10  2.35548e-11   -0.0516061  8.55449e-10  7.78922e-10  -3.2259e-10    0.0181637  -0.00105897 -7.14999e-11    0.0103261    0.0375827 -2.03151e-11    0.0421019 -2.33036e-10  1.30516e-10 -3.01464e-10 -1.07309e-10   0.00048223    -0.108408 -1.28151e-10          nan          nan          nan          nan          nan          nan          nan          nan          nan          nan          nan          nan\r\n",
      "-3.10875e-11     0.307132 -1.47169e-10  7.06417e-11   -0.0516061  2.35547e-11  9.00382e-10  1.08654e-09 -1.97455e-10   0.00105897    0.0181637  -2.2517e-10    0.0375827   -0.0103261    0.0421019 -2.03151e-11 -1.94171e-11  2.13572e-10 -9.75359e-11  4.98449e-12    -0.108408 -0.000482229 -1.35095e-11          nan          nan          nan          nan          nan          nan          nan          nan          nan          nan          nan          nan\r\n",
      "  4.4677e-11 -1.47169e-10      0.32063    0.0092644  1.56595e-10  1.02944e-10    0.0133925    0.0133925  -0.00499435 -5.81921e-11 -1.46092e-11  -0.00212775 -8.96898e-11  1.83492e-10 -1.71727e-10 -2.08833e-11    0.0470702  -0.00128638  -0.00258692   -0.0151663  1.82068e-10 -3.06057e-10   -0.0254907          nan          nan          nan          nan          nan          nan          nan          nan          nan          nan          nan          nan\r\n",
      "-2.30839e-10  7.06417e-11    0.0092644      0.32063 -1.69937e-10  3.23997e-10   -0.0133925   -0.0133925   0.00499435 -5.01127e-11  6.87307e-11   0.00212775  7.32734e-11 -1.45055e-10  6.91019e-11 -1.85896e-10  -0.00128638    0.0470702    0.0151663   0.00258692  -1.6861e-10  7.90399e-10    0.0254907          nan          nan          nan          nan          nan          nan          nan          nan          nan          nan          nan          nan\r\n",
      " 2.35548e-11   -0.0516061  1.56595e-10 -1.69937e-10     0.490902 -2.89883e-12   1.8008e-09  1.37386e-09  -8.2071e-10 -0.000783591   -0.0134403 -1.98449e-10    0.0077082  -0.00211789    0.0309987  6.71057e-11 -6.50233e-11 -1.89705e-10 -1.33743e-10 -2.73819e-10    0.0531267  0.000236323  1.67516e-10          nan          nan          nan          nan          nan          nan          nan          nan          nan          nan          nan          nan\r\n",
      "  -0.0516061  2.35547e-11  1.02944e-10  3.23997e-10 -2.89879e-12     0.490902 -2.54747e-10 -2.68088e-10  1.55111e-10   -0.0134403  0.000783591  1.93004e-11   0.00211789    0.0077082  6.71057e-11    0.0309987  1.91118e-10 -5.10419e-11   9.1891e-11 -1.62837e-10 -0.000236323    0.0531267  2.48328e-10          nan          nan          nan          nan          nan          nan          nan          nan          nan          nan          nan          nan\r\n",
      " 8.55449e-10  9.00382e-10    0.0133925   -0.0133925   1.8008e-09 -2.54747e-10     0.549559     0.219665    -0.085664 -7.15216e-12  6.43999e-10   -0.0364955 -1.85635e-09  2.97711e-09  -9.2228e-10  3.15949e-10   -0.0113201  -0.00125938    0.0127125   -0.0330713   5.1208e-10 -7.46009e-09   -0.0015748          nan          nan          nan          nan          nan          nan          nan          nan          nan          nan          nan          nan\r\n",
      " 7.78922e-10  1.08654e-09    0.0133925   -0.0133925  1.37386e-09 -2.68088e-10     0.219665     0.549559    -0.085664  4.69694e-11  7.52303e-10   -0.0364955 -1.89478e-09   2.9607e-09   -7.155e-10  2.13324e-10   0.00125938    0.0113201   -0.0330713    0.0127125  4.15426e-11 -7.44289e-09   -0.0015748          nan          nan          nan          nan          nan          nan          nan          nan          nan          nan          nan          nan\r\n",
      " -3.2259e-10 -1.97455e-10  -0.00499435   0.00499435  -8.2071e-10  1.55111e-10    -0.085664    -0.085664     0.662947 -1.74982e-10 -2.31599e-10  -0.00632525  4.08897e-10 -7.41019e-10  5.58303e-10  -1.5432e-10   0.00131266  -0.00131266   0.00387808   0.00387808 -9.19489e-10  2.85843e-09   0.00114618          nan          nan          nan          nan          nan          nan          nan          nan          nan          nan          nan          nan\r\n",
      "   0.0181637   0.00105897 -5.81921e-11 -5.01127e-11 -0.000783591   -0.0134403 -7.15216e-12  4.69694e-11 -1.74982e-10     0.680922  1.59225e-12  8.85931e-11  2.69917e-05  7.97436e-05  0.000502693   0.00862228 -3.66216e-10 -3.65155e-11   6.9632e-11   8.8369e-10   -0.0022057   -0.0409682 -8.96018e-10          nan          nan          nan          nan          nan          nan          nan          nan          nan          nan          nan          nan\r\n",
      " -0.00105897    0.0181637 -1.46092e-11  6.87307e-11   -0.0134403  0.000783591  6.43999e-10  7.52303e-10 -2.31599e-10  1.59229e-12     0.680922 -1.12763e-10  7.97435e-05 -2.69917e-05   0.00862228 -0.000502693  -5.7742e-11    8.718e-10 -5.52254e-10 -1.49523e-10   -0.0409682    0.0022057 -8.14851e-10          nan          nan          nan          nan          nan          nan          nan          nan          nan          nan          nan          nan\r\n",
      "-7.14999e-11  -2.2517e-10  -0.00212775   0.00212775 -1.98449e-10  1.93004e-11   -0.0364955   -0.0364955  -0.00632525  8.85931e-11 -1.12763e-10      0.79826  3.98822e-10 -4.67969e-10 -1.57967e-11 -4.96588e-11   0.00464079  -0.00464079    0.0137106    0.0137106  8.87898e-11  8.70728e-10  0.000454313          nan          nan          nan          nan          nan          nan          nan          nan          nan          nan          nan          nan\r\n",
      "   0.0103261    0.0375827 -8.96898e-11  7.32734e-11    0.0077082   0.00211789 -1.85635e-09 -1.89478e-09  4.08897e-10  2.69917e-05  7.97435e-05  3.98822e-10     0.956418   4.2751e-11   -0.0126726  -0.00348188  3.03469e-10 -4.15674e-10  1.05222e-09   1.0516e-09    0.0192834   0.00539062  3.06331e-11          nan          nan          nan          nan          nan          nan          nan          nan          nan          nan          nan          nan\r\n",
      "   0.0375827   -0.0103261  1.83492e-10 -1.45055e-10  -0.00211789    0.0077082  2.97711e-09   2.9607e-09 -7.41019e-10  7.97436e-05 -2.69917e-05 -4.67969e-10   4.2751e-11     0.956418   0.00348188   -0.0126726 -5.75006e-10  5.75622e-10 -1.67334e-09 -1.78555e-09  -0.00539062    0.0192834 -7.92591e-12          nan          nan          nan          nan          nan          nan          nan          nan          nan          nan          nan          nan\r\n",
      "-2.03151e-11    0.0421019 -1.71727e-10  6.91019e-11    0.0309987  6.71057e-11  -9.2228e-10   -7.155e-10  5.58303e-10  0.000502693   0.00862228 -1.57967e-11   -0.0126726   0.00348188     0.988566  3.79194e-11  8.55855e-12 -1.86173e-10  2.23477e-10 -1.98051e-11   -0.0223628 -9.94764e-05  3.66107e-10          nan          nan          nan          nan          nan          nan          nan          nan          nan          nan          nan          nan\r\n",
      "   0.0421019 -2.03151e-11 -2.08833e-11 -1.85896e-10  6.71057e-11    0.0309987  3.15949e-10  2.13324e-10  -1.5432e-10   0.00862228 -0.000502693 -4.96588e-11  -0.00348188   -0.0126726  3.79195e-11     0.988566  1.22219e-10  1.21064e-10 -1.19122e-11 -1.89527e-10  9.94765e-05   -0.0223628   4.4573e-10          nan          nan          nan          nan          nan          nan          nan          nan          nan          nan          nan          nan\r\n",
      "-2.33036e-10 -1.94171e-11    0.0470702  -0.00128638 -6.50233e-11  1.91118e-10   -0.0113201   0.00125938   0.00131266 -3.66216e-10  -5.7742e-11   0.00464079  3.03469e-10 -5.75006e-10  8.55855e-12  1.22219e-10      1.03318  -0.00653901    0.0132091    0.0132091 -5.75008e-11  5.04972e-10  -0.00427494          nan          nan          nan          nan          nan          nan          nan          nan          nan          nan          nan          nan\r\n",
      " 1.30516e-10  2.13572e-10  -0.00128638    0.0470702 -1.89705e-10 -5.10419e-11  -0.00125938    0.0113201  -0.00131266 -3.65155e-11    8.718e-10  -0.00464079 -4.15674e-10  5.75622e-10 -1.86173e-10  1.21064e-10  -0.00653901      1.03318   -0.0132091   -0.0132091   6.2057e-11 -5.84026e-10   0.00427494          nan          nan          nan          nan          nan          nan          nan          nan          nan          nan          nan          nan\r\n",
      "-3.01464e-10 -9.75359e-11  -0.00258692    0.0151663 -1.33743e-10   9.1891e-11    0.0127125   -0.0330713   0.00387808   6.9632e-11 -5.52254e-10    0.0137106  1.05222e-09 -1.67334e-09  2.23477e-10 -1.19122e-11    0.0132091   -0.0132091      1.06773    0.0410925 -2.87511e-10  1.40652e-09   0.00204641          nan          nan          nan          nan          nan          nan          nan          nan          nan          nan          nan          nan\r\n",
      "-1.07309e-10  4.98449e-12   -0.0151663   0.00258692 -2.73819e-10 -1.62837e-10   -0.0330713    0.0127125   0.00387808   8.8369e-10 -1.49523e-10    0.0137106   1.0516e-09 -1.78555e-09 -1.98051e-11 -1.89527e-10    0.0132091   -0.0132091    0.0410925      1.06773 -2.10132e-10  1.41117e-09   0.00204641          nan          nan          nan          nan          nan          nan          nan          nan          nan          nan          nan          nan\r\n",
      "-0.000334719    0.0752465 -2.48666e-10   3.0054e-10   -0.0690159  0.000307003 -1.37607e-09 -1.00807e-09  9.70846e-10   0.00166418    0.0309101 -4.52276e-11  -0.00867092   0.00242393    0.0364086 -0.000161956  1.19428e-10 -1.20697e-10  4.87891e-10  4.85101e-10    -0.194424  2.24919e-10  3.79934e-09          nan          nan          nan          nan          nan          nan          nan          nan          nan          nan          nan          nan\r\n",
      "   0.0752465  0.000334719  1.79101e-10 -5.58578e-10 -0.000307003   -0.0690159  5.06022e-09  5.10942e-09 -2.26135e-09    0.0309101  -0.00166418 -7.95696e-10  -0.00242393  -0.00867092  0.000161956    0.0364086 -4.42671e-10  4.47901e-10  -1.2092e-09 -1.21044e-09  2.24919e-10    -0.194424  1.19839e-09          nan          nan          nan          nan          nan          nan          nan          nan          nan          nan          nan          nan\r\n",
      "-3.04779e-10 -4.79449e-10   -0.0141829    0.0141829  4.11061e-10  1.86419e-10    0.0043902    0.0043902  -0.00133196 -1.14241e-09 -1.07752e-09 -0.000533871  7.67888e-11  1.04467e-10 -4.14625e-11  1.63494e-10  -0.00597974   0.00597974   0.00149321   0.00149321  3.89373e-09  1.34914e-09     0.958373          nan          nan          nan          nan          nan          nan          nan          nan          nan          nan          nan          nan\r\n",
      "        -nan         -nan         -nan         -nan         -nan         -nan         -nan         -nan         -nan         -nan         -nan         -nan         -nan         -nan         -nan         -nan         -nan         -nan         -nan         -nan         -nan         -nan         -nan          nan          nan          nan          nan          nan          nan          nan          nan          nan          nan          nan          nan\r\n",
      "        -nan         -nan         -nan         -nan         -nan         -nan         -nan         -nan         -nan         -nan         -nan         -nan         -nan         -nan         -nan         -nan         -nan         -nan         -nan         -nan         -nan         -nan         -nan         -nan         -nan         -nan         -nan         -nan         -nan         -nan         -nan         -nan         -nan         -nan         -nan\r\n",
      "        -nan         -nan         -nan         -nan         -nan         -nan         -nan         -nan         -nan         -nan         -nan         -nan         -nan         -nan         -nan         -nan         -nan         -nan         -nan         -nan         -nan         -nan         -nan         -nan         -nan         -nan         -nan         -nan         -nan         -nan         -nan         -nan         -nan         -nan         -nan\r\n",
      "        -nan         -nan         -nan         -nan         -nan         -nan         -nan         -nan         -nan         -nan         -nan         -nan         -nan         -nan         -nan         -nan         -nan         -nan         -nan         -nan         -nan         -nan         -nan          nan          nan          nan          nan          nan          nan          nan          nan          nan          nan          nan          nan\r\n",
      "        -nan         -nan         -nan         -nan         -nan         -nan         -nan         -nan         -nan         -nan         -nan         -nan         -nan         -nan         -nan         -nan         -nan         -nan         -nan         -nan         -nan         -nan         -nan          nan          nan          nan          nan          nan          nan          nan          nan          nan          nan          nan          nan\r\n",
      "        -nan         -nan         -nan         -nan         -nan         -nan         -nan         -nan         -nan         -nan         -nan         -nan         -nan         -nan         -nan         -nan         -nan         -nan         -nan         -nan         -nan         -nan         -nan         -nan         -nan         -nan         -nan         -nan         -nan         -nan         -nan         -nan         -nan         -nan         -nan\r\n",
      "        -nan         -nan         -nan         -nan         -nan         -nan         -nan         -nan         -nan         -nan         -nan         -nan         -nan         -nan         -nan         -nan         -nan         -nan         -nan         -nan         -nan         -nan         -nan         -nan         -nan         -nan         -nan         -nan         -nan         -nan         -nan         -nan         -nan         -nan         -nan\r\n",
      "        -nan         -nan         -nan         -nan         -nan         -nan         -nan         -nan         -nan         -nan         -nan         -nan         -nan         -nan         -nan         -nan         -nan         -nan         -nan         -nan         -nan         -nan         -nan          nan          nan          nan          nan          nan          nan          nan          nan          nan          nan          nan          nan\r\n",
      "        -nan         -nan         -nan         -nan         -nan         -nan         -nan         -nan         -nan         -nan         -nan         -nan         -nan         -nan         -nan         -nan         -nan         -nan         -nan         -nan         -nan         -nan         -nan          nan          nan          nan          nan          nan          nan          nan          nan          nan          nan          nan          nan\r\n",
      "        -nan         -nan         -nan         -nan         -nan         -nan         -nan         -nan         -nan         -nan         -nan         -nan         -nan         -nan         -nan         -nan         -nan         -nan         -nan         -nan         -nan         -nan         -nan         -nan          nan          nan          nan         -nan          nan          nan          nan         -nan          nan          nan          nan\r\n",
      "        -nan         -nan         -nan         -nan         -nan         -nan         -nan         -nan         -nan         -nan         -nan         -nan         -nan         -nan         -nan         -nan         -nan         -nan         -nan         -nan         -nan         -nan         -nan         -nan          nan          nan          nan         -nan          nan          nan          nan         -nan          nan          nan          nan\r\n",
      "        -nan         -nan         -nan         -nan         -nan         -nan         -nan         -nan         -nan         -nan         -nan         -nan         -nan         -nan         -nan         -nan         -nan         -nan         -nan         -nan         -nan         -nan         -nan         -nan         -nan         -nan         -nan         -nan         -nan         -nan         -nan         -nan         -nan         -nan         -nan\r\n",
      "B\r\n",
      "    0.093811 -1.38189e-11  1.68368e-11  -1.3125e-10  1.44866e-11   -0.0328898  3.54463e-10   2.9958e-10 -1.98309e-10    0.0155308 -0.000905472 -3.66306e-11    0.0128041    0.0466016 -2.36037e-11    0.0481429 -2.87489e-10  1.38436e-10 -3.10743e-10 -3.82919e-11  0.000111687   -0.0251078 -4.01039e-10         -nan         -nan         -nan         -nan         -nan         -nan         -nan         -nan         -nan         -nan         -nan         -nan\r\n",
      "-1.38189e-11     0.093811 -9.49955e-11  4.01127e-11   -0.0328898  1.44865e-11   3.6918e-10  4.83594e-10 -1.23124e-10  0.000905472    0.0155308 -1.66767e-10    0.0466016   -0.0128041    0.0481429 -2.36037e-11 -1.29245e-11  2.85376e-10 -7.58345e-11  7.32182e-11   -0.0251078 -0.000111687 -5.11123e-10         -nan         -nan         -nan         -nan         -nan         -nan         -nan         -nan         -nan         -nan         -nan         -nan\r\n",
      " 1.68368e-11 -9.49955e-11     0.105883   0.00529863  1.02784e-10  7.14844e-11   0.00678461   0.00678461  -0.00367266 -5.18362e-11 -2.02137e-11  -0.00166833  -9.6875e-11  2.03523e-10 -2.10712e-10 -2.54149e-11    0.0640793  -0.00170369  -0.00248153   -0.0196197   -6.253e-11 -1.11699e-11   -0.0418853         -nan         -nan         -nan         -nan         -nan         -nan         -nan         -nan         -nan         -nan         -nan         -nan\r\n",
      " -1.3125e-10  4.01127e-11   0.00529863     0.105883 -1.09879e-10   2.2911e-10  -0.00678461  -0.00678461   0.00367266 -5.46521e-11  7.11361e-11   0.00166833  7.35918e-11 -1.53268e-10   7.3619e-11   -2.185e-10  -0.00170369    0.0640793    0.0196197   0.00248153  1.33595e-10  1.11424e-10    0.0418853         -nan         -nan         -nan         -nan         -nan         -nan         -nan         -nan         -nan         -nan         -nan         -nan\r\n",
      " 1.44866e-11   -0.0328898  1.02784e-10 -1.09879e-10     0.240891 -6.96103e-13  1.10442e-09  8.03821e-10 -6.98448e-10 -0.000842081   -0.0144435 -1.60497e-10   0.00881668  -0.00242245    0.0441772  9.32813e-11 -5.64297e-11 -3.34222e-10 -5.72744e-11 -2.87422e-10  -0.00438142 -1.94898e-05  5.20832e-10         -nan         -nan         -nan         -nan         -nan         -nan         -nan         -nan         -nan         -nan         -nan         -nan\r\n",
      "  -0.0328898  1.44865e-11  7.14844e-11   2.2911e-10 -6.96059e-13     0.240891 -1.39862e-10 -1.46958e-10  1.24369e-10   -0.0144435  0.000842081  9.92182e-12   0.00242245   0.00881668  9.32813e-11    0.0441772  2.80035e-10 -4.98876e-11  1.11453e-10 -2.79199e-10  1.94898e-05  -0.00438142  4.31877e-10         -nan         -nan         -nan         -nan         -nan         -nan         -nan         -nan         -nan         -nan         -nan         -nan\r\n",
      " 3.54463e-10   3.6918e-10   0.00678461  -0.00678461  1.10442e-09 -1.39862e-10     0.221859     0.110677   -0.0629941 -1.34717e-12  4.62576e-10   -0.0286155 -1.92953e-09  3.22298e-09 -1.03138e-09  3.28959e-10   -0.0100553  -0.00708283    0.0331065    -0.029269 -8.01314e-10 -3.84247e-10   0.00293457         -nan         -nan         -nan         -nan         -nan         -nan         -nan         -nan         -nan         -nan         -nan         -nan\r\n",
      "  2.9958e-10  4.83594e-10   0.00678461  -0.00678461  8.03821e-10 -1.46958e-10     0.110677     0.221859   -0.0629941  4.95753e-11  5.69064e-10   -0.0286155 -1.97978e-09   3.1997e-09 -7.87469e-10  1.91866e-10   0.00708283    0.0100553    -0.029269    0.0331065 -8.98757e-10 -3.12204e-10   0.00293457         -nan         -nan         -nan         -nan         -nan         -nan         -nan         -nan         -nan         -nan         -nan         -nan\r\n",
      "-1.98309e-10 -1.23124e-10  -0.00367266   0.00367266 -6.98448e-10  1.24369e-10   -0.0629941   -0.0629941     0.429278 -2.25281e-10 -2.34119e-10   -0.0121538  4.57013e-10 -9.08817e-10  7.69074e-10 -2.09061e-10  -6.1885e-06  6.18853e-06 -1.82832e-05 -1.82832e-05 -7.44532e-11  5.84289e-10  6.06919e-05         -nan         -nan         -nan         -nan         -nan         -nan         -nan         -nan         -nan         -nan         -nan         -nan\r\n",
      "   0.0155308  0.000905472 -5.18362e-11 -5.46521e-11 -0.000842081   -0.0144435 -1.34717e-12  4.95753e-11 -2.25281e-10     0.463967  2.12644e-12  1.17681e-10   0.00020737  0.000612649  0.000603881    0.0103579 -6.17044e-10 -6.25003e-11  1.12003e-10  1.49025e-09 -0.000953453   -0.0177092 -1.86772e-09         -nan         -nan         -nan         -nan         -nan         -nan         -nan         -nan         -nan         -nan         -nan         -nan\r\n",
      "-0.000905472    0.0155308 -2.02137e-11  7.11361e-11   -0.0144435  0.000842081  4.62576e-10  5.69064e-10 -2.34119e-10   2.1265e-12     0.463967 -1.09254e-10  0.000612649  -0.00020737    0.0103579 -0.000603881 -7.66827e-11  1.45493e-09  -8.6785e-10 -1.88305e-10   -0.0177092  0.000953453 -1.77779e-09         -nan         -nan         -nan         -nan         -nan         -nan         -nan         -nan         -nan         -nan         -nan         -nan\r\n",
      "-3.66306e-11 -1.66767e-10  -0.00166833   0.00166833 -1.60497e-10  9.92182e-12   -0.0286155   -0.0286155   -0.0121538  1.17681e-10 -1.09254e-10     0.636067  5.48051e-10 -6.14941e-10 -6.46786e-11 -6.61899e-11   0.00670999  -0.00670999    0.0198238    0.0198238  1.03281e-10 -8.60517e-12  4.64885e-05         -nan         -nan         -nan         -nan         -nan         -nan         -nan         -nan         -nan         -nan         -nan         -nan\r\n",
      "   0.0128041    0.0466016  -9.6875e-11  7.35918e-11   0.00881668   0.00242245 -1.92953e-09 -1.97978e-09  4.57013e-10   0.00020737  0.000612649  5.48051e-10     0.917068  7.49457e-11   -0.0214948  -0.00590587  5.27895e-10 -7.57717e-10   1.8619e-09  1.85737e-09    0.0223878   0.00625845  1.65237e-10         -nan         -nan         -nan         -nan         -nan         -nan         -nan         -nan         -nan         -nan         -nan         -nan\r\n",
      "   0.0466016   -0.0128041  2.03523e-10 -1.53268e-10  -0.00242245   0.00881668  3.22298e-09   3.1997e-09 -9.08817e-10  0.000612649  -0.00020737 -6.14941e-10  7.49458e-11     0.917068   0.00590587   -0.0214948 -1.02091e-09  1.02544e-09 -2.98405e-09 -3.21387e-09  -0.00625845    0.0223878  1.26393e-10         -nan         -nan         -nan         -nan         -nan         -nan         -nan         -nan         -nan         -nan         -nan         -nan\r\n",
      "-2.36037e-11    0.0481429 -2.10712e-10   7.3619e-11    0.0441772  9.32813e-11 -1.03138e-09 -7.87469e-10  7.69074e-10  0.000603881    0.0103579 -6.46786e-11   -0.0214948   0.00590587     0.981535  7.30924e-11 -3.42945e-12 -3.05714e-10  3.63053e-10 -7.51802e-11   0.00424838  1.88981e-05  3.17219e-10         -nan         -nan         -nan         -nan         -nan         -nan         -nan         -nan         -nan         -nan         -nan         -nan\r\n",
      "   0.0481429 -2.36037e-11 -2.54149e-11   -2.185e-10  9.32813e-11    0.0441772  3.28959e-10  1.91866e-10 -2.09061e-10    0.0103579 -0.000603881 -6.61899e-11  -0.00590587   -0.0214948  7.30925e-11     0.981535  2.23068e-10  2.15165e-10  -7.4025e-12 -3.16546e-10  -1.8898e-05   0.00424838  6.75766e-10         -nan         -nan         -nan         -nan         -nan         -nan         -nan         -nan         -nan         -nan         -nan         -nan\r\n",
      "-2.87489e-10 -1.29245e-11    0.0640793  -0.00170369 -5.64297e-11  2.80035e-10   -0.0100553   0.00708283  -6.1885e-06 -6.17044e-10 -7.66827e-11   0.00670999  5.27895e-10 -1.02091e-09 -3.42945e-12  2.23068e-10      1.06903    -0.012759    0.0246831    0.0246831  4.18893e-11  2.29403e-10   -0.0150559         -nan         -nan         -nan         -nan         -nan         -nan         -nan         -nan         -nan         -nan         -nan         -nan\r\n",
      " 1.38436e-10  2.85376e-10  -0.00170369    0.0640793 -3.34222e-10 -4.98876e-11  -0.00708283    0.0100553  6.18853e-06 -6.25003e-11  1.45493e-09  -0.00670999 -7.57717e-10  1.02544e-09 -3.05714e-10  2.15165e-10    -0.012759      1.06903   -0.0246831   -0.0246831 -1.38848e-10 -2.90445e-10    0.0150559         -nan         -nan         -nan         -nan         -nan         -nan         -nan         -nan         -nan         -nan         -nan         -nan\r\n",
      "-3.10743e-10 -7.58345e-11  -0.00248153    0.0196197 -5.72744e-11  1.11453e-10    0.0331065    -0.029269 -1.82832e-05  1.12003e-10  -8.6785e-10    0.0198238   1.8619e-09 -2.98405e-09  3.63053e-10  -7.4025e-12    0.0246831   -0.0246831      1.13359    0.0773273  1.19139e-10  4.33835e-10   0.00543935         -nan         -nan         -nan         -nan         -nan         -nan         -nan         -nan         -nan         -nan         -nan         -nan\r\n",
      "-3.82919e-11  7.32182e-11   -0.0196197   0.00248153 -2.87422e-10 -2.79199e-10    -0.029269    0.0331065 -1.82832e-05  1.49025e-09 -1.88305e-10    0.0198238  1.85737e-09 -3.21387e-09 -7.51802e-11 -3.16546e-10    0.0246831   -0.0246831    0.0773273      1.13359  1.80396e-10  3.37146e-10   0.00543935         -nan         -nan         -nan         -nan         -nan         -nan         -nan         -nan         -nan         -nan         -nan         -nan\r\n",
      " 0.000255139   -0.0573567  5.14658e-13   4.6126e-11  -0.00347861  1.54739e-05 -3.28648e-10  -5.3326e-10  -3.8942e-12 -0.000548664   -0.0101908 -2.32947e-11    0.0179528  -0.00501866    0.0191591 -8.52255e-05  -2.4602e-13  9.08059e-11    5.042e-11  2.62748e-10     0.600541  2.25433e-10  2.81272e-09         -nan         -nan         -nan         -nan         -nan         -nan         -nan         -nan         -nan         -nan         -nan         -nan\r\n",
      "  -0.0573567 -0.000255139 -1.64558e-10  3.71392e-10 -1.54739e-05  -0.00347861 -3.85756e-09 -3.80959e-09   6.4502e-10   -0.0101908  0.000548664  1.38947e-10   0.00501866    0.0179528  8.52255e-05    0.0191591 -1.49264e-10 -6.09952e-11 -1.42127e-10 -5.14627e-11  2.25433e-10     0.600541  7.03527e-11         -nan         -nan         -nan         -nan         -nan         -nan         -nan         -nan         -nan         -nan         -nan         -nan\r\n",
      "-3.28118e-10 -3.21339e-10   -0.0423662    0.0423662  6.07695e-10  5.83133e-10   0.00290425   0.00290425 -0.000442293 -1.66944e-09 -1.60318e-09 -0.000216573  1.09699e-10  1.72987e-10  4.07709e-10  8.27813e-10   -0.0160979    0.0160979   0.00532012   0.00532012  3.14902e-09  5.25172e-10      1.98492         -nan         -nan         -nan         -nan         -nan         -nan         -nan         -nan         -nan         -nan         -nan         -nan\r\n",
      "        -nan         -nan         -nan         -nan         -nan         -nan         -nan         -nan         -nan         -nan         -nan         -nan         -nan         -nan         -nan         -nan         -nan         -nan         -nan         -nan         -nan         -nan         -nan         -nan         -nan         -nan         -nan         -nan         -nan         -nan         -nan         -nan         -nan         -nan         -nan\r\n",
      "        -nan         -nan         -nan         -nan         -nan         -nan         -nan         -nan         -nan         -nan         -nan         -nan         -nan         -nan         -nan         -nan         -nan         -nan         -nan         -nan         -nan         -nan         -nan         -nan         -nan         -nan         -nan         -nan         -nan         -nan         -nan         -nan         -nan         -nan         -nan\r\n",
      "        -nan         -nan         -nan         -nan         -nan         -nan         -nan         -nan         -nan         -nan         -nan         -nan         -nan         -nan         -nan         -nan         -nan         -nan         -nan         -nan         -nan         -nan         -nan         -nan         -nan         -nan         -nan         -nan         -nan         -nan         -nan         -nan         -nan         -nan         -nan\r\n",
      "        -nan         -nan         -nan         -nan         -nan         -nan         -nan         -nan         -nan         -nan         -nan         -nan         -nan         -nan         -nan         -nan         -nan         -nan         -nan         -nan         -nan         -nan         -nan         -nan         -nan         -nan         -nan         -nan         -nan         -nan         -nan         -nan         -nan         -nan         -nan\r\n",
      "        -nan         -nan         -nan         -nan         -nan         -nan         -nan         -nan         -nan         -nan         -nan         -nan         -nan         -nan         -nan         -nan         -nan         -nan         -nan         -nan         -nan         -nan         -nan         -nan         -nan         -nan         -nan         -nan         -nan         -nan         -nan         -nan         -nan         -nan         -nan\r\n",
      "        -nan         -nan         -nan         -nan         -nan         -nan         -nan         -nan         -nan         -nan         -nan         -nan         -nan         -nan         -nan         -nan         -nan         -nan         -nan         -nan         -nan         -nan         -nan         -nan         -nan         -nan         -nan         -nan         -nan         -nan         -nan         -nan         -nan         -nan         -nan\r\n",
      "        -nan         -nan         -nan         -nan         -nan         -nan         -nan         -nan         -nan         -nan         -nan         -nan         -nan         -nan         -nan         -nan         -nan         -nan         -nan         -nan         -nan         -nan         -nan         -nan         -nan         -nan         -nan         -nan         -nan         -nan         -nan         -nan         -nan         -nan         -nan\r\n",
      "        -nan         -nan         -nan         -nan         -nan         -nan         -nan         -nan         -nan         -nan         -nan         -nan         -nan         -nan         -nan         -nan         -nan         -nan         -nan         -nan         -nan         -nan         -nan         -nan         -nan         -nan         -nan         -nan         -nan         -nan         -nan         -nan         -nan         -nan         -nan\r\n",
      "        -nan         -nan         -nan         -nan         -nan         -nan         -nan         -nan         -nan         -nan         -nan         -nan         -nan         -nan         -nan         -nan         -nan         -nan         -nan         -nan         -nan         -nan         -nan         -nan         -nan         -nan         -nan         -nan         -nan         -nan         -nan         -nan         -nan         -nan         -nan\r\n",
      "        -nan         -nan         -nan         -nan         -nan         -nan         -nan         -nan         -nan         -nan         -nan         -nan         -nan         -nan         -nan         -nan         -nan         -nan         -nan         -nan         -nan         -nan         -nan         -nan         -nan         -nan         -nan         -nan         -nan         -nan         -nan         -nan         -nan         -nan         -nan\r\n",
      "        -nan         -nan         -nan         -nan         -nan         -nan         -nan         -nan         -nan         -nan         -nan         -nan         -nan         -nan         -nan         -nan         -nan         -nan         -nan         -nan         -nan         -nan         -nan         -nan         -nan         -nan         -nan         -nan         -nan         -nan         -nan         -nan         -nan         -nan         -nan\r\n",
      "        -nan         -nan         -nan         -nan         -nan         -nan         -nan         -nan         -nan         -nan         -nan         -nan         -nan         -nan         -nan         -nan         -nan         -nan         -nan         -nan         -nan         -nan         -nan          nan          nan          nan          nan          nan          nan          nan          nan          nan          nan          nan          nan\r\n",
      "an error occurred:\r\n",
      "Small generalized eigenvalue problem failed.\r\n"
     ]
    }
   ],
   "source": [
    "!xtp_tools -c job_name=CO geometry_optimization.maxiter=1 dftpackage.basisset=3-21G dftpackage.auxbasisset=aux-def2-svp gwbse.gw.mode=G0W0 -e dftgwbse -t 4"
   ]
  },
  {
   "cell_type": "markdown",
   "metadata": {},
   "source": [
    "Notice that we are using 4 threads. The results will be stored in a file named `CO_summary.xml` in the current work directory, together with the optimization step in `optimisation.trj` and the orbitals in [hdf5 format](https://www.hdfgroup.org/solutions/hdf5/) saved on `CO.orb`."
   ]
  }
 ],
 "metadata": {
  "kernelspec": {
   "display_name": "Python 3",
   "language": "python",
   "name": "python3"
  },
  "language_info": {
   "codemirror_mode": {
    "name": "ipython",
    "version": 3
   },
   "file_extension": ".py",
   "mimetype": "text/x-python",
   "name": "python",
   "nbconvert_exporter": "python",
   "pygments_lexer": "ipython3",
   "version": "3.9.7"
  }
 },
 "nbformat": 4,
 "nbformat_minor": 4
}
