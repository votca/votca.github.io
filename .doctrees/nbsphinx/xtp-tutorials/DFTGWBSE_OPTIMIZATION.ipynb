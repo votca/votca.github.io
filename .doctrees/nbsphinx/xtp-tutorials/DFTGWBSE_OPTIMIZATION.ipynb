{
 "cells": [
  {
   "cell_type": "markdown",
   "metadata": {},
   "source": [
    "## DFT + GWBSE Optimization Using CO"
   ]
  },
  {
   "cell_type": "markdown",
   "metadata": {},
   "source": [
    "## Introduction\n",
    "This tutorial explains how to perform a molecular geometric optimization using the **GWBSE** method. See [the GW Compendium: A Practical Guide to Theoretical Photoemission Spectroscopy](https://doi.org/10.3389/fchem.2019.00377), for an excellent introduction to the method."
   ]
  },
  {
   "cell_type": "markdown",
   "metadata": {},
   "source": [
    "## Requirements\n",
    "* You will need to install **VOTCA** using the instructions described [here](https://github.com/votca/votca/blob/master/share/doc/INSTALL.rst)\n",
    "* Once the installation is completed you need to activate the VOTCA enviroment by running the `VOTCARC.bash` script that has been installed at the bin subfolder for the path that you have provided for the installation step above"
   ]
  },
  {
   "cell_type": "markdown",
   "metadata": {},
   "source": [
    "## Preparing the input\n",
    "To run a DFT-GWBSE calculation we will use the [xtp_tools](https://www.votca.org/xtp/xtp_tools_overview.html) calculator."
   ]
  },
  {
   "cell_type": "markdown",
   "metadata": {},
   "source": [
    "we can now change the calculator mode from single point energy calculation to optimization as follows by adding \n",
    "`-c geometry_optimization.maxiter=1` which enables optimization with one iteration. "
   ]
  },
  {
   "cell_type": "markdown",
   "metadata": {},
   "source": [
    "Because geometry optimsation is quite expensive numerically we chose a smaller basisset and G0W0 Finally, to run the calculation we just need the following command (This still takes a while)"
   ]
  },
  {
   "cell_type": "code",
   "execution_count": 1,
   "metadata": {
    "execution": {
     "iopub.execute_input": "2022-02-09T00:12:41.051806Z",
     "iopub.status.busy": "2022-02-09T00:12:41.051276Z",
     "iopub.status.idle": "2022-02-09T00:13:14.989950Z",
     "shell.execute_reply": "2022-02-09T00:13:14.990379Z"
    }
   },
   "outputs": [
    {
     "name": "stdout",
     "output_type": "stream",
     "text": [
      "==================================================\r\n",
      "========   VOTCA (http://www.votca.org)   ========\r\n",
      "==================================================\r\n",
      "\r\n",
      "please submit bugs to https://github.com/votca/xtp/issues\r\n",
      "\r\n",
      "xtp_tools, version 2023-dev gitid: 7c9f5f1 (compiled Feb  9 2022, 00:05:10)\r\n",
      "votca_csg, version 2023-dev gitid: 7c9f5f1 (compiled Feb  8 2022, 23:51:37)\r\n",
      "votca_tools, version 2023-dev gitid: 7c9f5f1 (compiled Feb  8 2022, 23:49:48)\r\n",
      "\r\n",
      "Initializing tool\r\n",
      "... dftgwbse Evaluating tool\r\n",
      "... dftgwbse  Using 4 threads\r\n",
      "... ... Reading structure from CO.xyz\r\n",
      "... ... Requested geometry optimization of excited state s1\r\n",
      "... ... Initial state: s1\r\n",
      "... ... WARNING: No tracker is used \r\n",
      "... ... Convergence of total energy: 0.000001 Hartree \r\n",
      "... ... Convergence of RMS Force:    0.000030 Hartree/Bohr \r\n",
      "... ... Convergence of Max Force:    0.000100 Hartree/Bohr \r\n",
      "... ... Convergence of RMS Step:     0.000600 Bohr \r\n",
      "... ... Convergence of Max Step:     0.001000 Bohr \r\n",
      "... ... Initial trust radius:        0.018897 BohrA\r\n",
      "    0.307132 -3.06574e-11  1.79776e-10  5.20016e-10  2.32536e-11   -0.0516061  1.11689e-09 -1.03713e-09  3.87696e-10    0.0181647   0.00104239   1.1048e-10   -0.0104106    0.0375593  -2.0058e-11    0.0421019 -2.08593e-10  9.12382e-11  3.57769e-10  1.58906e-10  0.000479449    -0.108408 -1.82919e-10          nan          nan          nan          nan          nan          nan          nan          nan          nan          nan          nan          nan\r\n",
      "-3.06574e-11     0.307132  3.89202e-10  3.09444e-10   -0.0516061  2.32535e-11 -2.45181e-09  2.79205e-09 -8.22075e-10   0.00104239   -0.0181647 -3.85161e-10   -0.0375593   -0.0104106    0.0421019  -2.0058e-11  1.92276e-10  6.58754e-12 -5.01629e-10 -6.18984e-10    -0.108408 -0.000479449 -1.68349e-11          nan          nan          nan          nan          nan          nan          nan          nan          nan          nan          nan          nan\r\n",
      " 1.79776e-10  3.89202e-10     0.320606  -0.00928867 -1.39525e-11 -3.03681e-11   -0.0131834    0.0131834  -0.00491612  1.46112e-10 -1.02588e-10  -0.00209442  -1.1909e-11 -2.07347e-10   1.1921e-10 -7.52632e-12   -0.0470487    0.0012933  -0.00255844   -0.0152408 -9.89146e-10  3.14367e-10   -0.0254861          nan          nan          nan          nan          nan          nan          nan          nan          nan          nan          nan          nan\r\n",
      " 5.20016e-10  3.09444e-10  -0.00928867     0.320606 -2.23069e-11 -4.35092e-10   -0.0131834    0.0131834  -0.00491612  1.66388e-10 -1.48495e-10  -0.00209442  8.11724e-12 -1.82441e-10  1.27715e-11  4.05406e-10   -0.0012933    0.0470487   -0.0152408  -0.00255844  -9.6519e-10 -2.05789e-10   -0.0254861          nan          nan          nan          nan          nan          nan          nan          nan          nan          nan          nan          nan\r\n",
      " 2.32537e-11   -0.0516061 -1.39525e-11 -2.23069e-11     0.490902 -2.83972e-12 -1.49002e-09  1.08529e-09 -6.28855e-10 -0.000771317     0.013441 -1.85913e-10  -0.00770342  -0.00213522    0.0309987  6.62279e-11  4.61933e-11 -3.03362e-10 -2.07813e-10  -6.1487e-11    0.0531267  0.000234961 -2.09529e-10          nan          nan          nan          nan          nan          nan          nan          nan          nan          nan          nan          nan\r\n",
      "  -0.0516061  2.32535e-11 -3.03681e-11 -4.35092e-10 -2.83974e-12     0.490902   -9.285e-11  1.01204e-10 -6.25192e-11    -0.013441 -0.000771317  5.25019e-12  -0.00213522   0.00770342  6.62278e-11    0.0309987  1.53575e-10  -7.2492e-12 -8.26894e-11  1.74479e-10 -0.000234961    0.0531267 -4.45678e-11          nan          nan          nan          nan          nan          nan          nan          nan          nan          nan          nan          nan\r\n",
      " 1.11689e-09 -2.45181e-09   -0.0131834   -0.0131834 -1.49002e-09   -9.285e-11     0.549584    -0.219689    0.0856685  1.43411e-11  7.24894e-10    0.0364975  8.31207e-10  2.62377e-09   6.3171e-10   2.5439e-10   -0.0113631  -0.00131933   -0.0126969    0.0330585  1.34033e-08 -8.27053e-09   0.00154674          nan          nan          nan          nan          nan          nan          nan          nan          nan          nan          nan          nan\r\n",
      "-1.03713e-09  2.79205e-09    0.0131834    0.0131834  1.08529e-09  1.01204e-10    -0.219689     0.549584   -0.0856685 -6.02477e-11  -7.4517e-10   -0.0364975 -8.56113e-10 -2.60374e-09 -2.18777e-10 -1.47952e-10  -0.00131933   -0.0113631   -0.0330585    0.0126969 -1.39169e-08  8.24302e-09  -0.00154674          nan          nan          nan          nan          nan          nan          nan          nan          nan          nan          nan          nan\r\n",
      " 3.87696e-10 -8.22075e-10  -0.00491612  -0.00491612 -6.28855e-10 -6.25192e-11    0.0856685   -0.0856685     0.662947  1.80022e-10  5.81849e-10  -0.00632525  2.92455e-10  7.02066e-10  3.36775e-10  9.71442e-11  -0.00131784   0.00131784   0.00387632   0.00387632  4.33964e-09 -3.05371e-09    0.0011268          nan          nan          nan          nan          nan          nan          nan          nan          nan          nan          nan          nan\r\n",
      "   0.0181647   0.00104239  1.46112e-10  1.66388e-10 -0.000771317    -0.013441  1.43411e-11 -6.02477e-11  1.80022e-10     0.680922 -1.60073e-12 -8.83658e-11 -2.70982e-05  7.97074e-05  0.000494819   0.00862274 -3.86215e-10 -2.47197e-13 -8.09517e-11 -8.90878e-10  -0.00216934   -0.0409702  6.68857e-10          nan          nan          nan          nan          nan          nan          nan          nan          nan          nan          nan          nan\r\n",
      "  0.00104239   -0.0181647 -1.02588e-10 -1.48495e-10     0.013441 -0.000771317  7.24894e-10  -7.4517e-10  5.81849e-10 -1.60076e-12     0.680922 -6.20484e-11  7.97074e-05  2.70982e-05  -0.00862274  0.000494819  4.18602e-12 -8.14112e-10  -3.7706e-10  9.40229e-12    0.0409702  -0.00216934 -8.09473e-10          nan          nan          nan          nan          nan          nan          nan          nan          nan          nan          nan          nan\r\n",
      "  1.1048e-10 -3.85161e-10  -0.00209442  -0.00209442 -1.85913e-10  5.25019e-12    0.0364975   -0.0364975  -0.00632525 -8.83658e-11 -6.20484e-11      0.79826 -1.23234e-11  3.26471e-10 -1.10193e-10  5.77047e-11  -0.00465911   0.00465911    0.0137044    0.0137044  1.73223e-09 -9.75807e-10  0.000446697          nan          nan          nan          nan          nan          nan          nan          nan          nan          nan          nan          nan\r\n",
      "  -0.0104106   -0.0375593  -1.1909e-11  8.11724e-12  -0.00770342  -0.00213522  8.31207e-10 -8.56113e-10  2.92455e-10 -2.70982e-05  7.97074e-05 -1.23234e-11     0.956418 -4.29494e-11    0.0126647   0.00351038 -1.23828e-10  2.37463e-10  6.52652e-10  4.30283e-10   -0.0192714   -0.0054335 -6.81705e-12          nan          nan          nan          nan          nan          nan          nan          nan          nan          nan          nan          nan\r\n",
      "   0.0375593   -0.0104106 -2.07347e-10 -1.82441e-10  -0.00213522   0.00770342  2.62377e-09 -2.60374e-09  7.02066e-10  7.97074e-05  2.70982e-05  3.26471e-10 -4.29494e-11     0.956418   0.00351038   -0.0126647 -4.25274e-10  6.47643e-10   1.4916e-09  1.60523e-09   -0.0054335    0.0192714   8.9317e-11          nan          nan          nan          nan          nan          nan          nan          nan          nan          nan          nan          nan\r\n",
      " -2.0058e-11    0.0421019   1.1921e-10  1.27715e-11    0.0309987  6.62278e-11   6.3171e-10 -2.18777e-10  3.36775e-10  0.000494819  -0.00862274 -1.10193e-10    0.0126647   0.00351038     0.988566  3.74531e-11  2.92539e-11 -1.10926e-10  3.59564e-11 -6.16609e-11   -0.0223628 -9.89029e-05 -3.29956e-10          nan          nan          nan          nan          nan          nan          nan          nan          nan          nan          nan          nan\r\n",
      "   0.0421019  -2.0058e-11 -7.52632e-12  4.05406e-10  6.62279e-11    0.0309987   2.5439e-10 -1.47952e-10  9.71442e-11   0.00862274  0.000494819  5.77047e-11   0.00351038   -0.0126647  3.74531e-11     0.988566 -7.18795e-12 -9.04294e-11  6.76096e-11  1.49281e-10   9.8903e-05   -0.0223628 -1.73204e-10          nan          nan          nan          nan          nan          nan          nan          nan          nan          nan          nan          nan\r\n",
      "-2.08593e-10  1.92276e-10   -0.0470487   -0.0012933  4.61933e-11  1.53575e-10   -0.0113631  -0.00131933  -0.00131784 -3.86215e-10  4.18602e-12  -0.00465911 -1.23828e-10 -4.25274e-10  2.92539e-11 -7.18795e-12      1.03321  -0.00657439   -0.0132552   -0.0132552 -8.26827e-10  5.54223e-10   0.00427455          nan          nan          nan          nan          nan          nan          nan          nan          nan          nan          nan          nan\r\n",
      " 9.12382e-11  6.58754e-12    0.0012933    0.0470487 -3.03362e-10  -7.2492e-12  -0.00131933   -0.0113631   0.00131784 -2.47197e-13 -8.14112e-10   0.00465911  2.37463e-10  6.47643e-10 -1.10926e-10 -9.04294e-11  -0.00657439      1.03321    0.0132552    0.0132552  7.80059e-10 -4.52363e-10  -0.00427455          nan          nan          nan          nan          nan          nan          nan          nan          nan          nan          nan          nan\r\n",
      " 3.57769e-10 -5.01629e-10  -0.00255844   -0.0152408 -2.07813e-10 -8.26894e-11   -0.0126969   -0.0330585   0.00387632 -8.09517e-11  -3.7706e-10    0.0137044  6.52652e-10   1.4916e-09  3.59564e-11  6.76096e-11   -0.0132552    0.0132552       1.0677    0.0410572  2.36654e-09 -1.58701e-09    0.0020448          nan          nan          nan          nan          nan          nan          nan          nan          nan          nan          nan          nan\r\n",
      " 1.58906e-10 -6.18984e-10   -0.0152408  -0.00255844  -6.1487e-11  1.74479e-10    0.0330585    0.0126969   0.00387632 -8.90878e-10  9.40229e-12    0.0137044  4.30283e-10  1.60523e-09 -6.16609e-11  1.49281e-10   -0.0132552    0.0132552    0.0410572       1.0677   2.4675e-09 -1.53968e-09    0.0020448          nan          nan          nan          nan          nan          nan          nan          nan          nan          nan          nan          nan\r\n",
      "-0.000332789    0.0752465  6.87772e-10  7.32689e-10   -0.0690159  0.000305233 -8.05771e-09   8.3353e-09  -3.1632e-09   0.00163674   -0.0309116 -1.54301e-09   0.00866551   0.00244321    0.0364086 -0.000161022  5.59418e-10 -5.58852e-10 -1.77501e-09 -1.77852e-09    -0.194424  2.21913e-10 -4.21879e-09          nan          nan          nan          nan          nan          nan          nan          nan          nan          nan          nan          nan\r\n",
      "   0.0752465  0.000332789    8.476e-13  2.85169e-10 -0.000305233   -0.0690159  5.49103e-09  -5.5336e-09  2.38422e-09    0.0309116   0.00163674  8.87179e-10   0.00244321  -0.00866551  0.000161022    0.0364086 -4.82199e-10  4.77956e-10  1.28074e-09  1.27928e-09  2.21913e-10    -0.194424 -5.54339e-09          nan          nan          nan          nan          nan          nan          nan          nan          nan          nan          nan          nan\r\n",
      " 5.99106e-10  5.29828e-10    -0.014189    -0.014189 -3.68885e-10 -5.51687e-10  -0.00432803   0.00432803  -0.00131339  1.02977e-09  -1.0896e-09 -0.000526601  8.36215e-11 -8.17576e-11  4.06937e-11  2.51661e-10   0.00597505  -0.00597505   0.00150871   0.00150871  -4.4293e-09 -5.45721e-09     0.958311          nan          nan          nan          nan          nan          nan          nan          nan          nan          nan          nan          nan\r\n",
      "        -nan         -nan         -nan         -nan         -nan         -nan         -nan         -nan         -nan         -nan         -nan         -nan         -nan         -nan         -nan         -nan         -nan         -nan         -nan         -nan         -nan         -nan         -nan          nan          nan          nan          nan          nan          nan          nan          nan          nan          nan          nan          nan\r\n",
      "        -nan         -nan         -nan         -nan         -nan         -nan         -nan         -nan         -nan         -nan         -nan         -nan         -nan         -nan         -nan         -nan         -nan         -nan         -nan         -nan         -nan         -nan         -nan         -nan         -nan         -nan         -nan         -nan         -nan         -nan         -nan         -nan         -nan         -nan         -nan\r\n",
      "        -nan         -nan         -nan         -nan         -nan         -nan         -nan         -nan         -nan         -nan         -nan         -nan         -nan         -nan         -nan         -nan         -nan         -nan         -nan         -nan         -nan         -nan         -nan         -nan         -nan         -nan         -nan         -nan         -nan         -nan         -nan         -nan         -nan         -nan         -nan\r\n",
      "        -nan         -nan         -nan         -nan         -nan         -nan         -nan         -nan         -nan         -nan         -nan         -nan         -nan         -nan         -nan         -nan         -nan         -nan         -nan         -nan         -nan         -nan         -nan          nan          nan          nan          nan          nan          nan          nan          nan          nan          nan          nan          nan\r\n",
      "        -nan         -nan         -nan         -nan         -nan         -nan         -nan         -nan         -nan         -nan         -nan         -nan         -nan         -nan         -nan         -nan         -nan         -nan         -nan         -nan         -nan         -nan         -nan          nan          nan          nan          nan          nan          nan          nan          nan          nan          nan          nan          nan\r\n",
      "        -nan         -nan         -nan         -nan         -nan         -nan         -nan         -nan         -nan         -nan         -nan         -nan         -nan         -nan         -nan         -nan         -nan         -nan         -nan         -nan         -nan         -nan         -nan         -nan         -nan         -nan         -nan         -nan         -nan         -nan         -nan         -nan         -nan         -nan         -nan\r\n",
      "        -nan         -nan         -nan         -nan         -nan         -nan         -nan         -nan         -nan         -nan         -nan         -nan         -nan         -nan         -nan         -nan         -nan         -nan         -nan         -nan         -nan         -nan         -nan         -nan         -nan         -nan         -nan         -nan         -nan         -nan         -nan         -nan         -nan         -nan         -nan\r\n",
      "        -nan         -nan         -nan         -nan         -nan         -nan         -nan         -nan         -nan         -nan         -nan         -nan         -nan         -nan         -nan         -nan         -nan         -nan         -nan         -nan         -nan         -nan         -nan          nan          nan          nan          nan          nan          nan          nan          nan          nan          nan          nan          nan\r\n",
      "        -nan         -nan         -nan         -nan         -nan         -nan         -nan         -nan         -nan         -nan         -nan         -nan         -nan         -nan         -nan         -nan         -nan         -nan         -nan         -nan         -nan         -nan         -nan          nan          nan          nan          nan          nan          nan          nan          nan          nan          nan          nan          nan\r\n",
      "        -nan         -nan         -nan         -nan         -nan         -nan         -nan         -nan         -nan         -nan         -nan         -nan         -nan         -nan         -nan         -nan         -nan         -nan         -nan         -nan         -nan         -nan         -nan         -nan          nan          nan          nan         -nan          nan          nan          nan         -nan          nan          nan          nan\r\n",
      "        -nan         -nan         -nan         -nan         -nan         -nan         -nan         -nan         -nan         -nan         -nan         -nan         -nan         -nan         -nan         -nan         -nan         -nan         -nan         -nan         -nan         -nan         -nan         -nan          nan          nan          nan         -nan          nan          nan          nan         -nan          nan          nan          nan\r\n",
      "        -nan         -nan         -nan         -nan         -nan         -nan         -nan         -nan         -nan         -nan         -nan         -nan         -nan         -nan         -nan         -nan         -nan         -nan         -nan         -nan         -nan         -nan         -nan         -nan         -nan         -nan         -nan         -nan         -nan         -nan         -nan         -nan         -nan         -nan         -nan\r\n",
      "B\r\n",
      "    0.093811 -1.36256e-11  9.61306e-11   3.2083e-10  1.43005e-11   -0.0328898  4.68355e-10 -4.11386e-10  2.38567e-10    0.0155316  0.000891289  6.35579e-11    -0.012909    0.0465727 -2.33038e-11    0.0481429 -2.59325e-10  1.01771e-10    3.595e-10  8.39248e-11  0.000111043   -0.0251078  4.90456e-10         -nan         -nan         -nan         -nan         -nan         -nan         -nan         -nan         -nan         -nan         -nan         -nan\r\n",
      "-1.36256e-11     0.093811  2.01308e-10  1.44339e-10   -0.0328898  1.43004e-11 -9.67697e-10   1.1924e-09 -5.07297e-10  0.000891289   -0.0155316 -2.54838e-10   -0.0465727    -0.012909    0.0481429 -2.33039e-11  1.65063e-10  1.10512e-10 -4.29881e-10 -5.87435e-10   -0.0251078 -0.000111043  5.38576e-10         -nan         -nan         -nan         -nan         -nan         -nan         -nan         -nan         -nan         -nan         -nan         -nan\r\n",
      " 9.61306e-11  2.01308e-10     0.105871  -0.00531092 -1.86215e-11 -2.58733e-11  -0.00667869   0.00667869  -0.00361513  1.36138e-10  -8.7594e-11   -0.0016422 -2.39923e-11 -2.30142e-10  1.50955e-10 -1.30779e-11   -0.0640464   0.00170959  -0.00245709   -0.0197355 -7.99742e-11  1.94546e-10   -0.0418868         -nan         -nan         -nan         -nan         -nan         -nan         -nan         -nan         -nan         -nan         -nan         -nan\r\n",
      "  3.2083e-10  1.44339e-10  -0.00531092     0.105871 -2.21763e-11 -3.15386e-10  -0.00667869   0.00667869  -0.00361513  1.60333e-10 -1.30167e-10   -0.0016422  2.84637e-12 -1.93267e-10  9.15892e-12  5.05884e-10  -0.00170959    0.0640464   -0.0197355  -0.00245709  -5.3829e-12 -4.78757e-11   -0.0418868         -nan         -nan         -nan         -nan         -nan         -nan         -nan         -nan         -nan         -nan         -nan         -nan\r\n",
      " 1.43005e-11   -0.0328898 -1.86215e-11 -2.21763e-11     0.240891 -6.66993e-13 -9.44031e-10  6.54518e-10   -5.494e-10  -0.00082889    0.0144443 -1.60931e-10  -0.00881121  -0.00244228    0.0441772  9.20627e-11  4.10587e-11 -4.25174e-10 -2.14878e-10 -1.14845e-11  -0.00438142 -1.93775e-05 -5.21197e-10         -nan         -nan         -nan         -nan         -nan         -nan         -nan         -nan         -nan         -nan         -nan         -nan\r\n",
      "  -0.0328898  1.43004e-11 -2.58733e-11 -3.15386e-10 -6.67009e-13     0.240891 -4.36966e-11  4.72514e-11 -4.46623e-11   -0.0144443  -0.00082889  1.06088e-11  -0.00244228   0.00881121  9.20626e-11    0.0441772  2.22785e-10 -1.93914e-11 -1.02543e-10  2.81573e-10  1.93775e-05  -0.00438142 -4.88394e-10         -nan         -nan         -nan         -nan         -nan         -nan         -nan         -nan         -nan         -nan         -nan         -nan\r\n",
      " 4.68355e-10 -9.67697e-10  -0.00667869  -0.00667869 -9.44031e-10 -4.36966e-11     0.221871    -0.110689    0.0629974  1.79234e-11  5.48434e-10     0.028617  9.97665e-10  2.90233e-09   7.9449e-10  2.58564e-10   -0.0100929  -0.00718557    -0.033079    0.0292578  1.48721e-09 -5.30477e-10  -0.00289837         -nan         -nan         -nan         -nan         -nan         -nan         -nan         -nan         -nan         -nan         -nan         -nan\r\n",
      "-4.11386e-10   1.1924e-09   0.00667869   0.00667869  6.54518e-10  4.72514e-11    -0.110689     0.221871   -0.0629974 -6.04967e-11 -5.72628e-10    -0.028617 -1.03454e-09 -2.87549e-09 -2.75528e-10 -1.16768e-10  -0.00718557   -0.0100929   -0.0292578     0.033079 -1.72926e-09  4.54713e-10   0.00289837         -nan         -nan         -nan         -nan         -nan         -nan         -nan         -nan         -nan         -nan         -nan         -nan\r\n",
      " 2.38567e-10 -5.07297e-10  -0.00361513  -0.00361513   -5.494e-10 -4.46623e-11    0.0629974   -0.0629974     0.429278  2.30995e-10  6.84381e-10   -0.0121538  4.20984e-10  8.98017e-10  4.70451e-10  1.29882e-10  6.21294e-06 -6.21296e-06 -1.82749e-05 -1.82749e-05  1.01344e-09 -6.37879e-10  5.58886e-05         -nan         -nan         -nan         -nan         -nan         -nan         -nan         -nan         -nan         -nan         -nan         -nan\r\n",
      "   0.0155316  0.000891289  1.36138e-10  1.60333e-10  -0.00082889   -0.0144443  1.79234e-11 -6.04967e-11  2.30995e-10     0.463967  -2.1377e-12 -1.17868e-10 -0.000208189  0.000612372  0.000594422    0.0103584 -6.62559e-10  5.03291e-12 -1.34046e-10 -1.50721e-09 -0.000937734     -0.01771  1.63365e-09         -nan         -nan         -nan         -nan         -nan         -nan         -nan         -nan         -nan         -nan         -nan         -nan\r\n",
      " 0.000891289   -0.0155316  -8.7594e-11 -1.30167e-10    0.0144443  -0.00082889  5.48434e-10 -5.72628e-10  6.84381e-10 -2.13775e-12     0.463967 -1.23373e-10  0.000612372  0.000208189   -0.0103584  0.000594422  2.66598e-11 -1.39983e-09 -6.96488e-10 -3.89617e-11      0.01771 -0.000937734 -1.78282e-09         -nan         -nan         -nan         -nan         -nan         -nan         -nan         -nan         -nan         -nan         -nan         -nan\r\n",
      " 6.35579e-11 -2.54838e-10   -0.0016422   -0.0016422 -1.60931e-10  1.06088e-11     0.028617    -0.028617   -0.0121538 -1.17868e-10 -1.23373e-10     0.636067 -4.97933e-11  4.09067e-10 -1.95664e-10  8.28169e-11  -0.00673648   0.00673648    0.0198148    0.0198148   9.9251e-11 -2.31852e-12  4.40152e-05         -nan         -nan         -nan         -nan         -nan         -nan         -nan         -nan         -nan         -nan         -nan         -nan\r\n",
      "   -0.012909   -0.0465727 -2.39923e-11  2.84637e-12  -0.00881121  -0.00244228  9.97665e-10 -1.03454e-09  4.20984e-10 -0.000208189  0.000612372 -4.97933e-11     0.917068 -7.52995e-11    0.0214815   0.00595421 -2.20545e-10  4.53258e-10   1.2249e-09   7.7274e-10   -0.0223738  -0.00630823  1.02112e-10         -nan         -nan         -nan         -nan         -nan         -nan         -nan         -nan         -nan         -nan         -nan         -nan\r\n",
      "   0.0465727    -0.012909 -2.30142e-10 -1.93267e-10  -0.00244228   0.00881121  2.90233e-09 -2.87549e-09  8.98017e-10  0.000612372  0.000208189  4.09067e-10 -7.52995e-11     0.917068   0.00595421   -0.0214815  -7.4293e-10  1.19509e-09  2.67335e-09  2.90606e-09  -0.00630823    0.0223738  6.28615e-11         -nan         -nan         -nan         -nan         -nan         -nan         -nan         -nan         -nan         -nan         -nan         -nan\r\n",
      "-2.33039e-11    0.0481429  1.50955e-10  9.15892e-12    0.0441772  9.20626e-11   7.9449e-10 -2.75528e-10  4.70451e-10  0.000594422   -0.0103584 -1.95664e-10    0.0214815   0.00595421     0.981535  7.21949e-11  5.43276e-11 -1.86563e-10  5.46775e-11 -1.35497e-10   0.00424838  1.87891e-05  -2.6119e-10         -nan         -nan         -nan         -nan         -nan         -nan         -nan         -nan         -nan         -nan         -nan         -nan\r\n",
      "   0.0481429 -2.33039e-11 -1.30779e-11  5.05884e-10  9.20627e-11    0.0441772  2.58564e-10 -1.16768e-10  1.29882e-10    0.0103584  0.000594422  8.28169e-11   0.00595421   -0.0214815  7.21949e-11     0.981535    -2.96e-11 -1.60575e-10  1.09579e-10  2.41815e-10 -1.87891e-05   0.00424838  1.75267e-10         -nan         -nan         -nan         -nan         -nan         -nan         -nan         -nan         -nan         -nan         -nan         -nan\r\n",
      "-2.59325e-10  1.65063e-10   -0.0640464  -0.00170959  4.10587e-11  2.22785e-10   -0.0100929  -0.00718557  6.21294e-06 -6.62559e-10  2.66598e-11  -0.00673648 -2.20545e-10  -7.4293e-10  5.43276e-11    -2.96e-11      1.06909   -0.0128251   -0.0247693   -0.0247693 -3.95218e-10  2.11096e-10    0.0150492         -nan         -nan         -nan         -nan         -nan         -nan         -nan         -nan         -nan         -nan         -nan         -nan\r\n",
      " 1.01771e-10  1.10512e-10   0.00170959    0.0640464 -4.25174e-10 -1.93914e-11  -0.00718557   -0.0100929 -6.21296e-06  5.03291e-12 -1.39983e-09   0.00673648  4.53258e-10  1.19509e-09 -1.86563e-10 -1.60575e-10   -0.0128251      1.06909    0.0247693    0.0247693  2.19651e-10   7.3714e-13   -0.0150492         -nan         -nan         -nan         -nan         -nan         -nan         -nan         -nan         -nan         -nan         -nan         -nan\r\n",
      "   3.595e-10 -4.29881e-10  -0.00245709   -0.0197355 -2.14878e-10 -1.02543e-10    -0.033079   -0.0292578 -1.82749e-05 -1.34046e-10 -6.96488e-10    0.0198148   1.2249e-09  2.67335e-09  5.46775e-11  1.09579e-10   -0.0247693    0.0247693      1.13353    0.0772612  8.79269e-10 -5.99917e-10    0.0054565         -nan         -nan         -nan         -nan         -nan         -nan         -nan         -nan         -nan         -nan         -nan         -nan\r\n",
      " 8.39248e-11 -5.87435e-10   -0.0197355  -0.00245709 -1.14845e-11  2.81573e-10    0.0292578     0.033079 -1.82749e-05 -1.50721e-09 -3.89617e-11    0.0198148   7.7274e-10  2.90606e-09 -1.35497e-10  2.41815e-10   -0.0247693    0.0247693    0.0772612      1.13353  1.09033e-09 -4.24525e-10    0.0054565         -nan         -nan         -nan         -nan         -nan         -nan         -nan         -nan         -nan         -nan         -nan         -nan\r\n",
      " 0.000253668   -0.0573567 -4.73423e-10 -4.21463e-10  -0.00347861  1.53847e-05  7.51705e-09  -7.8207e-09   1.2041e-09 -0.000539618    0.0101912  2.34293e-10   -0.0179416  -0.00505857    0.0191591 -8.47342e-05 -9.06782e-11  7.11564e-11 -1.66108e-10  5.08208e-12     0.600541  2.22359e-10 -3.19286e-09         -nan         -nan         -nan         -nan         -nan         -nan         -nan         -nan         -nan         -nan         -nan         -nan\r\n",
      "  -0.0573567 -0.000253668  3.45382e-10  4.25724e-11 -1.53847e-05  -0.00347861  -4.3462e-09  4.29283e-09 -7.17403e-10   -0.0101912 -0.000539618 -1.52093e-10  -0.00505857    0.0179416  8.47341e-05    0.0191591 -1.00943e-10  2.71837e-10  3.20486e-11  5.07584e-11  2.22359e-10     0.600541 -5.04339e-09         -nan         -nan         -nan         -nan         -nan         -nan         -nan         -nan         -nan         -nan         -nan         -nan\r\n",
      " 1.98163e-10  3.36976e-10   -0.0423676   -0.0423676 -5.91195e-10 -4.72942e-10  -0.00286741   0.00286741 -0.000439152  1.50209e-09 -1.61585e-09 -0.000214841  5.05499e-11  4.23374e-11  -3.6438e-10  1.53283e-10    0.0160892   -0.0160892   0.00534516   0.00534516 -3.64972e-09 -5.04756e-09      1.98482         -nan         -nan         -nan         -nan         -nan         -nan         -nan         -nan         -nan         -nan         -nan         -nan\r\n",
      "        -nan         -nan         -nan         -nan         -nan         -nan         -nan         -nan         -nan         -nan         -nan         -nan         -nan         -nan         -nan         -nan         -nan         -nan         -nan         -nan         -nan         -nan         -nan         -nan         -nan         -nan         -nan         -nan         -nan         -nan         -nan         -nan         -nan         -nan         -nan\r\n",
      "        -nan         -nan         -nan         -nan         -nan         -nan         -nan         -nan         -nan         -nan         -nan         -nan         -nan         -nan         -nan         -nan         -nan         -nan         -nan         -nan         -nan         -nan         -nan         -nan         -nan         -nan         -nan         -nan         -nan         -nan         -nan         -nan         -nan         -nan         -nan\r\n",
      "        -nan         -nan         -nan         -nan         -nan         -nan         -nan         -nan         -nan         -nan         -nan         -nan         -nan         -nan         -nan         -nan         -nan         -nan         -nan         -nan         -nan         -nan         -nan         -nan         -nan         -nan         -nan         -nan         -nan         -nan         -nan         -nan         -nan         -nan         -nan\r\n",
      "        -nan         -nan         -nan         -nan         -nan         -nan         -nan         -nan         -nan         -nan         -nan         -nan         -nan         -nan         -nan         -nan         -nan         -nan         -nan         -nan         -nan         -nan         -nan         -nan         -nan         -nan         -nan         -nan         -nan         -nan         -nan         -nan         -nan         -nan         -nan\r\n",
      "        -nan         -nan         -nan         -nan         -nan         -nan         -nan         -nan         -nan         -nan         -nan         -nan         -nan         -nan         -nan         -nan         -nan         -nan         -nan         -nan         -nan         -nan         -nan         -nan         -nan         -nan         -nan         -nan         -nan         -nan         -nan         -nan         -nan         -nan         -nan\r\n",
      "        -nan         -nan         -nan         -nan         -nan         -nan         -nan         -nan         -nan         -nan         -nan         -nan         -nan         -nan         -nan         -nan         -nan         -nan         -nan         -nan         -nan         -nan         -nan         -nan         -nan         -nan         -nan         -nan         -nan         -nan         -nan         -nan         -nan         -nan         -nan\r\n",
      "        -nan         -nan         -nan         -nan         -nan         -nan         -nan         -nan         -nan         -nan         -nan         -nan         -nan         -nan         -nan         -nan         -nan         -nan         -nan         -nan         -nan         -nan         -nan         -nan         -nan         -nan         -nan         -nan         -nan         -nan         -nan         -nan         -nan         -nan         -nan\r\n",
      "        -nan         -nan         -nan         -nan         -nan         -nan         -nan         -nan         -nan         -nan         -nan         -nan         -nan         -nan         -nan         -nan         -nan         -nan         -nan         -nan         -nan         -nan         -nan         -nan         -nan         -nan         -nan         -nan         -nan         -nan         -nan         -nan         -nan         -nan         -nan\r\n",
      "        -nan         -nan         -nan         -nan         -nan         -nan         -nan         -nan         -nan         -nan         -nan         -nan         -nan         -nan         -nan         -nan         -nan         -nan         -nan         -nan         -nan         -nan         -nan         -nan         -nan         -nan         -nan         -nan         -nan         -nan         -nan         -nan         -nan         -nan         -nan\r\n",
      "        -nan         -nan         -nan         -nan         -nan         -nan         -nan         -nan         -nan         -nan         -nan         -nan         -nan         -nan         -nan         -nan         -nan         -nan         -nan         -nan         -nan         -nan         -nan         -nan         -nan         -nan         -nan         -nan         -nan         -nan         -nan         -nan         -nan         -nan         -nan\r\n",
      "        -nan         -nan         -nan         -nan         -nan         -nan         -nan         -nan         -nan         -nan         -nan         -nan         -nan         -nan         -nan         -nan         -nan         -nan         -nan         -nan         -nan         -nan         -nan         -nan         -nan         -nan         -nan         -nan         -nan         -nan         -nan         -nan         -nan         -nan         -nan\r\n",
      "        -nan         -nan         -nan         -nan         -nan         -nan         -nan         -nan         -nan         -nan         -nan         -nan         -nan         -nan         -nan         -nan         -nan         -nan         -nan         -nan         -nan         -nan         -nan          nan          nan          nan          nan          nan          nan          nan          nan          nan          nan          nan          nan\r\n",
      "an error occurred:\r\n",
      "Small generalized eigenvalue problem failed.\r\n"
     ]
    }
   ],
   "source": [
    "!xtp_tools -c job_name=CO geometry_optimization.maxiter=1 dftpackage.basisset=3-21G dftpackage.auxbasisset=aux-def2-svp gwbse.gw.mode=G0W0 -e dftgwbse -t 4"
   ]
  },
  {
   "cell_type": "markdown",
   "metadata": {},
   "source": [
    "Notice that we are using 4 threads. The results will be stored in a file named `CO_summary.xml` in the current work directory, together with the optimization step in `optimisation.trj` and the orbitals in [hdf5 format](https://www.hdfgroup.org/solutions/hdf5/) saved on `CO.orb`."
   ]
  }
 ],
 "metadata": {
  "kernelspec": {
   "display_name": "Python 3",
   "language": "python",
   "name": "python3"
  },
  "language_info": {
   "codemirror_mode": {
    "name": "ipython",
    "version": 3
   },
   "file_extension": ".py",
   "mimetype": "text/x-python",
   "name": "python",
   "nbconvert_exporter": "python",
   "pygments_lexer": "ipython3",
   "version": "3.10.2"
  }
 },
 "nbformat": 4,
 "nbformat_minor": 4
}
