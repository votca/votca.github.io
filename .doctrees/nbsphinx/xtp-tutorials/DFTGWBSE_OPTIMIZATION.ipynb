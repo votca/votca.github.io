{
 "cells": [
  {
   "cell_type": "markdown",
   "metadata": {},
   "source": [
    "## DFT + GWBSE Optimization Using CO"
   ]
  },
  {
   "cell_type": "markdown",
   "metadata": {},
   "source": [
    "## Introduction\n",
    "This tutorial explains how to perform a molecular geometric optimization using the **GWBSE** method. See [the GW Compendium: A Practical Guide to Theoretical Photoemission Spectroscopy](https://doi.org/10.3389/fchem.2019.00377), for an excellent introduction to the method."
   ]
  },
  {
   "cell_type": "markdown",
   "metadata": {},
   "source": [
    "## Requirements\n",
    "* You will need to install **VOTCA** using the instructions described [here](https://github.com/votca/votca/blob/master/share/doc/INSTALL.rst)\n",
    "* Once the installation is completed you need to activate the VOTCA enviroment by running the `VOTCARC.bash` script that has been installed at the bin subfolder for the path that you have provided for the installation step above"
   ]
  },
  {
   "cell_type": "markdown",
   "metadata": {},
   "source": [
    "## Preparing the input\n",
    "To run a DFT-GWBSE calculation we will use the [xtp_tools](https://www.votca.org/xtp/xtp_tools_overview.html) calculator."
   ]
  },
  {
   "cell_type": "markdown",
   "metadata": {},
   "source": [
    "we can now change the calculator mode from single point energy calculation to optimization as follows by adding \n",
    "`-c geometry_optimization.maxiter=1` which enables optimization with one iteration. "
   ]
  },
  {
   "cell_type": "markdown",
   "metadata": {},
   "source": [
    "Because geometry optimsation is quite expensive numerically we chose a smaller basisset and G0W0 Finally, to run the calculation we just need the following command (This still takes a while)"
   ]
  },
  {
   "cell_type": "code",
   "execution_count": 1,
   "metadata": {
    "execution": {
     "iopub.execute_input": "2021-10-18T00:22:58.980401Z",
     "iopub.status.busy": "2021-10-18T00:22:58.979781Z",
     "iopub.status.idle": "2021-10-18T00:23:09.858618Z",
     "shell.execute_reply": "2021-10-18T00:23:09.859116Z"
    }
   },
   "outputs": [
    {
     "name": "stdout",
     "output_type": "stream",
     "text": [
      "==================================================\r\n",
      "========   VOTCA (http://www.votca.org)   ========\r\n",
      "==================================================\r\n",
      "\r\n",
      "please submit bugs to https://github.com/votca/xtp/issues\r\n",
      "\r\n",
      "xtp_tools, version 2022-dev gitid: 586baa2 (compiled Oct 18 2021, 00:13:31)\r\n",
      "votca_csg, version 2022-dev gitid: 586baa2 (compiled Oct 17 2021, 23:58:13)\r\n",
      "votca_tools, version 2022-dev gitid: 586baa2 (compiled Oct 17 2021, 23:55:19)\r\n",
      "\r\n",
      "Initializing tool\r\n",
      "... dftgwbse Evaluating tool\r\n",
      "... dftgwbse  Using 4 threads\r\n",
      "... ... Reading structure from CO.xyz\r\n",
      "... ... Requested geometry optimization of excited state s1\r\n",
      "... ... Initial state: s1\r\n",
      "... ... WARNING: No tracker is used \r\n",
      "... ... Convergence of total energy: 0.000001 Hartree \r\n",
      "... ... Convergence of RMS Force:    0.000030 Hartree/Bohr \r\n",
      "... ... Convergence of Max Force:    0.000100 Hartree/Bohr \r\n",
      "... ... Convergence of RMS Step:     0.000600 Bohr \r\n",
      "... ... Convergence of Max Step:     0.001000 Bohr \r\n",
      "... ... Initial trust radius:        0.018897 BohrA\r\n",
      "    0.306708  1.41452e-14 -1.22458e-10  3.90429e-10  8.04492e-15    0.0516336 -4.44355e-14 -4.38284e-14  1.15532e-14  3.42975e-07    0.0181563 -6.61307e-15 -1.47367e-05    0.0389795 -6.75136e-15   -0.0421241  1.94745e-11 -2.61567e-11  1.70984e-14  1.44622e-14 -6.81731e-07    -0.108303   1.6043e-10          nan          nan          nan          nan          nan          nan          nan          nan          nan          nan          nan          nan\r\n",
      "  1.4136e-14     0.306708  4.12442e-14 -4.05822e-14    0.0516336  8.03009e-15 -1.74359e-09 -2.01157e-09  5.34414e-10    0.0181563 -3.42975e-07 -3.16684e-10    0.0389795  1.47367e-05   -0.0421241 -6.72041e-15 -1.33915e-13  1.31258e-13   3.2947e-10  3.36152e-10     0.108303 -6.81731e-07  2.55895e-15          nan          nan          nan          nan          nan          nan          nan          nan          nan          nan          nan          nan\r\n",
      "-1.22458e-10  4.12442e-14     0.319156    0.0100481 -2.43914e-14  4.19802e-11 -4.35549e-06 -4.35549e-06  1.62774e-06  1.50397e-14 -4.28644e-11 -6.96583e-07 -2.06918e-14  2.56197e-11    8.422e-15 -1.63904e-11    0.0495092  -0.00204416  1.47136e-06  1.94161e-05  1.38517e-13  1.58328e-11   -0.0252874          nan          nan          nan          nan          nan          nan          nan          nan          nan          nan          nan          nan\r\n",
      " 3.90429e-10 -4.05822e-14    0.0100481     0.319156  2.51317e-14    3.679e-10  4.35549e-06  4.35549e-06 -1.62774e-06 -1.34937e-14  1.10116e-10  6.96583e-07  2.34121e-14 -3.30932e-11 -8.98681e-15 -3.13124e-10  -0.00204416    0.0495092 -1.94161e-05 -1.47136e-06 -1.40635e-13 -5.25146e-10    0.0252874          nan          nan          nan          nan          nan          nan          nan          nan          nan          nan          nan          nan\r\n",
      " 8.03979e-15    0.0516336 -2.43914e-14  2.51317e-14     0.490609  3.20904e-15  1.69885e-09  1.28897e-09  -7.5566e-10    0.0134761 -2.54564e-07  2.05863e-10   -0.0080157 -3.03043e-06    0.0309388  -2.5467e-14  7.26279e-14 -7.41206e-14 -1.87759e-10 -1.83891e-10     0.053272  -3.3533e-07 -4.17949e-15          nan          nan          nan          nan          nan          nan          nan          nan          nan          nan          nan          nan\r\n",
      "   0.0516336  8.01351e-15  4.19802e-11    3.679e-10  3.21933e-15     0.490609  2.62758e-14  2.70005e-14 -1.50465e-14  2.54564e-07    0.0134761  4.19735e-15  3.03043e-06   -0.0080157 -2.53587e-14    0.0309388  1.41583e-11 -1.80255e-11  3.41392e-15  1.93282e-15  -3.3533e-07    -0.053272  9.98371e-11          nan          nan          nan          nan          nan          nan          nan          nan          nan          nan          nan          nan\r\n",
      "-4.44355e-14 -1.74359e-09 -4.35549e-06  4.35549e-06  1.69885e-09  2.62758e-14     0.549726     0.220522   -0.0861688 -7.16778e-10 -3.73339e-15    0.0368756  5.42594e-10   2.1717e-13 -7.89529e-10 -9.34849e-15  1.39061e-05   4.0386e-06    0.0125301    -0.034935 -6.78357e-09  1.93208e-13 -8.97537e-07          nan          nan          nan          nan          nan          nan          nan          nan          nan          nan          nan          nan\r\n",
      "-4.38285e-14 -2.01157e-09 -4.35549e-06  4.35549e-06  1.28897e-09  2.70005e-14     0.220522     0.549726   -0.0861688  -7.8403e-10 -2.15055e-15    0.0368756  5.50067e-10  2.19945e-13 -4.60014e-10 -9.96401e-15  -4.0386e-06 -1.39061e-05    -0.034935    0.0125301 -7.28252e-09  1.95403e-13 -8.97537e-07          nan          nan          nan          nan          nan          nan          nan          nan          nan          nan          nan          nan\r\n",
      " 1.15532e-14  5.34414e-10  1.62774e-06 -1.62774e-06  -7.5566e-10 -1.50465e-14   -0.0861688   -0.0861688     0.662739  4.24852e-10  9.60857e-16   0.00625217 -6.14595e-11 -2.45327e-14  4.50126e-10  9.04305e-15 -1.64385e-06  1.64385e-06   0.00414117   0.00414117  1.82084e-09 -4.93302e-14  1.65171e-07          nan          nan          nan          nan          nan          nan          nan          nan          nan          nan          nan          nan\r\n",
      " 3.42975e-07    0.0181563  1.50397e-14 -1.34938e-14    0.0134761  2.54564e-07 -7.16778e-10  -7.8403e-10  4.24852e-10     0.680027 -3.78542e-16 -3.11525e-11   7.6988e-05  3.05605e-08  -0.00866729 -1.63726e-07  -3.5208e-14  3.74634e-14  9.37656e-11  8.87454e-11    0.0410255 -1.03322e-06   1.6866e-15          nan          nan          nan          nan          nan          nan          nan          nan          nan          nan          nan          nan\r\n",
      "   0.0181563 -3.42975e-07 -4.28644e-11  1.10116e-10 -2.54564e-07    0.0134761 -3.73337e-15  -2.1505e-15  9.60787e-16 -3.87555e-16     0.680027 -5.05307e-17 -3.05605e-08   7.6988e-05  1.63726e-07  -0.00866729 -1.45179e-11  1.95381e-11 -7.51703e-15 -5.26897e-15 -1.03322e-06   -0.0410255  1.18008e-10          nan          nan          nan          nan          nan          nan          nan          nan          nan          nan          nan          nan\r\n",
      "-6.61307e-15 -3.16684e-10 -6.96583e-07  6.96583e-07  2.05863e-10  4.19734e-15    0.0368756    0.0368756   0.00625217 -3.11525e-11 -5.05114e-17     0.797893  2.21528e-10  8.81765e-14  6.39471e-11  1.27777e-15  5.76984e-06 -5.76984e-06   -0.0145354   -0.0145354  -9.5715e-10  2.54248e-14 -7.53239e-08          nan          nan          nan          nan          nan          nan          nan          nan          nan          nan          nan          nan\r\n",
      "-1.47367e-05    0.0389795 -2.06918e-14  2.34121e-14   -0.0080157  3.03043e-06  5.42594e-10  5.50067e-10 -6.14595e-11   7.6988e-05 -3.05605e-08  2.21528e-10     0.956279 -5.92905e-14    0.0131238 -4.96162e-06  1.19134e-13 -1.18835e-13 -2.31213e-10 -3.46022e-10   -0.0200194 -7.44254e-06  2.04632e-14          nan          nan          nan          nan          nan          nan          nan          nan          nan          nan          nan          nan\r\n",
      "   0.0389795  1.47367e-05  2.56197e-11 -3.30932e-11 -3.03043e-06   -0.0080157   2.1717e-13  2.19945e-13 -2.45326e-14  3.05605e-08   7.6988e-05  8.81765e-14 -5.92271e-14     0.956279  4.96162e-06    0.0131238  4.62595e-11  6.85494e-11  -1.1934e-13 -1.19057e-13 -7.44254e-06    0.0200194 -4.89096e-11          nan          nan          nan          nan          nan          nan          nan          nan          nan          nan          nan          nan\r\n",
      "-6.74217e-15   -0.0421241  8.42206e-15 -8.98686e-15    0.0309388 -2.53377e-14 -7.89529e-10 -4.60014e-10  4.50126e-10  -0.00866729  1.63726e-07  6.39471e-11    0.0131238  4.96162e-06     0.987501  -1.0945e-14  1.63106e-14  5.14868e-14   1.3445e-10 -4.39277e-11   -0.0224113  1.41072e-07  1.47535e-15          nan          nan          nan          nan          nan          nan          nan          nan          nan          nan          nan          nan\r\n",
      "  -0.0421241 -6.70176e-15 -1.63904e-11 -3.13124e-10 -2.54451e-14    0.0309388 -9.34853e-15 -9.96386e-15  9.04305e-15 -1.63726e-07  -0.00866729  1.27777e-15 -4.96162e-06    0.0131238 -1.09398e-14     0.987501  6.74218e-11  1.10956e-10 -4.15708e-14  2.62537e-14  1.41072e-07    0.0224113  1.30106e-10          nan          nan          nan          nan          nan          nan          nan          nan          nan          nan          nan          nan\r\n",
      " 1.94745e-11 -1.33915e-13    0.0495092  -0.00204416  7.26279e-14  1.41583e-11  1.39061e-05  -4.0386e-06 -1.64385e-06  -3.5208e-14 -1.45179e-11  5.76984e-06  1.19134e-13  4.62595e-11  1.63106e-14  6.74218e-11      1.02819   -0.0020693 -1.72429e-05 -1.72429e-05 -4.96078e-13  1.80141e-12  -0.00469072          nan          nan          nan          nan          nan          nan          nan          nan          nan          nan          nan          nan\r\n",
      "-2.61567e-11  1.31258e-13  -0.00204416    0.0495092 -7.41206e-14 -1.80255e-11   4.0386e-06 -1.39061e-05  1.64385e-06  3.74634e-14  1.95381e-11 -5.76984e-06 -1.18836e-13  6.85494e-11  5.14868e-14  1.10956e-10   -0.0020693      1.02819  1.72429e-05  1.72429e-05  4.62129e-13  8.99701e-11   0.00469072          nan          nan          nan          nan          nan          nan          nan          nan          nan          nan          nan          nan\r\n",
      " 1.70984e-14   3.2947e-10  1.47136e-06 -1.94161e-05 -1.87759e-10  3.41392e-15    0.0125301    -0.034935   0.00414117  9.37656e-11 -7.51703e-15   -0.0145354 -2.31213e-10  -1.1934e-13   1.3445e-10 -4.15708e-14 -1.72429e-05  1.72429e-05      1.07163    0.0455077  1.15778e-09 -6.69301e-14 -2.27231e-06          nan          nan          nan          nan          nan          nan          nan          nan          nan          nan          nan          nan\r\n",
      " 1.44622e-14  3.36152e-10  1.94161e-05 -1.47136e-06 -1.83891e-10  1.93283e-15    -0.034935    0.0125301   0.00414117  8.87454e-11 -5.26893e-15   -0.0145354 -3.46022e-10 -1.19057e-13 -4.39277e-11  2.62537e-14 -1.72429e-05  1.72429e-05    0.0455077      1.07163   1.2482e-09 -3.23822e-14 -2.27231e-06          nan          nan          nan          nan          nan          nan          nan          nan          nan          nan          nan          nan\r\n",
      " 4.73626e-07   -0.0752424 -7.83085e-14  7.98283e-14   -0.0690969  4.34942e-07  3.52652e-09  3.85259e-09 -1.17253e-09   -0.0309264  7.78875e-07  8.30841e-10   0.00901647  3.35202e-06    0.0363998 -2.29125e-07  2.83012e-13 -2.82434e-13 -7.12841e-10 -7.14105e-10    -0.194835  6.33558e-14  2.13702e-13          nan          nan          nan          nan          nan          nan          nan          nan          nan          nan          nan          nan\r\n",
      "   0.0752424  4.73626e-07 -1.03398e-10  4.38777e-10  4.34942e-07    0.0690969 -1.06509e-13 -1.07819e-13   3.3343e-14  7.78875e-07    0.0309264 -2.26331e-14  3.35202e-06  -0.00901647 -2.29125e-07   -0.0363998 -7.75993e-12  4.82562e-12  1.67441e-14  1.55254e-14  6.33382e-14    -0.194835  2.30344e-09          nan          nan          nan          nan          nan          nan          nan          nan          nan          nan          nan          nan\r\n",
      "-1.58821e-10  3.12008e-14   -0.0143253    0.0143253 -1.19152e-14 -1.71047e-10 -3.09581e-06 -3.09581e-06  1.04268e-06  1.05313e-14  4.79007e-11 -4.44788e-07 -1.96062e-15 -8.18512e-12  3.51566e-15  2.22421e-10  -0.00613234   0.00613234 -2.44508e-06 -2.44508e-06  3.36403e-13  2.19097e-09     0.954926          nan          nan          nan          nan          nan          nan          nan          nan          nan          nan          nan          nan\r\n",
      "        -nan         -nan         -nan         -nan         -nan         -nan         -nan         -nan         -nan         -nan         -nan         -nan         -nan         -nan         -nan         -nan         -nan         -nan         -nan         -nan         -nan         -nan         -nan          nan          nan          nan          nan          nan          nan          nan          nan          nan          nan          nan          nan\r\n",
      "        -nan         -nan         -nan         -nan         -nan         -nan         -nan         -nan         -nan         -nan         -nan         -nan         -nan         -nan         -nan         -nan         -nan         -nan         -nan         -nan         -nan         -nan         -nan         -nan         -nan         -nan         -nan         -nan         -nan         -nan         -nan         -nan         -nan         -nan         -nan\r\n",
      "        -nan         -nan         -nan         -nan         -nan         -nan         -nan         -nan         -nan         -nan         -nan         -nan         -nan         -nan         -nan         -nan         -nan         -nan         -nan         -nan         -nan         -nan         -nan         -nan         -nan         -nan         -nan         -nan         -nan         -nan         -nan         -nan         -nan         -nan         -nan\r\n",
      "        -nan         -nan         -nan         -nan         -nan         -nan         -nan         -nan         -nan         -nan         -nan         -nan         -nan         -nan         -nan         -nan         -nan         -nan         -nan         -nan         -nan         -nan         -nan          nan          nan          nan          nan          nan          nan          nan          nan          nan          nan          nan          nan\r\n",
      "        -nan         -nan         -nan         -nan         -nan         -nan         -nan         -nan         -nan         -nan         -nan         -nan         -nan         -nan         -nan         -nan         -nan         -nan         -nan         -nan         -nan         -nan         -nan          nan          nan          nan          nan          nan          nan          nan          nan          nan          nan          nan          nan\r\n",
      "        -nan         -nan         -nan         -nan         -nan         -nan         -nan         -nan         -nan         -nan         -nan         -nan         -nan         -nan         -nan         -nan         -nan         -nan         -nan         -nan         -nan         -nan         -nan         -nan         -nan         -nan         -nan         -nan         -nan         -nan         -nan         -nan         -nan         -nan         -nan\r\n",
      "        -nan         -nan         -nan         -nan         -nan         -nan         -nan         -nan         -nan         -nan         -nan         -nan         -nan         -nan         -nan         -nan         -nan         -nan         -nan         -nan         -nan         -nan         -nan         -nan         -nan         -nan         -nan         -nan         -nan         -nan         -nan         -nan         -nan         -nan         -nan\r\n",
      "        -nan         -nan         -nan         -nan         -nan         -nan         -nan         -nan         -nan         -nan         -nan         -nan         -nan         -nan         -nan         -nan         -nan         -nan         -nan         -nan         -nan         -nan         -nan          nan          nan          nan          nan          nan          nan          nan          nan          nan          nan          nan          nan\r\n",
      "        -nan         -nan         -nan         -nan         -nan         -nan         -nan         -nan         -nan         -nan         -nan         -nan         -nan         -nan         -nan         -nan         -nan         -nan         -nan         -nan         -nan         -nan         -nan          nan          nan          nan          nan          nan          nan          nan          nan          nan          nan          nan          nan\r\n",
      "        -nan         -nan         -nan         -nan         -nan         -nan         -nan         -nan         -nan         -nan         -nan         -nan         -nan         -nan         -nan         -nan         -nan         -nan         -nan         -nan         -nan         -nan         -nan         -nan          nan          nan          nan         -nan          nan          nan          nan         -nan          nan          nan          nan\r\n",
      "        -nan         -nan         -nan         -nan         -nan         -nan         -nan         -nan         -nan         -nan         -nan         -nan         -nan         -nan         -nan         -nan         -nan         -nan         -nan         -nan         -nan         -nan         -nan         -nan          nan          nan          nan         -nan          nan          nan          nan         -nan          nan          nan          nan\r\n",
      "        -nan         -nan         -nan         -nan         -nan         -nan         -nan         -nan         -nan         -nan         -nan         -nan         -nan         -nan         -nan         -nan         -nan         -nan         -nan         -nan         -nan         -nan         -nan         -nan         -nan         -nan         -nan         -nan         -nan         -nan         -nan         -nan         -nan         -nan         -nan\r\n",
      "B\r\n",
      "   0.0935659  6.50886e-15 -6.09653e-11  2.33641e-10  5.02426e-15    0.0328713 -1.92783e-14 -1.88923e-14  7.16017e-15  2.92895e-07    0.0155052  -4.5709e-15 -1.82656e-05    0.0483139 -7.97081e-15   -0.0481173  1.98719e-11 -2.29721e-11  1.47005e-14  1.34126e-14  -1.5766e-07   -0.0250466 -5.23668e-11         -nan         -nan         -nan         -nan         -nan         -nan         -nan         -nan         -nan         -nan         -nan         -nan\r\n",
      " 6.49657e-15    0.0935659  1.80531e-14 -1.76417e-14    0.0328713  5.02124e-15 -6.93484e-10  -8.6616e-10  3.29987e-10    0.0155052 -2.92895e-07 -2.18245e-10    0.0483139  1.82656e-05   -0.0481173  -7.9344e-15 -1.12109e-13  1.10798e-13  2.78098e-10  2.81198e-10    0.0250466  -1.5766e-07  3.40334e-14         -nan         -nan         -nan         -nan         -nan         -nan         -nan         -nan         -nan         -nan         -nan         -nan\r\n",
      "-6.09653e-11   1.8053e-14      0.10504   0.00568231 -1.43741e-14  2.62124e-11 -2.20074e-06 -2.20074e-06  1.19502e-06  1.15223e-14 -4.11685e-11 -5.45931e-07 -1.99527e-14   2.6251e-11  9.54405e-15 -2.15887e-11    0.0670098  -0.00240141  1.53627e-06  2.59622e-05  2.08155e-14 -9.09165e-11   -0.0419176         -nan         -nan         -nan         -nan         -nan         -nan         -nan         -nan         -nan         -nan         -nan         -nan\r\n",
      " 2.33641e-10 -1.76417e-14   0.00568231      0.10504  1.49146e-14  2.63301e-10  2.20074e-06  2.20074e-06 -1.19502e-06 -9.97677e-15  1.08726e-10  5.45931e-07  2.26022e-14 -3.35762e-11 -1.02435e-14 -3.84219e-10  -0.00240141    0.0670098 -2.59622e-05 -1.53627e-06 -2.13329e-14 -8.33993e-11    0.0419176         -nan         -nan         -nan         -nan         -nan         -nan         -nan         -nan         -nan         -nan         -nan         -nan\r\n",
      " 5.02199e-15    0.0328713 -1.43741e-14  1.49146e-14     0.240584  2.29623e-15  1.05286e-09  7.63349e-10 -6.49827e-10    0.0144632  -2.7321e-07  1.73493e-10  -0.00916843 -3.46623e-06    0.0440553 -3.51486e-14   6.4299e-14 -5.96637e-14 -1.51136e-10 -1.63432e-10  -0.00432456  2.72217e-08 -1.66923e-14         -nan         -nan         -nan         -nan         -nan         -nan         -nan         -nan         -nan         -nan         -nan         -nan\r\n",
      "   0.0328713  5.00896e-15  2.62124e-11  2.63301e-10  2.30569e-15     0.240584  1.56183e-14   1.6149e-14 -1.29762e-14   2.7321e-07    0.0144632  3.58786e-15  3.46623e-06  -0.00916843 -3.50062e-14    0.0440553  2.41341e-11 -1.18381e-11   1.6392e-15  6.29136e-15  2.72217e-08   0.00432456 -2.19107e-11         -nan         -nan         -nan         -nan         -nan         -nan         -nan         -nan         -nan         -nan         -nan         -nan\r\n",
      "-1.92783e-14 -6.93484e-10 -2.20074e-06  2.20074e-06  1.05286e-09  1.56183e-14     0.221542      0.11082   -0.0632617 -5.30873e-10 -3.32823e-15    0.0289004  4.89917e-10  1.96122e-13  -9.2688e-10  -1.0667e-14   1.2297e-05   1.2129e-05    0.0337442   -0.0308642 -1.18894e-09  2.92413e-14 -3.94071e-06         -nan         -nan         -nan         -nan         -nan         -nan         -nan         -nan         -nan         -nan         -nan         -nan\r\n",
      "-1.88924e-14  -8.6616e-10 -2.20074e-06  2.20074e-06  7.63349e-10  1.61489e-14      0.11082     0.221542   -0.0632617  -5.9843e-10 -1.74652e-15    0.0289004  4.97242e-10  1.98834e-13 -5.21072e-10 -1.14264e-14  -1.2129e-05  -1.2297e-05   -0.0308642    0.0337442 -1.36166e-09  3.01847e-14 -3.94071e-06         -nan         -nan         -nan         -nan         -nan         -nan         -nan         -nan         -nan         -nan         -nan         -nan\r\n",
      " 7.16016e-15  3.29987e-10  1.19502e-06 -1.19502e-06 -6.49827e-10 -1.29762e-14   -0.0632617   -0.0632617     0.428924  4.79327e-10  1.08279e-15     0.012098 -1.75715e-11 -6.98707e-15  6.21667e-10   1.2482e-14 -1.08766e-08  1.08765e-08  2.74002e-05  2.74002e-05  4.95217e-10 -1.13704e-14  1.19269e-06         -nan         -nan         -nan         -nan         -nan         -nan         -nan         -nan         -nan         -nan         -nan         -nan\r\n",
      " 2.92895e-07    0.0155052  1.15223e-14 -9.97685e-15    0.0144632   2.7321e-07 -5.30873e-10  -5.9843e-10  4.79327e-10     0.462759  -5.0682e-16  2.96001e-13  0.000635208  2.52147e-07   -0.0104064 -1.96577e-07 -3.32778e-14  3.59065e-14  8.94167e-11  8.39334e-11    0.0177344 -4.46637e-07  1.24361e-14         -nan         -nan         -nan         -nan         -nan         -nan         -nan         -nan         -nan         -nan         -nan         -nan\r\n",
      "   0.0155052 -2.92895e-07 -4.11685e-11  1.08726e-10  -2.7321e-07    0.0144632 -3.32817e-15 -1.74644e-15  1.08268e-15 -5.21506e-16     0.462759  2.24276e-17 -2.52147e-07  0.000635208  1.96577e-07   -0.0104064  -3.0799e-11  3.62824e-11 -1.41421e-14 -1.15217e-14 -4.46637e-07   -0.0177344  1.14126e-10         -nan         -nan         -nan         -nan         -nan         -nan         -nan         -nan         -nan         -nan         -nan         -nan\r\n",
      " -4.5709e-15 -2.18245e-10 -5.45931e-07  5.45931e-07  1.73493e-10  3.58783e-15    0.0289004    0.0289004     0.012098  2.96001e-13  2.24535e-17     0.635437     3.22e-10  1.28124e-13  1.32652e-10  2.64482e-15  8.33719e-06 -8.33719e-06    -0.021003    -0.021003 -1.07108e-10    1.964e-15 -5.28346e-07         -nan         -nan         -nan         -nan         -nan         -nan         -nan         -nan         -nan         -nan         -nan         -nan\r\n",
      "-1.82656e-05    0.0483139 -1.99526e-14  2.26022e-14  -0.00916843  3.46623e-06  4.89917e-10  4.97242e-10 -1.75715e-11  0.000635208 -2.52147e-07     3.22e-10     0.916802 -1.04648e-13    0.0222399 -8.40807e-06  2.03726e-13 -2.03142e-13 -3.71312e-10 -6.02973e-10   -0.0232165 -8.63112e-06  3.85053e-14         -nan         -nan         -nan         -nan         -nan         -nan         -nan         -nan         -nan         -nan         -nan         -nan\r\n",
      "   0.0483139  1.82656e-05   2.6251e-11 -3.35762e-11 -3.46623e-06  -0.00916843  1.96122e-13  1.98834e-13 -6.98705e-15  2.52147e-07  0.000635208  1.28124e-13 -1.04523e-13     0.916802  8.40807e-06    0.0222399  9.04564e-11  1.41204e-10 -2.03976e-13 -2.03417e-13 -8.63112e-06    0.0232165  -1.0423e-10         -nan         -nan         -nan         -nan         -nan         -nan         -nan         -nan         -nan         -nan         -nan         -nan\r\n",
      "-7.95869e-15   -0.0481173  9.54413e-15 -1.02436e-14    0.0440553 -3.49766e-14  -9.2688e-10 -5.21072e-10  6.21667e-10   -0.0104064  1.96577e-07  1.32652e-10    0.0222399  8.40807e-06      0.97942 -2.08695e-14   4.2487e-14  8.20679e-14  2.15076e-10  -1.1263e-10   0.00417248 -2.62644e-08  5.79463e-15         -nan         -nan         -nan         -nan         -nan         -nan         -nan         -nan         -nan         -nan         -nan         -nan\r\n",
      "  -0.0481173 -7.90868e-15 -2.15887e-11 -3.84219e-10 -3.51157e-14    0.0440553  -1.0667e-14 -1.14261e-14   1.2482e-14 -1.96577e-07   -0.0104064  2.64482e-15 -8.40807e-06    0.0222399 -2.08523e-14      0.97942  1.31024e-10  1.96682e-10 -7.41571e-14  5.04475e-14 -2.62644e-08  -0.00417248  4.31217e-10         -nan         -nan         -nan         -nan         -nan         -nan         -nan         -nan         -nan         -nan         -nan         -nan\r\n",
      " 1.98719e-11 -1.12109e-13    0.0670098  -0.00240141   6.4299e-14  2.41341e-11   1.2297e-05  -1.2129e-05 -1.08766e-08 -3.32778e-14  -3.0799e-11  8.33719e-06  2.03726e-13  9.04564e-11   4.2487e-14  1.31024e-10       1.0596  -0.00440413 -3.22054e-05 -3.22054e-05 -2.81055e-13 -2.35523e-11   -0.0159918         -nan         -nan         -nan         -nan         -nan         -nan         -nan         -nan         -nan         -nan         -nan         -nan\r\n",
      "-2.29721e-11  1.10798e-13  -0.00240141    0.0670098 -5.96637e-14 -1.18381e-11   1.2129e-05  -1.2297e-05  1.08765e-08  3.59066e-14  3.62824e-11 -8.33719e-06 -2.03142e-13  1.41204e-10  8.20679e-14  1.96682e-10  -0.00440413       1.0596  3.22054e-05  3.22054e-05  2.28393e-13  1.64384e-10    0.0159918         -nan         -nan         -nan         -nan         -nan         -nan         -nan         -nan         -nan         -nan         -nan         -nan\r\n",
      " 1.47005e-14  2.78098e-10  1.53627e-06 -2.59622e-05 -1.51136e-10  1.63919e-15    0.0337442   -0.0308642  2.74002e-05  8.94167e-11  -1.4142e-14    -0.021003 -3.71312e-10 -2.03976e-13  2.15076e-10 -7.41571e-14 -3.22054e-05  3.22054e-05      1.14073     0.085536   5.6204e-10 -8.11657e-14 -7.08574e-06         -nan         -nan         -nan         -nan         -nan         -nan         -nan         -nan         -nan         -nan         -nan         -nan\r\n",
      " 1.34126e-14  2.81198e-10  2.59622e-05 -1.53627e-06 -1.63432e-10  6.29136e-15   -0.0308642    0.0337442  2.74002e-05  8.39334e-11 -1.15216e-14    -0.021003 -6.02973e-10 -2.03417e-13  -1.1263e-10  5.04475e-14 -3.22054e-05  3.22054e-05     0.085536      1.14073  7.02583e-10 -2.82918e-14 -7.08574e-06         -nan         -nan         -nan         -nan         -nan         -nan         -nan         -nan         -nan         -nan         -nan         -nan\r\n",
      " -3.6039e-07    0.0572532  7.85953e-14  -7.9616e-14  -0.00341529  2.14981e-08 -4.12839e-09 -4.38904e-09  6.37934e-10    0.0102623 -2.58454e-07 -1.16523e-10   -0.0185867 -6.90994e-06    0.0190696 -1.20037e-07 -6.04609e-14 -1.46052e-14 -5.04665e-11  1.50414e-10     0.599386  1.14546e-13  2.95185e-13         -nan         -nan         -nan         -nan         -nan         -nan         -nan         -nan         -nan         -nan         -nan         -nan\r\n",
      "  -0.0572532  -3.6039e-07 -8.19172e-11 -1.79426e-10  2.14981e-08   0.00341529  1.14039e-13  1.15245e-13 -1.60841e-14 -2.58454e-07   -0.0102623  2.71712e-15 -6.90994e-06    0.0185867 -1.20037e-07   -0.0190696  2.12095e-11  1.78422e-10 -7.05441e-14  4.20584e-15  1.14537e-13     0.599386  2.61311e-09         -nan         -nan         -nan         -nan         -nan         -nan         -nan         -nan         -nan         -nan         -nan         -nan\r\n",
      " 6.18676e-11  2.71042e-14   -0.0423952    0.0423952 -1.81882e-14  5.25864e-11 -3.65572e-06 -3.65572e-06  1.29491e-06   1.3411e-14    8.879e-11 -5.86856e-07  4.11629e-14 -1.15882e-10  6.62551e-15  4.93167e-10    -0.016942     0.016942  -7.3057e-06  -7.3057e-06  4.09345e-13  2.39357e-09       1.9863         -nan         -nan         -nan         -nan         -nan         -nan         -nan         -nan         -nan         -nan         -nan         -nan\r\n",
      "        -nan         -nan         -nan         -nan         -nan         -nan         -nan         -nan         -nan         -nan         -nan         -nan         -nan         -nan         -nan         -nan         -nan         -nan         -nan         -nan         -nan         -nan         -nan         -nan         -nan         -nan         -nan         -nan         -nan         -nan         -nan         -nan         -nan         -nan         -nan\r\n",
      "        -nan         -nan         -nan         -nan         -nan         -nan         -nan         -nan         -nan         -nan         -nan         -nan         -nan         -nan         -nan         -nan         -nan         -nan         -nan         -nan         -nan         -nan         -nan         -nan         -nan         -nan         -nan         -nan         -nan         -nan         -nan         -nan         -nan         -nan         -nan\r\n",
      "        -nan         -nan         -nan         -nan         -nan         -nan         -nan         -nan         -nan         -nan         -nan         -nan         -nan         -nan         -nan         -nan         -nan         -nan         -nan         -nan         -nan         -nan         -nan         -nan         -nan         -nan         -nan         -nan         -nan         -nan         -nan         -nan         -nan         -nan         -nan\r\n",
      "        -nan         -nan         -nan         -nan         -nan         -nan         -nan         -nan         -nan         -nan         -nan         -nan         -nan         -nan         -nan         -nan         -nan         -nan         -nan         -nan         -nan         -nan         -nan         -nan         -nan         -nan         -nan         -nan         -nan         -nan         -nan         -nan         -nan         -nan         -nan\r\n",
      "        -nan         -nan         -nan         -nan         -nan         -nan         -nan         -nan         -nan         -nan         -nan         -nan         -nan         -nan         -nan         -nan         -nan         -nan         -nan         -nan         -nan         -nan         -nan         -nan         -nan         -nan         -nan         -nan         -nan         -nan         -nan         -nan         -nan         -nan         -nan\r\n",
      "        -nan         -nan         -nan         -nan         -nan         -nan         -nan         -nan         -nan         -nan         -nan         -nan         -nan         -nan         -nan         -nan         -nan         -nan         -nan         -nan         -nan         -nan         -nan         -nan         -nan         -nan         -nan         -nan         -nan         -nan         -nan         -nan         -nan         -nan         -nan\r\n",
      "        -nan         -nan         -nan         -nan         -nan         -nan         -nan         -nan         -nan         -nan         -nan         -nan         -nan         -nan         -nan         -nan         -nan         -nan         -nan         -nan         -nan         -nan         -nan         -nan         -nan         -nan         -nan         -nan         -nan         -nan         -nan         -nan         -nan         -nan         -nan\r\n",
      "        -nan         -nan         -nan         -nan         -nan         -nan         -nan         -nan         -nan         -nan         -nan         -nan         -nan         -nan         -nan         -nan         -nan         -nan         -nan         -nan         -nan         -nan         -nan         -nan         -nan         -nan         -nan         -nan         -nan         -nan         -nan         -nan         -nan         -nan         -nan\r\n",
      "        -nan         -nan         -nan         -nan         -nan         -nan         -nan         -nan         -nan         -nan         -nan         -nan         -nan         -nan         -nan         -nan         -nan         -nan         -nan         -nan         -nan         -nan         -nan         -nan         -nan         -nan         -nan         -nan         -nan         -nan         -nan         -nan         -nan         -nan         -nan\r\n",
      "        -nan         -nan         -nan         -nan         -nan         -nan         -nan         -nan         -nan         -nan         -nan         -nan         -nan         -nan         -nan         -nan         -nan         -nan         -nan         -nan         -nan         -nan         -nan         -nan         -nan         -nan         -nan         -nan         -nan         -nan         -nan         -nan         -nan         -nan         -nan\r\n",
      "        -nan         -nan         -nan         -nan         -nan         -nan         -nan         -nan         -nan         -nan         -nan         -nan         -nan         -nan         -nan         -nan         -nan         -nan         -nan         -nan         -nan         -nan         -nan         -nan         -nan         -nan         -nan         -nan         -nan         -nan         -nan         -nan         -nan         -nan         -nan\r\n",
      "        -nan         -nan         -nan         -nan         -nan         -nan         -nan         -nan         -nan         -nan         -nan         -nan         -nan         -nan         -nan         -nan         -nan         -nan         -nan         -nan         -nan         -nan         -nan          nan          nan          nan          nan          nan          nan          nan          nan          nan          nan          nan          nan\r\n",
      "an error occurred:\r\n",
      "Small generalized eigenvalue problem failed.\r\n"
     ]
    }
   ],
   "source": [
    "!xtp_tools -c job_name=CO geometry_optimization.maxiter=1 dftpackage.basisset=3-21G dftpackage.auxbasisset=aux-def2-svp gwbse.gw.mode=G0W0 -e dftgwbse -t 4"
   ]
  },
  {
   "cell_type": "markdown",
   "metadata": {},
   "source": [
    "Notice that we are using 4 threads. The results will be stored in a file named `CO_summary.xml` in the current work directory, together with the optimization step in `optimisation.trj` and the orbitals in [hdf5 format](https://www.hdfgroup.org/solutions/hdf5/) saved on `CO.orb`."
   ]
  }
 ],
 "metadata": {
  "kernelspec": {
   "display_name": "Python 3",
   "language": "python",
   "name": "python3"
  },
  "language_info": {
   "codemirror_mode": {
    "name": "ipython",
    "version": 3
   },
   "file_extension": ".py",
   "mimetype": "text/x-python",
   "name": "python",
   "nbconvert_exporter": "python",
   "pygments_lexer": "ipython3",
   "version": "3.9.7"
  }
 },
 "nbformat": 4,
 "nbformat_minor": 4
}
