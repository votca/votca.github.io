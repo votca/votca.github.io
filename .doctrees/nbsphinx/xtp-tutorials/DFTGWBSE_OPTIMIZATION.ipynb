{
 "cells": [
  {
   "cell_type": "markdown",
   "metadata": {},
   "source": [
    "## DFT + GWBSE Optimization Using CO"
   ]
  },
  {
   "cell_type": "markdown",
   "metadata": {},
   "source": [
    "## Introduction\n",
    "This tutorial explains how to perform a molecular geometric optimization using the **GWBSE** method. See [the GW Compendium: A Practical Guide to Theoretical Photoemission Spectroscopy](https://doi.org/10.3389/fchem.2019.00377), for an excellent introduction to the method."
   ]
  },
  {
   "cell_type": "markdown",
   "metadata": {},
   "source": [
    "## Requirements\n",
    "* You will need to install **VOTCA** using the instructions described [here](https://github.com/votca/votca/blob/master/share/doc/INSTALL.rst)\n",
    "* Once the installation is completed you need to activate the VOTCA enviroment by running the `VOTCARC.bash` script that has been installed at the bin subfolder for the path that you have provided for the installation step above"
   ]
  },
  {
   "cell_type": "markdown",
   "metadata": {},
   "source": [
    "## Preparing the input\n",
    "To run a DFT-GWBSE calculation we will use the [xtp_tools](https://www.votca.org/xtp/xtp_tools_overview.html) calculator."
   ]
  },
  {
   "cell_type": "markdown",
   "metadata": {},
   "source": [
    "we can now change the calculator mode from single point energy calculation to optimization as follows by adding \n",
    "`-c geometry_optimization.maxiter=1` which enables optimization with one iteration. "
   ]
  },
  {
   "cell_type": "markdown",
   "metadata": {},
   "source": [
    "Because geometry optimsation is quite expensive numerically we chose a smaller basisset and G0W0 Finally, to run the calculation we just need the following command (This still takes a while)"
   ]
  },
  {
   "cell_type": "code",
   "execution_count": 1,
   "metadata": {
    "execution": {
     "iopub.execute_input": "2023-01-20T06:04:21.848624Z",
     "iopub.status.busy": "2023-01-20T06:04:21.848244Z",
     "iopub.status.idle": "2023-01-20T06:04:57.245870Z",
     "shell.execute_reply": "2023-01-20T06:04:57.245229Z"
    }
   },
   "outputs": [
    {
     "name": "stdout",
     "output_type": "stream",
     "text": [
      "==================================================\r\n",
      "========   VOTCA (http://www.votca.org)   ========\r\n",
      "==================================================\r\n",
      "\r\n",
      "please submit bugs to https://github.com/votca/votca/issues\r\n",
      "\r\n",
      "xtp_tools, version 2023-dev gitid: c8f65e1 (compiled Jan 20 2023, 05:38:13)\r\n",
      "\r\n",
      "Initializing tool\r\n",
      "... dftgwbse Evaluating tool\r\n",
      "... dftgwbse  Using 4 threads\r\n",
      "... ... Reading structure from CO.xyz\r\n",
      "... ... Requested geometry optimization of excited state s1\r\n",
      "... ... Initial state: s1\r\n",
      "... ... WARNING: No tracker is used \r\n",
      "... ... Convergence of total energy: 0.000001 Hartree \r\n",
      "... ... Convergence of RMS Force:    0.000030 Hartree/Bohr \r\n",
      "... ... Convergence of Max Force:    0.000100 Hartree/Bohr \r\n",
      "... ... Convergence of RMS Step:     0.000600 Bohr \r\n",
      "... ... Convergence of Max Step:     0.001000 Bohr \r\n",
      "... ... Initial trust radius:        0.018897 BohrA\r\n",
      "    0.307132 -3.10606e-11  4.46576e-11 -2.30816e-10   2.3537e-11   -0.0516061   8.5552e-10  7.78983e-10 -3.22602e-10    0.0181637  -0.00105866 -7.15145e-11    0.0103675    0.0375713    -2.03e-11    0.0421019 -2.33162e-10  1.30847e-10 -3.01324e-10  -1.0706e-10  0.000482207    -0.108408 -1.28157e-10          nan          nan          nan          nan          nan          nan          nan          nan          nan          nan          nan          nan\r\n",
      "-3.10606e-11     0.307132   -1.472e-10  7.06637e-11   -0.0516061   2.3537e-11  9.00329e-10  1.08649e-09 -1.97434e-10   0.00105866    0.0181637 -2.25165e-10    0.0375713   -0.0103675    0.0421019    -2.03e-11 -1.94011e-11  2.13664e-10 -9.72936e-11  5.02144e-12    -0.108408 -0.000482207 -1.34889e-11          nan          nan          nan          nan          nan          nan          nan          nan          nan          nan          nan          nan\r\n",
      " 4.46576e-11   -1.472e-10      0.32063   0.00926487  1.56585e-10  1.02959e-10    0.0133885    0.0133885  -0.00499285 -5.81963e-11  -1.4625e-11  -0.00212711 -8.94642e-11  1.83534e-10 -1.71723e-10 -2.08933e-11    0.0470537  -0.00128377  -0.00258773   -0.0152176  1.82111e-10 -3.05915e-10   -0.0254906          nan          nan          nan          nan          nan          nan          nan          nan          nan          nan          nan          nan\r\n",
      "-2.30816e-10  7.06637e-11   0.00926487      0.32063 -1.69906e-10  3.23983e-10   -0.0133885   -0.0133885   0.00499285 -5.01122e-11  6.87393e-11   0.00212711  7.30921e-11 -1.45078e-10  6.90881e-11 -1.85881e-10  -0.00128377    0.0470537    0.0152176   0.00258773 -1.68629e-10  7.90257e-10    0.0254906          nan          nan          nan          nan          nan          nan          nan          nan          nan          nan          nan          nan\r\n",
      "  2.3537e-11   -0.0516061  1.56585e-10 -1.69906e-10     0.490902 -2.89452e-12  1.80082e-09  1.37388e-09  -8.2072e-10 -0.000783356   -0.0134403  -1.9845e-10   0.00770587  -0.00212638    0.0309987  6.70526e-11 -6.53262e-11  -1.8955e-10 -1.33943e-10 -2.73749e-10    0.0531267  0.000236312  1.67514e-10          nan          nan          nan          nan          nan          nan          nan          nan          nan          nan          nan          nan\r\n",
      "  -0.0516061   2.3537e-11  1.02959e-10  3.23983e-10 -2.89448e-12     0.490902  -2.5466e-10 -2.67981e-10  1.55059e-10   -0.0134403  0.000783356  1.92882e-11   0.00212638   0.00770586  6.70528e-11    0.0309987  1.90949e-10  -5.1142e-11  9.18209e-11 -1.63055e-10 -0.000236312    0.0531267  2.48342e-10          nan          nan          nan          nan          nan          nan          nan          nan          nan          nan          nan          nan\r\n",
      "  8.5552e-10  9.00329e-10    0.0133885   -0.0133885  1.80082e-09  -2.5466e-10      0.54956     0.219665   -0.0856641  -7.1167e-12  6.43995e-10   -0.0364956 -1.85325e-09  2.97904e-09 -9.22297e-10  3.15904e-10   -0.0113559  -0.00127399    0.0127109    -0.033059  5.12556e-10  -7.4601e-09    -0.001573          nan          nan          nan          nan          nan          nan          nan          nan          nan          nan          nan          nan\r\n",
      " 7.78983e-10  1.08649e-09    0.0133885   -0.0133885  1.37388e-09 -2.67981e-10     0.219665      0.54956   -0.0856641  4.69976e-11  7.52303e-10   -0.0364956 -1.89171e-09  2.96267e-09 -7.15522e-10  2.13269e-10   0.00127399    0.0113559    -0.033059    0.0127109  4.20195e-11 -7.44288e-09    -0.001573          nan          nan          nan          nan          nan          nan          nan          nan          nan          nan          nan          nan\r\n",
      "-3.22602e-10 -1.97434e-10  -0.00499285   0.00499285  -8.2072e-10  1.55059e-10   -0.0856641   -0.0856641     0.662947 -1.74994e-10 -2.31591e-10  -0.00632525  4.08128e-10 -7.41443e-10  5.58313e-10 -1.54285e-10   0.00131686  -0.00131686   0.00387665   0.00387665  -9.1967e-10  2.85838e-09   0.00114533          nan          nan          nan          nan          nan          nan          nan          nan          nan          nan          nan          nan\r\n",
      "   0.0181637   0.00105866 -5.81963e-11 -5.01122e-11 -0.000783356   -0.0134403  -7.1167e-12  4.69976e-11 -1.74994e-10     0.680922  1.58565e-12  8.85882e-11  2.70781e-05  7.97142e-05  0.000502542   0.00862229 -3.65297e-10 -3.65884e-11  6.95858e-11  8.84061e-10  -0.00220499   -0.0409683 -8.96061e-10          nan          nan          nan          nan          nan          nan          nan          nan          nan          nan          nan          nan\r\n",
      " -0.00105866    0.0181637  -1.4625e-11  6.87393e-11   -0.0134403  0.000783356  6.43995e-10  7.52303e-10 -2.31591e-10  1.58579e-12     0.680922 -1.12767e-10  7.97142e-05 -2.70781e-05   0.00862229 -0.000502542 -5.79058e-11  8.72381e-10 -5.51349e-10 -1.49463e-10   -0.0409683   0.00220499 -8.14802e-10          nan          nan          nan          nan          nan          nan          nan          nan          nan          nan          nan          nan\r\n",
      "-7.15145e-11 -2.25165e-10  -0.00212711   0.00212711  -1.9845e-10  1.92882e-11   -0.0364956   -0.0364956  -0.00632525  8.85882e-11 -1.12767e-10      0.79826  3.98336e-10 -4.68383e-10 -1.57935e-11   -4.966e-11   0.00465565  -0.00465565    0.0137056    0.0137056  8.87341e-11  8.70736e-10  0.000453968          nan          nan          nan          nan          nan          nan          nan          nan          nan          nan          nan          nan\r\n",
      "   0.0103675    0.0375713 -8.94642e-11  7.30921e-11   0.00770587   0.00212638 -1.85325e-09 -1.89171e-09  4.08128e-10  2.70781e-05  7.97142e-05  3.98336e-10     0.956418  4.28721e-11   -0.0126687  -0.00349584   3.0401e-10 -4.16215e-10  1.05004e-09  1.04941e-09    0.0192775   0.00541187  3.06133e-11          nan          nan          nan          nan          nan          nan          nan          nan          nan          nan          nan          nan\r\n",
      "   0.0375713   -0.0103675  1.83534e-10 -1.45078e-10  -0.00212638   0.00770586  2.97904e-09  2.96267e-09 -7.41443e-10  7.97142e-05 -2.70781e-05 -4.68383e-10  4.28721e-11     0.956418   0.00349584   -0.0126687 -5.77253e-10  5.77873e-10 -1.67381e-09 -1.78601e-09  -0.00541187    0.0192775  -7.9358e-12          nan          nan          nan          nan          nan          nan          nan          nan          nan          nan          nan          nan\r\n",
      "   -2.03e-11    0.0421019 -1.71723e-10  6.90881e-11    0.0309987  6.70528e-11 -9.22297e-10 -7.15522e-10  5.58313e-10  0.000502542   0.00862229 -1.57935e-11   -0.0126687   0.00349584     0.988566  3.78926e-11  8.54062e-12 -1.86412e-10  2.23284e-10 -1.98105e-11   -0.0223628 -9.94718e-05  3.66068e-10          nan          nan          nan          nan          nan          nan          nan          nan          nan          nan          nan          nan\r\n",
      "   0.0421019    -2.03e-11 -2.08933e-11 -1.85881e-10  6.70527e-11    0.0309987  3.15904e-10  2.13269e-10 -1.54285e-10   0.00862229 -0.000502542   -4.966e-11  -0.00349584   -0.0126687  3.78927e-11     0.988566  1.22022e-10  1.21073e-10 -1.17781e-11 -1.89649e-10  9.94718e-05   -0.0223628  4.45755e-10          nan          nan          nan          nan          nan          nan          nan          nan          nan          nan          nan          nan\r\n",
      "-2.33162e-10 -1.94011e-11    0.0470537  -0.00128377 -6.53262e-11  1.90949e-10   -0.0113559   0.00127399   0.00131686 -3.65297e-10 -5.79058e-11   0.00465565   3.0401e-10 -5.77253e-10  8.54062e-12  1.22022e-10      1.03321   -0.0065677    0.0132465    0.0132465  -5.7766e-11    5.065e-10  -0.00427271          nan          nan          nan          nan          nan          nan          nan          nan          nan          nan          nan          nan\r\n",
      " 1.30847e-10  2.13664e-10  -0.00128377    0.0470537  -1.8955e-10  -5.1142e-11  -0.00127399    0.0113559  -0.00131686 -3.65884e-11  8.72381e-10  -0.00465565 -4.16215e-10  5.77873e-10 -1.86412e-10  1.21073e-10   -0.0065677      1.03321   -0.0132465   -0.0132465  6.24033e-11 -5.85549e-10   0.00427271          nan          nan          nan          nan          nan          nan          nan          nan          nan          nan          nan          nan\r\n",
      "-3.01324e-10 -9.72936e-11  -0.00258773    0.0152176 -1.33943e-10  9.18209e-11    0.0127109    -0.033059   0.00387665  6.95858e-11 -5.51349e-10    0.0137056  1.05004e-09 -1.67381e-09  2.23284e-10 -1.17781e-11    0.0132465   -0.0132465       1.0677    0.0410638 -2.87536e-10  1.40587e-09    0.0020511          nan          nan          nan          nan          nan          nan          nan          nan          nan          nan          nan          nan\r\n",
      " -1.0706e-10  5.02144e-12   -0.0152176   0.00258773 -2.73749e-10 -1.63055e-10    -0.033059    0.0127109   0.00387665  8.84061e-10 -1.49463e-10    0.0137056  1.04941e-09 -1.78601e-09 -1.98105e-11 -1.89649e-10    0.0132465   -0.0132465    0.0410638       1.0677 -2.10161e-10  1.41061e-09    0.0020511          nan          nan          nan          nan          nan          nan          nan          nan          nan          nan          nan          nan\r\n",
      "-0.000334703    0.0752465 -2.48678e-10  3.00534e-10   -0.0690159  0.000306989  -1.3764e-09  -1.0084e-09  9.70988e-10   0.00166365    0.0309101  -4.5177e-11  -0.00866825   0.00243349    0.0364086 -0.000161948  1.19984e-10 -1.21256e-10   4.8784e-10  4.85051e-10    -0.194424  2.24724e-10  3.79921e-09          nan          nan          nan          nan          nan          nan          nan          nan          nan          nan          nan          nan\r\n",
      "   0.0752465  0.000334703  1.78994e-10 -5.58473e-10 -0.000306989   -0.0690159  5.06016e-09  5.10934e-09 -2.26129e-09    0.0309101  -0.00166365 -7.95701e-10  -0.00243349  -0.00866825  0.000161948    0.0364086 -4.43977e-10  4.49206e-10 -1.20869e-09 -1.20994e-09  2.24724e-10    -0.194424  1.19861e-09          nan          nan          nan          nan          nan          nan          nan          nan          nan          nan          nan          nan\r\n",
      "-3.04801e-10 -4.79423e-10   -0.0141829    0.0141829  4.11052e-10  1.86438e-10   0.00439049   0.00439049  -0.00133215 -1.14246e-09 -1.07746e-09 -0.000533968  7.68972e-11  1.04385e-10 -4.14768e-11  1.63497e-10    -0.005978     0.005978   0.00149998   0.00149998  3.89358e-09  1.34928e-09     0.958371          nan          nan          nan          nan          nan          nan          nan          nan          nan          nan          nan          nan\r\n",
      "        -nan         -nan         -nan         -nan         -nan         -nan         -nan         -nan         -nan         -nan         -nan         -nan         -nan         -nan         -nan         -nan         -nan         -nan         -nan         -nan         -nan         -nan         -nan          nan          nan          nan          nan          nan          nan          nan          nan          nan          nan          nan          nan\r\n",
      "        -nan         -nan         -nan         -nan         -nan         -nan         -nan         -nan         -nan         -nan         -nan         -nan         -nan         -nan         -nan         -nan         -nan         -nan         -nan         -nan         -nan         -nan         -nan         -nan         -nan         -nan         -nan         -nan         -nan         -nan         -nan         -nan         -nan         -nan         -nan\r\n",
      "        -nan         -nan         -nan         -nan         -nan         -nan         -nan         -nan         -nan         -nan         -nan         -nan         -nan         -nan         -nan         -nan         -nan         -nan         -nan         -nan         -nan         -nan         -nan         -nan         -nan         -nan         -nan         -nan         -nan         -nan         -nan         -nan         -nan         -nan         -nan\r\n",
      "        -nan         -nan         -nan         -nan         -nan         -nan         -nan         -nan         -nan         -nan         -nan         -nan         -nan         -nan         -nan         -nan         -nan         -nan         -nan         -nan         -nan         -nan         -nan          nan          nan          nan          nan          nan          nan          nan          nan          nan          nan          nan          nan\r\n",
      "        -nan         -nan         -nan         -nan         -nan         -nan         -nan         -nan         -nan         -nan         -nan         -nan         -nan         -nan         -nan         -nan         -nan         -nan         -nan         -nan         -nan         -nan         -nan          nan          nan          nan          nan          nan          nan          nan          nan          nan          nan          nan          nan\r\n",
      "        -nan         -nan         -nan         -nan         -nan         -nan         -nan         -nan         -nan         -nan         -nan         -nan         -nan         -nan         -nan         -nan         -nan         -nan         -nan         -nan         -nan         -nan         -nan         -nan         -nan         -nan         -nan         -nan         -nan         -nan         -nan         -nan         -nan         -nan         -nan\r\n",
      "        -nan         -nan         -nan         -nan         -nan         -nan         -nan         -nan         -nan         -nan         -nan         -nan         -nan         -nan         -nan         -nan         -nan         -nan         -nan         -nan         -nan         -nan         -nan         -nan         -nan         -nan         -nan         -nan         -nan         -nan         -nan         -nan         -nan         -nan         -nan\r\n",
      "        -nan         -nan         -nan         -nan         -nan         -nan         -nan         -nan         -nan         -nan         -nan         -nan         -nan         -nan         -nan         -nan         -nan         -nan         -nan         -nan         -nan         -nan         -nan          nan          nan          nan          nan          nan          nan          nan          nan          nan          nan          nan          nan\r\n",
      "        -nan         -nan         -nan         -nan         -nan         -nan         -nan         -nan         -nan         -nan         -nan         -nan         -nan         -nan         -nan         -nan         -nan         -nan         -nan         -nan         -nan         -nan         -nan          nan          nan          nan          nan          nan          nan          nan          nan          nan          nan          nan          nan\r\n",
      "        -nan         -nan         -nan         -nan         -nan         -nan         -nan         -nan         -nan         -nan         -nan         -nan         -nan         -nan         -nan         -nan         -nan         -nan         -nan         -nan         -nan         -nan         -nan         -nan          nan          nan          nan         -nan          nan          nan          nan         -nan          nan          nan          nan\r\n",
      "        -nan         -nan         -nan         -nan         -nan         -nan         -nan         -nan         -nan         -nan         -nan         -nan         -nan         -nan         -nan         -nan         -nan         -nan         -nan         -nan         -nan         -nan         -nan         -nan          nan          nan          nan         -nan          nan          nan          nan         -nan          nan          nan          nan\r\n",
      "        -nan         -nan         -nan         -nan         -nan         -nan         -nan         -nan         -nan         -nan         -nan         -nan         -nan         -nan         -nan         -nan         -nan         -nan         -nan         -nan         -nan         -nan         -nan         -nan         -nan         -nan         -nan         -nan         -nan         -nan         -nan         -nan         -nan         -nan         -nan\r\n",
      "B\r\n",
      "    0.093811 -1.38067e-11  1.68281e-11 -1.31239e-10  1.44755e-11   -0.0328898  3.54495e-10  2.99606e-10 -1.98317e-10    0.0155308   -0.0009052 -3.66415e-11    0.0128555    0.0465875  -2.3586e-11    0.0481429 -2.87543e-10  1.38779e-10 -3.10591e-10  -3.7982e-11  0.000111682   -0.0251078 -4.01068e-10         -nan         -nan         -nan         -nan         -nan         -nan         -nan         -nan         -nan         -nan         -nan         -nan\r\n",
      "-1.38067e-11     0.093811 -9.50109e-11  4.01223e-11   -0.0328898  1.44756e-11  3.69159e-10   4.8357e-10 -1.23112e-10    0.0009052    0.0155308 -1.66764e-10    0.0465875   -0.0128555    0.0481429  -2.3586e-11 -1.28331e-11  2.85442e-10 -7.55174e-11  7.32472e-11   -0.0251078 -0.000111682  -5.1108e-10         -nan         -nan         -nan         -nan         -nan         -nan         -nan         -nan         -nan         -nan         -nan         -nan\r\n",
      " 1.68281e-11 -9.50109e-11     0.105883   0.00529887   1.0278e-10  7.14938e-11   0.00678258   0.00678258  -0.00367156 -5.18405e-11 -2.02265e-11  -0.00166783 -9.66266e-11  2.03569e-10 -2.10707e-10 -2.54254e-11    0.0640578  -0.00170118  -0.00248287   -0.0196897 -6.25079e-11 -1.11704e-11   -0.0418852         -nan         -nan         -nan         -nan         -nan         -nan         -nan         -nan         -nan         -nan         -nan         -nan\r\n",
      "-1.31239e-10  4.01223e-11   0.00529887     0.105883 -1.09861e-10  2.29101e-10  -0.00678258  -0.00678258   0.00367155 -5.46513e-11  7.11419e-11   0.00166783  7.34012e-11 -1.53286e-10  7.36037e-11 -2.18483e-10  -0.00170118    0.0640578    0.0196897   0.00248287  1.33577e-10  1.11421e-10    0.0418852         -nan         -nan         -nan         -nan         -nan         -nan         -nan         -nan         -nan         -nan         -nan         -nan\r\n",
      " 1.44755e-11   -0.0328898   1.0278e-10 -1.09861e-10     0.240891 -6.93619e-13  1.10443e-09  8.03832e-10 -6.98456e-10 -0.000841828   -0.0144435 -1.60497e-10   0.00881401  -0.00243216    0.0441772  9.32077e-11 -5.67489e-11 -3.34146e-10 -5.76259e-11 -2.87361e-10  -0.00438142 -1.94889e-05  5.20822e-10         -nan         -nan         -nan         -nan         -nan         -nan         -nan         -nan         -nan         -nan         -nan         -nan\r\n",
      "  -0.0328898  1.44756e-11  7.14938e-11  2.29101e-10 -6.93582e-13     0.240891 -1.39811e-10 -1.46892e-10  1.24325e-10   -0.0144435  0.000841828  9.91201e-12   0.00243216   0.00881401  9.32079e-11    0.0441772  2.79747e-10 -5.00119e-11  1.11385e-10  -2.7951e-10  1.94889e-05  -0.00438142  4.31907e-10         -nan         -nan         -nan         -nan         -nan         -nan         -nan         -nan         -nan         -nan         -nan         -nan\r\n",
      " 3.54495e-10  3.69159e-10   0.00678258  -0.00678258  1.10443e-09 -1.39811e-10     0.221859     0.110677   -0.0629941 -1.32002e-12  4.62572e-10   -0.0286155 -1.92618e-09  3.22498e-09  -1.0314e-09  3.28908e-10    -0.010087  -0.00711985    0.0330985   -0.0292582 -8.01293e-10 -3.84306e-10   0.00293653         -nan         -nan         -nan         -nan         -nan         -nan         -nan         -nan         -nan         -nan         -nan         -nan\r\n",
      " 2.99606e-10   4.8357e-10   0.00678258  -0.00678258  8.03832e-10 -1.46892e-10     0.110677     0.221859   -0.0629941  4.95953e-11  5.69063e-10   -0.0286155 -1.97646e-09  3.20176e-09 -7.87491e-10  1.91805e-10   0.00711985     0.010087   -0.0292581    0.0330985 -8.98733e-10 -3.12258e-10   0.00293653         -nan         -nan         -nan         -nan         -nan         -nan         -nan         -nan         -nan         -nan         -nan         -nan\r\n",
      "-1.98317e-10 -1.23112e-10  -0.00367156   0.00367155 -6.98456e-10  1.24325e-10   -0.0629941   -0.0629941     0.429278 -2.25292e-10 -2.34108e-10   -0.0121538  4.56069e-10 -9.09292e-10  7.69088e-10 -2.09012e-10 -6.20833e-06  6.20835e-06 -1.82765e-05 -1.82764e-05 -7.44913e-11  5.84286e-10  5.95247e-05         -nan         -nan         -nan         -nan         -nan         -nan         -nan         -nan         -nan         -nan         -nan         -nan\r\n",
      "   0.0155308    0.0009052 -5.18405e-11 -5.46513e-11 -0.000841828   -0.0144435 -1.32002e-12  4.95953e-11 -2.25292e-10     0.463967  2.11762e-12  1.17676e-10  0.000208034  0.000612424    0.0006037    0.0103579 -6.15495e-10 -6.26184e-11  1.11927e-10  1.49088e-09 -0.000953146   -0.0177092  -1.8678e-09         -nan         -nan         -nan         -nan         -nan         -nan         -nan         -nan         -nan         -nan         -nan         -nan\r\n",
      "  -0.0009052    0.0155308 -2.02265e-11  7.11419e-11   -0.0144435  0.000841828  4.62572e-10  5.69063e-10 -2.34108e-10  2.11782e-12     0.463967 -1.09259e-10  0.000612424 -0.000208034    0.0103579   -0.0006037 -7.68897e-11  1.45584e-09  -8.6634e-10 -1.88227e-10   -0.0177092  0.000953146 -1.77769e-09         -nan         -nan         -nan         -nan         -nan         -nan         -nan         -nan         -nan         -nan         -nan         -nan\r\n",
      "-3.66415e-11 -1.66764e-10  -0.00166783   0.00166783 -1.60497e-10  9.91201e-12   -0.0286155   -0.0286155   -0.0121538  1.17676e-10 -1.09259e-10     0.636067  5.47412e-10 -6.15509e-10 -6.46744e-11 -6.61943e-11   0.00673148  -0.00673148    0.0198165    0.0198165  1.03282e-10 -8.59847e-12  4.59618e-05         -nan         -nan         -nan         -nan         -nan         -nan         -nan         -nan         -nan         -nan         -nan         -nan\r\n",
      "   0.0128555    0.0465875 -9.66266e-11  7.34012e-11   0.00881401   0.00243216 -1.92618e-09 -1.97646e-09  4.56069e-10  0.000208034  0.000612424  5.47412e-10     0.917068  7.51593e-11   -0.0214883  -0.00592955  5.28845e-10 -7.58667e-10  1.85799e-09  1.85345e-09    0.0223809   0.00628312  1.65351e-10         -nan         -nan         -nan         -nan         -nan         -nan         -nan         -nan         -nan         -nan         -nan         -nan\r\n",
      "   0.0465875   -0.0128555  2.03569e-10 -1.53286e-10  -0.00243216   0.00881401  3.22498e-09  3.20176e-09 -9.09292e-10  0.000612424 -0.000208034 -6.15509e-10  7.51593e-11     0.917068   0.00592955   -0.0214883 -1.02493e-09  1.02948e-09 -2.98487e-09 -3.21469e-09  -0.00628312    0.0223809  1.26252e-10         -nan         -nan         -nan         -nan         -nan         -nan         -nan         -nan         -nan         -nan         -nan         -nan\r\n",
      " -2.3586e-11    0.0481429 -2.10707e-10  7.36037e-11    0.0441772  9.32079e-11  -1.0314e-09 -7.87491e-10  7.69088e-10    0.0006037    0.0103579 -6.46744e-11   -0.0214883   0.00592955     0.981535  7.30408e-11 -3.50474e-12 -3.06101e-10  3.62736e-10 -7.51706e-11   0.00424838  1.88972e-05  3.17155e-10         -nan         -nan         -nan         -nan         -nan         -nan         -nan         -nan         -nan         -nan         -nan         -nan\r\n",
      "   0.0481429  -2.3586e-11 -2.54254e-11 -2.18483e-10  9.32077e-11    0.0441772  3.28908e-10  1.91805e-10 -2.09012e-10    0.0103579   -0.0006037 -6.61943e-11  -0.00592955   -0.0214883  7.30409e-11     0.981535  2.22739e-10  2.15168e-10 -7.16647e-12 -3.16772e-10 -1.88971e-05   0.00424838  6.75794e-10         -nan         -nan         -nan         -nan         -nan         -nan         -nan         -nan         -nan         -nan         -nan         -nan\r\n",
      "-2.87543e-10 -1.28331e-11    0.0640578  -0.00170118 -5.67489e-11  2.79747e-10    -0.010087   0.00711985 -6.20833e-06 -6.15495e-10 -7.68897e-11   0.00673148  5.28845e-10 -1.02493e-09 -3.50474e-12  2.22739e-10      1.06908   -0.0128126     0.024753     0.024753  4.20673e-11  2.29775e-10   -0.0150498         -nan         -nan         -nan         -nan         -nan         -nan         -nan         -nan         -nan         -nan         -nan         -nan\r\n",
      " 1.38779e-10  2.85442e-10  -0.00170118    0.0640578 -3.34146e-10 -5.00119e-11  -0.00711985     0.010087  6.20835e-06 -6.26184e-11  1.45584e-09  -0.00673148 -7.58667e-10  1.02948e-09 -3.06101e-10  2.15168e-10   -0.0128126      1.06908    -0.024753    -0.024753 -1.38962e-10  -2.9092e-10    0.0150498         -nan         -nan         -nan         -nan         -nan         -nan         -nan         -nan         -nan         -nan         -nan         -nan\r\n",
      "-3.10591e-10 -7.55174e-11  -0.00248287    0.0196897 -5.76259e-11  1.11385e-10    0.0330985   -0.0292581 -1.82765e-05  1.11927e-10  -8.6634e-10    0.0198165  1.85799e-09 -2.98487e-09  3.62736e-10 -7.16647e-12     0.024753    -0.024753      1.13354    0.0772737  1.18965e-10   4.3353e-10   0.00545614         -nan         -nan         -nan         -nan         -nan         -nan         -nan         -nan         -nan         -nan         -nan         -nan\r\n",
      " -3.7982e-11  7.32472e-11   -0.0196897   0.00248287 -2.87361e-10  -2.7951e-10   -0.0292582    0.0330985 -1.82764e-05  1.49088e-09 -1.88227e-10    0.0198165  1.85345e-09 -3.21469e-09 -7.51706e-11 -3.16772e-10     0.024753    -0.024753    0.0772737      1.13354  1.80325e-10  3.36905e-10   0.00545614         -nan         -nan         -nan         -nan         -nan         -nan         -nan         -nan         -nan         -nan         -nan         -nan\r\n",
      " 0.000255127   -0.0573567  5.45357e-13  4.61051e-11  -0.00347861  1.54731e-05 -3.28404e-10 -5.33014e-10 -3.93601e-12 -0.000548487   -0.0101908 -2.33041e-11    0.0179473  -0.00503843    0.0191591 -8.52215e-05  3.86944e-14  9.07449e-11  5.05232e-11  2.62755e-10     0.600541  2.25238e-10  2.81263e-09         -nan         -nan         -nan         -nan         -nan         -nan         -nan         -nan         -nan         -nan         -nan         -nan\r\n",
      "  -0.0573567 -0.000255127 -1.64493e-10  3.71325e-10 -1.54732e-05  -0.00347861 -3.85761e-09 -3.80962e-09  6.45022e-10   -0.0101908  0.000548487  1.38947e-10   0.00503843    0.0179473  8.52215e-05    0.0191591 -1.49323e-10 -6.08402e-11 -1.42179e-10 -5.12937e-11  2.25238e-10     0.600541  7.04461e-11         -nan         -nan         -nan         -nan         -nan         -nan         -nan         -nan         -nan         -nan         -nan         -nan\r\n",
      "-3.28138e-10 -3.21301e-10    -0.042366     0.042366  6.07673e-10  5.83169e-10   0.00290596   0.00290596 -0.000443252 -1.66951e-09  -1.6031e-09 -0.000216994   1.0987e-10  1.72888e-10   4.0764e-10  8.27846e-10   -0.0160919    0.0160919   0.00533816   0.00533816  3.14891e-09  5.25214e-10      1.98492         -nan         -nan         -nan         -nan         -nan         -nan         -nan         -nan         -nan         -nan         -nan         -nan\r\n",
      "        -nan         -nan         -nan         -nan         -nan         -nan         -nan         -nan         -nan         -nan         -nan         -nan         -nan         -nan         -nan         -nan         -nan         -nan         -nan         -nan         -nan         -nan         -nan         -nan         -nan         -nan         -nan         -nan         -nan         -nan         -nan         -nan         -nan         -nan         -nan\r\n",
      "        -nan         -nan         -nan         -nan         -nan         -nan         -nan         -nan         -nan         -nan         -nan         -nan         -nan         -nan         -nan         -nan         -nan         -nan         -nan         -nan         -nan         -nan         -nan         -nan         -nan         -nan         -nan         -nan         -nan         -nan         -nan         -nan         -nan         -nan         -nan\r\n",
      "        -nan         -nan         -nan         -nan         -nan         -nan         -nan         -nan         -nan         -nan         -nan         -nan         -nan         -nan         -nan         -nan         -nan         -nan         -nan         -nan         -nan         -nan         -nan         -nan         -nan         -nan         -nan         -nan         -nan         -nan         -nan         -nan         -nan         -nan         -nan\r\n",
      "        -nan         -nan         -nan         -nan         -nan         -nan         -nan         -nan         -nan         -nan         -nan         -nan         -nan         -nan         -nan         -nan         -nan         -nan         -nan         -nan         -nan         -nan         -nan         -nan         -nan         -nan         -nan         -nan         -nan         -nan         -nan         -nan         -nan         -nan         -nan\r\n",
      "        -nan         -nan         -nan         -nan         -nan         -nan         -nan         -nan         -nan         -nan         -nan         -nan         -nan         -nan         -nan         -nan         -nan         -nan         -nan         -nan         -nan         -nan         -nan         -nan         -nan         -nan         -nan         -nan         -nan         -nan         -nan         -nan         -nan         -nan         -nan\r\n",
      "        -nan         -nan         -nan         -nan         -nan         -nan         -nan         -nan         -nan         -nan         -nan         -nan         -nan         -nan         -nan         -nan         -nan         -nan         -nan         -nan         -nan         -nan         -nan         -nan         -nan         -nan         -nan         -nan         -nan         -nan         -nan         -nan         -nan         -nan         -nan\r\n",
      "        -nan         -nan         -nan         -nan         -nan         -nan         -nan         -nan         -nan         -nan         -nan         -nan         -nan         -nan         -nan         -nan         -nan         -nan         -nan         -nan         -nan         -nan         -nan         -nan         -nan         -nan         -nan         -nan         -nan         -nan         -nan         -nan         -nan         -nan         -nan\r\n",
      "        -nan         -nan         -nan         -nan         -nan         -nan         -nan         -nan         -nan         -nan         -nan         -nan         -nan         -nan         -nan         -nan         -nan         -nan         -nan         -nan         -nan         -nan         -nan         -nan         -nan         -nan         -nan         -nan         -nan         -nan         -nan         -nan         -nan         -nan         -nan\r\n",
      "        -nan         -nan         -nan         -nan         -nan         -nan         -nan         -nan         -nan         -nan         -nan         -nan         -nan         -nan         -nan         -nan         -nan         -nan         -nan         -nan         -nan         -nan         -nan         -nan         -nan         -nan         -nan         -nan         -nan         -nan         -nan         -nan         -nan         -nan         -nan\r\n",
      "        -nan         -nan         -nan         -nan         -nan         -nan         -nan         -nan         -nan         -nan         -nan         -nan         -nan         -nan         -nan         -nan         -nan         -nan         -nan         -nan         -nan         -nan         -nan         -nan         -nan         -nan         -nan         -nan         -nan         -nan         -nan         -nan         -nan         -nan         -nan\r\n",
      "        -nan         -nan         -nan         -nan         -nan         -nan         -nan         -nan         -nan         -nan         -nan         -nan         -nan         -nan         -nan         -nan         -nan         -nan         -nan         -nan         -nan         -nan         -nan         -nan         -nan         -nan         -nan         -nan         -nan         -nan         -nan         -nan         -nan         -nan         -nan\r\n",
      "        -nan         -nan         -nan         -nan         -nan         -nan         -nan         -nan         -nan         -nan         -nan         -nan         -nan         -nan         -nan         -nan         -nan         -nan         -nan         -nan         -nan         -nan         -nan          nan          nan          nan          nan          nan          nan          nan          nan          nan          nan          nan          nan\r\n",
      "an error occurred:\r\n",
      "Small generalized eigenvalue problem failed.\r\n"
     ]
    }
   ],
   "source": [
    "!xtp_tools -c job_name=CO geometry_optimization.maxiter=1 dftpackage.basisset=3-21G dftpackage.auxbasisset=aux-def2-svp gwbse.gw.mode=G0W0 -e dftgwbse -t 4"
   ]
  },
  {
   "cell_type": "markdown",
   "metadata": {},
   "source": [
    "Notice that we are using 4 threads. The results will be stored in a file named `CO_summary.xml` in the current work directory, together with the optimization step in `optimisation.trj` and the orbitals in [hdf5 format](https://www.hdfgroup.org/solutions/hdf5/) saved on `CO.orb`."
   ]
  }
 ],
 "metadata": {
  "kernelspec": {
   "display_name": "Python 3",
   "language": "python",
   "name": "python3"
  },
  "language_info": {
   "codemirror_mode": {
    "name": "ipython",
    "version": 3
   },
   "file_extension": ".py",
   "mimetype": "text/x-python",
   "name": "python",
   "nbconvert_exporter": "python",
   "pygments_lexer": "ipython3",
   "version": "3.11.1"
  }
 },
 "nbformat": 4,
 "nbformat_minor": 4
}
