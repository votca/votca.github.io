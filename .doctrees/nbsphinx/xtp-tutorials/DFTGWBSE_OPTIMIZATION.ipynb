{
 "cells": [
  {
   "cell_type": "markdown",
   "metadata": {},
   "source": [
    "## DFT + GWBSE Optimization Using CO"
   ]
  },
  {
   "cell_type": "markdown",
   "metadata": {},
   "source": [
    "## Introduction\n",
    "This tutorial explains how to perform a molecular geometric optimization using the **GWBSE** method. See [the GW Compendium: A Practical Guide to Theoretical Photoemission Spectroscopy](https://doi.org/10.3389/fchem.2019.00377), for an excellent introduction to the method."
   ]
  },
  {
   "cell_type": "markdown",
   "metadata": {},
   "source": [
    "## Requirements\n",
    "* You will need to install **VOTCA** using the instructions described [here](https://github.com/votca/votca/blob/master/share/doc/INSTALL.rst)\n",
    "* Once the installation is completed you need to activate the VOTCA enviroment by running the `VOTCARC.bash` script that has been installed at the bin subfolder for the path that you have provided for the installation step above"
   ]
  },
  {
   "cell_type": "markdown",
   "metadata": {},
   "source": [
    "## Preparing the input\n",
    "To run a DFT-GWBSE calculation we will use the [xtp_tools](https://www.votca.org/xtp/xtp_tools_overview.html) calculator."
   ]
  },
  {
   "cell_type": "markdown",
   "metadata": {},
   "source": [
    "we can now change the calculator mode from single point energy calculation to optimization as follows by adding \n",
    "`-c geometry_optimization.maxiter=1` which enables optimization with one iteration. "
   ]
  },
  {
   "cell_type": "markdown",
   "metadata": {},
   "source": [
    "Because geometry optimsation is quite expensive numerically we chose a smaller basisset and G0W0 Finally, to run the calculation we just need the following command (This still takes a while)"
   ]
  },
  {
   "cell_type": "code",
   "execution_count": 1,
   "metadata": {
    "execution": {
     "iopub.execute_input": "2021-07-19T17:20:12.748330Z",
     "iopub.status.busy": "2021-07-19T17:20:12.747793Z",
     "iopub.status.idle": "2021-07-19T17:21:03.507255Z",
     "shell.execute_reply": "2021-07-19T17:21:03.506727Z"
    }
   },
   "outputs": [
    {
     "name": "stdout",
     "output_type": "stream",
     "text": [
      "==================================================\r\n",
      "========   VOTCA (http://www.votca.org)   ========\r\n",
      "==================================================\r\n",
      "\r\n",
      "please submit bugs to https://github.com/votca/xtp/issues\r\n",
      "\r\n",
      "xtp_tools, version 2022-dev gitid: 6f6ecc2 (compiled Jul 19 2021, 17:12:13)\r\n",
      "votca_csg, version 2022-dev gitid: 6f6ecc2 (compiled Jul 19 2021, 16:57:39)\r\n",
      "votca_tools, version 2022-dev gitid: 6f6ecc2 (compiled Jul 19 2021, 16:55:12)\r\n",
      "\r\n",
      "Initializing tool\r\n",
      "... dftgwbse Evaluating tool\r\n",
      "... dftgwbse  Using 4 threads\r\n",
      "... ... Reading structure from CO.xyz\r\n",
      "... ... Requested geometry optimization of excited state s1\r\n",
      "... ... Initial state: s1\r\n",
      "... ... WARNING: No tracker is used \r\n",
      "... ... Convergence of total energy: 0.000001 Hartree \r\n",
      "... ... Convergence of RMS Force:    0.000030 Hartree/Bohr \r\n",
      "... ... Convergence of Max Force:    0.000100 Hartree/Bohr \r\n",
      "... ... Convergence of RMS Step:     0.000600 Bohr \r\n",
      "... ... Convergence of Max Step:     0.001000 Bohr \r\n",
      "... ... Initial trust radius:        0.018897 Bohr\r\n",
      "... ... \r\n",
      "... ... =========== OPTIMIZATION SUMMARY ================================= \r\n",
      "... ... At iteration  0\r\n",
      "... ...  ---- POSITIONS (Angstrom)   \r\n",
      "... ...  Atom\t x\t  y\t  z \r\n",
      "... ...    0    +0.0000  +0.0000  +0.0000\r\n",
      "... ...    1    +1.2000  +0.0000  +0.0000\r\n",
      "... ...    Total energy:     -112.26831841 Hartree \r\n",
      "... ...    Trust radius:       0.01889726 Bohr     \r\n",
      "... ...  ---- FORCES (Hartree/Bohr)   \r\n",
      "... ...       central differences   \r\n",
      "... ...       displacement 0.0010 Angstrom   \r\n",
      "... ...  Atom\t x\t  y\t  z \r\n",
      "... ...    0    -0.1314  -0.0000  -0.0000\r\n",
      "... ...    1    +0.1314  +0.0000  +0.0000A\r\n",
      "    0.301149 -1.39146e-12  7.71944e-10 -8.89211e-10 -1.19811e-09 -1.04099e-09   -0.0519724  1.01958e-12  5.92029e-10    0.0141529   -0.0105222  2.25008e-10   -0.0390253  0.000525546    0.0423984 -8.04538e-13  1.51033e-10  3.07911e-10 -1.91855e-10  4.04427e-10    -0.107077   -0.0021232 -5.97654e-11          nan          nan          nan          nan          nan          nan          nan          nan          nan          nan          nan          nan\r\n",
      "-1.39145e-12     0.301149 -1.48441e-10  3.05565e-10  -2.2061e-10 -1.03342e-10  1.01964e-12   -0.0519724 -2.95894e-12    0.0105222    0.0141529 -6.46993e-13  0.000525546    0.0390253 -8.04583e-13    0.0423984  2.10633e-10 -1.93853e-12  1.60949e-10 -4.07106e-12   -0.0021232     0.107077 -5.83678e-11          nan          nan          nan          nan          nan          nan          nan          nan          nan          nan          nan          nan\r\n",
      " 7.71944e-10 -1.48441e-10     0.392592   -0.0723584    -0.110889    -0.110889 -1.83672e-10  9.47359e-11    0.0542989  3.43068e-11 -1.16557e-10    0.0244766 -1.90108e-09  5.73009e-11   1.2398e-10  -3.0518e-11   -0.0362169    0.0110431   -0.0170202    0.0176567 -7.98985e-09 -3.82358e-10    0.0241517          nan          nan          nan          nan          nan          nan          nan          nan          nan          nan          nan          nan\r\n",
      "-8.89211e-10  3.05565e-10   -0.0723584     0.392592     0.110889     0.110889  2.22506e-10 -1.49027e-10   -0.0542989 -3.37973e-11  1.20842e-10   -0.0244766  1.92101e-09 -3.18172e-11 -2.14054e-10  1.52276e-10   -0.0110431    0.0362169    0.0176567   -0.0170202  8.07186e-09  4.99556e-10   -0.0241517          nan          nan          nan          nan          nan          nan          nan          nan          nan          nan          nan          nan\r\n",
      "-1.19811e-09  -2.2061e-10    -0.110889     0.110889       0.4593     0.139067  3.01367e-10  1.00655e-10   -0.0730345   -1.431e-10  3.35658e-11   -0.0329221  2.58371e-09  1.00647e-11 -2.88412e-10 -1.07785e-10   -0.0168141   -0.0174505    0.0209073    0.0263527  1.08614e-08  1.17921e-10   0.00988007          nan          nan          nan          nan          nan          nan          nan          nan          nan          nan          nan          nan\r\n",
      "-1.04099e-09 -1.03342e-10    -0.110889     0.110889     0.139067       0.4593  2.47075e-10  6.18203e-11   -0.0730345 -1.38815e-10  3.30563e-11   -0.0329221  2.55822e-09  2.99963e-11 -1.66654e-10 -1.77109e-11   -0.0174505   -0.0168141   -0.0263527   -0.0209073  1.07433e-08  2.00754e-10   0.00988007          nan          nan          nan          nan          nan          nan          nan          nan          nan          nan          nan          nan\r\n",
      "  -0.0519724  1.01964e-12 -1.83672e-10  2.22506e-10  3.01367e-10  2.47075e-10     0.486835 -2.44535e-13 -1.77663e-10    -0.010942   0.00813508 -3.96539e-11  -0.00830531  0.000111846    0.0301449  2.91481e-12  9.09231e-11 -1.01889e-10 -1.26235e-10  -1.3519e-10    0.0549832   0.00109025  4.00773e-11          nan          nan          nan          nan          nan          nan          nan          nan          nan          nan          nan          nan\r\n",
      " 1.01958e-12   -0.0519724  9.47359e-11 -1.49027e-10  1.00655e-10  6.18203e-11  -2.4453e-13     0.486835  4.00743e-12  -0.00813508    -0.010942  1.15178e-12  0.000111846   0.00830531  2.91481e-12    0.0301449 -2.68688e-10 -7.26305e-12 -2.02405e-10  9.59212e-12   0.00109025   -0.0549832 -2.31581e-10          nan          nan          nan          nan          nan          nan          nan          nan          nan          nan          nan          nan\r\n",
      " 5.92029e-10 -2.95894e-12    0.0542989   -0.0542989   -0.0730345   -0.0730345 -1.77663e-10  4.00743e-12     0.659928  2.68551e-10 -2.01219e-10  -0.00518518 -7.77965e-10  3.31739e-12  1.34331e-10 -2.17756e-12   0.00289795   0.00289795  -0.00379019   0.00379019 -5.23513e-09 -1.55157e-10   0.00256082          nan          nan          nan          nan          nan          nan          nan          nan          nan          nan          nan          nan\r\n",
      "   0.0141529    0.0105222  3.43068e-11 -3.37973e-11   -1.431e-10 -1.38815e-10    -0.010942  -0.00813508  2.68551e-10     0.668107  7.21305e-13 -7.86093e-11  1.34368e-05 -1.02737e-05   0.00727082   0.00540563 -2.63241e-11 -2.97623e-11  1.09059e-09 -4.33641e-11    -0.033368    0.0237956  8.11792e-10          nan          nan          nan          nan          nan          nan          nan          nan          nan          nan          nan          nan\r\n",
      "  -0.0105222    0.0141529 -1.16557e-10  1.20842e-10  3.35658e-11  3.30563e-11   0.00813508    -0.010942 -2.01219e-10  7.21396e-13     0.668107  5.96311e-11 -1.02737e-05 -1.34368e-05  -0.00540563   0.00727082  1.07668e-09  2.94536e-11 -2.62862e-11   2.2848e-11    0.0237956     0.033368  1.12705e-09          nan          nan          nan          nan          nan          nan          nan          nan          nan          nan          nan          nan\r\n",
      " 2.25008e-10 -6.46993e-13    0.0244766   -0.0244766   -0.0329221   -0.0329221 -3.96539e-11  1.15178e-12  -0.00518518 -7.86093e-11  5.96311e-11     0.793012 -5.03133e-10  1.21608e-12  7.47809e-11 -4.80213e-13   0.00929567   0.00929567   -0.0121577    0.0121577 -1.99265e-09 -5.82981e-11   0.00104614          nan          nan          nan          nan          nan          nan          nan          nan          nan          nan          nan          nan\r\n",
      "  -0.0390253  0.000525546 -1.90108e-09  1.92101e-09  2.58371e-09  2.55822e-09  -0.00830531  0.000111846 -7.77965e-10  1.34368e-05 -1.02737e-05 -5.03133e-10     0.954263 -3.99436e-13    0.0128739  -0.00017337 -1.22612e-09    -1.12e-09  1.60471e-09  -1.4638e-09   -0.0198853 -0.000662267 -1.19524e-10          nan          nan          nan          nan          nan          nan          nan          nan          nan          nan          nan          nan\r\n",
      " 0.000525546    0.0390253  5.73009e-11 -3.18172e-11  1.00647e-11  2.99963e-11  0.000111846   0.00830531  3.31739e-12 -1.02737e-05 -1.34368e-05  1.21608e-12 -3.99436e-13     0.954263  -0.00017337   -0.0128739 -5.81678e-11  8.27438e-11 -5.24824e-11 -5.36386e-11  0.000662267   -0.0198853  3.45532e-11          nan          nan          nan          nan          nan          nan          nan          nan          nan          nan          nan          nan\r\n",
      "   0.0423984 -8.04583e-13   1.2398e-10 -2.14054e-10 -2.88412e-10 -1.66654e-10    0.0301449  2.91481e-12  1.34331e-10   0.00727082  -0.00540563  7.47809e-11    0.0128739  -0.00017337     0.973645  1.57447e-12  1.20541e-10  3.23382e-11 -1.60259e-10  4.20234e-11    -0.022946  -0.00045499 -1.83338e-11          nan          nan          nan          nan          nan          nan          nan          nan          nan          nan          nan          nan\r\n",
      "-8.04538e-13    0.0423984  -3.0518e-11  1.52276e-10 -1.07785e-10 -1.77109e-11  2.91481e-12    0.0301449 -2.17756e-12   0.00540563   0.00727082 -4.80213e-13  -0.00017337   -0.0128739  1.57447e-12     0.973645 -1.26325e-10 -8.08977e-12 -9.36401e-11   5.4375e-12  -0.00045499     0.022946 -5.39268e-10          nan          nan          nan          nan          nan          nan          nan          nan          nan          nan          nan          nan\r\n",
      " 1.51033e-10  2.10633e-10   -0.0362169   -0.0110431   -0.0168141   -0.0174505  9.09231e-11 -2.68688e-10   0.00289795 -2.63241e-11  1.07668e-09   0.00929567 -1.22612e-09 -5.81678e-11  1.20541e-10 -1.26325e-10      1.03701    0.0178423   -0.0206085    0.0206085 -1.52691e-09  2.03298e-11  -0.00300346          nan          nan          nan          nan          nan          nan          nan          nan          nan          nan          nan          nan\r\n",
      " 3.07911e-10 -1.93853e-12    0.0110431    0.0362169   -0.0174505   -0.0168141 -1.01889e-10 -7.26305e-12   0.00289795 -2.97623e-11  2.94536e-11   0.00929567    -1.12e-09  8.27438e-11  3.23382e-11 -8.08977e-12    0.0178423      1.03701   -0.0206085    0.0206085 -1.57625e-09 -5.00278e-11  -0.00300346          nan          nan          nan          nan          nan          nan          nan          nan          nan          nan          nan          nan\r\n",
      "-1.91855e-10  1.60949e-10   -0.0170202    0.0176567    0.0209073   -0.0263527 -1.26235e-10 -2.02405e-10  -0.00379019  1.09059e-09 -2.62862e-11   -0.0121577  1.60471e-09 -5.24824e-11 -1.60259e-10 -9.36401e-11   -0.0206085   -0.0206085      1.04821   -0.0290389  1.99042e-09  1.05128e-10  -0.00431618          nan          nan          nan          nan          nan          nan          nan          nan          nan          nan          nan          nan\r\n",
      " 4.04427e-10 -4.07106e-12    0.0176567   -0.0170202    0.0263527   -0.0209073  -1.3519e-10  9.59212e-12   0.00379019 -4.33641e-11   2.2848e-11    0.0121577  -1.4638e-09 -5.36386e-11  4.20234e-11   5.4375e-12    0.0206085    0.0206085   -0.0290389      1.04821 -2.06077e-09 -5.58181e-11   0.00431618          nan          nan          nan          nan          nan          nan          nan          nan          nan          nan          nan          nan\r\n",
      "   0.0745714   0.00147865  5.46571e-09 -5.48028e-09 -7.37116e-09 -7.34794e-09   -0.0700156  -0.00138832  4.10238e-09    0.0247509   -0.0176506  1.74261e-09   0.00919338  -0.00030618    0.0362816  0.000719418  1.23639e-09  1.26532e-09 -1.61192e-09  1.65272e-09    -0.195058 -8.53037e-12  3.80942e-10          nan          nan          nan          nan          nan          nan          nan          nan          nan          nan          nan          nan\r\n",
      "  0.00147865   -0.0745714  4.15653e-10 -4.38619e-10 -1.49598e-11 -2.96355e-11  -0.00138832    0.0700156  1.21898e-10   -0.0176506   -0.0247509  5.06655e-11   0.00030618   0.00919338  0.000719418   -0.0362816  -4.4644e-11 -4.04359e-12 -1.10494e-10  8.13698e-11 -8.53039e-12    -0.195058  6.14566e-09          nan          nan          nan          nan          nan          nan          nan          nan          nan          nan          nan          nan\r\n",
      " 1.14274e-11  8.00807e-10   0.00565042  -0.00565042     0.018069     0.018069 -5.60843e-11 -7.00723e-10  -0.00440055  1.14962e-09  1.47668e-09  -0.00189011  1.43883e-10 -1.19837e-10  1.50723e-11  3.11356e-11  -0.00562252  -0.00562252  -0.00305407   0.00305407  8.30488e-10  6.30163e-09      1.05396          nan          nan          nan          nan          nan          nan          nan          nan          nan          nan          nan          nan\r\n",
      "        -nan         -nan         -nan         -nan         -nan         -nan         -nan         -nan         -nan         -nan         -nan         -nan         -nan         -nan         -nan         -nan         -nan         -nan         -nan         -nan         -nan         -nan         -nan          nan          nan          nan          nan          nan          nan          nan          nan          nan          nan          nan          nan\r\n",
      "        -nan         -nan         -nan         -nan         -nan         -nan         -nan         -nan         -nan         -nan         -nan         -nan         -nan         -nan         -nan         -nan         -nan         -nan         -nan         -nan         -nan         -nan         -nan         -nan         -nan         -nan         -nan         -nan         -nan         -nan         -nan         -nan         -nan         -nan         -nan\r\n",
      "        -nan         -nan         -nan         -nan         -nan         -nan         -nan         -nan         -nan         -nan         -nan         -nan         -nan         -nan         -nan         -nan         -nan         -nan         -nan         -nan         -nan         -nan         -nan         -nan         -nan         -nan         -nan         -nan         -nan         -nan         -nan         -nan         -nan         -nan         -nan\r\n",
      "        -nan         -nan         -nan         -nan         -nan         -nan         -nan         -nan         -nan         -nan         -nan         -nan         -nan         -nan         -nan         -nan         -nan         -nan         -nan         -nan         -nan         -nan         -nan          nan          nan          nan          nan          nan          nan          nan          nan          nan          nan          nan          nan\r\n",
      "        -nan         -nan         -nan         -nan         -nan         -nan         -nan         -nan         -nan         -nan         -nan         -nan         -nan         -nan         -nan         -nan         -nan         -nan         -nan         -nan         -nan         -nan         -nan          nan          nan          nan          nan          nan          nan          nan          nan          nan          nan          nan          nan\r\n",
      "        -nan         -nan         -nan         -nan         -nan         -nan         -nan         -nan         -nan         -nan         -nan         -nan         -nan         -nan         -nan         -nan         -nan         -nan         -nan         -nan         -nan         -nan         -nan         -nan         -nan         -nan         -nan         -nan         -nan         -nan         -nan         -nan         -nan         -nan         -nan\r\n",
      "        -nan         -nan         -nan         -nan         -nan         -nan         -nan         -nan         -nan         -nan         -nan         -nan         -nan         -nan         -nan         -nan         -nan         -nan         -nan         -nan         -nan         -nan         -nan         -nan         -nan         -nan         -nan         -nan         -nan         -nan         -nan         -nan         -nan         -nan         -nan\r\n",
      "        -nan         -nan         -nan         -nan         -nan         -nan         -nan         -nan         -nan         -nan         -nan         -nan         -nan         -nan         -nan         -nan         -nan         -nan         -nan         -nan         -nan         -nan         -nan          nan          nan          nan          nan          nan          nan          nan          nan          nan          nan          nan          nan\r\n",
      "        -nan         -nan         -nan         -nan         -nan         -nan         -nan         -nan         -nan         -nan         -nan         -nan         -nan         -nan         -nan         -nan         -nan         -nan         -nan         -nan         -nan         -nan         -nan          nan          nan          nan          nan          nan          nan          nan          nan          nan          nan          nan          nan\r\n",
      "        -nan         -nan         -nan         -nan         -nan         -nan         -nan         -nan         -nan         -nan         -nan         -nan         -nan         -nan         -nan         -nan         -nan         -nan         -nan         -nan         -nan         -nan         -nan         -nan          nan          nan          nan         -nan          nan          nan          nan         -nan          nan          nan          nan\r\n",
      "        -nan         -nan         -nan         -nan         -nan         -nan         -nan         -nan         -nan         -nan         -nan         -nan         -nan         -nan         -nan         -nan         -nan         -nan         -nan         -nan         -nan         -nan         -nan         -nan          nan          nan          nan         -nan          nan          nan          nan         -nan          nan          nan          nan\r\n",
      "        -nan         -nan         -nan         -nan         -nan         -nan         -nan         -nan         -nan         -nan         -nan         -nan         -nan         -nan         -nan         -nan         -nan         -nan         -nan         -nan         -nan         -nan         -nan         -nan         -nan         -nan         -nan         -nan         -nan         -nan         -nan         -nan         -nan         -nan         -nan\r\n",
      "B\r\n",
      "   0.0903883 -6.20568e-13  2.84502e-10 -3.58926e-10 -4.83814e-10 -3.84109e-10   -0.0326152  6.25268e-13  3.66711e-10    0.0118883  -0.00883855  1.49744e-10   -0.0481031  0.000647795    0.0477611 -9.23425e-13  9.94321e-11   3.1117e-10 -1.22186e-10  4.09038e-10   -0.0244237  -0.00048429 -4.22527e-11         -nan         -nan         -nan         -nan         -nan         -nan         -nan         -nan         -nan         -nan         -nan         -nan\r\n",
      "-6.20561e-13    0.0903883 -7.30265e-11  1.72731e-10 -1.26054e-10   -5.163e-11  6.25296e-13   -0.0326152 -1.83178e-12   0.00883855    0.0118883 -3.87232e-13  0.000647795    0.0481031 -9.23471e-13    0.0477611  2.97521e-10  1.06695e-11  2.26224e-10 -1.44859e-11  -0.00048429    0.0244237  7.66686e-10         -nan         -nan         -nan         -nan         -nan         -nan         -nan         -nan         -nan         -nan         -nan         -nan\r\n",
      " 2.84502e-10 -7.30265e-11      0.13955    -0.034716   -0.0541281   -0.0541281 -9.01645e-11  6.45053e-11    0.0390097  2.50123e-11 -9.95851e-11    0.0190413  -2.0479e-09  6.49599e-11  1.06732e-10  -3.1634e-11   -0.0544578   0.00911527    -0.014889    0.0157452 -4.03933e-10  9.22983e-11    0.0315098         -nan         -nan         -nan         -nan         -nan         -nan         -nan         -nan         -nan         -nan         -nan         -nan\r\n",
      "-3.58926e-10  1.72731e-10    -0.034716      0.13955    0.0541281    0.0541281  1.21645e-10 -1.08167e-10   -0.0390097 -2.45356e-11  1.05093e-10   -0.0190413   2.0773e-09 -2.73173e-11 -2.22533e-10   1.8798e-10  -0.00911527    0.0544578    0.0157452    -0.014889  4.72889e-10   4.0296e-12   -0.0315098         -nan         -nan         -nan         -nan         -nan         -nan         -nan         -nan         -nan         -nan         -nan         -nan\r\n",
      "-4.83814e-10 -1.26054e-10   -0.0541281    0.0541281     0.172112    0.0672781  1.65042e-10  7.43959e-11   -0.0524699 -1.21174e-10   2.4844e-11   -0.0256114  2.79364e-09  4.65448e-12 -2.99847e-10 -1.33888e-10   -0.0143946   -0.0152507    0.0177401     0.045833  6.41066e-10  2.82685e-11    0.0289758         -nan         -nan         -nan         -nan         -nan         -nan         -nan         -nan         -nan         -nan         -nan         -nan\r\n",
      "-3.84109e-10   -5.163e-11   -0.0541281    0.0541281    0.0672781     0.172112   1.2138e-10  4.29153e-11   -0.0524699 -1.15665e-10  2.43673e-11   -0.0256114    2.756e-09  3.40555e-11 -1.43501e-10 -1.80869e-11   -0.0152507   -0.0143946    -0.045833   -0.0177401   5.4409e-10  9.79006e-11    0.0289758         -nan         -nan         -nan         -nan         -nan         -nan         -nan         -nan         -nan         -nan         -nan         -nan\r\n",
      "  -0.0326152  6.25297e-13 -9.01645e-11  1.21645e-10  1.65042e-10   1.2138e-10     0.236624  -1.3777e-13 -1.35483e-10   -0.0115415   0.00858073 -2.41282e-11  -0.00949852  0.000127915    0.0424653  3.99986e-12  1.63586e-10 -1.24193e-10 -2.24818e-10 -1.65227e-10  -0.00359494  -7.1283e-05 -5.44464e-12         -nan         -nan         -nan         -nan         -nan         -nan         -nan         -nan         -nan         -nan         -nan         -nan\r\n",
      " 6.25263e-13   -0.0326152  6.45053e-11 -1.08167e-10  7.43959e-11  4.29153e-11 -1.37765e-13     0.236624  3.37207e-12  -0.00858073   -0.0115415  9.79707e-13  0.000127915   0.00949852  3.99986e-12    0.0424653 -4.03312e-10 -1.32668e-11 -3.02968e-10  1.51883e-11  -7.1283e-05   0.00359494 -8.20594e-10         -nan         -nan         -nan         -nan         -nan         -nan         -nan         -nan         -nan         -nan         -nan         -nan\r\n",
      " 3.66711e-10 -1.83178e-12    0.0390097   -0.0390097   -0.0524699   -0.0524699 -1.35483e-10  3.37207e-12     0.424108  3.28833e-10 -2.46698e-10   -0.0112617 -9.32861e-10  4.45884e-12  1.82485e-10  -2.9681e-12  0.000394343  0.000394343 -0.000515756  0.000515756 -1.09327e-09 -3.53236e-11  -0.00120792         -nan         -nan         -nan         -nan         -nan         -nan         -nan         -nan         -nan         -nan         -nan         -nan\r\n",
      "   0.0118883   0.00883855  2.50123e-11 -2.45356e-11 -1.21174e-10 -1.15665e-10   -0.0115415  -0.00858073  3.28833e-10     0.446812  9.48913e-13 -1.11887e-10 -0.000384611   0.00029407   0.00866352   0.00644107 -4.74698e-11 -5.32538e-11  1.82882e-09 -7.89482e-11   -0.0144621    0.0103134   1.7895e-09         -nan         -nan         -nan         -nan         -nan         -nan         -nan         -nan         -nan         -nan         -nan         -nan\r\n",
      " -0.00883855    0.0118883 -9.95851e-11  1.05093e-10   2.4844e-11  2.43673e-11   0.00858073   -0.0115415 -2.46698e-10  9.49037e-13     0.446812   8.4628e-11   0.00029407  0.000384611  -0.00644107   0.00866352  1.80345e-09  5.35801e-11 -4.70607e-11  4.12766e-11    0.0103134    0.0144621  2.38654e-09         -nan         -nan         -nan         -nan         -nan         -nan         -nan         -nan         -nan         -nan         -nan         -nan\r\n",
      " 1.49744e-10 -3.87232e-13    0.0190413   -0.0190413   -0.0256114   -0.0256114 -2.41282e-11  9.79707e-13   -0.0112617 -1.11887e-10   8.4628e-11     0.627074 -6.54357e-10   1.5354e-12  1.02977e-10 -5.59361e-13    0.0133172    0.0133172   -0.0174173    0.0174173 -2.09193e-10 -8.06396e-12 -0.000497706         -nan         -nan         -nan         -nan         -nan         -nan         -nan         -nan         -nan         -nan         -nan         -nan\r\n",
      "  -0.0481031  0.000647795  -2.0479e-09   2.0773e-09  2.79364e-09    2.756e-09  -0.00949852  0.000127915 -9.32861e-10 -0.000384611   0.00029407 -6.54357e-10     0.912954  -7.1222e-13    0.0215518 -0.000290234  -2.2022e-09 -1.98702e-09  2.88241e-09 -2.59672e-09   -0.0227035 -0.000756128 -5.29288e-11         -nan         -nan         -nan         -nan         -nan         -nan         -nan         -nan         -nan         -nan         -nan         -nan\r\n",
      " 0.000647795    0.0481031  6.49599e-11 -2.73173e-11  4.65448e-12  3.40555e-11  0.000127915   0.00949852  4.45884e-12   0.00029407  0.000384611   1.5354e-12  -7.1222e-13     0.912954 -0.000290234   -0.0215518 -1.23635e-10  1.62058e-10 -1.08922e-10 -1.06252e-10  0.000756128   -0.0227035 -1.07643e-10         -nan         -nan         -nan         -nan         -nan         -nan         -nan         -nan         -nan         -nan         -nan         -nan\r\n",
      "   0.0477611 -9.23472e-13  1.06732e-10 -2.22533e-10 -2.99847e-10 -1.43501e-10    0.0424653  3.99986e-12  1.82485e-10   0.00866352  -0.00644107  1.02977e-10    0.0215518 -0.000290234     0.952112   2.9907e-12   1.9838e-10  4.92232e-11  -2.6377e-10  6.39464e-11   0.00321142  6.36784e-05 -7.01772e-12         -nan         -nan         -nan         -nan         -nan         -nan         -nan         -nan         -nan         -nan         -nan         -nan\r\n",
      "-9.23425e-13    0.0477611  -3.1634e-11   1.8798e-10 -1.33888e-10 -1.80869e-11  3.99985e-12    0.0424653  -2.9681e-12   0.00644107   0.00866352 -5.59361e-13 -0.000290234   -0.0215518  2.99071e-12     0.952112 -2.09365e-10 -9.54182e-12 -1.55252e-10  6.09486e-12  6.36784e-05  -0.00321142 -4.80894e-10         -nan         -nan         -nan         -nan         -nan         -nan         -nan         -nan         -nan         -nan         -nan         -nan\r\n",
      " 9.94321e-11  2.97521e-10   -0.0544578  -0.00911527   -0.0143946   -0.0152507  1.63586e-10 -4.03312e-10  0.000394343 -4.74698e-11  1.80345e-09    0.0133172  -2.2022e-09 -1.23635e-10   1.9838e-10 -2.09365e-10      1.07461    0.0336398   -0.0382432    0.0382432 -4.69957e-10  1.03485e-10   -0.0123169         -nan         -nan         -nan         -nan         -nan         -nan         -nan         -nan         -nan         -nan         -nan         -nan\r\n",
      "  3.1117e-10  1.06695e-11   0.00911527    0.0544578   -0.0152507   -0.0143946 -1.24193e-10 -1.32668e-11  0.000394343 -5.32538e-11  5.35801e-11    0.0133172 -1.98702e-09  1.62058e-10  4.92232e-11 -9.54182e-12    0.0336398      1.07461   -0.0382432    0.0382432 -5.91622e-10 -6.95834e-11   -0.0123169         -nan         -nan         -nan         -nan         -nan         -nan         -nan         -nan         -nan         -nan         -nan         -nan\r\n",
      "-1.22186e-10  2.26224e-10    -0.014889    0.0157452    0.0177401    -0.045833 -2.24818e-10 -3.02968e-10 -0.000515756  1.82882e-09 -4.70607e-11   -0.0174173  2.88241e-09 -1.08922e-10  -2.6377e-10 -1.55252e-10   -0.0382432   -0.0382432      1.09539   -0.0544172   6.0206e-10  1.02551e-10   -0.0113301         -nan         -nan         -nan         -nan         -nan         -nan         -nan         -nan         -nan         -nan         -nan         -nan\r\n",
      " 4.09038e-10 -1.44859e-11    0.0157452    -0.014889     0.045833   -0.0177401 -1.65227e-10  1.51883e-11  0.000515756 -7.89482e-11  4.12766e-11    0.0174173 -2.59672e-09 -1.06252e-10  6.39464e-11  6.09486e-12    0.0382432    0.0382432   -0.0544172      1.09539  -7.7483e-10  1.87853e-11    0.0113301         -nan         -nan         -nan         -nan         -nan         -nan         -nan         -nan         -nan         -nan         -nan         -nan\r\n",
      "  -0.0559705  -0.00110982 -3.91409e-09  3.97885e-09  5.35997e-09  5.26788e-09  -0.00259779 -5.15108e-05 -1.12192e-09  -0.00898171    0.0064051 -2.78442e-10   -0.0177732  0.000591924    0.0179746  0.000356412  5.28426e-11  7.89962e-11 -6.30338e-11  9.82843e-11     0.583856  -9.3208e-12  2.94506e-10         -nan         -nan         -nan         -nan         -nan         -nan         -nan         -nan         -nan         -nan         -nan         -nan\r\n",
      " -0.00110982    0.0559705 -6.66259e-11  1.57889e-10  1.09219e-10  1.74837e-10 -5.15108e-05   0.00259779 -3.07303e-11    0.0064051   0.00898171 -7.31872e-12 -0.000591924   -0.0177732  0.000356412   -0.0179746 -1.41185e-10 -1.06258e-10  -1.1558e-10  8.90896e-11 -9.32087e-12     0.583856  4.55837e-09         -nan         -nan         -nan         -nan         -nan         -nan         -nan         -nan         -nan         -nan         -nan         -nan\r\n",
      "-6.56711e-11  4.40334e-10    0.0321202   -0.0321202    0.0289503    0.0289503 -2.49677e-12 -8.79483e-10  -0.00255788   1.6512e-09   2.1976e-09  -0.00130824  9.41288e-11 -7.08724e-11 -9.53849e-12 -6.09977e-10   -0.0137074   -0.0137074   -0.0109678    0.0109678  7.76352e-10  5.06121e-09      2.11645         -nan         -nan         -nan         -nan         -nan         -nan         -nan         -nan         -nan         -nan         -nan         -nan\r\n",
      "        -nan         -nan         -nan         -nan         -nan         -nan         -nan         -nan         -nan         -nan         -nan         -nan         -nan         -nan         -nan         -nan         -nan         -nan         -nan         -nan         -nan         -nan         -nan         -nan         -nan         -nan         -nan         -nan         -nan         -nan         -nan         -nan         -nan         -nan         -nan\r\n",
      "        -nan         -nan         -nan         -nan         -nan         -nan         -nan         -nan         -nan         -nan         -nan         -nan         -nan         -nan         -nan         -nan         -nan         -nan         -nan         -nan         -nan         -nan         -nan         -nan         -nan         -nan         -nan         -nan         -nan         -nan         -nan         -nan         -nan         -nan         -nan\r\n",
      "        -nan         -nan         -nan         -nan         -nan         -nan         -nan         -nan         -nan         -nan         -nan         -nan         -nan         -nan         -nan         -nan         -nan         -nan         -nan         -nan         -nan         -nan         -nan         -nan         -nan         -nan         -nan         -nan         -nan         -nan         -nan         -nan         -nan         -nan         -nan\r\n",
      "        -nan         -nan         -nan         -nan         -nan         -nan         -nan         -nan         -nan         -nan         -nan         -nan         -nan         -nan         -nan         -nan         -nan         -nan         -nan         -nan         -nan         -nan         -nan         -nan         -nan         -nan         -nan         -nan         -nan         -nan         -nan         -nan         -nan         -nan         -nan\r\n",
      "        -nan         -nan         -nan         -nan         -nan         -nan         -nan         -nan         -nan         -nan         -nan         -nan         -nan         -nan         -nan         -nan         -nan         -nan         -nan         -nan         -nan         -nan         -nan         -nan         -nan         -nan         -nan         -nan         -nan         -nan         -nan         -nan         -nan         -nan         -nan\r\n",
      "        -nan         -nan         -nan         -nan         -nan         -nan         -nan         -nan         -nan         -nan         -nan         -nan         -nan         -nan         -nan         -nan         -nan         -nan         -nan         -nan         -nan         -nan         -nan         -nan         -nan         -nan         -nan         -nan         -nan         -nan         -nan         -nan         -nan         -nan         -nan\r\n",
      "        -nan         -nan         -nan         -nan         -nan         -nan         -nan         -nan         -nan         -nan         -nan         -nan         -nan         -nan         -nan         -nan         -nan         -nan         -nan         -nan         -nan         -nan         -nan         -nan         -nan         -nan         -nan         -nan         -nan         -nan         -nan         -nan         -nan         -nan         -nan\r\n",
      "        -nan         -nan         -nan         -nan         -nan         -nan         -nan         -nan         -nan         -nan         -nan         -nan         -nan         -nan         -nan         -nan         -nan         -nan         -nan         -nan         -nan         -nan         -nan         -nan         -nan         -nan         -nan         -nan         -nan         -nan         -nan         -nan         -nan         -nan         -nan\r\n",
      "        -nan         -nan         -nan         -nan         -nan         -nan         -nan         -nan         -nan         -nan         -nan         -nan         -nan         -nan         -nan         -nan         -nan         -nan         -nan         -nan         -nan         -nan         -nan         -nan         -nan         -nan         -nan         -nan         -nan         -nan         -nan         -nan         -nan         -nan         -nan\r\n",
      "        -nan         -nan         -nan         -nan         -nan         -nan         -nan         -nan         -nan         -nan         -nan         -nan         -nan         -nan         -nan         -nan         -nan         -nan         -nan         -nan         -nan         -nan         -nan         -nan         -nan         -nan         -nan         -nan         -nan         -nan         -nan         -nan         -nan         -nan         -nan\r\n",
      "        -nan         -nan         -nan         -nan         -nan         -nan         -nan         -nan         -nan         -nan         -nan         -nan         -nan         -nan         -nan         -nan         -nan         -nan         -nan         -nan         -nan         -nan         -nan         -nan         -nan         -nan         -nan         -nan         -nan         -nan         -nan         -nan         -nan         -nan         -nan\r\n",
      "        -nan         -nan         -nan         -nan         -nan         -nan         -nan         -nan         -nan         -nan         -nan         -nan         -nan         -nan         -nan         -nan         -nan         -nan         -nan         -nan         -nan         -nan         -nan          nan          nan          nan          nan          nan          nan          nan          nan          nan          nan          nan          nan\r\n",
      "an error occurred:\r\n",
      "Small generalized eigenvalue problem failed.\r\n"
     ]
    }
   ],
   "source": [
    "!xtp_tools -c job_name=CO geometry_optimization.maxiter=1 dftpackage.basisset=3-21G dftpackage.auxbasisset=aux-def2-svp gwbse.gw.mode=G0W0 -e dftgwbse -t 4"
   ]
  },
  {
   "cell_type": "markdown",
   "metadata": {},
   "source": [
    "Notice that we are using 4 threads. The results will be stored in a file named `CO_summary.xml` in the current work directory, together with the optimization step in `optimisation.trj` and the orbitals in [hdf5 format](https://www.hdfgroup.org/solutions/hdf5/) saved on `CO.orb`."
   ]
  }
 ],
 "metadata": {
  "kernelspec": {
   "display_name": "Python 3",
   "language": "python",
   "name": "python3"
  },
  "language_info": {
   "codemirror_mode": {
    "name": "ipython",
    "version": 3
   },
   "file_extension": ".py",
   "mimetype": "text/x-python",
   "name": "python",
   "nbconvert_exporter": "python",
   "pygments_lexer": "ipython3",
   "version": "3.9.6"
  }
 },
 "nbformat": 4,
 "nbformat_minor": 4
}
