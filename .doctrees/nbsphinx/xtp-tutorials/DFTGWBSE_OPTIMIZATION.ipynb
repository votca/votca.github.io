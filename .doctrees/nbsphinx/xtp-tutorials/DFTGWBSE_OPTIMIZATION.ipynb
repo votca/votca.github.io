{
 "cells": [
  {
   "cell_type": "markdown",
   "metadata": {},
   "source": [
    "## DFT + GWBSE Optimization Using CO"
   ]
  },
  {
   "cell_type": "markdown",
   "metadata": {},
   "source": [
    "## Introduction\n",
    "This tutorial explains how to perform a molecular geometric optimization using the **GWBSE** method. See [the GW Compendium: A Practical Guide to Theoretical Photoemission Spectroscopy](https://doi.org/10.3389/fchem.2019.00377), for an excellent introduction to the method."
   ]
  },
  {
   "cell_type": "markdown",
   "metadata": {},
   "source": [
    "## Requirements\n",
    "* You will need to install **VOTCA** using the instructions described [here](https://github.com/votca/votca/blob/master/share/doc/INSTALL.rst)\n",
    "* Once the installation is completed you need to activate the VOTCA enviroment by running the `VOTCARC.bash` script that has been installed at the bin subfolder for the path that you have provided for the installation step above"
   ]
  },
  {
   "cell_type": "markdown",
   "metadata": {},
   "source": [
    "## Preparing the input\n",
    "To run a DFT-GWBSE calculation we will use the [xtp_tools](https://www.votca.org/xtp/xtp_tools_overview.html) calculator."
   ]
  },
  {
   "cell_type": "markdown",
   "metadata": {},
   "source": [
    "we can now change the calculator mode from single point energy calculation to optimization as follows by adding \n",
    "`-c geometry_optimization.maxiter=1` which enables optimization with one iteration. "
   ]
  },
  {
   "cell_type": "markdown",
   "metadata": {},
   "source": [
    "Because geometry optimsation is quite expensive numerically we chose a smaller basisset and G0W0 Finally, to run the calculation we just need the following command (This still takes a while)"
   ]
  },
  {
   "cell_type": "code",
   "execution_count": 1,
   "metadata": {
    "execution": {
     "iopub.execute_input": "2022-06-05T15:23:10.427042Z",
     "iopub.status.busy": "2022-06-05T15:23:10.426398Z",
     "iopub.status.idle": "2022-06-05T15:24:07.008170Z",
     "shell.execute_reply": "2022-06-05T15:24:07.008746Z"
    }
   },
   "outputs": [
    {
     "name": "stdout",
     "output_type": "stream",
     "text": [
      "==================================================\r\n",
      "========   VOTCA (http://www.votca.org)   ========\r\n",
      "==================================================\r\n",
      "\r\n",
      "please submit bugs to https://github.com/votca/xtp/issues\r\n",
      "\r\n",
      "xtp_tools, version 2023-dev gitid: 361bf62 (compiled Jun  5 2022, 15:12:57)\r\n",
      "votca_csg, version 2023-dev gitid: 361bf62 (compiled Jun  5 2022, 14:53:45)\r\n",
      "votca_tools, version 2023-dev gitid: 361bf62 (compiled Jun  5 2022, 14:50:15)\r\n",
      "\r\n",
      "Initializing tool\r\n",
      "... dftgwbse Evaluating tool\r\n",
      "... dftgwbse  Using 4 threads\r\n",
      "... ... Reading structure from CO.xyz\r\n",
      "... ... Requested geometry optimization of excited state s1\r\n",
      "... ... Initial state: s1\r\n",
      "... ... WARNING: No tracker is used \r\n",
      "... ... Convergence of total energy: 0.000001 Hartree \r\n",
      "... ... Convergence of RMS Force:    0.000030 Hartree/Bohr \r\n",
      "... ... Convergence of Max Force:    0.000100 Hartree/Bohr \r\n",
      "... ... Convergence of RMS Step:     0.000600 Bohr \r\n",
      "... ... Convergence of Max Step:     0.001000 Bohr \r\n",
      "... ... Initial trust radius:        0.018897 Bohr\r\n",
      "... ... \r\n",
      "... ... =========== OPTIMIZATION SUMMARY ================================= \r\n",
      "... ... At iteration  0\r\n",
      "... ...  ---- POSITIONS (Angstrom)   \r\n",
      "... ...  Atom\t x\t  y\t  z \r\n",
      "... ...    0    +0.0000  +0.0000  +0.0000\r\n",
      "... ...    1    +1.2000  +0.0000  +0.0000\r\n",
      "... ...    Total energy:     -112.26831841 Hartree \r\n",
      "... ...    Trust radius:       0.01889726 Bohr     \r\n",
      "... ...  ---- FORCES (Hartree/Bohr)   \r\n",
      "... ...       central differences   \r\n",
      "... ...       displacement 0.0010 Angstrom   \r\n",
      "... ...  Atom\t x\t  y\t  z \r\n",
      "... ...    0    -0.1314  -0.0000  -0.0000\r\n",
      "... ...    1    +0.1314  +0.0000  +0.0000A\r\n",
      "     0.30157  3.79577e-14  4.02386e-11 -2.03002e-11 -3.13509e-14    -0.051948 -3.71597e-13 -3.77933e-13  1.20664e-13  2.80481e-05    0.0176765  4.92156e-14 -0.000308889   -0.0390241  2.49889e-14    0.0423787  1.36772e-12 -1.26515e-12 -4.06291e-14 -4.14919e-14  2.61001e-05     0.107191 -1.70517e-11          nan          nan          nan          nan          nan          nan          nan          nan          nan          nan          nan          nan\r\n",
      " 3.79566e-14      0.30157 -4.50628e-13  4.44274e-13    -0.051948 -3.15106e-14 -2.47861e-10   -2.678e-10  9.53368e-11    0.0176765 -2.80481e-05  3.87784e-11   -0.0390241  0.000308889    0.0423787  2.48804e-14  2.43834e-13 -2.44709e-13  -3.8803e-11 -3.89056e-11     0.107191 -2.61001e-05   2.1366e-14          nan          nan          nan          nan          nan          nan          nan          nan          nan          nan          nan          nan\r\n",
      " 4.02386e-11 -4.50628e-13     0.310829    0.0100809 -2.45961e-13   -2.443e-11  0.000367356  0.000367356  -0.00014381 -1.61212e-13  1.10804e-11 -6.45976e-05  9.54621e-15  4.61628e-12   3.6399e-14  5.02985e-11   -0.0492359   0.00195793  -0.00033269  4.15305e-05 -1.76523e-12  5.29256e-11   -0.0248114          nan          nan          nan          nan          nan          nan          nan          nan          nan          nan          nan          nan\r\n",
      "-2.03002e-11  4.44274e-13    0.0100809     0.310829  2.53825e-13 -4.20763e-13 -0.000367356 -0.000367356   0.00014381  1.73728e-13 -1.09738e-12  6.45976e-05  4.51155e-15 -2.75535e-12 -5.26334e-14   4.0987e-13   0.00195793   -0.0492359 -4.15305e-05   0.00033269  1.76212e-12 -1.21996e-11    0.0248114          nan          nan          nan          nan          nan          nan          nan          nan          nan          nan          nan          nan\r\n",
      "-3.13569e-14    -0.051948 -2.45961e-13  2.53825e-13     0.487116  3.85615e-15 -1.79509e-10 -1.54659e-10  8.36876e-11   -0.0136235   2.1617e-05  4.01344e-11  -0.00828349  6.55666e-05    0.0302057 -8.59896e-14  1.82675e-13 -1.62554e-13  -2.8284e-11 -2.58462e-11   -0.0548637  1.33588e-05  9.25487e-14          nan          nan          nan          nan          nan          nan          nan          nan          nan          nan          nan          nan\r\n",
      "   -0.051948 -3.15195e-14   -2.443e-11 -4.20763e-13  3.86378e-15     0.487116 -1.96809e-13 -1.89016e-13  1.06184e-13  -2.1617e-05   -0.0136235  5.07496e-14 -6.55666e-05  -0.00828349 -8.61058e-14    0.0302057 -2.31095e-12 -1.26822e-13 -5.12757e-14 -3.12296e-14 -1.33588e-05   -0.0548637   5.5578e-12          nan          nan          nan          nan          nan          nan          nan          nan          nan          nan          nan          nan\r\n",
      "-3.71597e-13 -2.47861e-10  0.000367356 -0.000367356 -1.79509e-10 -1.96809e-13     0.542344     0.221434   -0.0906322  -1.0174e-10  1.80251e-14   -0.0407108 -1.29274e-11  7.91388e-14  7.33088e-11  2.95939e-14  0.000162278  0.000211943    -0.013297     0.033981 -1.06724e-09 -1.12114e-12 -4.02692e-05          nan          nan          nan          nan          nan          nan          nan          nan          nan          nan          nan          nan\r\n",
      "-3.77933e-13   -2.678e-10  0.000367356 -0.000367356 -1.54659e-10 -1.89016e-13     0.221434     0.542344   -0.0906322 -1.11723e-10  3.05576e-14   -0.0407108 -1.47884e-11  9.32353e-14  2.26004e-11  1.33011e-14 -0.000211943 -0.000162278     0.033981    -0.013297 -1.10725e-09 -1.12414e-12 -4.02692e-05          nan          nan          nan          nan          nan          nan          nan          nan          nan          nan          nan          nan\r\n",
      " 1.20664e-13  9.53368e-11  -0.00014381   0.00014381  8.36876e-11  1.06184e-13   -0.0906322   -0.0906322     0.660145  6.15264e-11 -1.96806e-14  -0.00527337 -3.12116e-12  2.05209e-14 -3.30994e-11 -4.21341e-14  2.98856e-05 -2.98856e-05  -0.00472237  -0.00472237  3.60906e-10  3.52629e-13  3.15685e-05          nan          nan          nan          nan          nan          nan          nan          nan          nan          nan          nan          nan\r\n",
      " 2.80481e-05    0.0176765 -1.61213e-13  1.73728e-13   -0.0136235  -2.1617e-05  -1.0174e-10 -1.11723e-10  6.15264e-11     0.669023  2.32515e-15   8.2593e-12  9.83179e-06 -6.22206e-08   0.00903066  1.43294e-05  2.75941e-14 -6.62229e-14 -4.78365e-12 -1.05561e-11    0.0409885  5.50579e-05 -9.34845e-16          nan          nan          nan          nan          nan          nan          nan          nan          nan          nan          nan          nan\r\n",
      "   0.0176765 -2.80481e-05  1.10804e-11 -1.09738e-12   2.1617e-05   -0.0136235  1.80251e-14  3.05574e-14 -1.96806e-14  2.41548e-15     0.669023 -2.65517e-15  6.22206e-08  9.83179e-06 -1.43294e-05   0.00903066 -1.87609e-12  7.64857e-12 -8.47478e-15 -4.70891e-14 -5.50579e-05    0.0409885 -7.91637e-12          nan          nan          nan          nan          nan          nan          nan          nan          nan          nan          nan          nan\r\n",
      " 4.92156e-14  3.87784e-11 -6.45976e-05  6.45976e-05  4.01344e-11  5.07494e-14   -0.0407108   -0.0407108  -0.00527337   8.2593e-12 -2.65515e-15     0.793384  1.18499e-11 -7.87238e-14  3.85088e-12  4.89597e-15  9.64927e-05 -9.64927e-05   -0.0152473   -0.0152473  1.38598e-10  1.35096e-13  1.28094e-05          nan          nan          nan          nan          nan          nan          nan          nan          nan          nan          nan          nan\r\n",
      "-0.000308889   -0.0390241  9.54621e-15  4.51155e-15  -0.00828349 -6.55666e-05 -1.29274e-11 -1.47884e-11 -3.12116e-12  9.83179e-06  6.22206e-08  1.18499e-11     0.954425  4.73066e-14    0.0128941  0.000102061 -3.36924e-14  2.90787e-14  1.11247e-11 -3.32518e-12    0.0199048  0.000152706 -5.11231e-14          nan          nan          nan          nan          nan          nan          nan          nan          nan          nan          nan          nan\r\n",
      "  -0.0390241  0.000308889  4.61628e-12 -2.75535e-12  6.55666e-05  -0.00828349  7.91388e-14  9.32353e-14  2.05209e-14 -6.22206e-08  9.83179e-06 -7.87238e-14  4.72819e-14     0.954425 -0.000102061    0.0128941  6.21844e-12   8.2314e-12 -2.99801e-14 -3.45734e-14 -0.000152706    0.0199048 -6.00196e-12          nan          nan          nan          nan          nan          nan          nan          nan          nan          nan          nan          nan\r\n",
      " 2.49741e-14    0.0423787  3.63989e-14 -5.26334e-14    0.0302057 -8.60987e-14  7.33088e-11  2.26004e-11 -3.30994e-11   0.00903066 -1.43294e-05  3.85088e-12    0.0128941 -0.000102061     0.974684  -5.1338e-14 -1.17638e-13 -3.35315e-14  1.51504e-11 -3.20118e-12    0.0229107 -5.57854e-06 -2.65533e-14          nan          nan          nan          nan          nan          nan          nan          nan          nan          nan          nan          nan\r\n",
      "   0.0423787  2.48753e-14  5.02985e-11   4.0987e-13 -8.59904e-14    0.0302057  2.95938e-14  1.33011e-14 -4.21341e-14  1.43294e-05   0.00903066  4.89597e-15  0.000102061    0.0128941 -5.13384e-14     0.974684  1.25438e-11  5.80778e-12  1.04405e-13 -4.67994e-14  5.57854e-06    0.0229107  5.53102e-13          nan          nan          nan          nan          nan          nan          nan          nan          nan          nan          nan          nan\r\n",
      " 1.36772e-12  2.43834e-13   -0.0492359   0.00195793  1.82675e-13 -2.31095e-12  0.000162278 -0.000211943  2.98856e-05  2.75941e-14 -1.87609e-12  9.64927e-05 -3.36924e-14  6.21844e-12 -1.17638e-13  1.25438e-11      1.02179  -0.00208583 -0.000270625 -0.000270625  9.42216e-13  8.34334e-12   0.00474221          nan          nan          nan          nan          nan          nan          nan          nan          nan          nan          nan          nan\r\n",
      "-1.26515e-12 -2.44709e-13   0.00195793   -0.0492359 -1.62554e-13 -1.26822e-13  0.000211943 -0.000162278 -2.98856e-05 -6.62229e-14  7.64857e-12 -9.64927e-05  2.90786e-14   8.2314e-12 -3.35315e-14  5.80778e-12  -0.00208583      1.02179  0.000270625  0.000270625 -9.86673e-13 -2.71782e-12  -0.00474221          nan          nan          nan          nan          nan          nan          nan          nan          nan          nan          nan          nan\r\n",
      "-4.06291e-14  -3.8803e-11  -0.00033269 -4.15305e-05  -2.8284e-11 -5.12757e-14    -0.013297     0.033981  -0.00472237 -4.78365e-12  -8.4748e-15   -0.0152473  1.11247e-11 -2.99802e-14  1.51504e-11  1.04405e-13 -0.000270625  0.000270625      1.06455     0.044847 -1.50631e-10 -9.46872e-14  1.48558e-05          nan          nan          nan          nan          nan          nan          nan          nan          nan          nan          nan          nan\r\n",
      "-4.14919e-14 -3.89056e-11  4.15305e-05   0.00033269 -2.58462e-11 -3.12296e-14     0.033981    -0.013297  -0.00472237 -1.05561e-11 -4.70891e-14   -0.0152473 -3.32518e-12 -3.45735e-14 -3.20118e-12 -4.67994e-14 -0.000270625  0.000270625     0.044847      1.06455 -1.56185e-10 -1.39682e-13  1.48558e-05          nan          nan          nan          nan          nan          nan          nan          nan          nan          nan          nan          nan\r\n",
      "-1.81733e-05   -0.0746367  1.05538e-12 -1.05393e-12     0.069959  1.70344e-05  6.27387e-10  6.46469e-10 -2.65819e-10    -0.030442  4.08914e-05 -1.18739e-10  -0.00918459  7.04626e-05   -0.0362981 -8.83825e-06 -7.34032e-13  7.02887e-13   1.1549e-10  1.11588e-10    -0.195037 -2.00431e-13 -9.02865e-13          nan          nan          nan          nan          nan          nan          nan          nan          nan          nan          nan          nan\r\n",
      "  -0.0746367  1.81733e-05  -4.4681e-11  2.50231e-11 -1.70344e-05     0.069959  6.71079e-13  6.72508e-13 -2.57925e-13 -4.08914e-05    -0.030442 -1.15795e-13 -7.04626e-05  -0.00918459  8.83825e-06   -0.0362981  1.67332e-12  2.11427e-12  1.23799e-13  9.35206e-14 -2.00397e-13    -0.195037   4.3566e-10          nan          nan          nan          nan          nan          nan          nan          nan          nan          nan          nan          nan\r\n",
      " 3.96221e-11 -1.14039e-13   -0.0141051    0.0141051 -1.18118e-13 -1.12397e-11  0.000130407  0.000130407 -4.27522e-05 -2.15066e-14  1.93487e-11 -1.79182e-05  4.24275e-14  6.23482e-12 -1.39926e-14  4.44164e-11   0.00610184  -0.00610184  5.00171e-05  5.00171e-05 -1.24984e-12  4.38805e-10      0.94222          nan          nan          nan          nan          nan          nan          nan          nan          nan          nan          nan          nan\r\n",
      "        -nan         -nan         -nan         -nan         -nan         -nan         -nan         -nan         -nan         -nan         -nan         -nan         -nan         -nan         -nan         -nan         -nan         -nan         -nan         -nan         -nan         -nan         -nan          nan          nan          nan          nan          nan          nan          nan          nan          nan          nan          nan          nan\r\n",
      "        -nan         -nan         -nan         -nan         -nan         -nan         -nan         -nan         -nan         -nan         -nan         -nan         -nan         -nan         -nan         -nan         -nan         -nan         -nan         -nan         -nan         -nan         -nan         -nan         -nan         -nan         -nan         -nan         -nan         -nan         -nan         -nan         -nan         -nan         -nan\r\n",
      "        -nan         -nan         -nan         -nan         -nan         -nan         -nan         -nan         -nan         -nan         -nan         -nan         -nan         -nan         -nan         -nan         -nan         -nan         -nan         -nan         -nan         -nan         -nan         -nan         -nan         -nan         -nan         -nan         -nan         -nan         -nan         -nan         -nan         -nan         -nan\r\n",
      "        -nan         -nan         -nan         -nan         -nan         -nan         -nan         -nan         -nan         -nan         -nan         -nan         -nan         -nan         -nan         -nan         -nan         -nan         -nan         -nan         -nan         -nan         -nan          nan          nan          nan          nan          nan          nan          nan          nan          nan          nan          nan          nan\r\n",
      "        -nan         -nan         -nan         -nan         -nan         -nan         -nan         -nan         -nan         -nan         -nan         -nan         -nan         -nan         -nan         -nan         -nan         -nan         -nan         -nan         -nan         -nan         -nan          nan          nan          nan          nan          nan          nan          nan          nan          nan          nan          nan          nan\r\n",
      "        -nan         -nan         -nan         -nan         -nan         -nan         -nan         -nan         -nan         -nan         -nan         -nan         -nan         -nan         -nan         -nan         -nan         -nan         -nan         -nan         -nan         -nan         -nan         -nan         -nan         -nan         -nan         -nan         -nan         -nan         -nan         -nan         -nan         -nan         -nan\r\n",
      "        -nan         -nan         -nan         -nan         -nan         -nan         -nan         -nan         -nan         -nan         -nan         -nan         -nan         -nan         -nan         -nan         -nan         -nan         -nan         -nan         -nan         -nan         -nan         -nan         -nan         -nan         -nan         -nan         -nan         -nan         -nan         -nan         -nan         -nan         -nan\r\n",
      "        -nan         -nan         -nan         -nan         -nan         -nan         -nan         -nan         -nan         -nan         -nan         -nan         -nan         -nan         -nan         -nan         -nan         -nan         -nan         -nan         -nan         -nan         -nan          nan          nan          nan          nan          nan          nan          nan          nan          nan          nan          nan          nan\r\n",
      "        -nan         -nan         -nan         -nan         -nan         -nan         -nan         -nan         -nan         -nan         -nan         -nan         -nan         -nan         -nan         -nan         -nan         -nan         -nan         -nan         -nan         -nan         -nan          nan          nan          nan          nan          nan          nan          nan          nan          nan          nan          nan          nan\r\n",
      "        -nan         -nan         -nan         -nan         -nan         -nan         -nan         -nan         -nan         -nan         -nan         -nan         -nan         -nan         -nan         -nan         -nan         -nan         -nan         -nan         -nan         -nan         -nan         -nan          nan          nan          nan         -nan          nan          nan          nan         -nan          nan          nan          nan\r\n",
      "        -nan         -nan         -nan         -nan         -nan         -nan         -nan         -nan         -nan         -nan         -nan         -nan         -nan         -nan         -nan         -nan         -nan         -nan         -nan         -nan         -nan         -nan         -nan         -nan          nan          nan          nan         -nan          nan          nan          nan         -nan          nan          nan          nan\r\n",
      "        -nan         -nan         -nan         -nan         -nan         -nan         -nan         -nan         -nan         -nan         -nan         -nan         -nan         -nan         -nan         -nan         -nan         -nan         -nan         -nan         -nan         -nan         -nan         -nan         -nan         -nan         -nan         -nan         -nan         -nan         -nan         -nan         -nan         -nan         -nan\r\n",
      "B\r\n",
      "   0.0906271  1.64786e-14  2.37899e-11 -9.47664e-12 -1.90648e-14   -0.0326354 -1.56239e-13 -1.60795e-13  7.57327e-14  2.35901e-05    0.0148669  3.24584e-14 -0.000380904   -0.0481223  2.84634e-14    0.0477892  8.41565e-13 -3.25118e-13 -3.18617e-14 -3.61508e-14  5.95954e-06    0.0244755   2.7245e-11         -nan         -nan         -nan         -nan         -nan         -nan         -nan         -nan         -nan         -nan         -nan         -nan\r\n",
      " 1.64736e-14    0.0906271 -1.88818e-13  1.84256e-13   -0.0326354 -1.91661e-14 -9.71219e-11 -1.11435e-10  5.98687e-11    0.0148669 -2.35901e-05  2.55574e-11   -0.0481223  0.000380904    0.0477892  2.83361e-14  1.84496e-13 -1.88797e-13 -2.93419e-11 -2.98584e-11    0.0244755 -5.95954e-06 -9.68972e-14         -nan         -nan         -nan         -nan         -nan         -nan         -nan         -nan         -nan         -nan         -nan         -nan\r\n",
      " 2.37899e-11 -1.88818e-13    0.0997342   0.00553811 -1.45744e-13 -1.60468e-11  0.000179793  0.000179793 -0.000103488 -1.14756e-13  1.04385e-11 -5.02857e-05  3.21857e-14  4.99349e-12  4.43475e-14  6.16292e-11   -0.0659125   0.00225774 -0.000471746  3.21023e-05 -2.28498e-13  7.29616e-12   -0.0408446         -nan         -nan         -nan         -nan         -nan         -nan         -nan         -nan         -nan         -nan         -nan         -nan\r\n",
      "-9.47664e-12  1.84256e-13   0.00553811    0.0997342  1.50928e-13 -3.49772e-13 -0.000179793 -0.000179793  0.000103488  1.27274e-13 -4.62333e-13  5.02857e-05  -1.3408e-14 -2.50867e-12 -6.44292e-14  1.10469e-12   0.00225774   -0.0659125 -3.21023e-05  0.000471746  2.26796e-13  1.40919e-11    0.0408446         -nan         -nan         -nan         -nan         -nan         -nan         -nan         -nan         -nan         -nan         -nan         -nan\r\n",
      "-1.90684e-14   -0.0326354 -1.45744e-13  1.50928e-13     0.236919  7.40645e-16 -1.07963e-10 -9.15661e-11  7.17834e-11    -0.014389  2.28316e-05  3.85681e-11  -0.00947373  7.49878e-05    0.0425853 -1.18058e-13  1.85099e-13 -1.60212e-13 -2.85489e-11 -2.55358e-11   0.00365057  -8.8888e-07 -1.29607e-14         -nan         -nan         -nan         -nan         -nan         -nan         -nan         -nan         -nan         -nan         -nan         -nan\r\n",
      "  -0.0326354 -1.91765e-14 -1.60468e-11 -3.49772e-13  7.50658e-16     0.236919 -1.16671e-13 -1.11537e-13  9.10826e-14 -2.28316e-05    -0.014389  4.87316e-14 -7.49878e-05  -0.00947373 -1.18219e-13    0.0425853 -2.76332e-12 -2.49656e-13 -5.46606e-14 -2.98787e-14   8.8888e-07   0.00365057 -3.19325e-12         -nan         -nan         -nan         -nan         -nan         -nan         -nan         -nan         -nan         -nan         -nan         -nan\r\n",
      "-1.56239e-13 -9.71219e-11  0.000179793 -0.000179793 -1.07963e-10 -1.16671e-13     0.213043     0.107771   -0.0652205  -7.2341e-11  9.62726e-15   -0.0316911 -1.10362e-13 -6.48503e-15  8.97861e-11  3.63282e-14  0.000322416  0.000181432   -0.0344197    0.0292351 -1.37229e-10 -1.38719e-13  9.17825e-05         -nan         -nan         -nan         -nan         -nan         -nan         -nan         -nan         -nan         -nan         -nan         -nan\r\n",
      "-1.60795e-13 -1.11435e-10  0.000179793 -0.000179793 -9.15661e-11 -1.11537e-13     0.107771     0.213043   -0.0652205 -8.23171e-11   2.2162e-14   -0.0316911 -2.59521e-12  1.23368e-14  2.70523e-11  1.61715e-14 -0.000181432 -0.000322416    0.0292351   -0.0344197 -1.58424e-10 -1.40317e-13  9.17825e-05         -nan         -nan         -nan         -nan         -nan         -nan         -nan         -nan         -nan         -nan         -nan         -nan\r\n",
      " 7.57325e-14  5.98687e-11 -0.000103488  0.000103488  7.17834e-11  9.10826e-14   -0.0652205   -0.0652205     0.424482  6.67825e-11  -2.1353e-14   -0.0113321 -1.12924e-11  7.47043e-14  -4.4847e-11 -5.70816e-14  3.80671e-06 -3.80671e-06 -0.000601517 -0.000601517  8.46637e-11  8.05482e-14 -3.97038e-06         -nan         -nan         -nan         -nan         -nan         -nan         -nan         -nan         -nan         -nan         -nan         -nan\r\n",
      " 2.35901e-05    0.0148669 -1.14756e-13  1.27274e-13    -0.014389 -2.28316e-05  -7.2341e-11 -8.23171e-11  6.67825e-11     0.448028  2.99016e-15  5.53472e-12 -0.000495532  3.13598e-06     0.010767  1.70845e-05 -1.69861e-14 -5.12956e-14   1.9396e-12 -8.26648e-12    0.0177615  2.38582e-05 -1.79103e-14         -nan         -nan         -nan         -nan         -nan         -nan         -nan         -nan         -nan         -nan         -nan         -nan\r\n",
      "   0.0148669 -2.35901e-05  1.04385e-11 -4.62333e-13  2.28316e-05    -0.014389  9.62728e-15  2.21617e-14 -2.13531e-14  3.12112e-15     0.448028 -1.78692e-15 -3.13598e-06 -0.000495532 -1.70845e-05     0.010767 -3.28149e-12  1.34875e-11 -1.80973e-14 -8.63537e-14 -2.38582e-05    0.0177615  1.47311e-11         -nan         -nan         -nan         -nan         -nan         -nan         -nan         -nan         -nan         -nan         -nan         -nan\r\n",
      " 3.24584e-14  2.55574e-11 -5.02857e-05  5.02857e-05  3.85681e-11  4.87314e-14   -0.0316911   -0.0316911   -0.0113321  5.53472e-12 -1.78688e-15     0.627711   1.6612e-11 -1.10343e-13  8.80331e-12   1.1199e-14   0.00013833  -0.00013833   -0.0218582   -0.0218582  1.37199e-11  1.09737e-14 -9.75873e-07         -nan         -nan         -nan         -nan         -nan         -nan         -nan         -nan         -nan         -nan         -nan         -nan\r\n",
      "-0.000380904   -0.0481223  3.21857e-14  -1.3408e-14  -0.00947373 -7.49878e-05 -1.10362e-13 -2.59521e-12 -1.12924e-11 -0.000495532 -3.13598e-06   1.6612e-11     0.913264  8.11428e-14    0.0216058  0.000171017 -9.04143e-14  8.11087e-14    2.627e-11 -2.88151e-12    0.0227529  0.000174556 -5.10712e-14         -nan         -nan         -nan         -nan         -nan         -nan         -nan         -nan         -nan         -nan         -nan         -nan\r\n",
      "  -0.0481223  0.000380904  4.99349e-12 -2.50867e-12  7.49878e-05  -0.00947373 -6.48502e-15  1.23368e-14  7.47043e-14  3.13598e-06 -0.000495532 -1.10343e-13  8.10945e-14     0.913264 -0.000171017    0.0216058  1.28126e-11  1.63389e-11  -8.4251e-14 -9.35208e-14 -0.000174556    0.0227529  -4.4564e-12         -nan         -nan         -nan         -nan         -nan         -nan         -nan         -nan         -nan         -nan         -nan         -nan\r\n",
      " 2.84437e-14    0.0477892  4.43474e-14 -6.44292e-14    0.0425853 -1.18205e-13  8.97861e-11  2.70523e-11  -4.4847e-11     0.010767 -1.70845e-05  8.80331e-12    0.0216058 -0.000171017     0.954146 -9.76257e-14 -1.99841e-13 -7.29499e-14  2.56703e-11 -7.44472e-12  -0.00328347  7.99494e-07 -6.05321e-14         -nan         -nan         -nan         -nan         -nan         -nan         -nan         -nan         -nan         -nan         -nan         -nan\r\n",
      "   0.0477892  2.83297e-14  6.16292e-11  1.10469e-12  -1.1806e-13    0.0425853  3.63281e-14  1.61715e-14 -5.70816e-14  1.70845e-05     0.010767   1.1199e-14  0.000171017    0.0216058 -9.76253e-14     0.954146  2.11511e-11  1.19639e-11  1.76869e-13 -9.59874e-14 -7.99493e-07  -0.00328347  5.04446e-11         -nan         -nan         -nan         -nan         -nan         -nan         -nan         -nan         -nan         -nan         -nan         -nan\r\n",
      " 8.41565e-13  1.84496e-13   -0.0659125   0.00225774  1.85099e-13 -2.76332e-12  0.000322416 -0.000181432  3.80671e-06 -1.69861e-14 -3.28149e-12   0.00013833 -9.04144e-14  1.28126e-11 -1.99841e-13  2.11511e-11      1.04646  -0.00440304  -0.00050245  -0.00050245  2.96383e-13  1.69241e-11    0.0159302         -nan         -nan         -nan         -nan         -nan         -nan         -nan         -nan         -nan         -nan         -nan         -nan\r\n",
      "-3.25118e-13 -1.88797e-13   0.00225774   -0.0659125 -1.60212e-13 -2.49656e-13  0.000181432 -0.000322416 -3.80671e-06 -5.12956e-14  1.34875e-11  -0.00013833  8.11087e-14  1.63389e-11 -7.29499e-14  1.19639e-11  -0.00440304      1.04646   0.00050245   0.00050245 -4.07901e-13 -2.99495e-12   -0.0159302         -nan         -nan         -nan         -nan         -nan         -nan         -nan         -nan         -nan         -nan         -nan         -nan\r\n",
      "-3.18617e-14 -2.93419e-11 -0.000471746 -3.21023e-05 -2.85489e-11 -5.46605e-14   -0.0344197    0.0292351 -0.000601517   1.9396e-12 -1.80973e-14   -0.0218582    2.627e-11 -8.42511e-14  2.56703e-11  1.76869e-13  -0.00050245   0.00050245      1.12585    0.0837945 -5.05594e-11  6.04482e-14  8.88984e-05         -nan         -nan         -nan         -nan         -nan         -nan         -nan         -nan         -nan         -nan         -nan         -nan\r\n",
      "-3.61507e-14 -2.98584e-11  3.21023e-05  0.000471746 -2.55358e-11 -2.98787e-14    0.0292351   -0.0344197 -0.000601517 -8.26648e-12 -8.63537e-14   -0.0218582 -2.88151e-12 -9.35209e-14 -7.44472e-12 -9.59874e-14  -0.00050245   0.00050245    0.0837945      1.12585 -6.45018e-11 -5.09632e-14  8.88984e-05         -nan         -nan         -nan         -nan         -nan         -nan         -nan         -nan         -nan         -nan         -nan         -nan\r\n",
      " 1.36544e-05    0.0560778 -9.50282e-13  9.48066e-13   0.00265972  6.47617e-07 -5.82946e-10 -6.11051e-10  9.01039e-11    0.0109729 -1.47395e-05  1.84697e-11    0.0178429 -0.000136888     -0.01806 -4.39745e-06 -2.23877e-13  5.43114e-14   3.1116e-11   9.8983e-12     0.585022  -2.4648e-13 -7.93928e-13         -nan         -nan         -nan         -nan         -nan         -nan         -nan         -nan         -nan         -nan         -nan         -nan\r\n",
      "   0.0560778 -1.36544e-05  1.91366e-11  9.07385e-12 -6.47617e-07   0.00265972 -6.12092e-13  -6.1424e-13  9.27664e-14  1.47395e-05    0.0109729  1.96666e-14  0.000136888    0.0178429  4.39745e-06     -0.01806  1.87671e-11  2.33633e-12  1.52995e-13  -1.5718e-14 -2.46403e-13     0.585022  4.37626e-10         -nan         -nan         -nan         -nan         -nan         -nan         -nan         -nan         -nan         -nan         -nan         -nan\r\n",
      " 1.04368e-11 -8.38839e-14   -0.0412953    0.0412953 -1.16837e-14  -1.3402e-11  9.06287e-05  9.06287e-05 -1.89308e-05 -3.71935e-14  1.74187e-12 -9.95738e-06 -4.41411e-14  -4.6289e-12 -3.42249e-14  4.93372e-11    0.0168388   -0.0168388  0.000106846  0.000106846 -1.16647e-12    4.322e-10      1.94795         -nan         -nan         -nan         -nan         -nan         -nan         -nan         -nan         -nan         -nan         -nan         -nan\r\n",
      "        -nan         -nan         -nan         -nan         -nan         -nan         -nan         -nan         -nan         -nan         -nan         -nan         -nan         -nan         -nan         -nan         -nan         -nan         -nan         -nan         -nan         -nan         -nan         -nan         -nan         -nan         -nan         -nan         -nan         -nan         -nan         -nan         -nan         -nan         -nan\r\n",
      "        -nan         -nan         -nan         -nan         -nan         -nan         -nan         -nan         -nan         -nan         -nan         -nan         -nan         -nan         -nan         -nan         -nan         -nan         -nan         -nan         -nan         -nan         -nan         -nan         -nan         -nan         -nan         -nan         -nan         -nan         -nan         -nan         -nan         -nan         -nan\r\n",
      "        -nan         -nan         -nan         -nan         -nan         -nan         -nan         -nan         -nan         -nan         -nan         -nan         -nan         -nan         -nan         -nan         -nan         -nan         -nan         -nan         -nan         -nan         -nan         -nan         -nan         -nan         -nan         -nan         -nan         -nan         -nan         -nan         -nan         -nan         -nan\r\n",
      "        -nan         -nan         -nan         -nan         -nan         -nan         -nan         -nan         -nan         -nan         -nan         -nan         -nan         -nan         -nan         -nan         -nan         -nan         -nan         -nan         -nan         -nan         -nan         -nan         -nan         -nan         -nan         -nan         -nan         -nan         -nan         -nan         -nan         -nan         -nan\r\n",
      "        -nan         -nan         -nan         -nan         -nan         -nan         -nan         -nan         -nan         -nan         -nan         -nan         -nan         -nan         -nan         -nan         -nan         -nan         -nan         -nan         -nan         -nan         -nan         -nan         -nan         -nan         -nan         -nan         -nan         -nan         -nan         -nan         -nan         -nan         -nan\r\n",
      "        -nan         -nan         -nan         -nan         -nan         -nan         -nan         -nan         -nan         -nan         -nan         -nan         -nan         -nan         -nan         -nan         -nan         -nan         -nan         -nan         -nan         -nan         -nan         -nan         -nan         -nan         -nan         -nan         -nan         -nan         -nan         -nan         -nan         -nan         -nan\r\n",
      "        -nan         -nan         -nan         -nan         -nan         -nan         -nan         -nan         -nan         -nan         -nan         -nan         -nan         -nan         -nan         -nan         -nan         -nan         -nan         -nan         -nan         -nan         -nan         -nan         -nan         -nan         -nan         -nan         -nan         -nan         -nan         -nan         -nan         -nan         -nan\r\n",
      "        -nan         -nan         -nan         -nan         -nan         -nan         -nan         -nan         -nan         -nan         -nan         -nan         -nan         -nan         -nan         -nan         -nan         -nan         -nan         -nan         -nan         -nan         -nan         -nan         -nan         -nan         -nan         -nan         -nan         -nan         -nan         -nan         -nan         -nan         -nan\r\n",
      "        -nan         -nan         -nan         -nan         -nan         -nan         -nan         -nan         -nan         -nan         -nan         -nan         -nan         -nan         -nan         -nan         -nan         -nan         -nan         -nan         -nan         -nan         -nan         -nan         -nan         -nan         -nan         -nan         -nan         -nan         -nan         -nan         -nan         -nan         -nan\r\n",
      "        -nan         -nan         -nan         -nan         -nan         -nan         -nan         -nan         -nan         -nan         -nan         -nan         -nan         -nan         -nan         -nan         -nan         -nan         -nan         -nan         -nan         -nan         -nan         -nan         -nan         -nan         -nan         -nan         -nan         -nan         -nan         -nan         -nan         -nan         -nan\r\n",
      "        -nan         -nan         -nan         -nan         -nan         -nan         -nan         -nan         -nan         -nan         -nan         -nan         -nan         -nan         -nan         -nan         -nan         -nan         -nan         -nan         -nan         -nan         -nan         -nan         -nan         -nan         -nan         -nan         -nan         -nan         -nan         -nan         -nan         -nan         -nan\r\n",
      "        -nan         -nan         -nan         -nan         -nan         -nan         -nan         -nan         -nan         -nan         -nan         -nan         -nan         -nan         -nan         -nan         -nan         -nan         -nan         -nan         -nan         -nan         -nan          nan          nan          nan          nan          nan          nan          nan          nan          nan          nan          nan          nan\r\n",
      "an error occurred:\r\n",
      "Small generalized eigenvalue problem failed.\r\n"
     ]
    }
   ],
   "source": [
    "!xtp_tools -c job_name=CO geometry_optimization.maxiter=1 dftpackage.basisset=3-21G dftpackage.auxbasisset=aux-def2-svp gwbse.gw.mode=G0W0 -e dftgwbse -t 4"
   ]
  },
  {
   "cell_type": "markdown",
   "metadata": {},
   "source": [
    "Notice that we are using 4 threads. The results will be stored in a file named `CO_summary.xml` in the current work directory, together with the optimization step in `optimisation.trj` and the orbitals in [hdf5 format](https://www.hdfgroup.org/solutions/hdf5/) saved on `CO.orb`."
   ]
  }
 ],
 "metadata": {
  "kernelspec": {
   "display_name": "Python 3",
   "language": "python",
   "name": "python3"
  },
  "language_info": {
   "codemirror_mode": {
    "name": "ipython",
    "version": 3
   },
   "file_extension": ".py",
   "mimetype": "text/x-python",
   "name": "python",
   "nbconvert_exporter": "python",
   "pygments_lexer": "ipython3",
   "version": "3.10.4"
  }
 },
 "nbformat": 4,
 "nbformat_minor": 4
}
