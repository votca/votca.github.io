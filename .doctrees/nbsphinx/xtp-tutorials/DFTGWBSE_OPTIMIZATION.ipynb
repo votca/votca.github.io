{
 "cells": [
  {
   "cell_type": "markdown",
   "metadata": {},
   "source": [
    "## DFT + GWBSE Optimization Using CO"
   ]
  },
  {
   "cell_type": "markdown",
   "metadata": {},
   "source": [
    "## Introduction\n",
    "This tutorial explains how to perform a molecular geometric optimization using the **GWBSE** method. See [the GW Compendium: A Practical Guide to Theoretical Photoemission Spectroscopy](https://doi.org/10.3389/fchem.2019.00377), for an excellent introduction to the method."
   ]
  },
  {
   "cell_type": "markdown",
   "metadata": {},
   "source": [
    "## Requirements\n",
    "* You will need to install **VOTCA** using the instructions described [here](https://github.com/votca/votca/blob/master/share/doc/INSTALL.rst)\n",
    "* Once the installation is completed you need to activate the VOTCA enviroment by running the `VOTCARC.bash` script that has been installed at the bin subfolder for the path that you have provided for the installation step above"
   ]
  },
  {
   "cell_type": "markdown",
   "metadata": {},
   "source": [
    "## Preparing the input\n",
    "To run a DFT-GWBSE calculation we will use the [xtp_tools](https://www.votca.org/xtp/xtp_tools_overview.html) calculator."
   ]
  },
  {
   "cell_type": "markdown",
   "metadata": {},
   "source": [
    "we can now change the calculator mode from single point energy calculation to optimization as follows by adding \n",
    "`-c geometry_optimization.maxiter=1` which enables optimization with one iteration. "
   ]
  },
  {
   "cell_type": "markdown",
   "metadata": {},
   "source": [
    "Because geometry optimsation is quite expensive numerically we chose a smaller basisset and G0W0 Finally, to run the calculation we just need the following command (This still takes a while)"
   ]
  },
  {
   "cell_type": "code",
   "execution_count": 1,
   "metadata": {
    "execution": {
     "iopub.execute_input": "2023-06-02T22:02:21.224840Z",
     "iopub.status.busy": "2023-06-02T22:02:21.224494Z",
     "iopub.status.idle": "2023-06-02T22:03:39.530833Z",
     "shell.execute_reply": "2023-06-02T22:03:39.530113Z"
    }
   },
   "outputs": [
    {
     "name": "stdout",
     "output_type": "stream",
     "text": [
      "==================================================\r\n",
      "========   VOTCA (http://www.votca.org)   ========\r\n",
      "==================================================\r\n",
      "\r\n",
      "please submit bugs to https://github.com/votca/votca/issues\r\n",
      "\r\n",
      "xtp_tools, version 2023-rc.2 gitid: 6fa672c (compiled Jun  2 2023, 21:59:21)\r\n",
      "\r\n",
      "Initializing tool\r\n",
      "... dftgwbse Evaluating tool\r\n",
      "... dftgwbse  Using 4 threads\r\n",
      "... ... Reading structure from CO.xyz\r\n",
      "... ... Requested geometry optimization of excited state s1\r\n",
      "... ... Initial state: s1\r\n",
      "... ... WARNING: No tracker is used \r\n",
      "... ... Convergence of total energy: 0.000001 Hartree \r\n",
      "... ... Convergence of RMS Force:    0.000030 Hartree/Bohr \r\n",
      "... ... Convergence of Max Force:    0.000100 Hartree/Bohr \r\n",
      "... ... Convergence of RMS Step:     0.000600 Bohr \r\n",
      "... ... Convergence of Max Step:     0.001000 Bohr \r\n",
      "... ... Initial trust radius:        0.018897 Bohr\r\n",
      "... ... \r\n",
      "... ... =========== OPTIMIZATION SUMMARY ================================= \r\n",
      "... ... At iteration  0\r\n",
      "... ...  ---- POSITIONS (Angstrom)   \r\n",
      "... ...  Atom\t x\t  y\t  z \r\n",
      "... ...    0    +0.0000  +0.0000  +0.0000\r\n",
      "... ...    1    +1.2000  +0.0000  +0.0000\r\n",
      "... ...    Total energy:     -112.26831841 Hartree \r\n",
      "... ...    Trust radius:       0.01889726 Bohr     \r\n",
      "... ...  ---- FORCES (Hartree/Bohr)   \r\n",
      "... ...       central differences   \r\n",
      "... ...       displacement 0.0010 Angstrom   \r\n",
      "... ...  Atom\t x\t  y\t  z \r\n",
      "... ...    0    -0.1314  -0.0000  -0.0000\r\n",
      "... ...    1    +0.1314  +0.0000  +0.0000A\r\n",
      "    0.301149 -1.39358e-12    7.763e-10 -8.97478e-10 -1.21044e-09 -1.05291e-09   -0.0519724  1.02456e-12 -5.96441e-10   -0.0141523     0.010523 -2.27606e-10    0.0390247 -0.000570746    0.0423984 -8.08867e-13 -1.53269e-10 -3.09244e-10   1.9342e-10 -4.05954e-10    -0.107078  -0.00205516 -6.12579e-11          nan          nan          nan          nan          nan          nan          nan          nan          nan          nan          nan          nan\r\n",
      "-1.39357e-12     0.301149 -1.58451e-10   3.1599e-10 -2.12265e-10 -9.10871e-11  1.02461e-12   -0.0519724  7.78082e-12    -0.010523   -0.0141523    3.442e-12 -0.000570746   -0.0390247 -8.08835e-13    0.0423984 -2.08968e-10  3.56667e-12  -1.6261e-10  6.63454e-12  -0.00205516     0.107078 -6.00518e-11          nan          nan          nan          nan          nan          nan          nan          nan          nan          nan          nan          nan\r\n",
      "   7.763e-10 -1.58451e-10     0.392603     -0.07237    -0.110892    -0.110892 -1.74728e-10  9.03139e-11   -0.0543028 -3.36669e-11  1.20643e-10   -0.0244783  1.89656e-09 -6.35958e-11  1.18287e-10 -2.97088e-11    0.0361946   -0.0110646     0.017008   -0.0176991  -8.0149e-09 -4.14467e-10     0.024135          nan          nan          nan          nan          nan          nan          nan          nan          nan          nan          nan          nan\r\n",
      "-8.97478e-10   3.1599e-10     -0.07237     0.392603     0.110892     0.110892  2.18577e-10 -1.45152e-10    0.0543028  3.42496e-11 -1.25943e-10    0.0244783 -1.91635e-09  3.81613e-11 -2.13163e-10  1.52131e-10    0.0110646   -0.0361946   -0.0176991     0.017008  8.10391e-09  5.32563e-10    -0.024135          nan          nan          nan          nan          nan          nan          nan          nan          nan          nan          nan          nan\r\n",
      "-1.21044e-09 -2.12265e-10    -0.110892     0.110892     0.459288     0.139055  2.95339e-10  1.10858e-10    0.0730317  1.44757e-10 -3.90435e-11    0.0329208 -2.57697e-09 -1.94086e-12 -2.87261e-10 -1.13717e-10    0.0167841    0.0174752   -0.0208853   -0.0263739  1.09032e-08  1.54344e-10    0.0099052          nan          nan          nan          nan          nan          nan          nan          nan          nan          nan          nan          nan\r\n",
      "-1.05291e-09 -9.10871e-11    -0.110892     0.110892     0.139055     0.459288  2.40501e-10  6.70083e-11    0.0730317  1.39457e-10 -3.96262e-11    0.0329208 -2.55153e-09 -2.17314e-11 -1.64839e-10 -1.88412e-11    0.0174752    0.0167841    0.0263739    0.0208853  1.07841e-08  2.44144e-10    0.0099052          nan          nan          nan          nan          nan          nan          nan          nan          nan          nan          nan          nan\r\n",
      "  -0.0519724  1.02461e-12 -1.74728e-10  2.18577e-10  2.95339e-10  2.40501e-10     0.486835 -2.42866e-13  1.72843e-10    0.0109416  -0.00813565  3.80709e-11   0.00830517 -0.000121465    0.0301449  2.92628e-12 -9.09686e-11  1.01002e-10  1.26706e-10  1.34727e-10    0.0549839   0.00105531  4.03001e-11          nan          nan          nan          nan          nan          nan          nan          nan          nan          nan          nan          nan\r\n",
      " 1.02456e-12   -0.0519724  9.03139e-11 -1.45152e-10  1.10858e-10  6.70083e-11 -2.42864e-13     0.486835  6.77918e-13   0.00813565    0.0109416  3.75518e-13 -0.000121465  -0.00830517  2.92624e-12    0.0301449  2.68832e-10  7.39969e-12  2.01554e-10 -9.58357e-12   0.00105531   -0.0549839 -2.31852e-10          nan          nan          nan          nan          nan          nan          nan          nan          nan          nan          nan          nan\r\n",
      "-5.96441e-10  7.78082e-12   -0.0543028    0.0543028    0.0730317    0.0730317  1.72843e-10  6.77918e-13     0.659928  2.69013e-10 -2.06051e-10  -0.00518518  -7.7755e-10  4.30238e-12 -1.32471e-10  3.11302e-13   0.00290253   0.00290253  -0.00378668   0.00378668  5.24926e-09   1.6948e-10  -0.00254933          nan          nan          nan          nan          nan          nan          nan          nan          nan          nan          nan          nan\r\n",
      "  -0.0141523    -0.010523 -3.36669e-11  3.42496e-11  1.44757e-10  1.39457e-10    0.0109416   0.00813565  2.69013e-10     0.668107  7.23794e-13 -7.85414e-11  1.34243e-05 -1.02899e-05  -0.00727054  -0.00540601 -2.58934e-11 -3.27343e-11  1.08798e-09 -4.34455e-11    0.0333516   -0.0238186 -8.05312e-10          nan          nan          nan          nan          nan          nan          nan          nan          nan          nan          nan          nan\r\n",
      "    0.010523   -0.0141523  1.20643e-10 -1.25943e-10 -3.90435e-11 -3.96262e-11  -0.00813565    0.0109416 -2.06051e-10  7.23716e-13     0.668107  5.94885e-11 -1.02899e-05 -1.34243e-05   0.00540601  -0.00727054  1.07333e-09  2.87937e-11 -2.52439e-11  1.84031e-11   -0.0238186   -0.0333516 -1.12534e-09          nan          nan          nan          nan          nan          nan          nan          nan          nan          nan          nan          nan\r\n",
      "-2.27606e-10    3.442e-12   -0.0244783    0.0244783    0.0329208    0.0329208  3.80709e-11  3.75518e-13  -0.00518518 -7.85414e-11  5.94885e-11     0.793012 -5.00993e-10  3.69681e-12 -7.51912e-11  8.95274e-13   0.00931038   0.00931038   -0.0121464    0.0121464  2.00048e-09  6.64547e-11  -0.00104087          nan          nan          nan          nan          nan          nan          nan          nan          nan          nan          nan          nan\r\n",
      "   0.0390247 -0.000570746  1.89656e-09 -1.91635e-09 -2.57697e-09 -2.55153e-09   0.00830517 -0.000121465  -7.7755e-10  1.34243e-05 -1.02899e-05 -5.00993e-10     0.954263 -3.99916e-13   -0.0128737  0.000188281 -1.22645e-09 -1.11892e-09  1.60056e-09 -1.45951e-09    0.0198849  0.000672665  1.19517e-10          nan          nan          nan          nan          nan          nan          nan          nan          nan          nan          nan          nan\r\n",
      "-0.000570746   -0.0390247 -6.35958e-11  3.81613e-11 -1.94086e-12 -2.17314e-11 -0.000121465  -0.00830517  4.30238e-12 -1.02899e-05 -1.34243e-05  3.69681e-12  -3.9992e-13     0.954263  0.000188281    0.0128737 -5.52832e-11  8.57625e-11 -5.71194e-11  -5.0412e-11 -0.000672665    0.0198849 -3.53179e-11          nan          nan          nan          nan          nan          nan          nan          nan          nan          nan          nan          nan\r\n",
      "   0.0423984 -8.08836e-13  1.18287e-10 -2.13163e-10 -2.87261e-10 -1.64839e-10    0.0301449  2.92624e-12 -1.32471e-10  -0.00727054   0.00540601 -7.51912e-11   -0.0128737  0.000188281     0.973645  1.58404e-12   -1.189e-10 -3.32822e-11  1.59567e-10 -4.16475e-11   -0.0229463  -0.00044041 -1.74874e-11          nan          nan          nan          nan          nan          nan          nan          nan          nan          nan          nan          nan\r\n",
      "-8.08867e-13    0.0423984 -2.97088e-11  1.52131e-10 -1.13717e-10 -1.88412e-11  2.92628e-12    0.0301449  3.11302e-13  -0.00540601  -0.00727054  8.95274e-13  0.000188281    0.0128737  1.58404e-12     0.973645  1.25787e-10  7.86782e-12  9.29521e-11 -7.33446e-12  -0.00044041    0.0229463 -5.37914e-10          nan          nan          nan          nan          nan          nan          nan          nan          nan          nan          nan          nan\r\n",
      "-1.53269e-10 -2.08968e-10    0.0361946    0.0110646    0.0167841    0.0174752 -9.09686e-11  2.68832e-10   0.00290253 -2.58934e-11  1.07333e-09   0.00931038 -1.22645e-09 -5.52832e-11   -1.189e-10  1.25787e-10      1.03706    0.0178923    -0.020622     0.020622  1.53356e-09 -1.55752e-11   0.00299746          nan          nan          nan          nan          nan          nan          nan          nan          nan          nan          nan          nan\r\n",
      "-3.09244e-10  3.56667e-12   -0.0110646   -0.0361946    0.0174752    0.0167841  1.01002e-10  7.39969e-12   0.00290253 -3.27343e-11  2.87937e-11   0.00931038 -1.11892e-09  8.57625e-11 -3.32822e-11  7.86782e-12    0.0178923      1.03706    -0.020622     0.020622   1.5837e-09   5.4876e-11   0.00299746          nan          nan          nan          nan          nan          nan          nan          nan          nan          nan          nan          nan\r\n",
      "  1.9342e-10  -1.6261e-10     0.017008   -0.0176991   -0.0208853    0.0263739  1.26706e-10  2.01554e-10  -0.00378668  1.08798e-09 -2.52439e-11   -0.0121464  1.60056e-09 -5.71194e-11  1.59567e-10  9.29521e-11    -0.020622    -0.020622      1.04816   -0.0289889  -1.9946e-09 -1.11589e-10   0.00432222          nan          nan          nan          nan          nan          nan          nan          nan          nan          nan          nan          nan\r\n",
      "-4.05954e-10  6.63454e-12   -0.0176991     0.017008   -0.0263739    0.0208853  1.34727e-10 -9.58357e-12   0.00378668 -4.34455e-11  1.84031e-11    0.0121464 -1.45951e-09  -5.0412e-11 -4.16475e-11 -7.33446e-12     0.020622     0.020622   -0.0289889      1.04816  2.06504e-09   6.1483e-11  -0.00432222          nan          nan          nan          nan          nan          nan          nan          nan          nan          nan          nan          nan\r\n",
      "   0.0745723   0.00143127  5.47705e-09 -5.49647e-09 -7.39291e-09 -7.36905e-09   -0.0700165  -0.00134383 -4.11184e-09   -0.0247388    0.0176676 -1.74854e-09  -0.00919322  0.000310987    0.0362821  0.000696366 -1.24171e-09    -1.27e-09  1.61386e-09 -1.65454e-09    -0.195058 -8.52421e-12   3.6975e-10          nan          nan          nan          nan          nan          nan          nan          nan          nan          nan          nan          nan\r\n",
      "  0.00143127   -0.0745723  4.32339e-10 -4.55969e-10 -3.16961e-11 -5.11784e-11  -0.00134383    0.0700165 -1.31317e-10    0.0176676    0.0247388 -5.67453e-11 -0.000310987  -0.00919322  0.000696366   -0.0362821  4.20338e-11  1.56479e-12  1.13967e-10 -8.54835e-11 -8.52417e-12    -0.195058   6.1637e-09          nan          nan          nan          nan          nan          nan          nan          nan          nan          nan          nan          nan\r\n",
      " 1.16278e-11  8.01863e-10   0.00563883  -0.00563883    0.0180893    0.0180893 -5.69263e-11 -7.00074e-10   0.00440932 -1.14473e-09 -1.47543e-09   0.00189414 -1.43565e-10   1.2028e-10   1.8289e-11  3.41329e-11   0.00561649   0.00561649   0.00306464  -0.00306464  8.25471e-10  6.32092e-09      1.05428          nan          nan          nan          nan          nan          nan          nan          nan          nan          nan          nan          nan\r\n",
      "        -nan         -nan         -nan         -nan         -nan         -nan         -nan         -nan         -nan         -nan         -nan         -nan         -nan         -nan         -nan         -nan         -nan         -nan         -nan         -nan         -nan         -nan         -nan          nan          nan          nan          nan          nan          nan          nan          nan          nan          nan          nan          nan\r\n",
      "        -nan         -nan         -nan         -nan         -nan         -nan         -nan         -nan         -nan         -nan         -nan         -nan         -nan         -nan         -nan         -nan         -nan         -nan         -nan         -nan         -nan         -nan         -nan         -nan         -nan         -nan         -nan         -nan         -nan         -nan         -nan         -nan         -nan         -nan         -nan\r\n",
      "        -nan         -nan         -nan         -nan         -nan         -nan         -nan         -nan         -nan         -nan         -nan         -nan         -nan         -nan         -nan         -nan         -nan         -nan         -nan         -nan         -nan         -nan         -nan         -nan         -nan         -nan         -nan         -nan         -nan         -nan         -nan         -nan         -nan         -nan         -nan\r\n",
      "        -nan         -nan         -nan         -nan         -nan         -nan         -nan         -nan         -nan         -nan         -nan         -nan         -nan         -nan         -nan         -nan         -nan         -nan         -nan         -nan         -nan         -nan         -nan          nan          nan          nan          nan          nan          nan          nan          nan          nan          nan          nan          nan\r\n",
      "        -nan         -nan         -nan         -nan         -nan         -nan         -nan         -nan         -nan         -nan         -nan         -nan         -nan         -nan         -nan         -nan         -nan         -nan         -nan         -nan         -nan         -nan         -nan          nan          nan          nan          nan          nan          nan          nan          nan          nan          nan          nan          nan\r\n",
      "        -nan         -nan         -nan         -nan         -nan         -nan         -nan         -nan         -nan         -nan         -nan         -nan         -nan         -nan         -nan         -nan         -nan         -nan         -nan         -nan         -nan         -nan         -nan         -nan         -nan         -nan         -nan         -nan         -nan         -nan         -nan         -nan         -nan         -nan         -nan\r\n",
      "        -nan         -nan         -nan         -nan         -nan         -nan         -nan         -nan         -nan         -nan         -nan         -nan         -nan         -nan         -nan         -nan         -nan         -nan         -nan         -nan         -nan         -nan         -nan         -nan         -nan         -nan         -nan         -nan         -nan         -nan         -nan         -nan         -nan         -nan         -nan\r\n",
      "        -nan         -nan         -nan         -nan         -nan         -nan         -nan         -nan         -nan         -nan         -nan         -nan         -nan         -nan         -nan         -nan         -nan         -nan         -nan         -nan         -nan         -nan         -nan          nan          nan          nan          nan          nan          nan          nan          nan          nan          nan          nan          nan\r\n",
      "        -nan         -nan         -nan         -nan         -nan         -nan         -nan         -nan         -nan         -nan         -nan         -nan         -nan         -nan         -nan         -nan         -nan         -nan         -nan         -nan         -nan         -nan         -nan          nan          nan          nan          nan          nan          nan          nan          nan          nan          nan          nan          nan\r\n",
      "        -nan         -nan         -nan         -nan         -nan         -nan         -nan         -nan         -nan         -nan         -nan         -nan         -nan         -nan         -nan         -nan         -nan         -nan         -nan         -nan         -nan         -nan         -nan         -nan          nan          nan          nan         -nan          nan          nan          nan         -nan          nan          nan          nan\r\n",
      "        -nan         -nan         -nan         -nan         -nan         -nan         -nan         -nan         -nan         -nan         -nan         -nan         -nan         -nan         -nan         -nan         -nan         -nan         -nan         -nan         -nan         -nan         -nan         -nan          nan          nan          nan         -nan          nan          nan          nan         -nan          nan          nan          nan\r\n",
      "        -nan         -nan         -nan         -nan         -nan         -nan         -nan         -nan         -nan         -nan         -nan         -nan         -nan         -nan         -nan         -nan         -nan         -nan         -nan         -nan         -nan         -nan         -nan         -nan         -nan         -nan         -nan         -nan         -nan         -nan         -nan         -nan         -nan         -nan         -nan\r\n",
      "B\r\n",
      "   0.0903883 -6.21627e-13  2.85492e-10 -3.62373e-10  -4.8904e-10  -3.8907e-10   -0.0326152  6.28418e-13 -3.69431e-10   -0.0118878   0.00883918 -1.51549e-10    0.0481024  -0.00070351    0.0477611  -9.2843e-13 -1.01614e-10  -3.1204e-10  1.23459e-10 -4.10249e-10    -0.024424 -0.000468772 -4.29899e-11         -nan         -nan         -nan         -nan         -nan         -nan         -nan         -nan         -nan         -nan         -nan         -nan\r\n",
      "-6.21623e-13    0.0903883  -7.7274e-11  1.77244e-10 -1.23375e-10 -4.64948e-11  6.28445e-13   -0.0326152    4.819e-12  -0.00883918   -0.0118878  2.33494e-12  -0.00070351   -0.0481024 -9.28402e-13    0.0477611 -2.96062e-10 -9.27119e-12 -2.27403e-10  1.69775e-11 -0.000468772     0.024424  7.66553e-10         -nan         -nan         -nan         -nan         -nan         -nan         -nan         -nan         -nan         -nan         -nan         -nan\r\n",
      " 2.85492e-10  -7.7274e-11     0.139556   -0.0347217   -0.0541298   -0.0541298 -8.42603e-11  6.17292e-11   -0.0390125  -2.4234e-11  1.02216e-10   -0.0190427  2.04376e-09 -7.09705e-11  9.97152e-11 -3.05331e-11    0.0544379  -0.00913409    0.0148789   -0.0158087 -4.08691e-10  8.59615e-11     0.031483         -nan         -nan         -nan         -nan         -nan         -nan         -nan         -nan         -nan         -nan         -nan         -nan\r\n",
      "-3.62373e-10  1.77244e-10   -0.0347217     0.139556    0.0541298    0.0541298  1.19227e-10 -1.05761e-10    0.0390125  2.48055e-11 -1.08694e-10    0.0190427 -2.07304e-09  3.33917e-11 -2.21378e-10  1.87692e-10   0.00913409   -0.0544379   -0.0158087    0.0148789  4.79832e-10  1.06021e-11    -0.031483         -nan         -nan         -nan         -nan         -nan         -nan         -nan         -nan         -nan         -nan         -nan         -nan\r\n",
      " -4.8904e-10 -1.23375e-10   -0.0541298    0.0541298     0.172107    0.0672725  1.61296e-10  8.11088e-11    0.0524678  1.22554e-10 -2.83589e-11    0.0256104 -2.78741e-09  3.11301e-12 -2.98314e-10 -1.41244e-10    0.0143419    0.0152717   -0.0177209   -0.0458512  6.49287e-10  3.57979e-11    0.0290197         -nan         -nan         -nan         -nan         -nan         -nan         -nan         -nan         -nan         -nan         -nan         -nan\r\n",
      " -3.8907e-10 -4.64948e-11   -0.0541298    0.0541298    0.0672725     0.172107  1.17264e-10  4.61417e-11    0.0524678  1.16076e-10 -2.89305e-11    0.0256104 -2.74983e-09 -2.61694e-11 -1.41155e-10 -1.95808e-11    0.0152717    0.0143419    0.0458512    0.0177209  5.52071e-10  1.07623e-10    0.0290197         -nan         -nan         -nan         -nan         -nan         -nan         -nan         -nan         -nan         -nan         -nan         -nan\r\n",
      "  -0.0326152  6.28445e-13 -8.42603e-11  1.19227e-10  1.61296e-10  1.17264e-10     0.236624 -1.36098e-13  1.31185e-10     0.011541  -0.00858133  2.26189e-11   0.00949837 -0.000138916    0.0424653  4.01636e-12 -1.63166e-10   1.2313e-10  2.24972e-10  1.65058e-10  -0.00359498 -6.89989e-05  -5.8335e-12         -nan         -nan         -nan         -nan         -nan         -nan         -nan         -nan         -nan         -nan         -nan         -nan\r\n",
      " 6.28417e-13   -0.0326152  6.17292e-11 -1.05761e-10  8.11088e-11  4.61417e-11 -1.36099e-13     0.236624   8.2794e-13   0.00858133     0.011541  4.88545e-13 -0.000138916  -0.00949837  4.01631e-12    0.0424653   4.0315e-10  1.31203e-11  3.02095e-10 -1.57994e-11 -6.89989e-05   0.00359498 -8.20207e-10         -nan         -nan         -nan         -nan         -nan         -nan         -nan         -nan         -nan         -nan         -nan         -nan\r\n",
      "-3.69431e-10    4.819e-12   -0.0390125    0.0390125    0.0524678    0.0524678  1.31185e-10   8.2794e-13     0.424108   3.2932e-10 -2.51951e-10   -0.0112617 -9.33328e-10  4.68623e-12 -1.79933e-10  4.11535e-13  0.000394967  0.000394967 -0.000515278  0.000515278  1.09688e-09  3.91311e-11   0.00122962         -nan         -nan         -nan         -nan         -nan         -nan         -nan         -nan         -nan         -nan         -nan         -nan\r\n",
      "  -0.0118878  -0.00883918  -2.4234e-11  2.48055e-11  1.22554e-10  1.16076e-10     0.011541   0.00858133   3.2932e-10     0.446812  9.52611e-13 -1.11852e-10 -0.000384254  0.000294535  -0.00866319  -0.00644152 -4.68025e-11 -5.81956e-11  1.82462e-09 -7.91701e-11     0.014455   -0.0103233 -1.77905e-09         -nan         -nan         -nan         -nan         -nan         -nan         -nan         -nan         -nan         -nan         -nan         -nan\r\n",
      "  0.00883918   -0.0118878  1.02216e-10 -1.08694e-10 -2.83589e-11 -2.89305e-11  -0.00858133     0.011541 -2.51951e-10  9.52499e-13     0.446812  8.49522e-11  0.000294535  0.000384254   0.00644152  -0.00866319  1.79841e-09  5.29609e-11 -4.59378e-11  3.45447e-11   -0.0103233    -0.014455 -2.38382e-09         -nan         -nan         -nan         -nan         -nan         -nan         -nan         -nan         -nan         -nan         -nan         -nan\r\n",
      "-1.51549e-10  2.33494e-12   -0.0190427    0.0190427    0.0256104    0.0256104  2.26189e-11  4.88546e-13   -0.0112617 -1.11852e-10  8.49522e-11     0.627074 -6.51482e-10  4.85253e-12 -1.03755e-10  1.33267e-12    0.0133382    0.0133382   -0.0174012    0.0174012  2.10974e-10  1.00727e-11  0.000508087         -nan         -nan         -nan         -nan         -nan         -nan         -nan         -nan         -nan         -nan         -nan         -nan\r\n",
      "   0.0481024  -0.00070351  2.04376e-09 -2.07304e-09 -2.78741e-09 -2.74983e-09   0.00949837 -0.000138916 -9.33328e-10 -0.000384254  0.000294535 -6.51482e-10     0.912954 -7.13442e-13   -0.0215515  0.000315196 -2.20325e-09 -1.98525e-09  2.87533e-09 -2.58937e-09    0.0227031  0.000767999   5.3523e-11         -nan         -nan         -nan         -nan         -nan         -nan         -nan         -nan         -nan         -nan         -nan         -nan\r\n",
      " -0.00070351   -0.0481024 -7.09705e-11  3.33917e-11  3.11301e-12 -2.61694e-11 -0.000138916  -0.00949837  4.68623e-12  0.000294535  0.000384254  4.85253e-12  -7.1345e-13     0.912954  0.000315196    0.0215515 -1.18725e-10  1.67235e-10 -1.16981e-10 -1.01012e-10 -0.000767999    0.0227031  1.06679e-10         -nan         -nan         -nan         -nan         -nan         -nan         -nan         -nan         -nan         -nan         -nan         -nan\r\n",
      "   0.0477611   -9.284e-13  9.97152e-11 -2.21378e-10 -2.98314e-10 -1.41155e-10    0.0424653  4.01631e-12 -1.79933e-10  -0.00866319   0.00644152 -1.03755e-10   -0.0215515  0.000315196     0.952112  3.00954e-12 -1.95553e-10 -5.09607e-11  2.62576e-10 -6.33111e-11   0.00321146  6.16379e-05 -2.55765e-12         -nan         -nan         -nan         -nan         -nan         -nan         -nan         -nan         -nan         -nan         -nan         -nan\r\n",
      "-9.28429e-13    0.0477611 -3.05331e-11  1.87692e-10 -1.41244e-10 -1.95808e-11  4.01636e-12    0.0424653  4.11535e-13  -0.00644152  -0.00866319  1.33267e-12  0.000315196    0.0215515  3.00955e-12     0.952112  2.08411e-10  9.14582e-12  1.53947e-10 -9.35491e-12  6.16379e-05  -0.00321146 -4.76084e-10         -nan         -nan         -nan         -nan         -nan         -nan         -nan         -nan         -nan         -nan         -nan         -nan\r\n",
      "-1.01614e-10 -2.96062e-10    0.0544379   0.00913409    0.0143419    0.0152717 -1.63166e-10   4.0315e-10  0.000394967 -4.68025e-11  1.79841e-09    0.0133382 -2.20325e-09 -1.18725e-10 -1.95553e-10  2.08411e-10       1.0747    0.0337324   -0.0382683    0.0382683  4.71957e-10 -1.00539e-10    0.0122985         -nan         -nan         -nan         -nan         -nan         -nan         -nan         -nan         -nan         -nan         -nan         -nan\r\n",
      " -3.1204e-10 -9.27119e-12  -0.00913409   -0.0544379    0.0152717    0.0143419   1.2313e-10  1.31203e-11  0.000394967 -5.81956e-11  5.29609e-11    0.0133382 -1.98525e-09  1.67235e-10 -5.09607e-11  9.14582e-12    0.0337324       1.0747   -0.0382683    0.0382683  5.95005e-10  7.27188e-11    0.0122985         -nan         -nan         -nan         -nan         -nan         -nan         -nan         -nan         -nan         -nan         -nan         -nan\r\n",
      " 1.23459e-10 -2.27403e-10    0.0148789   -0.0158087   -0.0177209    0.0458512  2.24972e-10  3.02095e-10 -0.000515278  1.82462e-09 -4.59378e-11   -0.0174012  2.87533e-09 -1.16981e-10  2.62576e-10  1.53947e-10   -0.0382683   -0.0382683      1.09529   -0.0543246 -6.04901e-10 -1.06057e-10    0.0113544         -nan         -nan         -nan         -nan         -nan         -nan         -nan         -nan         -nan         -nan         -nan         -nan\r\n",
      "-4.10249e-10  1.69775e-11   -0.0158087    0.0148789   -0.0458512    0.0177209  1.65058e-10 -1.57994e-11  0.000515278 -7.91701e-11  3.45447e-11    0.0174012 -2.58937e-09 -1.01012e-10 -6.33111e-11 -9.35491e-12    0.0382683    0.0382683   -0.0543246      1.09529  7.77858e-10 -1.66534e-11   -0.0113544         -nan         -nan         -nan         -nan         -nan         -nan         -nan         -nan         -nan         -nan         -nan         -nan\r\n",
      "  -0.0559712  -0.00107426 -3.92991e-09  3.99794e-09  5.38407e-09  5.29157e-09  -0.00259782 -4.98603e-05  1.12607e-09    0.0089773  -0.00641128  2.79908e-10    0.0177728 -0.000601217    0.0179748  0.000344992 -5.53792e-11 -7.80728e-11  6.32238e-11 -9.79028e-11     0.583856 -9.31243e-12   2.7932e-10         -nan         -nan         -nan         -nan         -nan         -nan         -nan         -nan         -nan         -nan         -nan         -nan\r\n",
      " -0.00107426    0.0559712 -8.50568e-11  1.76725e-10  1.31869e-10  2.00779e-10 -4.98603e-05   0.00259782  3.50497e-11  -0.00641128   -0.0089773  8.91942e-12  0.000601217    0.0177728  0.000344992   -0.0179748  1.40978e-10  1.06623e-10  1.14724e-10 -9.16912e-11 -9.31243e-12     0.583856  4.58171e-09         -nan         -nan         -nan         -nan         -nan         -nan         -nan         -nan         -nan         -nan         -nan         -nan\r\n",
      "-6.70218e-11  4.39686e-10    0.0320958   -0.0320958     0.028991     0.028991 -3.54352e-12  -8.7962e-10   0.00257766 -1.64002e-09 -2.19495e-09   0.00131775 -9.32789e-11  7.03498e-11 -4.86416e-12 -6.05128e-10    0.0136891    0.0136891     0.010994    -0.010994  7.68752e-10  5.08456e-09      2.11694         -nan         -nan         -nan         -nan         -nan         -nan         -nan         -nan         -nan         -nan         -nan         -nan\r\n",
      "        -nan         -nan         -nan         -nan         -nan         -nan         -nan         -nan         -nan         -nan         -nan         -nan         -nan         -nan         -nan         -nan         -nan         -nan         -nan         -nan         -nan         -nan         -nan         -nan         -nan         -nan         -nan         -nan         -nan         -nan         -nan         -nan         -nan         -nan         -nan\r\n",
      "        -nan         -nan         -nan         -nan         -nan         -nan         -nan         -nan         -nan         -nan         -nan         -nan         -nan         -nan         -nan         -nan         -nan         -nan         -nan         -nan         -nan         -nan         -nan         -nan         -nan         -nan         -nan         -nan         -nan         -nan         -nan         -nan         -nan         -nan         -nan\r\n",
      "        -nan         -nan         -nan         -nan         -nan         -nan         -nan         -nan         -nan         -nan         -nan         -nan         -nan         -nan         -nan         -nan         -nan         -nan         -nan         -nan         -nan         -nan         -nan         -nan         -nan         -nan         -nan         -nan         -nan         -nan         -nan         -nan         -nan         -nan         -nan\r\n",
      "        -nan         -nan         -nan         -nan         -nan         -nan         -nan         -nan         -nan         -nan         -nan         -nan         -nan         -nan         -nan         -nan         -nan         -nan         -nan         -nan         -nan         -nan         -nan         -nan         -nan         -nan         -nan         -nan         -nan         -nan         -nan         -nan         -nan         -nan         -nan\r\n",
      "        -nan         -nan         -nan         -nan         -nan         -nan         -nan         -nan         -nan         -nan         -nan         -nan         -nan         -nan         -nan         -nan         -nan         -nan         -nan         -nan         -nan         -nan         -nan         -nan         -nan         -nan         -nan         -nan         -nan         -nan         -nan         -nan         -nan         -nan         -nan\r\n",
      "        -nan         -nan         -nan         -nan         -nan         -nan         -nan         -nan         -nan         -nan         -nan         -nan         -nan         -nan         -nan         -nan         -nan         -nan         -nan         -nan         -nan         -nan         -nan         -nan         -nan         -nan         -nan         -nan         -nan         -nan         -nan         -nan         -nan         -nan         -nan\r\n",
      "        -nan         -nan         -nan         -nan         -nan         -nan         -nan         -nan         -nan         -nan         -nan         -nan         -nan         -nan         -nan         -nan         -nan         -nan         -nan         -nan         -nan         -nan         -nan         -nan         -nan         -nan         -nan         -nan         -nan         -nan         -nan         -nan         -nan         -nan         -nan\r\n",
      "        -nan         -nan         -nan         -nan         -nan         -nan         -nan         -nan         -nan         -nan         -nan         -nan         -nan         -nan         -nan         -nan         -nan         -nan         -nan         -nan         -nan         -nan         -nan         -nan         -nan         -nan         -nan         -nan         -nan         -nan         -nan         -nan         -nan         -nan         -nan\r\n",
      "        -nan         -nan         -nan         -nan         -nan         -nan         -nan         -nan         -nan         -nan         -nan         -nan         -nan         -nan         -nan         -nan         -nan         -nan         -nan         -nan         -nan         -nan         -nan         -nan         -nan         -nan         -nan         -nan         -nan         -nan         -nan         -nan         -nan         -nan         -nan\r\n",
      "        -nan         -nan         -nan         -nan         -nan         -nan         -nan         -nan         -nan         -nan         -nan         -nan         -nan         -nan         -nan         -nan         -nan         -nan         -nan         -nan         -nan         -nan         -nan         -nan         -nan         -nan         -nan         -nan         -nan         -nan         -nan         -nan         -nan         -nan         -nan\r\n",
      "        -nan         -nan         -nan         -nan         -nan         -nan         -nan         -nan         -nan         -nan         -nan         -nan         -nan         -nan         -nan         -nan         -nan         -nan         -nan         -nan         -nan         -nan         -nan         -nan         -nan         -nan         -nan         -nan         -nan         -nan         -nan         -nan         -nan         -nan         -nan\r\n",
      "        -nan         -nan         -nan         -nan         -nan         -nan         -nan         -nan         -nan         -nan         -nan         -nan         -nan         -nan         -nan         -nan         -nan         -nan         -nan         -nan         -nan         -nan         -nan          nan          nan          nan          nan          nan          nan          nan          nan          nan          nan          nan          nan\r\n",
      "an error occurred:\r\n",
      "Small generalized eigenvalue problem failed.\r\n"
     ]
    }
   ],
   "source": [
    "!xtp_tools -c job_name=CO geometry_optimization.maxiter=1 dftpackage.basisset=3-21G dftpackage.auxbasisset=aux-def2-svp gwbse.gw.mode=G0W0 -e dftgwbse -t 4"
   ]
  },
  {
   "cell_type": "markdown",
   "metadata": {},
   "source": [
    "Notice that we are using 4 threads. The results will be stored in a file named `CO_summary.xml` in the current work directory, together with the optimization step in `optimisation.trj` and the orbitals in [hdf5 format](https://www.hdfgroup.org/solutions/hdf5/) saved on `CO.orb`."
   ]
  }
 ],
 "metadata": {
  "kernelspec": {
   "display_name": "Python 3",
   "language": "python",
   "name": "python3"
  },
  "language_info": {
   "codemirror_mode": {
    "name": "ipython",
    "version": 3
   },
   "file_extension": ".py",
   "mimetype": "text/x-python",
   "name": "python",
   "nbconvert_exporter": "python",
   "pygments_lexer": "ipython3",
   "version": "3.11.3"
  }
 },
 "nbformat": 4,
 "nbformat_minor": 4
}
