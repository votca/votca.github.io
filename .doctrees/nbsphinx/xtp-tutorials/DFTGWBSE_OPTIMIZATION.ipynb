{
 "cells": [
  {
   "cell_type": "markdown",
   "metadata": {},
   "source": [
    "## DFT + GWBSE Optimization Using CO"
   ]
  },
  {
   "cell_type": "markdown",
   "metadata": {},
   "source": [
    "## Introduction\n",
    "This tutorial explains how to perform a molecular geometric optimization using the **GWBSE** method. See [the GW Compendium: A Practical Guide to Theoretical Photoemission Spectroscopy](https://doi.org/10.3389/fchem.2019.00377), for an excellent introduction to the method."
   ]
  },
  {
   "cell_type": "markdown",
   "metadata": {},
   "source": [
    "## Requirements\n",
    "* You will need to install **VOTCA** using the instructions described [here](https://github.com/votca/votca/blob/master/share/doc/INSTALL.rst)\n",
    "* Once the installation is completed you need to activate the VOTCA enviroment by running the `VOTCARC.bash` script that has been installed at the bin subfolder for the path that you have provided for the installation step above"
   ]
  },
  {
   "cell_type": "markdown",
   "metadata": {},
   "source": [
    "## Preparing the input\n",
    "To run a DFT-GWBSE calculation we will use the [xtp_tools](https://www.votca.org/xtp/xtp_tools_overview.html) calculator."
   ]
  },
  {
   "cell_type": "markdown",
   "metadata": {},
   "source": [
    "we can now change the calculator mode from single point energy calculation to optimization as follows by adding \n",
    "`-c geometry_optimization.maxiter=1` which enables optimization with one iteration. "
   ]
  },
  {
   "cell_type": "markdown",
   "metadata": {},
   "source": [
    "Because geometry optimsation is quite expensive numerically we chose a smaller basisset and G0W0 Finally, to run the calculation we just need the following command (This still takes a while)"
   ]
  },
  {
   "cell_type": "code",
   "execution_count": 1,
   "metadata": {
    "execution": {
     "iopub.execute_input": "2023-06-16T05:23:07.847973Z",
     "iopub.status.busy": "2023-06-16T05:23:07.847584Z",
     "iopub.status.idle": "2023-06-16T05:24:20.934835Z",
     "shell.execute_reply": "2023-06-16T05:24:20.933698Z"
    }
   },
   "outputs": [
    {
     "name": "stdout",
     "output_type": "stream",
     "text": [
      "==================================================\r\n",
      "========   VOTCA (http://www.votca.org)   ========\r\n",
      "==================================================\r\n",
      "\r\n",
      "please submit bugs to https://github.com/votca/votca/issues\r\n",
      "\r\n",
      "xtp_tools, version 2023-rc.2 gitid: a73593b (compiled Jun 16 2023, 05:18:56)\r\n",
      "\r\n",
      "Initializing tool\r\n",
      "... dftgwbse Evaluating tool\r\n",
      "... dftgwbse  Using 4 threads\r\n",
      "... ... Reading structure from CO.xyz\r\n",
      "... ... Requested geometry optimization of excited state s1\r\n",
      "... ... Initial state: s1\r\n",
      "... ... WARNING: No tracker is used \r\n",
      "... ... Convergence of total energy: 0.000001 Hartree \r\n",
      "... ... Convergence of RMS Force:    0.000030 Hartree/Bohr \r\n",
      "... ... Convergence of Max Force:    0.000100 Hartree/Bohr \r\n",
      "... ... Convergence of RMS Step:     0.000600 Bohr \r\n",
      "... ... Convergence of Max Step:     0.001000 Bohr \r\n",
      "... ... Initial trust radius:        0.018897 Bohr\r\n",
      "... ... \r\n",
      "... ... =========== OPTIMIZATION SUMMARY ================================= \r\n",
      "... ... At iteration  0\r\n",
      "... ...  ---- POSITIONS (Angstrom)   \r\n",
      "... ...  Atom\t x\t  y\t  z \r\n",
      "... ...    0    +0.0000  +0.0000  +0.0000\r\n",
      "... ...    1    +1.2000  +0.0000  +0.0000\r\n",
      "... ...    Total energy:     -112.26831841 Hartree \r\n",
      "... ...    Trust radius:       0.01889726 Bohr     \r\n",
      "... ...  ---- FORCES (Hartree/Bohr)   \r\n",
      "... ...       central differences   \r\n",
      "... ...       displacement 0.0010 Angstrom   \r\n",
      "... ...  Atom\t x\t  y\t  z \r\n",
      "... ...    0    -0.1314  -0.0000  -0.0000\r\n",
      "... ...    1    +0.1314  +0.0000  +0.0000A\r\n",
      "    0.301149 -1.39362e-12  7.81687e-10 -9.03698e-10 -1.20581e-09 -1.04891e-09   -0.0519724  1.02498e-12  -5.9644e-10   -0.0140978    0.0105959 -2.27606e-10    0.0390246 -0.000574601    0.0423984 -8.09296e-13 -1.54306e-10 -3.11383e-10  1.92594e-10 -4.04316e-10    -0.107079   -0.0020217  5.93983e-11 -1.96743e-10          nan          nan          nan          nan          nan          nan          nan          nan          nan          nan          nan\r\n",
      "-1.39362e-12     0.301149 -1.58095e-10  3.14991e-10  -2.1376e-10 -9.17493e-11  1.02503e-12   -0.0519724  7.85754e-12   -0.0105959   -0.0140978  3.47144e-12 -0.000574601   -0.0390246 -8.09319e-13    0.0423984 -2.08085e-10  3.63723e-12 -1.63738e-10  6.66144e-12   -0.0020217     0.107079  6.00517e-11  4.52842e-12          nan          nan          nan          nan          nan          nan          nan          nan          nan          nan          nan\r\n",
      " 7.81687e-10 -1.58095e-10      0.39375   -0.0735172    -0.111231    -0.111231 -1.75949e-10  8.99949e-11   -0.0546792 -3.37453e-11  1.21027e-10    -0.024648  1.90971e-09 -6.34237e-11  1.19118e-10 -2.96385e-11    0.0360145   -0.0112446    0.0170566   -0.0177525 -8.07383e-09  -4.1378e-10   -0.0239452    0.0141524          nan          nan          nan          nan          nan          nan          nan          nan          nan          nan          nan\r\n",
      "-9.03698e-10  3.14991e-10   -0.0735172      0.39375     0.111231     0.111231  2.20089e-10 -1.44601e-10    0.0546792  3.43287e-11 -1.26326e-10     0.024648 -1.92963e-09  3.80965e-11 -2.14641e-10  1.51557e-10    0.0112446   -0.0360145   -0.0177525    0.0170566  8.16352e-09  5.31391e-10    0.0239452    0.0141524          nan          nan          nan          nan          nan          nan          nan          nan          nan          nan          nan\r\n",
      "-1.20581e-09  -2.1376e-10    -0.111231     0.111231     0.458141     0.137908  2.94216e-10  1.11576e-10    0.0727503  1.44372e-10 -3.91562e-11     0.032794 -2.56703e-09 -2.21053e-12 -2.86159e-10  -1.1448e-10    0.0168312    0.0175271   -0.0207052   -0.0265539  1.08659e-08  1.48977e-10   -0.0102185    0.0171309          nan          nan          nan          nan          nan          nan          nan          nan          nan          nan          nan\r\n",
      "-1.04891e-09 -9.17493e-11    -0.111231     0.111231     0.137908     0.458141   2.3961e-10  6.74361e-11    0.0727503  1.39073e-10 -3.97396e-11     0.032794 -2.54171e-09 -2.21379e-11 -1.64241e-10  -1.8958e-11    0.0175271    0.0168312    0.0265539    0.0207052  1.07474e-08  2.39433e-10   -0.0102185   -0.0171309          nan          nan          nan          nan          nan          nan          nan          nan          nan          nan          nan\r\n",
      "  -0.0519724  1.02503e-12 -1.75949e-10  2.20089e-10  2.94216e-10   2.3961e-10     0.486835 -2.42451e-13  1.72843e-10    0.0108995  -0.00819205  3.80713e-11   0.00830516 -0.000122286    0.0301449  2.92691e-12 -9.16076e-11  1.01719e-10  1.26245e-10  1.34186e-10    0.0549842   0.00103813 -3.89018e-11  1.51288e-10          nan          nan          nan          nan          nan          nan          nan          nan          nan          nan          nan\r\n",
      " 1.02498e-12   -0.0519724  8.99949e-11 -1.44601e-10  1.11576e-10  6.74361e-11 -2.42455e-13     0.486835  6.55875e-13   0.00819205    0.0108995  3.70572e-13 -0.000122286  -0.00830516  2.92693e-12    0.0301449  2.67773e-10  7.34161e-12  2.02958e-10 -9.63187e-12   0.00103813   -0.0549842  2.32038e-10 -2.53577e-12          nan          nan          nan          nan          nan          nan          nan          nan          nan          nan          nan\r\n",
      " -5.9644e-10  7.85754e-12   -0.0546792    0.0546792    0.0727503    0.0727503  1.72843e-10  6.55875e-13     0.659928  2.67919e-10 -2.07472e-10  -0.00518518  -7.7755e-10  4.27925e-12 -1.32471e-10  3.28053e-13   0.00292242   0.00292242  -0.00377135   0.00377135  5.25156e-09  1.68212e-10   0.00245669 -1.13452e-10          nan          nan          nan          nan          nan          nan          nan          nan          nan          nan          nan\r\n",
      "  -0.0140978   -0.0105959 -3.37453e-11  3.43287e-11  1.44372e-10  1.39073e-10    0.0108995   0.00819205  2.67919e-10     0.668107  7.20379e-13 -7.82258e-11    1.337e-05 -1.03604e-05  -0.00724252  -0.00544349 -2.59684e-11 -3.27784e-11  1.08771e-09 -4.31754e-11    0.0332207   -0.0240009  8.12786e-10  1.06284e-09          nan          nan          nan          nan          nan          nan          nan          nan          nan          nan          nan\r\n",
      "   0.0105959   -0.0140978  1.21027e-10 -1.26326e-10 -3.91562e-11 -3.97396e-11  -0.00819205    0.0108995 -2.07472e-10  7.20376e-13     0.668107  5.99036e-11 -1.03604e-05   -1.337e-05   0.00544349  -0.00724252   1.0736e-09   2.9064e-11  -2.5321e-11   1.8511e-11   -0.0240009   -0.0332207  1.12115e-09 -8.07267e-10          nan          nan          nan          nan          nan          nan          nan          nan          nan          nan          nan\r\n",
      "-2.27606e-10  3.47144e-12    -0.024648     0.024648     0.032794     0.032794  3.80713e-11  3.70572e-13  -0.00518518 -7.82258e-11  5.99036e-11     0.793012 -5.00994e-10  3.68208e-12 -7.51916e-11  9.04889e-13   0.00937418   0.00937418   -0.0120973    0.0120973  2.00145e-09  6.59593e-11   0.00100228 -5.26677e-11          nan          nan          nan          nan          nan          nan          nan          nan          nan          nan          nan\r\n",
      "   0.0390246 -0.000574601  1.90971e-09 -1.92963e-09 -2.56703e-09 -2.54171e-09   0.00830516 -0.000122286  -7.7755e-10    1.337e-05 -1.03604e-05 -5.00994e-10     0.954263 -3.99721e-13   -0.0128737  0.000189553 -1.23486e-09 -1.12659e-09  1.59408e-09  -1.4536e-09    0.0198851  0.000668415 -1.15525e-10  5.04555e-11          nan          nan          nan          nan          nan          nan          nan          nan          nan          nan          nan\r\n",
      "-0.000574601   -0.0390246 -6.34237e-11  3.80965e-11 -2.21053e-12 -2.21379e-11 -0.000122286  -0.00830516  4.27925e-12 -1.03604e-05   -1.337e-05  3.68208e-12 -3.99719e-13     0.954263  0.000189553    0.0128737 -5.50152e-11  8.54595e-11 -5.73664e-11 -5.09101e-11 -0.000668415    0.0198851  3.53061e-11 -9.78364e-13          nan          nan          nan          nan          nan          nan          nan          nan          nan          nan          nan\r\n",
      "   0.0423984 -8.09319e-13  1.19118e-10 -2.14641e-10 -2.86159e-10 -1.64241e-10    0.0301449  2.92693e-12 -1.32471e-10  -0.00724252   0.00544349 -7.51916e-11   -0.0128737  0.000189553     0.973645  1.58501e-12 -1.19726e-10 -3.34966e-11  1.58949e-10 -4.14755e-11   -0.0229464 -0.000433239  1.71818e-11  1.71532e-10          nan          nan          nan          nan          nan          nan          nan          nan          nan          nan          nan\r\n",
      "-8.09297e-13    0.0423984 -2.96385e-11  1.51557e-10  -1.1448e-10  -1.8958e-11  2.92691e-12    0.0301449  3.28053e-13  -0.00544349  -0.00724252  9.04889e-13  0.000189553    0.0128737    1.585e-12     0.973645  1.25309e-10  7.83608e-12   9.3596e-11 -7.36709e-12 -0.000433239    0.0229464  5.38229e-10  1.05304e-12          nan          nan          nan          nan          nan          nan          nan          nan          nan          nan          nan\r\n",
      "-1.54306e-10 -2.08085e-10    0.0360145    0.0112446    0.0168312    0.0175271 -9.16076e-11  2.67773e-10   0.00292242 -2.59684e-11   1.0736e-09   0.00937418 -1.23486e-09 -5.50152e-11 -1.19726e-10  1.25309e-10      1.03728    0.0181096   -0.0206792    0.0206792  1.54448e-09 -1.53369e-11  -0.00300334  0.000153332          nan          nan          nan          nan          nan          nan          nan          nan          nan          nan          nan\r\n",
      "-3.11383e-10  3.63723e-12   -0.0112446   -0.0360145    0.0175271    0.0168312  1.01719e-10  7.34161e-12   0.00292242 -3.27784e-11   2.9064e-11   0.00937418 -1.12659e-09  8.54595e-11 -3.34966e-11  7.83608e-12    0.0181096      1.03728   -0.0206792    0.0206792  1.59501e-09  5.48379e-11  -0.00300334 -0.000153332          nan          nan          nan          nan          nan          nan          nan          nan          nan          nan          nan\r\n",
      " 1.92594e-10 -1.63738e-10    0.0170566   -0.0177525   -0.0207052    0.0265539  1.26245e-10  2.02958e-10  -0.00377135  1.08771e-09  -2.5321e-11   -0.0120973  1.59408e-09 -5.73664e-11  1.58949e-10   9.3596e-11   -0.0206792   -0.0206792      1.04794   -0.0287716 -1.98716e-09 -1.11232e-10  -0.00430294 -0.000262362          nan          nan          nan          nan          nan          nan          nan          nan          nan          nan          nan\r\n",
      "-4.04316e-10  6.66144e-12   -0.0177525    0.0170566   -0.0265539    0.0207052  1.34186e-10 -9.63187e-12   0.00377135 -4.31754e-11   1.8511e-11    0.0120973  -1.4536e-09 -5.09101e-11 -4.14755e-11 -7.36709e-12    0.0206792    0.0206792   -0.0287716      1.04794  2.05732e-09   6.0739e-11   0.00430294 -0.000262362          nan          nan          nan          nan          nan          nan          nan          nan          nan          nan          nan\r\n",
      "   0.0745728   0.00140797  5.51809e-09 -5.53765e-09 -7.36885e-09  -7.3451e-09   -0.0700169  -0.00132195 -4.11396e-09   -0.0246416    0.0178028 -1.74944e-09  -0.00919328  0.000309022    0.0362823  0.000685027 -1.25067e-09 -1.27919e-09    1.608e-09 -1.64851e-09    -0.195058 -8.52534e-12 -3.56064e-10  2.07118e-09          nan          nan          nan          nan          nan          nan          nan          nan          nan          nan          nan\r\n",
      "  0.00140797   -0.0745728  4.31165e-10 -4.54694e-10  -2.7496e-11 -4.71099e-11  -0.00132195    0.0700169 -1.30305e-10    0.0178028    0.0246416 -5.63178e-11 -0.000309022  -0.00919328  0.000685027   -0.0362823  4.17335e-11  1.41786e-12  1.13799e-10  -8.5094e-11 -8.52529e-12    -0.195058 -6.16473e-09  2.57886e-11          nan          nan          nan          nan          nan          nan          nan          nan          nan          nan          nan\r\n",
      "-1.12756e-11 -8.02309e-10  -0.00573427   0.00573427   -0.0178768   -0.0178768   5.5281e-11  7.00517e-10  -0.00428803  1.15267e-09  1.47083e-09  -0.00184241  1.39374e-10 -1.20327e-10 -1.76411e-11 -3.41345e-11  -0.00557944  -0.00557944  -0.00312309   0.00312309 -8.02105e-10 -6.32157e-09      1.05486  4.24084e-11          nan          nan          nan          nan          nan          nan          nan          nan          nan          nan          nan\r\n",
      "-3.65671e-10 -2.87838e-12    -0.004095    -0.004095   -0.0046712    0.0046712  4.26503e-10 -1.39863e-12  7.16133e-11  1.02562e-09 -7.71926e-10   3.5891e-11  1.55314e-10 -1.63957e-12  2.41661e-10 -3.14817e-12   0.00289408  -0.00289408  -0.00362879  -0.00362879  2.27331e-09   2.8771e-11  2.85792e-11     0.120317          nan          nan          nan          nan          nan          nan          nan          nan          nan          nan          nan\r\n",
      "        -nan         -nan         -nan         -nan         -nan         -nan         -nan         -nan         -nan         -nan         -nan         -nan         -nan         -nan         -nan         -nan         -nan         -nan         -nan         -nan         -nan         -nan         -nan         -nan         -nan         -nan         -nan         -nan         -nan         -nan         -nan         -nan         -nan         -nan         -nan\r\n",
      "        -nan         -nan         -nan         -nan         -nan         -nan         -nan         -nan         -nan         -nan         -nan         -nan         -nan         -nan         -nan         -nan         -nan         -nan         -nan         -nan         -nan         -nan         -nan         -nan         -nan         -nan         -nan         -nan         -nan         -nan         -nan         -nan         -nan         -nan         -nan\r\n",
      "        -nan         -nan         -nan         -nan         -nan         -nan         -nan         -nan         -nan         -nan         -nan         -nan         -nan         -nan         -nan         -nan         -nan         -nan         -nan         -nan         -nan         -nan         -nan         -nan          nan          nan          nan          nan          nan          nan          nan          nan          nan          nan          nan\r\n",
      "        -nan         -nan         -nan         -nan         -nan         -nan         -nan         -nan         -nan         -nan         -nan         -nan         -nan         -nan         -nan         -nan         -nan         -nan         -nan         -nan         -nan         -nan         -nan         -nan          nan          nan          nan          nan          nan          nan          nan          nan          nan          nan          nan\r\n",
      "        -nan         -nan         -nan         -nan         -nan         -nan         -nan         -nan         -nan         -nan         -nan         -nan         -nan         -nan         -nan         -nan         -nan         -nan         -nan         -nan         -nan         -nan         -nan         -nan         -nan         -nan         -nan         -nan         -nan         -nan         -nan         -nan         -nan         -nan         -nan\r\n",
      "        -nan         -nan         -nan         -nan         -nan         -nan         -nan         -nan         -nan         -nan         -nan         -nan         -nan         -nan         -nan         -nan         -nan         -nan         -nan         -nan         -nan         -nan         -nan         -nan         -nan         -nan         -nan         -nan         -nan         -nan         -nan         -nan         -nan         -nan         -nan\r\n",
      "        -nan         -nan         -nan         -nan         -nan         -nan         -nan         -nan         -nan         -nan         -nan         -nan         -nan         -nan         -nan         -nan         -nan         -nan         -nan         -nan         -nan         -nan         -nan         -nan          nan          nan          nan          nan          nan          nan          nan          nan          nan          nan          nan\r\n",
      "        -nan         -nan         -nan         -nan         -nan         -nan         -nan         -nan         -nan         -nan         -nan         -nan         -nan         -nan         -nan         -nan         -nan         -nan         -nan         -nan         -nan         -nan         -nan         -nan          nan          nan          nan          nan          nan          nan          nan          nan          nan          nan          nan\r\n",
      "        -nan         -nan         -nan         -nan         -nan         -nan         -nan         -nan         -nan         -nan         -nan         -nan         -nan         -nan         -nan         -nan         -nan         -nan         -nan         -nan         -nan         -nan         -nan         -nan          nan          nan          nan         -nan          nan          nan          nan         -nan          nan          nan          nan\r\n",
      "        -nan         -nan         -nan         -nan         -nan         -nan         -nan         -nan         -nan         -nan         -nan         -nan         -nan         -nan         -nan         -nan         -nan         -nan         -nan         -nan         -nan         -nan         -nan         -nan          nan          nan          nan         -nan          nan          nan          nan         -nan          nan          nan          nan\r\n",
      "        -nan         -nan         -nan         -nan         -nan         -nan         -nan         -nan         -nan         -nan         -nan         -nan         -nan         -nan         -nan         -nan         -nan         -nan         -nan         -nan         -nan         -nan         -nan         -nan         -nan         -nan         -nan         -nan         -nan         -nan         -nan         -nan         -nan         -nan         -nan\r\n",
      "B\r\n",
      "   0.0903883 -6.21626e-13  2.87475e-10 -3.64884e-10 -4.87169e-10 -3.87606e-10   -0.0326152   6.2865e-13 -3.69431e-10    -0.011842   0.00890045 -1.51549e-10    0.0481023 -0.000708262    0.0477611 -9.28895e-13 -1.02292e-10 -3.14205e-10  1.22899e-10 -4.08593e-10   -0.0244241 -0.000461139  4.16492e-11 -5.00767e-10         -nan         -nan         -nan         -nan         -nan         -nan         -nan         -nan         -nan         -nan         -nan\r\n",
      "-6.21624e-13    0.0903883 -7.70798e-11  1.76642e-10  -1.2424e-10 -4.68307e-11  6.28673e-13   -0.0326152  4.86657e-12  -0.00890045    -0.011842  2.35457e-12 -0.000708262   -0.0481023 -9.28926e-13    0.0477611 -2.94841e-10 -9.14723e-12 -2.28983e-10  1.70702e-11 -0.000461139    0.0244241 -7.67019e-10  1.45149e-12         -nan         -nan         -nan         -nan         -nan         -nan         -nan         -nan         -nan         -nan         -nan\r\n",
      " 2.87475e-10 -7.70798e-11     0.140116   -0.0352816    -0.054295    -0.054295 -8.48511e-11  6.15055e-11   -0.0392829 -2.42897e-11  1.02495e-10   -0.0191747  2.05793e-09 -7.07698e-11  1.00419e-10   -3.046e-11    0.0542804   -0.0092915    0.0149215   -0.0158576 -4.11664e-10  8.55267e-11   -0.0313818    0.0100956         -nan         -nan         -nan         -nan         -nan         -nan         -nan         -nan         -nan         -nan         -nan\r\n",
      "-3.64884e-10  1.76642e-10   -0.0352816     0.140116     0.054295     0.054295  1.20051e-10 -1.05352e-10    0.0392829  2.48622e-11 -1.08972e-10    0.0191747 -2.08742e-09  3.33497e-11 -2.22913e-10  1.86974e-10    0.0092915   -0.0542804   -0.0158576    0.0149215  4.83353e-10   1.0644e-11    0.0313818    0.0100956         -nan         -nan         -nan         -nan         -nan         -nan         -nan         -nan         -nan         -nan         -nan\r\n",
      "-4.87169e-10  -1.2424e-10    -0.054295     0.054295     0.171547    0.0667125  1.60685e-10  8.16394e-11    0.0522657  1.22275e-10 -2.84436e-11    0.0255118 -2.77666e-09  2.86327e-12  -2.9717e-10 -1.42194e-10    0.0143809     0.015317   -0.0175634   -0.0460085  6.46899e-10  3.54856e-11   -0.0291319    0.0124938         -nan         -nan         -nan         -nan         -nan         -nan         -nan         -nan         -nan         -nan         -nan\r\n",
      "-3.87606e-10 -4.68307e-11    -0.054295     0.054295    0.0667125     0.171547  1.16838e-10  4.64393e-11    0.0522657  1.15797e-10 -2.90161e-11    0.0255118 -2.73924e-09 -2.66213e-11 -1.40656e-10 -1.97004e-11     0.015317    0.0143809    0.0460085    0.0175634  5.50093e-10  1.07847e-10   -0.0291319   -0.0124938         -nan         -nan         -nan         -nan         -nan         -nan         -nan         -nan         -nan         -nan         -nan\r\n",
      "  -0.0326152  6.28673e-13 -8.48511e-11  1.20051e-10  1.60685e-10  1.16838e-10     0.236624 -1.35704e-13  1.31185e-10    0.0114965  -0.00864082  2.26192e-11   0.00949836 -0.000139855    0.0424653  4.01727e-12 -1.64308e-10  1.24011e-10  2.24141e-10  1.64397e-10  -0.00359501 -6.78754e-05  5.89171e-12  4.74535e-10         -nan         -nan         -nan         -nan         -nan         -nan         -nan         -nan         -nan         -nan         -nan\r\n",
      " 6.28651e-13   -0.0326152  6.15055e-11 -1.05352e-10  8.16394e-11  4.64393e-11 -1.35706e-13     0.236624  8.11216e-13   0.00864082    0.0114965  4.85593e-13 -0.000139855  -0.00949836  4.01729e-12    0.0424653  4.01567e-10  1.30293e-11  3.04196e-10 -1.58778e-11 -6.78754e-05   0.00359501  8.20753e-10  -3.9605e-12         -nan         -nan         -nan         -nan         -nan         -nan         -nan         -nan         -nan         -nan         -nan\r\n",
      "-3.69431e-10  4.86657e-12   -0.0392829    0.0392829    0.0522657    0.0522657  1.31185e-10  8.11216e-13     0.424108  3.27982e-10 -2.53691e-10   -0.0112617 -9.33329e-10  4.65842e-12 -1.79933e-10    4.343e-13  0.000397673  0.000397673 -0.000513192  0.000513192  1.09746e-09  3.88148e-11  -0.00122196 -2.91782e-11         -nan         -nan         -nan         -nan         -nan         -nan         -nan         -nan         -nan         -nan         -nan\r\n",
      "   -0.011842  -0.00890045 -2.42897e-11  2.48622e-11  1.22275e-10  1.15797e-10    0.0114965   0.00864082  3.27982e-10     0.446812  9.48108e-13 -1.11401e-10 -0.000382699  0.000296554  -0.00862981  -0.00648617 -4.69365e-11  -5.8278e-11  1.82413e-09 -7.86803e-11    0.0143983   -0.0104023  1.79337e-09  1.88816e-09         -nan         -nan         -nan         -nan         -nan         -nan         -nan         -nan         -nan         -nan         -nan\r\n",
      "  0.00890045    -0.011842  1.02495e-10 -1.08972e-10 -2.84436e-11 -2.90161e-11  -0.00864082    0.0114965 -2.53691e-10  9.48101e-13     0.446812  8.55432e-11  0.000296554  0.000382699   0.00648617  -0.00862981   1.7989e-09  5.34511e-11 -4.60756e-11  3.47341e-11   -0.0104023   -0.0143983   2.3757e-09 -1.42798e-09         -nan         -nan         -nan         -nan         -nan         -nan         -nan         -nan         -nan         -nan         -nan\r\n",
      "-1.51549e-10  2.35457e-12   -0.0191747    0.0191747    0.0255118    0.0255118  2.26192e-11  4.85593e-13   -0.0112617 -1.11401e-10  8.55432e-11     0.627074 -6.51482e-10  4.83339e-12 -1.03755e-10  1.34593e-12    0.0134296    0.0134296   -0.0173308    0.0173308  2.11301e-10  9.97317e-12 -0.000506855 -1.09111e-11         -nan         -nan         -nan         -nan         -nan         -nan         -nan         -nan         -nan         -nan         -nan\r\n",
      "   0.0481023 -0.000708262  2.05793e-09 -2.08742e-09 -2.77666e-09 -2.73924e-09   0.00949836 -0.000139855 -9.33329e-10 -0.000382699  0.000296554 -6.51482e-10     0.912954 -7.13059e-13   -0.0215514  0.000317325 -2.21835e-09 -1.99885e-09  2.86369e-09 -2.57889e-09    0.0227033  0.000763146 -5.12188e-11  2.60766e-10         -nan         -nan         -nan         -nan         -nan         -nan         -nan         -nan         -nan         -nan         -nan\r\n",
      "-0.000708262   -0.0481023 -7.07698e-11  3.33497e-11  2.86327e-12 -2.66213e-11 -0.000139855  -0.00949836  4.65842e-12  0.000296554  0.000382699  4.83339e-12 -7.13055e-13     0.912954  0.000317325    0.0215514 -1.18167e-10  1.66636e-10 -1.17528e-10 -1.01976e-10 -0.000763146    0.0227033 -1.06773e-10 -3.37005e-12         -nan         -nan         -nan         -nan         -nan         -nan         -nan         -nan         -nan         -nan         -nan\r\n",
      "   0.0477611 -9.28925e-13  1.00419e-10 -2.22913e-10  -2.9717e-10 -1.40656e-10    0.0424653  4.01729e-12 -1.79933e-10  -0.00862981   0.00648617 -1.03755e-10   -0.0215514  0.000317325     0.952112  3.01138e-12 -1.96912e-10 -5.12864e-11  2.61559e-10 -6.30479e-11   0.00321148  6.06343e-05  2.78978e-12  3.05382e-10         -nan         -nan         -nan         -nan         -nan         -nan         -nan         -nan         -nan         -nan         -nan\r\n",
      "-9.28896e-13    0.0477611   -3.046e-11  1.86974e-10 -1.42194e-10 -1.97004e-11  4.01727e-12    0.0424653    4.343e-13  -0.00648617  -0.00862981  1.34593e-12  0.000317325    0.0215514  3.01137e-12     0.952112  2.07619e-10  9.10758e-12  1.55014e-10 -9.38915e-12  6.06343e-05  -0.00321148  4.76338e-10 -1.00297e-12         -nan         -nan         -nan         -nan         -nan         -nan         -nan         -nan         -nan         -nan         -nan\r\n",
      "-1.02292e-10 -2.94841e-10    0.0542804    0.0092915    0.0143809     0.015317 -1.64308e-10  4.01567e-10  0.000397673 -4.69365e-11   1.7989e-09    0.0134296 -2.21835e-09 -1.18167e-10 -1.96912e-10  2.07619e-10       1.0751    0.0341358   -0.0383745    0.0383745  4.75246e-10 -1.00085e-10   -0.0122612   0.00416104         -nan         -nan         -nan         -nan         -nan         -nan         -nan         -nan         -nan         -nan         -nan\r\n",
      "-3.14205e-10 -9.14723e-12   -0.0092915   -0.0542804     0.015317    0.0143809  1.24011e-10  1.30293e-11  0.000397673  -5.8278e-11  5.34511e-11    0.0134296 -1.99885e-09  1.66636e-10 -5.12864e-11  9.10758e-12    0.0341358       1.0751   -0.0383745    0.0383745  5.99242e-10  7.24898e-11   -0.0122612  -0.00416104         -nan         -nan         -nan         -nan         -nan         -nan         -nan         -nan         -nan         -nan         -nan\r\n",
      " 1.22899e-10 -2.28983e-10    0.0149215   -0.0158576   -0.0175634    0.0460085  2.24141e-10  3.04196e-10 -0.000513192  1.82413e-09 -4.60756e-11   -0.0173308  2.86369e-09 -1.17528e-10  2.61559e-10  1.55014e-10   -0.0383745   -0.0383745      1.09489   -0.0539212 -6.02665e-10 -1.06474e-10   -0.0113958    -0.005341         -nan         -nan         -nan         -nan         -nan         -nan         -nan         -nan         -nan         -nan         -nan\r\n",
      "-4.08593e-10  1.70702e-11   -0.0158576    0.0149215   -0.0460085    0.0175634  1.64397e-10 -1.58778e-11  0.000513192 -7.86803e-11  3.47341e-11    0.0173308 -2.57889e-09 -1.01976e-10 -6.30479e-11 -9.38915e-12    0.0383745    0.0383745   -0.0539212      1.09489  7.74947e-10 -1.71908e-11    0.0113958    -0.005341         -nan         -nan         -nan         -nan         -nan         -nan         -nan         -nan         -nan         -nan         -nan\r\n",
      "  -0.0559715  -0.00105677  -3.9576e-09  4.02616e-09  5.36382e-09  5.27172e-09  -0.00259784 -4.90484e-05  1.12586e-09   0.00894205  -0.00646035  2.79753e-10     0.017773 -0.000597419    0.0179749  0.000339375 -5.59611e-11 -7.88475e-11  6.33008e-11 -9.78488e-11     0.583856  -9.3133e-12 -2.71392e-10  1.91652e-09         -nan         -nan         -nan         -nan         -nan         -nan         -nan         -nan         -nan         -nan         -nan\r\n",
      " -0.00105677    0.0559715 -8.53437e-11  1.76639e-10  1.29867e-10  1.99285e-10 -4.90484e-05   0.00259784  3.48603e-11  -0.00646035  -0.00894205  8.88259e-12  0.000597419     0.017773  0.000339375   -0.0179749  1.40417e-10  1.06184e-10  1.15389e-10 -9.21695e-11 -9.31324e-12     0.583856 -4.58083e-09  2.61973e-11         -nan         -nan         -nan         -nan         -nan         -nan         -nan         -nan         -nan         -nan         -nan\r\n",
      " 6.49979e-11 -4.39908e-10   -0.0319912    0.0319912   -0.0291114   -0.0291114  3.71478e-12  8.80183e-10  -0.00252666  1.65313e-09  2.18749e-09  -0.00129086   9.1016e-11 -7.03702e-11  5.09759e-12  6.05546e-10   -0.0136324   -0.0136324   -0.0110702    0.0110702 -7.49844e-10 -5.08342e-09      2.11779  4.13008e-11         -nan         -nan         -nan         -nan         -nan         -nan         -nan         -nan         -nan         -nan         -nan\r\n",
      "-4.63331e-10  2.06983e-12    0.0115067    0.0115067    0.0142683   -0.0142683  4.36141e-10 -3.72787e-12 -4.52645e-11  1.88437e-09 -1.42397e-09 -1.82327e-11  2.81343e-10 -2.93562e-12  3.30611e-10 -2.76661e-12   0.00488943  -0.00488943  -0.00621527  -0.00621527  2.39686e-09   3.5749e-11  2.74865e-11     0.810659         -nan         -nan         -nan         -nan         -nan         -nan         -nan         -nan         -nan         -nan         -nan\r\n",
      "        -nan         -nan         -nan         -nan         -nan         -nan         -nan         -nan         -nan         -nan         -nan         -nan         -nan         -nan         -nan         -nan         -nan         -nan         -nan         -nan         -nan         -nan         -nan         -nan         -nan         -nan         -nan         -nan         -nan         -nan         -nan         -nan         -nan         -nan         -nan\r\n",
      "        -nan         -nan         -nan         -nan         -nan         -nan         -nan         -nan         -nan         -nan         -nan         -nan         -nan         -nan         -nan         -nan         -nan         -nan         -nan         -nan         -nan         -nan         -nan         -nan         -nan         -nan         -nan         -nan         -nan         -nan         -nan         -nan         -nan         -nan         -nan\r\n",
      "        -nan         -nan         -nan         -nan         -nan         -nan         -nan         -nan         -nan         -nan         -nan         -nan         -nan         -nan         -nan         -nan         -nan         -nan         -nan         -nan         -nan         -nan         -nan         -nan         -nan         -nan         -nan         -nan         -nan         -nan         -nan         -nan         -nan         -nan         -nan\r\n",
      "        -nan         -nan         -nan         -nan         -nan         -nan         -nan         -nan         -nan         -nan         -nan         -nan         -nan         -nan         -nan         -nan         -nan         -nan         -nan         -nan         -nan         -nan         -nan         -nan         -nan         -nan         -nan         -nan         -nan         -nan         -nan         -nan         -nan         -nan         -nan\r\n",
      "        -nan         -nan         -nan         -nan         -nan         -nan         -nan         -nan         -nan         -nan         -nan         -nan         -nan         -nan         -nan         -nan         -nan         -nan         -nan         -nan         -nan         -nan         -nan         -nan         -nan         -nan         -nan         -nan         -nan         -nan         -nan         -nan         -nan         -nan         -nan\r\n",
      "        -nan         -nan         -nan         -nan         -nan         -nan         -nan         -nan         -nan         -nan         -nan         -nan         -nan         -nan         -nan         -nan         -nan         -nan         -nan         -nan         -nan         -nan         -nan         -nan         -nan         -nan         -nan         -nan         -nan         -nan         -nan         -nan         -nan         -nan         -nan\r\n",
      "        -nan         -nan         -nan         -nan         -nan         -nan         -nan         -nan         -nan         -nan         -nan         -nan         -nan         -nan         -nan         -nan         -nan         -nan         -nan         -nan         -nan         -nan         -nan         -nan         -nan         -nan         -nan         -nan         -nan         -nan         -nan         -nan         -nan         -nan         -nan\r\n",
      "        -nan         -nan         -nan         -nan         -nan         -nan         -nan         -nan         -nan         -nan         -nan         -nan         -nan         -nan         -nan         -nan         -nan         -nan         -nan         -nan         -nan         -nan         -nan         -nan         -nan         -nan         -nan         -nan         -nan         -nan         -nan         -nan         -nan         -nan         -nan\r\n",
      "        -nan         -nan         -nan         -nan         -nan         -nan         -nan         -nan         -nan         -nan         -nan         -nan         -nan         -nan         -nan         -nan         -nan         -nan         -nan         -nan         -nan         -nan         -nan         -nan         -nan         -nan         -nan         -nan         -nan         -nan         -nan         -nan         -nan         -nan         -nan\r\n",
      "        -nan         -nan         -nan         -nan         -nan         -nan         -nan         -nan         -nan         -nan         -nan         -nan         -nan         -nan         -nan         -nan         -nan         -nan         -nan         -nan         -nan         -nan         -nan         -nan         -nan         -nan         -nan         -nan         -nan         -nan         -nan         -nan         -nan         -nan         -nan\r\n",
      "        -nan         -nan         -nan         -nan         -nan         -nan         -nan         -nan         -nan         -nan         -nan         -nan         -nan         -nan         -nan         -nan         -nan         -nan         -nan         -nan         -nan         -nan         -nan         -nan          nan          nan          nan          nan          nan          nan          nan          nan          nan          nan          nan\r\n",
      "an error occurred:\r\n",
      "Small generalized eigenvalue problem failed.\r\n"
     ]
    }
   ],
   "source": [
    "!xtp_tools -c job_name=CO geometry_optimization.maxiter=1 dftpackage.basisset=3-21G dftpackage.auxbasisset=aux-def2-svp gwbse.gw.mode=G0W0 -e dftgwbse -t 4"
   ]
  },
  {
   "cell_type": "markdown",
   "metadata": {},
   "source": [
    "Notice that we are using 4 threads. The results will be stored in a file named `CO_summary.xml` in the current work directory, together with the optimization step in `optimisation.trj` and the orbitals in [hdf5 format](https://www.hdfgroup.org/solutions/hdf5/) saved on `CO.orb`."
   ]
  }
 ],
 "metadata": {
  "kernelspec": {
   "display_name": "Python 3",
   "language": "python",
   "name": "python3"
  },
  "language_info": {
   "codemirror_mode": {
    "name": "ipython",
    "version": 3
   },
   "file_extension": ".py",
   "mimetype": "text/x-python",
   "name": "python",
   "nbconvert_exporter": "python",
   "pygments_lexer": "ipython3",
   "version": "3.11.3"
  }
 },
 "nbformat": 4,
 "nbformat_minor": 4
}
