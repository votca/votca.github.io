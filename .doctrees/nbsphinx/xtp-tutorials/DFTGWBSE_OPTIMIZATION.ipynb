{
 "cells": [
  {
   "cell_type": "markdown",
   "metadata": {},
   "source": [
    "## DFT + GWBSE Optimization Using CO"
   ]
  },
  {
   "cell_type": "markdown",
   "metadata": {},
   "source": [
    "## Introduction\n",
    "This tutorial explains how to perform a molecular geometric optimization using the **GWBSE** method. See [the GW Compendium: A Practical Guide to Theoretical Photoemission Spectroscopy](https://doi.org/10.3389/fchem.2019.00377), for an excellent introduction to the method."
   ]
  },
  {
   "cell_type": "markdown",
   "metadata": {},
   "source": [
    "## Requirements\n",
    "* You will need to install **VOTCA** using the instructions described [here](https://github.com/votca/votca/blob/master/share/doc/INSTALL.rst)\n",
    "* Once the installation is completed you need to activate the VOTCA enviroment by running the `VOTCARC.bash` script that has been installed at the bin subfolder for the path that you have provided for the installation step above"
   ]
  },
  {
   "cell_type": "markdown",
   "metadata": {},
   "source": [
    "## Preparing the input\n",
    "To run a DFT-GWBSE calculation we will use the [xtp_tools](https://www.votca.org/xtp/xtp_tools_overview.html) calculator."
   ]
  },
  {
   "cell_type": "markdown",
   "metadata": {},
   "source": [
    "we can now change the calculator mode from single point energy calculation to optimization as follows by adding \n",
    "`-c geometry_optimization.maxiter=1` which enables optimization with one iteration. "
   ]
  },
  {
   "cell_type": "markdown",
   "metadata": {},
   "source": [
    "Because geometry optimsation is quite expensive numerically we chose a smaller basisset and G0W0 Finally, to run the calculation we just need the following command (This still takes a while)"
   ]
  },
  {
   "cell_type": "code",
   "execution_count": 1,
   "metadata": {
    "execution": {
     "iopub.execute_input": "2021-12-06T00:54:37.892246Z",
     "iopub.status.busy": "2021-12-06T00:54:37.891678Z",
     "iopub.status.idle": "2021-12-06T00:55:58.398704Z",
     "shell.execute_reply": "2021-12-06T00:55:58.399156Z"
    }
   },
   "outputs": [
    {
     "name": "stdout",
     "output_type": "stream",
     "text": [
      "==================================================\r\n",
      "========   VOTCA (http://www.votca.org)   ========\r\n",
      "==================================================\r\n",
      "\r\n",
      "please submit bugs to https://github.com/votca/xtp/issues\r\n",
      "\r\n",
      "xtp_tools, version 2022-dev gitid: 75e05c7 (compiled Dec  6 2021, 00:45:35)\r\n",
      "votca_csg, version 2022-dev gitid: 75e05c7 (compiled Dec  6 2021, 00:30:13)\r\n",
      "votca_tools, version 2022-dev gitid: 75e05c7 (compiled Dec  6 2021, 00:27:21)\r\n",
      "\r\n",
      "Initializing tool\r\n",
      "... dftgwbse Evaluating tool\r\n",
      "... dftgwbse  Using 4 threads\r\n",
      "... ... Reading structure from CO.xyz\r\n",
      "... ... Requested geometry optimization of excited state s1\r\n",
      "... ... Initial state: s1\r\n",
      "... ... WARNING: No tracker is used \r\n",
      "... ... Convergence of total energy: 0.000001 Hartree \r\n",
      "... ... Convergence of RMS Force:    0.000030 Hartree/Bohr \r\n",
      "... ... Convergence of Max Force:    0.000100 Hartree/Bohr \r\n",
      "... ... Convergence of RMS Step:     0.000600 Bohr \r\n",
      "... ... Convergence of Max Step:     0.001000 Bohr \r\n",
      "... ... Initial trust radius:        0.018897 Bohr\r\n",
      "... ... \r\n",
      "... ... =========== OPTIMIZATION SUMMARY ================================= \r\n",
      "... ... At iteration  0\r\n",
      "... ...  ---- POSITIONS (Angstrom)   \r\n",
      "... ...  Atom\t x\t  y\t  z \r\n",
      "... ...    0    +0.0000  +0.0000  +0.0000\r\n",
      "... ...    1    +1.2000  +0.0000  +0.0000\r\n",
      "... ...    Total energy:     -112.26831841 Hartree \r\n",
      "... ...    Trust radius:       0.01889726 Bohr     \r\n",
      "... ...  ---- FORCES (Hartree/Bohr)   \r\n",
      "... ...       central differences   \r\n",
      "... ...       displacement 0.0010 Angstrom   \r\n",
      "... ...  Atom\t x\t  y\t  z \r\n",
      "... ...    0    -0.1314  -0.0000  -0.0000\r\n",
      "... ...    1    +0.1314  +0.0000  +0.0000A\r\n",
      "    0.301149  -1.3916e-12  7.73599e-10 -8.91128e-10 -1.19669e-09 -1.03976e-09   -0.0519724  1.01995e-12  5.92028e-10    0.0141359    -0.010545  2.25008e-10   -0.0390252  0.000530109    0.0423984  -8.0461e-13  1.51388e-10  3.08596e-10 -1.91576e-10  4.03904e-10    -0.107078   0.00208887 -5.91892e-11          nan          nan          nan          nan          nan          nan          nan          nan          nan          nan          nan          nan\r\n",
      "-1.39161e-12     0.301149 -1.48325e-10  3.05253e-10 -2.21042e-10 -1.03513e-10  1.01983e-12   -0.0519724 -2.99196e-12     0.010545    0.0141359 -6.59806e-13  0.000530109    0.0390252 -8.04633e-13    0.0423984  2.10356e-10 -1.97255e-12  1.61311e-10 -4.10378e-12  -0.00208887    -0.107078 -5.83639e-11          nan          nan          nan          nan          nan          nan          nan          nan          nan          nan          nan          nan\r\n",
      " 7.73599e-10 -1.48325e-10     0.392949   -0.0727153    -0.110996    -0.110996  -1.8406e-10  9.46503e-11    0.0544163   3.4336e-11 -1.16666e-10    0.0245295 -1.90519e-09  5.73628e-11  1.24239e-10 -3.05026e-11   -0.0361593    0.0111005   -0.0170347    0.0176767 -8.00824e-09  3.80434e-10    0.0240941          nan          nan          nan          nan          nan          nan          nan          nan          nan          nan          nan          nan\r\n",
      "-8.91128e-10  3.05253e-10   -0.0727153     0.392949     0.110996     0.110996  2.22984e-10 -1.48876e-10   -0.0544163 -3.38263e-11  1.20951e-10   -0.0245295  1.92517e-09 -3.19147e-11 -2.14516e-10   1.5211e-10   -0.0111005    0.0361593    0.0176767   -0.0170347  8.09049e-09 -4.97472e-10   -0.0240941          nan          nan          nan          nan          nan          nan          nan          nan          nan          nan          nan          nan\r\n",
      "-1.19669e-09 -2.21042e-10    -0.110996     0.110996     0.458943      0.13871  3.01012e-10  1.00878e-10   -0.0729471 -1.42991e-10  3.36082e-11   -0.0328827  2.58062e-09  9.96321e-12 -2.88068e-10 -1.08019e-10   -0.0168268   -0.0174687    0.0208498    0.0264101  1.08499e-08  -1.1407e-10   0.00997623          nan          nan          nan          nan          nan          nan          nan          nan          nan          nan          nan          nan\r\n",
      "-1.03976e-09 -1.03513e-10    -0.110996     0.110996      0.13871     0.458943  2.46785e-10  6.19538e-11   -0.0729471 -1.38706e-10  3.30985e-11   -0.0328827  2.55517e-09  2.99404e-11 -1.66461e-10 -1.77424e-11   -0.0174687   -0.0168268   -0.0264101   -0.0208498   1.0732e-08 -1.97133e-10   0.00997623          nan          nan          nan          nan          nan          nan          nan          nan          nan          nan          nan          nan\r\n",
      "  -0.0519724  1.01983e-12  -1.8406e-10  2.22984e-10  3.01012e-10  2.46785e-10     0.486835 -2.44633e-13 -1.77662e-10   -0.0109289   0.00815267 -3.96537e-11   -0.0083053  0.000112817    0.0301449  2.91493e-12  9.11098e-11 -1.02108e-10 -1.26101e-10 -1.35024e-10    0.0549835  -0.00107262  3.96466e-11          nan          nan          nan          nan          nan          nan          nan          nan          nan          nan          nan          nan\r\n",
      " 1.01995e-12   -0.0519724  9.46503e-11 -1.48876e-10  1.00878e-10  6.19538e-11 -2.44639e-13     0.486835  4.01849e-12  -0.00815267   -0.0109289  1.15488e-12  0.000112817    0.0083053  2.91501e-12    0.0301449 -2.68354e-10 -7.22913e-12 -2.02846e-10  9.62816e-12   0.00107262    0.0549835 -2.31649e-10          nan          nan          nan          nan          nan          nan          nan          nan          nan          nan          nan          nan\r\n",
      " 5.92028e-10 -2.99196e-12    0.0544163   -0.0544163   -0.0729471   -0.0729471 -1.77662e-10  4.01849e-12     0.659928  2.68215e-10 -2.01665e-10  -0.00518518 -7.77966e-10  3.36239e-12  1.34331e-10 -2.18601e-12   0.00290448   0.00290448  -0.00378519   0.00378519 -5.23588e-09  1.53685e-10   0.00253276          nan          nan          nan          nan          nan          nan          nan          nan          nan          nan          nan          nan\r\n",
      "   0.0141359     0.010545   3.4336e-11 -3.38263e-11 -1.42991e-10 -1.38706e-10   -0.0109289  -0.00815267  2.68215e-10     0.668107  7.20614e-13 -7.85096e-11   1.3419e-05 -1.02968e-05   0.00726212   0.00541732 -2.63496e-11 -2.98493e-11  1.09051e-09 -4.32746e-11    -0.033322   -0.0238599  8.14156e-10          nan          nan          nan          nan          nan          nan          nan          nan          nan          nan          nan          nan\r\n",
      "   -0.010545    0.0141359 -1.16666e-10  1.20951e-10  3.36082e-11  3.30985e-11   0.00815267   -0.0109289 -2.01665e-10  7.20592e-13     0.668107  5.97625e-11 -1.02968e-05  -1.3419e-05  -0.00541732   0.00726212  1.07677e-09  2.95432e-11 -2.63078e-11   2.2808e-11    0.0238599    -0.033322  1.12575e-09          nan          nan          nan          nan          nan          nan          nan          nan          nan          nan          nan          nan\r\n",
      " 2.25008e-10 -6.59806e-13    0.0245295   -0.0245295   -0.0328827   -0.0328827 -3.96537e-11  1.15488e-12  -0.00518518 -7.85096e-11  5.97625e-11     0.793012 -5.03133e-10  1.24557e-12  7.47807e-11  -4.8495e-13   0.00931663   0.00931663   -0.0121416    0.0121416 -1.99297e-09  5.77346e-11   0.00103448          nan          nan          nan          nan          nan          nan          nan          nan          nan          nan          nan          nan\r\n",
      "  -0.0390252  0.000530109 -1.90519e-09  1.92517e-09  2.58062e-09  2.55517e-09   -0.0083053  0.000112817 -7.77966e-10   1.3419e-05 -1.02968e-05 -5.03133e-10     0.954263  -4.0002e-13    0.0128739 -0.000174876 -1.22888e-09 -1.12253e-09   1.6026e-09 -1.46186e-09   -0.0198854  0.000658218 -1.18297e-10          nan          nan          nan          nan          nan          nan          nan          nan          nan          nan          nan          nan\r\n",
      " 0.000530109    0.0390252  5.73628e-11 -3.19147e-11  9.96321e-12  2.99404e-11  0.000112817    0.0083053  3.36239e-12 -1.02968e-05  -1.3419e-05  1.24557e-12 -4.00024e-13     0.954263 -0.000174876   -0.0128739 -5.80116e-11  8.27228e-11 -5.26681e-11 -5.36877e-11  0.000658218    0.0198854  3.45595e-11          nan          nan          nan          nan          nan          nan          nan          nan          nan          nan          nan          nan\r\n",
      "   0.0423984 -8.04633e-13  1.24239e-10 -2.14516e-10 -2.88068e-10 -1.66461e-10    0.0301449  2.91501e-12  1.34331e-10   0.00726212  -0.00541732  7.47807e-11    0.0128739 -0.000174876     0.973645  1.57468e-12  1.20803e-10   3.2417e-11 -1.60061e-10  4.19626e-11   -0.0229461  0.000447634 -1.82496e-11          nan          nan          nan          nan          nan          nan          nan          nan          nan          nan          nan          nan\r\n",
      "-8.04611e-13    0.0423984 -3.05026e-11   1.5211e-10 -1.08019e-10 -1.77424e-11  2.91493e-12    0.0301449 -2.18601e-12   0.00541732   0.00726212  -4.8495e-13 -0.000174876   -0.0128739  1.57468e-12     0.973645 -1.26176e-10 -8.07718e-12 -9.38417e-11  5.45556e-12 -0.000447634   -0.0229461  -5.3937e-10          nan          nan          nan          nan          nan          nan          nan          nan          nan          nan          nan          nan\r\n",
      " 1.51388e-10  2.10356e-10   -0.0361593   -0.0111005   -0.0168268   -0.0174687  9.11098e-11 -2.68354e-10   0.00290448 -2.63496e-11  1.07677e-09   0.00931663 -1.22888e-09 -5.80116e-11  1.20803e-10 -1.26176e-10      1.03708    0.0179135   -0.0206277    0.0206277 -1.53048e-09 -2.05728e-11  -0.00300493          nan          nan          nan          nan          nan          nan          nan          nan          nan          nan          nan          nan\r\n",
      " 3.08596e-10 -1.97255e-12    0.0111005    0.0361593   -0.0174687   -0.0168268 -1.02108e-10 -7.22913e-12   0.00290448 -2.98493e-11  2.95432e-11   0.00931663 -1.12253e-09  8.27228e-11   3.2417e-11 -8.07718e-12    0.0179135      1.03708   -0.0206277    0.0206277 -1.57995e-09  4.96919e-11  -0.00300493          nan          nan          nan          nan          nan          nan          nan          nan          nan          nan          nan          nan\r\n",
      "-1.91576e-10  1.61311e-10   -0.0170347    0.0176767    0.0208498   -0.0264101 -1.26101e-10 -2.02846e-10  -0.00378519  1.09051e-09 -2.63078e-11   -0.0121416   1.6026e-09 -5.26681e-11 -1.60061e-10 -9.38417e-11   -0.0206277   -0.0206277      1.04814   -0.0289677    1.988e-09 -1.04615e-10  -0.00431029          nan          nan          nan          nan          nan          nan          nan          nan          nan          nan          nan          nan\r\n",
      " 4.03904e-10 -4.10378e-12    0.0176767   -0.0170347    0.0264101   -0.0208498 -1.35024e-10  9.62816e-12   0.00378519 -4.32746e-11   2.2808e-11    0.0121416 -1.46186e-09 -5.36877e-11  4.19626e-11  5.45556e-12    0.0206277    0.0206277   -0.0289677      1.04814 -2.05826e-09  5.51737e-11   0.00431029          nan          nan          nan          nan          nan          nan          nan          nan          nan          nan          nan          nan\r\n",
      "   0.0745719   0.00145475  5.47856e-09 -5.49317e-09 -7.36372e-09 -7.34054e-09    -0.070016  -0.00136588  4.10307e-09    0.0247168   -0.0176983  1.74289e-09   0.00919344 -0.000304308    0.0362819  0.000707788  1.23931e-09  1.26832e-09 -1.61002e-09  1.65077e-09    -0.195058  8.52925e-12  3.77882e-10          nan          nan          nan          nan          nan          nan          nan          nan          nan          nan          nan          nan\r\n",
      " -0.00145475    0.0745719 -4.14133e-10  4.37071e-10  1.21692e-11  2.68896e-11   0.00136588    -0.070016 -1.20741e-10    0.0176983    0.0247168 -5.01752e-11 -0.000304308  -0.00919344 -0.000707788    0.0362819  4.48024e-11  4.25557e-12  1.10116e-10 -8.09165e-11  8.52924e-12    -0.195058 -6.14591e-09          nan          nan          nan          nan          nan          nan          nan          nan          nan          nan          nan          nan\r\n",
      " 1.13439e-11  8.00956e-10   0.00568049  -0.00568049    0.0180017    0.0180017  -5.5601e-11 -7.00859e-10  -0.00436233  1.15214e-09  1.47524e-09  -0.00187379  1.42563e-10 -1.19866e-10  1.48792e-11  3.11323e-11  -0.00561095  -0.00561095  -0.00307257   0.00307257  8.24285e-10 -6.30168e-09      1.05413          nan          nan          nan          nan          nan          nan          nan          nan          nan          nan          nan          nan\r\n",
      "        -nan         -nan         -nan         -nan         -nan         -nan         -nan         -nan         -nan         -nan         -nan         -nan         -nan         -nan         -nan         -nan         -nan         -nan         -nan         -nan         -nan         -nan         -nan          nan          nan          nan          nan          nan          nan          nan          nan          nan          nan          nan          nan\r\n",
      "        -nan         -nan         -nan         -nan         -nan         -nan         -nan         -nan         -nan         -nan         -nan         -nan         -nan         -nan         -nan         -nan         -nan         -nan         -nan         -nan         -nan         -nan         -nan         -nan         -nan         -nan         -nan         -nan         -nan         -nan         -nan         -nan         -nan         -nan         -nan\r\n",
      "        -nan         -nan         -nan         -nan         -nan         -nan         -nan         -nan         -nan         -nan         -nan         -nan         -nan         -nan         -nan         -nan         -nan         -nan         -nan         -nan         -nan         -nan         -nan         -nan         -nan         -nan         -nan         -nan         -nan         -nan         -nan         -nan         -nan         -nan         -nan\r\n",
      "        -nan         -nan         -nan         -nan         -nan         -nan         -nan         -nan         -nan         -nan         -nan         -nan         -nan         -nan         -nan         -nan         -nan         -nan         -nan         -nan         -nan         -nan         -nan          nan          nan          nan          nan          nan          nan          nan          nan          nan          nan          nan          nan\r\n",
      "        -nan         -nan         -nan         -nan         -nan         -nan         -nan         -nan         -nan         -nan         -nan         -nan         -nan         -nan         -nan         -nan         -nan         -nan         -nan         -nan         -nan         -nan         -nan          nan          nan          nan          nan          nan          nan          nan          nan          nan          nan          nan          nan\r\n",
      "        -nan         -nan         -nan         -nan         -nan         -nan         -nan         -nan         -nan         -nan         -nan         -nan         -nan         -nan         -nan         -nan         -nan         -nan         -nan         -nan         -nan         -nan         -nan         -nan         -nan         -nan         -nan         -nan         -nan         -nan         -nan         -nan         -nan         -nan         -nan\r\n",
      "        -nan         -nan         -nan         -nan         -nan         -nan         -nan         -nan         -nan         -nan         -nan         -nan         -nan         -nan         -nan         -nan         -nan         -nan         -nan         -nan         -nan         -nan         -nan         -nan         -nan         -nan         -nan         -nan         -nan         -nan         -nan         -nan         -nan         -nan         -nan\r\n",
      "        -nan         -nan         -nan         -nan         -nan         -nan         -nan         -nan         -nan         -nan         -nan         -nan         -nan         -nan         -nan         -nan         -nan         -nan         -nan         -nan         -nan         -nan         -nan          nan          nan          nan          nan          nan          nan          nan          nan          nan          nan          nan          nan\r\n",
      "        -nan         -nan         -nan         -nan         -nan         -nan         -nan         -nan         -nan         -nan         -nan         -nan         -nan         -nan         -nan         -nan         -nan         -nan         -nan         -nan         -nan         -nan         -nan          nan          nan          nan          nan          nan          nan          nan          nan          nan          nan          nan          nan\r\n",
      "        -nan         -nan         -nan         -nan         -nan         -nan         -nan         -nan         -nan         -nan         -nan         -nan         -nan         -nan         -nan         -nan         -nan         -nan         -nan         -nan         -nan         -nan         -nan         -nan          nan          nan          nan         -nan          nan          nan          nan         -nan          nan          nan          nan\r\n",
      "        -nan         -nan         -nan         -nan         -nan         -nan         -nan         -nan         -nan         -nan         -nan         -nan         -nan         -nan         -nan         -nan         -nan         -nan         -nan         -nan         -nan         -nan         -nan         -nan          nan          nan          nan         -nan          nan          nan          nan         -nan          nan          nan          nan\r\n",
      "        -nan         -nan         -nan         -nan         -nan         -nan         -nan         -nan         -nan         -nan         -nan         -nan         -nan         -nan         -nan         -nan         -nan         -nan         -nan         -nan         -nan         -nan         -nan         -nan         -nan         -nan         -nan         -nan         -nan         -nan         -nan         -nan         -nan         -nan         -nan\r\n",
      "B\r\n",
      "   0.0903883 -6.20641e-13  2.85109e-10 -3.59699e-10 -4.83238e-10 -3.83658e-10   -0.0326152  6.25511e-13  3.66711e-10     0.011874  -0.00885766  1.49744e-10   -0.0481031   0.00065342    0.0477611 -9.23499e-13  9.96768e-11  3.11859e-10 -1.21989e-10  4.08511e-10   -0.0244238  0.000476461 -4.18121e-11         -nan         -nan         -nan         -nan         -nan         -nan         -nan         -nan         -nan         -nan         -nan         -nan\r\n",
      "-6.20645e-13    0.0903883 -7.29637e-11  1.72544e-10  -1.2631e-10 -5.17199e-11  6.25434e-13   -0.0326152 -1.85209e-12   0.00885766     0.011874 -3.95758e-13   0.00065342    0.0481031  -9.2353e-13    0.0477611  2.97136e-10   1.0614e-11  2.26728e-10 -1.45451e-11 -0.000476461   -0.0244238  7.66845e-10         -nan         -nan         -nan         -nan         -nan         -nan         -nan         -nan         -nan         -nan         -nan         -nan\r\n",
      " 2.85109e-10 -7.29637e-11     0.139724   -0.0348902   -0.0541802   -0.0541802 -9.03532e-11  6.44439e-11    0.0390941  2.50323e-11 -9.96652e-11    0.0190825 -2.05233e-09  6.50235e-11  1.06952e-10 -3.16187e-11   -0.0544075   0.00916551   -0.0149018    0.0157653  -4.0483e-10 -9.22633e-11      0.03148         -nan         -nan         -nan         -nan         -nan         -nan         -nan         -nan         -nan         -nan         -nan         -nan\r\n",
      "-3.59699e-10  1.72544e-10   -0.0348902     0.139724    0.0541802    0.0541802  1.21906e-10 -1.08053e-10   -0.0390941 -2.45554e-11  1.05173e-10   -0.0190825  2.08179e-09 -2.74332e-11 -2.23013e-10  1.87772e-10  -0.00916551    0.0544075    0.0157653   -0.0149018  4.73979e-10 -3.92981e-12     -0.03148         -nan         -nan         -nan         -nan         -nan         -nan         -nan         -nan         -nan         -nan         -nan         -nan\r\n",
      "-4.83238e-10  -1.2631e-10   -0.0541802    0.0541802     0.171938    0.0671039  1.64848e-10  7.45614e-11   -0.0524071 -1.21093e-10  2.48758e-11   -0.0255808   2.7903e-09  4.53273e-12 -2.99489e-10  -1.3418e-10    -0.014403   -0.0152666    0.0176898    0.0458831   6.4034e-10 -2.80436e-11    0.0290084         -nan         -nan         -nan         -nan         -nan         -nan         -nan         -nan         -nan         -nan         -nan         -nan\r\n",
      "-3.83658e-10 -5.17199e-11   -0.0541802    0.0541802    0.0671039     0.171938  1.21239e-10  4.30085e-11   -0.0524071 -1.15585e-10  2.43989e-11   -0.0255808  2.75271e-09   3.4001e-11 -1.43336e-10 -1.81193e-11   -0.0152666    -0.014403   -0.0458831   -0.0176898  5.43505e-10 -9.78652e-11    0.0290084         -nan         -nan         -nan         -nan         -nan         -nan         -nan         -nan         -nan         -nan         -nan         -nan\r\n",
      "  -0.0326152  6.25432e-13 -9.03532e-11  1.21906e-10  1.64848e-10  1.21239e-10     0.236624 -1.37843e-13 -1.35482e-10   -0.0115277   0.00859928 -2.41281e-11  -0.00949851  0.000129025    0.0424653  4.00003e-12  1.63928e-10 -1.24456e-10  -2.2457e-10 -1.65028e-10  -0.00359496  7.01307e-05 -5.48315e-12         -nan         -nan         -nan         -nan         -nan         -nan         -nan         -nan         -nan         -nan         -nan         -nan\r\n",
      " 6.25512e-13   -0.0326152  6.44439e-11 -1.08053e-10  7.45614e-11  4.30085e-11 -1.37848e-13     0.236624  3.38057e-12  -0.00859928   -0.0115277  9.81976e-13  0.000129025   0.00949851  4.00014e-12    0.0424653 -4.02815e-10 -1.32164e-11 -3.03628e-10   1.5244e-11 -7.01307e-05  -0.00359496 -8.20772e-10         -nan         -nan         -nan         -nan         -nan         -nan         -nan         -nan         -nan         -nan         -nan         -nan\r\n",
      " 3.66711e-10 -1.85209e-12    0.0390941   -0.0390941   -0.0524071   -0.0524071 -1.35482e-10  3.38057e-12     0.424108  3.28421e-10 -2.47245e-10   -0.0112617 -9.32861e-10   4.5127e-12  1.82485e-10  -2.9796e-12  0.000395232  0.000395232 -0.000515075  0.000515075 -1.09346e-09  3.49979e-11  -0.00120419         -nan         -nan         -nan         -nan         -nan         -nan         -nan         -nan         -nan         -nan         -nan         -nan\r\n",
      "    0.011874   0.00885766  2.50323e-11 -2.45554e-11 -1.21093e-10 -1.15585e-10   -0.0115277  -0.00859928  3.28421e-10     0.446812   9.4809e-13 -1.11745e-10 -0.000384103  0.000294733   0.00865315   0.00645499 -4.75162e-11 -5.34032e-11  1.82866e-09 -7.87875e-11   -0.0144422   -0.0103412  1.79404e-09         -nan         -nan         -nan         -nan         -nan         -nan         -nan         -nan         -nan         -nan         -nan         -nan\r\n",
      " -0.00885766     0.011874 -9.96652e-11  1.05173e-10  2.48758e-11  2.43989e-11   0.00859928   -0.0115277 -2.47245e-10  9.48053e-13     0.446812  8.48147e-11  0.000294733  0.000384103  -0.00645499   0.00865315  1.80362e-09   5.3741e-11 -4.70999e-11  4.12129e-11    0.0103412   -0.0144422  2.38401e-09         -nan         -nan         -nan         -nan         -nan         -nan         -nan         -nan         -nan         -nan         -nan         -nan\r\n",
      " 1.49744e-10 -3.95758e-13    0.0190825   -0.0190825   -0.0255808   -0.0255808 -2.41281e-11  9.81976e-13   -0.0112617 -1.11745e-10  8.48147e-11     0.627074 -6.54358e-10  1.57379e-12  1.02976e-10 -5.65932e-13    0.0133472    0.0133472   -0.0173943    0.0173943 -2.09298e-10  7.98886e-12 -0.000496675         -nan         -nan         -nan         -nan         -nan         -nan         -nan         -nan         -nan         -nan         -nan         -nan\r\n",
      "  -0.0481031   0.00065342 -2.05233e-09  2.08179e-09   2.7903e-09  2.75271e-09  -0.00949851  0.000129025 -9.32861e-10 -0.000384103  0.000294733 -6.54358e-10     0.912954 -7.13343e-13    0.0215518 -0.000292754 -2.20716e-09 -1.99151e-09  2.87862e-09 -2.59328e-09   -0.0227037  0.000751505 -5.22528e-11         -nan         -nan         -nan         -nan         -nan         -nan         -nan         -nan         -nan         -nan         -nan         -nan\r\n",
      "  0.00065342    0.0481031  6.50235e-11 -2.74332e-11  4.53273e-12   3.4001e-11  0.000129025   0.00949851   4.5127e-12  0.000294733  0.000384103  1.57379e-12 -7.13351e-13     0.912954 -0.000292754   -0.0215518  -1.2333e-10  1.62004e-10 -1.09287e-10 -1.06363e-10  0.000751505    0.0227037 -1.07672e-10         -nan         -nan         -nan         -nan         -nan         -nan         -nan         -nan         -nan         -nan         -nan         -nan\r\n",
      "   0.0477611 -9.23527e-13  1.06952e-10 -2.23013e-10 -2.99489e-10 -1.43336e-10    0.0424653  4.00014e-12  1.82485e-10   0.00865315  -0.00645499  1.02976e-10    0.0215518 -0.000292754     0.952112  2.99111e-12  1.98811e-10  4.93445e-11 -2.63445e-10  6.38529e-11   0.00321144 -6.26489e-05 -7.09228e-12         -nan         -nan         -nan         -nan         -nan         -nan         -nan         -nan         -nan         -nan         -nan         -nan\r\n",
      "-9.23499e-13    0.0477611 -3.16187e-11  1.87772e-10  -1.3418e-10 -1.81193e-11  4.00003e-12    0.0424653  -2.9796e-12   0.00645499   0.00865315 -5.65932e-13 -0.000292754   -0.0215518  2.99111e-12     0.952112 -2.09118e-10 -9.52556e-12 -1.55585e-10  6.11864e-12  6.26489e-05   0.00321144 -4.80979e-10         -nan         -nan         -nan         -nan         -nan         -nan         -nan         -nan         -nan         -nan         -nan         -nan\r\n",
      " 9.96768e-11  2.97136e-10   -0.0544075  -0.00916551    -0.014403   -0.0152666  1.63928e-10 -4.02815e-10  0.000395232 -4.75162e-11  1.80362e-09    0.0133472 -2.20716e-09  -1.2333e-10  1.98811e-10 -2.09118e-10      1.07474    0.0337718   -0.0382789    0.0382789 -4.71017e-10 -1.03444e-10   -0.0123046         -nan         -nan         -nan         -nan         -nan         -nan         -nan         -nan         -nan         -nan         -nan         -nan\r\n",
      " 3.11859e-10   1.0614e-11   0.00916551    0.0544075   -0.0152666    -0.014403 -1.24456e-10 -1.32164e-11  0.000395232 -5.34032e-11   5.3741e-11    0.0133472 -1.99151e-09  1.62004e-10  4.93445e-11 -9.52556e-12    0.0337718      1.07474   -0.0382789    0.0382789 -5.93003e-10  6.93946e-11   -0.0123046         -nan         -nan         -nan         -nan         -nan         -nan         -nan         -nan         -nan         -nan         -nan         -nan\r\n",
      "-1.21989e-10  2.26728e-10   -0.0149018    0.0157653    0.0176898   -0.0458831  -2.2457e-10 -3.03628e-10 -0.000515075  1.82866e-09 -4.70999e-11   -0.0173943  2.87862e-09 -1.09287e-10 -2.63445e-10 -1.55585e-10   -0.0382789   -0.0382789      1.09525   -0.0542852  6.01339e-10 -1.02562e-10   -0.0113436         -nan         -nan         -nan         -nan         -nan         -nan         -nan         -nan         -nan         -nan         -nan         -nan\r\n",
      " 4.08511e-10 -1.45451e-11    0.0157653   -0.0149018    0.0458831   -0.0176898 -1.65028e-10   1.5244e-11  0.000515075 -7.87875e-11  4.12129e-11    0.0173943 -2.59328e-09 -1.06363e-10  6.38529e-11  6.11864e-12    0.0382789    0.0382789   -0.0542852      1.09525 -7.73882e-10 -1.90982e-11    0.0113436         -nan         -nan         -nan         -nan         -nan         -nan         -nan         -nan         -nan         -nan         -nan         -nan\r\n",
      "  -0.0559708  -0.00109188 -3.92271e-09  3.98765e-09  5.35374e-09  5.26178e-09  -0.00259781 -5.06781e-05 -1.12186e-09  -0.00896933   0.00642242 -2.78398e-10   -0.0177733  0.000588305    0.0179747  0.000350651  5.30059e-11  7.92266e-11 -6.30837e-11  9.82837e-11     0.583856  9.32031e-12  2.92793e-10         -nan         -nan         -nan         -nan         -nan         -nan         -nan         -nan         -nan         -nan         -nan         -nan\r\n",
      "  0.00109188   -0.0559708  6.58689e-11 -1.57006e-10 -1.07521e-10 -1.73318e-10  5.06781e-05  -0.00259781  3.04391e-11  -0.00642242  -0.00896933  7.24934e-12  0.000588305    0.0177733 -0.000350651    0.0179747  1.41014e-10  1.06134e-10  1.15782e-10 -8.92269e-11  9.32032e-12     0.583856 -4.55799e-09         -nan         -nan         -nan         -nan         -nan         -nan         -nan         -nan         -nan         -nan         -nan         -nan\r\n",
      "-6.50288e-11  4.40415e-10    0.0320892   -0.0320892    0.0289856    0.0289856 -2.57138e-12 -8.79667e-10  -0.00254081  1.65535e-09  2.19527e-09   -0.0012993  9.33927e-11  -7.0891e-11 -9.61377e-12 -6.10117e-10   -0.0136893   -0.0136893   -0.0109921    0.0109921   7.7117e-10 -5.06067e-09       2.1167         -nan         -nan         -nan         -nan         -nan         -nan         -nan         -nan         -nan         -nan         -nan         -nan\r\n",
      "        -nan         -nan         -nan         -nan         -nan         -nan         -nan         -nan         -nan         -nan         -nan         -nan         -nan         -nan         -nan         -nan         -nan         -nan         -nan         -nan         -nan         -nan         -nan         -nan         -nan         -nan         -nan         -nan         -nan         -nan         -nan         -nan         -nan         -nan         -nan\r\n",
      "        -nan         -nan         -nan         -nan         -nan         -nan         -nan         -nan         -nan         -nan         -nan         -nan         -nan         -nan         -nan         -nan         -nan         -nan         -nan         -nan         -nan         -nan         -nan         -nan         -nan         -nan         -nan         -nan         -nan         -nan         -nan         -nan         -nan         -nan         -nan\r\n",
      "        -nan         -nan         -nan         -nan         -nan         -nan         -nan         -nan         -nan         -nan         -nan         -nan         -nan         -nan         -nan         -nan         -nan         -nan         -nan         -nan         -nan         -nan         -nan         -nan         -nan         -nan         -nan         -nan         -nan         -nan         -nan         -nan         -nan         -nan         -nan\r\n",
      "        -nan         -nan         -nan         -nan         -nan         -nan         -nan         -nan         -nan         -nan         -nan         -nan         -nan         -nan         -nan         -nan         -nan         -nan         -nan         -nan         -nan         -nan         -nan         -nan         -nan         -nan         -nan         -nan         -nan         -nan         -nan         -nan         -nan         -nan         -nan\r\n",
      "        -nan         -nan         -nan         -nan         -nan         -nan         -nan         -nan         -nan         -nan         -nan         -nan         -nan         -nan         -nan         -nan         -nan         -nan         -nan         -nan         -nan         -nan         -nan         -nan         -nan         -nan         -nan         -nan         -nan         -nan         -nan         -nan         -nan         -nan         -nan\r\n",
      "        -nan         -nan         -nan         -nan         -nan         -nan         -nan         -nan         -nan         -nan         -nan         -nan         -nan         -nan         -nan         -nan         -nan         -nan         -nan         -nan         -nan         -nan         -nan         -nan         -nan         -nan         -nan         -nan         -nan         -nan         -nan         -nan         -nan         -nan         -nan\r\n",
      "        -nan         -nan         -nan         -nan         -nan         -nan         -nan         -nan         -nan         -nan         -nan         -nan         -nan         -nan         -nan         -nan         -nan         -nan         -nan         -nan         -nan         -nan         -nan         -nan         -nan         -nan         -nan         -nan         -nan         -nan         -nan         -nan         -nan         -nan         -nan\r\n",
      "        -nan         -nan         -nan         -nan         -nan         -nan         -nan         -nan         -nan         -nan         -nan         -nan         -nan         -nan         -nan         -nan         -nan         -nan         -nan         -nan         -nan         -nan         -nan         -nan         -nan         -nan         -nan         -nan         -nan         -nan         -nan         -nan         -nan         -nan         -nan\r\n",
      "        -nan         -nan         -nan         -nan         -nan         -nan         -nan         -nan         -nan         -nan         -nan         -nan         -nan         -nan         -nan         -nan         -nan         -nan         -nan         -nan         -nan         -nan         -nan         -nan         -nan         -nan         -nan         -nan         -nan         -nan         -nan         -nan         -nan         -nan         -nan\r\n",
      "        -nan         -nan         -nan         -nan         -nan         -nan         -nan         -nan         -nan         -nan         -nan         -nan         -nan         -nan         -nan         -nan         -nan         -nan         -nan         -nan         -nan         -nan         -nan         -nan         -nan         -nan         -nan         -nan         -nan         -nan         -nan         -nan         -nan         -nan         -nan\r\n",
      "        -nan         -nan         -nan         -nan         -nan         -nan         -nan         -nan         -nan         -nan         -nan         -nan         -nan         -nan         -nan         -nan         -nan         -nan         -nan         -nan         -nan         -nan         -nan         -nan         -nan         -nan         -nan         -nan         -nan         -nan         -nan         -nan         -nan         -nan         -nan\r\n",
      "        -nan         -nan         -nan         -nan         -nan         -nan         -nan         -nan         -nan         -nan         -nan         -nan         -nan         -nan         -nan         -nan         -nan         -nan         -nan         -nan         -nan         -nan         -nan          nan          nan          nan          nan          nan          nan          nan          nan          nan          nan          nan          nan\r\n",
      "an error occurred:\r\n",
      "Small generalized eigenvalue problem failed.\r\n"
     ]
    }
   ],
   "source": [
    "!xtp_tools -c job_name=CO geometry_optimization.maxiter=1 dftpackage.basisset=3-21G dftpackage.auxbasisset=aux-def2-svp gwbse.gw.mode=G0W0 -e dftgwbse -t 4"
   ]
  },
  {
   "cell_type": "markdown",
   "metadata": {},
   "source": [
    "Notice that we are using 4 threads. The results will be stored in a file named `CO_summary.xml` in the current work directory, together with the optimization step in `optimisation.trj` and the orbitals in [hdf5 format](https://www.hdfgroup.org/solutions/hdf5/) saved on `CO.orb`."
   ]
  }
 ],
 "metadata": {
  "kernelspec": {
   "display_name": "Python 3",
   "language": "python",
   "name": "python3"
  },
  "language_info": {
   "codemirror_mode": {
    "name": "ipython",
    "version": 3
   },
   "file_extension": ".py",
   "mimetype": "text/x-python",
   "name": "python",
   "nbconvert_exporter": "python",
   "pygments_lexer": "ipython3",
   "version": "3.10.0"
  }
 },
 "nbformat": 4,
 "nbformat_minor": 4
}
