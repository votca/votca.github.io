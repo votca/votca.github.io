{
 "cells": [
  {
   "cell_type": "markdown",
   "metadata": {},
   "source": [
    "## DFT + GWBSE Optimization Using CO"
   ]
  },
  {
   "cell_type": "markdown",
   "metadata": {},
   "source": [
    "## Introduction\n",
    "This tutorial explains how to perform a molecular geometric optimization using the **GWBSE** method. See [the GW Compendium: A Practical Guide to Theoretical Photoemission Spectroscopy](https://doi.org/10.3389/fchem.2019.00377), for an excellent introduction to the method."
   ]
  },
  {
   "cell_type": "markdown",
   "metadata": {},
   "source": [
    "## Requirements\n",
    "* You will need to install **VOTCA** using the instructions described [here](https://github.com/votca/votca/blob/master/share/doc/INSTALL.rst)\n",
    "* Once the installation is completed you need to activate the VOTCA enviroment by running the `VOTCARC.bash` script that has been installed at the bin subfolder for the path that you have provided for the installation step above"
   ]
  },
  {
   "cell_type": "markdown",
   "metadata": {},
   "source": [
    "## Preparing the input\n",
    "To run a DFT-GWBSE calculation we will use the [xtp_tools](https://www.votca.org/xtp/xtp_tools_overview.html) calculator."
   ]
  },
  {
   "cell_type": "markdown",
   "metadata": {},
   "source": [
    "we can now change the calculator mode from single point energy calculation to optimization as follows by adding \n",
    "`-c geometry_optimization.maxiter=1` which enables optimization with one iteration. "
   ]
  },
  {
   "cell_type": "markdown",
   "metadata": {},
   "source": [
    "Because geometry optimsation is quite expensive numerically we chose a smaller basisset and G0W0 Finally, to run the calculation we just need the following command (This still takes a while)"
   ]
  },
  {
   "cell_type": "code",
   "execution_count": 1,
   "metadata": {
    "execution": {
     "iopub.execute_input": "2021-12-05T07:18:26.940657Z",
     "iopub.status.busy": "2021-12-05T07:18:26.940107Z",
     "iopub.status.idle": "2021-12-05T07:19:39.155750Z",
     "shell.execute_reply": "2021-12-05T07:19:39.155143Z"
    }
   },
   "outputs": [
    {
     "name": "stdout",
     "output_type": "stream",
     "text": [
      "==================================================\r\n",
      "========   VOTCA (http://www.votca.org)   ========\r\n",
      "==================================================\r\n",
      "\r\n",
      "please submit bugs to https://github.com/votca/xtp/issues\r\n",
      "\r\n",
      "xtp_tools, version 2022-dev gitid: 4b808e7 (compiled Dec  5 2021, 07:10:10)\r\n",
      "votca_csg, version 2022-dev gitid: 4b808e7 (compiled Dec  5 2021, 06:55:08)\r\n",
      "votca_tools, version 2022-dev gitid: 4b808e7 (compiled Dec  5 2021, 06:53:04)\r\n",
      "\r\n",
      "Initializing tool\r\n",
      "... dftgwbse Evaluating tool\r\n",
      "... dftgwbse  Using 4 threads\r\n",
      "... ... Reading structure from CO.xyz\r\n",
      "... ... Requested geometry optimization of excited state s1\r\n",
      "... ... Initial state: s1\r\n",
      "... ... WARNING: No tracker is used \r\n",
      "... ... Convergence of total energy: 0.000001 Hartree \r\n",
      "... ... Convergence of RMS Force:    0.000030 Hartree/Bohr \r\n",
      "... ... Convergence of Max Force:    0.000100 Hartree/Bohr \r\n",
      "... ... Convergence of RMS Step:     0.000600 Bohr \r\n",
      "... ... Convergence of Max Step:     0.001000 Bohr \r\n",
      "... ... Initial trust radius:        0.018897 Bohr\r\n",
      "... ... \r\n",
      "... ... =========== OPTIMIZATION SUMMARY ================================= \r\n",
      "... ... At iteration  0\r\n",
      "... ...  ---- POSITIONS (Angstrom)   \r\n",
      "... ...  Atom\t x\t  y\t  z \r\n",
      "... ...    0    +0.0000  +0.0000  +0.0000\r\n",
      "... ...    1    +1.2000  +0.0000  +0.0000\r\n",
      "... ...    Total energy:     -112.26831841 Hartree \r\n",
      "... ...    Trust radius:       0.01889726 Bohr     \r\n",
      "... ...  ---- FORCES (Hartree/Bohr)   \r\n",
      "... ...       central differences   \r\n",
      "... ...       displacement 0.0010 Angstrom   \r\n",
      "... ...  Atom\t x\t  y\t  z \r\n",
      "... ...    0    -0.1314  -0.0000  -0.0000\r\n",
      "... ...    1    +0.1314  +0.0000  +0.0000A\r\n",
      "    0.301149 -1.39166e-12  7.65795e-10  -8.8213e-10 -1.20334e-09 -1.04552e-09   -0.0519724  1.01976e-12  5.92029e-10    0.0142147   -0.0104385  2.25008e-10   -0.0390253     0.000526    0.0423984 -8.04557e-13  1.49903e-10  3.05517e-10  -1.9274e-10  4.06239e-10    -0.107077  -0.00210409 -6.18725e-11          nan          nan          nan          nan          nan          nan          nan          nan          nan          nan          nan          nan\r\n",
      "-1.39165e-12     0.301149 -1.49027e-10  3.06842e-10 -2.18828e-10 -1.02494e-10  1.01977e-12   -0.0519724 -2.94459e-12    0.0104385    0.0142147 -6.41742e-13     0.000526    0.0390253 -8.04493e-13    0.0423984  2.11586e-10  -1.9126e-12  1.59694e-10 -4.08039e-12  -0.00210409     0.107077 -5.83471e-11          nan          nan          nan          nan          nan          nan          nan          nan          nan          nan          nan          nan\r\n",
      " 7.65795e-10 -1.49027e-10     0.391285   -0.0710521    -0.110488    -0.110488 -1.82214e-10  9.50944e-11     0.053867  3.41761e-11  -1.1616e-10    0.0242819 -1.88595e-09  5.75431e-11  1.22998e-10 -3.06169e-11   -0.0364197    0.0108402   -0.0169607    0.0175977 -7.92262e-09 -3.80084e-10    0.0243642          nan          nan          nan          nan          nan          nan          nan          nan          nan          nan          nan          nan\r\n",
      " -8.8213e-10  3.06842e-10   -0.0710521     0.391285     0.110488     0.110488  2.20726e-10 -1.49614e-10    -0.053867 -3.36664e-11  1.20444e-10   -0.0242819  1.90573e-09  -3.1942e-11 -2.12349e-10  1.52906e-10   -0.0108402    0.0364197    0.0175977   -0.0169607  8.00394e-09  4.97734e-10   -0.0243642          nan          nan          nan          nan          nan          nan          nan          nan          nan          nan          nan          nan\r\n",
      "-1.20334e-09 -2.18828e-10    -0.110488     0.110488     0.460606     0.140373  3.02672e-10  9.97789e-11   -0.0733536 -1.43498e-10  3.34286e-11   -0.0330659    2.595e-09   9.7867e-12 -2.89669e-10 -1.06889e-10   -0.0167544   -0.0173914    0.0211101    0.0261498  1.09033e-08  1.19344e-10   0.00952079          nan          nan          nan          nan          nan          nan          nan          nan          nan          nan          nan          nan\r\n",
      "-1.04552e-09 -1.02494e-10    -0.110488     0.110488     0.140373     0.460606  2.48152e-10  6.12665e-11   -0.0733536 -1.39213e-10  3.29189e-11   -0.0330659   2.5694e-09  2.95674e-11  -1.6738e-10 -1.75375e-11   -0.0173914   -0.0167544   -0.0261498   -0.0211101  1.07847e-08  2.01509e-10   0.00952079          nan          nan          nan          nan          nan          nan          nan          nan          nan          nan          nan          nan\r\n",
      "  -0.0519724  1.01977e-12 -1.82214e-10  2.20726e-10  3.02672e-10  2.48152e-10     0.486835  -2.4463e-13 -1.77662e-10   -0.0109899   0.00807037 -3.96538e-11  -0.00830531  0.000111943    0.0301449  2.91501e-12  9.01753e-11 -1.01082e-10  -1.2677e-10 -1.35794e-10    0.0549834   0.00108043  4.16117e-11          nan          nan          nan          nan          nan          nan          nan          nan          nan          nan          nan          nan\r\n",
      " 1.01976e-12   -0.0519724  9.50944e-11 -1.49614e-10  9.97789e-11  6.12665e-11 -2.44616e-13     0.486835  4.00369e-12  -0.00807037   -0.0109899  1.15125e-12  0.000111943   0.00830531    2.915e-12    0.0301449 -2.69879e-10 -7.31509e-12 -2.00813e-10  9.55539e-12   0.00108043   -0.0549834 -2.31364e-10          nan          nan          nan          nan          nan          nan          nan          nan          nan          nan          nan          nan\r\n",
      " 5.92029e-10 -2.94459e-12     0.053867    -0.053867   -0.0733536   -0.0733536 -1.77662e-10  4.00369e-12     0.659928  2.69738e-10 -1.99624e-10  -0.00518518 -7.77966e-10  3.34446e-12  1.34331e-10 -2.17434e-12   0.00287558   0.00287558  -0.00380719   0.00380719 -5.23251e-09 -1.54438e-10   0.00266616          nan          nan          nan          nan          nan          nan          nan          nan          nan          nan          nan          nan\r\n",
      "   0.0142147    0.0104385  3.41761e-11 -3.36664e-11 -1.43498e-10 -1.39213e-10   -0.0109899  -0.00807037  2.69738e-10     0.668107  7.26612e-13  -7.8961e-11  1.34971e-05 -1.01943e-05   0.00730259   0.00536264 -2.62413e-11 -2.97161e-11  1.09091e-09 -4.36743e-11   -0.0335036    0.0236043  8.03376e-10          nan          nan          nan          nan          nan          nan          nan          nan          nan          nan          nan          nan\r\n",
      "  -0.0104385    0.0142147  -1.1616e-10  1.20444e-10  3.34286e-11  3.29189e-11   0.00807037   -0.0109899 -1.99624e-10  7.26809e-13     0.668107  5.91645e-11 -1.01943e-05 -1.34971e-05  -0.00536264   0.00730259  1.07638e-09  2.91433e-11 -2.62008e-11  2.27261e-11    0.0236043    0.0335036  1.13173e-09          nan          nan          nan          nan          nan          nan          nan          nan          nan          nan          nan          nan\r\n",
      " 2.25008e-10 -6.41742e-13    0.0242819   -0.0242819   -0.0330659   -0.0330659 -3.96538e-11  1.15125e-12  -0.00518518  -7.8961e-11  5.91645e-11     0.793012 -5.03133e-10  1.23369e-12  7.47807e-11  -4.7852e-13   0.00922391   0.00922391   -0.0122122    0.0122122 -1.99154e-09 -5.80394e-11   0.00109007          nan          nan          nan          nan          nan          nan          nan          nan          nan          nan          nan          nan\r\n",
      "  -0.0390253     0.000526 -1.88595e-09  1.90573e-09    2.595e-09   2.5694e-09  -0.00830531  0.000111943 -7.77966e-10  1.34971e-05 -1.01943e-05 -5.03133e-10     0.954263 -3.99864e-13    0.0128739  -0.00017352 -1.21665e-09 -1.11136e-09  1.61191e-09 -1.47037e-09   -0.0198854  -0.00065895 -1.24046e-10          nan          nan          nan          nan          nan          nan          nan          nan          nan          nan          nan          nan\r\n",
      "    0.000526    0.0390253  5.75431e-11  -3.1942e-11   9.7867e-12  2.95674e-11  0.000111943   0.00830531  3.34446e-12 -1.01943e-05 -1.34971e-05  1.23369e-12 -3.99875e-13     0.954263  -0.00017352   -0.0128739 -5.84371e-11  8.31006e-11 -5.21903e-11 -5.30941e-11   0.00065895   -0.0198854  3.45538e-11          nan          nan          nan          nan          nan          nan          nan          nan          nan          nan          nan          nan\r\n",
      "   0.0423984 -8.04493e-13  1.22998e-10 -2.12349e-10 -2.89669e-10  -1.6738e-10    0.0301449    2.915e-12  1.34331e-10   0.00730259  -0.00536264  7.47807e-11    0.0128739  -0.00017352     0.973645  1.57456e-12  1.19594e-10  3.20944e-11 -1.60967e-10  4.22098e-11   -0.0229461 -0.000450895 -1.87356e-11          nan          nan          nan          nan          nan          nan          nan          nan          nan          nan          nan          nan\r\n",
      "-8.04557e-13    0.0423984 -3.06169e-11  1.52906e-10 -1.06889e-10 -1.75375e-11  2.91501e-12    0.0301449 -2.17434e-12   0.00536264   0.00730259  -4.7852e-13  -0.00017352   -0.0128739  1.57458e-12     0.973645 -1.26875e-10 -8.11782e-12 -9.28943e-11  5.39485e-12 -0.000450895    0.0229461 -5.38914e-10          nan          nan          nan          nan          nan          nan          nan          nan          nan          nan          nan          nan\r\n",
      " 1.49903e-10  2.11586e-10   -0.0364197   -0.0108402   -0.0167544   -0.0173914  9.01753e-11 -2.69879e-10   0.00287558 -2.62413e-11  1.07638e-09   0.00922391 -1.21665e-09 -5.84371e-11  1.19594e-10 -1.26875e-10      1.03677       0.0176   -0.0205411    0.0205411 -1.51463e-09  2.11815e-11  -0.00299713          nan          nan          nan          nan          nan          nan          nan          nan          nan          nan          nan          nan\r\n",
      " 3.05517e-10  -1.9126e-12    0.0108402    0.0364197   -0.0173914   -0.0167544 -1.01082e-10 -7.31509e-12   0.00287558 -2.97161e-11  2.91433e-11   0.00922391 -1.11136e-09  8.31006e-11  3.20944e-11 -8.11782e-12       0.0176      1.03677   -0.0205411    0.0205411 -1.56356e-09  -4.9458e-11  -0.00299713          nan          nan          nan          nan          nan          nan          nan          nan          nan          nan          nan          nan\r\n",
      " -1.9274e-10  1.59694e-10   -0.0169607    0.0175977    0.0211101   -0.0261498  -1.2677e-10 -2.00813e-10  -0.00380719  1.09091e-09 -2.62008e-11   -0.0122122  1.61191e-09 -5.21903e-11 -1.60967e-10 -9.28943e-11   -0.0205411   -0.0205411      1.04845   -0.0292812  1.99864e-09  1.04686e-10  -0.00433775          nan          nan          nan          nan          nan          nan          nan          nan          nan          nan          nan          nan\r\n",
      " 4.06239e-10 -4.08039e-12    0.0175977   -0.0169607    0.0261498   -0.0211101 -1.35794e-10  9.55539e-12   0.00380719 -4.36743e-11  2.27261e-11    0.0122122 -1.47037e-09 -5.30941e-11  4.22098e-11  5.39485e-12    0.0205411    0.0205411   -0.0292812      1.04845 -2.06928e-09 -5.57816e-11   0.00433775          nan          nan          nan          nan          nan          nan          nan          nan          nan          nan          nan          nan\r\n",
      "   0.0745717   0.00146535  5.41888e-09 -5.43331e-09 -7.39814e-09 -7.37484e-09   -0.0700159  -0.00137582  4.09993e-09    0.0248515   -0.0175086  1.74157e-09   0.00919343 -0.000304646    0.0362818  0.000712944  1.22629e-09  1.25498e-09  -1.6184e-09  1.65937e-09    -0.195058 -8.52973e-12  3.98611e-10          nan          nan          nan          nan          nan          nan          nan          nan          nan          nan          nan          nan\r\n",
      "  0.00146535   -0.0745717  4.14844e-10 -4.37885e-10   -1.661e-11 -3.11557e-11  -0.00137582    0.0700159  1.21358e-10   -0.0175086   -0.0248515  5.04341e-11  0.000304646   0.00919343  0.000712944   -0.0362818 -4.54643e-11 -4.70144e-12 -1.10006e-10  8.11146e-11 -8.52972e-12    -0.195058  6.14417e-09          nan          nan          nan          nan          nan          nan          nan          nan          nan          nan          nan          nan\r\n",
      "  1.1963e-11  8.00286e-10    0.0055486   -0.0055486    0.0183061    0.0183061 -5.80173e-11  -7.0023e-10  -0.00453575   1.1407e-09  1.48178e-09  -0.00194774  1.48586e-10  -1.1977e-10   1.5813e-11  3.11374e-11  -0.00566358  -0.00566358  -0.00298766   0.00298766  8.58694e-10  6.30032e-09      1.05321          nan          nan          nan          nan          nan          nan          nan          nan          nan          nan          nan          nan\r\n",
      "        -nan         -nan         -nan         -nan         -nan         -nan         -nan         -nan         -nan         -nan         -nan         -nan         -nan         -nan         -nan         -nan         -nan         -nan         -nan         -nan         -nan         -nan         -nan          nan          nan          nan          nan          nan          nan          nan          nan          nan          nan          nan          nan\r\n",
      "        -nan         -nan         -nan         -nan         -nan         -nan         -nan         -nan         -nan         -nan         -nan         -nan         -nan         -nan         -nan         -nan         -nan         -nan         -nan         -nan         -nan         -nan         -nan         -nan         -nan         -nan         -nan         -nan         -nan         -nan         -nan         -nan         -nan         -nan         -nan\r\n",
      "        -nan         -nan         -nan         -nan         -nan         -nan         -nan         -nan         -nan         -nan         -nan         -nan         -nan         -nan         -nan         -nan         -nan         -nan         -nan         -nan         -nan         -nan         -nan         -nan         -nan         -nan         -nan         -nan         -nan         -nan         -nan         -nan         -nan         -nan         -nan\r\n",
      "        -nan         -nan         -nan         -nan         -nan         -nan         -nan         -nan         -nan         -nan         -nan         -nan         -nan         -nan         -nan         -nan         -nan         -nan         -nan         -nan         -nan         -nan         -nan          nan          nan          nan          nan          nan          nan          nan          nan          nan          nan          nan          nan\r\n",
      "        -nan         -nan         -nan         -nan         -nan         -nan         -nan         -nan         -nan         -nan         -nan         -nan         -nan         -nan         -nan         -nan         -nan         -nan         -nan         -nan         -nan         -nan         -nan          nan          nan          nan          nan          nan          nan          nan          nan          nan          nan          nan          nan\r\n",
      "        -nan         -nan         -nan         -nan         -nan         -nan         -nan         -nan         -nan         -nan         -nan         -nan         -nan         -nan         -nan         -nan         -nan         -nan         -nan         -nan         -nan         -nan         -nan         -nan         -nan         -nan         -nan         -nan         -nan         -nan         -nan         -nan         -nan         -nan         -nan\r\n",
      "        -nan         -nan         -nan         -nan         -nan         -nan         -nan         -nan         -nan         -nan         -nan         -nan         -nan         -nan         -nan         -nan         -nan         -nan         -nan         -nan         -nan         -nan         -nan         -nan         -nan         -nan         -nan         -nan         -nan         -nan         -nan         -nan         -nan         -nan         -nan\r\n",
      "        -nan         -nan         -nan         -nan         -nan         -nan         -nan         -nan         -nan         -nan         -nan         -nan         -nan         -nan         -nan         -nan         -nan         -nan         -nan         -nan         -nan         -nan         -nan          nan          nan          nan          nan          nan          nan          nan          nan          nan          nan          nan          nan\r\n",
      "        -nan         -nan         -nan         -nan         -nan         -nan         -nan         -nan         -nan         -nan         -nan         -nan         -nan         -nan         -nan         -nan         -nan         -nan         -nan         -nan         -nan         -nan         -nan          nan          nan          nan          nan          nan          nan          nan          nan          nan          nan          nan          nan\r\n",
      "        -nan         -nan         -nan         -nan         -nan         -nan         -nan         -nan         -nan         -nan         -nan         -nan         -nan         -nan         -nan         -nan         -nan         -nan         -nan         -nan         -nan         -nan         -nan         -nan          nan          nan          nan         -nan          nan          nan          nan         -nan          nan          nan          nan\r\n",
      "        -nan         -nan         -nan         -nan         -nan         -nan         -nan         -nan         -nan         -nan         -nan         -nan         -nan         -nan         -nan         -nan         -nan         -nan         -nan         -nan         -nan         -nan         -nan         -nan          nan          nan          nan         -nan          nan          nan          nan         -nan          nan          nan          nan\r\n",
      "        -nan         -nan         -nan         -nan         -nan         -nan         -nan         -nan         -nan         -nan         -nan         -nan         -nan         -nan         -nan         -nan         -nan         -nan         -nan         -nan         -nan         -nan         -nan         -nan         -nan         -nan         -nan         -nan         -nan         -nan         -nan         -nan         -nan         -nan         -nan\r\n",
      "B\r\n",
      "   0.0903883 -6.20654e-13  2.82234e-10 -3.56066e-10 -4.85922e-10 -3.85778e-10   -0.0326152  6.25387e-13  3.66711e-10    0.0119402  -0.00876825  1.49744e-10   -0.0481031  0.000648355    0.0477611 -9.23444e-13  9.87139e-11  3.08746e-10 -1.22768e-10   4.1087e-10   -0.0244237 -0.000479931 -4.36347e-11         -nan         -nan         -nan         -nan         -nan         -nan         -nan         -nan         -nan         -nan         -nan         -nan\r\n",
      "-6.20646e-13    0.0903883 -7.33213e-11  1.73465e-10 -1.25042e-10 -5.12098e-11  6.25392e-13   -0.0326152 -1.82287e-12   0.00876825    0.0119402 -3.83767e-13  0.000648355    0.0481031 -9.23369e-13    0.0477611  2.98858e-10  1.07547e-11  2.24455e-10 -1.44233e-11 -0.000479931    0.0244237  7.66161e-10         -nan         -nan         -nan         -nan         -nan         -nan         -nan         -nan         -nan         -nan         -nan         -nan\r\n",
      " 2.82234e-10 -7.33213e-11     0.138912   -0.0340784   -0.0539322   -0.0539322 -8.94489e-11   6.4755e-11    0.0386995  2.49183e-11 -9.92937e-11    0.0188899  -2.0316e-09  6.52314e-11  1.05888e-10 -3.17349e-11   -0.0546352    0.0089379    -0.014837    0.0156939 -4.00539e-10  9.28995e-11    0.0316279         -nan         -nan         -nan         -nan         -nan         -nan         -nan         -nan         -nan         -nan         -nan         -nan\r\n",
      "-3.56066e-10  1.73465e-10   -0.0340784     0.138912    0.0539322    0.0539322   1.2067e-10 -1.08602e-10   -0.0386995 -2.44413e-11  1.04802e-10   -0.0188899  2.06078e-09 -2.74154e-11  -2.2076e-10  1.88765e-10   -0.0089379    0.0546352    0.0156939    -0.014837  4.68931e-10  3.81502e-12   -0.0316279         -nan         -nan         -nan         -nan         -nan         -nan         -nan         -nan         -nan         -nan         -nan         -nan\r\n",
      "-4.85922e-10 -1.25042e-10   -0.0539322    0.0539322      0.17275    0.0679158  1.65756e-10  7.37587e-11   -0.0526991 -1.21465e-10  2.47446e-11   -0.0257234  2.80585e-09  4.39604e-12 -3.01154e-10 -1.32779e-10   -0.0143421    -0.015199    0.0179175    0.0456556  6.43746e-10  2.82966e-11    0.0288408         -nan         -nan         -nan         -nan         -nan         -nan         -nan         -nan         -nan         -nan         -nan         -nan\r\n",
      "-3.85778e-10 -5.12098e-11   -0.0539322    0.0539322    0.0679158      0.17275  1.21908e-10  4.25373e-11   -0.0526991 -1.15957e-10  2.42676e-11   -0.0257234  2.76804e-09  3.35741e-11 -1.44124e-10 -1.79071e-11    -0.015199   -0.0143421   -0.0456556   -0.0179175  5.46365e-10  9.73777e-11    0.0288408         -nan         -nan         -nan         -nan         -nan         -nan         -nan         -nan         -nan         -nan         -nan         -nan\r\n",
      "  -0.0326152  6.25393e-13 -8.94489e-11   1.2067e-10  1.65756e-10  1.21908e-10     0.236624 -1.37826e-13 -1.35483e-10   -0.0115919   0.00851248 -2.41282e-11  -0.00949852  0.000128025    0.0424653  4.00015e-12  1.62255e-10 -1.23204e-10 -2.25781e-10 -1.65966e-10  -0.00359495 -7.06415e-05 -5.48659e-12         -nan         -nan         -nan         -nan         -nan         -nan         -nan         -nan         -nan         -nan         -nan         -nan\r\n",
      " 6.25384e-13   -0.0326152   6.4755e-11 -1.08602e-10  7.37587e-11  4.25373e-11 -1.37814e-13     0.236624  3.36926e-12  -0.00851248   -0.0115919  9.79544e-13  0.000128025   0.00949852  4.00014e-12    0.0424653 -4.05095e-10  -1.3349e-11  -3.0058e-10    1.512e-11 -7.06415e-05   0.00359495 -8.19978e-10         -nan         -nan         -nan         -nan         -nan         -nan         -nan         -nan         -nan         -nan         -nan         -nan\r\n",
      " 3.66711e-10 -1.82287e-12    0.0386995   -0.0386995   -0.0526991   -0.0526991 -1.35483e-10  3.36926e-12     0.424108  3.30288e-10 -2.44746e-10   -0.0112617 -9.32861e-10  4.49132e-12  1.82485e-10 -2.96373e-12  0.000391299  0.000391299 -0.000518069  0.000518069 -1.09263e-09 -3.52277e-11  -0.00121402         -nan         -nan         -nan         -nan         -nan         -nan         -nan         -nan         -nan         -nan         -nan         -nan\r\n",
      "   0.0119402   0.00876825  2.49183e-11 -2.44413e-11 -1.21465e-10 -1.15957e-10   -0.0115919  -0.00851248  3.30288e-10     0.446812  9.55851e-13 -1.12386e-10 -0.000386336    0.0002918   0.00870138   0.00638983 -4.73188e-11  -5.3164e-11  1.82938e-09 -7.95056e-11   -0.0145209    0.0102304  1.77341e-09         -nan         -nan         -nan         -nan         -nan         -nan         -nan         -nan         -nan         -nan         -nan         -nan\r\n",
      " -0.00876825    0.0119402 -9.92937e-11  1.04802e-10  2.47446e-11  2.42676e-11   0.00851248   -0.0115919 -2.44746e-10  9.56131e-13     0.446812  8.39637e-11    0.0002918  0.000386336  -0.00638983   0.00870138   1.8029e-09  5.30227e-11 -4.69051e-11    4.106e-11    0.0102304    0.0145209  2.39558e-09         -nan         -nan         -nan         -nan         -nan         -nan         -nan         -nan         -nan         -nan         -nan         -nan\r\n",
      " 1.49744e-10 -3.83767e-13    0.0188899   -0.0188899   -0.0257234   -0.0257234 -2.41282e-11  9.79544e-13   -0.0112617 -1.12386e-10  8.39637e-11     0.627074 -6.54358e-10  1.55834e-12  1.02976e-10 -5.57037e-13    0.0132144    0.0132144   -0.0174955    0.0174955 -2.08821e-10 -8.08881e-12 -0.000497894         -nan         -nan         -nan         -nan         -nan         -nan         -nan         -nan         -nan         -nan         -nan         -nan\r\n",
      "  -0.0481031  0.000648355  -2.0316e-09  2.06078e-09  2.80585e-09  2.76804e-09  -0.00949852  0.000128025 -9.32861e-10 -0.000386336    0.0002918 -6.54358e-10     0.912954 -7.13049e-13    0.0215518 -0.000290485 -2.18518e-09  -1.9717e-09  2.89534e-09 -2.60837e-09   -0.0227037 -0.000752341 -5.55783e-11         -nan         -nan         -nan         -nan         -nan         -nan         -nan         -nan         -nan         -nan         -nan         -nan\r\n",
      " 0.000648355    0.0481031  6.52314e-11 -2.74154e-11  4.39604e-12  3.35741e-11  0.000128025   0.00949852  4.49132e-12    0.0002918  0.000386336  1.55834e-12  -7.1307e-13     0.912954 -0.000290485   -0.0215518 -1.24205e-10  1.62757e-10 -1.08284e-10 -1.05195e-10  0.000752341   -0.0227037 -1.07544e-10         -nan         -nan         -nan         -nan         -nan         -nan         -nan         -nan         -nan         -nan         -nan         -nan\r\n",
      "   0.0477611 -9.23369e-13  1.05888e-10  -2.2076e-10 -3.01154e-10 -1.44124e-10    0.0424653  4.00013e-12  1.82485e-10   0.00870138  -0.00638983  1.02976e-10    0.0215518 -0.000290485     0.952112   2.9909e-12  1.96821e-10  4.88528e-11 -2.64935e-10  6.42298e-11   0.00321143  6.31053e-05 -6.79508e-12         -nan         -nan         -nan         -nan         -nan         -nan         -nan         -nan         -nan         -nan         -nan         -nan\r\n",
      "-9.23442e-13    0.0477611 -3.17349e-11  1.88765e-10 -1.32779e-10 -1.79071e-11  4.00015e-12    0.0424653 -2.96373e-12   0.00638983   0.00870138 -5.57037e-13 -0.000290485   -0.0215518  2.99093e-12     0.952112 -2.10276e-10 -9.57119e-12 -1.54015e-10  6.04697e-12  6.31053e-05  -0.00321143 -4.80607e-10         -nan         -nan         -nan         -nan         -nan         -nan         -nan         -nan         -nan         -nan         -nan         -nan\r\n",
      " 9.87139e-11  2.98858e-10   -0.0546352   -0.0089379   -0.0143421    -0.015199  1.62255e-10 -4.05095e-10  0.000391299 -4.73188e-11   1.8029e-09    0.0132144 -2.18518e-09 -1.24205e-10  1.96821e-10 -2.10276e-10      1.07416    0.0331901   -0.0381182    0.0381182 -4.66225e-10   1.0416e-10   -0.0123585         -nan         -nan         -nan         -nan         -nan         -nan         -nan         -nan         -nan         -nan         -nan         -nan\r\n",
      " 3.08746e-10  1.07547e-11    0.0089379    0.0546352    -0.015199   -0.0143421 -1.23204e-10  -1.3349e-11  0.000391299  -5.3164e-11  5.30227e-11    0.0132144  -1.9717e-09  1.62757e-10  4.88528e-11 -9.57119e-12    0.0331901      1.07416   -0.0381182    0.0381182 -5.86894e-10 -6.96093e-11   -0.0123585         -nan         -nan         -nan         -nan         -nan         -nan         -nan         -nan         -nan         -nan         -nan         -nan\r\n",
      "-1.22768e-10  2.24455e-10    -0.014837    0.0156939    0.0179175   -0.0456556 -2.25781e-10  -3.0058e-10 -0.000518069  1.82938e-09 -4.69051e-11   -0.0174955  2.89534e-09 -1.08284e-10 -2.64935e-10 -1.54015e-10   -0.0381182   -0.0381182      1.09584   -0.0548669  6.04551e-10  1.01821e-10   -0.0112825         -nan         -nan         -nan         -nan         -nan         -nan         -nan         -nan         -nan         -nan         -nan         -nan\r\n",
      "  4.1087e-10 -1.44233e-11    0.0156939    -0.014837    0.0456556   -0.0179175 -1.65966e-10    1.512e-11  0.000518069 -7.95056e-11    4.106e-11    0.0174955 -2.60837e-09 -1.05195e-10  6.42298e-11  6.04697e-12    0.0381182    0.0381182   -0.0548669      1.09584 -7.78013e-10  1.85149e-11    0.0112825         -nan         -nan         -nan         -nan         -nan         -nan         -nan         -nan         -nan         -nan         -nan         -nan\r\n",
      "  -0.0559707  -0.00109983 -3.88253e-09  3.94675e-09   5.3829e-09  5.29042e-09   -0.0025978 -5.10472e-05 -1.12221e-09  -0.00901821    0.0063536 -2.78641e-10   -0.0177733  0.000588959    0.0179746  0.000353205  5.21318e-11  7.80798e-11 -6.29625e-11  9.83688e-11     0.583856 -9.32186e-12  3.04944e-10         -nan         -nan         -nan         -nan         -nan         -nan         -nan         -nan         -nan         -nan         -nan         -nan\r\n",
      " -0.00109983    0.0559707 -6.48383e-11  1.56461e-10  1.09159e-10  1.74256e-10 -5.10472e-05    0.0025978 -3.04812e-11    0.0063536   0.00901821 -7.24495e-12 -0.000588959   -0.0177733  0.000353205   -0.0179746 -1.41837e-10 -1.06764e-10 -1.14803e-10  8.85119e-11 -9.32187e-12     0.583856  4.55904e-09         -nan         -nan         -nan         -nan         -nan         -nan         -nan         -nan         -nan         -nan         -nan         -nan\r\n",
      "-6.78692e-11  4.40089e-10    0.0322418   -0.0322418    0.0288064    0.0288064 -2.41542e-12 -8.78852e-10  -0.00261288  1.63647e-09  2.20591e-09  -0.00133736  9.66289e-11 -7.08433e-11 -9.33338e-12 -6.09497e-10   -0.0137705   -0.0137705   -0.0108808    0.0108808  7.98929e-10  5.06192e-09      2.11538         -nan         -nan         -nan         -nan         -nan         -nan         -nan         -nan         -nan         -nan         -nan         -nan\r\n",
      "        -nan         -nan         -nan         -nan         -nan         -nan         -nan         -nan         -nan         -nan         -nan         -nan         -nan         -nan         -nan         -nan         -nan         -nan         -nan         -nan         -nan         -nan         -nan         -nan         -nan         -nan         -nan         -nan         -nan         -nan         -nan         -nan         -nan         -nan         -nan\r\n",
      "        -nan         -nan         -nan         -nan         -nan         -nan         -nan         -nan         -nan         -nan         -nan         -nan         -nan         -nan         -nan         -nan         -nan         -nan         -nan         -nan         -nan         -nan         -nan         -nan         -nan         -nan         -nan         -nan         -nan         -nan         -nan         -nan         -nan         -nan         -nan\r\n",
      "        -nan         -nan         -nan         -nan         -nan         -nan         -nan         -nan         -nan         -nan         -nan         -nan         -nan         -nan         -nan         -nan         -nan         -nan         -nan         -nan         -nan         -nan         -nan         -nan         -nan         -nan         -nan         -nan         -nan         -nan         -nan         -nan         -nan         -nan         -nan\r\n",
      "        -nan         -nan         -nan         -nan         -nan         -nan         -nan         -nan         -nan         -nan         -nan         -nan         -nan         -nan         -nan         -nan         -nan         -nan         -nan         -nan         -nan         -nan         -nan         -nan         -nan         -nan         -nan         -nan         -nan         -nan         -nan         -nan         -nan         -nan         -nan\r\n",
      "        -nan         -nan         -nan         -nan         -nan         -nan         -nan         -nan         -nan         -nan         -nan         -nan         -nan         -nan         -nan         -nan         -nan         -nan         -nan         -nan         -nan         -nan         -nan         -nan         -nan         -nan         -nan         -nan         -nan         -nan         -nan         -nan         -nan         -nan         -nan\r\n",
      "        -nan         -nan         -nan         -nan         -nan         -nan         -nan         -nan         -nan         -nan         -nan         -nan         -nan         -nan         -nan         -nan         -nan         -nan         -nan         -nan         -nan         -nan         -nan         -nan         -nan         -nan         -nan         -nan         -nan         -nan         -nan         -nan         -nan         -nan         -nan\r\n",
      "        -nan         -nan         -nan         -nan         -nan         -nan         -nan         -nan         -nan         -nan         -nan         -nan         -nan         -nan         -nan         -nan         -nan         -nan         -nan         -nan         -nan         -nan         -nan         -nan         -nan         -nan         -nan         -nan         -nan         -nan         -nan         -nan         -nan         -nan         -nan\r\n",
      "        -nan         -nan         -nan         -nan         -nan         -nan         -nan         -nan         -nan         -nan         -nan         -nan         -nan         -nan         -nan         -nan         -nan         -nan         -nan         -nan         -nan         -nan         -nan         -nan         -nan         -nan         -nan         -nan         -nan         -nan         -nan         -nan         -nan         -nan         -nan\r\n",
      "        -nan         -nan         -nan         -nan         -nan         -nan         -nan         -nan         -nan         -nan         -nan         -nan         -nan         -nan         -nan         -nan         -nan         -nan         -nan         -nan         -nan         -nan         -nan         -nan         -nan         -nan         -nan         -nan         -nan         -nan         -nan         -nan         -nan         -nan         -nan\r\n",
      "        -nan         -nan         -nan         -nan         -nan         -nan         -nan         -nan         -nan         -nan         -nan         -nan         -nan         -nan         -nan         -nan         -nan         -nan         -nan         -nan         -nan         -nan         -nan         -nan         -nan         -nan         -nan         -nan         -nan         -nan         -nan         -nan         -nan         -nan         -nan\r\n",
      "        -nan         -nan         -nan         -nan         -nan         -nan         -nan         -nan         -nan         -nan         -nan         -nan         -nan         -nan         -nan         -nan         -nan         -nan         -nan         -nan         -nan         -nan         -nan         -nan         -nan         -nan         -nan         -nan         -nan         -nan         -nan         -nan         -nan         -nan         -nan\r\n",
      "        -nan         -nan         -nan         -nan         -nan         -nan         -nan         -nan         -nan         -nan         -nan         -nan         -nan         -nan         -nan         -nan         -nan         -nan         -nan         -nan         -nan         -nan         -nan          nan          nan          nan          nan          nan          nan          nan          nan          nan          nan          nan          nan\r\n",
      "an error occurred:\r\n",
      "Small generalized eigenvalue problem failed.\r\n"
     ]
    }
   ],
   "source": [
    "!xtp_tools -c job_name=CO geometry_optimization.maxiter=1 dftpackage.basisset=3-21G dftpackage.auxbasisset=aux-def2-svp gwbse.gw.mode=G0W0 -e dftgwbse -t 4"
   ]
  },
  {
   "cell_type": "markdown",
   "metadata": {},
   "source": [
    "Notice that we are using 4 threads. The results will be stored in a file named `CO_summary.xml` in the current work directory, together with the optimization step in `optimisation.trj` and the orbitals in [hdf5 format](https://www.hdfgroup.org/solutions/hdf5/) saved on `CO.orb`."
   ]
  }
 ],
 "metadata": {
  "kernelspec": {
   "display_name": "Python 3",
   "language": "python",
   "name": "python3"
  },
  "language_info": {
   "codemirror_mode": {
    "name": "ipython",
    "version": 3
   },
   "file_extension": ".py",
   "mimetype": "text/x-python",
   "name": "python",
   "nbconvert_exporter": "python",
   "pygments_lexer": "ipython3",
   "version": "3.10.0"
  }
 },
 "nbformat": 4,
 "nbformat_minor": 4
}
