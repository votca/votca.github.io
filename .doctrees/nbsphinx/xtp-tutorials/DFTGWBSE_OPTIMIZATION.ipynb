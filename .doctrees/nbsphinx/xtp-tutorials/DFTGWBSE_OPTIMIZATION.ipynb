{
 "cells": [
  {
   "cell_type": "markdown",
   "metadata": {},
   "source": [
    "## DFT + GWBSE Optimization Using CO"
   ]
  },
  {
   "cell_type": "markdown",
   "metadata": {},
   "source": [
    "## Introduction\n",
    "This tutorial explains how to perform a molecular geometric optimization using the **GWBSE** method. See [the GW Compendium: A Practical Guide to Theoretical Photoemission Spectroscopy](https://doi.org/10.3389/fchem.2019.00377), for an excellent introduction to the method."
   ]
  },
  {
   "cell_type": "markdown",
   "metadata": {},
   "source": [
    "## Requirements\n",
    "* You will need to install **VOTCA** using the instructions described [here](https://github.com/votca/votca/blob/master/share/doc/INSTALL.rst)\n",
    "* Once the installation is completed you need to activate the VOTCA enviroment by running the `VOTCARC.bash` script that has been installed at the bin subfolder for the path that you have provided for the installation step above"
   ]
  },
  {
   "cell_type": "markdown",
   "metadata": {},
   "source": [
    "## Preparing the input\n",
    "To run a DFT-GWBSE calculation we will use the [xtp_tools](https://www.votca.org/xtp/xtp_tools_overview.html) calculator."
   ]
  },
  {
   "cell_type": "markdown",
   "metadata": {},
   "source": [
    "we can now change the calculator mode from single point energy calculation to optimization as follows by adding \n",
    "`-c geometry_optimization.maxiter=1` which enables optimization with one iteration. "
   ]
  },
  {
   "cell_type": "markdown",
   "metadata": {},
   "source": [
    "Because geometry optimsation is quite expensive numerically we chose a smaller basisset and G0W0 Finally, to run the calculation we just need the following command (This still takes a while)"
   ]
  },
  {
   "cell_type": "code",
   "execution_count": 1,
   "metadata": {
    "execution": {
     "iopub.execute_input": "2022-07-29T06:21:41.961924Z",
     "iopub.status.busy": "2022-07-29T06:21:41.961501Z",
     "iopub.status.idle": "2022-07-29T06:22:37.103228Z",
     "shell.execute_reply": "2022-07-29T06:22:37.102794Z"
    }
   },
   "outputs": [
    {
     "name": "stdout",
     "output_type": "stream",
     "text": [
      "==================================================\r\n",
      "========   VOTCA (http://www.votca.org)   ========\r\n",
      "==================================================\r\n",
      "\r\n",
      "please submit bugs to https://github.com/votca/xtp/issues\r\n",
      "\r\n",
      "xtp_tools, version 2023-dev gitid: 97a4ed8 (compiled Jul 29 2022, 06:13:50)\r\n",
      "votca_csg, version 2023-dev gitid: 97a4ed8 (compiled Jul 29 2022, 05:59:28)\r\n",
      "votca_tools, version 2023-dev gitid: 97a4ed8 (compiled Jul 29 2022, 05:56:51)\r\n",
      "\r\n",
      "Initializing tool\r\n",
      "... dftgwbse Evaluating tool\r\n",
      "... dftgwbse  Using 4 threads\r\n",
      "... ... Reading structure from CO.xyz\r\n",
      "... ... Requested geometry optimization of excited state s1\r\n",
      "... ... Initial state: s1\r\n",
      "... ... WARNING: No tracker is used \r\n",
      "... ... Convergence of total energy: 0.000001 Hartree \r\n",
      "... ... Convergence of RMS Force:    0.000030 Hartree/Bohr \r\n",
      "... ... Convergence of Max Force:    0.000100 Hartree/Bohr \r\n",
      "... ... Convergence of RMS Step:     0.000600 Bohr \r\n",
      "... ... Convergence of Max Step:     0.001000 Bohr \r\n",
      "... ... Initial trust radius:        0.018897 Bohr\r\n",
      "... ... \r\n",
      "... ... =========== OPTIMIZATION SUMMARY ================================= \r\n",
      "... ... At iteration  0\r\n",
      "... ...  ---- POSITIONS (Angstrom)   \r\n",
      "... ...  Atom\t x\t  y\t  z \r\n",
      "... ...    0    +0.0000  +0.0000  +0.0000\r\n",
      "... ...    1    +1.2000  +0.0000  +0.0000\r\n",
      "... ...    Total energy:     -112.26831841 Hartree \r\n",
      "... ...    Trust radius:       0.01889726 Bohr     \r\n",
      "... ...  ---- FORCES (Hartree/Bohr)   \r\n",
      "... ...       central differences   \r\n",
      "... ...       displacement 0.0010 Angstrom   \r\n",
      "... ...  Atom\t x\t  y\t  z \r\n",
      "... ...    0    -0.1314  -0.0000  -0.0000\r\n",
      "... ...    1    +0.1314  +0.0000  +0.0000A\r\n",
      "    0.301149 -1.39336e-12  7.74053e-10 -8.94905e-10 -1.21235e-09 -1.05456e-09   -0.0519724  1.02473e-12  -5.9644e-10   -0.0141746     0.010493 -2.27606e-10    0.0390246 -0.000573076    0.0423984 -8.09038e-13 -1.52884e-10 -3.08406e-10  1.93725e-10 -4.06591e-10     0.107078   0.00205572 -6.20186e-11 -1.10595e-11          nan          nan          nan          nan          nan          nan          nan          nan          nan          nan          nan\r\n",
      "-1.39337e-12     0.301149 -1.58689e-10  3.16478e-10 -2.11542e-10 -9.06905e-11  1.02477e-12   -0.0519724  7.81115e-12    -0.010493   -0.0141746  3.45352e-12 -0.000573076   -0.0390246 -8.09021e-13    0.0423984 -2.09296e-10  3.56995e-12 -1.62187e-10  6.66441e-12   0.00205572    -0.107078 -6.00473e-11  -1.9556e-10          nan          nan          nan          nan          nan          nan          nan          nan          nan          nan          nan\r\n",
      " 7.74053e-10 -1.58689e-10     0.392134   -0.0719007     -0.11075     -0.11075 -1.74211e-10  9.04662e-11    -0.054148 -3.36197e-11   1.2049e-10   -0.0244085  1.89115e-09 -6.36614e-11  1.17931e-10 -2.97587e-11    0.0362665   -0.0109926    0.0169863   -0.0176803  7.99065e-09  4.14579e-10    0.0242112   -0.0170108          nan          nan          nan          nan          nan          nan          nan          nan          nan          nan          nan\r\n",
      "-8.94905e-10  3.16478e-10   -0.0719007     0.392134      0.11075      0.11075  2.17947e-10 -1.45395e-10     0.054148  3.42028e-11  -1.2579e-10    0.0244085 -1.91089e-09  3.81873e-11 -2.12554e-10  1.52377e-10    0.0109926   -0.0362665   -0.0176803    0.0169863 -8.07941e-09 -5.32854e-10   -0.0242112   -0.0170108          nan          nan          nan          nan          nan          nan          nan          nan          nan          nan          nan\r\n",
      "-1.21235e-09 -2.11542e-10     -0.11075      0.11075     0.459757     0.139524  2.95805e-10  1.10539e-10    0.0731465  1.44909e-10 -3.90106e-11    0.0329726 -2.58102e-09 -1.83047e-12 -2.87713e-10 -1.13387e-10    0.0167615    0.0174555   -0.0209572    -0.026302 -1.09183e-08 -1.56308e-10   0.00977745    0.0142018          nan          nan          nan          nan          nan          nan          nan          nan          nan          nan          nan\r\n",
      "-1.05456e-09 -9.06905e-11     -0.11075      0.11075     0.139524     0.459757  2.40876e-10  6.68024e-11    0.0731465  1.39609e-10 -3.95937e-11    0.0329726 -2.55554e-09 -2.15699e-11 -1.65095e-10 -1.87648e-11    0.0174555    0.0167615     0.026302    0.0209572 -1.07991e-08 -2.45865e-10   0.00977745   -0.0142018          nan          nan          nan          nan          nan          nan          nan          nan          nan          nan          nan\r\n",
      "  -0.0519724  1.02477e-12 -1.74211e-10  2.17947e-10  2.95805e-10  2.40876e-10     0.486835 -2.42565e-13  1.72843e-10    0.0109588  -0.00811246  3.80708e-11   0.00830517 -0.000121961    0.0301449  2.92646e-12 -9.06918e-11  1.00722e-10  1.26904e-10  1.34936e-10   -0.0549839   -0.0010556  4.08433e-11  1.05098e-11          nan          nan          nan          nan          nan          nan          nan          nan          nan          nan          nan\r\n",
      " 1.02473e-12   -0.0519724  9.04662e-11 -1.45395e-10  1.10539e-10  6.68024e-11 -2.42568e-13     0.486835  6.69437e-13   0.00811246    0.0109588  3.73723e-13 -0.000121961  -0.00830517  2.92647e-12    0.0301449  2.69253e-10  7.41238e-12  2.00992e-10 -9.57791e-12   -0.0010556    0.0549839 -2.31777e-10  1.49529e-10          nan          nan          nan          nan          nan          nan          nan          nan          nan          nan          nan\r\n",
      " -5.9644e-10  7.81115e-12    -0.054148     0.054148    0.0731465    0.0731465  1.72843e-10  6.69437e-13     0.659928  2.69438e-10 -2.05494e-10  -0.00518518 -7.77549e-10  4.31099e-12 -1.32472e-10  3.17308e-13   0.00289474   0.00289474  -0.00379265   0.00379265  -5.2483e-09  -1.6989e-10  -0.00258672 -4.33489e-11          nan          nan          nan          nan          nan          nan          nan          nan          nan          nan          nan\r\n",
      "  -0.0141746    -0.010493 -3.36197e-11  3.42028e-11  1.44909e-10  1.39609e-10    0.0109588   0.00811246  2.69438e-10     0.668107  7.26921e-13 -7.86644e-11  1.34455e-05 -1.02623e-05  -0.00728197  -0.00539061 -2.58634e-11 -3.27157e-11  1.08809e-09  -4.3551e-11   -0.0334021    0.0237477 -8.02351e-10  8.70645e-10          nan          nan          nan          nan          nan          nan          nan          nan          nan          nan          nan\r\n",
      "    0.010493   -0.0141746   1.2049e-10  -1.2579e-10 -3.90106e-11 -3.95937e-11  -0.00811246    0.0109588 -2.05494e-10  7.26976e-13     0.668107  5.93258e-11 -1.02623e-05 -1.34455e-05   0.00539061  -0.00728197  1.07322e-09  2.86881e-11 -2.52129e-11  1.83607e-11    0.0237477    0.0334021 -1.12695e-09   9.9099e-10          nan          nan          nan          nan          nan          nan          nan          nan          nan          nan          nan\r\n",
      "-2.27606e-10  3.45352e-12   -0.0244085    0.0244085    0.0329726    0.0329726  3.80708e-11  3.73723e-13  -0.00518518 -7.86644e-11  5.93258e-11     0.793012 -5.00993e-10   3.7023e-12 -7.51913e-11  8.98707e-13   0.00928536   0.00928536   -0.0121656    0.0121656 -2.00007e-09 -6.66159e-11  -0.00105643 -1.77223e-11          nan          nan          nan          nan          nan          nan          nan          nan          nan          nan          nan\r\n",
      "   0.0390246 -0.000573076  1.89115e-09 -1.91089e-09 -2.58102e-09 -2.55554e-09   0.00830517 -0.000121961 -7.77549e-10  1.34455e-05 -1.02623e-05 -5.00993e-10     0.954263  -3.9969e-13   -0.0128737   0.00018905 -1.22316e-09 -1.11592e-09  1.60308e-09 -1.46181e-09   -0.0198849 -0.000673955  1.21132e-10  2.81812e-12          nan          nan          nan          nan          nan          nan          nan          nan          nan          nan          nan\r\n",
      "-0.000573076   -0.0390246 -6.36614e-11  3.81873e-11 -1.83047e-12 -2.15699e-11 -0.000121961  -0.00830517  4.31099e-12 -1.02623e-05 -1.34455e-05   3.7023e-12  -3.9969e-13     0.954263   0.00018905    0.0128737 -5.53883e-11  8.58794e-11 -5.70216e-11 -5.02178e-11  0.000673955   -0.0198849 -3.53228e-11 -4.96452e-11          nan          nan          nan          nan          nan          nan          nan          nan          nan          nan          nan\r\n",
      "   0.0423984 -8.09021e-13  1.17931e-10 -2.12554e-10 -2.87713e-10 -1.65095e-10    0.0301449  2.92646e-12 -1.32472e-10  -0.00728197   0.00539061 -7.51913e-11   -0.0128737   0.00018905     0.973645  1.58475e-12 -1.18564e-10 -3.31974e-11  1.59817e-10 -4.17155e-11    0.0229463   0.00044053 -1.76659e-11  1.57815e-11          nan          nan          nan          nan          nan          nan          nan          nan          nan          nan          nan\r\n",
      "-8.09039e-13    0.0423984 -2.97587e-11  1.52377e-10 -1.13387e-10 -1.87648e-11  2.92645e-12    0.0301449  3.17308e-13  -0.00539061  -0.00728197  8.98707e-13   0.00018905    0.0128737  1.58475e-12     0.973645  1.25985e-10  7.88347e-12  9.26841e-11 -7.31765e-12   0.00044053   -0.0229463 -5.37779e-10   1.6802e-10          nan          nan          nan          nan          nan          nan          nan          nan          nan          nan          nan\r\n",
      "-1.52884e-10 -2.09296e-10    0.0362665    0.0109926    0.0167615    0.0174555 -9.06918e-11  2.69253e-10   0.00289474 -2.58634e-11  1.07322e-09   0.00928536 -1.22316e-09 -5.53883e-11 -1.18564e-10  1.25985e-10      1.03698    0.0178074    -0.020599     0.020599 -1.52927e-09  1.56946e-11    0.0029948  -0.00017449          nan          nan          nan          nan          nan          nan          nan          nan          nan          nan          nan\r\n",
      "-3.08406e-10  3.56995e-12   -0.0109926   -0.0362665    0.0174555    0.0167615  1.00722e-10  7.41238e-12   0.00289474 -3.27157e-11  2.86881e-11   0.00928536 -1.11592e-09  8.58794e-11 -3.31974e-11  7.88347e-12    0.0178074      1.03698    -0.020599     0.020599 -1.57926e-09 -5.48632e-11    0.0029948   0.00017449          nan          nan          nan          nan          nan          nan          nan          nan          nan          nan          nan\r\n",
      " 1.93725e-10 -1.62187e-10    0.0169863   -0.0176803   -0.0209572     0.026302  1.26904e-10  2.00992e-10  -0.00379265  1.08809e-09 -2.52129e-11   -0.0121656  1.60308e-09 -5.70216e-11  1.59817e-10  9.26841e-11    -0.020599    -0.020599      1.04824   -0.0290738  1.99748e-09  1.11695e-10   0.00433036 -0.000203812          nan          nan          nan          nan          nan          nan          nan          nan          nan          nan          nan\r\n",
      "-4.06591e-10  6.66441e-12   -0.0176803    0.0169863    -0.026302    0.0209572  1.34936e-10 -9.57791e-12   0.00379265  -4.3551e-11  1.83607e-11    0.0121656 -1.46181e-09 -5.02178e-11 -4.17155e-11 -7.31765e-12     0.020599     0.020599   -0.0290738      1.04824 -2.06803e-09 -6.17401e-11  -0.00433036 -0.000203812          nan          nan          nan          nan          nan          nan          nan          nan          nan          nan          nan\r\n",
      "  -0.0745723  -0.00143166 -5.46017e-09  5.47954e-09  7.40268e-09  7.37877e-09    0.0700165    0.0013442  4.11096e-09    0.0247762    -0.017615  1.74817e-09    0.0091932 -0.000311583   -0.0362821 -0.000696555  1.23818e-09  1.26638e-09 -1.61613e-09  1.65686e-09    -0.195058 -8.52406e-12 -3.75447e-10 -2.25442e-10          nan          nan          nan          nan          nan          nan          nan          nan          nan          nan          nan\r\n",
      " -0.00143166    0.0745723 -4.32697e-10  4.56365e-10  3.32616e-11  5.26951e-11    0.0013442   -0.0700165  1.31645e-10    -0.017615   -0.0247762  5.68836e-11  0.000311583    0.0091932 -0.000696555    0.0362821 -4.21727e-11 -1.64453e-12 -1.14006e-10  8.56086e-11 -8.52409e-12    -0.195058 -6.16327e-09  2.03198e-09          nan          nan          nan          nan          nan          nan          nan          nan          nan          nan          nan\r\n",
      "  1.1848e-11  8.01674e-10   0.00560095  -0.00560095    0.0181761    0.0181761 -5.76624e-11 -6.99881e-10   0.00445868  -1.1416e-09 -1.47717e-09   0.00191519 -1.45268e-10  1.20259e-10  1.85535e-11  3.41312e-11    0.0056311    0.0056311   0.00304133  -0.00304133 -8.35147e-10 -6.32063e-09      1.05404 -7.36631e-12          nan          nan          nan          nan          nan          nan          nan          nan          nan          nan          nan\r\n",
      "-3.44199e-11 -3.58207e-10   0.00500086   0.00500086  -0.00391551   0.00391551  3.89195e-11  4.18831e-10  3.13794e-11  8.41404e-10  9.46737e-10  1.24128e-11  9.46598e-12 -1.53284e-10  1.74189e-11  2.38782e-10  -0.00357878   0.00357878  -0.00291644  -0.00291644 -2.45346e-10  2.23012e-09 -2.45971e-12     0.109581          nan          nan          nan          nan          nan          nan          nan          nan          nan          nan          nan\r\n",
      "        -nan         -nan         -nan         -nan         -nan         -nan         -nan         -nan         -nan         -nan         -nan         -nan         -nan         -nan         -nan         -nan         -nan         -nan         -nan         -nan         -nan         -nan         -nan         -nan         -nan         -nan         -nan         -nan         -nan         -nan         -nan         -nan         -nan         -nan         -nan\r\n",
      "        -nan         -nan         -nan         -nan         -nan         -nan         -nan         -nan         -nan         -nan         -nan         -nan         -nan         -nan         -nan         -nan         -nan         -nan         -nan         -nan         -nan         -nan         -nan         -nan         -nan         -nan         -nan         -nan         -nan         -nan         -nan         -nan         -nan         -nan         -nan\r\n",
      "        -nan         -nan         -nan         -nan         -nan         -nan         -nan         -nan         -nan         -nan         -nan         -nan         -nan         -nan         -nan         -nan         -nan         -nan         -nan         -nan         -nan         -nan         -nan         -nan          nan          nan          nan          nan          nan          nan          nan          nan          nan          nan          nan\r\n",
      "        -nan         -nan         -nan         -nan         -nan         -nan         -nan         -nan         -nan         -nan         -nan         -nan         -nan         -nan         -nan         -nan         -nan         -nan         -nan         -nan         -nan         -nan         -nan         -nan          nan          nan          nan          nan          nan          nan          nan          nan          nan          nan          nan\r\n",
      "        -nan         -nan         -nan         -nan         -nan         -nan         -nan         -nan         -nan         -nan         -nan         -nan         -nan         -nan         -nan         -nan         -nan         -nan         -nan         -nan         -nan         -nan         -nan         -nan         -nan         -nan         -nan         -nan         -nan         -nan         -nan         -nan         -nan         -nan         -nan\r\n",
      "        -nan         -nan         -nan         -nan         -nan         -nan         -nan         -nan         -nan         -nan         -nan         -nan         -nan         -nan         -nan         -nan         -nan         -nan         -nan         -nan         -nan         -nan         -nan         -nan         -nan         -nan         -nan         -nan         -nan         -nan         -nan         -nan         -nan         -nan         -nan\r\n",
      "        -nan         -nan         -nan         -nan         -nan         -nan         -nan         -nan         -nan         -nan         -nan         -nan         -nan         -nan         -nan         -nan         -nan         -nan         -nan         -nan         -nan         -nan         -nan         -nan          nan          nan          nan          nan          nan          nan          nan          nan          nan          nan          nan\r\n",
      "        -nan         -nan         -nan         -nan         -nan         -nan         -nan         -nan         -nan         -nan         -nan         -nan         -nan         -nan         -nan         -nan         -nan         -nan         -nan         -nan         -nan         -nan         -nan         -nan          nan          nan          nan          nan          nan          nan          nan          nan          nan          nan          nan\r\n",
      "        -nan         -nan         -nan         -nan         -nan         -nan         -nan         -nan         -nan         -nan         -nan         -nan         -nan         -nan         -nan         -nan         -nan         -nan         -nan         -nan         -nan         -nan         -nan         -nan          nan          nan          nan         -nan          nan          nan          nan         -nan          nan          nan          nan\r\n",
      "        -nan         -nan         -nan         -nan         -nan         -nan         -nan         -nan         -nan         -nan         -nan         -nan         -nan         -nan         -nan         -nan         -nan         -nan         -nan         -nan         -nan         -nan         -nan         -nan          nan          nan          nan         -nan          nan          nan          nan         -nan          nan          nan          nan\r\n",
      "        -nan         -nan         -nan         -nan         -nan         -nan         -nan         -nan         -nan         -nan         -nan         -nan         -nan         -nan         -nan         -nan         -nan         -nan         -nan         -nan         -nan         -nan         -nan         -nan         -nan         -nan         -nan         -nan         -nan         -nan         -nan         -nan         -nan         -nan         -nan\r\n",
      "B\r\n",
      "   0.0903883 -6.21505e-13  2.84659e-10 -3.61332e-10 -4.89808e-10 -3.89679e-10   -0.0326152  6.28482e-13 -3.69431e-10   -0.0119065   0.00881398 -1.51549e-10    0.0481023 -0.000706381    0.0477611 -9.28597e-13 -1.01377e-10 -3.11192e-10  1.23654e-10 -4.10892e-10     0.024424  0.000468899   -4.346e-11 -4.09849e-11         -nan         -nan         -nan         -nan         -nan         -nan         -nan         -nan         -nan         -nan         -nan\r\n",
      " -6.2151e-13    0.0903883 -7.73904e-11  1.77519e-10  -1.2298e-10 -4.63065e-11  6.28523e-13   -0.0326152  4.83785e-12  -0.00881398   -0.0119065  2.34264e-12 -0.000706381   -0.0481023 -9.28573e-13    0.0477611 -2.96526e-10  -9.2885e-12 -2.26797e-10  1.69819e-11  0.000468899    -0.024424  7.66359e-10 -4.92861e-10         -nan         -nan         -nan         -nan         -nan         -nan         -nan         -nan         -nan         -nan         -nan\r\n",
      " 2.84659e-10 -7.73904e-11     0.139327   -0.0344926   -0.0540604   -0.0540604 -8.40067e-11  6.18325e-11   -0.0389013 -2.41984e-11  1.02106e-10   -0.0189884  2.03793e-09 -7.10466e-11  9.94071e-11 -3.05849e-11    0.0545008  -0.00907117    0.0148601   -0.0157936  4.07455e-10 -8.61406e-11    0.0315241   -0.0120532         -nan         -nan         -nan         -nan         -nan         -nan         -nan         -nan         -nan         -nan         -nan\r\n",
      "-3.61332e-10  1.77519e-10   -0.0344926     0.139327    0.0540604    0.0540604  1.18882e-10 -1.05936e-10    0.0389013  2.47705e-11 -1.08583e-10    0.0189884 -2.06714e-09  3.34091e-11 -2.20745e-10  1.87995e-10   0.00907117   -0.0545008   -0.0157936    0.0148601 -4.78392e-10 -1.05672e-11   -0.0315241   -0.0120532         -nan         -nan         -nan         -nan         -nan         -nan         -nan         -nan         -nan         -nan         -nan\r\n",
      "-4.89808e-10  -1.2298e-10   -0.0540604    0.0540604     0.172336    0.0675016  1.61551e-10  8.08789e-11    0.0525503  1.22664e-10 -2.83352e-11    0.0256507 -2.79179e-09  3.21612e-12 -2.98784e-10  -1.4084e-10    0.0143209    0.0152544   -0.0177838   -0.0457882 -6.50251e-10 -3.59046e-11     0.028974    0.0103123         -nan         -nan         -nan         -nan         -nan         -nan         -nan         -nan         -nan         -nan         -nan\r\n",
      "-3.89679e-10 -4.63065e-11   -0.0540604    0.0540604    0.0675016     0.172336  1.17447e-10   4.6003e-11    0.0525503  1.16187e-10 -2.89073e-11    0.0256507 -2.75415e-09 -2.59907e-11 -1.41373e-10 -1.95022e-11    0.0152544    0.0143209    0.0457882    0.0177838 -5.52884e-10 -1.07531e-10     0.028974   -0.0103123         -nan         -nan         -nan         -nan         -nan         -nan         -nan         -nan         -nan         -nan         -nan\r\n",
      "  -0.0326152   6.2852e-13 -8.40067e-11  1.18882e-10  1.61551e-10  1.17447e-10     0.236624 -1.35823e-13  1.31186e-10    0.0115592  -0.00855688  2.26187e-11   0.00949836 -0.000139483    0.0424653  4.01664e-12 -1.62679e-10  1.22787e-10  2.25325e-10  1.65313e-10   0.00359498  6.90176e-05 -5.89145e-12  4.02624e-11         -nan         -nan         -nan         -nan         -nan         -nan         -nan         -nan         -nan         -nan         -nan\r\n",
      " 6.28486e-13   -0.0326152  6.18325e-11 -1.05936e-10  8.08789e-11   4.6003e-11 -1.35824e-13     0.236624  8.21509e-13   0.00855688    0.0115592   4.8753e-13 -0.000139483  -0.00949836  4.01665e-12    0.0424653  4.03782e-10  1.31436e-11   3.0125e-10 -1.57849e-11  6.90176e-05  -0.00359498 -8.19974e-10   4.6679e-10         -nan         -nan         -nan         -nan         -nan         -nan         -nan         -nan         -nan         -nan         -nan\r\n",
      "-3.69431e-10  4.83785e-12   -0.0389013    0.0389013    0.0525503    0.0525503  1.31186e-10  8.21509e-13     0.424108   3.2984e-10  -2.5127e-10   -0.0112617 -9.33327e-10  4.69655e-12 -1.79934e-10  4.19702e-13  0.000393906  0.000393906  -0.00051609   0.00051609 -1.09664e-09 -3.92384e-11   0.00123309 -1.22108e-11         -nan         -nan         -nan         -nan         -nan         -nan         -nan         -nan         -nan         -nan         -nan\r\n",
      "  -0.0119065  -0.00881398 -2.41984e-11  2.47705e-11  1.22664e-10  1.16187e-10    0.0115592   0.00855688   3.2984e-10     0.446812  9.56628e-13 -1.12027e-10  -0.00038486  0.000293744  -0.00867681  -0.00642316 -4.67488e-11 -5.81609e-11  1.82481e-09 -7.93614e-11   -0.0144769    0.0102926  -1.7734e-09  1.54771e-09         -nan         -nan         -nan         -nan         -nan         -nan         -nan         -nan         -nan         -nan         -nan\r\n",
      "  0.00881398   -0.0119065  1.02106e-10 -1.08583e-10 -2.83352e-11 -2.89073e-11  -0.00855688    0.0115592  -2.5127e-10  9.56715e-13     0.446812  8.47205e-11  0.000293744   0.00038486   0.00642316  -0.00867681  1.79822e-09  5.27695e-11 -4.58824e-11  3.44703e-11    0.0102926    0.0144769 -2.38691e-09   1.7525e-09         -nan         -nan         -nan         -nan         -nan         -nan         -nan         -nan         -nan         -nan         -nan\r\n",
      "-1.51549e-10  2.34264e-12   -0.0189884    0.0189884    0.0256507    0.0256507  2.26187e-11   4.8753e-13   -0.0112617 -1.12027e-10  8.47205e-11     0.627074 -6.51482e-10  4.85964e-12 -1.03755e-10  1.33737e-12    0.0133024    0.0133024   -0.0174286    0.0174286 -2.10837e-10 -1.01093e-11  0.000508762 -4.98424e-12         -nan         -nan         -nan         -nan         -nan         -nan         -nan         -nan         -nan         -nan         -nan\r\n",
      "   0.0481023 -0.000706381  2.03793e-09 -2.06714e-09 -2.79179e-09 -2.75415e-09   0.00949836 -0.000139483 -9.33327e-10  -0.00038486  0.000293744 -6.51482e-10     0.912954 -7.12997e-13   -0.0215514  0.000316482 -2.19732e-09 -1.97992e-09  2.87986e-09 -2.59345e-09   -0.0227031 -0.000769472  5.44493e-11  1.58986e-11         -nan         -nan         -nan         -nan         -nan         -nan         -nan         -nan         -nan         -nan         -nan\r\n",
      "-0.000706381   -0.0481023 -7.10466e-11  3.34091e-11  3.21612e-12 -2.59907e-11 -0.000139483  -0.00949836  4.69655e-12  0.000293744   0.00038486  4.85964e-12 -7.12999e-13     0.912954  0.000316482    0.0215514 -1.18944e-10  1.67467e-10 -1.16765e-10 -1.00636e-10  0.000769472   -0.0227031  1.06639e-10 -2.57025e-10         -nan         -nan         -nan         -nan         -nan         -nan         -nan         -nan         -nan         -nan         -nan\r\n",
      "   0.0477611 -9.28574e-13  9.94071e-11 -2.20745e-10 -2.98784e-10 -1.41373e-10    0.0424653  4.01664e-12 -1.79934e-10  -0.00867681   0.00642316 -1.03755e-10   -0.0215514  0.000316482     0.952112  3.01087e-12    -1.95e-10 -5.08322e-11  2.62987e-10 -6.34149e-11  -0.00321146 -6.16546e-05 -2.51357e-12  2.44797e-11         -nan         -nan         -nan         -nan         -nan         -nan         -nan         -nan         -nan         -nan         -nan\r\n",
      "  -9.286e-13    0.0477611 -3.05849e-11  1.87995e-10  -1.4084e-10 -1.95022e-11  4.01664e-12    0.0424653  4.19702e-13  -0.00642316  -0.00867681  1.33737e-12  0.000316482    0.0215514  3.01087e-12     0.952112  2.08738e-10  9.16577e-12  1.53503e-10 -9.33539e-12 -6.16546e-05   0.00321146 -4.75976e-10  3.00373e-10         -nan         -nan         -nan         -nan         -nan         -nan         -nan         -nan         -nan         -nan         -nan\r\n",
      "-1.01377e-10 -2.96526e-10    0.0545008   0.00907117    0.0143209    0.0152544 -1.62679e-10  4.03782e-10  0.000393906 -4.67488e-11  1.79822e-09    0.0133024 -2.19732e-09 -1.18944e-10    -1.95e-10  2.08738e-10      1.07454     0.033575   -0.0382256    0.0382256 -4.70664e-10  1.00723e-10    0.0123125   -0.0051195         -nan         -nan         -nan         -nan         -nan         -nan         -nan         -nan         -nan         -nan         -nan\r\n",
      "-3.11192e-10  -9.2885e-12  -0.00907117   -0.0545008    0.0152544    0.0143209  1.22787e-10  1.31436e-11  0.000393906 -5.81609e-11  5.27695e-11    0.0133024 -1.97992e-09  1.67467e-10 -5.08322e-11  9.16577e-12     0.033575      1.07454   -0.0382256    0.0382256 -5.93343e-10 -7.27981e-11    0.0123125    0.0051195         -nan         -nan         -nan         -nan         -nan         -nan         -nan         -nan         -nan         -nan         -nan\r\n",
      " 1.23654e-10 -2.26797e-10    0.0148601   -0.0157936   -0.0177838    0.0457882  2.25325e-10   3.0125e-10  -0.00051609  1.82481e-09 -4.58824e-11   -0.0174286  2.87986e-09 -1.16765e-10  2.62987e-10  1.53503e-10   -0.0382256   -0.0382256      1.09545    -0.054482  6.05767e-10  1.05883e-10    0.0113387  -0.00428055         -nan         -nan         -nan         -nan         -nan         -nan         -nan         -nan         -nan         -nan         -nan\r\n",
      "-4.10892e-10  1.69819e-11   -0.0157936    0.0148601   -0.0457882    0.0177838  1.65313e-10 -1.57849e-11   0.00051609 -7.93614e-11  3.44703e-11    0.0174286 -2.59345e-09 -1.00636e-10 -6.34149e-11 -9.33539e-12    0.0382256    0.0382256    -0.054482      1.09545 -7.78984e-10   1.6456e-11   -0.0113387  -0.00428055         -nan         -nan         -nan         -nan         -nan         -nan         -nan         -nan         -nan         -nan         -nan\r\n",
      "   0.0559711   0.00107455  3.91851e-09 -3.98635e-09 -5.39232e-09 -5.29967e-09   0.00259782  4.98738e-05 -1.12616e-09  -0.00899089   0.00639221 -2.79972e-10   -0.0177728  0.000602371   -0.0179748 -0.000345085  5.51409e-11  7.77594e-11 -6.31832e-11  9.79128e-11     0.583856 -9.31318e-12 -2.82687e-10 -1.93518e-10         -nan         -nan         -nan         -nan         -nan         -nan         -nan         -nan         -nan         -nan         -nan\r\n",
      "  0.00107455   -0.0559711  8.48611e-11 -1.76666e-10 -1.32572e-10 -2.01293e-10  4.98738e-05  -0.00259782 -3.51047e-11   0.00639221   0.00899089 -8.92912e-12 -0.000602371   -0.0177728 -0.000345085    0.0179748 -1.41197e-10 -1.06796e-10 -1.14463e-10  9.15028e-11  -9.3132e-12     0.583856 -4.58209e-09  1.88847e-09         -nan         -nan         -nan         -nan         -nan         -nan         -nan         -nan         -nan         -nan         -nan\r\n",
      " -6.7801e-11  4.39597e-10    0.0321383   -0.0321383    0.0289419    0.0289419 -3.56162e-12 -8.79381e-10   0.00259869 -1.63484e-09  -2.1978e-09   0.00132883 -9.42041e-11    7.034e-11 -4.83257e-12  -6.0495e-10     0.013711     0.013711    0.0109642   -0.0109642 -7.76629e-10 -5.08504e-09       2.1166 -1.09148e-11         -nan         -nan         -nan         -nan         -nan         -nan         -nan         -nan         -nan         -nan         -nan\r\n",
      "-3.61642e-11 -4.56661e-10   -0.0137429   -0.0137429    0.0117816   -0.0117816  3.66212e-11  4.29251e-10  -8.7068e-12  1.54482e-09  1.74736e-09 -3.18722e-12  1.63743e-11  -2.7769e-10  2.48672e-11  3.25954e-10  -0.00602727   0.00602727  -0.00498622  -0.00498622 -2.42693e-10   2.3597e-09 -5.60557e-12     0.792885         -nan         -nan         -nan         -nan         -nan         -nan         -nan         -nan         -nan         -nan         -nan\r\n",
      "        -nan         -nan         -nan         -nan         -nan         -nan         -nan         -nan         -nan         -nan         -nan         -nan         -nan         -nan         -nan         -nan         -nan         -nan         -nan         -nan         -nan         -nan         -nan         -nan         -nan         -nan         -nan         -nan         -nan         -nan         -nan         -nan         -nan         -nan         -nan\r\n",
      "        -nan         -nan         -nan         -nan         -nan         -nan         -nan         -nan         -nan         -nan         -nan         -nan         -nan         -nan         -nan         -nan         -nan         -nan         -nan         -nan         -nan         -nan         -nan         -nan         -nan         -nan         -nan         -nan         -nan         -nan         -nan         -nan         -nan         -nan         -nan\r\n",
      "        -nan         -nan         -nan         -nan         -nan         -nan         -nan         -nan         -nan         -nan         -nan         -nan         -nan         -nan         -nan         -nan         -nan         -nan         -nan         -nan         -nan         -nan         -nan         -nan         -nan         -nan         -nan         -nan         -nan         -nan         -nan         -nan         -nan         -nan         -nan\r\n",
      "        -nan         -nan         -nan         -nan         -nan         -nan         -nan         -nan         -nan         -nan         -nan         -nan         -nan         -nan         -nan         -nan         -nan         -nan         -nan         -nan         -nan         -nan         -nan         -nan         -nan         -nan         -nan         -nan         -nan         -nan         -nan         -nan         -nan         -nan         -nan\r\n",
      "        -nan         -nan         -nan         -nan         -nan         -nan         -nan         -nan         -nan         -nan         -nan         -nan         -nan         -nan         -nan         -nan         -nan         -nan         -nan         -nan         -nan         -nan         -nan         -nan         -nan         -nan         -nan         -nan         -nan         -nan         -nan         -nan         -nan         -nan         -nan\r\n",
      "        -nan         -nan         -nan         -nan         -nan         -nan         -nan         -nan         -nan         -nan         -nan         -nan         -nan         -nan         -nan         -nan         -nan         -nan         -nan         -nan         -nan         -nan         -nan         -nan         -nan         -nan         -nan         -nan         -nan         -nan         -nan         -nan         -nan         -nan         -nan\r\n",
      "        -nan         -nan         -nan         -nan         -nan         -nan         -nan         -nan         -nan         -nan         -nan         -nan         -nan         -nan         -nan         -nan         -nan         -nan         -nan         -nan         -nan         -nan         -nan         -nan         -nan         -nan         -nan         -nan         -nan         -nan         -nan         -nan         -nan         -nan         -nan\r\n",
      "        -nan         -nan         -nan         -nan         -nan         -nan         -nan         -nan         -nan         -nan         -nan         -nan         -nan         -nan         -nan         -nan         -nan         -nan         -nan         -nan         -nan         -nan         -nan         -nan         -nan         -nan         -nan         -nan         -nan         -nan         -nan         -nan         -nan         -nan         -nan\r\n",
      "        -nan         -nan         -nan         -nan         -nan         -nan         -nan         -nan         -nan         -nan         -nan         -nan         -nan         -nan         -nan         -nan         -nan         -nan         -nan         -nan         -nan         -nan         -nan         -nan         -nan         -nan         -nan         -nan         -nan         -nan         -nan         -nan         -nan         -nan         -nan\r\n",
      "        -nan         -nan         -nan         -nan         -nan         -nan         -nan         -nan         -nan         -nan         -nan         -nan         -nan         -nan         -nan         -nan         -nan         -nan         -nan         -nan         -nan         -nan         -nan         -nan         -nan         -nan         -nan         -nan         -nan         -nan         -nan         -nan         -nan         -nan         -nan\r\n",
      "        -nan         -nan         -nan         -nan         -nan         -nan         -nan         -nan         -nan         -nan         -nan         -nan         -nan         -nan         -nan         -nan         -nan         -nan         -nan         -nan         -nan         -nan         -nan         -nan          nan          nan          nan          nan          nan          nan          nan          nan          nan          nan          nan\r\n",
      "an error occurred:\r\n",
      "Small generalized eigenvalue problem failed.\r\n"
     ]
    }
   ],
   "source": [
    "!xtp_tools -c job_name=CO geometry_optimization.maxiter=1 dftpackage.basisset=3-21G dftpackage.auxbasisset=aux-def2-svp gwbse.gw.mode=G0W0 -e dftgwbse -t 4"
   ]
  },
  {
   "cell_type": "markdown",
   "metadata": {},
   "source": [
    "Notice that we are using 4 threads. The results will be stored in a file named `CO_summary.xml` in the current work directory, together with the optimization step in `optimisation.trj` and the orbitals in [hdf5 format](https://www.hdfgroup.org/solutions/hdf5/) saved on `CO.orb`."
   ]
  }
 ],
 "metadata": {
  "kernelspec": {
   "display_name": "Python 3",
   "language": "python",
   "name": "python3"
  },
  "language_info": {
   "codemirror_mode": {
    "name": "ipython",
    "version": 3
   },
   "file_extension": ".py",
   "mimetype": "text/x-python",
   "name": "python",
   "nbconvert_exporter": "python",
   "pygments_lexer": "ipython3",
   "version": "3.10.5"
  }
 },
 "nbformat": 4,
 "nbformat_minor": 4
}
