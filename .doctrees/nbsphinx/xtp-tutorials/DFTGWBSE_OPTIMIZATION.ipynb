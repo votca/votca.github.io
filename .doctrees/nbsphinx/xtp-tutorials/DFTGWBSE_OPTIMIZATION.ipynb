{
 "cells": [
  {
   "cell_type": "markdown",
   "metadata": {},
   "source": [
    "## DFT + GWBSE Optimization Using CO"
   ]
  },
  {
   "cell_type": "markdown",
   "metadata": {},
   "source": [
    "## Introduction\n",
    "This tutorial explains how to perform a molecular geometric optimization using the **GWBSE** method. See [the GW Compendium: A Practical Guide to Theoretical Photoemission Spectroscopy](https://doi.org/10.3389/fchem.2019.00377), for an excellent introduction to the method."
   ]
  },
  {
   "cell_type": "markdown",
   "metadata": {},
   "source": [
    "## Requirements\n",
    "* You will need to install **VOTCA** using the instructions described [here](https://github.com/votca/votca/blob/master/share/doc/INSTALL.rst)\n",
    "* Once the installation is completed you need to activate the VOTCA enviroment by running the `VOTCARC.bash` script that has been installed at the bin subfolder for the path that you have provided for the installation step above"
   ]
  },
  {
   "cell_type": "markdown",
   "metadata": {},
   "source": [
    "## Preparing the input\n",
    "To run a DFT-GWBSE calculation we will use the [xtp_tools](https://www.votca.org/xtp/xtp_tools_overview.html) calculator."
   ]
  },
  {
   "cell_type": "markdown",
   "metadata": {},
   "source": [
    "we can now change the calculator mode from single point energy calculation to optimization as follows by adding \n",
    "`-c geometry_optimization.maxiter=1` which enables optimization with one iteration. "
   ]
  },
  {
   "cell_type": "markdown",
   "metadata": {},
   "source": [
    "Because geometry optimsation is quite expensive numerically we chose a smaller basisset and G0W0 Finally, to run the calculation we just need the following command (This still takes a while)"
   ]
  },
  {
   "cell_type": "code",
   "execution_count": 1,
   "metadata": {
    "execution": {
     "iopub.execute_input": "2022-01-14T15:07:29.588142Z",
     "iopub.status.busy": "2022-01-14T15:07:29.587567Z",
     "iopub.status.idle": "2022-01-14T15:07:46.127427Z",
     "shell.execute_reply": "2022-01-14T15:07:46.126862Z"
    }
   },
   "outputs": [
    {
     "name": "stdout",
     "output_type": "stream",
     "text": [
      "==================================================\r\n",
      "========   VOTCA (http://www.votca.org)   ========\r\n",
      "==================================================\r\n",
      "\r\n",
      "please submit bugs to https://github.com/votca/xtp/issues\r\n",
      "\r\n",
      "xtp_tools, version 2022-dev gitid: d54c5af (compiled Jan 14 2022, 14:59:42)\r\n",
      "votca_csg, version 2022-dev gitid: d54c5af (compiled Jan 14 2022, 14:46:45)\r\n",
      "votca_tools, version 2022-dev gitid: d54c5af (compiled Jan 14 2022, 14:44:25)\r\n",
      "\r\n",
      "Initializing tool\r\n",
      "... dftgwbse Evaluating tool\r\n",
      "... dftgwbse  Using 4 threads\r\n",
      "... ... Reading structure from CO.xyz\r\n",
      "... ... Requested geometry optimization of excited state s1\r\n",
      "... ... Initial state: s1\r\n",
      "... ... WARNING: No tracker is used \r\n",
      "... ... Convergence of total energy: 0.000001 Hartree \r\n",
      "... ... Convergence of RMS Force:    0.000030 Hartree/Bohr \r\n",
      "... ... Convergence of Max Force:    0.000100 Hartree/Bohr \r\n",
      "... ... Convergence of RMS Step:     0.000600 Bohr \r\n",
      "... ... Convergence of Max Step:     0.001000 Bohr \r\n",
      "... ... Initial trust radius:        0.018897 BohrA\r\n",
      "    0.307132 -3.10998e-11  4.46852e-11 -2.30848e-10   2.3561e-11   -0.0516061  8.55429e-10  7.78903e-10 -3.22586e-10    0.0181637  -0.00105912 -7.14957e-11    0.0103622    0.0375728 -2.03199e-11    0.0421019 -2.33137e-10  1.30805e-10 -3.01337e-10 -1.07082e-10  0.000481206    -0.108408 -1.28149e-10          nan          nan          nan          nan          nan          nan          nan          nan          nan          nan          nan          nan\r\n",
      "-3.10998e-11     0.307132 -1.47158e-10  7.06322e-11   -0.0516061  2.35609e-11    9.004e-10  1.08656e-09 -1.97461e-10   0.00105912    0.0181637 -2.25171e-10    0.0375728   -0.0103622    0.0421019 -2.03199e-11 -1.94154e-11   2.1367e-10  -9.7333e-11  4.99885e-12    -0.108408 -0.000481205 -1.35102e-11          nan          nan          nan          nan          nan          nan          nan          nan          nan          nan          nan          nan\r\n",
      " 4.46852e-11 -1.47158e-10      0.32063   0.00926419  1.56604e-10  1.02939e-10    0.0133943    0.0133943  -0.00499503 -5.81916e-11 -1.46028e-11  -0.00212804 -8.95256e-11  1.83603e-10 -1.71731e-10 -2.08796e-11    0.0470555  -0.00128379  -0.00258842   -0.0152118  1.82055e-10 -3.06122e-10   -0.0254907          nan          nan          nan          nan          nan          nan          nan          nan          nan          nan          nan          nan\r\n",
      "-2.30848e-10  7.06322e-11   0.00926419      0.32063  -1.6995e-10  3.24002e-10   -0.0133943   -0.0133943   0.00499503 -5.01126e-11  6.87263e-11   0.00212804  7.31457e-11 -1.45151e-10  6.91081e-11 -1.85901e-10  -0.00128379    0.0470555    0.0152118   0.00258842 -1.68597e-10  7.90463e-10    0.0254907          nan          nan          nan          nan          nan          nan          nan          nan          nan          nan          nan          nan\r\n",
      "  2.3561e-11   -0.0516061  1.56604e-10  -1.6995e-10     0.490902 -2.90327e-12   1.8008e-09  1.37386e-09 -8.20708e-10 -0.000783698   -0.0134403 -1.98449e-10   0.00770617  -0.00212528    0.0309987  6.71252e-11 -6.52864e-11 -1.89578e-10 -1.33928e-10 -2.73756e-10    0.0531267  0.000235821  1.67523e-10          nan          nan          nan          nan          nan          nan          nan          nan          nan          nan          nan          nan\r\n",
      "  -0.0516061   2.3561e-11  1.02939e-10  3.24002e-10 -2.90325e-12     0.490902 -2.54775e-10  -2.6812e-10  1.55127e-10   -0.0134403  0.000783698  1.93045e-11   0.00212528   0.00770617  6.71251e-11    0.0309987  1.90958e-10 -5.11299e-11  9.18459e-11 -1.63018e-10 -0.000235821    0.0531267  2.48324e-10          nan          nan          nan          nan          nan          nan          nan          nan          nan          nan          nan          nan\r\n",
      " 8.55429e-10    9.004e-10    0.0133943   -0.0133943   1.8008e-09 -2.54775e-10     0.549559     0.219665    -0.085664 -7.16118e-12  6.44001e-10   -0.0364955 -1.85343e-09  2.97893e-09 -9.22276e-10  3.15963e-10   -0.0113521   -0.0012713    0.0127114   -0.0330603  5.11866e-10  -7.4601e-09  -0.00157425          nan          nan          nan          nan          nan          nan          nan          nan          nan          nan          nan          nan\r\n",
      " 7.78903e-10  1.08656e-09    0.0133943   -0.0133943  1.37386e-09  -2.6812e-10     0.219665     0.549559    -0.085664  4.69623e-11  7.52305e-10   -0.0364955 -1.89188e-09  2.96255e-09 -7.15495e-10   2.1334e-10    0.0012713    0.0113521   -0.0330603    0.0127114  4.13287e-11 -7.44291e-09  -0.00157425          nan          nan          nan          nan          nan          nan          nan          nan          nan          nan          nan          nan\r\n",
      "-3.22586e-10 -1.97461e-10  -0.00499503   0.00499503 -8.20708e-10  1.55127e-10    -0.085664    -0.085664     0.662947  -1.7498e-10 -2.31601e-10  -0.00632525  4.08172e-10 -7.41419e-10  5.58301e-10 -1.54331e-10   0.00131641  -0.00131641   0.00387681   0.00387681 -9.19407e-10  2.85846e-09   0.00114604          nan          nan          nan          nan          nan          nan          nan          nan          nan          nan          nan          nan\r\n",
      "   0.0181637   0.00105912 -5.81916e-11 -5.01126e-11 -0.000783698   -0.0134403 -7.16118e-12  4.69623e-11  -1.7498e-10     0.680922  1.59215e-12  8.85947e-11  2.70688e-05  7.97174e-05  0.000502762   0.00862228  -3.6535e-10 -3.65836e-11  6.95986e-11   8.8405e-10  -0.00220642   -0.0409682 -8.96009e-10          nan          nan          nan          nan          nan          nan          nan          nan          nan          nan          nan          nan\r\n",
      " -0.00105912    0.0181637 -1.46028e-11  6.87263e-11   -0.0134403  0.000783698  6.44001e-10  7.52305e-10 -2.31601e-10  1.59219e-12     0.680922 -1.12762e-10  7.97174e-05 -2.70688e-05   0.00862228 -0.000502762 -5.78864e-11  8.72338e-10   -5.514e-10 -1.49466e-10   -0.0409682   0.00220642  -8.1486e-10          nan          nan          nan          nan          nan          nan          nan          nan          nan          nan          nan          nan\r\n",
      "-7.14957e-11 -2.25171e-10  -0.00212804   0.00212804 -1.98449e-10  1.93045e-11   -0.0364955   -0.0364955  -0.00632525  8.85947e-11 -1.12762e-10      0.79826  3.98363e-10 -4.68359e-10 -1.57975e-11 -4.96587e-11   0.00465405  -0.00465405    0.0137061    0.0137061  8.88139e-11  8.70728e-10  0.000454255          nan          nan          nan          nan          nan          nan          nan          nan          nan          nan          nan          nan\r\n",
      "   0.0103622    0.0375728 -8.95256e-11  7.31457e-11   0.00770617   0.00212528 -1.85343e-09 -1.89188e-09  4.08172e-10  2.70688e-05  7.97174e-05  3.98363e-10     0.956418  4.28649e-11   -0.0126692  -0.00349404  3.03921e-10 -4.16126e-10  1.05018e-09  1.04956e-09    0.0192783   0.00540894  3.06265e-11          nan          nan          nan          nan          nan          nan          nan          nan          nan          nan          nan          nan\r\n",
      "   0.0375728   -0.0103622  1.83603e-10 -1.45151e-10  -0.00212528   0.00770617  2.97893e-09  2.96255e-09 -7.41419e-10  7.97174e-05 -2.70688e-05 -4.68359e-10  4.28649e-11     0.956418   0.00349404   -0.0126692 -5.77032e-10  5.77646e-10 -1.67381e-09 -1.78602e-09  -0.00540894    0.0192783 -7.95733e-12          nan          nan          nan          nan          nan          nan          nan          nan          nan          nan          nan          nan\r\n",
      "-2.03199e-11    0.0421019 -1.71731e-10  6.91081e-11    0.0309987  6.71251e-11 -9.22276e-10 -7.15495e-10  5.58301e-10  0.000502762   0.00862228 -1.57975e-11   -0.0126692   0.00349404     0.988566  3.79257e-11  8.53911e-12  -1.8639e-10  2.23295e-10 -1.98148e-11   -0.0223628 -9.92652e-05  3.66112e-10          nan          nan          nan          nan          nan          nan          nan          nan          nan          nan          nan          nan\r\n",
      "   0.0421019 -2.03199e-11 -2.08796e-11 -1.85901e-10  6.71252e-11    0.0309987  3.15963e-10   2.1334e-10 -1.54331e-10   0.00862228 -0.000502762 -4.96587e-11  -0.00349404   -0.0126692  3.79257e-11     0.988566  1.22033e-10  1.21077e-10 -1.17967e-11 -1.89647e-10  9.92652e-05   -0.0223628  4.45725e-10          nan          nan          nan          nan          nan          nan          nan          nan          nan          nan          nan          nan\r\n",
      "-2.33137e-10 -1.94154e-11    0.0470555  -0.00128379 -6.52864e-11  1.90958e-10   -0.0113521    0.0012713   0.00131641  -3.6535e-10 -5.78864e-11   0.00465405  3.03921e-10 -5.77032e-10  8.53911e-12  1.22033e-10       1.0332  -0.00656461    0.0132425    0.0132425   -5.769e-11   5.0634e-10  -0.00427291          nan          nan          nan          nan          nan          nan          nan          nan          nan          nan          nan          nan\r\n",
      " 1.30805e-10   2.1367e-10  -0.00128379    0.0470555 -1.89578e-10 -5.11299e-11   -0.0012713    0.0113521  -0.00131641 -3.65836e-11  8.72338e-10  -0.00465405 -4.16126e-10  5.77646e-10  -1.8639e-10  1.21077e-10  -0.00656461       1.0332   -0.0132425   -0.0132425  6.23203e-11  -5.8539e-10   0.00427291          nan          nan          nan          nan          nan          nan          nan          nan          nan          nan          nan          nan\r\n",
      "-3.01337e-10  -9.7333e-11  -0.00258842    0.0152118 -1.33928e-10  9.18459e-11    0.0127114   -0.0330603   0.00387681  6.95986e-11   -5.514e-10    0.0137061  1.05018e-09 -1.67381e-09  2.23295e-10 -1.17967e-11    0.0132425   -0.0132425      1.06771    0.0410669 -2.87413e-10  1.40596e-09   0.00205074          nan          nan          nan          nan          nan          nan          nan          nan          nan          nan          nan          nan\r\n",
      "-1.07082e-10  4.99885e-12   -0.0152118   0.00258842 -2.73756e-10 -1.63018e-10   -0.0330603    0.0127114   0.00387681   8.8405e-10 -1.49466e-10    0.0137061  1.04956e-09 -1.78602e-09 -1.98148e-11 -1.89647e-10    0.0132425   -0.0132425    0.0410669      1.06771 -2.10038e-10   1.4107e-09   0.00205074          nan          nan          nan          nan          nan          nan          nan          nan          nan          nan          nan          nan\r\n",
      "-0.000334008    0.0752465 -2.48665e-10  3.00539e-10   -0.0690159  0.000306351 -1.37592e-09 -1.00792e-09  9.70781e-10   0.00166472    0.0309101 -4.52502e-11  -0.00866862   0.00243217    0.0364086 -0.000161612  1.19886e-10 -1.21157e-10  4.87742e-10  4.84953e-10    -0.194424  2.25008e-10  3.79935e-09          nan          nan          nan          nan          nan          nan          nan          nan          nan          nan          nan          nan\r\n",
      "   0.0752465  0.000334008   1.7915e-10 -5.58627e-10 -0.000306351   -0.0690159  5.06025e-09  5.10946e-09 -2.26138e-09    0.0309101  -0.00166472 -7.95697e-10  -0.00243217  -0.00866862  0.000161612    0.0364086 -4.43847e-10  4.49076e-10 -1.20878e-09 -1.21003e-09  2.25008e-10    -0.194424  1.19824e-09          nan          nan          nan          nan          nan          nan          nan          nan          nan          nan          nan          nan\r\n",
      "-3.04767e-10 -4.79445e-10   -0.0141828    0.0141828  4.11073e-10  1.86412e-10   0.00439169   0.00439169  -0.00133247  -1.1424e-09 -1.07753e-09 -0.000534087  7.68825e-11  1.04405e-10 -4.14643e-11  1.63497e-10  -0.00597827   0.00597827   0.00149901   0.00149901  3.89373e-09  1.34892e-09     0.958373          nan          nan          nan          nan          nan          nan          nan          nan          nan          nan          nan          nan\r\n",
      "        -nan         -nan         -nan         -nan         -nan         -nan         -nan         -nan         -nan         -nan         -nan         -nan         -nan         -nan         -nan         -nan         -nan         -nan         -nan         -nan         -nan         -nan         -nan          nan          nan          nan          nan          nan          nan          nan          nan          nan          nan          nan          nan\r\n",
      "        -nan         -nan         -nan         -nan         -nan         -nan         -nan         -nan         -nan         -nan         -nan         -nan         -nan         -nan         -nan         -nan         -nan         -nan         -nan         -nan         -nan         -nan         -nan         -nan         -nan         -nan         -nan         -nan         -nan         -nan         -nan         -nan         -nan         -nan         -nan\r\n",
      "        -nan         -nan         -nan         -nan         -nan         -nan         -nan         -nan         -nan         -nan         -nan         -nan         -nan         -nan         -nan         -nan         -nan         -nan         -nan         -nan         -nan         -nan         -nan         -nan         -nan         -nan         -nan         -nan         -nan         -nan         -nan         -nan         -nan         -nan         -nan\r\n",
      "        -nan         -nan         -nan         -nan         -nan         -nan         -nan         -nan         -nan         -nan         -nan         -nan         -nan         -nan         -nan         -nan         -nan         -nan         -nan         -nan         -nan         -nan         -nan          nan          nan          nan          nan          nan          nan          nan          nan          nan          nan          nan          nan\r\n",
      "        -nan         -nan         -nan         -nan         -nan         -nan         -nan         -nan         -nan         -nan         -nan         -nan         -nan         -nan         -nan         -nan         -nan         -nan         -nan         -nan         -nan         -nan         -nan          nan          nan          nan          nan          nan          nan          nan          nan          nan          nan          nan          nan\r\n",
      "        -nan         -nan         -nan         -nan         -nan         -nan         -nan         -nan         -nan         -nan         -nan         -nan         -nan         -nan         -nan         -nan         -nan         -nan         -nan         -nan         -nan         -nan         -nan         -nan         -nan         -nan         -nan         -nan         -nan         -nan         -nan         -nan         -nan         -nan         -nan\r\n",
      "        -nan         -nan         -nan         -nan         -nan         -nan         -nan         -nan         -nan         -nan         -nan         -nan         -nan         -nan         -nan         -nan         -nan         -nan         -nan         -nan         -nan         -nan         -nan         -nan         -nan         -nan         -nan         -nan         -nan         -nan         -nan         -nan         -nan         -nan         -nan\r\n",
      "        -nan         -nan         -nan         -nan         -nan         -nan         -nan         -nan         -nan         -nan         -nan         -nan         -nan         -nan         -nan         -nan         -nan         -nan         -nan         -nan         -nan         -nan         -nan          nan          nan          nan          nan          nan          nan          nan          nan          nan          nan          nan          nan\r\n",
      "        -nan         -nan         -nan         -nan         -nan         -nan         -nan         -nan         -nan         -nan         -nan         -nan         -nan         -nan         -nan         -nan         -nan         -nan         -nan         -nan         -nan         -nan         -nan          nan          nan          nan          nan          nan          nan          nan          nan          nan          nan          nan          nan\r\n",
      "        -nan         -nan         -nan         -nan         -nan         -nan         -nan         -nan         -nan         -nan         -nan         -nan         -nan         -nan         -nan         -nan         -nan         -nan         -nan         -nan         -nan         -nan         -nan         -nan          nan          nan          nan         -nan          nan          nan          nan         -nan          nan          nan          nan\r\n",
      "        -nan         -nan         -nan         -nan         -nan         -nan         -nan         -nan         -nan         -nan         -nan         -nan         -nan         -nan         -nan         -nan         -nan         -nan         -nan         -nan         -nan         -nan         -nan         -nan          nan          nan          nan         -nan          nan          nan          nan         -nan          nan          nan          nan\r\n",
      "        -nan         -nan         -nan         -nan         -nan         -nan         -nan         -nan         -nan         -nan         -nan         -nan         -nan         -nan         -nan         -nan         -nan         -nan         -nan         -nan         -nan         -nan         -nan         -nan         -nan         -nan         -nan         -nan         -nan         -nan         -nan         -nan         -nan         -nan         -nan\r\n",
      "B\r\n",
      "    0.093811 -1.38247e-11  1.68404e-11 -1.31254e-10  1.44906e-11   -0.0328898  3.54454e-10  2.99572e-10 -1.98307e-10    0.0155308 -0.000905596 -3.66276e-11    0.0128488    0.0465893 -2.36095e-11    0.0481429 -2.87522e-10  1.38734e-10 -3.10609e-10 -3.80134e-11   0.00011145   -0.0251078 -4.01025e-10         -nan         -nan         -nan         -nan         -nan         -nan         -nan         -nan         -nan         -nan         -nan         -nan\r\n",
      "-1.38247e-11     0.093811 -9.49904e-11  4.01085e-11   -0.0328898  1.44906e-11  3.69187e-10  4.83601e-10 -1.23129e-10  0.000905596    0.0155308 -1.66768e-10    0.0465893   -0.0128488    0.0481429 -2.36095e-11 -1.28572e-11  2.85453e-10 -7.55614e-11  7.32267e-11   -0.0251078  -0.00011145  -5.1112e-10         -nan         -nan         -nan         -nan         -nan         -nan         -nan         -nan         -nan         -nan         -nan         -nan\r\n",
      " 1.68404e-11 -9.49904e-11     0.105883   0.00529852  1.02789e-10  7.14812e-11   0.00678553   0.00678553  -0.00367316 -5.18355e-11 -2.02088e-11  -0.00166856  -9.6692e-11  2.03643e-10 -2.10716e-10  -2.5411e-11    0.0640603  -0.00170121  -0.00248341   -0.0196814 -6.25379e-11 -1.11689e-11   -0.0418852         -nan         -nan         -nan         -nan         -nan         -nan         -nan         -nan         -nan         -nan         -nan         -nan\r\n",
      "-1.31254e-10  4.01085e-11   0.00529852     0.105883 -1.09887e-10  2.29113e-10  -0.00678553  -0.00678553   0.00367316 -5.46523e-11  7.11331e-11   0.00166856  7.34565e-11 -1.53366e-10  7.36259e-11 -2.18506e-10  -0.00170121    0.0640603    0.0196814   0.00248341  1.33603e-10  1.11423e-10    0.0418852         -nan         -nan         -nan         -nan         -nan         -nan         -nan         -nan         -nan         -nan         -nan         -nan\r\n",
      " 1.44906e-11   -0.0328898  1.02789e-10 -1.09887e-10     0.240891 -6.99691e-13  1.10441e-09  8.03819e-10 -6.98447e-10 -0.000842195   -0.0144435 -1.60497e-10   0.00881436  -0.00243091    0.0441772  9.33081e-11 -5.67053e-11  -3.3417e-10    -5.76e-11 -2.87368e-10  -0.00438142 -1.94485e-05  5.20851e-10         -nan         -nan         -nan         -nan         -nan         -nan         -nan         -nan         -nan         -nan         -nan         -nan\r\n",
      "  -0.0328898  1.44906e-11  7.14812e-11  2.29113e-10 -6.99674e-13     0.240891 -1.39879e-10 -1.46977e-10  1.24382e-10   -0.0144435  0.000842195   9.9252e-12   0.00243091   0.00881436   9.3308e-11    0.0441772  2.79762e-10 -4.99932e-11  1.11408e-10 -2.79466e-10  1.94484e-05  -0.00438142  4.31866e-10         -nan         -nan         -nan         -nan         -nan         -nan         -nan         -nan         -nan         -nan         -nan         -nan\r\n",
      " 3.54454e-10  3.69187e-10   0.00678553  -0.00678553  1.10441e-09 -1.39879e-10     0.221858     0.110677    -0.062994 -1.35411e-12  4.62577e-10   -0.0286154 -1.92637e-09  3.22487e-09 -1.03138e-09  3.28974e-10   -0.0100836  -0.00711435    0.0330998   -0.0292593 -8.01322e-10 -3.84222e-10   0.00293657         -nan         -nan         -nan         -nan         -nan         -nan         -nan         -nan         -nan         -nan         -nan         -nan\r\n",
      " 2.99572e-10  4.83601e-10   0.00678553  -0.00678553  8.03819e-10 -1.46977e-10     0.110677     0.221858   -0.0629941  4.95702e-11  5.69065e-10   -0.0286154 -1.97665e-09  3.20163e-09 -7.87463e-10  1.91884e-10   0.00711435    0.0100836   -0.0292593    0.0330998 -8.98766e-10  -3.1218e-10   0.00293657         -nan         -nan         -nan         -nan         -nan         -nan         -nan         -nan         -nan         -nan         -nan         -nan\r\n",
      "-1.98307e-10 -1.23129e-10  -0.00367316   0.00367316 -6.98447e-10  1.24382e-10    -0.062994   -0.0629941     0.429278 -2.25278e-10 -2.34122e-10   -0.0121538  4.56124e-10 -9.09265e-10  7.69071e-10 -2.09075e-10 -6.20619e-06  6.20621e-06 -1.82772e-05 -1.82772e-05 -7.44373e-11  5.84293e-10  6.00498e-05         -nan         -nan         -nan         -nan         -nan         -nan         -nan         -nan         -nan         -nan         -nan         -nan\r\n",
      "   0.0155308  0.000905596 -5.18355e-11 -5.46523e-11 -0.000842195   -0.0144435 -1.35411e-12  4.95702e-11 -2.25278e-10     0.463967   2.1263e-12  1.17682e-10  0.000207963  0.000612449  0.000603964    0.0103579 -6.15585e-10 -6.26098e-11  1.11945e-10  1.49086e-09 -0.000953761   -0.0177092  -1.8677e-09         -nan         -nan         -nan         -nan         -nan         -nan         -nan         -nan         -nan         -nan         -nan         -nan\r\n",
      "-0.000905596    0.0155308 -2.02088e-11  7.11331e-11   -0.0144435  0.000842195  4.62577e-10  5.69065e-10 -2.34122e-10  2.12637e-12     0.463967 -1.09253e-10  0.000612449 -0.000207963    0.0103579 -0.000603964 -7.68643e-11  1.45578e-09 -8.66425e-10  -1.8823e-10   -0.0177092  0.000953761 -1.77781e-09         -nan         -nan         -nan         -nan         -nan         -nan         -nan         -nan         -nan         -nan         -nan         -nan\r\n",
      "-3.66276e-11 -1.66768e-10  -0.00166856   0.00166856 -1.60497e-10   9.9252e-12   -0.0286154   -0.0286154   -0.0121538  1.17682e-10 -1.09253e-10     0.636067  5.47449e-10 -6.15476e-10 -6.46797e-11 -6.61889e-11   0.00672916  -0.00672916    0.0198173    0.0198173  1.03281e-10 -8.60777e-12  4.62043e-05         -nan         -nan         -nan         -nan         -nan         -nan         -nan         -nan         -nan         -nan         -nan         -nan\r\n",
      "   0.0128488    0.0465893  -9.6692e-11  7.34565e-11   0.00881436   0.00243091 -1.92637e-09 -1.97665e-09  4.56124e-10  0.000207963  0.000612449  5.47449e-10     0.917068  7.51467e-11   -0.0214892  -0.00592649  5.28688e-10 -7.58511e-10  1.85824e-09  1.85372e-09    0.0223819   0.00627972  1.65355e-10         -nan         -nan         -nan         -nan         -nan         -nan         -nan         -nan         -nan         -nan         -nan         -nan\r\n",
      "   0.0465893   -0.0128488  2.03643e-10 -1.53366e-10  -0.00243091   0.00881436  3.22487e-09  3.20163e-09 -9.09265e-10  0.000612449 -0.000207963 -6.15476e-10  7.51467e-11     0.917068   0.00592649   -0.0214892 -1.02454e-09  1.02907e-09 -2.98488e-09  -3.2147e-09  -0.00627972    0.0223819  1.26241e-10         -nan         -nan         -nan         -nan         -nan         -nan         -nan         -nan         -nan         -nan         -nan         -nan\r\n",
      "-2.36095e-11    0.0481429 -2.10716e-10  7.36259e-11    0.0441772   9.3308e-11 -1.03138e-09 -7.87463e-10  7.69071e-10  0.000603964    0.0103579 -6.46797e-11   -0.0214892   0.00592649     0.981535  7.31042e-11 -3.50261e-12 -3.06066e-10  3.62754e-10 -7.51792e-11   0.00424838  1.88579e-05  3.17221e-10         -nan         -nan         -nan         -nan         -nan         -nan         -nan         -nan         -nan         -nan         -nan         -nan\r\n",
      "   0.0481429 -2.36094e-11  -2.5411e-11 -2.18506e-10  9.33081e-11    0.0441772  3.28974e-10  1.91884e-10 -2.09075e-10    0.0103579 -0.000603964 -6.61889e-11  -0.00592649   -0.0214892  7.31042e-11     0.981535  2.22759e-10  2.15175e-10 -7.19652e-12 -3.16765e-10 -1.88579e-05   0.00424838  6.75764e-10         -nan         -nan         -nan         -nan         -nan         -nan         -nan         -nan         -nan         -nan         -nan         -nan\r\n",
      "-2.87522e-10 -1.28572e-11    0.0640603  -0.00170121 -5.67053e-11  2.79762e-10   -0.0100836   0.00711435 -6.20619e-06 -6.15585e-10 -7.68643e-11   0.00672916  5.28688e-10 -1.02454e-09 -3.50261e-12  2.22759e-10      1.06907   -0.0128068    0.0247455    0.0247455  4.20707e-11  2.29727e-10   -0.0150505         -nan         -nan         -nan         -nan         -nan         -nan         -nan         -nan         -nan         -nan         -nan         -nan\r\n",
      " 1.38734e-10  2.85453e-10  -0.00170121    0.0640603  -3.3417e-10 -4.99932e-11  -0.00711435    0.0100836  6.20621e-06 -6.26098e-11  1.45578e-09  -0.00672916 -7.58511e-10  1.02907e-09 -3.06066e-10  2.15175e-10   -0.0128068      1.06907   -0.0247455   -0.0247455 -1.38971e-10 -2.90862e-10    0.0150505         -nan         -nan         -nan         -nan         -nan         -nan         -nan         -nan         -nan         -nan         -nan         -nan\r\n",
      "-3.10609e-10 -7.55614e-11  -0.00248341    0.0196814    -5.76e-11  1.11408e-10    0.0330998   -0.0292593 -1.82772e-05  1.11945e-10 -8.66425e-10    0.0198173  1.85824e-09 -2.98488e-09  3.62754e-10 -7.19652e-12    0.0247455   -0.0247455      1.13355    0.0772795  1.19015e-10   4.3355e-10   0.00545427         -nan         -nan         -nan         -nan         -nan         -nan         -nan         -nan         -nan         -nan         -nan         -nan\r\n",
      "-3.80134e-11  7.32267e-11   -0.0196814   0.00248341 -2.87368e-10 -2.79466e-10   -0.0292593    0.0330998 -1.82772e-05  1.49086e-09  -1.8823e-10    0.0198173  1.85372e-09  -3.2147e-09 -7.51792e-11 -3.16765e-10    0.0247455   -0.0247455    0.0772795      1.13355  1.80366e-10   3.3692e-10   0.00545427         -nan         -nan         -nan         -nan         -nan         -nan         -nan         -nan         -nan         -nan         -nan         -nan\r\n",
      " 0.000254598   -0.0573567  5.04225e-13  4.61363e-11  -0.00347861   1.5441e-05 -3.28758e-10 -5.33369e-10 -3.87608e-12 -0.000548841   -0.0101907 -2.32914e-11     0.017948  -0.00503571    0.0191591 -8.50445e-05  6.04878e-15  9.07575e-11  5.05045e-11  2.62745e-10     0.600541  2.25533e-10  2.81268e-09         -nan         -nan         -nan         -nan         -nan         -nan         -nan         -nan         -nan         -nan         -nan         -nan\r\n",
      "  -0.0573567 -0.000254598 -1.64588e-10  3.71422e-10  -1.5441e-05  -0.00347861 -3.85755e-09 -3.80958e-09  6.45021e-10   -0.0101907  0.000548841  1.38948e-10   0.00503571     0.017948  8.50445e-05    0.0191591 -1.49312e-10 -6.08595e-11 -1.42189e-10 -5.13236e-11  2.25533e-10     0.600541  7.02068e-11         -nan         -nan         -nan         -nan         -nan         -nan         -nan         -nan         -nan         -nan         -nan         -nan\r\n",
      "-3.28107e-10 -3.21336e-10   -0.0423661    0.0423661  6.07716e-10   5.8312e-10    0.0029061    0.0029061 -0.000442969 -1.66942e-09 -1.60319e-09 -0.000216876  1.09858e-10  1.72895e-10  4.07713e-10   8.2781e-10   -0.0160927    0.0160927   0.00533599   0.00533599  3.14899e-09  5.24956e-10      1.98492         -nan         -nan         -nan         -nan         -nan         -nan         -nan         -nan         -nan         -nan         -nan         -nan\r\n",
      "        -nan         -nan         -nan         -nan         -nan         -nan         -nan         -nan         -nan         -nan         -nan         -nan         -nan         -nan         -nan         -nan         -nan         -nan         -nan         -nan         -nan         -nan         -nan         -nan         -nan         -nan         -nan         -nan         -nan         -nan         -nan         -nan         -nan         -nan         -nan\r\n",
      "        -nan         -nan         -nan         -nan         -nan         -nan         -nan         -nan         -nan         -nan         -nan         -nan         -nan         -nan         -nan         -nan         -nan         -nan         -nan         -nan         -nan         -nan         -nan         -nan         -nan         -nan         -nan         -nan         -nan         -nan         -nan         -nan         -nan         -nan         -nan\r\n",
      "        -nan         -nan         -nan         -nan         -nan         -nan         -nan         -nan         -nan         -nan         -nan         -nan         -nan         -nan         -nan         -nan         -nan         -nan         -nan         -nan         -nan         -nan         -nan         -nan         -nan         -nan         -nan         -nan         -nan         -nan         -nan         -nan         -nan         -nan         -nan\r\n",
      "        -nan         -nan         -nan         -nan         -nan         -nan         -nan         -nan         -nan         -nan         -nan         -nan         -nan         -nan         -nan         -nan         -nan         -nan         -nan         -nan         -nan         -nan         -nan         -nan         -nan         -nan         -nan         -nan         -nan         -nan         -nan         -nan         -nan         -nan         -nan\r\n",
      "        -nan         -nan         -nan         -nan         -nan         -nan         -nan         -nan         -nan         -nan         -nan         -nan         -nan         -nan         -nan         -nan         -nan         -nan         -nan         -nan         -nan         -nan         -nan         -nan         -nan         -nan         -nan         -nan         -nan         -nan         -nan         -nan         -nan         -nan         -nan\r\n",
      "        -nan         -nan         -nan         -nan         -nan         -nan         -nan         -nan         -nan         -nan         -nan         -nan         -nan         -nan         -nan         -nan         -nan         -nan         -nan         -nan         -nan         -nan         -nan         -nan         -nan         -nan         -nan         -nan         -nan         -nan         -nan         -nan         -nan         -nan         -nan\r\n",
      "        -nan         -nan         -nan         -nan         -nan         -nan         -nan         -nan         -nan         -nan         -nan         -nan         -nan         -nan         -nan         -nan         -nan         -nan         -nan         -nan         -nan         -nan         -nan         -nan         -nan         -nan         -nan         -nan         -nan         -nan         -nan         -nan         -nan         -nan         -nan\r\n",
      "        -nan         -nan         -nan         -nan         -nan         -nan         -nan         -nan         -nan         -nan         -nan         -nan         -nan         -nan         -nan         -nan         -nan         -nan         -nan         -nan         -nan         -nan         -nan         -nan         -nan         -nan         -nan         -nan         -nan         -nan         -nan         -nan         -nan         -nan         -nan\r\n",
      "        -nan         -nan         -nan         -nan         -nan         -nan         -nan         -nan         -nan         -nan         -nan         -nan         -nan         -nan         -nan         -nan         -nan         -nan         -nan         -nan         -nan         -nan         -nan         -nan         -nan         -nan         -nan         -nan         -nan         -nan         -nan         -nan         -nan         -nan         -nan\r\n",
      "        -nan         -nan         -nan         -nan         -nan         -nan         -nan         -nan         -nan         -nan         -nan         -nan         -nan         -nan         -nan         -nan         -nan         -nan         -nan         -nan         -nan         -nan         -nan         -nan         -nan         -nan         -nan         -nan         -nan         -nan         -nan         -nan         -nan         -nan         -nan\r\n",
      "        -nan         -nan         -nan         -nan         -nan         -nan         -nan         -nan         -nan         -nan         -nan         -nan         -nan         -nan         -nan         -nan         -nan         -nan         -nan         -nan         -nan         -nan         -nan         -nan         -nan         -nan         -nan         -nan         -nan         -nan         -nan         -nan         -nan         -nan         -nan\r\n",
      "        -nan         -nan         -nan         -nan         -nan         -nan         -nan         -nan         -nan         -nan         -nan         -nan         -nan         -nan         -nan         -nan         -nan         -nan         -nan         -nan         -nan         -nan         -nan          nan          nan          nan          nan          nan          nan          nan          nan          nan          nan          nan          nan\r\n",
      "an error occurred:\r\n",
      "Small generalized eigenvalue problem failed.\r\n"
     ]
    }
   ],
   "source": [
    "!xtp_tools -c job_name=CO geometry_optimization.maxiter=1 dftpackage.basisset=3-21G dftpackage.auxbasisset=aux-def2-svp gwbse.gw.mode=G0W0 -e dftgwbse -t 4"
   ]
  },
  {
   "cell_type": "markdown",
   "metadata": {},
   "source": [
    "Notice that we are using 4 threads. The results will be stored in a file named `CO_summary.xml` in the current work directory, together with the optimization step in `optimisation.trj` and the orbitals in [hdf5 format](https://www.hdfgroup.org/solutions/hdf5/) saved on `CO.orb`."
   ]
  }
 ],
 "metadata": {
  "kernelspec": {
   "display_name": "Python 3",
   "language": "python",
   "name": "python3"
  },
  "language_info": {
   "codemirror_mode": {
    "name": "ipython",
    "version": 3
   },
   "file_extension": ".py",
   "mimetype": "text/x-python",
   "name": "python",
   "nbconvert_exporter": "python",
   "pygments_lexer": "ipython3",
   "version": "3.10.1"
  }
 },
 "nbformat": 4,
 "nbformat_minor": 4
}
