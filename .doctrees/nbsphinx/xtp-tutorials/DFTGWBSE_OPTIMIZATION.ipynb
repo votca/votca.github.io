{
 "cells": [
  {
   "cell_type": "markdown",
   "metadata": {},
   "source": [
    "## DFT + GWBSE Optimization Using CO"
   ]
  },
  {
   "cell_type": "markdown",
   "metadata": {},
   "source": [
    "## Introduction\n",
    "This tutorial explains how to perform a molecular geometric optimization using the **GWBSE** method. See [the GW Compendium: A Practical Guide to Theoretical Photoemission Spectroscopy](https://doi.org/10.3389/fchem.2019.00377), for an excellent introduction to the method."
   ]
  },
  {
   "cell_type": "markdown",
   "metadata": {},
   "source": [
    "## Requirements\n",
    "* You will need to install **VOTCA** using the instructions described [here](https://github.com/votca/votca/blob/master/share/doc/INSTALL.rst)\n",
    "* Once the installation is completed you need to activate the VOTCA enviroment by running the `VOTCARC.bash` script that has been installed at the bin subfolder for the path that you have provided for the installation step above"
   ]
  },
  {
   "cell_type": "markdown",
   "metadata": {},
   "source": [
    "## Preparing the input\n",
    "To run a DFT-GWBSE calculation we will use the [xtp_tools](https://www.votca.org/xtp/xtp_tools_overview.html) calculator."
   ]
  },
  {
   "cell_type": "markdown",
   "metadata": {},
   "source": [
    "we can now change the calculator mode from single point energy calculation to optimization as follows by adding \n",
    "`-c geometry_optimization.maxiter=1` which enables optimization with one iteration. "
   ]
  },
  {
   "cell_type": "markdown",
   "metadata": {},
   "source": [
    "Because geometry optimsation is quite expensive numerically we chose a smaller basisset and G0W0 Finally, to run the calculation we just need the following command (This still takes a while)"
   ]
  },
  {
   "cell_type": "code",
   "execution_count": 1,
   "metadata": {
    "execution": {
     "iopub.execute_input": "2022-02-18T08:30:20.971575Z",
     "iopub.status.busy": "2022-02-18T08:30:20.971112Z",
     "iopub.status.idle": "2022-02-18T08:30:34.125478Z",
     "shell.execute_reply": "2022-02-18T08:30:34.124905Z"
    }
   },
   "outputs": [
    {
     "name": "stdout",
     "output_type": "stream",
     "text": [
      "==================================================\r\n",
      "========   VOTCA (http://www.votca.org)   ========\r\n",
      "==================================================\r\n",
      "\r\n",
      "please submit bugs to https://github.com/votca/xtp/issues\r\n",
      "\r\n",
      "xtp_tools, version 2023-dev gitid: 7c9f5f1 (compiled Feb 18 2022, 08:23:12)\r\n",
      "votca_csg, version 2023-dev gitid: 7c9f5f1 (compiled Feb 18 2022, 08:10:24)\r\n",
      "votca_tools, version 2023-dev gitid: 7c9f5f1 (compiled Feb 18 2022, 08:08:14)\r\n",
      "\r\n",
      "Initializing tool\r\n",
      "... dftgwbse Evaluating tool\r\n",
      "... dftgwbse  Using 4 threads\r\n",
      "... ... Reading structure from CO.xyz\r\n",
      "... ... Requested geometry optimization of excited state s1\r\n",
      "... ... Initial state: s1\r\n",
      "... ... WARNING: No tracker is used \r\n",
      "... ... Convergence of total energy: 0.000001 Hartree \r\n",
      "... ... Convergence of RMS Force:    0.000030 Hartree/Bohr \r\n",
      "... ... Convergence of Max Force:    0.000100 Hartree/Bohr \r\n",
      "... ... Convergence of RMS Step:     0.000600 Bohr \r\n",
      "... ... Convergence of Max Step:     0.001000 Bohr \r\n",
      "... ... Initial trust radius:        0.018897 BohrA\r\n",
      "    0.307132 -3.05428e-11  1.80086e-10  5.20327e-10  2.31715e-11   -0.0516061  1.11621e-09 -1.03646e-09 -3.87506e-10   -0.0181649  -0.00103851 -1.10391e-10    0.0103946   -0.0375638 -1.99876e-11    0.0421019  2.08451e-10  -9.1007e-11  -3.5771e-10 -1.58899e-10  0.000478923    -0.108408 -1.82868e-10          nan          nan          nan          nan          nan          nan          nan          nan          nan          nan          nan          nan\r\n",
      "-3.05428e-11     0.307132  3.88559e-10  3.08808e-10   -0.0516061  2.31715e-11 -2.45214e-09  2.79238e-09  8.22165e-10  -0.00103851    0.0181649  3.85187e-10    0.0375638    0.0103946    0.0421019 -1.99877e-11 -1.91925e-10 -6.88587e-12  5.01704e-10  6.19148e-10    -0.108408 -0.000478923 -1.68126e-11          nan          nan          nan          nan          nan          nan          nan          nan          nan          nan          nan          nan\r\n",
      " 1.80086e-10  3.88559e-10       0.3206  -0.00929429 -1.41697e-11 -3.03932e-11   -0.0131346    0.0131346   0.00489785 -1.46128e-10  1.02426e-10   0.00208664  1.18623e-11  2.06784e-10  1.19251e-10 -7.46913e-12    0.0470581  -0.00129736   0.00255056    0.0152134  -9.8622e-10  3.12378e-10    -0.025485          nan          nan          nan          nan          nan          nan          nan          nan          nan          nan          nan          nan\r\n",
      " 5.20327e-10  3.08808e-10  -0.00929429       0.3206 -2.25312e-11 -4.35117e-10   -0.0131346    0.0131346   0.00489785 -1.66393e-10  1.48338e-10   0.00208664 -8.17424e-12  1.81887e-10  1.28197e-11  4.05466e-10   0.00129736   -0.0470581    0.0152134   0.00255056 -9.62276e-10  -2.0778e-10    -0.025485          nan          nan          nan          nan          nan          nan          nan          nan          nan          nan          nan          nan\r\n",
      " 2.31716e-11   -0.0516061 -1.41697e-11 -2.25312e-11     0.490902  -2.8258e-12 -1.48999e-09  1.08527e-09  6.28842e-10   0.00076845   -0.0134412  1.85914e-10   0.00770433   0.00213192    0.0309987    6.599e-11 -4.61212e-11  3.03224e-10  2.07993e-10  6.15527e-11    0.0531267  0.000234703 -2.09371e-10          nan          nan          nan          nan          nan          nan          nan          nan          nan          nan          nan          nan\r\n",
      "  -0.0516061  2.31715e-11 -3.03932e-11 -4.35117e-10 -2.82577e-12     0.490902 -9.30914e-11  1.01453e-10  6.26631e-11    0.0134412   0.00076845  -5.2073e-12   0.00213192  -0.00770433  6.59899e-11    0.0309987 -1.53702e-10  7.26155e-12  8.27391e-11 -1.74363e-10 -0.000234703    0.0531267 -4.46646e-11          nan          nan          nan          nan          nan          nan          nan          nan          nan          nan          nan          nan\r\n",
      " 1.11621e-09 -2.45214e-09   -0.0131346   -0.0131346 -1.48999e-09 -9.30914e-11     0.549589    -0.219695   -0.0856696 -1.42921e-11 -7.24928e-10   -0.0364979 -8.32933e-10 -2.62326e-09  6.31651e-10  2.54442e-10    0.0113416   0.00132123    0.0126945   -0.0330663  1.34052e-08 -8.26745e-09    0.0015398          nan          nan          nan          nan          nan          nan          nan          nan          nan          nan          nan          nan\r\n",
      "-1.03646e-09  2.79238e-09    0.0131346    0.0131346  1.08527e-09  1.01453e-10    -0.219695     0.549589    0.0856696   6.0204e-11  7.45193e-10    0.0364979  8.57831e-10  2.60322e-09 -2.18716e-10  -1.4801e-10   0.00132123    0.0113416    0.0330663   -0.0126945 -1.39189e-08  8.23995e-09   -0.0015398          nan          nan          nan          nan          nan          nan          nan          nan          nan          nan          nan          nan\r\n",
      "-3.87506e-10  8.22165e-10   0.00489785   0.00489785  6.28842e-10  6.26631e-11   -0.0856696    0.0856696     0.662947  1.80012e-10  5.81852e-10  -0.00632525  2.92917e-10  7.01873e-10 -3.36753e-10 -9.72217e-11  -0.00131535   0.00131535   0.00387717   0.00387717 -4.34028e-09  3.05272e-09  -0.00112213          nan          nan          nan          nan          nan          nan          nan          nan          nan          nan          nan          nan\r\n",
      "  -0.0181649  -0.00103851 -1.46128e-10 -1.66393e-10   0.00076845    0.0134412 -1.42921e-11   6.0204e-11  1.80012e-10     0.680922  -1.5979e-12 -8.83648e-11 -2.70471e-05  7.97248e-05  -0.00049298  -0.00862284   -3.868e-10 -1.95247e-13 -8.09523e-11 -8.90623e-10    0.0021608    0.0409706 -6.68907e-10          nan          nan          nan          nan          nan          nan          nan          nan          nan          nan          nan          nan\r\n",
      " -0.00103851    0.0181649  1.02426e-10  1.48338e-10   -0.0134412   0.00076845 -7.24928e-10  7.45193e-10  5.81852e-10  -1.5978e-12     0.680922 -6.20499e-11  7.97248e-05  2.70471e-05   0.00862284  -0.00049298  4.19211e-12 -8.13862e-10 -3.77598e-10  9.39814e-12   -0.0409706    0.0021608  8.09429e-10          nan          nan          nan          nan          nan          nan          nan          nan          nan          nan          nan          nan\r\n",
      "-1.10391e-10  3.85187e-10   0.00208664   0.00208664  1.85914e-10  -5.2073e-12   -0.0364979    0.0364979  -0.00632525 -8.83648e-11 -6.20499e-11      0.79826 -1.21084e-11  3.26478e-10  1.10206e-10 -5.76795e-11  -0.00465032   0.00465032    0.0137074    0.0137074 -1.73243e-09  9.75415e-10 -0.000444852          nan          nan          nan          nan          nan          nan          nan          nan          nan          nan          nan          nan\r\n",
      "   0.0103946    0.0375638  1.18623e-11 -8.17424e-12   0.00770433   0.00213192 -8.32933e-10  8.57831e-10  2.92917e-10 -2.70471e-05  7.97248e-05 -1.21084e-11     0.956418 -4.28747e-11   -0.0126662  -0.00350496 -1.23835e-10  2.37467e-10  6.53788e-10  4.31417e-10    0.0192737   0.00542516  6.82474e-12          nan          nan          nan          nan          nan          nan          nan          nan          nan          nan          nan          nan\r\n",
      "  -0.0375638    0.0103946  2.06784e-10  1.81887e-10   0.00213192  -0.00770433 -2.62326e-09  2.60322e-09  7.01873e-10  7.97248e-05  2.70471e-05  3.26478e-10 -4.28747e-11     0.956418  -0.00350496    0.0126662 -4.24161e-10  6.46531e-10  1.49158e-09  1.60521e-09   0.00542516   -0.0192737 -8.91585e-11          nan          nan          nan          nan          nan          nan          nan          nan          nan          nan          nan          nan\r\n",
      "-1.99876e-11    0.0421019  1.19251e-10  1.28197e-11    0.0309987  6.59899e-11  6.31651e-10 -2.18716e-10 -3.36753e-10  -0.00049298   0.00862284  1.10206e-10   -0.0126662  -0.00350496     0.988566  3.73243e-11 -2.92143e-11  1.10929e-10 -3.58683e-11  6.17127e-11   -0.0223628 -9.87943e-05  -3.2996e-10          nan          nan          nan          nan          nan          nan          nan          nan          nan          nan          nan          nan\r\n",
      "   0.0421019 -1.99877e-11 -7.46913e-12  4.05466e-10    6.599e-11    0.0309987  2.54442e-10  -1.4801e-10 -9.72217e-11  -0.00862284  -0.00049298 -5.76795e-11  -0.00350496    0.0126662  3.73244e-11     0.988566  7.08396e-12  9.04971e-11 -6.75583e-11 -1.49273e-10  9.87943e-05   -0.0223628 -1.73272e-10          nan          nan          nan          nan          nan          nan          nan          nan          nan          nan          nan          nan\r\n",
      " 2.08451e-10 -1.91925e-10    0.0470581   0.00129736 -4.61212e-11 -1.53702e-10    0.0113416   0.00132123  -0.00131535   -3.868e-10  4.19211e-12  -0.00465032 -1.23835e-10 -4.24161e-10 -2.92143e-11  7.08396e-12       1.0332   -0.0065574   -0.0132331   -0.0132331  8.25359e-10 -5.53048e-10  -0.00427639          nan          nan          nan          nan          nan          nan          nan          nan          nan          nan          nan          nan\r\n",
      " -9.1007e-11 -6.88587e-12  -0.00129736   -0.0470581  3.03224e-10  7.26155e-12   0.00132123    0.0113416   0.00131535 -1.95247e-13 -8.13862e-10   0.00465032  2.37467e-10  6.46531e-10  1.10929e-10  9.04971e-11   -0.0065574       1.0332    0.0132331    0.0132331 -7.78636e-10  4.51167e-10   0.00427639          nan          nan          nan          nan          nan          nan          nan          nan          nan          nan          nan          nan\r\n",
      " -3.5771e-10  5.01704e-10   0.00255056    0.0152134  2.07993e-10  8.27391e-11    0.0126945    0.0330663   0.00387717 -8.09523e-11 -3.77598e-10    0.0137074  6.53788e-10  1.49158e-09 -3.58683e-11 -6.75583e-11   -0.0132331    0.0132331      1.06771    0.0410741 -2.36738e-09  1.58676e-09  -0.00204036          nan          nan          nan          nan          nan          nan          nan          nan          nan          nan          nan          nan\r\n",
      "-1.58899e-10  6.19148e-10    0.0152134   0.00255056  6.15527e-11 -1.74363e-10   -0.0330663   -0.0126945   0.00387717 -8.90623e-10  9.39814e-12    0.0137074  4.31417e-10  1.60521e-09  6.17127e-11 -1.49273e-10   -0.0132331    0.0132331    0.0410741      1.06771 -2.46836e-09  1.53948e-09  -0.00204036          nan          nan          nan          nan          nan          nan          nan          nan          nan          nan          nan          nan\r\n",
      "-0.000332423    0.0752465   6.8597e-10  7.30895e-10   -0.0690159  0.000304898 -8.05898e-09  8.33657e-09   3.1637e-09   -0.0016303    0.0309119  1.54319e-09  -0.00866657  -0.00243946    0.0364086 -0.000160845 -5.58377e-10  5.57813e-10  1.77564e-09  1.77914e-09    -0.194424  2.21073e-10 -4.21706e-09          nan          nan          nan          nan          nan          nan          nan          nan          nan          nan          nan          nan\r\n",
      "   0.0752465  0.000332423  2.19146e-12  2.86512e-10 -0.000304898   -0.0690159  5.48915e-09 -5.53172e-09  -2.3835e-09   -0.0309119   -0.0016303  -8.8683e-10  -0.00243946   0.00866657  0.000160845    0.0364086   4.8125e-10 -4.77006e-10 -1.28064e-09 -1.27919e-09  2.21073e-10    -0.194424 -5.54464e-09          nan          nan          nan          nan          nan          nan          nan          nan          nan          nan          nan          nan\r\n",
      " 5.99202e-10  5.29674e-10   -0.0141904   -0.0141904  -3.6892e-10 -5.51703e-10  -0.00431388   0.00431388   0.00130919 -1.02976e-09  1.08959e-09  0.000524955 -8.36187e-11  8.16727e-11  4.06998e-11  2.51645e-10  -0.00597537   0.00597537  -0.00150671  -0.00150671 -4.42736e-09 -5.45863e-09     0.958296          nan          nan          nan          nan          nan          nan          nan          nan          nan          nan          nan          nan\r\n",
      "        -nan         -nan         -nan         -nan         -nan         -nan         -nan         -nan         -nan         -nan         -nan         -nan         -nan         -nan         -nan         -nan         -nan         -nan         -nan         -nan         -nan         -nan         -nan          nan          nan          nan          nan          nan          nan          nan          nan          nan          nan          nan          nan\r\n",
      "        -nan         -nan         -nan         -nan         -nan         -nan         -nan         -nan         -nan         -nan         -nan         -nan         -nan         -nan         -nan         -nan         -nan         -nan         -nan         -nan         -nan         -nan         -nan         -nan         -nan         -nan         -nan         -nan         -nan         -nan         -nan         -nan         -nan         -nan         -nan\r\n",
      "        -nan         -nan         -nan         -nan         -nan         -nan         -nan         -nan         -nan         -nan         -nan         -nan         -nan         -nan         -nan         -nan         -nan         -nan         -nan         -nan         -nan         -nan         -nan         -nan         -nan         -nan         -nan         -nan         -nan         -nan         -nan         -nan         -nan         -nan         -nan\r\n",
      "        -nan         -nan         -nan         -nan         -nan         -nan         -nan         -nan         -nan         -nan         -nan         -nan         -nan         -nan         -nan         -nan         -nan         -nan         -nan         -nan         -nan         -nan         -nan          nan          nan          nan          nan          nan          nan          nan          nan          nan          nan          nan          nan\r\n",
      "        -nan         -nan         -nan         -nan         -nan         -nan         -nan         -nan         -nan         -nan         -nan         -nan         -nan         -nan         -nan         -nan         -nan         -nan         -nan         -nan         -nan         -nan         -nan          nan          nan          nan          nan          nan          nan          nan          nan          nan          nan          nan          nan\r\n",
      "        -nan         -nan         -nan         -nan         -nan         -nan         -nan         -nan         -nan         -nan         -nan         -nan         -nan         -nan         -nan         -nan         -nan         -nan         -nan         -nan         -nan         -nan         -nan         -nan         -nan         -nan         -nan         -nan         -nan         -nan         -nan         -nan         -nan         -nan         -nan\r\n",
      "        -nan         -nan         -nan         -nan         -nan         -nan         -nan         -nan         -nan         -nan         -nan         -nan         -nan         -nan         -nan         -nan         -nan         -nan         -nan         -nan         -nan         -nan         -nan         -nan         -nan         -nan         -nan         -nan         -nan         -nan         -nan         -nan         -nan         -nan         -nan\r\n",
      "        -nan         -nan         -nan         -nan         -nan         -nan         -nan         -nan         -nan         -nan         -nan         -nan         -nan         -nan         -nan         -nan         -nan         -nan         -nan         -nan         -nan         -nan         -nan          nan          nan          nan          nan          nan          nan          nan          nan          nan          nan          nan          nan\r\n",
      "        -nan         -nan         -nan         -nan         -nan         -nan         -nan         -nan         -nan         -nan         -nan         -nan         -nan         -nan         -nan         -nan         -nan         -nan         -nan         -nan         -nan         -nan         -nan          nan          nan          nan          nan          nan          nan          nan          nan          nan          nan          nan          nan\r\n",
      "        -nan         -nan         -nan         -nan         -nan         -nan         -nan         -nan         -nan         -nan         -nan         -nan         -nan         -nan         -nan         -nan         -nan         -nan         -nan         -nan         -nan         -nan         -nan         -nan          nan          nan          nan         -nan          nan          nan          nan         -nan          nan          nan          nan\r\n",
      "        -nan         -nan         -nan         -nan         -nan         -nan         -nan         -nan         -nan         -nan         -nan         -nan         -nan         -nan         -nan         -nan         -nan         -nan         -nan         -nan         -nan         -nan         -nan         -nan          nan          nan          nan         -nan          nan          nan          nan         -nan          nan          nan          nan\r\n",
      "        -nan         -nan         -nan         -nan         -nan         -nan         -nan         -nan         -nan         -nan         -nan         -nan         -nan         -nan         -nan         -nan         -nan         -nan         -nan         -nan         -nan         -nan         -nan         -nan         -nan         -nan         -nan         -nan         -nan         -nan         -nan         -nan         -nan         -nan         -nan\r\n",
      "B\r\n",
      "    0.093811 -1.35743e-11  9.62637e-11  3.20964e-10  1.42499e-11   -0.0328898   4.6806e-10 -4.11095e-10  -2.3845e-10   -0.0155318 -0.000887977 -6.34991e-11     0.012889   -0.0465782 -2.32219e-11    0.0481429  2.59238e-10 -1.01561e-10 -3.59464e-10 -8.39593e-11  0.000110921   -0.0251078  4.90604e-10         -nan         -nan         -nan         -nan         -nan         -nan         -nan         -nan         -nan         -nan         -nan         -nan\r\n",
      "-1.35744e-11     0.093811  2.01028e-10  1.44063e-10   -0.0328898  1.42499e-11 -9.67835e-10  1.19254e-09  5.07353e-10 -0.000887977    0.0155318  2.54852e-10    0.0465782     0.012889    0.0481429  -2.3222e-11 -1.64743e-10 -1.10761e-10  4.29888e-10  5.87565e-10   -0.0251078 -0.000110921  5.38428e-10         -nan         -nan         -nan         -nan         -nan         -nan         -nan         -nan         -nan         -nan         -nan         -nan\r\n",
      " 9.62637e-11  2.01028e-10     0.105868  -0.00531377 -1.87499e-11 -2.58878e-11  -0.00665395   0.00665395   0.00360169 -1.36153e-10  8.74692e-11   0.00163609  2.39223e-11  2.29514e-10  1.51008e-10 -1.30207e-11    0.0640576  -0.00171332   0.00244975    0.0197015 -7.96437e-11  1.94432e-10   -0.0418871         -nan         -nan         -nan         -nan         -nan         -nan         -nan         -nan         -nan         -nan         -nan         -nan\r\n",
      " 3.20964e-10  1.44063e-10  -0.00531377     0.105868 -2.23099e-11 -3.15401e-10  -0.00665395   0.00665395   0.00360169 -1.60338e-10  1.30049e-10   0.00163609 -2.93157e-12   1.9265e-10  9.22051e-12  5.05944e-10   0.00171332   -0.0640576    0.0197015   0.00244975 -5.05768e-12 -4.79923e-11   -0.0418871         -nan         -nan         -nan         -nan         -nan         -nan         -nan         -nan         -nan         -nan         -nan         -nan\r\n",
      " 1.42499e-11   -0.0328898 -1.87499e-11 -2.23099e-11     0.240891 -6.61055e-13 -9.44018e-10  6.54504e-10   5.4939e-10   0.00082581   -0.0144445  1.60934e-10   0.00881226   0.00243851    0.0441772  9.17323e-11 -4.10037e-11  4.25028e-10  2.15134e-10  1.15694e-11  -0.00438142 -1.93562e-05 -5.21076e-10         -nan         -nan         -nan         -nan         -nan         -nan         -nan         -nan         -nan         -nan         -nan         -nan\r\n",
      "  -0.0328898  1.42499e-11 -2.58878e-11 -3.15401e-10 -6.61018e-13     0.240891 -4.38406e-11  4.74007e-11   4.4788e-11    0.0144445   0.00082581 -1.05715e-11   0.00243851  -0.00881226  9.17321e-11    0.0441772 -2.22982e-10   1.9417e-11  1.02601e-10 -2.81424e-10  1.93562e-05  -0.00438142 -4.88506e-10         -nan         -nan         -nan         -nan         -nan         -nan         -nan         -nan         -nan         -nan         -nan         -nan\r\n",
      "  4.6806e-10 -9.67835e-10  -0.00665395  -0.00665395 -9.44018e-10 -4.38406e-11     0.221874    -0.110692   -0.0629982 -1.78788e-11 -5.48463e-10   -0.0286173 -9.99576e-10 -2.90171e-09  7.94432e-10   2.5863e-10    0.0100737   0.00717801    0.0330794   -0.0292648  1.48733e-09 -5.30126e-10  -0.00289062         -nan         -nan         -nan         -nan         -nan         -nan         -nan         -nan         -nan         -nan         -nan         -nan\r\n",
      "-4.11095e-10  1.19254e-09   0.00665395   0.00665395  6.54504e-10  4.74007e-11    -0.110692     0.221874    0.0629982  6.04584e-11  5.72648e-10    0.0286173  1.03644e-09  2.87485e-09 -2.75467e-10 -1.16843e-10   0.00717801    0.0100737    0.0292648   -0.0330794 -1.72939e-09  4.54368e-10   0.00289062         -nan         -nan         -nan         -nan         -nan         -nan         -nan         -nan         -nan         -nan         -nan         -nan\r\n",
      " -2.3845e-10  5.07353e-10   0.00360169   0.00360169   5.4939e-10   4.4788e-11   -0.0629982    0.0629982     0.429278  2.30983e-10  6.84386e-10   -0.0121538  4.21575e-10   8.9774e-10 -4.70421e-10 -1.29991e-10  6.20121e-06 -6.20124e-06 -1.82789e-05 -1.82789e-05 -1.01358e-09  6.37649e-10 -5.44745e-05         -nan         -nan         -nan         -nan         -nan         -nan         -nan         -nan         -nan         -nan         -nan         -nan\r\n",
      "  -0.0155318 -0.000887977 -1.36153e-10 -1.60338e-10   0.00082581    0.0144445 -1.78788e-11  6.04584e-11  2.30983e-10     0.463967 -2.13399e-12 -1.17866e-10 -0.000207796  0.000612505 -0.000592213   -0.0103586  -6.6355e-10  5.11929e-12 -1.34042e-10 -1.50677e-09  0.000934044    0.0177102 -1.63369e-09         -nan         -nan         -nan         -nan         -nan         -nan         -nan         -nan         -nan         -nan         -nan         -nan\r\n",
      "-0.000887977    0.0155318  8.74692e-11  1.30049e-10   -0.0144445   0.00082581 -5.48463e-10  5.72648e-10  6.84386e-10 -2.13385e-12     0.463967 -1.23375e-10  0.000612505  0.000207796    0.0103586 -0.000592213  2.66349e-11 -1.39937e-09 -6.97412e-10 -3.89813e-11   -0.0177102  0.000934044  1.78276e-09         -nan         -nan         -nan         -nan         -nan         -nan         -nan         -nan         -nan         -nan         -nan         -nan\r\n",
      "-6.34991e-11  2.54852e-10   0.00163609   0.00163609  1.60934e-10 -1.05715e-11   -0.0286173    0.0286173   -0.0121538 -1.17866e-10 -1.23375e-10     0.636067  -4.9524e-11  4.09099e-10  1.95683e-10 -8.27722e-11  -0.00672376   0.00672376    0.0198191    0.0198191  -9.9247e-11   2.2957e-12 -4.33106e-05         -nan         -nan         -nan         -nan         -nan         -nan         -nan         -nan         -nan         -nan         -nan         -nan\r\n",
      "    0.012889    0.0465782  2.39223e-11 -2.93157e-12   0.00881226   0.00243851 -9.99576e-10  1.03644e-09  4.21575e-10 -0.000207796  0.000612505  -4.9524e-11     0.917068 -7.51681e-11    -0.021484  -0.00594501 -2.20545e-10   4.5325e-10  1.22695e-09  7.74791e-10    0.0223766   0.00629854 -1.02093e-10         -nan         -nan         -nan         -nan         -nan         -nan         -nan         -nan         -nan         -nan         -nan         -nan\r\n",
      "  -0.0465782     0.012889  2.29514e-10   1.9265e-10   0.00243851  -0.00881226 -2.90171e-09  2.87485e-09   8.9774e-10  0.000612505  0.000207796  4.09099e-10 -7.51681e-11     0.917068  -0.00594501     0.021484 -7.40915e-10  1.19308e-09  2.67331e-09  2.90602e-09   0.00629854   -0.0223766 -6.26714e-11         -nan         -nan         -nan         -nan         -nan         -nan         -nan         -nan         -nan         -nan         -nan         -nan\r\n",
      "-2.32219e-11    0.0481429  1.51008e-10  9.22051e-12    0.0441772  9.17321e-11  7.94432e-10 -2.75467e-10 -4.70421e-10 -0.000592213    0.0103586  1.95683e-10    -0.021484  -0.00594501     0.981535   7.1947e-11 -5.42441e-11  1.86564e-10 -5.45304e-11  1.35585e-10   0.00424838  1.87685e-05 -2.61233e-10         -nan         -nan         -nan         -nan         -nan         -nan         -nan         -nan         -nan         -nan         -nan         -nan\r\n",
      "   0.0481429  -2.3222e-11 -1.30207e-11  5.05944e-10  9.17323e-11    0.0441772   2.5863e-10 -1.16843e-10 -1.29991e-10   -0.0103586 -0.000592213 -8.27722e-11  -0.00594501     0.021484  7.19471e-11     0.981535    2.943e-11  1.60686e-10 -1.09486e-10 -2.41806e-10 -1.87684e-05   0.00424838   1.7519e-10         -nan         -nan         -nan         -nan         -nan         -nan         -nan         -nan         -nan         -nan         -nan         -nan\r\n",
      " 2.59238e-10 -1.64743e-10    0.0640576   0.00171332 -4.10037e-11 -2.22982e-10    0.0100737   0.00717801  6.20121e-06  -6.6355e-10  2.66349e-11  -0.00672376 -2.20545e-10 -7.40915e-10 -5.42441e-11    2.943e-11      1.06906   -0.0127934   -0.0247279   -0.0247279  3.94559e-10 -2.10738e-10   -0.0150527         -nan         -nan         -nan         -nan         -nan         -nan         -nan         -nan         -nan         -nan         -nan         -nan\r\n",
      "-1.01561e-10 -1.10761e-10  -0.00171332   -0.0640576  4.25028e-10   1.9417e-11   0.00717801    0.0100737 -6.20124e-06  5.11929e-12 -1.39937e-09   0.00672376   4.5325e-10  1.19308e-09  1.86564e-10  1.60686e-10   -0.0127934      1.06906    0.0247279    0.0247279 -2.19088e-10 -1.17394e-12    0.0150527         -nan         -nan         -nan         -nan         -nan         -nan         -nan         -nan         -nan         -nan         -nan         -nan\r\n",
      "-3.59464e-10  4.29888e-10   0.00244975    0.0197015  2.15134e-10  1.02601e-10    0.0330794    0.0292648 -1.82789e-05 -1.34042e-10 -6.97412e-10    0.0198191  1.22695e-09  2.67331e-09 -5.45304e-11 -1.09486e-10   -0.0247279    0.0247279      1.13356     0.077293 -8.79534e-10  5.99717e-10   -0.0054463         -nan         -nan         -nan         -nan         -nan         -nan         -nan         -nan         -nan         -nan         -nan         -nan\r\n",
      "-8.39593e-11  5.87565e-10    0.0197015   0.00244975  1.15694e-11 -2.81424e-10   -0.0292648   -0.0330794 -1.82789e-05 -1.50677e-09 -3.89813e-11    0.0198191  7.74791e-10  2.90602e-09  1.35585e-10 -2.41806e-10   -0.0247279    0.0247279     0.077293      1.13356 -1.09067e-09  4.24421e-10   -0.0054463         -nan         -nan         -nan         -nan         -nan         -nan         -nan         -nan         -nan         -nan         -nan         -nan\r\n",
      "  0.00025339   -0.0573567 -4.71826e-10 -4.19874e-10  -0.00347861  1.53678e-05  7.51813e-09 -7.82178e-09 -1.20428e-09  0.000537495   -0.0101913 -2.34333e-10    0.0179438    0.0050508    0.0191591 -8.46411e-05  9.06529e-11 -7.12081e-11  1.66063e-10 -5.13617e-12     0.600541  2.21532e-10 -3.19168e-09         -nan         -nan         -nan         -nan         -nan         -nan         -nan         -nan         -nan         -nan         -nan         -nan\r\n",
      "  -0.0573567  -0.00025339   3.4436e-10  4.15487e-11 -1.53678e-05  -0.00347861  -4.3445e-09  4.29114e-09   7.1713e-10    0.0101913  0.000537495  1.52039e-10    0.0050508   -0.0179438   8.4641e-05    0.0191591  1.00929e-10 -2.71832e-10 -3.21867e-11 -5.08196e-11  2.21532e-10     0.600541  -5.0442e-09         -nan         -nan         -nan         -nan         -nan         -nan         -nan         -nan         -nan         -nan         -nan         -nan\r\n",
      " 1.98293e-10  3.36866e-10   -0.0423679   -0.0423679 -5.91088e-10 -4.73072e-10  -0.00285947   0.00285947  0.000438694 -1.50212e-09  1.61579e-09  0.000214562 -5.05832e-11 -4.23501e-11 -3.64381e-10  1.53185e-10   -0.0160922    0.0160922  -0.00533581  -0.00533581 -3.64822e-09 -5.04863e-09       1.9848         -nan         -nan         -nan         -nan         -nan         -nan         -nan         -nan         -nan         -nan         -nan         -nan\r\n",
      "        -nan         -nan         -nan         -nan         -nan         -nan         -nan         -nan         -nan         -nan         -nan         -nan         -nan         -nan         -nan         -nan         -nan         -nan         -nan         -nan         -nan         -nan         -nan         -nan         -nan         -nan         -nan         -nan         -nan         -nan         -nan         -nan         -nan         -nan         -nan\r\n",
      "        -nan         -nan         -nan         -nan         -nan         -nan         -nan         -nan         -nan         -nan         -nan         -nan         -nan         -nan         -nan         -nan         -nan         -nan         -nan         -nan         -nan         -nan         -nan         -nan         -nan         -nan         -nan         -nan         -nan         -nan         -nan         -nan         -nan         -nan         -nan\r\n",
      "        -nan         -nan         -nan         -nan         -nan         -nan         -nan         -nan         -nan         -nan         -nan         -nan         -nan         -nan         -nan         -nan         -nan         -nan         -nan         -nan         -nan         -nan         -nan         -nan         -nan         -nan         -nan         -nan         -nan         -nan         -nan         -nan         -nan         -nan         -nan\r\n",
      "        -nan         -nan         -nan         -nan         -nan         -nan         -nan         -nan         -nan         -nan         -nan         -nan         -nan         -nan         -nan         -nan         -nan         -nan         -nan         -nan         -nan         -nan         -nan         -nan         -nan         -nan         -nan         -nan         -nan         -nan         -nan         -nan         -nan         -nan         -nan\r\n",
      "        -nan         -nan         -nan         -nan         -nan         -nan         -nan         -nan         -nan         -nan         -nan         -nan         -nan         -nan         -nan         -nan         -nan         -nan         -nan         -nan         -nan         -nan         -nan         -nan         -nan         -nan         -nan         -nan         -nan         -nan         -nan         -nan         -nan         -nan         -nan\r\n",
      "        -nan         -nan         -nan         -nan         -nan         -nan         -nan         -nan         -nan         -nan         -nan         -nan         -nan         -nan         -nan         -nan         -nan         -nan         -nan         -nan         -nan         -nan         -nan         -nan         -nan         -nan         -nan         -nan         -nan         -nan         -nan         -nan         -nan         -nan         -nan\r\n",
      "        -nan         -nan         -nan         -nan         -nan         -nan         -nan         -nan         -nan         -nan         -nan         -nan         -nan         -nan         -nan         -nan         -nan         -nan         -nan         -nan         -nan         -nan         -nan         -nan         -nan         -nan         -nan         -nan         -nan         -nan         -nan         -nan         -nan         -nan         -nan\r\n",
      "        -nan         -nan         -nan         -nan         -nan         -nan         -nan         -nan         -nan         -nan         -nan         -nan         -nan         -nan         -nan         -nan         -nan         -nan         -nan         -nan         -nan         -nan         -nan         -nan         -nan         -nan         -nan         -nan         -nan         -nan         -nan         -nan         -nan         -nan         -nan\r\n",
      "        -nan         -nan         -nan         -nan         -nan         -nan         -nan         -nan         -nan         -nan         -nan         -nan         -nan         -nan         -nan         -nan         -nan         -nan         -nan         -nan         -nan         -nan         -nan         -nan         -nan         -nan         -nan         -nan         -nan         -nan         -nan         -nan         -nan         -nan         -nan\r\n",
      "        -nan         -nan         -nan         -nan         -nan         -nan         -nan         -nan         -nan         -nan         -nan         -nan         -nan         -nan         -nan         -nan         -nan         -nan         -nan         -nan         -nan         -nan         -nan         -nan         -nan         -nan         -nan         -nan         -nan         -nan         -nan         -nan         -nan         -nan         -nan\r\n",
      "        -nan         -nan         -nan         -nan         -nan         -nan         -nan         -nan         -nan         -nan         -nan         -nan         -nan         -nan         -nan         -nan         -nan         -nan         -nan         -nan         -nan         -nan         -nan         -nan         -nan         -nan         -nan         -nan         -nan         -nan         -nan         -nan         -nan         -nan         -nan\r\n",
      "        -nan         -nan         -nan         -nan         -nan         -nan         -nan         -nan         -nan         -nan         -nan         -nan         -nan         -nan         -nan         -nan         -nan         -nan         -nan         -nan         -nan         -nan         -nan          nan          nan          nan          nan          nan          nan          nan          nan          nan          nan          nan          nan\r\n",
      "an error occurred:\r\n",
      "Small generalized eigenvalue problem failed.\r\n"
     ]
    }
   ],
   "source": [
    "!xtp_tools -c job_name=CO geometry_optimization.maxiter=1 dftpackage.basisset=3-21G dftpackage.auxbasisset=aux-def2-svp gwbse.gw.mode=G0W0 -e dftgwbse -t 4"
   ]
  },
  {
   "cell_type": "markdown",
   "metadata": {},
   "source": [
    "Notice that we are using 4 threads. The results will be stored in a file named `CO_summary.xml` in the current work directory, together with the optimization step in `optimisation.trj` and the orbitals in [hdf5 format](https://www.hdfgroup.org/solutions/hdf5/) saved on `CO.orb`."
   ]
  }
 ],
 "metadata": {
  "kernelspec": {
   "display_name": "Python 3",
   "language": "python",
   "name": "python3"
  },
  "language_info": {
   "codemirror_mode": {
    "name": "ipython",
    "version": 3
   },
   "file_extension": ".py",
   "mimetype": "text/x-python",
   "name": "python",
   "nbconvert_exporter": "python",
   "pygments_lexer": "ipython3",
   "version": "3.10.2"
  }
 },
 "nbformat": 4,
 "nbformat_minor": 4
}
