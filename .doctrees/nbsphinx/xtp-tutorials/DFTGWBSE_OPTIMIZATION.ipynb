{
 "cells": [
  {
   "cell_type": "markdown",
   "metadata": {},
   "source": [
    "## DFT + GWBSE Optimization Using CO"
   ]
  },
  {
   "cell_type": "markdown",
   "metadata": {},
   "source": [
    "## Introduction\n",
    "This tutorial explains how to perform a molecular geometric optimization using the **GWBSE** method. See [the GW Compendium: A Practical Guide to Theoretical Photoemission Spectroscopy](https://doi.org/10.3389/fchem.2019.00377), for an excellent introduction to the method."
   ]
  },
  {
   "cell_type": "markdown",
   "metadata": {},
   "source": [
    "## Requirements\n",
    "* You will need to install **VOTCA** using the instructions described [here](https://github.com/votca/votca/blob/master/share/doc/INSTALL.rst)\n",
    "* Once the installation is completed you need to activate the VOTCA enviroment by running the `VOTCARC.bash` script that has been installed at the bin subfolder for the path that you have provided for the installation step above"
   ]
  },
  {
   "cell_type": "markdown",
   "metadata": {},
   "source": [
    "## Preparing the input\n",
    "To run a DFT-GWBSE calculation we will use the [xtp_tools](https://www.votca.org/xtp/xtp_tools_overview.html) calculator."
   ]
  },
  {
   "cell_type": "markdown",
   "metadata": {},
   "source": [
    "we can now change the calculator mode from single point energy calculation to optimization as follows by adding \n",
    "`-c geometry_optimization.maxiter=1` which enables optimization with one iteration. "
   ]
  },
  {
   "cell_type": "markdown",
   "metadata": {},
   "source": [
    "Because geometry optimsation is quite expensive numerically we chose a smaller basisset and G0W0 Finally, to run the calculation we just need the following command (This still takes a while)"
   ]
  },
  {
   "cell_type": "code",
   "execution_count": 1,
   "metadata": {
    "execution": {
     "iopub.execute_input": "2022-06-03T06:02:17.785130Z",
     "iopub.status.busy": "2022-06-03T06:02:17.784419Z",
     "iopub.status.idle": "2022-06-03T06:03:04.974269Z",
     "shell.execute_reply": "2022-06-03T06:03:04.974624Z"
    }
   },
   "outputs": [
    {
     "name": "stdout",
     "output_type": "stream",
     "text": [
      "==================================================\r\n",
      "========   VOTCA (http://www.votca.org)   ========\r\n",
      "==================================================\r\n",
      "\r\n",
      "please submit bugs to https://github.com/votca/xtp/issues\r\n",
      "\r\n",
      "xtp_tools, version 2023-dev gitid: 0287a5c (compiled Jun  3 2022, 05:53:56)\r\n",
      "votca_csg, version 2023-dev gitid: 0287a5c (compiled Jun  3 2022, 05:39:29)\r\n",
      "votca_tools, version 2023-dev gitid: 0287a5c (compiled Jun  3 2022, 05:36:58)\r\n",
      "\r\n",
      "Initializing tool\r\n",
      "... dftgwbse Evaluating tool\r\n",
      "... dftgwbse  Using 4 threads\r\n",
      "... ... Reading structure from CO.xyz\r\n",
      "... ... Requested geometry optimization of excited state s1\r\n",
      "... ... Initial state: s1\r\n",
      "... ... WARNING: No tracker is used \r\n",
      "... ... Convergence of total energy: 0.000001 Hartree \r\n",
      "... ... Convergence of RMS Force:    0.000030 Hartree/Bohr \r\n",
      "... ... Convergence of Max Force:    0.000100 Hartree/Bohr \r\n",
      "... ... Convergence of RMS Step:     0.000600 Bohr \r\n",
      "... ... Convergence of Max Step:     0.001000 Bohr \r\n",
      "... ... Initial trust radius:        0.018897 Bohr\r\n",
      "... ... \r\n",
      "... ... =========== OPTIMIZATION SUMMARY ================================= \r\n",
      "... ... At iteration  0\r\n",
      "... ...  ---- POSITIONS (Angstrom)   \r\n",
      "... ...  Atom\t x\t  y\t  z \r\n",
      "... ...    0    +0.0000  +0.0000  +0.0000\r\n",
      "... ...    1    +1.2000  +0.0000  +0.0000\r\n",
      "... ...    Total energy:     -112.26831841 Hartree \r\n",
      "... ...    Trust radius:       0.01889726 Bohr     \r\n",
      "... ...  ---- FORCES (Hartree/Bohr)   \r\n",
      "... ...       central differences   \r\n",
      "... ...       displacement 0.0010 Angstrom   \r\n",
      "... ...  Atom\t x\t  y\t  z \r\n",
      "... ...    0    -0.1314  -0.0000  -0.0000\r\n",
      "... ...    1    +0.1314  +0.0000  +0.0000A\r\n",
      "    0.300728 -1.50025e-15 -4.03873e-14  3.98421e-14   -0.0519964 -3.04656e-16  2.62697e-11  2.65299e-11  1.38432e-11   -0.0175948  2.59596e-05  4.56925e-12    0.0390319  0.000161638    0.0424178  2.77977e-16 -1.08611e-14 -9.11982e-15 -3.59828e-12  3.93571e-12     0.107004 -1.34949e-05  2.47656e-14          nan          nan          nan          nan          nan          nan          nan          nan          nan          nan          nan          nan\r\n",
      "-1.56248e-15     0.300728  2.04386e-12 -2.30395e-12 -3.43158e-16   -0.0519964  1.26117e-14  1.20578e-14  4.59496e-15 -2.59596e-05   -0.0175948  1.75667e-15  0.000161638   -0.0390319  3.32423e-16    0.0424178  5.54824e-13  2.17438e-13 -1.35319e-15  3.10918e-15  1.34949e-05     0.107004  1.40002e-13          nan          nan          nan          nan          nan          nan          nan          nan          nan          nan          nan          nan\r\n",
      "-4.03873e-14  2.04386e-12     0.309472    0.0100863  2.20331e-15 -1.27515e-12 -0.000341807 -0.000341807 -0.000134829  2.81711e-14  2.20847e-12  -6.0988e-05 -1.22036e-14  3.11818e-13  1.43538e-14 -4.10488e-13    0.0491923   0.00194363  4.47263e-05  0.000150939 -2.31222e-13  1.98003e-12    0.0247291          nan          nan          nan          nan          nan          nan          nan          nan          nan          nan          nan          nan\r\n",
      " 3.98422e-14 -2.30395e-12    0.0100863     0.309472 -2.29436e-16  4.92772e-13  0.000341807  0.000341807  0.000134829 -2.72824e-14  3.57217e-14   6.0988e-05  1.25964e-14 -3.85514e-13  -9.5559e-15 -3.84569e-12  -0.00194363   -0.0491923  0.000150939  4.47263e-05  2.30369e-13 -2.47725e-12   -0.0247291          nan          nan          nan          nan          nan          nan          nan          nan          nan          nan          nan          nan\r\n",
      "  -0.0519964 -3.42548e-16  2.20334e-15 -2.29425e-16     0.486555 -1.48249e-15 -7.08518e-13   7.3828e-14  -7.4642e-13     0.013646 -2.01334e-05  1.84671e-12   0.00832831   3.4489e-05    0.0300841  4.82979e-16 -2.04045e-15 -4.44804e-15 -1.40044e-12  9.69918e-13   -0.0551239  6.95196e-06  2.66425e-14          nan          nan          nan          nan          nan          nan          nan          nan          nan          nan          nan          nan\r\n",
      "-2.98309e-16   -0.0519964 -1.27515e-12  4.92772e-13 -1.54943e-15     0.486555 -2.58339e-15 -6.29688e-16 -2.86264e-16  2.01334e-05     0.013646  3.36882e-16   3.4489e-05  -0.00832831  4.63061e-16    0.0300841 -4.44015e-13 -1.35057e-14 -8.12831e-16 -1.54988e-15 -6.95196e-06   -0.0551239 -1.09276e-12          nan          nan          nan          nan          nan          nan          nan          nan          nan          nan          nan          nan\r\n",
      " 2.62697e-11  1.26118e-14 -0.000341807  0.000341807 -7.08518e-13  -2.5834e-15     0.541141     0.221583    0.0913839 -1.66952e-11  2.21288e-14    0.0413363  7.57806e-12  3.21345e-14 -1.06772e-11 -2.08671e-15  -8.7304e-05  0.000108361    0.0134227     0.033826  1.59896e-10  2.52748e-14  0.000493264          nan          nan          nan          nan          nan          nan          nan          nan          nan          nan          nan          nan\r\n",
      " 2.65299e-11  1.20578e-14 -0.000341807  0.000341807   7.3828e-14 -6.29719e-16     0.221583     0.541141    0.0913839 -1.89395e-11  2.30792e-14    0.0413363  7.50429e-12  3.17813e-14 -6.42102e-12  2.65952e-15  0.000108361  -8.7304e-05    -0.033826   -0.0134227  1.60402e-10  2.46684e-14  0.000493264          nan          nan          nan          nan          nan          nan          nan          nan          nan          nan          nan          nan\r\n",
      " 1.38432e-11  4.59519e-15 -0.000134829  0.000134829  -7.4642e-13 -2.86265e-16    0.0913839    0.0913839     0.659711 -9.57571e-12  1.09457e-14  -0.00509591  3.48442e-13  1.84821e-15  -3.2687e-12 -1.00049e-15 -1.28485e-05 -1.28485e-05  -0.00481983   0.00481983  6.45412e-11  7.90743e-15  0.000183936          nan          nan          nan          nan          nan          nan          nan          nan          nan          nan          nan          nan\r\n",
      "  -0.0175948 -2.59596e-05   2.8171e-14 -2.72821e-14     0.013646  2.01334e-05 -1.66952e-11 -1.89395e-11 -9.57571e-12     0.667191  2.39389e-15 -2.33078e-12  2.39772e-05  6.39172e-08  -0.00908944 -1.34106e-05   7.8894e-15 -4.13495e-15   2.1493e-13 -3.16609e-12   -0.0409783 -5.52918e-05 -1.56472e-14          nan          nan          nan          nan          nan          nan          nan          nan          nan          nan          nan          nan\r\n",
      " 2.59596e-05   -0.0175948  2.20847e-12  3.57216e-14 -2.01334e-05     0.013646  2.21288e-14  2.30793e-14  1.09457e-14  2.45859e-15     0.667191  2.93587e-15  6.39172e-08 -2.39772e-05  1.34106e-05  -0.00908944 -3.38703e-12 -4.35872e-13 -2.61675e-15 -9.42659e-15  5.52918e-05   -0.0409783  4.69529e-12          nan          nan          nan          nan          nan          nan          nan          nan          nan          nan          nan          nan\r\n",
      " 4.56925e-12  1.75667e-15  -6.0988e-05   6.0988e-05  1.84671e-12  3.37113e-16    0.0413363    0.0413363  -0.00509591 -2.33078e-12   2.9359e-15     0.792641  2.29272e-12  9.35993e-15 -3.34706e-12 -7.01864e-16 -4.09469e-05 -4.09469e-05   -0.0153604    0.0153604  2.09938e-11  2.75003e-15   8.6862e-05          nan          nan          nan          nan          nan          nan          nan          nan          nan          nan          nan          nan\r\n",
      "   0.0390319  0.000161638 -1.22036e-14  1.25964e-14   0.00832831   3.4489e-05  7.57806e-12  7.50429e-12  3.48442e-13  2.39772e-05  6.39172e-08  2.29272e-12     0.954094 -5.82664e-15   -0.0128555 -5.32369e-05 -2.31251e-14 -2.40723e-14 -8.37747e-12  7.44096e-12   -0.0198872 -7.98481e-05  5.32994e-15          nan          nan          nan          nan          nan          nan          nan          nan          nan          nan          nan          nan\r\n",
      " 0.000161638   -0.0390319  3.11818e-13 -3.85514e-13   3.4489e-05  -0.00832831  3.21345e-14  3.17813e-14  1.84822e-15  6.39172e-08 -2.39772e-05  9.35993e-15  -5.8084e-15     0.954094 -5.32369e-05    0.0128555  1.09932e-12  1.62845e-13 -3.32263e-14  3.41938e-14 -7.98481e-05    0.0198872  4.91891e-13          nan          nan          nan          nan          nan          nan          nan          nan          nan          nan          nan          nan\r\n",
      "   0.0424178  3.44951e-16  1.43539e-14 -9.55589e-15    0.0300841  4.68502e-16 -1.06772e-11 -6.42102e-12  -3.2687e-12  -0.00908944  1.34106e-05 -3.34706e-12   -0.0128555 -5.32369e-05     0.972602 -2.22383e-15   4.6174e-15  9.75394e-15  3.17509e-12 -2.15271e-12      0.02299 -2.89939e-06 -2.18339e-14          nan          nan          nan          nan          nan          nan          nan          nan          nan          nan          nan          nan\r\n",
      " 2.88392e-16    0.0424178 -4.10488e-13 -3.84569e-12  4.96391e-16    0.0300841  -2.0867e-15   2.6596e-15  -1.0005e-15 -1.34106e-05  -0.00908944 -7.01864e-16 -5.32369e-05    0.0128555 -2.28673e-15     0.972602  2.94222e-13 -7.28164e-13  3.90755e-15  1.21406e-15  2.89939e-06      0.02299 -4.54161e-13          nan          nan          nan          nan          nan          nan          nan          nan          nan          nan          nan          nan\r\n",
      "-1.08611e-14  5.54824e-13    0.0491923  -0.00194363 -2.04045e-15 -4.44015e-13  -8.7304e-05  0.000108361 -1.28485e-05   7.8894e-15 -3.38703e-12 -4.09469e-05 -2.31251e-14  1.09932e-12   4.6174e-15  2.94222e-13      1.02072    0.0020867  0.000113712 -0.000113712 -5.81656e-14  8.46982e-14   0.00474818          nan          nan          nan          nan          nan          nan          nan          nan          nan          nan          nan          nan\r\n",
      "-9.11981e-15  2.17438e-13   0.00194363   -0.0491923 -4.44804e-15 -1.35057e-14  0.000108361  -8.7304e-05 -1.28485e-05 -4.13495e-15 -4.35872e-13 -4.09469e-05 -2.40723e-14  1.62845e-13  9.75395e-15 -7.28164e-13    0.0020867      1.02072  0.000113712 -0.000113712 -5.67603e-14 -2.29976e-13   0.00474818          nan          nan          nan          nan          nan          nan          nan          nan          nan          nan          nan          nan\r\n",
      "-3.59828e-12  -1.3532e-15  4.47263e-05  0.000150939 -1.40044e-12 -8.12831e-16    0.0134227    -0.033826  -0.00481983   2.1493e-13 -2.61675e-15   -0.0153604 -8.37747e-12 -3.32263e-14  3.17509e-12  3.90755e-15  0.000113712  0.000113712      1.06337   -0.0447432 -2.20617e-11  -4.2028e-15  7.22302e-05          nan          nan          nan          nan          nan          nan          nan          nan          nan          nan          nan          nan\r\n",
      " 3.93571e-12  3.10918e-15  0.000150939  4.47263e-05  9.69918e-13 -1.54988e-15     0.033826   -0.0134227   0.00481983 -3.16609e-12 -9.42656e-15    0.0153604  7.44096e-12  3.41938e-14 -2.15271e-12  1.21406e-15 -0.000113712 -0.000113712   -0.0447432      1.06337  2.23806e-11  5.33327e-15 -7.22302e-05          nan          nan          nan          nan          nan          nan          nan          nan          nan          nan          nan          nan\r\n",
      "  -0.0745352 -9.40001e-06  1.64307e-13 -1.62287e-13    0.0700995   8.8406e-06  -1.0428e-10 -1.03015e-10 -5.13572e-11    0.0303572 -4.09609e-05 -1.77417e-11   0.00921193  3.69864e-05   -0.0362794 -4.57538e-06  4.90216e-14  5.20074e-14  1.81631e-11 -1.76202e-11    -0.195077 -1.33866e-14  7.46676e-13          nan          nan          nan          nan          nan          nan          nan          nan          nan          nan          nan          nan\r\n",
      " 9.40001e-06   -0.0745352 -3.48868e-12  2.20574e-12  -8.8406e-06    0.0700995 -3.32247e-14 -3.04652e-14 -1.26083e-14  4.09609e-05    0.0303572 -5.13707e-15  3.69864e-05  -0.00921193  4.57538e-06   -0.0362794  6.43261e-14 -4.79925e-13  2.82079e-15  1.28489e-16  -1.3388e-14    -0.195077 -4.87872e-11          nan          nan          nan          nan          nan          nan          nan          nan          nan          nan          nan          nan\r\n",
      " 1.11806e-13 -5.99696e-12    0.0140603   -0.0140603 -1.54739e-14  4.10432e-12    0.0007177    0.0007177  0.000274808 -5.60479e-14  5.97316e-12  0.000124461  9.75359e-15 -1.50282e-12  -1.0068e-14 -1.10943e-12   0.00609591   0.00609591   5.1889e-05  -5.1889e-05  1.62456e-12  -5.0331e-11     0.939594          nan          nan          nan          nan          nan          nan          nan          nan          nan          nan          nan          nan\r\n",
      "        -nan         -nan         -nan         -nan         -nan         -nan         -nan         -nan         -nan         -nan         -nan         -nan         -nan         -nan         -nan         -nan         -nan         -nan         -nan         -nan         -nan         -nan         -nan          nan          nan          nan          nan          nan          nan          nan          nan          nan          nan          nan          nan\r\n",
      "        -nan         -nan         -nan         -nan         -nan         -nan         -nan         -nan         -nan         -nan         -nan         -nan         -nan         -nan         -nan         -nan         -nan         -nan         -nan         -nan         -nan         -nan         -nan         -nan         -nan         -nan         -nan         -nan         -nan         -nan         -nan         -nan         -nan         -nan         -nan\r\n",
      "        -nan         -nan         -nan         -nan         -nan         -nan         -nan         -nan         -nan         -nan         -nan         -nan         -nan         -nan         -nan         -nan         -nan         -nan         -nan         -nan         -nan         -nan         -nan         -nan         -nan         -nan         -nan         -nan         -nan         -nan         -nan         -nan         -nan         -nan         -nan\r\n",
      "        -nan         -nan         -nan         -nan         -nan         -nan         -nan         -nan         -nan         -nan         -nan         -nan         -nan         -nan         -nan         -nan         -nan         -nan         -nan         -nan         -nan         -nan         -nan          nan          nan          nan          nan          nan          nan          nan          nan          nan          nan          nan          nan\r\n",
      "        -nan         -nan         -nan         -nan         -nan         -nan         -nan         -nan         -nan         -nan         -nan         -nan         -nan         -nan         -nan         -nan         -nan         -nan         -nan         -nan         -nan         -nan         -nan          nan          nan          nan          nan          nan          nan          nan          nan          nan          nan          nan          nan\r\n",
      "        -nan         -nan         -nan         -nan         -nan         -nan         -nan         -nan         -nan         -nan         -nan         -nan         -nan         -nan         -nan         -nan         -nan         -nan         -nan         -nan         -nan         -nan         -nan         -nan         -nan         -nan         -nan         -nan         -nan         -nan         -nan         -nan         -nan         -nan         -nan\r\n",
      "        -nan         -nan         -nan         -nan         -nan         -nan         -nan         -nan         -nan         -nan         -nan         -nan         -nan         -nan         -nan         -nan         -nan         -nan         -nan         -nan         -nan         -nan         -nan         -nan         -nan         -nan         -nan         -nan         -nan         -nan         -nan         -nan         -nan         -nan         -nan\r\n",
      "        -nan         -nan         -nan         -nan         -nan         -nan         -nan         -nan         -nan         -nan         -nan         -nan         -nan         -nan         -nan         -nan         -nan         -nan         -nan         -nan         -nan         -nan         -nan          nan          nan          nan          nan          nan          nan          nan          nan          nan          nan          nan          nan\r\n",
      "        -nan         -nan         -nan         -nan         -nan         -nan         -nan         -nan         -nan         -nan         -nan         -nan         -nan         -nan         -nan         -nan         -nan         -nan         -nan         -nan         -nan         -nan         -nan          nan          nan          nan          nan          nan          nan          nan          nan          nan          nan          nan          nan\r\n",
      "        -nan         -nan         -nan         -nan         -nan         -nan         -nan         -nan         -nan         -nan         -nan         -nan         -nan         -nan         -nan         -nan         -nan         -nan         -nan         -nan         -nan         -nan         -nan         -nan          nan          nan          nan         -nan          nan          nan          nan         -nan          nan          nan          nan\r\n",
      "        -nan         -nan         -nan         -nan         -nan         -nan         -nan         -nan         -nan         -nan         -nan         -nan         -nan         -nan         -nan         -nan         -nan         -nan         -nan         -nan         -nan         -nan         -nan         -nan          nan          nan          nan         -nan          nan          nan          nan         -nan          nan          nan          nan\r\n",
      "        -nan         -nan         -nan         -nan         -nan         -nan         -nan         -nan         -nan         -nan         -nan         -nan         -nan         -nan         -nan         -nan         -nan         -nan         -nan         -nan         -nan         -nan         -nan         -nan         -nan         -nan         -nan         -nan         -nan         -nan         -nan         -nan         -nan         -nan         -nan\r\n",
      "B\r\n",
      "   0.0901503 -7.64854e-16 -1.54853e-14  1.56379e-14   -0.0325949 -1.58388e-16  9.86209e-12  1.03972e-11  8.89778e-12   -0.0147607  2.17781e-05  3.29364e-12    0.0480905  0.000199151    0.0477326  2.40432e-16 -8.58244e-15 -5.38289e-15 -2.32656e-12  2.93123e-12    0.0243816 -3.07489e-06  1.28854e-13         -nan         -nan         -nan         -nan         -nan         -nan         -nan         -nan         -nan         -nan         -nan         -nan\r\n",
      "-8.01072e-16    0.0901503  8.55409e-13 -1.39048e-12  -1.6834e-16   -0.0325949  5.07987e-15  5.22715e-15  2.93177e-15 -2.17781e-05   -0.0147607  1.28854e-15  0.000199151   -0.0480905  2.90059e-16    0.0477326  9.02072e-13  2.97446e-13 -7.78447e-16  3.99555e-15  3.07489e-06    0.0243816  -5.7887e-12         -nan         -nan         -nan         -nan         -nan         -nan         -nan         -nan         -nan         -nan         -nan         -nan\r\n",
      "-1.54853e-14  8.55409e-13    0.0988833   0.00551449  1.60366e-15 -7.47383e-13 -0.000166405 -0.000166405  -9.6704e-05  2.07506e-14   2.2262e-12 -4.74139e-05 -1.45277e-14    2.974e-13   1.6129e-14  -4.9903e-13    0.0657346   0.00223432  3.67894e-05  0.000226176 -2.41242e-15 -1.65242e-12    0.0406635         -nan         -nan         -nan         -nan         -nan         -nan         -nan         -nan         -nan         -nan         -nan         -nan\r\n",
      " 1.56379e-14 -1.39048e-12   0.00551449    0.0988833 -2.55445e-16  2.50597e-13  0.000166405  0.000166405   9.6704e-05 -1.98488e-14  1.15876e-13  4.74139e-05  1.51803e-14 -4.51357e-13 -1.01998e-14 -4.74241e-12  -0.00223432   -0.0657346  0.000226176  3.67894e-05  3.50967e-15 -2.98618e-13   -0.0406635         -nan         -nan         -nan         -nan         -nan         -nan         -nan         -nan         -nan         -nan         -nan         -nan\r\n",
      "  -0.0325949 -1.73336e-16  1.60369e-15  -2.5543e-16     0.236331 -1.40369e-15 -5.39666e-13 -4.28997e-14 -5.61732e-13    0.0143743  -2.1208e-05  2.17714e-12   0.00952462  3.94431e-05    0.0423454   5.0732e-16 -2.71209e-15 -7.08481e-15 -2.19388e-12  1.41468e-12   0.00354089 -4.46559e-07  1.55235e-14         -nan         -nan         -nan         -nan         -nan         -nan         -nan         -nan         -nan         -nan         -nan         -nan\r\n",
      "-1.47829e-16   -0.0325949 -7.47383e-13  2.50597e-13 -1.46699e-15     0.236331  -1.5025e-15 -1.76102e-16 -1.69684e-16   2.1208e-05    0.0143743  4.37772e-16  3.94431e-05  -0.00952462  4.85715e-16    0.0423454 -7.77487e-13  1.69587e-15 -1.51746e-15 -2.78865e-15  4.46559e-07   0.00354089  3.05293e-12         -nan         -nan         -nan         -nan         -nan         -nan         -nan         -nan         -nan         -nan         -nan         -nan\r\n",
      " 9.86209e-12  5.07991e-15 -0.000166405  0.000166405 -5.39666e-13 -1.50248e-15     0.211668     0.107271    0.0655439 -1.16466e-11  1.61908e-14    0.0321361  9.21457e-12  3.84998e-14 -1.20822e-11  -2.3703e-15 -7.39351e-05  0.000189031    0.0345285    0.0289718  1.28307e-11 -1.92164e-14   0.00116342         -nan         -nan         -nan         -nan         -nan         -nan         -nan         -nan         -nan         -nan         -nan         -nan\r\n",
      " 1.03972e-11  5.22718e-15 -0.000166405  0.000166405 -4.28998e-14  -1.7611e-16     0.107271     0.211668    0.0655439 -1.39887e-11  1.71482e-14    0.0321361  9.06053e-12  3.78963e-14 -6.84072e-12  3.49701e-15  0.000189031 -7.39351e-05   -0.0289718   -0.0345285  1.47681e-11 -1.66433e-14   0.00116342         -nan         -nan         -nan         -nan         -nan         -nan         -nan         -nan         -nan         -nan         -nan         -nan\r\n",
      " 8.89778e-12    2.932e-15  -9.6704e-05   9.6704e-05 -5.61732e-13 -1.69694e-16    0.0655439    0.0655439     0.423732 -9.92547e-12  1.12677e-14   -0.0111903  3.58423e-13  1.89995e-15 -4.01278e-12 -1.25913e-15 -1.85781e-06 -1.85781e-06 -0.000696918  0.000696918  1.32686e-11 -6.32419e-15  0.000474955         -nan         -nan         -nan         -nan         -nan         -nan         -nan         -nan         -nan         -nan         -nan         -nan\r\n",
      "  -0.0147607 -2.17781e-05  2.07505e-14 -1.98485e-14    0.0143743   2.1208e-05 -1.16466e-11 -1.39887e-11 -9.92547e-12     0.445598  3.15553e-15 -2.20233e-12 -0.000472791 -1.26034e-06   -0.0108238 -1.59695e-05  8.79224e-15 -1.13823e-14 -1.33253e-12 -3.61689e-12   -0.0177641 -2.39689e-05 -7.53965e-14         -nan         -nan         -nan         -nan         -nan         -nan         -nan         -nan         -nan         -nan         -nan         -nan\r\n",
      " 2.17781e-05   -0.0147607   2.2262e-12  1.15876e-13  -2.1208e-05    0.0143743  1.61908e-14  1.71484e-14  1.12677e-14  3.25259e-15     0.445598    2.877e-15 -1.26034e-06  0.000472791  1.59695e-05   -0.0108238  -5.6288e-12 -6.79395e-13 -2.53419e-15 -1.76758e-14  2.39689e-05   -0.0177641  8.45585e-12         -nan         -nan         -nan         -nan         -nan         -nan         -nan         -nan         -nan         -nan         -nan         -nan\r\n",
      " 3.29364e-12  1.28852e-15 -4.74139e-05  4.74139e-05  2.17714e-12  4.38076e-16    0.0321361    0.0321361   -0.0111903 -2.20233e-12  2.87705e-15     0.626438  3.54133e-12  1.43496e-14 -5.04606e-12  -1.0695e-15 -5.86219e-05 -5.86219e-05   -0.0219908    0.0219908  2.73956e-12 -3.20734e-15  0.000226729         -nan         -nan         -nan         -nan         -nan         -nan         -nan         -nan         -nan         -nan         -nan         -nan\r\n",
      "   0.0480905  0.000199151 -1.45277e-14  1.51803e-14   0.00952462  3.94431e-05  9.21457e-12  9.06053e-12  3.58423e-13 -0.000472791 -1.26034e-06  3.54133e-12     0.912633 -1.03355e-14   -0.0215007  -8.9038e-05 -4.33398e-14 -4.52735e-14 -1.56787e-11  1.37849e-11   -0.0226786 -9.10559e-05  1.89677e-14         -nan         -nan         -nan         -nan         -nan         -nan         -nan         -nan         -nan         -nan         -nan         -nan\r\n",
      " 0.000199151   -0.0480905    2.974e-13 -4.51357e-13  3.94431e-05  -0.00952462  3.84998e-14  3.78963e-14  1.89999e-15 -1.26034e-06  0.000472791  1.43496e-14 -1.03009e-14     0.912633  -8.9038e-05    0.0215007  2.21041e-12  3.16724e-13 -6.18937e-14  6.38635e-14 -9.10559e-05    0.0226786 -1.04284e-12         -nan         -nan         -nan         -nan         -nan         -nan         -nan         -nan         -nan         -nan         -nan         -nan\r\n",
      "   0.0477326  3.12361e-16  1.61291e-14 -1.01998e-14    0.0423454  4.94196e-16 -1.20822e-11 -6.84072e-12 -4.01278e-12   -0.0108238  1.59695e-05 -5.04606e-12   -0.0215007  -8.9038e-05     0.950071 -4.36084e-15  7.75507e-15  1.72038e-14  5.57432e-12  -3.6964e-12  -0.00314125  3.96159e-07 -4.15135e-14         -nan         -nan         -nan         -nan         -nan         -nan         -nan         -nan         -nan         -nan         -nan         -nan\r\n",
      " 2.48104e-16    0.0477326  -4.9903e-13 -4.74241e-12  5.21226e-16    0.0423454 -2.37028e-15  3.49713e-15 -1.25914e-15 -1.59695e-05   -0.0108238  -1.0695e-15  -8.9038e-05    0.0215007 -4.48037e-15     0.950071   6.8972e-13 -1.18822e-12  6.74005e-15  2.68692e-15 -3.96159e-07  -0.00314125 -2.13944e-12         -nan         -nan         -nan         -nan         -nan         -nan         -nan         -nan         -nan         -nan         -nan         -nan\r\n",
      "-8.58244e-15  9.02072e-13    0.0657346  -0.00223432 -2.71209e-15 -7.77487e-13 -7.39351e-05  0.000189031 -1.85781e-06  8.79224e-15  -5.6288e-12 -5.86219e-05 -4.33399e-14  2.21041e-12  7.75505e-15   6.8972e-13      1.04427    0.0043993   0.00021091  -0.00021091 -1.48409e-14  4.62576e-13    0.0159166         -nan         -nan         -nan         -nan         -nan         -nan         -nan         -nan         -nan         -nan         -nan         -nan\r\n",
      "-5.38289e-15  2.97446e-13   0.00223432   -0.0657346 -7.08481e-15  1.69588e-15  0.000189031 -7.39351e-05 -1.85781e-06 -1.13823e-14 -6.79395e-13 -5.86219e-05 -4.52735e-14  3.16724e-13  1.72038e-14 -1.18822e-12    0.0043993      1.04427   0.00021091  -0.00021091 -8.01901e-15 -8.94316e-13    0.0159166         -nan         -nan         -nan         -nan         -nan         -nan         -nan         -nan         -nan         -nan         -nan         -nan\r\n",
      "-2.32656e-12 -7.78453e-16  3.67894e-05  0.000226176 -2.19388e-12 -1.51746e-15    0.0345285   -0.0289718 -0.000696918 -1.33253e-12 -2.53419e-15   -0.0219908 -1.56787e-11 -6.18937e-14  5.57432e-12  6.74006e-15   0.00021091   0.00021091      1.12339   -0.0835173 -6.46245e-12  -2.0398e-15  0.000202014         -nan         -nan         -nan         -nan         -nan         -nan         -nan         -nan         -nan         -nan         -nan         -nan\r\n",
      " 2.93123e-12  3.99555e-15  0.000226176  3.67894e-05  1.41468e-12 -2.78865e-15    0.0289718   -0.0345285  0.000696918 -3.61689e-12 -1.76757e-14    0.0219908  1.37849e-11  6.38635e-14  -3.6964e-12  2.68692e-15  -0.00021091  -0.00021091   -0.0835173      1.12339  7.82337e-12  8.48579e-15 -0.000202014         -nan         -nan         -nan         -nan         -nan         -nan         -nan         -nan         -nan         -nan         -nan         -nan\r\n",
      "   0.0558853  7.04798e-06 -1.04355e-13  1.05229e-13   0.00253709  3.19965e-07  8.09982e-11  8.25677e-11  1.27463e-11   -0.0110902  1.49639e-05  3.12651e-12   -0.0177227 -7.11576e-05   -0.0178963 -2.25699e-06  1.19843e-14  1.73819e-14  3.67279e-12 -2.60106e-12     0.582693  1.33667e-14  1.28064e-12         -nan         -nan         -nan         -nan         -nan         -nan         -nan         -nan         -nan         -nan         -nan         -nan\r\n",
      "-7.04798e-06    0.0558853 -9.26957e-13 -6.48386e-13 -3.19965e-07   0.00253709  2.11553e-15  3.61475e-15  -3.9421e-15 -1.49639e-05   -0.0110902 -2.24877e-15 -7.11576e-05    0.0177227  2.25699e-06   -0.0178963   5.4502e-15 -1.06193e-12 -1.88018e-16  5.00834e-15  1.32307e-14     0.582693 -5.82096e-11         -nan         -nan         -nan         -nan         -nan         -nan         -nan         -nan         -nan         -nan         -nan         -nan\r\n",
      " 1.05857e-13 -5.48992e-12    0.0411101   -0.0411101  1.48937e-14  3.67398e-12   0.00107123   0.00107123  0.000463696 -7.42448e-14   9.7592e-12  0.000225407  2.35615e-14 -1.51236e-12 -3.84739e-14 -3.07381e-12     0.016819     0.016819  0.000184307 -0.000184307  2.10929e-12 -6.13869e-11      1.94134         -nan         -nan         -nan         -nan         -nan         -nan         -nan         -nan         -nan         -nan         -nan         -nan\r\n",
      "        -nan         -nan         -nan         -nan         -nan         -nan         -nan         -nan         -nan         -nan         -nan         -nan         -nan         -nan         -nan         -nan         -nan         -nan         -nan         -nan         -nan         -nan         -nan         -nan         -nan         -nan         -nan         -nan         -nan         -nan         -nan         -nan         -nan         -nan         -nan\r\n",
      "        -nan         -nan         -nan         -nan         -nan         -nan         -nan         -nan         -nan         -nan         -nan         -nan         -nan         -nan         -nan         -nan         -nan         -nan         -nan         -nan         -nan         -nan         -nan         -nan         -nan         -nan         -nan         -nan         -nan         -nan         -nan         -nan         -nan         -nan         -nan\r\n",
      "        -nan         -nan         -nan         -nan         -nan         -nan         -nan         -nan         -nan         -nan         -nan         -nan         -nan         -nan         -nan         -nan         -nan         -nan         -nan         -nan         -nan         -nan         -nan         -nan         -nan         -nan         -nan         -nan         -nan         -nan         -nan         -nan         -nan         -nan         -nan\r\n",
      "        -nan         -nan         -nan         -nan         -nan         -nan         -nan         -nan         -nan         -nan         -nan         -nan         -nan         -nan         -nan         -nan         -nan         -nan         -nan         -nan         -nan         -nan         -nan         -nan         -nan         -nan         -nan         -nan         -nan         -nan         -nan         -nan         -nan         -nan         -nan\r\n",
      "        -nan         -nan         -nan         -nan         -nan         -nan         -nan         -nan         -nan         -nan         -nan         -nan         -nan         -nan         -nan         -nan         -nan         -nan         -nan         -nan         -nan         -nan         -nan         -nan         -nan         -nan         -nan         -nan         -nan         -nan         -nan         -nan         -nan         -nan         -nan\r\n",
      "        -nan         -nan         -nan         -nan         -nan         -nan         -nan         -nan         -nan         -nan         -nan         -nan         -nan         -nan         -nan         -nan         -nan         -nan         -nan         -nan         -nan         -nan         -nan         -nan         -nan         -nan         -nan         -nan         -nan         -nan         -nan         -nan         -nan         -nan         -nan\r\n",
      "        -nan         -nan         -nan         -nan         -nan         -nan         -nan         -nan         -nan         -nan         -nan         -nan         -nan         -nan         -nan         -nan         -nan         -nan         -nan         -nan         -nan         -nan         -nan         -nan         -nan         -nan         -nan         -nan         -nan         -nan         -nan         -nan         -nan         -nan         -nan\r\n",
      "        -nan         -nan         -nan         -nan         -nan         -nan         -nan         -nan         -nan         -nan         -nan         -nan         -nan         -nan         -nan         -nan         -nan         -nan         -nan         -nan         -nan         -nan         -nan         -nan         -nan         -nan         -nan         -nan         -nan         -nan         -nan         -nan         -nan         -nan         -nan\r\n",
      "        -nan         -nan         -nan         -nan         -nan         -nan         -nan         -nan         -nan         -nan         -nan         -nan         -nan         -nan         -nan         -nan         -nan         -nan         -nan         -nan         -nan         -nan         -nan         -nan         -nan         -nan         -nan         -nan         -nan         -nan         -nan         -nan         -nan         -nan         -nan\r\n",
      "        -nan         -nan         -nan         -nan         -nan         -nan         -nan         -nan         -nan         -nan         -nan         -nan         -nan         -nan         -nan         -nan         -nan         -nan         -nan         -nan         -nan         -nan         -nan         -nan         -nan         -nan         -nan         -nan         -nan         -nan         -nan         -nan         -nan         -nan         -nan\r\n",
      "        -nan         -nan         -nan         -nan         -nan         -nan         -nan         -nan         -nan         -nan         -nan         -nan         -nan         -nan         -nan         -nan         -nan         -nan         -nan         -nan         -nan         -nan         -nan         -nan         -nan         -nan         -nan         -nan         -nan         -nan         -nan         -nan         -nan         -nan         -nan\r\n",
      "        -nan         -nan         -nan         -nan         -nan         -nan         -nan         -nan         -nan         -nan         -nan         -nan         -nan         -nan         -nan         -nan         -nan         -nan         -nan         -nan         -nan         -nan         -nan          nan          nan          nan          nan          nan          nan          nan          nan          nan          nan          nan          nan\r\n",
      "an error occurred:\r\n",
      "Small generalized eigenvalue problem failed.\r\n"
     ]
    }
   ],
   "source": [
    "!xtp_tools -c job_name=CO geometry_optimization.maxiter=1 dftpackage.basisset=3-21G dftpackage.auxbasisset=aux-def2-svp gwbse.gw.mode=G0W0 -e dftgwbse -t 4"
   ]
  },
  {
   "cell_type": "markdown",
   "metadata": {},
   "source": [
    "Notice that we are using 4 threads. The results will be stored in a file named `CO_summary.xml` in the current work directory, together with the optimization step in `optimisation.trj` and the orbitals in [hdf5 format](https://www.hdfgroup.org/solutions/hdf5/) saved on `CO.orb`."
   ]
  }
 ],
 "metadata": {
  "kernelspec": {
   "display_name": "Python 3",
   "language": "python",
   "name": "python3"
  },
  "language_info": {
   "codemirror_mode": {
    "name": "ipython",
    "version": 3
   },
   "file_extension": ".py",
   "mimetype": "text/x-python",
   "name": "python",
   "nbconvert_exporter": "python",
   "pygments_lexer": "ipython3",
   "version": "3.10.4"
  }
 },
 "nbformat": 4,
 "nbformat_minor": 4
}
