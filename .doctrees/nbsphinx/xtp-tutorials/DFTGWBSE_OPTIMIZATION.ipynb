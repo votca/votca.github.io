{
 "cells": [
  {
   "cell_type": "markdown",
   "metadata": {},
   "source": [
    "## DFT + GWBSE Optimization Using CO"
   ]
  },
  {
   "cell_type": "markdown",
   "metadata": {},
   "source": [
    "## Introduction\n",
    "This tutorial explains how to perform a molecular geometric optimization using the **GWBSE** method. See [the GW Compendium: A Practical Guide to Theoretical Photoemission Spectroscopy](https://doi.org/10.3389/fchem.2019.00377), for an excellent introduction to the method."
   ]
  },
  {
   "cell_type": "markdown",
   "metadata": {},
   "source": [
    "## Requirements\n",
    "* You will need to install **VOTCA** using the instructions described [here](https://github.com/votca/votca/blob/master/share/doc/INSTALL.rst)\n",
    "* Once the installation is completed you need to activate the VOTCA enviroment by running the `VOTCARC.bash` script that has been installed at the bin subfolder for the path that you have provided for the installation step above"
   ]
  },
  {
   "cell_type": "markdown",
   "metadata": {},
   "source": [
    "## Preparing the input\n",
    "To run a DFT-GWBSE calculation we will use the [xtp_tools](https://www.votca.org/xtp/xtp_tools_overview.html) calculator."
   ]
  },
  {
   "cell_type": "markdown",
   "metadata": {},
   "source": [
    "we can now change the calculator mode from single point energy calculation to optimization as follows by adding \n",
    "`-c geometry_optimization.maxiter=1` which enables optimization with one iteration. "
   ]
  },
  {
   "cell_type": "markdown",
   "metadata": {},
   "source": [
    "Because geometry optimsation is quite expensive numerically we chose a smaller basisset and G0W0 Finally, to run the calculation we just need the following command (This still takes a while)"
   ]
  },
  {
   "cell_type": "code",
   "execution_count": 1,
   "metadata": {
    "execution": {
     "iopub.execute_input": "2023-07-07T05:20:27.624867Z",
     "iopub.status.busy": "2023-07-07T05:20:27.624317Z",
     "iopub.status.idle": "2023-07-07T05:21:01.541466Z",
     "shell.execute_reply": "2023-07-07T05:21:01.540525Z"
    }
   },
   "outputs": [
    {
     "name": "stdout",
     "output_type": "stream",
     "text": [
      "==================================================\r\n",
      "========   VOTCA (http://www.votca.org)   ========\r\n",
      "==================================================\r\n",
      "\r\n",
      "please submit bugs to https://github.com/votca/votca/issues\r\n",
      "\r\n",
      "xtp_tools, version 2023-rc.2-dev gitid: dd7ef80 (compiled Jul  7 2023, 05:16:56)\r\n",
      "\r\n",
      "Initializing tool\r\n",
      "... dftgwbse Evaluating tool\r\n",
      "... dftgwbse  Using 4 threads\r\n",
      "... ... Reading structure from CO.xyz\r\n",
      "... ... Requested geometry optimization of excited state s1\r\n",
      "... ... Initial state: s1\r\n",
      "... ... WARNING: No tracker is used \r\n",
      "... ... Convergence of total energy: 0.000001 Hartree \r\n",
      "... ... Convergence of RMS Force:    0.000030 Hartree/Bohr \r\n",
      "... ... Convergence of Max Force:    0.000100 Hartree/Bohr \r\n",
      "... ... Convergence of RMS Step:     0.000600 Bohr \r\n",
      "... ... Convergence of Max Step:     0.001000 Bohr \r\n",
      "... ... Initial trust radius:        0.018897 BohrA\r\n",
      "    0.307132  -3.1061e-11  4.46593e-11 -2.30818e-10  2.35376e-11   -0.0516061  8.55518e-10  7.78981e-10 -3.22602e-10    0.0181637  -0.00105869 -7.15142e-11    0.0103661    0.0375717 -2.03005e-11    0.0421019 -2.33159e-10  1.30836e-10 -3.01328e-10 -1.07068e-10  0.000482317    -0.108408 -1.28156e-10 -8.65508e-11          nan          nan          nan          nan          nan          nan          nan          nan          nan          nan          nan\r\n",
      "-3.10611e-11     0.307132 -1.47198e-10  7.06616e-11   -0.0516061  2.35376e-11  9.00331e-10  1.08649e-09 -1.97435e-10   0.00105869    0.0181637 -2.25165e-10    0.0375717   -0.0103661    0.0421019 -2.03005e-11 -1.94016e-11  2.13661e-10 -9.73017e-11  5.02068e-12    -0.108408 -0.000482317 -1.34899e-11  1.09701e-10          nan          nan          nan          nan          nan          nan          nan          nan          nan          nan          nan\r\n",
      " 4.46593e-11 -1.47198e-10      0.32063   0.00926482  1.56588e-10  1.02959e-10    0.0133889    0.0133889  -0.00499301 -5.81963e-11 -1.46236e-11  -0.00212718 -8.94742e-11  1.83536e-10 -1.71724e-10 -2.08926e-11    0.0470542  -0.00128384  -0.00258774   -0.0152159  1.82111e-10 -3.05929e-10   -0.0254906   -0.0100583          nan          nan          nan          nan          nan          nan          nan          nan          nan          nan          nan\r\n",
      "-2.30818e-10  7.06616e-11   0.00926482      0.32063 -1.69909e-10  3.23983e-10   -0.0133889   -0.0133889   0.00499301 -5.01121e-11  6.87382e-11   0.00212718  7.31006e-11 -1.45081e-10  6.90894e-11 -1.85882e-10  -0.00128384    0.0470542    0.0152159   0.00258774  -1.6863e-10   7.9027e-10    0.0254906   -0.0100583          nan          nan          nan          nan          nan          nan          nan          nan          nan          nan          nan\r\n",
      " 2.35376e-11   -0.0516061  1.56588e-10 -1.69909e-10     0.490902 -2.89424e-12  1.80082e-09  1.37388e-09  -8.2072e-10  -0.00078338   -0.0134403  -1.9845e-10   0.00770594  -0.00212609    0.0309987  6.70541e-11 -6.53162e-11 -1.89555e-10 -1.33936e-10 -2.73752e-10    0.0531267  0.000236366  1.67513e-10  8.49263e-12          nan          nan          nan          nan          nan          nan          nan          nan          nan          nan          nan\r\n",
      "  -0.0516061  2.35376e-11  1.02959e-10  3.23983e-10 -2.89423e-12     0.490902 -2.54662e-10 -2.67983e-10   1.5506e-10   -0.0134403   0.00078338  1.92886e-11   0.00212609   0.00770594  6.70541e-11    0.0309987  1.90954e-10 -5.11384e-11  9.18228e-11 -1.63048e-10 -0.000236366    0.0531267  2.48341e-10  6.79505e-11          nan          nan          nan          nan          nan          nan          nan          nan          nan          nan          nan\r\n",
      " 8.55518e-10  9.00331e-10    0.0133889   -0.0133889  1.80082e-09 -2.54662e-10      0.54956     0.219665   -0.0856641 -7.11665e-12  6.43995e-10   -0.0364956 -1.85336e-09  2.97897e-09 -9.22296e-10  3.15905e-10   -0.0113547  -0.00127346    0.0127109   -0.0330594  5.12554e-10  -7.4601e-09  -0.00157308   -0.0201546          nan          nan          nan          nan          nan          nan          nan          nan          nan          nan          nan\r\n",
      " 7.78981e-10  1.08649e-09    0.0133889   -0.0133889  1.37388e-09 -2.67983e-10     0.219665      0.54956   -0.0856641  4.69979e-11  7.52304e-10   -0.0364956 -1.89182e-09   2.9626e-09 -7.15521e-10   2.1327e-10   0.00127346    0.0113547   -0.0330594    0.0127109  4.20173e-11 -7.44288e-09  -0.00157308    0.0201546          nan          nan          nan          nan          nan          nan          nan          nan          nan          nan          nan\r\n",
      "-3.22602e-10 -1.97435e-10  -0.00499301   0.00499301  -8.2072e-10   1.5506e-10   -0.0856641   -0.0856641     0.662947 -1.74994e-10 -2.31591e-10  -0.00632525  4.08154e-10 -7.41428e-10  5.58313e-10 -1.54286e-10   0.00131673  -0.00131673    0.0038767    0.0038767 -9.19669e-10  2.85838e-09   0.00114538  6.67713e-09          nan          nan          nan          nan          nan          nan          nan          nan          nan          nan          nan\r\n",
      "   0.0181637   0.00105869 -5.81963e-11 -5.01121e-11  -0.00078338   -0.0134403 -7.11665e-12  4.69979e-11 -1.74994e-10     0.680922  1.58614e-12  8.85881e-11  2.70753e-05  7.97152e-05  0.000502558   0.00862229 -3.65329e-10 -3.65859e-11  6.95871e-11  8.84048e-10  -0.00220503   -0.0409683 -8.96061e-10 -1.16703e-09          nan          nan          nan          nan          nan          nan          nan          nan          nan          nan          nan\r\n",
      " -0.00105869    0.0181637 -1.46236e-11  6.87382e-11   -0.0134403   0.00078338  6.43995e-10  7.52304e-10 -2.31591e-10  1.58612e-12     0.680922 -1.12767e-10  7.97152e-05 -2.70753e-05   0.00862229 -0.000502558 -5.79005e-11  8.72362e-10  -5.5138e-10 -1.49465e-10   -0.0409683   0.00220503 -8.14802e-10 -3.34102e-10          nan          nan          nan          nan          nan          nan          nan          nan          nan          nan          nan\r\n",
      "-7.15142e-11 -2.25165e-10  -0.00212718   0.00212718  -1.9845e-10  1.92886e-11   -0.0364956   -0.0364956  -0.00632525  8.85881e-11 -1.12767e-10      0.79826  3.98352e-10 -4.68369e-10 -1.57936e-11   -4.966e-11   0.00465517  -0.00465517    0.0137058    0.0137058  8.87341e-11  8.70736e-10  0.000453987  2.76867e-09          nan          nan          nan          nan          nan          nan          nan          nan          nan          nan          nan\r\n",
      "   0.0103661    0.0375717 -8.94742e-11  7.31006e-11   0.00770594   0.00212609 -1.85336e-09 -1.89182e-09  4.08154e-10  2.70753e-05  7.97152e-05  3.98352e-10     0.956418  4.28677e-11   -0.0126689  -0.00349538  3.03994e-10 -4.16199e-10  1.05011e-09  1.04949e-09    0.0192776   0.00541117  3.06144e-11 -5.30653e-11          nan          nan          nan          nan          nan          nan          nan          nan          nan          nan          nan\r\n",
      "   0.0375717   -0.0103661  1.83536e-10 -1.45081e-10  -0.00212609   0.00770594  2.97897e-09   2.9626e-09 -7.41428e-10  7.97152e-05 -2.70753e-05 -4.68369e-10  4.28677e-11     0.956418   0.00349538   -0.0126689 -5.77179e-10    5.778e-10 -1.67379e-09 -1.78599e-09  -0.00541117    0.0192776  -7.9363e-12  4.82065e-11          nan          nan          nan          nan          nan          nan          nan          nan          nan          nan          nan\r\n",
      "-2.03006e-11    0.0421019 -1.71724e-10  6.90894e-11    0.0309987  6.70541e-11 -9.22296e-10 -7.15521e-10  5.58313e-10  0.000502558   0.00862229 -1.57936e-11   -0.0126689   0.00349538     0.988566  3.78937e-11  8.54157e-12 -1.86404e-10  2.23291e-10 -1.98105e-11   -0.0223628 -9.94945e-05  3.66069e-10 -2.17506e-11          nan          nan          nan          nan          nan          nan          nan          nan          nan          nan          nan\r\n",
      "   0.0421019 -2.03005e-11 -2.08926e-11 -1.85882e-10  6.70541e-11    0.0309987  3.15905e-10   2.1327e-10 -1.54286e-10   0.00862229 -0.000502558   -4.966e-11  -0.00349538   -0.0126689  3.78937e-11     0.988566  1.22029e-10  1.21073e-10 -1.17827e-11 -1.89645e-10  9.94945e-05   -0.0223628  4.45754e-10  1.27603e-10          nan          nan          nan          nan          nan          nan          nan          nan          nan          nan          nan\r\n",
      "-2.33159e-10 -1.94016e-11    0.0470542  -0.00128384 -6.53162e-11  1.90954e-10   -0.0113547   0.00127346   0.00131673 -3.65329e-10 -5.79005e-11   0.00465517  3.03994e-10 -5.77179e-10  8.54157e-12  1.22029e-10      1.03321  -0.00656677    0.0132453    0.0132453 -5.77585e-11   5.0645e-10  -0.00427278  8.11988e-05          nan          nan          nan          nan          nan          nan          nan          nan          nan          nan          nan\r\n",
      " 1.30836e-10  2.13661e-10  -0.00128384    0.0470542 -1.89555e-10 -5.11384e-11  -0.00127346    0.0113547  -0.00131673 -3.65859e-11  8.72362e-10  -0.00465517 -4.16199e-10    5.778e-10 -1.86404e-10  1.21073e-10  -0.00656677      1.03321   -0.0132453   -0.0132453   6.2393e-11   -5.855e-10   0.00427278   8.1197e-05          nan          nan          nan          nan          nan          nan          nan          nan          nan          nan          nan\r\n",
      "-3.01328e-10 -9.73017e-11  -0.00258774    0.0152159 -1.33936e-10  9.18228e-11    0.0127109   -0.0330594    0.0038767  6.95871e-11  -5.5138e-10    0.0137058  1.05011e-09 -1.67379e-09  2.23291e-10 -1.17827e-11    0.0132453   -0.0132453       1.0677    0.0410648 -2.87538e-10  1.40589e-09   0.00205096 -0.000535954          nan          nan          nan          nan          nan          nan          nan          nan          nan          nan          nan\r\n",
      "-1.07068e-10  5.02068e-12   -0.0152159   0.00258774 -2.73752e-10 -1.63048e-10   -0.0330594    0.0127109    0.0038767  8.84048e-10 -1.49465e-10    0.0137058  1.04949e-09 -1.78599e-09 -1.98105e-11 -1.89645e-10    0.0132453   -0.0132453    0.0410648       1.0677 -2.10163e-10  1.41063e-09   0.00205096  0.000535959          nan          nan          nan          nan          nan          nan          nan          nan          nan          nan          nan\r\n",
      " -0.00033478    0.0752465  -2.4868e-10  3.00536e-10   -0.0690159  0.000307059  -1.3764e-09 -1.00839e-09  9.70988e-10   0.00166367    0.0309101 -4.51771e-11  -0.00866834   0.00243317    0.0364086 -0.000161985  1.19967e-10 -1.21238e-10  4.87844e-10  4.85054e-10    -0.194424  2.24726e-10  3.79921e-09 -3.09939e-10          nan          nan          nan          nan          nan          nan          nan          nan          nan          nan          nan\r\n",
      "   0.0752465  0.000334779  1.79003e-10 -5.58482e-10 -0.000307059   -0.0690159  5.06016e-09  5.10934e-09 -2.26129e-09    0.0309101  -0.00166367 -7.95701e-10  -0.00243317  -0.00866834  0.000161985    0.0364086 -4.43935e-10  4.49164e-10  -1.2087e-09 -1.20995e-09  2.24726e-10    -0.194424  1.19861e-09  1.73882e-09          nan          nan          nan          nan          nan          nan          nan          nan          nan          nan          nan\r\n",
      "-3.04801e-10 -4.79423e-10   -0.0141829    0.0141829  4.11052e-10  1.86438e-10   0.00439058   0.00439058  -0.00133217 -1.14246e-09 -1.07746e-09 -0.000533977  7.68929e-11  1.04389e-10 -4.14766e-11  1.63497e-10  -0.00597806   0.00597806   0.00149976   0.00149976  3.89358e-09  1.34928e-09     0.958371 -6.20188e-09          nan          nan          nan          nan          nan          nan          nan          nan          nan          nan          nan\r\n",
      "-3.57227e-10 -7.77021e-11   0.00276924   0.00276924  6.19101e-10  6.53378e-10   0.00385042   -0.0038504 -3.66034e-09 -1.20755e-09  -4.3189e-10  -1.9797e-09 -4.86829e-11  1.10086e-10    7.021e-11  2.21653e-10 -0.000895127 -0.000895126  -0.00480578   0.00480578 -4.77704e-10  1.82807e-09 -6.05885e-09     0.198904          nan          nan          nan          nan          nan          nan          nan          nan          nan          nan          nan\r\n",
      "        -nan         -nan         -nan         -nan         -nan         -nan         -nan         -nan         -nan         -nan         -nan         -nan         -nan         -nan         -nan         -nan         -nan         -nan         -nan         -nan         -nan         -nan         -nan         -nan         -nan         -nan         -nan         -nan         -nan         -nan         -nan         -nan         -nan         -nan         -nan\r\n",
      "        -nan         -nan         -nan         -nan         -nan         -nan         -nan         -nan         -nan         -nan         -nan         -nan         -nan         -nan         -nan         -nan         -nan         -nan         -nan         -nan         -nan         -nan         -nan         -nan         -nan         -nan         -nan         -nan         -nan         -nan         -nan         -nan         -nan         -nan         -nan\r\n",
      "        -nan         -nan         -nan         -nan         -nan         -nan         -nan         -nan         -nan         -nan         -nan         -nan         -nan         -nan         -nan         -nan         -nan         -nan         -nan         -nan         -nan         -nan         -nan         -nan          nan          nan          nan          nan          nan          nan          nan          nan          nan          nan          nan\r\n",
      "        -nan         -nan         -nan         -nan         -nan         -nan         -nan         -nan         -nan         -nan         -nan         -nan         -nan         -nan         -nan         -nan         -nan         -nan         -nan         -nan         -nan         -nan         -nan         -nan          nan          nan          nan          nan          nan          nan          nan          nan          nan          nan          nan\r\n",
      "        -nan         -nan         -nan         -nan         -nan         -nan         -nan         -nan         -nan         -nan         -nan         -nan         -nan         -nan         -nan         -nan         -nan         -nan         -nan         -nan         -nan         -nan         -nan         -nan         -nan         -nan         -nan         -nan         -nan         -nan         -nan         -nan         -nan         -nan         -nan\r\n",
      "        -nan         -nan         -nan         -nan         -nan         -nan         -nan         -nan         -nan         -nan         -nan         -nan         -nan         -nan         -nan         -nan         -nan         -nan         -nan         -nan         -nan         -nan         -nan         -nan         -nan         -nan         -nan         -nan         -nan         -nan         -nan         -nan         -nan         -nan         -nan\r\n",
      "        -nan         -nan         -nan         -nan         -nan         -nan         -nan         -nan         -nan         -nan         -nan         -nan         -nan         -nan         -nan         -nan         -nan         -nan         -nan         -nan         -nan         -nan         -nan         -nan          nan          nan          nan          nan          nan          nan          nan          nan          nan          nan          nan\r\n",
      "        -nan         -nan         -nan         -nan         -nan         -nan         -nan         -nan         -nan         -nan         -nan         -nan         -nan         -nan         -nan         -nan         -nan         -nan         -nan         -nan         -nan         -nan         -nan         -nan          nan          nan          nan          nan          nan          nan          nan          nan          nan          nan          nan\r\n",
      "        -nan         -nan         -nan         -nan         -nan         -nan         -nan         -nan         -nan         -nan         -nan         -nan         -nan         -nan         -nan         -nan         -nan         -nan         -nan         -nan         -nan         -nan         -nan         -nan          nan          nan          nan         -nan          nan          nan          nan         -nan          nan          nan          nan\r\n",
      "        -nan         -nan         -nan         -nan         -nan         -nan         -nan         -nan         -nan         -nan         -nan         -nan         -nan         -nan         -nan         -nan         -nan         -nan         -nan         -nan         -nan         -nan         -nan         -nan          nan          nan          nan         -nan          nan          nan          nan         -nan          nan          nan          nan\r\n",
      "        -nan         -nan         -nan         -nan         -nan         -nan         -nan         -nan         -nan         -nan         -nan         -nan         -nan         -nan         -nan         -nan         -nan         -nan         -nan         -nan         -nan         -nan         -nan         -nan         -nan         -nan         -nan         -nan         -nan         -nan         -nan         -nan         -nan         -nan         -nan\r\n",
      "B\r\n",
      "    0.093811 -1.38068e-11  1.68288e-11  -1.3124e-10  1.44759e-11   -0.0328898  3.54494e-10  2.99605e-10 -1.98317e-10    0.0155308 -0.000905228 -3.66412e-11    0.0128538     0.046588 -2.35866e-11    0.0481429 -2.87542e-10  1.38767e-10 -3.10596e-10 -3.79922e-11  0.000111707   -0.0251078 -4.01068e-10 -4.31519e-10         -nan         -nan         -nan         -nan         -nan         -nan         -nan         -nan         -nan         -nan         -nan\r\n",
      "-1.38069e-11     0.093811   -9.501e-11  4.01214e-11   -0.0328898  1.44759e-11   3.6916e-10  4.83571e-10 -1.23112e-10  0.000905228    0.0155308 -1.66764e-10     0.046588   -0.0128538    0.0481429 -2.35866e-11 -1.28362e-11  2.85439e-10 -7.55281e-11  7.32469e-11   -0.0251078 -0.000111707 -5.11081e-10 -2.34114e-11         -nan         -nan         -nan         -nan         -nan         -nan         -nan         -nan         -nan         -nan         -nan\r\n",
      " 1.68288e-11   -9.501e-11     0.105883   0.00529884  1.02782e-10  7.14934e-11   0.00678279   0.00678279  -0.00367167 -5.18405e-11 -2.02255e-11  -0.00166788 -9.66374e-11  2.03571e-10 -2.10709e-10 -2.54246e-11    0.0640585  -0.00170125  -0.00248286   -0.0196874 -6.25095e-11  -1.1171e-11   -0.0418852  -0.00740488         -nan         -nan         -nan         -nan         -nan         -nan         -nan         -nan         -nan         -nan         -nan\r\n",
      " -1.3124e-10  4.01214e-11   0.00529884     0.105883 -1.09862e-10  2.29102e-10  -0.00678279  -0.00678279   0.00367167 -5.46513e-11  7.11411e-11   0.00166788  7.34102e-11  -1.5329e-10  7.36052e-11 -2.18484e-10  -0.00170125    0.0640585    0.0196874   0.00248286  1.33579e-10  1.11421e-10    0.0418852  -0.00740488         -nan         -nan         -nan         -nan         -nan         -nan         -nan         -nan         -nan         -nan         -nan\r\n",
      " 1.44759e-11   -0.0328898  1.02782e-10 -1.09862e-10     0.240891 -6.93294e-13  1.10443e-09  8.03832e-10 -6.98456e-10 -0.000841854   -0.0144435 -1.60497e-10    0.0088141  -0.00243184    0.0441772  9.32097e-11 -5.67383e-11 -3.34148e-10 -5.76139e-11 -2.87363e-10  -0.00438142 -1.94934e-05  5.20822e-10  5.70461e-10         -nan         -nan         -nan         -nan         -nan         -nan         -nan         -nan         -nan         -nan         -nan\r\n",
      "  -0.0328898  1.44759e-11  7.14934e-11  2.29102e-10 -6.93282e-13     0.240891 -1.39813e-10 -1.46894e-10  1.24326e-10   -0.0144435  0.000841854  9.91239e-12   0.00243184    0.0088141  9.32097e-11    0.0441772  2.79757e-10 -5.00074e-11  1.11386e-10 -2.79499e-10  1.94934e-05  -0.00438142  4.31906e-10  6.13188e-10         -nan         -nan         -nan         -nan         -nan         -nan         -nan         -nan         -nan         -nan         -nan\r\n",
      " 3.54494e-10   3.6916e-10   0.00678279  -0.00678279  1.10443e-09 -1.39813e-10     0.221859     0.110677   -0.0629941 -1.31998e-12  4.62572e-10   -0.0286155 -1.92629e-09  3.22491e-09  -1.0314e-09   3.2891e-10    -0.010086  -0.00711857    0.0330988   -0.0292585 -8.01293e-10 -3.84305e-10   0.00293654   -0.0165241         -nan         -nan         -nan         -nan         -nan         -nan         -nan         -nan         -nan         -nan         -nan\r\n",
      " 2.99605e-10  4.83571e-10   0.00678279  -0.00678279  8.03832e-10 -1.46894e-10     0.110677     0.221859   -0.0629941  4.95956e-11  5.69064e-10   -0.0286155 -1.97657e-09  3.20169e-09 -7.87491e-10  1.91806e-10   0.00711857     0.010086   -0.0292585    0.0330988 -8.98733e-10 -3.12257e-10   0.00293654    0.0165241         -nan         -nan         -nan         -nan         -nan         -nan         -nan         -nan         -nan         -nan         -nan\r\n",
      "-1.98317e-10 -1.23112e-10  -0.00367167   0.00367167 -6.98456e-10  1.24326e-10   -0.0629941   -0.0629941     0.429278 -2.25292e-10 -2.34108e-10   -0.0121538  4.56101e-10 -9.09275e-10  7.69087e-10 -2.09013e-10 -6.20769e-06  6.20771e-06 -1.82767e-05 -1.82767e-05 -7.44911e-11  5.84286e-10  5.95585e-05  1.63533e-09         -nan         -nan         -nan         -nan         -nan         -nan         -nan         -nan         -nan         -nan         -nan\r\n",
      "   0.0155308  0.000905228 -5.18405e-11 -5.46513e-11 -0.000841854   -0.0144435 -1.31998e-12  4.95956e-11 -2.25292e-10     0.463967  2.11826e-12  1.17676e-10  0.000208013  0.000612432  0.000603719    0.0103579 -6.15548e-10 -6.26144e-11  1.11929e-10  1.49086e-09 -0.000953161   -0.0177092  -1.8678e-09 -2.14657e-09         -nan         -nan         -nan         -nan         -nan         -nan         -nan         -nan         -nan         -nan         -nan\r\n",
      "-0.000905228    0.0155308 -2.02255e-11  7.11411e-11   -0.0144435  0.000841854  4.62572e-10  5.69064e-10 -2.34108e-10  2.11823e-12     0.463967 -1.09259e-10  0.000612432 -0.000208013    0.0103579 -0.000603719 -7.68831e-11  1.45581e-09 -8.66392e-10  -1.8823e-10   -0.0177092  0.000953161 -1.77769e-09 -6.10174e-10         -nan         -nan         -nan         -nan         -nan         -nan         -nan         -nan         -nan         -nan         -nan\r\n",
      "-3.66412e-11 -1.66764e-10  -0.00166788   0.00166788 -1.60497e-10  9.91239e-12   -0.0286155   -0.0286155   -0.0121538  1.17676e-10 -1.09259e-10     0.636067  5.47434e-10  -6.1549e-10 -6.46745e-11 -6.61942e-11   0.00673078  -0.00673078    0.0198168    0.0198168  1.03282e-10 -8.59849e-12  4.59775e-05  2.82947e-10         -nan         -nan         -nan         -nan         -nan         -nan         -nan         -nan         -nan         -nan         -nan\r\n",
      "   0.0128538     0.046588 -9.66374e-11  7.34102e-11    0.0088141   0.00243184 -1.92629e-09 -1.97657e-09  4.56101e-10  0.000208013  0.000612432  5.47434e-10     0.917068  7.51515e-11   -0.0214885  -0.00592875  5.28816e-10 -7.58638e-10  1.85812e-09  1.85358e-09    0.0223811   0.00628231  1.65348e-10 -1.01393e-10         -nan         -nan         -nan         -nan         -nan         -nan         -nan         -nan         -nan         -nan         -nan\r\n",
      "    0.046588   -0.0128538  2.03571e-10  -1.5329e-10  -0.00243184    0.0088141  3.22491e-09  3.20169e-09 -9.09275e-10  0.000612432 -0.000208013  -6.1549e-10  7.51515e-11     0.917068   0.00592875   -0.0214885  -1.0248e-09  1.02935e-09 -2.98484e-09 -3.21466e-09  -0.00628231    0.0223811  1.26257e-10  2.03609e-10         -nan         -nan         -nan         -nan         -nan         -nan         -nan         -nan         -nan         -nan         -nan\r\n",
      "-2.35867e-11    0.0481429 -2.10709e-10  7.36052e-11    0.0441772  9.32097e-11  -1.0314e-09 -7.87491e-10  7.69087e-10  0.000603719    0.0103579 -6.46745e-11   -0.0214885   0.00592875     0.981535  7.30428e-11 -3.50163e-12 -3.06088e-10  3.62747e-10 -7.51712e-11   0.00424838  1.89015e-05  3.17157e-10 -6.91254e-11         -nan         -nan         -nan         -nan         -nan         -nan         -nan         -nan         -nan         -nan         -nan\r\n",
      "   0.0481429 -2.35866e-11 -2.54246e-11 -2.18484e-10  9.32097e-11    0.0441772   3.2891e-10  1.91806e-10 -2.09013e-10    0.0103579 -0.000603719 -6.61942e-11  -0.00592875   -0.0214885  7.30429e-11     0.981535   2.2275e-10  2.15168e-10 -7.17464e-12 -3.16764e-10 -1.89015e-05   0.00424838  6.75793e-10  2.16547e-10         -nan         -nan         -nan         -nan         -nan         -nan         -nan         -nan         -nan         -nan         -nan\r\n",
      "-2.87542e-10 -1.28362e-11    0.0640585  -0.00170125 -5.67383e-11  2.79757e-10    -0.010086   0.00711857 -6.20769e-06 -6.15548e-10 -7.68831e-11   0.00673078  5.28816e-10  -1.0248e-09 -3.50163e-12   2.2275e-10      1.06908   -0.0128109    0.0247508    0.0247508  4.20609e-11  2.29764e-10     -0.01505  -0.00106046         -nan         -nan         -nan         -nan         -nan         -nan         -nan         -nan         -nan         -nan         -nan\r\n",
      " 1.38767e-10  2.85439e-10  -0.00170125    0.0640585 -3.34148e-10 -5.00074e-11  -0.00711857     0.010086  6.20771e-06 -6.26144e-11  1.45581e-09  -0.00673078 -7.58638e-10  1.02935e-09 -3.06088e-10  2.15168e-10   -0.0128109      1.06908   -0.0247508   -0.0247508 -1.38958e-10 -2.90905e-10      0.01505  -0.00106046         -nan         -nan         -nan         -nan         -nan         -nan         -nan         -nan         -nan         -nan         -nan\r\n",
      "-3.10596e-10 -7.55281e-11  -0.00248286    0.0196874 -5.76139e-11  1.11386e-10    0.0330988   -0.0292585 -1.82767e-05  1.11929e-10 -8.66392e-10    0.0198168  1.85812e-09 -2.98484e-09  3.62747e-10 -7.17464e-12    0.0247508   -0.0247508      1.13354    0.0772755   1.1897e-10   4.3354e-10   0.00545561  -0.00740591         -nan         -nan         -nan         -nan         -nan         -nan         -nan         -nan         -nan         -nan         -nan\r\n",
      "-3.79922e-11  7.32469e-11   -0.0196874   0.00248286 -2.87363e-10 -2.79499e-10   -0.0292585    0.0330988 -1.82767e-05  1.49086e-09  -1.8823e-10    0.0198168  1.85358e-09 -3.21466e-09 -7.51712e-11 -3.16764e-10    0.0247508   -0.0247508    0.0772755      1.13354  1.80327e-10  3.36913e-10   0.00545561   0.00740591         -nan         -nan         -nan         -nan         -nan         -nan         -nan         -nan         -nan         -nan         -nan\r\n",
      " 0.000255186   -0.0573567  5.44384e-13  4.61058e-11  -0.00347861  1.54767e-05 -3.28405e-10 -5.33015e-10 -3.93587e-12 -0.000548496   -0.0101908 -2.33041e-11    0.0179474  -0.00503779    0.0191591  -8.5241e-05  2.93017e-14  9.07467e-11  5.05196e-11  2.62755e-10     0.600541   2.2524e-10  2.81263e-09 -1.83975e-09         -nan         -nan         -nan         -nan         -nan         -nan         -nan         -nan         -nan         -nan         -nan\r\n",
      "  -0.0573567 -0.000255186   -1.645e-10  3.71332e-10 -1.54767e-05  -0.00347861 -3.85761e-09 -3.80962e-09  6.45021e-10   -0.0101908  0.000548496  1.38947e-10   0.00503779    0.0179474   8.5241e-05    0.0191591 -1.49321e-10 -6.08453e-11 -1.42177e-10 -5.12991e-11   2.2524e-10     0.600541   7.0446e-11  9.34037e-10         -nan         -nan         -nan         -nan         -nan         -nan         -nan         -nan         -nan         -nan         -nan\r\n",
      "-3.28137e-10 -3.21302e-10    -0.042366     0.042366  6.07673e-10  5.83168e-10   0.00290597   0.00290597 -0.000443235 -1.66951e-09 -1.60309e-09 -0.000216987  1.09864e-10  1.72892e-10  4.07641e-10  8.27846e-10   -0.0160921    0.0160921   0.00533758   0.00533758  3.14891e-09  5.25214e-10      1.98492 -7.61474e-09         -nan         -nan         -nan         -nan         -nan         -nan         -nan         -nan         -nan         -nan         -nan\r\n",
      "-3.33664e-10  1.04699e-10  -0.00834729  -0.00834729  4.61884e-10  5.34597e-10   -0.0187102    0.0187102  4.00534e-09 -2.16327e-09 -6.61944e-10  1.23471e-09 -1.46184e-10  2.07455e-10 -4.72919e-11  2.57779e-10  -0.00136934  -0.00136934  -0.00854062   0.00854062 -1.82078e-09  1.32473e-09 -7.44252e-09     0.953937         -nan         -nan         -nan         -nan         -nan         -nan         -nan         -nan         -nan         -nan         -nan\r\n",
      "        -nan         -nan         -nan         -nan         -nan         -nan         -nan         -nan         -nan         -nan         -nan         -nan         -nan         -nan         -nan         -nan         -nan         -nan         -nan         -nan         -nan         -nan         -nan         -nan         -nan         -nan         -nan         -nan         -nan         -nan         -nan         -nan         -nan         -nan         -nan\r\n",
      "        -nan         -nan         -nan         -nan         -nan         -nan         -nan         -nan         -nan         -nan         -nan         -nan         -nan         -nan         -nan         -nan         -nan         -nan         -nan         -nan         -nan         -nan         -nan         -nan         -nan         -nan         -nan         -nan         -nan         -nan         -nan         -nan         -nan         -nan         -nan\r\n",
      "        -nan         -nan         -nan         -nan         -nan         -nan         -nan         -nan         -nan         -nan         -nan         -nan         -nan         -nan         -nan         -nan         -nan         -nan         -nan         -nan         -nan         -nan         -nan         -nan         -nan         -nan         -nan         -nan         -nan         -nan         -nan         -nan         -nan         -nan         -nan\r\n",
      "        -nan         -nan         -nan         -nan         -nan         -nan         -nan         -nan         -nan         -nan         -nan         -nan         -nan         -nan         -nan         -nan         -nan         -nan         -nan         -nan         -nan         -nan         -nan         -nan         -nan         -nan         -nan         -nan         -nan         -nan         -nan         -nan         -nan         -nan         -nan\r\n",
      "        -nan         -nan         -nan         -nan         -nan         -nan         -nan         -nan         -nan         -nan         -nan         -nan         -nan         -nan         -nan         -nan         -nan         -nan         -nan         -nan         -nan         -nan         -nan         -nan         -nan         -nan         -nan         -nan         -nan         -nan         -nan         -nan         -nan         -nan         -nan\r\n",
      "        -nan         -nan         -nan         -nan         -nan         -nan         -nan         -nan         -nan         -nan         -nan         -nan         -nan         -nan         -nan         -nan         -nan         -nan         -nan         -nan         -nan         -nan         -nan         -nan         -nan         -nan         -nan         -nan         -nan         -nan         -nan         -nan         -nan         -nan         -nan\r\n",
      "        -nan         -nan         -nan         -nan         -nan         -nan         -nan         -nan         -nan         -nan         -nan         -nan         -nan         -nan         -nan         -nan         -nan         -nan         -nan         -nan         -nan         -nan         -nan         -nan         -nan         -nan         -nan         -nan         -nan         -nan         -nan         -nan         -nan         -nan         -nan\r\n",
      "        -nan         -nan         -nan         -nan         -nan         -nan         -nan         -nan         -nan         -nan         -nan         -nan         -nan         -nan         -nan         -nan         -nan         -nan         -nan         -nan         -nan         -nan         -nan         -nan         -nan         -nan         -nan         -nan         -nan         -nan         -nan         -nan         -nan         -nan         -nan\r\n",
      "        -nan         -nan         -nan         -nan         -nan         -nan         -nan         -nan         -nan         -nan         -nan         -nan         -nan         -nan         -nan         -nan         -nan         -nan         -nan         -nan         -nan         -nan         -nan         -nan         -nan         -nan         -nan         -nan         -nan         -nan         -nan         -nan         -nan         -nan         -nan\r\n",
      "        -nan         -nan         -nan         -nan         -nan         -nan         -nan         -nan         -nan         -nan         -nan         -nan         -nan         -nan         -nan         -nan         -nan         -nan         -nan         -nan         -nan         -nan         -nan         -nan         -nan         -nan         -nan         -nan         -nan         -nan         -nan         -nan         -nan         -nan         -nan\r\n",
      "        -nan         -nan         -nan         -nan         -nan         -nan         -nan         -nan         -nan         -nan         -nan         -nan         -nan         -nan         -nan         -nan         -nan         -nan         -nan         -nan         -nan         -nan         -nan         -nan          nan          nan          nan          nan          nan          nan          nan          nan          nan          nan          nan\r\n",
      "an error occurred:\r\n",
      "Small generalized eigenvalue problem failed.\r\n"
     ]
    }
   ],
   "source": [
    "!xtp_tools -c job_name=CO geometry_optimization.maxiter=1 dftpackage.basisset=3-21G dftpackage.auxbasisset=aux-def2-svp gwbse.gw.mode=G0W0 -e dftgwbse -t 4"
   ]
  },
  {
   "cell_type": "markdown",
   "metadata": {},
   "source": [
    "Notice that we are using 4 threads. The results will be stored in a file named `CO_summary.xml` in the current work directory, together with the optimization step in `optimisation.trj` and the orbitals in [hdf5 format](https://www.hdfgroup.org/solutions/hdf5/) saved on `CO.orb`."
   ]
  }
 ],
 "metadata": {
  "kernelspec": {
   "display_name": "Python 3",
   "language": "python",
   "name": "python3"
  },
  "language_info": {
   "codemirror_mode": {
    "name": "ipython",
    "version": 3
   },
   "file_extension": ".py",
   "mimetype": "text/x-python",
   "name": "python",
   "nbconvert_exporter": "python",
   "pygments_lexer": "ipython3",
   "version": "3.11.4"
  }
 },
 "nbformat": 4,
 "nbformat_minor": 4
}
