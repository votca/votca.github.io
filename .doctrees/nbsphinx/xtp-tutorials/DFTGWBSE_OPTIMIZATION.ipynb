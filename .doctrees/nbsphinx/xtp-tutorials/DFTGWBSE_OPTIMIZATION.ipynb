{
 "cells": [
  {
   "cell_type": "markdown",
   "metadata": {},
   "source": [
    "## DFT + GWBSE Optimization Using CO"
   ]
  },
  {
   "cell_type": "markdown",
   "metadata": {},
   "source": [
    "## Introduction\n",
    "This tutorial explains how to perform a molecular geometric optimization using the **GWBSE** method. See [the GW Compendium: A Practical Guide to Theoretical Photoemission Spectroscopy](https://doi.org/10.3389/fchem.2019.00377), for an excellent introduction to the method."
   ]
  },
  {
   "cell_type": "markdown",
   "metadata": {},
   "source": [
    "## Requirements\n",
    "* You will need to install **VOTCA** using the instructions described [here](https://github.com/votca/votca/blob/master/share/doc/INSTALL.rst)\n",
    "* Once the installation is completed you need to activate the VOTCA enviroment by running the `VOTCARC.bash` script that has been installed at the bin subfolder for the path that you have provided for the installation step above"
   ]
  },
  {
   "cell_type": "markdown",
   "metadata": {},
   "source": [
    "## Preparing the input\n",
    "To run a DFT-GWBSE calculation we will use the [xtp_tools](https://www.votca.org/xtp/xtp_tools_overview.html) calculator."
   ]
  },
  {
   "cell_type": "markdown",
   "metadata": {},
   "source": [
    "we can now change the calculator mode from single point energy calculation to optimization as follows by adding \n",
    "`-c geometry_optimization.maxiter=1` which enables optimization with one iteration. "
   ]
  },
  {
   "cell_type": "markdown",
   "metadata": {},
   "source": [
    "Because geometry optimsation is quite expensive numerically we chose a smaller basisset and G0W0 Finally, to run the calculation we just need the following command (This still takes a while)"
   ]
  },
  {
   "cell_type": "code",
   "execution_count": 1,
   "metadata": {
    "execution": {
     "iopub.execute_input": "2021-12-14T05:35:17.959860Z",
     "iopub.status.busy": "2021-12-14T05:35:17.959337Z",
     "iopub.status.idle": "2021-12-14T05:35:38.542618Z",
     "shell.execute_reply": "2021-12-14T05:35:38.541938Z"
    }
   },
   "outputs": [
    {
     "name": "stdout",
     "output_type": "stream",
     "text": [
      "==================================================\r\n",
      "========   VOTCA (http://www.votca.org)   ========\r\n",
      "==================================================\r\n",
      "\r\n",
      "please submit bugs to https://github.com/votca/xtp/issues\r\n",
      "\r\n",
      "xtp_tools, version 2022-dev gitid: 540916e (compiled Dec 14 2021, 05:28:20)\r\n",
      "votca_csg, version 2022-dev gitid: 540916e (compiled Dec 14 2021, 05:15:55)\r\n",
      "votca_tools, version 2022-dev gitid: 540916e (compiled Dec 14 2021, 05:13:51)\r\n",
      "\r\n",
      "Initializing tool\r\n",
      "... dftgwbse Evaluating tool\r\n",
      "... dftgwbse  Using 4 threads\r\n",
      "... ... Reading structure from CO.xyz\r\n",
      "... ... Requested geometry optimization of excited state s1\r\n",
      "... ... Initial state: s1\r\n",
      "... ... WARNING: No tracker is used \r\n",
      "... ... Convergence of total energy: 0.000001 Hartree \r\n",
      "... ... Convergence of RMS Force:    0.000030 Hartree/Bohr \r\n",
      "... ... Convergence of Max Force:    0.000100 Hartree/Bohr \r\n",
      "... ... Convergence of RMS Step:     0.000600 Bohr \r\n",
      "... ... Convergence of Max Step:     0.001000 Bohr \r\n",
      "... ... Initial trust radius:        0.018897 BohrA\r\n",
      "    0.306708 -4.35376e-14 -1.22458e-10  -3.9043e-10 -3.18359e-14    0.0516336 -1.87956e-13  1.84905e-13  4.77564e-14 -1.41175e-06   -0.0181563 -2.80898e-14 -1.09777e-05    0.0389795 -2.73421e-14    0.0421241 -1.94745e-11   2.6157e-11 -3.87006e-14 -3.66661e-14 -2.66537e-07    -0.108303  -1.6043e-10 -1.22758e-10          nan          nan          nan          nan          nan          nan          nan          nan          nan          nan          nan\r\n",
      "-4.35249e-14     0.306708 -1.70397e-13 -1.67317e-13    0.0516336 -3.17726e-14  1.74359e-09 -2.01157e-09 -5.34415e-10    0.0181563 -1.41175e-06  3.16684e-10   -0.0389795 -1.09777e-05    0.0421241 -2.72738e-14 -1.22653e-13  1.20587e-13   3.2947e-10  3.36152e-10     0.108303 -2.66537e-07 -2.25596e-14  -8.0468e-11          nan          nan          nan          nan          nan          nan          nan          nan          nan          nan          nan\r\n",
      "-1.22458e-10 -1.70397e-13     0.319156   -0.0100481  9.94608e-14  4.19799e-11  -1.7928e-05   1.7928e-05  6.70009e-06 -6.22155e-14  4.28649e-11 -2.86727e-06  -5.2366e-14  2.56197e-11  3.35746e-14  1.63903e-11   -0.0495092   0.00204416 -3.45102e-06 -1.68185e-05 -5.75715e-13  1.58331e-11    0.0252874   -0.0197276          nan          nan          nan          nan          nan          nan          nan          nan          nan          nan          nan\r\n",
      " -3.9043e-10 -1.67317e-13   -0.0100481     0.319156  1.03865e-13 -3.67901e-10  -1.7928e-05   1.7928e-05  6.70009e-06 -5.60459e-14  1.10116e-10 -2.86727e-06 -5.43767e-14  3.30934e-11  3.71751e-14 -3.13124e-10  -0.00204416    0.0495092 -1.68185e-05 -3.45102e-06 -5.68873e-13  5.25147e-10    0.0252874    0.0197276          nan          nan          nan          nan          nan          nan          nan          nan          nan          nan          nan\r\n",
      "-3.18118e-14    0.0516336  9.94609e-14  1.03865e-13     0.490609 -4.90482e-15 -1.69885e-09  1.28897e-09   7.5566e-10    0.0134761 -1.04784e-06 -2.05863e-10    0.0080157  2.25745e-06   -0.0309388 -9.21625e-14   6.4744e-14 -6.60785e-14 -1.87758e-10 -1.83891e-10     0.053272 -1.31104e-07  3.28137e-14 -7.92476e-12          nan          nan          nan          nan          nan          nan          nan          nan          nan          nan          nan\r\n",
      "   0.0516336 -3.17604e-14  4.19799e-11 -3.67901e-10 -4.91956e-15     0.490609  1.16543e-13 -1.20916e-13 -6.64698e-14 -1.04784e-06   -0.0134761  1.82919e-14  2.25745e-06   -0.0080157 -9.22311e-14   -0.0309388 -1.41584e-11  1.80257e-11  9.89081e-15  1.11911e-14 -1.31104e-07    -0.053272 -9.98375e-11 -3.68755e-11          nan          nan          nan          nan          nan          nan          nan          nan          nan          nan          nan\r\n",
      "-1.87956e-13  1.74359e-09  -1.7928e-05  -1.7928e-05 -1.69885e-09  1.16543e-13     0.549726    -0.220522   -0.0861688  7.16777e-10  1.68105e-14    0.0368756  5.42593e-10  2.01878e-13 -7.89528e-10  4.12572e-14  -1.2714e-05 -6.53495e-07   -0.0125301     0.034935  6.78358e-09  6.21132e-13 -2.45409e-06   0.00977677          nan          nan          nan          nan          nan          nan          nan          nan          nan          nan          nan\r\n",
      " 1.84905e-13 -2.01157e-09   1.7928e-05   1.7928e-05  1.28897e-09 -1.20916e-13    -0.220522     0.549726    0.0861688 -7.84029e-10 -1.06099e-14   -0.0368756 -5.50067e-10 -2.03881e-13  4.60014e-10 -4.49092e-14 -6.53494e-07  -1.2714e-05    -0.034935    0.0125301 -7.28253e-09 -6.14416e-13  2.45409e-06   0.00977674          nan          nan          nan          nan          nan          nan          nan          nan          nan          nan          nan\r\n",
      " 4.77566e-14 -5.34415e-10  6.70009e-06  6.70009e-06   7.5566e-10 -6.64698e-14   -0.0861688    0.0861688     0.662739 -4.24852e-10 -4.63471e-15   0.00625217 -6.14589e-11 -2.27078e-14  4.50125e-10 -3.94746e-14  1.48827e-06 -1.48827e-06  -0.00414117  -0.00414117 -1.82084e-09 -1.53699e-13  1.66337e-06 -4.14364e-09          nan          nan          nan          nan          nan          nan          nan          nan          nan          nan          nan\r\n",
      "-1.41175e-06    0.0181563 -6.22155e-14 -5.60457e-14    0.0134761 -1.04784e-06  7.16777e-10 -7.84029e-10 -4.24852e-10     0.680027 -1.94208e-15   3.1152e-11  -7.6988e-05 -2.76682e-08   0.00866729 -6.73928e-07 -3.16974e-14  3.28315e-14  9.37655e-11   8.8745e-11    0.0410255  3.08899e-06 -4.39692e-15 -4.98163e-11          nan          nan          nan          nan          nan          nan          nan          nan          nan          nan          nan\r\n",
      "  -0.0181563 -1.41175e-06  4.28649e-11  1.10116e-10 -1.04784e-06   -0.0134761  1.68105e-14 -1.06097e-14 -4.63467e-15 -1.99796e-15     0.680027  2.68263e-16  2.76682e-08  -7.6988e-05 -6.73928e-07  -0.00866729 -1.45176e-11   1.9538e-11 -6.14301e-15   -5.009e-15 -3.08899e-06    0.0410255  1.18009e-10   8.7248e-11          nan          nan          nan          nan          nan          nan          nan          nan          nan          nan          nan\r\n",
      "-2.80898e-14  3.16684e-10 -2.86727e-06 -2.86727e-06 -2.05863e-10  1.82921e-14    0.0368756   -0.0368756   0.00625217   3.1152e-11   2.6832e-16     0.797893  2.21528e-10  8.17377e-14  6.39474e-11 -5.71645e-15 -5.22377e-06  5.22377e-06    0.0145354    0.0145354  9.57151e-10  8.09316e-14 -6.67713e-07  1.71668e-09          nan          nan          nan          nan          nan          nan          nan          nan          nan          nan          nan\r\n",
      "-1.09777e-05   -0.0389795  -5.2366e-14 -5.43767e-14    0.0080157  2.25745e-06  5.42593e-10 -5.50067e-10 -6.14589e-11  -7.6988e-05  2.76682e-08  2.21528e-10     0.956279 -5.20083e-14    0.0131238  3.69605e-06 -1.08509e-13  1.07267e-13  2.31212e-10  3.46022e-10    0.0200194 -5.68729e-06 -2.36815e-14 -4.58819e-11          nan          nan          nan          nan          nan          nan          nan          nan          nan          nan          nan\r\n",
      "   0.0389795 -1.09777e-05  2.56197e-11  3.30934e-11  2.25745e-06   -0.0080157  2.01878e-13 -2.03881e-13 -2.27078e-14 -2.76682e-08  -7.6988e-05  8.17377e-14 -5.19893e-14     0.956279  3.69605e-06   -0.0131238 -4.62596e-11 -6.85497e-11  1.10873e-13  1.09656e-13  5.68729e-06    0.0200194  4.89095e-11  6.60478e-11          nan          nan          nan          nan          nan          nan          nan          nan          nan          nan          nan\r\n",
      "-2.73381e-14    0.0421241  3.35745e-14   3.7175e-14   -0.0309388 -9.22322e-14 -7.89528e-10  4.60014e-10  4.50125e-10   0.00866729 -6.73928e-07  6.39474e-11    0.0131238  3.69605e-06     0.987501  5.07345e-14 -1.17386e-14 -4.02133e-14  -1.3445e-10  4.39278e-11    0.0224113 -5.51549e-08  2.54538e-14  3.90597e-11          nan          nan          nan          nan          nan          nan          nan          nan          nan          nan          nan\r\n",
      "   0.0421241 -2.72861e-14  1.63903e-11 -3.13124e-10 -9.21636e-14   -0.0309388  4.12572e-14 -4.49093e-14 -3.94746e-14 -6.73928e-07  -0.00866729 -5.71645e-15  3.69605e-06   -0.0131238  5.07263e-14     0.987501  6.74219e-11  1.10956e-10 -2.98817e-14   2.2102e-14  -5.5155e-08   -0.0224113  1.30106e-10  6.46676e-11          nan          nan          nan          nan          nan          nan          nan          nan          nan          nan          nan\r\n",
      "-1.94745e-11 -1.22653e-13   -0.0495092  -0.00204416   6.4744e-14 -1.41584e-11  -1.2714e-05 -6.53494e-07  1.48827e-06 -3.16974e-14 -1.45176e-11 -5.22377e-06 -1.08509e-13 -4.62596e-11 -1.17386e-14  6.74219e-11      1.02819   -0.0020693 -1.56111e-05 -1.56111e-05 -4.49865e-13 -1.80135e-12  -0.00469072  9.58454e-05          nan          nan          nan          nan          nan          nan          nan          nan          nan          nan          nan\r\n",
      "  2.6157e-11  1.20587e-13   0.00204416    0.0495092 -6.60785e-14  1.80257e-11 -6.53495e-07  -1.2714e-05 -1.48827e-06  3.28315e-14   1.9538e-11  5.22377e-06  1.07267e-13 -6.85497e-11 -4.02134e-14  1.10956e-10   -0.0020693      1.02819  1.56111e-05  1.56111e-05  4.23147e-13 -8.99704e-11   0.00469072  9.58456e-05          nan          nan          nan          nan          nan          nan          nan          nan          nan          nan          nan\r\n",
      "-3.87006e-14   3.2947e-10 -3.45102e-06 -1.68185e-05 -1.87758e-10  9.89081e-15   -0.0125301    -0.034935  -0.00414117  9.37655e-11 -6.14302e-15    0.0145354  2.31212e-10  1.10873e-13  -1.3445e-10 -2.98817e-14 -1.56111e-05  1.56111e-05      1.07163    0.0455077  1.15778e-09  1.31655e-13 -2.42001e-06 -0.000253575          nan          nan          nan          nan          nan          nan          nan          nan          nan          nan          nan\r\n",
      "-3.66661e-14  3.36152e-10 -1.68185e-05 -3.45102e-06 -1.83891e-10  1.11911e-14     0.034935    0.0125301  -0.00414117   8.8745e-11 -5.00903e-15    0.0145354  3.46022e-10  1.09656e-13  4.39278e-11   2.2102e-14 -1.56111e-05  1.56111e-05    0.0455077      1.07163   1.2482e-09  1.04669e-13 -2.42001e-06  0.000253579          nan          nan          nan          nan          nan          nan          nan          nan          nan          nan          nan\r\n",
      " 1.85174e-07   -0.0752424  3.14762e-13  3.10158e-13   -0.0690969   1.7005e-07 -3.52652e-09   3.8526e-09  1.17254e-09   -0.0309264  2.32858e-06 -8.30841e-10  -0.00901647 -2.56148e-06   -0.0363998  8.95812e-08  2.56379e-13 -2.55977e-13 -7.12841e-10 -7.14106e-10    -0.194835 -3.35017e-13  2.93952e-13 -6.02937e-10          nan          nan          nan          nan          nan          nan          nan          nan          nan          nan          nan\r\n",
      "   0.0752424  1.85174e-07 -1.03398e-10 -4.38778e-10   1.7005e-07    0.0690969 -3.30382e-13  3.26082e-13  9.74428e-14 -2.32858e-06   -0.0309264 -7.00562e-14  2.56148e-06  -0.00901647  8.95812e-08    0.0363998  7.75988e-12 -4.82538e-12  -5.8017e-14 -5.71983e-14 -3.35079e-13    -0.194835 -2.30345e-09  8.91234e-10          nan          nan          nan          nan          nan          nan          nan          nan          nan          nan          nan\r\n",
      " 1.58821e-10  3.20174e-14    0.0143253    0.0143253 -3.05511e-14  1.71047e-10  5.61813e-06 -5.61813e-06 -1.69461e-06  6.98313e-15  4.79008e-11  6.81166e-07  5.35603e-15  8.18509e-12  1.41977e-15  2.22422e-10  -0.00613235   0.00613235 -1.48052e-06 -1.48052e-06  3.57235e-13 -2.19098e-09     0.954926   1.1657e-08          nan          nan          nan          nan          nan          nan          nan          nan          nan          nan          nan\r\n",
      "-7.45392e-11 -4.72043e-11   0.00562595  -0.00562595   1.9718e-10  3.38003e-10  -0.00192326  -0.00192325  2.32923e-09  1.56939e-12 -1.08301e-11 -1.21757e-09 -6.76391e-11  1.13632e-10  1.88258e-11  2.28422e-11   0.00417611   0.00417611  -0.00212714   0.00212713 -7.21882e-10  1.07266e-09  1.18557e-08     0.106838          nan          nan          nan          nan          nan          nan          nan          nan          nan          nan          nan\r\n",
      "        -nan         -nan         -nan         -nan         -nan         -nan         -nan         -nan         -nan         -nan         -nan         -nan         -nan         -nan         -nan         -nan         -nan         -nan         -nan         -nan         -nan         -nan         -nan         -nan         -nan         -nan         -nan         -nan         -nan         -nan         -nan         -nan         -nan         -nan         -nan\r\n",
      "        -nan         -nan         -nan         -nan         -nan         -nan         -nan         -nan         -nan         -nan         -nan         -nan         -nan         -nan         -nan         -nan         -nan         -nan         -nan         -nan         -nan         -nan         -nan         -nan         -nan         -nan         -nan         -nan         -nan         -nan         -nan         -nan         -nan         -nan         -nan\r\n",
      "        -nan         -nan         -nan         -nan         -nan         -nan         -nan         -nan         -nan         -nan         -nan         -nan         -nan         -nan         -nan         -nan         -nan         -nan         -nan         -nan         -nan         -nan         -nan         -nan          nan          nan          nan          nan          nan          nan          nan          nan          nan          nan          nan\r\n",
      "        -nan         -nan         -nan         -nan         -nan         -nan         -nan         -nan         -nan         -nan         -nan         -nan         -nan         -nan         -nan         -nan         -nan         -nan         -nan         -nan         -nan         -nan         -nan         -nan          nan          nan          nan          nan          nan          nan          nan          nan          nan          nan          nan\r\n",
      "        -nan         -nan         -nan         -nan         -nan         -nan         -nan         -nan         -nan         -nan         -nan         -nan         -nan         -nan         -nan         -nan         -nan         -nan         -nan         -nan         -nan         -nan         -nan         -nan         -nan         -nan         -nan         -nan         -nan         -nan         -nan         -nan         -nan         -nan         -nan\r\n",
      "        -nan         -nan         -nan         -nan         -nan         -nan         -nan         -nan         -nan         -nan         -nan         -nan         -nan         -nan         -nan         -nan         -nan         -nan         -nan         -nan         -nan         -nan         -nan         -nan         -nan         -nan         -nan         -nan         -nan         -nan         -nan         -nan         -nan         -nan         -nan\r\n",
      "        -nan         -nan         -nan         -nan         -nan         -nan         -nan         -nan         -nan         -nan         -nan         -nan         -nan         -nan         -nan         -nan         -nan         -nan         -nan         -nan         -nan         -nan         -nan         -nan          nan          nan          nan          nan          nan          nan          nan          nan          nan          nan          nan\r\n",
      "        -nan         -nan         -nan         -nan         -nan         -nan         -nan         -nan         -nan         -nan         -nan         -nan         -nan         -nan         -nan         -nan         -nan         -nan         -nan         -nan         -nan         -nan         -nan         -nan          nan          nan          nan          nan          nan          nan          nan          nan          nan          nan          nan\r\n",
      "        -nan         -nan         -nan         -nan         -nan         -nan         -nan         -nan         -nan         -nan         -nan         -nan         -nan         -nan         -nan         -nan         -nan         -nan         -nan         -nan         -nan         -nan         -nan         -nan          nan          nan          nan         -nan          nan          nan          nan         -nan          nan          nan          nan\r\n",
      "        -nan         -nan         -nan         -nan         -nan         -nan         -nan         -nan         -nan         -nan         -nan         -nan         -nan         -nan         -nan         -nan         -nan         -nan         -nan         -nan         -nan         -nan         -nan         -nan          nan          nan          nan         -nan          nan          nan          nan         -nan          nan          nan          nan\r\n",
      "        -nan         -nan         -nan         -nan         -nan         -nan         -nan         -nan         -nan         -nan         -nan         -nan         -nan         -nan         -nan         -nan         -nan         -nan         -nan         -nan         -nan         -nan         -nan         -nan         -nan         -nan         -nan         -nan         -nan         -nan         -nan         -nan         -nan         -nan         -nan\r\n",
      "B\r\n",
      "   0.0935659 -1.94011e-14 -6.09655e-11 -2.33642e-10 -1.95765e-14    0.0328713 -8.15747e-14  7.96083e-14  2.95555e-14 -1.20562e-06   -0.0155052 -1.93486e-14 -1.36066e-05    0.0483139 -3.17802e-14    0.0481173  -1.9872e-11  2.29724e-11 -3.29549e-14  -3.1925e-14 -6.16405e-08   -0.0250466  5.23673e-11 -1.40429e-10         -nan         -nan         -nan         -nan         -nan         -nan         -nan         -nan         -nan         -nan         -nan\r\n",
      "-1.93959e-14    0.0935659 -7.47471e-14 -7.27717e-14    0.0328713 -1.95418e-14  6.93485e-10 -8.66161e-10 -3.29987e-10    0.0155052 -1.20562e-06  2.18245e-10   -0.0483139 -1.36066e-05    0.0481173 -3.17053e-14 -1.02902e-13  1.01837e-13  2.78098e-10  2.81198e-10    0.0250466 -6.16406e-08  1.49366e-14 -9.19926e-11         -nan         -nan         -nan         -nan         -nan         -nan         -nan         -nan         -nan         -nan         -nan\r\n",
      "-6.09655e-11 -7.47471e-14      0.10504  -0.00568231  5.85125e-14  2.62123e-11 -9.05868e-06  9.05868e-06  4.91894e-06 -4.77604e-14   4.1169e-11 -2.24716e-06 -4.84892e-14   2.6251e-11  3.79356e-14  2.15886e-11   -0.0670098   0.00240141 -3.26288e-06 -2.14584e-05 -9.98311e-14 -9.09167e-11    0.0419176   -0.0143484         -nan         -nan         -nan         -nan         -nan         -nan         -nan         -nan         -nan         -nan         -nan\r\n",
      "-2.33642e-10 -7.27717e-14  -0.00568231      0.10504   6.1628e-14 -2.63301e-10 -9.05867e-06  9.05868e-06  4.91894e-06 -4.15736e-14  1.08726e-10 -2.24716e-06 -5.04619e-14  3.35764e-11  4.23819e-14 -3.84219e-10  -0.00240141    0.0670098 -2.14584e-05 -3.26288e-06  -9.7616e-14  8.33994e-11    0.0419176    0.0143484         -nan         -nan         -nan         -nan         -nan         -nan         -nan         -nan         -nan         -nan         -nan\r\n",
      "-1.95563e-14    0.0328713  5.85126e-14   6.1628e-14     0.240584 -1.83812e-15 -1.05286e-09  7.63348e-10  6.49827e-10    0.0144632 -1.12459e-06 -1.73493e-10   0.00916843  2.58209e-06   -0.0440553 -1.27834e-13  5.66585e-14 -5.33805e-14 -1.51136e-10 -1.63432e-10  -0.00432456  1.06429e-08  3.19249e-15  1.84311e-10         -nan         -nan         -nan         -nan         -nan         -nan         -nan         -nan         -nan         -nan         -nan\r\n",
      "   0.0328713 -1.95319e-14  2.62123e-11 -2.63301e-10  -1.8519e-15     0.240584  6.91605e-14 -7.22535e-14 -5.71736e-14 -1.12459e-06   -0.0144632  1.55057e-14  2.58209e-06  -0.00916843 -1.27921e-13   -0.0440553 -2.41341e-11  1.18383e-11  9.03779e-15  5.71073e-15  1.06429e-08   0.00432456  2.19109e-11    2.929e-10         -nan         -nan         -nan         -nan         -nan         -nan         -nan         -nan         -nan         -nan         -nan\r\n",
      "-8.15748e-14  6.93485e-10 -9.05868e-06 -9.05867e-06 -1.05286e-09  6.91606e-14     0.221542     -0.11082   -0.0632617  5.30872e-10  1.47088e-14    0.0289004  4.89916e-10  1.82338e-13 -9.26879e-10  4.70391e-14 -1.12788e-05 -6.91675e-06   -0.0337442    0.0308642  1.18894e-09  1.10824e-13  3.35336e-06   0.00797387         -nan         -nan         -nan         -nan         -nan         -nan         -nan         -nan         -nan         -nan         -nan\r\n",
      " 7.96084e-14 -8.66161e-10  9.05868e-06  9.05868e-06  7.63348e-10 -7.22535e-14     -0.11082     0.221542    0.0632617 -5.98429e-10 -8.49146e-15   -0.0289004 -4.97242e-10 -1.84298e-13  5.21072e-10 -5.15505e-14 -6.91675e-06 -1.12788e-05   -0.0308642    0.0337442 -1.36166e-09 -1.08345e-13 -3.35336e-06   0.00797386         -nan         -nan         -nan         -nan         -nan         -nan         -nan         -nan         -nan         -nan         -nan\r\n",
      " 2.95558e-14 -3.29987e-10  4.91894e-06  4.91894e-06  6.49827e-10 -5.71736e-14   -0.0632617    0.0632617     0.428924 -4.79328e-10 -5.24404e-15     0.012098 -1.75706e-11  -6.5831e-15  6.21667e-10  -5.4524e-14   9.8472e-09 -9.84717e-09 -2.74002e-05 -2.74002e-05 -4.95217e-10 -4.19302e-14   3.1638e-07 -1.02629e-09         -nan         -nan         -nan         -nan         -nan         -nan         -nan         -nan         -nan         -nan         -nan\r\n",
      "-1.20562e-06    0.0155052 -4.77605e-14 -4.15734e-14    0.0144632 -1.12459e-06  5.30872e-10 -5.98429e-10 -4.79328e-10     0.462759 -2.55399e-15  -2.9651e-13 -0.000635208 -2.28283e-07    0.0104064 -8.09151e-07 -2.97946e-14  3.06107e-14  8.94166e-11  8.39329e-11    0.0177344   1.3353e-06  1.45573e-15 -9.12497e-11         -nan         -nan         -nan         -nan         -nan         -nan         -nan         -nan         -nan         -nan         -nan\r\n",
      "  -0.0155052 -1.20562e-06   4.1169e-11  1.08726e-10 -1.12459e-06   -0.0144632  1.47087e-14 -8.49118e-15 -5.24396e-15 -2.63382e-15     0.462759 -9.05685e-17  2.28283e-07 -0.000635208 -8.09151e-07   -0.0104064 -3.07986e-11  3.62823e-11 -1.22611e-14 -1.14433e-14  -1.3353e-06    0.0177344  1.14127e-10   1.4955e-10         -nan         -nan         -nan         -nan         -nan         -nan         -nan         -nan         -nan         -nan         -nan\r\n",
      "-1.93486e-14  2.18245e-10 -2.24716e-06 -2.24716e-06 -1.73493e-10   1.5506e-14    0.0289004   -0.0289004     0.012098  -2.9651e-13 -9.04794e-17     0.635437     3.22e-10  1.18831e-13  1.32652e-10 -1.18013e-14 -7.54815e-06  7.54815e-06     0.021003     0.021003  1.07108e-10  8.56314e-15 -1.68008e-07  2.02193e-10         -nan         -nan         -nan         -nan         -nan         -nan         -nan         -nan         -nan         -nan         -nan\r\n",
      "-1.36066e-05   -0.0483139 -4.84892e-14 -5.04619e-14   0.00916843  2.58209e-06  4.89916e-10 -4.97242e-10 -1.75706e-11 -0.000635208  2.28283e-07     3.22e-10     0.916802 -9.13522e-14    0.0222399   6.2634e-06 -1.85789e-13  1.83274e-13  3.71311e-10  6.02973e-10    0.0232165 -6.59556e-06 -3.72045e-14 -1.30715e-10         -nan         -nan         -nan         -nan         -nan         -nan         -nan         -nan         -nan         -nan         -nan\r\n",
      "   0.0483139 -1.36066e-05   2.6251e-11  3.35764e-11  2.58209e-06  -0.00916843  1.82338e-13 -1.84298e-13 -6.58315e-15 -2.28283e-07 -0.000635208  1.18831e-13 -9.13161e-14     0.916802   6.2634e-06   -0.0222399 -9.04567e-11 -1.41205e-10  1.89687e-13  1.87222e-13  6.59556e-06    0.0232165   1.0423e-10  2.01799e-10         -nan         -nan         -nan         -nan         -nan         -nan         -nan         -nan         -nan         -nan         -nan\r\n",
      "-3.17748e-14    0.0481173  3.79356e-14  4.23818e-14   -0.0440553 -1.27926e-13 -9.26879e-10  5.21072e-10  6.21667e-10    0.0104064 -8.09151e-07  1.32652e-10    0.0222399   6.2634e-06      0.97942  9.75872e-14  -3.2403e-14 -6.30397e-14 -2.15076e-10   1.1263e-10  -0.00417248  1.02686e-08  4.15763e-14  9.26354e-11         -nan         -nan         -nan         -nan         -nan         -nan         -nan         -nan         -nan         -nan         -nan\r\n",
      "   0.0481173 -3.17237e-14  2.15886e-11 -3.84219e-10 -1.27837e-13   -0.0440553   4.7039e-14 -5.15507e-14  -5.4524e-14 -8.09151e-07   -0.0104064 -1.18013e-14   6.2634e-06   -0.0222399   9.7573e-14      0.97942  1.31024e-10  1.96683e-10 -5.50941e-14  4.04084e-14  1.02686e-08   0.00417248  4.31217e-10  1.44417e-10         -nan         -nan         -nan         -nan         -nan         -nan         -nan         -nan         -nan         -nan         -nan\r\n",
      " -1.9872e-11 -1.02902e-13   -0.0670098  -0.00240141  5.66585e-14 -2.41341e-11 -1.12788e-05 -6.91675e-06   9.8472e-09 -2.97946e-14 -3.07986e-11 -7.54815e-06 -1.85789e-13 -9.04567e-11  -3.2403e-14  1.31024e-10       1.0596  -0.00440413 -2.91575e-05 -2.91575e-05 -2.56343e-13  2.35524e-11   -0.0159918   0.00579773         -nan         -nan         -nan         -nan         -nan         -nan         -nan         -nan         -nan         -nan         -nan\r\n",
      " 2.29724e-11  1.01837e-13   0.00240141    0.0670098 -5.33805e-14  1.18383e-11 -6.91675e-06 -1.12788e-05 -9.84717e-09  3.06107e-14  3.62823e-11  7.54815e-06  1.83274e-13 -1.41205e-10 -6.30397e-14  1.96683e-10  -0.00440413       1.0596  2.91575e-05  2.91575e-05  2.14729e-13 -1.64385e-10    0.0159918   0.00579774         -nan         -nan         -nan         -nan         -nan         -nan         -nan         -nan         -nan         -nan         -nan\r\n",
      "-3.29549e-14  2.78098e-10 -3.26288e-06 -2.14584e-05 -1.51136e-10  9.03779e-15   -0.0337442   -0.0308642 -2.74002e-05  8.94166e-11 -1.22611e-14     0.021003  3.71311e-10  1.89687e-13 -2.15076e-10 -5.50941e-14 -2.91575e-05  2.91575e-05      1.14073     0.085536  5.62041e-10  1.08434e-13 -6.06472e-06  -0.00331481         -nan         -nan         -nan         -nan         -nan         -nan         -nan         -nan         -nan         -nan         -nan\r\n",
      "-3.19251e-14  2.81198e-10 -2.14584e-05 -3.26288e-06 -1.63432e-10  5.71073e-15    0.0308642    0.0337442 -2.74002e-05  8.39329e-11 -1.14434e-14     0.021003  6.02973e-10  1.87222e-13   1.1263e-10  4.04084e-14 -2.91575e-05  2.91575e-05     0.085536      1.14073  7.02584e-10  6.68566e-14 -6.06472e-06   0.00331481         -nan         -nan         -nan         -nan         -nan         -nan         -nan         -nan         -nan         -nan         -nan\r\n",
      "-1.40902e-07    0.0572532  -3.3704e-13 -3.33576e-13  -0.00341529  8.40512e-09   4.1284e-09 -4.38905e-09 -6.37935e-10    0.0102623 -7.72693e-07  1.16523e-10    0.0185867   5.2803e-06   -0.0190696   4.6931e-08 -5.43488e-14 -4.82632e-15 -5.04659e-11  1.50415e-10     0.599386 -3.18124e-13  2.47453e-13 -1.32496e-09         -nan         -nan         -nan         -nan         -nan         -nan         -nan         -nan         -nan         -nan         -nan\r\n",
      "  -0.0572532 -1.40902e-07 -8.19174e-11  1.79426e-10  8.40514e-09   0.00341529  3.74867e-13  -3.7126e-13 -5.64374e-14  7.72693e-07    0.0102623  1.06422e-14  -5.2803e-06    0.0185867   4.6931e-08    0.0190696 -2.12095e-11 -1.78422e-10  6.30045e-14  4.25957e-15 -3.18192e-13     0.599386 -2.61312e-09   2.0098e-09         -nan         -nan         -nan         -nan         -nan         -nan         -nan         -nan         -nan         -nan         -nan\r\n",
      "-6.18674e-11  7.23496e-15    0.0423952    0.0423952  -7.8028e-15 -5.25862e-11   3.3577e-06  -3.3577e-06 -3.80724e-07  6.76458e-15  8.87907e-11  1.96854e-07 -3.37019e-14  1.15882e-10  3.22395e-14  4.93168e-10    -0.016942     0.016942 -5.80527e-06 -5.80527e-06  3.15815e-13 -2.39357e-09       1.9863  1.45414e-08         -nan         -nan         -nan         -nan         -nan         -nan         -nan         -nan         -nan         -nan         -nan\r\n",
      "-2.13778e-10 -1.42864e-10   -0.0161978    0.0161978  1.49405e-10  2.47531e-10    0.0090379   0.00903788 -2.34669e-09 -7.25438e-11  1.10064e-10  7.35769e-10 -1.54543e-10  2.43015e-10   8.3847e-11  1.30759e-10   0.00697625   0.00697625  -0.00380399   0.00380399 -1.40653e-09  2.11982e-09  1.47312e-08     0.802564         -nan         -nan         -nan         -nan         -nan         -nan         -nan         -nan         -nan         -nan         -nan\r\n",
      "        -nan         -nan         -nan         -nan         -nan         -nan         -nan         -nan         -nan         -nan         -nan         -nan         -nan         -nan         -nan         -nan         -nan         -nan         -nan         -nan         -nan         -nan         -nan         -nan         -nan         -nan         -nan         -nan         -nan         -nan         -nan         -nan         -nan         -nan         -nan\r\n",
      "        -nan         -nan         -nan         -nan         -nan         -nan         -nan         -nan         -nan         -nan         -nan         -nan         -nan         -nan         -nan         -nan         -nan         -nan         -nan         -nan         -nan         -nan         -nan         -nan         -nan         -nan         -nan         -nan         -nan         -nan         -nan         -nan         -nan         -nan         -nan\r\n",
      "        -nan         -nan         -nan         -nan         -nan         -nan         -nan         -nan         -nan         -nan         -nan         -nan         -nan         -nan         -nan         -nan         -nan         -nan         -nan         -nan         -nan         -nan         -nan         -nan         -nan         -nan         -nan         -nan         -nan         -nan         -nan         -nan         -nan         -nan         -nan\r\n",
      "        -nan         -nan         -nan         -nan         -nan         -nan         -nan         -nan         -nan         -nan         -nan         -nan         -nan         -nan         -nan         -nan         -nan         -nan         -nan         -nan         -nan         -nan         -nan         -nan         -nan         -nan         -nan         -nan         -nan         -nan         -nan         -nan         -nan         -nan         -nan\r\n",
      "        -nan         -nan         -nan         -nan         -nan         -nan         -nan         -nan         -nan         -nan         -nan         -nan         -nan         -nan         -nan         -nan         -nan         -nan         -nan         -nan         -nan         -nan         -nan         -nan         -nan         -nan         -nan         -nan         -nan         -nan         -nan         -nan         -nan         -nan         -nan\r\n",
      "        -nan         -nan         -nan         -nan         -nan         -nan         -nan         -nan         -nan         -nan         -nan         -nan         -nan         -nan         -nan         -nan         -nan         -nan         -nan         -nan         -nan         -nan         -nan         -nan         -nan         -nan         -nan         -nan         -nan         -nan         -nan         -nan         -nan         -nan         -nan\r\n",
      "        -nan         -nan         -nan         -nan         -nan         -nan         -nan         -nan         -nan         -nan         -nan         -nan         -nan         -nan         -nan         -nan         -nan         -nan         -nan         -nan         -nan         -nan         -nan         -nan         -nan         -nan         -nan         -nan         -nan         -nan         -nan         -nan         -nan         -nan         -nan\r\n",
      "        -nan         -nan         -nan         -nan         -nan         -nan         -nan         -nan         -nan         -nan         -nan         -nan         -nan         -nan         -nan         -nan         -nan         -nan         -nan         -nan         -nan         -nan         -nan         -nan         -nan         -nan         -nan         -nan         -nan         -nan         -nan         -nan         -nan         -nan         -nan\r\n",
      "        -nan         -nan         -nan         -nan         -nan         -nan         -nan         -nan         -nan         -nan         -nan         -nan         -nan         -nan         -nan         -nan         -nan         -nan         -nan         -nan         -nan         -nan         -nan         -nan         -nan         -nan         -nan         -nan         -nan         -nan         -nan         -nan         -nan         -nan         -nan\r\n",
      "        -nan         -nan         -nan         -nan         -nan         -nan         -nan         -nan         -nan         -nan         -nan         -nan         -nan         -nan         -nan         -nan         -nan         -nan         -nan         -nan         -nan         -nan         -nan         -nan         -nan         -nan         -nan         -nan         -nan         -nan         -nan         -nan         -nan         -nan         -nan\r\n",
      "        -nan         -nan         -nan         -nan         -nan         -nan         -nan         -nan         -nan         -nan         -nan         -nan         -nan         -nan         -nan         -nan         -nan         -nan         -nan         -nan         -nan         -nan         -nan         -nan          nan          nan          nan          nan          nan          nan          nan          nan          nan          nan          nan\r\n",
      "an error occurred:\r\n",
      "Small generalized eigenvalue problem failed.\r\n"
     ]
    }
   ],
   "source": [
    "!xtp_tools -c job_name=CO geometry_optimization.maxiter=1 dftpackage.basisset=3-21G dftpackage.auxbasisset=aux-def2-svp gwbse.gw.mode=G0W0 -e dftgwbse -t 4"
   ]
  },
  {
   "cell_type": "markdown",
   "metadata": {},
   "source": [
    "Notice that we are using 4 threads. The results will be stored in a file named `CO_summary.xml` in the current work directory, together with the optimization step in `optimisation.trj` and the orbitals in [hdf5 format](https://www.hdfgroup.org/solutions/hdf5/) saved on `CO.orb`."
   ]
  }
 ],
 "metadata": {
  "kernelspec": {
   "display_name": "Python 3",
   "language": "python",
   "name": "python3"
  },
  "language_info": {
   "codemirror_mode": {
    "name": "ipython",
    "version": 3
   },
   "file_extension": ".py",
   "mimetype": "text/x-python",
   "name": "python",
   "nbconvert_exporter": "python",
   "pygments_lexer": "ipython3",
   "version": "3.10.0"
  }
 },
 "nbformat": 4,
 "nbformat_minor": 4
}
