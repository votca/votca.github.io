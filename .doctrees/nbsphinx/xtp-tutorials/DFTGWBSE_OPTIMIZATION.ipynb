{
 "cells": [
  {
   "cell_type": "markdown",
   "metadata": {},
   "source": [
    "## DFT + GWBSE Optimization Using CO"
   ]
  },
  {
   "cell_type": "markdown",
   "metadata": {},
   "source": [
    "## Introduction\n",
    "This tutorial explains how to perform a molecular geometric optimization using the **GWBSE** method. See [the GW Compendium: A Practical Guide to Theoretical Photoemission Spectroscopy](https://doi.org/10.3389/fchem.2019.00377), for an excellent introduction to the method."
   ]
  },
  {
   "cell_type": "markdown",
   "metadata": {},
   "source": [
    "## Requirements\n",
    "* You will need to install **VOTCA** using the instructions described [here](https://github.com/votca/votca/blob/master/share/doc/INSTALL.rst)\n",
    "* Once the installation is completed you need to activate the VOTCA enviroment by running the `VOTCARC.bash` script that has been installed at the bin subfolder for the path that you have provided for the installation step above"
   ]
  },
  {
   "cell_type": "markdown",
   "metadata": {},
   "source": [
    "## Preparing the input\n",
    "To run a DFT-GWBSE calculation we will use the [xtp_tools](https://www.votca.org/xtp/xtp_tools_overview.html) calculator."
   ]
  },
  {
   "cell_type": "markdown",
   "metadata": {},
   "source": [
    "we can now change the calculator mode from single point energy calculation to optimization as follows by adding \n",
    "`-c geometry_optimization.maxiter=1` which enables optimization with one iteration. "
   ]
  },
  {
   "cell_type": "markdown",
   "metadata": {},
   "source": [
    "Because geometry optimsation is quite expensive numerically we chose a smaller basisset and G0W0 Finally, to run the calculation we just need the following command (This still takes a while)"
   ]
  },
  {
   "cell_type": "code",
   "execution_count": 1,
   "metadata": {
    "execution": {
     "iopub.execute_input": "2022-01-15T20:57:17.549883Z",
     "iopub.status.busy": "2022-01-15T20:57:17.549307Z",
     "iopub.status.idle": "2022-01-15T20:57:24.746843Z",
     "shell.execute_reply": "2022-01-15T20:57:24.745845Z"
    }
   },
   "outputs": [
    {
     "name": "stdout",
     "output_type": "stream",
     "text": [
      "==================================================\r\n",
      "========   VOTCA (http://www.votca.org)   ========\r\n",
      "==================================================\r\n",
      "\r\n",
      "please submit bugs to https://github.com/votca/xtp/issues\r\n",
      "\r\n",
      "xtp_tools, version 2022-dev gitid: 5239ca8 (compiled Jan 15 2022, 20:48:29)\r\n",
      "votca_csg, version 2022-dev gitid: 5239ca8 (compiled Jan 15 2022, 20:33:02)\r\n",
      "votca_tools, version 2022-dev gitid: 5239ca8 (compiled Jan 15 2022, 20:30:09)\r\n",
      "\r\n",
      "Initializing tool\r\n",
      "... dftgwbse Evaluating tool\r\n",
      "... dftgwbse  Using 4 threads\r\n",
      "... ... Reading structure from CO.xyz\r\n",
      "... ... Requested geometry optimization of excited state s1\r\n",
      "... ... Initial state: s1\r\n",
      "... ... WARNING: No tracker is used \r\n",
      "... ... Convergence of total energy: 0.000001 Hartree \r\n",
      "... ... Convergence of RMS Force:    0.000030 Hartree/Bohr \r\n",
      "... ... Convergence of Max Force:    0.000100 Hartree/Bohr \r\n",
      "... ... Convergence of RMS Step:     0.000600 Bohr \r\n",
      "... ... Convergence of Max Step:     0.001000 Bohr \r\n",
      "... ... Initial trust radius:        0.018897 BohrA\r\n",
      "    0.307557  1.93591e-15 -3.02212e-14 -1.65332e-14    0.0515784   6.2821e-16  4.78247e-11  -2.3747e-11  6.05528e-12    0.0182326  -1.2302e-05 -1.29807e-11   -0.0389712 -9.64893e-05    0.0420794  5.10148e-16  4.09706e-14 -2.16024e-14   1.5152e-11  4.96691e-12     0.108498  3.39922e-06 -5.51777e-15          nan          nan          nan          nan          nan          nan          nan          nan          nan          nan          nan          nan\r\n",
      " 1.97365e-15     0.307557   -3.937e-12  2.01407e-11  6.31408e-16    0.0515784 -6.37523e-15 -7.30476e-15 -8.69307e-16  -1.2302e-05   -0.0182326   1.5727e-15 -9.64893e-05    0.0389712  4.58187e-16    0.0420794 -8.72458e-12  -1.4605e-12   2.0018e-14  6.39759e-16 -3.39922e-06     0.108498 -1.40775e-12          nan          nan          nan          nan          nan          nan          nan          nan          nan          nan          nan          nan\r\n",
      "-3.02211e-14   -3.937e-12     0.320545   -0.0100422  1.16895e-13   4.6983e-12 -0.000155464  0.000155464  5.76559e-05 -1.16928e-15  9.17903e-12 -2.44513e-05 -4.67615e-16  2.23179e-13  -1.0767e-14  2.29505e-15   0.00205847   -0.0495542  -3.0164e-05 -0.000147759  1.72298e-14 -3.08149e-12    0.0253868          nan          nan          nan          nan          nan          nan          nan          nan          nan          nan          nan          nan\r\n",
      "-1.65332e-14  2.01407e-11   -0.0100422     0.320545  1.44023e-13  5.36649e-11 -0.000155464  0.000155464  5.76559e-05 -2.83994e-15 -4.45558e-12 -2.44513e-05  6.92931e-15 -2.18057e-12 -2.70893e-14 -3.03449e-11    0.0495542  -0.00205847 -0.000147759  -3.0164e-05  3.52472e-14  3.04625e-11    0.0253868          nan          nan          nan          nan          nan          nan          nan          nan          nan          nan          nan          nan\r\n",
      "   0.0515784  6.30131e-16  1.16895e-13  1.44023e-13     0.491199  1.13196e-15 -1.63507e-10  2.12474e-10   9.2808e-11      0.01345 -9.07506e-06 -4.06113e-11   0.00797202   1.9738e-05   -0.0310586  2.06328e-15 -8.35002e-14  9.30351e-14  -2.5272e-11 -3.03589e-11    0.0529951  1.66032e-06  3.61214e-14          nan          nan          nan          nan          nan          nan          nan          nan          nan          nan          nan          nan\r\n",
      " 6.37916e-16    0.0515784   4.6983e-12  5.36649e-11  1.17176e-15     0.491199  3.13267e-14 -5.84523e-14 -1.25897e-14 -9.07506e-06     -0.01345  5.31755e-15   1.9738e-05  -0.00797202  2.11899e-15   -0.0310586 -7.63575e-12  2.54883e-12  2.47299e-14  1.51815e-14 -1.66032e-06    0.0529951  5.00634e-12          nan          nan          nan          nan          nan          nan          nan          nan          nan          nan          nan          nan\r\n",
      " 4.78247e-11 -6.37521e-15 -0.000155464 -0.000155464 -1.63507e-10  3.13267e-14     0.550957    -0.220369   -0.0854511   1.1514e-11  -1.9389e-15    0.0362389  1.30916e-13 -8.12913e-16  9.80227e-12 -5.75379e-15 -5.63994e-06 -0.000111955   -0.0124025    0.0350933 -2.10471e-11 -5.95465e-15 -2.32922e-05          nan          nan          nan          nan          nan          nan          nan          nan          nan          nan          nan          nan\r\n",
      " -2.3747e-11 -7.30477e-15  0.000155464  0.000155464  2.12474e-10 -5.84522e-14    -0.220369     0.550957    0.0854511  2.12061e-12  2.80588e-16   -0.0362389  2.27282e-12   8.1793e-15 -4.01494e-11  2.20661e-14 -0.000111955 -5.63994e-06   -0.0350933    0.0124025  5.37923e-11 -1.18391e-14  2.32922e-05          nan          nan          nan          nan          nan          nan          nan          nan          nan          nan          nan          nan\r\n",
      " 6.05528e-12 -8.69368e-16  5.76559e-05  5.76559e-05   9.2808e-11 -1.25897e-14   -0.0854511    0.0854511     0.663153  9.49891e-12 -5.29916e-15   0.00639727  7.94652e-12  2.08824e-14 -5.90374e-12  7.79245e-16 -1.27517e-05  1.27517e-05  -0.00404735  -0.00404735  4.36237e-11 -1.48541e-15  1.50957e-05          nan          nan          nan          nan          nan          nan          nan          nan          nan          nan          nan          nan\r\n",
      "   0.0182326  -1.2302e-05 -1.16932e-15 -2.83999e-15      0.01345 -9.07506e-06   1.1514e-11  2.12061e-12  9.49891e-12     0.681816 -2.41462e-17  9.47426e-12 -9.13983e-05 -2.87963e-07   0.00860647   -5.807e-06 -1.92113e-15 -2.72151e-15 -7.41986e-13  8.06103e-13    0.0410286 -2.63976e-05  7.60521e-15          nan          nan          nan          nan          nan          nan          nan          nan          nan          nan          nan          nan\r\n",
      " -1.2302e-05   -0.0182326  9.17903e-12 -4.45558e-12 -9.07506e-06     -0.01345 -1.93894e-15  2.80519e-16 -5.29916e-15 -1.25306e-16     0.681816  -5.2498e-15  2.87963e-07 -9.13983e-05   -5.807e-06  -0.00860647  2.24211e-13 -1.77232e-12 -1.22185e-15 -5.88553e-15 -2.63976e-05   -0.0410286  1.08995e-11          nan          nan          nan          nan          nan          nan          nan          nan          nan          nan          nan          nan\r\n",
      "-1.29807e-11   1.5727e-15 -2.44513e-05 -2.44513e-05 -4.06113e-11  5.31749e-15    0.0362389   -0.0362389   0.00639727  9.47426e-12 -5.24983e-15      0.79863  6.72073e-12  1.75077e-14    1.021e-11 -1.59982e-15  4.54125e-05 -4.54125e-05    0.0144137    0.0144137 -4.27027e-11   2.6442e-15 -6.02534e-06          nan          nan          nan          nan          nan          nan          nan          nan          nan          nan          nan          nan\r\n",
      "  -0.0389712 -9.64893e-05 -4.67617e-16  6.92932e-15   0.00797202   1.9738e-05  1.30916e-13  2.27282e-12  7.94652e-12 -9.13983e-05  2.87963e-07  6.72073e-12     0.956559  7.17846e-15    0.0131605  3.25841e-05  3.12403e-14 -3.03121e-14  7.32965e-12  9.37697e-12    0.0200324  5.02261e-05 -6.08944e-15          nan          nan          nan          nan          nan          nan          nan          nan          nan          nan          nan          nan\r\n",
      "-9.64893e-05    0.0389712  2.23179e-13 -2.18057e-12   1.9738e-05  -0.00797202 -8.12915e-16   8.1793e-15  2.08824e-14 -2.87963e-07 -9.13983e-05  1.75077e-14  7.12468e-15     0.956559  3.25841e-05   -0.0131605 -2.70715e-12  6.59847e-13  2.61255e-14  2.70742e-14  5.02261e-05   -0.0200324  2.45894e-12          nan          nan          nan          nan          nan          nan          nan          nan          nan          nan          nan          nan\r\n",
      "   0.0420794  4.62388e-16 -1.07669e-14 -2.70893e-14   -0.0310586  2.09931e-15  9.80227e-12 -4.01494e-11 -5.90374e-12   0.00860647   -5.807e-06    1.021e-11    0.0131605  3.25841e-05     0.989636 -1.70192e-17  5.11548e-14 -4.42977e-14  1.69079e-11   1.3363e-11    0.0223203  6.99288e-07 -8.66388e-15          nan          nan          nan          nan          nan          nan          nan          nan          nan          nan          nan          nan\r\n",
      " 5.12382e-16    0.0420794  2.29507e-15 -3.03449e-11  2.03515e-15   -0.0310586 -5.75381e-15  2.20663e-14  7.79245e-16   -5.807e-06  -0.00860647 -1.59982e-15  3.25841e-05   -0.0131605  1.78191e-17     0.989636 -1.89068e-12 -1.65429e-12  1.54317e-15 -5.24318e-15 -6.99288e-07    0.0223203 -2.04146e-11          nan          nan          nan          nan          nan          nan          nan          nan          nan          nan          nan          nan\r\n",
      " 4.09706e-14 -8.72458e-12   0.00205847    0.0495542 -8.35002e-14 -7.63575e-12 -5.63994e-06 -0.000111955 -1.27517e-05 -1.92111e-15  2.24211e-13  4.54125e-05  3.12402e-14 -2.70715e-12  5.11548e-14 -1.89068e-12      1.02923  -0.00206711  0.000137219  0.000137219  5.23599e-15  -1.8068e-11   0.00469349          nan          nan          nan          nan          nan          nan          nan          nan          nan          nan          nan          nan\r\n",
      "-2.16024e-14  -1.4605e-12   -0.0495542  -0.00205847  9.30351e-14  2.54883e-12 -0.000111955 -5.63994e-06  1.27517e-05 -2.72151e-15 -1.77232e-12 -4.54125e-05 -3.03121e-14  6.59847e-13 -4.42977e-14 -1.65429e-12  -0.00206711      1.02923 -0.000137219 -0.000137219  3.65155e-14 -3.60517e-12  -0.00469349          nan          nan          nan          nan          nan          nan          nan          nan          nan          nan          nan          nan\r\n",
      "  1.5152e-11   2.0018e-14  -3.0164e-05 -0.000147759  -2.5272e-11  2.47299e-14   -0.0124025   -0.0350933  -0.00404735 -7.41986e-13 -1.22185e-15    0.0144137  7.32965e-12  2.61255e-14  1.69079e-11  1.54317e-15  0.000137219 -0.000137219      1.07278    0.0456193  5.96707e-12  4.34192e-14 -2.08404e-05          nan          nan          nan          nan          nan          nan          nan          nan          nan          nan          nan          nan\r\n",
      " 4.96691e-12  6.39764e-16 -0.000147759  -3.0164e-05 -3.03589e-11  1.51815e-14    0.0350933    0.0124025  -0.00404735  8.06103e-13 -5.88553e-15    0.0144137  9.37697e-12  2.70742e-14   1.3363e-11 -5.24316e-15  0.000137219 -0.000137219    0.0456193      1.07278 -1.55519e-11  1.16562e-15 -2.08404e-05          nan          nan          nan          nan          nan          nan          nan          nan          nan          nan          nan          nan\r\n",
      "   -0.075296    2.359e-06 -7.81484e-15 -2.42655e-14   -0.0689447  2.16002e-06  7.70903e-12 -3.73709e-11 -3.99099e-11   -0.0309921  1.99401e-05  2.69245e-11  -0.00898918  -2.2538e-05   -0.0364163  1.14091e-06 -3.19443e-14  1.34771e-14 -1.20392e-11 -2.48952e-12     -0.19441 -4.50173e-15  6.38478e-15          nan          nan          nan          nan          nan          nan          nan          nan          nan          nan          nan          nan\r\n",
      "  -2.359e-06    -0.075296  3.44371e-12 -2.71673e-11 -2.16002e-06   -0.0689447  5.19776e-15  1.06725e-14  1.61542e-15  1.99401e-05    0.0309921 -1.12904e-15  -2.2538e-05   0.00898918 -1.14091e-06   -0.0364163   7.9194e-12    1.739e-12 -1.71369e-14  1.62899e-15 -4.57201e-15     -0.19441  7.98649e-11          nan          nan          nan          nan          nan          nan          nan          nan          nan          nan          nan          nan\r\n",
      " 5.95896e-15  6.01868e-12    0.0144102    0.0144102 -3.73953e-14 -5.60638e-11  4.58359e-05 -4.58359e-05 -1.35073e-05 -9.99176e-15 -1.65265e-11  5.34898e-06  8.87599e-15 -3.44689e-12   1.0415e-14  4.11862e-11   0.00614401  -0.00614401 -1.27473e-05 -1.27473e-05  6.66566e-15  9.63279e-11     0.957554          nan          nan          nan          nan          nan          nan          nan          nan          nan          nan          nan          nan\r\n",
      "        -nan         -nan         -nan         -nan         -nan         -nan         -nan         -nan         -nan         -nan         -nan         -nan         -nan         -nan         -nan         -nan         -nan         -nan         -nan         -nan         -nan         -nan         -nan          nan          nan          nan          nan          nan          nan          nan          nan          nan          nan          nan          nan\r\n",
      "        -nan         -nan         -nan         -nan         -nan         -nan         -nan         -nan         -nan         -nan         -nan         -nan         -nan         -nan         -nan         -nan         -nan         -nan         -nan         -nan         -nan         -nan         -nan         -nan         -nan         -nan         -nan         -nan         -nan         -nan         -nan         -nan         -nan         -nan         -nan\r\n",
      "        -nan         -nan         -nan         -nan         -nan         -nan         -nan         -nan         -nan         -nan         -nan         -nan         -nan         -nan         -nan         -nan         -nan         -nan         -nan         -nan         -nan         -nan         -nan         -nan         -nan         -nan         -nan         -nan         -nan         -nan         -nan         -nan         -nan         -nan         -nan\r\n",
      "        -nan         -nan         -nan         -nan         -nan         -nan         -nan         -nan         -nan         -nan         -nan         -nan         -nan         -nan         -nan         -nan         -nan         -nan         -nan         -nan         -nan         -nan         -nan          nan          nan          nan          nan          nan          nan          nan          nan          nan          nan          nan          nan\r\n",
      "        -nan         -nan         -nan         -nan         -nan         -nan         -nan         -nan         -nan         -nan         -nan         -nan         -nan         -nan         -nan         -nan         -nan         -nan         -nan         -nan         -nan         -nan         -nan          nan          nan          nan          nan          nan          nan          nan          nan          nan          nan          nan          nan\r\n",
      "        -nan         -nan         -nan         -nan         -nan         -nan         -nan         -nan         -nan         -nan         -nan         -nan         -nan         -nan         -nan         -nan         -nan         -nan         -nan         -nan         -nan         -nan         -nan         -nan         -nan         -nan         -nan         -nan         -nan         -nan         -nan         -nan         -nan         -nan         -nan\r\n",
      "        -nan         -nan         -nan         -nan         -nan         -nan         -nan         -nan         -nan         -nan         -nan         -nan         -nan         -nan         -nan         -nan         -nan         -nan         -nan         -nan         -nan         -nan         -nan         -nan         -nan         -nan         -nan         -nan         -nan         -nan         -nan         -nan         -nan         -nan         -nan\r\n",
      "        -nan         -nan         -nan         -nan         -nan         -nan         -nan         -nan         -nan         -nan         -nan         -nan         -nan         -nan         -nan         -nan         -nan         -nan         -nan         -nan         -nan         -nan         -nan          nan          nan          nan          nan          nan          nan          nan          nan          nan          nan          nan          nan\r\n",
      "        -nan         -nan         -nan         -nan         -nan         -nan         -nan         -nan         -nan         -nan         -nan         -nan         -nan         -nan         -nan         -nan         -nan         -nan         -nan         -nan         -nan         -nan         -nan          nan          nan          nan          nan          nan          nan          nan          nan          nan          nan          nan          nan\r\n",
      "        -nan         -nan         -nan         -nan         -nan         -nan         -nan         -nan         -nan         -nan         -nan         -nan         -nan         -nan         -nan         -nan         -nan         -nan         -nan         -nan         -nan         -nan         -nan         -nan          nan          nan          nan         -nan          nan          nan          nan         -nan          nan          nan          nan\r\n",
      "        -nan         -nan         -nan         -nan         -nan         -nan         -nan         -nan         -nan         -nan         -nan         -nan         -nan         -nan         -nan         -nan         -nan         -nan         -nan         -nan         -nan         -nan         -nan         -nan          nan          nan          nan         -nan          nan          nan          nan         -nan          nan          nan          nan\r\n",
      "        -nan         -nan         -nan         -nan         -nan         -nan         -nan         -nan         -nan         -nan         -nan         -nan         -nan         -nan         -nan         -nan         -nan         -nan         -nan         -nan         -nan         -nan         -nan         -nan         -nan         -nan         -nan         -nan         -nan         -nan         -nan         -nan         -nan         -nan         -nan\r\n",
      "B\r\n",
      "    0.094057  9.36491e-16 -1.50237e-14 -7.51864e-15    0.0329085  3.86202e-16  2.39176e-11 -1.07036e-11  5.66292e-12    0.0156091 -1.05318e-05 -1.35052e-11   -0.0483433 -0.000119694    0.0481685  6.02222e-16  4.52358e-14 -2.22664e-14   1.6925e-11  4.83709e-12    0.0251553  7.88107e-07  4.33917e-16         -nan         -nan         -nan         -nan         -nan         -nan         -nan         -nan         -nan         -nan         -nan         -nan\r\n",
      " 9.62162e-16     0.094057 -2.23074e-12  1.09833e-11  3.88898e-16    0.0329085 -3.19137e-15 -4.31165e-15 -8.11876e-16 -1.05318e-05   -0.0156091  1.68222e-15 -0.000119694    0.0483433  5.42192e-16    0.0481685 -1.06189e-11 -1.46893e-12  2.47629e-14  1.78192e-15 -7.88107e-07    0.0251553  1.73402e-12         -nan         -nan         -nan         -nan         -nan         -nan         -nan         -nan         -nan         -nan         -nan         -nan\r\n",
      "-1.50237e-14 -2.23074e-12     0.105939  -0.00570604  6.51219e-14  2.77355e-12 -7.89638e-05  7.89638e-05  4.24674e-05 -4.09652e-15  9.47592e-12 -1.91802e-05  1.69429e-17  1.31604e-13  -1.0587e-14  2.47518e-14   0.00242548   -0.0671915 -2.86509e-05 -0.000189006 -2.22606e-15  -4.2883e-13     0.042045         -nan         -nan         -nan         -nan         -nan         -nan         -nan         -nan         -nan         -nan         -nan         -nan\r\n",
      "-7.51863e-15  1.09833e-11  -0.00570604     0.105939   8.6446e-14  4.13364e-11 -7.89638e-05  7.89638e-05  4.24674e-05 -5.97846e-15  -5.5215e-12 -1.91802e-05  7.95018e-15 -2.44471e-12 -3.20731e-14  -3.9886e-11    0.0671915  -0.00242548 -0.000189006 -2.86509e-05  1.97021e-16  4.23107e-12     0.042045         -nan         -nan         -nan         -nan         -nan         -nan         -nan         -nan         -nan         -nan         -nan         -nan\r\n",
      "   0.0329085  3.88298e-16  6.51219e-14   8.6446e-14     0.241204  1.03062e-15 -8.89809e-11  1.27544e-10  7.79348e-11    0.0144728 -9.76515e-06 -3.67563e-11   0.00911844  2.25765e-05   -0.0442994  2.76035e-15  -7.8263e-14  8.63696e-14 -2.36953e-11 -2.81057e-11  -0.00443755 -1.39027e-07  3.01778e-15         -nan         -nan         -nan         -nan         -nan         -nan         -nan         -nan         -nan         -nan         -nan         -nan\r\n",
      " 3.94193e-16    0.0329085  2.77355e-12  4.13364e-11  1.07321e-15     0.241204  1.87751e-14 -4.00969e-14 -1.05985e-14 -9.76515e-06   -0.0144728  4.78633e-15  2.25765e-05  -0.00911844  2.82658e-15   -0.0442994 -7.97824e-12  3.56784e-12  2.59921e-14   1.7861e-14  1.39027e-07  -0.00443755 -4.12297e-11         -nan         -nan         -nan         -nan         -nan         -nan         -nan         -nan         -nan         -nan         -nan         -nan\r\n",
      " 2.39176e-11 -3.19135e-15 -7.89638e-05 -7.89638e-05 -8.89809e-11  1.87751e-14      0.22297    -0.111325   -0.0629404    1.639e-11 -4.45037e-15    0.0284267 -2.13537e-13 -1.92415e-15  7.63033e-12 -6.78354e-15 -6.06172e-05 -9.97378e-05   -0.0336291    0.0311369  4.14018e-12 -8.17977e-16  2.43308e-05         -nan         -nan         -nan         -nan         -nan         -nan         -nan         -nan         -nan         -nan         -nan         -nan\r\n",
      "-1.07036e-11 -4.31167e-15  7.89638e-05  7.89638e-05  1.27544e-10 -4.00969e-14    -0.111325      0.22297    0.0629404 -1.39256e-12   2.5787e-15   -0.0284267  2.78984e-12  9.82007e-15  -4.7541e-11  2.82624e-14 -9.97378e-05 -6.06172e-05   -0.0311369    0.0336291  6.57468e-13 -1.91356e-15 -2.43308e-05         -nan         -nan         -nan         -nan         -nan         -nan         -nan         -nan         -nan         -nan         -nan         -nan\r\n",
      " 5.66292e-12 -8.11936e-16  4.24674e-05  4.24674e-05  7.79348e-11 -1.05985e-14   -0.0629404    0.0629404      0.42963  9.32897e-12 -5.30131e-15    0.0122085  1.22464e-11    3.212e-14 -7.87001e-12  1.03724e-15  2.07675e-07 -2.07675e-07   6.5915e-05   6.5915e-05  6.82953e-12 -1.50477e-16  4.65532e-06         -nan         -nan         -nan         -nan         -nan         -nan         -nan         -nan         -nan         -nan         -nan         -nan\r\n",
      "   0.0156091 -1.05318e-05 -4.09656e-15 -5.97852e-15    0.0144728 -9.76515e-06    1.639e-11 -1.39256e-12  9.32897e-12     0.465176  2.14298e-17  1.57168e-11 -0.000658395 -2.07437e-06    0.0103444 -6.97961e-06 -6.06952e-15 -3.79419e-15 -2.18876e-12    1.201e-12    0.0177317 -1.14085e-05 -5.31986e-15         -nan         -nan         -nan         -nan         -nan         -nan         -nan         -nan         -nan         -nan         -nan         -nan\r\n",
      "-1.05318e-05   -0.0156091  9.47592e-12  -5.5215e-12 -9.76515e-06   -0.0144728 -4.45041e-15  2.57863e-15  -5.3013e-15 -1.22398e-16     0.465176 -8.67571e-15  2.07437e-06 -0.000658395 -6.97961e-06   -0.0103444 -1.49223e-13 -3.24057e-12  -2.9251e-16 -1.01882e-14 -1.14085e-05   -0.0177317 -1.06265e-11         -nan         -nan         -nan         -nan         -nan         -nan         -nan         -nan         -nan         -nan         -nan         -nan\r\n",
      "-1.35052e-11  1.68222e-15 -1.91802e-05 -1.91802e-05 -3.67563e-11  4.78625e-15    0.0284267   -0.0284267    0.0122085  1.57168e-11 -8.67575e-15     0.636701  1.16002e-11  3.02645e-14  1.83937e-11 -2.82074e-15  6.57021e-05 -6.57021e-05    0.0208536    0.0208536 -2.55626e-11  2.31201e-15 -2.26872e-06         -nan         -nan         -nan         -nan         -nan         -nan         -nan         -nan         -nan         -nan         -nan         -nan\r\n",
      "  -0.0483433 -0.000119694  1.69423e-17  7.95019e-15   0.00911844  2.25765e-05 -2.13536e-13  2.78984e-12  1.22464e-11 -0.000658395  2.07437e-06  1.16002e-11     0.917337  1.31887e-14    0.0223428  5.53189e-05  6.02741e-14 -5.82245e-14  1.37033e-11  1.81416e-11     0.023285  5.83811e-05  4.21291e-15         -nan         -nan         -nan         -nan         -nan         -nan         -nan         -nan         -nan         -nan         -nan         -nan\r\n",
      "-0.000119694    0.0483433  1.31604e-13 -2.44471e-12  2.25765e-05  -0.00911844 -1.92415e-15  9.82006e-15    3.212e-14 -2.07437e-06 -0.000658395  3.02645e-14  1.30831e-14     0.917337  5.53189e-05   -0.0223428 -5.65302e-12  1.21475e-12  5.04071e-14  5.24943e-14  5.83811e-05    -0.023285 -1.49295e-12         -nan         -nan         -nan         -nan         -nan         -nan         -nan         -nan         -nan         -nan         -nan         -nan\r\n",
      "   0.0481685  5.46849e-16 -1.05868e-14 -3.20731e-14   -0.0442994  2.80078e-15  7.63033e-12  -4.7541e-11 -7.87001e-12    0.0103444 -6.97961e-06  1.83937e-11    0.0223428  5.53189e-05     0.983661  7.75337e-17  9.65287e-14 -8.04943e-14  3.22672e-11  2.39697e-11  -0.00432401  -1.3547e-07  -3.2856e-15         -nan         -nan         -nan         -nan         -nan         -nan         -nan         -nan         -nan         -nan         -nan         -nan\r\n",
      " 6.02387e-16    0.0481685  2.47519e-14  -3.9886e-11  2.71603e-15   -0.0442994 -6.78361e-15  2.82628e-14  1.03726e-15 -6.97961e-06   -0.0103444 -2.82075e-15  5.53189e-05   -0.0223428  1.50885e-16     0.983661 -5.47483e-12 -2.82272e-12  8.01749e-15 -7.88253e-15   1.3547e-07  -0.00432401  1.26244e-11         -nan         -nan         -nan         -nan         -nan         -nan         -nan         -nan         -nan         -nan         -nan         -nan\r\n",
      " 4.52358e-14 -1.06189e-11   0.00242548    0.0671915  -7.8263e-14 -7.97824e-12 -6.06172e-05 -9.97378e-05  2.07675e-07 -6.06949e-15 -1.49223e-13  6.57021e-05  6.02741e-14 -5.65302e-12  9.65287e-14 -5.47483e-12      1.06175  -0.00440519  0.000256538  0.000256538   7.8037e-15 -2.13925e-11    0.0159971         -nan         -nan         -nan         -nan         -nan         -nan         -nan         -nan         -nan         -nan         -nan         -nan\r\n",
      "-2.22664e-14 -1.46893e-12   -0.0671915  -0.00242548  8.63696e-14  3.56784e-12 -9.97378e-05 -6.06172e-05 -2.07675e-07 -3.79419e-15 -3.24057e-12 -6.57021e-05 -5.82245e-14  1.21475e-12 -8.04942e-14 -2.82272e-12  -0.00440519      1.06175 -0.000256538 -0.000256538  3.96536e-14 -3.21491e-12   -0.0159971         -nan         -nan         -nan         -nan         -nan         -nan         -nan         -nan         -nan         -nan         -nan         -nan\r\n",
      "  1.6925e-11  2.47629e-14 -2.86509e-05 -0.000189006 -2.36953e-11  2.59921e-14   -0.0336291   -0.0311369   6.5915e-05 -2.18876e-12 -2.92512e-16    0.0208536  1.37033e-11  5.04071e-14  3.22672e-11   8.0175e-15  0.000256538 -0.000256538      1.14317    0.0858283  7.42178e-12  5.32625e-14  -5.2126e-05         -nan         -nan         -nan         -nan         -nan         -nan         -nan         -nan         -nan         -nan         -nan         -nan\r\n",
      " 4.83709e-12  1.78193e-15 -0.000189006 -2.86509e-05 -2.81057e-11   1.7861e-14    0.0311369    0.0336291   6.5915e-05    1.201e-12 -1.01882e-14    0.0208536  1.81416e-11  5.24943e-14  2.39697e-11 -7.88251e-15  0.000256538 -0.000256538    0.0858283      1.14317 -1.70527e-11  5.28862e-15  -5.2126e-05         -nan         -nan         -nan         -nan         -nan         -nan         -nan         -nan         -nan         -nan         -nan         -nan\r\n",
      "   0.0574548 -1.80004e-06  3.65352e-15  6.37745e-15  -0.00354178  1.10963e-07 -4.68916e-12  9.68754e-12 -2.23415e-12    0.0101472 -6.52868e-06  -1.1841e-11    0.0187032  4.68933e-05    -0.019244  6.02908e-07 -3.18881e-14  5.40696e-14 -7.84426e-12 -1.92401e-11     0.601743 -2.38627e-15 -1.87373e-15         -nan         -nan         -nan         -nan         -nan         -nan         -nan         -nan         -nan         -nan         -nan         -nan\r\n",
      " 1.80004e-06    0.0574548  3.79698e-13  5.19084e-12 -1.10963e-07  -0.00354178 -2.80837e-15 -3.43052e-16  5.10003e-16 -6.52868e-06   -0.0101472  1.20998e-15  4.68933e-05   -0.0187032 -6.02908e-07    -0.019244  -9.6547e-12 -1.74377e-12  2.57819e-14  3.49129e-15 -2.37269e-15     0.601743 -5.26086e-11         -nan         -nan         -nan         -nan         -nan         -nan         -nan         -nan         -nan         -nan         -nan         -nan\r\n",
      "-1.25288e-15 -5.13906e-12    0.0425254    0.0425254  8.02323e-16 -1.05697e-11  2.47761e-05 -2.47761e-05 -1.39088e-06  1.20494e-14  2.14404e-11  8.22498e-07  -5.9931e-16  2.74257e-13  2.14749e-15 -1.75322e-12      0.01695     -0.01695 -4.99342e-05 -4.99342e-05  9.87639e-16 -4.41417e-11       1.9854         -nan         -nan         -nan         -nan         -nan         -nan         -nan         -nan         -nan         -nan         -nan         -nan\r\n",
      "        -nan         -nan         -nan         -nan         -nan         -nan         -nan         -nan         -nan         -nan         -nan         -nan         -nan         -nan         -nan         -nan         -nan         -nan         -nan         -nan         -nan         -nan         -nan         -nan         -nan         -nan         -nan         -nan         -nan         -nan         -nan         -nan         -nan         -nan         -nan\r\n",
      "        -nan         -nan         -nan         -nan         -nan         -nan         -nan         -nan         -nan         -nan         -nan         -nan         -nan         -nan         -nan         -nan         -nan         -nan         -nan         -nan         -nan         -nan         -nan         -nan         -nan         -nan         -nan         -nan         -nan         -nan         -nan         -nan         -nan         -nan         -nan\r\n",
      "        -nan         -nan         -nan         -nan         -nan         -nan         -nan         -nan         -nan         -nan         -nan         -nan         -nan         -nan         -nan         -nan         -nan         -nan         -nan         -nan         -nan         -nan         -nan         -nan         -nan         -nan         -nan         -nan         -nan         -nan         -nan         -nan         -nan         -nan         -nan\r\n",
      "        -nan         -nan         -nan         -nan         -nan         -nan         -nan         -nan         -nan         -nan         -nan         -nan         -nan         -nan         -nan         -nan         -nan         -nan         -nan         -nan         -nan         -nan         -nan         -nan         -nan         -nan         -nan         -nan         -nan         -nan         -nan         -nan         -nan         -nan         -nan\r\n",
      "        -nan         -nan         -nan         -nan         -nan         -nan         -nan         -nan         -nan         -nan         -nan         -nan         -nan         -nan         -nan         -nan         -nan         -nan         -nan         -nan         -nan         -nan         -nan         -nan         -nan         -nan         -nan         -nan         -nan         -nan         -nan         -nan         -nan         -nan         -nan\r\n",
      "        -nan         -nan         -nan         -nan         -nan         -nan         -nan         -nan         -nan         -nan         -nan         -nan         -nan         -nan         -nan         -nan         -nan         -nan         -nan         -nan         -nan         -nan         -nan         -nan         -nan         -nan         -nan         -nan         -nan         -nan         -nan         -nan         -nan         -nan         -nan\r\n",
      "        -nan         -nan         -nan         -nan         -nan         -nan         -nan         -nan         -nan         -nan         -nan         -nan         -nan         -nan         -nan         -nan         -nan         -nan         -nan         -nan         -nan         -nan         -nan         -nan         -nan         -nan         -nan         -nan         -nan         -nan         -nan         -nan         -nan         -nan         -nan\r\n",
      "        -nan         -nan         -nan         -nan         -nan         -nan         -nan         -nan         -nan         -nan         -nan         -nan         -nan         -nan         -nan         -nan         -nan         -nan         -nan         -nan         -nan         -nan         -nan         -nan         -nan         -nan         -nan         -nan         -nan         -nan         -nan         -nan         -nan         -nan         -nan\r\n",
      "        -nan         -nan         -nan         -nan         -nan         -nan         -nan         -nan         -nan         -nan         -nan         -nan         -nan         -nan         -nan         -nan         -nan         -nan         -nan         -nan         -nan         -nan         -nan         -nan         -nan         -nan         -nan         -nan         -nan         -nan         -nan         -nan         -nan         -nan         -nan\r\n",
      "        -nan         -nan         -nan         -nan         -nan         -nan         -nan         -nan         -nan         -nan         -nan         -nan         -nan         -nan         -nan         -nan         -nan         -nan         -nan         -nan         -nan         -nan         -nan         -nan         -nan         -nan         -nan         -nan         -nan         -nan         -nan         -nan         -nan         -nan         -nan\r\n",
      "        -nan         -nan         -nan         -nan         -nan         -nan         -nan         -nan         -nan         -nan         -nan         -nan         -nan         -nan         -nan         -nan         -nan         -nan         -nan         -nan         -nan         -nan         -nan         -nan         -nan         -nan         -nan         -nan         -nan         -nan         -nan         -nan         -nan         -nan         -nan\r\n",
      "        -nan         -nan         -nan         -nan         -nan         -nan         -nan         -nan         -nan         -nan         -nan         -nan         -nan         -nan         -nan         -nan         -nan         -nan         -nan         -nan         -nan         -nan         -nan          nan          nan          nan          nan          nan          nan          nan          nan          nan          nan          nan          nan\r\n",
      "an error occurred:\r\n",
      "Small generalized eigenvalue problem failed.\r\n"
     ]
    }
   ],
   "source": [
    "!xtp_tools -c job_name=CO geometry_optimization.maxiter=1 dftpackage.basisset=3-21G dftpackage.auxbasisset=aux-def2-svp gwbse.gw.mode=G0W0 -e dftgwbse -t 4"
   ]
  },
  {
   "cell_type": "markdown",
   "metadata": {},
   "source": [
    "Notice that we are using 4 threads. The results will be stored in a file named `CO_summary.xml` in the current work directory, together with the optimization step in `optimisation.trj` and the orbitals in [hdf5 format](https://www.hdfgroup.org/solutions/hdf5/) saved on `CO.orb`."
   ]
  }
 ],
 "metadata": {
  "kernelspec": {
   "display_name": "Python 3",
   "language": "python",
   "name": "python3"
  },
  "language_info": {
   "codemirror_mode": {
    "name": "ipython",
    "version": 3
   },
   "file_extension": ".py",
   "mimetype": "text/x-python",
   "name": "python",
   "nbconvert_exporter": "python",
   "pygments_lexer": "ipython3",
   "version": "3.10.1"
  }
 },
 "nbformat": 4,
 "nbformat_minor": 4
}
