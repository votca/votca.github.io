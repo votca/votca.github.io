{
 "cells": [
  {
   "cell_type": "markdown",
   "metadata": {},
   "source": [
    "## DFT + GWBSE Optimization Using CO"
   ]
  },
  {
   "cell_type": "markdown",
   "metadata": {},
   "source": [
    "## Introduction\n",
    "This tutorial explains how to perform a molecular geometric optimization using the **GWBSE** method. See [the GW Compendium: A Practical Guide to Theoretical Photoemission Spectroscopy](https://doi.org/10.3389/fchem.2019.00377), for an excellent introduction to the method."
   ]
  },
  {
   "cell_type": "markdown",
   "metadata": {},
   "source": [
    "## Requirements\n",
    "* You will need to install **VOTCA** using the instructions described [here](https://github.com/votca/votca/blob/master/share/doc/INSTALL.rst)\n",
    "* Once the installation is completed you need to activate the VOTCA enviroment by running the `VOTCARC.bash` script that has been installed at the bin subfolder for the path that you have provided for the installation step above"
   ]
  },
  {
   "cell_type": "markdown",
   "metadata": {},
   "source": [
    "## Preparing the input\n",
    "To run a DFT-GWBSE calculation we will use the [xtp_tools](https://www.votca.org/xtp/xtp_tools_overview.html) calculator."
   ]
  },
  {
   "cell_type": "markdown",
   "metadata": {},
   "source": [
    "we can now change the calculator mode from single point energy calculation to optimization as follows by adding \n",
    "`-c geometry_optimization.maxiter=1` which enables optimization with one iteration. "
   ]
  },
  {
   "cell_type": "markdown",
   "metadata": {},
   "source": [
    "Because geometry optimsation is quite expensive numerically we chose a smaller basisset and G0W0 Finally, to run the calculation we just need the following command (This still takes a while)"
   ]
  },
  {
   "cell_type": "code",
   "execution_count": 1,
   "metadata": {
    "execution": {
     "iopub.execute_input": "2021-12-06T05:47:11.506553Z",
     "iopub.status.busy": "2021-12-06T05:47:11.506027Z",
     "iopub.status.idle": "2021-12-06T05:48:11.886930Z",
     "shell.execute_reply": "2021-12-06T05:48:11.886427Z"
    }
   },
   "outputs": [
    {
     "name": "stdout",
     "output_type": "stream",
     "text": [
      "==================================================\r\n",
      "========   VOTCA (http://www.votca.org)   ========\r\n",
      "==================================================\r\n",
      "\r\n",
      "please submit bugs to https://github.com/votca/xtp/issues\r\n",
      "\r\n",
      "xtp_tools, version 2022-dev gitid: 0c1f0a8 (compiled Dec  6 2021, 05:39:39)\r\n",
      "votca_csg, version 2022-dev gitid: 0c1f0a8 (compiled Dec  6 2021, 05:26:31)\r\n",
      "votca_tools, version 2022-dev gitid: 0c1f0a8 (compiled Dec  6 2021, 05:23:59)\r\n",
      "\r\n",
      "Initializing tool\r\n",
      "... dftgwbse Evaluating tool\r\n",
      "... dftgwbse  Using 4 threads\r\n",
      "... ... Reading structure from CO.xyz\r\n",
      "... ... Requested geometry optimization of excited state s1\r\n",
      "... ... Initial state: s1\r\n",
      "... ... WARNING: No tracker is used \r\n",
      "... ... Convergence of total energy: 0.000001 Hartree \r\n",
      "... ... Convergence of RMS Force:    0.000030 Hartree/Bohr \r\n",
      "... ... Convergence of Max Force:    0.000100 Hartree/Bohr \r\n",
      "... ... Convergence of RMS Step:     0.000600 Bohr \r\n",
      "... ... Convergence of Max Step:     0.001000 Bohr \r\n",
      "... ... Initial trust radius:        0.018897 Bohr\r\n",
      "... ... \r\n",
      "... ... =========== OPTIMIZATION SUMMARY ================================= \r\n",
      "... ... At iteration  0\r\n",
      "... ...  ---- POSITIONS (Angstrom)   \r\n",
      "... ...  Atom\t x\t  y\t  z \r\n",
      "... ...    0    +0.0000  +0.0000  +0.0000\r\n",
      "... ...    1    +1.2000  +0.0000  +0.0000\r\n",
      "... ...    Total energy:     -112.26831841 Hartree \r\n",
      "... ...    Trust radius:       0.01889726 Bohr     \r\n",
      "... ...  ---- FORCES (Hartree/Bohr)   \r\n",
      "... ...       central differences   \r\n",
      "... ...       displacement 0.0010 Angstrom   \r\n",
      "... ...  Atom\t x\t  y\t  z \r\n",
      "... ...    0    -0.1314  -0.0000  -0.0000\r\n",
      "... ...    1    +0.1314  +0.0000  +0.0000A\r\n",
      "    0.300728  3.96363e-15  1.24888e-14 -1.19904e-14   -0.0519964 -1.35504e-15 -2.62698e-11 -2.65299e-11 -1.38434e-11   -0.0175948  7.35729e-06 -4.56954e-12    0.0390173   0.00108282    0.0424178  9.71696e-16 -1.10799e-13  1.01267e-13  3.59707e-12  3.93439e-12     0.107004  1.83979e-05  2.52791e-14 -7.14081e-13          nan          nan          nan          nan          nan          nan          nan          nan          nan          nan          nan\r\n",
      " 3.91385e-15     0.300728 -2.04377e-12   2.3038e-12 -1.41456e-15   -0.0519964 -1.29636e-14 -1.24474e-14 -6.05951e-15 -7.35729e-06   -0.0175948 -2.02084e-15  -0.00108282    0.0390173  1.00099e-15    0.0424178 -5.54694e-13  2.17361e-13 -4.57031e-15 -1.41417e-14 -1.83979e-05     0.107004 -1.39274e-13 -2.68391e-13          nan          nan          nan          nan          nan          nan          nan          nan          nan          nan          nan\r\n",
      " 1.24889e-14 -2.04377e-12     0.309472    0.0100868 -1.12269e-15  1.27514e-12  -9.6873e-05  -9.6873e-05 -3.82123e-05 -8.07755e-15 -2.20876e-12 -1.72848e-05 -5.73917e-15  3.11806e-13  -2.8265e-15  4.10553e-13    0.0491732  -0.00194234  6.88671e-05   0.00137963  7.84201e-14 -1.97994e-12    0.0247285  -0.00891249          nan          nan          nan          nan          nan          nan          nan          nan          nan          nan          nan\r\n",
      "-1.19904e-14   2.3038e-12    0.0100868     0.309472  5.78683e-16 -4.92909e-13   9.6873e-05   9.6873e-05  3.82123e-05  7.07536e-15 -3.55753e-14  1.72848e-05  7.68313e-15 -3.85515e-13  2.87693e-15  3.84525e-12  -0.00194234    0.0491732  -0.00137963 -6.88671e-05 -7.78183e-14  2.47717e-12   -0.0247285  -0.00891249          nan          nan          nan          nan          nan          nan          nan          nan          nan          nan          nan\r\n",
      "  -0.0519964 -1.41492e-15 -1.12269e-15  5.78674e-16     0.486555  1.46445e-15  7.09055e-13 -7.30894e-14  7.46713e-13     0.013646 -5.70608e-06 -1.84658e-12   0.00832518  0.000231042    0.0300841 -5.33546e-15 -2.72793e-14  3.95405e-14  1.39981e-12  9.69424e-13   -0.0551239 -9.47777e-06   4.1658e-14  -5.0134e-12          nan          nan          nan          nan          nan          nan          nan          nan          nan          nan          nan\r\n",
      "-1.34668e-15   -0.0519964  1.27514e-12 -4.92909e-13  1.40393e-15     0.486555  1.48771e-15  9.34672e-16  5.99328e-16  5.70608e-06     0.013646 -5.66802e-16 -0.000231042   0.00832518 -5.36038e-15    0.0300841  4.43753e-13 -1.34427e-14  9.02741e-16  1.31717e-14  9.47777e-06   -0.0551239  1.09258e-12 -1.86583e-12          nan          nan          nan          nan          nan          nan          nan          nan          nan          nan          nan\r\n",
      "-2.62698e-11 -1.29636e-14  -9.6873e-05   9.6873e-05  7.09055e-13  1.48772e-15     0.541142     0.221583     0.091384  1.66962e-11  3.52356e-16    0.0413364  -7.5744e-12  -2.1489e-13  1.06776e-11  2.99492e-15  0.000953341  0.000357423    0.0134182   -0.0338127   -1.599e-10  -1.1197e-13 -0.000684063    -0.020536          nan          nan          nan          nan          nan          nan          nan          nan          nan          nan          nan\r\n",
      "-2.65299e-11 -1.24474e-14  -9.6873e-05   9.6873e-05 -7.30894e-14  9.34666e-16     0.221583     0.541142     0.091384  1.89406e-11 -6.52424e-16    0.0413364 -7.50074e-12 -2.12983e-13  6.42181e-12  3.08559e-15 -0.000357423 -0.000953341   -0.0338127    0.0134182 -1.60406e-10 -1.11117e-13 -0.000684063     0.020536          nan          nan          nan          nan          nan          nan          nan          nan          nan          nan          nan\r\n",
      "-1.38434e-11 -6.05963e-15 -3.82123e-05  3.82123e-05  7.46713e-13  5.99328e-16     0.091384     0.091384     0.659711  9.57607e-12  3.71013e-16  -0.00509591 -3.48103e-13 -1.00796e-14  3.26903e-12  1.47469e-15  0.000135725 -0.000135725  -0.00481794  -0.00481794 -6.45425e-11 -4.44652e-14 -0.000278518 -5.95384e-10          nan          nan          nan          nan          nan          nan          nan          nan          nan          nan          nan\r\n",
      "  -0.0175948 -7.35729e-06 -8.07757e-15  7.07531e-15     0.013646  5.70608e-06  1.66962e-11  1.89406e-11  9.57607e-12     0.667191 -3.73119e-18   2.3309e-12  2.39678e-05   6.7519e-07  -0.00908945 -3.80076e-06  8.92069e-14 -5.40023e-15 -2.14941e-13 -3.16495e-12   -0.0409784 -2.41808e-05 -2.98978e-14  6.27942e-12          nan          nan          nan          nan          nan          nan          nan          nan          nan          nan          nan\r\n",
      " 7.35729e-06   -0.0175948 -2.20876e-12 -3.55754e-14 -5.70608e-06     0.013646  3.52329e-16 -6.52634e-16  3.71082e-16  1.98178e-17     0.667191 -2.43098e-16  -6.7519e-07  2.39678e-05  3.80076e-06  -0.00908945  3.38566e-12 -4.35683e-13  1.24817e-14  9.63132e-14  2.41808e-05   -0.0409784  -4.6967e-12  2.16147e-12          nan          nan          nan          nan          nan          nan          nan          nan          nan          nan          nan\r\n",
      "-4.56954e-12 -2.02084e-15 -1.72848e-05  1.72848e-05 -1.84658e-12  -5.6693e-16    0.0413364    0.0413364  -0.00509591   2.3309e-12 -2.43093e-16     0.792641 -2.29172e-12 -6.47327e-14  3.34729e-12   1.3481e-15  0.000432543 -0.000432543   -0.0153544   -0.0153544 -2.09948e-11 -1.52518e-14 -0.000129699 -2.59704e-10          nan          nan          nan          nan          nan          nan          nan          nan          nan          nan          nan\r\n",
      "   0.0390173  -0.00108282 -5.73917e-15  7.68313e-15   0.00832518 -0.000231042  -7.5744e-12 -7.50074e-12 -3.48103e-13  2.39678e-05  -6.7519e-07 -2.29172e-12     0.954094 -2.84373e-14   -0.0128507  0.000356635 -2.40388e-13  2.40353e-13  8.37092e-12  7.43442e-12   -0.0198798  0.000548287  3.36901e-15  2.34988e-12          nan          nan          nan          nan          nan          nan          nan          nan          nan          nan          nan\r\n",
      "  0.00108282    0.0390173  3.11806e-13 -3.85515e-13  0.000231042   0.00832518  -2.1489e-13 -2.12983e-13 -1.00796e-14   6.7519e-07  2.39678e-05 -6.47327e-14 -2.84481e-14     0.954094 -0.000356635   -0.0128507  1.09271e-12  -1.5622e-13  2.40822e-13  2.40808e-13 -0.000548287   -0.0198798  4.91873e-13  9.36471e-13          nan          nan          nan          nan          nan          nan          nan          nan          nan          nan          nan\r\n",
      "   0.0424178  1.00292e-15 -2.82638e-15   2.8769e-15    0.0300841 -5.37261e-15  1.06776e-11  6.42181e-12  3.26903e-12  -0.00908945  3.80076e-06  3.34729e-12   -0.0128507 -0.000356635     0.972602 -7.99353e-16   6.0698e-14 -8.88709e-14 -3.17412e-12 -2.15204e-12      0.02299   3.9528e-06 -3.60201e-14 -6.45545e-13          nan          nan          nan          nan          nan          nan          nan          nan          nan          nan          nan\r\n",
      " 9.61491e-16    0.0424178  4.10553e-13  3.84525e-12 -5.33724e-15    0.0300841  2.99489e-15  3.08559e-15  1.47469e-15 -3.80076e-06  -0.00908945   1.3481e-15  0.000356635   -0.0128507 -8.48454e-16     0.972602 -2.94212e-13 -7.27848e-13  1.91822e-14 -9.05433e-15  -3.9528e-06      0.02299   4.5441e-13 -3.54526e-13          nan          nan          nan          nan          nan          nan          nan          nan          nan          nan          nan\r\n",
      "-1.10799e-13 -5.54694e-13    0.0491732  -0.00194234 -2.72793e-14  4.43753e-13  0.000953341 -0.000357423  0.000135725  8.92069e-14  3.38566e-12  0.000432543 -2.40388e-13  1.09271e-12   6.0698e-14 -2.94212e-13      1.02075  -0.00212022  -0.00120073  -0.00120073 -6.28953e-13 -8.51879e-14   0.00474753 -4.10132e-06          nan          nan          nan          nan          nan          nan          nan          nan          nan          nan          nan\r\n",
      " 1.01267e-13  2.17361e-13  -0.00194234    0.0491732  3.95405e-14 -1.34427e-14  0.000357423 -0.000953341 -0.000135725  -5.4002e-15 -4.35683e-13 -0.000432543  2.40353e-13  -1.5622e-13 -8.88709e-14 -7.27848e-13  -0.00212022      1.02075   0.00120073   0.00120073  6.19883e-13 -2.29509e-13  -0.00474753 -4.10131e-06          nan          nan          nan          nan          nan          nan          nan          nan          nan          nan          nan\r\n",
      " 3.59707e-12 -4.57031e-15  6.88671e-05  -0.00137963  1.39981e-12  9.02738e-16    0.0134182   -0.0338127  -0.00481794 -2.14941e-13  1.24817e-14   -0.0153544  8.37092e-12  2.40822e-13 -3.17412e-12  1.91822e-14  -0.00120073   0.00120073      1.06334    0.0447097  2.20532e-11  1.91907e-14   5.2004e-05 -0.000452372          nan          nan          nan          nan          nan          nan          nan          nan          nan          nan          nan\r\n",
      " 3.93439e-12 -1.41417e-14   0.00137963 -6.88671e-05  9.69424e-13  1.31717e-14   -0.0338127    0.0134182  -0.00481794 -3.16495e-12  9.63132e-14   -0.0153544  7.43442e-12  2.40808e-13 -2.15204e-12 -9.05433e-15  -0.00120073   0.00120073    0.0447097      1.06334  2.23721e-11  1.04803e-14   5.2004e-05  0.000452373          nan          nan          nan          nan          nan          nan          nan          nan          nan          nan          nan\r\n",
      "  -0.0745352  1.28153e-05 -3.61511e-14  3.48341e-14    0.0700995 -1.20526e-05  1.04279e-10  1.03014e-10  5.13569e-11    0.0303573 -1.79134e-05   1.7742e-11    0.0092085  0.000253972   -0.0362794  6.23772e-06  5.00155e-13 -5.15095e-13 -1.81563e-11 -1.76137e-11    -0.195077 -3.03981e-14  7.95486e-13 -3.33719e-11          nan          nan          nan          nan          nan          nan          nan          nan          nan          nan          nan\r\n",
      "-1.28153e-05   -0.0745352  3.48842e-12 -2.20553e-12  1.20526e-05    0.0700995  5.18114e-14  5.14747e-14  2.65338e-14  1.79134e-05    0.0303573  8.79568e-15 -0.000253972    0.0092085 -6.23772e-06   -0.0362794 -6.39023e-14 -4.80077e-13  2.97268e-16   -1.457e-14 -3.02888e-14    -0.195077  4.87827e-11 -1.16469e-11          nan          nan          nan          nan          nan          nan          nan          nan          nan          nan          nan\r\n",
      " 1.31151e-13  5.99747e-12    0.0140582   -0.0140582 -2.79124e-14 -4.10492e-12  -0.00071511  -0.00071511 -0.000284267 -7.25791e-14 -5.97396e-12 -0.000129551  4.05369e-14 -1.50268e-12 -1.75834e-15  1.10884e-12   0.00609577  -0.00609577  6.56535e-05  6.56535e-05  1.83577e-12  5.03281e-11     0.939294  9.46887e-11          nan          nan          nan          nan          nan          nan          nan          nan          nan          nan          nan\r\n",
      "-5.58417e-12 -1.93779e-12   0.00306585   0.00306585  6.40375e-12  2.34708e-12   0.00505092  -0.00505092  3.72594e-10  7.26123e-12  2.52582e-12  1.78096e-10  1.35311e-12  4.79319e-13  4.53817e-12   1.7285e-12  -0.00193514  -0.00193514  -0.00428198   0.00428198 -3.78403e-11 -1.31877e-11  8.50225e-11      0.15109          nan          nan          nan          nan          nan          nan          nan          nan          nan          nan          nan\r\n",
      "        -nan         -nan         -nan         -nan         -nan         -nan         -nan         -nan         -nan         -nan         -nan         -nan         -nan         -nan         -nan         -nan         -nan         -nan         -nan         -nan         -nan         -nan         -nan         -nan         -nan         -nan         -nan         -nan         -nan         -nan         -nan         -nan         -nan         -nan         -nan\r\n",
      "        -nan         -nan         -nan         -nan         -nan         -nan         -nan         -nan         -nan         -nan         -nan         -nan         -nan         -nan         -nan         -nan         -nan         -nan         -nan         -nan         -nan         -nan         -nan         -nan         -nan         -nan         -nan         -nan         -nan         -nan         -nan         -nan         -nan         -nan         -nan\r\n",
      "        -nan         -nan         -nan         -nan         -nan         -nan         -nan         -nan         -nan         -nan         -nan         -nan         -nan         -nan         -nan         -nan         -nan         -nan         -nan         -nan         -nan         -nan         -nan         -nan          nan          nan          nan          nan          nan          nan          nan          nan          nan          nan          nan\r\n",
      "        -nan         -nan         -nan         -nan         -nan         -nan         -nan         -nan         -nan         -nan         -nan         -nan         -nan         -nan         -nan         -nan         -nan         -nan         -nan         -nan         -nan         -nan         -nan         -nan          nan          nan          nan          nan          nan          nan          nan          nan          nan          nan          nan\r\n",
      "        -nan         -nan         -nan         -nan         -nan         -nan         -nan         -nan         -nan         -nan         -nan         -nan         -nan         -nan         -nan         -nan         -nan         -nan         -nan         -nan         -nan         -nan         -nan         -nan         -nan         -nan         -nan         -nan         -nan         -nan         -nan         -nan         -nan         -nan         -nan\r\n",
      "        -nan         -nan         -nan         -nan         -nan         -nan         -nan         -nan         -nan         -nan         -nan         -nan         -nan         -nan         -nan         -nan         -nan         -nan         -nan         -nan         -nan         -nan         -nan         -nan         -nan         -nan         -nan         -nan         -nan         -nan         -nan         -nan         -nan         -nan         -nan\r\n",
      "        -nan         -nan         -nan         -nan         -nan         -nan         -nan         -nan         -nan         -nan         -nan         -nan         -nan         -nan         -nan         -nan         -nan         -nan         -nan         -nan         -nan         -nan         -nan         -nan          nan          nan          nan          nan          nan          nan          nan          nan          nan          nan          nan\r\n",
      "        -nan         -nan         -nan         -nan         -nan         -nan         -nan         -nan         -nan         -nan         -nan         -nan         -nan         -nan         -nan         -nan         -nan         -nan         -nan         -nan         -nan         -nan         -nan         -nan          nan          nan          nan          nan          nan          nan          nan          nan          nan          nan          nan\r\n",
      "        -nan         -nan         -nan         -nan         -nan         -nan         -nan         -nan         -nan         -nan         -nan         -nan         -nan         -nan         -nan         -nan         -nan         -nan         -nan         -nan         -nan         -nan         -nan         -nan          nan          nan          nan         -nan          nan          nan          nan         -nan          nan          nan          nan\r\n",
      "        -nan         -nan         -nan         -nan         -nan         -nan         -nan         -nan         -nan         -nan         -nan         -nan         -nan         -nan         -nan         -nan         -nan         -nan         -nan         -nan         -nan         -nan         -nan         -nan          nan          nan          nan         -nan          nan          nan          nan         -nan          nan          nan          nan\r\n",
      "        -nan         -nan         -nan         -nan         -nan         -nan         -nan         -nan         -nan         -nan         -nan         -nan         -nan         -nan         -nan         -nan         -nan         -nan         -nan         -nan         -nan         -nan         -nan         -nan         -nan         -nan         -nan         -nan         -nan         -nan         -nan         -nan         -nan         -nan         -nan\r\n",
      "B\r\n",
      "   0.0901503  1.91882e-15  4.99237e-15 -4.72093e-15   -0.0325949 -8.72494e-16 -9.86215e-12 -1.03972e-11 -8.89791e-12   -0.0147607  6.17221e-06 -3.29388e-12    0.0480724   0.00133412    0.0477326  1.18826e-15 -8.24018e-14  6.54007e-14  2.32588e-12  2.93034e-12    0.0243816  4.19207e-06  1.46949e-13 -5.63075e-12         -nan         -nan         -nan         -nan         -nan         -nan         -nan         -nan         -nan         -nan         -nan\r\n",
      " 1.88612e-15    0.0901503 -8.55362e-13  1.39038e-12 -9.00566e-16   -0.0325949  -5.1536e-15 -4.87486e-15 -3.87776e-15 -6.17221e-06   -0.0147607  -1.4401e-15  -0.00133412    0.0480724  1.21729e-15    0.0477326 -9.01786e-13  2.97301e-13 -7.40743e-15 -2.44574e-14 -4.19207e-06    0.0243816  5.78984e-12 -1.95984e-12         -nan         -nan         -nan         -nan         -nan         -nan         -nan         -nan         -nan         -nan         -nan\r\n",
      " 4.99242e-15 -8.55362e-13    0.0988831   0.00551472 -7.81576e-16  7.47373e-13 -4.71614e-05 -4.71614e-05 -2.74072e-05 -5.98689e-15 -2.22645e-12 -1.34377e-05 -4.69302e-15  2.97421e-13 -3.06027e-15  4.99089e-13    0.0657094  -0.00223299  7.50244e-05   0.00183664  2.60129e-14  1.65221e-12    0.0406605  -0.00586381         -nan         -nan         -nan         -nan         -nan         -nan         -nan         -nan         -nan         -nan         -nan\r\n",
      "-4.72092e-15  1.39038e-12   0.00551472    0.0988831  3.77762e-16 -2.50716e-13  4.71614e-05  4.71614e-05  2.74072e-05  4.97438e-15 -1.15754e-13  1.34377e-05  8.85004e-15 -4.51368e-13  3.09809e-15  4.74185e-12  -0.00223299    0.0657094  -0.00183664 -7.50244e-05 -2.70943e-14  2.98753e-13   -0.0406605  -0.00586381         -nan         -nan         -nan         -nan         -nan         -nan         -nan         -nan         -nan         -nan         -nan\r\n",
      "  -0.0325949 -9.05589e-16 -7.81564e-16  3.77753e-16     0.236331  1.25736e-15  5.39925e-13  4.33283e-14  5.61975e-13    0.0143743 -6.01063e-06 -2.17704e-12   0.00952104   0.00026423    0.0423454  -7.1857e-15 -3.98788e-14  6.19453e-14  2.19292e-12  1.41401e-12   0.00354089  6.08804e-07  2.09981e-14  9.84587e-13         -nan         -nan         -nan         -nan         -nan         -nan         -nan         -nan         -nan         -nan         -nan\r\n",
      "-8.59699e-16   -0.0325949  7.47373e-13 -2.50716e-13  1.20213e-15     0.236331  8.84427e-16  4.72965e-16  4.48908e-16  6.01063e-06    0.0143743  -7.0662e-16  -0.00026423   0.00952104 -7.21539e-15    0.0423454  7.77047e-13  1.77012e-15  8.50965e-16  2.29251e-14 -6.08804e-07   0.00354089 -3.05383e-12  3.05655e-13         -nan         -nan         -nan         -nan         -nan         -nan         -nan         -nan         -nan         -nan         -nan\r\n",
      "-9.86215e-12 -5.15362e-15 -4.71614e-05  4.71614e-05  5.39926e-13  8.84424e-16     0.211669     0.107271    0.0655439  1.16473e-11  3.88704e-16    0.0321361 -9.21021e-12 -2.61017e-13  1.20824e-11  3.23348e-15   0.00081677  0.000944843     0.034516   -0.0289604 -1.28326e-11 -3.46173e-14  -0.00133585   -0.0155019         -nan         -nan         -nan         -nan         -nan         -nan         -nan         -nan         -nan         -nan         -nan\r\n",
      "-1.03972e-11 -4.87486e-15 -4.71614e-05  4.71614e-05  4.33283e-14   4.7295e-16     0.107271     0.211669    0.0655439  1.39896e-11 -6.28109e-16    0.0321361 -9.05633e-12 -2.56905e-13  6.84141e-12  3.31968e-15 -0.000944843  -0.00081677   -0.0289604     0.034516 -1.47701e-11 -3.38547e-14  -0.00133585    0.0155019         -nan         -nan         -nan         -nan         -nan         -nan         -nan         -nan         -nan         -nan         -nan\r\n",
      "-8.89791e-12 -3.87788e-15 -2.74072e-05  2.74072e-05  5.61975e-13  4.48913e-16    0.0655439    0.0655439     0.423732  9.92581e-12  4.65701e-16   -0.0111903 -3.58016e-13 -1.03655e-14  4.01315e-12  1.81181e-15   1.9625e-05  -1.9625e-05 -0.000696644 -0.000696644 -1.32697e-11 -1.90694e-14  -0.00059386 -1.52822e-10         -nan         -nan         -nan         -nan         -nan         -nan         -nan         -nan         -nan         -nan         -nan\r\n",
      "  -0.0147607 -6.17221e-06 -5.98692e-15  4.97434e-15    0.0143743  6.01063e-06  1.16473e-11  1.39896e-11  9.92581e-12     0.445598 -4.50611e-17  2.20241e-12 -0.000472605 -1.33136e-05   -0.0108238 -4.52598e-06  1.01922e-13  3.86055e-14  1.33193e-12 -3.61555e-12   -0.0177641 -1.04823e-05 -1.05083e-13  1.16353e-11         -nan         -nan         -nan         -nan         -nan         -nan         -nan         -nan         -nan         -nan         -nan\r\n",
      " 6.17221e-06   -0.0147607 -2.22645e-12 -1.15754e-13 -6.01063e-06    0.0143743  3.88629e-16 -6.28356e-16  4.65767e-16 -8.77789e-18     0.445598 -3.50161e-16  1.33136e-05 -0.000472605  4.52598e-06   -0.0108238  5.62652e-12 -6.79102e-13   1.9473e-14   1.6004e-13  1.04823e-05   -0.0177641 -8.45759e-12     4.01e-12         -nan         -nan         -nan         -nan         -nan         -nan         -nan         -nan         -nan         -nan         -nan\r\n",
      "-3.29388e-12 -1.44009e-15 -1.34377e-05  1.34377e-05 -2.17704e-12 -7.06778e-16    0.0321361    0.0321361   -0.0111903  2.20241e-12 -3.50143e-16     0.626438 -3.53983e-12 -9.99069e-14  5.04638e-12  2.03671e-15  0.000619254 -0.000619254   -0.0219822   -0.0219822 -2.74027e-12 -6.72883e-15 -0.000284505 -5.29473e-11         -nan         -nan         -nan         -nan         -nan         -nan         -nan         -nan         -nan         -nan         -nan\r\n",
      "   0.0480724  -0.00133412 -4.69303e-15  8.85004e-15   0.00952104  -0.00026423 -9.21021e-12 -9.05633e-12 -3.58016e-13 -0.000472605  1.33136e-05 -3.53983e-12     0.912633 -4.86639e-14   -0.0214926  0.000596468 -4.50238e-13  4.50175e-13  1.56665e-11  1.37727e-11   -0.0226702  0.000625248  5.48683e-14  4.65355e-12         -nan         -nan         -nan         -nan         -nan         -nan         -nan         -nan         -nan         -nan         -nan\r\n",
      "  0.00133412    0.0480724  2.97421e-13 -4.51368e-13   0.00026423   0.00952104 -2.61017e-13 -2.56905e-13 -1.03654e-14 -1.33136e-05 -0.000472605 -9.99069e-14 -4.86805e-14     0.912633 -0.000596468   -0.0214926  2.19803e-12 -3.04333e-13  4.50934e-13  4.50909e-13 -0.000625248   -0.0226702 -1.04268e-12  1.80725e-12         -nan         -nan         -nan         -nan         -nan         -nan         -nan         -nan         -nan         -nan         -nan\r\n",
      "   0.0477326   1.2237e-15 -3.06012e-15  3.09806e-15    0.0423454 -7.23045e-15  1.20824e-11  6.84141e-12  4.01315e-12   -0.0108238  4.52598e-06  5.04638e-12   -0.0214926 -0.000596468     0.950071 -1.37992e-15  1.04286e-13 -1.56056e-13 -5.57262e-12 -3.69521e-12  -0.00314125 -5.40093e-07 -5.46049e-14  4.03279e-12         -nan         -nan         -nan         -nan         -nan         -nan         -nan         -nan         -nan         -nan         -nan\r\n",
      " 1.17163e-15    0.0477326  4.99089e-13  4.74185e-12 -7.18746e-15    0.0423454  3.23342e-15  3.31964e-15  1.81181e-15 -4.52598e-06   -0.0108238  2.03672e-15  0.000596468   -0.0214926 -1.47581e-15     0.950071 -6.89646e-13 -1.18772e-12  3.11563e-14 -2.07333e-14  5.40093e-07  -0.00314125  2.13907e-12  1.34205e-12         -nan         -nan         -nan         -nan         -nan         -nan         -nan         -nan         -nan         -nan         -nan\r\n",
      "-8.24018e-14 -9.01786e-13    0.0657094  -0.00223299 -3.98788e-14  7.77047e-13   0.00081677 -0.000944843   1.9625e-05  1.01922e-13  5.62652e-12  0.000619254 -4.50238e-13  2.19803e-12  1.04286e-13 -6.89646e-13      1.04433  -0.00446147  -0.00222708  -0.00222708 -2.11706e-13 -4.62564e-13    0.0159157  -0.00261089         -nan         -nan         -nan         -nan         -nan         -nan         -nan         -nan         -nan         -nan         -nan\r\n",
      " 6.54007e-14  2.97301e-13  -0.00223299    0.0657094  6.19453e-14  1.77013e-15  0.000944843  -0.00081677  -1.9625e-05  3.86056e-14 -6.79102e-13 -0.000619254  4.50175e-13 -3.04332e-13 -1.56056e-13 -1.18772e-12  -0.00446147      1.04433   0.00222708   0.00222708    1.737e-13 -8.93913e-13   -0.0159157  -0.00261089         -nan         -nan         -nan         -nan         -nan         -nan         -nan         -nan         -nan         -nan         -nan\r\n",
      " 2.32588e-12 -7.40743e-15  7.50244e-05  -0.00183664  2.19292e-12  8.50964e-16     0.034516   -0.0289604 -0.000696644  1.33193e-12  1.94729e-14   -0.0219822  1.56665e-11  4.50934e-13 -5.57262e-12  3.11563e-14  -0.00222708   0.00222708      1.12332    0.0834551  6.45968e-12  2.42722e-14  0.000156838  -0.00655152         -nan         -nan         -nan         -nan         -nan         -nan         -nan         -nan         -nan         -nan         -nan\r\n",
      " 2.93034e-12 -2.44574e-14   0.00183664 -7.50244e-05  1.41401e-12  2.29251e-14   -0.0289604     0.034516 -0.000696644 -3.61555e-12   1.6004e-13   -0.0219822  1.37727e-11   4.5091e-13 -3.69521e-12 -2.07333e-14  -0.00222708   0.00222708    0.0834551      1.12332  7.82014e-12 -1.32406e-14  0.000156838   0.00655152         -nan         -nan         -nan         -nan         -nan         -nan         -nan         -nan         -nan         -nan         -nan\r\n",
      "   0.0558853 -9.60868e-06    5.368e-14 -5.39829e-14   0.00253709 -4.36216e-07 -8.10039e-11 -8.25733e-11 -1.27483e-11   -0.0110902  6.54417e-06 -3.12746e-12   -0.0177161 -0.000488613   -0.0178963  3.07701e-06  8.04409e-14 -1.10306e-13 -3.67188e-12 -2.60051e-12     0.582693 -3.27321e-14  1.49088e-12 -4.19133e-11         -nan         -nan         -nan         -nan         -nan         -nan         -nan         -nan         -nan         -nan         -nan\r\n",
      " 9.60868e-06    0.0558853  9.26798e-13  6.48488e-13  4.36216e-07   0.00253709 -7.04028e-14 -6.99004e-14 -1.68399e-14 -6.54417e-06   -0.0110902 -6.24885e-15  0.000488613   -0.0177161 -3.07701e-06   -0.0178963 -5.49216e-15 -1.06157e-12  2.30443e-14  -6.0357e-15 -3.27671e-14     0.582693  5.82048e-11 -1.48818e-11         -nan         -nan         -nan         -nan         -nan         -nan         -nan         -nan         -nan         -nan         -nan\r\n",
      " 1.16231e-13  5.49132e-12    0.0411069   -0.0411069  2.06191e-14 -3.67475e-12   -0.0012234   -0.0012234  -0.00055767 -1.01178e-13 -9.76152e-12 -0.000270173  6.38096e-14 -1.51221e-12 -4.36891e-14  3.07373e-12    0.0168179   -0.0168179   0.00018407   0.00018407  2.46088e-12  6.13839e-11      1.94089  1.36154e-10         -nan         -nan         -nan         -nan         -nan         -nan         -nan         -nan         -nan         -nan         -nan\r\n",
      " -5.5205e-12 -1.95244e-12   -0.0066871   -0.0066871 -1.93285e-12 -6.31998e-13   -0.0177396    0.0177396 -2.58268e-10  1.51141e-11   5.2482e-12 -9.41181e-11  4.41883e-12  1.66681e-12  2.38107e-12  9.42358e-13  -0.00314577  -0.00314577  -0.00750246   0.00750246 -4.75115e-11  -1.6807e-11  1.28822e-10     0.862829         -nan         -nan         -nan         -nan         -nan         -nan         -nan         -nan         -nan         -nan         -nan\r\n",
      "        -nan         -nan         -nan         -nan         -nan         -nan         -nan         -nan         -nan         -nan         -nan         -nan         -nan         -nan         -nan         -nan         -nan         -nan         -nan         -nan         -nan         -nan         -nan         -nan         -nan         -nan         -nan         -nan         -nan         -nan         -nan         -nan         -nan         -nan         -nan\r\n",
      "        -nan         -nan         -nan         -nan         -nan         -nan         -nan         -nan         -nan         -nan         -nan         -nan         -nan         -nan         -nan         -nan         -nan         -nan         -nan         -nan         -nan         -nan         -nan         -nan         -nan         -nan         -nan         -nan         -nan         -nan         -nan         -nan         -nan         -nan         -nan\r\n",
      "        -nan         -nan         -nan         -nan         -nan         -nan         -nan         -nan         -nan         -nan         -nan         -nan         -nan         -nan         -nan         -nan         -nan         -nan         -nan         -nan         -nan         -nan         -nan         -nan         -nan         -nan         -nan         -nan         -nan         -nan         -nan         -nan         -nan         -nan         -nan\r\n",
      "        -nan         -nan         -nan         -nan         -nan         -nan         -nan         -nan         -nan         -nan         -nan         -nan         -nan         -nan         -nan         -nan         -nan         -nan         -nan         -nan         -nan         -nan         -nan         -nan         -nan         -nan         -nan         -nan         -nan         -nan         -nan         -nan         -nan         -nan         -nan\r\n",
      "        -nan         -nan         -nan         -nan         -nan         -nan         -nan         -nan         -nan         -nan         -nan         -nan         -nan         -nan         -nan         -nan         -nan         -nan         -nan         -nan         -nan         -nan         -nan         -nan         -nan         -nan         -nan         -nan         -nan         -nan         -nan         -nan         -nan         -nan         -nan\r\n",
      "        -nan         -nan         -nan         -nan         -nan         -nan         -nan         -nan         -nan         -nan         -nan         -nan         -nan         -nan         -nan         -nan         -nan         -nan         -nan         -nan         -nan         -nan         -nan         -nan         -nan         -nan         -nan         -nan         -nan         -nan         -nan         -nan         -nan         -nan         -nan\r\n",
      "        -nan         -nan         -nan         -nan         -nan         -nan         -nan         -nan         -nan         -nan         -nan         -nan         -nan         -nan         -nan         -nan         -nan         -nan         -nan         -nan         -nan         -nan         -nan         -nan         -nan         -nan         -nan         -nan         -nan         -nan         -nan         -nan         -nan         -nan         -nan\r\n",
      "        -nan         -nan         -nan         -nan         -nan         -nan         -nan         -nan         -nan         -nan         -nan         -nan         -nan         -nan         -nan         -nan         -nan         -nan         -nan         -nan         -nan         -nan         -nan         -nan         -nan         -nan         -nan         -nan         -nan         -nan         -nan         -nan         -nan         -nan         -nan\r\n",
      "        -nan         -nan         -nan         -nan         -nan         -nan         -nan         -nan         -nan         -nan         -nan         -nan         -nan         -nan         -nan         -nan         -nan         -nan         -nan         -nan         -nan         -nan         -nan         -nan         -nan         -nan         -nan         -nan         -nan         -nan         -nan         -nan         -nan         -nan         -nan\r\n",
      "        -nan         -nan         -nan         -nan         -nan         -nan         -nan         -nan         -nan         -nan         -nan         -nan         -nan         -nan         -nan         -nan         -nan         -nan         -nan         -nan         -nan         -nan         -nan         -nan         -nan         -nan         -nan         -nan         -nan         -nan         -nan         -nan         -nan         -nan         -nan\r\n",
      "        -nan         -nan         -nan         -nan         -nan         -nan         -nan         -nan         -nan         -nan         -nan         -nan         -nan         -nan         -nan         -nan         -nan         -nan         -nan         -nan         -nan         -nan         -nan         -nan          nan          nan          nan          nan          nan          nan          nan          nan          nan          nan          nan\r\n",
      "an error occurred:\r\n",
      "Small generalized eigenvalue problem failed.\r\n"
     ]
    }
   ],
   "source": [
    "!xtp_tools -c job_name=CO geometry_optimization.maxiter=1 dftpackage.basisset=3-21G dftpackage.auxbasisset=aux-def2-svp gwbse.gw.mode=G0W0 -e dftgwbse -t 4"
   ]
  },
  {
   "cell_type": "markdown",
   "metadata": {},
   "source": [
    "Notice that we are using 4 threads. The results will be stored in a file named `CO_summary.xml` in the current work directory, together with the optimization step in `optimisation.trj` and the orbitals in [hdf5 format](https://www.hdfgroup.org/solutions/hdf5/) saved on `CO.orb`."
   ]
  }
 ],
 "metadata": {
  "kernelspec": {
   "display_name": "Python 3",
   "language": "python",
   "name": "python3"
  },
  "language_info": {
   "codemirror_mode": {
    "name": "ipython",
    "version": 3
   },
   "file_extension": ".py",
   "mimetype": "text/x-python",
   "name": "python",
   "nbconvert_exporter": "python",
   "pygments_lexer": "ipython3",
   "version": "3.10.0"
  }
 },
 "nbformat": 4,
 "nbformat_minor": 4
}
