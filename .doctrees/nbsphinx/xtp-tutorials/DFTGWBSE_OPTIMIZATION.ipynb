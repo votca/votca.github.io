{
 "cells": [
  {
   "cell_type": "markdown",
   "metadata": {},
   "source": [
    "## DFT + GWBSE Optimization Using CO"
   ]
  },
  {
   "cell_type": "markdown",
   "metadata": {},
   "source": [
    "## Introduction\n",
    "This tutorial explains how to perform a molecular geometric optimization using the **GWBSE** method. See [the GW Compendium: A Practical Guide to Theoretical Photoemission Spectroscopy](https://doi.org/10.3389/fchem.2019.00377), for an excellent introduction to the method."
   ]
  },
  {
   "cell_type": "markdown",
   "metadata": {},
   "source": [
    "## Requirements\n",
    "* You will need to install **VOTCA** using the instructions described [here](https://github.com/votca/votca/blob/master/share/doc/INSTALL.rst)\n",
    "* Once the installation is completed you need to activate the VOTCA enviroment by running the `VOTCARC.bash` script that has been installed at the bin subfolder for the path that you have provided for the installation step above"
   ]
  },
  {
   "cell_type": "markdown",
   "metadata": {},
   "source": [
    "## Preparing the input\n",
    "To run a DFT-GWBSE calculation we will use the [xtp_tools](https://www.votca.org/xtp/xtp_tools_overview.html) calculator."
   ]
  },
  {
   "cell_type": "markdown",
   "metadata": {},
   "source": [
    "we can now change the calculator mode from single point energy calculation to optimization as follows by adding \n",
    "`-c geometry_optimization.maxiter=1` which enables optimization with one iteration. "
   ]
  },
  {
   "cell_type": "markdown",
   "metadata": {},
   "source": [
    "Because geometry optimsation is quite expensive numerically we chose a smaller basisset and G0W0 Finally, to run the calculation we just need the following command (This still takes a while)"
   ]
  },
  {
   "cell_type": "code",
   "execution_count": 1,
   "metadata": {
    "execution": {
     "iopub.execute_input": "2021-09-03T21:02:42.556005Z",
     "iopub.status.busy": "2021-09-03T21:02:42.555452Z",
     "iopub.status.idle": "2021-09-03T21:02:57.135520Z",
     "shell.execute_reply": "2021-09-03T21:02:57.134743Z"
    }
   },
   "outputs": [
    {
     "name": "stdout",
     "output_type": "stream",
     "text": [
      "==================================================\r\n",
      "========   VOTCA (http://www.votca.org)   ========\r\n",
      "==================================================\r\n",
      "\r\n",
      "please submit bugs to https://github.com/votca/xtp/issues\r\n",
      "\r\n",
      "xtp_tools, version 2022-dev gitid: c343ca8 (compiled Sep  3 2021, 20:54:44)\r\n",
      "votca_csg, version 2022-dev gitid: c343ca8 (compiled Sep  3 2021, 20:40:33)\r\n",
      "votca_tools, version 2022-dev gitid: c343ca8 (compiled Sep  3 2021, 20:38:27)\r\n",
      "\r\n",
      "Initializing tool\r\n",
      "... dftgwbse Evaluating tool\r\n",
      "... dftgwbse  Using 4 threads\r\n",
      "... ... Reading structure from CO.xyz\r\n",
      "... ... Requested geometry optimization of excited state s1\r\n",
      "... ... Initial state: s1\r\n",
      "... ... WARNING: No tracker is used \r\n",
      "... ... Convergence of total energy: 0.000001 Hartree \r\n",
      "... ... Convergence of RMS Force:    0.000030 Hartree/Bohr \r\n",
      "... ... Convergence of Max Force:    0.000100 Hartree/Bohr \r\n",
      "... ... Convergence of RMS Step:     0.000600 Bohr \r\n",
      "... ... Convergence of Max Step:     0.001000 Bohr \r\n",
      "... ... Initial trust radius:        0.018897 BohrA\r\n",
      "    0.307132 -3.05395e-11  1.80095e-10  5.20336e-10  2.31691e-11   -0.0516061  1.11619e-09 -1.03644e-09    3.875e-10    0.0181649    0.0010384  1.10389e-10    -0.010393    0.0375642 -1.99855e-11    0.0421019 -2.08442e-10  9.09899e-11   3.5771e-10  1.58905e-10  0.000478886    -0.108408 -1.82867e-10          nan          nan          nan          nan          nan          nan          nan          nan          nan          nan          nan          nan\r\n",
      "-3.05394e-11     0.307132   3.8854e-10  3.08789e-10   -0.0516061  2.31691e-11 -2.45215e-09  2.79239e-09 -8.22168e-10    0.0010384   -0.0181649 -3.85188e-10   -0.0375642    -0.010393    0.0421019 -1.99856e-11  1.91897e-10  6.90882e-12 -5.01706e-10 -6.19158e-10    -0.108408 -0.000478886 -1.68114e-11          nan          nan          nan          nan          nan          nan          nan          nan          nan          nan          nan          nan\r\n",
      " 1.80095e-10   3.8854e-10       0.3206  -0.00929445 -1.41757e-11 -3.03939e-11   -0.0131332    0.0131332  -0.00489733  1.46128e-10 -1.02422e-10  -0.00208641 -1.18671e-11 -2.06768e-10  1.19252e-10 -7.46749e-12   -0.0470589   0.00129755   -0.0025503   -0.0152112 -9.86136e-10  3.12321e-10   -0.0254849          nan          nan          nan          nan          nan          nan          nan          nan          nan          nan          nan          nan\r\n",
      " 5.20336e-10  3.08789e-10  -0.00929445       0.3206 -2.25377e-11 -4.35118e-10   -0.0131332    0.0131332  -0.00489733  1.66393e-10 -1.48334e-10  -0.00208641  8.17049e-12 -1.81871e-10  1.28211e-11  4.05467e-10  -0.00129755    0.0470589   -0.0152112   -0.0025503 -9.62192e-10 -2.07837e-10   -0.0254849          nan          nan          nan          nan          nan          nan          nan          nan          nan          nan          nan          nan\r\n",
      " 2.31691e-11   -0.0516061 -1.41757e-11 -2.25377e-11     0.490902 -2.82517e-12 -1.48999e-09  1.08527e-09 -6.28841e-10 -0.000768368    0.0134412 -1.85914e-10  -0.00770442  -0.00213161    0.0309987  6.59824e-11  4.61173e-11 -3.03214e-10 -2.08007e-10 -6.15558e-11    0.0531267  0.000234684 -2.09366e-10          nan          nan          nan          nan          nan          nan          nan          nan          nan          nan          nan          nan\r\n",
      "  -0.0516061  2.31691e-11 -3.03939e-11 -4.35118e-10 -2.82523e-12     0.490902 -9.30993e-11  1.01461e-10 -6.26678e-11   -0.0134412 -0.000768368  5.20584e-12  -0.00213161   0.00770442  6.59824e-11    0.0309987  1.53711e-10  -7.2596e-12 -8.27408e-11  1.74356e-10 -0.000234685    0.0531267 -4.46675e-11          nan          nan          nan          nan          nan          nan          nan          nan          nan          nan          nan          nan\r\n",
      " 1.11619e-09 -2.45215e-09   -0.0131332   -0.0131332 -1.48999e-09 -9.30993e-11      0.54959    -0.219695    0.0856696  1.42901e-11  7.24929e-10    0.0364979  8.33061e-10  2.62322e-09  6.31649e-10  2.54443e-10     -0.01134  -0.00132091   -0.0126945    0.0330669  1.34053e-08 -8.26735e-09   0.00153954          nan          nan          nan          nan          nan          nan          nan          nan          nan          nan          nan          nan\r\n",
      "-1.03644e-09  2.79239e-09    0.0131332    0.0131332  1.08527e-09  1.01461e-10    -0.219695      0.54959   -0.0856696 -6.02022e-11 -7.45193e-10   -0.0364979 -8.57958e-10 -2.60318e-09 -2.18714e-10 -1.48012e-10  -0.00132091     -0.01134   -0.0330669    0.0126945 -1.39189e-08  8.23986e-09  -0.00153954          nan          nan          nan          nan          nan          nan          nan          nan          nan          nan          nan          nan\r\n",
      "   3.875e-10 -8.22168e-10  -0.00489733  -0.00489733 -6.28841e-10 -6.26678e-11    0.0856696   -0.0856696     0.662947  1.80011e-10  5.81852e-10  -0.00632525  2.92951e-10  7.01858e-10  3.36752e-10  9.72242e-11  -0.00131517   0.00131517   0.00387723   0.00387723   4.3403e-09 -3.05269e-09   0.00112197          nan          nan          nan          nan          nan          nan          nan          nan          nan          nan          nan          nan\r\n",
      "   0.0181649    0.0010384  1.46128e-10  1.66393e-10 -0.000768368   -0.0134412  1.42901e-11 -6.02022e-11  1.80011e-10     0.680922  -1.5976e-12 -8.83648e-11 -2.70433e-05  7.97261e-05  0.000492927   0.00862285 -3.86844e-10 -1.91432e-13 -8.09524e-11 -8.90604e-10  -0.00216057   -0.0409706  6.68909e-10          nan          nan          nan          nan          nan          nan          nan          nan          nan          nan          nan          nan\r\n",
      "   0.0010384   -0.0181649 -1.02422e-10 -1.48334e-10    0.0134412 -0.000768368  7.24929e-10 -7.45193e-10  5.81852e-10  -1.5975e-12     0.680922   -6.205e-11   7.9726e-05  2.70433e-05  -0.00862285  0.000492927  4.19253e-12 -8.13844e-10 -3.77637e-10  9.39785e-12    0.0409706  -0.00216057 -8.09427e-10          nan          nan          nan          nan          nan          nan          nan          nan          nan          nan          nan          nan\r\n",
      " 1.10389e-10 -3.85188e-10  -0.00208641  -0.00208641 -1.85914e-10  5.20584e-12    0.0364979   -0.0364979  -0.00632525 -8.83648e-11   -6.205e-11      0.79826 -1.20924e-11  3.26479e-10 -1.10207e-10  5.76787e-11  -0.00464967   0.00464967    0.0137076    0.0137076  1.73244e-09 -9.75403e-10  0.000444788          nan          nan          nan          nan          nan          nan          nan          nan          nan          nan          nan          nan\r\n",
      "   -0.010393   -0.0375642 -1.18671e-11  8.17049e-12  -0.00770442  -0.00213161  8.33061e-10 -8.57958e-10  2.92951e-10 -2.70433e-05   7.9726e-05 -1.20924e-11     0.956418 -4.28688e-11    0.0126663   0.00350444 -1.23835e-10  2.37467e-10  6.53872e-10  4.31501e-10   -0.0192739  -0.00542435 -6.82248e-12          nan          nan          nan          nan          nan          nan          nan          nan          nan          nan          nan          nan\r\n",
      "   0.0375642    -0.010393 -2.06768e-10 -1.81871e-10  -0.00213161   0.00770442  2.62322e-09 -2.60318e-09  7.01858e-10  7.97261e-05  2.70433e-05  3.26479e-10 -4.28687e-11     0.956418   0.00350444   -0.0126663 -4.24078e-10  6.46449e-10  1.49158e-09  1.60521e-09  -0.00542435    0.0192739  8.91537e-11          nan          nan          nan          nan          nan          nan          nan          nan          nan          nan          nan          nan\r\n",
      "-1.99855e-11    0.0421019  1.19252e-10  1.28211e-11    0.0309987  6.59824e-11  6.31649e-10 -2.18714e-10  3.36752e-10  0.000492927  -0.00862285 -1.10207e-10    0.0126663   0.00350444     0.988566  3.73206e-11  2.92113e-11  -1.1093e-10  3.58625e-11  -6.1715e-11   -0.0223628 -9.87866e-05  -3.2996e-10          nan          nan          nan          nan          nan          nan          nan          nan          nan          nan          nan          nan\r\n",
      "   0.0421019 -1.99856e-11 -7.46749e-12  4.05467e-10  6.59824e-11    0.0309987  2.54443e-10 -1.48012e-10  9.72242e-11   0.00862285  0.000492927  5.76787e-11   0.00350444   -0.0126663  3.73205e-11     0.988566 -7.07656e-12  -9.0501e-11  6.75541e-11  1.49273e-10  9.87867e-05   -0.0223628 -1.73274e-10          nan          nan          nan          nan          nan          nan          nan          nan          nan          nan          nan          nan\r\n",
      "-2.08442e-10  1.91897e-10   -0.0470589  -0.00129755  4.61173e-11  1.53711e-10     -0.01134  -0.00132091  -0.00131517 -3.86844e-10  4.19253e-12  -0.00464967 -1.23835e-10 -4.24078e-10  2.92113e-11 -7.07656e-12      1.03319  -0.00655614   -0.0132314   -0.0132314 -8.25245e-10  5.52969e-10    0.0042765          nan          nan          nan          nan          nan          nan          nan          nan          nan          nan          nan          nan\r\n",
      " 9.09899e-11  6.90882e-12   0.00129755    0.0470589 -3.03214e-10  -7.2596e-12  -0.00132091     -0.01134   0.00131517 -1.91432e-13 -8.13844e-10   0.00464967  2.37467e-10  6.46449e-10  -1.1093e-10  -9.0501e-11  -0.00655614      1.03319    0.0132314    0.0132314  7.78527e-10 -4.51086e-10   -0.0042765          nan          nan          nan          nan          nan          nan          nan          nan          nan          nan          nan          nan\r\n",
      "  3.5771e-10 -5.01706e-10   -0.0025503   -0.0152112 -2.08007e-10 -8.27408e-11   -0.0126945   -0.0330669   0.00387723 -8.09524e-11 -3.77637e-10    0.0137076  6.53872e-10  1.49158e-09  3.58625e-11  6.75541e-11   -0.0132314    0.0132314      1.06771    0.0410754  2.36743e-09 -1.58676e-09   0.00204011          nan          nan          nan          nan          nan          nan          nan          nan          nan          nan          nan          nan\r\n",
      " 1.58905e-10 -6.19158e-10   -0.0152112   -0.0025503 -6.15558e-11  1.74356e-10    0.0330669    0.0126945   0.00387723 -8.90604e-10  9.39785e-12    0.0137076  4.31501e-10  1.60521e-09  -6.1715e-11  1.49273e-10   -0.0132314    0.0132314    0.0410754      1.06771  2.46841e-09 -1.53949e-09   0.00204011          nan          nan          nan          nan          nan          nan          nan          nan          nan          nan          nan          nan\r\n",
      "-0.000332398    0.0752465  6.85919e-10  7.30843e-10   -0.0690159  0.000304874 -8.05902e-09  8.33661e-09 -3.16371e-09   0.00163012   -0.0309119  -1.5432e-09   0.00866667    0.0024391    0.0364086 -0.000160833  5.58296e-10 -5.57732e-10 -1.77567e-09 -1.77918e-09    -0.194424  2.21045e-10 -4.21701e-09          nan          nan          nan          nan          nan          nan          nan          nan          nan          nan          nan          nan\r\n",
      "   0.0752465  0.000332398  2.23038e-12  2.86551e-10 -0.000304874   -0.0690159  5.48909e-09 -5.53166e-09  2.38348e-09    0.0309119   0.00163012  8.86819e-10    0.0024391  -0.00866667  0.000160833    0.0364086 -4.81185e-10  4.76941e-10  1.28065e-09   1.2792e-09  2.21046e-10    -0.194424 -5.54468e-09          nan          nan          nan          nan          nan          nan          nan          nan          nan          nan          nan          nan\r\n",
      " 5.99205e-10   5.2967e-10   -0.0141904   -0.0141904  -3.6892e-10 -5.51704e-10  -0.00431354   0.00431354   -0.0013091  1.02976e-09 -1.08959e-09  -0.00052492  8.36161e-11 -8.16732e-11  4.06998e-11  2.51644e-10   0.00597542  -0.00597542   0.00150649   0.00150649 -4.42732e-09 -5.45866e-09     0.958296          nan          nan          nan          nan          nan          nan          nan          nan          nan          nan          nan          nan\r\n",
      "        -nan         -nan         -nan         -nan         -nan         -nan         -nan         -nan         -nan         -nan         -nan         -nan         -nan         -nan         -nan         -nan         -nan         -nan         -nan         -nan         -nan         -nan         -nan          nan          nan          nan          nan          nan          nan          nan          nan          nan          nan          nan          nan\r\n",
      "        -nan         -nan         -nan         -nan         -nan         -nan         -nan         -nan         -nan         -nan         -nan         -nan         -nan         -nan         -nan         -nan         -nan         -nan         -nan         -nan         -nan         -nan         -nan         -nan         -nan         -nan         -nan         -nan         -nan         -nan         -nan         -nan         -nan         -nan         -nan\r\n",
      "        -nan         -nan         -nan         -nan         -nan         -nan         -nan         -nan         -nan         -nan         -nan         -nan         -nan         -nan         -nan         -nan         -nan         -nan         -nan         -nan         -nan         -nan         -nan         -nan         -nan         -nan         -nan         -nan         -nan         -nan         -nan         -nan         -nan         -nan         -nan\r\n",
      "        -nan         -nan         -nan         -nan         -nan         -nan         -nan         -nan         -nan         -nan         -nan         -nan         -nan         -nan         -nan         -nan         -nan         -nan         -nan         -nan         -nan         -nan         -nan          nan          nan          nan          nan          nan          nan          nan          nan          nan          nan          nan          nan\r\n",
      "        -nan         -nan         -nan         -nan         -nan         -nan         -nan         -nan         -nan         -nan         -nan         -nan         -nan         -nan         -nan         -nan         -nan         -nan         -nan         -nan         -nan         -nan         -nan          nan          nan          nan          nan          nan          nan          nan          nan          nan          nan          nan          nan\r\n",
      "        -nan         -nan         -nan         -nan         -nan         -nan         -nan         -nan         -nan         -nan         -nan         -nan         -nan         -nan         -nan         -nan         -nan         -nan         -nan         -nan         -nan         -nan         -nan         -nan         -nan         -nan         -nan         -nan         -nan         -nan         -nan         -nan         -nan         -nan         -nan\r\n",
      "        -nan         -nan         -nan         -nan         -nan         -nan         -nan         -nan         -nan         -nan         -nan         -nan         -nan         -nan         -nan         -nan         -nan         -nan         -nan         -nan         -nan         -nan         -nan         -nan         -nan         -nan         -nan         -nan         -nan         -nan         -nan         -nan         -nan         -nan         -nan\r\n",
      "        -nan         -nan         -nan         -nan         -nan         -nan         -nan         -nan         -nan         -nan         -nan         -nan         -nan         -nan         -nan         -nan         -nan         -nan         -nan         -nan         -nan         -nan         -nan          nan          nan          nan          nan          nan          nan          nan          nan          nan          nan          nan          nan\r\n",
      "        -nan         -nan         -nan         -nan         -nan         -nan         -nan         -nan         -nan         -nan         -nan         -nan         -nan         -nan         -nan         -nan         -nan         -nan         -nan         -nan         -nan         -nan         -nan          nan          nan          nan          nan          nan          nan          nan          nan          nan          nan          nan          nan\r\n",
      "        -nan         -nan         -nan         -nan         -nan         -nan         -nan         -nan         -nan         -nan         -nan         -nan         -nan         -nan         -nan         -nan         -nan         -nan         -nan         -nan         -nan         -nan         -nan         -nan          nan          nan          nan         -nan          nan          nan          nan         -nan          nan          nan          nan\r\n",
      "        -nan         -nan         -nan         -nan         -nan         -nan         -nan         -nan         -nan         -nan         -nan         -nan         -nan         -nan         -nan         -nan         -nan         -nan         -nan         -nan         -nan         -nan         -nan         -nan          nan          nan          nan         -nan          nan          nan          nan         -nan          nan          nan          nan\r\n",
      "        -nan         -nan         -nan         -nan         -nan         -nan         -nan         -nan         -nan         -nan         -nan         -nan         -nan         -nan         -nan         -nan         -nan         -nan         -nan         -nan         -nan         -nan         -nan         -nan         -nan         -nan         -nan         -nan         -nan         -nan         -nan         -nan         -nan         -nan         -nan\r\n",
      "B\r\n",
      "    0.093811 -1.35729e-11  9.62676e-11  3.20968e-10  1.42484e-11   -0.0328898  4.68051e-10 -4.11086e-10  2.38446e-10    0.0155318  0.000887881  6.34973e-11   -0.0128871    0.0465788 -2.32195e-11    0.0481429 -2.59233e-10  1.01544e-10  3.59465e-10  8.39675e-11  0.000110912   -0.0251078  4.90608e-10         -nan         -nan         -nan         -nan         -nan         -nan         -nan         -nan         -nan         -nan         -nan         -nan\r\n",
      "-1.35728e-11     0.093811  2.01019e-10  1.44055e-10   -0.0328898  1.42484e-11 -9.67839e-10  1.19254e-09 -5.07354e-10  0.000887881   -0.0155318 -2.54853e-10   -0.0465788   -0.0128871    0.0481429 -2.32196e-11  1.64717e-10  1.10781e-10 -4.29885e-10 -5.87574e-10   -0.0251078 -0.000110912  5.38425e-10         -nan         -nan         -nan         -nan         -nan         -nan         -nan         -nan         -nan         -nan         -nan         -nan\r\n",
      " 9.62676e-11  2.01019e-10     0.105868  -0.00531385 -1.87535e-11 -2.58882e-11  -0.00665324   0.00665324  -0.00360131  1.36154e-10 -8.74655e-11  -0.00163592 -2.39271e-11 -2.29495e-10  1.51009e-10 -1.30191e-11   -0.0640584    0.0017135  -0.00244949   -0.0196987  -7.9634e-11  1.94429e-10   -0.0418871         -nan         -nan         -nan         -nan         -nan         -nan         -nan         -nan         -nan         -nan         -nan         -nan\r\n",
      " 3.20968e-10  1.44055e-10  -0.00531385     0.105868 -2.23137e-11 -3.15402e-10  -0.00665324   0.00665324  -0.00360131  1.60338e-10 -1.30045e-10  -0.00163592  2.92831e-12 -1.92632e-10   9.2223e-12  5.05946e-10   -0.0017135    0.0640584   -0.0196987  -0.00244949 -5.04836e-12 -4.79958e-11   -0.0418871         -nan         -nan         -nan         -nan         -nan         -nan         -nan         -nan         -nan         -nan         -nan         -nan\r\n",
      " 1.42484e-11   -0.0328898 -1.87535e-11 -2.23137e-11     0.240891 -6.60659e-13 -9.44017e-10  6.54504e-10  -5.4939e-10 -0.000825722    0.0144445 -1.60934e-10  -0.00881236  -0.00243814    0.0441772  9.17218e-11  4.10017e-11 -4.25017e-10 -2.15154e-10 -1.15729e-11  -0.00438142 -1.93547e-05 -5.21071e-10         -nan         -nan         -nan         -nan         -nan         -nan         -nan         -nan         -nan         -nan         -nan         -nan\r\n",
      "  -0.0328898  1.42484e-11 -2.58882e-11 -3.15402e-10 -6.60716e-13     0.240891 -4.38454e-11  4.74056e-11 -4.47921e-11   -0.0144445 -0.000825722  1.05702e-11  -0.00243814   0.00881236  9.17218e-11    0.0441772  2.22996e-10 -1.94148e-11 -1.02603e-10  2.81413e-10  1.93547e-05  -0.00438142  -4.8851e-10         -nan         -nan         -nan         -nan         -nan         -nan         -nan         -nan         -nan         -nan         -nan         -nan\r\n",
      " 4.68051e-10 -9.67839e-10  -0.00665324  -0.00665324 -9.44017e-10 -4.38454e-11     0.221874    -0.110692    0.0629982  1.78771e-11  5.48464e-10    0.0286173  9.99717e-10  2.90166e-09   7.9443e-10  2.58632e-10   -0.0100723  -0.00717684   -0.0330796    0.0292653  1.48734e-09 -5.30115e-10  -0.00289054         -nan         -nan         -nan         -nan         -nan         -nan         -nan         -nan         -nan         -nan         -nan         -nan\r\n",
      "-4.11086e-10  1.19254e-09   0.00665324   0.00665324  6.54504e-10  4.74056e-11    -0.110692     0.221874   -0.0629982 -6.04568e-11 -5.72648e-10   -0.0286173 -1.03658e-09  -2.8748e-09 -2.75465e-10 -1.16845e-10  -0.00717684   -0.0100723   -0.0292653    0.0330796 -1.72939e-09  4.54357e-10   0.00289054         -nan         -nan         -nan         -nan         -nan         -nan         -nan         -nan         -nan         -nan         -nan         -nan\r\n",
      " 2.38446e-10 -5.07354e-10  -0.00360131  -0.00360131  -5.4939e-10 -4.47921e-11    0.0629982   -0.0629982     0.429278  2.30983e-10  6.84386e-10   -0.0121538  4.21619e-10  8.97719e-10   4.7042e-10  1.29994e-10  6.20035e-06 -6.20037e-06 -1.82792e-05 -1.82792e-05  1.01358e-09 -6.37642e-10  5.43772e-05         -nan         -nan         -nan         -nan         -nan         -nan         -nan         -nan         -nan         -nan         -nan         -nan\r\n",
      "   0.0155318  0.000887881  1.36154e-10  1.60338e-10 -0.000825722   -0.0144445  1.78771e-11 -6.04568e-11  2.30983e-10     0.463967 -2.13361e-12 -1.17866e-10 -0.000207767  0.000612515   0.00059215    0.0103586 -6.63624e-10  5.12564e-12 -1.34042e-10 -1.50674e-09 -0.000933941   -0.0177102  1.63369e-09         -nan         -nan         -nan         -nan         -nan         -nan         -nan         -nan         -nan         -nan         -nan         -nan\r\n",
      " 0.000887881   -0.0155318 -8.74655e-11 -1.30045e-10    0.0144445 -0.000825722  5.48464e-10 -5.72648e-10  6.84386e-10 -2.13346e-12     0.463967 -1.23375e-10  0.000612515  0.000207767   -0.0103586   0.00059215   2.6633e-11 -1.39933e-09 -6.97481e-10 -3.89827e-11    0.0177102 -0.000933941 -1.78276e-09         -nan         -nan         -nan         -nan         -nan         -nan         -nan         -nan         -nan         -nan         -nan         -nan\r\n",
      " 6.34973e-11 -2.54853e-10  -0.00163592  -0.00163592 -1.60934e-10  1.05702e-11    0.0286173   -0.0286173   -0.0121538 -1.17866e-10 -1.23375e-10     0.636067  -4.9504e-11  4.09102e-10 -1.95684e-10  8.27707e-11  -0.00672283   0.00672283    0.0198195    0.0198195   9.9247e-11 -2.29501e-12  4.32653e-05         -nan         -nan         -nan         -nan         -nan         -nan         -nan         -nan         -nan         -nan         -nan         -nan\r\n",
      "  -0.0128871   -0.0465788 -2.39271e-11  2.92831e-12  -0.00881236  -0.00243814  9.99717e-10 -1.03658e-09  4.21619e-10 -0.000207767  0.000612515  -4.9504e-11     0.917068 -7.51577e-11    0.0214843   0.00594413 -2.20545e-10   4.5325e-10   1.2271e-09  7.74943e-10   -0.0223768  -0.00629761  1.02094e-10         -nan         -nan         -nan         -nan         -nan         -nan         -nan         -nan         -nan         -nan         -nan         -nan\r\n",
      "   0.0465788   -0.0128871 -2.29495e-10 -1.92632e-10  -0.00243814   0.00881236  2.90166e-09  -2.8748e-09  8.97719e-10  0.000612515  0.000207767  4.09102e-10 -7.51575e-11     0.917068   0.00594413   -0.0214843 -7.40767e-10  1.19293e-09  2.67331e-09  2.90601e-09  -0.00629761    0.0223768  6.26618e-11         -nan         -nan         -nan         -nan         -nan         -nan         -nan         -nan         -nan         -nan         -nan         -nan\r\n",
      "-2.32195e-11    0.0481429  1.51009e-10   9.2223e-12    0.0441772  9.17218e-11   7.9443e-10 -2.75465e-10   4.7042e-10   0.00059215   -0.0103586 -1.95684e-10    0.0214843   0.00594413     0.981535  7.19399e-11  5.42377e-11 -1.86566e-10  5.45206e-11 -1.35589e-10   0.00424838   1.8767e-05 -2.61235e-10         -nan         -nan         -nan         -nan         -nan         -nan         -nan         -nan         -nan         -nan         -nan         -nan\r\n",
      "   0.0481429 -2.32196e-11 -1.30191e-11  5.05946e-10  9.17218e-11    0.0441772  2.58632e-10 -1.16845e-10  1.29994e-10    0.0103586   0.00059215  8.27707e-11   0.00594413   -0.0214843  7.19397e-11     0.981535 -2.94179e-11 -1.60692e-10  1.09478e-10  2.41806e-10  -1.8767e-05   0.00424838  1.75188e-10         -nan         -nan         -nan         -nan         -nan         -nan         -nan         -nan         -nan         -nan         -nan         -nan\r\n",
      "-2.59233e-10  1.64717e-10   -0.0640584   -0.0017135  4.10017e-11  2.22996e-10   -0.0100723  -0.00717684  6.20035e-06 -6.63624e-10   2.6633e-11  -0.00672283 -2.20545e-10 -7.40767e-10  5.42377e-11 -2.94179e-11      1.06906    -0.012791   -0.0247249   -0.0247249 -3.94509e-10  2.10715e-10     0.015053         -nan         -nan         -nan         -nan         -nan         -nan         -nan         -nan         -nan         -nan         -nan         -nan\r\n",
      " 1.01544e-10  1.10781e-10    0.0017135    0.0640584 -4.25017e-10 -1.94148e-11  -0.00717684   -0.0100723 -6.20037e-06  5.12564e-12 -1.39933e-09   0.00672283   4.5325e-10  1.19293e-09 -1.86566e-10 -1.60692e-10    -0.012791      1.06906    0.0247249    0.0247249  2.19046e-10   1.2039e-12    -0.015053         -nan         -nan         -nan         -nan         -nan         -nan         -nan         -nan         -nan         -nan         -nan         -nan\r\n",
      " 3.59465e-10 -4.29885e-10  -0.00244949   -0.0196987 -2.15154e-10 -1.02603e-10   -0.0330796   -0.0292653 -1.82792e-05 -1.34042e-10 -6.97481e-10    0.0198195   1.2271e-09  2.67331e-09  5.45206e-11  1.09478e-10   -0.0247249    0.0247249      1.13356    0.0772953  8.79548e-10  -5.9971e-10    0.0054456         -nan         -nan         -nan         -nan         -nan         -nan         -nan         -nan         -nan         -nan         -nan         -nan\r\n",
      " 8.39675e-11 -5.87574e-10   -0.0196987  -0.00244949 -1.15729e-11  2.81413e-10    0.0292653    0.0330796 -1.82792e-05 -1.50674e-09 -3.89827e-11    0.0198195  7.74943e-10  2.90601e-09 -1.35589e-10  2.41806e-10   -0.0247249    0.0247249    0.0772953      1.13356  1.09069e-09 -4.24424e-10    0.0054456         -nan         -nan         -nan         -nan         -nan         -nan         -nan         -nan         -nan         -nan         -nan         -nan\r\n",
      "  0.00025337   -0.0573567  -4.7178e-10 -4.19828e-10  -0.00347861  1.53666e-05  7.51816e-09 -7.82181e-09  1.20428e-09 -0.000537436    0.0101913  2.34334e-10    -0.017944  -0.00505006    0.0191591 -8.46345e-05 -9.06519e-11  7.12144e-11 -1.66059e-10  5.14017e-12     0.600541  2.21509e-10 -3.19165e-09         -nan         -nan         -nan         -nan         -nan         -nan         -nan         -nan         -nan         -nan         -nan         -nan\r\n",
      "  -0.0573567  -0.00025337   3.4433e-10   4.1519e-11 -1.53666e-05  -0.00347861 -4.34445e-09  4.29108e-09 -7.17122e-10   -0.0101913 -0.000537436 -1.52038e-10  -0.00505006     0.017944  8.46345e-05    0.0191591 -1.00927e-10  2.71831e-10  3.21984e-11  5.08241e-11  2.21508e-10     0.600541 -5.04421e-09         -nan         -nan         -nan         -nan         -nan         -nan         -nan         -nan         -nan         -nan         -nan         -nan\r\n",
      " 1.98296e-10  3.36864e-10   -0.0423679   -0.0423679 -5.91084e-10 -4.73076e-10  -0.00285937   0.00285937 -0.000438734  1.50213e-09 -1.61579e-09 -0.000214578  5.05851e-11  4.23478e-11 -3.64381e-10  1.53182e-10    0.0160924   -0.0160924    0.0053351    0.0053351  -3.6482e-09 -5.04865e-09       1.9848         -nan         -nan         -nan         -nan         -nan         -nan         -nan         -nan         -nan         -nan         -nan         -nan\r\n",
      "        -nan         -nan         -nan         -nan         -nan         -nan         -nan         -nan         -nan         -nan         -nan         -nan         -nan         -nan         -nan         -nan         -nan         -nan         -nan         -nan         -nan         -nan         -nan         -nan         -nan         -nan         -nan         -nan         -nan         -nan         -nan         -nan         -nan         -nan         -nan\r\n",
      "        -nan         -nan         -nan         -nan         -nan         -nan         -nan         -nan         -nan         -nan         -nan         -nan         -nan         -nan         -nan         -nan         -nan         -nan         -nan         -nan         -nan         -nan         -nan         -nan         -nan         -nan         -nan         -nan         -nan         -nan         -nan         -nan         -nan         -nan         -nan\r\n",
      "        -nan         -nan         -nan         -nan         -nan         -nan         -nan         -nan         -nan         -nan         -nan         -nan         -nan         -nan         -nan         -nan         -nan         -nan         -nan         -nan         -nan         -nan         -nan         -nan         -nan         -nan         -nan         -nan         -nan         -nan         -nan         -nan         -nan         -nan         -nan\r\n",
      "        -nan         -nan         -nan         -nan         -nan         -nan         -nan         -nan         -nan         -nan         -nan         -nan         -nan         -nan         -nan         -nan         -nan         -nan         -nan         -nan         -nan         -nan         -nan         -nan         -nan         -nan         -nan         -nan         -nan         -nan         -nan         -nan         -nan         -nan         -nan\r\n",
      "        -nan         -nan         -nan         -nan         -nan         -nan         -nan         -nan         -nan         -nan         -nan         -nan         -nan         -nan         -nan         -nan         -nan         -nan         -nan         -nan         -nan         -nan         -nan         -nan         -nan         -nan         -nan         -nan         -nan         -nan         -nan         -nan         -nan         -nan         -nan\r\n",
      "        -nan         -nan         -nan         -nan         -nan         -nan         -nan         -nan         -nan         -nan         -nan         -nan         -nan         -nan         -nan         -nan         -nan         -nan         -nan         -nan         -nan         -nan         -nan         -nan         -nan         -nan         -nan         -nan         -nan         -nan         -nan         -nan         -nan         -nan         -nan\r\n",
      "        -nan         -nan         -nan         -nan         -nan         -nan         -nan         -nan         -nan         -nan         -nan         -nan         -nan         -nan         -nan         -nan         -nan         -nan         -nan         -nan         -nan         -nan         -nan         -nan         -nan         -nan         -nan         -nan         -nan         -nan         -nan         -nan         -nan         -nan         -nan\r\n",
      "        -nan         -nan         -nan         -nan         -nan         -nan         -nan         -nan         -nan         -nan         -nan         -nan         -nan         -nan         -nan         -nan         -nan         -nan         -nan         -nan         -nan         -nan         -nan         -nan         -nan         -nan         -nan         -nan         -nan         -nan         -nan         -nan         -nan         -nan         -nan\r\n",
      "        -nan         -nan         -nan         -nan         -nan         -nan         -nan         -nan         -nan         -nan         -nan         -nan         -nan         -nan         -nan         -nan         -nan         -nan         -nan         -nan         -nan         -nan         -nan         -nan         -nan         -nan         -nan         -nan         -nan         -nan         -nan         -nan         -nan         -nan         -nan\r\n",
      "        -nan         -nan         -nan         -nan         -nan         -nan         -nan         -nan         -nan         -nan         -nan         -nan         -nan         -nan         -nan         -nan         -nan         -nan         -nan         -nan         -nan         -nan         -nan         -nan         -nan         -nan         -nan         -nan         -nan         -nan         -nan         -nan         -nan         -nan         -nan\r\n",
      "        -nan         -nan         -nan         -nan         -nan         -nan         -nan         -nan         -nan         -nan         -nan         -nan         -nan         -nan         -nan         -nan         -nan         -nan         -nan         -nan         -nan         -nan         -nan         -nan         -nan         -nan         -nan         -nan         -nan         -nan         -nan         -nan         -nan         -nan         -nan\r\n",
      "        -nan         -nan         -nan         -nan         -nan         -nan         -nan         -nan         -nan         -nan         -nan         -nan         -nan         -nan         -nan         -nan         -nan         -nan         -nan         -nan         -nan         -nan         -nan          nan          nan          nan          nan          nan          nan          nan          nan          nan          nan          nan          nan\r\n",
      "an error occurred:\r\n",
      "Small generalized eigenvalue problem failed.\r\n"
     ]
    }
   ],
   "source": [
    "!xtp_tools -c job_name=CO geometry_optimization.maxiter=1 dftpackage.basisset=3-21G dftpackage.auxbasisset=aux-def2-svp gwbse.gw.mode=G0W0 -e dftgwbse -t 4"
   ]
  },
  {
   "cell_type": "markdown",
   "metadata": {},
   "source": [
    "Notice that we are using 4 threads. The results will be stored in a file named `CO_summary.xml` in the current work directory, together with the optimization step in `optimisation.trj` and the orbitals in [hdf5 format](https://www.hdfgroup.org/solutions/hdf5/) saved on `CO.orb`."
   ]
  }
 ],
 "metadata": {
  "kernelspec": {
   "display_name": "Python 3",
   "language": "python",
   "name": "python3"
  },
  "language_info": {
   "codemirror_mode": {
    "name": "ipython",
    "version": 3
   },
   "file_extension": ".py",
   "mimetype": "text/x-python",
   "name": "python",
   "nbconvert_exporter": "python",
   "pygments_lexer": "ipython3",
   "version": "3.9.6"
  }
 },
 "nbformat": 4,
 "nbformat_minor": 4
}
