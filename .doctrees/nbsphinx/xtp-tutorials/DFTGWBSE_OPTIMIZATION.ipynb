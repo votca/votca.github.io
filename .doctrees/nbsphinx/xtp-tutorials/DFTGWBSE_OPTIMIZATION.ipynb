{
 "cells": [
  {
   "cell_type": "markdown",
   "metadata": {},
   "source": [
    "## DFT + GWBSE Optimization Using CO"
   ]
  },
  {
   "cell_type": "markdown",
   "metadata": {},
   "source": [
    "## Introduction\n",
    "This tutorial explains how to perform a molecular geometric optimization using the **GWBSE** method. See [the GW Compendium: A Practical Guide to Theoretical Photoemission Spectroscopy](https://doi.org/10.3389/fchem.2019.00377), for an excellent introduction to the method."
   ]
  },
  {
   "cell_type": "markdown",
   "metadata": {},
   "source": [
    "## Requirements\n",
    "* You will need to install **VOTCA** using the instructions described [here](https://github.com/votca/votca/blob/master/share/doc/INSTALL.rst)\n",
    "* Once the installation is completed you need to activate the VOTCA enviroment by running the `VOTCARC.bash` script that has been installed at the bin subfolder for the path that you have provided for the installation step above"
   ]
  },
  {
   "cell_type": "markdown",
   "metadata": {},
   "source": [
    "## Preparing the input\n",
    "To run a DFT-GWBSE calculation we will use the [xtp_tools](https://www.votca.org/xtp/xtp_tools_overview.html) calculator."
   ]
  },
  {
   "cell_type": "markdown",
   "metadata": {},
   "source": [
    "we can now change the calculator mode from single point energy calculation to optimization as follows by adding \n",
    "`-c geometry_optimization.maxiter=1` which enables optimization with one iteration. "
   ]
  },
  {
   "cell_type": "markdown",
   "metadata": {},
   "source": [
    "Because geometry optimsation is quite expensive numerically we chose a smaller basisset and G0W0 Finally, to run the calculation we just need the following command (This still takes a while)"
   ]
  },
  {
   "cell_type": "code",
   "execution_count": 1,
   "metadata": {
    "execution": {
     "iopub.execute_input": "2023-03-31T05:19:41.094003Z",
     "iopub.status.busy": "2023-03-31T05:19:41.093616Z",
     "iopub.status.idle": "2023-03-31T05:20:06.755442Z",
     "shell.execute_reply": "2023-03-31T05:20:06.754776Z"
    }
   },
   "outputs": [
    {
     "name": "stdout",
     "output_type": "stream",
     "text": [
      "==================================================\r\n",
      "========   VOTCA (http://www.votca.org)   ========\r\n",
      "==================================================\r\n",
      "\r\n",
      "please submit bugs to https://github.com/votca/votca/issues\r\n",
      "\r\n",
      "xtp_tools, version 2024-dev gitid: f763d12 (compiled Mar 31 2023, 05:16:44)\r\n",
      "\r\n",
      "Initializing tool\r\n",
      "... dftgwbse Evaluating tool\r\n",
      "... dftgwbse  Using 4 threads\r\n",
      "... ... Reading structure from CO.xyz\r\n",
      "... ... Requested geometry optimization of excited state s1\r\n",
      "... ... Initial state: s1\r\n",
      "... ... WARNING: No tracker is used \r\n",
      "... ... Convergence of total energy: 0.000001 Hartree \r\n",
      "... ... Convergence of RMS Force:    0.000030 Hartree/Bohr \r\n",
      "... ... Convergence of Max Force:    0.000100 Hartree/Bohr \r\n",
      "... ... Convergence of RMS Step:     0.000600 Bohr \r\n",
      "... ... Convergence of Max Step:     0.001000 Bohr \r\n",
      "... ... Initial trust radius:        0.018897 BohrA\r\n",
      "    0.306708  2.93515e-15  1.22458e-10  3.90429e-10 -7.20945e-17   -0.0516336  1.50192e-15  5.65638e-16 -8.37333e-16  9.26851e-08   -0.0181563 -4.37778e-16 -6.99444e-06    0.0389795   -2.173e-16    0.0421241 -1.94746e-11 -2.61568e-11    4.375e-15 -3.39407e-15 -5.70049e-07     0.108303  -1.6043e-10          nan          nan          nan          nan          nan          nan          nan          nan          nan          nan          nan          nan\r\n",
      " 2.91803e-15     0.306708 -7.99126e-15  -1.0051e-14   -0.0516336  -1.5439e-16 -1.74359e-09  2.01157e-09  5.34415e-10    0.0181563  9.26851e-08  3.16684e-10    0.0389795  6.99444e-06    0.0421241 -1.90605e-16  6.17758e-14  6.07893e-14   3.2947e-10 -3.36152e-10     0.108303  5.70049e-07 -2.43652e-15          nan          nan          nan          nan          nan          nan          nan          nan          nan          nan          nan          nan\r\n",
      " 1.22458e-10  -7.9913e-15     0.319156   -0.0100481 -9.75047e-15    4.198e-11  1.17702e-06 -1.17702e-06 -4.39878e-07 -3.17569e-15 -4.28648e-11 -1.88244e-07  7.24634e-15 -2.56197e-11  4.03901e-15 -1.63904e-11    0.0495092   0.00204416 -5.55575e-07  9.07266e-06 -3.32679e-14  1.58331e-11   -0.0252874          nan          nan          nan          nan          nan          nan          nan          nan          nan          nan          nan          nan\r\n",
      " 3.90429e-10  -1.0051e-14   -0.0100481     0.319156 -6.65597e-15 -3.67899e-10  1.17702e-06 -1.17702e-06 -4.39878e-07 -3.55168e-15 -1.10116e-10 -1.88244e-07  8.69441e-15 -3.30932e-11  2.38398e-15  3.13125e-10   0.00204416    0.0495092 -9.07266e-06  5.55575e-07 -3.94788e-14  5.25146e-10   -0.0252874          nan          nan          nan          nan          nan          nan          nan          nan          nan          nan          nan          nan\r\n",
      "-7.42497e-17   -0.0516336 -9.75045e-15 -6.65598e-15     0.490609  2.15954e-15 -1.69885e-09  1.28897e-09  7.55661e-10   -0.0134761 -6.87931e-08  2.05863e-10    0.0080157  1.43833e-06    0.0309388 -1.88882e-15  3.41227e-14  3.46896e-14  1.87759e-10 -1.83891e-10    -0.053272 -2.80396e-07  -1.1807e-15          nan          nan          nan          nan          nan          nan          nan          nan          nan          nan          nan          nan\r\n",
      "  -0.0516336 -1.56183e-16    4.198e-11 -3.67899e-10  2.17312e-15     0.490609 -1.31495e-15 -1.69872e-15   2.5363e-16 -6.87931e-08    0.0134761    9.474e-17 -1.43833e-06    0.0080157 -1.87164e-15    0.0309388  1.41584e-11  1.80255e-11 -3.09356e-15  2.52022e-15  2.80396e-07    -0.053272  9.98375e-11          nan          nan          nan          nan          nan          nan          nan          nan          nan          nan          nan          nan\r\n",
      " 1.50195e-15 -1.74359e-09  1.17702e-06  1.17702e-06 -1.69885e-09 -1.31494e-15     0.549726    -0.220522   -0.0861688 -7.16778e-10 -3.89203e-15   -0.0368756  5.42594e-10   9.6657e-14  7.89529e-10  3.70393e-17 -6.45747e-06  2.05961e-06    0.0125301     0.034935 -6.78358e-09 -2.31208e-14  3.40872e-07          nan          nan          nan          nan          nan          nan          nan          nan          nan          nan          nan          nan\r\n",
      " 5.65607e-16  2.01157e-09 -1.17702e-06 -1.17702e-06  1.28897e-09 -1.69874e-15    -0.220522     0.549726    0.0861688  7.84029e-10  3.53986e-15    0.0368756 -5.50067e-10 -9.81113e-14 -4.60014e-10  1.65032e-15 -2.05961e-06  6.45747e-06     0.034935    0.0125301  7.28253e-09  2.92151e-14 -3.40872e-07          nan          nan          nan          nan          nan          nan          nan          nan          nan          nan          nan          nan\r\n",
      "-8.37422e-16  5.34415e-10 -4.39878e-07 -4.39878e-07  7.55661e-10   2.5363e-16   -0.0861688    0.0861688     0.662739  4.24852e-10  2.80189e-15  -0.00625217 -6.14589e-11 -1.08168e-14 -4.50125e-10  1.94498e-16  7.64227e-07  7.64227e-07   0.00414117  -0.00414117  1.82084e-09  5.60607e-15 -8.33471e-08          nan          nan          nan          nan          nan          nan          nan          nan          nan          nan          nan          nan\r\n",
      " 9.26851e-08    0.0181563 -3.17568e-15 -3.55179e-15   -0.0134761 -6.87931e-08 -7.16778e-10  7.84029e-10  4.24852e-10     0.680027 -8.27948e-16  3.11525e-11   7.6988e-05  1.42076e-08   0.00866729  4.42451e-08  1.64372e-14  1.73083e-14   9.3766e-11 -8.87453e-11    0.0410255  4.25365e-07 -1.72531e-15          nan          nan          nan          nan          nan          nan          nan          nan          nan          nan          nan          nan\r\n",
      "  -0.0181563  9.26851e-08 -4.28648e-11 -1.10116e-10 -6.87931e-08    0.0134761 -3.89201e-15  3.53979e-15  2.80186e-15 -7.76181e-16     0.680027 -1.33216e-16  1.42076e-08  -7.6988e-05  4.42451e-08  -0.00866729 -1.45174e-11 -1.95381e-11  3.91942e-15 -3.05955e-15  4.25365e-07   -0.0410255  1.18009e-10          nan          nan          nan          nan          nan          nan          nan          nan          nan          nan          nan          nan\r\n",
      "-4.37778e-16  3.16684e-10 -1.88244e-07 -1.88244e-07  2.05863e-10  9.46521e-17   -0.0368756    0.0368756  -0.00625217  3.11525e-11 -1.33192e-16     0.797893 -2.21528e-10 -3.94771e-14  6.39471e-11 -1.18677e-16  2.68241e-06  2.68241e-06    0.0145354   -0.0145354   9.5715e-10  2.97423e-15 -3.47255e-08          nan          nan          nan          nan          nan          nan          nan          nan          nan          nan          nan          nan\r\n",
      "-6.99444e-06    0.0389795  7.24634e-15  8.69441e-15    0.0080157 -1.43833e-06  5.42594e-10 -5.50067e-10 -6.14589e-11   7.6988e-05  1.42076e-08 -2.21528e-10     0.956279 -2.69035e-14   -0.0131238  2.35493e-06 -5.48228e-14  -5.5553e-14 -2.31213e-10  3.46022e-10   -0.0200194  3.48688e-06 -8.96695e-15          nan          nan          nan          nan          nan          nan          nan          nan          nan          nan          nan          nan\r\n",
      "   0.0389795  6.99444e-06 -2.56197e-11 -3.30932e-11  1.43833e-06    0.0080157   9.6657e-14 -9.81113e-14 -1.08168e-14  1.42076e-08  -7.6988e-05 -3.94771e-14 -2.68665e-14     0.956279 -2.35493e-06   -0.0131238 -4.62595e-11  6.85496e-11 -5.27604e-14  5.35051e-14 -3.48688e-06   -0.0200194  4.89096e-11          nan          nan          nan          nan          nan          nan          nan          nan          nan          nan          nan          nan\r\n",
      "-2.21337e-16    0.0421241  4.03886e-15  2.38399e-15    0.0309388 -1.87051e-15  7.89529e-10 -4.60014e-10 -4.50125e-10   0.00866729  4.42451e-08  6.39471e-11   -0.0131238 -2.35493e-06     0.987501  1.55467e-15  7.09551e-15 -2.38497e-14  -1.3445e-10 -4.39277e-11    0.0224113  1.17961e-07  1.54424e-15          nan          nan          nan          nan          nan          nan          nan          nan          nan          nan          nan          nan\r\n",
      "   0.0421241 -1.99036e-16 -1.63904e-11  3.13125e-10 -1.86521e-15    0.0309388  3.70495e-17  1.65023e-15  1.94497e-16  4.42451e-08  -0.00866729 -1.18678e-16  2.35493e-06   -0.0131238  1.55602e-15     0.987501  6.74219e-11 -1.10956e-10  1.95329e-14   1.1423e-14 -1.17961e-07    0.0224113  1.30106e-10          nan          nan          nan          nan          nan          nan          nan          nan          nan          nan          nan          nan\r\n",
      "-1.94746e-11  6.17758e-14    0.0495092   0.00204416  3.41227e-14  1.41584e-11 -6.45747e-06 -2.05961e-06  7.64227e-07  1.64372e-14 -1.45174e-11  2.68241e-06 -5.48229e-14 -4.62595e-11  7.09551e-15  6.74219e-11      1.02819    0.0020693  8.01628e-06 -8.01628e-06  2.29595e-13   1.8013e-12  -0.00469072          nan          nan          nan          nan          nan          nan          nan          nan          nan          nan          nan          nan\r\n",
      "-2.61568e-11  6.07893e-14   0.00204416    0.0495092  3.46896e-14  1.80255e-11  2.05961e-06  6.45747e-06  7.64227e-07  1.73083e-14 -1.95381e-11  2.68241e-06  -5.5553e-14  6.85496e-11 -2.38497e-14 -1.10956e-10    0.0020693      1.02819  8.01628e-06 -8.01628e-06  2.14716e-13   -8.997e-11  -0.00469072          nan          nan          nan          nan          nan          nan          nan          nan          nan          nan          nan          nan\r\n",
      "   4.375e-15   3.2947e-10 -5.55575e-07 -9.07266e-06  1.87759e-10 -3.09356e-15    0.0125301     0.034935   0.00414117   9.3766e-11  3.91942e-15    0.0145354 -2.31213e-10 -5.27604e-14  -1.3445e-10  1.95329e-14  8.01628e-06  8.01628e-06      1.07163   -0.0455077  1.15778e-09  1.97057e-14  9.98829e-07          nan          nan          nan          nan          nan          nan          nan          nan          nan          nan          nan          nan\r\n",
      "-3.39407e-15 -3.36152e-10  9.07266e-06  5.55575e-07 -1.83891e-10  2.52022e-15     0.034935    0.0125301  -0.00414117 -8.87453e-11 -3.05952e-15   -0.0145354  3.46022e-10  5.35051e-14 -4.39277e-11   1.1423e-14 -8.01628e-06 -8.01628e-06   -0.0455077      1.07163  -1.2482e-09 -4.53425e-15 -9.98829e-07          nan          nan          nan          nan          nan          nan          nan          nan          nan          nan          nan          nan\r\n",
      " 3.96036e-07   -0.0752424  1.80684e-14  2.23405e-14    0.0690969 -3.63689e-07  3.52652e-09  -3.8526e-09 -1.17254e-09   -0.0309264 -3.20655e-07 -8.30841e-10   0.00901647  1.57045e-06   -0.0363998  1.91589e-07 -1.31459e-13 -1.31421e-13 -7.12842e-10  7.14106e-10    -0.194835 -1.50272e-14 -5.65739e-14          nan          nan          nan          nan          nan          nan          nan          nan          nan          nan          nan          nan\r\n",
      "  -0.0752424 -3.96036e-07 -1.03398e-10 -4.38777e-10  3.63689e-07    0.0690969  1.34265e-14 -1.75073e-14 -3.87129e-15 -3.20655e-07    0.0309264 -3.05529e-15 -1.57045e-06   0.00901647 -1.91589e-07   -0.0363998 -7.75985e-12 -4.82561e-12 -1.71611e-15  1.36736e-15 -1.49656e-14    -0.194835  2.30345e-09          nan          nan          nan          nan          nan          nan          nan          nan          nan          nan          nan          nan\r\n",
      " 1.58821e-10   -8.739e-15   -0.0143253   -0.0143253  -5.2167e-15 -1.71047e-10  9.60531e-07 -9.60531e-07 -3.25782e-07 -3.84299e-15  4.79009e-11  -1.4145e-07  1.73375e-16  8.18502e-12  2.55656e-15  2.22422e-10  -0.00613235  -0.00613235  1.14116e-06 -1.14116e-06  -9.7628e-14  2.19098e-09     0.954926          nan          nan          nan          nan          nan          nan          nan          nan          nan          nan          nan          nan\r\n",
      "        -nan         -nan         -nan         -nan         -nan         -nan         -nan         -nan         -nan         -nan         -nan         -nan         -nan         -nan         -nan         -nan         -nan         -nan         -nan         -nan         -nan         -nan         -nan          nan          nan          nan          nan          nan          nan          nan          nan          nan          nan          nan          nan\r\n",
      "        -nan         -nan         -nan         -nan         -nan         -nan         -nan         -nan         -nan         -nan         -nan         -nan         -nan         -nan         -nan         -nan         -nan         -nan         -nan         -nan         -nan         -nan         -nan         -nan         -nan         -nan         -nan         -nan         -nan         -nan         -nan         -nan         -nan         -nan         -nan\r\n",
      "        -nan         -nan         -nan         -nan         -nan         -nan         -nan         -nan         -nan         -nan         -nan         -nan         -nan         -nan         -nan         -nan         -nan         -nan         -nan         -nan         -nan         -nan         -nan         -nan         -nan         -nan         -nan         -nan         -nan         -nan         -nan         -nan         -nan         -nan         -nan\r\n",
      "        -nan         -nan         -nan         -nan         -nan         -nan         -nan         -nan         -nan         -nan         -nan         -nan         -nan         -nan         -nan         -nan         -nan         -nan         -nan         -nan         -nan         -nan         -nan          nan          nan          nan          nan          nan          nan          nan          nan          nan          nan          nan          nan\r\n",
      "        -nan         -nan         -nan         -nan         -nan         -nan         -nan         -nan         -nan         -nan         -nan         -nan         -nan         -nan         -nan         -nan         -nan         -nan         -nan         -nan         -nan         -nan         -nan          nan          nan          nan          nan          nan          nan          nan          nan          nan          nan          nan          nan\r\n",
      "        -nan         -nan         -nan         -nan         -nan         -nan         -nan         -nan         -nan         -nan         -nan         -nan         -nan         -nan         -nan         -nan         -nan         -nan         -nan         -nan         -nan         -nan         -nan         -nan         -nan         -nan         -nan         -nan         -nan         -nan         -nan         -nan         -nan         -nan         -nan\r\n",
      "        -nan         -nan         -nan         -nan         -nan         -nan         -nan         -nan         -nan         -nan         -nan         -nan         -nan         -nan         -nan         -nan         -nan         -nan         -nan         -nan         -nan         -nan         -nan         -nan         -nan         -nan         -nan         -nan         -nan         -nan         -nan         -nan         -nan         -nan         -nan\r\n",
      "        -nan         -nan         -nan         -nan         -nan         -nan         -nan         -nan         -nan         -nan         -nan         -nan         -nan         -nan         -nan         -nan         -nan         -nan         -nan         -nan         -nan         -nan         -nan          nan          nan          nan          nan          nan          nan          nan          nan          nan          nan          nan          nan\r\n",
      "        -nan         -nan         -nan         -nan         -nan         -nan         -nan         -nan         -nan         -nan         -nan         -nan         -nan         -nan         -nan         -nan         -nan         -nan         -nan         -nan         -nan         -nan         -nan          nan          nan          nan          nan          nan          nan          nan          nan          nan          nan          nan          nan\r\n",
      "        -nan         -nan         -nan         -nan         -nan         -nan         -nan         -nan         -nan         -nan         -nan         -nan         -nan         -nan         -nan         -nan         -nan         -nan         -nan         -nan         -nan         -nan         -nan         -nan          nan          nan          nan         -nan          nan          nan          nan         -nan          nan          nan          nan\r\n",
      "        -nan         -nan         -nan         -nan         -nan         -nan         -nan         -nan         -nan         -nan         -nan         -nan         -nan         -nan         -nan         -nan         -nan         -nan         -nan         -nan         -nan         -nan         -nan         -nan          nan          nan          nan         -nan          nan          nan          nan         -nan          nan          nan          nan\r\n",
      "        -nan         -nan         -nan         -nan         -nan         -nan         -nan         -nan         -nan         -nan         -nan         -nan         -nan         -nan         -nan         -nan         -nan         -nan         -nan         -nan         -nan         -nan         -nan         -nan         -nan         -nan         -nan         -nan         -nan         -nan         -nan         -nan         -nan         -nan         -nan\r\n",
      "B\r\n",
      "   0.0935659  1.54546e-15  6.09655e-11  2.33642e-10 -1.75728e-16   -0.0328713  5.96816e-16  6.97633e-16 -5.80447e-16  7.91518e-08   -0.0155052 -3.14662e-16 -8.66938e-06    0.0483139 -1.17113e-16    0.0481173  -1.9872e-11 -2.29721e-11  3.86106e-15 -3.52958e-15 -1.31832e-07    0.0250466  5.23672e-11         -nan         -nan         -nan         -nan         -nan         -nan         -nan         -nan         -nan         -nan         -nan         -nan\r\n",
      " 1.53845e-15    0.0935659 -3.02761e-15 -4.31969e-15   -0.0328713  -2.1958e-16 -6.93485e-10  8.66161e-10  3.29987e-10    0.0155052  7.91518e-08  2.18244e-10    0.0483139  8.66938e-06    0.0481173 -9.86516e-17  5.16246e-14  5.12897e-14  2.78098e-10 -2.81198e-10    0.0250466  1.31832e-07 -1.07059e-14         -nan         -nan         -nan         -nan         -nan         -nan         -nan         -nan         -nan         -nan         -nan         -nan\r\n",
      " 6.09655e-11 -3.02763e-15      0.10504  -0.00568231 -6.18551e-15  2.62124e-11  5.94725e-07 -5.94725e-07 -3.22941e-07 -2.24536e-15 -4.11689e-11 -1.47532e-07  7.08559e-15  -2.6251e-11  4.70997e-15 -2.15887e-11    0.0670098   0.00240141 -6.00722e-07   1.2194e-05 -4.55065e-15 -9.09166e-11   -0.0419176         -nan         -nan         -nan         -nan         -nan         -nan         -nan         -nan         -nan         -nan         -nan         -nan\r\n",
      " 2.33642e-10 -4.31967e-15  -0.00568231      0.10504 -3.94474e-15   -2.633e-10  5.94725e-07 -5.94725e-07 -3.22941e-07 -2.62231e-15 -1.08726e-10 -1.47532e-07  8.51086e-15 -3.35763e-11  2.69509e-15  3.84219e-10   0.00240141    0.0670098  -1.2194e-05  6.00722e-07  -6.5101e-15  8.33992e-11   -0.0419176         -nan         -nan         -nan         -nan         -nan         -nan         -nan         -nan         -nan         -nan         -nan         -nan\r\n",
      "-1.75336e-16   -0.0328713  -6.1855e-15 -3.94475e-15     0.240584  2.01867e-15 -1.05286e-09  7.63349e-10  6.49827e-10   -0.0144632 -7.38321e-08  1.73493e-10   0.00916843  1.64517e-06    0.0440553  -2.5475e-15  3.02896e-14  2.80363e-14  1.51136e-10 -1.63432e-10   0.00432456  2.27622e-08 -6.23721e-15         -nan         -nan         -nan         -nan         -nan         -nan         -nan         -nan         -nan         -nan         -nan         -nan\r\n",
      "  -0.0328713 -2.24531e-16  2.62124e-11   -2.633e-10  2.03155e-15     0.240584 -7.54179e-16 -1.42626e-15  1.78114e-16 -7.38321e-08    0.0144632  2.97445e-17 -1.64517e-06   0.00916843 -2.52675e-15    0.0440553  2.41342e-11   1.1838e-11 -2.02874e-15  4.27578e-15 -2.27622e-08   0.00432456 -2.19103e-11         -nan         -nan         -nan         -nan         -nan         -nan         -nan         -nan         -nan         -nan         -nan         -nan\r\n",
      " 5.96859e-16 -6.93485e-10  5.94725e-07  5.94725e-07 -1.05286e-09 -7.54139e-16     0.221542     -0.11082   -0.0632617 -5.30873e-10  -2.8565e-15   -0.0289004  4.89917e-10  8.72431e-14  9.26879e-10  2.48635e-17 -5.70805e-06  5.88521e-06    0.0337442    0.0308642 -1.18894e-09 -2.16537e-15   1.2824e-06         -nan         -nan         -nan         -nan         -nan         -nan         -nan         -nan         -nan         -nan         -nan         -nan\r\n",
      " 6.97588e-16  8.66161e-10 -5.94725e-07 -5.94725e-07  7.63349e-10  -1.4263e-15     -0.11082     0.221542    0.0632617   5.9843e-10  2.49857e-15    0.0289004 -4.97242e-10 -8.86744e-14 -5.21072e-10  2.03701e-15 -5.88521e-06  5.70805e-06    0.0308642    0.0337442  1.36166e-09  4.24492e-15  -1.2824e-06         -nan         -nan         -nan         -nan         -nan         -nan         -nan         -nan         -nan         -nan         -nan         -nan\r\n",
      "-5.80545e-16  3.29987e-10 -3.22941e-07 -3.22941e-07  6.49827e-10  1.78111e-16   -0.0632617    0.0632617     0.428924  4.79328e-10  3.21472e-15    -0.012098 -1.75706e-11 -2.93149e-15 -6.21667e-10  2.62343e-16  5.05654e-09  5.05653e-09  2.74002e-05 -2.74002e-05  4.95217e-10  9.88003e-16 -4.09677e-07         -nan         -nan         -nan         -nan         -nan         -nan         -nan         -nan         -nan         -nan         -nan         -nan\r\n",
      " 7.91518e-08    0.0155052 -2.24535e-15 -2.62242e-15   -0.0144632 -7.38321e-08 -5.30873e-10   5.9843e-10  4.79328e-10     0.462759 -1.11931e-15 -2.95856e-13  0.000635208  1.17224e-07    0.0104064  5.31228e-08  1.56235e-14  1.65399e-14  8.94174e-11 -8.39331e-11    0.0177344  1.83876e-07 -5.22471e-15         -nan         -nan         -nan         -nan         -nan         -nan         -nan         -nan         -nan         -nan         -nan         -nan\r\n",
      "  -0.0155052  7.91518e-08 -4.11689e-11 -1.08726e-10 -7.38321e-08    0.0144632 -2.85646e-15  2.49847e-15  3.21466e-15 -1.04393e-15     0.462759 -4.55738e-16  1.17224e-07 -0.000635208  5.31228e-08   -0.0104064 -3.07981e-11 -3.62823e-11  6.86729e-15 -5.96815e-15  1.83876e-07   -0.0177344  1.14127e-10         -nan         -nan         -nan         -nan         -nan         -nan         -nan         -nan         -nan         -nan         -nan         -nan\r\n",
      "-3.14661e-16  2.18244e-10 -1.47532e-07 -1.47532e-07  1.73493e-10  2.96265e-17   -0.0289004    0.0289004    -0.012098 -2.95856e-13 -4.55702e-16     0.635437    -3.22e-10 -5.74066e-14  1.32652e-10 -1.77278e-16  3.87598e-06  3.87598e-06     0.021003    -0.021003  1.07108e-10 -2.06427e-16 -1.82533e-07         -nan         -nan         -nan         -nan         -nan         -nan         -nan         -nan         -nan         -nan         -nan         -nan\r\n",
      "-8.66938e-06    0.0483139   7.0856e-15  8.51086e-15   0.00916843 -1.64517e-06  4.89917e-10 -4.97242e-10 -1.75706e-11  0.000635208  1.17224e-07    -3.22e-10     0.916802 -4.74389e-14   -0.0222399  3.99071e-06 -9.35767e-14 -9.50427e-14 -3.71312e-10  6.02973e-10   -0.0232165  4.04374e-06 -1.75731e-14         -nan         -nan         -nan         -nan         -nan         -nan         -nan         -nan         -nan         -nan         -nan         -nan\r\n",
      "   0.0483139  8.66938e-06  -2.6251e-11 -3.35763e-11  1.64517e-06   0.00916843  8.72431e-14 -8.86744e-14 -2.93143e-15  1.17224e-07 -0.000635208 -5.74066e-14 -4.73705e-14     0.916802 -3.99071e-06   -0.0222399 -9.04565e-11  1.41205e-10 -9.00781e-14  9.15705e-14 -4.04374e-06   -0.0232165   1.0423e-10         -nan         -nan         -nan         -nan         -nan         -nan         -nan         -nan         -nan         -nan         -nan         -nan\r\n",
      "-1.26586e-16    0.0481173  4.70977e-15  2.69511e-15    0.0440553  -2.5242e-15  9.26879e-10 -5.21072e-10 -6.21667e-10    0.0104064  5.31228e-08  1.32652e-10   -0.0222399 -3.99071e-06      0.97942  3.08874e-15  1.89099e-14 -3.79201e-14 -2.15076e-10  -1.1263e-10  -0.00417248 -2.19617e-08  5.02596e-15         -nan         -nan         -nan         -nan         -nan         -nan         -nan         -nan         -nan         -nan         -nan         -nan\r\n",
      "   0.0481173 -1.10984e-16 -2.15887e-11  3.84219e-10 -2.51011e-15    0.0440553   2.4899e-17  2.03687e-15  2.62337e-16  5.31228e-08   -0.0104064  -1.7728e-16  3.99071e-06   -0.0222399  3.08799e-15      0.97942  1.31024e-10 -1.96682e-10  3.45605e-14   2.2294e-14  2.19617e-08  -0.00417248  4.31217e-10         -nan         -nan         -nan         -nan         -nan         -nan         -nan         -nan         -nan         -nan         -nan         -nan\r\n",
      " -1.9872e-11  5.16246e-14    0.0670098   0.00240141  3.02896e-14  2.41342e-11 -5.70805e-06 -5.88521e-06  5.05654e-09  1.56235e-14 -3.07981e-11  3.87598e-06 -9.35768e-14 -9.04565e-11  1.89099e-14  1.31024e-10       1.0596   0.00440412  1.49724e-05 -1.49724e-05  1.28928e-13 -2.35524e-11   -0.0159918         -nan         -nan         -nan         -nan         -nan         -nan         -nan         -nan         -nan         -nan         -nan         -nan\r\n",
      "-2.29721e-11  5.12897e-14   0.00240141    0.0670098  2.80363e-14   1.1838e-11  5.88521e-06  5.70805e-06  5.05653e-09    1.654e-14 -3.62823e-11  3.87598e-06 -9.50427e-14  1.41205e-10 -3.79201e-14 -1.96682e-10   0.00440412       1.0596  1.49724e-05 -1.49724e-05  1.05679e-13 -1.64384e-10   -0.0159918         -nan         -nan         -nan         -nan         -nan         -nan         -nan         -nan         -nan         -nan         -nan         -nan\r\n",
      " 3.86105e-15  2.78098e-10 -6.00722e-07  -1.2194e-05  1.51136e-10 -2.02874e-15    0.0337442    0.0308642  2.74002e-05  8.94174e-11  6.86729e-15     0.021003 -3.71312e-10 -9.00781e-14 -2.15076e-10  3.45605e-14  1.49724e-05  1.49724e-05      1.14073    -0.085536  5.62042e-10  3.09951e-14  3.19609e-06         -nan         -nan         -nan         -nan         -nan         -nan         -nan         -nan         -nan         -nan         -nan         -nan\r\n",
      "-3.52958e-15 -2.81198e-10   1.2194e-05  6.00722e-07 -1.63432e-10  4.27578e-15    0.0308642    0.0337442 -2.74002e-05 -8.39331e-11 -5.96809e-15    -0.021003  6.02973e-10  9.15704e-14  -1.1263e-10   2.2294e-14 -1.49724e-05 -1.49724e-05    -0.085536      1.14073 -7.02584e-10 -7.63699e-15 -3.19609e-06         -nan         -nan         -nan         -nan         -nan         -nan         -nan         -nan         -nan         -nan         -nan         -nan\r\n",
      " -3.0135e-07    0.0572532 -1.94181e-14 -2.24614e-14   0.00341529 -1.79762e-08  -4.1284e-09  4.38905e-09  6.37935e-10    0.0102623  1.06403e-07  1.16523e-10   -0.0185867 -3.23735e-06   -0.0190696  1.00372e-07  2.65915e-14 -7.01415e-15 -5.04656e-11 -1.50415e-10     0.599386 -2.95913e-14 -8.35399e-14         -nan         -nan         -nan         -nan         -nan         -nan         -nan         -nan         -nan         -nan         -nan         -nan\r\n",
      "   0.0572532   3.0135e-07 -8.19172e-11  1.79426e-10  1.79762e-08   0.00341529 -1.37324e-14  1.67971e-14  1.95849e-15  1.06403e-07   -0.0102623  4.90927e-18  3.23735e-06   -0.0185867 -1.00372e-07   -0.0190696  2.12095e-11 -1.78422e-10    3.086e-14  2.61189e-15  -2.9467e-14     0.599386  2.61312e-09         -nan         -nan         -nan         -nan         -nan         -nan         -nan         -nan         -nan         -nan         -nan         -nan\r\n",
      "-6.18674e-11  -9.4428e-15   -0.0423952   -0.0423952 -5.91304e-15  5.25866e-11  1.18163e-06 -1.18163e-06  -4.3294e-07 -5.36681e-15   8.8791e-11 -1.95215e-07 -1.90801e-14  1.15882e-10  5.48324e-15  4.93167e-10    -0.016942    -0.016942  3.32818e-06 -3.32818e-06 -1.21935e-13  2.39357e-09       1.9863         -nan         -nan         -nan         -nan         -nan         -nan         -nan         -nan         -nan         -nan         -nan         -nan\r\n",
      "        -nan         -nan         -nan         -nan         -nan         -nan         -nan         -nan         -nan         -nan         -nan         -nan         -nan         -nan         -nan         -nan         -nan         -nan         -nan         -nan         -nan         -nan         -nan         -nan         -nan         -nan         -nan         -nan         -nan         -nan         -nan         -nan         -nan         -nan         -nan\r\n",
      "        -nan         -nan         -nan         -nan         -nan         -nan         -nan         -nan         -nan         -nan         -nan         -nan         -nan         -nan         -nan         -nan         -nan         -nan         -nan         -nan         -nan         -nan         -nan         -nan         -nan         -nan         -nan         -nan         -nan         -nan         -nan         -nan         -nan         -nan         -nan\r\n",
      "        -nan         -nan         -nan         -nan         -nan         -nan         -nan         -nan         -nan         -nan         -nan         -nan         -nan         -nan         -nan         -nan         -nan         -nan         -nan         -nan         -nan         -nan         -nan         -nan         -nan         -nan         -nan         -nan         -nan         -nan         -nan         -nan         -nan         -nan         -nan\r\n",
      "        -nan         -nan         -nan         -nan         -nan         -nan         -nan         -nan         -nan         -nan         -nan         -nan         -nan         -nan         -nan         -nan         -nan         -nan         -nan         -nan         -nan         -nan         -nan         -nan         -nan         -nan         -nan         -nan         -nan         -nan         -nan         -nan         -nan         -nan         -nan\r\n",
      "        -nan         -nan         -nan         -nan         -nan         -nan         -nan         -nan         -nan         -nan         -nan         -nan         -nan         -nan         -nan         -nan         -nan         -nan         -nan         -nan         -nan         -nan         -nan         -nan         -nan         -nan         -nan         -nan         -nan         -nan         -nan         -nan         -nan         -nan         -nan\r\n",
      "        -nan         -nan         -nan         -nan         -nan         -nan         -nan         -nan         -nan         -nan         -nan         -nan         -nan         -nan         -nan         -nan         -nan         -nan         -nan         -nan         -nan         -nan         -nan         -nan         -nan         -nan         -nan         -nan         -nan         -nan         -nan         -nan         -nan         -nan         -nan\r\n",
      "        -nan         -nan         -nan         -nan         -nan         -nan         -nan         -nan         -nan         -nan         -nan         -nan         -nan         -nan         -nan         -nan         -nan         -nan         -nan         -nan         -nan         -nan         -nan         -nan         -nan         -nan         -nan         -nan         -nan         -nan         -nan         -nan         -nan         -nan         -nan\r\n",
      "        -nan         -nan         -nan         -nan         -nan         -nan         -nan         -nan         -nan         -nan         -nan         -nan         -nan         -nan         -nan         -nan         -nan         -nan         -nan         -nan         -nan         -nan         -nan         -nan         -nan         -nan         -nan         -nan         -nan         -nan         -nan         -nan         -nan         -nan         -nan\r\n",
      "        -nan         -nan         -nan         -nan         -nan         -nan         -nan         -nan         -nan         -nan         -nan         -nan         -nan         -nan         -nan         -nan         -nan         -nan         -nan         -nan         -nan         -nan         -nan         -nan         -nan         -nan         -nan         -nan         -nan         -nan         -nan         -nan         -nan         -nan         -nan\r\n",
      "        -nan         -nan         -nan         -nan         -nan         -nan         -nan         -nan         -nan         -nan         -nan         -nan         -nan         -nan         -nan         -nan         -nan         -nan         -nan         -nan         -nan         -nan         -nan         -nan         -nan         -nan         -nan         -nan         -nan         -nan         -nan         -nan         -nan         -nan         -nan\r\n",
      "        -nan         -nan         -nan         -nan         -nan         -nan         -nan         -nan         -nan         -nan         -nan         -nan         -nan         -nan         -nan         -nan         -nan         -nan         -nan         -nan         -nan         -nan         -nan         -nan         -nan         -nan         -nan         -nan         -nan         -nan         -nan         -nan         -nan         -nan         -nan\r\n",
      "        -nan         -nan         -nan         -nan         -nan         -nan         -nan         -nan         -nan         -nan         -nan         -nan         -nan         -nan         -nan         -nan         -nan         -nan         -nan         -nan         -nan         -nan         -nan          nan          nan          nan          nan          nan          nan          nan          nan          nan          nan          nan          nan\r\n",
      "an error occurred:\r\n",
      "Small generalized eigenvalue problem failed.\r\n"
     ]
    }
   ],
   "source": [
    "!xtp_tools -c job_name=CO geometry_optimization.maxiter=1 dftpackage.basisset=3-21G dftpackage.auxbasisset=aux-def2-svp gwbse.gw.mode=G0W0 -e dftgwbse -t 4"
   ]
  },
  {
   "cell_type": "markdown",
   "metadata": {},
   "source": [
    "Notice that we are using 4 threads. The results will be stored in a file named `CO_summary.xml` in the current work directory, together with the optimization step in `optimisation.trj` and the orbitals in [hdf5 format](https://www.hdfgroup.org/solutions/hdf5/) saved on `CO.orb`."
   ]
  }
 ],
 "metadata": {
  "kernelspec": {
   "display_name": "Python 3",
   "language": "python",
   "name": "python3"
  },
  "language_info": {
   "codemirror_mode": {
    "name": "ipython",
    "version": 3
   },
   "file_extension": ".py",
   "mimetype": "text/x-python",
   "name": "python",
   "nbconvert_exporter": "python",
   "pygments_lexer": "ipython3",
   "version": "3.11.2"
  }
 },
 "nbformat": 4,
 "nbformat_minor": 4
}
