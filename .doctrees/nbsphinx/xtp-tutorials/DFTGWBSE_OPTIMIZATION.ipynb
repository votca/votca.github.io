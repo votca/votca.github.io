{
 "cells": [
  {
   "cell_type": "markdown",
   "metadata": {},
   "source": [
    "## DFT + GWBSE Optimization Using CO"
   ]
  },
  {
   "cell_type": "markdown",
   "metadata": {},
   "source": [
    "## Introduction\n",
    "This tutorial explains how to perform a molecular geometric optimization using the **GWBSE** method. See [the GW Compendium: A Practical Guide to Theoretical Photoemission Spectroscopy](https://doi.org/10.3389/fchem.2019.00377), for an excellent introduction to the method."
   ]
  },
  {
   "cell_type": "markdown",
   "metadata": {},
   "source": [
    "## Requirements\n",
    "* You will need to install **VOTCA** using the instructions described [here](https://github.com/votca/votca/blob/master/share/doc/INSTALL.rst)\n",
    "* Once the installation is completed you need to activate the VOTCA enviroment by running the `VOTCARC.bash` script that has been installed at the bin subfolder for the path that you have provided for the installation step above"
   ]
  },
  {
   "cell_type": "markdown",
   "metadata": {},
   "source": [
    "## Preparing the input\n",
    "To run a DFT-GWBSE calculation we will use the [xtp_tools](https://www.votca.org/xtp/xtp_tools_overview.html) calculator."
   ]
  },
  {
   "cell_type": "markdown",
   "metadata": {},
   "source": [
    "we can now change the calculator mode from single point energy calculation to optimization as follows by adding \n",
    "`-c geometry_optimization.maxiter=1` which enables optimization with one iteration. "
   ]
  },
  {
   "cell_type": "markdown",
   "metadata": {},
   "source": [
    "Because geometry optimsation is quite expensive numerically we chose a smaller basisset and G0W0 Finally, to run the calculation we just need the following command (This still takes a while)"
   ]
  },
  {
   "cell_type": "code",
   "execution_count": 1,
   "metadata": {
    "execution": {
     "iopub.execute_input": "2021-09-28T02:04:32.770755Z",
     "iopub.status.busy": "2021-09-28T02:04:32.770050Z",
     "iopub.status.idle": "2021-09-28T02:05:24.981926Z",
     "shell.execute_reply": "2021-09-28T02:05:24.981262Z"
    }
   },
   "outputs": [
    {
     "name": "stdout",
     "output_type": "stream",
     "text": [
      "==================================================\r\n",
      "========   VOTCA (http://www.votca.org)   ========\r\n",
      "==================================================\r\n",
      "\r\n",
      "please submit bugs to https://github.com/votca/xtp/issues\r\n",
      "\r\n",
      "xtp_tools, version 2022-dev gitid: 9b3a0ac (compiled Sep 28 2021, 01:54:09)\r\n",
      "votca_csg, version 2022-dev gitid: 9b3a0ac (compiled Sep 28 2021, 01:37:08)\r\n",
      "votca_tools, version 2022-dev gitid: 9b3a0ac (compiled Sep 28 2021, 01:33:51)\r\n",
      "\r\n",
      "Initializing tool\r\n",
      "... dftgwbse Evaluating tool\r\n",
      "... dftgwbse  Using 4 threads\r\n",
      "... ... Reading structure from CO.xyz\r\n",
      "... ... Requested geometry optimization of excited state s1\r\n",
      "... ... Initial state: s1\r\n",
      "... ... WARNING: No tracker is used \r\n",
      "... ... Convergence of total energy: 0.000001 Hartree \r\n",
      "... ... Convergence of RMS Force:    0.000030 Hartree/Bohr \r\n",
      "... ... Convergence of Max Force:    0.000100 Hartree/Bohr \r\n",
      "... ... Convergence of RMS Step:     0.000600 Bohr \r\n",
      "... ... Convergence of Max Step:     0.001000 Bohr \r\n",
      "... ... Initial trust radius:        0.018897 Bohr\r\n",
      "... ... \r\n",
      "... ... =========== OPTIMIZATION SUMMARY ================================= \r\n",
      "... ... At iteration  0\r\n",
      "... ...  ---- POSITIONS (Angstrom)   \r\n",
      "... ...  Atom\t x\t  y\t  z \r\n",
      "... ...    0    +0.0000  +0.0000  +0.0000\r\n",
      "... ...    1    +1.2000  +0.0000  +0.0000\r\n",
      "... ...    Total energy:     -112.26831841 Hartree \r\n",
      "... ...    Trust radius:       0.01889726 Bohr     \r\n",
      "... ...  ---- FORCES (Hartree/Bohr)   \r\n",
      "... ...       central differences   \r\n",
      "... ...       displacement 0.0010 Angstrom   \r\n",
      "... ...  Atom\t x\t  y\t  z \r\n",
      "... ...    0    -0.1314  -0.0000  -0.0000\r\n",
      "... ...    1    +0.1314  +0.0000  +0.0000A\r\n",
      "     0.30157 -7.16509e-14  4.02397e-11  2.02992e-11 -5.96394e-14     0.051948  7.19857e-13 -7.27845e-13 -2.35878e-13 -5.07477e-05   -0.0176765  9.57394e-14  -0.00010077   -0.0390252  4.72445e-14   -0.0423787  1.36747e-12  1.26431e-12  1.03125e-13 -1.02748e-13  4.66122e-05    -0.107191 -1.70527e-11          nan          nan          nan          nan          nan          nan          nan          nan          nan          nan          nan          nan\r\n",
      "-7.16345e-14      0.30157     8.19e-13  8.11022e-13     0.051948 -5.95991e-14 -2.47864e-10  2.67804e-10  9.53387e-11    0.0176765 -5.07477e-05 -3.87796e-11   -0.0390252   0.00010077   -0.0423787   4.7222e-14  2.14984e-13  2.15333e-13 -3.88037e-11  3.89068e-11    -0.107191 -4.66122e-05 -5.67441e-14          nan          nan          nan          nan          nan          nan          nan          nan          nan          nan          nan          nan\r\n",
      " 4.02397e-11     8.19e-13      0.31083   -0.0100796 -4.44982e-13  2.44332e-11 -0.000664659  0.000664659  0.000260197   2.9148e-13 -1.10811e-11 -0.000116877   6.1171e-14  4.61633e-12  6.59078e-14 -5.02994e-11   -0.0492363  -0.00195706 -0.000230315  0.000108232 -3.19908e-12  -5.2924e-11   -0.0248117          nan          nan          nan          nan          nan          nan          nan          nan          nan          nan          nan          nan\r\n",
      " 2.02992e-11  8.11022e-13   -0.0100796      0.31083 -4.54919e-13 -4.19772e-13 -0.000664659  0.000664659  0.000260197  3.16328e-13 -1.09751e-12 -0.000116877   5.5689e-14  2.75511e-12  8.62438e-14  4.09656e-13  -0.00195706   -0.0492363 -0.000108232  0.000230315 -3.20039e-12 -1.21952e-11   -0.0248117          nan          nan          nan          nan          nan          nan          nan          nan          nan          nan          nan          nan\r\n",
      "-5.96305e-14     0.051948 -4.44982e-13 -4.54919e-13     0.487116 -6.98499e-15  1.79508e-10 -1.54655e-10 -8.36867e-11    0.0136234 -3.91117e-05  4.01338e-11   0.00828373 -2.13901e-05    0.0302057  1.63293e-13 -1.47658e-13 -1.42141e-13  2.82841e-11 -2.58458e-11   -0.0548637 -2.38575e-05   1.9205e-13          nan          nan          nan          nan          nan          nan          nan          nan          nan          nan          nan          nan\r\n",
      "    0.051948 -5.95892e-14  2.44332e-11 -4.19772e-13 -6.99072e-15     0.487116 -3.82015e-13  3.72105e-13  2.06026e-13 -3.91117e-05   -0.0136234 -9.90663e-14  2.13901e-05   0.00828373  1.63282e-13    0.0302057  2.31197e-12 -1.26268e-13 -5.81245e-14  6.36352e-14  2.38575e-05   -0.0548637 -5.55882e-12          nan          nan          nan          nan          nan          nan          nan          nan          nan          nan          nan          nan\r\n",
      " 7.19857e-13 -2.47864e-10 -0.000664659 -0.000664659  1.79508e-10 -3.82015e-13     0.542342    -0.221433   -0.0906319 -1.01741e-10  1.27389e-14    0.0407106 -1.29275e-11  7.59656e-14 -7.33086e-11  5.67986e-14 -6.88398e-05 -0.000190923   -0.0132983    -0.033981  1.06727e-09 -2.23804e-12   9.6116e-05          nan          nan          nan          nan          nan          nan          nan          nan          nan          nan          nan          nan\r\n",
      "-7.27845e-13  2.67804e-10  0.000664659  0.000664659 -1.54655e-10  3.72105e-13    -0.221433     0.542342    0.0906319  1.11724e-10 -3.75302e-14   -0.0407106  1.47887e-11  -8.1403e-14  2.25996e-11 -3.63894e-14  0.000190923  6.88398e-05    -0.033981   -0.0132983 -1.10728e-09  2.23656e-12  -9.6116e-05          nan          nan          nan          nan          nan          nan          nan          nan          nan          nan          nan          nan\r\n",
      "-2.35878e-13  9.53387e-11  0.000260197  0.000260197 -8.36867e-11  2.06026e-13   -0.0906319    0.0906319     0.660145   6.1528e-11 -2.45237e-14   0.00527337 -3.12124e-12  1.59079e-14  3.30995e-11 -8.15576e-14  2.57519e-05  2.57519e-05  -0.00472239   0.00472239 -3.60918e-10   7.0796e-13 -6.60325e-05          nan          nan          nan          nan          nan          nan          nan          nan          nan          nan          nan          nan\r\n",
      "-5.07477e-05    0.0176765   2.9148e-13  3.16328e-13    0.0136234 -3.91117e-05 -1.01741e-10  1.11724e-10   6.1528e-11     0.669023  3.39513e-15 -8.25882e-12  9.83184e-06 -5.36144e-08  -0.00903063  2.59262e-05  2.85379e-14  5.83297e-14  -4.7831e-12  1.05559e-11   -0.0409884  9.98504e-05 -7.35654e-15          nan          nan          nan          nan          nan          nan          nan          nan          nan          nan          nan          nan\r\n",
      "  -0.0176765 -5.07477e-05 -1.10811e-11 -1.09751e-12 -3.91117e-05   -0.0136234  1.27389e-14 -3.75302e-14 -2.45237e-14  3.42403e-15     0.669023  3.41073e-15 -5.36144e-08 -9.83184e-06  2.59262e-05   0.00903063  1.87599e-12  7.64883e-12  1.44528e-14 -4.42432e-14  9.98504e-05    0.0409884  7.91677e-12          nan          nan          nan          nan          nan          nan          nan          nan          nan          nan          nan          nan\r\n",
      " 9.57394e-14 -3.87796e-11 -0.000116877 -0.000116877  4.01338e-11 -9.90663e-14    0.0407106   -0.0407106   0.00527337 -8.25882e-12  3.41073e-15     0.793384 -1.18504e-11  5.94374e-14  3.85132e-12 -9.39979e-15 -8.31461e-05 -8.31461e-05    0.0152474   -0.0152474  1.38604e-10 -2.70301e-13  2.78097e-05          nan          nan          nan          nan          nan          nan          nan          nan          nan          nan          nan          nan\r\n",
      " -0.00010077   -0.0390252   6.1171e-14   5.5689e-14   0.00828373  2.13901e-05 -1.29275e-11  1.47887e-11 -3.12124e-12  9.83184e-06 -5.36144e-08 -1.18504e-11     0.954425  3.30208e-14   -0.0128944 -3.32958e-05   -2.342e-14 -2.93255e-14  1.11244e-11  3.32598e-12   -0.0199053 -6.00549e-05  -8.2852e-15          nan          nan          nan          nan          nan          nan          nan          nan          nan          nan          nan          nan\r\n",
      "  -0.0390252   0.00010077  4.61633e-12  2.75511e-12 -2.13901e-05   0.00828373  7.59656e-14  -8.1403e-14  1.59079e-14 -5.36144e-08 -9.83184e-06  5.94374e-14  3.30526e-14     0.954425  3.32958e-05   -0.0128944  6.21882e-12 -8.23155e-12 -2.90006e-14  2.31237e-14  6.00549e-05   -0.0199053 -6.00269e-12          nan          nan          nan          nan          nan          nan          nan          nan          nan          nan          nan          nan\r\n",
      " 4.72293e-14   -0.0423787  6.59078e-14  8.62438e-14    0.0302057  1.63273e-13 -7.33086e-11  2.25996e-11  3.30995e-11  -0.00903063  2.59262e-05  3.85132e-12   -0.0128944  3.32958e-05     0.974684  9.73184e-14  4.40826e-14  4.27013e-15 -1.51509e-11 -3.20159e-12    0.0229107  9.96271e-06 -5.55681e-14          nan          nan          nan          nan          nan          nan          nan          nan          nan          nan          nan          nan\r\n",
      "  -0.0423787  4.72048e-14 -5.02993e-11  4.09656e-13   1.6328e-13    0.0302057  5.67986e-14 -3.63896e-14 -8.15576e-14  2.59262e-05   0.00903063 -9.39979e-15 -3.32958e-05   -0.0128944  9.72942e-14     0.974684 -1.25446e-11  5.80794e-12  -2.3625e-14  -1.6213e-14 -9.96271e-06    0.0229107 -5.52786e-13          nan          nan          nan          nan          nan          nan          nan          nan          nan          nan          nan          nan\r\n",
      " 1.36747e-12  2.14984e-13   -0.0492363  -0.00195706 -1.47658e-13  2.31197e-12 -6.88398e-05  0.000190923  2.57519e-05  2.85379e-14  1.87599e-12 -8.31461e-05   -2.342e-14  6.21882e-12  4.40826e-14 -1.25446e-11      1.02179   0.00208539 -0.000233194  0.000233194 -8.42047e-13 -8.34191e-12     0.004742          nan          nan          nan          nan          nan          nan          nan          nan          nan          nan          nan          nan\r\n",
      " 1.26431e-12  2.15333e-13  -0.00195706   -0.0492363 -1.42141e-13 -1.26268e-13 -0.000190923  6.88398e-05  2.57519e-05  5.83297e-14  7.64883e-12 -8.31461e-05 -2.93256e-14 -8.23155e-12  4.27012e-15  5.80794e-12   0.00208539      1.02179 -0.000233194  0.000233194 -8.56687e-13 -2.71521e-12     0.004742          nan          nan          nan          nan          nan          nan          nan          nan          nan          nan          nan          nan\r\n",
      " 1.03125e-13 -3.88037e-11 -0.000230315 -0.000108232  2.82841e-11 -5.81245e-14   -0.0132983    -0.033981  -0.00472239  -4.7831e-12  1.44528e-14    0.0152474  1.11244e-11 -2.90006e-14 -1.51509e-11  -2.3625e-14 -0.000233194 -0.000233194      1.06455   -0.0448474  1.50638e-10 -3.38717e-13   5.2205e-05          nan          nan          nan          nan          nan          nan          nan          nan          nan          nan          nan          nan\r\n",
      "-1.02748e-13  3.89068e-11  0.000108232  0.000230315 -2.58458e-11  6.36352e-14    -0.033981   -0.0132983   0.00472239  1.05559e-11 -4.42431e-14   -0.0152474  3.32598e-12  2.31237e-14 -3.20159e-12  -1.6213e-14  0.000233194  0.000233194   -0.0448474      1.06455 -1.56193e-10  3.24042e-13  -5.2205e-05          nan          nan          nan          nan          nan          nan          nan          nan          nan          nan          nan          nan\r\n",
      "-3.24558e-05    0.0746367   1.9117e-12  1.91262e-12     0.069959 -3.04217e-05 -6.27404e-10  6.46488e-10  2.65828e-10    0.0304419 -7.41586e-05 -1.18744e-10   0.00918481 -2.77109e-05   -0.0362981  1.57842e-05  6.26036e-13  6.15803e-13 -1.15494e-10  1.11592e-10    -0.195037  4.46328e-13 -1.48279e-12          nan          nan          nan          nan          nan          nan          nan          nan          nan          nan          nan          nan\r\n",
      "   0.0746367  3.24558e-05  4.46811e-11   2.5021e-11  3.04217e-05     0.069959  1.32831e-12 -1.32796e-12 -5.14648e-13 -7.41586e-05   -0.0304419  2.30095e-13  2.77109e-05   0.00918481 -1.57842e-05   -0.0362981 -1.67483e-12  2.11238e-12  2.16729e-13 -2.26622e-13   4.4641e-13    -0.195037 -4.35674e-10          nan          nan          nan          nan          nan          nan          nan          nan          nan          nan          nan          nan\r\n",
      " 3.96234e-11  1.71222e-13   -0.0141048   -0.0141048 -2.05172e-13  1.12422e-11 -0.000212665  0.000212665  6.79327e-05  2.41113e-14 -1.93492e-11 -2.86777e-05  2.68297e-14  6.23468e-12 -3.27436e-14 -4.44167e-11   0.00610209   0.00610209  7.56717e-06 -7.56717e-06 -1.87464e-12 -4.38818e-10     0.942224          nan          nan          nan          nan          nan          nan          nan          nan          nan          nan          nan          nan\r\n",
      "        -nan         -nan         -nan         -nan         -nan         -nan         -nan         -nan         -nan         -nan         -nan         -nan         -nan         -nan         -nan         -nan         -nan         -nan         -nan         -nan         -nan         -nan         -nan          nan          nan          nan          nan          nan          nan          nan          nan          nan          nan          nan          nan\r\n",
      "        -nan         -nan         -nan         -nan         -nan         -nan         -nan         -nan         -nan         -nan         -nan         -nan         -nan         -nan         -nan         -nan         -nan         -nan         -nan         -nan         -nan         -nan         -nan         -nan         -nan         -nan         -nan         -nan         -nan         -nan         -nan         -nan         -nan         -nan         -nan\r\n",
      "        -nan         -nan         -nan         -nan         -nan         -nan         -nan         -nan         -nan         -nan         -nan         -nan         -nan         -nan         -nan         -nan         -nan         -nan         -nan         -nan         -nan         -nan         -nan         -nan         -nan         -nan         -nan         -nan         -nan         -nan         -nan         -nan         -nan         -nan         -nan\r\n",
      "        -nan         -nan         -nan         -nan         -nan         -nan         -nan         -nan         -nan         -nan         -nan         -nan         -nan         -nan         -nan         -nan         -nan         -nan         -nan         -nan         -nan         -nan         -nan          nan          nan          nan          nan          nan          nan          nan          nan          nan          nan          nan          nan\r\n",
      "        -nan         -nan         -nan         -nan         -nan         -nan         -nan         -nan         -nan         -nan         -nan         -nan         -nan         -nan         -nan         -nan         -nan         -nan         -nan         -nan         -nan         -nan         -nan          nan          nan          nan          nan          nan          nan          nan          nan          nan          nan          nan          nan\r\n",
      "        -nan         -nan         -nan         -nan         -nan         -nan         -nan         -nan         -nan         -nan         -nan         -nan         -nan         -nan         -nan         -nan         -nan         -nan         -nan         -nan         -nan         -nan         -nan         -nan         -nan         -nan         -nan         -nan         -nan         -nan         -nan         -nan         -nan         -nan         -nan\r\n",
      "        -nan         -nan         -nan         -nan         -nan         -nan         -nan         -nan         -nan         -nan         -nan         -nan         -nan         -nan         -nan         -nan         -nan         -nan         -nan         -nan         -nan         -nan         -nan         -nan         -nan         -nan         -nan         -nan         -nan         -nan         -nan         -nan         -nan         -nan         -nan\r\n",
      "        -nan         -nan         -nan         -nan         -nan         -nan         -nan         -nan         -nan         -nan         -nan         -nan         -nan         -nan         -nan         -nan         -nan         -nan         -nan         -nan         -nan         -nan         -nan          nan          nan          nan          nan          nan          nan          nan          nan          nan          nan          nan          nan\r\n",
      "        -nan         -nan         -nan         -nan         -nan         -nan         -nan         -nan         -nan         -nan         -nan         -nan         -nan         -nan         -nan         -nan         -nan         -nan         -nan         -nan         -nan         -nan         -nan          nan          nan          nan          nan          nan          nan          nan          nan          nan          nan          nan          nan\r\n",
      "        -nan         -nan         -nan         -nan         -nan         -nan         -nan         -nan         -nan         -nan         -nan         -nan         -nan         -nan         -nan         -nan         -nan         -nan         -nan         -nan         -nan         -nan         -nan         -nan          nan          nan          nan         -nan          nan          nan          nan         -nan          nan          nan          nan\r\n",
      "        -nan         -nan         -nan         -nan         -nan         -nan         -nan         -nan         -nan         -nan         -nan         -nan         -nan         -nan         -nan         -nan         -nan         -nan         -nan         -nan         -nan         -nan         -nan         -nan          nan          nan          nan         -nan          nan          nan          nan         -nan          nan          nan          nan\r\n",
      "        -nan         -nan         -nan         -nan         -nan         -nan         -nan         -nan         -nan         -nan         -nan         -nan         -nan         -nan         -nan         -nan         -nan         -nan         -nan         -nan         -nan         -nan         -nan         -nan         -nan         -nan         -nan         -nan         -nan         -nan         -nan         -nan         -nan         -nan         -nan\r\n",
      "B\r\n",
      "   0.0906271 -3.10712e-14  2.37907e-11  9.47624e-12  -3.6269e-14    0.0326354  3.02532e-13 -3.08267e-13 -1.48176e-13 -4.26817e-05   -0.0148669  6.30997e-14 -0.000124264   -0.0481237  5.38152e-14   -0.0477892  8.41577e-13  3.24434e-13   7.6699e-14 -7.53491e-14  1.06431e-05   -0.0244754  2.72457e-11         -nan         -nan         -nan         -nan         -nan         -nan         -nan         -nan         -nan         -nan         -nan         -nan\r\n",
      " -3.1065e-14    0.0906271  3.43329e-13  3.37604e-13    0.0326354 -3.62511e-14 -9.71227e-11  1.11437e-10  5.98699e-11    0.0148669 -4.26817e-05 -2.55583e-11   -0.0481237  0.000124264   -0.0477892  5.37991e-14  1.62222e-13  1.63535e-13 -2.93424e-11  2.98595e-11   -0.0244754 -1.06431e-05  1.26216e-13         -nan         -nan         -nan         -nan         -nan         -nan         -nan         -nan         -nan         -nan         -nan         -nan\r\n",
      " 2.37907e-11  3.43329e-13    0.0997348  -0.00553746 -2.63702e-13  1.60489e-11 -0.000325299  0.000325299  0.000187242  2.07333e-13 -1.04391e-11 -9.09822e-05  2.65232e-14  4.99387e-12  8.04191e-14 -6.16301e-11   -0.0659135  -0.00225699 -0.000260615  9.62418e-05 -4.16661e-13 -7.29573e-12   -0.0408446         -nan         -nan         -nan         -nan         -nan         -nan         -nan         -nan         -nan         -nan         -nan         -nan\r\n",
      " 9.47624e-12  3.37604e-13  -0.00553746    0.0997348 -2.70247e-13 -3.49172e-13 -0.000325299  0.000325299  0.000187242   2.3216e-13 -4.62431e-13 -9.09822e-05  1.92043e-14  2.50874e-12  1.05569e-13  1.10444e-12  -0.00225699   -0.0659135 -9.62418e-05  0.000260615 -4.16951e-13  1.40929e-11   -0.0408446         -nan         -nan         -nan         -nan         -nan         -nan         -nan         -nan         -nan         -nan         -nan         -nan\r\n",
      "-3.62615e-14    0.0326354 -2.63702e-13 -2.70247e-13     0.236919 -1.08579e-15  1.07962e-10  -9.1564e-11 -7.17827e-11    0.0143889 -4.13095e-05  3.85676e-11     0.009474 -2.44636e-05    0.0425853  2.24316e-13 -1.47821e-13 -1.40948e-13   2.8549e-11 -2.55354e-11   0.00365057  1.58745e-06  1.08554e-14         -nan         -nan         -nan         -nan         -nan         -nan         -nan         -nan         -nan         -nan         -nan         -nan\r\n",
      "   0.0326354 -3.62444e-14  1.60489e-11 -3.49172e-13 -1.08416e-15     0.236919  -2.2655e-13  2.20029e-13  1.76763e-13 -4.13095e-05   -0.0143889 -9.52684e-14  2.44636e-05     0.009474  2.24302e-13    0.0425853  2.76443e-12 -2.49119e-13 -5.66003e-14  6.34626e-14 -1.58745e-06   0.00365057  3.19432e-12         -nan         -nan         -nan         -nan         -nan         -nan         -nan         -nan         -nan         -nan         -nan         -nan\r\n",
      " 3.02532e-13 -9.71227e-11 -0.000325299 -0.000325299  1.07962e-10  -2.2655e-13     0.213042     -0.10777   -0.0652203  -7.2341e-11  2.86695e-15     0.031691 -1.10051e-13    1.197e-14  -8.9786e-11  6.98538e-14 -1.53147e-06 -0.000165904   -0.0344214   -0.0292351  1.37234e-10 -2.90545e-13 -0.000122063         -nan         -nan         -nan         -nan         -nan         -nan         -nan         -nan         -nan         -nan         -nan         -nan\r\n",
      "-3.08267e-13  1.11437e-10  0.000325299  0.000325299  -9.1564e-11  2.20029e-13     -0.10777     0.213042    0.0652203  8.23177e-11 -2.76432e-14    -0.031691  2.59519e-12 -1.92347e-14  2.70515e-11 -4.46081e-14  0.000165904  1.53147e-06   -0.0292351   -0.0344214 -1.58429e-10  2.89242e-13  0.000122063         -nan         -nan         -nan         -nan         -nan         -nan         -nan         -nan         -nan         -nan         -nan         -nan\r\n",
      "-1.48176e-13  5.98699e-11  0.000187242  0.000187242 -7.17827e-11  1.76763e-13   -0.0652203    0.0652203     0.424482  6.67844e-11  -2.6639e-14    0.0113321 -1.12927e-11  5.71035e-14  4.48471e-11  -1.1052e-13  3.28017e-06  3.28017e-06  -0.00060152   0.00060152 -8.46668e-11  1.66258e-13 -1.21422e-05         -nan         -nan         -nan         -nan         -nan         -nan         -nan         -nan         -nan         -nan         -nan         -nan\r\n",
      "-4.26817e-05    0.0148669  2.07333e-13   2.3216e-13    0.0143889 -4.13095e-05  -7.2341e-11  8.23177e-11  6.67844e-11     0.448028  4.40986e-15 -5.53399e-12 -0.000495534  2.70222e-06    -0.010767  3.09111e-05 -6.18927e-15   4.6414e-14   1.9406e-12  8.26604e-12   -0.0177615  4.32681e-05  7.70505e-15         -nan         -nan         -nan         -nan         -nan         -nan         -nan         -nan         -nan         -nan         -nan         -nan\r\n",
      "  -0.0148669 -4.26817e-05 -1.04391e-11 -4.62431e-13 -4.13095e-05   -0.0143889   2.8669e-15 -2.76432e-14  -2.6639e-14  4.45219e-15     0.448028  2.37133e-15  2.70222e-06  0.000495534  3.09111e-05     0.010767  3.28139e-12   1.3488e-11  2.12148e-14  -7.3823e-14  4.32681e-05    0.0177615 -1.47314e-11         -nan         -nan         -nan         -nan         -nan         -nan         -nan         -nan         -nan         -nan         -nan         -nan\r\n",
      " 6.30997e-14 -2.55583e-11 -9.09822e-05 -9.09822e-05  3.85676e-11 -9.52684e-14     0.031691    -0.031691    0.0113321 -5.53399e-12  2.37133e-15     0.627711 -1.66127e-11  8.33282e-14  8.80393e-12  -2.1528e-14 -0.000119196 -0.000119196    0.0218583   -0.0218583  1.37214e-11 -2.42219e-14  7.24228e-06         -nan         -nan         -nan         -nan         -nan         -nan         -nan         -nan         -nan         -nan         -nan         -nan\r\n",
      "-0.000124264   -0.0481237  2.65232e-14  1.92043e-14     0.009474  2.44636e-05 -1.10051e-13  2.59519e-12 -1.12927e-11 -0.000495534  2.70222e-06 -1.66127e-11     0.913264  5.60864e-14   -0.0216064 -5.57916e-05 -6.67852e-14 -7.86861e-14  2.62697e-11  2.88288e-12   -0.0227534 -6.86479e-05  1.76379e-14         -nan         -nan         -nan         -nan         -nan         -nan         -nan         -nan         -nan         -nan         -nan         -nan\r\n",
      "  -0.0481237  0.000124264  4.99387e-12  2.50874e-12 -2.44636e-05     0.009474    1.197e-14 -1.92347e-14  5.71035e-14  2.70222e-06  0.000495534  8.33282e-14    5.615e-14     0.913264  5.57916e-05   -0.0216064  1.28133e-11 -1.63393e-11 -7.61408e-14  6.42939e-14  6.86479e-05   -0.0227534 -4.45784e-12         -nan         -nan         -nan         -nan         -nan         -nan         -nan         -nan         -nan         -nan         -nan         -nan\r\n",
      " 5.37905e-14   -0.0477892  8.04191e-14  1.05569e-13    0.0425853  2.24287e-13  -8.9786e-11  2.70515e-11  4.48471e-11    -0.010767  3.09111e-05  8.80393e-12   -0.0216064  5.57916e-05     0.954146  1.85165e-13  7.41138e-14  2.27217e-15 -2.56713e-11 -7.44548e-12  -0.00328347 -1.42782e-06 -1.29611e-13         -nan         -nan         -nan         -nan         -nan         -nan         -nan         -nan         -nan         -nan         -nan         -nan\r\n",
      "  -0.0477892   5.3777e-14 -6.16301e-11  1.10444e-12  2.24301e-13    0.0425853  6.98538e-14 -4.46083e-14  -1.1052e-13  3.09111e-05     0.010767  -2.1528e-14 -5.57916e-05   -0.0216064  1.85123e-13     0.954146 -2.11526e-11  1.19643e-11 -3.86218e-14 -3.32772e-14  1.42782e-06  -0.00328347 -5.04447e-11         -nan         -nan         -nan         -nan         -nan         -nan         -nan         -nan         -nan         -nan         -nan         -nan\r\n",
      " 8.41577e-13  1.62222e-13   -0.0659135  -0.00225699 -1.47821e-13  2.76443e-12 -1.53147e-06  0.000165904  3.28017e-06 -6.18925e-15  3.28139e-12 -0.000119196 -6.67851e-14  1.28133e-11  7.41138e-14 -2.11526e-11      1.04646   0.00440222 -0.000432954  0.000432954 -3.16638e-13 -1.69248e-11    0.0159301         -nan         -nan         -nan         -nan         -nan         -nan         -nan         -nan         -nan         -nan         -nan         -nan\r\n",
      " 3.24434e-13  1.63535e-13  -0.00225699   -0.0659135 -1.40948e-13 -2.49119e-13 -0.000165904  1.53147e-06  3.28017e-06   4.6414e-14   1.3488e-11 -0.000119196 -7.86862e-14 -1.63393e-11  2.27215e-15  1.19643e-11   0.00440222      1.04646 -0.000432954  0.000432954 -3.53404e-13 -2.99392e-12    0.0159301         -nan         -nan         -nan         -nan         -nan         -nan         -nan         -nan         -nan         -nan         -nan         -nan\r\n",
      "  7.6699e-14 -2.93424e-11 -0.000260615 -9.62418e-05   2.8549e-11 -5.66003e-14   -0.0344214   -0.0292351  -0.00060152   1.9406e-12  2.12148e-14    0.0218583  2.62697e-11 -7.61407e-14 -2.56713e-11 -3.86218e-14 -0.000432954 -0.000432954      1.12585   -0.0837953  5.05631e-11 -1.84625e-13  9.88097e-05         -nan         -nan         -nan         -nan         -nan         -nan         -nan         -nan         -nan         -nan         -nan         -nan\r\n",
      "-7.53491e-14  2.98595e-11  9.62418e-05  0.000260615 -2.55354e-11  6.34626e-14   -0.0292351   -0.0344214   0.00060152  8.26604e-12  -7.3823e-14   -0.0218583  2.88288e-12  6.42938e-14 -7.44548e-12 -3.32772e-14  0.000432954  0.000432954   -0.0837953      1.12585 -6.45071e-11  1.48132e-13 -9.88097e-05         -nan         -nan         -nan         -nan         -nan         -nan         -nan         -nan         -nan         -nan         -nan         -nan\r\n",
      " 2.43854e-05   -0.0560778 -1.72328e-12 -1.72399e-12   0.00265972 -1.15658e-06  5.82964e-10  -6.1107e-10 -9.01072e-11   -0.0109729  2.67308e-05  1.84711e-11   -0.0178433   5.3834e-05     -0.01806  7.85341e-06  1.23237e-13  6.76638e-14 -3.11146e-11  9.89553e-12     0.585022  4.76326e-13 -1.09669e-12         -nan         -nan         -nan         -nan         -nan         -nan         -nan         -nan         -nan         -nan         -nan         -nan\r\n",
      "  -0.0560778 -2.43854e-05 -1.91349e-11  9.07663e-12  1.15658e-06   0.00265972 -1.23021e-12  1.22893e-12  1.89175e-13  2.67308e-05    0.0109729 -4.08754e-14  -5.3834e-05   -0.0178433 -7.85341e-06     -0.01806 -1.87687e-11  2.33612e-12 -3.46952e-14 -2.02342e-14  4.76378e-13     0.585022 -4.37642e-10         -nan         -nan         -nan         -nan         -nan         -nan         -nan         -nan         -nan         -nan         -nan         -nan\r\n",
      " 1.04365e-11   1.0754e-13   -0.0412953   -0.0412953  1.40999e-14  1.34025e-11 -0.000122602  0.000122602  1.60333e-05  4.03842e-14 -1.74216e-12 -9.09995e-06  1.58766e-15 -4.63031e-12 -7.90892e-14 -4.93374e-11     0.016839     0.016839  8.18617e-05 -8.18617e-05 -1.54846e-12 -4.32214e-10      1.94795         -nan         -nan         -nan         -nan         -nan         -nan         -nan         -nan         -nan         -nan         -nan         -nan\r\n",
      "        -nan         -nan         -nan         -nan         -nan         -nan         -nan         -nan         -nan         -nan         -nan         -nan         -nan         -nan         -nan         -nan         -nan         -nan         -nan         -nan         -nan         -nan         -nan         -nan         -nan         -nan         -nan         -nan         -nan         -nan         -nan         -nan         -nan         -nan         -nan\r\n",
      "        -nan         -nan         -nan         -nan         -nan         -nan         -nan         -nan         -nan         -nan         -nan         -nan         -nan         -nan         -nan         -nan         -nan         -nan         -nan         -nan         -nan         -nan         -nan         -nan         -nan         -nan         -nan         -nan         -nan         -nan         -nan         -nan         -nan         -nan         -nan\r\n",
      "        -nan         -nan         -nan         -nan         -nan         -nan         -nan         -nan         -nan         -nan         -nan         -nan         -nan         -nan         -nan         -nan         -nan         -nan         -nan         -nan         -nan         -nan         -nan         -nan         -nan         -nan         -nan         -nan         -nan         -nan         -nan         -nan         -nan         -nan         -nan\r\n",
      "        -nan         -nan         -nan         -nan         -nan         -nan         -nan         -nan         -nan         -nan         -nan         -nan         -nan         -nan         -nan         -nan         -nan         -nan         -nan         -nan         -nan         -nan         -nan         -nan         -nan         -nan         -nan         -nan         -nan         -nan         -nan         -nan         -nan         -nan         -nan\r\n",
      "        -nan         -nan         -nan         -nan         -nan         -nan         -nan         -nan         -nan         -nan         -nan         -nan         -nan         -nan         -nan         -nan         -nan         -nan         -nan         -nan         -nan         -nan         -nan         -nan         -nan         -nan         -nan         -nan         -nan         -nan         -nan         -nan         -nan         -nan         -nan\r\n",
      "        -nan         -nan         -nan         -nan         -nan         -nan         -nan         -nan         -nan         -nan         -nan         -nan         -nan         -nan         -nan         -nan         -nan         -nan         -nan         -nan         -nan         -nan         -nan         -nan         -nan         -nan         -nan         -nan         -nan         -nan         -nan         -nan         -nan         -nan         -nan\r\n",
      "        -nan         -nan         -nan         -nan         -nan         -nan         -nan         -nan         -nan         -nan         -nan         -nan         -nan         -nan         -nan         -nan         -nan         -nan         -nan         -nan         -nan         -nan         -nan         -nan         -nan         -nan         -nan         -nan         -nan         -nan         -nan         -nan         -nan         -nan         -nan\r\n",
      "        -nan         -nan         -nan         -nan         -nan         -nan         -nan         -nan         -nan         -nan         -nan         -nan         -nan         -nan         -nan         -nan         -nan         -nan         -nan         -nan         -nan         -nan         -nan         -nan         -nan         -nan         -nan         -nan         -nan         -nan         -nan         -nan         -nan         -nan         -nan\r\n",
      "        -nan         -nan         -nan         -nan         -nan         -nan         -nan         -nan         -nan         -nan         -nan         -nan         -nan         -nan         -nan         -nan         -nan         -nan         -nan         -nan         -nan         -nan         -nan         -nan         -nan         -nan         -nan         -nan         -nan         -nan         -nan         -nan         -nan         -nan         -nan\r\n",
      "        -nan         -nan         -nan         -nan         -nan         -nan         -nan         -nan         -nan         -nan         -nan         -nan         -nan         -nan         -nan         -nan         -nan         -nan         -nan         -nan         -nan         -nan         -nan         -nan         -nan         -nan         -nan         -nan         -nan         -nan         -nan         -nan         -nan         -nan         -nan\r\n",
      "        -nan         -nan         -nan         -nan         -nan         -nan         -nan         -nan         -nan         -nan         -nan         -nan         -nan         -nan         -nan         -nan         -nan         -nan         -nan         -nan         -nan         -nan         -nan         -nan         -nan         -nan         -nan         -nan         -nan         -nan         -nan         -nan         -nan         -nan         -nan\r\n",
      "        -nan         -nan         -nan         -nan         -nan         -nan         -nan         -nan         -nan         -nan         -nan         -nan         -nan         -nan         -nan         -nan         -nan         -nan         -nan         -nan         -nan         -nan         -nan          nan          nan          nan          nan          nan          nan          nan          nan          nan          nan          nan          nan\r\n",
      "an error occurred:\r\n",
      "Small generalized eigenvalue problem failed.\r\n"
     ]
    }
   ],
   "source": [
    "!xtp_tools -c job_name=CO geometry_optimization.maxiter=1 dftpackage.basisset=3-21G dftpackage.auxbasisset=aux-def2-svp gwbse.gw.mode=G0W0 -e dftgwbse -t 4"
   ]
  },
  {
   "cell_type": "markdown",
   "metadata": {},
   "source": [
    "Notice that we are using 4 threads. The results will be stored in a file named `CO_summary.xml` in the current work directory, together with the optimization step in `optimisation.trj` and the orbitals in [hdf5 format](https://www.hdfgroup.org/solutions/hdf5/) saved on `CO.orb`."
   ]
  }
 ],
 "metadata": {
  "kernelspec": {
   "display_name": "Python 3",
   "language": "python",
   "name": "python3"
  },
  "language_info": {
   "codemirror_mode": {
    "name": "ipython",
    "version": 3
   },
   "file_extension": ".py",
   "mimetype": "text/x-python",
   "name": "python",
   "nbconvert_exporter": "python",
   "pygments_lexer": "ipython3",
   "version": "3.9.7"
  }
 },
 "nbformat": 4,
 "nbformat_minor": 4
}
