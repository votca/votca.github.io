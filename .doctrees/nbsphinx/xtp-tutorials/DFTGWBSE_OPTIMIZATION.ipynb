{
 "cells": [
  {
   "cell_type": "markdown",
   "metadata": {},
   "source": [
    "## DFT + GWBSE Optimization Using CO"
   ]
  },
  {
   "cell_type": "markdown",
   "metadata": {},
   "source": [
    "## Introduction\n",
    "This tutorial explains how to perform a molecular geometric optimization using the **GWBSE** method. See [the GW Compendium: A Practical Guide to Theoretical Photoemission Spectroscopy](https://doi.org/10.3389/fchem.2019.00377), for an excellent introduction to the method."
   ]
  },
  {
   "cell_type": "markdown",
   "metadata": {},
   "source": [
    "## Requirements\n",
    "* You will need to install **VOTCA** using the instructions described [here](https://github.com/votca/votca/blob/master/share/doc/INSTALL.rst)\n",
    "* Once the installation is completed you need to activate the VOTCA enviroment by running the `VOTCARC.bash` script that has been installed at the bin subfolder for the path that you have provided for the installation step above"
   ]
  },
  {
   "cell_type": "markdown",
   "metadata": {},
   "source": [
    "## Preparing the input\n",
    "To run a DFT-GWBSE calculation we will use the [xtp_tools](https://www.votca.org/xtp/xtp_tools_overview.html) calculator."
   ]
  },
  {
   "cell_type": "markdown",
   "metadata": {},
   "source": [
    "we can now change the calculator mode from single point energy calculation to optimization as follows by adding \n",
    "`-c geometry_optimization.maxiter=1` which enables optimization with one iteration. "
   ]
  },
  {
   "cell_type": "markdown",
   "metadata": {},
   "source": [
    "Because geometry optimsation is quite expensive numerically we chose a smaller basisset and G0W0 Finally, to run the calculation we just need the following command (This still takes a while)"
   ]
  },
  {
   "cell_type": "code",
   "execution_count": 1,
   "metadata": {
    "execution": {
     "iopub.execute_input": "2021-07-30T05:30:24.282963Z",
     "iopub.status.busy": "2021-07-30T05:30:24.282425Z",
     "iopub.status.idle": "2021-07-30T05:31:17.625115Z",
     "shell.execute_reply": "2021-07-30T05:31:17.625852Z"
    }
   },
   "outputs": [
    {
     "name": "stdout",
     "output_type": "stream",
     "text": [
      "==================================================\r\n",
      "========   VOTCA (http://www.votca.org)   ========\r\n",
      "==================================================\r\n",
      "\r\n",
      "please submit bugs to https://github.com/votca/xtp/issues\r\n",
      "\r\n",
      "xtp_tools, version 2022-dev gitid: d74906f (compiled Jul 30 2021, 05:22:37)\r\n",
      "votca_csg, version 2022-dev gitid: d74906f (compiled Jul 30 2021, 05:08:58)\r\n",
      "votca_tools, version 2022-dev gitid: d74906f (compiled Jul 30 2021, 05:06:33)\r\n",
      "\r\n",
      "Initializing tool\r\n",
      "... dftgwbse Evaluating tool\r\n",
      "... dftgwbse  Using 4 threads\r\n",
      "... ... Reading structure from CO.xyz\r\n",
      "... ... Requested geometry optimization of excited state s1\r\n",
      "... ... Initial state: s1\r\n",
      "... ... WARNING: No tracker is used \r\n",
      "... ... Convergence of total energy: 0.000001 Hartree \r\n",
      "... ... Convergence of RMS Force:    0.000030 Hartree/Bohr \r\n",
      "... ... Convergence of Max Force:    0.000100 Hartree/Bohr \r\n",
      "... ... Convergence of RMS Step:     0.000600 Bohr \r\n",
      "... ... Convergence of Max Step:     0.001000 Bohr \r\n",
      "... ... Initial trust radius:        0.018897 Bohr\r\n",
      "... ... \r\n",
      "... ... =========== OPTIMIZATION SUMMARY ================================= \r\n",
      "... ... At iteration  0\r\n",
      "... ...  ---- POSITIONS (Angstrom)   \r\n",
      "... ...  Atom\t x\t  y\t  z \r\n",
      "... ...    0    +0.0000  +0.0000  +0.0000\r\n",
      "... ...    1    +1.2000  +0.0000  +0.0000\r\n",
      "... ...    Total energy:     -112.26831841 Hartree \r\n",
      "... ...    Trust radius:       0.01889726 Bohr     \r\n",
      "... ...  ---- FORCES (Hartree/Bohr)   \r\n",
      "... ...       central differences   \r\n",
      "... ...       displacement 0.0010 Angstrom   \r\n",
      "... ...  Atom\t x\t  y\t  z \r\n",
      "... ...    0    -0.1314  -0.0000  -0.0000\r\n",
      "... ...    1    +0.1314  +0.0000  +0.0000A\r\n",
      "    0.300728 -4.70738e-15  2.09197e-14  2.23844e-14    0.0519964 -4.89954e-15 -2.62704e-11  2.65307e-11 -1.38438e-11   -0.0175948   1.3964e-05  4.56977e-12   -0.0390322 -8.53854e-05    0.0424178 -3.78333e-15  1.08675e-14 -1.03877e-14 -3.59864e-12 -3.93617e-12     0.107004  9.33836e-06  4.67305e-15          nan          nan          nan          nan          nan          nan          nan          nan          nan          nan          nan          nan\r\n",
      "-4.73487e-15     0.300728   2.0438e-12  2.30408e-12 -4.79973e-15    0.0519964  1.83386e-14 -1.97867e-14   9.3697e-15   1.3964e-05    0.0175948 -2.69817e-15 -8.53854e-05    0.0390322  -3.7391e-15    0.0424178 -5.55034e-13  2.17434e-13  1.65056e-15  1.15224e-15 -9.33836e-06     0.107004  1.40728e-13          nan          nan          nan          nan          nan          nan          nan          nan          nan          nan          nan          nan\r\n",
      " 2.09198e-14   2.0438e-12     0.309472   -0.0100867 -8.17873e-16   1.2751e-12 -0.000183863  0.000183863 -7.25264e-05 -1.45556e-14 -2.20887e-12  3.28064e-05 -5.26044e-15  -3.1191e-13 -5.61562e-15 -4.10469e-13   -0.0491924   0.00194342 -3.26398e-05    -0.000136  1.29631e-13  1.97963e-12    0.0247327          nan          nan          nan          nan          nan          nan          nan          nan          nan          nan          nan          nan\r\n",
      " 2.23844e-14  2.30408e-12   -0.0100867     0.309472  8.26359e-16  4.93204e-13 -0.000183863  0.000183863 -7.25264e-05 -1.32728e-14  3.56569e-14  3.28064e-05 -4.92639e-15 -3.85601e-13 -5.44209e-15  3.84537e-12  -0.00194342    0.0491924    -0.000136 -3.26398e-05  1.31658e-13  2.47728e-12    0.0247327          nan          nan          nan          nan          nan          nan          nan          nan          nan          nan          nan          nan\r\n",
      "   0.0519964 -4.80027e-15 -8.17883e-16  8.26368e-16     0.486555  2.79377e-16 -7.09093e-13 -7.27751e-14 -7.46825e-13    -0.013646  1.08301e-05 -1.84655e-12   0.00832837  1.82188e-05   -0.0300841 -1.22079e-14 -3.56317e-15  4.44269e-15   1.4004e-12  9.69733e-13    0.0551239  4.81071e-06 -1.48955e-14          nan          nan          nan          nan          nan          nan          nan          nan          nan          nan          nan          nan\r\n",
      "-4.91944e-15    0.0519964   1.2751e-12  4.93204e-13  2.64858e-16     0.486555 -1.00433e-15 -5.75444e-16  7.18336e-17  1.08301e-05     0.013646  1.74879e-15  1.82188e-05  -0.00832837    -1.23e-14   -0.0300841 -4.44174e-13  1.35061e-14 -1.31989e-15 -2.26514e-15 -4.81071e-06    0.0551239  1.09281e-12          nan          nan          nan          nan          nan          nan          nan          nan          nan          nan          nan          nan\r\n",
      "-2.62704e-11  1.83386e-14 -0.000183863 -0.000183863 -7.09093e-13 -1.00434e-15     0.541142    -0.221583     0.091384  1.66961e-11 -1.00127e-15   -0.0413364  7.57942e-12  2.49445e-14  1.06775e-11 -5.20203e-15 -0.000102385 -9.75312e-07    -0.013423     0.033826 -1.59897e-10  9.29548e-14 -0.000216526          nan          nan          nan          nan          nan          nan          nan          nan          nan          nan          nan          nan\r\n",
      " 2.65307e-11 -1.97866e-14  0.000183863  0.000183863 -7.27751e-14 -5.75445e-16    -0.221583     0.541142    -0.091384 -1.89406e-11  2.29258e-15    0.0413364  -7.5057e-12  -2.4568e-14 -6.42162e-12  4.97336e-15 -9.75312e-07 -0.000102385    -0.033826     0.013423  1.60403e-10 -9.48514e-14  0.000216526          nan          nan          nan          nan          nan          nan          nan          nan          nan          nan          nan          nan\r\n",
      "-1.38438e-11  9.36992e-15 -7.25264e-05 -7.25264e-05 -7.46825e-13  7.18342e-17     0.091384    -0.091384     0.659711  9.57619e-12 -1.20799e-15   0.00509591  3.48527e-13   1.2854e-15  3.26896e-12 -2.25397e-15 -1.43689e-05  1.43689e-05   0.00481983   0.00481983 -6.45415e-11  3.84309e-14 -9.47053e-05          nan          nan          nan          nan          nan          nan          nan          nan          nan          nan          nan          nan\r\n",
      "  -0.0175948   1.3964e-05 -1.45556e-14 -1.32726e-14    -0.013646  1.08301e-05  1.66961e-11 -1.89406e-11  9.57619e-12     0.667191 -6.97121e-16 -2.33086e-12 -2.39772e-05 -7.14811e-08  -0.00908945  7.21379e-06 -9.38028e-15 -2.58935e-16  2.14252e-13  3.16623e-12   -0.0409784   2.8946e-05 -8.33301e-15          nan          nan          nan          nan          nan          nan          nan          nan          nan          nan          nan          nan\r\n",
      "  1.3964e-05    0.0175948 -2.20887e-12   3.5657e-14  1.08301e-05     0.013646 -1.00128e-15  2.29283e-15 -1.20791e-15 -7.08833e-16     0.667191  -2.6038e-16  7.14811e-08 -2.39772e-05  7.21379e-06   0.00908945 -3.38786e-12  4.35893e-13 -1.16988e-15 -1.08122e-14   2.8946e-05    0.0409784 -4.69453e-12          nan          nan          nan          nan          nan          nan          nan          nan          nan          nan          nan          nan\r\n",
      " 4.56977e-12 -2.69817e-15  3.28064e-05  3.28064e-05 -1.84655e-12  1.74901e-15   -0.0413364    0.0413364   0.00509591 -2.33086e-12 -2.60385e-16     0.792641 -2.29292e-12 -7.41189e-15 -3.34725e-12  2.86088e-15  4.57925e-05 -4.57925e-05   -0.0153604   -0.0153604  2.09944e-11 -1.11485e-14  4.32615e-05          nan          nan          nan          nan          nan          nan          nan          nan          nan          nan          nan          nan\r\n",
      "  -0.0390322 -8.53854e-05 -5.26044e-15 -4.92639e-15   0.00832837  1.82188e-05  7.57942e-12  -7.5057e-12  3.48527e-13 -2.39772e-05  7.14811e-08 -2.29292e-12     0.954094 -1.70534e-15    0.0128556  2.81224e-05 -2.57447e-14  2.53651e-14  8.37857e-12  7.44202e-12    0.0198873  4.52403e-05 -6.03395e-15          nan          nan          nan          nan          nan          nan          nan          nan          nan          nan          nan          nan\r\n",
      "-8.53854e-05    0.0390322  -3.1191e-13 -3.85601e-13  1.82188e-05  -0.00832837  2.49445e-14  -2.4568e-14  1.28538e-15 -7.14811e-08 -2.39772e-05 -7.41189e-15 -1.64114e-15     0.954094  2.81224e-05   -0.0128556  1.09944e-12 -1.62896e-13  2.70146e-14  2.66249e-14  4.52403e-05   -0.0198873 -4.92124e-13          nan          nan          nan          nan          nan          nan          nan          nan          nan          nan          nan          nan\r\n",
      "   0.0424178 -3.74955e-15 -5.61529e-15 -5.44208e-15   -0.0300841 -1.23179e-14  1.06775e-11 -6.42162e-12  3.26896e-12  -0.00908945  7.21379e-06 -3.34725e-12    0.0128556  2.81224e-05     0.972602  8.52719e-15 -6.90273e-15  8.67311e-15  3.17515e-12  2.15285e-12      0.02299  2.00636e-06 -1.30359e-14          nan          nan          nan          nan          nan          nan          nan          nan          nan          nan          nan          nan\r\n",
      "-3.79845e-15    0.0424178 -4.10469e-13  3.84537e-12 -1.22376e-14   -0.0300841 -5.20202e-15  4.97383e-15 -2.25397e-15  7.21379e-06   0.00908945  2.86087e-15  2.81224e-05   -0.0128556  8.50036e-15     0.972602 -2.94205e-13 -7.28115e-13 -3.45487e-16 -2.07098e-15 -2.00636e-06      0.02299 -4.53692e-13          nan          nan          nan          nan          nan          nan          nan          nan          nan          nan          nan          nan\r\n",
      " 1.08675e-14 -5.55034e-13   -0.0491924  -0.00194342 -3.56317e-15 -4.44174e-13 -0.000102385 -9.75312e-07 -1.43689e-05 -9.38027e-15 -3.38786e-12  4.57925e-05 -2.57446e-14  1.09944e-12 -6.90272e-15 -2.94205e-13      1.02072  -0.00208677 -0.000127169 -0.000127169  6.54503e-14 -8.48421e-14  -0.00474949          nan          nan          nan          nan          nan          nan          nan          nan          nan          nan          nan          nan\r\n",
      "-1.03877e-14  2.17434e-13   0.00194342    0.0491924  4.44269e-15  1.35061e-14 -9.75312e-07 -0.000102385  1.43689e-05 -2.58955e-16  4.35893e-13 -4.57925e-05  2.53651e-14 -1.62896e-13  8.67311e-15 -7.28115e-13  -0.00208677      1.02072  0.000127169  0.000127169  -6.5415e-14 -2.30001e-13   0.00474949          nan          nan          nan          nan          nan          nan          nan          nan          nan          nan          nan          nan\r\n",
      "-3.59864e-12  1.65056e-15 -3.26398e-05    -0.000136   1.4004e-12 -1.31989e-15    -0.013423    -0.033826   0.00481983  2.14252e-13 -1.16987e-15   -0.0153604  8.37857e-12  2.70146e-14  3.17515e-12  -3.4549e-16 -0.000127169  0.000127169      1.06337    0.0447431 -2.20648e-11  1.19232e-14  3.50706e-06          nan          nan          nan          nan          nan          nan          nan          nan          nan          nan          nan          nan\r\n",
      "-3.93617e-12  1.15224e-15    -0.000136 -3.26398e-05  9.69733e-13 -2.26514e-15     0.033826     0.013423   0.00481983  3.16623e-12 -1.08122e-14   -0.0153604  7.44202e-12   2.6625e-14  2.15285e-12 -2.07097e-15 -0.000127169  0.000127169    0.0447431      1.06337 -2.23837e-11  1.19271e-14  3.50706e-06          nan          nan          nan          nan          nan          nan          nan          nan          nan          nan          nan          nan\r\n",
      "  -0.0745352  6.50475e-06 -7.99255e-14 -8.15573e-14   -0.0700995  6.11765e-06  1.04287e-10 -1.03022e-10  5.13604e-11    0.0303573 -2.14436e-05  -1.7744e-11  -0.00921198 -2.09557e-05   -0.0362794  3.16613e-06 -5.32748e-14  5.48771e-14  1.81644e-11  1.76216e-11    -0.195077  3.31698e-14  1.88466e-13          nan          nan          nan          nan          nan          nan          nan          nan          nan          nan          nan          nan\r\n",
      "-6.50475e-06   -0.0745352 -3.48876e-12 -2.20611e-12 -6.11765e-06   -0.0700995 -5.80887e-14  5.99447e-14 -2.89169e-14 -2.14436e-05   -0.0303573  8.93029e-15 -2.09557e-05   0.00921198 -3.16613e-06   -0.0362794 -6.41119e-14  -4.8004e-13  -1.0329e-14 -1.18544e-14  3.32255e-14    -0.195077 -4.87934e-11          nan          nan          nan          nan          nan          nan          nan          nan          nan          nan          nan          nan\r\n",
      " 3.38718e-14 -5.99629e-12    0.0140673    0.0140673  1.07134e-14 -4.10407e-12 -0.000153235  0.000153235 -6.45621e-05 -1.85366e-14 -5.97259e-12  3.01059e-05 -2.25444e-15  1.50235e-12  2.24754e-15 -1.10926e-12  -0.00609673   0.00609673  1.72861e-05  1.72861e-05  4.71047e-13 -5.03362e-11     0.940106          nan          nan          nan          nan          nan          nan          nan          nan          nan          nan          nan          nan\r\n",
      "        -nan         -nan         -nan         -nan         -nan         -nan         -nan         -nan         -nan         -nan         -nan         -nan         -nan         -nan         -nan         -nan         -nan         -nan         -nan         -nan         -nan         -nan         -nan          nan          nan          nan          nan          nan          nan          nan          nan          nan          nan          nan          nan\r\n",
      "        -nan         -nan         -nan         -nan         -nan         -nan         -nan         -nan         -nan         -nan         -nan         -nan         -nan         -nan         -nan         -nan         -nan         -nan         -nan         -nan         -nan         -nan         -nan         -nan         -nan         -nan         -nan         -nan         -nan         -nan         -nan         -nan         -nan         -nan         -nan\r\n",
      "        -nan         -nan         -nan         -nan         -nan         -nan         -nan         -nan         -nan         -nan         -nan         -nan         -nan         -nan         -nan         -nan         -nan         -nan         -nan         -nan         -nan         -nan         -nan         -nan         -nan         -nan         -nan         -nan         -nan         -nan         -nan         -nan         -nan         -nan         -nan\r\n",
      "        -nan         -nan         -nan         -nan         -nan         -nan         -nan         -nan         -nan         -nan         -nan         -nan         -nan         -nan         -nan         -nan         -nan         -nan         -nan         -nan         -nan         -nan         -nan          nan          nan          nan          nan          nan          nan          nan          nan          nan          nan          nan          nan\r\n",
      "        -nan         -nan         -nan         -nan         -nan         -nan         -nan         -nan         -nan         -nan         -nan         -nan         -nan         -nan         -nan         -nan         -nan         -nan         -nan         -nan         -nan         -nan         -nan          nan          nan          nan          nan          nan          nan          nan          nan          nan          nan          nan          nan\r\n",
      "        -nan         -nan         -nan         -nan         -nan         -nan         -nan         -nan         -nan         -nan         -nan         -nan         -nan         -nan         -nan         -nan         -nan         -nan         -nan         -nan         -nan         -nan         -nan         -nan         -nan         -nan         -nan         -nan         -nan         -nan         -nan         -nan         -nan         -nan         -nan\r\n",
      "        -nan         -nan         -nan         -nan         -nan         -nan         -nan         -nan         -nan         -nan         -nan         -nan         -nan         -nan         -nan         -nan         -nan         -nan         -nan         -nan         -nan         -nan         -nan         -nan         -nan         -nan         -nan         -nan         -nan         -nan         -nan         -nan         -nan         -nan         -nan\r\n",
      "        -nan         -nan         -nan         -nan         -nan         -nan         -nan         -nan         -nan         -nan         -nan         -nan         -nan         -nan         -nan         -nan         -nan         -nan         -nan         -nan         -nan         -nan         -nan          nan          nan          nan          nan          nan          nan          nan          nan          nan          nan          nan          nan\r\n",
      "        -nan         -nan         -nan         -nan         -nan         -nan         -nan         -nan         -nan         -nan         -nan         -nan         -nan         -nan         -nan         -nan         -nan         -nan         -nan         -nan         -nan         -nan         -nan          nan          nan          nan          nan          nan          nan          nan          nan          nan          nan          nan          nan\r\n",
      "        -nan         -nan         -nan         -nan         -nan         -nan         -nan         -nan         -nan         -nan         -nan         -nan         -nan         -nan         -nan         -nan         -nan         -nan         -nan         -nan         -nan         -nan         -nan         -nan          nan          nan          nan         -nan          nan          nan          nan         -nan          nan          nan          nan\r\n",
      "        -nan         -nan         -nan         -nan         -nan         -nan         -nan         -nan         -nan         -nan         -nan         -nan         -nan         -nan         -nan         -nan         -nan         -nan         -nan         -nan         -nan         -nan         -nan         -nan          nan          nan          nan         -nan          nan          nan          nan         -nan          nan          nan          nan\r\n",
      "        -nan         -nan         -nan         -nan         -nan         -nan         -nan         -nan         -nan         -nan         -nan         -nan         -nan         -nan         -nan         -nan         -nan         -nan         -nan         -nan         -nan         -nan         -nan         -nan         -nan         -nan         -nan         -nan         -nan         -nan         -nan         -nan         -nan         -nan         -nan\r\n",
      "B\r\n",
      "   0.0901503 -2.03542e-15  7.97293e-15  8.79643e-15    0.0325949 -2.98114e-15 -9.86233e-12  1.03975e-11 -8.89821e-12   -0.0147607  1.17148e-05  3.29406e-12   -0.0480908 -0.000105202    0.0477326 -4.26488e-15  7.55187e-15 -6.47592e-15 -2.32689e-12 -2.93171e-12    0.0243816  2.12781e-06  3.62439e-14         -nan         -nan         -nan         -nan         -nan         -nan         -nan         -nan         -nan         -nan         -nan         -nan\r\n",
      "-2.04865e-15    0.0901503  8.55374e-13  1.39055e-12 -2.93509e-15    0.0325949  7.15525e-15 -7.96782e-15  6.02717e-15  1.17148e-05    0.0147607  -1.9235e-15 -0.000105202    0.0480908 -4.22327e-15    0.0477326 -9.02339e-13  2.97437e-13  5.72919e-16 -5.23527e-16 -2.12781e-06    0.0243816 -5.78726e-12         -nan         -nan         -nan         -nan         -nan         -nan         -nan         -nan         -nan         -nan         -nan         -nan\r\n",
      " 7.97297e-15  8.55374e-13    0.0988832  -0.00551467 -6.59704e-16  7.47334e-13 -8.95116e-05  8.95116e-05 -5.20185e-05 -1.06595e-14 -2.22659e-12  2.55046e-05 -6.54449e-15 -2.97517e-13 -6.01057e-15 -4.98988e-13   -0.0657348   0.00223414 -2.96539e-05 -0.000168566  1.62954e-14  -1.6529e-12    0.0406745         -nan         -nan         -nan         -nan         -nan         -nan         -nan         -nan         -nan         -nan         -nan         -nan\r\n",
      " 8.79644e-15  1.39055e-12  -0.00551467    0.0988832  5.50208e-16  2.50932e-13 -8.95116e-05  8.95116e-05 -5.20185e-05  -9.2861e-15  1.15837e-13  2.55046e-05 -6.03082e-15 -4.51457e-13 -5.84582e-15    4.742e-12  -0.00223414    0.0657348 -0.000168566 -2.96539e-05  1.67784e-14  2.98293e-13    0.0406745         -nan         -nan         -nan         -nan         -nan         -nan         -nan         -nan         -nan         -nan         -nan         -nan\r\n",
      "   0.0325949 -2.93238e-15 -6.59727e-16   5.5021e-16     0.236331  6.57749e-16 -5.39914e-13  4.35287e-14 -5.62061e-13   -0.0143743  1.14081e-05 -2.17705e-12   0.00952468  2.08358e-05   -0.0423454 -1.68744e-14 -5.21646e-15  6.91875e-15  2.19387e-12  1.41448e-12  -0.00354089 -3.09016e-07 -7.14451e-15         -nan         -nan         -nan         -nan         -nan         -nan         -nan         -nan         -nan         -nan         -nan         -nan\r\n",
      "-2.99724e-15    0.0325949  7.47334e-13  2.50932e-13  6.46177e-16     0.236331  -5.2897e-16 -6.33249e-16  6.11968e-17  1.14081e-05    0.0143743  1.94883e-15  2.08358e-05  -0.00952468 -1.69919e-14   -0.0423454 -7.77721e-13 -1.67037e-15  -1.8574e-15 -3.65232e-15  3.09016e-07  -0.00354089 -3.05229e-12         -nan         -nan         -nan         -nan         -nan         -nan         -nan         -nan         -nan         -nan         -nan         -nan\r\n",
      "-9.86233e-12  7.15525e-15 -8.95116e-05 -8.95116e-05 -5.39915e-13 -5.28983e-16     0.211669    -0.107271    0.0655439  1.16471e-11 -7.46001e-16   -0.0321361    9.216e-12  2.96926e-14  1.20822e-11 -5.59624e-15 -8.81442e-05 -5.07676e-05   -0.0345289    0.0289718 -1.28264e-11  1.26324e-14  -0.00035074         -nan         -nan         -nan         -nan         -nan         -nan         -nan         -nan         -nan         -nan         -nan         -nan\r\n",
      " 1.03975e-11 -7.96778e-15  8.95116e-05  8.95116e-05  4.35287e-14 -6.33228e-16    -0.107271     0.211669   -0.0655439 -1.39896e-11  2.12786e-15    0.0321361 -9.06202e-12 -2.91266e-14  -6.8412e-12  5.36068e-15 -5.07676e-05 -8.81442e-05   -0.0289718    0.0345289  1.47639e-11 -1.25818e-14   0.00035074         -nan         -nan         -nan         -nan         -nan         -nan         -nan         -nan         -nan         -nan         -nan         -nan\r\n",
      "-8.89821e-12  6.02738e-15 -5.20185e-05 -5.20185e-05 -5.62061e-13  6.12069e-17    0.0655439   -0.0655439     0.423732  9.92595e-12 -1.43303e-15    0.0111903  3.58413e-13  1.10794e-15  4.01305e-12 -2.76177e-15 -2.07766e-06  2.07766e-06  0.000696917  0.000696917 -1.32666e-11  1.03519e-14 -0.000171427         -nan         -nan         -nan         -nan         -nan         -nan         -nan         -nan         -nan         -nan         -nan         -nan\r\n",
      "  -0.0147607  1.17148e-05 -1.06596e-14 -9.28589e-15   -0.0143743  1.14081e-05  1.16471e-11 -1.39896e-11  9.92595e-12     0.445598 -8.55739e-16 -2.20235e-12  0.000472791  1.40949e-06   -0.0108238  8.59024e-06 -1.07123e-14 -5.47686e-15 -1.33376e-12  3.61702e-12   -0.0177641  1.25481e-05 -2.82028e-14         -nan         -nan         -nan         -nan         -nan         -nan         -nan         -nan         -nan         -nan         -nan         -nan\r\n",
      " 1.17148e-05    0.0147607 -2.22659e-12  1.15837e-13  1.14081e-05    0.0143743 -7.46033e-16  2.12813e-15 -1.43294e-15 -8.74124e-16     0.445598 -4.34551e-16 -1.40949e-06  0.000472791  8.59024e-06    0.0108238 -5.63019e-12  6.79434e-13 -1.76437e-15 -1.79592e-14  1.25481e-05    0.0177641  -8.4547e-12         -nan         -nan         -nan         -nan         -nan         -nan         -nan         -nan         -nan         -nan         -nan         -nan\r\n",
      " 3.29406e-12 -1.92348e-15  2.55046e-05  2.55046e-05 -2.17705e-12  1.94912e-15   -0.0321361    0.0321361    0.0111903 -2.20235e-12 -4.34568e-16     0.626438  -3.5416e-12  -1.1306e-14 -5.04632e-12  4.32753e-15  6.55592e-05 -6.55592e-05   -0.0219908   -0.0219908  2.73845e-12 -2.11382e-15  8.25527e-05         -nan         -nan         -nan         -nan         -nan         -nan         -nan         -nan         -nan         -nan         -nan         -nan\r\n",
      "  -0.0480908 -0.000105202 -6.54447e-15 -6.03082e-15   0.00952468  2.08358e-05    9.216e-12 -9.06202e-12  3.58413e-13  0.000472791 -1.40949e-06  -3.5416e-12     0.912633 -2.54604e-15    0.0215008  4.70344e-05 -4.82344e-14  4.75064e-14  1.56807e-11  1.37868e-11    0.0226787  5.15904e-05 -1.32075e-14         -nan         -nan         -nan         -nan         -nan         -nan         -nan         -nan         -nan         -nan         -nan         -nan\r\n",
      "-0.000105202    0.0480908 -2.97517e-13 -4.51457e-13  2.08358e-05  -0.00952468  2.96926e-14 -2.91266e-14   1.1079e-15  1.40949e-06  0.000472791  -1.1306e-14 -2.42728e-15     0.912633  4.70344e-05   -0.0215008  2.21064e-12 -3.16829e-13  5.04074e-14  4.96596e-14  5.15904e-05   -0.0226787  1.04191e-12         -nan         -nan         -nan         -nan         -nan         -nan         -nan         -nan         -nan         -nan         -nan         -nan\r\n",
      "   0.0477326 -4.23502e-15 -6.01014e-15 -5.84581e-15   -0.0423454 -1.70185e-14  1.20822e-11  -6.8412e-12  4.01305e-12   -0.0108238  8.59024e-06 -5.04632e-12    0.0215008  4.70344e-05     0.950071   1.6273e-14 -1.20522e-14  1.52856e-14  5.57443e-12  3.69661e-12  -0.00314125  -2.7414e-07 -1.73549e-14         -nan         -nan         -nan         -nan         -nan         -nan         -nan         -nan         -nan         -nan         -nan         -nan\r\n",
      "-4.28839e-15    0.0477326 -4.98988e-13    4.742e-12 -1.69167e-14   -0.0423454 -5.59633e-15  5.36139e-15 -2.76181e-15  8.59024e-06    0.0108238  4.32755e-15  4.70344e-05   -0.0215008  1.62244e-14     0.950071 -6.89708e-13 -1.18815e-12 -8.98836e-16 -4.04616e-15   2.7414e-07  -0.00314125 -2.13855e-12         -nan         -nan         -nan         -nan         -nan         -nan         -nan         -nan         -nan         -nan         -nan         -nan\r\n",
      " 7.55185e-15 -9.02339e-13   -0.0657348  -0.00223414 -5.21646e-15 -7.77721e-13 -8.81442e-05 -5.07676e-05 -2.07766e-06 -1.07123e-14 -5.63019e-12  6.55592e-05 -4.82342e-14  2.21064e-12 -1.20522e-14 -6.89708e-13      1.04427  -0.00439944 -0.000235869 -0.000235869   1.9582e-14 -4.62599e-13   -0.0159198         -nan         -nan         -nan         -nan         -nan         -nan         -nan         -nan         -nan         -nan         -nan         -nan\r\n",
      "-6.47591e-15  2.97437e-13   0.00223414    0.0657348  6.91875e-15 -1.67038e-15 -5.07676e-05 -8.81442e-05  2.07766e-06  -5.4769e-15  6.79434e-13 -6.55592e-05  4.75064e-14 -3.16829e-13  1.52856e-14 -1.18815e-12  -0.00439944      1.04427  0.000235869  0.000235869 -1.72247e-14 -8.94492e-13    0.0159198         -nan         -nan         -nan         -nan         -nan         -nan         -nan         -nan         -nan         -nan         -nan         -nan\r\n",
      "-2.32689e-12  5.72912e-16 -2.96539e-05 -0.000168566  2.19387e-12  -1.8574e-15   -0.0345289   -0.0289718  0.000696917 -1.33376e-12 -1.76435e-15   -0.0219908  1.56807e-11  5.04073e-14  5.57443e-12 -8.98825e-16 -0.000235869  0.000235869      1.12339    0.0835171 -6.46495e-12  3.11182e-15  3.24386e-05         -nan         -nan         -nan         -nan         -nan         -nan         -nan         -nan         -nan         -nan         -nan         -nan\r\n",
      "-2.93171e-12 -5.23513e-16 -0.000168566 -2.96539e-05  1.41448e-12 -3.65232e-15    0.0289718    0.0345289  0.000696917  3.61702e-12 -1.79592e-14   -0.0219908  1.37868e-11  4.96598e-14  3.69661e-12 -4.04618e-15 -0.000235869  0.000235869    0.0835171      1.12339 -7.82601e-12  8.47461e-16  3.24386e-05         -nan         -nan         -nan         -nan         -nan         -nan         -nan         -nan         -nan         -nan         -nan         -nan\r\n",
      "   0.0558853 -4.87716e-06  6.97452e-14  7.05305e-14  -0.00253709  2.21414e-07 -8.09899e-11  8.25594e-11 -1.27422e-11   -0.0110902  7.83381e-06  3.12441e-12    0.0177228  4.03164e-05   -0.0178963  1.56183e-06 -1.04394e-14  1.22997e-14  3.67048e-12  2.59863e-12     0.582693  4.31028e-14  3.95173e-13         -nan         -nan         -nan         -nan         -nan         -nan         -nan         -nan         -nan         -nan         -nan         -nan\r\n",
      " 4.87716e-06    0.0558853 -9.27459e-13  6.48036e-13 -2.21414e-07  -0.00253709   4.8826e-14 -4.93584e-14  9.16175e-15  7.83381e-06    0.0110902  -2.2612e-15  4.03164e-05   -0.0177228 -1.56183e-06   -0.0178963 -5.23215e-15 -1.06215e-12 -2.11781e-15 -3.72986e-15  4.30311e-14     0.582693   -5.822e-11         -nan         -nan         -nan         -nan         -nan         -nan         -nan         -nan         -nan         -nan         -nan         -nan\r\n",
      " 2.60853e-14 -5.48836e-12     0.041121     0.041121 -8.20207e-15 -3.67314e-12 -0.000318285  0.000318285 -0.000154455 -2.60629e-14 -9.75787e-12  7.44205e-05 -1.11044e-14  1.51135e-12 -1.22671e-14  -3.0729e-12   -0.0168222    0.0168222  3.43709e-05  3.43709e-05  6.53947e-13 -6.13957e-11       1.9421         -nan         -nan         -nan         -nan         -nan         -nan         -nan         -nan         -nan         -nan         -nan         -nan\r\n",
      "        -nan         -nan         -nan         -nan         -nan         -nan         -nan         -nan         -nan         -nan         -nan         -nan         -nan         -nan         -nan         -nan         -nan         -nan         -nan         -nan         -nan         -nan         -nan         -nan         -nan         -nan         -nan         -nan         -nan         -nan         -nan         -nan         -nan         -nan         -nan\r\n",
      "        -nan         -nan         -nan         -nan         -nan         -nan         -nan         -nan         -nan         -nan         -nan         -nan         -nan         -nan         -nan         -nan         -nan         -nan         -nan         -nan         -nan         -nan         -nan         -nan         -nan         -nan         -nan         -nan         -nan         -nan         -nan         -nan         -nan         -nan         -nan\r\n",
      "        -nan         -nan         -nan         -nan         -nan         -nan         -nan         -nan         -nan         -nan         -nan         -nan         -nan         -nan         -nan         -nan         -nan         -nan         -nan         -nan         -nan         -nan         -nan         -nan         -nan         -nan         -nan         -nan         -nan         -nan         -nan         -nan         -nan         -nan         -nan\r\n",
      "        -nan         -nan         -nan         -nan         -nan         -nan         -nan         -nan         -nan         -nan         -nan         -nan         -nan         -nan         -nan         -nan         -nan         -nan         -nan         -nan         -nan         -nan         -nan         -nan         -nan         -nan         -nan         -nan         -nan         -nan         -nan         -nan         -nan         -nan         -nan\r\n",
      "        -nan         -nan         -nan         -nan         -nan         -nan         -nan         -nan         -nan         -nan         -nan         -nan         -nan         -nan         -nan         -nan         -nan         -nan         -nan         -nan         -nan         -nan         -nan         -nan         -nan         -nan         -nan         -nan         -nan         -nan         -nan         -nan         -nan         -nan         -nan\r\n",
      "        -nan         -nan         -nan         -nan         -nan         -nan         -nan         -nan         -nan         -nan         -nan         -nan         -nan         -nan         -nan         -nan         -nan         -nan         -nan         -nan         -nan         -nan         -nan         -nan         -nan         -nan         -nan         -nan         -nan         -nan         -nan         -nan         -nan         -nan         -nan\r\n",
      "        -nan         -nan         -nan         -nan         -nan         -nan         -nan         -nan         -nan         -nan         -nan         -nan         -nan         -nan         -nan         -nan         -nan         -nan         -nan         -nan         -nan         -nan         -nan         -nan         -nan         -nan         -nan         -nan         -nan         -nan         -nan         -nan         -nan         -nan         -nan\r\n",
      "        -nan         -nan         -nan         -nan         -nan         -nan         -nan         -nan         -nan         -nan         -nan         -nan         -nan         -nan         -nan         -nan         -nan         -nan         -nan         -nan         -nan         -nan         -nan         -nan         -nan         -nan         -nan         -nan         -nan         -nan         -nan         -nan         -nan         -nan         -nan\r\n",
      "        -nan         -nan         -nan         -nan         -nan         -nan         -nan         -nan         -nan         -nan         -nan         -nan         -nan         -nan         -nan         -nan         -nan         -nan         -nan         -nan         -nan         -nan         -nan         -nan         -nan         -nan         -nan         -nan         -nan         -nan         -nan         -nan         -nan         -nan         -nan\r\n",
      "        -nan         -nan         -nan         -nan         -nan         -nan         -nan         -nan         -nan         -nan         -nan         -nan         -nan         -nan         -nan         -nan         -nan         -nan         -nan         -nan         -nan         -nan         -nan         -nan         -nan         -nan         -nan         -nan         -nan         -nan         -nan         -nan         -nan         -nan         -nan\r\n",
      "        -nan         -nan         -nan         -nan         -nan         -nan         -nan         -nan         -nan         -nan         -nan         -nan         -nan         -nan         -nan         -nan         -nan         -nan         -nan         -nan         -nan         -nan         -nan         -nan         -nan         -nan         -nan         -nan         -nan         -nan         -nan         -nan         -nan         -nan         -nan\r\n",
      "        -nan         -nan         -nan         -nan         -nan         -nan         -nan         -nan         -nan         -nan         -nan         -nan         -nan         -nan         -nan         -nan         -nan         -nan         -nan         -nan         -nan         -nan         -nan          nan          nan          nan          nan          nan          nan          nan          nan          nan          nan          nan          nan\r\n",
      "an error occurred:\r\n",
      "Small generalized eigenvalue problem failed.\r\n"
     ]
    }
   ],
   "source": [
    "!xtp_tools -c job_name=CO geometry_optimization.maxiter=1 dftpackage.basisset=3-21G dftpackage.auxbasisset=aux-def2-svp gwbse.gw.mode=G0W0 -e dftgwbse -t 4"
   ]
  },
  {
   "cell_type": "markdown",
   "metadata": {},
   "source": [
    "Notice that we are using 4 threads. The results will be stored in a file named `CO_summary.xml` in the current work directory, together with the optimization step in `optimisation.trj` and the orbitals in [hdf5 format](https://www.hdfgroup.org/solutions/hdf5/) saved on `CO.orb`."
   ]
  }
 ],
 "metadata": {
  "kernelspec": {
   "display_name": "Python 3",
   "language": "python",
   "name": "python3"
  },
  "language_info": {
   "codemirror_mode": {
    "name": "ipython",
    "version": 3
   },
   "file_extension": ".py",
   "mimetype": "text/x-python",
   "name": "python",
   "nbconvert_exporter": "python",
   "pygments_lexer": "ipython3",
   "version": "3.9.6"
  }
 },
 "nbformat": 4,
 "nbformat_minor": 4
}
