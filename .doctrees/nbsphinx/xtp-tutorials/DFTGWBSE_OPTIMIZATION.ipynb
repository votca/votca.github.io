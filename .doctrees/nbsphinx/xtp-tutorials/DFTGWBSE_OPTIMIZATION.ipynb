{
 "cells": [
  {
   "cell_type": "markdown",
   "metadata": {},
   "source": [
    "## DFT + GWBSE Optimization Using CO"
   ]
  },
  {
   "cell_type": "markdown",
   "metadata": {},
   "source": [
    "## Introduction\n",
    "This tutorial explains how to perform a molecular geometric optimization using the **GWBSE** method. See [the GW Compendium: A Practical Guide to Theoretical Photoemission Spectroscopy](https://doi.org/10.3389/fchem.2019.00377), for an excellent introduction to the method."
   ]
  },
  {
   "cell_type": "markdown",
   "metadata": {},
   "source": [
    "## Requirements\n",
    "* You will need to install **VOTCA** using the instructions described [here](https://github.com/votca/votca/blob/master/share/doc/INSTALL.rst)\n",
    "* Once the installation is completed you need to activate the VOTCA enviroment by running the `VOTCARC.bash` script that has been installed at the bin subfolder for the path that you have provided for the installation step above"
   ]
  },
  {
   "cell_type": "markdown",
   "metadata": {},
   "source": [
    "## Preparing the input\n",
    "To run a DFT-GWBSE calculation we will use the [xtp_tools](https://www.votca.org/xtp/xtp_tools_overview.html) calculator."
   ]
  },
  {
   "cell_type": "markdown",
   "metadata": {},
   "source": [
    "we can now change the calculator mode from single point energy calculation to optimization as follows by adding \n",
    "`-c geometry_optimization.maxiter=1` which enables optimization with one iteration. "
   ]
  },
  {
   "cell_type": "markdown",
   "metadata": {},
   "source": [
    "Because geometry optimsation is quite expensive numerically we chose a smaller basisset and G0W0 Finally, to run the calculation we just need the following command (This still takes a while)"
   ]
  },
  {
   "cell_type": "code",
   "execution_count": 1,
   "metadata": {
    "execution": {
     "iopub.execute_input": "2021-08-11T13:24:13.203836Z",
     "iopub.status.busy": "2021-08-11T13:24:13.203305Z",
     "iopub.status.idle": "2021-08-11T13:24:48.480592Z",
     "shell.execute_reply": "2021-08-11T13:24:48.479973Z"
    }
   },
   "outputs": [
    {
     "name": "stdout",
     "output_type": "stream",
     "text": [
      "==================================================\r\n",
      "========   VOTCA (http://www.votca.org)   ========\r\n",
      "==================================================\r\n",
      "\r\n",
      "please submit bugs to https://github.com/votca/xtp/issues\r\n",
      "\r\n",
      "xtp_tools, version 2022-dev gitid: 51b47b6 (compiled Aug 11 2021, 13:16:24)\r\n",
      "votca_csg, version 2022-dev gitid: 51b47b6 (compiled Aug 11 2021, 13:02:51)\r\n",
      "votca_tools, version 2022-dev gitid: 51b47b6 (compiled Aug 11 2021, 13:00:27)\r\n",
      "\r\n",
      "Initializing tool\r\n",
      "... dftgwbse Evaluating tool\r\n",
      "... dftgwbse  Using 4 threads\r\n",
      "... ... Reading structure from CO.xyz\r\n",
      "... ... Requested geometry optimization of excited state s1\r\n",
      "... ... Initial state: s1\r\n",
      "... ... WARNING: No tracker is used \r\n",
      "... ... Convergence of total energy: 0.000001 Hartree \r\n",
      "... ... Convergence of RMS Force:    0.000030 Hartree/Bohr \r\n",
      "... ... Convergence of Max Force:    0.000100 Hartree/Bohr \r\n",
      "... ... Convergence of RMS Step:     0.000600 Bohr \r\n",
      "... ... Convergence of Max Step:     0.001000 Bohr \r\n",
      "... ... Initial trust radius:        0.018897 Bohr\r\n",
      "... ... \r\n",
      "... ... =========== OPTIMIZATION SUMMARY ================================= \r\n",
      "... ... At iteration  0\r\n",
      "... ...  ---- POSITIONS (Angstrom)   \r\n",
      "... ...  Atom\t x\t  y\t  z \r\n",
      "... ...    0    +0.0000  +0.0000  +0.0000\r\n",
      "... ...    1    +1.2000  +0.0000  +0.0000\r\n",
      "... ...    Total energy:     -112.26831841 Hartree \r\n",
      "... ...    Trust radius:       0.01889726 Bohr     \r\n",
      "... ...  ---- FORCES (Hartree/Bohr)   \r\n",
      "... ...       central differences   \r\n",
      "... ...       displacement 0.0010 Angstrom   \r\n",
      "... ...  Atom\t x\t  y\t  z \r\n",
      "... ...    0    -0.1314  -0.0000  -0.0000\r\n",
      "... ...    1    +0.1314  +0.0000  +0.0000A\r\n",
      "    0.301149  2.64885e-13 -4.09904e-13  2.36945e-12 -1.89925e-13   -0.0519724 -1.04383e-12 -1.04109e-12 -3.01141e-13     -0.01756   -0.0016336 -1.77985e-13   -0.0043498    0.0387857 -1.49474e-13   -0.0423984  -2.1349e-13  1.56346e-13 -1.75235e-13  1.34835e-13   0.00171005    -0.107084 -1.00716e-12  6.74419e-13          nan          nan          nan          nan          nan          nan          nan          nan          nan          nan          nan\r\n",
      " 2.64928e-13     0.301149  1.03037e-12  -1.0276e-12   -0.0519724 -1.89942e-13 -8.57178e-12 -1.05313e-11 -3.18502e-12    0.0016336     -0.01756 -1.88194e-12   -0.0387857   -0.0043498   -0.0423984 -1.49462e-13 -8.40534e-15 -4.88293e-14 -1.82661e-12   1.4568e-12    -0.107084  -0.00171005  1.69905e-13  3.32109e-13          nan          nan          nan          nan          nan          nan          nan          nan          nan          nan          nan\r\n",
      "-4.09904e-13  1.03037e-12     0.312137   0.00809701   4.7624e-13 -2.85544e-13   -0.0213602   -0.0213602  -0.00843003 -1.89463e-14 -3.92435e-13  -0.00380003  5.30467e-13  9.36502e-14  9.34157e-14  3.18294e-14    -0.048971  -0.00200124   -0.0031032  -0.00216445 -3.41531e-12 -4.34204e-13    0.0251778    0.0206097          nan          nan          nan          nan          nan          nan          nan          nan          nan          nan          nan\r\n",
      " 2.36945e-12  -1.0276e-12   0.00809701     0.312137 -4.79897e-13 -2.28468e-12    0.0213602    0.0213602   0.00843003 -7.41854e-13  3.20574e-13   0.00380003 -5.19832e-13 -1.87789e-13 -9.75537e-14  -2.4002e-12   0.00200124     0.048971  -0.00216445   -0.0031032  3.46677e-12 -3.11894e-12   -0.0251778    0.0206097          nan          nan          nan          nan          nan          nan          nan          nan          nan          nan          nan\r\n",
      "-1.89928e-13   -0.0519724   4.7624e-13 -4.79897e-13     0.486835  4.94764e-14 -7.39023e-12 -4.82005e-12   -3.317e-12  -0.00126299    0.0135762 -1.07535e-12  -0.00825431 -0.000925718   -0.0301449  5.46638e-13 -3.74282e-14 -1.93829e-15 -2.82499e-13  6.07463e-13    0.0549869  0.000878095   2.0522e-13  3.97154e-14          nan          nan          nan          nan          nan          nan          nan          nan          nan          nan          nan\r\n",
      "  -0.0519724 -1.89944e-13 -2.85544e-13 -2.28468e-12  4.94363e-14     0.486835 -4.89744e-13 -4.93359e-13 -3.15261e-13    0.0135762   0.00126299 -1.02319e-13 -0.000925718   0.00825431  5.46628e-13   -0.0301449  2.79766e-13 -4.51763e-14 -2.69485e-14  6.23759e-14 -0.000878095    0.0549869  4.16458e-14 -3.11628e-15          nan          nan          nan          nan          nan          nan          nan          nan          nan          nan          nan\r\n",
      "-1.04383e-12 -8.57178e-12   -0.0213602    0.0213602 -7.39023e-12 -4.89744e-13     0.539755     0.219522    0.0906163  7.65319e-14  3.44602e-12    0.0408475 -5.62325e-12 -7.72621e-14  -3.4391e-12 -9.97645e-14  0.000458023  -0.00480962   -0.0132143   -0.0337554  3.31185e-11  3.87574e-12  -0.00295783   0.00713714          nan          nan          nan          nan          nan          nan          nan          nan          nan          nan          nan\r\n",
      "-1.04109e-12 -1.05313e-11   -0.0213602    0.0213602 -4.82005e-12 -4.93358e-13     0.219522     0.539755    0.0906163  4.64889e-15  4.20683e-12    0.0408475 -5.71744e-12 -8.78986e-14 -1.07073e-12 -1.03942e-13  -0.00480962  0.000458023    0.0337554    0.0132143  3.65882e-11  3.92586e-12  -0.00295783  -0.00713714          nan          nan          nan          nan          nan          nan          nan          nan          nan          nan          nan\r\n",
      "-3.01141e-13 -3.18502e-12  -0.00843003   0.00843003   -3.317e-12 -3.15261e-13    0.0906163    0.0906163     0.659928  3.80501e-15  2.41029e-12  -0.00518522 -2.96604e-13 -4.85793e-15 -1.34127e-12 -1.27211e-13  9.02648e-05  9.02648e-05   0.00477025  -0.00477025  9.71867e-12   1.0285e-12  -0.00209381 -1.11784e-11          nan          nan          nan          nan          nan          nan          nan          nan          nan          nan          nan\r\n",
      "    -0.01756    0.0016336 -1.89464e-14 -7.41854e-13  -0.00126299    0.0135762  7.65318e-14  4.64911e-15  3.80497e-15     0.668107 -2.93977e-15  4.19935e-16 -3.19948e-07  1.69084e-05 -0.000839236   0.00902115  1.65125e-12 -2.24519e-13  5.30124e-15  2.58221e-14   -0.0044474    0.0407416  3.15624e-12  9.90256e-13          nan          nan          nan          nan          nan          nan          nan          nan          nan          nan          nan\r\n",
      "  -0.0016336     -0.01756 -3.92435e-13  3.20574e-13    0.0135762   0.00126299  3.44602e-12  4.20683e-12  2.41029e-12 -2.93393e-15     0.668107  8.43761e-14 -1.69084e-05 -3.19948e-07   0.00902115  0.000839236  1.21868e-14  4.33324e-14   2.4971e-12 -6.21321e-13    0.0407416    0.0044474 -3.84731e-14  5.73021e-13          nan          nan          nan          nan          nan          nan          nan          nan          nan          nan          nan\r\n",
      "-1.77985e-13 -1.88194e-12  -0.00380003   0.00380003 -1.07535e-12 -1.02319e-13    0.0408475    0.0408475  -0.00518522   4.1991e-16  8.43761e-14     0.793012 -1.50198e-12 -2.53885e-14  2.66859e-13  2.50946e-14  0.000289541  0.000289541    0.0153014   -0.0153014  5.51516e-12  5.90684e-13  -0.00087931 -4.31526e-12          nan          nan          nan          nan          nan          nan          nan          nan          nan          nan          nan\r\n",
      "  -0.0043498   -0.0387857  5.30467e-13 -5.19832e-13  -0.00825431 -0.000925718 -5.62325e-12 -5.71744e-12 -2.96604e-13 -3.19948e-07 -1.69084e-05 -1.50198e-12     0.954263 -1.45381e-14   -0.0127949  -0.00143494 -4.61325e-14 -4.71921e-14 -2.16176e-12  2.83903e-12   -0.0197344  -0.00253289   9.4218e-14  3.42311e-13          nan          nan          nan          nan          nan          nan          nan          nan          nan          nan          nan\r\n",
      "   0.0387857   -0.0043498  9.36502e-14 -1.87789e-13 -0.000925718   0.00825431 -7.72621e-14 -8.78986e-14 -4.85796e-15  1.69084e-05 -3.19948e-07 -2.53885e-14 -1.45123e-14     0.954263  -0.00143494    0.0127949 -3.81081e-13  2.96177e-13 -4.04038e-14  4.14746e-14  -0.00253289    0.0197344  3.12993e-13 -5.64296e-13          nan          nan          nan          nan          nan          nan          nan          nan          nan          nan          nan\r\n",
      "-1.49461e-13   -0.0423984  9.34157e-14 -9.75537e-14   -0.0301449  5.46617e-13  -3.4391e-12 -1.07073e-12 -1.34127e-12 -0.000839236   0.00902115  2.66859e-13   -0.0127949  -0.00143494     0.973646 -2.90111e-13  5.63989e-14 -8.28271e-14 -1.09404e-12 -1.67847e-13    0.0229476  0.000366453  1.29737e-13   3.2308e-14          nan          nan          nan          nan          nan          nan          nan          nan          nan          nan          nan\r\n",
      "  -0.0423984 -1.49455e-13  3.18293e-14  -2.4002e-12  5.46621e-13   -0.0301449 -9.97644e-14 -1.03942e-13 -1.27211e-13   0.00902115  0.000839236  2.50946e-14  -0.00143494    0.0127949  -2.9015e-13     0.973646 -5.83382e-13  6.78527e-13 -1.14609e-13 -2.45994e-14 -0.000366453    0.0229476 -7.32766e-13  6.49341e-14          nan          nan          nan          nan          nan          nan          nan          nan          nan          nan          nan\r\n",
      " -2.1349e-13 -8.40534e-15    -0.048971   0.00200124 -3.74282e-14  2.79766e-13  0.000458023  -0.00480962  9.02648e-05  1.65125e-12  1.21868e-14  0.000289541 -4.61326e-14 -3.81081e-13  5.63989e-14 -5.83382e-13      1.02127   0.00210055  0.000807901 -0.000807901  1.22101e-13 -1.58719e-13  -0.00477333 -5.92888e-06          nan          nan          nan          nan          nan          nan          nan          nan          nan          nan          nan\r\n",
      " 1.56346e-13 -4.88293e-14  -0.00200124     0.048971 -1.93829e-15 -4.51763e-14  -0.00480962  0.000458023  9.02648e-05 -2.24519e-13  4.33324e-14  0.000289541 -4.71921e-14  2.96177e-13 -8.28271e-14  6.78527e-13   0.00210055      1.02127  0.000807901 -0.000807901  6.86195e-14  2.71131e-13  -0.00477333  5.92888e-06          nan          nan          nan          nan          nan          nan          nan          nan          nan          nan          nan\r\n",
      "-1.75235e-13 -1.82661e-12   -0.0031032  -0.00216445 -2.82499e-13 -2.69485e-14   -0.0132143    0.0337554   0.00477025  5.30124e-15   2.4971e-12    0.0153014 -2.16176e-12 -4.04038e-14 -1.09404e-12 -1.14609e-13  0.000807901  0.000807901      1.06395   -0.0447807  5.14514e-12  5.47085e-13 -0.000724006 -0.000145518          nan          nan          nan          nan          nan          nan          nan          nan          nan          nan          nan\r\n",
      " 1.34835e-13   1.4568e-12  -0.00216445   -0.0031032  6.07463e-13  6.23759e-14   -0.0337554    0.0132143  -0.00477025  2.58221e-14 -6.21321e-13   -0.0153014  2.83903e-12  4.14745e-14 -1.67847e-13 -2.45994e-14 -0.000807901 -0.000807901   -0.0447807      1.06395 -5.56407e-12 -6.01979e-13  0.000724006 -0.000145518          nan          nan          nan          nan          nan          nan          nan          nan          nan          nan          nan\r\n",
      " -0.00119093    0.0745766  1.74407e-12 -1.77995e-12   -0.0700204   0.00111817 -1.56728e-11 -1.81047e-11  -6.3213e-12   0.00329889   -0.0302203  -4.1115e-12   0.00912363   0.00117101   -0.0362841  0.000579427 -6.42961e-14 -1.03904e-13 -3.20106e-12  2.88491e-12    -0.195058 -1.77476e-12  1.77681e-12 -1.63649e-12          nan          nan          nan          nan          nan          nan          nan          nan          nan          nan          nan\r\n",
      "   0.0745766   0.00119093 -1.96516e-13  2.70585e-12  -0.00111817   -0.0700204 -1.89034e-12 -1.92602e-12 -6.53814e-13   -0.0302203  -0.00329889 -4.35829e-13   0.00117101  -0.00912363 -0.000579427   -0.0362841   8.8874e-14  3.92239e-13 -3.43138e-13  3.04786e-13 -1.77473e-12    -0.195058 -1.14794e-11 -3.17579e-12          nan          nan          nan          nan          nan          nan          nan          nan          nan          nan          nan\r\n",
      " 4.27524e-13 -1.68342e-13    0.0135788   -0.0135788 -2.28305e-13 -7.59673e-14    0.0067453    0.0067453   0.00216551  2.42907e-12  4.44317e-14  0.000912204 -1.17876e-13 -1.41002e-14  1.14856e-13 -2.04296e-12  -0.00609345  -0.00609345  0.000905635 -0.000905635  2.18077e-12 -1.07602e-11     0.946302 -6.61618e-11          nan          nan          nan          nan          nan          nan          nan          nan          nan          nan          nan\r\n",
      " 9.13842e-14  4.24958e-14  -0.00685205  -0.00685205  8.64548e-13  2.06374e-12  -0.00179755   0.00179755  8.33302e-12  1.66528e-12   9.1955e-13  2.92681e-12  3.28282e-13 -5.77359e-13  7.56189e-14  1.01232e-13  -0.00403042   0.00403042  -0.00196563  -0.00196563 -2.20642e-12 -4.42716e-12 -6.67246e-11    0.0552728          nan          nan          nan          nan          nan          nan          nan          nan          nan          nan          nan\r\n",
      "        -nan         -nan         -nan         -nan         -nan         -nan         -nan         -nan         -nan         -nan         -nan         -nan         -nan         -nan         -nan         -nan         -nan         -nan         -nan         -nan         -nan         -nan         -nan         -nan         -nan         -nan         -nan         -nan         -nan         -nan         -nan         -nan         -nan         -nan         -nan\r\n",
      "        -nan         -nan         -nan         -nan         -nan         -nan         -nan         -nan         -nan         -nan         -nan         -nan         -nan         -nan         -nan         -nan         -nan         -nan         -nan         -nan         -nan         -nan         -nan         -nan         -nan         -nan         -nan         -nan         -nan         -nan         -nan         -nan         -nan         -nan         -nan\r\n",
      "        -nan         -nan         -nan         -nan         -nan         -nan         -nan         -nan         -nan         -nan         -nan         -nan         -nan         -nan         -nan         -nan         -nan         -nan         -nan         -nan         -nan         -nan         -nan         -nan          nan          nan          nan          nan          nan          nan          nan          nan          nan          nan          nan\r\n",
      "        -nan         -nan         -nan         -nan         -nan         -nan         -nan         -nan         -nan         -nan         -nan         -nan         -nan         -nan         -nan         -nan         -nan         -nan         -nan         -nan         -nan         -nan         -nan         -nan          nan          nan          nan          nan          nan          nan          nan          nan          nan          nan          nan\r\n",
      "        -nan         -nan         -nan         -nan         -nan         -nan         -nan         -nan         -nan         -nan         -nan         -nan         -nan         -nan         -nan         -nan         -nan         -nan         -nan         -nan         -nan         -nan         -nan         -nan         -nan         -nan         -nan         -nan         -nan         -nan         -nan         -nan         -nan         -nan         -nan\r\n",
      "        -nan         -nan         -nan         -nan         -nan         -nan         -nan         -nan         -nan         -nan         -nan         -nan         -nan         -nan         -nan         -nan         -nan         -nan         -nan         -nan         -nan         -nan         -nan         -nan         -nan         -nan         -nan         -nan         -nan         -nan         -nan         -nan         -nan         -nan         -nan\r\n",
      "        -nan         -nan         -nan         -nan         -nan         -nan         -nan         -nan         -nan         -nan         -nan         -nan         -nan         -nan         -nan         -nan         -nan         -nan         -nan         -nan         -nan         -nan         -nan         -nan          nan          nan          nan          nan          nan          nan          nan          nan          nan          nan          nan\r\n",
      "        -nan         -nan         -nan         -nan         -nan         -nan         -nan         -nan         -nan         -nan         -nan         -nan         -nan         -nan         -nan         -nan         -nan         -nan         -nan         -nan         -nan         -nan         -nan         -nan          nan          nan          nan          nan          nan          nan          nan          nan          nan          nan          nan\r\n",
      "        -nan         -nan         -nan         -nan         -nan         -nan         -nan         -nan         -nan         -nan         -nan         -nan         -nan         -nan         -nan         -nan         -nan         -nan         -nan         -nan         -nan         -nan         -nan         -nan          nan          nan          nan         -nan          nan          nan          nan         -nan          nan          nan          nan\r\n",
      "        -nan         -nan         -nan         -nan         -nan         -nan         -nan         -nan         -nan         -nan         -nan         -nan         -nan         -nan         -nan         -nan         -nan         -nan         -nan         -nan         -nan         -nan         -nan         -nan          nan          nan          nan         -nan          nan          nan          nan         -nan          nan          nan          nan\r\n",
      "        -nan         -nan         -nan         -nan         -nan         -nan         -nan         -nan         -nan         -nan         -nan         -nan         -nan         -nan         -nan         -nan         -nan         -nan         -nan         -nan         -nan         -nan         -nan         -nan         -nan         -nan         -nan         -nan         -nan         -nan         -nan         -nan         -nan         -nan         -nan\r\n",
      "B\r\n",
      "   0.0903884  1.18513e-13  -2.0052e-13  1.42889e-12 -1.16632e-13   -0.0326152 -4.42874e-13 -4.41116e-13 -1.86548e-13   -0.0147502  -0.00137221 -1.24208e-13  -0.00536163    0.0478078  -1.7178e-13   -0.0477612 -3.00825e-13   2.4672e-13 -1.57999e-13  9.81051e-14  0.000390052   -0.0244254 -2.43151e-13  4.07129e-13         -nan         -nan         -nan         -nan         -nan         -nan         -nan         -nan         -nan         -nan         -nan\r\n",
      " 1.18543e-13    0.0903884  4.37819e-13 -4.36046e-13   -0.0326152  -1.1665e-13 -3.21345e-12 -4.44181e-12 -1.97331e-12   0.00137221   -0.0147502 -1.31368e-12   -0.0478078  -0.00536163   -0.0477612 -1.71767e-13  6.70062e-15 -5.32226e-14 -1.62946e-12  1.08194e-12   -0.0244254 -0.000390052 -3.27758e-14  2.14185e-13         -nan         -nan         -nan         -nan         -nan         -nan         -nan         -nan         -nan         -nan         -nan\r\n",
      " -2.0052e-13  4.37819e-13     0.100278   0.00455658  2.97736e-13 -1.93775e-13   -0.0104265   -0.0104265  -0.00605635 -1.31892e-14 -2.74608e-13   -0.0029562  4.87941e-13  9.21324e-14  1.24033e-13  2.37042e-14   -0.0654696  -0.00228679  -0.00265308  -0.00443285 -6.68275e-13 -5.58341e-13    0.0406545    0.0138159         -nan         -nan         -nan         -nan         -nan         -nan         -nan         -nan         -nan         -nan         -nan\r\n",
      " 1.42889e-12 -4.36046e-13   0.00455658     0.100278 -3.00231e-13 -1.59493e-12    0.0104265    0.0104265   0.00605635 -7.16678e-13  2.05685e-13    0.0029562 -4.77437e-13 -1.85185e-13 -1.29092e-13 -2.91152e-12   0.00228679    0.0654696  -0.00443285  -0.00265308  6.84429e-13 -5.04275e-13   -0.0406545    0.0138159         -nan         -nan         -nan         -nan         -nan         -nan         -nan         -nan         -nan         -nan         -nan\r\n",
      " -1.1664e-13   -0.0326152  2.97736e-13 -3.00231e-13     0.236624  2.93072e-14 -4.78881e-12 -3.00013e-12 -2.96653e-12  -0.00133218    0.0143199 -1.02969e-12  -0.00944019  -0.00105872   -0.0424654  7.49886e-13 -5.21939e-14  1.37997e-14  8.49992e-14  5.17656e-13  -0.00359521 -5.74125e-05  8.02594e-16  8.44378e-13         -nan         -nan         -nan         -nan         -nan         -nan         -nan         -nan         -nan         -nan         -nan\r\n",
      "  -0.0326152 -1.16646e-13 -1.93775e-13 -1.59493e-12  2.92623e-14     0.236624 -3.06229e-13 -3.08695e-13 -2.81863e-13    0.0143199   0.00133218 -9.79235e-14  -0.00105872   0.00944019   7.4987e-13   -0.0424654  4.58839e-13 -1.43791e-13  9.26219e-15  5.66418e-14  5.74125e-05  -0.00359521   5.2421e-14  1.94327e-12         -nan         -nan         -nan         -nan         -nan         -nan         -nan         -nan         -nan         -nan         -nan\r\n",
      "-4.42874e-13 -3.21345e-12   -0.0104265    0.0104265 -4.78881e-12 -3.06229e-13     0.211385     0.106551    0.0651011  7.19523e-14  2.21074e-12    0.0317769 -5.16716e-12 -6.93958e-14 -4.28616e-12 -1.31807e-13  0.000340252  -0.00674568   -0.0342054   -0.0289773  6.69496e-12  7.95338e-13   0.00395558   0.00534816         -nan         -nan         -nan         -nan         -nan         -nan         -nan         -nan         -nan         -nan         -nan\r\n",
      "-4.41116e-13 -4.44181e-12   -0.0104265    0.0104265 -3.00013e-12 -3.08695e-13     0.106551     0.211385    0.0651011  3.00916e-15  2.94061e-12    0.0317769 -5.26027e-12  -7.9905e-14 -1.39836e-12 -1.36913e-13  -0.00674568  0.000340252    0.0289773    0.0342054  7.74826e-12   8.0973e-13   0.00395558  -0.00534816         -nan         -nan         -nan         -nan         -nan         -nan         -nan         -nan         -nan         -nan         -nan\r\n",
      "-1.86548e-13 -1.97331e-12  -0.00605635   0.00605635 -2.96653e-12 -2.81863e-13    0.0651011    0.0651011     0.424108  4.05436e-15   2.6107e-12   -0.0112618  3.22163e-13   5.7107e-15 -1.83697e-12 -1.74197e-13  1.22826e-05  1.22826e-05  0.000649103 -0.000649103  2.49757e-12  2.65828e-13 -0.000374711 -3.33606e-12         -nan         -nan         -nan         -nan         -nan         -nan         -nan         -nan         -nan         -nan         -nan\r\n",
      "  -0.0147502   0.00137221 -1.31894e-14 -7.16678e-13  -0.00133218    0.0143199  7.19523e-14   3.0094e-15  4.05432e-15     0.446813 -3.85562e-15  1.36591e-16  9.15978e-06 -0.000484069  -0.00099999    0.0107491  2.69481e-12 -3.84999e-13  8.34766e-15  4.27367e-14  -0.00192756     0.017658  5.12342e-12   2.2246e-12         -nan         -nan         -nan         -nan         -nan         -nan         -nan         -nan         -nan         -nan         -nan\r\n",
      " -0.00137221   -0.0147502 -2.74608e-13  2.05685e-13    0.0143199   0.00133218  2.21074e-12  2.94061e-12   2.6107e-12 -3.84469e-15     0.446813 -1.50594e-13  0.000484069  9.15978e-06    0.0107491   0.00099999   1.2838e-14  6.39629e-14  3.72008e-12 -6.40265e-13     0.017658   0.00192756 -1.44864e-15  1.26742e-12         -nan         -nan         -nan         -nan         -nan         -nan         -nan         -nan         -nan         -nan         -nan\r\n",
      "-1.24208e-13 -1.31368e-12   -0.0029562    0.0029562 -1.02969e-12 -9.79232e-14    0.0317769    0.0317769   -0.0112618  1.36552e-16 -1.50594e-13     0.627074 -2.01786e-12 -3.41053e-14  5.07947e-13  4.78761e-14  0.000414802  0.000414802    0.0219212   -0.0219212  1.26216e-12  1.33661e-13 -0.000228409 -1.39159e-12         -nan         -nan         -nan         -nan         -nan         -nan         -nan         -nan         -nan         -nan         -nan\r\n",
      " -0.00536163   -0.0478078  4.87941e-13 -4.77437e-13  -0.00944019  -0.00105872 -5.16716e-12 -5.26027e-12  3.22163e-13  9.15978e-06  0.000484069 -2.01786e-12     0.912954 -2.61078e-14   -0.0214195  -0.00240219 -7.69212e-14 -7.90309e-14  -3.4777e-12  4.83018e-12   -0.0225313  -0.00289187  1.33126e-14  7.63453e-13         -nan         -nan         -nan         -nan         -nan         -nan         -nan         -nan         -nan         -nan         -nan\r\n",
      "   0.0478078  -0.00536163  9.21324e-14 -1.85185e-13  -0.00105872   0.00944019 -6.93958e-14  -7.9905e-14  5.71064e-15 -0.000484069  9.15978e-06 -3.41053e-14  -2.6057e-14     0.912954  -0.00240219    0.0214195 -7.20826e-13  6.31627e-13 -6.72831e-14  6.94146e-14  -0.00289187    0.0225313  6.06078e-13 -1.28488e-12         -nan         -nan         -nan         -nan         -nan         -nan         -nan         -nan         -nan         -nan         -nan\r\n",
      "-1.71762e-13   -0.0477612  1.24033e-13 -1.29092e-13   -0.0424654  7.49852e-13 -4.28616e-12 -1.39836e-12 -1.83697e-12  -0.00099999    0.0107491  5.07947e-13   -0.0214195  -0.00240219     0.952113 -5.50844e-13  1.04434e-13  -1.4199e-13 -1.89101e-12 -3.42268e-13  -0.00321167 -5.12876e-05  3.04731e-13  2.51043e-13         -nan         -nan         -nan         -nan         -nan         -nan         -nan         -nan         -nan         -nan         -nan\r\n",
      "  -0.0477612 -1.71754e-13  2.37042e-14 -2.91152e-12  7.49865e-13   -0.0424654 -1.31807e-13 -1.36913e-13 -1.74197e-13    0.0107491   0.00099999  4.78761e-14  -0.00240219    0.0214195 -5.50927e-13     0.952113  -1.0719e-12  1.16142e-12 -1.97769e-13 -4.86185e-14  5.12876e-05  -0.00321167 -3.04439e-12  4.73794e-13         -nan         -nan         -nan         -nan         -nan         -nan         -nan         -nan         -nan         -nan         -nan\r\n",
      "-3.00825e-13  6.70062e-15   -0.0654696   0.00228679 -5.21939e-14  4.58839e-13  0.000340252  -0.00674568  1.22826e-05  2.69481e-12   1.2838e-14  0.000414802 -7.69213e-14 -7.20826e-13  1.04434e-13  -1.0719e-12       1.0454   0.00442769   0.00149923  -0.00149923  4.26968e-14  1.46787e-13   -0.0159649  -0.00543278         -nan         -nan         -nan         -nan         -nan         -nan         -nan         -nan         -nan         -nan         -nan\r\n",
      "  2.4672e-13 -5.32226e-14  -0.00228679    0.0654696  1.37997e-14 -1.43791e-13  -0.00674568  0.000340252  1.22826e-05 -3.84999e-13  6.39628e-14  0.000414802 -7.90309e-14  6.31627e-13  -1.4199e-13  1.16142e-12   0.00442769       1.0454   0.00149923  -0.00149923 -4.88665e-14  8.68911e-13   -0.0159649   0.00543278         -nan         -nan         -nan         -nan         -nan         -nan         -nan         -nan         -nan         -nan         -nan\r\n",
      "-1.57999e-13 -1.62946e-12  -0.00265308  -0.00443285  8.49992e-14  9.26219e-15   -0.0342054    0.0289773  0.000649103  8.34765e-15  3.72008e-12    0.0219212  -3.4777e-12 -6.72831e-14 -1.89101e-12 -1.97769e-13   0.00149923   0.00149923       1.1246   -0.0836294  2.46102e-12  2.49839e-13 -8.10264e-05  -0.00289971         -nan         -nan         -nan         -nan         -nan         -nan         -nan         -nan         -nan         -nan         -nan\r\n",
      " 9.81051e-14  1.08194e-12  -0.00443285  -0.00265308  5.17656e-13  5.66418e-14   -0.0289773    0.0342054 -0.000649103  4.27367e-14 -6.40265e-13   -0.0219212  4.83018e-12  6.94145e-14 -3.42268e-13 -4.86185e-14  -0.00149923  -0.00149923   -0.0836294       1.1246 -3.18034e-12 -3.42094e-13  8.10264e-05  -0.00289971         -nan         -nan         -nan         -nan         -nan         -nan         -nan         -nan         -nan         -nan         -nan\r\n",
      " 0.000893863   -0.0559744 -2.02148e-12  2.04516e-12  -0.00259799  4.14878e-05  2.06376e-11  2.22536e-11  3.13559e-12  -0.00119711    0.0109664  1.16476e-12   -0.0176383  -0.00226386   -0.0179758  0.000287059  6.03294e-14 -1.61254e-13  -1.0156e-12 -7.37422e-13     0.583856 -1.96389e-12  1.78435e-12   -4.756e-12         -nan         -nan         -nan         -nan         -nan         -nan         -nan         -nan         -nan         -nan         -nan\r\n",
      "  -0.0559744 -0.000893863 -6.80769e-13 -9.38787e-13 -4.14878e-05  -0.00259799  2.39094e-12   2.4139e-12  3.54875e-13    0.0109664   0.00119711  1.33755e-13  -0.00226386    0.0176383 -0.000287059   -0.0179758 -4.36562e-13   1.3081e-12 -1.26769e-13 -9.45974e-14 -1.96397e-12     0.583856 -1.54527e-11 -1.00562e-11         -nan         -nan         -nan         -nan         -nan         -nan         -nan         -nan         -nan         -nan         -nan\r\n",
      "-5.82637e-13 -1.48523e-14    0.0411033   -0.0411033   5.0871e-15  -3.2287e-13   0.00398392   0.00398392  0.000521483  5.40056e-12  2.57633e-14  0.000298796 -9.68588e-14  5.43184e-13  2.57117e-13 -3.20343e-12    -0.016856    -0.016856  0.000627758 -0.000627758  2.17144e-12 -1.39324e-11      1.95301 -9.57439e-11         -nan         -nan         -nan         -nan         -nan         -nan         -nan         -nan         -nan         -nan         -nan\r\n",
      " 9.14812e-13  4.68171e-13     0.015734     0.015734  6.97038e-13  1.66833e-12   0.00612071  -0.00612071 -1.50746e-12  2.38551e-12  1.33007e-12 -5.40622e-13  8.41577e-13 -1.40511e-12  2.34131e-13  4.65527e-13   -0.0065547    0.0065547  -0.00337016  -0.00337016 -5.01685e-12 -1.04671e-11 -9.63459e-11     0.701992         -nan         -nan         -nan         -nan         -nan         -nan         -nan         -nan         -nan         -nan         -nan\r\n",
      "        -nan         -nan         -nan         -nan         -nan         -nan         -nan         -nan         -nan         -nan         -nan         -nan         -nan         -nan         -nan         -nan         -nan         -nan         -nan         -nan         -nan         -nan         -nan         -nan         -nan         -nan         -nan         -nan         -nan         -nan         -nan         -nan         -nan         -nan         -nan\r\n",
      "        -nan         -nan         -nan         -nan         -nan         -nan         -nan         -nan         -nan         -nan         -nan         -nan         -nan         -nan         -nan         -nan         -nan         -nan         -nan         -nan         -nan         -nan         -nan         -nan         -nan         -nan         -nan         -nan         -nan         -nan         -nan         -nan         -nan         -nan         -nan\r\n",
      "        -nan         -nan         -nan         -nan         -nan         -nan         -nan         -nan         -nan         -nan         -nan         -nan         -nan         -nan         -nan         -nan         -nan         -nan         -nan         -nan         -nan         -nan         -nan         -nan         -nan         -nan         -nan         -nan         -nan         -nan         -nan         -nan         -nan         -nan         -nan\r\n",
      "        -nan         -nan         -nan         -nan         -nan         -nan         -nan         -nan         -nan         -nan         -nan         -nan         -nan         -nan         -nan         -nan         -nan         -nan         -nan         -nan         -nan         -nan         -nan         -nan         -nan         -nan         -nan         -nan         -nan         -nan         -nan         -nan         -nan         -nan         -nan\r\n",
      "        -nan         -nan         -nan         -nan         -nan         -nan         -nan         -nan         -nan         -nan         -nan         -nan         -nan         -nan         -nan         -nan         -nan         -nan         -nan         -nan         -nan         -nan         -nan         -nan         -nan         -nan         -nan         -nan         -nan         -nan         -nan         -nan         -nan         -nan         -nan\r\n",
      "        -nan         -nan         -nan         -nan         -nan         -nan         -nan         -nan         -nan         -nan         -nan         -nan         -nan         -nan         -nan         -nan         -nan         -nan         -nan         -nan         -nan         -nan         -nan         -nan         -nan         -nan         -nan         -nan         -nan         -nan         -nan         -nan         -nan         -nan         -nan\r\n",
      "        -nan         -nan         -nan         -nan         -nan         -nan         -nan         -nan         -nan         -nan         -nan         -nan         -nan         -nan         -nan         -nan         -nan         -nan         -nan         -nan         -nan         -nan         -nan         -nan         -nan         -nan         -nan         -nan         -nan         -nan         -nan         -nan         -nan         -nan         -nan\r\n",
      "        -nan         -nan         -nan         -nan         -nan         -nan         -nan         -nan         -nan         -nan         -nan         -nan         -nan         -nan         -nan         -nan         -nan         -nan         -nan         -nan         -nan         -nan         -nan         -nan         -nan         -nan         -nan         -nan         -nan         -nan         -nan         -nan         -nan         -nan         -nan\r\n",
      "        -nan         -nan         -nan         -nan         -nan         -nan         -nan         -nan         -nan         -nan         -nan         -nan         -nan         -nan         -nan         -nan         -nan         -nan         -nan         -nan         -nan         -nan         -nan         -nan         -nan         -nan         -nan         -nan         -nan         -nan         -nan         -nan         -nan         -nan         -nan\r\n",
      "        -nan         -nan         -nan         -nan         -nan         -nan         -nan         -nan         -nan         -nan         -nan         -nan         -nan         -nan         -nan         -nan         -nan         -nan         -nan         -nan         -nan         -nan         -nan         -nan         -nan         -nan         -nan         -nan         -nan         -nan         -nan         -nan         -nan         -nan         -nan\r\n",
      "        -nan         -nan         -nan         -nan         -nan         -nan         -nan         -nan         -nan         -nan         -nan         -nan         -nan         -nan         -nan         -nan         -nan         -nan         -nan         -nan         -nan         -nan         -nan         -nan          nan          nan          nan          nan          nan          nan          nan          nan          nan          nan          nan\r\n",
      "an error occurred:\r\n",
      "Small generalized eigenvalue problem failed.\r\n"
     ]
    }
   ],
   "source": [
    "!xtp_tools -c job_name=CO geometry_optimization.maxiter=1 dftpackage.basisset=3-21G dftpackage.auxbasisset=aux-def2-svp gwbse.gw.mode=G0W0 -e dftgwbse -t 4"
   ]
  },
  {
   "cell_type": "markdown",
   "metadata": {},
   "source": [
    "Notice that we are using 4 threads. The results will be stored in a file named `CO_summary.xml` in the current work directory, together with the optimization step in `optimisation.trj` and the orbitals in [hdf5 format](https://www.hdfgroup.org/solutions/hdf5/) saved on `CO.orb`."
   ]
  }
 ],
 "metadata": {
  "kernelspec": {
   "display_name": "Python 3",
   "language": "python",
   "name": "python3"
  },
  "language_info": {
   "codemirror_mode": {
    "name": "ipython",
    "version": 3
   },
   "file_extension": ".py",
   "mimetype": "text/x-python",
   "name": "python",
   "nbconvert_exporter": "python",
   "pygments_lexer": "ipython3",
   "version": "3.9.6"
  }
 },
 "nbformat": 4,
 "nbformat_minor": 4
}
