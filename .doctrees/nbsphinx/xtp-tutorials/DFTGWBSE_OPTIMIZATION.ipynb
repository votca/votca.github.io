{
 "cells": [
  {
   "cell_type": "markdown",
   "metadata": {},
   "source": [
    "## DFT + GWBSE Optimization Using CO"
   ]
  },
  {
   "cell_type": "markdown",
   "metadata": {},
   "source": [
    "## Introduction\n",
    "This tutorial explains how to perform a molecular geometric optimization using the **GWBSE** method. See [the GW Compendium: A Practical Guide to Theoretical Photoemission Spectroscopy](https://doi.org/10.3389/fchem.2019.00377), for an excellent introduction to the method."
   ]
  },
  {
   "cell_type": "markdown",
   "metadata": {},
   "source": [
    "## Requirements\n",
    "* You will need to install **VOTCA** using the instructions described [here](https://github.com/votca/votca/blob/master/share/doc/INSTALL.rst)\n",
    "* Once the installation is completed you need to activate the VOTCA enviroment by running the `VOTCARC.bash` script that has been installed at the bin subfolder for the path that you have provided for the installation step above"
   ]
  },
  {
   "cell_type": "markdown",
   "metadata": {},
   "source": [
    "## Preparing the input\n",
    "To run a DFT-GWBSE calculation we will use the [xtp_tools](https://www.votca.org/xtp/xtp_tools_overview.html) calculator."
   ]
  },
  {
   "cell_type": "markdown",
   "metadata": {},
   "source": [
    "we can now change the calculator mode from single point energy calculation to optimization as follows by adding \n",
    "`-c geometry_optimization.maxiter=1` which enables optimization with one iteration. "
   ]
  },
  {
   "cell_type": "markdown",
   "metadata": {},
   "source": [
    "Because geometry optimsation is quite expensive numerically we chose a smaller basisset and G0W0 Finally, to run the calculation we just need the following command (This still takes a while)"
   ]
  },
  {
   "cell_type": "code",
   "execution_count": 1,
   "metadata": {
    "execution": {
     "iopub.execute_input": "2021-12-03T06:20:20.312840Z",
     "iopub.status.busy": "2021-12-03T06:20:20.312179Z",
     "iopub.status.idle": "2021-12-03T06:21:09.422409Z",
     "shell.execute_reply": "2021-12-03T06:21:09.421769Z"
    }
   },
   "outputs": [
    {
     "name": "stdout",
     "output_type": "stream",
     "text": [
      "==================================================\r\n",
      "========   VOTCA (http://www.votca.org)   ========\r\n",
      "==================================================\r\n",
      "\r\n",
      "please submit bugs to https://github.com/votca/xtp/issues\r\n",
      "\r\n",
      "xtp_tools, version 2022-dev gitid: 7f12095 (compiled Dec  3 2021, 06:11:03)\r\n",
      "votca_csg, version 2022-dev gitid: 7f12095 (compiled Dec  3 2021, 05:55:06)\r\n",
      "votca_tools, version 2022-dev gitid: 7f12095 (compiled Dec  3 2021, 05:52:08)\r\n",
      "\r\n",
      "Initializing tool\r\n",
      "... dftgwbse Evaluating tool\r\n",
      "... dftgwbse  Using 4 threads\r\n",
      "... ... Reading structure from CO.xyz\r\n",
      "... ... Requested geometry optimization of excited state s1\r\n",
      "... ... Initial state: s1\r\n",
      "... ... WARNING: No tracker is used \r\n",
      "... ... Convergence of total energy: 0.000001 Hartree \r\n",
      "... ... Convergence of RMS Force:    0.000030 Hartree/Bohr \r\n",
      "... ... Convergence of Max Force:    0.000100 Hartree/Bohr \r\n",
      "... ... Convergence of RMS Step:     0.000600 Bohr \r\n",
      "... ... Convergence of Max Step:     0.001000 Bohr \r\n",
      "... ... Initial trust radius:        0.018897 Bohr\r\n",
      "... ... \r\n",
      "... ... =========== OPTIMIZATION SUMMARY ================================= \r\n",
      "... ... At iteration  0\r\n",
      "... ...  ---- POSITIONS (Angstrom)   \r\n",
      "... ...  Atom\t x\t  y\t  z \r\n",
      "... ...    0    +0.0000  +0.0000  +0.0000\r\n",
      "... ...    1    +1.2000  +0.0000  +0.0000\r\n",
      "... ...    Total energy:     -112.26831841 Hartree \r\n",
      "... ...    Trust radius:       0.01889726 Bohr     \r\n",
      "... ...  ---- FORCES (Hartree/Bohr)   \r\n",
      "... ...       central differences   \r\n",
      "... ...       displacement 0.0010 Angstrom   \r\n",
      "... ...  Atom\t x\t  y\t  z \r\n",
      "... ...    0    -0.1314  -0.0000  -0.0000\r\n",
      "... ...    1    +0.1314  +0.0000  +0.0000A\r\n",
      "    0.301149 -3.92387e-14   5.0512e-13  2.46384e-12  2.51669e-14   -0.0519724  1.44852e-13 -1.42187e-13 -4.18334e-14   -0.0176345 -0.000211684  -2.4803e-14  0.000995307    0.0390161 -1.93909e-14    0.0423984 -2.10974e-13  1.61289e-13 -1.75632e-14  2.69825e-14 -0.000702005    -0.107096  1.01343e-12          nan          nan          nan          nan          nan          nan          nan          nan          nan          nan          nan          nan\r\n",
      "-3.92037e-14     0.301149  1.36826e-13  1.34219e-13   -0.0519724  2.52005e-14 -8.66502e-12  1.06238e-11   3.1974e-12 -0.000211684    0.0176345  1.88961e-12    0.0390161 -0.000995307    0.0423984 -1.93422e-14 -5.75621e-14 -6.70076e-14  1.83385e-12 -1.46158e-12    -0.107096  0.000702005  2.52037e-14          nan          nan          nan          nan          nan          nan          nan          nan          nan          nan          nan          nan\r\n",
      "  5.0512e-13  1.36826e-13     0.310183   -0.0100508  5.93519e-14  3.30426e-13  -0.00277964   0.00277964   0.00109238  1.81919e-14  5.16076e-14  0.000492414 -7.24434e-14 -8.23636e-14  -1.0633e-14  2.26339e-14    0.0491827   0.00193379  0.000479805  -0.00168513 -4.47782e-13  7.60916e-14    0.0247799          nan          nan          nan          nan          nan          nan          nan          nan          nan          nan          nan          nan\r\n",
      " 2.46384e-12  1.34219e-13   -0.0100508     0.310183  6.26114e-14 -2.23874e-12  -0.00277964   0.00277964   0.00109238  -7.4539e-13  4.16692e-14  0.000492414 -7.45861e-14 -1.76952e-13 -1.25946e-14  2.39079e-12   0.00193379    0.0491827   0.00168513 -0.000479805 -4.66738e-13  -3.4771e-12    0.0247799          nan          nan          nan          nan          nan          nan          nan          nan          nan          nan          nan          nan\r\n",
      "  2.5194e-14   -0.0519724  5.93519e-14  6.26114e-14     0.486835 -9.60268e-15 -7.43548e-12  4.86629e-12  3.33226e-12   0.00016366   -0.0136338  1.08007e-12   0.00830335  -0.00021182    0.0301449  7.48892e-14 -1.93616e-14 -1.10565e-14  2.83478e-13 -6.10617e-13    0.0549928 -0.000360474  2.99286e-14          nan          nan          nan          nan          nan          nan          nan          nan          nan          nan          nan          nan\r\n",
      "  -0.0519724  2.52041e-14  3.30426e-13 -2.23874e-12 -9.64371e-15     0.486835  6.45845e-14 -6.79319e-14 -4.21547e-14    0.0136338   0.00016366 -1.34063e-14   0.00021182   0.00830335  7.48963e-14    0.0301449  2.82313e-13 -4.48484e-14 -5.28916e-15 -2.98528e-15  0.000360474    0.0549928 -2.16754e-14          nan          nan          nan          nan          nan          nan          nan          nan          nan          nan          nan          nan\r\n",
      " 1.44852e-13 -8.66502e-12  -0.00277964  -0.00277964 -7.43548e-12  6.45846e-14     0.541709    -0.221476   -0.0910011 -1.27172e-14 -3.45969e-12   -0.0410209  5.64537e-12 -2.17419e-13   3.4485e-12 -1.30751e-14   0.00129467  8.93471e-05    0.0133722    0.0338767  3.33983e-11 -6.94758e-13 -0.000471134          nan          nan          nan          nan          nan          nan          nan          nan          nan          nan          nan          nan\r\n",
      "-1.42187e-13  1.06238e-11   0.00277964   0.00277964  4.86629e-12 -6.79319e-14    -0.221476     0.541709    0.0910011  2.72447e-15  4.22328e-12    0.0410209 -5.73993e-12  2.19578e-13 -1.08038e-12   1.5008e-14 -8.93471e-05  -0.00129467    0.0338767    0.0133722 -3.68667e-11  7.13185e-13  0.000471134          nan          nan          nan          nan          nan          nan          nan          nan          nan          nan          nan          nan\r\n",
      "-4.18332e-14   3.1974e-12   0.00109238   0.00109238  3.33226e-12 -4.21547e-14   -0.0910011    0.0910011     0.659928  2.62982e-15  2.40913e-12  -0.00518522 -2.96422e-13  1.12968e-14 -1.34733e-12  1.71316e-14 -0.000178913 -0.000178913   0.00476775  -0.00476775 -9.73884e-12  1.89168e-13  0.000304344          nan          nan          nan          nan          nan          nan          nan          nan          nan          nan          nan          nan\r\n",
      "  -0.0176345 -0.000211684   1.8192e-14  -7.4539e-13   0.00016366    0.0136338 -1.27172e-14  2.72461e-15  2.62979e-15     0.668107 -3.61744e-16 -1.90311e-16  6.34166e-07  1.68995e-05 -0.000108749  -0.00905945  1.65121e-12 -2.24463e-13 -8.09389e-15 -6.30135e-14   0.00076054    0.0409765 -3.14896e-12          nan          nan          nan          nan          nan          nan          nan          nan          nan          nan          nan          nan\r\n",
      "-0.000211684    0.0176345  5.16076e-14  4.16693e-14   -0.0136338   0.00016366 -3.45969e-12  4.22328e-12  2.40913e-12 -2.43386e-16     0.668107  8.45871e-14 -1.68995e-05  6.34166e-07   0.00905945 -0.000108749   -2.318e-14 -9.42684e-14  2.49667e-12 -6.20998e-13   -0.0409765   0.00076054  7.33192e-15          nan          nan          nan          nan          nan          nan          nan          nan          nan          nan          nan          nan\r\n",
      " -2.4803e-14  1.88961e-12  0.000492414  0.000492414  1.08007e-12 -1.34062e-14   -0.0410209    0.0410209  -0.00518522 -1.90339e-16  8.45871e-14     0.793012 -1.50141e-12  5.74798e-14  2.68074e-13 -3.62032e-15 -0.000573895 -0.000573895    0.0152934   -0.0152934 -5.53238e-12  1.07773e-13  0.000130222          nan          nan          nan          nan          nan          nan          nan          nan          nan          nan          nan          nan\r\n",
      " 0.000995307    0.0390161 -7.24434e-14 -7.45861e-14   0.00830335   0.00021182  5.64537e-12 -5.73993e-12 -2.96422e-13  6.34166e-07 -1.68995e-05 -1.50141e-12     0.954263   3.2035e-14   -0.0128709 -0.000328338  9.26383e-14  9.18435e-14 -2.16003e-12  2.83714e-12    0.0198927  0.000377008 -2.65927e-14          nan          nan          nan          nan          nan          nan          nan          nan          nan          nan          nan          nan\r\n",
      "   0.0390161 -0.000995307 -8.23636e-14 -1.76952e-13  -0.00021182   0.00830335 -2.17419e-13  2.19578e-13  1.12969e-14  1.68995e-05  6.34166e-07  5.74798e-14  3.21075e-14     0.954263  0.000328338   -0.0128709 -3.83762e-13   2.9335e-13  9.42671e-14 -9.35155e-14 -0.000377008    0.0198927 -3.09138e-13          nan          nan          nan          nan          nan          nan          nan          nan          nan          nan          nan          nan\r\n",
      "-1.93789e-14    0.0423984 -1.06329e-14 -1.25947e-14    0.0301449  7.49034e-14   3.4485e-12 -1.08038e-12 -1.34733e-12 -0.000108749   0.00905945  2.68074e-13   -0.0128709  0.000328338     0.973646  3.56701e-14 -8.24334e-17  3.34134e-14 -1.09945e-12 -1.69559e-13     -0.02295  0.000150436 -1.77732e-14          nan          nan          nan          nan          nan          nan          nan          nan          nan          nan          nan          nan\r\n",
      "   0.0423984 -1.93318e-14  2.26339e-14  2.39079e-12  7.48782e-14    0.0301449 -1.30752e-14  1.50081e-14  1.71316e-14  -0.00905945 -0.000108749 -3.62032e-15 -0.000328338   -0.0128709  3.56332e-14     0.973646  5.85865e-13 -6.83157e-13 -1.26255e-14 -2.08522e-14 -0.000150436     -0.02295 -7.39753e-13          nan          nan          nan          nan          nan          nan          nan          nan          nan          nan          nan          nan\r\n",
      "-2.10974e-13 -5.75621e-14    0.0491827   0.00193379 -1.93616e-14  2.82313e-13   0.00129467 -8.93471e-05 -0.000178913  1.65121e-12   -2.318e-14 -0.000573895  9.26383e-14 -3.83762e-13 -8.24322e-17  5.85865e-13      1.02132   0.00214532  -0.00160049   0.00160049  2.07165e-13 -1.74946e-13   0.00473898          nan          nan          nan          nan          nan          nan          nan          nan          nan          nan          nan          nan\r\n",
      " 1.61289e-13 -6.70076e-14   0.00193379    0.0491827 -1.10565e-14 -4.48484e-14  8.93471e-05  -0.00129467 -0.000178913 -2.24463e-13 -9.42684e-14 -0.000573895  9.18436e-14   2.9335e-13  3.34134e-14 -6.83157e-13   0.00214532      1.02132  -0.00160049   0.00160049  1.98402e-13  2.57981e-13   0.00473898          nan          nan          nan          nan          nan          nan          nan          nan          nan          nan          nan          nan\r\n",
      "-1.75632e-14  1.83385e-12  0.000479805   0.00168513  2.83478e-13 -5.28916e-15    0.0133722    0.0338767   0.00476775 -8.09389e-15  2.49667e-12    0.0152934 -2.16003e-12  9.42672e-14 -1.09945e-12 -1.26255e-14  -0.00160049  -0.00160049      1.06391   -0.0447359 -5.15866e-12  1.10589e-13  0.000280872          nan          nan          nan          nan          nan          nan          nan          nan          nan          nan          nan          nan\r\n",
      " 2.69825e-14 -1.46158e-12  -0.00168513 -0.000479805 -6.10617e-13 -2.98528e-15    0.0338767    0.0133722  -0.00476775 -6.30135e-14 -6.20998e-13   -0.0152934  2.83714e-12 -9.35155e-14 -1.69559e-13 -2.08522e-14   0.00160049   0.00160049   -0.0447359      1.06391  5.58041e-12 -1.01492e-13 -0.000280872          nan          nan          nan          nan          nan          nan          nan          nan          nan          nan          nan          nan\r\n",
      " 0.000488896    0.0745845  2.30919e-13  2.44111e-13   -0.0700278 -0.000459028 -1.57748e-11  1.82056e-11  6.32279e-12 -0.000564136    0.0303946  4.12074e-12  -0.00919682  0.000174298     0.036288  0.000237865 -1.06821e-13 -1.12966e-13  3.20612e-12 -2.88732e-12    -0.195058  3.25626e-13  2.70449e-13          nan          nan          nan          nan          nan          nan          nan          nan          nan          nan          nan          nan\r\n",
      "   0.0745845 -0.000488896  3.73435e-13  2.88303e-12  0.000459028   -0.0700278  3.36128e-13  -3.4902e-13 -1.20638e-13   -0.0303946 -0.000564136  -7.9534e-14 -0.000174298  -0.00919682 -0.000237865     0.036288   9.7203e-14  4.02961e-13 -4.62493e-14  5.19389e-14  3.25673e-13    -0.195058  1.15846e-11          nan          nan          nan          nan          nan          nan          nan          nan          nan          nan          nan          nan\r\n",
      "-4.39748e-13 -1.80789e-14    0.0140787    0.0140787 -2.83091e-14  5.13706e-14  0.000817855 -0.000817855 -0.000256956 -2.42513e-12 -3.31603e-15 -0.000108483  1.44523e-14  1.17714e-14 -1.55033e-14 -2.03973e-12   0.00609969   0.00609969  0.000109988 -0.000109988  2.97582e-13  1.09173e-11     0.941275          nan          nan          nan          nan          nan          nan          nan          nan          nan          nan          nan          nan\r\n",
      "        -nan         -nan         -nan         -nan         -nan         -nan         -nan         -nan         -nan         -nan         -nan         -nan         -nan         -nan         -nan         -nan         -nan         -nan         -nan         -nan         -nan         -nan         -nan          nan          nan          nan          nan          nan          nan          nan          nan          nan          nan          nan          nan\r\n",
      "        -nan         -nan         -nan         -nan         -nan         -nan         -nan         -nan         -nan         -nan         -nan         -nan         -nan         -nan         -nan         -nan         -nan         -nan         -nan         -nan         -nan         -nan         -nan         -nan         -nan         -nan         -nan         -nan         -nan         -nan         -nan         -nan         -nan         -nan         -nan\r\n",
      "        -nan         -nan         -nan         -nan         -nan         -nan         -nan         -nan         -nan         -nan         -nan         -nan         -nan         -nan         -nan         -nan         -nan         -nan         -nan         -nan         -nan         -nan         -nan         -nan         -nan         -nan         -nan         -nan         -nan         -nan         -nan         -nan         -nan         -nan         -nan\r\n",
      "        -nan         -nan         -nan         -nan         -nan         -nan         -nan         -nan         -nan         -nan         -nan         -nan         -nan         -nan         -nan         -nan         -nan         -nan         -nan         -nan         -nan         -nan         -nan          nan          nan          nan          nan          nan          nan          nan          nan          nan          nan          nan          nan\r\n",
      "        -nan         -nan         -nan         -nan         -nan         -nan         -nan         -nan         -nan         -nan         -nan         -nan         -nan         -nan         -nan         -nan         -nan         -nan         -nan         -nan         -nan         -nan         -nan          nan          nan          nan          nan          nan          nan          nan          nan          nan          nan          nan          nan\r\n",
      "        -nan         -nan         -nan         -nan         -nan         -nan         -nan         -nan         -nan         -nan         -nan         -nan         -nan         -nan         -nan         -nan         -nan         -nan         -nan         -nan         -nan         -nan         -nan         -nan         -nan         -nan         -nan         -nan         -nan         -nan         -nan         -nan         -nan         -nan         -nan\r\n",
      "        -nan         -nan         -nan         -nan         -nan         -nan         -nan         -nan         -nan         -nan         -nan         -nan         -nan         -nan         -nan         -nan         -nan         -nan         -nan         -nan         -nan         -nan         -nan         -nan         -nan         -nan         -nan         -nan         -nan         -nan         -nan         -nan         -nan         -nan         -nan\r\n",
      "        -nan         -nan         -nan         -nan         -nan         -nan         -nan         -nan         -nan         -nan         -nan         -nan         -nan         -nan         -nan         -nan         -nan         -nan         -nan         -nan         -nan         -nan         -nan          nan          nan          nan          nan          nan          nan          nan          nan          nan          nan          nan          nan\r\n",
      "        -nan         -nan         -nan         -nan         -nan         -nan         -nan         -nan         -nan         -nan         -nan         -nan         -nan         -nan         -nan         -nan         -nan         -nan         -nan         -nan         -nan         -nan         -nan          nan          nan          nan          nan          nan          nan          nan          nan          nan          nan          nan          nan\r\n",
      "        -nan         -nan         -nan         -nan         -nan         -nan         -nan         -nan         -nan         -nan         -nan         -nan         -nan         -nan         -nan         -nan         -nan         -nan         -nan         -nan         -nan         -nan         -nan         -nan          nan          nan          nan         -nan          nan          nan          nan         -nan          nan          nan          nan\r\n",
      "        -nan         -nan         -nan         -nan         -nan         -nan         -nan         -nan         -nan         -nan         -nan         -nan         -nan         -nan         -nan         -nan         -nan         -nan         -nan         -nan         -nan         -nan         -nan         -nan          nan          nan          nan         -nan          nan          nan          nan         -nan          nan          nan          nan\r\n",
      "        -nan         -nan         -nan         -nan         -nan         -nan         -nan         -nan         -nan         -nan         -nan         -nan         -nan         -nan         -nan         -nan         -nan         -nan         -nan         -nan         -nan         -nan         -nan         -nan         -nan         -nan         -nan         -nan         -nan         -nan         -nan         -nan         -nan         -nan         -nan\r\n",
      "B\r\n",
      "   0.0903884 -1.78034e-14  2.40921e-13  1.46881e-12  1.55829e-14   -0.0326152  6.14258e-14 -5.98335e-14 -2.58938e-14   -0.0148128 -0.000177813 -1.73501e-14   0.00122683    0.0480919 -2.24432e-14    0.0477612 -2.99526e-13  2.51554e-13 -1.13972e-14   2.5442e-14 -0.000160124    -0.024428  2.36427e-13         -nan         -nan         -nan         -nan         -nan         -nan         -nan         -nan         -nan         -nan         -nan         -nan\r\n",
      "-1.77766e-14    0.0903884  5.85415e-14  5.69803e-14   -0.0326152  1.55964e-14 -3.25312e-12  4.48103e-12  1.98087e-12 -0.000177813    0.0148128  1.31902e-12    0.0480919  -0.00122683    0.0477612 -2.23868e-14 -4.44626e-14 -5.85353e-14  1.63629e-12  -1.0852e-12    -0.024428  0.000160124  1.95938e-15         -nan         -nan         -nan         -nan         -nan         -nan         -nan         -nan         -nan         -nan         -nan         -nan\r\n",
      " 2.40921e-13  5.85415e-14     0.099324  -0.00551027  3.68726e-14  2.21832e-13  -0.00135682   0.00135682  0.000784791  1.26055e-14  3.63077e-14  0.000383069 -6.69217e-14 -8.18043e-14 -1.43233e-14  1.15808e-14    0.0657892     0.002231  0.000433301  -0.00205468 -8.60133e-14  4.85288e-13    0.0407597         -nan         -nan         -nan         -nan         -nan         -nan         -nan         -nan         -nan         -nan         -nan         -nan\r\n",
      " 1.46881e-12  5.69803e-14  -0.00551027     0.099324  3.91799e-14  -1.5661e-12  -0.00135682   0.00135682  0.000784791 -7.19928e-13  2.67779e-14  0.000383069 -6.90178e-14 -1.75281e-13 -1.66994e-14  2.89914e-12     0.002231    0.0657892   0.00205468 -0.000433301 -9.19378e-14 -5.77117e-13    0.0407597         -nan         -nan         -nan         -nan         -nan         -nan         -nan         -nan         -nan         -nan         -nan         -nan\r\n",
      " 1.55986e-14   -0.0326152  3.68726e-14  3.91799e-14     0.236624 -6.66956e-15 -4.81682e-12  3.02887e-12  2.98007e-12  0.000172626   -0.0143807   1.0341e-12   0.00949629 -0.000242252    0.0424654  1.02533e-13 -1.38781e-14  1.68664e-15 -8.57567e-14 -5.20778e-13  -0.00359559  2.35689e-05  4.86691e-15         -nan         -nan         -nan         -nan         -nan         -nan         -nan         -nan         -nan         -nan         -nan         -nan\r\n",
      "  -0.0326152  1.56038e-14  2.21832e-13  -1.5661e-12 -6.71452e-15     0.236624  4.04858e-14 -4.28598e-14 -3.77901e-14    0.0143807  0.000172626 -1.28227e-14  0.000242252   0.00949629  1.02539e-13    0.0424654    4.619e-13 -1.44664e-13 -4.52458e-15 -1.10023e-14 -2.35689e-05  -0.00359559 -5.32175e-14         -nan         -nan         -nan         -nan         -nan         -nan         -nan         -nan         -nan         -nan         -nan         -nan\r\n",
      " 6.14259e-14 -3.25312e-12  -0.00135682  -0.00135682 -4.81682e-12  4.04858e-14     0.212339    -0.107505   -0.0653775  -1.1336e-14 -2.21951e-12   -0.0319118  5.18782e-12 -1.99699e-13  4.29837e-12 -1.74641e-14   0.00111823 -0.000503152    0.0344781    0.0290801   6.7675e-12 -1.42528e-13  0.000375929         -nan         -nan         -nan         -nan         -nan         -nan         -nan         -nan         -nan         -nan         -nan         -nan\r\n",
      "-5.98336e-14  4.48103e-12   0.00135682   0.00135682  3.02887e-12 -4.28598e-14    -0.107505     0.212339    0.0653775  1.75695e-15  2.95206e-12    0.0319118 -5.28127e-12  2.01818e-13 -1.41084e-12  1.97977e-14  0.000503152  -0.00111823    0.0290801    0.0344781 -7.82042e-12  1.48094e-13 -0.000375929         -nan         -nan         -nan         -nan         -nan         -nan         -nan         -nan         -nan         -nan         -nan         -nan\r\n",
      "-2.58936e-14  1.98087e-12  0.000784791  0.000784791  2.98007e-12 -3.77902e-14   -0.0653775    0.0653775     0.424108  2.94056e-15   2.6094e-12   -0.0112618  3.22113e-13 -1.23558e-14 -1.84524e-12  2.34701e-14 -2.43452e-05 -2.43452e-05  0.000648762 -0.000648762 -2.50437e-12  4.92185e-14  0.000109432         -nan         -nan         -nan         -nan         -nan         -nan         -nan         -nan         -nan         -nan         -nan         -nan\r\n",
      "  -0.0148128 -0.000177813  1.26057e-14 -7.19928e-13  0.000172626    0.0143807  -1.1336e-14  1.75712e-15  2.94054e-15     0.446813  -4.3822e-16 -5.10115e-16 -1.81555e-05 -0.000483816  -0.00012958   -0.0107948  2.69479e-12 -3.84865e-13 -1.42298e-14 -1.02503e-13  0.000329628    0.0177598  -5.1131e-12         -nan         -nan         -nan         -nan         -nan         -nan         -nan         -nan         -nan         -nan         -nan         -nan\r\n",
      "-0.000177813    0.0148128  3.63077e-14   2.6778e-14   -0.0143807  0.000172626 -2.21951e-12  2.95206e-12   2.6094e-12 -2.72795e-16     0.446813 -1.50196e-13  0.000483816 -1.81555e-05    0.0107948  -0.00012958 -2.37876e-14 -1.40485e-13  3.71972e-12 -6.40062e-13   -0.0177598  0.000329628   5.0166e-15         -nan         -nan         -nan         -nan         -nan         -nan         -nan         -nan         -nan         -nan         -nan         -nan\r\n",
      "-1.73501e-14  1.31902e-12  0.000383069  0.000383069   1.0341e-12 -1.28225e-14   -0.0319118    0.0319118   -0.0112618 -5.10158e-16 -1.50196e-13     0.627074 -2.01712e-12  7.72355e-14  5.10323e-13 -6.77531e-15 -0.000822174 -0.000822174    0.0219097   -0.0219097 -1.26542e-12  2.46279e-14  5.83696e-05         -nan         -nan         -nan         -nan         -nan         -nan         -nan         -nan         -nan         -nan         -nan         -nan\r\n",
      "  0.00122683    0.0480919 -6.69217e-14 -6.90178e-14   0.00949629  0.000242252  5.18782e-12 -5.28127e-12  3.22113e-13 -1.81555e-05  0.000483816 -2.01712e-12     0.912954  5.72758e-14   -0.0215468 -0.000549661  1.55044e-13  1.53463e-13 -3.47494e-12  4.82709e-12    0.0227121   0.00043044 -2.97741e-14         -nan         -nan         -nan         -nan         -nan         -nan         -nan         -nan         -nan         -nan         -nan         -nan\r\n",
      "   0.0480919  -0.00122683 -8.18043e-14 -1.75281e-13 -0.000242252   0.00949629 -1.99699e-13  2.01818e-13 -1.23557e-14 -0.000483816 -1.81555e-05  7.72355e-14  5.74081e-14     0.912954  0.000549661   -0.0215468 -7.25276e-13  6.26882e-13  1.57693e-13 -1.56199e-13  -0.00043044    0.0227121 -6.02157e-13         -nan         -nan         -nan         -nan         -nan         -nan         -nan         -nan         -nan         -nan         -nan         -nan\r\n",
      " -2.2426e-14    0.0477612 -1.43232e-14 -1.66995e-14    0.0424654   1.0255e-13  4.29837e-12 -1.41084e-12 -1.84524e-12  -0.00012958    0.0107948  5.10323e-13   -0.0215468  0.000549661     0.952113  6.75259e-14 -1.37838e-15  5.79437e-14 -1.90021e-12 -3.45637e-13   0.00321201 -2.10545e-05 -4.17961e-14         -nan         -nan         -nan         -nan         -nan         -nan         -nan         -nan         -nan         -nan         -nan         -nan\r\n",
      "   0.0477612 -2.23738e-14  1.15808e-14  2.89914e-12  1.02513e-13    0.0424654 -1.74643e-14  1.97978e-14  2.34701e-14   -0.0107948  -0.00012958 -6.77531e-15 -0.000549661   -0.0215468  6.74453e-14     0.952113  1.07653e-12 -1.16933e-12 -2.14081e-14 -3.78791e-14  2.10545e-05   0.00321201 -3.05128e-12         -nan         -nan         -nan         -nan         -nan         -nan         -nan         -nan         -nan         -nan         -nan         -nan\r\n",
      "-2.99526e-13 -4.44626e-14    0.0657892     0.002231 -1.38781e-14    4.619e-13   0.00111823  0.000503152 -2.43452e-05  2.69479e-12 -2.37876e-14 -0.000822174  1.55044e-13 -7.25276e-13 -1.37839e-15  1.07653e-12      1.04548   0.00451078  -0.00297004   0.00297004  1.23628e-13  1.38917e-13    0.0159139         -nan         -nan         -nan         -nan         -nan         -nan         -nan         -nan         -nan         -nan         -nan         -nan\r\n",
      " 2.51554e-13 -5.85353e-14     0.002231    0.0657892  1.68664e-15 -1.44664e-13 -0.000503152  -0.00111823 -2.43452e-05 -3.84864e-13 -1.40485e-13 -0.000822174  1.53463e-13  6.26882e-13  5.79437e-14 -1.16933e-12   0.00451078      1.04548  -0.00297004   0.00297004   1.0865e-13  8.66104e-13    0.0159139         -nan         -nan         -nan         -nan         -nan         -nan         -nan         -nan         -nan         -nan         -nan         -nan\r\n",
      "-1.13972e-14  1.63629e-12  0.000433301   0.00205468 -8.57567e-14 -4.52458e-15    0.0344781    0.0290801  0.000648762 -1.42298e-14  3.71972e-12    0.0219097 -3.47494e-12  1.57693e-13 -1.90021e-12 -2.14081e-14  -0.00297004  -0.00297004      1.12452   -0.0835463 -2.46675e-12  8.11652e-14  0.000618115         -nan         -nan         -nan         -nan         -nan         -nan         -nan         -nan         -nan         -nan         -nan         -nan\r\n",
      "  2.5442e-14  -1.0852e-12  -0.00205468 -0.000433301 -5.20778e-13 -1.10023e-14    0.0290801    0.0344781 -0.000648762 -1.02503e-13 -6.40062e-13   -0.0219097  4.82709e-12 -1.56199e-13 -3.45637e-13 -3.78791e-14   0.00297004   0.00297004   -0.0835463      1.12452  3.19104e-12 -6.61482e-14 -0.000618115         -nan         -nan         -nan         -nan         -nan         -nan         -nan         -nan         -nan         -nan         -nan         -nan\r\n",
      "-0.000366947   -0.0559803 -2.63118e-13 -2.71903e-13  -0.00259827 -1.70315e-05  2.08514e-11  -2.2467e-11 -3.15942e-12  0.000204715   -0.0110297 -1.17517e-12    0.0177798 -0.000336964    0.0179777  0.000117843  2.10624e-14  -1.4219e-14  1.01883e-12  7.47587e-13     0.583856  3.40458e-13  2.68265e-13         -nan         -nan         -nan         -nan         -nan         -nan         -nan         -nan         -nan         -nan         -nan         -nan\r\n",
      "  -0.0559803  0.000366947  4.61988e-13  -1.1572e-12  1.70315e-05  -0.00259827 -4.30913e-13  4.39572e-13  6.48864e-14    0.0110297  0.000204715  2.43837e-14  0.000336964    0.0177798 -0.000117843    0.0179777  -4.4102e-13  1.31695e-12  3.21934e-14  2.68099e-15   3.4048e-13     0.583856  1.55472e-11         -nan         -nan         -nan         -nan         -nan         -nan         -nan         -nan         -nan         -nan         -nan         -nan\r\n",
      " 5.73472e-13  3.96711e-15    0.0412082    0.0412082  5.06223e-15  3.20377e-13  0.000388487 -0.000388487 -1.24329e-05 -5.38882e-12  1.65922e-15 -1.18523e-05 -1.27102e-14 -5.41315e-13 -3.51887e-14 -3.20684e-12    0.0168222    0.0168222  0.000561182 -0.000561182  2.91412e-13  1.40852e-11      1.94519         -nan         -nan         -nan         -nan         -nan         -nan         -nan         -nan         -nan         -nan         -nan         -nan\r\n",
      "        -nan         -nan         -nan         -nan         -nan         -nan         -nan         -nan         -nan         -nan         -nan         -nan         -nan         -nan         -nan         -nan         -nan         -nan         -nan         -nan         -nan         -nan         -nan         -nan         -nan         -nan         -nan         -nan         -nan         -nan         -nan         -nan         -nan         -nan         -nan\r\n",
      "        -nan         -nan         -nan         -nan         -nan         -nan         -nan         -nan         -nan         -nan         -nan         -nan         -nan         -nan         -nan         -nan         -nan         -nan         -nan         -nan         -nan         -nan         -nan         -nan         -nan         -nan         -nan         -nan         -nan         -nan         -nan         -nan         -nan         -nan         -nan\r\n",
      "        -nan         -nan         -nan         -nan         -nan         -nan         -nan         -nan         -nan         -nan         -nan         -nan         -nan         -nan         -nan         -nan         -nan         -nan         -nan         -nan         -nan         -nan         -nan         -nan         -nan         -nan         -nan         -nan         -nan         -nan         -nan         -nan         -nan         -nan         -nan\r\n",
      "        -nan         -nan         -nan         -nan         -nan         -nan         -nan         -nan         -nan         -nan         -nan         -nan         -nan         -nan         -nan         -nan         -nan         -nan         -nan         -nan         -nan         -nan         -nan         -nan         -nan         -nan         -nan         -nan         -nan         -nan         -nan         -nan         -nan         -nan         -nan\r\n",
      "        -nan         -nan         -nan         -nan         -nan         -nan         -nan         -nan         -nan         -nan         -nan         -nan         -nan         -nan         -nan         -nan         -nan         -nan         -nan         -nan         -nan         -nan         -nan         -nan         -nan         -nan         -nan         -nan         -nan         -nan         -nan         -nan         -nan         -nan         -nan\r\n",
      "        -nan         -nan         -nan         -nan         -nan         -nan         -nan         -nan         -nan         -nan         -nan         -nan         -nan         -nan         -nan         -nan         -nan         -nan         -nan         -nan         -nan         -nan         -nan         -nan         -nan         -nan         -nan         -nan         -nan         -nan         -nan         -nan         -nan         -nan         -nan\r\n",
      "        -nan         -nan         -nan         -nan         -nan         -nan         -nan         -nan         -nan         -nan         -nan         -nan         -nan         -nan         -nan         -nan         -nan         -nan         -nan         -nan         -nan         -nan         -nan         -nan         -nan         -nan         -nan         -nan         -nan         -nan         -nan         -nan         -nan         -nan         -nan\r\n",
      "        -nan         -nan         -nan         -nan         -nan         -nan         -nan         -nan         -nan         -nan         -nan         -nan         -nan         -nan         -nan         -nan         -nan         -nan         -nan         -nan         -nan         -nan         -nan         -nan         -nan         -nan         -nan         -nan         -nan         -nan         -nan         -nan         -nan         -nan         -nan\r\n",
      "        -nan         -nan         -nan         -nan         -nan         -nan         -nan         -nan         -nan         -nan         -nan         -nan         -nan         -nan         -nan         -nan         -nan         -nan         -nan         -nan         -nan         -nan         -nan         -nan         -nan         -nan         -nan         -nan         -nan         -nan         -nan         -nan         -nan         -nan         -nan\r\n",
      "        -nan         -nan         -nan         -nan         -nan         -nan         -nan         -nan         -nan         -nan         -nan         -nan         -nan         -nan         -nan         -nan         -nan         -nan         -nan         -nan         -nan         -nan         -nan         -nan         -nan         -nan         -nan         -nan         -nan         -nan         -nan         -nan         -nan         -nan         -nan\r\n",
      "        -nan         -nan         -nan         -nan         -nan         -nan         -nan         -nan         -nan         -nan         -nan         -nan         -nan         -nan         -nan         -nan         -nan         -nan         -nan         -nan         -nan         -nan         -nan         -nan         -nan         -nan         -nan         -nan         -nan         -nan         -nan         -nan         -nan         -nan         -nan\r\n",
      "        -nan         -nan         -nan         -nan         -nan         -nan         -nan         -nan         -nan         -nan         -nan         -nan         -nan         -nan         -nan         -nan         -nan         -nan         -nan         -nan         -nan         -nan         -nan          nan          nan          nan          nan          nan          nan          nan          nan          nan          nan          nan          nan\r\n",
      "an error occurred:\r\n",
      "Small generalized eigenvalue problem failed.\r\n"
     ]
    }
   ],
   "source": [
    "!xtp_tools -c job_name=CO geometry_optimization.maxiter=1 dftpackage.basisset=3-21G dftpackage.auxbasisset=aux-def2-svp gwbse.gw.mode=G0W0 -e dftgwbse -t 4"
   ]
  },
  {
   "cell_type": "markdown",
   "metadata": {},
   "source": [
    "Notice that we are using 4 threads. The results will be stored in a file named `CO_summary.xml` in the current work directory, together with the optimization step in `optimisation.trj` and the orbitals in [hdf5 format](https://www.hdfgroup.org/solutions/hdf5/) saved on `CO.orb`."
   ]
  }
 ],
 "metadata": {
  "kernelspec": {
   "display_name": "Python 3",
   "language": "python",
   "name": "python3"
  },
  "language_info": {
   "codemirror_mode": {
    "name": "ipython",
    "version": 3
   },
   "file_extension": ".py",
   "mimetype": "text/x-python",
   "name": "python",
   "nbconvert_exporter": "python",
   "pygments_lexer": "ipython3",
   "version": "3.10.0"
  }
 },
 "nbformat": 4,
 "nbformat_minor": 4
}
