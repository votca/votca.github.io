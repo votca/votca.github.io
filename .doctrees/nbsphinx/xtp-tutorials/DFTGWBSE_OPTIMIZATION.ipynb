{
 "cells": [
  {
   "cell_type": "markdown",
   "metadata": {},
   "source": [
    "## DFT + GWBSE Optimization Using CO"
   ]
  },
  {
   "cell_type": "markdown",
   "metadata": {},
   "source": [
    "## Introduction\n",
    "This tutorial explains how to perform a molecular geometric optimization using the **GWBSE** method. See [the GW Compendium: A Practical Guide to Theoretical Photoemission Spectroscopy](https://doi.org/10.3389/fchem.2019.00377), for an excellent introduction to the method."
   ]
  },
  {
   "cell_type": "markdown",
   "metadata": {},
   "source": [
    "## Requirements\n",
    "* You will need to install **VOTCA** using the instructions described [here](https://github.com/votca/votca/blob/master/share/doc/INSTALL.rst)\n",
    "* Once the installation is completed you need to activate the VOTCA enviroment by running the `VOTCARC.bash` script that has been installed at the bin subfolder for the path that you have provided for the installation step above"
   ]
  },
  {
   "cell_type": "markdown",
   "metadata": {},
   "source": [
    "## Preparing the input\n",
    "To run a DFT-GWBSE calculation we will use the [xtp_tools](https://www.votca.org/xtp/xtp_tools_overview.html) calculator."
   ]
  },
  {
   "cell_type": "markdown",
   "metadata": {},
   "source": [
    "we can now change the calculator mode from single point energy calculation to optimization as follows by adding \n",
    "`-c geometry_optimization.maxiter=1` which enables optimization with one iteration. "
   ]
  },
  {
   "cell_type": "markdown",
   "metadata": {},
   "source": [
    "Because geometry optimsation is quite expensive numerically we chose a smaller basisset and G0W0 Finally, to run the calculation we just need the following command (This still takes a while)"
   ]
  },
  {
   "cell_type": "code",
   "execution_count": 1,
   "metadata": {
    "execution": {
     "iopub.execute_input": "2023-02-17T13:46:31.895805Z",
     "iopub.status.busy": "2023-02-17T13:46:31.895517Z",
     "iopub.status.idle": "2023-02-17T13:46:56.791477Z",
     "shell.execute_reply": "2023-02-17T13:46:56.790428Z"
    }
   },
   "outputs": [
    {
     "name": "stdout",
     "output_type": "stream",
     "text": [
      "==================================================\r\n",
      "========   VOTCA (http://www.votca.org)   ========\r\n",
      "==================================================\r\n",
      "\r\n",
      "please submit bugs to https://github.com/votca/votca/issues\r\n",
      "\r\n",
      "xtp_tools, version 2024-dev gitid: 79070b6 (compiled Feb 17 2023, 13:42:34)\r\n",
      "\r\n",
      "Initializing tool\r\n",
      "... dftgwbse Evaluating tool\r\n",
      "... dftgwbse  Using 4 threads\r\n",
      "... ... Reading structure from CO.xyz\r\n",
      "... ... Requested geometry optimization of excited state s1\r\n",
      "... ... Initial state: s1\r\n",
      "... ... WARNING: No tracker is used \r\n",
      "... ... Convergence of total energy: 0.000001 Hartree \r\n",
      "... ... Convergence of RMS Force:    0.000030 Hartree/Bohr \r\n",
      "... ... Convergence of Max Force:    0.000100 Hartree/Bohr \r\n",
      "... ... Convergence of RMS Step:     0.000600 Bohr \r\n",
      "... ... Convergence of Max Step:     0.001000 Bohr \r\n",
      "... ... Initial trust radius:        0.018897 BohrA\r\n",
      "    0.307132 -3.11375e-11  4.47677e-11  -2.3093e-10  2.35881e-11   -0.0516061  8.55351e-10   7.7882e-10 -3.22573e-10    0.0181636  -0.00106076 -7.14808e-11     0.010358    0.0375739 -2.03433e-11    0.0421019 -2.33137e-10   1.3078e-10 -3.01331e-10 -1.07089e-10  0.000481492    -0.108408 -1.28126e-10          nan          nan          nan          nan          nan          nan          nan          nan          nan          nan          nan          nan\r\n",
      "-3.11375e-11     0.307132 -1.47061e-10  7.05308e-11   -0.0516061  2.35881e-11  9.00468e-10  1.08663e-09 -1.97485e-10   0.00106076    0.0181636 -2.25177e-10    0.0375739    -0.010358    0.0421019 -2.03433e-11 -1.94337e-11  2.13675e-10 -9.73624e-11  4.99464e-12    -0.108408 -0.000481492 -1.35382e-11          nan          nan          nan          nan          nan          nan          nan          nan          nan          nan          nan          nan\r\n",
      " 4.47677e-11 -1.47061e-10     0.320633   0.00926177  1.56745e-10  1.02904e-10     0.013415     0.013415  -0.00500277 -5.81888e-11 -1.45361e-11  -0.00213134 -8.97032e-11  1.83867e-10 -1.71801e-10 -2.08461e-11    0.0470559  -0.00128282  -0.00259138   -0.0152097  1.82051e-10 -3.06812e-10   -0.0254911          nan          nan          nan          nan          nan          nan          nan          nan          nan          nan          nan          nan\r\n",
      " -2.3093e-10  7.05308e-11   0.00926177     0.320633 -1.70081e-10  3.24038e-10    -0.013415    -0.013415   0.00500277 -5.01121e-11  6.86666e-11   0.00213134    7.332e-11 -1.45416e-10   6.9174e-11 -1.85933e-10  -0.00128282    0.0470559    0.0152097   0.00259138 -1.68583e-10  7.91154e-10    0.0254911          nan          nan          nan          nan          nan          nan          nan          nan          nan          nan          nan          nan\r\n",
      " 2.35881e-11   -0.0516061  1.56745e-10 -1.70081e-10     0.490902 -2.90768e-12  1.80076e-09  1.37382e-09 -8.20696e-10 -0.000784912   -0.0134402 -1.98448e-10    0.0077064  -0.00212443    0.0309987  6.72044e-11 -6.52645e-11 -1.89581e-10 -1.33912e-10 -2.73773e-10    0.0531267  0.000235962  1.67524e-10          nan          nan          nan          nan          nan          nan          nan          nan          nan          nan          nan          nan\r\n",
      "  -0.0516061  2.35881e-11  1.02904e-10  3.24038e-10 -2.90766e-12     0.490902 -2.54881e-10 -2.68217e-10  1.55184e-10   -0.0134402  0.000784912  1.93186e-11   0.00212443    0.0077064  6.72045e-11    0.0309987  1.90971e-10 -5.11098e-11  9.18535e-11 -1.62992e-10 -0.000235962    0.0531267  2.48299e-10          nan          nan          nan          nan          nan          nan          nan          nan          nan          nan          nan          nan\r\n",
      " 8.55351e-10  9.00468e-10     0.013415    -0.013415  1.80076e-09 -2.54881e-10     0.549557     0.219662   -0.0856635 -7.14942e-12  6.44005e-10   -0.0364953 -1.85355e-09  2.97883e-09 -9.22244e-10  3.16015e-10   -0.0113515  -0.00126679    0.0127128   -0.0330603  5.11356e-10 -7.46012e-09  -0.00157498          nan          nan          nan          nan          nan          nan          nan          nan          nan          nan          nan          nan\r\n",
      "  7.7882e-10  1.08663e-09     0.013415    -0.013415  1.37382e-09 -2.68217e-10     0.219662     0.549557   -0.0856635  4.69811e-11  7.52306e-10   -0.0364953   -1.892e-09  2.96245e-09 -7.15465e-10  2.13388e-10   0.00126679    0.0113515   -0.0330603    0.0127128  4.08183e-11 -7.44291e-09  -0.00157498          nan          nan          nan          nan          nan          nan          nan          nan          nan          nan          nan          nan\r\n",
      "-3.22573e-10 -1.97485e-10  -0.00500277   0.00500277 -8.20696e-10  1.55184e-10   -0.0856635   -0.0856635     0.662947 -1.74985e-10 -2.31598e-10  -0.00632525  4.08203e-10 -7.41401e-10  5.58289e-10 -1.54369e-10   0.00131633  -0.00131633   0.00387684   0.00387684 -9.19218e-10  2.85854e-09   0.00114719          nan          nan          nan          nan          nan          nan          nan          nan          nan          nan          nan          nan\r\n",
      "   0.0181636   0.00106076 -5.81888e-11 -5.01121e-11 -0.000784912   -0.0134402 -7.14942e-12  4.69811e-11 -1.74985e-10     0.680922  1.58958e-12  8.85923e-11  2.70672e-05   7.9718e-05  0.000503541   0.00862223 -3.65387e-10 -3.65808e-11   6.9596e-11  8.84031e-10  -0.00221001    -0.040968 -8.96016e-10          nan          nan          nan          nan          nan          nan          nan          nan          nan          nan          nan          nan\r\n",
      " -0.00106076    0.0181636 -1.45361e-11  6.86666e-11   -0.0134402  0.000784912  6.44005e-10  7.52306e-10 -2.31598e-10  1.58957e-12     0.680922 -1.12764e-10  7.97179e-05 -2.70672e-05   0.00862223 -0.000503541 -5.78839e-11  8.72318e-10 -5.51436e-10 -1.49469e-10    -0.040968   0.00221001 -8.14858e-10          nan          nan          nan          nan          nan          nan          nan          nan          nan          nan          nan          nan\r\n",
      "-7.14808e-11 -2.25177e-10  -0.00213134   0.00213134 -1.98448e-10  1.93186e-11   -0.0364953   -0.0364953  -0.00632525  8.85923e-11 -1.12764e-10      0.79826  3.98383e-10 -4.68342e-10 -1.58011e-11 -4.96577e-11   0.00465377  -0.00465377    0.0137062    0.0137062  8.88714e-11  8.70729e-10  0.000454677          nan          nan          nan          nan          nan          nan          nan          nan          nan          nan          nan          nan\r\n",
      "    0.010358    0.0375739 -8.97032e-11    7.332e-11    0.0077064   0.00212443 -1.85355e-09   -1.892e-09  4.08203e-10  2.70672e-05  7.97179e-05  3.98383e-10     0.956418   4.2861e-11   -0.0126696  -0.00349263  3.03923e-10 -4.16129e-10  1.05026e-09  1.04964e-09    0.0192789   0.00540685  3.06586e-11          nan          nan          nan          nan          nan          nan          nan          nan          nan          nan          nan          nan\r\n",
      "   0.0375739    -0.010358  1.83867e-10 -1.45416e-10  -0.00212443    0.0077064  2.97883e-09  2.96245e-09 -7.41401e-10   7.9718e-05 -2.70672e-05 -4.68342e-10   4.2861e-11     0.956418   0.00349263   -0.0126696  -5.7698e-10  5.77596e-10 -1.67378e-09 -1.78598e-09  -0.00540685    0.0192789 -8.01243e-12          nan          nan          nan          nan          nan          nan          nan          nan          nan          nan          nan          nan\r\n",
      "-2.03433e-11    0.0421019 -1.71801e-10   6.9174e-11    0.0309987  6.72045e-11 -9.22244e-10 -7.15465e-10  5.58289e-10  0.000503541   0.00862223 -1.58011e-11   -0.0126696   0.00349263     0.988566  3.79692e-11  8.55312e-12 -1.86371e-10  2.23302e-10 -1.98318e-11   -0.0223628 -9.93243e-05  3.66146e-10          nan          nan          nan          nan          nan          nan          nan          nan          nan          nan          nan          nan\r\n",
      "   0.0421019 -2.03433e-11 -2.08461e-11 -1.85933e-10  6.72044e-11    0.0309987  3.16015e-10  2.13388e-10 -1.54369e-10   0.00862223 -0.000503541 -4.96577e-11  -0.00349263   -0.0126696  3.79692e-11     0.988566   1.2204e-10  1.21093e-10 -1.18199e-11 -1.89638e-10  9.93244e-05   -0.0223628  4.45704e-10          nan          nan          nan          nan          nan          nan          nan          nan          nan          nan          nan          nan\r\n",
      "-2.33137e-10 -1.94337e-11    0.0470559  -0.00128282 -6.52645e-11  1.90971e-10   -0.0113515   0.00126679   0.00131633 -3.65387e-10 -5.78839e-11   0.00465377  3.03923e-10  -5.7698e-10  8.55312e-12   1.2204e-10       1.0332  -0.00656406    0.0132418    0.0132418 -5.76536e-11  5.06317e-10  -0.00427263          nan          nan          nan          nan          nan          nan          nan          nan          nan          nan          nan          nan\r\n",
      "  1.3078e-10  2.13675e-10  -0.00128282    0.0470559 -1.89581e-10 -5.11098e-11  -0.00126679    0.0113515  -0.00131633 -3.65808e-11  8.72318e-10  -0.00465377 -4.16129e-10  5.77596e-10 -1.86371e-10  1.21093e-10  -0.00656406       1.0332   -0.0132418   -0.0132418  6.22732e-11 -5.85368e-10   0.00427263          nan          nan          nan          nan          nan          nan          nan          nan          nan          nan          nan          nan\r\n",
      "-3.01331e-10 -9.73624e-11  -0.00259138    0.0152097 -1.33912e-10  9.18535e-11    0.0127128   -0.0330603   0.00387684   6.9596e-11 -5.51436e-10    0.0137062  1.05026e-09 -1.67378e-09  2.23302e-10 -1.18199e-11    0.0132418   -0.0132418      1.06771    0.0410675 -2.87321e-10    1.406e-09   0.00205163          nan          nan          nan          nan          nan          nan          nan          nan          nan          nan          nan          nan\r\n",
      "-1.07089e-10  4.99464e-12   -0.0152097   0.00259138 -2.73773e-10 -1.62992e-10   -0.0330603    0.0127128   0.00387684  8.84031e-10 -1.49469e-10    0.0137062  1.04964e-09 -1.78598e-09 -1.98318e-11 -1.89638e-10    0.0132418   -0.0132418    0.0410675      1.06771 -2.09945e-10  1.41073e-09   0.00205163          nan          nan          nan          nan          nan          nan          nan          nan          nan          nan          nan          nan\r\n",
      "-0.000334207    0.0752465 -2.48753e-10  3.00619e-10   -0.0690159  0.000306534 -1.37557e-09 -1.00757e-09  9.70632e-10   0.00166743    0.0309099 -4.53026e-11  -0.00866888   0.00243123    0.0364086 -0.000161708  1.19847e-10 -1.21118e-10  4.87665e-10  4.84876e-10    -0.194424  2.25211e-10  3.79939e-09          nan          nan          nan          nan          nan          nan          nan          nan          nan          nan          nan          nan\r\n",
      "   0.0752465  0.000334207  1.79634e-10 -5.59112e-10 -0.000306534   -0.0690159  5.06033e-09  5.10953e-09 -2.26145e-09    0.0309099  -0.00166743   -7.957e-10  -0.00243123  -0.00866888  0.000161708    0.0364086 -4.43832e-10  4.49061e-10 -1.20883e-09 -1.21008e-09  2.25211e-10    -0.194424  1.19778e-09          nan          nan          nan          nan          nan          nan          nan          nan          nan          nan          nan          nan\r\n",
      "-3.04734e-10 -4.79423e-10    -0.014182     0.014182  4.11126e-10  1.86397e-10   0.00440014   0.00440014  -0.00133515 -1.14244e-09 -1.07748e-09 -0.000535166  7.68292e-11  1.04489e-10 -4.14759e-11    1.635e-10  -0.00597847   0.00597847   0.00149843   0.00149843  3.89376e-09  1.34826e-09     0.958377          nan          nan          nan          nan          nan          nan          nan          nan          nan          nan          nan          nan\r\n",
      "        -nan         -nan         -nan         -nan         -nan         -nan         -nan         -nan         -nan         -nan         -nan         -nan         -nan         -nan         -nan         -nan         -nan         -nan         -nan         -nan         -nan         -nan         -nan          nan          nan          nan          nan          nan          nan          nan          nan          nan          nan          nan          nan\r\n",
      "        -nan         -nan         -nan         -nan         -nan         -nan         -nan         -nan         -nan         -nan         -nan         -nan         -nan         -nan         -nan         -nan         -nan         -nan         -nan         -nan         -nan         -nan         -nan         -nan         -nan         -nan         -nan         -nan         -nan         -nan         -nan         -nan         -nan         -nan         -nan\r\n",
      "        -nan         -nan         -nan         -nan         -nan         -nan         -nan         -nan         -nan         -nan         -nan         -nan         -nan         -nan         -nan         -nan         -nan         -nan         -nan         -nan         -nan         -nan         -nan         -nan         -nan         -nan         -nan         -nan         -nan         -nan         -nan         -nan         -nan         -nan         -nan\r\n",
      "        -nan         -nan         -nan         -nan         -nan         -nan         -nan         -nan         -nan         -nan         -nan         -nan         -nan         -nan         -nan         -nan         -nan         -nan         -nan         -nan         -nan         -nan         -nan          nan          nan          nan          nan          nan          nan          nan          nan          nan          nan          nan          nan\r\n",
      "        -nan         -nan         -nan         -nan         -nan         -nan         -nan         -nan         -nan         -nan         -nan         -nan         -nan         -nan         -nan         -nan         -nan         -nan         -nan         -nan         -nan         -nan         -nan          nan          nan          nan          nan          nan          nan          nan          nan          nan          nan          nan          nan\r\n",
      "        -nan         -nan         -nan         -nan         -nan         -nan         -nan         -nan         -nan         -nan         -nan         -nan         -nan         -nan         -nan         -nan         -nan         -nan         -nan         -nan         -nan         -nan         -nan         -nan         -nan         -nan         -nan         -nan         -nan         -nan         -nan         -nan         -nan         -nan         -nan\r\n",
      "        -nan         -nan         -nan         -nan         -nan         -nan         -nan         -nan         -nan         -nan         -nan         -nan         -nan         -nan         -nan         -nan         -nan         -nan         -nan         -nan         -nan         -nan         -nan         -nan         -nan         -nan         -nan         -nan         -nan         -nan         -nan         -nan         -nan         -nan         -nan\r\n",
      "        -nan         -nan         -nan         -nan         -nan         -nan         -nan         -nan         -nan         -nan         -nan         -nan         -nan         -nan         -nan         -nan         -nan         -nan         -nan         -nan         -nan         -nan         -nan          nan          nan          nan          nan          nan          nan          nan          nan          nan          nan          nan          nan\r\n",
      "        -nan         -nan         -nan         -nan         -nan         -nan         -nan         -nan         -nan         -nan         -nan         -nan         -nan         -nan         -nan         -nan         -nan         -nan         -nan         -nan         -nan         -nan         -nan          nan          nan          nan          nan          nan          nan          nan          nan          nan          nan          nan          nan\r\n",
      "        -nan         -nan         -nan         -nan         -nan         -nan         -nan         -nan         -nan         -nan         -nan         -nan         -nan         -nan         -nan         -nan         -nan         -nan         -nan         -nan         -nan         -nan         -nan         -nan          nan          nan          nan         -nan          nan          nan          nan         -nan          nan          nan          nan\r\n",
      "        -nan         -nan         -nan         -nan         -nan         -nan         -nan         -nan         -nan         -nan         -nan         -nan         -nan         -nan         -nan         -nan         -nan         -nan         -nan         -nan         -nan         -nan         -nan         -nan          nan          nan          nan         -nan          nan          nan          nan         -nan          nan          nan          nan\r\n",
      "        -nan         -nan         -nan         -nan         -nan         -nan         -nan         -nan         -nan         -nan         -nan         -nan         -nan         -nan         -nan         -nan         -nan         -nan         -nan         -nan         -nan         -nan         -nan         -nan         -nan         -nan         -nan         -nan         -nan         -nan         -nan         -nan         -nan         -nan         -nan\r\n",
      "B\r\n",
      "    0.093811 -1.38415e-11  1.68754e-11 -1.31289e-10  1.45072e-11   -0.0328898   3.5442e-10  2.99535e-10 -1.98299e-10    0.0155307 -0.000906999 -3.66165e-11    0.0128437    0.0465907 -2.36367e-11    0.0481429 -2.87526e-10  1.38702e-10 -3.10604e-10 -3.80275e-11  0.000111516   -0.0251078 -4.00971e-10         -nan         -nan         -nan         -nan         -nan         -nan         -nan         -nan         -nan         -nan         -nan         -nan\r\n",
      "-1.38415e-11     0.093811 -9.49485e-11  4.00636e-11   -0.0328898  1.45072e-11  3.69217e-10   4.8363e-10 -1.23143e-10  0.000906999    0.0155307  -1.6677e-10    0.0465907   -0.0128437    0.0481429 -2.36367e-11 -1.28817e-11  2.85458e-10 -7.55945e-11  7.32291e-11   -0.0251078 -0.000111516 -5.11122e-10         -nan         -nan         -nan         -nan         -nan         -nan         -nan         -nan         -nan         -nan         -nan         -nan\r\n",
      " 1.68754e-11 -9.49485e-11     0.105885    0.0052973  1.02873e-10  7.14607e-11   0.00679601   0.00679601  -0.00367885 -5.18326e-11 -2.01587e-11  -0.00167114 -9.68779e-11  2.03928e-10 -2.10793e-10  -2.5376e-11    0.0640613  -0.00170035  -0.00248602   -0.0196771 -6.26163e-11 -1.11925e-11   -0.0418848         -nan         -nan         -nan         -nan         -nan         -nan         -nan         -nan         -nan         -nan         -nan         -nan\r\n",
      "-1.31289e-10  4.00636e-11    0.0052973     0.105885 -1.09965e-10  2.29134e-10  -0.00679601  -0.00679601   0.00367885 -5.46521e-11    7.109e-11   0.00167114  7.36379e-11 -1.53653e-10  7.36986e-11 -2.18538e-10  -0.00170035    0.0640613    0.0196771   0.00248602  1.33683e-10  1.11445e-10    0.0418848         -nan         -nan         -nan         -nan         -nan         -nan         -nan         -nan         -nan         -nan         -nan         -nan\r\n",
      " 1.45072e-11   -0.0328898  1.02873e-10 -1.09965e-10     0.240891 -7.01486e-13  1.10439e-09  8.03797e-10 -6.98437e-10   -0.0008435   -0.0144434 -1.60496e-10   0.00881463  -0.00242993    0.0441772  9.34181e-11 -5.66751e-11 -3.34169e-10 -5.75773e-11 -2.87397e-10  -0.00438142   -1.946e-05  5.20904e-10         -nan         -nan         -nan         -nan         -nan         -nan         -nan         -nan         -nan         -nan         -nan         -nan\r\n",
      "  -0.0328898  1.45072e-11  7.14607e-11  2.29134e-10 -7.01464e-13     0.240891 -1.39942e-10 -1.47034e-10  1.24431e-10   -0.0144434    0.0008435  9.93662e-12   0.00242993   0.00881463  9.34183e-11    0.0441772  2.79779e-10   -4.996e-11  1.11409e-10 -2.79436e-10    1.946e-05  -0.00438142  4.31828e-10         -nan         -nan         -nan         -nan         -nan         -nan         -nan         -nan         -nan         -nan         -nan         -nan\r\n",
      "  3.5442e-10  3.69217e-10   0.00679601  -0.00679601  1.10439e-09 -1.39942e-10     0.221857     0.110675   -0.0629937 -1.34667e-12  4.62582e-10   -0.0286153  -1.9265e-09  3.22477e-09 -1.03135e-09  3.29031e-10   -0.0100832  -0.00710788    0.0331017   -0.0292593 -8.01335e-10 -3.84166e-10   0.00294434         -nan         -nan         -nan         -nan         -nan         -nan         -nan         -nan         -nan         -nan         -nan         -nan\r\n",
      " 2.99535e-10   4.8363e-10   0.00679601  -0.00679601  8.03797e-10 -1.47034e-10     0.110675     0.221857   -0.0629937  4.95846e-11  5.69067e-10   -0.0286153 -1.97677e-09  3.20153e-09 -7.87432e-10  1.91936e-10   0.00710788    0.0100832   -0.0292593    0.0331017 -8.98778e-10 -3.12121e-10   0.00294434         -nan         -nan         -nan         -nan         -nan         -nan         -nan         -nan         -nan         -nan         -nan         -nan\r\n",
      "-1.98299e-10 -1.23143e-10  -0.00367885   0.00367885 -6.98437e-10  1.24431e-10   -0.0629937   -0.0629937     0.429278 -2.25284e-10 -2.34118e-10   -0.0121538  4.56161e-10 -9.09245e-10  7.69056e-10 -2.09128e-10 -6.20581e-06  6.20583e-06 -1.82774e-05 -1.82773e-05 -7.43999e-11  5.84301e-10  5.88216e-05         -nan         -nan         -nan         -nan         -nan         -nan         -nan         -nan         -nan         -nan         -nan         -nan\r\n",
      "   0.0155307  0.000906999 -5.18326e-11 -5.46521e-11   -0.0008435   -0.0144434 -1.34667e-12  4.95846e-11 -2.25284e-10     0.463967  2.12279e-12   1.1768e-10   0.00020795  0.000612453    0.0006049    0.0103578 -6.15646e-10 -6.26056e-11  1.11942e-10  1.49083e-09 -0.000955314   -0.0177091 -1.86774e-09         -nan         -nan         -nan         -nan         -nan         -nan         -nan         -nan         -nan         -nan         -nan         -nan\r\n",
      "-0.000906999    0.0155307 -2.01587e-11    7.109e-11   -0.0144434    0.0008435  4.62582e-10  5.69067e-10 -2.34118e-10  2.12277e-12     0.463967 -1.09255e-10  0.000612453  -0.00020795    0.0103578   -0.0006049 -7.68616e-11  1.45574e-09 -8.66485e-10 -1.88234e-10   -0.0177091  0.000955314 -1.77776e-09         -nan         -nan         -nan         -nan         -nan         -nan         -nan         -nan         -nan         -nan         -nan         -nan\r\n",
      "-3.66165e-11  -1.6677e-10  -0.00167114   0.00167114 -1.60496e-10  9.93662e-12   -0.0286153   -0.0286153   -0.0121538   1.1768e-10 -1.09255e-10     0.636067  5.47475e-10 -6.15453e-10 -6.46846e-11 -6.61847e-11   0.00672875  -0.00672875    0.0198175    0.0198175  1.03279e-10 -8.61236e-12  4.56938e-05         -nan         -nan         -nan         -nan         -nan         -nan         -nan         -nan         -nan         -nan         -nan         -nan\r\n",
      "   0.0128437    0.0465907 -9.68779e-11  7.36379e-11   0.00881463   0.00242993  -1.9265e-09 -1.97677e-09  4.56161e-10   0.00020795  0.000612453  5.47475e-10     0.917068  7.51398e-11   -0.0214898   -0.0059241  5.28692e-10 -7.58515e-10  1.85839e-09  1.85386e-09    0.0223825    0.0062773  1.65353e-10         -nan         -nan         -nan         -nan         -nan         -nan         -nan         -nan         -nan         -nan         -nan         -nan\r\n",
      "   0.0465907   -0.0128437  2.03928e-10 -1.53653e-10  -0.00242993   0.00881463  3.22477e-09  3.20153e-09 -9.09245e-10  0.000612453  -0.00020795 -6.15453e-10  7.51398e-11     0.917068    0.0059241   -0.0214898 -1.02445e-09  1.02898e-09 -2.98482e-09 -3.21464e-09   -0.0062773    0.0223825  1.26235e-10         -nan         -nan         -nan         -nan         -nan         -nan         -nan         -nan         -nan         -nan         -nan         -nan\r\n",
      "-2.36367e-11    0.0481429 -2.10793e-10  7.36986e-11    0.0441772  9.34182e-11 -1.03135e-09 -7.87432e-10  7.69056e-10    0.0006049    0.0103578 -6.46846e-11   -0.0214898    0.0059241     0.981535  7.31878e-11 -3.47631e-12 -3.06034e-10  3.62766e-10 -7.52081e-11   0.00424838  1.88692e-05  3.17251e-10         -nan         -nan         -nan         -nan         -nan         -nan         -nan         -nan         -nan         -nan         -nan         -nan\r\n",
      "   0.0481429 -2.36367e-11  -2.5376e-11 -2.18538e-10  9.34181e-11    0.0441772  3.29031e-10  1.91936e-10 -2.09128e-10    0.0103578   -0.0006049 -6.61847e-11   -0.0059241   -0.0214898  7.31879e-11     0.981535  2.22772e-10  2.15203e-10  -7.2354e-12 -3.16746e-10 -1.88691e-05   0.00424838  6.75748e-10         -nan         -nan         -nan         -nan         -nan         -nan         -nan         -nan         -nan         -nan         -nan         -nan\r\n",
      "-2.87526e-10 -1.28817e-11    0.0640613  -0.00170035 -5.66751e-11  2.79779e-10   -0.0100832   0.00710788 -6.20581e-06 -6.15646e-10 -7.68616e-11   0.00672875  5.28692e-10 -1.02445e-09 -3.47631e-12  2.22772e-10      1.06907   -0.0128058    0.0247442    0.0247442  4.20816e-11  2.29721e-10   -0.0150502         -nan         -nan         -nan         -nan         -nan         -nan         -nan         -nan         -nan         -nan         -nan         -nan\r\n",
      " 1.38702e-10  2.85458e-10  -0.00170035    0.0640613 -3.34169e-10   -4.996e-11  -0.00710788    0.0100832  6.20583e-06 -6.26056e-11  1.45574e-09  -0.00672875 -7.58515e-10  1.02898e-09 -3.06034e-10  2.15203e-10   -0.0128058      1.06907   -0.0247442   -0.0247442  -1.3899e-10 -2.90844e-10    0.0150502         -nan         -nan         -nan         -nan         -nan         -nan         -nan         -nan         -nan         -nan         -nan         -nan\r\n",
      "-3.10604e-10 -7.55945e-11  -0.00248602    0.0196771 -5.75773e-11  1.11409e-10    0.0331017   -0.0292593 -1.82774e-05  1.11942e-10 -8.66485e-10    0.0198175  1.85839e-09 -2.98482e-09  3.62766e-10  -7.2354e-12    0.0247442   -0.0247442      1.13355    0.0772805   1.1905e-10  4.33552e-10   0.00545509         -nan         -nan         -nan         -nan         -nan         -nan         -nan         -nan         -nan         -nan         -nan         -nan\r\n",
      "-3.80275e-11  7.32291e-11   -0.0196771   0.00248602 -2.87397e-10 -2.79436e-10   -0.0292593    0.0331017 -1.82773e-05  1.49083e-09 -1.88234e-10    0.0198175  1.85386e-09 -3.21464e-09 -7.52081e-11 -3.16746e-10    0.0247442   -0.0247442    0.0772805      1.13355  1.80389e-10  3.36913e-10   0.00545509         -nan         -nan         -nan         -nan         -nan         -nan         -nan         -nan         -nan         -nan         -nan         -nan\r\n",
      " 0.000254749   -0.0573567  4.50646e-13  4.61939e-11  -0.00347861  1.54502e-05 -3.29018e-10 -5.33629e-10 -3.83129e-12 -0.000549735   -0.0101907 -2.32812e-11    0.0179486  -0.00503377    0.0191591 -8.50952e-05 -1.27474e-14  9.07486e-11  5.04933e-11  2.62746e-10     0.600541  2.25809e-10   2.8126e-09         -nan         -nan         -nan         -nan         -nan         -nan         -nan         -nan         -nan         -nan         -nan         -nan\r\n",
      "  -0.0573567 -0.000254749 -1.64931e-10  3.71765e-10 -1.54502e-05  -0.00347861 -3.85751e-09 -3.80953e-09  6.45021e-10   -0.0101907  0.000549735   1.3895e-10   0.00503377    0.0179486  8.50951e-05    0.0191591 -1.49313e-10 -6.08709e-11 -1.42189e-10 -5.13503e-11  2.25809e-10     0.600541  6.98072e-11         -nan         -nan         -nan         -nan         -nan         -nan         -nan         -nan         -nan         -nan         -nan         -nan\r\n",
      "-3.28059e-10 -3.21341e-10   -0.0423657    0.0423657  6.07784e-10  5.83076e-10   0.00291358   0.00291358 -0.000444891 -1.66946e-09 -1.60315e-09  -0.00021777   1.0981e-10  1.72963e-10  4.07738e-10  8.27791e-10   -0.0160927    0.0160927   0.00533613   0.00533613  3.14892e-09  5.24331e-10      1.98493         -nan         -nan         -nan         -nan         -nan         -nan         -nan         -nan         -nan         -nan         -nan         -nan\r\n",
      "        -nan         -nan         -nan         -nan         -nan         -nan         -nan         -nan         -nan         -nan         -nan         -nan         -nan         -nan         -nan         -nan         -nan         -nan         -nan         -nan         -nan         -nan         -nan         -nan         -nan         -nan         -nan         -nan         -nan         -nan         -nan         -nan         -nan         -nan         -nan\r\n",
      "        -nan         -nan         -nan         -nan         -nan         -nan         -nan         -nan         -nan         -nan         -nan         -nan         -nan         -nan         -nan         -nan         -nan         -nan         -nan         -nan         -nan         -nan         -nan         -nan         -nan         -nan         -nan         -nan         -nan         -nan         -nan         -nan         -nan         -nan         -nan\r\n",
      "        -nan         -nan         -nan         -nan         -nan         -nan         -nan         -nan         -nan         -nan         -nan         -nan         -nan         -nan         -nan         -nan         -nan         -nan         -nan         -nan         -nan         -nan         -nan         -nan         -nan         -nan         -nan         -nan         -nan         -nan         -nan         -nan         -nan         -nan         -nan\r\n",
      "        -nan         -nan         -nan         -nan         -nan         -nan         -nan         -nan         -nan         -nan         -nan         -nan         -nan         -nan         -nan         -nan         -nan         -nan         -nan         -nan         -nan         -nan         -nan         -nan         -nan         -nan         -nan         -nan         -nan         -nan         -nan         -nan         -nan         -nan         -nan\r\n",
      "        -nan         -nan         -nan         -nan         -nan         -nan         -nan         -nan         -nan         -nan         -nan         -nan         -nan         -nan         -nan         -nan         -nan         -nan         -nan         -nan         -nan         -nan         -nan         -nan         -nan         -nan         -nan         -nan         -nan         -nan         -nan         -nan         -nan         -nan         -nan\r\n",
      "        -nan         -nan         -nan         -nan         -nan         -nan         -nan         -nan         -nan         -nan         -nan         -nan         -nan         -nan         -nan         -nan         -nan         -nan         -nan         -nan         -nan         -nan         -nan         -nan         -nan         -nan         -nan         -nan         -nan         -nan         -nan         -nan         -nan         -nan         -nan\r\n",
      "        -nan         -nan         -nan         -nan         -nan         -nan         -nan         -nan         -nan         -nan         -nan         -nan         -nan         -nan         -nan         -nan         -nan         -nan         -nan         -nan         -nan         -nan         -nan         -nan         -nan         -nan         -nan         -nan         -nan         -nan         -nan         -nan         -nan         -nan         -nan\r\n",
      "        -nan         -nan         -nan         -nan         -nan         -nan         -nan         -nan         -nan         -nan         -nan         -nan         -nan         -nan         -nan         -nan         -nan         -nan         -nan         -nan         -nan         -nan         -nan         -nan         -nan         -nan         -nan         -nan         -nan         -nan         -nan         -nan         -nan         -nan         -nan\r\n",
      "        -nan         -nan         -nan         -nan         -nan         -nan         -nan         -nan         -nan         -nan         -nan         -nan         -nan         -nan         -nan         -nan         -nan         -nan         -nan         -nan         -nan         -nan         -nan         -nan         -nan         -nan         -nan         -nan         -nan         -nan         -nan         -nan         -nan         -nan         -nan\r\n",
      "        -nan         -nan         -nan         -nan         -nan         -nan         -nan         -nan         -nan         -nan         -nan         -nan         -nan         -nan         -nan         -nan         -nan         -nan         -nan         -nan         -nan         -nan         -nan         -nan         -nan         -nan         -nan         -nan         -nan         -nan         -nan         -nan         -nan         -nan         -nan\r\n",
      "        -nan         -nan         -nan         -nan         -nan         -nan         -nan         -nan         -nan         -nan         -nan         -nan         -nan         -nan         -nan         -nan         -nan         -nan         -nan         -nan         -nan         -nan         -nan         -nan         -nan         -nan         -nan         -nan         -nan         -nan         -nan         -nan         -nan         -nan         -nan\r\n",
      "        -nan         -nan         -nan         -nan         -nan         -nan         -nan         -nan         -nan         -nan         -nan         -nan         -nan         -nan         -nan         -nan         -nan         -nan         -nan         -nan         -nan         -nan         -nan          nan          nan          nan          nan          nan          nan          nan          nan          nan          nan          nan          nan\r\n",
      "an error occurred:\r\n",
      "Small generalized eigenvalue problem failed.\r\n"
     ]
    }
   ],
   "source": [
    "!xtp_tools -c job_name=CO geometry_optimization.maxiter=1 dftpackage.basisset=3-21G dftpackage.auxbasisset=aux-def2-svp gwbse.gw.mode=G0W0 -e dftgwbse -t 4"
   ]
  },
  {
   "cell_type": "markdown",
   "metadata": {},
   "source": [
    "Notice that we are using 4 threads. The results will be stored in a file named `CO_summary.xml` in the current work directory, together with the optimization step in `optimisation.trj` and the orbitals in [hdf5 format](https://www.hdfgroup.org/solutions/hdf5/) saved on `CO.orb`."
   ]
  }
 ],
 "metadata": {
  "kernelspec": {
   "display_name": "Python 3",
   "language": "python",
   "name": "python3"
  },
  "language_info": {
   "codemirror_mode": {
    "name": "ipython",
    "version": 3
   },
   "file_extension": ".py",
   "mimetype": "text/x-python",
   "name": "python",
   "nbconvert_exporter": "python",
   "pygments_lexer": "ipython3",
   "version": "3.11.1"
  }
 },
 "nbformat": 4,
 "nbformat_minor": 4
}
