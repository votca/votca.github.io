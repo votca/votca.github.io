{
 "cells": [
  {
   "cell_type": "markdown",
   "metadata": {},
   "source": [
    "## DFT + GWBSE Optimization Using CO"
   ]
  },
  {
   "cell_type": "markdown",
   "metadata": {},
   "source": [
    "## Introduction\n",
    "This tutorial explains how to perform a molecular geometric optimization using the **GWBSE** method. See [the GW Compendium: A Practical Guide to Theoretical Photoemission Spectroscopy](https://doi.org/10.3389/fchem.2019.00377), for an excellent introduction to the method."
   ]
  },
  {
   "cell_type": "markdown",
   "metadata": {},
   "source": [
    "## Requirements\n",
    "* You will need to install **VOTCA** using the instructions described [here](https://github.com/votca/votca/blob/master/share/doc/INSTALL.rst)\n",
    "* Once the installation is completed you need to activate the VOTCA enviroment by running the `VOTCARC.bash` script that has been installed at the bin subfolder for the path that you have provided for the installation step above"
   ]
  },
  {
   "cell_type": "markdown",
   "metadata": {},
   "source": [
    "## Preparing the input\n",
    "To run a DFT-GWBSE calculation we will use the [xtp_tools](https://www.votca.org/xtp/xtp_tools_overview.html) calculator."
   ]
  },
  {
   "cell_type": "markdown",
   "metadata": {},
   "source": [
    "we can now change the calculator mode from single point energy calculation to optimization as follows by adding \n",
    "`-c geometry_optimization.maxiter=1` which enables optimization with one iteration. "
   ]
  },
  {
   "cell_type": "markdown",
   "metadata": {},
   "source": [
    "Because geometry optimsation is quite expensive numerically we chose a smaller basisset and G0W0 Finally, to run the calculation we just need the following command (This still takes a while)"
   ]
  },
  {
   "cell_type": "code",
   "execution_count": 1,
   "metadata": {
    "execution": {
     "iopub.execute_input": "2022-01-12T00:38:24.678111Z",
     "iopub.status.busy": "2022-01-12T00:38:24.676334Z",
     "iopub.status.idle": "2022-01-12T00:39:35.814811Z",
     "shell.execute_reply": "2022-01-12T00:39:35.815210Z"
    }
   },
   "outputs": [
    {
     "name": "stdout",
     "output_type": "stream",
     "text": [
      "==================================================\r\n",
      "========   VOTCA (http://www.votca.org)   ========\r\n",
      "==================================================\r\n",
      "\r\n",
      "please submit bugs to https://github.com/votca/xtp/issues\r\n",
      "\r\n",
      "xtp_tools, version 2022-dev gitid: 2b7b209 (compiled Jan 12 2022, 00:29:29)\r\n",
      "votca_csg, version 2022-dev gitid: 2b7b209 (compiled Jan 12 2022, 00:15:41)\r\n",
      "votca_tools, version 2022-dev gitid: 2b7b209 (compiled Jan 12 2022, 00:12:50)\r\n",
      "\r\n",
      "Initializing tool\r\n",
      "... dftgwbse Evaluating tool\r\n",
      "... dftgwbse  Using 4 threads\r\n",
      "... ... Reading structure from CO.xyz\r\n",
      "... ... Requested geometry optimization of excited state s1\r\n",
      "... ... Initial state: s1\r\n",
      "... ... WARNING: No tracker is used \r\n",
      "... ... Convergence of total energy: 0.000001 Hartree \r\n",
      "... ... Convergence of RMS Force:    0.000030 Hartree/Bohr \r\n",
      "... ... Convergence of Max Force:    0.000100 Hartree/Bohr \r\n",
      "... ... Convergence of RMS Step:     0.000600 Bohr \r\n",
      "... ... Convergence of Max Step:     0.001000 Bohr \r\n",
      "... ... Initial trust radius:        0.018897 Bohr\r\n",
      "... ... \r\n",
      "... ... =========== OPTIMIZATION SUMMARY ================================= \r\n",
      "... ... At iteration  0\r\n",
      "... ...  ---- POSITIONS (Angstrom)   \r\n",
      "... ...  Atom\t x\t  y\t  z \r\n",
      "... ...    0    +0.0000  +0.0000  +0.0000\r\n",
      "... ...    1    +1.2000  +0.0000  +0.0000\r\n",
      "... ...    Total energy:     -112.26831841 Hartree \r\n",
      "... ...    Trust radius:       0.01889726 Bohr     \r\n",
      "... ...  ---- FORCES (Hartree/Bohr)   \r\n",
      "... ...       central differences   \r\n",
      "... ...       displacement 0.0010 Angstrom   \r\n",
      "... ...  Atom\t x\t  y\t  z \r\n",
      "... ...    0    -0.1314  -0.0000  -0.0000\r\n",
      "... ...    1    +0.1314  +0.0000  +0.0000A\r\n",
      "     0.30157 -3.40501e-13  4.02003e-11  2.02622e-11 -2.68536e-13     0.051948  3.26237e-12 -3.27488e-12  1.07536e-12  0.000211103    0.0176753 -4.37548e-13 -0.000743918   -0.0390183 -2.11651e-13    0.0423787  1.37034e-12 -1.26803e-12 -4.27881e-13  -4.2954e-13 -0.000137399    -0.107191 -1.70515e-11          nan          nan          nan          nan          nan          nan          nan          nan          nan          nan          nan          nan\r\n",
      "-3.40529e-13      0.30157  3.42697e-12  3.41445e-12     0.051948 -2.68504e-13 -2.47826e-10  2.67764e-10  -9.5332e-11   -0.0176753  0.000211103  3.87764e-11    0.0390183 -0.000743918    0.0423787 -2.11661e-13 -2.60952e-13  2.62657e-13  3.88012e-11  3.89035e-11     0.107191 -0.000137399  -2.5355e-13          nan          nan          nan          nan          nan          nan          nan          nan          nan          nan          nan          nan\r\n",
      " 4.02003e-11  3.42697e-12     0.310861   -0.0100485 -1.85157e-12  2.44504e-11   -0.0027647    0.0027647  -0.00108238 -1.21419e-12  1.10804e-11  0.000486191 -1.19687e-13  4.61698e-12 -2.74476e-13  5.03022e-11   -0.0492311   0.00196033 -0.000509381  0.000391879  1.33476e-11 -5.27962e-11   -0.0248183          nan          nan          nan          nan          nan          nan          nan          nan          nan          nan          nan          nan\r\n",
      " 2.02622e-11  3.41445e-12   -0.0100485     0.310861 -1.86785e-12 -4.00183e-13   -0.0027647    0.0027647  -0.00108238 -1.32707e-12  1.09792e-12  0.000486191 -1.54097e-13  2.75639e-12  -3.0823e-13 -4.06833e-13  -0.00196033    0.0492311  0.000391879 -0.000509381  1.33729e-11 -1.20706e-11   -0.0248183          nan          nan          nan          nan          nan          nan          nan          nan          nan          nan          nan          nan\r\n",
      "-2.68534e-13     0.051948 -1.85157e-12 -1.86785e-12     0.487116 -4.40034e-14  1.79491e-10  -1.5464e-10  8.36833e-11   -0.0136225  0.000162699 -4.01325e-11  -0.00828225  0.000157908   -0.0302057 -7.44623e-13  2.28912e-13  -1.8108e-13 -2.82821e-11  -2.5845e-11    0.0548637 -7.03248e-05  7.93698e-13          nan          nan          nan          nan          nan          nan          nan          nan          nan          nan          nan          nan\r\n",
      "    0.051948 -2.68503e-13  2.44504e-11 -4.00183e-13 -4.39761e-14     0.487116 -1.74638e-12  1.73012e-12 -9.42675e-13  0.000162699    0.0136225  4.52126e-13  0.000157908   0.00828225 -7.44593e-13   -0.0302057  2.30864e-12  1.28402e-13  3.36464e-13   2.8863e-13 -7.03248e-05   -0.0548637 -5.56785e-12          nan          nan          nan          nan          nan          nan          nan          nan          nan          nan          nan          nan\r\n",
      " 3.26237e-12 -2.47826e-10   -0.0027647   -0.0027647  1.79491e-10 -1.74638e-12     0.542311    -0.221402    0.0906259  1.01735e-10  5.73944e-14   -0.0407079  1.29285e-11 -4.79084e-14  7.33072e-11 -2.58726e-13 -0.000682683 -0.000218577    0.0132923   -0.0339786 -1.06716e-09  -1.0983e-11  0.000400561          nan          nan          nan          nan          nan          nan          nan          nan          nan          nan          nan          nan\r\n",
      "-3.27488e-12  2.67764e-10    0.0027647    0.0027647  -1.5464e-10  1.73012e-12    -0.221402     0.542311   -0.0906259 -1.11718e-10  5.55009e-14    0.0407079 -1.47891e-11  8.22335e-14 -2.25982e-11  2.24889e-13 -0.000218577 -0.000682683    0.0339786   -0.0132923  1.10717e-09  1.09572e-11 -0.000400561          nan          nan          nan          nan          nan          nan          nan          nan          nan          nan          nan          nan\r\n",
      " 1.07536e-12  -9.5332e-11  -0.00108238  -0.00108238  8.36833e-11 -9.42675e-13    0.0906259   -0.0906259     0.660145  6.15271e-11  -4.0851e-14   0.00527337  -3.1206e-12  2.42744e-14   3.3098e-11 -3.72733e-13  3.36272e-05 -3.36272e-05  -0.00472234  -0.00472234  -3.6091e-10 -3.49454e-12  0.000275616          nan          nan          nan          nan          nan          nan          nan          nan          nan          nan          nan          nan\r\n",
      " 0.000211103   -0.0176753 -1.21419e-12 -1.32707e-12   -0.0136225  0.000162699  1.01735e-10 -1.11718e-10  6.15271e-11     0.669023  7.80365e-15 -8.25959e-12  9.83173e-06 -7.00104e-08  -0.00903003  0.000107849  2.94285e-14 -7.38816e-14 -4.78404e-12 -1.05562e-11   -0.0409862 -0.000436971  4.13346e-14          nan          nan          nan          nan          nan          nan          nan          nan          nan          nan          nan          nan\r\n",
      "   0.0176753  0.000211103  1.10804e-11  1.09792e-12  0.000162699    0.0136225  5.73943e-14   5.5501e-14  -4.0851e-14  7.83965e-15     0.669023  5.58085e-15  7.00104e-08  9.83173e-06  0.000107849   0.00903003 -1.87618e-12  7.64837e-12 -6.38086e-15 -5.08117e-14  0.000436971   -0.0409862 -7.91779e-12          nan          nan          nan          nan          nan          nan          nan          nan          nan          nan          nan          nan\r\n",
      "-4.37548e-13  3.87764e-11  0.000486191  0.000486191 -4.01325e-11  4.52126e-13   -0.0407079    0.0407079   0.00527337 -8.25959e-12  5.58084e-15     0.793384 -1.18502e-11   9.2529e-14  3.85044e-12 -4.35794e-14 -0.000108573  0.000108573    0.0152472    0.0152472    1.386e-10  1.33832e-12 -0.000115181          nan          nan          nan          nan          nan          nan          nan          nan          nan          nan          nan          nan\r\n",
      "-0.000743918    0.0390183 -1.19687e-13 -1.54097e-13  -0.00828225  0.000157908  1.29285e-11 -1.47891e-11  -3.1206e-12  9.83173e-06  7.00104e-08 -1.18502e-11     0.954425  5.47888e-14   -0.0128921    0.0002458 -4.04577e-14  3.10152e-14  1.11237e-11 -3.32619e-12   -0.0199022 -0.000353934 -1.38411e-13          nan          nan          nan          nan          nan          nan          nan          nan          nan          nan          nan          nan\r\n",
      "  -0.0390183 -0.000743918  4.61698e-12  2.75639e-12  0.000157908   0.00828225 -4.79084e-14  8.22335e-14  2.42744e-14 -7.00104e-08  9.83173e-06   9.2529e-14    5.482e-14     0.954425    0.0002458    0.0128921  6.21844e-12  8.23138e-12 -3.24182e-14 -4.18875e-14  0.000353934   -0.0199022 -6.00181e-12          nan          nan          nan          nan          nan          nan          nan          nan          nan          nan          nan          nan\r\n",
      "-2.11667e-13    0.0423787 -2.74476e-13  -3.0823e-13   -0.0302057 -7.44576e-13  7.33072e-11 -2.25982e-11   3.3098e-11  -0.00903003  0.000107849  3.85044e-12   -0.0128921    0.0002458     0.974684  4.27901e-13  2.61705e-13  1.00494e-13 -1.51485e-11   3.2003e-12    0.0229107 -2.93671e-05  2.34019e-13          nan          nan          nan          nan          nan          nan          nan          nan          nan          nan          nan          nan\r\n",
      "   0.0423787 -2.11675e-13  5.03022e-11 -4.06833e-13 -7.44597e-13   -0.0302057 -2.58726e-13  2.24889e-13 -3.72733e-13  0.000107849   0.00903003 -4.35794e-14    0.0002458    0.0128921  4.27939e-13     0.974684  1.25417e-11   5.8071e-12  2.72246e-13 -8.99364e-14 -2.93671e-05   -0.0229107  5.51278e-13          nan          nan          nan          nan          nan          nan          nan          nan          nan          nan          nan          nan\r\n",
      " 1.37034e-12 -2.60952e-13   -0.0492311  -0.00196033  2.28912e-13  2.30864e-12 -0.000682683 -0.000218577  3.36272e-05  2.94285e-14 -1.87618e-12 -0.000108573 -4.04578e-14  6.21844e-12  2.61705e-13  1.25417e-11      1.02179  -0.00208629 -0.000304505 -0.000304505 -9.81348e-13 -8.35212e-12   0.00474305          nan          nan          nan          nan          nan          nan          nan          nan          nan          nan          nan          nan\r\n",
      "-1.26803e-12  2.62657e-13   0.00196033    0.0492311  -1.8108e-13  1.28402e-13 -0.000218577 -0.000682683 -3.36272e-05 -7.38815e-14  7.64837e-12  0.000108573  3.10152e-14  8.23138e-12  1.00494e-13   5.8071e-12  -0.00208629      1.02179  0.000304505  0.000304505  1.08305e-12  2.72768e-12  -0.00474305          nan          nan          nan          nan          nan          nan          nan          nan          nan          nan          nan          nan\r\n",
      "-4.27881e-13  3.88012e-11 -0.000509381  0.000391879 -2.82821e-11  3.36464e-13    0.0132923    0.0339786  -0.00472234 -4.78404e-12 -6.38084e-15    0.0152472  1.11237e-11 -3.24182e-14 -1.51485e-11  2.72246e-13 -0.000304505  0.000304505      1.06455    0.0448465  1.50633e-10  1.39989e-12 -7.21325e-05          nan          nan          nan          nan          nan          nan          nan          nan          nan          nan          nan          nan\r\n",
      " -4.2954e-13  3.89035e-11  0.000391879 -0.000509381  -2.5845e-11   2.8863e-13   -0.0339786   -0.0132923  -0.00472234 -1.05562e-11 -5.08117e-14    0.0152472 -3.32619e-12 -4.18875e-14   3.2003e-12 -8.99364e-14 -0.000304505  0.000304505    0.0448465      1.06455  1.56186e-10  1.50367e-12 -7.21325e-05          nan          nan          nan          nan          nan          nan          nan          nan          nan          nan          nan          nan\r\n",
      "   9.567e-05   -0.0746366 -8.00001e-12  -8.0139e-12    -0.069959  8.96741e-05  6.27359e-10  -6.4644e-10  2.65827e-10    0.0304403 -0.000324537 -1.18742e-10    0.0091834 -0.000163314   -0.0362981  4.65272e-05  8.37952e-13 -7.65757e-13 -1.15492e-10  -1.1159e-10    -0.195037 -2.06514e-12  6.77969e-12          nan          nan          nan          nan          nan          nan          nan          nan          nan          nan          nan          nan\r\n",
      "   0.0746366    9.567e-05  4.46044e-11  2.49469e-11  8.96741e-05     0.069959  6.50022e-12 -6.48893e-12  2.54391e-12  0.000324537    0.0304403 -1.13973e-12  0.000163314    0.0091834  4.65272e-05    0.0362981 -1.66619e-12 -2.12111e-12 -1.12465e-12  -1.0544e-12 -2.06508e-12    -0.195037 -4.35626e-10          nan          nan          nan          nan          nan          nan          nan          nan          nan          nan          nan          nan\r\n",
      " 3.96178e-11  7.42307e-13   -0.0140968   -0.0140968 -8.38925e-13  1.12507e-11 -0.000878345  0.000878345  -0.00028074 -1.13224e-13  1.93488e-11  0.000117521  6.84553e-14  6.23474e-12  1.80856e-13  4.44191e-11    0.0061013   -0.0061013  0.000147634  0.000147634  8.37604e-12 -4.38755e-10     0.942304          nan          nan          nan          nan          nan          nan          nan          nan          nan          nan          nan          nan\r\n",
      "        -nan         -nan         -nan         -nan         -nan         -nan         -nan         -nan         -nan         -nan         -nan         -nan         -nan         -nan         -nan         -nan         -nan         -nan         -nan         -nan         -nan         -nan         -nan          nan          nan          nan          nan          nan          nan          nan          nan          nan          nan          nan          nan\r\n",
      "        -nan         -nan         -nan         -nan         -nan         -nan         -nan         -nan         -nan         -nan         -nan         -nan         -nan         -nan         -nan         -nan         -nan         -nan         -nan         -nan         -nan         -nan         -nan         -nan         -nan         -nan         -nan         -nan         -nan         -nan         -nan         -nan         -nan         -nan         -nan\r\n",
      "        -nan         -nan         -nan         -nan         -nan         -nan         -nan         -nan         -nan         -nan         -nan         -nan         -nan         -nan         -nan         -nan         -nan         -nan         -nan         -nan         -nan         -nan         -nan         -nan         -nan         -nan         -nan         -nan         -nan         -nan         -nan         -nan         -nan         -nan         -nan\r\n",
      "        -nan         -nan         -nan         -nan         -nan         -nan         -nan         -nan         -nan         -nan         -nan         -nan         -nan         -nan         -nan         -nan         -nan         -nan         -nan         -nan         -nan         -nan         -nan          nan          nan          nan          nan          nan          nan          nan          nan          nan          nan          nan          nan\r\n",
      "        -nan         -nan         -nan         -nan         -nan         -nan         -nan         -nan         -nan         -nan         -nan         -nan         -nan         -nan         -nan         -nan         -nan         -nan         -nan         -nan         -nan         -nan         -nan          nan          nan          nan          nan          nan          nan          nan          nan          nan          nan          nan          nan\r\n",
      "        -nan         -nan         -nan         -nan         -nan         -nan         -nan         -nan         -nan         -nan         -nan         -nan         -nan         -nan         -nan         -nan         -nan         -nan         -nan         -nan         -nan         -nan         -nan         -nan         -nan         -nan         -nan         -nan         -nan         -nan         -nan         -nan         -nan         -nan         -nan\r\n",
      "        -nan         -nan         -nan         -nan         -nan         -nan         -nan         -nan         -nan         -nan         -nan         -nan         -nan         -nan         -nan         -nan         -nan         -nan         -nan         -nan         -nan         -nan         -nan         -nan         -nan         -nan         -nan         -nan         -nan         -nan         -nan         -nan         -nan         -nan         -nan\r\n",
      "        -nan         -nan         -nan         -nan         -nan         -nan         -nan         -nan         -nan         -nan         -nan         -nan         -nan         -nan         -nan         -nan         -nan         -nan         -nan         -nan         -nan         -nan         -nan          nan          nan          nan          nan          nan          nan          nan          nan          nan          nan          nan          nan\r\n",
      "        -nan         -nan         -nan         -nan         -nan         -nan         -nan         -nan         -nan         -nan         -nan         -nan         -nan         -nan         -nan         -nan         -nan         -nan         -nan         -nan         -nan         -nan         -nan          nan          nan          nan          nan          nan          nan          nan          nan          nan          nan          nan          nan\r\n",
      "        -nan         -nan         -nan         -nan         -nan         -nan         -nan         -nan         -nan         -nan         -nan         -nan         -nan         -nan         -nan         -nan         -nan         -nan         -nan         -nan         -nan         -nan         -nan         -nan          nan          nan          nan         -nan          nan          nan          nan         -nan          nan          nan          nan\r\n",
      "        -nan         -nan         -nan         -nan         -nan         -nan         -nan         -nan         -nan         -nan         -nan         -nan         -nan         -nan         -nan         -nan         -nan         -nan         -nan         -nan         -nan         -nan         -nan         -nan          nan          nan          nan         -nan          nan          nan          nan         -nan          nan          nan          nan\r\n",
      "        -nan         -nan         -nan         -nan         -nan         -nan         -nan         -nan         -nan         -nan         -nan         -nan         -nan         -nan         -nan         -nan         -nan         -nan         -nan         -nan         -nan         -nan         -nan         -nan         -nan         -nan         -nan         -nan         -nan         -nan         -nan         -nan         -nan         -nan         -nan\r\n",
      "B\r\n",
      "   0.0906271 -1.49127e-13  2.37738e-11   9.4607e-12 -1.63985e-13    0.0326354  1.36978e-12  -1.3789e-12  6.75309e-13   0.00017755    0.0148659 -2.88434e-13 -0.000917357   -0.0481151 -2.41786e-13    0.0477892  8.43511e-13 -3.27446e-13  -3.2467e-13 -3.34431e-13 -3.13729e-05   -0.0244754  2.72409e-11         -nan         -nan         -nan         -nan         -nan         -nan         -nan         -nan         -nan         -nan         -nan         -nan\r\n",
      "-1.49142e-13    0.0906271  1.43762e-12  1.42849e-12    0.0326354 -1.63966e-13 -9.71071e-11   1.1142e-10 -5.98657e-11   -0.0148659   0.00017755   2.5556e-11    0.0481151 -0.000917357    0.0477892   -2.418e-13 -1.99291e-13  2.09103e-13  2.93408e-11  2.98568e-11    0.0244754 -3.13729e-05  5.41594e-13         -nan         -nan         -nan         -nan         -nan         -nan         -nan         -nan         -nan         -nan         -nan         -nan\r\n",
      " 2.37738e-11  1.43762e-12      0.09975  -0.00552223 -1.09735e-12  1.60588e-11  -0.00135311   0.00135311   -0.0007789 -8.63505e-13  1.04383e-11  0.000378473  3.59055e-14  4.99312e-12 -3.35469e-13  6.16336e-11   -0.0659049   0.00225976 -0.000880386  0.000333066  1.72423e-12 -7.27921e-12   -0.0408431         -nan         -nan         -nan         -nan         -nan         -nan         -nan         -nan         -nan         -nan         -nan         -nan\r\n",
      "  9.4607e-12  1.42849e-12  -0.00552223      0.09975 -1.10807e-12 -3.37582e-13  -0.00135311   0.00135311   -0.0007789 -9.76287e-13  4.62705e-13  0.000378473  -9.9901e-15  2.50871e-12 -3.77221e-13 -1.10097e-12  -0.00225976    0.0659049  0.000333066 -0.000880386  1.73527e-12   1.4109e-11   -0.0408431         -nan         -nan         -nan         -nan         -nan         -nan         -nan         -nan         -nan         -nan         -nan         -nan\r\n",
      "-1.63988e-13    0.0326354 -1.09735e-12 -1.10807e-12     0.236919 -1.65224e-14  1.07951e-10  -9.1555e-11  7.17796e-11    -0.014388  0.000171841 -3.85663e-11  -0.00947231  0.000180598   -0.0425853 -1.02186e-12  2.36192e-13 -1.77136e-13 -2.85467e-11 -2.55346e-11  -0.00365057  4.67933e-06  5.28952e-14         -nan         -nan         -nan         -nan         -nan         -nan         -nan         -nan         -nan         -nan         -nan         -nan\r\n",
      "   0.0326354 -1.63964e-13  1.60588e-11 -3.37582e-13 -1.64968e-14     0.236919 -1.03515e-12  1.02445e-12 -8.08628e-13  0.000171841     0.014388  4.34536e-13  0.000180598   0.00947231 -1.02182e-12   -0.0425853  2.76092e-12   2.5109e-13  3.43009e-13  2.83944e-13  4.67933e-06   0.00365057  3.19275e-12         -nan         -nan         -nan         -nan         -nan         -nan         -nan         -nan         -nan         -nan         -nan         -nan\r\n",
      " 1.36978e-12 -9.71071e-11  -0.00135311  -0.00135311  1.07951e-10 -1.03515e-12     0.213027    -0.107755    0.0652159  7.23371e-11   6.9495e-14   -0.0316889  1.12493e-13  5.58966e-14  8.97841e-11 -3.17143e-13  -0.00103225 -0.000181204    0.0344121    -0.029233 -1.37214e-10 -1.44276e-12 -0.000500022         -nan         -nan         -nan         -nan         -nan         -nan         -nan         -nan         -nan         -nan         -nan         -nan\r\n",
      " -1.3789e-12   1.1142e-10   0.00135311   0.00135311  -9.1555e-11  1.02445e-12    -0.107755     0.213027   -0.0652159 -8.23128e-11  4.32988e-14    0.0316889 -2.59689e-12 -1.01063e-14 -2.70495e-11  2.75279e-13 -0.000181204  -0.00103225     0.029233   -0.0344121  1.58409e-10  1.42749e-12  0.000500022         -nan         -nan         -nan         -nan         -nan         -nan         -nan         -nan         -nan         -nan         -nan         -nan\r\n",
      " 6.75309e-13 -5.98657e-11   -0.0007789   -0.0007789  7.17796e-11 -8.08628e-13    0.0652159   -0.0652159     0.424482  6.67832e-11 -4.42516e-14    0.0113321 -1.12916e-11   8.7992e-14   4.4845e-11 -5.05015e-13   4.2833e-06  -4.2833e-06 -0.000601514 -0.000601514 -8.46644e-11 -8.21292e-13  5.33578e-05         -nan         -nan         -nan         -nan         -nan         -nan         -nan         -nan         -nan         -nan         -nan         -nan\r\n",
      "  0.00017755   -0.0148659 -8.63505e-13 -9.76287e-13    -0.014388  0.000171841  7.23371e-11 -8.23128e-11  6.67832e-11     0.448028  1.02066e-14 -5.53503e-12 -0.000495529   3.5286e-06   -0.0107663  0.000128586 -2.20281e-14 -5.66223e-14  1.93907e-12 -8.26651e-12   -0.0177605 -0.000189353  -3.7829e-14         -nan         -nan         -nan         -nan         -nan         -nan         -nan         -nan         -nan         -nan         -nan         -nan\r\n",
      "   0.0148659   0.00017755  1.04383e-11  4.62706e-13  0.000171841     0.014388  6.94949e-14  4.32989e-14 -4.42517e-14  1.02659e-14     0.448028  3.75956e-15  -3.5286e-06 -0.000495529  0.000128586    0.0107663  -3.2816e-12  1.34872e-11 -1.79852e-14 -9.66036e-14  0.000189353   -0.0177605  1.47299e-11         -nan         -nan         -nan         -nan         -nan         -nan         -nan         -nan         -nan         -nan         -nan         -nan\r\n",
      "-2.88434e-13   2.5556e-11  0.000378473  0.000378473 -3.85663e-11  4.34536e-13   -0.0316889    0.0316889    0.0113321 -5.53503e-12  3.75956e-15     0.627711 -1.66124e-11  1.29729e-13  8.80248e-12 -9.94685e-14 -0.000155648  0.000155648     0.021858     0.021858  1.37213e-11  1.22734e-13 -3.17761e-05         -nan         -nan         -nan         -nan         -nan         -nan         -nan         -nan         -nan         -nan         -nan         -nan\r\n",
      "-0.000917357    0.0481151  3.59055e-14  -9.9901e-15  -0.00947231  0.000180598  1.12493e-13 -2.59689e-12 -1.12916e-11 -0.000495529  -3.5286e-06 -1.66124e-11     0.913264  9.37449e-14   -0.0216025  0.000411871 -1.06786e-13  8.77195e-14  2.62682e-11 -2.88338e-12   -0.0227499 -0.000404577 -2.01323e-13         -nan         -nan         -nan         -nan         -nan         -nan         -nan         -nan         -nan         -nan         -nan         -nan\r\n",
      "  -0.0481151 -0.000917357  4.99312e-12  2.50871e-12  0.000180598   0.00947231  5.58966e-14 -1.01063e-14   8.7992e-14   3.5286e-06 -0.000495529  1.29729e-13  9.38048e-14     0.913264  0.000411871    0.0216025  1.28126e-11  1.63388e-11 -9.34093e-14 -1.12529e-13  0.000404577   -0.0227499 -4.45599e-12         -nan         -nan         -nan         -nan         -nan         -nan         -nan         -nan         -nan         -nan         -nan         -nan\r\n",
      "-2.41807e-13    0.0477892 -3.35469e-13 -3.77221e-13   -0.0425853 -1.02179e-12  8.97841e-11 -2.70495e-11   4.4845e-11   -0.0107663  0.000128586  8.80248e-12   -0.0216025  0.000411871     0.954146  8.13221e-13  4.43649e-13  2.09946e-13 -2.56671e-11  7.44296e-12  -0.00328346  4.20878e-06   5.9306e-13         -nan         -nan         -nan         -nan         -nan         -nan         -nan         -nan         -nan         -nan         -nan         -nan\r\n",
      "   0.0477892 -2.41812e-13  6.16336e-11 -1.10097e-12 -1.02182e-12   -0.0425853 -3.17143e-13  2.75279e-13 -5.05015e-13  0.000128586    0.0107663 -9.94685e-14  0.000411871    0.0216025  8.13289e-13     0.954146  2.11476e-11  1.19625e-11  4.61938e-13 -1.91618e-13  4.20878e-06   0.00328346  5.04444e-11         -nan         -nan         -nan         -nan         -nan         -nan         -nan         -nan         -nan         -nan         -nan         -nan\r\n",
      " 8.43511e-13 -1.99291e-13   -0.0659049  -0.00225976  2.36192e-13  2.76092e-12  -0.00103225 -0.000181204   4.2833e-06 -2.20281e-14  -3.2816e-12 -0.000155648 -1.06786e-13  1.28126e-11  4.43649e-13  2.11476e-11      1.04646  -0.00440389 -0.000565352 -0.000565352 -1.78519e-13 -1.69261e-11    0.0159309         -nan         -nan         -nan         -nan         -nan         -nan         -nan         -nan         -nan         -nan         -nan         -nan\r\n",
      "-3.27446e-13  2.09103e-13   0.00225976    0.0659049 -1.77136e-13   2.5109e-13 -0.000181204  -0.00103225  -4.2833e-06 -5.66223e-14  1.34872e-11  0.000155648  8.77194e-14  1.63388e-11  2.09946e-13  1.19625e-11  -0.00440389      1.04646  0.000565352  0.000565352   4.3471e-13  2.99913e-12   -0.0159309         -nan         -nan         -nan         -nan         -nan         -nan         -nan         -nan         -nan         -nan         -nan         -nan\r\n",
      " -3.2467e-13  2.93408e-11 -0.000880386  0.000333066 -2.85467e-11  3.43009e-13    0.0344121     0.029233 -0.000601514  1.93907e-12 -1.79852e-14     0.021858  2.62682e-11 -9.34094e-14 -2.56671e-11  4.61938e-13 -0.000565352  0.000565352      1.12585    0.0837936  5.05629e-11  3.58329e-13  6.52447e-05         -nan         -nan         -nan         -nan         -nan         -nan         -nan         -nan         -nan         -nan         -nan         -nan\r\n",
      "-3.34431e-13  2.98568e-11  0.000333066 -0.000880386 -2.55346e-11  2.83944e-13    -0.029233   -0.0344121 -0.000601514 -8.26651e-12 -9.66036e-14     0.021858 -2.88338e-12 -1.12529e-13  7.44296e-12 -1.91618e-13 -0.000565352  0.000565352    0.0837936      1.12585  6.45031e-11  6.15452e-13  6.52447e-05         -nan         -nan         -nan         -nan         -nan         -nan         -nan         -nan         -nan         -nan         -nan         -nan\r\n",
      " -7.1881e-05    0.0560777  7.17001e-12  7.18642e-12  -0.00265972  3.40925e-06  -5.8288e-10  6.10985e-10 -9.00963e-11   -0.0109723  0.000116981  1.84666e-11   -0.0178406  0.000317271     -0.01806  2.31495e-05  4.21471e-13 -3.08417e-14  -3.1115e-11  -9.9001e-12     0.585022  -2.3056e-12  5.16327e-12         -nan         -nan         -nan         -nan         -nan         -nan         -nan         -nan         -nan         -nan         -nan         -nan\r\n",
      "  -0.0560777  -7.1881e-05 -1.90656e-11  9.14476e-12  3.40925e-06   0.00265972 -6.04077e-12  6.02207e-12 -9.25647e-13 -0.000116981   -0.0109723   1.9911e-13 -0.000317271   -0.0178406  2.31495e-05      0.01806 -1.87641e-11 -2.33653e-12 -4.38098e-13 -4.80026e-14 -2.30559e-12     0.585022 -4.37603e-10         -nan         -nan         -nan         -nan         -nan         -nan         -nan         -nan         -nan         -nan         -nan         -nan\r\n",
      " 1.04314e-11  4.50809e-13   -0.0412938   -0.0412938   7.4517e-14  1.34021e-11 -0.000504831  0.000504831 -6.38495e-05 -1.61589e-13  1.74021e-12  3.67849e-05 -1.39633e-13 -4.62909e-12  3.81967e-13  4.93386e-11     0.016839    -0.016839  0.000162775  0.000162775  6.99936e-12 -4.32157e-10      1.94808         -nan         -nan         -nan         -nan         -nan         -nan         -nan         -nan         -nan         -nan         -nan         -nan\r\n",
      "        -nan         -nan         -nan         -nan         -nan         -nan         -nan         -nan         -nan         -nan         -nan         -nan         -nan         -nan         -nan         -nan         -nan         -nan         -nan         -nan         -nan         -nan         -nan         -nan         -nan         -nan         -nan         -nan         -nan         -nan         -nan         -nan         -nan         -nan         -nan\r\n",
      "        -nan         -nan         -nan         -nan         -nan         -nan         -nan         -nan         -nan         -nan         -nan         -nan         -nan         -nan         -nan         -nan         -nan         -nan         -nan         -nan         -nan         -nan         -nan         -nan         -nan         -nan         -nan         -nan         -nan         -nan         -nan         -nan         -nan         -nan         -nan\r\n",
      "        -nan         -nan         -nan         -nan         -nan         -nan         -nan         -nan         -nan         -nan         -nan         -nan         -nan         -nan         -nan         -nan         -nan         -nan         -nan         -nan         -nan         -nan         -nan         -nan         -nan         -nan         -nan         -nan         -nan         -nan         -nan         -nan         -nan         -nan         -nan\r\n",
      "        -nan         -nan         -nan         -nan         -nan         -nan         -nan         -nan         -nan         -nan         -nan         -nan         -nan         -nan         -nan         -nan         -nan         -nan         -nan         -nan         -nan         -nan         -nan         -nan         -nan         -nan         -nan         -nan         -nan         -nan         -nan         -nan         -nan         -nan         -nan\r\n",
      "        -nan         -nan         -nan         -nan         -nan         -nan         -nan         -nan         -nan         -nan         -nan         -nan         -nan         -nan         -nan         -nan         -nan         -nan         -nan         -nan         -nan         -nan         -nan         -nan         -nan         -nan         -nan         -nan         -nan         -nan         -nan         -nan         -nan         -nan         -nan\r\n",
      "        -nan         -nan         -nan         -nan         -nan         -nan         -nan         -nan         -nan         -nan         -nan         -nan         -nan         -nan         -nan         -nan         -nan         -nan         -nan         -nan         -nan         -nan         -nan         -nan         -nan         -nan         -nan         -nan         -nan         -nan         -nan         -nan         -nan         -nan         -nan\r\n",
      "        -nan         -nan         -nan         -nan         -nan         -nan         -nan         -nan         -nan         -nan         -nan         -nan         -nan         -nan         -nan         -nan         -nan         -nan         -nan         -nan         -nan         -nan         -nan         -nan         -nan         -nan         -nan         -nan         -nan         -nan         -nan         -nan         -nan         -nan         -nan\r\n",
      "        -nan         -nan         -nan         -nan         -nan         -nan         -nan         -nan         -nan         -nan         -nan         -nan         -nan         -nan         -nan         -nan         -nan         -nan         -nan         -nan         -nan         -nan         -nan         -nan         -nan         -nan         -nan         -nan         -nan         -nan         -nan         -nan         -nan         -nan         -nan\r\n",
      "        -nan         -nan         -nan         -nan         -nan         -nan         -nan         -nan         -nan         -nan         -nan         -nan         -nan         -nan         -nan         -nan         -nan         -nan         -nan         -nan         -nan         -nan         -nan         -nan         -nan         -nan         -nan         -nan         -nan         -nan         -nan         -nan         -nan         -nan         -nan\r\n",
      "        -nan         -nan         -nan         -nan         -nan         -nan         -nan         -nan         -nan         -nan         -nan         -nan         -nan         -nan         -nan         -nan         -nan         -nan         -nan         -nan         -nan         -nan         -nan         -nan         -nan         -nan         -nan         -nan         -nan         -nan         -nan         -nan         -nan         -nan         -nan\r\n",
      "        -nan         -nan         -nan         -nan         -nan         -nan         -nan         -nan         -nan         -nan         -nan         -nan         -nan         -nan         -nan         -nan         -nan         -nan         -nan         -nan         -nan         -nan         -nan         -nan         -nan         -nan         -nan         -nan         -nan         -nan         -nan         -nan         -nan         -nan         -nan\r\n",
      "        -nan         -nan         -nan         -nan         -nan         -nan         -nan         -nan         -nan         -nan         -nan         -nan         -nan         -nan         -nan         -nan         -nan         -nan         -nan         -nan         -nan         -nan         -nan          nan          nan          nan          nan          nan          nan          nan          nan          nan          nan          nan          nan\r\n",
      "an error occurred:\r\n",
      "Small generalized eigenvalue problem failed.\r\n"
     ]
    }
   ],
   "source": [
    "!xtp_tools -c job_name=CO geometry_optimization.maxiter=1 dftpackage.basisset=3-21G dftpackage.auxbasisset=aux-def2-svp gwbse.gw.mode=G0W0 -e dftgwbse -t 4"
   ]
  },
  {
   "cell_type": "markdown",
   "metadata": {},
   "source": [
    "Notice that we are using 4 threads. The results will be stored in a file named `CO_summary.xml` in the current work directory, together with the optimization step in `optimisation.trj` and the orbitals in [hdf5 format](https://www.hdfgroup.org/solutions/hdf5/) saved on `CO.orb`."
   ]
  }
 ],
 "metadata": {
  "kernelspec": {
   "display_name": "Python 3",
   "language": "python",
   "name": "python3"
  },
  "language_info": {
   "codemirror_mode": {
    "name": "ipython",
    "version": 3
   },
   "file_extension": ".py",
   "mimetype": "text/x-python",
   "name": "python",
   "nbconvert_exporter": "python",
   "pygments_lexer": "ipython3",
   "version": "3.10.1"
  }
 },
 "nbformat": 4,
 "nbformat_minor": 4
}
