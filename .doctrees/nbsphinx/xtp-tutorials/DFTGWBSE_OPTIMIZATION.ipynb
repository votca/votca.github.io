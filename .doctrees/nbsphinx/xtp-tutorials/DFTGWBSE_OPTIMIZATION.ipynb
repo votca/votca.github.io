{
 "cells": [
  {
   "cell_type": "markdown",
   "metadata": {},
   "source": [
    "## DFT + GWBSE Optimization Using CO"
   ]
  },
  {
   "cell_type": "markdown",
   "metadata": {},
   "source": [
    "## Introduction\n",
    "This tutorial explains how to perform a molecular geometric optimization using the **GWBSE** method. See [the GW Compendium: A Practical Guide to Theoretical Photoemission Spectroscopy](https://doi.org/10.3389/fchem.2019.00377), for an excellent introduction to the method."
   ]
  },
  {
   "cell_type": "markdown",
   "metadata": {},
   "source": [
    "## Requirements\n",
    "* You will need to install **VOTCA** using the instructions described [here](https://github.com/votca/votca/blob/master/share/doc/INSTALL.rst)\n",
    "* Once the installation is completed you need to activate the VOTCA enviroment by running the `VOTCARC.bash` script that has been installed at the bin subfolder for the path that you have provided for the installation step above"
   ]
  },
  {
   "cell_type": "markdown",
   "metadata": {},
   "source": [
    "## Preparing the input\n",
    "To run a DFT-GWBSE calculation we will use the [xtp_tools](https://www.votca.org/xtp/xtp_tools_overview.html) calculator."
   ]
  },
  {
   "cell_type": "markdown",
   "metadata": {},
   "source": [
    "we can now change the calculator mode from single point energy calculation to optimization as follows by adding \n",
    "`-c geometry_optimization.maxiter=1` which enables optimization with one iteration. "
   ]
  },
  {
   "cell_type": "markdown",
   "metadata": {},
   "source": [
    "Because geometry optimsation is quite expensive numerically we chose a smaller basisset and G0W0 Finally, to run the calculation we just need the following command (This still takes a while)"
   ]
  },
  {
   "cell_type": "code",
   "execution_count": 1,
   "metadata": {
    "execution": {
     "iopub.execute_input": "2021-08-14T03:39:33.255633Z",
     "iopub.status.busy": "2021-08-14T03:39:33.254905Z",
     "iopub.status.idle": "2021-08-14T03:40:00.350169Z",
     "shell.execute_reply": "2021-08-14T03:40:00.351050Z"
    }
   },
   "outputs": [
    {
     "name": "stdout",
     "output_type": "stream",
     "text": [
      "==================================================\r\n",
      "========   VOTCA (http://www.votca.org)   ========\r\n",
      "==================================================\r\n",
      "\r\n",
      "please submit bugs to https://github.com/votca/xtp/issues\r\n",
      "\r\n",
      "xtp_tools, version 2022-dev gitid: c4bfb9a (compiled Aug 14 2021, 03:30:30)\r\n",
      "votca_csg, version 2022-dev gitid: c4bfb9a (compiled Aug 14 2021, 03:14:38)\r\n",
      "votca_tools, version 2022-dev gitid: c4bfb9a (compiled Aug 14 2021, 03:11:46)\r\n",
      "\r\n",
      "Initializing tool\r\n",
      "... dftgwbse Evaluating tool\r\n",
      "... dftgwbse  Using 4 threads\r\n",
      "... ... Reading structure from CO.xyz\r\n",
      "... ... Requested geometry optimization of excited state s1\r\n",
      "... ... Initial state: s1\r\n",
      "... ... WARNING: No tracker is used \r\n",
      "... ... Convergence of total energy: 0.000001 Hartree \r\n",
      "... ... Convergence of RMS Force:    0.000030 Hartree/Bohr \r\n",
      "... ... Convergence of Max Force:    0.000100 Hartree/Bohr \r\n",
      "... ... Convergence of RMS Step:     0.000600 Bohr \r\n",
      "... ... Convergence of Max Step:     0.001000 Bohr \r\n",
      "... ... Initial trust radius:        0.018897 BohrA\r\n",
      "    0.307132  -3.0634e-11  1.79844e-10  5.20083e-10  2.32368e-11   -0.0516061  1.11674e-09 -1.03699e-09  3.87654e-10    0.0181647   0.00104154  1.10461e-10   -0.0103665    0.0375716 -2.00436e-11    0.0421019  -2.0839e-10  9.08006e-11  3.57855e-10  1.59131e-10  0.000479632    -0.108408 -1.82907e-10          nan          nan          nan          nan          nan          nan          nan          nan          nan          nan          nan          nan\r\n",
      "-3.06341e-11     0.307132  3.89061e-10  3.09306e-10   -0.0516061  2.32369e-11 -2.45188e-09  2.79212e-09 -8.22095e-10   0.00104154   -0.0181647 -3.85167e-10   -0.0375716   -0.0103665    0.0421019 -2.00435e-11  1.91529e-10  7.19579e-12 -5.01638e-10 -6.19227e-10    -0.108408 -0.000479631  -1.6837e-11          nan          nan          nan          nan          nan          nan          nan          nan          nan          nan          nan          nan\r\n",
      " 1.79844e-10  3.89061e-10     0.320605   -0.0092899 -1.39993e-11 -3.03737e-11   -0.0131727    0.0131727  -0.00491214  1.46115e-10 -1.02553e-10  -0.00209272 -1.21233e-11 -2.07211e-10  1.19219e-10 -7.51381e-12   -0.0470672   0.00129695  -0.00255532   -0.0151839 -9.88509e-10  3.13932e-10   -0.0254859          nan          nan          nan          nan          nan          nan          nan          nan          nan          nan          nan          nan\r\n",
      " 5.20083e-10  3.09306e-10   -0.0092899     0.320605 -2.23558e-11 -4.35098e-10   -0.0131727    0.0131727  -0.00491214  1.66389e-10 -1.48461e-10  -0.00209272  7.93243e-12 -1.82329e-10  1.27819e-11  4.05419e-10  -0.00129695    0.0470672   -0.0151839  -0.00255532 -9.64555e-10 -2.06226e-10   -0.0254859          nan          nan          nan          nan          nan          nan          nan          nan          nan          nan          nan          nan\r\n",
      " 2.32368e-11   -0.0516061 -1.39993e-11 -2.23558e-11     0.490902 -2.83682e-12 -1.49001e-09  1.08529e-09 -6.28852e-10 -0.000770691     0.013441 -1.85913e-10  -0.00770592  -0.00212616    0.0309987  6.61792e-11  4.61112e-11 -3.03107e-10 -2.08181e-10 -6.15513e-11    0.0531267   0.00023505 -2.09506e-10          nan          nan          nan          nan          nan          nan          nan          nan          nan          nan          nan          nan\r\n",
      "  -0.0516061  2.32369e-11 -3.03737e-11 -4.35098e-10 -2.83681e-12     0.490902 -9.28989e-11  1.01255e-10  -6.2549e-11    -0.013441 -0.000770691  5.24108e-12  -0.00212616   0.00770592  6.61793e-11    0.0309987  1.53792e-10 -7.16213e-12 -8.27077e-11  1.74288e-10  -0.00023505    0.0531267 -4.45874e-11          nan          nan          nan          nan          nan          nan          nan          nan          nan          nan          nan          nan\r\n",
      " 1.11674e-09 -2.45188e-09   -0.0131727   -0.0131727 -1.49001e-09 -9.28989e-11     0.549585     -0.21969    0.0856688  1.43304e-11  7.24902e-10    0.0364976  8.34421e-10  2.62276e-09  6.31697e-10    2.544e-10   -0.0113226  -0.00130601   -0.0126978    0.0330725  1.34037e-08 -8.26982e-09   0.00154654          nan          nan          nan          nan          nan          nan          nan          nan          nan          nan          nan          nan\r\n",
      "-1.03699e-09  2.79212e-09    0.0131727    0.0131727  1.08529e-09  1.01255e-10     -0.21969     0.549585   -0.0856688 -6.02388e-11 -7.45176e-10   -0.0364976 -8.59304e-10  -2.6027e-09 -2.18764e-10 -1.47963e-10  -0.00130601   -0.0113226   -0.0330725    0.0126978 -1.39173e-08  8.24232e-09  -0.00154654          nan          nan          nan          nan          nan          nan          nan          nan          nan          nan          nan          nan\r\n",
      " 3.87654e-10 -8.22095e-10  -0.00491214  -0.00491214 -6.28852e-10  -6.2549e-11    0.0856688   -0.0856688     0.662947   1.8002e-10   5.8185e-10  -0.00632525  2.93315e-10  7.01707e-10  3.36771e-10  9.71607e-11   -0.0013131    0.0013131   0.00387793   0.00387793  4.33978e-09 -3.05348e-09   0.00112628          nan          nan          nan          nan          nan          nan          nan          nan          nan          nan          nan          nan\r\n",
      "   0.0181647   0.00104154  1.46115e-10  1.66389e-10 -0.000770691    -0.013441  1.43304e-11 -6.02388e-11   1.8002e-10     0.680922 -1.60234e-12 -8.83656e-11 -2.70008e-05  7.97405e-05  0.000494418   0.00862276 -3.87306e-10 -1.48347e-13 -8.09522e-11 -8.90404e-10  -0.00216737   -0.0409703  6.68865e-10          nan          nan          nan          nan          nan          nan          nan          nan          nan          nan          nan          nan\r\n",
      "  0.00104154   -0.0181647 -1.02553e-10 -1.48461e-10     0.013441 -0.000770691  7.24902e-10 -7.45176e-10   5.8185e-10 -1.60237e-12     0.680922 -6.20487e-11  7.97404e-05  2.70008e-05  -0.00862276  0.000494418  4.19753e-12  -8.1365e-10 -3.78058e-10    9.397e-12    0.0409703  -0.00216737 -8.09462e-10          nan          nan          nan          nan          nan          nan          nan          nan          nan          nan          nan          nan\r\n",
      " 1.10461e-10 -3.85167e-10  -0.00209272  -0.00209272 -1.85913e-10  5.24108e-12    0.0364976   -0.0364976  -0.00632525 -8.83656e-11 -6.20487e-11      0.79826 -1.19232e-11  3.26486e-10 -1.10196e-10  5.76992e-11  -0.00464236   0.00464236    0.0137101    0.0137101  1.73228e-09 -9.75715e-10  0.000446503          nan          nan          nan          nan          nan          nan          nan          nan          nan          nan          nan          nan\r\n",
      "  -0.0103665   -0.0375716 -1.21233e-11  7.93243e-12  -0.00770592  -0.00212616  8.34421e-10 -8.59304e-10  2.93315e-10 -2.70008e-05  7.97404e-05 -1.19232e-11     0.956418  -4.2808e-11    0.0126688   0.00349549 -1.23821e-10  2.37456e-10   6.5477e-10    4.324e-10   -0.0192777  -0.00541087 -6.71873e-12          nan          nan          nan          nan          nan          nan          nan          nan          nan          nan          nan          nan\r\n",
      "   0.0375716   -0.0103665 -2.07211e-10 -1.82329e-10  -0.00212616   0.00770592  2.62276e-09  -2.6027e-09  7.01707e-10  7.97405e-05  2.70008e-05  3.26486e-10  -4.2808e-11     0.956418   0.00349549   -0.0126688 -4.23161e-10   6.4553e-10  1.49159e-09  1.60522e-09  -0.00541087    0.0192777  8.92982e-11          nan          nan          nan          nan          nan          nan          nan          nan          nan          nan          nan          nan\r\n",
      "-2.00436e-11    0.0421019  1.19219e-10  1.27819e-11    0.0309987  6.61793e-11  6.31697e-10 -2.18764e-10  3.36771e-10  0.000494418  -0.00862276 -1.10196e-10    0.0126688   0.00349549     0.988566  3.74263e-11  2.91785e-11 -1.10965e-10  3.58173e-11 -6.17038e-11   -0.0223628 -9.89405e-05 -3.29951e-10          nan          nan          nan          nan          nan          nan          nan          nan          nan          nan          nan          nan\r\n",
      "   0.0421019 -2.00436e-11 -7.51381e-12  4.05419e-10  6.61792e-11    0.0309987    2.544e-10 -1.47963e-10  9.71607e-11   0.00862276  0.000494418  5.76992e-11   0.00349549   -0.0126688  3.74263e-11     0.988566 -7.00371e-12 -9.05174e-11  6.75005e-11  1.49287e-10  9.89405e-05   -0.0223628 -1.73219e-10          nan          nan          nan          nan          nan          nan          nan          nan          nan          nan          nan          nan\r\n",
      " -2.0839e-10  1.91529e-10   -0.0470672  -0.00129695  4.61112e-11  1.53792e-10   -0.0113226  -0.00130601   -0.0013131 -3.87306e-10  4.19753e-12  -0.00464236 -1.23821e-10 -4.23161e-10  2.91785e-11 -7.00371e-12      1.03318  -0.00654204    -0.013213    -0.013213 -8.23834e-10  5.52296e-10   0.00427722          nan          nan          nan          nan          nan          nan          nan          nan          nan          nan          nan          nan\r\n",
      " 9.08006e-11  7.19579e-12   0.00129695    0.0470672 -3.03107e-10 -7.16213e-12  -0.00130601   -0.0113226    0.0013131 -1.48347e-13  -8.1365e-10   0.00464236  2.37456e-10   6.4553e-10 -1.10965e-10 -9.05174e-11  -0.00654204      1.03318     0.013213     0.013213  7.77185e-10  -4.5038e-10  -0.00427722          nan          nan          nan          nan          nan          nan          nan          nan          nan          nan          nan          nan\r\n",
      " 3.57855e-10 -5.01638e-10  -0.00255532   -0.0151839 -2.08181e-10 -8.27077e-11   -0.0126978   -0.0330725   0.00387793 -8.09522e-11 -3.78058e-10    0.0137101   6.5477e-10  1.49159e-09  3.58173e-11  6.75005e-11    -0.013213     0.013213      1.06773    0.0410895  2.36756e-09 -1.58743e-09     0.002039          nan          nan          nan          nan          nan          nan          nan          nan          nan          nan          nan          nan\r\n",
      " 1.59131e-10 -6.19227e-10   -0.0151839  -0.00255532 -6.15513e-11  1.74288e-10    0.0330725    0.0126978   0.00387793 -8.90404e-10    9.397e-12    0.0137101    4.324e-10  1.60522e-09 -6.17038e-11  1.49287e-10    -0.013213     0.013213    0.0410895      1.06773  2.46858e-09 -1.54023e-09     0.002039          nan          nan          nan          nan          nan          nan          nan          nan          nan          nan          nan          nan\r\n",
      "-0.000332915    0.0752465  6.87376e-10  7.32295e-10   -0.0690159  0.000305349 -8.05799e-09  8.33559e-09 -3.16332e-09   0.00163525   -0.0309116 -1.54305e-09   0.00866837   0.00243304    0.0364086 -0.000161084  5.57265e-10 -5.56703e-10 -1.77575e-09 -1.77925e-09    -0.194424  2.21757e-10 -4.21823e-09          nan          nan          nan          nan          nan          nan          nan          nan          nan          nan          nan          nan\r\n",
      "   0.0752465  0.000332915  1.14373e-12  2.85465e-10 -0.000305349   -0.0690159  5.49059e-09 -5.53316e-09  2.38405e-09    0.0309116   0.00163525  8.87097e-10   0.00243304  -0.00866837  0.000161083    0.0364086 -4.80605e-10  4.76359e-10  1.28122e-09  1.27978e-09  2.21757e-10    -0.194424 -5.54374e-09          nan          nan          nan          nan          nan          nan          nan          nan          nan          nan          nan          nan\r\n",
      " 5.99136e-10  5.29767e-10   -0.0141894   -0.0141894 -3.68892e-10 -5.51694e-10   -0.0043234    0.0043234  -0.00131192  1.02977e-09 -1.08959e-09 -0.000525996  8.35349e-11 -8.18205e-11  4.06956e-11  2.51661e-10   0.00597681  -0.00597681   0.00150165   0.00150165 -4.42852e-09  -5.4577e-09     0.958309          nan          nan          nan          nan          nan          nan          nan          nan          nan          nan          nan          nan\r\n",
      "        -nan         -nan         -nan         -nan         -nan         -nan         -nan         -nan         -nan         -nan         -nan         -nan         -nan         -nan         -nan         -nan         -nan         -nan         -nan         -nan         -nan         -nan         -nan          nan          nan          nan          nan          nan          nan          nan          nan          nan          nan          nan          nan\r\n",
      "        -nan         -nan         -nan         -nan         -nan         -nan         -nan         -nan         -nan         -nan         -nan         -nan         -nan         -nan         -nan         -nan         -nan         -nan         -nan         -nan         -nan         -nan         -nan         -nan         -nan         -nan         -nan         -nan         -nan         -nan         -nan         -nan         -nan         -nan         -nan\r\n",
      "        -nan         -nan         -nan         -nan         -nan         -nan         -nan         -nan         -nan         -nan         -nan         -nan         -nan         -nan         -nan         -nan         -nan         -nan         -nan         -nan         -nan         -nan         -nan         -nan         -nan         -nan         -nan         -nan         -nan         -nan         -nan         -nan         -nan         -nan         -nan\r\n",
      "        -nan         -nan         -nan         -nan         -nan         -nan         -nan         -nan         -nan         -nan         -nan         -nan         -nan         -nan         -nan         -nan         -nan         -nan         -nan         -nan         -nan         -nan         -nan          nan          nan          nan          nan          nan          nan          nan          nan          nan          nan          nan          nan\r\n",
      "        -nan         -nan         -nan         -nan         -nan         -nan         -nan         -nan         -nan         -nan         -nan         -nan         -nan         -nan         -nan         -nan         -nan         -nan         -nan         -nan         -nan         -nan         -nan          nan          nan          nan          nan          nan          nan          nan          nan          nan          nan          nan          nan\r\n",
      "        -nan         -nan         -nan         -nan         -nan         -nan         -nan         -nan         -nan         -nan         -nan         -nan         -nan         -nan         -nan         -nan         -nan         -nan         -nan         -nan         -nan         -nan         -nan         -nan         -nan         -nan         -nan         -nan         -nan         -nan         -nan         -nan         -nan         -nan         -nan\r\n",
      "        -nan         -nan         -nan         -nan         -nan         -nan         -nan         -nan         -nan         -nan         -nan         -nan         -nan         -nan         -nan         -nan         -nan         -nan         -nan         -nan         -nan         -nan         -nan         -nan         -nan         -nan         -nan         -nan         -nan         -nan         -nan         -nan         -nan         -nan         -nan\r\n",
      "        -nan         -nan         -nan         -nan         -nan         -nan         -nan         -nan         -nan         -nan         -nan         -nan         -nan         -nan         -nan         -nan         -nan         -nan         -nan         -nan         -nan         -nan         -nan          nan          nan          nan          nan          nan          nan          nan          nan          nan          nan          nan          nan\r\n",
      "        -nan         -nan         -nan         -nan         -nan         -nan         -nan         -nan         -nan         -nan         -nan         -nan         -nan         -nan         -nan         -nan         -nan         -nan         -nan         -nan         -nan         -nan         -nan          nan          nan          nan          nan          nan          nan          nan          nan          nan          nan          nan          nan\r\n",
      "        -nan         -nan         -nan         -nan         -nan         -nan         -nan         -nan         -nan         -nan         -nan         -nan         -nan         -nan         -nan         -nan         -nan         -nan         -nan         -nan         -nan         -nan         -nan         -nan          nan          nan          nan         -nan          nan          nan          nan         -nan          nan          nan          nan\r\n",
      "        -nan         -nan         -nan         -nan         -nan         -nan         -nan         -nan         -nan         -nan         -nan         -nan         -nan         -nan         -nan         -nan         -nan         -nan         -nan         -nan         -nan         -nan         -nan         -nan          nan          nan          nan         -nan          nan          nan          nan         -nan          nan          nan          nan\r\n",
      "        -nan         -nan         -nan         -nan         -nan         -nan         -nan         -nan         -nan         -nan         -nan         -nan         -nan         -nan         -nan         -nan         -nan         -nan         -nan         -nan         -nan         -nan         -nan         -nan         -nan         -nan         -nan         -nan         -nan         -nan         -nan         -nan         -nan         -nan         -nan\r\n",
      "B\r\n",
      "    0.093811 -1.36153e-11  9.61595e-11  3.20859e-10  1.42903e-11   -0.0328898  4.68291e-10 -4.11324e-10  2.38542e-10    0.0155317  0.000890566  6.35449e-11   -0.0128542    0.0465878 -2.32872e-11    0.0481429 -2.59215e-10  1.01336e-10  3.59603e-10  8.42137e-11  0.000111085   -0.0251078  4.90497e-10         -nan         -nan         -nan         -nan         -nan         -nan         -nan         -nan         -nan         -nan         -nan         -nan\r\n",
      "-1.36153e-11     0.093811  2.01246e-10  1.44279e-10   -0.0328898  1.42903e-11 -9.67727e-10  1.19243e-09  -5.0731e-10  0.000890566   -0.0155317 -2.54841e-10   -0.0465878   -0.0128542    0.0481429 -2.32871e-11  1.64357e-10  1.11032e-10 -4.29761e-10 -5.87641e-10   -0.0251078 -0.000111085   5.3851e-10         -nan         -nan         -nan         -nan         -nan         -nan         -nan         -nan         -nan         -nan         -nan         -nan\r\n",
      " 9.61595e-11  2.01246e-10      0.10587  -0.00531155 -1.86491e-11 -2.58765e-11  -0.00667329   0.00667329   -0.0036122  1.36141e-10 -8.75667e-11  -0.00164086 -2.42261e-11 -2.29979e-10  1.50967e-10 -1.30654e-11   -0.0640702   0.00171306  -0.00245364   -0.0196588 -7.99063e-11  1.94524e-10   -0.0418871         -nan         -nan         -nan         -nan         -nan         -nan         -nan         -nan         -nan         -nan         -nan         -nan\r\n",
      " 3.20859e-10  1.44279e-10  -0.00531155      0.10587 -2.22055e-11  -3.1539e-10  -0.00667329   0.00667329   -0.0036122  1.60334e-10 -1.30142e-10  -0.00164086  2.65604e-12 -1.93136e-10  9.17224e-12  5.05897e-10  -0.00171306    0.0640702   -0.0196588  -0.00245364 -5.31548e-12 -4.78988e-11   -0.0418871         -nan         -nan         -nan         -nan         -nan         -nan         -nan         -nan         -nan         -nan         -nan         -nan\r\n",
      " 1.42902e-11   -0.0328898 -1.86491e-11 -2.22055e-11     0.240891 -6.65711e-13 -9.44028e-10  6.54514e-10 -5.49398e-10 -0.000828219    0.0144443 -1.60932e-10  -0.00881408  -0.00243192    0.0441772  9.19952e-11  4.10344e-11  -4.2491e-10 -2.15394e-10 -1.15475e-11  -0.00438142 -1.93848e-05 -5.21182e-10         -nan         -nan         -nan         -nan         -nan         -nan         -nan         -nan         -nan         -nan         -nan         -nan\r\n",
      "  -0.0328898  1.42903e-11 -2.58765e-11  -3.1539e-10 -6.65687e-13     0.240891 -4.37259e-11  4.72822e-11 -4.46883e-11   -0.0144443 -0.000828219  1.06007e-11  -0.00243192   0.00881408  9.19953e-11    0.0441772  2.23132e-10 -1.92857e-11 -1.02576e-10    2.813e-10  1.93848e-05  -0.00438142  -4.8842e-10         -nan         -nan         -nan         -nan         -nan         -nan         -nan         -nan         -nan         -nan         -nan         -nan\r\n",
      " 4.68291e-10 -9.67727e-10  -0.00667329  -0.00667329 -9.44028e-10 -4.37259e-11     0.221871     -0.11069    0.0629976  1.79137e-11   5.4844e-10     0.028617  1.00122e-09  2.90111e-09  7.94477e-10  2.58577e-10    -0.010057  -0.00714812   -0.0330869    0.0292702  1.48723e-09 -5.30405e-10  -0.00289392         -nan         -nan         -nan         -nan         -nan         -nan         -nan         -nan         -nan         -nan         -nan         -nan\r\n",
      "-4.11324e-10  1.19243e-09   0.00667329   0.00667329  6.54514e-10  4.72822e-11     -0.11069     0.221871   -0.0629976  -6.0489e-11 -5.72633e-10    -0.028617 -1.03806e-09 -2.87423e-09 -2.75515e-10 -1.16783e-10  -0.00714812    -0.010057   -0.0292702    0.0330869 -1.72929e-09  4.54641e-10   0.00289392         -nan         -nan         -nan         -nan         -nan         -nan         -nan         -nan         -nan         -nan         -nan         -nan\r\n",
      " 2.38542e-10  -5.0731e-10   -0.0036122   -0.0036122 -5.49398e-10 -4.46883e-11    0.0629976   -0.0629976     0.429278  2.30993e-10  6.84382e-10   -0.0121538  4.22083e-10  8.97501e-10  4.70445e-10  1.29905e-10   6.1906e-06 -6.19062e-06 -1.82825e-05 -1.82825e-05  1.01347e-09 -6.37829e-10  5.66983e-05         -nan         -nan         -nan         -nan         -nan         -nan         -nan         -nan         -nan         -nan         -nan         -nan\r\n",
      "   0.0155317  0.000890566  1.36141e-10  1.60334e-10 -0.000828219   -0.0144443  1.79137e-11  -6.0489e-11  2.30993e-10     0.463967  -2.1399e-12 -1.17868e-10  -0.00020744  0.000612626   0.00059394    0.0103585 -6.64406e-10  5.19668e-12  -1.3404e-10  -1.5064e-09 -0.000936881   -0.0177101  1.63366e-09         -nan         -nan         -nan         -nan         -nan         -nan         -nan         -nan         -nan         -nan         -nan         -nan\r\n",
      " 0.000890566   -0.0155317 -8.75667e-11 -1.30142e-10    0.0144443 -0.000828219   5.4844e-10 -5.72633e-10  6.84382e-10 -2.13994e-12     0.463967 -1.23373e-10  0.000612626   0.00020744   -0.0103585   0.00059394  2.66122e-11 -1.39897e-09 -6.98204e-10 -3.89946e-11    0.0177101 -0.000936881 -1.78279e-09         -nan         -nan         -nan         -nan         -nan         -nan         -nan         -nan         -nan         -nan         -nan         -nan\r\n",
      " 6.35449e-11 -2.54841e-10  -0.00164086  -0.00164086 -1.60932e-10  1.06007e-11     0.028617    -0.028617   -0.0121538 -1.17868e-10 -1.23373e-10     0.636067 -4.92919e-11  4.09128e-10 -1.95668e-10  8.28073e-11  -0.00671225   0.00671225     0.019823     0.019823  9.92498e-11 -2.31436e-12    4.436e-05         -nan         -nan         -nan         -nan         -nan         -nan         -nan         -nan         -nan         -nan         -nan         -nan\r\n",
      "  -0.0128542   -0.0465878 -2.42261e-11  2.65604e-12  -0.00881408  -0.00243192  1.00122e-09 -1.03806e-09  4.22083e-10  -0.00020744  0.000612626 -4.92919e-11     0.917068 -7.50502e-11    0.0214885   0.00592895 -2.20508e-10  4.53219e-10  1.22873e-09  7.76569e-10   -0.0223812  -0.00628196  1.02184e-10         -nan         -nan         -nan         -nan         -nan         -nan         -nan         -nan         -nan         -nan         -nan         -nan\r\n",
      "   0.0465878   -0.0128542 -2.29979e-10 -1.93136e-10  -0.00243192   0.00881408  2.90111e-09 -2.87423e-09  8.97501e-10  0.000612626   0.00020744  4.09128e-10 -7.50502e-11     0.917068   0.00592895   -0.0214885 -7.39108e-10  1.19126e-09  2.67331e-09  2.90602e-09  -0.00628196    0.0223812  6.27309e-11         -nan         -nan         -nan         -nan         -nan         -nan         -nan         -nan         -nan         -nan         -nan         -nan\r\n",
      "-2.32872e-11    0.0481429  1.50967e-10  9.17224e-12    0.0441772  9.19953e-11  7.94477e-10 -2.75515e-10  4.70445e-10   0.00059394   -0.0103585 -1.95668e-10    0.0214885   0.00592895     0.981535  7.21435e-11  5.41626e-11 -1.86622e-10  5.44437e-11 -1.35575e-10   0.00424838  1.87963e-05  -2.6119e-10         -nan         -nan         -nan         -nan         -nan         -nan         -nan         -nan         -nan         -nan         -nan         -nan\r\n",
      "   0.0481429 -2.32872e-11 -1.30654e-11  5.05897e-10  9.19952e-11    0.0441772  2.58577e-10 -1.16783e-10  1.29905e-10    0.0103585   0.00059394  8.28073e-11   0.00592895   -0.0214885  7.21436e-11     0.981535 -2.93012e-11 -1.60717e-10  1.09385e-10  2.41845e-10 -1.87962e-05   0.00424838  1.75255e-10         -nan         -nan         -nan         -nan         -nan         -nan         -nan         -nan         -nan         -nan         -nan         -nan\r\n",
      "-2.59215e-10  1.64357e-10   -0.0640702  -0.00171306  4.10344e-11  2.23132e-10    -0.010057  -0.00714812   6.1906e-06 -6.64406e-10  2.66122e-11  -0.00671225 -2.20508e-10 -7.39108e-10  5.41626e-11 -2.93012e-11      1.06903   -0.0127647   -0.0246905   -0.0246905 -3.93892e-10  2.10556e-10     0.015056         -nan         -nan         -nan         -nan         -nan         -nan         -nan         -nan         -nan         -nan         -nan         -nan\r\n",
      " 1.01336e-10  1.11032e-10   0.00171306    0.0640702  -4.2491e-10 -1.92857e-11  -0.00714812    -0.010057 -6.19062e-06  5.19668e-12 -1.39897e-09   0.00671225  4.53219e-10  1.19126e-09 -1.86622e-10 -1.60717e-10   -0.0127647      1.06903    0.0246905    0.0246905  2.18575e-10   1.4836e-12    -0.015056         -nan         -nan         -nan         -nan         -nan         -nan         -nan         -nan         -nan         -nan         -nan         -nan\r\n",
      " 3.59603e-10 -4.29761e-10  -0.00245364   -0.0196588 -2.15394e-10 -1.02576e-10   -0.0330869   -0.0292702 -1.82825e-05  -1.3404e-10 -6.98204e-10     0.019823  1.22873e-09  2.67331e-09  5.44437e-11  1.09385e-10   -0.0246905    0.0246905      1.13359    0.0773217  8.79565e-10 -5.99869e-10   0.00543743         -nan         -nan         -nan         -nan         -nan         -nan         -nan         -nan         -nan         -nan         -nan         -nan\r\n",
      " 8.42137e-11 -5.87641e-10   -0.0196588  -0.00245364 -1.15475e-11    2.813e-10    0.0292702    0.0330869 -1.82825e-05  -1.5064e-09 -3.89946e-11     0.019823  7.76569e-10  2.90602e-09 -1.35575e-10  2.41845e-10   -0.0246905    0.0246905    0.0773217      1.13359  1.09083e-09 -4.24728e-10   0.00543743         -nan         -nan         -nan         -nan         -nan         -nan         -nan         -nan         -nan         -nan         -nan         -nan\r\n",
      " 0.000253765   -0.0573567 -4.73078e-10  -4.2112e-10  -0.00347861  1.53905e-05  7.51729e-09 -7.82094e-09  1.20414e-09 -0.000539127    0.0101913  2.34301e-10   -0.0179475  -0.00503751    0.0191591 -8.47664e-05 -9.06654e-11  7.13454e-11 -1.66021e-10   5.1921e-12     0.600541  2.22188e-10 -3.19231e-09         -nan         -nan         -nan         -nan         -nan         -nan         -nan         -nan         -nan         -nan         -nan         -nan\r\n",
      "  -0.0573567 -0.000253765  3.45159e-10  4.23498e-11 -1.53905e-05  -0.00347861 -4.34581e-09  4.29244e-09 -7.17342e-10   -0.0101913 -0.000539127 -1.52081e-10  -0.00503751    0.0179475  8.47663e-05    0.0191591 -1.00886e-10  2.71803e-10  3.23734e-11  5.08818e-11  2.22188e-10     0.600541  -5.0437e-09         -nan         -nan         -nan         -nan         -nan         -nan         -nan         -nan         -nan         -nan         -nan         -nan\r\n",
      " 1.98198e-10  3.36925e-10   -0.0423679   -0.0423679 -5.91183e-10 -4.72971e-10  -0.00286317   0.00286317 -0.000437993   1.5021e-09 -1.61582e-09 -0.000214308  5.06107e-11  4.23057e-11 -3.64372e-10  1.53267e-10    0.0160958   -0.0160958   0.00532517   0.00532517 -3.64893e-09 -5.04803e-09      1.98482         -nan         -nan         -nan         -nan         -nan         -nan         -nan         -nan         -nan         -nan         -nan         -nan\r\n",
      "        -nan         -nan         -nan         -nan         -nan         -nan         -nan         -nan         -nan         -nan         -nan         -nan         -nan         -nan         -nan         -nan         -nan         -nan         -nan         -nan         -nan         -nan         -nan         -nan         -nan         -nan         -nan         -nan         -nan         -nan         -nan         -nan         -nan         -nan         -nan\r\n",
      "        -nan         -nan         -nan         -nan         -nan         -nan         -nan         -nan         -nan         -nan         -nan         -nan         -nan         -nan         -nan         -nan         -nan         -nan         -nan         -nan         -nan         -nan         -nan         -nan         -nan         -nan         -nan         -nan         -nan         -nan         -nan         -nan         -nan         -nan         -nan\r\n",
      "        -nan         -nan         -nan         -nan         -nan         -nan         -nan         -nan         -nan         -nan         -nan         -nan         -nan         -nan         -nan         -nan         -nan         -nan         -nan         -nan         -nan         -nan         -nan         -nan         -nan         -nan         -nan         -nan         -nan         -nan         -nan         -nan         -nan         -nan         -nan\r\n",
      "        -nan         -nan         -nan         -nan         -nan         -nan         -nan         -nan         -nan         -nan         -nan         -nan         -nan         -nan         -nan         -nan         -nan         -nan         -nan         -nan         -nan         -nan         -nan         -nan         -nan         -nan         -nan         -nan         -nan         -nan         -nan         -nan         -nan         -nan         -nan\r\n",
      "        -nan         -nan         -nan         -nan         -nan         -nan         -nan         -nan         -nan         -nan         -nan         -nan         -nan         -nan         -nan         -nan         -nan         -nan         -nan         -nan         -nan         -nan         -nan         -nan         -nan         -nan         -nan         -nan         -nan         -nan         -nan         -nan         -nan         -nan         -nan\r\n",
      "        -nan         -nan         -nan         -nan         -nan         -nan         -nan         -nan         -nan         -nan         -nan         -nan         -nan         -nan         -nan         -nan         -nan         -nan         -nan         -nan         -nan         -nan         -nan         -nan         -nan         -nan         -nan         -nan         -nan         -nan         -nan         -nan         -nan         -nan         -nan\r\n",
      "        -nan         -nan         -nan         -nan         -nan         -nan         -nan         -nan         -nan         -nan         -nan         -nan         -nan         -nan         -nan         -nan         -nan         -nan         -nan         -nan         -nan         -nan         -nan         -nan         -nan         -nan         -nan         -nan         -nan         -nan         -nan         -nan         -nan         -nan         -nan\r\n",
      "        -nan         -nan         -nan         -nan         -nan         -nan         -nan         -nan         -nan         -nan         -nan         -nan         -nan         -nan         -nan         -nan         -nan         -nan         -nan         -nan         -nan         -nan         -nan         -nan         -nan         -nan         -nan         -nan         -nan         -nan         -nan         -nan         -nan         -nan         -nan\r\n",
      "        -nan         -nan         -nan         -nan         -nan         -nan         -nan         -nan         -nan         -nan         -nan         -nan         -nan         -nan         -nan         -nan         -nan         -nan         -nan         -nan         -nan         -nan         -nan         -nan         -nan         -nan         -nan         -nan         -nan         -nan         -nan         -nan         -nan         -nan         -nan\r\n",
      "        -nan         -nan         -nan         -nan         -nan         -nan         -nan         -nan         -nan         -nan         -nan         -nan         -nan         -nan         -nan         -nan         -nan         -nan         -nan         -nan         -nan         -nan         -nan         -nan         -nan         -nan         -nan         -nan         -nan         -nan         -nan         -nan         -nan         -nan         -nan\r\n",
      "        -nan         -nan         -nan         -nan         -nan         -nan         -nan         -nan         -nan         -nan         -nan         -nan         -nan         -nan         -nan         -nan         -nan         -nan         -nan         -nan         -nan         -nan         -nan         -nan         -nan         -nan         -nan         -nan         -nan         -nan         -nan         -nan         -nan         -nan         -nan\r\n",
      "        -nan         -nan         -nan         -nan         -nan         -nan         -nan         -nan         -nan         -nan         -nan         -nan         -nan         -nan         -nan         -nan         -nan         -nan         -nan         -nan         -nan         -nan         -nan          nan          nan          nan          nan          nan          nan          nan          nan          nan          nan          nan          nan\r\n",
      "an error occurred:\r\n",
      "Small generalized eigenvalue problem failed.\r\n"
     ]
    }
   ],
   "source": [
    "!xtp_tools -c job_name=CO geometry_optimization.maxiter=1 dftpackage.basisset=3-21G dftpackage.auxbasisset=aux-def2-svp gwbse.gw.mode=G0W0 -e dftgwbse -t 4"
   ]
  },
  {
   "cell_type": "markdown",
   "metadata": {},
   "source": [
    "Notice that we are using 4 threads. The results will be stored in a file named `CO_summary.xml` in the current work directory, together with the optimization step in `optimisation.trj` and the orbitals in [hdf5 format](https://www.hdfgroup.org/solutions/hdf5/) saved on `CO.orb`."
   ]
  }
 ],
 "metadata": {
  "kernelspec": {
   "display_name": "Python 3",
   "language": "python",
   "name": "python3"
  },
  "language_info": {
   "codemirror_mode": {
    "name": "ipython",
    "version": 3
   },
   "file_extension": ".py",
   "mimetype": "text/x-python",
   "name": "python",
   "nbconvert_exporter": "python",
   "pygments_lexer": "ipython3",
   "version": "3.9.6"
  }
 },
 "nbformat": 4,
 "nbformat_minor": 4
}
