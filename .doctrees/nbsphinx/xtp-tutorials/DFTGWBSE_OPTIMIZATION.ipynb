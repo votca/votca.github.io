{
 "cells": [
  {
   "cell_type": "markdown",
   "metadata": {},
   "source": [
    "## DFT + GWBSE Optimization Using CO"
   ]
  },
  {
   "cell_type": "markdown",
   "metadata": {},
   "source": [
    "## Introduction\n",
    "This tutorial explains how to perform a molecular geometric optimization using the **GWBSE** method. See [the GW Compendium: A Practical Guide to Theoretical Photoemission Spectroscopy](https://doi.org/10.3389/fchem.2019.00377), for an excellent introduction to the method."
   ]
  },
  {
   "cell_type": "markdown",
   "metadata": {},
   "source": [
    "## Requirements\n",
    "* You will need to install **VOTCA** using the instructions described [here](https://github.com/votca/votca/blob/master/share/doc/INSTALL.rst)\n",
    "* Once the installation is completed you need to activate the VOTCA enviroment by running the `VOTCARC.bash` script that has been installed at the bin subfolder for the path that you have provided for the installation step above"
   ]
  },
  {
   "cell_type": "markdown",
   "metadata": {},
   "source": [
    "## Preparing the input\n",
    "To run a DFT-GWBSE calculation we will use the [xtp_tools](https://www.votca.org/xtp/xtp_tools_overview.html) calculator."
   ]
  },
  {
   "cell_type": "markdown",
   "metadata": {},
   "source": [
    "we can now change the calculator mode from single point energy calculation to optimization as follows by adding \n",
    "`-c geometry_optimization.maxiter=1` which enables optimization with one iteration. "
   ]
  },
  {
   "cell_type": "markdown",
   "metadata": {},
   "source": [
    "Because geometry optimsation is quite expensive numerically we chose a smaller basisset and G0W0 Finally, to run the calculation we just need the following command (This still takes a while)"
   ]
  },
  {
   "cell_type": "code",
   "execution_count": 1,
   "metadata": {
    "execution": {
     "iopub.execute_input": "2022-03-19T23:19:56.683496Z",
     "iopub.status.busy": "2022-03-19T23:19:56.683027Z",
     "iopub.status.idle": "2022-03-19T23:20:40.515042Z",
     "shell.execute_reply": "2022-03-19T23:20:40.514507Z"
    }
   },
   "outputs": [
    {
     "name": "stdout",
     "output_type": "stream",
     "text": [
      "==================================================\r\n",
      "========   VOTCA (http://www.votca.org)   ========\r\n",
      "==================================================\r\n",
      "\r\n",
      "please submit bugs to https://github.com/votca/xtp/issues\r\n",
      "\r\n",
      "xtp_tools, version 2023-dev gitid: fd1748e (compiled Mar 19 2022, 23:12:37)\r\n",
      "votca_csg, version 2023-dev gitid: fd1748e (compiled Mar 19 2022, 22:59:53)\r\n",
      "votca_tools, version 2023-dev gitid: fd1748e (compiled Mar 19 2022, 22:57:23)\r\n",
      "\r\n",
      "Initializing tool\r\n",
      "... dftgwbse Evaluating tool\r\n",
      "... dftgwbse  Using 4 threads\r\n",
      "... ... Reading structure from CO.xyz\r\n",
      "... ... Requested geometry optimization of excited state s1\r\n",
      "... ... Initial state: s1\r\n",
      "... ... WARNING: No tracker is used \r\n",
      "... ... Convergence of total energy: 0.000001 Hartree \r\n",
      "... ... Convergence of RMS Force:    0.000030 Hartree/Bohr \r\n",
      "... ... Convergence of Max Force:    0.000100 Hartree/Bohr \r\n",
      "... ... Convergence of RMS Step:     0.000600 Bohr \r\n",
      "... ... Convergence of Max Step:     0.001000 Bohr \r\n",
      "... ... Initial trust radius:        0.018897 Bohr\r\n",
      "... ... \r\n",
      "... ... =========== OPTIMIZATION SUMMARY ================================= \r\n",
      "... ... At iteration  0\r\n",
      "... ...  ---- POSITIONS (Angstrom)   \r\n",
      "... ...  Atom\t x\t  y\t  z \r\n",
      "... ...    0    +0.0000  +0.0000  +0.0000\r\n",
      "... ...    1    +1.2000  +0.0000  +0.0000\r\n",
      "... ...    Total energy:     -112.26831841 Hartree \r\n",
      "... ...    Trust radius:       0.01889726 Bohr     \r\n",
      "... ...  ---- FORCES (Hartree/Bohr)   \r\n",
      "... ...       central differences   \r\n",
      "... ...       displacement 0.0010 Angstrom   \r\n",
      "... ...  Atom\t x\t  y\t  z \r\n",
      "... ...    0    -0.1314  -0.0000  -0.0000\r\n",
      "... ...    1    +0.1314  +0.0000  +0.0000A\r\n",
      "    0.300728 -4.32023e-15 -4.50695e-14 -4.59102e-14    0.0519964 -1.01717e-15  2.62637e-11 -2.65229e-11    1.384e-11   -0.0175948  3.05369e-05 -4.56812e-12   -0.0390297 -0.000446913   -0.0424178  1.75863e-16   3.8856e-14  3.43436e-14  3.59726e-12 -3.93469e-12     0.107004 -1.28371e-05 -3.86955e-14          nan          nan          nan          nan          nan          nan          nan          nan          nan          nan          nan          nan\r\n",
      "-4.34816e-15     0.300728 -2.04332e-12 -2.30253e-12  -8.4833e-16    0.0519964 -2.55079e-15  3.41328e-15  8.70765e-17  3.05369e-05    0.0175948 -1.33674e-16  0.000446913   -0.0390297  1.60643e-16   -0.0424178   5.5483e-13  2.17437e-13 -1.48026e-15   6.0048e-15  1.28371e-05     0.107004  1.37812e-13          nan          nan          nan          nan          nan          nan          nan          nan          nan          nan          nan          nan\r\n",
      "-4.50696e-14 -2.04332e-12     0.309473   -0.0100861 -8.32007e-16 -1.27485e-12 -0.000402077  0.000402077 -0.000158603  3.25989e-14   2.2082e-12  7.17418e-05  1.67487e-14 -3.11609e-13 -1.87539e-14 -4.10474e-13     -0.04919  -0.00194398 -3.98246e-05 -0.000501169 -2.66391e-13 -1.97986e-12   -0.0247236          nan          nan          nan          nan          nan          nan          nan          nan          nan          nan          nan          nan\r\n",
      "-4.59103e-14 -2.30253e-12   -0.0100861     0.309473  1.43175e-16 -4.91931e-13 -0.000402077  0.000402077 -0.000158603  3.26416e-14  -3.5402e-14  7.17418e-05  1.74706e-14  -3.8522e-13 -1.12104e-14  3.84432e-12  -0.00194398     -0.04919  0.000501169  3.98246e-05 -2.67721e-13 -2.47589e-12   -0.0247236          nan          nan          nan          nan          nan          nan          nan          nan          nan          nan          nan          nan\r\n",
      "   0.0519964 -8.14294e-16 -8.32009e-16  1.43167e-16     0.486555  -2.5175e-15  7.07811e-13  7.51872e-14  7.45756e-13    -0.013646  2.36835e-05  1.84668e-12   0.00832784  9.53585e-05    0.0300841  3.79573e-15 -8.62348e-15 -1.44238e-14 -1.40047e-12  9.69961e-13    0.0551239 -6.61309e-06   4.4005e-14          nan          nan          nan          nan          nan          nan          nan          nan          nan          nan          nan          nan\r\n",
      "-1.00946e-15    0.0519964 -1.27485e-12 -4.91931e-13 -2.53439e-15     0.486555 -2.36245e-15  1.39142e-15 -2.62164e-16  2.36835e-05     0.013646  1.42207e-17 -9.53585e-05   0.00832784  3.85449e-15    0.0300841  4.44047e-13  1.34953e-14  6.17067e-16  5.19434e-15  6.61309e-06    0.0551239  1.09156e-12          nan          nan          nan          nan          nan          nan          nan          nan          nan          nan          nan          nan\r\n",
      " 2.62637e-11  -2.5508e-15 -0.000402077 -0.000402077  7.07811e-13 -2.36244e-15     0.541141    -0.221583    0.0913839 -1.66926e-11  3.23185e-14   -0.0413363 -7.57757e-12 -8.79021e-14  1.06755e-11 -1.49345e-15  0.000325226 -0.000215768   -0.0134215   -0.0338245  1.59869e-10 -3.05859e-15  -0.00080538          nan          nan          nan          nan          nan          nan          nan          nan          nan          nan          nan          nan\r\n",
      "-2.65229e-11   3.4131e-15  0.000402077  0.000402077  7.51872e-14  1.39138e-15    -0.221583     0.541141   -0.0913839  1.89362e-11 -3.23045e-14    0.0413363  7.50394e-12   8.7273e-14  -6.4207e-12 -6.07353e-15  0.000215768 -0.000325226   -0.0338245   -0.0134215 -1.60374e-10  4.80444e-15   0.00080538          nan          nan          nan          nan          nan          nan          nan          nan          nan          nan          nan          nan\r\n",
      "   1.384e-11  8.71566e-17 -0.000158603 -0.000158603  7.45756e-13 -2.62164e-16    0.0913839   -0.0913839     0.659711  -9.5737e-12    1.658e-14   0.00509591 -3.48538e-13 -4.13886e-15  3.26844e-12 -2.21785e-16  4.68217e-05  4.68217e-05   0.00481962  -0.00481962    6.453e-11 -3.65136e-16 -0.000306758          nan          nan          nan          nan          nan          nan          nan          nan          nan          nan          nan          nan\r\n",
      "  -0.0175948  3.05369e-05  3.25989e-14  3.26417e-14    -0.013646  2.36835e-05 -1.66926e-11  1.89362e-11  -9.5737e-12     0.667191  3.94345e-15  2.33055e-12 -2.39762e-05 -2.32924e-07   0.00908943 -1.57753e-05 -3.00171e-14  4.03738e-15 -2.14273e-13  3.16541e-12   -0.0409783  7.60365e-05  2.81765e-14          nan          nan          nan          nan          nan          nan          nan          nan          nan          nan          nan          nan\r\n",
      " 3.05369e-05    0.0175948   2.2082e-12  -3.5402e-14  2.36835e-05     0.013646  3.23185e-14 -3.23044e-14  1.65799e-14  3.93355e-15     0.667191 -3.84178e-15 -2.32924e-07  2.39762e-05 -1.57753e-05  -0.00908943  3.38689e-12  4.35778e-13  1.18614e-15  3.28716e-14  7.60365e-05    0.0409783     -4.7e-12          nan          nan          nan          nan          nan          nan          nan          nan          nan          nan          nan          nan\r\n",
      "-4.56812e-12 -1.33674e-16  7.17418e-05  7.17418e-05  1.84668e-12   1.4301e-17   -0.0413363    0.0413363   0.00509591  2.33055e-12 -3.84176e-15     0.792641  2.29247e-12  2.62336e-14 -3.34662e-12  3.30239e-16 -0.000149217 -0.000149217   -0.0153597    0.0153597 -2.09902e-11 -1.02114e-15  0.000144323          nan          nan          nan          nan          nan          nan          nan          nan          nan          nan          nan          nan\r\n",
      "  -0.0390297  0.000446913  1.67487e-14  1.74706e-14   0.00832784 -9.53585e-05 -7.57757e-12  7.50394e-12 -3.48538e-13 -2.39762e-05 -2.32924e-07  2.29247e-12     0.954094 -9.91652e-15   -0.0128548  0.000147195 -8.31517e-14  -8.4852e-14 -8.37622e-12  7.44006e-12     0.019886 -0.000230092   7.8271e-15          nan          nan          nan          nan          nan          nan          nan          nan          nan          nan          nan          nan\r\n",
      "-0.000446913   -0.0390297 -3.11609e-13  -3.8522e-13  9.53585e-05   0.00832784 -8.79021e-14   8.7273e-14  -4.1389e-15 -2.32924e-07  2.39762e-05  2.62336e-14 -9.94498e-15     0.954094 -0.000147195   -0.0128548   1.0983e-12  1.62111e-13 -9.58072e-14  9.75173e-14  0.000230092     0.019886  4.91212e-13          nan          nan          nan          nan          nan          nan          nan          nan          nan          nan          nan          nan\r\n",
      "  -0.0424178  1.49492e-16 -1.87539e-14 -1.12104e-14    0.0300841  3.83476e-15  1.06755e-11  -6.4207e-12  3.26844e-12   0.00908943 -1.57753e-05 -3.34662e-12   -0.0128548 -0.000147195     0.972602 -4.22793e-16  1.90482e-14  3.25251e-14  3.17421e-12 -2.15233e-12     -0.02299  2.75806e-06 -3.71881e-14          nan          nan          nan          nan          nan          nan          nan          nan          nan          nan          nan          nan\r\n",
      " 1.74831e-16   -0.0424178 -4.10474e-13  3.84432e-12   3.7921e-15    0.0300841 -1.49343e-15 -6.07354e-15 -2.21784e-16 -1.57753e-05  -0.00908943  3.30238e-16  0.000147195   -0.0128548 -4.52111e-16     0.972602 -2.94115e-13  7.27755e-13 -9.04404e-15 -4.43872e-15 -2.75806e-06     -0.02299  4.54074e-13          nan          nan          nan          nan          nan          nan          nan          nan          nan          nan          nan          nan\r\n",
      "  3.8856e-14   5.5483e-13     -0.04919  -0.00194398 -8.62347e-15  4.44047e-13  0.000325226  0.000215768  4.68217e-05 -3.00171e-14  3.38689e-12 -0.000149217 -8.31518e-14   1.0983e-12  1.90482e-14 -2.94115e-13      1.02072   0.00209042  0.000414367 -0.000414367   2.1572e-13   8.4869e-14   0.00474633          nan          nan          nan          nan          nan          nan          nan          nan          nan          nan          nan          nan\r\n",
      " 3.43436e-14  2.17437e-13  -0.00194398     -0.04919 -1.44238e-14  1.34953e-14 -0.000215768 -0.000325226  4.68217e-05  4.03733e-15  4.35778e-13 -0.000149217  -8.4852e-14  1.62111e-13  3.25251e-14  7.27755e-13   0.00209042      1.02072  0.000414367 -0.000414367  2.11196e-13 -2.29642e-13   0.00474633          nan          nan          nan          nan          nan          nan          nan          nan          nan          nan          nan          nan\r\n",
      " 3.59726e-12 -1.48026e-15 -3.98246e-05  0.000501169 -1.40047e-12  6.17066e-16   -0.0134215   -0.0338245   0.00481962 -2.14273e-13  1.18614e-15   -0.0153597 -8.37622e-12 -9.58072e-14  3.17421e-12 -9.04403e-15  0.000414367  0.000414367      1.06337   -0.0447395  2.20536e-11 -5.72735e-16  8.28249e-05          nan          nan          nan          nan          nan          nan          nan          nan          nan          nan          nan          nan\r\n",
      "-3.93469e-12  6.00479e-15 -0.000501169  3.98246e-05  9.69961e-13  5.19434e-15   -0.0338245   -0.0134215  -0.00481962  3.16541e-12  3.28716e-14    0.0153597  7.44006e-12  9.75172e-14 -2.15233e-12 -4.43873e-15 -0.000414367 -0.000414367   -0.0447395      1.06337 -2.23723e-11  4.65313e-15 -8.28249e-05          nan          nan          nan          nan          nan          nan          nan          nan          nan          nan          nan          nan\r\n",
      "  -0.0745352 -8.94181e-06  1.94814e-13  1.93492e-13   -0.0700995 -8.40968e-06 -1.04254e-10  1.02988e-10 -5.13439e-11    0.0303572 -5.63288e-05  1.77369e-11  -0.00921139 -0.000106581    0.0362794  4.35235e-06 -1.74797e-13 -1.82011e-13  -1.8159e-11  1.76164e-11    -0.195077  3.36936e-14 -1.14828e-12          nan          nan          nan          nan          nan          nan          nan          nan          nan          nan          nan          nan\r\n",
      " 8.94181e-06   -0.0745352  3.48747e-12  2.20395e-12  8.40968e-06   -0.0700995  3.20071e-14 -2.95136e-14    1.137e-14 -5.63288e-05   -0.0303572 -4.28162e-15  0.000106581  -0.00921139 -4.35235e-06    0.0362794  6.43186e-14 -4.79734e-13  4.48404e-15  2.69501e-15  3.36927e-14    -0.195077 -4.87644e-11          nan          nan          nan          nan          nan          nan          nan          nan          nan          nan          nan          nan\r\n",
      "-1.73893e-13 -5.99742e-12    -0.014049    -0.014049 -2.54308e-14 -4.10458e-12  -0.00109559   0.00109559 -0.000422342  8.94618e-14 -5.97669e-12  0.000191541  2.16587e-14 -1.50344e-12 -1.40102e-14  1.10815e-12   0.00609495   0.00609495   5.5076e-05  -5.5076e-05 -2.53345e-12 -5.03103e-11     0.938678          nan          nan          nan          nan          nan          nan          nan          nan          nan          nan          nan          nan\r\n",
      "        -nan         -nan         -nan         -nan         -nan         -nan         -nan         -nan         -nan         -nan         -nan         -nan         -nan         -nan         -nan         -nan         -nan         -nan         -nan         -nan         -nan         -nan         -nan          nan          nan          nan          nan          nan          nan          nan          nan          nan          nan          nan          nan\r\n",
      "        -nan         -nan         -nan         -nan         -nan         -nan         -nan         -nan         -nan         -nan         -nan         -nan         -nan         -nan         -nan         -nan         -nan         -nan         -nan         -nan         -nan         -nan         -nan         -nan         -nan         -nan         -nan         -nan         -nan         -nan         -nan         -nan         -nan         -nan         -nan\r\n",
      "        -nan         -nan         -nan         -nan         -nan         -nan         -nan         -nan         -nan         -nan         -nan         -nan         -nan         -nan         -nan         -nan         -nan         -nan         -nan         -nan         -nan         -nan         -nan         -nan         -nan         -nan         -nan         -nan         -nan         -nan         -nan         -nan         -nan         -nan         -nan\r\n",
      "        -nan         -nan         -nan         -nan         -nan         -nan         -nan         -nan         -nan         -nan         -nan         -nan         -nan         -nan         -nan         -nan         -nan         -nan         -nan         -nan         -nan         -nan         -nan          nan          nan          nan          nan          nan          nan          nan          nan          nan          nan          nan          nan\r\n",
      "        -nan         -nan         -nan         -nan         -nan         -nan         -nan         -nan         -nan         -nan         -nan         -nan         -nan         -nan         -nan         -nan         -nan         -nan         -nan         -nan         -nan         -nan         -nan          nan          nan          nan          nan          nan          nan          nan          nan          nan          nan          nan          nan\r\n",
      "        -nan         -nan         -nan         -nan         -nan         -nan         -nan         -nan         -nan         -nan         -nan         -nan         -nan         -nan         -nan         -nan         -nan         -nan         -nan         -nan         -nan         -nan         -nan         -nan         -nan         -nan         -nan         -nan         -nan         -nan         -nan         -nan         -nan         -nan         -nan\r\n",
      "        -nan         -nan         -nan         -nan         -nan         -nan         -nan         -nan         -nan         -nan         -nan         -nan         -nan         -nan         -nan         -nan         -nan         -nan         -nan         -nan         -nan         -nan         -nan         -nan         -nan         -nan         -nan         -nan         -nan         -nan         -nan         -nan         -nan         -nan         -nan\r\n",
      "        -nan         -nan         -nan         -nan         -nan         -nan         -nan         -nan         -nan         -nan         -nan         -nan         -nan         -nan         -nan         -nan         -nan         -nan         -nan         -nan         -nan         -nan         -nan          nan          nan          nan          nan          nan          nan          nan          nan          nan          nan          nan          nan\r\n",
      "        -nan         -nan         -nan         -nan         -nan         -nan         -nan         -nan         -nan         -nan         -nan         -nan         -nan         -nan         -nan         -nan         -nan         -nan         -nan         -nan         -nan         -nan         -nan          nan          nan          nan          nan          nan          nan          nan          nan          nan          nan          nan          nan\r\n",
      "        -nan         -nan         -nan         -nan         -nan         -nan         -nan         -nan         -nan         -nan         -nan         -nan         -nan         -nan         -nan         -nan         -nan         -nan         -nan         -nan         -nan         -nan         -nan         -nan          nan          nan          nan         -nan          nan          nan          nan         -nan          nan          nan          nan\r\n",
      "        -nan         -nan         -nan         -nan         -nan         -nan         -nan         -nan         -nan         -nan         -nan         -nan         -nan         -nan         -nan         -nan         -nan         -nan         -nan         -nan         -nan         -nan         -nan         -nan          nan          nan          nan         -nan          nan          nan          nan         -nan          nan          nan          nan\r\n",
      "        -nan         -nan         -nan         -nan         -nan         -nan         -nan         -nan         -nan         -nan         -nan         -nan         -nan         -nan         -nan         -nan         -nan         -nan         -nan         -nan         -nan         -nan         -nan         -nan         -nan         -nan         -nan         -nan         -nan         -nan         -nan         -nan         -nan         -nan         -nan\r\n",
      "B\r\n",
      "   0.0901503 -2.18891e-15 -1.68276e-14 -1.79791e-14    0.0325949 -7.94538e-16  9.85992e-12 -1.03944e-11  8.89573e-12   -0.0147607  2.56182e-05 -3.29282e-12   -0.0480877 -0.000550632   -0.0477326  3.36499e-16  2.95575e-14   2.1511e-14  2.32586e-12 -2.93054e-12    0.0243816 -2.92501e-06 -2.00103e-13         -nan         -nan         -nan         -nan         -nan         -nan         -nan         -nan         -nan         -nan         -nan         -nan\r\n",
      "-2.21035e-15    0.0901503  -8.5517e-13 -1.38965e-12 -6.98082e-16    0.0325949 -1.03507e-15   2.1933e-15  2.13692e-17  2.56182e-05    0.0147607 -8.81263e-17  0.000550632   -0.0480877  3.27992e-16   -0.0477326  9.02034e-13  2.97407e-13  -1.8361e-15  9.90033e-15  2.92501e-06    0.0243816 -5.79104e-12         -nan         -nan         -nan         -nan         -nan         -nan         -nan         -nan         -nan         -nan         -nan         -nan\r\n",
      "-1.68276e-14  -8.5517e-13    0.0988834   -0.0055144 -6.57182e-16 -7.47199e-13 -0.000195746  0.000195746 -0.000113755  2.38953e-14  2.22593e-12  5.57742e-05   1.9415e-14 -2.97178e-13 -2.12281e-14 -4.98992e-13   -0.0657313   -0.0022346 -2.85762e-05 -0.000698497  4.86525e-15  1.65126e-12    -0.040646         -nan         -nan         -nan         -nan         -nan         -nan         -nan         -nan         -nan         -nan         -nan         -nan\r\n",
      "-1.79791e-14 -1.38965e-12   -0.0055144    0.0988834 -6.44847e-17 -2.50022e-13 -0.000195746  0.000195746 -0.000113755  2.39192e-14  -1.1556e-13  5.57742e-05  2.09281e-14 -4.51026e-13 -1.19461e-14  4.74074e-12   -0.0022346   -0.0657313  0.000698497  2.85762e-05   2.2816e-15 -2.99055e-13    -0.040646         -nan         -nan         -nan         -nan         -nan         -nan         -nan         -nan         -nan         -nan         -nan         -nan\r\n",
      "   0.0325949 -6.66797e-16 -6.57179e-16 -6.44919e-17     0.236331  -2.2222e-15  5.39417e-13 -4.21828e-14  5.61254e-13   -0.0143743  2.49475e-05  2.17703e-12   0.00952408  0.000109056    0.0423454  5.18807e-15 -1.23298e-14 -2.27665e-14 -2.19379e-12  1.41461e-12  -0.00354089  4.24792e-07  2.59557e-14         -nan         -nan         -nan         -nan         -nan         -nan         -nan         -nan         -nan         -nan         -nan         -nan\r\n",
      "-7.95975e-16    0.0325949 -7.47199e-13 -2.50022e-13 -2.23963e-15     0.236331 -1.43164e-15  8.39348e-16 -2.68225e-16  2.49475e-05    0.0143743  1.15451e-17 -0.000109056   0.00952408  5.26122e-15    0.0423454  7.77506e-13 -1.72894e-15  1.37999e-15  9.07376e-15 -4.24792e-07  -0.00354089  -3.0548e-12         -nan         -nan         -nan         -nan         -nan         -nan         -nan         -nan         -nan         -nan         -nan         -nan\r\n",
      " 9.85992e-12 -1.03504e-15 -0.000195746 -0.000195746  5.39417e-13 -1.43164e-15     0.211668    -0.107271    0.0655438 -1.16448e-11  2.37237e-14   -0.0321361 -9.21363e-12 -1.06685e-13    1.208e-11 -1.68702e-15  0.000277566 -0.000449508   -0.0345262   -0.0289705   1.2833e-11  3.57152e-14  -0.00182408         -nan         -nan         -nan         -nan         -nan         -nan         -nan         -nan         -nan         -nan         -nan         -nan\r\n",
      "-1.03944e-11  2.19314e-15  0.000195746  0.000195746 -4.21828e-14  8.39313e-16    -0.107271     0.211668   -0.0655438  1.39863e-11 -2.37278e-14    0.0321361  9.05974e-12  1.05285e-13 -6.84018e-12 -7.62275e-15  0.000449508 -0.000277566   -0.0289705   -0.0345262   -1.477e-11 -3.07896e-14   0.00182408         -nan         -nan         -nan         -nan         -nan         -nan         -nan         -nan         -nan         -nan         -nan         -nan\r\n",
      " 8.89573e-12  2.14707e-17 -0.000113755 -0.000113755  5.61254e-13  -2.6822e-16    0.0655438   -0.0655438     0.423732 -9.92331e-12  1.72467e-14    0.0111903 -3.58434e-13 -4.29924e-15  4.01244e-12 -2.78037e-16  6.77013e-06  6.77013e-06  0.000696887 -0.000696887  1.32693e-11  1.28281e-14 -0.000757917         -nan         -nan         -nan         -nan         -nan         -nan         -nan         -nan         -nan         -nan         -nan         -nan\r\n",
      "  -0.0147607  2.56182e-05  2.38953e-14  2.39192e-14   -0.0143743  2.49475e-05 -1.16448e-11  1.39863e-11 -9.92331e-12     0.445598  5.28839e-15  2.20219e-12  0.000472771  4.59288e-06    0.0108238 -1.87854e-05 -3.39787e-14  2.31263e-14  1.33325e-12  3.61613e-12    -0.017764  3.29617e-05  1.23019e-13         -nan         -nan         -nan         -nan         -nan         -nan         -nan         -nan         -nan         -nan         -nan         -nan\r\n",
      " 2.56182e-05    0.0147607  2.22593e-12  -1.1556e-13  2.49475e-05    0.0143743  2.37237e-14 -2.37277e-14  1.72465e-14  5.27617e-15     0.445598 -3.56838e-15  4.59288e-06 -0.000472771 -1.87854e-05   -0.0108238  5.62855e-12  6.79215e-13 -4.09777e-16  5.75223e-14  3.29617e-05     0.017764 -8.46317e-12         -nan         -nan         -nan         -nan         -nan         -nan         -nan         -nan         -nan         -nan         -nan         -nan\r\n",
      "-3.29282e-12 -8.81264e-17  5.57742e-05  5.57742e-05  2.17703e-12  1.16555e-17   -0.0321361    0.0321361    0.0111903  2.20219e-12 -3.56836e-15     0.626438  3.54086e-12  4.04935e-14 -5.04531e-12  5.02279e-16 -0.000213627 -0.000213627   -0.0219898    0.0219898 -2.74062e-12 -6.44334e-15  0.000362096         -nan         -nan         -nan         -nan         -nan         -nan         -nan         -nan         -nan         -nan         -nan         -nan\r\n",
      "  -0.0480877  0.000550632   1.9415e-14  2.09281e-14   0.00952408 -0.000109056 -9.21363e-12  9.05974e-12 -3.58434e-13  0.000472771  4.59288e-06  3.54086e-12     0.912633  -1.6838e-14   -0.0214995  0.000246181 -1.55746e-13 -1.59189e-13 -1.56762e-11  1.37832e-11    0.0226773 -0.000262389  3.70565e-14         -nan         -nan         -nan         -nan         -nan         -nan         -nan         -nan         -nan         -nan         -nan         -nan\r\n",
      "-0.000550632   -0.0480877 -2.97178e-13 -4.51026e-13  0.000109056   0.00952408 -1.06685e-13  1.05285e-13 -4.29928e-15  4.59288e-06 -0.000472771  4.04935e-14  -1.6893e-14     0.912633 -0.000246181   -0.0214995  2.20846e-12   3.1537e-13 -1.79132e-13   1.8259e-13  0.000262389    0.0226773 -1.04474e-12         -nan         -nan         -nan         -nan         -nan         -nan         -nan         -nan         -nan         -nan         -nan         -nan\r\n",
      "  -0.0477326  3.10301e-16 -2.12281e-14 -1.19461e-14    0.0423454  5.23095e-15    1.208e-11 -6.84018e-12  4.01244e-12    0.0108238 -1.87854e-05 -5.04531e-12   -0.0214995 -0.000246181     0.950071 -8.70515e-16  3.24846e-14  5.72512e-14   5.5727e-12 -3.69566e-12   0.00314125 -3.76849e-07 -6.78835e-14         -nan         -nan         -nan         -nan         -nan         -nan         -nan         -nan         -nan         -nan         -nan         -nan\r\n",
      " 3.40377e-16   -0.0477326 -4.98992e-13  4.74074e-12    5.184e-15    0.0423454 -1.68697e-15 -7.62279e-15 -2.78022e-16 -1.87854e-05   -0.0108238  5.02273e-16  0.000246181   -0.0214995 -9.23427e-16     0.950071 -6.89505e-13  1.18752e-12 -1.51226e-14 -9.65451e-15  3.76849e-07   0.00314125  2.13805e-12         -nan         -nan         -nan         -nan         -nan         -nan         -nan         -nan         -nan         -nan         -nan         -nan\r\n",
      " 2.95575e-14  9.02034e-13   -0.0657313   -0.0022346 -1.23298e-14  7.77506e-13  0.000277566  0.000449508  6.77013e-06 -3.39787e-14  5.62855e-12 -0.000213627 -1.55746e-13  2.20846e-12  3.24846e-14 -6.89505e-13      1.04428    0.0044062  0.000768555 -0.000768555  6.71938e-14  4.62825e-13    0.0159124         -nan         -nan         -nan         -nan         -nan         -nan         -nan         -nan         -nan         -nan         -nan         -nan\r\n",
      "  2.1511e-14  2.97407e-13   -0.0022346   -0.0657313 -2.27665e-14 -1.72894e-15 -0.000449508 -0.000277566  6.77013e-06  2.31262e-14  6.79215e-13 -0.000213627 -1.59189e-13   3.1537e-13  5.72512e-14  1.18752e-12    0.0044062      1.04428  0.000768555 -0.000768555   4.8663e-14 -8.93525e-13    0.0159124         -nan         -nan         -nan         -nan         -nan         -nan         -nan         -nan         -nan         -nan         -nan         -nan\r\n",
      " 2.32586e-12  -1.8361e-15 -2.85762e-05  0.000698497 -2.19379e-12  1.37999e-15   -0.0345262   -0.0289705  0.000696887  1.33325e-12 -4.09763e-16   -0.0219898 -1.56762e-11 -1.79132e-13   5.5727e-12 -1.51226e-14  0.000768555  0.000768555      1.12338   -0.0835104  6.45717e-12  4.00418e-15   0.00023162         -nan         -nan         -nan         -nan         -nan         -nan         -nan         -nan         -nan         -nan         -nan         -nan\r\n",
      "-2.93054e-12  9.90033e-15 -0.000698497  2.85762e-05  1.41461e-12  9.07376e-15   -0.0289705   -0.0345262 -0.000696887  3.61613e-12  5.75223e-14    0.0219898  1.37832e-11  1.82589e-13 -3.69566e-12 -9.65451e-15 -0.000768555 -0.000768555   -0.0835104      1.12338 -7.81744e-12  1.39359e-14  -0.00023162         -nan         -nan         -nan         -nan         -nan         -nan         -nan         -nan         -nan         -nan         -nan         -nan\r\n",
      "   0.0558853  6.70443e-06  -1.1508e-13 -1.17742e-13  -0.00253709 -3.04368e-07  8.09971e-11 -8.25658e-11  1.27507e-11   -0.0110902  2.05782e-05 -3.12886e-12    0.0177216  0.000205049    0.0178963  2.14698e-06 -3.26863e-14 -4.74448e-14 -3.67562e-12  2.60465e-12     0.582693  1.04264e-14 -2.00896e-12         -nan         -nan         -nan         -nan         -nan         -nan         -nan         -nan         -nan         -nan         -nan         -nan\r\n",
      "-6.70443e-06    0.0558853  9.26016e-13 -6.48558e-13  3.04368e-07  -0.00253709  1.76853e-14 -1.39577e-14  9.70344e-15  2.05782e-05    0.0110902 -4.98506e-15 -0.000205049    0.0177216 -2.14698e-06    0.0178963  5.70335e-15 -1.06105e-12  6.03564e-15  7.87636e-15  1.03083e-14     0.582693 -5.81777e-11         -nan         -nan         -nan         -nan         -nan         -nan         -nan         -nan         -nan         -nan         -nan         -nan\r\n",
      "-1.63559e-13 -5.49293e-12   -0.0410926   -0.0410926  2.49908e-14 -3.67606e-12  -0.00167765   0.00167765 -0.000733917   1.2043e-13 -9.76704e-12  0.000356501  4.47245e-14 -1.51432e-12  -6.1269e-14  3.07257e-12    0.0168149    0.0168149  0.000203162 -0.000203162  -3.3137e-12 -6.13587e-11      1.93998         -nan         -nan         -nan         -nan         -nan         -nan         -nan         -nan         -nan         -nan         -nan         -nan\r\n",
      "        -nan         -nan         -nan         -nan         -nan         -nan         -nan         -nan         -nan         -nan         -nan         -nan         -nan         -nan         -nan         -nan         -nan         -nan         -nan         -nan         -nan         -nan         -nan         -nan         -nan         -nan         -nan         -nan         -nan         -nan         -nan         -nan         -nan         -nan         -nan\r\n",
      "        -nan         -nan         -nan         -nan         -nan         -nan         -nan         -nan         -nan         -nan         -nan         -nan         -nan         -nan         -nan         -nan         -nan         -nan         -nan         -nan         -nan         -nan         -nan         -nan         -nan         -nan         -nan         -nan         -nan         -nan         -nan         -nan         -nan         -nan         -nan\r\n",
      "        -nan         -nan         -nan         -nan         -nan         -nan         -nan         -nan         -nan         -nan         -nan         -nan         -nan         -nan         -nan         -nan         -nan         -nan         -nan         -nan         -nan         -nan         -nan         -nan         -nan         -nan         -nan         -nan         -nan         -nan         -nan         -nan         -nan         -nan         -nan\r\n",
      "        -nan         -nan         -nan         -nan         -nan         -nan         -nan         -nan         -nan         -nan         -nan         -nan         -nan         -nan         -nan         -nan         -nan         -nan         -nan         -nan         -nan         -nan         -nan         -nan         -nan         -nan         -nan         -nan         -nan         -nan         -nan         -nan         -nan         -nan         -nan\r\n",
      "        -nan         -nan         -nan         -nan         -nan         -nan         -nan         -nan         -nan         -nan         -nan         -nan         -nan         -nan         -nan         -nan         -nan         -nan         -nan         -nan         -nan         -nan         -nan         -nan         -nan         -nan         -nan         -nan         -nan         -nan         -nan         -nan         -nan         -nan         -nan\r\n",
      "        -nan         -nan         -nan         -nan         -nan         -nan         -nan         -nan         -nan         -nan         -nan         -nan         -nan         -nan         -nan         -nan         -nan         -nan         -nan         -nan         -nan         -nan         -nan         -nan         -nan         -nan         -nan         -nan         -nan         -nan         -nan         -nan         -nan         -nan         -nan\r\n",
      "        -nan         -nan         -nan         -nan         -nan         -nan         -nan         -nan         -nan         -nan         -nan         -nan         -nan         -nan         -nan         -nan         -nan         -nan         -nan         -nan         -nan         -nan         -nan         -nan         -nan         -nan         -nan         -nan         -nan         -nan         -nan         -nan         -nan         -nan         -nan\r\n",
      "        -nan         -nan         -nan         -nan         -nan         -nan         -nan         -nan         -nan         -nan         -nan         -nan         -nan         -nan         -nan         -nan         -nan         -nan         -nan         -nan         -nan         -nan         -nan         -nan         -nan         -nan         -nan         -nan         -nan         -nan         -nan         -nan         -nan         -nan         -nan\r\n",
      "        -nan         -nan         -nan         -nan         -nan         -nan         -nan         -nan         -nan         -nan         -nan         -nan         -nan         -nan         -nan         -nan         -nan         -nan         -nan         -nan         -nan         -nan         -nan         -nan         -nan         -nan         -nan         -nan         -nan         -nan         -nan         -nan         -nan         -nan         -nan\r\n",
      "        -nan         -nan         -nan         -nan         -nan         -nan         -nan         -nan         -nan         -nan         -nan         -nan         -nan         -nan         -nan         -nan         -nan         -nan         -nan         -nan         -nan         -nan         -nan         -nan         -nan         -nan         -nan         -nan         -nan         -nan         -nan         -nan         -nan         -nan         -nan\r\n",
      "        -nan         -nan         -nan         -nan         -nan         -nan         -nan         -nan         -nan         -nan         -nan         -nan         -nan         -nan         -nan         -nan         -nan         -nan         -nan         -nan         -nan         -nan         -nan         -nan         -nan         -nan         -nan         -nan         -nan         -nan         -nan         -nan         -nan         -nan         -nan\r\n",
      "        -nan         -nan         -nan         -nan         -nan         -nan         -nan         -nan         -nan         -nan         -nan         -nan         -nan         -nan         -nan         -nan         -nan         -nan         -nan         -nan         -nan         -nan         -nan          nan          nan          nan          nan          nan          nan          nan          nan          nan          nan          nan          nan\r\n",
      "an error occurred:\r\n",
      "Small generalized eigenvalue problem failed.\r\n"
     ]
    }
   ],
   "source": [
    "!xtp_tools -c job_name=CO geometry_optimization.maxiter=1 dftpackage.basisset=3-21G dftpackage.auxbasisset=aux-def2-svp gwbse.gw.mode=G0W0 -e dftgwbse -t 4"
   ]
  },
  {
   "cell_type": "markdown",
   "metadata": {},
   "source": [
    "Notice that we are using 4 threads. The results will be stored in a file named `CO_summary.xml` in the current work directory, together with the optimization step in `optimisation.trj` and the orbitals in [hdf5 format](https://www.hdfgroup.org/solutions/hdf5/) saved on `CO.orb`."
   ]
  }
 ],
 "metadata": {
  "kernelspec": {
   "display_name": "Python 3",
   "language": "python",
   "name": "python3"
  },
  "language_info": {
   "codemirror_mode": {
    "name": "ipython",
    "version": 3
   },
   "file_extension": ".py",
   "mimetype": "text/x-python",
   "name": "python",
   "nbconvert_exporter": "python",
   "pygments_lexer": "ipython3",
   "version": "3.10.2"
  }
 },
 "nbformat": 4,
 "nbformat_minor": 4
}
