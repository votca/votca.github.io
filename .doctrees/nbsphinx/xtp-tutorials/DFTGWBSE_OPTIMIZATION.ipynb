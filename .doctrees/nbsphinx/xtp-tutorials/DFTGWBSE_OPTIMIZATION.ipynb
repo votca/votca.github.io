{
 "cells": [
  {
   "cell_type": "markdown",
   "metadata": {},
   "source": [
    "## DFT + GWBSE Optimization Using CO"
   ]
  },
  {
   "cell_type": "markdown",
   "metadata": {},
   "source": [
    "## Introduction\n",
    "This tutorial explains how to perform a molecular geometric optimization using the **GWBSE** method. See [the GW Compendium: A Practical Guide to Theoretical Photoemission Spectroscopy](https://doi.org/10.3389/fchem.2019.00377), for an excellent introduction to the method."
   ]
  },
  {
   "cell_type": "markdown",
   "metadata": {},
   "source": [
    "## Requirements\n",
    "* You will need to install **VOTCA** using the instructions described [here](https://github.com/votca/votca/blob/master/share/doc/INSTALL.rst)\n",
    "* Once the installation is completed you need to activate the VOTCA enviroment by running the `VOTCARC.bash` script that has been installed at the bin subfolder for the path that you have provided for the installation step above"
   ]
  },
  {
   "cell_type": "markdown",
   "metadata": {},
   "source": [
    "## Preparing the input\n",
    "To run a DFT-GWBSE calculation we will use the [xtp_tools](https://www.votca.org/xtp/xtp_tools_overview.html) calculator."
   ]
  },
  {
   "cell_type": "markdown",
   "metadata": {},
   "source": [
    "we can now change the calculator mode from single point energy calculation to optimization as follows by adding \n",
    "`-c geometry_optimization.maxiter=1` which enables optimization with one iteration. "
   ]
  },
  {
   "cell_type": "markdown",
   "metadata": {},
   "source": [
    "Because geometry optimsation is quite expensive numerically we chose a smaller basisset and G0W0 Finally, to run the calculation we just need the following command (This still takes a while)"
   ]
  },
  {
   "cell_type": "code",
   "execution_count": 1,
   "metadata": {
    "execution": {
     "iopub.execute_input": "2022-02-04T06:08:42.972346Z",
     "iopub.status.busy": "2022-02-04T06:08:42.971614Z",
     "iopub.status.idle": "2022-02-04T06:09:52.696316Z",
     "shell.execute_reply": "2022-02-04T06:09:52.695699Z"
    }
   },
   "outputs": [
    {
     "name": "stdout",
     "output_type": "stream",
     "text": [
      "==================================================\r\n",
      "========   VOTCA (http://www.votca.org)   ========\r\n",
      "==================================================\r\n",
      "\r\n",
      "please submit bugs to https://github.com/votca/xtp/issues\r\n",
      "\r\n",
      "xtp_tools, version 2023-dev gitid: e30ccdb (compiled Feb  4 2022, 05:58:21)\r\n",
      "votca_csg, version 2023-dev gitid: e30ccdb (compiled Feb  4 2022, 05:40:13)\r\n",
      "votca_tools, version 2023-dev gitid: e30ccdb (compiled Feb  4 2022, 05:36:36)\r\n",
      "\r\n",
      "Initializing tool\r\n",
      "... dftgwbse Evaluating tool\r\n",
      "... dftgwbse  Using 4 threads\r\n",
      "... ... Reading structure from CO.xyz\r\n",
      "... ... Requested geometry optimization of excited state s1\r\n",
      "... ... Initial state: s1\r\n",
      "... ... WARNING: No tracker is used \r\n",
      "... ... Convergence of total energy: 0.000001 Hartree \r\n",
      "... ... Convergence of RMS Force:    0.000030 Hartree/Bohr \r\n",
      "... ... Convergence of Max Force:    0.000100 Hartree/Bohr \r\n",
      "... ... Convergence of RMS Step:     0.000600 Bohr \r\n",
      "... ... Convergence of Max Step:     0.001000 Bohr \r\n",
      "... ... Initial trust radius:        0.018897 Bohr\r\n",
      "... ... \r\n",
      "... ... =========== OPTIMIZATION SUMMARY ================================= \r\n",
      "... ... At iteration  0\r\n",
      "... ...  ---- POSITIONS (Angstrom)   \r\n",
      "... ...  Atom\t x\t  y\t  z \r\n",
      "... ...    0    +0.0000  +0.0000  +0.0000\r\n",
      "... ...    1    +1.2000  +0.0000  +0.0000\r\n",
      "... ...    Total energy:     -112.26831841 Hartree \r\n",
      "... ...    Trust radius:       0.01889726 Bohr     \r\n",
      "... ...  ---- FORCES (Hartree/Bohr)   \r\n",
      "... ...       central differences   \r\n",
      "... ...       displacement 0.0010 Angstrom   \r\n",
      "... ...  Atom\t x\t  y\t  z \r\n",
      "... ...    0    -0.1314  -0.0000  -0.0000\r\n",
      "... ...    1    +0.1314  +0.0000  +0.0000A\r\n",
      "    0.301149 -1.39383e-12  7.78392e-10 -8.99906e-10 -1.20864e-09 -1.05136e-09   -0.0519724  1.02483e-12  -5.9644e-10    -0.014131    0.0105516 -2.27606e-10    0.0390246 -0.000574435    0.0423984 -8.09271e-13 -1.53699e-10 -3.10109e-10  1.93079e-10 -4.05294e-10     0.107078   0.00206156 -6.05377e-11 -1.86734e-10          nan          nan          nan          nan          nan          nan          nan          nan          nan          nan          nan\r\n",
      "-1.39383e-12     0.301149 -1.58377e-10  3.15655e-10 -2.12775e-10 -9.12601e-11  1.02471e-12   -0.0519724  7.85381e-12   -0.0105516    -0.014131  3.46984e-12 -0.000574435   -0.0390246 -8.09278e-13    0.0423984   -2.086e-10  3.61404e-12 -1.63081e-10  6.67098e-12   0.00206156    -0.107078 -6.00415e-11  5.72607e-11          nan          nan          nan          nan          nan          nan          nan          nan          nan          nan          nan\r\n",
      " 7.78392e-10 -1.58377e-10     0.393052    -0.072819    -0.111026    -0.111026 -1.75195e-10  9.02043e-11   -0.0544504 -3.36895e-11  1.20797e-10   -0.0245448  1.90171e-09    -6.35e-11  1.18602e-10 -2.96959e-11    0.0361231    -0.011136    0.0170266   -0.0177223  8.03792e-09  4.16243e-10    0.0240625    0.0181805          nan          nan          nan          nan          nan          nan          nan          nan          nan          nan          nan\r\n",
      "-8.99906e-10  3.15655e-10    -0.072819     0.393052     0.111026     0.111026  2.19162e-10 -1.44948e-10    0.0544504  3.42729e-11 -1.26096e-10    0.0245448 -1.92156e-09  3.81098e-11  -2.1374e-10  1.51915e-10     0.011136   -0.0361231   -0.0177223    0.0170266 -8.12718e-09 -5.34158e-10   -0.0240625    0.0181805          nan          nan          nan          nan          nan          nan          nan          nan          nan          nan          nan\r\n",
      "-1.20864e-09 -2.12775e-10    -0.111026     0.111026     0.458839     0.138606  2.94902e-10  1.11122e-10    0.0729217  1.44604e-10 -3.90994e-11    0.0328712 -2.57308e-09 -2.08154e-12 -2.86831e-10 -1.14006e-10    0.0168013    0.0174969   -0.0208138   -0.0264453 -1.08886e-08 -1.54987e-10     0.010026    0.0126975          nan          nan          nan          nan          nan          nan          nan          nan          nan          nan          nan\r\n",
      "-1.05136e-09 -9.12601e-11    -0.111026     0.111026     0.138606     0.458839  2.40159e-10  6.71555e-11    0.0729217  1.39304e-10 -3.96828e-11    0.0328712 -2.54769e-09 -2.19291e-11 -1.64612e-10 -1.88673e-11    0.0174969    0.0168013    0.0264453    0.0208138 -1.07698e-08 -2.45029e-10     0.010026   -0.0126975          nan          nan          nan          nan          nan          nan          nan          nan          nan          nan          nan\r\n",
      "  -0.0519724  1.02471e-12 -1.75195e-10  2.19162e-10  2.94902e-10  2.40159e-10     0.486835 -2.42716e-13  1.72842e-10    0.0109251  -0.00815777  3.80703e-11   0.00830516 -0.000122251    0.0301449  2.92683e-12 -9.12113e-11  1.01295e-10  1.26532e-10  1.34506e-10   -0.0549838   -0.0010586  3.97418e-11  1.43074e-10          nan          nan          nan          nan          nan          nan          nan          nan          nan          nan          nan\r\n",
      " 1.02483e-12   -0.0519724  9.02043e-11 -1.44948e-10  1.11122e-10  6.71555e-11 -2.42721e-13     0.486835    6.571e-13   0.00815777    0.0109251  3.71086e-13 -0.000122251  -0.00830516  2.92688e-12    0.0301449   2.6841e-10   7.3724e-12  2.02115e-10  -9.6088e-12   -0.0010586    0.0549838 -2.31936e-10 -4.28659e-11          nan          nan          nan          nan          nan          nan          nan          nan          nan          nan          nan\r\n",
      " -5.9644e-10  7.85381e-12   -0.0544504    0.0544504    0.0729217    0.0729217  1.72842e-10    6.571e-13     0.659928   2.6857e-10 -2.06628e-10  -0.00518518  -7.7755e-10  4.28242e-12 -1.32471e-10  3.26793e-13   0.00291055   0.00291055  -0.00378053   0.00378053 -5.25013e-09 -1.70312e-10   -0.0025141 -9.73933e-11          nan          nan          nan          nan          nan          nan          nan          nan          nan          nan          nan\r\n",
      "   -0.014131   -0.0105516 -3.36895e-11  3.42729e-11  1.44604e-10  1.39304e-10    0.0109251   0.00815777   2.6857e-10     0.668107   7.2406e-13 -7.84136e-11  1.34025e-05 -1.03183e-05  -0.00725958  -0.00542071 -2.59233e-11 -3.27368e-11  1.08787e-09 -4.33364e-11   -0.0333048     0.023884 -8.08337e-10   7.9139e-10          nan          nan          nan          nan          nan          nan          nan          nan          nan          nan          nan\r\n",
      "   0.0105516    -0.014131  1.20797e-10 -1.26096e-10 -3.90994e-11 -3.96828e-11  -0.00815777    0.0109251 -2.06628e-10   7.2415e-13     0.668107  5.96564e-11 -1.03183e-05 -1.34025e-05   0.00542071  -0.00725958  1.07344e-09  2.89025e-11 -2.52755e-11   1.8462e-11     0.023884    0.0333048 -1.12368e-09 -1.04227e-09          nan          nan          nan          nan          nan          nan          nan          nan          nan          nan          nan\r\n",
      "-2.27606e-10  3.46984e-12   -0.0245448    0.0245448    0.0328712    0.0328712  3.80703e-11  3.71086e-13  -0.00518518 -7.84136e-11  5.96564e-11     0.793012 -5.00993e-10  3.68386e-12 -7.51909e-11  9.04088e-13   0.00933608   0.00933608   -0.0121267    0.0121267 -2.00085e-09 -6.67663e-11  -0.00102623 -4.58778e-11          nan          nan          nan          nan          nan          nan          nan          nan          nan          nan          nan\r\n",
      "   0.0390246 -0.000574435  1.90171e-09 -1.92156e-09 -2.57308e-09 -2.54769e-09   0.00830516 -0.000122251  -7.7755e-10  1.34025e-05 -1.03183e-05 -5.00993e-10     0.954263 -3.99179e-13   -0.0128737  0.000189498 -1.22984e-09 -1.12201e-09  1.59796e-09 -1.45714e-09   -0.0198848 -0.000675733  1.17981e-10  4.79132e-11          nan          nan          nan          nan          nan          nan          nan          nan          nan          nan          nan\r\n",
      "-0.000574435   -0.0390246    -6.35e-11  3.81098e-11 -2.08154e-12 -2.19291e-11 -0.000122251  -0.00830516  4.28242e-12 -1.03183e-05 -1.34025e-05  3.68386e-12 -3.99183e-13     0.954263  0.000189498    0.0128737 -5.51914e-11  8.56233e-11 -5.71985e-11  -5.0635e-11  0.000675733   -0.0198848 -3.53104e-11  1.24669e-11          nan          nan          nan          nan          nan          nan          nan          nan          nan          nan          nan\r\n",
      "   0.0423984 -8.09278e-13  1.18602e-10  -2.1374e-10 -2.86831e-10 -1.64612e-10    0.0301449  2.92688e-12 -1.32471e-10  -0.00725958   0.00542071 -7.51909e-11   -0.0128737  0.000189498     0.973645  1.58451e-12 -1.19225e-10 -3.33664e-11  1.59324e-10   -4.158e-11    0.0229463  0.000441782 -1.74045e-11  1.61237e-10          nan          nan          nan          nan          nan          nan          nan          nan          nan          nan          nan\r\n",
      "-8.09271e-13    0.0423984 -2.96959e-11  1.51915e-10 -1.14006e-10 -1.88673e-11  2.92683e-12    0.0301449  3.26793e-13  -0.00542071  -0.00725958  9.04088e-13  0.000189498    0.0128737  1.58451e-12     0.973645  1.25602e-10  7.85828e-12  9.32022e-11 -7.34327e-12  0.000441782   -0.0229463 -5.38045e-10 -4.43504e-11          nan          nan          nan          nan          nan          nan          nan          nan          nan          nan          nan\r\n",
      "-1.53699e-10   -2.086e-10    0.0361231     0.011136    0.0168013    0.0174969 -9.12113e-11   2.6841e-10   0.00291055 -2.59233e-11  1.07344e-09   0.00933608 -1.22984e-09 -5.51914e-11 -1.19225e-10  1.25602e-10      1.03715    0.0179796   -0.0206453    0.0206453 -1.53796e-09  1.50855e-11   0.00299954  0.000193887          nan          nan          nan          nan          nan          nan          nan          nan          nan          nan          nan\r\n",
      "-3.10109e-10  3.61404e-12    -0.011136   -0.0361231    0.0174969    0.0168013  1.01295e-10   7.3724e-12   0.00291055 -3.27368e-11  2.89025e-11   0.00933608 -1.12201e-09  8.56233e-11 -3.33664e-11  7.85828e-12    0.0179796      1.03715   -0.0206453    0.0206453 -1.58824e-09 -5.52656e-11   0.00299954 -0.000193887          nan          nan          nan          nan          nan          nan          nan          nan          nan          nan          nan\r\n",
      " 1.93079e-10 -1.63081e-10    0.0170266   -0.0177223   -0.0208138    0.0264453  1.26532e-10  2.02115e-10  -0.00378053  1.08787e-09 -2.52755e-11   -0.0121267  1.59796e-09 -5.71985e-11  1.59324e-10  9.32022e-11   -0.0206453   -0.0206453      1.04807   -0.0289016  1.99158e-09  1.11955e-10   0.00431463 -0.000199477          nan          nan          nan          nan          nan          nan          nan          nan          nan          nan          nan\r\n",
      "-4.05294e-10  6.67098e-12   -0.0177223    0.0170266   -0.0264453    0.0208138  1.34506e-10  -9.6088e-12   0.00378053 -4.33364e-11   1.8462e-11    0.0121267 -1.45714e-09  -5.0635e-11   -4.158e-11 -7.34327e-12    0.0206453    0.0206453   -0.0289016      1.04807 -2.06192e-09 -6.17097e-11  -0.00431463 -0.000199477          nan          nan          nan          nan          nan          nan          nan          nan          nan          nan          nan\r\n",
      "  -0.0745723  -0.00143573 -5.49304e-09  5.51251e-09  7.38352e-09  7.35969e-09    0.0700164   0.00134802  4.11264e-09     0.024704   -0.0177161  1.74888e-09   0.00919317 -0.000312406    -0.036282 -0.000698535  1.24533e-09   1.2737e-09 -1.61148e-09  1.65209e-09    -0.195058 -8.52784e-12 -3.62732e-10 -1.93732e-09          nan          nan          nan          nan          nan          nan          nan          nan          nan          nan          nan\r\n",
      " -0.00143573    0.0745723 -4.33277e-10  4.56869e-10  3.19224e-11  5.14531e-11   0.00134802   -0.0700164  1.31964e-10   -0.0177161    -0.024704  5.70214e-11  0.000312406   0.00919317 -0.000698535     0.036282  -4.1594e-11 -1.18037e-12 -1.14311e-10  8.57483e-11 -8.52783e-12    -0.195058 -6.16417e-09 -5.74386e-10          nan          nan          nan          nan          nan          nan          nan          nan          nan          nan          nan\r\n",
      " 1.15675e-11  8.02047e-10    0.0056767   -0.0056767    0.0180044    0.0180044 -5.63457e-11 -7.00251e-10   0.00436118 -1.14797e-09 -1.47358e-09   0.00187358 -1.41918e-10  1.20299e-10  1.80479e-11  3.41313e-11   0.00560207   0.00560207   0.00308755  -0.00308755 -8.14381e-10 -6.32136e-09      1.05448 -3.99532e-11          nan          nan          nan          nan          nan          nan          nan          nan          nan          nan          nan\r\n",
      "-3.43523e-10  9.39373e-11  -0.00528346  -0.00528346  -0.00344507   0.00344507  4.00955e-10 -1.14472e-10   6.0363e-11  7.63465e-10 -9.96362e-10  3.11622e-11  1.47263e-10  3.98375e-11  2.28382e-10 -6.75766e-11    0.0037445   -0.0037445  -0.00271471  -0.00271471 -2.12694e-09  -6.3085e-10 -2.77785e-11     0.112926          nan          nan          nan          nan          nan          nan          nan          nan          nan          nan          nan\r\n",
      "        -nan         -nan         -nan         -nan         -nan         -nan         -nan         -nan         -nan         -nan         -nan         -nan         -nan         -nan         -nan         -nan         -nan         -nan         -nan         -nan         -nan         -nan         -nan         -nan         -nan         -nan         -nan         -nan         -nan         -nan         -nan         -nan         -nan         -nan         -nan\r\n",
      "        -nan         -nan         -nan         -nan         -nan         -nan         -nan         -nan         -nan         -nan         -nan         -nan         -nan         -nan         -nan         -nan         -nan         -nan         -nan         -nan         -nan         -nan         -nan         -nan         -nan         -nan         -nan         -nan         -nan         -nan         -nan         -nan         -nan         -nan         -nan\r\n",
      "        -nan         -nan         -nan         -nan         -nan         -nan         -nan         -nan         -nan         -nan         -nan         -nan         -nan         -nan         -nan         -nan         -nan         -nan         -nan         -nan         -nan         -nan         -nan         -nan          nan          nan          nan          nan          nan          nan          nan          nan          nan          nan          nan\r\n",
      "        -nan         -nan         -nan         -nan         -nan         -nan         -nan         -nan         -nan         -nan         -nan         -nan         -nan         -nan         -nan         -nan         -nan         -nan         -nan         -nan         -nan         -nan         -nan         -nan          nan          nan          nan          nan          nan          nan          nan          nan          nan          nan          nan\r\n",
      "        -nan         -nan         -nan         -nan         -nan         -nan         -nan         -nan         -nan         -nan         -nan         -nan         -nan         -nan         -nan         -nan         -nan         -nan         -nan         -nan         -nan         -nan         -nan         -nan         -nan         -nan         -nan         -nan         -nan         -nan         -nan         -nan         -nan         -nan         -nan\r\n",
      "        -nan         -nan         -nan         -nan         -nan         -nan         -nan         -nan         -nan         -nan         -nan         -nan         -nan         -nan         -nan         -nan         -nan         -nan         -nan         -nan         -nan         -nan         -nan         -nan         -nan         -nan         -nan         -nan         -nan         -nan         -nan         -nan         -nan         -nan         -nan\r\n",
      "        -nan         -nan         -nan         -nan         -nan         -nan         -nan         -nan         -nan         -nan         -nan         -nan         -nan         -nan         -nan         -nan         -nan         -nan         -nan         -nan         -nan         -nan         -nan         -nan          nan          nan          nan          nan          nan          nan          nan          nan          nan          nan          nan\r\n",
      "        -nan         -nan         -nan         -nan         -nan         -nan         -nan         -nan         -nan         -nan         -nan         -nan         -nan         -nan         -nan         -nan         -nan         -nan         -nan         -nan         -nan         -nan         -nan         -nan          nan          nan          nan          nan          nan          nan          nan          nan          nan          nan          nan\r\n",
      "        -nan         -nan         -nan         -nan         -nan         -nan         -nan         -nan         -nan         -nan         -nan         -nan         -nan         -nan         -nan         -nan         -nan         -nan         -nan         -nan         -nan         -nan         -nan         -nan          nan          nan          nan         -nan          nan          nan          nan         -nan          nan          nan          nan\r\n",
      "        -nan         -nan         -nan         -nan         -nan         -nan         -nan         -nan         -nan         -nan         -nan         -nan         -nan         -nan         -nan         -nan         -nan         -nan         -nan         -nan         -nan         -nan         -nan         -nan          nan          nan          nan         -nan          nan          nan          nan         -nan          nan          nan          nan\r\n",
      "        -nan         -nan         -nan         -nan         -nan         -nan         -nan         -nan         -nan         -nan         -nan         -nan         -nan         -nan         -nan         -nan         -nan         -nan         -nan         -nan         -nan         -nan         -nan         -nan         -nan         -nan         -nan         -nan         -nan         -nan         -nan         -nan         -nan         -nan         -nan\r\n",
      "B\r\n",
      "   0.0903883 -6.21753e-13  2.86258e-10 -3.63352e-10 -4.88312e-10 -3.88507e-10   -0.0326152  6.28595e-13 -3.69431e-10   -0.0118699   0.00886321 -1.51549e-10    0.0481023 -0.000708057    0.0477611 -9.28919e-13 -1.01904e-10 -3.12917e-10  1.23222e-10  -4.0958e-10    0.0244239  0.000470232 -4.23944e-11 -4.72007e-10         -nan         -nan         -nan         -nan         -nan         -nan         -nan         -nan         -nan         -nan         -nan\r\n",
      "-6.21757e-13    0.0903883 -7.72241e-11  1.77029e-10 -1.23686e-10 -4.65915e-11  6.28518e-13   -0.0326152  4.86423e-12  -0.00886321   -0.0118699  2.35349e-12 -0.000708057   -0.0481023 -9.28933e-13    0.0477611 -2.95562e-10 -9.20306e-12 -2.28052e-10  1.70397e-11  0.000470232   -0.0244239  7.66755e-10  1.34547e-10         -nan         -nan         -nan         -nan         -nan         -nan         -nan         -nan         -nan         -nan         -nan\r\n",
      " 2.86258e-10 -7.72241e-11     0.139775   -0.0349408   -0.0541952   -0.0541952 -8.44838e-11    6.165e-11   -0.0391186 -2.42487e-11  1.02328e-10   -0.0190944  2.04932e-09 -7.08607e-11   9.9977e-11 -3.05196e-11    0.0543754  -0.00919653    0.0148953   -0.0158311  4.09881e-10  -8.5685e-11    0.0314456    0.0129454         -nan         -nan         -nan         -nan         -nan         -nan         -nan         -nan         -nan         -nan         -nan\r\n",
      "-3.63352e-10  1.77029e-10   -0.0349408     0.139775    0.0541952    0.0541952  1.19545e-10 -1.05606e-10    0.0391186  2.48211e-11 -1.08805e-10    0.0190944 -2.07868e-09  3.33475e-11 -2.21977e-10  1.87418e-10   0.00919653   -0.0543754   -0.0158311    0.0148953 -4.81226e-10 -1.07331e-11   -0.0314456    0.0129454         -nan         -nan         -nan         -nan         -nan         -nan         -nan         -nan         -nan         -nan         -nan\r\n",
      "-4.88312e-10 -1.23686e-10   -0.0541952    0.0541952     0.171887    0.0670533  1.61059e-10  8.13083e-11    0.0523888  1.22442e-10 -2.84016e-11    0.0255719  -2.7832e-09  2.97794e-12 -2.97867e-10 -1.41608e-10    0.0143548    0.0152906   -0.0176584   -0.0459136 -6.48345e-10 -3.58258e-11    0.0290602   0.00927825         -nan         -nan         -nan         -nan         -nan         -nan         -nan         -nan         -nan         -nan         -nan\r\n",
      "-3.88507e-10 -4.65915e-11   -0.0541952    0.0541952    0.0670533     0.171887  1.17103e-10  4.62472e-11    0.0523888  1.15965e-10  -2.8974e-11    0.0255719 -2.74569e-09 -2.63887e-11 -1.40969e-10 -1.96073e-11    0.0152906    0.0143548    0.0459136    0.0176584 -5.51282e-10 -1.07849e-10    0.0290602  -0.00927825         -nan         -nan         -nan         -nan         -nan         -nan         -nan         -nan         -nan         -nan         -nan\r\n",
      "  -0.0326152  6.28517e-13 -8.44838e-11  1.19545e-10  1.61059e-10  1.17103e-10     0.236624 -1.35955e-13  1.31184e-10    0.0115236  -0.00860466  2.26183e-11   0.00949836 -0.000139814    0.0424653  4.01713e-12 -1.63603e-10  1.23491e-10  2.24655e-10  1.64787e-10   0.00359498  6.92138e-05 -5.92092e-12  4.46891e-10         -nan         -nan         -nan         -nan         -nan         -nan         -nan         -nan         -nan         -nan         -nan\r\n",
      " 6.28594e-13   -0.0326152    6.165e-11 -1.05606e-10  8.13083e-11  4.62472e-11  -1.3596e-13     0.236624  8.12129e-13   0.00860466    0.0115236  4.85963e-13 -0.000139814  -0.00949836   4.0172e-12    0.0424653  4.02521e-10  1.30796e-11  3.02931e-10 -1.58371e-11  6.92138e-05  -0.00359498 -8.20434e-10 -1.29928e-10         -nan         -nan         -nan         -nan         -nan         -nan         -nan         -nan         -nan         -nan         -nan\r\n",
      "-3.69431e-10  4.86423e-12   -0.0391186    0.0391186    0.0523888    0.0523888  1.31184e-10  8.12129e-13     0.424108  3.28779e-10 -2.52657e-10   -0.0112617 -9.33328e-10  4.66232e-12 -1.79933e-10   4.3257e-13  0.000396057  0.000396057 -0.000514441  0.000514441 -1.09711e-09 -3.92818e-11   0.00122478 -2.47654e-11         -nan         -nan         -nan         -nan         -nan         -nan         -nan         -nan         -nan         -nan         -nan\r\n",
      "  -0.0118699  -0.00886321 -2.42487e-11  2.48211e-11  1.22442e-10  1.15965e-10    0.0115236   0.00860466  3.28779e-10     0.446812  9.52906e-13 -1.11669e-10  -0.00038363  0.000295349  -0.00865014  -0.00645903 -4.68559e-11 -5.82032e-11  1.82442e-09 -7.89723e-11   -0.0144348    0.0103517 -1.78487e-09  1.40576e-09         -nan         -nan         -nan         -nan         -nan         -nan         -nan         -nan         -nan         -nan         -nan\r\n",
      "  0.00886321   -0.0118699  1.02328e-10 -1.08805e-10 -2.84016e-11  -2.8974e-11  -0.00860466    0.0115236 -2.52657e-10  9.53025e-13     0.446812  8.51913e-11  0.000295349   0.00038363   0.00645903  -0.00865014  1.79861e-09  5.31583e-11 -4.59945e-11  3.46471e-11    0.0103517    0.0144348 -2.38058e-09 -1.84352e-09         -nan         -nan         -nan         -nan         -nan         -nan         -nan         -nan         -nan         -nan         -nan\r\n",
      "-1.51549e-10  2.35349e-12   -0.0190944    0.0190944    0.0255719    0.0255719  2.26183e-11  4.85963e-13   -0.0112617 -1.11669e-10  8.51913e-11     0.627074 -6.51482e-10  4.83567e-12 -1.03754e-10   1.3448e-12    0.0133751    0.0133751   -0.0173729    0.0173729 -2.11104e-10 -1.00855e-11  0.000506724 -9.14848e-12         -nan         -nan         -nan         -nan         -nan         -nan         -nan         -nan         -nan         -nan         -nan\r\n",
      "   0.0481023 -0.000708057  2.04932e-09 -2.07868e-09  -2.7832e-09 -2.74569e-09   0.00949836 -0.000139814 -9.33328e-10  -0.00038363  0.000295349 -6.51482e-10     0.912954 -7.12049e-13   -0.0215514  0.000317233 -2.20933e-09 -1.99073e-09  2.87065e-09 -2.58516e-09    -0.022703 -0.000771502  5.26654e-11  2.47255e-10         -nan         -nan         -nan         -nan         -nan         -nan         -nan         -nan         -nan         -nan         -nan\r\n",
      "-0.000708057   -0.0481023 -7.08607e-11  3.33475e-11  2.97794e-12 -2.63887e-11 -0.000139814  -0.00949836  4.66232e-12  0.000295349   0.00038363  4.83567e-12 -7.12055e-13     0.912954  0.000317233    0.0215514 -1.18529e-10  1.66963e-10 -1.17165e-10 -1.01441e-10  0.000771502    -0.022703  1.06722e-10  6.61911e-11         -nan         -nan         -nan         -nan         -nan         -nan         -nan         -nan         -nan         -nan         -nan\r\n",
      "   0.0477611 -9.28933e-13   9.9977e-11 -2.21977e-10 -2.97867e-10 -1.40969e-10    0.0424653   4.0172e-12 -1.79933e-10  -0.00865014   0.00645903 -1.03754e-10   -0.0215514  0.000317233     0.952112  3.01045e-12 -1.96088e-10 -5.10884e-11  2.62176e-10 -6.32078e-11  -0.00321146 -6.18299e-05 -2.66982e-12  2.87982e-10         -nan         -nan         -nan         -nan         -nan         -nan         -nan         -nan         -nan         -nan         -nan\r\n",
      "-9.28919e-13    0.0477611 -3.05196e-11  1.87418e-10 -1.41608e-10 -1.96073e-11  4.01713e-12    0.0424653   4.3257e-13  -0.00645903  -0.00865014   1.3448e-12  0.000317233    0.0215514  3.01044e-12     0.952112  2.08104e-10  9.13546e-12  1.54362e-10 -9.36185e-12 -6.18299e-05   0.00321146 -4.76191e-10 -8.21124e-11         -nan         -nan         -nan         -nan         -nan         -nan         -nan         -nan         -nan         -nan         -nan\r\n",
      "-1.01904e-10 -2.95562e-10    0.0543754   0.00919653    0.0143548    0.0152906 -1.63603e-10  4.02521e-10  0.000396057 -4.68559e-11  1.79861e-09    0.0133751 -2.20933e-09 -1.18529e-10 -1.96088e-10  2.08104e-10      1.07486    0.0338946   -0.0383116    0.0383116   -4.733e-10  1.00234e-10    0.0122837     0.005376         -nan         -nan         -nan         -nan         -nan         -nan         -nan         -nan         -nan         -nan         -nan\r\n",
      "-3.12917e-10 -9.20306e-12  -0.00919653   -0.0543754    0.0152906    0.0143548  1.23491e-10  1.30796e-11  0.000396057 -5.82032e-11  5.31583e-11    0.0133751 -1.99073e-09  1.66963e-10 -5.10884e-11  9.13546e-12    0.0338946      1.07486   -0.0383116    0.0383116  -5.9669e-10  -7.2777e-11    0.0122837    -0.005376         -nan         -nan         -nan         -nan         -nan         -nan         -nan         -nan         -nan         -nan         -nan\r\n",
      " 1.23222e-10 -2.28052e-10    0.0148953   -0.0158311   -0.0176584    0.0459136  2.24655e-10  3.02931e-10 -0.000514441  1.82442e-09 -4.59945e-11   -0.0173729  2.87065e-09 -1.17165e-10  2.62176e-10  1.54362e-10   -0.0383116   -0.0383116      1.09513   -0.0541624  6.03974e-10  1.06383e-10    0.0113706  -0.00400113         -nan         -nan         -nan         -nan         -nan         -nan         -nan         -nan         -nan         -nan         -nan\r\n",
      " -4.0958e-10  1.70397e-11   -0.0158311    0.0148953   -0.0459136    0.0176584  1.64787e-10 -1.58371e-11  0.000514441 -7.89723e-11  3.46471e-11    0.0173729 -2.58516e-09 -1.01441e-10 -6.32078e-11 -9.36185e-12    0.0383116    0.0383116   -0.0541624      1.09513 -7.76687e-10  1.66724e-11   -0.0113706  -0.00400113         -nan         -nan         -nan         -nan         -nan         -nan         -nan         -nan         -nan         -nan         -nan\r\n",
      "   0.0559711   0.00107761  3.94076e-09 -4.00899e-09 -5.37614e-09 -5.28379e-09   0.00259782  5.00156e-05 -1.12599e-09  -0.00896469   0.00642889  -2.7985e-10   -0.0177727   0.00060396   -0.0179748 -0.000346067  5.56511e-11  7.84148e-11 -6.32281e-11  9.78599e-11     0.583856 -9.31529e-12 -2.74804e-10 -1.79653e-09         -nan         -nan         -nan         -nan         -nan         -nan         -nan         -nan         -nan         -nan         -nan\r\n",
      "  0.00107761   -0.0559711  8.61709e-11 -1.77701e-10 -1.32432e-10  -2.0153e-10  5.00156e-05  -0.00259782 -3.52571e-11   0.00642889   0.00896469 -8.97405e-12  -0.00060396   -0.0177727 -0.000346067    0.0179748 -1.40737e-10 -1.06426e-10 -1.15007e-10   9.1908e-11 -9.31527e-12     0.583856 -4.58133e-09 -5.36141e-10         -nan         -nan         -nan         -nan         -nan         -nan         -nan         -nan         -nan         -nan         -nan\r\n",
      "-6.61884e-11   4.3979e-10    0.0320568   -0.0320568     0.029035     0.029035 -3.67872e-12 -8.79856e-10   0.00255605 -1.64535e-09 -2.19197e-09   0.00130644 -9.23597e-11  7.03609e-11 -4.98486e-12 -6.05303e-10    0.0136668    0.0136668    0.0110238   -0.0110238 -7.59576e-10 -5.08421e-09      2.11724 -3.80707e-11         -nan         -nan         -nan         -nan         -nan         -nan         -nan         -nan         -nan         -nan         -nan\r\n",
      "-4.37174e-10  1.25382e-10    0.0147561    0.0147561     0.010595   -0.0105951  4.10831e-10 -1.19566e-10 -4.12177e-11   1.4029e-09 -1.83828e-09 -1.66988e-11  2.66963e-10  7.22055e-11  3.12187e-10 -9.07486e-11   0.00632056  -0.00632056  -0.00465367  -0.00465367 -2.24663e-09 -6.72811e-10 -2.60095e-11     0.797895         -nan         -nan         -nan         -nan         -nan         -nan         -nan         -nan         -nan         -nan         -nan\r\n",
      "        -nan         -nan         -nan         -nan         -nan         -nan         -nan         -nan         -nan         -nan         -nan         -nan         -nan         -nan         -nan         -nan         -nan         -nan         -nan         -nan         -nan         -nan         -nan         -nan         -nan         -nan         -nan         -nan         -nan         -nan         -nan         -nan         -nan         -nan         -nan\r\n",
      "        -nan         -nan         -nan         -nan         -nan         -nan         -nan         -nan         -nan         -nan         -nan         -nan         -nan         -nan         -nan         -nan         -nan         -nan         -nan         -nan         -nan         -nan         -nan         -nan         -nan         -nan         -nan         -nan         -nan         -nan         -nan         -nan         -nan         -nan         -nan\r\n",
      "        -nan         -nan         -nan         -nan         -nan         -nan         -nan         -nan         -nan         -nan         -nan         -nan         -nan         -nan         -nan         -nan         -nan         -nan         -nan         -nan         -nan         -nan         -nan         -nan         -nan         -nan         -nan         -nan         -nan         -nan         -nan         -nan         -nan         -nan         -nan\r\n",
      "        -nan         -nan         -nan         -nan         -nan         -nan         -nan         -nan         -nan         -nan         -nan         -nan         -nan         -nan         -nan         -nan         -nan         -nan         -nan         -nan         -nan         -nan         -nan         -nan         -nan         -nan         -nan         -nan         -nan         -nan         -nan         -nan         -nan         -nan         -nan\r\n",
      "        -nan         -nan         -nan         -nan         -nan         -nan         -nan         -nan         -nan         -nan         -nan         -nan         -nan         -nan         -nan         -nan         -nan         -nan         -nan         -nan         -nan         -nan         -nan         -nan         -nan         -nan         -nan         -nan         -nan         -nan         -nan         -nan         -nan         -nan         -nan\r\n",
      "        -nan         -nan         -nan         -nan         -nan         -nan         -nan         -nan         -nan         -nan         -nan         -nan         -nan         -nan         -nan         -nan         -nan         -nan         -nan         -nan         -nan         -nan         -nan         -nan         -nan         -nan         -nan         -nan         -nan         -nan         -nan         -nan         -nan         -nan         -nan\r\n",
      "        -nan         -nan         -nan         -nan         -nan         -nan         -nan         -nan         -nan         -nan         -nan         -nan         -nan         -nan         -nan         -nan         -nan         -nan         -nan         -nan         -nan         -nan         -nan         -nan         -nan         -nan         -nan         -nan         -nan         -nan         -nan         -nan         -nan         -nan         -nan\r\n",
      "        -nan         -nan         -nan         -nan         -nan         -nan         -nan         -nan         -nan         -nan         -nan         -nan         -nan         -nan         -nan         -nan         -nan         -nan         -nan         -nan         -nan         -nan         -nan         -nan         -nan         -nan         -nan         -nan         -nan         -nan         -nan         -nan         -nan         -nan         -nan\r\n",
      "        -nan         -nan         -nan         -nan         -nan         -nan         -nan         -nan         -nan         -nan         -nan         -nan         -nan         -nan         -nan         -nan         -nan         -nan         -nan         -nan         -nan         -nan         -nan         -nan         -nan         -nan         -nan         -nan         -nan         -nan         -nan         -nan         -nan         -nan         -nan\r\n",
      "        -nan         -nan         -nan         -nan         -nan         -nan         -nan         -nan         -nan         -nan         -nan         -nan         -nan         -nan         -nan         -nan         -nan         -nan         -nan         -nan         -nan         -nan         -nan         -nan         -nan         -nan         -nan         -nan         -nan         -nan         -nan         -nan         -nan         -nan         -nan\r\n",
      "        -nan         -nan         -nan         -nan         -nan         -nan         -nan         -nan         -nan         -nan         -nan         -nan         -nan         -nan         -nan         -nan         -nan         -nan         -nan         -nan         -nan         -nan         -nan         -nan          nan          nan          nan          nan          nan          nan          nan          nan          nan          nan          nan\r\n",
      "an error occurred:\r\n",
      "Small generalized eigenvalue problem failed.\r\n"
     ]
    }
   ],
   "source": [
    "!xtp_tools -c job_name=CO geometry_optimization.maxiter=1 dftpackage.basisset=3-21G dftpackage.auxbasisset=aux-def2-svp gwbse.gw.mode=G0W0 -e dftgwbse -t 4"
   ]
  },
  {
   "cell_type": "markdown",
   "metadata": {},
   "source": [
    "Notice that we are using 4 threads. The results will be stored in a file named `CO_summary.xml` in the current work directory, together with the optimization step in `optimisation.trj` and the orbitals in [hdf5 format](https://www.hdfgroup.org/solutions/hdf5/) saved on `CO.orb`."
   ]
  }
 ],
 "metadata": {
  "kernelspec": {
   "display_name": "Python 3",
   "language": "python",
   "name": "python3"
  },
  "language_info": {
   "codemirror_mode": {
    "name": "ipython",
    "version": 3
   },
   "file_extension": ".py",
   "mimetype": "text/x-python",
   "name": "python",
   "nbconvert_exporter": "python",
   "pygments_lexer": "ipython3",
   "version": "3.10.2"
  }
 },
 "nbformat": 4,
 "nbformat_minor": 4
}
