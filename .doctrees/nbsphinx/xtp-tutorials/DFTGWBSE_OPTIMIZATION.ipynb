{
 "cells": [
  {
   "cell_type": "markdown",
   "metadata": {},
   "source": [
    "## DFT + GWBSE Optimization Using CO"
   ]
  },
  {
   "cell_type": "markdown",
   "metadata": {},
   "source": [
    "## Introduction\n",
    "This tutorial explains how to perform a molecular geometric optimization using the **GWBSE** method. See [the GW Compendium: A Practical Guide to Theoretical Photoemission Spectroscopy](https://doi.org/10.3389/fchem.2019.00377), for an excellent introduction to the method."
   ]
  },
  {
   "cell_type": "markdown",
   "metadata": {},
   "source": [
    "## Requirements\n",
    "* You will need to install **VOTCA** using the instructions described [here](https://github.com/votca/votca/blob/master/share/doc/INSTALL.rst)\n",
    "* Once the installation is completed you need to activate the VOTCA enviroment by running the `VOTCARC.bash` script that has been installed at the bin subfolder for the path that you have provided for the installation step above"
   ]
  },
  {
   "cell_type": "markdown",
   "metadata": {},
   "source": [
    "## Preparing the input\n",
    "To run a DFT-GWBSE calculation we will use the [xtp_tools](https://www.votca.org/xtp/xtp_tools_overview.html) calculator."
   ]
  },
  {
   "cell_type": "markdown",
   "metadata": {},
   "source": [
    "we can now change the calculator mode from single point energy calculation to optimization as follows by adding \n",
    "`-c geometry_optimization.maxiter=1` which enables optimization with one iteration. "
   ]
  },
  {
   "cell_type": "markdown",
   "metadata": {},
   "source": [
    "Because geometry optimsation is quite expensive numerically we chose a smaller basisset and G0W0 Finally, to run the calculation we just need the following command (This still takes a while)"
   ]
  },
  {
   "cell_type": "code",
   "execution_count": 1,
   "metadata": {
    "execution": {
     "iopub.execute_input": "2023-06-30T05:21:30.255775Z",
     "iopub.status.busy": "2023-06-30T05:21:30.255552Z",
     "iopub.status.idle": "2023-06-30T05:21:40.695977Z",
     "shell.execute_reply": "2023-06-30T05:21:40.695046Z"
    }
   },
   "outputs": [
    {
     "name": "stdout",
     "output_type": "stream",
     "text": [
      "==================================================\r\n",
      "========   VOTCA (http://www.votca.org)   ========\r\n",
      "==================================================\r\n",
      "\r\n",
      "please submit bugs to https://github.com/votca/votca/issues\r\n",
      "\r\n",
      "xtp_tools, version 2023-rc.2-dev gitid: dd7ef80 (compiled Jun 30 2023, 05:17:33)\r\n",
      "\r\n",
      "Initializing tool\r\n",
      "... dftgwbse Evaluating tool\r\n",
      "... dftgwbse  Using 4 threads\r\n",
      "... ... Reading structure from CO.xyz\r\n",
      "... ... Requested geometry optimization of excited state s1\r\n",
      "... ... Initial state: s1\r\n",
      "... ... WARNING: No tracker is used \r\n",
      "... ... Convergence of total energy: 0.000001 Hartree \r\n",
      "... ... Convergence of RMS Force:    0.000030 Hartree/Bohr \r\n",
      "... ... Convergence of Max Force:    0.000100 Hartree/Bohr \r\n",
      "... ... Convergence of RMS Step:     0.000600 Bohr \r\n",
      "... ... Convergence of Max Step:     0.001000 Bohr \r\n",
      "... ... Initial trust radius:        0.018897 BohrA\r\n",
      "    0.306708 -6.29987e-14  1.22458e-10 -3.90429e-10 -4.52732e-14    0.0516336 -2.68083e-13 -2.69234e-13  6.71449e-14 -2.34086e-06    0.0181563 -3.96164e-14  1.46324e-05   -0.0389795  3.86488e-14   -0.0421241  1.94744e-11 -2.61567e-11 -3.49815e-14 -3.76502e-14 -4.56588e-07    -0.108303  -1.6043e-10          nan          nan          nan          nan          nan          nan          nan          nan          nan          nan          nan          nan\r\n",
      "-6.29837e-14     0.306708  2.73581e-13 -2.74726e-13    0.0516336 -4.53188e-14  1.74359e-09  2.01156e-09 -5.34415e-10    0.0181563  2.34086e-06  3.16684e-10   -0.0389795 -1.46324e-05   -0.0421241  3.85259e-14 -8.05165e-14  7.78593e-14   3.2947e-10  3.36152e-10     0.108303 -4.56588e-07 -5.39353e-14          nan          nan          nan          nan          nan          nan          nan          nan          nan          nan          nan          nan\r\n",
      " 1.22458e-10  2.73581e-13     0.319156    0.0100481 -1.73271e-13 -4.19801e-11  2.97269e-05  2.97269e-05 -1.11096e-05  1.00649e-13  4.28643e-11   4.7543e-06  6.44527e-14  2.56197e-11  6.24531e-14  1.63904e-11   -0.0495092   0.00204416   4.0003e-06 -1.38175e-05   9.4581e-13 -1.58328e-11   -0.0252874          nan          nan          nan          nan          nan          nan          nan          nan          nan          nan          nan          nan\r\n",
      "-3.90429e-10 -2.74726e-13    0.0100481     0.319156  1.71478e-13   -3.679e-10 -2.97269e-05 -2.97269e-05  1.11096e-05  -9.2245e-14 -1.10116e-10  -4.7543e-06 -6.17232e-14 -3.30932e-11 -6.13173e-14  3.13124e-10   0.00204416   -0.0495092  1.38175e-05  -4.0003e-06 -9.45909e-13  5.25146e-10    0.0252874          nan          nan          nan          nan          nan          nan          nan          nan          nan          nan          nan          nan\r\n",
      "-4.52624e-14    0.0516336 -1.73271e-13  1.71478e-13     0.490609 -8.00664e-15 -1.69885e-09 -1.28897e-09  7.55661e-10    0.0134761  1.73744e-06 -2.05863e-10    0.0080157  3.00899e-06    0.0309388  1.31091e-13  4.69737e-14  -4.8547e-14 -1.87759e-10 -1.83891e-10     0.053272 -2.24587e-07  8.74024e-14          nan          nan          nan          nan          nan          nan          nan          nan          nan          nan          nan          nan\r\n",
      "   0.0516336 -4.53266e-14 -4.19801e-11   -3.679e-10 -8.01803e-15     0.490609  1.67331e-13  1.65529e-13  -9.4729e-14 -1.73744e-06    0.0134761   2.5963e-14 -3.00899e-06    0.0080157  1.31132e-13    0.0309388  1.41582e-11 -1.80255e-11  2.80423e-14  2.64756e-14 -2.24587e-07    -0.053272  -9.9837e-11          nan          nan          nan          nan          nan          nan          nan          nan          nan          nan          nan          nan\r\n",
      "-2.68083e-13  1.74359e-09  2.97269e-05 -2.97269e-05 -1.69885e-09  1.67331e-13     0.549726     0.220522   -0.0861688  7.16778e-10  -1.1526e-14    0.0368756  5.42592e-10  1.32124e-13  7.89529e-10 -5.96185e-14 -8.34652e-06 -9.47129e-06   -0.0125301     0.034935  6.78357e-09   8.7088e-13 -7.87991e-06          nan          nan          nan          nan          nan          nan          nan          nan          nan          nan          nan          nan\r\n",
      "-2.69234e-13  2.01156e-09  2.97269e-05 -2.97269e-05 -1.28897e-09  1.65529e-13     0.220522     0.549726   -0.0861688   7.8403e-10  -3.1419e-15    0.0368756  5.50066e-10  1.34858e-13  4.60014e-10 -5.85073e-14  9.47128e-06  8.34652e-06     0.034935   -0.0125301  7.28252e-09  8.70775e-13 -7.87991e-06          nan          nan          nan          nan          nan          nan          nan          nan          nan          nan          nan          nan\r\n",
      "  6.7145e-14 -5.34415e-10 -1.11096e-05  1.11096e-05  7.55661e-10  -9.4729e-14   -0.0861688   -0.0861688     0.662739 -4.24852e-10 -1.46923e-15   0.00625217 -6.14593e-11 -1.54993e-14 -4.50126e-10  5.63064e-14  1.02063e-06 -1.02063e-06  -0.00414117  -0.00414117 -1.82084e-09 -2.14735e-13   4.2115e-06          nan          nan          nan          nan          nan          nan          nan          nan          nan          nan          nan          nan\r\n",
      "-2.34086e-06    0.0181563  1.00648e-13 -9.22449e-14    0.0134761 -1.73744e-06  7.16778e-10   7.8403e-10 -4.24852e-10     0.680027  4.44453e-16  3.11525e-11  -7.6988e-05 -1.89744e-08  -0.00866729  1.11746e-06 -2.18284e-14  2.32532e-14  9.37653e-11  8.87455e-11    0.0410255  5.11638e-06 -1.33034e-14          nan          nan          nan          nan          nan          nan          nan          nan          nan          nan          nan          nan\r\n",
      "   0.0181563  2.34086e-06  4.28643e-11 -1.10116e-10  1.73744e-06    0.0134761 -1.15261e-14  -3.1418e-15 -1.46929e-15  4.12358e-16     0.680027  -5.9738e-18  1.89744e-08  -7.6988e-05 -1.11746e-06  -0.00866729 -1.45183e-11  1.95381e-11 -4.49307e-15 -3.08009e-15  5.11638e-06   -0.0410255 -1.18007e-10          nan          nan          nan          nan          nan          nan          nan          nan          nan          nan          nan          nan\r\n",
      "-3.96164e-14  3.16684e-10   4.7543e-06  -4.7543e-06 -2.05863e-10  2.59631e-14    0.0368756    0.0368756   0.00625217  3.11525e-11 -5.97518e-18     0.797893  2.21528e-10  5.55245e-14 -6.39469e-11  7.88576e-15 -3.58238e-06  3.58238e-06    0.0145354    0.0145354   9.5715e-10  1.13412e-13 -1.71198e-06          nan          nan          nan          nan          nan          nan          nan          nan          nan          nan          nan          nan\r\n",
      " 1.46324e-05   -0.0389795  6.44527e-14 -6.17232e-14    0.0080157 -3.00899e-06  5.42592e-10  5.50066e-10 -6.14593e-11  -7.6988e-05  1.89744e-08  2.21528e-10     0.956279  -3.5134e-14   -0.0131238  4.92653e-06  -7.4155e-14  7.37065e-14  2.31212e-10  3.46021e-10    0.0200194  7.43063e-06  2.31626e-15          nan          nan          nan          nan          nan          nan          nan          nan          nan          nan          nan          nan\r\n",
      "  -0.0389795 -1.46324e-05  2.56197e-11 -3.30932e-11  3.00899e-06    0.0080157  1.32124e-13  1.34858e-13 -1.54992e-14 -1.89744e-08  -7.6988e-05  5.55245e-14 -3.50966e-14     0.956279 -4.92653e-06   -0.0131238 -4.62595e-11 -6.85494e-11  7.53944e-14  7.49458e-14  7.43063e-06   -0.0200194 -4.89095e-11          nan          nan          nan          nan          nan          nan          nan          nan          nan          nan          nan          nan\r\n",
      " 3.86282e-14   -0.0421241   6.2453e-14 -6.13173e-14    0.0309388  1.31111e-13  7.89529e-10  4.60014e-10 -4.50126e-10  -0.00866729 -1.11746e-06 -6.39469e-11   -0.0131238 -4.92653e-06     0.987501  7.09518e-14  1.98972e-14  4.77868e-14   1.3445e-10 -4.39277e-11   -0.0224113  9.44825e-08 -5.94051e-14          nan          nan          nan          nan          nan          nan          nan          nan          nan          nan          nan          nan\r\n",
      "  -0.0421241  3.85208e-14  1.63904e-11  3.13124e-10  1.31086e-13    0.0309388 -5.96185e-14 -5.85073e-14  5.63064e-14  1.11746e-06  -0.00866729  7.88576e-15  4.92653e-06   -0.0131238   7.0945e-14     0.987501  6.74218e-11  1.10956e-10 -4.48716e-14  2.27874e-14  9.44826e-08    0.0224113 -1.30106e-10          nan          nan          nan          nan          nan          nan          nan          nan          nan          nan          nan          nan\r\n",
      " 1.94744e-11 -8.05165e-14   -0.0495092   0.00204416  4.69737e-14  1.41582e-11 -8.34652e-06  9.47128e-06  1.02063e-06 -2.18284e-14 -1.45183e-11 -3.58238e-06 -7.41551e-14 -4.62595e-11  1.98972e-14  6.74218e-11      1.02819   -0.0020693 -1.07058e-05 -1.07058e-05 -3.08558e-13  1.80145e-12   0.00469072          nan          nan          nan          nan          nan          nan          nan          nan          nan          nan          nan          nan\r\n",
      "-2.61567e-11  7.78593e-14   0.00204416   -0.0495092  -4.8547e-14 -1.80255e-11 -9.47129e-06  8.34652e-06 -1.02063e-06  2.32532e-14  1.95381e-11  3.58238e-06  7.37065e-14 -6.85494e-11  4.77868e-14  1.10956e-10   -0.0020693      1.02819  1.07058e-05  1.07058e-05  2.74486e-13    8.997e-11  -0.00469072          nan          nan          nan          nan          nan          nan          nan          nan          nan          nan          nan          nan\r\n",
      "-3.49815e-14   3.2947e-10   4.0003e-06  1.38175e-05 -1.87759e-10  2.80423e-14   -0.0125301     0.034935  -0.00414117  9.37653e-11 -4.49306e-15    0.0145354  2.31212e-10  7.53944e-14   1.3445e-10 -4.48716e-14 -1.07058e-05  1.07058e-05      1.07163    0.0455077  1.15778e-09  1.13977e-13  5.36797e-07          nan          nan          nan          nan          nan          nan          nan          nan          nan          nan          nan          nan\r\n",
      "-3.76502e-14  3.36152e-10 -1.38175e-05  -4.0003e-06 -1.83891e-10  2.64756e-14     0.034935   -0.0125301  -0.00414117  8.87455e-11 -3.08004e-15    0.0145354  3.46021e-10  7.49457e-14 -4.39277e-11  2.27874e-14 -1.07058e-05  1.07058e-05    0.0455077      1.07163   1.2482e-09  1.48845e-13  5.36797e-07          nan          nan          nan          nan          nan          nan          nan          nan          nan          nan          nan          nan\r\n",
      "  3.1721e-07   -0.0752424 -5.08507e-13  5.08133e-13   -0.0690969  2.91302e-07 -3.52652e-09 -3.85259e-09  1.17254e-09   -0.0309264  -3.8569e-06 -8.30841e-10  -0.00901647 -3.34666e-06    0.0363998 -1.53456e-07  1.75493e-13  -1.7483e-13 -7.12841e-10 -7.14106e-10    -0.194835 -6.02152e-13  1.09352e-13          nan          nan          nan          nan          nan          nan          nan          nan          nan          nan          nan          nan\r\n",
      "   0.0752424   3.1721e-07  1.03398e-10 -4.38777e-10  2.91302e-07    0.0690969 -4.53075e-13 -4.53571e-13   1.3151e-13  -3.8569e-06    0.0309264 -9.61966e-14 -3.34666e-06   0.00901647 -1.53456e-07   -0.0363998 -7.75997e-12  4.82563e-12 -8.52132e-14 -8.64817e-14 -6.02208e-13    -0.194835 -2.30344e-09          nan          nan          nan          nan          nan          nan          nan          nan          nan          nan          nan          nan\r\n",
      " 1.58821e-10 -1.04961e-14   -0.0143253    0.0143253 -4.36635e-14  1.71047e-10  4.89055e-06  4.89055e-06 -1.19787e-06 -1.18108e-14 -4.79002e-11  4.14278e-07  8.18135e-15 -8.18508e-12 -7.45364e-15 -2.22421e-10   0.00613234  -0.00613234  3.18144e-06  3.18144e-06 -5.85671e-14 -2.19097e-09     0.954926          nan          nan          nan          nan          nan          nan          nan          nan          nan          nan          nan          nan\r\n",
      "        -nan         -nan         -nan         -nan         -nan         -nan         -nan         -nan         -nan         -nan         -nan         -nan         -nan         -nan         -nan         -nan         -nan         -nan         -nan         -nan         -nan         -nan         -nan          nan          nan          nan          nan          nan          nan          nan          nan          nan          nan          nan          nan\r\n",
      "        -nan         -nan         -nan         -nan         -nan         -nan         -nan         -nan         -nan         -nan         -nan         -nan         -nan         -nan         -nan         -nan         -nan         -nan         -nan         -nan         -nan         -nan         -nan         -nan         -nan         -nan         -nan         -nan         -nan         -nan         -nan         -nan         -nan         -nan         -nan\r\n",
      "        -nan         -nan         -nan         -nan         -nan         -nan         -nan         -nan         -nan         -nan         -nan         -nan         -nan         -nan         -nan         -nan         -nan         -nan         -nan         -nan         -nan         -nan         -nan         -nan         -nan         -nan         -nan         -nan         -nan         -nan         -nan         -nan         -nan         -nan         -nan\r\n",
      "        -nan         -nan         -nan         -nan         -nan         -nan         -nan         -nan         -nan         -nan         -nan         -nan         -nan         -nan         -nan         -nan         -nan         -nan         -nan         -nan         -nan         -nan         -nan          nan          nan          nan          nan          nan          nan          nan          nan          nan          nan          nan          nan\r\n",
      "        -nan         -nan         -nan         -nan         -nan         -nan         -nan         -nan         -nan         -nan         -nan         -nan         -nan         -nan         -nan         -nan         -nan         -nan         -nan         -nan         -nan         -nan         -nan          nan          nan          nan          nan          nan          nan          nan          nan          nan          nan          nan          nan\r\n",
      "        -nan         -nan         -nan         -nan         -nan         -nan         -nan         -nan         -nan         -nan         -nan         -nan         -nan         -nan         -nan         -nan         -nan         -nan         -nan         -nan         -nan         -nan         -nan         -nan         -nan         -nan         -nan         -nan         -nan         -nan         -nan         -nan         -nan         -nan         -nan\r\n",
      "        -nan         -nan         -nan         -nan         -nan         -nan         -nan         -nan         -nan         -nan         -nan         -nan         -nan         -nan         -nan         -nan         -nan         -nan         -nan         -nan         -nan         -nan         -nan         -nan         -nan         -nan         -nan         -nan         -nan         -nan         -nan         -nan         -nan         -nan         -nan\r\n",
      "        -nan         -nan         -nan         -nan         -nan         -nan         -nan         -nan         -nan         -nan         -nan         -nan         -nan         -nan         -nan         -nan         -nan         -nan         -nan         -nan         -nan         -nan         -nan          nan          nan          nan          nan          nan          nan          nan          nan          nan          nan          nan          nan\r\n",
      "        -nan         -nan         -nan         -nan         -nan         -nan         -nan         -nan         -nan         -nan         -nan         -nan         -nan         -nan         -nan         -nan         -nan         -nan         -nan         -nan         -nan         -nan         -nan          nan          nan          nan          nan          nan          nan          nan          nan          nan          nan          nan          nan\r\n",
      "        -nan         -nan         -nan         -nan         -nan         -nan         -nan         -nan         -nan         -nan         -nan         -nan         -nan         -nan         -nan         -nan         -nan         -nan         -nan         -nan         -nan         -nan         -nan         -nan          nan          nan          nan         -nan          nan          nan          nan         -nan          nan          nan          nan\r\n",
      "        -nan         -nan         -nan         -nan         -nan         -nan         -nan         -nan         -nan         -nan         -nan         -nan         -nan         -nan         -nan         -nan         -nan         -nan         -nan         -nan         -nan         -nan         -nan         -nan          nan          nan          nan         -nan          nan          nan          nan         -nan          nan          nan          nan\r\n",
      "        -nan         -nan         -nan         -nan         -nan         -nan         -nan         -nan         -nan         -nan         -nan         -nan         -nan         -nan         -nan         -nan         -nan         -nan         -nan         -nan         -nan         -nan         -nan         -nan         -nan         -nan         -nan         -nan         -nan         -nan         -nan         -nan         -nan         -nan         -nan\r\n",
      "B\r\n",
      "   0.0935659 -2.81426e-14  6.09654e-11 -2.33641e-10 -2.78516e-14    0.0328713 -1.16476e-13 -1.17191e-13  4.14794e-14 -1.99906e-06    0.0155052  -2.7274e-14  1.81364e-05   -0.0483139  4.49418e-14   -0.0481173  1.98718e-11 -2.29721e-11  -2.9354e-14 -3.06845e-14 -1.05593e-07   -0.0250466  5.23671e-11         -nan         -nan         -nan         -nan         -nan         -nan         -nan         -nan         -nan         -nan         -nan         -nan\r\n",
      "-2.81339e-14    0.0935659  1.18609e-13 -1.19324e-13    0.0328713 -2.78846e-14  6.93484e-10   8.6616e-10 -3.29987e-10    0.0155052  1.99906e-06  2.18245e-10   -0.0483139 -1.81364e-05   -0.0481173  4.48027e-14 -6.69284e-14  6.56116e-14  2.78098e-10  2.81198e-10    0.0250466 -1.05593e-07  -5.3971e-14         -nan         -nan         -nan         -nan         -nan         -nan         -nan         -nan         -nan         -nan         -nan         -nan\r\n",
      " 6.09654e-11  1.18609e-13      0.10504    0.0056823 -1.03011e-13 -2.62124e-11  1.50204e-05  1.50204e-05 -8.15621e-06  7.67302e-14  4.11684e-11  3.72607e-06  5.74814e-14   2.6251e-11  7.12162e-14  2.15886e-11   -0.0670098   0.00240141  3.38741e-06 -2.08658e-05  1.70793e-13  9.09165e-11   -0.0419176         -nan         -nan         -nan         -nan         -nan         -nan         -nan         -nan         -nan         -nan         -nan         -nan\r\n",
      "-2.33641e-10 -1.19324e-13    0.0056823      0.10504  1.01728e-13 -2.63301e-10 -1.50204e-05 -1.50204e-05  8.15621e-06 -6.82713e-14 -1.08726e-10 -3.72607e-06 -5.48132e-14 -3.35762e-11  -6.9835e-14  3.84219e-10   0.00240141   -0.0670098  2.08658e-05 -3.38741e-06  -1.7152e-13  8.33993e-11    0.0419176         -nan         -nan         -nan         -nan         -nan         -nan         -nan         -nan         -nan         -nan         -nan         -nan\r\n",
      "-2.78428e-14    0.0328713 -1.03011e-13  1.01728e-13     0.240584 -3.59198e-15 -1.05286e-09 -7.63349e-10  6.49827e-10    0.0144632  1.86471e-06 -1.73493e-10   0.00916843  3.44172e-06    0.0440553  1.81868e-13   4.3211e-14   -3.868e-14 -1.51136e-10 -1.63432e-10  -0.00432456  1.82317e-08  4.86763e-14         -nan         -nan         -nan         -nan         -nan         -nan         -nan         -nan         -nan         -nan         -nan         -nan\r\n",
      "   0.0328713 -2.78956e-14 -2.62124e-11 -2.63301e-10 -3.60285e-15     0.240584  9.92643e-14  9.79711e-14 -8.14403e-14 -1.86471e-06    0.0144632  2.19174e-14 -3.44172e-06   0.00916843  1.81928e-13    0.0440553  2.41339e-11  -1.1838e-11  2.18659e-14  2.64046e-14  1.82316e-08   0.00432456  2.19107e-11         -nan         -nan         -nan         -nan         -nan         -nan         -nan         -nan         -nan         -nan         -nan         -nan\r\n",
      "-1.16476e-13  6.93484e-10  1.50204e-05 -1.50204e-05 -1.05286e-09  9.92643e-14     0.221542      0.11082   -0.0632617  5.30873e-10 -1.19462e-14    0.0289004  4.89916e-10  1.18936e-13   9.2688e-10 -6.79577e-14 -7.29717e-06  -1.6956e-05   -0.0337442    0.0308642  1.18894e-09  1.67112e-13 -2.42538e-06         -nan         -nan         -nan         -nan         -nan         -nan         -nan         -nan         -nan         -nan         -nan         -nan\r\n",
      "-1.17191e-13   8.6616e-10  1.50204e-05 -1.50204e-05 -7.63349e-10  9.79711e-14      0.11082     0.221542   -0.0632617   5.9843e-10 -3.50687e-15    0.0289004  4.97241e-10  1.21612e-13  5.21072e-10 -6.66079e-14   1.6956e-05  7.29717e-06    0.0308642   -0.0337442  1.36166e-09  1.66208e-13 -2.42538e-06         -nan         -nan         -nan         -nan         -nan         -nan         -nan         -nan         -nan         -nan         -nan         -nan\r\n",
      " 4.14795e-14 -3.29987e-10 -8.15621e-06  8.15621e-06  6.49827e-10 -8.14403e-14   -0.0632617   -0.0632617     0.428924 -4.79328e-10  -1.6744e-15     0.012098 -1.75714e-11 -4.52935e-15 -6.21667e-10  7.77719e-14  6.75306e-09 -6.75304e-09 -2.74002e-05 -2.74002e-05 -4.95217e-10 -6.34829e-14  3.76688e-06         -nan         -nan         -nan         -nan         -nan         -nan         -nan         -nan         -nan         -nan         -nan         -nan\r\n",
      "-1.99906e-06    0.0155052  7.67301e-14 -6.82712e-14    0.0144632 -1.86471e-06  5.30873e-10   5.9843e-10 -4.79328e-10     0.462759   5.8468e-16 -2.95922e-13 -0.000635208 -1.56553e-07   -0.0104064  1.34167e-06 -2.05955e-14  2.22685e-14  8.94161e-11  8.39335e-11    0.0177344   2.2117e-06 -2.95312e-14         -nan         -nan         -nan         -nan         -nan         -nan         -nan         -nan         -nan         -nan         -nan         -nan\r\n",
      "   0.0155052  1.99906e-06  4.11684e-11 -1.08726e-10  1.86471e-06    0.0144632 -1.19463e-14 -3.50676e-15 -1.67448e-15  5.43205e-16     0.462759 -1.73891e-16  1.56553e-07 -0.000635208 -1.34167e-06   -0.0104064 -3.07998e-11  3.62824e-11 -8.61471e-15 -6.96323e-15   2.2117e-06   -0.0177344 -1.14125e-10         -nan         -nan         -nan         -nan         -nan         -nan         -nan         -nan         -nan         -nan         -nan         -nan\r\n",
      " -2.7274e-14  2.18245e-10  3.72607e-06 -3.72607e-06 -1.73493e-10  2.19176e-14    0.0289004    0.0289004     0.012098 -2.95922e-13 -1.73891e-16     0.635437     3.22e-10  8.06961e-14 -1.32651e-10  1.64091e-14  -5.1764e-06   5.1764e-06     0.021003     0.021003  1.07108e-10  1.41755e-14 -1.73269e-06         -nan         -nan         -nan         -nan         -nan         -nan         -nan         -nan         -nan         -nan         -nan         -nan\r\n",
      " 1.81364e-05   -0.0483139  5.74814e-14 -5.48132e-14   0.00916843 -3.44172e-06  4.89916e-10  4.97241e-10 -1.75714e-11 -0.000635208  1.56553e-07     3.22e-10     0.916802 -6.18222e-14   -0.0222399   8.3486e-06 -1.26877e-13  1.25981e-13  3.71311e-10  6.02971e-10    0.0232165   8.6173e-06  2.21952e-14         -nan         -nan         -nan         -nan         -nan         -nan         -nan         -nan         -nan         -nan         -nan         -nan\r\n",
      "  -0.0483139 -1.81364e-05   2.6251e-11 -3.35762e-11  3.44172e-06   0.00916843  1.18936e-13  1.21612e-13 -4.52928e-15 -1.56553e-07 -0.000635208  8.06961e-14 -6.17512e-14     0.916802  -8.3486e-06   -0.0222399 -9.04565e-11 -1.41204e-10   1.2895e-13  1.28054e-13   8.6173e-06   -0.0232165  -1.0423e-10         -nan         -nan         -nan         -nan         -nan         -nan         -nan         -nan         -nan         -nan         -nan         -nan\r\n",
      " 4.49136e-14   -0.0481173  7.12161e-14  -6.9835e-14    0.0440553  1.81895e-13   9.2688e-10  5.21072e-10 -6.21667e-10   -0.0104064 -1.34167e-06 -1.32651e-10   -0.0222399  -8.3486e-06      0.97942  1.36496e-13  4.53224e-14  7.90217e-14  2.15076e-10  -1.1263e-10   0.00417248 -1.75906e-08 -1.00762e-13         -nan         -nan         -nan         -nan         -nan         -nan         -nan         -nan         -nan         -nan         -nan         -nan\r\n",
      "  -0.0481173  4.47957e-14  2.15886e-11  3.84219e-10  1.81859e-13    0.0440553 -6.79577e-14 -6.66078e-14  7.77719e-14  1.34167e-06   -0.0104064  1.64091e-14   8.3486e-06   -0.0222399  1.36484e-13      0.97942  1.31024e-10  1.96682e-10 -7.66893e-14  4.76078e-14 -1.75905e-08  -0.00417248 -4.31217e-10         -nan         -nan         -nan         -nan         -nan         -nan         -nan         -nan         -nan         -nan         -nan         -nan\r\n",
      " 1.98718e-11 -6.69284e-14   -0.0670098   0.00240141   4.3211e-14  2.41339e-11 -7.29717e-06   1.6956e-05  6.75306e-09 -2.05955e-14 -3.07998e-11  -5.1764e-06 -1.26877e-13 -9.04565e-11  4.53224e-14  1.31024e-10       1.0596  -0.00440412 -1.99957e-05 -1.99957e-05 -1.73624e-13 -2.35522e-11    0.0159918         -nan         -nan         -nan         -nan         -nan         -nan         -nan         -nan         -nan         -nan         -nan         -nan\r\n",
      "-2.29721e-11  6.56116e-14   0.00240141   -0.0670098   -3.868e-14  -1.1838e-11  -1.6956e-05  7.29717e-06 -6.75304e-09  2.22685e-14  3.62824e-11   5.1764e-06  1.25981e-13 -1.41204e-10  7.90217e-14  1.96682e-10  -0.00440412       1.0596  1.99957e-05  1.99957e-05  1.20825e-13  1.64384e-10   -0.0159918         -nan         -nan         -nan         -nan         -nan         -nan         -nan         -nan         -nan         -nan         -nan         -nan\r\n",
      " -2.9354e-14  2.78098e-10  3.38741e-06  2.08658e-05 -1.51136e-10  2.18659e-14   -0.0337442    0.0308642 -2.74002e-05  8.94161e-11 -8.61471e-15     0.021003  3.71311e-10   1.2895e-13  2.15076e-10 -7.66893e-14 -1.99957e-05  1.99957e-05      1.14073     0.085536   5.6204e-10   2.3186e-14  5.10206e-06         -nan         -nan         -nan         -nan         -nan         -nan         -nan         -nan         -nan         -nan         -nan         -nan\r\n",
      "-3.06845e-14  2.81198e-10 -2.08658e-05 -3.38741e-06 -1.63432e-10  2.64046e-14    0.0308642   -0.0337442 -2.74002e-05  8.39335e-11 -6.96313e-15     0.021003  6.02971e-10  1.28054e-13  -1.1263e-10  4.76078e-14 -1.99957e-05  1.99957e-05     0.085536      1.14073  7.02583e-10  7.64585e-14  5.10206e-06         -nan         -nan         -nan         -nan         -nan         -nan         -nan         -nan         -nan         -nan         -nan         -nan\r\n",
      "-2.41371e-07    0.0572532   5.6156e-13 -5.61843e-13  -0.00341529  1.43983e-08  4.12839e-09  4.38904e-09 -6.37934e-10    0.0102623  1.27983e-06  1.16523e-10    0.0185867  6.89887e-06    0.0190696 -8.03946e-08 -4.31105e-14 -3.20144e-14 -5.04663e-11  1.50414e-10     0.599386 -4.34414e-13 -2.04413e-13         -nan         -nan         -nan         -nan         -nan         -nan         -nan         -nan         -nan         -nan         -nan         -nan\r\n",
      "  -0.0572532 -2.41371e-07  8.19173e-11  1.79425e-10  1.43983e-08   0.00341529  5.33039e-13  5.32622e-13 -8.35389e-14  1.27983e-06   -0.0102623  1.70346e-14  6.89887e-06   -0.0185867 -8.03946e-08   -0.0190696  2.12094e-11  1.78422e-10  -5.1596e-14  2.36442e-14 -4.34469e-13     0.599386 -2.61311e-09         -nan         -nan         -nan         -nan         -nan         -nan         -nan         -nan         -nan         -nan         -nan         -nan\r\n",
      "-6.18674e-11 -5.09155e-14   -0.0423952    0.0423952  2.91736e-14 -5.25863e-11 -1.68392e-06 -1.68392e-06  2.43979e-06 -2.02753e-14  -8.8789e-11 -1.04978e-06   3.7913e-14 -1.15882e-10  -8.0317e-14 -4.93167e-10     0.016942    -0.016942    6.304e-06    6.304e-06 -3.38895e-13 -2.39357e-09       1.9863         -nan         -nan         -nan         -nan         -nan         -nan         -nan         -nan         -nan         -nan         -nan         -nan\r\n",
      "        -nan         -nan         -nan         -nan         -nan         -nan         -nan         -nan         -nan         -nan         -nan         -nan         -nan         -nan         -nan         -nan         -nan         -nan         -nan         -nan         -nan         -nan         -nan         -nan         -nan         -nan         -nan         -nan         -nan         -nan         -nan         -nan         -nan         -nan         -nan\r\n",
      "        -nan         -nan         -nan         -nan         -nan         -nan         -nan         -nan         -nan         -nan         -nan         -nan         -nan         -nan         -nan         -nan         -nan         -nan         -nan         -nan         -nan         -nan         -nan         -nan         -nan         -nan         -nan         -nan         -nan         -nan         -nan         -nan         -nan         -nan         -nan\r\n",
      "        -nan         -nan         -nan         -nan         -nan         -nan         -nan         -nan         -nan         -nan         -nan         -nan         -nan         -nan         -nan         -nan         -nan         -nan         -nan         -nan         -nan         -nan         -nan         -nan         -nan         -nan         -nan         -nan         -nan         -nan         -nan         -nan         -nan         -nan         -nan\r\n",
      "        -nan         -nan         -nan         -nan         -nan         -nan         -nan         -nan         -nan         -nan         -nan         -nan         -nan         -nan         -nan         -nan         -nan         -nan         -nan         -nan         -nan         -nan         -nan         -nan         -nan         -nan         -nan         -nan         -nan         -nan         -nan         -nan         -nan         -nan         -nan\r\n",
      "        -nan         -nan         -nan         -nan         -nan         -nan         -nan         -nan         -nan         -nan         -nan         -nan         -nan         -nan         -nan         -nan         -nan         -nan         -nan         -nan         -nan         -nan         -nan         -nan         -nan         -nan         -nan         -nan         -nan         -nan         -nan         -nan         -nan         -nan         -nan\r\n",
      "        -nan         -nan         -nan         -nan         -nan         -nan         -nan         -nan         -nan         -nan         -nan         -nan         -nan         -nan         -nan         -nan         -nan         -nan         -nan         -nan         -nan         -nan         -nan         -nan         -nan         -nan         -nan         -nan         -nan         -nan         -nan         -nan         -nan         -nan         -nan\r\n",
      "        -nan         -nan         -nan         -nan         -nan         -nan         -nan         -nan         -nan         -nan         -nan         -nan         -nan         -nan         -nan         -nan         -nan         -nan         -nan         -nan         -nan         -nan         -nan         -nan         -nan         -nan         -nan         -nan         -nan         -nan         -nan         -nan         -nan         -nan         -nan\r\n",
      "        -nan         -nan         -nan         -nan         -nan         -nan         -nan         -nan         -nan         -nan         -nan         -nan         -nan         -nan         -nan         -nan         -nan         -nan         -nan         -nan         -nan         -nan         -nan         -nan         -nan         -nan         -nan         -nan         -nan         -nan         -nan         -nan         -nan         -nan         -nan\r\n",
      "        -nan         -nan         -nan         -nan         -nan         -nan         -nan         -nan         -nan         -nan         -nan         -nan         -nan         -nan         -nan         -nan         -nan         -nan         -nan         -nan         -nan         -nan         -nan         -nan         -nan         -nan         -nan         -nan         -nan         -nan         -nan         -nan         -nan         -nan         -nan\r\n",
      "        -nan         -nan         -nan         -nan         -nan         -nan         -nan         -nan         -nan         -nan         -nan         -nan         -nan         -nan         -nan         -nan         -nan         -nan         -nan         -nan         -nan         -nan         -nan         -nan         -nan         -nan         -nan         -nan         -nan         -nan         -nan         -nan         -nan         -nan         -nan\r\n",
      "        -nan         -nan         -nan         -nan         -nan         -nan         -nan         -nan         -nan         -nan         -nan         -nan         -nan         -nan         -nan         -nan         -nan         -nan         -nan         -nan         -nan         -nan         -nan         -nan         -nan         -nan         -nan         -nan         -nan         -nan         -nan         -nan         -nan         -nan         -nan\r\n",
      "        -nan         -nan         -nan         -nan         -nan         -nan         -nan         -nan         -nan         -nan         -nan         -nan         -nan         -nan         -nan         -nan         -nan         -nan         -nan         -nan         -nan         -nan         -nan          nan          nan          nan          nan          nan          nan          nan          nan          nan          nan          nan          nan\r\n",
      "an error occurred:\r\n",
      "Small generalized eigenvalue problem failed.\r\n"
     ]
    }
   ],
   "source": [
    "!xtp_tools -c job_name=CO geometry_optimization.maxiter=1 dftpackage.basisset=3-21G dftpackage.auxbasisset=aux-def2-svp gwbse.gw.mode=G0W0 -e dftgwbse -t 4"
   ]
  },
  {
   "cell_type": "markdown",
   "metadata": {},
   "source": [
    "Notice that we are using 4 threads. The results will be stored in a file named `CO_summary.xml` in the current work directory, together with the optimization step in `optimisation.trj` and the orbitals in [hdf5 format](https://www.hdfgroup.org/solutions/hdf5/) saved on `CO.orb`."
   ]
  }
 ],
 "metadata": {
  "kernelspec": {
   "display_name": "Python 3",
   "language": "python",
   "name": "python3"
  },
  "language_info": {
   "codemirror_mode": {
    "name": "ipython",
    "version": 3
   },
   "file_extension": ".py",
   "mimetype": "text/x-python",
   "name": "python",
   "nbconvert_exporter": "python",
   "pygments_lexer": "ipython3",
   "version": "3.11.3"
  }
 },
 "nbformat": 4,
 "nbformat_minor": 4
}
