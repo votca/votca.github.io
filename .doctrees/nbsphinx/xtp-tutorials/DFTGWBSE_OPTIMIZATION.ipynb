{
 "cells": [
  {
   "cell_type": "markdown",
   "metadata": {},
   "source": [
    "## DFT + GWBSE Optimization Using CO"
   ]
  },
  {
   "cell_type": "markdown",
   "metadata": {},
   "source": [
    "## Introduction\n",
    "This tutorial explains how to perform a molecular geometric optimization using the **GWBSE** method. See [the GW Compendium: A Practical Guide to Theoretical Photoemission Spectroscopy](https://doi.org/10.3389/fchem.2019.00377), for an excellent introduction to the method."
   ]
  },
  {
   "cell_type": "markdown",
   "metadata": {},
   "source": [
    "## Requirements\n",
    "* You will need to install **VOTCA** using the instructions described [here](https://github.com/votca/votca/blob/master/share/doc/INSTALL.rst)\n",
    "* Once the installation is completed you need to activate the VOTCA enviroment by running the `VOTCARC.bash` script that has been installed at the bin subfolder for the path that you have provided for the installation step above"
   ]
  },
  {
   "cell_type": "markdown",
   "metadata": {},
   "source": [
    "## Preparing the input\n",
    "To run a DFT-GWBSE calculation we will use the [xtp_tools](https://www.votca.org/xtp/xtp_tools_overview.html) calculator."
   ]
  },
  {
   "cell_type": "markdown",
   "metadata": {},
   "source": [
    "we can now change the calculator mode from single point energy calculation to optimization as follows by adding \n",
    "`-c geometry_optimization.maxiter=1` which enables optimization with one iteration. "
   ]
  },
  {
   "cell_type": "markdown",
   "metadata": {},
   "source": [
    "Because geometry optimsation is quite expensive numerically we chose a smaller basisset and G0W0 Finally, to run the calculation we just need the following command (This still takes a while)"
   ]
  },
  {
   "cell_type": "code",
   "execution_count": 1,
   "metadata": {
    "execution": {
     "iopub.execute_input": "2022-06-07T14:12:11.931326Z",
     "iopub.status.busy": "2022-06-07T14:12:11.930712Z",
     "iopub.status.idle": "2022-06-07T14:12:25.341572Z",
     "shell.execute_reply": "2022-06-07T14:12:25.340864Z"
    }
   },
   "outputs": [
    {
     "name": "stdout",
     "output_type": "stream",
     "text": [
      "==================================================\r\n",
      "========   VOTCA (http://www.votca.org)   ========\r\n",
      "==================================================\r\n",
      "\r\n",
      "please submit bugs to https://github.com/votca/xtp/issues\r\n",
      "\r\n",
      "xtp_tools, version 2023-dev gitid: d2c50dd (compiled Jun  7 2022, 14:02:52)\r\n",
      "votca_csg, version 2023-dev gitid: d2c50dd (compiled Jun  7 2022, 13:45:17)\r\n",
      "votca_tools, version 2023-dev gitid: d2c50dd (compiled Jun  7 2022, 13:41:58)\r\n",
      "\r\n",
      "Initializing tool\r\n",
      "... dftgwbse Evaluating tool\r\n",
      "... dftgwbse  Using 4 threads\r\n",
      "... ... Reading structure from CO.xyz\r\n",
      "... ... Requested geometry optimization of excited state s1\r\n",
      "... ... Initial state: s1\r\n",
      "... ... WARNING: No tracker is used \r\n",
      "... ... Convergence of total energy: 0.000001 Hartree \r\n",
      "... ... Convergence of RMS Force:    0.000030 Hartree/Bohr \r\n",
      "... ... Convergence of Max Force:    0.000100 Hartree/Bohr \r\n",
      "... ... Convergence of RMS Step:     0.000600 Bohr \r\n",
      "... ... Convergence of Max Step:     0.001000 Bohr \r\n",
      "... ... Initial trust radius:        0.018897 BohrA\r\n",
      "    0.307132 -3.10149e-11  4.45606e-11  -2.3072e-10  2.35002e-11   -0.0516061  8.55625e-10  7.79091e-10 -3.22621e-10    0.0181638  -0.00105673 -7.15353e-11     0.010333    0.0375808 -2.02683e-11    0.0421019 -2.33051e-10  1.30561e-10 -3.01468e-10 -1.07297e-10  0.000480925    -0.108408 -1.28184e-10          nan          nan          nan          nan          nan          nan          nan          nan          nan          nan          nan          nan\r\n",
      "-3.10149e-11     0.307132 -1.47317e-10  7.07828e-11   -0.0516061  2.35002e-11  9.00243e-10   1.0864e-09 -1.97405e-10   0.00105673    0.0181638 -2.25159e-10    0.0375808    -0.010333    0.0421019 -2.02684e-11 -1.93836e-11  2.13554e-10  -9.7482e-11  5.00848e-12    -0.108408 -0.000480925 -1.34461e-11          nan          nan          nan          nan          nan          nan          nan          nan          nan          nan          nan          nan\r\n",
      " 4.45606e-11 -1.47317e-10     0.320627    0.0092677  1.56424e-10  1.03002e-10    0.0133642    0.0133642  -0.00498379 -5.82005e-11 -1.47037e-11  -0.00212325 -8.94493e-11   1.8313e-10 -1.71642e-10  -2.0933e-11    0.0470691  -0.00128762  -0.00258291   -0.0151708  1.82122e-10 -3.05108e-10   -0.0254901          nan          nan          nan          nan          nan          nan          nan          nan          nan          nan          nan          nan\r\n",
      " -2.3072e-10  7.07828e-11    0.0092677     0.320627 -1.69751e-10  3.23939e-10   -0.0133642   -0.0133642   0.00498379  -5.0113e-11  6.88082e-11   0.00212325  7.30412e-11 -1.44689e-10  6.90104e-11 -1.85843e-10  -0.00128762    0.0470691    0.0151708   0.00258291 -1.68642e-10  7.89448e-10    0.0254901          nan          nan          nan          nan          nan          nan          nan          nan          nan          nan          nan          nan\r\n",
      " 2.35002e-11   -0.0516061  1.56424e-10 -1.69751e-10     0.490902  -2.8914e-12  1.80086e-09  1.37392e-09 -8.20734e-10 -0.000781933   -0.0134404 -1.98452e-10   0.00770781   -0.0021193    0.0309987  6.69503e-11 -6.50652e-11 -1.89684e-10 -1.33761e-10 -2.73797e-10    0.0531267  0.000235684  1.67522e-10          nan          nan          nan          nan          nan          nan          nan          nan          nan          nan          nan          nan\r\n",
      "  -0.0516061  2.35002e-11  1.03002e-10  3.23939e-10 -2.89143e-12     0.490902 -2.54522e-10 -2.67849e-10  1.54984e-10   -0.0134404  0.000781933  1.92698e-11    0.0021193   0.00770781  6.69503e-11    0.0309987  1.91105e-10 -5.10688e-11  9.18628e-11 -1.62887e-10 -0.000235684    0.0531267  2.48373e-10          nan          nan          nan          nan          nan          nan          nan          nan          nan          nan          nan          nan\r\n",
      " 8.55625e-10  9.00243e-10    0.0133642   -0.0133642  1.80086e-09 -2.54522e-10     0.549563     0.219668   -0.0856646 -7.12168e-12  6.43989e-10   -0.0364958 -1.85626e-09  2.97718e-09 -9.22334e-10  3.15836e-10   -0.0113219  -0.00126596    0.0127105   -0.0330709  5.13144e-10  -7.4601e-09   -0.0015704          nan          nan          nan          nan          nan          nan          nan          nan          nan          nan          nan          nan\r\n",
      " 7.79091e-10   1.0864e-09    0.0133642   -0.0133642  1.37392e-09 -2.67849e-10     0.219668     0.549563   -0.0856646  4.69828e-11  7.52302e-10   -0.0364958  -1.8947e-09  2.96077e-09 -7.15558e-10  2.13204e-10   0.00126595    0.0113219   -0.0330709    0.0127105   4.2608e-11 -7.44288e-09   -0.0015704          nan          nan          nan          nan          nan          nan          nan          nan          nan          nan          nan          nan\r\n",
      "-3.22621e-10 -1.97405e-10  -0.00498379   0.00498379 -8.20734e-10  1.54984e-10   -0.0856646   -0.0856646     0.662947  -1.7499e-10 -2.31594e-10  -0.00632525  4.08876e-10  -7.4103e-10  5.58327e-10 -1.54233e-10   0.00131289  -0.00131289     0.003878     0.003878 -9.19888e-10  2.85829e-09   0.00114333          nan          nan          nan          nan          nan          nan          nan          nan          nan          nan          nan          nan\r\n",
      "   0.0181638   0.00105673 -5.82005e-11  -5.0113e-11 -0.000781933   -0.0134404 -7.12168e-12  4.69828e-11  -1.7499e-10     0.680922  1.58618e-12  8.85896e-11  2.69965e-05  7.97419e-05   0.00050163   0.00862234 -3.66188e-10 -3.65179e-11  6.96251e-11  8.83694e-10  -0.00220114   -0.0409685 -8.96062e-10          nan          nan          nan          nan          nan          nan          nan          nan          nan          nan          nan          nan\r\n",
      " -0.00105673    0.0181638 -1.47037e-11  6.88082e-11   -0.0134404  0.000781933  6.43989e-10  7.52302e-10 -2.31594e-10  1.58624e-12     0.680922 -1.12766e-10  7.97419e-05 -2.69965e-05   0.00862234  -0.00050163 -5.77523e-11  8.71821e-10 -5.52228e-10 -1.49522e-10   -0.0409685   0.00220114  -8.1479e-10          nan          nan          nan          nan          nan          nan          nan          nan          nan          nan          nan          nan\r\n",
      "-7.15353e-11 -2.25159e-10  -0.00212325   0.00212325 -1.98452e-10  1.92698e-11   -0.0364958   -0.0364958  -0.00632525  8.85896e-11 -1.12766e-10      0.79826  3.98807e-10  -4.6798e-10 -1.57887e-11 -4.96613e-11   0.00464162  -0.00464162    0.0137103    0.0137103  8.86682e-11  8.70737e-10  0.000453184          nan          nan          nan          nan          nan          nan          nan          nan          nan          nan          nan          nan\r\n",
      "    0.010333    0.0375808 -8.94493e-11  7.30412e-11   0.00770781    0.0021193 -1.85626e-09  -1.8947e-09  4.08876e-10  2.69965e-05  7.97419e-05  3.98807e-10     0.956418  4.27594e-11   -0.0126719  -0.00348421  3.03515e-10  -4.1572e-10  1.05215e-09  1.05153e-09    0.0192825   0.00539394  3.05765e-11          nan          nan          nan          nan          nan          nan          nan          nan          nan          nan          nan          nan\r\n",
      "   0.0375808    -0.010333   1.8313e-10 -1.44689e-10   -0.0021193   0.00770781  2.97718e-09  2.96077e-09  -7.4103e-10  7.97419e-05 -2.69965e-05  -4.6798e-10  4.27594e-11     0.956418   0.00348421   -0.0126719 -5.75119e-10  5.75738e-10 -1.67334e-09 -1.78554e-09  -0.00539394    0.0192825 -7.82526e-12          nan          nan          nan          nan          nan          nan          nan          nan          nan          nan          nan          nan\r\n",
      "-2.02683e-11    0.0421019 -1.71642e-10  6.90104e-11    0.0309987  6.69503e-11 -9.22334e-10 -7.15558e-10  5.58327e-10   0.00050163   0.00862234 -1.57887e-11   -0.0126719   0.00348421     0.988566  3.78321e-11  8.54618e-12 -1.86198e-10  2.23473e-10 -1.97817e-11   -0.0223628 -9.92074e-05  3.66013e-10          nan          nan          nan          nan          nan          nan          nan          nan          nan          nan          nan          nan\r\n",
      "   0.0421019 -2.02683e-11  -2.0933e-11 -1.85843e-10  6.69503e-11    0.0309987  3.15836e-10  2.13204e-10 -1.54233e-10   0.00862234  -0.00050163 -4.96613e-11  -0.00348421   -0.0126719  3.78321e-11     0.988566  1.22214e-10  1.21041e-10  -1.1878e-11 -1.89529e-10  9.92074e-05   -0.0223628  4.45784e-10          nan          nan          nan          nan          nan          nan          nan          nan          nan          nan          nan          nan\r\n",
      "-2.33051e-10 -1.93836e-11    0.0470691  -0.00128762 -6.50652e-11  1.91105e-10   -0.0113219   0.00126595   0.00131289 -3.66188e-10 -5.77523e-11   0.00464162  3.03515e-10 -5.75119e-10  8.54618e-12  1.22214e-10      1.03318  -0.00654062    0.0132112    0.0132112 -5.75878e-11  5.05047e-10  -0.00427511          nan          nan          nan          nan          nan          nan          nan          nan          nan          nan          nan          nan\r\n",
      " 1.30561e-10  2.13554e-10  -0.00128762    0.0470691 -1.89684e-10 -5.10688e-11  -0.00126596    0.0113219  -0.00131289 -3.65179e-11  8.71821e-10  -0.00464162  -4.1572e-10  5.75738e-10 -1.86198e-10  1.21041e-10  -0.00654062      1.03318   -0.0132112   -0.0132112  6.21543e-11 -5.84101e-10   0.00427511          nan          nan          nan          nan          nan          nan          nan          nan          nan          nan          nan          nan\r\n",
      "-3.01468e-10  -9.7482e-11  -0.00258291    0.0151708 -1.33761e-10  9.18628e-11    0.0127105   -0.0330709     0.003878  6.96251e-11 -5.52228e-10    0.0137103  1.05215e-09 -1.67334e-09  2.23473e-10  -1.1878e-11    0.0132112   -0.0132112      1.06773    0.0410909 -2.87706e-10  1.40644e-09   0.00204575          nan          nan          nan          nan          nan          nan          nan          nan          nan          nan          nan          nan\r\n",
      "-1.07297e-10  5.00848e-12   -0.0151708   0.00258291 -2.73797e-10 -1.62887e-10   -0.0330709    0.0127105     0.003878  8.83694e-10 -1.49522e-10    0.0137103  1.05153e-09 -1.78554e-09 -1.97817e-11 -1.89529e-10    0.0132112   -0.0132112    0.0410909      1.06773 -2.10328e-10  1.41111e-09   0.00204575          nan          nan          nan          nan          nan          nan          nan          nan          nan          nan          nan          nan\r\n",
      "-0.000333814    0.0752465 -2.48578e-10  3.00435e-10   -0.0690159  0.000306173 -1.37681e-09 -1.00881e-09  9.71159e-10   0.00166074    0.0309103 -4.51174e-11  -0.00867051   0.00242543    0.0364086 -0.000161518   1.1952e-10 -1.20789e-10  4.88053e-10  4.85263e-10    -0.194424  2.24393e-10  3.79909e-09          nan          nan          nan          nan          nan          nan          nan          nan          nan          nan          nan          nan\r\n",
      "   0.0752465  0.000333813  1.78428e-10 -5.57906e-10 -0.000306173   -0.0690159  5.06006e-09  5.10925e-09  -2.2612e-09    0.0309103  -0.00166074 -7.95698e-10  -0.00242543  -0.00867051  0.000161518    0.0364086 -4.42725e-10  4.47955e-10  -1.2091e-09 -1.21034e-09  2.24393e-10    -0.194424  1.19909e-09          nan          nan          nan          nan          nan          nan          nan          nan          nan          nan          nan          nan\r\n",
      "-3.04834e-10  -4.7943e-10   -0.0141837    0.0141837  4.10996e-10  1.86452e-10    0.0043825    0.0043825  -0.00132971 -1.14242e-09  -1.0775e-09 -0.000532996  7.68417e-11   1.0438e-10 -4.14742e-11  1.63499e-10  -0.00597926   0.00597926   0.00149468   0.00149468  3.89348e-09  1.34988e-09     0.958364          nan          nan          nan          nan          nan          nan          nan          nan          nan          nan          nan          nan\r\n",
      "        -nan         -nan         -nan         -nan         -nan         -nan         -nan         -nan         -nan         -nan         -nan         -nan         -nan         -nan         -nan         -nan         -nan         -nan         -nan         -nan         -nan         -nan         -nan          nan          nan          nan          nan          nan          nan          nan          nan          nan          nan          nan          nan\r\n",
      "        -nan         -nan         -nan         -nan         -nan         -nan         -nan         -nan         -nan         -nan         -nan         -nan         -nan         -nan         -nan         -nan         -nan         -nan         -nan         -nan         -nan         -nan         -nan         -nan         -nan         -nan         -nan         -nan         -nan         -nan         -nan         -nan         -nan         -nan         -nan\r\n",
      "        -nan         -nan         -nan         -nan         -nan         -nan         -nan         -nan         -nan         -nan         -nan         -nan         -nan         -nan         -nan         -nan         -nan         -nan         -nan         -nan         -nan         -nan         -nan         -nan         -nan         -nan         -nan         -nan         -nan         -nan         -nan         -nan         -nan         -nan         -nan\r\n",
      "        -nan         -nan         -nan         -nan         -nan         -nan         -nan         -nan         -nan         -nan         -nan         -nan         -nan         -nan         -nan         -nan         -nan         -nan         -nan         -nan         -nan         -nan         -nan          nan          nan          nan          nan          nan          nan          nan          nan          nan          nan          nan          nan\r\n",
      "        -nan         -nan         -nan         -nan         -nan         -nan         -nan         -nan         -nan         -nan         -nan         -nan         -nan         -nan         -nan         -nan         -nan         -nan         -nan         -nan         -nan         -nan         -nan          nan          nan          nan          nan          nan          nan          nan          nan          nan          nan          nan          nan\r\n",
      "        -nan         -nan         -nan         -nan         -nan         -nan         -nan         -nan         -nan         -nan         -nan         -nan         -nan         -nan         -nan         -nan         -nan         -nan         -nan         -nan         -nan         -nan         -nan         -nan         -nan         -nan         -nan         -nan         -nan         -nan         -nan         -nan         -nan         -nan         -nan\r\n",
      "        -nan         -nan         -nan         -nan         -nan         -nan         -nan         -nan         -nan         -nan         -nan         -nan         -nan         -nan         -nan         -nan         -nan         -nan         -nan         -nan         -nan         -nan         -nan         -nan         -nan         -nan         -nan         -nan         -nan         -nan         -nan         -nan         -nan         -nan         -nan\r\n",
      "        -nan         -nan         -nan         -nan         -nan         -nan         -nan         -nan         -nan         -nan         -nan         -nan         -nan         -nan         -nan         -nan         -nan         -nan         -nan         -nan         -nan         -nan         -nan          nan          nan          nan          nan          nan          nan          nan          nan          nan          nan          nan          nan\r\n",
      "        -nan         -nan         -nan         -nan         -nan         -nan         -nan         -nan         -nan         -nan         -nan         -nan         -nan         -nan         -nan         -nan         -nan         -nan         -nan         -nan         -nan         -nan         -nan          nan          nan          nan          nan          nan          nan          nan          nan          nan          nan          nan          nan\r\n",
      "        -nan         -nan         -nan         -nan         -nan         -nan         -nan         -nan         -nan         -nan         -nan         -nan         -nan         -nan         -nan         -nan         -nan         -nan         -nan         -nan         -nan         -nan         -nan         -nan          nan          nan          nan         -nan          nan          nan          nan         -nan          nan          nan          nan\r\n",
      "        -nan         -nan         -nan         -nan         -nan         -nan         -nan         -nan         -nan         -nan         -nan         -nan         -nan         -nan         -nan         -nan         -nan         -nan         -nan         -nan         -nan         -nan         -nan         -nan          nan          nan          nan         -nan          nan          nan          nan         -nan          nan          nan          nan\r\n",
      "        -nan         -nan         -nan         -nan         -nan         -nan         -nan         -nan         -nan         -nan         -nan         -nan         -nan         -nan         -nan         -nan         -nan         -nan         -nan         -nan         -nan         -nan         -nan         -nan         -nan         -nan         -nan         -nan         -nan         -nan         -nan         -nan         -nan         -nan         -nan\r\n",
      "B\r\n",
      "    0.093811 -1.37865e-11  1.67869e-11 -1.31198e-10  1.44528e-11   -0.0328898  3.54541e-10  2.99654e-10 -1.98329e-10    0.0155309 -0.000903557 -3.66569e-11    0.0128127    0.0465993 -2.35493e-11    0.0481429 -2.87501e-10   1.3849e-10 -3.10742e-10  -3.8268e-11  0.000111385   -0.0251078 -4.01128e-10         -nan         -nan         -nan         -nan         -nan         -nan         -nan         -nan         -nan         -nan         -nan         -nan\r\n",
      "-1.37865e-11     0.093811 -9.50619e-11   4.0175e-11   -0.0328898  1.44529e-11  3.69122e-10  4.83534e-10 -1.23094e-10  0.000903557    0.0155309 -1.66761e-10    0.0465993   -0.0128127    0.0481429 -2.35493e-11 -1.28799e-11  2.85354e-10 -7.57772e-11  7.32335e-11   -0.0251078 -0.000111385 -5.11049e-10         -nan         -nan         -nan         -nan         -nan         -nan         -nan         -nan         -nan         -nan         -nan         -nan\r\n",
      " 1.67869e-11 -9.50619e-11     0.105882    0.0053003  1.02684e-10  7.15186e-11    0.0067703    0.0067703  -0.00366489 -5.18449e-11 -2.02859e-11   -0.0016648  -9.6623e-11  2.03132e-10 -2.10618e-10 -2.54668e-11    0.0640772  -0.00170478  -0.00247803   -0.0196276 -6.24136e-11 -1.11419e-11   -0.0418855         -nan         -nan         -nan         -nan         -nan         -nan         -nan         -nan         -nan         -nan         -nan         -nan\r\n",
      "-1.31198e-10   4.0175e-11    0.0053003     0.105882 -1.09769e-10  2.29076e-10   -0.0067703   -0.0067703   0.00366489 -5.46516e-11  7.11915e-11    0.0016648  7.33507e-11 -1.52871e-10   7.3518e-11 -2.18443e-10  -0.00170478    0.0640772    0.0196276   0.00247803  1.33483e-10  1.11392e-10    0.0418855         -nan         -nan         -nan         -nan         -nan         -nan         -nan         -nan         -nan         -nan         -nan         -nan\r\n",
      " 1.44528e-11   -0.0328898  1.02684e-10 -1.09769e-10     0.240891 -6.93775e-13  1.10445e-09  8.03856e-10 -6.98467e-10 -0.000840299   -0.0144436 -1.60499e-10   0.00881624  -0.00242407    0.0441772  9.30653e-11 -5.64834e-11 -3.34203e-10 -5.72998e-11 -2.87387e-10  -0.00438142 -1.94371e-05  5.20777e-10         -nan         -nan         -nan         -nan         -nan         -nan         -nan         -nan         -nan         -nan         -nan         -nan\r\n",
      "  -0.0328898  1.44528e-11  7.15186e-11  2.29076e-10 -6.93803e-13     0.240891  -1.3973e-10 -1.46815e-10   1.2426e-10   -0.0144436  0.000840299  9.89711e-12   0.00242407   0.00881624  9.30653e-11    0.0441772  2.80021e-10 -4.99338e-11  1.11434e-10 -2.79253e-10  1.94371e-05  -0.00438142  4.31951e-10         -nan         -nan         -nan         -nan         -nan         -nan         -nan         -nan         -nan         -nan         -nan         -nan\r\n",
      " 3.54541e-10  3.69122e-10    0.0067703   -0.0067703  1.10445e-09  -1.3973e-10      0.22186     0.110678   -0.0629945 -1.32205e-12  4.62565e-10   -0.0286157 -1.92944e-09  3.22305e-09 -1.03144e-09  3.28833e-10   -0.0100569  -0.00709275    0.0331037   -0.0292687 -8.01275e-10 -3.84381e-10   0.00293094         -nan         -nan         -nan         -nan         -nan         -nan         -nan         -nan         -nan         -nan         -nan         -nan\r\n",
      " 2.99654e-10  4.83534e-10    0.0067703   -0.0067703  8.03856e-10 -1.46815e-10     0.110678      0.22186   -0.0629945  4.95836e-11  5.69062e-10   -0.0286157  -1.9797e-09  3.19978e-09 -7.87529e-10  1.91733e-10   0.00709275    0.0100569   -0.0292687    0.0331037 -8.98715e-10 -3.12333e-10   0.00293094         -nan         -nan         -nan         -nan         -nan         -nan         -nan         -nan         -nan         -nan         -nan         -nan\r\n",
      "-1.98329e-10 -1.23094e-10  -0.00366489   0.00366489 -6.98467e-10   1.2426e-10   -0.0629945   -0.0629945     0.429278 -2.25289e-10 -2.34112e-10   -0.0121538  4.56986e-10  -9.0883e-10  7.69106e-10 -2.08941e-10 -6.18961e-06  6.18964e-06 -1.82828e-05 -1.82828e-05 -7.45356e-11  5.84277e-10  5.95314e-05         -nan         -nan         -nan         -nan         -nan         -nan         -nan         -nan         -nan         -nan         -nan         -nan\r\n",
      "   0.0155309  0.000903557 -5.18449e-11 -5.46516e-11 -0.000840299   -0.0144436 -1.32205e-12  4.95836e-11 -2.25289e-10     0.463967  2.11838e-12  1.17677e-10  0.000207407  0.000612637  0.000602604     0.010358 -6.16997e-10 -6.25048e-11  1.11994e-10  1.49026e-09 -0.000951482   -0.0177093 -1.86777e-09         -nan         -nan         -nan         -nan         -nan         -nan         -nan         -nan         -nan         -nan         -nan         -nan\r\n",
      "-0.000903557    0.0155309 -2.02859e-11  7.11915e-11   -0.0144436  0.000840299  4.62565e-10  5.69062e-10 -2.34112e-10  2.11847e-12     0.463967 -1.09258e-10  0.000612637 -0.000207407     0.010358 -0.000602604 -7.66963e-11  1.45496e-09 -8.67807e-10 -1.88304e-10   -0.0177093  0.000951482 -1.77771e-09         -nan         -nan         -nan         -nan         -nan         -nan         -nan         -nan         -nan         -nan         -nan         -nan\r\n",
      "-3.66569e-11 -1.66761e-10   -0.0016648    0.0016648 -1.60499e-10  9.89711e-12   -0.0286157   -0.0286157   -0.0121538  1.17677e-10 -1.09258e-10     0.636067  5.48032e-10 -6.14956e-10  -6.4668e-11 -6.62001e-11   0.00671119  -0.00671119    0.0198234    0.0198234  1.03283e-10 -8.59142e-12   4.5928e-05         -nan         -nan         -nan         -nan         -nan         -nan         -nan         -nan         -nan         -nan         -nan         -nan\r\n",
      "   0.0128127    0.0465993  -9.6623e-11  7.33507e-11   0.00881624   0.00242407 -1.92944e-09  -1.9797e-09  4.56986e-10  0.000207407  0.000612637  5.48032e-10     0.917068  7.49613e-11   -0.0214938  -0.00590982  5.27976e-10 -7.57799e-10  1.86177e-09  1.85723e-09    0.0223867   0.00626231  1.65203e-10         -nan         -nan         -nan         -nan         -nan         -nan         -nan         -nan         -nan         -nan         -nan         -nan\r\n",
      "   0.0465993   -0.0128127  2.03132e-10 -1.52871e-10  -0.00242407   0.00881624  3.22305e-09  3.19978e-09  -9.0883e-10  0.000612637 -0.000207407 -6.14956e-10  7.49613e-11     0.917068   0.00590982   -0.0214938 -1.02111e-09  1.02565e-09 -2.98404e-09 -3.21386e-09  -0.00626231    0.0223867  1.26464e-10         -nan         -nan         -nan         -nan         -nan         -nan         -nan         -nan         -nan         -nan         -nan         -nan\r\n",
      "-2.35493e-11    0.0481429 -2.10618e-10   7.3518e-11    0.0441772  9.30653e-11 -1.03144e-09 -7.87529e-10  7.69106e-10  0.000602604     0.010358  -6.4668e-11   -0.0214938   0.00590982     0.981535  7.29241e-11 -3.45456e-12 -3.05755e-10  3.63045e-10 -7.51405e-11   0.00424838   1.8847e-05  3.17089e-10         -nan         -nan         -nan         -nan         -nan         -nan         -nan         -nan         -nan         -nan         -nan         -nan\r\n",
      "   0.0481429 -2.35493e-11 -2.54668e-11 -2.18443e-10  9.30652e-11    0.0441772  3.28833e-10  1.91733e-10 -2.08941e-10     0.010358 -0.000602604 -6.62001e-11  -0.00590982   -0.0214938  7.29239e-11     0.981535  2.23058e-10  2.15128e-10 -7.34712e-12 -3.16557e-10 -1.88469e-05   0.00424838  6.75824e-10         -nan         -nan         -nan         -nan         -nan         -nan         -nan         -nan         -nan         -nan         -nan         -nan\r\n",
      "-2.87501e-10 -1.28799e-11    0.0640772  -0.00170478 -5.64834e-11  2.80021e-10   -0.0100569   0.00709275 -6.18961e-06 -6.16997e-10 -7.66963e-11   0.00671119  5.27976e-10 -1.02111e-09 -3.45456e-12  2.23058e-10      1.06903    -0.012762     0.024687     0.024687  4.18654e-11  2.29431e-10   -0.0150555         -nan         -nan         -nan         -nan         -nan         -nan         -nan         -nan         -nan         -nan         -nan         -nan\r\n",
      "  1.3849e-10  2.85354e-10  -0.00170478    0.0640772 -3.34203e-10 -4.99338e-11  -0.00709275    0.0100569  6.18964e-06 -6.25048e-11  1.45496e-09  -0.00671119 -7.57799e-10  1.02565e-09 -3.05755e-10  2.15128e-10    -0.012762      1.06903    -0.024687    -0.024687 -1.38816e-10 -2.90487e-10    0.0150555         -nan         -nan         -nan         -nan         -nan         -nan         -nan         -nan         -nan         -nan         -nan         -nan\r\n",
      "-3.10742e-10 -7.57772e-11  -0.00247803    0.0196276 -5.72998e-11  1.11434e-10    0.0331037   -0.0292687 -1.82828e-05  1.11994e-10 -8.67807e-10    0.0198234  1.86177e-09 -2.98404e-09  3.63045e-10 -7.34712e-12     0.024687    -0.024687      1.13359    0.0773243  1.19071e-10  4.33835e-10   0.00544011         -nan         -nan         -nan         -nan         -nan         -nan         -nan         -nan         -nan         -nan         -nan         -nan\r\n",
      " -3.8268e-11  7.32335e-11   -0.0196276   0.00247803 -2.87387e-10 -2.79253e-10   -0.0292687    0.0331037 -1.82828e-05  1.49026e-09 -1.88304e-10    0.0198234  1.85723e-09 -3.21386e-09 -7.51405e-11 -3.16557e-10     0.024687    -0.024687    0.0773243      1.13359  1.80343e-10  3.37155e-10   0.00544011         -nan         -nan         -nan         -nan         -nan         -nan         -nan         -nan         -nan         -nan         -nan         -nan\r\n",
      " 0.000254449   -0.0573567  6.11328e-13  4.60383e-11  -0.00347861   1.5432e-05 -3.28102e-10 -5.32711e-10 -3.98897e-12 -0.000547529   -0.0101908  -2.3316e-11    0.0179519  -0.00502174    0.0191591  -8.4995e-05 -2.16411e-13  9.08056e-11  5.04402e-11  2.62755e-10     0.600541  2.24911e-10  2.81261e-09         -nan         -nan         -nan         -nan         -nan         -nan         -nan         -nan         -nan         -nan         -nan         -nan\r\n",
      "  -0.0573567 -0.000254449  -1.6409e-10  3.70921e-10  -1.5432e-05  -0.00347861 -3.85767e-09 -3.80969e-09  6.45024e-10   -0.0101908  0.000547529  1.38946e-10   0.00502174    0.0179519   8.4995e-05    0.0191591 -1.49268e-10 -6.09779e-11 -1.42113e-10 -5.14201e-11   2.2491e-10     0.600541  7.07826e-11         -nan         -nan         -nan         -nan         -nan         -nan         -nan         -nan         -nan         -nan         -nan         -nan\r\n",
      "-3.28191e-10  -3.2127e-10   -0.0423663    0.0423663  6.07608e-10  5.83222e-10   0.00290043   0.00290043 -0.000442353 -1.66949e-09 -1.60312e-09 -0.000216557  1.09728e-10  1.72953e-10  4.07579e-10  8.27881e-10   -0.0160973    0.0160973   0.00532182   0.00532182  3.14887e-09    5.257e-10      1.98491         -nan         -nan         -nan         -nan         -nan         -nan         -nan         -nan         -nan         -nan         -nan         -nan\r\n",
      "        -nan         -nan         -nan         -nan         -nan         -nan         -nan         -nan         -nan         -nan         -nan         -nan         -nan         -nan         -nan         -nan         -nan         -nan         -nan         -nan         -nan         -nan         -nan         -nan         -nan         -nan         -nan         -nan         -nan         -nan         -nan         -nan         -nan         -nan         -nan\r\n",
      "        -nan         -nan         -nan         -nan         -nan         -nan         -nan         -nan         -nan         -nan         -nan         -nan         -nan         -nan         -nan         -nan         -nan         -nan         -nan         -nan         -nan         -nan         -nan         -nan         -nan         -nan         -nan         -nan         -nan         -nan         -nan         -nan         -nan         -nan         -nan\r\n",
      "        -nan         -nan         -nan         -nan         -nan         -nan         -nan         -nan         -nan         -nan         -nan         -nan         -nan         -nan         -nan         -nan         -nan         -nan         -nan         -nan         -nan         -nan         -nan         -nan         -nan         -nan         -nan         -nan         -nan         -nan         -nan         -nan         -nan         -nan         -nan\r\n",
      "        -nan         -nan         -nan         -nan         -nan         -nan         -nan         -nan         -nan         -nan         -nan         -nan         -nan         -nan         -nan         -nan         -nan         -nan         -nan         -nan         -nan         -nan         -nan         -nan         -nan         -nan         -nan         -nan         -nan         -nan         -nan         -nan         -nan         -nan         -nan\r\n",
      "        -nan         -nan         -nan         -nan         -nan         -nan         -nan         -nan         -nan         -nan         -nan         -nan         -nan         -nan         -nan         -nan         -nan         -nan         -nan         -nan         -nan         -nan         -nan         -nan         -nan         -nan         -nan         -nan         -nan         -nan         -nan         -nan         -nan         -nan         -nan\r\n",
      "        -nan         -nan         -nan         -nan         -nan         -nan         -nan         -nan         -nan         -nan         -nan         -nan         -nan         -nan         -nan         -nan         -nan         -nan         -nan         -nan         -nan         -nan         -nan         -nan         -nan         -nan         -nan         -nan         -nan         -nan         -nan         -nan         -nan         -nan         -nan\r\n",
      "        -nan         -nan         -nan         -nan         -nan         -nan         -nan         -nan         -nan         -nan         -nan         -nan         -nan         -nan         -nan         -nan         -nan         -nan         -nan         -nan         -nan         -nan         -nan         -nan         -nan         -nan         -nan         -nan         -nan         -nan         -nan         -nan         -nan         -nan         -nan\r\n",
      "        -nan         -nan         -nan         -nan         -nan         -nan         -nan         -nan         -nan         -nan         -nan         -nan         -nan         -nan         -nan         -nan         -nan         -nan         -nan         -nan         -nan         -nan         -nan         -nan         -nan         -nan         -nan         -nan         -nan         -nan         -nan         -nan         -nan         -nan         -nan\r\n",
      "        -nan         -nan         -nan         -nan         -nan         -nan         -nan         -nan         -nan         -nan         -nan         -nan         -nan         -nan         -nan         -nan         -nan         -nan         -nan         -nan         -nan         -nan         -nan         -nan         -nan         -nan         -nan         -nan         -nan         -nan         -nan         -nan         -nan         -nan         -nan\r\n",
      "        -nan         -nan         -nan         -nan         -nan         -nan         -nan         -nan         -nan         -nan         -nan         -nan         -nan         -nan         -nan         -nan         -nan         -nan         -nan         -nan         -nan         -nan         -nan         -nan         -nan         -nan         -nan         -nan         -nan         -nan         -nan         -nan         -nan         -nan         -nan\r\n",
      "        -nan         -nan         -nan         -nan         -nan         -nan         -nan         -nan         -nan         -nan         -nan         -nan         -nan         -nan         -nan         -nan         -nan         -nan         -nan         -nan         -nan         -nan         -nan         -nan         -nan         -nan         -nan         -nan         -nan         -nan         -nan         -nan         -nan         -nan         -nan\r\n",
      "        -nan         -nan         -nan         -nan         -nan         -nan         -nan         -nan         -nan         -nan         -nan         -nan         -nan         -nan         -nan         -nan         -nan         -nan         -nan         -nan         -nan         -nan         -nan          nan          nan          nan          nan          nan          nan          nan          nan          nan          nan          nan          nan\r\n",
      "an error occurred:\r\n",
      "Small generalized eigenvalue problem failed.\r\n"
     ]
    }
   ],
   "source": [
    "!xtp_tools -c job_name=CO geometry_optimization.maxiter=1 dftpackage.basisset=3-21G dftpackage.auxbasisset=aux-def2-svp gwbse.gw.mode=G0W0 -e dftgwbse -t 4"
   ]
  },
  {
   "cell_type": "markdown",
   "metadata": {},
   "source": [
    "Notice that we are using 4 threads. The results will be stored in a file named `CO_summary.xml` in the current work directory, together with the optimization step in `optimisation.trj` and the orbitals in [hdf5 format](https://www.hdfgroup.org/solutions/hdf5/) saved on `CO.orb`."
   ]
  }
 ],
 "metadata": {
  "kernelspec": {
   "display_name": "Python 3",
   "language": "python",
   "name": "python3"
  },
  "language_info": {
   "codemirror_mode": {
    "name": "ipython",
    "version": 3
   },
   "file_extension": ".py",
   "mimetype": "text/x-python",
   "name": "python",
   "nbconvert_exporter": "python",
   "pygments_lexer": "ipython3",
   "version": "3.10.4"
  }
 },
 "nbformat": 4,
 "nbformat_minor": 4
}
