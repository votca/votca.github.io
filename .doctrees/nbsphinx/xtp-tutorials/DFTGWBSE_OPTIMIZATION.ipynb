{
 "cells": [
  {
   "cell_type": "markdown",
   "metadata": {},
   "source": [
    "## DFT + GWBSE Optimization Using CO"
   ]
  },
  {
   "cell_type": "markdown",
   "metadata": {},
   "source": [
    "## Introduction\n",
    "This tutorial explains how to perform a molecular geometric optimization using the **GWBSE** method. See [the GW Compendium: A Practical Guide to Theoretical Photoemission Spectroscopy](https://doi.org/10.3389/fchem.2019.00377), for an excellent introduction to the method."
   ]
  },
  {
   "cell_type": "markdown",
   "metadata": {},
   "source": [
    "## Requirements\n",
    "* You will need to install **VOTCA** using the instructions described [here](https://github.com/votca/votca/blob/master/share/doc/INSTALL.rst)\n",
    "* Once the installation is completed you need to activate the VOTCA enviroment by running the `VOTCARC.bash` script that has been installed at the bin subfolder for the path that you have provided for the installation step above"
   ]
  },
  {
   "cell_type": "markdown",
   "metadata": {},
   "source": [
    "## Preparing the input\n",
    "To run a DFT-GWBSE calculation we will use the [xtp_tools](https://www.votca.org/xtp/xtp_tools_overview.html) calculator."
   ]
  },
  {
   "cell_type": "markdown",
   "metadata": {},
   "source": [
    "we can now change the calculator mode from single point energy calculation to optimization as follows by adding \n",
    "`-c geometry_optimization.maxiter=1` which enables optimization with one iteration. "
   ]
  },
  {
   "cell_type": "markdown",
   "metadata": {},
   "source": [
    "Because geometry optimsation is quite expensive numerically we chose a smaller basisset and G0W0 Finally, to run the calculation we just need the following command (This still takes a while)"
   ]
  },
  {
   "cell_type": "code",
   "execution_count": 1,
   "metadata": {
    "execution": {
     "iopub.execute_input": "2023-01-06T14:16:57.316623Z",
     "iopub.status.busy": "2023-01-06T14:16:57.316262Z",
     "iopub.status.idle": "2023-01-06T14:18:01.382958Z",
     "shell.execute_reply": "2023-01-06T14:18:01.382113Z"
    }
   },
   "outputs": [
    {
     "name": "stdout",
     "output_type": "stream",
     "text": [
      "==================================================\r\n",
      "========   VOTCA (http://www.votca.org)   ========\r\n",
      "==================================================\r\n",
      "\r\n",
      "please submit bugs to https://github.com/votca/xtp/issues\r\n",
      "\r\n",
      "xtp_tools, version 2023-dev gitid: 033afc4 (compiled Jan  6 2023, 14:09:02)\r\n",
      "votca_csg, version 2023-dev gitid: 033afc4 (compiled Jan  6 2023, 13:54:39)\r\n",
      "votca_tools, version 2023-dev gitid: 033afc4 (compiled Jan  6 2023, 13:52:04)\r\n",
      "\r\n",
      "Initializing tool\r\n",
      "... dftgwbse Evaluating tool\r\n",
      "... dftgwbse  Using 4 threads\r\n",
      "... ... Reading structure from CO.xyz\r\n",
      "... ... Requested geometry optimization of excited state s1\r\n",
      "... ... Initial state: s1\r\n",
      "... ... WARNING: No tracker is used \r\n",
      "... ... Convergence of total energy: 0.000001 Hartree \r\n",
      "... ... Convergence of RMS Force:    0.000030 Hartree/Bohr \r\n",
      "... ... Convergence of Max Force:    0.000100 Hartree/Bohr \r\n",
      "... ... Convergence of RMS Step:     0.000600 Bohr \r\n",
      "... ... Convergence of Max Step:     0.001000 Bohr \r\n",
      "... ... Initial trust radius:        0.018897 Bohr\r\n",
      "... ... \r\n",
      "... ... =========== OPTIMIZATION SUMMARY ================================= \r\n",
      "... ... At iteration  0\r\n",
      "... ...  ---- POSITIONS (Angstrom)   \r\n",
      "... ...  Atom\t x\t  y\t  z \r\n",
      "... ...    0    +0.0000  +0.0000  +0.0000\r\n",
      "... ...    1    +1.2000  +0.0000  +0.0000\r\n",
      "... ...    Total energy:     -112.26831841 Hartree \r\n",
      "... ...    Trust radius:       0.01889726 Bohr     \r\n",
      "... ...  ---- FORCES (Hartree/Bohr)   \r\n",
      "... ...       central differences   \r\n",
      "... ...       displacement 0.0010 Angstrom   \r\n",
      "... ...  Atom\t x\t  y\t  z \r\n",
      "... ...    0    -0.1314  -0.0000  -0.0000\r\n",
      "... ...    1    +0.1314  +0.0000  +0.0000A\r\n",
      "    0.301149 -1.39175e-12  7.68395e-10 -8.85113e-10 -1.20114e-09 -1.04361e-09   -0.0519724  1.01961e-12  5.92029e-10    0.0141888   -0.0104737  2.25008e-10   -0.0390253  0.000523739    0.0423984 -8.04385e-13  1.50357e-10  3.06502e-10 -1.92386e-10  4.05496e-10     0.107077   0.00211031 -6.09874e-11          nan          nan          nan          nan          nan          nan          nan          nan          nan          nan          nan          nan\r\n",
      "-1.39175e-12     0.301149 -1.48736e-10  3.06268e-10  -2.1963e-10 -1.02912e-10  1.01957e-12   -0.0519724 -2.92014e-12    0.0104737    0.0141888 -6.32085e-13  0.000523739    0.0390253 -8.04425e-13    0.0423984  2.11203e-10 -1.90739e-12  1.60201e-10 -4.05566e-12   0.00211031    -0.107077 -5.83668e-11          nan          nan          nan          nan          nan          nan          nan          nan          nan          nan          nan          nan\r\n",
      " 7.68395e-10 -1.48736e-10     0.391833      -0.0716    -0.110658    -0.110658 -1.82835e-10  9.49313e-11    0.0540486  3.42382e-11 -1.16325e-10    0.0243637 -1.89231e-09  5.74409e-11  1.23418e-10 -3.05641e-11   -0.0363356    0.0109244   -0.0169866    0.0176208   7.9509e-09  3.80492e-10    0.0242739          nan          nan          nan          nan          nan          nan          nan          nan          nan          nan          nan          nan\r\n",
      "-8.85113e-10  3.06268e-10      -0.0716     0.391833     0.110658     0.110658  2.21479e-10 -1.49358e-10   -0.0540486 -3.37277e-11   1.2061e-10   -0.0243637  1.91215e-09 -3.18869e-11 -2.13067e-10  1.52635e-10   -0.0109244    0.0363356    0.0176208   -0.0169866  -8.0325e-09 -4.97955e-10   -0.0242739          nan          nan          nan          nan          nan          nan          nan          nan          nan          nan          nan          nan\r\n",
      "-1.20114e-09  -2.1963e-10    -0.110658     0.110658     0.460058     0.139825  3.02122e-10  1.00161e-10     -0.07322 -1.43333e-10  3.34806e-11   -0.0330057  2.59027e-09  9.90742e-12 -2.89141e-10 -1.07275e-10   -0.0167811   -0.0174154     0.021026     0.026234 -1.08858e-08 -1.18015e-10   0.00967423          nan          nan          nan          nan          nan          nan          nan          nan          nan          nan          nan          nan\r\n",
      "-1.04361e-09 -1.02912e-10    -0.110658     0.110658     0.139825     0.460058  2.47696e-10  6.15169e-11     -0.07322 -1.39048e-10  3.29703e-11   -0.0330057  2.56471e-09   2.9749e-11  -1.6707e-10 -1.76256e-11   -0.0174154   -0.0167811    -0.026234    -0.021026 -1.07674e-08 -2.00457e-10   0.00967423          nan          nan          nan          nan          nan          nan          nan          nan          nan          nan          nan          nan\r\n",
      "  -0.0519724  1.01957e-12 -1.82835e-10  2.21479e-10  3.02122e-10  2.47696e-10     0.486835 -2.44841e-13 -1.77663e-10   -0.0109698   0.00809757  -3.9654e-11  -0.00830531  0.000111461    0.0301449  2.91449e-12  9.04971e-11 -1.01414e-10  -1.2654e-10 -1.35547e-10   -0.0549833  -0.00108363   4.0978e-11          nan          nan          nan          nan          nan          nan          nan          nan          nan          nan          nan          nan\r\n",
      " 1.01961e-12   -0.0519724  9.49313e-11 -1.49358e-10  1.00161e-10  6.15169e-11 -2.44838e-13     0.486835   3.9954e-12  -0.00809757   -0.0109698  1.14906e-12  0.000111461   0.00830531  2.91453e-12    0.0301449 -2.69386e-10 -7.29943e-12 -2.01474e-10  9.56294e-12  -0.00108363    0.0549833 -2.31444e-10          nan          nan          nan          nan          nan          nan          nan          nan          nan          nan          nan          nan\r\n",
      " 5.92029e-10 -2.92014e-12    0.0540486   -0.0540486     -0.07322     -0.07322 -1.77663e-10   3.9954e-12     0.659928  2.69251e-10  -2.0028e-10  -0.00518518 -7.77965e-10  3.33184e-12  1.34331e-10 -2.16852e-12   0.00288478   0.00288478  -0.00380022   0.00380022  5.23362e-09  1.54384e-10   0.00262082          nan          nan          nan          nan          nan          nan          nan          nan          nan          nan          nan          nan\r\n",
      "   0.0141888    0.0104737  3.42382e-11 -3.37277e-11 -1.43333e-10 -1.39048e-10   -0.0109698  -0.00809757  2.69251e-10     0.668107  7.23864e-13 -7.88167e-11  1.34724e-05  -1.0227e-05   0.00728928   0.00538071 -2.62756e-11 -2.97344e-11  1.09078e-09 -4.35468e-11    0.0334464   -0.0236853  8.06831e-10          nan          nan          nan          nan          nan          nan          nan          nan          nan          nan          nan          nan\r\n",
      "  -0.0104737    0.0141888 -1.16325e-10   1.2061e-10  3.34806e-11  3.29703e-11   0.00809757   -0.0109698  -2.0028e-10  7.23872e-13     0.668107  5.93564e-11  -1.0227e-05 -1.34724e-05  -0.00538071   0.00728928   1.0765e-09  2.92708e-11 -2.62365e-11  2.27777e-11   -0.0236853   -0.0334464  1.12978e-09          nan          nan          nan          nan          nan          nan          nan          nan          nan          nan          nan          nan\r\n",
      " 2.25008e-10 -6.32085e-13    0.0243637   -0.0243637   -0.0330057   -0.0330057  -3.9654e-11  1.14906e-12  -0.00518518 -7.88167e-11  5.93564e-11     0.793012 -5.03133e-10  1.22568e-12  7.47805e-11 -4.75169e-13   0.00925343   0.00925343   -0.0121899    0.0121899  1.99201e-09  5.80117e-11    0.0010711          nan          nan          nan          nan          nan          nan          nan          nan          nan          nan          nan          nan\r\n",
      "  -0.0390253  0.000523739 -1.89231e-09  1.91215e-09  2.59027e-09  2.56471e-09  -0.00830531  0.000111461 -7.77965e-10  1.34724e-05  -1.0227e-05 -5.03133e-10     0.954263 -3.99383e-13    0.0128739 -0.000172774 -1.22054e-09 -1.11492e-09  1.60896e-09 -1.46768e-09    0.0198854  0.000658953 -1.22127e-10          nan          nan          nan          nan          nan          nan          nan          nan          nan          nan          nan          nan\r\n",
      " 0.000523739    0.0390253  5.74409e-11 -3.18869e-11  9.90742e-12   2.9749e-11  0.000111461   0.00830531  3.33184e-12  -1.0227e-05 -1.34724e-05  1.22568e-12 -3.99387e-13     0.954263 -0.000172774   -0.0128739 -5.83285e-11  8.29524e-11 -5.23081e-11 -5.33206e-11 -0.000658953    0.0198854  3.45549e-11          nan          nan          nan          nan          nan          nan          nan          nan          nan          nan          nan          nan\r\n",
      "   0.0423984 -8.04424e-13  1.23418e-10 -2.13067e-10 -2.89141e-10  -1.6707e-10    0.0301449  2.91453e-12  1.34331e-10   0.00728928  -0.00538071  7.47805e-11    0.0128739 -0.000172774     0.973645  1.57397e-12   1.1999e-10   3.2195e-11 -1.60671e-10   4.2133e-11    0.0229461  0.000452227 -1.85418e-11          nan          nan          nan          nan          nan          nan          nan          nan          nan          nan          nan          nan\r\n",
      "-8.04384e-13    0.0423984 -3.05641e-11  1.52635e-10 -1.07275e-10 -1.76256e-11  2.91449e-12    0.0301449 -2.16852e-12   0.00538071   0.00728928 -4.75169e-13 -0.000172774   -0.0128739  1.57397e-12     0.973645 -1.26643e-10 -8.10448e-12 -9.32096e-11  5.41457e-12  0.000452227   -0.0229461 -5.39052e-10          nan          nan          nan          nan          nan          nan          nan          nan          nan          nan          nan          nan\r\n",
      " 1.50357e-10  2.11203e-10   -0.0363356   -0.0109244   -0.0167811   -0.0174154  9.04971e-11 -2.69386e-10   0.00288478 -2.62756e-11   1.0765e-09   0.00925343 -1.22054e-09 -5.83285e-11   1.1999e-10 -1.26643e-10      1.03687    0.0176995   -0.0205692    0.0205692  1.51969e-09 -2.09344e-11  -0.00299977          nan          nan          nan          nan          nan          nan          nan          nan          nan          nan          nan          nan\r\n",
      " 3.06502e-10 -1.90739e-12    0.0109244    0.0363356   -0.0174154   -0.0167811 -1.01414e-10 -7.29943e-12   0.00288478 -2.97344e-11  2.92708e-11   0.00925343 -1.11492e-09  8.29524e-11   3.2195e-11 -8.10448e-12    0.0176995      1.03687   -0.0205692    0.0205692  1.56879e-09  4.95864e-11  -0.00299977          nan          nan          nan          nan          nan          nan          nan          nan          nan          nan          nan          nan\r\n",
      "-1.92386e-10  1.60201e-10   -0.0169866    0.0176208     0.021026    -0.026234  -1.2654e-10 -2.01474e-10  -0.00380022  1.09078e-09 -2.62365e-11   -0.0121899  1.60896e-09 -5.23081e-11 -1.60671e-10 -9.32096e-11   -0.0205692   -0.0205692      1.04835   -0.0291817 -1.99529e-09 -1.04734e-10  -0.00432897          nan          nan          nan          nan          nan          nan          nan          nan          nan          nan          nan          nan\r\n",
      " 4.05496e-10 -4.05566e-12    0.0176208   -0.0169866     0.026234    -0.021026 -1.35547e-10  9.56294e-12   0.00380022 -4.35468e-11  2.27777e-11    0.0121899 -1.46768e-09 -5.33206e-11   4.2133e-11  5.41457e-12    0.0205692    0.0205692   -0.0291817      1.04835  2.06581e-09   5.5658e-11   0.00432897          nan          nan          nan          nan          nan          nan          nan          nan          nan          nan          nan          nan\r\n",
      "  -0.0745716  -0.00146968  -5.4386e-09  5.45309e-09  7.38687e-09   7.3636e-09    0.0700158   0.00137989 -4.10098e-09   -0.0248091    0.0175687 -1.74202e-09  -0.00919343  0.000304648   -0.0362817  -0.00071505 -1.23045e-09 -1.25924e-09  1.61576e-09 -1.65666e-09    -0.195058 -8.52723e-12  -3.9184e-10          nan          nan          nan          nan          nan          nan          nan          nan          nan          nan          nan          nan\r\n",
      " -0.00146968    0.0745716 -4.14809e-10   4.3782e-10  1.54103e-11  3.00086e-11   0.00137989   -0.0700158 -1.21303e-10    0.0175687    0.0248091 -5.04105e-11 -0.000304648  -0.00919343  -0.00071505    0.0362817    4.521e-11  4.51562e-12    1.101e-10   -8.111e-11 -8.52724e-12    -0.195058 -6.14479e-09          nan          nan          nan          nan          nan          nan          nan          nan          nan          nan          nan          nan\r\n",
      " 1.16675e-11  8.00492e-10   0.00558898  -0.00558898    0.0182098    0.0182098 -5.71553e-11  -7.0043e-10  -0.00448055  1.14434e-09  1.47967e-09  -0.00192425  1.46644e-10 -1.19795e-10  1.54892e-11   3.1139e-11  -0.00564637  -0.00564637  -0.00301565   0.00301565 -8.47919e-10 -6.30084e-09      1.05357          nan          nan          nan          nan          nan          nan          nan          nan          nan          nan          nan          nan\r\n",
      "        -nan         -nan         -nan         -nan         -nan         -nan         -nan         -nan         -nan         -nan         -nan         -nan         -nan         -nan         -nan         -nan         -nan         -nan         -nan         -nan         -nan         -nan         -nan          nan          nan          nan          nan          nan          nan          nan          nan          nan          nan          nan          nan\r\n",
      "        -nan         -nan         -nan         -nan         -nan         -nan         -nan         -nan         -nan         -nan         -nan         -nan         -nan         -nan         -nan         -nan         -nan         -nan         -nan         -nan         -nan         -nan         -nan         -nan         -nan         -nan         -nan         -nan         -nan         -nan         -nan         -nan         -nan         -nan         -nan\r\n",
      "        -nan         -nan         -nan         -nan         -nan         -nan         -nan         -nan         -nan         -nan         -nan         -nan         -nan         -nan         -nan         -nan         -nan         -nan         -nan         -nan         -nan         -nan         -nan         -nan         -nan         -nan         -nan         -nan         -nan         -nan         -nan         -nan         -nan         -nan         -nan\r\n",
      "        -nan         -nan         -nan         -nan         -nan         -nan         -nan         -nan         -nan         -nan         -nan         -nan         -nan         -nan         -nan         -nan         -nan         -nan         -nan         -nan         -nan         -nan         -nan          nan          nan          nan          nan          nan          nan          nan          nan          nan          nan          nan          nan\r\n",
      "        -nan         -nan         -nan         -nan         -nan         -nan         -nan         -nan         -nan         -nan         -nan         -nan         -nan         -nan         -nan         -nan         -nan         -nan         -nan         -nan         -nan         -nan         -nan          nan          nan          nan          nan          nan          nan          nan          nan          nan          nan          nan          nan\r\n",
      "        -nan         -nan         -nan         -nan         -nan         -nan         -nan         -nan         -nan         -nan         -nan         -nan         -nan         -nan         -nan         -nan         -nan         -nan         -nan         -nan         -nan         -nan         -nan         -nan         -nan         -nan         -nan         -nan         -nan         -nan         -nan         -nan         -nan         -nan         -nan\r\n",
      "        -nan         -nan         -nan         -nan         -nan         -nan         -nan         -nan         -nan         -nan         -nan         -nan         -nan         -nan         -nan         -nan         -nan         -nan         -nan         -nan         -nan         -nan         -nan         -nan         -nan         -nan         -nan         -nan         -nan         -nan         -nan         -nan         -nan         -nan         -nan\r\n",
      "        -nan         -nan         -nan         -nan         -nan         -nan         -nan         -nan         -nan         -nan         -nan         -nan         -nan         -nan         -nan         -nan         -nan         -nan         -nan         -nan         -nan         -nan         -nan          nan          nan          nan          nan          nan          nan          nan          nan          nan          nan          nan          nan\r\n",
      "        -nan         -nan         -nan         -nan         -nan         -nan         -nan         -nan         -nan         -nan         -nan         -nan         -nan         -nan         -nan         -nan         -nan         -nan         -nan         -nan         -nan         -nan         -nan          nan          nan          nan          nan          nan          nan          nan          nan          nan          nan          nan          nan\r\n",
      "        -nan         -nan         -nan         -nan         -nan         -nan         -nan         -nan         -nan         -nan         -nan         -nan         -nan         -nan         -nan         -nan         -nan         -nan         -nan         -nan         -nan         -nan         -nan         -nan          nan          nan          nan         -nan          nan          nan          nan         -nan          nan          nan          nan\r\n",
      "        -nan         -nan         -nan         -nan         -nan         -nan         -nan         -nan         -nan         -nan         -nan         -nan         -nan         -nan         -nan         -nan         -nan         -nan         -nan         -nan         -nan         -nan         -nan         -nan          nan          nan          nan         -nan          nan          nan          nan         -nan          nan          nan          nan\r\n",
      "        -nan         -nan         -nan         -nan         -nan         -nan         -nan         -nan         -nan         -nan         -nan         -nan         -nan         -nan         -nan         -nan         -nan         -nan         -nan         -nan         -nan         -nan         -nan         -nan         -nan         -nan         -nan         -nan         -nan         -nan         -nan         -nan         -nan         -nan         -nan\r\n",
      "B\r\n",
      "   0.0903883 -6.20712e-13  2.83196e-10 -3.57272e-10 -4.85036e-10 -3.85072e-10   -0.0326152    6.253e-13  3.66711e-10    0.0119184   -0.0087978  1.49744e-10   -0.0481032  0.000645568    0.0477611 -9.23264e-13  9.89938e-11  3.09743e-10 -1.22541e-10   4.1012e-10    0.0244237   0.00048135 -4.31238e-11         -nan         -nan         -nan         -nan         -nan         -nan         -nan         -nan         -nan         -nan         -nan         -nan\r\n",
      " -6.2071e-13    0.0903883 -7.31795e-11  1.73143e-10 -1.25486e-10 -5.14112e-11  6.25282e-13   -0.0326152 -1.80763e-12    0.0087978    0.0119184 -3.77253e-13  0.000645568    0.0481032 -9.23304e-13    0.0477611  2.98314e-10  1.07358e-11  2.25177e-10 -1.44278e-11   0.00048135   -0.0244237  7.66357e-10         -nan         -nan         -nan         -nan         -nan         -nan         -nan         -nan         -nan         -nan         -nan         -nan\r\n",
      " 2.83196e-10 -7.31795e-11      0.13918   -0.0343458   -0.0540153   -0.0540153 -8.97558e-11  6.46433e-11    0.0388299  2.49639e-11 -9.94147e-11    0.0189535 -2.03846e-09  6.51172e-11  1.06252e-10 -3.16809e-11   -0.0545616   0.00901151   -0.0148596    0.0157128   4.0195e-10 -9.26736e-11    0.0315751         -nan         -nan         -nan         -nan         -nan         -nan         -nan         -nan         -nan         -nan         -nan         -nan\r\n",
      "-3.57272e-10  1.73143e-10   -0.0343458      0.13918    0.0540153    0.0540153  1.21083e-10 -1.08415e-10   -0.0388299 -2.44861e-11  1.04923e-10   -0.0189535  2.06772e-09 -2.73707e-11 -2.21507e-10   1.8843e-10  -0.00901151    0.0545616    0.0157128   -0.0148596 -4.70575e-10 -3.88096e-12   -0.0315751         -nan         -nan         -nan         -nan         -nan         -nan         -nan         -nan         -nan         -nan         -nan         -nan\r\n",
      "-4.85036e-10 -1.25486e-10   -0.0540153    0.0540153     0.172482    0.0676483  1.65454e-10  7.40333e-11   -0.0526031 -1.21344e-10  2.47816e-11   -0.0256765  2.80074e-09  4.50951e-12 -3.00605e-10 -1.33253e-10   -0.0143668     -0.01522    0.0178439    0.0457292 -6.42619e-10 -2.82569e-11    0.0289032         -nan         -nan         -nan         -nan         -nan         -nan         -nan         -nan         -nan         -nan         -nan         -nan\r\n",
      "-3.85072e-10 -5.14112e-11   -0.0540153    0.0540153    0.0676483     0.172482  1.21683e-10  4.27058e-11   -0.0526031 -1.15836e-10   2.4304e-11   -0.0256765  2.76299e-09  3.37774e-11 -1.43856e-10 -1.79985e-11     -0.01522   -0.0143668   -0.0457292   -0.0178439 -5.45405e-10 -9.75671e-11    0.0289032         -nan         -nan         -nan         -nan         -nan         -nan         -nan         -nan         -nan         -nan         -nan         -nan\r\n",
      "  -0.0326152  6.25282e-13 -8.97558e-11  1.21083e-10  1.65454e-10  1.21683e-10     0.236624 -1.38037e-13 -1.35483e-10   -0.0115708   0.00854117 -2.41284e-11  -0.00949853  0.000127475    0.0424653  3.99942e-12  1.62824e-10 -1.23611e-10  -2.2537e-10 -1.65663e-10   0.00359495  7.08503e-05 -5.41533e-12         -nan         -nan         -nan         -nan         -nan         -nan         -nan         -nan         -nan         -nan         -nan         -nan\r\n",
      "   6.253e-13   -0.0326152  6.46433e-11 -1.08415e-10  7.40333e-11  4.27058e-11 -1.38033e-13     0.236624  3.36292e-12  -0.00854117   -0.0115708  9.78119e-13  0.000127475   0.00949853  3.99946e-12    0.0424653 -4.04355e-10 -1.33222e-11 -3.01574e-10  1.51388e-11  7.08503e-05  -0.00359495 -8.20219e-10         -nan         -nan         -nan         -nan         -nan         -nan         -nan         -nan         -nan         -nan         -nan         -nan\r\n",
      " 3.66711e-10 -1.80763e-12    0.0388299   -0.0388299   -0.0526031   -0.0526031 -1.35483e-10  3.36292e-12     0.424108  3.29691e-10  -2.4555e-10   -0.0112617 -9.32861e-10  4.47598e-12  1.82484e-10 -2.95585e-12  0.000392551  0.000392551 -0.000517121  0.000517121  1.09289e-09  3.51983e-11  -0.00121425         -nan         -nan         -nan         -nan         -nan         -nan         -nan         -nan         -nan         -nan         -nan         -nan\r\n",
      "   0.0119184    0.0087978  2.49639e-11 -2.44861e-11 -1.21344e-10 -1.15836e-10   -0.0115708  -0.00854117  3.29691e-10     0.446812  9.52322e-13 -1.12181e-10 -0.000385629  0.000292734   0.00868552   0.00641137 -4.73814e-11 -5.31998e-11  1.82915e-09 -7.92766e-11    0.0144961   -0.0102655  1.77999e-09         -nan         -nan         -nan         -nan         -nan         -nan         -nan         -nan         -nan         -nan         -nan         -nan\r\n",
      "  -0.0087978    0.0119184 -9.94147e-11  1.04923e-10  2.47816e-11   2.4304e-11   0.00854117   -0.0115708  -2.4555e-10  9.52335e-13     0.446812   8.4237e-11  0.000292734  0.000385629  -0.00641137   0.00868552  1.80313e-09  5.32517e-11 -4.69701e-11  4.11517e-11   -0.0102655   -0.0144961  2.39183e-09         -nan         -nan         -nan         -nan         -nan         -nan         -nan         -nan         -nan         -nan         -nan         -nan\r\n",
      " 1.49744e-10 -3.77253e-13    0.0189535   -0.0189535   -0.0256765   -0.0256765 -2.41284e-11  9.78119e-13   -0.0112617 -1.12181e-10   8.4237e-11     0.627074 -6.54357e-10  1.54787e-12  1.02976e-10 -5.52438e-13    0.0132566    0.0132566   -0.0174634    0.0174634  2.08974e-10  8.06604e-12 -0.000499142         -nan         -nan         -nan         -nan         -nan         -nan         -nan         -nan         -nan         -nan         -nan         -nan\r\n",
      "  -0.0481032  0.000645568 -2.03846e-09  2.06772e-09  2.80074e-09  2.76299e-09  -0.00949853  0.000127475 -9.32861e-10 -0.000385629  0.000292734 -6.54357e-10     0.912954 -7.12151e-13    0.0215518 -0.000289236 -2.19218e-09   -1.978e-09  2.89004e-09  -2.6036e-09    0.0227037  0.000752343 -5.44067e-11         -nan         -nan         -nan         -nan         -nan         -nan         -nan         -nan         -nan         -nan         -nan         -nan\r\n",
      " 0.000645568    0.0481032  6.51172e-11 -2.73707e-11  4.50951e-12  3.37774e-11  0.000127475   0.00949853  4.47598e-12  0.000292734  0.000385629  1.54787e-12 -7.12158e-13     0.912954 -0.000289236   -0.0215518 -1.23975e-10  1.62467e-10 -1.08542e-10 -1.05634e-10 -0.000752343    0.0227037 -1.07579e-10         -nan         -nan         -nan         -nan         -nan         -nan         -nan         -nan         -nan         -nan         -nan         -nan\r\n",
      "   0.0477611 -9.23304e-13  1.06252e-10 -2.21507e-10 -3.00605e-10 -1.43856e-10    0.0424653  3.99946e-12  1.82484e-10   0.00868552  -0.00641137  1.02976e-10    0.0215518 -0.000289236     0.952112  2.98977e-12  1.97473e-10  4.90055e-11 -2.64449e-10  6.41132e-11  -0.00321143 -6.32918e-05 -6.87903e-12         -nan         -nan         -nan         -nan         -nan         -nan         -nan         -nan         -nan         -nan         -nan         -nan\r\n",
      "-9.23264e-13    0.0477611 -3.16809e-11   1.8843e-10 -1.33253e-10 -1.79985e-11  3.99942e-12    0.0424653 -2.95585e-12   0.00641137   0.00868552 -5.52438e-13 -0.000289236   -0.0215518  2.98977e-12     0.952112 -2.09892e-10  -9.5563e-12 -1.54538e-10  6.06999e-12 -6.32918e-05   0.00321143 -4.80716e-10         -nan         -nan         -nan         -nan         -nan         -nan         -nan         -nan         -nan         -nan         -nan         -nan\r\n",
      " 9.89938e-11  2.98314e-10   -0.0545616  -0.00901151   -0.0143668     -0.01522  1.62824e-10 -4.04355e-10  0.000392551 -4.73814e-11  1.80313e-09    0.0132566 -2.19218e-09 -1.23975e-10  1.97473e-10 -2.09892e-10      1.07434    0.0333747   -0.0381702    0.0381702  4.67761e-10 -1.03915e-10    -0.012341         -nan         -nan         -nan         -nan         -nan         -nan         -nan         -nan         -nan         -nan         -nan         -nan\r\n",
      " 3.09743e-10  1.07358e-11   0.00901151    0.0545616     -0.01522   -0.0143668 -1.23611e-10 -1.33222e-11  0.000392551 -5.31998e-11  5.32517e-11    0.0132566   -1.978e-09  1.62467e-10  4.90055e-11  -9.5563e-12    0.0333747      1.07434   -0.0381702    0.0381702  5.88852e-10  6.95583e-11    -0.012341         -nan         -nan         -nan         -nan         -nan         -nan         -nan         -nan         -nan         -nan         -nan         -nan\r\n",
      "-1.22541e-10  2.25177e-10   -0.0148596    0.0157128    0.0178439   -0.0457292  -2.2537e-10 -3.01574e-10 -0.000517121  1.82915e-09 -4.69701e-11   -0.0174634  2.89004e-09 -1.08542e-10 -2.64449e-10 -1.54538e-10   -0.0381702   -0.0381702      1.09565   -0.0546823 -6.03545e-10 -1.02078e-10   -0.0113031         -nan         -nan         -nan         -nan         -nan         -nan         -nan         -nan         -nan         -nan         -nan         -nan\r\n",
      "  4.1012e-10 -1.44278e-11    0.0157128   -0.0148596    0.0457292   -0.0178439 -1.65663e-10  1.51388e-11  0.000517121 -7.92766e-11  4.11517e-11    0.0174634  -2.6036e-09 -1.05634e-10  6.41132e-11  6.06999e-12    0.0381702    0.0381702   -0.0546823      1.09565  7.76715e-10 -1.86805e-11    0.0113031         -nan         -nan         -nan         -nan         -nan         -nan         -nan         -nan         -nan         -nan         -nan         -nan\r\n",
      "   0.0559706   0.00110308  3.89577e-09 -3.96021e-09 -5.37326e-09 -5.28094e-09    0.0025978  5.11981e-05  1.12206e-09   0.00900281   -0.0063754  2.78547e-10    0.0177733 -0.000588962   -0.0179746 -0.000354249 -5.24109e-11 -7.84455e-11  6.29992e-11 -9.83399e-11     0.583856 -9.32009e-12 -3.01283e-10         -nan         -nan         -nan         -nan         -nan         -nan         -nan         -nan         -nan         -nan         -nan         -nan\r\n",
      "  0.00110308   -0.0559706  6.53195e-11 -1.56793e-10  -1.0883e-10 -1.74143e-10  5.11981e-05   -0.0025978  3.05121e-11   -0.0063754  -0.00900281  7.25825e-12  0.000588962    0.0177733 -0.000354249    0.0179746  1.41573e-10  1.06561e-10  1.15121e-10 -8.87453e-11 -9.32009e-12     0.583856 -4.55887e-09         -nan         -nan         -nan         -nan         -nan         -nan         -nan         -nan         -nan         -nan         -nan         -nan\r\n",
      "-6.69921e-11  4.40172e-10    0.0321878   -0.0321878     0.028872     0.028872 -2.39385e-12 -8.79098e-10   -0.0025925  1.64249e-09  2.20246e-09  -0.00132645  9.56425e-11 -7.08502e-11 -9.40482e-12 -6.09683e-10    -0.013744    -0.013744   -0.0109178    0.0109178 -7.90612e-10 -5.06169e-09       2.1159         -nan         -nan         -nan         -nan         -nan         -nan         -nan         -nan         -nan         -nan         -nan         -nan\r\n",
      "        -nan         -nan         -nan         -nan         -nan         -nan         -nan         -nan         -nan         -nan         -nan         -nan         -nan         -nan         -nan         -nan         -nan         -nan         -nan         -nan         -nan         -nan         -nan         -nan         -nan         -nan         -nan         -nan         -nan         -nan         -nan         -nan         -nan         -nan         -nan\r\n",
      "        -nan         -nan         -nan         -nan         -nan         -nan         -nan         -nan         -nan         -nan         -nan         -nan         -nan         -nan         -nan         -nan         -nan         -nan         -nan         -nan         -nan         -nan         -nan         -nan         -nan         -nan         -nan         -nan         -nan         -nan         -nan         -nan         -nan         -nan         -nan\r\n",
      "        -nan         -nan         -nan         -nan         -nan         -nan         -nan         -nan         -nan         -nan         -nan         -nan         -nan         -nan         -nan         -nan         -nan         -nan         -nan         -nan         -nan         -nan         -nan         -nan         -nan         -nan         -nan         -nan         -nan         -nan         -nan         -nan         -nan         -nan         -nan\r\n",
      "        -nan         -nan         -nan         -nan         -nan         -nan         -nan         -nan         -nan         -nan         -nan         -nan         -nan         -nan         -nan         -nan         -nan         -nan         -nan         -nan         -nan         -nan         -nan         -nan         -nan         -nan         -nan         -nan         -nan         -nan         -nan         -nan         -nan         -nan         -nan\r\n",
      "        -nan         -nan         -nan         -nan         -nan         -nan         -nan         -nan         -nan         -nan         -nan         -nan         -nan         -nan         -nan         -nan         -nan         -nan         -nan         -nan         -nan         -nan         -nan         -nan         -nan         -nan         -nan         -nan         -nan         -nan         -nan         -nan         -nan         -nan         -nan\r\n",
      "        -nan         -nan         -nan         -nan         -nan         -nan         -nan         -nan         -nan         -nan         -nan         -nan         -nan         -nan         -nan         -nan         -nan         -nan         -nan         -nan         -nan         -nan         -nan         -nan         -nan         -nan         -nan         -nan         -nan         -nan         -nan         -nan         -nan         -nan         -nan\r\n",
      "        -nan         -nan         -nan         -nan         -nan         -nan         -nan         -nan         -nan         -nan         -nan         -nan         -nan         -nan         -nan         -nan         -nan         -nan         -nan         -nan         -nan         -nan         -nan         -nan         -nan         -nan         -nan         -nan         -nan         -nan         -nan         -nan         -nan         -nan         -nan\r\n",
      "        -nan         -nan         -nan         -nan         -nan         -nan         -nan         -nan         -nan         -nan         -nan         -nan         -nan         -nan         -nan         -nan         -nan         -nan         -nan         -nan         -nan         -nan         -nan         -nan         -nan         -nan         -nan         -nan         -nan         -nan         -nan         -nan         -nan         -nan         -nan\r\n",
      "        -nan         -nan         -nan         -nan         -nan         -nan         -nan         -nan         -nan         -nan         -nan         -nan         -nan         -nan         -nan         -nan         -nan         -nan         -nan         -nan         -nan         -nan         -nan         -nan         -nan         -nan         -nan         -nan         -nan         -nan         -nan         -nan         -nan         -nan         -nan\r\n",
      "        -nan         -nan         -nan         -nan         -nan         -nan         -nan         -nan         -nan         -nan         -nan         -nan         -nan         -nan         -nan         -nan         -nan         -nan         -nan         -nan         -nan         -nan         -nan         -nan         -nan         -nan         -nan         -nan         -nan         -nan         -nan         -nan         -nan         -nan         -nan\r\n",
      "        -nan         -nan         -nan         -nan         -nan         -nan         -nan         -nan         -nan         -nan         -nan         -nan         -nan         -nan         -nan         -nan         -nan         -nan         -nan         -nan         -nan         -nan         -nan         -nan         -nan         -nan         -nan         -nan         -nan         -nan         -nan         -nan         -nan         -nan         -nan\r\n",
      "        -nan         -nan         -nan         -nan         -nan         -nan         -nan         -nan         -nan         -nan         -nan         -nan         -nan         -nan         -nan         -nan         -nan         -nan         -nan         -nan         -nan         -nan         -nan          nan          nan          nan          nan          nan          nan          nan          nan          nan          nan          nan          nan\r\n",
      "an error occurred:\r\n",
      "Small generalized eigenvalue problem failed.\r\n"
     ]
    }
   ],
   "source": [
    "!xtp_tools -c job_name=CO geometry_optimization.maxiter=1 dftpackage.basisset=3-21G dftpackage.auxbasisset=aux-def2-svp gwbse.gw.mode=G0W0 -e dftgwbse -t 4"
   ]
  },
  {
   "cell_type": "markdown",
   "metadata": {},
   "source": [
    "Notice that we are using 4 threads. The results will be stored in a file named `CO_summary.xml` in the current work directory, together with the optimization step in `optimisation.trj` and the orbitals in [hdf5 format](https://www.hdfgroup.org/solutions/hdf5/) saved on `CO.orb`."
   ]
  }
 ],
 "metadata": {
  "kernelspec": {
   "display_name": "Python 3",
   "language": "python",
   "name": "python3"
  },
  "language_info": {
   "codemirror_mode": {
    "name": "ipython",
    "version": 3
   },
   "file_extension": ".py",
   "mimetype": "text/x-python",
   "name": "python",
   "nbconvert_exporter": "python",
   "pygments_lexer": "ipython3",
   "version": "3.11.1"
  }
 },
 "nbformat": 4,
 "nbformat_minor": 4
}
