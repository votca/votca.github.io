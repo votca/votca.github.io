{
 "cells": [
  {
   "cell_type": "markdown",
   "metadata": {},
   "source": [
    "# DFT + GWBSE Energy Calculation Using CH4"
   ]
  },
  {
   "cell_type": "markdown",
   "metadata": {},
   "source": [
    "## Introduction"
   ]
  },
  {
   "cell_type": "markdown",
   "metadata": {},
   "source": [
    "This tutorial explains how to perform calculation to predict electronic excitation using the **GWBSE** method. See [the GW Compendium: A Practical Guide to Theoretical Photoemission Spectroscopy](https://doi.org/10.3389/fchem.2019.00377), for an excellent introduction to the method."
   ]
  },
  {
   "cell_type": "markdown",
   "metadata": {},
   "source": [
    "## Requirements\n",
    "* You will need to install **VOTCA** using the instructions described [here](https://github.com/votca/votca/blob/master/share/doc/INSTALL.rst)\n",
    "* Once the installation is completed you need to activate the VOTCA enviroment by running the `VOTCARC.bash` script that has been installed at the bin subfolder for the path that you have provided for the installation step above"
   ]
  },
  {
   "cell_type": "markdown",
   "metadata": {},
   "source": [
    "## Interacting with the XTP command line interface\n",
    "To run a DFT-GWBSE calculation we will use the [xtp_tools](https://www.votca.org/xtp/xtp_tools_overview.html) calculator. Run the following command to view the help message of `xtp_tools`:"
   ]
  },
  {
   "cell_type": "code",
   "execution_count": 1,
   "metadata": {
    "execution": {
     "iopub.execute_input": "2023-04-14T05:21:48.341641Z",
     "iopub.status.busy": "2023-04-14T05:21:48.341348Z",
     "iopub.status.idle": "2023-04-14T05:21:48.505683Z",
     "shell.execute_reply": "2023-04-14T05:21:48.504720Z"
    }
   },
   "outputs": [
    {
     "name": "stdout",
     "output_type": "stream",
     "text": [
      "==================================================\r\n",
      "========   VOTCA (http://www.votca.org)   ========\r\n",
      "==================================================\r\n",
      "\r\n",
      "please submit bugs to https://github.com/votca/votca/issues\r\n",
      "\r\n",
      "xtp_tools, version 2024-dev gitid: f763d12 (compiled Apr 14 2023, 05:18:12)\r\n",
      "\r\n",
      "Runs excitation/charge transport tools\r\n",
      "\r\n",
      "\r\n",
      "\r\n",
      "Allowed options:\r\n",
      "  -h [ --help ]                 display this help and exit\r\n",
      "  --verbose                     be loud and noisy\r\n",
      "  --verbose1                    be very loud and noisy\r\n",
      "  -v [ --verbose2 ]             be extremly loud and noisy\r\n",
      "  -o [ --options ] arg          Tool user options.\r\n",
      "  -t [ --nthreads ] arg (=1)    number of threads to create\r\n",
      "  -e [ --execute ] arg        Name of Tool to run\r\n",
      "  -l [ --list ]               Lists all available Tools\r\n",
      "  -d [ --description ] arg    Short description of a Tools\r\n",
      "  -c [ --cmdoptions ] arg     Modify options via command line by e.g. '-c \r\n",
      "                              xmltag.subtag=value'. Use whitespace to separate \r\n",
      "                              multiple options\r\n",
      "  -p [ --printoptions ] arg   Prints xml options of a Tool\r\n",
      "\r\n"
     ]
    }
   ],
   "source": [
    "!xtp_tools --help"
   ]
  },
  {
   "cell_type": "markdown",
   "metadata": {},
   "source": [
    "### Note\n",
    "> * In Jupyter the `!` symbol means: *run the following command as a standard unix command*\n",
    "> * In Jupyter the command `%env` set an environmental variable"
   ]
  },
  {
   "cell_type": "markdown",
   "metadata": {},
   "source": [
    "## Running a calculation with the default options\n",
    "To run a DFT-GWBSE calculation we just need to provide the path to the file in XYZ with the molecular coordinates. Check the [dftgwbse defaults](https://www.votca.org/xtp/dftgwbse.html) for further information."
   ]
  },
  {
   "cell_type": "code",
   "execution_count": 2,
   "metadata": {
    "execution": {
     "iopub.execute_input": "2023-04-14T05:21:48.515155Z",
     "iopub.status.busy": "2023-04-14T05:21:48.514162Z",
     "iopub.status.idle": "2023-04-14T05:21:59.345461Z",
     "shell.execute_reply": "2023-04-14T05:21:59.344131Z"
    }
   },
   "outputs": [],
   "source": [
    "!xtp_tools -c job_name=methane -t 2 -e dftgwbse > dftgwbse.log"
   ]
  },
  {
   "cell_type": "markdown",
   "metadata": {},
   "source": [
    "The previous command will run the DFT-GWBSE calculation using the aforementioned defaults and the results are store in the *Current Work Directory* in a file named `methane_summary.xml`. The `-c` option is important and we will come back to it later. It allows changing options form the command line."
   ]
  },
  {
   "cell_type": "markdown",
   "metadata": {},
   "source": [
    "## Running a calculation using your own input file\n",
    "Let create a folder to store the input `options` for XTP and use the `-p` option to print an option file, specified by `-o`, with all the options so we can modify it afterwards"
   ]
  },
  {
   "cell_type": "code",
   "execution_count": 3,
   "metadata": {
    "execution": {
     "iopub.execute_input": "2023-04-14T05:21:59.351596Z",
     "iopub.status.busy": "2023-04-14T05:21:59.351328Z",
     "iopub.status.idle": "2023-04-14T05:21:59.620911Z",
     "shell.execute_reply": "2023-04-14T05:21:59.619699Z"
    }
   },
   "outputs": [
    {
     "name": "stdout",
     "output_type": "stream",
     "text": [
      "Writing options for calculator dftgwbse to OPTIONFILES/dftgwbse.xml\r\n",
      "Done - stopping here\r\n"
     ]
    }
   ],
   "source": [
    "!mkdir -p OPTIONFILES\n",
    "!xtp_tools -p dftgwbse -o OPTIONFILES/dftgwbse.xml"
   ]
  },
  {
   "cell_type": "markdown",
   "metadata": {},
   "source": [
    "You should have a *XML* file with the DFTWGSE options that looks like"
   ]
  },
  {
   "cell_type": "code",
   "execution_count": 4,
   "metadata": {
    "execution": {
     "iopub.execute_input": "2023-04-14T05:21:59.626842Z",
     "iopub.status.busy": "2023-04-14T05:21:59.626560Z",
     "iopub.status.idle": "2023-04-14T05:21:59.744689Z",
     "shell.execute_reply": "2023-04-14T05:21:59.743604Z"
    }
   },
   "outputs": [
    {
     "name": "stdout",
     "output_type": "stream",
     "text": [
      "<options>\r\n",
      "<dftgwbse help=\"Compute electronic excitations using GW-BSE\">\r\n",
      "\t<job_name default=\"system\" help=\"Input file name without extension, also used for intermediate files\">system</job_name>\r\n",
      "\t<dftpackage help=\"options for dftpackages\">\r\n",
      "\t\t<name choices=\"xtp,orca\" default=\"xtp\" help=\"Name of the DFT package\">xtp</name>\r\n",
      "\t\t<charge choices=\"int\" default=\"0\" help=\"Molecular charge\">0</charge>\r\n",
      "\t\t<spin choices=\"int+\" default=\"1\" help=\"Molecular multiplicity\">1</spin>\r\n",
      "\t\t<basisset default=\"def2-tzvp\" help=\"Basis set for MOs\">def2-tzvp</basisset>\r\n",
      "\t\t<auxbasisset default=\"OPTIONAL\" help=\"Auxiliary basis set for RI\"/>\r\n",
      "\t\t<externalfield default=\"OPTIONAL\" help=\"Field given in x y z components\" unit=\"Hartree/bohr\"/>\r\n"
     ]
    }
   ],
   "source": [
    "!head -n 10 OPTIONFILES/dftgwbse.xml"
   ]
  },
  {
   "cell_type": "markdown",
   "metadata": {},
   "source": [
    "Some options are labelled as `OPTIONAL`, either fill them in or delete them if you do not want that functionality"
   ]
  },
  {
   "cell_type": "markdown",
   "metadata": {},
   "source": [
    "We created a small options file"
   ]
  },
  {
   "cell_type": "code",
   "execution_count": 5,
   "metadata": {
    "execution": {
     "iopub.execute_input": "2023-04-14T05:21:59.750006Z",
     "iopub.status.busy": "2023-04-14T05:21:59.749745Z",
     "iopub.status.idle": "2023-04-14T05:21:59.866427Z",
     "shell.execute_reply": "2023-04-14T05:21:59.865467Z"
    }
   },
   "outputs": [
    {
     "name": "stdout",
     "output_type": "stream",
     "text": [
      "<options>\r\n",
      "    <dftgwbse>\r\n",
      "        <job_name>methane</job_name>\r\n",
      "        <dftpackage>\r\n",
      "            <basisset>ubecppol</basisset>\r\n",
      "            <auxbasisset>aux-ubecppol</auxbasisset>\r\n",
      "        </dftpackage>\r\n",
      "    </dftgwbse>\r\n",
      "</options>\r\n"
     ]
    }
   ],
   "source": [
    "!cat dftgwbse2.xml"
   ]
  },
  {
   "cell_type": "code",
   "execution_count": 6,
   "metadata": {
    "execution": {
     "iopub.execute_input": "2023-04-14T05:21:59.871777Z",
     "iopub.status.busy": "2023-04-14T05:21:59.871438Z",
     "iopub.status.idle": "2023-04-14T05:22:09.674123Z",
     "shell.execute_reply": "2023-04-14T05:22:09.672846Z"
    }
   },
   "outputs": [],
   "source": [
    "!xtp_tools -o dftgwbse2.xml -t 2 -e dftgwbse > dftgwbse2.log"
   ]
  },
  {
   "cell_type": "markdown",
   "metadata": {},
   "source": [
    "XTP will automatically compare the default values with the user-provided and overwrites the defaults with the user input. Also, If I given property does not have a default value you can provide one using the XML file described above."
   ]
  },
  {
   "cell_type": "markdown",
   "metadata": {},
   "source": [
    "## Partial Charges\n",
    "We can compute now the partial charges using the `CHELPG` method by default. For more information see the [partialcharges documentation](https://www.votca.org/xtp/partialcharges.html). Once again, we only need to provide the name of the system to compute, which in our case is `methane`."
   ]
  },
  {
   "cell_type": "code",
   "execution_count": 7,
   "metadata": {
    "execution": {
     "iopub.execute_input": "2023-04-14T05:22:09.680520Z",
     "iopub.status.busy": "2023-04-14T05:22:09.679486Z",
     "iopub.status.idle": "2023-04-14T05:22:13.285887Z",
     "shell.execute_reply": "2023-04-14T05:22:13.284721Z"
    }
   },
   "outputs": [
    {
     "name": "stdout",
     "output_type": "stream",
     "text": [
      "==================================================\r\n",
      "========   VOTCA (http://www.votca.org)   ========\r\n",
      "==================================================\r\n",
      "\r\n",
      "please submit bugs to https://github.com/votca/votca/issues\r\n",
      "\r\n",
      "xtp_tools, version 2024-dev gitid: f763d12 (compiled Apr 14 2023, 05:18:12)\r\n",
      "\r\n",
      "Initializing tool\r\n",
      "... partialcharges Evaluating tool\r\n",
      "... partialcharges  Using 1 threads\r\n",
      "... ...  Loading QM data from methane.orb\r\n",
      "... ... ===== Running on 1 threads ===== \r\n",
      "... ... 2023-4-14 5:22:10 Calculated Densities at Numerical Grid, Number of electrons is -2.37461e-08\r\n",
      "... ... 2023-4-14 5:22:10 Calculating ESP at CHELPG grid points\r\n",
      "... ... 2023-4-14 5:22:13 Netcharge constrained to 0\r\n",
      "... ...  Sum of fitted charges: 2.4189e-14\r\n",
      "... ...  RMSE of fit:  0.00221585\r\n",
      "... ...  RRMSE of fit: 0.107179\r\n",
      "... ... El Dipole from fitted charges [e*bohr]:\r\n",
      "\t\t dx = +0.7278 dy = -0.4713 dz = +0.4706 |d|^2 = +0.9733\r\n",
      "... ... El Dipole from exact qm density [e*bohr]:\r\n",
      "\t\t dx = +0.7620 dy = -0.4941 dz = +0.4932 |d|^2 = +1.0681\r\n",
      "... ... Written charges to methane.mps"
     ]
    }
   ],
   "source": [
    "!xtp_tools -c job_name=methane -e partialcharges"
   ]
  },
  {
   "cell_type": "markdown",
   "metadata": {},
   "source": [
    "## Spectrum Calculation\n",
    "Finally, lets compute a convolution of the singlet spectrum using a gaussian function. For doing so, we will modify the default values for the [spectrum calculator](https://www.votca.org/xtp/spectrum.html) to compute the spectrum between 9 and 25 eV, using 1000 points in that energy range. We will use the `-c` option to modify the options accordingly. Instead we could have printed out an options file using the `xtp_tools -p spectrum` command and then modify the entries accordingly and then read them in using the `-o` option."
   ]
  },
  {
   "cell_type": "code",
   "execution_count": 8,
   "metadata": {
    "execution": {
     "iopub.execute_input": "2023-04-14T05:22:13.291705Z",
     "iopub.status.busy": "2023-04-14T05:22:13.291429Z",
     "iopub.status.idle": "2023-04-14T05:22:13.464120Z",
     "shell.execute_reply": "2023-04-14T05:22:13.462824Z"
    }
   },
   "outputs": [
    {
     "name": "stdout",
     "output_type": "stream",
     "text": [
      "==================================================\r\n",
      "========   VOTCA (http://www.votca.org)   ========\r\n",
      "==================================================\r\n",
      "\r\n",
      "please submit bugs to https://github.com/votca/votca/issues\r\n",
      "\r\n",
      "xtp_tools, version 2024-dev gitid: f763d12 (compiled Apr 14 2023, 05:18:12)\r\n",
      "\r\n",
      "Initializing tool\r\n",
      "... spectrum Evaluating tool\r\n",
      "... spectrum  Using 1 threads\r\n",
      "... ... Calculating absorption spectrum plot methane.orb\r\n",
      "... ...  Loading QM data from methane.orb\r\n",
      "... ...  Considering 10 excitation with max energy 14.6581 eV / min wave length 84.7405 nm\r\n",
      "... ...  Spectrum in energy range from  9 to 25 eV and with broadening of FWHM 0.2 eV written to file  methane_spectrum.dat"
     ]
    }
   ],
   "source": [
    "!xtp_tools -c job_name=methane lower=9 upper=25 points=1000 -e spectrum"
   ]
  },
  {
   "cell_type": "markdown",
   "metadata": {},
   "source": [
    "The results are stored in the `methane_spectrum.dat` file."
   ]
  },
  {
   "cell_type": "markdown",
   "metadata": {},
   "source": [
    "## (Optional) Plot the spectrum"
   ]
  },
  {
   "cell_type": "markdown",
   "metadata": {},
   "source": [
    "We will use [matplotlib](https://matplotlib.org/), [seaborn](https://seaborn.pydata.org/) and [pandas](https://pandas.pydata.org/) libraries to plot the spectrum. You can install it using [pip](https://pip.pypa.io/en/stable/) like"
   ]
  },
  {
   "cell_type": "code",
   "execution_count": 9,
   "metadata": {
    "execution": {
     "iopub.execute_input": "2023-04-14T05:22:13.470051Z",
     "iopub.status.busy": "2023-04-14T05:22:13.469706Z",
     "iopub.status.idle": "2023-04-14T05:22:16.347793Z",
     "shell.execute_reply": "2023-04-14T05:22:16.346785Z"
    }
   },
   "outputs": [
    {
     "name": "stdout",
     "output_type": "stream",
     "text": [
      "Requirement already satisfied: seaborn in /usr/lib/python3.11/site-packages (0.11.2)\r\n",
      "Requirement already satisfied: numpy>=1.15 in /usr/lib64/python3.11/site-packages (from seaborn) (1.22.0)\r\n",
      "Requirement already satisfied: scipy>=1.0 in /usr/lib64/python3.11/site-packages (from seaborn) (1.8.1)\r\n",
      "Requirement already satisfied: pandas>=0.23 in /usr/lib64/python3.11/site-packages (from seaborn) (1.5.3)\r\n",
      "Requirement already satisfied: matplotlib>=2.2 in /usr/lib64/python3.11/site-packages (from seaborn) (3.6.3)\r\n",
      "Requirement already satisfied: contourpy>=1.0.1 in /usr/lib64/python3.11/site-packages (from matplotlib>=2.2->seaborn) (1.0.7)\r\n",
      "Requirement already satisfied: cycler>=0.10 in /usr/lib/python3.11/site-packages (from matplotlib>=2.2->seaborn) (0.11.0)\r\n",
      "Requirement already satisfied: fonttools>=4.22.0 in /usr/lib64/python3.11/site-packages (from matplotlib>=2.2->seaborn) (4.37.2)\r\n",
      "Requirement already satisfied: kiwisolver>=1.0.1 in /usr/lib64/python3.11/site-packages (from matplotlib>=2.2->seaborn) (1.4.4)\r\n",
      "Requirement already satisfied: packaging>=20.0 in /usr/lib/python3.11/site-packages (from matplotlib>=2.2->seaborn) (21.3)\r\n",
      "Requirement already satisfied: pillow>=6.2.0 in /usr/lib64/python3.11/site-packages (from matplotlib>=2.2->seaborn) (9.2.0)\r\n",
      "Requirement already satisfied: pyparsing>=2.2.1 in /usr/lib/python3.11/site-packages (from matplotlib>=2.2->seaborn) (3.0.9)\r\n",
      "Requirement already satisfied: python-dateutil>=2.7 in /usr/lib/python3.11/site-packages (from matplotlib>=2.2->seaborn) (2.8.2)\r\n",
      "Requirement already satisfied: pytz>=2020.1 in /usr/lib/python3.11/site-packages (from pandas>=0.23->seaborn) (2023.3)\r\n",
      "Requirement already satisfied: six>=1.5 in /usr/lib/python3.11/site-packages (from python-dateutil>=2.7->matplotlib>=2.2->seaborn) (1.16.0)\r\n"
     ]
    }
   ],
   "source": [
    "!pip install seaborn --user"
   ]
  },
  {
   "cell_type": "code",
   "execution_count": 10,
   "metadata": {
    "execution": {
     "iopub.execute_input": "2023-04-14T05:22:16.352722Z",
     "iopub.status.busy": "2023-04-14T05:22:16.351990Z",
     "iopub.status.idle": "2023-04-14T05:22:19.122303Z",
     "shell.execute_reply": "2023-04-14T05:22:19.121584Z"
    }
   },
   "outputs": [
    {
     "data": {
      "text/plain": [
       "[]"
      ]
     },
     "execution_count": 10,
     "metadata": {},
     "output_type": "execute_result"
    },
    {
     "data": {
      "image/png": "[encoded data removed]",
      "text/plain": [
       "<Figure size 360x360 with 1 Axes>"
      ]
     },
     "metadata": {
      "needs_background": "light"
     },
     "output_type": "display_data"
    }
   ],
   "source": [
    "import pandas as pd \n",
    "import matplotlib.pyplot as plt\n",
    "import seaborn as sns\n",
    "columns = [\"E(eV)\", \"epsGaussian\",\"IM(eps)Gaussian\",  \"epsLorentz\",  \"Im(esp)Lorentz\"] \n",
    "df = pd.read_table(\"methane_spectrum.dat\", comment=\"#\", sep='\\s+',names=columns) \n",
    "sns.relplot(x=\"E(eV)\", y=\"epsGaussian\", ci=None, kind=\"line\", data=df) \n",
    "plt.plot()"
   ]
  },
  {
   "cell_type": "code",
   "execution_count": null,
   "metadata": {},
   "outputs": [],
   "source": []
  }
 ],
 "metadata": {
  "kernelspec": {
   "display_name": "Python 3",
   "language": "python",
   "name": "python3"
  },
  "language_info": {
   "codemirror_mode": {
    "name": "ipython",
    "version": 3
   },
   "file_extension": ".py",
   "mimetype": "text/x-python",
   "name": "python",
   "nbconvert_exporter": "python",
   "pygments_lexer": "ipython3",
   "version": "3.11.2"
  }
 },
 "nbformat": 4,
 "nbformat_minor": 4
}
