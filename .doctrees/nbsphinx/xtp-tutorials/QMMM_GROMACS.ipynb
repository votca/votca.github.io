{
 "cells": [
  {
   "cell_type": "markdown",
   "metadata": {},
   "source": [
    "# QMMM workflow using GROMACS and VOTCA-XTP"
   ]
  },
  {
   "cell_type": "markdown",
   "metadata": {},
   "source": [
    "## What is this tutorial about\n",
    "In this tutorial, we will learn how to set and perform excited state calculation using the Votca XTP library. We will use methane as our QM region."
   ]
  },
  {
   "cell_type": "markdown",
   "metadata": {},
   "source": [
    "## Requirements\n",
    "* You will need to install **VOTCA** using the instructions described [here](https://github.com/votca/votca/blob/master/share/doc/INSTALL.rst)\n",
    "* Once the installation is completed you need to activate the VOTCA enviroment by running the `VOTCARC.bash` script that has been installed at the bin subfolder for the path that you have provided for the installation step above"
   ]
  },
  {
   "cell_type": "markdown",
   "metadata": {},
   "source": [
    "## Interacting with the XTP command line interface\n",
    "The XTP package offers the following command line interface that the user can interact with:\n",
    "* [xtp_map](https://www.votca.org/xtp/xtp_map.html)\n",
    "* [xtp_parallel](https://www.votca.org/xtp/xtp_parallel.html)\n",
    "* [xtp_run](https://www.votca.org/xtp/xtp_run.html)\n",
    "* [xtp_tools](https://www.votca.org/xtp/xtp_tools.html)\n",
    "\n",
    "Run the following command to view the help message of `xtp_tools`:"
   ]
  },
  {
   "cell_type": "code",
   "execution_count": 1,
   "metadata": {
    "execution": {
     "iopub.execute_input": "2021-05-02T02:03:49.925533Z",
     "iopub.status.busy": "2021-05-02T02:03:49.924943Z",
     "iopub.status.idle": "2021-05-02T02:03:50.708211Z",
     "shell.execute_reply": "2021-05-02T02:03:50.708639Z"
    }
   },
   "outputs": [
    {
     "name": "stdout",
     "output_type": "stream",
     "text": [
      "==================================================\r\n",
      "========   VOTCA (http://www.votca.org)   ========\r\n",
      "==================================================\r\n",
      "\r\n",
      "please submit bugs to https://github.com/votca/xtp/issues\r\n",
      "\r\n",
      "xtp_tools, version 2022-dev gitid: 9c20903 (compiled May  2 2021, 01:53:53)\r\n",
      "votca_csg, version 2022-dev gitid: 9c20903 (compiled May  2 2021, 01:39:46)\r\n",
      "votca_tools, version 2022-dev gitid: 9c20903 (compiled May  2 2021, 01:37:04)\r\n",
      "\r\n",
      "Runs excitation/charge transport tools\r\n",
      "\r\n",
      "\r\n",
      "\r\n",
      "Allowed options:\r\n",
      "  -h [ --help ]                 display this help and exit\r\n",
      "  --verbose                     be loud and noisy\r\n",
      "  --verbose1                    be very loud and noisy\r\n",
      "  -v [ --verbose2 ]             be extremly loud and noisy\r\n",
      "  -o [ --options ] arg          calculator options\r\n",
      "  -t [ --nthreads ] arg (=1)    number of threads to create\r\n",
      "\r\n",
      "Tools:\r\n",
      "  -e [ --execute ] arg        name of the tool to run\r\n",
      "  -l [ --list ]               Lists all available tools\r\n",
      "  -d [ --description ] arg    Short description of a tool\r\n",
      "  -n [ --name ] arg           Name of the job to run\r\n",
      "\r\n"
     ]
    }
   ],
   "source": [
    "!xtp_tools -h"
   ]
  },
  {
   "cell_type": "markdown",
   "metadata": {},
   "source": [
    "### Note\n",
    "> * In Jupyter the `!` symbol means: *run the following command as a standard unix command*\n",
    "> * In Jupyter the command `%env` set an environmental variable"
   ]
  },
  {
   "cell_type": "markdown",
   "metadata": {},
   "source": [
    "## Setting the environment\n"
   ]
  },
  {
   "cell_type": "markdown",
   "metadata": {},
   "source": [
    "Create a folder to store the input `Options` for XTP"
   ]
  },
  {
   "cell_type": "code",
   "execution_count": 2,
   "metadata": {
    "execution": {
     "iopub.execute_input": "2021-05-02T02:03:50.715706Z",
     "iopub.status.busy": "2021-05-02T02:03:50.712744Z",
     "iopub.status.idle": "2021-05-02T02:03:51.400296Z",
     "shell.execute_reply": "2021-05-02T02:03:51.399465Z"
    }
   },
   "outputs": [],
   "source": [
    "!mkdir -p OPTIONFILES"
   ]
  },
  {
   "cell_type": "markdown",
   "metadata": {},
   "source": [
    "Remove previous hdf5 file"
   ]
  },
  {
   "cell_type": "code",
   "execution_count": 3,
   "metadata": {
    "execution": {
     "iopub.execute_input": "2021-05-02T02:03:51.407361Z",
     "iopub.status.busy": "2021-05-02T02:03:51.405080Z",
     "iopub.status.idle": "2021-05-02T02:03:52.118841Z",
     "shell.execute_reply": "2021-05-02T02:03:52.119269Z"
    }
   },
   "outputs": [],
   "source": [
    "!rm -f state.hdf5"
   ]
  },
  {
   "cell_type": "markdown",
   "metadata": {},
   "source": [
    "Import an small python module to edit xml files"
   ]
  },
  {
   "cell_type": "code",
   "execution_count": 4,
   "metadata": {
    "execution": {
     "iopub.execute_input": "2021-05-02T02:03:52.125488Z",
     "iopub.status.busy": "2021-05-02T02:03:52.124604Z",
     "iopub.status.idle": "2021-05-02T02:03:52.133349Z",
     "shell.execute_reply": "2021-05-02T02:03:52.132609Z"
    }
   },
   "outputs": [],
   "source": [
    "from xml_editor import add_section, edit_calculator\n",
    "import os"
   ]
  },
  {
   "cell_type": "markdown",
   "metadata": {},
   "source": [
    "## Generate the topology from the Gromacs file"
   ]
  },
  {
   "cell_type": "markdown",
   "metadata": {},
   "source": [
    "runs the mapping from MD coordinates to segments and creates an [hdf5 file](https://www.hdfgroup.org/solutions/hdf5/). You can explore the generated `state.hdf5` file with e.g. hdf5itebrowser. In Python, you can use the [h5py library](https://www.h5py.org/)."
   ]
  },
  {
   "cell_type": "code",
   "execution_count": 5,
   "metadata": {
    "execution": {
     "iopub.execute_input": "2021-05-02T02:03:52.139295Z",
     "iopub.status.busy": "2021-05-02T02:03:52.136937Z",
     "iopub.status.idle": "2021-05-02T02:03:54.486754Z",
     "shell.execute_reply": "2021-05-02T02:03:54.487292Z"
    }
   },
   "outputs": [
    {
     "name": "stdout",
     "output_type": "stream",
     "text": [
      "==================================================\r\n",
      "========   VOTCA (http://www.votca.org)   ========\r\n",
      "==================================================\r\n",
      "\r\n",
      "please submit bugs to https://github.com/votca/xtp/issues\r\n",
      "\r\n",
      "xtp_map, version 2022-dev gitid: 9c20903 (compiled May  2 2021, 01:53:53)\r\n",
      "votca_csg, version 2022-dev gitid: 9c20903 (compiled May  2 2021, 01:39:46)\r\n",
      "votca_tools, version 2022-dev gitid: 9c20903 (compiled May  2 2021, 01:37:04)\r\n",
      "\r\n",
      "Reading file MD_FILES/topol.tpr, VERSION 5.1.1 (single precision)\r\n",
      "Note: file tpx version 103, software tpx version 116\r\n",
      "Creating statefile state.hdf5\r\n",
      "Frame with id 0 was not in statefile state.hdf5 ,adding it now.\r\n",
      "Wrote MD topology (step = 0, time = 0) to state.hdf5\r\n",
      "... . \r\n"
     ]
    }
   ],
   "source": [
    "!xtp_map -t MD_FILES/topol.tpr -c MD_FILES/conf.gro -s system.xml -f state.hdf5"
   ]
  },
  {
   "cell_type": "markdown",
   "metadata": {},
   "source": [
    "##  Check the mapping\n",
    "\n",
    "Let us first output `.pdb` files for the segments, qmmolecules and classical segments in order to check the mapping. We will need to copy the input from the `VOTCA` installation path to our local copy."
   ]
  },
  {
   "cell_type": "code",
   "execution_count": 6,
   "metadata": {
    "execution": {
     "iopub.execute_input": "2021-05-02T02:03:54.494593Z",
     "iopub.status.busy": "2021-05-02T02:03:54.494061Z",
     "iopub.status.idle": "2021-05-02T02:03:55.179526Z",
     "shell.execute_reply": "2021-05-02T02:03:55.178201Z"
    }
   },
   "outputs": [],
   "source": [
    "!cp \"$VOTCASHARE/xtp/xml/mapchecker.xml\" OPTIONFILES/"
   ]
  },
  {
   "cell_type": "markdown",
   "metadata": {},
   "source": [
    "The `${VOTCASHARE}` environmental variable is set to the path that you provided during the `VOTCA` [installation](https://github.com/votca/votca/blob/master/share/doc/INSTALL.rst), by the default is set to `/usr/local/votca`.\n",
    "\n",
    "We need to update the `mapchecker` options with the file containing the definition of the system. For doing, so we will use the python module `xml_editor` that we have imported above. The first argument is the name of the calculator (i.e. `mapchecker`), the seconds argument is the name of the option to change and the third one, the value to use."
   ]
  },
  {
   "cell_type": "code",
   "execution_count": 7,
   "metadata": {
    "execution": {
     "iopub.execute_input": "2021-05-02T02:03:55.184274Z",
     "iopub.status.busy": "2021-05-02T02:03:55.183415Z",
     "iopub.status.idle": "2021-05-02T02:03:55.187793Z",
     "shell.execute_reply": "2021-05-02T02:03:55.187351Z"
    }
   },
   "outputs": [
    {
     "name": "stdout",
     "output_type": "stream",
     "text": [
      "The option 'map_file' on file 'OPTIONFILES/mapchecker.xml' has been set to 'system.xml'\n"
     ]
    }
   ],
   "source": [
    "edit_calculator(\"mapchecker\", \"map_file\", \"system.xml\")"
   ]
  },
  {
   "cell_type": "markdown",
   "metadata": {},
   "source": [
    "In the [mapchecker section of the manual](https://votca.github.io/mapchecker.html) you can find a table with the `mapchecker` input variables and their corresponding defaults. Finally, the following command run the check"
   ]
  },
  {
   "cell_type": "code",
   "execution_count": 8,
   "metadata": {
    "execution": {
     "iopub.execute_input": "2021-05-02T02:03:55.193609Z",
     "iopub.status.busy": "2021-05-02T02:03:55.191238Z",
     "iopub.status.idle": "2021-05-02T02:03:57.549680Z",
     "shell.execute_reply": "2021-05-02T02:03:57.550215Z"
    }
   },
   "outputs": [
    {
     "name": "stdout",
     "output_type": "stream",
     "text": [
      "==================================================\r\n",
      "========   VOTCA (http://www.votca.org)   ========\r\n",
      "==================================================\r\n",
      "\r\n",
      "please submit bugs to https://github.com/votca/xtp/issues\r\n",
      "\r\n",
      "xtp_run, version 2022-dev gitid: 9c20903 (compiled May  2 2021, 01:53:53)\r\n",
      "votca_csg, version 2022-dev gitid: 9c20903 (compiled May  2 2021, 01:39:46)\r\n",
      "votca_tools, version 2022-dev gitid: 9c20903 (compiled May  2 2021, 01:37:04)\r\n",
      "\r\n",
      "Initializing calculator\r\n",
      "... mapchecker \r\n",
      "1 frames in statefile, Ids are: 0 \r\n",
      "Starting at frame 0\r\n",
      "Evaluating frame 0\r\n",
      "Import MD Topology (i.e. frame 0) from state.hdf5\r\n",
      ".... \r\n",
      "... mapchecker  Using 1 threads\r\n",
      "Writing segments to md_segments_step_0.pdb\r\n",
      "Writing qmmolecules to qm_segments_n_step_0.pdb\r\n",
      "Writing polarsegments to mp_segments_e_step_0.pdb\r\n",
      "Writing polarsegments to mp_segments_h_step_0.pdb\r\n",
      "\r\n",
      "Changes have not been written to state file.\r\n"
     ]
    }
   ],
   "source": [
    "!xtp_run -e mapchecker -o OPTIONFILES/mapchecker.xml -f state.hdf5"
   ]
  },
  {
   "cell_type": "markdown",
   "metadata": {},
   "source": [
    "## Neighborlist Calculation"
   ]
  },
  {
   "cell_type": "markdown",
   "metadata": {},
   "source": [
    "The following step is to determine the neighbouring pairs for exciton transport. We will need first to get a copy of the input "
   ]
  },
  {
   "cell_type": "code",
   "execution_count": 9,
   "metadata": {
    "execution": {
     "iopub.execute_input": "2021-05-02T02:03:57.557951Z",
     "iopub.status.busy": "2021-05-02T02:03:57.555246Z",
     "iopub.status.idle": "2021-05-02T02:03:58.245248Z",
     "shell.execute_reply": "2021-05-02T02:03:58.244125Z"
    }
   },
   "outputs": [],
   "source": [
    "cp \"$VOTCASHARE/xtp/xml/neighborlist.xml\" OPTIONFILES/"
   ]
  },
  {
   "cell_type": "markdown",
   "metadata": {},
   "source": [
    "Then we will use `segmentname` method to select the cutoff and set the *exciton_cutoff* for the pairs to 0.5 nanometers. See the [neighborlist options](https://www.votca.org/xtp/neighborlist.html) for further information. "
   ]
  },
  {
   "cell_type": "code",
   "execution_count": 10,
   "metadata": {
    "execution": {
     "iopub.execute_input": "2021-05-02T02:03:58.250904Z",
     "iopub.status.busy": "2021-05-02T02:03:58.250313Z",
     "iopub.status.idle": "2021-05-02T02:03:58.254270Z",
     "shell.execute_reply": "2021-05-02T02:03:58.253833Z"
    }
   },
   "outputs": [],
   "source": [
    "exciton_cutoff = \"\"\"\n",
    "<exciton_cutoff>0.5</exciton_cutoff>\n",
    "\"\"\"\n",
    "segments = \"\"\"\n",
    "<segments>\n",
    "  <type>Methane Methane</type>\n",
    "  <cutoff>1</cutoff>\n",
    "</segments>\n",
    "\"\"\"\n",
    "constant = \"\"\"<constant help=\"cutoff for all other types of pairs\">0.6</constant>\"\"\"\n",
    "cutoff_type = \"\"\"<cutoff_type>segmentname</cutoff_type>\"\"\"\n",
    "\n",
    "add_section(\"neighborlist\", cutoff_type)\n",
    "add_section(\"neighborlist\", exciton_cutoff)\n",
    "add_section(\"neighborlist\", segments)\n",
    "add_section(\"neighborlist\", constant)"
   ]
  },
  {
   "cell_type": "markdown",
   "metadata": {},
   "source": [
    "Finally, we can run the calculation using 4 threads"
   ]
  },
  {
   "cell_type": "code",
   "execution_count": 11,
   "metadata": {
    "execution": {
     "iopub.execute_input": "2021-05-02T02:03:58.258511Z",
     "iopub.status.busy": "2021-05-02T02:03:58.258005Z",
     "iopub.status.idle": "2021-05-02T02:04:01.688828Z",
     "shell.execute_reply": "2021-05-02T02:04:01.689244Z"
    }
   },
   "outputs": [
    {
     "name": "stdout",
     "output_type": "stream",
     "text": [
      "==================================================\r\n",
      "========   VOTCA (http://www.votca.org)   ========\r\n",
      "==================================================\r\n",
      "\r\n",
      "please submit bugs to https://github.com/votca/xtp/issues\r\n",
      "\r\n",
      "xtp_run, version 2022-dev gitid: 9c20903 (compiled May  2 2021, 01:53:53)\r\n",
      "votca_csg, version 2022-dev gitid: 9c20903 (compiled May  2 2021, 01:39:46)\r\n",
      "votca_tools, version 2022-dev gitid: 9c20903 (compiled May  2 2021, 01:37:04)\r\n",
      "\r\n",
      "Initializing calculator\r\n",
      "... neighborlist \r\n",
      "1 frames in statefile, Ids are: 0 \r\n",
      "Starting at frame 0\r\n",
      "Evaluating frame 0\r\n",
      "Import MD Topology (i.e. frame 0) from state.hdf5\r\n",
      ".... \r\n",
      "... neighborlist  Using 1 threads\r\n",
      "Evaluating 1000 segments for neighborlist. \r\n",
      "The following segments are used in the neigborlist creation\r\n",
      "\t Methane\r\n",
      " ... ... Evaluating \r\n",
      "0%   10   20   30   40   50   60   70   80   90   100%\r\n",
      "|----|----|----|----|----|----|----|----|----|----|\r\n",
      "***************************************************\r\n",
      "\r\n",
      " ... ... Created 76140 direct pairs.\r\n",
      "Wrote MD topology (step = 0, time = 0) to state.hdf5\r\n",
      "... . \r\n"
     ]
    }
   ],
   "source": [
    "!xtp_run -e neighborlist -o OPTIONFILES/neighborlist.xml -f state.hdf5"
   ]
  },
  {
   "cell_type": "markdown",
   "metadata": {},
   "source": [
    "## Read reorganization energies\n",
    "In this step we will read the in site reorganization energies and store them in the `state.hdf5` file. We just need to copy the input file and execute the calculation"
   ]
  },
  {
   "cell_type": "code",
   "execution_count": 12,
   "metadata": {
    "execution": {
     "iopub.execute_input": "2021-05-02T02:04:01.696992Z",
     "iopub.status.busy": "2021-05-02T02:04:01.696468Z",
     "iopub.status.idle": "2021-05-02T02:04:05.330453Z",
     "shell.execute_reply": "2021-05-02T02:04:05.331017Z"
    }
   },
   "outputs": [
    {
     "name": "stdout",
     "output_type": "stream",
     "text": [
      "==================================================\r\n",
      "========   VOTCA (http://www.votca.org)   ========\r\n",
      "==================================================\r\n",
      "\r\n",
      "please submit bugs to https://github.com/votca/xtp/issues\r\n",
      "\r\n",
      "xtp_run, version 2022-dev gitid: 9c20903 (compiled May  2 2021, 01:53:53)\r\n",
      "votca_csg, version 2022-dev gitid: 9c20903 (compiled May  2 2021, 01:39:46)\r\n",
      "votca_tools, version 2022-dev gitid: 9c20903 (compiled May  2 2021, 01:37:04)\r\n",
      "\r\n",
      "Initializing calculator\r\n",
      "... einternal \r\n",
      "1 frames in statefile, Ids are: 0 \r\n",
      "Starting at frame 0\r\n",
      "Evaluating frame 0\r\n",
      "Import MD Topology (i.e. frame 0) from state.hdf5\r\n",
      ".... \r\n",
      "... einternal  Using 1 threads\r\n",
      "... ... Site, reorg. energies from system.xml.\r\n",
      "\r\n",
      "... ... Read in site, reorg. energies for 1000 segments. \r\n",
      "Wrote MD topology (step = 0, time = 0) to state.hdf5\r\n",
      "... . \r\n"
     ]
    }
   ],
   "source": [
    "!cp \"$VOTCASHARE/xtp/xml/einternal.xml\" OPTIONFILES/\n",
    "!xtp_run -e einternal -o OPTIONFILES/einternal.xml -f state.hdf5"
   ]
  },
  {
   "cell_type": "markdown",
   "metadata": {},
   "source": [
    "## Compute site energy\n",
    "In this step we will perform some *QMMM* calculations to compute the site energies. The `qmmm_mm.xml` file contains some predefined settings to perform the *MM* calculations. Let us first copy these settings into the state file,"
   ]
  },
  {
   "cell_type": "code",
   "execution_count": 13,
   "metadata": {
    "execution": {
     "iopub.execute_input": "2021-05-02T02:04:05.338553Z",
     "iopub.status.busy": "2021-05-02T02:04:05.336440Z",
     "iopub.status.idle": "2021-05-02T02:04:07.935687Z",
     "shell.execute_reply": "2021-05-02T02:04:07.935190Z"
    }
   },
   "outputs": [
    {
     "name": "stdout",
     "output_type": "stream",
     "text": [
      "==================================================\r\n",
      "========   VOTCA (http://www.votca.org)   ========\r\n",
      "==================================================\r\n",
      "\r\n",
      "please submit bugs to https://github.com/votca/xtp/issues\r\n",
      "\r\n",
      "xtp_parallel, version 2022-dev gitid: 9c20903 (compiled May  2 2021, 01:53:53)\r\n",
      "votca_csg, version 2022-dev gitid: 9c20903 (compiled May  2 2021, 01:39:46)\r\n",
      "votca_tools, version 2022-dev gitid: 9c20903 (compiled May  2 2021, 01:37:04)\r\n",
      "\r\n",
      "Initializing calculator \r\n",
      "... qmmm \r\n",
      "... ... Initialized with 1 threads.\r\n",
      "\r\n",
      "... ... Using 1 openmp threads for 1x1=1 total threads.\r\n",
      "1 frames in statefile, Ids are: 0 \r\n",
      "Starting at frame 0\r\n",
      "Evaluating frame 0\r\n",
      "Import MD Topology (i.e. frame 0) from state.hdf5\r\n",
      ".... \r\n",
      "... qmmm \r\n",
      "... ... Writing job file qmmm_mm_jobs.xml\r\n",
      "... ... In total 4001 jobs\r\n",
      "Changes have not been written to state file.\r\n"
     ]
    }
   ],
   "source": [
    "!cp qmmm_mm.xml OPTIONFILES\n",
    "!xtp_parallel -e qmmm -o OPTIONFILES/qmmm_mm.xml -f state.hdf5 -j \"write\""
   ]
  },
  {
   "cell_type": "markdown",
   "metadata": {},
   "source": [
    "The previous command generates a `qmmm_mm_jobs.xml` containing 4000 *MM* jobs to compute, if you examine that file, it should look something like"
   ]
  },
  {
   "cell_type": "markdown",
   "metadata": {},
   "source": [
    "```xml\n",
    "<jobs>\n",
    "  <job>\n",
    "    <id>0</id>\n",
    "    <tag>Methane_0:n</tag>\n",
    "    <input>\n",
    "      <site_energies>0:n</site_energies>\n",
    "      <regions>\n",
    "        <region>\n",
    "          <id>0</id>\n",
    "          <segments>0:n</segments>\n",
    "        </region>\n",
    "      </regions>\n",
    "    </input>\n",
    "    <status>AVAILABLE</status>\n",
    "  </job>    \n",
    "...\n",
    "```"
   ]
  },
  {
   "cell_type": "markdown",
   "metadata": {},
   "source": [
    "Let us run just the first 4 jobs by settings all jobs `status` to `COMPLETE` except for the first four. This can be easily done with [sed](https://www.gnu.org/software/sed/manual/sed.html) as follows,"
   ]
  },
  {
   "cell_type": "code",
   "execution_count": 14,
   "metadata": {
    "execution": {
     "iopub.execute_input": "2021-05-02T02:04:07.947515Z",
     "iopub.status.busy": "2021-05-02T02:04:07.944614Z",
     "iopub.status.idle": "2021-05-02T02:04:11.552525Z",
     "shell.execute_reply": "2021-05-02T02:04:11.552009Z"
    }
   },
   "outputs": [],
   "source": [
    "!sed -i \"s/AVAILABLE/COMPLETE/g\" qmmm_mm_jobs.xml\n",
    "!sed -i '0,/COMPLETE/s/COMPLETE/AVAILABLE/' qmmm_mm_jobs.xml\n",
    "!sed -i '0,/COMPLETE/s/COMPLETE/AVAILABLE/' qmmm_mm_jobs.xml\n",
    "!sed -i '0,/COMPLETE/s/COMPLETE/AVAILABLE/' qmmm_mm_jobs.xml\n",
    "!sed -i '0,/COMPLETE/s/COMPLETE/AVAILABLE/' qmmm_mm_jobs.xml"
   ]
  },
  {
   "cell_type": "markdown",
   "metadata": {},
   "source": [
    "Now we can run the jobs and save the results in the state file"
   ]
  },
  {
   "cell_type": "code",
   "execution_count": 15,
   "metadata": {
    "execution": {
     "iopub.execute_input": "2021-05-02T02:04:11.559667Z",
     "iopub.status.busy": "2021-05-02T02:04:11.557585Z",
     "iopub.status.idle": "2021-05-02T02:04:18.649283Z",
     "shell.execute_reply": "2021-05-02T02:04:18.648475Z"
    }
   },
   "outputs": [
    {
     "name": "stdout",
     "output_type": "stream",
     "text": [
      "==================================================\r\n",
      "========   VOTCA (http://www.votca.org)   ========\r\n",
      "==================================================\r\n",
      "\r\n",
      "please submit bugs to https://github.com/votca/xtp/issues\r\n",
      "\r\n",
      "xtp_parallel, version 2022-dev gitid: 9c20903 (compiled May  2 2021, 01:53:53)\r\n",
      "votca_csg, version 2022-dev gitid: 9c20903 (compiled May  2 2021, 01:39:46)\r\n",
      "votca_tools, version 2022-dev gitid: 9c20903 (compiled May  2 2021, 01:37:04)\r\n",
      "\r\n",
      "Initializing calculator \r\n",
      "... qmmm \r\n",
      "... ... Initialized with 1 threads.\r\n",
      "\r\n",
      "... ... Using 2 openmp threads for 1x2=2 total threads.\r\n",
      "1 frames in statefile, Ids are: 0 \r\n",
      "Starting at frame 0\r\n",
      "Evaluating frame 0\r\n",
      "Import MD Topology (i.e. frame 0) from state.hdf5\r\n",
      ".... \r\n",
      "... qmmm \r\n",
      "MST ERR Job file = 'qmmm_mm_jobs.xml', cache size =  8\r\n",
      "MST ERR Initialize jobs from qmmm_mm_jobs.xml\r\n",
      "MST ERR Registered 4000 jobs.\r\n",
      "T00 ERR ... Requesting next job\r\n",
      "T00 ERR ... Assign jobs from stack\r\n",
      "T00 ERR ... Next job: ID = 0=> [ 0%] \r\n",
      "T00 ERR ...  Regions created\r\n",
      "T00 ERR ... Id: 0 type: polar size: 17 charge[e]= -9.29812e-16\r\n",
      "T00 ERR ... Id: 1 type: static size: 254 charge[e]= -1.4086e-14\r\n",
      "T00 ERR ... 2021-5-2 2:4:13 Writing jobtopology to MMMM/frame_0/job_0_Methane_0:n/regions.pdb\r\n",
      "T00 ERR ... 2021-5-2 2:4:13 Only 1 scf region is used. The remaining regions are static. So no inter regions scf is required. \r\n",
      "T00 ERR ... 2021-5-2 2:4:13 --Inter Region SCF Iteration 1 of 1\r\n",
      "T00 ERR ... 2021-5-2 2:4:13 Evaluating polar 0\r\n",
      "T00 ERR ... 2021-5-2 2:4:13 Evaluating interaction between polar 0 and static 1\r\n",
      "T00 ERR ... 2021-5-2 2:4:13 Starting Solving for classical polarization with 255 degrees of freedom.\r\n",
      "T00 ERR ... 2021-5-2 2:4:13 CG: #iterations: 7, estimated error: 4.15528e-06\r\n",
      "T00 ERR ...   Total static energy [hrt]= 8.121948104e-05\r\n",
      "T00 ERR ...   Total polar energy [hrt]= -0.0001235439304\r\n",
      "T00 ERR ...  Total energy [hrt]= -4.232444937e-05\r\n",
      "T00 ERR ... 2021-5-2 2:4:13 Evaluating static 1\r\n",
      "T00 ERR ... 2021-5-2 2:4:13 Writing checkpoint to checkpoint_iter_1.hdf5\r\n",
      "T00 ERR ... Reporting job results\r\n",
      "\r\n",
      "T00 ERR ... Requesting next job\r\n",
      "T00 ERR ... Next job: ID = 1\r\n",
      "T00 ERR ...  Regions created\r\n",
      "T00 ERR ... Id: 0 type: polar size: 17 charge[e]= -1\r\n",
      "T00 ERR ... Id: 1 type: static size: 254 charge[e]= -1.408595462e-14\r\n",
      "T00 ERR ... 2021-5-2 2:4:14 Writing jobtopology to MMMM/frame_0/job_1_Methane_0:e/regions.pdb\r\n",
      "T00 ERR ... 2021-5-2 2:4:14 Only 1 scf region is used. The remaining regions are static. So no inter regions scf is required. \r\n",
      "T00 ERR ... 2021-5-2 2:4:14 --Inter Region SCF Iteration 1 of 1\r\n",
      "T00 ERR ... 2021-5-2 2:4:14 Evaluating polar 0\r\n",
      "T00 ERR ... 2021-5-2 2:4:14 Evaluating interaction between polar 0 and static 1\r\n",
      "T00 ERR ... 2021-5-2 2:4:14 Starting Solving for classical polarization with 255 degrees of freedom.\r\n",
      "T00 ERR ... 2021-5-2 2:4:14 CG: #iterations: 27, estimated error: 8.583488202e-06\r\n",
      "T00 ERR ...   Total static energy [hrt]= -0.0009055590147\r\n",
      "T00 ERR ...   Total polar energy [hrt]= -0.03058901395\r\n",
      "T00 ERR ...  Total energy [hrt]= -0.03149457296\r\n",
      "T00 ERR ... 2021-5-2 2:4:14 Evaluating static 1\r\n",
      "T00 ERR ... 2021-5-2 2:4:14 Writing checkpoint to checkpoint_iter_1.hdf5\r\n",
      "T00 ERR ... Reporting job results\r\n",
      "\r\n",
      "T00 ERR ... Requesting next job\r\n",
      "T00 ERR ... Next job: ID = 2\r\n",
      "T00 ERR ...  Regions created\r\n",
      "T00 ERR ... Id: 0 type: polar size: 17 charge[e]= 1\r\n",
      "T00 ERR ... Id: 1 type: static size: 254 charge[e]= -1.408595462e-14\r\n",
      "T00 ERR ... 2021-5-2 2:4:14 Writing jobtopology to MMMM/frame_0/job_2_Methane_0:h/regions.pdb\r\n",
      "T00 ERR ... 2021-5-2 2:4:14 Only 1 scf region is used. The remaining regions are static. So no inter regions scf is required. \r\n",
      "T00 ERR ... 2021-5-2 2:4:14 --Inter Region SCF Iteration 1 of 1\r\n",
      "T00 ERR ... 2021-5-2 2:4:14 Evaluating polar 0\r\n",
      "T00 ERR ... 2021-5-2 2:4:14 Evaluating interaction between polar 0 and static 1\r\n",
      "T00 ERR ... 2021-5-2 2:4:14 Starting Solving for classical polarization with 255 degrees of freedom.\r\n",
      "T00 ERR ... 2021-5-2 2:4:14 CG: #iterations: 7, estimated error: 3.581023691e-06\r\n",
      "T00 ERR ...   Total static energy [hrt]= 0.001994038371\r\n",
      "T00 ERR ...   Total polar energy [hrt]= -0.02768723938\r\n",
      "T00 ERR ...  Total energy [hrt]= -0.02569320101\r\n",
      "T00 ERR ... 2021-5-2 2:4:14 Evaluating static 1\r\n",
      "T00 ERR ... 2021-5-2 2:4:14 Writing checkpoint to checkpoint_iter_1.hdf5\r\n",
      "T00 ERR ... Reporting job results\r\n",
      "\r\n",
      "T00 ERR ... Requesting next job\r\n",
      "T00 ERR ... Next job: ID = 3\r\n",
      "T00 ERR ...  Regions created\r\n",
      "T00 ERR ... Id: 0 type: polar size: 17 charge[e]= -7.632783294e-16\r\n",
      "T00 ERR ... Id: 1 type: static size: 254 charge[e]= -1.408595462e-14\r\n",
      "T00 ERR ... 2021-5-2 2:4:14 Writing jobtopology to MMMM/frame_0/job_3_Methane_0:s1/regions.pdb\r\n",
      "T00 ERR ... 2021-5-2 2:4:14 Only 1 scf region is used. The remaining regions are static. So no inter regions scf is required. \r\n",
      "T00 ERR ... 2021-5-2 2:4:14 --Inter Region SCF Iteration 1 of 1\r\n",
      "T00 ERR ... 2021-5-2 2:4:14 Evaluating polar 0\r\n",
      "T00 ERR ... 2021-5-2 2:4:14 Evaluating interaction between polar 0 and static 1\r\n",
      "T00 ERR ... 2021-5-2 2:4:14 Starting Solving for classical polarization with 255 degrees of freedom.\r\n",
      "T00 ERR ... 2021-5-2 2:4:14 CG: #iterations: 7, estimated error: 5.171454294e-06\r\n",
      "T00 ERR ...   Total static energy [hrt]= 0.0002401293715\r\n",
      "T00 ERR ...   Total polar energy [hrt]= -0.0004782854375\r\n",
      "T00 ERR ...  Total energy [hrt]= -0.000238156066\r\n",
      "T00 ERR ... 2021-5-2 2:4:14 Evaluating static 1\r\n",
      "T00 ERR ... 2021-5-2 2:4:14 Writing checkpoint to checkpoint_iter_1.hdf5\r\n",
      "T00 ERR ... Reporting job results\r\n",
      "\r\n",
      "T00 ERR ... Requesting next job\r\n",
      "T00 ERR ... Assign jobs from stack\r\n",
      "T00 ERR ... Sync did not yield any new jobs.\r\n",
      "T00 ERR ... Next job: ID = - (none available)\r\n",
      "MST ERR Assign jobs from stack\r\n",
      "Changes have not been written to state file.\r\n",
      "==================================================\r\n",
      "========   VOTCA (http://www.votca.org)   ========\r\n",
      "==================================================\r\n",
      "\r\n",
      "please submit bugs to https://github.com/votca/xtp/issues\r\n",
      "\r\n",
      "xtp_parallel, version 2022-dev gitid: 9c20903 (compiled May  2 2021, 01:53:53)\r\n",
      "votca_csg, version 2022-dev gitid: 9c20903 (compiled May  2 2021, 01:39:46)\r\n",
      "votca_tools, version 2022-dev gitid: 9c20903 (compiled May  2 2021, 01:37:04)\r\n",
      "\r\n",
      "Initializing calculator \r\n",
      "... qmmm \r\n",
      "... ... Initialized with 1 threads.\r\n",
      "\r\n",
      "... ... Using 1 openmp threads for 1x1=1 total threads.\r\n",
      "1 frames in statefile, Ids are: 0 \r\n",
      "Starting at frame 0\r\n",
      "Evaluating frame 0\r\n",
      "Import MD Topology (i.e. frame 0) from state.hdf5\r\n",
      ".... \r\n",
      "... qmmm \r\n",
      "Found 1 states of type e\r\n",
      "Found 1 states of type h\r\n",
      "Found 1 states of type s\r\n",
      "Found 1 states of type n\r\n",
      "3996 incomplete jobs found.\r\n",
      "\r\n",
      "Wrote MD topology (step = 0, time = 0) to state.hdf5\r\n",
      "... . \r\n"
     ]
    }
   ],
   "source": [
    "!xtp_parallel -e qmmm -o OPTIONFILES/qmmm_mm.xml -f state.hdf5 -p 2 -j \"run\"\n",
    "!xtp_parallel -e qmmm -o OPTIONFILES/qmmm_mm.xml -f state.hdf5 -j \"read\""
   ]
  },
  {
   "cell_type": "markdown",
   "metadata": {},
   "source": [
    "## Site energy and pair energy analysis\n",
    "In this step we generate an histogram and compute the correlation function of site energies and pair energy differences."
   ]
  },
  {
   "cell_type": "code",
   "execution_count": 16,
   "metadata": {
    "execution": {
     "iopub.execute_input": "2021-05-02T02:04:18.657113Z",
     "iopub.status.busy": "2021-05-02T02:04:18.654472Z",
     "iopub.status.idle": "2021-05-02T02:04:22.120103Z",
     "shell.execute_reply": "2021-05-02T02:04:22.119567Z"
    }
   },
   "outputs": [
    {
     "name": "stdout",
     "output_type": "stream",
     "text": [
      "==================================================\r\n",
      "========   VOTCA (http://www.votca.org)   ========\r\n",
      "==================================================\r\n",
      "\r\n",
      "please submit bugs to https://github.com/votca/xtp/issues\r\n",
      "\r\n",
      "xtp_run, version 2022-dev gitid: 9c20903 (compiled May  2 2021, 01:53:53)\r\n",
      "votca_csg, version 2022-dev gitid: 9c20903 (compiled May  2 2021, 01:39:46)\r\n",
      "votca_tools, version 2022-dev gitid: 9c20903 (compiled May  2 2021, 01:37:04)\r\n",
      "\r\n",
      "Initializing calculator\r\n",
      "... eanalyze \r\n",
      "1 frames in statefile, Ids are: 0 \r\n",
      "Starting at frame 0\r\n",
      "Evaluating frame 0\r\n",
      "Import MD Topology (i.e. frame 0) from state.hdf5\r\n",
      ".... \r\n",
      "... eanalyze  Using 1 threads\r\n",
      "... ... Short-listed 1000 segments (pattern='*')\r\n",
      "... ... ... NOTE Statistics of site energies and spatial correlations thereof are based on the short-listed segments only. \r\n",
      "... ... ...      Statistics of site-energy differences operate on the full list.\r\n",
      "... ... excited state e\r\n",
      "... ... excited state h\r\n",
      "... ... excited state s\r\n",
      "... ... excited state t\r\n",
      "Changes have not been written to state file.\r\n"
     ]
    }
   ],
   "source": [
    "!cp \"$VOTCASHARE/xtp/xml/eanalyze.xml\" OPTIONFILES/\n",
    "!xtp_run -e eanalyze -o OPTIONFILES/eanalyze.xml -f state.hdf5"
   ]
  },
  {
   "cell_type": "markdown",
   "metadata": {},
   "source": [
    "You should now see a set of files prefixed with `eanalyze` containing the histrogram and correlation functions."
   ]
  },
  {
   "cell_type": "code",
   "execution_count": 17,
   "metadata": {
    "execution": {
     "iopub.execute_input": "2021-05-02T02:04:22.126924Z",
     "iopub.status.busy": "2021-05-02T02:04:22.124491Z",
     "iopub.status.idle": "2021-05-02T02:04:22.813866Z",
     "shell.execute_reply": "2021-05-02T02:04:22.813398Z"
    }
   },
   "outputs": [
    {
     "name": "stdout",
     "output_type": "stream",
     "text": [
      "eanalyze.pairhist_e.out  eanalyze.pairlist_s.out  eanalyze.sitehist_e.out\r\n",
      "eanalyze.pairhist_h.out  eanalyze.pairlist_t.out  eanalyze.sitehist_h.out\r\n",
      "eanalyze.pairhist_s.out  eanalyze.sitecorr_e.out  eanalyze.sitehist_s.out\r\n",
      "eanalyze.pairhist_t.out  eanalyze.sitecorr_h.out  eanalyze.sitehist_t.out\r\n",
      "eanalyze.pairlist_e.out  eanalyze.sitecorr_s.out\r\n",
      "eanalyze.pairlist_h.out  eanalyze.sitecorr_t.out\r\n"
     ]
    }
   ],
   "source": [
    "!ls eanalyze*"
   ]
  },
  {
   "cell_type": "markdown",
   "metadata": {},
   "source": [
    "## QM energy calculation\n",
    "Our next task is to perform the qm calculations for each segment that we have stored in the hdf5 file. The calculations take place in 3 stages: write the jobs to a file, perform the computation and finally save the results to the state file. We will first copy the input into our local folder"
   ]
  },
  {
   "cell_type": "code",
   "execution_count": 18,
   "metadata": {
    "execution": {
     "iopub.execute_input": "2021-05-02T02:04:22.821088Z",
     "iopub.status.busy": "2021-05-02T02:04:22.817950Z",
     "iopub.status.idle": "2021-05-02T02:04:23.507563Z",
     "shell.execute_reply": "2021-05-02T02:04:23.507091Z"
    }
   },
   "outputs": [],
   "source": [
    "!cp \"$VOTCASHARE/xtp/xml/eqm.xml\" OPTIONFILES/"
   ]
  },
  {
   "cell_type": "markdown",
   "metadata": {},
   "source": [
    "Now we set the GWBSE mode to `G0W0`,  the `ranges` to `full` and the `basisset` and `auxbasisset` to `3-21G` and `aux-def2-svp`. For more information, check the [eqm calculator options](https://votca.github.io/eqm.html)."
   ]
  },
  {
   "cell_type": "code",
   "execution_count": 19,
   "metadata": {
    "execution": {
     "iopub.execute_input": "2021-05-02T02:04:23.513616Z",
     "iopub.status.busy": "2021-05-02T02:04:23.513093Z",
     "iopub.status.idle": "2021-05-02T02:04:23.527277Z",
     "shell.execute_reply": "2021-05-02T02:04:23.526835Z"
    }
   },
   "outputs": [
    {
     "name": "stdout",
     "output_type": "stream",
     "text": [
      "The option 'gwbse_options.gwbse.ranges' on file 'OPTIONFILES/eqm.xml' has been set to 'full'\n",
      "The option 'gwbse_options.gwbse.mode' on file 'OPTIONFILES/eqm.xml' has been set to 'G0W0'\n",
      "The option 'gwbse_options.gwbse.qp_solver' on file 'OPTIONFILES/eqm.xml' has been set to 'fixedpoint'\n",
      "The option 'gwbse_options.gwbse.qp_grid_steps' on file 'OPTIONFILES/eqm.xml' has been set to '100'\n",
      "The option 'gwbse_options.gwbse.qp_grid_spacing' on file 'OPTIONFILES/eqm.xml' has been set to '0.01'\n",
      "The option 'gwbse_options.gwbse.exctotal' on file 'OPTIONFILES/eqm.xml' has been set to '10'\n",
      "The option 'map_file' on file 'OPTIONFILES/eqm.xml' has been set to 'system.xml'\n",
      "The option 'basisset' on file 'OPTIONFILES/eqm.xml' has been set to '3-21G'\n",
      "The option 'auxbasisset' on file 'OPTIONFILES/eqm.xml' has been set to 'aux-def2-svp'\n"
     ]
    }
   ],
   "source": [
    "edit_calculator(\"eqm\", \"gwbse_options.gwbse.ranges\", \"full\")\n",
    "edit_calculator(\"eqm\", \"gwbse_options.gwbse.mode\", \"G0W0\")\n",
    "edit_calculator(\"eqm\", \"gwbse_options.gwbse.qp_solver\", \"fixedpoint\")\n",
    "edit_calculator(\"eqm\", \"gwbse_options.gwbse.qp_grid_steps\", \"100\")\n",
    "edit_calculator(\"eqm\", \"gwbse_options.gwbse.qp_grid_spacing\", \"0.01\")\n",
    "edit_calculator(\"eqm\", \"gwbse_options.gwbse.exctotal\", \"10\")\n",
    "edit_calculator(\"eqm\", \"map_file\", \"system.xml\")\n",
    "edit_calculator(\"eqm\", \"basisset\", \"3-21G\")\n",
    "edit_calculator(\"eqm\", \"auxbasisset\", \"aux-def2-svp\")"
   ]
  },
  {
   "cell_type": "markdown",
   "metadata": {},
   "source": [
    "For the sake of computational time let just compute the `gw` approximation and the `singlet`. You can also request the `triplet` or `all`,  see the [gwbse sectionfor the eqm calculator](https://www.votca.org/xtp/eqm.html)."
   ]
  },
  {
   "cell_type": "code",
   "execution_count": 20,
   "metadata": {
    "execution": {
     "iopub.execute_input": "2021-05-02T02:04:23.530831Z",
     "iopub.status.busy": "2021-05-02T02:04:23.530334Z",
     "iopub.status.idle": "2021-05-02T02:04:23.534853Z",
     "shell.execute_reply": "2021-05-02T02:04:23.535270Z"
    }
   },
   "outputs": [
    {
     "name": "stdout",
     "output_type": "stream",
     "text": [
      "The option 'gwbse_options.gwbse.tasks' on file 'OPTIONFILES/eqm.xml' has been set to 'gw,singlets'\n"
     ]
    }
   ],
   "source": [
    "edit_calculator(\"eqm\", \"gwbse_options.gwbse.tasks\", \"gw,singlets\")"
   ]
  },
  {
   "cell_type": "markdown",
   "metadata": {},
   "source": [
    "First we will write the job in a file and enable only the first 2,"
   ]
  },
  {
   "cell_type": "code",
   "execution_count": 21,
   "metadata": {
    "execution": {
     "iopub.execute_input": "2021-05-02T02:04:23.541137Z",
     "iopub.status.busy": "2021-05-02T02:04:23.540632Z",
     "iopub.status.idle": "2021-05-02T02:04:27.475211Z",
     "shell.execute_reply": "2021-05-02T02:04:27.474374Z"
    }
   },
   "outputs": [
    {
     "name": "stdout",
     "output_type": "stream",
     "text": [
      "==================================================\r\n",
      "========   VOTCA (http://www.votca.org)   ========\r\n",
      "==================================================\r\n",
      "\r\n",
      "please submit bugs to https://github.com/votca/xtp/issues\r\n",
      "\r\n",
      "xtp_parallel, version 2022-dev gitid: 9c20903 (compiled May  2 2021, 01:53:53)\r\n",
      "votca_csg, version 2022-dev gitid: 9c20903 (compiled May  2 2021, 01:39:46)\r\n",
      "votca_tools, version 2022-dev gitid: 9c20903 (compiled May  2 2021, 01:37:04)\r\n",
      "\r\n",
      "Initializing calculator \r\n",
      "... eqm \r\n",
      "... ... Initialized with 1 threads.\r\n",
      "\r\n",
      "... ... Using 1 openmp threads for 1x1=1 total threads.\r\n",
      "1 frames in statefile, Ids are: 0 \r\n",
      "Starting at frame 0\r\n",
      "Evaluating frame 0\r\n",
      "Import MD Topology (i.e. frame 0) from state.hdf5\r\n",
      ".... \r\n",
      "... eqm \r\n",
      "... ... Writing job file: eqm.jobs with 1000 jobs\r\n",
      "Changes have not been written to state file.\r\n"
     ]
    }
   ],
   "source": [
    "!xtp_parallel -e eqm -o OPTIONFILES/eqm.xml -f state.hdf5 -s 0 -j \"write\"\n",
    "!sed -i \"s/AVAILABLE/COMPLETE/g\" eqm.jobs\n",
    "!sed -i '0,/COMPLETE/s/COMPLETE/AVAILABLE/' eqm.jobs\n",
    "!sed -i '0,/COMPLETE/s/COMPLETE/AVAILABLE/' eqm.jobs\n"
   ]
  },
  {
   "cell_type": "markdown",
   "metadata": {},
   "source": [
    "Now, let run these 2 jobs"
   ]
  },
  {
   "cell_type": "code",
   "execution_count": 22,
   "metadata": {
    "execution": {
     "iopub.execute_input": "2021-05-02T02:04:27.481735Z",
     "iopub.status.busy": "2021-05-02T02:04:27.479441Z",
     "iopub.status.idle": "2021-05-02T02:04:37.050885Z",
     "shell.execute_reply": "2021-05-02T02:04:37.051600Z"
    }
   },
   "outputs": [
    {
     "name": "stdout",
     "output_type": "stream",
     "text": [
      "==================================================\r\n",
      "========   VOTCA (http://www.votca.org)   ========\r\n",
      "==================================================\r\n",
      "\r\n",
      "please submit bugs to https://github.com/votca/xtp/issues\r\n",
      "\r\n",
      "xtp_parallel, version 2022-dev gitid: 9c20903 (compiled May  2 2021, 01:53:53)\r\n",
      "votca_csg, version 2022-dev gitid: 9c20903 (compiled May  2 2021, 01:39:46)\r\n",
      "votca_tools, version 2022-dev gitid: 9c20903 (compiled May  2 2021, 01:37:04)\r\n",
      "\r\n",
      "Initializing calculator \r\n",
      "... eqm \r\n",
      "... ... Initialized with 1 threads.\r\n",
      "\r\n",
      "... ... Using 2 openmp threads for 1x2=2 total threads.\r\n",
      "1 frames in statefile, Ids are: 0 \r\n",
      "Starting at frame 0\r\n",
      "Evaluating frame 0\r\n",
      "Import MD Topology (i.e. frame 0) from state.hdf5\r\n",
      ".... \r\n",
      "... eqm \r\n",
      "MST ERR Job file = 'eqm.jobs', cache size =  1\r\n",
      "MST ERR Initialize jobs from eqm.jobs\r\n",
      "MST ERR Registered 1000 jobs.\r\n",
      "T00 ERR ... Requesting next job\r\n",
      "T00 ERR ... Assign jobs from stack\r\n",
      "T00 ERR ... Next job: ID = 0=> [ 0%] \r\n",
      "T00 ERR ... 2021-5-2 2:4:29 Evaluating site 0\r\n",
      "T00 ERR ... Running DFT\r\n",
      "T00 ERR ... Running GWBSE\r\n",
      "T00 ERR ... Running ESPFIT\r\n",
      "T00 ERR ... ===== Running on 2 threads ===== \r\n",
      "T00 ERR ... 2021-5-2 2:4:31 Calculated Densities at Numerical Grid, Number of electrons is -2.98617e-08\r\n",
      "T00 ERR ... 2021-5-2 2:4:31 Calculating ESP at CHELPG grid points\r\n",
      "T00 ERR ... 2021-5-2 2:4:32 Netcharge constrained to 0\r\n",
      "T00 ERR ...  Sum of fitted charges: -1.38778e-17\r\n",
      "T00 ERR ...  RMSE of fit:  0.00115775\r\n",
      "T00 ERR ...  RRMSE of fit: 0.0674742\r\n",
      "T00 ERR ... El Dipole from fitted charges [e*bohr]:\r\n",
      "\t\t dx = +0.4972 dy = -0.5156 dz = +0.4029 |d|^2 = +0.6755\r\n",
      "T00 ERR ... El Dipole from exact qm density [e*bohr]:\r\n",
      "\t\t dx = +0.5081 dy = -0.5279 dz = +0.4124 |d|^2 = +0.7070\r\n",
      "T00 ERR ... Written charges to MP_FILES/frame_0/n2s1/Methane_0_n2s1.mps\r\n",
      "T00 ERR ... 2021-5-2 2:4:32 Finished evaluating site 0\r\n",
      "T00 ERR ... Saving data to molecule_0.orb\r\n",
      "T00 ERR ... Reporting job results\r\n",
      "\r\n",
      "T00 ERR ... Requesting next job\r\n",
      "T00 ERR ... Assign jobs from stack\r\n",
      "T00 ERR ... Next job: ID = 1\r\n",
      "T00 ERR ... 2021-5-2 2:4:33 Evaluating site 1\r\n",
      "T00 ERR ... Running DFT\r\n",
      "T00 ERR ... Running GWBSE\r\n",
      "T00 ERR ... Running ESPFIT\r\n",
      "T00 ERR ... ===== Running on 2 threads ===== \r\n",
      "T00 ERR ... 2021-5-2 2:4:35 Calculated Densities at Numerical Grid, Number of electrons is 2.26321e-08\r\n",
      "T00 ERR ... 2021-5-2 2:4:35 Calculating ESP at CHELPG grid points\r\n",
      "T00 ERR ... 2021-5-2 2:4:36 Netcharge constrained to 0\r\n",
      "T00 ERR ...  Sum of fitted charges: -2.22045e-16\r\n",
      "T00 ERR ...  RMSE of fit:  0.00113805\r\n",
      "T00 ERR ...  RRMSE of fit: 0.0638578\r\n",
      "T00 ERR ... El Dipole from fitted charges [e*bohr]:\r\n",
      "\t\t dx = -0.5616 dy = -0.1876 dz = -0.6117 |d|^2 = +0.7247\r\n",
      "T00 ERR ... El Dipole from exact qm density [e*bohr]:\r\n",
      "\t\t dx = -0.5744 dy = -0.1917 dz = -0.6258 |d|^2 = +0.7584\r\n",
      "T00 ERR ... Written charges to MP_FILES/frame_0/n2s1/Methane_1_n2s1.mps\r\n",
      "T00 ERR ... 2021-5-2 2:4:36 Finished evaluating site 1\r\n",
      "T00 ERR ... Saving data to molecule_1.orb\r\n",
      "T00 ERR ... Reporting job results\r\n",
      "\r\n",
      "T00 ERR ... Requesting next job\r\n",
      "T00 ERR ... Assign jobs from stack\r\n",
      "T00 ERR ... Sync did not yield any new jobs.\r\n",
      "T00 ERR ... Next job: ID = - (none available)\r\n",
      "MST ERR Assign jobs from stack\r\n",
      "Changes have not been written to state file.\r\n"
     ]
    }
   ],
   "source": [
    "!xtp_parallel -e eqm -o OPTIONFILES/eqm.xml -f state.hdf5 -p 2 -s 0 -j run -c 1"
   ]
  },
  {
   "cell_type": "markdown",
   "metadata": {},
   "source": [
    "## QM calculation for pairs\n",
    "In the following step we will run QM calculations for each pair in the hdf5 file. As the calculations on the previous step, we will first write the jobs in a file, then run them and finally store the results in the state file. First, we need to copy the input to our local folder"
   ]
  },
  {
   "cell_type": "code",
   "execution_count": 23,
   "metadata": {
    "execution": {
     "iopub.execute_input": "2021-05-02T02:04:37.059772Z",
     "iopub.status.busy": "2021-05-02T02:04:37.056553Z",
     "iopub.status.idle": "2021-05-02T02:04:37.746189Z",
     "shell.execute_reply": "2021-05-02T02:04:37.745402Z"
    }
   },
   "outputs": [],
   "source": [
    "!cp \"$VOTCASHARE/xtp/xml/iqm.xml\" OPTIONFILES/"
   ]
  },
  {
   "cell_type": "markdown",
   "metadata": {},
   "source": [
    "As in the previous section, we set the GWBSE mode to `G0W0`, the `ranges` to `full` and the `basisset` and `auxbasisset` to `3-21G` and `aux-def2-svp`. But we compute only the `gw` approximation. We are also going to compute a single excited state. For more information, check the [iqm calculator options](https://www.votca.org/xtp/iqm.html). We also want to compute the `singlet` couplings. "
   ]
  },
  {
   "cell_type": "code",
   "execution_count": 24,
   "metadata": {
    "execution": {
     "iopub.execute_input": "2021-05-02T02:04:37.752452Z",
     "iopub.status.busy": "2021-05-02T02:04:37.751649Z",
     "iopub.status.idle": "2021-05-02T02:04:37.770422Z",
     "shell.execute_reply": "2021-05-02T02:04:37.769493Z"
    }
   },
   "outputs": [
    {
     "name": "stdout",
     "output_type": "stream",
     "text": [
      "The option 'states' on file 'OPTIONFILES/iqm.xml' has been set to '1'\n",
      "The option 'map_file' on file 'OPTIONFILES/iqm.xml' has been set to 'system.xml'\n",
      "The option 'gwbse_options.gwbse.ranges' on file 'OPTIONFILES/iqm.xml' has been set to 'full'\n",
      "The option 'gwbse_options.gwbse.tasks' on file 'OPTIONFILES/iqm.xml' has been set to 'gw'\n",
      "The option 'gwbse_options.gwbse.qp_solver' on file 'OPTIONFILES/iqm.xml' has been set to 'fixedpoint'\n",
      "The option 'gwbse_options.gwbse.qp_grid_steps' on file 'OPTIONFILES/iqm.xml' has been set to '100'\n",
      "The option 'gwbse_options.gwbse.qp_grid_spacing' on file 'OPTIONFILES/iqm.xml' has been set to '0.01'\n",
      "The option 'gwbse_options.gwbse.exctotal' on file 'OPTIONFILES/iqm.xml' has been set to '10'\n",
      "The option 'bsecoupling.spin' on file 'OPTIONFILES/iqm.xml' has been set to 'singlet'\n",
      "The option 'basisset' on file 'OPTIONFILES/iqm.xml' has been set to '3-21G'\n",
      "The option 'auxbasisset' on file 'OPTIONFILES/iqm.xml' has been set to 'aux-def2-svp'\n"
     ]
    }
   ],
   "source": [
    "edit_calculator(\"iqm\", \"states\", \"1\")\n",
    "edit_calculator(\"iqm\", \"map_file\", \"system.xml\")\n",
    "edit_calculator(\"iqm\", \"gwbse_options.gwbse.ranges\", \"full\")\n",
    "edit_calculator(\"iqm\", \"gwbse_options.gwbse.tasks\", \"gw\")\n",
    "edit_calculator(\"iqm\", \"gwbse_options.gwbse.qp_solver\", \"fixedpoint\")\n",
    "edit_calculator(\"iqm\", \"gwbse_options.gwbse.qp_grid_steps\", \"100\")\n",
    "edit_calculator(\"iqm\", \"gwbse_options.gwbse.qp_grid_spacing\", \"0.01\")\n",
    "edit_calculator(\"iqm\", \"gwbse_options.gwbse.exctotal\", \"10\")\n",
    "edit_calculator(\"iqm\", \"bsecoupling.spin\", \"singlet\")\n",
    "edit_calculator(\"iqm\", \"basisset\", \"3-21G\")\n",
    "edit_calculator(\"iqm\", \"auxbasisset\", \"aux-def2-svp\")"
   ]
  },
  {
   "cell_type": "markdown",
   "metadata": {},
   "source": [
    "Before running the calculations, we need to specify in the `iqm` input which states to read into the jobfile for each segment type. The following *XML* snippet needs to be added"
   ]
  },
  {
   "cell_type": "code",
   "execution_count": 25,
   "metadata": {
    "execution": {
     "iopub.execute_input": "2021-05-02T02:04:37.774373Z",
     "iopub.status.busy": "2021-05-02T02:04:37.773866Z",
     "iopub.status.idle": "2021-05-02T02:04:37.777557Z",
     "shell.execute_reply": "2021-05-02T02:04:37.777101Z"
    }
   },
   "outputs": [],
   "source": [
    "readjobfile = \"\"\"\n",
    "<readjobfile help=\"which states to read into the jobfile for each segment type\">\n",
    "     <singlet>Methane:s1</singlet>\n",
    "     <triplet>Methane:t1</triplet>\n",
    "     <electron>Methane:e1</electron>\n",
    "     <hole>Methane:h1</hole>\n",
    "</readjobfile>\n",
    "\"\"\""
   ]
  },
  {
   "cell_type": "markdown",
   "metadata": {},
   "source": [
    "The following code add the `readjobfile` section,"
   ]
  },
  {
   "cell_type": "code",
   "execution_count": 26,
   "metadata": {
    "execution": {
     "iopub.execute_input": "2021-05-02T02:04:37.781793Z",
     "iopub.status.busy": "2021-05-02T02:04:37.780704Z",
     "iopub.status.idle": "2021-05-02T02:04:37.784951Z",
     "shell.execute_reply": "2021-05-02T02:04:37.784110Z"
    }
   },
   "outputs": [],
   "source": [
    "add_section(\"iqm\", readjobfile)"
   ]
  },
  {
   "cell_type": "markdown",
   "metadata": {},
   "source": [
    "Now, let's write the jobs to the file"
   ]
  },
  {
   "cell_type": "code",
   "execution_count": 27,
   "metadata": {
    "execution": {
     "iopub.execute_input": "2021-05-02T02:04:37.789001Z",
     "iopub.status.busy": "2021-05-02T02:04:37.788494Z",
     "iopub.status.idle": "2021-05-02T02:04:40.892105Z",
     "shell.execute_reply": "2021-05-02T02:04:40.891533Z"
    }
   },
   "outputs": [
    {
     "name": "stdout",
     "output_type": "stream",
     "text": [
      "==================================================\r\n",
      "========   VOTCA (http://www.votca.org)   ========\r\n",
      "==================================================\r\n",
      "\r\n",
      "please submit bugs to https://github.com/votca/xtp/issues\r\n",
      "\r\n",
      "xtp_parallel, version 2022-dev gitid: 9c20903 (compiled May  2 2021, 01:53:53)\r\n",
      "votca_csg, version 2022-dev gitid: 9c20903 (compiled May  2 2021, 01:39:46)\r\n",
      "votca_tools, version 2022-dev gitid: 9c20903 (compiled May  2 2021, 01:37:04)\r\n",
      "\r\n",
      "Initializing calculator \r\n",
      "... iqm \r\n",
      "... ... Initialized with 1 threads.\r\n",
      "\r\n",
      "... ... Using 1 openmp threads for 1x1=1 total threads.\r\n",
      "1 frames in statefile, Ids are: 0 \r\n",
      "Starting at frame 0\r\n",
      "Evaluating frame 0\r\n",
      "Import MD Topology (i.e. frame 0) from state.hdf5\r\n",
      ".... \r\n",
      "... iqm \r\n",
      "... ... Writing job file iqm.jobs\r\n",
      "... ... In total 76140 jobs\r\n",
      "Changes have not been written to state file.\r\n"
     ]
    }
   ],
   "source": [
    "!xtp_parallel -e iqm -o OPTIONFILES/iqm.xml -f state.hdf5 -s 0 -j \"write\""
   ]
  },
  {
   "cell_type": "markdown",
   "metadata": {},
   "source": [
    "From the jobs that we just write down, let's make available only the first job"
   ]
  },
  {
   "cell_type": "code",
   "execution_count": 28,
   "metadata": {
    "execution": {
     "iopub.execute_input": "2021-05-02T02:04:40.899613Z",
     "iopub.status.busy": "2021-05-02T02:04:40.896669Z",
     "iopub.status.idle": "2021-05-02T02:04:42.526433Z",
     "shell.execute_reply": "2021-05-02T02:04:42.525860Z"
    }
   },
   "outputs": [],
   "source": [
    "!sed -i \"s/AVAILABLE/COMPLETE/g\" iqm.jobs\n",
    "!sed -i '0,/COMPLETE/s/COMPLETE/AVAILABLE/' iqm.jobs"
   ]
  },
  {
   "cell_type": "markdown",
   "metadata": {},
   "source": [
    "Now we can run and store the jobs results"
   ]
  },
  {
   "cell_type": "code",
   "execution_count": 29,
   "metadata": {
    "execution": {
     "iopub.execute_input": "2021-05-02T02:04:42.535471Z",
     "iopub.status.busy": "2021-05-02T02:04:42.534948Z",
     "iopub.status.idle": "2021-05-02T02:05:03.320069Z",
     "shell.execute_reply": "2021-05-02T02:05:03.319485Z"
    }
   },
   "outputs": [
    {
     "name": "stdout",
     "output_type": "stream",
     "text": [
      "==================================================\r\n",
      "========   VOTCA (http://www.votca.org)   ========\r\n",
      "==================================================\r\n",
      "\r\n",
      "please submit bugs to https://github.com/votca/xtp/issues\r\n",
      "\r\n",
      "xtp_parallel, version 2022-dev gitid: 9c20903 (compiled May  2 2021, 01:53:53)\r\n",
      "votca_csg, version 2022-dev gitid: 9c20903 (compiled May  2 2021, 01:39:46)\r\n",
      "votca_tools, version 2022-dev gitid: 9c20903 (compiled May  2 2021, 01:37:04)\r\n",
      "\r\n",
      "Initializing calculator \r\n",
      "... iqm \r\n",
      "... ... Initialized with 1 threads.\r\n",
      "\r\n",
      "... ... Using 2 openmp threads for 1x2=2 total threads.\r\n",
      "1 frames in statefile, Ids are: 0 \r\n",
      "Starting at frame 0\r\n",
      "Evaluating frame 0\r\n",
      "Import MD Topology (i.e. frame 0) from state.hdf5\r\n",
      ".... \r\n",
      "... iqm \r\n",
      "MST ERR Job file = 'iqm.jobs', cache size =  1\r\n",
      "MST ERR Initialize jobs from iqm.jobs\r\n",
      "MST ERR Registered 76140 jobs.\r\n",
      "T00 ERR ... Requesting next job\r\n",
      "T00 ERR ... Assign jobs from stack\r\n",
      "T00 ERR ... Next job: ID = 0=> [ 0%] \r\n",
      "T00 ERR ... 2021-5-2 2:4:52 Evaluating pair 0 [0:1] out of 76140\r\n",
      "T00 ERR ... Guess requested, reading molecular orbitals\r\n",
      "T00 ERR ... Reading MoleculeA from OR_FILES/molecules/frame_0/molecule_0.orb\r\n",
      "T00 ERR ... Reading MoleculeB from OR_FILES/molecules/frame_0/molecule_1.orb\r\n",
      "T00 ERR ... Running DFT\r\n",
      "T00 ERR ... Calculating electronic couplings\r\n",
      "T00 ERR ... ======WARNING=======\r\n",
      " Coordinates of monomer and dimer atoms do not agree\r\n",
      "T00 ERR ... Levels:Basis A[2:17] B[2:17]\r\n",
      "T00 ERR ... Done with electronic couplings\r\n",
      "T00 ERR ... Running GWBSE\r\n",
      "T00 ERR ... Running BSECoupling\r\n",
      "T00 ERR ... 2021-5-2 2:4:54 Finished evaluating pair 0:1\r\n",
      "T00 ERR ... Orb file is not saved according to options \r\n",
      "T00 ERR ... Reporting job results\r\n",
      "\r\n",
      "T00 ERR ... Requesting next job\r\n",
      "T00 ERR ... Assign jobs from stack\r\n",
      "T00 ERR ... Sync did not yield any new jobs.\r\n",
      "T00 ERR ... Next job: ID = - (none available)\r\n",
      "MST ERR Assign jobs from stack\r\n",
      "Changes have not been written to state file.\r\n"
     ]
    }
   ],
   "source": [
    "!xtp_parallel -e iqm -o OPTIONFILES/iqm.xml -f state.hdf5 -p 2 -s 0 -j run -c 1"
   ]
  },
  {
   "cell_type": "markdown",
   "metadata": {},
   "source": [
    "Finally, we read the results into the state"
   ]
  },
  {
   "cell_type": "code",
   "execution_count": 30,
   "metadata": {
    "execution": {
     "iopub.execute_input": "2021-05-02T02:05:03.328284Z",
     "iopub.status.busy": "2021-05-02T02:05:03.327551Z",
     "iopub.status.idle": "2021-05-02T02:05:07.921023Z",
     "shell.execute_reply": "2021-05-02T02:05:07.920489Z"
    }
   },
   "outputs": [
    {
     "name": "stdout",
     "output_type": "stream",
     "text": [
      "==================================================\r\n",
      "========   VOTCA (http://www.votca.org)   ========\r\n",
      "==================================================\r\n",
      "\r\n",
      "please submit bugs to https://github.com/votca/xtp/issues\r\n",
      "\r\n",
      "xtp_parallel, version 2022-dev gitid: 9c20903 (compiled May  2 2021, 01:53:53)\r\n",
      "votca_csg, version 2022-dev gitid: 9c20903 (compiled May  2 2021, 01:39:46)\r\n",
      "votca_tools, version 2022-dev gitid: 9c20903 (compiled May  2 2021, 01:37:04)\r\n",
      "\r\n",
      "Initializing calculator \r\n",
      "... iqm \r\n",
      "... ... Initialized with 1 threads.\r\n",
      "\r\n",
      "... ... Using 1 openmp threads for 1x1=1 total threads.\r\n",
      "1 frames in statefile, Ids are: 0 \r\n",
      "Starting at frame 0\r\n",
      "Evaluating frame 0\r\n",
      "Import MD Topology (i.e. frame 0) from state.hdf5\r\n",
      ".... \r\n",
      "... iqm \r\n",
      "Wrote MD topology (step = 0, time = 0) to state.hdf5\r\n",
      "... . \r\n"
     ]
    }
   ],
   "source": [
    "!xtp_parallel -e iqm -o OPTIONFILES/iqm.xml -f state.hdf5 -j \"read\""
   ]
  },
  {
   "cell_type": "markdown",
   "metadata": {},
   "source": [
    "## Coupling\n",
    "We can now compute the classical coupling of transition in the aformentioned three stages,"
   ]
  },
  {
   "cell_type": "code",
   "execution_count": 31,
   "metadata": {
    "execution": {
     "iopub.execute_input": "2021-05-02T02:05:07.926154Z",
     "iopub.status.busy": "2021-05-02T02:05:07.925324Z",
     "iopub.status.idle": "2021-05-02T02:05:08.621871Z",
     "shell.execute_reply": "2021-05-02T02:05:08.621374Z"
    }
   },
   "outputs": [],
   "source": [
    "!cp \"${VOTCASHARE}/xtp/xml/iexcitoncl.xml\" OPTIONFILES"
   ]
  },
  {
   "cell_type": "markdown",
   "metadata": {},
   "source": [
    "We need to change in the `iexcitoncl` input the name `map_file` option and add the state. check all the available of the [iexcitoncl calculator](https://www.votca.org/xtp/iexcitoncl.html)."
   ]
  },
  {
   "cell_type": "code",
   "execution_count": 32,
   "metadata": {
    "execution": {
     "iopub.execute_input": "2021-05-02T02:05:08.627890Z",
     "iopub.status.busy": "2021-05-02T02:05:08.626609Z",
     "iopub.status.idle": "2021-05-02T02:05:08.631029Z",
     "shell.execute_reply": "2021-05-02T02:05:08.630366Z"
    }
   },
   "outputs": [
    {
     "name": "stdout",
     "output_type": "stream",
     "text": [
      "The option 'map_file' on file 'OPTIONFILES/iexcitoncl.xml' has been set to 'system.xml'\n"
     ]
    }
   ],
   "source": [
    "edit_calculator(\"iexcitoncl\", \"map_file\", \"system.xml\")"
   ]
  },
  {
   "cell_type": "code",
   "execution_count": 33,
   "metadata": {
    "execution": {
     "iopub.execute_input": "2021-05-02T02:05:08.634300Z",
     "iopub.status.busy": "2021-05-02T02:05:08.633784Z",
     "iopub.status.idle": "2021-05-02T02:05:08.637467Z",
     "shell.execute_reply": "2021-05-02T02:05:08.636799Z"
    }
   },
   "outputs": [],
   "source": [
    "state = \"<states>Methane:n2s1</states>\"\n",
    "add_section(\"iexcitoncl\", state)"
   ]
  },
  {
   "cell_type": "code",
   "execution_count": 34,
   "metadata": {
    "execution": {
     "iopub.execute_input": "2021-05-02T02:05:08.641227Z",
     "iopub.status.busy": "2021-05-02T02:05:08.640723Z",
     "iopub.status.idle": "2021-05-02T02:05:10.452904Z",
     "shell.execute_reply": "2021-05-02T02:05:10.452403Z"
    }
   },
   "outputs": [
    {
     "name": "stdout",
     "output_type": "stream",
     "text": [
      "==================================================\r\n",
      "========   VOTCA (http://www.votca.org)   ========\r\n",
      "==================================================\r\n",
      "\r\n",
      "please submit bugs to https://github.com/votca/xtp/issues\r\n",
      "\r\n",
      "xtp_parallel, version 2022-dev gitid: 9c20903 (compiled May  2 2021, 01:53:53)\r\n",
      "votca_csg, version 2022-dev gitid: 9c20903 (compiled May  2 2021, 01:39:46)\r\n",
      "votca_tools, version 2022-dev gitid: 9c20903 (compiled May  2 2021, 01:37:04)\r\n",
      "\r\n",
      "Initializing calculator \r\n",
      "... iexcitoncl \r\n",
      "... ... Initialized with 1 threads.\r\n",
      "\r\n",
      "... ... Using 1 openmp threads for 1x1=1 total threads.\r\n",
      "1 frames in statefile, Ids are: 0 \r\n",
      "Starting at frame 0\r\n",
      "Evaluating frame 0\r\n",
      "Import MD Topology (i.e. frame 0) from state.hdf5\r\n",
      ".... \r\n",
      "... iexcitoncl \r\n",
      "... ... Writing job file exciton.jobs\r\n",
      "... ... In total 0 jobs\r\n",
      "Changes have not been written to state file.\r\n"
     ]
    }
   ],
   "source": [
    "!xtp_parallel -e iexcitoncl -o OPTIONFILES/iexcitoncl.xml -f state.hdf5 -j \"write\""
   ]
  },
  {
   "cell_type": "code",
   "execution_count": 35,
   "metadata": {
    "execution": {
     "iopub.execute_input": "2021-05-02T02:05:10.459164Z",
     "iopub.status.busy": "2021-05-02T02:05:10.457046Z",
     "iopub.status.idle": "2021-05-02T02:05:11.179013Z",
     "shell.execute_reply": "2021-05-02T02:05:11.178521Z"
    }
   },
   "outputs": [
    {
     "name": "stdout",
     "output_type": "stream",
     "text": [
      "MD_FILES\t\t eanalyze.pairlist_s.out  iqm.jobs~\r\n",
      "MMMM\t\t\t eanalyze.pairlist_t.out  md_segments_step_0.pdb\r\n",
      "MP_FILES\t\t eanalyze.sitecorr_e.out  mp_segments_e_step_0.pdb\r\n",
      "OPTIONFILES\t\t eanalyze.sitecorr_h.out  mp_segments_h_step_0.pdb\r\n",
      "OR_FILES\t\t eanalyze.sitecorr_s.out  qm_segments_n_step_0.pdb\r\n",
      "QC_FILES\t\t eanalyze.sitecorr_t.out  qmmm.xml\r\n",
      "QMMM_GROMACS.ipynb\t eanalyze.sitehist_e.out  qmmm_mm.xml\r\n",
      "__pycache__\t\t eanalyze.sitehist_h.out  qmmm_mm_jobs.xml\r\n",
      "eanalyze.pairhist_e.out  eanalyze.sitehist_s.out  qmmm_mm_jobs.xml~\r\n",
      "eanalyze.pairhist_h.out  eanalyze.sitehist_t.out  state.hdf5\r\n",
      "eanalyze.pairhist_s.out  eqm.jobs\t\t  system.xml\r\n",
      "eanalyze.pairhist_t.out  eqm.jobs~\t\t  xml_editor.py\r\n",
      "eanalyze.pairlist_e.out  exciton.jobs\r\n",
      "eanalyze.pairlist_h.out  iqm.jobs\r\n"
     ]
    }
   ],
   "source": [
    "!ls\n"
   ]
  },
  {
   "cell_type": "markdown",
   "metadata": {},
   "source": [
    "Now we can run and save the jobs. For demo purposes we will run only the first job"
   ]
  },
  {
   "cell_type": "code",
   "execution_count": 36,
   "metadata": {
    "execution": {
     "iopub.execute_input": "2021-05-02T02:05:11.186685Z",
     "iopub.status.busy": "2021-05-02T02:05:11.184588Z",
     "iopub.status.idle": "2021-05-02T02:05:14.323316Z",
     "shell.execute_reply": "2021-05-02T02:05:14.322773Z"
    }
   },
   "outputs": [
    {
     "name": "stdout",
     "output_type": "stream",
     "text": [
      "==================================================\r\n",
      "========   VOTCA (http://www.votca.org)   ========\r\n",
      "==================================================\r\n",
      "\r\n",
      "please submit bugs to https://github.com/votca/xtp/issues\r\n",
      "\r\n",
      "xtp_parallel, version 2022-dev gitid: 9c20903 (compiled May  2 2021, 01:53:53)\r\n",
      "votca_csg, version 2022-dev gitid: 9c20903 (compiled May  2 2021, 01:39:46)\r\n",
      "votca_tools, version 2022-dev gitid: 9c20903 (compiled May  2 2021, 01:37:04)\r\n",
      "\r\n",
      "Initializing calculator \r\n",
      "... iexcitoncl \r\n",
      "... ... Initialized with 1 threads.\r\n",
      "\r\n",
      "... ... Using 1 openmp threads for 1x1=1 total threads.\r\n",
      "1 frames in statefile, Ids are: 0 \r\n",
      "Starting at frame 0\r\n",
      "Evaluating frame 0\r\n",
      "Import MD Topology (i.e. frame 0) from state.hdf5\r\n",
      ".... \r\n",
      "... iexcitoncl \r\n",
      "MST ERR Job file = 'exciton.jobs', cache size =  8\r\n",
      "MST ERR Initialize jobs from exciton.jobs\r\n",
      "MST ERR Registered 0 jobs.\r\n",
      "T00 ERR ... Requesting next job\r\n",
      "T00 ERR ... Next job: ID = - (none available)\r\n",
      "MST ERR Assign jobs from stack\r\n",
      "Changes have not been written to state file.\r\n"
     ]
    }
   ],
   "source": [
    "!sed -i \"s/AVAILABLE/COMPLETE/g\" exciton.jobs\n",
    "!sed -i '0,/COMPLETE/s/COMPLETE/AVAILABLE/' exciton.jobs\n",
    "!xtp_parallel -e iexcitoncl -o OPTIONFILES/iexcitoncl.xml -f state.hdf5"
   ]
  },
  {
   "cell_type": "code",
   "execution_count": 37,
   "metadata": {
    "execution": {
     "iopub.execute_input": "2021-05-02T02:05:14.327449Z",
     "iopub.status.busy": "2021-05-02T02:05:14.326938Z",
     "iopub.status.idle": "2021-05-02T02:05:14.329114Z",
     "shell.execute_reply": "2021-05-02T02:05:14.328692Z"
    }
   },
   "outputs": [],
   "source": [
    "#!xtp_parallel -e iexcitoncl -o OPTIONFILES/iexcitoncl.xml -f state.hdf5 -j \"read\""
   ]
  },
  {
   "cell_type": "markdown",
   "metadata": {},
   "source": [
    "## Coupling analysis\n",
    "Using the coupling computed in the previous steps, we will generate an histogram for the squared couplings in logarithmic scale,"
   ]
  },
  {
   "cell_type": "code",
   "execution_count": 38,
   "metadata": {
    "execution": {
     "iopub.execute_input": "2021-05-02T02:05:14.337382Z",
     "iopub.status.busy": "2021-05-02T02:05:14.334336Z",
     "iopub.status.idle": "2021-05-02T02:05:16.863873Z",
     "shell.execute_reply": "2021-05-02T02:05:16.864362Z"
    }
   },
   "outputs": [
    {
     "name": "stdout",
     "output_type": "stream",
     "text": [
      "The option 'states' on file 'OPTIONFILES/ianalyze.xml' has been set to 'e,h,s'\n",
      "==================================================\r\n",
      "========   VOTCA (http://www.votca.org)   ========\r\n",
      "==================================================\r\n",
      "\r\n",
      "please submit bugs to https://github.com/votca/xtp/issues\r\n",
      "\r\n",
      "xtp_run, version 2022-dev gitid: 9c20903 (compiled May  2 2021, 01:53:53)\r\n",
      "votca_csg, version 2022-dev gitid: 9c20903 (compiled May  2 2021, 01:39:46)\r\n",
      "votca_tools, version 2022-dev gitid: 9c20903 (compiled May  2 2021, 01:37:04)\r\n",
      "\r\n",
      "Initializing calculator\r\n",
      "... ianalyze \r\n",
      "1 frames in statefile, Ids are: 0 \r\n",
      "Starting at frame 0\r\n",
      "Evaluating frame 0\r\n",
      "Import MD Topology (i.e. frame 0) from state.hdf5\r\n",
      ".... \r\n",
      "... ianalyze  Using 1 threads\r\n",
      "Calculating for state e now.\r\n",
      "Calculating for state h now.\r\n",
      "Calculating for state s now.\r\n",
      "\r\n",
      "Changes have not been written to state file.\r\n"
     ]
    }
   ],
   "source": [
    "!cp \"${VOTCASHARE}/xtp/xml/ianalyze.xml\" OPTIONFILES\n",
    "edit_calculator(\"ianalyze\", \"states\", \"e,h,s\")\n",
    "!xtp_run -e ianalyze -o OPTIONFILES/ianalyze.xml -f state.hdf5"
   ]
  },
  {
   "cell_type": "markdown",
   "metadata": {},
   "source": [
    "## QMMM calculations"
   ]
  },
  {
   "cell_type": "code",
   "execution_count": 39,
   "metadata": {
    "execution": {
     "iopub.execute_input": "2021-05-02T02:05:16.871045Z",
     "iopub.status.busy": "2021-05-02T02:05:16.868746Z",
     "iopub.status.idle": "2021-05-02T02:05:19.587296Z",
     "shell.execute_reply": "2021-05-02T02:05:19.588054Z"
    }
   },
   "outputs": [
    {
     "name": "stdout",
     "output_type": "stream",
     "text": [
      "==================================================\r\n",
      "========   VOTCA (http://www.votca.org)   ========\r\n",
      "==================================================\r\n",
      "\r\n",
      "please submit bugs to https://github.com/votca/xtp/issues\r\n",
      "\r\n",
      "xtp_parallel, version 2022-dev gitid: 9c20903 (compiled May  2 2021, 01:53:53)\r\n",
      "votca_csg, version 2022-dev gitid: 9c20903 (compiled May  2 2021, 01:39:46)\r\n",
      "votca_tools, version 2022-dev gitid: 9c20903 (compiled May  2 2021, 01:37:04)\r\n",
      "\r\n",
      "Initializing calculator \r\n",
      "... qmmm \r\n",
      "... ... Initialized with 1 threads.\r\n",
      "\r\n",
      "... ... Using 1 openmp threads for 1x1=1 total threads.\r\n",
      "1 frames in statefile, Ids are: 0 \r\n",
      "Starting at frame 0\r\n",
      "Evaluating frame 0\r\n",
      "Import MD Topology (i.e. frame 0) from state.hdf5\r\n",
      ".... \r\n",
      "... qmmm \r\n",
      "... ... Writing job file qmmm_jobs.xml\r\n",
      "... ... In total 3001 jobs\r\n",
      "Changes have not been written to state file.\r\n"
     ]
    }
   ],
   "source": [
    "!cp qmmm.xml OPTIONFILES/\n",
    "!xtp_parallel -e qmmm -o OPTIONFILES/qmmm.xml -f state.hdf5 -j \"write\""
   ]
  },
  {
   "cell_type": "markdown",
   "metadata": {},
   "source": [
    "Lets run just the first job"
   ]
  },
  {
   "cell_type": "code",
   "execution_count": 40,
   "metadata": {
    "execution": {
     "iopub.execute_input": "2021-05-02T02:05:19.598482Z",
     "iopub.status.busy": "2021-05-02T02:05:19.597962Z",
     "iopub.status.idle": "2021-05-02T02:05:42.738696Z",
     "shell.execute_reply": "2021-05-02T02:05:42.738226Z"
    }
   },
   "outputs": [
    {
     "name": "stdout",
     "output_type": "stream",
     "text": [
      "==================================================\r\n",
      "========   VOTCA (http://www.votca.org)   ========\r\n",
      "==================================================\r\n",
      "\r\n",
      "please submit bugs to https://github.com/votca/xtp/issues\r\n",
      "\r\n",
      "xtp_parallel, version 2022-dev gitid: 9c20903 (compiled May  2 2021, 01:53:53)\r\n",
      "votca_csg, version 2022-dev gitid: 9c20903 (compiled May  2 2021, 01:39:46)\r\n",
      "votca_tools, version 2022-dev gitid: 9c20903 (compiled May  2 2021, 01:37:04)\r\n",
      "\r\n",
      "Initializing calculator \r\n",
      "... qmmm \r\n",
      "... ... Initialized with 1 threads.\r\n",
      "\r\n",
      "... ... Using 2 openmp threads for 1x2=2 total threads.\r\n",
      "1 frames in statefile, Ids are: 0 \r\n",
      "Starting at frame 0\r\n",
      "Evaluating frame 0\r\n",
      "Import MD Topology (i.e. frame 0) from state.hdf5\r\n",
      ".... \r\n",
      "... qmmm \r\n",
      "MST ERR Job file = 'qmmm_jobs.xml', cache size =  8\r\n",
      "MST ERR Initialize jobs from qmmm_jobs.xml\r\n",
      "MST ERR Registered 3000 jobs.\r\n",
      "T00 ERR ... Requesting next job\r\n",
      "T00 ERR ... Assign jobs from stack\r\n",
      "T00 ERR ... Next job: ID = 0=> [ 0%] \r\n",
      "T00 ERR ...  Regions created\r\n",
      "T00 ERR ... Id: 0 type: qm size: 1 charge[e]= -2.80865e+14\r\n",
      "T00 ERR ... Id: 1 type: polar size: 92 charge[e]= -5.09315e-15\r\n",
      "T00 ERR ... Id: 2 type: static size: 178 charge[e]= -9.86711e-15\r\n",
      "T00 ERR ... 2021-5-2 2:5:24 Writing jobtopology to QMMM/frame_0/job_0_Methane_0:n/regions.pdb\r\n",
      "T00 ERR ... 2021-5-2 2:5:24 --Inter Region SCF Iteration 1 of 50\r\n",
      "T00 ERR ... 2021-5-2 2:5:24 Evaluating qm 0\r\n",
      "T00 ERR ... 2021-5-2 2:5:24 Evaluating interaction between qm 0 and polar 1\r\n",
      "T00 ERR ... 2021-5-2 2:5:24 Evaluating interaction between qm 0 and static 2\r\n",
      "T00 ERR ... Running DFT calculation\r\n",
      "T00 ERR ... 2021-5-2 2:5:24 Using 2 threads\r\n",
      "T00 ERR ... 2021-5-2 2:5:24 Using native Eigen implementation, no BLAS overload \r\n",
      "T00 ERR ...  Molecule Coordinates [A] \r\n",
      "T00 ERR ...   C   +30.3000 +1.2704 +5.5205\r\n",
      "T00 ERR ...   H   +31.2392 +1.4802 +6.0301\r\n",
      "T00 ERR ...   H   +30.4910 +0.6554 +4.6433\r\n",
      "T00 ERR ...   H   +29.8500 +2.2100 +5.2100\r\n",
      "T00 ERR ...   H   +29.6200 +0.7500 +6.2000\r\n",
      "T00 ERR ... 2021-5-2 2:5:24 Loaded DFT Basis Set def2-svp with 34 functions\r\n",
      "T00 ERR ... 2021-5-2 2:5:24 Total number of electrons: 10\r\n",
      "T00 ERR ... 2021-5-2 2:5:24 Smallest value of AOOverlap matrix is 0.013882\r\n",
      "T00 ERR ... 2021-5-2 2:5:24 Removed 0 basisfunction from inverse overlap matrix\r\n",
      "T00 ERR ... 2021-5-2 2:5:24 Convergence Options:\r\n",
      "T00 ERR ... \t\t Delta E [Ha]: 1e-07\r\n",
      "T00 ERR ... \t\t DIIS max error: 1e-07\r\n",
      "T00 ERR ... \t\t DIIS histlength: 20\r\n",
      "T00 ERR ... \t\t ADIIS start: 0.8\r\n",
      "T00 ERR ... \t\t DIIS start: 0.002\r\n",
      "T00 ERR ... \t\t Deleting oldest element from DIIS hist\r\n",
      "T00 ERR ... \t\t Levelshift[Ha]: 0\r\n",
      "T00 ERR ... \t\t Levelshift end: 0.2\r\n",
      "T00 ERR ... \t\t Mixing Parameter alpha: 0.7\r\n",
      "T00 ERR ... 2021-5-2 2:5:24 Constructed independent particle hamiltonian \r\n",
      "T00 ERR ... 2021-5-2 2:5:24 Nuclear Repulsion Energy is 13.4434088\r\n",
      "T00 ERR ... 2021-5-2 2:5:24 Using hybrid functional with alpha=0.25\r\n",
      "T00 ERR ... 2021-5-2 2:5:24 Setup numerical integration grid medium for vxc functional XC_HYB_GGA_XC_PBEH\r\n",
      "T00 ERR ... 2021-5-2 2:5:24 Setup Initial Guess using: atom\r\n",
      "T00 ERR ... 2021-5-2 2:5:24 Calculating atom density for C\r\n",
      "T00 ERR ... 2021-5-2 2:5:25 Calculating atom density for H\r\n",
      "T00 ERR ... 2021-5-2 2:5:25 STARTING SCF cycle\r\n",
      "T00 ERR ...  --------------------------------------------------------------------------\r\n",
      "T00 ERR ... \r\n",
      "T00 ERR ... 2021-5-2 2:5:25 Iteration 1 of 100\r\n",
      "T00 ERR ... 2021-5-2 2:5:25 Total Energy -40.3160382356\r\n",
      "T00 ERR ... 2021-5-2 2:5:25 DIIs error 0.224343479818\r\n",
      "T00 ERR ... 2021-5-2 2:5:25 Delta Etot 0\r\n",
      "T00 ERR ... \r\n",
      "T00 ERR ... 2021-5-2 2:5:25 Iteration 2 of 100\r\n",
      "T00 ERR ... 2021-5-2 2:5:25 Total Energy -40.3631646134\r\n",
      "T00 ERR ... 2021-5-2 2:5:25 DIIs error 0.134009744313\r\n",
      "T00 ERR ... 2021-5-2 2:5:25 Delta Etot -0.047126377752\r\n",
      "T00 ERR ... \r\n",
      "T00 ERR ... 2021-5-2 2:5:25 Iteration 3 of 100\r\n",
      "T00 ERR ... 2021-5-2 2:5:26 Total Energy -40.3846940826\r\n",
      "T00 ERR ... 2021-5-2 2:5:26 DIIs error 0.0839223444315\r\n",
      "T00 ERR ... 2021-5-2 2:5:26 Delta Etot -0.021529469253\r\n",
      "T00 ERR ... \r\n",
      "T00 ERR ... 2021-5-2 2:5:26 Iteration 4 of 100\r\n",
      "T00 ERR ... 2021-5-2 2:5:26 Total Energy -40.4256412728\r\n",
      "T00 ERR ... 2021-5-2 2:5:26 DIIs error 0.0278434439037\r\n",
      "T00 ERR ... 2021-5-2 2:5:26 Delta Etot -0.0409471901588\r\n",
      "T00 ERR ... \r\n",
      "T00 ERR ... 2021-5-2 2:5:26 Iteration 5 of 100\r\n",
      "T00 ERR ... 2021-5-2 2:5:26 Total Energy -40.4252782797\r\n",
      "T00 ERR ... 2021-5-2 2:5:26 DIIs error 0.0303866011461\r\n",
      "T00 ERR ... 2021-5-2 2:5:26 Delta Etot 0.000362993040767\r\n",
      "T00 ERR ... \r\n",
      "T00 ERR ... 2021-5-2 2:5:26 Iteration 6 of 100\r\n",
      "T00 ERR ... 2021-5-2 2:5:26 Total Energy -40.428332092\r\n",
      "T00 ERR ... 2021-5-2 2:5:26 DIIs error 0.000900149072069\r\n",
      "T00 ERR ... 2021-5-2 2:5:26 Delta Etot -0.00305381231323\r\n",
      "T00 ERR ... \r\n",
      "T00 ERR ... 2021-5-2 2:5:26 Iteration 7 of 100\r\n",
      "T00 ERR ... 2021-5-2 2:5:26 Total Energy -40.4283348639\r\n",
      "T00 ERR ... 2021-5-2 2:5:26 DIIs error 4.04992169142e-05\r\n",
      "T00 ERR ... 2021-5-2 2:5:26 Delta Etot -2.77188466669e-06\r\n",
      "T00 ERR ... \r\n",
      "T00 ERR ... 2021-5-2 2:5:26 Iteration 8 of 100\r\n",
      "T00 ERR ... 2021-5-2 2:5:26 Total Energy -40.4283348731\r\n",
      "T00 ERR ... 2021-5-2 2:5:26 DIIs error 8.2924023699e-06\r\n",
      "T00 ERR ... 2021-5-2 2:5:26 Delta Etot -9.22540266401e-09\r\n",
      "T00 ERR ... \r\n",
      "T00 ERR ... 2021-5-2 2:5:26 Iteration 9 of 100\r\n",
      "T00 ERR ... 2021-5-2 2:5:26 Total Energy -40.4283348732\r\n",
      "T00 ERR ... 2021-5-2 2:5:26 DIIs error 4.11847975528e-06\r\n",
      "T00 ERR ... 2021-5-2 2:5:26 Delta Etot -3.51860762748e-11\r\n",
      "T00 ERR ... \r\n",
      "T00 ERR ... 2021-5-2 2:5:26 Iteration 10 of 100\r\n",
      "T00 ERR ... 2021-5-2 2:5:27 Total Energy -40.4283348733\r\n",
      "T00 ERR ... 2021-5-2 2:5:27 DIIs error 6.39551192537e-07\r\n",
      "T00 ERR ... 2021-5-2 2:5:27 Delta Etot -6.88444856678e-11\r\n",
      "T00 ERR ... \r\n",
      "T00 ERR ... 2021-5-2 2:5:27 Iteration 11 of 100\r\n",
      "T00 ERR ... 2021-5-2 2:5:27 Total Energy -40.4283348733\r\n",
      "T00 ERR ... 2021-5-2 2:5:27 DIIs error 1.34029600926e-07\r\n",
      "T00 ERR ... 2021-5-2 2:5:27 Delta Etot -1.93978166863e-12\r\n",
      "T00 ERR ... \r\n",
      "T00 ERR ... 2021-5-2 2:5:27 Iteration 12 of 100\r\n",
      "T00 ERR ... 2021-5-2 2:5:27 Total Energy -40.4283348733\r\n",
      "T00 ERR ... 2021-5-2 2:5:27 DIIs error 1.42665570563e-08\r\n",
      "T00 ERR ... 2021-5-2 2:5:27 Delta Etot -1.42108547152e-13\r\n",
      "T00 ERR ... 2021-5-2 2:5:27 Total Energy has converged to -1.42108547e-13[Ha] after 12 iterations. DIIS error is converged up to 1.42665571e-08\r\n",
      "T00 ERR ... 2021-5-2 2:5:27 Final Single Point Energy -40.4283348733 Ha\r\n",
      "T00 ERR ... 2021-5-2 2:5:27 Final Local Exc contribution -5.19288292765 Ha\r\n",
      "T00 ERR ... 2021-5-2 2:5:27 Final Non Local Ex contribution -1.64346676034 Ha\r\n",
      "T00 ERR ...   Orbital energies: \r\n",
      "T00 ERR ...   index occupation energy(Hartree) \r\n",
      "T00 ERR ...      0      2   -10.2155439702\r\n",
      "T00 ERR ...      1      2   -0.7051474502\r\n",
      "T00 ERR ...      2      2   -0.4018530763\r\n",
      "T00 ERR ...      3      2   -0.4013030561\r\n",
      "T00 ERR ...      4      2   -0.4005167239\r\n",
      "T00 ERR ...      5      0   +0.0873160644\r\n",
      "T00 ERR ...      6      0   +0.1580404991\r\n",
      "T00 ERR ...      7      0   +0.1586955443\r\n",
      "T00 ERR ...      8      0   +0.1589281315\r\n",
      "T00 ERR ...      9      0   +0.4330256012\r\n",
      "T00 ERR ...     10      0   +0.4342802104\r\n",
      "T00 ERR ...     11      0   +0.4352482599\r\n",
      "T00 ERR ...     12      0   +0.6747490915\r\n",
      "T00 ERR ...     13      0   +0.7038048165\r\n",
      "T00 ERR ...     14      0   +0.7052280157\r\n",
      "T00 ERR ...     15      0   +0.7057531842\r\n",
      "T00 ERR ...     16      0   +0.8002909160\r\n",
      "T00 ERR ...     17      0   +1.0999417333\r\n",
      "T00 ERR ...     18      0   +1.1004096807\r\n",
      "T00 ERR ...     19      0   +1.5445777049\r\n",
      "T00 ERR ...     20      0   +1.5470371037\r\n",
      "T00 ERR ...     21      0   +1.5494748355\r\n",
      "T00 ERR ...     22      0   +1.7740441528\r\n",
      "T00 ERR ...     23      0   +1.7790714705\r\n",
      "T00 ERR ...     24      0   +1.7829840060\r\n",
      "T00 ERR ...     25      0   +2.1478692073\r\n",
      "T00 ERR ...     26      0   +2.1543523363\r\n",
      "T00 ERR ...     27      0   +2.1593032775\r\n",
      "T00 ERR ...     28      0   +2.5457715880\r\n",
      "T00 ERR ...     29      0   +2.5462267824\r\n",
      "T00 ERR ...     30      0   +2.6358795669\r\n",
      "T00 ERR ...     31      0   +2.9321001950\r\n",
      "T00 ERR ...     32      0   +2.9387290718\r\n",
      "T00 ERR ...     33      0   +2.9434070937\r\n",
      "T00 ERR ... 2021-5-2 2:5:27 Electric Dipole is[e*bohr]:\r\n",
      "\t\t dx=0.000671714438756\r\n",
      "\t\t dy=0.00319883857111\r\n",
      "\t\t dz=-0.00105486264848\r\n",
      "T00 ERR ... Writing result to votca.orb\r\n",
      "T00 ERR ... QM energy[Hrt]: -40.42833487 \r\n",
      "T00 ERR ... 2021-5-2 2:5:27 Evaluating polar 1\r\n",
      "T00 ERR ... 2021-5-2 2:5:27 Evaluating interaction between polar 1 and qm 0\r\n",
      "T00 ERR ... 2021-5-2 2:5:28 Evaluating interaction between polar 1 and static 2\r\n",
      "T00 ERR ... 2021-5-2 2:5:28 Starting Solving for classical polarization with 1380 degrees of freedom.\r\n",
      "T00 ERR ... 2021-5-2 2:5:28 CG: #iterations: 7, estimated error: 5.51883553603e-06\r\n",
      "T00 ERR ...   Total static energy [hrt]= 0.0009102654542\r\n",
      "T00 ERR ...   Total polar energy [hrt]= -0.0006230373479\r\n",
      "T00 ERR ...  Total energy [hrt]= 0.0002872281063\r\n",
      "T00 ERR ... 2021-5-2 2:5:28 Evaluating static 2\r\n",
      "T00 ERR ... 2021-5-2 2:5:28 Writing checkpoint to checkpoint_iter_1.hdf5\r\n",
      "T00 ERR ...  Region:qm 0 is not converged deltaE=-40.42833487 RMS Dmat=0.0813492265 MaxDmat=2.078065548\r\n",
      "T00 ERR ... 2021-5-2 2:5:28 Region:polar 1 is not converged deltaE=0.0002872281063\r\n",
      "T00 ERR ... 2021-5-2 2:5:28 --Total Energy all regions -40.42804765\r\n",
      "T00 ERR ... 2021-5-2 2:5:28 --Inter Region SCF Iteration 2 of 50\r\n",
      "T00 ERR ... 2021-5-2 2:5:28 Evaluating qm 0\r\n",
      "T00 ERR ... 2021-5-2 2:5:28 Evaluating interaction between qm 0 and polar 1\r\n",
      "T00 ERR ... 2021-5-2 2:5:28 Evaluating interaction between qm 0 and static 2\r\n",
      "T00 ERR ... Running DFT calculation\r\n",
      "T00 ERR ... 2021-5-2 2:5:28 Using 2 threads\r\n",
      "T00 ERR ... 2021-5-2 2:5:28 Using native Eigen implementation, no BLAS overload \r\n",
      "T00 ERR ...  Molecule Coordinates [A] \r\n",
      "T00 ERR ...   C   +30.3000 +1.2704 +5.5205\r\n",
      "T00 ERR ...   H   +31.2392 +1.4802 +6.0301\r\n",
      "T00 ERR ...   H   +30.4910 +0.6554 +4.6433\r\n",
      "T00 ERR ...   H   +29.8500 +2.2100 +5.2100\r\n",
      "T00 ERR ...   H   +29.6200 +0.7500 +6.2000\r\n",
      "T00 ERR ... 2021-5-2 2:5:28 Loaded DFT Basis Set def2-svp with 34 functions\r\n",
      "T00 ERR ... 2021-5-2 2:5:28 Total number of electrons: 10\r\n",
      "T00 ERR ... 2021-5-2 2:5:28 Smallest value of AOOverlap matrix is 0.01388201597\r\n",
      "T00 ERR ... 2021-5-2 2:5:28 Removed 0 basisfunction from inverse overlap matrix\r\n",
      "T00 ERR ... 2021-5-2 2:5:28 Convergence Options:\r\n",
      "T00 ERR ... \t\t Delta E [Ha]: 1e-07\r\n",
      "T00 ERR ... \t\t DIIS max error: 1e-07\r\n",
      "T00 ERR ... \t\t DIIS histlength: 20\r\n",
      "T00 ERR ... \t\t ADIIS start: 0.8\r\n",
      "T00 ERR ... \t\t DIIS start: 0.002\r\n",
      "T00 ERR ... \t\t Deleting oldest element from DIIS hist\r\n",
      "T00 ERR ... \t\t Levelshift[Ha]: 0\r\n",
      "T00 ERR ... \t\t Levelshift end: 0.2\r\n",
      "T00 ERR ... \t\t Mixing Parameter alpha: 0.7\r\n",
      "T00 ERR ... 2021-5-2 2:5:28 Constructed independent particle hamiltonian \r\n",
      "T00 ERR ... 2021-5-2 2:5:28 Nuclear Repulsion Energy is 13.4434088\r\n",
      "T00 ERR ... 2021-5-2 2:5:28 Using hybrid functional with alpha=0.25\r\n",
      "T00 ERR ... 2021-5-2 2:5:28 Setup numerical integration grid medium for vxc functional XC_HYB_GGA_XC_PBEH\r\n",
      "T00 ERR ... 2021-5-2 2:5:28 Setup Initial Guess using: atom\r\n",
      "T00 ERR ... 2021-5-2 2:5:28 Calculating atom density for C\r\n",
      "T00 ERR ... 2021-5-2 2:5:29 Calculating atom density for H\r\n",
      "T00 ERR ... 2021-5-2 2:5:29 STARTING SCF cycle\r\n",
      "T00 ERR ...  --------------------------------------------------------------------------\r\n",
      "T00 ERR ... \r\n",
      "T00 ERR ... 2021-5-2 2:5:29 Iteration 1 of 100\r\n",
      "T00 ERR ... 2021-5-2 2:5:29 Total Energy -40.3160382356\r\n",
      "T00 ERR ... 2021-5-2 2:5:29 DIIs error 0.224343479818\r\n",
      "T00 ERR ... 2021-5-2 2:5:29 Delta Etot 0\r\n",
      "T00 ERR ... \r\n",
      "T00 ERR ... 2021-5-2 2:5:29 Iteration 2 of 100\r\n",
      "T00 ERR ... 2021-5-2 2:5:30 Total Energy -40.3631646134\r\n",
      "T00 ERR ... 2021-5-2 2:5:30 DIIs error 0.134009744313\r\n",
      "T00 ERR ... 2021-5-2 2:5:30 Delta Etot -0.047126377752\r\n",
      "T00 ERR ... \r\n",
      "T00 ERR ... 2021-5-2 2:5:30 Iteration 3 of 100\r\n",
      "T00 ERR ... 2021-5-2 2:5:30 Total Energy -40.3846940826\r\n",
      "T00 ERR ... 2021-5-2 2:5:30 DIIs error 0.0839223444315\r\n",
      "T00 ERR ... 2021-5-2 2:5:30 Delta Etot -0.021529469253\r\n",
      "T00 ERR ... \r\n",
      "T00 ERR ... 2021-5-2 2:5:30 Iteration 4 of 100\r\n",
      "T00 ERR ... 2021-5-2 2:5:30 Total Energy -40.4256412728\r\n",
      "T00 ERR ... 2021-5-2 2:5:30 DIIs error 0.0278434439037\r\n",
      "T00 ERR ... 2021-5-2 2:5:30 Delta Etot -0.0409471901588\r\n",
      "T00 ERR ... \r\n",
      "T00 ERR ... 2021-5-2 2:5:30 Iteration 5 of 100\r\n",
      "T00 ERR ... 2021-5-2 2:5:30 Total Energy -40.4252782797\r\n",
      "T00 ERR ... 2021-5-2 2:5:30 DIIs error 0.0303866011462\r\n",
      "T00 ERR ... 2021-5-2 2:5:30 Delta Etot 0.000362993040802\r\n",
      "T00 ERR ... \r\n",
      "T00 ERR ... 2021-5-2 2:5:30 Iteration 6 of 100\r\n",
      "T00 ERR ... 2021-5-2 2:5:30 Total Energy -40.428332092\r\n",
      "T00 ERR ... 2021-5-2 2:5:30 DIIs error 0.000900149072101\r\n",
      "T00 ERR ... 2021-5-2 2:5:30 Delta Etot -0.00305381231325\r\n",
      "T00 ERR ... \r\n",
      "T00 ERR ... 2021-5-2 2:5:30 Iteration 7 of 100\r\n",
      "T00 ERR ... 2021-5-2 2:5:30 Total Energy -40.4283348639\r\n",
      "T00 ERR ... 2021-5-2 2:5:30 DIIs error 4.04992169146e-05\r\n",
      "T00 ERR ... 2021-5-2 2:5:30 Delta Etot -2.77188466669e-06\r\n",
      "T00 ERR ... \r\n",
      "T00 ERR ... 2021-5-2 2:5:30 Iteration 8 of 100\r\n",
      "T00 ERR ... 2021-5-2 2:5:30 Total Energy -40.4283348731\r\n",
      "T00 ERR ... 2021-5-2 2:5:30 DIIs error 8.29240238021e-06\r\n",
      "T00 ERR ... 2021-5-2 2:5:30 Delta Etot -9.22536713688e-09\r\n",
      "T00 ERR ... \r\n",
      "T00 ERR ... 2021-5-2 2:5:30 Iteration 9 of 100\r\n",
      "T00 ERR ... 2021-5-2 2:5:31 Total Energy -40.4283348732\r\n",
      "T00 ERR ... 2021-5-2 2:5:31 DIIs error 4.11847976123e-06\r\n",
      "T00 ERR ... 2021-5-2 2:5:31 Delta Etot -3.52216034116e-11\r\n",
      "T00 ERR ... \r\n",
      "T00 ERR ... 2021-5-2 2:5:31 Iteration 10 of 100\r\n",
      "T00 ERR ... 2021-5-2 2:5:31 Total Energy -40.4283348733\r\n",
      "T00 ERR ... 2021-5-2 2:5:31 DIIs error 6.39551203387e-07\r\n",
      "T00 ERR ... 2021-5-2 2:5:31 Delta Etot -6.88658019499e-11\r\n",
      "T00 ERR ... \r\n",
      "T00 ERR ... 2021-5-2 2:5:31 Iteration 11 of 100\r\n",
      "T00 ERR ... 2021-5-2 2:5:31 Total Energy -40.4283348733\r\n",
      "T00 ERR ... 2021-5-2 2:5:31 DIIs error 1.34029606812e-07\r\n",
      "T00 ERR ... 2021-5-2 2:5:31 Delta Etot -1.97530880541e-12\r\n",
      "T00 ERR ... \r\n",
      "T00 ERR ... 2021-5-2 2:5:31 Iteration 12 of 100\r\n",
      "T00 ERR ... 2021-5-2 2:5:31 Total Energy -40.4283348733\r\n",
      "T00 ERR ... 2021-5-2 2:5:31 DIIs error 1.42665459503e-08\r\n",
      "T00 ERR ... 2021-5-2 2:5:31 Delta Etot -1.4921397451e-13\r\n",
      "T00 ERR ... 2021-5-2 2:5:31 Total Energy has converged to -1.49213975e-13[Ha] after 12 iterations. DIIS error is converged up to 1.4266546e-08\r\n",
      "T00 ERR ... 2021-5-2 2:5:31 Final Single Point Energy -40.4283348733 Ha\r\n",
      "T00 ERR ... 2021-5-2 2:5:31 Final Local Exc contribution -5.19288292765 Ha\r\n",
      "T00 ERR ... 2021-5-2 2:5:31 Final Non Local Ex contribution -1.64346676034 Ha\r\n",
      "T00 ERR ...   Orbital energies: \r\n",
      "T00 ERR ...   index occupation energy(Hartree) \r\n",
      "T00 ERR ...      0      2   -10.2155439702\r\n",
      "T00 ERR ...      1      2   -0.7051474502\r\n",
      "T00 ERR ...      2      2   -0.4018530763\r\n",
      "T00 ERR ...      3      2   -0.4013030561\r\n",
      "T00 ERR ...      4      2   -0.4005167239\r\n",
      "T00 ERR ...      5      0   +0.0873160644\r\n",
      "T00 ERR ...      6      0   +0.1580404991\r\n",
      "T00 ERR ...      7      0   +0.1586955443\r\n",
      "T00 ERR ...      8      0   +0.1589281315\r\n",
      "T00 ERR ...      9      0   +0.4330256012\r\n",
      "T00 ERR ...     10      0   +0.4342802104\r\n",
      "T00 ERR ...     11      0   +0.4352482599\r\n",
      "T00 ERR ...     12      0   +0.6747490915\r\n",
      "T00 ERR ...     13      0   +0.7038048165\r\n",
      "T00 ERR ...     14      0   +0.7052280157\r\n",
      "T00 ERR ...     15      0   +0.7057531842\r\n",
      "T00 ERR ...     16      0   +0.8002909160\r\n",
      "T00 ERR ...     17      0   +1.0999417333\r\n",
      "T00 ERR ...     18      0   +1.1004096807\r\n",
      "T00 ERR ...     19      0   +1.5445777049\r\n",
      "T00 ERR ...     20      0   +1.5470371037\r\n",
      "T00 ERR ...     21      0   +1.5494748355\r\n",
      "T00 ERR ...     22      0   +1.7740441528\r\n",
      "T00 ERR ...     23      0   +1.7790714705\r\n",
      "T00 ERR ...     24      0   +1.7829840060\r\n",
      "T00 ERR ...     25      0   +2.1478692073\r\n",
      "T00 ERR ...     26      0   +2.1543523363\r\n",
      "T00 ERR ...     27      0   +2.1593032775\r\n",
      "T00 ERR ...     28      0   +2.5457715880\r\n",
      "T00 ERR ...     29      0   +2.5462267824\r\n",
      "T00 ERR ...     30      0   +2.6358795669\r\n",
      "T00 ERR ...     31      0   +2.9321001950\r\n",
      "T00 ERR ...     32      0   +2.9387290718\r\n",
      "T00 ERR ...     33      0   +2.9434070937\r\n",
      "T00 ERR ... 2021-5-2 2:5:31 Electric Dipole is[e*bohr]:\r\n",
      "\t\t dx=0.000671714438776\r\n",
      "\t\t dy=0.00319883857112\r\n",
      "\t\t dz=-0.00105486264847\r\n",
      "T00 ERR ... Writing result to votca.orb\r\n",
      "T00 ERR ... QM energy[Hrt]: -40.42833487 \r\n",
      "T00 ERR ... 2021-5-2 2:5:31 Evaluating polar 1\r\n",
      "T00 ERR ... 2021-5-2 2:5:31 Evaluating interaction between polar 1 and qm 0\r\n",
      "T00 ERR ... 2021-5-2 2:5:32 Evaluating interaction between polar 1 and static 2\r\n",
      "T00 ERR ... 2021-5-2 2:5:32 Starting Solving for classical polarization with 1380 degrees of freedom.\r\n",
      "T00 ERR ... 2021-5-2 2:5:32 CG: #iterations: 0, estimated error: 5.51883558106e-06\r\n",
      "T00 ERR ...   Total static energy [hrt]= 0.0009102654542\r\n",
      "T00 ERR ...   Total polar energy [hrt]= -0.0006230373479\r\n",
      "T00 ERR ...  Total energy [hrt]= 0.0002872281063\r\n",
      "T00 ERR ... 2021-5-2 2:5:32 Evaluating static 2\r\n",
      "T00 ERR ... 2021-5-2 2:5:32 Writing checkpoint to checkpoint_iter_2.hdf5\r\n",
      "T00 ERR ...  Region:qm 0 is converged deltaE=-3.552713679e-14 RMS Dmat=5.991663669e-15 MaxDmat=5.308687517e-14\r\n",
      "T00 ERR ... 2021-5-2 2:5:32 Region:polar 1 is converged deltaE=0\r\n",
      "T00 ERR ... 2021-5-2 2:5:32 --Total Energy all regions -40.42804765\r\n",
      "T00 ERR ... 2021-5-2 2:5:32 Job converged after 2 iterations.\r\n",
      "T00 ERR ... Reporting job results\r\n",
      "\r\n",
      "T00 ERR ... Requesting next job\r\n",
      "T00 ERR ... Next job: ID = 1\r\n",
      "T00 ERR ... Initial state: s1\r\n",
      "T00 ERR ... Using overlap filter with threshold 0.8\r\n",
      "T00 ERR ...  Regions created\r\n",
      "T00 ERR ... Id: 0 type: qm size: 1 charge[e]= 0\r\n",
      "T00 ERR ... Id: 1 type: polar size: 92 charge[e]= -5.093148125e-15\r\n",
      "T00 ERR ... Id: 2 type: static size: 178 charge[e]= -9.867107131e-15\r\n",
      "T00 ERR ... 2021-5-2 2:5:32 Writing jobtopology to QMMM/frame_0/job_1_Methane_0:s1/regions.pdb\r\n",
      "T00 ERR ... 2021-5-2 2:5:32 --Inter Region SCF Iteration 1 of 50\r\n",
      "T00 ERR ... 2021-5-2 2:5:32 Evaluating qm 0\r\n",
      "T00 ERR ... 2021-5-2 2:5:32 Evaluating interaction between qm 0 and polar 1\r\n",
      "T00 ERR ... 2021-5-2 2:5:32 Evaluating interaction between qm 0 and static 2\r\n",
      "T00 ERR ... Running DFT calculation\r\n",
      "T00 ERR ... 2021-5-2 2:5:32 Using 2 threads\r\n",
      "T00 ERR ... 2021-5-2 2:5:32 Using native Eigen implementation, no BLAS overload \r\n",
      "T00 ERR ...  Molecule Coordinates [A] \r\n",
      "T00 ERR ...   C   +30.3000 +1.2704 +5.5205\r\n",
      "T00 ERR ...   H   +31.2392 +1.4802 +6.0301\r\n",
      "T00 ERR ...   H   +30.4910 +0.6554 +4.6433\r\n",
      "T00 ERR ...   H   +29.8500 +2.2100 +5.2100\r\n",
      "T00 ERR ...   H   +29.6200 +0.7500 +6.2000\r\n",
      "T00 ERR ... 2021-5-2 2:5:32 Loaded DFT Basis Set def2-svp with 34 functions\r\n",
      "T00 ERR ... 2021-5-2 2:5:32 Total number of electrons: 10\r\n",
      "T00 ERR ... 2021-5-2 2:5:32 Smallest value of AOOverlap matrix is 0.01388201597\r\n",
      "T00 ERR ... 2021-5-2 2:5:32 Removed 0 basisfunction from inverse overlap matrix\r\n",
      "T00 ERR ... 2021-5-2 2:5:32 Convergence Options:\r\n",
      "T00 ERR ... \t\t Delta E [Ha]: 1e-07\r\n",
      "T00 ERR ... \t\t DIIS max error: 1e-07\r\n",
      "T00 ERR ... \t\t DIIS histlength: 20\r\n",
      "T00 ERR ... \t\t ADIIS start: 0.8\r\n",
      "T00 ERR ... \t\t DIIS start: 0.002\r\n",
      "T00 ERR ... \t\t Deleting oldest element from DIIS hist\r\n",
      "T00 ERR ... \t\t Levelshift[Ha]: 0\r\n",
      "T00 ERR ... \t\t Levelshift end: 0.2\r\n",
      "T00 ERR ... \t\t Mixing Parameter alpha: 0.7\r\n",
      "T00 ERR ... 2021-5-2 2:5:32 Constructed independent particle hamiltonian \r\n",
      "T00 ERR ... 2021-5-2 2:5:32 Nuclear Repulsion Energy is 13.4434088\r\n",
      "T00 ERR ... 2021-5-2 2:5:32 Using hybrid functional with alpha=0.25\r\n",
      "T00 ERR ... 2021-5-2 2:5:32 Setup numerical integration grid medium for vxc functional XC_HYB_GGA_XC_PBEH\r\n",
      "T00 ERR ... 2021-5-2 2:5:32 Setup Initial Guess using: atom\r\n",
      "T00 ERR ... 2021-5-2 2:5:32 Calculating atom density for C\r\n",
      "T00 ERR ... 2021-5-2 2:5:33 Calculating atom density for H\r\n",
      "T00 ERR ... 2021-5-2 2:5:33 STARTING SCF cycle\r\n",
      "T00 ERR ...  --------------------------------------------------------------------------\r\n",
      "T00 ERR ... \r\n",
      "T00 ERR ... 2021-5-2 2:5:33 Iteration 1 of 100\r\n",
      "T00 ERR ... 2021-5-2 2:5:33 Total Energy -40.3160382356\r\n",
      "T00 ERR ... 2021-5-2 2:5:33 DIIs error 0.224343479818\r\n",
      "T00 ERR ... 2021-5-2 2:5:33 Delta Etot 0\r\n",
      "T00 ERR ... \r\n",
      "T00 ERR ... 2021-5-2 2:5:33 Iteration 2 of 100\r\n",
      "T00 ERR ... 2021-5-2 2:5:34 Total Energy -40.3631646134\r\n",
      "T00 ERR ... 2021-5-2 2:5:34 DIIs error 0.134009744313\r\n",
      "T00 ERR ... 2021-5-2 2:5:34 Delta Etot -0.047126377752\r\n",
      "T00 ERR ... \r\n",
      "T00 ERR ... 2021-5-2 2:5:34 Iteration 3 of 100\r\n",
      "T00 ERR ... 2021-5-2 2:5:34 Total Energy -40.3846940826\r\n",
      "T00 ERR ... 2021-5-2 2:5:34 DIIs error 0.0839223444316\r\n",
      "T00 ERR ... 2021-5-2 2:5:34 Delta Etot -0.0215294692529\r\n",
      "T00 ERR ... \r\n",
      "T00 ERR ... 2021-5-2 2:5:34 Iteration 4 of 100\r\n",
      "T00 ERR ... 2021-5-2 2:5:34 Total Energy -40.4256412728\r\n",
      "T00 ERR ... 2021-5-2 2:5:34 DIIs error 0.0278434439037\r\n",
      "T00 ERR ... 2021-5-2 2:5:34 Delta Etot -0.0409471901589\r\n",
      "T00 ERR ... \r\n",
      "T00 ERR ... 2021-5-2 2:5:34 Iteration 5 of 100\r\n",
      "T00 ERR ... 2021-5-2 2:5:34 Total Energy -40.4252782797\r\n",
      "T00 ERR ... 2021-5-2 2:5:34 DIIs error 0.0303866011461\r\n",
      "T00 ERR ... 2021-5-2 2:5:34 Delta Etot 0.000362993040866\r\n",
      "T00 ERR ... \r\n",
      "T00 ERR ... 2021-5-2 2:5:34 Iteration 6 of 100\r\n",
      "T00 ERR ... 2021-5-2 2:5:34 Total Energy -40.428332092\r\n",
      "T00 ERR ... 2021-5-2 2:5:34 DIIs error 0.000900149072232\r\n",
      "T00 ERR ... 2021-5-2 2:5:34 Delta Etot -0.00305381231331\r\n",
      "T00 ERR ... \r\n",
      "T00 ERR ... 2021-5-2 2:5:34 Iteration 7 of 100\r\n",
      "T00 ERR ... 2021-5-2 2:5:34 Total Energy -40.4283348639\r\n",
      "T00 ERR ... 2021-5-2 2:5:34 DIIs error 4.0499216917e-05\r\n",
      "T00 ERR ... 2021-5-2 2:5:34 Delta Etot -2.77188460984e-06\r\n",
      "T00 ERR ... \r\n",
      "T00 ERR ... 2021-5-2 2:5:34 Iteration 8 of 100\r\n",
      "T00 ERR ... 2021-5-2 2:5:34 Total Energy -40.4283348731\r\n",
      "T00 ERR ... 2021-5-2 2:5:34 DIIs error 8.29240236105e-06\r\n",
      "T00 ERR ... 2021-5-2 2:5:34 Delta Etot -9.22544529658e-09\r\n",
      "T00 ERR ... \r\n",
      "T00 ERR ... 2021-5-2 2:5:34 Iteration 9 of 100\r\n",
      "T00 ERR ... 2021-5-2 2:5:35 Total Energy -40.4283348732\r\n",
      "T00 ERR ... 2021-5-2 2:5:35 DIIs error 4.11847976386e-06\r\n",
      "T00 ERR ... 2021-5-2 2:5:35 Delta Etot -3.51434437107e-11\r\n",
      "T00 ERR ... \r\n",
      "T00 ERR ... 2021-5-2 2:5:35 Iteration 10 of 100\r\n",
      "T00 ERR ... 2021-5-2 2:5:35 Total Energy -40.4283348733\r\n",
      "T00 ERR ... 2021-5-2 2:5:35 DIIs error 6.39551196753e-07\r\n",
      "T00 ERR ... 2021-5-2 2:5:35 Delta Etot -6.89297507961e-11\r\n",
      "T00 ERR ... \r\n",
      "T00 ERR ... 2021-5-2 2:5:35 Iteration 11 of 100\r\n",
      "T00 ERR ... 2021-5-2 2:5:35 Total Energy -40.4283348733\r\n",
      "T00 ERR ... 2021-5-2 2:5:35 DIIs error 1.34029600371e-07\r\n",
      "T00 ERR ... 2021-5-2 2:5:35 Delta Etot -1.92557081391e-12\r\n",
      "T00 ERR ... \r\n",
      "T00 ERR ... 2021-5-2 2:5:35 Iteration 12 of 100\r\n",
      "T00 ERR ... 2021-5-2 2:5:35 Total Energy -40.4283348733\r\n",
      "T00 ERR ... 2021-5-2 2:5:35 DIIs error 1.42665748544e-08\r\n",
      "T00 ERR ... 2021-5-2 2:5:35 Delta Etot -8.52651282912e-14\r\n",
      "T00 ERR ... 2021-5-2 2:5:35 Total Energy has converged to -8.52651283e-14[Ha] after 12 iterations. DIIS error is converged up to 1.42665749e-08\r\n",
      "T00 ERR ... 2021-5-2 2:5:35 Final Single Point Energy -40.4283348733 Ha\r\n",
      "T00 ERR ... 2021-5-2 2:5:35 Final Local Exc contribution -5.19288292765 Ha\r\n",
      "T00 ERR ... 2021-5-2 2:5:35 Final Non Local Ex contribution -1.64346676034 Ha\r\n",
      "T00 ERR ...   Orbital energies: \r\n",
      "T00 ERR ...   index occupation energy(Hartree) \r\n",
      "T00 ERR ...      0      2   -10.2155439702\r\n",
      "T00 ERR ...      1      2   -0.7051474502\r\n",
      "T00 ERR ...      2      2   -0.4018530763\r\n",
      "T00 ERR ...      3      2   -0.4013030561\r\n",
      "T00 ERR ...      4      2   -0.4005167239\r\n",
      "T00 ERR ...      5      0   +0.0873160644\r\n",
      "T00 ERR ...      6      0   +0.1580404991\r\n",
      "T00 ERR ...      7      0   +0.1586955443\r\n",
      "T00 ERR ...      8      0   +0.1589281315\r\n",
      "T00 ERR ...      9      0   +0.4330256012\r\n",
      "T00 ERR ...     10      0   +0.4342802104\r\n",
      "T00 ERR ...     11      0   +0.4352482599\r\n",
      "T00 ERR ...     12      0   +0.6747490915\r\n",
      "T00 ERR ...     13      0   +0.7038048165\r\n",
      "T00 ERR ...     14      0   +0.7052280157\r\n",
      "T00 ERR ...     15      0   +0.7057531842\r\n",
      "T00 ERR ...     16      0   +0.8002909160\r\n",
      "T00 ERR ...     17      0   +1.0999417333\r\n",
      "T00 ERR ...     18      0   +1.1004096807\r\n",
      "T00 ERR ...     19      0   +1.5445777049\r\n",
      "T00 ERR ...     20      0   +1.5470371037\r\n",
      "T00 ERR ...     21      0   +1.5494748355\r\n",
      "T00 ERR ...     22      0   +1.7740441528\r\n",
      "T00 ERR ...     23      0   +1.7790714705\r\n",
      "T00 ERR ...     24      0   +1.7829840060\r\n",
      "T00 ERR ...     25      0   +2.1478692073\r\n",
      "T00 ERR ...     26      0   +2.1543523363\r\n",
      "T00 ERR ...     27      0   +2.1593032775\r\n",
      "T00 ERR ...     28      0   +2.5457715880\r\n",
      "T00 ERR ...     29      0   +2.5462267824\r\n",
      "T00 ERR ...     30      0   +2.6358795669\r\n",
      "T00 ERR ...     31      0   +2.9321001950\r\n",
      "T00 ERR ...     32      0   +2.9387290718\r\n",
      "T00 ERR ...     33      0   +2.9434070937\r\n",
      "T00 ERR ... 2021-5-2 2:5:35 Electric Dipole is[e*bohr]:\r\n",
      "\t\t dx=0.000671714438752\r\n",
      "\t\t dy=0.00319883857112\r\n",
      "\t\t dz=-0.00105486264844\r\n",
      "T00 ERR ... Writing result to votca.orb\r\n",
      "T00 ERR ... QM energy[Hrt]: -40.42833487 \r\n",
      "T00 ERR ... 2021-5-2 2:5:35 RPA level range [0:33]\r\n",
      "T00 ERR ... 2021-5-2 2:5:35 GW  level range [0:13]\r\n",
      "T00 ERR ... 2021-5-2 2:5:35 BSE level range occ[0:4]  virt[5:13]\r\n",
      "T00 ERR ... 2021-5-2 2:5:35 BSE Hamiltonian has size 45x45\r\n",
      "T00 ERR ...  BSE type: full\r\n",
      "T00 ERR ...  BSE without Hqp offdiagonal elements\r\n",
      "T00 ERR ...  Running GW as: evGW\r\n",
      "T00 ERR ...  g_sc_limit [Hartree]: 1e-05\r\n",
      "T00 ERR ...  gw_sc_limit [Hartree]: 1e-05\r\n",
      "T00 ERR ...  Tasks: \r\n",
      "T00 ERR ...  GW \r\n",
      "T00 ERR ...  singlets \r\n",
      "T00 ERR ...  Store: \r\n",
      "T00 ERR ...  GW \r\n",
      "T00 ERR ...  Sigma integration: ppm\r\n",
      "T00 ERR ...  eta: 0.001\r\n",
      "T00 ERR ...  Quadrature integration order : 12\r\n",
      "T00 ERR ...  Quadrature integration scheme : legendre\r\n",
      "T00 ERR ...  Alpha smoothing parameter : 0.001\r\n",
      "T00 ERR ...  QP solver: grid\r\n",
      "T00 ERR ...  QP grid steps: 1001\r\n",
      "T00 ERR ...  QP grid spacing: 0.001\r\n",
      "T00 ERR ...  evGW with Anderson update with history 20 using alpha 0.7\r\n",
      "T00 ERR ... 2021-5-2 2:5:35 Using 2 threads\r\n",
      "T00 ERR ... 2021-5-2 2:5:35 Using native Eigen implementation, no BLAS overload \r\n",
      "T00 ERR ... 2021-5-2 2:5:35 Molecule Coordinates [A] \r\n",
      "T00 ERR ...     0    C   30.3000 1.2704 5.5205\r\n",
      "T00 ERR ...     1    H   31.2392 1.4802 6.0301\r\n",
      "T00 ERR ...     2    H   30.4910 0.6554 4.6433\r\n",
      "T00 ERR ...     3    H   29.8500 2.2100 5.2100\r\n",
      "T00 ERR ...     4    H   29.6200 0.7500 6.2000\r\n",
      "T00 ERR ... 2021-5-2 2:5:35 DFT data was created by xtp\r\n",
      "T00 ERR ... 2021-5-2 2:5:35 Loaded DFT Basis Set def2-svp\r\n",
      "T00 ERR ... 2021-5-2 2:5:35 Filled DFT Basis of size 34\r\n",
      "T00 ERR ... 2021-5-2 2:5:35 Loaded Auxbasis Set aux-def2-svp\r\n",
      "T00 ERR ... 2021-5-2 2:5:35 Filled Auxbasis of size 104\r\n",
      "T00 ERR ... 2021-5-2 2:5:35 Calculating Mmn_beta (3-center-repulsion x orbitals)  \r\n",
      "T00 ERR ... 2021-5-2 2:5:35 Calculated Mmn_beta (3-center-repulsion x orbitals)  \r\n",
      "T00 ERR ... 2021-5-2 2:5:35 Integrating Vxc in VOTCA with functional XC_HYB_GGA_XC_PBEH\r\n",
      "T00 ERR ... 2021-5-2 2:5:35 Set hybrid exchange factor: 0.25\r\n",
      "T00 ERR ... 2021-5-2 2:5:35 Calculated exchange-correlation expectation values \r\n",
      "T00 ERR ... 2021-5-2 2:5:35 Calculated Hartree exchange contribution\r\n",
      "T00 ERR ... 2021-5-2 2:5:35 Scissor shifting DFT energies by: 0 Hrt\r\n",
      "T00 ERR ...   ====== Perturbative quasiparticle energies (Hartree) ====== \r\n",
      "T00 ERR ...    DeltaHLGap = +0.205535 Hartree\r\n",
      "T00 ERR ...   Level =    0 DFT = -10.2155 VXC = -1.6995 S-X = -2.6641 S-C = +0.3756 GWA = -10.8046\r\n",
      "T00 ERR ...   Level =    1 DFT = -0.7051 VXC = -0.4442 S-X = -0.6638 S-C = +0.0825 GWA = -0.8422\r\n",
      "T00 ERR ...   Level =    2 DFT = -0.4019 VXC = -0.3984 S-X = -0.5342 S-C = +0.0166 GWA = -0.5210\r\n",
      "T00 ERR ...   Level =    3 DFT = -0.4013 VXC = -0.3981 S-X = -0.5336 S-C = +0.0164 GWA = -0.5205\r\n",
      "T00 ERR ...   HOMO  =    4 DFT = -0.4005 VXC = -0.3984 S-X = -0.5340 S-C = +0.0165 GWA = -0.5196\r\n",
      "T00 ERR ...   LUMO  =    5 DFT = +0.0873 VXC = -0.1668 S-X = -0.0618 S-C = -0.0186 GWA = +0.1738\r\n",
      "T00 ERR ...   Level =    6 DFT = +0.1580 VXC = -0.2033 S-X = -0.0792 S-C = -0.0233 GWA = +0.2590\r\n",
      "T00 ERR ...   Level =    7 DFT = +0.1587 VXC = -0.2030 S-X = -0.0790 S-C = -0.0232 GWA = +0.2596\r\n",
      "T00 ERR ...   Level =    8 DFT = +0.1589 VXC = -0.2028 S-X = -0.0788 S-C = -0.0232 GWA = +0.2598\r\n",
      "T00 ERR ...   Level =    9 DFT = +0.4330 VXC = -0.2605 S-X = -0.0984 S-C = -0.0300 GWA = +0.5651\r\n",
      "T00 ERR ...   Level =   10 DFT = +0.4343 VXC = -0.2608 S-X = -0.0984 S-C = -0.0301 GWA = +0.5666\r\n",
      "T00 ERR ...   Level =   11 DFT = +0.4352 VXC = -0.2609 S-X = -0.0983 S-C = -0.0302 GWA = +0.5676\r\n",
      "T00 ERR ...   Level =   12 DFT = +0.6747 VXC = -0.3539 S-X = -0.1453 S-C = -0.0757 GWA = +0.8076\r\n",
      "T00 ERR ...   Level =   13 DFT = +0.7038 VXC = -0.3485 S-X = -0.1218 S-C = -0.0883 GWA = +0.8422\r\n",
      "T00 ERR ... 2021-5-2 2:5:36 Calculated offdiagonal part of Sigma  \r\n",
      "T00 ERR ... 2021-5-2 2:5:36 Full quasiparticle Hamiltonian  \r\n",
      "T00 ERR ...   ====== Diagonalized quasiparticle energies (Hartree) ====== \r\n",
      "T00 ERR ...   Level =    0 PQP = -10.804624 DQP = -10.804684 \r\n",
      "T00 ERR ...   Level =    1 PQP = -0.842223 DQP = -0.842330 \r\n",
      "T00 ERR ...   Level =    2 PQP = -0.521043 DQP = -0.521146 \r\n",
      "T00 ERR ...   Level =    3 PQP = -0.520454 DQP = -0.520575 \r\n",
      "T00 ERR ...   HOMO  =    4 PQP = -0.519610 DQP = -0.519708 \r\n",
      "T00 ERR ...   LUMO  =    5 PQP = +0.173758 DQP = +0.172572 \r\n",
      "T00 ERR ...   Level =    6 PQP = +0.258964 DQP = +0.257085 \r\n",
      "T00 ERR ...   Level =    7 PQP = +0.259577 DQP = +0.259238 \r\n",
      "T00 ERR ...   Level =    8 PQP = +0.259752 DQP = +0.259485 \r\n",
      "T00 ERR ...   Level =    9 PQP = +0.565118 DQP = +0.565520 \r\n",
      "T00 ERR ...   Level =   10 PQP = +0.566580 DQP = +0.566975 \r\n",
      "T00 ERR ...   Level =   11 PQP = +0.567579 DQP = +0.567978 \r\n",
      "T00 ERR ...   Level =   12 PQP = +0.807555 DQP = +0.808905 \r\n",
      "T00 ERR ...   Level =   13 PQP = +0.842239 DQP = +0.843852 \r\n",
      "T00 ERR ... 2021-5-2 2:5:36 Diagonalized QP Hamiltonian  \r\n",
      "T00 ERR ... 2021-5-2 2:5:36 Setup Full singlet hamiltonian \r\n",
      "T00 ERR ... 2021-5-2 2:5:36 Davidson Solver using 2 threads.\r\n",
      "T00 ERR ... 2021-5-2 2:5:36 Tolerance : 0.0001\r\n",
      "T00 ERR ... 2021-5-2 2:5:36 DPR Correction\r\n",
      "T00 ERR ... 2021-5-2 2:5:36 Matrix size : 90x90\r\n",
      "T00 ERR ... 2021-5-2 2:5:36 iter\tSearch Space\tNorm\r\n",
      "T00 ERR ... 2021-5-2 2:5:36    0           10 \t 5.73e-02 \t  0.00% converged\r\n",
      "T00 ERR ... 2021-5-2 2:5:36    1           17 \t 2.82e-02 \t  0.00% converged\r\n",
      "T00 ERR ... 2021-5-2 2:5:36    2           24 \t 1.59e-02 \t  0.00% converged\r\n",
      "T00 ERR ... 2021-5-2 2:5:36    3           31 \t 2.92e-03 \t 60.00% converged\r\n",
      "T00 ERR ... 2021-5-2 2:5:36    4           35 \t 2.02e-04 \t 80.00% converged\r\n",
      "T00 ERR ... 2021-5-2 2:5:36    5           37 \t 4.42e-05 \t 100.00% converged\r\n",
      "T00 ERR ... 2021-5-2 2:5:36 Davidson converged after 5 iterations.\r\n",
      "T00 ERR ... 2021-5-2 2:5:36-----------------------------------\r\n",
      "T00 ERR ... 2021-5-2 2:5:36- Davidson ran for 0.010410487secs.\r\n",
      "T00 ERR ... 2021-5-2 2:5:36-----------------------------------\r\n",
      "T00 ERR ... 2021-5-2 2:5:36 Solved BSE for singlets \r\n",
      "T00 ERR ...   ====== singlet energies (eV) ====== \r\n",
      "T00 ERR ...   S =    1 Omega = +12.238216313939 eV  lamdba = +101.32 nm <FT> = +19.0081 <K_x> = +0.8682 <K_d> = -7.6381\r\n",
      "T00 ERR ...            TrDipole length gauge[e*bohr]  dx = -0.4627 dy = +0.6020 dz = -0.4784 |d|^2 = +0.8052 f = +0.2414\r\n",
      "T00 ERR ...            HOMO-0   -> LUMO+0    : 98.3%\r\n",
      "T00 ERR ... \r\n",
      "T00 ERR ...   S =    2 Omega = +12.256189015095 eV  lamdba = +101.17 nm <FT> = +19.0436 <K_x> = +0.8526 <K_d> = -7.6400\r\n",
      "T00 ERR ...            TrDipole length gauge[e*bohr]  dx = +0.7649 dy = +0.4729 dz = -0.1553 |d|^2 = +0.8329 f = +0.2501\r\n",
      "T00 ERR ...            HOMO-1   -> LUMO+0    : 96.5%\r\n",
      "T00 ERR ... \r\n",
      "T00 ERR ...   S =    3 Omega = +12.278446707808 eV  lamdba = +100.99 nm <FT> = +19.0484 <K_x> = +0.8724 <K_d> = -7.6424\r\n",
      "T00 ERR ...            TrDipole length gauge[e*bohr]  dx = +0.1499 dy = -0.4753 dz = -0.7571 |d|^2 = +0.8215 f = +0.2471\r\n",
      "T00 ERR ...            HOMO-2   -> LUMO+0    : 97.1%\r\n",
      "T00 ERR ... \r\n",
      "T00 ERR ...   S =    4 Omega = +13.876840966781 eV  lamdba = +89.36 nm <FT> = +21.3641 <K_x> = +0.2514 <K_d> = -7.7387\r\n",
      "T00 ERR ...            TrDipole length gauge[e*bohr]  dx = +0.0830 dy = -0.0229 dz = +0.0185 |d|^2 = +0.0078 f = +0.0026\r\n",
      "T00 ERR ...            HOMO-0   -> LUMO+1    : 67.2%\r\n",
      "T00 ERR ... \r\n",
      "T00 ERR ...   S =    5 Omega = +13.905418816386 eV  lamdba = +89.17 nm <FT> = +21.3870 <K_x> = +0.2471 <K_d> = -7.7287\r\n",
      "T00 ERR ...            TrDipole length gauge[e*bohr]  dx = +0.0133 dy = +0.0444 dz = +0.0585 |d|^2 = +0.0056 f = +0.0019\r\n",
      "T00 ERR ...            HOMO-2   -> LUMO+1    : 51.9%\r\n",
      "T00 ERR ... \r\n",
      "T00 ERR ... 2021-5-2 2:5:36 GWBSE calculation finished \r\n",
      "T00 ERR ... Filter overlap not used in first iteration as it needs a reference state\r\n",
      "T00 ERR ... No State found by tracker using last state: s1\r\n",
      "T00 ERR ... 2021-5-2 2:5:36 Evaluating polar 1\r\n",
      "T00 ERR ... 2021-5-2 2:5:36 Evaluating interaction between polar 1 and qm 0\r\n",
      "T00 ERR ... Next State is: s1\r\n",
      "T00 ERR ... 2021-5-2 2:5:36 Evaluating interaction between polar 1 and static 2\r\n",
      "T00 ERR ... 2021-5-2 2:5:36 Starting Solving for classical polarization with 1380 degrees of freedom.\r\n",
      "T00 ERR ... 2021-5-2 2:5:37 CG: #iterations: 7, estimated error: 4.94939136576e-06\r\n",
      "T00 ERR ...   Total static energy [hrt]= 0.0009102654542\r\n",
      "T00 ERR ...   Total polar energy [hrt]= -0.0002985415123\r\n",
      "T00 ERR ...  Total energy [hrt]= 0.0006117239419\r\n",
      "T00 ERR ... 2021-5-2 2:5:37 Evaluating static 2\r\n",
      "T00 ERR ... 2021-5-2 2:5:37 Writing checkpoint to checkpoint_iter_1.hdf5\r\n",
      "T00 ERR ...  Region:qm 0 is not converged deltaE=-39.97858872 RMS Dmat=0.3394153921 MaxDmat=7.053509991\r\n",
      "T00 ERR ... 2021-5-2 2:5:37 Region:polar 1 is not converged deltaE=0.0006117239419\r\n",
      "T00 ERR ... 2021-5-2 2:5:37 --Total Energy all regions -39.97797699\r\n",
      "T00 ERR ... 2021-5-2 2:5:37 --Inter Region SCF Iteration 2 of 50\r\n",
      "T00 ERR ... 2021-5-2 2:5:37 Evaluating qm 0\r\n",
      "T00 ERR ... 2021-5-2 2:5:37 Evaluating interaction between qm 0 and polar 1\r\n",
      "T00 ERR ... 2021-5-2 2:5:37 Evaluating interaction between qm 0 and static 2\r\n",
      "T00 ERR ... Running DFT calculation\r\n",
      "T00 ERR ... 2021-5-2 2:5:37 Using 2 threads\r\n",
      "T00 ERR ... 2021-5-2 2:5:37 Using native Eigen implementation, no BLAS overload \r\n",
      "T00 ERR ...  Molecule Coordinates [A] \r\n",
      "T00 ERR ...   C   +30.3000 +1.2704 +5.5205\r\n",
      "T00 ERR ...   H   +31.2392 +1.4802 +6.0301\r\n",
      "T00 ERR ...   H   +30.4910 +0.6554 +4.6433\r\n",
      "T00 ERR ...   H   +29.8500 +2.2100 +5.2100\r\n",
      "T00 ERR ...   H   +29.6200 +0.7500 +6.2000\r\n",
      "T00 ERR ... 2021-5-2 2:5:37 Loaded DFT Basis Set def2-svp with 34 functions\r\n",
      "T00 ERR ... 2021-5-2 2:5:37 Total number of electrons: 10\r\n",
      "T00 ERR ... 2021-5-2 2:5:37 Smallest value of AOOverlap matrix is 0.01388201597\r\n",
      "T00 ERR ... 2021-5-2 2:5:37 Removed 0 basisfunction from inverse overlap matrix\r\n",
      "T00 ERR ... 2021-5-2 2:5:37 Convergence Options:\r\n",
      "T00 ERR ... \t\t Delta E [Ha]: 1e-07\r\n",
      "T00 ERR ... \t\t DIIS max error: 1e-07\r\n",
      "T00 ERR ... \t\t DIIS histlength: 20\r\n",
      "T00 ERR ... \t\t ADIIS start: 0.8\r\n",
      "T00 ERR ... \t\t DIIS start: 0.002\r\n",
      "T00 ERR ... \t\t Deleting oldest element from DIIS hist\r\n",
      "T00 ERR ... \t\t Levelshift[Ha]: 0\r\n",
      "T00 ERR ... \t\t Levelshift end: 0.2\r\n",
      "T00 ERR ... \t\t Mixing Parameter alpha: 0.7\r\n",
      "T00 ERR ... 2021-5-2 2:5:37 Constructed independent particle hamiltonian \r\n",
      "T00 ERR ... 2021-5-2 2:5:37 Nuclear Repulsion Energy is 13.4434088\r\n",
      "T00 ERR ... 2021-5-2 2:5:37 Using hybrid functional with alpha=0.25\r\n",
      "T00 ERR ... 2021-5-2 2:5:37 Setup numerical integration grid medium for vxc functional XC_HYB_GGA_XC_PBEH\r\n",
      "T00 ERR ... 2021-5-2 2:5:37 Setup Initial Guess using: atom\r\n",
      "T00 ERR ... 2021-5-2 2:5:37 Calculating atom density for C\r\n",
      "T00 ERR ... 2021-5-2 2:5:38 Calculating atom density for H\r\n",
      "T00 ERR ... 2021-5-2 2:5:38 STARTING SCF cycle\r\n",
      "T00 ERR ...  --------------------------------------------------------------------------\r\n",
      "T00 ERR ... \r\n",
      "T00 ERR ... 2021-5-2 2:5:38 Iteration 1 of 100\r\n",
      "T00 ERR ... 2021-5-2 2:5:38 Total Energy -40.3160382356\r\n",
      "T00 ERR ... 2021-5-2 2:5:38 DIIs error 0.224343479818\r\n",
      "T00 ERR ... 2021-5-2 2:5:38 Delta Etot 0\r\n",
      "T00 ERR ... \r\n",
      "T00 ERR ... 2021-5-2 2:5:38 Iteration 2 of 100\r\n",
      "T00 ERR ... 2021-5-2 2:5:38 Total Energy -40.3631646134\r\n",
      "T00 ERR ... 2021-5-2 2:5:38 DIIs error 0.134009744313\r\n",
      "T00 ERR ... 2021-5-2 2:5:38 Delta Etot -0.047126377752\r\n",
      "T00 ERR ... \r\n",
      "T00 ERR ... 2021-5-2 2:5:38 Iteration 3 of 100\r\n",
      "T00 ERR ... 2021-5-2 2:5:39 Total Energy -40.3846940826\r\n",
      "T00 ERR ... 2021-5-2 2:5:39 DIIs error 0.0839223444315\r\n",
      "T00 ERR ... 2021-5-2 2:5:39 Delta Etot -0.021529469253\r\n",
      "T00 ERR ... \r\n",
      "T00 ERR ... 2021-5-2 2:5:39 Iteration 4 of 100\r\n",
      "T00 ERR ... 2021-5-2 2:5:39 Total Energy -40.4256412728\r\n",
      "T00 ERR ... 2021-5-2 2:5:39 DIIs error 0.0278434439037\r\n",
      "T00 ERR ... 2021-5-2 2:5:39 Delta Etot -0.0409471901588\r\n",
      "T00 ERR ... \r\n",
      "T00 ERR ... 2021-5-2 2:5:39 Iteration 5 of 100\r\n",
      "T00 ERR ... 2021-5-2 2:5:39 Total Energy -40.4252782797\r\n",
      "T00 ERR ... 2021-5-2 2:5:39 DIIs error 0.0303866011461\r\n",
      "T00 ERR ... 2021-5-2 2:5:39 Delta Etot 0.000362993040866\r\n",
      "T00 ERR ... \r\n",
      "T00 ERR ... 2021-5-2 2:5:39 Iteration 6 of 100\r\n",
      "T00 ERR ... 2021-5-2 2:5:39 Total Energy -40.428332092\r\n",
      "T00 ERR ... 2021-5-2 2:5:39 DIIs error 0.00090014907211\r\n",
      "T00 ERR ... 2021-5-2 2:5:39 Delta Etot -0.00305381231328\r\n",
      "T00 ERR ... \r\n",
      "T00 ERR ... 2021-5-2 2:5:39 Iteration 7 of 100\r\n",
      "T00 ERR ... 2021-5-2 2:5:39 Total Energy -40.4283348639\r\n",
      "T00 ERR ... 2021-5-2 2:5:39 DIIs error 4.04992169138e-05\r\n",
      "T00 ERR ... 2021-5-2 2:5:39 Delta Etot -2.77188463826e-06\r\n",
      "T00 ERR ... \r\n",
      "T00 ERR ... 2021-5-2 2:5:39 Iteration 8 of 100\r\n",
      "T00 ERR ... 2021-5-2 2:5:39 Total Energy -40.4283348731\r\n",
      "T00 ERR ... 2021-5-2 2:5:39 DIIs error 8.29240234062e-06\r\n",
      "T00 ERR ... 2021-5-2 2:5:39 Delta Etot -9.22545950743e-09\r\n",
      "T00 ERR ... \r\n",
      "T00 ERR ... 2021-5-2 2:5:39 Iteration 9 of 100\r\n",
      "T00 ERR ... 2021-5-2 2:5:39 Total Energy -40.4283348732\r\n",
      "T00 ERR ... 2021-5-2 2:5:39 DIIs error 4.11847974434e-06\r\n",
      "T00 ERR ... 2021-5-2 2:5:39 Delta Etot -3.52144979843e-11\r\n",
      "T00 ERR ... \r\n",
      "T00 ERR ... 2021-5-2 2:5:39 Iteration 10 of 100\r\n",
      "T00 ERR ... 2021-5-2 2:5:40 Total Energy -40.4283348733\r\n",
      "T00 ERR ... 2021-5-2 2:5:40 DIIs error 6.3955119384e-07\r\n",
      "T00 ERR ... 2021-5-2 2:5:40 Delta Etot -6.88302748131e-11\r\n",
      "T00 ERR ... \r\n",
      "T00 ERR ... 2021-5-2 2:5:40 Iteration 11 of 100\r\n",
      "T00 ERR ... 2021-5-2 2:5:40 Total Energy -40.4283348733\r\n",
      "T00 ERR ... 2021-5-2 2:5:40 DIIs error 1.34029576917e-07\r\n",
      "T00 ERR ... 2021-5-2 2:5:40 Delta Etot -1.9610979507e-12\r\n",
      "T00 ERR ... \r\n",
      "T00 ERR ... 2021-5-2 2:5:40 Iteration 12 of 100\r\n",
      "T00 ERR ... 2021-5-2 2:5:40 Total Energy -40.4283348733\r\n",
      "T00 ERR ... 2021-5-2 2:5:40 DIIs error 1.42665737839e-08\r\n",
      "T00 ERR ... 2021-5-2 2:5:40 Delta Etot -7.81597009336e-14\r\n",
      "T00 ERR ... 2021-5-2 2:5:40 Total Energy has converged to -7.81597009e-14[Ha] after 12 iterations. DIIS error is converged up to 1.42665738e-08\r\n",
      "T00 ERR ... 2021-5-2 2:5:40 Final Single Point Energy -40.4283348733 Ha\r\n",
      "T00 ERR ... 2021-5-2 2:5:40 Final Local Exc contribution -5.19288292765 Ha\r\n",
      "T00 ERR ... 2021-5-2 2:5:40 Final Non Local Ex contribution -1.64346676034 Ha\r\n",
      "T00 ERR ...   Orbital energies: \r\n",
      "T00 ERR ...   index occupation energy(Hartree) \r\n",
      "T00 ERR ...      0      2   -10.2155439702\r\n",
      "T00 ERR ...      1      2   -0.7051474502\r\n",
      "T00 ERR ...      2      2   -0.4018530763\r\n",
      "T00 ERR ...      3      2   -0.4013030561\r\n",
      "T00 ERR ...      4      2   -0.4005167239\r\n",
      "T00 ERR ...      5      0   +0.0873160644\r\n",
      "T00 ERR ...      6      0   +0.1580404991\r\n",
      "T00 ERR ...      7      0   +0.1586955443\r\n",
      "T00 ERR ...      8      0   +0.1589281315\r\n",
      "T00 ERR ...      9      0   +0.4330256012\r\n",
      "T00 ERR ...     10      0   +0.4342802104\r\n",
      "T00 ERR ...     11      0   +0.4352482599\r\n",
      "T00 ERR ...     12      0   +0.6747490915\r\n",
      "T00 ERR ...     13      0   +0.7038048165\r\n",
      "T00 ERR ...     14      0   +0.7052280157\r\n",
      "T00 ERR ...     15      0   +0.7057531842\r\n",
      "T00 ERR ...     16      0   +0.8002909160\r\n",
      "T00 ERR ...     17      0   +1.0999417333\r\n",
      "T00 ERR ...     18      0   +1.1004096807\r\n",
      "T00 ERR ...     19      0   +1.5445777049\r\n",
      "T00 ERR ...     20      0   +1.5470371037\r\n",
      "T00 ERR ...     21      0   +1.5494748355\r\n",
      "T00 ERR ...     22      0   +1.7740441528\r\n",
      "T00 ERR ...     23      0   +1.7790714705\r\n",
      "T00 ERR ...     24      0   +1.7829840060\r\n",
      "T00 ERR ...     25      0   +2.1478692073\r\n",
      "T00 ERR ...     26      0   +2.1543523363\r\n",
      "T00 ERR ...     27      0   +2.1593032775\r\n",
      "T00 ERR ...     28      0   +2.5457715880\r\n",
      "T00 ERR ...     29      0   +2.5462267824\r\n",
      "T00 ERR ...     30      0   +2.6358795669\r\n",
      "T00 ERR ...     31      0   +2.9321001950\r\n",
      "T00 ERR ...     32      0   +2.9387290718\r\n",
      "T00 ERR ...     33      0   +2.9434070937\r\n",
      "T00 ERR ... 2021-5-2 2:5:40 Electric Dipole is[e*bohr]:\r\n",
      "\t\t dx=0.000671714438754\r\n",
      "\t\t dy=0.00319883857115\r\n",
      "\t\t dz=-0.00105486264845\r\n",
      "T00 ERR ... Writing result to votca.orb\r\n",
      "T00 ERR ... QM energy[Hrt]: -40.42833487 \r\n",
      "T00 ERR ... 2021-5-2 2:5:40 RPA level range [0:33]\r\n",
      "T00 ERR ... 2021-5-2 2:5:40 GW  level range [0:13]\r\n",
      "T00 ERR ... 2021-5-2 2:5:40 BSE level range occ[0:4]  virt[5:13]\r\n",
      "T00 ERR ... 2021-5-2 2:5:40 BSE Hamiltonian has size 45x45\r\n",
      "T00 ERR ...  BSE type: full\r\n",
      "T00 ERR ...  BSE without Hqp offdiagonal elements\r\n",
      "T00 ERR ...  Running GW as: evGW\r\n",
      "T00 ERR ...  g_sc_limit [Hartree]: 1e-05\r\n",
      "T00 ERR ...  gw_sc_limit [Hartree]: 1e-05\r\n",
      "T00 ERR ...  Tasks: \r\n",
      "T00 ERR ...  GW \r\n",
      "T00 ERR ...  singlets \r\n",
      "T00 ERR ...  Store: \r\n",
      "T00 ERR ...  GW \r\n",
      "T00 ERR ...  Sigma integration: ppm\r\n",
      "T00 ERR ...  eta: 0.001\r\n",
      "T00 ERR ...  Quadrature integration order : 12\r\n",
      "T00 ERR ...  Quadrature integration scheme : legendre\r\n",
      "T00 ERR ...  Alpha smoothing parameter : 0.001\r\n",
      "T00 ERR ...  QP solver: grid\r\n",
      "T00 ERR ...  QP grid steps: 1001\r\n",
      "T00 ERR ...  QP grid spacing: 0.001\r\n",
      "T00 ERR ...  evGW with Anderson update with history 20 using alpha 0.7\r\n",
      "T00 ERR ... 2021-5-2 2:5:40 Using 2 threads\r\n",
      "T00 ERR ... 2021-5-2 2:5:40 Using native Eigen implementation, no BLAS overload \r\n",
      "T00 ERR ... 2021-5-2 2:5:40 Molecule Coordinates [A] \r\n",
      "T00 ERR ...     0    C   30.3000 1.2704 5.5205\r\n",
      "T00 ERR ...     1    H   31.2392 1.4802 6.0301\r\n",
      "T00 ERR ...     2    H   30.4910 0.6554 4.6433\r\n",
      "T00 ERR ...     3    H   29.8500 2.2100 5.2100\r\n",
      "T00 ERR ...     4    H   29.6200 0.7500 6.2000\r\n",
      "T00 ERR ... 2021-5-2 2:5:40 DFT data was created by xtp\r\n",
      "T00 ERR ... 2021-5-2 2:5:40 Loaded DFT Basis Set def2-svp\r\n",
      "T00 ERR ... 2021-5-2 2:5:40 Filled DFT Basis of size 34\r\n",
      "T00 ERR ... 2021-5-2 2:5:40 Loaded Auxbasis Set aux-def2-svp\r\n",
      "T00 ERR ... 2021-5-2 2:5:40 Filled Auxbasis of size 104\r\n",
      "T00 ERR ... 2021-5-2 2:5:40 Calculating Mmn_beta (3-center-repulsion x orbitals)  \r\n",
      "T00 ERR ... 2021-5-2 2:5:40 Calculated Mmn_beta (3-center-repulsion x orbitals)  \r\n",
      "T00 ERR ... 2021-5-2 2:5:40 Integrating Vxc in VOTCA with functional XC_HYB_GGA_XC_PBEH\r\n",
      "T00 ERR ... 2021-5-2 2:5:40 Set hybrid exchange factor: 0.25\r\n",
      "T00 ERR ... 2021-5-2 2:5:40 Calculated exchange-correlation expectation values \r\n",
      "T00 ERR ... 2021-5-2 2:5:40 Calculated Hartree exchange contribution\r\n",
      "T00 ERR ... 2021-5-2 2:5:40 Scissor shifting DFT energies by: 0 Hrt\r\n",
      "T00 ERR ...   ====== Perturbative quasiparticle energies (Hartree) ====== \r\n",
      "T00 ERR ...    DeltaHLGap = +0.205535 Hartree\r\n",
      "T00 ERR ...   Level =    0 DFT = -10.2155 VXC = -1.6995 S-X = -2.6641 S-C = +0.3756 GWA = -10.8046\r\n",
      "T00 ERR ...   Level =    1 DFT = -0.7051 VXC = -0.4442 S-X = -0.6638 S-C = +0.0825 GWA = -0.8422\r\n",
      "T00 ERR ...   Level =    2 DFT = -0.4019 VXC = -0.3984 S-X = -0.5342 S-C = +0.0166 GWA = -0.5210\r\n",
      "T00 ERR ...   Level =    3 DFT = -0.4013 VXC = -0.3981 S-X = -0.5336 S-C = +0.0164 GWA = -0.5205\r\n",
      "T00 ERR ...   HOMO  =    4 DFT = -0.4005 VXC = -0.3984 S-X = -0.5340 S-C = +0.0165 GWA = -0.5196\r\n",
      "T00 ERR ...   LUMO  =    5 DFT = +0.0873 VXC = -0.1668 S-X = -0.0618 S-C = -0.0186 GWA = +0.1738\r\n",
      "T00 ERR ...   Level =    6 DFT = +0.1580 VXC = -0.2033 S-X = -0.0792 S-C = -0.0233 GWA = +0.2590\r\n",
      "T00 ERR ...   Level =    7 DFT = +0.1587 VXC = -0.2030 S-X = -0.0790 S-C = -0.0232 GWA = +0.2596\r\n",
      "T00 ERR ...   Level =    8 DFT = +0.1589 VXC = -0.2028 S-X = -0.0788 S-C = -0.0232 GWA = +0.2598\r\n",
      "T00 ERR ...   Level =    9 DFT = +0.4330 VXC = -0.2605 S-X = -0.0984 S-C = -0.0300 GWA = +0.5651\r\n",
      "T00 ERR ...   Level =   10 DFT = +0.4343 VXC = -0.2608 S-X = -0.0984 S-C = -0.0301 GWA = +0.5666\r\n",
      "T00 ERR ...   Level =   11 DFT = +0.4352 VXC = -0.2609 S-X = -0.0983 S-C = -0.0302 GWA = +0.5676\r\n",
      "T00 ERR ...   Level =   12 DFT = +0.6747 VXC = -0.3539 S-X = -0.1453 S-C = -0.0757 GWA = +0.8076\r\n",
      "T00 ERR ...   Level =   13 DFT = +0.7038 VXC = -0.3485 S-X = -0.1218 S-C = -0.0883 GWA = +0.8422\r\n",
      "T00 ERR ... 2021-5-2 2:5:41 Calculated offdiagonal part of Sigma  \r\n",
      "T00 ERR ... 2021-5-2 2:5:41 Full quasiparticle Hamiltonian  \r\n",
      "T00 ERR ...   ====== Diagonalized quasiparticle energies (Hartree) ====== \r\n",
      "T00 ERR ...   Level =    0 PQP = -10.804624 DQP = -10.804684 \r\n",
      "T00 ERR ...   Level =    1 PQP = -0.842223 DQP = -0.842330 \r\n",
      "T00 ERR ...   Level =    2 PQP = -0.521043 DQP = -0.521146 \r\n",
      "T00 ERR ...   Level =    3 PQP = -0.520454 DQP = -0.520575 \r\n",
      "T00 ERR ...   HOMO  =    4 PQP = -0.519610 DQP = -0.519708 \r\n",
      "T00 ERR ...   LUMO  =    5 PQP = +0.173758 DQP = +0.172572 \r\n",
      "T00 ERR ...   Level =    6 PQP = +0.258964 DQP = +0.257085 \r\n",
      "T00 ERR ...   Level =    7 PQP = +0.259577 DQP = +0.259238 \r\n",
      "T00 ERR ...   Level =    8 PQP = +0.259752 DQP = +0.259485 \r\n",
      "T00 ERR ...   Level =    9 PQP = +0.565118 DQP = +0.565520 \r\n",
      "T00 ERR ...   Level =   10 PQP = +0.566580 DQP = +0.566975 \r\n",
      "T00 ERR ...   Level =   11 PQP = +0.567579 DQP = +0.567978 \r\n",
      "T00 ERR ...   Level =   12 PQP = +0.807555 DQP = +0.808905 \r\n",
      "T00 ERR ...   Level =   13 PQP = +0.842239 DQP = +0.843852 \r\n",
      "T00 ERR ... 2021-5-2 2:5:41 Diagonalized QP Hamiltonian  \r\n",
      "T00 ERR ... 2021-5-2 2:5:41 Setup Full singlet hamiltonian \r\n",
      "T00 ERR ... 2021-5-2 2:5:41 Davidson Solver using 2 threads.\r\n",
      "T00 ERR ... 2021-5-2 2:5:41 Tolerance : 0.0001\r\n",
      "T00 ERR ... 2021-5-2 2:5:41 DPR Correction\r\n",
      "T00 ERR ... 2021-5-2 2:5:41 Matrix size : 90x90\r\n",
      "T00 ERR ... 2021-5-2 2:5:41 iter\tSearch Space\tNorm\r\n",
      "T00 ERR ... 2021-5-2 2:5:41    0           10 \t 5.73e-02 \t  0.00% converged\r\n",
      "T00 ERR ... 2021-5-2 2:5:41    1           17 \t 2.82e-02 \t  0.00% converged\r\n",
      "T00 ERR ... 2021-5-2 2:5:41    2           24 \t 1.59e-02 \t  0.00% converged\r\n",
      "T00 ERR ... 2021-5-2 2:5:41    3           31 \t 2.92e-03 \t 60.00% converged\r\n",
      "T00 ERR ... 2021-5-2 2:5:41    4           35 \t 2.02e-04 \t 80.00% converged\r\n",
      "T00 ERR ... 2021-5-2 2:5:41    5           37 \t 4.42e-05 \t 100.00% converged\r\n",
      "T00 ERR ... 2021-5-2 2:5:41 Davidson converged after 5 iterations.\r\n",
      "T00 ERR ... 2021-5-2 2:5:41-----------------------------------\r\n",
      "T00 ERR ... 2021-5-2 2:5:41- Davidson ran for 0.01076479secs.\r\n",
      "T00 ERR ... 2021-5-2 2:5:41-----------------------------------\r\n",
      "T00 ERR ... 2021-5-2 2:5:41 Solved BSE for singlets \r\n",
      "T00 ERR ...   ====== singlet energies (eV) ====== \r\n",
      "T00 ERR ...   S =    1 Omega = +12.238216313939 eV  lamdba = +101.32 nm <FT> = +19.0081 <K_x> = +0.8682 <K_d> = -7.6381\r\n",
      "T00 ERR ...            TrDipole length gauge[e*bohr]  dx = -0.4627 dy = +0.6020 dz = -0.4784 |d|^2 = +0.8052 f = +0.2414\r\n",
      "T00 ERR ...            HOMO-0   -> LUMO+0    : 98.3%\r\n",
      "T00 ERR ... \r\n",
      "T00 ERR ...   S =    2 Omega = +12.256189015095 eV  lamdba = +101.17 nm <FT> = +19.0436 <K_x> = +0.8526 <K_d> = -7.6400\r\n",
      "T00 ERR ...            TrDipole length gauge[e*bohr]  dx = +0.7649 dy = +0.4729 dz = -0.1553 |d|^2 = +0.8329 f = +0.2501\r\n",
      "T00 ERR ...            HOMO-1   -> LUMO+0    : 96.5%\r\n",
      "T00 ERR ... \r\n",
      "T00 ERR ...   S =    3 Omega = +12.278446707808 eV  lamdba = +100.99 nm <FT> = +19.0484 <K_x> = +0.8724 <K_d> = -7.6424\r\n",
      "T00 ERR ...            TrDipole length gauge[e*bohr]  dx = -0.1499 dy = +0.4753 dz = +0.7571 |d|^2 = +0.8215 f = +0.2471\r\n",
      "T00 ERR ...            HOMO-2   -> LUMO+0    : 97.1%\r\n",
      "T00 ERR ... \r\n",
      "T00 ERR ...   S =    4 Omega = +13.876840966781 eV  lamdba = +89.36 nm <FT> = +21.3641 <K_x> = +0.2514 <K_d> = -7.7387\r\n",
      "T00 ERR ...            TrDipole length gauge[e*bohr]  dx = -0.0830 dy = +0.0229 dz = -0.0185 |d|^2 = +0.0078 f = +0.0026\r\n",
      "T00 ERR ...            HOMO-0   -> LUMO+1    : 67.2%\r\n",
      "T00 ERR ... \r\n",
      "T00 ERR ...   S =    5 Omega = +13.905418816386 eV  lamdba = +89.17 nm <FT> = +21.3870 <K_x> = +0.2471 <K_d> = -7.7287\r\n",
      "T00 ERR ...            TrDipole length gauge[e*bohr]  dx = -0.0133 dy = -0.0444 dz = -0.0585 |d|^2 = +0.0056 f = +0.0019\r\n",
      "T00 ERR ...            HOMO-2   -> LUMO+1    : 51.9%\r\n",
      "T00 ERR ... \r\n",
      "T00 ERR ... 2021-5-2 2:5:41 GWBSE calculation finished \r\n",
      "T00 ERR ... Next State is: s1\r\n",
      "T00 ERR ... 2021-5-2 2:5:41 Evaluating polar 1\r\n",
      "T00 ERR ... 2021-5-2 2:5:41 Evaluating interaction between polar 1 and qm 0\r\n",
      "T00 ERR ... Next State is: s1\r\n",
      "T00 ERR ... 2021-5-2 2:5:41 Evaluating interaction between polar 1 and static 2\r\n",
      "T00 ERR ... 2021-5-2 2:5:41 Starting Solving for classical polarization with 1380 degrees of freedom.\r\n",
      "T00 ERR ... 2021-5-2 2:5:41 CG: #iterations: 0, estimated error: 4.94939149911e-06\r\n",
      "T00 ERR ...   Total static energy [hrt]= 0.0009102654542\r\n",
      "T00 ERR ...   Total polar energy [hrt]= -0.0002985415123\r\n",
      "T00 ERR ...  Total energy [hrt]= 0.0006117239419\r\n",
      "T00 ERR ... 2021-5-2 2:5:41 Evaluating static 2\r\n",
      "T00 ERR ... 2021-5-2 2:5:41 Writing checkpoint to checkpoint_iter_2.hdf5\r\n",
      "T00 ERR ...  Region:qm 0 is converged deltaE=-2.842170943e-14 RMS Dmat=2.028489328e-13 MaxDmat=2.992273096e-12\r\n",
      "T00 ERR ... 2021-5-2 2:5:42 Region:polar 1 is converged deltaE=0\r\n",
      "T00 ERR ... 2021-5-2 2:5:42 --Total Energy all regions -39.97797699\r\n",
      "T00 ERR ... 2021-5-2 2:5:42 Job converged after 2 iterations.\r\n",
      "T00 ERR ... Next State is: s1\r\n",
      "T00 ERR ... Reporting job results\r\n",
      "\r\n",
      "T00 ERR ... Requesting next job\r\n",
      "T00 ERR ... Assign jobs from stack\r\n",
      "T00 ERR ... Sync did not yield any new jobs.\r\n",
      "T00 ERR ... Next job: ID = - (none available)\r\n",
      "MST ERR Assign jobs from stack\r\n",
      "Changes have not been written to state file.\r\n"
     ]
    }
   ],
   "source": [
    "!sed -i \"s/AVAILABLE/COMPLETE/g\" qmmm_jobs.xml                                                                                                                                                            \n",
    "!sed -i '0,/COMPLETE/s/COMPLETE/AVAILABLE/' qmmm_jobs.xml   \n",
    "!sed -i '0,/COMPLETE/s/COMPLETE/AVAILABLE/' qmmm_jobs.xml  \n",
    "!xtp_parallel -e qmmm -o OPTIONFILES/qmmm.xml -p 2 -f state.hdf5 -j run"
   ]
  },
  {
   "cell_type": "markdown",
   "metadata": {},
   "source": [
    "Finally, save the results"
   ]
  },
  {
   "cell_type": "code",
   "execution_count": 41,
   "metadata": {
    "execution": {
     "iopub.execute_input": "2021-05-02T02:05:42.742715Z",
     "iopub.status.busy": "2021-05-02T02:05:42.742189Z",
     "iopub.status.idle": "2021-05-02T02:05:42.745895Z",
     "shell.execute_reply": "2021-05-02T02:05:42.745462Z"
    }
   },
   "outputs": [],
   "source": [
    "#!xtp_parallel -e qmmm -o OPTIONFILES/qmmm.xml -f state.hdf5 -j \"read\""
   ]
  }
 ],
 "metadata": {
  "kernelspec": {
   "display_name": "Python 3",
   "language": "python",
   "name": "python3"
  },
  "language_info": {
   "codemirror_mode": {
    "name": "ipython",
    "version": 3
   },
   "file_extension": ".py",
   "mimetype": "text/x-python",
   "name": "python",
   "nbconvert_exporter": "python",
   "pygments_lexer": "ipython3",
   "version": "3.9.4"
  }
 },
 "nbformat": 4,
 "nbformat_minor": 4
}
