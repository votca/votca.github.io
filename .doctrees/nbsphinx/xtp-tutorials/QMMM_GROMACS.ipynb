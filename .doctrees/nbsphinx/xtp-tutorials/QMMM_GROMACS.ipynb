{
 "cells": [
  {
   "cell_type": "markdown",
   "metadata": {},
   "source": [
    "# QMMM workflow using GROMACS and VOTCA-XTP"
   ]
  },
  {
   "cell_type": "markdown",
   "metadata": {},
   "source": [
    "## What is this tutorial about\n",
    "In this tutorial, we will learn how to set and perform excited state calculation using the Votca XTP library. We will use methane as our QM region."
   ]
  },
  {
   "cell_type": "markdown",
   "metadata": {},
   "source": [
    "## Requirements\n",
    "* You will need to install **VOTCA** using the instructions described [here](https://github.com/votca/votca/blob/master/share/doc/INSTALL.rst)\n",
    "* Once the installation is completed you need to activate the VOTCA enviroment by running the `VOTCARC.bash` script that has been installed at the bin subfolder for the path that you have provided for the installation step above"
   ]
  },
  {
   "cell_type": "markdown",
   "metadata": {},
   "source": [
    "## Interacting with the XTP command line interface\n",
    "The XTP package offers the following command line interface that the user can interact with:\n",
    "* [xtp_map](https://www.votca.org/xtp/xtp_map.html)\n",
    "* [xtp_parallel](https://www.votca.org/xtp/xtp_parallel.html)\n",
    "* [xtp_run](https://www.votca.org/xtp/xtp_run.html)\n",
    "* [xtp_tools](https://www.votca.org/xtp/xtp_tools.html)\n",
    "\n",
    "Run the following command to view the help message of `xtp_tools`:"
   ]
  },
  {
   "cell_type": "code",
   "execution_count": 1,
   "metadata": {
    "execution": {
     "iopub.execute_input": "2021-06-12T21:13:23.498120Z",
     "iopub.status.busy": "2021-06-12T21:13:23.497516Z",
     "iopub.status.idle": "2021-06-12T21:13:24.276290Z",
     "shell.execute_reply": "2021-06-12T21:13:24.275531Z"
    }
   },
   "outputs": [
    {
     "name": "stdout",
     "output_type": "stream",
     "text": [
      "==================================================\r\n",
      "========   VOTCA (http://www.votca.org)   ========\r\n",
      "==================================================\r\n",
      "\r\n",
      "please submit bugs to https://github.com/votca/xtp/issues\r\n",
      "\r\n",
      "xtp_tools, version 2022-dev gitid: 3547ddd (compiled Jun 12 2021, 21:01:06)\r\n",
      "votca_csg, version 2022-dev gitid: 3547ddd (compiled Jun 12 2021, 20:42:28)\r\n",
      "votca_tools, version 2022-dev gitid: 3547ddd (compiled Jun 12 2021, 20:39:13)\r\n",
      "\r\n",
      "Runs excitation/charge transport tools\r\n",
      "\r\n",
      "\r\n",
      "\r\n",
      "Allowed options:\r\n",
      "  -h [ --help ]                 display this help and exit\r\n",
      "  --verbose                     be loud and noisy\r\n",
      "  --verbose1                    be very loud and noisy\r\n",
      "  -v [ --verbose2 ]             be extremly loud and noisy\r\n",
      "  -o [ --options ] arg          Tool options\r\n",
      "  -t [ --nthreads ] arg (=1)    number of threads to create\r\n",
      "  -e [ --execute ] arg        Name of Tool to run\r\n",
      "  -l [ --list ]               Lists all available Tools\r\n",
      "  -d [ --description ] arg    Short description of a Tools\r\n",
      "  -n [ --name ] arg           Name of the job to run\r\n",
      "\r\n"
     ]
    }
   ],
   "source": [
    "!xtp_tools -h"
   ]
  },
  {
   "cell_type": "markdown",
   "metadata": {},
   "source": [
    "### Note\n",
    "> * In Jupyter the `!` symbol means: *run the following command as a standard unix command*\n",
    "> * In Jupyter the command `%env` set an environmental variable"
   ]
  },
  {
   "cell_type": "markdown",
   "metadata": {},
   "source": [
    "## Setting the environment\n"
   ]
  },
  {
   "cell_type": "markdown",
   "metadata": {},
   "source": [
    "Create a folder to store the input `Options` for XTP"
   ]
  },
  {
   "cell_type": "code",
   "execution_count": 2,
   "metadata": {
    "execution": {
     "iopub.execute_input": "2021-06-12T21:13:24.283492Z",
     "iopub.status.busy": "2021-06-12T21:13:24.280376Z",
     "iopub.status.idle": "2021-06-12T21:13:24.994059Z",
     "shell.execute_reply": "2021-06-12T21:13:24.993542Z"
    }
   },
   "outputs": [],
   "source": [
    "!mkdir -p OPTIONFILES"
   ]
  },
  {
   "cell_type": "markdown",
   "metadata": {},
   "source": [
    "Remove previous hdf5 file"
   ]
  },
  {
   "cell_type": "code",
   "execution_count": 3,
   "metadata": {
    "execution": {
     "iopub.execute_input": "2021-06-12T21:13:25.002469Z",
     "iopub.status.busy": "2021-06-12T21:13:24.998354Z",
     "iopub.status.idle": "2021-06-12T21:13:25.703636Z",
     "shell.execute_reply": "2021-06-12T21:13:25.702767Z"
    }
   },
   "outputs": [],
   "source": [
    "!rm -f state.hdf5"
   ]
  },
  {
   "cell_type": "markdown",
   "metadata": {},
   "source": [
    "Import an small python module to edit xml files"
   ]
  },
  {
   "cell_type": "code",
   "execution_count": 4,
   "metadata": {
    "execution": {
     "iopub.execute_input": "2021-06-12T21:13:25.708799Z",
     "iopub.status.busy": "2021-06-12T21:13:25.708119Z",
     "iopub.status.idle": "2021-06-12T21:13:25.718182Z",
     "shell.execute_reply": "2021-06-12T21:13:25.718652Z"
    }
   },
   "outputs": [],
   "source": [
    "from xml_editor import add_section, edit_calculator\n",
    "import os"
   ]
  },
  {
   "cell_type": "markdown",
   "metadata": {},
   "source": [
    "## Generate the topology from the Gromacs file"
   ]
  },
  {
   "cell_type": "markdown",
   "metadata": {},
   "source": [
    "runs the mapping from MD coordinates to segments and creates an [hdf5 file](https://www.hdfgroup.org/solutions/hdf5/). You can explore the generated `state.hdf5` file with e.g. hdf5itebrowser. In Python, you can use the [h5py library](https://www.h5py.org/)."
   ]
  },
  {
   "cell_type": "code",
   "execution_count": 5,
   "metadata": {
    "execution": {
     "iopub.execute_input": "2021-06-12T21:13:25.726965Z",
     "iopub.status.busy": "2021-06-12T21:13:25.726258Z",
     "iopub.status.idle": "2021-06-12T21:13:28.058404Z",
     "shell.execute_reply": "2021-06-12T21:13:28.057885Z"
    }
   },
   "outputs": [
    {
     "name": "stdout",
     "output_type": "stream",
     "text": [
      "==================================================\r\n",
      "========   VOTCA (http://www.votca.org)   ========\r\n",
      "==================================================\r\n",
      "\r\n",
      "please submit bugs to https://github.com/votca/xtp/issues\r\n",
      "\r\n",
      "xtp_map, version 2022-dev gitid: 3547ddd (compiled Jun 12 2021, 21:01:06)\r\n",
      "votca_csg, version 2022-dev gitid: 3547ddd (compiled Jun 12 2021, 20:42:28)\r\n",
      "votca_tools, version 2022-dev gitid: 3547ddd (compiled Jun 12 2021, 20:39:13)\r\n",
      "\r\n",
      "Reading file MD_FILES/topol.tpr, VERSION 5.1.1 (single precision)\r\n",
      "Note: file tpx version 103, software tpx version 116\r\n",
      "Creating statefile state.hdf5\r\n",
      "Frame with id 0 was not in statefile state.hdf5 ,adding it now.\r\n",
      "Wrote MD topology (step = 0, time = 0) to state.hdf5\r\n",
      "... . \r\n"
     ]
    }
   ],
   "source": [
    "!xtp_map -t MD_FILES/topol.tpr -c MD_FILES/conf.gro -s system.xml -f state.hdf5"
   ]
  },
  {
   "cell_type": "markdown",
   "metadata": {},
   "source": [
    "##  Check the mapping\n",
    "\n",
    "Let us first output `.pdb` files for the segments, qmmolecules and classical segments in order to check the mapping. We will need to copy the input from the `VOTCA` installation path to our local copy."
   ]
  },
  {
   "cell_type": "code",
   "execution_count": 6,
   "metadata": {
    "execution": {
     "iopub.execute_input": "2021-06-12T21:13:28.068599Z",
     "iopub.status.busy": "2021-06-12T21:13:28.063157Z",
     "iopub.status.idle": "2021-06-12T21:13:28.774872Z",
     "shell.execute_reply": "2021-06-12T21:13:28.774083Z"
    }
   },
   "outputs": [],
   "source": [
    "!cp \"$VOTCASHARE/xtp/xml/mapchecker.xml\" OPTIONFILES/"
   ]
  },
  {
   "cell_type": "markdown",
   "metadata": {},
   "source": [
    "The `${VOTCASHARE}` environmental variable is set to the path that you provided during the `VOTCA` [installation](https://github.com/votca/votca/blob/master/share/doc/INSTALL.rst), by the default is set to `/usr/local/votca`.\n",
    "\n",
    "We need to update the `mapchecker` options with the file containing the definition of the system. For doing, so we will use the python module `xml_editor` that we have imported above. The first argument is the name of the calculator (i.e. `mapchecker`), the seconds argument is the name of the option to change and the third one, the value to use."
   ]
  },
  {
   "cell_type": "code",
   "execution_count": 7,
   "metadata": {
    "execution": {
     "iopub.execute_input": "2021-06-12T21:13:28.780367Z",
     "iopub.status.busy": "2021-06-12T21:13:28.779414Z",
     "iopub.status.idle": "2021-06-12T21:13:28.785296Z",
     "shell.execute_reply": "2021-06-12T21:13:28.785807Z"
    }
   },
   "outputs": [
    {
     "name": "stdout",
     "output_type": "stream",
     "text": [
      "The option 'map_file' on file 'OPTIONFILES/mapchecker.xml' has been set to 'system.xml'\n"
     ]
    }
   ],
   "source": [
    "edit_calculator(\"mapchecker\", \"map_file\", \"system.xml\")"
   ]
  },
  {
   "cell_type": "markdown",
   "metadata": {},
   "source": [
    "In the [mapchecker section of the manual](https://votca.github.io/xtp/mapchecker.html) you can find a table with the `mapchecker` input variables and their corresponding defaults. Finally, the following command run the check"
   ]
  },
  {
   "cell_type": "code",
   "execution_count": 8,
   "metadata": {
    "execution": {
     "iopub.execute_input": "2021-06-12T21:13:28.792916Z",
     "iopub.status.busy": "2021-06-12T21:13:28.789663Z",
     "iopub.status.idle": "2021-06-12T21:13:31.100029Z",
     "shell.execute_reply": "2021-06-12T21:13:31.099324Z"
    }
   },
   "outputs": [
    {
     "name": "stdout",
     "output_type": "stream",
     "text": [
      "==================================================\r\n",
      "========   VOTCA (http://www.votca.org)   ========\r\n",
      "==================================================\r\n",
      "\r\n",
      "please submit bugs to https://github.com/votca/xtp/issues\r\n",
      "\r\n",
      "xtp_run, version 2022-dev gitid: 3547ddd (compiled Jun 12 2021, 21:01:06)\r\n",
      "votca_csg, version 2022-dev gitid: 3547ddd (compiled Jun 12 2021, 20:42:28)\r\n",
      "votca_tools, version 2022-dev gitid: 3547ddd (compiled Jun 12 2021, 20:39:13)\r\n",
      "\r\n",
      "Initializing calculator\r\n",
      "... mapchecker\r\n",
      "1 frames in statefile, Ids are: 0 \r\n",
      "Starting at frame 0\r\n",
      "Evaluating frame 0\r\n",
      "Import MD Topology (i.e. frame 0) from state.hdf5\r\n",
      ".... \r\n",
      "... mapchecker\r\n",
      " Using 1 threads\r\n",
      "Writing segments to md_segments step__0.pdb\r\n",
      "Writing qmmolecules to qm_segments_n step__0.pdb\r\n",
      "Writing polarsegments to mp_segments_e step__0.pdb\r\n",
      "Writing polarsegments to mp_segments_h step__0.pdb\r\n",
      "Changes have not been written to state file.\r\n"
     ]
    }
   ],
   "source": [
    "!xtp_run -e mapchecker -o OPTIONFILES/mapchecker.xml -f state.hdf5"
   ]
  },
  {
   "cell_type": "markdown",
   "metadata": {},
   "source": [
    "## Neighborlist Calculation"
   ]
  },
  {
   "cell_type": "markdown",
   "metadata": {},
   "source": [
    "The following step is to determine the neighbouring pairs for exciton transport. We will need first to get a copy of the input "
   ]
  },
  {
   "cell_type": "code",
   "execution_count": 9,
   "metadata": {
    "execution": {
     "iopub.execute_input": "2021-06-12T21:13:31.108091Z",
     "iopub.status.busy": "2021-06-12T21:13:31.104758Z",
     "iopub.status.idle": "2021-06-12T21:13:31.807969Z",
     "shell.execute_reply": "2021-06-12T21:13:31.807341Z"
    }
   },
   "outputs": [],
   "source": [
    "cp \"$VOTCASHARE/xtp/xml/neighborlist.xml\" OPTIONFILES/"
   ]
  },
  {
   "cell_type": "markdown",
   "metadata": {},
   "source": [
    "Then we will use `segmentname` method to select the cutoff and set the *exciton_cutoff* for the pairs to 0.5 nanometers. See the [neighborlist options](https://www.votca.org/xtp/neighborlist.html) for further information. "
   ]
  },
  {
   "cell_type": "code",
   "execution_count": 10,
   "metadata": {
    "execution": {
     "iopub.execute_input": "2021-06-12T21:13:31.814657Z",
     "iopub.status.busy": "2021-06-12T21:13:31.813462Z",
     "iopub.status.idle": "2021-06-12T21:13:31.818433Z",
     "shell.execute_reply": "2021-06-12T21:13:31.817599Z"
    }
   },
   "outputs": [],
   "source": [
    "exciton_cutoff = \"\"\"\n",
    "<exciton_cutoff>0.5</exciton_cutoff>\n",
    "\"\"\"\n",
    "segments = \"\"\"\n",
    "<segments>\n",
    "  <type>Methane Methane</type>\n",
    "  <cutoff>1</cutoff>\n",
    "</segments>\n",
    "\"\"\"\n",
    "constant = \"\"\"<constant help=\"cutoff for all other types of pairs\">0.6</constant>\"\"\"\n",
    "cutoff_type = \"\"\"<cutoff_type>segmentname</cutoff_type>\"\"\"\n",
    "\n",
    "add_section(\"neighborlist\", cutoff_type)\n",
    "add_section(\"neighborlist\", exciton_cutoff)\n",
    "add_section(\"neighborlist\", segments)\n",
    "add_section(\"neighborlist\", constant)"
   ]
  },
  {
   "cell_type": "markdown",
   "metadata": {},
   "source": [
    "Finally, we can run the calculation using 4 threads"
   ]
  },
  {
   "cell_type": "code",
   "execution_count": 11,
   "metadata": {
    "execution": {
     "iopub.execute_input": "2021-06-12T21:13:31.825282Z",
     "iopub.status.busy": "2021-06-12T21:13:31.821980Z",
     "iopub.status.idle": "2021-06-12T21:13:35.358504Z",
     "shell.execute_reply": "2021-06-12T21:13:35.357832Z"
    }
   },
   "outputs": [
    {
     "name": "stdout",
     "output_type": "stream",
     "text": [
      "==================================================\r\n",
      "========   VOTCA (http://www.votca.org)   ========\r\n",
      "==================================================\r\n",
      "\r\n",
      "please submit bugs to https://github.com/votca/xtp/issues\r\n",
      "\r\n",
      "xtp_run, version 2022-dev gitid: 3547ddd (compiled Jun 12 2021, 21:01:06)\r\n",
      "votca_csg, version 2022-dev gitid: 3547ddd (compiled Jun 12 2021, 20:42:28)\r\n",
      "votca_tools, version 2022-dev gitid: 3547ddd (compiled Jun 12 2021, 20:39:13)\r\n",
      "\r\n",
      "Initializing calculator\r\n",
      "... neighborlist\r\n",
      "1 frames in statefile, Ids are: 0 \r\n",
      "Starting at frame 0\r\n",
      "Evaluating frame 0\r\n",
      "Import MD Topology (i.e. frame 0) from state.hdf5\r\n",
      ".... \r\n",
      "... neighborlist\r\n",
      " Using 1 threads\r\n",
      "Evaluating 1000 segments for neighborlist. \r\n",
      "The following segments are used in the neigborlist creation\r\n",
      "\t Methane\r\n",
      " ... ... Evaluating \r\n",
      "0%   10   20   30   40   50   60   70   80   90   100%\r\n",
      "|----|----|----|----|----|----|----|----|----|----|\r\n",
      "***************************************************\r\n",
      "\r\n",
      " ... ... Created 76140 direct pairs.Wrote MD topology (step = 0, time = 0) to state.hdf5\r\n",
      "... . \r\n"
     ]
    }
   ],
   "source": [
    "!xtp_run -e neighborlist -o OPTIONFILES/neighborlist.xml -f state.hdf5"
   ]
  },
  {
   "cell_type": "markdown",
   "metadata": {},
   "source": [
    "## Read reorganization energies\n",
    "In this step we will read the in site reorganization energies and store them in the `state.hdf5` file. We just need to copy the input file and execute the calculation"
   ]
  },
  {
   "cell_type": "code",
   "execution_count": 12,
   "metadata": {
    "execution": {
     "iopub.execute_input": "2021-06-12T21:13:35.367537Z",
     "iopub.status.busy": "2021-06-12T21:13:35.366938Z",
     "iopub.status.idle": "2021-06-12T21:13:39.458417Z",
     "shell.execute_reply": "2021-06-12T21:13:39.458881Z"
    }
   },
   "outputs": [
    {
     "name": "stdout",
     "output_type": "stream",
     "text": [
      "==================================================\r\n",
      "========   VOTCA (http://www.votca.org)   ========\r\n",
      "==================================================\r\n",
      "\r\n",
      "please submit bugs to https://github.com/votca/xtp/issues\r\n",
      "\r\n",
      "xtp_run, version 2022-dev gitid: 3547ddd (compiled Jun 12 2021, 21:01:06)\r\n",
      "votca_csg, version 2022-dev gitid: 3547ddd (compiled Jun 12 2021, 20:42:28)\r\n",
      "votca_tools, version 2022-dev gitid: 3547ddd (compiled Jun 12 2021, 20:39:13)\r\n",
      "\r\n",
      "Initializing calculator\r\n",
      "... einternal\r\n",
      "1 frames in statefile, Ids are: 0 \r\n",
      "Starting at frame 0\r\n",
      "Evaluating frame 0\r\n",
      "Import MD Topology (i.e. frame 0) from state.hdf5\r\n",
      ".... \r\n",
      "... einternal\r\n",
      " Using 1 threads\r\n",
      "... ... Site, reorg. energies from system.xml.\r\n",
      "\r\n",
      "... ... Read in site, reorg. energies for 1000 segments. Wrote MD topology (step = 0, time = 0) to state.hdf5\r\n",
      "... . \r\n"
     ]
    }
   ],
   "source": [
    "!cp \"$VOTCASHARE/xtp/xml/einternal.xml\" OPTIONFILES/\n",
    "!xtp_run -e einternal -o OPTIONFILES/einternal.xml -f state.hdf5"
   ]
  },
  {
   "cell_type": "markdown",
   "metadata": {},
   "source": [
    "## Compute site energy\n",
    "In this step we will perform some *QMMM* calculations to compute the site energies. The `qmmm_mm.xml` file contains some predefined settings to perform the *MM* calculations. Let us first copy these settings into the state file,"
   ]
  },
  {
   "cell_type": "code",
   "execution_count": 13,
   "metadata": {
    "execution": {
     "iopub.execute_input": "2021-06-12T21:13:39.468796Z",
     "iopub.status.busy": "2021-06-12T21:13:39.463921Z",
     "iopub.status.idle": "2021-06-12T21:13:42.238573Z",
     "shell.execute_reply": "2021-06-12T21:13:42.239025Z"
    }
   },
   "outputs": [
    {
     "name": "stdout",
     "output_type": "stream",
     "text": [
      "==================================================\r\n",
      "========   VOTCA (http://www.votca.org)   ========\r\n",
      "==================================================\r\n",
      "\r\n",
      "please submit bugs to https://github.com/votca/xtp/issues\r\n",
      "\r\n",
      "xtp_parallel, version 2022-dev gitid: 3547ddd (compiled Jun 12 2021, 21:01:06)\r\n",
      "votca_csg, version 2022-dev gitid: 3547ddd (compiled Jun 12 2021, 20:42:28)\r\n",
      "votca_tools, version 2022-dev gitid: 3547ddd (compiled Jun 12 2021, 20:39:13)\r\n",
      "\r\n",
      "Initializing calculator\r\n",
      "... qmmm\r\n",
      "\r\n",
      "... ... Initialized with 1 threads.\r\n",
      "\r\n",
      "... ... Using 1 openmp threads for 1x1=1 total threads.\r\n",
      "1 frames in statefile, Ids are: 0 \r\n",
      "Starting at frame 0\r\n",
      "Evaluating frame 0\r\n",
      "Import MD Topology (i.e. frame 0) from state.hdf5\r\n",
      ".... \r\n",
      "... qmmm \r\n",
      "... ... Writing job file qmmm_mm_jobs.xml\r\n",
      "... ... In total 4001 jobs\r\n",
      "Changes have not been written to state file.\r\n"
     ]
    }
   ],
   "source": [
    "!cp qmmm_mm.xml OPTIONFILES\n",
    "!xtp_parallel -e qmmm -o OPTIONFILES/qmmm_mm.xml -f state.hdf5 -j \"write\""
   ]
  },
  {
   "cell_type": "markdown",
   "metadata": {},
   "source": [
    "The previous command generates a `qmmm_mm_jobs.xml` containing 4000 *MM* jobs to compute, if you examine that file, it should look something like"
   ]
  },
  {
   "cell_type": "markdown",
   "metadata": {},
   "source": [
    "```xml\n",
    "<jobs>\n",
    "  <job>\n",
    "    <id>0</id>\n",
    "    <tag>Methane_0:n</tag>\n",
    "    <input>\n",
    "      <site_energies>0:n</site_energies>\n",
    "      <regions>\n",
    "        <region>\n",
    "          <id>0</id>\n",
    "          <segments>0:n</segments>\n",
    "        </region>\n",
    "      </regions>\n",
    "    </input>\n",
    "    <status>AVAILABLE</status>\n",
    "  </job>    \n",
    "...\n",
    "```"
   ]
  },
  {
   "cell_type": "markdown",
   "metadata": {},
   "source": [
    "Let us run just the first 4 jobs by settings all jobs `status` to `COMPLETE` except for the first four. This can be easily done with [sed](https://www.gnu.org/software/sed/manual/sed.html) as follows,"
   ]
  },
  {
   "cell_type": "code",
   "execution_count": 14,
   "metadata": {
    "execution": {
     "iopub.execute_input": "2021-06-12T21:13:42.250327Z",
     "iopub.status.busy": "2021-06-12T21:13:42.247100Z",
     "iopub.status.idle": "2021-06-12T21:13:45.866500Z",
     "shell.execute_reply": "2021-06-12T21:13:45.865544Z"
    }
   },
   "outputs": [],
   "source": [
    "!sed -i \"s/AVAILABLE/COMPLETE/g\" qmmm_mm_jobs.xml\n",
    "!sed -i '0,/COMPLETE/s/COMPLETE/AVAILABLE/' qmmm_mm_jobs.xml\n",
    "!sed -i '0,/COMPLETE/s/COMPLETE/AVAILABLE/' qmmm_mm_jobs.xml\n",
    "!sed -i '0,/COMPLETE/s/COMPLETE/AVAILABLE/' qmmm_mm_jobs.xml\n",
    "!sed -i '0,/COMPLETE/s/COMPLETE/AVAILABLE/' qmmm_mm_jobs.xml"
   ]
  },
  {
   "cell_type": "markdown",
   "metadata": {},
   "source": [
    "Now we can run the jobs and save the results in the state file"
   ]
  },
  {
   "cell_type": "code",
   "execution_count": 15,
   "metadata": {
    "execution": {
     "iopub.execute_input": "2021-06-12T21:13:45.875660Z",
     "iopub.status.busy": "2021-06-12T21:13:45.871482Z",
     "iopub.status.idle": "2021-06-12T21:13:53.601087Z",
     "shell.execute_reply": "2021-06-12T21:13:53.600547Z"
    }
   },
   "outputs": [
    {
     "name": "stdout",
     "output_type": "stream",
     "text": [
      "==================================================\r\n",
      "========   VOTCA (http://www.votca.org)   ========\r\n",
      "==================================================\r\n",
      "\r\n",
      "please submit bugs to https://github.com/votca/xtp/issues\r\n",
      "\r\n",
      "xtp_parallel, version 2022-dev gitid: 3547ddd (compiled Jun 12 2021, 21:01:06)\r\n",
      "votca_csg, version 2022-dev gitid: 3547ddd (compiled Jun 12 2021, 20:42:28)\r\n",
      "votca_tools, version 2022-dev gitid: 3547ddd (compiled Jun 12 2021, 20:39:13)\r\n",
      "\r\n",
      "Initializing calculator\r\n",
      "... qmmm\r\n",
      "\r\n",
      "... ... Initialized with 1 threads.\r\n",
      "\r\n",
      "... ... Using 2 openmp threads for 1x2=2 total threads.\r\n",
      "1 frames in statefile, Ids are: 0 \r\n",
      "Starting at frame 0\r\n",
      "Evaluating frame 0\r\n",
      "Import MD Topology (i.e. frame 0) from state.hdf5\r\n",
      ".... \r\n",
      "... qmmm \r\n",
      "MST ERR Job file = 'qmmm_mm_jobs.xml', cache size =  8\r\n",
      "MST ERR Initialize jobs from qmmm_mm_jobs.xml\r\n",
      "MST ERR Registered 4000 jobs.\r\n",
      "T00 ERR ... Requesting next job\r\n",
      "T00 ERR ... Assign jobs from stack\r\n",
      "T00 ERR ... Next job: ID = 0=> [ 0%] \r\n",
      "T00 ERR ...  Regions created\r\n",
      "T00 ERR ... Id: 0 type: polar size: 17 charge[e]= -9.29812e-16\r\n",
      "T00 ERR ... Id: 1 type: static size: 254 charge[e]= -1.4086e-14\r\n",
      "T00 ERR ... 2021-6-12 21:13:48 Writing jobtopology to MMMM/frame_0/job_0_Methane_0:n/regions.pdb\r\n",
      "T00 ERR ... 2021-6-12 21:13:48 Only 1 scf region is used. The remaining regions are static. So no inter regions scf is required. \r\n",
      "T00 ERR ... 2021-6-12 21:13:48 --Inter Region SCF Iteration 1 of 1\r\n",
      "T00 ERR ... 2021-6-12 21:13:48 Evaluating polar 0\r\n",
      "T00 ERR ... 2021-6-12 21:13:48 Evaluating interaction between polar 0 and static 1\r\n",
      "T00 ERR ... 2021-6-12 21:13:48 Starting Solving for classical polarization with 255 degrees of freedom.\r\n",
      "T00 ERR ... 2021-6-12 21:13:48 CG: #iterations: 7, estimated error: 4.15528e-06\r\n",
      "T00 ERR ...   Total static energy [hrt]= 8.121948104e-05\r\n",
      "T00 ERR ...   Total polar energy [hrt]= -0.0001235439304\r\n",
      "T00 ERR ...  Total energy [hrt]= -4.232444937e-05\r\n",
      "T00 ERR ... 2021-6-12 21:13:48 Evaluating static 1\r\n",
      "T00 ERR ... 2021-6-12 21:13:48 Writing checkpoint to checkpoint_iter_1.hdf5\r\n",
      "T00 ERR ... Reporting job results\r\n",
      "\r\n",
      "T00 ERR ... Requesting next job\r\n",
      "T00 ERR ... Next job: ID = 1\r\n",
      "T00 ERR ...  Regions created\r\n",
      "T00 ERR ... Id: 0 type: polar size: 17 charge[e]= -1\r\n",
      "T00 ERR ... Id: 1 type: static size: 254 charge[e]= -1.408595462e-14\r\n",
      "T00 ERR ... 2021-6-12 21:13:48 Writing jobtopology to MMMM/frame_0/job_1_Methane_0:e/regions.pdb\r\n",
      "T00 ERR ... 2021-6-12 21:13:48 Only 1 scf region is used. The remaining regions are static. So no inter regions scf is required. \r\n",
      "T00 ERR ... 2021-6-12 21:13:48 --Inter Region SCF Iteration 1 of 1\r\n",
      "T00 ERR ... 2021-6-12 21:13:48 Evaluating polar 0\r\n",
      "T00 ERR ... 2021-6-12 21:13:48 Evaluating interaction between polar 0 and static 1\r\n",
      "T00 ERR ... 2021-6-12 21:13:48 Starting Solving for classical polarization with 255 degrees of freedom.\r\n",
      "T00 ERR ... 2021-6-12 21:13:48 CG: #iterations: 27, estimated error: 5.798542746e-06\r\n",
      "T00 ERR ...   Total static energy [hrt]= -0.0009055590147\r\n",
      "T00 ERR ...   Total polar energy [hrt]= -0.03058901395\r\n",
      "T00 ERR ...  Total energy [hrt]= -0.03149457297\r\n",
      "T00 ERR ... 2021-6-12 21:13:48 Evaluating static 1\r\n",
      "T00 ERR ... 2021-6-12 21:13:48 Writing checkpoint to checkpoint_iter_1.hdf5\r\n",
      "T00 ERR ... Reporting job results\r\n",
      "\r\n",
      "T00 ERR ... Requesting next job\r\n",
      "T00 ERR ... Next job: ID = 2\r\n",
      "T00 ERR ...  Regions created\r\n",
      "T00 ERR ... Id: 0 type: polar size: 17 charge[e]= 1\r\n",
      "T00 ERR ... Id: 1 type: static size: 254 charge[e]= -1.408595462e-14\r\n",
      "T00 ERR ... 2021-6-12 21:13:48 Writing jobtopology to MMMM/frame_0/job_2_Methane_0:h/regions.pdb\r\n",
      "T00 ERR ... 2021-6-12 21:13:48 Only 1 scf region is used. The remaining regions are static. So no inter regions scf is required. \r\n",
      "T00 ERR ... 2021-6-12 21:13:48 --Inter Region SCF Iteration 1 of 1\r\n",
      "T00 ERR ... 2021-6-12 21:13:48 Evaluating polar 0\r\n",
      "T00 ERR ... 2021-6-12 21:13:48 Evaluating interaction between polar 0 and static 1\r\n",
      "T00 ERR ... 2021-6-12 21:13:48 Starting Solving for classical polarization with 255 degrees of freedom.\r\n",
      "T00 ERR ... 2021-6-12 21:13:48 CG: #iterations: 7, estimated error: 3.581023691e-06\r\n",
      "T00 ERR ...   Total static energy [hrt]= 0.001994038371\r\n",
      "T00 ERR ...   Total polar energy [hrt]= -0.02768723938\r\n",
      "T00 ERR ...  Total energy [hrt]= -0.02569320101\r\n",
      "T00 ERR ... 2021-6-12 21:13:48 Evaluating static 1\r\n",
      "T00 ERR ... 2021-6-12 21:13:48 Writing checkpoint to checkpoint_iter_1.hdf5\r\n",
      "T00 ERR ... Reporting job results\r\n",
      "\r\n",
      "T00 ERR ... Requesting next job\r\n",
      "T00 ERR ... Next job: ID = 3\r\n",
      "T00 ERR ...  Regions created\r\n",
      "T00 ERR ... Id: 0 type: polar size: 17 charge[e]= -7.632783294e-16\r\n",
      "T00 ERR ... Id: 1 type: static size: 254 charge[e]= -1.408595462e-14\r\n",
      "T00 ERR ... 2021-6-12 21:13:48 Writing jobtopology to MMMM/frame_0/job_3_Methane_0:s1/regions.pdb\r\n",
      "T00 ERR ... 2021-6-12 21:13:48 Only 1 scf region is used. The remaining regions are static. So no inter regions scf is required. \r\n",
      "T00 ERR ... 2021-6-12 21:13:48 --Inter Region SCF Iteration 1 of 1\r\n",
      "T00 ERR ... 2021-6-12 21:13:48 Evaluating polar 0\r\n",
      "T00 ERR ... 2021-6-12 21:13:48 Evaluating interaction between polar 0 and static 1\r\n",
      "T00 ERR ... 2021-6-12 21:13:48 Starting Solving for classical polarization with 255 degrees of freedom.\r\n",
      "T00 ERR ... 2021-6-12 21:13:48 CG: #iterations: 7, estimated error: 5.171454294e-06\r\n",
      "T00 ERR ...   Total static energy [hrt]= 0.0002401293715\r\n",
      "T00 ERR ...   Total polar energy [hrt]= -0.0004782854375\r\n",
      "T00 ERR ...  Total energy [hrt]= -0.000238156066\r\n",
      "T00 ERR ... 2021-6-12 21:13:48 Evaluating static 1\r\n",
      "T00 ERR ... 2021-6-12 21:13:48 Writing checkpoint to checkpoint_iter_1.hdf5\r\n",
      "T00 ERR ... Reporting job results\r\n",
      "\r\n",
      "T00 ERR ... Requesting next job\r\n",
      "T00 ERR ... Assign jobs from stack\r\n",
      "T00 ERR ... Sync did not yield any new jobs.\r\n",
      "T00 ERR ... Next job: ID = - (none available)\r\n",
      "MST ERR Assign jobs from stack\r\n",
      "Changes have not been written to state file.\r\n",
      "==================================================\r\n",
      "========   VOTCA (http://www.votca.org)   ========\r\n",
      "==================================================\r\n",
      "\r\n",
      "please submit bugs to https://github.com/votca/xtp/issues\r\n",
      "\r\n",
      "xtp_parallel, version 2022-dev gitid: 3547ddd (compiled Jun 12 2021, 21:01:06)\r\n",
      "votca_csg, version 2022-dev gitid: 3547ddd (compiled Jun 12 2021, 20:42:28)\r\n",
      "votca_tools, version 2022-dev gitid: 3547ddd (compiled Jun 12 2021, 20:39:13)\r\n",
      "\r\n",
      "Initializing calculator\r\n",
      "... qmmm\r\n",
      "\r\n",
      "... ... Initialized with 1 threads.\r\n",
      "\r\n",
      "... ... Using 1 openmp threads for 1x1=1 total threads.\r\n",
      "1 frames in statefile, Ids are: 0 \r\n",
      "Starting at frame 0\r\n",
      "Evaluating frame 0\r\n",
      "Import MD Topology (i.e. frame 0) from state.hdf5\r\n",
      ".... \r\n",
      "... qmmm \r\n",
      "Found 1 states of type e\r\n",
      "Found 1 states of type h\r\n",
      "Found 1 states of type s\r\n",
      "Found 1 states of type n\r\n",
      "3996 incomplete jobs found.\r\n",
      "\r\n",
      "Wrote MD topology (step = 0, time = 0) to state.hdf5\r\n",
      "... . \r\n"
     ]
    }
   ],
   "source": [
    "!xtp_parallel -e qmmm -o OPTIONFILES/qmmm_mm.xml -f state.hdf5 -p 2 -j \"run\"\n",
    "!xtp_parallel -e qmmm -o OPTIONFILES/qmmm_mm.xml -f state.hdf5 -j \"read\""
   ]
  },
  {
   "cell_type": "markdown",
   "metadata": {},
   "source": [
    "## Site energy and pair energy analysis\n",
    "In this step we generate an histogram and compute the correlation function of site energies and pair energy differences."
   ]
  },
  {
   "cell_type": "code",
   "execution_count": 16,
   "metadata": {
    "execution": {
     "iopub.execute_input": "2021-06-12T21:13:53.606898Z",
     "iopub.status.busy": "2021-06-12T21:13:53.605978Z",
     "iopub.status.idle": "2021-06-12T21:13:57.045961Z",
     "shell.execute_reply": "2021-06-12T21:13:57.045141Z"
    }
   },
   "outputs": [
    {
     "name": "stdout",
     "output_type": "stream",
     "text": [
      "==================================================\r\n",
      "========   VOTCA (http://www.votca.org)   ========\r\n",
      "==================================================\r\n",
      "\r\n",
      "please submit bugs to https://github.com/votca/xtp/issues\r\n",
      "\r\n",
      "xtp_run, version 2022-dev gitid: 3547ddd (compiled Jun 12 2021, 21:01:06)\r\n",
      "votca_csg, version 2022-dev gitid: 3547ddd (compiled Jun 12 2021, 20:42:28)\r\n",
      "votca_tools, version 2022-dev gitid: 3547ddd (compiled Jun 12 2021, 20:39:13)\r\n",
      "\r\n",
      "Initializing calculator\r\n",
      "... eanalyze\r\n",
      "1 frames in statefile, Ids are: 0 \r\n",
      "Starting at frame 0\r\n",
      "Evaluating frame 0\r\n",
      "Import MD Topology (i.e. frame 0) from state.hdf5\r\n",
      ".... \r\n",
      "... eanalyze\r\n",
      " Using 1 threads\r\n",
      "... ... Short-listed 1000 segments (pattern='*')\r\n",
      "... ... ... NOTE Statistics of site energies and spatial correlations thereof are based on the short-listed segments only. \r\n",
      "... ... ...      Statistics of site-energy differences operate on the full list.\r\n",
      "... ... excited state e\r\n",
      "... ... excited state h\r\n",
      "... ... excited state s\r\n",
      "... ... excited state tChanges have not been written to state file.\r\n"
     ]
    }
   ],
   "source": [
    "!cp \"$VOTCASHARE/xtp/xml/eanalyze.xml\" OPTIONFILES/\n",
    "!xtp_run -e eanalyze -o OPTIONFILES/eanalyze.xml -f state.hdf5"
   ]
  },
  {
   "cell_type": "markdown",
   "metadata": {},
   "source": [
    "You should now see a set of files prefixed with `eanalyze` containing the histrogram and correlation functions."
   ]
  },
  {
   "cell_type": "code",
   "execution_count": 17,
   "metadata": {
    "execution": {
     "iopub.execute_input": "2021-06-12T21:13:57.054695Z",
     "iopub.status.busy": "2021-06-12T21:13:57.050925Z",
     "iopub.status.idle": "2021-06-12T21:13:57.756573Z",
     "shell.execute_reply": "2021-06-12T21:13:57.757047Z"
    }
   },
   "outputs": [
    {
     "name": "stdout",
     "output_type": "stream",
     "text": [
      "eanalyze.pairhist_e.out  eanalyze.pairlist_s.out  eanalyze.sitehist_e.out\r\n",
      "eanalyze.pairhist_h.out  eanalyze.pairlist_t.out  eanalyze.sitehist_h.out\r\n",
      "eanalyze.pairhist_s.out  eanalyze.sitecorr_e.out  eanalyze.sitehist_s.out\r\n",
      "eanalyze.pairhist_t.out  eanalyze.sitecorr_h.out  eanalyze.sitehist_t.out\r\n",
      "eanalyze.pairlist_e.out  eanalyze.sitecorr_s.out\r\n",
      "eanalyze.pairlist_h.out  eanalyze.sitecorr_t.out\r\n"
     ]
    }
   ],
   "source": [
    "!ls eanalyze*"
   ]
  },
  {
   "cell_type": "markdown",
   "metadata": {},
   "source": [
    "## QM energy calculation\n",
    "Our next task is to perform the qm calculations for each segment that we have stored in the hdf5 file. The calculations take place in 3 stages: write the jobs to a file, perform the computation and finally save the results to the state file. We will first copy the input into our local folder"
   ]
  },
  {
   "cell_type": "code",
   "execution_count": 18,
   "metadata": {
    "execution": {
     "iopub.execute_input": "2021-06-12T21:13:57.765748Z",
     "iopub.status.busy": "2021-06-12T21:13:57.761489Z",
     "iopub.status.idle": "2021-06-12T21:13:58.460910Z",
     "shell.execute_reply": "2021-06-12T21:13:58.460303Z"
    }
   },
   "outputs": [],
   "source": [
    "!cp \"$VOTCASHARE/xtp/xml/eqm.xml\" OPTIONFILES/"
   ]
  },
  {
   "cell_type": "markdown",
   "metadata": {},
   "source": [
    "Now we set the GWBSE mode to `G0W0`,  the `ranges` to `full` and the `basisset` and `auxbasisset` to `3-21G` and `aux-def2-svp`. For more information, check the [eqm calculator options](https://votca.github.io/xtp/eqm.html)."
   ]
  },
  {
   "cell_type": "code",
   "execution_count": 19,
   "metadata": {
    "execution": {
     "iopub.execute_input": "2021-06-12T21:13:58.466497Z",
     "iopub.status.busy": "2021-06-12T21:13:58.465805Z",
     "iopub.status.idle": "2021-06-12T21:13:58.481850Z",
     "shell.execute_reply": "2021-06-12T21:13:58.482296Z"
    }
   },
   "outputs": [
    {
     "name": "stdout",
     "output_type": "stream",
     "text": [
      "The option 'gwbse_options.gwbse.ranges' on file 'OPTIONFILES/eqm.xml' has been set to 'full'\n",
      "The option 'gwbse_options.gwbse.mode' on file 'OPTIONFILES/eqm.xml' has been set to 'G0W0'\n",
      "The option 'gwbse_options.gwbse.qp_solver' on file 'OPTIONFILES/eqm.xml' has been set to 'fixedpoint'\n",
      "The option 'gwbse_options.gwbse.qp_grid_steps' on file 'OPTIONFILES/eqm.xml' has been set to '100'\n",
      "The option 'gwbse_options.gwbse.qp_grid_spacing' on file 'OPTIONFILES/eqm.xml' has been set to '0.01'\n",
      "The option 'gwbse_options.gwbse.exctotal' on file 'OPTIONFILES/eqm.xml' has been set to '10'\n",
      "The option 'map_file' on file 'OPTIONFILES/eqm.xml' has been set to 'system.xml'\n",
      "The option 'basisset' on file 'OPTIONFILES/eqm.xml' has been set to '3-21G'\n",
      "The option 'auxbasisset' on file 'OPTIONFILES/eqm.xml' has been set to 'aux-def2-svp'\n"
     ]
    }
   ],
   "source": [
    "edit_calculator(\"eqm\", \"gwbse_options.gwbse.ranges\", \"full\")\n",
    "edit_calculator(\"eqm\", \"gwbse_options.gwbse.mode\", \"G0W0\")\n",
    "edit_calculator(\"eqm\", \"gwbse_options.gwbse.qp_solver\", \"fixedpoint\")\n",
    "edit_calculator(\"eqm\", \"gwbse_options.gwbse.qp_grid_steps\", \"100\")\n",
    "edit_calculator(\"eqm\", \"gwbse_options.gwbse.qp_grid_spacing\", \"0.01\")\n",
    "edit_calculator(\"eqm\", \"gwbse_options.gwbse.exctotal\", \"10\")\n",
    "edit_calculator(\"eqm\", \"map_file\", \"system.xml\")\n",
    "edit_calculator(\"eqm\", \"basisset\", \"3-21G\")\n",
    "edit_calculator(\"eqm\", \"auxbasisset\", \"aux-def2-svp\")"
   ]
  },
  {
   "cell_type": "markdown",
   "metadata": {},
   "source": [
    "For the sake of computational time let just compute the `gw` approximation and the `singlet`. You can also request the `triplet` or `all`,  see the [gwbse sectionfor the eqm calculator](https://www.votca.org/xtp/eqm.html)."
   ]
  },
  {
   "cell_type": "code",
   "execution_count": 20,
   "metadata": {
    "execution": {
     "iopub.execute_input": "2021-06-12T21:13:58.487350Z",
     "iopub.status.busy": "2021-06-12T21:13:58.486061Z",
     "iopub.status.idle": "2021-06-12T21:13:58.490513Z",
     "shell.execute_reply": "2021-06-12T21:13:58.490017Z"
    }
   },
   "outputs": [
    {
     "name": "stdout",
     "output_type": "stream",
     "text": [
      "The option 'gwbse_options.gwbse.tasks' on file 'OPTIONFILES/eqm.xml' has been set to 'gw,singlets'\n"
     ]
    }
   ],
   "source": [
    "edit_calculator(\"eqm\", \"gwbse_options.gwbse.tasks\", \"gw,singlets\")"
   ]
  },
  {
   "cell_type": "markdown",
   "metadata": {},
   "source": [
    "First we will write the job in a file and enable only the first 2,"
   ]
  },
  {
   "cell_type": "code",
   "execution_count": 21,
   "metadata": {
    "execution": {
     "iopub.execute_input": "2021-06-12T21:13:58.496791Z",
     "iopub.status.busy": "2021-06-12T21:13:58.496097Z",
     "iopub.status.idle": "2021-06-12T21:14:02.462941Z",
     "shell.execute_reply": "2021-06-12T21:14:02.463836Z"
    }
   },
   "outputs": [
    {
     "name": "stdout",
     "output_type": "stream",
     "text": [
      "==================================================\r\n",
      "========   VOTCA (http://www.votca.org)   ========\r\n",
      "==================================================\r\n",
      "\r\n",
      "please submit bugs to https://github.com/votca/xtp/issues\r\n",
      "\r\n",
      "xtp_parallel, version 2022-dev gitid: 3547ddd (compiled Jun 12 2021, 21:01:06)\r\n",
      "votca_csg, version 2022-dev gitid: 3547ddd (compiled Jun 12 2021, 20:42:28)\r\n",
      "votca_tools, version 2022-dev gitid: 3547ddd (compiled Jun 12 2021, 20:39:13)\r\n",
      "\r\n",
      "Initializing calculator\r\n",
      "... eqm\r\n",
      "\r\n",
      "... ... Initialized with 1 threads.\r\n",
      "\r\n",
      "... ... Using 1 openmp threads for 1x1=1 total threads.\r\n",
      "1 frames in statefile, Ids are: 0 \r\n",
      "Starting at frame 0\r\n",
      "Evaluating frame 0\r\n",
      "Import MD Topology (i.e. frame 0) from state.hdf5\r\n",
      ".... \r\n",
      "... eqm \r\n",
      "... ... Writing job file: eqm.jobs with 1000 jobs\r\n",
      "Changes have not been written to state file.\r\n"
     ]
    }
   ],
   "source": [
    "!xtp_parallel -e eqm -o OPTIONFILES/eqm.xml -f state.hdf5 -s 0 -j \"write\"\n",
    "!sed -i \"s/AVAILABLE/COMPLETE/g\" eqm.jobs\n",
    "!sed -i '0,/COMPLETE/s/COMPLETE/AVAILABLE/' eqm.jobs\n",
    "!sed -i '0,/COMPLETE/s/COMPLETE/AVAILABLE/' eqm.jobs\n"
   ]
  },
  {
   "cell_type": "markdown",
   "metadata": {},
   "source": [
    "Now, let run these 2 jobs"
   ]
  },
  {
   "cell_type": "code",
   "execution_count": 22,
   "metadata": {
    "execution": {
     "iopub.execute_input": "2021-06-12T21:14:02.470871Z",
     "iopub.status.busy": "2021-06-12T21:14:02.468571Z",
     "iopub.status.idle": "2021-06-12T21:14:12.726399Z",
     "shell.execute_reply": "2021-06-12T21:14:12.726901Z"
    }
   },
   "outputs": [
    {
     "name": "stdout",
     "output_type": "stream",
     "text": [
      "==================================================\r\n",
      "========   VOTCA (http://www.votca.org)   ========\r\n",
      "==================================================\r\n",
      "\r\n",
      "please submit bugs to https://github.com/votca/xtp/issues\r\n",
      "\r\n",
      "xtp_parallel, version 2022-dev gitid: 3547ddd (compiled Jun 12 2021, 21:01:06)\r\n",
      "votca_csg, version 2022-dev gitid: 3547ddd (compiled Jun 12 2021, 20:42:28)\r\n",
      "votca_tools, version 2022-dev gitid: 3547ddd (compiled Jun 12 2021, 20:39:13)\r\n",
      "\r\n",
      "Initializing calculator\r\n",
      "... eqm\r\n",
      "\r\n",
      "... ... Initialized with 1 threads.\r\n",
      "\r\n",
      "... ... Using 2 openmp threads for 1x2=2 total threads.\r\n",
      "1 frames in statefile, Ids are: 0 \r\n",
      "Starting at frame 0\r\n",
      "Evaluating frame 0\r\n",
      "Import MD Topology (i.e. frame 0) from state.hdf5\r\n",
      ".... \r\n",
      "... eqm \r\n",
      "MST ERR Job file = 'eqm.jobs', cache size =  1\r\n",
      "MST ERR Initialize jobs from eqm.jobs\r\n",
      "MST ERR Registered 1000 jobs.\r\n",
      "T00 ERR ... Requesting next job\r\n",
      "T00 ERR ... Assign jobs from stack\r\n",
      "T00 ERR ... Next job: ID = 0=> [ 0%] \r\n",
      "T00 ERR ... 2021-6-12 21:14:4 Evaluating site 0\r\n",
      "T00 ERR ... Running DFT\r\n",
      "T00 ERR ... Running GWBSE\r\n",
      "T00 ERR ... Running ESPFIT\r\n",
      "T00 ERR ... ===== Running on 2 threads ===== \r\n",
      "T00 ERR ... 2021-6-12 21:14:6 Calculated Densities at Numerical Grid, Number of electrons is -2.98617e-08\r\n",
      "T00 ERR ... 2021-6-12 21:14:6 Calculating ESP at CHELPG grid points\r\n",
      "T00 ERR ... 2021-6-12 21:14:8 Netcharge constrained to 0\r\n",
      "T00 ERR ...  Sum of fitted charges: 5.55112e-17\r\n",
      "T00 ERR ...  RMSE of fit:  0.00115775\r\n",
      "T00 ERR ...  RRMSE of fit: 0.0674742\r\n",
      "T00 ERR ... El Dipole from fitted charges [e*bohr]:\r\n",
      "\t\t dx = +0.4972 dy = -0.5156 dz = +0.4029 |d|^2 = +0.6755\r\n",
      "T00 ERR ... El Dipole from exact qm density [e*bohr]:\r\n",
      "\t\t dx = +0.5081 dy = -0.5279 dz = +0.4124 |d|^2 = +0.7070\r\n",
      "T00 ERR ... Written charges to MP_FILES/frame_0/n2s1/Methane_0_n2s1.mps\r\n",
      "T00 ERR ... 2021-6-12 21:14:8 Finished evaluating site 0\r\n",
      "T00 ERR ... Saving data to molecule_0.orb\r\n",
      "T00 ERR ... Reporting job results\r\n",
      "\r\n",
      "T00 ERR ... Requesting next job\r\n",
      "T00 ERR ... Assign jobs from stack\r\n",
      "T00 ERR ... Next job: ID = 1\r\n",
      "T00 ERR ... 2021-6-12 21:14:8 Evaluating site 1\r\n",
      "T00 ERR ... Running DFT\r\n",
      "T00 ERR ... Running GWBSE\r\n",
      "T00 ERR ... Running ESPFIT\r\n",
      "T00 ERR ... ===== Running on 2 threads ===== \r\n",
      "T00 ERR ... 2021-6-12 21:14:11 Calculated Densities at Numerical Grid, Number of electrons is 2.26321e-08\r\n",
      "T00 ERR ... 2021-6-12 21:14:11 Calculating ESP at CHELPG grid points\r\n",
      "T00 ERR ... 2021-6-12 21:14:12 Netcharge constrained to 0\r\n",
      "T00 ERR ...  Sum of fitted charges: -2.22045e-16\r\n",
      "T00 ERR ...  RMSE of fit:  0.00113805\r\n",
      "T00 ERR ...  RRMSE of fit: 0.0638578\r\n",
      "T00 ERR ... El Dipole from fitted charges [e*bohr]:\r\n",
      "\t\t dx = -0.5616 dy = -0.1876 dz = -0.6117 |d|^2 = +0.7247\r\n",
      "T00 ERR ... El Dipole from exact qm density [e*bohr]:\r\n",
      "\t\t dx = -0.5744 dy = -0.1917 dz = -0.6258 |d|^2 = +0.7584\r\n",
      "T00 ERR ... Written charges to MP_FILES/frame_0/n2s1/Methane_1_n2s1.mps\r\n",
      "T00 ERR ... 2021-6-12 21:14:12 Finished evaluating site 1\r\n",
      "T00 ERR ... Saving data to molecule_1.orb\r\n",
      "T00 ERR ... Reporting job results\r\n",
      "\r\n",
      "T00 ERR ... Requesting next job\r\n",
      "T00 ERR ... Assign jobs from stack\r\n",
      "T00 ERR ... Sync did not yield any new jobs.\r\n",
      "T00 ERR ... Next job: ID = - (none available)\r\n",
      "MST ERR Assign jobs from stack\r\n",
      "Changes have not been written to state file.\r\n"
     ]
    }
   ],
   "source": [
    "!xtp_parallel -e eqm -o OPTIONFILES/eqm.xml -f state.hdf5 -p 2 -s 0 -j run -c 1"
   ]
  },
  {
   "cell_type": "markdown",
   "metadata": {},
   "source": [
    "## QM calculation for pairs\n",
    "In the following step we will run QM calculations for each pair in the hdf5 file. As the calculations on the previous step, we will first write the jobs in a file, then run them and finally store the results in the state file. First, we need to copy the input to our local folder"
   ]
  },
  {
   "cell_type": "code",
   "execution_count": 23,
   "metadata": {
    "execution": {
     "iopub.execute_input": "2021-06-12T21:14:12.734150Z",
     "iopub.status.busy": "2021-06-12T21:14:12.731467Z",
     "iopub.status.idle": "2021-06-12T21:14:13.423495Z",
     "shell.execute_reply": "2021-06-12T21:14:13.422949Z"
    }
   },
   "outputs": [],
   "source": [
    "!cp \"$VOTCASHARE/xtp/xml/iqm.xml\" OPTIONFILES/"
   ]
  },
  {
   "cell_type": "markdown",
   "metadata": {},
   "source": [
    "As in the previous section, we set the GWBSE mode to `G0W0`, the `ranges` to `full` and the `basisset` and `auxbasisset` to `3-21G` and `aux-def2-svp`. But we compute only the `gw` approximation. We are also going to compute a single excited state. For more information, check the [iqm calculator options](https://www.votca.org/xtp/iqm.html). We also want to compute the `singlet` couplings. "
   ]
  },
  {
   "cell_type": "code",
   "execution_count": 24,
   "metadata": {
    "execution": {
     "iopub.execute_input": "2021-06-12T21:14:13.431262Z",
     "iopub.status.busy": "2021-06-12T21:14:13.429812Z",
     "iopub.status.idle": "2021-06-12T21:14:13.450173Z",
     "shell.execute_reply": "2021-06-12T21:14:13.450800Z"
    }
   },
   "outputs": [
    {
     "name": "stdout",
     "output_type": "stream",
     "text": [
      "The option 'states' on file 'OPTIONFILES/iqm.xml' has been set to '1'\n",
      "The option 'map_file' on file 'OPTIONFILES/iqm.xml' has been set to 'system.xml'\n",
      "The option 'gwbse_options.gwbse.ranges' on file 'OPTIONFILES/iqm.xml' has been set to 'full'\n",
      "The option 'gwbse_options.gwbse.tasks' on file 'OPTIONFILES/iqm.xml' has been set to 'gw'\n",
      "The option 'gwbse_options.gwbse.qp_solver' on file 'OPTIONFILES/iqm.xml' has been set to 'fixedpoint'\n",
      "The option 'gwbse_options.gwbse.qp_grid_steps' on file 'OPTIONFILES/iqm.xml' has been set to '100'\n",
      "The option 'gwbse_options.gwbse.qp_grid_spacing' on file 'OPTIONFILES/iqm.xml' has been set to '0.01'\n",
      "The option 'gwbse_options.gwbse.exctotal' on file 'OPTIONFILES/iqm.xml' has been set to '10'\n",
      "The option 'bsecoupling.spin' on file 'OPTIONFILES/iqm.xml' has been set to 'singlet'\n",
      "The option 'basisset' on file 'OPTIONFILES/iqm.xml' has been set to '3-21G'\n",
      "The option 'auxbasisset' on file 'OPTIONFILES/iqm.xml' has been set to 'aux-def2-svp'\n"
     ]
    }
   ],
   "source": [
    "edit_calculator(\"iqm\", \"states\", \"1\")\n",
    "edit_calculator(\"iqm\", \"map_file\", \"system.xml\")\n",
    "edit_calculator(\"iqm\", \"gwbse_options.gwbse.ranges\", \"full\")\n",
    "edit_calculator(\"iqm\", \"gwbse_options.gwbse.tasks\", \"gw\")\n",
    "edit_calculator(\"iqm\", \"gwbse_options.gwbse.qp_solver\", \"fixedpoint\")\n",
    "edit_calculator(\"iqm\", \"gwbse_options.gwbse.qp_grid_steps\", \"100\")\n",
    "edit_calculator(\"iqm\", \"gwbse_options.gwbse.qp_grid_spacing\", \"0.01\")\n",
    "edit_calculator(\"iqm\", \"gwbse_options.gwbse.exctotal\", \"10\")\n",
    "edit_calculator(\"iqm\", \"bsecoupling.spin\", \"singlet\")\n",
    "edit_calculator(\"iqm\", \"basisset\", \"3-21G\")\n",
    "edit_calculator(\"iqm\", \"auxbasisset\", \"aux-def2-svp\")"
   ]
  },
  {
   "cell_type": "markdown",
   "metadata": {},
   "source": [
    "Before running the calculations, we need to specify in the `iqm` input which states to read into the jobfile for each segment type. The following *XML* snippet needs to be added"
   ]
  },
  {
   "cell_type": "code",
   "execution_count": 25,
   "metadata": {
    "execution": {
     "iopub.execute_input": "2021-06-12T21:14:13.454541Z",
     "iopub.status.busy": "2021-06-12T21:14:13.453963Z",
     "iopub.status.idle": "2021-06-12T21:14:13.457450Z",
     "shell.execute_reply": "2021-06-12T21:14:13.457912Z"
    }
   },
   "outputs": [],
   "source": [
    "readjobfile = \"\"\"\n",
    "<readjobfile help=\"which states to read into the jobfile for each segment type\">\n",
    "     <singlet>Methane:s1</singlet>\n",
    "     <triplet>Methane:t1</triplet>\n",
    "     <electron>Methane:e1</electron>\n",
    "     <hole>Methane:h1</hole>\n",
    "</readjobfile>\n",
    "\"\"\""
   ]
  },
  {
   "cell_type": "markdown",
   "metadata": {},
   "source": [
    "The following code add the `readjobfile` section,"
   ]
  },
  {
   "cell_type": "code",
   "execution_count": 26,
   "metadata": {
    "execution": {
     "iopub.execute_input": "2021-06-12T21:14:13.463524Z",
     "iopub.status.busy": "2021-06-12T21:14:13.462846Z",
     "iopub.status.idle": "2021-06-12T21:14:13.468314Z",
     "shell.execute_reply": "2021-06-12T21:14:13.467831Z"
    }
   },
   "outputs": [],
   "source": [
    "add_section(\"iqm\", readjobfile)"
   ]
  },
  {
   "cell_type": "markdown",
   "metadata": {},
   "source": [
    "Now, let's write the jobs to the file"
   ]
  },
  {
   "cell_type": "code",
   "execution_count": 27,
   "metadata": {
    "execution": {
     "iopub.execute_input": "2021-06-12T21:14:13.472627Z",
     "iopub.status.busy": "2021-06-12T21:14:13.472075Z",
     "iopub.status.idle": "2021-06-12T21:14:16.805960Z",
     "shell.execute_reply": "2021-06-12T21:14:16.806416Z"
    }
   },
   "outputs": [
    {
     "name": "stdout",
     "output_type": "stream",
     "text": [
      "==================================================\r\n",
      "========   VOTCA (http://www.votca.org)   ========\r\n",
      "==================================================\r\n",
      "\r\n",
      "please submit bugs to https://github.com/votca/xtp/issues\r\n",
      "\r\n",
      "xtp_parallel, version 2022-dev gitid: 3547ddd (compiled Jun 12 2021, 21:01:06)\r\n",
      "votca_csg, version 2022-dev gitid: 3547ddd (compiled Jun 12 2021, 20:42:28)\r\n",
      "votca_tools, version 2022-dev gitid: 3547ddd (compiled Jun 12 2021, 20:39:13)\r\n",
      "\r\n",
      "Initializing calculator\r\n",
      "... iqm\r\n",
      "\r\n",
      "... ... Initialized with 1 threads.\r\n",
      "\r\n",
      "... ... Using 1 openmp threads for 1x1=1 total threads.\r\n",
      "1 frames in statefile, Ids are: 0 \r\n",
      "Starting at frame 0\r\n",
      "Evaluating frame 0\r\n",
      "Import MD Topology (i.e. frame 0) from state.hdf5\r\n",
      ".... \r\n",
      "... iqm \r\n",
      "... ... Writing job file iqm.jobs\r\n",
      "... ... In total 76140 jobs\r\n",
      "Changes have not been written to state file.\r\n"
     ]
    }
   ],
   "source": [
    "!xtp_parallel -e iqm -o OPTIONFILES/iqm.xml -f state.hdf5 -s 0 -j \"write\""
   ]
  },
  {
   "cell_type": "markdown",
   "metadata": {},
   "source": [
    "From the jobs that we just write down, let's make available only the first job"
   ]
  },
  {
   "cell_type": "code",
   "execution_count": 28,
   "metadata": {
    "execution": {
     "iopub.execute_input": "2021-06-12T21:14:16.814442Z",
     "iopub.status.busy": "2021-06-12T21:14:16.810995Z",
     "iopub.status.idle": "2021-06-12T21:14:18.446183Z",
     "shell.execute_reply": "2021-06-12T21:14:18.446738Z"
    }
   },
   "outputs": [],
   "source": [
    "!sed -i \"s/AVAILABLE/COMPLETE/g\" iqm.jobs\n",
    "!sed -i '0,/COMPLETE/s/COMPLETE/AVAILABLE/' iqm.jobs"
   ]
  },
  {
   "cell_type": "markdown",
   "metadata": {},
   "source": [
    "Now we can run and store the jobs results"
   ]
  },
  {
   "cell_type": "code",
   "execution_count": 29,
   "metadata": {
    "execution": {
     "iopub.execute_input": "2021-06-12T21:14:18.455129Z",
     "iopub.status.busy": "2021-06-12T21:14:18.452155Z",
     "iopub.status.idle": "2021-06-12T21:14:41.452619Z",
     "shell.execute_reply": "2021-06-12T21:14:41.452041Z"
    }
   },
   "outputs": [
    {
     "name": "stdout",
     "output_type": "stream",
     "text": [
      "==================================================\r\n",
      "========   VOTCA (http://www.votca.org)   ========\r\n",
      "==================================================\r\n",
      "\r\n",
      "please submit bugs to https://github.com/votca/xtp/issues\r\n",
      "\r\n",
      "xtp_parallel, version 2022-dev gitid: 3547ddd (compiled Jun 12 2021, 21:01:06)\r\n",
      "votca_csg, version 2022-dev gitid: 3547ddd (compiled Jun 12 2021, 20:42:28)\r\n",
      "votca_tools, version 2022-dev gitid: 3547ddd (compiled Jun 12 2021, 20:39:13)\r\n",
      "\r\n",
      "Initializing calculator\r\n",
      "... iqm\r\n",
      "\r\n",
      "... ... Initialized with 1 threads.\r\n",
      "\r\n",
      "... ... Using 2 openmp threads for 1x2=2 total threads.\r\n",
      "1 frames in statefile, Ids are: 0 \r\n",
      "Starting at frame 0\r\n",
      "Evaluating frame 0\r\n",
      "Import MD Topology (i.e. frame 0) from state.hdf5\r\n",
      ".... \r\n",
      "... iqm \r\n",
      "MST ERR Job file = 'iqm.jobs', cache size =  1\r\n",
      "MST ERR Initialize jobs from iqm.jobs\r\n",
      "MST ERR Registered 76140 jobs.\r\n",
      "T00 ERR ... Requesting next job\r\n",
      "T00 ERR ... Assign jobs from stack\r\n",
      "T00 ERR ... Next job: ID = 0=> [ 0%] \r\n",
      "T00 ERR ... 2021-6-12 21:14:28 Evaluating pair 0 [0:1] out of 76140\r\n",
      "T00 ERR ... Guess requested, reading molecular orbitals\r\n",
      "T00 ERR ... Reading MoleculeA from OR_FILES/molecules/frame_0/molecule_0.orb\r\n",
      "T00 ERR ... Reading MoleculeB from OR_FILES/molecules/frame_0/molecule_1.orb\r\n",
      "T00 ERR ... Running DFT\r\n",
      "T00 ERR ... Calculating electronic couplings\r\n",
      "T00 ERR ... ======WARNING=======\r\n",
      " Coordinates of monomer and dimer atoms do not agree\r\n",
      "T00 ERR ... Levels:Basis A[2:17] B[2:17]\r\n",
      "T00 ERR ... Done with electronic couplings\r\n",
      "T00 ERR ... Running GWBSE\r\n",
      "T00 ERR ... Running BSECoupling\r\n",
      "T00 ERR ... 2021-6-12 21:14:31 Finished evaluating pair 0:1\r\n",
      "T00 ERR ... Orb file is not saved according to options \r\n",
      "T00 ERR ... Reporting job results\r\n",
      "\r\n",
      "T00 ERR ... Requesting next job\r\n",
      "T00 ERR ... Assign jobs from stack\r\n",
      "T00 ERR ... Sync did not yield any new jobs.\r\n",
      "T00 ERR ... Next job: ID = - (none available)\r\n",
      "MST ERR Assign jobs from stack\r\n",
      "Changes have not been written to state file.\r\n"
     ]
    }
   ],
   "source": [
    "!xtp_parallel -e iqm -o OPTIONFILES/iqm.xml -f state.hdf5 -p 2 -s 0 -j run -c 1"
   ]
  },
  {
   "cell_type": "markdown",
   "metadata": {},
   "source": [
    "Finally, we read the results into the state"
   ]
  },
  {
   "cell_type": "code",
   "execution_count": 30,
   "metadata": {
    "execution": {
     "iopub.execute_input": "2021-06-12T21:14:41.460427Z",
     "iopub.status.busy": "2021-06-12T21:14:41.457081Z",
     "iopub.status.idle": "2021-06-12T21:14:46.727000Z",
     "shell.execute_reply": "2021-06-12T21:14:46.726476Z"
    }
   },
   "outputs": [
    {
     "name": "stdout",
     "output_type": "stream",
     "text": [
      "==================================================\r\n",
      "========   VOTCA (http://www.votca.org)   ========\r\n",
      "==================================================\r\n",
      "\r\n",
      "please submit bugs to https://github.com/votca/xtp/issues\r\n",
      "\r\n",
      "xtp_parallel, version 2022-dev gitid: 3547ddd (compiled Jun 12 2021, 21:01:06)\r\n",
      "votca_csg, version 2022-dev gitid: 3547ddd (compiled Jun 12 2021, 20:42:28)\r\n",
      "votca_tools, version 2022-dev gitid: 3547ddd (compiled Jun 12 2021, 20:39:13)\r\n",
      "\r\n",
      "Initializing calculator\r\n",
      "... iqm\r\n",
      "\r\n",
      "... ... Initialized with 1 threads.\r\n",
      "\r\n",
      "... ... Using 1 openmp threads for 1x1=1 total threads.\r\n",
      "1 frames in statefile, Ids are: 0 \r\n",
      "Starting at frame 0\r\n",
      "Evaluating frame 0\r\n",
      "Import MD Topology (i.e. frame 0) from state.hdf5\r\n",
      ".... \r\n",
      "... iqm \r\n",
      " ERROR    Pairs [total:updated(e,h,s,t)] 76140:(1,1,1,0) Incomplete jobs: 76139\r\n",
      "\r\n",
      "Wrote MD topology (step = 0, time = 0) to state.hdf5\r\n",
      "... . \r\n"
     ]
    }
   ],
   "source": [
    "!xtp_parallel -e iqm -o OPTIONFILES/iqm.xml -f state.hdf5 -j \"read\""
   ]
  },
  {
   "cell_type": "markdown",
   "metadata": {},
   "source": [
    "## Coupling\n",
    "We can now compute the classical coupling of transition in the aformentioned three stages,"
   ]
  },
  {
   "cell_type": "code",
   "execution_count": 31,
   "metadata": {
    "execution": {
     "iopub.execute_input": "2021-06-12T21:14:46.731792Z",
     "iopub.status.busy": "2021-06-12T21:14:46.731190Z",
     "iopub.status.idle": "2021-06-12T21:14:47.432559Z",
     "shell.execute_reply": "2021-06-12T21:14:47.432015Z"
    }
   },
   "outputs": [],
   "source": [
    "!cp \"${VOTCASHARE}/xtp/xml/iexcitoncl.xml\" OPTIONFILES"
   ]
  },
  {
   "cell_type": "markdown",
   "metadata": {},
   "source": [
    "We need to change in the `iexcitoncl` input the name `map_file` option and add the state. check all the available of the [iexcitoncl calculator](https://www.votca.org/xtp/iexcitoncl.html)."
   ]
  },
  {
   "cell_type": "code",
   "execution_count": 32,
   "metadata": {
    "execution": {
     "iopub.execute_input": "2021-06-12T21:14:47.437363Z",
     "iopub.status.busy": "2021-06-12T21:14:47.436408Z",
     "iopub.status.idle": "2021-06-12T21:14:47.440394Z",
     "shell.execute_reply": "2021-06-12T21:14:47.439916Z"
    }
   },
   "outputs": [
    {
     "name": "stdout",
     "output_type": "stream",
     "text": [
      "The option 'map_file' on file 'OPTIONFILES/iexcitoncl.xml' has been set to 'system.xml'\n"
     ]
    }
   ],
   "source": [
    "edit_calculator(\"iexcitoncl\", \"map_file\", \"system.xml\")"
   ]
  },
  {
   "cell_type": "code",
   "execution_count": 33,
   "metadata": {
    "execution": {
     "iopub.execute_input": "2021-06-12T21:14:47.444482Z",
     "iopub.status.busy": "2021-06-12T21:14:47.443338Z",
     "iopub.status.idle": "2021-06-12T21:14:47.447656Z",
     "shell.execute_reply": "2021-06-12T21:14:47.447159Z"
    }
   },
   "outputs": [],
   "source": [
    "state = \"<states>Methane:n2s1</states>\"\n",
    "add_section(\"iexcitoncl\", state)"
   ]
  },
  {
   "cell_type": "code",
   "execution_count": 34,
   "metadata": {
    "execution": {
     "iopub.execute_input": "2021-06-12T21:14:47.454586Z",
     "iopub.status.busy": "2021-06-12T21:14:47.451044Z",
     "iopub.status.idle": "2021-06-12T21:14:49.317841Z",
     "shell.execute_reply": "2021-06-12T21:14:49.318434Z"
    }
   },
   "outputs": [
    {
     "name": "stdout",
     "output_type": "stream",
     "text": [
      "==================================================\r\n",
      "========   VOTCA (http://www.votca.org)   ========\r\n",
      "==================================================\r\n",
      "\r\n",
      "please submit bugs to https://github.com/votca/xtp/issues\r\n",
      "\r\n",
      "xtp_parallel, version 2022-dev gitid: 3547ddd (compiled Jun 12 2021, 21:01:06)\r\n",
      "votca_csg, version 2022-dev gitid: 3547ddd (compiled Jun 12 2021, 20:42:28)\r\n",
      "votca_tools, version 2022-dev gitid: 3547ddd (compiled Jun 12 2021, 20:39:13)\r\n",
      "\r\n",
      "Initializing calculator\r\n",
      "... iexcitoncl\r\n",
      "\r\n",
      "... ... Initialized with 1 threads.\r\n",
      "\r\n",
      "... ... Using 1 openmp threads for 1x1=1 total threads.\r\n",
      "1 frames in statefile, Ids are: 0 \r\n",
      "Starting at frame 0\r\n",
      "Evaluating frame 0\r\n",
      "Import MD Topology (i.e. frame 0) from state.hdf5\r\n",
      ".... \r\n",
      "... iexcitoncl \r\n",
      "... ... Writing job file exciton.jobs\r\n",
      "... ... In total 0 jobs\r\n",
      "Changes have not been written to state file.\r\n"
     ]
    }
   ],
   "source": [
    "!xtp_parallel -e iexcitoncl -o OPTIONFILES/iexcitoncl.xml -f state.hdf5 -j \"write\""
   ]
  },
  {
   "cell_type": "code",
   "execution_count": 35,
   "metadata": {
    "execution": {
     "iopub.execute_input": "2021-06-12T21:14:49.326881Z",
     "iopub.status.busy": "2021-06-12T21:14:49.323390Z",
     "iopub.status.idle": "2021-06-12T21:14:50.029445Z",
     "shell.execute_reply": "2021-06-12T21:14:50.028847Z"
    }
   },
   "outputs": [
    {
     "name": "stdout",
     "output_type": "stream",
     "text": [
      " MD_FILES\t\t   eanalyze.pairlist_s.out   iqm.jobs~\r\n",
      " MMMM\t\t\t   eanalyze.pairlist_t.out  'md_segments step__0.pdb'\r\n",
      " MP_FILES\t\t   eanalyze.sitecorr_e.out  'mp_segments_e step__0.pdb'\r\n",
      " OPTIONFILES\t\t   eanalyze.sitecorr_h.out  'mp_segments_h step__0.pdb'\r\n",
      " OR_FILES\t\t   eanalyze.sitecorr_s.out  'qm_segments_n step__0.pdb'\r\n",
      " QC_FILES\t\t   eanalyze.sitecorr_t.out   qmmm.xml\r\n",
      " QMMM_GROMACS.ipynb\t   eanalyze.sitehist_e.out   qmmm_mm.xml\r\n",
      " __pycache__\t\t   eanalyze.sitehist_h.out   qmmm_mm_jobs.xml\r\n",
      " eanalyze.pairhist_e.out   eanalyze.sitehist_s.out   qmmm_mm_jobs.xml~\r\n",
      " eanalyze.pairhist_h.out   eanalyze.sitehist_t.out   state.hdf5\r\n",
      " eanalyze.pairhist_s.out   eqm.jobs\t\t     system.xml\r\n",
      " eanalyze.pairhist_t.out   eqm.jobs~\t\t     xml_editor.py\r\n",
      " eanalyze.pairlist_e.out   exciton.jobs\r\n",
      " eanalyze.pairlist_h.out   iqm.jobs\r\n"
     ]
    }
   ],
   "source": [
    "!ls\n"
   ]
  },
  {
   "cell_type": "markdown",
   "metadata": {},
   "source": [
    "Now we can run and save the jobs. For demo purposes we will run only the first job"
   ]
  },
  {
   "cell_type": "code",
   "execution_count": 36,
   "metadata": {
    "execution": {
     "iopub.execute_input": "2021-06-12T21:14:50.039312Z",
     "iopub.status.busy": "2021-06-12T21:14:50.034883Z",
     "iopub.status.idle": "2021-06-12T21:14:53.285791Z",
     "shell.execute_reply": "2021-06-12T21:14:53.284956Z"
    }
   },
   "outputs": [
    {
     "name": "stdout",
     "output_type": "stream",
     "text": [
      "==================================================\r\n",
      "========   VOTCA (http://www.votca.org)   ========\r\n",
      "==================================================\r\n",
      "\r\n",
      "please submit bugs to https://github.com/votca/xtp/issues\r\n",
      "\r\n",
      "xtp_parallel, version 2022-dev gitid: 3547ddd (compiled Jun 12 2021, 21:01:06)\r\n",
      "votca_csg, version 2022-dev gitid: 3547ddd (compiled Jun 12 2021, 20:42:28)\r\n",
      "votca_tools, version 2022-dev gitid: 3547ddd (compiled Jun 12 2021, 20:39:13)\r\n",
      "\r\n",
      "Initializing calculator\r\n",
      "... iexcitoncl\r\n",
      "\r\n",
      "... ... Initialized with 1 threads.\r\n",
      "\r\n",
      "... ... Using 1 openmp threads for 1x1=1 total threads.\r\n",
      "1 frames in statefile, Ids are: 0 \r\n",
      "Starting at frame 0\r\n",
      "Evaluating frame 0\r\n",
      "Import MD Topology (i.e. frame 0) from state.hdf5\r\n",
      ".... \r\n",
      "... iexcitoncl \r\n",
      "MST ERR Job file = 'exciton.jobs', cache size =  8\r\n",
      "MST ERR Initialize jobs from exciton.jobs\r\n",
      "MST ERR Registered 0 jobs.\r\n",
      "T00 ERR ... Requesting next job\r\n",
      "T00 ERR ... Next job: ID = - (none available)\r\n",
      "MST ERR Assign jobs from stack\r\n",
      "Changes have not been written to state file.\r\n"
     ]
    }
   ],
   "source": [
    "!sed -i \"s/AVAILABLE/COMPLETE/g\" exciton.jobs\n",
    "!sed -i '0,/COMPLETE/s/COMPLETE/AVAILABLE/' exciton.jobs\n",
    "!xtp_parallel -e iexcitoncl -o OPTIONFILES/iexcitoncl.xml -f state.hdf5"
   ]
  },
  {
   "cell_type": "code",
   "execution_count": 37,
   "metadata": {
    "execution": {
     "iopub.execute_input": "2021-06-12T21:14:53.290578Z",
     "iopub.status.busy": "2021-06-12T21:14:53.289751Z",
     "iopub.status.idle": "2021-06-12T21:14:53.294446Z",
     "shell.execute_reply": "2021-06-12T21:14:53.294858Z"
    }
   },
   "outputs": [],
   "source": [
    "#!xtp_parallel -e iexcitoncl -o OPTIONFILES/iexcitoncl.xml -f state.hdf5 -j \"read\""
   ]
  },
  {
   "cell_type": "markdown",
   "metadata": {},
   "source": [
    "## Coupling analysis\n",
    "Using the coupling computed in the previous steps, we will generate an histogram for the squared couplings in logarithmic scale,"
   ]
  },
  {
   "cell_type": "code",
   "execution_count": 38,
   "metadata": {
    "execution": {
     "iopub.execute_input": "2021-06-12T21:14:53.303478Z",
     "iopub.status.busy": "2021-06-12T21:14:53.299177Z",
     "iopub.status.idle": "2021-06-12T21:14:55.801667Z",
     "shell.execute_reply": "2021-06-12T21:14:55.800661Z"
    }
   },
   "outputs": [
    {
     "name": "stdout",
     "output_type": "stream",
     "text": [
      "The option 'states' on file 'OPTIONFILES/ianalyze.xml' has been set to 'e,h,s'\n",
      "==================================================\r\n",
      "========   VOTCA (http://www.votca.org)   ========\r\n",
      "==================================================\r\n",
      "\r\n",
      "please submit bugs to https://github.com/votca/xtp/issues\r\n",
      "\r\n",
      "xtp_run, version 2022-dev gitid: 3547ddd (compiled Jun 12 2021, 21:01:06)\r\n",
      "votca_csg, version 2022-dev gitid: 3547ddd (compiled Jun 12 2021, 20:42:28)\r\n",
      "votca_tools, version 2022-dev gitid: 3547ddd (compiled Jun 12 2021, 20:39:13)\r\n",
      "\r\n",
      "Initializing calculator\r\n",
      "... ianalyze\r\n",
      "1 frames in statefile, Ids are: 0 \r\n",
      "Starting at frame 0\r\n",
      "Evaluating frame 0\r\n",
      "Import MD Topology (i.e. frame 0) from state.hdf5\r\n",
      ".... \r\n",
      "... ianalyze\r\n",
      " Using 1 threads\r\n",
      "Calculating for state e now.\r\n",
      "Calculating for state h now.\r\n",
      "Calculating for state s now.\r\n",
      "Changes have not been written to state file.\r\n"
     ]
    }
   ],
   "source": [
    "!cp \"${VOTCASHARE}/xtp/xml/ianalyze.xml\" OPTIONFILES\n",
    "edit_calculator(\"ianalyze\", \"states\", \"e,h,s\")\n",
    "!xtp_run -e ianalyze -o OPTIONFILES/ianalyze.xml -f state.hdf5"
   ]
  },
  {
   "cell_type": "markdown",
   "metadata": {},
   "source": [
    "## QMMM calculations"
   ]
  },
  {
   "cell_type": "code",
   "execution_count": 39,
   "metadata": {
    "execution": {
     "iopub.execute_input": "2021-06-12T21:14:55.809491Z",
     "iopub.status.busy": "2021-06-12T21:14:55.806646Z",
     "iopub.status.idle": "2021-06-12T21:14:58.470577Z",
     "shell.execute_reply": "2021-06-12T21:14:58.469718Z"
    }
   },
   "outputs": [
    {
     "name": "stdout",
     "output_type": "stream",
     "text": [
      "==================================================\r\n",
      "========   VOTCA (http://www.votca.org)   ========\r\n",
      "==================================================\r\n",
      "\r\n",
      "please submit bugs to https://github.com/votca/xtp/issues\r\n",
      "\r\n",
      "xtp_parallel, version 2022-dev gitid: 3547ddd (compiled Jun 12 2021, 21:01:06)\r\n",
      "votca_csg, version 2022-dev gitid: 3547ddd (compiled Jun 12 2021, 20:42:28)\r\n",
      "votca_tools, version 2022-dev gitid: 3547ddd (compiled Jun 12 2021, 20:39:13)\r\n",
      "\r\n",
      "Initializing calculator\r\n",
      "... qmmm\r\n",
      "\r\n",
      "... ... Initialized with 1 threads.\r\n",
      "\r\n",
      "... ... Using 1 openmp threads for 1x1=1 total threads.\r\n",
      "1 frames in statefile, Ids are: 0 \r\n",
      "Starting at frame 0\r\n",
      "Evaluating frame 0\r\n",
      "Import MD Topology (i.e. frame 0) from state.hdf5\r\n",
      ".... \r\n",
      "... qmmm \r\n",
      "... ... Writing job file qmmm_jobs.xml\r\n",
      "... ... In total 3001 jobs\r\n",
      "Changes have not been written to state file.\r\n"
     ]
    }
   ],
   "source": [
    "!cp qmmm.xml OPTIONFILES/\n",
    "!xtp_parallel -e qmmm -o OPTIONFILES/qmmm.xml -f state.hdf5 -j \"write\""
   ]
  },
  {
   "cell_type": "markdown",
   "metadata": {},
   "source": [
    "Lets run just the first job"
   ]
  },
  {
   "cell_type": "code",
   "execution_count": 40,
   "metadata": {
    "execution": {
     "iopub.execute_input": "2021-06-12T21:14:58.481010Z",
     "iopub.status.busy": "2021-06-12T21:14:58.477826Z",
     "iopub.status.idle": "2021-06-12T21:15:22.893187Z",
     "shell.execute_reply": "2021-06-12T21:15:22.892602Z"
    }
   },
   "outputs": [
    {
     "name": "stdout",
     "output_type": "stream",
     "text": [
      "==================================================\r\n",
      "========   VOTCA (http://www.votca.org)   ========\r\n",
      "==================================================\r\n",
      "\r\n",
      "please submit bugs to https://github.com/votca/xtp/issues\r\n",
      "\r\n",
      "xtp_parallel, version 2022-dev gitid: 3547ddd (compiled Jun 12 2021, 21:01:06)\r\n",
      "votca_csg, version 2022-dev gitid: 3547ddd (compiled Jun 12 2021, 20:42:28)\r\n",
      "votca_tools, version 2022-dev gitid: 3547ddd (compiled Jun 12 2021, 20:39:13)\r\n",
      "\r\n",
      "Initializing calculator\r\n",
      "... qmmm\r\n",
      "\r\n",
      "... ... Initialized with 1 threads.\r\n",
      "\r\n",
      "... ... Using 2 openmp threads for 1x2=2 total threads.\r\n",
      "1 frames in statefile, Ids are: 0 \r\n",
      "Starting at frame 0\r\n",
      "Evaluating frame 0\r\n",
      "Import MD Topology (i.e. frame 0) from state.hdf5\r\n",
      ".... \r\n",
      "... qmmm \r\n",
      "MST ERR Job file = 'qmmm_jobs.xml', cache size =  8\r\n",
      "MST ERR Initialize jobs from qmmm_jobs.xml\r\n",
      "MST ERR Registered 3000 jobs.\r\n",
      "T00 ERR ... Requesting next job\r\n",
      "T00 ERR ... Assign jobs from stack\r\n",
      "T00 ERR ... Next job: ID = 0=> [ 0%] \r\n",
      "T00 ERR ...  Regions created\r\n",
      "T00 ERR ... Id: 0 type: qm size: 1 charge[e]= 12\r\n",
      "T00 ERR ... Id: 1 type: polar size: 92 charge[e]= -5.09315e-15\r\n",
      "T00 ERR ... Id: 2 type: static size: 178 charge[e]= -9.86711e-15\r\n",
      "T00 ERR ... 2021-6-12 21:15:2 Writing jobtopology to QMMM/frame_0/job_0_Methane_0:n/regions.pdb\r\n",
      "T00 ERR ... 2021-6-12 21:15:2 --Inter Region SCF Iteration 1 of 50\r\n",
      "T00 ERR ... 2021-6-12 21:15:2 Evaluating qm 0\r\n",
      "T00 ERR ... 2021-6-12 21:15:2 Evaluating interaction between qm 0 and polar 1\r\n",
      "T00 ERR ... 2021-6-12 21:15:2 Evaluating interaction between qm 0 and static 2\r\n",
      "T00 ERR ... Running DFT calculation\r\n",
      "T00 ERR ... 2021-6-12 21:15:2 Using 2 threads\r\n",
      "T00 ERR ... 2021-6-12 21:15:2 Using native Eigen implementation, no BLAS overload \r\n",
      "T00 ERR ...  Molecule Coordinates [A] \r\n",
      "T00 ERR ...   C   +30.3000 +1.2704 +5.5205\r\n",
      "T00 ERR ...   H   +31.2392 +1.4802 +6.0301\r\n",
      "T00 ERR ...   H   +30.4910 +0.6554 +4.6433\r\n",
      "T00 ERR ...   H   +29.8500 +2.2100 +5.2100\r\n",
      "T00 ERR ...   H   +29.6200 +0.7500 +6.2000\r\n",
      "T00 ERR ... 2021-6-12 21:15:2 Loaded DFT Basis Set def2-svp with 34 functions\r\n",
      "T00 ERR ... 2021-6-12 21:15:2 Total number of electrons: 10\r\n",
      "T00 ERR ... 2021-6-12 21:15:2 Smallest value of AOOverlap matrix is 0.013882\r\n",
      "T00 ERR ... 2021-6-12 21:15:2 Removed 0 basisfunction from inverse overlap matrix\r\n",
      "T00 ERR ... 2021-6-12 21:15:2 Convergence Options:\r\n",
      "T00 ERR ... \t\t Delta E [Ha]: 1e-07\r\n",
      "T00 ERR ... \t\t DIIS max error: 1e-07\r\n",
      "T00 ERR ... \t\t DIIS histlength: 20\r\n",
      "T00 ERR ... \t\t ADIIS start: 0.8\r\n",
      "T00 ERR ... \t\t DIIS start: 0.002\r\n",
      "T00 ERR ... \t\t Deleting oldest element from DIIS hist\r\n",
      "T00 ERR ... \t\t Levelshift[Ha]: 0\r\n",
      "T00 ERR ... \t\t Levelshift end: 0.2\r\n",
      "T00 ERR ... \t\t Mixing Parameter alpha: 0.7\r\n",
      "T00 ERR ... 2021-6-12 21:15:2 Constructed independent particle hamiltonian \r\n",
      "T00 ERR ... 2021-6-12 21:15:2 Nuclear Repulsion Energy is 13.4434088\r\n",
      "T00 ERR ... 2021-6-12 21:15:2 Using hybrid functional with alpha=0.25\r\n",
      "T00 ERR ... 2021-6-12 21:15:2 Setup numerical integration grid medium for vxc functional XC_HYB_GGA_XC_PBEH\r\n",
      "T00 ERR ... 2021-6-12 21:15:2 Setup Initial Guess using: atom\r\n",
      "T00 ERR ... 2021-6-12 21:15:2 Calculating atom density for C\r\n",
      "T00 ERR ... 2021-6-12 21:15:4 Calculating atom density for H\r\n",
      "T00 ERR ... 2021-6-12 21:15:4 STARTING SCF cycle\r\n",
      "T00 ERR ...  --------------------------------------------------------------------------\r\n",
      "T00 ERR ... \r\n",
      "T00 ERR ... 2021-6-12 21:15:4 Iteration 1 of 100\r\n",
      "T00 ERR ... 2021-6-12 21:15:4 Total Energy -40.3160382356\r\n",
      "T00 ERR ... 2021-6-12 21:15:4 DIIs error 0.224343479818\r\n",
      "T00 ERR ... 2021-6-12 21:15:4 Delta Etot 0\r\n",
      "T00 ERR ... \r\n",
      "T00 ERR ... 2021-6-12 21:15:4 Iteration 2 of 100\r\n",
      "T00 ERR ... 2021-6-12 21:15:4 Total Energy -40.3631646134\r\n",
      "T00 ERR ... 2021-6-12 21:15:4 DIIs error 0.134009744313\r\n",
      "T00 ERR ... 2021-6-12 21:15:4 Delta Etot -0.047126377752\r\n",
      "T00 ERR ... \r\n",
      "T00 ERR ... 2021-6-12 21:15:4 Iteration 3 of 100\r\n",
      "T00 ERR ... 2021-6-12 21:15:5 Total Energy -40.3846940826\r\n",
      "T00 ERR ... 2021-6-12 21:15:5 DIIs error 0.0839223444316\r\n",
      "T00 ERR ... 2021-6-12 21:15:5 Delta Etot -0.021529469253\r\n",
      "T00 ERR ... \r\n",
      "T00 ERR ... 2021-6-12 21:15:5 Iteration 4 of 100\r\n",
      "T00 ERR ... 2021-6-12 21:15:5 Total Energy -40.4256412728\r\n",
      "T00 ERR ... 2021-6-12 21:15:5 DIIs error 0.0278434439037\r\n",
      "T00 ERR ... 2021-6-12 21:15:5 Delta Etot -0.0409471901589\r\n",
      "T00 ERR ... \r\n",
      "T00 ERR ... 2021-6-12 21:15:5 Iteration 5 of 100\r\n",
      "T00 ERR ... 2021-6-12 21:15:5 Total Energy -40.4252782797\r\n",
      "T00 ERR ... 2021-6-12 21:15:5 DIIs error 0.0303866011461\r\n",
      "T00 ERR ... 2021-6-12 21:15:5 Delta Etot 0.000362993040831\r\n",
      "T00 ERR ... \r\n",
      "T00 ERR ... 2021-6-12 21:15:5 Iteration 6 of 100\r\n",
      "T00 ERR ... 2021-6-12 21:15:5 Total Energy -40.428332092\r\n",
      "T00 ERR ... 2021-6-12 21:15:5 DIIs error 0.000900149072118\r\n",
      "T00 ERR ... 2021-6-12 21:15:5 Delta Etot -0.00305381231325\r\n",
      "T00 ERR ... \r\n",
      "T00 ERR ... 2021-6-12 21:15:5 Iteration 7 of 100\r\n",
      "T00 ERR ... 2021-6-12 21:15:5 Total Energy -40.4283348639\r\n",
      "T00 ERR ... 2021-6-12 21:15:5 DIIs error 4.04992169149e-05\r\n",
      "T00 ERR ... 2021-6-12 21:15:5 Delta Etot -2.77188465247e-06\r\n",
      "T00 ERR ... \r\n",
      "T00 ERR ... 2021-6-12 21:15:5 Iteration 8 of 100\r\n",
      "T00 ERR ... 2021-6-12 21:15:5 Total Energy -40.4283348731\r\n",
      "T00 ERR ... 2021-6-12 21:15:5 DIIs error 8.29240238696e-06\r\n",
      "T00 ERR ... 2021-6-12 21:15:5 Delta Etot -9.22537424231e-09\r\n",
      "T00 ERR ... \r\n",
      "T00 ERR ... 2021-6-12 21:15:5 Iteration 9 of 100\r\n",
      "T00 ERR ... 2021-6-12 21:15:5 Total Energy -40.4283348732\r\n",
      "T00 ERR ... 2021-6-12 21:15:5 DIIs error 4.11847974997e-06\r\n",
      "T00 ERR ... 2021-6-12 21:15:5 Delta Etot -3.52144979843e-11\r\n",
      "T00 ERR ... \r\n",
      "T00 ERR ... 2021-6-12 21:15:5 Iteration 10 of 100\r\n",
      "T00 ERR ... 2021-6-12 21:15:6 Total Energy -40.4283348733\r\n",
      "T00 ERR ... 2021-6-12 21:15:6 DIIs error 6.39551205961e-07\r\n",
      "T00 ERR ... 2021-6-12 21:15:6 Delta Etot -6.88658019499e-11\r\n",
      "T00 ERR ... \r\n",
      "T00 ERR ... 2021-6-12 21:15:6 Iteration 11 of 100\r\n",
      "T00 ERR ... 2021-6-12 21:15:6 Total Energy -40.4283348733\r\n",
      "T00 ERR ... 2021-6-12 21:15:6 DIIs error 1.34029586879e-07\r\n",
      "T00 ERR ... 2021-6-12 21:15:6 Delta Etot -1.93267624127e-12\r\n",
      "T00 ERR ... \r\n",
      "T00 ERR ... 2021-6-12 21:15:6 Iteration 12 of 100\r\n",
      "T00 ERR ... 2021-6-12 21:15:6 Total Energy -40.4283348733\r\n",
      "T00 ERR ... 2021-6-12 21:15:6 DIIs error 1.4266580556e-08\r\n",
      "T00 ERR ... 2021-6-12 21:15:6 Delta Etot -1.06581410364e-13\r\n",
      "T00 ERR ... 2021-6-12 21:15:6 Total Energy has converged to -1.0658141e-13[Ha] after 12 iterations. DIIS error is converged up to 1.42665806e-08\r\n",
      "T00 ERR ... 2021-6-12 21:15:6 Final Single Point Energy -40.4283348733 Ha\r\n",
      "T00 ERR ... 2021-6-12 21:15:6 Final Local Exc contribution -5.19288292765 Ha\r\n",
      "T00 ERR ... 2021-6-12 21:15:6 Final Non Local Ex contribution -1.64346676034 Ha\r\n",
      "T00 ERR ...   Orbital energies: \r\n",
      "T00 ERR ...   index occupation energy(Hartree) \r\n",
      "T00 ERR ...      0      2   -10.2155439702\r\n",
      "T00 ERR ...      1      2   -0.7051474502\r\n",
      "T00 ERR ...      2      2   -0.4018530763\r\n",
      "T00 ERR ...      3      2   -0.4013030561\r\n",
      "T00 ERR ...      4      2   -0.4005167239\r\n",
      "T00 ERR ...      5      0   +0.0873160644\r\n",
      "T00 ERR ...      6      0   +0.1580404991\r\n",
      "T00 ERR ...      7      0   +0.1586955443\r\n",
      "T00 ERR ...      8      0   +0.1589281315\r\n",
      "T00 ERR ...      9      0   +0.4330256012\r\n",
      "T00 ERR ...     10      0   +0.4342802104\r\n",
      "T00 ERR ...     11      0   +0.4352482599\r\n",
      "T00 ERR ...     12      0   +0.6747490915\r\n",
      "T00 ERR ...     13      0   +0.7038048165\r\n",
      "T00 ERR ...     14      0   +0.7052280157\r\n",
      "T00 ERR ...     15      0   +0.7057531842\r\n",
      "T00 ERR ...     16      0   +0.8002909160\r\n",
      "T00 ERR ...     17      0   +1.0999417333\r\n",
      "T00 ERR ...     18      0   +1.1004096807\r\n",
      "T00 ERR ...     19      0   +1.5445777049\r\n",
      "T00 ERR ...     20      0   +1.5470371037\r\n",
      "T00 ERR ...     21      0   +1.5494748355\r\n",
      "T00 ERR ...     22      0   +1.7740441528\r\n",
      "T00 ERR ...     23      0   +1.7790714705\r\n",
      "T00 ERR ...     24      0   +1.7829840060\r\n",
      "T00 ERR ...     25      0   +2.1478692073\r\n",
      "T00 ERR ...     26      0   +2.1543523363\r\n",
      "T00 ERR ...     27      0   +2.1593032775\r\n",
      "T00 ERR ...     28      0   +2.5457715880\r\n",
      "T00 ERR ...     29      0   +2.5462267824\r\n",
      "T00 ERR ...     30      0   +2.6358795669\r\n",
      "T00 ERR ...     31      0   +2.9321001950\r\n",
      "T00 ERR ...     32      0   +2.9387290718\r\n",
      "T00 ERR ...     33      0   +2.9434070937\r\n",
      "T00 ERR ... 2021-6-12 21:15:6 Electric Dipole is[e*bohr]:\r\n",
      "\t\t dx=0.000671714438774\r\n",
      "\t\t dy=0.00319883857115\r\n",
      "\t\t dz=-0.0010548626485\r\n",
      "T00 ERR ... Writing result to votca.orb\r\n",
      "T00 ERR ... QM energy[Hrt]: -40.42833487 \r\n",
      "T00 ERR ... 2021-6-12 21:15:6 Evaluating polar 1\r\n",
      "T00 ERR ... 2021-6-12 21:15:6 Evaluating interaction between polar 1 and qm 0\r\n",
      "T00 ERR ... 2021-6-12 21:15:7 Evaluating interaction between polar 1 and static 2\r\n",
      "T00 ERR ... 2021-6-12 21:15:7 Starting Solving for classical polarization with 1380 degrees of freedom.\r\n",
      "T00 ERR ... 2021-6-12 21:15:7 CG: #iterations: 7, estimated error: 5.51883553603e-06\r\n",
      "T00 ERR ...   Total static energy [hrt]= 0.0009102654542\r\n",
      "T00 ERR ...   Total polar energy [hrt]= -0.0006230373479\r\n",
      "T00 ERR ...  Total energy [hrt]= 0.0002872281063\r\n",
      "T00 ERR ... 2021-6-12 21:15:7 Evaluating static 2\r\n",
      "T00 ERR ... 2021-6-12 21:15:7 Writing checkpoint to checkpoint_iter_1.hdf5\r\n",
      "T00 ERR ...  Region:qm 0 is not converged deltaE=-40.42833487 RMS Dmat=0.0813492265 MaxDmat=2.078065548\r\n",
      "T00 ERR ... 2021-6-12 21:15:7 Region:polar 1 is not converged deltaE=0.0002872281063\r\n",
      "T00 ERR ... 2021-6-12 21:15:7 --Total Energy all regions -40.42804765\r\n",
      "T00 ERR ... 2021-6-12 21:15:7 --Inter Region SCF Iteration 2 of 50\r\n",
      "T00 ERR ... 2021-6-12 21:15:7 Evaluating qm 0\r\n",
      "T00 ERR ... 2021-6-12 21:15:7 Evaluating interaction between qm 0 and polar 1\r\n",
      "T00 ERR ... 2021-6-12 21:15:7 Evaluating interaction between qm 0 and static 2\r\n",
      "T00 ERR ... Running DFT calculation\r\n",
      "T00 ERR ... 2021-6-12 21:15:7 Using 2 threads\r\n",
      "T00 ERR ... 2021-6-12 21:15:7 Using native Eigen implementation, no BLAS overload \r\n",
      "T00 ERR ...  Molecule Coordinates [A] \r\n",
      "T00 ERR ...   C   +30.3000 +1.2704 +5.5205\r\n",
      "T00 ERR ...   H   +31.2392 +1.4802 +6.0301\r\n",
      "T00 ERR ...   H   +30.4910 +0.6554 +4.6433\r\n",
      "T00 ERR ...   H   +29.8500 +2.2100 +5.2100\r\n",
      "T00 ERR ...   H   +29.6200 +0.7500 +6.2000\r\n",
      "T00 ERR ... 2021-6-12 21:15:7 Loaded DFT Basis Set def2-svp with 34 functions\r\n",
      "T00 ERR ... 2021-6-12 21:15:7 Total number of electrons: 10\r\n",
      "T00 ERR ... 2021-6-12 21:15:7 Smallest value of AOOverlap matrix is 0.01388201597\r\n",
      "T00 ERR ... 2021-6-12 21:15:7 Removed 0 basisfunction from inverse overlap matrix\r\n",
      "T00 ERR ... 2021-6-12 21:15:7 Convergence Options:\r\n",
      "T00 ERR ... \t\t Delta E [Ha]: 1e-07\r\n",
      "T00 ERR ... \t\t DIIS max error: 1e-07\r\n",
      "T00 ERR ... \t\t DIIS histlength: 20\r\n",
      "T00 ERR ... \t\t ADIIS start: 0.8\r\n",
      "T00 ERR ... \t\t DIIS start: 0.002\r\n",
      "T00 ERR ... \t\t Deleting oldest element from DIIS hist\r\n",
      "T00 ERR ... \t\t Levelshift[Ha]: 0\r\n",
      "T00 ERR ... \t\t Levelshift end: 0.2\r\n",
      "T00 ERR ... \t\t Mixing Parameter alpha: 0.7\r\n",
      "T00 ERR ... 2021-6-12 21:15:7 Constructed independent particle hamiltonian \r\n",
      "T00 ERR ... 2021-6-12 21:15:7 Nuclear Repulsion Energy is 13.4434088\r\n",
      "T00 ERR ... 2021-6-12 21:15:7 Using hybrid functional with alpha=0.25\r\n",
      "T00 ERR ... 2021-6-12 21:15:7 Setup numerical integration grid medium for vxc functional XC_HYB_GGA_XC_PBEH\r\n",
      "T00 ERR ... 2021-6-12 21:15:7 Setup Initial Guess using: atom\r\n",
      "T00 ERR ... 2021-6-12 21:15:7 Calculating atom density for C\r\n",
      "T00 ERR ... 2021-6-12 21:15:8 Calculating atom density for H\r\n",
      "T00 ERR ... 2021-6-12 21:15:8 STARTING SCF cycle\r\n",
      "T00 ERR ...  --------------------------------------------------------------------------\r\n",
      "T00 ERR ... \r\n",
      "T00 ERR ... 2021-6-12 21:15:8 Iteration 1 of 100\r\n",
      "T00 ERR ... 2021-6-12 21:15:9 Total Energy -40.3160382356\r\n",
      "T00 ERR ... 2021-6-12 21:15:9 DIIs error 0.224343479818\r\n",
      "T00 ERR ... 2021-6-12 21:15:9 Delta Etot 0\r\n",
      "T00 ERR ... \r\n",
      "T00 ERR ... 2021-6-12 21:15:9 Iteration 2 of 100\r\n",
      "T00 ERR ... 2021-6-12 21:15:9 Total Energy -40.3631646134\r\n",
      "T00 ERR ... 2021-6-12 21:15:9 DIIs error 0.134009744313\r\n",
      "T00 ERR ... 2021-6-12 21:15:9 Delta Etot -0.047126377752\r\n",
      "T00 ERR ... \r\n",
      "T00 ERR ... 2021-6-12 21:15:9 Iteration 3 of 100\r\n",
      "T00 ERR ... 2021-6-12 21:15:9 Total Energy -40.3846940826\r\n",
      "T00 ERR ... 2021-6-12 21:15:9 DIIs error 0.0839223444316\r\n",
      "T00 ERR ... 2021-6-12 21:15:9 Delta Etot -0.0215294692529\r\n",
      "T00 ERR ... \r\n",
      "T00 ERR ... 2021-6-12 21:15:9 Iteration 4 of 100\r\n",
      "T00 ERR ... 2021-6-12 21:15:9 Total Energy -40.4256412728\r\n",
      "T00 ERR ... 2021-6-12 21:15:9 DIIs error 0.0278434439037\r\n",
      "T00 ERR ... 2021-6-12 21:15:9 Delta Etot -0.0409471901588\r\n",
      "T00 ERR ... \r\n",
      "T00 ERR ... 2021-6-12 21:15:9 Iteration 5 of 100\r\n",
      "T00 ERR ... 2021-6-12 21:15:9 Total Energy -40.4252782797\r\n",
      "T00 ERR ... 2021-6-12 21:15:9 DIIs error 0.0303866011461\r\n",
      "T00 ERR ... 2021-6-12 21:15:9 Delta Etot 0.000362993040774\r\n",
      "T00 ERR ... \r\n",
      "T00 ERR ... 2021-6-12 21:15:9 Iteration 6 of 100\r\n",
      "T00 ERR ... 2021-6-12 21:15:9 Total Energy -40.428332092\r\n",
      "T00 ERR ... 2021-6-12 21:15:9 DIIs error 0.000900149072088\r\n",
      "T00 ERR ... 2021-6-12 21:15:9 Delta Etot -0.0030538123132\r\n",
      "T00 ERR ... \r\n",
      "T00 ERR ... 2021-6-12 21:15:9 Iteration 7 of 100\r\n",
      "T00 ERR ... 2021-6-12 21:15:9 Total Energy -40.4283348639\r\n",
      "T00 ERR ... 2021-6-12 21:15:9 DIIs error 4.04992169159e-05\r\n",
      "T00 ERR ... 2021-6-12 21:15:9 Delta Etot -2.77188465958e-06\r\n",
      "T00 ERR ... \r\n",
      "T00 ERR ... 2021-6-12 21:15:9 Iteration 8 of 100\r\n",
      "T00 ERR ... 2021-6-12 21:15:10 Total Energy -40.4283348731\r\n",
      "T00 ERR ... 2021-6-12 21:15:10 DIIs error 8.29240235657e-06\r\n",
      "T00 ERR ... 2021-6-12 21:15:10 Delta Etot -9.22543108572e-09\r\n",
      "T00 ERR ... \r\n",
      "T00 ERR ... 2021-6-12 21:15:10 Iteration 9 of 100\r\n",
      "T00 ERR ... 2021-6-12 21:15:10 Total Energy -40.4283348732\r\n",
      "T00 ERR ... 2021-6-12 21:15:10 DIIs error 4.11847976262e-06\r\n",
      "T00 ERR ... 2021-6-12 21:15:10 Delta Etot -3.51931817022e-11\r\n",
      "T00 ERR ... \r\n",
      "T00 ERR ... 2021-6-12 21:15:10 Iteration 10 of 100\r\n",
      "T00 ERR ... 2021-6-12 21:15:10 Total Energy -40.4283348733\r\n",
      "T00 ERR ... 2021-6-12 21:15:10 DIIs error 6.3955120411e-07\r\n",
      "T00 ERR ... 2021-6-12 21:15:10 Delta Etot -6.88586965225e-11\r\n",
      "T00 ERR ... \r\n",
      "T00 ERR ... 2021-6-12 21:15:10 Iteration 11 of 100\r\n",
      "T00 ERR ... 2021-6-12 21:15:10 Total Energy -40.4283348733\r\n",
      "T00 ERR ... 2021-6-12 21:15:10 DIIs error 1.34029610917e-07\r\n",
      "T00 ERR ... 2021-6-12 21:15:10 Delta Etot -1.93267624127e-12\r\n",
      "T00 ERR ... \r\n",
      "T00 ERR ... 2021-6-12 21:15:10 Iteration 12 of 100\r\n",
      "T00 ERR ... 2021-6-12 21:15:10 Total Energy -40.4283348733\r\n",
      "T00 ERR ... 2021-6-12 21:15:10 DIIs error 1.426656333e-08\r\n",
      "T00 ERR ... 2021-6-12 21:15:10 Delta Etot -9.94759830064e-14\r\n",
      "T00 ERR ... 2021-6-12 21:15:10 Total Energy has converged to -9.9475983e-14[Ha] after 12 iterations. DIIS error is converged up to 1.42665633e-08\r\n",
      "T00 ERR ... 2021-6-12 21:15:10 Final Single Point Energy -40.4283348733 Ha\r\n",
      "T00 ERR ... 2021-6-12 21:15:10 Final Local Exc contribution -5.19288292765 Ha\r\n",
      "T00 ERR ... 2021-6-12 21:15:10 Final Non Local Ex contribution -1.64346676034 Ha\r\n",
      "T00 ERR ...   Orbital energies: \r\n",
      "T00 ERR ...   index occupation energy(Hartree) \r\n",
      "T00 ERR ...      0      2   -10.2155439702\r\n",
      "T00 ERR ...      1      2   -0.7051474502\r\n",
      "T00 ERR ...      2      2   -0.4018530763\r\n",
      "T00 ERR ...      3      2   -0.4013030561\r\n",
      "T00 ERR ...      4      2   -0.4005167239\r\n",
      "T00 ERR ...      5      0   +0.0873160644\r\n",
      "T00 ERR ...      6      0   +0.1580404991\r\n",
      "T00 ERR ...      7      0   +0.1586955443\r\n",
      "T00 ERR ...      8      0   +0.1589281315\r\n",
      "T00 ERR ...      9      0   +0.4330256012\r\n",
      "T00 ERR ...     10      0   +0.4342802104\r\n",
      "T00 ERR ...     11      0   +0.4352482599\r\n",
      "T00 ERR ...     12      0   +0.6747490915\r\n",
      "T00 ERR ...     13      0   +0.7038048165\r\n",
      "T00 ERR ...     14      0   +0.7052280157\r\n",
      "T00 ERR ...     15      0   +0.7057531842\r\n",
      "T00 ERR ...     16      0   +0.8002909160\r\n",
      "T00 ERR ...     17      0   +1.0999417333\r\n",
      "T00 ERR ...     18      0   +1.1004096807\r\n",
      "T00 ERR ...     19      0   +1.5445777049\r\n",
      "T00 ERR ...     20      0   +1.5470371037\r\n",
      "T00 ERR ...     21      0   +1.5494748355\r\n",
      "T00 ERR ...     22      0   +1.7740441528\r\n",
      "T00 ERR ...     23      0   +1.7790714705\r\n",
      "T00 ERR ...     24      0   +1.7829840060\r\n",
      "T00 ERR ...     25      0   +2.1478692073\r\n",
      "T00 ERR ...     26      0   +2.1543523363\r\n",
      "T00 ERR ...     27      0   +2.1593032775\r\n",
      "T00 ERR ...     28      0   +2.5457715880\r\n",
      "T00 ERR ...     29      0   +2.5462267824\r\n",
      "T00 ERR ...     30      0   +2.6358795669\r\n",
      "T00 ERR ...     31      0   +2.9321001950\r\n",
      "T00 ERR ...     32      0   +2.9387290718\r\n",
      "T00 ERR ...     33      0   +2.9434070937\r\n",
      "T00 ERR ... 2021-6-12 21:15:10 Electric Dipole is[e*bohr]:\r\n",
      "\t\t dx=0.000671714438751\r\n",
      "\t\t dy=0.0031988385711\r\n",
      "\t\t dz=-0.00105486264848\r\n",
      "T00 ERR ... Writing result to votca.orb\r\n",
      "T00 ERR ... QM energy[Hrt]: -40.42833487 \r\n",
      "T00 ERR ... 2021-6-12 21:15:10 Evaluating polar 1\r\n",
      "T00 ERR ... 2021-6-12 21:15:10 Evaluating interaction between polar 1 and qm 0\r\n",
      "T00 ERR ... 2021-6-12 21:15:11 Evaluating interaction between polar 1 and static 2\r\n",
      "T00 ERR ... 2021-6-12 21:15:11 Starting Solving for classical polarization with 1380 degrees of freedom.\r\n",
      "T00 ERR ... 2021-6-12 21:15:11 CG: #iterations: 0, estimated error: 5.51883553311e-06\r\n",
      "T00 ERR ...   Total static energy [hrt]= 0.0009102654542\r\n",
      "T00 ERR ...   Total polar energy [hrt]= -0.0006230373479\r\n",
      "T00 ERR ...  Total energy [hrt]= 0.0002872281063\r\n",
      "T00 ERR ... 2021-6-12 21:15:11 Evaluating static 2\r\n",
      "T00 ERR ... 2021-6-12 21:15:11 Writing checkpoint to checkpoint_iter_2.hdf5\r\n",
      "T00 ERR ...  Region:qm 0 is converged deltaE=7.105427358e-15 RMS Dmat=1.107325448e-14 MaxDmat=9.880984919e-14\r\n",
      "T00 ERR ... 2021-6-12 21:15:11 Region:polar 1 is converged deltaE=0\r\n",
      "T00 ERR ... 2021-6-12 21:15:11 --Total Energy all regions -40.42804765\r\n",
      "T00 ERR ... 2021-6-12 21:15:11 Job converged after 2 iterations.\r\n",
      "T00 ERR ... Reporting job results\r\n",
      "\r\n",
      "T00 ERR ... Requesting next job\r\n",
      "T00 ERR ... Next job: ID = 1\r\n",
      "T00 ERR ... Initial state: s1\r\n",
      "T00 ERR ... Using overlap filter with threshold 0.8\r\n",
      "T00 ERR ...  Regions created\r\n",
      "T00 ERR ... Id: 0 type: qm size: 1 charge[e]= 0\r\n",
      "T00 ERR ... Id: 1 type: polar size: 92 charge[e]= -5.093148125e-15\r\n",
      "T00 ERR ... Id: 2 type: static size: 178 charge[e]= -9.867107131e-15\r\n",
      "T00 ERR ... 2021-6-12 21:15:11 Writing jobtopology to QMMM/frame_0/job_1_Methane_0:s1/regions.pdb\r\n",
      "T00 ERR ... 2021-6-12 21:15:11 --Inter Region SCF Iteration 1 of 50\r\n",
      "T00 ERR ... 2021-6-12 21:15:11 Evaluating qm 0\r\n",
      "T00 ERR ... 2021-6-12 21:15:11 Evaluating interaction between qm 0 and polar 1\r\n",
      "T00 ERR ... 2021-6-12 21:15:11 Evaluating interaction between qm 0 and static 2\r\n",
      "T00 ERR ... Running DFT calculation\r\n",
      "T00 ERR ... 2021-6-12 21:15:11 Using 2 threads\r\n",
      "T00 ERR ... 2021-6-12 21:15:11 Using native Eigen implementation, no BLAS overload \r\n",
      "T00 ERR ...  Molecule Coordinates [A] \r\n",
      "T00 ERR ...   C   +30.3000 +1.2704 +5.5205\r\n",
      "T00 ERR ...   H   +31.2392 +1.4802 +6.0301\r\n",
      "T00 ERR ...   H   +30.4910 +0.6554 +4.6433\r\n",
      "T00 ERR ...   H   +29.8500 +2.2100 +5.2100\r\n",
      "T00 ERR ...   H   +29.6200 +0.7500 +6.2000\r\n",
      "T00 ERR ... 2021-6-12 21:15:11 Loaded DFT Basis Set def2-svp with 34 functions\r\n",
      "T00 ERR ... 2021-6-12 21:15:11 Total number of electrons: 10\r\n",
      "T00 ERR ... 2021-6-12 21:15:11 Smallest value of AOOverlap matrix is 0.01388201597\r\n",
      "T00 ERR ... 2021-6-12 21:15:11 Removed 0 basisfunction from inverse overlap matrix\r\n",
      "T00 ERR ... 2021-6-12 21:15:11 Convergence Options:\r\n",
      "T00 ERR ... \t\t Delta E [Ha]: 1e-07\r\n",
      "T00 ERR ... \t\t DIIS max error: 1e-07\r\n",
      "T00 ERR ... \t\t DIIS histlength: 20\r\n",
      "T00 ERR ... \t\t ADIIS start: 0.8\r\n",
      "T00 ERR ... \t\t DIIS start: 0.002\r\n",
      "T00 ERR ... \t\t Deleting oldest element from DIIS hist\r\n",
      "T00 ERR ... \t\t Levelshift[Ha]: 0\r\n",
      "T00 ERR ... \t\t Levelshift end: 0.2\r\n",
      "T00 ERR ... \t\t Mixing Parameter alpha: 0.7\r\n",
      "T00 ERR ... 2021-6-12 21:15:11 Constructed independent particle hamiltonian \r\n",
      "T00 ERR ... 2021-6-12 21:15:11 Nuclear Repulsion Energy is 13.4434088\r\n",
      "T00 ERR ... 2021-6-12 21:15:11 Using hybrid functional with alpha=0.25\r\n",
      "T00 ERR ... 2021-6-12 21:15:11 Setup numerical integration grid medium for vxc functional XC_HYB_GGA_XC_PBEH\r\n",
      "T00 ERR ... 2021-6-12 21:15:11 Setup Initial Guess using: atom\r\n",
      "T00 ERR ... 2021-6-12 21:15:11 Calculating atom density for C\r\n",
      "T00 ERR ... 2021-6-12 21:15:13 Calculating atom density for H\r\n",
      "T00 ERR ... 2021-6-12 21:15:13 STARTING SCF cycle\r\n",
      "T00 ERR ...  --------------------------------------------------------------------------\r\n",
      "T00 ERR ... \r\n",
      "T00 ERR ... 2021-6-12 21:15:13 Iteration 1 of 100\r\n",
      "T00 ERR ... 2021-6-12 21:15:13 Total Energy -40.3160382356\r\n",
      "T00 ERR ... 2021-6-12 21:15:13 DIIs error 0.224343479818\r\n",
      "T00 ERR ... 2021-6-12 21:15:13 Delta Etot 0\r\n",
      "T00 ERR ... \r\n",
      "T00 ERR ... 2021-6-12 21:15:13 Iteration 2 of 100\r\n",
      "T00 ERR ... 2021-6-12 21:15:13 Total Energy -40.3631646134\r\n",
      "T00 ERR ... 2021-6-12 21:15:13 DIIs error 0.134009744313\r\n",
      "T00 ERR ... 2021-6-12 21:15:13 Delta Etot -0.047126377752\r\n",
      "T00 ERR ... \r\n",
      "T00 ERR ... 2021-6-12 21:15:13 Iteration 3 of 100\r\n",
      "T00 ERR ... 2021-6-12 21:15:13 Total Energy -40.3846940826\r\n",
      "T00 ERR ... 2021-6-12 21:15:13 DIIs error 0.0839223444315\r\n",
      "T00 ERR ... 2021-6-12 21:15:13 Delta Etot -0.021529469253\r\n",
      "T00 ERR ... \r\n",
      "T00 ERR ... 2021-6-12 21:15:13 Iteration 4 of 100\r\n",
      "T00 ERR ... 2021-6-12 21:15:13 Total Energy -40.4256412728\r\n",
      "T00 ERR ... 2021-6-12 21:15:13 DIIs error 0.0278434439037\r\n",
      "T00 ERR ... 2021-6-12 21:15:13 Delta Etot -0.0409471901589\r\n",
      "T00 ERR ... \r\n",
      "T00 ERR ... 2021-6-12 21:15:13 Iteration 5 of 100\r\n",
      "T00 ERR ... 2021-6-12 21:15:14 Total Energy -40.4252782797\r\n",
      "T00 ERR ... 2021-6-12 21:15:14 DIIs error 0.0303866011461\r\n",
      "T00 ERR ... 2021-6-12 21:15:14 Delta Etot 0.000362993040881\r\n",
      "T00 ERR ... \r\n",
      "T00 ERR ... 2021-6-12 21:15:14 Iteration 6 of 100\r\n",
      "T00 ERR ... 2021-6-12 21:15:14 Total Energy -40.428332092\r\n",
      "T00 ERR ... 2021-6-12 21:15:14 DIIs error 0.000900149072042\r\n",
      "T00 ERR ... 2021-6-12 21:15:14 Delta Etot -0.00305381231325\r\n",
      "T00 ERR ... \r\n",
      "T00 ERR ... 2021-6-12 21:15:14 Iteration 7 of 100\r\n",
      "T00 ERR ... 2021-6-12 21:15:14 Total Energy -40.4283348639\r\n",
      "T00 ERR ... 2021-6-12 21:15:14 DIIs error 4.04992169157e-05\r\n",
      "T00 ERR ... 2021-6-12 21:15:14 Delta Etot -2.77188460984e-06\r\n",
      "T00 ERR ... \r\n",
      "T00 ERR ... 2021-6-12 21:15:14 Iteration 8 of 100\r\n",
      "T00 ERR ... 2021-6-12 21:15:14 Total Energy -40.4283348731\r\n",
      "T00 ERR ... 2021-6-12 21:15:14 DIIs error 8.29240238492e-06\r\n",
      "T00 ERR ... 2021-6-12 21:15:14 Delta Etot -9.22543108572e-09\r\n",
      "T00 ERR ... \r\n",
      "T00 ERR ... 2021-6-12 21:15:14 Iteration 9 of 100\r\n",
      "T00 ERR ... 2021-6-12 21:15:14 Total Energy -40.4283348732\r\n",
      "T00 ERR ... 2021-6-12 21:15:14 DIIs error 4.11847975508e-06\r\n",
      "T00 ERR ... 2021-6-12 21:15:14 Delta Etot -3.52429196937e-11\r\n",
      "T00 ERR ... \r\n",
      "T00 ERR ... 2021-6-12 21:15:14 Iteration 10 of 100\r\n",
      "T00 ERR ... 2021-6-12 21:15:14 Total Energy -40.4283348733\r\n",
      "T00 ERR ... 2021-6-12 21:15:14 DIIs error 6.39551201584e-07\r\n",
      "T00 ERR ... 2021-6-12 21:15:14 Delta Etot -6.88800128046e-11\r\n",
      "T00 ERR ... \r\n",
      "T00 ERR ... 2021-6-12 21:15:14 Iteration 11 of 100\r\n",
      "T00 ERR ... 2021-6-12 21:15:15 Total Energy -40.4283348733\r\n",
      "T00 ERR ... 2021-6-12 21:15:15 DIIs error 1.3402960561e-07\r\n",
      "T00 ERR ... 2021-6-12 21:15:15 Delta Etot -1.89004367712e-12\r\n",
      "T00 ERR ... \r\n",
      "T00 ERR ... 2021-6-12 21:15:15 Iteration 12 of 100\r\n",
      "T00 ERR ... 2021-6-12 21:15:15 Total Energy -40.4283348733\r\n",
      "T00 ERR ... 2021-6-12 21:15:15 DIIs error 1.42665461228e-08\r\n",
      "T00 ERR ... 2021-6-12 21:15:15 Delta Etot -1.13686837722e-13\r\n",
      "T00 ERR ... 2021-6-12 21:15:15 Total Energy has converged to -1.13686838e-13[Ha] after 12 iterations. DIIS error is converged up to 1.42665461e-08\r\n",
      "T00 ERR ... 2021-6-12 21:15:15 Final Single Point Energy -40.4283348733 Ha\r\n",
      "T00 ERR ... 2021-6-12 21:15:15 Final Local Exc contribution -5.19288292765 Ha\r\n",
      "T00 ERR ... 2021-6-12 21:15:15 Final Non Local Ex contribution -1.64346676034 Ha\r\n",
      "T00 ERR ...   Orbital energies: \r\n",
      "T00 ERR ...   index occupation energy(Hartree) \r\n",
      "T00 ERR ...      0      2   -10.2155439702\r\n",
      "T00 ERR ...      1      2   -0.7051474502\r\n",
      "T00 ERR ...      2      2   -0.4018530763\r\n",
      "T00 ERR ...      3      2   -0.4013030561\r\n",
      "T00 ERR ...      4      2   -0.4005167239\r\n",
      "T00 ERR ...      5      0   +0.0873160644\r\n",
      "T00 ERR ...      6      0   +0.1580404991\r\n",
      "T00 ERR ...      7      0   +0.1586955443\r\n",
      "T00 ERR ...      8      0   +0.1589281315\r\n",
      "T00 ERR ...      9      0   +0.4330256012\r\n",
      "T00 ERR ...     10      0   +0.4342802104\r\n",
      "T00 ERR ...     11      0   +0.4352482599\r\n",
      "T00 ERR ...     12      0   +0.6747490915\r\n",
      "T00 ERR ...     13      0   +0.7038048165\r\n",
      "T00 ERR ...     14      0   +0.7052280157\r\n",
      "T00 ERR ...     15      0   +0.7057531842\r\n",
      "T00 ERR ...     16      0   +0.8002909160\r\n",
      "T00 ERR ...     17      0   +1.0999417333\r\n",
      "T00 ERR ...     18      0   +1.1004096807\r\n",
      "T00 ERR ...     19      0   +1.5445777049\r\n",
      "T00 ERR ...     20      0   +1.5470371037\r\n",
      "T00 ERR ...     21      0   +1.5494748355\r\n",
      "T00 ERR ...     22      0   +1.7740441528\r\n",
      "T00 ERR ...     23      0   +1.7790714705\r\n",
      "T00 ERR ...     24      0   +1.7829840060\r\n",
      "T00 ERR ...     25      0   +2.1478692073\r\n",
      "T00 ERR ...     26      0   +2.1543523363\r\n",
      "T00 ERR ...     27      0   +2.1593032775\r\n",
      "T00 ERR ...     28      0   +2.5457715880\r\n",
      "T00 ERR ...     29      0   +2.5462267824\r\n",
      "T00 ERR ...     30      0   +2.6358795669\r\n",
      "T00 ERR ...     31      0   +2.9321001950\r\n",
      "T00 ERR ...     32      0   +2.9387290718\r\n",
      "T00 ERR ...     33      0   +2.9434070937\r\n",
      "T00 ERR ... 2021-6-12 21:15:15 Electric Dipole is[e*bohr]:\r\n",
      "\t\t dx=0.000671714438792\r\n",
      "\t\t dy=0.00319883857113\r\n",
      "\t\t dz=-0.00105486264845\r\n",
      "T00 ERR ... Writing result to votca.orb\r\n",
      "T00 ERR ... QM energy[Hrt]: -40.42833487 \r\n",
      "T00 ERR ... 2021-6-12 21:15:15 RPA level range [0:33]\r\n",
      "T00 ERR ... 2021-6-12 21:15:15 GW  level range [0:13]\r\n",
      "T00 ERR ... 2021-6-12 21:15:15 BSE level range occ[0:4]  virt[5:13]\r\n",
      "T00 ERR ...  BSE type: full\r\n",
      "T00 ERR ... 2021-6-12 21:15:15 BSE Hamiltonian has size 90x90\r\n",
      "T00 ERR ...  BSE without Hqp offdiagonal elements\r\n",
      "T00 ERR ...  Running GW as: evGW\r\n",
      "T00 ERR ...  g_sc_limit [Hartree]: 1e-05\r\n",
      "T00 ERR ...  gw_sc_limit [Hartree]: 1e-05\r\n",
      "T00 ERR ...  Tasks: \r\n",
      "T00 ERR ...  GW \r\n",
      "T00 ERR ...  singlets \r\n",
      "T00 ERR ...  Store: \r\n",
      "T00 ERR ...  GW \r\n",
      "T00 ERR ...  Sigma integration: ppm\r\n",
      "T00 ERR ...  eta: 0.001\r\n",
      "T00 ERR ...  Quadrature integration order : 12\r\n",
      "T00 ERR ...  Quadrature integration scheme : legendre\r\n",
      "T00 ERR ...  Alpha smoothing parameter : 0.001\r\n",
      "T00 ERR ...  QP solver: grid\r\n",
      "T00 ERR ...  QP grid steps: 1001\r\n",
      "T00 ERR ...  QP grid spacing: 0.001\r\n",
      "T00 ERR ...  evGW with Anderson update with history 20 using alpha 0.7\r\n",
      "T00 ERR ... 2021-6-12 21:15:15 Using 2 threads\r\n",
      "T00 ERR ... 2021-6-12 21:15:15 Using native Eigen implementation, no BLAS overload \r\n",
      "T00 ERR ... 2021-6-12 21:15:15 Molecule Coordinates [A] \r\n",
      "T00 ERR ...     0    C   30.3000 1.2704 5.5205\r\n",
      "T00 ERR ...     1    H   31.2392 1.4802 6.0301\r\n",
      "T00 ERR ...     2    H   30.4910 0.6554 4.6433\r\n",
      "T00 ERR ...     3    H   29.8500 2.2100 5.2100\r\n",
      "T00 ERR ...     4    H   29.6200 0.7500 6.2000\r\n",
      "T00 ERR ... 2021-6-12 21:15:15 DFT data was created by xtp\r\n",
      "T00 ERR ... 2021-6-12 21:15:15 Loaded DFT Basis Set def2-svp\r\n",
      "T00 ERR ... 2021-6-12 21:15:15 Filled DFT Basis of size 34\r\n",
      "T00 ERR ... 2021-6-12 21:15:15 Loaded Auxbasis Set aux-def2-svp\r\n",
      "T00 ERR ... 2021-6-12 21:15:15 Filled Auxbasis of size 104\r\n",
      "T00 ERR ... 2021-6-12 21:15:15 Calculating Mmn_beta (3-center-repulsion x orbitals)  \r\n",
      "T00 ERR ... 2021-6-12 21:15:15 Calculated Mmn_beta (3-center-repulsion x orbitals)  \r\n",
      "T00 ERR ... 2021-6-12 21:15:15 Integrating Vxc with functional XC_HYB_GGA_XC_PBEH\r\n",
      "T00 ERR ... 2021-6-12 21:15:15 Set hybrid exchange factor: 0.25\r\n",
      "T00 ERR ... 2021-6-12 21:15:15 Calculated exchange-correlation expectation values \r\n",
      "T00 ERR ... 2021-6-12 21:15:15 Calculated Hartree exchange contribution\r\n",
      "T00 ERR ... 2021-6-12 21:15:15 Scissor shifting DFT energies by: 0 Hrt\r\n",
      "T00 ERR ...   ====== Perturbative quasiparticle energies (Hartree) ====== \r\n",
      "T00 ERR ...    DeltaHLGap = +0.205535 Hartree\r\n",
      "T00 ERR ...   Level =    0 DFT = -10.2155 VXC = -1.6995 S-X = -2.6641 S-C = +0.3756 GWA = -10.8046\r\n",
      "T00 ERR ...   Level =    1 DFT = -0.7051 VXC = -0.4442 S-X = -0.6638 S-C = +0.0825 GWA = -0.8422\r\n",
      "T00 ERR ...   Level =    2 DFT = -0.4019 VXC = -0.3984 S-X = -0.5342 S-C = +0.0166 GWA = -0.5210\r\n",
      "T00 ERR ...   Level =    3 DFT = -0.4013 VXC = -0.3981 S-X = -0.5336 S-C = +0.0164 GWA = -0.5205\r\n",
      "T00 ERR ...   HOMO  =    4 DFT = -0.4005 VXC = -0.3984 S-X = -0.5340 S-C = +0.0165 GWA = -0.5196\r\n",
      "T00 ERR ...   LUMO  =    5 DFT = +0.0873 VXC = -0.1668 S-X = -0.0618 S-C = -0.0186 GWA = +0.1738\r\n",
      "T00 ERR ...   Level =    6 DFT = +0.1580 VXC = -0.2033 S-X = -0.0792 S-C = -0.0233 GWA = +0.2590\r\n",
      "T00 ERR ...   Level =    7 DFT = +0.1587 VXC = -0.2030 S-X = -0.0790 S-C = -0.0232 GWA = +0.2596\r\n",
      "T00 ERR ...   Level =    8 DFT = +0.1589 VXC = -0.2028 S-X = -0.0788 S-C = -0.0232 GWA = +0.2598\r\n",
      "T00 ERR ...   Level =    9 DFT = +0.4330 VXC = -0.2605 S-X = -0.0984 S-C = -0.0300 GWA = +0.5651\r\n",
      "T00 ERR ...   Level =   10 DFT = +0.4343 VXC = -0.2608 S-X = -0.0984 S-C = -0.0301 GWA = +0.5666\r\n",
      "T00 ERR ...   Level =   11 DFT = +0.4352 VXC = -0.2609 S-X = -0.0983 S-C = -0.0302 GWA = +0.5676\r\n",
      "T00 ERR ...   Level =   12 DFT = +0.6747 VXC = -0.3539 S-X = -0.1453 S-C = -0.0757 GWA = +0.8076\r\n",
      "T00 ERR ...   Level =   13 DFT = +0.7038 VXC = -0.3485 S-X = -0.1218 S-C = -0.0883 GWA = +0.8422\r\n",
      "T00 ERR ... 2021-6-12 21:15:16 Calculated offdiagonal part of Sigma  \r\n",
      "T00 ERR ... 2021-6-12 21:15:16 Full quasiparticle Hamiltonian  \r\n",
      "T00 ERR ...   ====== Diagonalized quasiparticle energies (Hartree) ====== \r\n",
      "T00 ERR ...   Level =    0 PQP = -10.804624 DQP = -10.804684 \r\n",
      "T00 ERR ...   Level =    1 PQP = -0.842223 DQP = -0.842330 \r\n",
      "T00 ERR ...   Level =    2 PQP = -0.521043 DQP = -0.521146 \r\n",
      "T00 ERR ...   Level =    3 PQP = -0.520454 DQP = -0.520575 \r\n",
      "T00 ERR ...   HOMO  =    4 PQP = -0.519610 DQP = -0.519708 \r\n",
      "T00 ERR ...   LUMO  =    5 PQP = +0.173758 DQP = +0.172572 \r\n",
      "T00 ERR ...   Level =    6 PQP = +0.258964 DQP = +0.257085 \r\n",
      "T00 ERR ...   Level =    7 PQP = +0.259577 DQP = +0.259238 \r\n",
      "T00 ERR ...   Level =    8 PQP = +0.259752 DQP = +0.259485 \r\n",
      "T00 ERR ...   Level =    9 PQP = +0.565118 DQP = +0.565520 \r\n",
      "T00 ERR ...   Level =   10 PQP = +0.566580 DQP = +0.566975 \r\n",
      "T00 ERR ...   Level =   11 PQP = +0.567579 DQP = +0.567978 \r\n",
      "T00 ERR ...   Level =   12 PQP = +0.807555 DQP = +0.808905 \r\n",
      "T00 ERR ...   Level =   13 PQP = +0.842239 DQP = +0.843852 \r\n",
      "T00 ERR ... 2021-6-12 21:15:16 Diagonalized QP Hamiltonian  \r\n",
      "T00 ERR ... 2021-6-12 21:15:16 Setup Full singlet hamiltonian \r\n",
      "T00 ERR ... 2021-6-12 21:15:16 Davidson Solver using 2 threads.\r\n",
      "T00 ERR ... 2021-6-12 21:15:16 Tolerance : 0.0001\r\n",
      "T00 ERR ... 2021-6-12 21:15:16 DPR Correction\r\n",
      "T00 ERR ... 2021-6-12 21:15:16 Matrix size : 90x90\r\n",
      "T00 ERR ... 2021-6-12 21:15:16 iter\tSearch Space\tNorm\r\n",
      "T00 ERR ... 2021-6-12 21:15:16    0           10 \t 5.73e-02 \t  0.00% converged\r\n",
      "T00 ERR ... 2021-6-12 21:15:16    1           17 \t 2.82e-02 \t  0.00% converged\r\n",
      "T00 ERR ... 2021-6-12 21:15:16    2           24 \t 1.59e-02 \t  0.00% converged\r\n",
      "T00 ERR ... 2021-6-12 21:15:16    3           31 \t 2.92e-03 \t 60.00% converged\r\n",
      "T00 ERR ... 2021-6-12 21:15:16    4           35 \t 2.02e-04 \t 80.00% converged\r\n",
      "T00 ERR ... 2021-6-12 21:15:16    5           37 \t 4.42e-05 \t 100.00% converged\r\n",
      "T00 ERR ... 2021-6-12 21:15:16 Davidson converged after 5 iterations.\r\n",
      "T00 ERR ... 2021-6-12 21:15:16-----------------------------------\r\n",
      "T00 ERR ... 2021-6-12 21:15:16- Davidson ran for 0.010365186secs.\r\n",
      "T00 ERR ... 2021-6-12 21:15:16-----------------------------------\r\n",
      "T00 ERR ... 2021-6-12 21:15:16 Solved BSE for singlets \r\n",
      "T00 ERR ...   ====== singlet energies (eV) ====== \r\n",
      "T00 ERR ...   S =    1 Omega = +12.238216313937 eV  lamdba = +101.32 nm <FT> = +19.0081 <K_x> = +0.8682 <K_d> = -7.6381\r\n",
      "T00 ERR ...            TrDipole length gauge[e*bohr]  dx = -0.4627 dy = +0.6020 dz = -0.4784 |d|^2 = +0.8052 f = +0.2414\r\n",
      "T00 ERR ...            HOMO-0   -> LUMO+0    : 98.3%\r\n",
      "T00 ERR ... \r\n",
      "T00 ERR ...   S =    2 Omega = +12.256189015093 eV  lamdba = +101.17 nm <FT> = +19.0436 <K_x> = +0.8526 <K_d> = -7.6400\r\n",
      "T00 ERR ...            TrDipole length gauge[e*bohr]  dx = +0.7649 dy = +0.4729 dz = -0.1553 |d|^2 = +0.8329 f = +0.2501\r\n",
      "T00 ERR ...            HOMO-1   -> LUMO+0    : 96.5%\r\n",
      "T00 ERR ... \r\n",
      "T00 ERR ...   S =    3 Omega = +12.278446707806 eV  lamdba = +100.99 nm <FT> = +19.0484 <K_x> = +0.8724 <K_d> = -7.6424\r\n",
      "T00 ERR ...            TrDipole length gauge[e*bohr]  dx = +0.1499 dy = -0.4753 dz = -0.7571 |d|^2 = +0.8215 f = +0.2471\r\n",
      "T00 ERR ...            HOMO-2   -> LUMO+0    : 97.1%\r\n",
      "T00 ERR ... \r\n",
      "T00 ERR ...   S =    4 Omega = +13.876840966781 eV  lamdba = +89.36 nm <FT> = +21.3641 <K_x> = +0.2514 <K_d> = -7.7387\r\n",
      "T00 ERR ...            TrDipole length gauge[e*bohr]  dx = -0.0830 dy = +0.0229 dz = -0.0185 |d|^2 = +0.0078 f = +0.0026\r\n",
      "T00 ERR ...            HOMO-0   -> LUMO+1    : 67.2%\r\n",
      "T00 ERR ... \r\n",
      "T00 ERR ...   S =    5 Omega = +13.905418816385 eV  lamdba = +89.17 nm <FT> = +21.3870 <K_x> = +0.2471 <K_d> = -7.7287\r\n",
      "T00 ERR ...            TrDipole length gauge[e*bohr]  dx = -0.0133 dy = -0.0444 dz = -0.0585 |d|^2 = +0.0056 f = +0.0019\r\n",
      "T00 ERR ...            HOMO-2   -> LUMO+1    : 51.9%\r\n",
      "T00 ERR ... \r\n",
      "T00 ERR ... 2021-6-12 21:15:16 GWBSE calculation finished \r\n",
      "T00 ERR ... Filter overlap not used in first iteration as it needs a reference state\r\n",
      "T00 ERR ... No State found by tracker using last state: s1\r\n",
      "T00 ERR ... 2021-6-12 21:15:16 Evaluating polar 1\r\n",
      "T00 ERR ... 2021-6-12 21:15:16 Evaluating interaction between polar 1 and qm 0\r\n",
      "T00 ERR ... Next State is: s1\r\n",
      "T00 ERR ... 2021-6-12 21:15:16 Evaluating interaction between polar 1 and static 2\r\n",
      "T00 ERR ... 2021-6-12 21:15:16 Starting Solving for classical polarization with 1380 degrees of freedom.\r\n",
      "T00 ERR ... 2021-6-12 21:15:16 CG: #iterations: 7, estimated error: 4.94939136576e-06\r\n",
      "T00 ERR ...   Total static energy [hrt]= 0.0009102654542\r\n",
      "T00 ERR ...   Total polar energy [hrt]= -0.0002985415123\r\n",
      "T00 ERR ...  Total energy [hrt]= 0.0006117239419\r\n",
      "T00 ERR ... 2021-6-12 21:15:16 Evaluating static 2\r\n",
      "T00 ERR ... 2021-6-12 21:15:16 Writing checkpoint to checkpoint_iter_1.hdf5\r\n",
      "T00 ERR ...  Region:qm 0 is not converged deltaE=-39.97858872 RMS Dmat=0.3394153921 MaxDmat=7.053509991\r\n",
      "T00 ERR ... 2021-6-12 21:15:16 Region:polar 1 is not converged deltaE=0.0006117239419\r\n",
      "T00 ERR ... 2021-6-12 21:15:16 --Total Energy all regions -39.97797699\r\n",
      "T00 ERR ... 2021-6-12 21:15:16 --Inter Region SCF Iteration 2 of 50\r\n",
      "T00 ERR ... 2021-6-12 21:15:16 Evaluating qm 0\r\n",
      "T00 ERR ... 2021-6-12 21:15:16 Evaluating interaction between qm 0 and polar 1\r\n",
      "T00 ERR ... 2021-6-12 21:15:16 Evaluating interaction between qm 0 and static 2\r\n",
      "T00 ERR ... Running DFT calculation\r\n",
      "T00 ERR ... 2021-6-12 21:15:16 Using 2 threads\r\n",
      "T00 ERR ... 2021-6-12 21:15:16 Using native Eigen implementation, no BLAS overload \r\n",
      "T00 ERR ...  Molecule Coordinates [A] \r\n",
      "T00 ERR ...   C   +30.3000 +1.2704 +5.5205\r\n",
      "T00 ERR ...   H   +31.2392 +1.4802 +6.0301\r\n",
      "T00 ERR ...   H   +30.4910 +0.6554 +4.6433\r\n",
      "T00 ERR ...   H   +29.8500 +2.2100 +5.2100\r\n",
      "T00 ERR ...   H   +29.6200 +0.7500 +6.2000\r\n",
      "T00 ERR ... 2021-6-12 21:15:16 Loaded DFT Basis Set def2-svp with 34 functions\r\n",
      "T00 ERR ... 2021-6-12 21:15:16 Total number of electrons: 10\r\n",
      "T00 ERR ... 2021-6-12 21:15:16 Smallest value of AOOverlap matrix is 0.01388201597\r\n",
      "T00 ERR ... 2021-6-12 21:15:16 Removed 0 basisfunction from inverse overlap matrix\r\n",
      "T00 ERR ... 2021-6-12 21:15:16 Convergence Options:\r\n",
      "T00 ERR ... \t\t Delta E [Ha]: 1e-07\r\n",
      "T00 ERR ... \t\t DIIS max error: 1e-07\r\n",
      "T00 ERR ... \t\t DIIS histlength: 20\r\n",
      "T00 ERR ... \t\t ADIIS start: 0.8\r\n",
      "T00 ERR ... \t\t DIIS start: 0.002\r\n",
      "T00 ERR ... \t\t Deleting oldest element from DIIS hist\r\n",
      "T00 ERR ... \t\t Levelshift[Ha]: 0\r\n",
      "T00 ERR ... \t\t Levelshift end: 0.2\r\n",
      "T00 ERR ... \t\t Mixing Parameter alpha: 0.7\r\n",
      "T00 ERR ... 2021-6-12 21:15:16 Constructed independent particle hamiltonian \r\n",
      "T00 ERR ... 2021-6-12 21:15:16 Nuclear Repulsion Energy is 13.4434088\r\n",
      "T00 ERR ... 2021-6-12 21:15:16 Using hybrid functional with alpha=0.25\r\n",
      "T00 ERR ... 2021-6-12 21:15:17 Setup numerical integration grid medium for vxc functional XC_HYB_GGA_XC_PBEH\r\n",
      "T00 ERR ... 2021-6-12 21:15:17 Setup Initial Guess using: atom\r\n",
      "T00 ERR ... 2021-6-12 21:15:17 Calculating atom density for C\r\n",
      "T00 ERR ... 2021-6-12 21:15:18 Calculating atom density for H\r\n",
      "T00 ERR ... 2021-6-12 21:15:18 STARTING SCF cycle\r\n",
      "T00 ERR ...  --------------------------------------------------------------------------\r\n",
      "T00 ERR ... \r\n",
      "T00 ERR ... 2021-6-12 21:15:18 Iteration 1 of 100\r\n",
      "T00 ERR ... 2021-6-12 21:15:18 Total Energy -40.3160382356\r\n",
      "T00 ERR ... 2021-6-12 21:15:18 DIIs error 0.224343479818\r\n",
      "T00 ERR ... 2021-6-12 21:15:18 Delta Etot 0\r\n",
      "T00 ERR ... \r\n",
      "T00 ERR ... 2021-6-12 21:15:18 Iteration 2 of 100\r\n",
      "T00 ERR ... 2021-6-12 21:15:18 Total Energy -40.3631646134\r\n",
      "T00 ERR ... 2021-6-12 21:15:18 DIIs error 0.134009744313\r\n",
      "T00 ERR ... 2021-6-12 21:15:18 Delta Etot -0.047126377752\r\n",
      "T00 ERR ... \r\n",
      "T00 ERR ... 2021-6-12 21:15:18 Iteration 3 of 100\r\n",
      "T00 ERR ... 2021-6-12 21:15:19 Total Energy -40.3846940826\r\n",
      "T00 ERR ... 2021-6-12 21:15:19 DIIs error 0.0839223444316\r\n",
      "T00 ERR ... 2021-6-12 21:15:19 Delta Etot -0.021529469253\r\n",
      "T00 ERR ... \r\n",
      "T00 ERR ... 2021-6-12 21:15:19 Iteration 4 of 100\r\n",
      "T00 ERR ... 2021-6-12 21:15:19 Total Energy -40.4256412728\r\n",
      "T00 ERR ... 2021-6-12 21:15:19 DIIs error 0.0278434439037\r\n",
      "T00 ERR ... 2021-6-12 21:15:19 Delta Etot -0.0409471901589\r\n",
      "T00 ERR ... \r\n",
      "T00 ERR ... 2021-6-12 21:15:19 Iteration 5 of 100\r\n",
      "T00 ERR ... 2021-6-12 21:15:19 Total Energy -40.4252782797\r\n",
      "T00 ERR ... 2021-6-12 21:15:19 DIIs error 0.0303866011461\r\n",
      "T00 ERR ... 2021-6-12 21:15:19 Delta Etot 0.000362993040866\r\n",
      "T00 ERR ... \r\n",
      "T00 ERR ... 2021-6-12 21:15:19 Iteration 6 of 100\r\n",
      "T00 ERR ... 2021-6-12 21:15:19 Total Energy -40.428332092\r\n",
      "T00 ERR ... 2021-6-12 21:15:19 DIIs error 0.000900149072129\r\n",
      "T00 ERR ... 2021-6-12 21:15:19 Delta Etot -0.00305381231321\r\n",
      "T00 ERR ... \r\n",
      "T00 ERR ... 2021-6-12 21:15:19 Iteration 7 of 100\r\n",
      "T00 ERR ... 2021-6-12 21:15:19 Total Energy -40.4283348639\r\n",
      "T00 ERR ... 2021-6-12 21:15:19 DIIs error 4.04992169153e-05\r\n",
      "T00 ERR ... 2021-6-12 21:15:19 Delta Etot -2.77188475195e-06\r\n",
      "T00 ERR ... \r\n",
      "T00 ERR ... 2021-6-12 21:15:19 Iteration 8 of 100\r\n",
      "T00 ERR ... 2021-6-12 21:15:19 Total Energy -40.4283348731\r\n",
      "T00 ERR ... 2021-6-12 21:15:19 DIIs error 8.29240236401e-06\r\n",
      "T00 ERR ... 2021-6-12 21:15:19 Delta Etot -9.22535292602e-09\r\n",
      "T00 ERR ... \r\n",
      "T00 ERR ... 2021-6-12 21:15:19 Iteration 9 of 100\r\n",
      "T00 ERR ... 2021-6-12 21:15:19 Total Energy -40.4283348732\r\n",
      "T00 ERR ... 2021-6-12 21:15:19 DIIs error 4.11847975209e-06\r\n",
      "T00 ERR ... 2021-6-12 21:15:19 Delta Etot -3.52429196937e-11\r\n",
      "T00 ERR ... \r\n",
      "T00 ERR ... 2021-6-12 21:15:19 Iteration 10 of 100\r\n",
      "T00 ERR ... 2021-6-12 21:15:20 Total Energy -40.4283348733\r\n",
      "T00 ERR ... 2021-6-12 21:15:20 DIIs error 6.39551190586e-07\r\n",
      "T00 ERR ... 2021-6-12 21:15:20 Delta Etot -6.88018531037e-11\r\n",
      "T00 ERR ... \r\n",
      "T00 ERR ... 2021-6-12 21:15:20 Iteration 11 of 100\r\n",
      "T00 ERR ... 2021-6-12 21:15:20 Total Energy -40.4283348733\r\n",
      "T00 ERR ... 2021-6-12 21:15:20 DIIs error 1.34029568245e-07\r\n",
      "T00 ERR ... 2021-6-12 21:15:20 Delta Etot -1.90425453184e-12\r\n",
      "T00 ERR ... \r\n",
      "T00 ERR ... 2021-6-12 21:15:20 Iteration 12 of 100\r\n",
      "T00 ERR ... 2021-6-12 21:15:20 Total Energy -40.4283348733\r\n",
      "T00 ERR ... 2021-6-12 21:15:20 DIIs error 1.42665491747e-08\r\n",
      "T00 ERR ... 2021-6-12 21:15:20 Delta Etot -1.63424829225e-13\r\n",
      "T00 ERR ... 2021-6-12 21:15:20 Total Energy has converged to -1.63424829e-13[Ha] after 12 iterations. DIIS error is converged up to 1.42665492e-08\r\n",
      "T00 ERR ... 2021-6-12 21:15:20 Final Single Point Energy -40.4283348733 Ha\r\n",
      "T00 ERR ... 2021-6-12 21:15:20 Final Local Exc contribution -5.19288292765 Ha\r\n",
      "T00 ERR ... 2021-6-12 21:15:20 Final Non Local Ex contribution -1.64346676034 Ha\r\n",
      "T00 ERR ...   Orbital energies: \r\n",
      "T00 ERR ...   index occupation energy(Hartree) \r\n",
      "T00 ERR ...      0      2   -10.2155439702\r\n",
      "T00 ERR ...      1      2   -0.7051474502\r\n",
      "T00 ERR ...      2      2   -0.4018530763\r\n",
      "T00 ERR ...      3      2   -0.4013030561\r\n",
      "T00 ERR ...      4      2   -0.4005167239\r\n",
      "T00 ERR ...      5      0   +0.0873160644\r\n",
      "T00 ERR ...      6      0   +0.1580404991\r\n",
      "T00 ERR ...      7      0   +0.1586955443\r\n",
      "T00 ERR ...      8      0   +0.1589281315\r\n",
      "T00 ERR ...      9      0   +0.4330256012\r\n",
      "T00 ERR ...     10      0   +0.4342802104\r\n",
      "T00 ERR ...     11      0   +0.4352482599\r\n",
      "T00 ERR ...     12      0   +0.6747490915\r\n",
      "T00 ERR ...     13      0   +0.7038048165\r\n",
      "T00 ERR ...     14      0   +0.7052280157\r\n",
      "T00 ERR ...     15      0   +0.7057531842\r\n",
      "T00 ERR ...     16      0   +0.8002909160\r\n",
      "T00 ERR ...     17      0   +1.0999417333\r\n",
      "T00 ERR ...     18      0   +1.1004096807\r\n",
      "T00 ERR ...     19      0   +1.5445777049\r\n",
      "T00 ERR ...     20      0   +1.5470371037\r\n",
      "T00 ERR ...     21      0   +1.5494748355\r\n",
      "T00 ERR ...     22      0   +1.7740441528\r\n",
      "T00 ERR ...     23      0   +1.7790714705\r\n",
      "T00 ERR ...     24      0   +1.7829840060\r\n",
      "T00 ERR ...     25      0   +2.1478692073\r\n",
      "T00 ERR ...     26      0   +2.1543523363\r\n",
      "T00 ERR ...     27      0   +2.1593032775\r\n",
      "T00 ERR ...     28      0   +2.5457715880\r\n",
      "T00 ERR ...     29      0   +2.5462267824\r\n",
      "T00 ERR ...     30      0   +2.6358795669\r\n",
      "T00 ERR ...     31      0   +2.9321001950\r\n",
      "T00 ERR ...     32      0   +2.9387290718\r\n",
      "T00 ERR ...     33      0   +2.9434070937\r\n",
      "T00 ERR ... 2021-6-12 21:15:20 Electric Dipole is[e*bohr]:\r\n",
      "\t\t dx=0.000671714438794\r\n",
      "\t\t dy=0.00319883857111\r\n",
      "\t\t dz=-0.00105486264847\r\n",
      "T00 ERR ... Writing result to votca.orb\r\n",
      "T00 ERR ... QM energy[Hrt]: -40.42833487 \r\n",
      "T00 ERR ... 2021-6-12 21:15:20 RPA level range [0:33]\r\n",
      "T00 ERR ... 2021-6-12 21:15:20 GW  level range [0:13]\r\n",
      "T00 ERR ... 2021-6-12 21:15:20 BSE level range occ[0:4]  virt[5:13]\r\n",
      "T00 ERR ...  BSE type: full\r\n",
      "T00 ERR ... 2021-6-12 21:15:20 BSE Hamiltonian has size 90x90\r\n",
      "T00 ERR ...  BSE without Hqp offdiagonal elements\r\n",
      "T00 ERR ...  Running GW as: evGW\r\n",
      "T00 ERR ...  g_sc_limit [Hartree]: 1e-05\r\n",
      "T00 ERR ...  gw_sc_limit [Hartree]: 1e-05\r\n",
      "T00 ERR ...  Tasks: \r\n",
      "T00 ERR ...  GW \r\n",
      "T00 ERR ...  singlets \r\n",
      "T00 ERR ...  Store: \r\n",
      "T00 ERR ...  GW \r\n",
      "T00 ERR ...  Sigma integration: ppm\r\n",
      "T00 ERR ...  eta: 0.001\r\n",
      "T00 ERR ...  Quadrature integration order : 12\r\n",
      "T00 ERR ...  Quadrature integration scheme : legendre\r\n",
      "T00 ERR ...  Alpha smoothing parameter : 0.001\r\n",
      "T00 ERR ...  QP solver: grid\r\n",
      "T00 ERR ...  QP grid steps: 1001\r\n",
      "T00 ERR ...  QP grid spacing: 0.001\r\n",
      "T00 ERR ...  evGW with Anderson update with history 20 using alpha 0.7\r\n",
      "T00 ERR ... 2021-6-12 21:15:20 Using 2 threads\r\n",
      "T00 ERR ... 2021-6-12 21:15:20 Using native Eigen implementation, no BLAS overload \r\n",
      "T00 ERR ... 2021-6-12 21:15:20 Molecule Coordinates [A] \r\n",
      "T00 ERR ...     0    C   30.3000 1.2704 5.5205\r\n",
      "T00 ERR ...     1    H   31.2392 1.4802 6.0301\r\n",
      "T00 ERR ...     2    H   30.4910 0.6554 4.6433\r\n",
      "T00 ERR ...     3    H   29.8500 2.2100 5.2100\r\n",
      "T00 ERR ...     4    H   29.6200 0.7500 6.2000\r\n",
      "T00 ERR ... 2021-6-12 21:15:20 DFT data was created by xtp\r\n",
      "T00 ERR ... 2021-6-12 21:15:20 Loaded DFT Basis Set def2-svp\r\n",
      "T00 ERR ... 2021-6-12 21:15:20 Filled DFT Basis of size 34\r\n",
      "T00 ERR ... 2021-6-12 21:15:20 Loaded Auxbasis Set aux-def2-svp\r\n",
      "T00 ERR ... 2021-6-12 21:15:20 Filled Auxbasis of size 104\r\n",
      "T00 ERR ... 2021-6-12 21:15:20 Calculating Mmn_beta (3-center-repulsion x orbitals)  \r\n",
      "T00 ERR ... 2021-6-12 21:15:20 Calculated Mmn_beta (3-center-repulsion x orbitals)  \r\n",
      "T00 ERR ... 2021-6-12 21:15:20 Integrating Vxc with functional XC_HYB_GGA_XC_PBEH\r\n",
      "T00 ERR ... 2021-6-12 21:15:20 Set hybrid exchange factor: 0.25\r\n",
      "T00 ERR ... 2021-6-12 21:15:20 Calculated exchange-correlation expectation values \r\n",
      "T00 ERR ... 2021-6-12 21:15:20 Calculated Hartree exchange contribution\r\n",
      "T00 ERR ... 2021-6-12 21:15:20 Scissor shifting DFT energies by: 0 Hrt\r\n",
      "T00 ERR ...   ====== Perturbative quasiparticle energies (Hartree) ====== \r\n",
      "T00 ERR ...    DeltaHLGap = +0.205535 Hartree\r\n",
      "T00 ERR ...   Level =    0 DFT = -10.2155 VXC = -1.6995 S-X = -2.6641 S-C = +0.3756 GWA = -10.8046\r\n",
      "T00 ERR ...   Level =    1 DFT = -0.7051 VXC = -0.4442 S-X = -0.6638 S-C = +0.0825 GWA = -0.8422\r\n",
      "T00 ERR ...   Level =    2 DFT = -0.4019 VXC = -0.3984 S-X = -0.5342 S-C = +0.0166 GWA = -0.5210\r\n",
      "T00 ERR ...   Level =    3 DFT = -0.4013 VXC = -0.3981 S-X = -0.5336 S-C = +0.0164 GWA = -0.5205\r\n",
      "T00 ERR ...   HOMO  =    4 DFT = -0.4005 VXC = -0.3984 S-X = -0.5340 S-C = +0.0165 GWA = -0.5196\r\n",
      "T00 ERR ...   LUMO  =    5 DFT = +0.0873 VXC = -0.1668 S-X = -0.0618 S-C = -0.0186 GWA = +0.1738\r\n",
      "T00 ERR ...   Level =    6 DFT = +0.1580 VXC = -0.2033 S-X = -0.0792 S-C = -0.0233 GWA = +0.2590\r\n",
      "T00 ERR ...   Level =    7 DFT = +0.1587 VXC = -0.2030 S-X = -0.0790 S-C = -0.0232 GWA = +0.2596\r\n",
      "T00 ERR ...   Level =    8 DFT = +0.1589 VXC = -0.2028 S-X = -0.0788 S-C = -0.0232 GWA = +0.2598\r\n",
      "T00 ERR ...   Level =    9 DFT = +0.4330 VXC = -0.2605 S-X = -0.0984 S-C = -0.0300 GWA = +0.5651\r\n",
      "T00 ERR ...   Level =   10 DFT = +0.4343 VXC = -0.2608 S-X = -0.0984 S-C = -0.0301 GWA = +0.5666\r\n",
      "T00 ERR ...   Level =   11 DFT = +0.4352 VXC = -0.2609 S-X = -0.0983 S-C = -0.0302 GWA = +0.5676\r\n",
      "T00 ERR ...   Level =   12 DFT = +0.6747 VXC = -0.3539 S-X = -0.1453 S-C = -0.0757 GWA = +0.8076\r\n",
      "T00 ERR ...   Level =   13 DFT = +0.7038 VXC = -0.3485 S-X = -0.1218 S-C = -0.0883 GWA = +0.8422\r\n",
      "T00 ERR ... 2021-6-12 21:15:21 Calculated offdiagonal part of Sigma  \r\n",
      "T00 ERR ... 2021-6-12 21:15:21 Full quasiparticle Hamiltonian  \r\n",
      "T00 ERR ...   ====== Diagonalized quasiparticle energies (Hartree) ====== \r\n",
      "T00 ERR ...   Level =    0 PQP = -10.804624 DQP = -10.804684 \r\n",
      "T00 ERR ...   Level =    1 PQP = -0.842223 DQP = -0.842330 \r\n",
      "T00 ERR ...   Level =    2 PQP = -0.521043 DQP = -0.521146 \r\n",
      "T00 ERR ...   Level =    3 PQP = -0.520454 DQP = -0.520575 \r\n",
      "T00 ERR ...   HOMO  =    4 PQP = -0.519610 DQP = -0.519708 \r\n",
      "T00 ERR ...   LUMO  =    5 PQP = +0.173758 DQP = +0.172572 \r\n",
      "T00 ERR ...   Level =    6 PQP = +0.258964 DQP = +0.257085 \r\n",
      "T00 ERR ...   Level =    7 PQP = +0.259577 DQP = +0.259238 \r\n",
      "T00 ERR ...   Level =    8 PQP = +0.259752 DQP = +0.259485 \r\n",
      "T00 ERR ...   Level =    9 PQP = +0.565118 DQP = +0.565520 \r\n",
      "T00 ERR ...   Level =   10 PQP = +0.566580 DQP = +0.566975 \r\n",
      "T00 ERR ...   Level =   11 PQP = +0.567579 DQP = +0.567978 \r\n",
      "T00 ERR ...   Level =   12 PQP = +0.807555 DQP = +0.808905 \r\n",
      "T00 ERR ...   Level =   13 PQP = +0.842239 DQP = +0.843852 \r\n",
      "T00 ERR ... 2021-6-12 21:15:21 Diagonalized QP Hamiltonian  \r\n",
      "T00 ERR ... 2021-6-12 21:15:21 Setup Full singlet hamiltonian \r\n",
      "T00 ERR ... 2021-6-12 21:15:21 Davidson Solver using 2 threads.\r\n",
      "T00 ERR ... 2021-6-12 21:15:21 Tolerance : 0.0001\r\n",
      "T00 ERR ... 2021-6-12 21:15:21 DPR Correction\r\n",
      "T00 ERR ... 2021-6-12 21:15:21 Matrix size : 90x90\r\n",
      "T00 ERR ... 2021-6-12 21:15:21 iter\tSearch Space\tNorm\r\n",
      "T00 ERR ... 2021-6-12 21:15:21    0           10 \t 5.73e-02 \t  0.00% converged\r\n",
      "T00 ERR ... 2021-6-12 21:15:21    1           17 \t 2.82e-02 \t  0.00% converged\r\n",
      "T00 ERR ... 2021-6-12 21:15:21    2           24 \t 1.59e-02 \t  0.00% converged\r\n",
      "T00 ERR ... 2021-6-12 21:15:21    3           31 \t 2.92e-03 \t 60.00% converged\r\n",
      "T00 ERR ... 2021-6-12 21:15:21    4           35 \t 2.02e-04 \t 80.00% converged\r\n",
      "T00 ERR ... 2021-6-12 21:15:21    5           37 \t 4.42e-05 \t 100.00% converged\r\n",
      "T00 ERR ... 2021-6-12 21:15:21 Davidson converged after 5 iterations.\r\n",
      "T00 ERR ... 2021-6-12 21:15:21-----------------------------------\r\n",
      "T00 ERR ... 2021-6-12 21:15:21- Davidson ran for 0.010554388secs.\r\n",
      "T00 ERR ... 2021-6-12 21:15:21-----------------------------------\r\n",
      "T00 ERR ... 2021-6-12 21:15:21 Solved BSE for singlets \r\n",
      "T00 ERR ...   ====== singlet energies (eV) ====== \r\n",
      "T00 ERR ...   S =    1 Omega = +12.238216313937 eV  lamdba = +101.32 nm <FT> = +19.0081 <K_x> = +0.8682 <K_d> = -7.6381\r\n",
      "T00 ERR ...            TrDipole length gauge[e*bohr]  dx = -0.4627 dy = +0.6020 dz = -0.4784 |d|^2 = +0.8052 f = +0.2414\r\n",
      "T00 ERR ...            HOMO-0   -> LUMO+0    : 98.3%\r\n",
      "T00 ERR ... \r\n",
      "T00 ERR ...   S =    2 Omega = +12.256189015093 eV  lamdba = +101.17 nm <FT> = +19.0436 <K_x> = +0.8526 <K_d> = -7.6400\r\n",
      "T00 ERR ...            TrDipole length gauge[e*bohr]  dx = +0.7649 dy = +0.4729 dz = -0.1553 |d|^2 = +0.8329 f = +0.2501\r\n",
      "T00 ERR ...            HOMO-1   -> LUMO+0    : 96.5%\r\n",
      "T00 ERR ... \r\n",
      "T00 ERR ...   S =    3 Omega = +12.278446707806 eV  lamdba = +100.99 nm <FT> = +19.0484 <K_x> = +0.8724 <K_d> = -7.6424\r\n",
      "T00 ERR ...            TrDipole length gauge[e*bohr]  dx = +0.1499 dy = -0.4753 dz = -0.7571 |d|^2 = +0.8215 f = +0.2471\r\n",
      "T00 ERR ...            HOMO-2   -> LUMO+0    : 97.1%\r\n",
      "T00 ERR ... \r\n",
      "T00 ERR ...   S =    4 Omega = +13.876840966781 eV  lamdba = +89.36 nm <FT> = +21.3641 <K_x> = +0.2514 <K_d> = -7.7387\r\n",
      "T00 ERR ...            TrDipole length gauge[e*bohr]  dx = +0.0830 dy = -0.0229 dz = +0.0185 |d|^2 = +0.0078 f = +0.0026\r\n",
      "T00 ERR ...            HOMO-0   -> LUMO+1    : 67.2%\r\n",
      "T00 ERR ... \r\n",
      "T00 ERR ...   S =    5 Omega = +13.905418816385 eV  lamdba = +89.17 nm <FT> = +21.3870 <K_x> = +0.2471 <K_d> = -7.7287\r\n",
      "T00 ERR ...            TrDipole length gauge[e*bohr]  dx = +0.0133 dy = +0.0444 dz = +0.0585 |d|^2 = +0.0056 f = +0.0019\r\n",
      "T00 ERR ...            HOMO-2   -> LUMO+1    : 51.9%\r\n",
      "T00 ERR ... \r\n",
      "T00 ERR ... 2021-6-12 21:15:21 GWBSE calculation finished \r\n",
      "T00 ERR ... Next State is: s1\r\n",
      "T00 ERR ... 2021-6-12 21:15:21 Evaluating polar 1\r\n",
      "T00 ERR ... 2021-6-12 21:15:21 Evaluating interaction between polar 1 and qm 0\r\n",
      "T00 ERR ... Next State is: s1\r\n",
      "T00 ERR ... 2021-6-12 21:15:21 Evaluating interaction between polar 1 and static 2\r\n",
      "T00 ERR ... 2021-6-12 21:15:21 Starting Solving for classical polarization with 1380 degrees of freedom.\r\n",
      "T00 ERR ... 2021-6-12 21:15:21 CG: #iterations: 0, estimated error: 4.94939097438e-06\r\n",
      "T00 ERR ...   Total static energy [hrt]= 0.0009102654542\r\n",
      "T00 ERR ...   Total polar energy [hrt]= -0.0002985415123\r\n",
      "T00 ERR ...  Total energy [hrt]= 0.0006117239419\r\n",
      "T00 ERR ... 2021-6-12 21:15:21 Evaluating static 2\r\n",
      "T00 ERR ... 2021-6-12 21:15:21 Writing checkpoint to checkpoint_iter_2.hdf5\r\n",
      "T00 ERR ...  Region:qm 0 is converged deltaE=-3.552713679e-14 RMS Dmat=2.654624989e-13 MaxDmat=3.24851257e-12\r\n",
      "T00 ERR ... 2021-6-12 21:15:22 Region:polar 1 is converged deltaE=0\r\n",
      "T00 ERR ... 2021-6-12 21:15:22 --Total Energy all regions -39.97797699\r\n",
      "T00 ERR ... 2021-6-12 21:15:22 Job converged after 2 iterations.\r\n",
      "T00 ERR ... Next State is: s1\r\n",
      "T00 ERR ... Reporting job results\r\n",
      "\r\n",
      "T00 ERR ... Requesting next job\r\n",
      "T00 ERR ... Assign jobs from stack\r\n",
      "T00 ERR ... Sync did not yield any new jobs.\r\n",
      "T00 ERR ... Next job: ID = - (none available)\r\n",
      "MST ERR Assign jobs from stack\r\n",
      "Changes have not been written to state file.\r\n"
     ]
    }
   ],
   "source": [
    "!sed -i \"s/AVAILABLE/COMPLETE/g\" qmmm_jobs.xml                                                                                                                                                            \n",
    "!sed -i '0,/COMPLETE/s/COMPLETE/AVAILABLE/' qmmm_jobs.xml   \n",
    "!sed -i '0,/COMPLETE/s/COMPLETE/AVAILABLE/' qmmm_jobs.xml  \n",
    "!xtp_parallel -e qmmm -o OPTIONFILES/qmmm.xml -p 2 -f state.hdf5 -j run"
   ]
  },
  {
   "cell_type": "markdown",
   "metadata": {},
   "source": [
    "Finally, save the results"
   ]
  },
  {
   "cell_type": "code",
   "execution_count": 41,
   "metadata": {
    "execution": {
     "iopub.execute_input": "2021-06-12T21:15:22.897730Z",
     "iopub.status.busy": "2021-06-12T21:15:22.897167Z",
     "iopub.status.idle": "2021-06-12T21:15:22.901363Z",
     "shell.execute_reply": "2021-06-12T21:15:22.900860Z"
    }
   },
   "outputs": [],
   "source": [
    "#!xtp_parallel -e qmmm -o OPTIONFILES/qmmm.xml -f state.hdf5 -j \"read\""
   ]
  }
 ],
 "metadata": {
  "kernelspec": {
   "display_name": "Python 3",
   "language": "python",
   "name": "python3"
  },
  "language_info": {
   "codemirror_mode": {
    "name": "ipython",
    "version": 3
   },
   "file_extension": ".py",
   "mimetype": "text/x-python",
   "name": "python",
   "nbconvert_exporter": "python",
   "pygments_lexer": "ipython3",
   "version": "3.9.5"
  }
 },
 "nbformat": 4,
 "nbformat_minor": 4
}
