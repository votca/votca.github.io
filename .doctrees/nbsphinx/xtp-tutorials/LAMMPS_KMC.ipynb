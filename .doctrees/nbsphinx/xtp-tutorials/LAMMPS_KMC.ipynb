{
 "cells": [
  {
   "cell_type": "markdown",
   "metadata": {},
   "source": [
    "# Kinect Monte Carlo Simulations Using LAMMPS"
   ]
  },
  {
   "cell_type": "markdown",
   "metadata": {},
   "source": [
    "## Requirements\n",
    "* You will need to install **VOTCA** using the instructions described [here](https://github.com/votca/votca/blob/master/share/doc/INSTALL.rst)\n",
    "* Once the installation is completed you need to activate the VOTCA enviroment by running the `VOTCARC.bash` script that has been installed at the `bin` subfolder for the path that you have provided for the installation step above"
   ]
  },
  {
   "cell_type": "markdown",
   "metadata": {},
   "source": [
    "## Setting the environment\n",
    "Create a folder to store the input `Options` for XTP"
   ]
  },
  {
   "cell_type": "code",
   "execution_count": 1,
   "metadata": {
    "execution": {
     "iopub.execute_input": "2021-06-25T06:09:01.309220Z",
     "iopub.status.busy": "2021-06-25T06:09:01.308627Z",
     "iopub.status.idle": "2021-06-25T06:09:01.997672Z",
     "shell.execute_reply": "2021-06-25T06:09:01.998143Z"
    }
   },
   "outputs": [],
   "source": [
    "!mkdir -p OPTIONFILES"
   ]
  },
  {
   "cell_type": "markdown",
   "metadata": {},
   "source": [
    "We will use [matplotlib](https://matplotlib.org/), [seaborn](https://seaborn.pydata.org/) and [pandas](https://pandas.pydata.org/) libraries for plotting. You can install it using [pip](https://pip.pypa.io/en/stable/) like"
   ]
  },
  {
   "cell_type": "code",
   "execution_count": 2,
   "metadata": {
    "execution": {
     "iopub.execute_input": "2021-06-25T06:09:02.002628Z",
     "iopub.status.busy": "2021-06-25T06:09:02.000799Z",
     "iopub.status.idle": "2021-06-25T06:09:03.385534Z",
     "shell.execute_reply": "2021-06-25T06:09:03.384962Z"
    }
   },
   "outputs": [
    {
     "name": "stdout",
     "output_type": "stream",
     "text": [
      "Requirement already satisfied: seaborn in /usr/lib/python3.9/site-packages (0.11.1)\r\n",
      "Requirement already satisfied: numpy>=1.15 in /usr/lib64/python3.9/site-packages (from seaborn) (1.20.1)\r\n",
      "Requirement already satisfied: scipy>=1.0 in /usr/lib64/python3.9/site-packages (from seaborn) (1.6.2)\r\n",
      "Requirement already satisfied: pandas>=0.23 in /usr/lib64/python3.9/site-packages (from seaborn) (1.2.1)\r\n",
      "Requirement already satisfied: matplotlib>=2.2 in /usr/lib64/python3.9/site-packages (from seaborn) (3.4.2)\r\n",
      "Requirement already satisfied: cycler>=0.10 in /usr/lib/python3.9/site-packages (from matplotlib>=2.2->seaborn) (0.10.0)\r\n",
      "Requirement already satisfied: kiwisolver>=1.0.1 in /usr/lib64/python3.9/site-packages (from matplotlib>=2.2->seaborn) (1.3.1)\r\n",
      "Requirement already satisfied: pillow>=6.2.0 in /usr/lib64/python3.9/site-packages (from matplotlib>=2.2->seaborn) (8.1.2)\r\n",
      "Requirement already satisfied: pyparsing>=2.2.1 in /usr/lib/python3.9/site-packages (from matplotlib>=2.2->seaborn) (2.4.7)\r\n",
      "Requirement already satisfied: python-dateutil>=2.7 in /usr/lib/python3.9/site-packages (from matplotlib>=2.2->seaborn) (2.8.1)\r\n",
      "Requirement already satisfied: six in /usr/lib/python3.9/site-packages (from cycler>=0.10->matplotlib>=2.2->seaborn) (1.15.0)\r\n",
      "Requirement already satisfied: pytz>=2017.3 in /usr/lib/python3.9/site-packages (from pandas>=0.23->seaborn) (2021.1)\r\n"
     ]
    }
   ],
   "source": [
    "!pip install seaborn --user"
   ]
  },
  {
   "cell_type": "markdown",
   "metadata": {},
   "source": [
    "### Notes\n",
    "> * The `${VOTCASHARE}` environmental variable is set to the path that you provided during the VOTCA installation, by the default is set to `/usr/local/votca`.\n",
    "> * In Jupyter the `!` symbol means: *run the following command as a standard unix command*\n",
    "> * In Jupyter the command `%env` set an environmental variable"
   ]
  },
  {
   "cell_type": "markdown",
   "metadata": {},
   "source": [
    "##  Check the mapping\n",
    "\n",
    "Let us first output `.pdb` files for the segments, qmmolecules and classical segments in order to check the mapping. We will need to copy the input from the `VOTCA` installation path to our local copy."
   ]
  },
  {
   "cell_type": "code",
   "execution_count": 3,
   "metadata": {
    "execution": {
     "iopub.execute_input": "2021-06-25T06:09:03.392047Z",
     "iopub.status.busy": "2021-06-25T06:09:03.389851Z",
     "iopub.status.idle": "2021-06-25T06:09:04.076529Z",
     "shell.execute_reply": "2021-06-25T06:09:04.076076Z"
    }
   },
   "outputs": [],
   "source": [
    "!cp \"$VOTCASHARE/xtp/xml/mapchecker.xml\" OPTIONFILES/"
   ]
  },
  {
   "cell_type": "markdown",
   "metadata": {},
   "source": [
    "We need to update the `mapchecker` options with the file containing the definition of the system. For doing, so we will use the python module `xml_editor` that we have imported above. The first argument is the name of the calculator (i.e. `mapchecker`), the seconds argument is the name of the option to change and the third one, the value to use."
   ]
  },
  {
   "cell_type": "code",
   "execution_count": 4,
   "metadata": {
    "execution": {
     "iopub.execute_input": "2021-06-25T06:09:04.081365Z",
     "iopub.status.busy": "2021-06-25T06:09:04.080021Z",
     "iopub.status.idle": "2021-06-25T06:09:04.090256Z",
     "shell.execute_reply": "2021-06-25T06:09:04.089470Z"
    }
   },
   "outputs": [
    {
     "name": "stdout",
     "output_type": "stream",
     "text": [
      "The option 'map_file' on file 'OPTIONFILES/mapchecker.xml' has been set to 'system.xml'\n"
     ]
    }
   ],
   "source": [
    "from xml_editor import edit_calculator\n",
    "edit_calculator(\"mapchecker\", \"map_file\", \"system.xml\")"
   ]
  },
  {
   "cell_type": "markdown",
   "metadata": {},
   "source": [
    "Now we can run the checker as follows,"
   ]
  },
  {
   "cell_type": "code",
   "execution_count": 5,
   "metadata": {
    "execution": {
     "iopub.execute_input": "2021-06-25T06:09:04.096926Z",
     "iopub.status.busy": "2021-06-25T06:09:04.096411Z",
     "iopub.status.idle": "2021-06-25T06:09:06.629104Z",
     "shell.execute_reply": "2021-06-25T06:09:06.628280Z"
    }
   },
   "outputs": [
    {
     "name": "stdout",
     "output_type": "stream",
     "text": [
      "==================================================\r\n",
      "========   VOTCA (http://www.votca.org)   ========\r\n",
      "==================================================\r\n",
      "\r\n",
      "please submit bugs to https://github.com/votca/xtp/issues\r\n",
      "\r\n",
      "xtp_run, version 2022-dev gitid: 1c1eeee (compiled Jun 25 2021, 05:58:23)\r\n",
      "votca_csg, version 2022-dev gitid: 1c1eeee (compiled Jun 25 2021, 05:41:49)\r\n",
      "votca_tools, version 2022-dev gitid: 1c1eeee (compiled Jun 25 2021, 05:39:22)\r\n",
      "\r\n",
      "Initializing calculator\r\n",
      "... mapchecker\r\n",
      "1 frames in statefile, Ids are: 10000 \r\n",
      "Starting at frame 10000\r\n",
      "Evaluating frame 10000\r\n",
      "Import MD Topology (i.e. frame 10000) from state.hdf5\r\n",
      ".... \r\n",
      "... mapchecker\r\n",
      " Using 1 threads\r\n",
      "Writing segments to md_segments step__10000.pdb\r\n",
      "Writing qmmolecules to qm_segments_n step__10000.pdb\r\n",
      "Writing polarsegments to mp_segments_e step__10000.pdb\r\n",
      "Writing polarsegments to mp_segments_h step__10000.pdb\r\n",
      "Changes have not been written to state file.\r\n"
     ]
    }
   ],
   "source": [
    "!xtp_run -e mapchecker -o OPTIONFILES/mapchecker.xml -f state.hdf5"
   ]
  },
  {
   "cell_type": "markdown",
   "metadata": {},
   "source": [
    "## Site energies and pair energy differences\n",
    "We will compute the histrogram using `resolution_sites` of 0.03 eV. See [eanalyze options and defaults](https://votca.github.io/xtp/eanalyze.html) for more information."
   ]
  },
  {
   "cell_type": "code",
   "execution_count": 6,
   "metadata": {
    "execution": {
     "iopub.execute_input": "2021-06-25T06:09:06.634422Z",
     "iopub.status.busy": "2021-06-25T06:09:06.633927Z",
     "iopub.status.idle": "2021-06-25T06:09:09.361727Z",
     "shell.execute_reply": "2021-06-25T06:09:09.361238Z"
    }
   },
   "outputs": [
    {
     "name": "stdout",
     "output_type": "stream",
     "text": [
      "The option 'resolution_sites' on file 'OPTIONFILES/eanalyze.xml' has been set to '0.03'\n",
      "==================================================\r\n",
      "========   VOTCA (http://www.votca.org)   ========\r\n",
      "==================================================\r\n",
      "\r\n",
      "please submit bugs to https://github.com/votca/xtp/issues\r\n",
      "\r\n",
      "xtp_run, version 2022-dev gitid: 1c1eeee (compiled Jun 25 2021, 05:58:23)\r\n",
      "votca_csg, version 2022-dev gitid: 1c1eeee (compiled Jun 25 2021, 05:41:49)\r\n",
      "votca_tools, version 2022-dev gitid: 1c1eeee (compiled Jun 25 2021, 05:39:22)\r\n",
      "\r\n",
      "Initializing calculator\r\n",
      "... eanalyze\r\n",
      "1 frames in statefile, Ids are: 10000 \r\n",
      "Starting at frame 10000\r\n",
      "Evaluating frame 10000\r\n",
      "Import MD Topology (i.e. frame 10000) from state.hdf5\r\n",
      ".... \r\n",
      "... eanalyze\r\n",
      " Using 1 threads\r\n",
      "... ... Short-listed 1000 segments (pattern='*')\r\n",
      "... ... ... NOTE Statistics of site energies and spatial correlations thereof are based on the short-listed segments only. \r\n",
      "... ... ...      Statistics of site-energy differences operate on the full list.\r\n",
      "... ... excited state e\r\n",
      "... ... excited state h\r\n",
      "... ... excited state s\r\n",
      "... ... excited state tChanges have not been written to state file.\r\n"
     ]
    }
   ],
   "source": [
    "!cp $VOTCASHARE/xtp/xml/eanalyze.xml OPTIONFILES/\n",
    "edit_calculator(\"eanalyze\", \"resolution_sites\", \"0.03\")\n",
    "!xtp_run -e eanalyze -o OPTIONFILES/eanalyze.xml -f state.hdf5"
   ]
  },
  {
   "cell_type": "markdown",
   "metadata": {},
   "source": [
    "In the current work directoy you can see the resulting files,"
   ]
  },
  {
   "cell_type": "code",
   "execution_count": 7,
   "metadata": {
    "execution": {
     "iopub.execute_input": "2021-06-25T06:09:09.367943Z",
     "iopub.status.busy": "2021-06-25T06:09:09.365534Z",
     "iopub.status.idle": "2021-06-25T06:09:10.053650Z",
     "shell.execute_reply": "2021-06-25T06:09:10.054198Z"
    }
   },
   "outputs": [
    {
     "name": "stdout",
     "output_type": "stream",
     "text": [
      "eanalyze.pairhist_e.out  eanalyze.pairlist_s.out  eanalyze.sitehist_e.out\r\n",
      "eanalyze.pairhist_h.out  eanalyze.pairlist_t.out  eanalyze.sitehist_h.out\r\n",
      "eanalyze.pairhist_s.out  eanalyze.sitecorr_e.out  eanalyze.sitehist_s.out\r\n",
      "eanalyze.pairhist_t.out  eanalyze.sitecorr_h.out  eanalyze.sitehist_t.out\r\n",
      "eanalyze.pairlist_e.out  eanalyze.sitecorr_s.out\r\n",
      "eanalyze.pairlist_h.out  eanalyze.sitecorr_t.out\r\n"
     ]
    }
   ],
   "source": [
    "!ls eanalyze*"
   ]
  },
  {
   "cell_type": "markdown",
   "metadata": {},
   "source": [
    "## Plotting the energies\n",
    "We will the previously installed `pandas` and `seaborn` library to plot the electron histrogram computed in the previous step,"
   ]
  },
  {
   "cell_type": "code",
   "execution_count": 8,
   "metadata": {
    "execution": {
     "iopub.execute_input": "2021-06-25T06:09:10.060050Z",
     "iopub.status.busy": "2021-06-25T06:09:10.059239Z",
     "iopub.status.idle": "2021-06-25T06:09:11.048522Z",
     "shell.execute_reply": "2021-06-25T06:09:11.048068Z"
    }
   },
   "outputs": [
    {
     "data": {
      "text/plain": [
       "[]"
      ]
     },
     "execution_count": 1,
     "metadata": {},
     "output_type": "execute_result"
    },
    {
     "data": {
      "image/png": "[encoded data removed]",
      "text/plain": [
       "<Figure size 360x360 with 1 Axes>"
      ]
     },
     "metadata": {
      "needs_background": "light"
     },
     "output_type": "display_data"
    }
   ],
   "source": [
    "import pandas as pd \n",
    "import matplotlib.pyplot as plt\n",
    "import seaborn as sns\n",
    "columns = [\"E(eV)\", \"counts\"] \n",
    "df = pd.read_table(\"eanalyze.pairhist_e.out\", comment=\"#\", sep='\\s+',names=columns, skiprows=2) \n",
    "sns.relplot(x=\"E(eV)\", y=\"counts\", ci=None, kind=\"line\", data=df) \n",
    "plt.plot()"
   ]
  },
  {
   "cell_type": "markdown",
   "metadata": {},
   "source": [
    "## Couplings histrogram\n",
    "In this step we will analyze the electron/hole couplings, using the `ianalyze` calculator using the `resolution_logJ2` parameter of 0.1 units. See the [ianalyze options and defaults](https://votca.github.io/xtp/ianalyze.html) for more information about the calculator. First, we will make a copy of the calculators defaults in our local folder then we will edit them and finally run the calculation,"
   ]
  },
  {
   "cell_type": "code",
   "execution_count": 9,
   "metadata": {
    "execution": {
     "iopub.execute_input": "2021-06-25T06:09:11.057992Z",
     "iopub.status.busy": "2021-06-25T06:09:11.052994Z",
     "iopub.status.idle": "2021-06-25T06:09:13.610131Z",
     "shell.execute_reply": "2021-06-25T06:09:13.610586Z"
    }
   },
   "outputs": [
    {
     "name": "stdout",
     "output_type": "stream",
     "text": [
      "The option 'resolution_logJ2' on file 'OPTIONFILES/ianalyze.xml' has been set to '0.1'\n",
      "The option 'states' on file 'OPTIONFILES/ianalyze.xml' has been set to 'e, h'\n",
      "==================================================\r\n",
      "========   VOTCA (http://www.votca.org)   ========\r\n",
      "==================================================\r\n",
      "\r\n",
      "please submit bugs to https://github.com/votca/xtp/issues\r\n",
      "\r\n",
      "xtp_run, version 2022-dev gitid: 1c1eeee (compiled Jun 25 2021, 05:58:23)\r\n",
      "votca_csg, version 2022-dev gitid: 1c1eeee (compiled Jun 25 2021, 05:41:49)\r\n",
      "votca_tools, version 2022-dev gitid: 1c1eeee (compiled Jun 25 2021, 05:39:22)\r\n",
      "\r\n",
      "Initializing calculator\r\n",
      "... ianalyze\r\n",
      "1 frames in statefile, Ids are: 10000 \r\n",
      "Starting at frame 10000\r\n",
      "Evaluating frame 10000\r\n",
      "Import MD Topology (i.e. frame 10000) from state.hdf5\r\n",
      ".... \r\n",
      "... ianalyze\r\n",
      " Using 1 threads\r\n",
      "Calculating for state e now.\r\n",
      "Calculating for state h now.\r\n",
      "Changes have not been written to state file.\r\n"
     ]
    }
   ],
   "source": [
    "!cp $VOTCASHARE/xtp/xml/ianalyze.xml OPTIONFILES/\n",
    "edit_calculator(\"ianalyze\", \"resolution_logJ2\", \"0.1\")\n",
    "edit_calculator(\"ianalyze\", \"states\", \"e, h\")\n",
    "!xtp_run -e ianalyze -o OPTIONFILES/ianalyze.xml -f state.hdf5"
   ]
  },
  {
   "cell_type": "markdown",
   "metadata": {},
   "source": [
    "## Plotting the coupling histogram\n",
    "We can now plot the logarithm of the squared coupling for the hole,"
   ]
  },
  {
   "cell_type": "code",
   "execution_count": 10,
   "metadata": {
    "execution": {
     "iopub.execute_input": "2021-06-25T06:09:13.641091Z",
     "iopub.status.busy": "2021-06-25T06:09:13.616229Z",
     "iopub.status.idle": "2021-06-25T06:09:13.806547Z",
     "shell.execute_reply": "2021-06-25T06:09:13.806976Z"
    }
   },
   "outputs": [
    {
     "data": {
      "text/plain": [
       "[]"
      ]
     },
     "execution_count": 1,
     "metadata": {},
     "output_type": "execute_result"
    },
    {
     "data": {
      "image/png": "[encoded data removed]",
      "text/plain": [
       "<Figure size 360x360 with 1 Axes>"
      ]
     },
     "metadata": {
      "needs_background": "light"
     },
     "output_type": "display_data"
    }
   ],
   "source": [
    "columns = [\"logJ2\", \"counts\"] \n",
    "df = pd.read_table(\"ianalyze.ihist_h.out\", comment=\"#\", sep='\\s+',names=columns, skiprows=2) \n",
    "sns.relplot(x=\"logJ2\", y=\"counts\", ci=None, kind=\"line\", data=df) \n",
    "plt.plot()"
   ]
  },
  {
   "cell_type": "markdown",
   "metadata": {},
   "source": [
    "## KMC simulations of multiple holes or electrons in periodic boundary conditions\n",
    "Finally, let get a copy of the `kmcmultiple` options and let do a 1000 seconds KMC simulation for the electron, with a 10 seconds window between output and a field of 10 *V/m* along the x-axis,"
   ]
  },
  {
   "cell_type": "code",
   "execution_count": 11,
   "metadata": {
    "execution": {
     "iopub.execute_input": "2021-06-25T06:09:13.813129Z",
     "iopub.status.busy": "2021-06-25T06:09:13.812592Z",
     "iopub.status.idle": "2021-06-25T06:09:16.406312Z",
     "shell.execute_reply": "2021-06-25T06:09:16.407014Z"
    }
   },
   "outputs": [
    {
     "name": "stdout",
     "output_type": "stream",
     "text": [
      "The option 'runtime' on file 'OPTIONFILES/kmcmultiple.xml' has been set to '1000'\n",
      "The option 'outputtime' on file 'OPTIONFILES/kmcmultiple.xml' has been set to '10'\n",
      "The option 'field' on file 'OPTIONFILES/kmcmultiple.xml' has been set to '10 0 0'\n",
      "The option 'carriertype' on file 'OPTIONFILES/kmcmultiple.xml' has been set to 'electron'\n",
      "==================================================\r\n",
      "========   VOTCA (http://www.votca.org)   ========\r\n",
      "==================================================\r\n",
      "\r\n",
      "please submit bugs to https://github.com/votca/xtp/issues\r\n",
      "\r\n",
      "xtp_run, version 2022-dev gitid: 1c1eeee (compiled Jun 25 2021, 05:58:23)\r\n",
      "votca_csg, version 2022-dev gitid: 1c1eeee (compiled Jun 25 2021, 05:41:49)\r\n",
      "votca_tools, version 2022-dev gitid: 1c1eeee (compiled Jun 25 2021, 05:39:22)\r\n",
      "\r\n",
      "Initializing calculator\r\n",
      "... kmcmultiple\r\n",
      "1 frames in statefile, Ids are: 10000 \r\n",
      "Starting at frame 10000\r\n",
      "Evaluating frame 10000\r\n",
      "Import MD Topology (i.e. frame 10000) from state.hdf5\r\n",
      ".... \r\n",
      "... kmcmultiple\r\n",
      " Using 1 threads\r\n",
      " ... \r\n",
      "-----------------------------------\r\n",
      "      KMC FOR MULTIPLE CHARGES\r\n",
      "-----------------------------------\r\n",
      "\r\n",
      " ... \r\n",
      "Calculating initial rates.\r\n",
      " ... Rate engine initialized:\r\n",
      " Ratetype:marcus\r\n",
      " Temperature T[k] = 300\r\n",
      " Electric field[V/nm](x,y,z) =1e-08 0 0 ||F|| 1e-08\r\n",
      "\r\n",
      " ... \r\n",
      " ...     carriertype: electron\r\n",
      " ...     Rates for 1000 sites are computed.\r\n",
      " ... \r\n",
      "Rates are written to rates.dat\r\n",
      " ... Nblist has 10151 pairs. Nodes contain 20302 jump events\r\n",
      "with avg=20.302 std=2.07913 max=28 min=14 jumps per site\r\n",
      "Minimum jumpdistance =0.366063 nm Maximum distance =1.10167 nm\r\n",
      "\r\n",
      " ... spatial carrier density: 0.00729374 nm^-3\r\n",
      " ... \r\n",
      "Algorithm: VSSM for Multiple Charges\r\n",
      " ... number of carriers: 1\r\n",
      " ... number of nodes: 1000\r\n",
      " ... stop condition: 1000 steps.\r\n",
      " ... output frequency: every 10 steps.\r\n",
      " ... (If you specify runtimes larger than 100 kmcmultiple assumes that you are specifying the number of steps for both runtime and outputtime.)\r\n",
      " ... Writing trajectory to trajectory.csv.\r\n",
      " ... looking for injectable nodes...\r\n",
      " ... starting position for charge 0: segment 697\r\n",
      " ... \r\n",
      "Occupations are written to occupation.dat\r\n",
      " ... \r\n",
      "finished KMC simulation after 1000 steps.\r\n",
      "simulated time 5.92255e-09 seconds.\r\n",
      "\r\n",
      " ...     carrier 1: 1.205058e+08 5.671523e+07 1.959596e+07\r\n",
      " ...   Overall average velocity (nm/s): 1.205058e+08 5.671523e+07 1.959596e+07\r\n",
      " ... \r\n",
      "Distances travelled (nm): \r\n",
      " ...     carrier 1: 7.137019e-01 3.358990e-01 1.160581e-01\r\n",
      " ... \r\n",
      "Mobilities (nm^2/Vs): \r\n",
      " ...     carrier 1: mu=1.205058e+16\r\n",
      " ...   Overall average mobility in field direction <mu>=1.205058e+16 nm^2/Vs  \r\n",
      " ... \r\n",
      "Eigenvalues:\r\n",
      " \r\n",
      " ... Eigenvalue: 2.670560e-09\r\n",
      " ... Eigenvector: 1.317081e-01   6.198754e-02   -9.893485e-01\r\n",
      "\r\n",
      " ... Eigenvalue: 2.670560e-09\r\n",
      " ... Eigenvector: 4.258378e-01   -9.047995e-01   0.000000e+00\r\n",
      "\r\n",
      " ... Eigenvalue: 5.366503e+07\r\n",
      " ... Eigenvector: -8.951621e-01   -4.213020e-01   -1.455661e-01\r\n",
      "Changes have not been written to state file.\r\n"
     ]
    }
   ],
   "source": [
    "!cp $VOTCASHARE/xtp/xml/kmcmultiple.xml OPTIONFILES/\n",
    "edit_calculator(\"kmcmultiple\", \"runtime\", \"1000\")\n",
    "edit_calculator(\"kmcmultiple\", \"outputtime\", \"10\")\n",
    "edit_calculator(\"kmcmultiple\", \"field\", \"10 0 0\")\n",
    "edit_calculator(\"kmcmultiple\", \"carriertype\", \"electron\")\n",
    "!xtp_run -e kmcmultiple -o OPTIONFILES/kmcmultiple.xml -f state.hdf5"
   ]
  },
  {
   "cell_type": "markdown",
   "metadata": {},
   "source": [
    "You can find both the *occupation data* and the *rates* for the electron at 300 K, on files `occupation.dat`  and `rates.dat`, respectively."
   ]
  }
 ],
 "metadata": {
  "kernelspec": {
   "display_name": "Python 3",
   "language": "python",
   "name": "python3"
  },
  "language_info": {
   "codemirror_mode": {
    "name": "ipython",
    "version": 3
   },
   "file_extension": ".py",
   "mimetype": "text/x-python",
   "name": "python",
   "nbconvert_exporter": "python",
   "pygments_lexer": "ipython3",
   "version": "3.9.5"
  }
 },
 "nbformat": 4,
 "nbformat_minor": 4
}
