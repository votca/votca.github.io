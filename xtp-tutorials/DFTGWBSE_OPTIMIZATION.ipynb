{
 "cells": [
  {
   "cell_type": "markdown",
   "metadata": {},
   "source": [
    "## DFT + GWBSE Optimization Using CO"
   ]
  },
  {
   "cell_type": "markdown",
   "metadata": {},
   "source": [
    "## Introduction\n",
    "This tutorial explains how to perform a molecular geometric optimization using the **GWBSE** method. See [the GW Compendium: A Practical Guide to Theoretical Photoemission Spectroscopy](https://doi.org/10.3389/fchem.2019.00377), for an excellent introduction to the method."
   ]
  },
  {
   "cell_type": "markdown",
   "metadata": {},
   "source": [
    "## Requirements\n",
    "* You will need to install **VOTCA** using the instructions described [here](https://github.com/votca/votca/blob/master/share/doc/INSTALL.rst)\n",
    "* Once the installation is completed you need to activate the VOTCA enviroment by running the `VOTCARC.bash` script that has been installed at the bin subfolder for the path that you have provided for the installation step above"
   ]
  },
  {
   "cell_type": "markdown",
   "metadata": {},
   "source": [
    "## Preparing the input\n",
    "To run a DFT-GWBSE calculation we will use the [xtp_tools](https://www.votca.org/xtp/xtp_tools_overview.html) calculator."
   ]
  },
  {
   "cell_type": "markdown",
   "metadata": {},
   "source": [
    "we can now change the calculator mode from single point energy calculation to optimization as follows by adding \n",
    "`-c geometry_optimization.maxiter=1` which enables optimization with one iteration. "
   ]
  },
  {
   "cell_type": "markdown",
   "metadata": {},
   "source": [
    "Because geometry optimsation is quite expensive numerically we chose a smaller basisset and G0W0 Finally, to run the calculation we just need the following command (This still takes a while)"
   ]
  },
  {
   "cell_type": "code",
   "execution_count": 1,
   "metadata": {
    "execution": {
     "iopub.execute_input": "2022-02-25T06:00:46.139257Z",
     "iopub.status.busy": "2022-02-25T06:00:46.138708Z",
     "iopub.status.idle": "2022-02-25T06:00:59.836355Z",
     "shell.execute_reply": "2022-02-25T06:00:59.835804Z"
    }
   },
   "outputs": [
    {
     "name": "stdout",
     "output_type": "stream",
     "text": [
      "==================================================\r\n",
      "========   VOTCA (http://www.votca.org)   ========\r\n",
      "==================================================\r\n",
      "\r\n",
      "please submit bugs to https://github.com/votca/xtp/issues\r\n",
      "\r\n",
      "xtp_tools, version 2023-dev gitid: bac0582 (compiled Feb 25 2022, 05:53:05)\r\n",
      "votca_csg, version 2023-dev gitid: bac0582 (compiled Feb 25 2022, 05:40:23)\r\n",
      "votca_tools, version 2023-dev gitid: bac0582 (compiled Feb 25 2022, 05:37:55)\r\n",
      "\r\n",
      "Initializing tool\r\n",
      "... dftgwbse Evaluating tool\r\n",
      "... dftgwbse  Using 4 threads\r\n",
      "... ... Reading structure from CO.xyz\r\n",
      "... ... Requested geometry optimization of excited state s1\r\n",
      "... ... Initial state: s1\r\n",
      "... ... WARNING: No tracker is used \r\n",
      "... ... Convergence of total energy: 0.000001 Hartree \r\n",
      "... ... Convergence of RMS Force:    0.000030 Hartree/Bohr \r\n",
      "... ... Convergence of Max Force:    0.000100 Hartree/Bohr \r\n",
      "... ... Convergence of RMS Step:     0.000600 Bohr \r\n",
      "... ... Convergence of Max Step:     0.001000 Bohr \r\n",
      "... ... Initial trust radius:        0.018897 BohrA\r\n",
      "    0.307132 -3.05399e-11  1.80095e-10  5.20336e-10  2.31694e-11   -0.0516061  1.11619e-09 -1.03644e-09  3.87501e-10    0.0181649    0.0010384  1.10389e-10   -0.0103942    0.0375639 -1.99859e-11    0.0421019 -2.08447e-10  9.10017e-11  3.57708e-10  1.58899e-10  0.000478914    -0.108408 -1.82867e-10          nan          nan          nan          nan          nan          nan          nan          nan          nan          nan          nan          nan\r\n",
      "-3.05399e-11     0.307132  3.88541e-10  3.08789e-10   -0.0516061  2.31695e-11 -2.45215e-09  2.79239e-09 -8.22168e-10    0.0010384   -0.0181649 -3.85187e-10   -0.0375639   -0.0103942    0.0421019 -1.99858e-11  1.91917e-10  6.89284e-12 -5.01707e-10 -6.19152e-10    -0.108408 -0.000478914 -1.68119e-11          nan          nan          nan          nan          nan          nan          nan          nan          nan          nan          nan          nan\r\n",
      " 1.80095e-10  3.88541e-10       0.3206  -0.00929445 -1.41761e-11 -3.03938e-11   -0.0131332    0.0131332  -0.00489732  1.46128e-10 -1.02422e-10  -0.00208641 -1.18602e-11 -2.06768e-10  1.19253e-10 -7.46744e-12   -0.0470584   0.00129747  -0.00255034   -0.0152127 -9.86136e-10  3.12321e-10   -0.0254849          nan          nan          nan          nan          nan          nan          nan          nan          nan          nan          nan          nan\r\n",
      " 5.20336e-10  3.08789e-10  -0.00929445       0.3206 -2.25377e-11 -4.35118e-10   -0.0131332    0.0131332  -0.00489732  1.66393e-10 -1.48334e-10  -0.00208641   8.1767e-12 -1.81871e-10  1.28211e-11  4.05468e-10  -0.00129747    0.0470584   -0.0152127  -0.00255034 -9.62192e-10 -2.07837e-10   -0.0254849          nan          nan          nan          nan          nan          nan          nan          nan          nan          nan          nan          nan\r\n",
      " 2.31694e-11   -0.0516061 -1.41761e-11 -2.25377e-11     0.490902 -2.82539e-12 -1.48999e-09  1.08527e-09 -6.28841e-10 -0.000768367    0.0134412 -1.85914e-10  -0.00770435  -0.00213186    0.0309987  6.59835e-11  4.61193e-11 -3.03221e-10 -2.07997e-10 -6.15545e-11    0.0531267  0.000234699 -2.09366e-10          nan          nan          nan          nan          nan          nan          nan          nan          nan          nan          nan          nan\r\n",
      "  -0.0516061  2.31695e-11 -3.03938e-11 -4.35118e-10 -2.82537e-12     0.490902 -9.30979e-11  1.01459e-10  -6.2667e-11   -0.0134412 -0.000768367  5.20611e-12  -0.00213186   0.00770435  6.59836e-11    0.0309987  1.53705e-10 -7.26222e-12 -8.27405e-11  1.74361e-10 -0.000234699    0.0531267 -4.46673e-11          nan          nan          nan          nan          nan          nan          nan          nan          nan          nan          nan          nan\r\n",
      " 1.11619e-09 -2.45215e-09   -0.0131332   -0.0131332 -1.48999e-09 -9.30979e-11      0.54959    -0.219695    0.0856696  1.42908e-11  7.24929e-10    0.0364979  8.32972e-10  2.62324e-09  6.31649e-10  2.54443e-10   -0.0113411  -0.00132133   -0.0126944    0.0330665  1.34053e-08 -8.26736e-09   0.00153962          nan          nan          nan          nan          nan          nan          nan          nan          nan          nan          nan          nan\r\n",
      "-1.03644e-09  2.79239e-09    0.0131332    0.0131332  1.08527e-09  1.01459e-10    -0.219695      0.54959   -0.0856696 -6.02029e-11 -7.45194e-10   -0.0364979  -8.5787e-10 -2.60321e-09 -2.18714e-10 -1.48012e-10  -0.00132133   -0.0113411   -0.0330665    0.0126944 -1.39189e-08  8.23987e-09  -0.00153962          nan          nan          nan          nan          nan          nan          nan          nan          nan          nan          nan          nan\r\n",
      " 3.87501e-10 -8.22168e-10  -0.00489732  -0.00489732 -6.28841e-10  -6.2667e-11    0.0856696   -0.0856696     0.662947  1.80012e-10  5.81852e-10  -0.00632525  2.92928e-10  7.01868e-10  3.36753e-10  9.72238e-11  -0.00131529   0.00131529   0.00387719   0.00387719   4.3403e-09  -3.0527e-09     0.001122          nan          nan          nan          nan          nan          nan          nan          nan          nan          nan          nan          nan\r\n",
      "   0.0181649    0.0010384  1.46128e-10  1.66393e-10 -0.000768367   -0.0134412  1.42908e-11 -6.02029e-11  1.80012e-10     0.680922 -1.59768e-12 -8.83649e-11 -2.70459e-05  7.97252e-05  0.000492927   0.00862285 -3.86814e-10 -1.94033e-13 -8.09523e-11 -8.90617e-10  -0.00216055   -0.0409706  6.68908e-10          nan          nan          nan          nan          nan          nan          nan          nan          nan          nan          nan          nan\r\n",
      "   0.0010384   -0.0181649 -1.02422e-10 -1.48334e-10    0.0134412 -0.000768367  7.24929e-10 -7.45194e-10  5.81852e-10 -1.59779e-12     0.680922 -6.20499e-11  7.97252e-05  2.70459e-05  -0.00862285  0.000492927  4.19223e-12 -8.13857e-10  -3.7761e-10   9.3981e-12    0.0409706  -0.00216055 -8.09428e-10          nan          nan          nan          nan          nan          nan          nan          nan          nan          nan          nan          nan\r\n",
      " 1.10389e-10 -3.85187e-10  -0.00208641  -0.00208641 -1.85914e-10  5.20611e-12    0.0364979   -0.0364979  -0.00632525 -8.83649e-11 -6.20499e-11      0.79826 -1.21035e-11  3.26478e-10 -1.10207e-10  5.76788e-11  -0.00465011   0.00465011    0.0137075    0.0137075  1.73244e-09 -9.75404e-10  0.000444801          nan          nan          nan          nan          nan          nan          nan          nan          nan          nan          nan          nan\r\n",
      "  -0.0103942   -0.0375639 -1.18602e-11   8.1767e-12  -0.00770435  -0.00213186  8.32972e-10  -8.5787e-10  2.92928e-10 -2.70459e-05  7.97252e-05 -1.21035e-11     0.956418 -4.28729e-11    0.0126662   0.00350485 -1.23834e-10  2.37466e-10  6.53814e-10  4.31443e-10   -0.0192738  -0.00542498 -6.82519e-12          nan          nan          nan          nan          nan          nan          nan          nan          nan          nan          nan          nan\r\n",
      "   0.0375639   -0.0103942 -2.06768e-10 -1.81871e-10  -0.00213186   0.00770435  2.62324e-09 -2.60321e-09  7.01868e-10  7.97252e-05  2.70459e-05  3.26478e-10 -4.28729e-11     0.956418   0.00350485   -0.0126662 -4.24135e-10  6.46506e-10  1.49158e-09  1.60522e-09  -0.00542498    0.0192738  8.91541e-11          nan          nan          nan          nan          nan          nan          nan          nan          nan          nan          nan          nan\r\n",
      "-1.99859e-11    0.0421019  1.19253e-10  1.28211e-11    0.0309987  6.59836e-11  6.31649e-10 -2.18714e-10  3.36753e-10  0.000492927  -0.00862285 -1.10207e-10    0.0126662   0.00350485     0.988566   3.7321e-11  2.92134e-11 -1.10929e-10  3.58662e-11 -6.17141e-11   -0.0223628 -9.87925e-05  -3.2996e-10          nan          nan          nan          nan          nan          nan          nan          nan          nan          nan          nan          nan\r\n",
      "   0.0421019 -1.99859e-11 -7.46744e-12  4.05468e-10  6.59835e-11    0.0309987  2.54443e-10 -1.48012e-10  9.72238e-11   0.00862285  0.000492927  5.76788e-11   0.00350485   -0.0126662   3.7321e-11     0.988566 -7.08152e-12 -9.04988e-11  6.75571e-11  1.49273e-10  9.87926e-05   -0.0223628 -1.73274e-10          nan          nan          nan          nan          nan          nan          nan          nan          nan          nan          nan          nan\r\n",
      "-2.08447e-10  1.91917e-10   -0.0470584  -0.00129747  4.61193e-11  1.53705e-10   -0.0113411  -0.00132133  -0.00131529 -3.86814e-10  4.19223e-12  -0.00465011 -1.23834e-10 -4.24135e-10  2.92134e-11 -7.08152e-12       1.0332    -0.006557   -0.0132326   -0.0132326 -8.25325e-10   5.5302e-10   0.00427644          nan          nan          nan          nan          nan          nan          nan          nan          nan          nan          nan          nan\r\n",
      " 9.10017e-11  6.89284e-12   0.00129747    0.0470584 -3.03221e-10 -7.26222e-12  -0.00132133   -0.0113411   0.00131529 -1.94033e-13 -8.13857e-10   0.00465011  2.37466e-10  6.46506e-10 -1.10929e-10 -9.04988e-11    -0.006557       1.0332    0.0132326    0.0132326  7.78603e-10 -4.51138e-10  -0.00427644          nan          nan          nan          nan          nan          nan          nan          nan          nan          nan          nan          nan\r\n",
      " 3.57708e-10 -5.01707e-10  -0.00255034   -0.0152127 -2.07997e-10 -8.27405e-11   -0.0126944   -0.0330665   0.00387719 -8.09523e-11  -3.7761e-10    0.0137075  6.53814e-10  1.49158e-09  3.58662e-11  6.75571e-11   -0.0132326    0.0132326      1.06771    0.0410745   2.3674e-09 -1.58675e-09   0.00204024          nan          nan          nan          nan          nan          nan          nan          nan          nan          nan          nan          nan\r\n",
      " 1.58899e-10 -6.19152e-10   -0.0152127  -0.00255034 -6.15545e-11  1.74361e-10    0.0330665    0.0126944   0.00387719 -8.90617e-10   9.3981e-12    0.0137075  4.31443e-10  1.60522e-09 -6.17141e-11  1.49273e-10   -0.0132326    0.0132326    0.0410745      1.06771  2.46838e-09 -1.53948e-09   0.00204024          nan          nan          nan          nan          nan          nan          nan          nan          nan          nan          nan          nan\r\n",
      "-0.000332418    0.0752465  6.85918e-10  7.30843e-10   -0.0690159  0.000304893 -8.05901e-09  8.33661e-09 -3.16371e-09   0.00163011   -0.0309119  -1.5432e-09   0.00866659   0.00243938    0.0364086 -0.000160843  5.58353e-10 -5.57789e-10 -1.77565e-09 -1.77916e-09    -0.194424  2.21051e-10   -4.217e-09          nan          nan          nan          nan          nan          nan          nan          nan          nan          nan          nan          nan\r\n",
      "   0.0752465  0.000332418  2.23012e-12  2.86551e-10 -0.000304892   -0.0690159   5.4891e-09 -5.53167e-09  2.38348e-09    0.0309119   0.00163011   8.8682e-10   0.00243938  -0.00866659  0.000160843    0.0364086 -4.81227e-10  4.76983e-10  1.28063e-09  1.27919e-09  2.21051e-10    -0.194424 -5.54468e-09          nan          nan          nan          nan          nan          nan          nan          nan          nan          nan          nan          nan\r\n",
      " 5.99205e-10  5.29669e-10   -0.0141904   -0.0141904 -3.68921e-10 -5.51704e-10  -0.00431345   0.00431345  -0.00130907  1.02975e-09 -1.08959e-09 -0.000524906   8.3619e-11 -8.16698e-11     4.07e-11  2.51644e-10   0.00597537  -0.00597537   0.00150667   0.00150667  -4.4273e-09 -5.45867e-09     0.958296          nan          nan          nan          nan          nan          nan          nan          nan          nan          nan          nan          nan\r\n",
      "        -nan         -nan         -nan         -nan         -nan         -nan         -nan         -nan         -nan         -nan         -nan         -nan         -nan         -nan         -nan         -nan         -nan         -nan         -nan         -nan         -nan         -nan         -nan          nan          nan          nan          nan          nan          nan          nan          nan          nan          nan          nan          nan\r\n",
      "        -nan         -nan         -nan         -nan         -nan         -nan         -nan         -nan         -nan         -nan         -nan         -nan         -nan         -nan         -nan         -nan         -nan         -nan         -nan         -nan         -nan         -nan         -nan         -nan         -nan         -nan         -nan         -nan         -nan         -nan         -nan         -nan         -nan         -nan         -nan\r\n",
      "        -nan         -nan         -nan         -nan         -nan         -nan         -nan         -nan         -nan         -nan         -nan         -nan         -nan         -nan         -nan         -nan         -nan         -nan         -nan         -nan         -nan         -nan         -nan         -nan         -nan         -nan         -nan         -nan         -nan         -nan         -nan         -nan         -nan         -nan         -nan\r\n",
      "        -nan         -nan         -nan         -nan         -nan         -nan         -nan         -nan         -nan         -nan         -nan         -nan         -nan         -nan         -nan         -nan         -nan         -nan         -nan         -nan         -nan         -nan         -nan          nan          nan          nan          nan          nan          nan          nan          nan          nan          nan          nan          nan\r\n",
      "        -nan         -nan         -nan         -nan         -nan         -nan         -nan         -nan         -nan         -nan         -nan         -nan         -nan         -nan         -nan         -nan         -nan         -nan         -nan         -nan         -nan         -nan         -nan          nan          nan          nan          nan          nan          nan          nan          nan          nan          nan          nan          nan\r\n",
      "        -nan         -nan         -nan         -nan         -nan         -nan         -nan         -nan         -nan         -nan         -nan         -nan         -nan         -nan         -nan         -nan         -nan         -nan         -nan         -nan         -nan         -nan         -nan         -nan         -nan         -nan         -nan         -nan         -nan         -nan         -nan         -nan         -nan         -nan         -nan\r\n",
      "        -nan         -nan         -nan         -nan         -nan         -nan         -nan         -nan         -nan         -nan         -nan         -nan         -nan         -nan         -nan         -nan         -nan         -nan         -nan         -nan         -nan         -nan         -nan         -nan         -nan         -nan         -nan         -nan         -nan         -nan         -nan         -nan         -nan         -nan         -nan\r\n",
      "        -nan         -nan         -nan         -nan         -nan         -nan         -nan         -nan         -nan         -nan         -nan         -nan         -nan         -nan         -nan         -nan         -nan         -nan         -nan         -nan         -nan         -nan         -nan          nan          nan          nan          nan          nan          nan          nan          nan          nan          nan          nan          nan\r\n",
      "        -nan         -nan         -nan         -nan         -nan         -nan         -nan         -nan         -nan         -nan         -nan         -nan         -nan         -nan         -nan         -nan         -nan         -nan         -nan         -nan         -nan         -nan         -nan          nan          nan          nan          nan          nan          nan          nan          nan          nan          nan          nan          nan\r\n",
      "        -nan         -nan         -nan         -nan         -nan         -nan         -nan         -nan         -nan         -nan         -nan         -nan         -nan         -nan         -nan         -nan         -nan         -nan         -nan         -nan         -nan         -nan         -nan         -nan          nan          nan          nan         -nan          nan          nan          nan         -nan          nan          nan          nan\r\n",
      "        -nan         -nan         -nan         -nan         -nan         -nan         -nan         -nan         -nan         -nan         -nan         -nan         -nan         -nan         -nan         -nan         -nan         -nan         -nan         -nan         -nan         -nan         -nan         -nan          nan          nan          nan         -nan          nan          nan          nan         -nan          nan          nan          nan\r\n",
      "        -nan         -nan         -nan         -nan         -nan         -nan         -nan         -nan         -nan         -nan         -nan         -nan         -nan         -nan         -nan         -nan         -nan         -nan         -nan         -nan         -nan         -nan         -nan         -nan         -nan         -nan         -nan         -nan         -nan         -nan         -nan         -nan         -nan         -nan         -nan\r\n",
      "B\r\n",
      "    0.093811  -1.3573e-11  9.62675e-11  3.20968e-10  1.42486e-11   -0.0328898  4.68052e-10 -4.11087e-10  2.38447e-10    0.0155318  0.000887881  6.34975e-11   -0.0128886    0.0465783 -2.32199e-11    0.0481429 -2.59236e-10  1.01556e-10  3.59463e-10  8.39595e-11  0.000110919   -0.0251078  4.90608e-10         -nan         -nan         -nan         -nan         -nan         -nan         -nan         -nan         -nan         -nan         -nan         -nan\r\n",
      " -1.3573e-11     0.093811   2.0102e-10  1.44055e-10   -0.0328898  1.42487e-11 -9.67839e-10  1.19254e-09 -5.07354e-10  0.000887881   -0.0155318 -2.54853e-10   -0.0465783   -0.0128886    0.0481429 -2.32198e-11  1.64736e-10  1.10767e-10 -4.29889e-10 -5.87568e-10   -0.0251078 -0.000110919  5.38424e-10         -nan         -nan         -nan         -nan         -nan         -nan         -nan         -nan         -nan         -nan         -nan         -nan\r\n",
      " 9.62675e-11   2.0102e-10     0.105868  -0.00531385 -1.87538e-11 -2.58882e-11  -0.00665323   0.00665323  -0.00360131  1.36154e-10 -8.74656e-11  -0.00163592 -2.39194e-11 -2.29496e-10  1.51009e-10  -1.3019e-11   -0.0640578   0.00171342  -0.00244955   -0.0197007 -7.96343e-11  1.94429e-10   -0.0418871         -nan         -nan         -nan         -nan         -nan         -nan         -nan         -nan         -nan         -nan         -nan         -nan\r\n",
      " 3.20968e-10  1.44055e-10  -0.00531385     0.105868 -2.23138e-11 -3.15402e-10  -0.00665323   0.00665323  -0.00360131  1.60338e-10 -1.30045e-10  -0.00163592   2.9349e-12 -1.92632e-10  9.22226e-12  5.05946e-10  -0.00171342    0.0640578   -0.0197007  -0.00244955 -5.04835e-12 -4.79957e-11   -0.0418871         -nan         -nan         -nan         -nan         -nan         -nan         -nan         -nan         -nan         -nan         -nan         -nan\r\n",
      " 1.42486e-11   -0.0328898 -1.87538e-11 -2.23138e-11     0.240891  -6.6084e-13 -9.44017e-10  6.54504e-10  -5.4939e-10 -0.000825721    0.0144445 -1.60934e-10  -0.00881228  -0.00243843    0.0441772  9.17234e-11  4.10021e-11 -4.25025e-10  -2.1514e-10 -1.15719e-11  -0.00438142 -1.93559e-05 -5.21073e-10         -nan         -nan         -nan         -nan         -nan         -nan         -nan         -nan         -nan         -nan         -nan         -nan\r\n",
      "  -0.0328898  1.42487e-11 -2.58882e-11 -3.15402e-10 -6.60815e-13     0.240891 -4.38445e-11  4.74045e-11 -4.47914e-11   -0.0144445 -0.000825721  1.05705e-11  -0.00243843   0.00881228  9.17235e-11    0.0441772  2.22986e-10 -1.94181e-11 -1.02602e-10   2.8142e-10  1.93558e-05  -0.00438142 -4.88509e-10         -nan         -nan         -nan         -nan         -nan         -nan         -nan         -nan         -nan         -nan         -nan         -nan\r\n",
      " 4.68052e-10 -9.67839e-10  -0.00665323  -0.00665323 -9.44017e-10 -4.38445e-11     0.221874    -0.110692    0.0629982  1.78776e-11  5.48464e-10    0.0286173  9.99619e-10  2.90169e-09   7.9443e-10  2.58631e-10   -0.0100733  -0.00717791   -0.0330794     0.029265  1.48734e-09 -5.30117e-10  -0.00289038         -nan         -nan         -nan         -nan         -nan         -nan         -nan         -nan         -nan         -nan         -nan         -nan\r\n",
      "-4.11087e-10  1.19254e-09   0.00665323   0.00665323  6.54504e-10  4.74045e-11    -0.110692     0.221874   -0.0629982 -6.04574e-11 -5.72649e-10   -0.0286173 -1.03648e-09 -2.87484e-09 -2.75465e-10 -1.16844e-10  -0.00717791   -0.0100733    -0.029265    0.0330794 -1.72939e-09  4.54358e-10   0.00289038         -nan         -nan         -nan         -nan         -nan         -nan         -nan         -nan         -nan         -nan         -nan         -nan\r\n",
      " 2.38447e-10 -5.07354e-10  -0.00360131  -0.00360131  -5.4939e-10 -4.47914e-11    0.0629982   -0.0629982     0.429278  2.30983e-10  6.84386e-10   -0.0121538  4.21588e-10  8.97733e-10  4.70421e-10  1.29993e-10  6.20094e-06 -6.20096e-06  -1.8279e-05  -1.8279e-05  1.01358e-09 -6.37643e-10  5.44436e-05         -nan         -nan         -nan         -nan         -nan         -nan         -nan         -nan         -nan         -nan         -nan         -nan\r\n",
      "   0.0155318  0.000887881  1.36154e-10  1.60338e-10 -0.000825721   -0.0144445  1.78776e-11 -6.04574e-11  2.30983e-10     0.463967 -2.13368e-12 -1.17866e-10 -0.000207787  0.000612508  0.000592149    0.0103586 -6.63573e-10  5.12131e-12 -1.34042e-10 -1.50676e-09 -0.000933936   -0.0177102  1.63369e-09         -nan         -nan         -nan         -nan         -nan         -nan         -nan         -nan         -nan         -nan         -nan         -nan\r\n",
      " 0.000887881   -0.0155318 -8.74656e-11 -1.30045e-10    0.0144445 -0.000825721  5.48464e-10 -5.72649e-10  6.84386e-10 -2.13383e-12     0.463967 -1.23375e-10  0.000612508  0.000207787   -0.0103586  0.000592149  2.66342e-11 -1.39936e-09 -6.97433e-10 -3.89817e-11    0.0177102 -0.000933936 -1.78276e-09         -nan         -nan         -nan         -nan         -nan         -nan         -nan         -nan         -nan         -nan         -nan         -nan\r\n",
      " 6.34975e-11 -2.54853e-10  -0.00163592  -0.00163592 -1.60934e-10  1.05705e-11    0.0286173   -0.0286173   -0.0121538 -1.17866e-10 -1.23375e-10     0.636067 -4.95178e-11    4.091e-10 -1.95684e-10   8.2771e-11  -0.00672347   0.00672347    0.0198192    0.0198192  9.92469e-11 -2.29504e-12  4.32946e-05         -nan         -nan         -nan         -nan         -nan         -nan         -nan         -nan         -nan         -nan         -nan         -nan\r\n",
      "  -0.0128886   -0.0465783 -2.39194e-11   2.9349e-12  -0.00881228  -0.00243843  9.99619e-10 -1.03648e-09  4.21588e-10 -0.000207787  0.000612508 -4.95178e-11     0.917068 -7.51649e-11    0.0214841   0.00594482 -2.20544e-10   4.5325e-10    1.227e-09  7.74837e-10   -0.0223766  -0.00629835  1.02093e-10         -nan         -nan         -nan         -nan         -nan         -nan         -nan         -nan         -nan         -nan         -nan         -nan\r\n",
      "   0.0465783   -0.0128886 -2.29496e-10 -1.92632e-10  -0.00243843   0.00881228  2.90169e-09 -2.87484e-09  8.97733e-10  0.000612508  0.000207787    4.091e-10 -7.51649e-11     0.917068   0.00594482   -0.0214841 -7.40869e-10  1.19303e-09  2.67331e-09  2.90602e-09  -0.00629835    0.0223766  6.26666e-11         -nan         -nan         -nan         -nan         -nan         -nan         -nan         -nan         -nan         -nan         -nan         -nan\r\n",
      "-2.32199e-11    0.0481429  1.51009e-10  9.22226e-12    0.0441772  9.17235e-11   7.9443e-10 -2.75465e-10  4.70421e-10  0.000592149   -0.0103586 -1.95684e-10    0.0214841   0.00594482     0.981535  7.19406e-11  5.42423e-11 -1.86564e-10  5.45269e-11 -1.35588e-10   0.00424838  1.87681e-05 -2.61234e-10         -nan         -nan         -nan         -nan         -nan         -nan         -nan         -nan         -nan         -nan         -nan         -nan\r\n",
      "   0.0481429 -2.32199e-11  -1.3019e-11  5.05946e-10  9.17234e-11    0.0441772  2.58631e-10 -1.16844e-10  1.29993e-10    0.0103586  0.000592149   8.2771e-11   0.00594482   -0.0214841  7.19407e-11     0.981535  -2.9426e-11 -1.60689e-10  1.09484e-10  2.41805e-10 -1.87681e-05   0.00424838  1.75189e-10         -nan         -nan         -nan         -nan         -nan         -nan         -nan         -nan         -nan         -nan         -nan         -nan\r\n",
      "-2.59236e-10  1.64736e-10   -0.0640578  -0.00171342  4.10021e-11  2.22986e-10   -0.0100733  -0.00717791  6.20094e-06 -6.63573e-10  2.66342e-11  -0.00672347 -2.20544e-10 -7.40869e-10  5.42423e-11  -2.9426e-11      1.06906   -0.0127926    -0.024727    -0.024727 -3.94544e-10  2.10729e-10    0.0150528         -nan         -nan         -nan         -nan         -nan         -nan         -nan         -nan         -nan         -nan         -nan         -nan\r\n",
      " 1.01556e-10  1.10767e-10   0.00171342    0.0640578 -4.25025e-10 -1.94181e-11  -0.00717791   -0.0100733 -6.20096e-06  5.12131e-12 -1.39936e-09   0.00672347   4.5325e-10  1.19303e-09 -1.86564e-10 -1.60689e-10   -0.0127926      1.06906     0.024727     0.024727  2.19075e-10  1.18442e-12   -0.0150528         -nan         -nan         -nan         -nan         -nan         -nan         -nan         -nan         -nan         -nan         -nan         -nan\r\n",
      " 3.59463e-10 -4.29889e-10  -0.00244955   -0.0197007  -2.1514e-10 -1.02602e-10   -0.0330794    -0.029265  -1.8279e-05 -1.34042e-10 -6.97433e-10    0.0198192    1.227e-09  2.67331e-09  5.45269e-11  1.09484e-10    -0.024727     0.024727      1.13356    0.0772937  8.79541e-10 -5.99711e-10   0.00544605         -nan         -nan         -nan         -nan         -nan         -nan         -nan         -nan         -nan         -nan         -nan         -nan\r\n",
      " 8.39595e-11 -5.87568e-10   -0.0197007  -0.00244955 -1.15719e-11   2.8142e-10     0.029265    0.0330794  -1.8279e-05 -1.50676e-09 -3.89817e-11    0.0198192  7.74837e-10  2.90602e-09 -1.35588e-10  2.41805e-10    -0.024727     0.024727    0.0772937      1.13356  1.09068e-09 -4.24417e-10   0.00544605         -nan         -nan         -nan         -nan         -nan         -nan         -nan         -nan         -nan         -nan         -nan         -nan\r\n",
      " 0.000253385   -0.0573567  -4.7178e-10 -4.19828e-10  -0.00347861  1.53675e-05  7.51816e-09 -7.82181e-09  1.20428e-09 -0.000537433    0.0101913  2.34334e-10   -0.0179438  -0.00505065    0.0191591 -8.46396e-05 -9.06523e-11   7.1209e-11 -1.66061e-10   5.1375e-12     0.600541  2.21511e-10 -3.19164e-09         -nan         -nan         -nan         -nan         -nan         -nan         -nan         -nan         -nan         -nan         -nan         -nan\r\n",
      "  -0.0573567 -0.000253385  3.44331e-10  4.15192e-11 -1.53675e-05  -0.00347861 -4.34445e-09  4.29109e-09 -7.17123e-10   -0.0101913 -0.000537433 -1.52038e-10  -0.00505065    0.0179438  8.46396e-05    0.0191591 -1.00929e-10  2.71832e-10  3.21899e-11  5.08213e-11  2.21511e-10     0.600541 -5.04422e-09         -nan         -nan         -nan         -nan         -nan         -nan         -nan         -nan         -nan         -nan         -nan         -nan\r\n",
      " 1.98296e-10  3.36863e-10   -0.0423679   -0.0423679 -5.91085e-10 -4.73076e-10  -0.00285922   0.00285922 -0.000438671  1.50212e-09 -1.61579e-09  -0.00021455  5.05842e-11  4.23509e-11 -3.64381e-10  1.53183e-10    0.0160922   -0.0160922   0.00533559   0.00533559 -3.64817e-09 -5.04866e-09       1.9848         -nan         -nan         -nan         -nan         -nan         -nan         -nan         -nan         -nan         -nan         -nan         -nan\r\n",
      "        -nan         -nan         -nan         -nan         -nan         -nan         -nan         -nan         -nan         -nan         -nan         -nan         -nan         -nan         -nan         -nan         -nan         -nan         -nan         -nan         -nan         -nan         -nan         -nan         -nan         -nan         -nan         -nan         -nan         -nan         -nan         -nan         -nan         -nan         -nan\r\n",
      "        -nan         -nan         -nan         -nan         -nan         -nan         -nan         -nan         -nan         -nan         -nan         -nan         -nan         -nan         -nan         -nan         -nan         -nan         -nan         -nan         -nan         -nan         -nan         -nan         -nan         -nan         -nan         -nan         -nan         -nan         -nan         -nan         -nan         -nan         -nan\r\n",
      "        -nan         -nan         -nan         -nan         -nan         -nan         -nan         -nan         -nan         -nan         -nan         -nan         -nan         -nan         -nan         -nan         -nan         -nan         -nan         -nan         -nan         -nan         -nan         -nan         -nan         -nan         -nan         -nan         -nan         -nan         -nan         -nan         -nan         -nan         -nan\r\n",
      "        -nan         -nan         -nan         -nan         -nan         -nan         -nan         -nan         -nan         -nan         -nan         -nan         -nan         -nan         -nan         -nan         -nan         -nan         -nan         -nan         -nan         -nan         -nan         -nan         -nan         -nan         -nan         -nan         -nan         -nan         -nan         -nan         -nan         -nan         -nan\r\n",
      "        -nan         -nan         -nan         -nan         -nan         -nan         -nan         -nan         -nan         -nan         -nan         -nan         -nan         -nan         -nan         -nan         -nan         -nan         -nan         -nan         -nan         -nan         -nan         -nan         -nan         -nan         -nan         -nan         -nan         -nan         -nan         -nan         -nan         -nan         -nan\r\n",
      "        -nan         -nan         -nan         -nan         -nan         -nan         -nan         -nan         -nan         -nan         -nan         -nan         -nan         -nan         -nan         -nan         -nan         -nan         -nan         -nan         -nan         -nan         -nan         -nan         -nan         -nan         -nan         -nan         -nan         -nan         -nan         -nan         -nan         -nan         -nan\r\n",
      "        -nan         -nan         -nan         -nan         -nan         -nan         -nan         -nan         -nan         -nan         -nan         -nan         -nan         -nan         -nan         -nan         -nan         -nan         -nan         -nan         -nan         -nan         -nan         -nan         -nan         -nan         -nan         -nan         -nan         -nan         -nan         -nan         -nan         -nan         -nan\r\n",
      "        -nan         -nan         -nan         -nan         -nan         -nan         -nan         -nan         -nan         -nan         -nan         -nan         -nan         -nan         -nan         -nan         -nan         -nan         -nan         -nan         -nan         -nan         -nan         -nan         -nan         -nan         -nan         -nan         -nan         -nan         -nan         -nan         -nan         -nan         -nan\r\n",
      "        -nan         -nan         -nan         -nan         -nan         -nan         -nan         -nan         -nan         -nan         -nan         -nan         -nan         -nan         -nan         -nan         -nan         -nan         -nan         -nan         -nan         -nan         -nan         -nan         -nan         -nan         -nan         -nan         -nan         -nan         -nan         -nan         -nan         -nan         -nan\r\n",
      "        -nan         -nan         -nan         -nan         -nan         -nan         -nan         -nan         -nan         -nan         -nan         -nan         -nan         -nan         -nan         -nan         -nan         -nan         -nan         -nan         -nan         -nan         -nan         -nan         -nan         -nan         -nan         -nan         -nan         -nan         -nan         -nan         -nan         -nan         -nan\r\n",
      "        -nan         -nan         -nan         -nan         -nan         -nan         -nan         -nan         -nan         -nan         -nan         -nan         -nan         -nan         -nan         -nan         -nan         -nan         -nan         -nan         -nan         -nan         -nan         -nan         -nan         -nan         -nan         -nan         -nan         -nan         -nan         -nan         -nan         -nan         -nan\r\n",
      "        -nan         -nan         -nan         -nan         -nan         -nan         -nan         -nan         -nan         -nan         -nan         -nan         -nan         -nan         -nan         -nan         -nan         -nan         -nan         -nan         -nan         -nan         -nan          nan          nan          nan          nan          nan          nan          nan          nan          nan          nan          nan          nan\r\n",
      "an error occurred:\r\n",
      "Small generalized eigenvalue problem failed.\r\n"
     ]
    }
   ],
   "source": [
    "!xtp_tools -c job_name=CO geometry_optimization.maxiter=1 dftpackage.basisset=3-21G dftpackage.auxbasisset=aux-def2-svp gwbse.gw.mode=G0W0 -e dftgwbse -t 4"
   ]
  },
  {
   "cell_type": "markdown",
   "metadata": {},
   "source": [
    "Notice that we are using 4 threads. The results will be stored in a file named `CO_summary.xml` in the current work directory, together with the optimization step in `optimisation.trj` and the orbitals in [hdf5 format](https://www.hdfgroup.org/solutions/hdf5/) saved on `CO.orb`."
   ]
  }
 ],
 "metadata": {
  "kernelspec": {
   "display_name": "Python 3",
   "language": "python",
   "name": "python3"
  },
  "language_info": {
   "codemirror_mode": {
    "name": "ipython",
    "version": 3
   },
   "file_extension": ".py",
   "mimetype": "text/x-python",
   "name": "python",
   "nbconvert_exporter": "python",
   "pygments_lexer": "ipython3",
   "version": "3.10.2"
  }
 },
 "nbformat": 4,
 "nbformat_minor": 4
}
