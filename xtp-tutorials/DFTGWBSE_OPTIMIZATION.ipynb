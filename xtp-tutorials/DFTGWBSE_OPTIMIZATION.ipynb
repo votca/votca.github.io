{
 "cells": [
  {
   "cell_type": "markdown",
   "metadata": {},
   "source": [
    "## DFT + GWBSE Optimization Using CO"
   ]
  },
  {
   "cell_type": "markdown",
   "metadata": {},
   "source": [
    "## Introduction\n",
    "This tutorial explains how to perform a molecular geometric optimization using the **GWBSE** method. See [the GW Compendium: A Practical Guide to Theoretical Photoemission Spectroscopy](https://doi.org/10.3389/fchem.2019.00377), for an excellent introduction to the method."
   ]
  },
  {
   "cell_type": "markdown",
   "metadata": {},
   "source": [
    "## Requirements\n",
    "* You will need to install **VOTCA** using the instructions described [here](https://github.com/votca/votca/blob/master/share/doc/INSTALL.rst)\n",
    "* Once the installation is completed you need to activate the VOTCA enviroment by running the `VOTCARC.bash` script that has been installed at the bin subfolder for the path that you have provided for the installation step above"
   ]
  },
  {
   "cell_type": "markdown",
   "metadata": {},
   "source": [
    "## Preparing the input\n",
    "To run a DFT-GWBSE calculation we will use the [xtp_tools](https://www.votca.org/xtp/xtp_tools_overview.html) calculator."
   ]
  },
  {
   "cell_type": "markdown",
   "metadata": {},
   "source": [
    "we can now change the calculator mode from single point energy calculation to optimization as follows by adding \n",
    "`-c geometry_optimization.maxiter=1` which enables optimization with one iteration. "
   ]
  },
  {
   "cell_type": "markdown",
   "metadata": {},
   "source": [
    "Because geometry optimsation is quite expensive numerically we chose a smaller basisset and G0W0 Finally, to run the calculation we just need the following command (This still takes a while)"
   ]
  },
  {
   "cell_type": "code",
   "execution_count": 1,
   "metadata": {
    "execution": {
     "iopub.execute_input": "2022-12-21T07:57:21.808822Z",
     "iopub.status.busy": "2022-12-21T07:57:21.808436Z",
     "iopub.status.idle": "2022-12-21T07:57:47.147251Z",
     "shell.execute_reply": "2022-12-21T07:57:47.146510Z"
    }
   },
   "outputs": [
    {
     "name": "stdout",
     "output_type": "stream",
     "text": [
      "==================================================\r\n",
      "========   VOTCA (http://www.votca.org)   ========\r\n",
      "==================================================\r\n",
      "\r\n",
      "please submit bugs to https://github.com/votca/xtp/issues\r\n",
      "\r\n",
      "xtp_tools, version 2023-dev gitid: c180d7e (compiled Dec 21 2022, 07:48:59)\r\n",
      "votca_csg, version 2023-dev gitid: c180d7e (compiled Dec 21 2022, 07:33:54)\r\n",
      "votca_tools, version 2023-dev gitid: c180d7e (compiled Dec 21 2022, 07:31:12)\r\n",
      "\r\n",
      "Initializing tool\r\n",
      "... dftgwbse Evaluating tool\r\n",
      "... dftgwbse  Using 4 threads\r\n",
      "... ... Reading structure from CO.xyz\r\n",
      "... ... Requested geometry optimization of excited state s1\r\n",
      "... ... Initial state: s1\r\n",
      "... ... WARNING: No tracker is used \r\n",
      "... ... Convergence of total energy: 0.000001 Hartree \r\n",
      "... ... Convergence of RMS Force:    0.000030 Hartree/Bohr \r\n",
      "... ... Convergence of Max Force:    0.000100 Hartree/Bohr \r\n",
      "... ... Convergence of RMS Step:     0.000600 Bohr \r\n",
      "... ... Convergence of Max Step:     0.001000 Bohr \r\n",
      "... ... Initial trust radius:        0.018897 BohrA\r\n",
      "    0.306708  3.24514e-15  1.22458e-10  3.90429e-10  1.11459e-16   -0.0516336  2.18923e-15 -1.02419e-16 -1.01333e-15  7.70758e-08   -0.0181563 -5.71837e-16 -6.45473e-06    0.0389795 -3.78269e-16    0.0421241 -1.94745e-11 -2.61568e-11  3.87882e-15 -2.99703e-15 -6.56312e-07    -0.108303   1.6043e-10 -1.19692e-10          nan          nan          nan          nan          nan          nan          nan          nan          nan          nan          nan\r\n",
      " 3.28908e-15     0.306708 -6.28739e-15 -8.31242e-15   -0.0516336  -3.2421e-18  -1.7436e-09  2.01157e-09  5.34415e-10    0.0181563  7.70758e-08  3.16684e-10    0.0389795  6.45473e-06    0.0421241 -2.78462e-16  5.68047e-14  5.59038e-14   3.2947e-10 -3.36152e-10     0.108303 -6.56312e-07  3.54192e-15 -8.87168e-11          nan          nan          nan          nan          nan          nan          nan          nan          nan          nan          nan\r\n",
      " 1.22458e-10 -6.28735e-15     0.319156   -0.0100481 -8.40078e-15    4.198e-11  9.78797e-07 -9.78797e-07 -3.65797e-07 -2.56082e-15 -4.28647e-11 -1.56541e-07  6.40265e-15 -2.56197e-11  3.41895e-15 -1.63904e-11    0.0495092   0.00204416 -4.95479e-07  8.35535e-06 -2.71011e-14 -1.58331e-11    0.0252874     0.019235          nan          nan          nan          nan          nan          nan          nan          nan          nan          nan          nan\r\n",
      " 3.90429e-10 -8.31245e-15   -0.0100481     0.319156 -5.55842e-15 -3.67899e-10  9.78797e-07 -9.78797e-07 -3.65797e-07 -2.99379e-15 -1.10116e-10 -1.56541e-07  7.75556e-15 -3.30932e-11  1.96556e-15  3.13125e-10   0.00204416    0.0495092 -8.35535e-06  4.95479e-07 -3.35169e-14 -5.25146e-10    0.0252874    -0.019235          nan          nan          nan          nan          nan          nan          nan          nan          nan          nan          nan\r\n",
      " 9.33853e-17   -0.0516336 -8.40081e-15  -5.5584e-15     0.490609  2.28721e-15 -1.69885e-09  1.28897e-09  7.55661e-10   -0.0134761 -5.72075e-08  2.05863e-10    0.0080157  1.32734e-06    0.0309388 -1.81576e-15  3.14364e-14  3.19535e-14  1.87759e-10 -1.83891e-10    -0.053272  3.22827e-07  2.98287e-15  8.73677e-12          nan          nan          nan          nan          nan          nan          nan          nan          nan          nan          nan\r\n",
      "  -0.0516336 -3.12478e-17    4.198e-11 -3.67899e-10  2.23519e-15     0.490609   -1.322e-15 -1.49286e-15  2.35702e-16 -5.72075e-08    0.0134761  1.06367e-16 -1.32734e-06    0.0080157 -1.78419e-15    0.0309388  1.41583e-11  1.80255e-11 -2.83013e-15  2.33681e-15  3.22827e-07     0.053272 -9.98374e-11  3.59541e-11          nan          nan          nan          nan          nan          nan          nan          nan          nan          nan          nan\r\n",
      "  2.1892e-15  -1.7436e-09  9.78797e-07  9.78797e-07 -1.69885e-09 -1.32201e-15     0.549726    -0.220522   -0.0861688 -7.16778e-10  -3.5599e-15   -0.0368756  5.42593e-10  8.90218e-14  7.89529e-10 -1.69865e-17 -5.94196e-06  1.91791e-06    0.0125301     0.034935 -6.78358e-09  2.49585e-14  -5.3916e-07   -0.0107789          nan          nan          nan          nan          nan          nan          nan          nan          nan          nan          nan\r\n",
      "-1.02382e-16  2.01157e-09 -9.78797e-07 -9.78797e-07  1.28897e-09 -1.49282e-15    -0.220522     0.549726    0.0861688  7.84029e-10  3.13029e-15    0.0368756 -5.50067e-10  -9.0402e-14 -4.60014e-10  1.49584e-15 -1.91791e-06  5.94196e-06     0.034935    0.0125301  7.28252e-09  -3.1309e-14   5.3916e-07   -0.0107789          nan          nan          nan          nan          nan          nan          nan          nan          nan          nan          nan\r\n",
      "-1.01319e-15  5.34415e-10 -3.65797e-07 -3.65797e-07  7.55661e-10  2.35702e-16   -0.0861688    0.0861688     0.662739  4.24852e-10  2.58246e-15  -0.00625217 -6.14589e-11 -9.90465e-15 -4.50125e-10   2.8543e-16  7.03328e-07  7.03328e-07   0.00414117  -0.00414117  1.82084e-09 -6.04212e-15  1.65959e-07  4.56763e-09          nan          nan          nan          nan          nan          nan          nan          nan          nan          nan          nan\r\n",
      " 7.70758e-08    0.0181563 -2.56083e-15 -2.99363e-15   -0.0134761 -5.72075e-08 -7.16778e-10  7.84029e-10  4.24852e-10     0.680027 -7.60526e-16  3.11525e-11   7.6988e-05  1.30755e-08   0.00866729  3.67937e-08  1.51087e-14  1.59749e-14  9.37659e-11 -8.87453e-11    0.0410255 -4.22772e-07  2.10219e-15 -5.49319e-11          nan          nan          nan          nan          nan          nan          nan          nan          nan          nan          nan\r\n",
      "  -0.0181563  7.70758e-08 -4.28647e-11 -1.10116e-10 -5.72075e-08    0.0134761  -3.5599e-15   3.1304e-15  2.58249e-15 -8.12929e-16     0.680027 -9.49872e-17  1.30755e-08  -7.6988e-05  3.67937e-08  -0.00866729 -1.45175e-11 -1.95381e-11  3.56378e-15 -2.70305e-15  4.22772e-07    0.0410255 -1.18008e-10  8.50649e-11          nan          nan          nan          nan          nan          nan          nan          nan          nan          nan          nan\r\n",
      "-5.71838e-16  3.16684e-10 -1.56541e-07 -1.56541e-07  2.05863e-10  1.06506e-16   -0.0368756    0.0368756  -0.00625217  3.11525e-11 -9.50257e-17     0.797893 -2.21528e-10 -3.63886e-14  6.39471e-11 -1.59225e-16  2.46865e-06  2.46865e-06    0.0145354   -0.0145354   9.5715e-10  -3.1961e-15  7.03537e-08  1.89235e-09          nan          nan          nan          nan          nan          nan          nan          nan          nan          nan          nan\r\n",
      "-6.45473e-06    0.0389795  6.40265e-15  7.75556e-15    0.0080157 -1.32734e-06  5.42593e-10 -5.50067e-10 -6.14589e-11   7.6988e-05  1.30755e-08 -2.21528e-10     0.956279 -2.50293e-14   -0.0131238  2.17321e-06 -5.03971e-14 -5.11107e-14 -2.31212e-10  3.46022e-10   -0.0200194 -3.19374e-06  8.09884e-15  5.05542e-11          nan          nan          nan          nan          nan          nan          nan          nan          nan          nan          nan\r\n",
      "   0.0389795  6.45473e-06 -2.56197e-11 -3.30932e-11  1.32734e-06    0.0080157  8.90218e-14  -9.0402e-14 -9.90464e-15  1.30755e-08  -7.6988e-05 -3.63886e-14 -2.49819e-14     0.956279 -2.17321e-06   -0.0131238 -4.62595e-11  6.85496e-11 -4.84523e-14  4.91709e-14 -3.19374e-06    0.0200194 -4.89095e-11  6.44192e-11          nan          nan          nan          nan          nan          nan          nan          nan          nan          nan          nan\r\n",
      " -3.6162e-16    0.0421241  3.41904e-15  1.96554e-15    0.0309388 -1.78837e-15  7.89529e-10 -4.60014e-10 -4.50125e-10   0.00866729  3.67937e-08  6.39471e-11   -0.0131238 -2.17321e-06     0.987501  2.21004e-15  6.55632e-15 -2.20275e-14  -1.3445e-10 -4.39277e-11    0.0224113 -1.35812e-07 -2.55692e-15  4.30636e-11          nan          nan          nan          nan          nan          nan          nan          nan          nan          nan          nan\r\n",
      "   0.0421241  -2.6501e-16 -1.63904e-11  3.13125e-10 -1.82872e-15    0.0309388 -1.70067e-17  1.49598e-15  2.85431e-16  3.67937e-08  -0.00866729 -1.59222e-16  2.17321e-06   -0.0131238  2.16019e-15     0.987501  6.74219e-11 -1.10956e-10  1.80809e-14  1.05351e-14 -1.35812e-07   -0.0224113 -1.30106e-10  6.30522e-11          nan          nan          nan          nan          nan          nan          nan          nan          nan          nan          nan\r\n",
      "-1.94745e-11  5.68047e-14    0.0495092   0.00204416  3.14364e-14  1.41583e-11 -5.94196e-06 -1.91791e-06  7.03328e-07  1.51087e-14 -1.45175e-11  2.46865e-06 -5.03971e-14 -4.62595e-11  6.55632e-15  6.74219e-11      1.02819    0.0020693  7.37748e-06 -7.37748e-06   2.1128e-13 -1.80134e-12   0.00469072   9.3569e-05          nan          nan          nan          nan          nan          nan          nan          nan          nan          nan          nan\r\n",
      "-2.61568e-11  5.59038e-14   0.00204416    0.0495092  3.19535e-14  1.80255e-11  1.91791e-06  5.94196e-06  7.03328e-07   1.5975e-14 -1.95381e-11  2.46865e-06 -5.11108e-14  6.85496e-11 -2.20275e-14 -1.10956e-10    0.0020693      1.02819  7.37748e-06 -7.37748e-06  1.97658e-13    8.997e-11   0.00469072 -9.35692e-05          nan          nan          nan          nan          nan          nan          nan          nan          nan          nan          nan\r\n",
      " 3.87882e-15   3.2947e-10 -4.95479e-07 -8.35535e-06  1.87759e-10 -2.83013e-15    0.0125301     0.034935   0.00414117  9.37659e-11  3.56379e-15    0.0145354 -2.31212e-10 -4.84523e-14  -1.3445e-10  1.80808e-14  7.37748e-06  7.37748e-06      1.07163   -0.0455077  1.15778e-09 -1.86979e-14  -9.4259e-07 -0.000279521          nan          nan          nan          nan          nan          nan          nan          nan          nan          nan          nan\r\n",
      "-2.99703e-15 -3.36152e-10  8.35535e-06  4.95479e-07 -1.83891e-10  2.33681e-15     0.034935    0.0125301  -0.00414117 -8.87453e-11 -2.70304e-15   -0.0145354  3.46022e-10  4.91709e-14 -4.39277e-11  1.05351e-14 -7.37748e-06 -7.37748e-06   -0.0455077      1.07163  -1.2482e-09  4.80741e-15   9.4259e-07 -0.000279525          nan          nan          nan          nan          nan          nan          nan          nan          nan          nan          nan\r\n",
      " 4.55966e-07   -0.0752424   1.5061e-14  1.95225e-14    0.0690969 -4.18725e-07  3.52652e-09  -3.8526e-09 -1.17254e-09   -0.0309264 -3.18699e-07 -8.30841e-10   0.00901647  1.43842e-06   -0.0363998  2.20582e-07 -1.20873e-13 -1.20863e-13 -7.12841e-10  7.14106e-10    -0.194835  8.54977e-15  7.05095e-14 -6.64744e-10          nan          nan          nan          nan          nan          nan          nan          nan          nan          nan          nan\r\n",
      "   0.0752424  4.55966e-07  1.03398e-10  4.38777e-10 -4.18725e-07   -0.0690969 -1.49815e-14  1.92691e-14  4.36087e-15  3.18699e-07   -0.0309264  3.36016e-15  1.43842e-06  -0.00901647  2.20582e-07    0.0363998  7.75988e-12  4.82561e-12  2.10459e-15 -1.80369e-15   8.4583e-15    -0.194835  2.30344e-09  8.68978e-10          nan          nan          nan          nan          nan          nan          nan          nan          nan          nan          nan\r\n",
      "-1.58821e-10  1.10912e-14    0.0143253    0.0143253  5.27851e-15  1.71047e-10 -1.08863e-06  1.08863e-06  3.77332e-07  4.77248e-15 -4.79007e-11  1.63593e-07 -5.48601e-16   -8.185e-12  -2.8024e-15 -2.22422e-10   0.00613235   0.00613235 -1.08501e-06  1.08501e-06  1.22803e-13  2.19098e-09     0.954926 -1.13653e-08          nan          nan          nan          nan          nan          nan          nan          nan          nan          nan          nan\r\n",
      "-7.26776e-11 -5.20437e-11  -0.00548547   0.00548547 -2.17393e-10 -3.29561e-10   0.00212041    0.0021204 -2.56748e-09  1.73061e-12 -1.05599e-11 -1.34218e-09  7.45193e-11  1.10825e-10  2.07565e-11  2.22721e-11    0.0040728   -0.0040728   -0.0023432   -0.0023432 -7.95881e-10  1.04587e-09 -1.15593e-08     0.112518          nan          nan          nan          nan          nan          nan          nan          nan          nan          nan          nan\r\n",
      "        -nan         -nan         -nan         -nan         -nan         -nan         -nan         -nan         -nan         -nan         -nan         -nan         -nan         -nan         -nan         -nan         -nan         -nan         -nan         -nan         -nan         -nan         -nan         -nan         -nan         -nan         -nan         -nan         -nan         -nan         -nan         -nan         -nan         -nan         -nan\r\n",
      "        -nan         -nan         -nan         -nan         -nan         -nan         -nan         -nan         -nan         -nan         -nan         -nan         -nan         -nan         -nan         -nan         -nan         -nan         -nan         -nan         -nan         -nan         -nan         -nan         -nan         -nan         -nan         -nan         -nan         -nan         -nan         -nan         -nan         -nan         -nan\r\n",
      "        -nan         -nan         -nan         -nan         -nan         -nan         -nan         -nan         -nan         -nan         -nan         -nan         -nan         -nan         -nan         -nan         -nan         -nan         -nan         -nan         -nan         -nan         -nan         -nan          nan          nan          nan          nan          nan          nan          nan          nan          nan          nan          nan\r\n",
      "        -nan         -nan         -nan         -nan         -nan         -nan         -nan         -nan         -nan         -nan         -nan         -nan         -nan         -nan         -nan         -nan         -nan         -nan         -nan         -nan         -nan         -nan         -nan         -nan          nan          nan          nan          nan          nan          nan          nan          nan          nan          nan          nan\r\n",
      "        -nan         -nan         -nan         -nan         -nan         -nan         -nan         -nan         -nan         -nan         -nan         -nan         -nan         -nan         -nan         -nan         -nan         -nan         -nan         -nan         -nan         -nan         -nan         -nan         -nan         -nan         -nan         -nan         -nan         -nan         -nan         -nan         -nan         -nan         -nan\r\n",
      "        -nan         -nan         -nan         -nan         -nan         -nan         -nan         -nan         -nan         -nan         -nan         -nan         -nan         -nan         -nan         -nan         -nan         -nan         -nan         -nan         -nan         -nan         -nan         -nan         -nan         -nan         -nan         -nan         -nan         -nan         -nan         -nan         -nan         -nan         -nan\r\n",
      "        -nan         -nan         -nan         -nan         -nan         -nan         -nan         -nan         -nan         -nan         -nan         -nan         -nan         -nan         -nan         -nan         -nan         -nan         -nan         -nan         -nan         -nan         -nan         -nan          nan          nan          nan          nan          nan          nan          nan          nan          nan          nan          nan\r\n",
      "        -nan         -nan         -nan         -nan         -nan         -nan         -nan         -nan         -nan         -nan         -nan         -nan         -nan         -nan         -nan         -nan         -nan         -nan         -nan         -nan         -nan         -nan         -nan         -nan          nan          nan          nan          nan          nan          nan          nan          nan          nan          nan          nan\r\n",
      "        -nan         -nan         -nan         -nan         -nan         -nan         -nan         -nan         -nan         -nan         -nan         -nan         -nan         -nan         -nan         -nan         -nan         -nan         -nan         -nan         -nan         -nan         -nan         -nan          nan          nan          nan         -nan          nan          nan          nan         -nan          nan          nan          nan\r\n",
      "        -nan         -nan         -nan         -nan         -nan         -nan         -nan         -nan         -nan         -nan         -nan         -nan         -nan         -nan         -nan         -nan         -nan         -nan         -nan         -nan         -nan         -nan         -nan         -nan          nan          nan          nan         -nan          nan          nan          nan         -nan          nan          nan          nan\r\n",
      "        -nan         -nan         -nan         -nan         -nan         -nan         -nan         -nan         -nan         -nan         -nan         -nan         -nan         -nan         -nan         -nan         -nan         -nan         -nan         -nan         -nan         -nan         -nan         -nan         -nan         -nan         -nan         -nan         -nan         -nan         -nan         -nan         -nan         -nan         -nan\r\n",
      "B\r\n",
      "   0.0935659  1.72734e-15  6.09655e-11  2.33641e-10 -7.09659e-17   -0.0328713  8.98817e-16  3.89796e-16 -6.88151e-16  6.58216e-08   -0.0155052 -4.15863e-16 -8.00042e-06    0.0483139 -2.82408e-16    0.0481173 -1.98719e-11 -2.29721e-11  3.41881e-15 -3.13422e-15 -1.51782e-07   -0.0250466 -5.23673e-11 -1.36922e-10         -nan         -nan         -nan         -nan         -nan         -nan         -nan         -nan         -nan         -nan         -nan\r\n",
      " 1.75308e-15    0.0935659 -2.31376e-15 -3.57082e-15   -0.0328713    -1.38e-16 -6.93485e-10  8.66161e-10  3.29987e-10    0.0155052  6.58216e-08  2.18244e-10    0.0483139  8.00042e-06    0.0481173 -1.71912e-16   4.7458e-14   4.7153e-14  2.78098e-10 -2.81198e-10    0.0250466 -1.51782e-07  1.40103e-14 -1.01423e-10         -nan         -nan         -nan         -nan         -nan         -nan         -nan         -nan         -nan         -nan         -nan\r\n",
      " 6.09655e-11 -2.31374e-15      0.10504  -0.00568231 -5.36157e-15  2.62123e-11  4.94566e-07 -4.94566e-07 -2.68554e-07 -1.79106e-15 -4.11688e-11 -1.22685e-07   6.2809e-15  -2.6251e-11   3.9839e-15 -2.15887e-11    0.0670098   0.00240141 -5.38872e-07  1.12376e-05 -3.14123e-15  9.09166e-11    0.0419176    0.0139901         -nan         -nan         -nan         -nan         -nan         -nan         -nan         -nan         -nan         -nan         -nan\r\n",
      " 2.33641e-10 -3.57084e-15  -0.00568231      0.10504 -3.29885e-15   -2.633e-10  4.94566e-07 -4.94566e-07 -2.68554e-07 -2.21562e-15 -1.08726e-10 -1.22685e-07  7.60799e-15 -3.35763e-11  2.22014e-15  3.84219e-10   0.00240141    0.0670098 -1.12376e-05  5.38872e-07 -5.10609e-15 -8.33993e-11    0.0419176   -0.0139901         -nan         -nan         -nan         -nan         -nan         -nan         -nan         -nan         -nan         -nan         -nan\r\n",
      "-9.00175e-17   -0.0328713 -5.36159e-15 -3.29884e-15     0.240584  2.13602e-15 -1.05286e-09   7.6335e-10  6.49827e-10   -0.0144632 -6.13978e-08  1.73493e-10   0.00916843  1.51823e-06    0.0440553  -2.4287e-15  2.79249e-14  2.58331e-14  1.51136e-10 -1.63432e-10   0.00432456 -2.62067e-08  8.23617e-15 -2.03204e-10         -nan         -nan         -nan         -nan         -nan         -nan         -nan         -nan         -nan         -nan         -nan\r\n",
      "  -0.0328713  -1.5148e-16  2.62123e-11   -2.633e-10  2.08705e-15     0.240584 -7.80237e-16 -1.26249e-15  1.72158e-16 -6.13978e-08    0.0144632  4.96388e-17 -1.51823e-06   0.00916843 -2.38889e-15    0.0440553  2.41341e-11   1.1838e-11 -1.83751e-15  3.96564e-15 -2.62067e-08  -0.00432456  2.19104e-11 -2.85585e-10         -nan         -nan         -nan         -nan         -nan         -nan         -nan         -nan         -nan         -nan         -nan\r\n",
      " 8.98771e-16 -6.93485e-10  4.94566e-07  4.94566e-07 -1.05286e-09  -7.8027e-16     0.221542     -0.11082   -0.0632617 -5.30873e-10 -2.64252e-15   -0.0289004  4.89916e-10  8.03285e-14   9.2688e-10 -4.07473e-17  -5.2521e-06  5.44658e-06    0.0337442    0.0308642 -1.18894e-09  1.95017e-15   -1.594e-06   -0.0087912         -nan         -nan         -nan         -nan         -nan         -nan         -nan         -nan         -nan         -nan         -nan\r\n",
      " 3.89844e-16  8.66161e-10 -4.94566e-07 -4.94566e-07   7.6335e-10 -1.26244e-15     -0.11082     0.221542    0.0632617   5.9843e-10  2.21574e-15    0.0289004 -4.97242e-10 -8.16859e-14 -5.21072e-10   1.8453e-15 -5.44658e-06   5.2521e-06    0.0308642    0.0337442  1.36166e-09 -4.08643e-15    1.594e-06  -0.00879119         -nan         -nan         -nan         -nan         -nan         -nan         -nan         -nan         -nan         -nan         -nan\r\n",
      "-6.88008e-16  3.29987e-10 -2.68554e-07 -2.68554e-07  6.49827e-10  1.72154e-16   -0.0632617    0.0632617     0.428924  4.79328e-10  2.97484e-15    -0.012098 -1.75706e-11 -2.60077e-15 -6.21667e-10  3.90134e-16  4.65359e-09  4.65359e-09  2.74002e-05 -2.74002e-05  4.95217e-10 -9.39346e-16  5.55555e-07  1.13127e-09         -nan         -nan         -nan         -nan         -nan         -nan         -nan         -nan         -nan         -nan         -nan\r\n",
      " 6.58216e-08    0.0155052 -1.79107e-15 -2.21546e-15   -0.0144632 -6.13978e-08 -5.30873e-10   5.9843e-10  4.79328e-10     0.462759 -1.02548e-15 -2.95934e-13  0.000635208  1.07882e-07    0.0104064  4.41763e-08  1.43478e-14  1.52935e-14  8.94172e-11 -8.39332e-11    0.0177344 -1.82755e-07  6.69298e-15 -1.00619e-10         -nan         -nan         -nan         -nan         -nan         -nan         -nan         -nan         -nan         -nan         -nan\r\n",
      "  -0.0155052  6.58216e-08 -4.11688e-11 -1.08726e-10 -6.13978e-08    0.0144632 -2.64256e-15   2.2159e-15   2.9749e-15 -1.09317e-15     0.462759 -3.80646e-16  1.07882e-07 -0.000635208  4.41763e-08   -0.0104064 -3.07984e-11 -3.62824e-11  6.25406e-15 -5.31797e-15  1.82755e-07    0.0177344 -1.14127e-10  1.45807e-10         -nan         -nan         -nan         -nan         -nan         -nan         -nan         -nan         -nan         -nan         -nan\r\n",
      "-4.15868e-16  2.18244e-10 -1.22685e-07 -1.22685e-07  1.73493e-10  4.98182e-17   -0.0289004    0.0289004    -0.012098 -2.95934e-13 -3.80705e-16     0.635437    -3.22e-10 -5.29268e-14  1.32651e-10 -2.45151e-16  3.56711e-06  3.56711e-06     0.021003    -0.021003  1.07108e-10  2.61751e-16  2.47746e-07  2.22851e-10         -nan         -nan         -nan         -nan         -nan         -nan         -nan         -nan         -nan         -nan         -nan\r\n",
      "-8.00042e-06    0.0483139   6.2809e-15  7.60799e-15   0.00916843 -1.51823e-06  4.89916e-10 -4.97242e-10 -1.75706e-11  0.000635208  1.07882e-07    -3.22e-10     0.916802 -4.41588e-14   -0.0222399  3.68277e-06 -8.60098e-14 -8.74377e-14 -3.71311e-10  6.02972e-10   -0.0232165 -3.70379e-06  1.57153e-14   1.4402e-10         -nan         -nan         -nan         -nan         -nan         -nan         -nan         -nan         -nan         -nan         -nan\r\n",
      "   0.0483139  8.00042e-06  -2.6251e-11 -3.35763e-11  1.51823e-06   0.00916843  8.03285e-14 -8.16859e-14 -2.60075e-15  1.07882e-07 -0.000635208 -5.29268e-14 -4.40654e-14     0.916802 -3.68277e-06   -0.0222399 -9.04566e-11  1.41205e-10   -8.269e-14  8.41248e-14 -3.70379e-06    0.0232165  -1.0423e-10  1.96819e-10         -nan         -nan         -nan         -nan         -nan         -nan         -nan         -nan         -nan         -nan         -nan\r\n",
      "-2.57621e-16    0.0481173  3.98401e-15  2.22011e-15    0.0440553 -2.39395e-15   9.2688e-10 -5.21072e-10 -6.21667e-10    0.0104064  4.41763e-08  1.32651e-10   -0.0222399 -3.68277e-06      0.97942  4.35695e-15  1.74451e-14 -3.50418e-14 -2.15076e-10  -1.1263e-10  -0.00417248  2.52851e-08 -6.84082e-15  1.02132e-10         -nan         -nan         -nan         -nan         -nan         -nan         -nan         -nan         -nan         -nan         -nan\r\n",
      "   0.0481173 -1.61963e-16 -2.15887e-11  3.84219e-10 -2.45003e-15    0.0440553 -4.08253e-17  1.84554e-15  3.90148e-16  4.41763e-08   -0.0104064 -2.45144e-16  3.68277e-06   -0.0222399  4.26401e-15      0.97942  1.31024e-10 -1.96682e-10  3.20003e-14  2.05547e-14  2.52851e-08   0.00417248 -4.31217e-10  1.40811e-10         -nan         -nan         -nan         -nan         -nan         -nan         -nan         -nan         -nan         -nan         -nan\r\n",
      "-1.98719e-11   4.7458e-14    0.0670098   0.00240141  2.79249e-14  2.41341e-11  -5.2521e-06 -5.44658e-06  4.65359e-09  1.43479e-14 -3.07984e-11  3.56711e-06 -8.60097e-14 -9.04566e-11  1.74451e-14  1.31024e-10       1.0596   0.00440412  1.37793e-05 -1.37793e-05  1.18778e-13  2.35524e-11    0.0159918   0.00565448         -nan         -nan         -nan         -nan         -nan         -nan         -nan         -nan         -nan         -nan         -nan\r\n",
      "-2.29721e-11   4.7153e-14   0.00240141    0.0670098  2.58331e-14   1.1838e-11  5.44658e-06   5.2521e-06  4.65359e-09  1.52935e-14 -3.62824e-11  3.56711e-06 -8.74378e-14  1.41205e-10 -3.50418e-14 -1.96682e-10   0.00440412       1.0596  1.37793e-05 -1.37793e-05  9.74832e-14  1.64384e-10    0.0159918  -0.00565448         -nan         -nan         -nan         -nan         -nan         -nan         -nan         -nan         -nan         -nan         -nan\r\n",
      " 3.41882e-15  2.78098e-10 -5.38872e-07 -1.12376e-05  1.51136e-10 -1.83751e-15    0.0337442    0.0308642  2.74002e-05  8.94172e-11  6.25407e-15     0.021003 -3.71311e-10   -8.269e-14 -2.15076e-10  3.20003e-14  1.37793e-05  1.37793e-05      1.14073    -0.085536  5.62041e-10 -2.86982e-14 -3.03144e-06  -0.00365184         -nan         -nan         -nan         -nan         -nan         -nan         -nan         -nan         -nan         -nan         -nan\r\n",
      "-3.13421e-15 -2.81198e-10  1.12376e-05  5.38872e-07 -1.63432e-10  3.96564e-15    0.0308642    0.0337442 -2.74002e-05 -8.39332e-11 -5.31796e-15    -0.021003  6.02972e-10  8.41249e-14  -1.1263e-10  2.05546e-14 -1.37793e-05 -1.37793e-05    -0.085536      1.14073 -7.02584e-10  7.31297e-15  3.03144e-06  -0.00365184         -nan         -nan         -nan         -nan         -nan         -nan         -nan         -nan         -nan         -nan         -nan\r\n",
      "-3.46953e-07    0.0572532 -1.54555e-14 -1.85802e-14   0.00341529 -2.06965e-08  -4.1284e-09  4.38905e-09  6.37935e-10    0.0102623  1.05754e-07  1.16523e-10   -0.0185867 -2.96519e-06   -0.0190696  1.15561e-07  2.45877e-14 -6.21957e-15 -5.04658e-11 -1.50414e-10     0.599386   3.2723e-14  1.08785e-13 -1.46078e-09         -nan         -nan         -nan         -nan         -nan         -nan         -nan         -nan         -nan         -nan         -nan\r\n",
      "  -0.0572532 -3.46953e-07  8.19173e-11 -1.79426e-10 -2.06965e-08  -0.00341529  1.43567e-14 -1.75268e-14 -1.89338e-15 -1.05754e-07    0.0102623  8.76415e-17 -2.96519e-06    0.0185867  1.15561e-07    0.0190696 -2.12094e-11  1.78422e-10 -2.80938e-14 -2.58403e-15  3.26064e-14     0.599386  2.61312e-09  1.95961e-09         -nan         -nan         -nan         -nan         -nan         -nan         -nan         -nan         -nan         -nan         -nan\r\n",
      " 6.18673e-11  1.22282e-14    0.0423952    0.0423952  7.71946e-15 -5.25865e-11 -1.46441e-06  1.46441e-06  5.63372e-07  6.74377e-15 -8.87906e-11  2.53873e-07  1.71271e-14 -1.15882e-10 -6.97653e-15 -4.93167e-10     0.016942     0.016942 -3.15494e-06  3.15494e-06  1.57229e-13  2.39357e-09       1.9863 -1.41776e-08         -nan         -nan         -nan         -nan         -nan         -nan         -nan         -nan         -nan         -nan         -nan\r\n",
      "-2.08438e-10 -1.57509e-10    0.0157933   -0.0157933 -1.64722e-10  -2.4135e-10   -0.0099643  -0.00996428  2.58702e-09 -7.99922e-11  1.07309e-10  8.11115e-10  1.70271e-10  2.37016e-10  9.24428e-11  1.27493e-10   0.00680379  -0.00680379  -0.00419061  -0.00419061 -1.55071e-09  2.06688e-09  -1.4363e-08     0.812103         -nan         -nan         -nan         -nan         -nan         -nan         -nan         -nan         -nan         -nan         -nan\r\n",
      "        -nan         -nan         -nan         -nan         -nan         -nan         -nan         -nan         -nan         -nan         -nan         -nan         -nan         -nan         -nan         -nan         -nan         -nan         -nan         -nan         -nan         -nan         -nan         -nan         -nan         -nan         -nan         -nan         -nan         -nan         -nan         -nan         -nan         -nan         -nan\r\n",
      "        -nan         -nan         -nan         -nan         -nan         -nan         -nan         -nan         -nan         -nan         -nan         -nan         -nan         -nan         -nan         -nan         -nan         -nan         -nan         -nan         -nan         -nan         -nan         -nan         -nan         -nan         -nan         -nan         -nan         -nan         -nan         -nan         -nan         -nan         -nan\r\n",
      "        -nan         -nan         -nan         -nan         -nan         -nan         -nan         -nan         -nan         -nan         -nan         -nan         -nan         -nan         -nan         -nan         -nan         -nan         -nan         -nan         -nan         -nan         -nan         -nan         -nan         -nan         -nan         -nan         -nan         -nan         -nan         -nan         -nan         -nan         -nan\r\n",
      "        -nan         -nan         -nan         -nan         -nan         -nan         -nan         -nan         -nan         -nan         -nan         -nan         -nan         -nan         -nan         -nan         -nan         -nan         -nan         -nan         -nan         -nan         -nan         -nan         -nan         -nan         -nan         -nan         -nan         -nan         -nan         -nan         -nan         -nan         -nan\r\n",
      "        -nan         -nan         -nan         -nan         -nan         -nan         -nan         -nan         -nan         -nan         -nan         -nan         -nan         -nan         -nan         -nan         -nan         -nan         -nan         -nan         -nan         -nan         -nan         -nan         -nan         -nan         -nan         -nan         -nan         -nan         -nan         -nan         -nan         -nan         -nan\r\n",
      "        -nan         -nan         -nan         -nan         -nan         -nan         -nan         -nan         -nan         -nan         -nan         -nan         -nan         -nan         -nan         -nan         -nan         -nan         -nan         -nan         -nan         -nan         -nan         -nan         -nan         -nan         -nan         -nan         -nan         -nan         -nan         -nan         -nan         -nan         -nan\r\n",
      "        -nan         -nan         -nan         -nan         -nan         -nan         -nan         -nan         -nan         -nan         -nan         -nan         -nan         -nan         -nan         -nan         -nan         -nan         -nan         -nan         -nan         -nan         -nan         -nan         -nan         -nan         -nan         -nan         -nan         -nan         -nan         -nan         -nan         -nan         -nan\r\n",
      "        -nan         -nan         -nan         -nan         -nan         -nan         -nan         -nan         -nan         -nan         -nan         -nan         -nan         -nan         -nan         -nan         -nan         -nan         -nan         -nan         -nan         -nan         -nan         -nan         -nan         -nan         -nan         -nan         -nan         -nan         -nan         -nan         -nan         -nan         -nan\r\n",
      "        -nan         -nan         -nan         -nan         -nan         -nan         -nan         -nan         -nan         -nan         -nan         -nan         -nan         -nan         -nan         -nan         -nan         -nan         -nan         -nan         -nan         -nan         -nan         -nan         -nan         -nan         -nan         -nan         -nan         -nan         -nan         -nan         -nan         -nan         -nan\r\n",
      "        -nan         -nan         -nan         -nan         -nan         -nan         -nan         -nan         -nan         -nan         -nan         -nan         -nan         -nan         -nan         -nan         -nan         -nan         -nan         -nan         -nan         -nan         -nan         -nan         -nan         -nan         -nan         -nan         -nan         -nan         -nan         -nan         -nan         -nan         -nan\r\n",
      "        -nan         -nan         -nan         -nan         -nan         -nan         -nan         -nan         -nan         -nan         -nan         -nan         -nan         -nan         -nan         -nan         -nan         -nan         -nan         -nan         -nan         -nan         -nan         -nan          nan          nan          nan          nan          nan          nan          nan          nan          nan          nan          nan\r\n",
      "an error occurred:\r\n",
      "Small generalized eigenvalue problem failed.\r\n"
     ]
    }
   ],
   "source": [
    "!xtp_tools -c job_name=CO geometry_optimization.maxiter=1 dftpackage.basisset=3-21G dftpackage.auxbasisset=aux-def2-svp gwbse.gw.mode=G0W0 -e dftgwbse -t 4"
   ]
  },
  {
   "cell_type": "markdown",
   "metadata": {},
   "source": [
    "Notice that we are using 4 threads. The results will be stored in a file named `CO_summary.xml` in the current work directory, together with the optimization step in `optimisation.trj` and the orbitals in [hdf5 format](https://www.hdfgroup.org/solutions/hdf5/) saved on `CO.orb`."
   ]
  }
 ],
 "metadata": {
  "kernelspec": {
   "display_name": "Python 3",
   "language": "python",
   "name": "python3"
  },
  "language_info": {
   "codemirror_mode": {
    "name": "ipython",
    "version": 3
   },
   "file_extension": ".py",
   "mimetype": "text/x-python",
   "name": "python",
   "nbconvert_exporter": "python",
   "pygments_lexer": "ipython3",
   "version": "3.11.0"
  }
 },
 "nbformat": 4,
 "nbformat_minor": 4
}
