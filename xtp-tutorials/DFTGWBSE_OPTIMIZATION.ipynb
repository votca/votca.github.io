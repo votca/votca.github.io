{
 "cells": [
  {
   "cell_type": "markdown",
   "metadata": {},
   "source": [
    "## DFT + GWBSE Optimization Using CO"
   ]
  },
  {
   "cell_type": "markdown",
   "metadata": {},
   "source": [
    "## Introduction\n",
    "This tutorial explains how to perform a molecular geometric optimization using the **GWBSE** method. See [the GW Compendium: A Practical Guide to Theoretical Photoemission Spectroscopy](https://doi.org/10.3389/fchem.2019.00377), for an excellent introduction to the method."
   ]
  },
  {
   "cell_type": "markdown",
   "metadata": {},
   "source": [
    "## Requirements\n",
    "* You will need to install **VOTCA** using the instructions described [here](https://github.com/votca/votca/blob/master/share/doc/INSTALL.rst)\n",
    "* Once the installation is completed you need to activate the VOTCA enviroment by running the `VOTCARC.bash` script that has been installed at the bin subfolder for the path that you have provided for the installation step above"
   ]
  },
  {
   "cell_type": "markdown",
   "metadata": {},
   "source": [
    "## Preparing the input\n",
    "To run a DFT-GWBSE calculation we will use the [xtp_tools](https://www.votca.org/xtp/xtp_tools_overview.html) calculator."
   ]
  },
  {
   "cell_type": "markdown",
   "metadata": {},
   "source": [
    "we can now change the calculator mode from single point energy calculation to optimization as follows by adding \n",
    "`-c geometry_optimization.maxiter=1` which enables optimization with one iteration. "
   ]
  },
  {
   "cell_type": "markdown",
   "metadata": {},
   "source": [
    "Because geometry optimsation is quite expensive numerically we chose a smaller basisset and G0W0 Finally, to run the calculation we just need the following command (This still takes a while)"
   ]
  },
  {
   "cell_type": "code",
   "execution_count": 1,
   "metadata": {
    "execution": {
     "iopub.execute_input": "2022-03-04T06:08:56.054668Z",
     "iopub.status.busy": "2022-03-04T06:08:56.054128Z",
     "iopub.status.idle": "2022-03-04T06:09:09.672908Z",
     "shell.execute_reply": "2022-03-04T06:09:09.673386Z"
    }
   },
   "outputs": [
    {
     "name": "stdout",
     "output_type": "stream",
     "text": [
      "==================================================\r\n",
      "========   VOTCA (http://www.votca.org)   ========\r\n",
      "==================================================\r\n",
      "\r\n",
      "please submit bugs to https://github.com/votca/xtp/issues\r\n",
      "\r\n",
      "xtp_tools, version 2023-dev gitid: c1b60a0 (compiled Mar  4 2022, 06:00:08)\r\n",
      "votca_csg, version 2023-dev gitid: c1b60a0 (compiled Mar  4 2022, 05:44:54)\r\n",
      "votca_tools, version 2023-dev gitid: c1b60a0 (compiled Mar  4 2022, 05:42:04)\r\n",
      "\r\n",
      "Initializing tool\r\n",
      "... dftgwbse Evaluating tool\r\n",
      "... dftgwbse  Using 4 threads\r\n",
      "... ... Reading structure from CO.xyz\r\n",
      "... ... Requested geometry optimization of excited state s1\r\n",
      "... ... Initial state: s1\r\n",
      "... ... WARNING: No tracker is used \r\n",
      "... ... Convergence of total energy: 0.000001 Hartree \r\n",
      "... ... Convergence of RMS Force:    0.000030 Hartree/Bohr \r\n",
      "... ... Convergence of Max Force:    0.000100 Hartree/Bohr \r\n",
      "... ... Convergence of RMS Step:     0.000600 Bohr \r\n",
      "... ... Convergence of Max Step:     0.001000 Bohr \r\n",
      "... ... Initial trust radius:        0.018897 BohrA\r\n",
      "    0.307132 -3.09869e-11  4.45063e-11 -2.30667e-10  2.34836e-11   -0.0516061  8.55677e-10  7.79146e-10  -3.2263e-10    0.0181639  -0.00105564 -7.15453e-11    0.0103556    0.0375746 -2.02543e-11    0.0421019 -2.33107e-10  1.30737e-10 -3.01403e-10  -1.0717e-10  0.000481705    -0.108408   -1.282e-10          nan          nan          nan          nan          nan          nan          nan          nan          nan          nan          nan          nan\r\n",
      "-3.09869e-11     0.307132 -1.47381e-10    7.085e-11   -0.0516061  2.34835e-11  9.00202e-10  1.08636e-09 -1.97392e-10   0.00105564    0.0181639 -2.25156e-10    0.0375746   -0.0103556    0.0421019 -2.02543e-11 -1.93692e-11  2.13603e-10 -9.73503e-11  5.02026e-12    -0.108408 -0.000481705 -1.34179e-11          nan          nan          nan          nan          nan          nan          nan          nan          nan          nan          nan          nan\r\n",
      " 4.45063e-11 -1.47381e-10     0.320625   0.00926931   1.5633e-10  1.03025e-10    0.0133505    0.0133505  -0.00497863 -5.82023e-11 -1.47482e-11  -0.00212105 -8.92341e-11  1.83001e-10 -1.71595e-10 -2.09549e-11    0.0470608  -0.00128691  -0.00258162    -0.015197  1.82126e-10 -3.04647e-10   -0.0254897          nan          nan          nan          nan          nan          nan          nan          nan          nan          nan          nan          nan\r\n",
      "-2.30667e-10    7.085e-11   0.00926931     0.320625 -1.69664e-10  3.23917e-10   -0.0133505   -0.0133505   0.00497863 -5.01139e-11  6.88479e-11   0.00212105  7.28485e-11 -1.44551e-10  6.89664e-11 -1.85823e-10  -0.00128691    0.0470608     0.015197   0.00258162 -1.68657e-10   7.8899e-10    0.0254897          nan          nan          nan          nan          nan          nan          nan          nan          nan          nan          nan          nan\r\n",
      " 2.34836e-11   -0.0516061   1.5633e-10 -1.69664e-10     0.490902  -2.8855e-12  1.80089e-09  1.37394e-09 -8.20741e-10 -0.000781125   -0.0134404 -1.98453e-10   0.00770654  -0.00212394    0.0309987  6.68986e-11 -6.52239e-11 -1.89612e-10 -1.33872e-10 -2.73751e-10    0.0531267  0.000236066  1.67535e-10          nan          nan          nan          nan          nan          nan          nan          nan          nan          nan          nan          nan\r\n",
      "  -0.0516061  2.34836e-11  1.03025e-10  3.23917e-10 -2.88552e-12     0.490902 -2.54454e-10 -2.67789e-10  1.54947e-10   -0.0134404  0.000781125  1.92608e-11   0.00212394   0.00770654  6.68986e-11    0.0309987   1.9101e-10 -5.11311e-11  9.18314e-11 -1.63004e-10 -0.000236066    0.0531267   2.4839e-10          nan          nan          nan          nan          nan          nan          nan          nan          nan          nan          nan          nan\r\n",
      " 8.55677e-10  9.00202e-10    0.0133505   -0.0133505  1.80089e-09 -2.54454e-10     0.549564      0.21967   -0.0856649 -7.13066e-12  6.43986e-10   -0.0364959 -1.85461e-09  2.97822e-09 -9.22354e-10  3.15803e-10   -0.0113397  -0.00127566    0.0127089   -0.0330649  5.13511e-10  -7.4601e-09  -0.00156794          nan          nan          nan          nan          nan          nan          nan          nan          nan          nan          nan          nan\r\n",
      " 7.79146e-10  1.08636e-09    0.0133505   -0.0133505  1.37394e-09 -2.67789e-10      0.21967     0.549564   -0.0856649  4.69691e-11  7.52302e-10   -0.0364959 -1.89306e-09  2.96184e-09 -7.15576e-10  2.13174e-10   0.00127566    0.0113397   -0.0330649    0.0127089  4.29735e-11 -7.44289e-09  -0.00156794          nan          nan          nan          nan          nan          nan          nan          nan          nan          nan          nan          nan\r\n",
      " -3.2263e-10 -1.97392e-10  -0.00497863   0.00497863 -8.20741e-10  1.54947e-10   -0.0856649   -0.0856649     0.662947 -1.74987e-10 -2.31597e-10  -0.00632525  4.08463e-10 -7.41258e-10  5.58334e-10 -1.54209e-10   0.00131499  -0.00131499   0.00387729   0.00387729 -9.20026e-10  2.85824e-09   0.00114183          nan          nan          nan          nan          nan          nan          nan          nan          nan          nan          nan          nan\r\n",
      "   0.0181639   0.00105564 -5.82023e-11 -5.01139e-11 -0.000781125   -0.0134404 -7.13066e-12  4.69691e-11 -1.74987e-10     0.680922  1.58794e-12  8.85914e-11  2.70396e-05  7.97273e-05  0.000501111   0.00862237 -3.65697e-10 -3.65564e-11  6.96077e-11  8.83901e-10  -0.00219838   -0.0409686 -8.96059e-10          nan          nan          nan          nan          nan          nan          nan          nan          nan          nan          nan          nan\r\n",
      " -0.00105564    0.0181639 -1.47482e-11  6.88479e-11   -0.0134404  0.000781125  6.43986e-10  7.52302e-10 -2.31597e-10  1.58794e-12     0.680922 -1.12764e-10  7.97273e-05 -2.70396e-05   0.00862237 -0.000501111 -5.78326e-11  8.72125e-10 -5.51742e-10 -1.49489e-10   -0.0409686   0.00219838 -8.14788e-10          nan          nan          nan          nan          nan          nan          nan          nan          nan          nan          nan          nan\r\n",
      "-7.15453e-11 -2.25156e-10  -0.00212105   0.00212105 -1.98453e-10  1.92608e-11   -0.0364959   -0.0364959  -0.00632525  8.85914e-11 -1.12764e-10      0.79826  3.98547e-10 -4.68202e-10 -1.57867e-11 -4.96622e-11   0.00464903  -0.00464903    0.0137078    0.0137078  8.86271e-11   8.7074e-10  0.000452587          nan          nan          nan          nan          nan          nan          nan          nan          nan          nan          nan          nan\r\n",
      "   0.0103556    0.0375746 -8.92341e-11  7.28485e-11   0.00770654   0.00212394 -1.85461e-09 -1.89306e-09  4.08463e-10  2.70396e-05  7.97273e-05  3.98547e-10     0.956418  4.28196e-11   -0.0126698  -0.00349183  3.03763e-10 -4.15968e-10  1.05099e-09  1.05037e-09    0.0192792   0.00540567   3.0544e-11          nan          nan          nan          nan          nan          nan          nan          nan          nan          nan          nan          nan\r\n",
      "   0.0375746   -0.0103556  1.83001e-10 -1.44551e-10  -0.00212394   0.00770654  2.97822e-09  2.96184e-09 -7.41258e-10  7.97273e-05 -2.70396e-05 -4.68202e-10  4.28196e-11     0.956418   0.00349183   -0.0126698 -5.76256e-10  5.76873e-10 -1.67361e-09 -1.78581e-09  -0.00540567    0.0192792 -7.79075e-12          nan          nan          nan          nan          nan          nan          nan          nan          nan          nan          nan          nan\r\n",
      "-2.02542e-11    0.0421019 -1.71595e-10  6.89664e-11    0.0309987  6.68986e-11 -9.22354e-10 -7.15576e-10  5.58334e-10  0.000501111   0.00862237 -1.57867e-11   -0.0126698   0.00349183     0.988566  3.78089e-11  8.52621e-12 -1.86328e-10   2.2337e-10 -1.97753e-11   -0.0223628 -9.93683e-05   3.6598e-10          nan          nan          nan          nan          nan          nan          nan          nan          nan          nan          nan          nan\r\n",
      "   0.0421019 -2.02543e-11 -2.09549e-11 -1.85823e-10  6.68986e-11    0.0309987  3.15803e-10  2.13174e-10 -1.54209e-10   0.00862237 -0.000501111 -4.96622e-11  -0.00349183   -0.0126698  3.78089e-11     0.988566  1.22109e-10  1.21037e-10 -1.17988e-11   -1.896e-10  9.93683e-05   -0.0223628  4.45799e-10          nan          nan          nan          nan          nan          nan          nan          nan          nan          nan          nan          nan\r\n",
      "-2.33107e-10 -1.93692e-11    0.0470608  -0.00128691 -6.52239e-11   1.9101e-10   -0.0113397   0.00127566   0.00131499 -3.65697e-10 -5.78326e-11   0.00464903  3.03763e-10 -5.76256e-10  8.52621e-12  1.22109e-10      1.03319  -0.00655492    0.0132298    0.0132298 -5.77251e-11  5.05808e-10  -0.00427413          nan          nan          nan          nan          nan          nan          nan          nan          nan          nan          nan          nan\r\n",
      " 1.30737e-10  2.13603e-10  -0.00128691    0.0470608 -1.89612e-10 -5.11311e-11  -0.00127566    0.0113397  -0.00131499 -3.65564e-11  8.72125e-10  -0.00464903 -4.15968e-10  5.76873e-10 -1.86328e-10  1.21037e-10  -0.00655492      1.03319   -0.0132298   -0.0132298  6.23401e-11 -5.84858e-10   0.00427413          nan          nan          nan          nan          nan          nan          nan          nan          nan          nan          nan          nan\r\n",
      "-3.01403e-10 -9.73503e-11  -0.00258162     0.015197 -1.33872e-10  9.18314e-11    0.0127089   -0.0330649   0.00387729  6.96077e-11 -5.51742e-10    0.0137078  1.05099e-09 -1.67361e-09   2.2337e-10 -1.17988e-11    0.0132298   -0.0132298      1.06772    0.0410766 -2.87742e-10  1.40611e-09   0.00204767          nan          nan          nan          nan          nan          nan          nan          nan          nan          nan          nan          nan\r\n",
      " -1.0717e-10  5.02026e-12    -0.015197   0.00258162 -2.73751e-10 -1.63004e-10   -0.0330649    0.0127089   0.00387729  8.83901e-10 -1.49489e-10    0.0137078  1.05037e-09 -1.78581e-09 -1.97753e-11   -1.896e-10    0.0132298   -0.0132298    0.0410766      1.06772 -2.10366e-10  1.41083e-09   0.00204767          nan          nan          nan          nan          nan          nan          nan          nan          nan          nan          nan          nan\r\n",
      "-0.000334355    0.0752465 -2.48519e-10  3.00385e-10   -0.0690159  0.000306669 -1.37707e-09 -1.00906e-09  9.71267e-10   0.00165866    0.0309104 -4.50799e-11  -0.00866903    0.0024307    0.0364086  -0.00016178  1.19805e-10 -1.21076e-10  4.88048e-10  4.85259e-10    -0.194424  2.24182e-10  3.79897e-09          nan          nan          nan          nan          nan          nan          nan          nan          nan          nan          nan          nan\r\n",
      "   0.0752465  0.000334355  1.78106e-10 -5.57585e-10 -0.000306669   -0.0690159     5.06e-09   5.1092e-09 -2.26114e-09    0.0309104  -0.00165866 -7.95698e-10   -0.0024307  -0.00866903   0.00016178    0.0364086 -4.43373e-10  4.48603e-10 -1.20883e-09 -1.21008e-09  2.24182e-10    -0.194424  1.19935e-09          nan          nan          nan          nan          nan          nan          nan          nan          nan          nan          nan          nan\r\n",
      "-3.04844e-10 -4.79427e-10    -0.014184     0.014184  4.10972e-10  1.86454e-10   0.00437911   0.00437911  -0.00132874  -1.1424e-09 -1.07753e-09  -0.00053263  7.69221e-11  1.04298e-10 -4.14766e-11  1.63504e-10  -0.00597824   0.00597824   0.00149847   0.00149847  3.89336e-09  1.35013e-09     0.958359          nan          nan          nan          nan          nan          nan          nan          nan          nan          nan          nan          nan\r\n",
      "        -nan         -nan         -nan         -nan         -nan         -nan         -nan         -nan         -nan         -nan         -nan         -nan         -nan         -nan         -nan         -nan         -nan         -nan         -nan         -nan         -nan         -nan         -nan          nan          nan          nan          nan          nan          nan          nan          nan          nan          nan          nan          nan\r\n",
      "        -nan         -nan         -nan         -nan         -nan         -nan         -nan         -nan         -nan         -nan         -nan         -nan         -nan         -nan         -nan         -nan         -nan         -nan         -nan         -nan         -nan         -nan         -nan         -nan         -nan         -nan         -nan         -nan         -nan         -nan         -nan         -nan         -nan         -nan         -nan\r\n",
      "        -nan         -nan         -nan         -nan         -nan         -nan         -nan         -nan         -nan         -nan         -nan         -nan         -nan         -nan         -nan         -nan         -nan         -nan         -nan         -nan         -nan         -nan         -nan         -nan         -nan         -nan         -nan         -nan         -nan         -nan         -nan         -nan         -nan         -nan         -nan\r\n",
      "        -nan         -nan         -nan         -nan         -nan         -nan         -nan         -nan         -nan         -nan         -nan         -nan         -nan         -nan         -nan         -nan         -nan         -nan         -nan         -nan         -nan         -nan         -nan          nan          nan          nan          nan          nan          nan          nan          nan          nan          nan          nan          nan\r\n",
      "        -nan         -nan         -nan         -nan         -nan         -nan         -nan         -nan         -nan         -nan         -nan         -nan         -nan         -nan         -nan         -nan         -nan         -nan         -nan         -nan         -nan         -nan         -nan          nan          nan          nan          nan          nan          nan          nan          nan          nan          nan          nan          nan\r\n",
      "        -nan         -nan         -nan         -nan         -nan         -nan         -nan         -nan         -nan         -nan         -nan         -nan         -nan         -nan         -nan         -nan         -nan         -nan         -nan         -nan         -nan         -nan         -nan         -nan         -nan         -nan         -nan         -nan         -nan         -nan         -nan         -nan         -nan         -nan         -nan\r\n",
      "        -nan         -nan         -nan         -nan         -nan         -nan         -nan         -nan         -nan         -nan         -nan         -nan         -nan         -nan         -nan         -nan         -nan         -nan         -nan         -nan         -nan         -nan         -nan         -nan         -nan         -nan         -nan         -nan         -nan         -nan         -nan         -nan         -nan         -nan         -nan\r\n",
      "        -nan         -nan         -nan         -nan         -nan         -nan         -nan         -nan         -nan         -nan         -nan         -nan         -nan         -nan         -nan         -nan         -nan         -nan         -nan         -nan         -nan         -nan         -nan          nan          nan          nan          nan          nan          nan          nan          nan          nan          nan          nan          nan\r\n",
      "        -nan         -nan         -nan         -nan         -nan         -nan         -nan         -nan         -nan         -nan         -nan         -nan         -nan         -nan         -nan         -nan         -nan         -nan         -nan         -nan         -nan         -nan         -nan          nan          nan          nan          nan          nan          nan          nan          nan          nan          nan          nan          nan\r\n",
      "        -nan         -nan         -nan         -nan         -nan         -nan         -nan         -nan         -nan         -nan         -nan         -nan         -nan         -nan         -nan         -nan         -nan         -nan         -nan         -nan         -nan         -nan         -nan         -nan          nan          nan          nan         -nan          nan          nan          nan         -nan          nan          nan          nan\r\n",
      "        -nan         -nan         -nan         -nan         -nan         -nan         -nan         -nan         -nan         -nan         -nan         -nan         -nan         -nan         -nan         -nan         -nan         -nan         -nan         -nan         -nan         -nan         -nan         -nan          nan          nan          nan         -nan          nan          nan          nan         -nan          nan          nan          nan\r\n",
      "        -nan         -nan         -nan         -nan         -nan         -nan         -nan         -nan         -nan         -nan         -nan         -nan         -nan         -nan         -nan         -nan         -nan         -nan         -nan         -nan         -nan         -nan         -nan         -nan         -nan         -nan         -nan         -nan         -nan         -nan         -nan         -nan         -nan         -nan         -nan\r\n",
      "B\r\n",
      "    0.093811 -1.37737e-11  1.67639e-11 -1.31177e-10  1.44425e-11   -0.0328898  3.54564e-10  2.99679e-10 -1.98334e-10     0.015531 -0.000902623 -3.66642e-11    0.0128407    0.0465916 -2.35327e-11    0.0481429 -2.87518e-10  1.38676e-10 -3.10673e-10 -3.81072e-11  0.000111565   -0.0251078 -4.01154e-10         -nan         -nan         -nan         -nan         -nan         -nan         -nan         -nan         -nan         -nan         -nan         -nan\r\n",
      "-1.37737e-11     0.093811 -9.50898e-11  4.02048e-11   -0.0328898  1.44425e-11  3.69104e-10  4.83517e-10 -1.23086e-10  0.000902623     0.015531  -1.6676e-10    0.0465916   -0.0128407    0.0481429 -2.35328e-11 -1.28255e-11  2.85391e-10 -7.56049e-11  7.32376e-11   -0.0251078 -0.000111565 -5.11021e-10         -nan         -nan         -nan         -nan         -nan         -nan         -nan         -nan         -nan         -nan         -nan         -nan\r\n",
      " 1.67639e-11 -9.50898e-11     0.105881   0.00530112  1.02627e-10  7.15319e-11   0.00676333   0.00676333   -0.0036611 -5.18469e-11 -2.03192e-11  -0.00166308 -9.63918e-11  2.02993e-10 -2.10566e-10 -2.54898e-11    0.0640661  -0.00170405  -0.00247719   -0.0196643 -6.23602e-11 -1.11243e-11   -0.0418855         -nan         -nan         -nan         -nan         -nan         -nan         -nan         -nan         -nan         -nan         -nan         -nan\r\n",
      "-1.31177e-10  4.02048e-11   0.00530112     0.105881 -1.09718e-10  2.29063e-10  -0.00676333  -0.00676333    0.0036611 -5.46522e-11  7.12202e-11   0.00166308  7.31489e-11 -1.52719e-10  7.34694e-11 -2.18423e-10  -0.00170405    0.0640661    0.0196643   0.00247719  1.33427e-10  1.11377e-10    0.0418855         -nan         -nan         -nan         -nan         -nan         -nan         -nan         -nan         -nan         -nan         -nan         -nan\r\n",
      " 1.44425e-11   -0.0328898  1.02627e-10 -1.09718e-10     0.240891 -6.89744e-13  1.10446e-09  8.03869e-10 -6.98473e-10 -0.000839431   -0.0144437 -1.60499e-10   0.00881478  -0.00242937    0.0441772  9.29936e-11 -5.66548e-11 -3.34173e-10 -5.74921e-11 -2.87338e-10  -0.00438142 -1.94686e-05  5.20768e-10         -nan         -nan         -nan         -nan         -nan         -nan         -nan         -nan         -nan         -nan         -nan         -nan\r\n",
      "  -0.0328898  1.44425e-11  7.15319e-11  2.29063e-10 -6.89761e-13     0.240891 -1.39689e-10  -1.4678e-10  1.24229e-10   -0.0144437  0.000839431  9.88979e-12   0.00242937   0.00881478  9.29937e-11    0.0441772  2.79862e-10 -5.00153e-11  1.11408e-10  -2.7942e-10  1.94686e-05  -0.00438142   4.3197e-10         -nan         -nan         -nan         -nan         -nan         -nan         -nan         -nan         -nan         -nan         -nan         -nan\r\n",
      " 3.54564e-10  3.69104e-10   0.00676333  -0.00676333  1.10446e-09 -1.39689e-10     0.221861     0.110679   -0.0629948 -1.32785e-12  4.62562e-10   -0.0286158 -1.92765e-09  3.22413e-09 -1.03146e-09  3.28798e-10   -0.0100726   -0.0071145    0.0330987   -0.0292634 -8.01263e-10 -3.84428e-10   0.00292982         -nan         -nan         -nan         -nan         -nan         -nan         -nan         -nan         -nan         -nan         -nan         -nan\r\n",
      " 2.99679e-10  4.83517e-10   0.00676333  -0.00676333  8.03869e-10  -1.4678e-10     0.110679     0.221861   -0.0629948  4.95731e-11  5.69061e-10   -0.0286158 -1.97792e-09  3.20089e-09 -7.87547e-10  1.91701e-10    0.0071145    0.0100726   -0.0292634    0.0330987 -8.98705e-10 -3.12382e-10   0.00292982         -nan         -nan         -nan         -nan         -nan         -nan         -nan         -nan         -nan         -nan         -nan         -nan\r\n",
      "-1.98334e-10 -1.23086e-10   -0.0036611    0.0036611 -6.98473e-10  1.24229e-10   -0.0629948   -0.0629948     0.429278 -2.25285e-10 -2.34116e-10   -0.0121538   4.5648e-10 -9.09085e-10  7.69116e-10 -2.08908e-10  -6.1995e-06  6.19952e-06 -1.82795e-05 -1.82794e-05 -7.45642e-11  5.84272e-10  5.87017e-05         -nan         -nan         -nan         -nan         -nan         -nan         -nan         -nan         -nan         -nan         -nan         -nan\r\n",
      "    0.015531  0.000902623 -5.18469e-11 -5.46522e-11 -0.000839431   -0.0144437 -1.32785e-12  4.95731e-11 -2.25285e-10     0.463967  2.12072e-12  1.17679e-10  0.000207739  0.000612525  0.000601981     0.010358 -6.16168e-10 -6.25665e-11  1.11963e-10  1.49061e-09 -0.000950289   -0.0177094 -1.86775e-09         -nan         -nan         -nan         -nan         -nan         -nan         -nan         -nan         -nan         -nan         -nan         -nan\r\n",
      "-0.000902623     0.015531 -2.03192e-11  7.12202e-11   -0.0144437  0.000839431  4.62562e-10  5.69061e-10 -2.34116e-10  2.12071e-12     0.463967 -1.09256e-10  0.000612525 -0.000207739     0.010358 -0.000601981  -7.6797e-11  1.45544e-09 -8.66995e-10 -1.88261e-10   -0.0177094  0.000950289 -1.77773e-09         -nan         -nan         -nan         -nan         -nan         -nan         -nan         -nan         -nan         -nan         -nan         -nan\r\n",
      "-3.66642e-11  -1.6676e-10  -0.00166308   0.00166308 -1.60499e-10  9.88979e-12   -0.0286158   -0.0286158   -0.0121538  1.17679e-10 -1.09256e-10     0.636067   5.4769e-10 -6.15261e-10 -6.46653e-11 -6.62032e-11   0.00672191  -0.00672191    0.0198198    0.0198198  1.03284e-10 -8.58702e-12  4.55364e-05         -nan         -nan         -nan         -nan         -nan         -nan         -nan         -nan         -nan         -nan         -nan         -nan\r\n",
      "   0.0128407    0.0465916 -9.63918e-11  7.31489e-11   0.00881478   0.00242937 -1.92765e-09 -1.97792e-09   4.5648e-10  0.000207739  0.000612525   5.4769e-10     0.917068  7.50669e-11   -0.0214902  -0.00592273  5.28411e-10 -7.58234e-10   1.8597e-09  1.85516e-09    0.0223829   0.00627592  1.65253e-10         -nan         -nan         -nan         -nan         -nan         -nan         -nan         -nan         -nan         -nan         -nan         -nan\r\n",
      "   0.0465916   -0.0128407  2.02993e-10 -1.52719e-10  -0.00242937   0.00881478  3.22413e-09  3.20089e-09 -9.09085e-10  0.000612525 -0.000207739 -6.15261e-10   7.5067e-11     0.917068   0.00592273   -0.0214902 -1.02315e-09  1.02768e-09 -2.98452e-09 -3.21434e-09  -0.00627592    0.0223829  1.26414e-10         -nan         -nan         -nan         -nan         -nan         -nan         -nan         -nan         -nan         -nan         -nan         -nan\r\n",
      "-2.35327e-11    0.0481429 -2.10566e-10  7.34694e-11    0.0441772  9.29937e-11 -1.03146e-09 -7.87547e-10  7.69116e-10  0.000601981     0.010358 -6.46653e-11   -0.0214902   0.00592273     0.981535  7.28796e-11 -3.51204e-12 -3.05968e-10  3.62876e-10   -7.512e-11   0.00424838  1.88775e-05  3.17043e-10         -nan         -nan         -nan         -nan         -nan         -nan         -nan         -nan         -nan         -nan         -nan         -nan\r\n",
      "   0.0481429 -2.35328e-11 -2.54898e-11 -2.18423e-10  9.29936e-11    0.0441772  3.28798e-10  1.91701e-10 -2.08908e-10     0.010358 -0.000601981 -6.62032e-11  -0.00592273   -0.0214902  7.28796e-11     0.981535  2.22882e-10  2.15114e-10 -7.20783e-12 -3.16688e-10 -1.88775e-05   0.00424838  6.75845e-10         -nan         -nan         -nan         -nan         -nan         -nan         -nan         -nan         -nan         -nan         -nan         -nan\r\n",
      "-2.87518e-10 -1.28255e-11    0.0640661  -0.00170405 -5.66548e-11  2.79862e-10   -0.0100726    0.0071145  -6.1995e-06 -6.16168e-10  -7.6797e-11   0.00672191  5.28411e-10 -1.02315e-09 -3.51204e-12  2.22882e-10      1.06906   -0.0127887    0.0247219    0.0247219  4.19531e-11  2.29614e-10   -0.0150525         -nan         -nan         -nan         -nan         -nan         -nan         -nan         -nan         -nan         -nan         -nan         -nan\r\n",
      " 1.38676e-10  2.85391e-10  -0.00170405    0.0640661 -3.34173e-10 -5.00153e-11   -0.0071145    0.0100726  6.19952e-06 -6.25665e-11  1.45544e-09  -0.00672191 -7.58234e-10  1.02768e-09 -3.05968e-10  2.15114e-10   -0.0127887      1.06906   -0.0247219   -0.0247219 -1.38865e-10 -2.90731e-10    0.0150525         -nan         -nan         -nan         -nan         -nan         -nan         -nan         -nan         -nan         -nan         -nan         -nan\r\n",
      "-3.10673e-10 -7.56049e-11  -0.00247719    0.0196643 -5.74921e-11  1.11408e-10    0.0330987   -0.0292634 -1.82795e-05  1.11963e-10 -8.66995e-10    0.0198198   1.8597e-09 -2.98452e-09  3.62876e-10 -7.20783e-12    0.0247219   -0.0247219      1.13356    0.0772976  1.18974e-10  4.33682e-10   0.00544831         -nan         -nan         -nan         -nan         -nan         -nan         -nan         -nan         -nan         -nan         -nan         -nan\r\n",
      "-3.81072e-11  7.32376e-11   -0.0196643   0.00247719 -2.87338e-10  -2.7942e-10   -0.0292634    0.0330987 -1.82794e-05  1.49061e-09 -1.88261e-10    0.0198198  1.85516e-09 -3.21434e-09   -7.512e-11 -3.16688e-10    0.0247219   -0.0247219    0.0772976      1.13356  1.80307e-10   3.3704e-10   0.00544831         -nan         -nan         -nan         -nan         -nan         -nan         -nan         -nan         -nan         -nan         -nan         -nan\r\n",
      " 0.000254862   -0.0573567   6.4848e-13  4.59961e-11  -0.00347861   1.5457e-05 -3.27915e-10 -5.32526e-10 -4.02158e-12 -0.000546843   -0.0101908 -2.33234e-11    0.0179489  -0.00503266    0.0191591 -8.51328e-05 -6.32171e-14  9.07846e-11  5.04977e-11  2.62756e-10     0.600541  2.24708e-10  2.81254e-09         -nan         -nan         -nan         -nan         -nan         -nan         -nan         -nan         -nan         -nan         -nan         -nan\r\n",
      "  -0.0573567 -0.000254862 -1.63859e-10  3.70692e-10 -1.54571e-05  -0.00347861 -3.85771e-09 -3.80973e-09  6.45026e-10   -0.0101908  0.000546843  1.38946e-10   0.00503266    0.0179489  8.51328e-05    0.0191591 -1.49294e-10  -6.0896e-11 -1.42146e-10 -5.13216e-11  2.24708e-10     0.600541  7.09105e-11         -nan         -nan         -nan         -nan         -nan         -nan         -nan         -nan         -nan         -nan         -nan         -nan\r\n",
      "-3.28217e-10 -3.21243e-10   -0.0423663    0.0423663  6.07588e-10  5.83245e-10   0.00289915   0.00289915 -0.000442633 -1.66946e-09 -1.60314e-09  -0.00021666  1.09833e-10  1.72883e-10  4.07538e-10  8.27904e-10   -0.0160942    0.0160942     0.005331     0.005331  3.14879e-09  5.25849e-10       1.9849         -nan         -nan         -nan         -nan         -nan         -nan         -nan         -nan         -nan         -nan         -nan         -nan\r\n",
      "        -nan         -nan         -nan         -nan         -nan         -nan         -nan         -nan         -nan         -nan         -nan         -nan         -nan         -nan         -nan         -nan         -nan         -nan         -nan         -nan         -nan         -nan         -nan         -nan         -nan         -nan         -nan         -nan         -nan         -nan         -nan         -nan         -nan         -nan         -nan\r\n",
      "        -nan         -nan         -nan         -nan         -nan         -nan         -nan         -nan         -nan         -nan         -nan         -nan         -nan         -nan         -nan         -nan         -nan         -nan         -nan         -nan         -nan         -nan         -nan         -nan         -nan         -nan         -nan         -nan         -nan         -nan         -nan         -nan         -nan         -nan         -nan\r\n",
      "        -nan         -nan         -nan         -nan         -nan         -nan         -nan         -nan         -nan         -nan         -nan         -nan         -nan         -nan         -nan         -nan         -nan         -nan         -nan         -nan         -nan         -nan         -nan         -nan         -nan         -nan         -nan         -nan         -nan         -nan         -nan         -nan         -nan         -nan         -nan\r\n",
      "        -nan         -nan         -nan         -nan         -nan         -nan         -nan         -nan         -nan         -nan         -nan         -nan         -nan         -nan         -nan         -nan         -nan         -nan         -nan         -nan         -nan         -nan         -nan         -nan         -nan         -nan         -nan         -nan         -nan         -nan         -nan         -nan         -nan         -nan         -nan\r\n",
      "        -nan         -nan         -nan         -nan         -nan         -nan         -nan         -nan         -nan         -nan         -nan         -nan         -nan         -nan         -nan         -nan         -nan         -nan         -nan         -nan         -nan         -nan         -nan         -nan         -nan         -nan         -nan         -nan         -nan         -nan         -nan         -nan         -nan         -nan         -nan\r\n",
      "        -nan         -nan         -nan         -nan         -nan         -nan         -nan         -nan         -nan         -nan         -nan         -nan         -nan         -nan         -nan         -nan         -nan         -nan         -nan         -nan         -nan         -nan         -nan         -nan         -nan         -nan         -nan         -nan         -nan         -nan         -nan         -nan         -nan         -nan         -nan\r\n",
      "        -nan         -nan         -nan         -nan         -nan         -nan         -nan         -nan         -nan         -nan         -nan         -nan         -nan         -nan         -nan         -nan         -nan         -nan         -nan         -nan         -nan         -nan         -nan         -nan         -nan         -nan         -nan         -nan         -nan         -nan         -nan         -nan         -nan         -nan         -nan\r\n",
      "        -nan         -nan         -nan         -nan         -nan         -nan         -nan         -nan         -nan         -nan         -nan         -nan         -nan         -nan         -nan         -nan         -nan         -nan         -nan         -nan         -nan         -nan         -nan         -nan         -nan         -nan         -nan         -nan         -nan         -nan         -nan         -nan         -nan         -nan         -nan\r\n",
      "        -nan         -nan         -nan         -nan         -nan         -nan         -nan         -nan         -nan         -nan         -nan         -nan         -nan         -nan         -nan         -nan         -nan         -nan         -nan         -nan         -nan         -nan         -nan         -nan         -nan         -nan         -nan         -nan         -nan         -nan         -nan         -nan         -nan         -nan         -nan\r\n",
      "        -nan         -nan         -nan         -nan         -nan         -nan         -nan         -nan         -nan         -nan         -nan         -nan         -nan         -nan         -nan         -nan         -nan         -nan         -nan         -nan         -nan         -nan         -nan         -nan         -nan         -nan         -nan         -nan         -nan         -nan         -nan         -nan         -nan         -nan         -nan\r\n",
      "        -nan         -nan         -nan         -nan         -nan         -nan         -nan         -nan         -nan         -nan         -nan         -nan         -nan         -nan         -nan         -nan         -nan         -nan         -nan         -nan         -nan         -nan         -nan         -nan         -nan         -nan         -nan         -nan         -nan         -nan         -nan         -nan         -nan         -nan         -nan\r\n",
      "        -nan         -nan         -nan         -nan         -nan         -nan         -nan         -nan         -nan         -nan         -nan         -nan         -nan         -nan         -nan         -nan         -nan         -nan         -nan         -nan         -nan         -nan         -nan          nan          nan          nan          nan          nan          nan          nan          nan          nan          nan          nan          nan\r\n",
      "an error occurred:\r\n",
      "Small generalized eigenvalue problem failed.\r\n"
     ]
    }
   ],
   "source": [
    "!xtp_tools -c job_name=CO geometry_optimization.maxiter=1 dftpackage.basisset=3-21G dftpackage.auxbasisset=aux-def2-svp gwbse.gw.mode=G0W0 -e dftgwbse -t 4"
   ]
  },
  {
   "cell_type": "markdown",
   "metadata": {},
   "source": [
    "Notice that we are using 4 threads. The results will be stored in a file named `CO_summary.xml` in the current work directory, together with the optimization step in `optimisation.trj` and the orbitals in [hdf5 format](https://www.hdfgroup.org/solutions/hdf5/) saved on `CO.orb`."
   ]
  }
 ],
 "metadata": {
  "kernelspec": {
   "display_name": "Python 3",
   "language": "python",
   "name": "python3"
  },
  "language_info": {
   "codemirror_mode": {
    "name": "ipython",
    "version": 3
   },
   "file_extension": ".py",
   "mimetype": "text/x-python",
   "name": "python",
   "nbconvert_exporter": "python",
   "pygments_lexer": "ipython3",
   "version": "3.10.2"
  }
 },
 "nbformat": 4,
 "nbformat_minor": 4
}
