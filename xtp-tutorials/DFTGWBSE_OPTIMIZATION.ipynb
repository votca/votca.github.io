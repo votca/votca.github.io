{
 "cells": [
  {
   "cell_type": "markdown",
   "metadata": {},
   "source": [
    "## DFT + GWBSE Optimization Using CO"
   ]
  },
  {
   "cell_type": "markdown",
   "metadata": {},
   "source": [
    "## Introduction\n",
    "This tutorial explains how to perform a molecular geometric optimization using the **GWBSE** method. See [the GW Compendium: A Practical Guide to Theoretical Photoemission Spectroscopy](https://doi.org/10.3389/fchem.2019.00377), for an excellent introduction to the method."
   ]
  },
  {
   "cell_type": "markdown",
   "metadata": {},
   "source": [
    "## Requirements\n",
    "* You will need to install **VOTCA** using the instructions described [here](https://github.com/votca/votca/blob/master/share/doc/INSTALL.rst)\n",
    "* Once the installation is completed you need to activate the VOTCA enviroment by running the `VOTCARC.bash` script that has been installed at the bin subfolder for the path that you have provided for the installation step above"
   ]
  },
  {
   "cell_type": "markdown",
   "metadata": {},
   "source": [
    "## Preparing the input\n",
    "To run a DFT-GWBSE calculation we will use the [xtp_tools](https://www.votca.org/xtp/xtp_tools_overview.html) calculator."
   ]
  },
  {
   "cell_type": "markdown",
   "metadata": {},
   "source": [
    "we can now change the calculator mode from single point energy calculation to optimization as follows by adding \n",
    "`-c geometry_optimization.maxiter=1` which enables optimization with one iteration. "
   ]
  },
  {
   "cell_type": "markdown",
   "metadata": {},
   "source": [
    "Because geometry optimsation is quite expensive numerically we chose a smaller basisset and G0W0 Finally, to run the calculation we just need the following command (This still takes a while)"
   ]
  },
  {
   "cell_type": "code",
   "execution_count": 1,
   "metadata": {
    "execution": {
     "iopub.execute_input": "2022-05-13T06:34:38.005177Z",
     "iopub.status.busy": "2022-05-13T06:34:38.004561Z",
     "iopub.status.idle": "2022-05-13T06:35:18.884356Z",
     "shell.execute_reply": "2022-05-13T06:35:18.884830Z"
    }
   },
   "outputs": [
    {
     "name": "stdout",
     "output_type": "stream",
     "text": [
      "==================================================\r\n",
      "========   VOTCA (http://www.votca.org)   ========\r\n",
      "==================================================\r\n",
      "\r\n",
      "please submit bugs to https://github.com/votca/xtp/issues\r\n",
      "\r\n",
      "xtp_tools, version 2023-dev gitid: 3bb0876 (compiled May 13 2022, 06:25:37)\r\n",
      "votca_csg, version 2023-dev gitid: 3bb0876 (compiled May 13 2022, 06:10:44)\r\n",
      "votca_tools, version 2023-dev gitid: 3bb0876 (compiled May 13 2022, 06:08:08)\r\n",
      "\r\n",
      "Initializing tool\r\n",
      "... dftgwbse Evaluating tool\r\n",
      "... dftgwbse  Using 4 threads\r\n",
      "... ... Reading structure from CO.xyz\r\n",
      "... ... Requested geometry optimization of excited state s1\r\n",
      "... ... Initial state: s1\r\n",
      "... ... WARNING: No tracker is used \r\n",
      "... ... Convergence of total energy: 0.000001 Hartree \r\n",
      "... ... Convergence of RMS Force:    0.000030 Hartree/Bohr \r\n",
      "... ... Convergence of Max Force:    0.000100 Hartree/Bohr \r\n",
      "... ... Convergence of RMS Step:     0.000600 Bohr \r\n",
      "... ... Convergence of Max Step:     0.001000 Bohr \r\n",
      "... ... Initial trust radius:        0.018897 Bohr\r\n",
      "... ... \r\n",
      "... ... =========== OPTIMIZATION SUMMARY ================================= \r\n",
      "... ... At iteration  0\r\n",
      "... ...  ---- POSITIONS (Angstrom)   \r\n",
      "... ...  Atom\t x\t  y\t  z \r\n",
      "... ...    0    +0.0000  +0.0000  +0.0000\r\n",
      "... ...    1    +1.2000  +0.0000  +0.0000\r\n",
      "... ...    Total energy:     -112.26831841 Hartree \r\n",
      "... ...    Trust radius:       0.01889726 Bohr     \r\n",
      "... ...  ---- FORCES (Hartree/Bohr)   \r\n",
      "... ...       central differences   \r\n",
      "... ...       displacement 0.0010 Angstrom   \r\n",
      "... ...  Atom\t x\t  y\t  z \r\n",
      "... ...    0    -0.1314  -0.0000  -0.0000\r\n",
      "... ...    1    +0.1314  +0.0000  +0.0000A\r\n",
      "    0.301149 -5.68554e-14  5.03058e-13  2.46174e-12 -3.99923e-14    0.0519724  2.28334e-13 -2.23748e-13 -6.62006e-14   -0.0176328 -0.000322311  3.88637e-14   0.00108949    0.0390136  -3.1476e-14    0.0423984  2.12093e-13  1.60172e-13  3.84434e-14    2.881e-14  0.000470545    -0.107097  1.01322e-12          nan          nan          nan          nan          nan          nan          nan          nan          nan          nan          nan          nan\r\n",
      "-5.68624e-14     0.301149  2.09358e-13  2.04756e-13    0.0519724 -4.01027e-14 -8.66632e-12   1.0625e-11  3.19886e-12 -0.000322311    0.0176328 -1.88969e-12   -0.0390136   0.00108949    0.0423984 -3.14349e-14 -1.04875e-14  2.00739e-14 -1.83511e-12 -1.46285e-12     0.107097  0.000470545  3.55959e-14          nan          nan          nan          nan          nan          nan          nan          nan          nan          nan          nan          nan\r\n",
      " 5.03058e-13  2.09358e-13     0.310227   -0.0100068 -8.97919e-14 -3.29166e-13  -0.00423189   0.00423189   0.00166325  1.84164e-14  7.89932e-14 -0.000749751  1.04604e-13 -8.58599e-14 -1.37843e-14  2.29004e-14   -0.0492019   0.00195612 -0.000600794  0.000718585  6.83581e-13  8.35338e-14    0.0247881          nan          nan          nan          nan          nan          nan          nan          nan          nan          nan          nan          nan\r\n",
      " 2.46174e-12  2.04756e-13   -0.0100068     0.310227 -9.56667e-14  2.24025e-12  -0.00423189   0.00423189   0.00166325   -7.453e-13  6.32222e-14 -0.000749751  1.01638e-13 -1.80452e-13 -1.92831e-14  2.39169e-12  -0.00195612    0.0492019  0.000718585 -0.000600794  6.91025e-13  -3.4698e-12    0.0247881          nan          nan          nan          nan          nan          nan          nan          nan          nan          nan          nan          nan\r\n",
      "-3.99936e-14    0.0519724 -8.97919e-14 -9.56667e-14     0.486835 -1.12197e-14  7.43522e-12 -4.86586e-12 -3.33198e-12 -0.000249189    0.0136325   1.0805e-12   0.00830282 -0.000231863   -0.0301449 -1.15455e-13  1.10198e-14 -2.56641e-15  2.83972e-13  6.10949e-13    0.0549934  0.000241621 -4.11507e-14          nan          nan          nan          nan          nan          nan          nan          nan          nan          nan          nan          nan\r\n",
      "   0.0519724 -4.01078e-14 -3.29166e-13  2.24025e-12 -1.12035e-14     0.486835 -1.05727e-13   1.1153e-13  6.81777e-14   -0.0136325 -0.000249189 -2.22721e-14 -0.000231863  -0.00830282 -1.15614e-13   -0.0301449  2.81892e-13   4.5013e-14 -6.19181e-15 -1.46298e-14  0.000241621   -0.0549934  2.15866e-14          nan          nan          nan          nan          nan          nan          nan          nan          nan          nan          nan          nan\r\n",
      " 2.28334e-13 -8.66632e-12  -0.00423189  -0.00423189  7.43522e-12 -1.05727e-13     0.541665    -0.221432   -0.0909924 -2.30825e-14 -3.46102e-12     0.041017  -5.6457e-12  3.78964e-14  3.44932e-12 -2.13963e-14   0.00029118    0.0010282   -0.0133489    0.0338969 -3.34114e-11 -8.86917e-13 -0.000603077          nan          nan          nan          nan          nan          nan          nan          nan          nan          nan          nan          nan\r\n",
      "-2.23748e-13   1.0625e-11   0.00423189   0.00423189 -4.86586e-12   1.1153e-13    -0.221432     0.541665    0.0909924  7.33489e-15  4.22471e-12    -0.041017   5.7403e-12 -4.08369e-14 -1.08056e-12  2.68773e-14    0.0010282   0.00029118   -0.0338969    0.0133489  3.68798e-11  8.94171e-13  0.000603077          nan          nan          nan          nan          nan          nan          nan          nan          nan          nan          nan          nan\r\n",
      "-6.62007e-14  3.19886e-12   0.00166325   0.00166325 -3.33198e-12  6.81777e-14   -0.0909924    0.0909924     0.659928  5.57464e-15  2.41021e-12   0.00518522  2.96467e-13 -2.21173e-15 -1.34732e-12  2.75019e-14 -4.60003e-05  4.60003e-05  -0.00477089  -0.00477089  9.74653e-12  2.36415e-13  0.000419076          nan          nan          nan          nan          nan          nan          nan          nan          nan          nan          nan          nan\r\n",
      "  -0.0176328 -0.000322311  1.84165e-14   -7.453e-13 -0.000249189   -0.0136325 -2.30824e-14   7.3348e-15  5.57464e-15     0.668107 -1.75982e-15 -1.19721e-16  1.63051e-07  1.69107e-05 -0.000165582  -0.00905859 -1.65106e-12 -2.24648e-13 -3.55728e-15  1.00728e-14 -0.000929043     0.040973 -3.14778e-12          nan          nan          nan          nan          nan          nan          nan          nan          nan          nan          nan          nan\r\n",
      "-0.000322311    0.0176328  7.89933e-14  6.32221e-14    0.0136325 -0.000249189 -3.46102e-12  4.22471e-12  2.41021e-12 -1.96265e-15     0.668107 -8.45418e-14  1.69107e-05 -1.63051e-07   0.00905859 -0.000165582 -6.46702e-15  2.00814e-14 -2.49731e-12 -6.21587e-13     0.040973  0.000929043  1.36043e-14          nan          nan          nan          nan          nan          nan          nan          nan          nan          nan          nan          nan\r\n",
      " 3.88637e-14 -1.88969e-12 -0.000749751 -0.000749751   1.0805e-12 -2.22722e-14     0.041017    -0.041017   0.00518522 -1.19716e-16 -8.45418e-14     0.793012 -1.50184e-12  1.10822e-14 -2.67657e-13  5.54587e-15  0.000147554 -0.000147554    0.0153035    0.0153035 -5.53382e-12 -1.34862e-13 -0.000175718          nan          nan          nan          nan          nan          nan          nan          nan          nan          nan          nan          nan\r\n",
      "  0.00108949   -0.0390136  1.04604e-13  1.01638e-13   0.00830282 -0.000231863  -5.6457e-12   5.7403e-12  2.96467e-13  1.63051e-07  1.69107e-05 -1.50184e-12     0.954263  4.69584e-15    0.0128701 -0.000359408 -2.29775e-14  2.45362e-14 -2.16165e-12 -2.83875e-12    0.0198859  0.000642782  1.76786e-14          nan          nan          nan          nan          nan          nan          nan          nan          nan          nan          nan          nan\r\n",
      "   0.0390136   0.00108949 -8.58599e-14 -1.80452e-13 -0.000231863  -0.00830282  3.78964e-14 -4.08369e-14 -2.21175e-15  1.69107e-05 -1.63051e-07  1.10822e-14  4.67474e-15     0.954263 -0.000359408   -0.0128701  3.80493e-13  2.96591e-13   1.7058e-14  1.86226e-14 -0.000642782    0.0198859 -3.10268e-13          nan          nan          nan          nan          nan          nan          nan          nan          nan          nan          nan          nan\r\n",
      "-3.14722e-14    0.0423984 -1.37843e-14 -1.92831e-14   -0.0301449 -1.15628e-13  3.44932e-12 -1.08056e-12 -1.34732e-12 -0.000165582   0.00905859 -2.67657e-13    0.0128701 -0.000359408     0.973646   6.0684e-14 -1.07521e-14 -2.18389e-14  1.09997e-12 -1.69079e-13    0.0229503  0.000100835 -2.70116e-14          nan          nan          nan          nan          nan          nan          nan          nan          nan          nan          nan          nan\r\n",
      "   0.0423984 -3.14334e-14  2.29004e-14  2.39169e-12 -1.15485e-13   -0.0301449 -2.13962e-14  2.68773e-14  2.75019e-14  -0.00905859 -0.000165582  5.54587e-15 -0.000359408   -0.0128701  6.06918e-14     0.973646  -5.8595e-13 -6.83078e-13 -2.62553e-14  6.28289e-15  0.000100835   -0.0229503 -7.39093e-13          nan          nan          nan          nan          nan          nan          nan          nan          nan          nan          nan          nan\r\n",
      " 2.12093e-13 -1.04875e-14   -0.0492019  -0.00195612  1.10198e-14  2.81892e-13   0.00029118    0.0010282 -4.60003e-05 -1.65106e-12 -6.46702e-15  0.000147554 -2.29775e-14  3.80493e-13 -1.07521e-14  -5.8595e-13      1.02126  -0.00208923  0.000411774  0.000411774 -5.66403e-14  1.69373e-13  -0.00474781          nan          nan          nan          nan          nan          nan          nan          nan          nan          nan          nan          nan\r\n",
      " 1.60172e-13  2.00739e-14   0.00195612    0.0492019 -2.56641e-15   4.5013e-14    0.0010282   0.00029118  4.60003e-05 -2.24648e-13  2.00814e-14 -0.000147554  2.45362e-14  2.96591e-13 -2.18389e-14 -6.83078e-13  -0.00208923      1.02126 -0.000411774 -0.000411774  4.40373e-14  2.63265e-13   0.00474781          nan          nan          nan          nan          nan          nan          nan          nan          nan          nan          nan          nan\r\n",
      " 3.84434e-14 -1.83511e-12 -0.000600794  0.000718585  2.83972e-13 -6.19181e-15   -0.0133489   -0.0338969  -0.00477089 -3.55727e-15 -2.49731e-12    0.0153035 -2.16165e-12   1.7058e-14  1.09997e-12 -2.62553e-14  0.000411774 -0.000411774      1.06396     0.044792 -5.16386e-12 -1.24438e-13 -0.000118133          nan          nan          nan          nan          nan          nan          nan          nan          nan          nan          nan          nan\r\n",
      "   2.881e-14 -1.46285e-12  0.000718585 -0.000600794  6.10949e-13 -1.46298e-14    0.0338969    0.0133489  -0.00477089  1.00728e-14 -6.21587e-13    0.0153035 -2.83875e-12  1.86226e-14 -1.69079e-13  6.28289e-15  0.000411774 -0.000411774     0.044792      1.06396  -5.5853e-12 -1.37321e-13 -0.000118133          nan          nan          nan          nan          nan          nan          nan          nan          nan          nan          nan          nan\r\n",
      "-0.000327701   -0.0745854 -3.51329e-13  -3.5649e-13   -0.0700287 -0.000307681  1.57861e-11 -1.82167e-11 -6.32933e-12  0.000689125    -0.030392  4.12237e-12  -0.00919367  0.000297171   -0.0362884 -0.000159438  3.05544e-14  -4.0142e-14  3.21022e-12   2.8912e-12    -0.195058 -3.87661e-13 -3.95381e-13          nan          nan          nan          nan          nan          nan          nan          nan          nan          nan          nan          nan\r\n",
      "   0.0745854 -0.000327701  3.70184e-13  2.87956e-12 -0.000307681    0.0700287  4.32104e-13 -4.37272e-13 -1.50823e-13    -0.030392 -0.000689125  9.94304e-14 -0.000297171  -0.00919367 -0.000159438    0.0362884 -9.42629e-14  4.00204e-13  7.99057e-14  7.05727e-14 -3.87693e-13    -0.195058  1.15885e-11          nan          nan          nan          nan          nan          nan          nan          nan          nan          nan          nan          nan\r\n",
      "-4.40152e-13 -3.54726e-14    0.0140664    0.0140664  4.58749e-14 -5.24038e-14   0.00136116  -0.00136116 -0.000438016 -2.42346e-12 -4.84192e-15  0.000184407 -2.37919e-14  1.25957e-14 -2.62499e-14 -2.04021e-12  -0.00609799   0.00609799  0.000216369  0.000216369 -4.77419e-13  1.09196e-11     0.941394          nan          nan          nan          nan          nan          nan          nan          nan          nan          nan          nan          nan\r\n",
      "        -nan         -nan         -nan         -nan         -nan         -nan         -nan         -nan         -nan         -nan         -nan         -nan         -nan         -nan         -nan         -nan         -nan         -nan         -nan         -nan         -nan         -nan         -nan          nan          nan          nan          nan          nan          nan          nan          nan          nan          nan          nan          nan\r\n",
      "        -nan         -nan         -nan         -nan         -nan         -nan         -nan         -nan         -nan         -nan         -nan         -nan         -nan         -nan         -nan         -nan         -nan         -nan         -nan         -nan         -nan         -nan         -nan         -nan         -nan         -nan         -nan         -nan         -nan         -nan         -nan         -nan         -nan         -nan         -nan\r\n",
      "        -nan         -nan         -nan         -nan         -nan         -nan         -nan         -nan         -nan         -nan         -nan         -nan         -nan         -nan         -nan         -nan         -nan         -nan         -nan         -nan         -nan         -nan         -nan         -nan         -nan         -nan         -nan         -nan         -nan         -nan         -nan         -nan         -nan         -nan         -nan\r\n",
      "        -nan         -nan         -nan         -nan         -nan         -nan         -nan         -nan         -nan         -nan         -nan         -nan         -nan         -nan         -nan         -nan         -nan         -nan         -nan         -nan         -nan         -nan         -nan          nan          nan          nan          nan          nan          nan          nan          nan          nan          nan          nan          nan\r\n",
      "        -nan         -nan         -nan         -nan         -nan         -nan         -nan         -nan         -nan         -nan         -nan         -nan         -nan         -nan         -nan         -nan         -nan         -nan         -nan         -nan         -nan         -nan         -nan          nan          nan          nan          nan          nan          nan          nan          nan          nan          nan          nan          nan\r\n",
      "        -nan         -nan         -nan         -nan         -nan         -nan         -nan         -nan         -nan         -nan         -nan         -nan         -nan         -nan         -nan         -nan         -nan         -nan         -nan         -nan         -nan         -nan         -nan         -nan         -nan         -nan         -nan         -nan         -nan         -nan         -nan         -nan         -nan         -nan         -nan\r\n",
      "        -nan         -nan         -nan         -nan         -nan         -nan         -nan         -nan         -nan         -nan         -nan         -nan         -nan         -nan         -nan         -nan         -nan         -nan         -nan         -nan         -nan         -nan         -nan         -nan         -nan         -nan         -nan         -nan         -nan         -nan         -nan         -nan         -nan         -nan         -nan\r\n",
      "        -nan         -nan         -nan         -nan         -nan         -nan         -nan         -nan         -nan         -nan         -nan         -nan         -nan         -nan         -nan         -nan         -nan         -nan         -nan         -nan         -nan         -nan         -nan          nan          nan          nan          nan          nan          nan          nan          nan          nan          nan          nan          nan\r\n",
      "        -nan         -nan         -nan         -nan         -nan         -nan         -nan         -nan         -nan         -nan         -nan         -nan         -nan         -nan         -nan         -nan         -nan         -nan         -nan         -nan         -nan         -nan         -nan          nan          nan          nan          nan          nan          nan          nan          nan          nan          nan          nan          nan\r\n",
      "        -nan         -nan         -nan         -nan         -nan         -nan         -nan         -nan         -nan         -nan         -nan         -nan         -nan         -nan         -nan         -nan         -nan         -nan         -nan         -nan         -nan         -nan         -nan         -nan          nan          nan          nan         -nan          nan          nan          nan         -nan          nan          nan          nan\r\n",
      "        -nan         -nan         -nan         -nan         -nan         -nan         -nan         -nan         -nan         -nan         -nan         -nan         -nan         -nan         -nan         -nan         -nan         -nan         -nan         -nan         -nan         -nan         -nan         -nan          nan          nan          nan         -nan          nan          nan          nan         -nan          nan          nan          nan\r\n",
      "        -nan         -nan         -nan         -nan         -nan         -nan         -nan         -nan         -nan         -nan         -nan         -nan         -nan         -nan         -nan         -nan         -nan         -nan         -nan         -nan         -nan         -nan         -nan         -nan         -nan         -nan         -nan         -nan         -nan         -nan         -nan         -nan         -nan         -nan         -nan\r\n",
      "B\r\n",
      "   0.0903884  -2.5473e-14  2.40044e-13    1.468e-12 -2.45325e-14    0.0326152  9.68049e-14 -9.39396e-14 -4.10476e-14   -0.0148114 -0.000270738  2.71153e-14   0.00134292    0.0480888 -3.61441e-14    0.0477612   3.0037e-13  2.50639e-13  3.48081e-14  2.05746e-14  0.000107329   -0.0244282  2.35756e-13         -nan         -nan         -nan         -nan         -nan         -nan         -nan         -nan         -nan         -nan         -nan         -nan\r\n",
      "-2.54727e-14    0.0903884  8.98174e-14  8.69396e-14    0.0326152 -2.46055e-14 -3.25357e-12  4.48149e-12  1.98183e-12 -0.000270738    0.0148114 -1.31902e-12   -0.0480888   0.00134292    0.0477612 -3.61022e-14 -5.42779e-15  1.96038e-14 -1.63717e-12 -1.08618e-12    0.0244282  0.000107329 -7.32314e-15         -nan         -nan         -nan         -nan         -nan         -nan         -nan         -nan         -nan         -nan         -nan         -nan\r\n",
      " 2.40044e-13  8.98174e-14    0.0993454   -0.0054888  -5.5788e-14 -2.21061e-13  -0.00206571   0.00206571   0.00119493  1.28137e-14  5.56791e-14 -0.000583263  9.62255e-14 -8.50154e-14 -1.88498e-14  1.19046e-14   -0.0658046   0.00225049 -0.000510225   0.00126458  1.33114e-13  4.87149e-13    0.0407556         -nan         -nan         -nan         -nan         -nan         -nan         -nan         -nan         -nan         -nan         -nan         -nan\r\n",
      "   1.468e-12  8.69396e-14   -0.0054888    0.0993454 -5.98716e-14  1.56706e-12  -0.00206571   0.00206571   0.00119493 -7.19888e-13  4.05354e-14 -0.000583263   9.3268e-14 -1.78525e-13  -2.5568e-14  2.90026e-12  -0.00225049    0.0658046   0.00126458 -0.000510225  1.35486e-13 -5.75684e-13    0.0407556         -nan         -nan         -nan         -nan         -nan         -nan         -nan         -nan         -nan         -nan         -nan         -nan\r\n",
      "-2.45356e-14    0.0326152  -5.5788e-14 -5.98716e-14     0.236624 -6.90487e-15  4.81675e-12 -3.02867e-12 -2.97986e-12 -0.000262841    0.0143793  1.03459e-12   0.00949567 -0.000265175   -0.0424654 -1.58255e-13  1.32416e-14  2.41327e-15 -8.52752e-14  5.21008e-13  -0.00359563 -1.57979e-05  7.32785e-17         -nan         -nan         -nan         -nan         -nan         -nan         -nan         -nan         -nan         -nan         -nan         -nan\r\n",
      "   0.0326152 -2.46043e-14 -2.21061e-13  1.56706e-12  -6.8903e-15     0.236624 -6.61047e-14  7.01424e-14  6.09705e-14   -0.0143793 -0.000262841 -2.13664e-14 -0.000265175  -0.00949567 -1.58453e-13   -0.0424654  4.61543e-13  1.44638e-13  1.66716e-15  -1.3967e-14 -1.57979e-05   0.00359563  5.23232e-14         -nan         -nan         -nan         -nan         -nan         -nan         -nan         -nan         -nan         -nan         -nan         -nan\r\n",
      " 9.68049e-14 -3.25357e-12  -0.00206571  -0.00206571  4.81675e-12 -6.61047e-14     0.212317    -0.107483   -0.0653713 -1.97601e-14 -2.22029e-12    0.0319088 -5.18756e-12  3.45244e-14  4.29951e-12 -2.84272e-14  0.000239512   0.00153529   -0.0344562    0.0290979 -6.76699e-12 -1.81992e-13   0.00079046         -nan         -nan         -nan         -nan         -nan         -nan         -nan         -nan         -nan         -nan         -nan         -nan\r\n",
      "-9.39396e-14  4.48149e-12   0.00206571   0.00206571 -3.02867e-12  7.01424e-14    -0.107483     0.212317    0.0653713   4.6411e-15  2.95298e-12   -0.0319088  5.28107e-12 -3.74504e-14 -1.41119e-12  3.51209e-14   0.00153529  0.000239512   -0.0290979    0.0344562  7.82033e-12  1.84043e-13  -0.00079046         -nan         -nan         -nan         -nan         -nan         -nan         -nan         -nan         -nan         -nan         -nan         -nan\r\n",
      "-4.10477e-14  1.98183e-12   0.00119493   0.00119493 -2.97986e-12  6.09705e-14   -0.0653713    0.0653713     0.424108  6.06164e-15  2.61051e-12    0.0112618 -3.22346e-13  2.29818e-15 -1.84525e-12  3.76914e-14  -6.2594e-06   6.2594e-06 -0.000649189 -0.000649189  2.50609e-12  6.09685e-14  7.06357e-05         -nan         -nan         -nan         -nan         -nan         -nan         -nan         -nan         -nan         -nan         -nan         -nan\r\n",
      "  -0.0148114 -0.000270738  1.28138e-14 -7.19888e-13 -0.000262841   -0.0143793   -1.976e-14  4.64098e-15  6.06163e-15     0.446813 -2.35935e-15  4.31388e-16 -4.66796e-06 -0.000484134 -0.000197299   -0.0107937 -2.69446e-12 -3.85199e-13  -5.1475e-15  1.72085e-14  -0.00040266    0.0177583 -5.11035e-12         -nan         -nan         -nan         -nan         -nan         -nan         -nan         -nan         -nan         -nan         -nan         -nan\r\n",
      "-0.000270738    0.0148114  5.56791e-14  4.05353e-14    0.0143793 -0.000262841 -2.22029e-12  2.95298e-12  2.61051e-12 -2.64725e-15     0.446813   1.5037e-13 -0.000484134  4.66796e-06    0.0107937 -0.000197299  -6.9936e-15  2.93244e-14 -3.72029e-12 -6.40603e-13    0.0177583   0.00040266  9.21999e-15         -nan         -nan         -nan         -nan         -nan         -nan         -nan         -nan         -nan         -nan         -nan         -nan\r\n",
      " 2.71153e-14 -1.31902e-12 -0.000583263 -0.000583263  1.03459e-12 -2.13665e-14    0.0319088   -0.0319088    0.0112618  4.31392e-16   1.5037e-13     0.627074 -2.01768e-12  1.48993e-14  -5.0963e-13  1.05137e-14  0.000211389 -0.000211389    0.0219241    0.0219241 -1.26523e-12  -3.0578e-14 -4.37457e-05         -nan         -nan         -nan         -nan         -nan         -nan         -nan         -nan         -nan         -nan         -nan         -nan\r\n",
      "  0.00134292   -0.0480888  9.62255e-14   9.3268e-14   0.00949567 -0.000265175 -5.18756e-12  5.28107e-12 -3.22346e-13 -4.66796e-06 -0.000484134 -2.01768e-12     0.912954  8.16164e-15    0.0215454 -0.000601673 -3.80956e-14  4.12066e-14 -3.47746e-12 -4.82961e-12    0.0227043  0.000733881  1.56157e-16         -nan         -nan         -nan         -nan         -nan         -nan         -nan         -nan         -nan         -nan         -nan         -nan\r\n",
      "   0.0480888   0.00134292 -8.50154e-14 -1.78525e-13 -0.000265175  -0.00949567  3.45244e-14 -3.74504e-14  2.29816e-15 -0.000484134  4.66796e-06  1.48993e-14   8.1255e-15     0.912954 -0.000601673   -0.0215454  7.19862e-13  6.32273e-13  2.83067e-14  3.14284e-14 -0.000733881    0.0227043 -6.02978e-13         -nan         -nan         -nan         -nan         -nan         -nan         -nan         -nan         -nan         -nan         -nan         -nan\r\n",
      "-3.61419e-14    0.0477612 -1.88498e-14  -2.5568e-14   -0.0424654 -1.58476e-13  4.29951e-12 -1.41119e-12 -1.84525e-12 -0.000197299    0.0107937  -5.0963e-13    0.0215454 -0.000601673     0.952113  1.15125e-13 -2.02827e-14 -3.74103e-14   1.9012e-12 -3.44746e-13  -0.00321205 -1.41126e-05 -6.57783e-14         -nan         -nan         -nan         -nan         -nan         -nan         -nan         -nan         -nan         -nan         -nan         -nan\r\n",
      "   0.0477612 -3.60992e-14  1.19047e-14  2.90026e-12 -1.58297e-13   -0.0424654 -2.84271e-14  3.51209e-14  3.76914e-14   -0.0107937 -0.000197299  1.05138e-14 -0.000601673   -0.0215454  1.15134e-13     0.952113  -1.0767e-12 -1.16919e-12 -4.51704e-14   1.2418e-14 -1.41126e-05   0.00321205  -3.0512e-12         -nan         -nan         -nan         -nan         -nan         -nan         -nan         -nan         -nan         -nan         -nan         -nan\r\n",
      "  3.0037e-13 -5.42779e-15   -0.0658046  -0.00225049  1.32416e-14  4.61543e-13  0.000239512   0.00153529  -6.2594e-06 -2.69446e-12 -6.99359e-15  0.000211389 -3.80956e-14  7.19862e-13 -2.02827e-14  -1.0767e-12      1.04538  -0.00440669   0.00076413   0.00076413 -2.51966e-14 -1.42107e-13   -0.0159267         -nan         -nan         -nan         -nan         -nan         -nan         -nan         -nan         -nan         -nan         -nan         -nan\r\n",
      " 2.50639e-13  1.96038e-14   0.00225049    0.0658046  2.41327e-15  1.44638e-13   0.00153529  0.000239512   6.2594e-06 -3.85199e-13  2.93244e-14 -0.000211389  4.12066e-14  6.32273e-13 -3.74103e-14 -1.16919e-12  -0.00440669      1.04538  -0.00076413  -0.00076413  3.56532e-15  8.69273e-13    0.0159267         -nan         -nan         -nan         -nan         -nan         -nan         -nan         -nan         -nan         -nan         -nan         -nan\r\n",
      " 3.48081e-14 -1.63717e-12 -0.000510225   0.00126458 -8.52752e-14  1.66715e-15   -0.0344562   -0.0290979 -0.000649189  -5.1475e-15 -3.72029e-12    0.0219241 -3.47746e-12  2.83067e-14   1.9012e-12 -4.51704e-14   0.00076413  -0.00076413      1.12462    0.0836504  -2.4687e-12   -5.393e-14  7.41283e-05         -nan         -nan         -nan         -nan         -nan         -nan         -nan         -nan         -nan         -nan         -nan         -nan\r\n",
      " 2.05746e-14 -1.08618e-12   0.00126458 -0.000510225  5.21008e-13  -1.3967e-14    0.0290979    0.0344562 -0.000649189  1.72084e-14 -6.40603e-13    0.0219241 -4.82961e-12  3.14284e-14 -3.44746e-13   1.2418e-14   0.00076413  -0.00076413    0.0836504      1.12462 -3.19296e-12 -7.56716e-14  7.41283e-05         -nan         -nan         -nan         -nan         -nan         -nan         -nan         -nan         -nan         -nan         -nan         -nan\r\n",
      "  0.00024596     0.055981  4.02966e-13  4.06379e-13   -0.0025983  -1.1416e-05 -2.08556e-11  2.24714e-11  3.16046e-12 -0.000250071    0.0110288 -1.17494e-12    0.0177737 -0.000574509    -0.017978 -7.89887e-05 -1.42296e-14 -3.87575e-14  1.01997e-12 -7.46081e-13     0.583856 -4.29018e-13 -4.09114e-13         -nan         -nan         -nan         -nan         -nan         -nan         -nan         -nan         -nan         -nan         -nan         -nan\r\n",
      "   -0.055981   0.00024596  4.66852e-13 -1.15263e-12  -1.1416e-05    0.0025983 -5.47686e-13  5.50986e-13  8.10483e-14    0.0110288  0.000250071 -3.06205e-14  0.000574509    0.0177737 -7.89887e-05     0.017978  4.40437e-13   1.3171e-12  3.23378e-14 -2.05782e-14  -4.2907e-13     0.583856   1.5551e-11         -nan         -nan         -nan         -nan         -nan         -nan         -nan         -nan         -nan         -nan         -nan         -nan\r\n",
      " 5.72975e-13 -2.97297e-15    0.0412042    0.0412042 -1.38365e-15 -3.21811e-13  0.000795439 -0.000795439 -0.000109406 -5.38653e-12  4.46669e-15  6.23384e-05  -2.1738e-14 -5.41324e-13 -5.62878e-14  -3.2067e-12   -0.0168308    0.0168308  0.000222087  0.000222087 -4.85633e-13  1.40879e-11      1.94538         -nan         -nan         -nan         -nan         -nan         -nan         -nan         -nan         -nan         -nan         -nan         -nan\r\n",
      "        -nan         -nan         -nan         -nan         -nan         -nan         -nan         -nan         -nan         -nan         -nan         -nan         -nan         -nan         -nan         -nan         -nan         -nan         -nan         -nan         -nan         -nan         -nan         -nan         -nan         -nan         -nan         -nan         -nan         -nan         -nan         -nan         -nan         -nan         -nan\r\n",
      "        -nan         -nan         -nan         -nan         -nan         -nan         -nan         -nan         -nan         -nan         -nan         -nan         -nan         -nan         -nan         -nan         -nan         -nan         -nan         -nan         -nan         -nan         -nan         -nan         -nan         -nan         -nan         -nan         -nan         -nan         -nan         -nan         -nan         -nan         -nan\r\n",
      "        -nan         -nan         -nan         -nan         -nan         -nan         -nan         -nan         -nan         -nan         -nan         -nan         -nan         -nan         -nan         -nan         -nan         -nan         -nan         -nan         -nan         -nan         -nan         -nan         -nan         -nan         -nan         -nan         -nan         -nan         -nan         -nan         -nan         -nan         -nan\r\n",
      "        -nan         -nan         -nan         -nan         -nan         -nan         -nan         -nan         -nan         -nan         -nan         -nan         -nan         -nan         -nan         -nan         -nan         -nan         -nan         -nan         -nan         -nan         -nan         -nan         -nan         -nan         -nan         -nan         -nan         -nan         -nan         -nan         -nan         -nan         -nan\r\n",
      "        -nan         -nan         -nan         -nan         -nan         -nan         -nan         -nan         -nan         -nan         -nan         -nan         -nan         -nan         -nan         -nan         -nan         -nan         -nan         -nan         -nan         -nan         -nan         -nan         -nan         -nan         -nan         -nan         -nan         -nan         -nan         -nan         -nan         -nan         -nan\r\n",
      "        -nan         -nan         -nan         -nan         -nan         -nan         -nan         -nan         -nan         -nan         -nan         -nan         -nan         -nan         -nan         -nan         -nan         -nan         -nan         -nan         -nan         -nan         -nan         -nan         -nan         -nan         -nan         -nan         -nan         -nan         -nan         -nan         -nan         -nan         -nan\r\n",
      "        -nan         -nan         -nan         -nan         -nan         -nan         -nan         -nan         -nan         -nan         -nan         -nan         -nan         -nan         -nan         -nan         -nan         -nan         -nan         -nan         -nan         -nan         -nan         -nan         -nan         -nan         -nan         -nan         -nan         -nan         -nan         -nan         -nan         -nan         -nan\r\n",
      "        -nan         -nan         -nan         -nan         -nan         -nan         -nan         -nan         -nan         -nan         -nan         -nan         -nan         -nan         -nan         -nan         -nan         -nan         -nan         -nan         -nan         -nan         -nan         -nan         -nan         -nan         -nan         -nan         -nan         -nan         -nan         -nan         -nan         -nan         -nan\r\n",
      "        -nan         -nan         -nan         -nan         -nan         -nan         -nan         -nan         -nan         -nan         -nan         -nan         -nan         -nan         -nan         -nan         -nan         -nan         -nan         -nan         -nan         -nan         -nan         -nan         -nan         -nan         -nan         -nan         -nan         -nan         -nan         -nan         -nan         -nan         -nan\r\n",
      "        -nan         -nan         -nan         -nan         -nan         -nan         -nan         -nan         -nan         -nan         -nan         -nan         -nan         -nan         -nan         -nan         -nan         -nan         -nan         -nan         -nan         -nan         -nan         -nan         -nan         -nan         -nan         -nan         -nan         -nan         -nan         -nan         -nan         -nan         -nan\r\n",
      "        -nan         -nan         -nan         -nan         -nan         -nan         -nan         -nan         -nan         -nan         -nan         -nan         -nan         -nan         -nan         -nan         -nan         -nan         -nan         -nan         -nan         -nan         -nan         -nan         -nan         -nan         -nan         -nan         -nan         -nan         -nan         -nan         -nan         -nan         -nan\r\n",
      "        -nan         -nan         -nan         -nan         -nan         -nan         -nan         -nan         -nan         -nan         -nan         -nan         -nan         -nan         -nan         -nan         -nan         -nan         -nan         -nan         -nan         -nan         -nan          nan          nan          nan          nan          nan          nan          nan          nan          nan          nan          nan          nan\r\n",
      "an error occurred:\r\n",
      "Small generalized eigenvalue problem failed.\r\n"
     ]
    }
   ],
   "source": [
    "!xtp_tools -c job_name=CO geometry_optimization.maxiter=1 dftpackage.basisset=3-21G dftpackage.auxbasisset=aux-def2-svp gwbse.gw.mode=G0W0 -e dftgwbse -t 4"
   ]
  },
  {
   "cell_type": "markdown",
   "metadata": {},
   "source": [
    "Notice that we are using 4 threads. The results will be stored in a file named `CO_summary.xml` in the current work directory, together with the optimization step in `optimisation.trj` and the orbitals in [hdf5 format](https://www.hdfgroup.org/solutions/hdf5/) saved on `CO.orb`."
   ]
  }
 ],
 "metadata": {
  "kernelspec": {
   "display_name": "Python 3",
   "language": "python",
   "name": "python3"
  },
  "language_info": {
   "codemirror_mode": {
    "name": "ipython",
    "version": 3
   },
   "file_extension": ".py",
   "mimetype": "text/x-python",
   "name": "python",
   "nbconvert_exporter": "python",
   "pygments_lexer": "ipython3",
   "version": "3.10.4"
  }
 },
 "nbformat": 4,
 "nbformat_minor": 4
}
