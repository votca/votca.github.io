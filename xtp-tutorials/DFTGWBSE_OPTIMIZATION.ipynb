{
 "cells": [
  {
   "cell_type": "markdown",
   "metadata": {},
   "source": [
    "## DFT + GWBSE Optimization Using CO"
   ]
  },
  {
   "cell_type": "markdown",
   "metadata": {},
   "source": [
    "## Introduction\n",
    "This tutorial explains how to perform a molecular geometric optimization using the **GWBSE** method. See [the GW Compendium: A Practical Guide to Theoretical Photoemission Spectroscopy](https://doi.org/10.3389/fchem.2019.00377), for an excellent introduction to the method."
   ]
  },
  {
   "cell_type": "markdown",
   "metadata": {},
   "source": [
    "## Requirements\n",
    "* You will need to install **VOTCA** using the instructions described [here](https://github.com/votca/votca/blob/master/share/doc/INSTALL.rst)\n",
    "* Once the installation is completed you need to activate the VOTCA enviroment by running the `VOTCARC.bash` script that has been installed at the bin subfolder for the path that you have provided for the installation step above"
   ]
  },
  {
   "cell_type": "markdown",
   "metadata": {},
   "source": [
    "## Preparing the input\n",
    "To run a DFT-GWBSE calculation we will use the [xtp_tools](https://www.votca.org/xtp/xtp_tools_overview.html) calculator."
   ]
  },
  {
   "cell_type": "markdown",
   "metadata": {},
   "source": [
    "we can now change the calculator mode from single point energy calculation to optimization as follows by adding \n",
    "`-c geometry_optimization.maxiter=1` which enables optimization with one iteration. "
   ]
  },
  {
   "cell_type": "markdown",
   "metadata": {},
   "source": [
    "Because geometry optimsation is quite expensive numerically we chose a smaller basisset and G0W0 Finally, to run the calculation we just need the following command (This still takes a while)"
   ]
  },
  {
   "cell_type": "code",
   "execution_count": 1,
   "metadata": {
    "execution": {
     "iopub.execute_input": "2022-01-29T18:13:25.120059Z",
     "iopub.status.busy": "2022-01-29T18:13:25.119511Z",
     "iopub.status.idle": "2022-01-29T18:14:15.753687Z",
     "shell.execute_reply": "2022-01-29T18:14:15.754070Z"
    }
   },
   "outputs": [
    {
     "name": "stdout",
     "output_type": "stream",
     "text": [
      "==================================================\r\n",
      "========   VOTCA (http://www.votca.org)   ========\r\n",
      "==================================================\r\n",
      "\r\n",
      "please submit bugs to https://github.com/votca/xtp/issues\r\n",
      "\r\n",
      "xtp_tools, version 2023-dev gitid: b0daafb (compiled Jan 29 2022, 18:06:03)\r\n",
      "votca_csg, version 2023-dev gitid: b0daafb (compiled Jan 29 2022, 17:53:03)\r\n",
      "votca_tools, version 2023-dev gitid: b0daafb (compiled Jan 29 2022, 17:50:31)\r\n",
      "\r\n",
      "Initializing tool\r\n",
      "... dftgwbse Evaluating tool\r\n",
      "... dftgwbse  Using 4 threads\r\n",
      "... ... Reading structure from CO.xyz\r\n",
      "... ... Requested geometry optimization of excited state s1\r\n",
      "... ... Initial state: s1\r\n",
      "... ... WARNING: No tracker is used \r\n",
      "... ... Convergence of total energy: 0.000001 Hartree \r\n",
      "... ... Convergence of RMS Force:    0.000030 Hartree/Bohr \r\n",
      "... ... Convergence of Max Force:    0.000100 Hartree/Bohr \r\n",
      "... ... Convergence of RMS Step:     0.000600 Bohr \r\n",
      "... ... Convergence of Max Step:     0.001000 Bohr \r\n",
      "... ... Initial trust radius:        0.018897 Bohr\r\n",
      "... ... \r\n",
      "... ... =========== OPTIMIZATION SUMMARY ================================= \r\n",
      "... ... At iteration  0\r\n",
      "... ...  ---- POSITIONS (Angstrom)   \r\n",
      "... ...  Atom\t x\t  y\t  z \r\n",
      "... ...    0    +0.0000  +0.0000  +0.0000\r\n",
      "... ...    1    +1.2000  +0.0000  +0.0000\r\n",
      "... ...    Total energy:     -112.26831841 Hartree \r\n",
      "... ...    Trust radius:       0.01889726 Bohr     \r\n",
      "... ...  ---- FORCES (Hartree/Bohr)   \r\n",
      "... ...       central differences   \r\n",
      "... ...       displacement 0.0010 Angstrom   \r\n",
      "... ...  Atom\t x\t  y\t  z \r\n",
      "... ...    0    -0.1314  -0.0000  -0.0000\r\n",
      "... ...    1    +0.1314  +0.0000  +0.0000A\r\n",
      "    0.301149 -1.39187e-12  7.68754e-10 -8.85534e-10 -1.20083e-09 -1.04335e-09   -0.0519724  1.01994e-12  5.92029e-10    0.0141851   -0.0104787  2.25009e-10   -0.0390253  0.000527499    0.0423984 -8.04582e-13  1.50464e-10  3.06671e-10 -1.92303e-10  4.05368e-10    -0.107078  -0.00208381 -6.08653e-11          nan          nan          nan          nan          nan          nan          nan          nan          nan          nan          nan          nan\r\n",
      "-1.39188e-12     0.301149 -1.48729e-10  3.06216e-10 -2.19704e-10 -1.02924e-10  1.01987e-12   -0.0519724 -2.94036e-12    0.0104787    0.0141851 -6.40185e-13  0.000527499    0.0390253 -8.04596e-13    0.0423984  2.11136e-10 -1.92928e-12  1.60289e-10  -4.0813e-12  -0.00208381     0.107078 -5.83569e-11          nan          nan          nan          nan          nan          nan          nan          nan          nan          nan          nan          nan\r\n",
      " 7.68754e-10 -1.48729e-10     0.391912   -0.0716783    -0.110682    -0.110682 -1.82916e-10  9.49189e-11    0.0540745  3.42412e-11  -1.1635e-10    0.0243754 -1.89321e-09  5.75502e-11  1.23473e-10 -3.05652e-11   -0.0363217    0.0109382   -0.0169891    0.0176279 -7.95504e-09 -3.78833e-10    0.0242634          nan          nan          nan          nan          nan          nan          nan          nan          nan          nan          nan          nan\r\n",
      "-8.85534e-10  3.06216e-10   -0.0716783     0.391912     0.110682     0.110682  2.21584e-10 -1.49331e-10   -0.0540745  -3.3732e-11  1.20635e-10   -0.0243754  1.91307e-09 -3.20058e-11 -2.13168e-10  1.52601e-10   -0.0109382    0.0363217    0.0176279   -0.0169891  8.03672e-09  4.96246e-10   -0.0242634          nan          nan          nan          nan          nan          nan          nan          nan          nan          nan          nan          nan\r\n",
      "-1.20083e-09 -2.19704e-10    -0.110682     0.110682      0.45998     0.139747  3.02047e-10  1.00205e-10   -0.0732008 -1.43308e-10  3.34921e-11   -0.0329971  2.58959e-09  9.75322e-12 -2.89066e-10 -1.07323e-10   -0.0167822    -0.017421    0.0210121    0.0262478  1.08833e-08  1.15463e-10   0.00969248          nan          nan          nan          nan          nan          nan          nan          nan          nan          nan          nan          nan\r\n",
      "-1.04335e-09 -1.02924e-10    -0.110682     0.110682     0.139747      0.45998  2.47635e-10  6.15378e-11   -0.0732008 -1.39023e-10  3.29828e-11   -0.0329971  2.56405e-09   2.9607e-11  -1.6703e-10 -1.76267e-11    -0.017421   -0.0167822   -0.0262478   -0.0210121   1.0765e-08   1.9798e-10   0.00969248          nan          nan          nan          nan          nan          nan          nan          nan          nan          nan          nan          nan\r\n",
      "  -0.0519724  1.01987e-12 -1.82916e-10  2.21584e-10  3.02047e-10  2.47635e-10     0.486835 -2.44899e-13 -1.77663e-10    -0.010967   0.00810145 -3.96544e-11   -0.0083053  0.000112262    0.0301449  2.91504e-12  9.05286e-11 -1.01459e-10 -1.26518e-10 -1.35513e-10    0.0549836   0.00107002  4.08848e-11          nan          nan          nan          nan          nan          nan          nan          nan          nan          nan          nan          nan\r\n",
      " 1.01994e-12   -0.0519724  9.49189e-11 -1.49331e-10  1.00205e-10  6.15378e-11 -2.44904e-13     0.486835  4.00223e-12  -0.00810145    -0.010967  1.15075e-12  0.000112262    0.0083053  2.91505e-12    0.0301449  -2.6931e-10 -7.27933e-12 -2.01575e-10  9.58744e-12   0.00107002   -0.0549836  -2.3147e-10          nan          nan          nan          nan          nan          nan          nan          nan          nan          nan          nan          nan\r\n",
      " 5.92029e-10 -2.94036e-12    0.0540745   -0.0540745   -0.0732008   -0.0732008 -1.77663e-10  4.00223e-12     0.659928  2.69173e-10 -2.00385e-10  -0.00518518 -7.77965e-10  3.38183e-12  1.34331e-10 -2.17291e-12   0.00288649   0.00288649  -0.00379892   0.00379892 -5.23382e-09 -1.53243e-10   0.00261609          nan          nan          nan          nan          nan          nan          nan          nan          nan          nan          nan          nan\r\n",
      "   0.0141851    0.0104787  3.42412e-11  -3.3732e-11 -1.43308e-10 -1.39023e-10    -0.010967  -0.00810145  2.69173e-10     0.668107  7.25709e-13  -7.8794e-11  1.34677e-05  -1.0233e-05   0.00728738   0.00538329 -2.62841e-11 -2.98089e-11  1.09076e-09  -4.3525e-11   -0.0334321    0.0237054  8.07398e-10          nan          nan          nan          nan          nan          nan          nan          nan          nan          nan          nan          nan\r\n",
      "  -0.0104787    0.0141851  -1.1635e-10  1.20635e-10  3.34921e-11  3.29828e-11   0.00810145    -0.010967 -2.00385e-10  7.25552e-13     0.668107  5.93872e-11  -1.0233e-05 -1.34678e-05  -0.00538329   0.00728738  1.07652e-09  2.92927e-11 -2.62401e-11  2.27153e-11    0.0237054    0.0334321  1.12952e-09          nan          nan          nan          nan          nan          nan          nan          nan          nan          nan          nan          nan\r\n",
      " 2.25009e-10 -6.40185e-13    0.0243754   -0.0243754   -0.0329971   -0.0329971 -3.96544e-11  1.15075e-12  -0.00518518  -7.8794e-11  5.93872e-11     0.793012 -5.03133e-10  1.25782e-12   7.4781e-11  -4.7787e-13   0.00925892   0.00925892   -0.0121857    0.0121857 -1.99209e-09 -5.75778e-11    0.0010692          nan          nan          nan          nan          nan          nan          nan          nan          nan          nan          nan          nan\r\n",
      "  -0.0390253  0.000527499 -1.89321e-09  1.91307e-09  2.58959e-09  2.56405e-09   -0.0083053  0.000112262 -7.77965e-10  1.34677e-05  -1.0233e-05 -5.03133e-10     0.954263 -4.00317e-13    0.0128739 -0.000174015 -1.22126e-09 -1.11558e-09  1.60841e-09 -1.46717e-09   -0.0198855 -0.000655948 -1.21889e-10          nan          nan          nan          nan          nan          nan          nan          nan          nan          nan          nan          nan\r\n",
      " 0.000527499    0.0390253  5.75502e-11 -3.20058e-11  9.75322e-12   2.9607e-11  0.000112262    0.0083053  3.38183e-12  -1.0233e-05 -1.34678e-05  1.25782e-12 -4.00324e-13     0.954263 -0.000174015   -0.0128739 -5.82337e-11  8.30064e-11 -5.24281e-11 -5.32555e-11  0.000655948   -0.0198855   3.4561e-11          nan          nan          nan          nan          nan          nan          nan          nan          nan          nan          nan          nan\r\n",
      "   0.0423984 -8.04595e-13  1.23473e-10 -2.13168e-10 -2.89066e-10  -1.6703e-10    0.0301449  2.91505e-12  1.34331e-10   0.00728738  -0.00538329   7.4781e-11    0.0128739 -0.000174015     0.973645  1.57439e-12  1.20051e-10  3.22213e-11 -1.60626e-10  4.21133e-11   -0.0229462 -0.000446549 -1.85323e-11          nan          nan          nan          nan          nan          nan          nan          nan          nan          nan          nan          nan\r\n",
      "-8.04581e-13    0.0423984 -3.05652e-11  1.52601e-10 -1.07323e-10 -1.76267e-11  2.91504e-12    0.0301449 -2.17291e-12   0.00538329   0.00728738  -4.7787e-13 -0.000174015   -0.0128739  1.57439e-12     0.973645  -1.2661e-10 -8.09772e-12 -9.32536e-11  5.42431e-12 -0.000446549    0.0229462 -5.39087e-10          nan          nan          nan          nan          nan          nan          nan          nan          nan          nan          nan          nan\r\n",
      " 1.50464e-10  2.11136e-10   -0.0363217   -0.0109382   -0.0167822    -0.017421  9.05286e-11  -2.6931e-10   0.00288649 -2.62841e-11  1.07652e-09   0.00925892 -1.22126e-09 -5.82337e-11  1.20051e-10  -1.2661e-10      1.03689     0.017718   -0.0205743    0.0205743 -1.52062e-09  2.12195e-11   -0.0029999          nan          nan          nan          nan          nan          nan          nan          nan          nan          nan          nan          nan\r\n",
      " 3.06671e-10 -1.92928e-12    0.0109382    0.0363217    -0.017421   -0.0167822 -1.01459e-10 -7.27933e-12   0.00288649 -2.98089e-11  2.92927e-11   0.00925892 -1.11558e-09  8.30064e-11  3.22213e-11 -8.09772e-12     0.017718      1.03689   -0.0205743    0.0205743 -1.56976e-09 -4.92748e-11   -0.0029999          nan          nan          nan          nan          nan          nan          nan          nan          nan          nan          nan          nan\r\n",
      "-1.92303e-10  1.60289e-10   -0.0169891    0.0176279    0.0210121   -0.0262478 -1.26518e-10 -2.01575e-10  -0.00379892  1.09076e-09 -2.62401e-11   -0.0121857  1.60841e-09 -5.24281e-11 -1.60626e-10 -9.32536e-11   -0.0205743   -0.0205743      1.04833   -0.0291632  1.99467e-09  1.04309e-10  -0.00432753          nan          nan          nan          nan          nan          nan          nan          nan          nan          nan          nan          nan\r\n",
      " 4.05368e-10  -4.0813e-12    0.0176279   -0.0169891    0.0262478   -0.0210121 -1.35513e-10  9.58744e-12   0.00379892  -4.3525e-11  2.27153e-11    0.0121857 -1.46717e-09 -5.32555e-11  4.21133e-11  5.42431e-12    0.0205743    0.0205743   -0.0291632      1.04833 -2.06516e-09  -5.5194e-11   0.00432753          nan          nan          nan          nan          nan          nan          nan          nan          nan          nan          nan          nan\r\n",
      "    0.074572   0.00145123   5.4415e-09   -5.456e-09 -7.38525e-09   -7.362e-09   -0.0700161  -0.00136257  4.10115e-09    0.0247985   -0.0175836  1.74209e-09   0.00919347 -0.000303258    0.0362819  0.000706073   1.2312e-09  1.26002e-09 -1.61527e-09  1.65616e-09    -0.195058 -8.52919e-12  3.91948e-10          nan          nan          nan          nan          nan          nan          nan          nan          nan          nan          nan          nan\r\n",
      "  0.00145123    -0.074572  4.13631e-10 -4.36633e-10 -1.36464e-11 -2.82615e-11  -0.00136257    0.0700161   1.2041e-10   -0.0175836   -0.0247985  5.00329e-11  0.000303258   0.00919347  0.000706073   -0.0362819 -4.54312e-11 -4.75208e-12 -1.09764e-10  8.07519e-11 -8.52921e-12    -0.195058  6.14477e-09          nan          nan          nan          nan          nan          nan          nan          nan          nan          nan          nan          nan\r\n",
      " 1.16966e-11   8.0054e-10   0.00559693  -0.00559693    0.0181922    0.0181922 -5.70834e-11 -7.00472e-10  -0.00447095  1.14496e-09  1.47937e-09  -0.00192011  1.46329e-10 -1.19812e-10  1.54609e-11  3.11361e-11  -0.00564392  -0.00564392  -0.00301968   0.00301968  8.46978e-10   6.3007e-09      1.05356          nan          nan          nan          nan          nan          nan          nan          nan          nan          nan          nan          nan\r\n",
      "        -nan         -nan         -nan         -nan         -nan         -nan         -nan         -nan         -nan         -nan         -nan         -nan         -nan         -nan         -nan         -nan         -nan         -nan         -nan         -nan         -nan         -nan         -nan          nan          nan          nan          nan          nan          nan          nan          nan          nan          nan          nan          nan\r\n",
      "        -nan         -nan         -nan         -nan         -nan         -nan         -nan         -nan         -nan         -nan         -nan         -nan         -nan         -nan         -nan         -nan         -nan         -nan         -nan         -nan         -nan         -nan         -nan         -nan         -nan         -nan         -nan         -nan         -nan         -nan         -nan         -nan         -nan         -nan         -nan\r\n",
      "        -nan         -nan         -nan         -nan         -nan         -nan         -nan         -nan         -nan         -nan         -nan         -nan         -nan         -nan         -nan         -nan         -nan         -nan         -nan         -nan         -nan         -nan         -nan         -nan         -nan         -nan         -nan         -nan         -nan         -nan         -nan         -nan         -nan         -nan         -nan\r\n",
      "        -nan         -nan         -nan         -nan         -nan         -nan         -nan         -nan         -nan         -nan         -nan         -nan         -nan         -nan         -nan         -nan         -nan         -nan         -nan         -nan         -nan         -nan         -nan          nan          nan          nan          nan          nan          nan          nan          nan          nan          nan          nan          nan\r\n",
      "        -nan         -nan         -nan         -nan         -nan         -nan         -nan         -nan         -nan         -nan         -nan         -nan         -nan         -nan         -nan         -nan         -nan         -nan         -nan         -nan         -nan         -nan         -nan          nan          nan          nan          nan          nan          nan          nan          nan          nan          nan          nan          nan\r\n",
      "        -nan         -nan         -nan         -nan         -nan         -nan         -nan         -nan         -nan         -nan         -nan         -nan         -nan         -nan         -nan         -nan         -nan         -nan         -nan         -nan         -nan         -nan         -nan         -nan         -nan         -nan         -nan         -nan         -nan         -nan         -nan         -nan         -nan         -nan         -nan\r\n",
      "        -nan         -nan         -nan         -nan         -nan         -nan         -nan         -nan         -nan         -nan         -nan         -nan         -nan         -nan         -nan         -nan         -nan         -nan         -nan         -nan         -nan         -nan         -nan         -nan         -nan         -nan         -nan         -nan         -nan         -nan         -nan         -nan         -nan         -nan         -nan\r\n",
      "        -nan         -nan         -nan         -nan         -nan         -nan         -nan         -nan         -nan         -nan         -nan         -nan         -nan         -nan         -nan         -nan         -nan         -nan         -nan         -nan         -nan         -nan         -nan          nan          nan          nan          nan          nan          nan          nan          nan          nan          nan          nan          nan\r\n",
      "        -nan         -nan         -nan         -nan         -nan         -nan         -nan         -nan         -nan         -nan         -nan         -nan         -nan         -nan         -nan         -nan         -nan         -nan         -nan         -nan         -nan         -nan         -nan          nan          nan          nan          nan          nan          nan          nan          nan          nan          nan          nan          nan\r\n",
      "        -nan         -nan         -nan         -nan         -nan         -nan         -nan         -nan         -nan         -nan         -nan         -nan         -nan         -nan         -nan         -nan         -nan         -nan         -nan         -nan         -nan         -nan         -nan         -nan          nan          nan          nan         -nan          nan          nan          nan         -nan          nan          nan          nan\r\n",
      "        -nan         -nan         -nan         -nan         -nan         -nan         -nan         -nan         -nan         -nan         -nan         -nan         -nan         -nan         -nan         -nan         -nan         -nan         -nan         -nan         -nan         -nan         -nan         -nan          nan          nan          nan         -nan          nan          nan          nan         -nan          nan          nan          nan\r\n",
      "        -nan         -nan         -nan         -nan         -nan         -nan         -nan         -nan         -nan         -nan         -nan         -nan         -nan         -nan         -nan         -nan         -nan         -nan         -nan         -nan         -nan         -nan         -nan         -nan         -nan         -nan         -nan         -nan         -nan         -nan         -nan         -nan         -nan         -nan         -nan\r\n",
      "B\r\n",
      "   0.0903883 -6.20743e-13  2.83326e-10 -3.57441e-10 -4.84911e-10 -3.84976e-10   -0.0326152  6.25483e-13  3.66711e-10    0.0119153  -0.00880202  1.49744e-10   -0.0481031  0.000650203    0.0477611 -9.23456e-13  9.90766e-11   3.0991e-10 -1.22476e-10  4.09993e-10   -0.0244238 -0.000475306  -4.2985e-11         -nan         -nan         -nan         -nan         -nan         -nan         -nan         -nan         -nan         -nan         -nan         -nan\r\n",
      "-6.20746e-13    0.0903883 -7.31734e-11  1.73108e-10 -1.25535e-10 -5.14207e-11  6.25439e-13   -0.0326152 -1.82032e-12   0.00880202    0.0119153 -3.82764e-13  0.000650203    0.0481031 -9.23479e-13    0.0477611  2.98223e-10  1.07057e-11  2.25297e-10 -1.44639e-11 -0.000475306    0.0244238  7.66418e-10         -nan         -nan         -nan         -nan         -nan         -nan         -nan         -nan         -nan         -nan         -nan         -nan\r\n",
      " 2.83326e-10 -7.31734e-11     0.139218    -0.034384   -0.0540271   -0.0540271 -8.97943e-11  6.46333e-11    0.0388485  2.49655e-11 -9.94331e-11    0.0189626 -2.03943e-09  6.52341e-11  1.06297e-10 -3.16821e-11   -0.0545494   0.00902359   -0.0148618    0.0157211 -4.02146e-10  9.27308e-11    0.0315718         -nan         -nan         -nan         -nan         -nan         -nan         -nan         -nan         -nan         -nan         -nan         -nan\r\n",
      "-3.57441e-10  1.73108e-10    -0.034384     0.139218    0.0540271    0.0540271   1.2114e-10 -1.08393e-10   -0.0388485 -2.44889e-11  1.04941e-10   -0.0189626  2.06871e-09 -2.75018e-11 -2.21612e-10  1.88386e-10  -0.00902359    0.0545494    0.0157211   -0.0148618  4.70834e-10  3.78109e-12   -0.0315718         -nan         -nan         -nan         -nan         -nan         -nan         -nan         -nan         -nan         -nan         -nan         -nan\r\n",
      "-4.84911e-10 -1.25535e-10   -0.0540271    0.0540271     0.172444    0.0676101  1.65414e-10  7.40675e-11   -0.0525894 -1.21325e-10  2.47902e-11   -0.0256698      2.8e-09   4.3399e-12 -3.00527e-10 -1.33314e-10   -0.0143655   -0.0152248    0.0178318    0.0457412  6.42476e-10  2.80954e-11    0.0289048         -nan         -nan         -nan         -nan         -nan         -nan         -nan         -nan         -nan         -nan         -nan         -nan\r\n",
      "-3.84976e-10 -5.14207e-11   -0.0540271    0.0540271    0.0676101     0.172444  1.21654e-10  4.27217e-11   -0.0525894 -1.15817e-10  2.43137e-11   -0.0256698  2.76227e-09  3.36259e-11 -1.43823e-10 -1.79996e-11   -0.0152248   -0.0143655   -0.0457412   -0.0178318  5.45306e-10  9.74658e-11    0.0289048         -nan         -nan         -nan         -nan         -nan         -nan         -nan         -nan         -nan         -nan         -nan         -nan\r\n",
      "  -0.0326152  6.25436e-13 -8.97943e-11   1.2114e-10  1.65414e-10  1.21654e-10     0.236624 -1.38047e-13 -1.35483e-10   -0.0115677   0.00854526 -2.41288e-11  -0.00949852   0.00012839    0.0424653  4.00016e-12  1.62887e-10 -1.23661e-10 -2.25324e-10 -1.65625e-10  -0.00359497 -6.99607e-05 -5.45183e-12         -nan         -nan         -nan         -nan         -nan         -nan         -nan         -nan         -nan         -nan         -nan         -nan\r\n",
      " 6.25485e-13   -0.0326152  6.46333e-11 -1.08393e-10  7.40675e-11  4.27217e-11  -1.3805e-13     0.236624  3.36814e-12  -0.00854526   -0.0115677  9.79113e-13   0.00012839   0.00949852  4.00018e-12    0.0424653 -4.04243e-10 -1.32929e-11 -3.01724e-10  1.51751e-11 -6.99607e-05   0.00359497  -8.2028e-10         -nan         -nan         -nan         -nan         -nan         -nan         -nan         -nan         -nan         -nan         -nan         -nan\r\n",
      " 3.66711e-10 -1.82032e-12    0.0388485   -0.0388485   -0.0525894   -0.0525894 -1.35483e-10  3.36814e-12     0.424108  3.29596e-10 -2.45678e-10   -0.0112617  -9.3286e-10  4.53609e-12  1.82484e-10 -2.96179e-12  0.000392784  0.000392784 -0.000516944  0.000516944 -1.09295e-09 -3.49515e-11  -0.00121061         -nan         -nan         -nan         -nan         -nan         -nan         -nan         -nan         -nan         -nan         -nan         -nan\r\n",
      "   0.0119153   0.00880202  2.49655e-11 -2.44889e-11 -1.21325e-10 -1.15817e-10   -0.0115677  -0.00854526  3.29596e-10     0.446812  9.54749e-13 -1.12149e-10 -0.000385497  0.000292907   0.00868325   0.00641444 -4.73967e-11 -5.33256e-11  1.82911e-09 -7.92373e-11     -0.01449    0.0102742   1.7811e-09         -nan         -nan         -nan         -nan         -nan         -nan         -nan         -nan         -nan         -nan         -nan         -nan\r\n",
      " -0.00880202    0.0119153 -9.94331e-11  1.04941e-10  2.47902e-11  2.43137e-11   0.00854526   -0.0115677 -2.45678e-10  9.54525e-13     0.446812  8.42809e-11  0.000292907  0.000385497  -0.00641444   0.00868325  1.80316e-09  5.32911e-11 -4.69767e-11  4.10479e-11    0.0102742      0.01449  2.39131e-09         -nan         -nan         -nan         -nan         -nan         -nan         -nan         -nan         -nan         -nan         -nan         -nan\r\n",
      " 1.49744e-10 -3.82764e-13    0.0189626   -0.0189626   -0.0256698   -0.0256698 -2.41288e-11  9.79113e-13   -0.0112617 -1.12149e-10  8.42809e-11     0.627074 -6.54357e-10   1.5897e-12  1.02977e-10 -5.56148e-13    0.0132645    0.0132645   -0.0174575    0.0174575 -2.09005e-10 -8.01552e-12 -0.000497568         -nan         -nan         -nan         -nan         -nan         -nan         -nan         -nan         -nan         -nan         -nan         -nan\r\n",
      "  -0.0481031  0.000650203 -2.03943e-09  2.06871e-09      2.8e-09  2.76227e-09  -0.00949852   0.00012839  -9.3286e-10 -0.000385497  0.000292907 -6.54357e-10     0.912954 -7.13914e-13    0.0215518 -0.000291312 -2.19347e-09 -1.97918e-09  2.88906e-09  -2.6027e-09   -0.0227038 -0.000748913 -5.43313e-11         -nan         -nan         -nan         -nan         -nan         -nan         -nan         -nan         -nan         -nan         -nan         -nan\r\n",
      " 0.000650203    0.0481031  6.52341e-11 -2.75018e-11   4.3399e-12  3.36259e-11   0.00012839   0.00949852  4.53609e-12  0.000292907  0.000385497   1.5897e-12 -7.13928e-13     0.912954 -0.000291312   -0.0215518 -1.23799e-10   1.6256e-10 -1.08764e-10 -1.05523e-10  0.000748913   -0.0227038  -1.0759e-10         -nan         -nan         -nan         -nan         -nan         -nan         -nan         -nan         -nan         -nan         -nan         -nan\r\n",
      "   0.0477611 -9.23478e-13  1.06297e-10 -2.21612e-10 -3.00527e-10 -1.43823e-10    0.0424653  4.00018e-12  1.82484e-10   0.00868325  -0.00641444  1.02977e-10    0.0215518 -0.000291312     0.952112  2.99057e-12  1.97573e-10  4.90469e-11 -2.64375e-10  6.40823e-11   0.00321145  6.24971e-05 -6.88854e-12         -nan         -nan         -nan         -nan         -nan         -nan         -nan         -nan         -nan         -nan         -nan         -nan\r\n",
      "-9.23455e-13    0.0477611 -3.16821e-11  1.88386e-10 -1.33314e-10 -1.79996e-11  4.00016e-12    0.0424653 -2.96179e-12   0.00641444   0.00868325 -5.56148e-13 -0.000291312   -0.0215518  2.99056e-12     0.952112 -2.09838e-10  -9.5461e-12 -1.54611e-10  6.08486e-12  6.24971e-05  -0.00321145 -4.80748e-10         -nan         -nan         -nan         -nan         -nan         -nan         -nan         -nan         -nan         -nan         -nan         -nan\r\n",
      " 9.90766e-11  2.98223e-10   -0.0545494  -0.00902359   -0.0143655   -0.0152248  1.62887e-10 -4.04243e-10  0.000392784 -4.73967e-11  1.80316e-09    0.0132645 -2.19347e-09 -1.23799e-10  1.97573e-10 -2.09838e-10      1.07438     0.033409   -0.0381798    0.0381798 -4.68024e-10  1.03977e-10   -0.0123381         -nan         -nan         -nan         -nan         -nan         -nan         -nan         -nan         -nan         -nan         -nan         -nan\r\n",
      "  3.0991e-10  1.07057e-11   0.00902359    0.0545494   -0.0152248   -0.0143655 -1.23661e-10 -1.32929e-11  0.000392784 -5.33256e-11  5.32911e-11    0.0132645 -1.97918e-09   1.6256e-10  4.90469e-11  -9.5461e-12     0.033409      1.07438   -0.0381798    0.0381798 -5.89208e-10  -6.9431e-11   -0.0123381         -nan         -nan         -nan         -nan         -nan         -nan         -nan         -nan         -nan         -nan         -nan         -nan\r\n",
      "-1.22476e-10  2.25297e-10   -0.0148618    0.0157211    0.0178318   -0.0457412 -2.25324e-10 -3.01724e-10 -0.000516944  1.82911e-09 -4.69767e-11   -0.0174575  2.88906e-09 -1.08764e-10 -2.64375e-10 -1.54611e-10   -0.0381798   -0.0381798      1.09562    -0.054648  6.03361e-10  1.01989e-10   -0.0113057         -nan         -nan         -nan         -nan         -nan         -nan         -nan         -nan         -nan         -nan         -nan         -nan\r\n",
      " 4.09993e-10 -1.44639e-11    0.0157211   -0.0148618    0.0457412   -0.0178318 -1.65625e-10  1.51751e-11  0.000516944 -7.92373e-11  4.10479e-11    0.0174575  -2.6027e-09 -1.05523e-10  6.40823e-11  6.08486e-12    0.0381798    0.0381798    -0.054648      1.09562 -7.76466e-10  1.88645e-11    0.0113057         -nan         -nan         -nan         -nan         -nan         -nan         -nan         -nan         -nan         -nan         -nan         -nan\r\n",
      "  -0.0559709  -0.00108923 -3.89772e-09  3.96222e-09  5.37196e-09  5.27968e-09  -0.00259781 -5.05553e-05 -1.12208e-09  -0.00899898   0.00638082 -2.78549e-10   -0.0177733  0.000586276    0.0179747  0.000349801   5.2438e-11  7.84919e-11 -6.30296e-11  9.83556e-11     0.583856 -9.32133e-12  3.01224e-10         -nan         -nan         -nan         -nan         -nan         -nan         -nan         -nan         -nan         -nan         -nan         -nan\r\n",
      " -0.00108923    0.0559709  -6.4547e-11  1.55981e-10   1.0761e-10   1.7298e-10 -5.05553e-05   0.00259781 -3.02699e-11   0.00638082   0.00899898 -7.19826e-12 -0.000586276   -0.0177733  0.000349801   -0.0179747 -1.41538e-10  -1.0654e-10 -1.15161e-10  8.87666e-11 -9.32132e-12     0.583856   4.5586e-09         -nan         -nan         -nan         -nan         -nan         -nan         -nan         -nan         -nan         -nan         -nan         -nan\r\n",
      "-6.68249e-11  4.40209e-10     0.032184    -0.032184    0.0288748    0.0288748 -2.43786e-12 -8.79161e-10  -0.00258615  1.64351e-09  2.20199e-09  -0.00132323  9.54201e-11 -7.08647e-11 -9.41556e-12 -6.09732e-10   -0.0137399   -0.0137399   -0.0109229    0.0109229  7.89495e-10  5.06132e-09      2.11589         -nan         -nan         -nan         -nan         -nan         -nan         -nan         -nan         -nan         -nan         -nan         -nan\r\n",
      "        -nan         -nan         -nan         -nan         -nan         -nan         -nan         -nan         -nan         -nan         -nan         -nan         -nan         -nan         -nan         -nan         -nan         -nan         -nan         -nan         -nan         -nan         -nan         -nan         -nan         -nan         -nan         -nan         -nan         -nan         -nan         -nan         -nan         -nan         -nan\r\n",
      "        -nan         -nan         -nan         -nan         -nan         -nan         -nan         -nan         -nan         -nan         -nan         -nan         -nan         -nan         -nan         -nan         -nan         -nan         -nan         -nan         -nan         -nan         -nan         -nan         -nan         -nan         -nan         -nan         -nan         -nan         -nan         -nan         -nan         -nan         -nan\r\n",
      "        -nan         -nan         -nan         -nan         -nan         -nan         -nan         -nan         -nan         -nan         -nan         -nan         -nan         -nan         -nan         -nan         -nan         -nan         -nan         -nan         -nan         -nan         -nan         -nan         -nan         -nan         -nan         -nan         -nan         -nan         -nan         -nan         -nan         -nan         -nan\r\n",
      "        -nan         -nan         -nan         -nan         -nan         -nan         -nan         -nan         -nan         -nan         -nan         -nan         -nan         -nan         -nan         -nan         -nan         -nan         -nan         -nan         -nan         -nan         -nan         -nan         -nan         -nan         -nan         -nan         -nan         -nan         -nan         -nan         -nan         -nan         -nan\r\n",
      "        -nan         -nan         -nan         -nan         -nan         -nan         -nan         -nan         -nan         -nan         -nan         -nan         -nan         -nan         -nan         -nan         -nan         -nan         -nan         -nan         -nan         -nan         -nan         -nan         -nan         -nan         -nan         -nan         -nan         -nan         -nan         -nan         -nan         -nan         -nan\r\n",
      "        -nan         -nan         -nan         -nan         -nan         -nan         -nan         -nan         -nan         -nan         -nan         -nan         -nan         -nan         -nan         -nan         -nan         -nan         -nan         -nan         -nan         -nan         -nan         -nan         -nan         -nan         -nan         -nan         -nan         -nan         -nan         -nan         -nan         -nan         -nan\r\n",
      "        -nan         -nan         -nan         -nan         -nan         -nan         -nan         -nan         -nan         -nan         -nan         -nan         -nan         -nan         -nan         -nan         -nan         -nan         -nan         -nan         -nan         -nan         -nan         -nan         -nan         -nan         -nan         -nan         -nan         -nan         -nan         -nan         -nan         -nan         -nan\r\n",
      "        -nan         -nan         -nan         -nan         -nan         -nan         -nan         -nan         -nan         -nan         -nan         -nan         -nan         -nan         -nan         -nan         -nan         -nan         -nan         -nan         -nan         -nan         -nan         -nan         -nan         -nan         -nan         -nan         -nan         -nan         -nan         -nan         -nan         -nan         -nan\r\n",
      "        -nan         -nan         -nan         -nan         -nan         -nan         -nan         -nan         -nan         -nan         -nan         -nan         -nan         -nan         -nan         -nan         -nan         -nan         -nan         -nan         -nan         -nan         -nan         -nan         -nan         -nan         -nan         -nan         -nan         -nan         -nan         -nan         -nan         -nan         -nan\r\n",
      "        -nan         -nan         -nan         -nan         -nan         -nan         -nan         -nan         -nan         -nan         -nan         -nan         -nan         -nan         -nan         -nan         -nan         -nan         -nan         -nan         -nan         -nan         -nan         -nan         -nan         -nan         -nan         -nan         -nan         -nan         -nan         -nan         -nan         -nan         -nan\r\n",
      "        -nan         -nan         -nan         -nan         -nan         -nan         -nan         -nan         -nan         -nan         -nan         -nan         -nan         -nan         -nan         -nan         -nan         -nan         -nan         -nan         -nan         -nan         -nan         -nan         -nan         -nan         -nan         -nan         -nan         -nan         -nan         -nan         -nan         -nan         -nan\r\n",
      "        -nan         -nan         -nan         -nan         -nan         -nan         -nan         -nan         -nan         -nan         -nan         -nan         -nan         -nan         -nan         -nan         -nan         -nan         -nan         -nan         -nan         -nan         -nan          nan          nan          nan          nan          nan          nan          nan          nan          nan          nan          nan          nan\r\n",
      "an error occurred:\r\n",
      "Small generalized eigenvalue problem failed.\r\n"
     ]
    }
   ],
   "source": [
    "!xtp_tools -c job_name=CO geometry_optimization.maxiter=1 dftpackage.basisset=3-21G dftpackage.auxbasisset=aux-def2-svp gwbse.gw.mode=G0W0 -e dftgwbse -t 4"
   ]
  },
  {
   "cell_type": "markdown",
   "metadata": {},
   "source": [
    "Notice that we are using 4 threads. The results will be stored in a file named `CO_summary.xml` in the current work directory, together with the optimization step in `optimisation.trj` and the orbitals in [hdf5 format](https://www.hdfgroup.org/solutions/hdf5/) saved on `CO.orb`."
   ]
  }
 ],
 "metadata": {
  "kernelspec": {
   "display_name": "Python 3",
   "language": "python",
   "name": "python3"
  },
  "language_info": {
   "codemirror_mode": {
    "name": "ipython",
    "version": 3
   },
   "file_extension": ".py",
   "mimetype": "text/x-python",
   "name": "python",
   "nbconvert_exporter": "python",
   "pygments_lexer": "ipython3",
   "version": "3.10.2"
  }
 },
 "nbformat": 4,
 "nbformat_minor": 4
}
