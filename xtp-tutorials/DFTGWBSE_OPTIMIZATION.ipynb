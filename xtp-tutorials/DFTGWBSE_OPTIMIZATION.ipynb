{
 "cells": [
  {
   "cell_type": "markdown",
   "metadata": {},
   "source": [
    "## DFT + GWBSE Optimization Using CO"
   ]
  },
  {
   "cell_type": "markdown",
   "metadata": {},
   "source": [
    "## Introduction\n",
    "This tutorial explains how to perform a molecular geometric optimization using the **GWBSE** method. See [the GW Compendium: A Practical Guide to Theoretical Photoemission Spectroscopy](https://doi.org/10.3389/fchem.2019.00377), for an excellent introduction to the method."
   ]
  },
  {
   "cell_type": "markdown",
   "metadata": {},
   "source": [
    "## Requirements\n",
    "* You will need to install **VOTCA** using the instructions described [here](https://github.com/votca/votca/blob/master/share/doc/INSTALL.rst)\n",
    "* Once the installation is completed you need to activate the VOTCA enviroment by running the `VOTCARC.bash` script that has been installed at the bin subfolder for the path that you have provided for the installation step above"
   ]
  },
  {
   "cell_type": "markdown",
   "metadata": {},
   "source": [
    "## Preparing the input\n",
    "To run a DFT-GWBSE calculation we will use the [xtp_tools](https://www.votca.org/xtp/xtp_tools_overview.html) calculator."
   ]
  },
  {
   "cell_type": "markdown",
   "metadata": {},
   "source": [
    "we can now change the calculator mode from single point energy calculation to optimization as follows by adding \n",
    "`-c geometry_optimization.maxiter=1` which enables optimization with one iteration. "
   ]
  },
  {
   "cell_type": "markdown",
   "metadata": {},
   "source": [
    "Because geometry optimsation is quite expensive numerically we chose a smaller basisset and G0W0 Finally, to run the calculation we just need the following command (This still takes a while)"
   ]
  },
  {
   "cell_type": "code",
   "execution_count": 1,
   "metadata": {
    "execution": {
     "iopub.execute_input": "2021-07-30T07:19:25.740143Z",
     "iopub.status.busy": "2021-07-30T07:19:25.739603Z",
     "iopub.status.idle": "2021-07-30T07:19:41.383211Z",
     "shell.execute_reply": "2021-07-30T07:19:41.382573Z"
    }
   },
   "outputs": [
    {
     "name": "stdout",
     "output_type": "stream",
     "text": [
      "==================================================\r\n",
      "========   VOTCA (http://www.votca.org)   ========\r\n",
      "==================================================\r\n",
      "\r\n",
      "please submit bugs to https://github.com/votca/xtp/issues\r\n",
      "\r\n",
      "xtp_tools, version 2022-dev gitid: d74906f (compiled Jul 30 2021, 07:11:18)\r\n",
      "votca_csg, version 2022-dev gitid: d74906f (compiled Jul 30 2021, 06:56:34)\r\n",
      "votca_tools, version 2022-dev gitid: d74906f (compiled Jul 30 2021, 06:54:46)\r\n",
      "\r\n",
      "Initializing tool\r\n",
      "... dftgwbse Evaluating tool\r\n",
      "... dftgwbse  Using 4 threads\r\n",
      "... ... Reading structure from CO.xyz\r\n",
      "... ... Requested geometry optimization of excited state s1\r\n",
      "... ... Initial state: s1\r\n",
      "... ... WARNING: No tracker is used \r\n",
      "... ... Convergence of total energy: 0.000001 Hartree \r\n",
      "... ... Convergence of RMS Force:    0.000030 Hartree/Bohr \r\n",
      "... ... Convergence of Max Force:    0.000100 Hartree/Bohr \r\n",
      "... ... Convergence of RMS Step:     0.000600 Bohr \r\n",
      "... ... Convergence of Max Step:     0.001000 Bohr \r\n",
      "... ... Initial trust radius:        0.018897 BohrA\r\n",
      "    0.307132 -3.10905e-11  4.46709e-11 -2.30833e-10  2.35549e-11   -0.0516061  8.55448e-10  7.78922e-10 -3.22589e-10    0.0181637  -0.00105884 -7.14996e-11    0.0103634    0.0375724 -2.03147e-11    0.0421019  -2.3314e-10  1.30814e-10 -3.01336e-10 -1.07078e-10 -0.000481351    -0.108408 -1.28153e-10          nan          nan          nan          nan          nan          nan          nan          nan          nan          nan          nan          nan\r\n",
      "-3.10905e-11     0.307132 -1.47176e-10  7.06495e-11   -0.0516061  2.35548e-11  9.00384e-10  1.08655e-09 -1.97456e-10   0.00105884    0.0181637  -2.2517e-10    0.0375724   -0.0103634    0.0421019 -2.03147e-11 -1.94114e-11  2.13669e-10 -9.73243e-11  5.00148e-12     0.108408 -0.000481351 -1.35037e-11          nan          nan          nan          nan          nan          nan          nan          nan          nan          nan          nan          nan\r\n",
      " 4.46709e-11 -1.47176e-10      0.32063    0.0092646  1.56583e-10  1.02946e-10    0.0133908    0.0133908  -0.00499373 -5.81925e-11 -1.46144e-11  -0.00212748 -8.94938e-11  1.83559e-10  -1.7172e-10 -2.08856e-11    0.0470552  -0.00128391  -0.00258794   -0.0152128 -1.82062e-10 -3.06004e-10   -0.0254907          nan          nan          nan          nan          nan          nan          nan          nan          nan          nan          nan          nan\r\n",
      "-2.30833e-10  7.06495e-11    0.0092646      0.32063 -1.69927e-10  3.23995e-10   -0.0133908   -0.0133908   0.00499373 -5.01127e-11   6.8736e-11   0.00212748  7.31153e-11 -1.45106e-10  6.90968e-11 -1.85895e-10  -0.00128391    0.0470552    0.0152128   0.00258794  1.68603e-10  7.90346e-10    0.0254907          nan          nan          nan          nan          nan          nan          nan          nan          nan          nan          nan          nan\r\n",
      " 2.35549e-11   -0.0516061  1.56583e-10 -1.69927e-10     0.490902 -2.90143e-12  1.80081e-09  1.37387e-09 -8.20711e-10 -0.000783493   -0.0134403  -1.9845e-10    0.0077061  -0.00212554    0.0309987   6.7107e-11 -6.52944e-11 -1.89574e-10 -1.33932e-10 -2.73753e-10   -0.0531267  0.000235893  1.67523e-10          nan          nan          nan          nan          nan          nan          nan          nan          nan          nan          nan          nan\r\n",
      "  -0.0516061  2.35548e-11  1.02946e-10  3.23995e-10 -2.90141e-12     0.490902  -2.5475e-10 -2.68095e-10  1.55113e-10   -0.0134403  0.000783493  1.93012e-11   0.00212554    0.0077061   6.7107e-11    0.0309987  1.90955e-10 -5.11343e-11  9.18425e-11 -1.63026e-10  0.000235893    0.0531267  2.48329e-10          nan          nan          nan          nan          nan          nan          nan          nan          nan          nan          nan          nan\r\n",
      " 8.55448e-10  9.00384e-10    0.0133908   -0.0133908  1.80081e-09  -2.5475e-10      0.54956     0.219665   -0.0856641 -7.15904e-12     6.44e-10   -0.0364956 -1.85339e-09  2.97896e-09 -9.22282e-10   3.1595e-10   -0.0113526  -0.00127225    0.0127111   -0.0330601 -5.12008e-10  -7.4601e-09  -0.00157392          nan          nan          nan          nan          nan          nan          nan          nan          nan          nan          nan          nan\r\n",
      " 7.78922e-10  1.08655e-09    0.0133908   -0.0133908  1.37387e-09 -2.68095e-10     0.219665      0.54956   -0.0856641  4.69626e-11  7.52305e-10   -0.0364956 -1.89184e-09  2.96258e-09 -7.15501e-10  2.13327e-10   0.00127225    0.0113526   -0.0330601    0.0127111 -4.14715e-11  -7.4429e-09  -0.00157392          nan          nan          nan          nan          nan          nan          nan          nan          nan          nan          nan          nan\r\n",
      "-3.22589e-10 -1.97456e-10  -0.00499373   0.00499373 -8.20711e-10  1.55113e-10   -0.0856641   -0.0856641     0.662947  -1.7498e-10 -2.31601e-10  -0.00632525  4.08161e-10 -7.41425e-10  5.58303e-10 -1.54321e-10   0.00131648  -0.00131648   0.00387679   0.00387679  9.19461e-10  2.85844e-09   0.00114577          nan          nan          nan          nan          nan          nan          nan          nan          nan          nan          nan          nan\r\n",
      "   0.0181637   0.00105884 -5.81925e-11 -5.01127e-11 -0.000783493   -0.0134403 -7.15904e-12  4.69626e-11  -1.7498e-10     0.680922  1.59129e-12  8.85946e-11  2.70702e-05  7.97169e-05   0.00050263   0.00862229 -3.65336e-10 -3.65847e-11  6.95976e-11  8.84055e-10   0.00220574   -0.0409682 -8.96013e-10          nan          nan          nan          nan          nan          nan          nan          nan          nan          nan          nan          nan\r\n",
      " -0.00105884    0.0181637 -1.46144e-11   6.8736e-11   -0.0134403  0.000783493     6.44e-10  7.52305e-10 -2.31601e-10  1.59144e-12     0.680922 -1.12763e-10  7.97169e-05 -2.70702e-05   0.00862229  -0.00050263 -5.78891e-11  8.72346e-10 -5.51387e-10 -1.49466e-10    0.0409682   0.00220574 -8.14855e-10          nan          nan          nan          nan          nan          nan          nan          nan          nan          nan          nan          nan\r\n",
      "-7.14996e-11  -2.2517e-10  -0.00212748   0.00212748  -1.9845e-10  1.93012e-11   -0.0364956   -0.0364956  -0.00632525  8.85946e-11 -1.12763e-10      0.79826  3.98356e-10 -4.68365e-10 -1.57966e-11 -4.96589e-11    0.0046543   -0.0046543    0.0137061    0.0137061 -8.87975e-11  8.70729e-10  0.000454151          nan          nan          nan          nan          nan          nan          nan          nan          nan          nan          nan          nan\r\n",
      "   0.0103634    0.0375724 -8.94938e-11  7.31153e-11    0.0077061   0.00212554 -1.85339e-09 -1.89184e-09  4.08161e-10  2.70702e-05  7.97169e-05  3.98356e-10     0.956418  4.28666e-11   -0.0126691  -0.00349446  3.03931e-10 -4.16136e-10  1.05014e-09  1.04953e-09   -0.0192781   0.00540961  3.06203e-11          nan          nan          nan          nan          nan          nan          nan          nan          nan          nan          nan          nan\r\n",
      "   0.0375724   -0.0103634  1.83559e-10 -1.45106e-10  -0.00212554    0.0077061  2.97896e-09  2.96258e-09 -7.41425e-10  7.97169e-05 -2.70702e-05 -4.68365e-10  4.28666e-11     0.956418   0.00349446   -0.0126691 -5.77068e-10  5.77683e-10 -1.67382e-09 -1.78602e-09   0.00540961    0.0192781 -7.94674e-12          nan          nan          nan          nan          nan          nan          nan          nan          nan          nan          nan          nan\r\n",
      "-2.03147e-11    0.0421019  -1.7172e-10  6.90968e-11    0.0309987   6.7107e-11 -9.22282e-10 -7.15501e-10  5.58303e-10   0.00050263   0.00862229 -1.57966e-11   -0.0126691   0.00349446     0.988566  3.79169e-11  8.53719e-12 -1.86395e-10  2.23292e-10 -1.98121e-11    0.0223628 -9.92953e-05  3.66102e-10          nan          nan          nan          nan          nan          nan          nan          nan          nan          nan          nan          nan\r\n",
      "   0.0421019 -2.03147e-11 -2.08856e-11 -1.85895e-10   6.7107e-11    0.0309987   3.1595e-10  2.13327e-10 -1.54321e-10   0.00862229  -0.00050263 -4.96589e-11  -0.00349446   -0.0126691   3.7917e-11     0.988566   1.2203e-10  1.21074e-10 -1.17912e-11 -1.89649e-10 -9.92953e-05   -0.0223628  4.45731e-10          nan          nan          nan          nan          nan          nan          nan          nan          nan          nan          nan          nan\r\n",
      " -2.3314e-10 -1.94114e-11    0.0470552  -0.00128391 -6.52944e-11  1.90955e-10   -0.0113526   0.00127225   0.00131648 -3.65336e-10 -5.78891e-11    0.0046543  3.03931e-10 -5.77068e-10  8.53719e-12   1.2203e-10       1.0332  -0.00656508    0.0132431    0.0132431  5.77037e-11  5.06364e-10  -0.00427292          nan          nan          nan          nan          nan          nan          nan          nan          nan          nan          nan          nan\r\n",
      " 1.30814e-10  2.13669e-10  -0.00128391    0.0470552 -1.89574e-10 -5.11343e-11  -0.00127225    0.0113526  -0.00131648 -3.65847e-11  8.72346e-10   -0.0046543 -4.16136e-10  5.77683e-10 -1.86395e-10  1.21074e-10  -0.00656508       1.0332   -0.0132431   -0.0132431 -6.23362e-11 -5.85413e-10   0.00427292          nan          nan          nan          nan          nan          nan          nan          nan          nan          nan          nan          nan\r\n",
      "-3.01336e-10 -9.73243e-11  -0.00258794    0.0152128 -1.33932e-10  9.18425e-11    0.0127111   -0.0330601   0.00387679  6.95976e-11 -5.51387e-10    0.0137061  1.05014e-09 -1.67382e-09  2.23292e-10 -1.17912e-11    0.0132431   -0.0132431      1.06771    0.0410665  2.87439e-10  1.40595e-09   0.00205068          nan          nan          nan          nan          nan          nan          nan          nan          nan          nan          nan          nan\r\n",
      "-1.07078e-10  5.00148e-12   -0.0152128   0.00258794 -2.73753e-10 -1.63026e-10   -0.0330601    0.0127111   0.00387679  8.84055e-10 -1.49466e-10    0.0137061  1.04953e-09 -1.78602e-09 -1.98121e-11 -1.89649e-10    0.0132431   -0.0132431    0.0410665      1.06771  2.10064e-10  1.41068e-09   0.00205068          nan          nan          nan          nan          nan          nan          nan          nan          nan          nan          nan          nan\r\n",
      " 0.000334109   -0.0752465  2.48654e-10 -3.00528e-10    0.0690159 -0.000306444  1.37602e-09  1.00802e-09 -9.70823e-10  -0.00166421   -0.0309101  4.52353e-11   0.00866853  -0.00243247   -0.0364086  0.000161661 -1.19903e-10  1.21174e-10 -4.87762e-10 -4.84973e-10    -0.194424 -2.24947e-10 -3.79932e-09          nan          nan          nan          nan          nan          nan          nan          nan          nan          nan          nan          nan\r\n",
      "   0.0752465  0.000334109  1.79067e-10 -5.58543e-10 -0.000306444   -0.0690159  5.06023e-09  5.10943e-09 -2.26136e-09    0.0309101  -0.00166421 -7.95697e-10  -0.00243247  -0.00866853  0.000161661    0.0364086 -4.43866e-10  4.49095e-10 -1.20876e-09 -1.21001e-09 -2.24947e-10    -0.194424  1.19834e-09          nan          nan          nan          nan          nan          nan          nan          nan          nan          nan          nan          nan\r\n",
      "-3.04774e-10 -4.79445e-10   -0.0141829    0.0141829  4.11064e-10  1.86416e-10    0.0043905    0.0043905   -0.0013321  -1.1424e-09 -1.07753e-09 -0.000533942  7.68912e-11  1.04391e-10 -4.14642e-11  1.63497e-10  -0.00597821   0.00597821   0.00149923   0.00149923 -3.89371e-09  1.34904e-09     0.958372          nan          nan          nan          nan          nan          nan          nan          nan          nan          nan          nan          nan\r\n",
      "        -nan         -nan         -nan         -nan         -nan         -nan         -nan         -nan         -nan         -nan         -nan         -nan         -nan         -nan         -nan         -nan         -nan         -nan         -nan         -nan         -nan         -nan         -nan          nan          nan          nan          nan          nan          nan          nan          nan          nan          nan          nan          nan\r\n",
      "        -nan         -nan         -nan         -nan         -nan         -nan         -nan         -nan         -nan         -nan         -nan         -nan         -nan         -nan         -nan         -nan         -nan         -nan         -nan         -nan         -nan         -nan         -nan         -nan         -nan         -nan         -nan         -nan         -nan         -nan         -nan         -nan         -nan         -nan         -nan\r\n",
      "        -nan         -nan         -nan         -nan         -nan         -nan         -nan         -nan         -nan         -nan         -nan         -nan         -nan         -nan         -nan         -nan         -nan         -nan         -nan         -nan         -nan         -nan         -nan         -nan         -nan         -nan         -nan         -nan         -nan         -nan         -nan         -nan         -nan         -nan         -nan\r\n",
      "        -nan         -nan         -nan         -nan         -nan         -nan         -nan         -nan         -nan         -nan         -nan         -nan         -nan         -nan         -nan         -nan         -nan         -nan         -nan         -nan         -nan         -nan         -nan          nan          nan          nan          nan          nan          nan          nan          nan          nan          nan          nan          nan\r\n",
      "        -nan         -nan         -nan         -nan         -nan         -nan         -nan         -nan         -nan         -nan         -nan         -nan         -nan         -nan         -nan         -nan         -nan         -nan         -nan         -nan         -nan         -nan         -nan          nan          nan          nan          nan          nan          nan          nan          nan          nan          nan          nan          nan\r\n",
      "        -nan         -nan         -nan         -nan         -nan         -nan         -nan         -nan         -nan         -nan         -nan         -nan         -nan         -nan         -nan         -nan         -nan         -nan         -nan         -nan         -nan         -nan         -nan         -nan         -nan         -nan         -nan         -nan         -nan         -nan         -nan         -nan         -nan         -nan         -nan\r\n",
      "        -nan         -nan         -nan         -nan         -nan         -nan         -nan         -nan         -nan         -nan         -nan         -nan         -nan         -nan         -nan         -nan         -nan         -nan         -nan         -nan         -nan         -nan         -nan         -nan         -nan         -nan         -nan         -nan         -nan         -nan         -nan         -nan         -nan         -nan         -nan\r\n",
      "        -nan         -nan         -nan         -nan         -nan         -nan         -nan         -nan         -nan         -nan         -nan         -nan         -nan         -nan         -nan         -nan         -nan         -nan         -nan         -nan         -nan         -nan         -nan          nan          nan          nan          nan          nan          nan          nan          nan          nan          nan          nan          nan\r\n",
      "        -nan         -nan         -nan         -nan         -nan         -nan         -nan         -nan         -nan         -nan         -nan         -nan         -nan         -nan         -nan         -nan         -nan         -nan         -nan         -nan         -nan         -nan         -nan          nan          nan          nan          nan          nan          nan          nan          nan          nan          nan          nan          nan\r\n",
      "        -nan         -nan         -nan         -nan         -nan         -nan         -nan         -nan         -nan         -nan         -nan         -nan         -nan         -nan         -nan         -nan         -nan         -nan         -nan         -nan         -nan         -nan         -nan         -nan          nan          nan          nan         -nan          nan          nan          nan         -nan          nan          nan          nan\r\n",
      "        -nan         -nan         -nan         -nan         -nan         -nan         -nan         -nan         -nan         -nan         -nan         -nan         -nan         -nan         -nan         -nan         -nan         -nan         -nan         -nan         -nan         -nan         -nan         -nan          nan          nan          nan         -nan          nan          nan          nan         -nan          nan          nan          nan\r\n",
      "        -nan         -nan         -nan         -nan         -nan         -nan         -nan         -nan         -nan         -nan         -nan         -nan         -nan         -nan         -nan         -nan         -nan         -nan         -nan         -nan         -nan         -nan         -nan         -nan         -nan         -nan         -nan         -nan         -nan         -nan         -nan         -nan         -nan         -nan         -nan\r\n",
      "B\r\n",
      "    0.093811 -1.38204e-11  1.68343e-11 -1.31248e-10  1.44868e-11   -0.0328898  3.54462e-10   2.9958e-10 -1.98309e-10    0.0155308 -0.000905359 -3.66305e-11    0.0128504    0.0465889 -2.36034e-11    0.0481429 -2.87523e-10  1.38744e-10 -3.10608e-10 -3.80072e-11 -0.000111483   -0.0251078 -4.01036e-10         -nan         -nan         -nan         -nan         -nan         -nan         -nan         -nan         -nan         -nan         -nan         -nan\r\n",
      "-1.38204e-11     0.093811 -9.49984e-11  4.01162e-11   -0.0328898  1.44867e-11  3.69181e-10  4.83595e-10 -1.23125e-10  0.000905359    0.0155308 -1.66767e-10    0.0465889   -0.0128504    0.0481429 -2.36034e-11 -1.28511e-11  2.85452e-10 -7.55515e-11  7.32282e-11    0.0251078 -0.000111484 -5.11114e-10         -nan         -nan         -nan         -nan         -nan         -nan         -nan         -nan         -nan         -nan         -nan         -nan\r\n",
      " 1.68343e-11 -9.49984e-11     0.105883   0.00529873  1.02776e-10  7.14852e-11   0.00678376   0.00678376   -0.0036722 -5.18365e-11 -2.02176e-11  -0.00166812 -9.66585e-11  2.03596e-10 -2.10704e-10 -2.54173e-11    0.0640598  -0.00170132    -0.002483    -0.019683  6.25238e-11 -1.11656e-11   -0.0418853         -nan         -nan         -nan         -nan         -nan         -nan         -nan         -nan         -nan         -nan         -nan         -nan\r\n",
      "-1.31248e-10  4.01162e-11   0.00529873     0.105883 -1.09874e-10  2.29109e-10  -0.00678376  -0.00678376    0.0036722 -5.46522e-11    7.114e-11   0.00166812  7.34249e-11 -1.53317e-10  7.36134e-11 -2.18499e-10  -0.00170132    0.0640598     0.019683     0.002483 -1.33589e-10  1.11419e-10    0.0418853         -nan         -nan         -nan         -nan         -nan         -nan         -nan         -nan         -nan         -nan         -nan         -nan\r\n",
      " 1.44868e-11   -0.0328898  1.02776e-10 -1.09874e-10     0.240891 -6.98478e-13  1.10442e-09  8.03823e-10 -6.98449e-10 -0.000841975   -0.0144435 -1.60497e-10   0.00881428   -0.0024312    0.0441772  9.32829e-11 -5.67149e-11 -3.34167e-10 -5.76072e-11 -2.87364e-10   0.00438142 -1.94543e-05  5.20843e-10         -nan         -nan         -nan         -nan         -nan         -nan         -nan         -nan         -nan         -nan         -nan         -nan\r\n",
      "  -0.0328898  1.44867e-11  7.14852e-11  2.29109e-10 -6.98468e-13     0.240891 -1.39864e-10 -1.46962e-10   1.2437e-10   -0.0144435  0.000841975  9.92251e-12    0.0024312   0.00881428  9.32829e-11    0.0441772  2.79757e-10 -5.00003e-11  1.11406e-10 -2.79476e-10 -1.94543e-05  -0.00438142  4.31875e-10         -nan         -nan         -nan         -nan         -nan         -nan         -nan         -nan         -nan         -nan         -nan         -nan\r\n",
      " 3.54462e-10  3.69181e-10   0.00678376  -0.00678376  1.10442e-09 -1.39864e-10     0.221859     0.110677   -0.0629941 -1.35224e-12  4.62576e-10   -0.0286155 -1.92632e-09   3.2249e-09 -1.03139e-09   3.2896e-10   -0.0100841  -0.00711592    0.0330994   -0.0292591  8.01317e-10 -3.84239e-10   0.00293569         -nan         -nan         -nan         -nan         -nan         -nan         -nan         -nan         -nan         -nan         -nan         -nan\r\n",
      "  2.9958e-10  4.83595e-10   0.00678376  -0.00678376  8.03823e-10 -1.46962e-10     0.110677     0.221859   -0.0629941  4.95702e-11  5.69065e-10   -0.0286155  -1.9766e-09  3.20166e-09  -7.8747e-10   1.9187e-10   0.00711592    0.0100841   -0.0292591    0.0330994   8.9876e-10 -3.12196e-10   0.00293569         -nan         -nan         -nan         -nan         -nan         -nan         -nan         -nan         -nan         -nan         -nan         -nan\r\n",
      "-1.98309e-10 -1.23125e-10   -0.0036722    0.0036722 -6.98449e-10   1.2437e-10   -0.0629941   -0.0629941     0.429278 -2.25279e-10 -2.34121e-10   -0.0121538   4.5611e-10 -9.09272e-10  7.69075e-10 -2.09062e-10 -6.20652e-06  6.20654e-06 -1.82771e-05 -1.82771e-05  7.44482e-11  5.84291e-10   6.0085e-05         -nan         -nan         -nan         -nan         -nan         -nan         -nan         -nan         -nan         -nan         -nan         -nan\r\n",
      "   0.0155308  0.000905359 -5.18365e-11 -5.46522e-11 -0.000841975   -0.0144435 -1.35224e-12  4.95702e-11 -2.25279e-10     0.463967  2.12512e-12  1.17682e-10  0.000207974  0.000612445  0.000603806    0.0103579 -6.15561e-10 -6.26116e-11  1.11944e-10  1.49086e-09  0.000953467   -0.0177092  -1.8677e-09         -nan         -nan         -nan         -nan         -nan         -nan         -nan         -nan         -nan         -nan         -nan         -nan\r\n",
      "-0.000905359    0.0155308 -2.02176e-11    7.114e-11   -0.0144435  0.000841975  4.62576e-10  5.69065e-10 -2.34121e-10  2.12534e-12     0.463967 -1.09253e-10  0.000612445 -0.000207974    0.0103579 -0.000603806 -7.68678e-11  1.45579e-09 -8.66402e-10 -1.88229e-10    0.0177092  0.000953467  -1.7778e-09         -nan         -nan         -nan         -nan         -nan         -nan         -nan         -nan         -nan         -nan         -nan         -nan\r\n",
      "-3.66305e-11 -1.66767e-10  -0.00166812   0.00166812 -1.60497e-10  9.92251e-12   -0.0286155   -0.0286155   -0.0121538  1.17682e-10 -1.09253e-10     0.636067   5.4744e-10 -6.15485e-10 -6.46785e-11   -6.619e-11   0.00672951  -0.00672951    0.0198172    0.0198172 -1.03281e-10 -8.60599e-12  4.62141e-05         -nan         -nan         -nan         -nan         -nan         -nan         -nan         -nan         -nan         -nan         -nan         -nan\r\n",
      "   0.0128504    0.0465889 -9.66585e-11  7.34249e-11   0.00881428    0.0024312 -1.92632e-09  -1.9766e-09   4.5611e-10  0.000207974  0.000612445   5.4744e-10     0.917068  7.51497e-11    -0.021489   -0.0059272  5.28706e-10 -7.58528e-10  1.85819e-09  1.85366e-09   -0.0223816   0.00628049  1.65354e-10         -nan         -nan         -nan         -nan         -nan         -nan         -nan         -nan         -nan         -nan         -nan         -nan\r\n",
      "   0.0465889   -0.0128504  2.03596e-10 -1.53317e-10   -0.0024312   0.00881428   3.2249e-09  3.20166e-09 -9.09272e-10  0.000612445 -0.000207974 -6.15485e-10  7.51497e-11     0.917068    0.0059272    -0.021489  -1.0246e-09  1.02913e-09 -2.98489e-09 -3.21471e-09   0.00628049    0.0223816  1.26244e-10         -nan         -nan         -nan         -nan         -nan         -nan         -nan         -nan         -nan         -nan         -nan         -nan\r\n",
      "-2.36034e-11    0.0481429 -2.10704e-10  7.36134e-11    0.0441772  9.32829e-11 -1.03139e-09  -7.8747e-10  7.69075e-10  0.000603806    0.0103579 -6.46785e-11    -0.021489    0.0059272     0.981535  7.30873e-11 -3.50681e-12 -3.06075e-10  3.62749e-10 -7.51744e-11  -0.00424838  1.88636e-05  3.17209e-10         -nan         -nan         -nan         -nan         -nan         -nan         -nan         -nan         -nan         -nan         -nan         -nan\r\n",
      "   0.0481429 -2.36034e-11 -2.54173e-11 -2.18499e-10  9.32829e-11    0.0441772   3.2896e-10   1.9187e-10 -2.09062e-10    0.0103579 -0.000603806   -6.619e-11   -0.0059272    -0.021489  7.30874e-11     0.981535  2.22754e-10   2.1517e-10 -7.18728e-12 -3.16769e-10  1.88636e-05   0.00424838   6.7577e-10         -nan         -nan         -nan         -nan         -nan         -nan         -nan         -nan         -nan         -nan         -nan         -nan\r\n",
      "-2.87523e-10 -1.28511e-11    0.0640598  -0.00170132 -5.67149e-11  2.79757e-10   -0.0100841   0.00711592 -6.20652e-06 -6.15561e-10 -7.68678e-11   0.00672951  5.28706e-10  -1.0246e-09 -3.50681e-12  2.22754e-10      1.06908   -0.0128077    0.0247467    0.0247467 -4.20692e-11  2.29733e-10   -0.0150504         -nan         -nan         -nan         -nan         -nan         -nan         -nan         -nan         -nan         -nan         -nan         -nan\r\n",
      " 1.38744e-10  2.85452e-10  -0.00170132    0.0640598 -3.34167e-10 -5.00003e-11  -0.00711592    0.0100841  6.20654e-06 -6.26116e-11  1.45579e-09  -0.00672951 -7.58528e-10  1.02913e-09 -3.06075e-10   2.1517e-10   -0.0128077      1.06908   -0.0247467   -0.0247467  1.38968e-10 -2.90872e-10    0.0150504         -nan         -nan         -nan         -nan         -nan         -nan         -nan         -nan         -nan         -nan         -nan         -nan\r\n",
      "-3.10608e-10 -7.55515e-11    -0.002483     0.019683 -5.76072e-11  1.11406e-10    0.0330994   -0.0292591 -1.82771e-05  1.11944e-10 -8.66402e-10    0.0198172  1.85819e-09 -2.98489e-09  3.62749e-10 -7.18728e-12    0.0247467   -0.0247467      1.13355    0.0772786 -1.19005e-10  4.33547e-10   0.00545444         -nan         -nan         -nan         -nan         -nan         -nan         -nan         -nan         -nan         -nan         -nan         -nan\r\n",
      "-3.80072e-11  7.32282e-11    -0.019683     0.002483 -2.87364e-10 -2.79476e-10   -0.0292591    0.0330994 -1.82771e-05  1.49086e-09 -1.88229e-10    0.0198172  1.85366e-09 -3.21471e-09 -7.51744e-11 -3.16769e-10    0.0247467   -0.0247467    0.0772786      1.13355 -1.80359e-10  3.36919e-10   0.00545444         -nan         -nan         -nan         -nan         -nan         -nan         -nan         -nan         -nan         -nan         -nan         -nan\r\n",
      "-0.000254675    0.0573567    -5.16e-13 -4.61248e-11   0.00347861 -1.54457e-05  3.28684e-10  5.33296e-10  3.88873e-12  0.000548672    0.0101908  2.32943e-11   -0.0179478   0.00503633   -0.0191591  8.50703e-05 -1.28231e-14 -9.07575e-11  -5.0508e-11 -2.62746e-10     0.600541 -2.25465e-10 -2.81268e-09         -nan         -nan         -nan         -nan         -nan         -nan         -nan         -nan         -nan         -nan         -nan         -nan\r\n",
      "  -0.0573567 -0.000254675  -1.6453e-10  3.71364e-10 -1.54457e-05  -0.00347861 -3.85756e-09 -3.80959e-09  6.45021e-10   -0.0101908  0.000548672  1.38948e-10   0.00503633    0.0179478  8.50703e-05    0.0191591 -1.49313e-10 -6.08556e-11 -1.42188e-10  -5.1316e-11 -2.25465e-10     0.600541  7.02793e-11         -nan         -nan         -nan         -nan         -nan         -nan         -nan         -nan         -nan         -nan         -nan         -nan\r\n",
      "-3.28116e-10  -3.2133e-10   -0.0423661    0.0423661  6.07704e-10  5.83131e-10   0.00290523   0.00290523 -0.000442807 -1.66942e-09 -1.60319e-09 -0.000216798  1.09866e-10  1.72886e-10  4.07701e-10  8.27817e-10   -0.0160926    0.0160926   0.00533628   0.00533628 -3.14898e-09  5.25055e-10      1.98492         -nan         -nan         -nan         -nan         -nan         -nan         -nan         -nan         -nan         -nan         -nan         -nan\r\n",
      "        -nan         -nan         -nan         -nan         -nan         -nan         -nan         -nan         -nan         -nan         -nan         -nan         -nan         -nan         -nan         -nan         -nan         -nan         -nan         -nan         -nan         -nan         -nan         -nan         -nan         -nan         -nan         -nan         -nan         -nan         -nan         -nan         -nan         -nan         -nan\r\n",
      "        -nan         -nan         -nan         -nan         -nan         -nan         -nan         -nan         -nan         -nan         -nan         -nan         -nan         -nan         -nan         -nan         -nan         -nan         -nan         -nan         -nan         -nan         -nan         -nan         -nan         -nan         -nan         -nan         -nan         -nan         -nan         -nan         -nan         -nan         -nan\r\n",
      "        -nan         -nan         -nan         -nan         -nan         -nan         -nan         -nan         -nan         -nan         -nan         -nan         -nan         -nan         -nan         -nan         -nan         -nan         -nan         -nan         -nan         -nan         -nan         -nan         -nan         -nan         -nan         -nan         -nan         -nan         -nan         -nan         -nan         -nan         -nan\r\n",
      "        -nan         -nan         -nan         -nan         -nan         -nan         -nan         -nan         -nan         -nan         -nan         -nan         -nan         -nan         -nan         -nan         -nan         -nan         -nan         -nan         -nan         -nan         -nan         -nan         -nan         -nan         -nan         -nan         -nan         -nan         -nan         -nan         -nan         -nan         -nan\r\n",
      "        -nan         -nan         -nan         -nan         -nan         -nan         -nan         -nan         -nan         -nan         -nan         -nan         -nan         -nan         -nan         -nan         -nan         -nan         -nan         -nan         -nan         -nan         -nan         -nan         -nan         -nan         -nan         -nan         -nan         -nan         -nan         -nan         -nan         -nan         -nan\r\n",
      "        -nan         -nan         -nan         -nan         -nan         -nan         -nan         -nan         -nan         -nan         -nan         -nan         -nan         -nan         -nan         -nan         -nan         -nan         -nan         -nan         -nan         -nan         -nan         -nan         -nan         -nan         -nan         -nan         -nan         -nan         -nan         -nan         -nan         -nan         -nan\r\n",
      "        -nan         -nan         -nan         -nan         -nan         -nan         -nan         -nan         -nan         -nan         -nan         -nan         -nan         -nan         -nan         -nan         -nan         -nan         -nan         -nan         -nan         -nan         -nan         -nan         -nan         -nan         -nan         -nan         -nan         -nan         -nan         -nan         -nan         -nan         -nan\r\n",
      "        -nan         -nan         -nan         -nan         -nan         -nan         -nan         -nan         -nan         -nan         -nan         -nan         -nan         -nan         -nan         -nan         -nan         -nan         -nan         -nan         -nan         -nan         -nan         -nan         -nan         -nan         -nan         -nan         -nan         -nan         -nan         -nan         -nan         -nan         -nan\r\n",
      "        -nan         -nan         -nan         -nan         -nan         -nan         -nan         -nan         -nan         -nan         -nan         -nan         -nan         -nan         -nan         -nan         -nan         -nan         -nan         -nan         -nan         -nan         -nan         -nan         -nan         -nan         -nan         -nan         -nan         -nan         -nan         -nan         -nan         -nan         -nan\r\n",
      "        -nan         -nan         -nan         -nan         -nan         -nan         -nan         -nan         -nan         -nan         -nan         -nan         -nan         -nan         -nan         -nan         -nan         -nan         -nan         -nan         -nan         -nan         -nan         -nan         -nan         -nan         -nan         -nan         -nan         -nan         -nan         -nan         -nan         -nan         -nan\r\n",
      "        -nan         -nan         -nan         -nan         -nan         -nan         -nan         -nan         -nan         -nan         -nan         -nan         -nan         -nan         -nan         -nan         -nan         -nan         -nan         -nan         -nan         -nan         -nan         -nan         -nan         -nan         -nan         -nan         -nan         -nan         -nan         -nan         -nan         -nan         -nan\r\n",
      "        -nan         -nan         -nan         -nan         -nan         -nan         -nan         -nan         -nan         -nan         -nan         -nan         -nan         -nan         -nan         -nan         -nan         -nan         -nan         -nan         -nan         -nan         -nan          nan          nan          nan          nan          nan          nan          nan          nan          nan          nan          nan          nan\r\n",
      "an error occurred:\r\n",
      "Small generalized eigenvalue problem failed.\r\n"
     ]
    }
   ],
   "source": [
    "!xtp_tools -c job_name=CO geometry_optimization.maxiter=1 dftpackage.basisset=3-21G dftpackage.auxbasisset=aux-def2-svp gwbse.gw.mode=G0W0 -e dftgwbse -t 4"
   ]
  },
  {
   "cell_type": "markdown",
   "metadata": {},
   "source": [
    "Notice that we are using 4 threads. The results will be stored in a file named `CO_summary.xml` in the current work directory, together with the optimization step in `optimisation.trj` and the orbitals in [hdf5 format](https://www.hdfgroup.org/solutions/hdf5/) saved on `CO.orb`."
   ]
  }
 ],
 "metadata": {
  "kernelspec": {
   "display_name": "Python 3",
   "language": "python",
   "name": "python3"
  },
  "language_info": {
   "codemirror_mode": {
    "name": "ipython",
    "version": 3
   },
   "file_extension": ".py",
   "mimetype": "text/x-python",
   "name": "python",
   "nbconvert_exporter": "python",
   "pygments_lexer": "ipython3",
   "version": "3.9.6"
  }
 },
 "nbformat": 4,
 "nbformat_minor": 4
}
