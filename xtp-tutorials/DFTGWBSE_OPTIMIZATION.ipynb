{
 "cells": [
  {
   "cell_type": "markdown",
   "metadata": {},
   "source": [
    "## DFT + GWBSE Optimization Using CO"
   ]
  },
  {
   "cell_type": "markdown",
   "metadata": {},
   "source": [
    "## Introduction\n",
    "This tutorial explains how to perform a molecular geometric optimization using the **GWBSE** method. See [the GW Compendium: A Practical Guide to Theoretical Photoemission Spectroscopy](https://doi.org/10.3389/fchem.2019.00377), for an excellent introduction to the method."
   ]
  },
  {
   "cell_type": "markdown",
   "metadata": {},
   "source": [
    "## Requirements\n",
    "* You will need to install **VOTCA** using the instructions described [here](https://github.com/votca/votca/blob/master/share/doc/INSTALL.rst)\n",
    "* Once the installation is completed you need to activate the VOTCA enviroment by running the `VOTCARC.bash` script that has been installed at the bin subfolder for the path that you have provided for the installation step above"
   ]
  },
  {
   "cell_type": "markdown",
   "metadata": {},
   "source": [
    "## Preparing the input\n",
    "To run a DFT-GWBSE calculation we will use the [xtp_tools](https://www.votca.org/xtp/xtp_tools_overview.html) calculator."
   ]
  },
  {
   "cell_type": "markdown",
   "metadata": {},
   "source": [
    "we can now change the calculator mode from single point energy calculation to optimization as follows by adding \n",
    "`-c geometry_optimization.maxiter=1` which enables optimization with one iteration. "
   ]
  },
  {
   "cell_type": "markdown",
   "metadata": {},
   "source": [
    "Because geometry optimsation is quite expensive numerically we chose a smaller basisset and G0W0 Finally, to run the calculation we just need the following command (This still takes a while)"
   ]
  },
  {
   "cell_type": "code",
   "execution_count": 1,
   "metadata": {
    "execution": {
     "iopub.execute_input": "2022-04-07T22:29:22.029914Z",
     "iopub.status.busy": "2022-04-07T22:29:22.029431Z",
     "iopub.status.idle": "2022-04-07T22:29:58.471913Z",
     "shell.execute_reply": "2022-04-07T22:29:58.471432Z"
    }
   },
   "outputs": [
    {
     "name": "stdout",
     "output_type": "stream",
     "text": [
      "==================================================\r\n",
      "========   VOTCA (http://www.votca.org)   ========\r\n",
      "==================================================\r\n",
      "\r\n",
      "please submit bugs to https://github.com/votca/xtp/issues\r\n",
      "\r\n",
      "xtp_tools, version 2023-dev gitid: 9f6d0dd (compiled Apr  7 2022, 22:21:48)\r\n",
      "votca_csg, version 2023-dev gitid: 9f6d0dd (compiled Apr  7 2022, 22:08:48)\r\n",
      "votca_tools, version 2023-dev gitid: 9f6d0dd (compiled Apr  7 2022, 22:06:21)\r\n",
      "\r\n",
      "Initializing tool\r\n",
      "... dftgwbse Evaluating tool\r\n",
      "... dftgwbse  Using 4 threads\r\n",
      "... ... Reading structure from CO.xyz\r\n",
      "... ... Requested geometry optimization of excited state s1\r\n",
      "... ... Initial state: s1\r\n",
      "... ... WARNING: No tracker is used \r\n",
      "... ... Convergence of total energy: 0.000001 Hartree \r\n",
      "... ... Convergence of RMS Force:    0.000030 Hartree/Bohr \r\n",
      "... ... Convergence of Max Force:    0.000100 Hartree/Bohr \r\n",
      "... ... Convergence of RMS Step:     0.000600 Bohr \r\n",
      "... ... Convergence of Max Step:     0.001000 Bohr \r\n",
      "... ... Initial trust radius:        0.018897 BohrA\r\n",
      "    0.307132  -3.1104e-11  4.47084e-11  -2.3087e-10  2.35667e-11   -0.0516061   8.5541e-10  7.78883e-10 -3.22583e-10    0.0181637  -0.00105959 -7.14923e-11    0.0103695    0.0375707 -2.03254e-11    0.0421019 -2.33163e-10  1.30867e-10 -3.01305e-10 -1.07032e-10  0.000482034    -0.108408 -1.28142e-10          nan          nan          nan          nan          nan          nan          nan          nan          nan          nan          nan          nan\r\n",
      " -3.1104e-11     0.307132 -1.47131e-10  7.06033e-11   -0.0516061  2.35668e-11  9.00412e-10  1.08657e-09 -1.97465e-10   0.00105959    0.0181637 -2.25172e-10    0.0375707   -0.0103695    0.0421019 -2.03255e-11 -1.94189e-11  2.13692e-10  -9.7292e-11   5.0042e-12    -0.108408 -0.000482034 -1.35176e-11          nan          nan          nan          nan          nan          nan          nan          nan          nan          nan          nan          nan\r\n",
      " 4.47084e-11 -1.47131e-10     0.320631   0.00926349  1.56646e-10   1.0293e-10    0.0134003    0.0134003  -0.00499728 -5.81904e-11 -1.45836e-11    -0.002129 -8.95362e-11  1.83699e-10 -1.71752e-10 -2.08703e-11    0.0470521  -0.00128292  -0.00258957   -0.0152219   1.8206e-10 -3.06319e-10   -0.0254908          nan          nan          nan          nan          nan          nan          nan          nan          nan          nan          nan          nan\r\n",
      " -2.3087e-10  7.06033e-11   0.00926349     0.320631 -1.69987e-10  3.24011e-10   -0.0134003   -0.0134003   0.00499728 -5.01122e-11  6.87087e-11     0.002129  7.31641e-11 -1.45244e-10  6.91271e-11 -1.85909e-10  -0.00128292    0.0470521    0.0152219   0.00258957 -1.68601e-10   7.9066e-10    0.0254908          nan          nan          nan          nan          nan          nan          nan          nan          nan          nan          nan          nan\r\n",
      " 2.35667e-11   -0.0516061  1.56646e-10 -1.69987e-10     0.490902 -2.90089e-12  1.80079e-09  1.37385e-09 -8.20705e-10 -0.000784049   -0.0134403 -1.98448e-10   0.00770575  -0.00212679    0.0309987  6.71402e-11 -6.53423e-11 -1.89548e-10 -1.33965e-10 -2.73747e-10    0.0531267  0.000236228  1.67522e-10          nan          nan          nan          nan          nan          nan          nan          nan          nan          nan          nan          nan\r\n",
      "  -0.0516061  2.35668e-11   1.0293e-10  3.24011e-10  -2.9009e-12     0.490902 -2.54798e-10 -2.68139e-10  1.55139e-10   -0.0134403  0.000784049  1.93072e-11   0.00212679   0.00770575  6.71402e-11    0.0309987  1.90926e-10 -5.11447e-11   9.1835e-11 -1.63055e-10 -0.000236228    0.0531267  2.48318e-10          nan          nan          nan          nan          nan          nan          nan          nan          nan          nan          nan          nan\r\n",
      "  8.5541e-10  9.00412e-10    0.0134003   -0.0134003  1.80079e-09 -2.54798e-10     0.549559     0.219664   -0.0856638 -7.15472e-12  6.44001e-10   -0.0364955  -1.8528e-09  2.97931e-09 -9.22267e-10  3.15975e-10   -0.0113594  -0.00127289    0.0127115   -0.0330577  5.11825e-10  -7.4601e-09  -0.00157442          nan          nan          nan          nan          nan          nan          nan          nan          nan          nan          nan          nan\r\n",
      " 7.78883e-10  1.08657e-09    0.0134003   -0.0134003  1.37385e-09 -2.68139e-10     0.219664     0.549559   -0.0856638  4.69704e-11  7.52303e-10   -0.0364955 -1.89126e-09  2.96294e-09 -7.15488e-10   2.1335e-10   0.00127288    0.0113594   -0.0330577    0.0127115  4.12882e-11  -7.4429e-09  -0.00157442          nan          nan          nan          nan          nan          nan          nan          nan          nan          nan          nan          nan\r\n",
      "-3.22583e-10 -1.97465e-10  -0.00499728   0.00499728 -8.20705e-10  1.55139e-10   -0.0856638   -0.0856638     0.662947 -1.74982e-10 -2.31599e-10  -0.00632525  4.08016e-10 -7.41504e-10  5.58298e-10 -1.54339e-10   0.00131727  -0.00131727   0.00387652   0.00387652 -9.19393e-10  2.85847e-09   0.00114636          nan          nan          nan          nan          nan          nan          nan          nan          nan          nan          nan          nan\r\n",
      "   0.0181637   0.00105959 -5.81904e-11 -5.01122e-11 -0.000784049   -0.0134403 -7.15472e-12  4.69704e-11 -1.74982e-10     0.680922  1.59117e-12  8.85932e-11  2.70865e-05  7.97114e-05  0.000502987   0.00862226 -3.65166e-10 -3.65982e-11  6.95885e-11  8.84124e-10  -0.00220718   -0.0409681 -8.96016e-10          nan          nan          nan          nan          nan          nan          nan          nan          nan          nan          nan          nan\r\n",
      " -0.00105959    0.0181637 -1.45836e-11  6.87087e-11   -0.0134403  0.000784049  6.44001e-10  7.52303e-10 -2.31599e-10  1.59128e-12     0.680922 -1.12763e-10  7.97114e-05 -2.70865e-05   0.00862226 -0.000502987 -5.79197e-11  8.72455e-10 -5.51218e-10 -1.49454e-10   -0.0409681   0.00220718 -8.14854e-10          nan          nan          nan          nan          nan          nan          nan          nan          nan          nan          nan          nan\r\n",
      "-7.14923e-11 -2.25172e-10    -0.002129     0.002129 -1.98448e-10  1.93072e-11   -0.0364955   -0.0364955  -0.00632525  8.85932e-11 -1.12763e-10      0.79826  3.98265e-10 -4.68443e-10 -1.57983e-11 -4.96584e-11   0.00465709  -0.00465709    0.0137051    0.0137051  8.88176e-11  8.70729e-10  0.000454372          nan          nan          nan          nan          nan          nan          nan          nan          nan          nan          nan          nan\r\n",
      "   0.0103695    0.0375707 -8.95362e-11  7.31641e-11   0.00770575   0.00212679  -1.8528e-09 -1.89126e-09  4.08016e-10  2.70865e-05  7.97114e-05  3.98265e-10     0.956418  4.28879e-11   -0.0126685  -0.00349651  3.04033e-10 -4.16238e-10  1.04974e-09  1.04912e-09    0.0192772   0.00541285  3.06342e-11          nan          nan          nan          nan          nan          nan          nan          nan          nan          nan          nan          nan\r\n",
      "   0.0375707   -0.0103695  1.83699e-10 -1.45244e-10  -0.00212679   0.00770575  2.97931e-09  2.96294e-09 -7.41504e-10  7.97114e-05 -2.70865e-05 -4.68443e-10  4.28878e-11     0.956418   0.00349651   -0.0126685  -5.7749e-10  5.78106e-10  -1.6739e-09 -1.78611e-09  -0.00541285    0.0192772 -7.98014e-12          nan          nan          nan          nan          nan          nan          nan          nan          nan          nan          nan          nan\r\n",
      "-2.03254e-11    0.0421019 -1.71752e-10  6.91271e-11    0.0309987  6.71403e-11 -9.22267e-10 -7.15488e-10  5.58298e-10  0.000502987   0.00862226 -1.57983e-11   -0.0126685   0.00349651     0.988566  3.79382e-11  8.53916e-12 -1.86434e-10  2.23255e-10 -1.98216e-11   -0.0223628 -9.94362e-05  3.66119e-10          nan          nan          nan          nan          nan          nan          nan          nan          nan          nan          nan          nan\r\n",
      "   0.0421019 -2.03255e-11 -2.08703e-11 -1.85909e-10  6.71402e-11    0.0309987  3.15975e-10   2.1335e-10 -1.54339e-10   0.00862226 -0.000502987 -4.96584e-11  -0.00349651   -0.0126685  3.79382e-11     0.988566  1.21993e-10  1.21084e-10  -1.1776e-11 -1.89671e-10  9.94362e-05   -0.0223628  4.45721e-10          nan          nan          nan          nan          nan          nan          nan          nan          nan          nan          nan          nan\r\n",
      "-2.33163e-10 -1.94189e-11    0.0470521  -0.00128292 -6.53423e-11  1.90926e-10   -0.0113594   0.00127288   0.00131727 -3.65166e-10 -5.79197e-11   0.00465709  3.04033e-10  -5.7749e-10  8.53916e-12  1.21993e-10      1.03321  -0.00657047    0.0132501    0.0132501 -5.77342e-11  5.06654e-10  -0.00427236          nan          nan          nan          nan          nan          nan          nan          nan          nan          nan          nan          nan\r\n",
      " 1.30867e-10  2.13692e-10  -0.00128292    0.0470521 -1.89548e-10 -5.11447e-11  -0.00127289    0.0113594  -0.00131727 -3.65982e-11  8.72455e-10  -0.00465709 -4.16238e-10  5.78106e-10 -1.86434e-10  1.21084e-10  -0.00657047      1.03321   -0.0132501   -0.0132501  6.23792e-11 -5.85703e-10   0.00427236          nan          nan          nan          nan          nan          nan          nan          nan          nan          nan          nan          nan\r\n",
      "-3.01305e-10  -9.7292e-11  -0.00258957    0.0152219 -1.33965e-10   9.1835e-11    0.0127115   -0.0330577   0.00387652  6.95885e-11 -5.51218e-10    0.0137051  1.04974e-09  -1.6739e-09  2.23255e-10  -1.1776e-11    0.0132501   -0.0132501       1.0677    0.0410611 -2.87392e-10  1.40584e-09   0.00205198          nan          nan          nan          nan          nan          nan          nan          nan          nan          nan          nan          nan\r\n",
      "-1.07032e-10   5.0042e-12   -0.0152219   0.00258957 -2.73747e-10 -1.63055e-10   -0.0330577    0.0127115   0.00387652  8.84124e-10 -1.49454e-10    0.0137051  1.04912e-09 -1.78611e-09 -1.98216e-11 -1.89671e-10    0.0132501   -0.0132501    0.0410611       1.0677 -2.10018e-10  1.41059e-09   0.00205198          nan          nan          nan          nan          nan          nan          nan          nan          nan          nan          nan          nan\r\n",
      "-0.000334583    0.0752465 -2.48694e-10  3.00568e-10   -0.0690159  0.000306879 -1.37589e-09 -1.00789e-09  9.70769e-10   0.00166529      0.03091 -4.52534e-11  -0.00866812   0.00243393    0.0364086 -0.000161891  1.19991e-10 -1.21263e-10  4.87709e-10   4.8492e-10    -0.194424   2.2502e-10  3.79934e-09          nan          nan          nan          nan          nan          nan          nan          nan          nan          nan          nan          nan\r\n",
      "   0.0752465  0.000334583  1.79287e-10 -5.58763e-10 -0.000306879   -0.0690159  5.06026e-09  5.10946e-09 -2.26139e-09      0.03091  -0.00166529 -7.95698e-10  -0.00243393  -0.00866812   0.00016189    0.0364086 -4.44117e-10  4.49345e-10 -1.20869e-09 -1.20994e-09   2.2502e-10    -0.194424  1.19816e-09          nan          nan          nan          nan          nan          nan          nan          nan          nan          nan          nan          nan\r\n",
      " -3.0476e-10 -4.79437e-10   -0.0141826    0.0141826  4.11087e-10   1.8641e-10    0.0043942    0.0043942  -0.00133327 -1.14242e-09 -1.07751e-09  -0.00053441    7.689e-11  1.04413e-10  -4.1469e-11  1.63498e-10  -0.00597799   0.00597799    0.0015002    0.0015002  3.89372e-09  1.34878e-09     0.958374          nan          nan          nan          nan          nan          nan          nan          nan          nan          nan          nan          nan\r\n",
      "        -nan         -nan         -nan         -nan         -nan         -nan         -nan         -nan         -nan         -nan         -nan         -nan         -nan         -nan         -nan         -nan         -nan         -nan         -nan         -nan         -nan         -nan         -nan          nan          nan          nan          nan          nan          nan          nan          nan          nan          nan          nan          nan\r\n",
      "        -nan         -nan         -nan         -nan         -nan         -nan         -nan         -nan         -nan         -nan         -nan         -nan         -nan         -nan         -nan         -nan         -nan         -nan         -nan         -nan         -nan         -nan         -nan         -nan         -nan         -nan         -nan         -nan         -nan         -nan         -nan         -nan         -nan         -nan         -nan\r\n",
      "        -nan         -nan         -nan         -nan         -nan         -nan         -nan         -nan         -nan         -nan         -nan         -nan         -nan         -nan         -nan         -nan         -nan         -nan         -nan         -nan         -nan         -nan         -nan         -nan         -nan         -nan         -nan         -nan         -nan         -nan         -nan         -nan         -nan         -nan         -nan\r\n",
      "        -nan         -nan         -nan         -nan         -nan         -nan         -nan         -nan         -nan         -nan         -nan         -nan         -nan         -nan         -nan         -nan         -nan         -nan         -nan         -nan         -nan         -nan         -nan          nan          nan          nan          nan          nan          nan          nan          nan          nan          nan          nan          nan\r\n",
      "        -nan         -nan         -nan         -nan         -nan         -nan         -nan         -nan         -nan         -nan         -nan         -nan         -nan         -nan         -nan         -nan         -nan         -nan         -nan         -nan         -nan         -nan         -nan          nan          nan          nan          nan          nan          nan          nan          nan          nan          nan          nan          nan\r\n",
      "        -nan         -nan         -nan         -nan         -nan         -nan         -nan         -nan         -nan         -nan         -nan         -nan         -nan         -nan         -nan         -nan         -nan         -nan         -nan         -nan         -nan         -nan         -nan         -nan         -nan         -nan         -nan         -nan         -nan         -nan         -nan         -nan         -nan         -nan         -nan\r\n",
      "        -nan         -nan         -nan         -nan         -nan         -nan         -nan         -nan         -nan         -nan         -nan         -nan         -nan         -nan         -nan         -nan         -nan         -nan         -nan         -nan         -nan         -nan         -nan         -nan         -nan         -nan         -nan         -nan         -nan         -nan         -nan         -nan         -nan         -nan         -nan\r\n",
      "        -nan         -nan         -nan         -nan         -nan         -nan         -nan         -nan         -nan         -nan         -nan         -nan         -nan         -nan         -nan         -nan         -nan         -nan         -nan         -nan         -nan         -nan         -nan          nan          nan          nan          nan          nan          nan          nan          nan          nan          nan          nan          nan\r\n",
      "        -nan         -nan         -nan         -nan         -nan         -nan         -nan         -nan         -nan         -nan         -nan         -nan         -nan         -nan         -nan         -nan         -nan         -nan         -nan         -nan         -nan         -nan         -nan          nan          nan          nan          nan          nan          nan          nan          nan          nan          nan          nan          nan\r\n",
      "        -nan         -nan         -nan         -nan         -nan         -nan         -nan         -nan         -nan         -nan         -nan         -nan         -nan         -nan         -nan         -nan         -nan         -nan         -nan         -nan         -nan         -nan         -nan         -nan          nan          nan          nan         -nan          nan          nan          nan         -nan          nan          nan          nan\r\n",
      "        -nan         -nan         -nan         -nan         -nan         -nan         -nan         -nan         -nan         -nan         -nan         -nan         -nan         -nan         -nan         -nan         -nan         -nan         -nan         -nan         -nan         -nan         -nan         -nan          nan          nan          nan         -nan          nan          nan          nan         -nan          nan          nan          nan\r\n",
      "        -nan         -nan         -nan         -nan         -nan         -nan         -nan         -nan         -nan         -nan         -nan         -nan         -nan         -nan         -nan         -nan         -nan         -nan         -nan         -nan         -nan         -nan         -nan         -nan         -nan         -nan         -nan         -nan         -nan         -nan         -nan         -nan         -nan         -nan         -nan\r\n",
      "B\r\n",
      "    0.093811 -1.38262e-11  1.68502e-11 -1.31263e-10  1.44939e-11   -0.0328898  3.54446e-10  2.99563e-10 -1.98305e-10    0.0155308 -0.000906002 -3.66251e-11    0.0128579    0.0465868 -2.36157e-11    0.0481429 -2.87534e-10  1.38795e-10 -3.10576e-10 -3.79526e-11  0.000111642   -0.0251078 -4.01013e-10         -nan         -nan         -nan         -nan         -nan         -nan         -nan         -nan         -nan         -nan         -nan         -nan\r\n",
      "-1.38262e-11     0.093811 -9.49786e-11  4.00957e-11   -0.0328898  1.44939e-11  3.69193e-10  4.83606e-10 -1.23131e-10  0.000906002    0.0155308 -1.66768e-10    0.0465868   -0.0128579    0.0481429 -2.36157e-11 -1.28471e-11  2.85471e-10 -7.55057e-11  7.32324e-11   -0.0251078 -0.000111642 -5.11118e-10         -nan         -nan         -nan         -nan         -nan         -nan         -nan         -nan         -nan         -nan         -nan         -nan\r\n",
      " 1.68502e-11 -9.49786e-11     0.105884   0.00529817  1.02814e-10  7.14759e-11   0.00678857   0.00678857  -0.00367481 -5.18343e-11 -2.01944e-11   -0.0016693 -9.67005e-11  2.03747e-10 -2.10739e-10 -2.54012e-11    0.0640561   -0.0017004  -0.00248455   -0.0196947   -6.256e-11  -1.1177e-11   -0.0418851         -nan         -nan         -nan         -nan         -nan         -nan         -nan         -nan         -nan         -nan         -nan         -nan\r\n",
      "-1.31263e-10  4.00957e-11   0.00529817     0.105884 -1.09909e-10  2.29118e-10  -0.00678857  -0.00678857   0.00367481 -5.46519e-11  7.11203e-11    0.0016693  7.34753e-11 -1.53465e-10  7.36468e-11 -2.18513e-10   -0.0017004    0.0640561    0.0196947   0.00248455  1.33625e-10   1.1143e-10    0.0418851         -nan         -nan         -nan         -nan         -nan         -nan         -nan         -nan         -nan         -nan         -nan         -nan\r\n",
      " 1.44939e-11   -0.0328898  1.02814e-10 -1.09909e-10     0.240891  -6.9699e-13  1.10441e-09  8.03813e-10 -6.98444e-10 -0.000842574   -0.0144435 -1.60496e-10   0.00881388  -0.00243263    0.0441772  9.33291e-11 -5.67619e-11 -3.34155e-10 -5.76677e-11 -2.87364e-10  -0.00438142  -1.9482e-05  5.20864e-10         -nan         -nan         -nan         -nan         -nan         -nan         -nan         -nan         -nan         -nan         -nan         -nan\r\n",
      "  -0.0328898  1.44939e-11  7.14759e-11  2.29118e-10 -6.96988e-13     0.240891 -1.39893e-10 -1.46988e-10  1.24393e-10   -0.0144435  0.000842574  9.92733e-12   0.00243263   0.00881388  9.33292e-11    0.0441772  2.79705e-10 -5.00087e-11  1.11396e-10 -2.79521e-10  1.94819e-05  -0.00438142  4.31858e-10         -nan         -nan         -nan         -nan         -nan         -nan         -nan         -nan         -nan         -nan         -nan         -nan\r\n",
      " 3.54446e-10  3.69193e-10   0.00678857  -0.00678857  1.10441e-09 -1.39893e-10     0.221858     0.110676    -0.062994 -1.34972e-12  4.62578e-10   -0.0286154 -1.92569e-09  3.22526e-09 -1.03137e-09  3.28987e-10   -0.0100902     -0.00712    0.0330988    -0.029257  -8.0132e-10 -3.84215e-10   0.00293892         -nan         -nan         -nan         -nan         -nan         -nan         -nan         -nan         -nan         -nan         -nan         -nan\r\n",
      " 2.99563e-10  4.83606e-10   0.00678857  -0.00678857  8.03813e-10 -1.46988e-10     0.110676     0.221858    -0.062994  4.95762e-11  5.69064e-10   -0.0286154 -1.97597e-09  3.20204e-09 -7.87455e-10  1.91894e-10      0.00712    0.0100902    -0.029257    0.0330988 -8.98763e-10 -3.12172e-10   0.00293892         -nan         -nan         -nan         -nan         -nan         -nan         -nan         -nan         -nan         -nan         -nan         -nan\r\n",
      "-1.98305e-10 -1.23131e-10  -0.00367481   0.00367481 -6.98444e-10  1.24393e-10    -0.062994    -0.062994     0.429278 -2.25281e-10 -2.34118e-10   -0.0121538  4.55932e-10  -9.0936e-10  7.69067e-10 -2.09087e-10 -6.21024e-06  6.21026e-06 -1.82759e-05 -1.82758e-05 -7.44346e-11  5.84294e-10  5.96551e-05         -nan         -nan         -nan         -nan         -nan         -nan         -nan         -nan         -nan         -nan         -nan         -nan\r\n",
      "   0.0155308  0.000906002 -5.18343e-11 -5.46519e-11 -0.000842574   -0.0144435 -1.34972e-12  4.95762e-11 -2.25281e-10     0.463967  2.12496e-12  1.17681e-10  0.000208098  0.000612403  0.000604235    0.0103579 -6.15273e-10 -6.26334e-11  1.11929e-10  1.49098e-09 -0.000954089   -0.0177092 -1.86772e-09         -nan         -nan         -nan         -nan         -nan         -nan         -nan         -nan         -nan         -nan         -nan         -nan\r\n",
      "-0.000906002    0.0155308 -2.01944e-11  7.11203e-11   -0.0144435  0.000842574  4.62578e-10  5.69064e-10 -2.34118e-10  2.12512e-12     0.463967 -1.09254e-10  0.000612402 -0.000208098    0.0103579 -0.000604235 -7.69065e-11  1.45596e-09  -8.6612e-10 -1.88214e-10   -0.0177092  0.000954089 -1.77778e-09         -nan         -nan         -nan         -nan         -nan         -nan         -nan         -nan         -nan         -nan         -nan         -nan\r\n",
      "-3.66251e-11 -1.66768e-10   -0.0016693    0.0016693 -1.60496e-10  9.92733e-12   -0.0286154   -0.0286154   -0.0121538  1.17681e-10 -1.09254e-10     0.636067   5.4732e-10 -6.15591e-10 -6.46808e-11  -6.6188e-11   0.00673355  -0.00673355    0.0198158    0.0198158   1.0328e-10 -8.60814e-12  4.60385e-05         -nan         -nan         -nan         -nan         -nan         -nan         -nan         -nan         -nan         -nan         -nan         -nan\r\n",
      "   0.0128579    0.0465868 -9.67005e-11  7.34753e-11   0.00881388   0.00243263 -1.92569e-09 -1.97597e-09  4.55932e-10  0.000208098  0.000612402   5.4732e-10     0.917068  7.51871e-11    -0.021488  -0.00593068  5.28884e-10 -7.58707e-10  1.85745e-09  1.85292e-09    0.0223806   0.00628426  1.65382e-10         -nan         -nan         -nan         -nan         -nan         -nan         -nan         -nan         -nan         -nan         -nan         -nan\r\n",
      "   0.0465868   -0.0128579  2.03747e-10 -1.53465e-10  -0.00243263   0.00881388  3.22526e-09  3.20204e-09  -9.0936e-10  0.000612403 -0.000208098 -6.15591e-10  7.51869e-11     0.917068   0.00593068    -0.021488 -1.02536e-09  1.02989e-09 -2.98504e-09 -3.21486e-09  -0.00628426    0.0223806  1.26203e-10         -nan         -nan         -nan         -nan         -nan         -nan         -nan         -nan         -nan         -nan         -nan         -nan\r\n",
      "-2.36157e-11    0.0481429 -2.10739e-10  7.36468e-11    0.0441772  9.33292e-11 -1.03137e-09 -7.87455e-10  7.69067e-10  0.000604235    0.0103579 -6.46808e-11    -0.021488   0.00593068     0.981535  7.31283e-11 -3.51123e-12 -3.06138e-10   3.6269e-10 -7.51866e-11   0.00424838  1.88904e-05  3.17225e-10         -nan         -nan         -nan         -nan         -nan         -nan         -nan         -nan         -nan         -nan         -nan         -nan\r\n",
      "   0.0481429 -2.36158e-11 -2.54012e-11 -2.18513e-10  9.33291e-11    0.0441772  3.28987e-10  1.91894e-10 -2.09087e-10    0.0103579 -0.000604235  -6.6188e-11  -0.00593068    -0.021488  7.31283e-11     0.981535  2.22692e-10  2.15184e-10 -7.15924e-12 -3.16808e-10 -1.88904e-05   0.00424838  6.75761e-10         -nan         -nan         -nan         -nan         -nan         -nan         -nan         -nan         -nan         -nan         -nan         -nan\r\n",
      "-2.87534e-10 -1.28471e-11    0.0640561   -0.0017004 -5.67619e-11  2.79705e-10   -0.0100902      0.00712 -6.21024e-06 -6.15273e-10 -7.69065e-11   0.00673355  5.28884e-10 -1.02536e-09 -3.51123e-12  2.22692e-10      1.06909   -0.0128178    0.0247598    0.0247598  4.21122e-11  2.29803e-10   -0.0150492         -nan         -nan         -nan         -nan         -nan         -nan         -nan         -nan         -nan         -nan         -nan         -nan\r\n",
      " 1.38795e-10  2.85471e-10   -0.0017004    0.0640561 -3.34155e-10 -5.00087e-11     -0.00712    0.0100902  6.21026e-06 -6.26334e-11  1.45596e-09  -0.00673355 -7.58707e-10  1.02989e-09 -3.06138e-10  2.15184e-10   -0.0128178      1.06909   -0.0247598   -0.0247598 -1.39001e-10 -2.90956e-10    0.0150492         -nan         -nan         -nan         -nan         -nan         -nan         -nan         -nan         -nan         -nan         -nan         -nan\r\n",
      "-3.10576e-10 -7.55057e-11  -0.00248455    0.0196947 -5.76677e-11  1.11396e-10    0.0330988    -0.029257 -1.82759e-05  1.11929e-10  -8.6612e-10    0.0198158  1.85745e-09 -2.98504e-09   3.6269e-10 -7.15924e-12    0.0247598   -0.0247598      1.13354    0.0772686  1.18989e-10  4.33486e-10   0.00545795         -nan         -nan         -nan         -nan         -nan         -nan         -nan         -nan         -nan         -nan         -nan         -nan\r\n",
      "-3.79526e-11  7.32324e-11   -0.0196947   0.00248455 -2.87364e-10 -2.79521e-10    -0.029257    0.0330988 -1.82758e-05  1.49098e-09 -1.88214e-10    0.0198158  1.85292e-09 -3.21486e-09 -7.51866e-11 -3.16808e-10    0.0247598   -0.0247598    0.0772686      1.13354  1.80358e-10  3.36868e-10   0.00545795         -nan         -nan         -nan         -nan         -nan         -nan         -nan         -nan         -nan         -nan         -nan         -nan\r\n",
      " 0.000255036   -0.0573567  4.91909e-13  4.61489e-11  -0.00347861  1.54676e-05 -3.28778e-10 -5.33389e-10 -3.87196e-12  -0.00054903   -0.0101907 -2.32903e-11     0.017947  -0.00503935    0.0191591  -8.5191e-05  6.15943e-14  9.07427e-11  5.05238e-11  2.62747e-10     0.600541  2.25556e-10  2.81265e-09         -nan         -nan         -nan         -nan         -nan         -nan         -nan         -nan         -nan         -nan         -nan         -nan\r\n",
      "  -0.0573567 -0.000255036 -1.64687e-10  3.71521e-10 -1.54676e-05  -0.00347861 -3.85754e-09 -3.80957e-09   6.4502e-10   -0.0101907   0.00054903  1.38948e-10   0.00503935     0.017947   8.5191e-05    0.0191591 -1.49325e-10 -6.08296e-11 -1.42201e-10 -5.12952e-11  2.25556e-10     0.600541  7.01277e-11         -nan         -nan         -nan         -nan         -nan         -nan         -nan         -nan         -nan         -nan         -nan         -nan\r\n",
      "-3.28095e-10 -3.21335e-10   -0.0423659    0.0423659  6.07733e-10  5.83111e-10   0.00290836   0.00290836 -0.000443563 -1.66944e-09 -1.60317e-09 -0.000217151  1.09883e-10  1.72891e-10  4.07715e-10  8.27807e-10   -0.0160915    0.0160915   0.00533971   0.00533971  3.14896e-09  5.24813e-10      1.98492         -nan         -nan         -nan         -nan         -nan         -nan         -nan         -nan         -nan         -nan         -nan         -nan\r\n",
      "        -nan         -nan         -nan         -nan         -nan         -nan         -nan         -nan         -nan         -nan         -nan         -nan         -nan         -nan         -nan         -nan         -nan         -nan         -nan         -nan         -nan         -nan         -nan         -nan         -nan         -nan         -nan         -nan         -nan         -nan         -nan         -nan         -nan         -nan         -nan\r\n",
      "        -nan         -nan         -nan         -nan         -nan         -nan         -nan         -nan         -nan         -nan         -nan         -nan         -nan         -nan         -nan         -nan         -nan         -nan         -nan         -nan         -nan         -nan         -nan         -nan         -nan         -nan         -nan         -nan         -nan         -nan         -nan         -nan         -nan         -nan         -nan\r\n",
      "        -nan         -nan         -nan         -nan         -nan         -nan         -nan         -nan         -nan         -nan         -nan         -nan         -nan         -nan         -nan         -nan         -nan         -nan         -nan         -nan         -nan         -nan         -nan         -nan         -nan         -nan         -nan         -nan         -nan         -nan         -nan         -nan         -nan         -nan         -nan\r\n",
      "        -nan         -nan         -nan         -nan         -nan         -nan         -nan         -nan         -nan         -nan         -nan         -nan         -nan         -nan         -nan         -nan         -nan         -nan         -nan         -nan         -nan         -nan         -nan         -nan         -nan         -nan         -nan         -nan         -nan         -nan         -nan         -nan         -nan         -nan         -nan\r\n",
      "        -nan         -nan         -nan         -nan         -nan         -nan         -nan         -nan         -nan         -nan         -nan         -nan         -nan         -nan         -nan         -nan         -nan         -nan         -nan         -nan         -nan         -nan         -nan         -nan         -nan         -nan         -nan         -nan         -nan         -nan         -nan         -nan         -nan         -nan         -nan\r\n",
      "        -nan         -nan         -nan         -nan         -nan         -nan         -nan         -nan         -nan         -nan         -nan         -nan         -nan         -nan         -nan         -nan         -nan         -nan         -nan         -nan         -nan         -nan         -nan         -nan         -nan         -nan         -nan         -nan         -nan         -nan         -nan         -nan         -nan         -nan         -nan\r\n",
      "        -nan         -nan         -nan         -nan         -nan         -nan         -nan         -nan         -nan         -nan         -nan         -nan         -nan         -nan         -nan         -nan         -nan         -nan         -nan         -nan         -nan         -nan         -nan         -nan         -nan         -nan         -nan         -nan         -nan         -nan         -nan         -nan         -nan         -nan         -nan\r\n",
      "        -nan         -nan         -nan         -nan         -nan         -nan         -nan         -nan         -nan         -nan         -nan         -nan         -nan         -nan         -nan         -nan         -nan         -nan         -nan         -nan         -nan         -nan         -nan         -nan         -nan         -nan         -nan         -nan         -nan         -nan         -nan         -nan         -nan         -nan         -nan\r\n",
      "        -nan         -nan         -nan         -nan         -nan         -nan         -nan         -nan         -nan         -nan         -nan         -nan         -nan         -nan         -nan         -nan         -nan         -nan         -nan         -nan         -nan         -nan         -nan         -nan         -nan         -nan         -nan         -nan         -nan         -nan         -nan         -nan         -nan         -nan         -nan\r\n",
      "        -nan         -nan         -nan         -nan         -nan         -nan         -nan         -nan         -nan         -nan         -nan         -nan         -nan         -nan         -nan         -nan         -nan         -nan         -nan         -nan         -nan         -nan         -nan         -nan         -nan         -nan         -nan         -nan         -nan         -nan         -nan         -nan         -nan         -nan         -nan\r\n",
      "        -nan         -nan         -nan         -nan         -nan         -nan         -nan         -nan         -nan         -nan         -nan         -nan         -nan         -nan         -nan         -nan         -nan         -nan         -nan         -nan         -nan         -nan         -nan         -nan         -nan         -nan         -nan         -nan         -nan         -nan         -nan         -nan         -nan         -nan         -nan\r\n",
      "        -nan         -nan         -nan         -nan         -nan         -nan         -nan         -nan         -nan         -nan         -nan         -nan         -nan         -nan         -nan         -nan         -nan         -nan         -nan         -nan         -nan         -nan         -nan          nan          nan          nan          nan          nan          nan          nan          nan          nan          nan          nan          nan\r\n",
      "an error occurred:\r\n",
      "Small generalized eigenvalue problem failed.\r\n"
     ]
    }
   ],
   "source": [
    "!xtp_tools -c job_name=CO geometry_optimization.maxiter=1 dftpackage.basisset=3-21G dftpackage.auxbasisset=aux-def2-svp gwbse.gw.mode=G0W0 -e dftgwbse -t 4"
   ]
  },
  {
   "cell_type": "markdown",
   "metadata": {},
   "source": [
    "Notice that we are using 4 threads. The results will be stored in a file named `CO_summary.xml` in the current work directory, together with the optimization step in `optimisation.trj` and the orbitals in [hdf5 format](https://www.hdfgroup.org/solutions/hdf5/) saved on `CO.orb`."
   ]
  }
 ],
 "metadata": {
  "kernelspec": {
   "display_name": "Python 3",
   "language": "python",
   "name": "python3"
  },
  "language_info": {
   "codemirror_mode": {
    "name": "ipython",
    "version": 3
   },
   "file_extension": ".py",
   "mimetype": "text/x-python",
   "name": "python",
   "nbconvert_exporter": "python",
   "pygments_lexer": "ipython3",
   "version": "3.10.4"
  }
 },
 "nbformat": 4,
 "nbformat_minor": 4
}
