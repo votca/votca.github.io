{
 "cells": [
  {
   "cell_type": "markdown",
   "metadata": {},
   "source": [
    "## DFT + GWBSE Optimization Using CO"
   ]
  },
  {
   "cell_type": "markdown",
   "metadata": {},
   "source": [
    "## Introduction\n",
    "This tutorial explains how to perform a molecular geometric optimization using the **GWBSE** method. See [the GW Compendium: A Practical Guide to Theoretical Photoemission Spectroscopy](https://doi.org/10.3389/fchem.2019.00377), for an excellent introduction to the method."
   ]
  },
  {
   "cell_type": "markdown",
   "metadata": {},
   "source": [
    "## Requirements\n",
    "* You will need to install **VOTCA** using the instructions described [here](https://github.com/votca/votca/blob/master/share/doc/INSTALL.rst)\n",
    "* Once the installation is completed you need to activate the VOTCA enviroment by running the `VOTCARC.bash` script that has been installed at the bin subfolder for the path that you have provided for the installation step above"
   ]
  },
  {
   "cell_type": "markdown",
   "metadata": {},
   "source": [
    "## Preparing the input\n",
    "To run a DFT-GWBSE calculation we will use the [xtp_tools](https://www.votca.org/xtp/xtp_tools_overview.html) calculator."
   ]
  },
  {
   "cell_type": "markdown",
   "metadata": {},
   "source": [
    "we can now change the calculator mode from single point energy calculation to optimization as follows by adding \n",
    "`-c geometry_optimization.maxiter=1` which enables optimization with one iteration. "
   ]
  },
  {
   "cell_type": "markdown",
   "metadata": {},
   "source": [
    "Because geometry optimsation is quite expensive numerically we chose a smaller basisset and G0W0 Finally, to run the calculation we just need the following command (This still takes a while)"
   ]
  },
  {
   "cell_type": "code",
   "execution_count": 1,
   "metadata": {
    "execution": {
     "iopub.execute_input": "2021-08-02T20:23:32.605067Z",
     "iopub.status.busy": "2021-08-02T20:23:32.604449Z",
     "iopub.status.idle": "2021-08-02T20:23:45.831290Z",
     "shell.execute_reply": "2021-08-02T20:23:45.830528Z"
    }
   },
   "outputs": [
    {
     "name": "stdout",
     "output_type": "stream",
     "text": [
      "==================================================\r\n",
      "========   VOTCA (http://www.votca.org)   ========\r\n",
      "==================================================\r\n",
      "\r\n",
      "please submit bugs to https://github.com/votca/xtp/issues\r\n",
      "\r\n",
      "xtp_tools, version 2022-dev gitid: 932b52f (compiled Aug  2 2021, 20:13:44)\r\n",
      "votca_csg, version 2022-dev gitid: 932b52f (compiled Aug  2 2021, 19:56:46)\r\n",
      "votca_tools, version 2022-dev gitid: 932b52f (compiled Aug  2 2021, 19:53:43)\r\n",
      "\r\n",
      "Initializing tool\r\n",
      "... dftgwbse Evaluating tool\r\n",
      "... dftgwbse  Using 4 threads\r\n",
      "... ... Reading structure from CO.xyz\r\n",
      "... ... Requested geometry optimization of excited state s1\r\n",
      "... ... Initial state: s1\r\n",
      "... ... WARNING: No tracker is used \r\n",
      "... ... Convergence of total energy: 0.000001 Hartree \r\n",
      "... ... Convergence of RMS Force:    0.000030 Hartree/Bohr \r\n",
      "... ... Convergence of Max Force:    0.000100 Hartree/Bohr \r\n",
      "... ... Convergence of RMS Step:     0.000600 Bohr \r\n",
      "... ... Convergence of Max Step:     0.001000 Bohr \r\n",
      "... ... Initial trust radius:        0.018897 BohrA\r\n",
      "    0.307132 -3.09898e-11  4.45113e-11 -2.30672e-10  2.34858e-11   -0.0516061   8.5567e-10  7.79139e-10 -3.22629e-10    0.0181639  -0.00105574  -7.1544e-11    0.0103543    0.0375749  -2.0256e-11    0.0421019 -2.33104e-10  1.30727e-10 -3.01407e-10 -1.07176e-10  0.000481791    -0.108408 -1.28199e-10          nan          nan          nan          nan          nan          nan          nan          nan          nan          nan          nan          nan\r\n",
      "-3.09898e-11     0.307132 -1.47374e-10  7.08439e-11   -0.0516061  2.34859e-11  9.00206e-10  1.08637e-09 -1.97393e-10   0.00105574    0.0181639 -2.25156e-10    0.0375749   -0.0103543    0.0421019 -2.02561e-11 -1.93706e-11  2.13601e-10 -9.73579e-11  5.01919e-12    -0.108408 -0.000481791 -1.34191e-11          nan          nan          nan          nan          nan          nan          nan          nan          nan          nan          nan          nan\r\n",
      " 4.45113e-11 -1.47374e-10     0.320625   0.00926916  1.56338e-10  1.03022e-10    0.0133517    0.0133517  -0.00497911 -5.82021e-11  -1.4744e-11  -0.00212126 -8.92498e-11  1.83015e-10 -1.71599e-10 -2.09528e-11    0.0470612  -0.00128692  -0.00258177   -0.0151956  1.82125e-10 -3.04689e-10   -0.0254897          nan          nan          nan          nan          nan          nan          nan          nan          nan          nan          nan          nan\r\n",
      "-2.30672e-10  7.08439e-11   0.00926916     0.320625 -1.69673e-10   3.2392e-10   -0.0133517   -0.0133517   0.00497911 -5.01138e-11  6.88445e-11   0.00212126  7.28628e-11 -1.44565e-10  6.89705e-11 -1.85825e-10  -0.00128692    0.0470612    0.0151956   0.00258177 -1.68657e-10  7.89031e-10    0.0254897          nan          nan          nan          nan          nan          nan          nan          nan          nan          nan          nan          nan\r\n",
      " 2.34858e-11   -0.0516061  1.56338e-10 -1.69673e-10     0.490902 -2.88579e-12  1.80088e-09  1.37394e-09  -8.2074e-10 -0.000781199   -0.0134404 -1.98453e-10   0.00770661  -0.00212368    0.0309987  6.69049e-11 -6.52151e-11 -1.89616e-10 -1.33866e-10 -2.73754e-10    0.0531267  0.000236108  1.67537e-10          nan          nan          nan          nan          nan          nan          nan          nan          nan          nan          nan          nan\r\n",
      "  -0.0516061  2.34859e-11  1.03022e-10   3.2392e-10 -2.88583e-12     0.490902 -2.54463e-10 -2.67797e-10  1.54952e-10   -0.0134404  0.000781199   1.9262e-11   0.00212368   0.00770661  6.69048e-11    0.0309987  1.91015e-10 -5.11274e-11  9.18337e-11 -1.62998e-10 -0.000236109    0.0531267  2.48388e-10          nan          nan          nan          nan          nan          nan          nan          nan          nan          nan          nan          nan\r\n",
      "  8.5567e-10  9.00206e-10    0.0133517   -0.0133517  1.80088e-09 -2.54463e-10     0.549564      0.21967   -0.0856649 -7.13114e-12  6.43986e-10   -0.0364959  -1.8547e-09  2.97817e-09 -9.22352e-10  3.15808e-10   -0.0113388  -0.00127504    0.0127091   -0.0330653  5.13484e-10  -7.4601e-09  -0.00156784          nan          nan          nan          nan          nan          nan          nan          nan          nan          nan          nan          nan\r\n",
      " 7.79139e-10  1.08637e-09    0.0133517   -0.0133517  1.37394e-09 -2.67797e-10      0.21967     0.549564   -0.0856649  4.69693e-11  7.52302e-10   -0.0364959 -1.89315e-09  2.96178e-09 -7.15574e-10  2.13179e-10   0.00127504    0.0113388   -0.0330653    0.0127091  4.29463e-11 -7.44289e-09  -0.00156784          nan          nan          nan          nan          nan          nan          nan          nan          nan          nan          nan          nan\r\n",
      "-3.22629e-10 -1.97393e-10  -0.00497911   0.00497911  -8.2074e-10  1.54952e-10   -0.0856649   -0.0856649     0.662947 -1.74987e-10 -2.31597e-10  -0.00632525  4.08484e-10 -7.41246e-10  5.58333e-10 -1.54212e-10   0.00131488  -0.00131488   0.00387733   0.00387733 -9.20016e-10  2.85824e-09   0.00114184          nan          nan          nan          nan          nan          nan          nan          nan          nan          nan          nan          nan\r\n",
      "   0.0181639   0.00105574 -5.82021e-11 -5.01138e-11 -0.000781199   -0.0134404 -7.13114e-12  4.69693e-11 -1.74987e-10     0.680922  1.58825e-12  8.85915e-11  2.70374e-05  7.97281e-05  0.000501159   0.00862237 -3.65722e-10 -3.65545e-11  6.96088e-11   8.8389e-10  -0.00219858   -0.0409686 -8.96059e-10          nan          nan          nan          nan          nan          nan          nan          nan          nan          nan          nan          nan\r\n",
      " -0.00105574    0.0181639  -1.4744e-11  6.88445e-11   -0.0134404  0.000781199  6.43986e-10  7.52302e-10 -2.31597e-10  1.58843e-12     0.680922 -1.12764e-10  7.97281e-05 -2.70374e-05   0.00862237 -0.000501159 -5.78283e-11   8.7211e-10 -5.51767e-10 -1.49491e-10   -0.0409686   0.00219858 -8.14788e-10          nan          nan          nan          nan          nan          nan          nan          nan          nan          nan          nan          nan\r\n",
      " -7.1544e-11 -2.25156e-10  -0.00212126   0.00212126 -1.98453e-10   1.9262e-11   -0.0364959   -0.0364959  -0.00632525  8.85915e-11 -1.12764e-10      0.79826   3.9856e-10 -4.68191e-10  -1.5787e-11 -4.96621e-11   0.00464865  -0.00464865     0.013708     0.013708    8.863e-11  8.70739e-10  0.000452588          nan          nan          nan          nan          nan          nan          nan          nan          nan          nan          nan          nan\r\n",
      "   0.0103543    0.0375749 -8.92498e-11  7.28628e-11   0.00770661   0.00212368  -1.8547e-09 -1.89315e-09  4.08484e-10  2.70374e-05  7.97281e-05   3.9856e-10     0.956418  4.28163e-11   -0.0126699   -0.0034914   3.0375e-10 -4.15955e-10  1.05105e-09  1.05043e-09    0.0192794   0.00540503  3.05456e-11          nan          nan          nan          nan          nan          nan          nan          nan          nan          nan          nan          nan\r\n",
      "   0.0375749   -0.0103543  1.83015e-10 -1.44565e-10  -0.00212368   0.00770661  2.97817e-09  2.96178e-09 -7.41246e-10  7.97281e-05 -2.70374e-05 -4.68191e-10  4.28163e-11     0.956418    0.0034914   -0.0126699 -5.76197e-10  5.76814e-10  -1.6736e-09  -1.7858e-09  -0.00540503    0.0192794 -7.79236e-12          nan          nan          nan          nan          nan          nan          nan          nan          nan          nan          nan          nan\r\n",
      " -2.0256e-11    0.0421019 -1.71599e-10  6.89705e-11    0.0309987  6.69049e-11 -9.22352e-10 -7.15574e-10  5.58333e-10  0.000501159   0.00862237  -1.5787e-11   -0.0126699    0.0034914     0.988566  3.78127e-11   8.5274e-12 -1.86321e-10  2.23376e-10 -1.97761e-11   -0.0223628 -9.93861e-05  3.65982e-10          nan          nan          nan          nan          nan          nan          nan          nan          nan          nan          nan          nan\r\n",
      "   0.0421019 -2.02561e-11 -2.09528e-11 -1.85825e-10  6.69049e-11    0.0309987  3.15808e-10  2.13179e-10 -1.54212e-10   0.00862237 -0.000501159 -4.96621e-11   -0.0034914   -0.0126699  3.78126e-11     0.988566  1.22114e-10  1.21037e-10 -1.18035e-11 -1.89597e-10  9.93861e-05   -0.0223628  4.45798e-10          nan          nan          nan          nan          nan          nan          nan          nan          nan          nan          nan          nan\r\n",
      "-2.33104e-10 -1.93706e-11    0.0470612  -0.00128692 -6.52151e-11  1.91015e-10   -0.0113388   0.00127504   0.00131488 -3.65722e-10 -5.78283e-11   0.00464865   3.0375e-10 -5.76197e-10   8.5274e-12  1.22114e-10      1.03319  -0.00655417    0.0132289    0.0132289 -5.77172e-11  5.05768e-10  -0.00427416          nan          nan          nan          nan          nan          nan          nan          nan          nan          nan          nan          nan\r\n",
      " 1.30727e-10  2.13601e-10  -0.00128692    0.0470612 -1.89616e-10 -5.11274e-11  -0.00127504    0.0113388  -0.00131488 -3.65545e-11   8.7211e-10  -0.00464865 -4.15955e-10  5.76814e-10 -1.86321e-10  1.21037e-10  -0.00655417      1.03319   -0.0132289   -0.0132289  6.23296e-11 -5.84819e-10   0.00427416          nan          nan          nan          nan          nan          nan          nan          nan          nan          nan          nan          nan\r\n",
      "-3.01407e-10 -9.73579e-11  -0.00258177    0.0151956 -1.33866e-10  9.18337e-11    0.0127091   -0.0330653   0.00387733  6.96088e-11 -5.51767e-10     0.013708  1.05105e-09  -1.6736e-09  2.23376e-10 -1.18035e-11    0.0132289   -0.0132289      1.06772    0.0410774 -2.87738e-10  1.40613e-09   0.00204763          nan          nan          nan          nan          nan          nan          nan          nan          nan          nan          nan          nan\r\n",
      "-1.07176e-10  5.01919e-12   -0.0151956   0.00258177 -2.73754e-10 -1.62998e-10   -0.0330653    0.0127091   0.00387733   8.8389e-10 -1.49491e-10     0.013708  1.05043e-09  -1.7858e-09 -1.97761e-11 -1.89597e-10    0.0132289   -0.0132289    0.0410774      1.06772 -2.10362e-10  1.41084e-09   0.00204763          nan          nan          nan          nan          nan          nan          nan          nan          nan          nan          nan          nan\r\n",
      "-0.000334415    0.0752465 -2.48524e-10   3.0039e-10   -0.0690159  0.000306724 -1.37705e-09 -1.00904e-09  9.71259e-10    0.0016588    0.0309104 -4.50828e-11  -0.00866911   0.00243041    0.0364086 -0.000161809  1.19789e-10  -1.2106e-10  4.88047e-10  4.85257e-10    -0.194424  2.24192e-10  3.79897e-09          nan          nan          nan          nan          nan          nan          nan          nan          nan          nan          nan          nan\r\n",
      "   0.0752465  0.000334415  1.78136e-10 -5.57614e-10 -0.000306724   -0.0690159  5.06001e-09  5.10921e-09 -2.26115e-09    0.0309104   -0.0016588 -7.95698e-10  -0.00243041  -0.00866911  0.000161809    0.0364086  -4.4334e-10  4.48569e-10 -1.20884e-09 -1.21009e-09  2.24191e-10    -0.194424  1.19931e-09          nan          nan          nan          nan          nan          nan          nan          nan          nan          nan          nan          nan\r\n",
      "-3.04841e-10 -4.79424e-10    -0.014184     0.014184  4.10976e-10  1.86453e-10   0.00437979   0.00437979  -0.00132897  -1.1424e-09 -1.07753e-09 -0.000532722  7.69154e-11  1.04306e-10 -4.14778e-11  1.63505e-10  -0.00597829   0.00597829    0.0014983    0.0014983  3.89336e-09  1.35007e-09     0.958359          nan          nan          nan          nan          nan          nan          nan          nan          nan          nan          nan          nan\r\n",
      "        -nan         -nan         -nan         -nan         -nan         -nan         -nan         -nan         -nan         -nan         -nan         -nan         -nan         -nan         -nan         -nan         -nan         -nan         -nan         -nan         -nan         -nan         -nan          nan          nan          nan          nan          nan          nan          nan          nan          nan          nan          nan          nan\r\n",
      "        -nan         -nan         -nan         -nan         -nan         -nan         -nan         -nan         -nan         -nan         -nan         -nan         -nan         -nan         -nan         -nan         -nan         -nan         -nan         -nan         -nan         -nan         -nan         -nan         -nan         -nan         -nan         -nan         -nan         -nan         -nan         -nan         -nan         -nan         -nan\r\n",
      "        -nan         -nan         -nan         -nan         -nan         -nan         -nan         -nan         -nan         -nan         -nan         -nan         -nan         -nan         -nan         -nan         -nan         -nan         -nan         -nan         -nan         -nan         -nan         -nan         -nan         -nan         -nan         -nan         -nan         -nan         -nan         -nan         -nan         -nan         -nan\r\n",
      "        -nan         -nan         -nan         -nan         -nan         -nan         -nan         -nan         -nan         -nan         -nan         -nan         -nan         -nan         -nan         -nan         -nan         -nan         -nan         -nan         -nan         -nan         -nan          nan          nan          nan          nan          nan          nan          nan          nan          nan          nan          nan          nan\r\n",
      "        -nan         -nan         -nan         -nan         -nan         -nan         -nan         -nan         -nan         -nan         -nan         -nan         -nan         -nan         -nan         -nan         -nan         -nan         -nan         -nan         -nan         -nan         -nan          nan          nan          nan          nan          nan          nan          nan          nan          nan          nan          nan          nan\r\n",
      "        -nan         -nan         -nan         -nan         -nan         -nan         -nan         -nan         -nan         -nan         -nan         -nan         -nan         -nan         -nan         -nan         -nan         -nan         -nan         -nan         -nan         -nan         -nan         -nan         -nan         -nan         -nan         -nan         -nan         -nan         -nan         -nan         -nan         -nan         -nan\r\n",
      "        -nan         -nan         -nan         -nan         -nan         -nan         -nan         -nan         -nan         -nan         -nan         -nan         -nan         -nan         -nan         -nan         -nan         -nan         -nan         -nan         -nan         -nan         -nan         -nan         -nan         -nan         -nan         -nan         -nan         -nan         -nan         -nan         -nan         -nan         -nan\r\n",
      "        -nan         -nan         -nan         -nan         -nan         -nan         -nan         -nan         -nan         -nan         -nan         -nan         -nan         -nan         -nan         -nan         -nan         -nan         -nan         -nan         -nan         -nan         -nan          nan          nan          nan          nan          nan          nan          nan          nan          nan          nan          nan          nan\r\n",
      "        -nan         -nan         -nan         -nan         -nan         -nan         -nan         -nan         -nan         -nan         -nan         -nan         -nan         -nan         -nan         -nan         -nan         -nan         -nan         -nan         -nan         -nan         -nan          nan          nan          nan          nan          nan          nan          nan          nan          nan          nan          nan          nan\r\n",
      "        -nan         -nan         -nan         -nan         -nan         -nan         -nan         -nan         -nan         -nan         -nan         -nan         -nan         -nan         -nan         -nan         -nan         -nan         -nan         -nan         -nan         -nan         -nan         -nan          nan          nan          nan         -nan          nan          nan          nan         -nan          nan          nan          nan\r\n",
      "        -nan         -nan         -nan         -nan         -nan         -nan         -nan         -nan         -nan         -nan         -nan         -nan         -nan         -nan         -nan         -nan         -nan         -nan         -nan         -nan         -nan         -nan         -nan         -nan          nan          nan          nan         -nan          nan          nan          nan         -nan          nan          nan          nan\r\n",
      "        -nan         -nan         -nan         -nan         -nan         -nan         -nan         -nan         -nan         -nan         -nan         -nan         -nan         -nan         -nan         -nan         -nan         -nan         -nan         -nan         -nan         -nan         -nan         -nan         -nan         -nan         -nan         -nan         -nan         -nan         -nan         -nan         -nan         -nan         -nan\r\n",
      "B\r\n",
      "    0.093811 -1.37749e-11  1.67661e-11 -1.31179e-10  1.44439e-11   -0.0328898  3.54561e-10  2.99676e-10 -1.98333e-10     0.015531 -0.000902708 -3.66633e-11    0.0128391     0.046592 -2.35348e-11    0.0481429 -2.87517e-10  1.38665e-10 -3.10677e-10 -3.81157e-11  0.000111585   -0.0251078  -4.0115e-10         -nan         -nan         -nan         -nan         -nan         -nan         -nan         -nan         -nan         -nan         -nan         -nan\r\n",
      "-1.37749e-11     0.093811 -9.50871e-11  4.02021e-11   -0.0328898   1.4444e-11  3.69106e-10  4.83519e-10 -1.23087e-10  0.000902708     0.015531  -1.6676e-10     0.046592   -0.0128391    0.0481429 -2.35348e-11 -1.28291e-11   2.8539e-10 -7.56146e-11   7.3237e-11   -0.0251078 -0.000111585 -5.11019e-10         -nan         -nan         -nan         -nan         -nan         -nan         -nan         -nan         -nan         -nan         -nan         -nan\r\n",
      " 1.67661e-11 -9.50871e-11     0.105881   0.00530104  1.02632e-10  7.15305e-11   0.00676397   0.00676397  -0.00366145 -5.18467e-11  -2.0316e-11  -0.00166324 -9.64085e-11  2.03008e-10 -2.10571e-10 -2.54876e-11    0.0640667  -0.00170406   -0.0024773   -0.0196623  -6.2365e-11 -1.11256e-11   -0.0418854         -nan         -nan         -nan         -nan         -nan         -nan         -nan         -nan         -nan         -nan         -nan         -nan\r\n",
      "-1.31179e-10  4.02021e-11   0.00530104     0.105881 -1.09723e-10  2.29064e-10  -0.00676397  -0.00676397   0.00366145 -5.46522e-11  7.12177e-11   0.00166324  7.31638e-11 -1.52734e-10  7.34739e-11 -2.18425e-10  -0.00170406    0.0640667    0.0196623    0.0024773  1.33431e-10  1.11378e-10    0.0418854         -nan         -nan         -nan         -nan         -nan         -nan         -nan         -nan         -nan         -nan         -nan         -nan\r\n",
      " 1.44439e-11   -0.0328898  1.02632e-10 -1.09723e-10     0.240891 -6.89778e-13  1.10446e-09  8.03868e-10 -6.98472e-10  -0.00083951   -0.0144437 -1.60499e-10   0.00881486  -0.00242907    0.0441772  9.30024e-11 -5.66451e-11 -3.34175e-10  -5.7482e-11 -2.87342e-10  -0.00438142 -1.94721e-05  5.20774e-10         -nan         -nan         -nan         -nan         -nan         -nan         -nan         -nan         -nan         -nan         -nan         -nan\r\n",
      "  -0.0328898   1.4444e-11  7.15305e-11  2.29064e-10  -6.8982e-13     0.240891 -1.39694e-10 -1.46785e-10  1.24233e-10   -0.0144437   0.00083951  9.89077e-12   0.00242907   0.00881486  9.30023e-11    0.0441772   2.7987e-10 -5.00103e-11   1.1141e-10 -2.79411e-10  1.94721e-05  -0.00438142  4.31967e-10         -nan         -nan         -nan         -nan         -nan         -nan         -nan         -nan         -nan         -nan         -nan         -nan\r\n",
      " 3.54561e-10  3.69106e-10   0.00676397  -0.00676397  1.10446e-09 -1.39694e-10     0.221861     0.110679   -0.0629947 -1.32829e-12  4.62562e-10   -0.0286158 -1.92774e-09  3.22408e-09 -1.03146e-09  3.28802e-10   -0.0100718  -0.00711321     0.033099   -0.0292637 -8.01263e-10 -3.84424e-10    0.0029306         -nan         -nan         -nan         -nan         -nan         -nan         -nan         -nan         -nan         -nan         -nan         -nan\r\n",
      " 2.99676e-10  4.83519e-10   0.00676397  -0.00676397  8.03868e-10 -1.46785e-10     0.110679     0.221861   -0.0629947  4.95734e-11  5.69061e-10   -0.0286158 -1.97801e-09  3.20083e-09 -7.87545e-10  1.91705e-10   0.00711321    0.0100718   -0.0292637     0.033099 -8.98705e-10 -3.12378e-10    0.0029306         -nan         -nan         -nan         -nan         -nan         -nan         -nan         -nan         -nan         -nan         -nan         -nan\r\n",
      "-1.98333e-10 -1.23087e-10  -0.00366145   0.00366145 -6.98472e-10  1.24233e-10   -0.0629947   -0.0629947     0.429278 -2.25285e-10 -2.34116e-10   -0.0121538  4.56506e-10 -9.09072e-10  7.69115e-10 -2.08912e-10 -6.19898e-06  6.19901e-06 -1.82797e-05 -1.82796e-05 -7.45623e-11  5.84273e-10  5.85015e-05         -nan         -nan         -nan         -nan         -nan         -nan         -nan         -nan         -nan         -nan         -nan         -nan\r\n",
      "    0.015531  0.000902708 -5.18467e-11 -5.46522e-11  -0.00083951   -0.0144437 -1.32829e-12  4.95734e-11 -2.25285e-10     0.463967  2.12112e-12  1.17679e-10  0.000207721  0.000612531  0.000602038     0.010358  -6.1621e-10 -6.25634e-11  1.11965e-10  1.49059e-09 -0.000950373   -0.0177094 -1.86775e-09         -nan         -nan         -nan         -nan         -nan         -nan         -nan         -nan         -nan         -nan         -nan         -nan\r\n",
      "-0.000902708     0.015531  -2.0316e-11  7.12177e-11   -0.0144437   0.00083951  4.62562e-10  5.69061e-10 -2.34116e-10  2.12138e-12     0.463967 -1.09256e-10  0.000612531 -0.000207721     0.010358 -0.000602038 -7.67917e-11  1.45542e-09 -8.67037e-10 -1.88263e-10   -0.0177094  0.000950373 -1.77773e-09         -nan         -nan         -nan         -nan         -nan         -nan         -nan         -nan         -nan         -nan         -nan         -nan\r\n",
      "-3.66633e-11  -1.6676e-10  -0.00166324   0.00166324 -1.60499e-10  9.89077e-12   -0.0286158   -0.0286158   -0.0121538  1.17679e-10 -1.09256e-10     0.636067  5.47708e-10 -6.15246e-10 -6.46657e-11 -6.62029e-11   0.00672135  -0.00672135      0.01982      0.01982  1.03284e-10 -8.58733e-12  4.54498e-05         -nan         -nan         -nan         -nan         -nan         -nan         -nan         -nan         -nan         -nan         -nan         -nan\r\n",
      "   0.0128391     0.046592 -9.64085e-11  7.31638e-11   0.00881486   0.00242907 -1.92774e-09 -1.97801e-09  4.56506e-10  0.000207721  0.000612531  5.47708e-10     0.917068   7.5061e-11   -0.0214904  -0.00592201  5.28388e-10  -7.5821e-10   1.8598e-09  1.85527e-09    0.0223831   0.00627518  1.65248e-10         -nan         -nan         -nan         -nan         -nan         -nan         -nan         -nan         -nan         -nan         -nan         -nan\r\n",
      "    0.046592   -0.0128391  2.03008e-10 -1.52734e-10  -0.00242907   0.00881486  3.22408e-09  3.20083e-09 -9.09072e-10  0.000612531 -0.000207721 -6.15246e-10  7.50611e-11     0.917068   0.00592201   -0.0214904 -1.02304e-09  1.02758e-09  -2.9845e-09 -3.21432e-09  -0.00627518    0.0223831  1.26421e-10         -nan         -nan         -nan         -nan         -nan         -nan         -nan         -nan         -nan         -nan         -nan         -nan\r\n",
      "-2.35348e-11    0.0481429 -2.10571e-10  7.34739e-11    0.0441772  9.30023e-11 -1.03146e-09 -7.87545e-10  7.69115e-10  0.000602038     0.010358 -6.46657e-11   -0.0214904   0.00592201     0.981535  7.28868e-11 -3.50876e-12 -3.05956e-10  3.62884e-10 -7.51218e-11   0.00424838  1.88809e-05  3.17043e-10         -nan         -nan         -nan         -nan         -nan         -nan         -nan         -nan         -nan         -nan         -nan         -nan\r\n",
      "   0.0481429 -2.35348e-11 -2.54876e-11 -2.18425e-10  9.30024e-11    0.0441772  3.28802e-10  1.91705e-10 -2.08912e-10     0.010358 -0.000602038 -6.62029e-11  -0.00592201   -0.0214904  7.28868e-11     0.981535  2.22891e-10  2.15115e-10 -7.21586e-12 -3.16681e-10 -1.88809e-05   0.00424838  6.75844e-10         -nan         -nan         -nan         -nan         -nan         -nan         -nan         -nan         -nan         -nan         -nan         -nan\r\n",
      "-2.87517e-10 -1.28291e-11    0.0640667  -0.00170406 -5.66451e-11   2.7987e-10   -0.0100718   0.00711321 -6.19898e-06  -6.1621e-10 -7.67917e-11   0.00672135  5.28388e-10 -1.02304e-09 -3.50876e-12  2.22891e-10      1.06905   -0.0127873    0.0247201    0.0247201   4.1949e-11  2.29605e-10   -0.0150527         -nan         -nan         -nan         -nan         -nan         -nan         -nan         -nan         -nan         -nan         -nan         -nan\r\n",
      " 1.38665e-10   2.8539e-10  -0.00170406    0.0640667 -3.34175e-10 -5.00103e-11  -0.00711321    0.0100718  6.19901e-06 -6.25634e-11  1.45542e-09  -0.00672135  -7.5821e-10  1.02758e-09 -3.05956e-10  2.15115e-10   -0.0127873      1.06905   -0.0247201   -0.0247201 -1.38863e-10 -2.90718e-10    0.0150527         -nan         -nan         -nan         -nan         -nan         -nan         -nan         -nan         -nan         -nan         -nan         -nan\r\n",
      "-3.10677e-10 -7.56146e-11   -0.0024773    0.0196623  -5.7482e-11   1.1141e-10     0.033099   -0.0292637 -1.82797e-05  1.11965e-10 -8.67037e-10      0.01982   1.8598e-09  -2.9845e-09  3.62884e-10 -7.21586e-12    0.0247201   -0.0247201      1.13357     0.077299   1.1898e-10  4.33689e-10   0.00544802         -nan         -nan         -nan         -nan         -nan         -nan         -nan         -nan         -nan         -nan         -nan         -nan\r\n",
      "-3.81157e-11   7.3237e-11   -0.0196623    0.0024773 -2.87342e-10 -2.79411e-10   -0.0292637     0.033099 -1.82796e-05  1.49059e-09 -1.88263e-10      0.01982  1.85527e-09 -3.21432e-09 -7.51218e-11 -3.16681e-10    0.0247201   -0.0247201     0.077299      1.13357  1.80309e-10  3.37045e-10   0.00544802         -nan         -nan         -nan         -nan         -nan         -nan         -nan         -nan         -nan         -nan         -nan         -nan\r\n",
      " 0.000254908   -0.0573567  6.45196e-13  4.59992e-11  -0.00347861  1.54598e-05 -3.27928e-10 -5.32539e-10 -4.01946e-12 -0.000546891   -0.0101908  -2.3323e-11     0.017949  -0.00503207    0.0191591 -8.51481e-05 -7.12367e-14  9.07856e-11  5.04947e-11  2.62756e-10     0.600541   2.2473e-10  2.81252e-09         -nan         -nan         -nan         -nan         -nan         -nan         -nan         -nan         -nan         -nan         -nan         -nan\r\n",
      "  -0.0573567 -0.000254908  -1.6388e-10  3.70713e-10 -1.54598e-05  -0.00347861  -3.8577e-09 -3.80973e-09  6.45026e-10   -0.0101908  0.000546891  1.38946e-10   0.00503207     0.017949   8.5148e-05    0.0191591 -1.49292e-10 -6.09005e-11 -1.42145e-10  -5.1327e-11   2.2473e-10     0.600541  7.08746e-11         -nan         -nan         -nan         -nan         -nan         -nan         -nan         -nan         -nan         -nan         -nan         -nan\r\n",
      "-3.28213e-10 -3.21242e-10   -0.0423663    0.0423663  6.07594e-10  5.83242e-10   0.00289989   0.00289989 -0.000442869 -1.66946e-09 -1.60314e-09 -0.000216767  1.09824e-10  1.72892e-10  4.07539e-10  8.27903e-10   -0.0160944    0.0160944   0.00533064   0.00533064  3.14877e-09  5.25789e-10       1.9849         -nan         -nan         -nan         -nan         -nan         -nan         -nan         -nan         -nan         -nan         -nan         -nan\r\n",
      "        -nan         -nan         -nan         -nan         -nan         -nan         -nan         -nan         -nan         -nan         -nan         -nan         -nan         -nan         -nan         -nan         -nan         -nan         -nan         -nan         -nan         -nan         -nan         -nan         -nan         -nan         -nan         -nan         -nan         -nan         -nan         -nan         -nan         -nan         -nan\r\n",
      "        -nan         -nan         -nan         -nan         -nan         -nan         -nan         -nan         -nan         -nan         -nan         -nan         -nan         -nan         -nan         -nan         -nan         -nan         -nan         -nan         -nan         -nan         -nan         -nan         -nan         -nan         -nan         -nan         -nan         -nan         -nan         -nan         -nan         -nan         -nan\r\n",
      "        -nan         -nan         -nan         -nan         -nan         -nan         -nan         -nan         -nan         -nan         -nan         -nan         -nan         -nan         -nan         -nan         -nan         -nan         -nan         -nan         -nan         -nan         -nan         -nan         -nan         -nan         -nan         -nan         -nan         -nan         -nan         -nan         -nan         -nan         -nan\r\n",
      "        -nan         -nan         -nan         -nan         -nan         -nan         -nan         -nan         -nan         -nan         -nan         -nan         -nan         -nan         -nan         -nan         -nan         -nan         -nan         -nan         -nan         -nan         -nan         -nan         -nan         -nan         -nan         -nan         -nan         -nan         -nan         -nan         -nan         -nan         -nan\r\n",
      "        -nan         -nan         -nan         -nan         -nan         -nan         -nan         -nan         -nan         -nan         -nan         -nan         -nan         -nan         -nan         -nan         -nan         -nan         -nan         -nan         -nan         -nan         -nan         -nan         -nan         -nan         -nan         -nan         -nan         -nan         -nan         -nan         -nan         -nan         -nan\r\n",
      "        -nan         -nan         -nan         -nan         -nan         -nan         -nan         -nan         -nan         -nan         -nan         -nan         -nan         -nan         -nan         -nan         -nan         -nan         -nan         -nan         -nan         -nan         -nan         -nan         -nan         -nan         -nan         -nan         -nan         -nan         -nan         -nan         -nan         -nan         -nan\r\n",
      "        -nan         -nan         -nan         -nan         -nan         -nan         -nan         -nan         -nan         -nan         -nan         -nan         -nan         -nan         -nan         -nan         -nan         -nan         -nan         -nan         -nan         -nan         -nan         -nan         -nan         -nan         -nan         -nan         -nan         -nan         -nan         -nan         -nan         -nan         -nan\r\n",
      "        -nan         -nan         -nan         -nan         -nan         -nan         -nan         -nan         -nan         -nan         -nan         -nan         -nan         -nan         -nan         -nan         -nan         -nan         -nan         -nan         -nan         -nan         -nan         -nan         -nan         -nan         -nan         -nan         -nan         -nan         -nan         -nan         -nan         -nan         -nan\r\n",
      "        -nan         -nan         -nan         -nan         -nan         -nan         -nan         -nan         -nan         -nan         -nan         -nan         -nan         -nan         -nan         -nan         -nan         -nan         -nan         -nan         -nan         -nan         -nan         -nan         -nan         -nan         -nan         -nan         -nan         -nan         -nan         -nan         -nan         -nan         -nan\r\n",
      "        -nan         -nan         -nan         -nan         -nan         -nan         -nan         -nan         -nan         -nan         -nan         -nan         -nan         -nan         -nan         -nan         -nan         -nan         -nan         -nan         -nan         -nan         -nan         -nan         -nan         -nan         -nan         -nan         -nan         -nan         -nan         -nan         -nan         -nan         -nan\r\n",
      "        -nan         -nan         -nan         -nan         -nan         -nan         -nan         -nan         -nan         -nan         -nan         -nan         -nan         -nan         -nan         -nan         -nan         -nan         -nan         -nan         -nan         -nan         -nan         -nan         -nan         -nan         -nan         -nan         -nan         -nan         -nan         -nan         -nan         -nan         -nan\r\n",
      "        -nan         -nan         -nan         -nan         -nan         -nan         -nan         -nan         -nan         -nan         -nan         -nan         -nan         -nan         -nan         -nan         -nan         -nan         -nan         -nan         -nan         -nan         -nan          nan          nan          nan          nan          nan          nan          nan          nan          nan          nan          nan          nan\r\n",
      "an error occurred:\r\n",
      "Small generalized eigenvalue problem failed.\r\n"
     ]
    }
   ],
   "source": [
    "!xtp_tools -c job_name=CO geometry_optimization.maxiter=1 dftpackage.basisset=3-21G dftpackage.auxbasisset=aux-def2-svp gwbse.gw.mode=G0W0 -e dftgwbse -t 4"
   ]
  },
  {
   "cell_type": "markdown",
   "metadata": {},
   "source": [
    "Notice that we are using 4 threads. The results will be stored in a file named `CO_summary.xml` in the current work directory, together with the optimization step in `optimisation.trj` and the orbitals in [hdf5 format](https://www.hdfgroup.org/solutions/hdf5/) saved on `CO.orb`."
   ]
  }
 ],
 "metadata": {
  "kernelspec": {
   "display_name": "Python 3",
   "language": "python",
   "name": "python3"
  },
  "language_info": {
   "codemirror_mode": {
    "name": "ipython",
    "version": 3
   },
   "file_extension": ".py",
   "mimetype": "text/x-python",
   "name": "python",
   "nbconvert_exporter": "python",
   "pygments_lexer": "ipython3",
   "version": "3.9.6"
  }
 },
 "nbformat": 4,
 "nbformat_minor": 4
}
