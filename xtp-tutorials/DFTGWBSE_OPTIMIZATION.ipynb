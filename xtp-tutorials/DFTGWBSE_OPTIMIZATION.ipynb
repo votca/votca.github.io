{
 "cells": [
  {
   "cell_type": "markdown",
   "metadata": {},
   "source": [
    "## DFT + GWBSE Optimization Using CO"
   ]
  },
  {
   "cell_type": "markdown",
   "metadata": {},
   "source": [
    "## Introduction\n",
    "This tutorial explains how to perform a molecular geometric optimization using the **GWBSE** method. See [the GW Compendium: A Practical Guide to Theoretical Photoemission Spectroscopy](https://doi.org/10.3389/fchem.2019.00377), for an excellent introduction to the method."
   ]
  },
  {
   "cell_type": "markdown",
   "metadata": {},
   "source": [
    "## Requirements\n",
    "* You will need to install **VOTCA** using the instructions described [here](https://github.com/votca/votca/blob/master/share/doc/INSTALL.rst)\n",
    "* Once the installation is completed you need to activate the VOTCA enviroment by running the `VOTCARC.bash` script that has been installed at the bin subfolder for the path that you have provided for the installation step above"
   ]
  },
  {
   "cell_type": "markdown",
   "metadata": {},
   "source": [
    "## Preparing the input\n",
    "To run a DFT-GWBSE calculation we will use the [xtp_tools](https://www.votca.org/xtp/xtp_tools_overview.html) calculator."
   ]
  },
  {
   "cell_type": "markdown",
   "metadata": {},
   "source": [
    "we can now change the calculator mode from single point energy calculation to optimization as follows by adding \n",
    "`-c geometry_optimization.maxiter=1` which enables optimization with one iteration. "
   ]
  },
  {
   "cell_type": "markdown",
   "metadata": {},
   "source": [
    "Because geometry optimsation is quite expensive numerically we chose a smaller basisset and G0W0 Finally, to run the calculation we just need the following command (This still takes a while)"
   ]
  },
  {
   "cell_type": "code",
   "execution_count": 1,
   "metadata": {
    "execution": {
     "iopub.execute_input": "2021-09-25T14:43:20.552012Z",
     "iopub.status.busy": "2021-09-25T14:43:20.551349Z",
     "iopub.status.idle": "2021-09-25T14:43:57.182781Z",
     "shell.execute_reply": "2021-09-25T14:43:57.182206Z"
    }
   },
   "outputs": [
    {
     "name": "stdout",
     "output_type": "stream",
     "text": [
      "==================================================\r\n",
      "========   VOTCA (http://www.votca.org)   ========\r\n",
      "==================================================\r\n",
      "\r\n",
      "please submit bugs to https://github.com/votca/xtp/issues\r\n",
      "\r\n",
      "xtp_tools, version 2022-dev gitid: 72c1541 (compiled Sep 25 2021, 14:33:40)\r\n",
      "votca_csg, version 2022-dev gitid: 72c1541 (compiled Sep 25 2021, 14:18:06)\r\n",
      "votca_tools, version 2022-dev gitid: 72c1541 (compiled Sep 25 2021, 14:15:08)\r\n",
      "\r\n",
      "Initializing tool\r\n",
      "... dftgwbse Evaluating tool\r\n",
      "... dftgwbse  Using 4 threads\r\n",
      "... ... Reading structure from CO.xyz\r\n",
      "... ... Requested geometry optimization of excited state s1\r\n",
      "... ... Initial state: s1\r\n",
      "... ... WARNING: No tracker is used \r\n",
      "... ... Convergence of total energy: 0.000001 Hartree \r\n",
      "... ... Convergence of RMS Force:    0.000030 Hartree/Bohr \r\n",
      "... ... Convergence of Max Force:    0.000100 Hartree/Bohr \r\n",
      "... ... Convergence of RMS Step:     0.000600 Bohr \r\n",
      "... ... Convergence of Max Step:     0.001000 Bohr \r\n",
      "... ... Initial trust radius:        0.018897 BohrA\r\n",
      "    0.307132 -3.10922e-11  4.46847e-11 -2.30847e-10  2.35583e-11   -0.0516061  8.55438e-10  7.78911e-10 -3.22588e-10    0.0181637  -0.00105912 -7.14977e-11    0.0103257    0.0375828 -2.03181e-11    0.0421019 -2.33035e-10  1.30513e-10 -3.01463e-10 -1.07309e-10 -0.000482274     0.108408 -1.28149e-10          nan          nan          nan          nan          nan          nan          nan          nan          nan          nan          nan          nan\r\n",
      "-3.10921e-11     0.307132 -1.47159e-10  7.06324e-11   -0.0516061  2.35582e-11  9.00391e-10  1.08655e-09 -1.97458e-10   0.00105912    0.0181637  -2.2517e-10    0.0375828   -0.0103257    0.0421019 -2.03181e-11 -1.94192e-11  2.13573e-10 -9.75393e-11  4.98314e-12     0.108408  0.000482273 -1.35132e-11          nan          nan          nan          nan          nan          nan          nan          nan          nan          nan          nan          nan\r\n",
      " 4.46847e-11 -1.47159e-10      0.32063   0.00926419  1.56607e-10  1.02941e-10    0.0133943    0.0133943  -0.00499505 -5.81916e-11  -1.4603e-11  -0.00212805 -8.97058e-11  1.83516e-10 -1.71733e-10 -2.08801e-11    0.0470702   -0.0012863  -0.00258718   -0.0151661 -1.82065e-10   3.0612e-10   -0.0254908          nan          nan          nan          nan          nan          nan          nan          nan          nan          nan          nan          nan\r\n",
      "-2.30847e-10  7.06324e-11   0.00926419      0.32063 -1.69949e-10  3.24001e-10   -0.0133943   -0.0133943   0.00499505 -5.01126e-11  6.87254e-11   0.00212805  7.32889e-11 -1.45079e-10  6.91079e-11   -1.859e-10   -0.0012863    0.0470702    0.0151661   0.00258718  1.68608e-10 -7.90462e-10    0.0254908          nan          nan          nan          nan          nan          nan          nan          nan          nan          nan          nan          nan\r\n",
      " 2.35583e-11   -0.0516061  1.56607e-10 -1.69949e-10     0.490902 -2.89939e-12   1.8008e-09  1.37386e-09 -8.20709e-10   -0.0007837   -0.0134403 -1.98449e-10   0.00770823  -0.00211779    0.0309987  6.71153e-11 -6.50206e-11 -1.89706e-10 -1.33742e-10  -2.7382e-10   -0.0531267 -0.000236345  1.67516e-10          nan          nan          nan          nan          nan          nan          nan          nan          nan          nan          nan          nan\r\n",
      "  -0.0516061  2.35582e-11  1.02941e-10  3.24001e-10 -2.89942e-12     0.490902  -2.5476e-10 -2.68103e-10  1.55118e-10   -0.0134403    0.0007837  1.93022e-11   0.00211779   0.00770823  6.71153e-11    0.0309987  1.91119e-10 -5.10401e-11  9.18926e-11 -1.62834e-10  0.000236345   -0.0531267  2.48326e-10          nan          nan          nan          nan          nan          nan          nan          nan          nan          nan          nan          nan\r\n",
      " 8.55438e-10  9.00391e-10    0.0133943   -0.0133943   1.8008e-09  -2.5476e-10     0.549559     0.219665    -0.085664 -7.15358e-12  6.43999e-10   -0.0364955 -1.85635e-09  2.97711e-09 -9.22277e-10  3.15956e-10   -0.0113199  -0.00125894    0.0127126   -0.0330713 -5.12012e-10  7.46009e-09  -0.00157498          nan          nan          nan          nan          nan          nan          nan          nan          nan          nan          nan          nan\r\n",
      " 7.78911e-10  1.08655e-09    0.0133943   -0.0133943  1.37386e-09 -2.68103e-10     0.219665     0.549559    -0.085664  4.69689e-11  7.52304e-10   -0.0364955 -1.89479e-09  2.96069e-09 -7.15497e-10  2.13331e-10   0.00125894    0.0113199   -0.0330713    0.0127126 -4.14747e-11  7.44289e-09  -0.00157498          nan          nan          nan          nan          nan          nan          nan          nan          nan          nan          nan          nan\r\n",
      "-3.22588e-10 -1.97458e-10  -0.00499505   0.00499505 -8.20709e-10  1.55118e-10    -0.085664    -0.085664     0.662947 -1.74982e-10 -2.31599e-10  -0.00632525    4.089e-10 -7.41017e-10  5.58302e-10 -1.54325e-10   0.00131264  -0.00131264   0.00387809   0.00387809  9.19463e-10 -2.85844e-09   0.00114633          nan          nan          nan          nan          nan          nan          nan          nan          nan          nan          nan          nan\r\n",
      "   0.0181637   0.00105912 -5.81916e-11 -5.01126e-11   -0.0007837   -0.0134403 -7.15358e-12  4.69689e-11 -1.74982e-10     0.680922  1.59267e-12  8.85932e-11  2.69914e-05  7.97437e-05  0.000502763   0.00862228 -3.66218e-10 -3.65153e-11  6.96324e-11  8.83689e-10   0.00220602    0.0409682 -8.96016e-10          nan          nan          nan          nan          nan          nan          nan          nan          nan          nan          nan          nan\r\n",
      " -0.00105912    0.0181637  -1.4603e-11  6.87254e-11   -0.0134403    0.0007837  6.43999e-10  7.52304e-10 -2.31599e-10  1.59265e-12     0.680922 -1.12763e-10  7.97436e-05 -2.69914e-05   0.00862228 -0.000502763 -5.77414e-11  8.71798e-10 -5.52256e-10 -1.49523e-10    0.0409682  -0.00220602 -8.14854e-10          nan          nan          nan          nan          nan          nan          nan          nan          nan          nan          nan          nan\r\n",
      "-7.14977e-11  -2.2517e-10  -0.00212805   0.00212805 -1.98449e-10  1.93022e-11   -0.0364955   -0.0364955  -0.00632525  8.85932e-11 -1.12763e-10      0.79826  3.98823e-10 -4.67968e-10 -1.57971e-11 -4.96586e-11   0.00464073  -0.00464073    0.0137106    0.0137106 -8.87975e-11 -8.70727e-10  0.000454369          nan          nan          nan          nan          nan          nan          nan          nan          nan          nan          nan          nan\r\n",
      "   0.0103257    0.0375828 -8.97058e-11  7.32889e-11   0.00770823   0.00211779 -1.85635e-09 -1.89479e-09    4.089e-10  2.69914e-05  7.97436e-05  3.98823e-10     0.956418  4.27504e-11   -0.0126726  -0.00348173  3.03466e-10 -4.15671e-10  1.05223e-09  1.05161e-09   -0.0192835   -0.0053904  3.06365e-11          nan          nan          nan          nan          nan          nan          nan          nan          nan          nan          nan          nan\r\n",
      "   0.0375828   -0.0103257  1.83516e-10 -1.45079e-10  -0.00211779   0.00770823  2.97711e-09  2.96069e-09 -7.41017e-10  7.97437e-05 -2.69914e-05 -4.67968e-10  4.27504e-11     0.956418   0.00348173   -0.0126726 -5.74998e-10  5.75614e-10 -1.67334e-09 -1.78555e-09    0.0053904   -0.0192835 -7.93176e-12          nan          nan          nan          nan          nan          nan          nan          nan          nan          nan          nan          nan\r\n",
      "-2.03181e-11    0.0421019 -1.71733e-10  6.91079e-11    0.0309987  6.71153e-11 -9.22277e-10 -7.15497e-10  5.58302e-10  0.000502763   0.00862228 -1.57971e-11   -0.0126726   0.00348173     0.988566  3.79247e-11  8.55945e-12 -1.86171e-10  2.23478e-10 -1.98066e-11    0.0223628  9.94855e-05  3.66112e-10          nan          nan          nan          nan          nan          nan          nan          nan          nan          nan          nan          nan\r\n",
      "   0.0421019 -2.03181e-11 -2.08801e-11   -1.859e-10  6.71153e-11    0.0309987  3.15956e-10  2.13331e-10 -1.54325e-10   0.00862228 -0.000502763 -4.96586e-11  -0.00348173   -0.0126726  3.79247e-11     0.988566  1.22219e-10  1.21065e-10 -1.19145e-11 -1.89526e-10 -9.94855e-05    0.0223628  4.45727e-10          nan          nan          nan          nan          nan          nan          nan          nan          nan          nan          nan          nan\r\n",
      "-2.33035e-10 -1.94192e-11    0.0470702   -0.0012863 -6.50206e-11  1.91119e-10   -0.0113199   0.00125894   0.00131264 -3.66218e-10 -5.77414e-11   0.00464073  3.03466e-10 -5.74998e-10  8.55945e-12  1.22219e-10      1.03318  -0.00653891    0.0132089    0.0132089  5.74953e-11 -5.04967e-10  -0.00427493          nan          nan          nan          nan          nan          nan          nan          nan          nan          nan          nan          nan\r\n",
      " 1.30513e-10  2.13573e-10   -0.0012863    0.0470702 -1.89706e-10 -5.10401e-11  -0.00125894    0.0113199  -0.00131264 -3.65153e-11  8.71798e-10  -0.00464073 -4.15671e-10  5.75614e-10 -1.86171e-10  1.21065e-10  -0.00653891      1.03318   -0.0132089   -0.0132089 -6.20507e-11  5.84021e-10   0.00427493          nan          nan          nan          nan          nan          nan          nan          nan          nan          nan          nan          nan\r\n",
      "-3.01463e-10 -9.75393e-11  -0.00258718    0.0151661 -1.33742e-10  9.18926e-11    0.0127126   -0.0330713   0.00387809  6.96324e-11 -5.52256e-10    0.0137106  1.05223e-09 -1.67334e-09  2.23478e-10 -1.19145e-11    0.0132089   -0.0132089      1.06773    0.0410926  2.87499e-10 -1.40652e-09   0.00204647          nan          nan          nan          nan          nan          nan          nan          nan          nan          nan          nan          nan\r\n",
      "-1.07309e-10  4.98314e-12   -0.0151661   0.00258718  -2.7382e-10 -1.62834e-10   -0.0330713    0.0127126   0.00387809  8.83689e-10 -1.49523e-10    0.0137106  1.05161e-09 -1.78555e-09 -1.98066e-11 -1.89526e-10    0.0132089   -0.0132089    0.0410926      1.06773   2.1012e-10 -1.41118e-09   0.00204647          nan          nan          nan          nan          nan          nan          nan          nan          nan          nan          nan          nan\r\n",
      " 0.000334749   -0.0752465  2.48672e-10 -3.00547e-10    0.0690159 -0.000307031  1.37603e-09  1.00802e-09 -9.70826e-10  -0.00166442   -0.0309101  4.52346e-11   0.00867095  -0.00242383   -0.0364086  0.000161971 -1.19422e-10  1.20691e-10 -4.87881e-10 -4.85091e-10    -0.194424  2.24949e-10 -3.79935e-09          nan          nan          nan          nan          nan          nan          nan          nan          nan          nan          nan          nan\r\n",
      "  -0.0752465 -0.000334749 -1.79146e-10  5.58622e-10  0.000307031    0.0690159 -5.06022e-09 -5.10943e-09  2.26136e-09   -0.0309101   0.00166442  7.95696e-10   0.00242383   0.00867095 -0.000161971   -0.0364086  4.42668e-10 -4.47898e-10   1.2092e-09  1.21045e-09  2.24949e-10    -0.194424 -1.19834e-09          nan          nan          nan          nan          nan          nan          nan          nan          nan          nan          nan          nan\r\n",
      "-3.04775e-10 -4.79449e-10   -0.0141828    0.0141828  4.11066e-10  1.86417e-10   0.00439084   0.00439084  -0.00133216 -1.14241e-09 -1.07752e-09 -0.000533948  7.67847e-11  1.04474e-10 -4.14623e-11  1.63494e-10  -0.00597977   0.00597977   0.00149313   0.00149313 -3.89373e-09 -1.34908e-09     0.958373          nan          nan          nan          nan          nan          nan          nan          nan          nan          nan          nan          nan\r\n",
      "        -nan         -nan         -nan         -nan         -nan         -nan         -nan         -nan         -nan         -nan         -nan         -nan         -nan         -nan         -nan         -nan         -nan         -nan         -nan         -nan         -nan         -nan         -nan          nan          nan          nan          nan          nan          nan          nan          nan          nan          nan          nan          nan\r\n",
      "        -nan         -nan         -nan         -nan         -nan         -nan         -nan         -nan         -nan         -nan         -nan         -nan         -nan         -nan         -nan         -nan         -nan         -nan         -nan         -nan         -nan         -nan         -nan         -nan         -nan         -nan         -nan         -nan         -nan         -nan         -nan         -nan         -nan         -nan         -nan\r\n",
      "        -nan         -nan         -nan         -nan         -nan         -nan         -nan         -nan         -nan         -nan         -nan         -nan         -nan         -nan         -nan         -nan         -nan         -nan         -nan         -nan         -nan         -nan         -nan         -nan         -nan         -nan         -nan         -nan         -nan         -nan         -nan         -nan         -nan         -nan         -nan\r\n",
      "        -nan         -nan         -nan         -nan         -nan         -nan         -nan         -nan         -nan         -nan         -nan         -nan         -nan         -nan         -nan         -nan         -nan         -nan         -nan         -nan         -nan         -nan         -nan          nan          nan          nan          nan          nan          nan          nan          nan          nan          nan          nan          nan\r\n",
      "        -nan         -nan         -nan         -nan         -nan         -nan         -nan         -nan         -nan         -nan         -nan         -nan         -nan         -nan         -nan         -nan         -nan         -nan         -nan         -nan         -nan         -nan         -nan          nan          nan          nan          nan          nan          nan          nan          nan          nan          nan          nan          nan\r\n",
      "        -nan         -nan         -nan         -nan         -nan         -nan         -nan         -nan         -nan         -nan         -nan         -nan         -nan         -nan         -nan         -nan         -nan         -nan         -nan         -nan         -nan         -nan         -nan         -nan         -nan         -nan         -nan         -nan         -nan         -nan         -nan         -nan         -nan         -nan         -nan\r\n",
      "        -nan         -nan         -nan         -nan         -nan         -nan         -nan         -nan         -nan         -nan         -nan         -nan         -nan         -nan         -nan         -nan         -nan         -nan         -nan         -nan         -nan         -nan         -nan         -nan         -nan         -nan         -nan         -nan         -nan         -nan         -nan         -nan         -nan         -nan         -nan\r\n",
      "        -nan         -nan         -nan         -nan         -nan         -nan         -nan         -nan         -nan         -nan         -nan         -nan         -nan         -nan         -nan         -nan         -nan         -nan         -nan         -nan         -nan         -nan         -nan          nan          nan          nan          nan          nan          nan          nan          nan          nan          nan          nan          nan\r\n",
      "        -nan         -nan         -nan         -nan         -nan         -nan         -nan         -nan         -nan         -nan         -nan         -nan         -nan         -nan         -nan         -nan         -nan         -nan         -nan         -nan         -nan         -nan         -nan          nan          nan          nan          nan          nan          nan          nan          nan          nan          nan          nan          nan\r\n",
      "        -nan         -nan         -nan         -nan         -nan         -nan         -nan         -nan         -nan         -nan         -nan         -nan         -nan         -nan         -nan         -nan         -nan         -nan         -nan         -nan         -nan         -nan         -nan         -nan          nan          nan          nan         -nan          nan          nan          nan         -nan          nan          nan          nan\r\n",
      "        -nan         -nan         -nan         -nan         -nan         -nan         -nan         -nan         -nan         -nan         -nan         -nan         -nan         -nan         -nan         -nan         -nan         -nan         -nan         -nan         -nan         -nan         -nan         -nan          nan          nan          nan         -nan          nan          nan          nan         -nan          nan          nan          nan\r\n",
      "        -nan         -nan         -nan         -nan         -nan         -nan         -nan         -nan         -nan         -nan         -nan         -nan         -nan         -nan         -nan         -nan         -nan         -nan         -nan         -nan         -nan         -nan         -nan         -nan         -nan         -nan         -nan         -nan         -nan         -nan         -nan         -nan         -nan         -nan         -nan\r\n",
      "B\r\n",
      "    0.093811  -1.3821e-11  1.68401e-11 -1.31254e-10  1.44887e-11   -0.0328898  3.54458e-10  2.99576e-10 -1.98308e-10    0.0155308 -0.000905599  -3.6629e-11    0.0128036    0.0466018 -2.36072e-11    0.0481429 -2.87488e-10  1.38432e-10 -3.10743e-10 -3.82934e-11 -0.000111697    0.0251078 -4.01034e-10         -nan         -nan         -nan         -nan         -nan         -nan         -nan         -nan         -nan         -nan         -nan         -nan\r\n",
      " -1.3821e-11     0.093811 -9.49912e-11  4.01086e-11   -0.0328898  1.44887e-11  3.69184e-10  4.83597e-10 -1.23126e-10  0.000905599    0.0155308 -1.66767e-10    0.0466018   -0.0128036    0.0481429 -2.36072e-11 -1.29273e-11  2.85377e-10 -7.58383e-11  7.32174e-11    0.0251078  0.000111697 -5.11126e-10         -nan         -nan         -nan         -nan         -nan         -nan         -nan         -nan         -nan         -nan         -nan         -nan\r\n",
      " 1.68401e-11 -9.49912e-11     0.105883   0.00529852  1.02791e-10  7.14823e-11   0.00678555   0.00678555  -0.00367317 -5.18356e-11  -2.0209e-11  -0.00166856 -9.68918e-11  2.03549e-10 -2.10718e-10 -2.54115e-11    0.0640794  -0.00170362  -0.00248176   -0.0196192  6.25374e-11  1.11717e-11   -0.0418853         -nan         -nan         -nan         -nan         -nan         -nan         -nan         -nan         -nan         -nan         -nan         -nan\r\n",
      "-1.31254e-10  4.01086e-11   0.00529852     0.105883 -1.09887e-10  2.29112e-10  -0.00678555  -0.00678555   0.00367317 -5.46522e-11  7.11323e-11   0.00166856  7.36079e-11 -1.53294e-10  7.36257e-11 -2.18503e-10  -0.00170362    0.0640794    0.0196192   0.00248176 -1.33602e-10 -1.11426e-10    0.0418853         -nan         -nan         -nan         -nan         -nan         -nan         -nan         -nan         -nan         -nan         -nan         -nan\r\n",
      " 1.44887e-11   -0.0328898  1.02791e-10 -1.09887e-10     0.240891  -6.9631e-13  1.10441e-09  8.03819e-10 -6.98447e-10 -0.000842198   -0.0144435 -1.60497e-10   0.00881671  -0.00242234    0.0441772  9.32946e-11 -5.64262e-11 -3.34223e-10 -5.72724e-11 -2.87424e-10   0.00438142  1.94916e-05  5.20837e-10         -nan         -nan         -nan         -nan         -nan         -nan         -nan         -nan         -nan         -nan         -nan         -nan\r\n",
      "  -0.0328898  1.44887e-11  7.14823e-11  2.29112e-10 -6.96331e-13     0.240891 -1.39871e-10 -1.46967e-10  1.24375e-10   -0.0144435  0.000842198  9.92326e-12   0.00242234   0.00881671  9.32946e-11    0.0441772  2.80036e-10 -4.98846e-11  1.11454e-10 -2.79195e-10 -1.94916e-05   0.00438142  4.31872e-10         -nan         -nan         -nan         -nan         -nan         -nan         -nan         -nan         -nan         -nan         -nan         -nan\r\n",
      " 3.54458e-10  3.69184e-10   0.00678555  -0.00678555  1.10441e-09 -1.39871e-10     0.221858     0.110677    -0.062994 -1.34841e-12  4.62576e-10   -0.0286154 -1.92953e-09  3.22297e-09 -1.03138e-09  3.28966e-10   -0.0100552  -0.00708218    0.0331067    -0.029269  8.01316e-10  3.84238e-10   0.00293504         -nan         -nan         -nan         -nan         -nan         -nan         -nan         -nan         -nan         -nan         -nan         -nan\r\n",
      " 2.99576e-10  4.83597e-10   0.00678555  -0.00678555  8.03819e-10 -1.46967e-10     0.110677     0.221858    -0.062994  4.95749e-11  5.69064e-10   -0.0286154 -1.97979e-09  3.19969e-09 -7.87465e-10  1.91874e-10   0.00708218    0.0100552    -0.029269    0.0331067  8.98759e-10  3.12196e-10   0.00293504         -nan         -nan         -nan         -nan         -nan         -nan         -nan         -nan         -nan         -nan         -nan         -nan\r\n",
      "-1.98308e-10 -1.23126e-10  -0.00367317   0.00367317 -6.98447e-10  1.24375e-10    -0.062994    -0.062994     0.429278  -2.2528e-10 -2.34119e-10   -0.0121538  4.57015e-10 -9.08816e-10  7.69072e-10 -2.09068e-10 -6.18843e-06  6.18845e-06 -1.82832e-05 -1.82832e-05   7.4448e-11  -5.8429e-10  6.06738e-05         -nan         -nan         -nan         -nan         -nan         -nan         -nan         -nan         -nan         -nan         -nan         -nan\r\n",
      "   0.0155308  0.000905599 -5.18356e-11 -5.46522e-11 -0.000842198   -0.0144435 -1.34841e-12  4.95749e-11  -2.2528e-10     0.463967    2.127e-12  1.17681e-10  0.000207368   0.00061265  0.000603966    0.0103579 -6.17048e-10    -6.25e-11  1.12004e-10  1.49025e-09   0.00095359    0.0177092 -1.86772e-09         -nan         -nan         -nan         -nan         -nan         -nan         -nan         -nan         -nan         -nan         -nan         -nan\r\n",
      "-0.000905599    0.0155308  -2.0209e-11  7.11323e-11   -0.0144435  0.000842198  4.62576e-10  5.69064e-10 -2.34119e-10  2.12699e-12     0.463967 -1.09254e-10   0.00061265 -0.000207368    0.0103579 -0.000603966 -7.66819e-11  1.45493e-09 -8.67854e-10 -1.88305e-10    0.0177092  -0.00095359 -1.77779e-09         -nan         -nan         -nan         -nan         -nan         -nan         -nan         -nan         -nan         -nan         -nan         -nan\r\n",
      " -3.6629e-11 -1.66767e-10  -0.00166856   0.00166856 -1.60497e-10  9.92326e-12   -0.0286154   -0.0286154   -0.0121538  1.17681e-10 -1.09254e-10     0.636067  5.48053e-10 -6.14939e-10 -6.46793e-11 -6.61893e-11   0.00670991  -0.00670991    0.0198238    0.0198238 -1.03281e-10  8.60597e-12  4.64836e-05         -nan         -nan         -nan         -nan         -nan         -nan         -nan         -nan         -nan         -nan         -nan         -nan\r\n",
      "   0.0128036    0.0466018 -9.68918e-11  7.36079e-11   0.00881671   0.00242234 -1.92953e-09 -1.97979e-09  4.57015e-10  0.000207368   0.00061265  5.48053e-10     0.917068  7.49447e-11   -0.0214949   -0.0059056   5.2789e-10 -7.57712e-10  1.86191e-09  1.85738e-09   -0.0223879  -0.00625819  1.65238e-10         -nan         -nan         -nan         -nan         -nan         -nan         -nan         -nan         -nan         -nan         -nan         -nan\r\n",
      "   0.0466018   -0.0128036  2.03549e-10 -1.53294e-10  -0.00242234   0.00881671  3.22297e-09  3.19969e-09 -9.08816e-10   0.00061265 -0.000207368 -6.14939e-10  7.49447e-11     0.917068    0.0059056   -0.0214949  -1.0209e-09  1.02543e-09 -2.98405e-09 -3.21387e-09   0.00625819   -0.0223879   1.2639e-10         -nan         -nan         -nan         -nan         -nan         -nan         -nan         -nan         -nan         -nan         -nan         -nan\r\n",
      "-2.36073e-11    0.0481429 -2.10718e-10  7.36257e-11    0.0441772  9.32946e-11 -1.03138e-09 -7.87465e-10  7.69072e-10  0.000603966    0.0103579 -6.46793e-11   -0.0214949    0.0059056     0.981535  7.31026e-11 -3.42765e-12 -3.05711e-10  3.63054e-10 -7.51828e-11  -0.00424838 -1.88998e-05  3.17225e-10         -nan         -nan         -nan         -nan         -nan         -nan         -nan         -nan         -nan         -nan         -nan         -nan\r\n",
      "   0.0481429 -2.36072e-11 -2.54115e-11 -2.18503e-10  9.32946e-11    0.0441772  3.28966e-10  1.91874e-10 -2.09068e-10    0.0103579 -0.000603966 -6.61893e-11   -0.0059056   -0.0214949  7.31025e-11     0.981535  2.23069e-10  2.15168e-10 -7.40615e-12 -3.16545e-10  1.88997e-05  -0.00424838  6.75763e-10         -nan         -nan         -nan         -nan         -nan         -nan         -nan         -nan         -nan         -nan         -nan         -nan\r\n",
      "-2.87488e-10 -1.29273e-11    0.0640794  -0.00170362 -5.64262e-11  2.80036e-10   -0.0100552   0.00708218 -6.18843e-06 -6.17048e-10 -7.66819e-11   0.00670991   5.2789e-10  -1.0209e-09 -3.42765e-12  2.23069e-10      1.06903   -0.0127588    0.0246828    0.0246828 -4.18909e-11 -2.29401e-10   -0.0150559         -nan         -nan         -nan         -nan         -nan         -nan         -nan         -nan         -nan         -nan         -nan         -nan\r\n",
      " 1.38432e-10  2.85377e-10  -0.00170362    0.0640794 -3.34223e-10 -4.98846e-11  -0.00708218    0.0100552  6.18845e-06    -6.25e-11  1.45493e-09  -0.00670991 -7.57712e-10  1.02543e-09 -3.05711e-10  2.15168e-10   -0.0127588      1.06903   -0.0246828   -0.0246828   1.3885e-10  2.90442e-10    0.0150559         -nan         -nan         -nan         -nan         -nan         -nan         -nan         -nan         -nan         -nan         -nan         -nan\r\n",
      "-3.10743e-10 -7.58383e-11  -0.00248176    0.0196192 -5.72724e-11  1.11454e-10    0.0331067    -0.029269 -1.82832e-05  1.12004e-10 -8.67854e-10    0.0198238  1.86191e-09 -2.98405e-09  3.63054e-10 -7.40615e-12    0.0246828   -0.0246828      1.13359    0.0773275 -1.19143e-10 -4.33835e-10   0.00543934         -nan         -nan         -nan         -nan         -nan         -nan         -nan         -nan         -nan         -nan         -nan         -nan\r\n",
      "-3.82934e-11  7.32174e-11   -0.0196192   0.00248176 -2.87424e-10 -2.79195e-10    -0.029269    0.0331067 -1.82832e-05  1.49025e-09 -1.88305e-10    0.0198238  1.85738e-09 -3.21387e-09 -7.51828e-11 -3.16545e-10    0.0246828   -0.0246828    0.0773275      1.13359   -1.804e-10 -3.37145e-10   0.00543934         -nan         -nan         -nan         -nan         -nan         -nan         -nan         -nan         -nan         -nan         -nan         -nan\r\n",
      "-0.000255163    0.0573567 -5.08611e-13 -4.61317e-11   0.00347861 -1.54753e-05  3.28683e-10  5.33295e-10  3.88816e-12  0.000548743    0.0101907  2.32933e-11   -0.0179529   0.00501845   -0.0191591  8.52333e-05  2.47991e-13 -9.08056e-11 -5.04187e-11 -2.62747e-10     0.600541  2.25466e-10 -2.81272e-09         -nan         -nan         -nan         -nan         -nan         -nan         -nan         -nan         -nan         -nan         -nan         -nan\r\n",
      "   0.0573567  0.000255163  1.64589e-10 -3.71423e-10  1.54753e-05   0.00347861  3.85755e-09  3.80958e-09 -6.45019e-10    0.0101907 -0.000548743 -1.38947e-10  -0.00501845   -0.0179529 -8.52332e-05   -0.0191591  1.49264e-10  6.09964e-11  1.42127e-10  5.14656e-11  2.25466e-10     0.600541 -7.03165e-11         -nan         -nan         -nan         -nan         -nan         -nan         -nan         -nan         -nan         -nan         -nan         -nan\r\n",
      "-3.28113e-10 -3.21342e-10   -0.0423661    0.0423661  6.07702e-10  5.83128e-10   0.00290472   0.00290472 -0.000442378 -1.66944e-09 -1.60318e-09 -0.000216614  1.09696e-10  1.72991e-10  4.07715e-10  8.27809e-10    -0.016098     0.016098   0.00532005   0.00532005 -3.14902e-09 -5.25122e-10      1.98492         -nan         -nan         -nan         -nan         -nan         -nan         -nan         -nan         -nan         -nan         -nan         -nan\r\n",
      "        -nan         -nan         -nan         -nan         -nan         -nan         -nan         -nan         -nan         -nan         -nan         -nan         -nan         -nan         -nan         -nan         -nan         -nan         -nan         -nan         -nan         -nan         -nan         -nan         -nan         -nan         -nan         -nan         -nan         -nan         -nan         -nan         -nan         -nan         -nan\r\n",
      "        -nan         -nan         -nan         -nan         -nan         -nan         -nan         -nan         -nan         -nan         -nan         -nan         -nan         -nan         -nan         -nan         -nan         -nan         -nan         -nan         -nan         -nan         -nan         -nan         -nan         -nan         -nan         -nan         -nan         -nan         -nan         -nan         -nan         -nan         -nan\r\n",
      "        -nan         -nan         -nan         -nan         -nan         -nan         -nan         -nan         -nan         -nan         -nan         -nan         -nan         -nan         -nan         -nan         -nan         -nan         -nan         -nan         -nan         -nan         -nan         -nan         -nan         -nan         -nan         -nan         -nan         -nan         -nan         -nan         -nan         -nan         -nan\r\n",
      "        -nan         -nan         -nan         -nan         -nan         -nan         -nan         -nan         -nan         -nan         -nan         -nan         -nan         -nan         -nan         -nan         -nan         -nan         -nan         -nan         -nan         -nan         -nan         -nan         -nan         -nan         -nan         -nan         -nan         -nan         -nan         -nan         -nan         -nan         -nan\r\n",
      "        -nan         -nan         -nan         -nan         -nan         -nan         -nan         -nan         -nan         -nan         -nan         -nan         -nan         -nan         -nan         -nan         -nan         -nan         -nan         -nan         -nan         -nan         -nan         -nan         -nan         -nan         -nan         -nan         -nan         -nan         -nan         -nan         -nan         -nan         -nan\r\n",
      "        -nan         -nan         -nan         -nan         -nan         -nan         -nan         -nan         -nan         -nan         -nan         -nan         -nan         -nan         -nan         -nan         -nan         -nan         -nan         -nan         -nan         -nan         -nan         -nan         -nan         -nan         -nan         -nan         -nan         -nan         -nan         -nan         -nan         -nan         -nan\r\n",
      "        -nan         -nan         -nan         -nan         -nan         -nan         -nan         -nan         -nan         -nan         -nan         -nan         -nan         -nan         -nan         -nan         -nan         -nan         -nan         -nan         -nan         -nan         -nan         -nan         -nan         -nan         -nan         -nan         -nan         -nan         -nan         -nan         -nan         -nan         -nan\r\n",
      "        -nan         -nan         -nan         -nan         -nan         -nan         -nan         -nan         -nan         -nan         -nan         -nan         -nan         -nan         -nan         -nan         -nan         -nan         -nan         -nan         -nan         -nan         -nan         -nan         -nan         -nan         -nan         -nan         -nan         -nan         -nan         -nan         -nan         -nan         -nan\r\n",
      "        -nan         -nan         -nan         -nan         -nan         -nan         -nan         -nan         -nan         -nan         -nan         -nan         -nan         -nan         -nan         -nan         -nan         -nan         -nan         -nan         -nan         -nan         -nan         -nan         -nan         -nan         -nan         -nan         -nan         -nan         -nan         -nan         -nan         -nan         -nan\r\n",
      "        -nan         -nan         -nan         -nan         -nan         -nan         -nan         -nan         -nan         -nan         -nan         -nan         -nan         -nan         -nan         -nan         -nan         -nan         -nan         -nan         -nan         -nan         -nan         -nan         -nan         -nan         -nan         -nan         -nan         -nan         -nan         -nan         -nan         -nan         -nan\r\n",
      "        -nan         -nan         -nan         -nan         -nan         -nan         -nan         -nan         -nan         -nan         -nan         -nan         -nan         -nan         -nan         -nan         -nan         -nan         -nan         -nan         -nan         -nan         -nan         -nan         -nan         -nan         -nan         -nan         -nan         -nan         -nan         -nan         -nan         -nan         -nan\r\n",
      "        -nan         -nan         -nan         -nan         -nan         -nan         -nan         -nan         -nan         -nan         -nan         -nan         -nan         -nan         -nan         -nan         -nan         -nan         -nan         -nan         -nan         -nan         -nan          nan          nan          nan          nan          nan          nan          nan          nan          nan          nan          nan          nan\r\n",
      "an error occurred:\r\n",
      "Small generalized eigenvalue problem failed.\r\n"
     ]
    }
   ],
   "source": [
    "!xtp_tools -c job_name=CO geometry_optimization.maxiter=1 dftpackage.basisset=3-21G dftpackage.auxbasisset=aux-def2-svp gwbse.gw.mode=G0W0 -e dftgwbse -t 4"
   ]
  },
  {
   "cell_type": "markdown",
   "metadata": {},
   "source": [
    "Notice that we are using 4 threads. The results will be stored in a file named `CO_summary.xml` in the current work directory, together with the optimization step in `optimisation.trj` and the orbitals in [hdf5 format](https://www.hdfgroup.org/solutions/hdf5/) saved on `CO.orb`."
   ]
  }
 ],
 "metadata": {
  "kernelspec": {
   "display_name": "Python 3",
   "language": "python",
   "name": "python3"
  },
  "language_info": {
   "codemirror_mode": {
    "name": "ipython",
    "version": 3
   },
   "file_extension": ".py",
   "mimetype": "text/x-python",
   "name": "python",
   "nbconvert_exporter": "python",
   "pygments_lexer": "ipython3",
   "version": "3.9.7"
  }
 },
 "nbformat": 4,
 "nbformat_minor": 4
}
