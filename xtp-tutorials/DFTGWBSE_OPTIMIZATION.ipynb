{
 "cells": [
  {
   "cell_type": "markdown",
   "metadata": {},
   "source": [
    "## DFT + GWBSE Optimization Using CO"
   ]
  },
  {
   "cell_type": "markdown",
   "metadata": {},
   "source": [
    "## Introduction\n",
    "This tutorial explains how to perform a molecular geometric optimization using the **GWBSE** method. See [the GW Compendium: A Practical Guide to Theoretical Photoemission Spectroscopy](https://doi.org/10.3389/fchem.2019.00377), for an excellent introduction to the method."
   ]
  },
  {
   "cell_type": "markdown",
   "metadata": {},
   "source": [
    "## Requirements\n",
    "* You will need to install **VOTCA** using the instructions described [here](https://github.com/votca/votca/blob/master/share/doc/INSTALL.rst)\n",
    "* Once the installation is completed you need to activate the VOTCA enviroment by running the `VOTCARC.bash` script that has been installed at the bin subfolder for the path that you have provided for the installation step above"
   ]
  },
  {
   "cell_type": "markdown",
   "metadata": {},
   "source": [
    "## Preparing the input\n",
    "To run a DFT-GWBSE calculation we will use the [xtp_tools](https://www.votca.org/xtp/xtp_tools_overview.html) calculator."
   ]
  },
  {
   "cell_type": "markdown",
   "metadata": {},
   "source": [
    "we can now change the calculator mode from single point energy calculation to optimization as follows by adding \n",
    "`-c geometry_optimization.maxiter=1` which enables optimization with one iteration. "
   ]
  },
  {
   "cell_type": "markdown",
   "metadata": {},
   "source": [
    "Because geometry optimsation is quite expensive numerically we chose a smaller basisset and G0W0 Finally, to run the calculation we just need the following command (This still takes a while)"
   ]
  },
  {
   "cell_type": "code",
   "execution_count": 1,
   "metadata": {
    "execution": {
     "iopub.execute_input": "2023-01-06T22:02:22.239357Z",
     "iopub.status.busy": "2023-01-06T22:02:22.239010Z",
     "iopub.status.idle": "2023-01-06T22:02:25.523016Z",
     "shell.execute_reply": "2023-01-06T22:02:25.522369Z"
    }
   },
   "outputs": [
    {
     "name": "stdout",
     "output_type": "stream",
     "text": [
      "==================================================\r\n",
      "========   VOTCA (http://www.votca.org)   ========\r\n",
      "==================================================\r\n",
      "\r\n",
      "please submit bugs to https://github.com/votca/xtp/issues\r\n",
      "\r\n",
      "xtp_tools, version 2023-dev gitid: b98e9cf (compiled Jan  6 2023, 21:54:10)\r\n",
      "votca_csg, version 2023-dev gitid: b98e9cf (compiled Jan  6 2023, 21:39:16)\r\n",
      "votca_tools, version 2023-dev gitid: b98e9cf (compiled Jan  6 2023, 21:36:34)\r\n",
      "\r\n",
      "Initializing tool\r\n",
      "... dftgwbse Evaluating tool\r\n",
      "... dftgwbse  Using 4 threads\r\n",
      "... ... Reading structure from CO.xyz\r\n",
      "... ... Requested geometry optimization of excited state s1\r\n",
      "... ... Initial state: s1\r\n",
      "... ... WARNING: No tracker is used \r\n",
      "... ... Convergence of total energy: 0.000001 Hartree \r\n",
      "... ... Convergence of RMS Force:    0.000030 Hartree/Bohr \r\n",
      "... ... Convergence of Max Force:    0.000100 Hartree/Bohr \r\n",
      "... ... Convergence of RMS Step:     0.000600 Bohr \r\n",
      "... ... Convergence of Max Step:     0.001000 Bohr \r\n",
      "... ... Initial trust radius:        0.018897 BohrA\r\n",
      "    0.307132    1.543e-14 -1.19379e-10 -3.82617e-10 -1.01128e-14   -0.0516061  6.52063e-14 -6.65736e-14 -1.61395e-14   -0.0181946  6.74278e-07 -9.43408e-15 -3.19925e-05    0.0389754  8.67299e-15    0.0421019 -1.99711e-11   2.7998e-11 -1.23693e-14 -5.84347e-15   9.3432e-08    -0.108409  1.56048e-10 -1.20093e-10          nan          nan          nan          nan          nan          nan          nan          nan          nan          nan          nan\r\n",
      " 1.53878e-14     0.307132   7.4586e-14  7.58945e-14   -0.0516061 -1.02274e-14  1.68357e-09 -1.94681e-09 -5.10789e-10  6.74278e-07    0.0181946 -3.05781e-10   -0.0389754 -3.19925e-05    0.0421019   8.6329e-15 -2.54314e-13  2.47869e-13  3.17408e-10  3.25434e-10     0.108409  9.34319e-08 -1.03755e-14  7.48846e-11          nan          nan          nan          nan          nan          nan          nan          nan          nan          nan          nan\r\n",
      "-1.19379e-10   7.4586e-14      0.31985   -0.0100452  4.94919e-14 -4.10641e-11  8.54182e-06 -8.54182e-06 -3.18003e-06  4.42952e-11  2.72017e-14 -1.35479e-06  6.65143e-16  2.49088e-11 -1.96465e-14  1.61215e-11   -0.0495318   0.00205135 -3.10203e-07 -3.92839e-05  2.56839e-13  1.56092e-11   -0.0253475   -0.0199335          nan          nan          nan          nan          nan          nan          nan          nan          nan          nan          nan\r\n",
      "-3.82617e-10  7.58945e-14   -0.0100452      0.31985  4.69585e-14  3.74773e-10  8.54182e-06 -8.54182e-06 -3.18003e-06  1.08717e-10  2.51822e-14 -1.35479e-06 -5.15073e-15  3.19284e-11  -1.7813e-14 -2.93777e-10  -0.00205135    0.0495318 -3.92839e-05 -3.10203e-07  2.59217e-13   5.1794e-10   -0.0253475    0.0199335          nan          nan          nan          nan          nan          nan          nan          nan          nan          nan          nan\r\n",
      "-1.01171e-14   -0.0516061   4.9492e-14  4.69585e-14     0.490902  2.33072e-15  1.65015e-09 -1.23431e-09 -7.26247e-10 -4.98933e-07   -0.0134631 -1.92567e-10  -0.00799385 -6.56165e-06    0.0309987 -2.97378e-14 -1.39232e-13  1.42058e-13   1.8058e-10  1.76917e-10   -0.0531272 -4.57875e-08 -1.83315e-14 -1.29463e-11          nan          nan          nan          nan          nan          nan          nan          nan          nan          nan          nan\r\n",
      "  -0.0516061 -1.02371e-14 -4.10641e-11  3.74773e-10  2.38873e-15     0.490902  3.85841e-14 -3.60271e-14  -2.1823e-14    0.0134631 -4.98933e-07 -5.84471e-15 -6.56165e-06   0.00799385 -2.97115e-14    0.0309987  1.57853e-11 -1.94482e-11  2.08482e-14  1.80382e-14 -4.57875e-08    0.0531272  -1.0036e-10  4.74974e-11          nan          nan          nan          nan          nan          nan          nan          nan          nan          nan          nan\r\n",
      " 6.52063e-14  1.68357e-09  8.54182e-06  8.54182e-06  1.65015e-09  3.85841e-14     0.550341    -0.220446   -0.0858093  5.51698e-16  6.85581e-10   -0.0365574   5.4067e-10  4.28069e-13 -7.78859e-10 -1.45142e-14 -2.73673e-05 -1.16064e-05   -0.0124663    0.0350142  6.46285e-09 -2.12358e-13 -1.45094e-06  -0.00938433          nan          nan          nan          nan          nan          nan          nan          nan          nan          nan          nan\r\n",
      "-6.65736e-14 -1.94681e-09 -8.54182e-06 -8.54182e-06 -1.23431e-09 -3.60271e-14    -0.220446     0.550341    0.0858093  -2.5657e-15 -7.50003e-10    0.0365574 -5.47689e-10 -4.33971e-13   4.6896e-10  1.27373e-14 -1.16064e-05 -2.73673e-05   -0.0350142    0.0124663 -6.95495e-09  2.14657e-13  1.45094e-06  -0.00938431          nan          nan          nan          nan          nan          nan          nan          nan          nan          nan          nan\r\n",
      "-1.61397e-14 -5.10789e-10 -3.18003e-06 -3.18003e-06 -7.26247e-10  -2.1823e-14   -0.0858093    0.0858093     0.662947 -2.34104e-15 -4.06803e-10  -0.00632528 -6.07628e-11 -4.82334e-14  4.48452e-10  1.35795e-14  3.20894e-06 -3.20894e-06  -0.00409419  -0.00409419 -1.71073e-09  5.27297e-14  9.16943e-07  3.08015e-09          nan          nan          nan          nan          nan          nan          nan          nan          nan          nan          nan\r\n",
      "  -0.0181946  6.74278e-07  4.42952e-11  1.08717e-10 -4.98933e-07    0.0134631  5.51675e-16  -2.5659e-15 -2.34102e-15     0.680922 -2.48138e-15 -1.51698e-16  6.59868e-08 -8.41908e-05  3.20077e-07  -0.00863691 -1.13882e-11   1.9046e-11 -1.43134e-14 -7.64399e-15  1.48509e-06    0.0410276  -1.1313e-10  7.79066e-11          nan          nan          nan          nan          nan          nan          nan          nan          nan          nan          nan\r\n",
      " 6.74278e-07    0.0181946  2.72017e-14   2.5182e-14   -0.0134631 -4.98933e-07  6.85581e-10 -7.50003e-10 -4.06803e-10 -2.42232e-15     0.680922 -2.53172e-11 -8.41908e-05 -6.59868e-08   0.00863691  3.20077e-07 -6.55429e-14  7.22277e-14   9.1472e-11  8.38142e-11    0.0410276 -1.48509e-06 -7.08025e-16   4.2448e-11          nan          nan          nan          nan          nan          nan          nan          nan          nan          nan          nan\r\n",
      "-9.43408e-15 -3.05781e-10 -1.35479e-06 -1.35479e-06 -1.92567e-10 -5.84487e-15   -0.0365574    0.0365574  -0.00632528 -1.51657e-16 -2.53172e-11      0.79826 -2.17058e-10 -1.71855e-13  -6.3121e-11 -1.91002e-15   1.1345e-05  -1.1345e-05   -0.0144747   -0.0144747 -9.11097e-10  2.72089e-14  3.40222e-07   1.2809e-09          nan          nan          nan          nan          nan          nan          nan          nan          nan          nan          nan\r\n",
      "-3.19925e-05   -0.0389754  6.65143e-16 -5.15073e-15  -0.00799385 -6.56165e-06   5.4067e-10 -5.47689e-10 -6.07628e-11  6.59868e-08 -8.41908e-05 -2.17058e-10     0.956418 -1.12546e-13    0.0131422  1.07876e-05 -2.30926e-13  2.30254e-13  2.28669e-10  3.39595e-10    0.0200227 -1.64181e-05  3.28581e-14  4.21536e-11          nan          nan          nan          nan          nan          nan          nan          nan          nan          nan          nan\r\n",
      "   0.0389754 -3.19925e-05  2.49088e-11  3.19284e-11 -6.56165e-06   0.00799385  4.28069e-13 -4.33971e-13 -4.82335e-14 -8.41908e-05 -6.59868e-08 -1.71855e-13 -1.12483e-13     0.956418  1.07876e-05   -0.0131422 -4.53867e-11 -6.55393e-11  2.33428e-13  2.32787e-13  1.64181e-05    0.0200227 -4.47406e-11  6.36966e-11          nan          nan          nan          nan          nan          nan          nan          nan          nan          nan          nan\r\n",
      " 8.67382e-15    0.0421019 -1.96464e-14  -1.7813e-14    0.0309987 -2.97142e-14 -7.78859e-10   4.6896e-10  4.48452e-10  3.20077e-07   0.00863691  -6.3121e-11    0.0131422  1.07876e-05     0.988567 -1.54842e-14 -3.59336e-14 -1.10574e-13 -1.35024e-10  4.18819e-11     0.022363  1.92735e-08  1.22912e-14 -4.47142e-11          nan          nan          nan          nan          nan          nan          nan          nan          nan          nan          nan\r\n",
      "   0.0421019  8.64492e-15  1.61215e-11 -2.93777e-10 -2.97372e-14    0.0309987 -1.45142e-14  1.27373e-14  1.35795e-14  -0.00863691  3.20077e-07 -1.91002e-15  1.07876e-05   -0.0131422 -1.54563e-14     0.988567  6.76757e-11   1.0923e-10 -9.08507e-14  5.56544e-14  1.92735e-08    -0.022363 -1.36987e-10  7.93733e-11          nan          nan          nan          nan          nan          nan          nan          nan          nan          nan          nan\r\n",
      "-1.99711e-11 -2.54314e-13   -0.0495318  -0.00205135 -1.39232e-13  1.57853e-11 -2.73673e-05 -1.16064e-05  3.20894e-06 -1.13882e-11 -6.55429e-14   1.1345e-05 -2.30926e-13 -4.53867e-11 -3.59336e-14  6.76757e-11      1.02871  -0.00206802 -3.40908e-05 -3.40908e-05 -9.35664e-13 -1.59663e-12   0.00469825  0.000111671          nan          nan          nan          nan          nan          nan          nan          nan          nan          nan          nan\r\n",
      "  2.7998e-11  2.47869e-13   0.00205135    0.0495318  1.42058e-13 -1.94482e-11 -1.16064e-05 -2.73673e-05 -3.20894e-06   1.9046e-11  7.22276e-14  -1.1345e-05  2.30254e-13 -6.55393e-11 -1.10574e-13   1.0923e-10  -0.00206802      1.02871  3.40908e-05  3.40908e-05  8.59067e-13 -9.25515e-11  -0.00469825  0.000111671          nan          nan          nan          nan          nan          nan          nan          nan          nan          nan          nan\r\n",
      "-1.23693e-14  3.17408e-10 -3.10203e-07 -3.92839e-05   1.8058e-10  2.08482e-14   -0.0124663   -0.0350142  -0.00409419 -1.43134e-14   9.1472e-11   -0.0144747  2.28669e-10  2.33428e-13 -1.35024e-10 -9.08507e-14 -3.40908e-05  3.40908e-05       1.0722    0.0455635  1.10042e-09  4.09404e-14  3.48975e-06  0.000249657          nan          nan          nan          nan          nan          nan          nan          nan          nan          nan          nan\r\n",
      "-5.84347e-15  3.25434e-10 -3.92839e-05 -3.10203e-07  1.76917e-10  1.80382e-14    0.0350142    0.0124663  -0.00409419 -7.64404e-15  8.38142e-11   -0.0144747  3.39595e-10  2.32787e-13  4.18819e-11  5.56544e-14 -3.40908e-05  3.40908e-05    0.0455635       1.0722  1.19324e-09  -3.6911e-14  3.48975e-06 -0.000249659          nan          nan          nan          nan          nan          nan          nan          nan          nan          nan          nan\r\n",
      "-6.48517e-08   -0.0752473 -1.38129e-13 -1.39618e-13    0.0690166  5.94818e-08  -3.3474e-09  3.67017e-09  1.09582e-09 -1.12049e-06   -0.0309549  7.94527e-10  -0.00900335 -7.38252e-06   -0.0364089  -3.1379e-08  5.35273e-13  -5.3262e-13 -6.79722e-10 -6.82999e-10    -0.194424  6.58071e-14  8.03695e-14  5.80537e-10          nan          nan          nan          nan          nan          nan          nan          nan          nan          nan          nan\r\n",
      "   0.0752473 -6.48517e-08 -1.00032e-10 -4.31975e-10  5.94817e-08   -0.0690166  1.12841e-13 -1.14445e-13 -3.30902e-14   -0.0309549  1.12049e-06 -2.33983e-14  7.38252e-06  -0.00900335 -3.13789e-08    0.0364089  6.77575e-12 -1.84566e-12   2.1511e-14  2.56574e-14  6.58105e-14    -0.194424  2.17981e-09  9.05606e-10          nan          nan          nan          nan          nan          nan          nan          nan          nan          nan          nan\r\n",
      "-1.48422e-10  7.38963e-15   -0.0143923   -0.0143923  1.33416e-14  1.80844e-10  2.16975e-06 -2.16975e-06 -6.37655e-07 -5.57355e-11  2.49811e-15 -2.20624e-07  1.00899e-14  -9.3065e-12 -1.03105e-15 -2.06937e-10   0.00614163  -0.00614163    5.104e-06    5.104e-06  8.39993e-14  2.06495e-09     0.956475   -1.146e-08          nan          nan          nan          nan          nan          nan          nan          nan          nan          nan          nan\r\n",
      "-7.52074e-11  4.50982e-11   0.00557311   -0.0055731  1.95874e-10 -3.53675e-10   0.00179611    0.0017961 -1.67699e-09 -4.56856e-12  1.94589e-12 -9.16053e-10  6.46827e-11  1.14718e-10 -7.61407e-12  3.82995e-12   0.00423497   0.00423497   0.00204261  -0.00204261  6.94459e-10  1.08943e-09 -1.16553e-08     0.109408          nan          nan          nan          nan          nan          nan          nan          nan          nan          nan          nan\r\n",
      "        -nan         -nan         -nan         -nan         -nan         -nan         -nan         -nan         -nan         -nan         -nan         -nan         -nan         -nan         -nan         -nan         -nan         -nan         -nan         -nan         -nan         -nan         -nan         -nan         -nan         -nan         -nan         -nan         -nan         -nan         -nan         -nan         -nan         -nan         -nan\r\n",
      "        -nan         -nan         -nan         -nan         -nan         -nan         -nan         -nan         -nan         -nan         -nan         -nan         -nan         -nan         -nan         -nan         -nan         -nan         -nan         -nan         -nan         -nan         -nan         -nan         -nan         -nan         -nan         -nan         -nan         -nan         -nan         -nan         -nan         -nan         -nan\r\n",
      "        -nan         -nan         -nan         -nan         -nan         -nan         -nan         -nan         -nan         -nan         -nan         -nan         -nan         -nan         -nan         -nan         -nan         -nan         -nan         -nan         -nan         -nan         -nan         -nan          nan          nan          nan          nan          nan          nan          nan          nan          nan          nan          nan\r\n",
      "        -nan         -nan         -nan         -nan         -nan         -nan         -nan         -nan         -nan         -nan         -nan         -nan         -nan         -nan         -nan         -nan         -nan         -nan         -nan         -nan         -nan         -nan         -nan         -nan          nan          nan          nan          nan          nan          nan          nan          nan          nan          nan          nan\r\n",
      "        -nan         -nan         -nan         -nan         -nan         -nan         -nan         -nan         -nan         -nan         -nan         -nan         -nan         -nan         -nan         -nan         -nan         -nan         -nan         -nan         -nan         -nan         -nan         -nan         -nan         -nan         -nan         -nan         -nan         -nan         -nan         -nan         -nan         -nan         -nan\r\n",
      "        -nan         -nan         -nan         -nan         -nan         -nan         -nan         -nan         -nan         -nan         -nan         -nan         -nan         -nan         -nan         -nan         -nan         -nan         -nan         -nan         -nan         -nan         -nan         -nan         -nan         -nan         -nan         -nan         -nan         -nan         -nan         -nan         -nan         -nan         -nan\r\n",
      "        -nan         -nan         -nan         -nan         -nan         -nan         -nan         -nan         -nan         -nan         -nan         -nan         -nan         -nan         -nan         -nan         -nan         -nan         -nan         -nan         -nan         -nan         -nan         -nan          nan          nan          nan          nan          nan          nan          nan          nan          nan          nan          nan\r\n",
      "        -nan         -nan         -nan         -nan         -nan         -nan         -nan         -nan         -nan         -nan         -nan         -nan         -nan         -nan         -nan         -nan         -nan         -nan         -nan         -nan         -nan         -nan         -nan         -nan          nan          nan          nan          nan          nan          nan          nan          nan          nan          nan          nan\r\n",
      "        -nan         -nan         -nan         -nan         -nan         -nan         -nan         -nan         -nan         -nan         -nan         -nan         -nan         -nan         -nan         -nan         -nan         -nan         -nan         -nan         -nan         -nan         -nan         -nan          nan          nan          nan         -nan          nan          nan          nan         -nan          nan          nan          nan\r\n",
      "        -nan         -nan         -nan         -nan         -nan         -nan         -nan         -nan         -nan         -nan         -nan         -nan         -nan         -nan         -nan         -nan         -nan         -nan         -nan         -nan         -nan         -nan         -nan         -nan          nan          nan          nan         -nan          nan          nan          nan         -nan          nan          nan          nan\r\n",
      "        -nan         -nan         -nan         -nan         -nan         -nan         -nan         -nan         -nan         -nan         -nan         -nan         -nan         -nan         -nan         -nan         -nan         -nan         -nan         -nan         -nan         -nan         -nan         -nan         -nan         -nan         -nan         -nan         -nan         -nan         -nan         -nan         -nan         -nan         -nan\r\n",
      "B\r\n",
      "   0.0938111  6.97433e-15 -5.96106e-11 -2.29193e-10  -6.2813e-15   -0.0328899  2.84447e-14 -2.93433e-14 -9.95617e-15   -0.0155572  5.76539e-07 -6.51478e-15 -3.96699e-05    0.0483286  1.01592e-14    0.0481429 -2.07155e-11  2.55781e-11 -1.20777e-14 -8.22415e-15  2.16393e-08   -0.0251081 -4.55412e-11 -1.39374e-10         -nan         -nan         -nan         -nan         -nan         -nan         -nan         -nan         -nan         -nan         -nan\r\n",
      " 6.94639e-15    0.0938111  3.21702e-14  3.30384e-14   -0.0328899 -6.34891e-15  6.71683e-10 -8.41266e-10 -3.15845e-10  5.76539e-07    0.0155572 -2.11228e-10   -0.0483286 -3.96699e-05    0.0481429  1.01016e-14 -2.12892e-13  2.09135e-13  2.67822e-10  2.72685e-10    0.0251081  2.16394e-08 -1.11094e-15  8.66567e-11         -nan         -nan         -nan         -nan         -nan         -nan         -nan         -nan         -nan         -nan         -nan\r\n",
      "-5.96106e-11  3.21702e-14     0.105488  -0.00569419  2.96836e-14 -2.56377e-11  4.32728e-06 -4.32728e-06 -2.33848e-06  4.24166e-11  2.05928e-14 -1.06226e-06 -1.63112e-15  2.54925e-11 -2.26135e-14  2.14245e-11   -0.0671006   0.00241346 -7.42767e-07 -5.38404e-05   4.5781e-14 -8.77587e-11   -0.0419528   -0.0145847         -nan         -nan         -nan         -nan         -nan         -nan         -nan         -nan         -nan         -nan         -nan\r\n",
      "-2.29193e-10  3.30384e-14  -0.00569419     0.105488  2.78937e-14  2.69421e-10  4.32728e-06 -4.32728e-06 -2.33848e-06  1.07892e-10  1.85361e-14 -1.06226e-06 -7.40231e-15   3.2439e-11 -2.03682e-14 -3.60071e-10  -0.00241346    0.0671006 -5.38404e-05 -7.42767e-07  4.66927e-14  8.36187e-11   -0.0419528    0.0145847         -nan         -nan         -nan         -nan         -nan         -nan         -nan         -nan         -nan         -nan         -nan\r\n",
      "-6.27557e-15   -0.0328899  2.96837e-14  2.78937e-14     0.240892  1.27409e-15  1.02705e-09 -7.31987e-10 -6.25185e-10 -5.36175e-07    -0.014468 -1.61036e-10  -0.00914341 -7.50525e-06    0.0441772 -4.12459e-14 -1.24414e-13  1.13116e-13  1.44122e-10  1.57394e-10   0.00438148  3.77617e-09 -5.87978e-15  1.76951e-10         -nan         -nan         -nan         -nan         -nan         -nan         -nan         -nan         -nan         -nan         -nan\r\n",
      "  -0.0328899 -6.36128e-15 -2.56377e-11  2.69421e-10  1.33143e-15     0.240892  2.29239e-14 -2.11105e-14 -1.88081e-14     0.014468 -5.36175e-07 -4.88917e-15 -7.50525e-06   0.00914341 -4.12162e-14    0.0441772  2.65242e-11 -1.32523e-11  1.48451e-14  2.61665e-14  3.77617e-09  -0.00438148   2.8178e-11 -2.95473e-10         -nan         -nan         -nan         -nan         -nan         -nan         -nan         -nan         -nan         -nan         -nan\r\n",
      " 2.84447e-14  6.71683e-10  4.32728e-06  4.32728e-06  1.02705e-09  2.29239e-14     0.222254    -0.111072    -0.063101 -5.41868e-16  5.06343e-10   -0.0286639  4.90945e-10  3.88921e-13 -9.15076e-10 -1.66994e-14  -2.4208e-05 -2.88896e-05   -0.0336868    0.0310004  1.14843e-09 -3.81477e-14  8.00261e-07  -0.00769035         -nan         -nan         -nan         -nan         -nan         -nan         -nan         -nan         -nan         -nan         -nan\r\n",
      "-2.93433e-14 -8.41266e-10 -4.32728e-06 -4.32728e-06 -7.31987e-10 -2.11105e-14    -0.111072     0.222254     0.063101 -1.50976e-15 -5.71818e-10    0.0286639 -4.97891e-10 -3.94803e-13   5.3358e-10  1.45255e-14 -2.88896e-05  -2.4208e-05   -0.0310004    0.0336868 -1.31822e-09  3.88068e-14 -8.00261e-07  -0.00769034         -nan         -nan         -nan         -nan         -nan         -nan         -nan         -nan         -nan         -nan         -nan\r\n",
      "-9.95632e-15 -3.15845e-10 -2.33848e-06 -2.33848e-06 -6.25185e-10 -1.88081e-14    -0.063101     0.063101     0.429278 -2.62119e-15 -4.59351e-10   -0.0121538 -1.80066e-11 -1.44294e-14  6.21028e-10  1.88308e-14 -1.51437e-08  1.51438e-08  1.93215e-05  1.93215e-05 -4.69789e-10  1.47729e-14  4.57304e-07  7.51451e-10         -nan         -nan         -nan         -nan         -nan         -nan         -nan         -nan         -nan         -nan         -nan\r\n",
      "  -0.0155572  5.76539e-07  4.24166e-11  1.07892e-10 -5.36175e-07     0.014468 -5.41855e-16 -1.50999e-15 -2.62117e-15     0.463968 -3.33801e-15  6.85037e-17  5.06946e-07 -0.000646798  3.84507e-07   -0.0103755 -2.55673e-11  3.56074e-11 -2.72746e-14 -1.82901e-14  6.41956e-07    0.0177349 -1.16111e-10   1.5053e-10         -nan         -nan         -nan         -nan         -nan         -nan         -nan         -nan         -nan         -nan         -nan\r\n",
      " 5.76539e-07    0.0155572  2.05927e-14   1.8536e-14    -0.014468 -5.36175e-07  5.06343e-10 -5.71818e-10 -4.59351e-10 -3.25104e-15     0.463968  7.11317e-12 -0.000646798 -5.06946e-07    0.0103755  3.84507e-07  -6.1402e-14  7.04104e-14  8.87247e-11  7.86847e-11    0.0177349 -6.41956e-07  3.15651e-16  8.77473e-11         -nan         -nan         -nan         -nan         -nan         -nan         -nan         -nan         -nan         -nan         -nan\r\n",
      "-6.51477e-15 -2.11228e-10 -1.06226e-06 -1.06226e-06 -1.61036e-10 -4.88937e-15   -0.0286639    0.0286639   -0.0121538   6.8572e-17  7.11317e-12     0.636067 -3.15701e-10 -2.49915e-13 -1.30433e-10 -3.92161e-15  1.64034e-05 -1.64034e-05   -0.0209286   -0.0209286   -1.012e-10  3.01624e-15  2.25071e-07  1.27235e-10         -nan         -nan         -nan         -nan         -nan         -nan         -nan         -nan         -nan         -nan         -nan\r\n",
      "-3.96699e-05   -0.0483286 -1.63111e-15  -7.4023e-15  -0.00914341 -7.50525e-06  4.90945e-10 -4.97891e-10 -1.80066e-11  5.06946e-07 -0.000646798 -3.15701e-10     0.917068 -1.97752e-13    0.0222914  1.82976e-05 -3.94831e-13  3.93484e-13  3.67689e-10  5.91602e-10    0.0232461 -1.90612e-05  7.82446e-14  1.22877e-10         -nan         -nan         -nan         -nan         -nan         -nan         -nan         -nan         -nan         -nan         -nan\r\n",
      "   0.0483286 -3.96699e-05  2.54925e-11   3.2439e-11 -7.50525e-06   0.00914341  3.88921e-13 -3.94803e-13 -1.44295e-14 -0.000646798 -5.06946e-07 -2.49915e-13 -1.97633e-13     0.917068  1.82976e-05   -0.0222914 -8.87401e-11 -1.35173e-10  3.99043e-13  3.97754e-13  1.90612e-05    0.0232461 -9.96408e-11   1.9998e-10         -nan         -nan         -nan         -nan         -nan         -nan         -nan         -nan         -nan         -nan         -nan\r\n",
      " 1.01558e-14    0.0481429 -2.26133e-14 -2.03682e-14    0.0441772 -4.12221e-14 -9.15076e-10   5.3358e-10  6.21028e-10  3.84507e-07    0.0103755 -1.30433e-10    0.0222914  1.82976e-05     0.981536 -2.98015e-14 -9.14212e-14 -1.78663e-13 -2.17066e-10   1.0907e-10  -0.00424845 -3.66152e-09  1.85088e-14 -8.77831e-11         -nan         -nan         -nan         -nan         -nan         -nan         -nan         -nan         -nan         -nan         -nan\r\n",
      "   0.0481429  1.01187e-14  2.14245e-11 -3.60071e-10 -4.12403e-14    0.0441772 -1.66994e-14  1.45256e-14  1.88308e-14   -0.0103755  3.84507e-07  -3.9216e-15  1.82976e-05   -0.0222914 -2.97447e-14     0.981536  1.31565e-10  1.94571e-10 -1.61209e-13  1.08874e-13 -3.66151e-09   0.00424845 -4.25988e-10  1.45462e-10         -nan         -nan         -nan         -nan         -nan         -nan         -nan         -nan         -nan         -nan         -nan\r\n",
      "-2.07155e-11 -2.12893e-13   -0.0671006  -0.00241346 -1.24414e-13  2.65242e-11  -2.4208e-05 -2.88896e-05 -1.51437e-08 -2.55673e-11  -6.1402e-14  1.64034e-05 -3.94831e-13 -8.87401e-11 -9.14212e-14  1.31565e-10      1.06067  -0.00440431 -6.37037e-05 -6.37037e-05 -5.27329e-13  2.30492e-11    0.0159921   0.00589021         -nan         -nan         -nan         -nan         -nan         -nan         -nan         -nan         -nan         -nan         -nan\r\n",
      " 2.55781e-11  2.09135e-13   0.00241346    0.0671006  1.13116e-13 -1.32523e-11 -2.88896e-05  -2.4208e-05  1.51438e-08  3.56074e-11  7.04103e-14 -1.64034e-05  3.93484e-13 -1.35173e-10 -1.78663e-13  1.94571e-10  -0.00440431      1.06067  6.37037e-05  6.37037e-05  4.10344e-13 -1.65221e-10   -0.0159921   0.00589021         -nan         -nan         -nan         -nan         -nan         -nan         -nan         -nan         -nan         -nan         -nan\r\n",
      "-1.20777e-14  2.67822e-10 -7.42767e-07 -5.38404e-05  1.44122e-10  1.48451e-14   -0.0336868   -0.0310004  1.93215e-05 -2.72747e-14  8.87247e-11   -0.0209286  3.67689e-10  3.99043e-13 -2.17066e-10 -1.61209e-13 -6.37037e-05  6.37037e-05      1.14195    0.0856821  5.30815e-10  1.15575e-13  1.25454e-05   0.00318636         -nan         -nan         -nan         -nan         -nan         -nan         -nan         -nan         -nan         -nan         -nan\r\n",
      "-8.22415e-15  2.72685e-10 -5.38404e-05 -7.42767e-07  1.57394e-10  2.61665e-14    0.0310004    0.0336868  1.93215e-05 -1.82902e-14  7.86847e-11   -0.0209286  5.91602e-10  3.97754e-13   1.0907e-10  1.08874e-13 -6.37037e-05  6.37037e-05    0.0856821      1.14195  6.72701e-10 -1.75398e-15  1.25454e-05  -0.00318636         -nan         -nan         -nan         -nan         -nan         -nan         -nan         -nan         -nan         -nan         -nan\r\n",
      " 4.94333e-08    0.0573573  1.52065e-13  1.53321e-13   0.00347867  2.99808e-09  3.93644e-09  -4.1906e-09 -6.01555e-10  3.69412e-07    0.0102055 -1.05874e-10    0.0186411  1.52852e-05   -0.0191594 -1.65125e-08 -1.13442e-13 -5.14301e-14 -5.74494e-11  1.42008e-10     0.600541  9.98027e-14  3.72369e-14  1.22692e-09         -nan         -nan         -nan         -nan         -nan         -nan         -nan         -nan         -nan         -nan         -nan\r\n",
      "  -0.0573573  4.94333e-08 -7.82685e-11  1.76587e-10  2.99809e-09  -0.00347867 -1.28834e-13  1.29947e-13  1.98897e-14    0.0102055 -3.69412e-07   3.8527e-15 -1.52852e-05    0.0186411 -1.65125e-08    0.0191594 -2.27832e-11 -1.75435e-10  1.41029e-13 -2.28624e-14  9.97189e-14     0.600541  2.49341e-09  1.95683e-09         -nan         -nan         -nan         -nan         -nan         -nan         -nan         -nan         -nan         -nan         -nan\r\n",
      " 6.41717e-11 -1.80532e-15   -0.0424309   -0.0424309 -8.88754e-16 -5.54524e-11  9.36019e-07 -9.36019e-07  1.16354e-07 -8.27909e-11  2.40734e-15  3.06154e-08  9.10953e-14 -1.11057e-10  1.32067e-14 -4.90501e-10    0.0169414   -0.0169414  1.35726e-05  1.35726e-05  4.72238e-14  2.27211e-09      1.98197 -1.47558e-08         -nan         -nan         -nan         -nan         -nan         -nan         -nan         -nan         -nan         -nan         -nan\r\n",
      "-2.07947e-10   1.3216e-10   -0.0164488    0.0164488  1.36562e-10 -2.38119e-10  -0.00870821  -0.00870819  1.87322e-09  9.63648e-11  6.12655e-11   5.7752e-10  1.44965e-10  2.40562e-10   -8.311e-11  1.35947e-10   0.00708567   0.00708567   0.00365665  -0.00365666   1.3038e-09  2.06702e-09 -1.49456e-08      0.80458         -nan         -nan         -nan         -nan         -nan         -nan         -nan         -nan         -nan         -nan         -nan\r\n",
      "        -nan         -nan         -nan         -nan         -nan         -nan         -nan         -nan         -nan         -nan         -nan         -nan         -nan         -nan         -nan         -nan         -nan         -nan         -nan         -nan         -nan         -nan         -nan         -nan         -nan         -nan         -nan         -nan         -nan         -nan         -nan         -nan         -nan         -nan         -nan\r\n",
      "        -nan         -nan         -nan         -nan         -nan         -nan         -nan         -nan         -nan         -nan         -nan         -nan         -nan         -nan         -nan         -nan         -nan         -nan         -nan         -nan         -nan         -nan         -nan         -nan         -nan         -nan         -nan         -nan         -nan         -nan         -nan         -nan         -nan         -nan         -nan\r\n",
      "        -nan         -nan         -nan         -nan         -nan         -nan         -nan         -nan         -nan         -nan         -nan         -nan         -nan         -nan         -nan         -nan         -nan         -nan         -nan         -nan         -nan         -nan         -nan         -nan         -nan         -nan         -nan         -nan         -nan         -nan         -nan         -nan         -nan         -nan         -nan\r\n",
      "        -nan         -nan         -nan         -nan         -nan         -nan         -nan         -nan         -nan         -nan         -nan         -nan         -nan         -nan         -nan         -nan         -nan         -nan         -nan         -nan         -nan         -nan         -nan         -nan         -nan         -nan         -nan         -nan         -nan         -nan         -nan         -nan         -nan         -nan         -nan\r\n",
      "        -nan         -nan         -nan         -nan         -nan         -nan         -nan         -nan         -nan         -nan         -nan         -nan         -nan         -nan         -nan         -nan         -nan         -nan         -nan         -nan         -nan         -nan         -nan         -nan         -nan         -nan         -nan         -nan         -nan         -nan         -nan         -nan         -nan         -nan         -nan\r\n",
      "        -nan         -nan         -nan         -nan         -nan         -nan         -nan         -nan         -nan         -nan         -nan         -nan         -nan         -nan         -nan         -nan         -nan         -nan         -nan         -nan         -nan         -nan         -nan         -nan         -nan         -nan         -nan         -nan         -nan         -nan         -nan         -nan         -nan         -nan         -nan\r\n",
      "        -nan         -nan         -nan         -nan         -nan         -nan         -nan         -nan         -nan         -nan         -nan         -nan         -nan         -nan         -nan         -nan         -nan         -nan         -nan         -nan         -nan         -nan         -nan         -nan         -nan         -nan         -nan         -nan         -nan         -nan         -nan         -nan         -nan         -nan         -nan\r\n",
      "        -nan         -nan         -nan         -nan         -nan         -nan         -nan         -nan         -nan         -nan         -nan         -nan         -nan         -nan         -nan         -nan         -nan         -nan         -nan         -nan         -nan         -nan         -nan         -nan         -nan         -nan         -nan         -nan         -nan         -nan         -nan         -nan         -nan         -nan         -nan\r\n",
      "        -nan         -nan         -nan         -nan         -nan         -nan         -nan         -nan         -nan         -nan         -nan         -nan         -nan         -nan         -nan         -nan         -nan         -nan         -nan         -nan         -nan         -nan         -nan         -nan         -nan         -nan         -nan         -nan         -nan         -nan         -nan         -nan         -nan         -nan         -nan\r\n",
      "        -nan         -nan         -nan         -nan         -nan         -nan         -nan         -nan         -nan         -nan         -nan         -nan         -nan         -nan         -nan         -nan         -nan         -nan         -nan         -nan         -nan         -nan         -nan         -nan         -nan         -nan         -nan         -nan         -nan         -nan         -nan         -nan         -nan         -nan         -nan\r\n",
      "        -nan         -nan         -nan         -nan         -nan         -nan         -nan         -nan         -nan         -nan         -nan         -nan         -nan         -nan         -nan         -nan         -nan         -nan         -nan         -nan         -nan         -nan         -nan         -nan          nan          nan          nan          nan          nan          nan          nan          nan          nan          nan          nan\r\n",
      "an error occurred:\r\n",
      "Small generalized eigenvalue problem failed.\r\n"
     ]
    }
   ],
   "source": [
    "!xtp_tools -c job_name=CO geometry_optimization.maxiter=1 dftpackage.basisset=3-21G dftpackage.auxbasisset=aux-def2-svp gwbse.gw.mode=G0W0 -e dftgwbse -t 4"
   ]
  },
  {
   "cell_type": "markdown",
   "metadata": {},
   "source": [
    "Notice that we are using 4 threads. The results will be stored in a file named `CO_summary.xml` in the current work directory, together with the optimization step in `optimisation.trj` and the orbitals in [hdf5 format](https://www.hdfgroup.org/solutions/hdf5/) saved on `CO.orb`."
   ]
  }
 ],
 "metadata": {
  "kernelspec": {
   "display_name": "Python 3",
   "language": "python",
   "name": "python3"
  },
  "language_info": {
   "codemirror_mode": {
    "name": "ipython",
    "version": 3
   },
   "file_extension": ".py",
   "mimetype": "text/x-python",
   "name": "python",
   "nbconvert_exporter": "python",
   "pygments_lexer": "ipython3",
   "version": "3.11.1"
  }
 },
 "nbformat": 4,
 "nbformat_minor": 4
}
