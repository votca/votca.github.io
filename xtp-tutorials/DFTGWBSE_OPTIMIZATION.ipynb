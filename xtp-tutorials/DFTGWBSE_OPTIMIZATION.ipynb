{
 "cells": [
  {
   "cell_type": "markdown",
   "metadata": {},
   "source": [
    "## DFT + GWBSE Optimization Using CO"
   ]
  },
  {
   "cell_type": "markdown",
   "metadata": {},
   "source": [
    "## Introduction\n",
    "This tutorial explains how to perform a molecular geometric optimization using the **GWBSE** method. See [the GW Compendium: A Practical Guide to Theoretical Photoemission Spectroscopy](https://doi.org/10.3389/fchem.2019.00377), for an excellent introduction to the method."
   ]
  },
  {
   "cell_type": "markdown",
   "metadata": {},
   "source": [
    "## Requirements\n",
    "* You will need to install **VOTCA** using the instructions described [here](https://github.com/votca/votca/blob/master/share/doc/INSTALL.rst)\n",
    "* Once the installation is completed you need to activate the VOTCA enviroment by running the `VOTCARC.bash` script that has been installed at the bin subfolder for the path that you have provided for the installation step above"
   ]
  },
  {
   "cell_type": "markdown",
   "metadata": {},
   "source": [
    "## Preparing the input\n",
    "To run a DFT-GWBSE calculation we will use the [xtp_tools](https://www.votca.org/xtp/xtp_tools_overview.html) calculator."
   ]
  },
  {
   "cell_type": "markdown",
   "metadata": {},
   "source": [
    "we can now change the calculator mode from single point energy calculation to optimization as follows by adding \n",
    "`-c geometry_optimization.maxiter=1` which enables optimization with one iteration. "
   ]
  },
  {
   "cell_type": "markdown",
   "metadata": {},
   "source": [
    "Because geometry optimsation is quite expensive numerically we chose a smaller basisset and G0W0 Finally, to run the calculation we just need the following command (This still takes a while)"
   ]
  },
  {
   "cell_type": "code",
   "execution_count": 1,
   "metadata": {
    "execution": {
     "iopub.execute_input": "2023-01-08T16:46:57.810041Z",
     "iopub.status.busy": "2023-01-08T16:46:57.809554Z",
     "iopub.status.idle": "2023-01-08T16:47:09.091233Z",
     "shell.execute_reply": "2023-01-08T16:47:09.090073Z"
    }
   },
   "outputs": [
    {
     "name": "stdout",
     "output_type": "stream",
     "text": [
      "==================================================\r\n",
      "========   VOTCA (http://www.votca.org)   ========\r\n",
      "==================================================\r\n",
      "\r\n",
      "please submit bugs to https://github.com/votca/votca/issues\r\n",
      "\r\n",
      "xtp_tools, version 2023-dev gitid: 660b1d7 (compiled Jan  8 2023, 16:11:17)\r\n",
      "\r\n",
      "Initializing tool\r\n",
      "... dftgwbse Evaluating tool\r\n",
      "... dftgwbse  Using 4 threads\r\n",
      "... ... Reading structure from CO.xyz\r\n",
      "... ... Requested geometry optimization of excited state s1\r\n",
      "... ... Initial state: s1\r\n",
      "... ... WARNING: No tracker is used \r\n",
      "... ... Convergence of total energy: 0.000001 Hartree \r\n",
      "... ... Convergence of RMS Force:    0.000030 Hartree/Bohr \r\n",
      "... ... Convergence of Max Force:    0.000100 Hartree/Bohr \r\n",
      "... ... Convergence of RMS Step:     0.000600 Bohr \r\n",
      "... ... Convergence of Max Step:     0.001000 Bohr \r\n",
      "... ... Initial trust radius:        0.018897 BohrA\r\n",
      "    0.306708  6.53378e-14  1.22458e-10  3.90429e-10 -4.71284e-14   -0.0516336  -2.7901e-13  2.80379e-13 -6.98035e-14 -2.44092e-06    0.0181563 -4.12011e-14 -1.48295e-05    0.0389795  4.02175e-14    0.0421241  1.94744e-11 -2.61567e-11 -3.66847e-14 -3.94212e-14 -5.16298e-07     0.108303  -1.6043e-10          nan          nan          nan          nan          nan          nan          nan          nan          nan          nan          nan          nan\r\n",
      " 6.53389e-14     0.306708 -2.85077e-13 -2.86462e-13   -0.0516336 -4.71019e-14 -1.74359e-09  2.01157e-09 -5.34415e-10   -0.0181563 -2.44092e-06 -3.16684e-10   -0.0389795 -1.48295e-05    0.0421241  4.01052e-14  8.02947e-14 -7.75692e-14  -3.2947e-10 -3.36152e-10    -0.108303 -5.16297e-07  5.60647e-14          nan          nan          nan          nan          nan          nan          nan          nan          nan          nan          nan          nan\r\n",
      " 1.22458e-10 -2.85077e-13     0.319156    -0.010048 -1.80793e-13  4.19801e-11  3.09976e-05 -3.09976e-05  1.15845e-05  1.04876e-13  4.28643e-11  4.95752e-06  -6.7449e-14 -2.56197e-11  6.52531e-14 -1.63904e-11   -0.0495092   0.00204416  4.19375e-06 -1.38641e-05  9.85985e-13  1.58328e-11   -0.0252874          nan          nan          nan          nan          nan          nan          nan          nan          nan          nan          nan          nan\r\n",
      " 3.90429e-10 -2.86462e-13    -0.010048     0.319156 -1.78842e-13   -3.679e-10  3.09976e-05 -3.09976e-05  1.15845e-05  9.62934e-14  1.10116e-10  4.95752e-06 -6.47306e-14 -3.30932e-11   6.3894e-14  3.13124e-10  -0.00204416    0.0495092 -1.38641e-05  4.19375e-06  9.86142e-13  5.25146e-10   -0.0252874          nan          nan          nan          nan          nan          nan          nan          nan          nan          nan          nan          nan\r\n",
      "-4.71282e-14   -0.0516336 -1.80793e-13 -1.78842e-13     0.490609   8.2063e-15 -1.69885e-09  1.28897e-09 -7.55661e-10    0.0134761  1.81171e-06 -2.05863e-10   -0.0080157 -3.04953e-06    0.0309388 -1.36362e-13   4.6942e-14 -4.85441e-14 -1.87759e-10 -1.83891e-10     0.053272  2.53956e-07  9.10528e-14          nan          nan          nan          nan          nan          nan          nan          nan          nan          nan          nan          nan\r\n",
      "  -0.0516336 -4.71125e-14  4.19801e-11   -3.679e-10   8.2148e-15     0.490609 -1.74796e-13  1.72764e-13 -9.88729e-14  1.81171e-06   -0.0134761 -2.70956e-14 -3.04953e-06    0.0080157 -1.36393e-13    0.0309388 -1.41582e-11  1.80255e-11 -2.91068e-14 -2.75049e-14  2.53957e-07    -0.053272   9.9837e-11          nan          nan          nan          nan          nan          nan          nan          nan          nan          nan          nan          nan\r\n",
      " -2.7901e-13 -1.74359e-09  3.09976e-05  3.09976e-05 -1.69885e-09 -1.74796e-13     0.549726    -0.220522    0.0861688  7.16778e-10 -1.17528e-14    0.0368756 -5.42593e-10 -1.31694e-13  7.89529e-10  6.22242e-14 -8.31939e-06 -9.73844e-06   -0.0125301     0.034935  6.78357e-09 -9.02121e-13 -8.19977e-06          nan          nan          nan          nan          nan          nan          nan          nan          nan          nan          nan          nan\r\n",
      " 2.80379e-13  2.01157e-09 -3.09976e-05 -3.09976e-05  1.28897e-09  1.72764e-13    -0.220522     0.549726   -0.0861688  -7.8403e-10  3.14214e-15   -0.0368756  5.50066e-10  1.34429e-13 -4.60014e-10 -6.09663e-14 -9.73844e-06 -8.31939e-06    -0.034935    0.0125301 -7.28252e-09  9.02084e-13  8.19977e-06          nan          nan          nan          nan          nan          nan          nan          nan          nan          nan          nan          nan\r\n",
      "-6.98036e-14 -5.34415e-10  1.15845e-05  1.15845e-05 -7.55661e-10 -9.88729e-14    0.0861688   -0.0861688     0.662739  4.24852e-10  1.73505e-15  -0.00625217 -6.14593e-11 -1.54384e-14  4.50126e-10  5.87287e-14 -1.01875e-06  1.01875e-06   0.00414117   0.00414117  1.82084e-09 -2.22112e-13 -4.38489e-06          nan          nan          nan          nan          nan          nan          nan          nan          nan          nan          nan          nan\r\n",
      "-2.44092e-06   -0.0181563  1.04876e-13  9.62933e-14    0.0134761  1.81171e-06  7.16778e-10  -7.8403e-10  4.24852e-10     0.680027  3.51281e-16  3.11526e-11   7.6988e-05  1.89395e-08  -0.00866729 -1.16522e-06    -2.18e-14  2.31722e-14  9.37654e-11  8.87455e-11    0.0410255 -5.31986e-06 -1.38307e-14          nan          nan          nan          nan          nan          nan          nan          nan          nan          nan          nan          nan\r\n",
      "   0.0181563 -2.44092e-06  4.28643e-11  1.10116e-10  1.81171e-06   -0.0134761 -1.17528e-14  3.14205e-15  1.73511e-15   3.1407e-16     0.680027 -2.30115e-18 -1.89395e-08   7.6988e-05 -1.16522e-06   0.00866729 -1.45182e-11  1.95381e-11 -4.44607e-15 -3.05881e-15  5.31986e-06    0.0410255 -1.18008e-10          nan          nan          nan          nan          nan          nan          nan          nan          nan          nan          nan          nan\r\n",
      "-4.12011e-14 -3.16684e-10  4.95752e-06  4.95752e-06 -2.05863e-10 -2.70957e-14    0.0368756   -0.0368756  -0.00625217  3.11526e-11 -2.34946e-18     0.797893 -2.21528e-10 -5.54548e-14  -6.3947e-11 -8.27534e-15 -3.57578e-06  3.57578e-06    0.0145354    0.0145354  9.57149e-10 -1.17406e-13 -1.78262e-06          nan          nan          nan          nan          nan          nan          nan          nan          nan          nan          nan          nan\r\n",
      "-1.48295e-05   -0.0389795  -6.7449e-14 -6.47306e-14   -0.0080157 -3.04953e-06 -5.42593e-10  5.50066e-10 -6.14593e-11   7.6988e-05 -1.89395e-08 -2.21528e-10     0.956279  -3.5032e-14    0.0131238  4.99289e-06  7.40426e-14 -7.35631e-14 -2.31212e-10 -3.46021e-10   -0.0200194  7.52082e-06 -1.91228e-15          nan          nan          nan          nan          nan          nan          nan          nan          nan          nan          nan          nan\r\n",
      "   0.0389795 -1.48295e-05 -2.56197e-11 -3.30932e-11 -3.04953e-06    0.0080157 -1.31694e-13  1.34429e-13 -1.54384e-14  1.89395e-08   7.6988e-05 -5.54548e-14 -3.49909e-14     0.956279  4.99289e-06   -0.0131238  4.62595e-11  6.85495e-11  -7.5323e-14  -7.4836e-14 -7.52082e-06   -0.0200194  4.89095e-11          nan          nan          nan          nan          nan          nan          nan          nan          nan          nan          nan          nan\r\n",
      " 4.02106e-14    0.0421241   6.5253e-14  6.38941e-14    0.0309388 -1.36384e-13  7.89529e-10 -4.60014e-10  4.50126e-10  -0.00866729 -1.16522e-06  -6.3947e-11    0.0131238  4.99289e-06     0.987501 -7.40488e-14  2.03086e-14  4.83485e-14   1.3445e-10 -4.39277e-11   -0.0224113 -1.06838e-07  -6.1864e-14          nan          nan          nan          nan          nan          nan          nan          nan          nan          nan          nan          nan\r\n",
      "   0.0421241  4.01079e-14 -1.63904e-11  3.13124e-10 -1.36372e-13    0.0309388  6.22242e-14 -6.09664e-14  5.87287e-14 -1.16522e-06   0.00866729 -8.27534e-15  4.99289e-06   -0.0131238 -7.40545e-14     0.987501 -6.74218e-11 -1.10956e-10   4.5568e-14 -2.30578e-14 -1.06838e-07    0.0224113  1.30106e-10          nan          nan          nan          nan          nan          nan          nan          nan          nan          nan          nan          nan\r\n",
      " 1.94744e-11  8.02947e-14   -0.0495092  -0.00204416   4.6942e-14 -1.41582e-11 -8.31939e-06 -9.73844e-06 -1.01875e-06    -2.18e-14 -1.45182e-11 -3.57578e-06  7.40426e-14  4.62595e-11  2.03086e-14 -6.74218e-11      1.02819   -0.0020693 -1.06861e-05 -1.06861e-05 -3.08083e-13 -1.80143e-12   0.00469072          nan          nan          nan          nan          nan          nan          nan          nan          nan          nan          nan          nan\r\n",
      "-2.61567e-11 -7.75692e-14   0.00204416    0.0495092 -4.85441e-14  1.80255e-11 -9.73844e-06 -8.31939e-06  1.01875e-06  2.31722e-14  1.95381e-11  3.57578e-06 -7.35631e-14  6.85495e-11  4.83485e-14 -1.10956e-10   -0.0020693      1.02819  1.06861e-05  1.06861e-05  2.73548e-13   -8.997e-11  -0.00469072          nan          nan          nan          nan          nan          nan          nan          nan          nan          nan          nan          nan\r\n",
      "-3.66847e-14  -3.2947e-10  4.19375e-06 -1.38641e-05 -1.87759e-10 -2.91068e-14   -0.0125301    -0.034935   0.00414117  9.37654e-11 -4.44608e-15    0.0145354 -2.31212e-10  -7.5323e-14   1.3445e-10   4.5568e-14 -1.06861e-05  1.06861e-05      1.07163    0.0455077  1.15778e-09  -1.1888e-13  5.04638e-07          nan          nan          nan          nan          nan          nan          nan          nan          nan          nan          nan          nan\r\n",
      "-3.94212e-14 -3.36152e-10 -1.38641e-05  4.19375e-06 -1.83891e-10 -2.75049e-14     0.034935    0.0125301   0.00414117  8.87455e-11 -3.05879e-15    0.0145354 -3.46021e-10 -7.48359e-14 -4.39277e-11 -2.30578e-14 -1.06861e-05  1.06861e-05    0.0455077      1.07163   1.2482e-09 -1.54243e-13  5.04638e-07          nan          nan          nan          nan          nan          nan          nan          nan          nan          nan          nan          nan\r\n",
      " 3.58693e-07    0.0752424 -5.29998e-13  -5.2968e-13   -0.0690969 -3.29396e-07 -3.52652e-09  3.85259e-09 -1.17253e-09   -0.0309264 -4.01029e-06  -8.3084e-10   0.00901647  3.38728e-06    0.0363998  1.73524e-07  1.75155e-13 -1.74485e-13 -7.12841e-10 -7.14106e-10    -0.194835   6.2534e-13  1.13095e-13          nan          nan          nan          nan          nan          nan          nan          nan          nan          nan          nan          nan\r\n",
      "  -0.0752424  3.58693e-07 -1.03398e-10 -4.38777e-10 -3.29396e-07    0.0690969  4.69197e-13 -4.69767e-13  1.35886e-13  4.01029e-06   -0.0309264  9.96322e-14 -3.38728e-06   0.00901647  1.73524e-07   -0.0363998  7.75996e-12 -4.82562e-12  8.81921e-14  8.94849e-14  6.25394e-13    -0.194835  2.30344e-09          nan          nan          nan          nan          nan          nan          nan          nan          nan          nan          nan          nan\r\n",
      " 1.58821e-10  1.08114e-14   -0.0143253   -0.0143253 -4.57338e-14 -1.71047e-10  5.12056e-06 -5.12056e-06  1.25656e-06 -1.23055e-14 -4.79003e-11  4.35534e-07 -8.46134e-15  8.18509e-12 -7.66538e-15  2.22421e-10   0.00613234  -0.00613234  3.24868e-06  3.24868e-06 -6.06511e-14  2.19097e-09     0.954926          nan          nan          nan          nan          nan          nan          nan          nan          nan          nan          nan          nan\r\n",
      "        -nan         -nan         -nan         -nan         -nan         -nan         -nan         -nan         -nan         -nan         -nan         -nan         -nan         -nan         -nan         -nan         -nan         -nan         -nan         -nan         -nan         -nan         -nan          nan          nan          nan          nan          nan          nan          nan          nan          nan          nan          nan          nan\r\n",
      "        -nan         -nan         -nan         -nan         -nan         -nan         -nan         -nan         -nan         -nan         -nan         -nan         -nan         -nan         -nan         -nan         -nan         -nan         -nan         -nan         -nan         -nan         -nan         -nan         -nan         -nan         -nan         -nan         -nan         -nan         -nan         -nan         -nan         -nan         -nan\r\n",
      "        -nan         -nan         -nan         -nan         -nan         -nan         -nan         -nan         -nan         -nan         -nan         -nan         -nan         -nan         -nan         -nan         -nan         -nan         -nan         -nan         -nan         -nan         -nan         -nan         -nan         -nan         -nan         -nan         -nan         -nan         -nan         -nan         -nan         -nan         -nan\r\n",
      "        -nan         -nan         -nan         -nan         -nan         -nan         -nan         -nan         -nan         -nan         -nan         -nan         -nan         -nan         -nan         -nan         -nan         -nan         -nan         -nan         -nan         -nan         -nan          nan          nan          nan          nan          nan          nan          nan          nan          nan          nan          nan          nan\r\n",
      "        -nan         -nan         -nan         -nan         -nan         -nan         -nan         -nan         -nan         -nan         -nan         -nan         -nan         -nan         -nan         -nan         -nan         -nan         -nan         -nan         -nan         -nan         -nan          nan          nan          nan          nan          nan          nan          nan          nan          nan          nan          nan          nan\r\n",
      "        -nan         -nan         -nan         -nan         -nan         -nan         -nan         -nan         -nan         -nan         -nan         -nan         -nan         -nan         -nan         -nan         -nan         -nan         -nan         -nan         -nan         -nan         -nan         -nan         -nan         -nan         -nan         -nan         -nan         -nan         -nan         -nan         -nan         -nan         -nan\r\n",
      "        -nan         -nan         -nan         -nan         -nan         -nan         -nan         -nan         -nan         -nan         -nan         -nan         -nan         -nan         -nan         -nan         -nan         -nan         -nan         -nan         -nan         -nan         -nan         -nan         -nan         -nan         -nan         -nan         -nan         -nan         -nan         -nan         -nan         -nan         -nan\r\n",
      "        -nan         -nan         -nan         -nan         -nan         -nan         -nan         -nan         -nan         -nan         -nan         -nan         -nan         -nan         -nan         -nan         -nan         -nan         -nan         -nan         -nan         -nan         -nan          nan          nan          nan          nan          nan          nan          nan          nan          nan          nan          nan          nan\r\n",
      "        -nan         -nan         -nan         -nan         -nan         -nan         -nan         -nan         -nan         -nan         -nan         -nan         -nan         -nan         -nan         -nan         -nan         -nan         -nan         -nan         -nan         -nan         -nan          nan          nan          nan          nan          nan          nan          nan          nan          nan          nan          nan          nan\r\n",
      "        -nan         -nan         -nan         -nan         -nan         -nan         -nan         -nan         -nan         -nan         -nan         -nan         -nan         -nan         -nan         -nan         -nan         -nan         -nan         -nan         -nan         -nan         -nan         -nan          nan          nan          nan         -nan          nan          nan          nan         -nan          nan          nan          nan\r\n",
      "        -nan         -nan         -nan         -nan         -nan         -nan         -nan         -nan         -nan         -nan         -nan         -nan         -nan         -nan         -nan         -nan         -nan         -nan         -nan         -nan         -nan         -nan         -nan         -nan          nan          nan          nan         -nan          nan          nan          nan         -nan          nan          nan          nan\r\n",
      "        -nan         -nan         -nan         -nan         -nan         -nan         -nan         -nan         -nan         -nan         -nan         -nan         -nan         -nan         -nan         -nan         -nan         -nan         -nan         -nan         -nan         -nan         -nan         -nan         -nan         -nan         -nan         -nan         -nan         -nan         -nan         -nan         -nan         -nan         -nan\r\n",
      "B\r\n",
      "   0.0935659  2.91696e-14  6.09654e-11  2.33641e-10 -2.89781e-14   -0.0328713 -1.21232e-13   1.2208e-13  -4.3111e-14 -2.08451e-06    0.0155052 -2.83584e-14 -1.83807e-05    0.0483139  4.67486e-14    0.0481173  1.98718e-11 -2.29721e-11  -3.0803e-14 -3.21888e-14 -1.19401e-07    0.0250466   5.2367e-11         -nan         -nan         -nan         -nan         -nan         -nan         -nan         -nan         -nan         -nan         -nan         -nan\r\n",
      " 2.91718e-14    0.0935659 -1.23567e-13 -1.24425e-13   -0.0328713 -2.89614e-14 -6.93484e-10   8.6616e-10 -3.29987e-10   -0.0155052 -2.08451e-06 -2.18245e-10   -0.0483139 -1.83807e-05    0.0481173  4.66258e-14  6.67336e-14 -6.53612e-14 -2.78098e-10 -2.81198e-10   -0.0250466 -1.19401e-07  5.59863e-14         -nan         -nan         -nan         -nan         -nan         -nan         -nan         -nan         -nan         -nan         -nan         -nan\r\n",
      " 6.09654e-11 -1.23567e-13      0.10504   -0.0056823 -1.07496e-13  2.62124e-11  1.56625e-05 -1.56625e-05  8.50484e-06  7.99408e-14  4.11684e-11  3.88534e-06 -6.01804e-14  -2.6251e-11  7.44194e-14 -2.15886e-11   -0.0670098   0.00240141  3.55859e-06 -2.10213e-05  1.78089e-13 -9.09165e-11   -0.0419176         -nan         -nan         -nan         -nan         -nan         -nan         -nan         -nan         -nan         -nan         -nan         -nan\r\n",
      " 2.33641e-10 -1.24425e-13   -0.0056823      0.10504   -1.061e-13 -2.63301e-10  1.56625e-05 -1.56625e-05  8.50484e-06  7.12919e-14  1.08726e-10  3.88534e-06 -5.75338e-14 -3.35763e-11  7.27627e-14  3.84219e-10  -0.00240141    0.0670098 -2.10213e-05  3.55859e-06  1.78824e-13  8.33993e-11   -0.0419176         -nan         -nan         -nan         -nan         -nan         -nan         -nan         -nan         -nan         -nan         -nan         -nan\r\n",
      "-2.89761e-14   -0.0328713 -1.07496e-13   -1.061e-13     0.240584  3.61196e-15 -1.05286e-09  7.63349e-10 -6.49827e-10    0.0144632  1.94441e-06 -1.73493e-10  -0.00916843 -3.48808e-06    0.0440553 -1.89187e-13  4.32375e-14 -3.86541e-14 -1.51136e-10 -1.63432e-10  -0.00432456 -2.06159e-08  5.04928e-14         -nan         -nan         -nan         -nan         -nan         -nan         -nan         -nan         -nan         -nan         -nan         -nan\r\n",
      "  -0.0328713  -2.8973e-14  2.62124e-11 -2.63301e-10  3.62199e-15     0.240584  -1.0369e-13  1.02228e-13 -8.49936e-14  1.94441e-06   -0.0144632 -2.28585e-14 -3.48808e-06   0.00916843 -1.89231e-13    0.0440553  -2.4134e-11  1.18381e-11 -2.27302e-14 -2.73172e-14 -2.06158e-08   0.00432456 -2.19108e-11         -nan         -nan         -nan         -nan         -nan         -nan         -nan         -nan         -nan         -nan         -nan         -nan\r\n",
      "-1.21232e-13 -6.93484e-10  1.56625e-05  1.56625e-05 -1.05286e-09  -1.0369e-13     0.221542     -0.11082    0.0632617  5.30873e-10 -1.22609e-14    0.0289004 -4.89916e-10 -1.18491e-13   9.2688e-10  7.08923e-14 -7.26992e-06   -1.731e-05   -0.0337442    0.0308642  1.18894e-09 -1.73325e-13 -2.49202e-06         -nan         -nan         -nan         -nan         -nan         -nan         -nan         -nan         -nan         -nan         -nan         -nan\r\n",
      "  1.2208e-13   8.6616e-10 -1.56625e-05 -1.56625e-05  7.63349e-10  1.02228e-13     -0.11082     0.221542   -0.0632617  -5.9843e-10  3.59118e-15   -0.0289004  4.97241e-10  1.21159e-13 -5.21073e-10 -6.93649e-14   -1.731e-05 -7.26992e-06   -0.0308642    0.0337442 -1.36166e-09  1.72405e-13  2.49202e-06         -nan         -nan         -nan         -nan         -nan         -nan         -nan         -nan         -nan         -nan         -nan         -nan\r\n",
      "-4.31111e-14 -3.29987e-10  8.50484e-06  8.50484e-06 -6.49827e-10 -8.49936e-14    0.0632617   -0.0632617     0.428924  4.79328e-10  1.97247e-15    -0.012098 -1.75714e-11 -4.45314e-15  6.21667e-10  8.11156e-14 -6.74061e-09  6.74059e-09  2.74002e-05  2.74002e-05  4.95216e-10 -6.57712e-14 -3.91298e-06         -nan         -nan         -nan         -nan         -nan         -nan         -nan         -nan         -nan         -nan         -nan         -nan\r\n",
      "-2.08451e-06   -0.0155052  7.99408e-14  7.12918e-14    0.0144632  1.94441e-06  5.30873e-10  -5.9843e-10  4.79328e-10     0.462759  4.50732e-16 -2.95873e-13  0.000635208  1.56265e-07   -0.0104064 -1.39902e-06 -2.05741e-14  2.21705e-14  8.94163e-11  8.39335e-11    0.0177344 -2.29965e-06 -3.06983e-14         -nan         -nan         -nan         -nan         -nan         -nan         -nan         -nan         -nan         -nan         -nan         -nan\r\n",
      "   0.0155052 -2.08451e-06  4.11684e-11  1.08726e-10  1.94441e-06   -0.0144632 -1.22609e-14  3.59106e-15  1.97255e-15  3.95867e-16     0.462759 -1.87834e-16 -1.56265e-07  0.000635208 -1.39902e-06    0.0104064 -3.07996e-11  3.62824e-11 -8.56647e-15   -6.947e-15  2.29965e-06    0.0177344 -1.14126e-10         -nan         -nan         -nan         -nan         -nan         -nan         -nan         -nan         -nan         -nan         -nan         -nan\r\n",
      "-2.83584e-14 -2.18245e-10  3.88534e-06  3.88534e-06 -1.73493e-10 -2.28586e-14    0.0289004   -0.0289004    -0.012098 -2.95873e-13 -1.87909e-16     0.635437    -3.22e-10 -8.05938e-14 -1.32651e-10 -1.72056e-14 -5.16686e-06  5.16686e-06     0.021003     0.021003  1.07108e-10 -1.46219e-14 -1.79999e-06         -nan         -nan         -nan         -nan         -nan         -nan         -nan         -nan         -nan         -nan         -nan         -nan\r\n",
      "-1.83807e-05   -0.0483139 -6.01804e-14 -5.75338e-14  -0.00916843 -3.48808e-06 -4.89916e-10  4.97241e-10 -1.75714e-11  0.000635208 -1.56265e-07    -3.22e-10     0.916802 -6.16385e-14    0.0222399  8.46106e-06   1.2669e-13 -1.25732e-13 -3.71311e-10 -6.02972e-10   -0.0232165   8.7219e-06 -2.20764e-14         -nan         -nan         -nan         -nan         -nan         -nan         -nan         -nan         -nan         -nan         -nan         -nan\r\n",
      "   0.0483139 -1.83807e-05  -2.6251e-11 -3.35763e-11 -3.48808e-06   0.00916843 -1.18491e-13  1.21159e-13 -4.45311e-15  1.56265e-07  0.000635208 -8.05938e-14 -6.15596e-14     0.916802  8.46106e-06   -0.0222399  9.04565e-11  1.41205e-10 -1.28833e-13 -1.27859e-13  -8.7219e-06   -0.0232165   1.0423e-10         -nan         -nan         -nan         -nan         -nan         -nan         -nan         -nan         -nan         -nan         -nan         -nan\r\n",
      " 4.67369e-14    0.0481173  7.44192e-14  7.27627e-14    0.0440553 -1.89218e-13   9.2688e-10 -5.21073e-10  6.21667e-10   -0.0104064 -1.39902e-06 -1.32651e-10    0.0222399  8.46106e-06      0.97942 -1.42444e-13  4.61011e-14  8.00294e-14  2.15076e-10  -1.1263e-10   0.00417248   1.9891e-08 -1.04819e-13         -nan         -nan         -nan         -nan         -nan         -nan         -nan         -nan         -nan         -nan         -nan         -nan\r\n",
      "   0.0481173  4.66302e-14 -2.15886e-11  3.84219e-10 -1.89202e-13    0.0440553  7.08924e-14  -6.9365e-14  8.11156e-14 -1.39902e-06    0.0104064 -1.72056e-14  8.46106e-06   -0.0222399 -1.42456e-13      0.97942 -1.31024e-10 -1.96682e-10  7.77889e-14  -4.8287e-14  1.98909e-08  -0.00417248  4.31217e-10         -nan         -nan         -nan         -nan         -nan         -nan         -nan         -nan         -nan         -nan         -nan         -nan\r\n",
      " 1.98718e-11  6.67336e-14   -0.0670098  -0.00240141  4.32375e-14  -2.4134e-11 -7.26992e-06   -1.731e-05 -6.74061e-09 -2.05741e-14 -3.07996e-11 -5.16686e-06  1.26691e-13  9.04565e-11  4.61011e-14 -1.31024e-10       1.0596  -0.00440412 -1.99589e-05 -1.99589e-05 -1.73419e-13  2.35523e-11    0.0159918         -nan         -nan         -nan         -nan         -nan         -nan         -nan         -nan         -nan         -nan         -nan         -nan\r\n",
      "-2.29721e-11 -6.53612e-14   0.00240141    0.0670098 -3.86541e-14  1.18381e-11   -1.731e-05 -7.26992e-06  6.74059e-09  2.21705e-14  3.62824e-11  5.16686e-06 -1.25732e-13  1.41205e-10  8.00294e-14 -1.96682e-10  -0.00440412       1.0596  1.99589e-05  1.99589e-05  1.19878e-13 -1.64384e-10   -0.0159918         -nan         -nan         -nan         -nan         -nan         -nan         -nan         -nan         -nan         -nan         -nan         -nan\r\n",
      " -3.0803e-14 -2.78098e-10  3.55859e-06 -2.10213e-05 -1.51136e-10 -2.27302e-14   -0.0337442   -0.0308642  2.74002e-05  8.94163e-11 -8.56649e-15     0.021003 -3.71311e-10 -1.28833e-13  2.15076e-10  7.77889e-14 -1.99589e-05  1.99589e-05      1.14073     0.085536   5.6204e-10   -2.552e-14  5.13664e-06         -nan         -nan         -nan         -nan         -nan         -nan         -nan         -nan         -nan         -nan         -nan         -nan\r\n",
      "-3.21888e-14 -2.81198e-10 -2.10213e-05  3.55859e-06 -1.63432e-10 -2.73172e-14    0.0308642    0.0337442  2.74002e-05  8.39335e-11 -6.94697e-15     0.021003 -6.02972e-10 -1.27859e-13  -1.1263e-10  -4.8287e-14 -1.99589e-05  1.99589e-05     0.085536      1.14073  7.02583e-10  -7.9557e-14  5.13664e-06         -nan         -nan         -nan         -nan         -nan         -nan         -nan         -nan         -nan         -nan         -nan         -nan\r\n",
      "-2.72935e-07   -0.0572532  5.85492e-13  5.85805e-13  -0.00341529 -1.62812e-08  4.12839e-09 -4.38904e-09  6.37934e-10    0.0102623  1.33073e-06  1.16523e-10   -0.0185867 -6.98261e-06    0.0190696  9.09081e-08 -4.33664e-14 -3.27598e-14 -5.04663e-11  1.50414e-10     0.599386  4.50909e-13  -2.1315e-13         -nan         -nan         -nan         -nan         -nan         -nan         -nan         -nan         -nan         -nan         -nan         -nan\r\n",
      "   0.0572532 -2.72935e-07 -8.19173e-11  1.79425e-10 -1.62812e-08   0.00341529 -5.52232e-13  5.51849e-13 -8.65374e-14 -1.33073e-06    0.0102623 -1.75877e-14  6.98261e-06   -0.0185867   9.0908e-08   -0.0190696 -2.12094e-11 -1.78422e-10  5.18326e-14 -2.44262e-14   4.5097e-13     0.599386  2.61312e-09         -nan         -nan         -nan         -nan         -nan         -nan         -nan         -nan         -nan         -nan         -nan         -nan\r\n",
      "-6.18674e-11  5.28013e-14   -0.0423952   -0.0423952  3.01749e-14  5.25863e-11 -1.72276e-06  1.72276e-06 -2.52992e-06 -2.10532e-14 -8.87893e-11 -1.08838e-06  -3.8335e-14  1.15882e-10 -8.35184e-14  4.93167e-10     0.016942    -0.016942  6.37965e-06  6.37965e-06 -3.52077e-13  2.39357e-09       1.9863         -nan         -nan         -nan         -nan         -nan         -nan         -nan         -nan         -nan         -nan         -nan         -nan\r\n",
      "        -nan         -nan         -nan         -nan         -nan         -nan         -nan         -nan         -nan         -nan         -nan         -nan         -nan         -nan         -nan         -nan         -nan         -nan         -nan         -nan         -nan         -nan         -nan         -nan         -nan         -nan         -nan         -nan         -nan         -nan         -nan         -nan         -nan         -nan         -nan\r\n",
      "        -nan         -nan         -nan         -nan         -nan         -nan         -nan         -nan         -nan         -nan         -nan         -nan         -nan         -nan         -nan         -nan         -nan         -nan         -nan         -nan         -nan         -nan         -nan         -nan         -nan         -nan         -nan         -nan         -nan         -nan         -nan         -nan         -nan         -nan         -nan\r\n",
      "        -nan         -nan         -nan         -nan         -nan         -nan         -nan         -nan         -nan         -nan         -nan         -nan         -nan         -nan         -nan         -nan         -nan         -nan         -nan         -nan         -nan         -nan         -nan         -nan         -nan         -nan         -nan         -nan         -nan         -nan         -nan         -nan         -nan         -nan         -nan\r\n",
      "        -nan         -nan         -nan         -nan         -nan         -nan         -nan         -nan         -nan         -nan         -nan         -nan         -nan         -nan         -nan         -nan         -nan         -nan         -nan         -nan         -nan         -nan         -nan         -nan         -nan         -nan         -nan         -nan         -nan         -nan         -nan         -nan         -nan         -nan         -nan\r\n",
      "        -nan         -nan         -nan         -nan         -nan         -nan         -nan         -nan         -nan         -nan         -nan         -nan         -nan         -nan         -nan         -nan         -nan         -nan         -nan         -nan         -nan         -nan         -nan         -nan         -nan         -nan         -nan         -nan         -nan         -nan         -nan         -nan         -nan         -nan         -nan\r\n",
      "        -nan         -nan         -nan         -nan         -nan         -nan         -nan         -nan         -nan         -nan         -nan         -nan         -nan         -nan         -nan         -nan         -nan         -nan         -nan         -nan         -nan         -nan         -nan         -nan         -nan         -nan         -nan         -nan         -nan         -nan         -nan         -nan         -nan         -nan         -nan\r\n",
      "        -nan         -nan         -nan         -nan         -nan         -nan         -nan         -nan         -nan         -nan         -nan         -nan         -nan         -nan         -nan         -nan         -nan         -nan         -nan         -nan         -nan         -nan         -nan         -nan         -nan         -nan         -nan         -nan         -nan         -nan         -nan         -nan         -nan         -nan         -nan\r\n",
      "        -nan         -nan         -nan         -nan         -nan         -nan         -nan         -nan         -nan         -nan         -nan         -nan         -nan         -nan         -nan         -nan         -nan         -nan         -nan         -nan         -nan         -nan         -nan         -nan         -nan         -nan         -nan         -nan         -nan         -nan         -nan         -nan         -nan         -nan         -nan\r\n",
      "        -nan         -nan         -nan         -nan         -nan         -nan         -nan         -nan         -nan         -nan         -nan         -nan         -nan         -nan         -nan         -nan         -nan         -nan         -nan         -nan         -nan         -nan         -nan         -nan         -nan         -nan         -nan         -nan         -nan         -nan         -nan         -nan         -nan         -nan         -nan\r\n",
      "        -nan         -nan         -nan         -nan         -nan         -nan         -nan         -nan         -nan         -nan         -nan         -nan         -nan         -nan         -nan         -nan         -nan         -nan         -nan         -nan         -nan         -nan         -nan         -nan         -nan         -nan         -nan         -nan         -nan         -nan         -nan         -nan         -nan         -nan         -nan\r\n",
      "        -nan         -nan         -nan         -nan         -nan         -nan         -nan         -nan         -nan         -nan         -nan         -nan         -nan         -nan         -nan         -nan         -nan         -nan         -nan         -nan         -nan         -nan         -nan         -nan         -nan         -nan         -nan         -nan         -nan         -nan         -nan         -nan         -nan         -nan         -nan\r\n",
      "        -nan         -nan         -nan         -nan         -nan         -nan         -nan         -nan         -nan         -nan         -nan         -nan         -nan         -nan         -nan         -nan         -nan         -nan         -nan         -nan         -nan         -nan         -nan          nan          nan          nan          nan          nan          nan          nan          nan          nan          nan          nan          nan\r\n",
      "an error occurred:\r\n",
      "Small generalized eigenvalue problem failed.\r\n"
     ]
    }
   ],
   "source": [
    "!xtp_tools -c job_name=CO geometry_optimization.maxiter=1 dftpackage.basisset=3-21G dftpackage.auxbasisset=aux-def2-svp gwbse.gw.mode=G0W0 -e dftgwbse -t 4"
   ]
  },
  {
   "cell_type": "markdown",
   "metadata": {},
   "source": [
    "Notice that we are using 4 threads. The results will be stored in a file named `CO_summary.xml` in the current work directory, together with the optimization step in `optimisation.trj` and the orbitals in [hdf5 format](https://www.hdfgroup.org/solutions/hdf5/) saved on `CO.orb`."
   ]
  }
 ],
 "metadata": {
  "kernelspec": {
   "display_name": "Python 3",
   "language": "python",
   "name": "python3"
  },
  "language_info": {
   "codemirror_mode": {
    "name": "ipython",
    "version": 3
   },
   "file_extension": ".py",
   "mimetype": "text/x-python",
   "name": "python",
   "nbconvert_exporter": "python",
   "pygments_lexer": "ipython3",
   "version": "3.11.1"
  }
 },
 "nbformat": 4,
 "nbformat_minor": 4
}
