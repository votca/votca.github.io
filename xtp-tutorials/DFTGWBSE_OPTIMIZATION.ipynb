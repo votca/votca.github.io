{
 "cells": [
  {
   "cell_type": "markdown",
   "metadata": {},
   "source": [
    "## DFT + GWBSE Optimization Using CO"
   ]
  },
  {
   "cell_type": "markdown",
   "metadata": {},
   "source": [
    "## Introduction\n",
    "This tutorial explains how to perform a molecular geometric optimization using the **GWBSE** method. See [the GW Compendium: A Practical Guide to Theoretical Photoemission Spectroscopy](https://doi.org/10.3389/fchem.2019.00377), for an excellent introduction to the method."
   ]
  },
  {
   "cell_type": "markdown",
   "metadata": {},
   "source": [
    "## Requirements\n",
    "* You will need to install **VOTCA** using the instructions described [here](https://github.com/votca/votca/blob/master/share/doc/INSTALL.rst)\n",
    "* Once the installation is completed you need to activate the VOTCA enviroment by running the `VOTCARC.bash` script that has been installed at the bin subfolder for the path that you have provided for the installation step above"
   ]
  },
  {
   "cell_type": "markdown",
   "metadata": {},
   "source": [
    "## Preparing the input\n",
    "To run a DFT-GWBSE calculation we will use the [xtp_tools](https://www.votca.org/xtp/xtp_tools_overview.html) calculator."
   ]
  },
  {
   "cell_type": "markdown",
   "metadata": {},
   "source": [
    "we can now change the calculator mode from single point energy calculation to optimization as follows by adding \n",
    "`-c geometry_optimization.maxiter=1` which enables optimization with one iteration. "
   ]
  },
  {
   "cell_type": "markdown",
   "metadata": {},
   "source": [
    "Because geometry optimsation is quite expensive numerically we chose a smaller basisset and G0W0 Finally, to run the calculation we just need the following command (This still takes a while)"
   ]
  },
  {
   "cell_type": "code",
   "execution_count": 1,
   "metadata": {
    "execution": {
     "iopub.execute_input": "2023-02-02T20:55:54.847508Z",
     "iopub.status.busy": "2023-02-02T20:55:54.847010Z",
     "iopub.status.idle": "2023-02-02T20:56:29.862959Z",
     "shell.execute_reply": "2023-02-02T20:56:29.861472Z"
    }
   },
   "outputs": [
    {
     "name": "stdout",
     "output_type": "stream",
     "text": [
      "==================================================\r\n",
      "========   VOTCA (http://www.votca.org)   ========\r\n",
      "==================================================\r\n",
      "\r\n",
      "please submit bugs to https://github.com/votca/votca/issues\r\n",
      "\r\n",
      "xtp_tools, version 2024-dev gitid: 652f8c8 (compiled Feb  2 2023, 20:21:44)\r\n",
      "\r\n",
      "Initializing tool\r\n",
      "... dftgwbse Evaluating tool\r\n",
      "... dftgwbse  Using 4 threads\r\n",
      "... ... Reading structure from CO.xyz\r\n",
      "... ... Requested geometry optimization of excited state s1\r\n",
      "... ... Initial state: s1\r\n",
      "... ... WARNING: No tracker is used \r\n",
      "... ... Convergence of total energy: 0.000001 Hartree \r\n",
      "... ... Convergence of RMS Force:    0.000030 Hartree/Bohr \r\n",
      "... ... Convergence of Max Force:    0.000100 Hartree/Bohr \r\n",
      "... ... Convergence of RMS Step:     0.000600 Bohr \r\n",
      "... ... Convergence of Max Step:     0.001000 Bohr \r\n",
      "... ... Initial trust radius:        0.018897 BohrA\r\n",
      "    0.307557  9.82936e-16 -1.84045e-14 -6.60384e-15   -0.0515784 -1.20609e-15  4.78247e-11 -2.37472e-11  6.05503e-12    0.0182326 -5.52601e-06  1.29805e-11    0.0389713  7.52965e-05   -0.0420794 -1.15749e-15   -2.792e-14 -3.42156e-15 -1.51516e-11  4.96686e-12     0.108498 -2.56355e-06  4.42167e-16          nan          nan          nan          nan          nan          nan          nan          nan          nan          nan          nan          nan\r\n",
      " 9.98364e-16     0.307557 -3.93705e-12  2.01404e-11 -1.22244e-15   -0.0515784  2.14113e-15 -1.39279e-14   1.2555e-15 -5.52601e-06   -0.0182326  2.33648e-15 -7.52965e-05    0.0389713 -1.21238e-15   -0.0420794 -8.72445e-12  1.46032e-12  1.66485e-14  7.82311e-15  2.56355e-06     0.108498 -1.40782e-12          nan          nan          nan          nan          nan          nan          nan          nan          nan          nan          nan          nan\r\n",
      "-1.84045e-14 -3.93705e-12     0.320545   -0.0100423 -4.00624e-14  -4.6983e-12  -6.9834e-05   6.9834e-05  2.58988e-05 -1.57028e-15  9.17872e-12  1.09834e-05  4.74324e-17  2.23159e-13 -2.10826e-15 -2.24259e-15   0.00205857    0.0495544  7.28282e-06  8.44841e-05  6.56356e-16 -3.08151e-12    0.0253868          nan          nan          nan          nan          nan          nan          nan          nan          nan          nan          nan          nan\r\n",
      "-6.60384e-15  2.01404e-11   -0.0100423     0.320545 -6.34695e-14 -5.36646e-11  -6.9834e-05   6.9834e-05  2.58988e-05  8.11216e-16 -4.45554e-12  1.09834e-05  3.49638e-15 -2.18052e-12  1.21807e-14  3.03448e-11    0.0495544   0.00205857 -8.44841e-05 -7.28282e-06  1.80465e-14  3.04622e-11    0.0253868          nan          nan          nan          nan          nan          nan          nan          nan          nan          nan          nan          nan\r\n",
      "  -0.0515784 -1.20492e-15 -4.00624e-14 -6.34695e-14     0.491199 -2.64942e-16  1.63507e-10 -2.12473e-10 -9.28078e-11     -0.01345  4.07648e-06 -4.06115e-11   0.00797203  1.54028e-05   -0.0310586  3.10434e-15  -4.0171e-14 -5.23302e-14 -2.52724e-11  3.03589e-11   -0.0529951  1.25215e-06  2.83106e-14          nan          nan          nan          nan          nan          nan          nan          nan          nan          nan          nan          nan\r\n",
      "-1.20508e-15   -0.0515784  -4.6983e-12 -5.36646e-11 -2.52016e-16     0.491199  3.58945e-14 -1.24219e-14 -1.62299e-14  4.07648e-06      0.01345 -7.09474e-15 -1.54028e-05   0.00797203  3.13201e-15   -0.0310586  7.63564e-12  2.54907e-12 -1.93073e-14  7.11445e-15 -1.25215e-06   -0.0529951 -5.00639e-12          nan          nan          nan          nan          nan          nan          nan          nan          nan          nan          nan          nan\r\n",
      " 4.78247e-11  2.14113e-15  -6.9834e-05  -6.9834e-05  1.63507e-10  3.58945e-14     0.550957    -0.220369   -0.0854511  1.15138e-11 -3.55661e-16   -0.0362389 -1.28876e-13  7.64665e-16 -9.80226e-12 -6.67644e-15  3.52229e-05  -5.6544e-05    0.0124024    0.0350935 -2.10459e-11 -1.80813e-14   2.5334e-05          nan          nan          nan          nan          nan          nan          nan          nan          nan          nan          nan          nan\r\n",
      "-2.37472e-11 -1.39279e-14   6.9834e-05   6.9834e-05 -2.12473e-10 -1.24219e-14    -0.220369     0.550957    0.0854511  2.12038e-12  2.80967e-15    0.0362389 -2.27487e-12 -4.19261e-15  4.01494e-11 -7.55141e-15   5.6544e-05 -3.52229e-05    0.0350935    0.0124024  5.37908e-11  1.72433e-15  -2.5334e-05          nan          nan          nan          nan          nan          nan          nan          nan          nan          nan          nan          nan\r\n",
      " 6.05503e-12  1.25587e-15  2.58988e-05  2.58988e-05 -9.28078e-11 -1.62299e-14   -0.0854511    0.0854511     0.663153  9.49873e-12 -4.78065e-15  -0.00639727 -7.94642e-12 -1.67172e-14  5.90363e-12  8.35865e-16  6.59324e-06  6.59324e-06   0.00404736  -0.00404736  4.36232e-11  9.49083e-15 -6.50619e-06          nan          nan          nan          nan          nan          nan          nan          nan          nan          nan          nan          nan\r\n",
      "   0.0182326 -5.52601e-06 -1.57024e-15  8.11652e-16     -0.01345  4.07648e-06  1.15138e-11  2.12038e-12  9.49873e-12     0.681816   8.5141e-16 -9.47419e-12  9.13986e-05   1.4889e-07  -0.00860647  2.60848e-06  2.30802e-15 -1.20029e-15  7.43086e-13  8.06188e-13    0.0410286 -1.34045e-05  9.72424e-15          nan          nan          nan          nan          nan          nan          nan          nan          nan          nan          nan          nan\r\n",
      "-5.52601e-06   -0.0182326  9.17872e-12 -4.45554e-12  4.07648e-06      0.01345 -3.55619e-16  2.80997e-15 -4.78068e-15  7.51305e-16     0.681816  4.61958e-15   1.4889e-07 -9.13986e-05  2.60848e-06   0.00860647  2.24175e-13  1.77345e-12  2.18883e-16  3.26182e-15 -1.34045e-05   -0.0410286  1.08985e-11          nan          nan          nan          nan          nan          nan          nan          nan          nan          nan          nan          nan\r\n",
      " 1.29805e-11  2.33648e-15  1.09834e-05  1.09834e-05 -4.06115e-11 -7.09437e-15   -0.0362389    0.0362389  -0.00639727 -9.47419e-12  4.61956e-15      0.79863  6.72046e-12  1.40089e-14    1.021e-11  1.72061e-15  2.34803e-05  2.34803e-05    0.0144138   -0.0144138  4.27024e-11  7.54354e-15 -3.10065e-06          nan          nan          nan          nan          nan          nan          nan          nan          nan          nan          nan          nan\r\n",
      "   0.0389713 -7.52965e-05  4.74326e-17  3.49638e-15   0.00797203 -1.54028e-05 -1.28876e-13 -2.27487e-12 -7.94642e-12  9.13986e-05   1.4889e-07  6.72046e-12     0.956559  6.31169e-15    0.0131605 -2.54274e-05  1.66354e-14  1.75249e-14  7.32863e-12 -9.37596e-12   -0.0200324  3.91781e-05 -3.37338e-15          nan          nan          nan          nan          nan          nan          nan          nan          nan          nan          nan          nan\r\n",
      " 7.52965e-05    0.0389713  2.23159e-13 -2.18052e-12  1.54028e-05   0.00797203  7.64667e-16 -4.19261e-15 -1.67171e-14   1.4889e-07 -9.13986e-05  1.40089e-14  6.25927e-15     0.956559  2.54274e-05    0.0131605 -2.70723e-12 -6.59918e-13  2.01095e-14 -1.92432e-14 -3.91781e-05   -0.0200324  2.45901e-12          nan          nan          nan          nan          nan          nan          nan          nan          nan          nan          nan          nan\r\n",
      "  -0.0420794 -1.19598e-15 -2.10825e-15  1.21807e-14   -0.0310586  3.12468e-15 -9.80226e-12  4.01494e-11  5.90363e-12  -0.00860647  2.60848e-06    1.021e-11    0.0131605  2.54274e-05     0.989636 -2.20749e-15  2.88962e-14  2.03081e-14  1.69082e-11 -1.33631e-11   -0.0223203  5.27374e-07 -6.61536e-15          nan          nan          nan          nan          nan          nan          nan          nan          nan          nan          nan          nan\r\n",
      "-1.15894e-15   -0.0420794 -2.24259e-15  3.03448e-11  3.12302e-15   -0.0310586 -6.67642e-15 -7.55145e-15  8.35863e-16  2.60848e-06   0.00860647  1.72061e-15 -2.54274e-05    0.0131605 -2.19736e-15     0.989636  1.89065e-12 -1.65446e-12 -1.81574e-15 -6.76565e-15 -5.27374e-07   -0.0223203   2.0415e-11          nan          nan          nan          nan          nan          nan          nan          nan          nan          nan          nan          nan\r\n",
      "  -2.792e-14 -8.72445e-12   0.00205857    0.0495544  -4.0171e-14  7.63564e-12  3.52229e-05   5.6544e-05  6.59324e-06   2.3081e-15  2.24175e-13  2.34803e-05  1.66354e-14 -2.70723e-12  2.88962e-14  1.89065e-12      1.02923    0.0020668  7.09485e-05 -7.09485e-05 -1.70368e-14 -1.80677e-11   0.00469353          nan          nan          nan          nan          nan          nan          nan          nan          nan          nan          nan          nan\r\n",
      "-3.42156e-15  1.46032e-12    0.0495544   0.00205857 -5.23302e-14  2.54907e-12  -5.6544e-05 -3.52229e-05  6.59324e-06  -1.2003e-15  1.77345e-12  2.34803e-05  1.75248e-14 -6.59918e-13  2.03081e-14 -1.65446e-12    0.0020668      1.02923  7.09485e-05 -7.09485e-05  3.52503e-14  3.60511e-12   0.00469353          nan          nan          nan          nan          nan          nan          nan          nan          nan          nan          nan          nan\r\n",
      "-1.51516e-11  1.66485e-14  7.28282e-06 -8.44841e-05 -2.52724e-11 -1.93073e-14    0.0124024    0.0350935   0.00404736  7.43086e-13   2.1888e-16    0.0144138  7.32863e-12  2.01095e-14  1.69082e-11 -1.81574e-15  7.09485e-05  7.09485e-05      1.07278   -0.0456196 -5.96638e-12  4.10093e-14  -6.7926e-07          nan          nan          nan          nan          nan          nan          nan          nan          nan          nan          nan          nan\r\n",
      " 4.96686e-12  7.82311e-15  8.44841e-05 -7.28282e-06  3.03589e-11  7.11445e-15    0.0350935    0.0124024  -0.00404736  8.06188e-13  3.26189e-15   -0.0144138 -9.37596e-12 -1.92432e-14 -1.33631e-11 -6.76566e-15 -7.09485e-05 -7.09485e-05   -0.0456196      1.07278 -1.55523e-11  1.16336e-14   6.7926e-07          nan          nan          nan          nan          nan          nan          nan          nan          nan          nan          nan          nan\r\n",
      "   -0.075296 -1.77906e-06  3.25973e-15 -1.21708e-14    0.0689447    1.629e-06  7.70762e-12 -3.73693e-11 -3.99095e-11   -0.0309921  1.01254e-05  -2.6924e-11   0.00898919  1.75804e-05    0.0364163  8.60429e-07  2.30502e-14 -2.62335e-16  1.20393e-11 -2.48987e-12     -0.19441  1.29796e-15  3.56624e-14          nan          nan          nan          nan          nan          nan          nan          nan          nan          nan          nan          nan\r\n",
      " 1.77906e-06    -0.075296   3.4438e-12 -2.71669e-11   -1.629e-06    0.0689447  1.29254e-14  2.33942e-15 -8.35732e-15  1.01254e-05    0.0309921 -4.96834e-15 -1.75804e-05   0.00898919 -8.60429e-07    0.0364163  7.91926e-12 -1.73896e-12 -1.63965e-14 -6.87758e-15  1.27217e-15     -0.19441  7.98687e-11          nan          nan          nan          nan          nan          nan          nan          nan          nan          nan          nan          nan\r\n",
      " 7.97062e-15   6.0192e-12    0.0144102    0.0144102   4.8207e-14  5.60631e-11  6.02274e-05 -6.02274e-05 -2.05924e-05 -3.63079e-15 -1.65277e-11 -8.43803e-06  8.87116e-15 -3.44691e-12 -2.39715e-15  -4.1186e-11   0.00614401   0.00614401  -7.4662e-06   7.4662e-06  1.53966e-14  9.63317e-11     0.957552          nan          nan          nan          nan          nan          nan          nan          nan          nan          nan          nan          nan\r\n",
      "        -nan         -nan         -nan         -nan         -nan         -nan         -nan         -nan         -nan         -nan         -nan         -nan         -nan         -nan         -nan         -nan         -nan         -nan         -nan         -nan         -nan         -nan         -nan          nan          nan          nan          nan          nan          nan          nan          nan          nan          nan          nan          nan\r\n",
      "        -nan         -nan         -nan         -nan         -nan         -nan         -nan         -nan         -nan         -nan         -nan         -nan         -nan         -nan         -nan         -nan         -nan         -nan         -nan         -nan         -nan         -nan         -nan         -nan         -nan         -nan         -nan         -nan         -nan         -nan         -nan         -nan         -nan         -nan         -nan\r\n",
      "        -nan         -nan         -nan         -nan         -nan         -nan         -nan         -nan         -nan         -nan         -nan         -nan         -nan         -nan         -nan         -nan         -nan         -nan         -nan         -nan         -nan         -nan         -nan         -nan         -nan         -nan         -nan         -nan         -nan         -nan         -nan         -nan         -nan         -nan         -nan\r\n",
      "        -nan         -nan         -nan         -nan         -nan         -nan         -nan         -nan         -nan         -nan         -nan         -nan         -nan         -nan         -nan         -nan         -nan         -nan         -nan         -nan         -nan         -nan         -nan          nan          nan          nan          nan          nan          nan          nan          nan          nan          nan          nan          nan\r\n",
      "        -nan         -nan         -nan         -nan         -nan         -nan         -nan         -nan         -nan         -nan         -nan         -nan         -nan         -nan         -nan         -nan         -nan         -nan         -nan         -nan         -nan         -nan         -nan          nan          nan          nan          nan          nan          nan          nan          nan          nan          nan          nan          nan\r\n",
      "        -nan         -nan         -nan         -nan         -nan         -nan         -nan         -nan         -nan         -nan         -nan         -nan         -nan         -nan         -nan         -nan         -nan         -nan         -nan         -nan         -nan         -nan         -nan         -nan         -nan         -nan         -nan         -nan         -nan         -nan         -nan         -nan         -nan         -nan         -nan\r\n",
      "        -nan         -nan         -nan         -nan         -nan         -nan         -nan         -nan         -nan         -nan         -nan         -nan         -nan         -nan         -nan         -nan         -nan         -nan         -nan         -nan         -nan         -nan         -nan         -nan         -nan         -nan         -nan         -nan         -nan         -nan         -nan         -nan         -nan         -nan         -nan\r\n",
      "        -nan         -nan         -nan         -nan         -nan         -nan         -nan         -nan         -nan         -nan         -nan         -nan         -nan         -nan         -nan         -nan         -nan         -nan         -nan         -nan         -nan         -nan         -nan          nan          nan          nan          nan          nan          nan          nan          nan          nan          nan          nan          nan\r\n",
      "        -nan         -nan         -nan         -nan         -nan         -nan         -nan         -nan         -nan         -nan         -nan         -nan         -nan         -nan         -nan         -nan         -nan         -nan         -nan         -nan         -nan         -nan         -nan          nan          nan          nan          nan          nan          nan          nan          nan          nan          nan          nan          nan\r\n",
      "        -nan         -nan         -nan         -nan         -nan         -nan         -nan         -nan         -nan         -nan         -nan         -nan         -nan         -nan         -nan         -nan         -nan         -nan         -nan         -nan         -nan         -nan         -nan         -nan          nan          nan          nan         -nan          nan          nan          nan         -nan          nan          nan          nan\r\n",
      "        -nan         -nan         -nan         -nan         -nan         -nan         -nan         -nan         -nan         -nan         -nan         -nan         -nan         -nan         -nan         -nan         -nan         -nan         -nan         -nan         -nan         -nan         -nan         -nan          nan          nan          nan         -nan          nan          nan          nan         -nan          nan          nan          nan\r\n",
      "        -nan         -nan         -nan         -nan         -nan         -nan         -nan         -nan         -nan         -nan         -nan         -nan         -nan         -nan         -nan         -nan         -nan         -nan         -nan         -nan         -nan         -nan         -nan         -nan         -nan         -nan         -nan         -nan         -nan         -nan         -nan         -nan         -nan         -nan         -nan\r\n",
      "B\r\n",
      "    0.094057  4.27839e-16  -9.3899e-15 -2.90054e-15   -0.0329085 -7.75204e-16  2.39176e-11 -1.07037e-11  5.66269e-12    0.0156091 -4.73086e-06  1.35051e-11    0.0483433  9.34044e-05   -0.0481685 -1.38726e-15 -3.13607e-14 -2.30492e-15 -1.69245e-11  4.83701e-12    0.0251553 -5.94358e-07   8.5328e-15         -nan         -nan         -nan         -nan         -nan         -nan         -nan         -nan         -nan         -nan         -nan         -nan\r\n",
      " 4.37986e-16     0.094057 -2.23077e-12  1.09831e-11 -7.89587e-16   -0.0329085  8.59721e-16 -7.34614e-15  1.10644e-15 -4.73086e-06   -0.0156091  2.38553e-15 -9.34044e-05    0.0483433  -1.4473e-15   -0.0481685 -1.06188e-11  1.46868e-12  2.03222e-14   8.7005e-15  5.94358e-07    0.0251553  1.73445e-12         -nan         -nan         -nan         -nan         -nan         -nan         -nan         -nan         -nan         -nan         -nan         -nan\r\n",
      "-9.38992e-15 -2.23077e-12     0.105938  -0.00570608 -1.96655e-14 -2.77356e-12 -3.54702e-05  3.54702e-05  1.90762e-05 -3.13676e-15  9.47561e-12  8.61567e-06  1.65547e-16  1.31578e-13 -4.37446e-15 -2.46886e-14   0.00242557    0.0671917  5.48583e-06  0.000119649 -1.51402e-15 -4.28767e-13    0.0420449         -nan         -nan         -nan         -nan         -nan         -nan         -nan         -nan         -nan         -nan         -nan         -nan\r\n",
      "-2.90055e-15  1.09831e-11  -0.00570608     0.105938 -3.80982e-14 -4.13362e-11 -3.54702e-05  3.54702e-05  1.90762e-05 -5.21439e-16 -5.52146e-12  8.61567e-06  3.86727e-15 -2.44465e-12  1.44221e-14  3.98859e-11    0.0671917   0.00242557 -0.000119649 -5.48583e-06  1.28288e-15  4.23105e-12    0.0420449         -nan         -nan         -nan         -nan         -nan         -nan         -nan         -nan         -nan         -nan         -nan         -nan\r\n",
      "  -0.0329085 -7.75511e-16 -1.96655e-14 -3.80982e-14     0.241204 -3.71224e-16  8.89808e-11 -1.27543e-10 -7.79347e-11   -0.0144728  4.38647e-06 -3.67565e-11   0.00911846  1.76178e-05   -0.0442994  4.45327e-15 -3.80204e-14 -4.85135e-14 -2.36959e-11  2.81057e-11   0.00443755 -1.04849e-07  7.94201e-14         -nan         -nan         -nan         -nan         -nan         -nan         -nan         -nan         -nan         -nan         -nan         -nan\r\n",
      "-7.74362e-16   -0.0329085 -2.77356e-12 -4.13362e-11 -3.59304e-16     0.241204  2.15896e-14 -3.10945e-15 -1.36285e-14  4.38647e-06    0.0144728 -6.42198e-15 -1.76178e-05   0.00911846  4.48408e-15   -0.0442994  7.97808e-12  3.56821e-12 -1.92704e-14  8.73224e-15  1.04849e-07   0.00443755  4.12292e-11         -nan         -nan         -nan         -nan         -nan         -nan         -nan         -nan         -nan         -nan         -nan         -nan\r\n",
      " 2.39176e-11  8.59696e-16 -3.54702e-05 -3.54702e-05  8.89808e-11  2.15896e-14      0.22297    -0.111325   -0.0629404  1.63897e-11 -2.32446e-15   -0.0284268  2.15685e-13  1.49342e-15 -7.63032e-12 -7.95622e-15  7.51472e-05 -4.99877e-05    0.0336291     0.031137  4.13984e-12  -1.5715e-15  8.35287e-05         -nan         -nan         -nan         -nan         -nan         -nan         -nan         -nan         -nan         -nan         -nan         -nan\r\n",
      "-1.07037e-11 -7.34612e-15  3.54702e-05  3.54702e-05 -1.27543e-10 -3.10943e-15    -0.111325      0.22297    0.0629404 -1.39271e-12  5.00598e-15    0.0284268   -2.792e-12 -5.16605e-15  4.75409e-11 -1.07667e-14  4.99877e-05 -7.51472e-05     0.031137    0.0336291  6.57696e-13  -4.4516e-16 -8.35287e-05         -nan         -nan         -nan         -nan         -nan         -nan         -nan         -nan         -nan         -nan         -nan         -nan\r\n",
      " 5.66269e-12   1.1068e-15  1.90762e-05  1.90762e-05 -7.79347e-11 -1.36286e-14   -0.0629404    0.0629404      0.42963  9.32878e-12  -4.7817e-15   -0.0122085 -1.22461e-11 -2.57107e-14  7.86986e-12  1.09631e-15 -1.07377e-07 -1.07377e-07 -6.59153e-05  6.59153e-05  6.82944e-12  1.81172e-15 -2.72846e-05         -nan         -nan         -nan         -nan         -nan         -nan         -nan         -nan         -nan         -nan         -nan         -nan\r\n",
      "   0.0156091 -4.73086e-06 -3.13672e-15 -5.21008e-16   -0.0144728  4.38647e-06  1.63897e-11 -1.39271e-12  9.32878e-12     0.465176  1.10742e-15 -1.57166e-11  0.000658397  1.07254e-06   -0.0103444  3.13521e-06  5.53597e-15 -2.02009e-15  2.19063e-12  1.20111e-12    0.0177317 -5.79313e-06  6.32437e-15         -nan         -nan         -nan         -nan         -nan         -nan         -nan         -nan         -nan         -nan         -nan         -nan\r\n",
      "-4.73086e-06   -0.0156091  9.47561e-12 -5.52146e-12  4.38647e-06    0.0144728 -2.32448e-15  5.00635e-15 -4.78171e-15   9.6536e-16     0.465176  7.62828e-15  1.07254e-06 -0.000658397  3.13521e-06    0.0103444 -1.49281e-13  3.24246e-12  1.13777e-15  6.37846e-15 -5.79313e-06   -0.0177317 -1.06285e-11         -nan         -nan         -nan         -nan         -nan         -nan         -nan         -nan         -nan         -nan         -nan         -nan\r\n",
      " 1.35051e-11   2.3855e-15  8.61567e-06  8.61567e-06 -3.67565e-11 -6.42151e-15   -0.0284268    0.0284268   -0.0122085 -1.57166e-11  7.62826e-15     0.636701  1.15999e-11  2.42417e-14  1.83938e-11  3.12555e-15   3.3971e-05   3.3971e-05    0.0208537   -0.0208537  2.55626e-11  4.03672e-15 -1.18888e-05         -nan         -nan         -nan         -nan         -nan         -nan         -nan         -nan         -nan         -nan         -nan         -nan\r\n",
      "   0.0483433 -9.34044e-05  1.65549e-16  3.86727e-15   0.00911846 -1.76178e-05  2.15685e-13   -2.792e-12 -1.22461e-11  0.000658397  1.07254e-06  1.15999e-11     0.917337  1.17591e-14    0.0223429 -4.31687e-05  3.20507e-14  3.40011e-14  1.37015e-11 -1.81398e-11    -0.023285  4.55393e-05  7.58275e-15         -nan         -nan         -nan         -nan         -nan         -nan         -nan         -nan         -nan         -nan         -nan         -nan\r\n",
      " 9.34044e-05    0.0483433  1.31578e-13 -2.44465e-12  1.76178e-05   0.00911846  1.49342e-15 -5.16605e-15 -2.57106e-14  1.07254e-06 -0.000658397  2.42417e-14  1.16592e-14     0.917337  4.31687e-05    0.0223429 -5.65317e-12 -1.21488e-12  3.88828e-14 -3.69801e-14 -4.55393e-05    -0.023285 -1.49286e-12         -nan         -nan         -nan         -nan         -nan         -nan         -nan         -nan         -nan         -nan         -nan         -nan\r\n",
      "  -0.0481685 -1.42614e-15 -4.37444e-15  1.44221e-14   -0.0442994  4.47647e-15 -7.63032e-12  4.75409e-11  7.86986e-12   -0.0103444  3.13521e-06  1.83938e-11    0.0223429  4.31687e-05     0.983661 -4.35724e-15    5.555e-14  3.54771e-14  3.22677e-11 -2.39699e-11   0.00432401 -1.02166e-07  -1.2209e-14         -nan         -nan         -nan         -nan         -nan         -nan         -nan         -nan         -nan         -nan         -nan         -nan\r\n",
      "-1.38962e-15   -0.0481685 -2.46886e-14  3.98859e-11  4.48247e-15   -0.0442994 -7.95614e-15 -1.07668e-14  1.09631e-15  3.13521e-06    0.0103444  3.12555e-15 -4.31687e-05    0.0223429 -4.33621e-15     0.983661  5.47477e-12 -2.82302e-12  -7.2262e-15 -1.28267e-14  1.02166e-07   0.00432401 -1.26236e-11         -nan         -nan         -nan         -nan         -nan         -nan         -nan         -nan         -nan         -nan         -nan         -nan\r\n",
      "-3.13607e-14 -1.06188e-11   0.00242557    0.0671917 -3.80204e-14  7.97808e-12  7.51472e-05  4.99877e-05 -1.07377e-07  5.53607e-15 -1.49281e-13   3.3971e-05  3.20507e-14 -5.65317e-12    5.555e-14  5.47477e-12      1.06175    0.0044046  0.000132642 -0.000132642 -2.00543e-14 -2.13922e-11    0.0159971         -nan         -nan         -nan         -nan         -nan         -nan         -nan         -nan         -nan         -nan         -nan         -nan\r\n",
      "-2.30492e-15  1.46868e-12    0.0671917   0.00242557 -4.85135e-14  3.56821e-12 -4.99877e-05 -7.51472e-05 -1.07377e-07  -2.0201e-15  3.24246e-12   3.3971e-05   3.4001e-14 -1.21488e-12  3.54771e-14 -2.82302e-12    0.0044046      1.06175  0.000132642 -0.000132642  3.92665e-14  3.21476e-12    0.0159971         -nan         -nan         -nan         -nan         -nan         -nan         -nan         -nan         -nan         -nan         -nan         -nan\r\n",
      "-1.69245e-11  2.03222e-14  5.48583e-06 -0.000119649 -2.36959e-11 -1.92704e-14    0.0336291     0.031137 -6.59153e-05  2.19063e-12  1.13775e-15    0.0208537  1.37015e-11  3.88828e-14  3.22677e-11  -7.2262e-15  0.000132642  0.000132642      1.14317   -0.0858289 -7.42064e-12  4.72697e-14 -9.88698e-06         -nan         -nan         -nan         -nan         -nan         -nan         -nan         -nan         -nan         -nan         -nan         -nan\r\n",
      " 4.83701e-12   8.7005e-15  0.000119649 -5.48583e-06  2.81057e-11  8.73223e-15     0.031137    0.0336291  6.59153e-05  1.20111e-12  6.37857e-15   -0.0208537 -1.81398e-11 -3.69802e-14 -2.39699e-11 -1.28267e-14 -0.000132642 -0.000132642   -0.0858289      1.14317 -1.70534e-11  1.27481e-14  9.88698e-06         -nan         -nan         -nan         -nan         -nan         -nan         -nan         -nan         -nan         -nan         -nan         -nan\r\n",
      "   0.0574548  1.35752e-06  8.87624e-16  3.97294e-15   0.00354178  8.36836e-08 -4.68899e-12  9.68722e-12 -2.23423e-12    0.0101472 -3.31521e-06  1.18412e-11   -0.0187032 -3.65784e-05     0.019244  4.54688e-07   9.2275e-15  3.68042e-14  7.84514e-12  -1.9241e-11     0.601743  -1.7551e-14  8.15839e-14         -nan         -nan         -nan         -nan         -nan         -nan         -nan         -nan         -nan         -nan         -nan         -nan\r\n",
      "-1.35752e-06    0.0574548  3.79709e-13  5.19076e-12 -8.36836e-08   0.00354178 -4.12775e-15  2.08559e-15 -1.64511e-16 -3.31521e-06   -0.0101472  1.76766e-15  3.65784e-05   -0.0187032 -4.54688e-07     0.019244 -9.65461e-12  1.74389e-12  2.34532e-14  4.58166e-15 -1.75873e-14     0.601743 -5.26062e-11         -nan         -nan         -nan         -nan         -nan         -nan         -nan         -nan         -nan         -nan         -nan         -nan\r\n",
      " 8.28845e-15 -5.13886e-12    0.0425254    0.0425254   8.2068e-14  1.05693e-11  7.78112e-05 -7.78112e-05 -2.84064e-05  2.24293e-14  2.14384e-11 -1.27837e-05  3.85353e-15  2.74369e-13  -1.7747e-14  1.75388e-12      0.01695      0.01695 -1.40304e-05  1.40304e-05  5.36546e-14  -4.4139e-11       1.9854         -nan         -nan         -nan         -nan         -nan         -nan         -nan         -nan         -nan         -nan         -nan         -nan\r\n",
      "        -nan         -nan         -nan         -nan         -nan         -nan         -nan         -nan         -nan         -nan         -nan         -nan         -nan         -nan         -nan         -nan         -nan         -nan         -nan         -nan         -nan         -nan         -nan         -nan         -nan         -nan         -nan         -nan         -nan         -nan         -nan         -nan         -nan         -nan         -nan\r\n",
      "        -nan         -nan         -nan         -nan         -nan         -nan         -nan         -nan         -nan         -nan         -nan         -nan         -nan         -nan         -nan         -nan         -nan         -nan         -nan         -nan         -nan         -nan         -nan         -nan         -nan         -nan         -nan         -nan         -nan         -nan         -nan         -nan         -nan         -nan         -nan\r\n",
      "        -nan         -nan         -nan         -nan         -nan         -nan         -nan         -nan         -nan         -nan         -nan         -nan         -nan         -nan         -nan         -nan         -nan         -nan         -nan         -nan         -nan         -nan         -nan         -nan         -nan         -nan         -nan         -nan         -nan         -nan         -nan         -nan         -nan         -nan         -nan\r\n",
      "        -nan         -nan         -nan         -nan         -nan         -nan         -nan         -nan         -nan         -nan         -nan         -nan         -nan         -nan         -nan         -nan         -nan         -nan         -nan         -nan         -nan         -nan         -nan         -nan         -nan         -nan         -nan         -nan         -nan         -nan         -nan         -nan         -nan         -nan         -nan\r\n",
      "        -nan         -nan         -nan         -nan         -nan         -nan         -nan         -nan         -nan         -nan         -nan         -nan         -nan         -nan         -nan         -nan         -nan         -nan         -nan         -nan         -nan         -nan         -nan         -nan         -nan         -nan         -nan         -nan         -nan         -nan         -nan         -nan         -nan         -nan         -nan\r\n",
      "        -nan         -nan         -nan         -nan         -nan         -nan         -nan         -nan         -nan         -nan         -nan         -nan         -nan         -nan         -nan         -nan         -nan         -nan         -nan         -nan         -nan         -nan         -nan         -nan         -nan         -nan         -nan         -nan         -nan         -nan         -nan         -nan         -nan         -nan         -nan\r\n",
      "        -nan         -nan         -nan         -nan         -nan         -nan         -nan         -nan         -nan         -nan         -nan         -nan         -nan         -nan         -nan         -nan         -nan         -nan         -nan         -nan         -nan         -nan         -nan         -nan         -nan         -nan         -nan         -nan         -nan         -nan         -nan         -nan         -nan         -nan         -nan\r\n",
      "        -nan         -nan         -nan         -nan         -nan         -nan         -nan         -nan         -nan         -nan         -nan         -nan         -nan         -nan         -nan         -nan         -nan         -nan         -nan         -nan         -nan         -nan         -nan         -nan         -nan         -nan         -nan         -nan         -nan         -nan         -nan         -nan         -nan         -nan         -nan\r\n",
      "        -nan         -nan         -nan         -nan         -nan         -nan         -nan         -nan         -nan         -nan         -nan         -nan         -nan         -nan         -nan         -nan         -nan         -nan         -nan         -nan         -nan         -nan         -nan         -nan         -nan         -nan         -nan         -nan         -nan         -nan         -nan         -nan         -nan         -nan         -nan\r\n",
      "        -nan         -nan         -nan         -nan         -nan         -nan         -nan         -nan         -nan         -nan         -nan         -nan         -nan         -nan         -nan         -nan         -nan         -nan         -nan         -nan         -nan         -nan         -nan         -nan         -nan         -nan         -nan         -nan         -nan         -nan         -nan         -nan         -nan         -nan         -nan\r\n",
      "        -nan         -nan         -nan         -nan         -nan         -nan         -nan         -nan         -nan         -nan         -nan         -nan         -nan         -nan         -nan         -nan         -nan         -nan         -nan         -nan         -nan         -nan         -nan         -nan         -nan         -nan         -nan         -nan         -nan         -nan         -nan         -nan         -nan         -nan         -nan\r\n",
      "        -nan         -nan         -nan         -nan         -nan         -nan         -nan         -nan         -nan         -nan         -nan         -nan         -nan         -nan         -nan         -nan         -nan         -nan         -nan         -nan         -nan         -nan         -nan          nan          nan          nan          nan          nan          nan          nan          nan          nan          nan          nan          nan\r\n",
      "an error occurred:\r\n",
      "Small generalized eigenvalue problem failed.\r\n"
     ]
    }
   ],
   "source": [
    "!xtp_tools -c job_name=CO geometry_optimization.maxiter=1 dftpackage.basisset=3-21G dftpackage.auxbasisset=aux-def2-svp gwbse.gw.mode=G0W0 -e dftgwbse -t 4"
   ]
  },
  {
   "cell_type": "markdown",
   "metadata": {},
   "source": [
    "Notice that we are using 4 threads. The results will be stored in a file named `CO_summary.xml` in the current work directory, together with the optimization step in `optimisation.trj` and the orbitals in [hdf5 format](https://www.hdfgroup.org/solutions/hdf5/) saved on `CO.orb`."
   ]
  }
 ],
 "metadata": {
  "kernelspec": {
   "display_name": "Python 3",
   "language": "python",
   "name": "python3"
  },
  "language_info": {
   "codemirror_mode": {
    "name": "ipython",
    "version": 3
   },
   "file_extension": ".py",
   "mimetype": "text/x-python",
   "name": "python",
   "nbconvert_exporter": "python",
   "pygments_lexer": "ipython3",
   "version": "3.11.1"
  }
 },
 "nbformat": 4,
 "nbformat_minor": 4
}
