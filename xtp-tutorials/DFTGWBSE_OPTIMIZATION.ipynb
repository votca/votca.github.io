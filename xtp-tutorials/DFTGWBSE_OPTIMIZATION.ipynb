{
 "cells": [
  {
   "cell_type": "markdown",
   "metadata": {},
   "source": [
    "## DFT + GWBSE Optimization Using CO"
   ]
  },
  {
   "cell_type": "markdown",
   "metadata": {},
   "source": [
    "## Introduction\n",
    "This tutorial explains how to perform a molecular geometric optimization using the **GWBSE** method. See [the GW Compendium: A Practical Guide to Theoretical Photoemission Spectroscopy](https://doi.org/10.3389/fchem.2019.00377), for an excellent introduction to the method."
   ]
  },
  {
   "cell_type": "markdown",
   "metadata": {},
   "source": [
    "## Requirements\n",
    "* You will need to install **VOTCA** using the instructions described [here](https://github.com/votca/votca/blob/master/share/doc/INSTALL.rst)\n",
    "* Once the installation is completed you need to activate the VOTCA enviroment by running the `VOTCARC.bash` script that has been installed at the bin subfolder for the path that you have provided for the installation step above"
   ]
  },
  {
   "cell_type": "markdown",
   "metadata": {},
   "source": [
    "## Preparing the input\n",
    "To run a DFT-GWBSE calculation we will use the [xtp_tools](https://www.votca.org/xtp/xtp_tools_overview.html) calculator."
   ]
  },
  {
   "cell_type": "markdown",
   "metadata": {},
   "source": [
    "we can now change the calculator mode from single point energy calculation to optimization as follows by adding \n",
    "`-c geometry_optimization.maxiter=1` which enables optimization with one iteration. "
   ]
  },
  {
   "cell_type": "markdown",
   "metadata": {},
   "source": [
    "Because geometry optimsation is quite expensive numerically we chose a smaller basisset and G0W0 Finally, to run the calculation we just need the following command (This still takes a while)"
   ]
  },
  {
   "cell_type": "code",
   "execution_count": 1,
   "metadata": {
    "execution": {
     "iopub.execute_input": "2021-12-17T06:00:50.966113Z",
     "iopub.status.busy": "2021-12-17T06:00:50.965634Z",
     "iopub.status.idle": "2021-12-17T06:01:52.622311Z",
     "shell.execute_reply": "2021-12-17T06:01:52.621460Z"
    }
   },
   "outputs": [
    {
     "name": "stdout",
     "output_type": "stream",
     "text": [
      "==================================================\r\n",
      "========   VOTCA (http://www.votca.org)   ========\r\n",
      "==================================================\r\n",
      "\r\n",
      "please submit bugs to https://github.com/votca/xtp/issues\r\n",
      "\r\n",
      "xtp_tools, version 2022-dev gitid: 682cf92 (compiled Dec 17 2021, 05:53:08)\r\n",
      "votca_csg, version 2022-dev gitid: 682cf92 (compiled Dec 17 2021, 05:39:34)\r\n",
      "votca_tools, version 2022-dev gitid: 682cf92 (compiled Dec 17 2021, 05:37:01)\r\n",
      "\r\n",
      "Initializing tool\r\n",
      "... dftgwbse Evaluating tool\r\n",
      "... dftgwbse  Using 4 threads\r\n",
      "... ... Reading structure from CO.xyz\r\n",
      "... ... Requested geometry optimization of excited state s1\r\n",
      "... ... Initial state: s1\r\n",
      "... ... WARNING: No tracker is used \r\n",
      "... ... Convergence of total energy: 0.000001 Hartree \r\n",
      "... ... Convergence of RMS Force:    0.000030 Hartree/Bohr \r\n",
      "... ... Convergence of Max Force:    0.000100 Hartree/Bohr \r\n",
      "... ... Convergence of RMS Step:     0.000600 Bohr \r\n",
      "... ... Convergence of Max Step:     0.001000 Bohr \r\n",
      "... ... Initial trust radius:        0.018897 Bohr\r\n",
      "... ... \r\n",
      "... ... =========== OPTIMIZATION SUMMARY ================================= \r\n",
      "... ... At iteration  0\r\n",
      "... ...  ---- POSITIONS (Angstrom)   \r\n",
      "... ...  Atom\t x\t  y\t  z \r\n",
      "... ...    0    +0.0000  +0.0000  +0.0000\r\n",
      "... ...    1    +1.2000  +0.0000  +0.0000\r\n",
      "... ...    Total energy:     -112.26831841 Hartree \r\n",
      "... ...    Trust radius:       0.01889726 Bohr     \r\n",
      "... ...  ---- FORCES (Hartree/Bohr)   \r\n",
      "... ...       central differences   \r\n",
      "... ...       displacement 0.0010 Angstrom   \r\n",
      "... ...  Atom\t x\t  y\t  z \r\n",
      "... ...    0    -0.1314  -0.0000  -0.0000\r\n",
      "... ...    1    +0.1314  +0.0000  +0.0000A\r\n",
      "     0.30157  2.94756e-13  4.02113e-11  2.02728e-11 -2.30197e-13    -0.051948 -2.78888e-12  2.79687e-12  9.20571e-13  0.000177427   -0.0176756  3.74411e-13 -0.000711498   -0.0390189  1.81331e-13    0.0423787  1.37037e-12  1.26802e-12 -3.63289e-13  3.65248e-13  0.000106826    -0.107191 -1.70517e-11          nan          nan          nan          nan          nan          nan          nan          nan          nan          nan          nan          nan\r\n",
      " 2.94783e-13      0.30157 -2.88382e-12 -2.87582e-12    -0.051948 -2.30234e-13 -2.47834e-10  2.67772e-10  9.53322e-11    0.0176756  0.000177427  3.87768e-11   -0.0390189  0.000711498    0.0423787  1.81317e-13  3.04739e-13  3.06698e-13 -3.88014e-11  3.89038e-11     0.107191  0.000106826  2.13871e-13          nan          nan          nan          nan          nan          nan          nan          nan          nan          nan          nan          nan\r\n",
      " 4.02113e-11 -2.88382e-12     0.310851   -0.0100582 -1.55646e-12 -2.44448e-11   0.00232371  -0.00232371 -0.000909714 -1.02058e-12 -1.10802e-11 -0.000408631 -9.08724e-14  4.61696e-12  2.30845e-13  5.03008e-11   -0.0492318  -0.00196026 -0.000536949 -0.000325035 -1.12242e-11  -5.2832e-11   -0.0248162          nan          nan          nan          nan          nan          nan          nan          nan          nan          nan          nan          nan\r\n",
      " 2.02728e-11 -2.87582e-12   -0.0100582     0.310851 -1.56607e-12  4.06122e-13   0.00232371  -0.00232371 -0.000909714 -1.11703e-12 -1.09776e-12 -0.000408631 -1.24089e-13   2.7563e-12  2.50534e-13 -4.07683e-13  -0.00196026   -0.0492318  0.000325035  0.000536949 -1.12485e-11 -1.21059e-11   -0.0248162          nan          nan          nan          nan          nan          nan          nan          nan          nan          nan          nan          nan\r\n",
      "-2.30187e-13    -0.051948 -1.55646e-12 -1.56607e-12     0.487116  3.94889e-14 -1.79496e-10  1.54645e-10  8.36842e-11   -0.0136228 -0.000136744  4.01325e-11  -0.00828238  0.000151027    0.0302057 -6.40148e-13  2.55059e-13  2.09637e-13 -2.82818e-11  2.58448e-11   -0.0548637 -5.46766e-05  6.63645e-13          nan          nan          nan          nan          nan          nan          nan          nan          nan          nan          nan          nan\r\n",
      "   -0.051948 -2.30228e-13 -2.44448e-11  4.06122e-13  3.94673e-14     0.487116  -1.4977e-12  1.48813e-12  8.08067e-13 -0.000136744    0.0136228  3.87624e-13 -0.000151027  -0.00828238 -6.40181e-13    0.0302057 -2.30869e-12  1.28284e-13  -2.9311e-13  2.47693e-13 -5.46766e-05    0.0548637  5.56558e-12          nan          nan          nan          nan          nan          nan          nan          nan          nan          nan          nan          nan\r\n",
      "-2.78888e-12 -2.47834e-10   0.00232371   0.00232371 -1.79496e-10  -1.4977e-12     0.542321    -0.221411   -0.0906277 -1.01735e-10  6.92312e-14   -0.0407088 -1.29307e-11  6.54134e-14  7.33071e-11  2.23302e-13  0.000603166 -0.000258818   -0.0132926    -0.033979 -1.06717e-09  9.50145e-12  -0.00033416          nan          nan          nan          nan          nan          nan          nan          nan          nan          nan          nan          nan\r\n",
      " 2.79687e-12  2.67772e-10  -0.00232371  -0.00232371  1.54645e-10  1.48813e-12    -0.221411     0.542321    0.0906277  1.11718e-10  2.71578e-14    0.0407088  1.47913e-11 -9.85618e-14 -2.25987e-11 -2.03533e-13  0.000258818 -0.000603166    -0.033979   -0.0132926  1.10718e-09 -9.47693e-12   0.00033416          nan          nan          nan          nan          nan          nan          nan          nan          nan          nan          nan          nan\r\n",
      " 9.20571e-13  9.53322e-11 -0.000909714 -0.000909714  8.36842e-11  8.08067e-13   -0.0906277    0.0906277     0.660145  6.15263e-11  2.34103e-14  -0.00527337 -3.12071e-12  2.68057e-14 -3.30982e-11 -3.19969e-13  3.87007e-05  3.87007e-05  -0.00472231   0.00472231  3.60902e-10 -3.02591e-12  0.000230692          nan          nan          nan          nan          nan          nan          nan          nan          nan          nan          nan          nan\r\n",
      " 0.000177427    0.0176756 -1.02058e-12 -1.11703e-12   -0.0136228 -0.000136744 -1.01735e-10  1.11718e-10  6.15263e-11     0.669023 -4.98427e-15   8.2594e-12  9.83165e-06 -8.05733e-08   0.00903022  9.06446e-05  3.63401e-14  8.58101e-14 -4.78472e-12  1.05559e-11    0.0409868 -0.000370572  3.49207e-14          nan          nan          nan          nan          nan          nan          nan          nan          nan          nan          nan          nan\r\n",
      "  -0.0176756  0.000177427 -1.10802e-11 -1.09776e-12 -0.000136744    0.0136228  6.92312e-14  2.71579e-14  2.34103e-14 -5.02711e-15     0.669023  2.92868e-15 -8.05733e-08 -9.83165e-06  9.06446e-05  -0.00903022  1.87612e-12  7.64733e-12  1.15117e-14 -6.10027e-14  0.000370572    0.0409868  7.91904e-12          nan          nan          nan          nan          nan          nan          nan          nan          nan          nan          nan          nan\r\n",
      " 3.74411e-13  3.87768e-11 -0.000408631 -0.000408631  4.01325e-11  3.87624e-13   -0.0407088    0.0407088  -0.00527337   8.2594e-12  2.92869e-15     0.793384  1.18506e-11 -1.01737e-13  3.85076e-12  3.68777e-14  0.000124954  0.000124954   -0.0152471    0.0152471  1.38598e-10 -1.15846e-12  9.62961e-05          nan          nan          nan          nan          nan          nan          nan          nan          nan          nan          nan          nan\r\n",
      "-0.000711498   -0.0390189 -9.08724e-14 -1.24089e-13  -0.00828238 -0.000151027 -1.29307e-11  1.47913e-11 -3.12071e-12  9.83165e-06 -8.05733e-08  1.18506e-11     0.954425  5.77844e-14    0.0128923  0.000235088 -4.32909e-14 -3.77213e-14  1.11225e-11  3.32742e-12    0.0199024 -0.000343074 -1.28646e-13          nan          nan          nan          nan          nan          nan          nan          nan          nan          nan          nan          nan\r\n",
      "  -0.0390189  0.000711498  4.61696e-12   2.7563e-12  0.000151027  -0.00828238  6.54134e-14 -9.85618e-14  2.68057e-14 -8.05733e-08 -9.83165e-06 -1.01737e-13  5.78263e-14     0.954425 -0.000235088    0.0128923  6.21866e-12 -8.23132e-12 -3.84215e-14   4.4041e-14 -0.000343074   -0.0199024 -6.00148e-12          nan          nan          nan          nan          nan          nan          nan          nan          nan          nan          nan          nan\r\n",
      " 1.81332e-13    0.0423787  2.30845e-13  2.50534e-13    0.0302057 -6.40203e-13  7.33071e-11 -2.25987e-11 -3.30982e-11   0.00903022  9.06446e-05  3.85076e-12    0.0128923 -0.000235088     0.974684 -3.65876e-13 -2.52226e-13  8.93988e-14  1.51489e-11   3.2005e-12    0.0229107  2.28325e-05 -1.96495e-13          nan          nan          nan          nan          nan          nan          nan          nan          nan          nan          nan          nan\r\n",
      "   0.0423787  1.81324e-13  5.03008e-11 -4.07683e-13  -6.4017e-13    0.0302057  2.23302e-13 -2.03533e-13 -3.19969e-13  9.06446e-05  -0.00903022  3.68777e-14  0.000235088    0.0128923 -3.65914e-13     0.974684  1.25419e-11 -5.80745e-12  2.56304e-13  8.53243e-14  2.28325e-05   -0.0229107   5.5249e-13          nan          nan          nan          nan          nan          nan          nan          nan          nan          nan          nan          nan\r\n",
      " 1.37037e-12  3.04739e-13   -0.0492318  -0.00196026  2.55059e-13 -2.30869e-12  0.000603166  0.000258818  3.87007e-05  3.63401e-14  1.87612e-12  0.000124954 -4.32909e-14  6.21866e-12 -2.52226e-13  1.25419e-11      1.02179   0.00208699 -0.000350445  0.000350445   1.1565e-12 -8.35218e-12   0.00474293          nan          nan          nan          nan          nan          nan          nan          nan          nan          nan          nan          nan\r\n",
      " 1.26802e-12  3.06698e-13  -0.00196026   -0.0492318  2.09637e-13  1.28284e-13 -0.000258818 -0.000603166  3.87007e-05  8.58101e-14  7.64733e-12  0.000124954 -3.77213e-14 -8.23132e-12  8.93988e-14 -5.80745e-12   0.00208699      1.02179 -0.000350445  0.000350445  1.25408e-12 -2.72742e-12   0.00474293          nan          nan          nan          nan          nan          nan          nan          nan          nan          nan          nan          nan\r\n",
      "-3.63289e-13 -3.88014e-11 -0.000536949  0.000325035 -2.82818e-11  -2.9311e-13   -0.0132926    -0.033979  -0.00472231 -4.78472e-12  1.15117e-14   -0.0152471  1.11225e-11 -3.84215e-14  1.51489e-11  2.56304e-13 -0.000350445 -0.000350445      1.06455   -0.0448458  -1.5063e-10  1.19553e-12 -5.02307e-05          nan          nan          nan          nan          nan          nan          nan          nan          nan          nan          nan          nan\r\n",
      " 3.65248e-13  3.89038e-11 -0.000325035  0.000536949  2.58448e-11  2.47693e-13    -0.033979   -0.0132926   0.00472231  1.05559e-11 -6.10027e-14    0.0152471  3.32742e-12   4.4041e-14   3.2005e-12  8.53243e-14  0.000350445  0.000350445   -0.0448458      1.06455  1.56183e-10 -1.29507e-12  5.02307e-05          nan          nan          nan          nan          nan          nan          nan          nan          nan          nan          nan          nan\r\n",
      "-7.43821e-05   -0.0746366  6.73179e-12  6.74441e-12     0.069959  6.97204e-05  6.27356e-10 -6.46438e-10 -2.65819e-10   -0.0304408 -0.000275222  -1.1874e-10  -0.00918349  0.000158303   -0.0362981 -3.61743e-05 -9.59292e-13 -8.90614e-13  1.15489e-10 -1.11587e-10    -0.195037  1.78937e-12 -5.82777e-12          nan          nan          nan          nan          nan          nan          nan          nan          nan          nan          nan          nan\r\n",
      "   0.0746366 -7.43821e-05  4.46256e-11  2.49676e-11  6.97204e-05    -0.069959 -5.62393e-12  5.61351e-12  2.20441e-12  0.000275222   -0.0304408  9.87394e-13  0.000158303   0.00918349 -3.61743e-05    0.0362981 -1.66617e-12  2.12102e-12 -9.77209e-13  9.10485e-13  1.78925e-12    -0.195037 -4.35631e-10          nan          nan          nan          nan          nan          nan          nan          nan          nan          nan          nan          nan\r\n",
      " 3.96185e-11 -6.34859e-13   -0.0140992   -0.0140992 -7.04604e-13 -1.12475e-11  0.000740813 -0.000740813 -0.000237005 -1.00158e-13 -1.93467e-11 -9.91796e-05  6.97429e-14  6.23458e-12 -1.59722e-13  4.44181e-11   0.00610123   0.00610123  0.000136983 -0.000136983 -7.19631e-12 -4.38764e-10     0.942279          nan          nan          nan          nan          nan          nan          nan          nan          nan          nan          nan          nan\r\n",
      "        -nan         -nan         -nan         -nan         -nan         -nan         -nan         -nan         -nan         -nan         -nan         -nan         -nan         -nan         -nan         -nan         -nan         -nan         -nan         -nan         -nan         -nan         -nan          nan          nan          nan          nan          nan          nan          nan          nan          nan          nan          nan          nan\r\n",
      "        -nan         -nan         -nan         -nan         -nan         -nan         -nan         -nan         -nan         -nan         -nan         -nan         -nan         -nan         -nan         -nan         -nan         -nan         -nan         -nan         -nan         -nan         -nan         -nan         -nan         -nan         -nan         -nan         -nan         -nan         -nan         -nan         -nan         -nan         -nan\r\n",
      "        -nan         -nan         -nan         -nan         -nan         -nan         -nan         -nan         -nan         -nan         -nan         -nan         -nan         -nan         -nan         -nan         -nan         -nan         -nan         -nan         -nan         -nan         -nan         -nan         -nan         -nan         -nan         -nan         -nan         -nan         -nan         -nan         -nan         -nan         -nan\r\n",
      "        -nan         -nan         -nan         -nan         -nan         -nan         -nan         -nan         -nan         -nan         -nan         -nan         -nan         -nan         -nan         -nan         -nan         -nan         -nan         -nan         -nan         -nan         -nan          nan          nan          nan          nan          nan          nan          nan          nan          nan          nan          nan          nan\r\n",
      "        -nan         -nan         -nan         -nan         -nan         -nan         -nan         -nan         -nan         -nan         -nan         -nan         -nan         -nan         -nan         -nan         -nan         -nan         -nan         -nan         -nan         -nan         -nan          nan          nan          nan          nan          nan          nan          nan          nan          nan          nan          nan          nan\r\n",
      "        -nan         -nan         -nan         -nan         -nan         -nan         -nan         -nan         -nan         -nan         -nan         -nan         -nan         -nan         -nan         -nan         -nan         -nan         -nan         -nan         -nan         -nan         -nan         -nan         -nan         -nan         -nan         -nan         -nan         -nan         -nan         -nan         -nan         -nan         -nan\r\n",
      "        -nan         -nan         -nan         -nan         -nan         -nan         -nan         -nan         -nan         -nan         -nan         -nan         -nan         -nan         -nan         -nan         -nan         -nan         -nan         -nan         -nan         -nan         -nan         -nan         -nan         -nan         -nan         -nan         -nan         -nan         -nan         -nan         -nan         -nan         -nan\r\n",
      "        -nan         -nan         -nan         -nan         -nan         -nan         -nan         -nan         -nan         -nan         -nan         -nan         -nan         -nan         -nan         -nan         -nan         -nan         -nan         -nan         -nan         -nan         -nan          nan          nan          nan          nan          nan          nan          nan          nan          nan          nan          nan          nan\r\n",
      "        -nan         -nan         -nan         -nan         -nan         -nan         -nan         -nan         -nan         -nan         -nan         -nan         -nan         -nan         -nan         -nan         -nan         -nan         -nan         -nan         -nan         -nan         -nan          nan          nan          nan          nan          nan          nan          nan          nan          nan          nan          nan          nan\r\n",
      "        -nan         -nan         -nan         -nan         -nan         -nan         -nan         -nan         -nan         -nan         -nan         -nan         -nan         -nan         -nan         -nan         -nan         -nan         -nan         -nan         -nan         -nan         -nan         -nan          nan          nan          nan         -nan          nan          nan          nan         -nan          nan          nan          nan\r\n",
      "        -nan         -nan         -nan         -nan         -nan         -nan         -nan         -nan         -nan         -nan         -nan         -nan         -nan         -nan         -nan         -nan         -nan         -nan         -nan         -nan         -nan         -nan         -nan         -nan          nan          nan          nan         -nan          nan          nan          nan         -nan          nan          nan          nan\r\n",
      "        -nan         -nan         -nan         -nan         -nan         -nan         -nan         -nan         -nan         -nan         -nan         -nan         -nan         -nan         -nan         -nan         -nan         -nan         -nan         -nan         -nan         -nan         -nan         -nan         -nan         -nan         -nan         -nan         -nan         -nan         -nan         -nan         -nan         -nan         -nan\r\n",
      "B\r\n",
      "   0.0906271  1.29222e-13  2.37785e-11  9.46514e-12 -1.40611e-13   -0.0326354  -1.1708e-12  1.17647e-12  5.78129e-13  0.000149226   -0.0148662  2.46771e-13 -0.000877378   -0.0481158  2.07225e-13    0.0477892  8.43554e-13  3.27488e-13 -2.76086e-13  2.85747e-13   2.4392e-05   -0.0244754  2.72413e-11         -nan         -nan         -nan         -nan         -nan         -nan         -nan         -nan         -nan         -nan         -nan         -nan\r\n",
      " 1.29237e-13    0.0906271 -1.20992e-12 -1.20424e-12   -0.0326354 -1.40632e-13 -9.71105e-11  1.11424e-10  5.98658e-11    0.0148662  0.000149226  2.55563e-11   -0.0481158  0.000877378    0.0477892  2.07202e-13  2.32126e-13  2.41787e-13  -2.9341e-11  2.98571e-11    0.0244754   2.4392e-05 -4.65659e-13         -nan         -nan         -nan         -nan         -nan         -nan         -nan         -nan         -nan         -nan         -nan         -nan\r\n",
      " 2.37785e-11 -1.20992e-12    0.0997453  -0.00552697 -9.22491e-13 -1.60556e-11   0.00113727  -0.00113727 -0.000654646 -7.25727e-13 -1.04382e-11 -0.000318097  4.07795e-14  4.99318e-12  2.82236e-13  6.16319e-11   -0.0659059  -0.00225971 -0.000885628 -0.000274941 -1.44676e-12 -7.28387e-12   -0.0408435         -nan         -nan         -nan         -nan         -nan         -nan         -nan         -nan         -nan         -nan         -nan         -nan\r\n",
      " 9.46514e-12 -1.20424e-12  -0.00552697    0.0997453 -9.28826e-13  3.41099e-13   0.00113727  -0.00113727 -0.000654646 -8.22134e-13 -4.62677e-13 -0.000318097 -3.58503e-15  2.50871e-12  3.06603e-13 -1.10201e-12  -0.00225971   -0.0659059  0.000274941  0.000885628  -1.4581e-12  1.41041e-11   -0.0408435         -nan         -nan         -nan         -nan         -nan         -nan         -nan         -nan         -nan         -nan         -nan         -nan\r\n",
      "-1.40604e-13   -0.0326354 -9.22491e-13 -9.28826e-13     0.236919  1.57522e-14 -1.07954e-10  9.15577e-11  7.17804e-11   -0.0143883 -0.000144428  3.85662e-11  -0.00947245  0.000172728    0.0425853 -8.78338e-13  2.61833e-13  2.05685e-13 -2.85463e-11  2.55344e-11   0.00365057  3.63812e-06  4.08722e-14         -nan         -nan         -nan         -nan         -nan         -nan         -nan         -nan         -nan         -nan         -nan         -nan\r\n",
      "  -0.0326354 -1.40625e-13 -1.60556e-11  3.41099e-13  1.57307e-14     0.236919  -8.8769e-13  8.81387e-13  6.93095e-13 -0.000144428    0.0143883  3.72507e-13 -0.000172728  -0.00947245 -8.78385e-13    0.0425853 -2.76097e-12  2.50898e-13 -2.99628e-13  2.43486e-13  3.63812e-06  -0.00365057 -3.19232e-12         -nan         -nan         -nan         -nan         -nan         -nan         -nan         -nan         -nan         -nan         -nan         -nan\r\n",
      " -1.1708e-12 -9.71105e-11   0.00113727   0.00113727 -1.07954e-10  -8.8769e-13     0.213032    -0.107759   -0.0652173 -7.23375e-11  7.38483e-14   -0.0316895  -1.1469e-13 -4.80499e-14   8.9784e-11  2.73265e-13  0.000943653 -0.000216916   -0.0344127   -0.0292334 -1.37218e-10  1.24883e-12  0.000425053         -nan         -nan         -nan         -nan         -nan         -nan         -nan         -nan         -nan         -nan         -nan         -nan\r\n",
      " 1.17647e-12  1.11424e-10  -0.00113727  -0.00113727  9.15577e-11  8.81387e-13    -0.107759     0.213032    0.0652173  8.23131e-11  2.25099e-14    0.0316895  2.59909e-12  3.76846e-15 -2.70501e-11 -2.48799e-13  0.000216916 -0.000943653   -0.0292334   -0.0344127  1.58413e-10 -1.23406e-12 -0.000425053         -nan         -nan         -nan         -nan         -nan         -nan         -nan         -nan         -nan         -nan         -nan         -nan\r\n",
      " 5.78129e-13  5.98658e-11 -0.000654646 -0.000654646  7.17804e-11  6.93095e-13   -0.0652173    0.0652173     0.424482  6.67825e-11  2.54808e-14   -0.0113321 -1.12919e-11   9.6918e-14 -4.48454e-11 -4.33498e-13  4.92954e-06  4.92954e-06 -0.000601509  0.000601509  8.46629e-11 -7.10667e-13  4.27355e-05         -nan         -nan         -nan         -nan         -nan         -nan         -nan         -nan         -nan         -nan         -nan         -nan\r\n",
      " 0.000149226    0.0148662 -7.25727e-13 -8.22134e-13   -0.0143883 -0.000144428 -7.23375e-11  8.23131e-11  6.67825e-11     0.448028 -6.54918e-15  5.53486e-12 -0.000495525  4.06097e-06    0.0107665  0.000108073  -2.0947e-14   6.6516e-14  1.93768e-12  8.26624e-12    0.0177608  -0.00016058 -3.72929e-14         -nan         -nan         -nan         -nan         -nan         -nan         -nan         -nan         -nan         -nan         -nan         -nan\r\n",
      "  -0.0148662  0.000149226 -1.04382e-11 -4.62677e-13 -0.000144428    0.0143883  7.38482e-14  2.25099e-14  2.54808e-14 -6.61165e-15     0.448028  1.84541e-15  4.06097e-06  0.000495525  0.000108073   -0.0107665  3.28152e-12  1.34854e-11  2.39635e-14 -1.11458e-13   0.00016058    0.0177608 -1.47268e-11         -nan         -nan         -nan         -nan         -nan         -nan         -nan         -nan         -nan         -nan         -nan         -nan\r\n",
      " 2.46771e-13  2.55563e-11 -0.000318097 -0.000318097  3.85662e-11  3.72507e-13   -0.0316895    0.0316895   -0.0113321  5.53486e-12  1.84543e-15     0.627711  1.66129e-11 -1.42626e-13  8.80301e-12  8.45605e-14  0.000179132  0.000179132   -0.0218579    0.0218579  1.37209e-11 -1.05918e-13  2.57275e-05         -nan         -nan         -nan         -nan         -nan         -nan         -nan         -nan         -nan         -nan         -nan         -nan\r\n",
      "-0.000877378   -0.0481158  4.07795e-14 -3.58503e-15  -0.00947245 -0.000172728  -1.1469e-13  2.59909e-12 -1.12919e-11 -0.000495525  4.06097e-06  1.66129e-11     0.913264  9.84562e-14    0.0216029  0.000393922 -1.16414e-13 -1.05177e-13  2.62661e-11   2.8856e-12    0.0227501 -0.000392163 -1.78725e-13         -nan         -nan         -nan         -nan         -nan         -nan         -nan         -nan         -nan         -nan         -nan         -nan\r\n",
      "  -0.0481158  0.000877378  4.99318e-12  2.50871e-12  0.000172728  -0.00947245 -4.80499e-14  3.76846e-15   9.6918e-14  4.06097e-06  0.000495525 -1.42626e-13  9.85344e-14     0.913264 -0.000393922    0.0216029  1.28131e-11 -1.63386e-11  -1.0822e-13  1.19553e-13 -0.000392163   -0.0227501 -4.45577e-12         -nan         -nan         -nan         -nan         -nan         -nan         -nan         -nan         -nan         -nan         -nan         -nan\r\n",
      " 2.07227e-13    0.0477892  2.82236e-13  3.06603e-13    0.0425853 -8.78413e-13   8.9784e-11 -2.70501e-11 -4.48454e-11    0.0107665  0.000108073  8.80301e-12    0.0216029 -0.000393922     0.954146 -6.95244e-13 -4.27129e-13  1.89307e-13  2.56677e-11  7.44333e-12  -0.00328346 -3.27227e-06 -5.06678e-13         -nan         -nan         -nan         -nan         -nan         -nan         -nan         -nan         -nan         -nan         -nan         -nan\r\n",
      "   0.0477892  2.07212e-13  6.16319e-11 -1.10201e-12  -8.7837e-13    0.0425853  2.73265e-13 -2.48799e-13 -4.33498e-13  0.000108073   -0.0107665  8.45605e-14  0.000393922    0.0216029 -6.95318e-13     0.954146   2.1148e-11 -1.19631e-11  4.34173e-13  1.82268e-13 -3.27227e-06   0.00328346   5.0445e-11         -nan         -nan         -nan         -nan         -nan         -nan         -nan         -nan         -nan         -nan         -nan         -nan\r\n",
      " 8.43554e-13  2.32126e-13   -0.0659059  -0.00225971  2.61833e-13 -2.76097e-12  0.000943653  0.000216916  4.92954e-06  -2.0947e-14  3.28152e-12  0.000179132 -1.16414e-13  1.28131e-11 -4.27129e-13   2.1148e-11      1.04646    0.0044052 -0.000650645  0.000650645  2.59603e-13 -1.69262e-11    0.0159306         -nan         -nan         -nan         -nan         -nan         -nan         -nan         -nan         -nan         -nan         -nan         -nan\r\n",
      " 3.27488e-13  2.41787e-13  -0.00225971   -0.0659059  2.05685e-13  2.50898e-13 -0.000216916 -0.000943653  4.92954e-06   6.6516e-14  1.34854e-11  0.000179132 -1.05177e-13 -1.63386e-11  1.89307e-13 -1.19631e-11    0.0044052      1.04646 -0.000650645  0.000650645   5.0487e-13 -2.99898e-12    0.0159306         -nan         -nan         -nan         -nan         -nan         -nan         -nan         -nan         -nan         -nan         -nan         -nan\r\n",
      "-2.76086e-13  -2.9341e-11 -0.000885628  0.000274941 -2.85463e-11 -2.99628e-13   -0.0344127   -0.0292334 -0.000601509  1.93768e-12  2.39635e-14   -0.0218579  2.62661e-11  -1.0822e-13  2.56677e-11  4.34173e-13 -0.000650645 -0.000650645      1.12585   -0.0837923 -5.05623e-11  2.77545e-13   8.8991e-05         -nan         -nan         -nan         -nan         -nan         -nan         -nan         -nan         -nan         -nan         -nan         -nan\r\n",
      " 2.85747e-13  2.98571e-11 -0.000274941  0.000885628  2.55344e-11  2.43486e-13   -0.0292334   -0.0344127  0.000601509  8.26624e-12 -1.11458e-13    0.0218579   2.8856e-12  1.19553e-13  7.44333e-12  1.82268e-13  0.000650645  0.000650645   -0.0837923      1.12585  6.45028e-11 -5.23573e-13  -8.8991e-05         -nan         -nan         -nan         -nan         -nan         -nan         -nan         -nan         -nan         -nan         -nan         -nan\r\n",
      " 5.58865e-05    0.0560777 -6.02563e-12 -6.04189e-12   0.00265972  2.65065e-06 -5.82893e-10  6.10997e-10  9.00972e-11    0.0109725   9.9205e-05  1.84675e-11    0.0178408 -0.000307536     -0.01806 -1.79984e-05 -4.24043e-13 -5.07917e-14  3.11133e-11 -9.89791e-12     0.585022  2.00618e-12 -4.49191e-12         -nan         -nan         -nan         -nan         -nan         -nan         -nan         -nan         -nan         -nan         -nan         -nan\r\n",
      "  -0.0560777  5.58865e-05 -1.90852e-11  9.12514e-12  2.65065e-06  -0.00265972  5.22369e-12 -5.20562e-12 -7.99082e-13  -9.9205e-05    0.0109725 -1.71076e-13 -0.000307536   -0.0178408 -1.79984e-05      0.01806 -1.87643e-11  2.33687e-12 -4.14983e-13  4.24856e-14  2.00604e-12     0.585022 -4.37607e-10         -nan         -nan         -nan         -nan         -nan         -nan         -nan         -nan         -nan         -nan         -nan         -nan\r\n",
      " 1.04324e-11 -3.86115e-13   -0.0412942   -0.0412942  6.10607e-14 -1.34011e-11  0.000428832 -0.000428832 -5.56613e-05 -1.39274e-13 -1.73761e-12 -3.18984e-05 -1.27361e-13 -4.62882e-12 -3.29523e-13  4.93388e-11    0.0168387    0.0168387  0.000172996 -0.000172996 -6.05801e-12 -4.32165e-10      1.94804         -nan         -nan         -nan         -nan         -nan         -nan         -nan         -nan         -nan         -nan         -nan         -nan\r\n",
      "        -nan         -nan         -nan         -nan         -nan         -nan         -nan         -nan         -nan         -nan         -nan         -nan         -nan         -nan         -nan         -nan         -nan         -nan         -nan         -nan         -nan         -nan         -nan         -nan         -nan         -nan         -nan         -nan         -nan         -nan         -nan         -nan         -nan         -nan         -nan\r\n",
      "        -nan         -nan         -nan         -nan         -nan         -nan         -nan         -nan         -nan         -nan         -nan         -nan         -nan         -nan         -nan         -nan         -nan         -nan         -nan         -nan         -nan         -nan         -nan         -nan         -nan         -nan         -nan         -nan         -nan         -nan         -nan         -nan         -nan         -nan         -nan\r\n",
      "        -nan         -nan         -nan         -nan         -nan         -nan         -nan         -nan         -nan         -nan         -nan         -nan         -nan         -nan         -nan         -nan         -nan         -nan         -nan         -nan         -nan         -nan         -nan         -nan         -nan         -nan         -nan         -nan         -nan         -nan         -nan         -nan         -nan         -nan         -nan\r\n",
      "        -nan         -nan         -nan         -nan         -nan         -nan         -nan         -nan         -nan         -nan         -nan         -nan         -nan         -nan         -nan         -nan         -nan         -nan         -nan         -nan         -nan         -nan         -nan         -nan         -nan         -nan         -nan         -nan         -nan         -nan         -nan         -nan         -nan         -nan         -nan\r\n",
      "        -nan         -nan         -nan         -nan         -nan         -nan         -nan         -nan         -nan         -nan         -nan         -nan         -nan         -nan         -nan         -nan         -nan         -nan         -nan         -nan         -nan         -nan         -nan         -nan         -nan         -nan         -nan         -nan         -nan         -nan         -nan         -nan         -nan         -nan         -nan\r\n",
      "        -nan         -nan         -nan         -nan         -nan         -nan         -nan         -nan         -nan         -nan         -nan         -nan         -nan         -nan         -nan         -nan         -nan         -nan         -nan         -nan         -nan         -nan         -nan         -nan         -nan         -nan         -nan         -nan         -nan         -nan         -nan         -nan         -nan         -nan         -nan\r\n",
      "        -nan         -nan         -nan         -nan         -nan         -nan         -nan         -nan         -nan         -nan         -nan         -nan         -nan         -nan         -nan         -nan         -nan         -nan         -nan         -nan         -nan         -nan         -nan         -nan         -nan         -nan         -nan         -nan         -nan         -nan         -nan         -nan         -nan         -nan         -nan\r\n",
      "        -nan         -nan         -nan         -nan         -nan         -nan         -nan         -nan         -nan         -nan         -nan         -nan         -nan         -nan         -nan         -nan         -nan         -nan         -nan         -nan         -nan         -nan         -nan         -nan         -nan         -nan         -nan         -nan         -nan         -nan         -nan         -nan         -nan         -nan         -nan\r\n",
      "        -nan         -nan         -nan         -nan         -nan         -nan         -nan         -nan         -nan         -nan         -nan         -nan         -nan         -nan         -nan         -nan         -nan         -nan         -nan         -nan         -nan         -nan         -nan         -nan         -nan         -nan         -nan         -nan         -nan         -nan         -nan         -nan         -nan         -nan         -nan\r\n",
      "        -nan         -nan         -nan         -nan         -nan         -nan         -nan         -nan         -nan         -nan         -nan         -nan         -nan         -nan         -nan         -nan         -nan         -nan         -nan         -nan         -nan         -nan         -nan         -nan         -nan         -nan         -nan         -nan         -nan         -nan         -nan         -nan         -nan         -nan         -nan\r\n",
      "        -nan         -nan         -nan         -nan         -nan         -nan         -nan         -nan         -nan         -nan         -nan         -nan         -nan         -nan         -nan         -nan         -nan         -nan         -nan         -nan         -nan         -nan         -nan         -nan         -nan         -nan         -nan         -nan         -nan         -nan         -nan         -nan         -nan         -nan         -nan\r\n",
      "        -nan         -nan         -nan         -nan         -nan         -nan         -nan         -nan         -nan         -nan         -nan         -nan         -nan         -nan         -nan         -nan         -nan         -nan         -nan         -nan         -nan         -nan         -nan          nan          nan          nan          nan          nan          nan          nan          nan          nan          nan          nan          nan\r\n",
      "an error occurred:\r\n",
      "Small generalized eigenvalue problem failed.\r\n"
     ]
    }
   ],
   "source": [
    "!xtp_tools -c job_name=CO geometry_optimization.maxiter=1 dftpackage.basisset=3-21G dftpackage.auxbasisset=aux-def2-svp gwbse.gw.mode=G0W0 -e dftgwbse -t 4"
   ]
  },
  {
   "cell_type": "markdown",
   "metadata": {},
   "source": [
    "Notice that we are using 4 threads. The results will be stored in a file named `CO_summary.xml` in the current work directory, together with the optimization step in `optimisation.trj` and the orbitals in [hdf5 format](https://www.hdfgroup.org/solutions/hdf5/) saved on `CO.orb`."
   ]
  }
 ],
 "metadata": {
  "kernelspec": {
   "display_name": "Python 3",
   "language": "python",
   "name": "python3"
  },
  "language_info": {
   "codemirror_mode": {
    "name": "ipython",
    "version": 3
   },
   "file_extension": ".py",
   "mimetype": "text/x-python",
   "name": "python",
   "nbconvert_exporter": "python",
   "pygments_lexer": "ipython3",
   "version": "3.10.0"
  }
 },
 "nbformat": 4,
 "nbformat_minor": 4
}
