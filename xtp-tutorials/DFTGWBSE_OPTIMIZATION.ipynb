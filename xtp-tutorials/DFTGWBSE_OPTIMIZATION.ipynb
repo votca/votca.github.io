{
 "cells": [
  {
   "cell_type": "markdown",
   "metadata": {},
   "source": [
    "## DFT + GWBSE Optimization Using CO"
   ]
  },
  {
   "cell_type": "markdown",
   "metadata": {},
   "source": [
    "## Introduction\n",
    "This tutorial explains how to perform a molecular geometric optimization using the **GWBSE** method. See [the GW Compendium: A Practical Guide to Theoretical Photoemission Spectroscopy](https://doi.org/10.3389/fchem.2019.00377), for an excellent introduction to the method."
   ]
  },
  {
   "cell_type": "markdown",
   "metadata": {},
   "source": [
    "## Requirements\n",
    "* You will need to install **VOTCA** using the instructions described [here](https://github.com/votca/votca/blob/master/share/doc/INSTALL.rst)\n",
    "* Once the installation is completed you need to activate the VOTCA enviroment by running the `VOTCARC.bash` script that has been installed at the bin subfolder for the path that you have provided for the installation step above"
   ]
  },
  {
   "cell_type": "markdown",
   "metadata": {},
   "source": [
    "## Preparing the input\n",
    "To run a DFT-GWBSE calculation we will use the [xtp_tools](https://www.votca.org/xtp/xtp_tools_overview.html) calculator."
   ]
  },
  {
   "cell_type": "markdown",
   "metadata": {},
   "source": [
    "we can now change the calculator mode from single point energy calculation to optimization as follows by adding \n",
    "`-c geometry_optimization.maxiter=1` which enables optimization with one iteration. "
   ]
  },
  {
   "cell_type": "markdown",
   "metadata": {},
   "source": [
    "Because geometry optimsation is quite expensive numerically we chose a smaller basisset and G0W0 Finally, to run the calculation we just need the following command (This still takes a while)"
   ]
  },
  {
   "cell_type": "code",
   "execution_count": 1,
   "metadata": {
    "execution": {
     "iopub.execute_input": "2021-07-29T20:40:50.136637Z",
     "iopub.status.busy": "2021-07-29T20:40:50.136209Z",
     "iopub.status.idle": "2021-07-29T20:41:08.118246Z",
     "shell.execute_reply": "2021-07-29T20:41:08.118757Z"
    }
   },
   "outputs": [
    {
     "name": "stdout",
     "output_type": "stream",
     "text": [
      "==================================================\r\n",
      "========   VOTCA (http://www.votca.org)   ========\r\n",
      "==================================================\r\n",
      "\r\n",
      "please submit bugs to https://github.com/votca/xtp/issues\r\n",
      "\r\n",
      "xtp_tools, version 2022-dev gitid: 30b8f73 (compiled Jul 29 2021, 20:32:58)\r\n",
      "votca_csg, version 2022-dev gitid: 30b8f73 (compiled Jul 29 2021, 20:18:36)\r\n",
      "votca_tools, version 2022-dev gitid: 30b8f73 (compiled Jul 29 2021, 20:17:21)\r\n",
      "\r\n",
      "Initializing tool\r\n",
      "... dftgwbse Evaluating tool\r\n",
      "... dftgwbse  Using 4 threads\r\n",
      "... ... Reading structure from CO.xyz\r\n",
      "... ... Requested geometry optimization of excited state s1\r\n",
      "... ... Initial state: s1\r\n",
      "... ... WARNING: No tracker is used \r\n",
      "... ... Convergence of total energy: 0.000001 Hartree \r\n",
      "... ... Convergence of RMS Force:    0.000030 Hartree/Bohr \r\n",
      "... ... Convergence of Max Force:    0.000100 Hartree/Bohr \r\n",
      "... ... Convergence of RMS Step:     0.000600 Bohr \r\n",
      "... ... Convergence of Max Step:     0.001000 Bohr \r\n",
      "... ... Initial trust radius:        0.018897 BohrA\r\n",
      "    0.307132 -3.06491e-11  1.79822e-10  5.20061e-10  2.32449e-11   -0.0516061  1.11682e-09 -1.03706e-09  3.87675e-10    0.0181647   0.00104177  1.10471e-10   -0.0104014    0.0375619   -2.005e-11    0.0421019 -2.08542e-10  9.11401e-11  3.57784e-10  1.58948e-10 -0.000478652     0.108408  -1.8291e-10          nan          nan          nan          nan          nan          nan          nan          nan          nan          nan          nan          nan\r\n",
      "-3.06491e-11     0.307132  3.89106e-10  3.09345e-10   -0.0516061   2.3245e-11 -2.45185e-09  2.79209e-09 -8.22085e-10   0.00104177   -0.0181647 -3.85164e-10   -0.0375619   -0.0104014    0.0421019   -2.005e-11  1.92109e-10  6.72682e-12 -5.01638e-10  -6.1904e-10     0.108408  0.000478652 -1.68375e-11          nan          nan          nan          nan          nan          nan          nan          nan          nan          nan          nan          nan\r\n",
      " 1.79822e-10  3.89106e-10     0.320605  -0.00928957 -1.39931e-11 -3.03717e-11   -0.0131756    0.0131756   -0.0049132  1.46113e-10 -1.02564e-10  -0.00209318  -1.1936e-11 -2.07255e-10  1.19222e-10 -7.51734e-12   -0.0470529    0.0012944  -0.00255695   -0.0152281   9.8868e-10 -3.14069e-10   -0.0254859          nan          nan          nan          nan          nan          nan          nan          nan          nan          nan          nan          nan\r\n",
      " 5.20061e-10  3.09345e-10  -0.00928957     0.320605 -2.23432e-11 -4.35097e-10   -0.0131756    0.0131756   -0.0049132  1.66387e-10 -1.48472e-10  -0.00209318  8.09661e-12 -1.82354e-10  1.27791e-11  4.05414e-10   -0.0012944    0.0470529   -0.0152281  -0.00255695  9.64722e-10  2.06089e-10   -0.0254859          nan          nan          nan          nan          nan          nan          nan          nan          nan          nan          nan          nan\r\n",
      " 2.32449e-11   -0.0516061 -1.39931e-11 -2.23432e-11     0.490902  -2.8414e-12 -1.49002e-09  1.08529e-09 -6.28854e-10 -0.000770858     0.013441 -1.85913e-10  -0.00770394  -0.00213333    0.0309987  6.62047e-11  4.61709e-11 -3.03305e-10 -2.07894e-10 -6.15068e-11   -0.0531267  -0.00023457  -2.0951e-10          nan          nan          nan          nan          nan          nan          nan          nan          nan          nan          nan          nan\r\n",
      "  -0.0516061  2.32449e-11 -3.03717e-11 -4.35097e-10 -2.84142e-12     0.490902 -9.28744e-11  1.01225e-10 -6.25342e-11    -0.013441 -0.000770858  5.24514e-12  -0.00213333   0.00770394  6.62047e-11    0.0309987  1.53623e-10 -7.23577e-12 -8.26979e-11  1.74436e-10   0.00023457   -0.0531267 -4.45801e-11          nan          nan          nan          nan          nan          nan          nan          nan          nan          nan          nan          nan\r\n",
      " 1.11682e-09 -2.45185e-09   -0.0131756   -0.0131756 -1.49002e-09 -9.28744e-11     0.549585     -0.21969    0.0856687  1.43414e-11  7.24899e-10    0.0364975  8.31915e-10  2.62355e-09  6.31702e-10  2.54395e-10   -0.0113538  -0.00131738   -0.0126967    0.0330617 -1.34034e-08   8.2703e-09    0.0015463          nan          nan          nan          nan          nan          nan          nan          nan          nan          nan          nan          nan\r\n",
      "-1.03706e-09  2.79209e-09    0.0131756    0.0131756  1.08529e-09  1.01225e-10     -0.21969     0.549585   -0.0856687 -6.02494e-11 -7.45174e-10   -0.0364975 -8.56816e-10 -2.60352e-09 -2.18771e-10 -1.47953e-10  -0.00131738   -0.0113538   -0.0330617    0.0126967  1.39171e-08  -8.2428e-09   -0.0015463          nan          nan          nan          nan          nan          nan          nan          nan          nan          nan          nan          nan\r\n",
      " 3.87675e-10 -8.22085e-10   -0.0049132   -0.0049132 -6.28854e-10 -6.25342e-11    0.0856687   -0.0856687     0.662947  1.80028e-10  5.81847e-10  -0.00632525  2.92644e-10  7.01987e-10  3.36773e-10  9.71525e-11  -0.00131675   0.00131675   0.00387669   0.00387669 -4.33968e-09  3.05363e-09   0.00112631          nan          nan          nan          nan          nan          nan          nan          nan          nan          nan          nan          nan\r\n",
      "   0.0181647   0.00104177  1.46113e-10  1.66387e-10 -0.000770858    -0.013441  1.43414e-11 -6.02494e-11  1.80028e-10     0.680922 -1.60184e-12 -8.83669e-11 -2.70759e-05   7.9715e-05  0.000494525   0.00862275 -3.86456e-10 -2.24815e-13 -8.09523e-11 -8.90774e-10   0.00216824    0.0409702  6.68854e-10          nan          nan          nan          nan          nan          nan          nan          nan          nan          nan          nan          nan\r\n",
      "  0.00104177   -0.0181647 -1.02564e-10 -1.48472e-10     0.013441 -0.000770858  7.24899e-10 -7.45174e-10  5.81847e-10 -1.60207e-12     0.680922 -6.20477e-11   7.9715e-05  2.70759e-05  -0.00862275  0.000494525  4.18868e-12  -8.1401e-10 -3.77279e-10  9.40178e-12   -0.0409702   0.00216824 -8.09474e-10          nan          nan          nan          nan          nan          nan          nan          nan          nan          nan          nan          nan\r\n",
      " 1.10471e-10 -3.85164e-10  -0.00209318  -0.00209318 -1.85913e-10  5.24514e-12    0.0364975   -0.0364975  -0.00632525 -8.83669e-11 -6.20477e-11      0.79826 -1.22353e-11  3.26474e-10 -1.10194e-10  5.77022e-11  -0.00465527   0.00465527    0.0137057    0.0137057 -1.73224e-09  9.75778e-10  0.000446511          nan          nan          nan          nan          nan          nan          nan          nan          nan          nan          nan          nan\r\n",
      "  -0.0104014   -0.0375619  -1.1936e-11  8.09661e-12  -0.00770394  -0.00213333  8.31915e-10 -8.56816e-10  2.92644e-10 -2.70759e-05   7.9715e-05 -1.22353e-11     0.956418 -4.29192e-11    0.0126656   0.00350727 -1.23819e-10  2.37457e-10  6.53119e-10  4.30751e-10    0.0192727   0.00542862 -6.80176e-12          nan          nan          nan          nan          nan          nan          nan          nan          nan          nan          nan          nan\r\n",
      "   0.0375619   -0.0104014 -2.07255e-10 -1.82354e-10  -0.00213333   0.00770394  2.62355e-09 -2.60352e-09  7.01987e-10   7.9715e-05  2.70759e-05  3.26474e-10 -4.29192e-11     0.956418   0.00350727   -0.0126656 -4.24793e-10   6.4716e-10   1.4916e-09  1.60524e-09   0.00542862   -0.0192727  8.92974e-11          nan          nan          nan          nan          nan          nan          nan          nan          nan          nan          nan          nan\r\n",
      "  -2.005e-11    0.0421019  1.19222e-10  1.27791e-11    0.0309987  6.62047e-11  6.31702e-10 -2.18771e-10  3.36773e-10  0.000494525  -0.00862275 -1.10194e-10    0.0126656   0.00350727     0.988566  3.74363e-11  2.92378e-11 -1.10933e-10  3.59246e-11 -6.16735e-11    0.0223628  9.87384e-05 -3.29956e-10          nan          nan          nan          nan          nan          nan          nan          nan          nan          nan          nan          nan\r\n",
      "   0.0421019   -2.005e-11 -7.51734e-12  4.05414e-10  6.62047e-11    0.0309987  2.54395e-10 -1.47953e-10  9.71525e-11   0.00862275  0.000494525  5.77022e-11   0.00350727   -0.0126656  3.74363e-11     0.988566 -7.14619e-12 -9.04519e-11  6.75863e-11  1.49281e-10 -9.87385e-05    0.0223628 -1.73211e-10          nan          nan          nan          nan          nan          nan          nan          nan          nan          nan          nan          nan\r\n",
      "-2.08542e-10  1.92109e-10   -0.0470529   -0.0012944  4.61709e-11  1.53623e-10   -0.0113538  -0.00131738  -0.00131675 -3.86456e-10  4.18868e-12  -0.00465527 -1.23819e-10 -4.24793e-10  2.92378e-11 -7.14619e-12      1.03321  -0.00656697   -0.0132455   -0.0132455  8.26145e-10 -5.53777e-10   0.00427524          nan          nan          nan          nan          nan          nan          nan          nan          nan          nan          nan          nan\r\n",
      " 9.11401e-11  6.72682e-12    0.0012944    0.0470529 -3.03305e-10 -7.23577e-12  -0.00131738   -0.0113538   0.00131675 -2.24815e-13  -8.1401e-10   0.00465527  2.37457e-10   6.4716e-10 -1.10933e-10 -9.04519e-11  -0.00656697      1.03321    0.0132455    0.0132455 -7.79401e-10  4.51905e-10  -0.00427524          nan          nan          nan          nan          nan          nan          nan          nan          nan          nan          nan          nan\r\n",
      " 3.57784e-10 -5.01638e-10  -0.00255695   -0.0152281 -2.07894e-10 -8.26979e-11   -0.0126967   -0.0330617   0.00387669 -8.09523e-11 -3.77279e-10    0.0137057  6.53119e-10   1.4916e-09  3.59246e-11  6.75863e-11   -0.0132455    0.0132455       1.0677    0.0410646 -2.36678e-09  1.58709e-09   0.00204324          nan          nan          nan          nan          nan          nan          nan          nan          nan          nan          nan          nan\r\n",
      " 1.58948e-10  -6.1904e-10   -0.0152281  -0.00255695 -6.15068e-11  1.74436e-10    0.0330617    0.0126967   0.00387669 -8.90774e-10  9.40178e-12    0.0137057  4.30751e-10  1.60524e-09 -6.16735e-11  1.49281e-10   -0.0132455    0.0132455    0.0410646       1.0677 -2.46776e-09   1.5398e-09   0.00204324          nan          nan          nan          nan          nan          nan          nan          nan          nan          nan          nan          nan\r\n",
      " 0.000332236   -0.0752466 -6.87487e-10 -7.32403e-10    0.0690159 -0.000304726   8.0578e-09  -8.3354e-09  3.16324e-09  -0.00163592    0.0309116  1.54302e-09  -0.00866613  -0.00244102   -0.0364086  0.000160755 -5.58927e-10  5.58362e-10  1.77518e-09  1.77869e-09    -0.194424  2.21869e-10  4.21854e-09          nan          nan          nan          nan          nan          nan          nan          nan          nan          nan          nan          nan\r\n",
      "  -0.0752465 -0.000332235 -1.04912e-12 -2.85371e-10  0.000304725    0.0690159 -5.49089e-09  5.53345e-09 -2.38417e-09   -0.0309116  -0.00163592 -8.87152e-10  -0.00244102   0.00866613 -0.000160754   -0.0364086  4.81831e-10 -4.77587e-10 -1.28084e-09 -1.27939e-09   2.2187e-10    -0.194424  5.54354e-09          nan          nan          nan          nan          nan          nan          nan          nan          nan          nan          nan          nan\r\n",
      " 5.99119e-10  5.29797e-10   -0.0141893   -0.0141893 -3.68898e-10 -5.51687e-10    -0.004325     0.004325  -0.00131244  1.02975e-09 -1.08961e-09 -0.000526218  8.36084e-11 -8.17534e-11  4.06979e-11  2.51659e-10    0.0059754   -0.0059754   0.00150724   0.00150724  4.42893e-09  5.45743e-09     0.958309          nan          nan          nan          nan          nan          nan          nan          nan          nan          nan          nan          nan\r\n",
      "        -nan         -nan         -nan         -nan         -nan         -nan         -nan         -nan         -nan         -nan         -nan         -nan         -nan         -nan         -nan         -nan         -nan         -nan         -nan         -nan         -nan         -nan         -nan          nan          nan          nan          nan          nan          nan          nan          nan          nan          nan          nan          nan\r\n",
      "        -nan         -nan         -nan         -nan         -nan         -nan         -nan         -nan         -nan         -nan         -nan         -nan         -nan         -nan         -nan         -nan         -nan         -nan         -nan         -nan         -nan         -nan         -nan         -nan         -nan         -nan         -nan         -nan         -nan         -nan         -nan         -nan         -nan         -nan         -nan\r\n",
      "        -nan         -nan         -nan         -nan         -nan         -nan         -nan         -nan         -nan         -nan         -nan         -nan         -nan         -nan         -nan         -nan         -nan         -nan         -nan         -nan         -nan         -nan         -nan         -nan         -nan         -nan         -nan         -nan         -nan         -nan         -nan         -nan         -nan         -nan         -nan\r\n",
      "        -nan         -nan         -nan         -nan         -nan         -nan         -nan         -nan         -nan         -nan         -nan         -nan         -nan         -nan         -nan         -nan         -nan         -nan         -nan         -nan         -nan         -nan         -nan          nan          nan          nan          nan          nan          nan          nan          nan          nan          nan          nan          nan\r\n",
      "        -nan         -nan         -nan         -nan         -nan         -nan         -nan         -nan         -nan         -nan         -nan         -nan         -nan         -nan         -nan         -nan         -nan         -nan         -nan         -nan         -nan         -nan         -nan          nan          nan          nan          nan          nan          nan          nan          nan          nan          nan          nan          nan\r\n",
      "        -nan         -nan         -nan         -nan         -nan         -nan         -nan         -nan         -nan         -nan         -nan         -nan         -nan         -nan         -nan         -nan         -nan         -nan         -nan         -nan         -nan         -nan         -nan         -nan         -nan         -nan         -nan         -nan         -nan         -nan         -nan         -nan         -nan         -nan         -nan\r\n",
      "        -nan         -nan         -nan         -nan         -nan         -nan         -nan         -nan         -nan         -nan         -nan         -nan         -nan         -nan         -nan         -nan         -nan         -nan         -nan         -nan         -nan         -nan         -nan         -nan         -nan         -nan         -nan         -nan         -nan         -nan         -nan         -nan         -nan         -nan         -nan\r\n",
      "        -nan         -nan         -nan         -nan         -nan         -nan         -nan         -nan         -nan         -nan         -nan         -nan         -nan         -nan         -nan         -nan         -nan         -nan         -nan         -nan         -nan         -nan         -nan          nan          nan          nan          nan          nan          nan          nan          nan          nan          nan          nan          nan\r\n",
      "        -nan         -nan         -nan         -nan         -nan         -nan         -nan         -nan         -nan         -nan         -nan         -nan         -nan         -nan         -nan         -nan         -nan         -nan         -nan         -nan         -nan         -nan         -nan          nan          nan          nan          nan          nan          nan          nan          nan          nan          nan          nan          nan\r\n",
      "        -nan         -nan         -nan         -nan         -nan         -nan         -nan         -nan         -nan         -nan         -nan         -nan         -nan         -nan         -nan         -nan         -nan         -nan         -nan         -nan         -nan         -nan         -nan         -nan          nan          nan          nan         -nan          nan          nan          nan         -nan          nan          nan          nan\r\n",
      "        -nan         -nan         -nan         -nan         -nan         -nan         -nan         -nan         -nan         -nan         -nan         -nan         -nan         -nan         -nan         -nan         -nan         -nan         -nan         -nan         -nan         -nan         -nan         -nan          nan          nan          nan         -nan          nan          nan          nan         -nan          nan          nan          nan\r\n",
      "        -nan         -nan         -nan         -nan         -nan         -nan         -nan         -nan         -nan         -nan         -nan         -nan         -nan         -nan         -nan         -nan         -nan         -nan         -nan         -nan         -nan         -nan         -nan         -nan         -nan         -nan         -nan         -nan         -nan         -nan         -nan         -nan         -nan         -nan         -nan\r\n",
      "B\r\n",
      "    0.093811 -1.36223e-11    9.615e-11  3.20849e-10  1.42954e-11   -0.0328898  4.68323e-10 -4.11352e-10  2.38555e-10    0.0155317  0.000890759  6.35516e-11   -0.0128975    0.0465759 -2.32948e-11    0.0481429 -2.59295e-10  1.01675e-10   3.5952e-10   8.3982e-11 -0.000110858    0.0251078  4.90477e-10         -nan         -nan         -nan         -nan         -nan         -nan         -nan         -nan         -nan         -nan         -nan         -nan\r\n",
      "-1.36223e-11     0.093811  2.01267e-10  1.44296e-10   -0.0328898  1.42954e-11 -9.67714e-10  1.19241e-09 -5.07303e-10  0.000890759   -0.0155317 -2.54839e-10   -0.0465759   -0.0128975    0.0481429 -2.32948e-11  1.64907e-10  1.10631e-10 -4.29861e-10  -5.8748e-10    0.0251078  0.000110858  5.38542e-10         -nan         -nan         -nan         -nan         -nan         -nan         -nan         -nan         -nan         -nan         -nan         -nan\r\n",
      "   9.615e-11  2.01267e-10     0.105871  -0.00531138 -1.86463e-11 -2.58753e-11  -0.00667473   0.00667473  -0.00361298  1.36139e-10 -8.75762e-11  -0.00164122 -2.40195e-11 -2.30038e-10   1.5097e-10 -1.30689e-11   -0.0640517   0.00171062  -0.00245561   -0.0197187  7.99225e-11  -1.9453e-10    -0.041887         -nan         -nan         -nan         -nan         -nan         -nan         -nan         -nan         -nan         -nan         -nan         -nan\r\n",
      " 3.20849e-10  1.44296e-10  -0.00531138     0.105871 -2.21981e-11 -3.15389e-10  -0.00667473   0.00667473  -0.00361298  1.60332e-10 -1.30151e-10  -0.00164122  2.82862e-12  -1.9317e-10  9.16853e-12  5.05892e-10  -0.00171062    0.0640517   -0.0197187  -0.00245561  5.33059e-12  4.78923e-11    -0.041887         -nan         -nan         -nan         -nan         -nan         -nan         -nan         -nan         -nan         -nan         -nan         -nan\r\n",
      " 1.42954e-11   -0.0328898 -1.86463e-11 -2.21981e-11     0.240891  -6.6931e-13  -9.4403e-10  6.54516e-10 -5.49399e-10 -0.000828398    0.0144443 -1.60931e-10  -0.00881181  -0.00244011    0.0441772  9.20303e-11   4.1048e-11 -4.25116e-10 -2.14991e-10 -1.15068e-11   0.00438142  1.93452e-05  -5.2119e-10         -nan         -nan         -nan         -nan         -nan         -nan         -nan         -nan         -nan         -nan         -nan         -nan\r\n",
      "  -0.0328898  1.42954e-11 -2.58753e-11 -3.15389e-10 -6.69339e-13     0.240891 -4.37111e-11  4.72629e-11 -4.46753e-11   -0.0144443 -0.000828398  1.06042e-11  -0.00244011   0.00881181  9.20304e-11    0.0441772  2.22861e-10 -1.93766e-11 -1.02555e-10  2.81512e-10 -1.93452e-05   0.00438142 -4.88407e-10         -nan         -nan         -nan         -nan         -nan         -nan         -nan         -nan         -nan         -nan         -nan         -nan\r\n",
      " 4.68323e-10 -9.67714e-10  -0.00667473  -0.00667473  -9.4403e-10 -4.37111e-11     0.221871    -0.110689    0.0629975  1.79227e-11  5.48438e-10     0.028617  9.98448e-10  2.90206e-09  7.94483e-10  2.58571e-10   -0.0100846  -0.00717849   -0.0330804    0.0292607 -1.48722e-09  5.30457e-10  -0.00289574         -nan         -nan         -nan         -nan         -nan         -nan         -nan         -nan         -nan         -nan         -nan         -nan\r\n",
      "-4.11352e-10  1.19241e-09   0.00667473   0.00667473  6.54516e-10  4.72629e-11    -0.110689     0.221871   -0.0629975 -6.04974e-11 -5.72632e-10    -0.028617 -1.03532e-09 -2.87522e-09 -2.75522e-10  -1.1677e-10  -0.00717849   -0.0100846   -0.0292607    0.0330804  1.72927e-09 -4.54692e-10   0.00289574         -nan         -nan         -nan         -nan         -nan         -nan         -nan         -nan         -nan         -nan         -nan         -nan\r\n",
      " 2.38555e-10 -5.07303e-10  -0.00361298  -0.00361298 -5.49399e-10 -4.46753e-11    0.0629975   -0.0629975     0.429278  2.31002e-10  6.84379e-10   -0.0121538  4.21226e-10  8.97905e-10  4.70448e-10  1.29894e-10  6.20782e-06 -6.20784e-06 -1.82767e-05 -1.82766e-05 -1.01345e-09  6.37863e-10  5.62268e-05         -nan         -nan         -nan         -nan         -nan         -nan         -nan         -nan         -nan         -nan         -nan         -nan\r\n",
      "   0.0155317  0.000890759  1.36139e-10  1.60332e-10 -0.000828398   -0.0144443  1.79227e-11 -6.04974e-11  2.31002e-10     0.463967 -2.13919e-12  -1.1787e-10 -0.000208018   0.00061243  0.000594069    0.0103584 -6.62967e-10  5.06983e-12 -1.34046e-10 -1.50703e-09  0.000937261    0.0177101  1.63364e-09         -nan         -nan         -nan         -nan         -nan         -nan         -nan         -nan         -nan         -nan         -nan         -nan\r\n",
      " 0.000890759   -0.0155317 -8.75762e-11 -1.30151e-10    0.0144443 -0.000828398  5.48438e-10 -5.72632e-10  6.84379e-10 -2.13951e-12     0.463967 -1.23372e-10   0.00061243  0.000208018   -0.0103584  0.000594069   2.6649e-11 -1.39964e-09 -6.96865e-10 -3.89681e-11   -0.0177101  0.000937261 -1.78282e-09         -nan         -nan         -nan         -nan         -nan         -nan         -nan         -nan         -nan         -nan         -nan         -nan\r\n",
      " 6.35516e-11 -2.54839e-10  -0.00164122  -0.00164122 -1.60931e-10  1.06042e-11     0.028617    -0.028617   -0.0121538  -1.1787e-10 -1.23372e-10     0.636067  -4.9683e-11  4.09081e-10 -1.95666e-10  8.28125e-11  -0.00673093   0.00673093    0.0198167    0.0198167 -9.92501e-11  2.31745e-12  4.41531e-05         -nan         -nan         -nan         -nan         -nan         -nan         -nan         -nan         -nan         -nan         -nan         -nan\r\n",
      "  -0.0128975   -0.0465759 -2.40195e-11  2.82862e-12  -0.00881181  -0.00244011  9.98448e-10 -1.03532e-09  4.21226e-10 -0.000208018   0.00061243  -4.9683e-11     0.917068 -7.52463e-11     0.021483   0.00594893 -2.20524e-10  4.53242e-10  1.22574e-09  7.73587e-10    0.0223754   0.00630257  1.02123e-10         -nan         -nan         -nan         -nan         -nan         -nan         -nan         -nan         -nan         -nan         -nan         -nan\r\n",
      "   0.0465759   -0.0128975 -2.30038e-10  -1.9317e-10  -0.00244011   0.00881181  2.90206e-09 -2.87522e-09  8.97905e-10   0.00061243  0.000208018  4.09081e-10 -7.52464e-11     0.917068   0.00594893    -0.021483 -7.42059e-10  1.19421e-09  2.67335e-09  2.90607e-09   0.00630257   -0.0223754  6.28253e-11         -nan         -nan         -nan         -nan         -nan         -nan         -nan         -nan         -nan         -nan         -nan         -nan\r\n",
      "-2.32948e-11    0.0481429   1.5097e-10  9.16853e-12    0.0441772  9.20304e-11  7.94483e-10 -2.75522e-10  4.70448e-10  0.000594069   -0.0103584 -1.95666e-10     0.021483   0.00594893     0.981535  7.21624e-11  5.42923e-11 -1.86573e-10  5.46241e-11 -1.35519e-10  -0.00424838 -1.87579e-05  -2.6119e-10         -nan         -nan         -nan         -nan         -nan         -nan         -nan         -nan         -nan         -nan         -nan         -nan\r\n",
      "   0.0481429 -2.32948e-11 -1.30689e-11  5.05892e-10  9.20303e-11    0.0441772  2.58571e-10  -1.1677e-10  1.29894e-10    0.0103584  0.000594069  8.28125e-11   0.00594893    -0.021483  7.21623e-11     0.981535 -2.95322e-11 -1.60611e-10  1.09538e-10  2.41819e-10  1.87578e-05  -0.00424838   1.7526e-10         -nan         -nan         -nan         -nan         -nan         -nan         -nan         -nan         -nan         -nan         -nan         -nan\r\n",
      "-2.59295e-10  1.64907e-10   -0.0640517  -0.00171062   4.1048e-11  2.22861e-10   -0.0100846  -0.00717849  6.20782e-06 -6.62967e-10   2.6649e-11  -0.00673093 -2.20524e-10 -7.42059e-10  5.42923e-11 -2.95322e-11      1.06908   -0.0128113   -0.0247513   -0.0247513  3.94917e-10 -2.10968e-10    0.0150508         -nan         -nan         -nan         -nan         -nan         -nan         -nan         -nan         -nan         -nan         -nan         -nan\r\n",
      " 1.01675e-10  1.10631e-10   0.00171062    0.0640517 -4.25116e-10 -1.93766e-11  -0.00717849   -0.0100846 -6.20784e-06  5.06983e-12 -1.39964e-09   0.00673093  4.53242e-10  1.19421e-09 -1.86573e-10 -1.60611e-10   -0.0128113      1.06908    0.0247513    0.0247513 -2.19402e-10 -9.07731e-13   -0.0150508         -nan         -nan         -nan         -nan         -nan         -nan         -nan         -nan         -nan         -nan         -nan         -nan\r\n",
      "  3.5952e-10 -4.29861e-10  -0.00245561   -0.0197187 -2.14991e-10 -1.02555e-10   -0.0330804   -0.0292607 -1.82767e-05 -1.34046e-10 -6.96865e-10    0.0198167  1.22574e-09  2.67335e-09  5.46241e-11  1.09538e-10   -0.0247513    0.0247513      1.13354    0.0772751 -8.79341e-10  5.99905e-10   0.00545192         -nan         -nan         -nan         -nan         -nan         -nan         -nan         -nan         -nan         -nan         -nan         -nan\r\n",
      "  8.3982e-11  -5.8748e-10   -0.0197187  -0.00245561 -1.15068e-11  2.81512e-10    0.0292607    0.0330804 -1.82766e-05 -1.50703e-09 -3.89681e-11    0.0198167  7.73587e-10  2.90607e-09 -1.35519e-10  2.41819e-10   -0.0247513    0.0247513    0.0772751      1.13354 -1.09044e-09  4.24565e-10   0.00545192         -nan         -nan         -nan         -nan         -nan         -nan         -nan         -nan         -nan         -nan         -nan         -nan\r\n",
      "-0.000253247    0.0573567  4.73166e-10  4.21206e-10   0.00347861 -1.53591e-05 -7.51714e-09  7.82079e-09 -1.20412e-09  0.000539346   -0.0101912 -2.34296e-10    0.0179429   0.00505403   -0.0191591  8.45932e-05  9.06768e-11 -7.11966e-11  1.66087e-10 -5.10772e-12     0.600541  2.22307e-10  3.19263e-09         -nan         -nan         -nan         -nan         -nan         -nan         -nan         -nan         -nan         -nan         -nan         -nan\r\n",
      "   0.0573567  0.000253247 -3.45228e-10 -4.24183e-11  1.53591e-05   0.00347861  4.34608e-09 -4.29271e-09  7.17384e-10    0.0101912  0.000539346  1.52089e-10   0.00505403   -0.0179429 -8.45932e-05   -0.0191591  1.00931e-10  -2.7183e-10 -3.21197e-11  -5.0788e-11  2.22307e-10     0.600541  5.04352e-09         -nan         -nan         -nan         -nan         -nan         -nan         -nan         -nan         -nan         -nan         -nan         -nan\r\n",
      " 1.98183e-10  3.36947e-10   -0.0423678   -0.0423678  -5.9119e-10 -4.72956e-10  -0.00286487   0.00286487 -0.000438545  1.50208e-09 -1.61585e-09 -0.000214557  5.05657e-11  4.23415e-11 -3.64375e-10  1.53275e-10    0.0160907   -0.0160907   0.00534054   0.00534054  3.64935e-09  5.04777e-09      1.98482         -nan         -nan         -nan         -nan         -nan         -nan         -nan         -nan         -nan         -nan         -nan         -nan\r\n",
      "        -nan         -nan         -nan         -nan         -nan         -nan         -nan         -nan         -nan         -nan         -nan         -nan         -nan         -nan         -nan         -nan         -nan         -nan         -nan         -nan         -nan         -nan         -nan         -nan         -nan         -nan         -nan         -nan         -nan         -nan         -nan         -nan         -nan         -nan         -nan\r\n",
      "        -nan         -nan         -nan         -nan         -nan         -nan         -nan         -nan         -nan         -nan         -nan         -nan         -nan         -nan         -nan         -nan         -nan         -nan         -nan         -nan         -nan         -nan         -nan         -nan         -nan         -nan         -nan         -nan         -nan         -nan         -nan         -nan         -nan         -nan         -nan\r\n",
      "        -nan         -nan         -nan         -nan         -nan         -nan         -nan         -nan         -nan         -nan         -nan         -nan         -nan         -nan         -nan         -nan         -nan         -nan         -nan         -nan         -nan         -nan         -nan         -nan         -nan         -nan         -nan         -nan         -nan         -nan         -nan         -nan         -nan         -nan         -nan\r\n",
      "        -nan         -nan         -nan         -nan         -nan         -nan         -nan         -nan         -nan         -nan         -nan         -nan         -nan         -nan         -nan         -nan         -nan         -nan         -nan         -nan         -nan         -nan         -nan         -nan         -nan         -nan         -nan         -nan         -nan         -nan         -nan         -nan         -nan         -nan         -nan\r\n",
      "        -nan         -nan         -nan         -nan         -nan         -nan         -nan         -nan         -nan         -nan         -nan         -nan         -nan         -nan         -nan         -nan         -nan         -nan         -nan         -nan         -nan         -nan         -nan         -nan         -nan         -nan         -nan         -nan         -nan         -nan         -nan         -nan         -nan         -nan         -nan\r\n",
      "        -nan         -nan         -nan         -nan         -nan         -nan         -nan         -nan         -nan         -nan         -nan         -nan         -nan         -nan         -nan         -nan         -nan         -nan         -nan         -nan         -nan         -nan         -nan         -nan         -nan         -nan         -nan         -nan         -nan         -nan         -nan         -nan         -nan         -nan         -nan\r\n",
      "        -nan         -nan         -nan         -nan         -nan         -nan         -nan         -nan         -nan         -nan         -nan         -nan         -nan         -nan         -nan         -nan         -nan         -nan         -nan         -nan         -nan         -nan         -nan         -nan         -nan         -nan         -nan         -nan         -nan         -nan         -nan         -nan         -nan         -nan         -nan\r\n",
      "        -nan         -nan         -nan         -nan         -nan         -nan         -nan         -nan         -nan         -nan         -nan         -nan         -nan         -nan         -nan         -nan         -nan         -nan         -nan         -nan         -nan         -nan         -nan         -nan         -nan         -nan         -nan         -nan         -nan         -nan         -nan         -nan         -nan         -nan         -nan\r\n",
      "        -nan         -nan         -nan         -nan         -nan         -nan         -nan         -nan         -nan         -nan         -nan         -nan         -nan         -nan         -nan         -nan         -nan         -nan         -nan         -nan         -nan         -nan         -nan         -nan         -nan         -nan         -nan         -nan         -nan         -nan         -nan         -nan         -nan         -nan         -nan\r\n",
      "        -nan         -nan         -nan         -nan         -nan         -nan         -nan         -nan         -nan         -nan         -nan         -nan         -nan         -nan         -nan         -nan         -nan         -nan         -nan         -nan         -nan         -nan         -nan         -nan         -nan         -nan         -nan         -nan         -nan         -nan         -nan         -nan         -nan         -nan         -nan\r\n",
      "        -nan         -nan         -nan         -nan         -nan         -nan         -nan         -nan         -nan         -nan         -nan         -nan         -nan         -nan         -nan         -nan         -nan         -nan         -nan         -nan         -nan         -nan         -nan         -nan         -nan         -nan         -nan         -nan         -nan         -nan         -nan         -nan         -nan         -nan         -nan\r\n",
      "        -nan         -nan         -nan         -nan         -nan         -nan         -nan         -nan         -nan         -nan         -nan         -nan         -nan         -nan         -nan         -nan         -nan         -nan         -nan         -nan         -nan         -nan         -nan          nan          nan          nan          nan          nan          nan          nan          nan          nan          nan          nan          nan\r\n",
      "an error occurred:\r\n",
      "Small generalized eigenvalue problem failed.\r\n"
     ]
    }
   ],
   "source": [
    "!xtp_tools -c job_name=CO geometry_optimization.maxiter=1 dftpackage.basisset=3-21G dftpackage.auxbasisset=aux-def2-svp gwbse.gw.mode=G0W0 -e dftgwbse -t 4"
   ]
  },
  {
   "cell_type": "markdown",
   "metadata": {},
   "source": [
    "Notice that we are using 4 threads. The results will be stored in a file named `CO_summary.xml` in the current work directory, together with the optimization step in `optimisation.trj` and the orbitals in [hdf5 format](https://www.hdfgroup.org/solutions/hdf5/) saved on `CO.orb`."
   ]
  }
 ],
 "metadata": {
  "kernelspec": {
   "display_name": "Python 3",
   "language": "python",
   "name": "python3"
  },
  "language_info": {
   "codemirror_mode": {
    "name": "ipython",
    "version": 3
   },
   "file_extension": ".py",
   "mimetype": "text/x-python",
   "name": "python",
   "nbconvert_exporter": "python",
   "pygments_lexer": "ipython3",
   "version": "3.9.6"
  }
 },
 "nbformat": 4,
 "nbformat_minor": 4
}
