{
 "cells": [
  {
   "cell_type": "markdown",
   "metadata": {},
   "source": [
    "## DFT + GWBSE Optimization Using CO"
   ]
  },
  {
   "cell_type": "markdown",
   "metadata": {},
   "source": [
    "## Introduction\n",
    "This tutorial explains how to perform a molecular geometric optimization using the **GWBSE** method. See [the GW Compendium: A Practical Guide to Theoretical Photoemission Spectroscopy](https://doi.org/10.3389/fchem.2019.00377), for an excellent introduction to the method."
   ]
  },
  {
   "cell_type": "markdown",
   "metadata": {},
   "source": [
    "## Requirements\n",
    "* You will need to install **VOTCA** using the instructions described [here](https://github.com/votca/votca/blob/master/share/doc/INSTALL.rst)\n",
    "* Once the installation is completed you need to activate the VOTCA enviroment by running the `VOTCARC.bash` script that has been installed at the bin subfolder for the path that you have provided for the installation step above"
   ]
  },
  {
   "cell_type": "markdown",
   "metadata": {},
   "source": [
    "## Preparing the input\n",
    "To run a DFT-GWBSE calculation we will use the [xtp_tools](https://www.votca.org/xtp/xtp_tools_overview.html) calculator."
   ]
  },
  {
   "cell_type": "markdown",
   "metadata": {},
   "source": [
    "we can now change the calculator mode from single point energy calculation to optimization as follows by adding \n",
    "`-c geometry_optimization.maxiter=1` which enables optimization with one iteration. "
   ]
  },
  {
   "cell_type": "markdown",
   "metadata": {},
   "source": [
    "Because geometry optimsation is quite expensive numerically we chose a smaller basisset and G0W0 Finally, to run the calculation we just need the following command (This still takes a while)"
   ]
  },
  {
   "cell_type": "code",
   "execution_count": 1,
   "metadata": {
    "execution": {
     "iopub.execute_input": "2023-06-29T14:06:27.960940Z",
     "iopub.status.busy": "2023-06-29T14:06:27.960724Z",
     "iopub.status.idle": "2023-06-29T14:07:54.531789Z",
     "shell.execute_reply": "2023-06-29T14:07:54.530277Z"
    }
   },
   "outputs": [
    {
     "name": "stdout",
     "output_type": "stream",
     "text": [
      "==================================================\r\n",
      "========   VOTCA (http://www.votca.org)   ========\r\n",
      "==================================================\r\n",
      "\r\n",
      "please submit bugs to https://github.com/votca/votca/issues\r\n",
      "\r\n",
      "xtp_tools, version 2023-rc.2-dev gitid: dd7ef80 (compiled Jun 29 2023, 14:03:01)\r\n",
      "\r\n",
      "Initializing tool\r\n",
      "... dftgwbse Evaluating tool\r\n",
      "... dftgwbse  Using 4 threads\r\n",
      "... ... Reading structure from CO.xyz\r\n",
      "... ... Requested geometry optimization of excited state s1\r\n",
      "... ... Initial state: s1\r\n",
      "... ... WARNING: No tracker is used \r\n",
      "... ... Convergence of total energy: 0.000001 Hartree \r\n",
      "... ... Convergence of RMS Force:    0.000030 Hartree/Bohr \r\n",
      "... ... Convergence of Max Force:    0.000100 Hartree/Bohr \r\n",
      "... ... Convergence of RMS Step:     0.000600 Bohr \r\n",
      "... ... Convergence of Max Step:     0.001000 Bohr \r\n",
      "... ... Initial trust radius:        0.018897 Bohr\r\n",
      "... ... \r\n",
      "... ... =========== OPTIMIZATION SUMMARY ================================= \r\n",
      "... ... At iteration  0\r\n",
      "... ...  ---- POSITIONS (Angstrom)   \r\n",
      "... ...  Atom\t x\t  y\t  z \r\n",
      "... ...    0    +0.0000  +0.0000  +0.0000\r\n",
      "... ...    1    +1.2000  +0.0000  +0.0000\r\n",
      "... ...    Total energy:     -112.26831841 Hartree \r\n",
      "... ...    Trust radius:       0.01889726 Bohr     \r\n",
      "... ...  ---- FORCES (Hartree/Bohr)   \r\n",
      "... ...       central differences   \r\n",
      "... ...       displacement 0.0010 Angstrom   \r\n",
      "... ...  Atom\t x\t  y\t  z \r\n",
      "... ...    0    -0.1314  -0.0000  -0.0000\r\n",
      "... ...    1    +0.1314  +0.0000  +0.0000A\r\n",
      "    0.301149 -1.39358e-12   7.7789e-10 -8.99326e-10 -1.20907e-09 -1.05173e-09   -0.0519724   1.0248e-12 -5.96439e-10   -0.0141361    0.0105447 -2.27605e-10    0.0390246 -0.000573357    0.0423984 -8.09178e-13 -1.53594e-10 -3.09902e-10  1.93162e-10 -4.05452e-10    -0.107078  -0.00207712  6.07095e-11          nan          nan          nan          nan          nan          nan          nan          nan          nan          nan          nan          nan\r\n",
      "-1.39357e-12     0.301149 -1.58398e-10  3.15738e-10  -2.1265e-10 -9.12143e-11  1.02481e-12   -0.0519724  7.83841e-12   -0.0105447   -0.0141361  3.46401e-12 -0.000573357   -0.0390246 -8.09202e-13    0.0423984 -2.08687e-10  3.60266e-12  -1.6297e-10  6.66198e-12  -0.00207712     0.107078  6.00491e-11          nan          nan          nan          nan          nan          nan          nan          nan          nan          nan          nan          nan\r\n",
      "  7.7789e-10 -1.58398e-10     0.392945   -0.0727119    -0.110995    -0.110995 -1.75084e-10  9.02315e-11   -0.0544152  -3.3683e-11  1.20759e-10    -0.024529  1.90048e-09 -6.35072e-11  1.18527e-10 -2.97002e-11    0.0361403   -0.0111189    0.0170223   -0.0177166 -8.03235e-09 -4.17132e-10   -0.0240787          nan          nan          nan          nan          nan          nan          nan          nan          nan          nan          nan          nan\r\n",
      "-8.99326e-10  3.15738e-10   -0.0727119     0.392945     0.110995     0.110995  2.19023e-10 -1.44997e-10    0.0544152  3.42662e-11 -1.26059e-10     0.024529 -1.92032e-09  3.81065e-11 -2.13603e-10  1.51967e-10    0.0111189   -0.0361403   -0.0177166    0.0170223  8.12153e-09  5.35105e-10    0.0240787          nan          nan          nan          nan          nan          nan          nan          nan          nan          nan          nan          nan\r\n",
      "-1.20907e-09  -2.1265e-10    -0.110995     0.110995     0.458946     0.138713  2.95007e-10  1.11058e-10    0.0729479  1.44639e-10 -3.90853e-11    0.0328831 -2.57401e-09 -2.06915e-12 -2.86935e-10 -1.13936e-10    0.0167973    0.0174917   -0.0208309   -0.0264282   1.0892e-08  1.56615e-10  -0.00999883          nan          nan          nan          nan          nan          nan          nan          nan          nan          nan          nan          nan\r\n",
      "-1.05173e-09 -9.12143e-11    -0.110995     0.110995     0.138713     0.458946  2.40242e-10  6.71193e-11    0.0729479   1.3934e-10 -3.96685e-11    0.0328831 -2.54861e-09 -2.19031e-11 -1.64668e-10 -1.88595e-11    0.0174917    0.0167973    0.0264282    0.0208309  1.07731e-08  2.46582e-10  -0.00999883          nan          nan          nan          nan          nan          nan          nan          nan          nan          nan          nan          nan\r\n",
      "  -0.0519724  1.02481e-12 -1.75084e-10  2.19023e-10  2.95007e-10  2.40242e-10     0.486835 -2.42541e-13  1.72843e-10    0.0109291   -0.0081525  3.80705e-11   0.00830517 -0.000122021    0.0301449  2.92677e-12 -9.11541e-11  1.01227e-10  1.26573e-10  1.34558e-10    0.0549837   0.00106658 -3.98716e-11          nan          nan          nan          nan          nan          nan          nan          nan          nan          nan          nan          nan\r\n",
      "  1.0248e-12   -0.0519724  9.02315e-11 -1.44997e-10  1.11058e-10  6.71193e-11 -2.42534e-13     0.486835  6.61511e-13    0.0081525    0.0109291  3.71896e-13 -0.000122021  -0.00830517  2.92683e-12    0.0301449  2.68511e-10  7.38015e-12  2.01982e-10 -9.60103e-12   0.00106658   -0.0549837   2.3191e-10          nan          nan          nan          nan          nan          nan          nan          nan          nan          nan          nan          nan\r\n",
      "-5.96439e-10  7.83841e-12   -0.0544152    0.0544152    0.0729479    0.0729479  1.72843e-10  6.61511e-13     0.659928  2.68675e-10 -2.06491e-10  -0.00518518  -7.7755e-10  4.28034e-12 -1.32471e-10  3.23798e-13   0.00290862   0.00290862  -0.00378201   0.00378201  5.24989e-09  1.70972e-10    0.0025217          nan          nan          nan          nan          nan          nan          nan          nan          nan          nan          nan          nan\r\n",
      "  -0.0141361   -0.0105447  -3.3683e-11  3.42662e-11  1.44639e-10   1.3934e-10    0.0109291    0.0081525  2.68675e-10     0.668107  7.22044e-13 -7.84439e-11  1.34078e-05 -1.03115e-05   -0.0072622  -0.00541721  -2.5916e-11 -3.27277e-11   1.0879e-09 -4.33624e-11    0.0333198   -0.0238631  8.07605e-10          nan          nan          nan          nan          nan          nan          nan          nan          nan          nan          nan          nan\r\n",
      "   0.0105447   -0.0141361  1.20759e-10 -1.26059e-10 -3.90853e-11 -3.96685e-11   -0.0081525    0.0109291 -2.06491e-10  7.22004e-13     0.668107   5.9617e-11 -1.03115e-05 -1.34078e-05   0.00541721   -0.0072622  1.07341e-09  2.88767e-11 -2.52687e-11  1.84569e-11   -0.0238631   -0.0333198  1.12405e-09          nan          nan          nan          nan          nan          nan          nan          nan          nan          nan          nan          nan\r\n",
      "-2.27605e-10  3.46401e-12    -0.024529     0.024529    0.0328831    0.0328831  3.80705e-11  3.71896e-13  -0.00518518 -7.84439e-11   5.9617e-11     0.793012 -5.00993e-10  3.68292e-12 -7.51915e-11  9.02481e-13   0.00932989   0.00932989   -0.0121314    0.0121314  2.00074e-09  6.70196e-11   0.00102936          nan          nan          nan          nan          nan          nan          nan          nan          nan          nan          nan          nan\r\n",
      "   0.0390246 -0.000573357  1.90048e-09 -1.92032e-09 -2.57401e-09 -2.54861e-09   0.00830517 -0.000122021  -7.7755e-10  1.34078e-05 -1.03115e-05 -5.00993e-10     0.954263 -3.99472e-13   -0.0128737  0.000189143 -1.22903e-09 -1.12127e-09  1.59858e-09 -1.45771e-09    0.0198847  0.000678072  -1.1833e-10          nan          nan          nan          nan          nan          nan          nan          nan          nan          nan          nan          nan\r\n",
      "-0.000573357   -0.0390246 -6.35072e-11  3.81065e-11 -2.06915e-12 -2.19031e-11 -0.000122021  -0.00830517  4.28034e-12 -1.03115e-05 -1.34078e-05  3.68292e-12 -3.99475e-13     0.954263  0.000189143    0.0128737 -5.52225e-11  8.56469e-11 -5.71675e-11 -5.05946e-11 -0.000678072    0.0198847  3.53123e-11          nan          nan          nan          nan          nan          nan          nan          nan          nan          nan          nan          nan\r\n",
      "   0.0423984 -8.09202e-13  1.18527e-10 -2.13603e-10 -2.86935e-10 -1.64668e-10    0.0301449  2.92683e-12 -1.32471e-10   -0.0072622   0.00541721 -7.51915e-11   -0.0128737  0.000189143     0.973645  1.58477e-12 -1.19148e-10 -3.33452e-11  1.59382e-10 -4.15973e-11   -0.0229462 -0.000445115  1.74276e-11          nan          nan          nan          nan          nan          nan          nan          nan          nan          nan          nan          nan\r\n",
      "-8.09178e-13    0.0423984 -2.97002e-11  1.51967e-10 -1.13936e-10 -1.88595e-11  2.92677e-12    0.0301449  3.23798e-13  -0.00541721   -0.0072622  9.02481e-13  0.000189143    0.0128737  1.58478e-12     0.973645  1.25647e-10  7.86152e-12  9.31423e-11 -7.33979e-12 -0.000445115    0.0229462  5.38007e-10          nan          nan          nan          nan          nan          nan          nan          nan          nan          nan          nan          nan\r\n",
      "-1.53594e-10 -2.08687e-10    0.0361403    0.0111189    0.0167973    0.0174917 -9.11541e-11  2.68511e-10   0.00290862  -2.5916e-11  1.07341e-09   0.00932989 -1.22903e-09 -5.52225e-11 -1.19148e-10  1.25647e-10      1.03713    0.0179586   -0.0206397    0.0206397   1.5369e-09 -1.49512e-11  -0.00299897          nan          nan          nan          nan          nan          nan          nan          nan          nan          nan          nan          nan\r\n",
      "-3.09902e-10  3.60266e-12   -0.0111189   -0.0361403    0.0174917    0.0167973  1.01227e-10  7.38015e-12   0.00290862 -3.27277e-11  2.88767e-11   0.00932989 -1.12127e-09  8.56469e-11 -3.33452e-11  7.86152e-12    0.0179586      1.03713   -0.0206397    0.0206397  1.58714e-09  5.54316e-11  -0.00299897          nan          nan          nan          nan          nan          nan          nan          nan          nan          nan          nan          nan\r\n",
      " 1.93162e-10  -1.6297e-10    0.0170223   -0.0177166   -0.0208309    0.0264282  1.26573e-10  2.01982e-10  -0.00378201   1.0879e-09 -2.52687e-11   -0.0121314  1.59858e-09 -5.71675e-11  1.59382e-10  9.31423e-11   -0.0206397   -0.0206397      1.04809   -0.0289226 -1.99229e-09 -1.12194e-10  -0.00431665          nan          nan          nan          nan          nan          nan          nan          nan          nan          nan          nan          nan\r\n",
      "-4.05452e-10  6.66198e-12   -0.0177166    0.0170223   -0.0264282    0.0208309  1.34558e-10 -9.60103e-12   0.00378201 -4.33624e-11  1.84569e-11    0.0121314 -1.45771e-09 -5.05946e-11 -4.15973e-11 -7.33979e-12    0.0206397    0.0206397   -0.0289226      1.04809  2.06267e-09  6.19925e-11   0.00431665          nan          nan          nan          nan          nan          nan          nan          nan          nan          nan          nan          nan\r\n",
      "    0.074572   0.00144656  5.48916e-09 -5.50861e-09 -7.38575e-09 -7.36192e-09   -0.0700162  -0.00135819 -4.11243e-09   -0.0247152    0.0177006 -1.74879e-09  -0.00919313  0.000313487    0.0362819  0.000703805 -1.24446e-09 -1.27281e-09  1.61203e-09 -1.65267e-09    -0.195058 -8.52764e-12 -3.63516e-10          nan          nan          nan          nan          nan          nan          nan          nan          nan          nan          nan          nan\r\n",
      "  0.00144656    -0.074572  4.33947e-10 -4.57551e-10 -3.30698e-11 -5.25853e-11  -0.00135819    0.0700162 -1.32479e-10    0.0177006    0.0247152 -5.72402e-11 -0.000313487  -0.00919313  0.000703805   -0.0362819  4.14965e-11  1.06515e-12  1.14493e-10 -8.59548e-11 -8.52759e-12    -0.195058 -6.16414e-09          nan          nan          nan          nan          nan          nan          nan          nan          nan          nan          nan          nan\r\n",
      "-1.15663e-11 -8.01995e-10  -0.00566662   0.00566662   -0.0180264   -0.0180264  5.64765e-11  7.00202e-10  -0.00437346  1.14718e-09  1.47399e-09  -0.00187885  1.42325e-10 -1.20291e-10 -1.80976e-11  -3.4133e-11  -0.00560538  -0.00560538  -0.00308232   0.00308232 -8.16348e-10 -6.32141e-09      1.05446          nan          nan          nan          nan          nan          nan          nan          nan          nan          nan          nan          nan\r\n",
      "        -nan         -nan         -nan         -nan         -nan         -nan         -nan         -nan         -nan         -nan         -nan         -nan         -nan         -nan         -nan         -nan         -nan         -nan         -nan         -nan         -nan         -nan         -nan          nan          nan          nan          nan          nan          nan          nan          nan          nan          nan          nan          nan\r\n",
      "        -nan         -nan         -nan         -nan         -nan         -nan         -nan         -nan         -nan         -nan         -nan         -nan         -nan         -nan         -nan         -nan         -nan         -nan         -nan         -nan         -nan         -nan         -nan         -nan         -nan         -nan         -nan         -nan         -nan         -nan         -nan         -nan         -nan         -nan         -nan\r\n",
      "        -nan         -nan         -nan         -nan         -nan         -nan         -nan         -nan         -nan         -nan         -nan         -nan         -nan         -nan         -nan         -nan         -nan         -nan         -nan         -nan         -nan         -nan         -nan         -nan         -nan         -nan         -nan         -nan         -nan         -nan         -nan         -nan         -nan         -nan         -nan\r\n",
      "        -nan         -nan         -nan         -nan         -nan         -nan         -nan         -nan         -nan         -nan         -nan         -nan         -nan         -nan         -nan         -nan         -nan         -nan         -nan         -nan         -nan         -nan         -nan          nan          nan          nan          nan          nan          nan          nan          nan          nan          nan          nan          nan\r\n",
      "        -nan         -nan         -nan         -nan         -nan         -nan         -nan         -nan         -nan         -nan         -nan         -nan         -nan         -nan         -nan         -nan         -nan         -nan         -nan         -nan         -nan         -nan         -nan          nan          nan          nan          nan          nan          nan          nan          nan          nan          nan          nan          nan\r\n",
      "        -nan         -nan         -nan         -nan         -nan         -nan         -nan         -nan         -nan         -nan         -nan         -nan         -nan         -nan         -nan         -nan         -nan         -nan         -nan         -nan         -nan         -nan         -nan         -nan         -nan         -nan         -nan         -nan         -nan         -nan         -nan         -nan         -nan         -nan         -nan\r\n",
      "        -nan         -nan         -nan         -nan         -nan         -nan         -nan         -nan         -nan         -nan         -nan         -nan         -nan         -nan         -nan         -nan         -nan         -nan         -nan         -nan         -nan         -nan         -nan         -nan         -nan         -nan         -nan         -nan         -nan         -nan         -nan         -nan         -nan         -nan         -nan\r\n",
      "        -nan         -nan         -nan         -nan         -nan         -nan         -nan         -nan         -nan         -nan         -nan         -nan         -nan         -nan         -nan         -nan         -nan         -nan         -nan         -nan         -nan         -nan         -nan          nan          nan          nan          nan          nan          nan          nan          nan          nan          nan          nan          nan\r\n",
      "        -nan         -nan         -nan         -nan         -nan         -nan         -nan         -nan         -nan         -nan         -nan         -nan         -nan         -nan         -nan         -nan         -nan         -nan         -nan         -nan         -nan         -nan         -nan          nan          nan          nan          nan          nan          nan          nan          nan          nan          nan          nan          nan\r\n",
      "        -nan         -nan         -nan         -nan         -nan         -nan         -nan         -nan         -nan         -nan         -nan         -nan         -nan         -nan         -nan         -nan         -nan         -nan         -nan         -nan         -nan         -nan         -nan         -nan          nan          nan          nan         -nan          nan          nan          nan         -nan          nan          nan          nan\r\n",
      "        -nan         -nan         -nan         -nan         -nan         -nan         -nan         -nan         -nan         -nan         -nan         -nan         -nan         -nan         -nan         -nan         -nan         -nan         -nan         -nan         -nan         -nan         -nan         -nan          nan          nan          nan         -nan          nan          nan          nan         -nan          nan          nan          nan\r\n",
      "        -nan         -nan         -nan         -nan         -nan         -nan         -nan         -nan         -nan         -nan         -nan         -nan         -nan         -nan         -nan         -nan         -nan         -nan         -nan         -nan         -nan         -nan         -nan         -nan         -nan         -nan         -nan         -nan         -nan         -nan         -nan         -nan         -nan         -nan         -nan\r\n",
      "B\r\n",
      "   0.0903883 -6.21655e-13  2.86074e-10 -3.63118e-10 -4.88485e-10 -3.88641e-10   -0.0326152   6.2857e-13  -3.6943e-10   -0.0118742   0.00885748 -1.51548e-10    0.0481023 -0.000706728    0.0477611 -9.28791e-13 -1.01832e-10 -3.12708e-10   1.2328e-10  -4.0974e-10   -0.0244239 -0.000473779  4.25507e-11         -nan         -nan         -nan         -nan         -nan         -nan         -nan         -nan         -nan         -nan         -nan         -nan\r\n",
      "-6.21648e-13    0.0903883 -7.72374e-11  1.77081e-10 -1.23611e-10 -4.65666e-11  6.28578e-13   -0.0326152  4.85468e-12  -0.00885748   -0.0118742  2.34959e-12 -0.000706728   -0.0481023  -9.2882e-13    0.0477611  -2.9568e-10 -9.21986e-12 -2.27899e-10  1.70239e-11 -0.000473779    0.0244239 -7.66693e-10         -nan         -nan         -nan         -nan         -nan         -nan         -nan         -nan         -nan         -nan         -nan         -nan\r\n",
      " 2.86074e-10 -7.72374e-11     0.139723   -0.0348885   -0.0541797   -0.0541797 -8.44305e-11  6.16695e-11   -0.0390933 -2.42442e-11  1.02301e-10   -0.0190821  2.04799e-09   -7.087e-11  9.99146e-11  -3.0524e-11    0.0543904  -0.00918156    0.0148915   -0.0158255 -4.09602e-10  8.56805e-11   -0.0314525         -nan         -nan         -nan         -nan         -nan         -nan         -nan         -nan         -nan         -nan         -nan         -nan\r\n",
      "-3.63118e-10  1.77081e-10   -0.0348885     0.139723    0.0541797    0.0541797  1.19469e-10 -1.05643e-10    0.0390933  2.48165e-11 -1.08778e-10    0.0190821 -2.07734e-09  3.33411e-11 -2.21835e-10  1.87484e-10   0.00918156   -0.0543904   -0.0158255    0.0148915  4.80883e-10  1.07831e-11    0.0314525         -nan         -nan         -nan         -nan         -nan         -nan         -nan         -nan         -nan         -nan         -nan         -nan\r\n",
      "-4.88485e-10 -1.23611e-10   -0.0541797    0.0541797      0.17194    0.0671056  1.61116e-10  8.12602e-11    0.0524077  1.22468e-10 -2.83909e-11    0.0255811 -2.78421e-09  2.98728e-12 -2.97975e-10  -1.4152e-10     0.014352     0.015286   -0.0176734   -0.0458986  6.48558e-10  3.59323e-11   -0.0290539         -nan         -nan         -nan         -nan         -nan         -nan         -nan         -nan         -nan         -nan         -nan         -nan\r\n",
      "-3.88641e-10 -4.65666e-11   -0.0541797    0.0541797    0.0671056      0.17194  1.17142e-10  4.62215e-11    0.0524077  1.15991e-10 -2.89632e-11    0.0255811 -2.74668e-09 -2.63592e-11 -1.41015e-10 -1.95994e-11     0.015286     0.014352    0.0458986    0.0176734  5.51447e-10  1.07894e-10   -0.0290539         -nan         -nan         -nan         -nan         -nan         -nan         -nan         -nan         -nan         -nan         -nan         -nan\r\n",
      "  -0.0326152  6.28581e-13 -8.44305e-11  1.19469e-10  1.61116e-10  1.17142e-10     0.236624 -1.35813e-13  1.31185e-10    0.0115278   -0.0085991  2.26184e-11   0.00949836 -0.000139552    0.0424653  4.01708e-12   -1.635e-10  1.23408e-10   2.2473e-10   1.6485e-10  -0.00359497  -6.9736e-05  5.89648e-12         -nan         -nan         -nan         -nan         -nan         -nan         -nan         -nan         -nan         -nan         -nan         -nan\r\n",
      "  6.2857e-13   -0.0326152  6.16695e-11 -1.05643e-10  8.12602e-11  4.62215e-11  -1.3581e-13     0.236624  8.15481e-13    0.0085991    0.0115278  4.86388e-13 -0.000139552  -0.00949836  4.01715e-12    0.0424653  4.02671e-10  1.30913e-11  3.02733e-10 -1.58253e-11  -6.9736e-05   0.00359497  8.20368e-10         -nan         -nan         -nan         -nan         -nan         -nan         -nan         -nan         -nan         -nan         -nan         -nan\r\n",
      " -3.6943e-10  4.85468e-12   -0.0390933    0.0390933    0.0524077    0.0524077  1.31185e-10  8.15481e-13     0.424108  3.28907e-10  -2.5249e-10   -0.0112617 -9.33328e-10  4.65964e-12 -1.79933e-10  4.28485e-13  0.000395795  0.000395795 -0.000514643  0.000514643  1.09704e-09  3.94283e-11  -0.00122762         -nan         -nan         -nan         -nan         -nan         -nan         -nan         -nan         -nan         -nan         -nan         -nan\r\n",
      "  -0.0118742  -0.00885748 -2.42442e-11  2.48165e-11  1.22468e-10  1.15991e-10    0.0115278    0.0085991  3.28907e-10     0.446812  9.50252e-13 -1.11712e-10  -0.00038378  0.000295153  -0.00865325  -0.00645486 -4.68428e-11 -5.81872e-11  1.82447e-09 -7.90194e-11    0.0144412   -0.0103426  1.78346e-09         -nan         -nan         -nan         -nan         -nan         -nan         -nan         -nan         -nan         -nan         -nan         -nan\r\n",
      "  0.00885748   -0.0118742  1.02301e-10 -1.08778e-10 -2.83909e-11 -2.89632e-11   -0.0085991    0.0115278  -2.5249e-10  9.50196e-13     0.446812   8.5135e-11  0.000295153   0.00038378   0.00645486  -0.00865325  1.79856e-09  5.31114e-11  -4.5982e-11  3.46376e-11   -0.0103426   -0.0144412   2.3813e-09         -nan         -nan         -nan         -nan         -nan         -nan         -nan         -nan         -nan         -nan         -nan         -nan\r\n",
      "-1.51548e-10  2.34959e-12   -0.0190821    0.0190821    0.0255811    0.0255811  2.26184e-11  4.86388e-13   -0.0112617 -1.11712e-10   8.5135e-11     0.627074 -6.51482e-10  4.83448e-12 -1.03755e-10   1.3426e-12    0.0133662    0.0133662   -0.0173797    0.0173797  2.11068e-10  1.01187e-11 -0.000507854         -nan         -nan         -nan         -nan         -nan         -nan         -nan         -nan         -nan         -nan         -nan         -nan\r\n",
      "   0.0481023 -0.000706728  2.04799e-09 -2.07734e-09 -2.78421e-09 -2.74668e-09   0.00949836 -0.000139552 -9.33328e-10  -0.00038378  0.000295153 -6.51482e-10     0.912954 -7.12581e-13   -0.0215514  0.000316638 -2.20787e-09 -1.98941e-09  2.87178e-09 -2.58618e-09    0.0227029  0.000774172 -5.28311e-11         -nan         -nan         -nan         -nan         -nan         -nan         -nan         -nan         -nan         -nan         -nan         -nan\r\n",
      "-0.000706728   -0.0481023   -7.087e-11  3.33411e-11  2.98728e-12 -2.63592e-11 -0.000139552  -0.00949836  4.65964e-12  0.000295153   0.00038378  4.83448e-12 -7.12588e-13     0.912954  0.000316638    0.0215514 -1.18592e-10  1.67011e-10   -1.171e-10 -1.01362e-10 -0.000774172    0.0227029 -1.06708e-10         -nan         -nan         -nan         -nan         -nan         -nan         -nan         -nan         -nan         -nan         -nan         -nan\r\n",
      "   0.0477611 -9.28822e-13  9.99146e-11 -2.21835e-10 -2.97975e-10 -1.41015e-10    0.0424653  4.01715e-12 -1.79933e-10  -0.00865325   0.00645486 -1.03755e-10   -0.0215514  0.000316638     0.952112  3.01092e-12 -1.95961e-10 -5.10562e-11  2.62273e-10 -6.32344e-11   0.00321145  6.22963e-05  2.65502e-12         -nan         -nan         -nan         -nan         -nan         -nan         -nan         -nan         -nan         -nan         -nan         -nan\r\n",
      " -9.2879e-13    0.0477611  -3.0524e-11  1.87484e-10  -1.4152e-10 -1.95994e-11  4.01708e-12    0.0424653  4.28485e-13  -0.00645486  -0.00865325   1.3426e-12  0.000316638    0.0215514  3.01093e-12     0.952112  2.08178e-10  9.13953e-12  1.54263e-10 -9.35788e-12  6.22963e-05  -0.00321145  4.76159e-10         -nan         -nan         -nan         -nan         -nan         -nan         -nan         -nan         -nan         -nan         -nan         -nan\r\n",
      "-1.01832e-10  -2.9568e-10    0.0543904   0.00918156     0.014352     0.015286   -1.635e-10  4.02671e-10  0.000395795 -4.68428e-11  1.79856e-09    0.0133662 -2.20787e-09 -1.18592e-10 -1.95961e-10  2.08178e-10      1.07482    0.0338555   -0.0383012    0.0383012  4.72995e-10 -1.00228e-10   -0.0122869         -nan         -nan         -nan         -nan         -nan         -nan         -nan         -nan         -nan         -nan         -nan         -nan\r\n",
      "-3.12708e-10 -9.21986e-12  -0.00918156   -0.0543904     0.015286     0.014352  1.23408e-10  1.30913e-11  0.000395795 -5.81872e-11  5.31114e-11    0.0133662 -1.98941e-09  1.67011e-10 -5.10562e-11  9.13953e-12    0.0338555      1.07482   -0.0383012    0.0383012  5.96278e-10  7.28602e-11   -0.0122869         -nan         -nan         -nan         -nan         -nan         -nan         -nan         -nan         -nan         -nan         -nan         -nan\r\n",
      "  1.2328e-10 -2.27899e-10    0.0148915   -0.0158255   -0.0176734    0.0458986   2.2473e-10  3.02733e-10 -0.000514643  1.82447e-09  -4.5982e-11   -0.0173797  2.87178e-09   -1.171e-10  2.62273e-10  1.54263e-10   -0.0383012   -0.0383012      1.09517   -0.0542015 -6.04184e-10 -1.06404e-10   -0.0113674         -nan         -nan         -nan         -nan         -nan         -nan         -nan         -nan         -nan         -nan         -nan         -nan\r\n",
      " -4.0974e-10  1.70239e-11   -0.0158255    0.0148915   -0.0458986    0.0176734   1.6485e-10 -1.58253e-11  0.000514643 -7.90194e-11  3.46376e-11    0.0173797 -2.58618e-09 -1.01362e-10 -6.32344e-11 -9.35788e-12    0.0383012    0.0383012   -0.0542015      1.09517  7.76974e-10 -1.65424e-11    0.0113674         -nan         -nan         -nan         -nan         -nan         -nan         -nan         -nan         -nan         -nan         -nan         -nan\r\n",
      "  -0.0559709  -0.00108574 -3.93814e-09  4.00631e-09  5.37799e-09  5.28559e-09  -0.00259781 -5.03929e-05  1.12599e-09   0.00896873  -0.00642326  2.79857e-10    0.0177727  -0.00060605    0.0179747  0.000348677 -5.56043e-11 -7.83459e-11  6.32048e-11 -9.78516e-11     0.583856 -9.31381e-12 -2.75373e-10         -nan         -nan         -nan         -nan         -nan         -nan         -nan         -nan         -nan         -nan         -nan         -nan\r\n",
      " -0.00108574    0.0559709 -8.65507e-11  1.78124e-10  1.33183e-10  2.02222e-10 -5.03929e-05   0.00259781  3.53945e-11  -0.00642326  -0.00896873  9.00838e-12   0.00060605    0.0177727  0.000348677   -0.0179747  1.40787e-10  1.06461e-10   1.1495e-10 -9.18717e-11 -9.31374e-12     0.583856 -4.58156e-09         -nan         -nan         -nan         -nan         -nan         -nan         -nan         -nan         -nan         -nan         -nan         -nan\r\n",
      "  6.6398e-11 -4.39755e-10   -0.0320643    0.0320643   -0.0290275   -0.0290275  3.64344e-12  8.79787e-10  -0.00256278  1.64405e-09  2.19264e-09   -0.0013099  9.26141e-11 -7.03539e-11  4.96954e-12  6.05252e-10   -0.0136718   -0.0136718   -0.0110174    0.0110174 -7.61408e-10  -5.0845e-09       2.1172         -nan         -nan         -nan         -nan         -nan         -nan         -nan         -nan         -nan         -nan         -nan         -nan\r\n",
      "        -nan         -nan         -nan         -nan         -nan         -nan         -nan         -nan         -nan         -nan         -nan         -nan         -nan         -nan         -nan         -nan         -nan         -nan         -nan         -nan         -nan         -nan         -nan         -nan         -nan         -nan         -nan         -nan         -nan         -nan         -nan         -nan         -nan         -nan         -nan\r\n",
      "        -nan         -nan         -nan         -nan         -nan         -nan         -nan         -nan         -nan         -nan         -nan         -nan         -nan         -nan         -nan         -nan         -nan         -nan         -nan         -nan         -nan         -nan         -nan         -nan         -nan         -nan         -nan         -nan         -nan         -nan         -nan         -nan         -nan         -nan         -nan\r\n",
      "        -nan         -nan         -nan         -nan         -nan         -nan         -nan         -nan         -nan         -nan         -nan         -nan         -nan         -nan         -nan         -nan         -nan         -nan         -nan         -nan         -nan         -nan         -nan         -nan         -nan         -nan         -nan         -nan         -nan         -nan         -nan         -nan         -nan         -nan         -nan\r\n",
      "        -nan         -nan         -nan         -nan         -nan         -nan         -nan         -nan         -nan         -nan         -nan         -nan         -nan         -nan         -nan         -nan         -nan         -nan         -nan         -nan         -nan         -nan         -nan         -nan         -nan         -nan         -nan         -nan         -nan         -nan         -nan         -nan         -nan         -nan         -nan\r\n",
      "        -nan         -nan         -nan         -nan         -nan         -nan         -nan         -nan         -nan         -nan         -nan         -nan         -nan         -nan         -nan         -nan         -nan         -nan         -nan         -nan         -nan         -nan         -nan         -nan         -nan         -nan         -nan         -nan         -nan         -nan         -nan         -nan         -nan         -nan         -nan\r\n",
      "        -nan         -nan         -nan         -nan         -nan         -nan         -nan         -nan         -nan         -nan         -nan         -nan         -nan         -nan         -nan         -nan         -nan         -nan         -nan         -nan         -nan         -nan         -nan         -nan         -nan         -nan         -nan         -nan         -nan         -nan         -nan         -nan         -nan         -nan         -nan\r\n",
      "        -nan         -nan         -nan         -nan         -nan         -nan         -nan         -nan         -nan         -nan         -nan         -nan         -nan         -nan         -nan         -nan         -nan         -nan         -nan         -nan         -nan         -nan         -nan         -nan         -nan         -nan         -nan         -nan         -nan         -nan         -nan         -nan         -nan         -nan         -nan\r\n",
      "        -nan         -nan         -nan         -nan         -nan         -nan         -nan         -nan         -nan         -nan         -nan         -nan         -nan         -nan         -nan         -nan         -nan         -nan         -nan         -nan         -nan         -nan         -nan         -nan         -nan         -nan         -nan         -nan         -nan         -nan         -nan         -nan         -nan         -nan         -nan\r\n",
      "        -nan         -nan         -nan         -nan         -nan         -nan         -nan         -nan         -nan         -nan         -nan         -nan         -nan         -nan         -nan         -nan         -nan         -nan         -nan         -nan         -nan         -nan         -nan         -nan         -nan         -nan         -nan         -nan         -nan         -nan         -nan         -nan         -nan         -nan         -nan\r\n",
      "        -nan         -nan         -nan         -nan         -nan         -nan         -nan         -nan         -nan         -nan         -nan         -nan         -nan         -nan         -nan         -nan         -nan         -nan         -nan         -nan         -nan         -nan         -nan         -nan         -nan         -nan         -nan         -nan         -nan         -nan         -nan         -nan         -nan         -nan         -nan\r\n",
      "        -nan         -nan         -nan         -nan         -nan         -nan         -nan         -nan         -nan         -nan         -nan         -nan         -nan         -nan         -nan         -nan         -nan         -nan         -nan         -nan         -nan         -nan         -nan         -nan         -nan         -nan         -nan         -nan         -nan         -nan         -nan         -nan         -nan         -nan         -nan\r\n",
      "        -nan         -nan         -nan         -nan         -nan         -nan         -nan         -nan         -nan         -nan         -nan         -nan         -nan         -nan         -nan         -nan         -nan         -nan         -nan         -nan         -nan         -nan         -nan          nan          nan          nan          nan          nan          nan          nan          nan          nan          nan          nan          nan\r\n",
      "an error occurred:\r\n",
      "Small generalized eigenvalue problem failed.\r\n"
     ]
    }
   ],
   "source": [
    "!xtp_tools -c job_name=CO geometry_optimization.maxiter=1 dftpackage.basisset=3-21G dftpackage.auxbasisset=aux-def2-svp gwbse.gw.mode=G0W0 -e dftgwbse -t 4"
   ]
  },
  {
   "cell_type": "markdown",
   "metadata": {},
   "source": [
    "Notice that we are using 4 threads. The results will be stored in a file named `CO_summary.xml` in the current work directory, together with the optimization step in `optimisation.trj` and the orbitals in [hdf5 format](https://www.hdfgroup.org/solutions/hdf5/) saved on `CO.orb`."
   ]
  }
 ],
 "metadata": {
  "kernelspec": {
   "display_name": "Python 3",
   "language": "python",
   "name": "python3"
  },
  "language_info": {
   "codemirror_mode": {
    "name": "ipython",
    "version": 3
   },
   "file_extension": ".py",
   "mimetype": "text/x-python",
   "name": "python",
   "nbconvert_exporter": "python",
   "pygments_lexer": "ipython3",
   "version": "3.11.3"
  }
 },
 "nbformat": 4,
 "nbformat_minor": 4
}
