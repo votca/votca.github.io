{
 "cells": [
  {
   "cell_type": "markdown",
   "metadata": {},
   "source": [
    "## DFT + GWBSE Optimization Using CO"
   ]
  },
  {
   "cell_type": "markdown",
   "metadata": {},
   "source": [
    "## Introduction\n",
    "This tutorial explains how to perform a molecular geometric optimization using the **GWBSE** method. See [the GW Compendium: A Practical Guide to Theoretical Photoemission Spectroscopy](https://doi.org/10.3389/fchem.2019.00377), for an excellent introduction to the method."
   ]
  },
  {
   "cell_type": "markdown",
   "metadata": {},
   "source": [
    "## Requirements\n",
    "* You will need to install **VOTCA** using the instructions described [here](https://github.com/votca/votca/blob/master/share/doc/INSTALL.rst)\n",
    "* Once the installation is completed you need to activate the VOTCA enviroment by running the `VOTCARC.bash` script that has been installed at the bin subfolder for the path that you have provided for the installation step above"
   ]
  },
  {
   "cell_type": "markdown",
   "metadata": {},
   "source": [
    "## Preparing the input\n",
    "To run a DFT-GWBSE calculation we will use the [xtp_tools](https://www.votca.org/xtp/xtp_tools_overview.html) calculator."
   ]
  },
  {
   "cell_type": "markdown",
   "metadata": {},
   "source": [
    "we can now change the calculator mode from single point energy calculation to optimization as follows by adding \n",
    "`-c geometry_optimization.maxiter=1` which enables optimization with one iteration. "
   ]
  },
  {
   "cell_type": "markdown",
   "metadata": {},
   "source": [
    "Because geometry optimsation is quite expensive numerically we chose a smaller basisset and G0W0 Finally, to run the calculation we just need the following command (This still takes a while)"
   ]
  },
  {
   "cell_type": "code",
   "execution_count": 1,
   "metadata": {
    "execution": {
     "iopub.execute_input": "2021-12-04T19:42:38.629583Z",
     "iopub.status.busy": "2021-12-04T19:42:38.628850Z",
     "iopub.status.idle": "2021-12-04T19:43:32.959855Z",
     "shell.execute_reply": "2021-12-04T19:43:32.960329Z"
    }
   },
   "outputs": [
    {
     "name": "stdout",
     "output_type": "stream",
     "text": [
      "==================================================\r\n",
      "========   VOTCA (http://www.votca.org)   ========\r\n",
      "==================================================\r\n",
      "\r\n",
      "please submit bugs to https://github.com/votca/xtp/issues\r\n",
      "\r\n",
      "xtp_tools, version 2022-dev gitid: 4521181 (compiled Dec  4 2021, 19:33:24)\r\n",
      "votca_csg, version 2022-dev gitid: 4521181 (compiled Dec  4 2021, 19:16:56)\r\n",
      "votca_tools, version 2022-dev gitid: 4521181 (compiled Dec  4 2021, 19:13:44)\r\n",
      "\r\n",
      "Initializing tool\r\n",
      "... dftgwbse Evaluating tool\r\n",
      "... dftgwbse  Using 4 threads\r\n",
      "... ... Reading structure from CO.xyz\r\n",
      "... ... Requested geometry optimization of excited state s1\r\n",
      "... ... Initial state: s1\r\n",
      "... ... WARNING: No tracker is used \r\n",
      "... ... Convergence of total energy: 0.000001 Hartree \r\n",
      "... ... Convergence of RMS Force:    0.000030 Hartree/Bohr \r\n",
      "... ... Convergence of Max Force:    0.000100 Hartree/Bohr \r\n",
      "... ... Convergence of RMS Step:     0.000600 Bohr \r\n",
      "... ... Convergence of Max Step:     0.001000 Bohr \r\n",
      "... ... Initial trust radius:        0.018897 Bohr\r\n",
      "... ... \r\n",
      "... ... =========== OPTIMIZATION SUMMARY ================================= \r\n",
      "... ... At iteration  0\r\n",
      "... ...  ---- POSITIONS (Angstrom)   \r\n",
      "... ...  Atom\t x\t  y\t  z \r\n",
      "... ...    0    +0.0000  +0.0000  +0.0000\r\n",
      "... ...    1    +1.2000  +0.0000  +0.0000\r\n",
      "... ...    Total energy:     -112.26831841 Hartree \r\n",
      "... ...    Trust radius:       0.01889726 Bohr     \r\n",
      "... ...  ---- FORCES (Hartree/Bohr)   \r\n",
      "... ...       central differences   \r\n",
      "... ...       displacement 0.0010 Angstrom   \r\n",
      "... ...  Atom\t x\t  y\t  z \r\n",
      "... ...    0    -0.1314  -0.0000  -0.0000\r\n",
      "... ...    1    +0.1314  +0.0000  +0.0000A\r\n",
      "    0.300728 -2.77463e-15 -6.55195e-15 -7.64828e-15    0.0519964 -1.93192e-15  2.62692e-11 -2.65287e-11  1.38428e-11   -0.0175948  4.92611e-06 -4.56909e-12    0.0390178  -0.00106296   -0.0424178  1.58703e-15  1.07799e-13  9.88473e-14 -3.59675e-12  3.93404e-12    -0.107004 -7.03407e-06 -5.95342e-15          nan          nan          nan          nan          nan          nan          nan          nan          nan          nan          nan          nan\r\n",
      "-2.79522e-15     0.300728 -2.04375e-12 -2.30331e-12 -1.95878e-15    0.0519964 -2.35838e-15  3.42136e-15 -1.25951e-15  4.92611e-06    0.0175948  4.18095e-17   0.00106296    0.0390178  1.62468e-15   -0.0424178 -5.54773e-13 -2.17439e-13 -5.96032e-15  1.48858e-14 -7.03407e-06     0.107004  1.40474e-13          nan          nan          nan          nan          nan          nan          nan          nan          nan          nan          nan          nan\r\n",
      "-6.55199e-15 -2.04375e-12     0.309472   -0.0100868  1.12972e-15  -1.2751e-12 -6.48618e-05  6.48618e-05 -2.55852e-05  5.02688e-15  2.20862e-12  1.15731e-05  6.26834e-15  3.11745e-13 -2.19558e-15 -4.10541e-13    0.0491741   0.00194251   6.2938e-05  -0.00134966  4.24304e-14 -1.97974e-12   -0.0247327          nan          nan          nan          nan          nan          nan          nan          nan          nan          nan          nan          nan\r\n",
      "-7.64826e-15 -2.30331e-12   -0.0100868     0.309472 -2.01586e-16 -4.92632e-13 -6.48618e-05  6.48618e-05 -2.55852e-05    4.954e-15 -3.55046e-14  1.15731e-05  8.37278e-15  3.85429e-13 -1.90342e-15  3.84545e-12   0.00194251    0.0491741   0.00134966  -6.2938e-05  4.39018e-14 -2.47656e-12   -0.0247327          nan          nan          nan          nan          nan          nan          nan          nan          nan          nan          nan          nan\r\n",
      "   0.0519964 -1.94987e-15  1.12968e-15 -2.01574e-16     0.486555 -2.08735e-16  7.08298e-13  7.41938e-14  7.46258e-13    -0.013646  3.82054e-06  1.84682e-12   -0.0083253  0.000226806    0.0300841  5.37191e-15 -2.70478e-14 -3.87781e-14  1.40017e-12 -9.69609e-13   -0.0551239 -3.62365e-06  5.39238e-15          nan          nan          nan          nan          nan          nan          nan          nan          nan          nan          nan          nan\r\n",
      "-1.92828e-15    0.0519964  -1.2751e-12 -4.92632e-13 -2.37711e-16     0.486555  1.86038e-15 -5.53815e-16   7.4041e-16  3.82054e-06     0.013646 -8.86018e-16 -0.000226806   -0.0083253  5.23298e-15    0.0300841 -4.44081e-13 -1.34786e-14 -9.83331e-16   1.2729e-14 -3.62365e-06    0.0551239  1.09254e-12          nan          nan          nan          nan          nan          nan          nan          nan          nan          nan          nan          nan\r\n",
      " 2.62692e-11 -2.35836e-15 -6.48618e-05 -6.48618e-05  7.08298e-13  1.86037e-15     0.541142    -0.221583     0.091384 -1.66958e-11  3.26582e-15   -0.0413364  7.57822e-12 -2.10899e-13  1.06778e-11 -8.96271e-16  0.000931192 -0.000355535    0.0134183    0.0338133 -1.59883e-10 -2.24461e-14 -0.000110755          nan          nan          nan          nan          nan          nan          nan          nan          nan          nan          nan          nan\r\n",
      "-2.65287e-11  3.42134e-15  6.48618e-05  6.48618e-05  7.41938e-14 -5.53766e-16    -0.221583     0.541142    -0.091384  1.89399e-11 -3.34042e-15    0.0413364 -7.50454e-12  2.08769e-13 -6.42173e-12  5.94314e-16  0.000355535 -0.000931192    0.0338133    0.0134183  1.60388e-10  2.39731e-14  0.000110755          nan          nan          nan          nan          nan          nan          nan          nan          nan          nan          nan          nan\r\n",
      " 1.38428e-11 -1.25959e-15 -2.55852e-05 -2.55852e-05  7.46258e-13   7.4041e-16     0.091384    -0.091384     0.659711 -9.57556e-12  2.16192e-15   0.00509591  3.48688e-13 -9.93493e-15  3.26891e-12 -2.77695e-16  0.000132607  0.000132607  -0.00481802   0.00481802 -6.45363e-11 -9.75911e-15 -4.23753e-05          nan          nan          nan          nan          nan          nan          nan          nan          nan          nan          nan          nan\r\n",
      "  -0.0175948  4.92611e-06  5.02686e-15  4.95396e-15    -0.013646  3.82054e-06 -1.66958e-11  1.89399e-11 -9.57556e-12     0.667191  -1.3383e-16  2.33074e-12  2.39682e-05 -6.59681e-07   0.00908945 -2.54482e-06 -8.71031e-14  -5.0872e-15   2.1372e-13  -3.1649e-12    0.0409784  1.41667e-05  5.86798e-15          nan          nan          nan          nan          nan          nan          nan          nan          nan          nan          nan          nan\r\n",
      " 4.92611e-06    0.0175948  2.20862e-12 -3.55046e-14  3.82054e-06     0.013646  3.26579e-15 -3.34054e-15   2.1619e-15 -4.75335e-17     0.667191 -9.15068e-17 -6.59681e-07 -2.39682e-05 -2.54482e-06  -0.00908945 -3.38689e-12 -4.35711e-13 -1.22849e-14  9.42949e-14 -1.41667e-05    0.0409784 -4.69491e-12          nan          nan          nan          nan          nan          nan          nan          nan          nan          nan          nan          nan\r\n",
      "-4.56909e-12  4.18094e-17  1.15731e-05  1.15731e-05  1.84682e-12   -8.861e-16   -0.0413364    0.0413364   0.00509591  2.33074e-12 -9.15565e-17     0.792641 -2.29243e-12  6.34444e-14 -3.34726e-12  5.32349e-16 -0.000422607 -0.000422607    0.0153546   -0.0153546  2.09914e-11  1.80479e-15  1.90731e-05          nan          nan          nan          nan          nan          nan          nan          nan          nan          nan          nan          nan\r\n",
      "   0.0390178   0.00106296  6.26833e-15  8.37278e-15   -0.0083253 -0.000226806  7.57822e-12 -7.50454e-12  3.48688e-13  2.39682e-05 -6.59681e-07 -2.29243e-12     0.954094  2.35931e-14    0.0128508  0.000350095  2.35111e-13  2.34724e-13 -8.37282e-12  7.43654e-12      0.01988 -0.000540281   -1.469e-14          nan          nan          nan          nan          nan          nan          nan          nan          nan          nan          nan          nan\r\n",
      " -0.00106296    0.0390178  3.11745e-13  3.85429e-13  0.000226806   -0.0083253 -2.10899e-13  2.08769e-13 -9.93495e-15 -6.59681e-07 -2.39682e-05  6.34444e-14  2.35828e-14     0.954094 -0.000350095    0.0128508  1.09297e-12  1.56685e-13  2.35663e-13 -2.35279e-13 -0.000540281     -0.01988 -4.91808e-13          nan          nan          nan          nan          nan          nan          nan          nan          nan          nan          nan          nan\r\n",
      "  -0.0424178  1.62013e-15 -2.19556e-15 -1.90337e-15    0.0300841   5.2481e-15  1.06778e-11 -6.42173e-12  3.26891e-12   0.00908945 -2.54482e-06 -3.34726e-12    0.0128508 -0.000350095     0.972602  3.10083e-15  5.95506e-14  8.68056e-14 -3.17388e-12  2.15206e-12      0.02299  1.51128e-06 -5.34467e-15          nan          nan          nan          nan          nan          nan          nan          nan          nan          nan          nan          nan\r\n",
      "  1.5917e-15   -0.0424178  -4.1054e-13  3.84545e-12  5.36588e-15    0.0300841 -8.96213e-16  5.94288e-16 -2.77692e-16 -2.54482e-06  -0.00908945  5.32345e-16  0.000350095    0.0128508  3.09153e-15     0.972602  2.93912e-13 -7.27885e-13 -1.94049e-14 -7.82316e-15  1.51128e-06     -0.02299  4.53861e-13          nan          nan          nan          nan          nan          nan          nan          nan          nan          nan          nan          nan\r\n",
      " 1.07799e-13 -5.54773e-13    0.0491741   0.00194251 -2.70478e-14 -4.44081e-13  0.000931192  0.000355535  0.000132607 -8.71031e-14 -3.38689e-12 -0.000422607  2.35111e-13  1.09297e-12  5.95506e-14  2.93912e-13      1.02075   0.00211868  -0.00117317   0.00117317  -6.1555e-13  -8.4644e-14   -0.0047472          nan          nan          nan          nan          nan          nan          nan          nan          nan          nan          nan          nan\r\n",
      " 9.88473e-14 -2.17439e-13   0.00194251    0.0491741 -3.87781e-14 -1.34786e-14 -0.000355535 -0.000931192  0.000132607 -5.08721e-15 -4.35711e-13 -0.000422607  2.34724e-13  1.56685e-13  8.68056e-14 -7.27885e-13   0.00211868      1.02075  -0.00117317   0.00117317 -6.07609e-13  2.29771e-13   -0.0047472          nan          nan          nan          nan          nan          nan          nan          nan          nan          nan          nan          nan\r\n",
      "-3.59675e-12 -5.96032e-15   6.2938e-05   0.00134966  1.40017e-12  -9.8333e-16    0.0134183    0.0338133  -0.00481802   2.1372e-13 -1.22849e-14    0.0153546 -8.37282e-12  2.35663e-13 -3.17388e-12 -1.94049e-14  -0.00117317  -0.00117317      1.06334   -0.0447112  2.20527e-11  8.39318e-15 -0.000152329          nan          nan          nan          nan          nan          nan          nan          nan          nan          nan          nan          nan\r\n",
      " 3.93404e-12  1.48858e-14  -0.00134966  -6.2938e-05 -9.69609e-13   1.2729e-14    0.0338133    0.0134183   0.00481802  -3.1649e-12  9.42949e-14   -0.0153546  7.43654e-12 -2.35279e-13  2.15206e-12 -7.82316e-15   0.00117317   0.00117317   -0.0447112      1.06334 -2.23713e-11 -5.18872e-16  0.000152329          nan          nan          nan          nan          nan          nan          nan          nan          nan          nan          nan          nan\r\n",
      "   0.0745352  4.89967e-06 -3.04953e-14 -3.15932e-14    0.0700995  4.60809e-06   1.0428e-10 -1.03015e-10  5.13569e-11   -0.0303573  1.04949e-05 -1.77418e-11  -0.00920861  0.000250264   -0.0362794 -2.38487e-06  4.84052e-13  4.99076e-13 -1.81565e-11  1.76135e-11    -0.195077 -6.34095e-14  1.71544e-13          nan          nan          nan          nan          nan          nan          nan          nan          nan          nan          nan          nan\r\n",
      " 4.89967e-06   -0.0745352  3.48878e-12  2.20532e-12  4.60809e-06   -0.0700995  2.09764e-14 -2.18616e-14  9.70249e-15 -1.04949e-05   -0.0303573 -2.79867e-15  0.000250264   0.00920861 -2.38487e-06    0.0362794 -6.42424e-14   4.7996e-13  1.00369e-14  5.03983e-15 -6.34364e-14    -0.195077 -4.87884e-11          nan          nan          nan          nan          nan          nan          nan          nan          nan          nan          nan          nan\r\n",
      "-2.56194e-14 -5.99578e-12   -0.0140676   -0.0140676 -3.10459e-15 -4.10366e-12 -0.000159981  0.000159981 -6.09548e-05  1.52536e-14 -5.97274e-12  2.85265e-05  4.00101e-14  1.50172e-12 -1.97722e-15  1.10925e-12  -0.00609404  -0.00609404 -0.000180538  0.000180538  3.69248e-13 -5.03309e-11     0.940146          nan          nan          nan          nan          nan          nan          nan          nan          nan          nan          nan          nan\r\n",
      "        -nan         -nan         -nan         -nan         -nan         -nan         -nan         -nan         -nan         -nan         -nan         -nan         -nan         -nan         -nan         -nan         -nan         -nan         -nan         -nan         -nan         -nan         -nan          nan          nan          nan          nan          nan          nan          nan          nan          nan          nan          nan          nan\r\n",
      "        -nan         -nan         -nan         -nan         -nan         -nan         -nan         -nan         -nan         -nan         -nan         -nan         -nan         -nan         -nan         -nan         -nan         -nan         -nan         -nan         -nan         -nan         -nan         -nan         -nan         -nan         -nan         -nan         -nan         -nan         -nan         -nan         -nan         -nan         -nan\r\n",
      "        -nan         -nan         -nan         -nan         -nan         -nan         -nan         -nan         -nan         -nan         -nan         -nan         -nan         -nan         -nan         -nan         -nan         -nan         -nan         -nan         -nan         -nan         -nan         -nan         -nan         -nan         -nan         -nan         -nan         -nan         -nan         -nan         -nan         -nan         -nan\r\n",
      "        -nan         -nan         -nan         -nan         -nan         -nan         -nan         -nan         -nan         -nan         -nan         -nan         -nan         -nan         -nan         -nan         -nan         -nan         -nan         -nan         -nan         -nan         -nan          nan          nan          nan          nan          nan          nan          nan          nan          nan          nan          nan          nan\r\n",
      "        -nan         -nan         -nan         -nan         -nan         -nan         -nan         -nan         -nan         -nan         -nan         -nan         -nan         -nan         -nan         -nan         -nan         -nan         -nan         -nan         -nan         -nan         -nan          nan          nan          nan          nan          nan          nan          nan          nan          nan          nan          nan          nan\r\n",
      "        -nan         -nan         -nan         -nan         -nan         -nan         -nan         -nan         -nan         -nan         -nan         -nan         -nan         -nan         -nan         -nan         -nan         -nan         -nan         -nan         -nan         -nan         -nan         -nan         -nan         -nan         -nan         -nan         -nan         -nan         -nan         -nan         -nan         -nan         -nan\r\n",
      "        -nan         -nan         -nan         -nan         -nan         -nan         -nan         -nan         -nan         -nan         -nan         -nan         -nan         -nan         -nan         -nan         -nan         -nan         -nan         -nan         -nan         -nan         -nan         -nan         -nan         -nan         -nan         -nan         -nan         -nan         -nan         -nan         -nan         -nan         -nan\r\n",
      "        -nan         -nan         -nan         -nan         -nan         -nan         -nan         -nan         -nan         -nan         -nan         -nan         -nan         -nan         -nan         -nan         -nan         -nan         -nan         -nan         -nan         -nan         -nan          nan          nan          nan          nan          nan          nan          nan          nan          nan          nan          nan          nan\r\n",
      "        -nan         -nan         -nan         -nan         -nan         -nan         -nan         -nan         -nan         -nan         -nan         -nan         -nan         -nan         -nan         -nan         -nan         -nan         -nan         -nan         -nan         -nan         -nan          nan          nan          nan          nan          nan          nan          nan          nan          nan          nan          nan          nan\r\n",
      "        -nan         -nan         -nan         -nan         -nan         -nan         -nan         -nan         -nan         -nan         -nan         -nan         -nan         -nan         -nan         -nan         -nan         -nan         -nan         -nan         -nan         -nan         -nan         -nan          nan          nan          nan         -nan          nan          nan          nan         -nan          nan          nan          nan\r\n",
      "        -nan         -nan         -nan         -nan         -nan         -nan         -nan         -nan         -nan         -nan         -nan         -nan         -nan         -nan         -nan         -nan         -nan         -nan         -nan         -nan         -nan         -nan         -nan         -nan          nan          nan          nan         -nan          nan          nan          nan         -nan          nan          nan          nan\r\n",
      "        -nan         -nan         -nan         -nan         -nan         -nan         -nan         -nan         -nan         -nan         -nan         -nan         -nan         -nan         -nan         -nan         -nan         -nan         -nan         -nan         -nan         -nan         -nan         -nan         -nan         -nan         -nan         -nan         -nan         -nan         -nan         -nan         -nan         -nan         -nan\r\n",
      "B\r\n",
      "   0.0901503 -1.28326e-15 -2.34944e-15 -3.00014e-15    0.0325949 -1.26034e-15  9.86198e-12 -1.03967e-11  8.89754e-12   -0.0147607  4.13264e-06 -3.29353e-12    0.0480731  -0.00130965   -0.0477326  1.90385e-15  8.00302e-14  6.38026e-14 -2.32547e-12  2.92998e-12   -0.0243816 -1.60276e-06 -2.97182e-14         -nan         -nan         -nan         -nan         -nan         -nan         -nan         -nan         -nan         -nan         -nan         -nan\r\n",
      "-1.29675e-15    0.0901503 -8.55351e-13 -1.39013e-12 -1.27738e-15    0.0325949 -8.95311e-16  1.52584e-15  -8.0642e-16  4.13264e-06    0.0147607 -1.44958e-17   0.00130965    0.0480731  1.94349e-15   -0.0477326 -9.01955e-13 -2.97391e-13 -8.35075e-15  2.45408e-14 -1.60276e-06    0.0243816 -5.78692e-12         -nan         -nan         -nan         -nan         -nan         -nan         -nan         -nan         -nan         -nan         -nan         -nan\r\n",
      "-2.34946e-15 -8.55351e-13    0.0988831  -0.00551473  8.45657e-16  -7.4734e-13 -3.15771e-05  3.15771e-05 -1.83507e-05  3.64025e-15  2.22635e-12   8.9973e-06  5.42214e-15  2.97346e-13 -2.36825e-15 -4.99086e-13    0.0657105   0.00223315  6.95777e-05  -0.00179889 -3.56778e-16  1.65281e-12   -0.0406749         -nan         -nan         -nan         -nan         -nan         -nan         -nan         -nan         -nan         -nan         -nan         -nan\r\n",
      "-3.00013e-15 -1.39013e-12  -0.00551473    0.0988831 -1.47029e-16 -2.50502e-13 -3.15771e-05  3.15771e-05 -1.83507e-05  3.55456e-15 -1.15694e-13   8.9973e-06  9.71586e-15  4.51286e-13 -2.04707e-15  4.74211e-12   0.00223315    0.0657105   0.00179889 -6.95777e-05   2.5784e-17 -2.98344e-13   -0.0406749         -nan         -nan         -nan         -nan         -nan         -nan         -nan         -nan         -nan         -nan         -nan         -nan\r\n",
      "   0.0325949 -1.26926e-15  8.45622e-16 -1.47018e-16     0.236331  -1.8272e-17  5.39497e-13 -4.26357e-14  5.61574e-13   -0.0143743  4.02445e-06  2.17728e-12  -0.00952117  0.000259385    0.0423454  7.48948e-15 -3.94179e-14  -6.0719e-14  2.19342e-12  -1.4142e-12   0.00354089  2.32765e-07  3.17709e-15         -nan         -nan         -nan         -nan         -nan         -nan         -nan         -nan         -nan         -nan         -nan         -nan\r\n",
      "-1.25725e-15    0.0325949  -7.4734e-13 -2.50502e-13 -4.73758e-17     0.236331  1.08667e-15 -1.12823e-16  6.12687e-16  4.02445e-06    0.0143743 -9.30231e-16 -0.000259385  -0.00952117  7.30783e-15    0.0423454  -7.7755e-13  1.72044e-15  -7.3335e-16  2.20555e-14  2.32765e-07  -0.00354089 -3.05212e-12         -nan         -nan         -nan         -nan         -nan         -nan         -nan         -nan         -nan         -nan         -nan         -nan\r\n",
      " 9.86198e-12 -8.95304e-16 -3.15771e-05 -3.15771e-05  5.39497e-13  1.08664e-15     0.211669    -0.107271    0.0655439 -1.16469e-11  2.49243e-15   -0.0321361  9.21423e-12 -2.55764e-13  1.20827e-11 -9.84083e-16  0.000797721 -0.000931587    0.0345164    0.0289609  -1.2824e-11  4.67292e-15 -0.000260858         -nan         -nan         -nan         -nan         -nan         -nan         -nan         -nan         -nan         -nan         -nan         -nan\r\n",
      "-1.03967e-11  1.52584e-15  3.15771e-05  3.15771e-05 -4.26357e-14 -1.12764e-16    -0.107271     0.211669   -0.0655439  1.39889e-11 -2.58276e-15    0.0321361 -9.06029e-12  2.51439e-13 -6.84144e-12  6.51903e-16  0.000931587 -0.000797721    0.0289609    0.0345164  1.47614e-11 -3.91882e-15  0.000260858         -nan         -nan         -nan         -nan         -nan         -nan         -nan         -nan         -nan         -nan         -nan         -nan\r\n",
      " 8.89754e-12 -8.06493e-16 -1.83507e-05 -1.83507e-05  5.61574e-13  6.12674e-16    0.0655439   -0.0655439     0.423732  -9.9252e-12  2.38312e-15    0.0111903  3.58551e-13  -1.0049e-14  4.01304e-12 -3.31946e-16  1.91742e-05  1.91742e-05 -0.000696656  0.000696656 -1.32654e-11 -2.04983e-17 -0.000107189         -nan         -nan         -nan         -nan         -nan         -nan         -nan         -nan         -nan         -nan         -nan         -nan\r\n",
      "  -0.0147607  4.13264e-06  3.64023e-15  3.55452e-15   -0.0143743  4.02445e-06 -1.16469e-11  1.39889e-11  -9.9252e-12     0.445598 -7.80516e-17  2.20223e-12 -0.000472614  1.30078e-05    0.0108238 -3.03039e-06 -9.95151e-14  3.80483e-14 -1.33397e-12 -3.61548e-12    0.0177641  6.14124e-06  2.14299e-14         -nan         -nan         -nan         -nan         -nan         -nan         -nan         -nan         -nan         -nan         -nan         -nan\r\n",
      " 4.13264e-06    0.0147607  2.22635e-12 -1.15694e-13  4.02445e-06    0.0143743  2.49244e-15 -2.58289e-15   2.3831e-15  4.70431e-17     0.445598  6.73028e-17  1.30078e-05  0.000472614 -3.03039e-06   -0.0108238 -5.62861e-12 -6.79145e-13 -1.89361e-14  1.56489e-13 -6.14124e-06    0.0177641 -8.45526e-12         -nan         -nan         -nan         -nan         -nan         -nan         -nan         -nan         -nan         -nan         -nan         -nan\r\n",
      "-3.29353e-12 -1.45025e-17   8.9973e-06   8.9973e-06  2.17728e-12 -9.30327e-16   -0.0321361    0.0321361    0.0111903  2.20223e-12  6.72349e-17     0.626438 -3.54076e-12  9.78276e-14 -5.04634e-12  7.64592e-16 -0.000605029 -0.000605029    0.0219826   -0.0219826  2.73772e-12 -1.27154e-15  5.14777e-05         -nan         -nan         -nan         -nan         -nan         -nan         -nan         -nan         -nan         -nan         -nan         -nan\r\n",
      "   0.0480731   0.00130965  5.42214e-15  9.71586e-15  -0.00952117 -0.000259385  9.21423e-12 -9.06029e-12  3.58551e-13 -0.000472614  1.30078e-05 -3.54076e-12     0.912633  3.95668e-14    0.0214929  0.000585529   4.4035e-13  4.39606e-13 -1.56698e-11  1.37765e-11    0.0226704 -0.000616118  2.53969e-14         -nan         -nan         -nan         -nan         -nan         -nan         -nan         -nan         -nan         -nan         -nan         -nan\r\n",
      " -0.00130965    0.0480731  2.97346e-13  4.51286e-13  0.000259385  -0.00952117 -2.55764e-13  2.51439e-13 -1.00491e-14  1.30078e-05  0.000472614  9.78276e-14  3.95449e-14     0.912633 -0.000585529    0.0214929  2.19853e-12  3.05212e-13  4.41169e-13 -4.40432e-13 -0.000616118   -0.0226704  1.04166e-12         -nan         -nan         -nan         -nan         -nan         -nan         -nan         -nan         -nan         -nan         -nan         -nan\r\n",
      "  -0.0477326  1.93973e-15 -2.36823e-15   -2.047e-15    0.0423454  7.33519e-15  1.20827e-11 -6.84144e-12  4.01304e-12    0.0108238 -3.03039e-06 -5.04634e-12    0.0214929 -0.000585529     0.950071  5.96121e-15  1.02345e-13  1.52396e-13 -5.57221e-12  3.69527e-12  -0.00314125 -2.06494e-07 -9.53608e-15         -nan         -nan         -nan         -nan         -nan         -nan         -nan         -nan         -nan         -nan         -nan         -nan\r\n",
      " 1.90901e-15   -0.0477326 -4.99086e-13  4.74211e-12   7.4777e-15    0.0423454 -9.83968e-16  6.51831e-16 -3.31932e-16 -3.03039e-06   -0.0108238  7.64583e-16  0.000585529    0.0214929  5.93805e-15     0.950071  6.89121e-13 -1.18777e-12 -3.15667e-14 -1.84321e-14 -2.06494e-07   0.00314125  2.13886e-12         -nan         -nan         -nan         -nan         -nan         -nan         -nan         -nan         -nan         -nan         -nan         -nan\r\n",
      " 8.00302e-14 -9.01955e-13    0.0657105   0.00223315 -3.94179e-14  -7.7755e-13  0.000797721  0.000931587  1.91742e-05 -9.95151e-14 -5.62861e-12 -0.000605029   4.4035e-13  2.19853e-12  1.02345e-13  6.89121e-13      1.04433   0.00445862  -0.00217596   0.00217596 -2.15879e-13 -4.62392e-13   -0.0159124         -nan         -nan         -nan         -nan         -nan         -nan         -nan         -nan         -nan         -nan         -nan         -nan\r\n",
      " 6.38026e-14 -2.97391e-13   0.00223315    0.0657105  -6.0719e-14  1.72043e-15 -0.000931587 -0.000797721  1.91742e-05  3.80483e-14 -6.79145e-13 -0.000605029  4.39606e-13  3.05212e-13  1.52396e-13 -1.18777e-12   0.00445862      1.04433  -0.00217596   0.00217596 -1.79715e-13  8.94002e-13   -0.0159124         -nan         -nan         -nan         -nan         -nan         -nan         -nan         -nan         -nan         -nan         -nan         -nan\r\n",
      "-2.32547e-12 -8.35075e-15  6.95777e-05   0.00179889  2.19342e-12 -7.33348e-16    0.0345164    0.0289609 -0.000696656 -1.33397e-12 -1.89361e-14    0.0219826 -1.56698e-11  4.41169e-13 -5.57221e-12 -3.15667e-14  -0.00217596  -0.00217596      1.12333   -0.0834579   6.4596e-12  2.41083e-14 -0.000492841         -nan         -nan         -nan         -nan         -nan         -nan         -nan         -nan         -nan         -nan         -nan         -nan\r\n",
      " 2.92998e-12  2.45408e-14  -0.00179889 -6.95777e-05  -1.4142e-12  2.20555e-14    0.0289609    0.0345164  0.000696656 -3.61548e-12  1.56489e-13   -0.0219826  1.37765e-11 -4.40432e-13  3.69527e-12 -1.84321e-14   0.00217596   0.00217596   -0.0834579      1.12333 -7.81999e-12  1.20117e-14  0.000492841         -nan         -nan         -nan         -nan         -nan         -nan         -nan         -nan         -nan         -nan         -nan         -nan\r\n",
      "  -0.0558853  -3.6737e-06  1.88288e-14   1.9465e-14   0.00253709  1.66779e-07 -8.09812e-11  8.25505e-11 -1.27408e-11    0.0110902   -3.834e-06  3.12369e-12    0.0177163 -0.000481478   -0.0178963 -1.17644e-06  7.07247e-14  9.91004e-14  -3.6711e-12  2.59985e-12     0.582693  -1.8416e-14  2.90253e-13         -nan         -nan         -nan         -nan         -nan         -nan         -nan         -nan         -nan         -nan         -nan         -nan\r\n",
      " -3.6737e-06    0.0558853  9.27333e-13  -6.4793e-13  1.66779e-07  -0.00253709 -7.85007e-15  8.68325e-15 -4.14239e-16    3.834e-06    0.0110902  -7.7676e-16 -0.000481478   -0.0177163 -1.17644e-06    0.0178963 -5.20612e-15   1.0616e-12   2.7101e-14  1.26212e-15 -1.83587e-14     0.582693 -5.82142e-11         -nan         -nan         -nan         -nan         -nan         -nan         -nan         -nan         -nan         -nan         -nan         -nan\r\n",
      "-2.45339e-14 -5.48826e-12   -0.0411213   -0.0411213  2.28948e-15 -3.67312e-12 -0.000238212  0.000238212 -0.000104238  2.07459e-14 -9.75833e-12   5.0364e-05  3.78357e-14  1.51095e-12 -8.86438e-15  3.07312e-12   -0.0168145   -0.0168145  -0.00051462   0.00051462  4.77285e-13 -6.13897e-11      1.94216         -nan         -nan         -nan         -nan         -nan         -nan         -nan         -nan         -nan         -nan         -nan         -nan\r\n",
      "        -nan         -nan         -nan         -nan         -nan         -nan         -nan         -nan         -nan         -nan         -nan         -nan         -nan         -nan         -nan         -nan         -nan         -nan         -nan         -nan         -nan         -nan         -nan         -nan         -nan         -nan         -nan         -nan         -nan         -nan         -nan         -nan         -nan         -nan         -nan\r\n",
      "        -nan         -nan         -nan         -nan         -nan         -nan         -nan         -nan         -nan         -nan         -nan         -nan         -nan         -nan         -nan         -nan         -nan         -nan         -nan         -nan         -nan         -nan         -nan         -nan         -nan         -nan         -nan         -nan         -nan         -nan         -nan         -nan         -nan         -nan         -nan\r\n",
      "        -nan         -nan         -nan         -nan         -nan         -nan         -nan         -nan         -nan         -nan         -nan         -nan         -nan         -nan         -nan         -nan         -nan         -nan         -nan         -nan         -nan         -nan         -nan         -nan         -nan         -nan         -nan         -nan         -nan         -nan         -nan         -nan         -nan         -nan         -nan\r\n",
      "        -nan         -nan         -nan         -nan         -nan         -nan         -nan         -nan         -nan         -nan         -nan         -nan         -nan         -nan         -nan         -nan         -nan         -nan         -nan         -nan         -nan         -nan         -nan         -nan         -nan         -nan         -nan         -nan         -nan         -nan         -nan         -nan         -nan         -nan         -nan\r\n",
      "        -nan         -nan         -nan         -nan         -nan         -nan         -nan         -nan         -nan         -nan         -nan         -nan         -nan         -nan         -nan         -nan         -nan         -nan         -nan         -nan         -nan         -nan         -nan         -nan         -nan         -nan         -nan         -nan         -nan         -nan         -nan         -nan         -nan         -nan         -nan\r\n",
      "        -nan         -nan         -nan         -nan         -nan         -nan         -nan         -nan         -nan         -nan         -nan         -nan         -nan         -nan         -nan         -nan         -nan         -nan         -nan         -nan         -nan         -nan         -nan         -nan         -nan         -nan         -nan         -nan         -nan         -nan         -nan         -nan         -nan         -nan         -nan\r\n",
      "        -nan         -nan         -nan         -nan         -nan         -nan         -nan         -nan         -nan         -nan         -nan         -nan         -nan         -nan         -nan         -nan         -nan         -nan         -nan         -nan         -nan         -nan         -nan         -nan         -nan         -nan         -nan         -nan         -nan         -nan         -nan         -nan         -nan         -nan         -nan\r\n",
      "        -nan         -nan         -nan         -nan         -nan         -nan         -nan         -nan         -nan         -nan         -nan         -nan         -nan         -nan         -nan         -nan         -nan         -nan         -nan         -nan         -nan         -nan         -nan         -nan         -nan         -nan         -nan         -nan         -nan         -nan         -nan         -nan         -nan         -nan         -nan\r\n",
      "        -nan         -nan         -nan         -nan         -nan         -nan         -nan         -nan         -nan         -nan         -nan         -nan         -nan         -nan         -nan         -nan         -nan         -nan         -nan         -nan         -nan         -nan         -nan         -nan         -nan         -nan         -nan         -nan         -nan         -nan         -nan         -nan         -nan         -nan         -nan\r\n",
      "        -nan         -nan         -nan         -nan         -nan         -nan         -nan         -nan         -nan         -nan         -nan         -nan         -nan         -nan         -nan         -nan         -nan         -nan         -nan         -nan         -nan         -nan         -nan         -nan         -nan         -nan         -nan         -nan         -nan         -nan         -nan         -nan         -nan         -nan         -nan\r\n",
      "        -nan         -nan         -nan         -nan         -nan         -nan         -nan         -nan         -nan         -nan         -nan         -nan         -nan         -nan         -nan         -nan         -nan         -nan         -nan         -nan         -nan         -nan         -nan         -nan         -nan         -nan         -nan         -nan         -nan         -nan         -nan         -nan         -nan         -nan         -nan\r\n",
      "        -nan         -nan         -nan         -nan         -nan         -nan         -nan         -nan         -nan         -nan         -nan         -nan         -nan         -nan         -nan         -nan         -nan         -nan         -nan         -nan         -nan         -nan         -nan          nan          nan          nan          nan          nan          nan          nan          nan          nan          nan          nan          nan\r\n",
      "an error occurred:\r\n",
      "Small generalized eigenvalue problem failed.\r\n"
     ]
    }
   ],
   "source": [
    "!xtp_tools -c job_name=CO geometry_optimization.maxiter=1 dftpackage.basisset=3-21G dftpackage.auxbasisset=aux-def2-svp gwbse.gw.mode=G0W0 -e dftgwbse -t 4"
   ]
  },
  {
   "cell_type": "markdown",
   "metadata": {},
   "source": [
    "Notice that we are using 4 threads. The results will be stored in a file named `CO_summary.xml` in the current work directory, together with the optimization step in `optimisation.trj` and the orbitals in [hdf5 format](https://www.hdfgroup.org/solutions/hdf5/) saved on `CO.orb`."
   ]
  }
 ],
 "metadata": {
  "kernelspec": {
   "display_name": "Python 3",
   "language": "python",
   "name": "python3"
  },
  "language_info": {
   "codemirror_mode": {
    "name": "ipython",
    "version": 3
   },
   "file_extension": ".py",
   "mimetype": "text/x-python",
   "name": "python",
   "nbconvert_exporter": "python",
   "pygments_lexer": "ipython3",
   "version": "3.10.0"
  }
 },
 "nbformat": 4,
 "nbformat_minor": 4
}
