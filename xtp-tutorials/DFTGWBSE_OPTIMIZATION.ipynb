{
 "cells": [
  {
   "cell_type": "markdown",
   "metadata": {},
   "source": [
    "## DFT + GWBSE Optimization Using CO"
   ]
  },
  {
   "cell_type": "markdown",
   "metadata": {},
   "source": [
    "## Introduction\n",
    "This tutorial explains how to perform a molecular geometric optimization using the **GWBSE** method. See [the GW Compendium: A Practical Guide to Theoretical Photoemission Spectroscopy](https://doi.org/10.3389/fchem.2019.00377), for an excellent introduction to the method."
   ]
  },
  {
   "cell_type": "markdown",
   "metadata": {},
   "source": [
    "## Requirements\n",
    "* You will need to install **VOTCA** using the instructions described [here](https://github.com/votca/votca/blob/master/share/doc/INSTALL.rst)\n",
    "* Once the installation is completed you need to activate the VOTCA enviroment by running the `VOTCARC.bash` script that has been installed at the bin subfolder for the path that you have provided for the installation step above"
   ]
  },
  {
   "cell_type": "markdown",
   "metadata": {},
   "source": [
    "## Preparing the input\n",
    "To run a DFT-GWBSE calculation we will use the [xtp_tools](https://www.votca.org/xtp/xtp_tools_overview.html) calculator."
   ]
  },
  {
   "cell_type": "markdown",
   "metadata": {},
   "source": [
    "we can now change the calculator mode from single point energy calculation to optimization as follows by adding \n",
    "`-c geometry_optimization.maxiter=1` which enables optimization with one iteration. "
   ]
  },
  {
   "cell_type": "markdown",
   "metadata": {},
   "source": [
    "Because geometry optimsation is quite expensive numerically we chose a smaller basisset and G0W0 Finally, to run the calculation we just need the following command (This still takes a while)"
   ]
  },
  {
   "cell_type": "code",
   "execution_count": 1,
   "metadata": {
    "execution": {
     "iopub.execute_input": "2023-04-21T05:19:22.208519Z",
     "iopub.status.busy": "2023-04-21T05:19:22.207517Z",
     "iopub.status.idle": "2023-04-21T05:19:58.720958Z",
     "shell.execute_reply": "2023-04-21T05:19:58.719449Z"
    }
   },
   "outputs": [
    {
     "name": "stdout",
     "output_type": "stream",
     "text": [
      "==================================================\r\n",
      "========   VOTCA (http://www.votca.org)   ========\r\n",
      "==================================================\r\n",
      "\r\n",
      "please submit bugs to https://github.com/votca/votca/issues\r\n",
      "\r\n",
      "xtp_tools, version 2024-dev gitid: b533e39 (compiled Apr 21 2023, 05:15:57)\r\n",
      "\r\n",
      "Initializing tool\r\n",
      "... dftgwbse Evaluating tool\r\n",
      "... dftgwbse  Using 4 threads\r\n",
      "... ... Reading structure from CO.xyz\r\n",
      "... ... Requested geometry optimization of excited state s1\r\n",
      "... ... Initial state: s1\r\n",
      "... ... WARNING: No tracker is used \r\n",
      "... ... Convergence of total energy: 0.000001 Hartree \r\n",
      "... ... Convergence of RMS Force:    0.000030 Hartree/Bohr \r\n",
      "... ... Convergence of Max Force:    0.000100 Hartree/Bohr \r\n",
      "... ... Convergence of RMS Step:     0.000600 Bohr \r\n",
      "... ... Convergence of Max Step:     0.001000 Bohr \r\n",
      "... ... Initial trust radius:        0.018897 BohrA\r\n",
      "    0.307132  3.06077e-11   1.7988e-10 -5.20124e-10 -2.32194e-11   -0.0516061  1.11657e-09  1.03683e-09  3.87603e-10   -0.0181647  -0.00104126  1.10437e-10    0.0104044   -0.0375611  2.00289e-11    0.0421019 -2.08545e-10  9.11475e-11  3.57728e-10   1.5889e-10  -0.00047963     0.108408 -1.82905e-10  6.95571e-11          nan          nan          nan          nan          nan          nan          nan          nan          nan          nan          nan\r\n",
      " 3.06077e-11     0.307132 -3.88992e-10  3.09251e-10   -0.0516061 -2.32195e-11  2.45195e-09   2.7922e-09   8.2212e-10   0.00104126   -0.0181647  3.85174e-10   -0.0375611   -0.0104044    0.0421019  2.00288e-11 -1.92152e-10 -6.68582e-12  5.01658e-10  6.19056e-10    -0.108408  -0.00047963  1.68209e-11 -3.06626e-10          nan          nan          nan          nan          nan          nan          nan          nan          nan          nan          nan\r\n",
      "  1.7988e-10 -3.88992e-10     0.320604   0.00929031  1.39966e-11 -3.03764e-11   -0.0131692   -0.0131692   -0.0049108 -1.46123e-10  1.02534e-10  -0.00209215  1.19122e-11  2.07183e-10 -1.19204e-10 -7.50908e-12   -0.0470521   0.00129459  -0.00255609   -0.0152309  9.88286e-10 -3.13741e-10   -0.0254857   0.00392364          nan          nan          nan          nan          nan          nan          nan          nan          nan          nan          nan\r\n",
      "-5.20124e-10  3.09251e-10   0.00929031     0.320604 -2.23708e-11    4.351e-10    0.0131692    0.0131692    0.0049108  1.66394e-10 -1.48443e-10   0.00209215  8.11697e-12 -1.82279e-10  1.27859e-11 -4.05429e-10   0.00129459   -0.0470521    0.0152309   0.00255609 -9.64355e-10 -2.06417e-10    0.0254857   0.00392364          nan          nan          nan          nan          nan          nan          nan          nan          nan          nan          nan\r\n",
      "-2.32194e-11   -0.0516061  1.39966e-11 -2.23708e-11     0.490902  2.83309e-12  1.49001e-09  1.08528e-09  6.28849e-10 -0.000770481     0.013441  1.85914e-10  -0.00770377  -0.00213394    0.0309987 -6.61272e-11 -4.61694e-11  3.03306e-10  2.07886e-10  6.15045e-11    0.0531267  0.000235049  2.09481e-10  1.12441e-10          nan          nan          nan          nan          nan          nan          nan          nan          nan          nan          nan\r\n",
      "  -0.0516061 -2.32195e-11 -3.03764e-11    4.351e-10  2.83311e-12     0.490902 -9.29689e-11 -1.01343e-10 -6.25893e-11     0.013441  0.000770481  5.22894e-12   0.00213394  -0.00770377 -6.61274e-11    0.0309987  1.53633e-10 -7.25141e-12 -8.27069e-11   1.7443e-10  0.000235049   -0.0531267 -4.46057e-11  -5.1651e-11          nan          nan          nan          nan          nan          nan          nan          nan          nan          nan          nan\r\n",
      " 1.11657e-09  2.45195e-09   -0.0131692    0.0131692  1.49001e-09 -9.29689e-11     0.549585     0.219691    0.0856688 -1.42924e-11 -7.24908e-10    0.0364976 -8.31936e-10 -2.62355e-09 -6.31687e-10  2.54415e-10   -0.0113554  -0.00131936   -0.0126962    0.0330612 -1.34042e-08  8.26896e-09   0.00154477    0.0223046          nan          nan          nan          nan          nan          nan          nan          nan          nan          nan          nan\r\n",
      " 1.03683e-09   2.7922e-09   -0.0131692    0.0131692  1.08528e-09 -1.01343e-10     0.219691     0.549585    0.0856688 -6.02019e-11 -7.45179e-10    0.0364976 -8.56839e-10 -2.60352e-09 -2.18748e-10  1.47997e-10   0.00131936    0.0113554    0.0330612   -0.0126962 -1.39179e-08  8.24149e-09   0.00154477   -0.0223045          nan          nan          nan          nan          nan          nan          nan          nan          nan          nan          nan\r\n",
      " 3.87603e-10   8.2212e-10   -0.0049108    0.0049108  6.28849e-10 -6.25893e-11    0.0856688    0.0856688     0.662947 -1.79993e-10 -5.81858e-10  -0.00632525  -2.9265e-10 -7.01985e-10 -3.36765e-10  9.71821e-11  -0.00131695   0.00131695   0.00387662   0.00387662 -4.33998e-09  3.05321e-09   0.00112546  7.17746e-09          nan          nan          nan          nan          nan          nan          nan          nan          nan          nan          nan\r\n",
      "  -0.0181647   0.00104126 -1.46123e-10  1.66394e-10 -0.000770481     0.013441 -1.42924e-11 -6.02019e-11 -1.79993e-10     0.680922 -1.59491e-12  8.83631e-11 -2.70801e-05  7.97136e-05  0.000494283  -0.00862277  3.86459e-10  2.28708e-13  8.09529e-11  8.90772e-10  -0.00216673   -0.0409703 -6.68909e-10 -8.53492e-10          nan          nan          nan          nan          nan          nan          nan          nan          nan          nan          nan\r\n",
      " -0.00104126   -0.0181647  1.02534e-10 -1.48443e-10     0.013441  0.000770481 -7.24908e-10 -7.45179e-10 -5.81858e-10  -1.5948e-12     0.680922  6.20526e-11  7.97136e-05    2.708e-05  -0.00862277 -0.000494283  -4.1881e-12  8.14007e-10   3.7729e-10  -9.3974e-12    0.0409703  -0.00216673   8.0943e-10  1.11505e-09          nan          nan          nan          nan          nan          nan          nan          nan          nan          nan          nan\r\n",
      " 1.10437e-10  3.85174e-10  -0.00209215   0.00209215  1.85914e-10  5.22894e-12    0.0364976    0.0364976  -0.00632525  8.83631e-11  6.20526e-11      0.79826  1.22325e-11 -3.26474e-10  1.10199e-10  5.76926e-11  -0.00465598   0.00465598    0.0137055    0.0137055 -1.73234e-09   9.7561e-10  0.000446169  2.98752e-09          nan          nan          nan          nan          nan          nan          nan          nan          nan          nan          nan\r\n",
      "   0.0104044   -0.0375611  1.19122e-11  8.11697e-12  -0.00770377   0.00213394 -8.31936e-10 -8.56839e-10  -2.9265e-10 -2.70801e-05  7.97136e-05  1.22325e-11     0.956418 -4.29186e-11    0.0126653  -0.00350828  1.23858e-10 -2.37483e-10 -6.53126e-10 -4.30752e-10   -0.0192723  -0.00543033  6.81152e-12 -1.60782e-10          nan          nan          nan          nan          nan          nan          nan          nan          nan          nan          nan\r\n",
      "  -0.0375611   -0.0104044  2.07183e-10 -1.82279e-10  -0.00213394  -0.00770377 -2.62355e-09 -2.60352e-09 -7.01985e-10  7.97136e-05    2.708e-05 -3.26474e-10 -4.29187e-11     0.956418   0.00350828    0.0126653  4.24868e-10 -6.47242e-10 -1.49157e-09  -1.6052e-09  -0.00543033    0.0192723 -8.92719e-11 -1.17518e-11          nan          nan          nan          nan          nan          nan          nan          nan          nan          nan          nan\r\n",
      " 2.00288e-11    0.0421019 -1.19204e-10  1.27859e-11    0.0309987 -6.61274e-11 -6.31687e-10 -2.18748e-10 -3.36765e-10  0.000494283  -0.00862277  1.10199e-10    0.0126653   0.00350828     0.988566 -3.74003e-11 -2.92358e-11  1.10929e-10 -3.59196e-11  6.16802e-11   -0.0223628 -9.89402e-05  3.29949e-10  2.58212e-10          nan          nan          nan          nan          nan          nan          nan          nan          nan          nan          nan\r\n",
      "   0.0421019  2.00288e-11 -7.50908e-12 -4.05429e-10 -6.61272e-11    0.0309987  2.54415e-10  1.47997e-10  9.71821e-11  -0.00862277 -0.000494283  5.76926e-11  -0.00350828    0.0126653 -3.74002e-11     0.988566 -7.14643e-12 -9.04533e-11  6.75883e-11  1.49281e-10 -9.89402e-05    0.0223628 -1.73239e-10 -1.02142e-10          nan          nan          nan          nan          nan          nan          nan          nan          nan          nan          nan\r\n",
      "-2.08545e-10 -1.92152e-10   -0.0470521   0.00129459 -4.61694e-11  1.53633e-10   -0.0113554   0.00131936  -0.00131695  3.86459e-10  -4.1881e-12  -0.00465598  1.23858e-10  4.24868e-10 -2.92358e-11 -7.14643e-12      1.03321  -0.00656834   -0.0132473   -0.0132473   8.2632e-10 -5.53779e-10   0.00427517 -0.000171826          nan          nan          nan          nan          nan          nan          nan          nan          nan          nan          nan\r\n",
      " 9.11475e-11 -6.68582e-12   0.00129459   -0.0470521  3.03306e-10 -7.25141e-12  -0.00131936    0.0113554   0.00131695  2.28708e-13  8.14007e-10   0.00465598 -2.37483e-10 -6.47242e-10  1.10929e-10 -9.04533e-11  -0.00656834      1.03321    0.0132473    0.0132473 -7.79573e-10  4.51909e-10  -0.00427517 -0.000171824          nan          nan          nan          nan          nan          nan          nan          nan          nan          nan          nan\r\n",
      " 3.57728e-10  5.01658e-10  -0.00255609    0.0152309  2.07886e-10 -8.27069e-11   -0.0126962    0.0330612   0.00387662  8.09529e-11   3.7729e-10    0.0137055 -6.53126e-10 -1.49157e-09 -3.59196e-11  6.75883e-11   -0.0132473    0.0132473       1.0677    0.0410632 -2.36689e-09  1.58684e-09   0.00204332 -0.000566434          nan          nan          nan          nan          nan          nan          nan          nan          nan          nan          nan\r\n",
      "  1.5889e-10  6.19056e-10   -0.0152309   0.00255609  6.15045e-11   1.7443e-10    0.0330612   -0.0126962   0.00387662  8.90772e-10  -9.3974e-12    0.0137055 -4.30752e-10  -1.6052e-09  6.16802e-11  1.49281e-10   -0.0132473    0.0132473    0.0410632       1.0677 -2.46786e-09  1.53954e-09   0.00204332  0.000566439          nan          nan          nan          nan          nan          nan          nan          nan          nan          nan          nan\r\n",
      " 0.000332914    0.0752465 -6.87235e-10  7.32166e-10   -0.0690159 -0.000305348  8.05835e-09  8.33594e-09  3.16346e-09   0.00163477   -0.0309117  1.54311e-09   0.00866591   0.00244179    0.0364086  0.000161083 -5.59065e-10    5.585e-10  1.77528e-09  1.77878e-09    -0.194424  2.21562e-10  4.21801e-09  3.35759e-09          nan          nan          nan          nan          nan          nan          nan          nan          nan          nan          nan\r\n",
      "  -0.0752465  0.000332914 -1.27437e-12  2.85594e-10 -0.000305348    0.0690159 -5.49009e-09 -5.53266e-09 -2.38386e-09    0.0309117   0.00163477 -8.87004e-10   0.00244179  -0.00866591  0.000161083   -0.0364086  4.81843e-10 -4.77599e-10 -1.28064e-09 -1.27919e-09  2.21562e-10    -0.194424  5.54396e-09  1.35773e-09          nan          nan          nan          nan          nan          nan          nan          nan          nan          nan          nan\r\n",
      " 5.99158e-10 -5.29755e-10   -0.0141894    0.0141894  3.68871e-10 -5.51709e-10  -0.00432384  -0.00432384  -0.00131214 -1.02982e-09  1.08955e-09 -0.000526111 -8.36136e-11  8.17397e-11 -4.06841e-11  2.51658e-10   0.00597521  -0.00597521   0.00150787   0.00150787  4.42846e-09  5.45784e-09     0.958307  1.72821e-09          nan          nan          nan          nan          nan          nan          nan          nan          nan          nan          nan\r\n",
      " 2.61624e-10 -4.64881e-10  -0.00113644  -0.00113644 -4.15526e-11 -3.90171e-10  -0.00428218   0.00428216 -3.89379e-09 -8.71031e-10  1.01696e-09 -2.13821e-09 -3.00619e-10   4.9536e-13  2.15734e-10 -1.46047e-10  -0.00209643  -0.00209643  -0.00446329   0.00446329  3.79257e-09  1.45046e-09  2.02556e-09     0.220891          nan          nan          nan          nan          nan          nan          nan          nan          nan          nan          nan\r\n",
      "        -nan         -nan         -nan         -nan         -nan         -nan         -nan         -nan         -nan         -nan         -nan         -nan         -nan         -nan         -nan         -nan         -nan         -nan         -nan         -nan         -nan         -nan         -nan         -nan         -nan         -nan         -nan         -nan         -nan         -nan         -nan         -nan         -nan         -nan         -nan\r\n",
      "        -nan         -nan         -nan         -nan         -nan         -nan         -nan         -nan         -nan         -nan         -nan         -nan         -nan         -nan         -nan         -nan         -nan         -nan         -nan         -nan         -nan         -nan         -nan         -nan         -nan         -nan         -nan         -nan         -nan         -nan         -nan         -nan         -nan         -nan         -nan\r\n",
      "        -nan         -nan         -nan         -nan         -nan         -nan         -nan         -nan         -nan         -nan         -nan         -nan         -nan         -nan         -nan         -nan         -nan         -nan         -nan         -nan         -nan         -nan         -nan         -nan          nan          nan          nan          nan          nan          nan          nan          nan          nan          nan          nan\r\n",
      "        -nan         -nan         -nan         -nan         -nan         -nan         -nan         -nan         -nan         -nan         -nan         -nan         -nan         -nan         -nan         -nan         -nan         -nan         -nan         -nan         -nan         -nan         -nan         -nan          nan          nan          nan          nan          nan          nan          nan          nan          nan          nan          nan\r\n",
      "        -nan         -nan         -nan         -nan         -nan         -nan         -nan         -nan         -nan         -nan         -nan         -nan         -nan         -nan         -nan         -nan         -nan         -nan         -nan         -nan         -nan         -nan         -nan         -nan         -nan         -nan         -nan         -nan         -nan         -nan         -nan         -nan         -nan         -nan         -nan\r\n",
      "        -nan         -nan         -nan         -nan         -nan         -nan         -nan         -nan         -nan         -nan         -nan         -nan         -nan         -nan         -nan         -nan         -nan         -nan         -nan         -nan         -nan         -nan         -nan         -nan         -nan         -nan         -nan         -nan         -nan         -nan         -nan         -nan         -nan         -nan         -nan\r\n",
      "        -nan         -nan         -nan         -nan         -nan         -nan         -nan         -nan         -nan         -nan         -nan         -nan         -nan         -nan         -nan         -nan         -nan         -nan         -nan         -nan         -nan         -nan         -nan         -nan          nan          nan          nan          nan          nan          nan          nan          nan          nan          nan          nan\r\n",
      "        -nan         -nan         -nan         -nan         -nan         -nan         -nan         -nan         -nan         -nan         -nan         -nan         -nan         -nan         -nan         -nan         -nan         -nan         -nan         -nan         -nan         -nan         -nan         -nan          nan          nan          nan          nan          nan          nan          nan          nan          nan          nan          nan\r\n",
      "        -nan         -nan         -nan         -nan         -nan         -nan         -nan         -nan         -nan         -nan         -nan         -nan         -nan         -nan         -nan         -nan         -nan         -nan         -nan         -nan         -nan         -nan         -nan         -nan          nan          nan          nan         -nan          nan          nan          nan         -nan          nan          nan          nan\r\n",
      "        -nan         -nan         -nan         -nan         -nan         -nan         -nan         -nan         -nan         -nan         -nan         -nan         -nan         -nan         -nan         -nan         -nan         -nan         -nan         -nan         -nan         -nan         -nan         -nan          nan          nan          nan         -nan          nan          nan          nan         -nan          nan          nan          nan\r\n",
      "        -nan         -nan         -nan         -nan         -nan         -nan         -nan         -nan         -nan         -nan         -nan         -nan         -nan         -nan         -nan         -nan         -nan         -nan         -nan         -nan         -nan         -nan         -nan         -nan         -nan         -nan         -nan         -nan         -nan         -nan         -nan         -nan         -nan         -nan         -nan\r\n",
      "B\r\n",
      "    0.093811  1.36033e-11  9.61759e-11 -3.20879e-10 -1.42795e-11   -0.0328898  4.68216e-10  4.11258e-10   2.3851e-10   -0.0155317 -0.000890323  6.35292e-11    0.0129012   -0.0465748  2.32699e-11    0.0481429 -2.59301e-10  1.01687e-10  3.59467e-10  8.39263e-11 -0.000111085    0.0251078  4.90524e-10  3.15008e-10         -nan         -nan         -nan         -nan         -nan         -nan         -nan         -nan         -nan         -nan         -nan\r\n",
      " 1.36033e-11     0.093811 -2.01212e-10  1.44254e-10   -0.0328898 -1.42795e-11  9.67756e-10  1.19246e-09  5.07325e-10  0.000890323   -0.0155317  2.54845e-10   -0.0465748   -0.0129012    0.0481429  2.32699e-11  -1.6495e-10 -1.10591e-10  4.29882e-10  5.87496e-10   -0.0251078 -0.000111085 -5.38509e-10 -6.56084e-10         -nan         -nan         -nan         -nan         -nan         -nan         -nan         -nan         -nan         -nan         -nan\r\n",
      " 9.61759e-11 -2.01212e-10      0.10587   0.00531175  1.86451e-11 -2.58785e-11  -0.00667148  -0.00667148  -0.00361121 -1.36148e-10  8.75506e-11  -0.00164042  2.39902e-11  2.29958e-10 -1.50947e-10 -1.30609e-11   -0.0640505   0.00171078  -0.00245488    -0.019723  7.98765e-11 -1.94513e-10   -0.0418869    0.0028289         -nan         -nan         -nan         -nan         -nan         -nan         -nan         -nan         -nan         -nan         -nan\r\n",
      "-3.20879e-10  1.44254e-10   0.00531175      0.10587 -2.22141e-11  3.15392e-10   0.00667148   0.00667148   0.00361121  1.60338e-10 -1.30127e-10   0.00164042  2.85285e-12 -1.93086e-10  9.17742e-12 -5.05909e-10   0.00171078   -0.0640505     0.019723   0.00245488 -5.29681e-12 -4.79133e-11    0.0418869    0.0028289         -nan         -nan         -nan         -nan         -nan         -nan         -nan         -nan         -nan         -nan         -nan\r\n",
      "-1.42795e-11   -0.0328898  1.86451e-11 -2.22141e-11     0.240891  6.63788e-13  9.44025e-10  6.54512e-10  5.49395e-10 -0.000827993    0.0144443  1.60933e-10  -0.00881162  -0.00244082    0.0441772  -9.1923e-11 -4.10412e-11  4.25113e-10  2.14983e-10  1.15065e-11  -0.00438142 -1.93848e-05  5.21141e-10 -7.61385e-12         -nan         -nan         -nan         -nan         -nan         -nan         -nan         -nan         -nan         -nan         -nan\r\n",
      "  -0.0328898 -1.42795e-11 -2.58785e-11  3.15392e-10  6.63817e-13     0.240891 -4.37679e-11 -4.73369e-11 -4.47235e-11    0.0144443  0.000827993  1.05902e-11   0.00244082  -0.00881162 -9.19233e-11    0.0441772  2.22873e-10 -1.93964e-11 -1.02561e-10  2.81511e-10 -1.93848e-05   0.00438142 -4.88451e-10 -3.69075e-10         -nan         -nan         -nan         -nan         -nan         -nan         -nan         -nan         -nan         -nan         -nan\r\n",
      " 4.68216e-10  9.67756e-10  -0.00667148   0.00667148  9.44025e-10 -4.37679e-11     0.221872      0.11069    0.0629976 -1.78841e-11 -5.48446e-10    0.0286171 -9.98471e-10 -2.90206e-09 -7.94469e-10  2.58596e-10   -0.0100861    -0.007182   -0.0330794    0.0292603 -1.48727e-09  5.30293e-10  -0.00289599    0.0182644         -nan         -nan         -nan         -nan         -nan         -nan         -nan         -nan         -nan         -nan         -nan\r\n",
      " 4.11258e-10  1.19246e-09  -0.00667148   0.00667148  6.54512e-10 -4.73369e-11      0.11069     0.221872    0.0629976 -6.04607e-11 -5.72636e-10    0.0286171 -1.03534e-09 -2.87522e-09 -2.75499e-10  1.16826e-10     0.007182    0.0100861    0.0292603   -0.0330794 -1.72933e-09  4.54541e-10  -0.00289599   -0.0182643         -nan         -nan         -nan         -nan         -nan         -nan         -nan         -nan         -nan         -nan         -nan\r\n",
      "  2.3851e-10  5.07325e-10  -0.00361121   0.00361121  5.49395e-10 -4.47235e-11    0.0629976    0.0629976     0.429278 -2.30961e-10 -6.84394e-10   -0.0121538 -4.21233e-10 -8.97901e-10 -4.70437e-10  1.29935e-10  6.20876e-06 -6.20879e-06 -1.82764e-05 -1.82763e-05 -1.01351e-09  6.37764e-10  5.55257e-05  1.74679e-09         -nan         -nan         -nan         -nan         -nan         -nan         -nan         -nan         -nan         -nan         -nan\r\n",
      "  -0.0155317  0.000890323 -1.36148e-10  1.60338e-10 -0.000827993    0.0144443 -1.78841e-11 -6.04607e-11 -2.30961e-10     0.463967 -2.12993e-12  1.17863e-10 -0.000208049  0.000612419  0.000593778   -0.0103585  6.62974e-10 -5.06455e-12  1.34044e-10  1.50703e-09 -0.000936604   -0.0177101 -1.63375e-09 -1.58425e-09         -nan         -nan         -nan         -nan         -nan         -nan         -nan         -nan         -nan         -nan         -nan\r\n",
      "-0.000890323   -0.0155317  8.75506e-11 -1.30127e-10    0.0144443  0.000827993 -5.48446e-10 -5.72636e-10 -6.84394e-10 -2.12979e-12     0.463967  1.23378e-10  0.000612419  0.000208049   -0.0103585 -0.000593778 -2.66506e-11  1.39963e-09  6.96884e-10  3.89744e-11    0.0177101 -0.000936604  1.78273e-09  2.08224e-09         -nan         -nan         -nan         -nan         -nan         -nan         -nan         -nan         -nan         -nan         -nan\r\n",
      " 6.35292e-11  2.54845e-10  -0.00164042   0.00164042  1.60933e-10  1.05902e-11    0.0286171    0.0286171   -0.0121538  1.17863e-10  1.23378e-10     0.636067  4.96794e-11 -4.09081e-10  1.95673e-10  8.27953e-11  -0.00673195   0.00673195    0.0198164    0.0198164 -9.92499e-11   2.3071e-12  4.38317e-05  2.91973e-10         -nan         -nan         -nan         -nan         -nan         -nan         -nan         -nan         -nan         -nan         -nan\r\n",
      "   0.0129012   -0.0465748  2.39902e-11  2.85285e-12  -0.00881162   0.00244082 -9.98471e-10 -1.03534e-09 -4.21233e-10 -0.000208049  0.000612419  4.96794e-11     0.917068 -7.52452e-11    0.0214825  -0.00595064  2.20597e-10 -4.53288e-10 -1.22575e-09 -7.73587e-10   -0.0223749  -0.00630455 -1.02112e-10 -5.54209e-10         -nan         -nan         -nan         -nan         -nan         -nan         -nan         -nan         -nan         -nan         -nan\r\n",
      "  -0.0465748   -0.0129012  2.29958e-10 -1.93086e-10  -0.00244082  -0.00881162 -2.90206e-09 -2.87522e-09 -8.97901e-10  0.000612419  0.000208049 -4.09081e-10 -7.52454e-11     0.917068   0.00595064    0.0214825  7.42194e-10 -1.19436e-09  -2.6733e-09   -2.906e-09  -0.00630455    0.0223749 -6.27984e-11 -2.63166e-12         -nan         -nan         -nan         -nan         -nan         -nan         -nan         -nan         -nan         -nan         -nan\r\n",
      " 2.32699e-11    0.0481429 -1.50947e-10  9.17742e-12    0.0441772 -9.19233e-11 -7.94469e-10 -2.75499e-10 -4.70437e-10  0.000593778   -0.0103585  1.95673e-10    0.0214825   0.00595064     0.981535 -7.20934e-11 -5.42904e-11  1.86567e-10 -5.46163e-11   1.3553e-10   0.00424838  1.87962e-05   2.6121e-10  4.67828e-10         -nan         -nan         -nan         -nan         -nan         -nan         -nan         -nan         -nan         -nan         -nan\r\n",
      "   0.0481429  2.32698e-11 -1.30609e-11 -5.05909e-10  -9.1923e-11    0.0441772  2.58596e-10  1.16826e-10  1.29935e-10   -0.0103585 -0.000593778  8.27953e-11  -0.00595064    0.0214825 -7.20933e-11     0.981535  -2.9532e-11 -1.60614e-10   1.0954e-10  2.41817e-10  1.87961e-05  -0.00424838  1.75233e-10 -1.68197e-10         -nan         -nan         -nan         -nan         -nan         -nan         -nan         -nan         -nan         -nan         -nan\r\n",
      "-2.59301e-10  -1.6495e-10   -0.0640505   0.00171078 -4.10412e-11  2.22873e-10   -0.0100861     0.007182  6.20876e-06  6.62974e-10 -2.66506e-11  -0.00673195  2.20597e-10  7.42194e-10 -5.42904e-11  -2.9532e-11      1.06908   -0.0128138   -0.0247546   -0.0247546  3.94982e-10 -2.10963e-10    0.0150504  -0.00312118         -nan         -nan         -nan         -nan         -nan         -nan         -nan         -nan         -nan         -nan         -nan\r\n",
      " 1.01687e-10 -1.10591e-10   0.00171078   -0.0640505  4.25113e-10 -1.93964e-11    -0.007182    0.0100861 -6.20879e-06 -5.06455e-12  1.39963e-09   0.00673195 -4.53288e-10 -1.19436e-09  1.86567e-10 -1.60614e-10   -0.0128138      1.06908    0.0247546    0.0247546  -2.1946e-10  -9.0775e-13   -0.0150504  -0.00312118         -nan         -nan         -nan         -nan         -nan         -nan         -nan         -nan         -nan         -nan         -nan\r\n",
      " 3.59467e-10  4.29882e-10  -0.00245488     0.019723  2.14983e-10 -1.02561e-10   -0.0330794    0.0292603 -1.82764e-05  1.34044e-10  6.96884e-10    0.0198164 -1.22575e-09  -2.6733e-09 -5.46163e-11   1.0954e-10   -0.0247546    0.0247546      1.13354    0.0772725 -8.79376e-10  5.99807e-10   0.00545288  -0.00699908         -nan         -nan         -nan         -nan         -nan         -nan         -nan         -nan         -nan         -nan         -nan\r\n",
      " 8.39263e-11  5.87496e-10    -0.019723   0.00245488  1.15065e-11  2.81511e-10    0.0292603   -0.0330794 -1.82763e-05  1.50703e-09  3.89744e-11    0.0198164 -7.73587e-10   -2.906e-09   1.3553e-10  2.41817e-10   -0.0247546    0.0247546    0.0772725      1.13354 -1.09047e-09  4.24461e-10   0.00545288   0.00699909         -nan         -nan         -nan         -nan         -nan         -nan         -nan         -nan         -nan         -nan         -nan\r\n",
      "-0.000253764   -0.0573567  4.72961e-10 -4.21016e-10  -0.00347861 -1.53905e-05 -7.51758e-09 -7.82123e-09 -1.20419e-09 -0.000538968    0.0101913 -2.34312e-10   -0.0179424  -0.00505562    0.0191591  8.47661e-05  9.06579e-11 -7.11729e-11  1.66095e-10 -5.09932e-12     0.600541  2.21995e-10  3.19226e-09  4.64955e-09         -nan         -nan         -nan         -nan         -nan         -nan         -nan         -nan         -nan         -nan         -nan\r\n",
      "   0.0573567 -0.000253764 -3.45064e-10  4.22515e-11 -1.53905e-05   0.00347861  4.34533e-09  4.29197e-09  7.17266e-10   -0.0101913 -0.000538968  1.52066e-10  -0.00505562    0.0179424   8.4766e-05   -0.0191591  1.00941e-10 -2.71839e-10 -3.20994e-11 -5.07725e-11  2.21995e-10     0.600541  5.04378e-09  9.54769e-10         -nan         -nan         -nan         -nan         -nan         -nan         -nan         -nan         -nan         -nan         -nan\r\n",
      " 1.98217e-10 -3.36933e-10   -0.0423677    0.0423677  5.91143e-10 -4.73007e-10  -0.00286499  -0.00286499 -0.000438972 -1.50218e-09  1.61576e-09 -0.000214739 -5.05633e-11 -4.23377e-11  3.64387e-10  1.53239e-10    0.0160903   -0.0160903   0.00534175   0.00534175  3.64902e-09  5.04806e-09      1.98482  2.60998e-09         -nan         -nan         -nan         -nan         -nan         -nan         -nan         -nan         -nan         -nan         -nan\r\n",
      "  2.5584e-10  -7.0647e-10    0.0031944    0.0031944  4.39702e-11 -3.23675e-10    0.0206831    -0.020683  4.39899e-09 -1.58203e-09  2.00735e-09  1.35414e-09 -6.14777e-10 -2.02408e-11  4.88097e-10 -1.92328e-10  -0.00365018  -0.00365018    -0.008016     0.008016  5.23093e-09  1.24038e-09   2.9343e-09     0.991025         -nan         -nan         -nan         -nan         -nan         -nan         -nan         -nan         -nan         -nan         -nan\r\n",
      "        -nan         -nan         -nan         -nan         -nan         -nan         -nan         -nan         -nan         -nan         -nan         -nan         -nan         -nan         -nan         -nan         -nan         -nan         -nan         -nan         -nan         -nan         -nan         -nan         -nan         -nan         -nan         -nan         -nan         -nan         -nan         -nan         -nan         -nan         -nan\r\n",
      "        -nan         -nan         -nan         -nan         -nan         -nan         -nan         -nan         -nan         -nan         -nan         -nan         -nan         -nan         -nan         -nan         -nan         -nan         -nan         -nan         -nan         -nan         -nan         -nan         -nan         -nan         -nan         -nan         -nan         -nan         -nan         -nan         -nan         -nan         -nan\r\n",
      "        -nan         -nan         -nan         -nan         -nan         -nan         -nan         -nan         -nan         -nan         -nan         -nan         -nan         -nan         -nan         -nan         -nan         -nan         -nan         -nan         -nan         -nan         -nan         -nan         -nan         -nan         -nan         -nan         -nan         -nan         -nan         -nan         -nan         -nan         -nan\r\n",
      "        -nan         -nan         -nan         -nan         -nan         -nan         -nan         -nan         -nan         -nan         -nan         -nan         -nan         -nan         -nan         -nan         -nan         -nan         -nan         -nan         -nan         -nan         -nan         -nan         -nan         -nan         -nan         -nan         -nan         -nan         -nan         -nan         -nan         -nan         -nan\r\n",
      "        -nan         -nan         -nan         -nan         -nan         -nan         -nan         -nan         -nan         -nan         -nan         -nan         -nan         -nan         -nan         -nan         -nan         -nan         -nan         -nan         -nan         -nan         -nan         -nan         -nan         -nan         -nan         -nan         -nan         -nan         -nan         -nan         -nan         -nan         -nan\r\n",
      "        -nan         -nan         -nan         -nan         -nan         -nan         -nan         -nan         -nan         -nan         -nan         -nan         -nan         -nan         -nan         -nan         -nan         -nan         -nan         -nan         -nan         -nan         -nan         -nan         -nan         -nan         -nan         -nan         -nan         -nan         -nan         -nan         -nan         -nan         -nan\r\n",
      "        -nan         -nan         -nan         -nan         -nan         -nan         -nan         -nan         -nan         -nan         -nan         -nan         -nan         -nan         -nan         -nan         -nan         -nan         -nan         -nan         -nan         -nan         -nan         -nan         -nan         -nan         -nan         -nan         -nan         -nan         -nan         -nan         -nan         -nan         -nan\r\n",
      "        -nan         -nan         -nan         -nan         -nan         -nan         -nan         -nan         -nan         -nan         -nan         -nan         -nan         -nan         -nan         -nan         -nan         -nan         -nan         -nan         -nan         -nan         -nan         -nan         -nan         -nan         -nan         -nan         -nan         -nan         -nan         -nan         -nan         -nan         -nan\r\n",
      "        -nan         -nan         -nan         -nan         -nan         -nan         -nan         -nan         -nan         -nan         -nan         -nan         -nan         -nan         -nan         -nan         -nan         -nan         -nan         -nan         -nan         -nan         -nan         -nan         -nan         -nan         -nan         -nan         -nan         -nan         -nan         -nan         -nan         -nan         -nan\r\n",
      "        -nan         -nan         -nan         -nan         -nan         -nan         -nan         -nan         -nan         -nan         -nan         -nan         -nan         -nan         -nan         -nan         -nan         -nan         -nan         -nan         -nan         -nan         -nan         -nan         -nan         -nan         -nan         -nan         -nan         -nan         -nan         -nan         -nan         -nan         -nan\r\n",
      "        -nan         -nan         -nan         -nan         -nan         -nan         -nan         -nan         -nan         -nan         -nan         -nan         -nan         -nan         -nan         -nan         -nan         -nan         -nan         -nan         -nan         -nan         -nan         -nan          nan          nan          nan          nan          nan          nan          nan          nan          nan          nan          nan\r\n",
      "an error occurred:\r\n",
      "Small generalized eigenvalue problem failed.\r\n"
     ]
    }
   ],
   "source": [
    "!xtp_tools -c job_name=CO geometry_optimization.maxiter=1 dftpackage.basisset=3-21G dftpackage.auxbasisset=aux-def2-svp gwbse.gw.mode=G0W0 -e dftgwbse -t 4"
   ]
  },
  {
   "cell_type": "markdown",
   "metadata": {},
   "source": [
    "Notice that we are using 4 threads. The results will be stored in a file named `CO_summary.xml` in the current work directory, together with the optimization step in `optimisation.trj` and the orbitals in [hdf5 format](https://www.hdfgroup.org/solutions/hdf5/) saved on `CO.orb`."
   ]
  }
 ],
 "metadata": {
  "kernelspec": {
   "display_name": "Python 3",
   "language": "python",
   "name": "python3"
  },
  "language_info": {
   "codemirror_mode": {
    "name": "ipython",
    "version": 3
   },
   "file_extension": ".py",
   "mimetype": "text/x-python",
   "name": "python",
   "nbconvert_exporter": "python",
   "pygments_lexer": "ipython3",
   "version": "3.11.2"
  }
 },
 "nbformat": 4,
 "nbformat_minor": 4
}
