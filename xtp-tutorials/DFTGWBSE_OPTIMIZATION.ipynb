{
 "cells": [
  {
   "cell_type": "markdown",
   "metadata": {},
   "source": [
    "## DFT + GWBSE Optimization Using CO"
   ]
  },
  {
   "cell_type": "markdown",
   "metadata": {},
   "source": [
    "## Introduction\n",
    "This tutorial explains how to perform a molecular geometric optimization using the **GWBSE** method. See [the GW Compendium: A Practical Guide to Theoretical Photoemission Spectroscopy](https://doi.org/10.3389/fchem.2019.00377), for an excellent introduction to the method."
   ]
  },
  {
   "cell_type": "markdown",
   "metadata": {},
   "source": [
    "## Requirements\n",
    "* You will need to install **VOTCA** using the instructions described [here](https://github.com/votca/votca/blob/master/share/doc/INSTALL.rst)\n",
    "* Once the installation is completed you need to activate the VOTCA enviroment by running the `VOTCARC.bash` script that has been installed at the bin subfolder for the path that you have provided for the installation step above"
   ]
  },
  {
   "cell_type": "markdown",
   "metadata": {},
   "source": [
    "## Preparing the input\n",
    "To run a DFT-GWBSE calculation we will use the [xtp_tools](https://www.votca.org/xtp/xtp_tools_overview.html) calculator."
   ]
  },
  {
   "cell_type": "markdown",
   "metadata": {},
   "source": [
    "we can now change the calculator mode from single point energy calculation to optimization as follows by adding \n",
    "`-c geometry_optimization.maxiter=1` which enables optimization with one iteration. "
   ]
  },
  {
   "cell_type": "markdown",
   "metadata": {},
   "source": [
    "Because geometry optimsation is quite expensive numerically we chose a smaller basisset and G0W0 Finally, to run the calculation we just need the following command (This still takes a while)"
   ]
  },
  {
   "cell_type": "code",
   "execution_count": 1,
   "metadata": {
    "execution": {
     "iopub.execute_input": "2022-01-28T06:08:42.059754Z",
     "iopub.status.busy": "2022-01-28T06:08:42.059141Z",
     "iopub.status.idle": "2022-01-28T06:09:33.658652Z",
     "shell.execute_reply": "2022-01-28T06:09:33.657803Z"
    }
   },
   "outputs": [
    {
     "name": "stdout",
     "output_type": "stream",
     "text": [
      "==================================================\r\n",
      "========   VOTCA (http://www.votca.org)   ========\r\n",
      "==================================================\r\n",
      "\r\n",
      "please submit bugs to https://github.com/votca/xtp/issues\r\n",
      "\r\n",
      "xtp_tools, version 2023-dev gitid: c8881d1 (compiled Jan 28 2022, 05:58:40)\r\n",
      "votca_csg, version 2023-dev gitid: c8881d1 (compiled Jan 28 2022, 05:41:08)\r\n",
      "votca_tools, version 2023-dev gitid: c8881d1 (compiled Jan 28 2022, 05:37:38)\r\n",
      "\r\n",
      "Initializing tool\r\n",
      "... dftgwbse Evaluating tool\r\n",
      "... dftgwbse  Using 4 threads\r\n",
      "... ... Reading structure from CO.xyz\r\n",
      "... ... Requested geometry optimization of excited state s1\r\n",
      "... ... Initial state: s1\r\n",
      "... ... WARNING: No tracker is used \r\n",
      "... ... Convergence of total energy: 0.000001 Hartree \r\n",
      "... ... Convergence of RMS Force:    0.000030 Hartree/Bohr \r\n",
      "... ... Convergence of Max Force:    0.000100 Hartree/Bohr \r\n",
      "... ... Convergence of RMS Step:     0.000600 Bohr \r\n",
      "... ... Convergence of Max Step:     0.001000 Bohr \r\n",
      "... ... Initial trust radius:        0.018897 Bohr\r\n",
      "... ... \r\n",
      "... ... =========== OPTIMIZATION SUMMARY ================================= \r\n",
      "... ... At iteration  0\r\n",
      "... ...  ---- POSITIONS (Angstrom)   \r\n",
      "... ...  Atom\t x\t  y\t  z \r\n",
      "... ...    0    +0.0000  +0.0000  +0.0000\r\n",
      "... ...    1    +1.2000  +0.0000  +0.0000\r\n",
      "... ...    Total energy:     -112.26831841 Hartree \r\n",
      "... ...    Trust radius:       0.01889726 Bohr     \r\n",
      "... ...  ---- FORCES (Hartree/Bohr)   \r\n",
      "... ...       central differences   \r\n",
      "... ...       displacement 0.0010 Angstrom   \r\n",
      "... ...  Atom\t x\t  y\t  z \r\n",
      "... ...    0    -0.1314  -0.0000  -0.0000\r\n",
      "... ...    1    +0.1314  +0.0000  +0.0000A\r\n",
      "    0.301149 -1.46221e-13  4.76102e-13  2.43561e-12  1.06299e-13   -0.0519724  5.94799e-13 -5.92318e-13  1.71737e-13    0.0176119  0.000916897  1.01068e-13   0.00582412    0.0385918 -8.37875e-14    0.0423984  2.18219e-13  1.49822e-13  1.12946e-13  5.80926e-14 -0.000727117    -0.107095 -1.01123e-12          nan          nan          nan          nan          nan          nan          nan          nan          nan          nan          nan          nan\r\n",
      "-1.46191e-13     0.301149  5.81477e-13  5.78968e-13   -0.0519724  1.06218e-13 -8.63749e-12   1.0597e-11 -3.19435e-12  0.000916897   -0.0176119 -1.88751e-12   -0.0385918   0.00582412    0.0423984   -8.382e-14 -1.32026e-13  1.86894e-13 -1.82323e-12 -1.45521e-12    -0.107095  0.000727117  -1.0402e-13          nan          nan          nan          nan          nan          nan          nan          nan          nan          nan          nan          nan\r\n",
      " 4.76102e-13  5.81477e-13     0.310775  -0.00945815  2.66824e-13  3.16576e-13   -0.0120244    0.0120244  -0.00473155 -1.87109e-14 -2.20635e-13  -0.00213286  2.89164e-13 -1.13378e-13 -5.10897e-14  2.54773e-14   -0.0488457   0.00211069  -0.00156412   0.00548894 -1.92567e-12  1.80173e-13   -0.0249153          nan          nan          nan          nan          nan          nan          nan          nan          nan          nan          nan          nan\r\n",
      " 2.43561e-12  5.78968e-13  -0.00945815     0.310775  2.70261e-13 -2.25356e-12   -0.0120244    0.0120244  -0.00473155  7.44416e-13 -1.79772e-13  -0.00213286  2.74904e-13 -2.07012e-13 -5.48564e-14  2.39383e-12  -0.00211069    0.0488457   0.00548894  -0.00156412 -1.94508e-12 -3.37378e-12   -0.0249153          nan          nan          nan          nan          nan          nan          nan          nan          nan          nan          nan          nan\r\n",
      " 1.06314e-13   -0.0519724  2.66824e-13  2.70261e-13     0.486835  -2.6246e-14 -7.42101e-12  4.85092e-12 -3.32709e-12 -0.000708883    0.0136164  -1.0787e-12  -0.00821305   0.00123948    0.0301449  3.04152e-13 -7.39466e-14  2.57479e-14 -2.82115e-13 -6.05498e-13    0.0549927 -0.000373369 -1.27807e-13          nan          nan          nan          nan          nan          nan          nan          nan          nan          nan          nan          nan\r\n",
      "  -0.0519724  1.06238e-13  3.16576e-13 -2.25356e-12 -2.62799e-14     0.486835  2.77784e-13 -2.81203e-13  1.78332e-13   -0.0136164 -0.000708883  5.81101e-14   0.00123948   0.00821305  3.04168e-13    0.0301449 -2.77245e-13 -4.61483e-14  1.13456e-14  5.95768e-14  0.000373369    0.0549927  2.83394e-14          nan          nan          nan          nan          nan          nan          nan          nan          nan          nan          nan          nan\r\n",
      " 5.94799e-13 -8.63749e-12   -0.0120244   -0.0120244 -7.42101e-12  2.77784e-13     0.541117    -0.220883    0.0908845  4.57161e-14  3.45523e-12    0.0409684 -5.61575e-12  5.33825e-13  3.44554e-12   -5.666e-14   0.00320415   0.00384891   -0.0130288    0.0337062  3.33304e-11 -2.13844e-12   0.00197254          nan          nan          nan          nan          nan          nan          nan          nan          nan          nan          nan          nan\r\n",
      "-5.92318e-13   1.0597e-11    0.0120244    0.0120244  4.85092e-12 -2.81203e-13    -0.220883     0.541117   -0.0908845 -4.84242e-15 -4.21833e-12   -0.0409684  5.70938e-12 -5.48037e-13 -1.07717e-12  6.04256e-14   0.00384891   0.00320415   -0.0337062    0.0130288 -3.67999e-11  2.15731e-12  -0.00197254          nan          nan          nan          nan          nan          nan          nan          nan          nan          nan          nan          nan\r\n",
      " 1.71737e-13 -3.19435e-12  -0.00473155  -0.00473155 -3.32709e-12  1.78332e-13    0.0908845   -0.0908845     0.659928   3.7794e-15  2.40989e-12  -0.00518522 -2.95085e-13  2.87383e-14  1.34536e-12 -7.21054e-14  0.000465735 -0.000465735   0.00474832   0.00474832  9.73857e-12 -5.65436e-13   0.00129815          nan          nan          nan          nan          nan          nan          nan          nan          nan          nan          nan          nan\r\n",
      "   0.0176119  0.000916897  -1.8711e-14  7.44416e-13 -0.000708883   -0.0136164   4.5716e-14  -4.8426e-15  3.77939e-15     0.668107  9.09493e-17  2.85525e-16 -1.65082e-06 -1.68307e-05  0.000471041   0.00904785  1.64436e-12  2.23437e-13  2.29495e-14 -1.57506e-13  -0.00240859   -0.0409127 -3.15098e-12          nan          nan          nan          nan          nan          nan          nan          nan          nan          nan          nan          nan\r\n",
      " 0.000916897   -0.0176119 -2.20636e-13 -1.79772e-13    0.0136164 -0.000708883  3.45523e-12 -4.21833e-12  2.40989e-12  7.32151e-17     0.668107  8.41909e-14 -1.68307e-05  1.65082e-06  -0.00904785  0.000471041  6.10149e-14  -2.4149e-13  2.48608e-12  6.18324e-13    0.0409127  -0.00240859  2.64874e-14          nan          nan          nan          nan          nan          nan          nan          nan          nan          nan          nan          nan\r\n",
      " 1.01068e-13 -1.88751e-12  -0.00213286  -0.00213286  -1.0787e-12  5.81099e-14    0.0409684   -0.0409684  -0.00518522  2.85535e-16  8.41909e-14     0.793012 -1.49533e-12  1.44649e-13 -2.67833e-13  1.41635e-14   0.00149393  -0.00149393    0.0152311    0.0152311  5.52995e-12 -3.23575e-13  0.000546998          nan          nan          nan          nan          nan          nan          nan          nan          nan          nan          nan          nan\r\n",
      "  0.00582412   -0.0385918  2.89164e-13  2.74904e-13  -0.00821305   0.00123948 -5.61575e-12  5.70938e-12 -2.95085e-13 -1.65082e-06 -1.68307e-05 -1.49533e-12     0.954263  7.46905e-14    0.0127309   -0.0019213 -2.38642e-13  2.39565e-13 -2.13953e-12 -2.81685e-12   -0.0196529   0.00310255 -3.08996e-14          nan          nan          nan          nan          nan          nan          nan          nan          nan          nan          nan          nan\r\n",
      "   0.0385918   0.00582412 -1.13378e-13 -2.07012e-13   0.00123948   0.00821305  5.33825e-13 -5.48037e-13  2.87384e-14 -1.68307e-05  1.65082e-06  1.44649e-13  7.47335e-14     0.954263   -0.0019213   -0.0127309  4.03451e-13  2.73848e-13  2.35336e-13  2.36272e-13   0.00310255    0.0196529  3.14904e-13          nan          nan          nan          nan          nan          nan          nan          nan          nan          nan          nan          nan\r\n",
      "-8.37849e-14    0.0423984 -5.10897e-14 -5.48564e-14    0.0301449  3.04172e-13  3.44554e-12 -1.07717e-12  1.34536e-12  0.000471041  -0.00904785 -2.67833e-13    0.0127309   -0.0019213     0.973646  1.63259e-13 -4.58033e-14 -1.41773e-13  1.09005e-12 -1.65596e-13     -0.02295  0.000155817  7.65111e-14          nan          nan          nan          nan          nan          nan          nan          nan          nan          nan          nan          nan\r\n",
      "   0.0423984 -8.38121e-14  2.54773e-14  2.39383e-12  3.04161e-13    0.0301449   -5.666e-14  6.04255e-14 -7.21054e-14   0.00904785  0.000471041  1.41635e-14   -0.0019213   -0.0127309  1.63219e-13     0.973646 -5.81972e-13 -6.73658e-13 -1.23311e-13  6.43153e-14 -0.000155817     -0.02295  7.37321e-13          nan          nan          nan          nan          nan          nan          nan          nan          nan          nan          nan          nan\r\n",
      " 2.18219e-13 -1.32026e-13   -0.0488457  -0.00211069 -7.39466e-14 -2.77245e-13   0.00320415   0.00384891  0.000465735  1.64436e-12  6.10149e-14   0.00149393 -2.38642e-13  4.03451e-13 -4.58033e-14 -5.81972e-13      1.02166  -0.00249225   0.00414933   0.00414933  5.53975e-13  1.37962e-13    0.0047682          nan          nan          nan          nan          nan          nan          nan          nan          nan          nan          nan          nan\r\n",
      " 1.49822e-13  1.86894e-13   0.00211069    0.0488457  2.57479e-14 -4.61482e-14   0.00384891   0.00320415 -0.000465735  2.23437e-13  -2.4149e-13  -0.00149393  2.39565e-13  2.73848e-13 -1.41773e-13 -6.73658e-13  -0.00249225      1.02166  -0.00414933  -0.00414933 -4.88525e-13  2.90155e-13   -0.0047682          nan          nan          nan          nan          nan          nan          nan          nan          nan          nan          nan          nan\r\n",
      " 1.12946e-13 -1.82323e-12  -0.00156412   0.00548894 -2.82115e-13  1.13456e-14   -0.0130288   -0.0337062   0.00474832  2.29495e-14  2.48608e-12    0.0152311 -2.13953e-12  2.35336e-13  1.09005e-12 -1.23311e-13   0.00414933  -0.00414933      1.06356     0.044389  5.13683e-12  -2.7528e-13 -4.67556e-05          nan          nan          nan          nan          nan          nan          nan          nan          nan          nan          nan          nan\r\n",
      " 5.80926e-14 -1.45521e-12   0.00548894  -0.00156412 -6.05498e-13  5.95768e-14    0.0337062    0.0130288   0.00474832 -1.57506e-13  6.18324e-13    0.0152311 -2.81685e-12  2.36272e-13 -1.65596e-13  6.43153e-14   0.00414933  -0.00414933     0.044389      1.06356  5.55402e-12 -3.42575e-13 -4.67556e-05          nan          nan          nan          nan          nan          nan          nan          nan          nan          nan          nan          nan\r\n",
      " 0.000506385    0.0745844  9.80071e-13  9.93516e-13   -0.0700277 -0.000475448 -1.57533e-11  1.81849e-11 -6.32635e-12   0.00178659   -0.0303473    -4.12e-12   0.00908595  -0.00143437    0.0362879  0.000246374 -2.87194e-13  3.36148e-13 -3.19043e-12 -2.87552e-12    -0.195058  9.18089e-13 -8.72422e-13          nan          nan          nan          nan          nan          nan          nan          nan          nan          nan          nan          nan\r\n",
      "   0.0745844 -0.000506385  3.22594e-13  2.83268e-12  0.000475448   -0.0700277  1.03974e-12 -1.05353e-12  3.57491e-13    0.0303473   0.00178659  2.37703e-13  -0.00143437  -0.00908595 -0.000246374    0.0362879 -7.83079e-14  3.80402e-13  2.22359e-13  1.75252e-13  9.18156e-13    -0.195058 -1.15651e-11          nan          nan          nan          nan          nan          nan          nan          nan          nan          nan          nan          nan\r\n",
      " 4.37496e-13  7.48901e-14   -0.0139395   -0.0139395   1.2705e-13 -5.94825e-14  -0.00352984   0.00352984  -0.00111415 -2.42585e-12 -1.58756e-14 -0.000462588  5.82543e-14 -1.79335e-14  6.41307e-14  2.04095e-12   0.00602616  -0.00602616  -0.00107386  -0.00107386   -1.012e-12 -1.08874e-11     0.942724          nan          nan          nan          nan          nan          nan          nan          nan          nan          nan          nan          nan\r\n",
      "        -nan         -nan         -nan         -nan         -nan         -nan         -nan         -nan         -nan         -nan         -nan         -nan         -nan         -nan         -nan         -nan         -nan         -nan         -nan         -nan         -nan         -nan         -nan          nan          nan          nan          nan          nan          nan          nan          nan          nan          nan          nan          nan\r\n",
      "        -nan         -nan         -nan         -nan         -nan         -nan         -nan         -nan         -nan         -nan         -nan         -nan         -nan         -nan         -nan         -nan         -nan         -nan         -nan         -nan         -nan         -nan         -nan         -nan         -nan         -nan         -nan         -nan         -nan         -nan         -nan         -nan         -nan         -nan         -nan\r\n",
      "        -nan         -nan         -nan         -nan         -nan         -nan         -nan         -nan         -nan         -nan         -nan         -nan         -nan         -nan         -nan         -nan         -nan         -nan         -nan         -nan         -nan         -nan         -nan         -nan         -nan         -nan         -nan         -nan         -nan         -nan         -nan         -nan         -nan         -nan         -nan\r\n",
      "        -nan         -nan         -nan         -nan         -nan         -nan         -nan         -nan         -nan         -nan         -nan         -nan         -nan         -nan         -nan         -nan         -nan         -nan         -nan         -nan         -nan         -nan         -nan          nan          nan          nan          nan          nan          nan          nan          nan          nan          nan          nan          nan\r\n",
      "        -nan         -nan         -nan         -nan         -nan         -nan         -nan         -nan         -nan         -nan         -nan         -nan         -nan         -nan         -nan         -nan         -nan         -nan         -nan         -nan         -nan         -nan         -nan          nan          nan          nan          nan          nan          nan          nan          nan          nan          nan          nan          nan\r\n",
      "        -nan         -nan         -nan         -nan         -nan         -nan         -nan         -nan         -nan         -nan         -nan         -nan         -nan         -nan         -nan         -nan         -nan         -nan         -nan         -nan         -nan         -nan         -nan         -nan         -nan         -nan         -nan         -nan         -nan         -nan         -nan         -nan         -nan         -nan         -nan\r\n",
      "        -nan         -nan         -nan         -nan         -nan         -nan         -nan         -nan         -nan         -nan         -nan         -nan         -nan         -nan         -nan         -nan         -nan         -nan         -nan         -nan         -nan         -nan         -nan         -nan         -nan         -nan         -nan         -nan         -nan         -nan         -nan         -nan         -nan         -nan         -nan\r\n",
      "        -nan         -nan         -nan         -nan         -nan         -nan         -nan         -nan         -nan         -nan         -nan         -nan         -nan         -nan         -nan         -nan         -nan         -nan         -nan         -nan         -nan         -nan         -nan          nan          nan          nan          nan          nan          nan          nan          nan          nan          nan          nan          nan\r\n",
      "        -nan         -nan         -nan         -nan         -nan         -nan         -nan         -nan         -nan         -nan         -nan         -nan         -nan         -nan         -nan         -nan         -nan         -nan         -nan         -nan         -nan         -nan         -nan          nan          nan          nan          nan          nan          nan          nan          nan          nan          nan          nan          nan\r\n",
      "        -nan         -nan         -nan         -nan         -nan         -nan         -nan         -nan         -nan         -nan         -nan         -nan         -nan         -nan         -nan         -nan         -nan         -nan         -nan         -nan         -nan         -nan         -nan         -nan          nan          nan          nan         -nan          nan          nan          nan         -nan          nan          nan          nan\r\n",
      "        -nan         -nan         -nan         -nan         -nan         -nan         -nan         -nan         -nan         -nan         -nan         -nan         -nan         -nan         -nan         -nan         -nan         -nan         -nan         -nan         -nan         -nan         -nan         -nan          nan          nan          nan         -nan          nan          nan          nan         -nan          nan          nan          nan\r\n",
      "        -nan         -nan         -nan         -nan         -nan         -nan         -nan         -nan         -nan         -nan         -nan         -nan         -nan         -nan         -nan         -nan         -nan         -nan         -nan         -nan         -nan         -nan         -nan         -nan         -nan         -nan         -nan         -nan         -nan         -nan         -nan         -nan         -nan         -nan         -nan\r\n",
      "B\r\n",
      "   0.0903884 -6.52441e-14  2.28608e-13  1.45697e-12  6.51758e-14   -0.0326152  2.52342e-13 -2.50726e-13  1.06462e-13    0.0147939  0.000770185  7.05214e-14    0.0071789    0.0475689 -9.61808e-14    0.0477612  3.04131e-13  2.40752e-13  1.10956e-13  2.96837e-14 -0.000165852   -0.0244279 -2.36641e-13         -nan         -nan         -nan         -nan         -nan         -nan         -nan         -nan         -nan         -nan         -nan         -nan\r\n",
      "-6.52239e-14    0.0903884  2.47321e-13  2.45694e-13   -0.0326152  6.51338e-14 -3.24128e-12  4.46963e-12  -1.9791e-12  0.000770185   -0.0147939 -1.31753e-12   -0.0475689    0.0071789    0.0477612 -9.62231e-14 -9.08819e-14  1.72173e-13 -1.62614e-12 -1.08128e-12   -0.0244279  0.000165852 -8.49912e-15         -nan         -nan         -nan         -nan         -nan         -nan         -nan         -nan         -nan         -nan         -nan         -nan\r\n",
      " 2.28608e-13  2.47321e-13    0.0996132  -0.00522099   1.6672e-13  2.13173e-13  -0.00586947   0.00586947  -0.00339927 -1.30561e-14 -1.54505e-13  -0.00165924   2.6548e-13 -1.10321e-13 -6.79988e-14  1.53205e-14   -0.0652468    0.0023798  -0.00128696   0.00820067  -3.8044e-13  5.07083e-13   -0.0407538         -nan         -nan         -nan         -nan         -nan         -nan         -nan         -nan         -nan         -nan         -nan         -nan\r\n",
      " 1.45697e-12  2.45694e-13  -0.00522099    0.0996132  1.69091e-13 -1.57549e-12  -0.00586947   0.00586947  -0.00339927  7.19072e-13 -1.15271e-13  -0.00165924  2.51371e-13 -2.02864e-13  -7.2615e-14  2.90312e-12   -0.0023798    0.0652468   0.00820067  -0.00128696 -3.86724e-13  -5.5562e-13   -0.0407538         -nan         -nan         -nan         -nan         -nan         -nan         -nan         -nan         -nan         -nan         -nan         -nan\r\n",
      "  6.5189e-14   -0.0326152   1.6672e-13  1.69091e-13     0.236624 -1.50533e-14 -4.80801e-12  3.01938e-12 -2.97552e-12 -0.000747717    0.0143623 -1.03294e-12  -0.00939301   0.00141756    0.0424654  4.17203e-13 -7.42948e-14 -1.51612e-14  8.45146e-14 -5.15199e-13  -0.00359559   2.4412e-05 -1.56777e-14         -nan         -nan         -nan         -nan         -nan         -nan         -nan         -nan         -nan         -nan         -nan         -nan\r\n",
      "  -0.0326152  6.51543e-14  2.13173e-13 -1.57549e-12 -1.50889e-14     0.236624   1.7373e-13  -1.7609e-13  1.59469e-13   -0.0143623 -0.000747717  5.56834e-14   0.00141756   0.00939301  4.17214e-13    0.0424654 -4.56361e-13 -1.43369e-13 -1.76101e-14  7.18936e-14  -2.4412e-05  -0.00359559  5.30902e-14         -nan         -nan         -nan         -nan         -nan         -nan         -nan         -nan         -nan         -nan         -nan         -nan\r\n",
      " 2.52342e-13 -3.24128e-12  -0.00586947  -0.00586947 -4.80801e-12   1.7373e-13     0.212049    -0.107215    0.0652938  4.22448e-14  2.21646e-12     0.031871 -5.16036e-12  4.90032e-13  4.29461e-12 -7.49971e-14   0.00272093    0.0067667     -0.03393    0.0289369  6.74745e-12 -4.44104e-13  -0.00167299         -nan         -nan         -nan         -nan         -nan         -nan         -nan         -nan         -nan         -nan         -nan         -nan\r\n",
      "-2.50726e-13  4.46963e-12   0.00586947   0.00586947  3.01938e-12  -1.7609e-13    -0.107215     0.212049   -0.0652938 -2.99842e-15 -2.94855e-12    -0.031871   5.2529e-12 -5.04081e-13 -1.40681e-12  7.96175e-14    0.0067667   0.00272093   -0.0289369      0.03393 -7.80076e-12  4.48972e-13   0.00167299         -nan         -nan         -nan         -nan         -nan         -nan         -nan         -nan         -nan         -nan         -nan         -nan\r\n",
      " 1.06461e-13  -1.9791e-12  -0.00339927  -0.00339927 -2.97552e-12  1.59469e-13    0.0652938   -0.0652938     0.424108   4.0224e-15  2.61029e-12   -0.0112618  3.21061e-13  -3.0686e-14  1.84254e-12 -9.87784e-14   6.3374e-05  -6.3374e-05  0.000646118  0.000646118  2.50377e-12 -1.48342e-13   0.00044959         -nan         -nan         -nan         -nan         -nan         -nan         -nan         -nan         -nan         -nan         -nan         -nan\r\n",
      "   0.0147939  0.000770185 -1.30563e-14  7.19072e-13 -0.000747717   -0.0143623  4.22448e-14 -2.99862e-15   4.0224e-15     0.446813  1.30576e-16  -3.9264e-17  4.72613e-05  0.000481844  0.000561268    0.0107809  2.68353e-12  3.83198e-13  3.86528e-14  -2.5763e-13  -0.00104392   -0.0177321 -5.11538e-12         -nan         -nan         -nan         -nan         -nan         -nan         -nan         -nan         -nan         -nan         -nan         -nan\r\n",
      " 0.000770185   -0.0147939 -1.54505e-13 -1.15271e-13    0.0143623 -0.000747717  2.21646e-12 -2.94855e-12  2.61029e-12  1.10269e-16     0.446813 -1.50806e-13  0.000481844 -4.72613e-05   -0.0107809  0.000561268   6.3116e-14 -3.59432e-13  3.70381e-12  6.37166e-13    0.0177321  -0.00104392  1.54311e-14         -nan         -nan         -nan         -nan         -nan         -nan         -nan         -nan         -nan         -nan         -nan         -nan\r\n",
      " 7.05214e-14 -1.31753e-12  -0.00165924  -0.00165924 -1.03294e-12  5.56831e-14     0.031871    -0.031871   -0.0112618   -3.925e-17 -1.50806e-13     0.627074 -2.00893e-12  1.94348e-13  -5.0978e-13  2.70073e-14   0.00214023  -0.00214023    0.0218204    0.0218204  1.26499e-12  -7.4123e-14  0.000243582         -nan         -nan         -nan         -nan         -nan         -nan         -nan         -nan         -nan         -nan         -nan         -nan\r\n",
      "   0.0071789   -0.0475689   2.6548e-13  2.51371e-13  -0.00939301   0.00141756 -5.16036e-12   5.2529e-12  3.21061e-13  4.72613e-05  0.000481844 -2.00893e-12     0.912954  1.32723e-13    0.0213124  -0.00321639 -3.98795e-13  4.00652e-13  -3.4405e-12 -4.79307e-12   -0.0224383   0.00354226  3.18969e-14         -nan         -nan         -nan         -nan         -nan         -nan         -nan         -nan         -nan         -nan         -nan         -nan\r\n",
      "   0.0475689    0.0071789 -1.10321e-13 -2.02864e-13   0.00141756   0.00939301  4.90032e-13 -5.04081e-13 -3.06859e-14  0.000481844 -4.72613e-05  1.94348e-13  1.32806e-13     0.912954  -0.00321639   -0.0213124  7.58232e-13  5.94299e-13  3.93389e-13  3.95274e-13   0.00354226    0.0224383  6.03651e-13         -nan         -nan         -nan         -nan         -nan         -nan         -nan         -nan         -nan         -nan         -nan         -nan\r\n",
      "-9.61745e-14    0.0477612 -6.79988e-14  -7.2615e-14    0.0424654   4.1722e-13  4.29461e-12 -1.40681e-12  1.84254e-12  0.000561268   -0.0107809  -5.0978e-13    0.0213124  -0.00321639     0.952113  3.09993e-13 -8.76244e-14 -2.44342e-13  1.88412e-12   -3.381e-13     0.003212 -2.18077e-05  1.76592e-13         -nan         -nan         -nan         -nan         -nan         -nan         -nan         -nan         -nan         -nan         -nan         -nan\r\n",
      "   0.0477612 -9.62128e-14  1.53205e-14  2.90312e-12  4.17209e-13    0.0424654 -7.49971e-14  7.96174e-14 -9.87783e-14    0.0107809  0.000561268  2.70073e-14  -0.00321639   -0.0213124  3.09911e-13     0.952113 -1.06918e-12 -1.15302e-12 -2.11954e-13  1.20112e-13  2.18077e-05     0.003212  3.04904e-12         -nan         -nan         -nan         -nan         -nan         -nan         -nan         -nan         -nan         -nan         -nan         -nan\r\n",
      " 3.04131e-13 -9.08819e-14   -0.0652468   -0.0023798 -7.42948e-14 -4.56361e-13   0.00272093    0.0067667   6.3374e-05  2.68353e-12   6.3116e-14   0.00214023 -3.98795e-13  7.58232e-13 -8.76244e-14 -1.06918e-12      1.04612  -0.00515456   0.00769992   0.00769992  3.02532e-13   -1.586e-13    0.0158696         -nan         -nan         -nan         -nan         -nan         -nan         -nan         -nan         -nan         -nan         -nan         -nan\r\n",
      " 2.40752e-13  1.72173e-13    0.0023798    0.0652468 -1.51612e-14 -1.43369e-13    0.0067667   0.00272093  -6.3374e-05  3.83198e-13 -3.59432e-13  -0.00214023  4.00652e-13  5.94299e-13 -2.44342e-13 -1.15302e-12  -0.00515456      1.04612  -0.00769992  -0.00769992 -1.90439e-13  8.77756e-13   -0.0158696         -nan         -nan         -nan         -nan         -nan         -nan         -nan         -nan         -nan         -nan         -nan         -nan\r\n",
      " 1.10956e-13 -1.62614e-12  -0.00128696   0.00820067  8.45146e-14 -1.76101e-14     -0.03393   -0.0289369  0.000646118  3.86528e-14  3.70381e-12    0.0218204  -3.4405e-12  3.93389e-13  1.88412e-12 -2.11954e-13   0.00769992  -0.00769992      1.12387    0.0829025  2.46049e-12 -5.94168e-14  -0.00145552         -nan         -nan         -nan         -nan         -nan         -nan         -nan         -nan         -nan         -nan         -nan         -nan\r\n",
      " 2.96837e-14 -1.08128e-12   0.00820067  -0.00128696 -5.15199e-13  7.18936e-14    0.0289369      0.03393  0.000646118  -2.5763e-13  6.37166e-13    0.0218204 -4.79307e-12  3.95274e-13   -3.381e-13  1.20112e-13   0.00769992  -0.00769992    0.0829025      1.12387  3.17687e-12 -1.72221e-13  -0.00145552         -nan         -nan         -nan         -nan         -nan         -nan         -nan         -nan         -nan         -nan         -nan         -nan\r\n",
      "-0.000380074   -0.0559802 -1.14346e-12 -1.15244e-12  -0.00259827 -1.76407e-05  2.07966e-11 -2.24127e-11  3.15425e-12 -0.000648322    0.0110125  1.17279e-12   -0.0175655   0.00277301    0.0179777  0.000122058  9.78398e-14  1.74961e-13 -1.00636e-12  7.39535e-13     0.583856  1.05016e-12 -7.85302e-13         -nan         -nan         -nan         -nan         -nan         -nan         -nan         -nan         -nan         -nan         -nan         -nan\r\n",
      "  -0.0559802  0.000380074  5.26089e-13 -1.09355e-12  1.76407e-05  -0.00259827 -1.32245e-12  1.33095e-12 -1.97359e-13   -0.0110125 -0.000648322  -7.4586e-14   0.00277301    0.0175655 -0.000122058    0.0179777  4.33548e-13  1.30395e-12  1.84239e-13 -8.78388e-14  1.05014e-12     0.583856 -1.55355e-11         -nan         -nan         -nan         -nan         -nan         -nan         -nan         -nan         -nan         -nan         -nan         -nan\r\n",
      "-5.74898e-13 -1.42016e-14   -0.0411998   -0.0411998 -1.73176e-14 -3.21024e-13  -0.00174013   0.00174013 -7.29555e-05 -5.39166e-12  4.59086e-17 -6.29608e-05   8.9382e-14  5.36487e-13  1.48255e-13  3.20572e-12    0.0167322   -0.0167322  -0.00193379  -0.00193379 -9.26137e-13 -1.40606e-11      1.94745         -nan         -nan         -nan         -nan         -nan         -nan         -nan         -nan         -nan         -nan         -nan         -nan\r\n",
      "        -nan         -nan         -nan         -nan         -nan         -nan         -nan         -nan         -nan         -nan         -nan         -nan         -nan         -nan         -nan         -nan         -nan         -nan         -nan         -nan         -nan         -nan         -nan         -nan         -nan         -nan         -nan         -nan         -nan         -nan         -nan         -nan         -nan         -nan         -nan\r\n",
      "        -nan         -nan         -nan         -nan         -nan         -nan         -nan         -nan         -nan         -nan         -nan         -nan         -nan         -nan         -nan         -nan         -nan         -nan         -nan         -nan         -nan         -nan         -nan         -nan         -nan         -nan         -nan         -nan         -nan         -nan         -nan         -nan         -nan         -nan         -nan\r\n",
      "        -nan         -nan         -nan         -nan         -nan         -nan         -nan         -nan         -nan         -nan         -nan         -nan         -nan         -nan         -nan         -nan         -nan         -nan         -nan         -nan         -nan         -nan         -nan         -nan         -nan         -nan         -nan         -nan         -nan         -nan         -nan         -nan         -nan         -nan         -nan\r\n",
      "        -nan         -nan         -nan         -nan         -nan         -nan         -nan         -nan         -nan         -nan         -nan         -nan         -nan         -nan         -nan         -nan         -nan         -nan         -nan         -nan         -nan         -nan         -nan         -nan         -nan         -nan         -nan         -nan         -nan         -nan         -nan         -nan         -nan         -nan         -nan\r\n",
      "        -nan         -nan         -nan         -nan         -nan         -nan         -nan         -nan         -nan         -nan         -nan         -nan         -nan         -nan         -nan         -nan         -nan         -nan         -nan         -nan         -nan         -nan         -nan         -nan         -nan         -nan         -nan         -nan         -nan         -nan         -nan         -nan         -nan         -nan         -nan\r\n",
      "        -nan         -nan         -nan         -nan         -nan         -nan         -nan         -nan         -nan         -nan         -nan         -nan         -nan         -nan         -nan         -nan         -nan         -nan         -nan         -nan         -nan         -nan         -nan         -nan         -nan         -nan         -nan         -nan         -nan         -nan         -nan         -nan         -nan         -nan         -nan\r\n",
      "        -nan         -nan         -nan         -nan         -nan         -nan         -nan         -nan         -nan         -nan         -nan         -nan         -nan         -nan         -nan         -nan         -nan         -nan         -nan         -nan         -nan         -nan         -nan         -nan         -nan         -nan         -nan         -nan         -nan         -nan         -nan         -nan         -nan         -nan         -nan\r\n",
      "        -nan         -nan         -nan         -nan         -nan         -nan         -nan         -nan         -nan         -nan         -nan         -nan         -nan         -nan         -nan         -nan         -nan         -nan         -nan         -nan         -nan         -nan         -nan         -nan         -nan         -nan         -nan         -nan         -nan         -nan         -nan         -nan         -nan         -nan         -nan\r\n",
      "        -nan         -nan         -nan         -nan         -nan         -nan         -nan         -nan         -nan         -nan         -nan         -nan         -nan         -nan         -nan         -nan         -nan         -nan         -nan         -nan         -nan         -nan         -nan         -nan         -nan         -nan         -nan         -nan         -nan         -nan         -nan         -nan         -nan         -nan         -nan\r\n",
      "        -nan         -nan         -nan         -nan         -nan         -nan         -nan         -nan         -nan         -nan         -nan         -nan         -nan         -nan         -nan         -nan         -nan         -nan         -nan         -nan         -nan         -nan         -nan         -nan         -nan         -nan         -nan         -nan         -nan         -nan         -nan         -nan         -nan         -nan         -nan\r\n",
      "        -nan         -nan         -nan         -nan         -nan         -nan         -nan         -nan         -nan         -nan         -nan         -nan         -nan         -nan         -nan         -nan         -nan         -nan         -nan         -nan         -nan         -nan         -nan         -nan         -nan         -nan         -nan         -nan         -nan         -nan         -nan         -nan         -nan         -nan         -nan\r\n",
      "        -nan         -nan         -nan         -nan         -nan         -nan         -nan         -nan         -nan         -nan         -nan         -nan         -nan         -nan         -nan         -nan         -nan         -nan         -nan         -nan         -nan         -nan         -nan          nan          nan          nan          nan          nan          nan          nan          nan          nan          nan          nan          nan\r\n",
      "an error occurred:\r\n",
      "Small generalized eigenvalue problem failed.\r\n"
     ]
    }
   ],
   "source": [
    "!xtp_tools -c job_name=CO geometry_optimization.maxiter=1 dftpackage.basisset=3-21G dftpackage.auxbasisset=aux-def2-svp gwbse.gw.mode=G0W0 -e dftgwbse -t 4"
   ]
  },
  {
   "cell_type": "markdown",
   "metadata": {},
   "source": [
    "Notice that we are using 4 threads. The results will be stored in a file named `CO_summary.xml` in the current work directory, together with the optimization step in `optimisation.trj` and the orbitals in [hdf5 format](https://www.hdfgroup.org/solutions/hdf5/) saved on `CO.orb`."
   ]
  }
 ],
 "metadata": {
  "kernelspec": {
   "display_name": "Python 3",
   "language": "python",
   "name": "python3"
  },
  "language_info": {
   "codemirror_mode": {
    "name": "ipython",
    "version": 3
   },
   "file_extension": ".py",
   "mimetype": "text/x-python",
   "name": "python",
   "nbconvert_exporter": "python",
   "pygments_lexer": "ipython3",
   "version": "3.10.2"
  }
 },
 "nbformat": 4,
 "nbformat_minor": 4
}
