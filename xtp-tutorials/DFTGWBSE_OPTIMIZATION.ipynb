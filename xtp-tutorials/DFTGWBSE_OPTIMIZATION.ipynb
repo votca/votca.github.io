{
 "cells": [
  {
   "cell_type": "markdown",
   "metadata": {},
   "source": [
    "## DFT + GWBSE Optimization Using CO"
   ]
  },
  {
   "cell_type": "markdown",
   "metadata": {},
   "source": [
    "## Introduction\n",
    "This tutorial explains how to perform a molecular geometric optimization using the **GWBSE** method. See [the GW Compendium: A Practical Guide to Theoretical Photoemission Spectroscopy](https://doi.org/10.3389/fchem.2019.00377), for an excellent introduction to the method."
   ]
  },
  {
   "cell_type": "markdown",
   "metadata": {},
   "source": [
    "## Requirements\n",
    "* You will need to install **VOTCA** using the instructions described [here](https://github.com/votca/votca/blob/master/share/doc/INSTALL.rst)\n",
    "* Once the installation is completed you need to activate the VOTCA enviroment by running the `VOTCARC.bash` script that has been installed at the bin subfolder for the path that you have provided for the installation step above"
   ]
  },
  {
   "cell_type": "markdown",
   "metadata": {},
   "source": [
    "## Preparing the input\n",
    "To run a DFT-GWBSE calculation we will use the [xtp_tools](https://www.votca.org/xtp/xtp_tools_overview.html) calculator."
   ]
  },
  {
   "cell_type": "markdown",
   "metadata": {},
   "source": [
    "we can now change the calculator mode from single point energy calculation to optimization as follows by adding \n",
    "`-c geometry_optimization.maxiter=1` which enables optimization with one iteration. "
   ]
  },
  {
   "cell_type": "markdown",
   "metadata": {},
   "source": [
    "Because geometry optimsation is quite expensive numerically we chose a smaller basisset and G0W0 Finally, to run the calculation we just need the following command (This still takes a while)"
   ]
  },
  {
   "cell_type": "code",
   "execution_count": 1,
   "metadata": {
    "execution": {
     "iopub.execute_input": "2023-02-24T05:20:47.048052Z",
     "iopub.status.busy": "2023-02-24T05:20:47.047748Z",
     "iopub.status.idle": "2023-02-24T05:22:13.035946Z",
     "shell.execute_reply": "2023-02-24T05:22:13.035014Z"
    }
   },
   "outputs": [
    {
     "name": "stdout",
     "output_type": "stream",
     "text": [
      "==================================================\r\n",
      "========   VOTCA (http://www.votca.org)   ========\r\n",
      "==================================================\r\n",
      "\r\n",
      "please submit bugs to https://github.com/votca/votca/issues\r\n",
      "\r\n",
      "xtp_tools, version 2024-dev gitid: 97b96b2 (compiled Feb 24 2023, 05:17:12)\r\n",
      "\r\n",
      "Initializing tool\r\n",
      "... dftgwbse Evaluating tool\r\n",
      "... dftgwbse  Using 4 threads\r\n",
      "... ... Reading structure from CO.xyz\r\n",
      "... ... Requested geometry optimization of excited state s1\r\n",
      "... ... Initial state: s1\r\n",
      "... ... WARNING: No tracker is used \r\n",
      "... ... Convergence of total energy: 0.000001 Hartree \r\n",
      "... ... Convergence of RMS Force:    0.000030 Hartree/Bohr \r\n",
      "... ... Convergence of Max Force:    0.000100 Hartree/Bohr \r\n",
      "... ... Convergence of RMS Step:     0.000600 Bohr \r\n",
      "... ... Convergence of Max Step:     0.001000 Bohr \r\n",
      "... ... Initial trust radius:        0.018897 Bohr\r\n",
      "... ... \r\n",
      "... ... =========== OPTIMIZATION SUMMARY ================================= \r\n",
      "... ... At iteration  0\r\n",
      "... ...  ---- POSITIONS (Angstrom)   \r\n",
      "... ...  Atom\t x\t  y\t  z \r\n",
      "... ...    0    +0.0000  +0.0000  +0.0000\r\n",
      "... ...    1    +1.2000  +0.0000  +0.0000\r\n",
      "... ...    Total energy:     -112.26831841 Hartree \r\n",
      "... ...    Trust radius:       0.01889726 Bohr     \r\n",
      "... ...  ---- FORCES (Hartree/Bohr)   \r\n",
      "... ...       central differences   \r\n",
      "... ...       displacement 0.0010 Angstrom   \r\n",
      "... ...  Atom\t x\t  y\t  z \r\n",
      "... ...    0    -0.1314  -0.0000  -0.0000\r\n",
      "... ...    1    +0.1314  +0.0000  +0.0000A\r\n",
      "     0.30157 -7.21682e-14  4.02385e-11  2.02991e-11 -5.76629e-14     0.051948  7.17308e-13 -7.22382e-13 -2.35948e-13 -4.74235e-05   -0.0176765  9.57014e-14 -0.000390407   -0.0390234  4.58889e-14   -0.0423787  1.36832e-12 -1.26569e-12 -8.59449e-14 -8.75236e-14 -3.71746e-05     0.107191 -1.70523e-11  1.46707e-11          nan          nan          nan          nan          nan          nan          nan          nan          nan          nan          nan\r\n",
      "-7.21857e-14      0.30157  7.68767e-13  7.63684e-13     0.051948 -5.77361e-14 -2.47863e-10  2.67802e-10  9.53382e-11    0.0176765 -4.74235e-05 -3.87793e-11    0.0390234 -0.000390407   -0.0423787  4.59166e-14 -2.80462e-13  2.82041e-13  3.88034e-11  3.89061e-11     0.107191  3.71746e-05  -4.7951e-14  2.09448e-13          nan          nan          nan          nan          nan          nan          nan          nan          nan          nan          nan\r\n",
      " 4.02385e-11  7.68767e-13      0.31083   -0.0100798 -4.15972e-13   2.4432e-11 -0.000621121  0.000621121  0.000243153  2.72755e-13 -1.10807e-11 -0.000109221 -2.96425e-16  4.61651e-12  6.17874e-14  -5.0299e-11   -0.0492353   0.00195823 -0.000396147  7.68331e-05  2.99351e-12  5.29227e-11   -0.0248117    0.0217472          nan          nan          nan          nan          nan          nan          nan          nan          nan          nan          nan\r\n",
      " 2.02991e-11  7.63684e-13   -0.0100798      0.31083 -4.22407e-13 -4.20007e-13 -0.000621121  0.000621121  0.000243153  2.97244e-13 -1.09711e-12 -0.000109221 -1.84231e-14  2.75554e-12  7.16201e-14  4.09684e-13  -0.00195823    0.0492353  7.68331e-05 -0.000396147  2.99793e-12  1.21953e-11   -0.0248117   -0.0217472          nan          nan          nan          nan          nan          nan          nan          nan          nan          nan          nan\r\n",
      "-5.76811e-14     0.051948 -4.15972e-13 -4.22407e-13     0.487116 -8.81704e-15  1.79509e-10 -1.54657e-10 -8.36874e-11    0.0136234 -3.65497e-05  4.01344e-11  -0.00828334  8.28701e-05    0.0302057  1.59761e-13  2.13583e-13  -1.8818e-13 -2.82836e-11 -2.58459e-11    0.0548637  1.90271e-05  1.65347e-13 -2.12898e-13          nan          nan          nan          nan          nan          nan          nan          nan          nan          nan          nan\r\n",
      "    0.051948 -5.77388e-14   2.4432e-11 -4.20007e-13 -8.78713e-15     0.487116 -3.87543e-13  3.81096e-13  2.08653e-13 -3.65497e-05   -0.0136234 -1.00136e-13  8.28701e-05   0.00828334  1.59775e-13    0.0302057  2.31076e-12   1.2686e-13  8.79957e-14  6.25825e-14 -1.90271e-05    0.0548637 -5.55875e-12 -1.44593e-11          nan          nan          nan          nan          nan          nan          nan          nan          nan          nan          nan\r\n",
      " 7.17308e-13 -2.47863e-10 -0.000621121 -0.000621121  1.79509e-10 -3.87543e-13     0.542343    -0.221433    -0.090632 -1.01741e-10 -7.02046e-15    0.0407107  1.29297e-11 -8.30402e-14 -7.33094e-11  5.73105e-14 -0.000229447 -0.000243533    0.0132964   -0.0339807 -1.06726e-09  2.32668e-12  7.80319e-05  0.000239998          nan          nan          nan          nan          nan          nan          nan          nan          nan          nan          nan\r\n",
      "-7.22382e-13  2.67802e-10  0.000621121  0.000621121 -1.54657e-10  3.81096e-13    -0.221433     0.542343     0.090632  1.11725e-10 -1.74059e-14   -0.0407107 -1.47907e-11  1.01133e-13  2.26007e-11 -4.73726e-14 -0.000243533 -0.000229447    0.0339807   -0.0132964  1.10727e-09 -2.32224e-12 -7.80319e-05  0.000239998          nan          nan          nan          nan          nan          nan          nan          nan          nan          nan          nan\r\n",
      "-2.35948e-13  9.53382e-11  0.000243153  0.000243153 -8.36874e-11  2.08653e-13    -0.090632     0.090632     0.660145  6.15276e-11 -1.30292e-14   0.00527337  3.12047e-12 -2.37644e-14  3.30999e-11 -8.20812e-14  -3.4574e-05   3.4574e-05   0.00472234   0.00472234  3.60913e-10 -7.37734e-13  -5.7268e-05 -1.55156e-11          nan          nan          nan          nan          nan          nan          nan          nan          nan          nan          nan\r\n",
      "-4.74235e-05    0.0176765  2.72755e-13  2.97244e-13    0.0136234 -3.65497e-05 -1.01741e-10  1.11725e-10  6.15276e-11     0.669023  2.75578e-15 -8.25933e-12 -9.83172e-06  7.19817e-08  -0.00903064  2.42279e-05 -3.24877e-14  7.69576e-14  4.78398e-12  1.05561e-11    0.0409884 -9.57509e-05 -6.01738e-15  2.34589e-13          nan          nan          nan          nan          nan          nan          nan          nan          nan          nan          nan\r\n",
      "  -0.0176765 -4.74235e-05 -1.10807e-11 -1.09711e-12 -3.65497e-05   -0.0136234 -7.02045e-15 -1.74056e-14 -1.30292e-14  2.78071e-15     0.669023  1.26915e-15 -7.19817e-08 -9.83172e-06  2.42279e-05   0.00903064   1.8761e-12 -7.64821e-12  1.16893e-14  5.61649e-14 -9.57509e-05   -0.0409884  7.91733e-12 -2.25447e-11          nan          nan          nan          nan          nan          nan          nan          nan          nan          nan          nan\r\n",
      " 9.57014e-14 -3.87793e-11 -0.000109221 -0.000109221  4.01344e-11 -1.00135e-13    0.0407107   -0.0407107   0.00527337 -8.25933e-12  1.26916e-15     0.793384  1.18505e-11 -8.88509e-14  3.85095e-12 -9.42581e-15   0.00011163  -0.00011163   -0.0152472   -0.0152472 -1.38601e-10  2.81474e-13  2.35554e-05  6.77667e-12          nan          nan          nan          nan          nan          nan          nan          nan          nan          nan          nan\r\n",
      "-0.000390407    0.0390234 -2.96424e-16 -1.84231e-14  -0.00828334  8.28701e-05  1.29297e-11 -1.47907e-11  3.12047e-12 -9.83172e-06 -7.19817e-08  1.18505e-11     0.954425  5.36606e-14    0.0128938 -0.000128995 -3.75947e-14  3.44764e-14   1.1123e-11 -3.32708e-12   -0.0199044  0.000192229 -6.50314e-14 -6.83452e-14          nan          nan          nan          nan          nan          nan          nan          nan          nan          nan          nan\r\n",
      "  -0.0390234 -0.000390407  4.61651e-12  2.75554e-12  8.28701e-05   0.00828334 -8.30402e-14  1.01133e-13 -2.37644e-14  7.19817e-08 -9.83172e-06 -8.88509e-14  5.36313e-14     0.954425 -0.000128995   -0.0128938  6.21875e-12  8.23137e-12 -3.63074e-14 -3.94537e-14  0.000192229    0.0199044 -6.00214e-12  1.67163e-11          nan          nan          nan          nan          nan          nan          nan          nan          nan          nan          nan\r\n",
      "  4.5878e-14   -0.0423787  6.17875e-14  7.16201e-14    0.0302057  1.59783e-13 -7.33094e-11  2.26007e-11  3.30999e-11  -0.00903064  2.42279e-05  3.85095e-12    0.0128938 -0.000128995     0.974684  9.26515e-14 -1.45576e-13 -4.16535e-14  1.51504e-11 -3.20117e-12   -0.0229107 -7.94557e-06 -4.89987e-14 -3.09683e-14          nan          nan          nan          nan          nan          nan          nan          nan          nan          nan          nan\r\n",
      "  -0.0423787  4.58919e-14  -5.0299e-11  4.09684e-13  1.59746e-13    0.0302057  5.73106e-14 -4.73725e-14 -8.20812e-14  2.42279e-05   0.00903064 -9.42581e-15 -0.000128995   -0.0128938  9.26669e-14     0.974684 -1.25438e-11 -5.80781e-12 -1.33253e-13  5.40232e-14  7.94557e-06   -0.0229107 -5.53266e-13 -3.61114e-12          nan          nan          nan          nan          nan          nan          nan          nan          nan          nan          nan\r\n",
      " 1.36832e-12 -2.80462e-13   -0.0492353  -0.00195823  2.13583e-13  2.31076e-12 -0.000229447 -0.000243533  -3.4574e-05 -3.24877e-14   1.8761e-12   0.00011163 -3.75947e-14  6.21875e-12 -1.45576e-13 -1.25438e-11      1.02179  -0.00208641 -0.000313078 -0.000313078 -1.08271e-12  8.34502e-12   0.00474227 -3.17366e-05          nan          nan          nan          nan          nan          nan          nan          nan          nan          nan          nan\r\n",
      "-1.26569e-12  2.82041e-13   0.00195823    0.0492353  -1.8818e-13   1.2686e-13 -0.000243533 -0.000229447   3.4574e-05  7.69575e-14 -7.64821e-12  -0.00011163  3.44764e-14  8.23137e-12 -4.16535e-14 -5.80781e-12  -0.00208641      1.02179  0.000313078  0.000313078  1.13808e-12 -2.71927e-12  -0.00474227 -3.17366e-05          nan          nan          nan          nan          nan          nan          nan          nan          nan          nan          nan\r\n",
      "-8.59449e-14  3.88034e-11 -0.000396147  7.68331e-05 -2.82836e-11  8.79957e-14    0.0132964    0.0339807   0.00472234  4.78398e-12  1.16893e-14   -0.0152472   1.1123e-11 -3.63074e-14  1.51504e-11 -1.33253e-13 -0.000313078  0.000313078      1.06455    0.0448464  1.50635e-10 -2.47109e-13    1.001e-05  5.42863e-06          nan          nan          nan          nan          nan          nan          nan          nan          nan          nan          nan\r\n",
      "-8.75236e-14  3.89061e-11  7.68331e-05 -0.000396147 -2.58459e-11  6.25825e-14   -0.0339807   -0.0132964   0.00472234  1.05561e-11  5.61649e-14   -0.0152472 -3.32708e-12 -3.94537e-14 -3.20117e-12  5.40232e-14 -0.000313078  0.000313078    0.0448464      1.06455  1.56189e-10 -3.03311e-13    1.001e-05 -5.42865e-06          nan          nan          nan          nan          nan          nan          nan          nan          nan          nan          nan\r\n",
      " 2.58845e-05   -0.0746367 -1.79452e-12 -1.79635e-12    -0.069959  2.42622e-05  6.27396e-10 -6.46479e-10 -2.65824e-10    -0.030442  7.11139e-05  1.18742e-10   0.00918443 -8.86994e-05    0.0362981 -1.25884e-05   8.4953e-13 -8.11449e-13 -1.15491e-10 -1.11589e-10    -0.195037  4.08314e-13  1.59102e-12  2.44846e-12          nan          nan          nan          nan          nan          nan          nan          nan          nan          nan          nan\r\n",
      "  -0.0746367 -2.58845e-05 -4.46798e-11 -2.50207e-11 -2.42622e-05    -0.069959 -1.38266e-12  1.38114e-12   5.3883e-13  7.11139e-05     0.030442 -2.40844e-13 -8.86994e-05  -0.00918443  1.25884e-05    0.0362981  1.67217e-12  2.11526e-12  2.47461e-13  2.10507e-13  4.08176e-13    -0.195037  4.35665e-10  1.73392e-10          nan          nan          nan          nan          nan          nan          nan          nan          nan          nan          nan\r\n",
      " 3.96224e-11  1.86536e-13   -0.0141048   -0.0141048 -1.94197e-13  1.12408e-11 -0.000209897  0.000209897  6.80856e-05   3.2762e-14  -1.9348e-11  -2.8497e-05  4.98097e-14  6.23457e-12 -3.88775e-14 -4.44167e-11   0.00610172  -0.00610172  6.57519e-05  6.57519e-05  2.07475e-12  4.38809e-10     0.942223  1.14256e-09          nan          nan          nan          nan          nan          nan          nan          nan          nan          nan          nan\r\n",
      " 2.19301e-11  3.11458e-13  -0.00714247   0.00714247 -1.22684e-13  -9.4489e-12 -5.60755e-05 -5.60755e-05  9.64094e-12  1.00394e-13 -7.25524e-12 -4.70745e-12 -5.56749e-14  1.37672e-11  2.57566e-13  1.94532e-11   -0.0044703   -0.0044703   6.2253e-06  -6.2253e-06  2.86312e-12  2.02223e-10  1.13184e-09    0.0464949          nan          nan          nan          nan          nan          nan          nan          nan          nan          nan          nan\r\n",
      "        -nan         -nan         -nan         -nan         -nan         -nan         -nan         -nan         -nan         -nan         -nan         -nan         -nan         -nan         -nan         -nan         -nan         -nan         -nan         -nan         -nan         -nan         -nan         -nan         -nan         -nan         -nan         -nan         -nan         -nan         -nan         -nan         -nan         -nan         -nan\r\n",
      "        -nan         -nan         -nan         -nan         -nan         -nan         -nan         -nan         -nan         -nan         -nan         -nan         -nan         -nan         -nan         -nan         -nan         -nan         -nan         -nan         -nan         -nan         -nan         -nan         -nan         -nan         -nan         -nan         -nan         -nan         -nan         -nan         -nan         -nan         -nan\r\n",
      "        -nan         -nan         -nan         -nan         -nan         -nan         -nan         -nan         -nan         -nan         -nan         -nan         -nan         -nan         -nan         -nan         -nan         -nan         -nan         -nan         -nan         -nan         -nan         -nan          nan          nan          nan          nan          nan          nan          nan          nan          nan          nan          nan\r\n",
      "        -nan         -nan         -nan         -nan         -nan         -nan         -nan         -nan         -nan         -nan         -nan         -nan         -nan         -nan         -nan         -nan         -nan         -nan         -nan         -nan         -nan         -nan         -nan         -nan          nan          nan          nan          nan          nan          nan          nan          nan          nan          nan          nan\r\n",
      "        -nan         -nan         -nan         -nan         -nan         -nan         -nan         -nan         -nan         -nan         -nan         -nan         -nan         -nan         -nan         -nan         -nan         -nan         -nan         -nan         -nan         -nan         -nan         -nan         -nan         -nan         -nan         -nan         -nan         -nan         -nan         -nan         -nan         -nan         -nan\r\n",
      "        -nan         -nan         -nan         -nan         -nan         -nan         -nan         -nan         -nan         -nan         -nan         -nan         -nan         -nan         -nan         -nan         -nan         -nan         -nan         -nan         -nan         -nan         -nan         -nan         -nan         -nan         -nan         -nan         -nan         -nan         -nan         -nan         -nan         -nan         -nan\r\n",
      "        -nan         -nan         -nan         -nan         -nan         -nan         -nan         -nan         -nan         -nan         -nan         -nan         -nan         -nan         -nan         -nan         -nan         -nan         -nan         -nan         -nan         -nan         -nan         -nan          nan          nan          nan          nan          nan          nan          nan          nan          nan          nan          nan\r\n",
      "        -nan         -nan         -nan         -nan         -nan         -nan         -nan         -nan         -nan         -nan         -nan         -nan         -nan         -nan         -nan         -nan         -nan         -nan         -nan         -nan         -nan         -nan         -nan         -nan          nan          nan          nan          nan          nan          nan          nan          nan          nan          nan          nan\r\n",
      "        -nan         -nan         -nan         -nan         -nan         -nan         -nan         -nan         -nan         -nan         -nan         -nan         -nan         -nan         -nan         -nan         -nan         -nan         -nan         -nan         -nan         -nan         -nan         -nan          nan          nan          nan         -nan          nan          nan          nan         -nan          nan          nan          nan\r\n",
      "        -nan         -nan         -nan         -nan         -nan         -nan         -nan         -nan         -nan         -nan         -nan         -nan         -nan         -nan         -nan         -nan         -nan         -nan         -nan         -nan         -nan         -nan         -nan         -nan          nan          nan          nan         -nan          nan          nan          nan         -nan          nan          nan          nan\r\n",
      "        -nan         -nan         -nan         -nan         -nan         -nan         -nan         -nan         -nan         -nan         -nan         -nan         -nan         -nan         -nan         -nan         -nan         -nan         -nan         -nan         -nan         -nan         -nan         -nan         -nan         -nan         -nan         -nan         -nan         -nan         -nan         -nan         -nan         -nan         -nan\r\n",
      "B\r\n",
      "   0.0906271 -3.15502e-14    2.379e-11  9.47619e-12 -3.51371e-14    0.0326354  3.01258e-13 -3.04725e-13 -1.48151e-13 -3.98858e-05   -0.0148669  6.29998e-14 -0.000481427   -0.0481214  5.23815e-14   -0.0477892  8.42088e-13 -3.25613e-13 -6.62822e-14 -7.22103e-14 -8.48824e-06    0.0244755   2.7245e-11  2.93731e-11         -nan         -nan         -nan         -nan         -nan         -nan         -nan         -nan         -nan         -nan         -nan\r\n",
      "-3.15636e-14    0.0906271  3.22443e-13  3.18976e-13    0.0326354   -3.519e-14 -9.71225e-11  1.11436e-10  5.98697e-11    0.0148669 -3.98858e-05  -2.5558e-11    0.0481214 -0.000481427   -0.0477892  5.24023e-14 -2.12332e-13  2.18258e-13  2.93424e-11  2.98589e-11    0.0244755  8.48824e-06  1.48474e-13  4.20976e-13         -nan         -nan         -nan         -nan         -nan         -nan         -nan         -nan         -nan         -nan         -nan\r\n",
      "   2.379e-11  3.22443e-13    0.0997347  -0.00553758 -2.46523e-13  1.60481e-11 -0.000303991  0.000303991  0.000174977   1.9403e-13 -1.04387e-11 -8.50224e-05   3.6809e-14  4.99359e-12  7.54803e-14 -6.16297e-11   -0.0659115     0.002258 -0.000574912  6.19053e-05  3.84836e-13   7.2957e-12   -0.0408446    0.0146815         -nan         -nan         -nan         -nan         -nan         -nan         -nan         -nan         -nan         -nan         -nan\r\n",
      " 9.47619e-12  3.18976e-13  -0.00553758    0.0997347 -2.50895e-13 -3.49329e-13 -0.000303991  0.000303991  0.000174977  2.18489e-13 -4.62057e-13 -8.50224e-05   1.2563e-14  2.50875e-12  8.76111e-14  1.10447e-12    -0.002258    0.0659115  6.19053e-05 -0.000574912  3.87399e-13 -1.40927e-11   -0.0408446   -0.0146815         -nan         -nan         -nan         -nan         -nan         -nan         -nan         -nan         -nan         -nan         -nan\r\n",
      "-3.51565e-14    0.0326354 -2.46523e-13 -2.50895e-13     0.236919 -3.01175e-15  1.07963e-10 -9.15651e-11 -7.17832e-11    0.0143889 -3.86035e-05  3.85682e-11  -0.00947356  9.47775e-05    0.0425853  2.19196e-13  2.16899e-13 -1.85448e-13 -2.85483e-11 -2.55355e-11  -0.00365057 -1.26604e-06 -7.18701e-15  -3.6126e-13         -nan         -nan         -nan         -nan         -nan         -nan         -nan         -nan         -nan         -nan         -nan\r\n",
      "   0.0326354 -3.51859e-14  1.60481e-11 -3.49329e-13 -2.98143e-15     0.236919 -2.29667e-13   2.2529e-13  1.78901e-13 -3.86035e-05   -0.0143889 -9.61811e-14  9.47775e-05   0.00947356   2.1922e-13    0.0425853  2.76312e-12   2.4959e-13   9.2065e-14  6.06043e-14  1.26604e-06  -0.00365057  3.19331e-12 -2.59712e-11         -nan         -nan         -nan         -nan         -nan         -nan         -nan         -nan         -nan         -nan         -nan\r\n",
      " 3.01258e-13 -9.71225e-11 -0.000303991 -0.000303991  1.07963e-10 -2.29667e-13     0.213042     -0.10777   -0.0652204 -7.23415e-11 -1.12171e-14     0.031691  1.12727e-13  1.44608e-14 -8.97869e-11  7.02456e-14 -0.000428835 -0.000207982    0.0344187   -0.0292348 -1.37232e-10  3.00296e-13  -0.00013563  0.000184507         -nan         -nan         -nan         -nan         -nan         -nan         -nan         -nan         -nan         -nan         -nan\r\n",
      "-3.04725e-13  1.11436e-10  0.000303991  0.000303991 -9.15651e-11   2.2529e-13     -0.10777     0.213042    0.0652204  8.23182e-11 -1.31857e-14    -0.031691 -2.59761e-12  9.74042e-15  2.70526e-11 -5.79862e-14 -0.000207982 -0.000428835    0.0292348   -0.0344187  1.58427e-10 -2.97255e-13   0.00013563  0.000184507         -nan         -nan         -nan         -nan         -nan         -nan         -nan         -nan         -nan         -nan         -nan\r\n",
      "-1.48151e-13  5.98697e-11  0.000174977  0.000174977 -7.17832e-11  1.78901e-13   -0.0652204    0.0652204     0.424482  6.67839e-11 -1.42463e-14    0.0113321  1.12915e-11 -8.52032e-14  4.48477e-11 -1.11227e-13  -4.4039e-06   4.4039e-06  0.000601513  0.000601513  8.46655e-11 -1.71319e-13 -1.80788e-06 -3.88051e-12         -nan         -nan         -nan         -nan         -nan         -nan         -nan         -nan         -nan         -nan         -nan\r\n",
      "-3.98858e-05    0.0148669   1.9403e-13  2.18489e-13    0.0143889 -3.86035e-05 -7.23415e-11  8.23182e-11  6.67839e-11     0.448028  3.54495e-15 -5.53465e-12  0.000495528 -3.62795e-06    -0.010767  2.88863e-05  1.85915e-14  5.99277e-14  -1.9391e-12  8.26636e-12    0.0177615 -4.14917e-05  1.98191e-14  3.65206e-13         -nan         -nan         -nan         -nan         -nan         -nan         -nan         -nan         -nan         -nan         -nan\r\n",
      "  -0.0148669 -3.98858e-05 -1.04387e-11 -4.62057e-13 -3.86035e-05   -0.0143889 -1.12171e-14 -1.31854e-14 -1.42462e-14  3.58281e-15     0.448028   5.2805e-16  3.62795e-06  0.000495528  2.88863e-05     0.010767  3.28153e-12 -1.34869e-11  2.24967e-14  1.01023e-13 -4.14917e-05   -0.0177615 -1.47297e-11 -3.29177e-11         -nan         -nan         -nan         -nan         -nan         -nan         -nan         -nan         -nan         -nan         -nan\r\n",
      " 6.29998e-14  -2.5558e-11 -8.50224e-05 -8.50224e-05  3.85682e-11 -9.61808e-14     0.031691    -0.031691    0.0113321 -5.53465e-12   5.2807e-16     0.627711  1.66128e-11 -1.24597e-13  8.80341e-12 -2.16782e-14  0.000160031 -0.000160031    -0.021858    -0.021858 -1.37207e-11  2.40945e-14  2.36252e-06  1.26691e-12         -nan         -nan         -nan         -nan         -nan         -nan         -nan         -nan         -nan         -nan         -nan\r\n",
      "-0.000481427    0.0481214   3.6809e-14   1.2563e-14  -0.00947356  9.47775e-05  1.12727e-13 -2.59761e-12  1.12915e-11  0.000495528  3.62795e-06  1.66128e-11     0.913264  9.19916e-14    0.0216054 -0.000216149 -1.01861e-13  9.55824e-14   2.6267e-11 -2.88495e-12   -0.0227525  0.000219734 -7.06067e-14 -1.49468e-13         -nan         -nan         -nan         -nan         -nan         -nan         -nan         -nan         -nan         -nan         -nan\r\n",
      "  -0.0481214 -0.000481427  4.99359e-12  2.50875e-12  9.47775e-05   0.00947356  1.44608e-14  9.74042e-15 -8.52032e-14 -3.62795e-06  0.000495528 -1.24597e-13  9.19387e-14     0.913264 -0.000216149   -0.0216054  1.28132e-11  1.63388e-11 -9.97955e-14 -1.06129e-13  0.000219734    0.0227525 -4.45689e-12  3.66456e-11         -nan         -nan         -nan         -nan         -nan         -nan         -nan         -nan         -nan         -nan         -nan\r\n",
      " 5.23707e-14   -0.0477892  7.54804e-14  8.76112e-14    0.0425853  2.19229e-13 -8.97869e-11  2.70526e-11  4.48477e-11    -0.010767  2.88863e-05  8.80341e-12    0.0216054 -0.000216149     0.954146   1.7605e-13 -2.46799e-13 -9.10952e-14  2.56704e-11 -7.44469e-12   0.00328347  1.13873e-06 -1.25356e-13  2.38457e-13         -nan         -nan         -nan         -nan         -nan         -nan         -nan         -nan         -nan         -nan         -nan\r\n",
      "  -0.0477892  5.23672e-14 -6.16297e-11  1.10447e-12  2.19173e-13    0.0425853  7.02456e-14 -5.79861e-14 -1.11227e-13  2.88863e-05     0.010767 -2.16782e-14 -0.000216149   -0.0216054  1.76078e-13     0.954146 -2.11511e-11  -1.1964e-11 -2.25446e-13  1.12532e-13 -1.13873e-06   0.00328347 -5.04452e-11   1.5897e-11         -nan         -nan         -nan         -nan         -nan         -nan         -nan         -nan         -nan         -nan         -nan\r\n",
      " 8.42088e-13 -2.12332e-13   -0.0659115    -0.002258  2.16899e-13  2.76312e-12 -0.000428835 -0.000207982  -4.4039e-06  1.85915e-14  3.28153e-12  0.000160031 -1.01861e-13  1.28132e-11 -2.46799e-13 -2.11511e-11      1.04646  -0.00440412  -0.00058127  -0.00058127 -3.29178e-13   1.6925e-11    0.0159301  -0.00606988         -nan         -nan         -nan         -nan         -nan         -nan         -nan         -nan         -nan         -nan         -nan\r\n",
      "-3.25613e-13  2.18258e-13     0.002258    0.0659115 -1.85448e-13   2.4959e-13 -0.000207982 -0.000428835   4.4039e-06  5.99277e-14 -1.34869e-11 -0.000160031  9.55824e-14  1.63388e-11 -9.10952e-14  -1.1964e-11  -0.00440412      1.04646   0.00058127   0.00058127  4.67378e-13 -2.99565e-12   -0.0159301  -0.00606988         -nan         -nan         -nan         -nan         -nan         -nan         -nan         -nan         -nan         -nan         -nan\r\n",
      "-6.62822e-14  2.93424e-11 -0.000574912  6.19053e-05 -2.85483e-11   9.2065e-14    0.0344187    0.0292348  0.000601513  -1.9391e-12  2.24966e-14    -0.021858   2.6267e-11 -9.97955e-14  2.56704e-11 -2.25446e-13  -0.00058127   0.00058127      1.12585    0.0837934  5.05627e-11  2.30261e-14  0.000100728  1.78568e-05         -nan         -nan         -nan         -nan         -nan         -nan         -nan         -nan         -nan         -nan         -nan\r\n",
      "-7.22103e-14  2.98589e-11  6.19053e-05 -0.000574912 -2.55355e-11  6.06043e-14   -0.0292348   -0.0344187  0.000601513  8.26636e-12  1.01023e-13    -0.021858 -2.88495e-12 -1.06129e-13 -7.44469e-12  1.12532e-13  -0.00058127   0.00058127    0.0837934      1.12585  6.45053e-11  -1.1522e-13  0.000100728 -1.78568e-05         -nan         -nan         -nan         -nan         -nan         -nan         -nan         -nan         -nan         -nan         -nan\r\n",
      "-1.94481e-05    0.0560778  1.60749e-12  1.61097e-12  -0.00265972  9.22408e-07 -5.82956e-10  6.11061e-10  9.01054e-11    0.0109729 -2.56333e-05 -1.84704e-11   -0.0178426  0.000172316      0.01806 -6.26333e-06   2.7258e-13 -6.32677e-14 -3.11137e-11 -9.89582e-12     0.585022   4.7623e-13    1.326e-12  4.89402e-12         -nan         -nan         -nan         -nan         -nan         -nan         -nan         -nan         -nan         -nan         -nan\r\n",
      "   0.0560778  1.94481e-05  1.91345e-11 -9.07636e-12 -9.22408e-07  -0.00265972  1.27548e-12 -1.27179e-12 -1.93715e-13 -2.56333e-05   -0.0109729   4.0796e-14  0.000172316    0.0178426  6.26333e-06      0.01806  1.87672e-11  2.33637e-12   2.0282e-13 -5.55707e-15  4.76087e-13     0.585022  4.37633e-10  3.52624e-10         -nan         -nan         -nan         -nan         -nan         -nan         -nan         -nan         -nan         -nan         -nan\r\n",
      " 1.04363e-11  1.25016e-13   -0.0412952   -0.0412952 -1.76842e-15  1.34017e-11 -0.000135111  0.000135111  2.39594e-05  4.80727e-14 -1.74066e-12 -1.29379e-05 -5.80577e-14  -4.6295e-12 -7.92582e-14 -4.93379e-11    0.0168387   -0.0168387   0.00012793   0.00012793  1.85609e-12  4.32205e-10      1.94795  1.64121e-09         -nan         -nan         -nan         -nan         -nan         -nan         -nan         -nan         -nan         -nan         -nan\r\n",
      " 3.99942e-11   5.7423e-13    0.0167057   -0.0167057 -4.22734e-13 -3.08004e-11  0.000210763  0.000210763 -6.97377e-12  4.76977e-13 -4.19969e-11   2.5142e-12 -1.67449e-13  3.96505e-11  1.43175e-13  1.08244e-11  -0.00730683  -0.00730683    1.677e-05   -1.677e-05  5.27704e-12  3.77999e-10  1.63025e-09     0.687884         -nan         -nan         -nan         -nan         -nan         -nan         -nan         -nan         -nan         -nan         -nan\r\n",
      "        -nan         -nan         -nan         -nan         -nan         -nan         -nan         -nan         -nan         -nan         -nan         -nan         -nan         -nan         -nan         -nan         -nan         -nan         -nan         -nan         -nan         -nan         -nan         -nan         -nan         -nan         -nan         -nan         -nan         -nan         -nan         -nan         -nan         -nan         -nan\r\n",
      "        -nan         -nan         -nan         -nan         -nan         -nan         -nan         -nan         -nan         -nan         -nan         -nan         -nan         -nan         -nan         -nan         -nan         -nan         -nan         -nan         -nan         -nan         -nan         -nan         -nan         -nan         -nan         -nan         -nan         -nan         -nan         -nan         -nan         -nan         -nan\r\n",
      "        -nan         -nan         -nan         -nan         -nan         -nan         -nan         -nan         -nan         -nan         -nan         -nan         -nan         -nan         -nan         -nan         -nan         -nan         -nan         -nan         -nan         -nan         -nan         -nan         -nan         -nan         -nan         -nan         -nan         -nan         -nan         -nan         -nan         -nan         -nan\r\n",
      "        -nan         -nan         -nan         -nan         -nan         -nan         -nan         -nan         -nan         -nan         -nan         -nan         -nan         -nan         -nan         -nan         -nan         -nan         -nan         -nan         -nan         -nan         -nan         -nan         -nan         -nan         -nan         -nan         -nan         -nan         -nan         -nan         -nan         -nan         -nan\r\n",
      "        -nan         -nan         -nan         -nan         -nan         -nan         -nan         -nan         -nan         -nan         -nan         -nan         -nan         -nan         -nan         -nan         -nan         -nan         -nan         -nan         -nan         -nan         -nan         -nan         -nan         -nan         -nan         -nan         -nan         -nan         -nan         -nan         -nan         -nan         -nan\r\n",
      "        -nan         -nan         -nan         -nan         -nan         -nan         -nan         -nan         -nan         -nan         -nan         -nan         -nan         -nan         -nan         -nan         -nan         -nan         -nan         -nan         -nan         -nan         -nan         -nan         -nan         -nan         -nan         -nan         -nan         -nan         -nan         -nan         -nan         -nan         -nan\r\n",
      "        -nan         -nan         -nan         -nan         -nan         -nan         -nan         -nan         -nan         -nan         -nan         -nan         -nan         -nan         -nan         -nan         -nan         -nan         -nan         -nan         -nan         -nan         -nan         -nan         -nan         -nan         -nan         -nan         -nan         -nan         -nan         -nan         -nan         -nan         -nan\r\n",
      "        -nan         -nan         -nan         -nan         -nan         -nan         -nan         -nan         -nan         -nan         -nan         -nan         -nan         -nan         -nan         -nan         -nan         -nan         -nan         -nan         -nan         -nan         -nan         -nan         -nan         -nan         -nan         -nan         -nan         -nan         -nan         -nan         -nan         -nan         -nan\r\n",
      "        -nan         -nan         -nan         -nan         -nan         -nan         -nan         -nan         -nan         -nan         -nan         -nan         -nan         -nan         -nan         -nan         -nan         -nan         -nan         -nan         -nan         -nan         -nan         -nan         -nan         -nan         -nan         -nan         -nan         -nan         -nan         -nan         -nan         -nan         -nan\r\n",
      "        -nan         -nan         -nan         -nan         -nan         -nan         -nan         -nan         -nan         -nan         -nan         -nan         -nan         -nan         -nan         -nan         -nan         -nan         -nan         -nan         -nan         -nan         -nan         -nan         -nan         -nan         -nan         -nan         -nan         -nan         -nan         -nan         -nan         -nan         -nan\r\n",
      "        -nan         -nan         -nan         -nan         -nan         -nan         -nan         -nan         -nan         -nan         -nan         -nan         -nan         -nan         -nan         -nan         -nan         -nan         -nan         -nan         -nan         -nan         -nan         -nan          nan          nan          nan          nan          nan          nan          nan          nan          nan          nan          nan\r\n",
      "an error occurred:\r\n",
      "Small generalized eigenvalue problem failed.\r\n"
     ]
    }
   ],
   "source": [
    "!xtp_tools -c job_name=CO geometry_optimization.maxiter=1 dftpackage.basisset=3-21G dftpackage.auxbasisset=aux-def2-svp gwbse.gw.mode=G0W0 -e dftgwbse -t 4"
   ]
  },
  {
   "cell_type": "markdown",
   "metadata": {},
   "source": [
    "Notice that we are using 4 threads. The results will be stored in a file named `CO_summary.xml` in the current work directory, together with the optimization step in `optimisation.trj` and the orbitals in [hdf5 format](https://www.hdfgroup.org/solutions/hdf5/) saved on `CO.orb`."
   ]
  }
 ],
 "metadata": {
  "kernelspec": {
   "display_name": "Python 3",
   "language": "python",
   "name": "python3"
  },
  "language_info": {
   "codemirror_mode": {
    "name": "ipython",
    "version": 3
   },
   "file_extension": ".py",
   "mimetype": "text/x-python",
   "name": "python",
   "nbconvert_exporter": "python",
   "pygments_lexer": "ipython3",
   "version": "3.11.1"
  }
 },
 "nbformat": 4,
 "nbformat_minor": 4
}
