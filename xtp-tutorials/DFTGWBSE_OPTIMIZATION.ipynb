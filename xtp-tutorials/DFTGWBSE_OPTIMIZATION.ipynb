{
 "cells": [
  {
   "cell_type": "markdown",
   "metadata": {},
   "source": [
    "## DFT + GWBSE Optimization Using CO"
   ]
  },
  {
   "cell_type": "markdown",
   "metadata": {},
   "source": [
    "## Introduction\n",
    "This tutorial explains how to perform a molecular geometric optimization using the **GWBSE** method. See [the GW Compendium: A Practical Guide to Theoretical Photoemission Spectroscopy](https://doi.org/10.3389/fchem.2019.00377), for an excellent introduction to the method."
   ]
  },
  {
   "cell_type": "markdown",
   "metadata": {},
   "source": [
    "## Requirements\n",
    "* You will need to install **VOTCA** using the instructions described [here](https://github.com/votca/votca/blob/master/share/doc/INSTALL.rst)\n",
    "* Once the installation is completed you need to activate the VOTCA enviroment by running the `VOTCARC.bash` script that has been installed at the bin subfolder for the path that you have provided for the installation step above"
   ]
  },
  {
   "cell_type": "markdown",
   "metadata": {},
   "source": [
    "## Preparing the input\n",
    "To run a DFT-GWBSE calculation we will use the [xtp_tools](https://www.votca.org/xtp/xtp_tools_overview.html) calculator."
   ]
  },
  {
   "cell_type": "markdown",
   "metadata": {},
   "source": [
    "we can now change the calculator mode from single point energy calculation to optimization as follows by adding \n",
    "`-c geometry_optimization.maxiter=1` which enables optimization with one iteration. "
   ]
  },
  {
   "cell_type": "markdown",
   "metadata": {},
   "source": [
    "Because geometry optimsation is quite expensive numerically we chose a smaller basisset and G0W0 Finally, to run the calculation we just need the following command (This still takes a while)"
   ]
  },
  {
   "cell_type": "code",
   "execution_count": 1,
   "metadata": {
    "execution": {
     "iopub.execute_input": "2022-08-12T06:08:43.856390Z",
     "iopub.status.busy": "2022-08-12T06:08:43.855769Z",
     "iopub.status.idle": "2022-08-12T06:09:15.868642Z",
     "shell.execute_reply": "2022-08-12T06:09:15.869060Z"
    }
   },
   "outputs": [
    {
     "name": "stdout",
     "output_type": "stream",
     "text": [
      "==================================================\r\n",
      "========   VOTCA (http://www.votca.org)   ========\r\n",
      "==================================================\r\n",
      "\r\n",
      "please submit bugs to https://github.com/votca/xtp/issues\r\n",
      "\r\n",
      "xtp_tools, version 2023-dev gitid: 97a4ed8 (compiled Aug 12 2022, 06:00:43)\r\n",
      "votca_csg, version 2023-dev gitid: 97a4ed8 (compiled Aug 12 2022, 05:45:27)\r\n",
      "votca_tools, version 2023-dev gitid: 97a4ed8 (compiled Aug 12 2022, 05:42:41)\r\n",
      "\r\n",
      "Initializing tool\r\n",
      "... dftgwbse Evaluating tool\r\n",
      "... dftgwbse  Using 4 threads\r\n",
      "... ... Reading structure from CO.xyz\r\n",
      "... ... Requested geometry optimization of excited state s1\r\n",
      "... ... Initial state: s1\r\n",
      "... ... WARNING: No tracker is used \r\n",
      "... ... Convergence of total energy: 0.000001 Hartree \r\n",
      "... ... Convergence of RMS Force:    0.000030 Hartree/Bohr \r\n",
      "... ... Convergence of Max Force:    0.000100 Hartree/Bohr \r\n",
      "... ... Convergence of RMS Step:     0.000600 Bohr \r\n",
      "... ... Convergence of Max Step:     0.001000 Bohr \r\n",
      "... ... Initial trust radius:        0.018897 BohrA\r\n",
      "    0.307132  3.06063e-11  1.79883e-10 -5.20127e-10 -2.32186e-11   -0.0516061  1.11656e-09  1.03682e-09  3.87602e-10   -0.0181647  -0.00104122  1.10436e-10    0.0104044   -0.0375611  2.00282e-11    0.0421019 -2.08545e-10  9.11466e-11  3.57727e-10  1.58889e-10  0.000479685    -0.108408 -1.82904e-10          nan          nan          nan          nan          nan          nan          nan          nan          nan          nan          nan          nan\r\n",
      " 3.06063e-11     0.307132 -3.88986e-10  3.09245e-10   -0.0516061 -2.32186e-11  2.45196e-09   2.7922e-09   8.2212e-10   0.00104122   -0.0181647  3.85174e-10   -0.0375611   -0.0104044    0.0421019  2.00282e-11 -1.92151e-10 -6.68713e-12  5.01659e-10  6.19057e-10     0.108408  0.000479685  1.68199e-11          nan          nan          nan          nan          nan          nan          nan          nan          nan          nan          nan          nan\r\n",
      " 1.79883e-10 -3.88986e-10     0.320604   0.00929037  1.39988e-11 -3.03766e-11   -0.0131687   -0.0131687  -0.00491062 -1.46123e-10  1.02532e-10  -0.00209208   1.1911e-11  2.07178e-10 -1.19204e-10  -7.5085e-12   -0.0470521   0.00129462  -0.00255602   -0.0152308 -9.88258e-10  3.13722e-10   -0.0254857          nan          nan          nan          nan          nan          nan          nan          nan          nan          nan          nan          nan\r\n",
      "-5.20127e-10  3.09245e-10   0.00929037     0.320604  -2.2373e-11  4.35101e-10    0.0131687    0.0131687   0.00491062  1.66394e-10 -1.48442e-10   0.00209208  8.11826e-12 -1.82274e-10  1.27863e-11  -4.0543e-10   0.00129462   -0.0470521    0.0152308   0.00255602  9.64326e-10  2.06437e-10    0.0254857          nan          nan          nan          nan          nan          nan          nan          nan          nan          nan          nan          nan\r\n",
      "-2.32185e-11   -0.0516061  1.39988e-11  -2.2373e-11     0.490902  2.83251e-12  1.49001e-09  1.08528e-09  6.28849e-10 -0.000770454     0.013441  1.85914e-10  -0.00770378  -0.00213394    0.0309987 -6.61253e-11 -4.61689e-11  3.03306e-10  2.07887e-10  6.15051e-11   -0.0531267 -0.000235076  2.09479e-10          nan          nan          nan          nan          nan          nan          nan          nan          nan          nan          nan          nan\r\n",
      "  -0.0516061 -2.32186e-11 -3.03766e-11  4.35101e-10  2.83255e-12     0.490902 -9.29706e-11 -1.01345e-10 -6.25903e-11     0.013441  0.000770454  5.22857e-12   0.00213394  -0.00770377 -6.61255e-11    0.0309987  1.53634e-10 -7.25182e-12 -8.27074e-11  1.74429e-10 -0.000235076    0.0531267 -4.46066e-11          nan          nan          nan          nan          nan          nan          nan          nan          nan          nan          nan          nan\r\n",
      " 1.11656e-09  2.45196e-09   -0.0131687    0.0131687  1.49001e-09 -9.29706e-11     0.549585     0.219691    0.0856689 -1.42921e-11 -7.24908e-10    0.0364976 -8.31942e-10 -2.62355e-09 -6.31686e-10  2.54415e-10   -0.0113554  -0.00131942   -0.0126962    0.0330613  1.34043e-08 -8.26893e-09   0.00154463          nan          nan          nan          nan          nan          nan          nan          nan          nan          nan          nan          nan\r\n",
      " 1.03682e-09   2.7922e-09   -0.0131687    0.0131687  1.08528e-09 -1.01345e-10     0.219691     0.549585    0.0856689 -6.02017e-11 -7.45179e-10    0.0364976 -8.56845e-10 -2.60352e-09 -2.18748e-10  1.47997e-10   0.00131942    0.0113554    0.0330613   -0.0126962  1.39179e-08 -8.24145e-09   0.00154463          nan          nan          nan          nan          nan          nan          nan          nan          nan          nan          nan          nan\r\n",
      " 3.87602e-10   8.2212e-10  -0.00491062   0.00491062  6.28849e-10 -6.25903e-11    0.0856689    0.0856689     0.662947 -1.79993e-10 -5.81858e-10  -0.00632525 -2.92651e-10 -7.01984e-10 -3.36765e-10  9.71825e-11  -0.00131694   0.00131694   0.00387663   0.00387663  4.33998e-09  -3.0532e-09   0.00112539          nan          nan          nan          nan          nan          nan          nan          nan          nan          nan          nan          nan\r\n",
      "  -0.0181647   0.00104122 -1.46123e-10  1.66394e-10 -0.000770454     0.013441 -1.42921e-11 -6.02017e-11 -1.79993e-10     0.680922 -1.59517e-12  8.83631e-11 -2.70798e-05  7.97137e-05  0.000494265  -0.00862277  3.86461e-10  2.28479e-13  8.09529e-11  8.90771e-10   0.00216662    0.0409703 -6.68909e-10          nan          nan          nan          nan          nan          nan          nan          nan          nan          nan          nan          nan\r\n",
      " -0.00104122   -0.0181647  1.02532e-10 -1.48442e-10     0.013441  0.000770454 -7.24908e-10 -7.45179e-10 -5.81858e-10 -1.59507e-12     0.680922  6.20525e-11  7.97136e-05  2.70798e-05  -0.00862277 -0.000494265 -4.18812e-12  8.14006e-10  3.77292e-10 -9.39745e-12   -0.0409703   0.00216662  8.09431e-10          nan          nan          nan          nan          nan          nan          nan          nan          nan          nan          nan          nan\r\n",
      " 1.10436e-10  3.85174e-10  -0.00209208   0.00209208  1.85914e-10  5.22857e-12    0.0364976    0.0364976  -0.00632525  8.83631e-11  6.20525e-11      0.79826  1.22317e-11 -3.26474e-10  1.10199e-10  5.76924e-11  -0.00465594   0.00465594    0.0137055    0.0137055  1.73234e-09 -9.75606e-10  0.000446138          nan          nan          nan          nan          nan          nan          nan          nan          nan          nan          nan          nan\r\n",
      "   0.0104044   -0.0375611   1.1911e-11  8.11826e-12  -0.00770378   0.00213394 -8.31942e-10 -8.56845e-10 -2.92651e-10 -2.70798e-05  7.97136e-05  1.22317e-11     0.956418 -4.29179e-11    0.0126653  -0.00350827  1.23858e-10 -2.37483e-10  -6.5313e-10 -4.30756e-10    0.0192723   0.00543033  6.81199e-12          nan          nan          nan          nan          nan          nan          nan          nan          nan          nan          nan          nan\r\n",
      "  -0.0375611   -0.0104044  2.07178e-10 -1.82274e-10  -0.00213394  -0.00770377 -2.62355e-09 -2.60352e-09 -7.01984e-10  7.97137e-05  2.70798e-05 -3.26474e-10  -4.2918e-11     0.956418   0.00350827    0.0126653  4.24863e-10 -6.47238e-10 -1.49157e-09  -1.6052e-09   0.00543033   -0.0192723 -8.92699e-11          nan          nan          nan          nan          nan          nan          nan          nan          nan          nan          nan          nan\r\n",
      " 2.00282e-11    0.0421019 -1.19204e-10  1.27863e-11    0.0309987 -6.61255e-11 -6.31686e-10 -2.18748e-10 -3.36765e-10  0.000494265  -0.00862277  1.10199e-10    0.0126653   0.00350827     0.988566 -3.73995e-11 -2.92356e-11  1.10928e-10 -3.59192e-11  6.16806e-11    0.0223628  9.89514e-05   3.2995e-10          nan          nan          nan          nan          nan          nan          nan          nan          nan          nan          nan          nan\r\n",
      "   0.0421019  2.00282e-11  -7.5085e-12  -4.0543e-10 -6.61253e-11    0.0309987  2.54415e-10  1.47997e-10  9.71825e-11  -0.00862277 -0.000494265  5.76924e-11  -0.00350827    0.0126653 -3.73994e-11     0.988566 -7.14597e-12 -9.04538e-11  6.75881e-11  1.49281e-10  9.89515e-05   -0.0223628  -1.7324e-10          nan          nan          nan          nan          nan          nan          nan          nan          nan          nan          nan          nan\r\n",
      "-2.08545e-10 -1.92151e-10   -0.0470521   0.00129462 -4.61689e-11  1.53634e-10   -0.0113554   0.00131942  -0.00131694  3.86461e-10 -4.18812e-12  -0.00465594  1.23858e-10  4.24863e-10 -2.92356e-11 -7.14597e-12      1.03321  -0.00656827   -0.0132472   -0.0132472 -8.26314e-10  5.53773e-10   0.00427518          nan          nan          nan          nan          nan          nan          nan          nan          nan          nan          nan          nan\r\n",
      " 9.11466e-11 -6.68713e-12   0.00129462   -0.0470521  3.03306e-10 -7.25182e-12  -0.00131942    0.0113554   0.00131694  2.28479e-13  8.14006e-10   0.00465594 -2.37483e-10 -6.47238e-10  1.10928e-10 -9.04538e-11  -0.00656827      1.03321    0.0132472    0.0132472  7.79567e-10 -4.51903e-10  -0.00427518          nan          nan          nan          nan          nan          nan          nan          nan          nan          nan          nan          nan\r\n",
      " 3.57727e-10  5.01659e-10  -0.00255602    0.0152308  2.07887e-10 -8.27074e-11   -0.0126962    0.0330613   0.00387663  8.09529e-11  3.77292e-10    0.0137055  -6.5313e-10 -1.49157e-09 -3.59192e-11  6.75881e-11   -0.0132472    0.0132472       1.0677    0.0410633   2.3669e-09 -1.58683e-09    0.0020433          nan          nan          nan          nan          nan          nan          nan          nan          nan          nan          nan          nan\r\n",
      " 1.58889e-10  6.19057e-10   -0.0152308   0.00255602  6.15051e-11  1.74429e-10    0.0330613   -0.0126962   0.00387663  8.90771e-10 -9.39745e-12    0.0137055 -4.30756e-10  -1.6052e-09  6.16806e-11  1.49281e-10   -0.0132472    0.0132472    0.0410633       1.0677  2.46787e-09 -1.53953e-09    0.0020433          nan          nan          nan          nan          nan          nan          nan          nan          nan          nan          nan          nan\r\n",
      "-0.000332952   -0.0752465  6.87217e-10 -7.32148e-10    0.0690159  0.000305383 -8.05836e-09 -8.33595e-09 -3.16347e-09  -0.00163469    0.0309117 -1.54311e-09  -0.00866591  -0.00244179   -0.0364086 -0.000161101  5.59061e-10 -5.58496e-10 -1.77528e-09 -1.77879e-09    -0.194424   2.2155e-10   -4.218e-09          nan          nan          nan          nan          nan          nan          nan          nan          nan          nan          nan          nan\r\n",
      "   0.0752465 -0.000332952   1.2874e-12 -2.85607e-10  0.000305383   -0.0690159  5.49007e-09  5.53264e-09  2.38385e-09   -0.0309117  -0.00163469     8.87e-10  -0.00244179   0.00866591 -0.000161101    0.0364086 -4.81838e-10  4.77594e-10  1.28064e-09  1.27919e-09   2.2155e-10    -0.194424 -5.54397e-09          nan          nan          nan          nan          nan          nan          nan          nan          nan          nan          nan          nan\r\n",
      " 5.99159e-10 -5.29756e-10   -0.0141894    0.0141894  3.68872e-10 -5.51709e-10  -0.00432379  -0.00432379  -0.00131213 -1.02982e-09  1.08955e-09 -0.000526109 -8.36138e-11  8.17391e-11  -4.0684e-11  2.51658e-10    0.0059752   -0.0059752   0.00150788   0.00150788 -4.42846e-09 -5.45785e-09     0.958307          nan          nan          nan          nan          nan          nan          nan          nan          nan          nan          nan          nan\r\n",
      "        -nan         -nan         -nan         -nan         -nan         -nan         -nan         -nan         -nan         -nan         -nan         -nan         -nan         -nan         -nan         -nan         -nan         -nan         -nan         -nan         -nan         -nan         -nan          nan          nan          nan          nan          nan          nan          nan          nan          nan          nan          nan          nan\r\n",
      "        -nan         -nan         -nan         -nan         -nan         -nan         -nan         -nan         -nan         -nan         -nan         -nan         -nan         -nan         -nan         -nan         -nan         -nan         -nan         -nan         -nan         -nan         -nan         -nan         -nan         -nan         -nan         -nan         -nan         -nan         -nan         -nan         -nan         -nan         -nan\r\n",
      "        -nan         -nan         -nan         -nan         -nan         -nan         -nan         -nan         -nan         -nan         -nan         -nan         -nan         -nan         -nan         -nan         -nan         -nan         -nan         -nan         -nan         -nan         -nan         -nan         -nan         -nan         -nan         -nan         -nan         -nan         -nan         -nan         -nan         -nan         -nan\r\n",
      "        -nan         -nan         -nan         -nan         -nan         -nan         -nan         -nan         -nan         -nan         -nan         -nan         -nan         -nan         -nan         -nan         -nan         -nan         -nan         -nan         -nan         -nan         -nan          nan          nan          nan          nan          nan          nan          nan          nan          nan          nan          nan          nan\r\n",
      "        -nan         -nan         -nan         -nan         -nan         -nan         -nan         -nan         -nan         -nan         -nan         -nan         -nan         -nan         -nan         -nan         -nan         -nan         -nan         -nan         -nan         -nan         -nan          nan          nan          nan          nan          nan          nan          nan          nan          nan          nan          nan          nan\r\n",
      "        -nan         -nan         -nan         -nan         -nan         -nan         -nan         -nan         -nan         -nan         -nan         -nan         -nan         -nan         -nan         -nan         -nan         -nan         -nan         -nan         -nan         -nan         -nan         -nan         -nan         -nan         -nan         -nan         -nan         -nan         -nan         -nan         -nan         -nan         -nan\r\n",
      "        -nan         -nan         -nan         -nan         -nan         -nan         -nan         -nan         -nan         -nan         -nan         -nan         -nan         -nan         -nan         -nan         -nan         -nan         -nan         -nan         -nan         -nan         -nan         -nan         -nan         -nan         -nan         -nan         -nan         -nan         -nan         -nan         -nan         -nan         -nan\r\n",
      "        -nan         -nan         -nan         -nan         -nan         -nan         -nan         -nan         -nan         -nan         -nan         -nan         -nan         -nan         -nan         -nan         -nan         -nan         -nan         -nan         -nan         -nan         -nan          nan          nan          nan          nan          nan          nan          nan          nan          nan          nan          nan          nan\r\n",
      "        -nan         -nan         -nan         -nan         -nan         -nan         -nan         -nan         -nan         -nan         -nan         -nan         -nan         -nan         -nan         -nan         -nan         -nan         -nan         -nan         -nan         -nan         -nan          nan          nan          nan          nan          nan          nan          nan          nan          nan          nan          nan          nan\r\n",
      "        -nan         -nan         -nan         -nan         -nan         -nan         -nan         -nan         -nan         -nan         -nan         -nan         -nan         -nan         -nan         -nan         -nan         -nan         -nan         -nan         -nan         -nan         -nan         -nan          nan          nan          nan         -nan          nan          nan          nan         -nan          nan          nan          nan\r\n",
      "        -nan         -nan         -nan         -nan         -nan         -nan         -nan         -nan         -nan         -nan         -nan         -nan         -nan         -nan         -nan         -nan         -nan         -nan         -nan         -nan         -nan         -nan         -nan         -nan          nan          nan          nan         -nan          nan          nan          nan         -nan          nan          nan          nan\r\n",
      "        -nan         -nan         -nan         -nan         -nan         -nan         -nan         -nan         -nan         -nan         -nan         -nan         -nan         -nan         -nan         -nan         -nan         -nan         -nan         -nan         -nan         -nan         -nan         -nan         -nan         -nan         -nan         -nan         -nan         -nan         -nan         -nan         -nan         -nan         -nan\r\n",
      "B\r\n",
      "    0.093811  1.36027e-11  9.61771e-11  -3.2088e-10 -1.42789e-11   -0.0328898  4.68213e-10  4.11255e-10  2.38509e-10   -0.0155317 -0.000890291  6.35287e-11    0.0129012   -0.0465748  2.32691e-11    0.0481429 -2.59301e-10  1.01687e-10  3.59467e-10  8.39259e-11  0.000111097   -0.0251078  4.90524e-10         -nan         -nan         -nan         -nan         -nan         -nan         -nan         -nan         -nan         -nan         -nan         -nan\r\n",
      " 1.36027e-11     0.093811 -2.01209e-10  1.44252e-10   -0.0328898 -1.42789e-11  9.67757e-10  1.19246e-09  5.07325e-10  0.000890291   -0.0155317  2.54845e-10   -0.0465748   -0.0129012    0.0481429  2.32691e-11 -1.64949e-10 -1.10592e-10  4.29882e-10  5.87496e-10    0.0251078  0.000111098  -5.3851e-10         -nan         -nan         -nan         -nan         -nan         -nan         -nan         -nan         -nan         -nan         -nan         -nan\r\n",
      " 9.61771e-11 -2.01209e-10      0.10587   0.00531178  1.86464e-11 -2.58786e-11  -0.00667124  -0.00667124  -0.00361108 -1.36148e-10  8.75494e-11  -0.00164036  2.39886e-11  2.29952e-10 -1.50948e-10 -1.30603e-11   -0.0640505   0.00171081  -0.00245482   -0.0197229 -7.98734e-11  1.94512e-10   -0.0418869         -nan         -nan         -nan         -nan         -nan         -nan         -nan         -nan         -nan         -nan         -nan         -nan\r\n",
      " -3.2088e-10  1.44252e-10   0.00531178      0.10587 -2.22154e-11  3.15392e-10   0.00667124   0.00667124   0.00361108  1.60338e-10 -1.30126e-10   0.00164036  2.85446e-12 -1.93081e-10  9.17802e-12 -5.05909e-10   0.00171081   -0.0640505    0.0197229   0.00245482  5.29354e-12  4.79145e-11    0.0418869         -nan         -nan         -nan         -nan         -nan         -nan         -nan         -nan         -nan         -nan         -nan         -nan\r\n",
      "-1.42789e-11   -0.0328898  1.86464e-11 -2.22154e-11     0.240891  6.63343e-13  9.44025e-10  6.54512e-10  5.49395e-10 -0.000827963    0.0144443  1.60933e-10  -0.00881162  -0.00244081    0.0441772 -9.19205e-11 -4.10407e-11  4.25113e-10  2.14984e-10  1.15073e-11   0.00438142   1.9387e-05  5.21139e-10         -nan         -nan         -nan         -nan         -nan         -nan         -nan         -nan         -nan         -nan         -nan         -nan\r\n",
      "  -0.0328898 -1.42789e-11 -2.58786e-11  3.15392e-10  6.63379e-13     0.240891 -4.37689e-11  -4.7338e-11 -4.47244e-11    0.0144443  0.000827963  1.05899e-11   0.00244081  -0.00881162 -9.19207e-11    0.0441772  2.22874e-10  -1.9397e-11 -1.02561e-10   2.8151e-10   1.9387e-05  -0.00438142 -4.88452e-10         -nan         -nan         -nan         -nan         -nan         -nan         -nan         -nan         -nan         -nan         -nan         -nan\r\n",
      " 4.68213e-10  9.67757e-10  -0.00667124   0.00667124  9.44025e-10 -4.37689e-11     0.221872      0.11069    0.0629976 -1.78838e-11 -5.48446e-10    0.0286171 -9.98478e-10 -2.90206e-09 -7.94468e-10  2.58596e-10    -0.010086  -0.00718204   -0.0330794    0.0292603  1.48727e-09 -5.30289e-10  -0.00289607         -nan         -nan         -nan         -nan         -nan         -nan         -nan         -nan         -nan         -nan         -nan         -nan\r\n",
      " 4.11255e-10  1.19246e-09  -0.00667124   0.00667124  6.54512e-10  -4.7338e-11      0.11069     0.221872    0.0629976 -6.04606e-11 -5.72636e-10    0.0286171 -1.03535e-09 -2.87521e-09 -2.75499e-10  1.16826e-10   0.00718204     0.010086    0.0292603   -0.0330794  1.72933e-09 -4.54537e-10  -0.00289607         -nan         -nan         -nan         -nan         -nan         -nan         -nan         -nan         -nan         -nan         -nan         -nan\r\n",
      " 2.38509e-10  5.07325e-10  -0.00361108   0.00361108  5.49395e-10 -4.47244e-11    0.0629976    0.0629976     0.429278 -2.30961e-10 -6.84394e-10   -0.0121538 -4.21235e-10   -8.979e-10 -4.70437e-10  1.29936e-10  6.20871e-06 -6.20874e-06 -1.82764e-05 -1.82763e-05  1.01351e-09 -6.37761e-10  5.54476e-05         -nan         -nan         -nan         -nan         -nan         -nan         -nan         -nan         -nan         -nan         -nan         -nan\r\n",
      "  -0.0155317  0.000890291 -1.36148e-10  1.60338e-10 -0.000827963    0.0144443 -1.78838e-11 -6.04606e-11 -2.30961e-10     0.463967 -2.13029e-12  1.17863e-10 -0.000208047   0.00061242  0.000593757   -0.0103585  6.62977e-10 -5.06493e-12  1.34044e-10  1.50703e-09  0.000936559    0.0177101 -1.63374e-09         -nan         -nan         -nan         -nan         -nan         -nan         -nan         -nan         -nan         -nan         -nan         -nan\r\n",
      "-0.000890291   -0.0155317  8.75494e-11 -1.30126e-10    0.0144443  0.000827963 -5.48446e-10 -5.72636e-10 -6.84394e-10 -2.13015e-12     0.463967  1.23378e-10   0.00061242  0.000208047   -0.0103585 -0.000593757 -2.66505e-11  1.39963e-09  6.96887e-10  3.89744e-11   -0.0177101  0.000936559  1.78273e-09         -nan         -nan         -nan         -nan         -nan         -nan         -nan         -nan         -nan         -nan         -nan         -nan\r\n",
      " 6.35287e-11  2.54845e-10  -0.00164036   0.00164036  1.60933e-10  1.05899e-11    0.0286171    0.0286171   -0.0121538  1.17863e-10  1.23378e-10     0.636067  4.96784e-11 -4.09081e-10  1.95673e-10   8.2795e-11   -0.0067319    0.0067319    0.0198164    0.0198164    9.925e-11 -2.30675e-12  4.37964e-05         -nan         -nan         -nan         -nan         -nan         -nan         -nan         -nan         -nan         -nan         -nan         -nan\r\n",
      "   0.0129012   -0.0465748  2.39886e-11  2.85446e-12  -0.00881162   0.00244081 -9.98478e-10 -1.03535e-09 -4.21235e-10 -0.000208047   0.00061242  4.96784e-11     0.917068  -7.5244e-11    0.0214825  -0.00595063  2.20597e-10 -4.53288e-10 -1.22576e-09 -7.73594e-10    0.0223749   0.00630455 -1.02112e-10         -nan         -nan         -nan         -nan         -nan         -nan         -nan         -nan         -nan         -nan         -nan         -nan\r\n",
      "  -0.0465748   -0.0129012  2.29952e-10 -1.93081e-10  -0.00244081  -0.00881162 -2.90206e-09 -2.87521e-09   -8.979e-10   0.00061242  0.000208047 -4.09081e-10 -7.52441e-11     0.917068   0.00595063    0.0214825  7.42185e-10 -1.19435e-09  -2.6733e-09   -2.906e-09   0.00630455   -0.0223749 -6.27958e-11         -nan         -nan         -nan         -nan         -nan         -nan         -nan         -nan         -nan         -nan         -nan         -nan\r\n",
      " 2.32691e-11    0.0481429 -1.50948e-10  9.17802e-12    0.0441772 -9.19207e-11 -7.94468e-10 -2.75499e-10 -4.70437e-10  0.000593757   -0.0103585  1.95673e-10    0.0214825   0.00595063     0.981535 -7.20918e-11 -5.42901e-11  1.86567e-10 -5.46156e-11   1.3553e-10  -0.00424838 -1.87983e-05  2.61211e-10         -nan         -nan         -nan         -nan         -nan         -nan         -nan         -nan         -nan         -nan         -nan         -nan\r\n",
      "   0.0481429  2.32691e-11 -1.30603e-11 -5.05909e-10 -9.19204e-11    0.0441772  2.58596e-10  1.16826e-10  1.29936e-10   -0.0103585 -0.000593757   8.2795e-11  -0.00595063    0.0214825 -7.20917e-11     0.981535 -2.95312e-11 -1.60615e-10  1.09539e-10  2.41816e-10 -1.87983e-05   0.00424838  1.75232e-10         -nan         -nan         -nan         -nan         -nan         -nan         -nan         -nan         -nan         -nan         -nan         -nan\r\n",
      "-2.59301e-10 -1.64949e-10   -0.0640505   0.00171081 -4.10407e-11  2.22874e-10    -0.010086   0.00718204  6.20871e-06  6.62977e-10 -2.66505e-11   -0.0067319  2.20597e-10  7.42185e-10 -5.42901e-11 -2.95312e-11      1.06908   -0.0128137   -0.0247544   -0.0247544 -3.94979e-10  2.10961e-10    0.0150504         -nan         -nan         -nan         -nan         -nan         -nan         -nan         -nan         -nan         -nan         -nan         -nan\r\n",
      " 1.01687e-10 -1.10592e-10   0.00171081   -0.0640505  4.25113e-10  -1.9397e-11  -0.00718204     0.010086 -6.20874e-06 -5.06493e-12  1.39963e-09    0.0067319 -4.53288e-10 -1.19435e-09  1.86567e-10 -1.60615e-10   -0.0128137      1.06908    0.0247544    0.0247544  2.19457e-10  9.09883e-13   -0.0150504         -nan         -nan         -nan         -nan         -nan         -nan         -nan         -nan         -nan         -nan         -nan         -nan\r\n",
      " 3.59467e-10  4.29882e-10  -0.00245482    0.0197229  2.14984e-10 -1.02561e-10   -0.0330794    0.0292603 -1.82764e-05  1.34044e-10  6.96887e-10    0.0198164 -1.22576e-09  -2.6733e-09 -5.46156e-11  1.09539e-10   -0.0247544    0.0247544      1.13354    0.0772727  8.79378e-10 -5.99805e-10   0.00545287         -nan         -nan         -nan         -nan         -nan         -nan         -nan         -nan         -nan         -nan         -nan         -nan\r\n",
      " 8.39259e-11  5.87496e-10   -0.0197229   0.00245482  1.15073e-11   2.8151e-10    0.0292603   -0.0330794 -1.82763e-05  1.50703e-09  3.89744e-11    0.0198164 -7.73594e-10   -2.906e-09   1.3553e-10  2.41816e-10   -0.0247544    0.0247544    0.0772727      1.13354  1.09047e-09 -4.24459e-10   0.00545287         -nan         -nan         -nan         -nan         -nan         -nan         -nan         -nan         -nan         -nan         -nan         -nan\r\n",
      " 0.000253793    0.0573567 -4.72946e-10  4.21001e-10   0.00347861  1.53922e-05  7.51759e-09  7.82124e-09  1.20419e-09  0.000538942   -0.0101913  2.34313e-10    0.0179424   0.00505562   -0.0191591 -8.47757e-05 -9.06576e-11  7.11726e-11 -1.66094e-10  5.09948e-12     0.600541  2.21986e-10 -3.19226e-09         -nan         -nan         -nan         -nan         -nan         -nan         -nan         -nan         -nan         -nan         -nan         -nan\r\n",
      "  -0.0573567  0.000253793  3.45054e-10 -4.22413e-11  1.53922e-05  -0.00347861 -4.34531e-09 -4.29195e-09 -7.17263e-10    0.0101913  0.000538942 -1.52065e-10   0.00505562   -0.0179424 -8.47757e-05    0.0191591 -1.00941e-10  2.71839e-10  3.20998e-11  5.07729e-11  2.21986e-10     0.600541 -5.04378e-09         -nan         -nan         -nan         -nan         -nan         -nan         -nan         -nan         -nan         -nan         -nan         -nan\r\n",
      " 1.98217e-10 -3.36934e-10   -0.0423677    0.0423677  5.91142e-10 -4.73008e-10  -0.00286506  -0.00286506 -0.000439029 -1.50217e-09  1.61576e-09 -0.000214764 -5.05632e-11 -4.23369e-11  3.64388e-10  1.53238e-10    0.0160903   -0.0160903   0.00534175   0.00534175 -3.64903e-09 -5.04805e-09      1.98482         -nan         -nan         -nan         -nan         -nan         -nan         -nan         -nan         -nan         -nan         -nan         -nan\r\n",
      "        -nan         -nan         -nan         -nan         -nan         -nan         -nan         -nan         -nan         -nan         -nan         -nan         -nan         -nan         -nan         -nan         -nan         -nan         -nan         -nan         -nan         -nan         -nan         -nan         -nan         -nan         -nan         -nan         -nan         -nan         -nan         -nan         -nan         -nan         -nan\r\n",
      "        -nan         -nan         -nan         -nan         -nan         -nan         -nan         -nan         -nan         -nan         -nan         -nan         -nan         -nan         -nan         -nan         -nan         -nan         -nan         -nan         -nan         -nan         -nan         -nan         -nan         -nan         -nan         -nan         -nan         -nan         -nan         -nan         -nan         -nan         -nan\r\n",
      "        -nan         -nan         -nan         -nan         -nan         -nan         -nan         -nan         -nan         -nan         -nan         -nan         -nan         -nan         -nan         -nan         -nan         -nan         -nan         -nan         -nan         -nan         -nan         -nan         -nan         -nan         -nan         -nan         -nan         -nan         -nan         -nan         -nan         -nan         -nan\r\n",
      "        -nan         -nan         -nan         -nan         -nan         -nan         -nan         -nan         -nan         -nan         -nan         -nan         -nan         -nan         -nan         -nan         -nan         -nan         -nan         -nan         -nan         -nan         -nan         -nan         -nan         -nan         -nan         -nan         -nan         -nan         -nan         -nan         -nan         -nan         -nan\r\n",
      "        -nan         -nan         -nan         -nan         -nan         -nan         -nan         -nan         -nan         -nan         -nan         -nan         -nan         -nan         -nan         -nan         -nan         -nan         -nan         -nan         -nan         -nan         -nan         -nan         -nan         -nan         -nan         -nan         -nan         -nan         -nan         -nan         -nan         -nan         -nan\r\n",
      "        -nan         -nan         -nan         -nan         -nan         -nan         -nan         -nan         -nan         -nan         -nan         -nan         -nan         -nan         -nan         -nan         -nan         -nan         -nan         -nan         -nan         -nan         -nan         -nan         -nan         -nan         -nan         -nan         -nan         -nan         -nan         -nan         -nan         -nan         -nan\r\n",
      "        -nan         -nan         -nan         -nan         -nan         -nan         -nan         -nan         -nan         -nan         -nan         -nan         -nan         -nan         -nan         -nan         -nan         -nan         -nan         -nan         -nan         -nan         -nan         -nan         -nan         -nan         -nan         -nan         -nan         -nan         -nan         -nan         -nan         -nan         -nan\r\n",
      "        -nan         -nan         -nan         -nan         -nan         -nan         -nan         -nan         -nan         -nan         -nan         -nan         -nan         -nan         -nan         -nan         -nan         -nan         -nan         -nan         -nan         -nan         -nan         -nan         -nan         -nan         -nan         -nan         -nan         -nan         -nan         -nan         -nan         -nan         -nan\r\n",
      "        -nan         -nan         -nan         -nan         -nan         -nan         -nan         -nan         -nan         -nan         -nan         -nan         -nan         -nan         -nan         -nan         -nan         -nan         -nan         -nan         -nan         -nan         -nan         -nan         -nan         -nan         -nan         -nan         -nan         -nan         -nan         -nan         -nan         -nan         -nan\r\n",
      "        -nan         -nan         -nan         -nan         -nan         -nan         -nan         -nan         -nan         -nan         -nan         -nan         -nan         -nan         -nan         -nan         -nan         -nan         -nan         -nan         -nan         -nan         -nan         -nan         -nan         -nan         -nan         -nan         -nan         -nan         -nan         -nan         -nan         -nan         -nan\r\n",
      "        -nan         -nan         -nan         -nan         -nan         -nan         -nan         -nan         -nan         -nan         -nan         -nan         -nan         -nan         -nan         -nan         -nan         -nan         -nan         -nan         -nan         -nan         -nan         -nan         -nan         -nan         -nan         -nan         -nan         -nan         -nan         -nan         -nan         -nan         -nan\r\n",
      "        -nan         -nan         -nan         -nan         -nan         -nan         -nan         -nan         -nan         -nan         -nan         -nan         -nan         -nan         -nan         -nan         -nan         -nan         -nan         -nan         -nan         -nan         -nan          nan          nan          nan          nan          nan          nan          nan          nan          nan          nan          nan          nan\r\n",
      "an error occurred:\r\n",
      "Small generalized eigenvalue problem failed.\r\n"
     ]
    }
   ],
   "source": [
    "!xtp_tools -c job_name=CO geometry_optimization.maxiter=1 dftpackage.basisset=3-21G dftpackage.auxbasisset=aux-def2-svp gwbse.gw.mode=G0W0 -e dftgwbse -t 4"
   ]
  },
  {
   "cell_type": "markdown",
   "metadata": {},
   "source": [
    "Notice that we are using 4 threads. The results will be stored in a file named `CO_summary.xml` in the current work directory, together with the optimization step in `optimisation.trj` and the orbitals in [hdf5 format](https://www.hdfgroup.org/solutions/hdf5/) saved on `CO.orb`."
   ]
  }
 ],
 "metadata": {
  "kernelspec": {
   "display_name": "Python 3",
   "language": "python",
   "name": "python3"
  },
  "language_info": {
   "codemirror_mode": {
    "name": "ipython",
    "version": 3
   },
   "file_extension": ".py",
   "mimetype": "text/x-python",
   "name": "python",
   "nbconvert_exporter": "python",
   "pygments_lexer": "ipython3",
   "version": "3.10.6"
  }
 },
 "nbformat": 4,
 "nbformat_minor": 4
}
