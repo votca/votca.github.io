{
 "cells": [
  {
   "cell_type": "markdown",
   "metadata": {},
   "source": [
    "## DFT + GWBSE Optimization Using CO"
   ]
  },
  {
   "cell_type": "markdown",
   "metadata": {},
   "source": [
    "## Introduction\n",
    "This tutorial explains how to perform a molecular geometric optimization using the **GWBSE** method. See [the GW Compendium: A Practical Guide to Theoretical Photoemission Spectroscopy](https://doi.org/10.3389/fchem.2019.00377), for an excellent introduction to the method."
   ]
  },
  {
   "cell_type": "markdown",
   "metadata": {},
   "source": [
    "## Requirements\n",
    "* You will need to install **VOTCA** using the instructions described [here](https://github.com/votca/votca/blob/master/share/doc/INSTALL.rst)\n",
    "* Once the installation is completed you need to activate the VOTCA enviroment by running the `VOTCARC.bash` script that has been installed at the bin subfolder for the path that you have provided for the installation step above"
   ]
  },
  {
   "cell_type": "markdown",
   "metadata": {},
   "source": [
    "## Preparing the input\n",
    "To run a DFT-GWBSE calculation we will use the [xtp_tools](https://www.votca.org/xtp/xtp_tools_overview.html) calculator."
   ]
  },
  {
   "cell_type": "markdown",
   "metadata": {},
   "source": [
    "we can now change the calculator mode from single point energy calculation to optimization as follows by adding \n",
    "`-c geometry_optimization.maxiter=1` which enables optimization with one iteration. "
   ]
  },
  {
   "cell_type": "markdown",
   "metadata": {},
   "source": [
    "Because geometry optimsation is quite expensive numerically we chose a smaller basisset and G0W0 Finally, to run the calculation we just need the following command (This still takes a while)"
   ]
  },
  {
   "cell_type": "code",
   "execution_count": 1,
   "metadata": {
    "execution": {
     "iopub.execute_input": "2022-03-03T22:19:01.675791Z",
     "iopub.status.busy": "2022-03-03T22:19:01.675016Z",
     "iopub.status.idle": "2022-03-03T22:19:15.269387Z",
     "shell.execute_reply": "2022-03-03T22:19:15.268662Z"
    }
   },
   "outputs": [
    {
     "name": "stdout",
     "output_type": "stream",
     "text": [
      "==================================================\r\n",
      "========   VOTCA (http://www.votca.org)   ========\r\n",
      "==================================================\r\n",
      "\r\n",
      "please submit bugs to https://github.com/votca/xtp/issues\r\n",
      "\r\n",
      "xtp_tools, version 2023-dev gitid: c1b60a0 (compiled Mar  3 2022, 22:09:10)\r\n",
      "votca_csg, version 2023-dev gitid: c1b60a0 (compiled Mar  3 2022, 21:51:57)\r\n",
      "votca_tools, version 2023-dev gitid: c1b60a0 (compiled Mar  3 2022, 21:48:29)\r\n",
      "\r\n",
      "Initializing tool\r\n",
      "... dftgwbse Evaluating tool\r\n",
      "... dftgwbse  Using 4 threads\r\n",
      "... ... Reading structure from CO.xyz\r\n",
      "... ... Requested geometry optimization of excited state s1\r\n",
      "... ... Initial state: s1\r\n",
      "... ... WARNING: No tracker is used \r\n",
      "... ... Convergence of total energy: 0.000001 Hartree \r\n",
      "... ... Convergence of RMS Force:    0.000030 Hartree/Bohr \r\n",
      "... ... Convergence of Max Force:    0.000100 Hartree/Bohr \r\n",
      "... ... Convergence of RMS Step:     0.000600 Bohr \r\n",
      "... ... Convergence of Max Step:     0.001000 Bohr \r\n",
      "... ... Initial trust radius:        0.018897 BohrA\r\n",
      "    0.307132  -3.0984e-11  4.45021e-11 -2.30663e-10  2.34813e-11   -0.0516061  8.55683e-10  7.79152e-10 -3.22631e-10    0.0181639  -0.00105556 -7.15466e-11    0.0103565    0.0375743 -2.02524e-11    0.0421019  -2.3311e-10  1.30744e-10 -3.01401e-10 -1.07165e-10  0.000481657    -0.108408 -1.28201e-10          nan          nan          nan          nan          nan          nan          nan          nan          nan          nan          nan          nan\r\n",
      " -3.0984e-11     0.307132 -1.47386e-10  7.08551e-11   -0.0516061  2.34814e-11  9.00197e-10  1.08636e-09  -1.9739e-10   0.00105556    0.0181639 -2.25155e-10    0.0375743   -0.0103565    0.0421019 -2.02525e-11 -1.93679e-11  2.13604e-10 -9.73444e-11  5.02157e-12    -0.108408 -0.000481657 -1.34144e-11          nan          nan          nan          nan          nan          nan          nan          nan          nan          nan          nan          nan\r\n",
      " 4.45021e-11 -1.47386e-10     0.320625   0.00926943  1.56324e-10  1.03027e-10    0.0133495    0.0133495  -0.00497826 -5.82027e-11 -1.47516e-11  -0.00212089 -8.92222e-11   1.8299e-10 -1.71593e-10 -2.09567e-11    0.0470605   -0.0012869   -0.0025815    -0.015198  1.82128e-10 -3.04613e-10   -0.0254897          nan          nan          nan          nan          nan          nan          nan          nan          nan          nan          nan          nan\r\n",
      "-2.30663e-10  7.08551e-11   0.00926943     0.320625 -1.69658e-10  3.23915e-10   -0.0133495   -0.0133495   0.00497826 -5.01139e-11  6.88507e-11   0.00212089  7.28377e-11 -1.44539e-10  6.89632e-11 -1.85821e-10   -0.0012869    0.0470605     0.015198    0.0025815 -1.68659e-10  7.88955e-10    0.0254897          nan          nan          nan          nan          nan          nan          nan          nan          nan          nan          nan          nan\r\n",
      " 2.34813e-11   -0.0516061  1.56324e-10 -1.69658e-10     0.490902 -2.88502e-12  1.80089e-09  1.37395e-09 -8.20742e-10 -0.000781066   -0.0134404 -1.98453e-10   0.00770649  -0.00212413    0.0309987  6.68929e-11 -6.52304e-11 -1.89609e-10 -1.33876e-10 -2.73749e-10    0.0531267  0.000236043  1.67537e-10          nan          nan          nan          nan          nan          nan          nan          nan          nan          nan          nan          nan\r\n",
      "  -0.0516061  2.34814e-11  1.03027e-10  3.23915e-10 -2.88507e-12     0.490902 -2.54446e-10  -2.6778e-10  1.54942e-10   -0.0134404  0.000781066  1.92597e-11   0.00212413   0.00770649  6.68929e-11    0.0309987  1.91007e-10 -5.11337e-11  9.18294e-11  -1.6301e-10 -0.000236043    0.0531267  2.48391e-10          nan          nan          nan          nan          nan          nan          nan          nan          nan          nan          nan          nan\r\n",
      " 8.55683e-10  9.00197e-10    0.0133495   -0.0133495  1.80089e-09 -2.54446e-10     0.549565      0.21967    -0.085665 -7.12931e-12  6.43986e-10   -0.0364959 -1.85456e-09  2.97826e-09 -9.22356e-10  3.15799e-10   -0.0113404  -0.00127612    0.0127089   -0.0330647  5.13553e-10  -7.4601e-09  -0.00156758          nan          nan          nan          nan          nan          nan          nan          nan          nan          nan          nan          nan\r\n",
      " 7.79152e-10  1.08636e-09    0.0133495   -0.0133495  1.37395e-09  -2.6778e-10      0.21967     0.549565    -0.085665  4.69698e-11  7.52302e-10   -0.0364959 -1.89301e-09  2.96187e-09 -7.15578e-10   2.1317e-10   0.00127612    0.0113404   -0.0330647    0.0127089   4.3016e-11 -7.44289e-09  -0.00156758          nan          nan          nan          nan          nan          nan          nan          nan          nan          nan          nan          nan\r\n",
      "-3.22631e-10  -1.9739e-10  -0.00497826   0.00497826 -8.20742e-10  1.54942e-10    -0.085665    -0.085665     0.662947 -1.74987e-10 -2.31597e-10  -0.00632525  4.08449e-10 -7.41265e-10  5.58335e-10 -1.54206e-10   0.00131507  -0.00131507   0.00387726   0.00387726 -9.20042e-10  2.85823e-09   0.00114165          nan          nan          nan          nan          nan          nan          nan          nan          nan          nan          nan          nan\r\n",
      "   0.0181639   0.00105556 -5.82027e-11 -5.01139e-11 -0.000781066   -0.0134404 -7.12931e-12  4.69698e-11 -1.74987e-10     0.680922  1.58806e-12  8.85913e-11  2.70413e-05  7.97268e-05  0.000501073   0.00862238  -3.6568e-10 -3.65578e-11  6.96068e-11  8.83907e-10  -0.00219822   -0.0409686 -8.96062e-10          nan          nan          nan          nan          nan          nan          nan          nan          nan          nan          nan          nan\r\n",
      " -0.00105556    0.0181639 -1.47516e-11  6.88507e-11   -0.0134404  0.000781066  6.43986e-10  7.52302e-10 -2.31597e-10  1.58804e-12     0.680922 -1.12764e-10  7.97267e-05 -2.70413e-05   0.00862238 -0.000501073 -5.78357e-11  8.72136e-10 -5.51726e-10 -1.49488e-10   -0.0409686   0.00219822 -8.14785e-10          nan          nan          nan          nan          nan          nan          nan          nan          nan          nan          nan          nan\r\n",
      "-7.15466e-11 -2.25155e-10  -0.00212089   0.00212089 -1.98453e-10  1.92597e-11   -0.0364959   -0.0364959  -0.00632525  8.85913e-11 -1.12764e-10      0.79826  3.98538e-10  -4.6821e-10 -1.57864e-11 -4.96623e-11   0.00464931  -0.00464931    0.0137077    0.0137077  8.86221e-11   8.7074e-10  0.000452513          nan          nan          nan          nan          nan          nan          nan          nan          nan          nan          nan          nan\r\n",
      "   0.0103565    0.0375743 -8.92222e-11  7.28377e-11   0.00770649   0.00212413 -1.85456e-09 -1.89301e-09  4.08449e-10  2.70413e-05  7.97267e-05  3.98538e-10     0.956418  4.28219e-11   -0.0126697  -0.00349214  3.03774e-10 -4.15979e-10  1.05095e-09  1.05033e-09    0.0192791   0.00540613   3.0541e-11          nan          nan          nan          nan          nan          nan          nan          nan          nan          nan          nan          nan\r\n",
      "   0.0375743   -0.0103565   1.8299e-10 -1.44539e-10  -0.00212413   0.00770649  2.97826e-09  2.96187e-09 -7.41265e-10  7.97268e-05 -2.70413e-05  -4.6821e-10  4.28219e-11     0.956418   0.00349214   -0.0126697 -5.76298e-10  5.76915e-10 -1.67362e-09 -1.78582e-09  -0.00540613    0.0192791 -7.78627e-12          nan          nan          nan          nan          nan          nan          nan          nan          nan          nan          nan          nan\r\n",
      "-2.02525e-11    0.0421019 -1.71593e-10  6.89632e-11    0.0309987  6.68928e-11 -9.22356e-10 -7.15578e-10  5.58335e-10  0.000501073   0.00862238 -1.57864e-11   -0.0126697   0.00349214     0.988566  3.78057e-11  8.52544e-12 -1.86332e-10  2.23367e-10 -1.97747e-11   -0.0223628 -9.93583e-05  3.65975e-10          nan          nan          nan          nan          nan          nan          nan          nan          nan          nan          nan          nan\r\n",
      "   0.0421019 -2.02525e-11 -2.09567e-11 -1.85821e-10  6.68928e-11    0.0309987  3.15799e-10   2.1317e-10 -1.54206e-10   0.00862238 -0.000501073 -4.96623e-11  -0.00349214   -0.0126697  3.78056e-11     0.988566  1.22105e-10  1.21036e-10 -1.17954e-11 -1.89602e-10  9.93584e-05   -0.0223628  4.45802e-10          nan          nan          nan          nan          nan          nan          nan          nan          nan          nan          nan          nan\r\n",
      " -2.3311e-10 -1.93679e-11    0.0470605   -0.0012869 -6.52304e-11  1.91007e-10   -0.0113404   0.00127612   0.00131507  -3.6568e-10 -5.78357e-11   0.00464931  3.03774e-10 -5.76298e-10  8.52544e-12  1.22105e-10      1.03319  -0.00655545    0.0132305    0.0132305 -5.77323e-11  5.05836e-10  -0.00427409          nan          nan          nan          nan          nan          nan          nan          nan          nan          nan          nan          nan\r\n",
      " 1.30744e-10  2.13604e-10   -0.0012869    0.0470605 -1.89609e-10 -5.11337e-11  -0.00127612    0.0113404  -0.00131507 -3.65578e-11  8.72136e-10  -0.00464931 -4.15979e-10  5.76915e-10 -1.86332e-10  1.21036e-10  -0.00655545      1.03319   -0.0132305   -0.0132305   6.2349e-11 -5.84887e-10   0.00427409          nan          nan          nan          nan          nan          nan          nan          nan          nan          nan          nan          nan\r\n",
      "-3.01401e-10 -9.73444e-11   -0.0025815     0.015198 -1.33876e-10  9.18294e-11    0.0127089   -0.0330647   0.00387726  6.96068e-11 -5.51726e-10    0.0137077  1.05095e-09 -1.67362e-09  2.23367e-10 -1.17954e-11    0.0132305   -0.0132305      1.06771    0.0410761 -2.87749e-10  1.40609e-09   0.00204775          nan          nan          nan          nan          nan          nan          nan          nan          nan          nan          nan          nan\r\n",
      "-1.07165e-10  5.02157e-12    -0.015198    0.0025815 -2.73749e-10  -1.6301e-10   -0.0330647    0.0127089   0.00387726  8.83907e-10 -1.49488e-10    0.0137077  1.05033e-09 -1.78582e-09 -1.97747e-11 -1.89602e-10    0.0132305   -0.0132305    0.0410761      1.06771 -2.10373e-10  1.41081e-09   0.00204775          nan          nan          nan          nan          nan          nan          nan          nan          nan          nan          nan          nan\r\n",
      "-0.000334321    0.0752465 -2.48517e-10  3.00381e-10   -0.0690159  0.000306639 -1.37709e-09 -1.00909e-09  9.71279e-10   0.00165854    0.0309104 -4.50755e-11  -0.00866897   0.00243091    0.0364086 -0.000161764  1.19817e-10 -1.21088e-10  4.88053e-10  4.85263e-10    -0.194424  2.24155e-10  3.79895e-09          nan          nan          nan          nan          nan          nan          nan          nan          nan          nan          nan          nan\r\n",
      "   0.0752465  0.000334321  1.78082e-10 -5.57561e-10 -0.000306639   -0.0690159     5.06e-09   5.1092e-09 -2.26114e-09    0.0309104  -0.00165854 -7.95699e-10  -0.00243091  -0.00866897  0.000161764    0.0364086 -4.43397e-10  4.48627e-10 -1.20882e-09 -1.21007e-09  2.24155e-10    -0.194424  1.19937e-09          nan          nan          nan          nan          nan          nan          nan          nan          nan          nan          nan          nan\r\n",
      "-3.04845e-10 -4.79424e-10   -0.0141841    0.0141841  4.10971e-10  1.86455e-10   0.00437906   0.00437906  -0.00132875  -1.1424e-09 -1.07753e-09 -0.000532635  7.69248e-11  1.04295e-10 -4.14782e-11  1.63505e-10  -0.00597819   0.00597819   0.00149866   0.00149866  3.89335e-09  1.35013e-09     0.958359          nan          nan          nan          nan          nan          nan          nan          nan          nan          nan          nan          nan\r\n",
      "        -nan         -nan         -nan         -nan         -nan         -nan         -nan         -nan         -nan         -nan         -nan         -nan         -nan         -nan         -nan         -nan         -nan         -nan         -nan         -nan         -nan         -nan         -nan          nan          nan          nan          nan          nan          nan          nan          nan          nan          nan          nan          nan\r\n",
      "        -nan         -nan         -nan         -nan         -nan         -nan         -nan         -nan         -nan         -nan         -nan         -nan         -nan         -nan         -nan         -nan         -nan         -nan         -nan         -nan         -nan         -nan         -nan         -nan         -nan         -nan         -nan         -nan         -nan         -nan         -nan         -nan         -nan         -nan         -nan\r\n",
      "        -nan         -nan         -nan         -nan         -nan         -nan         -nan         -nan         -nan         -nan         -nan         -nan         -nan         -nan         -nan         -nan         -nan         -nan         -nan         -nan         -nan         -nan         -nan         -nan         -nan         -nan         -nan         -nan         -nan         -nan         -nan         -nan         -nan         -nan         -nan\r\n",
      "        -nan         -nan         -nan         -nan         -nan         -nan         -nan         -nan         -nan         -nan         -nan         -nan         -nan         -nan         -nan         -nan         -nan         -nan         -nan         -nan         -nan         -nan         -nan          nan          nan          nan          nan          nan          nan          nan          nan          nan          nan          nan          nan\r\n",
      "        -nan         -nan         -nan         -nan         -nan         -nan         -nan         -nan         -nan         -nan         -nan         -nan         -nan         -nan         -nan         -nan         -nan         -nan         -nan         -nan         -nan         -nan         -nan          nan          nan          nan          nan          nan          nan          nan          nan          nan          nan          nan          nan\r\n",
      "        -nan         -nan         -nan         -nan         -nan         -nan         -nan         -nan         -nan         -nan         -nan         -nan         -nan         -nan         -nan         -nan         -nan         -nan         -nan         -nan         -nan         -nan         -nan         -nan         -nan         -nan         -nan         -nan         -nan         -nan         -nan         -nan         -nan         -nan         -nan\r\n",
      "        -nan         -nan         -nan         -nan         -nan         -nan         -nan         -nan         -nan         -nan         -nan         -nan         -nan         -nan         -nan         -nan         -nan         -nan         -nan         -nan         -nan         -nan         -nan         -nan         -nan         -nan         -nan         -nan         -nan         -nan         -nan         -nan         -nan         -nan         -nan\r\n",
      "        -nan         -nan         -nan         -nan         -nan         -nan         -nan         -nan         -nan         -nan         -nan         -nan         -nan         -nan         -nan         -nan         -nan         -nan         -nan         -nan         -nan         -nan         -nan          nan          nan          nan          nan          nan          nan          nan          nan          nan          nan          nan          nan\r\n",
      "        -nan         -nan         -nan         -nan         -nan         -nan         -nan         -nan         -nan         -nan         -nan         -nan         -nan         -nan         -nan         -nan         -nan         -nan         -nan         -nan         -nan         -nan         -nan          nan          nan          nan          nan          nan          nan          nan          nan          nan          nan          nan          nan\r\n",
      "        -nan         -nan         -nan         -nan         -nan         -nan         -nan         -nan         -nan         -nan         -nan         -nan         -nan         -nan         -nan         -nan         -nan         -nan         -nan         -nan         -nan         -nan         -nan         -nan          nan          nan          nan         -nan          nan          nan          nan         -nan          nan          nan          nan\r\n",
      "        -nan         -nan         -nan         -nan         -nan         -nan         -nan         -nan         -nan         -nan         -nan         -nan         -nan         -nan         -nan         -nan         -nan         -nan         -nan         -nan         -nan         -nan         -nan         -nan          nan          nan          nan         -nan          nan          nan          nan         -nan          nan          nan          nan\r\n",
      "        -nan         -nan         -nan         -nan         -nan         -nan         -nan         -nan         -nan         -nan         -nan         -nan         -nan         -nan         -nan         -nan         -nan         -nan         -nan         -nan         -nan         -nan         -nan         -nan         -nan         -nan         -nan         -nan         -nan         -nan         -nan         -nan         -nan         -nan         -nan\r\n",
      "B\r\n",
      "    0.093811 -1.37724e-11  1.67621e-11 -1.31175e-10  1.44411e-11   -0.0328898  3.54567e-10  2.99681e-10 -1.98335e-10     0.015531 -0.000902554 -3.66652e-11    0.0128419    0.0465912 -2.35306e-11    0.0481429 -2.87519e-10  1.38683e-10  -3.1067e-10 -3.81011e-11  0.000111554   -0.0251078 -4.01157e-10         -nan         -nan         -nan         -nan         -nan         -nan         -nan         -nan         -nan         -nan         -nan         -nan\r\n",
      "-1.37724e-11     0.093811 -9.50923e-11  4.02071e-11   -0.0328898  1.44412e-11  3.69102e-10  4.83515e-10 -1.23085e-10  0.000902554     0.015531  -1.6676e-10    0.0465912   -0.0128419    0.0481429 -2.35307e-11 -1.28225e-11  2.85392e-10 -7.55977e-11  7.32385e-11   -0.0251078 -0.000111554 -5.11015e-10         -nan         -nan         -nan         -nan         -nan         -nan         -nan         -nan         -nan         -nan         -nan         -nan\r\n",
      " 1.67621e-11 -9.50923e-11     0.105881   0.00530118  1.02624e-10  7.15332e-11   0.00676282   0.00676282  -0.00366082 -5.18472e-11 -2.03218e-11  -0.00166295 -9.63792e-11   2.0298e-10 -2.10563e-10 -2.54916e-11    0.0640657  -0.00170404  -0.00247709   -0.0196657 -6.23559e-11 -1.11232e-11   -0.0418855         -nan         -nan         -nan         -nan         -nan         -nan         -nan         -nan         -nan         -nan         -nan         -nan\r\n",
      "-1.31175e-10  4.02071e-11   0.00530118     0.105881 -1.09714e-10  2.29062e-10  -0.00676282  -0.00676282   0.00366082 -5.46522e-11  7.12222e-11   0.00166295  7.31376e-11 -1.52706e-10  7.34658e-11 -2.18421e-10  -0.00170404    0.0640657    0.0196657   0.00247709  1.33422e-10  1.11375e-10    0.0418855         -nan         -nan         -nan         -nan         -nan         -nan         -nan         -nan         -nan         -nan         -nan         -nan\r\n",
      " 1.44411e-11   -0.0328898  1.02624e-10 -1.09714e-10     0.240891 -6.89463e-13  1.10447e-09  8.03871e-10 -6.98474e-10 -0.000839367   -0.0144437 -1.60499e-10   0.00881472  -0.00242959    0.0441772  9.29857e-11 -5.66619e-11 -3.34172e-10  -5.7499e-11 -2.87336e-10  -0.00438142 -1.94667e-05  5.20769e-10         -nan         -nan         -nan         -nan         -nan         -nan         -nan         -nan         -nan         -nan         -nan         -nan\r\n",
      "  -0.0328898  1.44412e-11  7.15332e-11  2.29062e-10 -6.89519e-13     0.240891 -1.39685e-10 -1.46775e-10  1.24225e-10   -0.0144437  0.000839367  9.88887e-12   0.00242959   0.00881472  9.29857e-11    0.0441772  2.79856e-10 -5.00189e-11  1.11406e-10 -2.79427e-10  1.94667e-05  -0.00438142  4.31973e-10         -nan         -nan         -nan         -nan         -nan         -nan         -nan         -nan         -nan         -nan         -nan         -nan\r\n",
      " 3.54567e-10  3.69102e-10   0.00676282  -0.00676282  1.10447e-09 -1.39685e-10     0.221861     0.110679   -0.0629948 -1.32676e-12  4.62562e-10   -0.0286158 -1.92759e-09  3.22417e-09 -1.03146e-09  3.28793e-10   -0.0100732  -0.00711545    0.0330984   -0.0292632 -8.01261e-10 -3.84433e-10   0.00293011         -nan         -nan         -nan         -nan         -nan         -nan         -nan         -nan         -nan         -nan         -nan         -nan\r\n",
      " 2.99681e-10  4.83515e-10   0.00676282  -0.00676282  8.03871e-10 -1.46775e-10     0.110679     0.221861   -0.0629948  4.95736e-11  5.69061e-10   -0.0286158 -1.97786e-09  3.20093e-09  -7.8755e-10  1.91696e-10   0.00711545    0.0100732   -0.0292632    0.0330984 -8.98703e-10 -3.12387e-10   0.00293011         -nan         -nan         -nan         -nan         -nan         -nan         -nan         -nan         -nan         -nan         -nan         -nan\r\n",
      "-1.98335e-10 -1.23085e-10  -0.00366082   0.00366082 -6.98474e-10  1.24225e-10   -0.0629948   -0.0629948     0.429278 -2.25285e-10 -2.34116e-10   -0.0121538  4.56463e-10 -9.09093e-10  7.69117e-10 -2.08903e-10 -6.19987e-06  6.19989e-06 -1.82794e-05 -1.82793e-05 -7.45677e-11  5.84272e-10  5.84893e-05         -nan         -nan         -nan         -nan         -nan         -nan         -nan         -nan         -nan         -nan         -nan         -nan\r\n",
      "    0.015531  0.000902554 -5.18472e-11 -5.46522e-11 -0.000839367   -0.0144437 -1.32676e-12  4.95736e-11 -2.25285e-10     0.463967   2.1209e-12  1.17679e-10  0.000207751   0.00061252  0.000601935     0.010358  -6.1614e-10 -6.25687e-11  1.11961e-10  1.49062e-09 -0.000950219   -0.0177094 -1.86775e-09         -nan         -nan         -nan         -nan         -nan         -nan         -nan         -nan         -nan         -nan         -nan         -nan\r\n",
      "-0.000902554     0.015531 -2.03218e-11  7.12222e-11   -0.0144437  0.000839367  4.62562e-10  5.69061e-10 -2.34116e-10  2.12086e-12     0.463967 -1.09256e-10   0.00061252 -0.000207751     0.010358 -0.000601935  -7.6801e-11  1.45546e-09 -8.66968e-10  -1.8826e-10   -0.0177094  0.000950219 -1.77772e-09         -nan         -nan         -nan         -nan         -nan         -nan         -nan         -nan         -nan         -nan         -nan         -nan\r\n",
      "-3.66652e-11  -1.6676e-10  -0.00166295   0.00166295 -1.60499e-10  9.88887e-12   -0.0286158   -0.0286158   -0.0121538  1.17679e-10 -1.09256e-10     0.636067  5.47679e-10 -6.15271e-10 -6.46649e-11 -6.62036e-11   0.00672231  -0.00672231    0.0198196    0.0198196  1.03284e-10 -8.58645e-12  4.54406e-05         -nan         -nan         -nan         -nan         -nan         -nan         -nan         -nan         -nan         -nan         -nan         -nan\r\n",
      "   0.0128419    0.0465912 -9.63792e-11  7.31376e-11   0.00881472   0.00242959 -1.92759e-09 -1.97786e-09  4.56463e-10  0.000207751   0.00061252  5.47679e-10     0.917068   7.5071e-11   -0.0214901  -0.00592327  5.28429e-10 -7.58252e-10  1.85963e-09  1.85509e-09    0.0223828   0.00627646  1.65252e-10         -nan         -nan         -nan         -nan         -nan         -nan         -nan         -nan         -nan         -nan         -nan         -nan\r\n",
      "   0.0465912   -0.0128419   2.0298e-10 -1.52706e-10  -0.00242959   0.00881472  3.22417e-09  3.20093e-09 -9.09093e-10   0.00061252 -0.000207751 -6.15271e-10  7.50709e-11     0.917068   0.00592327   -0.0214901 -1.02322e-09  1.02776e-09 -2.98454e-09 -3.21436e-09  -0.00627646    0.0223828  1.26418e-10         -nan         -nan         -nan         -nan         -nan         -nan         -nan         -nan         -nan         -nan         -nan         -nan\r\n",
      "-2.35307e-11    0.0481429 -2.10563e-10  7.34658e-11    0.0441772  9.29857e-11 -1.03146e-09  -7.8755e-10  7.69117e-10  0.000601935     0.010358 -6.46649e-11   -0.0214901   0.00592327     0.981535  7.28733e-11 -3.51425e-12 -3.05976e-10   3.6287e-10 -7.51186e-11   0.00424838  1.88756e-05  3.17035e-10         -nan         -nan         -nan         -nan         -nan         -nan         -nan         -nan         -nan         -nan         -nan         -nan\r\n",
      "   0.0481429 -2.35307e-11 -2.54916e-11 -2.18421e-10  9.29857e-11    0.0441772  3.28793e-10  1.91696e-10 -2.08903e-10     0.010358 -0.000601935 -6.62036e-11  -0.00592327   -0.0214901  7.28732e-11     0.981535  2.22876e-10  2.15113e-10 -7.20198e-12 -3.16692e-10 -1.88756e-05   0.00424838  6.75848e-10         -nan         -nan         -nan         -nan         -nan         -nan         -nan         -nan         -nan         -nan         -nan         -nan\r\n",
      "-2.87519e-10 -1.28225e-11    0.0640657  -0.00170404 -5.66619e-11  2.79856e-10   -0.0100732   0.00711545 -6.19987e-06  -6.1614e-10  -7.6801e-11   0.00672231  5.28429e-10 -1.02322e-09 -3.51425e-12  2.22876e-10      1.06906   -0.0127897    0.0247232    0.0247232  4.19555e-11  2.29621e-10   -0.0150524         -nan         -nan         -nan         -nan         -nan         -nan         -nan         -nan         -nan         -nan         -nan         -nan\r\n",
      " 1.38683e-10  2.85392e-10  -0.00170404    0.0640657 -3.34172e-10 -5.00189e-11  -0.00711545    0.0100732  6.19989e-06 -6.25687e-11  1.45546e-09  -0.00672231 -7.58252e-10  1.02776e-09 -3.05976e-10  2.15113e-10   -0.0127897      1.06906   -0.0247232   -0.0247232 -1.38867e-10 -2.90741e-10    0.0150524         -nan         -nan         -nan         -nan         -nan         -nan         -nan         -nan         -nan         -nan         -nan         -nan\r\n",
      " -3.1067e-10 -7.55977e-11  -0.00247709    0.0196657  -5.7499e-11  1.11406e-10    0.0330984   -0.0292632 -1.82794e-05  1.11961e-10 -8.66968e-10    0.0198196  1.85963e-09 -2.98454e-09   3.6287e-10 -7.20198e-12    0.0247232   -0.0247232      1.13356    0.0772966  1.18969e-10  4.33676e-10    0.0054487         -nan         -nan         -nan         -nan         -nan         -nan         -nan         -nan         -nan         -nan         -nan         -nan\r\n",
      "-3.81011e-11  7.32385e-11   -0.0196657   0.00247709 -2.87336e-10 -2.79427e-10   -0.0292632    0.0330984 -1.82793e-05  1.49062e-09  -1.8826e-10    0.0198196  1.85509e-09 -3.21436e-09 -7.51186e-11 -3.16692e-10    0.0247232   -0.0247232    0.0772966      1.13356  1.80304e-10  3.37036e-10    0.0054487         -nan         -nan         -nan         -nan         -nan         -nan         -nan         -nan         -nan         -nan         -nan         -nan\r\n",
      " 0.000254836   -0.0573567  6.52258e-13  4.59927e-11  -0.00347861  1.54555e-05 -3.27893e-10 -5.32504e-10 -4.02562e-12 -0.000546803   -0.0101909 -2.33243e-11    0.0179488   -0.0050331    0.0191591 -8.51243e-05 -5.73436e-14  9.07836e-11  5.05003e-11  2.62757e-10     0.600541  2.24689e-10  2.81252e-09         -nan         -nan         -nan         -nan         -nan         -nan         -nan         -nan         -nan         -nan         -nan         -nan\r\n",
      "  -0.0573567 -0.000254836 -1.63842e-10  3.70675e-10 -1.54555e-05  -0.00347861 -3.85771e-09 -3.80973e-09  6.45026e-10   -0.0101909  0.000546803  1.38946e-10    0.0050331    0.0179488  8.51243e-05    0.0191591 -1.49295e-10 -6.08929e-11 -1.42147e-10 -5.13173e-11  2.24689e-10     0.600541  7.09115e-11         -nan         -nan         -nan         -nan         -nan         -nan         -nan         -nan         -nan         -nan         -nan         -nan\r\n",
      "-3.28219e-10 -3.21238e-10   -0.0423663    0.0423663  6.07587e-10  5.83249e-10    0.0028994    0.0028994 -0.000442797 -1.66946e-09 -1.60314e-09 -0.000216732  1.09835e-10  1.72883e-10   4.0753e-10  8.27908e-10   -0.0160941    0.0160941   0.00533144   0.00533144  3.14877e-09   5.2584e-10       1.9849         -nan         -nan         -nan         -nan         -nan         -nan         -nan         -nan         -nan         -nan         -nan         -nan\r\n",
      "        -nan         -nan         -nan         -nan         -nan         -nan         -nan         -nan         -nan         -nan         -nan         -nan         -nan         -nan         -nan         -nan         -nan         -nan         -nan         -nan         -nan         -nan         -nan         -nan         -nan         -nan         -nan         -nan         -nan         -nan         -nan         -nan         -nan         -nan         -nan\r\n",
      "        -nan         -nan         -nan         -nan         -nan         -nan         -nan         -nan         -nan         -nan         -nan         -nan         -nan         -nan         -nan         -nan         -nan         -nan         -nan         -nan         -nan         -nan         -nan         -nan         -nan         -nan         -nan         -nan         -nan         -nan         -nan         -nan         -nan         -nan         -nan\r\n",
      "        -nan         -nan         -nan         -nan         -nan         -nan         -nan         -nan         -nan         -nan         -nan         -nan         -nan         -nan         -nan         -nan         -nan         -nan         -nan         -nan         -nan         -nan         -nan         -nan         -nan         -nan         -nan         -nan         -nan         -nan         -nan         -nan         -nan         -nan         -nan\r\n",
      "        -nan         -nan         -nan         -nan         -nan         -nan         -nan         -nan         -nan         -nan         -nan         -nan         -nan         -nan         -nan         -nan         -nan         -nan         -nan         -nan         -nan         -nan         -nan         -nan         -nan         -nan         -nan         -nan         -nan         -nan         -nan         -nan         -nan         -nan         -nan\r\n",
      "        -nan         -nan         -nan         -nan         -nan         -nan         -nan         -nan         -nan         -nan         -nan         -nan         -nan         -nan         -nan         -nan         -nan         -nan         -nan         -nan         -nan         -nan         -nan         -nan         -nan         -nan         -nan         -nan         -nan         -nan         -nan         -nan         -nan         -nan         -nan\r\n",
      "        -nan         -nan         -nan         -nan         -nan         -nan         -nan         -nan         -nan         -nan         -nan         -nan         -nan         -nan         -nan         -nan         -nan         -nan         -nan         -nan         -nan         -nan         -nan         -nan         -nan         -nan         -nan         -nan         -nan         -nan         -nan         -nan         -nan         -nan         -nan\r\n",
      "        -nan         -nan         -nan         -nan         -nan         -nan         -nan         -nan         -nan         -nan         -nan         -nan         -nan         -nan         -nan         -nan         -nan         -nan         -nan         -nan         -nan         -nan         -nan         -nan         -nan         -nan         -nan         -nan         -nan         -nan         -nan         -nan         -nan         -nan         -nan\r\n",
      "        -nan         -nan         -nan         -nan         -nan         -nan         -nan         -nan         -nan         -nan         -nan         -nan         -nan         -nan         -nan         -nan         -nan         -nan         -nan         -nan         -nan         -nan         -nan         -nan         -nan         -nan         -nan         -nan         -nan         -nan         -nan         -nan         -nan         -nan         -nan\r\n",
      "        -nan         -nan         -nan         -nan         -nan         -nan         -nan         -nan         -nan         -nan         -nan         -nan         -nan         -nan         -nan         -nan         -nan         -nan         -nan         -nan         -nan         -nan         -nan         -nan         -nan         -nan         -nan         -nan         -nan         -nan         -nan         -nan         -nan         -nan         -nan\r\n",
      "        -nan         -nan         -nan         -nan         -nan         -nan         -nan         -nan         -nan         -nan         -nan         -nan         -nan         -nan         -nan         -nan         -nan         -nan         -nan         -nan         -nan         -nan         -nan         -nan         -nan         -nan         -nan         -nan         -nan         -nan         -nan         -nan         -nan         -nan         -nan\r\n",
      "        -nan         -nan         -nan         -nan         -nan         -nan         -nan         -nan         -nan         -nan         -nan         -nan         -nan         -nan         -nan         -nan         -nan         -nan         -nan         -nan         -nan         -nan         -nan         -nan         -nan         -nan         -nan         -nan         -nan         -nan         -nan         -nan         -nan         -nan         -nan\r\n",
      "        -nan         -nan         -nan         -nan         -nan         -nan         -nan         -nan         -nan         -nan         -nan         -nan         -nan         -nan         -nan         -nan         -nan         -nan         -nan         -nan         -nan         -nan         -nan          nan          nan          nan          nan          nan          nan          nan          nan          nan          nan          nan          nan\r\n",
      "an error occurred:\r\n",
      "Small generalized eigenvalue problem failed.\r\n"
     ]
    }
   ],
   "source": [
    "!xtp_tools -c job_name=CO geometry_optimization.maxiter=1 dftpackage.basisset=3-21G dftpackage.auxbasisset=aux-def2-svp gwbse.gw.mode=G0W0 -e dftgwbse -t 4"
   ]
  },
  {
   "cell_type": "markdown",
   "metadata": {},
   "source": [
    "Notice that we are using 4 threads. The results will be stored in a file named `CO_summary.xml` in the current work directory, together with the optimization step in `optimisation.trj` and the orbitals in [hdf5 format](https://www.hdfgroup.org/solutions/hdf5/) saved on `CO.orb`."
   ]
  }
 ],
 "metadata": {
  "kernelspec": {
   "display_name": "Python 3",
   "language": "python",
   "name": "python3"
  },
  "language_info": {
   "codemirror_mode": {
    "name": "ipython",
    "version": 3
   },
   "file_extension": ".py",
   "mimetype": "text/x-python",
   "name": "python",
   "nbconvert_exporter": "python",
   "pygments_lexer": "ipython3",
   "version": "3.10.2"
  }
 },
 "nbformat": 4,
 "nbformat_minor": 4
}
