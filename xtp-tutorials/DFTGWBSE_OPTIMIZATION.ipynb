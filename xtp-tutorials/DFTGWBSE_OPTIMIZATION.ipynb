{
 "cells": [
  {
   "cell_type": "markdown",
   "metadata": {},
   "source": [
    "## DFT + GWBSE Optimization Using CO"
   ]
  },
  {
   "cell_type": "markdown",
   "metadata": {},
   "source": [
    "## Introduction\n",
    "This tutorial explains how to perform a molecular geometric optimization using the **GWBSE** method. See [the GW Compendium: A Practical Guide to Theoretical Photoemission Spectroscopy](https://doi.org/10.3389/fchem.2019.00377), for an excellent introduction to the method."
   ]
  },
  {
   "cell_type": "markdown",
   "metadata": {},
   "source": [
    "## Requirements\n",
    "* You will need to install **VOTCA** using the instructions described [here](https://github.com/votca/votca/blob/master/share/doc/INSTALL.rst)\n",
    "* Once the installation is completed you need to activate the VOTCA enviroment by running the `VOTCARC.bash` script that has been installed at the bin subfolder for the path that you have provided for the installation step above"
   ]
  },
  {
   "cell_type": "markdown",
   "metadata": {},
   "source": [
    "## Preparing the input\n",
    "To run a DFT-GWBSE calculation we will use the [xtp_tools](https://www.votca.org/xtp/xtp_tools_overview.html) calculator."
   ]
  },
  {
   "cell_type": "markdown",
   "metadata": {},
   "source": [
    "we can now change the calculator mode from single point energy calculation to optimization as follows by adding \n",
    "`-c geometry_optimization.maxiter=1` which enables optimization with one iteration. "
   ]
  },
  {
   "cell_type": "markdown",
   "metadata": {},
   "source": [
    "Because geometry optimsation is quite expensive numerically we chose a smaller basisset and G0W0 Finally, to run the calculation we just need the following command (This still takes a while)"
   ]
  },
  {
   "cell_type": "code",
   "execution_count": 1,
   "metadata": {
    "execution": {
     "iopub.execute_input": "2021-09-30T19:09:43.009499Z",
     "iopub.status.busy": "2021-09-30T19:09:43.008826Z",
     "iopub.status.idle": "2021-09-30T19:11:05.091785Z",
     "shell.execute_reply": "2021-09-30T19:11:05.090972Z"
    }
   },
   "outputs": [
    {
     "name": "stdout",
     "output_type": "stream",
     "text": [
      "==================================================\r\n",
      "========   VOTCA (http://www.votca.org)   ========\r\n",
      "==================================================\r\n",
      "\r\n",
      "please submit bugs to https://github.com/votca/xtp/issues\r\n",
      "\r\n",
      "xtp_tools, version 2022-dev gitid: 4155cc8 (compiled Sep 30 2021, 18:59:11)\r\n",
      "votca_csg, version 2022-dev gitid: 4155cc8 (compiled Sep 30 2021, 18:42:12)\r\n",
      "votca_tools, version 2022-dev gitid: 4155cc8 (compiled Sep 30 2021, 18:39:02)\r\n",
      "\r\n",
      "Initializing tool\r\n",
      "... dftgwbse Evaluating tool\r\n",
      "... dftgwbse  Using 4 threads\r\n",
      "... ... Reading structure from CO.xyz\r\n",
      "... ... Requested geometry optimization of excited state s1\r\n",
      "... ... Initial state: s1\r\n",
      "... ... WARNING: No tracker is used \r\n",
      "... ... Convergence of total energy: 0.000001 Hartree \r\n",
      "... ... Convergence of RMS Force:    0.000030 Hartree/Bohr \r\n",
      "... ... Convergence of Max Force:    0.000100 Hartree/Bohr \r\n",
      "... ... Convergence of RMS Step:     0.000600 Bohr \r\n",
      "... ... Convergence of Max Step:     0.001000 Bohr \r\n",
      "... ... Initial trust radius:        0.018897 Bohr\r\n",
      "... ... \r\n",
      "... ... =========== OPTIMIZATION SUMMARY ================================= \r\n",
      "... ... At iteration  0\r\n",
      "... ...  ---- POSITIONS (Angstrom)   \r\n",
      "... ...  Atom\t x\t  y\t  z \r\n",
      "... ...    0    +0.0000  +0.0000  +0.0000\r\n",
      "... ...    1    +1.2000  +0.0000  +0.0000\r\n",
      "... ...    Total energy:     -112.26831841 Hartree \r\n",
      "... ...    Trust radius:       0.01889726 Bohr     \r\n",
      "... ...  ---- FORCES (Hartree/Bohr)   \r\n",
      "... ...       central differences   \r\n",
      "... ...       displacement 0.0010 Angstrom   \r\n",
      "... ...  Atom\t x\t  y\t  z \r\n",
      "... ...    0    -0.1314  -0.0000  -0.0000\r\n",
      "... ...    1    +0.1314  +0.0000  +0.0000A\r\n",
      "    0.301149  -1.3933e-12  7.74857e-10 -8.95827e-10 -1.21166e-09 -1.05397e-09   -0.0519724  1.02462e-12  -5.9644e-10   -0.0141666    0.0105037 -2.27606e-10    0.0390246 -0.000571395    0.0423984 -8.09106e-13 -1.53014e-10 -3.08705e-10  1.93622e-10 -4.06365e-10    -0.107078  -0.00208177  6.17467e-11          nan          nan          nan          nan          nan          nan          nan          nan          nan          nan          nan          nan\r\n",
      "-1.39331e-12     0.301149 -1.58612e-10   3.1631e-10 -2.11791e-10 -9.08216e-11  1.02466e-12   -0.0519724  7.80605e-12   -0.0105037   -0.0141666  3.45144e-12 -0.000571395   -0.0390246 -8.09066e-13    0.0423984 -2.09176e-10  3.56653e-12 -1.62342e-10  6.65116e-12  -0.00208177     0.107078   6.0047e-11          nan          nan          nan          nan          nan          nan          nan          nan          nan          nan          nan          nan\r\n",
      " 7.74857e-10 -1.58612e-10     0.392302   -0.0720691    -0.110802    -0.110802 -1.74395e-10  9.04128e-11   -0.0542036 -3.36356e-11  1.20546e-10   -0.0244336  1.89309e-09 -6.35802e-11  1.18057e-10 -2.97423e-11    0.0362411   -0.0110181    0.0169944   -0.0176863 -7.99925e-09 -4.16569e-10   -0.0241843          nan          nan          nan          nan          nan          nan          nan          nan          nan          nan          nan          nan\r\n",
      "-8.95827e-10   3.1631e-10   -0.0720691     0.392302     0.110802     0.110802  2.18172e-10 -1.45308e-10    0.0542036  3.42187e-11 -1.25845e-10    0.0244336 -1.91285e-09  3.81199e-11 -2.12772e-10  1.52289e-10    0.0110181   -0.0362411   -0.0176863    0.0169944  8.08808e-09    5.348e-10    0.0241843          nan          nan          nan          nan          nan          nan          nan          nan          nan          nan          nan          nan\r\n",
      "-1.21166e-09 -2.11791e-10    -0.110802     0.110802     0.459589     0.139356  2.95638e-10  1.10652e-10    0.0731053  1.44854e-10 -3.90241e-11     0.032954 -2.57957e-09  -1.9482e-12 -2.87551e-10 -1.13505e-10    0.0167702    0.0174622   -0.0209318   -0.0263274  1.09128e-08   1.5837e-10   -0.0098228          nan          nan          nan          nan          nan          nan          nan          nan          nan          nan          nan          nan\r\n",
      "-1.05397e-09 -9.08216e-11    -0.110802     0.110802     0.139356     0.459589  2.40742e-10  6.68748e-11    0.0731053  1.39554e-10 -3.96072e-11     0.032954 -2.55411e-09 -2.17059e-11 -1.65004e-10 -1.87901e-11    0.0174622    0.0167702    0.0263274    0.0209318  1.07937e-08  2.47985e-10   -0.0098228          nan          nan          nan          nan          nan          nan          nan          nan          nan          nan          nan          nan\r\n",
      "  -0.0519724  1.02466e-12 -1.74395e-10  2.18172e-10  2.95638e-10  2.40742e-10     0.486835 -2.42476e-13  1.72843e-10    0.0109527  -0.00812079  3.80707e-11   0.00830517 -0.000121604    0.0301449  2.92615e-12 -9.07939e-11  1.00828e-10  1.26831e-10  1.34857e-10    0.0549836   0.00106897 -4.06475e-11          nan          nan          nan          nan          nan          nan          nan          nan          nan          nan          nan          nan\r\n",
      " 1.02462e-12   -0.0519724  9.04128e-11 -1.45308e-10  1.10652e-10  6.68748e-11 -2.42482e-13     0.486835  6.71433e-13   0.00812079    0.0109527  3.74643e-13 -0.000121604  -0.00830517  2.92608e-12    0.0301449  2.69101e-10   7.4132e-12  2.01195e-10 -9.57296e-12   0.00106897   -0.0549836  2.31806e-10          nan          nan          nan          nan          nan          nan          nan          nan          nan          nan          nan          nan\r\n",
      " -5.9644e-10  7.80605e-12   -0.0542036    0.0542036    0.0731053    0.0731053  1.72843e-10  6.71433e-13     0.659928  2.69283e-10 -2.05696e-10  -0.00518518  -7.7755e-10  4.28454e-12 -1.32471e-10  3.15987e-13   0.00289745   0.00289745  -0.00379057   0.00379057   5.2486e-09  1.71074e-10   0.00257356          nan          nan          nan          nan          nan          nan          nan          nan          nan          nan          nan          nan\r\n",
      "  -0.0141666   -0.0105037 -3.36356e-11  3.42187e-11  1.44854e-10  1.39554e-10    0.0109527   0.00812079  2.69283e-10     0.668107  7.25843e-13 -7.86198e-11  1.34381e-05 -1.02719e-05  -0.00727787  -0.00539614  -2.5873e-11 -3.26892e-11  1.08805e-09 -4.35136e-11    0.0333898    -0.023765  8.03428e-10          nan          nan          nan          nan          nan          nan          nan          nan          nan          nan          nan          nan\r\n",
      "   0.0105037   -0.0141666  1.20546e-10 -1.25845e-10 -3.90241e-11 -3.96072e-11  -0.00812079    0.0109527 -2.05696e-10  7.25893e-13     0.668107  5.93847e-11 -1.02719e-05 -1.34381e-05   0.00539614  -0.00727787  1.07326e-09  2.87254e-11 -2.52248e-11  1.84086e-11    -0.023765   -0.0333898  1.12637e-09          nan          nan          nan          nan          nan          nan          nan          nan          nan          nan          nan          nan\r\n",
      "-2.27606e-10  3.45144e-12   -0.0244336    0.0244336     0.032954     0.032954  3.80707e-11  3.74642e-13  -0.00518518 -7.86198e-11  5.93847e-11     0.793012 -5.00994e-10    3.685e-12 -7.51913e-11  8.98049e-13   0.00929408   0.00929408   -0.0121589    0.0121589   2.0002e-09  6.70646e-11   0.00105096          nan          nan          nan          nan          nan          nan          nan          nan          nan          nan          nan          nan\r\n",
      "   0.0390246 -0.000571395  1.89309e-09 -1.91285e-09 -2.57957e-09 -2.55411e-09   0.00830517 -0.000121604  -7.7755e-10  1.34381e-05 -1.02719e-05 -5.00994e-10     0.954263  -3.9931e-13   -0.0128737  0.000188495 -1.22431e-09 -1.11696e-09   1.6022e-09 -1.46101e-09    0.0198847  0.000677936  -1.2056e-10          nan          nan          nan          nan          nan          nan          nan          nan          nan          nan          nan          nan\r\n",
      "-0.000571395   -0.0390246 -6.35802e-11  3.81199e-11  -1.9482e-12 -2.17059e-11 -0.000121604  -0.00830517  4.28454e-12 -1.02719e-05 -1.34381e-05    3.685e-12 -3.99317e-13     0.954263  0.000188495    0.0128737  -5.5386e-11  8.58012e-11 -5.70108e-11 -5.03345e-11 -0.000677936    0.0198847  3.53171e-11          nan          nan          nan          nan          nan          nan          nan          nan          nan          nan          nan          nan\r\n",
      "   0.0423984 -8.09066e-13  1.18057e-10 -2.12772e-10 -2.87551e-10 -1.65004e-10    0.0301449  2.92608e-12 -1.32471e-10  -0.00727787   0.00539614 -7.51913e-11   -0.0128737  0.000188495     0.973645  1.58432e-12 -1.18684e-10 -3.32234e-11  1.59728e-10 -4.16945e-11   -0.0229462 -0.000446112   1.7606e-11          nan          nan          nan          nan          nan          nan          nan          nan          nan          nan          nan          nan\r\n",
      "-8.09106e-13    0.0423984 -2.97423e-11  1.52289e-10 -1.13505e-10 -1.87901e-11  2.92615e-12    0.0301449  3.15987e-13  -0.00539614  -0.00727787  8.98049e-13  0.000188495    0.0128737  1.58432e-12     0.973645  1.25914e-10  7.88068e-12  9.27799e-11 -7.31975e-12 -0.000446112    0.0229462   5.3783e-10          nan          nan          nan          nan          nan          nan          nan          nan          nan          nan          nan          nan\r\n",
      "-1.53014e-10 -2.09176e-10    0.0362411    0.0110181    0.0167702    0.0174622 -9.07939e-11  2.69101e-10   0.00289745  -2.5873e-11  1.07326e-09   0.00929408 -1.22431e-09  -5.5386e-11 -1.18684e-10  1.25914e-10      1.03701     0.017837    -0.020607     0.020607  1.53077e-09 -1.52651e-11  -0.00299586          nan          nan          nan          nan          nan          nan          nan          nan          nan          nan          nan          nan\r\n",
      "-3.08705e-10  3.56653e-12   -0.0110181   -0.0362411    0.0174622    0.0167702  1.00828e-10   7.4132e-12   0.00289745 -3.26892e-11  2.87254e-11   0.00929408 -1.11696e-09  8.58012e-11 -3.32234e-11  7.88068e-12     0.017837      1.03701    -0.020607     0.020607   1.5808e-09  5.52652e-11  -0.00299586          nan          nan          nan          nan          nan          nan          nan          nan          nan          nan          nan          nan\r\n",
      " 1.93622e-10 -1.62342e-10    0.0169944   -0.0176863   -0.0209318    0.0263274  1.26831e-10  2.01195e-10  -0.00379057  1.08805e-09 -2.52248e-11   -0.0121589   1.6022e-09 -5.70108e-11  1.59728e-10  9.27799e-11    -0.020607    -0.020607      1.04821   -0.0290442 -1.99645e-09 -1.12164e-10  -0.00432732          nan          nan          nan          nan          nan          nan          nan          nan          nan          nan          nan          nan\r\n",
      "-4.06365e-10  6.65116e-12   -0.0176863    0.0169944   -0.0263274    0.0209318  1.34857e-10 -9.57296e-12   0.00379057 -4.35136e-11  1.84086e-11    0.0121589 -1.46101e-09 -5.03345e-11 -4.16945e-11 -7.31975e-12     0.020607     0.020607   -0.0290442      1.04821  2.06698e-09  6.21709e-11   0.00432732          nan          nan          nan          nan          nan          nan          nan          nan          nan          nan          nan          nan\r\n",
      "    0.074572    0.0014498  5.46612e-09  -5.4855e-09 -7.39917e-09 -7.37527e-09   -0.0700161  -0.00136123 -4.11124e-09   -0.0247671    0.0176278 -1.74829e-09  -0.00919313  0.000313424    0.0362819  0.000705381 -1.23942e-09 -1.26765e-09  1.61531e-09 -1.65603e-09    -0.195058 -8.52622e-12 -3.71811e-10          nan          nan          nan          nan          nan          nan          nan          nan          nan          nan          nan          nan\r\n",
      "   0.0014498    -0.074572  4.33957e-10 -4.57616e-10 -3.45792e-11 -5.40239e-11  -0.00136123    0.0700161 -1.32571e-10    0.0176278    0.0247671 -5.72775e-11 -0.000313424  -0.00919313  0.000705381   -0.0362819    4.181e-11  1.29689e-12  1.14402e-10  -8.5983e-11 -8.52629e-12    -0.195058 -6.16351e-09          nan          nan          nan          nan          nan          nan          nan          nan          nan          nan          nan          nan\r\n",
      "-1.17814e-11 -8.01744e-10  -0.00561471   0.00561471   -0.0181445   -0.0181445  5.74077e-11  6.99952e-10  -0.00444079  1.14274e-09  1.47654e-09  -0.00190756  1.44658e-10 -1.20263e-10 -1.84616e-11 -3.41314e-11  -0.00562598  -0.00562598  -0.00304949   0.00304949  -8.2998e-10 -6.32094e-09      1.05412          nan          nan          nan          nan          nan          nan          nan          nan          nan          nan          nan          nan\r\n",
      "        -nan         -nan         -nan         -nan         -nan         -nan         -nan         -nan         -nan         -nan         -nan         -nan         -nan         -nan         -nan         -nan         -nan         -nan         -nan         -nan         -nan         -nan         -nan          nan          nan          nan          nan          nan          nan          nan          nan          nan          nan          nan          nan\r\n",
      "        -nan         -nan         -nan         -nan         -nan         -nan         -nan         -nan         -nan         -nan         -nan         -nan         -nan         -nan         -nan         -nan         -nan         -nan         -nan         -nan         -nan         -nan         -nan         -nan         -nan         -nan         -nan         -nan         -nan         -nan         -nan         -nan         -nan         -nan         -nan\r\n",
      "        -nan         -nan         -nan         -nan         -nan         -nan         -nan         -nan         -nan         -nan         -nan         -nan         -nan         -nan         -nan         -nan         -nan         -nan         -nan         -nan         -nan         -nan         -nan         -nan         -nan         -nan         -nan         -nan         -nan         -nan         -nan         -nan         -nan         -nan         -nan\r\n",
      "        -nan         -nan         -nan         -nan         -nan         -nan         -nan         -nan         -nan         -nan         -nan         -nan         -nan         -nan         -nan         -nan         -nan         -nan         -nan         -nan         -nan         -nan         -nan          nan          nan          nan          nan          nan          nan          nan          nan          nan          nan          nan          nan\r\n",
      "        -nan         -nan         -nan         -nan         -nan         -nan         -nan         -nan         -nan         -nan         -nan         -nan         -nan         -nan         -nan         -nan         -nan         -nan         -nan         -nan         -nan         -nan         -nan          nan          nan          nan          nan          nan          nan          nan          nan          nan          nan          nan          nan\r\n",
      "        -nan         -nan         -nan         -nan         -nan         -nan         -nan         -nan         -nan         -nan         -nan         -nan         -nan         -nan         -nan         -nan         -nan         -nan         -nan         -nan         -nan         -nan         -nan         -nan         -nan         -nan         -nan         -nan         -nan         -nan         -nan         -nan         -nan         -nan         -nan\r\n",
      "        -nan         -nan         -nan         -nan         -nan         -nan         -nan         -nan         -nan         -nan         -nan         -nan         -nan         -nan         -nan         -nan         -nan         -nan         -nan         -nan         -nan         -nan         -nan         -nan         -nan         -nan         -nan         -nan         -nan         -nan         -nan         -nan         -nan         -nan         -nan\r\n",
      "        -nan         -nan         -nan         -nan         -nan         -nan         -nan         -nan         -nan         -nan         -nan         -nan         -nan         -nan         -nan         -nan         -nan         -nan         -nan         -nan         -nan         -nan         -nan          nan          nan          nan          nan          nan          nan          nan          nan          nan          nan          nan          nan\r\n",
      "        -nan         -nan         -nan         -nan         -nan         -nan         -nan         -nan         -nan         -nan         -nan         -nan         -nan         -nan         -nan         -nan         -nan         -nan         -nan         -nan         -nan         -nan         -nan          nan          nan          nan          nan          nan          nan          nan          nan          nan          nan          nan          nan\r\n",
      "        -nan         -nan         -nan         -nan         -nan         -nan         -nan         -nan         -nan         -nan         -nan         -nan         -nan         -nan         -nan         -nan         -nan         -nan         -nan         -nan         -nan         -nan         -nan         -nan          nan          nan          nan         -nan          nan          nan          nan         -nan          nan          nan          nan\r\n",
      "        -nan         -nan         -nan         -nan         -nan         -nan         -nan         -nan         -nan         -nan         -nan         -nan         -nan         -nan         -nan         -nan         -nan         -nan         -nan         -nan         -nan         -nan         -nan         -nan          nan          nan          nan         -nan          nan          nan          nan         -nan          nan          nan          nan\r\n",
      "        -nan         -nan         -nan         -nan         -nan         -nan         -nan         -nan         -nan         -nan         -nan         -nan         -nan         -nan         -nan         -nan         -nan         -nan         -nan         -nan         -nan         -nan         -nan         -nan         -nan         -nan         -nan         -nan         -nan         -nan         -nan         -nan         -nan         -nan         -nan\r\n",
      "B\r\n",
      "   0.0903883 -6.21497e-13  2.84957e-10 -3.61705e-10 -4.89533e-10 -3.89462e-10   -0.0326152  6.28426e-13 -3.69431e-10   -0.0118998   0.00882303 -1.51549e-10    0.0481023  -0.00070431    0.0477611 -9.28692e-13 -1.01454e-10 -3.11497e-10  1.23591e-10 -4.10662e-10   -0.0244238  -0.00047484    4.328e-11         -nan         -nan         -nan         -nan         -nan         -nan         -nan         -nan         -nan         -nan         -nan         -nan\r\n",
      "-6.21506e-13    0.0903883 -7.73521e-11  1.77423e-10 -1.23118e-10 -4.63695e-11  6.28451e-13   -0.0326152  4.83471e-12  -0.00882303   -0.0118998  2.34124e-12  -0.00070431   -0.0481023 -9.28643e-13    0.0477611 -2.96358e-10 -9.28646e-12 -2.27018e-10  1.69753e-11  -0.00047484    0.0244238 -7.66433e-10         -nan         -nan         -nan         -nan         -nan         -nan         -nan         -nan         -nan         -nan         -nan         -nan\r\n",
      " 2.84957e-10 -7.73521e-11     0.139409   -0.0345748   -0.0540854   -0.0540854 -8.40968e-11  6.17961e-11   -0.0389412 -2.42103e-11  1.02146e-10   -0.0190079  2.04003e-09  -7.0957e-11  9.95154e-11 -3.05677e-11    0.0544786  -0.00909342    0.0148671   -0.0157979 -4.07922e-10  8.59734e-11   -0.0315099         -nan         -nan         -nan         -nan         -nan         -nan         -nan         -nan         -nan         -nan         -nan         -nan\r\n",
      "-3.61705e-10  1.77423e-10   -0.0345748     0.139409    0.0540854    0.0540854  1.19005e-10 -1.05874e-10    0.0389412  2.47824e-11 -1.08623e-10    0.0190079 -2.06926e-09  3.33401e-11 -2.20972e-10  1.87887e-10   0.00909342   -0.0544786   -0.0157979    0.0148671  4.78909e-10  1.06995e-11    0.0315099         -nan         -nan         -nan         -nan         -nan         -nan         -nan         -nan         -nan         -nan         -nan         -nan\r\n",
      "-4.89533e-10 -1.23118e-10   -0.0540854    0.0540854     0.172253    0.0674194   1.6146e-10  8.09607e-11    0.0525207  1.22624e-10 -2.83449e-11    0.0256363 -2.79022e-09   3.0947e-12 -2.98615e-10 -1.40985e-10    0.0143294    0.0152603   -0.0177615   -0.0458105  6.49897e-10  3.60279e-11   -0.0289895         -nan         -nan         -nan         -nan         -nan         -nan         -nan         -nan         -nan         -nan         -nan         -nan\r\n",
      "-3.89462e-10 -4.63695e-11   -0.0540854    0.0540854    0.0674194     0.172253  1.17382e-10  4.60521e-11    0.0525207  1.16147e-10  -2.8917e-11    0.0256363  -2.7526e-09  -2.6139e-11 -1.41296e-10 -1.95283e-11    0.0152603    0.0143294    0.0458105    0.0177615  5.52567e-10  1.07702e-10   -0.0289895         -nan         -nan         -nan         -nan         -nan         -nan         -nan         -nan         -nan         -nan         -nan         -nan\r\n",
      "  -0.0326152   6.2845e-13 -8.40968e-11  1.19005e-10   1.6146e-10  1.17382e-10     0.236624 -1.35754e-13  1.31185e-10    0.0115527  -0.00856566  2.26186e-11   0.00949837 -0.000139074    0.0424653  4.01621e-12 -1.62857e-10  1.22918e-10  2.25196e-10  1.65215e-10  -0.00359497 -6.98921e-05   5.8796e-12         -nan         -nan         -nan         -nan         -nan         -nan         -nan         -nan         -nan         -nan         -nan         -nan\r\n",
      " 6.28427e-13   -0.0326152  6.17961e-11 -1.05874e-10  8.09607e-11  4.60521e-11 -1.35761e-13     0.236624  8.23063e-13   0.00856566    0.0115527  4.88348e-13 -0.000139074  -0.00949837  4.01612e-12    0.0424653  4.03555e-10  1.31435e-11  3.01555e-10 -1.57794e-11 -6.98921e-05   0.00359497  8.20061e-10         -nan         -nan         -nan         -nan         -nan         -nan         -nan         -nan         -nan         -nan         -nan         -nan\r\n",
      "-3.69431e-10  4.83471e-12   -0.0389412    0.0389412    0.0525207    0.0525207  1.31185e-10  8.23063e-13     0.424108  3.29651e-10 -2.51517e-10   -0.0112617 -9.33328e-10  4.66491e-12 -1.79933e-10  4.17879e-13  0.000394275  0.000394275 -0.000515807  0.000515807  1.09672e-09  3.94771e-11  -0.00123138         -nan         -nan         -nan         -nan         -nan         -nan         -nan         -nan         -nan         -nan         -nan         -nan\r\n",
      "  -0.0118998  -0.00882303 -2.42103e-11  2.47824e-11  1.22624e-10  1.16147e-10    0.0115527   0.00856566  3.29651e-10     0.446812  9.55331e-13 -1.11964e-10 -0.000384649   0.00029402  -0.00867192  -0.00642975 -4.67659e-11 -5.81177e-11  1.82474e-09 -7.92935e-11    0.0144716   -0.0103001  1.77546e-09         -nan         -nan         -nan         -nan         -nan         -nan         -nan         -nan         -nan         -nan         -nan         -nan\r\n",
      "  0.00882303   -0.0118998  1.02146e-10 -1.08623e-10 -2.83449e-11  -2.8917e-11  -0.00856566    0.0115527 -2.51517e-10  9.55391e-13     0.446812  8.48044e-11   0.00029402  0.000384649   0.00642975  -0.00867192  1.79829e-09  5.28372e-11 -4.59038e-11  3.45518e-11   -0.0103001   -0.0144716   2.3858e-09         -nan         -nan         -nan         -nan         -nan         -nan         -nan         -nan         -nan         -nan         -nan         -nan\r\n",
      "-1.51549e-10  2.34124e-12   -0.0190079    0.0190079    0.0256363    0.0256363  2.26186e-11  4.88347e-13   -0.0112617 -1.11964e-10  8.48044e-11     0.627074 -6.51482e-10  4.83712e-12 -1.03755e-10   1.3365e-12    0.0133149    0.0133149   -0.0174191    0.0174191  2.10885e-10  1.01489e-11 -0.000508297         -nan         -nan         -nan         -nan         -nan         -nan         -nan         -nan         -nan         -nan         -nan         -nan\r\n",
      "   0.0481023  -0.00070431  2.04003e-09 -2.06926e-09 -2.79022e-09  -2.7526e-09   0.00949837 -0.000139074 -9.33328e-10 -0.000384649   0.00029402 -6.51482e-10     0.912954 -7.12268e-13   -0.0215514  0.000315554 -2.19939e-09 -1.98178e-09  2.87828e-09 -2.59203e-09    0.0227029  0.000774017 -5.41248e-11         -nan         -nan         -nan         -nan         -nan         -nan         -nan         -nan         -nan         -nan         -nan         -nan\r\n",
      " -0.00070431   -0.0481023  -7.0957e-11  3.33401e-11   3.0947e-12  -2.6139e-11 -0.000139074  -0.00949837  4.66491e-12   0.00029402  0.000384649  4.83712e-12 -7.12282e-13     0.912954  0.000315554    0.0215514 -1.18928e-10  1.67319e-10 -1.16761e-10 -1.00856e-10 -0.000774017    0.0227029 -1.06656e-10         -nan         -nan         -nan         -nan         -nan         -nan         -nan         -nan         -nan         -nan         -nan         -nan\r\n",
      "   0.0477611 -9.28645e-13  9.95154e-11 -2.20972e-10 -2.98615e-10 -1.41296e-10    0.0424653  4.01612e-12 -1.79933e-10  -0.00867192   0.00642975 -1.03755e-10   -0.0215514  0.000315554     0.952112  3.01008e-12 -1.95197e-10  -5.0871e-11  2.62842e-10 -6.33834e-11   0.00321145  6.24358e-05  2.52989e-12         -nan         -nan         -nan         -nan         -nan         -nan         -nan         -nan         -nan         -nan         -nan         -nan\r\n",
      "-9.28691e-13    0.0477611 -3.05677e-11  1.87887e-10 -1.40985e-10 -1.95283e-11  4.01621e-12    0.0424653  4.17879e-13  -0.00642975  -0.00867192   1.3365e-12  0.000315554    0.0215514  3.01007e-12     0.952112  2.08621e-10  9.16322e-12  1.53662e-10 -9.33589e-12  6.24358e-05  -0.00321145  4.76016e-10         -nan         -nan         -nan         -nan         -nan         -nan         -nan         -nan         -nan         -nan         -nan         -nan\r\n",
      "-1.01454e-10 -2.96358e-10    0.0544786   0.00909342    0.0143294    0.0152603 -1.62857e-10  4.03555e-10  0.000394275 -4.67659e-11  1.79829e-09    0.0133149 -2.19939e-09 -1.18928e-10 -1.95197e-10  2.08621e-10       1.0746    0.0336298   -0.0382405    0.0382405  4.71135e-10 -1.00537e-10   -0.0123078         -nan         -nan         -nan         -nan         -nan         -nan         -nan         -nan         -nan         -nan         -nan         -nan\r\n",
      "-3.11497e-10 -9.28646e-12  -0.00909342   -0.0544786    0.0152603    0.0143294  1.22918e-10  1.31435e-11  0.000394275 -5.81177e-11  5.28372e-11    0.0133149 -1.98178e-09  1.67319e-10  -5.0871e-11  9.16322e-12    0.0336298       1.0746   -0.0382405    0.0382405  5.93909e-10   7.2916e-11   -0.0123078         -nan         -nan         -nan         -nan         -nan         -nan         -nan         -nan         -nan         -nan         -nan         -nan\r\n",
      " 1.23591e-10 -2.27018e-10    0.0148671   -0.0157979   -0.0177615    0.0458105  2.25196e-10  3.01555e-10 -0.000515807  1.82474e-09 -4.59038e-11   -0.0174191  2.87828e-09 -1.16761e-10  2.62842e-10  1.53662e-10   -0.0382405   -0.0382405       1.0954   -0.0544272 -6.05443e-10 -1.06102e-10   -0.0113439         -nan         -nan         -nan         -nan         -nan         -nan         -nan         -nan         -nan         -nan         -nan         -nan\r\n",
      "-4.10662e-10  1.69753e-11   -0.0157979    0.0148671   -0.0458105    0.0177615  1.65215e-10 -1.57794e-11  0.000515807 -7.92935e-11  3.45518e-11    0.0174191 -2.59203e-09 -1.00856e-10 -6.33834e-11 -9.33589e-12    0.0382405    0.0382405   -0.0544272       1.0954  7.78593e-10 -1.63334e-11    0.0113439         -nan         -nan         -nan         -nan         -nan         -nan         -nan         -nan         -nan         -nan         -nan         -nan\r\n",
      "  -0.0559709  -0.00108817 -3.92259e-09  3.99047e-09  5.38933e-09  5.29672e-09  -0.00259781 -5.05057e-05  1.12612e-09   0.00898758  -0.00639685  2.79948e-10    0.0177727 -0.000605929    0.0179747  0.000349458 -5.52607e-11 -7.78989e-11  6.31715e-11 -9.78879e-11     0.583856 -9.31248e-12 -2.80249e-10         -nan         -nan         -nan         -nan         -nan         -nan         -nan         -nan         -nan         -nan         -nan         -nan\r\n",
      " -0.00108817    0.0559709 -8.59253e-11  1.77697e-10  1.33683e-10   2.0245e-10 -5.05057e-05   0.00259781  3.53691e-11  -0.00639685  -0.00898758  8.99578e-12  0.000605929    0.0177727  0.000349458   -0.0179747  1.41106e-10  1.06716e-10  1.14571e-10 -9.15928e-11 -9.31254e-12     0.583856   -4.582e-09         -nan         -nan         -nan         -nan         -nan         -nan         -nan         -nan         -nan         -nan         -nan         -nan\r\n",
      " 6.75144e-11 -4.39632e-10   -0.0321235    0.0321235   -0.0289587   -0.0289587  3.56464e-12  8.79471e-10  -0.00259072  1.63673e-09  2.19678e-09  -0.00132465  9.38657e-11 -7.03417e-11  4.84528e-12  6.05016e-10   -0.0137035   -0.0137035   -0.0109744    0.0109744 -7.72384e-10 -5.08504e-09      2.11671         -nan         -nan         -nan         -nan         -nan         -nan         -nan         -nan         -nan         -nan         -nan         -nan\r\n",
      "        -nan         -nan         -nan         -nan         -nan         -nan         -nan         -nan         -nan         -nan         -nan         -nan         -nan         -nan         -nan         -nan         -nan         -nan         -nan         -nan         -nan         -nan         -nan         -nan         -nan         -nan         -nan         -nan         -nan         -nan         -nan         -nan         -nan         -nan         -nan\r\n",
      "        -nan         -nan         -nan         -nan         -nan         -nan         -nan         -nan         -nan         -nan         -nan         -nan         -nan         -nan         -nan         -nan         -nan         -nan         -nan         -nan         -nan         -nan         -nan         -nan         -nan         -nan         -nan         -nan         -nan         -nan         -nan         -nan         -nan         -nan         -nan\r\n",
      "        -nan         -nan         -nan         -nan         -nan         -nan         -nan         -nan         -nan         -nan         -nan         -nan         -nan         -nan         -nan         -nan         -nan         -nan         -nan         -nan         -nan         -nan         -nan         -nan         -nan         -nan         -nan         -nan         -nan         -nan         -nan         -nan         -nan         -nan         -nan\r\n",
      "        -nan         -nan         -nan         -nan         -nan         -nan         -nan         -nan         -nan         -nan         -nan         -nan         -nan         -nan         -nan         -nan         -nan         -nan         -nan         -nan         -nan         -nan         -nan         -nan         -nan         -nan         -nan         -nan         -nan         -nan         -nan         -nan         -nan         -nan         -nan\r\n",
      "        -nan         -nan         -nan         -nan         -nan         -nan         -nan         -nan         -nan         -nan         -nan         -nan         -nan         -nan         -nan         -nan         -nan         -nan         -nan         -nan         -nan         -nan         -nan         -nan         -nan         -nan         -nan         -nan         -nan         -nan         -nan         -nan         -nan         -nan         -nan\r\n",
      "        -nan         -nan         -nan         -nan         -nan         -nan         -nan         -nan         -nan         -nan         -nan         -nan         -nan         -nan         -nan         -nan         -nan         -nan         -nan         -nan         -nan         -nan         -nan         -nan         -nan         -nan         -nan         -nan         -nan         -nan         -nan         -nan         -nan         -nan         -nan\r\n",
      "        -nan         -nan         -nan         -nan         -nan         -nan         -nan         -nan         -nan         -nan         -nan         -nan         -nan         -nan         -nan         -nan         -nan         -nan         -nan         -nan         -nan         -nan         -nan         -nan         -nan         -nan         -nan         -nan         -nan         -nan         -nan         -nan         -nan         -nan         -nan\r\n",
      "        -nan         -nan         -nan         -nan         -nan         -nan         -nan         -nan         -nan         -nan         -nan         -nan         -nan         -nan         -nan         -nan         -nan         -nan         -nan         -nan         -nan         -nan         -nan         -nan         -nan         -nan         -nan         -nan         -nan         -nan         -nan         -nan         -nan         -nan         -nan\r\n",
      "        -nan         -nan         -nan         -nan         -nan         -nan         -nan         -nan         -nan         -nan         -nan         -nan         -nan         -nan         -nan         -nan         -nan         -nan         -nan         -nan         -nan         -nan         -nan         -nan         -nan         -nan         -nan         -nan         -nan         -nan         -nan         -nan         -nan         -nan         -nan\r\n",
      "        -nan         -nan         -nan         -nan         -nan         -nan         -nan         -nan         -nan         -nan         -nan         -nan         -nan         -nan         -nan         -nan         -nan         -nan         -nan         -nan         -nan         -nan         -nan         -nan         -nan         -nan         -nan         -nan         -nan         -nan         -nan         -nan         -nan         -nan         -nan\r\n",
      "        -nan         -nan         -nan         -nan         -nan         -nan         -nan         -nan         -nan         -nan         -nan         -nan         -nan         -nan         -nan         -nan         -nan         -nan         -nan         -nan         -nan         -nan         -nan         -nan         -nan         -nan         -nan         -nan         -nan         -nan         -nan         -nan         -nan         -nan         -nan\r\n",
      "        -nan         -nan         -nan         -nan         -nan         -nan         -nan         -nan         -nan         -nan         -nan         -nan         -nan         -nan         -nan         -nan         -nan         -nan         -nan         -nan         -nan         -nan         -nan          nan          nan          nan          nan          nan          nan          nan          nan          nan          nan          nan          nan\r\n",
      "an error occurred:\r\n",
      "Small generalized eigenvalue problem failed.\r\n"
     ]
    }
   ],
   "source": [
    "!xtp_tools -c job_name=CO geometry_optimization.maxiter=1 dftpackage.basisset=3-21G dftpackage.auxbasisset=aux-def2-svp gwbse.gw.mode=G0W0 -e dftgwbse -t 4"
   ]
  },
  {
   "cell_type": "markdown",
   "metadata": {},
   "source": [
    "Notice that we are using 4 threads. The results will be stored in a file named `CO_summary.xml` in the current work directory, together with the optimization step in `optimisation.trj` and the orbitals in [hdf5 format](https://www.hdfgroup.org/solutions/hdf5/) saved on `CO.orb`."
   ]
  }
 ],
 "metadata": {
  "kernelspec": {
   "display_name": "Python 3",
   "language": "python",
   "name": "python3"
  },
  "language_info": {
   "codemirror_mode": {
    "name": "ipython",
    "version": 3
   },
   "file_extension": ".py",
   "mimetype": "text/x-python",
   "name": "python",
   "nbconvert_exporter": "python",
   "pygments_lexer": "ipython3",
   "version": "3.9.7"
  }
 },
 "nbformat": 4,
 "nbformat_minor": 4
}
