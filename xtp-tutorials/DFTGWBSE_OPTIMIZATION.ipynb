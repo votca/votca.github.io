{
 "cells": [
  {
   "cell_type": "markdown",
   "metadata": {},
   "source": [
    "## DFT + GWBSE Optimization Using CO"
   ]
  },
  {
   "cell_type": "markdown",
   "metadata": {},
   "source": [
    "## Introduction\n",
    "This tutorial explains how to perform a molecular geometric optimization using the **GWBSE** method. See [the GW Compendium: A Practical Guide to Theoretical Photoemission Spectroscopy](https://doi.org/10.3389/fchem.2019.00377), for an excellent introduction to the method."
   ]
  },
  {
   "cell_type": "markdown",
   "metadata": {},
   "source": [
    "## Requirements\n",
    "* You will need to install **VOTCA** using the instructions described [here](https://github.com/votca/votca/blob/master/share/doc/INSTALL.rst)\n",
    "* Once the installation is completed you need to activate the VOTCA enviroment by running the `VOTCARC.bash` script that has been installed at the bin subfolder for the path that you have provided for the installation step above"
   ]
  },
  {
   "cell_type": "markdown",
   "metadata": {},
   "source": [
    "## Preparing the input\n",
    "To run a DFT-GWBSE calculation we will use the [xtp_tools](https://www.votca.org/xtp/xtp_tools_overview.html) calculator."
   ]
  },
  {
   "cell_type": "markdown",
   "metadata": {},
   "source": [
    "we can now change the calculator mode from single point energy calculation to optimization as follows by adding \n",
    "`-c geometry_optimization.maxiter=1` which enables optimization with one iteration. "
   ]
  },
  {
   "cell_type": "markdown",
   "metadata": {},
   "source": [
    "Because geometry optimsation is quite expensive numerically we chose a smaller basisset and G0W0 Finally, to run the calculation we just need the following command (This still takes a while)"
   ]
  },
  {
   "cell_type": "code",
   "execution_count": 1,
   "metadata": {
    "execution": {
     "iopub.execute_input": "2021-10-09T13:15:35.038008Z",
     "iopub.status.busy": "2021-10-09T13:15:35.037364Z",
     "iopub.status.idle": "2021-10-09T13:15:54.045010Z",
     "shell.execute_reply": "2021-10-09T13:15:54.044340Z"
    }
   },
   "outputs": [
    {
     "name": "stdout",
     "output_type": "stream",
     "text": [
      "==================================================\r\n",
      "========   VOTCA (http://www.votca.org)   ========\r\n",
      "==================================================\r\n",
      "\r\n",
      "please submit bugs to https://github.com/votca/xtp/issues\r\n",
      "\r\n",
      "xtp_tools, version 2022-dev gitid: 7e563a5 (compiled Oct  9 2021, 13:04:49)\r\n",
      "votca_csg, version 2022-dev gitid: 7e563a5 (compiled Oct  9 2021, 12:47:04)\r\n",
      "votca_tools, version 2022-dev gitid: 7e563a5 (compiled Oct  9 2021, 12:44:10)\r\n",
      "\r\n",
      "Initializing tool\r\n",
      "... dftgwbse Evaluating tool\r\n",
      "... dftgwbse  Using 4 threads\r\n",
      "... ... Reading structure from CO.xyz\r\n",
      "... ... Requested geometry optimization of excited state s1\r\n",
      "... ... Initial state: s1\r\n",
      "... ... WARNING: No tracker is used \r\n",
      "... ... Convergence of total energy: 0.000001 Hartree \r\n",
      "... ... Convergence of RMS Force:    0.000030 Hartree/Bohr \r\n",
      "... ... Convergence of Max Force:    0.000100 Hartree/Bohr \r\n",
      "... ... Convergence of RMS Step:     0.000600 Bohr \r\n",
      "... ... Convergence of Max Step:     0.001000 Bohr \r\n",
      "... ... Initial trust radius:        0.018897 BohrA\r\n",
      "    0.307132 -3.05395e-11  1.80093e-10  5.20334e-10  2.31693e-11   -0.0516061  1.11619e-09 -1.03644e-09  3.87501e-10    0.0181649   0.00103842  1.10389e-10    -0.010393    0.0375642 -1.99857e-11    0.0421019 -2.08442e-10  9.09901e-11  3.57711e-10  1.58905e-10  0.000478959    -0.108408 -1.82867e-10 -2.62342e-10          nan          nan          nan          nan          nan          nan          nan          nan          nan          nan          nan\r\n",
      "-3.05395e-11     0.307132  3.88544e-10  3.08792e-10   -0.0516061  2.31694e-11 -2.45214e-09  2.79239e-09 -8.22168e-10   0.00103842   -0.0181649 -3.85187e-10   -0.0375642    -0.010393    0.0421019 -1.99858e-11  1.91897e-10  6.90861e-12 -5.01706e-10 -6.19158e-10    -0.108408 -0.000478959 -1.68128e-11 -2.44029e-11          nan          nan          nan          nan          nan          nan          nan          nan          nan          nan          nan\r\n",
      " 1.80093e-10  3.88544e-10       0.3206  -0.00929442 -1.41742e-11 -3.03938e-11   -0.0131334    0.0131334  -0.00489742  1.46128e-10 -1.02422e-10  -0.00208645  -1.1868e-11 -2.06771e-10  1.19252e-10 -7.46779e-12   -0.0470589   0.00129754  -0.00255034   -0.0152112 -9.86151e-10   3.1233e-10   -0.0254849    0.0199266          nan          nan          nan          nan          nan          nan          nan          nan          nan          nan          nan\r\n",
      " 5.20334e-10  3.08792e-10  -0.00929442       0.3206 -2.25365e-11 -4.35118e-10   -0.0131334    0.0131334  -0.00489742  1.66393e-10 -1.48334e-10  -0.00208645  8.16959e-12 -1.81874e-10  1.28209e-11  4.05467e-10  -0.00129754    0.0470588   -0.0152112  -0.00255034 -9.62208e-10 -2.07828e-10   -0.0254849   -0.0199266          nan          nan          nan          nan          nan          nan          nan          nan          nan          nan          nan\r\n",
      " 2.31693e-11   -0.0516061 -1.41742e-11 -2.25365e-11     0.490902 -2.82516e-12 -1.48999e-09  1.08527e-09 -6.28841e-10 -0.000768383    0.0134412 -1.85914e-10  -0.00770442   -0.0021316    0.0309987  6.59832e-11  4.61175e-11 -3.03214e-10 -2.08007e-10 -6.15556e-11    0.0531267   0.00023472 -2.09368e-10 -1.24534e-11          nan          nan          nan          nan          nan          nan          nan          nan          nan          nan          nan\r\n",
      "  -0.0516061  2.31694e-11 -3.03938e-11 -4.35118e-10 -2.82515e-12     0.490902 -9.30982e-11   1.0146e-10 -6.26671e-11   -0.0134412 -0.000768383   5.2062e-12   -0.0021316   0.00770442  6.59832e-11    0.0309987  1.53711e-10 -7.25929e-12 -8.27406e-11  1.74356e-10  -0.00023472    0.0531267 -4.46668e-11   1.3184e-10          nan          nan          nan          nan          nan          nan          nan          nan          nan          nan          nan\r\n",
      " 1.11619e-09 -2.45214e-09   -0.0131334   -0.0131334 -1.48999e-09 -9.30982e-11     0.549589    -0.219695    0.0856696  1.42902e-11  7.24928e-10    0.0364979   8.3306e-10  2.62322e-09  6.31649e-10  2.54443e-10     -0.01134  -0.00132087   -0.0126945    0.0330668  1.34053e-08 -8.26735e-09   0.00153982  -0.00942922          nan          nan          nan          nan          nan          nan          nan          nan          nan          nan          nan\r\n",
      "-1.03644e-09  2.79239e-09    0.0131334    0.0131334  1.08527e-09   1.0146e-10    -0.219695     0.549589   -0.0856696 -6.02021e-11 -7.45193e-10   -0.0364979 -8.57957e-10 -2.60318e-09 -2.18715e-10 -1.48012e-10  -0.00132087     -0.01134   -0.0330668    0.0126945 -1.39189e-08  8.23986e-09  -0.00153982   -0.0094292          nan          nan          nan          nan          nan          nan          nan          nan          nan          nan          nan\r\n",
      " 3.87501e-10 -8.22168e-10  -0.00489742  -0.00489742 -6.28841e-10 -6.26671e-11    0.0856696   -0.0856696     0.662947  1.80011e-10  5.81852e-10  -0.00632525  2.92951e-10  7.01859e-10  3.36752e-10   9.7224e-11  -0.00131517   0.00131517   0.00387723   0.00387723   4.3403e-09 -3.05269e-09   0.00112209 -3.40934e-09          nan          nan          nan          nan          nan          nan          nan          nan          nan          nan          nan\r\n",
      "   0.0181649   0.00103842  1.46128e-10  1.66393e-10 -0.000768383   -0.0134412  1.42902e-11 -6.02021e-11  1.80011e-10     0.680922 -1.59711e-12 -8.83647e-11 -2.70434e-05   7.9726e-05  0.000492937   0.00862284 -3.86843e-10 -1.91463e-13 -8.09523e-11 -8.90604e-10  -0.00216058   -0.0409706  6.68909e-10 -1.13165e-09          nan          nan          nan          nan          nan          nan          nan          nan          nan          nan          nan\r\n",
      "  0.00103842   -0.0181649 -1.02422e-10 -1.48334e-10    0.0134412 -0.000768383  7.24928e-10 -7.45193e-10  5.81852e-10 -1.59712e-12     0.680922   -6.205e-11   7.9726e-05  2.70434e-05  -0.00862284  0.000492937  4.19255e-12 -8.13844e-10 -3.77637e-10  9.39781e-12    0.0409706  -0.00216058 -8.09426e-10 -3.16315e-10          nan          nan          nan          nan          nan          nan          nan          nan          nan          nan          nan\r\n",
      " 1.10389e-10 -3.85187e-10  -0.00208645  -0.00208645 -1.85914e-10   5.2062e-12    0.0364979   -0.0364979  -0.00632525 -8.83647e-11   -6.205e-11      0.79826 -1.20925e-11  3.26479e-10 -1.10207e-10  5.76787e-11  -0.00464968   0.00464968    0.0137076    0.0137076  1.73244e-09 -9.75403e-10  0.000444837 -1.40092e-09          nan          nan          nan          nan          nan          nan          nan          nan          nan          nan          nan\r\n",
      "   -0.010393   -0.0375642  -1.1868e-11  8.16959e-12  -0.00770442   -0.0021316   8.3306e-10 -8.57957e-10  2.92951e-10 -2.70434e-05   7.9726e-05 -1.20925e-11     0.956418 -4.28689e-11    0.0126664   0.00350443 -1.23835e-10  2.37467e-10  6.53872e-10  4.31501e-10   -0.0192739  -0.00542436 -6.82143e-12  -5.7093e-11          nan          nan          nan          nan          nan          nan          nan          nan          nan          nan          nan\r\n",
      "   0.0375642    -0.010393 -2.06771e-10 -1.81874e-10   -0.0021316   0.00770442  2.62322e-09 -2.60318e-09  7.01859e-10   7.9726e-05  2.70434e-05  3.26479e-10 -4.28689e-11     0.956418   0.00350443   -0.0126664 -4.24079e-10   6.4645e-10  1.49158e-09  1.60521e-09  -0.00542436    0.0192739  8.91562e-11  1.11535e-10          nan          nan          nan          nan          nan          nan          nan          nan          nan          nan          nan\r\n",
      "-1.99857e-11    0.0421019  1.19252e-10  1.28209e-11    0.0309987  6.59832e-11  6.31649e-10 -2.18715e-10  3.36752e-10  0.000492937  -0.00862284 -1.10207e-10    0.0126664   0.00350443     0.988566  3.73209e-11  2.92113e-11  -1.1093e-10  3.58625e-11 -6.17148e-11   -0.0223628 -9.88017e-05 -3.29959e-10  7.81801e-12          nan          nan          nan          nan          nan          nan          nan          nan          nan          nan          nan\r\n",
      "   0.0421019 -1.99858e-11 -7.46779e-12  4.05467e-10  6.59832e-11    0.0309987  2.54443e-10 -1.48012e-10   9.7224e-11   0.00862284  0.000492937  5.76787e-11   0.00350443   -0.0126664  3.73209e-11     0.988566 -7.07663e-12 -9.05008e-11  6.75541e-11  1.49273e-10  9.88018e-05   -0.0223628 -1.73274e-10  2.28128e-10          nan          nan          nan          nan          nan          nan          nan          nan          nan          nan          nan\r\n",
      "-2.08442e-10  1.91897e-10   -0.0470589  -0.00129754  4.61175e-11  1.53711e-10     -0.01134  -0.00132087  -0.00131517 -3.86843e-10  4.19255e-12  -0.00464968 -1.23835e-10 -4.24079e-10  2.92113e-11 -7.07663e-12      1.03319  -0.00655616   -0.0132315   -0.0132315 -8.25246e-10   5.5297e-10    0.0042765 -4.36889e-05          nan          nan          nan          nan          nan          nan          nan          nan          nan          nan          nan\r\n",
      " 9.09901e-11  6.90861e-12   0.00129754    0.0470588 -3.03214e-10 -7.25929e-12  -0.00132087     -0.01134   0.00131517 -1.91463e-13 -8.13844e-10   0.00464968  2.37467e-10   6.4645e-10  -1.1093e-10 -9.05008e-11  -0.00655616      1.03319    0.0132315    0.0132315  7.78528e-10 -4.51087e-10   -0.0042765   -4.369e-05          nan          nan          nan          nan          nan          nan          nan          nan          nan          nan          nan\r\n",
      " 3.57711e-10 -5.01706e-10  -0.00255034   -0.0152112 -2.08007e-10 -8.27406e-11   -0.0126945   -0.0330668   0.00387723 -8.09523e-11 -3.77637e-10    0.0137076  6.53872e-10  1.49158e-09  3.58625e-11  6.75541e-11   -0.0132315    0.0132315      1.06771    0.0410754  2.36743e-09 -1.58676e-09    0.0020401  0.000277382          nan          nan          nan          nan          nan          nan          nan          nan          nan          nan          nan\r\n",
      " 1.58905e-10 -6.19158e-10   -0.0152112  -0.00255034 -6.15556e-11  1.74356e-10    0.0330668    0.0126945   0.00387723 -8.90604e-10  9.39781e-12    0.0137076  4.31501e-10  1.60521e-09 -6.17148e-11  1.49273e-10   -0.0132315    0.0132315    0.0410754      1.06771  2.46841e-09 -1.53949e-09    0.0020401 -0.000277385          nan          nan          nan          nan          nan          nan          nan          nan          nan          nan          nan\r\n",
      "-0.000332448    0.0752465  6.85927e-10  7.30852e-10   -0.0690159  0.000304921 -8.05902e-09  8.33661e-09 -3.16371e-09   0.00163014   -0.0309119  -1.5432e-09   0.00866667    0.0024391    0.0364086 -0.000160858  5.58297e-10 -5.57733e-10 -1.77567e-09 -1.77918e-09    -0.194424  2.21053e-10 -4.21699e-09  4.77814e-11          nan          nan          nan          nan          nan          nan          nan          nan          nan          nan          nan\r\n",
      "   0.0752465  0.000332448  2.22423e-12  2.86544e-10 -0.000304921   -0.0690159  5.48909e-09 -5.53166e-09  2.38348e-09    0.0309119   0.00163014  8.86819e-10    0.0024391  -0.00866667  0.000160858    0.0364086 -4.81186e-10  4.76942e-10  1.28065e-09   1.2792e-09  2.21053e-10    -0.194424 -5.54469e-09  2.88059e-09          nan          nan          nan          nan          nan          nan          nan          nan          nan          nan          nan\r\n",
      " 5.99206e-10  5.29666e-10   -0.0141904   -0.0141904  -3.6892e-10 -5.51705e-10  -0.00431334   0.00431334  -0.00130902  1.02976e-09 -1.08959e-09 -0.000524885  8.36163e-11 -8.16723e-11  4.06998e-11  2.51645e-10   0.00597543  -0.00597543   0.00150645   0.00150645 -4.42726e-09 -5.45869e-09     0.958296  1.15983e-08          nan          nan          nan          nan          nan          nan          nan          nan          nan          nan          nan\r\n",
      "-4.25111e-10  4.08577e-11  -0.00554494   0.00554494  -3.0647e-10  6.95548e-11   0.00178057   0.00178056  1.91541e-09 -1.02926e-09  -3.2891e-10  9.99639e-10 -9.23035e-11   2.3637e-10 -5.52599e-11  2.10508e-10  -0.00353289  -0.00353289   0.00311321  -0.00311321   1.1425e-10  3.23164e-09  1.16749e-08     0.111957          nan          nan          nan          nan          nan          nan          nan          nan          nan          nan          nan\r\n",
      "        -nan         -nan         -nan         -nan         -nan         -nan         -nan         -nan         -nan         -nan         -nan         -nan         -nan         -nan         -nan         -nan         -nan         -nan         -nan         -nan         -nan         -nan         -nan         -nan         -nan         -nan         -nan         -nan         -nan         -nan         -nan         -nan         -nan         -nan         -nan\r\n",
      "        -nan         -nan         -nan         -nan         -nan         -nan         -nan         -nan         -nan         -nan         -nan         -nan         -nan         -nan         -nan         -nan         -nan         -nan         -nan         -nan         -nan         -nan         -nan         -nan         -nan         -nan         -nan         -nan         -nan         -nan         -nan         -nan         -nan         -nan         -nan\r\n",
      "        -nan         -nan         -nan         -nan         -nan         -nan         -nan         -nan         -nan         -nan         -nan         -nan         -nan         -nan         -nan         -nan         -nan         -nan         -nan         -nan         -nan         -nan         -nan         -nan          nan          nan          nan          nan          nan          nan          nan          nan          nan          nan          nan\r\n",
      "        -nan         -nan         -nan         -nan         -nan         -nan         -nan         -nan         -nan         -nan         -nan         -nan         -nan         -nan         -nan         -nan         -nan         -nan         -nan         -nan         -nan         -nan         -nan         -nan          nan          nan          nan          nan          nan          nan          nan          nan          nan          nan          nan\r\n",
      "        -nan         -nan         -nan         -nan         -nan         -nan         -nan         -nan         -nan         -nan         -nan         -nan         -nan         -nan         -nan         -nan         -nan         -nan         -nan         -nan         -nan         -nan         -nan         -nan         -nan         -nan         -nan         -nan         -nan         -nan         -nan         -nan         -nan         -nan         -nan\r\n",
      "        -nan         -nan         -nan         -nan         -nan         -nan         -nan         -nan         -nan         -nan         -nan         -nan         -nan         -nan         -nan         -nan         -nan         -nan         -nan         -nan         -nan         -nan         -nan         -nan         -nan         -nan         -nan         -nan         -nan         -nan         -nan         -nan         -nan         -nan         -nan\r\n",
      "        -nan         -nan         -nan         -nan         -nan         -nan         -nan         -nan         -nan         -nan         -nan         -nan         -nan         -nan         -nan         -nan         -nan         -nan         -nan         -nan         -nan         -nan         -nan         -nan          nan          nan          nan          nan          nan          nan          nan          nan          nan          nan          nan\r\n",
      "        -nan         -nan         -nan         -nan         -nan         -nan         -nan         -nan         -nan         -nan         -nan         -nan         -nan         -nan         -nan         -nan         -nan         -nan         -nan         -nan         -nan         -nan         -nan         -nan          nan          nan          nan          nan          nan          nan          nan          nan          nan          nan          nan\r\n",
      "        -nan         -nan         -nan         -nan         -nan         -nan         -nan         -nan         -nan         -nan         -nan         -nan         -nan         -nan         -nan         -nan         -nan         -nan         -nan         -nan         -nan         -nan         -nan         -nan          nan          nan          nan         -nan          nan          nan          nan         -nan          nan          nan          nan\r\n",
      "        -nan         -nan         -nan         -nan         -nan         -nan         -nan         -nan         -nan         -nan         -nan         -nan         -nan         -nan         -nan         -nan         -nan         -nan         -nan         -nan         -nan         -nan         -nan         -nan          nan          nan          nan         -nan          nan          nan          nan         -nan          nan          nan          nan\r\n",
      "        -nan         -nan         -nan         -nan         -nan         -nan         -nan         -nan         -nan         -nan         -nan         -nan         -nan         -nan         -nan         -nan         -nan         -nan         -nan         -nan         -nan         -nan         -nan         -nan         -nan         -nan         -nan         -nan         -nan         -nan         -nan         -nan         -nan         -nan         -nan\r\n",
      "B\r\n",
      "    0.093811 -1.35728e-11   9.6267e-11  3.20968e-10  1.42486e-11   -0.0328898  4.68052e-10 -4.11087e-10  2.38447e-10    0.0155318  0.000887899  6.34974e-11   -0.0128871    0.0465788 -2.32197e-11    0.0481429 -2.59234e-10  1.01544e-10  3.59465e-10  8.39679e-11  0.000110929   -0.0251078  4.90609e-10 -5.93804e-10         -nan         -nan         -nan         -nan         -nan         -nan         -nan         -nan         -nan         -nan         -nan\r\n",
      "-1.35729e-11     0.093811  2.01021e-10  1.44056e-10   -0.0328898  1.42486e-11 -9.67839e-10  1.19254e-09 -5.07354e-10  0.000887899   -0.0155318 -2.54853e-10   -0.0465788   -0.0128871    0.0481429 -2.32198e-11  1.64717e-10   1.1078e-10 -4.29885e-10 -5.87574e-10   -0.0251078 -0.000110929   5.3842e-10  3.80419e-11         -nan         -nan         -nan         -nan         -nan         -nan         -nan         -nan         -nan         -nan         -nan\r\n",
      "  9.6267e-11  2.01021e-10     0.105868  -0.00531383 -1.87525e-11 -2.58882e-11  -0.00665337   0.00665337  -0.00360138  1.36154e-10 -8.74661e-11  -0.00163595 -2.39282e-11 -2.29498e-10  1.51009e-10 -1.30194e-11   -0.0640584   0.00171348  -0.00244952   -0.0196987 -7.96364e-11   1.9443e-10   -0.0418872    0.0146074         -nan         -nan         -nan         -nan         -nan         -nan         -nan         -nan         -nan         -nan         -nan\r\n",
      " 3.20968e-10  1.44056e-10  -0.00531383     0.105868  -2.2313e-11 -3.15401e-10  -0.00665337   0.00665337  -0.00360138  1.60338e-10 -1.30046e-10  -0.00163595  2.92721e-12 -1.92635e-10  9.22195e-12  5.05946e-10  -0.00171348    0.0640584   -0.0196987  -0.00244952  -5.0507e-12 -4.79948e-11   -0.0418872   -0.0146074         -nan         -nan         -nan         -nan         -nan         -nan         -nan         -nan         -nan         -nan         -nan\r\n",
      " 1.42486e-11   -0.0328898 -1.87525e-11  -2.2313e-11     0.240891 -6.60646e-13 -9.44017e-10  6.54504e-10  -5.4939e-10 -0.000825738    0.0144445 -1.60934e-10  -0.00881236  -0.00243814    0.0441772  9.17229e-11   4.1002e-11 -4.25017e-10 -2.15154e-10 -1.15725e-11  -0.00438142 -1.93576e-05 -5.21074e-10 -2.89444e-10         -nan         -nan         -nan         -nan         -nan         -nan         -nan         -nan         -nan         -nan         -nan\r\n",
      "  -0.0328898  1.42486e-11 -2.58882e-11 -3.15401e-10 -6.60631e-13     0.240891 -4.38447e-11  4.74052e-11 -4.47915e-11   -0.0144445 -0.000825738  1.05706e-11  -0.00243814   0.00881236  9.17229e-11    0.0441772  2.22996e-10 -1.94144e-11 -1.02603e-10  2.81413e-10  1.93576e-05  -0.00438142  -4.8851e-10  1.20647e-10         -nan         -nan         -nan         -nan         -nan         -nan         -nan         -nan         -nan         -nan         -nan\r\n",
      " 4.68052e-10 -9.67839e-10  -0.00665337  -0.00665337 -9.44017e-10 -4.38447e-11     0.221874    -0.110692    0.0629982  1.78771e-11  5.48464e-10    0.0286173  9.99716e-10  2.90166e-09   7.9443e-10  2.58632e-10   -0.0100724  -0.00717678   -0.0330797    0.0292653  1.48734e-09 -5.30117e-10  -0.00289008  -0.00775294         -nan         -nan         -nan         -nan         -nan         -nan         -nan         -nan         -nan         -nan         -nan\r\n",
      "-4.11087e-10  1.19254e-09   0.00665337   0.00665337  6.54504e-10  4.74052e-11    -0.110692     0.221874   -0.0629982 -6.04567e-11 -5.72648e-10   -0.0286173 -1.03658e-09  -2.8748e-09 -2.75465e-10 -1.16845e-10  -0.00717678   -0.0100724   -0.0292653    0.0330797 -1.72939e-09  4.54358e-10   0.00289008  -0.00775293         -nan         -nan         -nan         -nan         -nan         -nan         -nan         -nan         -nan         -nan         -nan\r\n",
      " 2.38447e-10 -5.07354e-10  -0.00360138  -0.00360138  -5.4939e-10 -4.47915e-11    0.0629982   -0.0629982     0.429278  2.30982e-10  6.84386e-10   -0.0121538  4.21618e-10  8.97719e-10   4.7042e-10  1.29994e-10  6.20036e-06 -6.20038e-06 -1.82792e-05 -1.82792e-05  1.01358e-09 -6.37643e-10  5.45889e-05 -8.47265e-10         -nan         -nan         -nan         -nan         -nan         -nan         -nan         -nan         -nan         -nan         -nan\r\n",
      "   0.0155318  0.000887899  1.36154e-10  1.60338e-10 -0.000825738   -0.0144445  1.78771e-11 -6.04567e-11  2.30982e-10     0.463967 -2.13292e-12 -1.17866e-10 -0.000207767  0.000612515  0.000592161    0.0103586 -6.63623e-10  5.12559e-12 -1.34042e-10 -1.50674e-09 -0.000933949   -0.0177102  1.63369e-09 -2.08289e-09         -nan         -nan         -nan         -nan         -nan         -nan         -nan         -nan         -nan         -nan         -nan\r\n",
      " 0.000887899   -0.0155318 -8.74661e-11 -1.30046e-10    0.0144445 -0.000825738  5.48464e-10 -5.72648e-10  6.84386e-10 -2.13293e-12     0.463967 -1.23375e-10  0.000612515  0.000207767   -0.0103586  0.000592161   2.6633e-11 -1.39933e-09  -6.9748e-10 -3.89827e-11    0.0177102 -0.000933949 -1.78276e-09  -5.5543e-10         -nan         -nan         -nan         -nan         -nan         -nan         -nan         -nan         -nan         -nan         -nan\r\n",
      " 6.34974e-11 -2.54853e-10  -0.00163595  -0.00163595 -1.60934e-10  1.05706e-11    0.0286173   -0.0286173   -0.0121538 -1.17866e-10 -1.23375e-10     0.636067  -4.9504e-11  4.09102e-10 -1.95684e-10  8.27708e-11  -0.00672284   0.00672284    0.0198195    0.0198195  9.92468e-11 -2.29519e-12  4.33595e-05 -1.58131e-10         -nan         -nan         -nan         -nan         -nan         -nan         -nan         -nan         -nan         -nan         -nan\r\n",
      "  -0.0128871   -0.0465788 -2.39282e-11  2.92721e-12  -0.00881236  -0.00243814  9.99716e-10 -1.03658e-09  4.21618e-10 -0.000207767  0.000612515  -4.9504e-11     0.917068  -7.5158e-11    0.0214843   0.00594411 -2.20545e-10   4.5325e-10   1.2271e-09  7.74942e-10   -0.0223768  -0.00629762  1.02096e-10 -1.70605e-10         -nan         -nan         -nan         -nan         -nan         -nan         -nan         -nan         -nan         -nan         -nan\r\n",
      "   0.0465788   -0.0128871 -2.29498e-10 -1.92635e-10  -0.00243814   0.00881236  2.90166e-09  -2.8748e-09  8.97719e-10  0.000612515  0.000207767  4.09102e-10  -7.5158e-11     0.917068   0.00594411   -0.0214843 -7.40768e-10  1.19293e-09  2.67331e-09  2.90601e-09  -0.00629762    0.0223768  6.26663e-11  4.15922e-10         -nan         -nan         -nan         -nan         -nan         -nan         -nan         -nan         -nan         -nan         -nan\r\n",
      "-2.32197e-11    0.0481429  1.51009e-10  9.22195e-12    0.0441772  9.17229e-11   7.9443e-10 -2.75465e-10   4.7042e-10  0.000592161   -0.0103586 -1.95684e-10    0.0214843   0.00594411     0.981535  7.19405e-11  5.42377e-11 -1.86566e-10  5.45207e-11 -1.35589e-10   0.00424838  1.87699e-05 -2.61233e-10  1.30458e-11         -nan         -nan         -nan         -nan         -nan         -nan         -nan         -nan         -nan         -nan         -nan\r\n",
      "   0.0481429 -2.32198e-11 -1.30194e-11  5.05946e-10  9.17229e-11    0.0441772  2.58632e-10 -1.16845e-10  1.29994e-10    0.0103586  0.000592161  8.27708e-11   0.00594411   -0.0214843  7.19405e-11     0.981535  -2.9418e-11 -1.60692e-10  1.09478e-10  2.41806e-10 -1.87698e-05   0.00424838  1.75189e-10  4.09676e-10         -nan         -nan         -nan         -nan         -nan         -nan         -nan         -nan         -nan         -nan         -nan\r\n",
      "-2.59234e-10  1.64717e-10   -0.0640584  -0.00171348   4.1002e-11  2.22996e-10   -0.0100724  -0.00717678  6.20036e-06 -6.63623e-10   2.6633e-11  -0.00672284 -2.20545e-10 -7.40768e-10  5.42377e-11  -2.9418e-11      1.06906    -0.012791   -0.0247249   -0.0247249 -3.94509e-10  2.10715e-10     0.015053  -0.00482678         -nan         -nan         -nan         -nan         -nan         -nan         -nan         -nan         -nan         -nan         -nan\r\n",
      " 1.01544e-10   1.1078e-10   0.00171348    0.0640584 -4.25017e-10 -1.94144e-11  -0.00717678   -0.0100724 -6.20038e-06  5.12559e-12 -1.39933e-09   0.00672284   4.5325e-10  1.19293e-09 -1.86566e-10 -1.60692e-10    -0.012791      1.06906    0.0247249    0.0247249  2.19047e-10  1.20375e-12    -0.015053  -0.00482678         -nan         -nan         -nan         -nan         -nan         -nan         -nan         -nan         -nan         -nan         -nan\r\n",
      " 3.59465e-10 -4.29885e-10  -0.00244952   -0.0196987 -2.15154e-10 -1.02603e-10   -0.0330797   -0.0292653 -1.82792e-05 -1.34042e-10  -6.9748e-10    0.0198195   1.2271e-09  2.67331e-09  5.45207e-11  1.09478e-10   -0.0247249    0.0247249      1.13356    0.0772953  8.79548e-10  -5.9971e-10   0.00544551   0.00467462         -nan         -nan         -nan         -nan         -nan         -nan         -nan         -nan         -nan         -nan         -nan\r\n",
      " 8.39679e-11 -5.87574e-10   -0.0196987  -0.00244952 -1.15725e-11  2.81413e-10    0.0292653    0.0330797 -1.82792e-05 -1.50674e-09 -3.89827e-11    0.0198195  7.74942e-10  2.90601e-09 -1.35589e-10  2.41806e-10   -0.0247249    0.0247249    0.0772953      1.13356  1.09069e-09 -4.24424e-10   0.00544551  -0.00467462         -nan         -nan         -nan         -nan         -nan         -nan         -nan         -nan         -nan         -nan         -nan\r\n",
      " 0.000253409   -0.0573567 -4.71789e-10 -4.19837e-10  -0.00347861  1.53689e-05  7.51816e-09 -7.82181e-09  1.20428e-09  -0.00053744    0.0101913  2.34334e-10    -0.017944  -0.00505006    0.0191591 -8.46474e-05 -9.06516e-11  7.12142e-11 -1.66059e-10  5.14032e-12     0.600541  2.21507e-10  -3.1916e-09   6.9622e-10         -nan         -nan         -nan         -nan         -nan         -nan         -nan         -nan         -nan         -nan         -nan\r\n",
      "  -0.0573567 -0.000253409  3.44336e-10  4.15243e-11 -1.53689e-05  -0.00347861 -4.34445e-09  4.29109e-09 -7.17122e-10   -0.0101913  -0.00053744 -1.52038e-10  -0.00505006     0.017944  8.46474e-05    0.0191591 -1.00928e-10  2.71831e-10  3.21985e-11  5.08241e-11  2.21507e-10     0.600541 -5.04424e-09  3.73434e-09         -nan         -nan         -nan         -nan         -nan         -nan         -nan         -nan         -nan         -nan         -nan\r\n",
      " 1.98297e-10   3.3686e-10    -0.042368    -0.042368 -5.91086e-10 -4.73076e-10  -0.00285895   0.00285895 -0.000438543  1.50213e-09 -1.61578e-09 -0.000214493  5.05865e-11  4.23513e-11  -3.6438e-10  1.53183e-10    0.0160924   -0.0160924   0.00533501   0.00533501 -3.64812e-09 -5.04869e-09       1.9848  1.47466e-08         -nan         -nan         -nan         -nan         -nan         -nan         -nan         -nan         -nan         -nan         -nan\r\n",
      "-6.09452e-10 -1.67513e-11    0.0164722   -0.0164722 -2.39596e-10  1.35188e-10  -0.00877626  -0.00877624 -1.93982e-09 -2.01377e-09   -5.721e-10  -6.0002e-10 -2.00577e-10  4.63087e-10 -4.55795e-12  4.35466e-10  -0.00585028  -0.00585028   0.00544722  -0.00544722  6.59788e-10  4.24919e-09  1.48052e-08     0.808615         -nan         -nan         -nan         -nan         -nan         -nan         -nan         -nan         -nan         -nan         -nan\r\n",
      "        -nan         -nan         -nan         -nan         -nan         -nan         -nan         -nan         -nan         -nan         -nan         -nan         -nan         -nan         -nan         -nan         -nan         -nan         -nan         -nan         -nan         -nan         -nan         -nan         -nan         -nan         -nan         -nan         -nan         -nan         -nan         -nan         -nan         -nan         -nan\r\n",
      "        -nan         -nan         -nan         -nan         -nan         -nan         -nan         -nan         -nan         -nan         -nan         -nan         -nan         -nan         -nan         -nan         -nan         -nan         -nan         -nan         -nan         -nan         -nan         -nan         -nan         -nan         -nan         -nan         -nan         -nan         -nan         -nan         -nan         -nan         -nan\r\n",
      "        -nan         -nan         -nan         -nan         -nan         -nan         -nan         -nan         -nan         -nan         -nan         -nan         -nan         -nan         -nan         -nan         -nan         -nan         -nan         -nan         -nan         -nan         -nan         -nan         -nan         -nan         -nan         -nan         -nan         -nan         -nan         -nan         -nan         -nan         -nan\r\n",
      "        -nan         -nan         -nan         -nan         -nan         -nan         -nan         -nan         -nan         -nan         -nan         -nan         -nan         -nan         -nan         -nan         -nan         -nan         -nan         -nan         -nan         -nan         -nan         -nan         -nan         -nan         -nan         -nan         -nan         -nan         -nan         -nan         -nan         -nan         -nan\r\n",
      "        -nan         -nan         -nan         -nan         -nan         -nan         -nan         -nan         -nan         -nan         -nan         -nan         -nan         -nan         -nan         -nan         -nan         -nan         -nan         -nan         -nan         -nan         -nan         -nan         -nan         -nan         -nan         -nan         -nan         -nan         -nan         -nan         -nan         -nan         -nan\r\n",
      "        -nan         -nan         -nan         -nan         -nan         -nan         -nan         -nan         -nan         -nan         -nan         -nan         -nan         -nan         -nan         -nan         -nan         -nan         -nan         -nan         -nan         -nan         -nan         -nan         -nan         -nan         -nan         -nan         -nan         -nan         -nan         -nan         -nan         -nan         -nan\r\n",
      "        -nan         -nan         -nan         -nan         -nan         -nan         -nan         -nan         -nan         -nan         -nan         -nan         -nan         -nan         -nan         -nan         -nan         -nan         -nan         -nan         -nan         -nan         -nan         -nan         -nan         -nan         -nan         -nan         -nan         -nan         -nan         -nan         -nan         -nan         -nan\r\n",
      "        -nan         -nan         -nan         -nan         -nan         -nan         -nan         -nan         -nan         -nan         -nan         -nan         -nan         -nan         -nan         -nan         -nan         -nan         -nan         -nan         -nan         -nan         -nan         -nan         -nan         -nan         -nan         -nan         -nan         -nan         -nan         -nan         -nan         -nan         -nan\r\n",
      "        -nan         -nan         -nan         -nan         -nan         -nan         -nan         -nan         -nan         -nan         -nan         -nan         -nan         -nan         -nan         -nan         -nan         -nan         -nan         -nan         -nan         -nan         -nan         -nan         -nan         -nan         -nan         -nan         -nan         -nan         -nan         -nan         -nan         -nan         -nan\r\n",
      "        -nan         -nan         -nan         -nan         -nan         -nan         -nan         -nan         -nan         -nan         -nan         -nan         -nan         -nan         -nan         -nan         -nan         -nan         -nan         -nan         -nan         -nan         -nan         -nan         -nan         -nan         -nan         -nan         -nan         -nan         -nan         -nan         -nan         -nan         -nan\r\n",
      "        -nan         -nan         -nan         -nan         -nan         -nan         -nan         -nan         -nan         -nan         -nan         -nan         -nan         -nan         -nan         -nan         -nan         -nan         -nan         -nan         -nan         -nan         -nan         -nan          nan          nan          nan          nan          nan          nan          nan          nan          nan          nan          nan\r\n",
      "an error occurred:\r\n",
      "Small generalized eigenvalue problem failed.\r\n"
     ]
    }
   ],
   "source": [
    "!xtp_tools -c job_name=CO geometry_optimization.maxiter=1 dftpackage.basisset=3-21G dftpackage.auxbasisset=aux-def2-svp gwbse.gw.mode=G0W0 -e dftgwbse -t 4"
   ]
  },
  {
   "cell_type": "markdown",
   "metadata": {},
   "source": [
    "Notice that we are using 4 threads. The results will be stored in a file named `CO_summary.xml` in the current work directory, together with the optimization step in `optimisation.trj` and the orbitals in [hdf5 format](https://www.hdfgroup.org/solutions/hdf5/) saved on `CO.orb`."
   ]
  }
 ],
 "metadata": {
  "kernelspec": {
   "display_name": "Python 3",
   "language": "python",
   "name": "python3"
  },
  "language_info": {
   "codemirror_mode": {
    "name": "ipython",
    "version": 3
   },
   "file_extension": ".py",
   "mimetype": "text/x-python",
   "name": "python",
   "nbconvert_exporter": "python",
   "pygments_lexer": "ipython3",
   "version": "3.9.7"
  }
 },
 "nbformat": 4,
 "nbformat_minor": 4
}
