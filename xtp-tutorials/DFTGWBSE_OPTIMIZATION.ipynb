{
 "cells": [
  {
   "cell_type": "markdown",
   "metadata": {},
   "source": [
    "## DFT + GWBSE Optimization Using CO"
   ]
  },
  {
   "cell_type": "markdown",
   "metadata": {},
   "source": [
    "## Introduction\n",
    "This tutorial explains how to perform a molecular geometric optimization using the **GWBSE** method. See [the GW Compendium: A Practical Guide to Theoretical Photoemission Spectroscopy](https://doi.org/10.3389/fchem.2019.00377), for an excellent introduction to the method."
   ]
  },
  {
   "cell_type": "markdown",
   "metadata": {},
   "source": [
    "## Requirements\n",
    "* You will need to install **VOTCA** using the instructions described [here](https://github.com/votca/votca/blob/master/share/doc/INSTALL.rst)\n",
    "* Once the installation is completed you need to activate the VOTCA enviroment by running the `VOTCARC.bash` script that has been installed at the bin subfolder for the path that you have provided for the installation step above"
   ]
  },
  {
   "cell_type": "markdown",
   "metadata": {},
   "source": [
    "## Preparing the input\n",
    "To run a DFT-GWBSE calculation we will use the [xtp_tools](https://www.votca.org/xtp/xtp_tools_overview.html) calculator."
   ]
  },
  {
   "cell_type": "markdown",
   "metadata": {},
   "source": [
    "we can now change the calculator mode from single point energy calculation to optimization as follows by adding \n",
    "`-c geometry_optimization.maxiter=1` which enables optimization with one iteration. "
   ]
  },
  {
   "cell_type": "markdown",
   "metadata": {},
   "source": [
    "Because geometry optimsation is quite expensive numerically we chose a smaller basisset and G0W0 Finally, to run the calculation we just need the following command (This still takes a while)"
   ]
  },
  {
   "cell_type": "code",
   "execution_count": 1,
   "metadata": {
    "execution": {
     "iopub.execute_input": "2022-01-14T06:04:42.421267Z",
     "iopub.status.busy": "2022-01-14T06:04:42.419608Z",
     "iopub.status.idle": "2022-01-14T06:04:45.805691Z",
     "shell.execute_reply": "2022-01-14T06:04:45.804941Z"
    }
   },
   "outputs": [
    {
     "name": "stdout",
     "output_type": "stream",
     "text": [
      "==================================================\r\n",
      "========   VOTCA (http://www.votca.org)   ========\r\n",
      "==================================================\r\n",
      "\r\n",
      "please submit bugs to https://github.com/votca/xtp/issues\r\n",
      "\r\n",
      "xtp_tools, version 2022-dev gitid: 66f9b18 (compiled Jan 14 2022, 05:56:13)\r\n",
      "votca_csg, version 2022-dev gitid: 66f9b18 (compiled Jan 14 2022, 05:41:40)\r\n",
      "votca_tools, version 2022-dev gitid: 66f9b18 (compiled Jan 14 2022, 05:38:47)\r\n",
      "\r\n",
      "Initializing tool\r\n",
      "... dftgwbse Evaluating tool\r\n",
      "... dftgwbse  Using 4 threads\r\n",
      "... ... Reading structure from CO.xyz\r\n",
      "... ... Requested geometry optimization of excited state s1\r\n",
      "... ... Initial state: s1\r\n",
      "... ... WARNING: No tracker is used \r\n",
      "... ... Convergence of total energy: 0.000001 Hartree \r\n",
      "... ... Convergence of RMS Force:    0.000030 Hartree/Bohr \r\n",
      "... ... Convergence of Max Force:    0.000100 Hartree/Bohr \r\n",
      "... ... Convergence of RMS Step:     0.000600 Bohr \r\n",
      "... ... Convergence of Max Step:     0.001000 Bohr \r\n",
      "... ... Initial trust radius:        0.018897 BohrA\r\n",
      "    0.307132 -1.69515e-14  1.19379e-10 -3.82617e-10  1.31666e-14   -0.0516061 -7.12478e-14 -7.35548e-14  1.76248e-14    0.0181946 -7.80671e-07  1.04767e-14  9.49601e-06   -0.0389755 -1.14843e-14    0.0421019  1.99711e-11 -2.79982e-11 -5.19663e-15 -7.22288e-15 -4.01004e-07     0.108409  1.56048e-10          nan          nan          nan          nan          nan          nan          nan          nan          nan          nan          nan          nan\r\n",
      "-1.69371e-14     0.307132  8.52485e-14 -8.75379e-14   -0.0516061  1.31885e-14  1.68357e-09  1.94681e-09 -5.10789e-10  7.80671e-07    0.0181946 -3.05782e-10   -0.0389755 -9.49601e-06    0.0421019 -1.14684e-14 -6.47276e-14  6.26927e-14  3.17408e-10  3.25435e-10     0.108409  4.01004e-07  3.24781e-14          nan          nan          nan          nan          nan          nan          nan          nan          nan          nan          nan          nan\r\n",
      " 1.19379e-10  8.52485e-14      0.31985    0.0100452  5.79362e-14   4.1064e-11  9.88963e-06  9.88963e-06  -3.6818e-06   4.4295e-11  3.11946e-14 -1.56856e-06  1.82053e-14  2.49088e-11 -2.36539e-14 -1.61215e-11   -0.0495318   0.00205135  1.09057e-06 -1.04776e-05  2.99018e-13  1.56093e-11    0.0253475          nan          nan          nan          nan          nan          nan          nan          nan          nan          nan          nan          nan\r\n",
      "-3.82617e-10 -8.75379e-14    0.0100452      0.31985 -5.44316e-14  3.74774e-10 -9.88963e-06 -9.88963e-06   3.6818e-06 -1.08717e-10 -2.86843e-14  1.56856e-06 -1.65938e-14 -3.19285e-11  2.06574e-14 -2.93777e-10   0.00205135   -0.0495318  1.04776e-05 -1.09057e-06 -3.01741e-13 -5.17941e-10   -0.0253475          nan          nan          nan          nan          nan          nan          nan          nan          nan          nan          nan          nan\r\n",
      " 1.31646e-14   -0.0516061  5.79362e-14 -5.44316e-14     0.490902 -1.62814e-15  1.65015e-09  1.23431e-09 -7.26246e-10 -5.77659e-07   -0.0134631 -1.92566e-10  -0.00799385 -1.94763e-06    0.0309987  3.69012e-14 -3.59892e-14  3.70371e-14   1.8058e-10  1.76917e-10   -0.0531272 -1.96517e-07  5.20943e-14          nan          nan          nan          nan          nan          nan          nan          nan          nan          nan          nan          nan\r\n",
      "  -0.0516061  1.31818e-14   4.1064e-11  3.74774e-10 -1.65367e-15     0.490902 -4.34972e-14 -3.99535e-14  2.46207e-14   -0.0134631  5.77659e-07  6.73126e-15  1.94763e-06  -0.00799385  3.68862e-14    0.0309987 -1.57853e-11  1.94483e-11 -9.96509e-15 -8.95915e-15  1.96517e-07   -0.0531272  -1.0036e-10          nan          nan          nan          nan          nan          nan          nan          nan          nan          nan          nan          nan\r\n",
      "-7.12478e-14  1.68357e-09  9.88963e-06 -9.88963e-06  1.65015e-09 -4.34973e-14     0.550341     0.220446   -0.0858093  1.71482e-15  6.85581e-10   -0.0365574  5.40671e-10  1.10645e-13 -7.78859e-10  1.67297e-14 -6.94052e-06 -4.62766e-06   -0.0124663    0.0350142  6.46285e-09 -2.10589e-13  5.71443e-06          nan          nan          nan          nan          nan          nan          nan          nan          nan          nan          nan          nan\r\n",
      "-7.35548e-14  1.94681e-09  9.88963e-06 -9.88963e-06  1.23431e-09 -3.99535e-14     0.220446     0.550341   -0.0858093  4.25181e-15  7.50003e-10   -0.0365574   5.4769e-10  1.12264e-13  -4.6896e-10  1.38097e-14  4.62766e-06  6.94052e-06    0.0350142   -0.0124663  6.95495e-09 -2.13028e-13  5.71443e-06          nan          nan          nan          nan          nan          nan          nan          nan          nan          nan          nan          nan\r\n",
      " 1.76249e-14 -5.10789e-10  -3.6818e-06   3.6818e-06 -7.26246e-10  2.46207e-14   -0.0858093   -0.0858093     0.662947 -3.53975e-15 -4.06803e-10  -0.00632528 -6.07629e-11 -1.23641e-14  4.48452e-10 -1.53294e-14  8.21843e-07 -8.21843e-07  -0.00409419  -0.00409419 -1.71073e-09   5.0653e-14 -2.55839e-06          nan          nan          nan          nan          nan          nan          nan          nan          nan          nan          nan          nan\r\n",
      "   0.0181946  7.80671e-07   4.4295e-11 -1.08717e-10 -5.77659e-07   -0.0134631  1.71484e-15  4.25191e-15 -3.53974e-15     0.680922 -1.08614e-15 -2.01686e-16     1.69e-08 -8.41908e-05  3.70582e-07   0.00863691 -1.13879e-11   1.9046e-11 -3.22678e-15 -1.89562e-15   1.6086e-06    0.0410276   1.1313e-10          nan          nan          nan          nan          nan          nan          nan          nan          nan          nan          nan          nan\r\n",
      "-7.80671e-07    0.0181946  3.11946e-14 -2.86842e-14   -0.0134631  5.77659e-07  6.85581e-10  7.50003e-10 -4.06803e-10 -1.09793e-15     0.680922 -2.53169e-11 -8.41908e-05 -1.68999e-08   0.00863691 -3.70582e-07 -1.66703e-14   1.7995e-14  9.14723e-11  8.38143e-11    0.0410276  -1.6086e-06    1.001e-14          nan          nan          nan          nan          nan          nan          nan          nan          nan          nan          nan          nan\r\n",
      " 1.04767e-14 -3.05782e-10 -1.56856e-06  1.56856e-06 -1.92566e-10  6.73135e-15   -0.0365574   -0.0365574  -0.00632528 -2.01692e-16 -2.53169e-11      0.79826 -2.17058e-10 -4.53882e-14  -6.3121e-11  2.04553e-15  2.90557e-06 -2.90557e-06   -0.0144747   -0.0144747 -9.11097e-10  2.74036e-14 -1.06314e-06          nan          nan          nan          nan          nan          nan          nan          nan          nan          nan          nan          nan\r\n",
      " 9.49601e-06   -0.0389755  1.82053e-14 -1.65938e-14  -0.00799385  1.94763e-06  5.40671e-10   5.4769e-10 -6.07629e-11     1.69e-08 -8.41908e-05 -2.17058e-10     0.956418 -3.01824e-14    0.0131422 -3.20198e-06 -5.96296e-14  5.87321e-14  2.28669e-10  3.39595e-10    0.0200227 -4.80428e-06 -4.83766e-15          nan          nan          nan          nan          nan          nan          nan          nan          nan          nan          nan          nan\r\n",
      "  -0.0389755 -9.49601e-06  2.49088e-11 -3.19285e-11 -1.94763e-06  -0.00799385  1.10645e-13  1.12264e-13 -1.23641e-14 -8.41908e-05 -1.68999e-08 -4.53882e-14 -3.01451e-14     0.956418  3.20198e-06    0.0131422 -4.53866e-11 -6.55395e-11  6.18032e-14  6.08978e-14  4.80428e-06    0.0200227  4.47406e-11          nan          nan          nan          nan          nan          nan          nan          nan          nan          nan          nan          nan\r\n",
      "-1.14909e-14    0.0421019 -2.36539e-14  2.06573e-14    0.0309987  3.68791e-14 -7.78859e-10  -4.6896e-10  4.48452e-10  3.70582e-07   0.00863691  -6.3121e-11    0.0131422  3.20198e-06     0.988567  2.12558e-14 -1.23168e-14 -3.21973e-14 -1.35024e-10   4.1882e-11     0.022363  8.27207e-08  -3.4537e-14          nan          nan          nan          nan          nan          nan          nan          nan          nan          nan          nan          nan\r\n",
      "   0.0421019  -1.1477e-14 -1.61215e-11 -2.93777e-10  3.68775e-14    0.0309987  1.67296e-14  1.38097e-14 -1.53294e-14   0.00863691 -3.70582e-07  2.04553e-15 -3.20198e-06    0.0131422  2.12563e-14     0.988567 -6.76758e-11 -1.09231e-10  2.81366e-14 -1.64312e-14 -8.27208e-08     0.022363 -1.36987e-10          nan          nan          nan          nan          nan          nan          nan          nan          nan          nan          nan          nan\r\n",
      " 1.99711e-11 -6.47276e-14   -0.0495318   0.00205135 -3.59892e-14 -1.57853e-11 -6.94052e-06  4.62766e-06  8.21843e-07 -1.13879e-11 -1.66703e-14  2.90557e-06 -5.96297e-14 -4.53866e-11 -1.23168e-14 -6.76758e-11      1.02871    -0.002068 -8.73104e-06 -8.73104e-06 -2.41004e-13 -1.59675e-12  -0.00469825          nan          nan          nan          nan          nan          nan          nan          nan          nan          nan          nan          nan\r\n",
      "-2.79982e-11  6.26927e-14   0.00205135   -0.0495318  3.70371e-14  1.94483e-11 -4.62766e-06  6.94052e-06 -8.21843e-07   1.9046e-11   1.7995e-14 -2.90557e-06  5.87321e-14 -6.55395e-11 -3.21973e-14 -1.09231e-10    -0.002068      1.02871  8.73104e-06  8.73104e-06  2.18175e-13 -9.25519e-11   0.00469825          nan          nan          nan          nan          nan          nan          nan          nan          nan          nan          nan          nan\r\n",
      "-5.19663e-15  3.17408e-10  1.09057e-06  1.04776e-05   1.8058e-10 -9.96509e-15   -0.0124663    0.0350142  -0.00409419 -3.22678e-15  9.14723e-11   -0.0144747  2.28669e-10  6.18032e-14 -1.35024e-10  2.81366e-14 -8.73104e-06  8.73104e-06       1.0722    0.0455636  1.10042e-09 -1.20708e-14 -1.15477e-06          nan          nan          nan          nan          nan          nan          nan          nan          nan          nan          nan          nan\r\n",
      "-7.22289e-15  3.25435e-10 -1.04776e-05 -1.09057e-06  1.76917e-10 -8.95915e-15    0.0350142   -0.0124663  -0.00409419 -1.89564e-15  8.38143e-11   -0.0144747  3.39595e-10  6.08978e-14   4.1882e-11 -1.64312e-14 -8.73104e-06  8.73104e-06    0.0455636       1.0722  1.19324e-09 -3.54809e-14 -1.15477e-06          nan          nan          nan          nan          nan          nan          nan          nan          nan          nan          nan          nan\r\n",
      " 2.78339e-07   -0.0752473 -1.55161e-13  1.56449e-13    0.0690166 -2.55292e-07  -3.3474e-09 -3.67017e-09  1.09582e-09 -1.21367e-06   -0.0309549  7.94528e-10  -0.00900335 -2.16028e-06   -0.0364089  1.34677e-07  1.36033e-13 -1.35262e-13 -6.79723e-10    -6.83e-10    -0.194424  2.50086e-13  2.39006e-13          nan          nan          nan          nan          nan          nan          nan          nan          nan          nan          nan          nan\r\n",
      "  -0.0752473 -2.78339e-07 -1.00033e-10  4.31976e-10  2.55292e-07    0.0690166  1.00387e-13  1.02422e-13 -2.71991e-14   -0.0309549  1.21367e-06 -2.17935e-14  2.16028e-06  -0.00900335 -1.34676e-07   -0.0364089  6.77584e-12 -1.84553e-12  2.07259e-14  2.18413e-14  2.50156e-13    -0.194424 -2.17981e-09          nan          nan          nan          nan          nan          nan          nan          nan          nan          nan          nan          nan\r\n",
      "-1.48422e-10  5.09497e-14    0.0143923   -0.0143923 -6.92707e-15  1.80844e-10  1.89119e-06  1.89119e-06  -8.9076e-07  5.57356e-11  2.17585e-14 -4.13876e-07   1.8473e-15  9.30656e-12 -9.00019e-15 -2.06937e-10  -0.00614164   0.00614164 -2.22764e-06 -2.22764e-06  5.03021e-13 -2.06495e-09     0.956475          nan          nan          nan          nan          nan          nan          nan          nan          nan          nan          nan          nan\r\n",
      "        -nan         -nan         -nan         -nan         -nan         -nan         -nan         -nan         -nan         -nan         -nan         -nan         -nan         -nan         -nan         -nan         -nan         -nan         -nan         -nan         -nan         -nan         -nan          nan          nan          nan          nan          nan          nan          nan          nan          nan          nan          nan          nan\r\n",
      "        -nan         -nan         -nan         -nan         -nan         -nan         -nan         -nan         -nan         -nan         -nan         -nan         -nan         -nan         -nan         -nan         -nan         -nan         -nan         -nan         -nan         -nan         -nan         -nan         -nan         -nan         -nan         -nan         -nan         -nan         -nan         -nan         -nan         -nan         -nan\r\n",
      "        -nan         -nan         -nan         -nan         -nan         -nan         -nan         -nan         -nan         -nan         -nan         -nan         -nan         -nan         -nan         -nan         -nan         -nan         -nan         -nan         -nan         -nan         -nan         -nan         -nan         -nan         -nan         -nan         -nan         -nan         -nan         -nan         -nan         -nan         -nan\r\n",
      "        -nan         -nan         -nan         -nan         -nan         -nan         -nan         -nan         -nan         -nan         -nan         -nan         -nan         -nan         -nan         -nan         -nan         -nan         -nan         -nan         -nan         -nan         -nan          nan          nan          nan          nan          nan          nan          nan          nan          nan          nan          nan          nan\r\n",
      "        -nan         -nan         -nan         -nan         -nan         -nan         -nan         -nan         -nan         -nan         -nan         -nan         -nan         -nan         -nan         -nan         -nan         -nan         -nan         -nan         -nan         -nan         -nan          nan          nan          nan          nan          nan          nan          nan          nan          nan          nan          nan          nan\r\n",
      "        -nan         -nan         -nan         -nan         -nan         -nan         -nan         -nan         -nan         -nan         -nan         -nan         -nan         -nan         -nan         -nan         -nan         -nan         -nan         -nan         -nan         -nan         -nan         -nan         -nan         -nan         -nan         -nan         -nan         -nan         -nan         -nan         -nan         -nan         -nan\r\n",
      "        -nan         -nan         -nan         -nan         -nan         -nan         -nan         -nan         -nan         -nan         -nan         -nan         -nan         -nan         -nan         -nan         -nan         -nan         -nan         -nan         -nan         -nan         -nan         -nan         -nan         -nan         -nan         -nan         -nan         -nan         -nan         -nan         -nan         -nan         -nan\r\n",
      "        -nan         -nan         -nan         -nan         -nan         -nan         -nan         -nan         -nan         -nan         -nan         -nan         -nan         -nan         -nan         -nan         -nan         -nan         -nan         -nan         -nan         -nan         -nan          nan          nan          nan          nan          nan          nan          nan          nan          nan          nan          nan          nan\r\n",
      "        -nan         -nan         -nan         -nan         -nan         -nan         -nan         -nan         -nan         -nan         -nan         -nan         -nan         -nan         -nan         -nan         -nan         -nan         -nan         -nan         -nan         -nan         -nan          nan          nan          nan          nan          nan          nan          nan          nan          nan          nan          nan          nan\r\n",
      "        -nan         -nan         -nan         -nan         -nan         -nan         -nan         -nan         -nan         -nan         -nan         -nan         -nan         -nan         -nan         -nan         -nan         -nan         -nan         -nan         -nan         -nan         -nan         -nan          nan          nan          nan         -nan          nan          nan          nan         -nan          nan          nan          nan\r\n",
      "        -nan         -nan         -nan         -nan         -nan         -nan         -nan         -nan         -nan         -nan         -nan         -nan         -nan         -nan         -nan         -nan         -nan         -nan         -nan         -nan         -nan         -nan         -nan         -nan          nan          nan          nan         -nan          nan          nan          nan         -nan          nan          nan          nan\r\n",
      "        -nan         -nan         -nan         -nan         -nan         -nan         -nan         -nan         -nan         -nan         -nan         -nan         -nan         -nan         -nan         -nan         -nan         -nan         -nan         -nan         -nan         -nan         -nan         -nan         -nan         -nan         -nan         -nan         -nan         -nan         -nan         -nan         -nan         -nan         -nan\r\n",
      "B\r\n",
      "   0.0938111 -7.53459e-15  5.96107e-11 -2.29194e-10   8.0756e-15   -0.0328899 -3.11305e-14 -3.26147e-14  1.09794e-14    0.0155572  -6.6751e-07  7.23958e-15  1.17748e-05   -0.0483286 -1.33082e-14    0.0481429  2.07155e-11 -2.55784e-11 -4.04533e-15 -5.29571e-15 -9.28747e-08    0.0251081 -4.55413e-11         -nan         -nan         -nan         -nan         -nan         -nan         -nan         -nan         -nan         -nan         -nan         -nan\r\n",
      " -7.5284e-15    0.0938111  3.66155e-14 -3.80906e-14   -0.0328899  8.08719e-15  6.71684e-10  8.41267e-10 -3.15845e-10   6.6751e-07    0.0155572 -2.11228e-10   -0.0483286 -1.17748e-05    0.0481429 -1.32941e-14 -5.40907e-14  5.28295e-14  2.67823e-10  2.72685e-10    0.0251081  9.28747e-08  7.79263e-14         -nan         -nan         -nan         -nan         -nan         -nan         -nan         -nan         -nan         -nan         -nan         -nan\r\n",
      " 5.96107e-11  3.66155e-14     0.105488   0.00569419  3.47976e-14  2.56376e-11  5.01008e-06  5.01008e-06 -2.70746e-06  4.24164e-11  2.35644e-14 -1.22988e-06  1.59419e-14  2.54925e-11 -2.73087e-14 -2.14245e-11   -0.0671006   0.00241346  8.45664e-07 -1.49148e-05  5.99659e-14 -8.77588e-11    0.0419528         -nan         -nan         -nan         -nan         -nan         -nan         -nan         -nan         -nan         -nan         -nan         -nan\r\n",
      "-2.29194e-10 -3.80906e-14   0.00569419     0.105488  -3.2334e-14  2.69422e-10 -5.01008e-06 -5.01008e-06  2.70746e-06 -1.07892e-10 -2.10202e-14  1.22988e-06 -1.43597e-14 -3.24391e-11   2.3601e-14 -3.60071e-10   0.00241346   -0.0671006  1.49148e-05 -8.45664e-07 -6.16402e-14 -8.36188e-11   -0.0419528         -nan         -nan         -nan         -nan         -nan         -nan         -nan         -nan         -nan         -nan         -nan         -nan\r\n",
      " 8.07363e-15   -0.0328899  3.47976e-14  -3.2334e-14     0.240892 -4.58185e-16  1.02705e-09  7.31986e-10 -6.25184e-10 -6.20778e-07    -0.014468 -1.61036e-10  -0.00914341 -2.22771e-06    0.0441772  5.12619e-14 -3.25619e-14   2.9417e-14  1.44122e-10  1.57394e-10   0.00438148  1.62071e-08  4.84086e-14         -nan         -nan         -nan         -nan         -nan         -nan         -nan         -nan         -nan         -nan         -nan         -nan\r\n",
      "  -0.0328899  8.08602e-15  2.56376e-11  2.69422e-10 -4.80391e-16     0.240892 -2.58897e-14 -2.33923e-14   2.1192e-14    -0.014468  6.20778e-07   5.7311e-15  2.22771e-06  -0.00914341  5.12356e-14    0.0441772 -2.65242e-11  1.32525e-11 -7.30519e-15 -1.05178e-14 -1.62071e-08   0.00438148  2.81784e-11         -nan         -nan         -nan         -nan         -nan         -nan         -nan         -nan         -nan         -nan         -nan         -nan\r\n",
      "-3.11305e-14  6.71684e-10  5.01008e-06 -5.01008e-06  1.02705e-09 -2.58897e-14     0.222254     0.111072    -0.063101  2.89125e-16  5.06342e-10   -0.0286639  4.90945e-10   1.0011e-13 -9.15076e-10  1.91202e-14 -6.11928e-06 -9.64115e-06   -0.0336868    0.0310004  1.14843e-09 -5.13121e-14  7.17443e-06         -nan         -nan         -nan         -nan         -nan         -nan         -nan         -nan         -nan         -nan         -nan         -nan\r\n",
      "-3.26146e-14  8.41267e-10  5.01008e-06 -5.01008e-06  7.31986e-10 -2.33923e-14     0.111072     0.222254    -0.063101  2.85984e-15  5.71818e-10   -0.0286639  4.97892e-10  1.01702e-13  -5.3358e-10  1.55181e-14  9.64115e-06  6.11928e-06    0.0310004   -0.0336868  1.31822e-09 -5.14396e-14  7.17443e-06         -nan         -nan         -nan         -nan         -nan         -nan         -nan         -nan         -nan         -nan         -nan         -nan\r\n",
      " 1.09795e-14 -3.15845e-10 -2.70746e-06  2.70746e-06 -6.25184e-10  2.11919e-14    -0.063101    -0.063101     0.429278 -4.03429e-15 -4.59352e-10   -0.0121538 -1.80066e-11 -3.30097e-15  6.21028e-10 -2.12034e-14 -3.87848e-09  3.87849e-09  1.93215e-05  1.93215e-05 -4.69789e-10  1.90448e-14 -3.83003e-06         -nan         -nan         -nan         -nan         -nan         -nan         -nan         -nan         -nan         -nan         -nan         -nan\r\n",
      "   0.0155572   6.6751e-07  4.24164e-11 -1.07892e-10 -6.20778e-07    -0.014468  2.89166e-16  2.85996e-15 -4.03428e-15     0.463968 -1.47044e-15   5.4044e-17  1.29834e-07 -0.000646798  4.45178e-07    0.0103755 -2.55668e-11  3.56073e-11 -6.65288e-15 -5.01668e-15  6.95345e-07    0.0177349  1.16111e-10         -nan         -nan         -nan         -nan         -nan         -nan         -nan         -nan         -nan         -nan         -nan         -nan\r\n",
      " -6.6751e-07    0.0155572  2.35644e-14 -2.10201e-14    -0.014468  6.20778e-07  5.06342e-10  5.71818e-10 -4.59352e-10 -1.48568e-15     0.463968  7.11351e-12 -0.000646798 -1.29834e-07    0.0103755 -4.45178e-07 -1.55044e-14    1.713e-14  8.87252e-11  7.86847e-11    0.0177349 -6.95345e-07  3.43475e-14         -nan         -nan         -nan         -nan         -nan         -nan         -nan         -nan         -nan         -nan         -nan         -nan\r\n",
      " 7.23957e-15 -2.11228e-10 -1.22988e-06  1.22988e-06 -1.61036e-10  5.73121e-15   -0.0286639   -0.0286639   -0.0121538  5.40368e-17  7.11351e-12     0.636067 -3.15701e-10 -6.60753e-14 -1.30433e-10  4.27816e-15  4.20108e-06 -4.20108e-06   -0.0209286   -0.0209286 -1.01201e-10  5.16861e-15 -1.71594e-06         -nan         -nan         -nan         -nan         -nan         -nan         -nan         -nan         -nan         -nan         -nan         -nan\r\n",
      " 1.17748e-05   -0.0483286  1.59419e-14 -1.43597e-14  -0.00914341  2.22771e-06  4.90945e-10  4.97892e-10 -1.80066e-11  1.29834e-07 -0.000646798 -3.15701e-10     0.917068 -5.31076e-14    0.0222914  -5.4311e-06 -1.02124e-13  1.00297e-13  3.67689e-10  5.91602e-10    0.0232461 -5.57772e-06 -1.41218e-14         -nan         -nan         -nan         -nan         -nan         -nan         -nan         -nan         -nan         -nan         -nan         -nan\r\n",
      "  -0.0483286 -1.17748e-05  2.54925e-11 -3.24391e-11 -2.22771e-06  -0.00914341   1.0011e-13  1.01702e-13 -3.30099e-15 -0.000646798 -1.29834e-07 -6.60753e-14 -5.30335e-14     0.917068   5.4311e-06    0.0222914 -8.87399e-11 -1.35173e-10  1.05785e-13  1.03942e-13  5.57772e-06    0.0232461   9.9641e-11         -nan         -nan         -nan         -nan         -nan         -nan         -nan         -nan         -nan         -nan         -nan         -nan\r\n",
      "-1.33134e-14    0.0481429 -2.73087e-14  2.36009e-14    0.0441772  5.12255e-14 -9.15076e-10  -5.3358e-10  6.21028e-10  4.45178e-07    0.0103755 -1.30433e-10    0.0222914   5.4311e-06     0.981536  4.09076e-14  -2.9315e-14 -5.27299e-14 -2.17066e-10   1.0907e-10  -0.00424845  -1.5715e-08 -6.30636e-14         -nan         -nan         -nan         -nan         -nan         -nan         -nan         -nan         -nan         -nan         -nan         -nan\r\n",
      "   0.0481429  -1.3307e-14 -2.14245e-11 -3.60071e-10  5.12291e-14    0.0441772    1.912e-14  1.55179e-14 -2.12034e-14    0.0103755 -4.45178e-07  4.27816e-15  -5.4311e-06    0.0222914  4.09113e-14     0.981536 -1.31565e-10 -1.94571e-10  4.94286e-14 -3.27327e-14   1.5715e-08  -0.00424845 -4.25988e-10         -nan         -nan         -nan         -nan         -nan         -nan         -nan         -nan         -nan         -nan         -nan         -nan\r\n",
      " 2.07155e-11 -5.40907e-14   -0.0671006   0.00241346 -3.25619e-14 -2.65242e-11 -6.11928e-06  9.64115e-06 -3.87848e-09 -2.55668e-11 -1.55044e-14  4.20108e-06 -1.02124e-13 -8.87399e-11  -2.9315e-14 -1.31565e-10      1.06067  -0.00440426 -1.63152e-05 -1.63152e-05 -1.38687e-13  2.30492e-11   -0.0159921         -nan         -nan         -nan         -nan         -nan         -nan         -nan         -nan         -nan         -nan         -nan         -nan\r\n",
      "-2.55784e-11  5.28295e-14   0.00241346   -0.0671006   2.9417e-14  1.32525e-11 -9.64115e-06  6.11928e-06  3.87849e-09  3.56073e-11    1.713e-14 -4.20108e-06  1.00297e-13 -1.35173e-10 -5.27299e-14 -1.94571e-10  -0.00440426      1.06067  1.63152e-05  1.63152e-05  1.03616e-13 -1.65222e-10    0.0159921         -nan         -nan         -nan         -nan         -nan         -nan         -nan         -nan         -nan         -nan         -nan         -nan\r\n",
      "-4.04532e-15  2.67823e-10  8.45664e-07  1.49148e-05  1.44122e-10 -7.30518e-15   -0.0336868    0.0310004  1.93215e-05 -6.65288e-15  8.87252e-11   -0.0209286  3.67689e-10  1.05785e-13 -2.17066e-10  4.94286e-14 -1.63152e-05  1.63152e-05      1.14195    0.0856822  5.30816e-10  2.15325e-14 -4.94654e-06         -nan         -nan         -nan         -nan         -nan         -nan         -nan         -nan         -nan         -nan         -nan         -nan\r\n",
      "-5.29571e-15  2.72685e-10 -1.49148e-05 -8.45664e-07  1.57394e-10 -1.05178e-14    0.0310004   -0.0336868  1.93215e-05 -5.01672e-15  7.86847e-11   -0.0209286  5.91602e-10  1.03942e-13   1.0907e-10 -3.27327e-14 -1.63152e-05  1.63152e-05    0.0856822      1.14195  6.72703e-10 -1.39616e-14 -4.94654e-06         -nan         -nan         -nan         -nan         -nan         -nan         -nan         -nan         -nan         -nan         -nan         -nan\r\n",
      "-2.12164e-07    0.0573573  1.82418e-13 -1.84126e-13   0.00347867 -1.28676e-08  3.93644e-09   4.1906e-09 -6.01555e-10  4.00135e-07    0.0102055 -1.05874e-10    0.0186411  4.47278e-06   -0.0191594  7.08705e-08 -3.37166e-14 -1.54815e-14 -5.74491e-11  1.42009e-10     0.600541  1.01515e-13  5.18726e-13         -nan         -nan         -nan         -nan         -nan         -nan         -nan         -nan         -nan         -nan         -nan         -nan\r\n",
      "   0.0573573  2.12164e-07 -7.82685e-11 -1.76587e-10  1.28676e-08   0.00347867 -1.35177e-13 -1.36203e-13  2.33213e-14    0.0102055 -4.00135e-07  5.60645e-15 -4.47278e-06    0.0186411 -7.08704e-08   -0.0191594 -2.27832e-11 -1.75435e-10  4.07699e-14 -8.70087e-15  1.01552e-13     0.600541 -2.49342e-09         -nan         -nan         -nan         -nan         -nan         -nan         -nan         -nan         -nan         -nan         -nan         -nan\r\n",
      " 6.41718e-11  6.63546e-14    0.0424309   -0.0424309  4.04241e-14 -5.54521e-11  6.38249e-06  6.38249e-06 -3.25453e-06  8.27913e-11  3.12136e-14 -1.44173e-06 -2.06423e-14  1.11057e-10 -5.28917e-14 -4.90501e-10   -0.0169414    0.0169414 -5.43615e-06 -5.43615e-06  7.53288e-13 -2.27211e-09      1.98197         -nan         -nan         -nan         -nan         -nan         -nan         -nan         -nan         -nan         -nan         -nan         -nan\r\n",
      "        -nan         -nan         -nan         -nan         -nan         -nan         -nan         -nan         -nan         -nan         -nan         -nan         -nan         -nan         -nan         -nan         -nan         -nan         -nan         -nan         -nan         -nan         -nan         -nan         -nan         -nan         -nan         -nan         -nan         -nan         -nan         -nan         -nan         -nan         -nan\r\n",
      "        -nan         -nan         -nan         -nan         -nan         -nan         -nan         -nan         -nan         -nan         -nan         -nan         -nan         -nan         -nan         -nan         -nan         -nan         -nan         -nan         -nan         -nan         -nan         -nan         -nan         -nan         -nan         -nan         -nan         -nan         -nan         -nan         -nan         -nan         -nan\r\n",
      "        -nan         -nan         -nan         -nan         -nan         -nan         -nan         -nan         -nan         -nan         -nan         -nan         -nan         -nan         -nan         -nan         -nan         -nan         -nan         -nan         -nan         -nan         -nan         -nan         -nan         -nan         -nan         -nan         -nan         -nan         -nan         -nan         -nan         -nan         -nan\r\n",
      "        -nan         -nan         -nan         -nan         -nan         -nan         -nan         -nan         -nan         -nan         -nan         -nan         -nan         -nan         -nan         -nan         -nan         -nan         -nan         -nan         -nan         -nan         -nan         -nan         -nan         -nan         -nan         -nan         -nan         -nan         -nan         -nan         -nan         -nan         -nan\r\n",
      "        -nan         -nan         -nan         -nan         -nan         -nan         -nan         -nan         -nan         -nan         -nan         -nan         -nan         -nan         -nan         -nan         -nan         -nan         -nan         -nan         -nan         -nan         -nan         -nan         -nan         -nan         -nan         -nan         -nan         -nan         -nan         -nan         -nan         -nan         -nan\r\n",
      "        -nan         -nan         -nan         -nan         -nan         -nan         -nan         -nan         -nan         -nan         -nan         -nan         -nan         -nan         -nan         -nan         -nan         -nan         -nan         -nan         -nan         -nan         -nan         -nan         -nan         -nan         -nan         -nan         -nan         -nan         -nan         -nan         -nan         -nan         -nan\r\n",
      "        -nan         -nan         -nan         -nan         -nan         -nan         -nan         -nan         -nan         -nan         -nan         -nan         -nan         -nan         -nan         -nan         -nan         -nan         -nan         -nan         -nan         -nan         -nan         -nan         -nan         -nan         -nan         -nan         -nan         -nan         -nan         -nan         -nan         -nan         -nan\r\n",
      "        -nan         -nan         -nan         -nan         -nan         -nan         -nan         -nan         -nan         -nan         -nan         -nan         -nan         -nan         -nan         -nan         -nan         -nan         -nan         -nan         -nan         -nan         -nan         -nan         -nan         -nan         -nan         -nan         -nan         -nan         -nan         -nan         -nan         -nan         -nan\r\n",
      "        -nan         -nan         -nan         -nan         -nan         -nan         -nan         -nan         -nan         -nan         -nan         -nan         -nan         -nan         -nan         -nan         -nan         -nan         -nan         -nan         -nan         -nan         -nan         -nan         -nan         -nan         -nan         -nan         -nan         -nan         -nan         -nan         -nan         -nan         -nan\r\n",
      "        -nan         -nan         -nan         -nan         -nan         -nan         -nan         -nan         -nan         -nan         -nan         -nan         -nan         -nan         -nan         -nan         -nan         -nan         -nan         -nan         -nan         -nan         -nan         -nan         -nan         -nan         -nan         -nan         -nan         -nan         -nan         -nan         -nan         -nan         -nan\r\n",
      "        -nan         -nan         -nan         -nan         -nan         -nan         -nan         -nan         -nan         -nan         -nan         -nan         -nan         -nan         -nan         -nan         -nan         -nan         -nan         -nan         -nan         -nan         -nan         -nan         -nan         -nan         -nan         -nan         -nan         -nan         -nan         -nan         -nan         -nan         -nan\r\n",
      "        -nan         -nan         -nan         -nan         -nan         -nan         -nan         -nan         -nan         -nan         -nan         -nan         -nan         -nan         -nan         -nan         -nan         -nan         -nan         -nan         -nan         -nan         -nan          nan          nan          nan          nan          nan          nan          nan          nan          nan          nan          nan          nan\r\n",
      "an error occurred:\r\n",
      "Small generalized eigenvalue problem failed.\r\n"
     ]
    }
   ],
   "source": [
    "!xtp_tools -c job_name=CO geometry_optimization.maxiter=1 dftpackage.basisset=3-21G dftpackage.auxbasisset=aux-def2-svp gwbse.gw.mode=G0W0 -e dftgwbse -t 4"
   ]
  },
  {
   "cell_type": "markdown",
   "metadata": {},
   "source": [
    "Notice that we are using 4 threads. The results will be stored in a file named `CO_summary.xml` in the current work directory, together with the optimization step in `optimisation.trj` and the orbitals in [hdf5 format](https://www.hdfgroup.org/solutions/hdf5/) saved on `CO.orb`."
   ]
  }
 ],
 "metadata": {
  "kernelspec": {
   "display_name": "Python 3",
   "language": "python",
   "name": "python3"
  },
  "language_info": {
   "codemirror_mode": {
    "name": "ipython",
    "version": 3
   },
   "file_extension": ".py",
   "mimetype": "text/x-python",
   "name": "python",
   "nbconvert_exporter": "python",
   "pygments_lexer": "ipython3",
   "version": "3.10.1"
  }
 },
 "nbformat": 4,
 "nbformat_minor": 4
}
