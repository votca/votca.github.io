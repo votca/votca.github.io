{
 "cells": [
  {
   "cell_type": "markdown",
   "metadata": {},
   "source": [
    "## DFT + GWBSE Optimization Using CO"
   ]
  },
  {
   "cell_type": "markdown",
   "metadata": {},
   "source": [
    "## Introduction\n",
    "This tutorial explains how to perform a molecular geometric optimization using the **GWBSE** method. See [the GW Compendium: A Practical Guide to Theoretical Photoemission Spectroscopy](https://doi.org/10.3389/fchem.2019.00377), for an excellent introduction to the method."
   ]
  },
  {
   "cell_type": "markdown",
   "metadata": {},
   "source": [
    "## Requirements\n",
    "* You will need to install **VOTCA** using the instructions described [here](https://github.com/votca/votca/blob/master/share/doc/INSTALL.rst)\n",
    "* Once the installation is completed you need to activate the VOTCA enviroment by running the `VOTCARC.bash` script that has been installed at the bin subfolder for the path that you have provided for the installation step above"
   ]
  },
  {
   "cell_type": "markdown",
   "metadata": {},
   "source": [
    "## Preparing the input\n",
    "To run a DFT-GWBSE calculation we will use the [xtp_tools](https://www.votca.org/xtp/xtp_tools_overview.html) calculator."
   ]
  },
  {
   "cell_type": "markdown",
   "metadata": {},
   "source": [
    "we can now change the calculator mode from single point energy calculation to optimization as follows by adding \n",
    "`-c geometry_optimization.maxiter=1` which enables optimization with one iteration. "
   ]
  },
  {
   "cell_type": "markdown",
   "metadata": {},
   "source": [
    "Because geometry optimsation is quite expensive numerically we chose a smaller basisset and G0W0 Finally, to run the calculation we just need the following command (This still takes a while)"
   ]
  },
  {
   "cell_type": "code",
   "execution_count": 1,
   "metadata": {
    "execution": {
     "iopub.execute_input": "2023-01-14T23:07:56.140695Z",
     "iopub.status.busy": "2023-01-14T23:07:56.140362Z",
     "iopub.status.idle": "2023-01-14T23:09:29.958628Z",
     "shell.execute_reply": "2023-01-14T23:09:29.957599Z"
    }
   },
   "outputs": [
    {
     "name": "stdout",
     "output_type": "stream",
     "text": [
      "==================================================\r\n",
      "========   VOTCA (http://www.votca.org)   ========\r\n",
      "==================================================\r\n",
      "\r\n",
      "please submit bugs to https://github.com/votca/votca/issues\r\n",
      "\r\n",
      "xtp_tools, version 2023-dev gitid: c8f65e1 (compiled Jan 14 2023, 22:28:45)\r\n",
      "\r\n",
      "Initializing tool\r\n",
      "... dftgwbse Evaluating tool\r\n",
      "... dftgwbse  Using 4 threads\r\n",
      "... ... Reading structure from CO.xyz\r\n",
      "... ... Requested geometry optimization of excited state s1\r\n",
      "... ... Initial state: s1\r\n",
      "... ... WARNING: No tracker is used \r\n",
      "... ... Convergence of total energy: 0.000001 Hartree \r\n",
      "... ... Convergence of RMS Force:    0.000030 Hartree/Bohr \r\n",
      "... ... Convergence of Max Force:    0.000100 Hartree/Bohr \r\n",
      "... ... Convergence of RMS Step:     0.000600 Bohr \r\n",
      "... ... Convergence of Max Step:     0.001000 Bohr \r\n",
      "... ... Initial trust radius:        0.018897 Bohr\r\n",
      "... ... \r\n",
      "... ... =========== OPTIMIZATION SUMMARY ================================= \r\n",
      "... ... At iteration  0\r\n",
      "... ...  ---- POSITIONS (Angstrom)   \r\n",
      "... ...  Atom\t x\t  y\t  z \r\n",
      "... ...    0    +0.0000  +0.0000  +0.0000\r\n",
      "... ...    1    +1.2000  +0.0000  +0.0000\r\n",
      "... ...    Total energy:     -112.26831841 Hartree \r\n",
      "... ...    Trust radius:       0.01889726 Bohr     \r\n",
      "... ...  ---- FORCES (Hartree/Bohr)   \r\n",
      "... ...       central differences   \r\n",
      "... ...       displacement 0.0010 Angstrom   \r\n",
      "... ...  Atom\t x\t  y\t  z \r\n",
      "... ...    0    -0.1314  -0.0000  -0.0000\r\n",
      "... ...    1    +0.1314  +0.0000  +0.0000A\r\n",
      "    0.301149 -1.39189e-12  7.64547e-10 -8.80691e-10 -1.20439e-09 -1.04643e-09   -0.0519724  1.01979e-12  5.92028e-10    0.0142272   -0.0104215  2.25008e-10   -0.0390253  0.000525969    0.0423984  -8.0453e-13  1.49672e-10  3.05028e-10 -1.92919e-10  4.06605e-10     0.107077   0.00213772 -6.22948e-11          nan          nan          nan          nan          nan          nan          nan          nan          nan          nan          nan          nan\r\n",
      "-1.39189e-12     0.301149 -1.49139e-10  3.07095e-10 -2.18473e-10 -1.02329e-10  1.01973e-12   -0.0519724 -2.93769e-12    0.0104215    0.0142272 -6.39098e-13  0.000525969    0.0390253 -8.04515e-13    0.0423984   2.1178e-10 -1.90615e-12  1.59436e-10  -4.0804e-12   0.00213772    -0.107077 -5.83425e-11          nan          nan          nan          nan          nan          nan          nan          nan          nan          nan          nan          nan\r\n",
      " 7.64547e-10 -1.49139e-10     0.391021   -0.0707882    -0.110404    -0.110404 -1.81919e-10  9.51638e-11    0.0537793  3.41496e-11 -1.16079e-10    0.0242424 -1.88288e-09  5.76016e-11  1.22799e-10 -3.06353e-11   -0.0364608    0.0107992   -0.0169484    0.0175854  7.90882e-09  3.82334e-10    0.0244067          nan          nan          nan          nan          nan          nan          nan          nan          nan          nan          nan          nan\r\n",
      "-8.80691e-10  3.07095e-10   -0.0707882     0.391021     0.110404     0.110404  2.20366e-10 -1.49731e-10   -0.0537793 -3.36397e-11  1.20364e-10   -0.0242424  1.90263e-09 -3.19766e-11 -2.12003e-10  1.53032e-10   -0.0107992    0.0364608    0.0175854   -0.0169484 -7.98996e-09 -5.00105e-10   -0.0244067          nan          nan          nan          nan          nan          nan          nan          nan          nan          nan          nan          nan\r\n",
      "-1.20439e-09 -2.18473e-10    -0.110404     0.110404      0.46087     0.140637  3.02936e-10  9.96041e-11    -0.073418 -1.43578e-10  3.33992e-11   -0.0330949  2.59727e-09  9.71718e-12 -2.89922e-10 -1.06708e-10   -0.0167421    -0.017379    0.0211512    0.0261088 -1.09117e-08 -1.23372e-10   0.00944787          nan          nan          nan          nan          nan          nan          nan          nan          nan          nan          nan          nan\r\n",
      "-1.04643e-09 -1.02329e-10    -0.110404     0.110404     0.140637      0.46087  2.48369e-10  6.11579e-11    -0.073418 -1.39294e-10  3.28892e-11   -0.0330949  2.57165e-09   2.9467e-11 -1.67526e-10 -1.75042e-11    -0.017379   -0.0167421   -0.0261088   -0.0211512  -1.0793e-08 -2.05358e-10   0.00944787          nan          nan          nan          nan          nan          nan          nan          nan          nan          nan          nan          nan\r\n",
      "  -0.0519724  1.01973e-12 -1.81919e-10  2.20366e-10  3.02936e-10  2.48369e-10     0.486835 -2.44911e-13 -1.77663e-10   -0.0109995   0.00805723 -3.96544e-11  -0.00830531  0.000111936    0.0301449   2.9146e-12  9.00236e-11 -1.00917e-10 -1.26877e-10 -1.35917e-10    -0.054983   -0.0010977  4.19223e-11          nan          nan          nan          nan          nan          nan          nan          nan          nan          nan          nan          nan\r\n",
      " 1.01979e-12   -0.0519724  9.51638e-11 -1.49731e-10  9.96041e-11  6.11579e-11 -2.44904e-13     0.486835  4.00075e-12  -0.00805723   -0.0109995  1.15046e-12  0.000111936   0.00830531   2.9146e-12    0.0301449  -2.7012e-10  -7.3256e-12 -2.00488e-10  9.54774e-12   -0.0010977     0.054983  -2.3132e-10          nan          nan          nan          nan          nan          nan          nan          nan          nan          nan          nan          nan\r\n",
      " 5.92028e-10 -2.93769e-12    0.0537793   -0.0537793    -0.073418    -0.073418 -1.77663e-10  4.00075e-12     0.659928  2.69978e-10 -1.99298e-10  -0.00518518 -7.77966e-10  3.35338e-12  1.34331e-10 -2.17268e-12   0.00287102   0.00287102  -0.00381063   0.00381063  5.23191e-09  1.56086e-10   0.00268743          nan          nan          nan          nan          nan          nan          nan          nan          nan          nan          nan          nan\r\n",
      "   0.0142272    0.0104215  3.41496e-11 -3.36397e-11 -1.43578e-10 -1.39294e-10   -0.0109995  -0.00805723  2.69978e-10     0.668107  7.25473e-13 -7.90327e-11  1.35092e-05 -1.01782e-05   0.00730899    0.0053539 -2.62244e-11 -2.97121e-11  1.09097e-09 -4.37374e-11    0.0335392   -0.0235537  8.01659e-10          nan          nan          nan          nan          nan          nan          nan          nan          nan          nan          nan          nan\r\n",
      "  -0.0104215    0.0142272 -1.16079e-10  1.20364e-10  3.33992e-11  3.28892e-11   0.00805723   -0.0109995 -1.99298e-10  7.25416e-13     0.668107  5.90692e-11 -1.01782e-05 -1.35092e-05   -0.0053539   0.00730899  1.07631e-09  2.90805e-11 -2.61832e-11  2.26955e-11   -0.0235537   -0.0335392  1.13267e-09          nan          nan          nan          nan          nan          nan          nan          nan          nan          nan          nan          nan\r\n",
      " 2.25008e-10 -6.39098e-13    0.0242424   -0.0242424   -0.0330949   -0.0330949 -3.96544e-11  1.15046e-12  -0.00518518 -7.90327e-11  5.90692e-11     0.793012 -5.03133e-10  1.23984e-12  7.47806e-11 -4.77733e-13    0.0092093    0.0092093   -0.0122232    0.0122232  1.99129e-09   5.8669e-11   0.00109894          nan          nan          nan          nan          nan          nan          nan          nan          nan          nan          nan          nan\r\n",
      "  -0.0390253  0.000525969 -1.88288e-09  1.90263e-09  2.59727e-09  2.57165e-09  -0.00830531  0.000111936 -7.77966e-10  1.35092e-05 -1.01782e-05 -5.03133e-10     0.954263  -3.9954e-13    0.0128739  -0.00017351 -1.21472e-09  -1.1096e-09  1.61336e-09  -1.4717e-09    0.0198852   0.00066518 -1.24955e-10          nan          nan          nan          nan          nan          nan          nan          nan          nan          nan          nan          nan\r\n",
      " 0.000525969    0.0390253  5.76016e-11 -3.19766e-11  9.71718e-12   2.9467e-11  0.000111936   0.00830531  3.35338e-12 -1.01782e-05 -1.35092e-05  1.23984e-12 -3.99544e-13     0.954263  -0.00017351   -0.0128739 -5.84864e-11  8.31782e-11 -5.21378e-11 -5.29758e-11  -0.00066518    0.0198852  3.45539e-11          nan          nan          nan          nan          nan          nan          nan          nan          nan          nan          nan          nan\r\n",
      "   0.0423984 -8.04515e-13  1.22799e-10 -2.12003e-10 -2.89922e-10 -1.67526e-10    0.0301449   2.9146e-12  1.34331e-10   0.00730899   -0.0053539  7.47806e-11    0.0128739  -0.00017351     0.973645  1.57406e-12  1.19401e-10  3.20455e-11 -1.61109e-10  4.22468e-11    0.0229459  0.000458102 -1.88115e-11          nan          nan          nan          nan          nan          nan          nan          nan          nan          nan          nan          nan\r\n",
      " -8.0453e-13    0.0423984 -3.06353e-11  1.53032e-10 -1.06708e-10 -1.75042e-11   2.9146e-12    0.0301449 -2.17268e-12    0.0053539   0.00730899 -4.77733e-13  -0.00017351   -0.0128739  1.57407e-12     0.973645 -1.26985e-10 -8.12263e-12 -9.27429e-11  5.38711e-12  0.000458102   -0.0229459 -5.38842e-10          nan          nan          nan          nan          nan          nan          nan          nan          nan          nan          nan          nan\r\n",
      " 1.49672e-10   2.1178e-10   -0.0364608   -0.0107992   -0.0167421    -0.017379  9.00236e-11  -2.7012e-10   0.00287102 -2.62244e-11  1.07631e-09    0.0092093 -1.21472e-09 -5.84864e-11  1.19401e-10 -1.26985e-10      1.03672    0.0175509   -0.0205271    0.0205271  1.51214e-09 -2.08354e-11  -0.00299599          nan          nan          nan          nan          nan          nan          nan          nan          nan          nan          nan          nan\r\n",
      " 3.05028e-10 -1.90615e-12    0.0107992    0.0364608    -0.017379   -0.0167421 -1.00917e-10  -7.3256e-12   0.00287102 -2.97121e-11  2.90805e-11    0.0092093  -1.1096e-09  8.31782e-11  3.20455e-11 -8.12263e-12    0.0175509      1.03672   -0.0205271    0.0205271  1.56096e-09  4.98784e-11  -0.00299599          nan          nan          nan          nan          nan          nan          nan          nan          nan          nan          nan          nan\r\n",
      "-1.92919e-10  1.59436e-10   -0.0169484    0.0175854    0.0211512   -0.0261088 -1.26877e-10 -2.00488e-10  -0.00381063  1.09097e-09 -2.61832e-11   -0.0122232  1.61336e-09 -5.21378e-11 -1.61109e-10 -9.27429e-11   -0.0205271   -0.0205271       1.0485   -0.0293303 -2.00026e-09 -1.05281e-10    -0.004342          nan          nan          nan          nan          nan          nan          nan          nan          nan          nan          nan          nan\r\n",
      " 4.06605e-10  -4.0804e-12    0.0175854   -0.0169484    0.0261088   -0.0211512 -1.35917e-10  9.54774e-12   0.00381063 -4.37374e-11  2.26955e-11    0.0122232  -1.4717e-09 -5.29758e-11  4.22468e-11  5.38711e-12    0.0205271    0.0205271   -0.0293303       1.0485  2.07097e-09  5.64843e-11     0.004342          nan          nan          nan          nan          nan          nan          nan          nan          nan          nan          nan          nan\r\n",
      "  -0.0745712  -0.00148877 -5.40921e-09   5.4236e-09  7.40353e-09  7.38021e-09    0.0700154   0.00139782 -4.09938e-09   -0.0248779    0.0174711 -1.74134e-09  -0.00919333  0.000307527   -0.0362815 -0.000724339 -1.22425e-09 -1.25288e-09  1.61966e-09 -1.66068e-09    -0.195058 -8.53037e-12 -4.00017e-10          nan          nan          nan          nan          nan          nan          nan          nan          nan          nan          nan          nan\r\n",
      " -0.00148877    0.0745712 -4.16533e-10  4.39595e-10  1.94814e-11  3.39924e-11   0.00139782   -0.0700154 -1.22654e-10    0.0174711    0.0248779 -5.09839e-11 -0.000307527  -0.00919333 -0.000724339    0.0362815  4.52108e-11  4.40497e-12  1.10461e-10 -8.16314e-11 -8.53036e-12    -0.195058 -6.14398e-09          nan          nan          nan          nan          nan          nan          nan          nan          nan          nan          nan          nan\r\n",
      " 1.20685e-11  8.00179e-10   0.00552896  -0.00552896    0.0183533    0.0183533 -5.84012e-11  -7.0013e-10  -0.00456267  1.13888e-09  1.48281e-09  -0.00195921  1.49525e-10 -1.19757e-10  1.59635e-11  3.11375e-11  -0.00567181  -0.00567181  -0.00297415   0.00297415 -8.62106e-10 -6.30033e-09      1.05305          nan          nan          nan          nan          nan          nan          nan          nan          nan          nan          nan          nan\r\n",
      "        -nan         -nan         -nan         -nan         -nan         -nan         -nan         -nan         -nan         -nan         -nan         -nan         -nan         -nan         -nan         -nan         -nan         -nan         -nan         -nan         -nan         -nan         -nan          nan          nan          nan          nan          nan          nan          nan          nan          nan          nan          nan          nan\r\n",
      "        -nan         -nan         -nan         -nan         -nan         -nan         -nan         -nan         -nan         -nan         -nan         -nan         -nan         -nan         -nan         -nan         -nan         -nan         -nan         -nan         -nan         -nan         -nan         -nan         -nan         -nan         -nan         -nan         -nan         -nan         -nan         -nan         -nan         -nan         -nan\r\n",
      "        -nan         -nan         -nan         -nan         -nan         -nan         -nan         -nan         -nan         -nan         -nan         -nan         -nan         -nan         -nan         -nan         -nan         -nan         -nan         -nan         -nan         -nan         -nan         -nan         -nan         -nan         -nan         -nan         -nan         -nan         -nan         -nan         -nan         -nan         -nan\r\n",
      "        -nan         -nan         -nan         -nan         -nan         -nan         -nan         -nan         -nan         -nan         -nan         -nan         -nan         -nan         -nan         -nan         -nan         -nan         -nan         -nan         -nan         -nan         -nan          nan          nan          nan          nan          nan          nan          nan          nan          nan          nan          nan          nan\r\n",
      "        -nan         -nan         -nan         -nan         -nan         -nan         -nan         -nan         -nan         -nan         -nan         -nan         -nan         -nan         -nan         -nan         -nan         -nan         -nan         -nan         -nan         -nan         -nan          nan          nan          nan          nan          nan          nan          nan          nan          nan          nan          nan          nan\r\n",
      "        -nan         -nan         -nan         -nan         -nan         -nan         -nan         -nan         -nan         -nan         -nan         -nan         -nan         -nan         -nan         -nan         -nan         -nan         -nan         -nan         -nan         -nan         -nan         -nan         -nan         -nan         -nan         -nan         -nan         -nan         -nan         -nan         -nan         -nan         -nan\r\n",
      "        -nan         -nan         -nan         -nan         -nan         -nan         -nan         -nan         -nan         -nan         -nan         -nan         -nan         -nan         -nan         -nan         -nan         -nan         -nan         -nan         -nan         -nan         -nan         -nan         -nan         -nan         -nan         -nan         -nan         -nan         -nan         -nan         -nan         -nan         -nan\r\n",
      "        -nan         -nan         -nan         -nan         -nan         -nan         -nan         -nan         -nan         -nan         -nan         -nan         -nan         -nan         -nan         -nan         -nan         -nan         -nan         -nan         -nan         -nan         -nan          nan          nan          nan          nan          nan          nan          nan          nan          nan          nan          nan          nan\r\n",
      "        -nan         -nan         -nan         -nan         -nan         -nan         -nan         -nan         -nan         -nan         -nan         -nan         -nan         -nan         -nan         -nan         -nan         -nan         -nan         -nan         -nan         -nan         -nan          nan          nan          nan          nan          nan          nan          nan          nan          nan          nan          nan          nan\r\n",
      "        -nan         -nan         -nan         -nan         -nan         -nan         -nan         -nan         -nan         -nan         -nan         -nan         -nan         -nan         -nan         -nan         -nan         -nan         -nan         -nan         -nan         -nan         -nan         -nan          nan          nan          nan         -nan          nan          nan          nan         -nan          nan          nan          nan\r\n",
      "        -nan         -nan         -nan         -nan         -nan         -nan         -nan         -nan         -nan         -nan         -nan         -nan         -nan         -nan         -nan         -nan         -nan         -nan         -nan         -nan         -nan         -nan         -nan         -nan          nan          nan          nan         -nan          nan          nan          nan         -nan          nan          nan          nan\r\n",
      "        -nan         -nan         -nan         -nan         -nan         -nan         -nan         -nan         -nan         -nan         -nan         -nan         -nan         -nan         -nan         -nan         -nan         -nan         -nan         -nan         -nan         -nan         -nan         -nan         -nan         -nan         -nan         -nan         -nan         -nan         -nan         -nan         -nan         -nan         -nan\r\n",
      "B\r\n",
      "   0.0903883 -6.20779e-13  2.81775e-10 -3.55485e-10 -4.86345e-10 -3.86113e-10   -0.0326152  6.25415e-13   3.6671e-10    0.0119507  -0.00875397  1.49744e-10   -0.0481031  0.000648317    0.0477611 -9.23419e-13  9.85667e-11  3.08251e-10 -1.22886e-10  4.11242e-10    0.0244236  0.000487602 -4.39138e-11         -nan         -nan         -nan         -nan         -nan         -nan         -nan         -nan         -nan         -nan         -nan         -nan\r\n",
      " -6.2078e-13    0.0903883 -7.33784e-11  1.73611e-10 -1.24838e-10 -5.11276e-11  6.25379e-13   -0.0326152 -1.81854e-12   0.00875397    0.0119507 -3.81983e-13  0.000648317    0.0481031 -9.23401e-13    0.0477611  2.99129e-10  1.07728e-11  2.24093e-10  -1.4409e-11  0.000487602   -0.0244236  7.66054e-10         -nan         -nan         -nan         -nan         -nan         -nan         -nan         -nan         -nan         -nan         -nan         -nan\r\n",
      " 2.81775e-10 -7.33784e-11     0.138784   -0.0339495   -0.0538916   -0.0538916 -8.93049e-11  6.48037e-11    0.0386365  2.48994e-11 -9.92347e-11    0.0188591 -2.02829e-09  6.52963e-11  1.05718e-10 -3.17538e-11   -0.0546711   0.00890201   -0.0148262     0.015683  3.99883e-10 -9.28845e-11    0.0316523         -nan         -nan         -nan         -nan         -nan         -nan         -nan         -nan         -nan         -nan         -nan         -nan\r\n",
      "-3.55485e-10  1.73611e-10   -0.0339495     0.138784    0.0538916    0.0538916  1.20473e-10 -1.08689e-10   -0.0386365 -2.44222e-11  1.04742e-10   -0.0188591  2.05742e-09 -2.74453e-11   -2.204e-10  1.88921e-10  -0.00890201    0.0546711     0.015683   -0.0148262 -4.68127e-10 -3.93217e-12   -0.0316523         -nan         -nan         -nan         -nan         -nan         -nan         -nan         -nan         -nan         -nan         -nan         -nan\r\n",
      "-4.86345e-10 -1.24838e-10   -0.0538916    0.0538916     0.172879    0.0680446    1.659e-10  7.36309e-11   -0.0527453 -1.21524e-10  2.47232e-11   -0.0257459  2.80831e-09  4.32964e-12 -3.01417e-10 -1.32555e-10   -0.0143314   -0.0151882    0.0179534    0.0456197 -6.44277e-10  -2.8523e-11    0.0288126         -nan         -nan         -nan         -nan         -nan         -nan         -nan         -nan         -nan         -nan         -nan         -nan\r\n",
      "-3.86113e-10 -5.11276e-11   -0.0538916    0.0538916    0.0680446     0.172879  1.22014e-10  4.24627e-11   -0.0527453 -1.16016e-10   2.4246e-11   -0.0257459  2.77046e-09   3.3462e-11  -1.4425e-10 -1.78726e-11   -0.0151882   -0.0143314   -0.0456197   -0.0179534 -5.46789e-10 -9.74571e-11    0.0288126         -nan         -nan         -nan         -nan         -nan         -nan         -nan         -nan         -nan         -nan         -nan         -nan\r\n",
      "  -0.0326152  6.25378e-13 -8.93049e-11  1.20473e-10    1.659e-10  1.22014e-10     0.236624 -1.38085e-13 -1.35483e-10   -0.0116021   0.00849862 -2.41289e-11  -0.00949852  0.000128018    0.0424653  3.99956e-12  1.61985e-10 -1.23001e-10 -2.25974e-10 -1.66116e-10   0.00359493  7.17706e-05 -5.48919e-12         -nan         -nan         -nan         -nan         -nan         -nan         -nan         -nan         -nan         -nan         -nan         -nan\r\n",
      " 6.25414e-13   -0.0326152  6.48037e-11 -1.08689e-10  7.36309e-11  4.24627e-11 -1.38076e-13     0.236624  3.36697e-12  -0.00849862   -0.0116021  9.79016e-13  0.000128018   0.00949852  3.99956e-12    0.0424653 -4.05455e-10 -1.33653e-11 -3.00092e-10  1.51062e-11  7.17706e-05  -0.00359493 -8.19852e-10         -nan         -nan         -nan         -nan         -nan         -nan         -nan         -nan         -nan         -nan         -nan         -nan\r\n",
      "  3.6671e-10 -1.81854e-12    0.0386365   -0.0386365   -0.0527453   -0.0527453 -1.35483e-10  3.36697e-12     0.424108  3.30583e-10 -2.44347e-10   -0.0112617 -9.32861e-10  4.50178e-12  1.82485e-10  -2.9615e-12  0.000390679  0.000390679 -0.000518537  0.000518537  1.09248e-09   3.5582e-11   -0.0012149         -nan         -nan         -nan         -nan         -nan         -nan         -nan         -nan         -nan         -nan         -nan         -nan\r\n",
      "   0.0119507   0.00875397  2.48994e-11 -2.44222e-11 -1.21524e-10 -1.16016e-10   -0.0116021  -0.00849862  3.30583e-10     0.446812  9.54371e-13 -1.12488e-10 -0.000386685  0.000291338   0.00870901   0.00637943 -4.72878e-11 -5.31546e-11  1.82949e-09 -7.96189e-11    0.0145363   -0.0102085  1.77012e-09         -nan         -nan         -nan         -nan         -nan         -nan         -nan         -nan         -nan         -nan         -nan         -nan\r\n",
      " -0.00875397    0.0119507 -9.92347e-11  1.04742e-10  2.47232e-11   2.4246e-11   0.00849862   -0.0116021 -2.44347e-10  9.54285e-13     0.446812  8.38281e-11  0.000291338  0.000386685  -0.00637943   0.00870901  1.80278e-09  5.29097e-11 -4.68728e-11   4.1006e-11   -0.0102085   -0.0145363  2.39741e-09         -nan         -nan         -nan         -nan         -nan         -nan         -nan         -nan         -nan         -nan         -nan         -nan\r\n",
      " 1.49744e-10 -3.81983e-13    0.0188591   -0.0188591   -0.0257459   -0.0257459 -2.41289e-11  9.79016e-13   -0.0112617 -1.12488e-10  8.38281e-11     0.627074 -6.54357e-10  1.56633e-12  1.02976e-10 -5.56021e-13    0.0131934    0.0131934   -0.0175113    0.0175113  2.08742e-10  8.16476e-12 -0.000497767         -nan         -nan         -nan         -nan         -nan         -nan         -nan         -nan         -nan         -nan         -nan         -nan\r\n",
      "  -0.0481031  0.000648317 -2.02829e-09  2.05742e-09  2.80831e-09  2.77046e-09  -0.00949852  0.000128018 -9.32861e-10 -0.000386685  0.000291338 -6.54357e-10     0.912954 -7.12443e-13    0.0215518 -0.000290468 -2.18171e-09 -1.96858e-09  2.89795e-09 -2.61072e-09    0.0227034  0.000759454 -5.61171e-11         -nan         -nan         -nan         -nan         -nan         -nan         -nan         -nan         -nan         -nan         -nan         -nan\r\n",
      " 0.000648317    0.0481031  6.52963e-11 -2.74453e-11  4.32964e-12   3.3462e-11  0.000128018   0.00949852  4.50178e-12  0.000291338  0.000386685  1.56633e-12 -7.12448e-13     0.912954 -0.000290468   -0.0215518 -1.24312e-10  1.62909e-10 -1.08166e-10 -1.04966e-10 -0.000759454    0.0227034 -1.07524e-10         -nan         -nan         -nan         -nan         -nan         -nan         -nan         -nan         -nan         -nan         -nan         -nan\r\n",
      "   0.0477611 -9.23402e-13  1.05718e-10   -2.204e-10 -3.01417e-10  -1.4425e-10    0.0424653  3.99956e-12  1.82485e-10   0.00870901  -0.00637943  1.02976e-10    0.0215518 -0.000290468     0.952112  2.98994e-12  1.96504e-10  4.87787e-11  -2.6517e-10   6.4286e-11  -0.00321141 -6.41139e-05 -6.74387e-12         -nan         -nan         -nan         -nan         -nan         -nan         -nan         -nan         -nan         -nan         -nan         -nan\r\n",
      " -9.2342e-13    0.0477611 -3.17538e-11  1.88921e-10 -1.32555e-10 -1.78726e-11  3.99956e-12    0.0424653  -2.9615e-12   0.00637943   0.00870901 -5.56021e-13 -0.000290468   -0.0215518  2.98995e-12     0.952112 -2.10459e-10 -9.57573e-12 -1.53764e-10  6.03876e-12 -6.41139e-05   0.00321141 -4.80548e-10         -nan         -nan         -nan         -nan         -nan         -nan         -nan         -nan         -nan         -nan         -nan         -nan\r\n",
      " 9.85667e-11  2.99129e-10   -0.0546711  -0.00890201   -0.0143314   -0.0151882  1.61985e-10 -4.05455e-10  0.000390679 -4.72878e-11  1.80278e-09    0.0131934 -2.18171e-09 -1.24312e-10  1.96504e-10 -2.10459e-10      1.07407    0.0330989   -0.0380922    0.0380922  4.65501e-10 -1.04137e-10    -0.012367         -nan         -nan         -nan         -nan         -nan         -nan         -nan         -nan         -nan         -nan         -nan         -nan\r\n",
      " 3.08251e-10  1.07728e-11   0.00890201    0.0546711   -0.0151882   -0.0143314 -1.23001e-10 -1.33653e-11  0.000390679 -5.31546e-11  5.29097e-11    0.0131934 -1.96858e-09  1.62909e-10  4.87787e-11 -9.57573e-12    0.0330989      1.07407   -0.0380922    0.0380922  5.85906e-10  6.98164e-11    -0.012367         -nan         -nan         -nan         -nan         -nan         -nan         -nan         -nan         -nan         -nan         -nan         -nan\r\n",
      "-1.22886e-10  2.24093e-10   -0.0148262     0.015683    0.0179534   -0.0456197 -2.25974e-10 -3.00092e-10 -0.000518537  1.82949e-09 -4.68728e-11   -0.0175113  2.89795e-09 -1.08166e-10  -2.6517e-10 -1.53764e-10   -0.0380922   -0.0380922      1.09593    -0.054958 -6.05018e-10  -1.0188e-10   -0.0112725         -nan         -nan         -nan         -nan         -nan         -nan         -nan         -nan         -nan         -nan         -nan         -nan\r\n",
      " 4.11242e-10  -1.4409e-11     0.015683   -0.0148262    0.0456197   -0.0179534 -1.66116e-10  1.51062e-11  0.000518537 -7.96189e-11   4.1006e-11    0.0175113 -2.61072e-09 -1.04966e-10   6.4286e-11  6.03876e-12    0.0380922    0.0380922    -0.054958      1.09593  7.78662e-10 -1.81916e-11    0.0112725         -nan         -nan         -nan         -nan         -nan         -nan         -nan         -nan         -nan         -nan         -nan         -nan\r\n",
      "   0.0559703   0.00111741   3.8761e-09 -3.94018e-09 -5.38748e-09  -5.2949e-09   0.00259778  5.18632e-05  1.12226e-09   0.00902779  -0.00633999  2.78681e-10    0.0177731 -0.000594528   -0.0179745  -0.00035885  -5.2035e-11 -7.79287e-11  6.29055e-11 -9.83524e-11     0.583856 -9.32076e-12 -3.05426e-10         -nan         -nan         -nan         -nan         -nan         -nan         -nan         -nan         -nan         -nan         -nan         -nan\r\n",
      "  0.00111741   -0.0559703  6.58061e-11 -1.57525e-10 -1.10993e-10 -1.75951e-10  5.18632e-05  -0.00259778  3.08149e-11  -0.00633999  -0.00902779  7.32531e-12  0.000594528    0.0177731  -0.00035885    0.0179745  1.41952e-10   1.0684e-10  1.14665e-10 -8.84274e-11 -9.32078e-12     0.583856 -4.55926e-09         -nan         -nan         -nan         -nan         -nan         -nan         -nan         -nan         -nan         -nan         -nan         -nan\r\n",
      "-6.83107e-11   4.4004e-10    0.0322668   -0.0322668    0.0287764    0.0287764 -2.39282e-12 -8.78723e-10  -0.00262358  1.63346e-09  2.20759e-09  -0.00134304  9.71225e-11 -7.08389e-11 -9.28458e-12   -6.094e-10   -0.0137833   -0.0137833   -0.0108629    0.0108629  -8.0162e-10 -5.06232e-09      2.11515         -nan         -nan         -nan         -nan         -nan         -nan         -nan         -nan         -nan         -nan         -nan         -nan\r\n",
      "        -nan         -nan         -nan         -nan         -nan         -nan         -nan         -nan         -nan         -nan         -nan         -nan         -nan         -nan         -nan         -nan         -nan         -nan         -nan         -nan         -nan         -nan         -nan         -nan         -nan         -nan         -nan         -nan         -nan         -nan         -nan         -nan         -nan         -nan         -nan\r\n",
      "        -nan         -nan         -nan         -nan         -nan         -nan         -nan         -nan         -nan         -nan         -nan         -nan         -nan         -nan         -nan         -nan         -nan         -nan         -nan         -nan         -nan         -nan         -nan         -nan         -nan         -nan         -nan         -nan         -nan         -nan         -nan         -nan         -nan         -nan         -nan\r\n",
      "        -nan         -nan         -nan         -nan         -nan         -nan         -nan         -nan         -nan         -nan         -nan         -nan         -nan         -nan         -nan         -nan         -nan         -nan         -nan         -nan         -nan         -nan         -nan         -nan         -nan         -nan         -nan         -nan         -nan         -nan         -nan         -nan         -nan         -nan         -nan\r\n",
      "        -nan         -nan         -nan         -nan         -nan         -nan         -nan         -nan         -nan         -nan         -nan         -nan         -nan         -nan         -nan         -nan         -nan         -nan         -nan         -nan         -nan         -nan         -nan         -nan         -nan         -nan         -nan         -nan         -nan         -nan         -nan         -nan         -nan         -nan         -nan\r\n",
      "        -nan         -nan         -nan         -nan         -nan         -nan         -nan         -nan         -nan         -nan         -nan         -nan         -nan         -nan         -nan         -nan         -nan         -nan         -nan         -nan         -nan         -nan         -nan         -nan         -nan         -nan         -nan         -nan         -nan         -nan         -nan         -nan         -nan         -nan         -nan\r\n",
      "        -nan         -nan         -nan         -nan         -nan         -nan         -nan         -nan         -nan         -nan         -nan         -nan         -nan         -nan         -nan         -nan         -nan         -nan         -nan         -nan         -nan         -nan         -nan         -nan         -nan         -nan         -nan         -nan         -nan         -nan         -nan         -nan         -nan         -nan         -nan\r\n",
      "        -nan         -nan         -nan         -nan         -nan         -nan         -nan         -nan         -nan         -nan         -nan         -nan         -nan         -nan         -nan         -nan         -nan         -nan         -nan         -nan         -nan         -nan         -nan         -nan         -nan         -nan         -nan         -nan         -nan         -nan         -nan         -nan         -nan         -nan         -nan\r\n",
      "        -nan         -nan         -nan         -nan         -nan         -nan         -nan         -nan         -nan         -nan         -nan         -nan         -nan         -nan         -nan         -nan         -nan         -nan         -nan         -nan         -nan         -nan         -nan         -nan         -nan         -nan         -nan         -nan         -nan         -nan         -nan         -nan         -nan         -nan         -nan\r\n",
      "        -nan         -nan         -nan         -nan         -nan         -nan         -nan         -nan         -nan         -nan         -nan         -nan         -nan         -nan         -nan         -nan         -nan         -nan         -nan         -nan         -nan         -nan         -nan         -nan         -nan         -nan         -nan         -nan         -nan         -nan         -nan         -nan         -nan         -nan         -nan\r\n",
      "        -nan         -nan         -nan         -nan         -nan         -nan         -nan         -nan         -nan         -nan         -nan         -nan         -nan         -nan         -nan         -nan         -nan         -nan         -nan         -nan         -nan         -nan         -nan         -nan         -nan         -nan         -nan         -nan         -nan         -nan         -nan         -nan         -nan         -nan         -nan\r\n",
      "        -nan         -nan         -nan         -nan         -nan         -nan         -nan         -nan         -nan         -nan         -nan         -nan         -nan         -nan         -nan         -nan         -nan         -nan         -nan         -nan         -nan         -nan         -nan         -nan         -nan         -nan         -nan         -nan         -nan         -nan         -nan         -nan         -nan         -nan         -nan\r\n",
      "        -nan         -nan         -nan         -nan         -nan         -nan         -nan         -nan         -nan         -nan         -nan         -nan         -nan         -nan         -nan         -nan         -nan         -nan         -nan         -nan         -nan         -nan         -nan          nan          nan          nan          nan          nan          nan          nan          nan          nan          nan          nan          nan\r\n",
      "an error occurred:\r\n",
      "Small generalized eigenvalue problem failed.\r\n"
     ]
    }
   ],
   "source": [
    "!xtp_tools -c job_name=CO geometry_optimization.maxiter=1 dftpackage.basisset=3-21G dftpackage.auxbasisset=aux-def2-svp gwbse.gw.mode=G0W0 -e dftgwbse -t 4"
   ]
  },
  {
   "cell_type": "markdown",
   "metadata": {},
   "source": [
    "Notice that we are using 4 threads. The results will be stored in a file named `CO_summary.xml` in the current work directory, together with the optimization step in `optimisation.trj` and the orbitals in [hdf5 format](https://www.hdfgroup.org/solutions/hdf5/) saved on `CO.orb`."
   ]
  }
 ],
 "metadata": {
  "kernelspec": {
   "display_name": "Python 3",
   "language": "python",
   "name": "python3"
  },
  "language_info": {
   "codemirror_mode": {
    "name": "ipython",
    "version": 3
   },
   "file_extension": ".py",
   "mimetype": "text/x-python",
   "name": "python",
   "nbconvert_exporter": "python",
   "pygments_lexer": "ipython3",
   "version": "3.11.1"
  }
 },
 "nbformat": 4,
 "nbformat_minor": 4
}
