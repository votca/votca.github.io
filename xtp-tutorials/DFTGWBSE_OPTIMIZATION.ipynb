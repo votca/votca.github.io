{
 "cells": [
  {
   "cell_type": "markdown",
   "metadata": {},
   "source": [
    "## DFT + GWBSE Optimization Using CO"
   ]
  },
  {
   "cell_type": "markdown",
   "metadata": {},
   "source": [
    "## Introduction\n",
    "This tutorial explains how to perform a molecular geometric optimization using the **GWBSE** method. See [the GW Compendium: A Practical Guide to Theoretical Photoemission Spectroscopy](https://doi.org/10.3389/fchem.2019.00377), for an excellent introduction to the method."
   ]
  },
  {
   "cell_type": "markdown",
   "metadata": {},
   "source": [
    "## Requirements\n",
    "* You will need to install **VOTCA** using the instructions described [here](https://github.com/votca/votca/blob/master/share/doc/INSTALL.rst)\n",
    "* Once the installation is completed you need to activate the VOTCA enviroment by running the `VOTCARC.bash` script that has been installed at the bin subfolder for the path that you have provided for the installation step above"
   ]
  },
  {
   "cell_type": "markdown",
   "metadata": {},
   "source": [
    "## Preparing the input\n",
    "To run a DFT-GWBSE calculation we will use the [xtp_tools](https://www.votca.org/xtp/xtp_tools_overview.html) calculator."
   ]
  },
  {
   "cell_type": "markdown",
   "metadata": {},
   "source": [
    "we can now change the calculator mode from single point energy calculation to optimization as follows by adding \n",
    "`-c geometry_optimization.maxiter=1` which enables optimization with one iteration. "
   ]
  },
  {
   "cell_type": "markdown",
   "metadata": {},
   "source": [
    "Because geometry optimsation is quite expensive numerically we chose a smaller basisset and G0W0 Finally, to run the calculation we just need the following command (This still takes a while)"
   ]
  },
  {
   "cell_type": "code",
   "execution_count": 1,
   "metadata": {
    "execution": {
     "iopub.execute_input": "2023-04-14T05:22:23.150762Z",
     "iopub.status.busy": "2023-04-14T05:22:23.150469Z",
     "iopub.status.idle": "2023-04-14T05:24:16.548122Z",
     "shell.execute_reply": "2023-04-14T05:24:16.546985Z"
    }
   },
   "outputs": [
    {
     "name": "stdout",
     "output_type": "stream",
     "text": [
      "==================================================\r\n",
      "========   VOTCA (http://www.votca.org)   ========\r\n",
      "==================================================\r\n",
      "\r\n",
      "please submit bugs to https://github.com/votca/votca/issues\r\n",
      "\r\n",
      "xtp_tools, version 2024-dev gitid: f763d12 (compiled Apr 14 2023, 05:18:12)\r\n",
      "\r\n",
      "Initializing tool\r\n",
      "... dftgwbse Evaluating tool\r\n",
      "... dftgwbse  Using 4 threads\r\n",
      "... ... Reading structure from CO.xyz\r\n",
      "... ... Requested geometry optimization of excited state s1\r\n",
      "... ... Initial state: s1\r\n",
      "... ... WARNING: No tracker is used \r\n",
      "... ... Convergence of total energy: 0.000001 Hartree \r\n",
      "... ... Convergence of RMS Force:    0.000030 Hartree/Bohr \r\n",
      "... ... Convergence of Max Force:    0.000100 Hartree/Bohr \r\n",
      "... ... Convergence of RMS Step:     0.000600 Bohr \r\n",
      "... ... Convergence of Max Step:     0.001000 Bohr \r\n",
      "... ... Initial trust radius:        0.018897 Bohr\r\n",
      "... ... \r\n",
      "... ... =========== OPTIMIZATION SUMMARY ================================= \r\n",
      "... ... At iteration  0\r\n",
      "... ...  ---- POSITIONS (Angstrom)   \r\n",
      "... ...  Atom\t x\t  y\t  z \r\n",
      "... ...    0    +0.0000  +0.0000  +0.0000\r\n",
      "... ...    1    +1.2000  +0.0000  +0.0000\r\n",
      "... ...    Total energy:     -112.26831841 Hartree \r\n",
      "... ...    Trust radius:       0.01889726 Bohr     \r\n",
      "... ...  ---- FORCES (Hartree/Bohr)   \r\n",
      "... ...       central differences   \r\n",
      "... ...       displacement 0.0010 Angstrom   \r\n",
      "... ...  Atom\t x\t  y\t  z \r\n",
      "... ...    0    -0.1314  -0.0000  -0.0000\r\n",
      "... ...    1    +0.1314  +0.0000  +0.0000A\r\n",
      "    0.301149 -1.39139e-12  7.68165e-10 -8.84861e-10 -1.20133e-09 -1.04378e-09   -0.0519724  1.01965e-12  5.92029e-10    0.0141909   -0.0104708  2.25008e-10   -0.0390253  0.000527989    0.0423984 -8.04396e-13  1.50361e-10  3.06452e-10 -1.92382e-10  4.05533e-10    -0.107078    0.0020813  6.10651e-11          nan          nan          nan          nan          nan          nan          nan          nan          nan          nan          nan          nan\r\n",
      " -1.3914e-12     0.301149 -1.48808e-10  3.06357e-10 -2.19508e-10 -1.02812e-10  1.01956e-12   -0.0519724 -2.95418e-12    0.0104708    0.0141909 -6.45328e-13  0.000527989    0.0390253 -8.04422e-13    0.0423984  2.11218e-10 -1.93274e-12  1.60181e-10 -4.08982e-12   -0.0020813    -0.107078  5.83575e-11          nan          nan          nan          nan          nan          nan          nan          nan          nan          nan          nan          nan\r\n",
      " 7.68165e-10 -1.48808e-10     0.391788   -0.0715548    -0.110644    -0.110644 -1.82775e-10  9.49567e-11    0.0540337   3.4226e-11 -1.16313e-10     0.024357 -1.89179e-09  5.75444e-11  1.23375e-10 -3.05804e-11   -0.0363407    0.0109192   -0.0169833    0.0176227 -7.94866e-09  3.78777e-10   -0.0242825          nan          nan          nan          nan          nan          nan          nan          nan          nan          nan          nan          nan\r\n",
      "-8.84861e-10  3.06357e-10   -0.0715548     0.391788     0.110644     0.110644  2.21412e-10 -1.49389e-10   -0.0540337 -3.37164e-11  1.20598e-10    -0.024357  1.91163e-09 -3.19897e-11 -2.13007e-10  1.52665e-10   -0.0109192    0.0363407    0.0176227   -0.0169833  8.03028e-09  -4.9623e-10    0.0242825          nan          nan          nan          nan          nan          nan          nan          nan          nan          nan          nan          nan\r\n",
      "-1.20133e-09 -2.19508e-10    -0.110644     0.110644     0.460103      0.13987  3.02171e-10  1.00117e-10    -0.073231 -1.43345e-10  3.34831e-11   -0.0330107  2.59066e-09  9.76459e-12 -2.89186e-10 -1.07234e-10   -0.0167762   -0.0174156    0.0210311    0.0262288  1.08873e-08 -1.15806e-10  -0.00965993          nan          nan          nan          nan          nan          nan          nan          nan          nan          nan          nan          nan\r\n",
      "-1.04378e-09 -1.02812e-10    -0.110644     0.110644      0.13987     0.460103  2.47738e-10  6.14798e-11    -0.073231  -1.3906e-10  3.29735e-11   -0.0330107  2.56511e-09   2.9605e-11 -1.67102e-10 -1.76024e-11   -0.0174156   -0.0167762   -0.0262288   -0.0210311  1.07689e-08 -1.98264e-10  -0.00965993          nan          nan          nan          nan          nan          nan          nan          nan          nan          nan          nan          nan\r\n",
      "  -0.0519724  1.01956e-12 -1.82775e-10  2.21412e-10  3.02171e-10  2.47738e-10     0.486835 -2.44592e-13 -1.77662e-10   -0.0109715   0.00809533 -3.96537e-11   -0.0083053  0.000112366    0.0301449  2.91432e-12  9.04565e-11 -1.01388e-10 -1.26571e-10 -1.35565e-10    0.0549836  -0.00106873 -4.10213e-11          nan          nan          nan          nan          nan          nan          nan          nan          nan          nan          nan          nan\r\n",
      " 1.01965e-12   -0.0519724  9.49567e-11 -1.49389e-10  1.00117e-10  6.14798e-11 -2.44597e-13     0.486835   4.0052e-12  -0.00809533   -0.0109715  1.15128e-12  0.000112366    0.0083053  2.91438e-12    0.0301449  -2.6942e-10 -7.28448e-12 -2.01428e-10  9.58344e-12   0.00106873    0.0549836  2.31446e-10          nan          nan          nan          nan          nan          nan          nan          nan          nan          nan          nan          nan\r\n",
      " 5.92029e-10 -2.95418e-12    0.0540337   -0.0540337    -0.073231    -0.073231 -1.77662e-10   4.0052e-12     0.659928   2.6928e-10 -2.00241e-10  -0.00518518 -7.77966e-10  3.37227e-12  1.34331e-10 -2.17631e-12   0.00288442   0.00288442   -0.0038005    0.0038005 -5.23357e-09  1.53277e-10  -0.00262536          nan          nan          nan          nan          nan          nan          nan          nan          nan          nan          nan          nan\r\n",
      "   0.0141909    0.0104708   3.4226e-11 -3.37164e-11 -1.43345e-10  -1.3906e-10   -0.0109715  -0.00809533   2.6928e-10     0.668107  7.25019e-13 -7.88259e-11  1.34733e-05 -1.02257e-05   0.00729038   0.00537922 -2.62761e-11 -2.97894e-11  1.09079e-09 -4.35535e-11   -0.0334448   -0.0236875 -8.06621e-10          nan          nan          nan          nan          nan          nan          nan          nan          nan          nan          nan          nan\r\n",
      "  -0.0104708    0.0141909 -1.16313e-10  1.20598e-10  3.34831e-11  3.29735e-11   0.00809533   -0.0109715 -2.00241e-10  7.25061e-13     0.668107  5.93449e-11 -1.02257e-05 -1.34733e-05  -0.00537922   0.00729038   1.0765e-09  2.92645e-11  -2.6233e-11  2.27197e-11    0.0236875   -0.0334448 -1.12992e-09          nan          nan          nan          nan          nan          nan          nan          nan          nan          nan          nan          nan\r\n",
      " 2.25008e-10 -6.45328e-13     0.024357    -0.024357   -0.0330107   -0.0330107 -3.96537e-11  1.15128e-12  -0.00518518 -7.88259e-11  5.93449e-11     0.793012 -5.03133e-10  1.25205e-12   7.4781e-11 -4.79826e-13   0.00925227   0.00925227   -0.0121908    0.0121908 -1.99198e-09  5.75919e-11  -0.00107303          nan          nan          nan          nan          nan          nan          nan          nan          nan          nan          nan          nan\r\n",
      "  -0.0390253  0.000527989 -1.89179e-09  1.91163e-09  2.59066e-09  2.56511e-09   -0.0083053  0.000112366 -7.77966e-10  1.34733e-05 -1.02257e-05 -5.03133e-10     0.954263 -4.00116e-13    0.0128739 -0.000174176 -1.22039e-09 -1.11478e-09  1.60908e-09 -1.46778e-09   -0.0198855  0.000655732  1.22301e-10          nan          nan          nan          nan          nan          nan          nan          nan          nan          nan          nan          nan\r\n",
      " 0.000527989    0.0390253  5.75444e-11 -3.19897e-11  9.76459e-12   2.9605e-11  0.000112366    0.0083053  3.37227e-12 -1.02257e-05 -1.34733e-05  1.25205e-12 -4.00113e-13     0.954263 -0.000174176   -0.0128739 -5.82751e-11  8.30212e-11 -5.23792e-11 -5.32289e-11  0.000655732    0.0198855 -3.45603e-11          nan          nan          nan          nan          nan          nan          nan          nan          nan          nan          nan          nan\r\n",
      "   0.0423984 -8.04422e-13  1.23375e-10 -2.13007e-10 -2.89186e-10 -1.67102e-10    0.0301449  2.91438e-12  1.34331e-10   0.00729038  -0.00537922   7.4781e-11    0.0128739 -0.000174176     0.973645  1.57429e-12  1.19962e-10  3.21968e-11 -1.60693e-10  4.21321e-11   -0.0229462  0.000446012  1.85855e-11          nan          nan          nan          nan          nan          nan          nan          nan          nan          nan          nan          nan\r\n",
      "-8.04396e-13    0.0423984 -3.05804e-11  1.52665e-10 -1.07234e-10 -1.76024e-11  2.91432e-12    0.0301449 -2.17631e-12   0.00537922   0.00729038 -4.79826e-13 -0.000174176   -0.0128739  1.57429e-12     0.973645 -1.26664e-10 -8.10264e-12 -9.31822e-11  5.41747e-12 -0.000446012   -0.0229462  5.39048e-10          nan          nan          nan          nan          nan          nan          nan          nan          nan          nan          nan          nan\r\n",
      " 1.50361e-10  2.11218e-10   -0.0363407   -0.0109192   -0.0167762   -0.0174156  9.04565e-11  -2.6942e-10   0.00288442 -2.62761e-11   1.0765e-09   0.00925227 -1.22039e-09 -5.82751e-11  1.19962e-10 -1.26664e-10      1.03687    0.0176956   -0.0205681    0.0205681 -1.51948e-09 -2.12679e-11   0.00299918          nan          nan          nan          nan          nan          nan          nan          nan          nan          nan          nan          nan\r\n",
      " 3.06452e-10 -1.93274e-12    0.0109192    0.0363407   -0.0174156   -0.0167762 -1.01388e-10 -7.28448e-12   0.00288442 -2.97894e-11  2.92645e-11   0.00925227 -1.11478e-09  8.30212e-11  3.21968e-11 -8.10264e-12    0.0176956      1.03687   -0.0205681    0.0205681 -1.56858e-09  4.92518e-11   0.00299918          nan          nan          nan          nan          nan          nan          nan          nan          nan          nan          nan          nan\r\n",
      "-1.92382e-10  1.60181e-10   -0.0169833    0.0176227    0.0210311   -0.0262288 -1.26571e-10 -2.01428e-10   -0.0038005  1.09079e-09  -2.6233e-11   -0.0121908  1.60908e-09 -5.23792e-11 -1.60693e-10 -9.31822e-11   -0.0205681   -0.0205681      1.04836   -0.0291857  1.99543e-09 -1.04306e-10   0.00432979          nan          nan          nan          nan          nan          nan          nan          nan          nan          nan          nan          nan\r\n",
      " 4.05533e-10 -4.08982e-12    0.0176227   -0.0169833    0.0262288   -0.0210311 -1.35565e-10  9.58344e-12    0.0038005 -4.35535e-11  2.27197e-11    0.0121908 -1.46778e-09 -5.32289e-11  4.21321e-11  5.41747e-12    0.0205681    0.0205681   -0.0291857      1.04836 -2.06594e-09  5.52285e-11  -0.00432979          nan          nan          nan          nan          nan          nan          nan          nan          nan          nan          nan          nan\r\n",
      "    0.074572   0.00144948  5.43707e-09 -5.45155e-09 -7.38781e-09 -7.36454e-09   -0.0700161  -0.00136093  4.10092e-09    0.0248079   -0.0175704  1.74199e-09   0.00919348 -0.000303158    0.0362819  0.000705223  1.23027e-09  1.25906e-09 -1.61587e-09  1.65677e-09    -0.195058  8.52623e-12 -3.93591e-10          nan          nan          nan          nan          nan          nan          nan          nan          nan          nan          nan          nan\r\n",
      " -0.00144948     0.074572 -4.13661e-10  4.36669e-10  1.39423e-11  2.85451e-11   0.00136093   -0.0700161 -1.20438e-10    0.0175704    0.0248079 -5.00439e-11 -0.000303158  -0.00919348 -0.000705223    0.0362819  4.54821e-11  4.78847e-12  1.09751e-10 -8.07602e-11  8.52632e-12    -0.195058  6.14465e-09          nan          nan          nan          nan          nan          nan          nan          nan          nan          nan          nan          nan\r\n",
      "-1.17529e-11 -8.00484e-10  -0.00558654   0.00558654   -0.0182161   -0.0182161  5.72748e-11  7.00418e-10   0.00448437 -1.14414e-09 -1.47981e-09   0.00192585 -1.46786e-10  1.19802e-10 -1.55257e-11 -3.11373e-11   0.00564763   0.00564763   0.00301368  -0.00301368 -8.49809e-10  6.30061e-09      1.05351          nan          nan          nan          nan          nan          nan          nan          nan          nan          nan          nan          nan\r\n",
      "        -nan         -nan         -nan         -nan         -nan         -nan         -nan         -nan         -nan         -nan         -nan         -nan         -nan         -nan         -nan         -nan         -nan         -nan         -nan         -nan         -nan         -nan         -nan          nan          nan          nan          nan          nan          nan          nan          nan          nan          nan          nan          nan\r\n",
      "        -nan         -nan         -nan         -nan         -nan         -nan         -nan         -nan         -nan         -nan         -nan         -nan         -nan         -nan         -nan         -nan         -nan         -nan         -nan         -nan         -nan         -nan         -nan         -nan         -nan         -nan         -nan         -nan         -nan         -nan         -nan         -nan         -nan         -nan         -nan\r\n",
      "        -nan         -nan         -nan         -nan         -nan         -nan         -nan         -nan         -nan         -nan         -nan         -nan         -nan         -nan         -nan         -nan         -nan         -nan         -nan         -nan         -nan         -nan         -nan         -nan         -nan         -nan         -nan         -nan         -nan         -nan         -nan         -nan         -nan         -nan         -nan\r\n",
      "        -nan         -nan         -nan         -nan         -nan         -nan         -nan         -nan         -nan         -nan         -nan         -nan         -nan         -nan         -nan         -nan         -nan         -nan         -nan         -nan         -nan         -nan         -nan          nan          nan          nan          nan          nan          nan          nan          nan          nan          nan          nan          nan\r\n",
      "        -nan         -nan         -nan         -nan         -nan         -nan         -nan         -nan         -nan         -nan         -nan         -nan         -nan         -nan         -nan         -nan         -nan         -nan         -nan         -nan         -nan         -nan         -nan          nan          nan          nan          nan          nan          nan          nan          nan          nan          nan          nan          nan\r\n",
      "        -nan         -nan         -nan         -nan         -nan         -nan         -nan         -nan         -nan         -nan         -nan         -nan         -nan         -nan         -nan         -nan         -nan         -nan         -nan         -nan         -nan         -nan         -nan         -nan         -nan         -nan         -nan         -nan         -nan         -nan         -nan         -nan         -nan         -nan         -nan\r\n",
      "        -nan         -nan         -nan         -nan         -nan         -nan         -nan         -nan         -nan         -nan         -nan         -nan         -nan         -nan         -nan         -nan         -nan         -nan         -nan         -nan         -nan         -nan         -nan         -nan         -nan         -nan         -nan         -nan         -nan         -nan         -nan         -nan         -nan         -nan         -nan\r\n",
      "        -nan         -nan         -nan         -nan         -nan         -nan         -nan         -nan         -nan         -nan         -nan         -nan         -nan         -nan         -nan         -nan         -nan         -nan         -nan         -nan         -nan         -nan         -nan          nan          nan          nan          nan          nan          nan          nan          nan          nan          nan          nan          nan\r\n",
      "        -nan         -nan         -nan         -nan         -nan         -nan         -nan         -nan         -nan         -nan         -nan         -nan         -nan         -nan         -nan         -nan         -nan         -nan         -nan         -nan         -nan         -nan         -nan          nan          nan          nan          nan          nan          nan          nan          nan          nan          nan          nan          nan\r\n",
      "        -nan         -nan         -nan         -nan         -nan         -nan         -nan         -nan         -nan         -nan         -nan         -nan         -nan         -nan         -nan         -nan         -nan         -nan         -nan         -nan         -nan         -nan         -nan         -nan          nan          nan          nan         -nan          nan          nan          nan         -nan          nan          nan          nan\r\n",
      "        -nan         -nan         -nan         -nan         -nan         -nan         -nan         -nan         -nan         -nan         -nan         -nan         -nan         -nan         -nan         -nan         -nan         -nan         -nan         -nan         -nan         -nan         -nan         -nan          nan          nan          nan         -nan          nan          nan          nan         -nan          nan          nan          nan\r\n",
      "        -nan         -nan         -nan         -nan         -nan         -nan         -nan         -nan         -nan         -nan         -nan         -nan         -nan         -nan         -nan         -nan         -nan         -nan         -nan         -nan         -nan         -nan         -nan         -nan         -nan         -nan         -nan         -nan         -nan         -nan         -nan         -nan         -nan         -nan         -nan\r\n",
      "B\r\n",
      "   0.0903883 -6.20537e-13  2.83108e-10 -3.57169e-10 -4.85112e-10 -3.85137e-10   -0.0326152   6.2531e-13  3.66711e-10    0.0119202  -0.00879537  1.49744e-10   -0.0481031  0.000650807    0.0477611 -9.23251e-13  9.90135e-11  3.09689e-10 -1.22527e-10  4.10159e-10   -0.0244238  0.000474734  4.31092e-11         -nan         -nan         -nan         -nan         -nan         -nan         -nan         -nan         -nan         -nan         -nan         -nan\r\n",
      "-6.20541e-13    0.0903883 -7.32106e-11  1.73185e-10 -1.25429e-10 -5.13683e-11  6.25259e-13   -0.0326152 -1.82877e-12   0.00879537    0.0119202 -3.86133e-13  0.000650807    0.0481031 -9.23279e-13    0.0477611  2.98341e-10  1.07084e-11  2.25141e-10 -1.44648e-11 -0.000474734   -0.0244238 -7.66358e-10         -nan         -nan         -nan         -nan         -nan         -nan         -nan         -nan         -nan         -nan         -nan         -nan\r\n",
      " 2.83108e-10 -7.32106e-11     0.139158   -0.0343237   -0.0540085   -0.0540085  -8.9724e-11  6.46591e-11    0.0388192   2.4954e-11 -9.94061e-11    0.0189483 -2.03789e-09  6.52286e-11  1.06212e-10 -3.16977e-11    -0.054566   0.00900699   -0.0148568    0.0157169 -4.01817e-10  -9.2776e-11   -0.0315814         -nan         -nan         -nan         -nan         -nan         -nan         -nan         -nan         -nan         -nan         -nan         -nan\r\n",
      "-3.57169e-10  1.73185e-10   -0.0343237     0.139158    0.0540085    0.0540085  1.21046e-10 -1.08436e-10   -0.0388192 -2.44772e-11  1.04914e-10   -0.0189483  2.06715e-09 -2.74811e-11 -2.21444e-10  1.88464e-10  -0.00900699     0.054566    0.0157169   -0.0148568  4.70455e-10 -3.77026e-12    0.0315814         -nan         -nan         -nan         -nan         -nan         -nan         -nan         -nan         -nan         -nan         -nan         -nan\r\n",
      "-4.85112e-10 -1.25429e-10   -0.0540085    0.0540085     0.172504    0.0676704  1.65481e-10  7.40045e-11    -0.052611 -1.21353e-10  2.47842e-11   -0.0256804  2.80116e-09  4.35598e-12 -3.00652e-10 -1.33207e-10     -0.01436   -0.0152201    0.0178484    0.0457246  6.42721e-10 -2.81131e-11   -0.0288948         -nan         -nan         -nan         -nan         -nan         -nan         -nan         -nan         -nan         -nan         -nan         -nan\r\n",
      "-3.85137e-10 -5.13683e-11   -0.0540085    0.0540085    0.0676704     0.172504  1.21705e-10  4.26829e-11    -0.052611 -1.15844e-10  2.43074e-11   -0.0256804  2.76341e-09  3.36222e-11 -1.43886e-10 -1.79744e-11   -0.0152201     -0.01436   -0.0457246   -0.0178484  5.45515e-10 -9.74352e-11   -0.0288948         -nan         -nan         -nan         -nan         -nan         -nan         -nan         -nan         -nan         -nan         -nan         -nan\r\n",
      "  -0.0326152  6.25256e-13  -8.9724e-11  1.21046e-10  1.65481e-10  1.21705e-10     0.236624 -1.37814e-13 -1.35482e-10   -0.0115725   0.00853881 -2.41281e-11  -0.00949852  0.000128509    0.0424653  3.99919e-12   1.6276e-10 -1.23576e-10 -2.25418e-10 -1.65689e-10  -0.00359497  6.98765e-05  5.47127e-12         -nan         -nan         -nan         -nan         -nan         -nan         -nan         -nan         -nan         -nan         -nan         -nan\r\n",
      " 6.25311e-13   -0.0326152  6.46591e-11 -1.08436e-10  7.40045e-11  4.26829e-11 -1.37818e-13     0.236624  3.37033e-12  -0.00853881   -0.0115725  9.79397e-13  0.000128509   0.00949852  3.99927e-12    0.0424653 -4.04408e-10 -1.33016e-11 -3.01502e-10  1.51671e-11 -6.98765e-05  -0.00359497  8.20212e-10         -nan         -nan         -nan         -nan         -nan         -nan         -nan         -nan         -nan         -nan         -nan         -nan\r\n",
      " 3.66711e-10 -1.82877e-12    0.0388192   -0.0388192    -0.052611    -0.052611 -1.35482e-10  3.37033e-12     0.424108  3.29727e-10 -2.45502e-10   -0.0112617 -9.32861e-10  4.52437e-12  1.82485e-10 -2.96639e-12  0.000392502  0.000392502 -0.000517158  0.000517158 -1.09288e-09  3.49659e-11    0.0012126         -nan         -nan         -nan         -nan         -nan         -nan         -nan         -nan         -nan         -nan         -nan         -nan\r\n",
      "   0.0119202   0.00879537   2.4954e-11 -2.44772e-11 -1.21353e-10 -1.15844e-10   -0.0115725  -0.00853881  3.29727e-10     0.446812  9.53676e-13 -1.12194e-10 -0.000385657  0.000292697   0.00868683    0.0064096 -4.73821e-11 -5.32917e-11  1.82916e-09 -7.92885e-11   -0.0144954   -0.0102665 -1.77961e-09         -nan         -nan         -nan         -nan         -nan         -nan         -nan         -nan         -nan         -nan         -nan         -nan\r\n",
      " -0.00879537    0.0119202 -9.94061e-11  1.04914e-10  2.47842e-11  2.43074e-11   0.00853881   -0.0115725 -2.45502e-10  9.53734e-13     0.446812  8.42206e-11  0.000292697  0.000385657   -0.0064096   0.00868683  1.80312e-09  5.32403e-11 -4.69637e-11  4.10541e-11    0.0102665   -0.0144954 -2.39209e-09         -nan         -nan         -nan         -nan         -nan         -nan         -nan         -nan         -nan         -nan         -nan         -nan\r\n",
      " 1.49744e-10 -3.86133e-13    0.0189483   -0.0189483   -0.0256804   -0.0256804 -2.41281e-11  9.79397e-13   -0.0112617 -1.12194e-10  8.42206e-11     0.627074 -6.54358e-10   1.5822e-12  1.02977e-10 -5.58902e-13     0.013255     0.013255   -0.0174647    0.0174647 -2.08966e-10  8.02282e-12  0.000498258         -nan         -nan         -nan         -nan         -nan         -nan         -nan         -nan         -nan         -nan         -nan         -nan\r\n",
      "  -0.0481031  0.000650807 -2.03789e-09  2.06715e-09  2.80116e-09  2.76341e-09  -0.00949852  0.000128509 -9.32861e-10 -0.000385657  0.000292697 -6.54358e-10     0.912954 -7.13533e-13    0.0215518 -0.000291583  -2.1919e-09 -1.97776e-09  2.89025e-09 -2.60378e-09   -0.0227038  0.000748666  5.45474e-11         -nan         -nan         -nan         -nan         -nan         -nan         -nan         -nan         -nan         -nan         -nan         -nan\r\n",
      " 0.000650807    0.0481031  6.52286e-11 -2.74811e-11  4.35598e-12  3.36222e-11  0.000128509   0.00949852  4.52437e-12  0.000292697  0.000385657   1.5822e-12 -7.13527e-13     0.912954 -0.000291583   -0.0215518 -1.23882e-10  1.62592e-10 -1.08666e-10 -1.05469e-10  0.000748666    0.0227038  1.07577e-10         -nan         -nan         -nan         -nan         -nan         -nan         -nan         -nan         -nan         -nan         -nan         -nan\r\n",
      "   0.0477611 -9.23278e-13  1.06212e-10 -2.21444e-10 -3.00652e-10 -1.43886e-10    0.0424653  3.99927e-12  1.82485e-10   0.00868683   -0.0064096  1.02977e-10    0.0215518 -0.000291583     0.952112  2.99037e-12  1.97426e-10  4.90094e-11 -2.64485e-10  6.41109e-11   0.00321145 -6.24219e-05  6.88786e-12         -nan         -nan         -nan         -nan         -nan         -nan         -nan         -nan         -nan         -nan         -nan         -nan\r\n",
      "-9.23255e-13    0.0477611 -3.16977e-11  1.88464e-10 -1.33207e-10 -1.79744e-11   3.9992e-12    0.0424653 -2.96639e-12    0.0064096   0.00868683 -5.58902e-13 -0.000291583   -0.0215518  2.99036e-12     0.952112 -2.09927e-10 -9.55263e-12 -1.54492e-10  6.07566e-12  6.24219e-05   0.00321145  4.80715e-10         -nan         -nan         -nan         -nan         -nan         -nan         -nan         -nan         -nan         -nan         -nan         -nan\r\n",
      " 9.90135e-11  2.98341e-10    -0.054566  -0.00900699     -0.01436   -0.0152201   1.6276e-10 -4.04408e-10  0.000392502 -4.73821e-11  1.80312e-09     0.013255  -2.1919e-09 -1.23882e-10  1.97426e-10 -2.09927e-10      1.07434    0.0333674   -0.0381682    0.0381682  -4.6768e-10 -1.04029e-10    0.0123416         -nan         -nan         -nan         -nan         -nan         -nan         -nan         -nan         -nan         -nan         -nan         -nan\r\n",
      " 3.09689e-10  1.07084e-11   0.00900699     0.054566   -0.0152201     -0.01436 -1.23576e-10 -1.33016e-11  0.000392502 -5.32917e-11  5.32403e-11     0.013255 -1.97776e-09  1.62592e-10  4.90094e-11 -9.55263e-12    0.0333674      1.07434   -0.0381682    0.0381682 -5.88773e-10  6.94427e-11    0.0123416         -nan         -nan         -nan         -nan         -nan         -nan         -nan         -nan         -nan         -nan         -nan         -nan\r\n",
      "-1.22527e-10  2.25141e-10   -0.0148568    0.0157169    0.0178484   -0.0457246 -2.25418e-10 -3.01502e-10 -0.000517158  1.82916e-09 -4.69637e-11   -0.0174647  2.89025e-09 -1.08666e-10 -2.64485e-10 -1.54492e-10   -0.0381682   -0.0381682      1.09566   -0.0546896  6.03592e-10 -1.01933e-10     0.011302         -nan         -nan         -nan         -nan         -nan         -nan         -nan         -nan         -nan         -nan         -nan         -nan\r\n",
      " 4.10159e-10 -1.44648e-11    0.0157169   -0.0148568    0.0457246   -0.0178484 -1.65689e-10  1.51671e-11  0.000517158 -7.92885e-11  4.10541e-11    0.0174647 -2.60378e-09 -1.05469e-10  6.41109e-11  6.07566e-12    0.0381682    0.0381682   -0.0546896      1.09566  -7.7676e-10 -1.88288e-11    -0.011302         -nan         -nan         -nan         -nan         -nan         -nan         -nan         -nan         -nan         -nan         -nan         -nan\r\n",
      "  -0.0559709  -0.00108792 -3.89471e-09  3.95917e-09  5.37411e-09  5.28179e-09  -0.00259781 -5.04944e-05  -1.1221e-09  -0.00900239     0.006376 -2.78563e-10   -0.0177733  0.000586083    0.0179747   0.00034938  5.23713e-11  7.84064e-11 -6.30187e-11   9.8359e-11     0.583856  9.31947e-12 -3.02321e-10         -nan         -nan         -nan         -nan         -nan         -nan         -nan         -nan         -nan         -nan         -nan         -nan\r\n",
      "  0.00108792   -0.0559709   6.4457e-11 -1.55923e-10 -1.07709e-10 -1.73034e-10  5.04944e-05  -0.00259781  3.02697e-11    -0.006376  -0.00900239  7.19752e-12  0.000586083    0.0177733  -0.00034938    0.0179747  1.41596e-10  1.06585e-10  1.15093e-10 -8.87164e-11  9.31958e-12     0.583856  4.55874e-09         -nan         -nan         -nan         -nan         -nan         -nan         -nan         -nan         -nan         -nan         -nan         -nan\r\n",
      " 6.70306e-11 -4.40179e-10    -0.032194     0.032194   -0.0288637   -0.0288637  2.44805e-12  8.79091e-10   0.00259266 -1.64215e-09  -2.2027e-09   0.00132662 -9.56865e-11  7.08573e-11  9.42082e-12  6.09678e-10    0.0137455    0.0137455    0.0109155   -0.0109155 -7.91921e-10  5.06147e-09      2.11582         -nan         -nan         -nan         -nan         -nan         -nan         -nan         -nan         -nan         -nan         -nan         -nan\r\n",
      "        -nan         -nan         -nan         -nan         -nan         -nan         -nan         -nan         -nan         -nan         -nan         -nan         -nan         -nan         -nan         -nan         -nan         -nan         -nan         -nan         -nan         -nan         -nan         -nan         -nan         -nan         -nan         -nan         -nan         -nan         -nan         -nan         -nan         -nan         -nan\r\n",
      "        -nan         -nan         -nan         -nan         -nan         -nan         -nan         -nan         -nan         -nan         -nan         -nan         -nan         -nan         -nan         -nan         -nan         -nan         -nan         -nan         -nan         -nan         -nan         -nan         -nan         -nan         -nan         -nan         -nan         -nan         -nan         -nan         -nan         -nan         -nan\r\n",
      "        -nan         -nan         -nan         -nan         -nan         -nan         -nan         -nan         -nan         -nan         -nan         -nan         -nan         -nan         -nan         -nan         -nan         -nan         -nan         -nan         -nan         -nan         -nan         -nan         -nan         -nan         -nan         -nan         -nan         -nan         -nan         -nan         -nan         -nan         -nan\r\n",
      "        -nan         -nan         -nan         -nan         -nan         -nan         -nan         -nan         -nan         -nan         -nan         -nan         -nan         -nan         -nan         -nan         -nan         -nan         -nan         -nan         -nan         -nan         -nan         -nan         -nan         -nan         -nan         -nan         -nan         -nan         -nan         -nan         -nan         -nan         -nan\r\n",
      "        -nan         -nan         -nan         -nan         -nan         -nan         -nan         -nan         -nan         -nan         -nan         -nan         -nan         -nan         -nan         -nan         -nan         -nan         -nan         -nan         -nan         -nan         -nan         -nan         -nan         -nan         -nan         -nan         -nan         -nan         -nan         -nan         -nan         -nan         -nan\r\n",
      "        -nan         -nan         -nan         -nan         -nan         -nan         -nan         -nan         -nan         -nan         -nan         -nan         -nan         -nan         -nan         -nan         -nan         -nan         -nan         -nan         -nan         -nan         -nan         -nan         -nan         -nan         -nan         -nan         -nan         -nan         -nan         -nan         -nan         -nan         -nan\r\n",
      "        -nan         -nan         -nan         -nan         -nan         -nan         -nan         -nan         -nan         -nan         -nan         -nan         -nan         -nan         -nan         -nan         -nan         -nan         -nan         -nan         -nan         -nan         -nan         -nan         -nan         -nan         -nan         -nan         -nan         -nan         -nan         -nan         -nan         -nan         -nan\r\n",
      "        -nan         -nan         -nan         -nan         -nan         -nan         -nan         -nan         -nan         -nan         -nan         -nan         -nan         -nan         -nan         -nan         -nan         -nan         -nan         -nan         -nan         -nan         -nan         -nan         -nan         -nan         -nan         -nan         -nan         -nan         -nan         -nan         -nan         -nan         -nan\r\n",
      "        -nan         -nan         -nan         -nan         -nan         -nan         -nan         -nan         -nan         -nan         -nan         -nan         -nan         -nan         -nan         -nan         -nan         -nan         -nan         -nan         -nan         -nan         -nan         -nan         -nan         -nan         -nan         -nan         -nan         -nan         -nan         -nan         -nan         -nan         -nan\r\n",
      "        -nan         -nan         -nan         -nan         -nan         -nan         -nan         -nan         -nan         -nan         -nan         -nan         -nan         -nan         -nan         -nan         -nan         -nan         -nan         -nan         -nan         -nan         -nan         -nan         -nan         -nan         -nan         -nan         -nan         -nan         -nan         -nan         -nan         -nan         -nan\r\n",
      "        -nan         -nan         -nan         -nan         -nan         -nan         -nan         -nan         -nan         -nan         -nan         -nan         -nan         -nan         -nan         -nan         -nan         -nan         -nan         -nan         -nan         -nan         -nan         -nan         -nan         -nan         -nan         -nan         -nan         -nan         -nan         -nan         -nan         -nan         -nan\r\n",
      "        -nan         -nan         -nan         -nan         -nan         -nan         -nan         -nan         -nan         -nan         -nan         -nan         -nan         -nan         -nan         -nan         -nan         -nan         -nan         -nan         -nan         -nan         -nan          nan          nan          nan          nan          nan          nan          nan          nan          nan          nan          nan          nan\r\n",
      "an error occurred:\r\n",
      "Small generalized eigenvalue problem failed.\r\n"
     ]
    }
   ],
   "source": [
    "!xtp_tools -c job_name=CO geometry_optimization.maxiter=1 dftpackage.basisset=3-21G dftpackage.auxbasisset=aux-def2-svp gwbse.gw.mode=G0W0 -e dftgwbse -t 4"
   ]
  },
  {
   "cell_type": "markdown",
   "metadata": {},
   "source": [
    "Notice that we are using 4 threads. The results will be stored in a file named `CO_summary.xml` in the current work directory, together with the optimization step in `optimisation.trj` and the orbitals in [hdf5 format](https://www.hdfgroup.org/solutions/hdf5/) saved on `CO.orb`."
   ]
  }
 ],
 "metadata": {
  "kernelspec": {
   "display_name": "Python 3",
   "language": "python",
   "name": "python3"
  },
  "language_info": {
   "codemirror_mode": {
    "name": "ipython",
    "version": 3
   },
   "file_extension": ".py",
   "mimetype": "text/x-python",
   "name": "python",
   "nbconvert_exporter": "python",
   "pygments_lexer": "ipython3",
   "version": "3.11.2"
  }
 },
 "nbformat": 4,
 "nbformat_minor": 4
}
