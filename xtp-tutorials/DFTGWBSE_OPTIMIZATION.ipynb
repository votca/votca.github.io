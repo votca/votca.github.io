{
 "cells": [
  {
   "cell_type": "markdown",
   "metadata": {},
   "source": [
    "## DFT + GWBSE Optimization Using CO"
   ]
  },
  {
   "cell_type": "markdown",
   "metadata": {},
   "source": [
    "## Introduction\n",
    "This tutorial explains how to perform a molecular geometric optimization using the **GWBSE** method. See [the GW Compendium: A Practical Guide to Theoretical Photoemission Spectroscopy](https://doi.org/10.3389/fchem.2019.00377), for an excellent introduction to the method."
   ]
  },
  {
   "cell_type": "markdown",
   "metadata": {},
   "source": [
    "## Requirements\n",
    "* You will need to install **VOTCA** using the instructions described [here](https://github.com/votca/votca/blob/master/share/doc/INSTALL.rst)\n",
    "* Once the installation is completed you need to activate the VOTCA enviroment by running the `VOTCARC.bash` script that has been installed at the bin subfolder for the path that you have provided for the installation step above"
   ]
  },
  {
   "cell_type": "markdown",
   "metadata": {},
   "source": [
    "## Preparing the input\n",
    "To run a DFT-GWBSE calculation we will use the [xtp_tools](https://www.votca.org/xtp/xtp_tools_overview.html) calculator."
   ]
  },
  {
   "cell_type": "markdown",
   "metadata": {},
   "source": [
    "we can now change the calculator mode from single point energy calculation to optimization as follows by adding \n",
    "`-c geometry_optimization.maxiter=1` which enables optimization with one iteration. "
   ]
  },
  {
   "cell_type": "markdown",
   "metadata": {},
   "source": [
    "Because geometry optimsation is quite expensive numerically we chose a smaller basisset and G0W0 Finally, to run the calculation we just need the following command (This still takes a while)"
   ]
  },
  {
   "cell_type": "code",
   "execution_count": 1,
   "metadata": {
    "execution": {
     "iopub.execute_input": "2023-01-20T18:21:49.481411Z",
     "iopub.status.busy": "2023-01-20T18:21:49.481194Z",
     "iopub.status.idle": "2023-01-20T18:22:35.209976Z",
     "shell.execute_reply": "2023-01-20T18:22:35.208487Z"
    }
   },
   "outputs": [
    {
     "name": "stdout",
     "output_type": "stream",
     "text": [
      "==================================================\r\n",
      "========   VOTCA (http://www.votca.org)   ========\r\n",
      "==================================================\r\n",
      "\r\n",
      "please submit bugs to https://github.com/votca/votca/issues\r\n",
      "\r\n",
      "xtp_tools, version 2023-dev gitid: 68bfd9f (compiled Jan 20 2023, 17:50:32)\r\n",
      "\r\n",
      "Initializing tool\r\n",
      "... dftgwbse Evaluating tool\r\n",
      "... dftgwbse  Using 4 threads\r\n",
      "... ... Reading structure from CO.xyz\r\n",
      "... ... Requested geometry optimization of excited state s1\r\n",
      "... ... Initial state: s1\r\n",
      "... ... WARNING: No tracker is used \r\n",
      "... ... Convergence of total energy: 0.000001 Hartree \r\n",
      "... ... Convergence of RMS Force:    0.000030 Hartree/Bohr \r\n",
      "... ... Convergence of Max Force:    0.000100 Hartree/Bohr \r\n",
      "... ... Convergence of RMS Step:     0.000600 Bohr \r\n",
      "... ... Convergence of Max Step:     0.001000 Bohr \r\n",
      "... ... Initial trust radius:        0.018897 BohrA\r\n",
      "    0.307132 -3.11412e-11  4.47561e-11  -2.3092e-10  2.35897e-11   -0.0516061  8.55332e-10  7.78809e-10 -3.22569e-10    0.0181636   -0.0010605 -7.14766e-11    0.0103331    0.0375808 -2.03449e-11    0.0421019 -2.33059e-10  1.30579e-10  -3.0142e-10 -1.07244e-10  0.000481312    -0.108408 -1.28128e-10          nan          nan          nan          nan          nan          nan          nan          nan          nan          nan          nan          nan\r\n",
      "-3.11413e-11     0.307132 -1.47069e-10  7.05455e-11   -0.0516061  2.35899e-11  9.00474e-10  1.08664e-09 -1.97488e-10    0.0010605    0.0181636 -2.25177e-10    0.0375808   -0.0103331    0.0421019 -2.03449e-11 -1.94377e-11  2.13613e-10 -9.75053e-11  4.97513e-12    -0.108408 -0.000481312 -1.35577e-11          nan          nan          nan          nan          nan          nan          nan          nan          nan          nan          nan          nan\r\n",
      " 4.47561e-11 -1.47069e-10     0.320632   0.00926215  1.56713e-10  1.02905e-10    0.0134118    0.0134118  -0.00500156 -5.81875e-11 -1.45449e-11  -0.00213082 -8.97971e-11  1.83767e-10 -1.71785e-10 -2.08496e-11    0.0470662  -0.00128473  -0.00259005    -0.015178  1.82028e-10 -3.06708e-10   -0.0254913          nan          nan          nan          nan          nan          nan          nan          nan          nan          nan          nan          nan\r\n",
      " -2.3092e-10  7.05455e-11   0.00926215     0.320632 -1.70063e-10  3.24036e-10   -0.0134118   -0.0134118   0.00500156 -5.01124e-11  6.86777e-11   0.00213082  7.33871e-11 -1.45327e-10  6.91642e-11 -1.85932e-10  -0.00128473    0.0470662     0.015178   0.00259005 -1.68575e-10  7.91051e-10    0.0254913          nan          nan          nan          nan          nan          nan          nan          nan          nan          nan          nan          nan\r\n",
      " 2.35897e-11   -0.0516061  1.56713e-10 -1.70063e-10     0.490902 -2.90835e-12  1.80076e-09  1.37382e-09 -8.20694e-10 -0.000784722   -0.0134402 -1.98447e-10   0.00770781  -0.00211931    0.0309987  6.72105e-11   -6.508e-11 -1.89677e-10 -1.33789e-10 -2.73813e-10    0.0531267  0.000235874  1.67502e-10          nan          nan          nan          nan          nan          nan          nan          nan          nan          nan          nan          nan\r\n",
      "  -0.0516061  2.35899e-11  1.02905e-10  3.24036e-10 -2.90832e-12     0.490902 -2.54896e-10 -2.68246e-10  1.55195e-10   -0.0134402  0.000784722  1.93209e-11   0.00211931   0.00770781  6.72106e-11    0.0309987  1.91076e-10  -5.1052e-11  9.18935e-11 -1.62863e-10 -0.000235874    0.0531267  2.48297e-10          nan          nan          nan          nan          nan          nan          nan          nan          nan          nan          nan          nan\r\n",
      " 8.55332e-10  9.00474e-10    0.0134118   -0.0134118  1.80076e-09 -2.54896e-10     0.549557     0.219663   -0.0856636 -7.17114e-12  6.44005e-10   -0.0364954 -1.85548e-09  2.97763e-09 -9.22244e-10  3.16024e-10   -0.0113291  -0.00125884    0.0127134    -0.033068  5.11245e-10 -7.46009e-09   -0.0015789          nan          nan          nan          nan          nan          nan          nan          nan          nan          nan          nan          nan\r\n",
      " 7.78809e-10  1.08664e-09    0.0134118   -0.0134118  1.37382e-09 -2.68246e-10     0.219663     0.549557   -0.0856636  4.69617e-11  7.52305e-10   -0.0364954 -1.89392e-09  2.96122e-09 -7.15462e-10  2.13403e-10   0.00125884    0.0113291    -0.033068    0.0127134  4.07069e-11  -7.4429e-09   -0.0015789          nan          nan          nan          nan          nan          nan          nan          nan          nan          nan          nan          nan\r\n",
      "-3.22569e-10 -1.97488e-10  -0.00500156   0.00500156 -8.20694e-10  1.55195e-10   -0.0856636   -0.0856636     0.662947 -1.74978e-10 -2.31603e-10  -0.00632525  4.08685e-10 -7.41137e-10  5.58287e-10 -1.54377e-10    0.0013137   -0.0013137   0.00387773   0.00387773 -9.19175e-10  2.85854e-09   0.00114853          nan          nan          nan          nan          nan          nan          nan          nan          nan          nan          nan          nan\r\n",
      "   0.0181636    0.0010605 -5.81875e-11 -5.01124e-11 -0.000784722   -0.0134402 -7.17114e-12  4.69617e-11 -1.74978e-10     0.680922  1.59389e-12  8.85953e-11  2.70132e-05  7.97363e-05  0.000503419   0.00862224 -3.65961e-10 -3.65353e-11  6.96251e-11  8.83798e-10   -0.0022095    -0.040968 -8.95987e-10          nan          nan          nan          nan          nan          nan          nan          nan          nan          nan          nan          nan\r\n",
      "  -0.0010605    0.0181636 -1.45449e-11  6.86777e-11   -0.0134402  0.000784722  6.44005e-10  7.52305e-10 -2.31603e-10  1.59396e-12     0.680922 -1.12761e-10  7.97363e-05 -2.70132e-05   0.00862224 -0.000503419 -5.77817e-11  8.71955e-10 -5.52002e-10 -1.49506e-10    -0.040968    0.0022095 -8.14892e-10          nan          nan          nan          nan          nan          nan          nan          nan          nan          nan          nan          nan\r\n",
      "-7.14766e-11 -2.25177e-10  -0.00213082   0.00213082 -1.98447e-10  1.93209e-11   -0.0364954   -0.0364954  -0.00632525  8.85953e-11 -1.12761e-10      0.79826  3.98687e-10 -4.68084e-10 -1.58017e-11 -4.96572e-11   0.00464448  -0.00464448    0.0137094    0.0137094  8.88856e-11  8.70721e-10  0.000455263          nan          nan          nan          nan          nan          nan          nan          nan          nan          nan          nan          nan\r\n",
      "   0.0103331    0.0375808 -8.97971e-11  7.33871e-11   0.00770781   0.00211931 -1.85548e-09 -1.89392e-09  4.08685e-10  2.70132e-05  7.97363e-05  3.98687e-10     0.956418  4.27864e-11   -0.0126719  -0.00348423  3.03587e-10 -4.15792e-10  1.05162e-09  1.05101e-09    0.0192825   0.00539404  3.06737e-11          nan          nan          nan          nan          nan          nan          nan          nan          nan          nan          nan          nan\r\n",
      "   0.0375808   -0.0103331  1.83767e-10 -1.45327e-10  -0.00211931   0.00770781  2.97763e-09  2.96122e-09 -7.41137e-10  7.97363e-05 -2.70132e-05 -4.68084e-10  4.27864e-11     0.956418   0.00348423   -0.0126719 -5.75577e-10   5.7619e-10 -1.67349e-09 -1.78569e-09  -0.00539404    0.0192825 -8.01208e-12          nan          nan          nan          nan          nan          nan          nan          nan          nan          nan          nan          nan\r\n",
      "-2.03449e-11    0.0421019 -1.71785e-10  6.91642e-11    0.0309987  6.72106e-11 -9.22244e-10 -7.15462e-10  5.58287e-10  0.000503419   0.00862224 -1.58017e-11   -0.0126719   0.00348423     0.988566  3.79712e-11  8.56121e-12 -1.86225e-10  2.23423e-10 -1.98236e-11   -0.0223628 -9.92872e-05  3.66175e-10          nan          nan          nan          nan          nan          nan          nan          nan          nan          nan          nan          nan\r\n",
      "   0.0421019 -2.03448e-11 -2.08496e-11 -1.85932e-10  6.72105e-11    0.0309987  3.16024e-10  2.13403e-10 -1.54377e-10   0.00862224 -0.000503419 -4.96572e-11  -0.00348423   -0.0126719  3.79713e-11     0.988566  1.22163e-10  1.21083e-10 -1.18979e-11 -1.89562e-10  9.92872e-05   -0.0223628  4.45692e-10          nan          nan          nan          nan          nan          nan          nan          nan          nan          nan          nan          nan\r\n",
      "-2.33059e-10 -1.94377e-11    0.0470662  -0.00128473   -6.508e-11  1.91076e-10   -0.0113291   0.00125884    0.0013137 -3.65961e-10 -5.77817e-11   0.00464448  3.03587e-10 -5.75577e-10  8.56121e-12  1.22163e-10      1.03318  -0.00654614    0.0132184    0.0132184 -5.75007e-11   5.0536e-10  -0.00427424          nan          nan          nan          nan          nan          nan          nan          nan          nan          nan          nan          nan\r\n",
      " 1.30579e-10  2.13613e-10  -0.00128473    0.0470662 -1.89677e-10  -5.1052e-11  -0.00125884    0.0113291   -0.0013137 -3.65353e-11  8.71955e-10  -0.00464448 -4.15792e-10   5.7619e-10 -1.86225e-10  1.21083e-10  -0.00654614      1.03318   -0.0132184   -0.0132184  6.20722e-11 -5.84413e-10   0.00427424          nan          nan          nan          nan          nan          nan          nan          nan          nan          nan          nan          nan\r\n",
      " -3.0142e-10 -9.75053e-11  -0.00259005     0.015178 -1.33789e-10  9.18935e-11    0.0127134    -0.033068   0.00387773  6.96251e-11 -5.52002e-10    0.0137094  1.05162e-09 -1.67349e-09  2.23423e-10 -1.18979e-11    0.0132184   -0.0132184      1.06772    0.0410854 -2.87341e-10  1.40639e-09   0.00204807          nan          nan          nan          nan          nan          nan          nan          nan          nan          nan          nan          nan\r\n",
      "-1.07244e-10  4.97513e-12    -0.015178   0.00259005 -2.73813e-10 -1.62863e-10    -0.033068    0.0127134   0.00387773  8.83798e-10 -1.49506e-10    0.0137094  1.05101e-09 -1.78569e-09 -1.98236e-11 -1.89562e-10    0.0132184   -0.0132184    0.0410854      1.06772 -2.09962e-10  1.41107e-09   0.00204807          nan          nan          nan          nan          nan          nan          nan          nan          nan          nan          nan          nan\r\n",
      "-0.000334082    0.0752465 -2.48725e-10  3.00604e-10   -0.0690159  0.000306419  -1.3755e-09  -1.0075e-09    9.706e-10   0.00166704    0.0309099 -4.53146e-11   -0.0086705   0.00242547    0.0364086 -0.000161648   1.1951e-10  -1.2078e-10  4.87727e-10  4.84937e-10    -0.194424  2.25358e-10  3.79958e-09          nan          nan          nan          nan          nan          nan          nan          nan          nan          nan          nan          nan\r\n",
      "   0.0752465  0.000334082  1.79563e-10  -5.5904e-10 -0.000306419   -0.0690159  5.06034e-09  5.10955e-09 -2.26146e-09    0.0309099  -0.00166704 -7.95695e-10  -0.00242547   -0.0086705  0.000161648    0.0364086 -4.43013e-10  4.48243e-10 -1.20914e-09 -1.21038e-09  2.25358e-10    -0.194424   1.1979e-09          nan          nan          nan          nan          nan          nan          nan          nan          nan          nan          nan          nan\r\n",
      "-3.04748e-10 -4.79471e-10   -0.0141824    0.0141824    4.111e-10  1.86401e-10   0.00439425   0.00439425  -0.00133306 -1.14241e-09 -1.07753e-09  -0.00053428  7.67899e-11  1.04496e-10 -4.14487e-11  1.63487e-10  -0.00597966   0.00597966   0.00149391   0.00149391  3.89396e-09  1.34869e-09      0.95838          nan          nan          nan          nan          nan          nan          nan          nan          nan          nan          nan          nan\r\n",
      "        -nan         -nan         -nan         -nan         -nan         -nan         -nan         -nan         -nan         -nan         -nan         -nan         -nan         -nan         -nan         -nan         -nan         -nan         -nan         -nan         -nan         -nan         -nan          nan          nan          nan          nan          nan          nan          nan          nan          nan          nan          nan          nan\r\n",
      "        -nan         -nan         -nan         -nan         -nan         -nan         -nan         -nan         -nan         -nan         -nan         -nan         -nan         -nan         -nan         -nan         -nan         -nan         -nan         -nan         -nan         -nan         -nan         -nan         -nan         -nan         -nan         -nan         -nan         -nan         -nan         -nan         -nan         -nan         -nan\r\n",
      "        -nan         -nan         -nan         -nan         -nan         -nan         -nan         -nan         -nan         -nan         -nan         -nan         -nan         -nan         -nan         -nan         -nan         -nan         -nan         -nan         -nan         -nan         -nan         -nan         -nan         -nan         -nan         -nan         -nan         -nan         -nan         -nan         -nan         -nan         -nan\r\n",
      "        -nan         -nan         -nan         -nan         -nan         -nan         -nan         -nan         -nan         -nan         -nan         -nan         -nan         -nan         -nan         -nan         -nan         -nan         -nan         -nan         -nan         -nan         -nan          nan          nan          nan          nan          nan          nan          nan          nan          nan          nan          nan          nan\r\n",
      "        -nan         -nan         -nan         -nan         -nan         -nan         -nan         -nan         -nan         -nan         -nan         -nan         -nan         -nan         -nan         -nan         -nan         -nan         -nan         -nan         -nan         -nan         -nan          nan          nan          nan          nan          nan          nan          nan          nan          nan          nan          nan          nan\r\n",
      "        -nan         -nan         -nan         -nan         -nan         -nan         -nan         -nan         -nan         -nan         -nan         -nan         -nan         -nan         -nan         -nan         -nan         -nan         -nan         -nan         -nan         -nan         -nan         -nan         -nan         -nan         -nan         -nan         -nan         -nan         -nan         -nan         -nan         -nan         -nan\r\n",
      "        -nan         -nan         -nan         -nan         -nan         -nan         -nan         -nan         -nan         -nan         -nan         -nan         -nan         -nan         -nan         -nan         -nan         -nan         -nan         -nan         -nan         -nan         -nan         -nan         -nan         -nan         -nan         -nan         -nan         -nan         -nan         -nan         -nan         -nan         -nan\r\n",
      "        -nan         -nan         -nan         -nan         -nan         -nan         -nan         -nan         -nan         -nan         -nan         -nan         -nan         -nan         -nan         -nan         -nan         -nan         -nan         -nan         -nan         -nan         -nan          nan          nan          nan          nan          nan          nan          nan          nan          nan          nan          nan          nan\r\n",
      "        -nan         -nan         -nan         -nan         -nan         -nan         -nan         -nan         -nan         -nan         -nan         -nan         -nan         -nan         -nan         -nan         -nan         -nan         -nan         -nan         -nan         -nan         -nan          nan          nan          nan          nan          nan          nan          nan          nan          nan          nan          nan          nan\r\n",
      "        -nan         -nan         -nan         -nan         -nan         -nan         -nan         -nan         -nan         -nan         -nan         -nan         -nan         -nan         -nan         -nan         -nan         -nan         -nan         -nan         -nan         -nan         -nan         -nan          nan          nan          nan         -nan          nan          nan          nan         -nan          nan          nan          nan\r\n",
      "        -nan         -nan         -nan         -nan         -nan         -nan         -nan         -nan         -nan         -nan         -nan         -nan         -nan         -nan         -nan         -nan         -nan         -nan         -nan         -nan         -nan         -nan         -nan         -nan          nan          nan          nan         -nan          nan          nan          nan         -nan          nan          nan          nan\r\n",
      "        -nan         -nan         -nan         -nan         -nan         -nan         -nan         -nan         -nan         -nan         -nan         -nan         -nan         -nan         -nan         -nan         -nan         -nan         -nan         -nan         -nan         -nan         -nan         -nan         -nan         -nan         -nan         -nan         -nan         -nan         -nan         -nan         -nan         -nan         -nan\r\n",
      "B\r\n",
      "    0.093811 -1.38432e-11  1.68707e-11 -1.31285e-10  1.45082e-11   -0.0328898  3.54411e-10  2.99531e-10 -1.98296e-10    0.0155307  -0.00090678 -3.66134e-11    0.0128128    0.0465992 -2.36385e-11    0.0481429 -2.87492e-10  1.38495e-10 -3.10701e-10  -3.8219e-11  0.000111474   -0.0251078 -4.00985e-10         -nan         -nan         -nan         -nan         -nan         -nan         -nan         -nan         -nan         -nan         -nan         -nan\r\n",
      "-1.38433e-11     0.093811 -9.49508e-11  4.00702e-11   -0.0328898  1.45083e-11  3.69219e-10  4.83634e-10 -1.23145e-10   0.00090678    0.0155307 -1.66771e-10    0.0465992   -0.0128128    0.0481429 -2.36385e-11 -1.29314e-11  2.85413e-10 -7.57841e-11  7.32127e-11   -0.0251078 -0.000111474 -5.11188e-10         -nan         -nan         -nan         -nan         -nan         -nan         -nan         -nan         -nan         -nan         -nan         -nan\r\n",
      " 1.68707e-11 -9.49508e-11     0.105884   0.00529749  1.02853e-10  7.14614e-11   0.00679437   0.00679437  -0.00367796 -5.18312e-11 -2.01648e-11  -0.00167074  -9.6984e-11   2.0382e-10 -2.10776e-10 -2.53796e-11    0.0640746  -0.00170218  -0.00248445   -0.0196342   -6.261e-11 -1.11893e-11   -0.0418854         -nan         -nan         -nan         -nan         -nan         -nan         -nan         -nan         -nan         -nan         -nan         -nan\r\n",
      "-1.31285e-10  4.00702e-11   0.00529749     0.105884 -1.09954e-10  2.29133e-10  -0.00679437  -0.00679437   0.00367796 -5.46525e-11  7.10983e-11   0.00167074  7.37091e-11  -1.5356e-10  7.36878e-11 -2.18537e-10  -0.00170218    0.0640746    0.0196342   0.00248445  1.33675e-10  1.11444e-10    0.0418854         -nan         -nan         -nan         -nan         -nan         -nan         -nan         -nan         -nan         -nan         -nan         -nan\r\n",
      " 1.45082e-11   -0.0328898  1.02853e-10 -1.09954e-10     0.240891 -7.01965e-13  1.10439e-09  8.03797e-10 -6.98435e-10 -0.000843297   -0.0144434 -1.60496e-10   0.00881623  -0.00242408    0.0441772  9.34265e-11 -5.64826e-11 -3.34215e-10 -5.73603e-11 -2.87428e-10  -0.00438142 -1.94528e-05  5.20855e-10         -nan         -nan         -nan         -nan         -nan         -nan         -nan         -nan         -nan         -nan         -nan         -nan\r\n",
      "  -0.0328898  1.45083e-11  7.14614e-11  2.29133e-10 -7.01929e-13     0.240891 -1.39951e-10 -1.47052e-10   1.2444e-10   -0.0144434  0.000843297  9.93846e-12   0.00242408   0.00881623  9.34266e-11    0.0441772  2.79958e-10 -4.98907e-11   1.1145e-10 -2.79249e-10  1.94527e-05  -0.00438142  4.31829e-10         -nan         -nan         -nan         -nan         -nan         -nan         -nan         -nan         -nan         -nan         -nan         -nan\r\n",
      " 3.54411e-10  3.69219e-10   0.00679437  -0.00679437  1.10439e-09 -1.39951e-10     0.221857     0.110675   -0.0629938   -1.363e-12  4.62582e-10   -0.0286153 -1.92859e-09  3.22352e-09 -1.03135e-09  3.29041e-10   -0.0100633  -0.00708636    0.0331063   -0.0292661 -8.01348e-10 -3.84143e-10   0.00293483         -nan         -nan         -nan         -nan         -nan         -nan         -nan         -nan         -nan         -nan         -nan         -nan\r\n",
      " 2.99531e-10  4.83634e-10   0.00679437  -0.00679437  8.03797e-10 -1.47052e-10     0.110675     0.221857   -0.0629938  4.95705e-11  5.69066e-10   -0.0286153 -1.97885e-09  3.20025e-09 -7.87429e-10  1.91953e-10   0.00708636    0.0100633   -0.0292661    0.0331063 -8.98792e-10 -3.12102e-10   0.00293483         -nan         -nan         -nan         -nan         -nan         -nan         -nan         -nan         -nan         -nan         -nan         -nan\r\n",
      "-1.98296e-10 -1.23145e-10  -0.00367796   0.00367796 -6.98435e-10   1.2444e-10   -0.0629938   -0.0629938     0.429278 -2.25276e-10 -2.34123e-10   -0.0121538  4.56752e-10  -9.0895e-10  7.69053e-10 -2.09139e-10 -6.19343e-06  6.19346e-06 -1.82816e-05 -1.82815e-05  -7.4388e-11  5.84298e-10  6.23865e-05         -nan         -nan         -nan         -nan         -nan         -nan         -nan         -nan         -nan         -nan         -nan         -nan\r\n",
      "   0.0155307   0.00090678 -5.18312e-11 -5.46525e-11 -0.000843297   -0.0144434   -1.363e-12  4.95705e-11 -2.25276e-10     0.463967  2.12862e-12  1.17683e-10  0.000207535  0.000612594  0.000604753    0.0103578 -6.16614e-10  -6.2532e-11   1.1199e-10  1.49043e-09 -0.000955094   -0.0177091 -1.86768e-09         -nan         -nan         -nan         -nan         -nan         -nan         -nan         -nan         -nan         -nan         -nan         -nan\r\n",
      " -0.00090678    0.0155307 -2.01648e-11  7.10983e-11   -0.0144434  0.000843297  4.62582e-10  5.69066e-10 -2.34123e-10  2.12872e-12     0.463967 -1.09252e-10  0.000612594 -0.000207535    0.0103578 -0.000604753 -7.67324e-11  1.45517e-09 -8.67429e-10 -1.88283e-10   -0.0177091  0.000955094 -1.77785e-09         -nan         -nan         -nan         -nan         -nan         -nan         -nan         -nan         -nan         -nan         -nan         -nan\r\n",
      "-3.66134e-11 -1.66771e-10  -0.00167074   0.00167074 -1.60496e-10  9.93846e-12   -0.0286153   -0.0286153   -0.0121538  1.17683e-10 -1.09252e-10     0.636067  5.47874e-10 -6.15098e-10 -6.46854e-11 -6.61833e-11   0.00671533  -0.00671533     0.019822     0.019822  1.03281e-10 -8.61584e-12  4.72702e-05         -nan         -nan         -nan         -nan         -nan         -nan         -nan         -nan         -nan         -nan         -nan         -nan\r\n",
      "   0.0128128    0.0465992  -9.6984e-11  7.37091e-11   0.00881623   0.00242408 -1.92859e-09 -1.97885e-09  4.56752e-10  0.000207535  0.000612594  5.47874e-10     0.917068  7.50085e-11   -0.0214937  -0.00590985  5.28101e-10 -7.57923e-10  1.86083e-09  1.85631e-09    0.0223867   0.00626241  1.65309e-10         -nan         -nan         -nan         -nan         -nan         -nan         -nan         -nan         -nan         -nan         -nan         -nan\r\n",
      "   0.0465992   -0.0128128   2.0382e-10  -1.5356e-10  -0.00242408   0.00881623  3.22352e-09  3.20025e-09  -9.0895e-10  0.000612594 -0.000207535 -6.15098e-10  7.50085e-11     0.917068   0.00590985   -0.0214937 -1.02193e-09  1.02646e-09 -2.98431e-09 -3.21413e-09  -0.00626241    0.0223867  1.26275e-10         -nan         -nan         -nan         -nan         -nan         -nan         -nan         -nan         -nan         -nan         -nan         -nan\r\n",
      "-2.36385e-11    0.0481429 -2.10776e-10  7.36878e-11    0.0441772  9.34266e-11 -1.03135e-09 -7.87429e-10  7.69053e-10  0.000604753    0.0103578 -6.46854e-11   -0.0214937   0.00590985     0.981535  7.31918e-11 -3.43498e-12 -3.05797e-10  3.62964e-10 -7.52061e-11   0.00424838  1.88621e-05   3.1732e-10         -nan         -nan         -nan         -nan         -nan         -nan         -nan         -nan         -nan         -nan         -nan         -nan\r\n",
      "   0.0481429 -2.36385e-11 -2.53796e-11 -2.18537e-10  9.34265e-11    0.0441772  3.29041e-10  1.91953e-10 -2.09139e-10    0.0103578 -0.000604753 -6.61833e-11  -0.00590985   -0.0214937  7.31918e-11     0.981535  2.22977e-10  2.15193e-10  -7.3734e-12 -3.16606e-10 -1.88621e-05   0.00424838  6.75721e-10         -nan         -nan         -nan         -nan         -nan         -nan         -nan         -nan         -nan         -nan         -nan         -nan\r\n",
      "-2.87492e-10 -1.29314e-11    0.0640746  -0.00170218 -5.64826e-11  2.79958e-10   -0.0100633   0.00708636 -6.19343e-06 -6.16614e-10 -7.67324e-11   0.00671533  5.28101e-10 -1.02193e-09 -3.43498e-12  2.22977e-10      1.06904   -0.0127723    0.0247005    0.0247005  4.19639e-11  2.29487e-10   -0.0150546         -nan         -nan         -nan         -nan         -nan         -nan         -nan         -nan         -nan         -nan         -nan         -nan\r\n",
      " 1.38495e-10  2.85413e-10  -0.00170218    0.0640746 -3.34215e-10 -4.98907e-11  -0.00708636    0.0100633  6.19346e-06  -6.2532e-11  1.45517e-09  -0.00671533 -7.57923e-10  1.02646e-09 -3.05797e-10  2.15193e-10   -0.0127723      1.06904   -0.0247005   -0.0247005  -1.3891e-10 -2.90548e-10    0.0150546         -nan         -nan         -nan         -nan         -nan         -nan         -nan         -nan         -nan         -nan         -nan         -nan\r\n",
      "-3.10701e-10 -7.57841e-11  -0.00248445    0.0196342 -5.73603e-11   1.1145e-10    0.0331063   -0.0292661 -1.82816e-05   1.1199e-10 -8.67429e-10     0.019822  1.86083e-09 -2.98431e-09  3.62964e-10  -7.3734e-12    0.0247005   -0.0247005      1.13358     0.077314  1.19146e-10  4.33744e-10   0.00544306         -nan         -nan         -nan         -nan         -nan         -nan         -nan         -nan         -nan         -nan         -nan         -nan\r\n",
      " -3.8219e-11  7.32127e-11   -0.0196342   0.00248445 -2.87428e-10 -2.79249e-10   -0.0292661    0.0331063 -1.82815e-05  1.49043e-09 -1.88283e-10     0.019822  1.85631e-09 -3.21413e-09 -7.52061e-11 -3.16606e-10    0.0247005   -0.0247005     0.077314      1.13358  1.80423e-10  3.37067e-10   0.00544306         -nan         -nan         -nan         -nan         -nan         -nan         -nan         -nan         -nan         -nan         -nan         -nan\r\n",
      " 0.000254654   -0.0573567  4.46154e-13  4.61929e-11  -0.00347861  1.54444e-05 -3.29079e-10 -5.33691e-10 -3.81963e-12 -0.000549608   -0.0101907  -2.3278e-11    0.0179519  -0.00502183    0.0191591 -8.50634e-05 -1.87949e-13  9.07896e-11  5.04308e-11  2.62741e-10     0.600541  2.25823e-10  2.81287e-09         -nan         -nan         -nan         -nan         -nan         -nan         -nan         -nan         -nan         -nan         -nan         -nan\r\n",
      "  -0.0573567 -0.000254654 -1.64879e-10  3.71714e-10 -1.54445e-05  -0.00347861 -3.85748e-09 -3.80951e-09  6.45017e-10   -0.0101907  0.000549608  1.38948e-10   0.00502183    0.0179519  8.50633e-05    0.0191591 -1.49277e-10 -6.09642e-11 -1.42154e-10 -5.14491e-11  2.25823e-10     0.600541  7.01002e-11         -nan         -nan         -nan         -nan         -nan         -nan         -nan         -nan         -nan         -nan         -nan         -nan\r\n",
      "-3.28071e-10 -3.21398e-10   -0.0423662    0.0423662   6.0774e-10  5.83075e-10   0.00290483   0.00290483 -0.000441397  -1.6694e-09 -1.60322e-09   -0.0002162  1.09742e-10  1.72958e-10  4.07808e-10   8.2776e-10   -0.0160969    0.0160969   0.00532352   0.00532352   3.1492e-09  5.24919e-10      1.98493         -nan         -nan         -nan         -nan         -nan         -nan         -nan         -nan         -nan         -nan         -nan         -nan\r\n",
      "        -nan         -nan         -nan         -nan         -nan         -nan         -nan         -nan         -nan         -nan         -nan         -nan         -nan         -nan         -nan         -nan         -nan         -nan         -nan         -nan         -nan         -nan         -nan         -nan         -nan         -nan         -nan         -nan         -nan         -nan         -nan         -nan         -nan         -nan         -nan\r\n",
      "        -nan         -nan         -nan         -nan         -nan         -nan         -nan         -nan         -nan         -nan         -nan         -nan         -nan         -nan         -nan         -nan         -nan         -nan         -nan         -nan         -nan         -nan         -nan         -nan         -nan         -nan         -nan         -nan         -nan         -nan         -nan         -nan         -nan         -nan         -nan\r\n",
      "        -nan         -nan         -nan         -nan         -nan         -nan         -nan         -nan         -nan         -nan         -nan         -nan         -nan         -nan         -nan         -nan         -nan         -nan         -nan         -nan         -nan         -nan         -nan         -nan         -nan         -nan         -nan         -nan         -nan         -nan         -nan         -nan         -nan         -nan         -nan\r\n",
      "        -nan         -nan         -nan         -nan         -nan         -nan         -nan         -nan         -nan         -nan         -nan         -nan         -nan         -nan         -nan         -nan         -nan         -nan         -nan         -nan         -nan         -nan         -nan         -nan         -nan         -nan         -nan         -nan         -nan         -nan         -nan         -nan         -nan         -nan         -nan\r\n",
      "        -nan         -nan         -nan         -nan         -nan         -nan         -nan         -nan         -nan         -nan         -nan         -nan         -nan         -nan         -nan         -nan         -nan         -nan         -nan         -nan         -nan         -nan         -nan         -nan         -nan         -nan         -nan         -nan         -nan         -nan         -nan         -nan         -nan         -nan         -nan\r\n",
      "        -nan         -nan         -nan         -nan         -nan         -nan         -nan         -nan         -nan         -nan         -nan         -nan         -nan         -nan         -nan         -nan         -nan         -nan         -nan         -nan         -nan         -nan         -nan         -nan         -nan         -nan         -nan         -nan         -nan         -nan         -nan         -nan         -nan         -nan         -nan\r\n",
      "        -nan         -nan         -nan         -nan         -nan         -nan         -nan         -nan         -nan         -nan         -nan         -nan         -nan         -nan         -nan         -nan         -nan         -nan         -nan         -nan         -nan         -nan         -nan         -nan         -nan         -nan         -nan         -nan         -nan         -nan         -nan         -nan         -nan         -nan         -nan\r\n",
      "        -nan         -nan         -nan         -nan         -nan         -nan         -nan         -nan         -nan         -nan         -nan         -nan         -nan         -nan         -nan         -nan         -nan         -nan         -nan         -nan         -nan         -nan         -nan         -nan         -nan         -nan         -nan         -nan         -nan         -nan         -nan         -nan         -nan         -nan         -nan\r\n",
      "        -nan         -nan         -nan         -nan         -nan         -nan         -nan         -nan         -nan         -nan         -nan         -nan         -nan         -nan         -nan         -nan         -nan         -nan         -nan         -nan         -nan         -nan         -nan         -nan         -nan         -nan         -nan         -nan         -nan         -nan         -nan         -nan         -nan         -nan         -nan\r\n",
      "        -nan         -nan         -nan         -nan         -nan         -nan         -nan         -nan         -nan         -nan         -nan         -nan         -nan         -nan         -nan         -nan         -nan         -nan         -nan         -nan         -nan         -nan         -nan         -nan         -nan         -nan         -nan         -nan         -nan         -nan         -nan         -nan         -nan         -nan         -nan\r\n",
      "        -nan         -nan         -nan         -nan         -nan         -nan         -nan         -nan         -nan         -nan         -nan         -nan         -nan         -nan         -nan         -nan         -nan         -nan         -nan         -nan         -nan         -nan         -nan         -nan         -nan         -nan         -nan         -nan         -nan         -nan         -nan         -nan         -nan         -nan         -nan\r\n",
      "        -nan         -nan         -nan         -nan         -nan         -nan         -nan         -nan         -nan         -nan         -nan         -nan         -nan         -nan         -nan         -nan         -nan         -nan         -nan         -nan         -nan         -nan         -nan          nan          nan          nan          nan          nan          nan          nan          nan          nan          nan          nan          nan\r\n",
      "an error occurred:\r\n",
      "Small generalized eigenvalue problem failed.\r\n"
     ]
    }
   ],
   "source": [
    "!xtp_tools -c job_name=CO geometry_optimization.maxiter=1 dftpackage.basisset=3-21G dftpackage.auxbasisset=aux-def2-svp gwbse.gw.mode=G0W0 -e dftgwbse -t 4"
   ]
  },
  {
   "cell_type": "markdown",
   "metadata": {},
   "source": [
    "Notice that we are using 4 threads. The results will be stored in a file named `CO_summary.xml` in the current work directory, together with the optimization step in `optimisation.trj` and the orbitals in [hdf5 format](https://www.hdfgroup.org/solutions/hdf5/) saved on `CO.orb`."
   ]
  }
 ],
 "metadata": {
  "kernelspec": {
   "display_name": "Python 3",
   "language": "python",
   "name": "python3"
  },
  "language_info": {
   "codemirror_mode": {
    "name": "ipython",
    "version": 3
   },
   "file_extension": ".py",
   "mimetype": "text/x-python",
   "name": "python",
   "nbconvert_exporter": "python",
   "pygments_lexer": "ipython3",
   "version": "3.11.1"
  }
 },
 "nbformat": 4,
 "nbformat_minor": 4
}
