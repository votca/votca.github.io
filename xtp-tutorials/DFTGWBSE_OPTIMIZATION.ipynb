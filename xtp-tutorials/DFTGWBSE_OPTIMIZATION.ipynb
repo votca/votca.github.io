{
 "cells": [
  {
   "cell_type": "markdown",
   "metadata": {},
   "source": [
    "## DFT + GWBSE Optimization Using CO"
   ]
  },
  {
   "cell_type": "markdown",
   "metadata": {},
   "source": [
    "## Introduction\n",
    "This tutorial explains how to perform a molecular geometric optimization using the **GWBSE** method. See [the GW Compendium: A Practical Guide to Theoretical Photoemission Spectroscopy](https://doi.org/10.3389/fchem.2019.00377), for an excellent introduction to the method."
   ]
  },
  {
   "cell_type": "markdown",
   "metadata": {},
   "source": [
    "## Requirements\n",
    "* You will need to install **VOTCA** using the instructions described [here](https://github.com/votca/votca/blob/master/share/doc/INSTALL.rst)\n",
    "* Once the installation is completed you need to activate the VOTCA enviroment by running the `VOTCARC.bash` script that has been installed at the bin subfolder for the path that you have provided for the installation step above"
   ]
  },
  {
   "cell_type": "markdown",
   "metadata": {},
   "source": [
    "## Preparing the input\n",
    "To run a DFT-GWBSE calculation we will use the [xtp_tools](https://www.votca.org/xtp/xtp_tools_overview.html) calculator."
   ]
  },
  {
   "cell_type": "markdown",
   "metadata": {},
   "source": [
    "we can now change the calculator mode from single point energy calculation to optimization as follows by adding \n",
    "`-c geometry_optimization.maxiter=1` which enables optimization with one iteration. "
   ]
  },
  {
   "cell_type": "markdown",
   "metadata": {},
   "source": [
    "Because geometry optimsation is quite expensive numerically we chose a smaller basisset and G0W0 Finally, to run the calculation we just need the following command (This still takes a while)"
   ]
  },
  {
   "cell_type": "code",
   "execution_count": 1,
   "metadata": {
    "execution": {
     "iopub.execute_input": "2021-09-15T18:22:19.328156Z",
     "iopub.status.busy": "2021-09-15T18:22:19.327179Z",
     "iopub.status.idle": "2021-09-15T18:22:55.469369Z",
     "shell.execute_reply": "2021-09-15T18:22:55.470212Z"
    }
   },
   "outputs": [
    {
     "name": "stdout",
     "output_type": "stream",
     "text": [
      "==================================================\r\n",
      "========   VOTCA (http://www.votca.org)   ========\r\n",
      "==================================================\r\n",
      "\r\n",
      "please submit bugs to https://github.com/votca/xtp/issues\r\n",
      "\r\n",
      "xtp_tools, version 2022-dev gitid: fab828f (compiled Sep 15 2021, 18:11:24)\r\n",
      "votca_csg, version 2022-dev gitid: fab828f (compiled Sep 15 2021, 17:53:30)\r\n",
      "votca_tools, version 2022-dev gitid: fab828f (compiled Sep 15 2021, 17:50:06)\r\n",
      "\r\n",
      "Initializing tool\r\n",
      "... dftgwbse Evaluating tool\r\n",
      "... dftgwbse  Using 4 threads\r\n",
      "... ... Reading structure from CO.xyz\r\n",
      "... ... Requested geometry optimization of excited state s1\r\n",
      "... ... Initial state: s1\r\n",
      "... ... WARNING: No tracker is used \r\n",
      "... ... Convergence of total energy: 0.000001 Hartree \r\n",
      "... ... Convergence of RMS Force:    0.000030 Hartree/Bohr \r\n",
      "... ... Convergence of Max Force:    0.000100 Hartree/Bohr \r\n",
      "... ... Convergence of RMS Step:     0.000600 Bohr \r\n",
      "... ... Convergence of Max Step:     0.001000 Bohr \r\n",
      "... ... Initial trust radius:        0.018897 BohrA\r\n",
      "    0.307132 -3.06395e-11   1.7983e-10   5.2007e-10  2.32404e-11   -0.0516061  1.11677e-09 -1.03702e-09 -3.87662e-10   -0.0181647  -0.00104172 -1.10464e-10    0.0103658   -0.0375718 -2.00466e-11    0.0421019  2.08391e-10 -9.07971e-11 -3.57861e-10 -1.59139e-10  0.000479494    -0.108408  -1.8291e-10 -2.56297e-10          nan          nan          nan          nan          nan          nan          nan          nan          nan          nan          nan\r\n",
      "-3.06395e-11     0.307132  3.89091e-10  3.09335e-10   -0.0516061  2.32404e-11 -2.45187e-09  2.79211e-09  8.22091e-10  -0.00104172    0.0181647  3.85166e-10    0.0375718    0.0103658    0.0421019 -2.00465e-11 -1.91521e-10 -7.20138e-12  5.01634e-10  6.19228e-10    -0.108408 -0.000479494 -1.68356e-11  3.62646e-11          nan          nan          nan          nan          nan          nan          nan          nan          nan          nan          nan\r\n",
      "  1.7983e-10  3.89091e-10     0.320605  -0.00928964  -1.3989e-11 -3.03725e-11    -0.013175     0.013175   0.00491298 -1.46114e-10   1.0256e-10   0.00209308  1.21338e-11  2.07237e-10  1.19217e-10 -7.51646e-12    0.0470673  -0.00129686   0.00255564    0.0151834 -9.88644e-10  3.14024e-10   -0.0254859    0.0213111          nan          nan          nan          nan          nan          nan          nan          nan          nan          nan          nan\r\n",
      "  5.2007e-10  3.09335e-10  -0.00928964     0.320605 -2.23454e-11 -4.35097e-10    -0.013175     0.013175   0.00491298 -1.66389e-10  1.48468e-10   0.00209308 -7.92241e-12  1.82355e-10  1.27797e-11  4.05417e-10   0.00129686   -0.0470673    0.0151834   0.00255564 -9.64691e-10 -2.06133e-10   -0.0254859   -0.0213111          nan          nan          nan          nan          nan          nan          nan          nan          nan          nan          nan\r\n",
      " 2.32404e-11   -0.0516061  -1.3989e-11 -2.23454e-11     0.490902 -2.83794e-12 -1.49001e-09  1.08529e-09  6.28853e-10  0.000770825    -0.013441  1.85913e-10   0.00770597   0.00212602    0.0309987  6.61891e-11 -4.61121e-11  3.03105e-10  2.08184e-10  6.15499e-11    0.0531267  0.000234983  -2.0951e-10 -3.53442e-11          nan          nan          nan          nan          nan          nan          nan          nan          nan          nan          nan\r\n",
      "  -0.0516061  2.32404e-11 -3.03725e-11 -4.35097e-10 -2.83795e-12     0.490902 -9.28895e-11  1.01246e-10  6.25431e-11     0.013441  0.000770825 -5.24266e-12   0.00212602  -0.00770597  6.61891e-11    0.0309987 -1.53793e-10  7.15839e-12  8.27058e-11 -1.74287e-10 -0.000234983    0.0531267 -4.45838e-11  1.25459e-10          nan          nan          nan          nan          nan          nan          nan          nan          nan          nan          nan\r\n",
      " 1.11677e-09 -2.45187e-09    -0.013175    -0.013175 -1.49001e-09 -9.28895e-11     0.549585     -0.21969   -0.0856687 -1.43319e-11   -7.249e-10   -0.0364975 -8.34447e-10 -2.62275e-09  6.31699e-10  2.54398e-10    0.0113223   0.00130542    0.0126979   -0.0330725  1.34036e-08 -8.26997e-09   0.00154649  -0.00524659          nan          nan          nan          nan          nan          nan          nan          nan          nan          nan          nan\r\n",
      "-1.03702e-09  2.79211e-09     0.013175     0.013175  1.08529e-09  1.01246e-10     -0.21969     0.549585    0.0856687  6.02401e-11  7.45175e-10    0.0364975  8.59329e-10  2.60269e-09 -2.18766e-10 -1.47961e-10   0.00130542    0.0113223    0.0330725   -0.0126979 -1.39172e-08  8.24247e-09  -0.00154649  -0.00524658          nan          nan          nan          nan          nan          nan          nan          nan          nan          nan          nan\r\n",
      "-3.87662e-10  8.22091e-10   0.00491298   0.00491298  6.28853e-10  6.25431e-11   -0.0856687    0.0856687     0.662947   1.8002e-10   5.8185e-10  -0.00632525  2.93321e-10  7.01704e-10 -3.36771e-10 -9.71576e-11  -0.00131306   0.00131306   0.00387794   0.00387794 -4.33975e-09  3.05353e-09  -0.00112636  2.07575e-09          nan          nan          nan          nan          nan          nan          nan          nan          nan          nan          nan\r\n",
      "  -0.0181647  -0.00104172 -1.46114e-10 -1.66389e-10  0.000770825     0.013441 -1.43319e-11  6.02401e-11   1.8002e-10     0.680922 -1.60215e-12 -8.83657e-11 -2.70001e-05  7.97407e-05 -0.000494503  -0.00862276 -3.87315e-10 -1.47582e-13 -8.09522e-11 -8.90401e-10   0.00216782    0.0409702 -6.68865e-10  9.94677e-10          nan          nan          nan          nan          nan          nan          nan          nan          nan          nan          nan\r\n",
      " -0.00104172    0.0181647   1.0256e-10  1.48468e-10    -0.013441  0.000770825   -7.249e-10  7.45175e-10   5.8185e-10 -1.60213e-12     0.680922 -6.20487e-11  7.97407e-05      2.7e-05   0.00862275 -0.000494503  4.19761e-12 -8.13646e-10 -3.78066e-10  9.39693e-12   -0.0409702   0.00216782  8.09464e-10  5.49316e-10          nan          nan          nan          nan          nan          nan          nan          nan          nan          nan          nan\r\n",
      "-1.10464e-10  3.85166e-10   0.00209308   0.00209308  1.85913e-10 -5.24266e-12   -0.0364975    0.0364975  -0.00632525 -8.83657e-11 -6.20487e-11      0.79826   -1.192e-11  3.26486e-10  1.10195e-10 -5.77002e-11  -0.00464223   0.00464223    0.0137101    0.0137101 -1.73227e-09  9.75735e-10 -0.000446527  8.45224e-10          nan          nan          nan          nan          nan          nan          nan          nan          nan          nan          nan\r\n",
      "   0.0103658    0.0375718  1.21338e-11 -7.92241e-12   0.00770597   0.00212602 -8.34447e-10  8.59329e-10  2.93321e-10 -2.70001e-05  7.97407e-05   -1.192e-11     0.956418 -4.28069e-11   -0.0126689  -0.00349525 -1.23821e-10  2.37456e-10  6.54786e-10  4.32417e-10    0.0192778   0.00541048  6.71594e-12   2.6527e-11          nan          nan          nan          nan          nan          nan          nan          nan          nan          nan          nan\r\n",
      "  -0.0375718    0.0103658  2.07237e-10  1.82355e-10   0.00212602  -0.00770597 -2.62275e-09  2.60269e-09  7.01704e-10  7.97407e-05      2.7e-05  3.26486e-10 -4.28069e-11     0.956418  -0.00349525    0.0126689 -4.23144e-10  6.45513e-10  1.49159e-09  1.60522e-09   0.00541048   -0.0192778 -8.93032e-11 -1.17249e-10          nan          nan          nan          nan          nan          nan          nan          nan          nan          nan          nan\r\n",
      "-2.00466e-11    0.0421019  1.19217e-10  1.27797e-11    0.0309987  6.61891e-11  6.31699e-10 -2.18766e-10 -3.36771e-10 -0.000494503   0.00862275  1.10195e-10   -0.0126689  -0.00349525     0.988566  3.74317e-11 -2.91779e-11  1.10966e-10 -3.58167e-11  6.17026e-11   -0.0223628 -9.89121e-05 -3.29953e-10 -4.36542e-11          nan          nan          nan          nan          nan          nan          nan          nan          nan          nan          nan\r\n",
      "   0.0421019 -2.00465e-11 -7.51646e-12  4.05417e-10  6.61891e-11    0.0309987  2.54398e-10 -1.47961e-10 -9.71576e-11  -0.00862276 -0.000494503 -5.77002e-11  -0.00349525    0.0126689  3.74317e-11     0.988566  7.00252e-12  9.05169e-11 -6.74993e-11 -1.49288e-10  9.89122e-05   -0.0223628 -1.73216e-10   2.1453e-10          nan          nan          nan          nan          nan          nan          nan          nan          nan          nan          nan\r\n",
      " 2.08391e-10 -1.91521e-10    0.0470673   0.00129686 -4.61121e-11 -1.53793e-10    0.0113223   0.00130542  -0.00131306 -3.87315e-10  4.19761e-12  -0.00464223 -1.23821e-10 -4.23144e-10 -2.91779e-11  7.00252e-12      1.03318  -0.00654179   -0.0132127   -0.0132127  8.23805e-10 -5.52291e-10  -0.00427719  7.95255e-05          nan          nan          nan          nan          nan          nan          nan          nan          nan          nan          nan\r\n",
      "-9.07971e-11 -7.20138e-12  -0.00129686   -0.0470673  3.03105e-10  7.15839e-12   0.00130542    0.0113223   0.00131306 -1.47582e-13 -8.13646e-10   0.00464223  2.37456e-10  6.45513e-10  1.10966e-10  9.05169e-11  -0.00654179      1.03318    0.0132127    0.0132127 -7.77158e-10  4.50373e-10   0.00427719  7.95263e-05          nan          nan          nan          nan          nan          nan          nan          nan          nan          nan          nan\r\n",
      "-3.57861e-10  5.01634e-10   0.00255564    0.0151834  2.08184e-10  8.27058e-11    0.0126979    0.0330725   0.00387794 -8.09522e-11 -3.78066e-10    0.0137101  6.54786e-10  1.49159e-09 -3.58167e-11 -6.74993e-11   -0.0132127    0.0132127      1.06773    0.0410898 -2.36755e-09  1.58746e-09  -0.00203909 -0.000172298          nan          nan          nan          nan          nan          nan          nan          nan          nan          nan          nan\r\n",
      "-1.59139e-10  6.19228e-10    0.0151834   0.00255564  6.15499e-11 -1.74287e-10   -0.0330725   -0.0126979   0.00387794 -8.90401e-10  9.39693e-12    0.0137101  4.32417e-10  1.60522e-09  6.17026e-11 -1.49288e-10   -0.0132127    0.0132127    0.0410898      1.06773 -2.46857e-09  1.54026e-09  -0.00203909    0.0001723          nan          nan          nan          nan          nan          nan          nan          nan          nan          nan          nan\r\n",
      " -0.00033282    0.0752465   6.8746e-10  7.32379e-10   -0.0690159  0.000305262 -8.05793e-09  8.33553e-09  3.16329e-09   -0.0016356    0.0309116  1.54304e-09  -0.00866842  -0.00243286    0.0364086 -0.000161037 -5.57243e-10  5.56681e-10  1.77574e-09  1.77924e-09    -0.194424  2.21782e-10 -4.21836e-09 -6.23152e-10          nan          nan          nan          nan          nan          nan          nan          nan          nan          nan          nan\r\n",
      "   0.0752465   0.00033282  1.08066e-12  2.85402e-10 -0.000305262   -0.0690159  5.49069e-09 -5.53325e-09 -2.38409e-09   -0.0309116   -0.0016356 -8.87114e-10  -0.00243286   0.00866842  0.000161037    0.0364086  4.80599e-10 -4.76353e-10 -1.28125e-09  -1.2798e-09  2.21782e-10    -0.194424 -5.54366e-09  2.69525e-09          nan          nan          nan          nan          nan          nan          nan          nan          nan          nan          nan\r\n",
      " 5.99129e-10  5.29781e-10   -0.0141893   -0.0141893  -3.6889e-10 -5.51693e-10  -0.00432449   0.00432449   0.00131227 -1.02977e-09  1.08959e-09  0.000526139 -8.35311e-11    8.183e-11  4.06949e-11  2.51661e-10  -0.00597684   0.00597684  -0.00150157  -0.00150157 -4.42871e-09 -5.45758e-09     0.958309  1.22933e-08          nan          nan          nan          nan          nan          nan          nan          nan          nan          nan          nan\r\n",
      "-3.85494e-10  1.35177e-10  -0.00593896   0.00593896 -3.07357e-10 -6.48618e-12  0.000976421  0.000976415 -1.19417e-09  8.85693e-10  5.42627e-10 -6.01848e-10  3.47015e-11  -2.4338e-10 -1.00121e-10  1.87588e-10   0.00406025   0.00406025  -0.00231005   0.00231005 -6.41789e-10  3.03828e-09  1.24316e-08    0.0944289          nan          nan          nan          nan          nan          nan          nan          nan          nan          nan          nan\r\n",
      "        -nan         -nan         -nan         -nan         -nan         -nan         -nan         -nan         -nan         -nan         -nan         -nan         -nan         -nan         -nan         -nan         -nan         -nan         -nan         -nan         -nan         -nan         -nan         -nan         -nan         -nan         -nan         -nan         -nan         -nan         -nan         -nan         -nan         -nan         -nan\r\n",
      "        -nan         -nan         -nan         -nan         -nan         -nan         -nan         -nan         -nan         -nan         -nan         -nan         -nan         -nan         -nan         -nan         -nan         -nan         -nan         -nan         -nan         -nan         -nan         -nan         -nan         -nan         -nan         -nan         -nan         -nan         -nan         -nan         -nan         -nan         -nan\r\n",
      "        -nan         -nan         -nan         -nan         -nan         -nan         -nan         -nan         -nan         -nan         -nan         -nan         -nan         -nan         -nan         -nan         -nan         -nan         -nan         -nan         -nan         -nan         -nan         -nan          nan          nan          nan          nan          nan          nan          nan          nan          nan          nan          nan\r\n",
      "        -nan         -nan         -nan         -nan         -nan         -nan         -nan         -nan         -nan         -nan         -nan         -nan         -nan         -nan         -nan         -nan         -nan         -nan         -nan         -nan         -nan         -nan         -nan         -nan          nan          nan          nan          nan          nan          nan          nan          nan          nan          nan          nan\r\n",
      "        -nan         -nan         -nan         -nan         -nan         -nan         -nan         -nan         -nan         -nan         -nan         -nan         -nan         -nan         -nan         -nan         -nan         -nan         -nan         -nan         -nan         -nan         -nan         -nan         -nan         -nan         -nan         -nan         -nan         -nan         -nan         -nan         -nan         -nan         -nan\r\n",
      "        -nan         -nan         -nan         -nan         -nan         -nan         -nan         -nan         -nan         -nan         -nan         -nan         -nan         -nan         -nan         -nan         -nan         -nan         -nan         -nan         -nan         -nan         -nan         -nan         -nan         -nan         -nan         -nan         -nan         -nan         -nan         -nan         -nan         -nan         -nan\r\n",
      "        -nan         -nan         -nan         -nan         -nan         -nan         -nan         -nan         -nan         -nan         -nan         -nan         -nan         -nan         -nan         -nan         -nan         -nan         -nan         -nan         -nan         -nan         -nan         -nan          nan          nan          nan          nan          nan          nan          nan          nan          nan          nan          nan\r\n",
      "        -nan         -nan         -nan         -nan         -nan         -nan         -nan         -nan         -nan         -nan         -nan         -nan         -nan         -nan         -nan         -nan         -nan         -nan         -nan         -nan         -nan         -nan         -nan         -nan          nan          nan          nan          nan          nan          nan          nan          nan          nan          nan          nan\r\n",
      "        -nan         -nan         -nan         -nan         -nan         -nan         -nan         -nan         -nan         -nan         -nan         -nan         -nan         -nan         -nan         -nan         -nan         -nan         -nan         -nan         -nan         -nan         -nan         -nan          nan          nan          nan         -nan          nan          nan          nan         -nan          nan          nan          nan\r\n",
      "        -nan         -nan         -nan         -nan         -nan         -nan         -nan         -nan         -nan         -nan         -nan         -nan         -nan         -nan         -nan         -nan         -nan         -nan         -nan         -nan         -nan         -nan         -nan         -nan          nan          nan          nan         -nan          nan          nan          nan         -nan          nan          nan          nan\r\n",
      "        -nan         -nan         -nan         -nan         -nan         -nan         -nan         -nan         -nan         -nan         -nan         -nan         -nan         -nan         -nan         -nan         -nan         -nan         -nan         -nan         -nan         -nan         -nan         -nan         -nan         -nan         -nan         -nan         -nan         -nan         -nan         -nan         -nan         -nan         -nan\r\n",
      "B\r\n",
      "    0.093811 -1.36178e-11  9.61535e-11  3.20854e-10  1.42925e-11   -0.0328898  4.68304e-10 -4.11336e-10 -2.38547e-10   -0.0155317  -0.00089072 -6.35474e-11    0.0128533   -0.0465881 -2.32907e-11    0.0481429  2.59216e-10 -1.01331e-10 -3.59608e-10 -8.42218e-11  0.000111053   -0.0251078  4.90488e-10 -5.48566e-10         -nan         -nan         -nan         -nan         -nan         -nan         -nan         -nan         -nan         -nan         -nan\r\n",
      "-1.36178e-11     0.093811  2.01259e-10  1.44292e-10   -0.0328898  1.42925e-11 -9.67721e-10  1.19242e-09  5.07307e-10  -0.00089072    0.0155317   2.5484e-10    0.0465881    0.0128533    0.0481429 -2.32906e-11 -1.64349e-10 -1.11037e-10  4.29757e-10  5.87642e-10   -0.0251078 -0.000111053  5.38526e-10  1.70563e-10         -nan         -nan         -nan         -nan         -nan         -nan         -nan         -nan         -nan         -nan         -nan\r\n",
      " 9.61535e-11  2.01259e-10     0.105871  -0.00531141  -1.8643e-11 -2.58759e-11  -0.00667444   0.00667444   0.00361282  -1.3614e-10  8.75724e-11   0.00164115  2.42386e-11  2.30008e-10  1.50964e-10 -1.30681e-11    0.0640704  -0.00171299   0.00245391    0.0196578 -7.99204e-11  1.94528e-10    -0.041887    0.0156131         -nan         -nan         -nan         -nan         -nan         -nan         -nan         -nan         -nan         -nan         -nan\r\n",
      " 3.20854e-10  1.44292e-10  -0.00531141     0.105871 -2.21993e-11 -3.15389e-10  -0.00667444   0.00667444   0.00361282 -1.60334e-10  1.30147e-10   0.00164115 -2.64427e-12  1.93164e-10  9.16939e-12  5.05895e-10   0.00171299   -0.0640704    0.0196578   0.00245391 -5.32998e-12 -4.78941e-11    -0.041887   -0.0156131         -nan         -nan         -nan         -nan         -nan         -nan         -nan         -nan         -nan         -nan         -nan\r\n",
      " 1.42925e-11   -0.0328898  -1.8643e-11 -2.21993e-11     0.240891 -6.66509e-13 -9.44029e-10  6.54515e-10  5.49398e-10  0.000828361   -0.0144443  1.60932e-10   0.00881412   0.00243175    0.0441772  9.20089e-11 -4.10365e-11  4.24908e-10  2.15399e-10  1.15451e-11  -0.00438142 -1.93793e-05 -5.21184e-10 -2.96615e-10         -nan         -nan         -nan         -nan         -nan         -nan         -nan         -nan         -nan         -nan         -nan\r\n",
      "  -0.0328898  1.42925e-11 -2.58759e-11 -3.15389e-10  -6.6652e-13     0.240891 -4.37202e-11  4.72765e-11  4.46832e-11    0.0144443  0.000828361 -1.06021e-11   0.00243175  -0.00881412  9.20089e-11    0.0441772 -2.23135e-10  1.92806e-11  1.02574e-10 -2.81297e-10  1.93793e-05  -0.00438142 -4.88415e-10  5.03677e-11         -nan         -nan         -nan         -nan         -nan         -nan         -nan         -nan         -nan         -nan         -nan\r\n",
      " 4.68304e-10 -9.67721e-10  -0.00667444  -0.00667444 -9.44029e-10 -4.37202e-11     0.221871    -0.110689   -0.0629975 -1.79152e-11 -5.48439e-10    -0.028617 -1.00125e-09  -2.9011e-09   7.9448e-10  2.58575e-10    0.0100568   0.00714717    0.0330871   -0.0292703  1.48723e-09  -5.3042e-10  -0.00289505  -0.00432915         -nan         -nan         -nan         -nan         -nan         -nan         -nan         -nan         -nan         -nan         -nan\r\n",
      "-4.11336e-10  1.19242e-09   0.00667444   0.00667444  6.54515e-10  4.72765e-11    -0.110689     0.221871    0.0629975  6.04903e-11  5.72632e-10     0.028617  1.03809e-09  2.87422e-09 -2.75517e-10  -1.1678e-10   0.00714717    0.0100568    0.0292703   -0.0330871 -1.72929e-09  4.54657e-10   0.00289505  -0.00432915         -nan         -nan         -nan         -nan         -nan         -nan         -nan         -nan         -nan         -nan         -nan\r\n",
      "-2.38547e-10  5.07307e-10   0.00361282   0.00361282  5.49398e-10  4.46832e-11   -0.0629975    0.0629975     0.429278  2.30993e-10  6.84383e-10   -0.0121538  4.22091e-10  8.97497e-10 -4.70446e-10 -1.29901e-10  6.19042e-06 -6.19045e-06 -1.82826e-05 -1.82825e-05 -1.01347e-09  6.37839e-10 -5.64491e-05  5.23258e-10         -nan         -nan         -nan         -nan         -nan         -nan         -nan         -nan         -nan         -nan         -nan\r\n",
      "  -0.0155317  -0.00089072  -1.3614e-10 -1.60334e-10  0.000828361    0.0144443 -1.79152e-11  6.04903e-11  2.30993e-10     0.463967 -2.13965e-12 -1.17868e-10 -0.000207435  0.000612628 -0.000594043   -0.0103585 -6.64421e-10  5.19795e-12  -1.3404e-10 -1.50639e-09  0.000937079    0.0177101 -1.63366e-09  1.82811e-09         -nan         -nan         -nan         -nan         -nan         -nan         -nan         -nan         -nan         -nan         -nan\r\n",
      " -0.00089072    0.0155317  8.75724e-11  1.30147e-10   -0.0144443  0.000828361 -5.48439e-10  5.72632e-10  6.84383e-10 -2.13961e-12     0.463967 -1.23373e-10  0.000612628  0.000207435    0.0103585 -0.000594043  2.66119e-11 -1.39897e-09 -6.98218e-10 -3.89949e-11   -0.0177101  0.000937079   1.7828e-09   9.8947e-10         -nan         -nan         -nan         -nan         -nan         -nan         -nan         -nan         -nan         -nan         -nan\r\n",
      "-6.35474e-11   2.5484e-10   0.00164115   0.00164115  1.60932e-10 -1.06021e-11    -0.028617     0.028617   -0.0121538 -1.17868e-10 -1.23373e-10     0.636067 -4.92879e-11  4.09129e-10  1.95667e-10  -8.2809e-11  -0.00671207   0.00671207    0.0198231    0.0198231 -9.92503e-11  2.31524e-12 -4.42533e-05   1.0451e-10         -nan         -nan         -nan         -nan         -nan         -nan         -nan         -nan         -nan         -nan         -nan\r\n",
      "   0.0128533    0.0465881  2.42386e-11 -2.64427e-12   0.00881412   0.00243175 -1.00125e-09  1.03809e-09  4.22091e-10 -0.000207435  0.000612628 -4.92879e-11     0.917068 -7.50484e-11   -0.0214886  -0.00592854 -2.20508e-10  4.53219e-10  1.22876e-09  7.76599e-10    0.0223814    0.0062815 -1.02185e-10  6.44406e-11         -nan         -nan         -nan         -nan         -nan         -nan         -nan         -nan         -nan         -nan         -nan\r\n",
      "  -0.0465881    0.0128533  2.30008e-10  1.93164e-10   0.00243175  -0.00881412  -2.9011e-09  2.87422e-09  8.97497e-10  0.000612628  0.000207435  4.09129e-10 -7.50483e-11     0.917068  -0.00592854    0.0214886 -7.39078e-10  1.19123e-09  2.67331e-09  2.90602e-09    0.0062815   -0.0223814 -6.27298e-11  -4.2896e-10         -nan         -nan         -nan         -nan         -nan         -nan         -nan         -nan         -nan         -nan         -nan\r\n",
      "-2.32907e-11    0.0481429  1.50964e-10  9.16939e-12    0.0441772   9.2009e-11   7.9448e-10 -2.75517e-10 -4.70446e-10 -0.000594043    0.0103585  1.95667e-10   -0.0214886  -0.00592854     0.981535  7.21539e-11 -5.41611e-11  1.86625e-10 -5.44428e-11  1.35573e-10   0.00424838  1.87909e-05 -2.61191e-10 -8.02444e-11         -nan         -nan         -nan         -nan         -nan         -nan         -nan         -nan         -nan         -nan         -nan\r\n",
      "   0.0481429 -2.32906e-11 -1.30681e-11  5.05895e-10   9.2009e-11    0.0441772  2.58575e-10  -1.1678e-10 -1.29901e-10   -0.0103585 -0.000594043  -8.2809e-11  -0.00592854    0.0214886  7.21539e-11     0.981535  2.92993e-11  1.60717e-10 -1.09383e-10 -2.41847e-10 -1.87908e-05   0.00424838  1.75256e-10  3.88306e-10         -nan         -nan         -nan         -nan         -nan         -nan         -nan         -nan         -nan         -nan         -nan\r\n",
      " 2.59216e-10 -1.64349e-10    0.0640704   0.00171299 -4.10365e-11 -2.23135e-10    0.0100568   0.00714717  6.19042e-06 -6.64421e-10  2.66119e-11  -0.00671207 -2.20508e-10 -7.39078e-10 -5.41611e-11  2.92993e-11      1.06903   -0.0127642   -0.0246899   -0.0246899   3.9388e-10 -2.10557e-10    -0.015056    0.0055989         -nan         -nan         -nan         -nan         -nan         -nan         -nan         -nan         -nan         -nan         -nan\r\n",
      "-1.01331e-10 -1.11037e-10  -0.00171299   -0.0640704  4.24908e-10  1.92806e-11   0.00714717    0.0100568 -6.19045e-06  5.19795e-12 -1.39897e-09   0.00671207  4.53219e-10  1.19123e-09  1.86625e-10  1.60717e-10   -0.0127642      1.06903    0.0246899    0.0246899 -2.18567e-10 -1.48657e-12     0.015056    0.0055989         -nan         -nan         -nan         -nan         -nan         -nan         -nan         -nan         -nan         -nan         -nan\r\n",
      "-3.59608e-10  4.29757e-10   0.00245391    0.0196578  2.15399e-10  1.02574e-10    0.0330871    0.0292703 -1.82826e-05  -1.3404e-10 -6.98218e-10    0.0198231  1.22876e-09  2.67331e-09 -5.44428e-11 -1.09383e-10   -0.0246899    0.0246899      1.13359    0.0773222 -8.79561e-10  5.99879e-10  -0.00543747  -0.00340958         -nan         -nan         -nan         -nan         -nan         -nan         -nan         -nan         -nan         -nan         -nan\r\n",
      "-8.42218e-11  5.87642e-10    0.0196578   0.00245391  1.15451e-11 -2.81297e-10   -0.0292703   -0.0330871 -1.82825e-05 -1.50639e-09 -3.89949e-11    0.0198231  7.76599e-10  2.90602e-09  1.35573e-10 -2.41847e-10   -0.0246899    0.0246899    0.0773222      1.13359 -1.09083e-09  4.24742e-10  -0.00543747   0.00340958         -nan         -nan         -nan         -nan         -nan         -nan         -nan         -nan         -nan         -nan         -nan\r\n",
      " 0.000253692   -0.0573567 -4.73151e-10 -4.21193e-10  -0.00347861  1.53861e-05  7.51724e-09 -7.82089e-09 -1.20413e-09  0.000539241   -0.0101913 -2.34299e-10    0.0179476   0.00503714    0.0191591  -8.4742e-05  9.06666e-11 -7.13501e-11   1.6602e-10 -5.19297e-12     0.600541  2.22226e-10 -3.19244e-09 -2.13953e-10         -nan         -nan         -nan         -nan         -nan         -nan         -nan         -nan         -nan         -nan         -nan\r\n",
      "  -0.0573567 -0.000253692  3.45207e-10  4.23969e-11 -1.53861e-05  -0.00347861 -4.34589e-09  4.29252e-09  7.17355e-10    0.0101913  0.000539241  1.52083e-10   0.00503714   -0.0179476   8.4742e-05    0.0191591  1.00885e-10 -2.71801e-10 -3.23774e-11 -5.08823e-11  2.22226e-10     0.600541 -5.04362e-09  3.65534e-09         -nan         -nan         -nan         -nan         -nan         -nan         -nan         -nan         -nan         -nan         -nan\r\n",
      "  1.9819e-10  3.36938e-10   -0.0423678   -0.0423678 -5.91185e-10 -4.72966e-10  -0.00286425   0.00286425  0.000438312  -1.5021e-09  1.61583e-09  0.000214455 -5.06086e-11 -4.22975e-11 -3.64375e-10   1.5327e-10   -0.0160958    0.0160958  -0.00532512  -0.00532512 -3.64913e-09 -5.04791e-09      1.98482  1.57118e-08         -nan         -nan         -nan         -nan         -nan         -nan         -nan         -nan         -nan         -nan         -nan\r\n",
      "-5.76533e-10  1.24214e-10     0.017607    -0.017607   -2.556e-10  7.44363e-11  -0.00489894  -0.00489893  1.11749e-09  1.75735e-09  9.91633e-10  3.46967e-10  8.31452e-11 -4.81077e-10 -1.02436e-10  4.10039e-10   0.00675943   0.00675943  -0.00400089   0.00400089 -3.67898e-10  4.12847e-09  1.58369e-08     0.779398         -nan         -nan         -nan         -nan         -nan         -nan         -nan         -nan         -nan         -nan         -nan\r\n",
      "        -nan         -nan         -nan         -nan         -nan         -nan         -nan         -nan         -nan         -nan         -nan         -nan         -nan         -nan         -nan         -nan         -nan         -nan         -nan         -nan         -nan         -nan         -nan         -nan         -nan         -nan         -nan         -nan         -nan         -nan         -nan         -nan         -nan         -nan         -nan\r\n",
      "        -nan         -nan         -nan         -nan         -nan         -nan         -nan         -nan         -nan         -nan         -nan         -nan         -nan         -nan         -nan         -nan         -nan         -nan         -nan         -nan         -nan         -nan         -nan         -nan         -nan         -nan         -nan         -nan         -nan         -nan         -nan         -nan         -nan         -nan         -nan\r\n",
      "        -nan         -nan         -nan         -nan         -nan         -nan         -nan         -nan         -nan         -nan         -nan         -nan         -nan         -nan         -nan         -nan         -nan         -nan         -nan         -nan         -nan         -nan         -nan         -nan         -nan         -nan         -nan         -nan         -nan         -nan         -nan         -nan         -nan         -nan         -nan\r\n",
      "        -nan         -nan         -nan         -nan         -nan         -nan         -nan         -nan         -nan         -nan         -nan         -nan         -nan         -nan         -nan         -nan         -nan         -nan         -nan         -nan         -nan         -nan         -nan         -nan         -nan         -nan         -nan         -nan         -nan         -nan         -nan         -nan         -nan         -nan         -nan\r\n",
      "        -nan         -nan         -nan         -nan         -nan         -nan         -nan         -nan         -nan         -nan         -nan         -nan         -nan         -nan         -nan         -nan         -nan         -nan         -nan         -nan         -nan         -nan         -nan         -nan         -nan         -nan         -nan         -nan         -nan         -nan         -nan         -nan         -nan         -nan         -nan\r\n",
      "        -nan         -nan         -nan         -nan         -nan         -nan         -nan         -nan         -nan         -nan         -nan         -nan         -nan         -nan         -nan         -nan         -nan         -nan         -nan         -nan         -nan         -nan         -nan         -nan         -nan         -nan         -nan         -nan         -nan         -nan         -nan         -nan         -nan         -nan         -nan\r\n",
      "        -nan         -nan         -nan         -nan         -nan         -nan         -nan         -nan         -nan         -nan         -nan         -nan         -nan         -nan         -nan         -nan         -nan         -nan         -nan         -nan         -nan         -nan         -nan         -nan         -nan         -nan         -nan         -nan         -nan         -nan         -nan         -nan         -nan         -nan         -nan\r\n",
      "        -nan         -nan         -nan         -nan         -nan         -nan         -nan         -nan         -nan         -nan         -nan         -nan         -nan         -nan         -nan         -nan         -nan         -nan         -nan         -nan         -nan         -nan         -nan         -nan         -nan         -nan         -nan         -nan         -nan         -nan         -nan         -nan         -nan         -nan         -nan\r\n",
      "        -nan         -nan         -nan         -nan         -nan         -nan         -nan         -nan         -nan         -nan         -nan         -nan         -nan         -nan         -nan         -nan         -nan         -nan         -nan         -nan         -nan         -nan         -nan         -nan         -nan         -nan         -nan         -nan         -nan         -nan         -nan         -nan         -nan         -nan         -nan\r\n",
      "        -nan         -nan         -nan         -nan         -nan         -nan         -nan         -nan         -nan         -nan         -nan         -nan         -nan         -nan         -nan         -nan         -nan         -nan         -nan         -nan         -nan         -nan         -nan         -nan         -nan         -nan         -nan         -nan         -nan         -nan         -nan         -nan         -nan         -nan         -nan\r\n",
      "        -nan         -nan         -nan         -nan         -nan         -nan         -nan         -nan         -nan         -nan         -nan         -nan         -nan         -nan         -nan         -nan         -nan         -nan         -nan         -nan         -nan         -nan         -nan         -nan          nan          nan          nan          nan          nan          nan          nan          nan          nan          nan          nan\r\n",
      "an error occurred:\r\n",
      "Small generalized eigenvalue problem failed.\r\n"
     ]
    }
   ],
   "source": [
    "!xtp_tools -c job_name=CO geometry_optimization.maxiter=1 dftpackage.basisset=3-21G dftpackage.auxbasisset=aux-def2-svp gwbse.gw.mode=G0W0 -e dftgwbse -t 4"
   ]
  },
  {
   "cell_type": "markdown",
   "metadata": {},
   "source": [
    "Notice that we are using 4 threads. The results will be stored in a file named `CO_summary.xml` in the current work directory, together with the optimization step in `optimisation.trj` and the orbitals in [hdf5 format](https://www.hdfgroup.org/solutions/hdf5/) saved on `CO.orb`."
   ]
  }
 ],
 "metadata": {
  "kernelspec": {
   "display_name": "Python 3",
   "language": "python",
   "name": "python3"
  },
  "language_info": {
   "codemirror_mode": {
    "name": "ipython",
    "version": 3
   },
   "file_extension": ".py",
   "mimetype": "text/x-python",
   "name": "python",
   "nbconvert_exporter": "python",
   "pygments_lexer": "ipython3",
   "version": "3.9.6"
  }
 },
 "nbformat": 4,
 "nbformat_minor": 4
}
