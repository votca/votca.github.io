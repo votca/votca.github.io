{
 "cells": [
  {
   "cell_type": "markdown",
   "metadata": {},
   "source": [
    "## DFT + GWBSE Optimization Using CO"
   ]
  },
  {
   "cell_type": "markdown",
   "metadata": {},
   "source": [
    "## Introduction\n",
    "This tutorial explains how to perform a molecular geometric optimization using the **GWBSE** method. See [the GW Compendium: A Practical Guide to Theoretical Photoemission Spectroscopy](https://doi.org/10.3389/fchem.2019.00377), for an excellent introduction to the method."
   ]
  },
  {
   "cell_type": "markdown",
   "metadata": {},
   "source": [
    "## Requirements\n",
    "* You will need to install **VOTCA** using the instructions described [here](https://github.com/votca/votca/blob/master/share/doc/INSTALL.rst)\n",
    "* Once the installation is completed you need to activate the VOTCA enviroment by running the `VOTCARC.bash` script that has been installed at the bin subfolder for the path that you have provided for the installation step above"
   ]
  },
  {
   "cell_type": "markdown",
   "metadata": {},
   "source": [
    "## Preparing the input\n",
    "To run a DFT-GWBSE calculation we will use the [xtp_tools](https://www.votca.org/xtp/xtp_tools_overview.html) calculator."
   ]
  },
  {
   "cell_type": "markdown",
   "metadata": {},
   "source": [
    "we can now change the calculator mode from single point energy calculation to optimization as follows by adding \n",
    "`-c geometry_optimization.maxiter=1` which enables optimization with one iteration. "
   ]
  },
  {
   "cell_type": "markdown",
   "metadata": {},
   "source": [
    "Because geometry optimsation is quite expensive numerically we chose a smaller basisset and G0W0 Finally, to run the calculation we just need the following command (This still takes a while)"
   ]
  },
  {
   "cell_type": "code",
   "execution_count": 1,
   "metadata": {
    "execution": {
     "iopub.execute_input": "2022-10-21T06:48:13.421323Z",
     "iopub.status.busy": "2022-10-21T06:48:13.420758Z",
     "iopub.status.idle": "2022-10-21T06:48:51.907622Z",
     "shell.execute_reply": "2022-10-21T06:48:51.906018Z"
    }
   },
   "outputs": [
    {
     "name": "stdout",
     "output_type": "stream",
     "text": [
      "==================================================\r\n",
      "========   VOTCA (http://www.votca.org)   ========\r\n",
      "==================================================\r\n",
      "\r\n",
      "please submit bugs to https://github.com/votca/xtp/issues\r\n",
      "\r\n",
      "xtp_tools, version 2023-dev gitid: 613916e (compiled Oct 21 2022, 06:39:14)\r\n",
      "votca_csg, version 2023-dev gitid: 613916e (compiled Oct 21 2022, 06:21:43)\r\n",
      "votca_tools, version 2023-dev gitid: 613916e (compiled Oct 21 2022, 06:18:44)\r\n",
      "\r\n",
      "Initializing tool\r\n",
      "... dftgwbse Evaluating tool\r\n",
      "... dftgwbse  Using 4 threads\r\n",
      "... ... Reading structure from CO.xyz\r\n",
      "... ... Requested geometry optimization of excited state s1\r\n",
      "... ... Initial state: s1\r\n",
      "... ... WARNING: No tracker is used \r\n",
      "... ... Convergence of total energy: 0.000001 Hartree \r\n",
      "... ... Convergence of RMS Force:    0.000030 Hartree/Bohr \r\n",
      "... ... Convergence of Max Force:    0.000100 Hartree/Bohr \r\n",
      "... ... Convergence of RMS Step:     0.000600 Bohr \r\n",
      "... ... Convergence of Max Step:     0.001000 Bohr \r\n",
      "... ... Initial trust radius:        0.018897 BohrA\r\n",
      "    0.307132 -3.10576e-11  4.46537e-11 -2.30812e-10  2.35354e-11   -0.0516061  8.55525e-10  7.78989e-10 -3.22603e-10    0.0181637  -0.00105858 -7.15156e-11    0.0103671    0.0375714 -2.02986e-11    0.0421019 -2.33161e-10  1.30844e-10 -3.01326e-10 -1.07064e-10  0.000482357    -0.108408 -1.28158e-10          nan          nan          nan          nan          nan          nan          nan          nan          nan          nan          nan          nan\r\n",
      "-3.10576e-11     0.307132 -1.47205e-10  7.06684e-11   -0.0516061  2.35354e-11  9.00326e-10  1.08648e-09 -1.97433e-10   0.00105858    0.0181637 -2.25165e-10    0.0375714   -0.0103671    0.0421019 -2.02986e-11 -1.94001e-11  2.13662e-10 -9.72956e-11   5.0217e-12    -0.108408 -0.000482357 -1.34872e-11          nan          nan          nan          nan          nan          nan          nan          nan          nan          nan          nan          nan\r\n",
      " 4.46537e-11 -1.47205e-10      0.32063   0.00926499  1.56579e-10  1.02961e-10    0.0133875    0.0133875  -0.00499249 -5.81966e-11 -1.46281e-11  -0.00212696 -8.94591e-11   1.8352e-10  -1.7172e-10  -2.0895e-11    0.0470539  -0.00128386  -0.00258757    -0.015217  1.82113e-10 -3.05883e-10   -0.0254905          nan          nan          nan          nan          nan          nan          nan          nan          nan          nan          nan          nan\r\n",
      "-2.30812e-10  7.06684e-11   0.00926499      0.32063   -1.699e-10  3.23981e-10   -0.0133875   -0.0133875   0.00499249 -5.01122e-11   6.8742e-11   0.00212696  7.30866e-11 -1.45064e-10  6.90849e-11  -1.8588e-10  -0.00128386    0.0470539     0.015217   0.00258757 -1.68631e-10  7.90224e-10    0.0254905          nan          nan          nan          nan          nan          nan          nan          nan          nan          nan          nan          nan\r\n",
      " 2.35354e-11   -0.0516061  1.56579e-10   -1.699e-10     0.490902 -2.89373e-12  1.80083e-09  1.37388e-09 -8.20721e-10 -0.000783299   -0.0134403  -1.9845e-10   0.00770589   -0.0021263    0.0309987  6.70474e-11  -6.5323e-11 -1.89552e-10  -1.3394e-10  -2.7375e-10    0.0531267  0.000236386  1.67514e-10          nan          nan          nan          nan          nan          nan          nan          nan          nan          nan          nan          nan\r\n",
      "  -0.0516061  2.35354e-11  1.02961e-10  3.23981e-10 -2.89375e-12     0.490902 -2.54653e-10 -2.67973e-10  1.55055e-10   -0.0134403  0.000783299  1.92873e-11    0.0021263   0.00770589  6.70474e-11    0.0309987  1.90951e-10 -5.11414e-11  9.18208e-11 -1.63054e-10 -0.000236386    0.0531267  2.48343e-10          nan          nan          nan          nan          nan          nan          nan          nan          nan          nan          nan          nan\r\n",
      " 8.55525e-10  9.00326e-10    0.0133875   -0.0133875  1.80083e-09 -2.54653e-10      0.54956     0.219666   -0.0856641   -7.116e-12  6.43995e-10   -0.0364956  -1.8533e-09  2.97901e-09 -9.22299e-10    3.159e-10   -0.0113554    -0.001274    0.0127108   -0.0330592  5.12603e-10  -7.4601e-09  -0.00157291          nan          nan          nan          nan          nan          nan          nan          nan          nan          nan          nan          nan\r\n",
      " 7.78989e-10  1.08648e-09    0.0133875   -0.0133875  1.37388e-09 -2.67973e-10     0.219666      0.54956   -0.0856641  4.69978e-11  7.52304e-10   -0.0364956 -1.89176e-09  2.96264e-09 -7.15524e-10  2.13265e-10     0.001274    0.0113554   -0.0330592    0.0127108  4.20661e-11 -7.44288e-09  -0.00157291          nan          nan          nan          nan          nan          nan          nan          nan          nan          nan          nan          nan\r\n",
      "-3.22603e-10 -1.97433e-10  -0.00499249   0.00499249 -8.20721e-10  1.55055e-10   -0.0856641   -0.0856641     0.662947 -1.74994e-10 -2.31591e-10  -0.00632525   4.0814e-10 -7.41437e-10  5.58314e-10 -1.54282e-10    0.0013168   -0.0013168   0.00387667   0.00387667 -9.19688e-10  2.85837e-09   0.00114525          nan          nan          nan          nan          nan          nan          nan          nan          nan          nan          nan          nan\r\n",
      "   0.0181637   0.00105858 -5.81966e-11 -5.01122e-11 -0.000783299   -0.0134403   -7.116e-12  4.69978e-11 -1.74994e-10     0.680922  1.58557e-12  8.85881e-11   2.7077e-05  7.97146e-05  0.000502506   0.00862229 -3.65311e-10 -3.65873e-11  6.95862e-11  8.84056e-10  -0.00220477   -0.0409683 -8.96062e-10          nan          nan          nan          nan          nan          nan          nan          nan          nan          nan          nan          nan\r\n",
      " -0.00105858    0.0181637 -1.46281e-11   6.8742e-11   -0.0134403  0.000783299  6.43995e-10  7.52304e-10 -2.31591e-10  1.58562e-12     0.680922 -1.12767e-10  7.97146e-05  -2.7077e-05   0.00862229 -0.000502506 -5.79036e-11  8.72373e-10 -5.51363e-10 -1.49464e-10   -0.0409683   0.00220477   -8.148e-10          nan          nan          nan          nan          nan          nan          nan          nan          nan          nan          nan          nan\r\n",
      "-7.15156e-11 -2.25165e-10  -0.00212696   0.00212696  -1.9845e-10  1.92873e-11   -0.0364956   -0.0364956  -0.00632525  8.85881e-11 -1.12767e-10      0.79826  3.98343e-10 -4.68377e-10 -1.57933e-11 -4.96601e-11   0.00465545  -0.00465545    0.0137057    0.0137057  8.87286e-11  8.70736e-10  0.000453939          nan          nan          nan          nan          nan          nan          nan          nan          nan          nan          nan          nan\r\n",
      "   0.0103671    0.0375714 -8.94591e-11  7.30866e-11   0.00770589    0.0021263  -1.8533e-09 -1.89176e-09   4.0814e-10   2.7077e-05  7.97146e-05  3.98343e-10     0.956418  4.28699e-11   -0.0126688  -0.00349571  3.04003e-10 -4.16209e-10  1.05007e-09  1.04945e-09    0.0192775   0.00541169  3.06117e-11          nan          nan          nan          nan          nan          nan          nan          nan          nan          nan          nan          nan\r\n",
      "   0.0375714   -0.0103671   1.8352e-10 -1.45064e-10   -0.0021263   0.00770589  2.97901e-09  2.96264e-09 -7.41437e-10  7.97146e-05  -2.7077e-05 -4.68377e-10  4.28699e-11     0.956418   0.00349571   -0.0126688 -5.77222e-10  5.77842e-10  -1.6738e-09   -1.786e-09  -0.00541169    0.0192775 -7.93224e-12          nan          nan          nan          nan          nan          nan          nan          nan          nan          nan          nan          nan\r\n",
      "-2.02986e-11    0.0421019  -1.7172e-10  6.90849e-11    0.0309987  6.70474e-11 -9.22299e-10 -7.15524e-10  5.58314e-10  0.000502506   0.00862229 -1.57933e-11   -0.0126688   0.00349571     0.988566  3.78904e-11  8.54048e-12 -1.86409e-10  2.23287e-10 -1.98095e-11   -0.0223628 -9.95028e-05  3.66065e-10          nan          nan          nan          nan          nan          nan          nan          nan          nan          nan          nan          nan\r\n",
      "   0.0421019 -2.02986e-11  -2.0895e-11  -1.8588e-10  6.70474e-11    0.0309987    3.159e-10  2.13265e-10 -1.54282e-10   0.00862229 -0.000502506 -4.96601e-11  -0.00349571   -0.0126688  3.78904e-11     0.988566  1.22025e-10  1.21072e-10 -1.17789e-11 -1.89647e-10  9.95028e-05   -0.0223628  4.45757e-10          nan          nan          nan          nan          nan          nan          nan          nan          nan          nan          nan          nan\r\n",
      "-2.33161e-10 -1.94001e-11    0.0470539  -0.00128386  -6.5323e-11  1.90951e-10   -0.0113554     0.001274    0.0013168 -3.65311e-10 -5.79036e-11   0.00465545  3.04003e-10 -5.77222e-10  8.54048e-12  1.22025e-10      1.03321  -0.00656731     0.013246     0.013246 -5.77661e-11  5.06479e-10  -0.00427276          nan          nan          nan          nan          nan          nan          nan          nan          nan          nan          nan          nan\r\n",
      " 1.30844e-10  2.13662e-10  -0.00128386    0.0470539 -1.89552e-10 -5.11414e-11    -0.001274    0.0113554   -0.0013168 -3.65873e-11  8.72373e-10  -0.00465545 -4.16209e-10  5.77842e-10 -1.86409e-10  1.21072e-10  -0.00656731      1.03321    -0.013246    -0.013246  6.24027e-11 -5.85528e-10   0.00427276          nan          nan          nan          nan          nan          nan          nan          nan          nan          nan          nan          nan\r\n",
      "-3.01326e-10 -9.72956e-11  -0.00258757     0.015217  -1.3394e-10  9.18208e-11    0.0127108   -0.0330592   0.00387667  6.95862e-11 -5.51363e-10    0.0137057  1.05007e-09  -1.6738e-09  2.23287e-10 -1.17789e-11     0.013246    -0.013246       1.0677    0.0410642 -2.87546e-10  1.40588e-09     0.002051          nan          nan          nan          nan          nan          nan          nan          nan          nan          nan          nan          nan\r\n",
      "-1.07064e-10   5.0217e-12    -0.015217   0.00258757  -2.7375e-10 -1.63054e-10   -0.0330592    0.0127108   0.00387667  8.84056e-10 -1.49464e-10    0.0137057  1.04945e-09   -1.786e-09 -1.98095e-11 -1.89647e-10     0.013246    -0.013246    0.0410642       1.0677 -2.10171e-10  1.41062e-09     0.002051          nan          nan          nan          nan          nan          nan          nan          nan          nan          nan          nan          nan\r\n",
      "-0.000334807    0.0752465 -2.48675e-10  3.00531e-10   -0.0690159  0.000307084 -1.37643e-09 -1.00843e-09  9.71002e-10   0.00166347    0.0309101 -4.51721e-11  -0.00866827   0.00243341    0.0364086 -0.000161999   1.1998e-10 -1.21251e-10  4.87849e-10   4.8506e-10    -0.194424  2.24703e-10   3.7992e-09          nan          nan          nan          nan          nan          nan          nan          nan          nan          nan          nan          nan\r\n",
      "   0.0752465  0.000334807   1.7897e-10 -5.58449e-10 -0.000307084   -0.0690159  5.06015e-09  5.10933e-09 -2.26128e-09    0.0309101  -0.00166347 -7.95701e-10  -0.00243341  -0.00866827  0.000161999    0.0364086 -4.43959e-10  4.49188e-10 -1.20869e-09 -1.20994e-09  2.24703e-10    -0.194424  1.19864e-09          nan          nan          nan          nan          nan          nan          nan          nan          nan          nan          nan          nan\r\n",
      "-3.04803e-10 -4.79423e-10   -0.0141829    0.0141829  4.11049e-10  1.86439e-10   0.00439016   0.00439016  -0.00133204 -1.14246e-09 -1.07746e-09 -0.000533927  7.68976e-11  1.04383e-10 -4.14767e-11  1.63497e-10  -0.00597801   0.00597801   0.00149993   0.00149993  3.89357e-09  1.34932e-09      0.95837          nan          nan          nan          nan          nan          nan          nan          nan          nan          nan          nan          nan\r\n",
      "        -nan         -nan         -nan         -nan         -nan         -nan         -nan         -nan         -nan         -nan         -nan         -nan         -nan         -nan         -nan         -nan         -nan         -nan         -nan         -nan         -nan         -nan         -nan          nan          nan          nan          nan          nan          nan          nan          nan          nan          nan          nan          nan\r\n",
      "        -nan         -nan         -nan         -nan         -nan         -nan         -nan         -nan         -nan         -nan         -nan         -nan         -nan         -nan         -nan         -nan         -nan         -nan         -nan         -nan         -nan         -nan         -nan         -nan         -nan         -nan         -nan         -nan         -nan         -nan         -nan         -nan         -nan         -nan         -nan\r\n",
      "        -nan         -nan         -nan         -nan         -nan         -nan         -nan         -nan         -nan         -nan         -nan         -nan         -nan         -nan         -nan         -nan         -nan         -nan         -nan         -nan         -nan         -nan         -nan         -nan         -nan         -nan         -nan         -nan         -nan         -nan         -nan         -nan         -nan         -nan         -nan\r\n",
      "        -nan         -nan         -nan         -nan         -nan         -nan         -nan         -nan         -nan         -nan         -nan         -nan         -nan         -nan         -nan         -nan         -nan         -nan         -nan         -nan         -nan         -nan         -nan          nan          nan          nan          nan          nan          nan          nan          nan          nan          nan          nan          nan\r\n",
      "        -nan         -nan         -nan         -nan         -nan         -nan         -nan         -nan         -nan         -nan         -nan         -nan         -nan         -nan         -nan         -nan         -nan         -nan         -nan         -nan         -nan         -nan         -nan          nan          nan          nan          nan          nan          nan          nan          nan          nan          nan          nan          nan\r\n",
      "        -nan         -nan         -nan         -nan         -nan         -nan         -nan         -nan         -nan         -nan         -nan         -nan         -nan         -nan         -nan         -nan         -nan         -nan         -nan         -nan         -nan         -nan         -nan         -nan         -nan         -nan         -nan         -nan         -nan         -nan         -nan         -nan         -nan         -nan         -nan\r\n",
      "        -nan         -nan         -nan         -nan         -nan         -nan         -nan         -nan         -nan         -nan         -nan         -nan         -nan         -nan         -nan         -nan         -nan         -nan         -nan         -nan         -nan         -nan         -nan         -nan         -nan         -nan         -nan         -nan         -nan         -nan         -nan         -nan         -nan         -nan         -nan\r\n",
      "        -nan         -nan         -nan         -nan         -nan         -nan         -nan         -nan         -nan         -nan         -nan         -nan         -nan         -nan         -nan         -nan         -nan         -nan         -nan         -nan         -nan         -nan         -nan          nan          nan          nan          nan          nan          nan          nan          nan          nan          nan          nan          nan\r\n",
      "        -nan         -nan         -nan         -nan         -nan         -nan         -nan         -nan         -nan         -nan         -nan         -nan         -nan         -nan         -nan         -nan         -nan         -nan         -nan         -nan         -nan         -nan         -nan          nan          nan          nan          nan          nan          nan          nan          nan          nan          nan          nan          nan\r\n",
      "        -nan         -nan         -nan         -nan         -nan         -nan         -nan         -nan         -nan         -nan         -nan         -nan         -nan         -nan         -nan         -nan         -nan         -nan         -nan         -nan         -nan         -nan         -nan         -nan          nan          nan          nan         -nan          nan          nan          nan         -nan          nan          nan          nan\r\n",
      "        -nan         -nan         -nan         -nan         -nan         -nan         -nan         -nan         -nan         -nan         -nan         -nan         -nan         -nan         -nan         -nan         -nan         -nan         -nan         -nan         -nan         -nan         -nan         -nan          nan          nan          nan         -nan          nan          nan          nan         -nan          nan          nan          nan\r\n",
      "        -nan         -nan         -nan         -nan         -nan         -nan         -nan         -nan         -nan         -nan         -nan         -nan         -nan         -nan         -nan         -nan         -nan         -nan         -nan         -nan         -nan         -nan         -nan         -nan         -nan         -nan         -nan         -nan         -nan         -nan         -nan         -nan         -nan         -nan         -nan\r\n",
      "B\r\n",
      "    0.093811 -1.38053e-11  1.68264e-11 -1.31237e-10  1.44745e-11   -0.0328898  3.54497e-10  2.99608e-10 -1.98318e-10    0.0155308 -0.000905135 -3.66423e-11     0.012855    0.0465876 -2.35844e-11    0.0481429 -2.87543e-10  1.38775e-10 -3.10593e-10 -3.79859e-11  0.000111716   -0.0251078 -4.01071e-10         -nan         -nan         -nan         -nan         -nan         -nan         -nan         -nan         -nan         -nan         -nan         -nan\r\n",
      "-1.38053e-11     0.093811 -9.50131e-11  4.01244e-11   -0.0328898  1.44745e-11  3.69158e-10  4.83569e-10 -1.23111e-10  0.000905135    0.0155308 -1.66764e-10    0.0465876    -0.012855    0.0481429 -2.35843e-11 -1.28329e-11   2.8544e-10 -7.55204e-11  7.32474e-11   -0.0251078 -0.000111717 -5.11078e-10         -nan         -nan         -nan         -nan         -nan         -nan         -nan         -nan         -nan         -nan         -nan         -nan\r\n",
      " 1.68264e-11 -9.50131e-11     0.105883   0.00529892  1.02776e-10  7.14949e-11   0.00678209   0.00678209  -0.00367129 -5.18408e-11 -2.02289e-11  -0.00166771 -9.66214e-11  2.03554e-10 -2.10704e-10 -2.54271e-11    0.0640581  -0.00170126  -0.00248272   -0.0196889 -6.25039e-11 -1.11695e-11   -0.0418852         -nan         -nan         -nan         -nan         -nan         -nan         -nan         -nan         -nan         -nan         -nan         -nan\r\n",
      "-1.31237e-10  4.01244e-11   0.00529892     0.105883 -1.09857e-10    2.291e-10  -0.00678209  -0.00678209   0.00367129 -5.46513e-11  7.11438e-11   0.00166771  7.33955e-11 -1.53272e-10  7.36002e-11 -2.18481e-10  -0.00170126    0.0640581    0.0196889   0.00248272  1.33573e-10   1.1142e-10    0.0418852         -nan         -nan         -nan         -nan         -nan         -nan         -nan         -nan         -nan         -nan         -nan         -nan\r\n",
      " 1.44745e-11   -0.0328898  1.02776e-10 -1.09857e-10     0.240891 -6.92996e-13  1.10443e-09  8.03833e-10 -6.98457e-10 -0.000841767   -0.0144435 -1.60497e-10   0.00881403  -0.00243207    0.0441772  9.32004e-11 -5.67459e-11 -3.34146e-10 -5.76213e-11 -2.87361e-10  -0.00438142  -1.9495e-05   5.2082e-10         -nan         -nan         -nan         -nan         -nan         -nan         -nan         -nan         -nan         -nan         -nan         -nan\r\n",
      "  -0.0328898  1.44745e-11  7.14949e-11    2.291e-10 -6.93028e-13     0.240891 -1.39807e-10 -1.46888e-10  1.24321e-10   -0.0144435  0.000841767  9.91132e-12   0.00243207   0.00881403  9.32004e-11    0.0441772  2.79751e-10 -5.00116e-11  1.11385e-10 -2.79507e-10   1.9495e-05  -0.00438142  4.31909e-10         -nan         -nan         -nan         -nan         -nan         -nan         -nan         -nan         -nan         -nan         -nan         -nan\r\n",
      " 3.54497e-10  3.69158e-10   0.00678209  -0.00678209  1.10443e-09 -1.39807e-10     0.221859     0.110677   -0.0629942 -1.31939e-12  4.62572e-10   -0.0286155 -1.92623e-09  3.22495e-09  -1.0314e-09  3.28904e-10   -0.0100866  -0.00711964    0.0330985   -0.0292583 -8.01291e-10 -3.84311e-10   0.00293628         -nan         -nan         -nan         -nan         -nan         -nan         -nan         -nan         -nan         -nan         -nan         -nan\r\n",
      " 2.99608e-10  4.83569e-10   0.00678209  -0.00678209  8.03833e-10 -1.46888e-10     0.110677     0.221859   -0.0629942  4.95955e-11  5.69064e-10   -0.0286155 -1.97651e-09  3.20173e-09 -7.87493e-10    1.918e-10   0.00711964    0.0100866   -0.0292583    0.0330985 -8.98732e-10 -3.12263e-10   0.00293628         -nan         -nan         -nan         -nan         -nan         -nan         -nan         -nan         -nan         -nan         -nan         -nan\r\n",
      "-1.98318e-10 -1.23111e-10  -0.00367129   0.00367129 -6.98457e-10  1.24321e-10   -0.0629942   -0.0629942     0.429278 -2.25292e-10 -2.34109e-10   -0.0121538  4.56083e-10 -9.09284e-10  7.69089e-10 -2.09008e-10 -6.20806e-06  6.20808e-06 -1.82766e-05 -1.82765e-05 -7.44948e-11  5.84285e-10  5.95365e-05         -nan         -nan         -nan         -nan         -nan         -nan         -nan         -nan         -nan         -nan         -nan         -nan\r\n",
      "   0.0155308  0.000905135 -5.18408e-11 -5.46513e-11 -0.000841767   -0.0144435 -1.31939e-12  4.95955e-11 -2.25292e-10     0.463967  2.11752e-12  1.17676e-10  0.000208025  0.000612427  0.000603656    0.0103579 -6.15518e-10 -6.26167e-11  1.11928e-10  1.49087e-09 -0.000953047   -0.0177092  -1.8678e-09         -nan         -nan         -nan         -nan         -nan         -nan         -nan         -nan         -nan         -nan         -nan         -nan\r\n",
      "-0.000905135    0.0155308 -2.02289e-11  7.11438e-11   -0.0144435  0.000841767  4.62572e-10  5.69064e-10 -2.34109e-10  2.11759e-12     0.463967 -1.09259e-10  0.000612427 -0.000208025    0.0103579 -0.000603656  -7.6887e-11  1.45583e-09 -8.66363e-10 -1.88228e-10   -0.0177092  0.000953047 -1.77769e-09         -nan         -nan         -nan         -nan         -nan         -nan         -nan         -nan         -nan         -nan         -nan         -nan\r\n",
      "-3.66423e-11 -1.66764e-10  -0.00166771   0.00166771 -1.60497e-10  9.91132e-12   -0.0286155   -0.0286155   -0.0121538  1.17676e-10 -1.09259e-10     0.636067  5.47422e-10 -6.15501e-10 -6.46741e-11 -6.61946e-11   0.00673119  -0.00673119    0.0198166    0.0198166  1.03282e-10 -8.59786e-12  4.59655e-05         -nan         -nan         -nan         -nan         -nan         -nan         -nan         -nan         -nan         -nan         -nan         -nan\r\n",
      "    0.012855    0.0465876 -9.66214e-11  7.33955e-11   0.00881403   0.00243207 -1.92623e-09 -1.97651e-09  4.56083e-10  0.000208025  0.000612427  5.47422e-10     0.917068  7.51554e-11   -0.0214884  -0.00592932  5.28833e-10 -7.58656e-10  1.85805e-09  1.85351e-09     0.022381   0.00628291  1.65349e-10         -nan         -nan         -nan         -nan         -nan         -nan         -nan         -nan         -nan         -nan         -nan         -nan\r\n",
      "   0.0465876    -0.012855  2.03554e-10 -1.53272e-10  -0.00243207   0.00881403  3.22495e-09  3.20173e-09 -9.09284e-10  0.000612427 -0.000208025 -6.15501e-10  7.51553e-11     0.917068   0.00592932   -0.0214884 -1.02488e-09  1.02942e-09 -2.98485e-09 -3.21468e-09  -0.00628291     0.022381  1.26257e-10         -nan         -nan         -nan         -nan         -nan         -nan         -nan         -nan         -nan         -nan         -nan         -nan\r\n",
      "-2.35844e-11    0.0481429 -2.10704e-10  7.36002e-11    0.0441772  9.32004e-11  -1.0314e-09 -7.87493e-10  7.69089e-10  0.000603656    0.0103579 -6.46741e-11   -0.0214884   0.00592932     0.981535  7.30366e-11 -3.50441e-12 -3.06096e-10  3.62741e-10 -7.51692e-11   0.00424838  1.89031e-05  3.17152e-10         -nan         -nan         -nan         -nan         -nan         -nan         -nan         -nan         -nan         -nan         -nan         -nan\r\n",
      "   0.0481429 -2.35843e-11 -2.54271e-11 -2.18481e-10  9.32004e-11    0.0441772  3.28904e-10    1.918e-10 -2.09008e-10    0.0103579 -0.000603656 -6.61946e-11  -0.00592932   -0.0214884  7.30365e-11     0.981535  2.22744e-10  2.15167e-10 -7.16813e-12 -3.16769e-10  -1.8903e-05   0.00424838  6.75796e-10         -nan         -nan         -nan         -nan         -nan         -nan         -nan         -nan         -nan         -nan         -nan         -nan\r\n",
      "-2.87543e-10 -1.28329e-11    0.0640581  -0.00170126 -5.67459e-11  2.79751e-10   -0.0100866   0.00711964 -6.20806e-06 -6.15518e-10  -7.6887e-11   0.00673119  5.28833e-10 -1.02488e-09 -3.50441e-12  2.22744e-10      1.06908   -0.0128119    0.0247521    0.0247521  4.20631e-11  2.29771e-10   -0.0150499         -nan         -nan         -nan         -nan         -nan         -nan         -nan         -nan         -nan         -nan         -nan         -nan\r\n",
      " 1.38775e-10   2.8544e-10  -0.00170126    0.0640581 -3.34146e-10 -5.00116e-11  -0.00711964    0.0100866  6.20808e-06 -6.26167e-11  1.45583e-09  -0.00673119 -7.58656e-10  1.02942e-09 -3.06096e-10  2.15167e-10   -0.0128119      1.06908   -0.0247521   -0.0247521 -1.38958e-10 -2.90915e-10    0.0150499         -nan         -nan         -nan         -nan         -nan         -nan         -nan         -nan         -nan         -nan         -nan         -nan\r\n",
      "-3.10593e-10 -7.55204e-11  -0.00248272    0.0196889 -5.76213e-11  1.11385e-10    0.0330985   -0.0292583 -1.82766e-05  1.11928e-10 -8.66363e-10    0.0198166  1.85805e-09 -2.98485e-09  3.62741e-10 -7.16813e-12    0.0247521   -0.0247521      1.13354    0.0772745  1.18964e-10  4.33535e-10   0.00545589         -nan         -nan         -nan         -nan         -nan         -nan         -nan         -nan         -nan         -nan         -nan         -nan\r\n",
      "-3.79859e-11  7.32474e-11   -0.0196889   0.00248272 -2.87361e-10 -2.79507e-10   -0.0292583    0.0330985 -1.82765e-05  1.49087e-09 -1.88228e-10    0.0198166  1.85351e-09 -3.21468e-09 -7.51692e-11 -3.16769e-10    0.0247521   -0.0247521    0.0772745      1.13354  1.80324e-10   3.3691e-10   0.00545589         -nan         -nan         -nan         -nan         -nan         -nan         -nan         -nan         -nan         -nan         -nan         -nan\r\n",
      " 0.000255207   -0.0573567  5.48803e-13  4.61015e-11  -0.00347861   1.5478e-05 -3.28379e-10 -5.32989e-10 -3.94038e-12  -0.00054843   -0.0101908 -2.33052e-11    0.0179473  -0.00503827    0.0191591 -8.52481e-05  3.55349e-14   9.0746e-11  5.05222e-11  2.62755e-10     0.600541  2.25215e-10  2.81263e-09         -nan         -nan         -nan         -nan         -nan         -nan         -nan         -nan         -nan         -nan         -nan         -nan\r\n",
      "  -0.0573567 -0.000255207 -1.64477e-10  3.71309e-10  -1.5478e-05  -0.00347861 -3.85761e-09 -3.80963e-09  6.45022e-10   -0.0101908   0.00054843  1.38947e-10   0.00503827    0.0179473   8.5248e-05    0.0191591 -1.49323e-10 -6.08419e-11 -1.42178e-10 -5.12943e-11  2.25215e-10     0.600541  7.04681e-11         -nan         -nan         -nan         -nan         -nan         -nan         -nan         -nan         -nan         -nan         -nan         -nan\r\n",
      "-3.28141e-10 -3.21299e-10   -0.0423661    0.0423661  6.07669e-10  5.83172e-10   0.00290571   0.00290571 -0.000443205 -1.66951e-09 -1.60309e-09 -0.000216971  1.09869e-10  1.72888e-10  4.07636e-10  8.27849e-10    -0.016092     0.016092   0.00533792   0.00533792   3.1489e-09  5.25244e-10      1.98492         -nan         -nan         -nan         -nan         -nan         -nan         -nan         -nan         -nan         -nan         -nan         -nan\r\n",
      "        -nan         -nan         -nan         -nan         -nan         -nan         -nan         -nan         -nan         -nan         -nan         -nan         -nan         -nan         -nan         -nan         -nan         -nan         -nan         -nan         -nan         -nan         -nan         -nan         -nan         -nan         -nan         -nan         -nan         -nan         -nan         -nan         -nan         -nan         -nan\r\n",
      "        -nan         -nan         -nan         -nan         -nan         -nan         -nan         -nan         -nan         -nan         -nan         -nan         -nan         -nan         -nan         -nan         -nan         -nan         -nan         -nan         -nan         -nan         -nan         -nan         -nan         -nan         -nan         -nan         -nan         -nan         -nan         -nan         -nan         -nan         -nan\r\n",
      "        -nan         -nan         -nan         -nan         -nan         -nan         -nan         -nan         -nan         -nan         -nan         -nan         -nan         -nan         -nan         -nan         -nan         -nan         -nan         -nan         -nan         -nan         -nan         -nan         -nan         -nan         -nan         -nan         -nan         -nan         -nan         -nan         -nan         -nan         -nan\r\n",
      "        -nan         -nan         -nan         -nan         -nan         -nan         -nan         -nan         -nan         -nan         -nan         -nan         -nan         -nan         -nan         -nan         -nan         -nan         -nan         -nan         -nan         -nan         -nan         -nan         -nan         -nan         -nan         -nan         -nan         -nan         -nan         -nan         -nan         -nan         -nan\r\n",
      "        -nan         -nan         -nan         -nan         -nan         -nan         -nan         -nan         -nan         -nan         -nan         -nan         -nan         -nan         -nan         -nan         -nan         -nan         -nan         -nan         -nan         -nan         -nan         -nan         -nan         -nan         -nan         -nan         -nan         -nan         -nan         -nan         -nan         -nan         -nan\r\n",
      "        -nan         -nan         -nan         -nan         -nan         -nan         -nan         -nan         -nan         -nan         -nan         -nan         -nan         -nan         -nan         -nan         -nan         -nan         -nan         -nan         -nan         -nan         -nan         -nan         -nan         -nan         -nan         -nan         -nan         -nan         -nan         -nan         -nan         -nan         -nan\r\n",
      "        -nan         -nan         -nan         -nan         -nan         -nan         -nan         -nan         -nan         -nan         -nan         -nan         -nan         -nan         -nan         -nan         -nan         -nan         -nan         -nan         -nan         -nan         -nan         -nan         -nan         -nan         -nan         -nan         -nan         -nan         -nan         -nan         -nan         -nan         -nan\r\n",
      "        -nan         -nan         -nan         -nan         -nan         -nan         -nan         -nan         -nan         -nan         -nan         -nan         -nan         -nan         -nan         -nan         -nan         -nan         -nan         -nan         -nan         -nan         -nan         -nan         -nan         -nan         -nan         -nan         -nan         -nan         -nan         -nan         -nan         -nan         -nan\r\n",
      "        -nan         -nan         -nan         -nan         -nan         -nan         -nan         -nan         -nan         -nan         -nan         -nan         -nan         -nan         -nan         -nan         -nan         -nan         -nan         -nan         -nan         -nan         -nan         -nan         -nan         -nan         -nan         -nan         -nan         -nan         -nan         -nan         -nan         -nan         -nan\r\n",
      "        -nan         -nan         -nan         -nan         -nan         -nan         -nan         -nan         -nan         -nan         -nan         -nan         -nan         -nan         -nan         -nan         -nan         -nan         -nan         -nan         -nan         -nan         -nan         -nan         -nan         -nan         -nan         -nan         -nan         -nan         -nan         -nan         -nan         -nan         -nan\r\n",
      "        -nan         -nan         -nan         -nan         -nan         -nan         -nan         -nan         -nan         -nan         -nan         -nan         -nan         -nan         -nan         -nan         -nan         -nan         -nan         -nan         -nan         -nan         -nan         -nan         -nan         -nan         -nan         -nan         -nan         -nan         -nan         -nan         -nan         -nan         -nan\r\n",
      "        -nan         -nan         -nan         -nan         -nan         -nan         -nan         -nan         -nan         -nan         -nan         -nan         -nan         -nan         -nan         -nan         -nan         -nan         -nan         -nan         -nan         -nan         -nan          nan          nan          nan          nan          nan          nan          nan          nan          nan          nan          nan          nan\r\n",
      "an error occurred:\r\n",
      "Small generalized eigenvalue problem failed.\r\n"
     ]
    }
   ],
   "source": [
    "!xtp_tools -c job_name=CO geometry_optimization.maxiter=1 dftpackage.basisset=3-21G dftpackage.auxbasisset=aux-def2-svp gwbse.gw.mode=G0W0 -e dftgwbse -t 4"
   ]
  },
  {
   "cell_type": "markdown",
   "metadata": {},
   "source": [
    "Notice that we are using 4 threads. The results will be stored in a file named `CO_summary.xml` in the current work directory, together with the optimization step in `optimisation.trj` and the orbitals in [hdf5 format](https://www.hdfgroup.org/solutions/hdf5/) saved on `CO.orb`."
   ]
  }
 ],
 "metadata": {
  "kernelspec": {
   "display_name": "Python 3",
   "language": "python",
   "name": "python3"
  },
  "language_info": {
   "codemirror_mode": {
    "name": "ipython",
    "version": 3
   },
   "file_extension": ".py",
   "mimetype": "text/x-python",
   "name": "python",
   "nbconvert_exporter": "python",
   "pygments_lexer": "ipython3",
   "version": "3.10.7"
  }
 },
 "nbformat": 4,
 "nbformat_minor": 4
}
