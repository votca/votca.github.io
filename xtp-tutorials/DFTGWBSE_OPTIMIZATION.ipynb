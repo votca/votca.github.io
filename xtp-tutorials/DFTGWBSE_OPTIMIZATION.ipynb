{
 "cells": [
  {
   "cell_type": "markdown",
   "metadata": {},
   "source": [
    "## DFT + GWBSE Optimization Using CO"
   ]
  },
  {
   "cell_type": "markdown",
   "metadata": {},
   "source": [
    "## Introduction\n",
    "This tutorial explains how to perform a molecular geometric optimization using the **GWBSE** method. See [the GW Compendium: A Practical Guide to Theoretical Photoemission Spectroscopy](https://doi.org/10.3389/fchem.2019.00377), for an excellent introduction to the method."
   ]
  },
  {
   "cell_type": "markdown",
   "metadata": {},
   "source": [
    "## Requirements\n",
    "* You will need to install **VOTCA** using the instructions described [here](https://github.com/votca/votca/blob/master/share/doc/INSTALL.rst)\n",
    "* Once the installation is completed you need to activate the VOTCA enviroment by running the `VOTCARC.bash` script that has been installed at the bin subfolder for the path that you have provided for the installation step above"
   ]
  },
  {
   "cell_type": "markdown",
   "metadata": {},
   "source": [
    "## Preparing the input\n",
    "To run a DFT-GWBSE calculation we will use the [xtp_tools](https://www.votca.org/xtp/xtp_tools_overview.html) calculator."
   ]
  },
  {
   "cell_type": "markdown",
   "metadata": {},
   "source": [
    "we can now change the calculator mode from single point energy calculation to optimization as follows by adding \n",
    "`-c geometry_optimization.maxiter=1` which enables optimization with one iteration. "
   ]
  },
  {
   "cell_type": "markdown",
   "metadata": {},
   "source": [
    "Because geometry optimsation is quite expensive numerically we chose a smaller basisset and G0W0 Finally, to run the calculation we just need the following command (This still takes a while)"
   ]
  },
  {
   "cell_type": "code",
   "execution_count": 1,
   "metadata": {
    "execution": {
     "iopub.execute_input": "2023-03-03T05:23:49.382241Z",
     "iopub.status.busy": "2023-03-03T05:23:49.381587Z",
     "iopub.status.idle": "2023-03-03T05:23:52.650923Z",
     "shell.execute_reply": "2023-03-03T05:23:52.650191Z"
    }
   },
   "outputs": [
    {
     "name": "stdout",
     "output_type": "stream",
     "text": [
      "==================================================\r\n",
      "========   VOTCA (http://www.votca.org)   ========\r\n",
      "==================================================\r\n",
      "\r\n",
      "please submit bugs to https://github.com/votca/votca/issues\r\n",
      "\r\n",
      "xtp_tools, version 2024-dev gitid: f763d12 (compiled Mar  3 2023, 05:20:51)\r\n",
      "\r\n",
      "Initializing tool\r\n",
      "... dftgwbse Evaluating tool\r\n",
      "... dftgwbse  Using 4 threads\r\n",
      "... ... Reading structure from CO.xyz\r\n",
      "... ... Requested geometry optimization of excited state s1\r\n",
      "... ... Initial state: s1\r\n",
      "... ... WARNING: No tracker is used \r\n",
      "... ... Convergence of total energy: 0.000001 Hartree \r\n",
      "... ... Convergence of RMS Force:    0.000030 Hartree/Bohr \r\n",
      "... ... Convergence of Max Force:    0.000100 Hartree/Bohr \r\n",
      "... ... Convergence of RMS Step:     0.000600 Bohr \r\n",
      "... ... Convergence of Max Step:     0.001000 Bohr \r\n",
      "... ... Initial trust radius:        0.018897 BohrA\r\n",
      "    0.307132 -1.25959e-14  1.19379e-10 -3.82617e-10  8.25255e-15   -0.0516061 -5.49433e-14 -5.64994e-14  1.36308e-14    0.0181946 -5.99415e-07  7.89057e-15  3.48331e-05   -0.0389754 -7.12049e-15    0.0421019  1.99711e-11  -2.7998e-11  1.61508e-14  9.06533e-15 -1.86836e-07    -0.108409  1.56048e-10          nan          nan          nan          nan          nan          nan          nan          nan          nan          nan          nan          nan\r\n",
      " -1.2635e-14     0.307132  6.57521e-14 -6.73232e-14   -0.0516061  8.41157e-15  1.68357e-09  1.94681e-09 -5.10789e-10  5.99415e-07    0.0181946 -3.05781e-10   -0.0389754 -3.48331e-05    0.0421019 -7.11524e-15 -2.79482e-13  2.72452e-13  3.17408e-10  3.25434e-10     0.108409 -1.86836e-07   8.5547e-15          nan          nan          nan          nan          nan          nan          nan          nan          nan          nan          nan          nan\r\n",
      " 1.19379e-10   6.5752e-14      0.31985    0.0100452  4.45406e-14  4.10641e-11  7.59346e-06  7.59346e-06 -2.82696e-06  4.42952e-11  2.40243e-14 -1.20437e-06 -3.51767e-15  2.49088e-11  -1.7947e-14 -1.61215e-11   -0.0495318   0.00205135 -6.12219e-07 -4.30465e-05  2.27455e-13 -1.56092e-11    0.0253475          nan          nan          nan          nan          nan          nan          nan          nan          nan          nan          nan          nan\r\n",
      "-3.82617e-10 -6.73231e-14    0.0100452      0.31985 -4.16642e-14  3.74773e-10 -7.59346e-06 -7.59346e-06  2.82696e-06 -1.08717e-10 -2.23087e-14  1.20437e-06   9.8624e-15 -3.19284e-11  1.57897e-14 -2.93777e-10   0.00205135   -0.0495318  4.30465e-05  6.12219e-07 -2.29938e-13   5.1794e-10   -0.0253475          nan          nan          nan          nan          nan          nan          nan          nan          nan          nan          nan          nan\r\n",
      " 8.25897e-15   -0.0516061  4.45406e-14 -4.16643e-14     0.490902 -2.02878e-15  1.65015e-09  1.23431e-09 -7.26247e-10 -4.43538e-07   -0.0134631 -1.92566e-10  -0.00799385 -7.14426e-06    0.0309987  2.42729e-14 -1.52795e-13  1.55844e-13   1.8058e-10  1.76917e-10   -0.0531272  9.15614e-08  1.59658e-14          nan          nan          nan          nan          nan          nan          nan          nan          nan          nan          nan          nan\r\n",
      "  -0.0516061  8.40696e-15  4.10641e-11  3.74773e-10 -1.98208e-15     0.490902 -3.20341e-14 -2.91626e-14  1.81172e-14   -0.0134631  4.43538e-07  4.85669e-15  7.14426e-06  -0.00799385   2.4346e-14    0.0309987 -1.57852e-11  1.94482e-11 -2.13679e-14 -1.83323e-14  9.15615e-08    0.0531272  -1.0036e-10          nan          nan          nan          nan          nan          nan          nan          nan          nan          nan          nan          nan\r\n",
      "-5.49433e-14  1.68357e-09  7.59346e-06 -7.59346e-06  1.65015e-09 -3.20341e-14     0.550341     0.220446   -0.0858093  1.74347e-15  6.85581e-10   -0.0365574  5.40669e-10  4.70458e-13 -7.78859e-10  1.19691e-14 -3.00718e-05 -1.23625e-05   -0.0124663    0.0350142  6.46285e-09  1.72197e-13  1.20895e-06          nan          nan          nan          nan          nan          nan          nan          nan          nan          nan          nan          nan\r\n",
      "-5.64994e-14  1.94681e-09  7.59346e-06 -7.59346e-06  1.23431e-09 -2.91626e-14     0.220446     0.550341   -0.0858093  3.47389e-15  7.50003e-10   -0.0365574  5.47689e-10  4.76849e-13  -4.6896e-10  9.86128e-15  1.23625e-05  3.00718e-05    0.0350142   -0.0124663  6.95494e-09  1.74497e-13  1.20895e-06          nan          nan          nan          nan          nan          nan          nan          nan          nan          nan          nan          nan\r\n",
      " 1.36307e-14 -5.10789e-10 -2.82696e-06  2.82696e-06 -7.26247e-10  1.81172e-14   -0.0858093   -0.0858093     0.662947 -2.70575e-15 -4.06803e-10  -0.00632528 -6.07626e-11 -5.29698e-14  4.48452e-10 -1.11881e-14  3.52418e-06 -3.52418e-06  -0.00409419  -0.00409419 -1.71073e-09 -4.29633e-14 -7.88396e-07          nan          nan          nan          nan          nan          nan          nan          nan          nan          nan          nan          nan\r\n",
      "   0.0181946  5.99415e-07  4.42952e-11 -1.08717e-10 -4.43538e-07   -0.0134631  1.74352e-15  3.47391e-15 -2.70576e-15     0.680922 -2.42059e-15 -2.31822e-16  7.24693e-08 -8.41908e-05  2.84541e-07   0.00863691 -1.13884e-11   1.9046e-11 -1.56811e-14 -8.43771e-15  1.28093e-06   -0.0410276   1.1313e-10          nan          nan          nan          nan          nan          nan          nan          nan          nan          nan          nan          nan\r\n",
      "-5.99415e-07    0.0181946  2.40244e-14 -2.23088e-14   -0.0134631  4.43538e-07  6.85581e-10  7.50003e-10 -4.06803e-10 -2.43116e-15     0.680922 -2.53172e-11 -8.41908e-05 -7.24693e-08   0.00863691 -2.84541e-07 -7.19725e-14  7.92329e-14  9.14718e-11  8.38142e-11    0.0410276  1.28093e-06   2.2893e-16          nan          nan          nan          nan          nan          nan          nan          nan          nan          nan          nan          nan\r\n",
      " 7.89057e-15 -3.05781e-10 -1.20437e-06  1.20437e-06 -1.92566e-10  4.85666e-15   -0.0365574   -0.0365574  -0.00632528 -2.31806e-16 -2.53172e-11      0.79826 -2.17058e-10 -1.88824e-13  -6.3121e-11  1.55765e-15  1.24595e-05 -1.24595e-05   -0.0144747   -0.0144747 -9.11097e-10 -2.18826e-14 -2.85699e-07          nan          nan          nan          nan          nan          nan          nan          nan          nan          nan          nan          nan\r\n",
      " 3.48331e-05   -0.0389754 -3.51767e-15   9.8624e-15  -0.00799385  7.14426e-06  5.40669e-10  5.47689e-10 -6.07626e-11  7.24693e-08 -8.41908e-05 -2.17058e-10     0.956418 -1.23561e-13    0.0131422 -1.17455e-05 -2.53631e-13  2.52867e-13  2.28669e-10  3.39595e-10    0.0200227  1.78602e-05 -3.67417e-14          nan          nan          nan          nan          nan          nan          nan          nan          nan          nan          nan          nan\r\n",
      "  -0.0389754 -3.48331e-05  2.49088e-11 -3.19284e-11 -7.14426e-06  -0.00799385  4.70458e-13  4.76849e-13 -5.29698e-14 -8.41908e-05 -7.24693e-08 -1.88824e-13 -1.23569e-13     0.956418  1.17455e-05    0.0131422 -4.53867e-11 -6.55393e-11  2.56471e-13  2.55738e-13  1.78602e-05   -0.0200227  4.47405e-11          nan          nan          nan          nan          nan          nan          nan          nan          nan          nan          nan          nan\r\n",
      "-7.11035e-15    0.0421019 -1.79469e-14  1.57897e-14    0.0309987   2.4344e-14 -7.78859e-10  -4.6896e-10  4.48452e-10  2.84541e-07   0.00863691  -6.3121e-11    0.0131422  1.17455e-05     0.988567  1.28017e-14 -3.90055e-14 -1.20581e-13 -1.35024e-10  4.18819e-11     0.022363 -3.85413e-08 -1.02178e-14          nan          nan          nan          nan          nan          nan          nan          nan          nan          nan          nan          nan\r\n",
      "   0.0421019 -7.09583e-15 -1.61215e-11 -2.93777e-10  2.42671e-14    0.0309987  1.19691e-14  9.86135e-15 -1.11881e-14   0.00863691 -2.84541e-07  1.55765e-15 -1.17455e-05    0.0131422  1.28351e-14     0.988567 -6.76756e-11  -1.0923e-10  9.87961e-14 -6.07946e-14 -3.85413e-08    -0.022363 -1.36987e-10          nan          nan          nan          nan          nan          nan          nan          nan          nan          nan          nan          nan\r\n",
      " 1.99711e-11 -2.79482e-13   -0.0495318   0.00205135 -1.52795e-13 -1.57852e-11 -3.00718e-05  1.23625e-05  3.52418e-06 -1.13884e-11 -7.19725e-14  1.24595e-05 -2.53631e-13 -4.53867e-11 -3.90055e-14 -6.76756e-11      1.02871  -0.00206803 -3.74399e-05 -3.74399e-05 -1.02763e-12   1.5966e-12  -0.00469825          nan          nan          nan          nan          nan          nan          nan          nan          nan          nan          nan          nan\r\n",
      " -2.7998e-11  2.72452e-13   0.00205135   -0.0495318  1.55844e-13  1.94482e-11 -1.23625e-05  3.00718e-05 -3.52418e-06   1.9046e-11   7.9233e-14 -1.24595e-05  2.52868e-13 -6.55393e-11 -1.20581e-13  -1.0923e-10  -0.00206803      1.02871  3.74399e-05  3.74399e-05  9.44271e-13  9.25515e-11   0.00469825          nan          nan          nan          nan          nan          nan          nan          nan          nan          nan          nan          nan\r\n",
      " 1.61508e-14  3.17408e-10 -6.12219e-07  4.30465e-05   1.8058e-10 -2.13679e-14   -0.0124663    0.0350142  -0.00409419 -1.56811e-14  9.14718e-11   -0.0144747  2.28669e-10  2.56471e-13 -1.35024e-10  9.87961e-14 -3.74399e-05  3.74399e-05       1.0722    0.0455635  1.10042e-09 -5.45859e-14 -3.88272e-06          nan          nan          nan          nan          nan          nan          nan          nan          nan          nan          nan          nan\r\n",
      " 9.06532e-15  3.25434e-10 -4.30465e-05  6.12219e-07  1.76917e-10 -1.83323e-14    0.0350142   -0.0124663  -0.00409419  -8.4377e-15  8.38142e-11   -0.0144747  3.39595e-10  2.55738e-13  4.18819e-11 -6.07946e-14 -3.74399e-05  3.74399e-05    0.0455635       1.0722  1.19324e-09  3.00643e-14 -3.88272e-06          nan          nan          nan          nan          nan          nan          nan          nan          nan          nan          nan          nan\r\n",
      " 1.29684e-07   -0.0752473 -1.22104e-13  1.23692e-13    0.0690166 -1.18946e-07  -3.3474e-09 -3.67017e-09  1.09582e-09 -9.66451e-07   -0.0309549  7.94527e-10  -0.00900335 -8.03095e-06   -0.0364089  6.27486e-08  5.87901e-13  -5.8499e-13 -6.79722e-10 -6.82999e-10    -0.194424 -3.69756e-14 -7.19482e-14          nan          nan          nan          nan          nan          nan          nan          nan          nan          nan          nan          nan\r\n",
      "   0.0752473  1.29684e-07  1.00032e-10 -4.31975e-10 -1.18946e-07   -0.0690166 -9.21197e-14  -9.3695e-14  2.71134e-14    0.0309549 -9.66451e-07  1.88063e-14 -8.03095e-06   0.00900335  6.27486e-08    0.0364089 -6.77573e-12  1.84564e-12  -1.7737e-14 -2.22056e-14  -3.6908e-14    -0.194424  2.17981e-09          nan          nan          nan          nan          nan          nan          nan          nan          nan          nan          nan          nan\r\n",
      "-1.48422e-10 -7.35465e-15    0.0143923   -0.0143923 -1.21958e-14  1.80844e-10 -1.99079e-06 -1.99079e-06  5.93028e-07  5.57351e-11 -2.85665e-15  2.02037e-07   -1.058e-14   9.3065e-12   1.3723e-15 -2.06937e-10  -0.00614163   0.00614163 -5.51632e-06 -5.51632e-06 -7.99149e-14  2.06495e-09     0.956475          nan          nan          nan          nan          nan          nan          nan          nan          nan          nan          nan          nan\r\n",
      "        -nan         -nan         -nan         -nan         -nan         -nan         -nan         -nan         -nan         -nan         -nan         -nan         -nan         -nan         -nan         -nan         -nan         -nan         -nan         -nan         -nan         -nan         -nan          nan          nan          nan          nan          nan          nan          nan          nan          nan          nan          nan          nan\r\n",
      "        -nan         -nan         -nan         -nan         -nan         -nan         -nan         -nan         -nan         -nan         -nan         -nan         -nan         -nan         -nan         -nan         -nan         -nan         -nan         -nan         -nan         -nan         -nan         -nan         -nan         -nan         -nan         -nan         -nan         -nan         -nan         -nan         -nan         -nan         -nan\r\n",
      "        -nan         -nan         -nan         -nan         -nan         -nan         -nan         -nan         -nan         -nan         -nan         -nan         -nan         -nan         -nan         -nan         -nan         -nan         -nan         -nan         -nan         -nan         -nan         -nan         -nan         -nan         -nan         -nan         -nan         -nan         -nan         -nan         -nan         -nan         -nan\r\n",
      "        -nan         -nan         -nan         -nan         -nan         -nan         -nan         -nan         -nan         -nan         -nan         -nan         -nan         -nan         -nan         -nan         -nan         -nan         -nan         -nan         -nan         -nan         -nan          nan          nan          nan          nan          nan          nan          nan          nan          nan          nan          nan          nan\r\n",
      "        -nan         -nan         -nan         -nan         -nan         -nan         -nan         -nan         -nan         -nan         -nan         -nan         -nan         -nan         -nan         -nan         -nan         -nan         -nan         -nan         -nan         -nan         -nan          nan          nan          nan          nan          nan          nan          nan          nan          nan          nan          nan          nan\r\n",
      "        -nan         -nan         -nan         -nan         -nan         -nan         -nan         -nan         -nan         -nan         -nan         -nan         -nan         -nan         -nan         -nan         -nan         -nan         -nan         -nan         -nan         -nan         -nan         -nan         -nan         -nan         -nan         -nan         -nan         -nan         -nan         -nan         -nan         -nan         -nan\r\n",
      "        -nan         -nan         -nan         -nan         -nan         -nan         -nan         -nan         -nan         -nan         -nan         -nan         -nan         -nan         -nan         -nan         -nan         -nan         -nan         -nan         -nan         -nan         -nan         -nan         -nan         -nan         -nan         -nan         -nan         -nan         -nan         -nan         -nan         -nan         -nan\r\n",
      "        -nan         -nan         -nan         -nan         -nan         -nan         -nan         -nan         -nan         -nan         -nan         -nan         -nan         -nan         -nan         -nan         -nan         -nan         -nan         -nan         -nan         -nan         -nan          nan          nan          nan          nan          nan          nan          nan          nan          nan          nan          nan          nan\r\n",
      "        -nan         -nan         -nan         -nan         -nan         -nan         -nan         -nan         -nan         -nan         -nan         -nan         -nan         -nan         -nan         -nan         -nan         -nan         -nan         -nan         -nan         -nan         -nan          nan          nan          nan          nan          nan          nan          nan          nan          nan          nan          nan          nan\r\n",
      "        -nan         -nan         -nan         -nan         -nan         -nan         -nan         -nan         -nan         -nan         -nan         -nan         -nan         -nan         -nan         -nan         -nan         -nan         -nan         -nan         -nan         -nan         -nan         -nan          nan          nan          nan         -nan          nan          nan          nan         -nan          nan          nan          nan\r\n",
      "        -nan         -nan         -nan         -nan         -nan         -nan         -nan         -nan         -nan         -nan         -nan         -nan         -nan         -nan         -nan         -nan         -nan         -nan         -nan         -nan         -nan         -nan         -nan         -nan          nan          nan          nan         -nan          nan          nan          nan         -nan          nan          nan          nan\r\n",
      "        -nan         -nan         -nan         -nan         -nan         -nan         -nan         -nan         -nan         -nan         -nan         -nan         -nan         -nan         -nan         -nan         -nan         -nan         -nan         -nan         -nan         -nan         -nan         -nan         -nan         -nan         -nan         -nan         -nan         -nan         -nan         -nan         -nan         -nan         -nan\r\n",
      "B\r\n",
      "   0.0938111 -5.65506e-15  5.96106e-11 -2.29193e-10  5.11333e-15   -0.0328899 -2.39858e-14  -2.5009e-14  8.41784e-15    0.0155572 -5.12528e-07  5.45147e-15  4.31923e-05   -0.0483286 -8.33472e-15    0.0481429  2.07155e-11 -2.55781e-11  1.54288e-14   1.1253e-14 -4.32722e-08   -0.0251081 -4.55413e-11         -nan         -nan         -nan         -nan         -nan         -nan         -nan         -nan         -nan         -nan         -nan         -nan\r\n",
      "-5.68012e-15    0.0938111  2.82636e-14 -2.92971e-14   -0.0328899  5.22031e-15  6.71683e-10  8.41266e-10 -3.15844e-10  5.12528e-07    0.0155572 -2.11228e-10   -0.0483286 -4.31923e-05    0.0481429 -8.31887e-15 -2.34001e-13  2.29896e-13  2.67822e-10  2.72685e-10    0.0251081 -4.32723e-08 -2.78363e-16         -nan         -nan         -nan         -nan         -nan         -nan         -nan         -nan         -nan         -nan         -nan         -nan\r\n",
      " 5.96106e-11  2.82635e-14     0.105488   0.00569419  2.67786e-14  2.56377e-11  3.84684e-06  3.84684e-06 -2.07884e-06  4.24166e-11  1.81494e-14 -9.44326e-07 -5.65156e-15  2.54925e-11 -2.06932e-14 -2.14245e-11   -0.0671006   0.00241346 -1.05615e-06 -5.88683e-05  4.05152e-14  8.77587e-11    0.0419528         -nan         -nan         -nan         -nan         -nan         -nan         -nan         -nan         -nan         -nan         -nan         -nan\r\n",
      "-2.29193e-10 -2.92971e-14   0.00569419     0.105488 -2.47452e-14  2.69421e-10 -3.84684e-06 -3.84684e-06  2.07884e-06 -1.07892e-10 -1.63973e-14  9.44326e-07  1.19534e-14  -3.2439e-11  1.80509e-14 -3.60071e-10   0.00241346   -0.0671006  5.88683e-05  1.05615e-06 -4.14294e-14  8.36187e-11   -0.0419528         -nan         -nan         -nan         -nan         -nan         -nan         -nan         -nan         -nan         -nan         -nan         -nan\r\n",
      " 5.12299e-15   -0.0328899  2.67786e-14 -2.47452e-14     0.240892 -1.14241e-15  1.02705e-09  7.31987e-10 -6.25185e-10 -4.76646e-07    -0.014468 -1.61036e-10  -0.00914341 -8.17165e-06    0.0441772  3.36755e-14 -1.36446e-13  1.24101e-13  1.44122e-10  1.57394e-10   0.00438148 -7.55122e-09  4.63695e-15         -nan         -nan         -nan         -nan         -nan         -nan         -nan         -nan         -nan         -nan         -nan         -nan\r\n",
      "  -0.0328899  5.20903e-15  2.56377e-11  2.69421e-10 -1.09216e-15     0.240892 -1.90678e-14 -1.70343e-14  1.56396e-14    -0.014468  4.76646e-07  4.07482e-15  8.17165e-06  -0.00914341  3.37755e-14    0.0441772 -2.65241e-11  1.32523e-11 -1.50454e-14 -2.74068e-14 -7.55122e-09  -0.00438148  2.81782e-11         -nan         -nan         -nan         -nan         -nan         -nan         -nan         -nan         -nan         -nan         -nan         -nan\r\n",
      "-2.39858e-14  6.71683e-10  3.84684e-06 -3.84684e-06  1.02705e-09 -1.90678e-14     0.222254     0.111072    -0.063101  4.69997e-16  5.06343e-10   -0.0286639  4.90944e-10  4.27455e-13 -9.15076e-10  1.37972e-14 -2.66049e-05 -3.12073e-05   -0.0336868    0.0310004  1.14843e-09  3.04495e-14 -8.43034e-07         -nan         -nan         -nan         -nan         -nan         -nan         -nan         -nan         -nan         -nan         -nan         -nan\r\n",
      " -2.5009e-14  8.41266e-10  3.84684e-06 -3.84684e-06  7.31987e-10 -1.70343e-14     0.111072     0.222254    -0.063101  2.23502e-15  5.71818e-10   -0.0286639  4.97891e-10  4.33813e-13  -5.3358e-10  1.12185e-14  3.12073e-05  2.66049e-05    0.0310004   -0.0336868  1.31822e-09  3.11437e-14 -8.43034e-07         -nan         -nan         -nan         -nan         -nan         -nan         -nan         -nan         -nan         -nan         -nan         -nan\r\n",
      " 8.41781e-15 -3.15844e-10 -2.07884e-06  2.07884e-06 -6.25185e-10  1.56396e-14    -0.063101    -0.063101     0.429278  -3.0295e-15 -4.59351e-10   -0.0121538 -1.80064e-11 -1.58311e-14  6.21028e-10 -1.55087e-14 -1.66314e-08  1.66315e-08  1.93215e-05  1.93215e-05 -4.69789e-10 -1.19431e-14 -3.50299e-07         -nan         -nan         -nan         -nan         -nan         -nan         -nan         -nan         -nan         -nan         -nan         -nan\r\n",
      "   0.0155572  5.12528e-07  4.24166e-11 -1.07892e-10 -4.76646e-07    -0.014468  4.70075e-16  2.23507e-15 -3.02952e-15     0.463968 -3.26645e-15  1.03987e-18  5.56748e-07 -0.000646798  3.41817e-07    0.0103755 -2.55676e-11  3.56074e-11 -2.99134e-14 -2.01917e-14  5.53705e-07   -0.0177349   1.1611e-10         -nan         -nan         -nan         -nan         -nan         -nan         -nan         -nan         -nan         -nan         -nan         -nan\r\n",
      "-5.12528e-07    0.0155572  1.81495e-14 -1.63973e-14    -0.014468  4.76646e-07  5.06343e-10  5.71818e-10 -4.59351e-10 -3.28849e-15     0.463968  7.11316e-12 -0.000646798 -5.56748e-07    0.0103755 -3.41817e-07 -6.74174e-14  7.71681e-14  8.87244e-11  7.86846e-11    0.0177349  5.53705e-07 -1.24433e-15         -nan         -nan         -nan         -nan         -nan         -nan         -nan         -nan         -nan         -nan         -nan         -nan\r\n",
      " 5.45147e-15 -2.11228e-10 -9.44326e-07  9.44326e-07 -1.61036e-10  4.07478e-15   -0.0286639   -0.0286639   -0.0121538  1.06792e-18  7.11316e-12     0.636067   -3.157e-10 -2.74604e-13 -1.30433e-10  3.20059e-15  1.80148e-05 -1.80148e-05   -0.0209286   -0.0209286   -1.012e-10 -2.41037e-15 -1.76878e-07         -nan         -nan         -nan         -nan         -nan         -nan         -nan         -nan         -nan         -nan         -nan         -nan\r\n",
      " 4.31923e-05   -0.0483286 -5.65157e-15  1.19534e-14  -0.00914341  8.17165e-06  4.90944e-10  4.97891e-10 -1.80064e-11  5.56748e-07 -0.000646798   -3.157e-10     0.917068 -2.17101e-13    0.0222914 -1.99223e-05 -4.33658e-13  4.32126e-13  3.67688e-10  5.91601e-10    0.0232461  2.07355e-05 -8.62097e-14         -nan         -nan         -nan         -nan         -nan         -nan         -nan         -nan         -nan         -nan         -nan         -nan\r\n",
      "  -0.0483286 -4.31923e-05  2.54925e-11  -3.2439e-11 -8.17165e-06  -0.00914341  4.27455e-13  4.33813e-13 -1.58311e-14 -0.000646798 -5.56748e-07 -2.74604e-13 -2.17116e-13     0.917068  1.99223e-05    0.0222914 -8.87401e-11 -1.35173e-10  4.38446e-13  4.36974e-13  2.07355e-05   -0.0232461  9.96408e-11         -nan         -nan         -nan         -nan         -nan         -nan         -nan         -nan         -nan         -nan         -nan         -nan\r\n",
      "-8.32283e-15    0.0481429 -2.06931e-14  1.80509e-14    0.0441772  3.37696e-14 -9.15076e-10  -5.3358e-10  6.21028e-10  3.41817e-07    0.0103755 -1.30433e-10    0.0222914  1.99223e-05     0.981536  2.46416e-14 -9.95048e-14 -1.94691e-13 -2.17066e-10   1.0907e-10  -0.00424845  7.32195e-09 -1.48838e-14         -nan         -nan         -nan         -nan         -nan         -nan         -nan         -nan         -nan         -nan         -nan         -nan\r\n",
      "   0.0481429 -8.28885e-15 -2.14245e-11 -3.60071e-10  3.36684e-14    0.0441772  1.37973e-14  1.12186e-14 -1.55087e-14    0.0103755 -3.41817e-07  3.20058e-15 -1.99223e-05    0.0222914  2.47121e-14     0.981536 -1.31565e-10 -1.94571e-10   1.7551e-13 -1.18701e-13  7.32194e-09   0.00424845 -4.25988e-10         -nan         -nan         -nan         -nan         -nan         -nan         -nan         -nan         -nan         -nan         -nan         -nan\r\n",
      " 2.07155e-11    -2.34e-13   -0.0671006   0.00241346 -1.36446e-13 -2.65241e-11 -2.66049e-05  3.12073e-05 -1.66314e-08 -2.55676e-11 -6.74174e-14  1.80148e-05 -4.33658e-13 -8.87401e-11 -9.95048e-14 -1.31565e-10      1.06067  -0.00440432 -6.99619e-05 -6.99619e-05 -5.79304e-13 -2.30492e-11   -0.0159921         -nan         -nan         -nan         -nan         -nan         -nan         -nan         -nan         -nan         -nan         -nan         -nan\r\n",
      "-2.55781e-11  2.29896e-13   0.00241346   -0.0671006  1.24101e-13  1.32523e-11 -3.12073e-05  2.66049e-05  1.66315e-08  3.56074e-11  7.71681e-14 -1.80148e-05  4.32126e-13 -1.35173e-10 -1.94691e-13 -1.94571e-10  -0.00440432      1.06067  6.99619e-05  6.99619e-05   4.5201e-13  1.65221e-10    0.0159921         -nan         -nan         -nan         -nan         -nan         -nan         -nan         -nan         -nan         -nan         -nan         -nan\r\n",
      " 1.54288e-14  2.67822e-10 -1.05615e-06  5.88683e-05  1.44122e-10 -1.50454e-14   -0.0336868    0.0310004  1.93215e-05 -2.99134e-14  8.87244e-11   -0.0209286  3.67688e-10  4.38446e-13 -2.17066e-10   1.7551e-13 -6.99619e-05  6.99619e-05      1.14195    0.0856821  5.30815e-10  -1.3152e-13 -1.37463e-05         -nan         -nan         -nan         -nan         -nan         -nan         -nan         -nan         -nan         -nan         -nan         -nan\r\n",
      "  1.1253e-14  2.72685e-10 -5.88683e-05  1.05615e-06  1.57394e-10 -2.74068e-14    0.0310004   -0.0336868  1.93215e-05 -2.01917e-14  7.86846e-11   -0.0209286  5.91601e-10  4.36974e-13   1.0907e-10 -1.18701e-13 -6.99619e-05  6.99619e-05    0.0856821      1.14195  6.72701e-10 -3.88986e-15 -1.37463e-05         -nan         -nan         -nan         -nan         -nan         -nan         -nan         -nan         -nan         -nan         -nan         -nan\r\n",
      "-9.88518e-08    0.0573573  1.34857e-13 -1.36144e-13   0.00347867 -5.99528e-09  3.93644e-09   4.1906e-09 -6.01555e-10  3.18628e-07    0.0102055 -1.05874e-10    0.0186411  1.66278e-05   -0.0191594    3.302e-08 -1.24322e-13 -5.50616e-14 -5.74496e-11  1.42008e-10     0.600541 -7.86172e-14 -3.72182e-14         -nan         -nan         -nan         -nan         -nan         -nan         -nan         -nan         -nan         -nan         -nan         -nan\r\n",
      "  -0.0573573 -9.88518e-08  7.82686e-11  1.76587e-10 -5.99528e-09  -0.00347867   1.0401e-13  1.05145e-13 -1.61001e-14   -0.0102055  3.18628e-07 -3.11684e-15  1.66278e-05   -0.0186411    3.302e-08    0.0191594  2.27831e-11  1.75435e-10 -1.54452e-13   2.3879e-14  -7.8587e-14     0.600541  2.49341e-09         -nan         -nan         -nan         -nan         -nan         -nan         -nan         -nan         -nan         -nan         -nan         -nan\r\n",
      " 6.41716e-11  2.97551e-16    0.0424309   -0.0424309   4.0588e-16 -5.54523e-11 -9.63984e-07 -9.63984e-07 -5.09886e-08  8.27903e-11 -2.97111e-15 -1.98084e-09 -9.95457e-14  1.11057e-10 -1.01297e-14   -4.905e-10   -0.0169414    0.0169414 -1.48157e-05 -1.48157e-05 -5.09059e-14  2.27211e-09      1.98197         -nan         -nan         -nan         -nan         -nan         -nan         -nan         -nan         -nan         -nan         -nan         -nan\r\n",
      "        -nan         -nan         -nan         -nan         -nan         -nan         -nan         -nan         -nan         -nan         -nan         -nan         -nan         -nan         -nan         -nan         -nan         -nan         -nan         -nan         -nan         -nan         -nan         -nan         -nan         -nan         -nan         -nan         -nan         -nan         -nan         -nan         -nan         -nan         -nan\r\n",
      "        -nan         -nan         -nan         -nan         -nan         -nan         -nan         -nan         -nan         -nan         -nan         -nan         -nan         -nan         -nan         -nan         -nan         -nan         -nan         -nan         -nan         -nan         -nan         -nan         -nan         -nan         -nan         -nan         -nan         -nan         -nan         -nan         -nan         -nan         -nan\r\n",
      "        -nan         -nan         -nan         -nan         -nan         -nan         -nan         -nan         -nan         -nan         -nan         -nan         -nan         -nan         -nan         -nan         -nan         -nan         -nan         -nan         -nan         -nan         -nan         -nan         -nan         -nan         -nan         -nan         -nan         -nan         -nan         -nan         -nan         -nan         -nan\r\n",
      "        -nan         -nan         -nan         -nan         -nan         -nan         -nan         -nan         -nan         -nan         -nan         -nan         -nan         -nan         -nan         -nan         -nan         -nan         -nan         -nan         -nan         -nan         -nan         -nan         -nan         -nan         -nan         -nan         -nan         -nan         -nan         -nan         -nan         -nan         -nan\r\n",
      "        -nan         -nan         -nan         -nan         -nan         -nan         -nan         -nan         -nan         -nan         -nan         -nan         -nan         -nan         -nan         -nan         -nan         -nan         -nan         -nan         -nan         -nan         -nan         -nan         -nan         -nan         -nan         -nan         -nan         -nan         -nan         -nan         -nan         -nan         -nan\r\n",
      "        -nan         -nan         -nan         -nan         -nan         -nan         -nan         -nan         -nan         -nan         -nan         -nan         -nan         -nan         -nan         -nan         -nan         -nan         -nan         -nan         -nan         -nan         -nan         -nan         -nan         -nan         -nan         -nan         -nan         -nan         -nan         -nan         -nan         -nan         -nan\r\n",
      "        -nan         -nan         -nan         -nan         -nan         -nan         -nan         -nan         -nan         -nan         -nan         -nan         -nan         -nan         -nan         -nan         -nan         -nan         -nan         -nan         -nan         -nan         -nan         -nan         -nan         -nan         -nan         -nan         -nan         -nan         -nan         -nan         -nan         -nan         -nan\r\n",
      "        -nan         -nan         -nan         -nan         -nan         -nan         -nan         -nan         -nan         -nan         -nan         -nan         -nan         -nan         -nan         -nan         -nan         -nan         -nan         -nan         -nan         -nan         -nan         -nan         -nan         -nan         -nan         -nan         -nan         -nan         -nan         -nan         -nan         -nan         -nan\r\n",
      "        -nan         -nan         -nan         -nan         -nan         -nan         -nan         -nan         -nan         -nan         -nan         -nan         -nan         -nan         -nan         -nan         -nan         -nan         -nan         -nan         -nan         -nan         -nan         -nan         -nan         -nan         -nan         -nan         -nan         -nan         -nan         -nan         -nan         -nan         -nan\r\n",
      "        -nan         -nan         -nan         -nan         -nan         -nan         -nan         -nan         -nan         -nan         -nan         -nan         -nan         -nan         -nan         -nan         -nan         -nan         -nan         -nan         -nan         -nan         -nan         -nan         -nan         -nan         -nan         -nan         -nan         -nan         -nan         -nan         -nan         -nan         -nan\r\n",
      "        -nan         -nan         -nan         -nan         -nan         -nan         -nan         -nan         -nan         -nan         -nan         -nan         -nan         -nan         -nan         -nan         -nan         -nan         -nan         -nan         -nan         -nan         -nan         -nan         -nan         -nan         -nan         -nan         -nan         -nan         -nan         -nan         -nan         -nan         -nan\r\n",
      "        -nan         -nan         -nan         -nan         -nan         -nan         -nan         -nan         -nan         -nan         -nan         -nan         -nan         -nan         -nan         -nan         -nan         -nan         -nan         -nan         -nan         -nan         -nan          nan          nan          nan          nan          nan          nan          nan          nan          nan          nan          nan          nan\r\n",
      "an error occurred:\r\n",
      "Small generalized eigenvalue problem failed.\r\n"
     ]
    }
   ],
   "source": [
    "!xtp_tools -c job_name=CO geometry_optimization.maxiter=1 dftpackage.basisset=3-21G dftpackage.auxbasisset=aux-def2-svp gwbse.gw.mode=G0W0 -e dftgwbse -t 4"
   ]
  },
  {
   "cell_type": "markdown",
   "metadata": {},
   "source": [
    "Notice that we are using 4 threads. The results will be stored in a file named `CO_summary.xml` in the current work directory, together with the optimization step in `optimisation.trj` and the orbitals in [hdf5 format](https://www.hdfgroup.org/solutions/hdf5/) saved on `CO.orb`."
   ]
  }
 ],
 "metadata": {
  "kernelspec": {
   "display_name": "Python 3",
   "language": "python",
   "name": "python3"
  },
  "language_info": {
   "codemirror_mode": {
    "name": "ipython",
    "version": 3
   },
   "file_extension": ".py",
   "mimetype": "text/x-python",
   "name": "python",
   "nbconvert_exporter": "python",
   "pygments_lexer": "ipython3",
   "version": "3.11.2"
  }
 },
 "nbformat": 4,
 "nbformat_minor": 4
}
