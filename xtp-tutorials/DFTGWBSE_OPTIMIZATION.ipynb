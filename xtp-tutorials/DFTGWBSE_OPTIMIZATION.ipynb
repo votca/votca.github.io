{
 "cells": [
  {
   "cell_type": "markdown",
   "metadata": {},
   "source": [
    "## DFT + GWBSE Optimization Using CO"
   ]
  },
  {
   "cell_type": "markdown",
   "metadata": {},
   "source": [
    "## Introduction\n",
    "This tutorial explains how to perform a molecular geometric optimization using the **GWBSE** method. See [the GW Compendium: A Practical Guide to Theoretical Photoemission Spectroscopy](https://doi.org/10.3389/fchem.2019.00377), for an excellent introduction to the method."
   ]
  },
  {
   "cell_type": "markdown",
   "metadata": {},
   "source": [
    "## Requirements\n",
    "* You will need to install **VOTCA** using the instructions described [here](https://github.com/votca/votca/blob/master/share/doc/INSTALL.rst)\n",
    "* Once the installation is completed you need to activate the VOTCA enviroment by running the `VOTCARC.bash` script that has been installed at the bin subfolder for the path that you have provided for the installation step above"
   ]
  },
  {
   "cell_type": "markdown",
   "metadata": {},
   "source": [
    "## Preparing the input\n",
    "To run a DFT-GWBSE calculation we will use the [xtp_tools](https://www.votca.org/xtp/xtp_tools_overview.html) calculator."
   ]
  },
  {
   "cell_type": "markdown",
   "metadata": {},
   "source": [
    "we can now change the calculator mode from single point energy calculation to optimization as follows by adding \n",
    "`-c geometry_optimization.maxiter=1` which enables optimization with one iteration. "
   ]
  },
  {
   "cell_type": "markdown",
   "metadata": {},
   "source": [
    "Because geometry optimsation is quite expensive numerically we chose a smaller basisset and G0W0 Finally, to run the calculation we just need the following command (This still takes a while)"
   ]
  },
  {
   "cell_type": "code",
   "execution_count": 1,
   "metadata": {
    "execution": {
     "iopub.execute_input": "2023-04-28T05:24:17.541053Z",
     "iopub.status.busy": "2023-04-28T05:24:17.540771Z",
     "iopub.status.idle": "2023-04-28T05:24:43.728267Z",
     "shell.execute_reply": "2023-04-28T05:24:43.726933Z"
    }
   },
   "outputs": [
    {
     "name": "stdout",
     "output_type": "stream",
     "text": [
      "==================================================\r\n",
      "========   VOTCA (http://www.votca.org)   ========\r\n",
      "==================================================\r\n",
      "\r\n",
      "please submit bugs to https://github.com/votca/votca/issues\r\n",
      "\r\n",
      "xtp_tools, version 2024-dev gitid: b533e39 (compiled Apr 28 2023, 05:20:47)\r\n",
      "\r\n",
      "Initializing tool\r\n",
      "... dftgwbse Evaluating tool\r\n",
      "... dftgwbse  Using 4 threads\r\n",
      "... ... Reading structure from CO.xyz\r\n",
      "... ... Requested geometry optimization of excited state s1\r\n",
      "... ... Initial state: s1\r\n",
      "... ... WARNING: No tracker is used \r\n",
      "... ... Convergence of total energy: 0.000001 Hartree \r\n",
      "... ... Convergence of RMS Force:    0.000030 Hartree/Bohr \r\n",
      "... ... Convergence of Max Force:    0.000100 Hartree/Bohr \r\n",
      "... ... Convergence of RMS Step:     0.000600 Bohr \r\n",
      "... ... Convergence of Max Step:     0.001000 Bohr \r\n",
      "... ... Initial trust radius:        0.018897 BohrA\r\n",
      "    0.307132   3.0684e-11  1.79711e-10 -5.19952e-10 -2.32699e-11   -0.0516061  1.11701e-09  1.03725e-09  3.87726e-10   -0.0181646  -0.00104326  1.10494e-10    0.0103974    -0.037563  2.00714e-11    0.0421019 -2.08554e-10   9.1127e-11  3.57814e-10  1.58994e-10  0.000478816    -0.108408 -1.82931e-10          nan          nan          nan          nan          nan          nan          nan          nan          nan          nan          nan          nan\r\n",
      "  3.0684e-11     0.307132 -3.89339e-10  3.09586e-10   -0.0516061   -2.327e-11  2.45176e-09    2.792e-09  8.22062e-10   0.00104326   -0.0181646  3.85158e-10    -0.037563   -0.0103974    0.0421019  2.00714e-11 -1.92078e-10 -6.74185e-12  5.01612e-10  6.19039e-10     0.108408  0.000478816  1.68286e-11          nan          nan          nan          nan          nan          nan          nan          nan          nan          nan          nan          nan\r\n",
      " 1.79711e-10 -3.89339e-10     0.320607    0.0092874  1.38966e-11 -3.03629e-11   -0.0131944   -0.0131944  -0.00492025  -1.4611e-10  1.02622e-10  -0.00209618  1.20153e-11  2.07469e-10 -1.19195e-10 -7.53899e-12   -0.0470533   0.00129353  -0.00255965    -0.015226 -9.89801e-10  3.14809e-10   -0.0254862          nan          nan          nan          nan          nan          nan          nan          nan          nan          nan          nan          nan\r\n",
      "-5.19952e-10  3.09586e-10    0.0092874     0.320607 -2.22556e-11  4.35089e-10    0.0131944    0.0131944   0.00492025  1.66389e-10 -1.48529e-10   0.00209618  8.01968e-12  -1.8257e-10  1.27605e-11 -4.05395e-10   0.00129353   -0.0470533     0.015226   0.00255965  9.65854e-10   2.0535e-10    0.0254862          nan          nan          nan          nan          nan          nan          nan          nan          nan          nan          nan          nan\r\n",
      "-2.32699e-11   -0.0516061  1.38966e-11 -2.22556e-11     0.490902  2.84576e-12  1.49002e-09   1.0853e-09  6.28857e-10 -0.000771965     0.013441  1.85912e-10  -0.00770417  -0.00213251    0.0309987 -6.62767e-11 -4.61821e-11  3.03297e-10  2.07911e-10  6.14916e-11   -0.0531267  -0.00023465  2.09551e-10          nan          nan          nan          nan          nan          nan          nan          nan          nan          nan          nan          nan\r\n",
      "  -0.0516061   -2.327e-11 -3.03629e-11  4.35089e-10  2.84578e-12     0.490902 -9.28069e-11 -1.01166e-10  -6.2494e-11     0.013441  0.000771965  5.25715e-12   0.00213251  -0.00770417 -6.62768e-11    0.0309987  1.53629e-10 -7.20948e-12 -8.26817e-11  1.74433e-10 -0.000234651    0.0531267 -4.45516e-11          nan          nan          nan          nan          nan          nan          nan          nan          nan          nan          nan          nan\r\n",
      " 1.11701e-09  2.45176e-09   -0.0131944    0.0131944  1.49002e-09 -9.28069e-11     0.549582     0.219688    0.0856683 -1.43408e-11 -7.24888e-10    0.0364974 -8.32029e-10  -2.6235e-09 -6.31721e-10   2.5438e-10   -0.0113531  -0.00131321    -0.012698    0.0330618  1.34029e-08  -8.2711e-09   0.00154674          nan          nan          nan          nan          nan          nan          nan          nan          nan          nan          nan          nan\r\n",
      " 1.03725e-09    2.792e-09   -0.0131944    0.0131944   1.0853e-09 -1.01166e-10     0.219688     0.549582    0.0856683 -6.02475e-11 -7.45167e-10    0.0364974 -8.56928e-10 -2.60346e-09 -2.18787e-10  1.47946e-10   0.00131321    0.0113531    0.0330618    -0.012698  1.39165e-08 -8.24361e-09   0.00154674          nan          nan          nan          nan          nan          nan          nan          nan          nan          nan          nan          nan\r\n",
      " 3.87726e-10  8.22062e-10  -0.00492025   0.00492025  6.28857e-10  -6.2494e-11    0.0856683    0.0856683     0.662947 -1.80016e-10 -5.81852e-10  -0.00632525 -2.92675e-10 -7.01974e-10 -3.36779e-10   9.7131e-11  -0.00131666   0.00131666   0.00387672   0.00387672  4.33952e-09 -3.05389e-09   0.00112727          nan          nan          nan          nan          nan          nan          nan          nan          nan          nan          nan          nan\r\n",
      "  -0.0181646   0.00104326  -1.4611e-10  1.66389e-10 -0.000771965     0.013441 -1.43408e-11 -6.02475e-11 -1.80016e-10     0.680922 -1.59942e-12  8.83652e-11 -2.70741e-05  7.97156e-05  0.000495235  -0.00862271  3.86494e-10  2.22721e-13  8.09522e-11  8.90756e-10   0.00217156      0.04097  -6.6886e-10          nan          nan          nan          nan          nan          nan          nan          nan          nan          nan          nan          nan\r\n",
      " -0.00104326   -0.0181646  1.02622e-10 -1.48529e-10     0.013441  0.000771965 -7.24888e-10 -7.45167e-10 -5.81852e-10 -1.59942e-12     0.680922  6.20495e-11  7.97156e-05   2.7074e-05  -0.00862271 -0.000495235 -4.18893e-12  8.13993e-10  3.77316e-10 -9.40023e-12     -0.04097   0.00217156  8.09475e-10          nan          nan          nan          nan          nan          nan          nan          nan          nan          nan          nan          nan\r\n",
      " 1.10494e-10  3.85158e-10  -0.00209618   0.00209618  1.85912e-10  5.25715e-12    0.0364974    0.0364974  -0.00632525  8.83652e-11  6.20495e-11      0.79826  1.22212e-11 -3.26474e-10  1.10191e-10  5.77088e-11  -0.00465495   0.00465495    0.0137058    0.0137058   1.7322e-09  -9.7588e-10  0.000446858          nan          nan          nan          nan          nan          nan          nan          nan          nan          nan          nan          nan\r\n",
      "   0.0103974    -0.037563  1.20153e-11  8.01968e-12  -0.00770417   0.00213251 -8.32029e-10 -8.56928e-10 -2.92675e-10 -2.70741e-05  7.97156e-05  1.22212e-11     0.956418 -4.29147e-11    0.0126659  -0.00350593  1.23832e-10 -2.37465e-10 -6.53192e-10 -4.30822e-10    0.0192733   0.00542661  6.77878e-12          nan          nan          nan          nan          nan          nan          nan          nan          nan          nan          nan          nan\r\n",
      "   -0.037563   -0.0103974  2.07469e-10  -1.8257e-10  -0.00213251  -0.00770417  -2.6235e-09 -2.60346e-09 -7.01974e-10  7.97156e-05   2.7074e-05 -3.26474e-10 -4.29147e-11     0.956418   0.00350593    0.0126659  4.24747e-10 -6.47117e-10 -1.49159e-09 -1.60522e-09   0.00542661   -0.0192733 -8.93452e-11          nan          nan          nan          nan          nan          nan          nan          nan          nan          nan          nan          nan\r\n",
      " 2.00714e-11    0.0421019 -1.19195e-10  1.27605e-11    0.0309987 -6.62768e-11 -6.31721e-10 -2.18787e-10 -3.36779e-10  0.000495235  -0.00862271  1.10191e-10    0.0126659   0.00350593     0.988566 -3.74756e-11 -2.92339e-11  1.10941e-10 -3.59246e-11  6.16634e-11    0.0223628  9.87723e-05  3.29959e-10          nan          nan          nan          nan          nan          nan          nan          nan          nan          nan          nan          nan\r\n",
      "   0.0421019  2.00714e-11 -7.53899e-12 -4.05395e-10 -6.62767e-11    0.0309987   2.5438e-10  1.47946e-10   9.7131e-11  -0.00862271 -0.000495235  5.77088e-11  -0.00350593    0.0126659 -3.74756e-11     0.988566 -7.14284e-12 -9.04452e-11  6.75798e-11  1.49287e-10  9.87724e-05   -0.0223628 -1.73195e-10          nan          nan          nan          nan          nan          nan          nan          nan          nan          nan          nan          nan\r\n",
      "-2.08554e-10 -1.92078e-10   -0.0470533   0.00129353 -4.61821e-11  1.53629e-10   -0.0113531   0.00131321  -0.00131666  3.86494e-10 -4.18893e-12  -0.00465495  1.23832e-10  4.24747e-10 -2.92339e-11 -7.14284e-12      1.03321  -0.00656634   -0.0132447   -0.0132447 -8.26054e-10  5.53792e-10   0.00427498          nan          nan          nan          nan          nan          nan          nan          nan          nan          nan          nan          nan\r\n",
      "  9.1127e-11 -6.74185e-12   0.00129353   -0.0470533  3.03297e-10 -7.20948e-12  -0.00131321    0.0113531   0.00131666  2.22721e-13  8.13993e-10   0.00465495 -2.37465e-10 -6.47117e-10  1.10941e-10 -9.04452e-11  -0.00656634      1.03321    0.0132447    0.0132447  7.79324e-10 -4.51913e-10  -0.00427498          nan          nan          nan          nan          nan          nan          nan          nan          nan          nan          nan          nan\r\n",
      " 3.57814e-10  5.01612e-10  -0.00255965     0.015226  2.07911e-10 -8.26817e-11    -0.012698    0.0330618   0.00387672  8.09522e-11  3.77316e-10    0.0137058 -6.53192e-10 -1.49159e-09 -3.59246e-11  6.75798e-11   -0.0132447    0.0132447       1.0677    0.0410652  2.36671e-09 -1.58724e-09   0.00204406          nan          nan          nan          nan          nan          nan          nan          nan          nan          nan          nan          nan\r\n",
      " 1.58994e-10  6.19039e-10    -0.015226   0.00255965  6.14916e-11  1.74433e-10    0.0330618    -0.012698   0.00387672  8.90756e-10 -9.40023e-12    0.0137058 -4.30822e-10 -1.60522e-09  6.16634e-11  1.49287e-10   -0.0132447    0.0132447    0.0410652       1.0677  2.46769e-09 -1.53996e-09   0.00204406          nan          nan          nan          nan          nan          nan          nan          nan          nan          nan          nan          nan\r\n",
      " -0.00033235   -0.0752465  6.88177e-10 -7.33099e-10    0.0690159   0.00030483 -8.05746e-09 -8.33506e-09 -3.16311e-09  -0.00163842    0.0309115 -1.54298e-09  -0.00866639  -0.00244011   -0.0364086  -0.00016081  5.58858e-10 -5.58293e-10 -1.77513e-09 -1.77863e-09    -0.194424   2.2205e-10 -4.21931e-09          nan          nan          nan          nan          nan          nan          nan          nan          nan          nan          nan          nan\r\n",
      "   0.0752465 -0.000332349  5.48404e-13  -2.8487e-10   0.00030483   -0.0690159  5.49139e-09  5.53396e-09  2.38436e-09   -0.0309115  -0.00163842  8.87246e-10  -0.00244011   0.00866638  -0.00016081    0.0364086 -4.81834e-10   4.7759e-10  1.28096e-09  1.27951e-09   2.2205e-10    -0.194424 -5.54306e-09          nan          nan          nan          nan          nan          nan          nan          nan          nan          nan          nan          nan\r\n",
      " 5.99081e-10 -5.29885e-10   -0.0141886    0.0141886  3.68869e-10 -5.51686e-10  -0.00433297  -0.00433297  -0.00131498 -1.02979e-09   1.0896e-09 -0.000527243 -8.35822e-11  8.18244e-11 -4.06888e-11  2.51661e-10   0.00597558  -0.00597558   0.00150671   0.00150671 -4.43008e-09 -5.45673e-09     0.958313          nan          nan          nan          nan          nan          nan          nan          nan          nan          nan          nan          nan\r\n",
      "        -nan         -nan         -nan         -nan         -nan         -nan         -nan         -nan         -nan         -nan         -nan         -nan         -nan         -nan         -nan         -nan         -nan         -nan         -nan         -nan         -nan         -nan         -nan          nan          nan          nan          nan          nan          nan          nan          nan          nan          nan          nan          nan\r\n",
      "        -nan         -nan         -nan         -nan         -nan         -nan         -nan         -nan         -nan         -nan         -nan         -nan         -nan         -nan         -nan         -nan         -nan         -nan         -nan         -nan         -nan         -nan         -nan         -nan         -nan         -nan         -nan         -nan         -nan         -nan         -nan         -nan         -nan         -nan         -nan\r\n",
      "        -nan         -nan         -nan         -nan         -nan         -nan         -nan         -nan         -nan         -nan         -nan         -nan         -nan         -nan         -nan         -nan         -nan         -nan         -nan         -nan         -nan         -nan         -nan         -nan         -nan         -nan         -nan         -nan         -nan         -nan         -nan         -nan         -nan         -nan         -nan\r\n",
      "        -nan         -nan         -nan         -nan         -nan         -nan         -nan         -nan         -nan         -nan         -nan         -nan         -nan         -nan         -nan         -nan         -nan         -nan         -nan         -nan         -nan         -nan         -nan          nan          nan          nan          nan          nan          nan          nan          nan          nan          nan          nan          nan\r\n",
      "        -nan         -nan         -nan         -nan         -nan         -nan         -nan         -nan         -nan         -nan         -nan         -nan         -nan         -nan         -nan         -nan         -nan         -nan         -nan         -nan         -nan         -nan         -nan          nan          nan          nan          nan          nan          nan          nan          nan          nan          nan          nan          nan\r\n",
      "        -nan         -nan         -nan         -nan         -nan         -nan         -nan         -nan         -nan         -nan         -nan         -nan         -nan         -nan         -nan         -nan         -nan         -nan         -nan         -nan         -nan         -nan         -nan         -nan         -nan         -nan         -nan         -nan         -nan         -nan         -nan         -nan         -nan         -nan         -nan\r\n",
      "        -nan         -nan         -nan         -nan         -nan         -nan         -nan         -nan         -nan         -nan         -nan         -nan         -nan         -nan         -nan         -nan         -nan         -nan         -nan         -nan         -nan         -nan         -nan         -nan         -nan         -nan         -nan         -nan         -nan         -nan         -nan         -nan         -nan         -nan         -nan\r\n",
      "        -nan         -nan         -nan         -nan         -nan         -nan         -nan         -nan         -nan         -nan         -nan         -nan         -nan         -nan         -nan         -nan         -nan         -nan         -nan         -nan         -nan         -nan         -nan          nan          nan          nan          nan          nan          nan          nan          nan          nan          nan          nan          nan\r\n",
      "        -nan         -nan         -nan         -nan         -nan         -nan         -nan         -nan         -nan         -nan         -nan         -nan         -nan         -nan         -nan         -nan         -nan         -nan         -nan         -nan         -nan         -nan         -nan          nan          nan          nan          nan          nan          nan          nan          nan          nan          nan          nan          nan\r\n",
      "        -nan         -nan         -nan         -nan         -nan         -nan         -nan         -nan         -nan         -nan         -nan         -nan         -nan         -nan         -nan         -nan         -nan         -nan         -nan         -nan         -nan         -nan         -nan         -nan          nan          nan          nan         -nan          nan          nan          nan         -nan          nan          nan          nan\r\n",
      "        -nan         -nan         -nan         -nan         -nan         -nan         -nan         -nan         -nan         -nan         -nan         -nan         -nan         -nan         -nan         -nan         -nan         -nan         -nan         -nan         -nan         -nan         -nan         -nan          nan          nan          nan         -nan          nan          nan          nan         -nan          nan          nan          nan\r\n",
      "        -nan         -nan         -nan         -nan         -nan         -nan         -nan         -nan         -nan         -nan         -nan         -nan         -nan         -nan         -nan         -nan         -nan         -nan         -nan         -nan         -nan         -nan         -nan         -nan         -nan         -nan         -nan         -nan         -nan         -nan         -nan         -nan         -nan         -nan         -nan\r\n",
      "B\r\n",
      "    0.093811  1.36379e-11  9.61026e-11 -3.20804e-10 -1.43107e-11   -0.0328898  4.68405e-10  4.11439e-10  2.38586e-10   -0.0155316 -0.000892038  6.35673e-11    0.0128926   -0.0465772  2.33197e-11    0.0481429 -2.59309e-10  1.01654e-10  3.59546e-10   8.4028e-11  0.000110896   -0.0251078   4.9042e-10         -nan         -nan         -nan         -nan         -nan         -nan         -nan         -nan         -nan         -nan         -nan         -nan\r\n",
      " 1.36379e-11     0.093811 -2.01366e-10    1.444e-10   -0.0328898 -1.43108e-11  9.67672e-10  1.19237e-09  5.07289e-10  0.000892038   -0.0155316  2.54836e-10   -0.0465772   -0.0128926    0.0481429  2.33196e-11 -1.64873e-10 -1.10645e-10   4.2983e-10  5.87485e-10    0.0251078  0.000110896  -5.3864e-10         -nan         -nan         -nan         -nan         -nan         -nan         -nan         -nan         -nan         -nan         -nan         -nan\r\n",
      " 9.61026e-11 -2.01366e-10     0.105872   0.00531028  1.85875e-11 -2.58704e-11  -0.00668428  -0.00668428  -0.00361817 -1.36136e-10  8.76198e-11  -0.00164358  2.41142e-11  2.30274e-10 -1.50936e-10 -1.30907e-11   -0.0640528   0.00170985  -0.00245798   -0.0197145 -8.00432e-11   1.9457e-10   -0.0418866         -nan         -nan         -nan         -nan         -nan         -nan         -nan         -nan         -nan         -nan         -nan         -nan\r\n",
      "-3.20804e-10    1.444e-10   0.00531028     0.105872 -2.21457e-11  3.15385e-10   0.00668428   0.00668428   0.00361817  1.60333e-10 -1.30193e-10   0.00164358  2.73727e-12 -1.93408e-10  9.14499e-12 -5.05873e-10   0.00170985   -0.0640528    0.0197145   0.00245798  5.45589e-12  4.78535e-11    0.0418866         -nan         -nan         -nan         -nan         -nan         -nan         -nan         -nan         -nan         -nan         -nan         -nan\r\n",
      "-1.43107e-11   -0.0328898  1.85875e-11 -2.21457e-11     0.240891  6.71227e-13  9.44034e-10   6.5452e-10  5.49402e-10 -0.000829587    0.0144442  1.60931e-10  -0.00881207  -0.00243918    0.0441772 -9.21304e-11 -4.10659e-11  4.25108e-10  2.15015e-10  1.14822e-11   0.00438142  1.93519e-05  5.21202e-10         -nan         -nan         -nan         -nan         -nan         -nan         -nan         -nan         -nan         -nan         -nan         -nan\r\n",
      "  -0.0328898 -1.43108e-11 -2.58704e-11  3.15385e-10  6.71242e-13     0.240891 -4.36711e-11 -4.72293e-11 -4.46402e-11    0.0144442  0.000829587  1.06146e-11   0.00243918  -0.00881207 -9.21305e-11    0.0441772  2.22873e-10 -1.93397e-11 -1.02538e-10  2.81504e-10  1.93519e-05  -0.00438142 -4.88376e-10         -nan         -nan         -nan         -nan         -nan         -nan         -nan         -nan         -nan         -nan         -nan         -nan\r\n",
      " 4.68405e-10  9.67672e-10  -0.00668428   0.00668428  9.44034e-10 -4.36711e-11      0.22187     0.110688    0.0629972 -1.79247e-11 -5.48428e-10    0.0286169 -9.98575e-10   -2.902e-09 -7.94502e-10  2.58552e-10   -0.0100841  -0.00717244   -0.0330822    0.0292608  1.48719e-09 -5.30534e-10   -0.0029033         -nan         -nan         -nan         -nan         -nan         -nan         -nan         -nan         -nan         -nan         -nan         -nan\r\n",
      " 4.11439e-10  1.19237e-09  -0.00668428   0.00668428   6.5452e-10 -4.72293e-11     0.110688      0.22187    0.0629972 -6.04981e-11 -5.72625e-10    0.0286169 -1.03544e-09 -2.87515e-09 -2.75538e-10  1.16761e-10   0.00717244    0.0100841    0.0292608   -0.0330822  1.72925e-09 -4.54774e-10   -0.0029033         -nan         -nan         -nan         -nan         -nan         -nan         -nan         -nan         -nan         -nan         -nan         -nan\r\n",
      " 2.38586e-10  5.07289e-10  -0.00361817   0.00361817  5.49402e-10 -4.46402e-11    0.0629972    0.0629972     0.429278 -2.30988e-10 -6.84385e-10   -0.0121538 -4.21265e-10 -8.97886e-10 -4.70456e-10  1.29864e-10  6.20739e-06 -6.20741e-06 -1.82768e-05 -1.82768e-05  1.01342e-09  -6.3792e-10  5.49124e-05         -nan         -nan         -nan         -nan         -nan         -nan         -nan         -nan         -nan         -nan         -nan         -nan\r\n",
      "  -0.0155316  0.000892038 -1.36136e-10  1.60333e-10 -0.000829587    0.0144442 -1.79247e-11 -6.04981e-11 -2.30988e-10     0.463967 -2.13586e-12  1.17867e-10 -0.000208003  0.000612435  0.000594922   -0.0103584  6.63031e-10 -5.07369e-12  1.34044e-10    1.507e-09  0.000938692      0.01771 -1.63367e-09         -nan         -nan         -nan         -nan         -nan         -nan         -nan         -nan         -nan         -nan         -nan         -nan\r\n",
      "-0.000892038   -0.0155316  8.76198e-11 -1.30193e-10    0.0144442  0.000829587 -5.48428e-10 -5.72625e-10 -6.84385e-10 -2.13587e-12     0.463967  1.23374e-10  0.000612435  0.000208003   -0.0103584 -0.000594922 -2.66481e-11  1.39961e-09  6.96929e-10  3.89712e-11     -0.01771  0.000938692  1.78282e-09         -nan         -nan         -nan         -nan         -nan         -nan         -nan         -nan         -nan         -nan         -nan         -nan\r\n",
      " 6.35673e-11  2.54836e-10  -0.00164358   0.00164358  1.60931e-10  1.06146e-11    0.0286169    0.0286169   -0.0121538  1.17867e-10  1.23374e-10     0.636067  4.96653e-11 -4.09083e-10  1.95661e-10  8.28243e-11  -0.00673046   0.00673046    0.0198169    0.0198169  9.92538e-11 -2.32127e-12  4.36014e-05         -nan         -nan         -nan         -nan         -nan         -nan         -nan         -nan         -nan         -nan         -nan         -nan\r\n",
      "   0.0128926   -0.0465772  2.41142e-11  2.73727e-12  -0.00881207   0.00243918 -9.98575e-10 -1.03544e-09 -4.21265e-10 -0.000208003  0.000612435  4.96653e-11     0.917068 -7.52384e-11    0.0214836  -0.00594665  2.20547e-10 -4.53256e-10 -1.22587e-09 -7.73714e-10    0.0223761   0.00630023 -1.02136e-10         -nan         -nan         -nan         -nan         -nan         -nan         -nan         -nan         -nan         -nan         -nan         -nan\r\n",
      "  -0.0465772   -0.0128926  2.30274e-10 -1.93408e-10  -0.00243918  -0.00881207   -2.902e-09 -2.87515e-09 -8.97886e-10  0.000612435  0.000208003 -4.09083e-10 -7.52384e-11     0.917068   0.00594665    0.0214836  7.41976e-10 -1.19413e-09 -2.67333e-09 -2.90604e-09   0.00630023   -0.0223761 -6.28334e-11         -nan         -nan         -nan         -nan         -nan         -nan         -nan         -nan         -nan         -nan         -nan         -nan\r\n",
      " 2.33197e-11    0.0481429 -1.50936e-10  9.14499e-12    0.0441772 -9.21305e-11 -7.94502e-10 -2.75538e-10 -4.70456e-10  0.000594922   -0.0103584  1.95661e-10    0.0214836   0.00594665     0.981535 -7.22382e-11 -5.42833e-11  1.86588e-10 -5.46239e-11  1.35503e-10  -0.00424838 -1.87643e-05  2.61192e-10         -nan         -nan         -nan         -nan         -nan         -nan         -nan         -nan         -nan         -nan         -nan         -nan\r\n",
      "   0.0481429  2.33197e-11 -1.30907e-11 -5.05873e-10 -9.21304e-11    0.0441772  2.58552e-10  1.16761e-10  1.29864e-10   -0.0103584 -0.000594922  8.28243e-11  -0.00594665    0.0214836 -7.22381e-11     0.981535 -2.95272e-11   -1.606e-10  1.09527e-10  2.41831e-10 -1.87643e-05   0.00424838  1.75275e-10         -nan         -nan         -nan         -nan         -nan         -nan         -nan         -nan         -nan         -nan         -nan         -nan\r\n",
      "-2.59309e-10 -1.64873e-10   -0.0640528   0.00170985 -4.10659e-11  2.22873e-10   -0.0100841   0.00717244  6.20739e-06  6.63031e-10 -2.66481e-11  -0.00673046  2.20547e-10  7.41976e-10 -5.42833e-11 -2.95272e-11      1.06908   -0.0128101   -0.0247497   -0.0247497 -3.94878e-10  2.10987e-10    0.0150506         -nan         -nan         -nan         -nan         -nan         -nan         -nan         -nan         -nan         -nan         -nan         -nan\r\n",
      " 1.01654e-10 -1.10645e-10   0.00170985   -0.0640528  4.25108e-10 -1.93397e-11  -0.00717244    0.0100841 -6.20741e-06 -5.07369e-12  1.39961e-09   0.00673046 -4.53256e-10 -1.19413e-09  1.86588e-10   -1.606e-10   -0.0128101      1.06908    0.0247497    0.0247497  2.19389e-10  9.11327e-13   -0.0150506         -nan         -nan         -nan         -nan         -nan         -nan         -nan         -nan         -nan         -nan         -nan         -nan\r\n",
      " 3.59546e-10   4.2983e-10  -0.00245798    0.0197145  2.15015e-10 -1.02538e-10   -0.0330822    0.0292608 -1.82768e-05  1.34044e-10  6.96929e-10    0.0198169 -1.22587e-09 -2.67333e-09 -5.46239e-11  1.09527e-10   -0.0247497    0.0247497      1.13354    0.0772763  8.79309e-10 -5.99954e-10    0.0054527         -nan         -nan         -nan         -nan         -nan         -nan         -nan         -nan         -nan         -nan         -nan         -nan\r\n",
      "  8.4028e-11  5.87485e-10   -0.0197145   0.00245798  1.14822e-11  2.81504e-10    0.0292608   -0.0330822 -1.82768e-05    1.507e-09  3.89712e-11    0.0198169 -7.73714e-10 -2.90604e-09  1.35503e-10  2.41831e-10   -0.0247497    0.0247497    0.0772763      1.13354  1.09043e-09 -4.24641e-10    0.0054527         -nan         -nan         -nan         -nan         -nan         -nan         -nan         -nan         -nan         -nan         -nan         -nan\r\n",
      " 0.000253333    0.0573567 -4.73779e-10  4.21825e-10   0.00347861  1.53643e-05  7.51686e-09  7.82051e-09  1.20407e-09   0.00054017   -0.0101912  2.34287e-10    0.0179434   0.00505216   -0.0191591 -8.46223e-05 -9.06795e-11  7.12208e-11 -1.66088e-10  5.10991e-12     0.600541  2.22561e-10 -3.19341e-09         -nan         -nan         -nan         -nan         -nan         -nan         -nan         -nan         -nan         -nan         -nan         -nan\r\n",
      "  -0.0573567  0.000253333  3.45608e-10 -4.27967e-11  1.53644e-05  -0.00347861 -4.34651e-09 -4.29314e-09 -7.17452e-10    0.0101912   0.00054017 -1.52101e-10   0.00505216   -0.0179434 -8.46222e-05    0.0191591 -1.00923e-10  2.71824e-10   3.2139e-11  5.07859e-11  2.22561e-10     0.600541 -5.04308e-09         -nan         -nan         -nan         -nan         -nan         -nan         -nan         -nan         -nan         -nan         -nan         -nan\r\n",
      " 1.98131e-10 -3.37028e-10   -0.0423674    0.0423674  5.91199e-10  -4.7292e-10  -0.00287213  -0.00287213 -0.000440482 -1.50211e-09  1.61585e-09 -0.000215455  -5.0553e-11 -4.22884e-11   3.6439e-10  1.53294e-10    0.0160907   -0.0160907   0.00534069   0.00534069 -3.65053e-09 -5.04708e-09      1.98483         -nan         -nan         -nan         -nan         -nan         -nan         -nan         -nan         -nan         -nan         -nan         -nan\r\n",
      "        -nan         -nan         -nan         -nan         -nan         -nan         -nan         -nan         -nan         -nan         -nan         -nan         -nan         -nan         -nan         -nan         -nan         -nan         -nan         -nan         -nan         -nan         -nan         -nan         -nan         -nan         -nan         -nan         -nan         -nan         -nan         -nan         -nan         -nan         -nan\r\n",
      "        -nan         -nan         -nan         -nan         -nan         -nan         -nan         -nan         -nan         -nan         -nan         -nan         -nan         -nan         -nan         -nan         -nan         -nan         -nan         -nan         -nan         -nan         -nan         -nan         -nan         -nan         -nan         -nan         -nan         -nan         -nan         -nan         -nan         -nan         -nan\r\n",
      "        -nan         -nan         -nan         -nan         -nan         -nan         -nan         -nan         -nan         -nan         -nan         -nan         -nan         -nan         -nan         -nan         -nan         -nan         -nan         -nan         -nan         -nan         -nan         -nan         -nan         -nan         -nan         -nan         -nan         -nan         -nan         -nan         -nan         -nan         -nan\r\n",
      "        -nan         -nan         -nan         -nan         -nan         -nan         -nan         -nan         -nan         -nan         -nan         -nan         -nan         -nan         -nan         -nan         -nan         -nan         -nan         -nan         -nan         -nan         -nan         -nan         -nan         -nan         -nan         -nan         -nan         -nan         -nan         -nan         -nan         -nan         -nan\r\n",
      "        -nan         -nan         -nan         -nan         -nan         -nan         -nan         -nan         -nan         -nan         -nan         -nan         -nan         -nan         -nan         -nan         -nan         -nan         -nan         -nan         -nan         -nan         -nan         -nan         -nan         -nan         -nan         -nan         -nan         -nan         -nan         -nan         -nan         -nan         -nan\r\n",
      "        -nan         -nan         -nan         -nan         -nan         -nan         -nan         -nan         -nan         -nan         -nan         -nan         -nan         -nan         -nan         -nan         -nan         -nan         -nan         -nan         -nan         -nan         -nan         -nan         -nan         -nan         -nan         -nan         -nan         -nan         -nan         -nan         -nan         -nan         -nan\r\n",
      "        -nan         -nan         -nan         -nan         -nan         -nan         -nan         -nan         -nan         -nan         -nan         -nan         -nan         -nan         -nan         -nan         -nan         -nan         -nan         -nan         -nan         -nan         -nan         -nan         -nan         -nan         -nan         -nan         -nan         -nan         -nan         -nan         -nan         -nan         -nan\r\n",
      "        -nan         -nan         -nan         -nan         -nan         -nan         -nan         -nan         -nan         -nan         -nan         -nan         -nan         -nan         -nan         -nan         -nan         -nan         -nan         -nan         -nan         -nan         -nan         -nan         -nan         -nan         -nan         -nan         -nan         -nan         -nan         -nan         -nan         -nan         -nan\r\n",
      "        -nan         -nan         -nan         -nan         -nan         -nan         -nan         -nan         -nan         -nan         -nan         -nan         -nan         -nan         -nan         -nan         -nan         -nan         -nan         -nan         -nan         -nan         -nan         -nan         -nan         -nan         -nan         -nan         -nan         -nan         -nan         -nan         -nan         -nan         -nan\r\n",
      "        -nan         -nan         -nan         -nan         -nan         -nan         -nan         -nan         -nan         -nan         -nan         -nan         -nan         -nan         -nan         -nan         -nan         -nan         -nan         -nan         -nan         -nan         -nan         -nan         -nan         -nan         -nan         -nan         -nan         -nan         -nan         -nan         -nan         -nan         -nan\r\n",
      "        -nan         -nan         -nan         -nan         -nan         -nan         -nan         -nan         -nan         -nan         -nan         -nan         -nan         -nan         -nan         -nan         -nan         -nan         -nan         -nan         -nan         -nan         -nan         -nan         -nan         -nan         -nan         -nan         -nan         -nan         -nan         -nan         -nan         -nan         -nan\r\n",
      "        -nan         -nan         -nan         -nan         -nan         -nan         -nan         -nan         -nan         -nan         -nan         -nan         -nan         -nan         -nan         -nan         -nan         -nan         -nan         -nan         -nan         -nan         -nan          nan          nan          nan          nan          nan          nan          nan          nan          nan          nan          nan          nan\r\n",
      "an error occurred:\r\n",
      "Small generalized eigenvalue problem failed.\r\n"
     ]
    }
   ],
   "source": [
    "!xtp_tools -c job_name=CO geometry_optimization.maxiter=1 dftpackage.basisset=3-21G dftpackage.auxbasisset=aux-def2-svp gwbse.gw.mode=G0W0 -e dftgwbse -t 4"
   ]
  },
  {
   "cell_type": "markdown",
   "metadata": {},
   "source": [
    "Notice that we are using 4 threads. The results will be stored in a file named `CO_summary.xml` in the current work directory, together with the optimization step in `optimisation.trj` and the orbitals in [hdf5 format](https://www.hdfgroup.org/solutions/hdf5/) saved on `CO.orb`."
   ]
  }
 ],
 "metadata": {
  "kernelspec": {
   "display_name": "Python 3",
   "language": "python",
   "name": "python3"
  },
  "language_info": {
   "codemirror_mode": {
    "name": "ipython",
    "version": 3
   },
   "file_extension": ".py",
   "mimetype": "text/x-python",
   "name": "python",
   "nbconvert_exporter": "python",
   "pygments_lexer": "ipython3",
   "version": "3.11.2"
  }
 },
 "nbformat": 4,
 "nbformat_minor": 4
}
