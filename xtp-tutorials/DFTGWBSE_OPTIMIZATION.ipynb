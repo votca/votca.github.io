{
 "cells": [
  {
   "cell_type": "markdown",
   "metadata": {},
   "source": [
    "## DFT + GWBSE Optimization Using CO"
   ]
  },
  {
   "cell_type": "markdown",
   "metadata": {},
   "source": [
    "## Introduction\n",
    "This tutorial explains how to perform a molecular geometric optimization using the **GWBSE** method. See [the GW Compendium: A Practical Guide to Theoretical Photoemission Spectroscopy](https://doi.org/10.3389/fchem.2019.00377), for an excellent introduction to the method."
   ]
  },
  {
   "cell_type": "markdown",
   "metadata": {},
   "source": [
    "## Requirements\n",
    "* You will need to install **VOTCA** using the instructions described [here](https://github.com/votca/votca/blob/master/share/doc/INSTALL.rst)\n",
    "* Once the installation is completed you need to activate the VOTCA enviroment by running the `VOTCARC.bash` script that has been installed at the bin subfolder for the path that you have provided for the installation step above"
   ]
  },
  {
   "cell_type": "markdown",
   "metadata": {},
   "source": [
    "## Preparing the input\n",
    "To run a DFT-GWBSE calculation we will use the [xtp_tools](https://www.votca.org/xtp/xtp_tools_overview.html) calculator."
   ]
  },
  {
   "cell_type": "markdown",
   "metadata": {},
   "source": [
    "we can now change the calculator mode from single point energy calculation to optimization as follows by adding \n",
    "`-c geometry_optimization.maxiter=1` which enables optimization with one iteration. "
   ]
  },
  {
   "cell_type": "markdown",
   "metadata": {},
   "source": [
    "Because geometry optimsation is quite expensive numerically we chose a smaller basisset and G0W0 Finally, to run the calculation we just need the following command (This still takes a while)"
   ]
  },
  {
   "cell_type": "code",
   "execution_count": 1,
   "metadata": {
    "execution": {
     "iopub.execute_input": "2021-12-05T02:24:53.588670Z",
     "iopub.status.busy": "2021-12-05T02:24:53.588144Z",
     "iopub.status.idle": "2021-12-05T02:24:59.095991Z",
     "shell.execute_reply": "2021-12-05T02:24:59.096400Z"
    }
   },
   "outputs": [
    {
     "name": "stdout",
     "output_type": "stream",
     "text": [
      "==================================================\r\n",
      "========   VOTCA (http://www.votca.org)   ========\r\n",
      "==================================================\r\n",
      "\r\n",
      "please submit bugs to https://github.com/votca/xtp/issues\r\n",
      "\r\n",
      "xtp_tools, version 2022-dev gitid: 7020f65 (compiled Dec  5 2021, 02:17:10)\r\n",
      "votca_csg, version 2022-dev gitid: 7020f65 (compiled Dec  5 2021, 02:03:22)\r\n",
      "votca_tools, version 2022-dev gitid: 7020f65 (compiled Dec  5 2021, 02:01:08)\r\n",
      "\r\n",
      "Initializing tool\r\n",
      "... dftgwbse Evaluating tool\r\n",
      "... dftgwbse  Using 4 threads\r\n",
      "... ... Reading structure from CO.xyz\r\n",
      "... ... Requested geometry optimization of excited state s1\r\n",
      "... ... Initial state: s1\r\n",
      "... ... WARNING: No tracker is used \r\n",
      "... ... Convergence of total energy: 0.000001 Hartree \r\n",
      "... ... Convergence of RMS Force:    0.000030 Hartree/Bohr \r\n",
      "... ... Convergence of Max Force:    0.000100 Hartree/Bohr \r\n",
      "... ... Convergence of RMS Step:     0.000600 Bohr \r\n",
      "... ... Convergence of Max Step:     0.001000 Bohr \r\n",
      "... ... Initial trust radius:        0.018897 BohrA\r\n",
      "    0.307557 -1.62866e-15 -3.20367e-14  1.76439e-14    0.0515784 -6.35591e-16  4.78249e-11  2.37471e-11  6.05514e-12    0.0182326 -1.30921e-05 -1.29807e-11   -0.0389712  7.93628e-05    0.0420794 -4.82224e-16 -3.46015e-14 -1.99291e-14   1.5152e-11 -4.96695e-12     0.108498  2.30899e-06 -5.98251e-15          nan          nan          nan          nan          nan          nan          nan          nan          nan          nan          nan          nan\r\n",
      "-1.61471e-15     0.307557  3.93706e-12  2.01408e-11 -6.41062e-16    0.0515784  7.27623e-15  -7.1424e-15  8.88738e-16  1.30921e-05    0.0182326 -1.78021e-15  7.93628e-05    0.0389712 -4.91982e-16    0.0420794 -8.72461e-12  1.46046e-12 -1.60403e-14  1.35539e-15  2.30899e-06    -0.108498  1.40779e-12          nan          nan          nan          nan          nan          nan          nan          nan          nan          nan          nan          nan\r\n",
      "-3.20368e-14  3.93706e-12     0.320545    0.0100422  1.24924e-13  -4.6983e-12 -0.000165449 -0.000165449  6.13589e-05  -1.2342e-15    9.179e-12 -2.60216e-05 -3.55086e-16 -2.23181e-13 -1.18468e-14 -2.29799e-15  -0.00205847   -0.0495543 -3.08694e-05  0.000127592  1.85239e-14 -3.08155e-12    0.0253868          nan          nan          nan          nan          nan          nan          nan          nan          nan          nan          nan          nan\r\n",
      " 1.76439e-14  2.01408e-11    0.0100422     0.320545 -1.53314e-13   5.3665e-11  0.000165449  0.000165449 -6.13589e-05  3.06739e-15  4.45558e-12  2.60216e-05  -6.0722e-15 -2.18059e-12  2.88281e-14 -3.03449e-11    0.0495543   0.00205847  0.000127592 -3.08694e-05    -3.78e-14 -3.04626e-11   -0.0253868          nan          nan          nan          nan          nan          nan          nan          nan          nan          nan          nan          nan\r\n",
      "   0.0515784 -6.33139e-16  1.24924e-13 -1.53314e-13     0.491199  -1.0975e-15 -1.63507e-10 -2.12474e-10  9.28081e-11      0.01345  -9.6579e-06 -4.06115e-11   0.00797203 -1.62346e-05   -0.0310586 -2.15972e-15  7.37265e-14  8.09223e-14 -2.52721e-11   3.0359e-11    0.0529951  1.12781e-06  3.94255e-14          nan          nan          nan          nan          nan          nan          nan          nan          nan          nan          nan          nan\r\n",
      "-6.36311e-16    0.0515784  -4.6983e-12   5.3665e-11 -1.07506e-15     0.491199 -3.52467e-14  -6.3648e-14  1.41657e-14   9.6579e-06      0.01345 -6.08049e-15 -1.62346e-05  -0.00797203 -2.15986e-15   -0.0310586 -7.63579e-12 -2.54888e-12  -2.2053e-14  1.48661e-14  1.12781e-06   -0.0529951 -5.00608e-12          nan          nan          nan          nan          nan          nan          nan          nan          nan          nan          nan          nan\r\n",
      " 4.78249e-11  7.27623e-15 -0.000165449  0.000165449 -1.63507e-10 -3.52467e-14     0.550957     0.220369   -0.0854511  1.15141e-11 -1.99006e-15    0.0362389  1.30739e-13  7.96112e-16  9.80209e-12  6.65623e-15 -1.42043e-06 -9.81431e-05   -0.0124025   -0.0350934 -2.10455e-11 -7.37903e-15 -2.56003e-05          nan          nan          nan          nan          nan          nan          nan          nan          nan          nan          nan          nan\r\n",
      " 2.37471e-11 -7.14244e-15 -0.000165449  0.000165449 -2.12474e-10  -6.3648e-14     0.220369     0.550957   -0.0854511 -2.12055e-12 -1.48011e-16    0.0362389 -2.27306e-12  7.22151e-15  4.01493e-11  2.36212e-14 -9.81431e-05 -1.42043e-06    0.0350934    0.0124025 -5.37909e-11  1.16859e-14 -2.56003e-05          nan          nan          nan          nan          nan          nan          nan          nan          nan          nan          nan          nan\r\n",
      " 6.05514e-12  8.88944e-16  6.13589e-05 -6.13589e-05  9.28081e-11  1.41657e-14   -0.0854511   -0.0854511     0.663153  9.49884e-12 -5.58927e-15   0.00639727  7.94649e-12 -1.75293e-14 -5.90374e-12 -8.87221e-16  1.11485e-05  1.11485e-05  -0.00404735   0.00404735  4.36231e-11  -1.8167e-15  1.63813e-05          nan          nan          nan          nan          nan          nan          nan          nan          nan          nan          nan          nan\r\n",
      "   0.0182326  1.30921e-05 -1.23416e-15  3.06759e-15      0.01345   9.6579e-06  1.15141e-11 -2.12055e-12  9.49884e-12     0.681816  2.90566e-17  9.47426e-12 -9.13984e-05  2.51758e-07   0.00860647  6.17995e-06  1.50021e-15 -2.40552e-15 -7.42094e-13 -8.06153e-13    0.0410286 -2.85878e-05  7.79094e-15          nan          nan          nan          nan          nan          nan          nan          nan          nan          nan          nan          nan\r\n",
      "-1.30921e-05    0.0182326    9.179e-12  4.45558e-12  -9.6579e-06      0.01345 -1.99002e-15 -1.47791e-16  -5.5893e-15  1.65999e-17     0.681816 -5.46167e-15  2.51758e-07  9.13984e-05 -6.17995e-06   0.00860647 -2.24218e-13 -1.77247e-12 -1.16248e-15  5.08886e-15 -2.85878e-05   -0.0410286  1.08992e-11          nan          nan          nan          nan          nan          nan          nan          nan          nan          nan          nan          nan\r\n",
      "-1.29807e-11 -1.78021e-15 -2.60216e-05  2.60216e-05 -4.06115e-11 -6.08028e-15    0.0362389    0.0362389   0.00639727  9.47426e-12 -5.46161e-15      0.79863  6.72069e-12 -1.46939e-14    1.021e-11   1.8193e-15 -3.97028e-05 -3.97028e-05    0.0144137   -0.0144137 -4.27026e-11  3.56669e-15 -6.52921e-06          nan          nan          nan          nan          nan          nan          nan          nan          nan          nan          nan          nan\r\n",
      "  -0.0389712  7.93628e-05 -3.55083e-16  -6.0722e-15   0.00797203 -1.62346e-05  1.30739e-13 -2.27306e-12  7.94649e-12 -9.13984e-05  2.51758e-07  6.72069e-12     0.956559 -6.29385e-15    0.0131605 -2.68006e-05 -2.72677e-14  -2.6286e-14  7.32936e-12 -9.37672e-12    0.0200324  4.12213e-05 -5.04838e-15          nan          nan          nan          nan          nan          nan          nan          nan          nan          nan          nan          nan\r\n",
      " 7.93628e-05    0.0389712 -2.23181e-13 -2.18059e-12 -1.62346e-05  -0.00797203   7.9611e-16  7.22151e-15 -1.75294e-14  2.51758e-07  9.13984e-05 -1.46939e-14 -6.31916e-15     0.956559 -2.68006e-05   -0.0131605 -2.70719e-12 -6.59855e-13 -2.20928e-14  2.31021e-14 -4.12213e-05    0.0200324 -2.45894e-12          nan          nan          nan          nan          nan          nan          nan          nan          nan          nan          nan          nan\r\n",
      "   0.0420794 -5.07938e-16 -1.18467e-14   2.8828e-14   -0.0310586 -2.13299e-15  9.80209e-12  4.01493e-11 -5.90374e-12   0.00860647 -6.17995e-06    1.021e-11    0.0131605 -2.68006e-05     0.989636  1.91476e-16 -4.43646e-14 -3.91485e-14   1.6908e-11  -1.3363e-11    0.0223203  4.75006e-07 -9.55686e-15          nan          nan          nan          nan          nan          nan          nan          nan          nan          nan          nan          nan\r\n",
      "-4.98879e-16    0.0420794 -2.29798e-15 -3.03449e-11 -2.16495e-15   -0.0310586  6.65616e-15  2.36211e-14 -8.87221e-16  6.17995e-06   0.00860647   1.8193e-15 -2.68006e-05   -0.0131605  1.98573e-16     0.989636 -1.89069e-12  1.65429e-12 -3.36091e-16 -4.84446e-15  4.75006e-07   -0.0223203  2.04146e-11          nan          nan          nan          nan          nan          nan          nan          nan          nan          nan          nan          nan\r\n",
      "-3.46015e-14 -8.72461e-12  -0.00205847    0.0495543  7.37265e-14 -7.63579e-12 -1.42043e-06 -9.81431e-05  1.11485e-05  1.50015e-15 -2.24218e-13 -3.97028e-05 -2.72677e-14 -2.70719e-12 -4.43646e-14 -1.89069e-12      1.02923   0.00206701 -0.000119966  0.000119966 -1.89839e-15   1.8068e-11   -0.0046935          nan          nan          nan          nan          nan          nan          nan          nan          nan          nan          nan          nan\r\n",
      "-1.99291e-14  1.46046e-12   -0.0495543   0.00205847  8.09223e-14 -2.54888e-12 -9.81431e-05 -1.42043e-06  1.11485e-05 -2.40552e-15 -1.77247e-12 -3.97028e-05  -2.6286e-14 -6.59855e-13 -3.91485e-14  1.65429e-12   0.00206701      1.02923 -0.000119966  0.000119966  2.96846e-14 -3.60515e-12   -0.0046935          nan          nan          nan          nan          nan          nan          nan          nan          nan          nan          nan          nan\r\n",
      "  1.5152e-11 -1.60403e-14 -3.08694e-05  0.000127592 -2.52721e-11  -2.2053e-14   -0.0124025    0.0350934  -0.00404735 -7.42094e-13 -1.16248e-15    0.0144137  7.32936e-12 -2.20928e-14   1.6908e-11 -3.36094e-16 -0.000119966 -0.000119966      1.07278   -0.0456194  5.96725e-12  3.52717e-14 -1.91905e-05          nan          nan          nan          nan          nan          nan          nan          nan          nan          nan          nan          nan\r\n",
      "-4.96695e-12  1.35539e-15  0.000127592 -3.08694e-05   3.0359e-11  1.48661e-14   -0.0350934    0.0124025   0.00404735 -8.06153e-13  5.08883e-15   -0.0144137 -9.37672e-12  2.31021e-14  -1.3363e-11 -4.84446e-15  0.000119966  0.000119966   -0.0456194      1.07278  1.55517e-11 -3.23411e-15  1.91905e-05          nan          nan          nan          nan          nan          nan          nan          nan          nan          nan          nan          nan\r\n",
      "   -0.075296  -1.6024e-06 -8.48302e-15  2.60972e-14   -0.0689447 -1.46724e-06  7.70772e-12  3.73697e-11 -3.99094e-11   -0.0309921  2.15946e-05  2.69244e-11  -0.00898919  1.84973e-05   -0.0364163 -7.74989e-07  2.67654e-14  1.27881e-14 -1.20394e-11  2.48977e-12     -0.19441 -6.12572e-15  7.72479e-15          nan          nan          nan          nan          nan          nan          nan          nan          nan          nan          nan          nan\r\n",
      " -1.6024e-06     0.075296   3.4438e-12  2.71673e-11 -1.46724e-06    0.0689447  6.07198e-15 -1.09348e-14  2.10019e-15  2.15946e-05    0.0309921 -1.72023e-15 -1.84973e-05  -0.00898919 -7.74989e-07    0.0364163 -7.91942e-12  1.73898e-12 -1.33457e-14 -8.92682e-16 -6.06415e-15     -0.19441  7.98666e-11          nan          nan          nan          nan          nan          nan          nan          nan          nan          nan          nan          nan\r\n",
      " 6.25061e-15 -6.01892e-12    0.0144102   -0.0144102 -3.92233e-14  5.60637e-11  4.77624e-05  4.77624e-05 -1.40164e-05 -1.06807e-14 -1.65269e-11  5.52219e-06  7.39803e-15  3.44692e-12  1.13003e-14 -4.11862e-11  -0.00614402  -0.00614402 -9.83161e-06  9.83161e-06  8.80328e-15  9.63297e-11     0.957554          nan          nan          nan          nan          nan          nan          nan          nan          nan          nan          nan          nan\r\n",
      "        -nan         -nan         -nan         -nan         -nan         -nan         -nan         -nan         -nan         -nan         -nan         -nan         -nan         -nan         -nan         -nan         -nan         -nan         -nan         -nan         -nan         -nan         -nan          nan          nan          nan          nan          nan          nan          nan          nan          nan          nan          nan          nan\r\n",
      "        -nan         -nan         -nan         -nan         -nan         -nan         -nan         -nan         -nan         -nan         -nan         -nan         -nan         -nan         -nan         -nan         -nan         -nan         -nan         -nan         -nan         -nan         -nan         -nan         -nan         -nan         -nan         -nan         -nan         -nan         -nan         -nan         -nan         -nan         -nan\r\n",
      "        -nan         -nan         -nan         -nan         -nan         -nan         -nan         -nan         -nan         -nan         -nan         -nan         -nan         -nan         -nan         -nan         -nan         -nan         -nan         -nan         -nan         -nan         -nan         -nan         -nan         -nan         -nan         -nan         -nan         -nan         -nan         -nan         -nan         -nan         -nan\r\n",
      "        -nan         -nan         -nan         -nan         -nan         -nan         -nan         -nan         -nan         -nan         -nan         -nan         -nan         -nan         -nan         -nan         -nan         -nan         -nan         -nan         -nan         -nan         -nan          nan          nan          nan          nan          nan          nan          nan          nan          nan          nan          nan          nan\r\n",
      "        -nan         -nan         -nan         -nan         -nan         -nan         -nan         -nan         -nan         -nan         -nan         -nan         -nan         -nan         -nan         -nan         -nan         -nan         -nan         -nan         -nan         -nan         -nan          nan          nan          nan          nan          nan          nan          nan          nan          nan          nan          nan          nan\r\n",
      "        -nan         -nan         -nan         -nan         -nan         -nan         -nan         -nan         -nan         -nan         -nan         -nan         -nan         -nan         -nan         -nan         -nan         -nan         -nan         -nan         -nan         -nan         -nan         -nan         -nan         -nan         -nan         -nan         -nan         -nan         -nan         -nan         -nan         -nan         -nan\r\n",
      "        -nan         -nan         -nan         -nan         -nan         -nan         -nan         -nan         -nan         -nan         -nan         -nan         -nan         -nan         -nan         -nan         -nan         -nan         -nan         -nan         -nan         -nan         -nan         -nan         -nan         -nan         -nan         -nan         -nan         -nan         -nan         -nan         -nan         -nan         -nan\r\n",
      "        -nan         -nan         -nan         -nan         -nan         -nan         -nan         -nan         -nan         -nan         -nan         -nan         -nan         -nan         -nan         -nan         -nan         -nan         -nan         -nan         -nan         -nan         -nan          nan          nan          nan          nan          nan          nan          nan          nan          nan          nan          nan          nan\r\n",
      "        -nan         -nan         -nan         -nan         -nan         -nan         -nan         -nan         -nan         -nan         -nan         -nan         -nan         -nan         -nan         -nan         -nan         -nan         -nan         -nan         -nan         -nan         -nan          nan          nan          nan          nan          nan          nan          nan          nan          nan          nan          nan          nan\r\n",
      "        -nan         -nan         -nan         -nan         -nan         -nan         -nan         -nan         -nan         -nan         -nan         -nan         -nan         -nan         -nan         -nan         -nan         -nan         -nan         -nan         -nan         -nan         -nan         -nan          nan          nan          nan         -nan          nan          nan          nan         -nan          nan          nan          nan\r\n",
      "        -nan         -nan         -nan         -nan         -nan         -nan         -nan         -nan         -nan         -nan         -nan         -nan         -nan         -nan         -nan         -nan         -nan         -nan         -nan         -nan         -nan         -nan         -nan         -nan          nan          nan          nan         -nan          nan          nan          nan         -nan          nan          nan          nan\r\n",
      "        -nan         -nan         -nan         -nan         -nan         -nan         -nan         -nan         -nan         -nan         -nan         -nan         -nan         -nan         -nan         -nan         -nan         -nan         -nan         -nan         -nan         -nan         -nan         -nan         -nan         -nan         -nan         -nan         -nan         -nan         -nan         -nan         -nan         -nan         -nan\r\n",
      "B\r\n",
      "    0.094057 -7.82286e-16  -1.5924e-14  8.02326e-15    0.0329085  -3.8569e-16  2.39177e-11  1.07036e-11  5.66281e-12    0.0156091 -1.12082e-05 -1.35053e-11   -0.0483433  9.84486e-05    0.0481685 -5.51886e-16  -3.8094e-14 -2.06914e-14   1.6925e-11 -4.83713e-12    0.0251553  5.35339e-07  2.68953e-16         -nan         -nan         -nan         -nan         -nan         -nan         -nan         -nan         -nan         -nan         -nan         -nan\r\n",
      "-7.73047e-16     0.094057  2.23077e-12  1.09833e-11 -3.93589e-16    0.0329085  3.61167e-15  -4.3049e-15  8.62782e-16  1.12082e-05    0.0156091 -1.90546e-15  9.84486e-05    0.0483433 -5.74689e-16    0.0481685  -1.0619e-11  1.46888e-12 -1.99702e-14  2.55261e-15  5.35339e-07   -0.0251553 -1.73419e-12         -nan         -nan         -nan         -nan         -nan         -nan         -nan         -nan         -nan         -nan         -nan         -nan\r\n",
      " -1.5924e-14  2.23077e-12     0.105939   0.00570603  6.97092e-14 -2.77355e-12 -8.40352e-05 -8.40352e-05  4.51949e-05 -4.33807e-15  9.47588e-12 -2.04121e-05   1.0701e-16 -1.31605e-13 -1.17726e-14 -2.47562e-14  -0.00242549   -0.0671916 -2.90393e-05  0.000160932 -2.34566e-15 -4.28807e-13     0.042045         -nan         -nan         -nan         -nan         -nan         -nan         -nan         -nan         -nan         -nan         -nan         -nan\r\n",
      " 8.02326e-15  1.09833e-11   0.00570603     0.105939 -9.20261e-14  4.13365e-11  8.40352e-05  8.40352e-05 -4.51949e-05  6.40737e-15   5.5215e-12  2.04121e-05 -7.00334e-15 -2.44473e-12  3.41313e-14 -3.98861e-11    0.0671916   0.00242549  0.000160932 -2.90393e-05 -2.39875e-16 -4.23109e-12    -0.042045         -nan         -nan         -nan         -nan         -nan         -nan         -nan         -nan         -nan         -nan         -nan         -nan\r\n",
      "   0.0329085  -3.8757e-16  6.97093e-14 -9.20261e-14     0.241204 -1.01265e-15  -8.8981e-11 -1.27544e-10  7.79349e-11    0.0144728 -1.03923e-05 -3.67564e-11   0.00911845 -1.85692e-05   -0.0442994 -2.88787e-15  6.90909e-14  7.51833e-14 -2.36954e-11  2.81058e-11  -0.00443755 -9.44373e-08   4.9916e-15         -nan         -nan         -nan         -nan         -nan         -nan         -nan         -nan         -nan         -nan         -nan         -nan\r\n",
      "-3.88951e-16    0.0329085 -2.77355e-12  4.13365e-11 -9.88906e-16     0.241204 -2.11245e-14 -4.34491e-14  1.19154e-14  1.03923e-05    0.0144728  -5.4912e-15 -1.85692e-05  -0.00911845 -2.90205e-15   -0.0442994 -7.97828e-12 -3.56792e-12 -2.31866e-14  1.71044e-14 -9.44373e-08   0.00443755  4.12299e-11         -nan         -nan         -nan         -nan         -nan         -nan         -nan         -nan         -nan         -nan         -nan         -nan\r\n",
      " 2.39177e-11  3.61164e-15 -8.40352e-05  8.40352e-05  -8.8981e-11 -2.11245e-14      0.22297     0.111325   -0.0629404    1.639e-11 -4.66474e-15    0.0284267 -2.13733e-13  1.75351e-15  7.63009e-12  7.81466e-15   4.4384e-05 -8.75087e-05   -0.0336292   -0.0311369  4.14015e-12 -1.22831e-15  2.41082e-05         -nan         -nan         -nan         -nan         -nan         -nan         -nan         -nan         -nan         -nan         -nan         -nan\r\n",
      " 1.07036e-11 -4.30496e-15 -8.40352e-05  8.40352e-05 -1.27544e-10 -4.34492e-14     0.111325      0.22297   -0.0629404  1.39258e-12  -2.5851e-15    0.0284267 -2.79011e-12  8.64602e-15  4.75409e-11  3.01546e-14 -8.75087e-05   4.4384e-05    0.0311369    0.0336292  -6.5752e-13    1.703e-15  2.41082e-05         -nan         -nan         -nan         -nan         -nan         -nan         -nan         -nan         -nan         -nan         -nan         -nan\r\n",
      " 5.66281e-12   8.6299e-16  4.51949e-05 -4.51949e-05  7.79349e-11  1.19154e-14   -0.0629404   -0.0629404      0.42963  9.32889e-12 -5.58839e-15    0.0122085  1.22464e-11 -2.69609e-14 -7.87002e-12 -1.15843e-15 -1.81564e-07 -1.81564e-07  6.59151e-05 -6.59151e-05   6.8294e-12 -1.12945e-16  5.66512e-06         -nan         -nan         -nan         -nan         -nan         -nan         -nan         -nan         -nan         -nan         -nan         -nan\r\n",
      "   0.0156091  1.12082e-05 -4.33803e-15  6.40757e-15    0.0144728  1.03923e-05    1.639e-11  1.39258e-12  9.32889e-12     0.465176  9.16378e-17  1.57168e-11 -0.000658396  1.81356e-06    0.0103444  7.42788e-06  4.97776e-15 -3.30825e-15 -2.18896e-12 -1.20107e-12    0.0177317  -1.2355e-05 -6.04758e-15         -nan         -nan         -nan         -nan         -nan         -nan         -nan         -nan         -nan         -nan         -nan         -nan\r\n",
      "-1.12082e-05    0.0156091  9.47588e-12   5.5215e-12 -1.03923e-05    0.0144728 -4.66464e-15 -2.58481e-15 -5.58846e-15  7.00172e-17     0.465176 -9.03676e-15  1.81356e-06  0.000658396 -7.42788e-06    0.0103444  1.49212e-13 -3.24083e-12 -4.01095e-16  8.72266e-15  -1.2355e-05   -0.0177317 -1.06271e-11         -nan         -nan         -nan         -nan         -nan         -nan         -nan         -nan         -nan         -nan         -nan         -nan\r\n",
      "-1.35053e-11 -1.90545e-15 -2.04121e-05  2.04121e-05 -3.67564e-11 -5.49093e-15    0.0284267    0.0284267    0.0122085  1.57168e-11 -9.03668e-15     0.636701  1.16001e-11 -2.54028e-14  1.83937e-11   3.1962e-15 -5.74414e-05 -5.74414e-05    0.0208536   -0.0208536 -2.55626e-11   2.9368e-15 -2.73383e-06         -nan         -nan         -nan         -nan         -nan         -nan         -nan         -nan         -nan         -nan         -nan         -nan\r\n",
      "  -0.0483433  9.84486e-05  1.07014e-16 -7.00334e-15   0.00911845 -1.85692e-05 -2.13733e-13 -2.79011e-12  1.22464e-11 -0.000658396  1.81356e-06  1.16001e-11     0.917337 -1.15739e-14    0.0223429    -4.55e-05 -5.26148e-14 -5.04496e-14  1.37027e-11 -1.81411e-11     0.023285  4.79142e-05  3.57423e-15         -nan         -nan         -nan         -nan         -nan         -nan         -nan         -nan         -nan         -nan         -nan         -nan\r\n",
      " 9.84486e-05    0.0483433 -1.31605e-13 -2.44473e-12 -1.85692e-05  -0.00911845  1.75351e-15  8.64604e-15  -2.6961e-14  1.81356e-06  0.000658396 -2.54028e-14 -1.16225e-14     0.917337    -4.55e-05   -0.0223429 -5.65308e-12 -1.21477e-12 -4.26263e-14   4.4844e-14 -4.79142e-05     0.023285  1.49298e-12         -nan         -nan         -nan         -nan         -nan         -nan         -nan         -nan         -nan         -nan         -nan         -nan\r\n",
      "   0.0481685 -5.94382e-16 -1.17726e-14  3.41312e-14   -0.0442994   -2.858e-15  7.63009e-12  4.75409e-11 -7.87002e-12    0.0103444 -7.42788e-06  1.83937e-11    0.0223429    -4.55e-05     0.983661  2.35494e-16 -8.34987e-14 -7.13023e-14  3.22672e-11 -2.39698e-11  -0.00432401 -9.20209e-08 -3.79747e-15         -nan         -nan         -nan         -nan         -nan         -nan         -nan         -nan         -nan         -nan         -nan         -nan\r\n",
      "-5.72695e-16    0.0481685 -2.47562e-14 -3.98861e-11 -2.89866e-15   -0.0442994  7.81452e-15  3.01544e-14 -1.15842e-15  7.42788e-06    0.0103444   3.1962e-15    -4.55e-05   -0.0223429  2.56871e-16     0.983661 -5.47484e-12  2.82273e-12 -4.95188e-15  -7.1797e-15 -9.20209e-08   0.00432401 -1.26244e-11         -nan         -nan         -nan         -nan         -nan         -nan         -nan         -nan         -nan         -nan         -nan         -nan\r\n",
      " -3.8094e-14  -1.0619e-11  -0.00242549    0.0671916  6.90909e-14 -7.97828e-12   4.4384e-05 -8.75087e-05 -1.81564e-07  4.97765e-15  1.49212e-13 -5.74414e-05 -5.26148e-14 -5.65308e-12 -8.34987e-14 -5.47484e-12      1.06175     0.004405 -0.000224284  0.000224284 -3.70386e-15  2.13925e-11   -0.0159971         -nan         -nan         -nan         -nan         -nan         -nan         -nan         -nan         -nan         -nan         -nan         -nan\r\n",
      "-2.06914e-14  1.46888e-12   -0.0671916   0.00242549  7.51833e-14 -3.56792e-12 -8.75087e-05   4.4384e-05 -1.81564e-07 -3.30825e-15 -3.24083e-12 -5.74414e-05 -5.04496e-14 -1.21477e-12 -7.13023e-14  2.82273e-12     0.004405      1.06175 -0.000224284  0.000224284  3.21483e-14 -3.21489e-12   -0.0159971         -nan         -nan         -nan         -nan         -nan         -nan         -nan         -nan         -nan         -nan         -nan         -nan\r\n",
      "  1.6925e-11 -1.99702e-14 -2.90393e-05  0.000160932 -2.36954e-11 -2.31866e-14   -0.0336292    0.0311369  6.59151e-05 -2.18896e-12   -4.011e-16    0.0208536  1.37027e-11 -4.26263e-14  3.22672e-11 -4.95188e-15 -0.000224284 -0.000224284      1.14317   -0.0858285  7.42179e-12  4.37251e-14 -4.55265e-05         -nan         -nan         -nan         -nan         -nan         -nan         -nan         -nan         -nan         -nan         -nan         -nan\r\n",
      "-4.83713e-12  2.55261e-15  0.000160932 -2.90393e-05  2.81058e-11  1.71044e-14   -0.0311369    0.0336292 -6.59151e-05 -1.20107e-12   8.7226e-15   -0.0208536 -1.81411e-11  4.48439e-14 -2.39698e-11  -7.1797e-15  0.000224284  0.000224284   -0.0858285      1.14317  1.70527e-11 -7.38511e-15  4.55265e-05         -nan         -nan         -nan         -nan         -nan         -nan         -nan         -nan         -nan         -nan         -nan         -nan\r\n",
      "   0.0574548  1.22272e-06  3.90722e-15 -6.82303e-15  -0.00354178 -7.53739e-08 -4.68852e-12 -9.68696e-12 -2.23427e-12    0.0101472 -7.07036e-06  -1.1841e-11    0.0187032  -3.8486e-05    -0.019244 -4.09538e-07  2.93224e-14  4.60815e-14 -7.84434e-12  1.92402e-11     0.601743 -1.26099e-15  -4.5307e-15         -nan         -nan         -nan         -nan         -nan         -nan         -nan         -nan         -nan         -nan         -nan         -nan\r\n",
      " 1.22272e-06   -0.0574548  3.79718e-13 -5.19087e-12 -7.53739e-08   0.00354178 -3.90174e-15 -5.09993e-16  8.29356e-16 -7.07036e-06   -0.0101472  1.45629e-15   3.8486e-05    0.0187032 -4.09538e-07     0.019244  9.65473e-12 -1.74378e-12  2.18025e-14 -4.93379e-15 -1.18362e-15     0.601743 -5.26072e-11         -nan         -nan         -nan         -nan         -nan         -nan         -nan         -nan         -nan         -nan         -nan         -nan\r\n",
      "-1.58397e-15  5.13894e-12    0.0425254   -0.0425254  2.75832e-15  1.05699e-11  2.47746e-05  2.47746e-05 -8.04803e-07  1.21028e-14  2.14397e-11   5.8059e-07 -5.06937e-16  -2.7423e-13  1.84595e-15  1.75317e-12     -0.01695     -0.01695 -4.26298e-05  4.26298e-05 -6.13765e-16 -4.41402e-11       1.9854         -nan         -nan         -nan         -nan         -nan         -nan         -nan         -nan         -nan         -nan         -nan         -nan\r\n",
      "        -nan         -nan         -nan         -nan         -nan         -nan         -nan         -nan         -nan         -nan         -nan         -nan         -nan         -nan         -nan         -nan         -nan         -nan         -nan         -nan         -nan         -nan         -nan         -nan         -nan         -nan         -nan         -nan         -nan         -nan         -nan         -nan         -nan         -nan         -nan\r\n",
      "        -nan         -nan         -nan         -nan         -nan         -nan         -nan         -nan         -nan         -nan         -nan         -nan         -nan         -nan         -nan         -nan         -nan         -nan         -nan         -nan         -nan         -nan         -nan         -nan         -nan         -nan         -nan         -nan         -nan         -nan         -nan         -nan         -nan         -nan         -nan\r\n",
      "        -nan         -nan         -nan         -nan         -nan         -nan         -nan         -nan         -nan         -nan         -nan         -nan         -nan         -nan         -nan         -nan         -nan         -nan         -nan         -nan         -nan         -nan         -nan         -nan         -nan         -nan         -nan         -nan         -nan         -nan         -nan         -nan         -nan         -nan         -nan\r\n",
      "        -nan         -nan         -nan         -nan         -nan         -nan         -nan         -nan         -nan         -nan         -nan         -nan         -nan         -nan         -nan         -nan         -nan         -nan         -nan         -nan         -nan         -nan         -nan         -nan         -nan         -nan         -nan         -nan         -nan         -nan         -nan         -nan         -nan         -nan         -nan\r\n",
      "        -nan         -nan         -nan         -nan         -nan         -nan         -nan         -nan         -nan         -nan         -nan         -nan         -nan         -nan         -nan         -nan         -nan         -nan         -nan         -nan         -nan         -nan         -nan         -nan         -nan         -nan         -nan         -nan         -nan         -nan         -nan         -nan         -nan         -nan         -nan\r\n",
      "        -nan         -nan         -nan         -nan         -nan         -nan         -nan         -nan         -nan         -nan         -nan         -nan         -nan         -nan         -nan         -nan         -nan         -nan         -nan         -nan         -nan         -nan         -nan         -nan         -nan         -nan         -nan         -nan         -nan         -nan         -nan         -nan         -nan         -nan         -nan\r\n",
      "        -nan         -nan         -nan         -nan         -nan         -nan         -nan         -nan         -nan         -nan         -nan         -nan         -nan         -nan         -nan         -nan         -nan         -nan         -nan         -nan         -nan         -nan         -nan         -nan         -nan         -nan         -nan         -nan         -nan         -nan         -nan         -nan         -nan         -nan         -nan\r\n",
      "        -nan         -nan         -nan         -nan         -nan         -nan         -nan         -nan         -nan         -nan         -nan         -nan         -nan         -nan         -nan         -nan         -nan         -nan         -nan         -nan         -nan         -nan         -nan         -nan         -nan         -nan         -nan         -nan         -nan         -nan         -nan         -nan         -nan         -nan         -nan\r\n",
      "        -nan         -nan         -nan         -nan         -nan         -nan         -nan         -nan         -nan         -nan         -nan         -nan         -nan         -nan         -nan         -nan         -nan         -nan         -nan         -nan         -nan         -nan         -nan         -nan         -nan         -nan         -nan         -nan         -nan         -nan         -nan         -nan         -nan         -nan         -nan\r\n",
      "        -nan         -nan         -nan         -nan         -nan         -nan         -nan         -nan         -nan         -nan         -nan         -nan         -nan         -nan         -nan         -nan         -nan         -nan         -nan         -nan         -nan         -nan         -nan         -nan         -nan         -nan         -nan         -nan         -nan         -nan         -nan         -nan         -nan         -nan         -nan\r\n",
      "        -nan         -nan         -nan         -nan         -nan         -nan         -nan         -nan         -nan         -nan         -nan         -nan         -nan         -nan         -nan         -nan         -nan         -nan         -nan         -nan         -nan         -nan         -nan         -nan         -nan         -nan         -nan         -nan         -nan         -nan         -nan         -nan         -nan         -nan         -nan\r\n",
      "        -nan         -nan         -nan         -nan         -nan         -nan         -nan         -nan         -nan         -nan         -nan         -nan         -nan         -nan         -nan         -nan         -nan         -nan         -nan         -nan         -nan         -nan         -nan          nan          nan          nan          nan          nan          nan          nan          nan          nan          nan          nan          nan\r\n",
      "an error occurred:\r\n",
      "Small generalized eigenvalue problem failed.\r\n"
     ]
    }
   ],
   "source": [
    "!xtp_tools -c job_name=CO geometry_optimization.maxiter=1 dftpackage.basisset=3-21G dftpackage.auxbasisset=aux-def2-svp gwbse.gw.mode=G0W0 -e dftgwbse -t 4"
   ]
  },
  {
   "cell_type": "markdown",
   "metadata": {},
   "source": [
    "Notice that we are using 4 threads. The results will be stored in a file named `CO_summary.xml` in the current work directory, together with the optimization step in `optimisation.trj` and the orbitals in [hdf5 format](https://www.hdfgroup.org/solutions/hdf5/) saved on `CO.orb`."
   ]
  }
 ],
 "metadata": {
  "kernelspec": {
   "display_name": "Python 3",
   "language": "python",
   "name": "python3"
  },
  "language_info": {
   "codemirror_mode": {
    "name": "ipython",
    "version": 3
   },
   "file_extension": ".py",
   "mimetype": "text/x-python",
   "name": "python",
   "nbconvert_exporter": "python",
   "pygments_lexer": "ipython3",
   "version": "3.10.0"
  }
 },
 "nbformat": 4,
 "nbformat_minor": 4
}
