{
 "cells": [
  {
   "cell_type": "markdown",
   "metadata": {},
   "source": [
    "## DFT + GWBSE Optimization Using CO"
   ]
  },
  {
   "cell_type": "markdown",
   "metadata": {},
   "source": [
    "## Introduction\n",
    "This tutorial explains how to perform a molecular geometric optimization using the **GWBSE** method. See [the GW Compendium: A Practical Guide to Theoretical Photoemission Spectroscopy](https://doi.org/10.3389/fchem.2019.00377), for an excellent introduction to the method."
   ]
  },
  {
   "cell_type": "markdown",
   "metadata": {},
   "source": [
    "## Requirements\n",
    "* You will need to install **VOTCA** using the instructions described [here](https://github.com/votca/votca/blob/master/share/doc/INSTALL.rst)\n",
    "* Once the installation is completed you need to activate the VOTCA enviroment by running the `VOTCARC.bash` script that has been installed at the bin subfolder for the path that you have provided for the installation step above"
   ]
  },
  {
   "cell_type": "markdown",
   "metadata": {},
   "source": [
    "## Preparing the input\n",
    "To run a DFT-GWBSE calculation we will use the [xtp_tools](https://www.votca.org/xtp/xtp_tools_overview.html) calculator."
   ]
  },
  {
   "cell_type": "markdown",
   "metadata": {},
   "source": [
    "we can now change the calculator mode from single point energy calculation to optimization as follows by adding \n",
    "`-c geometry_optimization.maxiter=1` which enables optimization with one iteration. "
   ]
  },
  {
   "cell_type": "markdown",
   "metadata": {},
   "source": [
    "Because geometry optimsation is quite expensive numerically we chose a smaller basisset and G0W0 Finally, to run the calculation we just need the following command (This still takes a while)"
   ]
  },
  {
   "cell_type": "code",
   "execution_count": 1,
   "metadata": {
    "execution": {
     "iopub.execute_input": "2022-01-21T06:09:53.687771Z",
     "iopub.status.busy": "2022-01-21T06:09:53.687161Z",
     "iopub.status.idle": "2022-01-21T06:11:01.953015Z",
     "shell.execute_reply": "2022-01-21T06:11:01.952386Z"
    }
   },
   "outputs": [
    {
     "name": "stdout",
     "output_type": "stream",
     "text": [
      "==================================================\r\n",
      "========   VOTCA (http://www.votca.org)   ========\r\n",
      "==================================================\r\n",
      "\r\n",
      "please submit bugs to https://github.com/votca/xtp/issues\r\n",
      "\r\n",
      "xtp_tools, version 2023-dev gitid: 64c5716 (compiled Jan 21 2022, 05:59:58)\r\n",
      "votca_csg, version 2023-dev gitid: 64c5716 (compiled Jan 21 2022, 05:42:50)\r\n",
      "votca_tools, version 2023-dev gitid: 64c5716 (compiled Jan 21 2022, 05:39:28)\r\n",
      "\r\n",
      "Initializing tool\r\n",
      "... dftgwbse Evaluating tool\r\n",
      "... dftgwbse  Using 4 threads\r\n",
      "... ... Reading structure from CO.xyz\r\n",
      "... ... Requested geometry optimization of excited state s1\r\n",
      "... ... Initial state: s1\r\n",
      "... ... WARNING: No tracker is used \r\n",
      "... ... Convergence of total energy: 0.000001 Hartree \r\n",
      "... ... Convergence of RMS Force:    0.000030 Hartree/Bohr \r\n",
      "... ... Convergence of Max Force:    0.000100 Hartree/Bohr \r\n",
      "... ... Convergence of RMS Step:     0.000600 Bohr \r\n",
      "... ... Convergence of Max Step:     0.001000 Bohr \r\n",
      "... ... Initial trust radius:        0.018897 Bohr\r\n",
      "... ... \r\n",
      "... ... =========== OPTIMIZATION SUMMARY ================================= \r\n",
      "... ... At iteration  0\r\n",
      "... ...  ---- POSITIONS (Angstrom)   \r\n",
      "... ...  Atom\t x\t  y\t  z \r\n",
      "... ...    0    +0.0000  +0.0000  +0.0000\r\n",
      "... ...    1    +1.2000  +0.0000  +0.0000\r\n",
      "... ...    Total energy:     -112.26831841 Hartree \r\n",
      "... ...    Trust radius:       0.01889726 Bohr     \r\n",
      "... ...  ---- FORCES (Hartree/Bohr)   \r\n",
      "... ...       central differences   \r\n",
      "... ...       displacement 0.0010 Angstrom   \r\n",
      "... ...  Atom\t x\t  y\t  z \r\n",
      "... ...    0    -0.1314  -0.0000  -0.0000\r\n",
      "... ...    1    +0.1314  +0.0000  +0.0000A\r\n",
      "    0.301149 -1.39108e-12  7.72791e-10 -8.90234e-10 -1.19735e-09 -1.04036e-09   -0.0519724  1.02026e-12  5.92028e-10    0.0141435   -0.0105347  2.25008e-10   -0.0390252  0.000534266    0.0423984 -8.05088e-13  1.51292e-10  3.08361e-10 -1.91652e-10  4.04083e-10    -0.107079  -0.00202092  -5.9463e-11          nan          nan          nan          nan          nan          nan          nan          nan          nan          nan          nan          nan\r\n",
      "-1.39108e-12     0.301149  -1.4856e-10  3.05552e-10 -2.20634e-10 -1.03191e-10  1.02038e-12   -0.0519724 -3.09872e-12    0.0105347    0.0141435 -7.00104e-13  0.000534266    0.0390252 -8.04984e-13    0.0423984  2.10417e-10  -2.0139e-12   1.6123e-10 -4.16174e-12  -0.00202092     0.107079  -5.8343e-11          nan          nan          nan          nan          nan          nan          nan          nan          nan          nan          nan          nan\r\n",
      " 7.72791e-10  -1.4856e-10     0.392788   -0.0725545    -0.110948    -0.110948 -1.83855e-10  9.47324e-11    0.0543635  3.42975e-11 -1.16626e-10    0.0245057 -1.90334e-09   5.7249e-11   1.2409e-10 -3.05524e-11   -0.0361825    0.0110773   -0.0170265    0.0176735 -8.00018e-09 -3.76714e-10    0.0241225          nan          nan          nan          nan          nan          nan          nan          nan          nan          nan          nan          nan\r\n",
      "-8.90234e-10  3.05552e-10   -0.0725545     0.392788     0.110948     0.110948   2.2275e-10  -1.4898e-10   -0.0543635 -3.37891e-11   1.2091e-10   -0.0245057   1.9233e-09 -3.17921e-11 -2.14301e-10  1.52209e-10   -0.0110773    0.0361825    0.0176735   -0.0170265  8.08243e-09  4.93744e-10   -0.0241225          nan          nan          nan          nan          nan          nan          nan          nan          nan          nan          nan          nan\r\n",
      "-1.19735e-09 -2.20634e-10    -0.110948     0.110948     0.459104      0.13887  3.01184e-10   1.0073e-10   -0.0729865 -1.43032e-10  3.36187e-11   -0.0329004    2.582e-09  1.01147e-11 -2.88226e-10 -1.07881e-10   -0.0168169   -0.0174639    0.0208729    0.0263869  1.08552e-08  1.09529e-10   0.00992937          nan          nan          nan          nan          nan          nan          nan          nan          nan          nan          nan          nan\r\n",
      "-1.04036e-09 -1.03191e-10    -0.110948     0.110948      0.13887     0.459104  2.46936e-10  6.18346e-11   -0.0729865 -1.38747e-10  3.31102e-11   -0.0329004  2.55655e-09  3.00805e-11  -1.6657e-10 -1.76706e-11   -0.0174639   -0.0168169   -0.0263869   -0.0208729  1.07372e-08  1.92604e-10   0.00992937          nan          nan          nan          nan          nan          nan          nan          nan          nan          nan          nan          nan\r\n",
      "  -0.0519724  1.02038e-12 -1.83855e-10   2.2275e-10  3.01184e-10  2.46936e-10     0.486835 -2.44107e-13 -1.77661e-10   -0.0109349   0.00814474 -3.96537e-11  -0.00830528  0.000113702    0.0301449  2.91537e-12  9.10028e-11 -1.02044e-10  -1.2618e-10 -1.35072e-10    0.0549842   0.00103773  3.98003e-11          nan          nan          nan          nan          nan          nan          nan          nan          nan          nan          nan          nan\r\n",
      " 1.02025e-12   -0.0519724  9.47324e-11  -1.4898e-10   1.0073e-10  6.18346e-11 -2.44108e-13     0.486835  4.04827e-12  -0.00814474   -0.0109349  1.16064e-12  0.000113702   0.00830528   2.9153e-12    0.0301449 -2.68483e-10 -7.23068e-12 -2.02675e-10  9.62881e-12   0.00103773   -0.0549842 -2.31639e-10          nan          nan          nan          nan          nan          nan          nan          nan          nan          nan          nan          nan\r\n",
      " 5.92028e-10 -3.09873e-12    0.0543635   -0.0543635   -0.0729865   -0.0729865 -1.77661e-10  4.04827e-12     0.659928  2.68325e-10 -2.01519e-10  -0.00518518 -7.77966e-10  3.30881e-12   1.3433e-10 -2.20876e-12   0.00290214   0.00290214  -0.00378698   0.00378698 -5.23565e-09 -1.51333e-10   0.00254712          nan          nan          nan          nan          nan          nan          nan          nan          nan          nan          nan          nan\r\n",
      "   0.0141435    0.0105347  3.42975e-11 -3.37891e-11 -1.43032e-10 -1.38747e-10   -0.0109349  -0.00814474  2.68325e-10     0.668107  7.22975e-13 -7.85429e-11  1.34254e-05 -1.02885e-05   0.00726604   0.00541206 -2.63392e-11 -2.97661e-11  1.09054e-09 -4.33057e-11   -0.0333242     0.023857  8.13347e-10          nan          nan          nan          nan          nan          nan          nan          nan          nan          nan          nan          nan\r\n",
      "  -0.0105347    0.0141435 -1.16626e-10   1.2091e-10  3.36187e-11  3.31102e-11   0.00814474   -0.0109349 -2.01519e-10  7.23017e-13     0.668107   5.9719e-11 -1.02885e-05 -1.34254e-05  -0.00541206   0.00726604  1.07674e-09  2.95121e-11  -2.6302e-11  2.28751e-11     0.023857    0.0333242  1.12622e-09          nan          nan          nan          nan          nan          nan          nan          nan          nan          nan          nan          nan\r\n",
      " 2.25008e-10 -7.00104e-13    0.0245057   -0.0245057   -0.0329004   -0.0329004 -3.96537e-11  1.16064e-12  -0.00518518 -7.85429e-11   5.9719e-11     0.793012 -5.03133e-10  1.21069e-12  7.47806e-11 -4.97684e-13   0.00930912   0.00930912   -0.0121474    0.0121474 -1.99286e-09 -5.68403e-11   0.00104052          nan          nan          nan          nan          nan          nan          nan          nan          nan          nan          nan          nan\r\n",
      "  -0.0390252  0.000534266 -1.90334e-09   1.9233e-09    2.582e-09  2.55655e-09  -0.00830528  0.000113702 -7.77966e-10  1.34254e-05 -1.02885e-05 -5.03133e-10     0.954263 -3.99374e-13    0.0128739 -0.000176247  -1.2279e-09 -1.12162e-09  1.60335e-09 -1.46256e-09   -0.0198858 -0.000647716  -1.1889e-10          nan          nan          nan          nan          nan          nan          nan          nan          nan          nan          nan          nan\r\n",
      " 0.000534266    0.0390252   5.7249e-11 -3.17921e-11  1.01147e-11  3.00805e-11  0.000113702   0.00830528  3.30881e-12 -1.02885e-05 -1.34254e-05  1.21069e-12 -3.99363e-13     0.954263 -0.000176247   -0.0128739 -5.81218e-11  8.26708e-11 -5.25309e-11 -5.37475e-11  0.000647716   -0.0198858  3.45492e-11          nan          nan          nan          nan          nan          nan          nan          nan          nan          nan          nan          nan\r\n",
      "   0.0423984 -8.04983e-13   1.2409e-10 -2.14301e-10 -2.88226e-10  -1.6657e-10    0.0301449   2.9153e-12   1.3433e-10   0.00726604  -0.00541206  7.47806e-11    0.0128739 -0.000176247     0.973645  1.57585e-12   1.2069e-10  3.23815e-11 -1.60146e-10  4.19897e-11   -0.0229464 -0.000433072 -1.83937e-11          nan          nan          nan          nan          nan          nan          nan          nan          nan          nan          nan          nan\r\n",
      "-8.05088e-13    0.0423984 -3.05524e-11  1.52209e-10 -1.07881e-10 -1.76706e-11  2.91537e-12    0.0301449 -2.20876e-12   0.00541206   0.00726604 -4.97684e-13 -0.000176247   -0.0128739  1.57586e-12     0.973645 -1.26249e-10  -8.0921e-12 -9.37438e-11  5.43546e-12 -0.000433072    0.0229464 -5.39335e-10          nan          nan          nan          nan          nan          nan          nan          nan          nan          nan          nan          nan\r\n",
      " 1.51292e-10  2.10417e-10   -0.0361825   -0.0110773   -0.0168169   -0.0174639  9.10028e-11 -2.68483e-10   0.00290214 -2.63392e-11  1.07674e-09   0.00930912  -1.2279e-09 -5.81218e-11   1.2069e-10 -1.26249e-10      1.03706     0.017888   -0.0206208    0.0206208 -1.52917e-09  2.13249e-11  -0.00300377          nan          nan          nan          nan          nan          nan          nan          nan          nan          nan          nan          nan\r\n",
      " 3.08361e-10  -2.0139e-12    0.0110773    0.0361825   -0.0174639   -0.0168169 -1.02044e-10 -7.23068e-12   0.00290214 -2.97661e-11  2.95121e-11   0.00930912 -1.12162e-09  8.26708e-11  3.23815e-11  -8.0921e-12     0.017888      1.03706   -0.0206208    0.0206208 -1.57864e-09 -4.89413e-11  -0.00300377          nan          nan          nan          nan          nan          nan          nan          nan          nan          nan          nan          nan\r\n",
      "-1.91652e-10   1.6123e-10   -0.0170265    0.0176735    0.0208729   -0.0263869  -1.2618e-10 -2.02675e-10  -0.00378698  1.09054e-09  -2.6302e-11   -0.0121474  1.60335e-09 -5.25309e-11 -1.60146e-10 -9.37438e-11   -0.0206208   -0.0206208      1.04816   -0.0289932  1.98891e-09  1.03708e-10  -0.00431295          nan          nan          nan          nan          nan          nan          nan          nan          nan          nan          nan          nan\r\n",
      " 4.04083e-10 -4.16174e-12    0.0176735   -0.0170265    0.0263869   -0.0208729 -1.35072e-10  9.62881e-12   0.00378698 -4.33057e-11  2.28751e-11    0.0121474 -1.46256e-09 -5.37475e-11  4.19897e-11  5.43546e-12    0.0206208    0.0206208   -0.0289932      1.04816 -2.05917e-09 -5.42679e-11   0.00431295          nan          nan          nan          nan          nan          nan          nan          nan          nan          nan          nan          nan\r\n",
      "   0.0745728   0.00140742    5.473e-09 -5.48761e-09 -7.36707e-09 -7.34389e-09   -0.0700169  -0.00132144  4.10282e-09    0.0247184   -0.0176961  1.74279e-09    0.0091936 -0.000299453    0.0362823  0.000684762  1.23823e-09  1.26723e-09 -1.61074e-09  1.65149e-09    -0.195058 -8.52779e-12  3.82563e-10          nan          nan          nan          nan          nan          nan          nan          nan          nan          nan          nan          nan\r\n",
      "  0.00140742   -0.0745728  4.11676e-10 -4.34612e-10 -9.18903e-12 -2.39127e-11  -0.00132144    0.0700169  1.18904e-10   -0.0176961   -0.0247184  4.93943e-11  0.000299453    0.0091936  0.000684762   -0.0362823 -4.54255e-11  -4.8781e-12 -1.09366e-10  8.01673e-11 -8.52774e-12    -0.195058  6.14555e-09          nan          nan          nan          nan          nan          nan          nan          nan          nan          nan          nan          nan\r\n",
      " 1.15826e-11  8.00904e-10   0.00566895  -0.00566895    0.0180284    0.0180284 -5.59827e-11   -7.008e-10  -0.00437794  1.15135e-09   1.4757e-09   -0.0018804  1.43136e-10 -1.19851e-10    1.499e-11  3.11277e-11  -0.00561601  -0.00561601   -0.0030646    0.0030646  8.29982e-10  6.30114e-09        1.054          nan          nan          nan          nan          nan          nan          nan          nan          nan          nan          nan          nan\r\n",
      "        -nan         -nan         -nan         -nan         -nan         -nan         -nan         -nan         -nan         -nan         -nan         -nan         -nan         -nan         -nan         -nan         -nan         -nan         -nan         -nan         -nan         -nan         -nan          nan          nan          nan          nan          nan          nan          nan          nan          nan          nan          nan          nan\r\n",
      "        -nan         -nan         -nan         -nan         -nan         -nan         -nan         -nan         -nan         -nan         -nan         -nan         -nan         -nan         -nan         -nan         -nan         -nan         -nan         -nan         -nan         -nan         -nan         -nan         -nan         -nan         -nan         -nan         -nan         -nan         -nan         -nan         -nan         -nan         -nan\r\n",
      "        -nan         -nan         -nan         -nan         -nan         -nan         -nan         -nan         -nan         -nan         -nan         -nan         -nan         -nan         -nan         -nan         -nan         -nan         -nan         -nan         -nan         -nan         -nan         -nan         -nan         -nan         -nan         -nan         -nan         -nan         -nan         -nan         -nan         -nan         -nan\r\n",
      "        -nan         -nan         -nan         -nan         -nan         -nan         -nan         -nan         -nan         -nan         -nan         -nan         -nan         -nan         -nan         -nan         -nan         -nan         -nan         -nan         -nan         -nan         -nan          nan          nan          nan          nan          nan          nan          nan          nan          nan          nan          nan          nan\r\n",
      "        -nan         -nan         -nan         -nan         -nan         -nan         -nan         -nan         -nan         -nan         -nan         -nan         -nan         -nan         -nan         -nan         -nan         -nan         -nan         -nan         -nan         -nan         -nan          nan          nan          nan          nan          nan          nan          nan          nan          nan          nan          nan          nan\r\n",
      "        -nan         -nan         -nan         -nan         -nan         -nan         -nan         -nan         -nan         -nan         -nan         -nan         -nan         -nan         -nan         -nan         -nan         -nan         -nan         -nan         -nan         -nan         -nan         -nan         -nan         -nan         -nan         -nan         -nan         -nan         -nan         -nan         -nan         -nan         -nan\r\n",
      "        -nan         -nan         -nan         -nan         -nan         -nan         -nan         -nan         -nan         -nan         -nan         -nan         -nan         -nan         -nan         -nan         -nan         -nan         -nan         -nan         -nan         -nan         -nan         -nan         -nan         -nan         -nan         -nan         -nan         -nan         -nan         -nan         -nan         -nan         -nan\r\n",
      "        -nan         -nan         -nan         -nan         -nan         -nan         -nan         -nan         -nan         -nan         -nan         -nan         -nan         -nan         -nan         -nan         -nan         -nan         -nan         -nan         -nan         -nan         -nan          nan          nan          nan          nan          nan          nan          nan          nan          nan          nan          nan          nan\r\n",
      "        -nan         -nan         -nan         -nan         -nan         -nan         -nan         -nan         -nan         -nan         -nan         -nan         -nan         -nan         -nan         -nan         -nan         -nan         -nan         -nan         -nan         -nan         -nan          nan          nan          nan          nan          nan          nan          nan          nan          nan          nan          nan          nan\r\n",
      "        -nan         -nan         -nan         -nan         -nan         -nan         -nan         -nan         -nan         -nan         -nan         -nan         -nan         -nan         -nan         -nan         -nan         -nan         -nan         -nan         -nan         -nan         -nan         -nan          nan          nan          nan         -nan          nan          nan          nan         -nan          nan          nan          nan\r\n",
      "        -nan         -nan         -nan         -nan         -nan         -nan         -nan         -nan         -nan         -nan         -nan         -nan         -nan         -nan         -nan         -nan         -nan         -nan         -nan         -nan         -nan         -nan         -nan         -nan          nan          nan          nan         -nan          nan          nan          nan         -nan          nan          nan          nan\r\n",
      "        -nan         -nan         -nan         -nan         -nan         -nan         -nan         -nan         -nan         -nan         -nan         -nan         -nan         -nan         -nan         -nan         -nan         -nan         -nan         -nan         -nan         -nan         -nan         -nan         -nan         -nan         -nan         -nan         -nan         -nan         -nan         -nan         -nan         -nan         -nan\r\n",
      "B\r\n",
      "   0.0903883  -6.2034e-13    2.848e-10 -3.59336e-10 -4.83508e-10 -3.83887e-10   -0.0326152  6.25677e-13   3.6671e-10    0.0118804  -0.00884906  1.49744e-10    -0.048103  0.000658544    0.0477611 -9.24017e-13  9.96339e-11  3.11628e-10 -1.22025e-10  4.08687e-10   -0.0244241  -0.00046096 -4.18208e-11         -nan         -nan         -nan         -nan         -nan         -nan         -nan         -nan         -nan         -nan         -nan         -nan\r\n",
      "-6.20337e-13    0.0903883 -7.30657e-11  1.72687e-10 -1.26116e-10 -5.15803e-11  6.25759e-13   -0.0326152 -1.91841e-12   0.00884906    0.0118804 -4.22579e-13  0.000658544     0.048103 -9.23895e-13    0.0477611  2.97244e-10  1.05824e-11  2.26585e-10 -1.45907e-11  -0.00046096    0.0244241  7.66811e-10         -nan         -nan         -nan         -nan         -nan         -nan         -nan         -nan         -nan         -nan         -nan         -nan\r\n",
      "   2.848e-10 -7.30657e-11     0.139646   -0.0348117   -0.0541568   -0.0541568  -9.0246e-11  6.44953e-11    0.0390561  2.50014e-11 -9.96353e-11     0.019064 -2.05033e-09  6.49006e-11  1.06814e-10   -3.167e-11   -0.0544276   0.00914524   -0.0148946    0.0157649  -4.0437e-10  9.25027e-11    0.0314976         -nan         -nan         -nan         -nan         -nan         -nan         -nan         -nan         -nan         -nan         -nan         -nan\r\n",
      "-3.59336e-10  1.72687e-10   -0.0348117     0.139646    0.0541568    0.0541568  1.21775e-10 -1.08122e-10   -0.0390561 -2.45261e-11  1.05143e-10    -0.019064  2.07978e-09 -2.72974e-11  -2.2279e-10  1.87886e-10  -0.00914524    0.0544276    0.0157649   -0.0148946  4.73528e-10  3.68371e-12   -0.0314976         -nan         -nan         -nan         -nan         -nan         -nan         -nan         -nan         -nan         -nan         -nan         -nan\r\n",
      "-4.83508e-10 -1.26116e-10   -0.0541568    0.0541568     0.172016    0.0671824  1.64944e-10  7.44638e-11   -0.0524354 -1.21124e-10  2.48858e-11   -0.0255946   2.7918e-09  4.70007e-12 -2.99653e-10 -1.34021e-10   -0.0143919   -0.0152622    0.0177101    0.0458628  6.40681e-10  2.77436e-11    0.0289868         -nan         -nan         -nan         -nan         -nan         -nan         -nan         -nan         -nan         -nan         -nan         -nan\r\n",
      "-3.83887e-10 -5.15803e-11   -0.0541568    0.0541568    0.0671824     0.172016  1.21317e-10  4.29343e-11   -0.0524354 -1.15616e-10  2.44104e-11   -0.0255946  2.75419e-09  3.41516e-11 -1.43437e-10 -1.80449e-11   -0.0152622   -0.0143919   -0.0458628   -0.0177101  5.43851e-10  9.75741e-11    0.0289868         -nan         -nan         -nan         -nan         -nan         -nan         -nan         -nan         -nan         -nan         -nan         -nan\r\n",
      "  -0.0326152  6.25757e-13  -9.0246e-11  1.21775e-10  1.64944e-10  1.21317e-10     0.236624 -1.37317e-13 -1.35482e-10   -0.0115339   0.00859092 -2.41281e-11   -0.0094985  0.000130037    0.0424653  4.00069e-12  1.63745e-10 -1.24384e-10 -2.24705e-10 -1.65082e-10  -0.00359501 -6.78492e-05 -5.64493e-12         -nan         -nan         -nan         -nan         -nan         -nan         -nan         -nan         -nan         -nan         -nan         -nan\r\n",
      " 6.25679e-13   -0.0326152  6.44953e-11 -1.08122e-10  7.44638e-11  4.29343e-11 -1.37317e-13     0.236624  3.40313e-12  -0.00859092   -0.0115339  9.84914e-13  0.000130037    0.0094985   4.0006e-12    0.0424653 -4.03011e-10  -1.3224e-11 -3.03366e-10  1.52373e-11 -6.78492e-05   0.00359501 -8.20715e-10         -nan         -nan         -nan         -nan         -nan         -nan         -nan         -nan         -nan         -nan         -nan         -nan\r\n",
      "  3.6671e-10 -1.91841e-12    0.0390561   -0.0390561   -0.0524354   -0.0524354 -1.35482e-10  3.40313e-12     0.424108  3.28556e-10 -2.47067e-10   -0.0112617 -9.32862e-10  4.44845e-12  1.82484e-10  -3.0105e-12  0.000394913  0.000394913 -0.000515319  0.000515319 -1.09341e-09 -3.45094e-11  -0.00120234         -nan         -nan         -nan         -nan         -nan         -nan         -nan         -nan         -nan         -nan         -nan         -nan\r\n",
      "   0.0118804   0.00884906  2.50014e-11 -2.45261e-11 -1.21124e-10 -1.15616e-10   -0.0115339  -0.00859092  3.28556e-10     0.446812  9.51136e-13 -1.11793e-10 -0.000384285  0.000294496   0.00865783   0.00644872 -4.74972e-11 -5.32624e-11  1.82872e-09 -7.88433e-11   -0.0144432    0.0103399  1.79255e-09         -nan         -nan         -nan         -nan         -nan         -nan         -nan         -nan         -nan         -nan         -nan         -nan\r\n",
      " -0.00884906    0.0118804 -9.96353e-11  1.05143e-10  2.48858e-11  2.44104e-11   0.00859092   -0.0115339 -2.47067e-10  9.51196e-13     0.446812  8.47531e-11  0.000294496  0.000384285  -0.00644872   0.00865783  1.80356e-09  5.36854e-11 -4.70896e-11  4.13244e-11    0.0103399    0.0144432  2.38488e-09         -nan         -nan         -nan         -nan         -nan         -nan         -nan         -nan         -nan         -nan         -nan         -nan\r\n",
      " 1.49744e-10 -4.22579e-13     0.019064    -0.019064   -0.0255946   -0.0255946 -2.41281e-11  9.84914e-13   -0.0112617 -1.11793e-10  8.47531e-11     0.627074 -6.54358e-10   1.5284e-12  1.02976e-10 -5.83436e-13    0.0133364    0.0133364   -0.0174026    0.0174026 -2.09262e-10 -7.89949e-12 -0.000495452         -nan         -nan         -nan         -nan         -nan         -nan         -nan         -nan         -nan         -nan         -nan         -nan\r\n",
      "   -0.048103  0.000658544 -2.05033e-09  2.07978e-09   2.7918e-09  2.75419e-09   -0.0094985  0.000130037 -9.32862e-10 -0.000384285  0.000294496 -6.54358e-10     0.912954  -7.1212e-13    0.0215517  -0.00029505 -2.20539e-09 -1.98989e-09  2.87997e-09 -2.59452e-09   -0.0227041 -0.000739515 -5.26346e-11         -nan         -nan         -nan         -nan         -nan         -nan         -nan         -nan         -nan         -nan         -nan         -nan\r\n",
      " 0.000658544     0.048103  6.49006e-11 -2.72974e-11  4.70007e-12  3.41516e-11  0.000130037    0.0094985  4.44845e-12  0.000294496  0.000384285   1.5284e-12 -7.12098e-13     0.912954  -0.00029505   -0.0215517 -1.23536e-10  1.61916e-10 -1.09031e-10 -1.06463e-10  0.000739515   -0.0227041 -1.07671e-10         -nan         -nan         -nan         -nan         -nan         -nan         -nan         -nan         -nan         -nan         -nan         -nan\r\n",
      "   0.0477611 -9.23897e-13  1.06814e-10  -2.2279e-10 -2.99653e-10 -1.43437e-10    0.0424653   4.0006e-12  1.82484e-10   0.00865783  -0.00644872  1.02976e-10    0.0215517  -0.00029505     0.952112  2.99342e-12  1.98625e-10  4.92895e-11 -2.63585e-10  6.38948e-11   0.00321148  6.06108e-05 -7.13364e-12         -nan         -nan         -nan         -nan         -nan         -nan         -nan         -nan         -nan         -nan         -nan         -nan\r\n",
      "-9.24018e-13    0.0477611   -3.167e-11  1.87886e-10 -1.34021e-10 -1.80449e-11  4.00069e-12    0.0424653  -3.0105e-12   0.00644872   0.00865783 -5.83436e-13  -0.00029505   -0.0215517  2.99343e-12     0.952112 -2.09238e-10  -9.5479e-12 -1.55424e-10   6.0885e-12  6.06108e-05  -0.00321148 -4.80954e-10         -nan         -nan         -nan         -nan         -nan         -nan         -nan         -nan         -nan         -nan         -nan         -nan\r\n",
      " 9.96339e-11  2.97244e-10   -0.0544276  -0.00914524   -0.0143919   -0.0152622  1.63745e-10 -4.03011e-10  0.000394913 -4.74972e-11  1.80356e-09    0.0133364 -2.20539e-09 -1.23536e-10  1.98625e-10 -2.09238e-10      1.07469    0.0337245   -0.0382662    0.0382662  -4.7056e-10  1.03711e-10   -0.0123091         -nan         -nan         -nan         -nan         -nan         -nan         -nan         -nan         -nan         -nan         -nan         -nan\r\n",
      " 3.11628e-10  1.05824e-11   0.00914524    0.0544276   -0.0152622   -0.0143919 -1.24384e-10  -1.3224e-11  0.000394913 -5.32624e-11  5.36854e-11    0.0133364 -1.98989e-09  1.61916e-10  4.92895e-11  -9.5479e-12    0.0337245      1.07469   -0.0382662    0.0382662 -5.92543e-10 -6.91308e-11   -0.0123091         -nan         -nan         -nan         -nan         -nan         -nan         -nan         -nan         -nan         -nan         -nan         -nan\r\n",
      "-1.22025e-10  2.26585e-10   -0.0148946    0.0157649    0.0177101   -0.0458628 -2.24705e-10 -3.03366e-10 -0.000515319  1.82872e-09 -4.70896e-11   -0.0174026  2.87997e-09 -1.09031e-10 -2.63585e-10 -1.55424e-10   -0.0382662   -0.0382662       1.0953   -0.0543325  6.01647e-10  1.02238e-10   -0.0113379         -nan         -nan         -nan         -nan         -nan         -nan         -nan         -nan         -nan         -nan         -nan         -nan\r\n",
      " 4.08687e-10 -1.45907e-11    0.0157649   -0.0148946    0.0458628   -0.0177101 -1.65082e-10  1.52373e-11  0.000515319 -7.88433e-11  4.13244e-11    0.0174026 -2.59452e-09 -1.06463e-10  6.38948e-11   6.0885e-12    0.0382662    0.0382662   -0.0543325       1.0953 -7.74193e-10  1.94187e-11    0.0113379         -nan         -nan         -nan         -nan         -nan         -nan         -nan         -nan         -nan         -nan         -nan         -nan\r\n",
      "  -0.0559715  -0.00105636 -3.91889e-09  3.98384e-09  5.35664e-09  5.26469e-09  -0.00259784 -4.90294e-05 -1.12193e-09  -0.00896991   0.00642161 -2.78433e-10   -0.0177736  0.000578919    0.0179749  0.000339243  5.28684e-11  7.90879e-11 -6.31286e-11  9.83292e-11     0.583856 -9.31981e-12  2.95689e-10         -nan         -nan         -nan         -nan         -nan         -nan         -nan         -nan         -nan         -nan         -nan         -nan\r\n",
      " -0.00105636    0.0559715 -6.39658e-11  1.55096e-10  1.05175e-10   1.7098e-10 -4.90294e-05   0.00259784 -2.99196e-11   0.00642161   0.00896991 -7.11781e-12 -0.000578919   -0.0177736  0.000339243   -0.0179749 -1.41102e-10 -1.06222e-10 -1.15676e-10  8.91213e-11 -9.31972e-12     0.583856  4.55781e-09         -nan         -nan         -nan         -nan         -nan         -nan         -nan         -nan         -nan         -nan         -nan         -nan\r\n",
      "-6.52052e-11  4.40413e-10    0.0321069   -0.0321069    0.0289634    0.0289634 -2.72787e-12  -8.7961e-10  -0.00254522  1.65399e-09  2.19607e-09  -0.00130175  9.36551e-11 -7.08861e-11 -9.67898e-12 -6.10073e-10   -0.0136965   -0.0136965   -0.0109818    0.0109818   7.7544e-10  5.06029e-09      2.11651         -nan         -nan         -nan         -nan         -nan         -nan         -nan         -nan         -nan         -nan         -nan         -nan\r\n",
      "        -nan         -nan         -nan         -nan         -nan         -nan         -nan         -nan         -nan         -nan         -nan         -nan         -nan         -nan         -nan         -nan         -nan         -nan         -nan         -nan         -nan         -nan         -nan         -nan         -nan         -nan         -nan         -nan         -nan         -nan         -nan         -nan         -nan         -nan         -nan\r\n",
      "        -nan         -nan         -nan         -nan         -nan         -nan         -nan         -nan         -nan         -nan         -nan         -nan         -nan         -nan         -nan         -nan         -nan         -nan         -nan         -nan         -nan         -nan         -nan         -nan         -nan         -nan         -nan         -nan         -nan         -nan         -nan         -nan         -nan         -nan         -nan\r\n",
      "        -nan         -nan         -nan         -nan         -nan         -nan         -nan         -nan         -nan         -nan         -nan         -nan         -nan         -nan         -nan         -nan         -nan         -nan         -nan         -nan         -nan         -nan         -nan         -nan         -nan         -nan         -nan         -nan         -nan         -nan         -nan         -nan         -nan         -nan         -nan\r\n",
      "        -nan         -nan         -nan         -nan         -nan         -nan         -nan         -nan         -nan         -nan         -nan         -nan         -nan         -nan         -nan         -nan         -nan         -nan         -nan         -nan         -nan         -nan         -nan         -nan         -nan         -nan         -nan         -nan         -nan         -nan         -nan         -nan         -nan         -nan         -nan\r\n",
      "        -nan         -nan         -nan         -nan         -nan         -nan         -nan         -nan         -nan         -nan         -nan         -nan         -nan         -nan         -nan         -nan         -nan         -nan         -nan         -nan         -nan         -nan         -nan         -nan         -nan         -nan         -nan         -nan         -nan         -nan         -nan         -nan         -nan         -nan         -nan\r\n",
      "        -nan         -nan         -nan         -nan         -nan         -nan         -nan         -nan         -nan         -nan         -nan         -nan         -nan         -nan         -nan         -nan         -nan         -nan         -nan         -nan         -nan         -nan         -nan         -nan         -nan         -nan         -nan         -nan         -nan         -nan         -nan         -nan         -nan         -nan         -nan\r\n",
      "        -nan         -nan         -nan         -nan         -nan         -nan         -nan         -nan         -nan         -nan         -nan         -nan         -nan         -nan         -nan         -nan         -nan         -nan         -nan         -nan         -nan         -nan         -nan         -nan         -nan         -nan         -nan         -nan         -nan         -nan         -nan         -nan         -nan         -nan         -nan\r\n",
      "        -nan         -nan         -nan         -nan         -nan         -nan         -nan         -nan         -nan         -nan         -nan         -nan         -nan         -nan         -nan         -nan         -nan         -nan         -nan         -nan         -nan         -nan         -nan         -nan         -nan         -nan         -nan         -nan         -nan         -nan         -nan         -nan         -nan         -nan         -nan\r\n",
      "        -nan         -nan         -nan         -nan         -nan         -nan         -nan         -nan         -nan         -nan         -nan         -nan         -nan         -nan         -nan         -nan         -nan         -nan         -nan         -nan         -nan         -nan         -nan         -nan         -nan         -nan         -nan         -nan         -nan         -nan         -nan         -nan         -nan         -nan         -nan\r\n",
      "        -nan         -nan         -nan         -nan         -nan         -nan         -nan         -nan         -nan         -nan         -nan         -nan         -nan         -nan         -nan         -nan         -nan         -nan         -nan         -nan         -nan         -nan         -nan         -nan         -nan         -nan         -nan         -nan         -nan         -nan         -nan         -nan         -nan         -nan         -nan\r\n",
      "        -nan         -nan         -nan         -nan         -nan         -nan         -nan         -nan         -nan         -nan         -nan         -nan         -nan         -nan         -nan         -nan         -nan         -nan         -nan         -nan         -nan         -nan         -nan         -nan         -nan         -nan         -nan         -nan         -nan         -nan         -nan         -nan         -nan         -nan         -nan\r\n",
      "        -nan         -nan         -nan         -nan         -nan         -nan         -nan         -nan         -nan         -nan         -nan         -nan         -nan         -nan         -nan         -nan         -nan         -nan         -nan         -nan         -nan         -nan         -nan          nan          nan          nan          nan          nan          nan          nan          nan          nan          nan          nan          nan\r\n",
      "an error occurred:\r\n",
      "Small generalized eigenvalue problem failed.\r\n"
     ]
    }
   ],
   "source": [
    "!xtp_tools -c job_name=CO geometry_optimization.maxiter=1 dftpackage.basisset=3-21G dftpackage.auxbasisset=aux-def2-svp gwbse.gw.mode=G0W0 -e dftgwbse -t 4"
   ]
  },
  {
   "cell_type": "markdown",
   "metadata": {},
   "source": [
    "Notice that we are using 4 threads. The results will be stored in a file named `CO_summary.xml` in the current work directory, together with the optimization step in `optimisation.trj` and the orbitals in [hdf5 format](https://www.hdfgroup.org/solutions/hdf5/) saved on `CO.orb`."
   ]
  }
 ],
 "metadata": {
  "kernelspec": {
   "display_name": "Python 3",
   "language": "python",
   "name": "python3"
  },
  "language_info": {
   "codemirror_mode": {
    "name": "ipython",
    "version": 3
   },
   "file_extension": ".py",
   "mimetype": "text/x-python",
   "name": "python",
   "nbconvert_exporter": "python",
   "pygments_lexer": "ipython3",
   "version": "3.10.1"
  }
 },
 "nbformat": 4,
 "nbformat_minor": 4
}
