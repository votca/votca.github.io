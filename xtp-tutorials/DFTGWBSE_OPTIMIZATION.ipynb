{
 "cells": [
  {
   "cell_type": "markdown",
   "metadata": {},
   "source": [
    "## DFT + GWBSE Optimization Using CO"
   ]
  },
  {
   "cell_type": "markdown",
   "metadata": {},
   "source": [
    "## Introduction\n",
    "This tutorial explains how to perform a molecular geometric optimization using the **GWBSE** method. See [the GW Compendium: A Practical Guide to Theoretical Photoemission Spectroscopy](https://doi.org/10.3389/fchem.2019.00377), for an excellent introduction to the method."
   ]
  },
  {
   "cell_type": "markdown",
   "metadata": {},
   "source": [
    "## Requirements\n",
    "* You will need to install **VOTCA** using the instructions described [here](https://github.com/votca/votca/blob/master/share/doc/INSTALL.rst)\n",
    "* Once the installation is completed you need to activate the VOTCA enviroment by running the `VOTCARC.bash` script that has been installed at the bin subfolder for the path that you have provided for the installation step above"
   ]
  },
  {
   "cell_type": "markdown",
   "metadata": {},
   "source": [
    "## Preparing the input\n",
    "To run a DFT-GWBSE calculation we will use the [xtp_tools](https://www.votca.org/xtp/xtp_tools_overview.html) calculator."
   ]
  },
  {
   "cell_type": "markdown",
   "metadata": {},
   "source": [
    "we can now change the calculator mode from single point energy calculation to optimization as follows by adding \n",
    "`-c geometry_optimization.maxiter=1` which enables optimization with one iteration. "
   ]
  },
  {
   "cell_type": "markdown",
   "metadata": {},
   "source": [
    "Because geometry optimsation is quite expensive numerically we chose a smaller basisset and G0W0 Finally, to run the calculation we just need the following command (This still takes a while)"
   ]
  },
  {
   "cell_type": "code",
   "execution_count": 1,
   "metadata": {
    "execution": {
     "iopub.execute_input": "2022-07-08T20:55:08.896053Z",
     "iopub.status.busy": "2022-07-08T20:55:08.895514Z",
     "iopub.status.idle": "2022-07-08T20:56:26.425360Z",
     "shell.execute_reply": "2022-07-08T20:56:26.425791Z"
    }
   },
   "outputs": [
    {
     "name": "stdout",
     "output_type": "stream",
     "text": [
      "==================================================\r\n",
      "========   VOTCA (http://www.votca.org)   ========\r\n",
      "==================================================\r\n",
      "\r\n",
      "please submit bugs to https://github.com/votca/xtp/issues\r\n",
      "\r\n",
      "xtp_tools, version 2023-dev gitid: 97a4ed8 (compiled Jul  8 2022, 20:44:35)\r\n",
      "votca_csg, version 2023-dev gitid: 97a4ed8 (compiled Jul  8 2022, 20:24:40)\r\n",
      "votca_tools, version 2023-dev gitid: 97a4ed8 (compiled Jul  8 2022, 20:21:00)\r\n",
      "\r\n",
      "Initializing tool\r\n",
      "... dftgwbse Evaluating tool\r\n",
      "... dftgwbse  Using 4 threads\r\n",
      "... ... Reading structure from CO.xyz\r\n",
      "... ... Requested geometry optimization of excited state s1\r\n",
      "... ... Initial state: s1\r\n",
      "... ... WARNING: No tracker is used \r\n",
      "... ... Convergence of total energy: 0.000001 Hartree \r\n",
      "... ... Convergence of RMS Force:    0.000030 Hartree/Bohr \r\n",
      "... ... Convergence of Max Force:    0.000100 Hartree/Bohr \r\n",
      "... ... Convergence of RMS Step:     0.000600 Bohr \r\n",
      "... ... Convergence of Max Step:     0.001000 Bohr \r\n",
      "... ... Initial trust radius:        0.018897 Bohr\r\n",
      "... ... \r\n",
      "... ... =========== OPTIMIZATION SUMMARY ================================= \r\n",
      "... ... At iteration  0\r\n",
      "... ...  ---- POSITIONS (Angstrom)   \r\n",
      "... ...  Atom\t x\t  y\t  z \r\n",
      "... ...    0    +0.0000  +0.0000  +0.0000\r\n",
      "... ...    1    +1.2000  +0.0000  +0.0000\r\n",
      "... ...    Total energy:     -112.26831841 Hartree \r\n",
      "... ...    Trust radius:       0.01889726 Bohr     \r\n",
      "... ...  ---- FORCES (Hartree/Bohr)   \r\n",
      "... ...       central differences   \r\n",
      "... ...       displacement 0.0010 Angstrom   \r\n",
      "... ...  Atom\t x\t  y\t  z \r\n",
      "... ...    0    -0.1314  -0.0000  -0.0000\r\n",
      "... ...    1    +0.1314  +0.0000  +0.0000A\r\n",
      "    0.301149 -1.39215e-12  7.70934e-10 -8.88052e-10 -1.19897e-09 -1.04174e-09   -0.0519724  1.01991e-12  5.92029e-10     0.014163   -0.0105085  2.25008e-10   -0.0390253  0.000528483    0.0423984 -8.04666e-13  1.50878e-10  3.07539e-10 -1.91978e-10   4.0471e-10    -0.107078  -0.00208243 -6.01131e-11 -1.95594e-10          nan          nan          nan          nan          nan          nan          nan          nan          nan          nan          nan\r\n",
      "-1.39214e-12     0.301149 -1.48553e-10  3.05789e-10   -2.203e-10 -1.03182e-10  1.01983e-12   -0.0519724 -2.96745e-12    0.0105085     0.014163 -6.50195e-13  0.000528483    0.0390253 -8.04732e-13    0.0423984  2.10784e-10 -1.94908e-12  1.60752e-10 -4.09155e-12  -0.00208243     0.107078 -5.83661e-11  5.01114e-12          nan          nan          nan          nan          nan          nan          nan          nan          nan          nan          nan\r\n",
      " 7.70934e-10 -1.48553e-10     0.392378   -0.0721444    -0.110824    -0.110824 -1.83432e-10  9.47986e-11    0.0542284  3.42835e-11 -1.16493e-10    0.0244448 -1.89861e-09  5.74437e-11  1.23817e-10 -3.05383e-11   -0.0362488    0.0110111   -0.0170099    0.0176499   -7.979e-09 -3.79334e-10    0.0241863    0.0139706          nan          nan          nan          nan          nan          nan          nan          nan          nan          nan          nan\r\n",
      "-8.88052e-10  3.05789e-10   -0.0721444     0.392378     0.110824     0.110824  2.22215e-10 -1.49128e-10   -0.0542284 -3.37739e-11  1.20778e-10   -0.0244448  1.91852e-09 -3.19426e-11 -2.13775e-10  1.52381e-10   -0.0110111    0.0362488    0.0176499   -0.0170099  8.06094e-09  4.96577e-10   -0.0241863    0.0139706          nan          nan          nan          nan          nan          nan          nan          nan          nan          nan          nan\r\n",
      "-1.19897e-09   -2.203e-10    -0.110824     0.110824     0.459514     0.139281  3.01584e-10  1.00508e-10   -0.0730869 -1.43165e-10  3.35461e-11   -0.0329457  2.58556e-09  9.87811e-12 -2.88618e-10 -1.07636e-10   -0.0168025   -0.0174425    0.0209392    0.0263207  1.08684e-08  1.14539e-10   0.00982214    0.0172822          nan          nan          nan          nan          nan          nan          nan          nan          nan          nan          nan\r\n",
      "-1.04174e-09 -1.03182e-10    -0.110824     0.110824     0.139281     0.459514  2.47255e-10  6.17248e-11   -0.0730869  -1.3888e-10  3.30365e-11   -0.0329457  2.56006e-09  2.97874e-11 -1.66775e-10 -1.76771e-11   -0.0174425   -0.0168025   -0.0263207   -0.0209392  1.07502e-08  1.97307e-10   0.00982214   -0.0172822          nan          nan          nan          nan          nan          nan          nan          nan          nan          nan          nan\r\n",
      "  -0.0519724  1.01983e-12 -1.83432e-10  2.22215e-10  3.01584e-10  2.47255e-10     0.486835  -2.4492e-13 -1.77663e-10   -0.0109499   0.00812451 -3.96545e-11   -0.0083053  0.000112471    0.0301449  2.91514e-12  9.07907e-11 -1.01754e-10  -1.2633e-10 -1.35292e-10    0.0549836   0.00106931   4.0324e-11  1.51609e-10          nan          nan          nan          nan          nan          nan          nan          nan          nan          nan          nan\r\n",
      " 1.01991e-12   -0.0519724  9.47986e-11 -1.49128e-10  1.00508e-10  6.17248e-11 -2.44912e-13     0.486835  4.00992e-12  -0.00812451   -0.0109499  1.15233e-12  0.000112471    0.0083053  2.91522e-12    0.0301449 -2.68881e-10 -7.25835e-12 -2.02148e-10  9.60338e-12   0.00106931   -0.0549836 -2.31543e-10 -1.73453e-12          nan          nan          nan          nan          nan          nan          nan          nan          nan          nan          nan\r\n",
      " 5.92029e-10 -2.96745e-12    0.0542284   -0.0542284   -0.0730869   -0.0730869 -1.77663e-10  4.00992e-12     0.659928  2.68742e-10 -2.00963e-10  -0.00518518 -7.77966e-10  3.36405e-12  1.34331e-10 -2.17963e-12   0.00289457   0.00289457  -0.00379277   0.00379277 -5.23476e-09 -1.53299e-10   0.00257772  1.14264e-10          nan          nan          nan          nan          nan          nan          nan          nan          nan          nan          nan\r\n",
      "    0.014163    0.0105085  3.42835e-11 -3.37739e-11 -1.43165e-10  -1.3888e-10   -0.0109499  -0.00812451  2.68742e-10     0.668107  7.24579e-13 -7.86663e-11  1.34459e-05 -1.02617e-05   0.00727603   0.00539861 -2.63136e-11 -2.98148e-11  1.09064e-09 -4.34126e-11   -0.0333819    0.0237761  8.10431e-10 -1.07539e-09          nan          nan          nan          nan          nan          nan          nan          nan          nan          nan          nan\r\n",
      "  -0.0105085     0.014163 -1.16493e-10  1.20778e-10  3.35461e-11  3.30365e-11   0.00812451   -0.0109499 -2.00963e-10  7.24422e-13     0.668107  5.95566e-11 -1.02617e-05 -1.34459e-05  -0.00539861   0.00727603  1.07664e-09  2.94053e-11 -2.62713e-11  2.27701e-11    0.0237761    0.0333819   1.1278e-09  7.95905e-10          nan          nan          nan          nan          nan          nan          nan          nan          nan          nan          nan\r\n",
      " 2.25008e-10 -6.50195e-13    0.0244448   -0.0244448   -0.0329457   -0.0329457 -3.96545e-11  1.15233e-12  -0.00518518 -7.86663e-11  5.95566e-11     0.793012 -5.03133e-10  1.24633e-12  7.47807e-11 -4.81283e-13   0.00928484   0.00928484    -0.012166     0.012166 -1.99249e-09 -5.75933e-11   0.00105317  5.30626e-11          nan          nan          nan          nan          nan          nan          nan          nan          nan          nan          nan\r\n",
      "  -0.0390253  0.000528483 -1.89861e-09  1.91852e-09  2.58556e-09  2.56006e-09   -0.0083053  0.000112471 -7.77966e-10  1.34459e-05 -1.02617e-05 -5.03133e-10     0.954263 -4.00021e-13    0.0128739 -0.000174339 -1.22469e-09  -1.1187e-09  1.60581e-09 -1.46479e-09   -0.0198855 -0.000656193 -1.20256e-10 -4.94365e-11          nan          nan          nan          nan          nan          nan          nan          nan          nan          nan          nan\r\n",
      " 0.000528483    0.0390253  5.74437e-11 -3.19426e-11  9.87811e-12  2.97874e-11  0.000112471    0.0083053  3.36405e-12 -1.02617e-05 -1.34459e-05  1.24633e-12 -4.00023e-13     0.954263 -0.000174339   -0.0128739 -5.81473e-11   8.2865e-11 -5.25186e-11 -5.34686e-11  0.000656193   -0.0198855  3.45604e-11  7.27652e-14          nan          nan          nan          nan          nan          nan          nan          nan          nan          nan          nan\r\n",
      "   0.0423984 -8.04732e-13  1.23817e-10 -2.13775e-10 -2.88618e-10 -1.66775e-10    0.0301449  2.91522e-12  1.34331e-10   0.00727603  -0.00539861  7.47807e-11    0.0128739 -0.000174339     0.973645  1.57429e-12  1.20389e-10  3.23077e-11 -1.60372e-10  4.20467e-11   -0.0229462 -0.000446254 -1.84112e-11   1.7178e-10          nan          nan          nan          nan          nan          nan          nan          nan          nan          nan          nan\r\n",
      "-8.04666e-13    0.0423984 -3.05383e-11  1.52381e-10 -1.07636e-10 -1.76771e-11  2.91514e-12    0.0301449 -2.17963e-12   0.00539861   0.00727603 -4.81283e-13 -0.000174339   -0.0128739   1.5743e-12     0.973645 -1.26415e-10 -8.08973e-12 -9.35182e-11  5.43684e-12 -0.000446254    0.0229462 -5.39206e-10  1.84332e-12          nan          nan          nan          nan          nan          nan          nan          nan          nan          nan          nan\r\n",
      " 1.50878e-10  2.10784e-10   -0.0362488   -0.0110111   -0.0168025   -0.0174425  9.07907e-11 -2.68881e-10   0.00289457 -2.63136e-11  1.07664e-09   0.00928484 -1.22469e-09 -5.81473e-11  1.20389e-10 -1.26415e-10      1.03698    0.0178057   -0.0205985    0.0205985 -1.52505e-09  2.09715e-11    -0.003002 -0.000149254          nan          nan          nan          nan          nan          nan          nan          nan          nan          nan          nan\r\n",
      " 3.07539e-10 -1.94908e-12    0.0110111    0.0362488   -0.0174425   -0.0168025 -1.01754e-10 -7.25835e-12   0.00289457 -2.98148e-11  2.94053e-11   0.00928484  -1.1187e-09   8.2865e-11  3.23077e-11 -8.08973e-12    0.0178057      1.03698   -0.0205985    0.0205985 -1.57434e-09 -4.94181e-11    -0.003002  0.000149254          nan          nan          nan          nan          nan          nan          nan          nan          nan          nan          nan\r\n",
      "-1.91978e-10  1.60752e-10   -0.0170099    0.0176499    0.0209392   -0.0263207  -1.2633e-10 -2.02148e-10  -0.00379277  1.09064e-09 -2.62713e-11    -0.012166  1.60581e-09 -5.25186e-11 -1.60372e-10 -9.35182e-11   -0.0205985   -0.0205985      1.04825   -0.0290755  1.99169e-09  1.04392e-10  -0.00432008   0.00026674          nan          nan          nan          nan          nan          nan          nan          nan          nan          nan          nan\r\n",
      "  4.0471e-10 -4.09155e-12    0.0176499   -0.0170099    0.0263207   -0.0209392 -1.35292e-10  9.60338e-12   0.00379277 -4.34126e-11  2.27701e-11     0.012166 -1.46479e-09 -5.34686e-11  4.20467e-11  5.43684e-12    0.0205985    0.0205985   -0.0290755      1.04825 -2.06208e-09 -5.51267e-11   0.00432008   0.00026674          nan          nan          nan          nan          nan          nan          nan          nan          nan          nan          nan\r\n",
      "    0.074572   0.00145027  5.45821e-09 -5.47276e-09 -7.37561e-09 -7.35239e-09   -0.0700161  -0.00136166  4.10203e-09    0.0247612   -0.0176361  1.74246e-09   0.00919347 -0.000303372    0.0362819  0.000705606  1.23485e-09  1.26375e-09 -1.61293e-09  1.65375e-09    -0.195058  -8.5293e-12  3.85961e-10  2.06791e-09          nan          nan          nan          nan          nan          nan          nan          nan          nan          nan          nan\r\n",
      "  0.00145027    -0.074572  4.13705e-10 -4.36679e-10 -1.27751e-11 -2.74382e-11  -0.00136166    0.0700161  1.20444e-10   -0.0176361   -0.0247612  5.00477e-11  0.000303372   0.00919347  0.000705606   -0.0362819 -4.51825e-11 -4.56383e-12 -1.09879e-10  8.07812e-11 -8.52925e-12    -0.195058   6.1453e-09  2.28503e-11          nan          nan          nan          nan          nan          nan          nan          nan          nan          nan          nan\r\n",
      " 1.15204e-11  8.00718e-10   0.00563278  -0.00563278     0.018109     0.018109 -5.64097e-11  -7.0064e-10  -0.00442326  1.14818e-09  1.47748e-09  -0.00189981  1.44659e-10 -1.19833e-10  1.51904e-11  3.11354e-11  -0.00562899  -0.00562899  -0.00304376   0.00304376  8.37428e-10  6.30115e-09      1.05385  -4.6196e-11          nan          nan          nan          nan          nan          nan          nan          nan          nan          nan          nan\r\n",
      "-3.66013e-10 -4.66192e-12  -0.00405233  -0.00405233  -0.00470253   0.00470253  4.30383e-10  4.25577e-12 -7.21994e-11 -1.03975e-09  7.60729e-10  -3.6176e-11 -1.54439e-10  1.14913e-12  2.41506e-10 -2.29963e-12   -0.0028593    0.0028593   0.00365726   0.00365726  2.26802e-09  2.71641e-11 -3.19804e-11     0.120688          nan          nan          nan          nan          nan          nan          nan          nan          nan          nan          nan\r\n",
      "        -nan         -nan         -nan         -nan         -nan         -nan         -nan         -nan         -nan         -nan         -nan         -nan         -nan         -nan         -nan         -nan         -nan         -nan         -nan         -nan         -nan         -nan         -nan         -nan         -nan         -nan         -nan         -nan         -nan         -nan         -nan         -nan         -nan         -nan         -nan\r\n",
      "        -nan         -nan         -nan         -nan         -nan         -nan         -nan         -nan         -nan         -nan         -nan         -nan         -nan         -nan         -nan         -nan         -nan         -nan         -nan         -nan         -nan         -nan         -nan         -nan         -nan         -nan         -nan         -nan         -nan         -nan         -nan         -nan         -nan         -nan         -nan\r\n",
      "        -nan         -nan         -nan         -nan         -nan         -nan         -nan         -nan         -nan         -nan         -nan         -nan         -nan         -nan         -nan         -nan         -nan         -nan         -nan         -nan         -nan         -nan         -nan         -nan          nan          nan          nan          nan          nan          nan          nan          nan          nan          nan          nan\r\n",
      "        -nan         -nan         -nan         -nan         -nan         -nan         -nan         -nan         -nan         -nan         -nan         -nan         -nan         -nan         -nan         -nan         -nan         -nan         -nan         -nan         -nan         -nan         -nan         -nan          nan          nan          nan          nan          nan          nan          nan          nan          nan          nan          nan\r\n",
      "        -nan         -nan         -nan         -nan         -nan         -nan         -nan         -nan         -nan         -nan         -nan         -nan         -nan         -nan         -nan         -nan         -nan         -nan         -nan         -nan         -nan         -nan         -nan         -nan         -nan         -nan         -nan         -nan         -nan         -nan         -nan         -nan         -nan         -nan         -nan\r\n",
      "        -nan         -nan         -nan         -nan         -nan         -nan         -nan         -nan         -nan         -nan         -nan         -nan         -nan         -nan         -nan         -nan         -nan         -nan         -nan         -nan         -nan         -nan         -nan         -nan         -nan         -nan         -nan         -nan         -nan         -nan         -nan         -nan         -nan         -nan         -nan\r\n",
      "        -nan         -nan         -nan         -nan         -nan         -nan         -nan         -nan         -nan         -nan         -nan         -nan         -nan         -nan         -nan         -nan         -nan         -nan         -nan         -nan         -nan         -nan         -nan         -nan          nan          nan          nan          nan          nan          nan          nan          nan          nan          nan          nan\r\n",
      "        -nan         -nan         -nan         -nan         -nan         -nan         -nan         -nan         -nan         -nan         -nan         -nan         -nan         -nan         -nan         -nan         -nan         -nan         -nan         -nan         -nan         -nan         -nan         -nan          nan          nan          nan          nan          nan          nan          nan          nan          nan          nan          nan\r\n",
      "        -nan         -nan         -nan         -nan         -nan         -nan         -nan         -nan         -nan         -nan         -nan         -nan         -nan         -nan         -nan         -nan         -nan         -nan         -nan         -nan         -nan         -nan         -nan         -nan          nan          nan          nan         -nan          nan          nan          nan         -nan          nan          nan          nan\r\n",
      "        -nan         -nan         -nan         -nan         -nan         -nan         -nan         -nan         -nan         -nan         -nan         -nan         -nan         -nan         -nan         -nan         -nan         -nan         -nan         -nan         -nan         -nan         -nan         -nan          nan          nan          nan         -nan          nan          nan          nan         -nan          nan          nan          nan\r\n",
      "        -nan         -nan         -nan         -nan         -nan         -nan         -nan         -nan         -nan         -nan         -nan         -nan         -nan         -nan         -nan         -nan         -nan         -nan         -nan         -nan         -nan         -nan         -nan         -nan         -nan         -nan         -nan         -nan         -nan         -nan         -nan         -nan         -nan         -nan         -nan\r\n",
      "B\r\n",
      "   0.0903883 -6.20949e-13  2.84128e-10 -3.58457e-10  -4.8416e-10 -3.84385e-10   -0.0326152  6.25509e-13  3.66711e-10    0.0118968  -0.00882707  1.49744e-10   -0.0481031  0.000651416    0.0477611 -9.23589e-13  9.93451e-11  3.10789e-10 -1.22258e-10  4.09327e-10   -0.0244238 -0.000474992  -4.2475e-11 -5.00521e-10         -nan         -nan         -nan         -nan         -nan         -nan         -nan         -nan         -nan         -nan         -nan\r\n",
      "-6.20945e-13    0.0903883 -7.30815e-11  1.72857e-10 -1.25882e-10 -5.15525e-11   6.2545e-13   -0.0326152 -1.83703e-12   0.00882707    0.0118968 -3.89333e-13  0.000651416    0.0481031 -9.23669e-13    0.0477611  2.97733e-10  1.06648e-11  2.25944e-10 -1.44997e-11 -0.000474992    0.0244238  7.66594e-10 -1.92983e-13         -nan         -nan         -nan         -nan         -nan         -nan         -nan         -nan         -nan         -nan         -nan\r\n",
      " 2.84128e-10 -7.30815e-11     0.139446   -0.0346116   -0.0540965   -0.0540965 -9.00463e-11  6.45484e-11    0.0389591  2.49952e-11 -9.95379e-11    0.0190166 -2.04524e-09  6.51153e-11  1.06591e-10 -3.16548e-11   -0.0544857   0.00908731     -0.01488    0.0157409 -4.03342e-10  9.25282e-11     0.031528   0.00995589         -nan         -nan         -nan         -nan         -nan         -nan         -nan         -nan         -nan         -nan         -nan\r\n",
      "-3.58457e-10  1.72857e-10   -0.0346116     0.139446    0.0540965    0.0540965  1.21485e-10 -1.08241e-10   -0.0389591 -2.45184e-11  1.05046e-10   -0.0190166   2.0746e-09  -2.7447e-11 -2.22243e-10   1.8811e-10  -0.00908731    0.0544857    0.0157409     -0.01488  4.72241e-10  3.83765e-12    -0.031528   0.00995589         -nan         -nan         -nan         -nan         -nan         -nan         -nan         -nan         -nan         -nan         -nan\r\n",
      " -4.8416e-10 -1.25882e-10   -0.0540965    0.0540965     0.172217    0.0673826  1.65161e-10  7.42899e-11   -0.0525075 -1.21221e-10  2.48301e-11   -0.0256298  2.79564e-09  4.45943e-12 -3.00061e-10 -1.33703e-10   -0.0143828   -0.0152437     0.017768     0.045805  6.41511e-10  2.80616e-11    0.0289557     0.012614         -nan         -nan         -nan         -nan         -nan         -nan         -nan         -nan         -nan         -nan         -nan\r\n",
      "-3.84385e-10 -5.15525e-11   -0.0540965    0.0540965    0.0673826     0.172217  1.21468e-10  4.28507e-11   -0.0525075 -1.15713e-10  2.43533e-11   -0.0256298  2.75798e-09  3.38275e-11 -1.43606e-10 -1.80518e-11   -0.0152437   -0.0143828    -0.045805    -0.017768  5.44494e-10  9.76399e-11    0.0289557    -0.012614         -nan         -nan         -nan         -nan         -nan         -nan         -nan         -nan         -nan         -nan         -nan\r\n",
      "  -0.0326152  6.25451e-13 -9.00463e-11  1.21485e-10  1.65161e-10  1.21468e-10     0.236624 -1.38126e-13 -1.35484e-10   -0.0115497   0.00856958 -2.41289e-11  -0.00949852   0.00012863    0.0424653  4.00031e-12  1.63356e-10 -1.24023e-10 -2.24985e-10 -1.65355e-10  -0.00359497 -6.99144e-05 -5.46323e-12  4.78426e-10         -nan         -nan         -nan         -nan         -nan         -nan         -nan         -nan         -nan         -nan         -nan\r\n",
      " 6.25511e-13   -0.0326152  6.45484e-11 -1.08241e-10  7.42899e-11  4.28507e-11 -1.38116e-13     0.236624  3.37398e-12  -0.00856958   -0.0115497  9.80056e-13   0.00012863   0.00949852  4.00041e-12    0.0424653 -4.03601e-10  -1.3261e-11 -3.02582e-10  1.52025e-11 -6.99144e-05   0.00359497 -8.20489e-10  1.75246e-12         -nan         -nan         -nan         -nan         -nan         -nan         -nan         -nan         -nan         -nan         -nan\r\n",
      " 3.66711e-10 -1.83703e-12    0.0389591   -0.0389591   -0.0525075   -0.0525075 -1.35484e-10  3.37398e-12     0.424108  3.29067e-10 -2.46386e-10   -0.0112617 -9.32861e-10  4.51479e-12  1.82484e-10 -2.97095e-12  0.000393883  0.000393884 -0.000516107  0.000516107 -1.09318e-09  -3.4946e-11  -0.00120987   2.9354e-11         -nan         -nan         -nan         -nan         -nan         -nan         -nan         -nan         -nan         -nan         -nan\r\n",
      "   0.0118968   0.00882707  2.49952e-11 -2.45184e-11 -1.21221e-10 -1.15713e-10   -0.0115497  -0.00856958  3.29067e-10     0.446812   9.5324e-13 -1.11968e-10 -0.000384872  0.000293728   0.00866974    0.0064327 -4.74504e-11 -5.33399e-11  1.82891e-09 -7.90353e-11   -0.0144682    0.0103049   1.7869e-09 -1.91187e-09         -nan         -nan         -nan         -nan         -nan         -nan         -nan         -nan         -nan         -nan         -nan\r\n",
      " -0.00882707    0.0118968 -9.95379e-11  1.05046e-10  2.48301e-11  2.43533e-11   0.00856958   -0.0115497 -2.46386e-10  9.53014e-13     0.446812  8.45219e-11  0.000293728  0.000384872   -0.0064327   0.00866974  1.80337e-09  5.34934e-11 -4.70335e-11  4.11441e-11    0.0103049    0.0144682  2.38798e-09  1.40765e-09         -nan         -nan         -nan         -nan         -nan         -nan         -nan         -nan         -nan         -nan         -nan\r\n",
      " 1.49744e-10 -3.89333e-13    0.0190166   -0.0190166   -0.0256298   -0.0256298 -2.41289e-11  9.80056e-13   -0.0112617 -1.11968e-10  8.45219e-11     0.627074 -6.54357e-10  1.57475e-12  1.02976e-10 -5.60852e-13    0.0133017    0.0133017   -0.0174292    0.0174292 -2.09135e-10 -7.99915e-12 -0.000498186  1.09838e-11         -nan         -nan         -nan         -nan         -nan         -nan         -nan         -nan         -nan         -nan         -nan\r\n",
      "  -0.0481031  0.000651416 -2.04524e-09   2.0746e-09  2.79564e-09  2.75798e-09  -0.00949852   0.00012863 -9.32861e-10 -0.000384872  0.000293728 -6.54357e-10     0.912954 -7.13335e-13    0.0215518 -0.000291856 -2.19962e-09 -1.98472e-09  2.88438e-09 -2.59848e-09   -0.0227038 -0.000749193 -5.33493e-11 -2.58652e-10         -nan         -nan         -nan         -nan         -nan         -nan         -nan         -nan         -nan         -nan         -nan\r\n",
      " 0.000651416    0.0481031  6.51153e-11  -2.7447e-11  4.45943e-12  3.38275e-11   0.00012863   0.00949852  4.51479e-12  0.000293728  0.000384872  1.57475e-12 -7.13338e-13     0.912954 -0.000291856   -0.0215518 -1.23613e-10  1.62285e-10 -1.08968e-10 -1.05935e-10  0.000749193   -0.0227038 -1.07622e-10  1.88813e-12         -nan         -nan         -nan         -nan         -nan         -nan         -nan         -nan         -nan         -nan         -nan\r\n",
      "   0.0477611  -9.2367e-13  1.06591e-10 -2.22243e-10 -3.00061e-10 -1.43606e-10    0.0424653  4.00041e-12  1.82484e-10   0.00866974   -0.0064327  1.02976e-10    0.0215518 -0.000291856     0.952112  2.99034e-12   1.9813e-10   4.9178e-11 -2.63957e-10  6.39811e-11   0.00321145  6.24558e-05 -6.99606e-12   3.0488e-10         -nan         -nan         -nan         -nan         -nan         -nan         -nan         -nan         -nan         -nan         -nan\r\n",
      "-9.23589e-13    0.0477611 -3.16548e-11   1.8811e-10 -1.33703e-10 -1.80518e-11  4.00032e-12    0.0424653 -2.97095e-12    0.0064327   0.00866974 -5.60852e-13 -0.000291856   -0.0215518  2.99035e-12     0.952112 -2.09515e-10 -9.53894e-12 -1.55049e-10  6.09755e-12  6.24558e-05  -0.00321145 -4.80844e-10 -4.21132e-13         -nan         -nan         -nan         -nan         -nan         -nan         -nan         -nan         -nan         -nan         -nan\r\n",
      " 9.93451e-11  2.97733e-10   -0.0544857  -0.00908731   -0.0143828   -0.0152437  1.63356e-10 -4.03601e-10  0.000393883 -4.74504e-11  1.80337e-09    0.0133017 -2.19962e-09 -1.23613e-10   1.9813e-10 -2.09515e-10      1.07454    0.0335717   -0.0382247    0.0382247  -4.6937e-10  1.03751e-10   -0.0123226  -0.00410713         -nan         -nan         -nan         -nan         -nan         -nan         -nan         -nan         -nan         -nan         -nan\r\n",
      " 3.10789e-10  1.06648e-11   0.00908731    0.0544857   -0.0152437   -0.0143828 -1.24023e-10  -1.3261e-11  0.000393884 -5.33399e-11  5.34934e-11    0.0133017 -1.98472e-09  1.62285e-10   4.9178e-11 -9.53894e-12    0.0335717      1.07454   -0.0382247    0.0382247 -5.90923e-10 -6.93967e-11   -0.0123226   0.00410713         -nan         -nan         -nan         -nan         -nan         -nan         -nan         -nan         -nan         -nan         -nan\r\n",
      "-1.22258e-10  2.25944e-10     -0.01488    0.0157409     0.017768    -0.045805 -2.24985e-10 -3.02582e-10 -0.000516107  1.82891e-09 -4.70335e-11   -0.0174292  2.88438e-09 -1.08968e-10 -2.63957e-10 -1.55049e-10   -0.0382247   -0.0382247      1.09545   -0.0544853  6.02464e-10  1.02229e-10   -0.0113237   0.00538696         -nan         -nan         -nan         -nan         -nan         -nan         -nan         -nan         -nan         -nan         -nan\r\n",
      " 4.09327e-10 -1.44997e-11    0.0157409     -0.01488     0.045805    -0.017768 -1.65355e-10  1.52025e-11  0.000516107 -7.90353e-11  4.11441e-11    0.0174292 -2.59848e-09 -1.05935e-10  6.39811e-11  6.09755e-12    0.0382247    0.0382247   -0.0544853      1.09545 -7.75312e-10  1.89953e-11    0.0113237   0.00538696         -nan         -nan         -nan         -nan         -nan         -nan         -nan         -nan         -nan         -nan         -nan\r\n",
      "  -0.0559709  -0.00108851 -3.90895e-09  3.97365e-09  5.36375e-09  5.27162e-09  -0.00259781 -5.05218e-05 -1.12197e-09  -0.00898545   0.00639985 -2.78474e-10   -0.0177733  0.000586496    0.0179747   0.00034957  5.26839e-11  7.88142e-11 -6.30546e-11  9.83225e-11     0.583856 -9.32182e-12  2.97873e-10  1.89983e-09         -nan         -nan         -nan         -nan         -nan         -nan         -nan         -nan         -nan         -nan         -nan\r\n",
      " -0.00108851    0.0559709 -6.50346e-11  1.56333e-10  1.07427e-10  1.72994e-10 -5.05218e-05   0.00259781 -3.03176e-11   0.00639985   0.00898545 -7.21456e-12 -0.000586496   -0.0177733   0.00034957   -0.0179747 -1.41303e-10 -1.06359e-10 -1.15442e-10   8.8973e-11 -9.32173e-12     0.583856  4.55843e-09  3.68512e-11         -nan         -nan         -nan         -nan         -nan         -nan         -nan         -nan         -nan         -nan         -nan\r\n",
      "-6.60313e-11   4.4029e-10    0.0321391   -0.0321391    0.0289286    0.0289286 -2.49662e-12 -8.79374e-10  -0.00256782  1.64882e-09  2.19892e-09  -0.00131347  9.45565e-11 -7.08708e-11 -9.52277e-12 -6.09894e-10   -0.0137168   -0.0137168    -0.010955     0.010955  7.82017e-10  5.06111e-09       2.1163 -4.59888e-11         -nan         -nan         -nan         -nan         -nan         -nan         -nan         -nan         -nan         -nan         -nan\r\n",
      "-4.62055e-10  1.63437e-12    0.0113474    0.0113474    0.0144058   -0.0144059  4.39553e-10  1.22177e-12  4.54272e-11 -1.90831e-09  1.40358e-09  1.83209e-11 -2.78993e-10  1.25184e-12  3.30148e-10 -2.07049e-12  -0.00482791   0.00482791   0.00626687   0.00626687  2.37989e-09  4.52162e-11 -3.17566e-11     0.811305         -nan         -nan         -nan         -nan         -nan         -nan         -nan         -nan         -nan         -nan         -nan\r\n",
      "        -nan         -nan         -nan         -nan         -nan         -nan         -nan         -nan         -nan         -nan         -nan         -nan         -nan         -nan         -nan         -nan         -nan         -nan         -nan         -nan         -nan         -nan         -nan         -nan         -nan         -nan         -nan         -nan         -nan         -nan         -nan         -nan         -nan         -nan         -nan\r\n",
      "        -nan         -nan         -nan         -nan         -nan         -nan         -nan         -nan         -nan         -nan         -nan         -nan         -nan         -nan         -nan         -nan         -nan         -nan         -nan         -nan         -nan         -nan         -nan         -nan         -nan         -nan         -nan         -nan         -nan         -nan         -nan         -nan         -nan         -nan         -nan\r\n",
      "        -nan         -nan         -nan         -nan         -nan         -nan         -nan         -nan         -nan         -nan         -nan         -nan         -nan         -nan         -nan         -nan         -nan         -nan         -nan         -nan         -nan         -nan         -nan         -nan         -nan         -nan         -nan         -nan         -nan         -nan         -nan         -nan         -nan         -nan         -nan\r\n",
      "        -nan         -nan         -nan         -nan         -nan         -nan         -nan         -nan         -nan         -nan         -nan         -nan         -nan         -nan         -nan         -nan         -nan         -nan         -nan         -nan         -nan         -nan         -nan         -nan         -nan         -nan         -nan         -nan         -nan         -nan         -nan         -nan         -nan         -nan         -nan\r\n",
      "        -nan         -nan         -nan         -nan         -nan         -nan         -nan         -nan         -nan         -nan         -nan         -nan         -nan         -nan         -nan         -nan         -nan         -nan         -nan         -nan         -nan         -nan         -nan         -nan         -nan         -nan         -nan         -nan         -nan         -nan         -nan         -nan         -nan         -nan         -nan\r\n",
      "        -nan         -nan         -nan         -nan         -nan         -nan         -nan         -nan         -nan         -nan         -nan         -nan         -nan         -nan         -nan         -nan         -nan         -nan         -nan         -nan         -nan         -nan         -nan         -nan         -nan         -nan         -nan         -nan         -nan         -nan         -nan         -nan         -nan         -nan         -nan\r\n",
      "        -nan         -nan         -nan         -nan         -nan         -nan         -nan         -nan         -nan         -nan         -nan         -nan         -nan         -nan         -nan         -nan         -nan         -nan         -nan         -nan         -nan         -nan         -nan         -nan         -nan         -nan         -nan         -nan         -nan         -nan         -nan         -nan         -nan         -nan         -nan\r\n",
      "        -nan         -nan         -nan         -nan         -nan         -nan         -nan         -nan         -nan         -nan         -nan         -nan         -nan         -nan         -nan         -nan         -nan         -nan         -nan         -nan         -nan         -nan         -nan         -nan         -nan         -nan         -nan         -nan         -nan         -nan         -nan         -nan         -nan         -nan         -nan\r\n",
      "        -nan         -nan         -nan         -nan         -nan         -nan         -nan         -nan         -nan         -nan         -nan         -nan         -nan         -nan         -nan         -nan         -nan         -nan         -nan         -nan         -nan         -nan         -nan         -nan         -nan         -nan         -nan         -nan         -nan         -nan         -nan         -nan         -nan         -nan         -nan\r\n",
      "        -nan         -nan         -nan         -nan         -nan         -nan         -nan         -nan         -nan         -nan         -nan         -nan         -nan         -nan         -nan         -nan         -nan         -nan         -nan         -nan         -nan         -nan         -nan         -nan         -nan         -nan         -nan         -nan         -nan         -nan         -nan         -nan         -nan         -nan         -nan\r\n",
      "        -nan         -nan         -nan         -nan         -nan         -nan         -nan         -nan         -nan         -nan         -nan         -nan         -nan         -nan         -nan         -nan         -nan         -nan         -nan         -nan         -nan         -nan         -nan         -nan          nan          nan          nan          nan          nan          nan          nan          nan          nan          nan          nan\r\n",
      "an error occurred:\r\n",
      "Small generalized eigenvalue problem failed.\r\n"
     ]
    }
   ],
   "source": [
    "!xtp_tools -c job_name=CO geometry_optimization.maxiter=1 dftpackage.basisset=3-21G dftpackage.auxbasisset=aux-def2-svp gwbse.gw.mode=G0W0 -e dftgwbse -t 4"
   ]
  },
  {
   "cell_type": "markdown",
   "metadata": {},
   "source": [
    "Notice that we are using 4 threads. The results will be stored in a file named `CO_summary.xml` in the current work directory, together with the optimization step in `optimisation.trj` and the orbitals in [hdf5 format](https://www.hdfgroup.org/solutions/hdf5/) saved on `CO.orb`."
   ]
  }
 ],
 "metadata": {
  "kernelspec": {
   "display_name": "Python 3",
   "language": "python",
   "name": "python3"
  },
  "language_info": {
   "codemirror_mode": {
    "name": "ipython",
    "version": 3
   },
   "file_extension": ".py",
   "mimetype": "text/x-python",
   "name": "python",
   "nbconvert_exporter": "python",
   "pygments_lexer": "ipython3",
   "version": "3.10.5"
  }
 },
 "nbformat": 4,
 "nbformat_minor": 4
}
