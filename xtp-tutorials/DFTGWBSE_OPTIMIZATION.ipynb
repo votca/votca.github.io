{
 "cells": [
  {
   "cell_type": "markdown",
   "metadata": {},
   "source": [
    "## DFT + GWBSE Optimization Using CO"
   ]
  },
  {
   "cell_type": "markdown",
   "metadata": {},
   "source": [
    "## Introduction\n",
    "This tutorial explains how to perform a molecular geometric optimization using the **GWBSE** method. See [the GW Compendium: A Practical Guide to Theoretical Photoemission Spectroscopy](https://doi.org/10.3389/fchem.2019.00377), for an excellent introduction to the method."
   ]
  },
  {
   "cell_type": "markdown",
   "metadata": {},
   "source": [
    "## Requirements\n",
    "* You will need to install **VOTCA** using the instructions described [here](https://github.com/votca/votca/blob/master/share/doc/INSTALL.rst)\n",
    "* Once the installation is completed you need to activate the VOTCA enviroment by running the `VOTCARC.bash` script that has been installed at the bin subfolder for the path that you have provided for the installation step above"
   ]
  },
  {
   "cell_type": "markdown",
   "metadata": {},
   "source": [
    "## Preparing the input\n",
    "To run a DFT-GWBSE calculation we will use the [xtp_tools](https://www.votca.org/xtp/xtp_tools_overview.html) calculator."
   ]
  },
  {
   "cell_type": "markdown",
   "metadata": {},
   "source": [
    "we can now change the calculator mode from single point energy calculation to optimization as follows by adding \n",
    "`-c geometry_optimization.maxiter=1` which enables optimization with one iteration. "
   ]
  },
  {
   "cell_type": "markdown",
   "metadata": {},
   "source": [
    "Because geometry optimsation is quite expensive numerically we chose a smaller basisset and G0W0 Finally, to run the calculation we just need the following command (This still takes a while)"
   ]
  },
  {
   "cell_type": "code",
   "execution_count": 1,
   "metadata": {
    "execution": {
     "iopub.execute_input": "2023-01-23T10:17:57.693825Z",
     "iopub.status.busy": "2023-01-23T10:17:57.693400Z",
     "iopub.status.idle": "2023-01-23T10:18:16.492260Z",
     "shell.execute_reply": "2023-01-23T10:18:16.491329Z"
    }
   },
   "outputs": [
    {
     "name": "stdout",
     "output_type": "stream",
     "text": [
      "==================================================\r\n",
      "========   VOTCA (http://www.votca.org)   ========\r\n",
      "==================================================\r\n",
      "\r\n",
      "please submit bugs to https://github.com/votca/votca/issues\r\n",
      "\r\n",
      "xtp_tools, version 2023-dev gitid: e87eedb (compiled Jan 23 2023, 09:50:49)\r\n",
      "\r\n",
      "Initializing tool\r\n",
      "... dftgwbse Evaluating tool\r\n",
      "... dftgwbse  Using 4 threads\r\n",
      "... ... Reading structure from CO.xyz\r\n",
      "... ... Requested geometry optimization of excited state s1\r\n",
      "... ... Initial state: s1\r\n",
      "... ... WARNING: No tracker is used \r\n",
      "... ... Convergence of total energy: 0.000001 Hartree \r\n",
      "... ... Convergence of RMS Force:    0.000030 Hartree/Bohr \r\n",
      "... ... Convergence of Max Force:    0.000100 Hartree/Bohr \r\n",
      "... ... Convergence of RMS Step:     0.000600 Bohr \r\n",
      "... ... Convergence of Max Step:     0.001000 Bohr \r\n",
      "... ... Initial trust radius:        0.018897 BohrA\r\n",
      "    0.307132   -3.113e-11  4.47546e-11 -2.30916e-10  2.35831e-11   -0.0516061  8.55368e-10  7.78837e-10 -3.22576e-10    0.0181636   -0.0010605 -7.14842e-11    0.0103578     0.037574 -2.03389e-11    0.0421019 -2.33136e-10  1.30777e-10 -3.01335e-10 -1.07094e-10  0.000481552    -0.108408  -1.2813e-10          nan          nan          nan          nan          nan          nan          nan          nan          nan          nan          nan          nan\r\n",
      "  -3.113e-11     0.307132 -1.47078e-10   7.0547e-11   -0.0516061  2.35831e-11  9.00454e-10  1.08662e-09  -1.9748e-10    0.0010605    0.0181636 -2.25176e-10     0.037574   -0.0103578    0.0421019  -2.0339e-11 -1.94304e-11  2.13671e-10 -9.73623e-11  4.99595e-12    -0.108408 -0.000481552 -1.35323e-11          nan          nan          nan          nan          nan          nan          nan          nan          nan          nan          nan          nan\r\n",
      " 4.47546e-11 -1.47078e-10     0.320632   0.00926215  1.56725e-10   1.0291e-10    0.0134117    0.0134117  -0.00500156 -5.81894e-11 -1.45469e-11  -0.00213082 -8.96801e-11  1.83823e-10 -1.71791e-10 -2.08516e-11    0.0470562  -0.00128303  -0.00259089   -0.0152089  1.82055e-10 -3.06703e-10    -0.025491          nan          nan          nan          nan          nan          nan          nan          nan          nan          nan          nan          nan\r\n",
      "-2.30916e-10   7.0547e-11   0.00926215     0.320632  -1.7006e-10  3.24032e-10   -0.0134117   -0.0134117   0.00500156 -5.01121e-11  6.86757e-11   0.00213082  7.32967e-11 -1.45372e-10  6.91637e-11 -1.85927e-10  -0.00128303    0.0470562    0.0152089   0.00259089 -1.68587e-10  7.91045e-10     0.025491          nan          nan          nan          nan          nan          nan          nan          nan          nan          nan          nan          nan\r\n",
      " 2.35831e-11   -0.0516061  1.56725e-10  -1.7006e-10     0.490902 -2.90631e-12  1.80077e-09  1.37383e-09 -8.20699e-10 -0.000784721   -0.0134402 -1.98448e-10   0.00770642  -0.00212438    0.0309987  6.71891e-11 -6.52618e-11 -1.89583e-10 -1.33909e-10 -2.73773e-10    0.0531267  0.000235991  1.67524e-10          nan          nan          nan          nan          nan          nan          nan          nan          nan          nan          nan          nan\r\n",
      "  -0.0516061  2.35831e-11   1.0291e-10  3.24032e-10 -2.90636e-12     0.490902  -2.5486e-10 -2.68195e-10  1.55172e-10   -0.0134402  0.000784721  1.93156e-11   0.00212438   0.00770642  6.71892e-11    0.0309987  1.90974e-10 -5.11107e-11  9.18526e-11 -1.62993e-10 -0.000235991    0.0531267  2.48304e-10          nan          nan          nan          nan          nan          nan          nan          nan          nan          nan          nan          nan\r\n",
      " 8.55368e-10  9.00454e-10    0.0134117   -0.0134117  1.80077e-09  -2.5486e-10     0.549557     0.219663   -0.0856636 -7.14809e-12  6.44004e-10   -0.0364954 -1.85361e-09   2.9788e-09  -9.2225e-10  3.16004e-10   -0.0113508   -0.0012672    0.0127126   -0.0330606  5.11468e-10 -7.46012e-09  -0.00157469          nan          nan          nan          nan          nan          nan          nan          nan          nan          nan          nan          nan\r\n",
      " 7.78837e-10  1.08662e-09    0.0134117   -0.0134117  1.37383e-09 -2.68195e-10     0.219663     0.549557   -0.0856636  4.69808e-11  7.52306e-10   -0.0364954 -1.89206e-09  2.96241e-09 -7.15471e-10  2.13377e-10    0.0012672    0.0113508   -0.0330606    0.0127126  4.09301e-11 -7.44291e-09  -0.00157469          nan          nan          nan          nan          nan          nan          nan          nan          nan          nan          nan          nan\r\n",
      "-3.22576e-10  -1.9748e-10  -0.00500156   0.00500156 -8.20699e-10  1.55172e-10   -0.0856636   -0.0856636     0.662947 -1.74986e-10 -2.31598e-10  -0.00632525  4.08218e-10 -7.41393e-10  5.58292e-10 -1.54361e-10   0.00131625  -0.00131625   0.00387686   0.00387686  -9.1926e-10  2.85852e-09   0.00114695          nan          nan          nan          nan          nan          nan          nan          nan          nan          nan          nan          nan\r\n",
      "   0.0181636    0.0010605 -5.81894e-11 -5.01121e-11 -0.000784721   -0.0134402 -7.14809e-12  4.69808e-11 -1.74986e-10     0.680922   1.5899e-12  8.85923e-11  2.70656e-05  7.97185e-05  0.000503418   0.00862224 -3.65405e-10 -3.65794e-11  6.95967e-11  8.84023e-10  -0.00220941    -0.040968 -8.96018e-10          nan          nan          nan          nan          nan          nan          nan          nan          nan          nan          nan          nan\r\n",
      "  -0.0010605    0.0181636 -1.45469e-11  6.86757e-11   -0.0134402  0.000784721  6.44004e-10  7.52306e-10 -2.31598e-10  1.58991e-12     0.680922 -1.12764e-10  7.97185e-05 -2.70656e-05   0.00862224 -0.000503418  -5.7881e-11  8.72307e-10 -5.51454e-10  -1.4947e-10    -0.040968   0.00220941 -8.14854e-10          nan          nan          nan          nan          nan          nan          nan          nan          nan          nan          nan          nan\r\n",
      "-7.14842e-11 -2.25176e-10  -0.00213082   0.00213082 -1.98448e-10  1.93156e-11   -0.0364954   -0.0364954  -0.00632525  8.85923e-11 -1.12764e-10      0.79826  3.98393e-10 -4.68334e-10 -1.58004e-11  -4.9658e-11   0.00465349  -0.00465349    0.0137063    0.0137063  8.88588e-11   8.7073e-10  0.000454583          nan          nan          nan          nan          nan          nan          nan          nan          nan          nan          nan          nan\r\n",
      "   0.0103578     0.037574 -8.96801e-11  7.32967e-11   0.00770642   0.00212438 -1.85361e-09 -1.89206e-09  4.08218e-10  2.70656e-05  7.97185e-05  3.98393e-10     0.956418  4.28584e-11   -0.0126696  -0.00349256  3.03914e-10  -4.1612e-10   1.0503e-09  1.04968e-09    0.0192789   0.00540675  3.06531e-11          nan          nan          nan          nan          nan          nan          nan          nan          nan          nan          nan          nan\r\n",
      "    0.037574   -0.0103578  1.83823e-10 -1.45372e-10  -0.00212438   0.00770642   2.9788e-09  2.96241e-09 -7.41393e-10  7.97185e-05 -2.70656e-05 -4.68334e-10  4.28583e-11     0.956418   0.00349256   -0.0126696 -5.76938e-10  5.77554e-10 -1.67377e-09 -1.78597e-09  -0.00540675    0.0192789 -8.00169e-12          nan          nan          nan          nan          nan          nan          nan          nan          nan          nan          nan          nan\r\n",
      " -2.0339e-11    0.0421019 -1.71791e-10  6.91637e-11    0.0309987  6.71892e-11  -9.2225e-10 -7.15471e-10  5.58292e-10  0.000503418   0.00862224 -1.58004e-11   -0.0126696   0.00349256     0.988566  3.79616e-11  8.55189e-12 -1.86369e-10  2.23305e-10  -1.9829e-11   -0.0223628 -9.93368e-05  3.66138e-10          nan          nan          nan          nan          nan          nan          nan          nan          nan          nan          nan          nan\r\n",
      "   0.0421019  -2.0339e-11 -2.08516e-11 -1.85927e-10  6.71891e-11    0.0309987  3.16004e-10  2.13377e-10 -1.54361e-10   0.00862224 -0.000503418  -4.9658e-11  -0.00349256   -0.0126696  3.79616e-11     0.988566  1.22044e-10   1.2109e-10 -1.18192e-11 -1.89636e-10  9.93368e-05   -0.0223628  4.45709e-10          nan          nan          nan          nan          nan          nan          nan          nan          nan          nan          nan          nan\r\n",
      "-2.33136e-10 -1.94304e-11    0.0470562  -0.00128303 -6.52618e-11  1.90974e-10   -0.0113508    0.0012672   0.00131625 -3.65405e-10  -5.7881e-11   0.00465349  3.03914e-10 -5.76938e-10  8.55189e-12  1.22044e-10       1.0332  -0.00656353    0.0132411    0.0132411 -5.76569e-11  5.06288e-10  -0.00427271          nan          nan          nan          nan          nan          nan          nan          nan          nan          nan          nan          nan\r\n",
      " 1.30777e-10  2.13671e-10  -0.00128303    0.0470562 -1.89583e-10 -5.11107e-11   -0.0012672    0.0113508  -0.00131625 -3.65794e-11  8.72307e-10  -0.00465349  -4.1612e-10  5.77554e-10 -1.86369e-10   1.2109e-10  -0.00656353       1.0332   -0.0132411   -0.0132411  6.22761e-11 -5.85339e-10   0.00427271          nan          nan          nan          nan          nan          nan          nan          nan          nan          nan          nan          nan\r\n",
      "-3.01335e-10 -9.73623e-11  -0.00259089    0.0152089 -1.33909e-10  9.18526e-11    0.0127126   -0.0330606   0.00387686  6.95967e-11 -5.51454e-10    0.0137063   1.0503e-09 -1.67377e-09  2.23305e-10 -1.18192e-11    0.0132411   -0.0132411      1.06771     0.041068 -2.87343e-10  1.40601e-09   0.00205141          nan          nan          nan          nan          nan          nan          nan          nan          nan          nan          nan          nan\r\n",
      "-1.07094e-10  4.99595e-12   -0.0152089   0.00259089 -2.73773e-10 -1.62993e-10   -0.0330606    0.0127126   0.00387686  8.84023e-10  -1.4947e-10    0.0137063  1.04968e-09 -1.78597e-09  -1.9829e-11 -1.89636e-10    0.0132411   -0.0132411     0.041068      1.06771 -2.09967e-10  1.41073e-09   0.00205141          nan          nan          nan          nan          nan          nan          nan          nan          nan          nan          nan          nan\r\n",
      "-0.000334249    0.0752465 -2.48742e-10  3.00608e-10   -0.0690159  0.000306572 -1.37565e-09 -1.00764e-09  9.70665e-10   0.00166697    0.0309099  -4.5291e-11  -0.00866889   0.00243119    0.0364086 -0.000161729  1.19844e-10 -1.21115e-10  4.87686e-10  4.84896e-10    -0.194424  2.25161e-10  3.79937e-09          nan          nan          nan          nan          nan          nan          nan          nan          nan          nan          nan          nan\r\n",
      "   0.0752465  0.000334249  1.79557e-10 -5.59035e-10 -0.000306572   -0.0690159  5.06032e-09  5.10952e-09 -2.26144e-09    0.0309099  -0.00166697   -7.957e-10  -0.00243119  -0.00866889  0.000161729    0.0364086 -4.43805e-10  4.49035e-10 -1.20883e-09 -1.21008e-09  2.25161e-10    -0.194424  1.19786e-09          nan          nan          nan          nan          nan          nan          nan          nan          nan          nan          nan          nan\r\n",
      " -3.0474e-10 -4.79424e-10   -0.0141821    0.0141821  4.11118e-10  1.86401e-10   0.00439901   0.00439901   -0.0013348 -1.14244e-09 -1.07748e-09 -0.000535028  7.68339e-11  1.04479e-10 -4.14757e-11    1.635e-10  -0.00597847   0.00597847    0.0014984    0.0014984  3.89374e-09  1.34836e-09     0.958376          nan          nan          nan          nan          nan          nan          nan          nan          nan          nan          nan          nan\r\n",
      "        -nan         -nan         -nan         -nan         -nan         -nan         -nan         -nan         -nan         -nan         -nan         -nan         -nan         -nan         -nan         -nan         -nan         -nan         -nan         -nan         -nan         -nan         -nan          nan          nan          nan          nan          nan          nan          nan          nan          nan          nan          nan          nan\r\n",
      "        -nan         -nan         -nan         -nan         -nan         -nan         -nan         -nan         -nan         -nan         -nan         -nan         -nan         -nan         -nan         -nan         -nan         -nan         -nan         -nan         -nan         -nan         -nan         -nan         -nan         -nan         -nan         -nan         -nan         -nan         -nan         -nan         -nan         -nan         -nan\r\n",
      "        -nan         -nan         -nan         -nan         -nan         -nan         -nan         -nan         -nan         -nan         -nan         -nan         -nan         -nan         -nan         -nan         -nan         -nan         -nan         -nan         -nan         -nan         -nan         -nan         -nan         -nan         -nan         -nan         -nan         -nan         -nan         -nan         -nan         -nan         -nan\r\n",
      "        -nan         -nan         -nan         -nan         -nan         -nan         -nan         -nan         -nan         -nan         -nan         -nan         -nan         -nan         -nan         -nan         -nan         -nan         -nan         -nan         -nan         -nan         -nan          nan          nan          nan          nan          nan          nan          nan          nan          nan          nan          nan          nan\r\n",
      "        -nan         -nan         -nan         -nan         -nan         -nan         -nan         -nan         -nan         -nan         -nan         -nan         -nan         -nan         -nan         -nan         -nan         -nan         -nan         -nan         -nan         -nan         -nan          nan          nan          nan          nan          nan          nan          nan          nan          nan          nan          nan          nan\r\n",
      "        -nan         -nan         -nan         -nan         -nan         -nan         -nan         -nan         -nan         -nan         -nan         -nan         -nan         -nan         -nan         -nan         -nan         -nan         -nan         -nan         -nan         -nan         -nan         -nan         -nan         -nan         -nan         -nan         -nan         -nan         -nan         -nan         -nan         -nan         -nan\r\n",
      "        -nan         -nan         -nan         -nan         -nan         -nan         -nan         -nan         -nan         -nan         -nan         -nan         -nan         -nan         -nan         -nan         -nan         -nan         -nan         -nan         -nan         -nan         -nan         -nan         -nan         -nan         -nan         -nan         -nan         -nan         -nan         -nan         -nan         -nan         -nan\r\n",
      "        -nan         -nan         -nan         -nan         -nan         -nan         -nan         -nan         -nan         -nan         -nan         -nan         -nan         -nan         -nan         -nan         -nan         -nan         -nan         -nan         -nan         -nan         -nan          nan          nan          nan          nan          nan          nan          nan          nan          nan          nan          nan          nan\r\n",
      "        -nan         -nan         -nan         -nan         -nan         -nan         -nan         -nan         -nan         -nan         -nan         -nan         -nan         -nan         -nan         -nan         -nan         -nan         -nan         -nan         -nan         -nan         -nan          nan          nan          nan          nan          nan          nan          nan          nan          nan          nan          nan          nan\r\n",
      "        -nan         -nan         -nan         -nan         -nan         -nan         -nan         -nan         -nan         -nan         -nan         -nan         -nan         -nan         -nan         -nan         -nan         -nan         -nan         -nan         -nan         -nan         -nan         -nan          nan          nan          nan         -nan          nan          nan          nan         -nan          nan          nan          nan\r\n",
      "        -nan         -nan         -nan         -nan         -nan         -nan         -nan         -nan         -nan         -nan         -nan         -nan         -nan         -nan         -nan         -nan         -nan         -nan         -nan         -nan         -nan         -nan         -nan         -nan          nan          nan          nan         -nan          nan          nan          nan         -nan          nan          nan          nan\r\n",
      "        -nan         -nan         -nan         -nan         -nan         -nan         -nan         -nan         -nan         -nan         -nan         -nan         -nan         -nan         -nan         -nan         -nan         -nan         -nan         -nan         -nan         -nan         -nan         -nan         -nan         -nan         -nan         -nan         -nan         -nan         -nan         -nan         -nan         -nan         -nan\r\n",
      "B\r\n",
      "    0.093811 -1.38381e-11  1.68698e-11 -1.31283e-10  1.45041e-11   -0.0328898  3.54427e-10  2.99542e-10 -1.98301e-10    0.0155307 -0.000906779 -3.66191e-11    0.0128434    0.0465908 -2.36316e-11    0.0481429 -2.87525e-10    1.387e-10 -3.10608e-10 -3.80324e-11   0.00011153   -0.0251078  -4.0098e-10         -nan         -nan         -nan         -nan         -nan         -nan         -nan         -nan         -nan         -nan         -nan         -nan\r\n",
      "-1.38381e-11     0.093811 -9.49558e-11  4.00708e-11   -0.0328898  1.45042e-11  3.69211e-10  4.83624e-10  -1.2314e-10  0.000906779    0.0155307  -1.6677e-10    0.0465908   -0.0128434    0.0481429 -2.36316e-11  -1.2879e-11  2.85455e-10 -7.55958e-11  7.32295e-11   -0.0251078  -0.00011153 -5.11118e-10         -nan         -nan         -nan         -nan         -nan         -nan         -nan         -nan         -nan         -nan         -nan         -nan\r\n",
      " 1.68698e-11 -9.49558e-11     0.105884   0.00529749  1.02861e-10  7.14644e-11   0.00679436   0.00679436  -0.00367796 -5.18332e-11 -2.01669e-11  -0.00167073 -9.68539e-11  2.03881e-10 -2.10782e-10 -2.53817e-11    0.0640616  -0.00170055  -0.00248557   -0.0196763 -6.26034e-11 -1.11893e-11   -0.0418848         -nan         -nan         -nan         -nan         -nan         -nan         -nan         -nan         -nan         -nan         -nan         -nan\r\n",
      "-1.31283e-10  4.00708e-11   0.00529749     0.105884 -1.09952e-10  2.29131e-10  -0.00679436  -0.00679436   0.00367796  -5.4652e-11  7.10965e-11   0.00167073  7.36138e-11 -1.53606e-10  7.36872e-11 -2.18532e-10  -0.00170055    0.0640616    0.0196763   0.00248557   1.3367e-10  1.11442e-10    0.0418848         -nan         -nan         -nan         -nan         -nan         -nan         -nan         -nan         -nan         -nan         -nan         -nan\r\n",
      " 1.45041e-11   -0.0328898  1.02861e-10 -1.09952e-10     0.240891 -7.00624e-13   1.1044e-09  8.03801e-10 -6.98439e-10 -0.000843296   -0.0144434 -1.60496e-10   0.00881464  -0.00242988    0.0441772   9.3397e-11 -5.66734e-11  -3.3417e-10 -5.75721e-11 -2.87394e-10  -0.00438142 -1.94625e-05  5.20896e-10         -nan         -nan         -nan         -nan         -nan         -nan         -nan         -nan         -nan         -nan         -nan         -nan\r\n",
      "  -0.0328898  1.45042e-11  7.14644e-11  2.29131e-10 -7.00677e-13     0.240891  -1.3993e-10 -1.47021e-10  1.24421e-10   -0.0144434  0.000843296  9.93424e-12   0.00242988   0.00881464  9.33971e-11    0.0441772  2.79784e-10 -4.99625e-11  1.11409e-10 -2.79434e-10  1.94625e-05  -0.00438142  4.31835e-10         -nan         -nan         -nan         -nan         -nan         -nan         -nan         -nan         -nan         -nan         -nan         -nan\r\n",
      " 3.54427e-10  3.69211e-10   0.00679436  -0.00679436   1.1044e-09  -1.3993e-10     0.221857     0.110675   -0.0629938 -1.34543e-12  4.62581e-10   -0.0286153 -1.92656e-09  3.22473e-09 -1.03135e-09  3.29019e-10   -0.0100826  -0.00710812    0.0331016   -0.0292595 -8.01332e-10  -3.8418e-10   0.00294348         -nan         -nan         -nan         -nan         -nan         -nan         -nan         -nan         -nan         -nan         -nan         -nan\r\n",
      " 2.99542e-10  4.83624e-10   0.00679436  -0.00679436  8.03801e-10 -1.47021e-10     0.110675     0.221857   -0.0629938  4.95842e-11  5.69066e-10   -0.0286153 -1.97684e-09  3.20149e-09 -7.87438e-10  1.91924e-10   0.00710812    0.0100826   -0.0292595    0.0331016 -8.98774e-10 -3.12135e-10   0.00294348         -nan         -nan         -nan         -nan         -nan         -nan         -nan         -nan         -nan         -nan         -nan         -nan\r\n",
      "-1.98301e-10  -1.2314e-10  -0.00367796   0.00367796 -6.98439e-10  1.24421e-10   -0.0629938   -0.0629938     0.429278 -2.25284e-10 -2.34117e-10   -0.0121538   4.5618e-10 -9.09236e-10  7.69059e-10 -2.09117e-10 -6.20545e-06  6.20547e-06 -1.82775e-05 -1.82774e-05 -7.44083e-11    5.843e-10  5.88692e-05         -nan         -nan         -nan         -nan         -nan         -nan         -nan         -nan         -nan         -nan         -nan         -nan\r\n",
      "   0.0155307  0.000906779 -5.18332e-11  -5.4652e-11 -0.000843296   -0.0144434 -1.34543e-12  4.95842e-11 -2.25284e-10     0.463967   2.1232e-12   1.1768e-10  0.000207938  0.000612457  0.000604753    0.0103578 -6.15676e-10 -6.26034e-11  1.11943e-10  1.49081e-09 -0.000955053   -0.0177091 -1.86774e-09         -nan         -nan         -nan         -nan         -nan         -nan         -nan         -nan         -nan         -nan         -nan         -nan\r\n",
      "-0.000906779    0.0155307 -2.01669e-11  7.10965e-11   -0.0144434  0.000843296  4.62581e-10  5.69066e-10 -2.34117e-10  2.12321e-12     0.463967 -1.09255e-10  0.000612457 -0.000207938    0.0103578 -0.000604753 -7.68579e-11  1.45573e-09 -8.66515e-10 -1.88235e-10   -0.0177091  0.000955053 -1.77776e-09         -nan         -nan         -nan         -nan         -nan         -nan         -nan         -nan         -nan         -nan         -nan         -nan\r\n",
      "-3.66191e-11  -1.6677e-10  -0.00167073   0.00167073 -1.60496e-10  9.93424e-12   -0.0286153   -0.0286153   -0.0121538   1.1768e-10 -1.09255e-10     0.636067  5.47487e-10 -6.15442e-10 -6.46836e-11 -6.61857e-11   0.00672835  -0.00672835    0.0198176    0.0198176   1.0328e-10 -8.61094e-12  4.57096e-05         -nan         -nan         -nan         -nan         -nan         -nan         -nan         -nan         -nan         -nan         -nan         -nan\r\n",
      "   0.0128434    0.0465908 -9.68539e-11  7.36138e-11   0.00881464   0.00242988 -1.92656e-09 -1.97684e-09   4.5618e-10  0.000207938  0.000612457  5.47487e-10     0.917068  7.51352e-11   -0.0214899  -0.00592398  5.28676e-10 -7.58499e-10  1.85847e-09  1.85393e-09    0.0223826   0.00627718  1.65348e-10         -nan         -nan         -nan         -nan         -nan         -nan         -nan         -nan         -nan         -nan         -nan         -nan\r\n",
      "   0.0465908   -0.0128434  2.03881e-10 -1.53606e-10  -0.00242988   0.00881464  3.22473e-09  3.20149e-09 -9.09236e-10  0.000612457 -0.000207938 -6.15442e-10   7.5135e-11     0.917068   0.00592398   -0.0214899 -1.02437e-09   1.0289e-09  -2.9848e-09 -3.21462e-09  -0.00627718    0.0223826  1.26243e-10         -nan         -nan         -nan         -nan         -nan         -nan         -nan         -nan         -nan         -nan         -nan         -nan\r\n",
      "-2.36316e-11    0.0481429 -2.10782e-10  7.36872e-11    0.0441772   9.3397e-11 -1.03135e-09 -7.87438e-10  7.69059e-10  0.000604753    0.0103578 -6.46836e-11   -0.0214899   0.00592398     0.981535  7.31734e-11 -3.47779e-12  -3.0603e-10  3.62772e-10 -7.52038e-11   0.00424838  1.88715e-05  3.17241e-10         -nan         -nan         -nan         -nan         -nan         -nan         -nan         -nan         -nan         -nan         -nan         -nan\r\n",
      "   0.0481429 -2.36316e-11 -2.53817e-11 -2.18532e-10   9.3397e-11    0.0441772  3.29019e-10  1.91924e-10 -2.09117e-10    0.0103578 -0.000604753 -6.61857e-11  -0.00592398   -0.0214899  7.31733e-11     0.981535  2.22778e-10  2.15198e-10 -7.23464e-12 -3.16742e-10 -1.88715e-05   0.00424838  6.75753e-10         -nan         -nan         -nan         -nan         -nan         -nan         -nan         -nan         -nan         -nan         -nan         -nan\r\n",
      "-2.87525e-10  -1.2879e-11    0.0640616  -0.00170055 -5.66734e-11  2.79784e-10   -0.0100826   0.00710812 -6.20545e-06 -6.15676e-10 -7.68579e-11   0.00672835  5.28676e-10 -1.02437e-09 -3.47779e-12  2.22778e-10      1.06907   -0.0128048    0.0247429    0.0247429  4.20744e-11  2.29715e-10   -0.0150504         -nan         -nan         -nan         -nan         -nan         -nan         -nan         -nan         -nan         -nan         -nan         -nan\r\n",
      "   1.387e-10  2.85455e-10  -0.00170055    0.0640616  -3.3417e-10 -4.99625e-11  -0.00710812    0.0100826  6.20547e-06 -6.26034e-11  1.45573e-09  -0.00672835 -7.58499e-10   1.0289e-09  -3.0603e-10  2.15198e-10   -0.0128048      1.06907   -0.0247429   -0.0247429 -1.38984e-10 -2.90838e-10    0.0150504         -nan         -nan         -nan         -nan         -nan         -nan         -nan         -nan         -nan         -nan         -nan         -nan\r\n",
      "-3.10608e-10 -7.55958e-11  -0.00248557    0.0196763 -5.75721e-11  1.11409e-10    0.0331016   -0.0292595 -1.82775e-05  1.11943e-10 -8.66515e-10    0.0198176  1.85847e-09  -2.9848e-09  3.62772e-10 -7.23464e-12    0.0247429   -0.0247429      1.13355    0.0772815  1.19046e-10   4.3356e-10   0.00545469         -nan         -nan         -nan         -nan         -nan         -nan         -nan         -nan         -nan         -nan         -nan         -nan\r\n",
      "-3.80324e-11  7.32295e-11   -0.0196763   0.00248557 -2.87394e-10 -2.79434e-10   -0.0292595    0.0331016 -1.82774e-05  1.49081e-09 -1.88235e-10    0.0198176  1.85393e-09 -3.21462e-09 -7.52038e-11 -3.16742e-10    0.0247429   -0.0247429    0.0772815      1.13355  1.80385e-10  3.36921e-10   0.00545469         -nan         -nan         -nan         -nan         -nan         -nan         -nan         -nan         -nan         -nan         -nan         -nan\r\n",
      " 0.000254781   -0.0573567  4.60734e-13  4.61839e-11  -0.00347861  1.54521e-05 -3.28962e-10 -5.33573e-10 -3.84084e-12 -0.000549585   -0.0101907 -2.32833e-11    0.0179486  -0.00503367    0.0191591 -8.51058e-05 -1.60032e-14  9.07505e-11  5.04935e-11  2.62747e-10     0.600541  2.25752e-10   2.8126e-09         -nan         -nan         -nan         -nan         -nan         -nan         -nan         -nan         -nan         -nan         -nan         -nan\r\n",
      "  -0.0573567 -0.000254781 -1.64878e-10  3.71711e-10 -1.54522e-05  -0.00347861 -3.85752e-09 -3.80955e-09  6.45021e-10   -0.0101907  0.000549585  1.38949e-10   0.00503367    0.0179486  8.51058e-05    0.0191591 -1.49312e-10 -6.08725e-11 -1.42186e-10 -5.13489e-11  2.25752e-10     0.600541  6.98702e-11         -nan         -nan         -nan         -nan         -nan         -nan         -nan         -nan         -nan         -nan         -nan         -nan\r\n",
      "-3.28067e-10 -3.21337e-10   -0.0423657    0.0423657  6.07773e-10  5.83085e-10   0.00291273   0.00291273 -0.000444727 -1.66946e-09 -1.60315e-09 -0.000217691  1.09811e-10  1.72958e-10  4.07728e-10  8.27796e-10   -0.0160928    0.0160928   0.00533581   0.00533581  3.14892e-09   5.2442e-10      1.98493         -nan         -nan         -nan         -nan         -nan         -nan         -nan         -nan         -nan         -nan         -nan         -nan\r\n",
      "        -nan         -nan         -nan         -nan         -nan         -nan         -nan         -nan         -nan         -nan         -nan         -nan         -nan         -nan         -nan         -nan         -nan         -nan         -nan         -nan         -nan         -nan         -nan         -nan         -nan         -nan         -nan         -nan         -nan         -nan         -nan         -nan         -nan         -nan         -nan\r\n",
      "        -nan         -nan         -nan         -nan         -nan         -nan         -nan         -nan         -nan         -nan         -nan         -nan         -nan         -nan         -nan         -nan         -nan         -nan         -nan         -nan         -nan         -nan         -nan         -nan         -nan         -nan         -nan         -nan         -nan         -nan         -nan         -nan         -nan         -nan         -nan\r\n",
      "        -nan         -nan         -nan         -nan         -nan         -nan         -nan         -nan         -nan         -nan         -nan         -nan         -nan         -nan         -nan         -nan         -nan         -nan         -nan         -nan         -nan         -nan         -nan         -nan         -nan         -nan         -nan         -nan         -nan         -nan         -nan         -nan         -nan         -nan         -nan\r\n",
      "        -nan         -nan         -nan         -nan         -nan         -nan         -nan         -nan         -nan         -nan         -nan         -nan         -nan         -nan         -nan         -nan         -nan         -nan         -nan         -nan         -nan         -nan         -nan         -nan         -nan         -nan         -nan         -nan         -nan         -nan         -nan         -nan         -nan         -nan         -nan\r\n",
      "        -nan         -nan         -nan         -nan         -nan         -nan         -nan         -nan         -nan         -nan         -nan         -nan         -nan         -nan         -nan         -nan         -nan         -nan         -nan         -nan         -nan         -nan         -nan         -nan         -nan         -nan         -nan         -nan         -nan         -nan         -nan         -nan         -nan         -nan         -nan\r\n",
      "        -nan         -nan         -nan         -nan         -nan         -nan         -nan         -nan         -nan         -nan         -nan         -nan         -nan         -nan         -nan         -nan         -nan         -nan         -nan         -nan         -nan         -nan         -nan         -nan         -nan         -nan         -nan         -nan         -nan         -nan         -nan         -nan         -nan         -nan         -nan\r\n",
      "        -nan         -nan         -nan         -nan         -nan         -nan         -nan         -nan         -nan         -nan         -nan         -nan         -nan         -nan         -nan         -nan         -nan         -nan         -nan         -nan         -nan         -nan         -nan         -nan         -nan         -nan         -nan         -nan         -nan         -nan         -nan         -nan         -nan         -nan         -nan\r\n",
      "        -nan         -nan         -nan         -nan         -nan         -nan         -nan         -nan         -nan         -nan         -nan         -nan         -nan         -nan         -nan         -nan         -nan         -nan         -nan         -nan         -nan         -nan         -nan         -nan         -nan         -nan         -nan         -nan         -nan         -nan         -nan         -nan         -nan         -nan         -nan\r\n",
      "        -nan         -nan         -nan         -nan         -nan         -nan         -nan         -nan         -nan         -nan         -nan         -nan         -nan         -nan         -nan         -nan         -nan         -nan         -nan         -nan         -nan         -nan         -nan         -nan         -nan         -nan         -nan         -nan         -nan         -nan         -nan         -nan         -nan         -nan         -nan\r\n",
      "        -nan         -nan         -nan         -nan         -nan         -nan         -nan         -nan         -nan         -nan         -nan         -nan         -nan         -nan         -nan         -nan         -nan         -nan         -nan         -nan         -nan         -nan         -nan         -nan         -nan         -nan         -nan         -nan         -nan         -nan         -nan         -nan         -nan         -nan         -nan\r\n",
      "        -nan         -nan         -nan         -nan         -nan         -nan         -nan         -nan         -nan         -nan         -nan         -nan         -nan         -nan         -nan         -nan         -nan         -nan         -nan         -nan         -nan         -nan         -nan         -nan         -nan         -nan         -nan         -nan         -nan         -nan         -nan         -nan         -nan         -nan         -nan\r\n",
      "        -nan         -nan         -nan         -nan         -nan         -nan         -nan         -nan         -nan         -nan         -nan         -nan         -nan         -nan         -nan         -nan         -nan         -nan         -nan         -nan         -nan         -nan         -nan          nan          nan          nan          nan          nan          nan          nan          nan          nan          nan          nan          nan\r\n",
      "an error occurred:\r\n",
      "Small generalized eigenvalue problem failed.\r\n"
     ]
    }
   ],
   "source": [
    "!xtp_tools -c job_name=CO geometry_optimization.maxiter=1 dftpackage.basisset=3-21G dftpackage.auxbasisset=aux-def2-svp gwbse.gw.mode=G0W0 -e dftgwbse -t 4"
   ]
  },
  {
   "cell_type": "markdown",
   "metadata": {},
   "source": [
    "Notice that we are using 4 threads. The results will be stored in a file named `CO_summary.xml` in the current work directory, together with the optimization step in `optimisation.trj` and the orbitals in [hdf5 format](https://www.hdfgroup.org/solutions/hdf5/) saved on `CO.orb`."
   ]
  }
 ],
 "metadata": {
  "kernelspec": {
   "display_name": "Python 3",
   "language": "python",
   "name": "python3"
  },
  "language_info": {
   "codemirror_mode": {
    "name": "ipython",
    "version": 3
   },
   "file_extension": ".py",
   "mimetype": "text/x-python",
   "name": "python",
   "nbconvert_exporter": "python",
   "pygments_lexer": "ipython3",
   "version": "3.11.1"
  }
 },
 "nbformat": 4,
 "nbformat_minor": 4
}
