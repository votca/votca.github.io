{
 "cells": [
  {
   "cell_type": "markdown",
   "metadata": {},
   "source": [
    "# QMMM workflow using LAMMPS and VOTCA-XTP"
   ]
  },
  {
   "cell_type": "markdown",
   "metadata": {},
   "source": [
    "## What is this tutorial about\n",
    "In this tutorial, we will learn how to set and perform excited state calculation using the Votca XTP library. We will use thiophene as our QM region."
   ]
  },
  {
   "cell_type": "markdown",
   "metadata": {},
   "source": [
    "## Requirements\n",
    "* You will need to install **VOTCA** using the instructions described [here](https://github.com/votca/votca/blob/master/share/sphinx/INSTALL.rst)\n",
    "* Once the installation is completed you need to activate the VOTCA enviroment by running the `VOTCARC.bash` script that has been installed at the bin subfolder for the path that you have provided for the installation step above"
   ]
  },
  {
   "cell_type": "markdown",
   "metadata": {},
   "source": [
    "## Interacting with the XTP command line interface\n",
    "The XTP package offers the following command line interface that the user can interact with:\n",
    "* [xtp_map](https://www.votca.org/xtp/xtp_map.html)\n",
    "* [xtp_parallel](https://www.votca.org/xtp/xtp_parallel.html)\n",
    "* [xtp_run](https://www.votca.org/xtp/xtp_run.html)\n",
    "* [xtp_tools](https://www.votca.org/xtp/xtp_tools.html)\n",
    "\n",
    "Run the following command to view the help message of `xtp_tools`:"
   ]
  },
  {
   "cell_type": "code",
   "execution_count": 1,
   "metadata": {
    "execution": {
     "iopub.execute_input": "2025-01-20T06:22:59.939898Z",
     "iopub.status.busy": "2025-01-20T06:22:59.939719Z",
     "iopub.status.idle": "2025-01-20T06:23:00.073315Z",
     "shell.execute_reply": "2025-01-20T06:23:00.072801Z"
    }
   },
   "outputs": [
    {
     "name": "stdout",
     "output_type": "stream",
     "text": [
      "==================================================\r\n",
      "========   VOTCA (http://www.votca.org)   ========\r\n",
      "==================================================\r\n",
      "\r\n",
      "please read and cite: https://doi.org/10.21105/joss.06864\r\n",
      "and submit bugs to https://github.com/votca/votca/issues\r\n",
      "\r\n",
      "xtp_tools, version 2024.2-dev gitid: 22618c7 (compiled Jan 20 2025, 06:19:32)\r\n",
      "\r\n",
      "Runs excitation/charge transport tools\r\n",
      "\r\n",
      "\r\n",
      "\r\n",
      "Allowed options:\r\n",
      "  -h [ --help ]                 display this help and exit\r\n",
      "  --verbose                     be loud and noisy\r\n",
      "  --verbose1                    be very loud and noisy\r\n",
      "  -v [ --verbose2 ]             be extremly loud and noisy\r\n",
      "  -o [ --options ] arg          Tool user options.\r\n",
      "  -t [ --nthreads ] arg (=1)    number of threads to create\r\n",
      "  -e [ --execute ] arg        Name of Tool to run\r\n",
      "  -l [ --list ]               Lists all available Tools\r\n",
      "  -d [ --description ] arg    Short description of a Tools\r\n",
      "  -c [ --cmdoptions ] arg     Modify options via command line by e.g. '-c \r\n",
      "                              xmltag.subtag=value'. Use whitespace to separate \r\n",
      "                              multiple options\r\n",
      "  -p [ --printoptions ] arg   Prints xml options of a Tool\r\n",
      "\r\n"
     ]
    }
   ],
   "source": [
    "!xtp_tools -h"
   ]
  },
  {
   "cell_type": "markdown",
   "metadata": {},
   "source": [
    "### Note\n",
    "> * In Jupyter the `!` symbol means: *run the following command as a standard unix command*\n",
    "> * In Jupyter the command `%env` set an environmental variable"
   ]
  },
  {
   "cell_type": "markdown",
   "metadata": {},
   "source": [
    "## Setting the environment\n"
   ]
  },
  {
   "cell_type": "markdown",
   "metadata": {},
   "source": [
    "Remove previous hdf5 file"
   ]
  },
  {
   "cell_type": "code",
   "execution_count": 2,
   "metadata": {
    "execution": {
     "iopub.execute_input": "2025-01-20T06:23:00.076484Z",
     "iopub.status.busy": "2025-01-20T06:23:00.076090Z",
     "iopub.status.idle": "2025-01-20T06:23:00.186020Z",
     "shell.execute_reply": "2025-01-20T06:23:00.185493Z"
    }
   },
   "outputs": [],
   "source": [
    "!rm -f state.hdf5"
   ]
  },
  {
   "cell_type": "markdown",
   "metadata": {},
   "source": [
    "## Generate the topology from the Gromacs file\n",
    "We will first generate the mapping from MD coordinates to segments, creating an [hdf5 file](https://www.hdfgroup.org/solutions/hdf5/) to store the results. You can explore the generated `state.hdf5` file with e.g. hdf5itebrowser. In Python, you can use the [h5py library](https://www.h5py.org/). The command to generate the mapping is the following,"
   ]
  },
  {
   "cell_type": "code",
   "execution_count": 3,
   "metadata": {
    "execution": {
     "iopub.execute_input": "2025-01-20T06:23:00.188578Z",
     "iopub.status.busy": "2025-01-20T06:23:00.188389Z",
     "iopub.status.idle": "2025-01-20T06:23:02.824603Z",
     "shell.execute_reply": "2025-01-20T06:23:02.823952Z"
    }
   },
   "outputs": [],
   "source": [
    "!xtp_map -v -t MD_FILES/newfile.data -c MD_FILES/traj.dump -s system.xml -f state.hdf5 -i 99 > mapping.out"
   ]
  },
  {
   "cell_type": "markdown",
   "metadata": {},
   "source": [
    "##  Check the mapping\n",
    "\n",
    "Let us first output `.pdb` files for the segments, qmmolecules and classical segments in order to check the mapping. So we have to pass the calculator the filename. Votca has two ways to specify options for calculators. Using a file with the `-o` option or for quick things using the `-c` option on the command line, we will use both."
   ]
  },
  {
   "cell_type": "markdown",
   "metadata": {},
   "source": [
    "In the [mapchecker section of the manual](https://www.votca.org/xtp/mapchecker.html) you can find a table with the `mapchecker` input variables and their corresponding defaults. Finally, the following command run the check"
   ]
  },
  {
   "cell_type": "code",
   "execution_count": 4,
   "metadata": {
    "execution": {
     "iopub.execute_input": "2025-01-20T06:23:02.827988Z",
     "iopub.status.busy": "2025-01-20T06:23:02.827384Z",
     "iopub.status.idle": "2025-01-20T06:23:04.054323Z",
     "shell.execute_reply": "2025-01-20T06:23:04.053742Z"
    }
   },
   "outputs": [
    {
     "name": "stdout",
     "output_type": "stream",
     "text": [
      "==================================================\r\n",
      "========   VOTCA (http://www.votca.org)   ========\r\n",
      "==================================================\r\n",
      "\r\n",
      "please read and cite: https://doi.org/10.21105/joss.06864\r\n",
      "and submit bugs to https://github.com/votca/votca/issues\r\n",
      "\r\n",
      "xtp_run, version 2024.2-dev gitid: 22618c7 (compiled Jan 20 2025, 06:19:32)\r\n",
      "\r\n",
      "Initializing calculator\r\n",
      "... mapchecker\r\n",
      "1 frames in statefile, Ids are: 10000 \r\n",
      "Starting at frame 10000\r\n",
      "Evaluating frame 10000\r\n",
      "Import MD Topology (i.e. frame 10000) from state.hdf5\r\n"
     ]
    },
    {
     "name": "stdout",
     "output_type": "stream",
     "text": [
      ".... \r\n"
     ]
    },
    {
     "name": "stdout",
     "output_type": "stream",
     "text": [
      "... mapchecker\r\n",
      " Using 1 threads\r\n",
      "Writing segments to md_segments_step_10000.pdb\r\n",
      "Writing qmmolecules to qm_segments_n_step_10000.pdb\r\n"
     ]
    },
    {
     "name": "stdout",
     "output_type": "stream",
     "text": [
      "Writing polarsegments to mp_segments_e_step_10000.pdb\r\n"
     ]
    },
    {
     "name": "stdout",
     "output_type": "stream",
     "text": [
      "Writing polarsegments to mp_segments_h_step_10000.pdb\r\n"
     ]
    },
    {
     "name": "stdout",
     "output_type": "stream",
     "text": [
      "Changes have not been written to state file.\r\n"
     ]
    }
   ],
   "source": [
    "!xtp_run -e mapchecker -c map_file=system.xml -f state.hdf5"
   ]
  },
  {
   "cell_type": "markdown",
   "metadata": {},
   "source": [
    "## Neighborlist Calculation\n",
    "The following step is to determine the neighbouring pairs for exciton transport."
   ]
  },
  {
   "cell_type": "markdown",
   "metadata": {},
   "source": [
    "We will use a cutoff of 1.5 nm. If you want to have a look at an option just the `-d` option with the calculator name"
   ]
  },
  {
   "cell_type": "code",
   "execution_count": 5,
   "metadata": {
    "execution": {
     "iopub.execute_input": "2025-01-20T06:23:04.057121Z",
     "iopub.status.busy": "2025-01-20T06:23:04.056924Z",
     "iopub.status.idle": "2025-01-20T06:23:04.186474Z",
     "shell.execute_reply": "2025-01-20T06:23:04.185921Z"
    }
   },
   "outputs": [
    {
     "name": "stdout",
     "output_type": "stream",
     "text": [
      " \u001b[0;35mneighborlist:  \u001b[0;31mDetermines neighbouring pairs for exciton transport\u001b[0;39m\r\n",
      "   OPTION      \u001b[0;34mDEFAULT\u001b[0;32m    UNIT           \u001b[0;39mDESCRIPTION\r\n",
      "   segmentpairs\u001b[0;34m(OPTIONAL)\u001b[0;32m                \u001b[0;39mlist of pairs of molecules for which to create pairs\r\n",
      "    pair       \u001b[0;34m\u001b[0;32m                          \u001b[0;39mDefinition of one pair\r\n",
      "     type      \u001b[0;34m(REQUIRED)\u001b[0;32m                \u001b[0;39mnames of two segmenttypes to create a pair\r\n",
      "     cutoff    \u001b[0;34m(REQUIRED)\u001b[0;32m [nm]           \u001b[0;39mcutoff value if the segmentname method is used\r\n",
      "   constant    \u001b[0;34m(1.5)\u001b[0;32m      [nm]           \u001b[0;39mcontant cutoff for all segmenttypes\r\n",
      "   exciton_cutoff\u001b[0;34m(OPTIONAL)\u001b[0;32m              \u001b[0;39mcutoff for classical exciton transition charge treatment\r\n",
      "Done - stopping here\r\n"
     ]
    }
   ],
   "source": [
    "!xtp_run -d neighborlist"
   ]
  },
  {
   "cell_type": "code",
   "execution_count": 6,
   "metadata": {
    "execution": {
     "iopub.execute_input": "2025-01-20T06:23:04.189014Z",
     "iopub.status.busy": "2025-01-20T06:23:04.188827Z",
     "iopub.status.idle": "2025-01-20T06:23:06.306851Z",
     "shell.execute_reply": "2025-01-20T06:23:06.306260Z"
    }
   },
   "outputs": [
    {
     "name": "stdout",
     "output_type": "stream",
     "text": [
      "==================================================\r\n",
      "========   VOTCA (http://www.votca.org)   ========\r\n",
      "==================================================\r\n",
      "\r\n",
      "please read and cite: https://doi.org/10.21105/joss.06864\r\n",
      "and submit bugs to https://github.com/votca/votca/issues\r\n",
      "\r\n",
      "xtp_run, version 2024.2-dev gitid: 22618c7 (compiled Jan 20 2025, 06:19:32)\r\n",
      "\r\n",
      "Initializing calculator\r\n",
      "... neighborlist\r\n",
      "1 frames in statefile, Ids are: 10000 \r\n",
      "Starting at frame 10000\r\n",
      "Evaluating frame 10000\r\n",
      "Import MD Topology (i.e. frame 10000) from state.hdf5\r\n"
     ]
    },
    {
     "name": "stdout",
     "output_type": "stream",
     "text": [
      ".... \r\n"
     ]
    },
    {
     "name": "stdout",
     "output_type": "stream",
     "text": [
      "... neighborlist\r\n",
      " Using 1 threads\r\n",
      "Evaluating 1000 segments for neighborlist. \r\n",
      "\r",
      " ... ... Evaluating \r\n",
      "0%   10   20   30   40   50   60   70   80   90   100%\r\n",
      "|----|----|----|----|----|----|----|----|----|----|\r\n",
      "****"
     ]
    },
    {
     "name": "stdout",
     "output_type": "stream",
     "text": [
      "****"
     ]
    },
    {
     "name": "stdout",
     "output_type": "stream",
     "text": [
      "*****"
     ]
    },
    {
     "name": "stdout",
     "output_type": "stream",
     "text": [
      "******"
     ]
    },
    {
     "name": "stdout",
     "output_type": "stream",
     "text": [
      "*******"
     ]
    },
    {
     "name": "stdout",
     "output_type": "stream",
     "text": [
      "*********"
     ]
    },
    {
     "name": "stdout",
     "output_type": "stream",
     "text": [
      "****************\r\n",
      "\r\n"
     ]
    },
    {
     "name": "stdout",
     "output_type": "stream",
     "text": [
      " ... ... Created 90067 direct pairs.Wrote MD topology (step = 10000, time = 0) to state.hdf5\r\n",
      "... . \r\n"
     ]
    }
   ],
   "source": [
    "!xtp_run -e neighborlist -c constant=1.5 -f state.hdf5"
   ]
  },
  {
   "cell_type": "markdown",
   "metadata": {},
   "source": [
    "## Read reorganization energies\n",
    "In this step we will read the in site reorganization energies and store them in the `state.hdf5` file. We just need to copy the input file and execute the calculation."
   ]
  },
  {
   "cell_type": "code",
   "execution_count": 7,
   "metadata": {
    "execution": {
     "iopub.execute_input": "2025-01-20T06:23:06.309805Z",
     "iopub.status.busy": "2025-01-20T06:23:06.309502Z",
     "iopub.status.idle": "2025-01-20T06:23:07.919338Z",
     "shell.execute_reply": "2025-01-20T06:23:07.918755Z"
    }
   },
   "outputs": [
    {
     "name": "stdout",
     "output_type": "stream",
     "text": [
      "==================================================\r\n",
      "========   VOTCA (http://www.votca.org)   ========\r\n",
      "==================================================\r\n",
      "\r\n",
      "please read and cite: https://doi.org/10.21105/joss.06864\r\n",
      "and submit bugs to https://github.com/votca/votca/issues\r\n",
      "\r\n",
      "xtp_run, version 2024.2-dev gitid: 22618c7 (compiled Jan 20 2025, 06:19:32)\r\n",
      "\r\n",
      "Initializing calculator\r\n",
      "... einternal\r\n",
      "1 frames in statefile, Ids are: 10000 \r\n",
      "Starting at frame 10000\r\n",
      "Evaluating frame 10000\r\n",
      "Import MD Topology (i.e. frame 10000) from state.hdf5\r\n"
     ]
    },
    {
     "name": "stdout",
     "output_type": "stream",
     "text": [
      ".... \r\n",
      "... einternal\r\n",
      " Using 1 threads\r\n",
      "... ... Site, reorg. energies from system.xml.\r\n",
      "\r\n",
      "... ... Read in site, reorg. energies for 1000 segments. "
     ]
    },
    {
     "name": "stdout",
     "output_type": "stream",
     "text": [
      "Wrote MD topology (step = 10000, time = 0) to state.hdf5\r\n",
      "... . \r\n"
     ]
    }
   ],
   "source": [
    "!xtp_run -e einternal -f state.hdf5"
   ]
  },
  {
   "cell_type": "markdown",
   "metadata": {},
   "source": [
    "## Compute site energy\n",
    "In this step we will perform some *QMMM* calculations to compute the site energies. The `qmmm_mm.xml` file contains more options to perform the *MM* calculations."
   ]
  },
  {
   "cell_type": "code",
   "execution_count": 8,
   "metadata": {
    "execution": {
     "iopub.execute_input": "2025-01-20T06:23:07.922080Z",
     "iopub.status.busy": "2025-01-20T06:23:07.921890Z",
     "iopub.status.idle": "2025-01-20T06:23:08.808983Z",
     "shell.execute_reply": "2025-01-20T06:23:08.808300Z"
    }
   },
   "outputs": [
    {
     "name": "stdout",
     "output_type": "stream",
     "text": [
      "==================================================\r\n",
      "========   VOTCA (http://www.votca.org)   ========\r\n",
      "==================================================\r\n",
      "\r\n",
      "please read and cite: https://doi.org/10.21105/joss.06864\r\n",
      "and submit bugs to https://github.com/votca/votca/issues\r\n",
      "\r\n",
      "xtp_parallel, version 2024.2-dev gitid: 22618c7 (compiled Jan 20 2025, 06:19:32)\r\n",
      "\r\n",
      "Initializing calculator\r\n",
      "... qmmm\r\n",
      "\r\n",
      "... ... Initialized with 1 threads.\r\n",
      "\r\n",
      "... ... Using 1 openmp threads for 1x1=1 total threads.\r\n",
      "1 frames in statefile, Ids are: 10000 \r\n",
      "Starting at frame 10000\r\n",
      "Evaluating frame 10000\r\n",
      "Import MD Topology (i.e. frame 10000) from state.hdf5\r\n"
     ]
    },
    {
     "name": "stdout",
     "output_type": "stream",
     "text": [
      ".... \r\n",
      "... qmmm \r\n",
      "... ... Writing job file qmmm_mm_jobs.xml"
     ]
    },
    {
     "name": "stdout",
     "output_type": "stream",
     "text": [
      "\r\n",
      "... ... In total 3000 jobs\r\n",
      "Changes have not been written to state file.\r\n"
     ]
    }
   ],
   "source": [
    "!xtp_parallel -e qmmm -o qmmm_mm.xml -f state.hdf5 -j \"write\""
   ]
  },
  {
   "cell_type": "markdown",
   "metadata": {},
   "source": [
    "The previous command generates a `qmmm_mm_jobs.xml` containing 3000 *MM* jobs to compute, if you examine that file, it should look something like:\n",
    "```xml\n",
    "<jobs>\n",
    "        <job>\n",
    "                <id>0</id>\n",
    "                <tag>thiophene_0:n</tag>\n",
    "                <input>\n",
    "                        <site_energies>0:n</site_energies>\n",
    "                        <regions>\n",
    "                                <region>\n",
    "                                        <id>0</id>\n",
    "                                        <segments>0:n</segments>\n",
    "                                </region>\n",
    "                        </regions>\n",
    "                </input>\n",
    "                <status>AVAILABLE</status>\n",
    "        </job>\n",
    "```"
   ]
  },
  {
   "cell_type": "markdown",
   "metadata": {},
   "source": [
    "Let us run just the first 4 jobs by settings all jobs `status` to `COMPLETE` except for the first four. This can be easily done with [sed](https://www.gnu.org/software/sed/manual/sed.html) as follows,"
   ]
  },
  {
   "cell_type": "code",
   "execution_count": 9,
   "metadata": {
    "execution": {
     "iopub.execute_input": "2025-01-20T06:23:08.812120Z",
     "iopub.status.busy": "2025-01-20T06:23:08.811930Z",
     "iopub.status.idle": "2025-01-20T06:23:09.371222Z",
     "shell.execute_reply": "2025-01-20T06:23:09.370560Z"
    }
   },
   "outputs": [],
   "source": [
    "!sed -i \"s/AVAILABLE/COMPLETE/g\" qmmm_mm_jobs.xml\n",
    "!sed -i '0,/COMPLETE/s/COMPLETE/AVAILABLE/' qmmm_mm_jobs.xml\n",
    "!sed -i '0,/COMPLETE/s/COMPLETE/AVAILABLE/' qmmm_mm_jobs.xml\n",
    "!sed -i '0,/COMPLETE/s/COMPLETE/AVAILABLE/' qmmm_mm_jobs.xml\n",
    "!sed -i '0,/COMPLETE/s/COMPLETE/AVAILABLE/' qmmm_mm_jobs.xml"
   ]
  },
  {
   "cell_type": "markdown",
   "metadata": {},
   "source": [
    "Now we can run the jobs and save the results in the state file"
   ]
  },
  {
   "cell_type": "code",
   "execution_count": 10,
   "metadata": {
    "execution": {
     "iopub.execute_input": "2025-01-20T06:23:09.374335Z",
     "iopub.status.busy": "2025-01-20T06:23:09.373975Z",
     "iopub.status.idle": "2025-01-20T06:23:12.729469Z",
     "shell.execute_reply": "2025-01-20T06:23:12.728856Z"
    }
   },
   "outputs": [
    {
     "name": "stdout",
     "output_type": "stream",
     "text": [
      "==================================================\r\n",
      "========   VOTCA (http://www.votca.org)   ========\r\n",
      "==================================================\r\n",
      "\r\n",
      "please read and cite: https://doi.org/10.21105/joss.06864\r\n",
      "and submit bugs to https://github.com/votca/votca/issues\r\n",
      "\r\n",
      "xtp_parallel, version 2024.2-dev gitid: 22618c7 (compiled Jan 20 2025, 06:19:32)\r\n",
      "\r\n",
      "Initializing calculator\r\n",
      "... qmmm\r\n",
      "\r\n",
      "... ... Initialized with 1 threads.\r\n",
      "\r\n",
      "... ... Using 1 openmp threads for 1x1=1 total threads.\r\n",
      "1 frames in statefile, Ids are: 10000 \r\n",
      "Starting at frame 10000\r\n",
      "Evaluating frame 10000\r\n",
      "Import MD Topology (i.e. frame 10000) from state.hdf5\r\n"
     ]
    },
    {
     "name": "stdout",
     "output_type": "stream",
     "text": [
      ".... \r\n"
     ]
    },
    {
     "name": "stdout",
     "output_type": "stream",
     "text": [
      "... qmmm \r\n",
      "MST ERR Job file = 'qmmm_mm_jobs.xml', cache size =  8\r\n",
      "MST ERR Initialize jobs from qmmm_mm_jobs.xml"
     ]
    },
    {
     "name": "stdout",
     "output_type": "stream",
     "text": [
      "\r\n",
      "MST ERR Registered 3000 jobs.\r\n",
      "T00 ERR ... Requesting next job"
     ]
    },
    {
     "name": "stdout",
     "output_type": "stream",
     "text": [
      "\r\n",
      "T00 ERR ... Assign jobs from stack"
     ]
    },
    {
     "name": "stdout",
     "output_type": "stream",
     "text": [
      "\r\n",
      "T00 ERR ... Next job: ID = 0=> [ 0%] \r\n",
      "T00 ERR ...  Regions created\r\n",
      "T00 ERR ... Id: 0 type: polarregion size: 2 charge[e]= -2.77556e-16\r\n",
      "T00 ERR ... Id: 1 type: staticregion size: 81 charge[e]= -1.78191e-14\r\n",
      "T00 ERR ... 2025-1-20 6:23:10 Writing jobtopology to MMMM/frame_10000/job_0_thiophene_0:n/regions.pdb\r\n",
      "T00 ERR ... 2025-1-20 6:23:10 Only 1 scf region is used. The remaining regions are static. So no inter regions scf is required. \r\n",
      "T00 ERR ... 2025-1-20 6:23:10 --Inter Region SCF Iteration 1 of 1\r\n",
      "T00 ERR ... 2025-1-20 6:23:10 Evaluating polarregion 0\r\n",
      "T00 ERR ... 2025-1-20 6:23:10 Evaluating interaction between polarregion 0 and staticregion 1\r\n",
      "T00 ERR ... 2025-1-20 6:23:10 Starting Solving for classical polarization with 54 degrees of freedom.\r\n",
      "T00 ERR ... 2025-1-20 6:23:10 CG: #iterations: 6, estimated error: 1.81713e-05\r\n",
      "T00 ERR ...   Total static energy [hrt]= -0.004971088488\r\n",
      "T00 ERR ...   Total polar energy [hrt]= -0.0007676658977\r\n",
      "T00 ERR ...  Total energy [hrt]= -0.005738754386\r\n",
      "T00 ERR ... 2025-1-20 6:23:10 Evaluating staticregion 1\r\n",
      "T00 ERR ... 2025-1-20 6:23:10 Writing checkpoint to checkpoint_iter_1.hdf5"
     ]
    },
    {
     "name": "stdout",
     "output_type": "stream",
     "text": [
      "\r\n",
      "T00 ERR ... Reporting job results\r\n",
      "\r\n",
      "T00 ERR ... Requesting next job\r\n",
      "T00 ERR ... Next job: ID = 1\r\n",
      "T00 ERR ...  Regions created\r\n",
      "T00 ERR ... Id: 0 type: polarregion size: 2 charge[e]= -1\r\n",
      "T00 ERR ... Id: 1 type: staticregion size: 81 charge[e]= -1.781907955e-14\r\n",
      "T00 ERR ... 2025-1-20 6:23:10 Writing jobtopology to MMMM/frame_10000/job_1_thiophene_0:e/regions.pdb\r\n",
      "T00 ERR ... 2025-1-20 6:23:10 Only 1 scf region is used. The remaining regions are static. So no inter regions scf is required. \r\n",
      "T00 ERR ... 2025-1-20 6:23:10 --Inter Region SCF Iteration 1 of 1\r\n",
      "T00 ERR ... 2025-1-20 6:23:10 Evaluating polarregion 0\r\n",
      "T00 ERR ... 2025-1-20 6:23:10 Evaluating interaction between polarregion 0 and staticregion 1\r\n",
      "T00 ERR ... 2025-1-20 6:23:10 Starting Solving for classical polarization with 54 degrees of freedom.\r\n",
      "T00 ERR ... 2025-1-20 6:23:10 CG: #iterations: 7, estimated error: 2.932571714e-05\r\n",
      "T00 ERR ...   Total static energy [hrt]= -0.003915405303\r\n",
      "T00 ERR ...   Total polar energy [hrt]= -0.006268779815\r\n",
      "T00 ERR ...  Total energy [hrt]= -0.01018418512\r\n",
      "T00 ERR ... 2025-1-20 6:23:10 Evaluating staticregion 1\r\n",
      "T00 ERR ... 2025-1-20 6:23:10 Writing checkpoint to checkpoint_iter_1.hdf5\r\n",
      "T00 ERR ... Reporting job results\r\n",
      "\r\n",
      "T00 ERR ... Requesting next job\r\n",
      "T00 ERR ... Next job: ID = 2\r\n",
      "T00 ERR ...  Regions created\r\n",
      "T00 ERR ... Id: 0 type: polarregion size: 2 charge[e]= 1\r\n",
      "T00 ERR ... Id: 1 type: staticregion size: 81 charge[e]= -1.781907955e-14\r\n",
      "T00 ERR ... 2025-1-20 6:23:10 Writing jobtopology to MMMM/frame_10000/job_2_thiophene_0:h/regions.pdb\r\n",
      "T00 ERR ... 2025-1-20 6:23:10 Only 1 scf region is used. The remaining regions are static. So no inter regions scf is required. \r\n",
      "T00 ERR ... 2025-1-20 6:23:10 --Inter Region SCF Iteration 1 of 1\r\n",
      "T00 ERR ... 2025-1-20 6:23:10 Evaluating polarregion 0\r\n",
      "T00 ERR ... 2025-1-20 6:23:10 Evaluating interaction between polarregion 0 and staticregion 1\r\n",
      "T00 ERR ... 2025-1-20 6:23:10 Starting Solving for classical polarization with 54 degrees of freedom.\r\n",
      "T00 ERR ... 2025-1-20 6:23:10 CG: #iterations: 7, estimated error: 2.093123816e-05\r\n",
      "T00 ERR ...   Total static energy [hrt]= -0.005431444746\r\n",
      "T00 ERR ...   Total polar energy [hrt]= -0.004771992159\r\n",
      "T00 ERR ...  Total energy [hrt]= -0.01020343691\r\n",
      "T00 ERR ... 2025-1-20 6:23:10 Evaluating staticregion 1\r\n",
      "T00 ERR ... 2025-1-20 6:23:10 Writing checkpoint to checkpoint_iter_1.hdf5"
     ]
    },
    {
     "name": "stdout",
     "output_type": "stream",
     "text": [
      "\r\n",
      "T00 ERR ... Reporting job results\r\n",
      "\r\n",
      "T00 ERR ... Requesting next job\r\n",
      "T00 ERR ... Next job: ID = 3\r\n",
      "T00 ERR ...  Regions created\r\n",
      "T00 ERR ... Id: 0 type: polarregion size: 2 charge[e]= -2.775557562e-16\r\n",
      "T00 ERR ... Id: 1 type: staticregion size: 77 charge[e]= -1.693090113e-14\r\n",
      "T00 ERR ... 2025-1-20 6:23:10 Writing jobtopology to MMMM/frame_10000/job_3_thiophene_1:n/regions.pdb\r\n",
      "T00 ERR ... 2025-1-20 6:23:10 Only 1 scf region is used. The remaining regions are static. So no inter regions scf is required. \r\n",
      "T00 ERR ... 2025-1-20 6:23:10 --Inter Region SCF Iteration 1 of 1\r\n",
      "T00 ERR ... 2025-1-20 6:23:10 Evaluating polarregion 0\r\n",
      "T00 ERR ... 2025-1-20 6:23:10 Evaluating interaction between polarregion 0 and staticregion 1\r\n",
      "T00 ERR ... 2025-1-20 6:23:10 Starting Solving for classical polarization with 54 degrees of freedom.\r\n",
      "T00 ERR ... 2025-1-20 6:23:10 CG: #iterations: 5, estimated error: 3.321625188e-05\r\n",
      "T00 ERR ...   Total static energy [hrt]= -0.003424359186\r\n",
      "T00 ERR ...   Total polar energy [hrt]= -0.0005740411819\r\n",
      "T00 ERR ...  Total energy [hrt]= -0.003998400368\r\n",
      "T00 ERR ... 2025-1-20 6:23:10 Evaluating staticregion 1\r\n",
      "T00 ERR ... 2025-1-20 6:23:10 Writing checkpoint to checkpoint_iter_1.hdf5\r\n",
      "T00 ERR ... Reporting job results\r\n",
      "\r\n",
      "T00 ERR ... Requesting next job"
     ]
    },
    {
     "name": "stdout",
     "output_type": "stream",
     "text": [
      "\r\n",
      "T00 ERR ... Assign jobs from stack"
     ]
    },
    {
     "name": "stdout",
     "output_type": "stream",
     "text": [
      "\r\n",
      "T00 ERR ... Sync did not yield any new jobs.\r\n",
      "T00 ERR ... Next job: ID = - (none available)"
     ]
    },
    {
     "name": "stdout",
     "output_type": "stream",
     "text": [
      "\r\n",
      "MST ERR Assign jobs from stack"
     ]
    },
    {
     "name": "stdout",
     "output_type": "stream",
     "text": [
      "\r\n",
      "Changes have not been written to state file.\r\n"
     ]
    },
    {
     "name": "stdout",
     "output_type": "stream",
     "text": [
      "==================================================\r\n",
      "========   VOTCA (http://www.votca.org)   ========\r\n",
      "==================================================\r\n",
      "\r\n",
      "please read and cite: https://doi.org/10.21105/joss.06864\r\n",
      "and submit bugs to https://github.com/votca/votca/issues\r\n",
      "\r\n",
      "xtp_parallel, version 2024.2-dev gitid: 22618c7 (compiled Jan 20 2025, 06:19:32)\r\n",
      "\r\n",
      "Initializing calculator\r\n",
      "... qmmm\r\n",
      "\r\n",
      "... ... Initialized with 1 threads.\r\n",
      "\r\n",
      "... ... Using 1 openmp threads for 1x1=1 total threads.\r\n",
      "1 frames in statefile, Ids are: 10000 \r\n",
      "Starting at frame 10000\r\n",
      "Evaluating frame 10000\r\n",
      "Import MD Topology (i.e. frame 10000) from state.hdf5\r\n"
     ]
    },
    {
     "name": "stdout",
     "output_type": "stream",
     "text": [
      ".... \r\n"
     ]
    },
    {
     "name": "stdout",
     "output_type": "stream",
     "text": [
      "... qmmm \r\n",
      "Found 1 states of type e\r\n",
      "Found 1 states of type h\r\n",
      "Found 2 states of type n\r\n",
      "2996 incomplete jobs found.\r\n",
      "\r\n"
     ]
    },
    {
     "name": "stdout",
     "output_type": "stream",
     "text": [
      "Wrote MD topology (step = 10000, time = 0) to state.hdf5\r\n",
      "... . \r\n"
     ]
    }
   ],
   "source": [
    "!xtp_parallel -e qmmm -o qmmm_mm.xml -f state.hdf5 -j \"run\"\n",
    "!xtp_parallel -e qmmm -o qmmm_mm.xml -f state.hdf5 -j \"read\""
   ]
  },
  {
   "cell_type": "markdown",
   "metadata": {},
   "source": [
    "## Site energy and pair energy analysis\n",
    "In this step we generate an histogram and compute the correlation function of site energies and pair energy differences."
   ]
  },
  {
   "cell_type": "code",
   "execution_count": 11,
   "metadata": {
    "execution": {
     "iopub.execute_input": "2025-01-20T06:23:12.732245Z",
     "iopub.status.busy": "2025-01-20T06:23:12.732053Z",
     "iopub.status.idle": "2025-01-20T06:23:14.034810Z",
     "shell.execute_reply": "2025-01-20T06:23:14.034222Z"
    }
   },
   "outputs": [
    {
     "name": "stdout",
     "output_type": "stream",
     "text": [
      "==================================================\r\n",
      "========   VOTCA (http://www.votca.org)   ========\r\n",
      "==================================================\r\n",
      "\r\n",
      "please read and cite: https://doi.org/10.21105/joss.06864\r\n",
      "and submit bugs to https://github.com/votca/votca/issues\r\n",
      "\r\n",
      "xtp_run, version 2024.2-dev gitid: 22618c7 (compiled Jan 20 2025, 06:19:32)\r\n",
      "\r\n",
      "Initializing calculator\r\n",
      "... eanalyze\r\n",
      "1 frames in statefile, Ids are: 10000 \r\n",
      "Starting at frame 10000\r\n",
      "Evaluating frame 10000\r\n",
      "Import MD Topology (i.e. frame 10000) from state.hdf5\r\n"
     ]
    },
    {
     "name": "stdout",
     "output_type": "stream",
     "text": [
      ".... \r\n",
      "... eanalyze\r\n",
      " Using 1 threads\r\n",
      "... ... Short-listed 1000 segments (pattern='*')\r\n",
      "... ... ... NOTE Statistics of site energies and spatial correlations thereof are based on the short-listed segments only. \r\n",
      "... ... ...      Statistics of site-energy differences operate on the full list.\r\n",
      "... ... excited state e"
     ]
    },
    {
     "name": "stdout",
     "output_type": "stream",
     "text": [
      "\r\n",
      "... ... excited state h"
     ]
    },
    {
     "name": "stdout",
     "output_type": "stream",
     "text": [
      "\r\n",
      "... ... excited state s"
     ]
    },
    {
     "name": "stdout",
     "output_type": "stream",
     "text": [
      "\r\n",
      "... ... excited state t"
     ]
    },
    {
     "name": "stdout",
     "output_type": "stream",
     "text": [
      "\r\n",
      "Changes have not been written to state file.\r\n"
     ]
    }
   ],
   "source": [
    "!xtp_run -e eanalyze -f state.hdf5"
   ]
  },
  {
   "cell_type": "markdown",
   "metadata": {},
   "source": [
    "You should now see a set of files prefixed with `eanalyze` containing the histrogram and correlation functions."
   ]
  },
  {
   "cell_type": "code",
   "execution_count": 12,
   "metadata": {
    "execution": {
     "iopub.execute_input": "2025-01-20T06:23:14.037771Z",
     "iopub.status.busy": "2025-01-20T06:23:14.037281Z",
     "iopub.status.idle": "2025-01-20T06:23:14.148319Z",
     "shell.execute_reply": "2025-01-20T06:23:14.147834Z"
    }
   },
   "outputs": [
    {
     "name": "stdout",
     "output_type": "stream",
     "text": [
      "eanalyze.pairhist_e.out  eanalyze.pairlist_s.out  eanalyze.sitehist_e.out\r\n",
      "eanalyze.pairhist_h.out  eanalyze.pairlist_t.out  eanalyze.sitehist_h.out\r\n",
      "eanalyze.pairhist_s.out  eanalyze.sitecorr_e.out  eanalyze.sitehist_s.out\r\n",
      "eanalyze.pairhist_t.out  eanalyze.sitecorr_h.out  eanalyze.sitehist_t.out\r\n",
      "eanalyze.pairlist_e.out  eanalyze.sitecorr_s.out\r\n",
      "eanalyze.pairlist_h.out  eanalyze.sitecorr_t.out\r\n"
     ]
    }
   ],
   "source": [
    "!ls eanalyze*"
   ]
  },
  {
   "cell_type": "markdown",
   "metadata": {},
   "source": [
    "## QM energy calculation\n",
    "Our next task is to perform the qm calculations for each segment that we have stored in the hdf5 file. The calculations take place in 3 stages: write the jobs to a file, perform the computation and finally save the results to the state file. We created a small option file to make the calculation cheaper."
   ]
  },
  {
   "cell_type": "code",
   "execution_count": 13,
   "metadata": {
    "execution": {
     "iopub.execute_input": "2025-01-20T06:23:14.150916Z",
     "iopub.status.busy": "2025-01-20T06:23:14.150718Z",
     "iopub.status.idle": "2025-01-20T06:23:14.260832Z",
     "shell.execute_reply": "2025-01-20T06:23:14.260271Z"
    }
   },
   "outputs": [
    {
     "name": "stdout",
     "output_type": "stream",
     "text": [
      "<?xml version=\"1.0\"?>\r\n",
      "<options>\r\n",
      "  <eqm help=\"Executes qm calculations for individual molecules\" section=\"sec:eqm\">\r\n",
      "    <map_file>system.xml</map_file>\r\n",
      "    <gwbse>\r\n",
      "      <gw>\r\n",
      "        <mode>G0W0</mode>\r\n",
      "      </gw>\r\n",
      "      <ranges>full</ranges>\r\n",
      "    </gwbse>\r\n",
      "    <dftpackage>\r\n",
      "      <basisset>3-21G</basisset>\r\n",
      "      <auxbasisset>aux-def2-svp</auxbasisset>\r\n",
      "    </dftpackage>\r\n",
      "  </eqm>\r\n",
      "</options>"
     ]
    }
   ],
   "source": [
    "!cat eqm.xml"
   ]
  },
  {
   "cell_type": "markdown",
   "metadata": {},
   "source": [
    "For the sake of computational time let just compute the `gw` approximation and the `singlet`. You can also request the `triplet` or `all`,  see the [gwbse sectionfor the eqm calculator](https://www.votca.org/xtp/eqm.html)."
   ]
  },
  {
   "cell_type": "markdown",
   "metadata": {},
   "source": [
    "First we will write the job in a file and enable only the first 2 jobs"
   ]
  },
  {
   "cell_type": "code",
   "execution_count": 14,
   "metadata": {
    "execution": {
     "iopub.execute_input": "2025-01-20T06:23:14.263550Z",
     "iopub.status.busy": "2025-01-20T06:23:14.263091Z",
     "iopub.status.idle": "2025-01-20T06:23:15.455990Z",
     "shell.execute_reply": "2025-01-20T06:23:15.455341Z"
    }
   },
   "outputs": [
    {
     "name": "stdout",
     "output_type": "stream",
     "text": [
      "==================================================\r\n",
      "========   VOTCA (http://www.votca.org)   ========\r\n",
      "==================================================\r\n",
      "\r\n",
      "please read and cite: https://doi.org/10.21105/joss.06864\r\n",
      "and submit bugs to https://github.com/votca/votca/issues\r\n",
      "\r\n",
      "xtp_parallel, version 2024.2-dev gitid: 22618c7 (compiled Jan 20 2025, 06:19:32)\r\n",
      "\r\n",
      "Initializing calculator\r\n",
      "... eqm\r\n",
      "\r\n",
      "... ... Initialized with 1 threads.\r\n",
      "\r\n",
      "... ... Using 1 openmp threads for 1x1=1 total threads.\r\n",
      "1 frames in statefile, Ids are: 10000 \r\n",
      "Starting at frame 10000\r\n",
      "Evaluating frame 10000\r\n",
      "Import MD Topology (i.e. frame 10000) from state.hdf5\r\n"
     ]
    },
    {
     "name": "stdout",
     "output_type": "stream",
     "text": [
      ".... \r\n",
      "... eqm \r\n",
      "... ... Writing job file: eqm.jobs with 1000 jobs\r\n",
      "Changes have not been written to state file.\r\n"
     ]
    }
   ],
   "source": [
    "!xtp_parallel -e eqm -o eqm.xml -f state.hdf5 -j \"write\"\n",
    "!sed -i \"s/AVAILABLE/COMPLETE/g\" eqm.jobs\n",
    "!sed -i '0,/COMPLETE/s/COMPLETE/AVAILABLE/' eqm.jobs\n",
    "!sed -i '0,/COMPLETE/s/COMPLETE/AVAILABLE/' eqm.jobs"
   ]
  },
  {
   "cell_type": "markdown",
   "metadata": {},
   "source": [
    "Now, let run these 2 jobs"
   ]
  },
  {
   "cell_type": "markdown",
   "metadata": {},
   "source": [
    "Here we used some more options. `-o` allows us to read in a file with options. `-j` changes the writing to running in this case. `-x` determines how many cores should be used for each job. We can also run multiple jobs in parallel using `-p`"
   ]
  },
  {
   "cell_type": "code",
   "execution_count": 15,
   "metadata": {
    "execution": {
     "iopub.execute_input": "2025-01-20T06:23:15.458812Z",
     "iopub.status.busy": "2025-01-20T06:23:15.458622Z",
     "iopub.status.idle": "2025-01-20T06:23:38.585139Z",
     "shell.execute_reply": "2025-01-20T06:23:38.584522Z"
    }
   },
   "outputs": [
    {
     "name": "stdout",
     "output_type": "stream",
     "text": [
      "==================================================\r\n",
      "========   VOTCA (http://www.votca.org)   ========\r\n",
      "==================================================\r\n",
      "\r\n",
      "please read and cite: https://doi.org/10.21105/joss.06864\r\n",
      "and submit bugs to https://github.com/votca/votca/issues\r\n",
      "\r\n",
      "xtp_parallel, version 2024.2-dev gitid: 22618c7 (compiled Jan 20 2025, 06:19:32)\r\n",
      "\r\n",
      "Initializing calculator\r\n",
      "... eqm\r\n",
      "\r\n",
      "... ... Initialized with 1 threads.\r\n",
      "\r\n",
      "... ... Using 4 openmp threads for 1x4=4 total threads.\r\n",
      "1 frames in statefile, Ids are: 10000 \r\n",
      "Starting at frame 10000\r\n",
      "Evaluating frame 10000\r\n",
      "Import MD Topology (i.e. frame 10000) from state.hdf5\r\n"
     ]
    },
    {
     "name": "stdout",
     "output_type": "stream",
     "text": [
      ".... \r\n"
     ]
    },
    {
     "name": "stdout",
     "output_type": "stream",
     "text": [
      "... eqm \r\n",
      "MST ERR Job file = 'eqm.jobs', cache size =  8\r\n",
      "MST ERR Initialize jobs from eqm.jobs\r\n",
      "MST ERR Registered 1000 jobs.\r\n",
      "T00 ERR ... Requesting next job"
     ]
    },
    {
     "name": "stdout",
     "output_type": "stream",
     "text": [
      "\r\n",
      "T00 ERR ... Assign jobs from stack\r\n",
      "T00 ERR ... Next job: ID = 0=> [ 0%] \r\n",
      "T00 ERR ... 2025-1-20 6:23:16 Evaluating site 0\r\n",
      "T00 ERR ... Running DFT"
     ]
    },
    {
     "name": "stdout",
     "output_type": "stream",
     "text": [
      "\r\n",
      "T00 ERR ... Running GWBSE"
     ]
    },
    {
     "name": "stdout",
     "output_type": "stream",
     "text": [
      "\r\n",
      "T00 ERR ... Running ESPFIT\r\n",
      "T00 ERR ... ===== Running on 4 threads ===== "
     ]
    },
    {
     "name": "stdout",
     "output_type": "stream",
     "text": [
      "\r\n",
      "T00 ERR ... 2025-1-20 6:23:24 Calculated Densities at Numerical Grid, Number of electrons is 6.77704e-08\r\n",
      "T00 ERR ... 2025-1-20 6:23:24 Calculating ESP at CHELPG grid points"
     ]
    },
    {
     "name": "stdout",
     "output_type": "stream",
     "text": [
      "\r\n",
      "T00 ERR ... 2025-1-20 6:23:27 Netcharge constrained to -0\r\n",
      "T00 ERR ...  Sum of fitted charges: -9.85323e-16\r\n",
      "T00 ERR ...  RMSE of fit:  0.00257031\r\n",
      "T00 ERR ...  RRMSE of fit: 0.23994\r\n",
      "T00 ERR ... El Dipole from fitted charges [e*bohr]:\r\n",
      "\t\t dx = -0.6800 dy = +0.1553 dz = -0.2850 |d|^2 = +0.5678\r\n",
      "T00 ERR ... El Dipole from exact qm density [e*bohr]:\r\n",
      "\t\t dx = -0.7024 dy = +0.1605 dz = -0.2943 |d|^2 = +0.6057\r\n",
      "T00 ERR ... Written charges to MP_FILES/frame_10000/n2s1/thiophene_0_n2s1.mps\r\n",
      "T00 ERR ... 2025-1-20 6:23:27 Finished evaluating site 0\r\n",
      "T00 ERR ... Saving data to molecule_0.orb\r\n",
      "T00 ERR ... Reporting job results\r\n",
      "\r\n",
      "T00 ERR ... Requesting next job\r\n",
      "T00 ERR ... Next job: ID = 1\r\n",
      "T00 ERR ... 2025-1-20 6:23:27 Evaluating site 1\r\n",
      "T00 ERR ... Running DFT"
     ]
    },
    {
     "name": "stdout",
     "output_type": "stream",
     "text": [
      "\r\n",
      "T00 ERR ... Running GWBSE"
     ]
    },
    {
     "name": "stdout",
     "output_type": "stream",
     "text": [
      "\r\n",
      "T00 ERR ... Running ESPFIT\r\n",
      "T00 ERR ... ===== Running on 4 threads ===== "
     ]
    },
    {
     "name": "stdout",
     "output_type": "stream",
     "text": [
      "\r\n",
      "T00 ERR ... 2025-1-20 6:23:35 Calculated Densities at Numerical Grid, Number of electrons is -2.77407e-08\r\n",
      "T00 ERR ... 2025-1-20 6:23:35 Calculating ESP at CHELPG grid points"
     ]
    },
    {
     "name": "stdout",
     "output_type": "stream",
     "text": [
      "\r\n",
      "T00 ERR ... 2025-1-20 6:23:38 Netcharge constrained to 0\r\n",
      "T00 ERR ...  Sum of fitted charges: 7.56339e-16\r\n",
      "T00 ERR ...  RMSE of fit:  0.00254811\r\n",
      "T00 ERR ...  RRMSE of fit: 0.238125\r\n",
      "T00 ERR ... El Dipole from fitted charges [e*bohr]:\r\n",
      "\t\t dx = +0.1911 dy = +0.6925 dz = -0.2259 |d|^2 = +0.5670\r\n",
      "T00 ERR ... El Dipole from exact qm density [e*bohr]:\r\n",
      "\t\t dx = +0.1975 dy = +0.7157 dz = -0.2336 |d|^2 = +0.6057\r\n",
      "T00 ERR ... Written charges to MP_FILES/frame_10000/n2s1/thiophene_1_n2s1.mps\r\n",
      "T00 ERR ... 2025-1-20 6:23:38 Finished evaluating site 1\r\n",
      "T00 ERR ... Saving data to molecule_1.orb\r\n",
      "T00 ERR ... Reporting job results\r\n",
      "\r\n",
      "T00 ERR ... Requesting next job"
     ]
    },
    {
     "name": "stdout",
     "output_type": "stream",
     "text": [
      "\r\n",
      "T00 ERR ... Assign jobs from stack\r\n",
      "T00 ERR ... Sync did not yield any new jobs.\r\n",
      "T00 ERR ... Next job: ID = - (none available)"
     ]
    },
    {
     "name": "stdout",
     "output_type": "stream",
     "text": [
      "\r\n",
      "MST ERR Assign jobs from stack\r\n",
      "Changes have not been written to state file.\r\n"
     ]
    }
   ],
   "source": [
    "!xtp_parallel -e eqm -o eqm.xml -f state.hdf5 -j run -x 4"
   ]
  },
  {
   "cell_type": "markdown",
   "metadata": {},
   "source": [
    "## QM calculation for pairs\n",
    "In the following step we will run QM calculations for each pair in the hdf5 file. As the calculations on the previous step, we will first write the jobs in a file, then run them and finally store the results in the state file."
   ]
  },
  {
   "cell_type": "markdown",
   "metadata": {},
   "source": [
    "As in the previous section, we set the GWBSE mode to `G0W0`and the `ranges` to `full`, but we compute only the `gw` approximation. We do not need the BSE results for the coupling calculations. For more information, check the [iqm calculator options](https://www.votca.org/xtp/iqm.html). We also want to compute the `singlet` couplings. "
   ]
  },
  {
   "cell_type": "markdown",
   "metadata": {},
   "source": [
    "Before running the calculations, we need to specify in the `iqm` input which states to read into the jobfile for each segment type."
   ]
  },
  {
   "cell_type": "markdown",
   "metadata": {},
   "source": [
    "Now, let's write the jobs to the file"
   ]
  },
  {
   "cell_type": "code",
   "execution_count": 16,
   "metadata": {
    "execution": {
     "iopub.execute_input": "2025-01-20T06:23:38.588052Z",
     "iopub.status.busy": "2025-01-20T06:23:38.587857Z",
     "iopub.status.idle": "2025-01-20T06:23:40.374134Z",
     "shell.execute_reply": "2025-01-20T06:23:40.373522Z"
    }
   },
   "outputs": [
    {
     "name": "stdout",
     "output_type": "stream",
     "text": [
      "==================================================\r\n",
      "========   VOTCA (http://www.votca.org)   ========\r\n",
      "==================================================\r\n",
      "\r\n",
      "please read and cite: https://doi.org/10.21105/joss.06864\r\n",
      "and submit bugs to https://github.com/votca/votca/issues\r\n",
      "\r\n",
      "xtp_parallel, version 2024.2-dev gitid: 22618c7 (compiled Jan 20 2025, 06:19:32)\r\n",
      "\r\n",
      "Initializing calculator\r\n",
      "... iqm\r\n",
      "\r\n",
      "... ... Initialized with 1 threads.\r\n",
      "\r\n",
      "... ... Using 1 openmp threads for 1x1=1 total threads.\r\n",
      "1 frames in statefile, Ids are: 10000 \r\n",
      "Starting at frame 10000\r\n",
      "Evaluating frame 10000\r\n",
      "Import MD Topology (i.e. frame 10000) from state.hdf5\r\n"
     ]
    },
    {
     "name": "stdout",
     "output_type": "stream",
     "text": [
      ".... \r\n",
      "... iqm \r\n",
      "... ... Writing job file iqm.jobs"
     ]
    },
    {
     "name": "stdout",
     "output_type": "stream",
     "text": [
      "\r\n",
      "... ... In total 90067 jobs\r\n",
      "Changes have not been written to state file.\r\n"
     ]
    }
   ],
   "source": [
    "!xtp_parallel -e iqm -o iqm.xml -f state.hdf5 -s 0 -j \"write\""
   ]
  },
  {
   "cell_type": "markdown",
   "metadata": {},
   "source": [
    "From the jobs that we just write down, let's make available only the first job"
   ]
  },
  {
   "cell_type": "code",
   "execution_count": 17,
   "metadata": {
    "execution": {
     "iopub.execute_input": "2025-01-20T06:23:40.377445Z",
     "iopub.status.busy": "2025-01-20T06:23:40.377029Z",
     "iopub.status.idle": "2025-01-20T06:23:40.781936Z",
     "shell.execute_reply": "2025-01-20T06:23:40.781395Z"
    }
   },
   "outputs": [],
   "source": [
    "!sed -i \"s/AVAILABLE/COMPLETE/g\" iqm.jobs\n",
    "!sed -i '0,/COMPLETE/s/COMPLETE/AVAILABLE/' iqm.jobs"
   ]
  },
  {
   "cell_type": "markdown",
   "metadata": {},
   "source": [
    "Now we can run and store the jobs results"
   ]
  },
  {
   "cell_type": "code",
   "execution_count": 18,
   "metadata": {
    "execution": {
     "iopub.execute_input": "2025-01-20T06:23:40.785120Z",
     "iopub.status.busy": "2025-01-20T06:23:40.784749Z",
     "iopub.status.idle": "2025-01-20T06:24:14.095798Z",
     "shell.execute_reply": "2025-01-20T06:24:14.095157Z"
    }
   },
   "outputs": [
    {
     "name": "stdout",
     "output_type": "stream",
     "text": [
      "==================================================\r\n",
      "========   VOTCA (http://www.votca.org)   ========\r\n",
      "==================================================\r\n",
      "\r\n",
      "please read and cite: https://doi.org/10.21105/joss.06864\r\n",
      "and submit bugs to https://github.com/votca/votca/issues\r\n",
      "\r\n",
      "xtp_parallel, version 2024.2-dev gitid: 22618c7 (compiled Jan 20 2025, 06:19:32)\r\n",
      "\r\n",
      "Initializing calculator\r\n",
      "... iqm\r\n",
      "\r\n",
      "... ... Initialized with 1 threads.\r\n",
      "\r\n",
      "... ... Using 4 openmp threads for 1x4=4 total threads.\r\n",
      "1 frames in statefile, Ids are: 10000 \r\n",
      "Starting at frame 10000\r\n",
      "Evaluating frame 10000\r\n",
      "Import MD Topology (i.e. frame 10000) from state.hdf5\r\n"
     ]
    },
    {
     "name": "stdout",
     "output_type": "stream",
     "text": [
      ".... \r\n",
      "... iqm \r\n",
      "MST ERR Job file = 'iqm.jobs', cache size =  1\r\n",
      "MST ERR Initialize jobs from iqm.jobs"
     ]
    },
    {
     "name": "stdout",
     "output_type": "stream",
     "text": [
      "\r\n",
      "MST ERR Registered 90067 jobs.\r\n",
      "T00 ERR ... Requesting next job"
     ]
    },
    {
     "name": "stdout",
     "output_type": "stream",
     "text": [
      "\r\n",
      "T00 ERR ... Assign jobs from stack"
     ]
    },
    {
     "name": "stdout",
     "output_type": "stream",
     "text": [
      "\r\n",
      "T00 ERR ... Next job: ID = 0=> [ 0%] "
     ]
    },
    {
     "name": "stdout",
     "output_type": "stream",
     "text": [
      "\r\n",
      "T00 ERR ... 2025-1-20 6:23:47 Evaluating pair 0 [0:1] out of 90067\r\n",
      "T00 ERR ... Running DFT"
     ]
    },
    {
     "name": "stdout",
     "output_type": "stream",
     "text": [
      "\r\n",
      "T00 ERR ... Calculating electronic couplings\r\n",
      "T00 ERR ... Levels:Basis A[2:57] B[2:57]\r\n",
      "T00 ERR ... Done with electronic couplings\r\n",
      "T00 ERR ... Running GWBSE"
     ]
    },
    {
     "name": "stdout",
     "output_type": "stream",
     "text": [
      "\r\n",
      "T00 ERR ... Running BSECoupling"
     ]
    },
    {
     "name": "stdout",
     "output_type": "stream",
     "text": [
      "\r\n",
      "T00 ERR ... 2025-1-20 6:24:7 Finished evaluating pair 0:1\r\n",
      "T00 ERR ... Orb file is not saved according to options \r\n",
      "T00 ERR ... Reporting job results\r\n",
      "\r\n",
      "T00 ERR ... Requesting next job"
     ]
    },
    {
     "name": "stdout",
     "output_type": "stream",
     "text": [
      "\r\n",
      "T00 ERR ... Assign jobs from stack"
     ]
    },
    {
     "name": "stdout",
     "output_type": "stream",
     "text": [
      "\r\n",
      "T00 ERR ... Sync did not yield any new jobs.\r\n",
      "T00 ERR ... Next job: ID = - (none available)"
     ]
    },
    {
     "name": "stdout",
     "output_type": "stream",
     "text": [
      "\r\n",
      "MST ERR Assign jobs from stack"
     ]
    },
    {
     "name": "stdout",
     "output_type": "stream",
     "text": [
      "\r\n",
      "Changes have not been written to state file.\r\n"
     ]
    }
   ],
   "source": [
    "!xtp_parallel -e iqm -o iqm.xml -f state.hdf5 -s 0 -j run -q 1 -x 4"
   ]
  },
  {
   "cell_type": "markdown",
   "metadata": {},
   "source": [
    "Finally, we read the results into the state"
   ]
  },
  {
   "cell_type": "code",
   "execution_count": 19,
   "metadata": {
    "execution": {
     "iopub.execute_input": "2025-01-20T06:24:14.098760Z",
     "iopub.status.busy": "2025-01-20T06:24:14.098571Z",
     "iopub.status.idle": "2025-01-20T06:24:16.962867Z",
     "shell.execute_reply": "2025-01-20T06:24:16.962333Z"
    }
   },
   "outputs": [
    {
     "name": "stdout",
     "output_type": "stream",
     "text": [
      "==================================================\r\n",
      "========   VOTCA (http://www.votca.org)   ========\r\n",
      "==================================================\r\n",
      "\r\n",
      "please read and cite: https://doi.org/10.21105/joss.06864\r\n",
      "and submit bugs to https://github.com/votca/votca/issues\r\n",
      "\r\n",
      "xtp_parallel, version 2024.2-dev gitid: 22618c7 (compiled Jan 20 2025, 06:19:32)\r\n",
      "\r\n",
      "Initializing calculator\r\n",
      "... iqm\r\n",
      "\r\n",
      "... ... Initialized with 1 threads.\r\n",
      "\r\n",
      "... ... Using 1 openmp threads for 1x1=1 total threads.\r\n",
      "1 frames in statefile, Ids are: 10000 \r\n",
      "Starting at frame 10000\r\n",
      "Evaluating frame 10000\r\n",
      "Import MD Topology (i.e. frame 10000) from state.hdf5\r\n"
     ]
    },
    {
     "name": "stdout",
     "output_type": "stream",
     "text": [
      ".... \r\n",
      "... iqm "
     ]
    },
    {
     "name": "stdout",
     "output_type": "stream",
     "text": [
      "\r\n",
      " ERROR    Pairs [total:updated(e,h,s,t)] 90067:(1,1,1,0) Incomplete jobs: 90066\r\n"
     ]
    },
    {
     "name": "stdout",
     "output_type": "stream",
     "text": [
      "\r\n"
     ]
    },
    {
     "name": "stdout",
     "output_type": "stream",
     "text": [
      "Wrote MD topology (step = 10000, time = 0) to state.hdf5\r\n",
      "... . \r\n"
     ]
    }
   ],
   "source": [
    "!xtp_parallel -e iqm -o iqm.xml -f state.hdf5 -j \"read\""
   ]
  },
  {
   "cell_type": "markdown",
   "metadata": {},
   "source": [
    "## QMMM Calculations\n",
    "We will run the *QMMM* calculations we will use the pregenerated `qmmm.jobs` file in the current work directory, so we can directly run the calculations. We also provide an option file in the `OPTIONFILES` folder. In qmmm calculations you can use the `jobfile` tag inside the optionfile to modify options from the jobfile. Here we modify the size of the staticregion."
   ]
  },
  {
   "cell_type": "code",
   "execution_count": 20,
   "metadata": {
    "execution": {
     "iopub.execute_input": "2025-01-20T06:24:16.965821Z",
     "iopub.status.busy": "2025-01-20T06:24:16.965463Z",
     "iopub.status.idle": "2025-01-20T06:24:17.076020Z",
     "shell.execute_reply": "2025-01-20T06:24:17.075463Z"
    }
   },
   "outputs": [
    {
     "name": "stdout",
     "output_type": "stream",
     "text": [
      "<?xml version=\"1.0\"?>\r\n",
      "<options>\r\n",
      "  <qmmm help=\"Executes qmmm calculations for individual molecules and clusters\" section=\"sec:qmmm\">\r\n",
      "    <print_regions_pdb help=\"print the geometry of the regions to a pdb file\">true</print_regions_pdb>\r\n",
      "    <max_iterations help=\"max iterations for qmmm scf loop\">50</max_iterations>\r\n",
      "    <map_file help=\"xml file with segment definition\">system.xml</map_file>\r\n",
      "    <job_file help=\"name of jobfile to which jobs are written\">qmmm.jobs</job_file>\r\n",
      "    <io_jobfile>\r\n",
      "    <states>n s1 t1</states>\r\n",
      "    </io_jobfile>\r\n",
      "    <regions>\r\n",
      "      <qmregion help=\"definition of a region\">\r\n",
      "        <id help=\"id of a region has to start from 0\">0</id>\r\n",
      "        <gwbse>\r\n",
      "          <gw>\r\n",
      "            <mode>G0W0</mode>\r\n",
      "          </gw>\r\n",
      "          <bse>\r\n",
      "            <exctotal>100</exctotal>\r\n",
      "          </bse>\r\n",
      "          <ranges>full</ranges>\r\n",
      "        </gwbse>\r\n",
      "        <dftpackage>\r\n",
      "          <basisset>3-21G</basisset>\r\n",
      "          <auxbasisset>aux-def2-svp</auxbasisset>\r\n",
      "        </dftpackage>\r\n",
      "        <statetracker>\r\n",
      "          <overlap>0.8</overlap>\r\n",
      "        </statetracker>\r\n",
      "        <state help=\"qmstate to calculate i.e. n or s1\">s1</state>\r\n",
      "        <segments help=\"which segments to include in this region and which geometry they have\">0:n</segments>\r\n",
      "      </qmregion>\r\n",
      "      <staticregion>\r\n",
      "        <id>1</id>\r\n",
      "        <cutoff>\r\n",
      "          <geometry>n</geometry>\r\n",
      "          <radius>jobfile</radius>\r\n",
      "          <region>0</region>\r\n",
      "        </cutoff>\r\n",
      "      </staticregion>\r\n",
      "    </regions>\r\n",
      "  </qmmm>\r\n",
      "</options>\r\n"
     ]
    }
   ],
   "source": [
    "!cat qmmm.xml"
   ]
  },
  {
   "cell_type": "markdown",
   "metadata": {},
   "source": [
    "In the jobfile we then provide the specific option"
   ]
  },
  {
   "cell_type": "code",
   "execution_count": 21,
   "metadata": {
    "execution": {
     "iopub.execute_input": "2025-01-20T06:24:17.079061Z",
     "iopub.status.busy": "2025-01-20T06:24:17.078566Z",
     "iopub.status.idle": "2025-01-20T06:24:17.189117Z",
     "shell.execute_reply": "2025-01-20T06:24:17.188639Z"
    }
   },
   "outputs": [
    {
     "name": "stdout",
     "output_type": "stream",
     "text": [
      "<jobs>\r\n",
      "        <job>\r\n",
      "                <id>0</id>\r\n",
      "                <tag>vacuum</tag>\r\n",
      "                <input>\r\n",
      "                        <regions>\r\n",
      "                                <staticregion>\r\n",
      "                                        <id>1</id>\r\n",
      "                                        <cutoff>\r\n",
      "                                                <radius>0.0</radius>\r\n",
      "                                        </cutoff>\r\n",
      "                                </staticregion>\r\n",
      "                        </regions>\r\n",
      "                </input>\r\n",
      "                <status>AVAILABLE</status>\r\n",
      "        </job>\r\n",
      "        <job>\r\n",
      "                <id>1</id>\r\n",
      "                <tag>static</tag>\r\n",
      "                <input>\r\n",
      "                        <regions>\r\n",
      "                                <staticregion>\r\n",
      "                                        <id>1</id>\r\n",
      "                                        <cutoff>\r\n",
      "                                                <radius>2.2</radius>\r\n",
      "                                        </cutoff>\r\n",
      "                                </staticregion>\r\n",
      "                        </regions>\r\n",
      "                </input>\r\n",
      "                <status>AVAILABLE</status>\r\n",
      "        </job>\r\n",
      "</jobs>"
     ]
    }
   ],
   "source": [
    "!cat qmmm.jobs"
   ]
  },
  {
   "cell_type": "code",
   "execution_count": 22,
   "metadata": {
    "execution": {
     "iopub.execute_input": "2025-01-20T06:24:17.191897Z",
     "iopub.status.busy": "2025-01-20T06:24:17.191467Z",
     "iopub.status.idle": "2025-01-20T06:24:46.055683Z",
     "shell.execute_reply": "2025-01-20T06:24:46.055038Z"
    }
   },
   "outputs": [
    {
     "name": "stdout",
     "output_type": "stream",
     "text": [
      "==================================================\r\n",
      "========   VOTCA (http://www.votca.org)   ========\r\n",
      "==================================================\r\n",
      "\r\n",
      "please read and cite: https://doi.org/10.21105/joss.06864\r\n",
      "and submit bugs to https://github.com/votca/votca/issues\r\n",
      "\r\n",
      "xtp_parallel, version 2024.2-dev gitid: 22618c7 (compiled Jan 20 2025, 06:19:32)\r\n",
      "\r\n",
      "Initializing calculator\r\n",
      "... qmmm\r\n",
      "\r\n",
      "... ... Initialized with 1 threads.\r\n",
      "\r\n",
      "... ... Using 4 openmp threads for 1x4=4 total threads.\r\n",
      "1 frames in statefile, Ids are: 10000 \r\n",
      "Starting at frame 10000\r\n",
      "Evaluating frame 10000\r\n",
      "Import MD Topology (i.e. frame 10000) from state.hdf5\r\n"
     ]
    },
    {
     "name": "stdout",
     "output_type": "stream",
     "text": [
      ".... \r\n",
      "... qmmm \r\n",
      "MST ERR Job file = 'qmmm.jobs', cache size =  8\r\n",
      "MST ERR Initialize jobs from qmmm.jobs\r\n",
      "MST ERR Registered 2 jobs.\r\n",
      "T00 ERR ... Requesting next job\r\n",
      "T00 ERR ... Assign jobs from stack\r\n",
      "T00 ERR ... Next job: ID = 0=> [ 0%] \r\n",
      "T00 ERR ... Initial state: s1\r\n",
      "T00 ERR ... Using overlap filter with threshold 0.8\r\n",
      "T00 ERR ...  Regions created\r\n",
      "T00 ERR ... Id: 0 type: qmregion size: 1 charge[e]= 0\r\n",
      "T00 ERR ... Id: 1 type: staticregion size: 0 charge[e]= 0\r\n",
      "T00 ERR ... 2025-1-20 6:24:17 Writing jobtopology to QMMM/frame_10000/job_0_vacuum/regions.pdb\r\n",
      "T00 ERR ... 2025-1-20 6:24:17 Only 1 scf region is used. The remaining regions are static. So no inter regions scf is required. \r\n",
      "T00 ERR ... 2025-1-20 6:24:17 --Inter Region SCF Iteration 1 of 1\r\n",
      "T00 ERR ... 2025-1-20 6:24:17 Evaluating qmregion 0\r\n",
      "T00 ERR ... 2025-1-20 6:24:17 Evaluating interaction between qmregion 0 and staticregion 1\r\n",
      "T00 ERR ... Running DFT calculation\r\n",
      "T00 ERR ... 2025-1-20 6:24:17 Using 4 threads\r\n",
      "T00 ERR ... 2025-1-20 6:24:17 Using native Eigen implementation, no BLAS overload \r\n",
      "T00 ERR ...  Molecule Coordinates [A] \r\n",
      "T00 ERR ...   C   +7.2498 +5.9987 +6.9816\r\n",
      "T00 ERR ...   C   +8.3941 +5.2905 +7.2231\r\n",
      "T00 ERR ...   S   +9.4238 +6.1259 +8.2255\r\n",
      "T00 ERR ...   C   +8.4019 +7.4292 +8.3679\r\n",
      "T00 ERR ...   C   +7.2542 +7.2442 +7.6483\r\n",
      "T00 ERR ...   H   +6.4443 +5.6423 +6.3555\r\n",
      "T00 ERR ...   H   +8.6517 +4.3152 +6.8421\r\n",
      "T00 ERR ...   H   +8.6666 +8.2851 +8.9679\r\n",
      "T00 ERR ...   H   +6.4528 +7.9674 +7.5999\r\n",
      "T00 ERR ... 2025-1-20 6:24:17 Loaded DFT Basis Set 3-21G with 57 functions\r\n",
      "T00 ERR ... 2025-1-20 6:24:17 Loaded AUX Basis Set aux-def2-svp with 310 functions\r\n",
      "T00 ERR ... 2025-1-20 6:24:17 Total number of electrons: 44\r\n",
      "T00 ERR ... 2025-1-20 6:24:17 Smallest value of AOOverlap matrix is 0.00446806\r\n",
      "T00 ERR ... 2025-1-20 6:24:17 Removed 0 basisfunction from inverse overlap matrix\r\n",
      "T00 ERR ... 2025-1-20 6:24:17 Convergence Options:\r\n",
      "T00 ERR ... \t\t Delta E [Ha]: 1e-07\r\n",
      "T00 ERR ... \t\t DIIS max error: 1e-07\r\n",
      "T00 ERR ... \t\t DIIS histlength: 20\r\n",
      "T00 ERR ... \t\t ADIIS start: 0.8\r\n",
      "T00 ERR ... \t\t DIIS start: 0.002\r\n",
      "T00 ERR ... \t\t Deleting oldest element from DIIS hist\r\n",
      "T00 ERR ... \t\t Levelshift[Ha]: 0\r\n",
      "T00 ERR ... \t\t Levelshift end: 0.2\r\n",
      "T00 ERR ... \t\t Mixing Parameter alpha: 0.7"
     ]
    },
    {
     "name": "stdout",
     "output_type": "stream",
     "text": [
      "\r\n",
      "T00 ERR ... 2025-1-20 6:24:18 Setup invariant parts of Electron Repulsion integrals "
     ]
    },
    {
     "name": "stdout",
     "output_type": "stream",
     "text": [
      "\r\n",
      "T00 ERR ... 2025-1-20 6:24:18 Constructed independent particle hamiltonian \r\n",
      "T00 ERR ... 2025-1-20 6:24:18 Nuclear Repulsion Energy is 206.268375\r\n",
      "T00 ERR ... 2025-1-20 6:24:18 Using hybrid functional with alpha=0.25"
     ]
    },
    {
     "name": "stdout",
     "output_type": "stream",
     "text": [
      "\r\n",
      "T00 ERR ... 2025-1-20 6:24:18 Setup numerical integration grid medium for vxc functional XC_HYB_GGA_XC_PBEH\r\n",
      "T00 ERR ... 2025-1-20 6:24:18 Setup Initial Guess using: atom\r\n",
      "T00 ERR ... 2025-1-20 6:24:18 Calculating atom density for C"
     ]
    },
    {
     "name": "stdout",
     "output_type": "stream",
     "text": [
      "\r\n",
      "T00 ERR ... 2025-1-20 6:24:19 Calculating atom density for S"
     ]
    },
    {
     "name": "stdout",
     "output_type": "stream",
     "text": [
      "\r\n",
      "T00 ERR ... 2025-1-20 6:24:20 Calculating atom density for H"
     ]
    },
    {
     "name": "stdout",
     "output_type": "stream",
     "text": [
      "\r\n",
      "T00 ERR ... 2025-1-20 6:24:20 STARTING SCF cycle\r\n",
      "T00 ERR ...  --------------------------------------------------------------------------\r\n",
      "T00 ERR ... \r\n",
      "T00 ERR ... 2025-1-20 6:24:20 Iteration 1 of 100"
     ]
    },
    {
     "name": "stdout",
     "output_type": "stream",
     "text": [
      "\r\n",
      "T00 ERR ... 2025-1-20 6:24:20 Total Energy -550.081600252\r\n",
      "T00 ERR ... 2025-1-20 6:24:20 DIIs error 0.200026975237\r\n",
      "T00 ERR ... 2025-1-20 6:24:20 Delta Etot 0\r\n",
      "T00 ERR ... \r\n",
      "T00 ERR ... 2025-1-20 6:24:20 Iteration 2 of 100"
     ]
    },
    {
     "name": "stdout",
     "output_type": "stream",
     "text": [
      "\r\n",
      "T00 ERR ... 2025-1-20 6:24:20 Total Energy -550.145805792\r\n",
      "T00 ERR ... 2025-1-20 6:24:20 DIIs error 0.125909450063\r\n",
      "T00 ERR ... 2025-1-20 6:24:20 Delta Etot -0.0642055404954\r\n",
      "T00 ERR ... \r\n",
      "T00 ERR ... 2025-1-20 6:24:20 Iteration 3 of 100"
     ]
    },
    {
     "name": "stdout",
     "output_type": "stream",
     "text": [
      "\r\n",
      "T00 ERR ... 2025-1-20 6:24:21 Total Energy -550.17882103\r\n",
      "T00 ERR ... 2025-1-20 6:24:21 DIIs error 0.0831559035581\r\n",
      "T00 ERR ... 2025-1-20 6:24:21 Delta Etot -0.0330152381983\r\n",
      "T00 ERR ... \r\n",
      "T00 ERR ... 2025-1-20 6:24:21 Iteration 4 of 100"
     ]
    },
    {
     "name": "stdout",
     "output_type": "stream",
     "text": [
      "\r\n",
      "T00 ERR ... 2025-1-20 6:24:21 Total Energy -550.244109338\r\n",
      "T00 ERR ... 2025-1-20 6:24:21 DIIs error 0.0176318536782\r\n",
      "T00 ERR ... 2025-1-20 6:24:21 Delta Etot -0.065288308086\r\n",
      "T00 ERR ... \r\n",
      "T00 ERR ... 2025-1-20 6:24:21 Iteration 5 of 100"
     ]
    },
    {
     "name": "stdout",
     "output_type": "stream",
     "text": [
      "\r\n",
      "T00 ERR ... 2025-1-20 6:24:21 Total Energy -550.244947894\r\n",
      "T00 ERR ... 2025-1-20 6:24:21 DIIs error 0.014988914191\r\n",
      "T00 ERR ... 2025-1-20 6:24:21 Delta Etot -0.000838555586938\r\n",
      "T00 ERR ... \r\n",
      "T00 ERR ... 2025-1-20 6:24:21 Iteration 6 of 100"
     ]
    },
    {
     "name": "stdout",
     "output_type": "stream",
     "text": [
      "\r\n",
      "T00 ERR ... 2025-1-20 6:24:21 Total Energy -550.247082976\r\n",
      "T00 ERR ... 2025-1-20 6:24:21 DIIs error 0.00309252747669\r\n",
      "T00 ERR ... 2025-1-20 6:24:21 Delta Etot -0.0021350816844\r\n",
      "T00 ERR ... \r\n",
      "T00 ERR ... 2025-1-20 6:24:21 Iteration 7 of 100"
     ]
    },
    {
     "name": "stdout",
     "output_type": "stream",
     "text": [
      "\r\n",
      "T00 ERR ... 2025-1-20 6:24:21 Total Energy -550.246906584\r\n",
      "T00 ERR ... 2025-1-20 6:24:21 DIIs error 0.00444659224018\r\n",
      "T00 ERR ... 2025-1-20 6:24:21 Delta Etot 0.000176391449486\r\n",
      "T00 ERR ... \r\n",
      "T00 ERR ... 2025-1-20 6:24:21 Iteration 8 of 100"
     ]
    },
    {
     "name": "stdout",
     "output_type": "stream",
     "text": [
      "\r\n",
      "T00 ERR ... 2025-1-20 6:24:21 Total Energy -550.247215354\r\n",
      "T00 ERR ... 2025-1-20 6:24:21 DIIs error 0.000901969581496\r\n",
      "T00 ERR ... 2025-1-20 6:24:21 Delta Etot -0.000308769829758\r\n",
      "T00 ERR ... \r\n",
      "T00 ERR ... 2025-1-20 6:24:21 Iteration 9 of 100"
     ]
    },
    {
     "name": "stdout",
     "output_type": "stream",
     "text": [
      "\r\n",
      "T00 ERR ... 2025-1-20 6:24:22 Total Energy -550.247224135\r\n",
      "T00 ERR ... 2025-1-20 6:24:22 DIIs error 1.6635941192e-05\r\n",
      "T00 ERR ... 2025-1-20 6:24:22 Delta Etot -8.78082403233e-06\r\n",
      "T00 ERR ... \r\n",
      "T00 ERR ... 2025-1-20 6:24:22 Iteration 10 of 100"
     ]
    },
    {
     "name": "stdout",
     "output_type": "stream",
     "text": [
      "\r\n",
      "T00 ERR ... 2025-1-20 6:24:22 Total Energy -550.247224137\r\n",
      "T00 ERR ... 2025-1-20 6:24:22 DIIs error 7.44816654772e-06\r\n",
      "T00 ERR ... 2025-1-20 6:24:22 Delta Etot -2.13685780182e-09\r\n",
      "T00 ERR ... \r\n",
      "T00 ERR ... 2025-1-20 6:24:22 Iteration 11 of 100"
     ]
    },
    {
     "name": "stdout",
     "output_type": "stream",
     "text": [
      "\r\n",
      "T00 ERR ... 2025-1-20 6:24:22 Total Energy -550.247224137\r\n",
      "T00 ERR ... 2025-1-20 6:24:22 DIIs error 4.0997358831e-06\r\n",
      "T00 ERR ... 2025-1-20 6:24:22 Delta Etot -3.84943632525e-10\r\n",
      "T00 ERR ... \r\n",
      "T00 ERR ... 2025-1-20 6:24:22 Iteration 12 of 100"
     ]
    },
    {
     "name": "stdout",
     "output_type": "stream",
     "text": [
      "\r\n",
      "T00 ERR ... 2025-1-20 6:24:22 Total Energy -550.247224138\r\n",
      "T00 ERR ... 2025-1-20 6:24:22 DIIs error 3.57983847036e-07\r\n",
      "T00 ERR ... 2025-1-20 6:24:22 Delta Etot -1.76669345819e-10\r\n",
      "T00 ERR ... \r\n",
      "T00 ERR ... 2025-1-20 6:24:22 Iteration 13 of 100"
     ]
    },
    {
     "name": "stdout",
     "output_type": "stream",
     "text": [
      "\r\n",
      "T00 ERR ... 2025-1-20 6:24:22 Total Energy -550.247224138\r\n",
      "T00 ERR ... 2025-1-20 6:24:22 DIIs error 3.53011644651e-07\r\n",
      "T00 ERR ... 2025-1-20 6:24:22 Delta Etot -2.72848410532e-12\r\n",
      "T00 ERR ... \r\n",
      "T00 ERR ... 2025-1-20 6:24:22 Iteration 14 of 100"
     ]
    },
    {
     "name": "stdout",
     "output_type": "stream",
     "text": [
      "\r\n",
      "T00 ERR ... 2025-1-20 6:24:22 Total Energy -550.247224138\r\n",
      "T00 ERR ... 2025-1-20 6:24:22 DIIs error 1.91539323933e-08\r\n",
      "T00 ERR ... 2025-1-20 6:24:22 Delta Etot -6.8212102633e-13\r\n",
      "T00 ERR ... 2025-1-20 6:24:22 Total Energy has converged to -6.82121026e-13[Ha] after 14 iterations. DIIS error is converged up to 1.91539324e-08\r\n",
      "T00 ERR ... 2025-1-20 6:24:22 Final Single Point Energy -550.247224138 Ha\r\n",
      "T00 ERR ... 2025-1-20 6:24:22 Final Local Exc contribution -36.7123112404 Ha\r\n",
      "T00 ERR ... 2025-1-20 6:24:22 Final Non Local Ex contribution -11.544596585 Ha\r\n",
      "T00 ERR ...   Orbital energies: \r\n",
      "T00 ERR ...   index occupation energy(Hartree) \r\n",
      "T00 ERR ...      0      2   -88.9735977642\r\n",
      "T00 ERR ...      1      2   -10.2048959032\r\n",
      "T00 ERR ...      2      2   -10.2047819158\r\n",
      "T00 ERR ...      3      2   -10.1828118659\r\n",
      "T00 ERR ...      4      2   -10.1816644485\r\n",
      "T00 ERR ...      5      2   -7.9933053822\r\n",
      "T00 ERR ...      6      2   -5.9030083048\r\n",
      "T00 ERR ...      7      2   -5.8981617420\r\n",
      "T00 ERR ...      8      2   -5.8931925346\r\n",
      "T00 ERR ...      9      2   -0.9482760244\r\n",
      "T00 ERR ...     10      2   -0.7734187741\r\n",
      "T00 ERR ...     11      2   -0.7572291671\r\n",
      "T00 ERR ...     12      2   -0.5827506766\r\n",
      "T00 ERR ...     13      2   -0.5819901808\r\n",
      "T00 ERR ...     14      2   -0.5419008974\r\n",
      "T00 ERR ...     15      2   -0.4353372478\r\n",
      "T00 ERR ...     16      2   -0.4115878773\r\n",
      "T00 ERR ...     17      2   -0.4109429834\r\n",
      "T00 ERR ...     18      2   -0.4101239222\r\n",
      "T00 ERR ...     19      2   -0.3589152712\r\n",
      "T00 ERR ...     20      2   -0.2677845431\r\n",
      "T00 ERR ...     21      2   -0.2511381975\r\n",
      "T00 ERR ...     22      0   +0.0050170212\r\n",
      "T00 ERR ...     23      0   +0.0840478616\r\n",
      "T00 ERR ...     24      0   +0.0856774887\r\n",
      "T00 ERR ...     25      0   +0.1314841022\r\n",
      "T00 ERR ...     26      0   +0.1459176016\r\n",
      "T00 ERR ...     27      0   +0.1884497574\r\n",
      "T00 ERR ...     28      0   +0.2152199950\r\n",
      "T00 ERR ...     29      0   +0.2252530707\r\n",
      "T00 ERR ...     30      0   +0.3000874565\r\n",
      "T00 ERR ...     31      0   +0.3691990837\r\n",
      "T00 ERR ...     32      0   +0.4542120482\r\n",
      "T00 ERR ...     33      0   +0.4788882516\r\n",
      "T00 ERR ...     34      0   +0.5311463630\r\n",
      "T00 ERR ...     35      0   +0.5472159967\r\n",
      "T00 ERR ...     36      0   +0.5658583862\r\n",
      "T00 ERR ...     37      0   +0.6981865214\r\n",
      "T00 ERR ...     38      0   +0.7435370928\r\n",
      "T00 ERR ...     39      0   +0.7523827993\r\n",
      "T00 ERR ...     40      0   +0.7585041826\r\n",
      "T00 ERR ...     41      0   +0.7854640887\r\n",
      "T00 ERR ...     42      0   +0.8181892159\r\n",
      "T00 ERR ...     43      0   +0.8383578014\r\n",
      "T00 ERR ...     44      0   +0.8576020000\r\n",
      "T00 ERR ...     45      0   +1.0059623450\r\n",
      "T00 ERR ...     46      0   +1.0224609391\r\n",
      "T00 ERR ...     47      0   +1.0430809286\r\n",
      "T00 ERR ...     48      0   +1.0768561902\r\n",
      "T00 ERR ...     49      0   +1.0796706755\r\n",
      "T00 ERR ...     50      0   +1.2717981111\r\n",
      "T00 ERR ...     51      0   +1.3626083252\r\n",
      "T00 ERR ...     52      0   +1.4091169570\r\n",
      "T00 ERR ...     53      0   +1.4353854125\r\n",
      "T00 ERR ...     54      0   +1.6255476375\r\n",
      "T00 ERR ...     55      0   +1.8645718795\r\n",
      "T00 ERR ...     56      0   +1.9753651815\r\n"
     ]
    },
    {
     "name": "stdout",
     "output_type": "stream",
     "text": [
      "T00 ERR ... 2025-1-20 6:24:22 Electric Dipole is[e*bohr]:\r\n",
      "\t\t dx=-0.198030594207\r\n",
      "\t\t dy=0.0453257611005\r\n",
      "\t\t dz=-0.083328902368\r\n",
      "T00 ERR ... Writing result to temp.orb\r\n",
      "T00 ERR ... 2025-1-20 6:24:22 DFT calculation took 5.04861195 seconds.\r\n",
      "T00 ERR ... 2025-1-20 6:24:22 RPA level range [0:56]\r\n",
      "T00 ERR ... 2025-1-20 6:24:22 GW  level range [0:56]\r\n",
      "T00 ERR ... 2025-1-20 6:24:22 BSE level range occ[0:21]  virt[22:56]\r\n",
      "T00 ERR ...  BSE type: full\r\n",
      "T00 ERR ... 2025-1-20 6:24:22 BSE Hamiltonian has size 1540x1540\r\n",
      "T00 ERR ...  BSE without Hqp offdiagonal elements\r\n",
      "T00 ERR ...  Running GW as: G0W0\r\n",
      "T00 ERR ...  qp_sc_limit [Hartree]: 1e-05\r\n",
      "T00 ERR ...  Tasks: \r\n",
      "T00 ERR ...  GW \r\n",
      "T00 ERR ...  singlets \r\n",
      "T00 ERR ...  triplets \r\n",
      "T00 ERR ...  Store: \r\n",
      "T00 ERR ...  GW \r\n",
      "T00 ERR ...  Sigma integration: ppm\r\n",
      "T00 ERR ...  eta: 0.001\r\n",
      "T00 ERR ...  QP solver: grid\r\n",
      "T00 ERR ...  QP grid steps: 1001\r\n",
      "T00 ERR ...  QP grid spacing: 0.001\r\n",
      "T00 ERR ... 2025-1-20 6:24:22 Using 4 threads\r\n",
      "T00 ERR ... 2025-1-20 6:24:22 Using native Eigen implementation, no BLAS overload \r\n",
      "T00 ERR ... 2025-1-20 6:24:22 Molecule Coordinates [A] \r\n",
      "T00 ERR ...     0    C   7.2498 5.9987 6.9816\r\n",
      "T00 ERR ...     1    C   8.3941 5.2905 7.2231\r\n",
      "T00 ERR ...     2    S   9.4238 6.1259 8.2255\r\n",
      "T00 ERR ...     3    C   8.4019 7.4292 8.3679\r\n",
      "T00 ERR ...     4    C   7.2542 7.2442 7.6483\r\n",
      "T00 ERR ...     5    H   6.4443 5.6423 6.3555\r\n",
      "T00 ERR ...     6    H   8.6517 4.3152 6.8421\r\n",
      "T00 ERR ...     7    H   8.6666 8.2851 8.9679\r\n",
      "T00 ERR ...     8    H   6.4528 7.9674 7.5999\r\n",
      "T00 ERR ... 2025-1-20 6:24:22 DFT data was created by xtp\r\n",
      "T00 ERR ... 2025-1-20 6:24:22 Loaded DFT Basis Set 3-21G\r\n",
      "T00 ERR ... 2025-1-20 6:24:22 Filled DFT Basis of size 57\r\n",
      "T00 ERR ... 2025-1-20 6:24:22 Loaded Auxbasis Set aux-def2-svp\r\n",
      "T00 ERR ... 2025-1-20 6:24:22 Filled Auxbasis of size 310\r\n",
      "T00 ERR ... 2025-1-20 6:24:23 Calculating Mmn_beta (3-center-repulsion x orbitals)  "
     ]
    },
    {
     "name": "stdout",
     "output_type": "stream",
     "text": [
      "\r\n",
      "T00 ERR ... 2025-1-20 6:24:23 Calculated Mmn_beta (3-center-repulsion x orbitals)  "
     ]
    },
    {
     "name": "stdout",
     "output_type": "stream",
     "text": [
      "\r\n",
      "T00 ERR ... 2025-1-20 6:24:23 Integrating Vxc with functional XC_HYB_GGA_XC_PBEH"
     ]
    },
    {
     "name": "stdout",
     "output_type": "stream",
     "text": [
      "\r\n",
      "T00 ERR ... 2025-1-20 6:24:23 Set hybrid exchange factor: 0.25\r\n",
      "T00 ERR ... 2025-1-20 6:24:23 Calculated exchange-correlation expectation values \r\n",
      "T00 ERR ... 2025-1-20 6:24:23 Calculated Hartree exchange contribution\r\n",
      "T00 ERR ... 2025-1-20 6:24:23 Scissor shifting DFT energies by: 0 Hrt"
     ]
    },
    {
     "name": "stdout",
     "output_type": "stream",
     "text": [
      "\r\n",
      "T00 ERR ... 2025-1-20 6:24:24 Not converged PQP states are:0\r\n",
      "T00 ERR ... 2025-1-20 6:24:24 Increase the grid search interval\r\n",
      "T00 ERR ...   ====== Perturbative quasiparticle energies (Hartree) ====== \r\n",
      "T00 ERR ...    DeltaHLGap = +0.166439 Hartree\r\n",
      "T00 ERR ...   Level =    0 DFT = -88.9736 VXC = -4.8359 S-X = -7.2740 S-C = -9.1023 GWA = -100.5140\r\n",
      "T00 ERR ...   Level =    1 DFT = -10.2049 VXC = -1.7037 S-X = -2.6702 S-C = +0.6565 GWA = -10.5149\r\n",
      "T00 ERR ...   Level =    2 DFT = -10.2048 VXC = -1.7036 S-X = -2.6702 S-C = +0.6564 GWA = -10.5149\r\n",
      "T00 ERR ...   Level =    3 DFT = -10.1828 VXC = -1.7034 S-X = -2.6695 S-C = +0.6382 GWA = -10.5107\r\n",
      "T00 ERR ...   Level =    4 DFT = -10.1817 VXC = -1.7038 S-X = -2.6706 S-C = +0.6381 GWA = -10.5103\r\n",
      "T00 ERR ...   Level =    5 DFT = -7.9933 VXC = -1.5790 S-X = -2.5124 S-C = +0.5079 GWA = -8.4188\r\n",
      "T00 ERR ...   Level =    6 DFT = -5.9030 VXC = -1.5781 S-X = -2.1975 S-C = +0.4099 GWA = -6.1126\r\n",
      "T00 ERR ...   Level =    7 DFT = -5.8982 VXC = -1.5795 S-X = -2.2025 S-C = +0.4117 GWA = -6.1096\r\n",
      "T00 ERR ...   Level =    8 DFT = -5.8932 VXC = -1.5816 S-X = -2.2056 S-C = +0.4159 GWA = -6.1013\r\n",
      "T00 ERR ...   Level =    9 DFT = -0.9483 VXC = -0.4799 S-X = -0.7210 S-C = +0.2337 GWA = -0.9556\r\n",
      "T00 ERR ...   Level =   10 DFT = -0.7734 VXC = -0.4801 S-X = -0.6934 S-C = +0.1712 GWA = -0.8156\r\n",
      "T00 ERR ...   Level =   11 DFT = -0.7572 VXC = -0.4743 S-X = -0.6888 S-C = +0.1624 GWA = -0.8093\r\n",
      "T00 ERR ...   Level =   12 DFT = -0.5828 VXC = -0.4479 S-X = -0.6053 S-C = +0.0965 GWA = -0.6437\r\n",
      "T00 ERR ...   Level =   13 DFT = -0.5820 VXC = -0.4492 S-X = -0.6170 S-C = +0.1075 GWA = -0.6423\r\n",
      "T00 ERR ...   Level =   14 DFT = -0.5419 VXC = -0.4233 S-X = -0.5767 S-C = +0.0925 GWA = -0.6028\r\n",
      "T00 ERR ...   Level =   15 DFT = -0.4353 VXC = -0.4383 S-X = -0.5652 S-C = +0.0650 GWA = -0.4972\r\n",
      "T00 ERR ...   Level =   16 DFT = -0.4116 VXC = -0.3869 S-X = -0.5025 S-C = +0.0725 GWA = -0.4546\r\n",
      "T00 ERR ...   Level =   17 DFT = -0.4109 VXC = -0.4406 S-X = -0.5521 S-C = +0.0533 GWA = -0.4692\r\n",
      "T00 ERR ...   Level =   18 DFT = -0.4101 VXC = -0.4483 S-X = -0.5700 S-C = +0.0642 GWA = -0.4677\r\n",
      "T00 ERR ...   Level =   19 DFT = -0.3589 VXC = -0.4409 S-X = -0.5424 S-C = +0.0525 GWA = -0.4079\r\n",
      "T00 ERR ...   Level =   20 DFT = -0.2678 VXC = -0.3978 S-X = -0.4669 S-C = +0.0273 GWA = -0.3095\r\n",
      "T00 ERR ...   HOMO  =   21 DFT = -0.2511 VXC = -0.3917 S-X = -0.4597 S-C = +0.0212 GWA = -0.2979\r\n",
      "T00 ERR ...   LUMO  =   22 DFT = +0.0050 VXC = -0.3949 S-X = -0.2492 S-C = -0.0261 GWA = +0.1247\r\n",
      "T00 ERR ...   Level =   23 DFT = +0.0840 VXC = -0.3546 S-X = -0.1950 S-C = -0.0394 GWA = +0.2042\r\n",
      "T00 ERR ...   Level =   24 DFT = +0.0857 VXC = -0.3855 S-X = -0.2100 S-C = -0.0603 GWA = +0.2009\r\n",
      "T00 ERR ...   Level =   25 DFT = +0.1315 VXC = -0.2673 S-X = -0.1202 S-C = -0.0446 GWA = +0.2339\r\n",
      "T00 ERR ...   Level =   26 DFT = +0.1459 VXC = -0.3506 S-X = -0.1843 S-C = -0.0493 GWA = +0.2630\r\n",
      "T00 ERR ...   Level =   27 DFT = +0.1884 VXC = -0.2667 S-X = -0.1124 S-C = -0.0523 GWA = +0.2905\r\n",
      "T00 ERR ...   Level =   28 DFT = +0.2152 VXC = -0.2795 S-X = -0.1238 S-C = -0.0564 GWA = +0.3145\r\n",
      "T00 ERR ...   Level =   29 DFT = +0.2253 VXC = -0.2682 S-X = -0.1138 S-C = -0.0514 GWA = +0.3283\r\n",
      "T00 ERR ...   Level =   30 DFT = +0.3001 VXC = -0.3268 S-X = -0.1546 S-C = -0.0499 GWA = +0.4224\r\n",
      "T00 ERR ...   Level =   31 DFT = +0.3692 VXC = -0.3231 S-X = -0.1440 S-C = -0.0610 GWA = +0.4873\r\n",
      "T00 ERR ...   Level =   32 DFT = +0.4542 VXC = -0.3222 S-X = -0.1414 S-C = -0.0671 GWA = +0.5679\r\n",
      "T00 ERR ...   Level =   33 DFT = +0.4789 VXC = -0.3846 S-X = -0.1682 S-C = -0.0916 GWA = +0.6037\r\n",
      "T00 ERR ...   Level =   34 DFT = +0.5311 VXC = -0.3405 S-X = -0.1420 S-C = -0.0719 GWA = +0.6578\r\n",
      "T00 ERR ...   Level =   35 DFT = +0.5472 VXC = -0.3941 S-X = -0.1782 S-C = -0.0900 GWA = +0.6731\r\n",
      "T00 ERR ...   Level =   36 DFT = +0.5659 VXC = -0.4088 S-X = -0.1812 S-C = -0.1135 GWA = +0.6800\r\n",
      "T00 ERR ...   Level =   37 DFT = +0.6982 VXC = -0.3651 S-X = -0.1349 S-C = -0.1271 GWA = +0.8014\r\n",
      "T00 ERR ...   Level =   38 DFT = +0.7435 VXC = -0.3430 S-X = -0.1262 S-C = -0.0995 GWA = +0.8608\r\n",
      "T00 ERR ...   Level =   39 DFT = +0.7524 VXC = -0.3732 S-X = -0.1224 S-C = -0.2008 GWA = +0.8023\r\n",
      "T00 ERR ...   Level =   40 DFT = +0.7585 VXC = -0.4109 S-X = -0.1582 S-C = -0.1494 GWA = +0.8618\r\n",
      "T00 ERR ...   Level =   41 DFT = +0.7855 VXC = -0.3747 S-X = -0.1214 S-C = -0.2595 GWA = +0.7793\r\n",
      "T00 ERR ...   Level =   42 DFT = +0.8182 VXC = -0.4317 S-X = -0.1632 S-C = -0.1328 GWA = +0.9539\r\n",
      "T00 ERR ...   Level =   43 DFT = +0.8384 VXC = -0.3738 S-X = -0.1155 S-C = -0.1595 GWA = +0.9371\r\n",
      "T00 ERR ...   Level =   44 DFT = +0.8576 VXC = -0.3706 S-X = -0.1131 S-C = -0.2291 GWA = +0.8860\r\n",
      "T00 ERR ...   Level =   45 DFT = +1.0060 VXC = -0.3989 S-X = -0.1294 S-C = -0.2481 GWA = +1.0274\r\n",
      "T00 ERR ...   Level =   46 DFT = +1.0225 VXC = -0.4409 S-X = -0.1530 S-C = -0.1950 GWA = +1.1153\r\n",
      "T00 ERR ...   Level =   47 DFT = +1.0431 VXC = -0.4126 S-X = -0.1364 S-C = -0.1337 GWA = +1.1855\r\n",
      "T00 ERR ...   Level =   48 DFT = +1.0769 VXC = -0.4080 S-X = -0.1328 S-C = -0.2171 GWA = +1.1350\r\n",
      "T00 ERR ...   Level =   49 DFT = +1.0797 VXC = -0.4072 S-X = -0.1327 S-C = -0.2137 GWA = +1.1404\r\n",
      "T00 ERR ...   Level =   50 DFT = +1.2718 VXC = -0.3326 S-X = -0.0875 S-C = -0.1089 GWA = +1.4081\r\n",
      "T00 ERR ...   Level =   51 DFT = +1.3626 VXC = -0.3464 S-X = -0.0950 S-C = +0.0162 GWA = +1.6302\r\n",
      "T00 ERR ...   Level =   52 DFT = +1.4091 VXC = -0.3317 S-X = -0.0810 S-C = -0.1793 GWA = +1.4804\r\n",
      "T00 ERR ...   Level =   53 DFT = +1.4354 VXC = -0.3729 S-X = -0.1223 S-C = -0.2214 GWA = +1.4646\r\n",
      "T00 ERR ...   Level =   54 DFT = +1.6255 VXC = -0.3926 S-X = -0.1272 S-C = -0.0030 GWA = +1.8879\r\n",
      "T00 ERR ...   Level =   55 DFT = +1.8646 VXC = -0.3876 S-X = -0.1147 S-C = +0.0032 GWA = +2.1406\r\n",
      "T00 ERR ...   Level =   56 DFT = +1.9754 VXC = -0.3803 S-X = -0.1060 S-C = -0.0467 GWA = +2.2030"
     ]
    },
    {
     "name": "stdout",
     "output_type": "stream",
     "text": [
      "\r\n",
      "T00 ERR ... 2025-1-20 6:24:24 Calculated offdiagonal part of Sigma  \r\n",
      "T00 ERR ... 2025-1-20 6:24:24 Full quasiparticle Hamiltonian  \r\n",
      "T00 ERR ...   ====== Diagonalized quasiparticle energies (Hartree) ====== \r\n",
      "T00 ERR ...   Level =    0 PQP = -100.514041 DQP = -100.514070 \r\n",
      "T00 ERR ...   Level =    1 PQP = -10.514945 DQP = -10.515280 \r\n",
      "T00 ERR ...   Level =    2 PQP = -10.514929 DQP = -10.515210 \r\n",
      "T00 ERR ...   Level =    3 PQP = -10.510681 DQP = -10.510992 \r\n",
      "T00 ERR ...   Level =    4 PQP = -10.510350 DQP = -10.510512 \r\n",
      "T00 ERR ...   Level =    5 PQP = -8.418801 DQP = -8.419129 \r\n",
      "T00 ERR ...   Level =    6 PQP = -6.112596 DQP = -6.112612 \r\n",
      "T00 ERR ...   Level =    7 PQP = -6.109560 DQP = -6.109557 \r\n",
      "T00 ERR ...   Level =    8 PQP = -6.101341 DQP = -6.101344 \r\n",
      "T00 ERR ...   Level =    9 PQP = -0.955636 DQP = -0.959526 \r\n",
      "T00 ERR ...   Level =   10 PQP = -0.815632 DQP = -0.814391 \r\n",
      "T00 ERR ...   Level =   11 PQP = -0.809301 DQP = -0.810797 \r\n",
      "T00 ERR ...   Level =   12 PQP = -0.643711 DQP = -0.646762 \r\n",
      "T00 ERR ...   Level =   13 PQP = -0.642346 DQP = -0.644766 \r\n",
      "T00 ERR ...   Level =   14 PQP = -0.602778 DQP = -0.606019 \r\n",
      "T00 ERR ...   Level =   15 PQP = -0.497202 DQP = -0.498339 \r\n",
      "T00 ERR ...   Level =   16 PQP = -0.454594 DQP = -0.473176 \r\n",
      "T00 ERR ...   Level =   17 PQP = -0.469160 DQP = -0.468101 \r\n",
      "T00 ERR ...   Level =   18 PQP = -0.467652 DQP = -0.458980 \r\n",
      "T00 ERR ...   Level =   19 PQP = -0.407862 DQP = -0.409977 \r\n",
      "T00 ERR ...   Level =   20 PQP = -0.309525 DQP = -0.319572 \r\n",
      "T00 ERR ...   HOMO  =   21 PQP = -0.297912 DQP = -0.312385 \r\n",
      "T00 ERR ...   LUMO  =   22 PQP = +0.124682 DQP = +0.121420 \r\n",
      "T00 ERR ...   Level =   23 PQP = +0.204237 DQP = +0.189928 \r\n",
      "T00 ERR ...   Level =   24 PQP = +0.200921 DQP = +0.199304 \r\n",
      "T00 ERR ...   Level =   25 PQP = +0.233888 DQP = +0.231978 \r\n",
      "T00 ERR ...   Level =   26 PQP = +0.262967 DQP = +0.260071 \r\n",
      "T00 ERR ...   Level =   27 PQP = +0.290455 DQP = +0.284437 \r\n",
      "T00 ERR ...   Level =   28 PQP = +0.314517 DQP = +0.309605 \r\n",
      "T00 ERR ...   Level =   29 PQP = +0.328254 DQP = +0.324909 \r\n",
      "T00 ERR ...   Level =   30 PQP = +0.422416 DQP = +0.420833 \r\n",
      "T00 ERR ...   Level =   31 PQP = +0.487304 DQP = +0.480651 \r\n",
      "T00 ERR ...   Level =   32 PQP = +0.567875 DQP = +0.560148 \r\n",
      "T00 ERR ...   Level =   33 PQP = +0.603673 DQP = +0.594583 \r\n",
      "T00 ERR ...   Level =   34 PQP = +0.657810 DQP = +0.657980 \r\n",
      "T00 ERR ...   Level =   35 PQP = +0.673116 DQP = +0.669170 \r\n",
      "T00 ERR ...   Level =   36 PQP = +0.679953 DQP = +0.677714 \r\n",
      "T00 ERR ...   Level =   37 PQP = +0.801363 DQP = +0.790150 \r\n",
      "T00 ERR ...   Level =   38 PQP = +0.860807 DQP = +0.798112 \r\n",
      "T00 ERR ...   Level =   39 PQP = +0.802343 DQP = +0.798213 \r\n",
      "T00 ERR ...   Level =   40 PQP = +0.861752 DQP = +0.848480 \r\n",
      "T00 ERR ...   Level =   41 PQP = +0.779331 DQP = +0.858231 \r\n",
      "T00 ERR ...   Level =   42 PQP = +0.953892 DQP = +0.907846 \r\n",
      "T00 ERR ...   Level =   43 PQP = +0.937130 DQP = +0.951603 \r\n",
      "T00 ERR ...   Level =   44 PQP = +0.886015 DQP = +0.956477 \r\n",
      "T00 ERR ...   Level =   45 PQP = +1.027377 DQP = +1.021337 \r\n",
      "T00 ERR ...   Level =   46 PQP = +1.115294 DQP = +1.082964 \r\n",
      "T00 ERR ...   Level =   47 PQP = +1.185546 DQP = +1.136991 \r\n",
      "T00 ERR ...   Level =   48 PQP = +1.135029 DQP = +1.151676 \r\n",
      "T00 ERR ...   Level =   49 PQP = +1.140427 DQP = +1.188085 \r\n",
      "T00 ERR ...   Level =   50 PQP = +1.408053 DQP = +1.409622 \r\n",
      "T00 ERR ...   Level =   51 PQP = +1.630212 DQP = +1.465925 \r\n",
      "T00 ERR ...   Level =   52 PQP = +1.480430 DQP = +1.486029 \r\n",
      "T00 ERR ...   Level =   53 PQP = +1.464575 DQP = +1.649748 \r\n",
      "T00 ERR ...   Level =   54 PQP = +1.887856 DQP = +1.948671 \r\n",
      "T00 ERR ...   Level =   55 PQP = +2.140569 DQP = +2.151560 \r\n",
      "T00 ERR ...   Level =   56 PQP = +2.202959 DQP = +2.219519 \r\n",
      "T00 ERR ... 2025-1-20 6:24:24 Diagonalized QP Hamiltonian  \r\n",
      "T00 ERR ... 2025-1-20 6:24:24 GW calculation took 1.134086076 seconds."
     ]
    },
    {
     "name": "stdout",
     "output_type": "stream",
     "text": [
      "\r\n",
      "T00 ERR ... 2025-1-20 6:24:24 Setup Full triplet hamiltonian \r\n",
      "T00 ERR ... 2025-1-20 6:24:24 Davidson Solver using 4 threads.\r\n",
      "T00 ERR ... 2025-1-20 6:24:24 Tolerance : 0.0001\r\n",
      "T00 ERR ... 2025-1-20 6:24:24 DPR Correction\r\n",
      "T00 ERR ... 2025-1-20 6:24:24 Matrix size : 1540x1540\r\n",
      "T00 ERR ... 2025-1-20 6:24:24 iter\tSearch Space\tNorm"
     ]
    },
    {
     "name": "stdout",
     "output_type": "stream",
     "text": [
      "\r\n",
      "T00 ERR ... 2025-1-20 6:24:24    0          200 \t 7.58e-02 \t  0.00% converged"
     ]
    },
    {
     "name": "stdout",
     "output_type": "stream",
     "text": [
      "\r\n",
      "T00 ERR ... 2025-1-20 6:24:25    1          310 \t 1.05e-02 \t  0.00% converged"
     ]
    },
    {
     "name": "stdout",
     "output_type": "stream",
     "text": [
      "\r\n",
      "T00 ERR ... 2025-1-20 6:24:26    2          420 \t 7.07e-04 \t 47.00% converged"
     ]
    },
    {
     "name": "stdout",
     "output_type": "stream",
     "text": [
      "\r\n",
      "T00 ERR ... 2025-1-20 6:24:27    3          479 \t 5.76e-05 \t 100.00% converged\r\n",
      "T00 ERR ... 2025-1-20 6:24:27 Davidson converged after 3 iterations.\r\n",
      "T00 ERR ... 2025-1-20 6:24:27-----------------------------------\r\n",
      "T00 ERR ... 2025-1-20 6:24:27- Davidson ran for 3.207238439secs.\r\n",
      "T00 ERR ... 2025-1-20 6:24:27-----------------------------------\r\n",
      "T00 ERR ... 2025-1-20 6:24:27 Solved BSE for triplets "
     ]
    },
    {
     "name": "stdout",
     "output_type": "stream",
     "text": [
      "\r\n",
      "T00 ERR ...   ====== triplet energies (eV) ====== \r\n",
      "T00 ERR ...   T =    1 Omega = +3.800521430793 eV  lamdba = +326.27 nm <FT> = +12.4571 <K_d> = -8.6566\r\n",
      "T00 ERR ...            HOMO-0   -> LUMO+0    : 94.9%\r\n",
      "T00 ERR ...    \r\n",
      "T00 ERR ...   T =    2 Omega = +4.694966966163 eV  lamdba = +264.11 nm <FT> = +12.1025 <K_d> = -7.4075\r\n",
      "T00 ERR ...            HOMO-1   -> LUMO+0    : 94.7%\r\n",
      "T00 ERR ...    \r\n",
      "T00 ERR ...   T =    3 Omega = +6.074096141479 eV  lamdba = +204.15 nm <FT> = +14.0290 <K_d> = -7.9549\r\n",
      "T00 ERR ...            HOMO-0   -> LUMO+2    : 85.7%\r\n",
      "T00 ERR ...    \r\n",
      "T00 ERR ...   T =    4 Omega = +6.651175902913 eV  lamdba = +186.43 nm <FT> = +14.1721 <K_d> = -7.5209\r\n",
      "T00 ERR ...            HOMO-1   -> LUMO+2    : 93.6%\r\n",
      "T00 ERR ...    \r\n",
      "T00 ERR ...   T =    5 Omega = +7.119113565311 eV  lamdba = +174.18 nm <FT> = +13.8290 <K_d> = -6.7099\r\n",
      "T00 ERR ...            HOMO-0   -> LUMO+1    : 96.8%\r\n",
      "T00 ERR ...    \r\n",
      "T00 ERR ...   T =    6 Omega = +7.253659280749 eV  lamdba = +170.95 nm <FT> = +14.1595 <K_d> = -6.9059\r\n",
      "T00 ERR ...            HOMO-1   -> LUMO+1    : 96.7%\r\n",
      "T00 ERR ...    \r\n",
      "T00 ERR ...   T =    7 Omega = +7.692529905127 eV  lamdba = +161.20 nm <FT> = +14.5810 <K_d> = -6.8884\r\n",
      "T00 ERR ...            HOMO-2   -> LUMO+0    : 97.0%\r\n",
      "T00 ERR ...    \r\n",
      "T00 ERR ...   T =    8 Omega = +8.360415744377 eV  lamdba = +148.32 nm <FT> = +14.8864 <K_d> = -6.5260\r\n",
      "T00 ERR ...            HOMO-0   -> LUMO+3    : 66.2%\r\n",
      "T00 ERR ...    \r\n",
      "T00 ERR ...   T =    9 Omega = +8.709150954948 eV  lamdba = +142.38 nm <FT> = +15.7033 <K_d> = -6.9942\r\n",
      "T00 ERR ...            HOMO-5   -> LUMO+0    : 89.9%\r\n",
      "T00 ERR ...    \r\n",
      "T00 ERR ...   T =   10 Omega = +8.808130418328 eV  lamdba = +140.78 nm <FT> = +15.2710 <K_d> = -6.4628\r\n",
      "T00 ERR ...            HOMO-0   -> LUMO+4    : 59.4%\r\n",
      "T00 ERR ...    \r\n",
      "T00 ERR ...   T =   11 Omega = +8.861820701668 eV  lamdba = +139.93 nm <FT> = +15.7347 <K_d> = -6.8729\r\n",
      "T00 ERR ...            HOMO-1   -> LUMO+4    : 81.7%\r\n",
      "T00 ERR ...    \r\n",
      "T00 ERR ...   T =   12 Omega = +8.931777080457 eV  lamdba = +138.83 nm <FT> = +16.9653 <K_d> = -8.0335\r\n",
      "T00 ERR ...            HOMO-2   -> LUMO+1    : 96.6%\r\n",
      "T00 ERR ...    \r\n",
      "T00 ERR ...   T =   13 Omega = +9.155621715284 eV  lamdba = +135.44 nm <FT> = +15.0620 <K_d> = -5.9063\r\n",
      "T00 ERR ...            HOMO-1   -> LUMO+3    : 81.6%\r\n",
      "T00 ERR ...    \r\n",
      "T00 ERR ...   T =   14 Omega = +9.268229054696 eV  lamdba = +133.79 nm <FT> = +16.2244 <K_d> = -6.9562\r\n",
      "T00 ERR ...            HOMO-3   -> LUMO+0    : 95.2%\r\n",
      "T00 ERR ...    \r\n",
      "T00 ERR ...   T =   15 Omega = +9.310912859114 eV  lamdba = +133.18 nm <FT> = +16.3019 <K_d> = -6.9910\r\n",
      "T00 ERR ...            HOMO-4   -> LUMO+0    : 80.6%\r\n",
      "T00 ERR ...    \r\n",
      "T00 ERR ...   T =   16 Omega = +9.928530519152 eV  lamdba = +124.89 nm <FT> = +17.1160 <K_d> = -7.1874\r\n",
      "T00 ERR ...            HOMO-6   -> LUMO+0    : 85.5%\r\n",
      "T00 ERR ...    \r\n",
      "T00 ERR ...   T =   17 Omega = +9.949243156762 eV  lamdba = +124.63 nm <FT> = +16.2195 <K_d> = -6.2702\r\n",
      "T00 ERR ...            HOMO-0   -> LUMO+5    : 85.3%\r\n",
      "T00 ERR ...    \r\n",
      "T00 ERR ...   T =   18 Omega = +10.372249697097 eV  lamdba = +119.55 nm <FT> = +16.6600 <K_d> = -6.2877\r\n",
      "T00 ERR ...            HOMO-2   -> LUMO+2    : 76.5%\r\n",
      "T00 ERR ...    \r\n",
      "T00 ERR ...   T =   19 Omega = +10.741780841230 eV  lamdba = +115.44 nm <FT> = +17.3684 <K_d> = -6.6266\r\n",
      "T00 ERR ...    \r\n",
      "T00 ERR ...   T =   20 Omega = +10.842252110402 eV  lamdba = +114.37 nm <FT> = +17.5322 <K_d> = -6.6899\r\n",
      "T00 ERR ...    \r\n",
      "T00 ERR ...   T =   21 Omega = +10.842871536294 eV  lamdba = +114.36 nm <FT> = +16.8598 <K_d> = -6.0169\r\n",
      "T00 ERR ...            HOMO-0   -> LUMO+6    : 77.7%\r\n",
      "T00 ERR ...    \r\n",
      "T00 ERR ...   T =   22 Omega = +10.871821171429 eV  lamdba = +114.06 nm <FT> = +18.8968 <K_d> = -8.0250\r\n",
      "T00 ERR ...            HOMO-2   -> LUMO+4    : 54.2%\r\n",
      "T00 ERR ...    \r\n",
      "T00 ERR ...   T =   23 Omega = +10.941563572008 eV  lamdba = +113.33 nm <FT> = +17.8090 <K_d> = -6.8674\r\n",
      "T00 ERR ...            HOMO-5   -> LUMO+2    : 92.2%\r\n",
      "T00 ERR ...    \r\n",
      "T00 ERR ...   T =   24 Omega = +10.955429010689 eV  lamdba = +113.19 nm <FT> = +17.2538 <K_d> = -6.2984\r\n",
      "T00 ERR ...    \r\n",
      "T00 ERR ...   T =   25 Omega = +11.145405777997 eV  lamdba = +111.26 nm <FT> = +18.4633 <K_d> = -7.3179\r\n",
      "T00 ERR ...            HOMO-4   -> LUMO+2    : 80.3%\r\n",
      "T00 ERR ...    \r\n",
      "T00 ERR ...   T =   26 Omega = +11.282093256318 eV  lamdba = +109.91 nm <FT> = +17.7995 <K_d> = -6.5174\r\n",
      "T00 ERR ...            HOMO-5   -> LUMO+1    : 75.3%\r\n",
      "T00 ERR ...    \r\n",
      "T00 ERR ...   T =   27 Omega = +11.453990337270 eV  lamdba = +108.26 nm <FT> = +17.1892 <K_d> = -5.7352\r\n",
      "T00 ERR ...    \r\n",
      "T00 ERR ...   T =   28 Omega = +11.466213322359 eV  lamdba = +108.14 nm <FT> = +18.8876 <K_d> = -7.4213\r\n",
      "T00 ERR ...            HOMO-2   -> LUMO+3    : 57.7%\r\n",
      "T00 ERR ...    \r\n",
      "T00 ERR ...   T =   29 Omega = +11.658865574131 eV  lamdba = +106.36 nm <FT> = +20.0757 <K_d> = -8.4168\r\n",
      "T00 ERR ...    \r\n",
      "T00 ERR ...   T =   30 Omega = +11.691983352240 eV  lamdba = +106.06 nm <FT> = +18.9088 <K_d> = -7.2168\r\n",
      "T00 ERR ...    \r\n",
      "T00 ERR ...   T =   31 Omega = +11.775134576843 eV  lamdba = +105.31 nm <FT> = +17.3378 <K_d> = -5.5627\r\n",
      "T00 ERR ...            HOMO-1   -> LUMO+7    : 82.6%\r\n",
      "T00 ERR ...    \r\n",
      "T00 ERR ...   T =   32 Omega = +11.931979773880 eV  lamdba = +103.92 nm <FT> = +20.3555 <K_d> = -8.4235\r\n",
      "T00 ERR ...    \r\n",
      "T00 ERR ...   T =   33 Omega = +12.071742757956 eV  lamdba = +102.72 nm <FT> = +20.1423 <K_d> = -8.0706\r\n",
      "T00 ERR ...    \r\n",
      "T00 ERR ...   T =   34 Omega = +12.197608808950 eV  lamdba = +101.66 nm <FT> = +19.0738 <K_d> = -6.8762\r\n",
      "T00 ERR ...            HOMO-6   -> LUMO+2    : 71.1%\r\n",
      "T00 ERR ...    \r\n",
      "T00 ERR ...   T =   35 Omega = +12.203319981648 eV  lamdba = +101.61 nm <FT> = +19.7412 <K_d> = -7.5378\r\n",
      "T00 ERR ...    \r\n",
      "T00 ERR ...   T =   36 Omega = +12.569565764212 eV  lamdba = +98.65 nm <FT> = +19.4324 <K_d> = -6.8629\r\n",
      "T00 ERR ...            HOMO-6   -> LUMO+1    : 68.7%\r\n",
      "T00 ERR ...    \r\n",
      "T00 ERR ...   T =   37 Omega = +12.665145910454 eV  lamdba = +97.91 nm <FT> = +19.4992 <K_d> = -6.8341\r\n",
      "T00 ERR ...            HOMO-5   -> LUMO+4    : 71.0%\r\n",
      "T00 ERR ...    \r\n",
      "T00 ERR ...   T =   38 Omega = +12.755890120141 eV  lamdba = +97.21 nm <FT> = +20.3321 <K_d> = -7.5762\r\n",
      "T00 ERR ...    \r\n",
      "T00 ERR ...   T =   39 Omega = +13.039484787703 eV  lamdba = +95.10 nm <FT> = +19.6598 <K_d> = -6.6203\r\n",
      "T00 ERR ...            HOMO-0   -> LUMO+8    : 92.5%\r\n",
      "T00 ERR ...    \r\n",
      "T00 ERR ...   T =   40 Omega = +13.102947112654 eV  lamdba = +94.64 nm <FT> = +19.2979 <K_d> = -6.1950\r\n",
      "T00 ERR ...            HOMO-5   -> LUMO+3    : 52.5%\r\n",
      "T00 ERR ...    \r\n",
      "T00 ERR ...   T =   41 Omega = +13.193096833951 eV  lamdba = +93.99 nm <FT> = +20.5828 <K_d> = -7.3897\r\n",
      "T00 ERR ...            HOMO-4   -> LUMO+4    : 60.6%\r\n",
      "T00 ERR ...    \r\n",
      "T00 ERR ...   T =   42 Omega = +13.416005950067 eV  lamdba = +92.43 nm <FT> = +19.6982 <K_d> = -6.2822\r\n",
      "T00 ERR ...            HOMO-7   -> LUMO+0    : 81.3%\r\n",
      "T00 ERR ...    \r\n",
      "T00 ERR ...   T =   43 Omega = +13.496670493611 eV  lamdba = +91.87 nm <FT> = +19.4551 <K_d> = -5.9585\r\n",
      "T00 ERR ...            HOMO-2   -> LUMO+5    : 78.5%\r\n",
      "T00 ERR ...    \r\n",
      "T00 ERR ...   T =   44 Omega = +13.585237418350 eV  lamdba = +91.28 nm <FT> = +19.5368 <K_d> = -5.9516\r\n",
      "T00 ERR ...            HOMO-1   -> LUMO+8    : 50.9%\r\n",
      "T00 ERR ...    \r\n",
      "T00 ERR ...   T =   45 Omega = +13.746273585783 eV  lamdba = +90.21 nm <FT> = +20.6014 <K_d> = -6.8551\r\n",
      "T00 ERR ...            HOMO-3   -> LUMO+4    : 57.5%\r\n",
      "T00 ERR ...    \r\n",
      "T00 ERR ...   T =   46 Omega = +14.031498383437 eV  lamdba = +88.37 nm <FT> = +20.7774 <K_d> = -6.7459\r\n",
      "T00 ERR ...            HOMO-8   -> LUMO+0    : 88.2%\r\n",
      "T00 ERR ...    \r\n",
      "T00 ERR ...   T =   47 Omega = +14.073826273636 eV  lamdba = +88.11 nm <FT> = +20.4159 <K_d> = -6.3421\r\n",
      "T00 ERR ...            HOMO-6   -> LUMO+4    : 53.8%\r\n",
      "T00 ERR ...    \r\n",
      "T00 ERR ...   T =   48 Omega = +14.133680723329 eV  lamdba = +87.73 nm <FT> = +21.0086 <K_d> = -6.8749\r\n",
      "T00 ERR ...            HOMO-9   -> LUMO+0    : 89.4%\r\n",
      "T00 ERR ...    \r\n",
      "T00 ERR ...   T =   49 Omega = +14.229822331245 eV  lamdba = +87.14 nm <FT> = +20.8462 <K_d> = -6.6164\r\n",
      "T00 ERR ...    \r\n",
      "T00 ERR ...   T =   50 Omega = +14.352398675237 eV  lamdba = +86.40 nm <FT> = +20.1582 <K_d> = -5.8058\r\n",
      "T00 ERR ...    \r\n",
      "T00 ERR ...   T =   51 Omega = +14.626321544721 eV  lamdba = +84.78 nm <FT> = +20.3931 <K_d> = -5.7668\r\n",
      "T00 ERR ...            HOMO-5   -> LUMO+5    : 87.4%\r\n",
      "T00 ERR ...    \r\n",
      "T00 ERR ...   T =   52 Omega = +14.732968968474 eV  lamdba = +84.16 nm <FT> = +20.5914 <K_d> = -5.8585\r\n",
      "T00 ERR ...    \r\n",
      "T00 ERR ...   T =   53 Omega = +14.750761346685 eV  lamdba = +84.06 nm <FT> = +20.7041 <K_d> = -5.9533\r\n",
      "T00 ERR ...    \r\n",
      "T00 ERR ...   T =   54 Omega = +14.797809421490 eV  lamdba = +83.80 nm <FT> = +21.2423 <K_d> = -6.4445\r\n",
      "T00 ERR ...    \r\n",
      "T00 ERR ...   T =   55 Omega = +14.977989879864 eV  lamdba = +82.79 nm <FT> = +21.3991 <K_d> = -6.4211\r\n",
      "T00 ERR ...            HOMO-0   -> LUMO+9    : 91.0%\r\n",
      "T00 ERR ...    \r\n",
      "T00 ERR ...   T =   56 Omega = +15.033548768198 eV  lamdba = +82.48 nm <FT> = +21.7466 <K_d> = -6.7131\r\n",
      "T00 ERR ...            HOMO-7   -> LUMO+2    : 89.7%\r\n",
      "T00 ERR ...    \r\n",
      "T00 ERR ...   T =   57 Omega = +15.218372685495 eV  lamdba = +81.48 nm <FT> = +21.1969 <K_d> = -5.9785\r\n",
      "T00 ERR ...    \r\n",
      "T00 ERR ...   T =   58 Omega = +15.285725753519 eV  lamdba = +81.12 nm <FT> = +21.4282 <K_d> = -6.1425\r\n",
      "T00 ERR ...            HOMO-1   -> LUMO+9    : 62.6%\r\n",
      "T00 ERR ...    \r\n",
      "T00 ERR ...   T =   59 Omega = +15.501427404855 eV  lamdba = +79.99 nm <FT> = +22.1254 <K_d> = -6.6240\r\n",
      "T00 ERR ...            HOMO-7   -> LUMO+1    : 64.6%\r\n",
      "T00 ERR ...    \r\n",
      "T00 ERR ...   T =   60 Omega = +15.528998248824 eV  lamdba = +79.85 nm <FT> = +21.1314 <K_d> = -5.6024\r\n",
      "T00 ERR ...            HOMO-5   -> LUMO+6    : 72.4%\r\n",
      "T00 ERR ...    \r\n",
      "T00 ERR ...   T =   61 Omega = +15.663952593318 eV  lamdba = +79.16 nm <FT> = +21.7980 <K_d> = -6.1341\r\n",
      "T00 ERR ...            HOMO-5   -> LUMO+7    : 62.2%\r\n",
      "T00 ERR ...    \r\n",
      "T00 ERR ...   T =   62 Omega = +15.742997432189 eV  lamdba = +78.77 nm <FT> = +21.7923 <K_d> = -6.0493\r\n",
      "T00 ERR ...            HOMO-4   -> LUMO+7    : 54.7%\r\n",
      "T00 ERR ...    \r\n",
      "T00 ERR ...   T =   63 Omega = +15.764371834060 eV  lamdba = +78.66 nm <FT> = +21.8317 <K_d> = -6.0673\r\n",
      "T00 ERR ...            HOMO-3   -> LUMO+7    : 59.6%\r\n",
      "T00 ERR ...    \r\n",
      "T00 ERR ...   T =   64 Omega = +15.895014330066 eV  lamdba = +78.01 nm <FT> = +22.8397 <K_d> = -6.9447\r\n",
      "T00 ERR ...            HOMO-2   -> LUMO+8    : 88.0%\r\n",
      "T00 ERR ...    \r\n",
      "T00 ERR ...   T =   65 Omega = +15.969211519613 eV  lamdba = +77.65 nm <FT> = +22.6676 <K_d> = -6.6984\r\n",
      "T00 ERR ...            HOMO-9   -> LUMO+2    : 65.8%\r\n",
      "T00 ERR ...    \r\n",
      "T00 ERR ...   T =   66 Omega = +16.213130126470 eV  lamdba = +76.48 nm <FT> = +22.9353 <K_d> = -6.7222\r\n",
      "T00 ERR ...            HOMO-8   -> LUMO+2    : 88.1%\r\n",
      "T00 ERR ...    \r\n",
      "T00 ERR ...   T =   67 Omega = +16.343398782912 eV  lamdba = +75.87 nm <FT> = +22.5044 <K_d> = -6.1610\r\n",
      "T00 ERR ...            HOMO-6   -> LUMO+7    : 63.1%\r\n",
      "T00 ERR ...    \r\n",
      "T00 ERR ...   T =   68 Omega = +16.371486940894 eV  lamdba = +75.74 nm <FT> = +23.0796 <K_d> = -6.7081\r\n",
      "T00 ERR ...            HOMO-9   -> LUMO+1    : 80.8%\r\n",
      "T00 ERR ...    \r\n",
      "T00 ERR ...   T =   69 Omega = +16.587978914088 eV  lamdba = +74.75 nm <FT> = +22.1840 <K_d> = -5.5961\r\n",
      "T00 ERR ...            HOMO-6   -> LUMO+6    : 63.4%\r\n",
      "T00 ERR ...    \r\n",
      "T00 ERR ...   T =   70 Omega = +16.608064052223 eV  lamdba = +74.66 nm <FT> = +24.1053 <K_d> = -7.4973\r\n",
      "T00 ERR ...            HOMO-1   -> LUMO+10   : 79.2%\r\n",
      "T00 ERR ...    \r\n",
      "T00 ERR ...   T =   71 Omega = +16.624358781217 eV  lamdba = +74.59 nm <FT> = +23.1231 <K_d> = -6.4988\r\n",
      "T00 ERR ...            HOMO-8   -> LUMO+1    : 87.2%\r\n",
      "T00 ERR ...    \r\n",
      "T00 ERR ...   T =   72 Omega = +17.063848558575 eV  lamdba = +72.67 nm <FT> = +24.0548 <K_d> = -6.9910\r\n",
      "T00 ERR ...            HOMO-5   -> LUMO+8    : 54.0%\r\n",
      "T00 ERR ...    \r\n",
      "T00 ERR ...   T =   73 Omega = +17.081968649151 eV  lamdba = +72.59 nm <FT> = +23.6659 <K_d> = -6.5839\r\n",
      "T00 ERR ...            HOMO-0   -> LUMO+10   : 94.5%\r\n",
      "T00 ERR ...    \r\n",
      "T00 ERR ...   T =   74 Omega = +17.140387510536 eV  lamdba = +72.34 nm <FT> = +23.6413 <K_d> = -6.5010\r\n",
      "T00 ERR ...            HOMO-7   -> LUMO+4    : 50.7%\r\n",
      "T00 ERR ...    \r\n",
      "T00 ERR ...   T =   75 Omega = +17.248940274874 eV  lamdba = +71.89 nm <FT> = +22.7316 <K_d> = -5.4827\r\n",
      "T00 ERR ...            HOMO-7   -> LUMO+3    : 66.8%\r\n",
      "T00 ERR ...    \r\n",
      "T00 ERR ...   T =   76 Omega = +17.360232716314 eV  lamdba = +71.43 nm <FT> = +24.3859 <K_d> = -7.0256\r\n",
      "T00 ERR ...            HOMO-4   -> LUMO+8    : 65.3%\r\n",
      "T00 ERR ...    \r\n",
      "T00 ERR ...   T =   77 Omega = +17.398769255075 eV  lamdba = +71.27 nm <FT> = +24.0911 <K_d> = -6.6924\r\n",
      "T00 ERR ...            HOMO-3   -> LUMO+8    : 64.5%\r\n",
      "T00 ERR ...    \r\n",
      "T00 ERR ...   T =   78 Omega = +17.619100759540 eV  lamdba = +70.38 nm <FT> = +24.6677 <K_d> = -7.0486\r\n",
      "T00 ERR ...    \r\n",
      "T00 ERR ...   T =   79 Omega = +17.784924527264 eV  lamdba = +69.72 nm <FT> = +24.5688 <K_d> = -6.7839\r\n",
      "T00 ERR ...    \r\n",
      "T00 ERR ...   T =   80 Omega = +18.038841468586 eV  lamdba = +68.74 nm <FT> = +24.3755 <K_d> = -6.3366\r\n",
      "T00 ERR ...    \r\n",
      "T00 ERR ...   T =   81 Omega = +18.110269417804 eV  lamdba = +68.47 nm <FT> = +24.3473 <K_d> = -6.2370\r\n",
      "T00 ERR ...            HOMO-0   -> LUMO+11   : 66.5%\r\n",
      "T00 ERR ...    \r\n",
      "T00 ERR ...   T =   82 Omega = +18.191148135689 eV  lamdba = +68.17 nm <FT> = +25.1044 <K_d> = -6.9133\r\n",
      "T00 ERR ...            HOMO-1   -> LUMO+11   : 50.5%\r\n",
      "T00 ERR ...    \r\n",
      "T00 ERR ...   T =   83 Omega = +18.198838472246 eV  lamdba = +68.14 nm <FT> = +24.4910 <K_d> = -6.2922\r\n",
      "T00 ERR ...            HOMO-2   -> LUMO+9    : 75.9%\r\n",
      "T00 ERR ...    \r\n",
      "T00 ERR ...   T =   84 Omega = +18.201043123735 eV  lamdba = +68.13 nm <FT> = +24.4013 <K_d> = -6.2002\r\n",
      "T00 ERR ...    \r\n",
      "T00 ERR ...   T =   85 Omega = +18.406707434004 eV  lamdba = +67.37 nm <FT> = +25.1709 <K_d> = -6.7642\r\n",
      "T00 ERR ...    \r\n",
      "T00 ERR ...   T =   86 Omega = +18.445772781089 eV  lamdba = +67.22 nm <FT> = +25.0497 <K_d> = -6.6039\r\n",
      "T00 ERR ...    \r\n",
      "T00 ERR ...   T =   87 Omega = +18.562555148448 eV  lamdba = +66.80 nm <FT> = +26.6807 <K_d> = -8.1182\r\n",
      "T00 ERR ...    \r\n",
      "T00 ERR ...   T =   88 Omega = +18.575007133540 eV  lamdba = +66.76 nm <FT> = +24.8250 <K_d> = -6.2500\r\n",
      "T00 ERR ...    \r\n",
      "T00 ERR ...   T =   89 Omega = +18.646947170112 eV  lamdba = +66.50 nm <FT> = +25.4932 <K_d> = -6.8463\r\n",
      "T00 ERR ...            HOMO-11  -> LUMO+0    : 94.0%\r\n",
      "T00 ERR ...    \r\n",
      "T00 ERR ...   T =   90 Omega = +18.988244029254 eV  lamdba = +65.30 nm <FT> = +25.0036 <K_d> = -6.0154\r\n",
      "T00 ERR ...    \r\n",
      "T00 ERR ...   T =   91 Omega = +19.006409130906 eV  lamdba = +65.24 nm <FT> = +25.1025 <K_d> = -6.0961\r\n",
      "T00 ERR ...    \r\n",
      "T00 ERR ...   T =   92 Omega = +19.012109497158 eV  lamdba = +65.22 nm <FT> = +25.7439 <K_d> = -6.7318\r\n",
      "T00 ERR ...    \r\n",
      "T00 ERR ...   T =   93 Omega = +19.214954330960 eV  lamdba = +64.53 nm <FT> = +25.8376 <K_d> = -6.6226\r\n",
      "T00 ERR ...            HOMO-5   -> LUMO+9    : 71.1%\r\n",
      "T00 ERR ...    \r\n",
      "T00 ERR ...   T =   94 Omega = +19.358225650123 eV  lamdba = +64.06 nm <FT> = +25.4621 <K_d> = -6.1038\r\n",
      "T00 ERR ...            HOMO-8   -> LUMO+5    : 60.7%\r\n",
      "T00 ERR ...    \r\n",
      "T00 ERR ...   T =   95 Omega = +19.516935149151 eV  lamdba = +63.53 nm <FT> = +26.2338 <K_d> = -6.7169\r\n",
      "T00 ERR ...    \r\n",
      "T00 ERR ...   T =   96 Omega = +19.559910452473 eV  lamdba = +63.39 nm <FT> = +26.2950 <K_d> = -6.7351\r\n",
      "T00 ERR ...    \r\n",
      "T00 ERR ...   T =   97 Omega = +19.772263980145 eV  lamdba = +62.71 nm <FT> = +25.6089 <K_d> = -5.8366\r\n",
      "T00 ERR ...    \r\n",
      "T00 ERR ...   T =   98 Omega = +19.848681272908 eV  lamdba = +62.47 nm <FT> = +26.8918 <K_d> = -7.0431\r\n",
      "T00 ERR ...            HOMO-0   -> LUMO+14   : 57.1%\r\n",
      "T00 ERR ...    \r\n",
      "T00 ERR ...   T =   99 Omega = +19.860797635303 eV  lamdba = +62.43 nm <FT> = +26.1548 <K_d> = -6.2940\r\n",
      "T00 ERR ...            HOMO-0   -> LUMO+12   : 95.9%\r\n",
      "T00 ERR ...    \r\n",
      "T00 ERR ...   T =  100 Omega = +20.010629463137 eV  lamdba = +61.97 nm <FT> = +26.9445 <K_d> = -6.9339\r\n",
      "T00 ERR ...            HOMO-1   -> LUMO+13   : 87.7%\r\n",
      "T00 ERR ...    \r\n",
      "T00 ERR ... 2025-1-20 6:24:27 Setup Full singlet hamiltonian \r\n",
      "T00 ERR ... 2025-1-20 6:24:27 Davidson Solver using 4 threads.\r\n",
      "T00 ERR ... 2025-1-20 6:24:27 Tolerance : 0.0001\r\n",
      "T00 ERR ... 2025-1-20 6:24:27 DPR Correction\r\n",
      "T00 ERR ... 2025-1-20 6:24:27 Matrix size : 1540x1540\r\n",
      "T00 ERR ... 2025-1-20 6:24:27 iter\tSearch Space\tNorm"
     ]
    },
    {
     "name": "stdout",
     "output_type": "stream",
     "text": [
      "\r\n",
      "T00 ERR ... 2025-1-20 6:24:27    0          200 \t 2.30e-01 \t  0.00% converged"
     ]
    },
    {
     "name": "stdout",
     "output_type": "stream",
     "text": [
      "\r\n",
      "T00 ERR ... 2025-1-20 6:24:28    1          310 \t 1.39e-02 \t  0.00% converged"
     ]
    },
    {
     "name": "stdout",
     "output_type": "stream",
     "text": [
      "\r\n",
      "T00 ERR ... 2025-1-20 6:24:29    2          420 \t 8.64e-04 \t 48.00% converged"
     ]
    },
    {
     "name": "stdout",
     "output_type": "stream",
     "text": [
      "\r\n",
      "T00 ERR ... 2025-1-20 6:24:31    3          478 \t 6.21e-05 \t 100.00% converged\r\n",
      "T00 ERR ... 2025-1-20 6:24:31 Davidson converged after 3 iterations.\r\n",
      "T00 ERR ... 2025-1-20 6:24:31-----------------------------------\r\n",
      "T00 ERR ... 2025-1-20 6:24:31- Davidson ran for 3.50425684secs.\r\n",
      "T00 ERR ... 2025-1-20 6:24:31-----------------------------------\r\n",
      "T00 ERR ... 2025-1-20 6:24:31 Solved BSE for singlets "
     ]
    },
    {
     "name": "stdout",
     "output_type": "stream",
     "text": [
      "\r\n",
      "T00 ERR ...   ====== singlet energies (eV) ====== \r\n",
      "T00 ERR ...   S =    1 Omega = +6.263423650995 eV  lamdba = +197.97 nm <FT> = +12.4758 <K_x> = +0.6208 <K_d> = -6.8331\r\n",
      "T00 ERR ...            TrDipole length gauge[e*bohr]  dx = +0.7024 dy = -0.1605 dz = +0.2943 |d|^2 = +0.6057 f = +0.0929\r\n",
      "T00 ERR ...            HOMO-1   -> LUMO+0    : 85.3%\r\n",
      "T00 ERR ... \r\n",
      "T00 ERR ...   S =    2 Omega = +6.449245086197 eV  lamdba = +192.27 nm <FT> = +12.6394 <K_x> = +1.1567 <K_d> = -7.3469\r\n",
      "T00 ERR ...            TrDipole length gauge[e*bohr]  dx = -0.0030 dy = -0.7102 dz = -0.3802 |d|^2 = +0.6490 f = +0.1025\r\n",
      "T00 ERR ...            HOMO-0   -> LUMO+0    : 95.1%\r\n",
      "T00 ERR ... \r\n",
      "T00 ERR ...   S =    3 Omega = +7.590770427135 eV  lamdba = +163.36 nm <FT> = +13.7769 <K_x> = +0.3285 <K_d> = -6.5146\r\n",
      "T00 ERR ...            TrDipole length gauge[e*bohr]  dx = +0.0036 dy = +0.0062 dz = -0.0118 |d|^2 = +0.0002 f = +0.0000\r\n",
      "T00 ERR ...            HOMO-0   -> LUMO+1    : 96.8%\r\n",
      "T00 ERR ... \r\n",
      "T00 ERR ...   S =    4 Omega = +7.681559754108 eV  lamdba = +161.43 nm <FT> = +14.0648 <K_x> = +0.3745 <K_d> = -6.7578\r\n",
      "T00 ERR ...            TrDipole length gauge[e*bohr]  dx = -0.0000 dy = -0.0013 dz = -0.0007 |d|^2 = +0.0000 f = +0.0000\r\n",
      "T00 ERR ...            HOMO-1   -> LUMO+1    : 98.5%\r\n",
      "T00 ERR ... \r\n",
      "T00 ERR ...   S =    5 Omega = +8.275900856593 eV  lamdba = +149.83 nm <FT> = +14.6129 <K_x> = +0.5051 <K_d> = -6.8420\r\n",
      "T00 ERR ...            TrDipole length gauge[e*bohr]  dx = -0.1058 dy = -0.1054 dz = +0.1973 |d|^2 = +0.0612 f = +0.0124\r\n",
      "T00 ERR ...            HOMO-2   -> LUMO+0    : 95.8%\r\n",
      "T00 ERR ... \r\n",
      "T00 ERR ...   S =    6 Omega = +8.358955903611 eV  lamdba = +148.34 nm <FT> = +14.5446 <K_x> = +1.0457 <K_d> = -7.2313\r\n",
      "T00 ERR ...            TrDipole length gauge[e*bohr]  dx = -1.0896 dy = +0.2483 dz = -0.4566 |d|^2 = +1.4574 f = +0.2985\r\n",
      "T00 ERR ...            HOMO-0   -> LUMO+2    : 79.0%\r\n",
      "T00 ERR ... \r\n",
      "T00 ERR ...   S =    7 Omega = +8.565727381823 eV  lamdba = +144.76 nm <FT> = +14.5648 <K_x> = +0.8880 <K_d> = -6.8871\r\n",
      "T00 ERR ...            TrDipole length gauge[e*bohr]  dx = +0.0017 dy = +0.6182 dz = +0.3308 |d|^2 = +0.4916 f = +0.1032\r\n",
      "T00 ERR ...            HOMO-1   -> LUMO+2    : 93.1%\r\n",
      "T00 ERR ... \r\n",
      "T00 ERR ...   S =    8 Omega = +8.847610149304 eV  lamdba = +140.15 nm <FT> = +14.6677 <K_x> = +0.2891 <K_d> = -6.1092\r\n",
      "T00 ERR ...            TrDipole length gauge[e*bohr]  dx = -0.0001 dy = +0.0002 dz = -0.0000 |d|^2 = +0.0000 f = +0.0000\r\n",
      "T00 ERR ...            HOMO-0   -> LUMO+3    : 88.7%\r\n",
      "T00 ERR ... \r\n",
      "T00 ERR ...   S =    9 Omega = +9.080373076524 eV  lamdba = +136.56 nm <FT> = +15.3334 <K_x> = +0.1936 <K_d> = -6.4467\r\n",
      "T00 ERR ...            TrDipole length gauge[e*bohr]  dx = +0.0004 dy = +0.0001 dz = +0.0002 |d|^2 = +0.0000 f = +0.0000\r\n",
      "T00 ERR ...            HOMO-0   -> LUMO+4    : 86.4%\r\n",
      "T00 ERR ... \r\n",
      "T00 ERR ...   S =   10 Omega = +9.305117626650 eV  lamdba = +133.26 nm <FT> = +14.8998 <K_x> = +0.1243 <K_d> = -5.7190\r\n",
      "T00 ERR ...            TrDipole length gauge[e*bohr]  dx = +0.0445 dy = +0.0442 dz = -0.0824 |d|^2 = +0.0107 f = +0.0024\r\n",
      "T00 ERR ...            HOMO-1   -> LUMO+3    : 95.1%\r\n",
      "T00 ERR ... \r\n",
      "T00 ERR ...   S =   11 Omega = +9.598787335893 eV  lamdba = +129.18 nm <FT> = +16.1572 <K_x> = +0.2711 <K_d> = -6.8295\r\n",
      "T00 ERR ...            TrDipole length gauge[e*bohr]  dx = -0.0379 dy = -0.0409 dz = +0.0767 |d|^2 = +0.0090 f = +0.0021\r\n",
      "T00 ERR ...            HOMO-3   -> LUMO+0    : 91.0%\r\n",
      "T00 ERR ... \r\n",
      "T00 ERR ...   S =   12 Omega = +9.705710728650 eV  lamdba = +127.76 nm <FT> = +16.2787 <K_x> = +0.3844 <K_d> = -6.9574\r\n",
      "T00 ERR ...            TrDipole length gauge[e*bohr]  dx = -0.0001 dy = +0.0077 dz = -0.0153 |d|^2 = +0.0003 f = +0.0001\r\n",
      "T00 ERR ...            HOMO-4   -> LUMO+0    : 84.9%\r\n",
      "T00 ERR ... \r\n",
      "T00 ERR ...   S =   13 Omega = +9.706714569566 eV  lamdba = +127.75 nm <FT> = +15.7705 <K_x> = +0.5410 <K_d> = -6.6048\r\n",
      "T00 ERR ...            TrDipole length gauge[e*bohr]  dx = -0.0904 dy = -0.0891 dz = +0.1670 |d|^2 = +0.0440 f = +0.0105\r\n",
      "T00 ERR ...            HOMO-1   -> LUMO+4    : 88.8%\r\n",
      "T00 ERR ... \r\n",
      "T00 ERR ...   S =   14 Omega = +10.142853691690 eV  lamdba = +122.25 nm <FT> = +16.4341 <K_x> = +1.1594 <K_d> = -7.4507\r\n",
      "T00 ERR ...            TrDipole length gauge[e*bohr]  dx = -0.4254 dy = +0.0968 dz = -0.1777 |d|^2 = +0.2219 f = +0.0551\r\n",
      "T00 ERR ...            HOMO-5   -> LUMO+0    : 88.3%\r\n",
      "T00 ERR ... \r\n",
      "T00 ERR ...   S =   15 Omega = +10.345171461645 eV  lamdba = +119.86 nm <FT> = +16.9298 <K_x> = +0.3284 <K_d> = -6.9130\r\n",
      "T00 ERR ...            TrDipole length gauge[e*bohr]  dx = +0.0015 dy = +0.0006 dz = +0.0010 |d|^2 = +0.0000 f = +0.0000\r\n",
      "T00 ERR ...            HOMO-6   -> LUMO+0    : 75.9%\r\n",
      "T00 ERR ... \r\n",
      "T00 ERR ...   S =   16 Omega = +10.380202448236 eV  lamdba = +119.46 nm <FT> = +16.0851 <K_x> = +0.3185 <K_d> = -6.0234\r\n",
      "T00 ERR ...            TrDipole length gauge[e*bohr]  dx = +0.0079 dy = +0.0072 dz = -0.0134 |d|^2 = +0.0003 f = +0.0001\r\n",
      "T00 ERR ...            HOMO-0   -> LUMO+5    : 91.4%\r\n",
      "T00 ERR ... \r\n",
      "T00 ERR ...   S =   17 Omega = +10.532185529381 eV  lamdba = +117.73 nm <FT> = +16.6662 <K_x> = +0.1361 <K_d> = -6.2701\r\n",
      "T00 ERR ...            TrDipole length gauge[e*bohr]  dx = +0.0024 dy = +0.0018 dz = +0.0023 |d|^2 = +0.0000 f = +0.0000\r\n",
      "T00 ERR ...            HOMO-2   -> LUMO+2    : 69.2%\r\n",
      "T00 ERR ... \r\n",
      "T00 ERR ...   S =   18 Omega = +10.961111829410 eV  lamdba = +113.13 nm <FT> = +16.3750 <K_x> = +0.0439 <K_d> = -5.4577\r\n",
      "T00 ERR ...            TrDipole length gauge[e*bohr]  dx = +0.0002 dy = -0.0024 dz = -0.0013 |d|^2 = +0.0000 f = +0.0000\r\n",
      "T00 ERR ...            HOMO-1   -> LUMO+5    : 96.8%\r\n",
      "T00 ERR ... \r\n",
      "T00 ERR ...   S =   19 Omega = +11.006265568876 eV  lamdba = +112.66 nm <FT> = +17.2087 <K_x> = +1.1841 <K_d> = -7.3866\r\n",
      "T00 ERR ...            TrDipole length gauge[e*bohr]  dx = -0.0036 dy = -0.8918 dz = -0.4769 |d|^2 = +1.0228 f = +0.2758\r\n",
      "T00 ERR ...            HOMO-2   -> LUMO+1    : 86.7%\r\n",
      "T00 ERR ... \r\n",
      "T00 ERR ...   S =   20 Omega = +11.155437435195 eV  lamdba = +111.16 nm <FT> = +16.8796 <K_x> = +0.1941 <K_d> = -5.9183\r\n",
      "T00 ERR ...            TrDipole length gauge[e*bohr]  dx = +0.0178 dy = +0.0150 dz = -0.0335 |d|^2 = +0.0017 f = +0.0005\r\n",
      "T00 ERR ...            HOMO-0   -> LUMO+6    : 87.6%\r\n",
      "T00 ERR ... \r\n",
      "T00 ERR ...   S =   21 Omega = +11.354888643583 eV  lamdba = +109.20 nm <FT> = +18.0610 <K_x> = +0.4008 <K_d> = -7.1069\r\n",
      "T00 ERR ...            TrDipole length gauge[e*bohr]  dx = +0.0002 dy = +0.0015 dz = +0.0008 |d|^2 = +0.0000 f = +0.0000\r\n",
      "T00 ERR ...            HOMO-3   -> LUMO+2    : 76.9%\r\n",
      "T00 ERR ... \r\n",
      "T00 ERR ...   S =   22 Omega = +11.437094056814 eV  lamdba = +108.42 nm <FT> = +17.2404 <K_x> = +0.3927 <K_d> = -6.1960\r\n",
      "T00 ERR ...            TrDipole length gauge[e*bohr]  dx = -0.0001 dy = -0.0006 dz = -0.0005 |d|^2 = +0.0000 f = +0.0000\r\n",
      "T00 ERR ...            HOMO-0   -> LUMO+7    : 75.6%\r\n",
      "T00 ERR ... \r\n",
      "T00 ERR ...   S =   23 Omega = +11.638173234458 eV  lamdba = +106.55 nm <FT> = +17.8946 <K_x> = +0.3355 <K_d> = -6.5919\r\n",
      "T00 ERR ...            TrDipole length gauge[e*bohr]  dx = -0.0045 dy = +0.0005 dz = -0.0022 |d|^2 = +0.0000 f = +0.0000\r\n",
      "T00 ERR ...            HOMO-5   -> LUMO+1    : 91.4%\r\n",
      "T00 ERR ... \r\n",
      "T00 ERR ...   S =   24 Omega = +11.732444595912 eV  lamdba = +105.69 nm <FT> = +17.2225 <K_x> = +0.2548 <K_d> = -5.7449\r\n",
      "T00 ERR ...            TrDipole length gauge[e*bohr]  dx = +0.0081 dy = +0.0068 dz = -0.0127 |d|^2 = +0.0003 f = +0.0001\r\n",
      "T00 ERR ...            HOMO-1   -> LUMO+6    : 73.0%\r\n",
      "T00 ERR ... \r\n",
      "T00 ERR ...   S =   25 Omega = +11.734880568899 eV  lamdba = +105.67 nm <FT> = +18.1891 <K_x> = +0.4068 <K_d> = -6.8610\r\n",
      "T00 ERR ...            TrDipole length gauge[e*bohr]  dx = -0.0919 dy = -0.0852 dz = +0.1709 |d|^2 = +0.0449 f = +0.0129\r\n",
      "T00 ERR ...            HOMO-4   -> LUMO+2    : 74.3%\r\n",
      "T00 ERR ... \r\n",
      "T00 ERR ...   S =   26 Omega = +11.995510740541 eV  lamdba = +103.37 nm <FT> = +17.5211 <K_x> = +0.2257 <K_d> = -5.7513\r\n",
      "T00 ERR ...            TrDipole length gauge[e*bohr]  dx = +0.0826 dy = +0.0710 dz = -0.1572 |d|^2 = +0.0366 f = +0.0107\r\n",
      "T00 ERR ...            HOMO-1   -> LUMO+7    : 86.6%\r\n",
      "T00 ERR ... \r\n",
      "T00 ERR ...   S =   27 Omega = +12.032056653084 eV  lamdba = +103.06 nm <FT> = +18.3251 <K_x> = +0.8029 <K_d> = -7.0959\r\n",
      "T00 ERR ...            TrDipole length gauge[e*bohr]  dx = +0.0071 dy = +0.1867 dz = +0.0851 |d|^2 = +0.0421 f = +0.0124\r\n",
      "T00 ERR ...            HOMO-5   -> LUMO+2    : 88.2%\r\n",
      "T00 ERR ... \r\n",
      "T00 ERR ...   S =   28 Omega = +12.050707029712 eV  lamdba = +102.90 nm <FT> = +17.9128 <K_x> = +0.3947 <K_d> = -6.2568\r\n",
      "T00 ERR ...            TrDipole length gauge[e*bohr]  dx = -0.0545 dy = +0.0129 dz = -0.0233 |d|^2 = +0.0037 f = +0.0011\r\n",
      "T00 ERR ...            HOMO-2   -> LUMO+3    : 58.2%\r\n",
      "T00 ERR ... \r\n",
      "T00 ERR ...   S =   29 Omega = +12.371078112670 eV  lamdba = +100.23 nm <FT> = +18.1242 <K_x> = +0.3464 <K_d> = -6.0996\r\n",
      "T00 ERR ...            TrDipole length gauge[e*bohr]  dx = -0.3708 dy = +0.0844 dz = -0.1555 |d|^2 = +0.1688 f = +0.0511\r\n",
      "T00 ERR ... \r\n",
      "T00 ERR ...   S =   30 Omega = +12.410152042661 eV  lamdba = +99.92 nm <FT> = +18.4759 <K_x> = +0.3072 <K_d> = -6.3729\r\n",
      "T00 ERR ...            TrDipole length gauge[e*bohr]  dx = +0.0012 dy = +0.1348 dz = +0.0727 |d|^2 = +0.0235 f = +0.0071\r\n",
      "T00 ERR ...            HOMO-3   -> LUMO+1    : 90.3%\r\n",
      "T00 ERR ... \r\n",
      "T00 ERR ...   S =   31 Omega = +12.529724263573 eV  lamdba = +98.96 nm <FT> = +19.0212 <K_x> = +0.2823 <K_d> = -6.7738\r\n",
      "T00 ERR ...            TrDipole length gauge[e*bohr]  dx = -0.0321 dy = -0.0293 dz = +0.0569 |d|^2 = +0.0051 f = +0.0016\r\n",
      "T00 ERR ...            HOMO-6   -> LUMO+2    : 83.2%\r\n",
      "T00 ERR ... \r\n",
      "T00 ERR ...   S =   32 Omega = +13.031157884267 eV  lamdba = +95.16 nm <FT> = +19.0116 <K_x> = +0.5672 <K_d> = -6.5476\r\n",
      "T00 ERR ...            TrDipole length gauge[e*bohr]  dx = +0.8987 dy = -0.2055 dz = +0.3772 |d|^2 = +0.9922 f = +0.3168\r\n",
      "T00 ERR ... \r\n",
      "T00 ERR ...   S =   33 Omega = +13.196624088772 eV  lamdba = +93.96 nm <FT> = +19.0341 <K_x> = +0.2796 <K_d> = -6.1171\r\n",
      "T00 ERR ...            TrDipole length gauge[e*bohr]  dx = -0.0510 dy = -0.0297 dz = +0.0701 |d|^2 = +0.0084 f = +0.0027\r\n",
      "T00 ERR ...            HOMO-5   -> LUMO+3    : 66.6%\r\n",
      "T00 ERR ... \r\n",
      "T00 ERR ...   S =   34 Omega = +13.218258725164 eV  lamdba = +93.81 nm <FT> = +19.1141 <K_x> = +0.9014 <K_d> = -6.7973\r\n",
      "T00 ERR ...            TrDipole length gauge[e*bohr]  dx = +0.8633 dy = -0.1979 dz = +0.3641 |d|^2 = +0.9170 f = +0.2970\r\n",
      "T00 ERR ...            HOMO-6   -> LUMO+1    : 51.5%\r\n",
      "T00 ERR ... \r\n",
      "T00 ERR ...   S =   35 Omega = +13.457047828839 eV  lamdba = +92.15 nm <FT> = +19.4582 <K_x> = +0.2947 <K_d> = -6.2959\r\n",
      "T00 ERR ...            TrDipole length gauge[e*bohr]  dx = -0.0501 dy = -0.0275 dz = +0.0557 |d|^2 = +0.0064 f = +0.0021\r\n",
      "T00 ERR ...            HOMO-5   -> LUMO+4    : 52.2%\r\n",
      "T00 ERR ... \r\n",
      "T00 ERR ...   S =   36 Omega = +13.490151810158 eV  lamdba = +91.92 nm <FT> = +19.6582 <K_x> = +0.3693 <K_d> = -6.5374\r\n",
      "T00 ERR ...            TrDipole length gauge[e*bohr]  dx = -0.0000 dy = -0.0001 dz = -0.0003 |d|^2 = +0.0000 f = +0.0000\r\n",
      "T00 ERR ...            HOMO-0   -> LUMO+8    : 98.1%\r\n",
      "T00 ERR ... \r\n",
      "T00 ERR ...   S =   37 Omega = +13.528015334129 eV  lamdba = +91.66 nm <FT> = +19.2255 <K_x> = +0.4881 <K_d> = -6.1857\r\n",
      "T00 ERR ...            TrDipole length gauge[e*bohr]  dx = -0.0010 dy = +0.1556 dz = +0.0833 |d|^2 = +0.0312 f = +0.0103\r\n",
      "T00 ERR ...            HOMO-2   -> LUMO+5    : 50.2%\r\n",
      "T00 ERR ... \r\n",
      "T00 ERR ...   S =   38 Omega = +13.587222121221 eV  lamdba = +91.26 nm <FT> = +19.2775 <K_x> = +0.7051 <K_d> = -6.3954\r\n",
      "T00 ERR ...            TrDipole length gauge[e*bohr]  dx = +0.9283 dy = -0.2115 dz = +0.3895 |d|^2 = +1.0582 f = +0.3522\r\n",
      "T00 ERR ...            HOMO-3   -> LUMO+3    : 90.9%\r\n",
      "T00 ERR ... \r\n",
      "T00 ERR ...   S =   39 Omega = +13.696396050085 eV  lamdba = +90.53 nm <FT> = +19.8132 <K_x> = +0.4023 <K_d> = -6.5191\r\n",
      "T00 ERR ...            TrDipole length gauge[e*bohr]  dx = +0.1061 dy = +0.0964 dz = -0.1916 |d|^2 = +0.0573 f = +0.0192\r\n",
      "T00 ERR ...            HOMO-7   -> LUMO+0    : 76.8%\r\n",
      "T00 ERR ... \r\n",
      "T00 ERR ...   S =   40 Omega = +13.814789502925 eV  lamdba = +89.76 nm <FT> = +19.2527 <K_x> = +0.3399 <K_d> = -5.7778\r\n",
      "T00 ERR ...            TrDipole length gauge[e*bohr]  dx = -0.0019 dy = -0.1569 dz = -0.0832 |d|^2 = +0.0316 f = +0.0107\r\n",
      "T00 ERR ... \r\n",
      "T00 ERR ...   S =   41 Omega = +13.838303499668 eV  lamdba = +89.61 nm <FT> = +19.8423 <K_x> = +0.2382 <K_d> = -6.2422\r\n",
      "T00 ERR ...            TrDipole length gauge[e*bohr]  dx = +0.0081 dy = -0.0045 dz = -0.0224 |d|^2 = +0.0006 f = +0.0002\r\n",
      "T00 ERR ...            HOMO-1   -> LUMO+8    : 84.1%\r\n",
      "T00 ERR ... \r\n",
      "T00 ERR ...   S =   42 Omega = +14.107197557176 eV  lamdba = +87.90 nm <FT> = +20.0059 <K_x> = +0.5217 <K_d> = -6.4204\r\n",
      "T00 ERR ...            TrDipole length gauge[e*bohr]  dx = +0.9796 dy = -0.2243 dz = +0.4116 |d|^2 = +1.1793 f = +0.4076\r\n",
      "T00 ERR ...            HOMO-3   -> LUMO+4    : 88.7%\r\n",
      "T00 ERR ... \r\n",
      "T00 ERR ...   S =   43 Omega = +14.229723389616 eV  lamdba = +87.14 nm <FT> = +20.1729 <K_x> = +0.7097 <K_d> = -6.6528\r\n",
      "T00 ERR ...            TrDipole length gauge[e*bohr]  dx = -0.0036 dy = -0.9747 dz = -0.5200 |d|^2 = +1.2205 f = +0.4255\r\n",
      "T00 ERR ...            HOMO-4   -> LUMO+4    : 81.0%\r\n",
      "T00 ERR ... \r\n",
      "T00 ERR ...   S =   44 Omega = +14.400741691235 eV  lamdba = +86.11 nm <FT> = +20.3325 <K_x> = +0.9191 <K_d> = -6.8508\r\n",
      "T00 ERR ...            TrDipole length gauge[e*bohr]  dx = +0.0058 dy = +1.3423 dz = +0.7193 |d|^2 = +2.3193 f = +0.8183\r\n",
      "T00 ERR ...            HOMO-6   -> LUMO+3    : 68.0%\r\n",
      "T00 ERR ... \r\n",
      "T00 ERR ...   S =   45 Omega = +14.597323063076 eV  lamdba = +84.95 nm <FT> = +19.8760 <K_x> = +0.2609 <K_d> = -5.5396\r\n",
      "T00 ERR ...            TrDipole length gauge[e*bohr]  dx = +0.0022 dy = +0.3782 dz = +0.2029 |d|^2 = +0.1842 f = +0.0659\r\n",
      "T00 ERR ...            HOMO-2   -> LUMO+6    : 76.0%\r\n",
      "T00 ERR ... \r\n",
      "T00 ERR ...   S =   46 Omega = +14.644745879644 eV  lamdba = +84.67 nm <FT> = +20.8299 <K_x> = +0.3044 <K_d> = -6.4895\r\n",
      "T00 ERR ...            TrDipole length gauge[e*bohr]  dx = -0.0010 dy = -0.0008 dz = +0.0000 |d|^2 = +0.0000 f = +0.0000\r\n",
      "T00 ERR ...            HOMO-9   -> LUMO+0    : 91.6%\r\n",
      "T00 ERR ... \r\n",
      "T00 ERR ...   S =   47 Omega = +14.764532294443 eV  lamdba = +83.99 nm <FT> = +20.7550 <K_x> = +0.5193 <K_d> = -6.5098\r\n",
      "T00 ERR ...            TrDipole length gauge[e*bohr]  dx = +0.0063 dy = +0.5688 dz = +0.3068 |d|^2 = +0.4177 f = +0.1511\r\n",
      "T00 ERR ...            HOMO-6   -> LUMO+4    : 64.7%\r\n",
      "T00 ERR ... \r\n",
      "T00 ERR ...   S =   48 Omega = +14.775361319271 eV  lamdba = +83.92 nm <FT> = +20.1449 <K_x> = +0.3160 <K_d> = -5.6856\r\n",
      "T00 ERR ...            TrDipole length gauge[e*bohr]  dx = -0.5553 dy = +0.1314 dz = -0.2306 |d|^2 = +0.3788 f = +0.1371\r\n",
      "T00 ERR ...            HOMO-2   -> LUMO+7    : 88.7%\r\n",
      "T00 ERR ... \r\n",
      "T00 ERR ...   S =   49 Omega = +14.806593903061 eV  lamdba = +83.75 nm <FT> = +20.3404 <K_x> = +0.1638 <K_d> = -5.6977\r\n",
      "T00 ERR ...            TrDipole length gauge[e*bohr]  dx = -0.0198 dy = +0.0152 dz = -0.0035 |d|^2 = +0.0006 f = +0.0002\r\n",
      "T00 ERR ...            HOMO-5   -> LUMO+5    : 90.4%\r\n",
      "T00 ERR ... \r\n",
      "T00 ERR ...   S =   50 Omega = +14.931630723561 eV  lamdba = +83.05 nm <FT> = +21.0548 <K_x> = +0.4280 <K_d> = -6.5512\r\n",
      "T00 ERR ...            TrDipole length gauge[e*bohr]  dx = -0.1656 dy = -0.1646 dz = +0.3069 |d|^2 = +0.1487 f = +0.0544\r\n",
      "T00 ERR ...            HOMO-8   -> LUMO+0    : 65.6%\r\n",
      "T00 ERR ... \r\n",
      "T00 ERR ...   S =   51 Omega = +15.192869086324 eV  lamdba = +81.62 nm <FT> = +20.7684 <K_x> = +0.4073 <K_d> = -5.9828\r\n",
      "T00 ERR ...            TrDipole length gauge[e*bohr]  dx = -0.0014 dy = -0.3054 dz = -0.1640 |d|^2 = +0.1202 f = +0.0447\r\n",
      "T00 ERR ...            HOMO-3   -> LUMO+5    : 83.6%\r\n",
      "T00 ERR ... \r\n",
      "T00 ERR ...   S =   52 Omega = +15.241705283477 eV  lamdba = +81.36 nm <FT> = +20.8551 <K_x> = +0.4309 <K_d> = -6.0443\r\n",
      "T00 ERR ...            TrDipole length gauge[e*bohr]  dx = +0.4825 dy = -0.1098 dz = +0.2025 |d|^2 = +0.2859 f = +0.1067\r\n",
      "T00 ERR ...            HOMO-4   -> LUMO+5    : 94.7%\r\n",
      "T00 ERR ... \r\n",
      "T00 ERR ...   S =   53 Omega = +15.353381070570 eV  lamdba = +80.76 nm <FT> = +21.3474 <K_x> = +0.4780 <K_d> = -6.4720\r\n",
      "T00 ERR ...            TrDipole length gauge[e*bohr]  dx = -0.1454 dy = -0.1438 dz = +0.2680 |d|^2 = +0.1137 f = +0.0428\r\n",
      "T00 ERR ...            HOMO-0   -> LUMO+9    : 71.0%\r\n",
      "T00 ERR ... \r\n",
      "T00 ERR ...   S =   54 Omega = +15.389211815218 eV  lamdba = +80.58 nm <FT> = +21.6996 <K_x> = +0.2628 <K_d> = -6.5732\r\n",
      "T00 ERR ...            TrDipole length gauge[e*bohr]  dx = +0.0001 dy = -0.0174 dz = -0.0089 |d|^2 = +0.0004 f = +0.0001\r\n",
      "T00 ERR ...            HOMO-7   -> LUMO+2    : 80.1%\r\n",
      "T00 ERR ... \r\n",
      "T00 ERR ...   S =   55 Omega = +15.489270308232 eV  lamdba = +80.06 nm <FT> = +21.4245 <K_x> = +0.8508 <K_d> = -6.7859\r\n",
      "T00 ERR ...            TrDipole length gauge[e*bohr]  dx = +0.0049 dy = +1.2911 dz = +0.6897 |d|^2 = +2.1426 f = +0.8131\r\n",
      "T00 ERR ...            HOMO-3   -> LUMO+6    : 81.0%\r\n",
      "T00 ERR ... \r\n",
      "T00 ERR ...   S =   56 Omega = +15.635680589540 eV  lamdba = +79.31 nm <FT> = +21.3143 <K_x> = +0.1649 <K_d> = -5.8436\r\n",
      "T00 ERR ...            TrDipole length gauge[e*bohr]  dx = -0.0108 dy = -0.0152 dz = -0.0143 |d|^2 = +0.0006 f = +0.0002\r\n",
      "T00 ERR ...            HOMO-5   -> LUMO+6    : 53.1%\r\n",
      "T00 ERR ... \r\n",
      "T00 ERR ...   S =   57 Omega = +15.767401978115 eV  lamdba = +78.64 nm <FT> = +21.5448 <K_x> = +0.4577 <K_d> = -6.2352\r\n",
      "T00 ERR ...            TrDipole length gauge[e*bohr]  dx = -0.0245 dy = -0.0005 dz = -0.0136 |d|^2 = +0.0008 f = +0.0003\r\n",
      "T00 ERR ...            HOMO-1   -> LUMO+9    : 61.0%\r\n",
      "T00 ERR ... \r\n",
      "T00 ERR ...   S =   58 Omega = +15.834088721806 eV  lamdba = +78.31 nm <FT> = +21.5459 <K_x> = +0.6456 <K_d> = -6.3574\r\n",
      "T00 ERR ...            TrDipole length gauge[e*bohr]  dx = -0.5748 dy = +0.1298 dz = -0.2398 |d|^2 = +0.4047 f = +0.1570\r\n",
      "T00 ERR ...            HOMO-4   -> LUMO+6    : 70.9%\r\n",
      "T00 ERR ... \r\n",
      "T00 ERR ...   S =   59 Omega = +15.979461296496 eV  lamdba = +77.60 nm <FT> = +21.3088 <K_x> = +0.2473 <K_d> = -5.5766\r\n",
      "T00 ERR ...            TrDipole length gauge[e*bohr]  dx = -0.1045 dy = -0.0888 dz = +0.2123 |d|^2 = +0.0639 f = +0.0250\r\n",
      "T00 ERR ...            HOMO-5   -> LUMO+7    : 90.1%\r\n",
      "T00 ERR ... \r\n",
      "T00 ERR ...   S =   60 Omega = +16.182863123908 eV  lamdba = +76.62 nm <FT> = +22.0596 <K_x> = +0.7986 <K_d> = -6.6753\r\n",
      "T00 ERR ...            TrDipole length gauge[e*bohr]  dx = +0.1710 dy = -0.0370 dz = +0.0697 |d|^2 = +0.0355 f = +0.0141\r\n",
      "T00 ERR ...            HOMO-3   -> LUMO+7    : 54.8%\r\n",
      "T00 ERR ... \r\n",
      "T00 ERR ...   S =   61 Omega = +16.228828115470 eV  lamdba = +76.41 nm <FT> = +22.0371 <K_x> = +0.3747 <K_d> = -6.1830\r\n",
      "T00 ERR ...            TrDipole length gauge[e*bohr]  dx = +0.0010 dy = -0.0826 dz = -0.0465 |d|^2 = +0.0090 f = +0.0036\r\n",
      "T00 ERR ...            HOMO-7   -> LUMO+1    : 77.7%\r\n",
      "T00 ERR ... \r\n",
      "T00 ERR ...   S =   62 Omega = +16.245587424422 eV  lamdba = +76.33 nm <FT> = +21.7580 <K_x> = +0.5016 <K_d> = -6.0140\r\n",
      "T00 ERR ...            TrDipole length gauge[e*bohr]  dx = -0.1817 dy = +0.0432 dz = -0.0771 |d|^2 = +0.0408 f = +0.0163\r\n",
      "T00 ERR ...            HOMO-6   -> LUMO+5    : 66.0%\r\n",
      "T00 ERR ... \r\n",
      "T00 ERR ...   S =   63 Omega = +16.278081451850 eV  lamdba = +76.18 nm <FT> = +22.0075 <K_x> = +0.5924 <K_d> = -6.3218\r\n",
      "T00 ERR ...            TrDipole length gauge[e*bohr]  dx = -0.0045 dy = -0.7977 dz = -0.4232 |d|^2 = +0.8154 f = +0.3252\r\n",
      "T00 ERR ...            HOMO-4   -> LUMO+7    : 58.2%\r\n",
      "T00 ERR ... \r\n",
      "T00 ERR ...   S =   64 Omega = +16.682082184796 eV  lamdba = +74.33 nm <FT> = +22.9054 <K_x> = +0.4007 <K_d> = -6.6240\r\n",
      "T00 ERR ...            TrDipole length gauge[e*bohr]  dx = -0.0006 dy = +0.0002 dz = +0.0007 |d|^2 = +0.0000 f = +0.0000\r\n",
      "T00 ERR ...            HOMO-8   -> LUMO+2    : 96.4%\r\n",
      "T00 ERR ... \r\n",
      "T00 ERR ...   S =   65 Omega = +16.792823453959 eV  lamdba = +73.84 nm <FT> = +22.2099 <K_x> = +0.2556 <K_d> = -5.6726\r\n",
      "T00 ERR ...            TrDipole length gauge[e*bohr]  dx = +0.7393 dy = -0.1693 dz = +0.3095 |d|^2 = +0.6710 f = +0.2761\r\n",
      "T00 ERR ...            HOMO-6   -> LUMO+6    : 80.9%\r\n",
      "T00 ERR ... \r\n",
      "T00 ERR ...   S =   66 Omega = +16.955386049350 eV  lamdba = +73.13 nm <FT> = +22.6553 <K_x> = +0.3785 <K_d> = -6.0784\r\n",
      "T00 ERR ...            TrDipole length gauge[e*bohr]  dx = +0.0016 dy = +0.0297 dz = +0.0164 |d|^2 = +0.0012 f = +0.0005\r\n",
      "T00 ERR ...            HOMO-6   -> LUMO+7    : 64.4%\r\n",
      "T00 ERR ... \r\n",
      "T00 ERR ...   S =   67 Omega = +16.973898716252 eV  lamdba = +73.05 nm <FT> = +22.7832 <K_x> = +0.5101 <K_d> = -6.3193\r\n",
      "T00 ERR ...            TrDipole length gauge[e*bohr]  dx = +0.6473 dy = -0.1472 dz = +0.2702 |d|^2 = +0.5137 f = +0.2136\r\n",
      "T00 ERR ...            HOMO-2   -> LUMO+8    : 59.0%\r\n",
      "T00 ERR ... \r\n",
      "T00 ERR ...   S =   68 Omega = +17.207005664683 eV  lamdba = +72.06 nm <FT> = +23.0521 <K_x> = +0.4690 <K_d> = -6.3142\r\n",
      "T00 ERR ...            TrDipole length gauge[e*bohr]  dx = +0.0013 dy = +0.0582 dz = +0.0332 |d|^2 = +0.0045 f = +0.0019\r\n",
      "T00 ERR ...            HOMO-8   -> LUMO+1    : 76.7%\r\n",
      "T00 ERR ... \r\n",
      "T00 ERR ...   S =   69 Omega = +17.284934242904 eV  lamdba = +71.74 nm <FT> = +23.2221 <K_x> = +0.9927 <K_d> = -6.9299\r\n",
      "T00 ERR ...            TrDipole length gauge[e*bohr]  dx = +0.1774 dy = +0.1777 dz = -0.3373 |d|^2 = +0.1768 f = +0.0749\r\n",
      "T00 ERR ...            HOMO-9   -> LUMO+2    : 72.3%\r\n",
      "T00 ERR ... \r\n",
      "T00 ERR ...   S =   70 Omega = +17.334356735956 eV  lamdba = +71.53 nm <FT> = +23.6184 <K_x> = +0.2016 <K_d> = -6.4856\r\n",
      "T00 ERR ...            TrDipole length gauge[e*bohr]  dx = +0.0003 dy = +0.0004 dz = -0.0006 |d|^2 = +0.0000 f = +0.0000\r\n",
      "T00 ERR ...            HOMO-0   -> LUMO+10   : 97.2%\r\n",
      "T00 ERR ... \r\n",
      "T00 ERR ...   S =   71 Omega = +17.450796710121 eV  lamdba = +71.06 nm <FT> = +22.8597 <K_x> = +0.2423 <K_d> = -5.6512\r\n",
      "T00 ERR ...            TrDipole length gauge[e*bohr]  dx = -0.4693 dy = +0.1070 dz = -0.1962 |d|^2 = +0.2702 f = +0.1155\r\n",
      "T00 ERR ...            HOMO-7   -> LUMO+3    : 76.2%\r\n",
      "T00 ERR ... \r\n",
      "T00 ERR ...   S =   72 Omega = +17.506559564532 eV  lamdba = +70.83 nm <FT> = +23.4276 <K_x> = +0.5777 <K_d> = -6.4987\r\n",
      "T00 ERR ...            TrDipole length gauge[e*bohr]  dx = -0.6554 dy = +0.1498 dz = -0.2747 |d|^2 = +0.5274 f = +0.2262\r\n",
      "T00 ERR ... \r\n",
      "T00 ERR ...   S =   73 Omega = +17.658448328709 eV  lamdba = +70.22 nm <FT> = +23.9655 <K_x> = +0.4733 <K_d> = -6.7804\r\n",
      "T00 ERR ...            TrDipole length gauge[e*bohr]  dx = -0.0208 dy = -0.0073 dz = +0.0351 |d|^2 = +0.0017 f = +0.0007\r\n",
      "T00 ERR ...            HOMO-5   -> LUMO+8    : 67.2%\r\n",
      "T00 ERR ... \r\n",
      "T00 ERR ...   S =   74 Omega = +17.832222921169 eV  lamdba = +69.54 nm <FT> = +23.8664 <K_x> = +1.1237 <K_d> = -7.1579\r\n",
      "T00 ERR ...            TrDipole length gauge[e*bohr]  dx = +0.4499 dy = +0.4506 dz = -0.8353 |d|^2 = +1.1032 f = +0.4820\r\n",
      "T00 ERR ...            HOMO-1   -> LUMO+10   : 64.2%\r\n",
      "T00 ERR ... \r\n",
      "T00 ERR ...   S =   75 Omega = +18.021387353098 eV  lamdba = +68.81 nm <FT> = +23.8688 <K_x> = +1.1177 <K_d> = -6.9651\r\n",
      "T00 ERR ...            TrDipole length gauge[e*bohr]  dx = +1.0245 dy = -0.2335 dz = +0.4279 |d|^2 = +1.2872 f = +0.5683\r\n",
      "T00 ERR ... \r\n",
      "T00 ERR ...   S =   76 Omega = +18.126425189468 eV  lamdba = +68.41 nm <FT> = +24.4263 <K_x> = +0.5427 <K_d> = -6.8426\r\n",
      "T00 ERR ...            TrDipole length gauge[e*bohr]  dx = -0.0043 dy = -0.6951 dz = -0.3712 |d|^2 = +0.6209 f = +0.2758\r\n",
      "T00 ERR ...            HOMO-4   -> LUMO+8    : 74.0%\r\n",
      "T00 ERR ... \r\n",
      "T00 ERR ...   S =   77 Omega = +18.280564384422 eV  lamdba = +67.83 nm <FT> = +24.1717 <K_x> = +0.5311 <K_d> = -6.4223\r\n",
      "T00 ERR ...            TrDipole length gauge[e*bohr]  dx = +0.1432 dy = -0.0751 dz = +0.1472 |d|^2 = +0.0478 f = +0.0214\r\n",
      "T00 ERR ... \r\n",
      "T00 ERR ...   S =   78 Omega = +18.283982068725 eV  lamdba = +67.82 nm <FT> = +24.4067 <K_x> = +0.2314 <K_d> = -6.3541\r\n",
      "T00 ERR ...            TrDipole length gauge[e*bohr]  dx = -0.1858 dy = -0.1062 dz = +0.2215 |d|^2 = +0.0949 f = +0.0425\r\n",
      "T00 ERR ...            HOMO-0   -> LUMO+11   : 73.1%\r\n",
      "T00 ERR ... \r\n",
      "T00 ERR ...   S =   79 Omega = +18.470647917519 eV  lamdba = +67.13 nm <FT> = +24.1644 <K_x> = +0.7621 <K_d> = -6.4558\r\n",
      "T00 ERR ...            TrDipole length gauge[e*bohr]  dx = -0.1408 dy = +0.0312 dz = -0.0596 |d|^2 = +0.0243 f = +0.0110\r\n",
      "T00 ERR ...            HOMO-8   -> LUMO+3    : 66.3%\r\n",
      "T00 ERR ... \r\n",
      "T00 ERR ...   S =   80 Omega = +18.501034292138 eV  lamdba = +67.02 nm <FT> = +24.0064 <K_x> = +0.3439 <K_d> = -5.8493\r\n",
      "T00 ERR ...            TrDipole length gauge[e*bohr]  dx = +0.0023 dy = -0.0564 dz = -0.0289 |d|^2 = +0.0040 f = +0.0018\r\n",
      "T00 ERR ...            HOMO-9   -> LUMO+3    : 76.8%\r\n",
      "T00 ERR ... \r\n",
      "T00 ERR ...   S =   81 Omega = +18.554177290379 eV  lamdba = +66.83 nm <FT> = +24.8994 <K_x> = +0.2396 <K_d> = -6.5848\r\n",
      "T00 ERR ...            TrDipole length gauge[e*bohr]  dx = +0.0004 dy = +0.0007 dz = -0.0015 |d|^2 = +0.0000 f = +0.0000\r\n",
      "T00 ERR ...            HOMO-1   -> LUMO+11   : 95.0%\r\n",
      "T00 ERR ... \r\n",
      "T00 ERR ...   S =   82 Omega = +18.557197978759 eV  lamdba = +66.82 nm <FT> = +24.3735 <K_x> = +0.2901 <K_d> = -6.1064\r\n",
      "T00 ERR ...            TrDipole length gauge[e*bohr]  dx = -0.0010 dy = -0.0364 dz = -0.0211 |d|^2 = +0.0018 f = +0.0008\r\n",
      "T00 ERR ...            HOMO-2   -> LUMO+9    : 75.4%\r\n",
      "T00 ERR ... \r\n",
      "T00 ERR ...   S =   83 Omega = +18.916704390806 eV  lamdba = +65.55 nm <FT> = +24.8663 <K_x> = +0.3752 <K_d> = -6.3247\r\n",
      "T00 ERR ...            TrDipole length gauge[e*bohr]  dx = -0.0010 dy = +0.4154 dz = +0.2217 |d|^2 = +0.2217 f = +0.1028\r\n",
      "T00 ERR ... \r\n",
      "T00 ERR ...   S =   84 Omega = +18.980757745969 eV  lamdba = +65.33 nm <FT> = +24.7639 <K_x> = +0.5804 <K_d> = -6.3635\r\n",
      "T00 ERR ...            TrDipole length gauge[e*bohr]  dx = -0.5734 dy = +0.1297 dz = -0.2407 |d|^2 = +0.4035 f = +0.1877\r\n",
      "T00 ERR ...            HOMO-8   -> LUMO+4    : 81.4%\r\n",
      "T00 ERR ... \r\n",
      "T00 ERR ...   S =   85 Omega = +19.036341604802 eV  lamdba = +65.14 nm <FT> = +24.5137 <K_x> = +0.2324 <K_d> = -5.7097\r\n",
      "T00 ERR ...            TrDipole length gauge[e*bohr]  dx = -0.0018 dy = -0.4329 dz = -0.2321 |d|^2 = +0.2413 f = +0.1125\r\n",
      "T00 ERR ...            HOMO-7   -> LUMO+5    : 68.3%\r\n",
      "T00 ERR ... \r\n",
      "T00 ERR ...   S =   86 Omega = +19.337643363597 eV  lamdba = +64.12 nm <FT> = +25.6226 <K_x> = +0.7317 <K_d> = -7.0166\r\n",
      "T00 ERR ...            TrDipole length gauge[e*bohr]  dx = -0.0459 dy = -0.0446 dz = +0.0845 |d|^2 = +0.0112 f = +0.0053\r\n",
      "T00 ERR ...            HOMO-11  -> LUMO+0    : 97.3%\r\n",
      "T00 ERR ... \r\n",
      "T00 ERR ...   S =   87 Omega = +19.375432848405 eV  lamdba = +64.00 nm <FT> = +24.9603 <K_x> = +0.5194 <K_d> = -6.1043\r\n",
      "T00 ERR ...            TrDipole length gauge[e*bohr]  dx = -0.0009 dy = -0.2406 dz = -0.1288 |d|^2 = +0.0745 f = +0.0354\r\n",
      "T00 ERR ... \r\n",
      "T00 ERR ...   S =   88 Omega = +19.387411690262 eV  lamdba = +63.96 nm <FT> = +25.4776 <K_x> = +1.0199 <K_d> = -7.1101\r\n",
      "T00 ERR ...            TrDipole length gauge[e*bohr]  dx = -0.0008 dy = -0.0020 dz = -0.0015 |d|^2 = +0.0000 f = +0.0000\r\n",
      "T00 ERR ...            HOMO-10  -> LUMO+0    : 94.7%\r\n",
      "T00 ERR ... \r\n",
      "T00 ERR ...   S =   89 Omega = +19.429249581707 eV  lamdba = +63.82 nm <FT> = +25.0586 <K_x> = +0.5572 <K_d> = -6.1865\r\n",
      "T00 ERR ...            TrDipole length gauge[e*bohr]  dx = +0.0018 dy = +0.5711 dz = +0.3054 |d|^2 = +0.4194 f = +0.1996\r\n",
      "T00 ERR ...            HOMO-7   -> LUMO+6    : 72.4%\r\n",
      "T00 ERR ... \r\n",
      "T00 ERR ...   S =   90 Omega = +19.600799803927 eV  lamdba = +63.26 nm <FT> = +25.6622 <K_x> = +0.2669 <K_d> = -6.3282\r\n",
      "T00 ERR ...            TrDipole length gauge[e*bohr]  dx = +0.0111 dy = +0.0007 dz = +0.0061 |d|^2 = +0.0002 f = +0.0001\r\n",
      "T00 ERR ...            HOMO-5   -> LUMO+9    : 88.5%\r\n",
      "T00 ERR ... \r\n",
      "T00 ERR ...   S =   91 Omega = +19.738325317143 eV  lamdba = +62.82 nm <FT> = +25.5643 <K_x> = +0.5672 <K_d> = -6.3932\r\n",
      "T00 ERR ...            TrDipole length gauge[e*bohr]  dx = +0.4868 dy = -0.1108 dz = +0.2045 |d|^2 = +0.2911 f = +0.1408\r\n",
      "T00 ERR ...            HOMO-7   -> LUMO+7    : 53.0%\r\n",
      "T00 ERR ... \r\n",
      "T00 ERR ...   S =   92 Omega = +19.948589094435 eV  lamdba = +62.16 nm <FT> = +25.8196 <K_x> = +0.3256 <K_d> = -6.1965\r\n",
      "T00 ERR ...            TrDipole length gauge[e*bohr]  dx = -0.0016 dy = +0.0203 dz = +0.0099 |d|^2 = +0.0005 f = +0.0002\r\n",
      "T00 ERR ...            HOMO-0   -> LUMO+12   : 56.7%\r\n",
      "T00 ERR ... \r\n",
      "T00 ERR ...   S =   93 Omega = +19.983406443124 eV  lamdba = +62.05 nm <FT> = +25.5231 <K_x> = +0.2049 <K_d> = -5.7447\r\n",
      "T00 ERR ...            TrDipole length gauge[e*bohr]  dx = +0.1086 dy = -0.0238 dz = +0.0461 |d|^2 = +0.0145 f = +0.0071\r\n",
      "T00 ERR ...            HOMO-9   -> LUMO+5    : 59.3%\r\n",
      "T00 ERR ... \r\n",
      "T00 ERR ...   S =   94 Omega = +20.079008421022 eV  lamdba = +61.76 nm <FT> = +25.9249 <K_x> = +0.3583 <K_d> = -6.2042\r\n",
      "T00 ERR ...            TrDipole length gauge[e*bohr]  dx = -0.0073 dy = -0.3723 dz = -0.2028 |d|^2 = +0.1798 f = +0.0885\r\n",
      "T00 ERR ... \r\n",
      "T00 ERR ...   S =   95 Omega = +20.083646573130 eV  lamdba = +61.74 nm <FT> = +26.4328 <K_x> = +0.4891 <K_d> = -6.8382\r\n",
      "T00 ERR ...            TrDipole length gauge[e*bohr]  dx = -0.3755 dy = +0.0915 dz = -0.1542 |d|^2 = +0.1732 f = +0.0852\r\n",
      "T00 ERR ...            HOMO-2   -> LUMO+10   : 70.4%\r\n",
      "T00 ERR ... \r\n",
      "T00 ERR ...   S =   96 Omega = +20.202989691988 eV  lamdba = +61.38 nm <FT> = +26.1553 <K_x> = +0.5266 <K_d> = -6.4789\r\n",
      "T00 ERR ...            TrDipole length gauge[e*bohr]  dx = -0.0391 dy = +0.0095 dz = -0.0164 |d|^2 = +0.0019 f = +0.0009\r\n",
      "T00 ERR ... \r\n",
      "T00 ERR ...   S =   97 Omega = +20.419705422111 eV  lamdba = +60.73 nm <FT> = +26.7498 <K_x> = +0.3174 <K_d> = -6.6475\r\n",
      "T00 ERR ...            TrDipole length gauge[e*bohr]  dx = +0.1117 dy = +0.1102 dz = -0.2056 |d|^2 = +0.0669 f = +0.0335\r\n",
      "T00 ERR ...            HOMO-1   -> LUMO+13   : 95.8%\r\n",
      "T00 ERR ... \r\n",
      "T00 ERR ...   S =   98 Omega = +20.509800195891 eV  lamdba = +60.46 nm <FT> = +26.0093 <K_x> = +0.6194 <K_d> = -6.1189\r\n",
      "T00 ERR ...            TrDipole length gauge[e*bohr]  dx = +0.0025 dy = +0.6932 dz = +0.3714 |d|^2 = +0.6185 f = +0.3108\r\n",
      "T00 ERR ... \r\n",
      "T00 ERR ...   S =   99 Omega = +20.515415611494 eV  lamdba = +60.44 nm <FT> = +26.4548 <K_x> = +0.1619 <K_d> = -6.1013\r\n",
      "T00 ERR ...            TrDipole length gauge[e*bohr]  dx = +0.0009 dy = +0.0209 dz = +0.0117 |d|^2 = +0.0006 f = +0.0003\r\n",
      "T00 ERR ...            HOMO-0   -> LUMO+13   : 82.0%\r\n",
      "T00 ERR ... \r\n",
      "T00 ERR ...   S =  100 Omega = +20.593706385411 eV  lamdba = +60.21 nm <FT> = +26.6946 <K_x> = +0.6498 <K_d> = -6.7507\r\n",
      "T00 ERR ...            TrDipole length gauge[e*bohr]  dx = -0.1239 dy = +0.0289 dz = -0.0513 |d|^2 = +0.0188 f = +0.0095\r\n",
      "T00 ERR ...            HOMO-1   -> LUMO+12   : 69.3%\r\n",
      "T00 ERR ... \r\n",
      "T00 ERR ... 2025-1-20 6:24:31 BSE calculation took 7.009214528 seconds.\r\n",
      "T00 ERR ... 2025-1-20 6:24:31 GWBSE calculation finished \r\n",
      "T00 ERR ... Filter overlap not used in first iteration as it needs a reference state\r\n",
      "T00 ERR ... No State found by tracker using last state: s1\r\n",
      "T00 ERR ... 2025-1-20 6:24:31 Evaluating staticregion 1\r\n",
      "T00 ERR ... 2025-1-20 6:24:31 Writing checkpoint to checkpoint_iter_1.hdf5"
     ]
    },
    {
     "name": "stdout",
     "output_type": "stream",
     "text": [
      "\r\n",
      "T00 ERR ... Next State is: s1\r\n",
      "T00 ERR ... Reporting job results\r\n",
      "\r\n",
      "T00 ERR ... Requesting next job\r\n",
      "T00 ERR ... Next job: ID = 1=> [50%] \r\n",
      "T00 ERR ... Initial state: s1\r\n",
      "T00 ERR ... Using overlap filter with threshold 0.8"
     ]
    },
    {
     "name": "stdout",
     "output_type": "stream",
     "text": [
      "\r\n",
      "T00 ERR ...  Regions created\r\n",
      "T00 ERR ... Id: 0 type: qmregion size: 1 charge[e]= 0\r\n",
      "T00 ERR ... Id: 1 type: staticregion size: 328 charge[e]= -7.26640969617e-14\r\n",
      "T00 ERR ... 2025-1-20 6:24:31 Writing jobtopology to QMMM/frame_10000/job_1_static/regions.pdb\r\n",
      "T00 ERR ... 2025-1-20 6:24:31 Only 1 scf region is used. The remaining regions are static. So no inter regions scf is required. \r\n",
      "T00 ERR ... 2025-1-20 6:24:31 --Inter Region SCF Iteration 1 of 1\r\n",
      "T00 ERR ... 2025-1-20 6:24:31 Evaluating qmregion 0\r\n",
      "T00 ERR ... 2025-1-20 6:24:31 Evaluating interaction between qmregion 0 and staticregion 1\r\n",
      "T00 ERR ... Running DFT calculation\r\n",
      "T00 ERR ... 2025-1-20 6:24:31 Using 4 threads\r\n",
      "T00 ERR ... 2025-1-20 6:24:31 Using native Eigen implementation, no BLAS overload \r\n",
      "T00 ERR ...  Molecule Coordinates [A] \r\n",
      "T00 ERR ...   C   +7.2498 +5.9987 +6.9816\r\n",
      "T00 ERR ...   C   +8.3941 +5.2905 +7.2231\r\n",
      "T00 ERR ...   S   +9.4238 +6.1259 +8.2255\r\n",
      "T00 ERR ...   C   +8.4019 +7.4292 +8.3679\r\n",
      "T00 ERR ...   C   +7.2542 +7.2442 +7.6483\r\n",
      "T00 ERR ...   H   +6.4443 +5.6423 +6.3555\r\n",
      "T00 ERR ...   H   +8.6517 +4.3152 +6.8421\r\n",
      "T00 ERR ...   H   +8.6666 +8.2851 +8.9679\r\n",
      "T00 ERR ...   H   +6.4528 +7.9674 +7.5999\r\n",
      "T00 ERR ... 2025-1-20 6:24:31 Loaded DFT Basis Set 3-21G with 57 functions\r\n",
      "T00 ERR ... 2025-1-20 6:24:31 Loaded AUX Basis Set aux-def2-svp with 310 functions\r\n",
      "T00 ERR ... 2025-1-20 6:24:31 Total number of electrons: 44\r\n",
      "T00 ERR ... 2025-1-20 6:24:31 Smallest value of AOOverlap matrix is 0.00446806469875\r\n",
      "T00 ERR ... 2025-1-20 6:24:31 Removed 0 basisfunction from inverse overlap matrix\r\n",
      "T00 ERR ... 2025-1-20 6:24:31 Convergence Options:\r\n",
      "T00 ERR ... \t\t Delta E [Ha]: 1e-07\r\n",
      "T00 ERR ... \t\t DIIS max error: 1e-07\r\n",
      "T00 ERR ... \t\t DIIS histlength: 20\r\n",
      "T00 ERR ... \t\t ADIIS start: 0.8\r\n",
      "T00 ERR ... \t\t DIIS start: 0.002\r\n",
      "T00 ERR ... \t\t Deleting oldest element from DIIS hist\r\n",
      "T00 ERR ... \t\t Levelshift[Ha]: 0\r\n",
      "T00 ERR ... \t\t Levelshift end: 0.2\r\n",
      "T00 ERR ... \t\t Mixing Parameter alpha: 0.7"
     ]
    },
    {
     "name": "stdout",
     "output_type": "stream",
     "text": [
      "\r\n",
      "T00 ERR ... 2025-1-20 6:24:31 Setup invariant parts of Electron Repulsion integrals \r\n",
      "T00 ERR ... 2025-1-20 6:24:31 Constructed independent particle hamiltonian \r\n",
      "T00 ERR ... 2025-1-20 6:24:31 Nuclear Repulsion Energy is 206.268375\r\n",
      "T00 ERR ... 2025-1-20 6:24:31 2952 External sites\r\n",
      "T00 ERR ...  Name      Coordinates[a0]     charge[e]         dipole[e*a0]    \r\n",
      "T00 ERR ...   C   +18.3248 +17.5402 +34.3429   -0.1516   +0.0000 +0.0000 +0.0000\r\n",
      "T00 ERR ...   C   +18.6044 +20.1066 +34.4454   -0.2050   +0.0000 +0.0000 +0.0000\r\n",
      "T00 ERR ...   S   +19.9384 +21.2191 +31.8282   +0.0544   +0.0000 +0.0000 +0.0000\r\n",
      "T00 ERR ...   C   +20.1814 +18.3822 +30.5016   -0.2103   +0.0000 +0.0000 +0.0000\r\n",
      "T00 ERR ...   C   +19.2431 +16.5358 +32.0461   -0.1503   +0.0000 +0.0000 +0.0000\r\n",
      "T00 ERR ...   H   +17.5001 +16.4283 +35.8441   +0.1456   +0.0000 +0.0000 +0.0000\r\n",
      "T00 ERR ...   H   +18.0681 +21.3472 +35.9703   +0.1845   +0.0000 +0.0000 +0.0000\r\n",
      "T00 ERR ...   H   +20.9951 +18.1473 +28.6482   +0.1868   +0.0000 +0.0000 +0.0000\r\n",
      "T00 ERR ...   H   +19.2147 +14.5535 +31.5568   +0.1459   +0.0000 +0.0000 +0.0000\r\n",
      "T00 ERR ...   C   +22.0335 +20.1542 +41.4765   -0.1516   +0.0000 +0.0000 +0.0000\r\n",
      "T00 ERR ...   C   +24.5937 +19.9804 +41.1755   -0.2050   +0.0000 +0.0000 +0.0000\r\n",
      "T00 ERR ...   S   +25.4180 +17.2059 +39.9548   +0.0544   +0.0000 +0.0000 +0.0000\r\n",
      "T00 ERR ...   C   +22.4578 +16.1682 +39.7901   -0.2103   +0.0000 +0.0000 +0.0000\r\n",
      "T00 ERR ...   C   +20.7895 +17.9342 +40.6696   -0.1503   +0.0000 +0.0000 +0.0000\r\n",
      "T00 ERR ...   H   +21.0903 +21.7964 +42.2403   +0.1456   +0.0000 +0.0000 +0.0000\r\n",
      "T00 ERR ...   H   +25.9897 +21.3919 +41.6348   +0.1845   +0.0000 +0.0000 +0.0000\r\n",
      "T00 ERR ...   H   +22.0255 +14.3148 +39.0618   +0.1868   +0.0000 +0.0000 +0.0000\r\n",
      "T00 ERR ...   H   +18.7681 +17.6521 +40.7346   +0.1459   +0.0000 +0.0000 +0.0000\r\n",
      "T00 ERR ...   C   +19.6078 +24.7292 +52.6320   -0.1516   +0.0000 +0.0000 +0.0000\r\n",
      "T00 ERR ...   C   +17.8102 +23.8265 +51.0106   -0.2050   +0.0000 +0.0000 +0.0000\r\n",
      "T00 ERR ...   S   +17.9392 +25.2838 +48.2309   +0.0544   +0.0000 +0.0000 +0.0000\r\n",
      "T00 ERR ...   C   +20.3405 +27.1237 +49.0766   -0.2103   +0.0000 +0.0000 +0.0000\r\n",
      "T00 ERR ...   C   +21.0815 +26.6494 +51.5058   -0.1503   +0.0000 +0.0000 +0.0000\r\n",
      "T00 ERR ...   H   +19.8589 +24.0473 +54.5404   +0.1456   +0.0000 +0.0000 +0.0000\r\n",
      "T00 ERR ...   H   +16.4375 +22.3660 +51.3779   +0.1845   +0.0000 +0.0000 +0.0000\r\n",
      "T00 ERR ...   H   +21.1346 +28.4863 +47.7863   +0.1868   +0.0000 +0.0000 +0.0000\r\n",
      "T00 ERR ...   H   +22.6095 +27.6321 +52.4382   +0.1459   +0.0000 +0.0000 +0.0000\r\n",
      "T00 ERR ...   C   +13.7490 +21.8636 +57.0755   -0.1516   +0.0000 +0.0000 +0.0000\r\n",
      "T00 ERR ...   C   +11.4881 +22.6596 +56.1111   -0.2050   +0.0000 +0.0000 +0.0000\r\n",
      "T00 ERR ...   S   +10.5463 +20.8289 +53.7387   +0.0544   +0.0000 +0.0000 +0.0000\r\n",
      "T00 ERR ...   C   +13.0627 +18.9570 +53.9144   -0.2103   +0.0000 +0.0000 +0.0000\r\n",
      "T00 ERR ...   C   +14.6661 +19.7073 +55.7963   -0.1503   +0.0000 +0.0000 +0.0000\r\n",
      "T00 ERR ...   H   +14.7065 +22.7824 +58.6276   +0.1456   +0.0000 +0.0000 +0.0000\r\n",
      "T00 ERR ...   H   +10.3742 +24.2506 +56.7277   +0.1845   +0.0000 +0.0000 +0.0000\r\n",
      "T00 ERR ...   H   +13.2959 +17.3766 +52.6495   +0.1868   +0.0000 +0.0000 +0.0000\r\n",
      "T00 ERR ...   H   +16.4186 +18.7575 +56.2394   +0.1459   +0.0000 +0.0000 +0.0000\r\n",
      "T00 ERR ...   C   +9.8084 +9.6993 -7.8205   -0.1516   +0.0000 +0.0000 +0.0000\r\n",
      "T00 ERR ...   C   +12.3580 +10.1170 -7.8452   -0.2050   +0.0000 +0.0000 +0.0000\r\n",
      "T00 ERR ...   S   +13.1603 +12.1731 -10.0803   +0.0544   +0.0000 +0.0000 +0.0000\r\n",
      "T00 ERR ...   C   +10.2040 +12.5665 -11.0662   -0.2103   +0.0000 +0.0000 +0.0000\r\n",
      "T00 ERR ...   C   +8.5538 +11.1258 -9.6962   -0.1503   +0.0000 +0.0000 +0.0000\r\n",
      "T00 ERR ...   H   +8.8798 +8.4293 -6.5187   +0.1456   +0.0000 +0.0000 +0.0000\r\n",
      "T00 ERR ...   H   +13.7584 +9.2792 -6.6249   +0.1845   +0.0000 +0.0000 +0.0000\r\n",
      "T00 ERR ...   H   +9.7606 +13.8276 -12.6041   +0.1868   +0.0000 +0.0000 +0.0000\r\n",
      "T00 ERR ...   H   +6.5380 +11.0918 -10.0204   +0.1459   +0.0000 +0.0000 +0.0000\r\n",
      "T00 ERR ...   C   +18.5877 +16.1643 -12.6076   -0.1516   +0.0000 +0.0000 +0.0000\r\n",
      "T00 ERR ...   C   +18.4913 +17.8258 -10.6313   -0.2050   +0.0000 +0.0000 +0.0000\r\n",
      "T00 ERR ...   S   +20.4334 +20.2534 -11.0799   +0.0544   +0.0000 +0.0000 +0.0000\r\n",
      "T00 ERR ...   C   +21.4437 +19.1954 -13.8596   -0.2103   +0.0000 +0.0000 +0.0000\r\n",
      "T00 ERR ...   C   +20.3070 +16.9618 -14.4877   -0.1503   +0.0000 +0.0000 +0.0000\r\n",
      "T00 ERR ...               ... (2902 sites not displayed)\r\n"
     ]
    },
    {
     "name": "stdout",
     "output_type": "stream",
     "text": [
      "\r\n",
      "T00 ERR ... 2025-1-20 6:24:32 Filled DFT external multipole potential matrix\r\n",
      "T00 ERR ... 2025-1-20 6:24:32 Nuclei-external site interaction energy 0.0020705494\r\n",
      "T00 ERR ... 2025-1-20 6:24:32 Using hybrid functional with alpha=0.25"
     ]
    },
    {
     "name": "stdout",
     "output_type": "stream",
     "text": [
      "\r\n",
      "T00 ERR ... 2025-1-20 6:24:32 Setup numerical integration grid medium for vxc functional XC_HYB_GGA_XC_PBEH\r\n",
      "T00 ERR ... 2025-1-20 6:24:32 Setup Initial Guess using: atom\r\n",
      "T00 ERR ... 2025-1-20 6:24:32 Calculating atom density for C"
     ]
    },
    {
     "name": "stdout",
     "output_type": "stream",
     "text": [
      "\r\n",
      "T00 ERR ... 2025-1-20 6:24:33 Calculating atom density for S"
     ]
    },
    {
     "name": "stdout",
     "output_type": "stream",
     "text": [
      "\r\n",
      "T00 ERR ... 2025-1-20 6:24:34 Calculating atom density for H"
     ]
    },
    {
     "name": "stdout",
     "output_type": "stream",
     "text": [
      "\r\n",
      "T00 ERR ... 2025-1-20 6:24:35 STARTING SCF cycle\r\n",
      "T00 ERR ...  --------------------------------------------------------------------------\r\n",
      "T00 ERR ... \r\n",
      "T00 ERR ... 2025-1-20 6:24:35 Iteration 1 of 100"
     ]
    },
    {
     "name": "stdout",
     "output_type": "stream",
     "text": [
      "\r\n",
      "T00 ERR ... 2025-1-20 6:24:35 Total Energy -550.085568307\r\n",
      "T00 ERR ... 2025-1-20 6:24:35 DIIs error 0.199813686902\r\n",
      "T00 ERR ... 2025-1-20 6:24:35 Delta Etot 0\r\n",
      "T00 ERR ... \r\n",
      "T00 ERR ... 2025-1-20 6:24:35 Iteration 2 of 100"
     ]
    },
    {
     "name": "stdout",
     "output_type": "stream",
     "text": [
      "\r\n",
      "T00 ERR ... 2025-1-20 6:24:35 Total Energy -550.149966224\r\n",
      "T00 ERR ... 2025-1-20 6:24:35 DIIs error 0.1259487816\r\n",
      "T00 ERR ... 2025-1-20 6:24:35 Delta Etot -0.0643979164372\r\n",
      "T00 ERR ... \r\n",
      "T00 ERR ... 2025-1-20 6:24:35 Iteration 3 of 100"
     ]
    },
    {
     "name": "stdout",
     "output_type": "stream",
     "text": [
      "\r\n",
      "T00 ERR ... 2025-1-20 6:24:35 Total Energy -550.183102233\r\n",
      "T00 ERR ... 2025-1-20 6:24:35 DIIs error 0.0830856173015\r\n",
      "T00 ERR ... 2025-1-20 6:24:35 Delta Etot -0.0331360088489\r\n",
      "T00 ERR ... "
     ]
    },
    {
     "name": "stdout",
     "output_type": "stream",
     "text": [
      "\r\n",
      "T00 ERR ... 2025-1-20 6:24:35 Iteration 4 of 100"
     ]
    },
    {
     "name": "stdout",
     "output_type": "stream",
     "text": [
      "\r\n",
      "T00 ERR ... 2025-1-20 6:24:35 Total Energy -550.248482102\r\n",
      "T00 ERR ... 2025-1-20 6:24:35 DIIs error 0.0178593731331\r\n",
      "T00 ERR ... 2025-1-20 6:24:35 Delta Etot -0.0653798694794\r\n",
      "T00 ERR ... \r\n",
      "T00 ERR ... 2025-1-20 6:24:35 Iteration 5 of 100"
     ]
    },
    {
     "name": "stdout",
     "output_type": "stream",
     "text": [
      "\r\n",
      "T00 ERR ... 2025-1-20 6:24:35 Total Energy -550.249359132\r\n",
      "T00 ERR ... 2025-1-20 6:24:35 DIIs error 0.0151290032434\r\n",
      "T00 ERR ... 2025-1-20 6:24:35 Delta Etot -0.000877030219272\r\n",
      "T00 ERR ... \r\n",
      "T00 ERR ... 2025-1-20 6:24:35 Iteration 6 of 100"
     ]
    },
    {
     "name": "stdout",
     "output_type": "stream",
     "text": [
      "\r\n",
      "T00 ERR ... 2025-1-20 6:24:36 Total Energy -550.251505345\r\n",
      "T00 ERR ... 2025-1-20 6:24:36 DIIs error 0.00316902860153\r\n",
      "T00 ERR ... 2025-1-20 6:24:36 Delta Etot -0.00214621286261\r\n",
      "T00 ERR ... \r\n",
      "T00 ERR ... 2025-1-20 6:24:36 Iteration 7 of 100"
     ]
    },
    {
     "name": "stdout",
     "output_type": "stream",
     "text": [
      "\r\n",
      "T00 ERR ... 2025-1-20 6:24:36 Total Energy -550.251335563\r\n",
      "T00 ERR ... 2025-1-20 6:24:36 DIIs error 0.00439598524466\r\n",
      "T00 ERR ... 2025-1-20 6:24:36 Delta Etot 0.000169782596004\r\n",
      "T00 ERR ... \r\n",
      "T00 ERR ... 2025-1-20 6:24:36 Iteration 8 of 100"
     ]
    },
    {
     "name": "stdout",
     "output_type": "stream",
     "text": [
      "\r\n",
      "T00 ERR ... 2025-1-20 6:24:36 Total Energy -550.251637988\r\n",
      "T00 ERR ... 2025-1-20 6:24:36 DIIs error 0.000892710697808\r\n",
      "T00 ERR ... 2025-1-20 6:24:36 Delta Etot -0.000302425523842\r\n",
      "T00 ERR ... \r\n",
      "T00 ERR ... 2025-1-20 6:24:36 Iteration 9 of 100"
     ]
    },
    {
     "name": "stdout",
     "output_type": "stream",
     "text": [
      "\r\n",
      "T00 ERR ... 2025-1-20 6:24:36 Total Energy -550.251646292\r\n",
      "T00 ERR ... 2025-1-20 6:24:36 DIIs error 1.59060070021e-05\r\n",
      "T00 ERR ... 2025-1-20 6:24:36 Delta Etot -8.30335204682e-06\r\n",
      "T00 ERR ... \r\n",
      "T00 ERR ... 2025-1-20 6:24:36 Iteration 10 of 100"
     ]
    },
    {
     "name": "stdout",
     "output_type": "stream",
     "text": [
      "\r\n",
      "T00 ERR ... 2025-1-20 6:24:36 Total Energy -550.251646294\r\n",
      "T00 ERR ... 2025-1-20 6:24:36 DIIs error 9.32906566198e-06\r\n",
      "T00 ERR ... 2025-1-20 6:24:36 Delta Etot -2.04352090805e-09\r\n",
      "T00 ERR ... \r\n",
      "T00 ERR ... 2025-1-20 6:24:36 Iteration 11 of 100"
     ]
    },
    {
     "name": "stdout",
     "output_type": "stream",
     "text": [
      "\r\n",
      "T00 ERR ... 2025-1-20 6:24:36 Total Energy -550.251646294\r\n",
      "T00 ERR ... 2025-1-20 6:24:36 DIIs error 3.19171038183e-06\r\n",
      "T00 ERR ... 2025-1-20 6:24:36 Delta Etot -7.30892679712e-10\r\n",
      "T00 ERR ... \r\n",
      "T00 ERR ... 2025-1-20 6:24:36 Iteration 12 of 100"
     ]
    },
    {
     "name": "stdout",
     "output_type": "stream",
     "text": [
      "\r\n",
      "T00 ERR ... 2025-1-20 6:24:37 Total Energy -550.251646295\r\n",
      "T00 ERR ... 2025-1-20 6:24:37 DIIs error 3.41304245208e-07\r\n",
      "T00 ERR ... 2025-1-20 6:24:37 Delta Etot -1.27101884573e-10\r\n",
      "T00 ERR ... \r\n",
      "T00 ERR ... 2025-1-20 6:24:37 Iteration 13 of 100"
     ]
    },
    {
     "name": "stdout",
     "output_type": "stream",
     "text": [
      "\r\n",
      "T00 ERR ... 2025-1-20 6:24:37 Total Energy -550.251646295\r\n",
      "T00 ERR ... 2025-1-20 6:24:37 DIIs error 2.12495331118e-07\r\n",
      "T00 ERR ... 2025-1-20 6:24:37 Delta Etot -1.13686837722e-13\r\n",
      "T00 ERR ... \r\n",
      "T00 ERR ... 2025-1-20 6:24:37 Iteration 14 of 100"
     ]
    },
    {
     "name": "stdout",
     "output_type": "stream",
     "text": [
      "\r\n",
      "T00 ERR ... 2025-1-20 6:24:37 Total Energy -550.251646295\r\n",
      "T00 ERR ... 2025-1-20 6:24:37 DIIs error 2.27911930285e-08\r\n",
      "T00 ERR ... 2025-1-20 6:24:37 Delta Etot -1.36424205266e-12\r\n",
      "T00 ERR ... 2025-1-20 6:24:37 Total Energy has converged to -1.36424205e-12[Ha] after 14 iterations. DIIS error is converged up to 2.2791193e-08\r\n",
      "T00 ERR ... 2025-1-20 6:24:37 Final Single Point Energy -550.251646295 Ha\r\n",
      "T00 ERR ... 2025-1-20 6:24:37 Final Local Exc contribution -36.714180508 Ha\r\n",
      "T00 ERR ... 2025-1-20 6:24:37 Final Non Local Ex contribution -11.5452624665 Ha\r\n",
      "T00 ERR ...   Orbital energies: \r\n",
      "T00 ERR ...   index occupation energy(Hartree) \r\n",
      "T00 ERR ...      0      2   -88.9723078261\r\n",
      "T00 ERR ...      1      2   -10.2032400628\r\n",
      "T00 ERR ...      2      2   -10.2023544656\r\n",
      "T00 ERR ...      3      2   -10.1803336366\r\n",
      "T00 ERR ...      4      2   -10.1790632426\r\n",
      "T00 ERR ...      5      2   -7.9919568882\r\n",
      "T00 ERR ...      6      2   -5.9016303907\r\n",
      "T00 ERR ...      7      2   -5.8967177728\r\n",
      "T00 ERR ...      8      2   -5.8919200079\r\n",
      "T00 ERR ...      9      2   -0.9472522819\r\n",
      "T00 ERR ...     10      2   -0.7714496451\r\n",
      "T00 ERR ...     11      2   -0.7557864284\r\n",
      "T00 ERR ...     12      2   -0.5806225847\r\n",
      "T00 ERR ...     13      2   -0.5794326008\r\n",
      "T00 ERR ...     14      2   -0.5384359634\r\n",
      "T00 ERR ...     15      2   -0.4327963488\r\n",
      "T00 ERR ...     16      2   -0.4115911646\r\n",
      "T00 ERR ...     17      2   -0.4076589861\r\n",
      "T00 ERR ...     18      2   -0.4072282727\r\n",
      "T00 ERR ...     19      2   -0.3558393387\r\n",
      "T00 ERR ...     20      2   -0.2670710521\r\n",
      "T00 ERR ...     21      2   -0.2509345353\r\n",
      "T00 ERR ...     22      0   +0.0056571952\r\n",
      "T00 ERR ...     23      0   +0.0867531963\r\n",
      "T00 ERR ...     24      0   +0.0870268023\r\n",
      "T00 ERR ...     25      0   +0.1378037104\r\n",
      "T00 ERR ...     26      0   +0.1496892597\r\n",
      "T00 ERR ...     27      0   +0.1945517554\r\n",
      "T00 ERR ...     28      0   +0.2227581095\r\n",
      "T00 ERR ...     29      0   +0.2321638214\r\n",
      "T00 ERR ...     30      0   +0.3044052467\r\n",
      "T00 ERR ...     31      0   +0.3734546410\r\n",
      "T00 ERR ...     32      0   +0.4525747299\r\n",
      "T00 ERR ...     33      0   +0.4815504594\r\n",
      "T00 ERR ...     34      0   +0.5291839964\r\n",
      "T00 ERR ...     35      0   +0.5513239728\r\n",
      "T00 ERR ...     36      0   +0.5680135667\r\n",
      "T00 ERR ...     37      0   +0.7010333633\r\n",
      "T00 ERR ...     38      0   +0.7462432489\r\n",
      "T00 ERR ...     39      0   +0.7524932563\r\n",
      "T00 ERR ...     40      0   +0.7610971655\r\n",
      "T00 ERR ...     41      0   +0.7848198248\r\n",
      "T00 ERR ...     42      0   +0.8213619662\r\n",
      "T00 ERR ...     43      0   +0.8391557910\r\n",
      "T00 ERR ...     44      0   +0.8586635920\r\n",
      "T00 ERR ...     45      0   +1.0090351355\r\n",
      "T00 ERR ...     46      0   +1.0276061538\r\n",
      "T00 ERR ...     47      0   +1.0469153573\r\n",
      "T00 ERR ...     48      0   +1.0811167466\r\n",
      "T00 ERR ...     49      0   +1.0847244859\r\n",
      "T00 ERR ...     50      0   +1.2748601098\r\n",
      "T00 ERR ...     51      0   +1.3650909365\r\n",
      "T00 ERR ...     52      0   +1.4129245132\r\n",
      "T00 ERR ...     53      0   +1.4372408780\r\n",
      "T00 ERR ...     54      0   +1.6255836440\r\n",
      "T00 ERR ...     55      0   +1.8651641973\r\n",
      "T00 ERR ...     56      0   +1.9759184857\r\n",
      "T00 ERR ... 2025-1-20 6:24:37 Electric Dipole is[e*bohr]:\r\n",
      "\t\t dx=-0.24428684741\r\n",
      "\t\t dy=0.0461309778207\r\n",
      "\t\t dz=-0.127185037769\r\n",
      "T00 ERR ... Writing result to temp.orb\r\n",
      "T00 ERR ... 2025-1-20 6:24:37 DFT calculation took 6.14006643 seconds.\r\n",
      "T00 ERR ... 2025-1-20 6:24:37 RPA level range [0:56]\r\n",
      "T00 ERR ... 2025-1-20 6:24:37 GW  level range [0:56]\r\n",
      "T00 ERR ... 2025-1-20 6:24:37 BSE level range occ[0:21]  virt[22:56]\r\n",
      "T00 ERR ...  BSE type: full\r\n",
      "T00 ERR ... 2025-1-20 6:24:37 BSE Hamiltonian has size 1540x1540\r\n",
      "T00 ERR ...  BSE without Hqp offdiagonal elements\r\n",
      "T00 ERR ...  Running GW as: G0W0\r\n",
      "T00 ERR ...  qp_sc_limit [Hartree]: 1e-05\r\n",
      "T00 ERR ...  Tasks: \r\n",
      "T00 ERR ...  GW \r\n",
      "T00 ERR ...  singlets \r\n",
      "T00 ERR ...  triplets \r\n",
      "T00 ERR ...  Store: \r\n",
      "T00 ERR ...  GW \r\n",
      "T00 ERR ...  Sigma integration: ppm\r\n",
      "T00 ERR ...  eta: 0.001\r\n",
      "T00 ERR ...  QP solver: grid\r\n",
      "T00 ERR ...  QP grid steps: 1001\r\n",
      "T00 ERR ...  QP grid spacing: 0.001\r\n",
      "T00 ERR ... 2025-1-20 6:24:37 Using 4 threads\r\n",
      "T00 ERR ... 2025-1-20 6:24:37 Using native Eigen implementation, no BLAS overload \r\n",
      "T00 ERR ... 2025-1-20 6:24:37 Molecule Coordinates [A] \r\n",
      "T00 ERR ...     0    C   7.2498 5.9987 6.9816\r\n",
      "T00 ERR ...     1    C   8.3941 5.2905 7.2231\r\n",
      "T00 ERR ...     2    S   9.4238 6.1259 8.2255\r\n",
      "T00 ERR ...     3    C   8.4019 7.4292 8.3679\r\n",
      "T00 ERR ...     4    C   7.2542 7.2442 7.6483\r\n",
      "T00 ERR ...     5    H   6.4443 5.6423 6.3555\r\n",
      "T00 ERR ...     6    H   8.6517 4.3152 6.8421\r\n",
      "T00 ERR ...     7    H   8.6666 8.2851 8.9679\r\n",
      "T00 ERR ...     8    H   6.4528 7.9674 7.5999\r\n",
      "T00 ERR ... 2025-1-20 6:24:37 DFT data was created by xtp\r\n",
      "T00 ERR ... 2025-1-20 6:24:37 Loaded DFT Basis Set 3-21G\r\n",
      "T00 ERR ... 2025-1-20 6:24:37 Filled DFT Basis of size 57\r\n",
      "T00 ERR ... 2025-1-20 6:24:37 Loaded Auxbasis Set aux-def2-svp"
     ]
    },
    {
     "name": "stdout",
     "output_type": "stream",
     "text": [
      "\r\n",
      "T00 ERR ... 2025-1-20 6:24:37 Filled Auxbasis of size 310\r\n",
      "T00 ERR ... 2025-1-20 6:24:37 Calculating Mmn_beta (3-center-repulsion x orbitals)  "
     ]
    },
    {
     "name": "stdout",
     "output_type": "stream",
     "text": [
      "\r\n",
      "T00 ERR ... 2025-1-20 6:24:37 Calculated Mmn_beta (3-center-repulsion x orbitals)  "
     ]
    },
    {
     "name": "stdout",
     "output_type": "stream",
     "text": [
      "\r\n",
      "T00 ERR ... 2025-1-20 6:24:37 Integrating Vxc with functional XC_HYB_GGA_XC_PBEH"
     ]
    },
    {
     "name": "stdout",
     "output_type": "stream",
     "text": [
      "\r\n",
      "T00 ERR ... 2025-1-20 6:24:37 Set hybrid exchange factor: 0.25\r\n",
      "T00 ERR ... 2025-1-20 6:24:37 Calculated exchange-correlation expectation values \r\n",
      "T00 ERR ... 2025-1-20 6:24:37 Calculated Hartree exchange contribution\r\n",
      "T00 ERR ... 2025-1-20 6:24:37 Scissor shifting DFT energies by: 0 Hrt"
     ]
    },
    {
     "name": "stdout",
     "output_type": "stream",
     "text": [
      "\r\n",
      "T00 ERR ... 2025-1-20 6:24:38 Not converged PQP states are:0\r\n",
      "T00 ERR ... 2025-1-20 6:24:38 Increase the grid search interval\r\n"
     ]
    },
    {
     "name": "stdout",
     "output_type": "stream",
     "text": [
      "T00 ERR ...   ====== Perturbative quasiparticle energies (Hartree) ====== \r\n",
      "T00 ERR ...    DeltaHLGap = +0.166652 Hartree\r\n",
      "T00 ERR ...   Level =    0 DFT = -88.9723 VXC = -4.8359 S-X = -7.2740 S-C = -11.0373 GWA = -102.4478\r\n",
      "T00 ERR ...   Level =    1 DFT = -10.2032 VXC = -1.7037 S-X = -2.6702 S-C = +0.6561 GWA = -10.5137\r\n",
      "T00 ERR ...   Level =    2 DFT = -10.2024 VXC = -1.7037 S-X = -2.6703 S-C = +0.6558 GWA = -10.5131\r\n",
      "T00 ERR ...   Level =    3 DFT = -10.1803 VXC = -1.7034 S-X = -2.6695 S-C = +0.6379 GWA = -10.5086\r\n",
      "T00 ERR ...   Level =    4 DFT = -10.1791 VXC = -1.7038 S-X = -2.6706 S-C = +0.6378 GWA = -10.5081\r\n",
      "T00 ERR ...   Level =    5 DFT = -7.9920 VXC = -1.5790 S-X = -2.5124 S-C = +0.5136 GWA = -8.4118\r\n",
      "T00 ERR ...   Level =    6 DFT = -5.9016 VXC = -1.5781 S-X = -2.1975 S-C = +0.4097 GWA = -6.1114\r\n",
      "T00 ERR ...   Level =    7 DFT = -5.8967 VXC = -1.5795 S-X = -2.2026 S-C = +0.4115 GWA = -6.1084\r\n",
      "T00 ERR ...   Level =    8 DFT = -5.8919 VXC = -1.5816 S-X = -2.2056 S-C = +0.4157 GWA = -6.1002\r\n",
      "T00 ERR ...   Level =    9 DFT = -0.9473 VXC = -0.4799 S-X = -0.7210 S-C = +0.2330 GWA = -0.9553\r\n",
      "T00 ERR ...   Level =   10 DFT = -0.7714 VXC = -0.4803 S-X = -0.6937 S-C = +0.1704 GWA = -0.8145\r\n",
      "T00 ERR ...   Level =   11 DFT = -0.7558 VXC = -0.4745 S-X = -0.6891 S-C = +0.1622 GWA = -0.8082\r\n",
      "T00 ERR ...   Level =   12 DFT = -0.5806 VXC = -0.4482 S-X = -0.6076 S-C = +0.0985 GWA = -0.6415\r\n",
      "T00 ERR ...   Level =   13 DFT = -0.5794 VXC = -0.4493 S-X = -0.6150 S-C = +0.1052 GWA = -0.6400\r\n",
      "T00 ERR ...   Level =   14 DFT = -0.5384 VXC = -0.4240 S-X = -0.5776 S-C = +0.0927 GWA = -0.5993\r\n",
      "T00 ERR ...   Level =   15 DFT = -0.4328 VXC = -0.4384 S-X = -0.5649 S-C = +0.0647 GWA = -0.4946\r\n",
      "T00 ERR ...   Level =   16 DFT = -0.4116 VXC = -0.3868 S-X = -0.5023 S-C = +0.0723 GWA = -0.4548\r\n",
      "T00 ERR ...   Level =   17 DFT = -0.4077 VXC = -0.4430 S-X = -0.5578 S-C = +0.0566 GWA = -0.4659\r\n",
      "T00 ERR ...   Level =   18 DFT = -0.4072 VXC = -0.4460 S-X = -0.5653 S-C = +0.0613 GWA = -0.4652\r\n",
      "T00 ERR ...   Level =   19 DFT = -0.3558 VXC = -0.4414 S-X = -0.5429 S-C = +0.0525 GWA = -0.4049\r\n",
      "T00 ERR ...   Level =   20 DFT = -0.2671 VXC = -0.3973 S-X = -0.4664 S-C = +0.0271 GWA = -0.3090\r\n",
      "T00 ERR ...   HOMO  =   21 DFT = -0.2509 VXC = -0.3914 S-X = -0.4595 S-C = +0.0212 GWA = -0.2978\r\n",
      "T00 ERR ...   LUMO  =   22 DFT = +0.0057 VXC = -0.3946 S-X = -0.2490 S-C = -0.0259 GWA = +0.1254\r\n",
      "T00 ERR ...   Level =   23 DFT = +0.0868 VXC = -0.3640 S-X = -0.1996 S-C = -0.0456 GWA = +0.2056\r\n",
      "T00 ERR ...   Level =   24 DFT = +0.0870 VXC = -0.3765 S-X = -0.2055 S-C = -0.0542 GWA = +0.2038\r\n",
      "T00 ERR ...   Level =   25 DFT = +0.1378 VXC = -0.2729 S-X = -0.1243 S-C = -0.0457 GWA = +0.2407\r\n",
      "T00 ERR ...   Level =   26 DFT = +0.1497 VXC = -0.3467 S-X = -0.1814 S-C = -0.0482 GWA = +0.2669\r\n",
      "T00 ERR ...   Level =   27 DFT = +0.1946 VXC = -0.2680 S-X = -0.1133 S-C = -0.0525 GWA = +0.2968\r\n",
      "T00 ERR ...   Level =   28 DFT = +0.2228 VXC = -0.2808 S-X = -0.1246 S-C = -0.0568 GWA = +0.3222\r\n",
      "T00 ERR ...   Level =   29 DFT = +0.2322 VXC = -0.2666 S-X = -0.1124 S-C = -0.0517 GWA = +0.3346\r\n",
      "T00 ERR ...   Level =   30 DFT = +0.3044 VXC = -0.3264 S-X = -0.1543 S-C = -0.0498 GWA = +0.4267\r\n",
      "T00 ERR ...   Level =   31 DFT = +0.3735 VXC = -0.3214 S-X = -0.1427 S-C = -0.0608 GWA = +0.4913\r\n",
      "T00 ERR ...   Level =   32 DFT = +0.4526 VXC = -0.3243 S-X = -0.1428 S-C = -0.0673 GWA = +0.5667\r\n",
      "T00 ERR ...   Level =   33 DFT = +0.4816 VXC = -0.3849 S-X = -0.1684 S-C = -0.0916 GWA = +0.6065\r\n",
      "T00 ERR ...   Level =   34 DFT = +0.5292 VXC = -0.3415 S-X = -0.1426 S-C = -0.0720 GWA = +0.6561\r\n",
      "T00 ERR ...   Level =   35 DFT = +0.5513 VXC = -0.3926 S-X = -0.1774 S-C = -0.0897 GWA = +0.6769\r\n",
      "T00 ERR ...   Level =   36 DFT = +0.5680 VXC = -0.4080 S-X = -0.1807 S-C = -0.1130 GWA = +0.6823\r\n",
      "T00 ERR ...   Level =   37 DFT = +0.7010 VXC = -0.3643 S-X = -0.1342 S-C = -0.1266 GWA = +0.8045\r\n",
      "T00 ERR ...   Level =   38 DFT = +0.7462 VXC = -0.3435 S-X = -0.1266 S-C = -0.0989 GWA = +0.8643\r\n",
      "T00 ERR ...   Level =   39 DFT = +0.7525 VXC = -0.3741 S-X = -0.1230 S-C = -0.2006 GWA = +0.8030\r\n",
      "T00 ERR ...   Level =   40 DFT = +0.7611 VXC = -0.4105 S-X = -0.1578 S-C = -0.1470 GWA = +0.8668\r\n",
      "T00 ERR ...   Level =   41 DFT = +0.7848 VXC = -0.3753 S-X = -0.1217 S-C = -0.2578 GWA = +0.7807\r\n",
      "T00 ERR ...   Level =   42 DFT = +0.8214 VXC = -0.4308 S-X = -0.1626 S-C = -0.1320 GWA = +0.9576\r\n",
      "T00 ERR ...   Level =   43 DFT = +0.8392 VXC = -0.3740 S-X = -0.1155 S-C = -0.1590 GWA = +0.9387\r\n",
      "T00 ERR ...   Level =   44 DFT = +0.8587 VXC = -0.3709 S-X = -0.1131 S-C = -0.2285 GWA = +0.8879\r\n",
      "T00 ERR ...   Level =   45 DFT = +1.0090 VXC = -0.3985 S-X = -0.1291 S-C = -0.1827 GWA = +1.0956\r\n",
      "T00 ERR ...   Level =   46 DFT = +1.0276 VXC = -0.4396 S-X = -0.1525 S-C = -0.2918 GWA = +1.0229\r\n",
      "T00 ERR ...   Level =   47 DFT = +1.0469 VXC = -0.4113 S-X = -0.1357 S-C = -0.1339 GWA = +1.1886\r\n",
      "T00 ERR ...   Level =   48 DFT = +1.0811 VXC = -0.4075 S-X = -0.1327 S-C = -0.1572 GWA = +1.1987\r\n",
      "T00 ERR ...   Level =   49 DFT = +1.0847 VXC = -0.4056 S-X = -0.1321 S-C = -0.2067 GWA = +1.1516\r\n",
      "T00 ERR ...   Level =   50 DFT = +1.2749 VXC = -0.3326 S-X = -0.0875 S-C = -0.1072 GWA = +1.4128\r\n",
      "T00 ERR ...   Level =   51 DFT = +1.3651 VXC = -0.3460 S-X = -0.0947 S-C = -0.1598 GWA = +1.4566\r\n",
      "T00 ERR ...   Level =   52 DFT = +1.4129 VXC = -0.3314 S-X = -0.0809 S-C = -0.1788 GWA = +1.4847\r\n",
      "T00 ERR ...   Level =   53 DFT = +1.4372 VXC = -0.3733 S-X = -0.1226 S-C = -0.2209 GWA = +1.4670\r\n",
      "T00 ERR ...   Level =   54 DFT = +1.6256 VXC = -0.3929 S-X = -0.1275 S-C = -0.0612 GWA = +1.8298\r\n",
      "T00 ERR ...   Level =   55 DFT = +1.8652 VXC = -0.3878 S-X = -0.1149 S-C = +0.0083 GWA = +2.1464\r\n",
      "T00 ERR ...   Level =   56 DFT = +1.9759 VXC = -0.3805 S-X = -0.1061 S-C = -0.0419 GWA = +2.2084\r\n",
      "T00 ERR ... 2025-1-20 6:24:38 Calculated offdiagonal part of Sigma  \r\n",
      "T00 ERR ... 2025-1-20 6:24:38 Full quasiparticle Hamiltonian  \r\n",
      "T00 ERR ...   ====== Diagonalized quasiparticle energies (Hartree) ====== \r\n",
      "T00 ERR ...   Level =    0 PQP = -102.447805 DQP = -102.447831 \r\n",
      "T00 ERR ...   Level =    1 PQP = -10.513718 DQP = -10.514032 \r\n",
      "T00 ERR ...   Level =    2 PQP = -10.513130 DQP = -10.513425 \r\n",
      "T00 ERR ...   Level =    3 PQP = -10.508559 DQP = -10.509001 \r\n",
      "T00 ERR ...   Level =    4 PQP = -10.508055 DQP = -10.508143 \r\n",
      "T00 ERR ...   Level =    5 PQP = -8.411813 DQP = -8.412154 \r\n",
      "T00 ERR ...   Level =    6 PQP = -6.111423 DQP = -6.111440 \r\n",
      "T00 ERR ...   Level =    7 PQP = -6.108367 DQP = -6.108368 \r\n",
      "T00 ERR ...   Level =    8 PQP = -6.100213 DQP = -6.100216 \r\n",
      "T00 ERR ...   Level =    9 PQP = -0.955318 DQP = -0.960029 \r\n",
      "T00 ERR ...   Level =   10 PQP = -0.814459 DQP = -0.814756 \r\n",
      "T00 ERR ...   Level =   11 PQP = -0.808180 DQP = -0.811943 \r\n",
      "T00 ERR ...   Level =   12 PQP = -0.641545 DQP = -0.645517 \r\n",
      "T00 ERR ...   Level =   13 PQP = -0.639954 DQP = -0.641516 \r\n",
      "T00 ERR ...   Level =   14 PQP = -0.599327 DQP = -0.600366 \r\n",
      "T00 ERR ...   Level =   15 PQP = -0.494597 DQP = -0.496135 \r\n",
      "T00 ERR ...   Level =   16 PQP = -0.454808 DQP = -0.471742 \r\n",
      "T00 ERR ...   Level =   17 PQP = -0.465870 DQP = -0.465441 \r\n",
      "T00 ERR ...   Level =   18 PQP = -0.465174 DQP = -0.459773 \r\n",
      "T00 ERR ...   Level =   19 PQP = -0.404881 DQP = -0.408298 \r\n",
      "T00 ERR ...   Level =   20 PQP = -0.309028 DQP = -0.319599 \r\n",
      "T00 ERR ...   HOMO  =   21 PQP = -0.297819 DQP = -0.314219 \r\n",
      "T00 ERR ...   LUMO  =   22 PQP = +0.125425 DQP = +0.121672 \r\n",
      "T00 ERR ...   Level =   23 PQP = +0.205556 DQP = +0.190906 \r\n",
      "T00 ERR ...   Level =   24 PQP = +0.203848 DQP = +0.203966 \r\n",
      "T00 ERR ...   Level =   25 PQP = +0.240731 DQP = +0.223554 \r\n",
      "T00 ERR ...   Level =   26 PQP = +0.266855 DQP = +0.262613 \r\n",
      "T00 ERR ...   Level =   27 PQP = +0.296765 DQP = +0.287357 \r\n",
      "T00 ERR ...   Level =   28 PQP = +0.322174 DQP = +0.316587 \r\n",
      "T00 ERR ...   Level =   29 PQP = +0.334649 DQP = +0.333835 \r\n",
      "T00 ERR ...   Level =   30 PQP = +0.426714 DQP = +0.415666 \r\n",
      "T00 ERR ...   Level =   31 PQP = +0.491314 DQP = +0.483664 \r\n",
      "T00 ERR ...   Level =   32 PQP = +0.566722 DQP = +0.563106 \r\n",
      "T00 ERR ...   Level =   33 PQP = +0.606466 DQP = +0.601465 \r\n",
      "T00 ERR ...   Level =   34 PQP = +0.656124 DQP = +0.656342 \r\n",
      "T00 ERR ...   Level =   35 PQP = +0.676870 DQP = +0.671104 \r\n",
      "T00 ERR ...   Level =   36 PQP = +0.682301 DQP = +0.680566 \r\n",
      "T00 ERR ...   Level =   37 PQP = +0.804466 DQP = +0.790510 \r\n",
      "T00 ERR ...   Level =   38 PQP = +0.864343 DQP = +0.794931 \r\n",
      "T00 ERR ...   Level =   39 PQP = +0.803013 DQP = +0.797541 \r\n",
      "T00 ERR ...   Level =   40 PQP = +0.866800 DQP = +0.860207 \r\n",
      "T00 ERR ...   Level =   41 PQP = +0.780693 DQP = +0.863069 \r\n",
      "T00 ERR ...   Level =   42 PQP = +0.957562 DQP = +0.910609 \r\n",
      "T00 ERR ...   Level =   43 PQP = +0.938705 DQP = +0.955085 \r\n",
      "T00 ERR ...   Level =   44 PQP = +0.887912 DQP = +0.961864 \r\n",
      "T00 ERR ...   Level =   45 PQP = +1.095612 DQP = +1.019240 \r\n",
      "T00 ERR ...   Level =   46 PQP = +1.022932 DQP = +1.098975 \r\n",
      "T00 ERR ...   Level =   47 PQP = +1.188560 DQP = +1.161490 \r\n",
      "T00 ERR ...   Level =   48 PQP = +1.198743 DQP = +1.188278 \r\n",
      "T00 ERR ...   Level =   49 PQP = +1.151600 DQP = +1.223123 \r\n",
      "T00 ERR ...   Level =   50 PQP = +1.412839 DQP = +1.415626 \r\n",
      "T00 ERR ...   Level =   51 PQP = +1.456556 DQP = +1.473005 \r\n",
      "T00 ERR ...   Level =   52 PQP = +1.484663 DQP = +1.480471 \r\n",
      "T00 ERR ...   Level =   53 PQP = +1.467033 DQP = +1.496723 \r\n",
      "T00 ERR ...   Level =   54 PQP = +1.829840 DQP = +1.835975 \r\n",
      "T00 ERR ...   Level =   55 PQP = +2.146378 DQP = +2.156691 \r\n",
      "T00 ERR ...   Level =   56 PQP = +2.208405 DQP = +2.233251 \r\n",
      "T00 ERR ... 2025-1-20 6:24:38 Diagonalized QP Hamiltonian  \r\n",
      "T00 ERR ... 2025-1-20 6:24:38 GW calculation took 1.132901486 seconds."
     ]
    },
    {
     "name": "stdout",
     "output_type": "stream",
     "text": [
      "\r\n",
      "T00 ERR ... 2025-1-20 6:24:38 Setup Full triplet hamiltonian \r\n",
      "T00 ERR ... 2025-1-20 6:24:38 Davidson Solver using 4 threads.\r\n",
      "T00 ERR ... 2025-1-20 6:24:38 Tolerance : 0.0001\r\n",
      "T00 ERR ... 2025-1-20 6:24:38 DPR Correction\r\n",
      "T00 ERR ... 2025-1-20 6:24:38 Matrix size : 1540x1540\r\n",
      "T00 ERR ... 2025-1-20 6:24:38 iter\tSearch Space\tNorm"
     ]
    },
    {
     "name": "stdout",
     "output_type": "stream",
     "text": [
      "\r\n",
      "T00 ERR ... 2025-1-20 6:24:39    0          200 \t 7.96e-02 \t  0.00% converged"
     ]
    },
    {
     "name": "stdout",
     "output_type": "stream",
     "text": [
      "\r\n",
      "T00 ERR ... 2025-1-20 6:24:39    1          310 \t 1.04e-02 \t  0.00% converged"
     ]
    },
    {
     "name": "stdout",
     "output_type": "stream",
     "text": [
      "\r\n",
      "T00 ERR ... 2025-1-20 6:24:40    2          420 \t 6.95e-04 \t 46.00% converged"
     ]
    },
    {
     "name": "stdout",
     "output_type": "stream",
     "text": [
      "\r\n",
      "T00 ERR ... 2025-1-20 6:24:41    3          482 \t 5.87e-05 \t 100.00% converged\r\n",
      "T00 ERR ... 2025-1-20 6:24:41 Davidson converged after 3 iterations.\r\n",
      "T00 ERR ... 2025-1-20 6:24:41-----------------------------------\r\n",
      "T00 ERR ... 2025-1-20 6:24:41- Davidson ran for 3.204382904secs.\r\n",
      "T00 ERR ... 2025-1-20 6:24:41-----------------------------------\r\n",
      "T00 ERR ... 2025-1-20 6:24:42 Solved BSE for triplets "
     ]
    },
    {
     "name": "stdout",
     "output_type": "stream",
     "text": [
      "\r\n",
      "T00 ERR ...   ====== triplet energies (eV) ====== \r\n",
      "T00 ERR ...   T =    1 Omega = +3.818144274935 eV  lamdba = +324.77 nm <FT> = +12.4646 <K_d> = -8.6464\r\n",
      "T00 ERR ...            HOMO-0   -> LUMO+0    : 95.0%\r\n",
      "T00 ERR ...    \r\n",
      "T00 ERR ...   T =    2 Omega = +4.700383803443 eV  lamdba = +263.81 nm <FT> = +12.1069 <K_d> = -7.4065\r\n",
      "T00 ERR ...            HOMO-1   -> LUMO+0    : 95.0%\r\n",
      "T00 ERR ...    \r\n",
      "T00 ERR ...   T =    3 Omega = +6.160338379351 eV  lamdba = +201.29 nm <FT> = +14.1197 <K_d> = -7.9594\r\n",
      "T00 ERR ...            HOMO-0   -> LUMO+2    : 62.0%\r\n",
      "T00 ERR ...    \r\n",
      "T00 ERR ...   T =    4 Omega = +6.724265668002 eV  lamdba = +184.41 nm <FT> = +14.2503 <K_d> = -7.5260\r\n",
      "T00 ERR ...            HOMO-1   -> LUMO+2    : 69.3%\r\n",
      "T00 ERR ...    \r\n",
      "T00 ERR ...   T =    5 Omega = +7.131417844525 eV  lamdba = +173.88 nm <FT> = +13.8517 <K_d> = -6.7203\r\n",
      "T00 ERR ...            HOMO-0   -> LUMO+1    : 69.4%\r\n",
      "T00 ERR ...    \r\n",
      "T00 ERR ...   T =    6 Omega = +7.260458423692 eV  lamdba = +170.79 nm <FT> = +14.1685 <K_d> = -6.9080\r\n",
      "T00 ERR ...            HOMO-1   -> LUMO+1    : 71.5%\r\n",
      "T00 ERR ...    \r\n",
      "T00 ERR ...   T =    7 Omega = +7.631543394234 eV  lamdba = +162.48 nm <FT> = +14.5166 <K_d> = -6.8850\r\n",
      "T00 ERR ...            HOMO-2   -> LUMO+0    : 96.5%\r\n",
      "T00 ERR ...    \r\n",
      "T00 ERR ...   T =    8 Omega = +8.432092313189 eV  lamdba = +147.06 nm <FT> = +15.0741 <K_d> = -6.6421\r\n",
      "T00 ERR ...            HOMO-0   -> LUMO+3    : 63.3%\r\n",
      "T00 ERR ...    \r\n",
      "T00 ERR ...   T =    9 Omega = +8.739020766975 eV  lamdba = +141.89 nm <FT> = +15.7259 <K_d> = -6.9869\r\n",
      "T00 ERR ...            HOMO-5   -> LUMO+0    : 89.5%\r\n",
      "T00 ERR ...    \r\n",
      "T00 ERR ...   T =   10 Omega = +8.868063186698 eV  lamdba = +139.83 nm <FT> = +16.9033 <K_d> = -8.0353\r\n",
      "T00 ERR ...            HOMO-2   -> LUMO+1    : 65.9%\r\n",
      "T00 ERR ...    \r\n",
      "T00 ERR ...   T =   11 Omega = +8.895186988168 eV  lamdba = +139.40 nm <FT> = +15.7561 <K_d> = -6.8609\r\n",
      "T00 ERR ...            HOMO-1   -> LUMO+4    : 71.5%\r\n",
      "T00 ERR ...    \r\n",
      "T00 ERR ...   T =   12 Omega = +8.968190542060 eV  lamdba = +138.27 nm <FT> = +15.4781 <K_d> = -6.5099\r\n",
      "T00 ERR ...    \r\n",
      "T00 ERR ...   T =   13 Omega = +9.217862738053 eV  lamdba = +134.52 nm <FT> = +16.1598 <K_d> = -6.9420\r\n",
      "T00 ERR ...            HOMO-3   -> LUMO+0    : 74.7%\r\n",
      "T00 ERR ...    \r\n",
      "T00 ERR ...   T =   14 Omega = +9.269886499133 eV  lamdba = +133.77 nm <FT> = +16.1303 <K_d> = -6.8604\r\n",
      "T00 ERR ...            HOMO-4   -> LUMO+0    : 59.9%\r\n",
      "T00 ERR ...    \r\n",
      "T00 ERR ...   T =   15 Omega = +9.371990771634 eV  lamdba = +132.31 nm <FT> = +15.3248 <K_d> = -5.9528\r\n",
      "T00 ERR ...            HOMO-1   -> LUMO+3    : 69.4%\r\n",
      "T00 ERR ...    \r\n",
      "T00 ERR ...   T =   16 Omega = +9.884802814803 eV  lamdba = +125.45 nm <FT> = +17.0629 <K_d> = -7.1781\r\n",
      "T00 ERR ...            HOMO-6   -> LUMO+0    : 88.0%\r\n",
      "T00 ERR ...    \r\n",
      "T00 ERR ...   T =   17 Omega = +10.108273903742 eV  lamdba = +122.67 nm <FT> = +16.3849 <K_d> = -6.2767\r\n",
      "T00 ERR ...            HOMO-0   -> LUMO+5    : 84.5%\r\n",
      "T00 ERR ...    \r\n",
      "T00 ERR ...   T =   18 Omega = +10.365480656872 eV  lamdba = +119.63 nm <FT> = +16.6468 <K_d> = -6.2813\r\n",
      "T00 ERR ...            HOMO-2   -> LUMO+2    : 55.6%\r\n",
      "T00 ERR ...    \r\n",
      "T00 ERR ...   T =   19 Omega = +10.842904490684 eV  lamdba = +114.36 nm <FT> = +18.8301 <K_d> = -7.9872\r\n",
      "T00 ERR ...            HOMO-2   -> LUMO+4    : 50.7%\r\n",
      "T00 ERR ...    \r\n",
      "T00 ERR ...   T =   20 Omega = +10.876356598835 eV  lamdba = +114.01 nm <FT> = +17.9552 <K_d> = -7.0788\r\n",
      "T00 ERR ...    \r\n",
      "T00 ERR ...   T =   21 Omega = +10.898920645963 eV  lamdba = +113.77 nm <FT> = +17.6234 <K_d> = -6.7245\r\n",
      "T00 ERR ...    \r\n",
      "T00 ERR ...   T =   22 Omega = +11.003482183114 eV  lamdba = +112.69 nm <FT> = +17.1337 <K_d> = -6.1302\r\n",
      "T00 ERR ...    \r\n",
      "T00 ERR ...   T =   23 Omega = +11.042506155858 eV  lamdba = +112.29 nm <FT> = +17.8604 <K_d> = -6.8179\r\n",
      "T00 ERR ...            HOMO-5   -> LUMO+2    : 69.6%\r\n",
      "T00 ERR ...    \r\n",
      "T00 ERR ...   T =   24 Omega = +11.089905396553 eV  lamdba = +111.81 nm <FT> = +17.2457 <K_d> = -6.1558\r\n",
      "T00 ERR ...    \r\n",
      "T00 ERR ...   T =   25 Omega = +11.126230815957 eV  lamdba = +111.45 nm <FT> = +18.3692 <K_d> = -7.2430\r\n",
      "T00 ERR ...    \r\n",
      "T00 ERR ...   T =   26 Omega = +11.331272108486 eV  lamdba = +109.43 nm <FT> = +17.6818 <K_d> = -6.3505\r\n",
      "T00 ERR ...            HOMO-5   -> LUMO+1    : 50.4%\r\n",
      "T00 ERR ...    \r\n",
      "T00 ERR ...   T =   27 Omega = +11.508735747286 eV  lamdba = +107.74 nm <FT> = +18.6907 <K_d> = -7.1819\r\n",
      "T00 ERR ...    \r\n",
      "T00 ERR ...   T =   28 Omega = +11.618312094545 eV  lamdba = +106.73 nm <FT> = +17.3404 <K_d> = -5.7221\r\n",
      "T00 ERR ...    \r\n",
      "T00 ERR ...   T =   29 Omega = +11.704347183316 eV  lamdba = +105.94 nm <FT> = +19.4985 <K_d> = -7.7941\r\n",
      "T00 ERR ...    \r\n",
      "T00 ERR ...   T =   30 Omega = +11.711718958958 eV  lamdba = +105.88 nm <FT> = +19.4826 <K_d> = -7.7709\r\n",
      "T00 ERR ...    \r\n",
      "T00 ERR ...   T =   31 Omega = +11.948416609489 eV  lamdba = +103.78 nm <FT> = +17.5146 <K_d> = -5.5662\r\n",
      "T00 ERR ...            HOMO-1   -> LUMO+7    : 82.5%\r\n",
      "T00 ERR ...    \r\n",
      "T00 ERR ...   T =   32 Omega = +11.970774401589 eV  lamdba = +103.59 nm <FT> = +20.4957 <K_d> = -8.5249\r\n",
      "T00 ERR ...    \r\n",
      "T00 ERR ...   T =   33 Omega = +12.157545908005 eV  lamdba = +101.99 nm <FT> = +20.0727 <K_d> = -7.9151\r\n",
      "T00 ERR ...    \r\n",
      "T00 ERR ...   T =   34 Omega = +12.211215681088 eV  lamdba = +101.55 nm <FT> = +19.0990 <K_d> = -6.8878\r\n",
      "T00 ERR ...            HOMO-6   -> LUMO+2    : 51.7%\r\n",
      "T00 ERR ...    \r\n",
      "T00 ERR ...   T =   35 Omega = +12.260441434464 eV  lamdba = +101.14 nm <FT> = +20.2778 <K_d> = -8.0173\r\n",
      "T00 ERR ...    \r\n",
      "T00 ERR ...   T =   36 Omega = +12.531466277908 eV  lamdba = +98.95 nm <FT> = +19.3627 <K_d> = -6.8312\r\n",
      "T00 ERR ...            HOMO-6   -> LUMO+1    : 52.8%\r\n",
      "T00 ERR ...    \r\n",
      "T00 ERR ...   T =   37 Omega = +12.710559786941 eV  lamdba = +97.56 nm <FT> = +19.5523 <K_d> = -6.8418\r\n",
      "T00 ERR ...            HOMO-5   -> LUMO+4    : 64.2%\r\n",
      "T00 ERR ...    \r\n",
      "T00 ERR ...   T =   38 Omega = +12.850544800613 eV  lamdba = +96.49 nm <FT> = +20.3996 <K_d> = -7.5491\r\n",
      "T00 ERR ...    \r\n",
      "T00 ERR ...   T =   39 Omega = +13.150170832310 eV  lamdba = +94.30 nm <FT> = +19.7722 <K_d> = -6.6221\r\n",
      "T00 ERR ...            HOMO-0   -> LUMO+8    : 92.1%\r\n",
      "T00 ERR ...    \r\n",
      "T00 ERR ...   T =   40 Omega = +13.189696253929 eV  lamdba = +94.01 nm <FT> = +20.6157 <K_d> = -7.4260\r\n",
      "T00 ERR ...    \r\n",
      "T00 ERR ...   T =   41 Omega = +13.242730669199 eV  lamdba = +93.64 nm <FT> = +19.6448 <K_d> = -6.4020\r\n",
      "T00 ERR ...    \r\n",
      "T00 ERR ...   T =   42 Omega = +13.364411234650 eV  lamdba = +92.78 nm <FT> = +19.6325 <K_d> = -6.2681\r\n",
      "T00 ERR ...            HOMO-7   -> LUMO+0    : 69.5%\r\n",
      "T00 ERR ...    \r\n",
      "T00 ERR ...   T =   43 Omega = +13.573118670469 eV  lamdba = +91.36 nm <FT> = +19.5459 <K_d> = -5.9728\r\n",
      "T00 ERR ...            HOMO-2   -> LUMO+5    : 77.2%\r\n",
      "T00 ERR ...    \r\n",
      "T00 ERR ...   T =   44 Omega = +13.748499637773 eV  lamdba = +90.19 nm <FT> = +19.6110 <K_d> = -5.8625\r\n",
      "T00 ERR ...    \r\n",
      "T00 ERR ...   T =   45 Omega = +13.762662140899 eV  lamdba = +90.10 nm <FT> = +20.6509 <K_d> = -6.8883\r\n",
      "T00 ERR ...    \r\n",
      "T00 ERR ...   T =   46 Omega = +14.000547357786 eV  lamdba = +88.57 nm <FT> = +20.7157 <K_d> = -6.7152\r\n",
      "T00 ERR ...            HOMO-8   -> LUMO+0    : 82.2%\r\n",
      "T00 ERR ...    \r\n",
      "T00 ERR ...   T =   47 Omega = +14.073023204383 eV  lamdba = +88.11 nm <FT> = +20.5653 <K_d> = -6.4922\r\n",
      "T00 ERR ...            HOMO-6   -> LUMO+4    : 57.5%\r\n",
      "T00 ERR ...    \r\n",
      "T00 ERR ...   T =   48 Omega = +14.089537874376 eV  lamdba = +88.01 nm <FT> = +20.9462 <K_d> = -6.8566\r\n",
      "T00 ERR ...            HOMO-9   -> LUMO+0    : 84.6%\r\n",
      "T00 ERR ...    \r\n",
      "T00 ERR ...   T =   49 Omega = +14.331561768630 eV  lamdba = +86.52 nm <FT> = +20.8957 <K_d> = -6.5641\r\n",
      "T00 ERR ...    \r\n",
      "T00 ERR ...   T =   50 Omega = +14.446504635660 eV  lamdba = +85.83 nm <FT> = +20.2223 <K_d> = -5.7758\r\n",
      "T00 ERR ...    \r\n",
      "T00 ERR ...   T =   51 Omega = +14.787761888317 eV  lamdba = +83.85 nm <FT> = +20.5852 <K_d> = -5.7974\r\n",
      "T00 ERR ...            HOMO-5   -> LUMO+5    : 85.3%\r\n",
      "T00 ERR ...    \r\n",
      "T00 ERR ...   T =   52 Omega = +14.799274070735 eV  lamdba = +83.79 nm <FT> = +20.6763 <K_d> = -5.8770\r\n",
      "T00 ERR ...    \r\n",
      "T00 ERR ...   T =   53 Omega = +14.899144998358 eV  lamdba = +83.23 nm <FT> = +20.7519 <K_d> = -5.8527\r\n",
      "T00 ERR ...    \r\n",
      "T00 ERR ...   T =   54 Omega = +14.911865306715 eV  lamdba = +83.16 nm <FT> = +21.5240 <K_d> = -6.6121\r\n",
      "T00 ERR ...    \r\n",
      "T00 ERR ...   T =   55 Omega = +15.023612400137 eV  lamdba = +82.54 nm <FT> = +21.7553 <K_d> = -6.7317\r\n",
      "T00 ERR ...            HOMO-7   -> LUMO+2    : 67.4%\r\n",
      "T00 ERR ...    \r\n",
      "T00 ERR ...   T =   56 Omega = +15.096982424161 eV  lamdba = +82.14 nm <FT> = +21.5109 <K_d> = -6.4140\r\n",
      "T00 ERR ...            HOMO-0   -> LUMO+9    : 90.8%\r\n",
      "T00 ERR ...    \r\n",
      "T00 ERR ...   T =   57 Omega = +15.281667023815 eV  lamdba = +81.14 nm <FT> = +21.2658 <K_d> = -5.9842\r\n",
      "T00 ERR ...    \r\n",
      "T00 ERR ...   T =   58 Omega = +15.418273188602 eV  lamdba = +80.42 nm <FT> = +21.6049 <K_d> = -6.1867\r\n",
      "T00 ERR ...            HOMO-1   -> LUMO+9    : 72.4%\r\n",
      "T00 ERR ...    \r\n",
      "T00 ERR ...   T =   59 Omega = +15.445957718011 eV  lamdba = +80.28 nm <FT> = +22.0825 <K_d> = -6.6365\r\n",
      "T00 ERR ...            HOMO-7   -> LUMO+1    : 54.9%\r\n",
      "T00 ERR ...    \r\n",
      "T00 ERR ...   T =   60 Omega = +15.702647140000 eV  lamdba = +78.97 nm <FT> = +21.2964 <K_d> = -5.5938\r\n",
      "T00 ERR ...            HOMO-5   -> LUMO+6    : 76.9%\r\n",
      "T00 ERR ...    \r\n",
      "T00 ERR ...   T =   61 Omega = +15.755970297621 eV  lamdba = +78.70 nm <FT> = +21.8586 <K_d> = -6.1026\r\n",
      "T00 ERR ...    \r\n",
      "T00 ERR ...   T =   62 Omega = +15.794237212773 eV  lamdba = +78.51 nm <FT> = +22.3890 <K_d> = -6.5948\r\n",
      "T00 ERR ...    \r\n",
      "T00 ERR ...   T =   63 Omega = +15.887784443840 eV  lamdba = +78.05 nm <FT> = +21.9590 <K_d> = -6.0713\r\n",
      "T00 ERR ...            HOMO-4   -> LUMO+7    : 53.9%\r\n",
      "T00 ERR ...    \r\n",
      "T00 ERR ...   T =   64 Omega = +15.927972286899 eV  lamdba = +77.85 nm <FT> = +22.8412 <K_d> = -6.9133\r\n",
      "T00 ERR ...            HOMO-2   -> LUMO+8    : 84.9%\r\n",
      "T00 ERR ...    \r\n",
      "T00 ERR ...   T =   65 Omega = +16.046005197812 eV  lamdba = +77.28 nm <FT> = +22.2909 <K_d> = -6.2448\r\n",
      "T00 ERR ...    \r\n",
      "T00 ERR ...   T =   66 Omega = +16.242258887771 eV  lamdba = +76.34 nm <FT> = +22.9788 <K_d> = -6.7366\r\n",
      "T00 ERR ...    \r\n",
      "T00 ERR ...   T =   67 Omega = +16.320942318916 eV  lamdba = +75.98 nm <FT> = +23.0225 <K_d> = -6.7016\r\n",
      "T00 ERR ...    \r\n",
      "T00 ERR ...   T =   68 Omega = +16.463292257152 eV  lamdba = +75.32 nm <FT> = +22.6421 <K_d> = -6.1788\r\n",
      "T00 ERR ...            HOMO-6   -> LUMO+7    : 55.2%\r\n",
      "T00 ERR ...    \r\n",
      "T00 ERR ...   T =   69 Omega = +16.574264452373 eV  lamdba = +74.81 nm <FT> = +24.0419 <K_d> = -7.4677\r\n",
      "T00 ERR ...            HOMO-1   -> LUMO+10   : 80.7%\r\n",
      "T00 ERR ...    \r\n",
      "T00 ERR ...   T =   70 Omega = +16.598967394142 eV  lamdba = +74.70 nm <FT> = +23.0431 <K_d> = -6.4442\r\n",
      "T00 ERR ...    \r\n",
      "T00 ERR ...   T =   71 Omega = +16.714574093480 eV  lamdba = +74.19 nm <FT> = +22.3848 <K_d> = -5.6702\r\n",
      "T00 ERR ...            HOMO-6   -> LUMO+6    : 61.3%\r\n",
      "T00 ERR ...    \r\n",
      "T00 ERR ...   T =   72 Omega = +17.038817566306 eV  lamdba = +72.78 nm <FT> = +23.6233 <K_d> = -6.5845\r\n",
      "T00 ERR ...            HOMO-0   -> LUMO+10   : 94.5%\r\n",
      "T00 ERR ...    \r\n",
      "T00 ERR ...   T =   73 Omega = +17.131114659226 eV  lamdba = +72.38 nm <FT> = +23.5008 <K_d> = -6.3697\r\n",
      "T00 ERR ...            HOMO-7   -> LUMO+4    : 52.3%\r\n",
      "T00 ERR ...    \r\n",
      "T00 ERR ...   T =   74 Omega = +17.162778797136 eV  lamdba = +72.25 nm <FT> = +24.1407 <K_d> = -6.9780\r\n",
      "T00 ERR ...            HOMO-5   -> LUMO+8    : 54.8%\r\n",
      "T00 ERR ...    \r\n",
      "T00 ERR ...   T =   75 Omega = +17.355343441575 eV  lamdba = +71.45 nm <FT> = +23.3563 <K_d> = -6.0009\r\n",
      "T00 ERR ...    \r\n",
      "T00 ERR ...   T =   76 Omega = +17.397706210772 eV  lamdba = +71.27 nm <FT> = +24.2158 <K_d> = -6.8181\r\n",
      "T00 ERR ...    \r\n",
      "T00 ERR ...   T =   77 Omega = +17.457811589532 eV  lamdba = +71.03 nm <FT> = +23.9638 <K_d> = -6.5059\r\n",
      "T00 ERR ...    \r\n",
      "T00 ERR ...   T =   78 Omega = +17.605477532161 eV  lamdba = +70.43 nm <FT> = +24.6710 <K_d> = -7.0655\r\n",
      "T00 ERR ...    \r\n",
      "T00 ERR ...   T =   79 Omega = +17.775680793260 eV  lamdba = +69.76 nm <FT> = +24.6533 <K_d> = -6.8776\r\n",
      "T00 ERR ...    \r\n",
      "T00 ERR ...   T =   80 Omega = +18.132657928372 eV  lamdba = +68.38 nm <FT> = +24.5860 <K_d> = -6.4533\r\n",
      "T00 ERR ...    \r\n",
      "T00 ERR ...   T =   81 Omega = +18.196865665505 eV  lamdba = +68.14 nm <FT> = +24.4517 <K_d> = -6.2548\r\n",
      "T00 ERR ...            HOMO-0   -> LUMO+11   : 62.4%\r\n",
      "T00 ERR ...    \r\n",
      "T00 ERR ...   T =   82 Omega = +18.214602516902 eV  lamdba = +68.08 nm <FT> = +25.1588 <K_d> = -6.9442\r\n",
      "T00 ERR ...            HOMO-10  -> LUMO+0    : 50.6%\r\n",
      "T00 ERR ...    \r\n",
      "T00 ERR ...   T =   83 Omega = +18.249197808480 eV  lamdba = +67.95 nm <FT> = +24.4812 <K_d> = -6.2320\r\n",
      "T00 ERR ...            HOMO-2   -> LUMO+9    : 63.9%\r\n",
      "T00 ERR ...    \r\n",
      "T00 ERR ...   T =   84 Omega = +18.314048090575 eV  lamdba = +67.71 nm <FT> = +24.6667 <K_d> = -6.3526\r\n",
      "T00 ERR ...    \r\n",
      "T00 ERR ...   T =   85 Omega = +18.435237257581 eV  lamdba = +67.26 nm <FT> = +25.1407 <K_d> = -6.7055\r\n",
      "T00 ERR ...            HOMO-1   -> LUMO+11   : 56.7%\r\n",
      "T00 ERR ...    \r\n",
      "T00 ERR ...   T =   86 Omega = +18.501699434288 eV  lamdba = +67.02 nm <FT> = +26.2721 <K_d> = -7.7704\r\n",
      "T00 ERR ...    \r\n",
      "T00 ERR ...   T =   87 Omega = +18.523702134431 eV  lamdba = +66.94 nm <FT> = +25.2808 <K_d> = -6.7571\r\n",
      "T00 ERR ...    \r\n",
      "T00 ERR ...   T =   88 Omega = +18.622429940158 eV  lamdba = +66.59 nm <FT> = +24.8507 <K_d> = -6.2283\r\n",
      "T00 ERR ...    \r\n",
      "T00 ERR ...   T =   89 Omega = +18.628712152256 eV  lamdba = +66.56 nm <FT> = +25.4731 <K_d> = -6.8444\r\n",
      "T00 ERR ...            HOMO-11  -> LUMO+0    : 92.8%\r\n",
      "T00 ERR ...    \r\n",
      "T00 ERR ...   T =   90 Omega = +19.002898680120 eV  lamdba = +65.25 nm <FT> = +25.4863 <K_d> = -6.4834\r\n",
      "T00 ERR ...    \r\n",
      "T00 ERR ...   T =   91 Omega = +19.071422138374 eV  lamdba = +65.02 nm <FT> = +25.1026 <K_d> = -6.0312\r\n",
      "T00 ERR ...    \r\n",
      "T00 ERR ...   T =   92 Omega = +19.120040627459 eV  lamdba = +64.85 nm <FT> = +25.4977 <K_d> = -6.3777\r\n",
      "T00 ERR ...    \r\n",
      "T00 ERR ...   T =   93 Omega = +19.322600842719 eV  lamdba = +64.17 nm <FT> = +25.9881 <K_d> = -6.6655\r\n",
      "T00 ERR ...            HOMO-5   -> LUMO+9    : 68.0%\r\n",
      "T00 ERR ...    \r\n",
      "T00 ERR ...   T =   94 Omega = +19.442816922406 eV  lamdba = +63.78 nm <FT> = +25.7062 <K_d> = -6.2633\r\n",
      "T00 ERR ...    \r\n",
      "T00 ERR ...   T =   95 Omega = +19.450489043668 eV  lamdba = +63.75 nm <FT> = +26.4481 <K_d> = -6.9976\r\n",
      "T00 ERR ...    \r\n",
      "T00 ERR ...   T =   96 Omega = +19.625262453674 eV  lamdba = +63.18 nm <FT> = +25.8605 <K_d> = -6.2353\r\n",
      "T00 ERR ...    \r\n",
      "T00 ERR ...   T =   97 Omega = +19.802692387582 eV  lamdba = +62.62 nm <FT> = +26.1547 <K_d> = -6.3520\r\n",
      "T00 ERR ...            HOMO-0   -> LUMO+12   : 88.7%\r\n",
      "T00 ERR ...    \r\n",
      "T00 ERR ...   T =   98 Omega = +19.849919455278 eV  lamdba = +62.47 nm <FT> = +25.6859 <K_d> = -5.8360\r\n",
      "T00 ERR ...    \r\n",
      "T00 ERR ...   T =   99 Omega = +19.892712469643 eV  lamdba = +62.33 nm <FT> = +26.9051 <K_d> = -7.0124\r\n",
      "T00 ERR ...            HOMO-0   -> LUMO+14   : 51.8%\r\n",
      "T00 ERR ...    \r\n",
      "T00 ERR ...   T =  100 Omega = +20.092955330604 eV  lamdba = +61.71 nm <FT> = +27.0528 <K_d> = -6.9599\r\n",
      "T00 ERR ...            HOMO-1   -> LUMO+13   : 85.3%\r\n",
      "T00 ERR ...    \r\n",
      "T00 ERR ... 2025-1-20 6:24:42 Setup Full singlet hamiltonian \r\n",
      "T00 ERR ... 2025-1-20 6:24:42 Davidson Solver using 4 threads.\r\n",
      "T00 ERR ... 2025-1-20 6:24:42 Tolerance : 0.0001\r\n",
      "T00 ERR ... 2025-1-20 6:24:42 DPR Correction\r\n",
      "T00 ERR ... 2025-1-20 6:24:42 Matrix size : 1540x1540\r\n",
      "T00 ERR ... 2025-1-20 6:24:42 iter\tSearch Space\tNorm"
     ]
    },
    {
     "name": "stdout",
     "output_type": "stream",
     "text": [
      "\r\n",
      "T00 ERR ... 2025-1-20 6:24:42    0          200 \t 2.29e-01 \t  0.00% converged"
     ]
    },
    {
     "name": "stdout",
     "output_type": "stream",
     "text": [
      "\r\n",
      "T00 ERR ... 2025-1-20 6:24:43    1          310 \t 1.38e-02 \t  0.00% converged"
     ]
    },
    {
     "name": "stdout",
     "output_type": "stream",
     "text": [
      "\r\n",
      "T00 ERR ... 2025-1-20 6:24:44    2          420 \t 8.44e-04 \t 47.00% converged"
     ]
    },
    {
     "name": "stdout",
     "output_type": "stream",
     "text": [
      "\r\n",
      "T00 ERR ... 2025-1-20 6:24:45    3          480 \t 5.81e-05 \t 100.00% converged\r\n",
      "T00 ERR ... 2025-1-20 6:24:45 Davidson converged after 3 iterations.\r\n",
      "T00 ERR ... 2025-1-20 6:24:45-----------------------------------\r\n",
      "T00 ERR ... 2025-1-20 6:24:45- Davidson ran for 3.571184368secs.\r\n",
      "T00 ERR ... 2025-1-20 6:24:45-----------------------------------\r\n",
      "T00 ERR ... 2025-1-20 6:24:45 Solved BSE for singlets "
     ]
    },
    {
     "name": "stdout",
     "output_type": "stream",
     "text": [
      "\r\n",
      "T00 ERR ...   ====== singlet energies (eV) ====== \r\n",
      "T00 ERR ...   S =    1 Omega = +6.277221403672 eV  lamdba = +197.54 nm <FT> = +12.4903 <K_x> = +0.6283 <K_d> = -6.8413\r\n",
      "T00 ERR ...            TrDipole length gauge[e*bohr]  dx = -0.7165 dy = +0.1500 dz = -0.3083 |d|^2 = +0.6309 f = +0.0970\r\n",
      "T00 ERR ...            HOMO-1   -> LUMO+0    : 86.0%\r\n",
      "T00 ERR ... \r\n",
      "T00 ERR ...   S =    2 Omega = +6.462618815466 eV  lamdba = +191.87 nm <FT> = +12.6537 <K_x> = +1.1601 <K_d> = -7.3512\r\n",
      "T00 ERR ...            TrDipole length gauge[e*bohr]  dx = -0.0107 dy = +0.7136 dz = +0.3760 |d|^2 = +0.6507 f = +0.1030\r\n",
      "T00 ERR ...            HOMO-0   -> LUMO+0    : 95.1%\r\n",
      "T00 ERR ... \r\n",
      "T00 ERR ...   S =    3 Omega = +7.602964057731 eV  lamdba = +163.09 nm <FT> = +13.7960 <K_x> = +0.3267 <K_d> = -6.5198\r\n",
      "T00 ERR ...            TrDipole length gauge[e*bohr]  dx = -0.0391 dy = -0.0062 dz = -0.0029 |d|^2 = +0.0016 f = +0.0003\r\n",
      "T00 ERR ...            HOMO-0   -> LUMO+1    : 66.1%\r\n",
      "T00 ERR ... \r\n",
      "T00 ERR ...   S =    4 Omega = +7.686029368130 eV  lamdba = +161.33 nm <FT> = +14.0718 <K_x> = +0.3739 <K_d> = -6.7596\r\n",
      "T00 ERR ...            TrDipole length gauge[e*bohr]  dx = +0.0033 dy = +0.0172 dz = +0.0104 |d|^2 = +0.0004 f = +0.0001\r\n",
      "T00 ERR ...            HOMO-1   -> LUMO+1    : 67.4%\r\n",
      "T00 ERR ... \r\n",
      "T00 ERR ...   S =    5 Omega = +8.213989300133 eV  lamdba = +150.96 nm <FT> = +14.5502 <K_x> = +0.5077 <K_d> = -6.8440\r\n",
      "T00 ERR ...            TrDipole length gauge[e*bohr]  dx = +0.1022 dy = +0.1049 dz = -0.1982 |d|^2 = +0.0607 f = +0.0122\r\n",
      "T00 ERR ...            HOMO-2   -> LUMO+0    : 95.6%\r\n",
      "T00 ERR ... \r\n",
      "T00 ERR ...   S =    6 Omega = +8.428089555731 eV  lamdba = +147.13 nm <FT> = +14.6174 <K_x> = +1.0261 <K_d> = -7.2154\r\n",
      "T00 ERR ...            TrDipole length gauge[e*bohr]  dx = +1.0736 dy = -0.2474 dz = +0.4487 |d|^2 = +1.4152 f = +0.2922\r\n",
      "T00 ERR ...            HOMO-0   -> LUMO+2    : 53.9%\r\n",
      "T00 ERR ... \r\n",
      "T00 ERR ...   S =    7 Omega = +8.639968781255 eV  lamdba = +143.52 nm <FT> = +14.6430 <K_x> = +0.8884 <K_d> = -6.8914\r\n",
      "T00 ERR ...            TrDipole length gauge[e*bohr]  dx = +0.0075 dy = +0.5999 dz = +0.3213 |d|^2 = +0.4632 f = +0.0980\r\n",
      "T00 ERR ...            HOMO-1   -> LUMO+2    : 63.4%\r\n",
      "T00 ERR ... \r\n",
      "T00 ERR ...   S =    8 Omega = +8.950120029611 eV  lamdba = +138.55 nm <FT> = +14.9652 <K_x> = +0.3384 <K_d> = -6.3535\r\n",
      "T00 ERR ...            TrDipole length gauge[e*bohr]  dx = -0.0000 dy = -0.0043 dz = +0.0021 |d|^2 = +0.0000 f = +0.0000\r\n",
      "T00 ERR ...            HOMO-0   -> LUMO+3    : 72.1%\r\n",
      "T00 ERR ... \r\n",
      "T00 ERR ...   S =    9 Omega = +9.225926971434 eV  lamdba = +134.40 nm <FT> = +15.3544 <K_x> = +0.1231 <K_d> = -6.2517\r\n",
      "T00 ERR ...            TrDipole length gauge[e*bohr]  dx = +0.0028 dy = +0.0030 dz = +0.0033 |d|^2 = +0.0000 f = +0.0000\r\n",
      "T00 ERR ...            HOMO-0   -> LUMO+4    : 67.8%\r\n",
      "T00 ERR ... \r\n",
      "T00 ERR ...   S =   10 Omega = +9.438749684327 eV  lamdba = +131.37 nm <FT> = +15.1603 <K_x> = +0.1727 <K_d> = -5.8942\r\n",
      "T00 ERR ...            TrDipole length gauge[e*bohr]  dx = +0.0553 dy = +0.0532 dz = -0.0903 |d|^2 = +0.0140 f = +0.0032\r\n",
      "T00 ERR ...            HOMO-1   -> LUMO+3    : 85.6%\r\n",
      "T00 ERR ... \r\n",
      "T00 ERR ...   S =   11 Omega = +9.562906736024 eV  lamdba = +129.67 nm <FT> = +16.1006 <K_x> = +0.2927 <K_d> = -6.8303\r\n",
      "T00 ERR ...            TrDipole length gauge[e*bohr]  dx = -0.0528 dy = -0.0689 dz = +0.1254 |d|^2 = +0.0233 f = +0.0055\r\n",
      "T00 ERR ...            HOMO-3   -> LUMO+0    : 70.5%\r\n",
      "T00 ERR ... \r\n",
      "T00 ERR ...   S =   12 Omega = +9.650345598540 eV  lamdba = +128.49 nm <FT> = +16.1784 <K_x> = +0.4040 <K_d> = -6.9321\r\n",
      "T00 ERR ...            TrDipole length gauge[e*bohr]  dx = +0.0056 dy = +0.0017 dz = -0.0195 |d|^2 = +0.0004 f = +0.0001\r\n",
      "T00 ERR ...            HOMO-4   -> LUMO+0    : 65.3%\r\n",
      "T00 ERR ... \r\n",
      "T00 ERR ...   S =   13 Omega = +9.808473575490 eV  lamdba = +126.42 nm <FT> = +15.7917 <K_x> = +0.4796 <K_d> = -6.4629\r\n",
      "T00 ERR ...            TrDipole length gauge[e*bohr]  dx = -0.0704 dy = -0.0729 dz = +0.1328 |d|^2 = +0.0279 f = +0.0067\r\n",
      "T00 ERR ...            HOMO-1   -> LUMO+4    : 88.8%\r\n",
      "T00 ERR ... \r\n",
      "T00 ERR ...   S =   14 Omega = +10.164272538680 eV  lamdba = +122.00 nm <FT> = +16.4605 <K_x> = +1.1615 <K_d> = -7.4578\r\n",
      "T00 ERR ...            TrDipole length gauge[e*bohr]  dx = -0.4310 dy = +0.0921 dz = -0.1782 |d|^2 = +0.2259 f = +0.0563\r\n",
      "T00 ERR ...            HOMO-5   -> LUMO+0    : 87.2%\r\n",
      "T00 ERR ... \r\n",
      "T00 ERR ...   S =   15 Omega = +10.306594247781 eV  lamdba = +120.31 nm <FT> = +16.9202 <K_x> = +0.3493 <K_d> = -6.9629\r\n",
      "T00 ERR ...            TrDipole length gauge[e*bohr]  dx = -0.0112 dy = +0.0125 dz = +0.0014 |d|^2 = +0.0003 f = +0.0001\r\n",
      "T00 ERR ...            HOMO-6   -> LUMO+0    : 84.5%\r\n",
      "T00 ERR ... \r\n",
      "T00 ERR ...   S =   16 Omega = +10.516335512467 eV  lamdba = +117.91 nm <FT> = +16.6203 <K_x> = +0.1302 <K_d> = -6.2341\r\n",
      "T00 ERR ...            TrDipole length gauge[e*bohr]  dx = -0.0026 dy = +0.0420 dz = +0.0186 |d|^2 = +0.0021 f = +0.0005\r\n",
      "T00 ERR ...            HOMO-2   -> LUMO+2    : 57.5%\r\n",
      "T00 ERR ... \r\n",
      "T00 ERR ...   S =   17 Omega = +10.536382573653 eV  lamdba = +117.69 nm <FT> = +16.2579 <K_x> = +0.3076 <K_d> = -6.0291\r\n",
      "T00 ERR ...            TrDipole length gauge[e*bohr]  dx = +0.0036 dy = +0.0147 dz = -0.0050 |d|^2 = +0.0003 f = +0.0001\r\n",
      "T00 ERR ...            HOMO-0   -> LUMO+5    : 90.1%\r\n",
      "T00 ERR ... \r\n",
      "T00 ERR ...   S =   18 Omega = +10.952134699348 eV  lamdba = +113.22 nm <FT> = +17.1530 <K_x> = +1.1853 <K_d> = -7.3861\r\n",
      "T00 ERR ...            TrDipole length gauge[e*bohr]  dx = -0.0073 dy = -0.8963 dz = -0.4817 |d|^2 = +1.0355 f = +0.2778\r\n",
      "T00 ERR ...            HOMO-2   -> LUMO+1    : 65.2%\r\n",
      "T00 ERR ... \r\n",
      "T00 ERR ...   S =   19 Omega = +11.108263548486 eV  lamdba = +111.63 nm <FT> = +16.5456 <K_x> = +0.0517 <K_d> = -5.4890\r\n",
      "T00 ERR ...            TrDipole length gauge[e*bohr]  dx = +0.0022 dy = +0.0027 dz = -0.0117 |d|^2 = +0.0001 f = +0.0000\r\n",
      "T00 ERR ...            HOMO-1   -> LUMO+5    : 95.7%\r\n",
      "T00 ERR ... \r\n",
      "T00 ERR ...   S =   20 Omega = +11.322889663368 eV  lamdba = +109.51 nm <FT> = +17.1874 <K_x> = +0.2003 <K_d> = -6.0648\r\n",
      "T00 ERR ...            TrDipole length gauge[e*bohr]  dx = +0.0267 dy = +0.0277 dz = -0.0649 |d|^2 = +0.0057 f = +0.0016\r\n",
      "T00 ERR ...            HOMO-0   -> LUMO+6    : 78.4%\r\n",
      "T00 ERR ... \r\n",
      "T00 ERR ...   S =   21 Omega = +11.394506014849 eV  lamdba = +108.82 nm <FT> = +18.2516 <K_x> = +0.4272 <K_d> = -7.2843\r\n",
      "T00 ERR ...            TrDipole length gauge[e*bohr]  dx = +0.0027 dy = +0.0200 dz = +0.0130 |d|^2 = +0.0006 f = +0.0002\r\n",
      "T00 ERR ... \r\n",
      "T00 ERR ...   S =   22 Omega = +11.607925466245 eV  lamdba = +106.82 nm <FT> = +17.3130 <K_x> = +0.3574 <K_d> = -6.0625\r\n",
      "T00 ERR ...            TrDipole length gauge[e*bohr]  dx = +0.0144 dy = +0.0185 dz = -0.0251 |d|^2 = +0.0012 f = +0.0003\r\n",
      "T00 ERR ...            HOMO-0   -> LUMO+7    : 79.9%\r\n",
      "T00 ERR ... \r\n",
      "T00 ERR ...   S =   23 Omega = +11.662795964123 eV  lamdba = +106.32 nm <FT> = +17.9567 <K_x> = +0.3447 <K_d> = -6.6385\r\n",
      "T00 ERR ...            TrDipole length gauge[e*bohr]  dx = -0.0123 dy = -0.0113 dz = -0.0176 |d|^2 = +0.0006 f = +0.0002\r\n",
      "T00 ERR ...            HOMO-5   -> LUMO+1    : 62.3%\r\n",
      "T00 ERR ... \r\n",
      "T00 ERR ...   S =   24 Omega = +11.756860002304 eV  lamdba = +105.47 nm <FT> = +18.1405 <K_x> = +0.4432 <K_d> = -6.8268\r\n",
      "T00 ERR ...            TrDipole length gauge[e*bohr]  dx = -0.0834 dy = -0.0943 dz = +0.1890 |d|^2 = +0.0515 f = +0.0148\r\n",
      "T00 ERR ... \r\n",
      "T00 ERR ...   S =   25 Omega = +11.901558729547 eV  lamdba = +104.19 nm <FT> = +17.3294 <K_x> = +0.2544 <K_d> = -5.6823\r\n",
      "T00 ERR ...            TrDipole length gauge[e*bohr]  dx = -0.0150 dy = -0.0235 dz = +0.0264 |d|^2 = +0.0015 f = +0.0004\r\n",
      "T00 ERR ...            HOMO-1   -> LUMO+6    : 79.0%\r\n",
      "T00 ERR ... \r\n",
      "T00 ERR ...   S =   26 Omega = +12.037040775695 eV  lamdba = +103.02 nm <FT> = +18.0261 <K_x> = +0.4450 <K_d> = -6.4341\r\n",
      "T00 ERR ...            TrDipole length gauge[e*bohr]  dx = +0.0131 dy = -0.0147 dz = +0.0028 |d|^2 = +0.0004 f = +0.0001\r\n",
      "T00 ERR ...            HOMO-2   -> LUMO+3    : 53.2%\r\n",
      "T00 ERR ... \r\n",
      "T00 ERR ...   S =   27 Omega = +12.112288296055 eV  lamdba = +102.38 nm <FT> = +18.4099 <K_x> = +0.7554 <K_d> = -7.0530\r\n",
      "T00 ERR ...            TrDipole length gauge[e*bohr]  dx = -0.0000 dy = +0.1628 dz = +0.0990 |d|^2 = +0.0363 f = +0.0108\r\n",
      "T00 ERR ...            HOMO-5   -> LUMO+2    : 55.6%\r\n",
      "T00 ERR ... \r\n",
      "T00 ERR ...   S =   28 Omega = +12.150320215107 eV  lamdba = +102.05 nm <FT> = +17.6356 <K_x> = +0.1925 <K_d> = -5.6778\r\n",
      "T00 ERR ...            TrDipole length gauge[e*bohr]  dx = +0.0618 dy = +0.0845 dz = -0.1210 |d|^2 = +0.0256 f = +0.0076\r\n",
      "T00 ERR ...            HOMO-1   -> LUMO+7    : 90.3%\r\n",
      "T00 ERR ... \r\n",
      "T00 ERR ...   S =   29 Omega = +12.369737883059 eV  lamdba = +100.24 nm <FT> = +18.4381 <K_x> = +0.3373 <K_d> = -6.4057\r\n",
      "T00 ERR ...            TrDipole length gauge[e*bohr]  dx = -0.0168 dy = -0.1299 dz = -0.0784 |d|^2 = +0.0233 f = +0.0071\r\n",
      "T00 ERR ... \r\n",
      "T00 ERR ...   S =   30 Omega = +12.443950433207 eV  lamdba = +99.65 nm <FT> = +18.1232 <K_x> = +0.3008 <K_d> = -5.9801\r\n",
      "T00 ERR ...            TrDipole length gauge[e*bohr]  dx = +0.2044 dy = -0.0526 dz = +0.0840 |d|^2 = +0.0516 f = +0.0157\r\n",
      "T00 ERR ... \r\n",
      "T00 ERR ...   S =   31 Omega = +12.548577041651 eV  lamdba = +98.82 nm <FT> = +19.0420 <K_x> = +0.2881 <K_d> = -6.7816\r\n",
      "T00 ERR ...            TrDipole length gauge[e*bohr]  dx = +0.0165 dy = +0.0300 dz = -0.0644 |d|^2 = +0.0053 f = +0.0016\r\n",
      "T00 ERR ...            HOMO-6   -> LUMO+2    : 60.3%\r\n",
      "T00 ERR ... \r\n",
      "T00 ERR ...   S =   32 Omega = +12.976553297533 eV  lamdba = +95.56 nm <FT> = +18.9763 <K_x> = +0.5347 <K_d> = -6.5344\r\n",
      "T00 ERR ...            TrDipole length gauge[e*bohr]  dx = +0.8834 dy = -0.1992 dz = +0.3724 |d|^2 = +0.9588 f = +0.3048\r\n",
      "T00 ERR ... \r\n",
      "T00 ERR ...   S =   33 Omega = +13.206284012516 eV  lamdba = +93.89 nm <FT> = +19.0327 <K_x> = +0.9571 <K_d> = -6.7836\r\n",
      "T00 ERR ...            TrDipole length gauge[e*bohr]  dx = -1.0327 dy = +0.2502 dz = -0.4241 |d|^2 = +1.3090 f = +0.4235\r\n",
      "T00 ERR ... \r\n",
      "T00 ERR ...   S =   34 Omega = +13.275217384797 eV  lamdba = +93.41 nm <FT> = +19.3090 <K_x> = +0.3481 <K_d> = -6.3819\r\n",
      "T00 ERR ...            TrDipole length gauge[e*bohr]  dx = -0.0382 dy = -0.0228 dz = +0.0967 |d|^2 = +0.0113 f = +0.0037\r\n",
      "T00 ERR ...            HOMO-5   -> LUMO+3    : 54.4%\r\n",
      "T00 ERR ... \r\n",
      "T00 ERR ...   S =   35 Omega = +13.560399064702 eV  lamdba = +91.44 nm <FT> = +19.5229 <K_x> = +0.1776 <K_d> = -6.1401\r\n",
      "T00 ERR ...            TrDipole length gauge[e*bohr]  dx = +0.0087 dy = +0.0341 dz = -0.1210 |d|^2 = +0.0159 f = +0.0053\r\n",
      "T00 ERR ...            HOMO-7   -> LUMO+0    : 58.2%\r\n",
      "T00 ERR ... \r\n",
      "T00 ERR ...   S =   36 Omega = +13.599049754509 eV  lamdba = +91.18 nm <FT> = +19.7704 <K_x> = +0.3681 <K_d> = -6.5395\r\n",
      "T00 ERR ...            TrDipole length gauge[e*bohr]  dx = -0.0070 dy = +0.0147 dz = +0.0015 |d|^2 = +0.0003 f = +0.0001\r\n",
      "T00 ERR ...            HOMO-0   -> LUMO+8    : 97.8%\r\n",
      "T00 ERR ... \r\n",
      "T00 ERR ...   S =   37 Omega = +13.606935903277 eV  lamdba = +91.13 nm <FT> = +19.3205 <K_x> = +0.4711 <K_d> = -6.1847\r\n",
      "T00 ERR ...            TrDipole length gauge[e*bohr]  dx = -0.0825 dy = +0.2668 dz = +0.0796 |d|^2 = +0.0843 f = +0.0281\r\n",
      "T00 ERR ... \r\n",
      "T00 ERR ...   S =   38 Omega = +13.693115966008 eV  lamdba = +90.56 nm <FT> = +19.4279 <K_x> = +0.6066 <K_d> = -6.3413\r\n",
      "T00 ERR ...            TrDipole length gauge[e*bohr]  dx = -0.6668 dy = +0.0795 dz = -0.2459 |d|^2 = +0.5114 f = +0.1716\r\n",
      "T00 ERR ...            HOMO-3   -> LUMO+3    : 66.3%\r\n",
      "T00 ERR ... \r\n",
      "T00 ERR ...   S =   39 Omega = +13.706534777508 eV  lamdba = +90.47 nm <FT> = +19.7431 <K_x> = +0.4844 <K_d> = -6.5209\r\n",
      "T00 ERR ...            TrDipole length gauge[e*bohr]  dx = +0.0132 dy = -0.0935 dz = +0.2304 |d|^2 = +0.0620 f = +0.0208\r\n",
      "T00 ERR ... \r\n",
      "T00 ERR ...   S =   40 Omega = +13.887476927357 eV  lamdba = +89.29 nm <FT> = +19.3568 <K_x> = +0.2959 <K_d> = -5.7653\r\n",
      "T00 ERR ...            TrDipole length gauge[e*bohr]  dx = -0.0103 dy = +0.2710 dz = +0.1354 |d|^2 = +0.0919 f = +0.0313\r\n",
      "T00 ERR ... \r\n",
      "T00 ERR ...   S =   41 Omega = +13.959330130449 eV  lamdba = +88.83 nm <FT> = +19.8859 <K_x> = +0.2090 <K_d> = -6.1355\r\n",
      "T00 ERR ...            TrDipole length gauge[e*bohr]  dx = +0.0366 dy = -0.0150 dz = -0.0082 |d|^2 = +0.0016 f = +0.0006\r\n",
      "T00 ERR ...            HOMO-1   -> LUMO+8    : 76.2%\r\n",
      "T00 ERR ... \r\n",
      "T00 ERR ...   S =   42 Omega = +14.137623956257 eV  lamdba = +87.71 nm <FT> = +20.0551 <K_x> = +0.5871 <K_d> = -6.5045\r\n",
      "T00 ERR ...            TrDipole length gauge[e*bohr]  dx = -1.0766 dy = +0.2209 dz = -0.4702 |d|^2 = +1.4289 f = +0.4949\r\n",
      "T00 ERR ...            HOMO-3   -> LUMO+4    : 65.5%\r\n",
      "T00 ERR ... \r\n",
      "T00 ERR ...   S =   43 Omega = +14.263535336160 eV  lamdba = +86.93 nm <FT> = +20.1826 <K_x> = +0.7262 <K_d> = -6.6452\r\n",
      "T00 ERR ...            TrDipole length gauge[e*bohr]  dx = +0.0600 dy = +0.7692 dz = +0.4404 |d|^2 = +0.7892 f = +0.2758\r\n",
      "T00 ERR ...            HOMO-4   -> LUMO+4    : 62.0%\r\n",
      "T00 ERR ... \r\n",
      "T00 ERR ...   S =   44 Omega = +14.426650670729 eV  lamdba = +85.95 nm <FT> = +20.4878 <K_x> = +0.9303 <K_d> = -6.9914\r\n",
      "T00 ERR ...            TrDipole length gauge[e*bohr]  dx = +0.0423 dy = +1.3762 dz = +0.7543 |d|^2 = +2.4649 f = +0.8712\r\n",
      "T00 ERR ...            HOMO-6   -> LUMO+3    : 60.6%\r\n",
      "T00 ERR ... \r\n",
      "T00 ERR ...   S =   45 Omega = +14.592853690421 eV  lamdba = +84.97 nm <FT> = +20.8169 <K_x> = +0.3343 <K_d> = -6.5583\r\n",
      "T00 ERR ...            TrDipole length gauge[e*bohr]  dx = -0.0202 dy = -0.0146 dz = +0.0140 |d|^2 = +0.0008 f = +0.0003\r\n",
      "T00 ERR ...            HOMO-9   -> LUMO+0    : 74.4%\r\n",
      "T00 ERR ... \r\n",
      "T00 ERR ...   S =   46 Omega = +14.691717588729 eV  lamdba = +84.40 nm <FT> = +19.9718 <K_x> = +0.2324 <K_d> = -5.5125\r\n",
      "T00 ERR ...            TrDipole length gauge[e*bohr]  dx = -0.0618 dy = +0.2486 dz = +0.0979 |d|^2 = +0.0752 f = +0.0271\r\n",
      "T00 ERR ...            HOMO-2   -> LUMO+6    : 78.2%\r\n",
      "T00 ERR ... \r\n",
      "T00 ERR ...   S =   47 Omega = +14.864091648688 eV  lamdba = +83.42 nm <FT> = +20.7752 <K_x> = +0.6354 <K_d> = -6.5465\r\n",
      "T00 ERR ...            TrDipole length gauge[e*bohr]  dx = +0.0388 dy = -0.8148 dz = -0.4023 |d|^2 = +0.8273 f = +0.3013\r\n",
      "T00 ERR ...            HOMO-6   -> LUMO+4    : 54.0%\r\n",
      "T00 ERR ... \r\n",
      "T00 ERR ...   S =   48 Omega = +14.882187874574 eV  lamdba = +83.32 nm <FT> = +20.2671 <K_x> = +0.3229 <K_d> = -5.7077\r\n",
      "T00 ERR ...            TrDipole length gauge[e*bohr]  dx = +0.5647 dy = -0.0351 dz = +0.2955 |d|^2 = +0.4074 f = +0.1486\r\n",
      "T00 ERR ...            HOMO-2   -> LUMO+7    : 84.5%\r\n",
      "T00 ERR ... \r\n",
      "T00 ERR ...   S =   49 Omega = +14.928613007800 eV  lamdba = +83.06 nm <FT> = +20.9576 <K_x> = +0.4786 <K_d> = -6.5076\r\n",
      "T00 ERR ...            TrDipole length gauge[e*bohr]  dx = +0.1771 dy = +0.1686 dz = -0.3305 |d|^2 = +0.1690 f = +0.0618\r\n",
      "T00 ERR ...            HOMO-8   -> LUMO+0    : 53.5%\r\n",
      "T00 ERR ... \r\n",
      "T00 ERR ...   S =   50 Omega = +14.973168211368 eV  lamdba = +82.81 nm <FT> = +20.5399 <K_x> = +0.1903 <K_d> = -5.7571\r\n",
      "T00 ERR ...            TrDipole length gauge[e*bohr]  dx = -0.0835 dy = -0.0422 dz = +0.1304 |d|^2 = +0.0258 f = +0.0094\r\n",
      "T00 ERR ...            HOMO-5   -> LUMO+5    : 84.9%\r\n",
      "T00 ERR ... \r\n",
      "T00 ERR ...   S =   51 Omega = +15.305042766768 eV  lamdba = +81.02 nm <FT> = +20.8843 <K_x> = +0.4161 <K_d> = -5.9954\r\n",
      "T00 ERR ...            TrDipole length gauge[e*bohr]  dx = +0.1176 dy = -0.3718 dz = -0.1336 |d|^2 = +0.1699 f = +0.0637\r\n",
      "T00 ERR ... \r\n",
      "T00 ERR ...   S =   52 Omega = +15.316311114480 eV  lamdba = +80.96 nm <FT> = +20.9096 <K_x> = +0.3832 <K_d> = -5.9764\r\n",
      "T00 ERR ...            TrDipole length gauge[e*bohr]  dx = +0.4515 dy = -0.0009 dz = +0.2445 |d|^2 = +0.2637 f = +0.0989\r\n",
      "T00 ERR ... \r\n",
      "T00 ERR ...   S =   53 Omega = +15.407588893695 eV  lamdba = +80.48 nm <FT> = +21.8081 <K_x> = +0.3376 <K_d> = -6.7381\r\n",
      "T00 ERR ...            TrDipole length gauge[e*bohr]  dx = -0.0135 dy = -0.0022 dz = +0.0533 |d|^2 = +0.0030 f = +0.0011\r\n",
      "T00 ERR ...            HOMO-7   -> LUMO+2    : 64.0%\r\n",
      "T00 ERR ... \r\n",
      "T00 ERR ...   S =   54 Omega = +15.438495104211 eV  lamdba = +80.32 nm <FT> = +21.4750 <K_x> = +0.4081 <K_d> = -6.4445\r\n",
      "T00 ERR ...            TrDipole length gauge[e*bohr]  dx = +0.1188 dy = +0.1284 dz = -0.2215 |d|^2 = +0.0797 f = +0.0301\r\n",
      "T00 ERR ...            HOMO-0   -> LUMO+9    : 77.3%\r\n",
      "T00 ERR ... \r\n",
      "T00 ERR ...   S =   55 Omega = +15.617223788046 eV  lamdba = +79.40 nm <FT> = +21.5720 <K_x> = +0.8477 <K_d> = -6.8025\r\n",
      "T00 ERR ...            TrDipole length gauge[e*bohr]  dx = -0.0880 dy = +1.2557 dz = +0.6227 |d|^2 = +1.9724 f = +0.7547\r\n",
      "T00 ERR ...            HOMO-3   -> LUMO+6    : 55.5%\r\n",
      "T00 ERR ... \r\n",
      "T00 ERR ...   S =   56 Omega = +15.776849875511 eV  lamdba = +78.60 nm <FT> = +21.5868 <K_x> = +0.1571 <K_d> = -5.9670\r\n",
      "T00 ERR ...            TrDipole length gauge[e*bohr]  dx = +0.0173 dy = +0.0565 dz = +0.0177 |d|^2 = +0.0038 f = +0.0015\r\n",
      "T00 ERR ...            HOMO-1   -> LUMO+9    : 65.3%\r\n",
      "T00 ERR ... \r\n",
      "T00 ERR ...   S =   57 Omega = +15.903027841691 eV  lamdba = +77.97 nm <FT> = +21.4759 <K_x> = +0.4101 <K_d> = -5.9829\r\n",
      "T00 ERR ...            TrDipole length gauge[e*bohr]  dx = -0.1622 dy = +0.0049 dz = -0.0348 |d|^2 = +0.0275 f = +0.0107\r\n",
      "T00 ERR ...            HOMO-5   -> LUMO+6    : 53.7%\r\n",
      "T00 ERR ... \r\n",
      "T00 ERR ...   S =   58 Omega = +15.928636719984 eV  lamdba = +77.85 nm <FT> = +21.6431 <K_x> = +0.6451 <K_d> = -6.3596\r\n",
      "T00 ERR ...            TrDipole length gauge[e*bohr]  dx = +0.5481 dy = -0.1608 dz = +0.2226 |d|^2 = +0.3758 f = +0.1467\r\n",
      "T00 ERR ... \r\n",
      "T00 ERR ...   S =   59 Omega = +16.161317413581 eV  lamdba = +76.73 nm <FT> = +21.6726 <K_x> = +0.3120 <K_d> = -5.8233\r\n",
      "T00 ERR ...            TrDipole length gauge[e*bohr]  dx = -0.0397 dy = -0.2694 dz = +0.0638 |d|^2 = +0.0782 f = +0.0310\r\n",
      "T00 ERR ...            HOMO-5   -> LUMO+7    : 59.1%\r\n",
      "T00 ERR ... \r\n",
      "T00 ERR ...   S =   60 Omega = +16.165981716274 eV  lamdba = +76.70 nm <FT> = +21.8232 <K_x> = +0.4076 <K_d> = -6.0649\r\n",
      "T00 ERR ...            TrDipole length gauge[e*bohr]  dx = +0.0868 dy = -0.2849 dz = -0.2737 |d|^2 = +0.1636 f = +0.0648\r\n",
      "T00 ERR ... \r\n",
      "T00 ERR ...   S =   61 Omega = +16.257142990380 eV  lamdba = +76.27 nm <FT> = +22.1329 <K_x> = +0.9278 <K_d> = -6.8036\r\n",
      "T00 ERR ...            TrDipole length gauge[e*bohr]  dx = +0.2305 dy = -0.2933 dz = -0.0407 |d|^2 = +0.1408 f = +0.0561\r\n",
      "T00 ERR ... \r\n",
      "T00 ERR ...   S =   62 Omega = +16.284808123872 eV  lamdba = +76.14 nm <FT> = +21.9693 <K_x> = +0.4125 <K_d> = -6.0970\r\n",
      "T00 ERR ...            TrDipole length gauge[e*bohr]  dx = -0.0901 dy = -0.3885 dz = -0.2262 |d|^2 = +0.2102 f = +0.0839\r\n",
      "T00 ERR ...            HOMO-3   -> LUMO+7    : 73.5%\r\n",
      "T00 ERR ... \r\n",
      "T00 ERR ...   S =   63 Omega = +16.390720476090 eV  lamdba = +75.65 nm <FT> = +21.9678 <K_x> = +0.4380 <K_d> = -6.0151\r\n",
      "T00 ERR ...            TrDipole length gauge[e*bohr]  dx = -0.1649 dy = -0.5202 dz = -0.3658 |d|^2 = +0.4316 f = +0.1733\r\n",
      "T00 ERR ...            HOMO-4   -> LUMO+7    : 56.0%\r\n",
      "T00 ERR ... \r\n",
      "T00 ERR ...   S =   64 Omega = +16.713529771922 eV  lamdba = +74.19 nm <FT> = +22.9392 <K_x> = +0.4020 <K_d> = -6.6276\r\n",
      "T00 ERR ...            TrDipole length gauge[e*bohr]  dx = +0.0097 dy = +0.0070 dz = -0.0200 |d|^2 = +0.0005 f = +0.0002\r\n",
      "T00 ERR ...            HOMO-8   -> LUMO+2    : 59.1%\r\n",
      "T00 ERR ... \r\n",
      "T00 ERR ...   S =   65 Omega = +16.904014962373 eV  lamdba = +73.36 nm <FT> = +22.4277 <K_x> = +0.3124 <K_d> = -5.8361\r\n",
      "T00 ERR ...            TrDipole length gauge[e*bohr]  dx = +0.8046 dy = -0.1723 dz = +0.3501 |d|^2 = +0.7997 f = +0.3312\r\n",
      "T00 ERR ...            HOMO-6   -> LUMO+6    : 66.4%\r\n",
      "T00 ERR ... \r\n",
      "T00 ERR ...   S =   66 Omega = +16.988094288173 eV  lamdba = +72.99 nm <FT> = +22.8123 <K_x> = +0.4507 <K_d> = -6.2749\r\n",
      "T00 ERR ...            TrDipole length gauge[e*bohr]  dx = -0.4239 dy = +0.1363 dz = -0.1748 |d|^2 = +0.2288 f = +0.0952\r\n",
      "T00 ERR ... \r\n",
      "T00 ERR ...   S =   67 Omega = +17.034095975290 eV  lamdba = +72.80 nm <FT> = +22.8272 <K_x> = +0.3359 <K_d> = -6.1290\r\n",
      "T00 ERR ...            TrDipole length gauge[e*bohr]  dx = -0.0240 dy = +0.0090 dz = +0.0001 |d|^2 = +0.0007 f = +0.0003\r\n",
      "T00 ERR ... \r\n",
      "T00 ERR ...   S =   68 Omega = +17.214715383420 eV  lamdba = +72.03 nm <FT> = +22.9047 <K_x> = +0.4888 <K_d> = -6.1788\r\n",
      "T00 ERR ...            TrDipole length gauge[e*bohr]  dx = -0.1186 dy = -0.0235 dz = -0.0735 |d|^2 = +0.0200 f = +0.0084\r\n",
      "T00 ERR ... \r\n",
      "T00 ERR ...   S =   69 Omega = +17.292747174406 eV  lamdba = +71.71 nm <FT> = +23.5705 <K_x> = +0.2318 <K_d> = -6.5095\r\n",
      "T00 ERR ...            TrDipole length gauge[e*bohr]  dx = +0.0638 dy = +0.0274 dz = -0.0478 |d|^2 = +0.0071 f = +0.0030\r\n",
      "T00 ERR ...            HOMO-0   -> LUMO+10   : 93.7%\r\n",
      "T00 ERR ... \r\n",
      "T00 ERR ...   S =   70 Omega = +17.298616204624 eV  lamdba = +71.68 nm <FT> = +23.2613 <K_x> = +0.9645 <K_d> = -6.9272\r\n",
      "T00 ERR ...            TrDipole length gauge[e*bohr]  dx = +0.2415 dy = +0.1285 dz = -0.2594 |d|^2 = +0.1421 f = +0.0602\r\n",
      "T00 ERR ... \r\n",
      "T00 ERR ...   S =   71 Omega = +17.448991088583 eV  lamdba = +71.06 nm <FT> = +23.2748 <K_x> = +0.3041 <K_d> = -6.1299\r\n",
      "T00 ERR ...            TrDipole length gauge[e*bohr]  dx = +0.2163 dy = -0.0414 dz = +0.1116 |d|^2 = +0.0609 f = +0.0261\r\n",
      "T00 ERR ... \r\n",
      "T00 ERR ...   S =   72 Omega = +17.520647809289 eV  lamdba = +70.77 nm <FT> = +23.0099 <K_x> = +0.5430 <K_d> = -6.0323\r\n",
      "T00 ERR ...            TrDipole length gauge[e*bohr]  dx = -0.8686 dy = +0.2297 dz = -0.3618 |d|^2 = +0.9382 f = +0.4027\r\n",
      "T00 ERR ... \r\n",
      "T00 ERR ...   S =   73 Omega = +17.715314073517 eV  lamdba = +70.00 nm <FT> = +23.9460 <K_x> = +0.5084 <K_d> = -6.7390\r\n",
      "T00 ERR ...            TrDipole length gauge[e*bohr]  dx = +0.2562 dy = +0.2285 dz = -0.4571 |d|^2 = +0.3268 f = +0.1418\r\n",
      "T00 ERR ...            HOMO-1   -> LUMO+10   : 53.1%\r\n",
      "T00 ERR ... \r\n",
      "T00 ERR ...   S =   74 Omega = +17.836298782966 eV  lamdba = +69.52 nm <FT> = +23.9617 <K_x> = +1.0960 <K_d> = -7.2214\r\n",
      "T00 ERR ...            TrDipole length gauge[e*bohr]  dx = +0.3664 dy = +0.4047 dz = -0.7235 |d|^2 = +0.8215 f = +0.3590\r\n",
      "T00 ERR ... \r\n",
      "T00 ERR ...   S =   75 Omega = +18.087259572611 eV  lamdba = +68.56 nm <FT> = +23.9242 <K_x> = +1.0949 <K_d> = -6.9318\r\n",
      "T00 ERR ...            TrDipole length gauge[e*bohr]  dx = -0.9927 dy = +0.2892 dz = -0.3808 |d|^2 = +1.2140 f = +0.5380\r\n",
      "T00 ERR ... \r\n",
      "T00 ERR ...   S =   76 Omega = +18.144849492383 eV  lamdba = +68.34 nm <FT> = +24.4378 <K_x> = +0.5461 <K_d> = -6.8390\r\n",
      "T00 ERR ...            TrDipole length gauge[e*bohr]  dx = +0.0716 dy = +0.6575 dz = +0.3898 |d|^2 = +0.5893 f = +0.2620\r\n",
      "T00 ERR ...            HOMO-4   -> LUMO+8    : 52.4%\r\n",
      "T00 ERR ... \r\n",
      "T00 ERR ...   S =   77 Omega = +18.320320702112 eV  lamdba = +67.68 nm <FT> = +24.2169 <K_x> = +0.5587 <K_d> = -6.4553\r\n",
      "T00 ERR ...            TrDipole length gauge[e*bohr]  dx = -0.1445 dy = +0.0036 dz = -0.1074 |d|^2 = +0.0324 f = +0.0146\r\n",
      "T00 ERR ... \r\n",
      "T00 ERR ...   S =   78 Omega = +18.362325033991 eV  lamdba = +67.53 nm <FT> = +24.4927 <K_x> = +0.1908 <K_d> = -6.3211\r\n",
      "T00 ERR ...            TrDipole length gauge[e*bohr]  dx = +0.1537 dy = +0.1104 dz = -0.2310 |d|^2 = +0.0892 f = +0.0401\r\n",
      "T00 ERR ...            HOMO-0   -> LUMO+11   : 76.3%\r\n",
      "T00 ERR ... \r\n",
      "T00 ERR ...   S =   79 Omega = +18.550409183302 eV  lamdba = +66.84 nm <FT> = +24.2870 <K_x> = +0.6684 <K_d> = -6.4050\r\n",
      "T00 ERR ...            TrDipole length gauge[e*bohr]  dx = +0.0027 dy = +0.0905 dz = +0.0626 |d|^2 = +0.0121 f = +0.0055\r\n",
      "T00 ERR ...            HOMO-8   -> LUMO+3    : 60.3%\r\n",
      "T00 ERR ... \r\n",
      "T00 ERR ...   S =   80 Omega = +18.569586899640 eV  lamdba = +66.78 nm <FT> = +24.3662 <K_x> = +0.3965 <K_d> = -6.1930\r\n",
      "T00 ERR ...            TrDipole length gauge[e*bohr]  dx = +0.0332 dy = -0.0930 dz = -0.0308 |d|^2 = +0.0107 f = +0.0049\r\n",
      "T00 ERR ...            HOMO-2   -> LUMO+9    : 64.6%\r\n",
      "T00 ERR ... \r\n",
      "T00 ERR ...   S =   81 Omega = +18.612252891324 eV  lamdba = +66.62 nm <FT> = +24.9586 <K_x> = +0.2384 <K_d> = -6.5847\r\n",
      "T00 ERR ...            TrDipole length gauge[e*bohr]  dx = +0.0034 dy = -0.0018 dz = -0.0064 |d|^2 = +0.0001 f = +0.0000\r\n",
      "T00 ERR ...            HOMO-1   -> LUMO+11   : 95.4%\r\n",
      "T00 ERR ... \r\n",
      "T00 ERR ...   S =   82 Omega = +18.645266375830 eV  lamdba = +66.50 nm <FT> = +24.2065 <K_x> = +0.3843 <K_d> = -5.9456\r\n",
      "T00 ERR ...            TrDipole length gauge[e*bohr]  dx = -0.0233 dy = +0.1204 dz = +0.0524 |d|^2 = +0.0178 f = +0.0081\r\n",
      "T00 ERR ...            HOMO-9   -> LUMO+3    : 64.9%\r\n",
      "T00 ERR ... \r\n",
      "T00 ERR ...   S =   83 Omega = +18.951259034639 eV  lamdba = +65.43 nm <FT> = +24.8950 <K_x> = +0.3852 <K_d> = -6.3290\r\n",
      "T00 ERR ...            TrDipole length gauge[e*bohr]  dx = -0.0364 dy = +0.4663 dz = +0.2319 |d|^2 = +0.2726 f = +0.1266\r\n",
      "T00 ERR ... \r\n",
      "T00 ERR ...   S =   84 Omega = +19.045930752183 eV  lamdba = +65.11 nm <FT> = +24.8021 <K_x> = +0.5401 <K_d> = -6.2964\r\n",
      "T00 ERR ...            TrDipole length gauge[e*bohr]  dx = -0.5850 dy = +0.1094 dz = -0.2473 |d|^2 = +0.4154 f = +0.1938\r\n",
      "T00 ERR ...            HOMO-8   -> LUMO+4    : 61.1%\r\n",
      "T00 ERR ... \r\n",
      "T00 ERR ...   S =   85 Omega = +19.094894470948 eV  lamdba = +64.94 nm <FT> = +24.5918 <K_x> = +0.2337 <K_d> = -5.7306\r\n",
      "T00 ERR ...            TrDipole length gauge[e*bohr]  dx = +0.0422 dy = +0.4131 dz = +0.2431 |d|^2 = +0.2315 f = +0.1083\r\n",
      "T00 ERR ...            HOMO-7   -> LUMO+5    : 65.1%\r\n",
      "T00 ERR ... \r\n",
      "T00 ERR ...   S =   86 Omega = +19.319493090334 eV  lamdba = +64.18 nm <FT> = +25.6091 <K_x> = +0.7397 <K_d> = -7.0293\r\n",
      "T00 ERR ...            TrDipole length gauge[e*bohr]  dx = +0.0489 dy = +0.0392 dz = -0.0885 |d|^2 = +0.0118 f = +0.0056\r\n",
      "T00 ERR ...            HOMO-11  -> LUMO+0    : 96.9%\r\n",
      "T00 ERR ... \r\n",
      "T00 ERR ...   S =   87 Omega = +19.374810351138 eV  lamdba = +64.00 nm <FT> = +25.4658 <K_x> = +1.0361 <K_d> = -7.1272\r\n",
      "T00 ERR ...            TrDipole length gauge[e*bohr]  dx = +0.0009 dy = +0.0064 dz = -0.0041 |d|^2 = +0.0001 f = +0.0000\r\n",
      "T00 ERR ...            HOMO-10  -> LUMO+0    : 95.6%\r\n",
      "T00 ERR ... \r\n",
      "T00 ERR ...   S =   88 Omega = +19.410446281867 eV  lamdba = +63.88 nm <FT> = +25.0195 <K_x> = +0.5873 <K_d> = -6.1964\r\n",
      "T00 ERR ...            TrDipole length gauge[e*bohr]  dx = +0.0245 dy = -0.4296 dz = -0.2052 |d|^2 = +0.2272 f = +0.1081\r\n",
      "T00 ERR ... \r\n",
      "T00 ERR ...   S =   89 Omega = +19.519116513770 eV  lamdba = +63.53 nm <FT> = +25.1591 <K_x> = +0.4968 <K_d> = -6.1367\r\n",
      "T00 ERR ...            TrDipole length gauge[e*bohr]  dx = +0.0196 dy = +0.4357 dz = +0.2428 |d|^2 = +0.2491 f = +0.1191\r\n",
      "T00 ERR ...            HOMO-7   -> LUMO+6    : 89.1%\r\n",
      "T00 ERR ... \r\n",
      "T00 ERR ...   S =   90 Omega = +19.715914892775 eV  lamdba = +62.89 nm <FT> = +25.7890 <K_x> = +0.2633 <K_d> = -6.3365\r\n",
      "T00 ERR ...            TrDipole length gauge[e*bohr]  dx = -0.0232 dy = -0.0088 dz = -0.0155 |d|^2 = +0.0009 f = +0.0004\r\n",
      "T00 ERR ...            HOMO-5   -> LUMO+9    : 88.9%\r\n",
      "T00 ERR ... \r\n",
      "T00 ERR ...   S =   91 Omega = +19.812982932653 eV  lamdba = +62.59 nm <FT> = +25.6717 <K_x> = +0.5817 <K_d> = -6.4404\r\n",
      "T00 ERR ...            TrDipole length gauge[e*bohr]  dx = -0.5028 dy = +0.1235 dz = -0.2060 |d|^2 = +0.3105 f = +0.1507\r\n",
      "T00 ERR ... \r\n",
      "T00 ERR ...   S =   92 Omega = +19.937306936537 eV  lamdba = +62.19 nm <FT> = +25.9168 <K_x> = +0.1874 <K_d> = -6.1669\r\n",
      "T00 ERR ...            TrDipole length gauge[e*bohr]  dx = -0.0617 dy = +0.1065 dz = -0.0042 |d|^2 = +0.0152 f = +0.0074\r\n",
      "T00 ERR ...            HOMO-0   -> LUMO+12   : 81.9%\r\n",
      "T00 ERR ... \r\n",
      "T00 ERR ...   S =   93 Omega = +19.973429692037 eV  lamdba = +62.08 nm <FT> = +26.3953 <K_x> = +0.5587 <K_d> = -6.9806\r\n",
      "T00 ERR ...            TrDipole length gauge[e*bohr]  dx = +0.3574 dy = -0.0914 dz = +0.1517 |d|^2 = +0.1591 f = +0.0779\r\n",
      "T00 ERR ...            HOMO-2   -> LUMO+10   : 86.0%\r\n",
      "T00 ERR ... \r\n",
      "T00 ERR ...   S =   94 Omega = +20.070715566521 eV  lamdba = +61.78 nm <FT> = +25.6566 <K_x> = +0.1807 <K_d> = -5.7666\r\n",
      "T00 ERR ...            TrDipole length gauge[e*bohr]  dx = +0.0714 dy = +0.1117 dz = +0.0969 |d|^2 = +0.0269 f = +0.0132\r\n",
      "T00 ERR ... \r\n",
      "T00 ERR ...   S =   95 Omega = +20.134450706689 eV  lamdba = +61.59 nm <FT> = +25.8790 <K_x> = +0.4517 <K_d> = -6.1962\r\n",
      "T00 ERR ...            TrDipole length gauge[e*bohr]  dx = +0.0129 dy = +0.3427 dz = +0.1842 |d|^2 = +0.1515 f = +0.0747\r\n",
      "T00 ERR ... \r\n",
      "T00 ERR ...   S =   96 Omega = +20.218039740105 eV  lamdba = +61.33 nm <FT> = +26.0618 <K_x> = +0.5037 <K_d> = -6.3475\r\n",
      "T00 ERR ...            TrDipole length gauge[e*bohr]  dx = +0.1080 dy = -0.0372 dz = +0.0381 |d|^2 = +0.0145 f = +0.0072\r\n",
      "T00 ERR ... \r\n",
      "T00 ERR ...   S =   97 Omega = +20.515749852770 eV  lamdba = +60.44 nm <FT> = +26.8380 <K_x> = +0.3199 <K_d> = -6.6422\r\n",
      "T00 ERR ...            TrDipole length gauge[e*bohr]  dx = +0.1120 dy = +0.1115 dz = -0.2191 |d|^2 = +0.0730 f = +0.0367\r\n",
      "T00 ERR ...            HOMO-1   -> LUMO+13   : 95.2%\r\n",
      "T00 ERR ... \r\n",
      "T00 ERR ...   S =   98 Omega = +20.551625149060 eV  lamdba = +60.34 nm <FT> = +26.5521 <K_x> = +0.6403 <K_d> = -6.6408\r\n",
      "T00 ERR ...            TrDipole length gauge[e*bohr]  dx = +0.1019 dy = -0.2932 dz = -0.1384 |d|^2 = +0.1155 f = +0.0582\r\n",
      "T00 ERR ...            HOMO-1   -> LUMO+12   : 53.9%\r\n",
      "T00 ERR ... \r\n",
      "T00 ERR ...   S =   99 Omega = +20.588338335075 eV  lamdba = +60.23 nm <FT> = +26.2491 <K_x> = +0.6873 <K_d> = -6.3481\r\n",
      "T00 ERR ...            TrDipole length gauge[e*bohr]  dx = -0.0060 dy = +0.6637 dz = +0.3664 |d|^2 = +0.5748 f = +0.2899\r\n",
      "T00 ERR ... \r\n",
      "T00 ERR ...   S =  100 Omega = +20.614077112932 eV  lamdba = +60.15 nm <FT> = +26.5955 <K_x> = +0.2332 <K_d> = -6.2146\r\n",
      "T00 ERR ...            TrDipole length gauge[e*bohr]  dx = +0.0051 dy = +0.1405 dz = +0.1277 |d|^2 = +0.0361 f = +0.0182\r\n",
      "T00 ERR ...            HOMO-0   -> LUMO+13   : 59.9%\r\n",
      "T00 ERR ... \r\n",
      "T00 ERR ... 2025-1-20 6:24:45 BSE calculation took 7.075541338 seconds.\r\n",
      "T00 ERR ... 2025-1-20 6:24:45 GWBSE calculation finished \r\n",
      "T00 ERR ... Filter overlap not used in first iteration as it needs a reference state\r\n",
      "T00 ERR ... No State found by tracker using last state: s1\r\n",
      "T00 ERR ... 2025-1-20 6:24:45 Evaluating staticregion 1\r\n",
      "T00 ERR ... 2025-1-20 6:24:45 Writing checkpoint to checkpoint_iter_1.hdf5"
     ]
    },
    {
     "name": "stdout",
     "output_type": "stream",
     "text": [
      "\r\n",
      "T00 ERR ... Next State is: s1\r\n",
      "T00 ERR ... Reporting job results\r\n",
      "\r\n",
      "T00 ERR ... Requesting next job\r\n",
      "T00 ERR ... Assign jobs from stack\r\n",
      "T00 ERR ... Sync did not yield any new jobs.\r\n",
      "T00 ERR ... Next job: ID = - (none available)\r\n",
      "MST ERR Assign jobs from stack\r\n",
      "Changes have not been written to state file.\r\n"
     ]
    }
   ],
   "source": [
    "!xtp_parallel -e qmmm -o qmmm.xml -f state.hdf5 -j run -x 4"
   ]
  },
  {
   "cell_type": "markdown",
   "metadata": {},
   "source": [
    "We can if we want plot the spectra from both calculations, for which we have to read the energies and oscillator strengths from the checkpoint files. We need the h5py package for python for it."
   ]
  },
  {
   "cell_type": "code",
   "execution_count": 23,
   "metadata": {
    "execution": {
     "iopub.execute_input": "2025-01-20T06:24:46.058730Z",
     "iopub.status.busy": "2025-01-20T06:24:46.058527Z",
     "iopub.status.idle": "2025-01-20T06:24:46.136930Z",
     "shell.execute_reply": "2025-01-20T06:24:46.136489Z"
    }
   },
   "outputs": [],
   "source": [
    "import h5py\n",
    "import numpy as np\n",
    "\n",
    "def getEnergies(orb):\n",
    "    a=orb['region_0']['QMdata']['BSE_singlet']['eigenvalues'][()]\n",
    "    a.flatten()\n",
    "    return a.flatten()\n",
    "\n",
    "def trans_sort(index):\n",
    "    return int(index[3:])\n",
    "\n",
    "def getOscillators(orb):\n",
    "    energies=getEnergies(orb)\n",
    "    transdip=[]\n",
    "    for k in sorted(orb['region_0']['QMdata']['transition_dipoles'].keys(),key=trans_sort):\n",
    "        transdip.append(np.array(orb['region_0']['QMdata']['transition_dipoles'][k][()]))\n",
    "    d2=[]\n",
    "    for b in transdip:\n",
    "        d2.append(np.sum(b**2))    \n",
    "    d2=np.array(d2)\n",
    "    oscs=2/3.0*energies*d2\n",
    "    return oscs\n",
    "\n",
    "def getSpectrum(filename):\n",
    "    orb=h5py.File(filename,'r')\n",
    "    e=getEnergies(orb)*27.2114\n",
    "    osc=getOscillators(orb)\n",
    "    return e,osc"
   ]
  },
  {
   "cell_type": "markdown",
   "metadata": {},
   "source": [
    "You will find the orb files in the `QMMM/frame_10000` folder."
   ]
  },
  {
   "cell_type": "code",
   "execution_count": 24,
   "metadata": {
    "execution": {
     "iopub.execute_input": "2025-01-20T06:24:46.139724Z",
     "iopub.status.busy": "2025-01-20T06:24:46.139475Z",
     "iopub.status.idle": "2025-01-20T06:24:46.442120Z",
     "shell.execute_reply": "2025-01-20T06:24:46.441607Z"
    }
   },
   "outputs": [],
   "source": [
    "spectrum_static=getSpectrum(\"QMMM/frame_10000/job_1_static/checkpoint_iter_1.hdf5\")\n",
    "spectrum_vacuum=getSpectrum(\"QMMM/frame_10000/job_0_vacuum/checkpoint_iter_1.hdf5\")\n",
    "\n",
    "import matplotlib.pyplot as plt\n",
    "%matplotlib inline\n",
    "plt.rcParams['figure.figsize'] = [12, 8]"
   ]
  },
  {
   "cell_type": "code",
   "execution_count": 25,
   "metadata": {
    "execution": {
     "iopub.execute_input": "2025-01-20T06:24:46.444802Z",
     "iopub.status.busy": "2025-01-20T06:24:46.444547Z",
     "iopub.status.idle": "2025-01-20T06:24:46.554760Z",
     "shell.execute_reply": "2025-01-20T06:24:46.554139Z"
    }
   },
   "outputs": [
    {
     "data": {
      "image/png": "[encoded data removed]",
      "text/plain": [
       "<Figure size 1200x800 with 1 Axes>"
      ]
     },
     "metadata": {},
     "output_type": "display_data"
    }
   ],
   "source": [
    "plt.vlines(spectrum_static[0],0,spectrum_static[1],label=\"static\",color='r')\n",
    "plt.vlines(spectrum_vacuum[0],0,spectrum_vacuum[1],label=\"vacuum\",color='g')\n",
    "plt.xlabel(\"energy [eV]\")\n",
    "plt.ylabel(\"intensity\")\n",
    "plt.legend()\n",
    "plt.show()"
   ]
  },
  {
   "cell_type": "code",
   "execution_count": null,
   "metadata": {},
   "outputs": [],
   "source": []
  }
 ],
 "metadata": {
  "kernelspec": {
   "display_name": "Python 3",
   "language": "python",
   "name": "python3"
  },
  "language_info": {
   "codemirror_mode": {
    "name": "ipython",
    "version": 3
   },
   "file_extension": ".py",
   "mimetype": "text/x-python",
   "name": "python",
   "nbconvert_exporter": "python",
   "pygments_lexer": "ipython3",
   "version": "3.13.1"
  }
 },
 "nbformat": 4,
 "nbformat_minor": 4
}
