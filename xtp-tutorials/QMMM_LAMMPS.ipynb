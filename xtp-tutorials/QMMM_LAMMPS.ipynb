{
 "cells": [
  {
   "cell_type": "markdown",
   "metadata": {},
   "source": [
    "# QMMM workflow using LAMMPS and VOTCA-XTP"
   ]
  },
  {
   "cell_type": "markdown",
   "metadata": {},
   "source": [
    "## What is this tutorial about\n",
    "In this tutorial, we will learn how to set and perform excited state calculation using the Votca XTP library. We will use thiophene as our QM region."
   ]
  },
  {
   "cell_type": "markdown",
   "metadata": {},
   "source": [
    "## Requirements\n",
    "* You will need to install **VOTCA** using the instructions described [here](https://github.com/votca/votca/blob/master/share/doc/INSTALL.rst)\n",
    "* Once the installation is completed you need to activate the VOTCA enviroment by running the `VOTCARC.bash` script that has been installed at the bin subfolder for the path that you have provided for the installation step above"
   ]
  },
  {
   "cell_type": "markdown",
   "metadata": {},
   "source": [
    "## Interacting with the XTP command line interface\n",
    "The XTP package offers the following command line interface that the user can interact with:\n",
    "* [xtp_map](https://www.votca.org/xtp/xtp_map.html)\n",
    "* [xtp_parallel](https://www.votca.org/xtp/xtp_parallel.html)\n",
    "* [xtp_run](https://www.votca.org/xtp/xtp_run.html)\n",
    "* [xtp_tools](https://www.votca.org/xtp/xtp_tools.html)\n",
    "\n",
    "Run the following command to view the help message of `xtp_tools`:"
   ]
  },
  {
   "cell_type": "code",
   "execution_count": 1,
   "metadata": {
    "execution": {
     "iopub.execute_input": "2021-05-11T01:04:28.766842Z",
     "iopub.status.busy": "2021-05-11T01:04:28.766303Z",
     "iopub.status.idle": "2021-05-11T01:04:29.419410Z",
     "shell.execute_reply": "2021-05-11T01:04:29.419812Z"
    }
   },
   "outputs": [
    {
     "name": "stdout",
     "output_type": "stream",
     "text": [
      "==================================================\r\n",
      "========   VOTCA (http://www.votca.org)   ========\r\n",
      "==================================================\r\n",
      "\r\n",
      "please submit bugs to https://github.com/votca/xtp/issues\r\n",
      "\r\n",
      "xtp_tools, version 2022-dev gitid: c195969 (compiled May 11 2021, 00:52:55)\r\n",
      "votca_csg, version 2022-dev gitid: c195969 (compiled May 11 2021, 00:37:56)\r\n",
      "votca_tools, version 2022-dev gitid: c195969 (compiled May 11 2021, 00:35:22)\r\n",
      "\r\n",
      "Runs excitation/charge transport tools\r\n",
      "\r\n",
      "\r\n",
      "\r\n",
      "Allowed options:\r\n",
      "  -h [ --help ]                 display this help and exit\r\n",
      "  --verbose                     be loud and noisy\r\n",
      "  --verbose1                    be very loud and noisy\r\n",
      "  -v [ --verbose2 ]             be extremly loud and noisy\r\n",
      "  -o [ --options ] arg          calculator options\r\n",
      "  -t [ --nthreads ] arg (=1)    number of threads to create\r\n",
      "\r\n",
      "Tools:\r\n",
      "  -e [ --execute ] arg        name of the tool to run\r\n",
      "  -l [ --list ]               Lists all available tools\r\n",
      "  -d [ --description ] arg    Short description of a tool\r\n",
      "  -n [ --name ] arg           Name of the job to run\r\n",
      "\r\n"
     ]
    }
   ],
   "source": [
    "!xtp_tools -h"
   ]
  },
  {
   "cell_type": "markdown",
   "metadata": {},
   "source": [
    "### Note\n",
    "> * In Jupyter the `!` symbol means: *run the following command as a standard unix command*\n",
    "> * In Jupyter the command `%env` set an environmental variable"
   ]
  },
  {
   "cell_type": "markdown",
   "metadata": {},
   "source": [
    "## Setting the environment\n"
   ]
  },
  {
   "cell_type": "markdown",
   "metadata": {},
   "source": [
    "Create a folder to store the input `Options` for XTP"
   ]
  },
  {
   "cell_type": "code",
   "execution_count": 2,
   "metadata": {
    "execution": {
     "iopub.execute_input": "2021-05-11T01:04:29.425900Z",
     "iopub.status.busy": "2021-05-11T01:04:29.423479Z",
     "iopub.status.idle": "2021-05-11T01:04:30.011474Z",
     "shell.execute_reply": "2021-05-11T01:04:30.011037Z"
    }
   },
   "outputs": [],
   "source": [
    "!mkdir -p OPTIONFILES"
   ]
  },
  {
   "cell_type": "markdown",
   "metadata": {},
   "source": [
    "Remove previous hdf5 file"
   ]
  },
  {
   "cell_type": "code",
   "execution_count": 3,
   "metadata": {
    "execution": {
     "iopub.execute_input": "2021-05-11T01:04:30.017353Z",
     "iopub.status.busy": "2021-05-11T01:04:30.014768Z",
     "iopub.status.idle": "2021-05-11T01:04:30.595646Z",
     "shell.execute_reply": "2021-05-11T01:04:30.594484Z"
    }
   },
   "outputs": [],
   "source": [
    "!rm -f state.hdf5"
   ]
  },
  {
   "cell_type": "markdown",
   "metadata": {},
   "source": [
    "Import an small python module to edit xml files"
   ]
  },
  {
   "cell_type": "code",
   "execution_count": 4,
   "metadata": {
    "execution": {
     "iopub.execute_input": "2021-05-11T01:04:30.600149Z",
     "iopub.status.busy": "2021-05-11T01:04:30.598828Z",
     "iopub.status.idle": "2021-05-11T01:04:30.606620Z",
     "shell.execute_reply": "2021-05-11T01:04:30.606225Z"
    }
   },
   "outputs": [],
   "source": [
    "from xml_editor import add_section, edit_calculator\n",
    "import os"
   ]
  },
  {
   "cell_type": "markdown",
   "metadata": {},
   "source": [
    "## Generate the topology from the Gromacs file\n",
    "We will first generate the mapping from MD coordinates to segments, creating an [hdf5 file](https://www.hdfgroup.org/solutions/hdf5/) to store the results. You can explore the generated `state.hdf5` file with e.g. hdf5itebrowser. In Python, you can use the [h5py library](https://www.h5py.org/). The command to generate the mapping is the following,"
   ]
  },
  {
   "cell_type": "code",
   "execution_count": 5,
   "metadata": {
    "execution": {
     "iopub.execute_input": "2021-05-11T01:04:30.611294Z",
     "iopub.status.busy": "2021-05-11T01:04:30.610727Z",
     "iopub.status.idle": "2021-05-11T01:04:35.073814Z",
     "shell.execute_reply": "2021-05-11T01:04:35.073344Z"
    }
   },
   "outputs": [],
   "source": [
    "!xtp_map -v -t MD_FILES/newfile.data -c MD_FILES/traj.dump -s system.xml -f state.hdf5 -i 99 > mapping.out"
   ]
  },
  {
   "cell_type": "markdown",
   "metadata": {},
   "source": [
    "##  Check the mapping\n",
    "\n",
    "Let us first output `.pdb` files for the segments, qmmolecules and classical segments in order to check the mapping. We will need to copy the input from the `VOTCA` installation path to our local copy."
   ]
  },
  {
   "cell_type": "code",
   "execution_count": 6,
   "metadata": {
    "execution": {
     "iopub.execute_input": "2021-05-11T01:04:35.080972Z",
     "iopub.status.busy": "2021-05-11T01:04:35.078190Z",
     "iopub.status.idle": "2021-05-11T01:04:35.645278Z",
     "shell.execute_reply": "2021-05-11T01:04:35.646126Z"
    }
   },
   "outputs": [],
   "source": [
    "!cp \"$VOTCASHARE/xtp/xml/mapchecker.xml\" OPTIONFILES/"
   ]
  },
  {
   "cell_type": "markdown",
   "metadata": {},
   "source": [
    "The `${VOTCASHARE}` environmental variable is set to the path that you provided during the `VOTCA` [installation](https://github.com/votca/votca/blob/master/share/doc/INSTALL.rst), by the default is set to `/usr/local/votca`.\n",
    "\n",
    "We need to update the `mapchecker` options with the file containing the definition of the system. For doing, so we will use the python module `xml_editor` that we have imported above. The first argument is the name of the calculator (i.e. `mapchecker`), the seconds argument is the name of the option to change and the third one, the value to use."
   ]
  },
  {
   "cell_type": "code",
   "execution_count": 7,
   "metadata": {
    "execution": {
     "iopub.execute_input": "2021-05-11T01:04:35.650708Z",
     "iopub.status.busy": "2021-05-11T01:04:35.649808Z",
     "iopub.status.idle": "2021-05-11T01:04:35.656293Z",
     "shell.execute_reply": "2021-05-11T01:04:35.655459Z"
    }
   },
   "outputs": [
    {
     "name": "stdout",
     "output_type": "stream",
     "text": [
      "The option 'map_file' on file 'OPTIONFILES/mapchecker.xml' has been set to 'system.xml'\n"
     ]
    }
   ],
   "source": [
    "edit_calculator(\"mapchecker\", \"map_file\", \"system.xml\")"
   ]
  },
  {
   "cell_type": "markdown",
   "metadata": {},
   "source": [
    "In the [mapchecker section of the manual](https://www.votca.org/xtp/mapchecker.html) you can find a table with the `mapchecker` input variables and their corresponding defaults. Finally, the following command run the check"
   ]
  },
  {
   "cell_type": "code",
   "execution_count": 8,
   "metadata": {
    "execution": {
     "iopub.execute_input": "2021-05-11T01:04:35.662315Z",
     "iopub.status.busy": "2021-05-11T01:04:35.659621Z",
     "iopub.status.idle": "2021-05-11T01:04:37.809984Z",
     "shell.execute_reply": "2021-05-11T01:04:37.810632Z"
    }
   },
   "outputs": [
    {
     "name": "stdout",
     "output_type": "stream",
     "text": [
      "==================================================\r\n",
      "========   VOTCA (http://www.votca.org)   ========\r\n",
      "==================================================\r\n",
      "\r\n",
      "please submit bugs to https://github.com/votca/xtp/issues\r\n",
      "\r\n",
      "xtp_run, version 2022-dev gitid: c195969 (compiled May 11 2021, 00:52:55)\r\n",
      "votca_csg, version 2022-dev gitid: c195969 (compiled May 11 2021, 00:37:56)\r\n",
      "votca_tools, version 2022-dev gitid: c195969 (compiled May 11 2021, 00:35:22)\r\n",
      "\r\n",
      "Initializing calculator\r\n",
      "... mapchecker \r\n",
      "1 frames in statefile, Ids are: 10000 \r\n",
      "Starting at frame 10000\r\n",
      "Evaluating frame 10000\r\n",
      "Import MD Topology (i.e. frame 10000) from state.hdf5\r\n",
      ".... \r\n",
      "... mapchecker  Using 1 threads\r\n",
      "Writing segments to md_segments_step_10000.pdb\r\n",
      "Writing qmmolecules to qm_segments_n_step_10000.pdb\r\n",
      "Writing polarsegments to mp_segments_e_step_10000.pdb\r\n",
      "Writing polarsegments to mp_segments_h_step_10000.pdb\r\n",
      "\r\n",
      "Changes have not been written to state file.\r\n"
     ]
    }
   ],
   "source": [
    "!xtp_run -e mapchecker -o OPTIONFILES/mapchecker.xml -f state.hdf5"
   ]
  },
  {
   "cell_type": "markdown",
   "metadata": {},
   "source": [
    "## Neighborlist Calculation\n",
    "The following step is to determine the neighbouring pairs for exciton transport."
   ]
  },
  {
   "cell_type": "code",
   "execution_count": 9,
   "metadata": {
    "execution": {
     "iopub.execute_input": "2021-05-11T01:04:37.816837Z",
     "iopub.status.busy": "2021-05-11T01:04:37.813927Z",
     "iopub.status.idle": "2021-05-11T01:04:38.400494Z",
     "shell.execute_reply": "2021-05-11T01:04:38.400092Z"
    }
   },
   "outputs": [],
   "source": [
    "!cp \"$VOTCASHARE/xtp/xml/neighborlist.xml\" OPTIONFILES/"
   ]
  },
  {
   "cell_type": "markdown",
   "metadata": {},
   "source": [
    "We will use a cutoff of 1.5,"
   ]
  },
  {
   "cell_type": "code",
   "execution_count": 10,
   "metadata": {
    "execution": {
     "iopub.execute_input": "2021-05-11T01:04:38.405660Z",
     "iopub.status.busy": "2021-05-11T01:04:38.404626Z",
     "iopub.status.idle": "2021-05-11T01:04:41.480168Z",
     "shell.execute_reply": "2021-05-11T01:04:41.480645Z"
    }
   },
   "outputs": [
    {
     "name": "stdout",
     "output_type": "stream",
     "text": [
      "==================================================\r\n",
      "========   VOTCA (http://www.votca.org)   ========\r\n",
      "==================================================\r\n",
      "\r\n",
      "please submit bugs to https://github.com/votca/xtp/issues\r\n",
      "\r\n",
      "xtp_run, version 2022-dev gitid: c195969 (compiled May 11 2021, 00:52:55)\r\n",
      "votca_csg, version 2022-dev gitid: c195969 (compiled May 11 2021, 00:37:56)\r\n",
      "votca_tools, version 2022-dev gitid: c195969 (compiled May 11 2021, 00:35:22)\r\n",
      "\r\n",
      "Initializing calculator\r\n",
      "... neighborlist \r\n",
      "1 frames in statefile, Ids are: 10000 \r\n",
      "Starting at frame 10000\r\n",
      "Evaluating frame 10000\r\n",
      "Import MD Topology (i.e. frame 10000) from state.hdf5\r\n",
      ".... \r\n",
      "... neighborlist  Using 1 threads\r\n",
      "Evaluating 1000 segments for neighborlist. \r\n",
      " ... ... Evaluating \r\n",
      "0%   10   20   30   40   50   60   70   80   90   100%\r\n",
      "|----|----|----|----|----|----|----|----|----|----|\r\n",
      "***************************************************\r\n",
      "\r\n",
      " ... ... Created 90067 direct pairs.\r\n",
      "Wrote MD topology (step = 10000, time = 0) to state.hdf5\r\n",
      "... . \r\n"
     ]
    }
   ],
   "source": [
    "constant = \"\"\"<constant help=\"cutoff for all other types of pairs\">1.5</constant>\"\"\"\n",
    "add_section(\"neighborlist\", constant)\n",
    "!xtp_run -e neighborlist -o OPTIONFILES/neighborlist.xml -f state.hdf5"
   ]
  },
  {
   "cell_type": "markdown",
   "metadata": {},
   "source": [
    "## Read reorganization energies\n",
    "In this step we will read the in site reorganization energies and store them in the `state.hdf5` file. We just need to copy the input file and execute the calculation"
   ]
  },
  {
   "cell_type": "code",
   "execution_count": 11,
   "metadata": {
    "execution": {
     "iopub.execute_input": "2021-05-11T01:04:41.486763Z",
     "iopub.status.busy": "2021-05-11T01:04:41.486223Z",
     "iopub.status.idle": "2021-05-11T01:04:44.822279Z",
     "shell.execute_reply": "2021-05-11T01:04:44.821737Z"
    }
   },
   "outputs": [
    {
     "name": "stdout",
     "output_type": "stream",
     "text": [
      "==================================================\r\n",
      "========   VOTCA (http://www.votca.org)   ========\r\n",
      "==================================================\r\n",
      "\r\n",
      "please submit bugs to https://github.com/votca/xtp/issues\r\n",
      "\r\n",
      "xtp_run, version 2022-dev gitid: c195969 (compiled May 11 2021, 00:52:55)\r\n",
      "votca_csg, version 2022-dev gitid: c195969 (compiled May 11 2021, 00:37:56)\r\n",
      "votca_tools, version 2022-dev gitid: c195969 (compiled May 11 2021, 00:35:22)\r\n",
      "\r\n",
      "Initializing calculator\r\n",
      "... einternal \r\n",
      "1 frames in statefile, Ids are: 10000 \r\n",
      "Starting at frame 10000\r\n",
      "Evaluating frame 10000\r\n",
      "Import MD Topology (i.e. frame 10000) from state.hdf5\r\n",
      ".... \r\n",
      "... einternal  Using 1 threads\r\n",
      "... ... Site, reorg. energies from system.xml.\r\n",
      "\r\n",
      "... ... Read in site, reorg. energies for 1000 segments. \r\n",
      "Wrote MD topology (step = 10000, time = 0) to state.hdf5\r\n",
      "... . \r\n"
     ]
    }
   ],
   "source": [
    "!cp \"$VOTCASHARE/xtp/xml/einternal.xml\" OPTIONFILES/\n",
    "!xtp_run -e einternal -o OPTIONFILES/einternal.xml -f state.hdf5"
   ]
  },
  {
   "cell_type": "markdown",
   "metadata": {},
   "source": [
    "## Compute site energy\n",
    "In this step we will perform some *QMMM* calculations to compute the site energies. The `qmmm_mm.xml` file contains some predefined settings to perform the *MM* calculations. Let us first copy these settings into the state file,"
   ]
  },
  {
   "cell_type": "code",
   "execution_count": 12,
   "metadata": {
    "execution": {
     "iopub.execute_input": "2021-05-11T01:04:44.828598Z",
     "iopub.status.busy": "2021-05-11T01:04:44.826466Z",
     "iopub.status.idle": "2021-05-11T01:04:47.208914Z",
     "shell.execute_reply": "2021-05-11T01:04:47.208280Z"
    }
   },
   "outputs": [
    {
     "name": "stdout",
     "output_type": "stream",
     "text": [
      "==================================================\r\n",
      "========   VOTCA (http://www.votca.org)   ========\r\n",
      "==================================================\r\n",
      "\r\n",
      "please submit bugs to https://github.com/votca/xtp/issues\r\n",
      "\r\n",
      "xtp_parallel, version 2022-dev gitid: c195969 (compiled May 11 2021, 00:52:55)\r\n",
      "votca_csg, version 2022-dev gitid: c195969 (compiled May 11 2021, 00:37:56)\r\n",
      "votca_tools, version 2022-dev gitid: c195969 (compiled May 11 2021, 00:35:22)\r\n",
      "\r\n",
      "Initializing calculator \r\n",
      "... qmmm \r\n",
      "... ... Initialized with 1 threads.\r\n",
      "\r\n",
      "... ... Using 1 openmp threads for 1x1=1 total threads.\r\n",
      "1 frames in statefile, Ids are: 10000 \r\n",
      "Starting at frame 10000\r\n",
      "Evaluating frame 10000\r\n",
      "Import MD Topology (i.e. frame 10000) from state.hdf5\r\n",
      ".... \r\n",
      "... qmmm \r\n",
      "... ... Writing job file qmmm_mm_jobs.xml\r\n",
      "... ... In total 3001 jobs\r\n",
      "Changes have not been written to state file.\r\n"
     ]
    }
   ],
   "source": [
    "!cp qmmm_mm.xml OPTIONFILES\n",
    "!xtp_parallel -e qmmm -o OPTIONFILES/qmmm_mm.xml -f state.hdf5 -j \"write\""
   ]
  },
  {
   "cell_type": "markdown",
   "metadata": {},
   "source": [
    "The previous command generates a `qmmm_mm_jobs.xml` containing 3000 *MM* jobs to compute, if you examine that file, it should look something like:\n",
    "```xml\n",
    "<jobs>\n",
    "        <job>\n",
    "                <id>0</id>\n",
    "                <tag>thiophene_0:n</tag>\n",
    "                <input>\n",
    "                        <site_energies>0:n</site_energies>\n",
    "                        <regions>\n",
    "                                <region>\n",
    "                                        <id>0</id>\n",
    "                                        <segments>0:n</segments>\n",
    "                                </region>\n",
    "                        </regions>\n",
    "                </input>\n",
    "                <status>AVAILABLE</status>\n",
    "        </job>\n",
    "```"
   ]
  },
  {
   "cell_type": "markdown",
   "metadata": {},
   "source": [
    "Let us run just the first 4 jobs by settings all jobs `status` to `COMPLETE` except for the first four. This can be easily done with [sed](https://www.gnu.org/software/sed/manual/sed.html) as follows,"
   ]
  },
  {
   "cell_type": "code",
   "execution_count": 13,
   "metadata": {
    "execution": {
     "iopub.execute_input": "2021-05-11T01:04:47.218796Z",
     "iopub.status.busy": "2021-05-11T01:04:47.215641Z",
     "iopub.status.idle": "2021-05-11T01:04:50.278544Z",
     "shell.execute_reply": "2021-05-11T01:04:50.278118Z"
    }
   },
   "outputs": [],
   "source": [
    "!sed -i \"s/AVAILABLE/COMPLETE/g\" qmmm_mm_jobs.xml\n",
    "!sed -i '0,/COMPLETE/s/COMPLETE/AVAILABLE/' qmmm_mm_jobs.xml\n",
    "!sed -i '0,/COMPLETE/s/COMPLETE/AVAILABLE/' qmmm_mm_jobs.xml\n",
    "!sed -i '0,/COMPLETE/s/COMPLETE/AVAILABLE/' qmmm_mm_jobs.xml\n",
    "!sed -i '0,/COMPLETE/s/COMPLETE/AVAILABLE/' qmmm_mm_jobs.xml"
   ]
  },
  {
   "cell_type": "markdown",
   "metadata": {},
   "source": [
    "Now we can run the jobs and save the results in the state file"
   ]
  },
  {
   "cell_type": "code",
   "execution_count": 14,
   "metadata": {
    "execution": {
     "iopub.execute_input": "2021-05-11T01:04:50.285642Z",
     "iopub.status.busy": "2021-05-11T01:04:50.282348Z",
     "iopub.status.idle": "2021-05-11T01:04:59.010808Z",
     "shell.execute_reply": "2021-05-11T01:04:59.011354Z"
    }
   },
   "outputs": [
    {
     "name": "stdout",
     "output_type": "stream",
     "text": [
      "==================================================\r\n",
      "========   VOTCA (http://www.votca.org)   ========\r\n",
      "==================================================\r\n",
      "\r\n",
      "please submit bugs to https://github.com/votca/xtp/issues\r\n",
      "\r\n",
      "xtp_parallel, version 2022-dev gitid: c195969 (compiled May 11 2021, 00:52:55)\r\n",
      "votca_csg, version 2022-dev gitid: c195969 (compiled May 11 2021, 00:37:56)\r\n",
      "votca_tools, version 2022-dev gitid: c195969 (compiled May 11 2021, 00:35:22)\r\n",
      "\r\n",
      "Initializing calculator \r\n",
      "... qmmm \r\n",
      "... ... Initialized with 1 threads.\r\n",
      "\r\n",
      "... ... Using 1 openmp threads for 1x1=1 total threads.\r\n",
      "1 frames in statefile, Ids are: 10000 \r\n",
      "Starting at frame 10000\r\n",
      "Evaluating frame 10000\r\n",
      "Import MD Topology (i.e. frame 10000) from state.hdf5\r\n",
      ".... \r\n",
      "... qmmm \r\n",
      "MST ERR Job file = 'qmmm_mm_jobs.xml', cache size =  8\r\n",
      "MST ERR Initialize jobs from qmmm_mm_jobs.xml\r\n",
      "MST ERR Registered 3000 jobs.\r\n",
      "T00 ERR ... Requesting next job\r\n",
      "T00 ERR ... Assign jobs from stack\r\n",
      "T00 ERR ... Next job: ID = 0=> [ 0%] \r\n",
      "T00 ERR ...  Regions created\r\n",
      "T00 ERR ... Id: 0 type: polar size: 109 charge[e]= -2.40363e-14\r\n",
      "T00 ERR ... Id: 1 type: static size: 220 charge[e]= -4.86833e-14\r\n",
      "T00 ERR ... 2021-5-11 1:4:52 Writing jobtopology to MMMM/frame_10000/job_0_thiophene_0:n/regions.pdb\r\n",
      "T00 ERR ... 2021-5-11 1:4:52 Only 1 scf region is used. The remaining regions are static. So no inter regions scf is required. \r\n",
      "T00 ERR ... 2021-5-11 1:4:52 --Inter Region SCF Iteration 1 of 1\r\n",
      "T00 ERR ... 2021-5-11 1:4:52 Evaluating polar 0\r\n",
      "T00 ERR ... 2021-5-11 1:4:52 Evaluating interaction between polar 0 and static 1\r\n",
      "T00 ERR ... 2021-5-11 1:4:52 Starting Solving for classical polarization with 2943 degrees of freedom.\r\n",
      "T00 ERR ... 2021-5-11 1:4:52 CG: #iterations: 9, estimated error: 5.8912e-06\r\n",
      "T00 ERR ...   Total static energy [hrt]= -0.1317875845\r\n",
      "T00 ERR ...   Total polar energy [hrt]= -0.04919654338\r\n",
      "T00 ERR ...  Total energy [hrt]= -0.1809841279\r\n",
      "T00 ERR ... 2021-5-11 1:4:52 Evaluating static 1\r\n",
      "T00 ERR ... 2021-5-11 1:4:52 Writing checkpoint to checkpoint_iter_1.hdf5\r\n",
      "T00 ERR ... Reporting job results\r\n",
      "\r\n",
      "T00 ERR ... Requesting next job\r\n",
      "T00 ERR ... Next job: ID = 1\r\n",
      "T00 ERR ...  Regions created\r\n",
      "T00 ERR ... Id: 0 type: polar size: 109 charge[e]= -1\r\n",
      "T00 ERR ... Id: 1 type: static size: 220 charge[e]= -4.868327963e-14\r\n",
      "T00 ERR ... 2021-5-11 1:4:52 Writing jobtopology to MMMM/frame_10000/job_1_thiophene_0:e/regions.pdb\r\n",
      "T00 ERR ... 2021-5-11 1:4:52 Only 1 scf region is used. The remaining regions are static. So no inter regions scf is required. \r\n",
      "T00 ERR ... 2021-5-11 1:4:52 --Inter Region SCF Iteration 1 of 1\r\n",
      "T00 ERR ... 2021-5-11 1:4:52 Evaluating polar 0\r\n",
      "T00 ERR ... 2021-5-11 1:4:52 Evaluating interaction between polar 0 and static 1\r\n",
      "T00 ERR ... 2021-5-11 1:4:53 Starting Solving for classical polarization with 2943 degrees of freedom.\r\n",
      "T00 ERR ... 2021-5-11 1:4:53 CG: #iterations: 9, estimated error: 7.290261819e-06\r\n",
      "T00 ERR ...   Total static energy [hrt]= -0.1308082539\r\n",
      "T00 ERR ...   Total polar energy [hrt]= -0.07598511534\r\n",
      "T00 ERR ...  Total energy [hrt]= -0.2067933693\r\n",
      "T00 ERR ... 2021-5-11 1:4:53 Evaluating static 1\r\n",
      "T00 ERR ... 2021-5-11 1:4:53 Writing checkpoint to checkpoint_iter_1.hdf5\r\n",
      "T00 ERR ... Reporting job results\r\n",
      "\r\n",
      "T00 ERR ... Requesting next job\r\n",
      "T00 ERR ... Next job: ID = 2\r\n",
      "T00 ERR ...  Regions created\r\n",
      "T00 ERR ... Id: 0 type: polar size: 109 charge[e]= 1\r\n",
      "T00 ERR ... Id: 1 type: static size: 220 charge[e]= -4.868327963e-14\r\n",
      "T00 ERR ... 2021-5-11 1:4:53 Writing jobtopology to MMMM/frame_10000/job_2_thiophene_0:h/regions.pdb\r\n",
      "T00 ERR ... 2021-5-11 1:4:53 Only 1 scf region is used. The remaining regions are static. So no inter regions scf is required. \r\n",
      "T00 ERR ... 2021-5-11 1:4:53 --Inter Region SCF Iteration 1 of 1\r\n",
      "T00 ERR ... 2021-5-11 1:4:53 Evaluating polar 0\r\n",
      "T00 ERR ... 2021-5-11 1:4:53 Evaluating interaction between polar 0 and static 1\r\n",
      "T00 ERR ... 2021-5-11 1:4:53 Starting Solving for classical polarization with 2943 degrees of freedom.\r\n",
      "T00 ERR ... 2021-5-11 1:4:54 CG: #iterations: 9, estimated error: 6.815230208e-06\r\n",
      "T00 ERR ...   Total static energy [hrt]= -0.1321768235\r\n",
      "T00 ERR ...   Total polar energy [hrt]= -0.07922942047\r\n",
      "T00 ERR ...  Total energy [hrt]= -0.2114062439\r\n",
      "T00 ERR ... 2021-5-11 1:4:54 Evaluating static 1\r\n",
      "T00 ERR ... 2021-5-11 1:4:54 Writing checkpoint to checkpoint_iter_1.hdf5\r\n",
      "T00 ERR ... Reporting job results\r\n",
      "\r\n",
      "T00 ERR ... Requesting next job\r\n",
      "T00 ERR ... Next job: ID = 3\r\n",
      "T00 ERR ...  Regions created\r\n",
      "T00 ERR ... Id: 0 type: polar size: 104 charge[e]= -2.292610546e-14\r\n",
      "T00 ERR ... Id: 1 type: static size: 222 charge[e]= -4.912736884e-14\r\n",
      "T00 ERR ... 2021-5-11 1:4:54 Writing jobtopology to MMMM/frame_10000/job_3_thiophene_1:n/regions.pdb\r\n",
      "T00 ERR ... 2021-5-11 1:4:54 Only 1 scf region is used. The remaining regions are static. So no inter regions scf is required. \r\n",
      "T00 ERR ... 2021-5-11 1:4:54 --Inter Region SCF Iteration 1 of 1\r\n",
      "T00 ERR ... 2021-5-11 1:4:54 Evaluating polar 0\r\n",
      "T00 ERR ... 2021-5-11 1:4:54 Evaluating interaction between polar 0 and static 1\r\n",
      "T00 ERR ... 2021-5-11 1:4:54 Starting Solving for classical polarization with 2808 degrees of freedom.\r\n",
      "T00 ERR ... 2021-5-11 1:4:55 CG: #iterations: 9, estimated error: 5.656501514e-06\r\n",
      "T00 ERR ...   Total static energy [hrt]= -0.1295146321\r\n",
      "T00 ERR ...   Total polar energy [hrt]= -0.04409049212\r\n",
      "T00 ERR ...  Total energy [hrt]= -0.1736051242\r\n",
      "T00 ERR ... 2021-5-11 1:4:55 Evaluating static 1\r\n",
      "T00 ERR ... 2021-5-11 1:4:55 Writing checkpoint to checkpoint_iter_1.hdf5\r\n",
      "T00 ERR ... Reporting job results\r\n",
      "\r\n",
      "T00 ERR ... Requesting next job\r\n",
      "T00 ERR ... Assign jobs from stack\r\n",
      "T00 ERR ... Sync did not yield any new jobs.\r\n",
      "T00 ERR ... Next job: ID = - (none available)\r\n",
      "MST ERR Assign jobs from stack\r\n",
      "Changes have not been written to state file.\r\n",
      "==================================================\r\n",
      "========   VOTCA (http://www.votca.org)   ========\r\n",
      "==================================================\r\n",
      "\r\n",
      "please submit bugs to https://github.com/votca/xtp/issues\r\n",
      "\r\n",
      "xtp_parallel, version 2022-dev gitid: c195969 (compiled May 11 2021, 00:52:55)\r\n",
      "votca_csg, version 2022-dev gitid: c195969 (compiled May 11 2021, 00:37:56)\r\n",
      "votca_tools, version 2022-dev gitid: c195969 (compiled May 11 2021, 00:35:22)\r\n",
      "\r\n",
      "Initializing calculator \r\n",
      "... qmmm \r\n",
      "... ... Initialized with 1 threads.\r\n",
      "\r\n",
      "... ... Using 1 openmp threads for 1x1=1 total threads.\r\n",
      "1 frames in statefile, Ids are: 10000 \r\n",
      "Starting at frame 10000\r\n",
      "Evaluating frame 10000\r\n",
      "Import MD Topology (i.e. frame 10000) from state.hdf5\r\n",
      ".... \r\n",
      "... qmmm \r\n",
      "Found 1 states of type e\r\n",
      "Found 1 states of type h\r\n",
      "Found 2 states of type n\r\n",
      "2996 incomplete jobs found.\r\n",
      "\r\n",
      "Wrote MD topology (step = 10000, time = 0) to state.hdf5\r\n",
      "... . \r\n"
     ]
    }
   ],
   "source": [
    "!xtp_parallel -e qmmm -o OPTIONFILES/qmmm_mm.xml -f state.hdf5 -j \"run\"\n",
    "!xtp_parallel -e qmmm -o OPTIONFILES/qmmm_mm.xml -f state.hdf5 -j \"read\""
   ]
  },
  {
   "cell_type": "markdown",
   "metadata": {},
   "source": [
    "## Site energy and pair energy analysis\n",
    "In this step we generate an histogram and compute the correlation function of site energies and pair energy differences."
   ]
  },
  {
   "cell_type": "code",
   "execution_count": 15,
   "metadata": {
    "execution": {
     "iopub.execute_input": "2021-05-11T01:04:59.017985Z",
     "iopub.status.busy": "2021-05-11T01:04:59.015485Z",
     "iopub.status.idle": "2021-05-11T01:05:02.072198Z",
     "shell.execute_reply": "2021-05-11T01:05:02.071759Z"
    }
   },
   "outputs": [
    {
     "name": "stdout",
     "output_type": "stream",
     "text": [
      "==================================================\r\n",
      "========   VOTCA (http://www.votca.org)   ========\r\n",
      "==================================================\r\n",
      "\r\n",
      "please submit bugs to https://github.com/votca/xtp/issues\r\n",
      "\r\n",
      "xtp_run, version 2022-dev gitid: c195969 (compiled May 11 2021, 00:52:55)\r\n",
      "votca_csg, version 2022-dev gitid: c195969 (compiled May 11 2021, 00:37:56)\r\n",
      "votca_tools, version 2022-dev gitid: c195969 (compiled May 11 2021, 00:35:22)\r\n",
      "\r\n",
      "Initializing calculator\r\n",
      "... eanalyze \r\n",
      "1 frames in statefile, Ids are: 10000 \r\n",
      "Starting at frame 10000\r\n",
      "Evaluating frame 10000\r\n",
      "Import MD Topology (i.e. frame 10000) from state.hdf5\r\n",
      ".... \r\n",
      "... eanalyze  Using 1 threads\r\n",
      "... ... Short-listed 1000 segments (pattern='*')\r\n",
      "... ... ... NOTE Statistics of site energies and spatial correlations thereof are based on the short-listed segments only. \r\n",
      "... ... ...      Statistics of site-energy differences operate on the full list.\r\n",
      "... ... excited state e\r\n",
      "... ... excited state h\r\n",
      "... ... excited state s\r\n",
      "... ... excited state t\r\n",
      "Changes have not been written to state file.\r\n"
     ]
    }
   ],
   "source": [
    "!cp \"$VOTCASHARE/xtp/xml/eanalyze.xml\" OPTIONFILES/\n",
    "!xtp_run -e eanalyze -o OPTIONFILES/eanalyze.xml -f state.hdf5"
   ]
  },
  {
   "cell_type": "markdown",
   "metadata": {},
   "source": [
    "You should now see a set of files prefixed with `eanalyze` containing the histrogram and correlation functions."
   ]
  },
  {
   "cell_type": "code",
   "execution_count": 16,
   "metadata": {
    "execution": {
     "iopub.execute_input": "2021-05-11T01:05:02.078313Z",
     "iopub.status.busy": "2021-05-11T01:05:02.075702Z",
     "iopub.status.idle": "2021-05-11T01:05:02.688301Z",
     "shell.execute_reply": "2021-05-11T01:05:02.687888Z"
    }
   },
   "outputs": [
    {
     "name": "stdout",
     "output_type": "stream",
     "text": [
      "eanalyze.pairhist_e.out  eanalyze.pairlist_s.out  eanalyze.sitehist_e.out\r\n",
      "eanalyze.pairhist_h.out  eanalyze.pairlist_t.out  eanalyze.sitehist_h.out\r\n",
      "eanalyze.pairhist_s.out  eanalyze.sitecorr_e.out  eanalyze.sitehist_s.out\r\n",
      "eanalyze.pairhist_t.out  eanalyze.sitecorr_h.out  eanalyze.sitehist_t.out\r\n",
      "eanalyze.pairlist_e.out  eanalyze.sitecorr_s.out\r\n",
      "eanalyze.pairlist_h.out  eanalyze.sitecorr_t.out\r\n"
     ]
    }
   ],
   "source": [
    "!ls eanalyze*"
   ]
  },
  {
   "cell_type": "markdown",
   "metadata": {},
   "source": [
    "## QM energy calculation\n",
    "Our next task is to perform the qm calculations for each segment that we have stored in the hdf5 file. The calculations take place in 3 stages: write the jobs to a file, perform the computation and finally save the results to the state file. We will first copy the input into our local folder"
   ]
  },
  {
   "cell_type": "code",
   "execution_count": 17,
   "metadata": {
    "execution": {
     "iopub.execute_input": "2021-05-11T01:05:02.694208Z",
     "iopub.status.busy": "2021-05-11T01:05:02.691956Z",
     "iopub.status.idle": "2021-05-11T01:05:03.286793Z",
     "shell.execute_reply": "2021-05-11T01:05:03.286337Z"
    }
   },
   "outputs": [],
   "source": [
    "!cp \"$VOTCASHARE/xtp/xml/eqm.xml\" OPTIONFILES/"
   ]
  },
  {
   "cell_type": "markdown",
   "metadata": {},
   "source": [
    "Now we set the GWBSE mode to `G0W0`,  the `ranges` to `full` and the `basisset` and `auxbasisset` to `def2-svp` and `aux-def2-svp`. For more information, check the [eqm calculator options](https://www.votca.org/xtp/eqm.html)."
   ]
  },
  {
   "cell_type": "code",
   "execution_count": 18,
   "metadata": {
    "execution": {
     "iopub.execute_input": "2021-05-11T01:05:03.292005Z",
     "iopub.status.busy": "2021-05-11T01:05:03.290895Z",
     "iopub.status.idle": "2021-05-11T01:05:03.305783Z",
     "shell.execute_reply": "2021-05-11T01:05:03.305355Z"
    }
   },
   "outputs": [
    {
     "name": "stdout",
     "output_type": "stream",
     "text": [
      "The option 'gwbse_options.gwbse.ranges' on file 'OPTIONFILES/eqm.xml' has been set to 'full'\n",
      "The option 'gwbse_options.gwbse.mode' on file 'OPTIONFILES/eqm.xml' has been set to 'G0W0'\n",
      "The option 'gwbse_options.gwbse.qp_solver' on file 'OPTIONFILES/eqm.xml' has been set to 'fixedpoint'\n",
      "The option 'gwbse_options.gwbse.qp_grid_steps' on file 'OPTIONFILES/eqm.xml' has been set to '100'\n",
      "The option 'gwbse_options.gwbse.qp_grid_spacing' on file 'OPTIONFILES/eqm.xml' has been set to '0.01'\n",
      "The option 'gwbse_options.gwbse.exctotal' on file 'OPTIONFILES/eqm.xml' has been set to '10'\n",
      "The option 'map_file' on file 'OPTIONFILES/eqm.xml' has been set to 'system.xml'\n",
      "The option 'basisset' on file 'OPTIONFILES/eqm.xml' has been set to '3-21G'\n",
      "The option 'auxbasisset' on file 'OPTIONFILES/eqm.xml' has been set to 'aux-def2-svp'\n"
     ]
    }
   ],
   "source": [
    "edit_calculator(\"eqm\", \"gwbse_options.gwbse.ranges\", \"full\")\n",
    "edit_calculator(\"eqm\", \"gwbse_options.gwbse.mode\", \"G0W0\")\n",
    "edit_calculator(\"eqm\", \"gwbse_options.gwbse.qp_solver\", \"fixedpoint\")\n",
    "edit_calculator(\"eqm\", \"gwbse_options.gwbse.qp_grid_steps\", \"100\")\n",
    "edit_calculator(\"eqm\", \"gwbse_options.gwbse.qp_grid_spacing\", \"0.01\")\n",
    "edit_calculator(\"eqm\", \"gwbse_options.gwbse.exctotal\", \"10\")\n",
    "edit_calculator(\"eqm\", \"map_file\", \"system.xml\")\n",
    "edit_calculator(\"eqm\", \"basisset\", \"3-21G\")\n",
    "edit_calculator(\"eqm\", \"auxbasisset\", \"aux-def2-svp\")"
   ]
  },
  {
   "cell_type": "markdown",
   "metadata": {},
   "source": [
    "For the sake of computational time let just compute the `gw` approximation and the `singlet`. You can also request the `triplet` or `all`,  see the [gwbse sectionfor the eqm calculator](https://www.votca.org/xtp/eqm.html)."
   ]
  },
  {
   "cell_type": "code",
   "execution_count": 19,
   "metadata": {
    "execution": {
     "iopub.execute_input": "2021-05-11T01:05:03.309826Z",
     "iopub.status.busy": "2021-05-11T01:05:03.309323Z",
     "iopub.status.idle": "2021-05-11T01:05:03.314137Z",
     "shell.execute_reply": "2021-05-11T01:05:03.314492Z"
    }
   },
   "outputs": [
    {
     "name": "stdout",
     "output_type": "stream",
     "text": [
      "The option 'gwbse_options.gwbse.tasks' on file 'OPTIONFILES/eqm.xml' has been set to 'gw,singlets'\n"
     ]
    }
   ],
   "source": [
    "edit_calculator(\"eqm\", \"gwbse_options.gwbse.tasks\", \"gw,singlets\")"
   ]
  },
  {
   "cell_type": "markdown",
   "metadata": {},
   "source": [
    "First we will write the job in a file and enable only the first 2 jobs"
   ]
  },
  {
   "cell_type": "code",
   "execution_count": 20,
   "metadata": {
    "execution": {
     "iopub.execute_input": "2021-05-11T01:05:03.320075Z",
     "iopub.status.busy": "2021-05-11T01:05:03.319272Z",
     "iopub.status.idle": "2021-05-11T01:05:06.588417Z",
     "shell.execute_reply": "2021-05-11T01:05:06.587875Z"
    }
   },
   "outputs": [
    {
     "name": "stdout",
     "output_type": "stream",
     "text": [
      "==================================================\r\n",
      "========   VOTCA (http://www.votca.org)   ========\r\n",
      "==================================================\r\n",
      "\r\n",
      "please submit bugs to https://github.com/votca/xtp/issues\r\n",
      "\r\n",
      "xtp_parallel, version 2022-dev gitid: c195969 (compiled May 11 2021, 00:52:55)\r\n",
      "votca_csg, version 2022-dev gitid: c195969 (compiled May 11 2021, 00:37:56)\r\n",
      "votca_tools, version 2022-dev gitid: c195969 (compiled May 11 2021, 00:35:22)\r\n",
      "\r\n",
      "Initializing calculator \r\n",
      "... eqm \r\n",
      "... ... Initialized with 1 threads.\r\n",
      "\r\n",
      "... ... Using 1 openmp threads for 1x1=1 total threads.\r\n",
      "1 frames in statefile, Ids are: 10000 \r\n",
      "Starting at frame 10000\r\n",
      "Evaluating frame 10000\r\n",
      "Import MD Topology (i.e. frame 10000) from state.hdf5\r\n",
      ".... \r\n",
      "... eqm \r\n",
      "... ... Writing job file: eqm.jobs with 1000 jobs\r\n",
      "Changes have not been written to state file.\r\n"
     ]
    }
   ],
   "source": [
    "!xtp_parallel -e eqm -o OPTIONFILES/eqm.xml -f state.hdf5 -s 0 -j \"write\"\n",
    "!sed -i \"s/AVAILABLE/COMPLETE/g\" eqm.jobs\n",
    "!sed -i '0,/COMPLETE/s/COMPLETE/AVAILABLE/' eqm.jobs\n",
    "!sed -i '0,/COMPLETE/s/COMPLETE/AVAILABLE/' eqm.jobs"
   ]
  },
  {
   "cell_type": "markdown",
   "metadata": {},
   "source": [
    "Now, let run these 2 jobs"
   ]
  },
  {
   "cell_type": "code",
   "execution_count": 21,
   "metadata": {
    "execution": {
     "iopub.execute_input": "2021-05-11T01:05:06.593131Z",
     "iopub.status.busy": "2021-05-11T01:05:06.592606Z",
     "iopub.status.idle": "2021-05-11T01:05:34.894560Z",
     "shell.execute_reply": "2021-05-11T01:05:34.894042Z"
    }
   },
   "outputs": [
    {
     "name": "stdout",
     "output_type": "stream",
     "text": [
      "==================================================\r\n",
      "========   VOTCA (http://www.votca.org)   ========\r\n",
      "==================================================\r\n",
      "\r\n",
      "please submit bugs to https://github.com/votca/xtp/issues\r\n",
      "\r\n",
      "xtp_parallel, version 2022-dev gitid: c195969 (compiled May 11 2021, 00:52:55)\r\n",
      "votca_csg, version 2022-dev gitid: c195969 (compiled May 11 2021, 00:37:56)\r\n",
      "votca_tools, version 2022-dev gitid: c195969 (compiled May 11 2021, 00:35:22)\r\n",
      "\r\n",
      "Initializing calculator \r\n",
      "... eqm \r\n",
      "... ... Initialized with 1 threads.\r\n",
      "\r\n",
      "... ... Using 4 openmp threads for 1x4=4 total threads.\r\n",
      "1 frames in statefile, Ids are: 10000 \r\n",
      "Starting at frame 10000\r\n",
      "Evaluating frame 10000\r\n",
      "Import MD Topology (i.e. frame 10000) from state.hdf5\r\n",
      ".... \r\n",
      "... eqm \r\n",
      "MST ERR Job file = 'eqm.jobs', cache size =  1\r\n",
      "MST ERR Initialize jobs from eqm.jobs\r\n",
      "MST ERR Registered 1000 jobs.\r\n",
      "T00 ERR ... Requesting next job\r\n",
      "T00 ERR ... Assign jobs from stack\r\n",
      "T00 ERR ... Next job: ID = 0=> [ 0%] \r\n",
      "T00 ERR ... 2021-5-11 1:5:8 Evaluating site 0\r\n",
      "T00 ERR ... Running DFT\r\n",
      "T00 ERR ... Running GWBSE\r\n",
      "T00 ERR ... Running ESPFIT\r\n",
      "T00 ERR ... ===== Running on 4 threads ===== \r\n",
      "T00 ERR ... 2021-5-11 1:5:18 Calculated Densities at Numerical Grid, Number of electrons is -6.74107e-08\r\n",
      "T00 ERR ... 2021-5-11 1:5:18 Calculating ESP at CHELPG grid points\r\n",
      "T00 ERR ... 2021-5-11 1:5:21 Netcharge constrained to 0\r\n",
      "T00 ERR ...  Sum of fitted charges: 1.04083e-15\r\n",
      "T00 ERR ...  RMSE of fit:  0.00256655\r\n",
      "T00 ERR ...  RRMSE of fit: 0.239716\r\n",
      "T00 ERR ... El Dipole from fitted charges [e*bohr]:\r\n",
      "\t\t dx = +0.6798 dy = -0.1553 dz = +0.2849 |d|^2 = +0.5674\r\n",
      "T00 ERR ... El Dipole from exact qm density [e*bohr]:\r\n",
      "\t\t dx = +0.7021 dy = -0.1605 dz = +0.2942 |d|^2 = +0.6052\r\n",
      "T00 ERR ... Written charges to MP_FILES/frame_10000/n2s1/thiophene_0_n2s1.mps\r\n",
      "T00 ERR ... 2021-5-11 1:5:21 Finished evaluating site 0\r\n",
      "T00 ERR ... Saving data to molecule_0.orb\r\n",
      "T00 ERR ... Reporting job results\r\n",
      "\r\n",
      "T00 ERR ... Requesting next job\r\n",
      "T00 ERR ... Assign jobs from stack\r\n",
      "T00 ERR ... Next job: ID = 1\r\n",
      "T00 ERR ... 2021-5-11 1:5:21 Evaluating site 1\r\n",
      "T00 ERR ... Running DFT\r\n",
      "T00 ERR ... Running GWBSE\r\n",
      "T00 ERR ... Running ESPFIT\r\n",
      "T00 ERR ... ===== Running on 4 threads ===== \r\n",
      "T00 ERR ... 2021-5-11 1:5:31 Calculated Densities at Numerical Grid, Number of electrons is -2.83871e-08\r\n",
      "T00 ERR ... 2021-5-11 1:5:31 Calculating ESP at CHELPG grid points\r\n",
      "T00 ERR ... 2021-5-11 1:5:34 Netcharge constrained to 0\r\n",
      "T00 ERR ...  Sum of fitted charges: 6.45317e-16\r\n",
      "T00 ERR ...  RMSE of fit:  0.00254444\r\n",
      "T00 ERR ...  RRMSE of fit: 0.237896\r\n",
      "T00 ERR ... El Dipole from fitted charges [e*bohr]:\r\n",
      "\t\t dx = +0.1910 dy = +0.6923 dz = -0.2258 |d|^2 = +0.5668\r\n",
      "T00 ERR ... El Dipole from exact qm density [e*bohr]:\r\n",
      "\t\t dx = +0.1974 dy = +0.7154 dz = -0.2334 |d|^2 = +0.6053\r\n",
      "T00 ERR ... Written charges to MP_FILES/frame_10000/n2s1/thiophene_1_n2s1.mps\r\n",
      "T00 ERR ... 2021-5-11 1:5:34 Finished evaluating site 1\r\n",
      "T00 ERR ... Saving data to molecule_1.orb\r\n",
      "T00 ERR ... Reporting job results\r\n",
      "\r\n",
      "T00 ERR ... Requesting next job\r\n",
      "T00 ERR ... Assign jobs from stack\r\n",
      "T00 ERR ... Sync did not yield any new jobs.\r\n",
      "T00 ERR ... Next job: ID = - (none available)\r\n",
      "MST ERR Assign jobs from stack\r\n",
      "Changes have not been written to state file.\r\n"
     ]
    }
   ],
   "source": [
    "!xtp_parallel -e eqm -o OPTIONFILES/eqm.xml -f state.hdf5 -s 0 -j run -c 1 -p 4"
   ]
  },
  {
   "cell_type": "markdown",
   "metadata": {},
   "source": [
    "## QM calculation for pairs\n",
    "In the following step we will run QM calculations for each pair in the hdf5 file. As the calculations on the previous step, we will first write the jobs in a file, then run them and finally store the results in the state file. First, we need to copy the input to our local folder"
   ]
  },
  {
   "cell_type": "code",
   "execution_count": 22,
   "metadata": {
    "execution": {
     "iopub.execute_input": "2021-05-11T01:05:34.900344Z",
     "iopub.status.busy": "2021-05-11T01:05:34.898505Z",
     "iopub.status.idle": "2021-05-11T01:05:35.499549Z",
     "shell.execute_reply": "2021-05-11T01:05:35.499057Z"
    }
   },
   "outputs": [],
   "source": [
    "!cp \"$VOTCASHARE/xtp/xml/iqm.xml\" OPTIONFILES/"
   ]
  },
  {
   "cell_type": "markdown",
   "metadata": {},
   "source": [
    "As in the previous section, we set the GWBSE mode to `G0W0`and the `ranges` to `full`, but we compute only the `gw` approximation. We are also going to compute a single excited state. For more information, check the [iqm calculator options](https://www.votca.org/xtp/iqm.html). We also want to compute the `singlet` couplings. "
   ]
  },
  {
   "cell_type": "code",
   "execution_count": 23,
   "metadata": {
    "execution": {
     "iopub.execute_input": "2021-05-11T01:05:35.505488Z",
     "iopub.status.busy": "2021-05-11T01:05:35.504482Z",
     "iopub.status.idle": "2021-05-11T01:05:35.525456Z",
     "shell.execute_reply": "2021-05-11T01:05:35.524669Z"
    }
   },
   "outputs": [
    {
     "name": "stdout",
     "output_type": "stream",
     "text": [
      "The option 'states' on file 'OPTIONFILES/iqm.xml' has been set to '1'\n",
      "The option 'map_file' on file 'OPTIONFILES/iqm.xml' has been set to 'system.xml'\n",
      "The option 'gwbse_options.gwbse.ranges' on file 'OPTIONFILES/iqm.xml' has been set to 'full'\n",
      "The option 'gwbse_options.gwbse.tasks' on file 'OPTIONFILES/iqm.xml' has been set to 'gw'\n",
      "The option 'gwbse_options.gwbse.qp_solver' on file 'OPTIONFILES/iqm.xml' has been set to 'fixedpoint'\n",
      "The option 'gwbse_options.gwbse.qp_grid_steps' on file 'OPTIONFILES/iqm.xml' has been set to '100'\n",
      "The option 'gwbse_options.gwbse.qp_grid_spacing' on file 'OPTIONFILES/iqm.xml' has been set to '0.01'\n",
      "The option 'bsecoupling.spin' on file 'OPTIONFILES/iqm.xml' has been set to 'singlet'\n",
      "The option 'basisset' on file 'OPTIONFILES/iqm.xml' has been set to '3-21G'\n",
      "The option 'auxbasisset' on file 'OPTIONFILES/iqm.xml' has been set to 'aux-def2-svp'\n"
     ]
    }
   ],
   "source": [
    "edit_calculator(\"iqm\", \"states\", \"1\")\n",
    "edit_calculator(\"iqm\", \"map_file\", \"system.xml\")\n",
    "edit_calculator(\"iqm\", \"gwbse_options.gwbse.ranges\", \"full\")\n",
    "edit_calculator(\"iqm\", \"gwbse_options.gwbse.tasks\", \"gw\")\n",
    "edit_calculator(\"iqm\", \"gwbse_options.gwbse.qp_solver\", \"fixedpoint\")\n",
    "edit_calculator(\"iqm\", \"gwbse_options.gwbse.qp_grid_steps\", \"100\")\n",
    "edit_calculator(\"iqm\", \"gwbse_options.gwbse.qp_grid_spacing\", \"0.01\")\n",
    "edit_calculator(\"iqm\", \"bsecoupling.spin\", \"singlet\")\n",
    "edit_calculator(\"iqm\", \"basisset\", \"3-21G\")\n",
    "edit_calculator(\"iqm\", \"auxbasisset\", \"aux-def2-svp\")"
   ]
  },
  {
   "cell_type": "markdown",
   "metadata": {},
   "source": [
    "Before running the calculations, we need to specify in the `iqm` input which states to read into the jobfile for each segment type. The following *XML* snippet needs to be added"
   ]
  },
  {
   "cell_type": "code",
   "execution_count": 24,
   "metadata": {
    "execution": {
     "iopub.execute_input": "2021-05-11T01:05:35.528602Z",
     "iopub.status.busy": "2021-05-11T01:05:35.528087Z",
     "iopub.status.idle": "2021-05-11T01:05:35.532917Z",
     "shell.execute_reply": "2021-05-11T01:05:35.531728Z"
    }
   },
   "outputs": [],
   "source": [
    "readjobfile = \"\"\"\n",
    "<readjobfile help=\"which states to read into the jobfile for each segment type\">\n",
    "     <singlet>thiophene:s1</singlet>\n",
    "     <triplet>thiophene:t1</triplet>\n",
    "     <electron>thiophene:e1</electron>\n",
    "     <hole>thiophene:h1</hole>\n",
    "</readjobfile>\n",
    "\"\"\""
   ]
  },
  {
   "cell_type": "markdown",
   "metadata": {},
   "source": [
    "The following function add the `readjobfile` section,"
   ]
  },
  {
   "cell_type": "code",
   "execution_count": 25,
   "metadata": {
    "execution": {
     "iopub.execute_input": "2021-05-11T01:05:35.536930Z",
     "iopub.status.busy": "2021-05-11T01:05:35.536056Z",
     "iopub.status.idle": "2021-05-11T01:05:35.540338Z",
     "shell.execute_reply": "2021-05-11T01:05:35.539629Z"
    }
   },
   "outputs": [],
   "source": [
    "add_section(\"iqm\", readjobfile)"
   ]
  },
  {
   "cell_type": "markdown",
   "metadata": {},
   "source": [
    "Now, let's write the jobs to the file"
   ]
  },
  {
   "cell_type": "code",
   "execution_count": 26,
   "metadata": {
    "execution": {
     "iopub.execute_input": "2021-05-11T01:05:35.545736Z",
     "iopub.status.busy": "2021-05-11T01:05:35.543073Z",
     "iopub.status.idle": "2021-05-11T01:05:38.505893Z",
     "shell.execute_reply": "2021-05-11T01:05:38.506364Z"
    }
   },
   "outputs": [
    {
     "name": "stdout",
     "output_type": "stream",
     "text": [
      "==================================================\r\n",
      "========   VOTCA (http://www.votca.org)   ========\r\n",
      "==================================================\r\n",
      "\r\n",
      "please submit bugs to https://github.com/votca/xtp/issues\r\n",
      "\r\n",
      "xtp_parallel, version 2022-dev gitid: c195969 (compiled May 11 2021, 00:52:55)\r\n",
      "votca_csg, version 2022-dev gitid: c195969 (compiled May 11 2021, 00:37:56)\r\n",
      "votca_tools, version 2022-dev gitid: c195969 (compiled May 11 2021, 00:35:22)\r\n",
      "\r\n",
      "Initializing calculator \r\n",
      "... iqm \r\n",
      "... ... Initialized with 1 threads.\r\n",
      "\r\n",
      "... ... Using 1 openmp threads for 1x1=1 total threads.\r\n",
      "1 frames in statefile, Ids are: 10000 \r\n",
      "Starting at frame 10000\r\n",
      "Evaluating frame 10000\r\n",
      "Import MD Topology (i.e. frame 10000) from state.hdf5\r\n",
      ".... \r\n",
      "... iqm \r\n",
      "... ... Writing job file iqm.jobs\r\n",
      "... ... In total 90067 jobs\r\n",
      "Changes have not been written to state file.\r\n"
     ]
    }
   ],
   "source": [
    "!xtp_parallel -e iqm -o OPTIONFILES/iqm.xml -f state.hdf5 -s 0 -j \"write\""
   ]
  },
  {
   "cell_type": "markdown",
   "metadata": {},
   "source": [
    "From the jobs that we just write down, let's make available only the first job"
   ]
  },
  {
   "cell_type": "code",
   "execution_count": 27,
   "metadata": {
    "execution": {
     "iopub.execute_input": "2021-05-11T01:05:38.513078Z",
     "iopub.status.busy": "2021-05-11T01:05:38.510355Z",
     "iopub.status.idle": "2021-05-11T01:05:39.989559Z",
     "shell.execute_reply": "2021-05-11T01:05:39.988732Z"
    }
   },
   "outputs": [],
   "source": [
    "!sed -i \"s/AVAILABLE/COMPLETE/g\" iqm.jobs\n",
    "!sed -i '0,/COMPLETE/s/COMPLETE/AVAILABLE/' iqm.jobs"
   ]
  },
  {
   "cell_type": "markdown",
   "metadata": {},
   "source": [
    "Now we can run and store the jobs results"
   ]
  },
  {
   "cell_type": "code",
   "execution_count": 28,
   "metadata": {
    "execution": {
     "iopub.execute_input": "2021-05-11T01:05:39.996516Z",
     "iopub.status.busy": "2021-05-11T01:05:39.995818Z",
     "iopub.status.idle": "2021-05-11T01:06:38.751748Z",
     "shell.execute_reply": "2021-05-11T01:06:38.751313Z"
    }
   },
   "outputs": [
    {
     "name": "stdout",
     "output_type": "stream",
     "text": [
      "==================================================\r\n",
      "========   VOTCA (http://www.votca.org)   ========\r\n",
      "==================================================\r\n",
      "\r\n",
      "please submit bugs to https://github.com/votca/xtp/issues\r\n",
      "\r\n",
      "xtp_parallel, version 2022-dev gitid: c195969 (compiled May 11 2021, 00:52:55)\r\n",
      "votca_csg, version 2022-dev gitid: c195969 (compiled May 11 2021, 00:37:56)\r\n",
      "votca_tools, version 2022-dev gitid: c195969 (compiled May 11 2021, 00:35:22)\r\n",
      "\r\n",
      "Initializing calculator \r\n",
      "... iqm \r\n",
      "... ... Initialized with 1 threads.\r\n",
      "\r\n",
      "... ... Using 4 openmp threads for 1x4=4 total threads.\r\n",
      "1 frames in statefile, Ids are: 10000 \r\n",
      "Starting at frame 10000\r\n",
      "Evaluating frame 10000\r\n",
      "Import MD Topology (i.e. frame 10000) from state.hdf5\r\n",
      ".... \r\n",
      "... iqm \r\n",
      "MST ERR Job file = 'iqm.jobs', cache size =  1\r\n",
      "MST ERR Initialize jobs from iqm.jobs\r\n",
      "MST ERR Registered 90067 jobs.\r\n",
      "T00 ERR ... Requesting next job\r\n",
      "T00 ERR ... Assign jobs from stack\r\n",
      "T00 ERR ... Next job: ID = 0=> [ 0%] \r\n",
      "T00 ERR ... 2021-5-11 1:5:49 Evaluating pair 0 [0:1] out of 90067\r\n",
      "T00 ERR ... Guess requested, reading molecular orbitals\r\n",
      "T00 ERR ... Reading MoleculeA from OR_FILES/molecules/frame_10000/molecule_0.orb\r\n",
      "T00 ERR ... Reading MoleculeB from OR_FILES/molecules/frame_10000/molecule_1.orb\r\n",
      "T00 ERR ... Running DFT\r\n",
      "T00 ERR ... Calculating electronic couplings\r\n",
      "T00 ERR ... Levels:Basis A[2:57] B[2:57]\r\n",
      "T00 ERR ... Done with electronic couplings\r\n",
      "T00 ERR ... Running GWBSE\r\n",
      "T00 ERR ... Running BSECoupling\r\n",
      "T00 ERR ... 2021-5-11 1:6:28 Finished evaluating pair 0:1\r\n",
      "T00 ERR ... Orb file is not saved according to options \r\n",
      "T00 ERR ... Reporting job results\r\n",
      "\r\n",
      "T00 ERR ... Requesting next job\r\n",
      "T00 ERR ... Assign jobs from stack\r\n",
      "T00 ERR ... Sync did not yield any new jobs.\r\n",
      "T00 ERR ... Next job: ID = - (none available)\r\n",
      "MST ERR Assign jobs from stack\r\n",
      "Changes have not been written to state file.\r\n"
     ]
    }
   ],
   "source": [
    "!xtp_parallel -e iqm -o OPTIONFILES/iqm.xml -f state.hdf5 -s 0 -j run -c 1 -p 4"
   ]
  },
  {
   "cell_type": "markdown",
   "metadata": {},
   "source": [
    "Finally, we read the results into the state"
   ]
  },
  {
   "cell_type": "code",
   "execution_count": 29,
   "metadata": {
    "execution": {
     "iopub.execute_input": "2021-05-11T01:06:38.758803Z",
     "iopub.status.busy": "2021-05-11T01:06:38.755798Z",
     "iopub.status.idle": "2021-05-11T01:06:43.704855Z",
     "shell.execute_reply": "2021-05-11T01:06:43.704437Z"
    }
   },
   "outputs": [
    {
     "name": "stdout",
     "output_type": "stream",
     "text": [
      "==================================================\r\n",
      "========   VOTCA (http://www.votca.org)   ========\r\n",
      "==================================================\r\n",
      "\r\n",
      "please submit bugs to https://github.com/votca/xtp/issues\r\n",
      "\r\n",
      "xtp_parallel, version 2022-dev gitid: c195969 (compiled May 11 2021, 00:52:55)\r\n",
      "votca_csg, version 2022-dev gitid: c195969 (compiled May 11 2021, 00:37:56)\r\n",
      "votca_tools, version 2022-dev gitid: c195969 (compiled May 11 2021, 00:35:22)\r\n",
      "\r\n",
      "Initializing calculator \r\n",
      "... iqm \r\n",
      "... ... Initialized with 1 threads.\r\n",
      "\r\n",
      "... ... Using 1 openmp threads for 1x1=1 total threads.\r\n",
      "1 frames in statefile, Ids are: 10000 \r\n",
      "Starting at frame 10000\r\n",
      "Evaluating frame 10000\r\n",
      "Import MD Topology (i.e. frame 10000) from state.hdf5\r\n",
      ".... \r\n",
      "... iqm \r\n",
      "Wrote MD topology (step = 10000, time = 0) to state.hdf5\r\n",
      "... . \r\n"
     ]
    }
   ],
   "source": [
    "!xtp_parallel -e iqm -o OPTIONFILES/iqm.xml -f state.hdf5 -j \"read\""
   ]
  },
  {
   "cell_type": "markdown",
   "metadata": {},
   "source": [
    "## QMMM Calculations\n",
    "We will run the *QMMM* calculations we will use the pregenerated `qmmm.jobs` file in the current work directory, so we can directly run the calculations"
   ]
  },
  {
   "cell_type": "code",
   "execution_count": 30,
   "metadata": {
    "execution": {
     "iopub.execute_input": "2021-05-11T01:06:43.712174Z",
     "iopub.status.busy": "2021-05-11T01:06:43.709246Z",
     "iopub.status.idle": "2021-05-11T01:08:58.064530Z",
     "shell.execute_reply": "2021-05-11T01:08:58.065077Z"
    }
   },
   "outputs": [
    {
     "name": "stdout",
     "output_type": "stream",
     "text": [
      "==================================================\r\n",
      "========   VOTCA (http://www.votca.org)   ========\r\n",
      "==================================================\r\n",
      "\r\n",
      "please submit bugs to https://github.com/votca/xtp/issues\r\n",
      "\r\n",
      "xtp_parallel, version 2022-dev gitid: c195969 (compiled May 11 2021, 00:52:55)\r\n",
      "votca_csg, version 2022-dev gitid: c195969 (compiled May 11 2021, 00:37:56)\r\n",
      "votca_tools, version 2022-dev gitid: c195969 (compiled May 11 2021, 00:35:22)\r\n",
      "\r\n",
      "Initializing calculator \r\n",
      "... qmmm \r\n",
      "... ... Initialized with 1 threads.\r\n",
      "\r\n",
      "... ... Using 4 openmp threads for 1x4=4 total threads.\r\n",
      "1 frames in statefile, Ids are: 10000 \r\n",
      "Starting at frame 10000\r\n",
      "Evaluating frame 10000\r\n",
      "Import MD Topology (i.e. frame 10000) from state.hdf5\r\n",
      ".... \r\n",
      "... qmmm \r\n",
      "MST ERR Job file = 'qmmm.jobs', cache size =  8\r\n",
      "MST ERR Initialize jobs from qmmm.jobs\r\n",
      "MST ERR Registered 2 jobs.\r\n",
      "T00 ERR ... Requesting next job\r\n",
      "T00 ERR ... Assign jobs from stack\r\n",
      "T00 ERR ... Next job: ID = 0=> [ 0%] \r\n",
      "T00 ERR ... Initial state: s1\r\n",
      "T00 ERR ... Using overlap filter with threshold 0.8\r\n",
      "T00 ERR ...  Regions created\r\n",
      "T00 ERR ... Id: 0 type: qm size: 1 charge[e]= 0\r\n",
      "T00 ERR ... Id: 1 type: static size: 0 charge[e]= 0\r\n",
      "T00 ERR ... 2021-5-11 1:6:45 Writing jobtopology to QMMM/frame_10000/job_0_vacuum/regions.pdb\r\n",
      "T00 ERR ... 2021-5-11 1:6:45 Only 1 scf region is used. The remaining regions are static. So no inter regions scf is required. \r\n",
      "T00 ERR ... 2021-5-11 1:6:45 --Inter Region SCF Iteration 1 of 1\r\n",
      "T00 ERR ... 2021-5-11 1:6:45 Evaluating qm 0\r\n",
      "T00 ERR ... 2021-5-11 1:6:45 Evaluating interaction between qm 0 and static 1\r\n",
      "T00 ERR ... Running DFT calculation\r\n",
      "T00 ERR ... 2021-5-11 1:6:45 Using 4 threads\r\n",
      "T00 ERR ... 2021-5-11 1:6:45 Using native Eigen implementation, no BLAS overload \r\n",
      "T00 ERR ...  Molecule Coordinates [A] \r\n",
      "T00 ERR ...   C   +7.2498 +5.9987 +6.9816\r\n",
      "T00 ERR ...   C   +8.3941 +5.2905 +7.2231\r\n",
      "T00 ERR ...   S   +9.4238 +6.1259 +8.2255\r\n",
      "T00 ERR ...   C   +8.4019 +7.4292 +8.3679\r\n",
      "T00 ERR ...   C   +7.2542 +7.2442 +7.6483\r\n",
      "T00 ERR ...   H   +6.4443 +5.6423 +6.3555\r\n",
      "T00 ERR ...   H   +8.6517 +4.3152 +6.8421\r\n",
      "T00 ERR ...   H   +8.6666 +8.2851 +8.9679\r\n",
      "T00 ERR ...   H   +6.4528 +7.9674 +7.5999\r\n",
      "T00 ERR ... 2021-5-11 1:6:45 Loaded DFT Basis Set def2-svp with 94 functions\r\n",
      "T00 ERR ... 2021-5-11 1:6:45 Total number of electrons: 44\r\n",
      "T00 ERR ... 2021-5-11 1:6:45 Smallest value of AOOverlap matrix is 0.000982361\r\n",
      "T00 ERR ... 2021-5-11 1:6:45 Removed 0 basisfunction from inverse overlap matrix\r\n",
      "T00 ERR ... 2021-5-11 1:6:45 Convergence Options:\r\n",
      "T00 ERR ... \t\t Delta E [Ha]: 1e-07\r\n",
      "T00 ERR ... \t\t DIIS max error: 1e-07\r\n",
      "T00 ERR ... \t\t DIIS histlength: 20\r\n",
      "T00 ERR ... \t\t ADIIS start: 0.8\r\n",
      "T00 ERR ... \t\t DIIS start: 0.002\r\n",
      "T00 ERR ... \t\t Deleting oldest element from DIIS hist\r\n",
      "T00 ERR ... \t\t Levelshift[Ha]: 0\r\n",
      "T00 ERR ... \t\t Levelshift end: 0.2\r\n",
      "T00 ERR ... \t\t Mixing Parameter alpha: 0.7\r\n",
      "T00 ERR ... 2021-5-11 1:6:45 Constructed independent particle hamiltonian \r\n",
      "T00 ERR ... 2021-5-11 1:6:45 Nuclear Repulsion Energy is 206.268375\r\n",
      "T00 ERR ... 2021-5-11 1:6:45 Using hybrid functional with alpha=0.25\r\n",
      "T00 ERR ... 2021-5-11 1:6:46 Setup numerical integration grid medium for vxc functional XC_HYB_GGA_XC_PBEH\r\n",
      "T00 ERR ... 2021-5-11 1:6:46 Setup Initial Guess using: atom\r\n",
      "T00 ERR ... 2021-5-11 1:6:46 Calculating atom density for C\r\n",
      "T00 ERR ... 2021-5-11 1:6:47 Calculating atom density for S\r\n",
      "T00 ERR ... 2021-5-11 1:6:49 Calculating atom density for H\r\n",
      "T00 ERR ... 2021-5-11 1:6:49 STARTING SCF cycle\r\n",
      "T00 ERR ...  --------------------------------------------------------------------------\r\n",
      "T00 ERR ... \r\n",
      "T00 ERR ... 2021-5-11 1:6:49 Iteration 1 of 100\r\n",
      "T00 ERR ... 2021-5-11 1:6:50 Total Energy -552.151670272\r\n",
      "T00 ERR ... 2021-5-11 1:6:50 DIIs error 0.208138125325\r\n",
      "T00 ERR ... 2021-5-11 1:6:50 Delta Etot 0\r\n",
      "T00 ERR ... \r\n",
      "T00 ERR ... 2021-5-11 1:6:50 Iteration 2 of 100\r\n",
      "T00 ERR ... 2021-5-11 1:6:51 Total Energy -552.264922981\r\n",
      "T00 ERR ... 2021-5-11 1:6:51 DIIs error 0.141559846855\r\n",
      "T00 ERR ... 2021-5-11 1:6:51 Delta Etot -0.113252709749\r\n",
      "T00 ERR ... \r\n",
      "T00 ERR ... 2021-5-11 1:6:51 Iteration 3 of 100\r\n",
      "T00 ERR ... 2021-5-11 1:6:52 Total Energy -552.321794403\r\n",
      "T00 ERR ... 2021-5-11 1:6:52 DIIs error 0.0928358172494\r\n",
      "T00 ERR ... 2021-5-11 1:6:52 Delta Etot -0.056871421357\r\n",
      "T00 ERR ... \r\n",
      "T00 ERR ... 2021-5-11 1:6:52 Iteration 4 of 100\r\n",
      "T00 ERR ... 2021-5-11 1:6:53 Total Energy -552.440416134\r\n",
      "T00 ERR ... 2021-5-11 1:6:53 DIIs error 0.0204143737721\r\n",
      "T00 ERR ... 2021-5-11 1:6:53 Delta Etot -0.118621731197\r\n",
      "T00 ERR ... \r\n",
      "T00 ERR ... 2021-5-11 1:6:53 Iteration 5 of 100\r\n",
      "T00 ERR ... 2021-5-11 1:6:53 Total Energy -552.44026576\r\n",
      "T00 ERR ... 2021-5-11 1:6:54 DIIs error 0.0193679072958\r\n",
      "T00 ERR ... 2021-5-11 1:6:54 Delta Etot 0.000150374293753\r\n",
      "T00 ERR ... \r\n",
      "T00 ERR ... 2021-5-11 1:6:54 Iteration 6 of 100\r\n",
      "T00 ERR ... 2021-5-11 1:6:54 Total Energy -552.444089359\r\n",
      "T00 ERR ... 2021-5-11 1:6:54 DIIs error 0.00403432709034\r\n",
      "T00 ERR ... 2021-5-11 1:6:54 Delta Etot -0.00382359922685\r\n",
      "T00 ERR ... \r\n",
      "T00 ERR ... 2021-5-11 1:6:54 Iteration 7 of 100\r\n",
      "T00 ERR ... 2021-5-11 1:6:55 Total Energy -552.443950386\r\n",
      "T00 ERR ... 2021-5-11 1:6:55 DIIs error 0.00491541987295\r\n",
      "T00 ERR ... 2021-5-11 1:6:55 Delta Etot 0.000138973396702\r\n",
      "T00 ERR ... \r\n",
      "T00 ERR ... 2021-5-11 1:6:55 Iteration 8 of 100\r\n",
      "T00 ERR ... 2021-5-11 1:6:56 Total Energy -552.444200273\r\n",
      "T00 ERR ... 2021-5-11 1:6:56 DIIs error 0.000927695987051\r\n",
      "T00 ERR ... 2021-5-11 1:6:56 Delta Etot -0.00024988739915\r\n",
      "T00 ERR ... \r\n",
      "T00 ERR ... 2021-5-11 1:6:56 Iteration 9 of 100\r\n",
      "T00 ERR ... 2021-5-11 1:6:57 Total Energy -552.444206072\r\n",
      "T00 ERR ... 2021-5-11 1:6:57 DIIs error 3.98553418185e-05\r\n",
      "T00 ERR ... 2021-5-11 1:6:57 Delta Etot -5.79902621212e-06\r\n",
      "T00 ERR ... \r\n",
      "T00 ERR ... 2021-5-11 1:6:57 Iteration 10 of 100\r\n",
      "T00 ERR ... 2021-5-11 1:6:58 Total Energy -552.444206089\r\n",
      "T00 ERR ... 2021-5-11 1:6:58 DIIs error 1.32438939582e-05\r\n",
      "T00 ERR ... 2021-5-11 1:6:58 Delta Etot -1.73421312866e-08\r\n",
      "T00 ERR ... \r\n",
      "T00 ERR ... 2021-5-11 1:6:58 Iteration 11 of 100\r\n",
      "T00 ERR ... 2021-5-11 1:6:59 Total Energy -552.44420609\r\n",
      "T00 ERR ... 2021-5-11 1:6:59 DIIs error 9.37638546868e-06\r\n",
      "T00 ERR ... 2021-5-11 1:6:59 Delta Etot -6.17887963017e-10\r\n",
      "T00 ERR ... \r\n",
      "T00 ERR ... 2021-5-11 1:6:59 Iteration 12 of 100\r\n",
      "T00 ERR ... 2021-5-11 1:7:0 Total Energy -552.444206091\r\n",
      "T00 ERR ... 2021-5-11 1:7:0 DIIs error 2.14732951775e-06\r\n",
      "T00 ERR ... 2021-5-11 1:7:0 Delta Etot -7.46240402805e-10\r\n",
      "T00 ERR ... \r\n",
      "T00 ERR ... 2021-5-11 1:7:0 Iteration 13 of 100\r\n",
      "T00 ERR ... 2021-5-11 1:7:0 Total Energy -552.444206091\r\n",
      "T00 ERR ... 2021-5-11 1:7:1 DIIs error 1.44065661186e-06\r\n",
      "T00 ERR ... 2021-5-11 1:7:1 Delta Etot -3.93356458517e-11\r\n",
      "T00 ERR ... \r\n",
      "T00 ERR ... 2021-5-11 1:7:1 Iteration 14 of 100\r\n",
      "T00 ERR ... 2021-5-11 1:7:1 Total Energy -552.444206091\r\n",
      "T00 ERR ... 2021-5-11 1:7:1 DIIs error 5.24749182789e-08\r\n",
      "T00 ERR ... 2021-5-11 1:7:1 Delta Etot -1.47792889038e-11\r\n",
      "T00 ERR ... 2021-5-11 1:7:1 Total Energy has converged to -1.47792889e-11[Ha] after 14 iterations. DIIS error is converged up to 5.24749183e-08\r\n",
      "T00 ERR ... 2021-5-11 1:7:1 Final Single Point Energy -552.444206091 Ha\r\n",
      "T00 ERR ... 2021-5-11 1:7:1 Final Local Exc contribution -36.7917998573 Ha\r\n",
      "T00 ERR ... 2021-5-11 1:7:1 Final Non Local Ex contribution -11.7975219267 Ha\r\n",
      "T00 ERR ...   Orbital energies: \r\n",
      "T00 ERR ...   index occupation energy(Hartree) \r\n",
      "T00 ERR ...      0      2   -89.0320195152\r\n",
      "T00 ERR ...      1      2   -10.2524875882\r\n",
      "T00 ERR ...      2      2   -10.2524601231\r\n",
      "T00 ERR ...      3      2   -10.2357243999\r\n",
      "T00 ERR ...      4      2   -10.2353848876\r\n",
      "T00 ERR ...      5      2   -8.0359620445\r\n",
      "T00 ERR ...      6      2   -5.9769383909\r\n",
      "T00 ERR ...      7      2   -5.9729657765\r\n",
      "T00 ERR ...      8      2   -5.9709237334\r\n",
      "T00 ERR ...      9      2   -0.9214830279\r\n",
      "T00 ERR ...     10      2   -0.7581677031\r\n",
      "T00 ERR ...     11      2   -0.7427570789\r\n",
      "T00 ERR ...     12      2   -0.5748529997\r\n",
      "T00 ERR ...     13      2   -0.5722977811\r\n",
      "T00 ERR ...     14      2   -0.5347813312\r\n",
      "T00 ERR ...     15      2   -0.4272682817\r\n",
      "T00 ERR ...     16      2   -0.4074548707\r\n",
      "T00 ERR ...     17      2   -0.4064476286\r\n",
      "T00 ERR ...     18      2   -0.4052866164\r\n",
      "T00 ERR ...     19      2   -0.3580971574\r\n",
      "T00 ERR ...     20      2   -0.2658765980\r\n",
      "T00 ERR ...     21      2   -0.2529588523\r\n",
      "T00 ERR ...     22      0   -0.0030767979\r\n",
      "T00 ERR ...     23      0   +0.0653625978\r\n",
      "T00 ERR ...     24      0   +0.0764140097\r\n",
      "T00 ERR ...     25      0   +0.0828281279\r\n",
      "T00 ERR ...     26      0   +0.1236579615\r\n",
      "T00 ERR ...     27      0   +0.1266889216\r\n",
      "T00 ERR ...     28      0   +0.1556527850\r\n",
      "T00 ERR ...     29      0   +0.1716019819\r\n",
      "T00 ERR ...     30      0   +0.2904633731\r\n",
      "T00 ERR ...     31      0   +0.3179356803\r\n",
      "T00 ERR ...     32      0   +0.3463181793\r\n",
      "T00 ERR ...     33      0   +0.4074212598\r\n",
      "T00 ERR ...     34      0   +0.4148539366\r\n",
      "T00 ERR ...     35      0   +0.4273319630\r\n",
      "T00 ERR ...     36      0   +0.4420090743\r\n",
      "T00 ERR ...     37      0   +0.4614543484\r\n",
      "T00 ERR ...     38      0   +0.5040930100\r\n",
      "T00 ERR ...     39      0   +0.5129850167\r\n",
      "T00 ERR ...     40      0   +0.5414361755\r\n",
      "T00 ERR ...     41      0   +0.5474662952\r\n",
      "T00 ERR ...     42      0   +0.5845261383\r\n",
      "T00 ERR ...     43      0   +0.6099380064\r\n",
      "T00 ERR ...     44      0   +0.6358949545\r\n",
      "T00 ERR ...     45      0   +0.6481068018\r\n",
      "T00 ERR ...     46      0   +0.6826985677\r\n",
      "T00 ERR ...     47      0   +0.7053958198\r\n",
      "T00 ERR ...     48      0   +0.7137924610\r\n",
      "T00 ERR ...     49      0   +0.7249973848\r\n",
      "T00 ERR ...     50      0   +0.7364482937\r\n",
      "T00 ERR ...     51      0   +0.7566513419\r\n",
      "T00 ERR ...     52      0   +0.7965398410\r\n",
      "T00 ERR ...     53      0   +0.8025155252\r\n",
      "T00 ERR ...     54      0   +0.8087688812\r\n",
      "T00 ERR ...     55      0   +0.8626964686\r\n",
      "T00 ERR ...     56      0   +0.9345872837\r\n",
      "T00 ERR ...     57      0   +0.9858602289\r\n",
      "T00 ERR ...     58      0   +1.1567316765\r\n",
      "T00 ERR ...     59      0   +1.1843918982\r\n",
      "T00 ERR ...     60      0   +1.1886167914\r\n",
      "T00 ERR ...     61      0   +1.1900616942\r\n",
      "T00 ERR ...     62      0   +1.2662158895\r\n",
      "T00 ERR ...     63      0   +1.2781999893\r\n",
      "T00 ERR ...     64      0   +1.2875581789\r\n",
      "T00 ERR ...     65      0   +1.5420391369\r\n",
      "T00 ERR ...     66      0   +1.5983336596\r\n",
      "T00 ERR ...     67      0   +1.6440137834\r\n",
      "T00 ERR ...     68      0   +1.6840681091\r\n",
      "T00 ERR ...     69      0   +1.7331984004\r\n",
      "T00 ERR ...     70      0   +1.7667036169\r\n",
      "T00 ERR ...     71      0   +1.7947551964\r\n",
      "T00 ERR ...     72      0   +1.8260025029\r\n",
      "T00 ERR ...     73      0   +1.9324477283\r\n",
      "T00 ERR ...     74      0   +1.9460623553\r\n",
      "T00 ERR ...     75      0   +1.9837747757\r\n",
      "T00 ERR ...     76      0   +1.9897912985\r\n",
      "T00 ERR ...     77      0   +2.0351548833\r\n",
      "T00 ERR ...     78      0   +2.0756568310\r\n",
      "T00 ERR ...     79      0   +2.1140417757\r\n",
      "T00 ERR ...     80      0   +2.1786069310\r\n",
      "T00 ERR ...     81      0   +2.1910169527\r\n",
      "T00 ERR ...     82      0   +2.3786466895\r\n",
      "T00 ERR ...     83      0   +2.3789542813\r\n",
      "T00 ERR ...     84      0   +2.4136994147\r\n",
      "T00 ERR ...     85      0   +2.4526658311\r\n",
      "T00 ERR ...     86      0   +2.5556819100\r\n",
      "T00 ERR ...     87      0   +2.7097107414\r\n",
      "T00 ERR ...     88      0   +2.7173101354\r\n",
      "T00 ERR ...     89      0   +2.7615172284\r\n",
      "T00 ERR ...     90      0   +2.7817984720\r\n",
      "T00 ERR ...     91      0   +3.0880889975\r\n",
      "T00 ERR ...     92      0   +3.0892005042\r\n",
      "T00 ERR ...     93      0   +3.4882183342\r\n",
      "T00 ERR ... 2021-5-11 1:7:1 Electric Dipole is[e*bohr]:\r\n",
      "\t\t dx=-0.125596621344\r\n",
      "\t\t dy=0.0287761744096\r\n",
      "\t\t dz=-0.0528863609143\r\n",
      "T00 ERR ... Writing result to votca.orb\r\n",
      "T00 ERR ... QM energy[Hrt]: -552.44420609 \r\n",
      "T00 ERR ... 2021-5-11 1:7:1 RPA level range [0:93]\r\n",
      "T00 ERR ... 2021-5-11 1:7:1 GW  level range [0:64]\r\n",
      "T00 ERR ... 2021-5-11 1:7:1 BSE level range occ[0:21]  virt[22:64]\r\n",
      "T00 ERR ... 2021-5-11 1:7:1 BSE Hamiltonian has size 946x946\r\n",
      "T00 ERR ...  BSE type: full\r\n",
      "T00 ERR ...  BSE without Hqp offdiagonal elements\r\n",
      "T00 ERR ...  Running GW as: evGW\r\n",
      "T00 ERR ...  g_sc_limit [Hartree]: 1e-05\r\n",
      "T00 ERR ...  gw_sc_limit [Hartree]: 1e-05\r\n",
      "T00 ERR ...  Tasks: \r\n",
      "T00 ERR ...  GW \r\n",
      "T00 ERR ...  singlets \r\n",
      "T00 ERR ...  Store: \r\n",
      "T00 ERR ...  GW \r\n",
      "T00 ERR ...  Sigma integration: ppm\r\n",
      "T00 ERR ...  eta: 0.001\r\n",
      "T00 ERR ...  Quadrature integration order : 12\r\n",
      "T00 ERR ...  Quadrature integration scheme : legendre\r\n",
      "T00 ERR ...  Alpha smoothing parameter : 0.001\r\n",
      "T00 ERR ...  QP solver: grid\r\n",
      "T00 ERR ...  QP grid steps: 1001\r\n",
      "T00 ERR ...  QP grid spacing: 0.001\r\n",
      "T00 ERR ...  evGW with Anderson update with history 20 using alpha 0.7\r\n",
      "T00 ERR ... 2021-5-11 1:7:1 Using 4 threads\r\n",
      "T00 ERR ... 2021-5-11 1:7:1 Using native Eigen implementation, no BLAS overload \r\n",
      "T00 ERR ... 2021-5-11 1:7:1 Molecule Coordinates [A] \r\n",
      "T00 ERR ...     0    C   7.2498 5.9987 6.9816\r\n",
      "T00 ERR ...     1    C   8.3941 5.2905 7.2231\r\n",
      "T00 ERR ...     2    S   9.4238 6.1259 8.2255\r\n",
      "T00 ERR ...     3    C   8.4019 7.4292 8.3679\r\n",
      "T00 ERR ...     4    C   7.2542 7.2442 7.6483\r\n",
      "T00 ERR ...     5    H   6.4443 5.6423 6.3555\r\n",
      "T00 ERR ...     6    H   8.6517 4.3152 6.8421\r\n",
      "T00 ERR ...     7    H   8.6666 8.2851 8.9679\r\n",
      "T00 ERR ...     8    H   6.4528 7.9674 7.5999\r\n",
      "T00 ERR ... 2021-5-11 1:7:1 DFT data was created by xtp\r\n",
      "T00 ERR ... 2021-5-11 1:7:1 Loaded DFT Basis Set def2-svp\r\n",
      "T00 ERR ... 2021-5-11 1:7:1 Filled DFT Basis of size 94\r\n",
      "T00 ERR ... 2021-5-11 1:7:1 Loaded Auxbasis Set aux-def2-svp\r\n",
      "T00 ERR ... 2021-5-11 1:7:1 Filled Auxbasis of size 310\r\n",
      "T00 ERR ... 2021-5-11 1:7:1 Calculating Mmn_beta (3-center-repulsion x orbitals)  \r\n",
      "T00 ERR ... 2021-5-11 1:7:2 Calculated Mmn_beta (3-center-repulsion x orbitals)  \r\n",
      "T00 ERR ... 2021-5-11 1:7:2 Integrating Vxc in VOTCA with functional XC_HYB_GGA_XC_PBEH\r\n",
      "T00 ERR ... 2021-5-11 1:7:2 Set hybrid exchange factor: 0.25\r\n",
      "T00 ERR ... 2021-5-11 1:7:2 Calculated exchange-correlation expectation values \r\n",
      "T00 ERR ... 2021-5-11 1:7:2 Calculated Hartree exchange contribution\r\n",
      "T00 ERR ... 2021-5-11 1:7:2 Scissor shifting DFT energies by: 0 Hrt\r\n",
      "T00 ERR ... 2021-5-11 1:7:6 Not converged PQP states are:0\r\n",
      "T00 ERR ... 2021-5-11 1:7:6 Increase the grid search interval\r\n",
      "T00 ERR ...   ====== Perturbative quasiparticle energies (Hartree) ====== \r\n",
      "T00 ERR ...    DeltaHLGap = +0.167346 Hartree\r\n",
      "T00 ERR ...   Level =    0 DFT = -89.0320 VXC = -4.8453 S-X = -7.2785 S-C = +0.5877 GWA = -90.8775\r\n",
      "T00 ERR ...   Level =    1 DFT = -10.2525 VXC = -1.7010 S-X = -2.6670 S-C = +0.4188 GWA = -10.7998\r\n",
      "T00 ERR ...   Level =    2 DFT = -10.2525 VXC = -1.7010 S-X = -2.6671 S-C = +0.4188 GWA = -10.7997\r\n",
      "T00 ERR ...   Level =    3 DFT = -10.2357 VXC = -1.7011 S-X = -2.6672 S-C = +0.4123 GWA = -10.7896\r\n",
      "T00 ERR ...   Level =    4 DFT = -10.2354 VXC = -1.7001 S-X = -2.6656 S-C = +0.4121 GWA = -10.7888\r\n",
      "T00 ERR ...   Level =    5 DFT = -8.0360 VXC = -1.5650 S-X = -2.4878 S-C = +0.2246 GWA = -8.7341\r\n",
      "T00 ERR ...   Level =    6 DFT = -5.9769 VXC = -1.5871 S-X = -2.2062 S-C = +0.3070 GWA = -6.2890\r\n",
      "T00 ERR ...   Level =    7 DFT = -5.9730 VXC = -1.5886 S-X = -2.2112 S-C = +0.3073 GWA = -6.2882\r\n",
      "T00 ERR ...   Level =    8 DFT = -5.9709 VXC = -1.5894 S-X = -2.2122 S-C = +0.3106 GWA = -6.2832\r\n",
      "T00 ERR ...   Level =    9 DFT = -0.9215 VXC = -0.4886 S-X = -0.7337 S-C = +0.1761 GWA = -0.9904\r\n",
      "T00 ERR ...   Level =   10 DFT = -0.7582 VXC = -0.4866 S-X = -0.7012 S-C = +0.1363 GWA = -0.8365\r\n",
      "T00 ERR ...   Level =   11 DFT = -0.7428 VXC = -0.4812 S-X = -0.6978 S-C = +0.1310 GWA = -0.8284\r\n",
      "T00 ERR ...   Level =   12 DFT = -0.5749 VXC = -0.4526 S-X = -0.6220 S-C = +0.0818 GWA = -0.6625\r\n",
      "T00 ERR ...   Level =   13 DFT = -0.5723 VXC = -0.4514 S-X = -0.6139 S-C = +0.0751 GWA = -0.6598\r\n",
      "T00 ERR ...   Level =   14 DFT = -0.5348 VXC = -0.4246 S-X = -0.5780 S-C = +0.0656 GWA = -0.6226\r\n",
      "T00 ERR ...   Level =   15 DFT = -0.4273 VXC = -0.4425 S-X = -0.5721 S-C = +0.0450 GWA = -0.5119\r\n",
      "T00 ERR ...   Level =   16 DFT = -0.4075 VXC = -0.3859 S-X = -0.5017 S-C = +0.0479 GWA = -0.4753\r\n",
      "T00 ERR ...   Level =   17 DFT = -0.4064 VXC = -0.4454 S-X = -0.5631 S-C = +0.0374 GWA = -0.4868\r\n",
      "T00 ERR ...   Level =   18 DFT = -0.4053 VXC = -0.4533 S-X = -0.5788 S-C = +0.0465 GWA = -0.4843\r\n",
      "T00 ERR ...   Level =   19 DFT = -0.3581 VXC = -0.4424 S-X = -0.5459 S-C = +0.0320 GWA = -0.4296\r\n",
      "T00 ERR ...   Level =   20 DFT = -0.2659 VXC = -0.3962 S-X = -0.4628 S-C = +0.0075 GWA = -0.3251\r\n",
      "T00 ERR ...   HOMO  =   21 DFT = -0.2530 VXC = -0.3888 S-X = -0.4537 S-C = +0.0046 GWA = -0.3133\r\n",
      "T00 ERR ...   LUMO  =   22 DFT = -0.0031 VXC = -0.3883 S-X = -0.2414 S-C = -0.0398 GWA = +0.1040\r\n",
      "T00 ERR ...   Level =   23 DFT = +0.0654 VXC = -0.3714 S-X = -0.2032 S-C = -0.0600 GWA = +0.1737\r\n",
      "T00 ERR ...   Level =   24 DFT = +0.0764 VXC = -0.3752 S-X = -0.2042 S-C = -0.0532 GWA = +0.1942\r\n",
      "T00 ERR ...   Level =   25 DFT = +0.0828 VXC = -0.2090 S-X = -0.0886 S-C = -0.0347 GWA = +0.1685\r\n",
      "T00 ERR ...   Level =   26 DFT = +0.1237 VXC = -0.1913 S-X = -0.0742 S-C = -0.0347 GWA = +0.2060\r\n",
      "T00 ERR ...   Level =   27 DFT = +0.1267 VXC = -0.2498 S-X = -0.1152 S-C = -0.0420 GWA = +0.2192\r\n",
      "T00 ERR ...   Level =   28 DFT = +0.1557 VXC = -0.2062 S-X = -0.0846 S-C = -0.0369 GWA = +0.2404\r\n",
      "T00 ERR ...   Level =   29 DFT = +0.1716 VXC = -0.3139 S-X = -0.1559 S-C = -0.0505 GWA = +0.2791\r\n",
      "T00 ERR ...   Level =   30 DFT = +0.2905 VXC = -0.3391 S-X = -0.1638 S-C = -0.0575 GWA = +0.4084\r\n",
      "T00 ERR ...   Level =   31 DFT = +0.3179 VXC = -0.3057 S-X = -0.1396 S-C = -0.0545 GWA = +0.4295\r\n",
      "T00 ERR ...   Level =   32 DFT = +0.3463 VXC = -0.3022 S-X = -0.1327 S-C = -0.0579 GWA = +0.4579\r\n",
      "T00 ERR ...   Level =   33 DFT = +0.4074 VXC = -0.3158 S-X = -0.1393 S-C = -0.0602 GWA = +0.5236\r\n",
      "T00 ERR ...   Level =   34 DFT = +0.4149 VXC = -0.3088 S-X = -0.1240 S-C = -0.0659 GWA = +0.5336\r\n",
      "T00 ERR ...   Level =   35 DFT = +0.4273 VXC = -0.3237 S-X = -0.1359 S-C = -0.0611 GWA = +0.5540\r\n",
      "T00 ERR ...   Level =   36 DFT = +0.4420 VXC = -0.2991 S-X = -0.1205 S-C = -0.0649 GWA = +0.5557\r\n",
      "T00 ERR ...   Level =   37 DFT = +0.4615 VXC = -0.3168 S-X = -0.1301 S-C = -0.0706 GWA = +0.5776\r\n",
      "T00 ERR ...   Level =   38 DFT = +0.5041 VXC = -0.3192 S-X = -0.1112 S-C = -0.0954 GWA = +0.6167\r\n",
      "T00 ERR ...   Level =   39 DFT = +0.5130 VXC = -0.3229 S-X = -0.1249 S-C = -0.0805 GWA = +0.6305\r\n",
      "T00 ERR ...   Level =   40 DFT = +0.5414 VXC = -0.3269 S-X = -0.1142 S-C = -0.1001 GWA = +0.6541\r\n",
      "T00 ERR ...   Level =   41 DFT = +0.5475 VXC = -0.3092 S-X = -0.1218 S-C = -0.0698 GWA = +0.6651\r\n",
      "T00 ERR ...   Level =   42 DFT = +0.5845 VXC = -0.3211 S-X = -0.1099 S-C = -0.0921 GWA = +0.7036\r\n",
      "T00 ERR ...   Level =   43 DFT = +0.6099 VXC = -0.3673 S-X = -0.1286 S-C = -0.1183 GWA = +0.7303\r\n",
      "T00 ERR ...   Level =   44 DFT = +0.6359 VXC = -0.4008 S-X = -0.1575 S-C = -0.1000 GWA = +0.7792\r\n",
      "T00 ERR ...   Level =   45 DFT = +0.6481 VXC = -0.3447 S-X = -0.1315 S-C = -0.1038 GWA = +0.7575\r\n",
      "T00 ERR ...   Level =   46 DFT = +0.6827 VXC = -0.3308 S-X = -0.1218 S-C = -0.0994 GWA = +0.7924\r\n",
      "T00 ERR ...   Level =   47 DFT = +0.7054 VXC = -0.3543 S-X = -0.1253 S-C = -0.0912 GWA = +0.8432\r\n",
      "T00 ERR ...   Level =   48 DFT = +0.7138 VXC = -0.3614 S-X = -0.1273 S-C = -0.1113 GWA = +0.8366\r\n",
      "T00 ERR ...   Level =   49 DFT = +0.7250 VXC = -0.3167 S-X = -0.1108 S-C = -0.0958 GWA = +0.8351\r\n",
      "T00 ERR ...   Level =   50 DFT = +0.7364 VXC = -0.3950 S-X = -0.1497 S-C = -0.1231 GWA = +0.8587\r\n",
      "T00 ERR ...   Level =   51 DFT = +0.7567 VXC = -0.3835 S-X = -0.1444 S-C = -0.1159 GWA = +0.8798\r\n",
      "T00 ERR ...   Level =   52 DFT = +0.7965 VXC = -0.3905 S-X = -0.1536 S-C = -0.0988 GWA = +0.9346\r\n",
      "T00 ERR ...   Level =   53 DFT = +0.8025 VXC = -0.4308 S-X = -0.1758 S-C = -0.1285 GWA = +0.9290\r\n",
      "T00 ERR ...   Level =   54 DFT = +0.8088 VXC = -0.4495 S-X = -0.1849 S-C = -0.1455 GWA = +0.9279\r\n",
      "T00 ERR ...   Level =   55 DFT = +0.8627 VXC = -0.4001 S-X = -0.1420 S-C = -0.1387 GWA = +0.9821\r\n",
      "T00 ERR ...   Level =   56 DFT = +0.9346 VXC = -0.3588 S-X = -0.1097 S-C = -0.1178 GWA = +1.0659\r\n",
      "T00 ERR ...   Level =   57 DFT = +0.9859 VXC = -0.3253 S-X = -0.0968 S-C = -0.0982 GWA = +1.1161\r\n",
      "T00 ERR ...   Level =   58 DFT = +1.1567 VXC = -0.3734 S-X = -0.1116 S-C = -0.1652 GWA = +1.2533\r\n",
      "T00 ERR ...   Level =   59 DFT = +1.1844 VXC = -0.3034 S-X = -0.0712 S-C = -0.1114 GWA = +1.3052\r\n",
      "T00 ERR ...   Level =   60 DFT = +1.1886 VXC = -0.3951 S-X = -0.1383 S-C = -0.1067 GWA = +1.3387\r\n",
      "T00 ERR ...   Level =   61 DFT = +1.1901 VXC = -0.3920 S-X = -0.1176 S-C = -0.1942 GWA = +1.2703\r\n",
      "T00 ERR ...   Level =   62 DFT = +1.2662 VXC = -0.3897 S-X = -0.1298 S-C = -0.0879 GWA = +1.4383\r\n",
      "T00 ERR ...   Level =   63 DFT = +1.2782 VXC = -0.2996 S-X = -0.0685 S-C = -0.1206 GWA = +1.3888\r\n",
      "T00 ERR ...   Level =   64 DFT = +1.2876 VXC = -0.4128 S-X = -0.1471 S-C = -0.1657 GWA = +1.3877\r\n",
      "T00 ERR ... 2021-5-11 1:7:49 Calculated offdiagonal part of Sigma  \r\n",
      "T00 ERR ... 2021-5-11 1:7:49 Full quasiparticle Hamiltonian  \r\n",
      "T00 ERR ...   ====== Diagonalized quasiparticle energies (Hartree) ====== \r\n",
      "T00 ERR ...   Level =    0 PQP = -90.877474 DQP = -90.877549 \r\n",
      "T00 ERR ...   Level =    1 PQP = -10.799781 DQP = -10.799869 \r\n",
      "T00 ERR ...   Level =    2 PQP = -10.799747 DQP = -10.799836 \r\n",
      "T00 ERR ...   Level =    3 PQP = -10.789590 DQP = -10.789631 \r\n",
      "T00 ERR ...   Level =    4 PQP = -10.788829 DQP = -10.788895 \r\n",
      "T00 ERR ...   Level =    5 PQP = -8.734104 DQP = -8.734303 \r\n",
      "T00 ERR ...   Level =    6 PQP = -6.289033 DQP = -6.289051 \r\n",
      "T00 ERR ...   Level =    7 PQP = -6.288211 DQP = -6.288226 \r\n",
      "T00 ERR ...   Level =    8 PQP = -6.283165 DQP = -6.283176 \r\n",
      "T00 ERR ...   Level =    9 PQP = -0.990424 DQP = -0.991123 \r\n",
      "T00 ERR ...   Level =   10 PQP = -0.836517 DQP = -0.836969 \r\n",
      "T00 ERR ...   Level =   11 PQP = -0.828384 DQP = -0.829313 \r\n",
      "T00 ERR ...   Level =   12 PQP = -0.662477 DQP = -0.663245 \r\n",
      "T00 ERR ...   Level =   13 PQP = -0.659754 DQP = -0.661736 \r\n",
      "T00 ERR ...   Level =   14 PQP = -0.622623 DQP = -0.622409 \r\n",
      "T00 ERR ...   Level =   15 PQP = -0.511869 DQP = -0.512081 \r\n",
      "T00 ERR ...   Level =   16 PQP = -0.475330 DQP = -0.485975 \r\n",
      "T00 ERR ...   Level =   17 PQP = -0.486776 DQP = -0.483895 \r\n",
      "T00 ERR ...   Level =   18 PQP = -0.484314 DQP = -0.477825 \r\n",
      "T00 ERR ...   Level =   19 PQP = -0.429620 DQP = -0.430201 \r\n",
      "T00 ERR ...   Level =   20 PQP = -0.325075 DQP = -0.325704 \r\n",
      "T00 ERR ...   HOMO  =   21 PQP = -0.313266 DQP = -0.314495 \r\n",
      "T00 ERR ...   LUMO  =   22 PQP = +0.103962 DQP = +0.101828 \r\n",
      "T00 ERR ...   Level =   23 PQP = +0.173652 DQP = +0.167129 \r\n",
      "T00 ERR ...   Level =   24 PQP = +0.194181 DQP = +0.168253 \r\n",
      "T00 ERR ...   Level =   25 PQP = +0.168495 DQP = +0.187744 \r\n",
      "T00 ERR ...   Level =   26 PQP = +0.205990 DQP = +0.207676 \r\n",
      "T00 ERR ...   Level =   27 PQP = +0.219226 DQP = +0.212817 \r\n",
      "T00 ERR ...   Level =   28 PQP = +0.240399 DQP = +0.241660 \r\n",
      "T00 ERR ...   Level =   29 PQP = +0.279085 DQP = +0.284207 \r\n",
      "T00 ERR ...   Level =   30 PQP = +0.408366 DQP = +0.407610 \r\n",
      "T00 ERR ...   Level =   31 PQP = +0.429503 DQP = +0.429644 \r\n",
      "T00 ERR ...   Level =   32 PQP = +0.457942 DQP = +0.456964 \r\n",
      "T00 ERR ...   Level =   33 PQP = +0.523647 DQP = +0.523213 \r\n",
      "T00 ERR ...   Level =   34 PQP = +0.533633 DQP = +0.532497 \r\n",
      "T00 ERR ...   Level =   35 PQP = +0.554015 DQP = +0.554701 \r\n",
      "T00 ERR ...   Level =   36 PQP = +0.555715 DQP = +0.556639 \r\n",
      "T00 ERR ...   Level =   37 PQP = +0.577554 DQP = +0.578119 \r\n",
      "T00 ERR ...   Level =   38 PQP = +0.616724 DQP = +0.614622 \r\n",
      "T00 ERR ...   Level =   39 PQP = +0.630458 DQP = +0.630668 \r\n",
      "T00 ERR ...   Level =   40 PQP = +0.654111 DQP = +0.653785 \r\n",
      "T00 ERR ...   Level =   41 PQP = +0.665062 DQP = +0.665046 \r\n",
      "T00 ERR ...   Level =   42 PQP = +0.703623 DQP = +0.698408 \r\n",
      "T00 ERR ...   Level =   43 PQP = +0.730311 DQP = +0.723748 \r\n",
      "T00 ERR ...   Level =   44 PQP = +0.779164 DQP = +0.757712 \r\n",
      "T00 ERR ...   Level =   45 PQP = +0.757532 DQP = +0.782987 \r\n",
      "T00 ERR ...   Level =   46 PQP = +0.792368 DQP = +0.792920 \r\n",
      "T00 ERR ...   Level =   47 PQP = +0.843235 DQP = +0.834227 \r\n",
      "T00 ERR ...   Level =   48 PQP = +0.836603 DQP = +0.835807 \r\n",
      "T00 ERR ...   Level =   49 PQP = +0.835090 DQP = +0.845726 \r\n",
      "T00 ERR ...   Level =   50 PQP = +0.858680 DQP = +0.857654 \r\n",
      "T00 ERR ...   Level =   51 PQP = +0.879818 DQP = +0.879831 \r\n",
      "T00 ERR ...   Level =   52 PQP = +0.934613 DQP = +0.928192 \r\n",
      "T00 ERR ...   Level =   53 PQP = +0.929038 DQP = +0.928554 \r\n",
      "T00 ERR ...   Level =   54 PQP = +0.927922 DQP = +0.934736 \r\n",
      "T00 ERR ...   Level =   55 PQP = +0.982129 DQP = +0.981209 \r\n",
      "T00 ERR ...   Level =   56 PQP = +1.065913 DQP = +1.063534 \r\n",
      "T00 ERR ...   Level =   57 PQP = +1.116139 DQP = +1.113980 \r\n",
      "T00 ERR ...   Level =   58 PQP = +1.253319 DQP = +1.257748 \r\n",
      "T00 ERR ...   Level =   59 PQP = +1.305247 DQP = +1.270118 \r\n",
      "T00 ERR ...   Level =   60 PQP = +1.338721 DQP = +1.301893 \r\n",
      "T00 ERR ...   Level =   61 PQP = +1.270280 DQP = +1.310795 \r\n",
      "T00 ERR ...   Level =   62 PQP = +1.438286 DQP = +1.396823 \r\n",
      "T00 ERR ...   Level =   63 PQP = +1.388755 DQP = +1.434564 \r\n",
      "T00 ERR ...   Level =   64 PQP = +1.387681 DQP = +1.449348 \r\n",
      "T00 ERR ... 2021-5-11 1:7:49 Diagonalized QP Hamiltonian  \r\n",
      "T00 ERR ... 2021-5-11 1:7:49 Setup Full singlet hamiltonian \r\n",
      "T00 ERR ... 2021-5-11 1:7:49 Davidson Solver using 4 threads.\r\n",
      "T00 ERR ... 2021-5-11 1:7:49 Tolerance : 0.0001\r\n",
      "T00 ERR ... 2021-5-11 1:7:49 DPR Correction\r\n",
      "T00 ERR ... 2021-5-11 1:7:49 Matrix size : 1892x1892\r\n",
      "T00 ERR ... 2021-5-11 1:7:49 iter\tSearch Space\tNorm\r\n",
      "T00 ERR ... 2021-5-11 1:7:49    0           10 \t 3.32e-01 \t  0.00% converged\r\n",
      "T00 ERR ... 2021-5-11 1:7:49    1           17 \t 7.35e-02 \t  0.00% converged\r\n",
      "T00 ERR ... 2021-5-11 1:7:50    2           24 \t 2.73e-02 \t  0.00% converged\r\n",
      "T00 ERR ... 2021-5-11 1:7:50    3           31 \t 8.49e-03 \t  0.00% converged\r\n",
      "T00 ERR ... 2021-5-11 1:7:51    4           38 \t 1.26e-03 \t 20.00% converged\r\n",
      "T00 ERR ... 2021-5-11 1:7:51    5           44 \t 2.41e-04 \t 80.00% converged\r\n",
      "T00 ERR ... 2021-5-11 1:7:51    6           47 \t 4.01e-05 \t 100.00% converged\r\n",
      "T00 ERR ... 2021-5-11 1:7:51 Davidson converged after 6 iterations.\r\n",
      "T00 ERR ... 2021-5-11 1:7:51-----------------------------------\r\n",
      "T00 ERR ... 2021-5-11 1:7:51- Davidson ran for 2.70505006secs.\r\n",
      "T00 ERR ... 2021-5-11 1:7:51-----------------------------------\r\n",
      "T00 ERR ... 2021-5-11 1:7:51 Solved BSE for singlets \r\n",
      "T00 ERR ...   ====== singlet energies (eV) ====== \r\n",
      "T00 ERR ...   S =    1 Omega = +6.166204096444 eV  lamdba = +201.10 nm <FT> = +12.3385 <K_x> = +0.6655 <K_d> = -6.8377\r\n",
      "T00 ERR ...            TrDipole length gauge[e*bohr]  dx = +0.6612 dy = -0.1520 dz = +0.2766 |d|^2 = +0.5368 f = +0.0811\r\n",
      "T00 ERR ...            HOMO-1   -> LUMO+0    : 84.4%\r\n",
      "T00 ERR ... \r\n",
      "T00 ERR ...   S =    2 Omega = +6.213050675093 eV  lamdba = +199.58 nm <FT> = +12.3235 <K_x> = +1.1227 <K_d> = -7.2332\r\n",
      "T00 ERR ...            TrDipole length gauge[e*bohr]  dx = -0.0040 dy = -0.7200 dz = -0.3860 |d|^2 = +0.6674 f = +0.1016\r\n",
      "T00 ERR ...            HOMO-0   -> LUMO+0    : 95.7%\r\n",
      "T00 ERR ... \r\n",
      "T00 ERR ...   S =    3 Omega = +7.532412170278 eV  lamdba = +164.62 nm <FT> = +14.2770 <K_x> = +0.3795 <K_d> = -7.1241\r\n",
      "T00 ERR ...            TrDipole length gauge[e*bohr]  dx = -0.0001 dy = +0.0009 dz = +0.0007 |d|^2 = +0.0000 f = +0.0000\r\n",
      "T00 ERR ...            HOMO-1   -> LUMO+2    : 93.2%\r\n",
      "T00 ERR ... \r\n",
      "T00 ERR ...   S =    4 Omega = +7.543725966140 eV  lamdba = +164.38 nm <FT> = +13.9376 <K_x> = +0.3056 <K_d> = -6.6994\r\n",
      "T00 ERR ...            TrDipole length gauge[e*bohr]  dx = +0.0150 dy = +0.0178 dz = -0.0332 |d|^2 = +0.0016 f = +0.0003\r\n",
      "T00 ERR ...            HOMO-0   -> LUMO+2    : 92.3%\r\n",
      "T00 ERR ... \r\n",
      "T00 ERR ...   S =    5 Omega = +7.815121690497 eV  lamdba = +158.67 nm <FT> = +13.3294 <K_x> = +0.1934 <K_d> = -5.7077\r\n",
      "T00 ERR ...            TrDipole length gauge[e*bohr]  dx = +0.0004 dy = -0.0000 dz = +0.0002 |d|^2 = +0.0000 f = +0.0000\r\n",
      "T00 ERR ...            HOMO-0   -> LUMO+3    : 94.4%\r\n",
      "T00 ERR ... \r\n",
      "T00 ERR ... 2021-5-11 1:7:52 GWBSE calculation finished \r\n",
      "T00 ERR ... Filter overlap not used in first iteration as it needs a reference state\r\n",
      "T00 ERR ... No State found by tracker using last state: s1\r\n",
      "T00 ERR ... 2021-5-11 1:7:52 Evaluating static 1\r\n",
      "T00 ERR ... 2021-5-11 1:7:52 Writing checkpoint to checkpoint_iter_1.hdf5\r\n",
      "T00 ERR ... Next State is: s1\r\n",
      "T00 ERR ... Reporting job results\r\n",
      "\r\n",
      "T00 ERR ... Requesting next job\r\n",
      "T00 ERR ... Next job: ID = 1=> [50%] \r\n",
      "T00 ERR ... Initial state: s1\r\n",
      "T00 ERR ... Using overlap filter with threshold 0.8\r\n",
      "T00 ERR ...  Regions created\r\n",
      "T00 ERR ... Id: 0 type: qm size: 1 charge[e]= 0\r\n",
      "T00 ERR ... Id: 1 type: static size: 328 charge[e]= -7.26640969617e-14\r\n",
      "T00 ERR ... 2021-5-11 1:7:52 Writing jobtopology to QMMM/frame_10000/job_1_static/regions.pdb\r\n",
      "T00 ERR ... 2021-5-11 1:7:52 Only 1 scf region is used. The remaining regions are static. So no inter regions scf is required. \r\n",
      "T00 ERR ... 2021-5-11 1:7:52 --Inter Region SCF Iteration 1 of 1\r\n",
      "T00 ERR ... 2021-5-11 1:7:52 Evaluating qm 0\r\n",
      "T00 ERR ... 2021-5-11 1:7:52 Evaluating interaction between qm 0 and static 1\r\n",
      "T00 ERR ... Running DFT calculation\r\n",
      "T00 ERR ... 2021-5-11 1:7:52 Using 4 threads\r\n",
      "T00 ERR ... 2021-5-11 1:7:52 Using native Eigen implementation, no BLAS overload \r\n",
      "T00 ERR ...  Molecule Coordinates [A] \r\n",
      "T00 ERR ...   C   +7.2498 +5.9987 +6.9816\r\n",
      "T00 ERR ...   C   +8.3941 +5.2905 +7.2231\r\n",
      "T00 ERR ...   S   +9.4238 +6.1259 +8.2255\r\n",
      "T00 ERR ...   C   +8.4019 +7.4292 +8.3679\r\n",
      "T00 ERR ...   C   +7.2542 +7.2442 +7.6483\r\n",
      "T00 ERR ...   H   +6.4443 +5.6423 +6.3555\r\n",
      "T00 ERR ...   H   +8.6517 +4.3152 +6.8421\r\n",
      "T00 ERR ...   H   +8.6666 +8.2851 +8.9679\r\n",
      "T00 ERR ...   H   +6.4528 +7.9674 +7.5999\r\n",
      "T00 ERR ... 2021-5-11 1:7:52 Loaded DFT Basis Set def2-svp with 94 functions\r\n",
      "T00 ERR ... 2021-5-11 1:7:52 Total number of electrons: 44\r\n",
      "T00 ERR ... 2021-5-11 1:7:52 Smallest value of AOOverlap matrix is 0.000982360698837\r\n",
      "T00 ERR ... 2021-5-11 1:7:52 Removed 0 basisfunction from inverse overlap matrix\r\n",
      "T00 ERR ... 2021-5-11 1:7:52 Convergence Options:\r\n",
      "T00 ERR ... \t\t Delta E [Ha]: 1e-07\r\n",
      "T00 ERR ... \t\t DIIS max error: 1e-07\r\n",
      "T00 ERR ... \t\t DIIS histlength: 20\r\n",
      "T00 ERR ... \t\t ADIIS start: 0.8\r\n",
      "T00 ERR ... \t\t DIIS start: 0.002\r\n",
      "T00 ERR ... \t\t Deleting oldest element from DIIS hist\r\n",
      "T00 ERR ... \t\t Levelshift[Ha]: 0\r\n",
      "T00 ERR ... \t\t Levelshift end: 0.2\r\n",
      "T00 ERR ... \t\t Mixing Parameter alpha: 0.7\r\n",
      "T00 ERR ... 2021-5-11 1:7:52 Constructed independent particle hamiltonian \r\n",
      "T00 ERR ... 2021-5-11 1:7:52 Nuclear Repulsion Energy is 206.268375\r\n",
      "T00 ERR ... 2021-5-11 1:7:52 Using hybrid functional with alpha=0.25\r\n",
      "T00 ERR ... 2021-5-11 1:7:52 Setup numerical integration grid medium for vxc functional XC_HYB_GGA_XC_PBEH\r\n",
      "T00 ERR ... 2021-5-11 1:7:52 Setup Initial Guess using: atom\r\n",
      "T00 ERR ... 2021-5-11 1:7:52 Calculating atom density for C\r\n",
      "T00 ERR ... 2021-5-11 1:7:53 Calculating atom density for S\r\n",
      "T00 ERR ... 2021-5-11 1:7:55 Calculating atom density for H\r\n",
      "T00 ERR ... 2021-5-11 1:7:55 STARTING SCF cycle\r\n",
      "T00 ERR ...  --------------------------------------------------------------------------\r\n",
      "T00 ERR ... \r\n",
      "T00 ERR ... 2021-5-11 1:7:55 Iteration 1 of 100\r\n",
      "T00 ERR ... 2021-5-11 1:7:56 Total Energy -552.151670272\r\n",
      "T00 ERR ... 2021-5-11 1:7:56 DIIs error 0.208138125325\r\n",
      "T00 ERR ... 2021-5-11 1:7:56 Delta Etot 0\r\n",
      "T00 ERR ... \r\n",
      "T00 ERR ... 2021-5-11 1:7:56 Iteration 2 of 100\r\n",
      "T00 ERR ... 2021-5-11 1:7:57 Total Energy -552.264922981\r\n",
      "T00 ERR ... 2021-5-11 1:7:57 DIIs error 0.141559846855\r\n",
      "T00 ERR ... 2021-5-11 1:7:57 Delta Etot -0.113252709749\r\n",
      "T00 ERR ... \r\n",
      "T00 ERR ... 2021-5-11 1:7:57 Iteration 3 of 100\r\n",
      "T00 ERR ... 2021-5-11 1:7:58 Total Energy -552.321794403\r\n",
      "T00 ERR ... 2021-5-11 1:7:58 DIIs error 0.0928358172494\r\n",
      "T00 ERR ... 2021-5-11 1:7:58 Delta Etot -0.0568714213568\r\n",
      "T00 ERR ... \r\n",
      "T00 ERR ... 2021-5-11 1:7:58 Iteration 4 of 100\r\n",
      "T00 ERR ... 2021-5-11 1:7:59 Total Energy -552.440416134\r\n",
      "T00 ERR ... 2021-5-11 1:7:59 DIIs error 0.0204143737721\r\n",
      "T00 ERR ... 2021-5-11 1:7:59 Delta Etot -0.118621731198\r\n",
      "T00 ERR ... \r\n",
      "T00 ERR ... 2021-5-11 1:7:59 Iteration 5 of 100\r\n",
      "T00 ERR ... 2021-5-11 1:8:0 Total Energy -552.44026576\r\n",
      "T00 ERR ... 2021-5-11 1:8:0 DIIs error 0.0193679072958\r\n",
      "T00 ERR ... 2021-5-11 1:8:0 Delta Etot 0.000150374293753\r\n",
      "T00 ERR ... \r\n",
      "T00 ERR ... 2021-5-11 1:8:0 Iteration 6 of 100\r\n",
      "T00 ERR ... 2021-5-11 1:8:0 Total Energy -552.444089359\r\n",
      "T00 ERR ... 2021-5-11 1:8:0 DIIs error 0.00403432709037\r\n",
      "T00 ERR ... 2021-5-11 1:8:0 Delta Etot -0.00382359922457\r\n",
      "T00 ERR ... \r\n",
      "T00 ERR ... 2021-5-11 1:8:1 Iteration 7 of 100\r\n",
      "T00 ERR ... 2021-5-11 1:8:1 Total Energy -552.443950386\r\n",
      "T00 ERR ... 2021-5-11 1:8:1 DIIs error 0.00491541987317\r\n",
      "T00 ERR ... 2021-5-11 1:8:1 Delta Etot 0.000138973393859\r\n",
      "T00 ERR ... \r\n",
      "T00 ERR ... 2021-5-11 1:8:1 Iteration 8 of 100\r\n",
      "T00 ERR ... 2021-5-11 1:8:2 Total Energy -552.444200273\r\n",
      "T00 ERR ... 2021-5-11 1:8:2 DIIs error 0.000927695987801\r\n",
      "T00 ERR ... 2021-5-11 1:8:2 Delta Etot -0.000249887397445\r\n",
      "T00 ERR ... \r\n",
      "T00 ERR ... 2021-5-11 1:8:2 Iteration 9 of 100\r\n",
      "T00 ERR ... 2021-5-11 1:8:3 Total Energy -552.444206072\r\n",
      "T00 ERR ... 2021-5-11 1:8:3 DIIs error 3.98553418229e-05\r\n",
      "T00 ERR ... 2021-5-11 1:8:3 Delta Etot -5.79902689424e-06\r\n",
      "T00 ERR ... \r\n",
      "T00 ERR ... 2021-5-11 1:8:3 Iteration 10 of 100\r\n",
      "T00 ERR ... 2021-5-11 1:8:4 Total Energy -552.444206089\r\n",
      "T00 ERR ... 2021-5-11 1:8:4 DIIs error 1.3243893926e-05\r\n",
      "T00 ERR ... 2021-5-11 1:8:4 Delta Etot -1.73417902261e-08\r\n",
      "T00 ERR ... \r\n",
      "T00 ERR ... 2021-5-11 1:8:4 Iteration 11 of 100\r\n",
      "T00 ERR ... 2021-5-11 1:8:5 Total Energy -552.44420609\r\n",
      "T00 ERR ... 2021-5-11 1:8:5 DIIs error 9.37638547479e-06\r\n",
      "T00 ERR ... 2021-5-11 1:8:5 Delta Etot -6.16864781477e-10\r\n",
      "T00 ERR ... \r\n",
      "T00 ERR ... 2021-5-11 1:8:5 Iteration 12 of 100\r\n",
      "T00 ERR ... 2021-5-11 1:8:6 Total Energy -552.444206091\r\n",
      "T00 ERR ... 2021-5-11 1:8:6 DIIs error 2.14732950295e-06\r\n",
      "T00 ERR ... 2021-5-11 1:8:6 Delta Etot -7.47377271182e-10\r\n",
      "T00 ERR ... \r\n",
      "T00 ERR ... 2021-5-11 1:8:6 Iteration 13 of 100\r\n",
      "T00 ERR ... 2021-5-11 1:8:6 Total Energy -552.444206091\r\n",
      "T00 ERR ... 2021-5-11 1:8:6 DIIs error 1.44065662245e-06\r\n",
      "T00 ERR ... 2021-5-11 1:8:6 Delta Etot -4.04725142289e-11\r\n",
      "T00 ERR ... \r\n",
      "T00 ERR ... 2021-5-11 1:8:7 Iteration 14 of 100\r\n",
      "T00 ERR ... 2021-5-11 1:8:7 Total Energy -552.444206091\r\n",
      "T00 ERR ... 2021-5-11 1:8:7 DIIs error 5.24749234023e-08\r\n",
      "T00 ERR ... 2021-5-11 1:8:7 Delta Etot -1.50066625793e-11\r\n",
      "T00 ERR ... 2021-5-11 1:8:7 Total Energy has converged to -1.50066626e-11[Ha] after 14 iterations. DIIS error is converged up to 5.24749234e-08\r\n",
      "T00 ERR ... 2021-5-11 1:8:7 Final Single Point Energy -552.444206091 Ha\r\n",
      "T00 ERR ... 2021-5-11 1:8:7 Final Local Exc contribution -36.7917998573 Ha\r\n",
      "T00 ERR ... 2021-5-11 1:8:7 Final Non Local Ex contribution -11.7975219267 Ha\r\n",
      "T00 ERR ...   Orbital energies: \r\n",
      "T00 ERR ...   index occupation energy(Hartree) \r\n",
      "T00 ERR ...      0      2   -89.0320195152\r\n",
      "T00 ERR ...      1      2   -10.2524875882\r\n",
      "T00 ERR ...      2      2   -10.2524601231\r\n",
      "T00 ERR ...      3      2   -10.2357243999\r\n",
      "T00 ERR ...      4      2   -10.2353848876\r\n",
      "T00 ERR ...      5      2   -8.0359620445\r\n",
      "T00 ERR ...      6      2   -5.9769383909\r\n",
      "T00 ERR ...      7      2   -5.9729657765\r\n",
      "T00 ERR ...      8      2   -5.9709237334\r\n",
      "T00 ERR ...      9      2   -0.9214830279\r\n",
      "T00 ERR ...     10      2   -0.7581677031\r\n",
      "T00 ERR ...     11      2   -0.7427570789\r\n",
      "T00 ERR ...     12      2   -0.5748529997\r\n",
      "T00 ERR ...     13      2   -0.5722977811\r\n",
      "T00 ERR ...     14      2   -0.5347813312\r\n",
      "T00 ERR ...     15      2   -0.4272682817\r\n",
      "T00 ERR ...     16      2   -0.4074548707\r\n",
      "T00 ERR ...     17      2   -0.4064476286\r\n",
      "T00 ERR ...     18      2   -0.4052866164\r\n",
      "T00 ERR ...     19      2   -0.3580971574\r\n",
      "T00 ERR ...     20      2   -0.2658765980\r\n",
      "T00 ERR ...     21      2   -0.2529588523\r\n",
      "T00 ERR ...     22      0   -0.0030767979\r\n",
      "T00 ERR ...     23      0   +0.0653625978\r\n",
      "T00 ERR ...     24      0   +0.0764140097\r\n",
      "T00 ERR ...     25      0   +0.0828281279\r\n",
      "T00 ERR ...     26      0   +0.1236579615\r\n",
      "T00 ERR ...     27      0   +0.1266889216\r\n",
      "T00 ERR ...     28      0   +0.1556527850\r\n",
      "T00 ERR ...     29      0   +0.1716019819\r\n",
      "T00 ERR ...     30      0   +0.2904633731\r\n",
      "T00 ERR ...     31      0   +0.3179356803\r\n",
      "T00 ERR ...     32      0   +0.3463181793\r\n",
      "T00 ERR ...     33      0   +0.4074212598\r\n",
      "T00 ERR ...     34      0   +0.4148539366\r\n",
      "T00 ERR ...     35      0   +0.4273319630\r\n",
      "T00 ERR ...     36      0   +0.4420090743\r\n",
      "T00 ERR ...     37      0   +0.4614543484\r\n",
      "T00 ERR ...     38      0   +0.5040930100\r\n",
      "T00 ERR ...     39      0   +0.5129850167\r\n",
      "T00 ERR ...     40      0   +0.5414361755\r\n",
      "T00 ERR ...     41      0   +0.5474662952\r\n",
      "T00 ERR ...     42      0   +0.5845261383\r\n",
      "T00 ERR ...     43      0   +0.6099380064\r\n",
      "T00 ERR ...     44      0   +0.6358949545\r\n",
      "T00 ERR ...     45      0   +0.6481068018\r\n",
      "T00 ERR ...     46      0   +0.6826985677\r\n",
      "T00 ERR ...     47      0   +0.7053958198\r\n",
      "T00 ERR ...     48      0   +0.7137924610\r\n",
      "T00 ERR ...     49      0   +0.7249973848\r\n",
      "T00 ERR ...     50      0   +0.7364482937\r\n",
      "T00 ERR ...     51      0   +0.7566513419\r\n",
      "T00 ERR ...     52      0   +0.7965398410\r\n",
      "T00 ERR ...     53      0   +0.8025155252\r\n",
      "T00 ERR ...     54      0   +0.8087688812\r\n",
      "T00 ERR ...     55      0   +0.8626964686\r\n",
      "T00 ERR ...     56      0   +0.9345872837\r\n",
      "T00 ERR ...     57      0   +0.9858602289\r\n",
      "T00 ERR ...     58      0   +1.1567316765\r\n",
      "T00 ERR ...     59      0   +1.1843918982\r\n",
      "T00 ERR ...     60      0   +1.1886167914\r\n",
      "T00 ERR ...     61      0   +1.1900616942\r\n",
      "T00 ERR ...     62      0   +1.2662158895\r\n",
      "T00 ERR ...     63      0   +1.2781999893\r\n",
      "T00 ERR ...     64      0   +1.2875581789\r\n",
      "T00 ERR ...     65      0   +1.5420391369\r\n",
      "T00 ERR ...     66      0   +1.5983336596\r\n",
      "T00 ERR ...     67      0   +1.6440137834\r\n",
      "T00 ERR ...     68      0   +1.6840681091\r\n",
      "T00 ERR ...     69      0   +1.7331984004\r\n",
      "T00 ERR ...     70      0   +1.7667036169\r\n",
      "T00 ERR ...     71      0   +1.7947551964\r\n",
      "T00 ERR ...     72      0   +1.8260025029\r\n",
      "T00 ERR ...     73      0   +1.9324477283\r\n",
      "T00 ERR ...     74      0   +1.9460623553\r\n",
      "T00 ERR ...     75      0   +1.9837747757\r\n",
      "T00 ERR ...     76      0   +1.9897912985\r\n",
      "T00 ERR ...     77      0   +2.0351548833\r\n",
      "T00 ERR ...     78      0   +2.0756568310\r\n",
      "T00 ERR ...     79      0   +2.1140417757\r\n",
      "T00 ERR ...     80      0   +2.1786069310\r\n",
      "T00 ERR ...     81      0   +2.1910169527\r\n",
      "T00 ERR ...     82      0   +2.3786466895\r\n",
      "T00 ERR ...     83      0   +2.3789542813\r\n",
      "T00 ERR ...     84      0   +2.4136994147\r\n",
      "T00 ERR ...     85      0   +2.4526658311\r\n",
      "T00 ERR ...     86      0   +2.5556819100\r\n",
      "T00 ERR ...     87      0   +2.7097107414\r\n",
      "T00 ERR ...     88      0   +2.7173101354\r\n",
      "T00 ERR ...     89      0   +2.7615172284\r\n",
      "T00 ERR ...     90      0   +2.7817984720\r\n",
      "T00 ERR ...     91      0   +3.0880889975\r\n",
      "T00 ERR ...     92      0   +3.0892005042\r\n",
      "T00 ERR ...     93      0   +3.4882183342\r\n",
      "T00 ERR ... 2021-5-11 1:8:7 Electric Dipole is[e*bohr]:\r\n",
      "\t\t dx=-0.125596621345\r\n",
      "\t\t dy=0.0287761744099\r\n",
      "\t\t dz=-0.0528863609142\r\n",
      "T00 ERR ... Writing result to votca.orb\r\n",
      "T00 ERR ... QM energy[Hrt]: -552.44420609 \r\n",
      "T00 ERR ... 2021-5-11 1:8:7 RPA level range [0:93]\r\n",
      "T00 ERR ... 2021-5-11 1:8:7 GW  level range [0:64]\r\n",
      "T00 ERR ... 2021-5-11 1:8:7 BSE level range occ[0:21]  virt[22:64]\r\n",
      "T00 ERR ... 2021-5-11 1:8:7 BSE Hamiltonian has size 946x946\r\n",
      "T00 ERR ...  BSE type: full\r\n",
      "T00 ERR ...  BSE without Hqp offdiagonal elements\r\n",
      "T00 ERR ...  Running GW as: evGW\r\n",
      "T00 ERR ...  g_sc_limit [Hartree]: 1e-05\r\n",
      "T00 ERR ...  gw_sc_limit [Hartree]: 1e-05\r\n",
      "T00 ERR ...  Tasks: \r\n",
      "T00 ERR ...  GW \r\n",
      "T00 ERR ...  singlets \r\n",
      "T00 ERR ...  Store: \r\n",
      "T00 ERR ...  GW \r\n",
      "T00 ERR ...  Sigma integration: ppm\r\n",
      "T00 ERR ...  eta: 0.001\r\n",
      "T00 ERR ...  Quadrature integration order : 12\r\n",
      "T00 ERR ...  Quadrature integration scheme : legendre\r\n",
      "T00 ERR ...  Alpha smoothing parameter : 0.001\r\n",
      "T00 ERR ...  QP solver: grid\r\n",
      "T00 ERR ...  QP grid steps: 1001\r\n",
      "T00 ERR ...  QP grid spacing: 0.001\r\n",
      "T00 ERR ...  evGW with Anderson update with history 20 using alpha 0.7\r\n",
      "T00 ERR ... 2021-5-11 1:8:7 Using 4 threads\r\n",
      "T00 ERR ... 2021-5-11 1:8:7 Using native Eigen implementation, no BLAS overload \r\n",
      "T00 ERR ... 2021-5-11 1:8:7 Molecule Coordinates [A] \r\n",
      "T00 ERR ...     0    C   7.2498 5.9987 6.9816\r\n",
      "T00 ERR ...     1    C   8.3941 5.2905 7.2231\r\n",
      "T00 ERR ...     2    S   9.4238 6.1259 8.2255\r\n",
      "T00 ERR ...     3    C   8.4019 7.4292 8.3679\r\n",
      "T00 ERR ...     4    C   7.2542 7.2442 7.6483\r\n",
      "T00 ERR ...     5    H   6.4443 5.6423 6.3555\r\n",
      "T00 ERR ...     6    H   8.6517 4.3152 6.8421\r\n",
      "T00 ERR ...     7    H   8.6666 8.2851 8.9679\r\n",
      "T00 ERR ...     8    H   6.4528 7.9674 7.5999\r\n",
      "T00 ERR ... 2021-5-11 1:8:7 DFT data was created by xtp\r\n",
      "T00 ERR ... 2021-5-11 1:8:7 Loaded DFT Basis Set def2-svp\r\n",
      "T00 ERR ... 2021-5-11 1:8:7 Filled DFT Basis of size 94\r\n",
      "T00 ERR ... 2021-5-11 1:8:7 Loaded Auxbasis Set aux-def2-svp\r\n",
      "T00 ERR ... 2021-5-11 1:8:7 Filled Auxbasis of size 310\r\n",
      "T00 ERR ... 2021-5-11 1:8:7 Calculating Mmn_beta (3-center-repulsion x orbitals)  \r\n",
      "T00 ERR ... 2021-5-11 1:8:8 Calculated Mmn_beta (3-center-repulsion x orbitals)  \r\n",
      "T00 ERR ... 2021-5-11 1:8:8 Integrating Vxc in VOTCA with functional XC_HYB_GGA_XC_PBEH\r\n",
      "T00 ERR ... 2021-5-11 1:8:8 Set hybrid exchange factor: 0.25\r\n",
      "T00 ERR ... 2021-5-11 1:8:8 Calculated exchange-correlation expectation values \r\n",
      "T00 ERR ... 2021-5-11 1:8:8 Calculated Hartree exchange contribution\r\n",
      "T00 ERR ... 2021-5-11 1:8:8 Scissor shifting DFT energies by: 0 Hrt\r\n",
      "T00 ERR ... 2021-5-11 1:8:12 Not converged PQP states are:0\r\n",
      "T00 ERR ... 2021-5-11 1:8:12 Increase the grid search interval\r\n",
      "T00 ERR ...   ====== Perturbative quasiparticle energies (Hartree) ====== \r\n",
      "T00 ERR ...    DeltaHLGap = +0.167346 Hartree\r\n",
      "T00 ERR ...   Level =    0 DFT = -89.0320 VXC = -4.8453 S-X = -7.2785 S-C = +0.5877 GWA = -90.8775\r\n",
      "T00 ERR ...   Level =    1 DFT = -10.2525 VXC = -1.7010 S-X = -2.6670 S-C = +0.4188 GWA = -10.7998\r\n",
      "T00 ERR ...   Level =    2 DFT = -10.2525 VXC = -1.7010 S-X = -2.6671 S-C = +0.4188 GWA = -10.7997\r\n",
      "T00 ERR ...   Level =    3 DFT = -10.2357 VXC = -1.7011 S-X = -2.6672 S-C = +0.4123 GWA = -10.7896\r\n",
      "T00 ERR ...   Level =    4 DFT = -10.2354 VXC = -1.7001 S-X = -2.6656 S-C = +0.4121 GWA = -10.7888\r\n",
      "T00 ERR ...   Level =    5 DFT = -8.0360 VXC = -1.5650 S-X = -2.4878 S-C = +0.2246 GWA = -8.7341\r\n",
      "T00 ERR ...   Level =    6 DFT = -5.9769 VXC = -1.5871 S-X = -2.2062 S-C = +0.3070 GWA = -6.2890\r\n",
      "T00 ERR ...   Level =    7 DFT = -5.9730 VXC = -1.5886 S-X = -2.2112 S-C = +0.3073 GWA = -6.2882\r\n",
      "T00 ERR ...   Level =    8 DFT = -5.9709 VXC = -1.5894 S-X = -2.2122 S-C = +0.3106 GWA = -6.2832\r\n",
      "T00 ERR ...   Level =    9 DFT = -0.9215 VXC = -0.4886 S-X = -0.7337 S-C = +0.1761 GWA = -0.9904\r\n",
      "T00 ERR ...   Level =   10 DFT = -0.7582 VXC = -0.4866 S-X = -0.7012 S-C = +0.1363 GWA = -0.8365\r\n",
      "T00 ERR ...   Level =   11 DFT = -0.7428 VXC = -0.4812 S-X = -0.6978 S-C = +0.1310 GWA = -0.8284\r\n",
      "T00 ERR ...   Level =   12 DFT = -0.5749 VXC = -0.4526 S-X = -0.6220 S-C = +0.0818 GWA = -0.6625\r\n",
      "T00 ERR ...   Level =   13 DFT = -0.5723 VXC = -0.4514 S-X = -0.6139 S-C = +0.0751 GWA = -0.6598\r\n",
      "T00 ERR ...   Level =   14 DFT = -0.5348 VXC = -0.4246 S-X = -0.5780 S-C = +0.0656 GWA = -0.6226\r\n",
      "T00 ERR ...   Level =   15 DFT = -0.4273 VXC = -0.4425 S-X = -0.5721 S-C = +0.0450 GWA = -0.5119\r\n",
      "T00 ERR ...   Level =   16 DFT = -0.4075 VXC = -0.3859 S-X = -0.5017 S-C = +0.0479 GWA = -0.4753\r\n",
      "T00 ERR ...   Level =   17 DFT = -0.4064 VXC = -0.4454 S-X = -0.5631 S-C = +0.0374 GWA = -0.4868\r\n",
      "T00 ERR ...   Level =   18 DFT = -0.4053 VXC = -0.4533 S-X = -0.5788 S-C = +0.0465 GWA = -0.4843\r\n",
      "T00 ERR ...   Level =   19 DFT = -0.3581 VXC = -0.4424 S-X = -0.5459 S-C = +0.0320 GWA = -0.4296\r\n",
      "T00 ERR ...   Level =   20 DFT = -0.2659 VXC = -0.3962 S-X = -0.4628 S-C = +0.0075 GWA = -0.3251\r\n",
      "T00 ERR ...   HOMO  =   21 DFT = -0.2530 VXC = -0.3888 S-X = -0.4537 S-C = +0.0046 GWA = -0.3133\r\n",
      "T00 ERR ...   LUMO  =   22 DFT = -0.0031 VXC = -0.3883 S-X = -0.2414 S-C = -0.0398 GWA = +0.1040\r\n",
      "T00 ERR ...   Level =   23 DFT = +0.0654 VXC = -0.3714 S-X = -0.2032 S-C = -0.0600 GWA = +0.1737\r\n",
      "T00 ERR ...   Level =   24 DFT = +0.0764 VXC = -0.3752 S-X = -0.2042 S-C = -0.0532 GWA = +0.1942\r\n",
      "T00 ERR ...   Level =   25 DFT = +0.0828 VXC = -0.2090 S-X = -0.0886 S-C = -0.0347 GWA = +0.1685\r\n",
      "T00 ERR ...   Level =   26 DFT = +0.1237 VXC = -0.1913 S-X = -0.0742 S-C = -0.0347 GWA = +0.2060\r\n",
      "T00 ERR ...   Level =   27 DFT = +0.1267 VXC = -0.2498 S-X = -0.1152 S-C = -0.0420 GWA = +0.2192\r\n",
      "T00 ERR ...   Level =   28 DFT = +0.1557 VXC = -0.2062 S-X = -0.0846 S-C = -0.0369 GWA = +0.2404\r\n",
      "T00 ERR ...   Level =   29 DFT = +0.1716 VXC = -0.3139 S-X = -0.1559 S-C = -0.0505 GWA = +0.2791\r\n",
      "T00 ERR ...   Level =   30 DFT = +0.2905 VXC = -0.3391 S-X = -0.1638 S-C = -0.0575 GWA = +0.4084\r\n",
      "T00 ERR ...   Level =   31 DFT = +0.3179 VXC = -0.3057 S-X = -0.1396 S-C = -0.0545 GWA = +0.4295\r\n",
      "T00 ERR ...   Level =   32 DFT = +0.3463 VXC = -0.3022 S-X = -0.1327 S-C = -0.0579 GWA = +0.4579\r\n",
      "T00 ERR ...   Level =   33 DFT = +0.4074 VXC = -0.3158 S-X = -0.1393 S-C = -0.0602 GWA = +0.5236\r\n",
      "T00 ERR ...   Level =   34 DFT = +0.4149 VXC = -0.3088 S-X = -0.1240 S-C = -0.0659 GWA = +0.5336\r\n",
      "T00 ERR ...   Level =   35 DFT = +0.4273 VXC = -0.3237 S-X = -0.1359 S-C = -0.0611 GWA = +0.5540\r\n",
      "T00 ERR ...   Level =   36 DFT = +0.4420 VXC = -0.2991 S-X = -0.1205 S-C = -0.0649 GWA = +0.5557\r\n",
      "T00 ERR ...   Level =   37 DFT = +0.4615 VXC = -0.3168 S-X = -0.1301 S-C = -0.0706 GWA = +0.5776\r\n",
      "T00 ERR ...   Level =   38 DFT = +0.5041 VXC = -0.3192 S-X = -0.1112 S-C = -0.0954 GWA = +0.6167\r\n",
      "T00 ERR ...   Level =   39 DFT = +0.5130 VXC = -0.3229 S-X = -0.1249 S-C = -0.0805 GWA = +0.6305\r\n",
      "T00 ERR ...   Level =   40 DFT = +0.5414 VXC = -0.3269 S-X = -0.1142 S-C = -0.1001 GWA = +0.6541\r\n",
      "T00 ERR ...   Level =   41 DFT = +0.5475 VXC = -0.3092 S-X = -0.1218 S-C = -0.0698 GWA = +0.6651\r\n",
      "T00 ERR ...   Level =   42 DFT = +0.5845 VXC = -0.3211 S-X = -0.1099 S-C = -0.0921 GWA = +0.7036\r\n",
      "T00 ERR ...   Level =   43 DFT = +0.6099 VXC = -0.3673 S-X = -0.1286 S-C = -0.1183 GWA = +0.7303\r\n",
      "T00 ERR ...   Level =   44 DFT = +0.6359 VXC = -0.4008 S-X = -0.1575 S-C = -0.1000 GWA = +0.7792\r\n",
      "T00 ERR ...   Level =   45 DFT = +0.6481 VXC = -0.3447 S-X = -0.1315 S-C = -0.1038 GWA = +0.7575\r\n",
      "T00 ERR ...   Level =   46 DFT = +0.6827 VXC = -0.3308 S-X = -0.1218 S-C = -0.0994 GWA = +0.7924\r\n",
      "T00 ERR ...   Level =   47 DFT = +0.7054 VXC = -0.3543 S-X = -0.1253 S-C = -0.0912 GWA = +0.8432\r\n",
      "T00 ERR ...   Level =   48 DFT = +0.7138 VXC = -0.3614 S-X = -0.1273 S-C = -0.1113 GWA = +0.8366\r\n",
      "T00 ERR ...   Level =   49 DFT = +0.7250 VXC = -0.3167 S-X = -0.1108 S-C = -0.0958 GWA = +0.8351\r\n",
      "T00 ERR ...   Level =   50 DFT = +0.7364 VXC = -0.3950 S-X = -0.1497 S-C = -0.1231 GWA = +0.8587\r\n",
      "T00 ERR ...   Level =   51 DFT = +0.7567 VXC = -0.3835 S-X = -0.1444 S-C = -0.1159 GWA = +0.8798\r\n",
      "T00 ERR ...   Level =   52 DFT = +0.7965 VXC = -0.3905 S-X = -0.1536 S-C = -0.0988 GWA = +0.9346\r\n",
      "T00 ERR ...   Level =   53 DFT = +0.8025 VXC = -0.4308 S-X = -0.1758 S-C = -0.1285 GWA = +0.9290\r\n",
      "T00 ERR ...   Level =   54 DFT = +0.8088 VXC = -0.4495 S-X = -0.1849 S-C = -0.1455 GWA = +0.9279\r\n",
      "T00 ERR ...   Level =   55 DFT = +0.8627 VXC = -0.4001 S-X = -0.1420 S-C = -0.1387 GWA = +0.9821\r\n",
      "T00 ERR ...   Level =   56 DFT = +0.9346 VXC = -0.3588 S-X = -0.1097 S-C = -0.1178 GWA = +1.0659\r\n",
      "T00 ERR ...   Level =   57 DFT = +0.9859 VXC = -0.3253 S-X = -0.0968 S-C = -0.0982 GWA = +1.1161\r\n",
      "T00 ERR ...   Level =   58 DFT = +1.1567 VXC = -0.3734 S-X = -0.1116 S-C = -0.1652 GWA = +1.2533\r\n",
      "T00 ERR ...   Level =   59 DFT = +1.1844 VXC = -0.3034 S-X = -0.0712 S-C = -0.1114 GWA = +1.3052\r\n",
      "T00 ERR ...   Level =   60 DFT = +1.1886 VXC = -0.3951 S-X = -0.1383 S-C = -0.1067 GWA = +1.3387\r\n",
      "T00 ERR ...   Level =   61 DFT = +1.1901 VXC = -0.3920 S-X = -0.1176 S-C = -0.1942 GWA = +1.2703\r\n",
      "T00 ERR ...   Level =   62 DFT = +1.2662 VXC = -0.3897 S-X = -0.1298 S-C = -0.0879 GWA = +1.4383\r\n",
      "T00 ERR ...   Level =   63 DFT = +1.2782 VXC = -0.2996 S-X = -0.0685 S-C = -0.1206 GWA = +1.3888\r\n",
      "T00 ERR ...   Level =   64 DFT = +1.2876 VXC = -0.4128 S-X = -0.1471 S-C = -0.1657 GWA = +1.3877\r\n",
      "T00 ERR ... 2021-5-11 1:8:54 Calculated offdiagonal part of Sigma  \r\n",
      "T00 ERR ... 2021-5-11 1:8:54 Full quasiparticle Hamiltonian  \r\n",
      "T00 ERR ...   ====== Diagonalized quasiparticle energies (Hartree) ====== \r\n",
      "T00 ERR ...   Level =    0 PQP = -90.877474 DQP = -90.877549 \r\n",
      "T00 ERR ...   Level =    1 PQP = -10.799781 DQP = -10.799869 \r\n",
      "T00 ERR ...   Level =    2 PQP = -10.799747 DQP = -10.799836 \r\n",
      "T00 ERR ...   Level =    3 PQP = -10.789590 DQP = -10.789631 \r\n",
      "T00 ERR ...   Level =    4 PQP = -10.788829 DQP = -10.788895 \r\n",
      "T00 ERR ...   Level =    5 PQP = -8.734104 DQP = -8.734303 \r\n",
      "T00 ERR ...   Level =    6 PQP = -6.289033 DQP = -6.289051 \r\n",
      "T00 ERR ...   Level =    7 PQP = -6.288211 DQP = -6.288226 \r\n",
      "T00 ERR ...   Level =    8 PQP = -6.283165 DQP = -6.283176 \r\n",
      "T00 ERR ...   Level =    9 PQP = -0.990424 DQP = -0.991123 \r\n",
      "T00 ERR ...   Level =   10 PQP = -0.836517 DQP = -0.836969 \r\n",
      "T00 ERR ...   Level =   11 PQP = -0.828384 DQP = -0.829313 \r\n",
      "T00 ERR ...   Level =   12 PQP = -0.662477 DQP = -0.663245 \r\n",
      "T00 ERR ...   Level =   13 PQP = -0.659754 DQP = -0.661736 \r\n",
      "T00 ERR ...   Level =   14 PQP = -0.622623 DQP = -0.622409 \r\n",
      "T00 ERR ...   Level =   15 PQP = -0.511869 DQP = -0.512081 \r\n",
      "T00 ERR ...   Level =   16 PQP = -0.475330 DQP = -0.485975 \r\n",
      "T00 ERR ...   Level =   17 PQP = -0.486776 DQP = -0.483895 \r\n",
      "T00 ERR ...   Level =   18 PQP = -0.484314 DQP = -0.477825 \r\n",
      "T00 ERR ...   Level =   19 PQP = -0.429620 DQP = -0.430201 \r\n",
      "T00 ERR ...   Level =   20 PQP = -0.325075 DQP = -0.325704 \r\n",
      "T00 ERR ...   HOMO  =   21 PQP = -0.313266 DQP = -0.314495 \r\n",
      "T00 ERR ...   LUMO  =   22 PQP = +0.103962 DQP = +0.101828 \r\n",
      "T00 ERR ...   Level =   23 PQP = +0.173652 DQP = +0.167129 \r\n",
      "T00 ERR ...   Level =   24 PQP = +0.194181 DQP = +0.168253 \r\n",
      "T00 ERR ...   Level =   25 PQP = +0.168495 DQP = +0.187744 \r\n",
      "T00 ERR ...   Level =   26 PQP = +0.205990 DQP = +0.207676 \r\n",
      "T00 ERR ...   Level =   27 PQP = +0.219226 DQP = +0.212817 \r\n",
      "T00 ERR ...   Level =   28 PQP = +0.240399 DQP = +0.241660 \r\n",
      "T00 ERR ...   Level =   29 PQP = +0.279085 DQP = +0.284207 \r\n",
      "T00 ERR ...   Level =   30 PQP = +0.408366 DQP = +0.407610 \r\n",
      "T00 ERR ...   Level =   31 PQP = +0.429503 DQP = +0.429644 \r\n",
      "T00 ERR ...   Level =   32 PQP = +0.457942 DQP = +0.456964 \r\n",
      "T00 ERR ...   Level =   33 PQP = +0.523647 DQP = +0.523213 \r\n",
      "T00 ERR ...   Level =   34 PQP = +0.533633 DQP = +0.532497 \r\n",
      "T00 ERR ...   Level =   35 PQP = +0.554015 DQP = +0.554701 \r\n",
      "T00 ERR ...   Level =   36 PQP = +0.555715 DQP = +0.556639 \r\n",
      "T00 ERR ...   Level =   37 PQP = +0.577554 DQP = +0.578119 \r\n",
      "T00 ERR ...   Level =   38 PQP = +0.616724 DQP = +0.614622 \r\n",
      "T00 ERR ...   Level =   39 PQP = +0.630458 DQP = +0.630668 \r\n",
      "T00 ERR ...   Level =   40 PQP = +0.654111 DQP = +0.653785 \r\n",
      "T00 ERR ...   Level =   41 PQP = +0.665062 DQP = +0.665046 \r\n",
      "T00 ERR ...   Level =   42 PQP = +0.703623 DQP = +0.698408 \r\n",
      "T00 ERR ...   Level =   43 PQP = +0.730311 DQP = +0.723748 \r\n",
      "T00 ERR ...   Level =   44 PQP = +0.779164 DQP = +0.757712 \r\n",
      "T00 ERR ...   Level =   45 PQP = +0.757532 DQP = +0.782987 \r\n",
      "T00 ERR ...   Level =   46 PQP = +0.792368 DQP = +0.792920 \r\n",
      "T00 ERR ...   Level =   47 PQP = +0.843235 DQP = +0.834227 \r\n",
      "T00 ERR ...   Level =   48 PQP = +0.836603 DQP = +0.835807 \r\n",
      "T00 ERR ...   Level =   49 PQP = +0.835090 DQP = +0.845726 \r\n",
      "T00 ERR ...   Level =   50 PQP = +0.858680 DQP = +0.857654 \r\n",
      "T00 ERR ...   Level =   51 PQP = +0.879818 DQP = +0.879831 \r\n",
      "T00 ERR ...   Level =   52 PQP = +0.934613 DQP = +0.928192 \r\n",
      "T00 ERR ...   Level =   53 PQP = +0.929038 DQP = +0.928554 \r\n",
      "T00 ERR ...   Level =   54 PQP = +0.927922 DQP = +0.934736 \r\n",
      "T00 ERR ...   Level =   55 PQP = +0.982129 DQP = +0.981209 \r\n",
      "T00 ERR ...   Level =   56 PQP = +1.065913 DQP = +1.063534 \r\n",
      "T00 ERR ...   Level =   57 PQP = +1.116139 DQP = +1.113980 \r\n",
      "T00 ERR ...   Level =   58 PQP = +1.253319 DQP = +1.257748 \r\n",
      "T00 ERR ...   Level =   59 PQP = +1.305247 DQP = +1.270118 \r\n",
      "T00 ERR ...   Level =   60 PQP = +1.338721 DQP = +1.301893 \r\n",
      "T00 ERR ...   Level =   61 PQP = +1.270280 DQP = +1.310795 \r\n",
      "T00 ERR ...   Level =   62 PQP = +1.438286 DQP = +1.396823 \r\n",
      "T00 ERR ...   Level =   63 PQP = +1.388755 DQP = +1.434564 \r\n",
      "T00 ERR ...   Level =   64 PQP = +1.387681 DQP = +1.449348 \r\n",
      "T00 ERR ... 2021-5-11 1:8:54 Diagonalized QP Hamiltonian  \r\n",
      "T00 ERR ... 2021-5-11 1:8:54 Setup Full singlet hamiltonian \r\n",
      "T00 ERR ... 2021-5-11 1:8:54 Davidson Solver using 4 threads.\r\n",
      "T00 ERR ... 2021-5-11 1:8:54 Tolerance : 0.0001\r\n",
      "T00 ERR ... 2021-5-11 1:8:54 DPR Correction\r\n",
      "T00 ERR ... 2021-5-11 1:8:54 Matrix size : 1892x1892\r\n",
      "T00 ERR ... 2021-5-11 1:8:54 iter\tSearch Space\tNorm\r\n",
      "T00 ERR ... 2021-5-11 1:8:54    0           10 \t 3.32e-01 \t  0.00% converged\r\n",
      "T00 ERR ... 2021-5-11 1:8:55    1           17 \t 7.35e-02 \t  0.00% converged\r\n",
      "T00 ERR ... 2021-5-11 1:8:55    2           24 \t 2.73e-02 \t  0.00% converged\r\n",
      "T00 ERR ... 2021-5-11 1:8:56    3           31 \t 8.49e-03 \t  0.00% converged\r\n",
      "T00 ERR ... 2021-5-11 1:8:56    4           38 \t 1.26e-03 \t 20.00% converged\r\n",
      "T00 ERR ... 2021-5-11 1:8:57    5           44 \t 2.41e-04 \t 80.00% converged\r\n",
      "T00 ERR ... 2021-5-11 1:8:57    6           47 \t 4.01e-05 \t 100.00% converged\r\n",
      "T00 ERR ... 2021-5-11 1:8:57 Davidson converged after 6 iterations.\r\n",
      "T00 ERR ... 2021-5-11 1:8:57-----------------------------------\r\n",
      "T00 ERR ... 2021-5-11 1:8:57- Davidson ran for 2.716760258secs.\r\n",
      "T00 ERR ... 2021-5-11 1:8:57-----------------------------------\r\n",
      "T00 ERR ... 2021-5-11 1:8:57 Solved BSE for singlets \r\n",
      "T00 ERR ...   ====== singlet energies (eV) ====== \r\n",
      "T00 ERR ...   S =    1 Omega = +6.166204096444 eV  lamdba = +201.10 nm <FT> = +12.3385 <K_x> = +0.6655 <K_d> = -6.8377\r\n",
      "T00 ERR ...            TrDipole length gauge[e*bohr]  dx = +0.6612 dy = -0.1520 dz = +0.2766 |d|^2 = +0.5368 f = +0.0811\r\n",
      "T00 ERR ...            HOMO-1   -> LUMO+0    : 84.4%\r\n",
      "T00 ERR ... \r\n",
      "T00 ERR ...   S =    2 Omega = +6.213050675093 eV  lamdba = +199.58 nm <FT> = +12.3235 <K_x> = +1.1227 <K_d> = -7.2332\r\n",
      "T00 ERR ...            TrDipole length gauge[e*bohr]  dx = -0.0040 dy = -0.7200 dz = -0.3860 |d|^2 = +0.6674 f = +0.1016\r\n",
      "T00 ERR ...            HOMO-0   -> LUMO+0    : 95.7%\r\n",
      "T00 ERR ... \r\n",
      "T00 ERR ...   S =    3 Omega = +7.532412170277 eV  lamdba = +164.62 nm <FT> = +14.2770 <K_x> = +0.3795 <K_d> = -7.1241\r\n",
      "T00 ERR ...            TrDipole length gauge[e*bohr]  dx = -0.0001 dy = +0.0009 dz = +0.0007 |d|^2 = +0.0000 f = +0.0000\r\n",
      "T00 ERR ...            HOMO-1   -> LUMO+2    : 93.2%\r\n",
      "T00 ERR ... \r\n",
      "T00 ERR ...   S =    4 Omega = +7.543725966140 eV  lamdba = +164.38 nm <FT> = +13.9376 <K_x> = +0.3056 <K_d> = -6.6994\r\n",
      "T00 ERR ...            TrDipole length gauge[e*bohr]  dx = +0.0150 dy = +0.0178 dz = -0.0332 |d|^2 = +0.0016 f = +0.0003\r\n",
      "T00 ERR ...            HOMO-0   -> LUMO+2    : 92.3%\r\n",
      "T00 ERR ... \r\n",
      "T00 ERR ...   S =    5 Omega = +7.815121690498 eV  lamdba = +158.67 nm <FT> = +13.3294 <K_x> = +0.1934 <K_d> = -5.7077\r\n",
      "T00 ERR ...            TrDipole length gauge[e*bohr]  dx = +0.0004 dy = -0.0000 dz = +0.0002 |d|^2 = +0.0000 f = +0.0000\r\n",
      "T00 ERR ...            HOMO-0   -> LUMO+3    : 94.4%\r\n",
      "T00 ERR ... \r\n",
      "T00 ERR ... 2021-5-11 1:8:57 GWBSE calculation finished \r\n",
      "T00 ERR ... Filter overlap not used in first iteration as it needs a reference state\r\n",
      "T00 ERR ... No State found by tracker using last state: s1\r\n",
      "T00 ERR ... 2021-5-11 1:8:57 Evaluating static 1\r\n",
      "T00 ERR ... 2021-5-11 1:8:57 Writing checkpoint to checkpoint_iter_1.hdf5\r\n",
      "T00 ERR ... Next State is: s1\r\n",
      "T00 ERR ... Reporting job results\r\n",
      "\r\n",
      "T00 ERR ... Requesting next job\r\n",
      "T00 ERR ... Assign jobs from stack\r\n",
      "T00 ERR ... Sync did not yield any new jobs.\r\n",
      "T00 ERR ... Next job: ID = - (none available)\r\n",
      "MST ERR Assign jobs from stack\r\n",
      "Changes have not been written to state file.\r\n"
     ]
    }
   ],
   "source": [
    "!cp qmmm.xml OPTIONFILES\n",
    "!xtp_parallel -e qmmm -o OPTIONFILES/qmmm.xml -f state.hdf5 -j run -p 4"
   ]
  },
  {
   "cell_type": "code",
   "execution_count": null,
   "metadata": {},
   "outputs": [],
   "source": []
  }
 ],
 "metadata": {
  "kernelspec": {
   "display_name": "Python 3",
   "language": "python",
   "name": "python3"
  },
  "language_info": {
   "codemirror_mode": {
    "name": "ipython",
    "version": 3
   },
   "file_extension": ".py",
   "mimetype": "text/x-python",
   "name": "python",
   "nbconvert_exporter": "python",
   "pygments_lexer": "ipython3",
   "version": "3.9.4"
  }
 },
 "nbformat": 4,
 "nbformat_minor": 4
}
