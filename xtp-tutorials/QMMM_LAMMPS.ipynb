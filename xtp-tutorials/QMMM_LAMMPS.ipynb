{
 "cells": [
  {
   "cell_type": "markdown",
   "metadata": {},
   "source": [
    "# QMMM workflow using LAMMPS and VOTCA-XTP"
   ]
  },
  {
   "cell_type": "markdown",
   "metadata": {},
   "source": [
    "## What is this tutorial about\n",
    "In this tutorial, we will learn how to set and perform excited state calculation using the Votca XTP library. We will use thiophene as our QM region."
   ]
  },
  {
   "cell_type": "markdown",
   "metadata": {},
   "source": [
    "## Requirements\n",
    "* You will need to install **VOTCA** using the instructions described [here](https://github.com/votca/votca/blob/master/share/doc/INSTALL.rst)\n",
    "* Once the installation is completed you need to activate the VOTCA enviroment by running the `VOTCARC.bash` script that has been installed at the bin subfolder for the path that you have provided for the installation step above"
   ]
  },
  {
   "cell_type": "markdown",
   "metadata": {},
   "source": [
    "## Interacting with the XTP command line interface\n",
    "The XTP package offers the following command line interface that the user can interact with:\n",
    "* [xtp_map](https://www.votca.org/xtp/xtp_map.html)\n",
    "* [xtp_parallel](https://www.votca.org/xtp/xtp_parallel.html)\n",
    "* [xtp_run](https://www.votca.org/xtp/xtp_run.html)\n",
    "* [xtp_tools](https://www.votca.org/xtp/xtp_tools.html)\n",
    "\n",
    "Run the following command to view the help message of `xtp_tools`:"
   ]
  },
  {
   "cell_type": "code",
   "execution_count": 1,
   "metadata": {
    "execution": {
     "iopub.execute_input": "2021-06-25T06:10:24.122702Z",
     "iopub.status.busy": "2021-06-25T06:10:24.122136Z",
     "iopub.status.idle": "2021-06-25T06:10:24.875730Z",
     "shell.execute_reply": "2021-06-25T06:10:24.875168Z"
    }
   },
   "outputs": [
    {
     "name": "stdout",
     "output_type": "stream",
     "text": [
      "==================================================\r\n",
      "========   VOTCA (http://www.votca.org)   ========\r\n",
      "==================================================\r\n",
      "\r\n",
      "please submit bugs to https://github.com/votca/xtp/issues\r\n",
      "\r\n",
      "xtp_tools, version 2022-dev gitid: 1c1eeee (compiled Jun 25 2021, 05:58:23)\r\n",
      "votca_csg, version 2022-dev gitid: 1c1eeee (compiled Jun 25 2021, 05:41:49)\r\n",
      "votca_tools, version 2022-dev gitid: 1c1eeee (compiled Jun 25 2021, 05:39:22)\r\n",
      "\r\n",
      "Runs excitation/charge transport tools\r\n",
      "\r\n",
      "\r\n",
      "\r\n",
      "Allowed options:\r\n",
      "  -h [ --help ]                 display this help and exit\r\n",
      "  --verbose                     be loud and noisy\r\n",
      "  --verbose1                    be very loud and noisy\r\n",
      "  -v [ --verbose2 ]             be extremly loud and noisy\r\n",
      "  -o [ --options ] arg          Tool options\r\n",
      "  -t [ --nthreads ] arg (=1)    number of threads to create\r\n",
      "  -e [ --execute ] arg        Name of Tool to run\r\n",
      "  -l [ --list ]               Lists all available Tools\r\n",
      "  -d [ --description ] arg    Short description of a Tools\r\n",
      "  -c [ --cmdoptions ] arg     Modify options via command line by e.g. '-c \r\n",
      "                              xmltag.subtag=value'. Use whitespace to separate \r\n",
      "                              multiple options\r\n",
      "  -p [ --printoptions ] arg   Prints xml options of a Tool\r\n",
      "\r\n"
     ]
    }
   ],
   "source": [
    "!xtp_tools -h"
   ]
  },
  {
   "cell_type": "markdown",
   "metadata": {},
   "source": [
    "### Note\n",
    "> * In Jupyter the `!` symbol means: *run the following command as a standard unix command*\n",
    "> * In Jupyter the command `%env` set an environmental variable"
   ]
  },
  {
   "cell_type": "markdown",
   "metadata": {},
   "source": [
    "## Setting the environment\n"
   ]
  },
  {
   "cell_type": "markdown",
   "metadata": {},
   "source": [
    "Create a folder to store the input `Options` for XTP"
   ]
  },
  {
   "cell_type": "code",
   "execution_count": 2,
   "metadata": {
    "execution": {
     "iopub.execute_input": "2021-06-25T06:10:24.881721Z",
     "iopub.status.busy": "2021-06-25T06:10:24.879632Z",
     "iopub.status.idle": "2021-06-25T06:10:25.564894Z",
     "shell.execute_reply": "2021-06-25T06:10:25.564395Z"
    }
   },
   "outputs": [],
   "source": [
    "!mkdir -p OPTIONFILES"
   ]
  },
  {
   "cell_type": "markdown",
   "metadata": {},
   "source": [
    "Remove previous hdf5 file"
   ]
  },
  {
   "cell_type": "code",
   "execution_count": 3,
   "metadata": {
    "execution": {
     "iopub.execute_input": "2021-06-25T06:10:25.571093Z",
     "iopub.status.busy": "2021-06-25T06:10:25.568755Z",
     "iopub.status.idle": "2021-06-25T06:10:26.255371Z",
     "shell.execute_reply": "2021-06-25T06:10:26.255785Z"
    }
   },
   "outputs": [],
   "source": [
    "!rm -f state.hdf5"
   ]
  },
  {
   "cell_type": "markdown",
   "metadata": {},
   "source": [
    "Import an small python module to edit xml files"
   ]
  },
  {
   "cell_type": "code",
   "execution_count": 4,
   "metadata": {
    "execution": {
     "iopub.execute_input": "2021-06-25T06:10:26.260865Z",
     "iopub.status.busy": "2021-06-25T06:10:26.259422Z",
     "iopub.status.idle": "2021-06-25T06:10:26.267237Z",
     "shell.execute_reply": "2021-06-25T06:10:26.266466Z"
    }
   },
   "outputs": [],
   "source": [
    "from xml_editor import add_section, edit_calculator\n",
    "import os"
   ]
  },
  {
   "cell_type": "markdown",
   "metadata": {},
   "source": [
    "## Generate the topology from the Gromacs file\n",
    "We will first generate the mapping from MD coordinates to segments, creating an [hdf5 file](https://www.hdfgroup.org/solutions/hdf5/) to store the results. You can explore the generated `state.hdf5` file with e.g. hdf5itebrowser. In Python, you can use the [h5py library](https://www.h5py.org/). The command to generate the mapping is the following,"
   ]
  },
  {
   "cell_type": "code",
   "execution_count": 5,
   "metadata": {
    "execution": {
     "iopub.execute_input": "2021-06-25T06:10:26.273480Z",
     "iopub.status.busy": "2021-06-25T06:10:26.270734Z",
     "iopub.status.idle": "2021-06-25T06:10:31.341209Z",
     "shell.execute_reply": "2021-06-25T06:10:31.340558Z"
    }
   },
   "outputs": [],
   "source": [
    "!xtp_map -v -t MD_FILES/newfile.data -c MD_FILES/traj.dump -s system.xml -f state.hdf5 -i 99 > mapping.out"
   ]
  },
  {
   "cell_type": "markdown",
   "metadata": {},
   "source": [
    "##  Check the mapping\n",
    "\n",
    "Let us first output `.pdb` files for the segments, qmmolecules and classical segments in order to check the mapping. We will need to copy the input from the `VOTCA` installation path to our local copy."
   ]
  },
  {
   "cell_type": "code",
   "execution_count": 6,
   "metadata": {
    "execution": {
     "iopub.execute_input": "2021-06-25T06:10:31.345477Z",
     "iopub.status.busy": "2021-06-25T06:10:31.344954Z",
     "iopub.status.idle": "2021-06-25T06:10:32.029972Z",
     "shell.execute_reply": "2021-06-25T06:10:32.029475Z"
    }
   },
   "outputs": [],
   "source": [
    "!cp \"$VOTCASHARE/xtp/xml/mapchecker.xml\" OPTIONFILES/"
   ]
  },
  {
   "cell_type": "markdown",
   "metadata": {},
   "source": [
    "The `${VOTCASHARE}` environmental variable is set to the path that you provided during the `VOTCA` [installation](https://github.com/votca/votca/blob/master/share/doc/INSTALL.rst), by the default is set to `/usr/local/votca`.\n",
    "\n",
    "We need to update the `mapchecker` options with the file containing the definition of the system. For doing, so we will use the python module `xml_editor` that we have imported above. The first argument is the name of the calculator (i.e. `mapchecker`), the seconds argument is the name of the option to change and the third one, the value to use."
   ]
  },
  {
   "cell_type": "code",
   "execution_count": 7,
   "metadata": {
    "execution": {
     "iopub.execute_input": "2021-06-25T06:10:32.035756Z",
     "iopub.status.busy": "2021-06-25T06:10:32.034569Z",
     "iopub.status.idle": "2021-06-25T06:10:32.040803Z",
     "shell.execute_reply": "2021-06-25T06:10:32.040034Z"
    }
   },
   "outputs": [
    {
     "name": "stdout",
     "output_type": "stream",
     "text": [
      "The option 'map_file' on file 'OPTIONFILES/mapchecker.xml' has been set to 'system.xml'\n"
     ]
    }
   ],
   "source": [
    "edit_calculator(\"mapchecker\", \"map_file\", \"system.xml\")"
   ]
  },
  {
   "cell_type": "markdown",
   "metadata": {},
   "source": [
    "In the [mapchecker section of the manual](https://www.votca.org/xtp/mapchecker.html) you can find a table with the `mapchecker` input variables and their corresponding defaults. Finally, the following command run the check"
   ]
  },
  {
   "cell_type": "code",
   "execution_count": 8,
   "metadata": {
    "execution": {
     "iopub.execute_input": "2021-06-25T06:10:32.046572Z",
     "iopub.status.busy": "2021-06-25T06:10:32.044282Z",
     "iopub.status.idle": "2021-06-25T06:10:34.455095Z",
     "shell.execute_reply": "2021-06-25T06:10:34.454592Z"
    }
   },
   "outputs": [
    {
     "name": "stdout",
     "output_type": "stream",
     "text": [
      "==================================================\r\n",
      "========   VOTCA (http://www.votca.org)   ========\r\n",
      "==================================================\r\n",
      "\r\n",
      "please submit bugs to https://github.com/votca/xtp/issues\r\n",
      "\r\n",
      "xtp_run, version 2022-dev gitid: 1c1eeee (compiled Jun 25 2021, 05:58:23)\r\n",
      "votca_csg, version 2022-dev gitid: 1c1eeee (compiled Jun 25 2021, 05:41:49)\r\n",
      "votca_tools, version 2022-dev gitid: 1c1eeee (compiled Jun 25 2021, 05:39:22)\r\n",
      "\r\n",
      "Initializing calculator\r\n",
      "... mapchecker\r\n",
      "1 frames in statefile, Ids are: 10000 \r\n",
      "Starting at frame 10000\r\n",
      "Evaluating frame 10000\r\n",
      "Import MD Topology (i.e. frame 10000) from state.hdf5\r\n",
      ".... \r\n",
      "... mapchecker\r\n",
      " Using 1 threads\r\n",
      "Writing segments to md_segments step__10000.pdb\r\n",
      "Writing qmmolecules to qm_segments_n step__10000.pdb\r\n",
      "Writing polarsegments to mp_segments_e step__10000.pdb\r\n",
      "Writing polarsegments to mp_segments_h step__10000.pdb\r\n",
      "Changes have not been written to state file.\r\n"
     ]
    }
   ],
   "source": [
    "!xtp_run -e mapchecker -o OPTIONFILES/mapchecker.xml -f state.hdf5"
   ]
  },
  {
   "cell_type": "markdown",
   "metadata": {},
   "source": [
    "## Neighborlist Calculation\n",
    "The following step is to determine the neighbouring pairs for exciton transport."
   ]
  },
  {
   "cell_type": "code",
   "execution_count": 9,
   "metadata": {
    "execution": {
     "iopub.execute_input": "2021-06-25T06:10:34.460022Z",
     "iopub.status.busy": "2021-06-25T06:10:34.459507Z",
     "iopub.status.idle": "2021-06-25T06:10:35.149262Z",
     "shell.execute_reply": "2021-06-25T06:10:35.148634Z"
    }
   },
   "outputs": [],
   "source": [
    "!cp \"$VOTCASHARE/xtp/xml/neighborlist.xml\" OPTIONFILES/"
   ]
  },
  {
   "cell_type": "markdown",
   "metadata": {},
   "source": [
    "We will use a cutoff of 1.5,"
   ]
  },
  {
   "cell_type": "code",
   "execution_count": 10,
   "metadata": {
    "execution": {
     "iopub.execute_input": "2021-06-25T06:10:35.157688Z",
     "iopub.status.busy": "2021-06-25T06:10:35.154760Z",
     "iopub.status.idle": "2021-06-25T06:10:38.739765Z",
     "shell.execute_reply": "2021-06-25T06:10:38.739275Z"
    }
   },
   "outputs": [
    {
     "name": "stdout",
     "output_type": "stream",
     "text": [
      "==================================================\r\n",
      "========   VOTCA (http://www.votca.org)   ========\r\n",
      "==================================================\r\n",
      "\r\n",
      "please submit bugs to https://github.com/votca/xtp/issues\r\n",
      "\r\n",
      "xtp_run, version 2022-dev gitid: 1c1eeee (compiled Jun 25 2021, 05:58:23)\r\n",
      "votca_csg, version 2022-dev gitid: 1c1eeee (compiled Jun 25 2021, 05:41:49)\r\n",
      "votca_tools, version 2022-dev gitid: 1c1eeee (compiled Jun 25 2021, 05:39:22)\r\n",
      "\r\n",
      "Initializing calculator\r\n",
      "... neighborlist\r\n",
      "1 frames in statefile, Ids are: 10000 \r\n",
      "Starting at frame 10000\r\n",
      "Evaluating frame 10000\r\n",
      "Import MD Topology (i.e. frame 10000) from state.hdf5\r\n",
      ".... \r\n",
      "... neighborlist\r\n",
      " Using 1 threads\r\n",
      "Evaluating 1000 segments for neighborlist. \r\n",
      " ... ... Evaluating \r\n",
      "0%   10   20   30   40   50   60   70   80   90   100%\r\n",
      "|----|----|----|----|----|----|----|----|----|----|\r\n",
      "***************************************************\r\n",
      "\r\n",
      " ... ... Created 90067 direct pairs.Wrote MD topology (step = 10000, time = 0) to state.hdf5\r\n",
      "... . \r\n"
     ]
    }
   ],
   "source": [
    "constant = \"\"\"<constant help=\"cutoff for all other types of pairs\">1.5</constant>\"\"\"\n",
    "add_section(\"neighborlist\", constant)\n",
    "!xtp_run -e neighborlist -o OPTIONFILES/neighborlist.xml -f state.hdf5"
   ]
  },
  {
   "cell_type": "markdown",
   "metadata": {},
   "source": [
    "## Read reorganization energies\n",
    "In this step we will read the in site reorganization energies and store them in the `state.hdf5` file. We just need to copy the input file and execute the calculation"
   ]
  },
  {
   "cell_type": "code",
   "execution_count": 11,
   "metadata": {
    "execution": {
     "iopub.execute_input": "2021-06-25T06:10:38.747244Z",
     "iopub.status.busy": "2021-06-25T06:10:38.744270Z",
     "iopub.status.idle": "2021-06-25T06:10:42.523840Z",
     "shell.execute_reply": "2021-06-25T06:10:42.523049Z"
    }
   },
   "outputs": [
    {
     "name": "stdout",
     "output_type": "stream",
     "text": [
      "==================================================\r\n",
      "========   VOTCA (http://www.votca.org)   ========\r\n",
      "==================================================\r\n",
      "\r\n",
      "please submit bugs to https://github.com/votca/xtp/issues\r\n",
      "\r\n",
      "xtp_run, version 2022-dev gitid: 1c1eeee (compiled Jun 25 2021, 05:58:23)\r\n",
      "votca_csg, version 2022-dev gitid: 1c1eeee (compiled Jun 25 2021, 05:41:49)\r\n",
      "votca_tools, version 2022-dev gitid: 1c1eeee (compiled Jun 25 2021, 05:39:22)\r\n",
      "\r\n",
      "Initializing calculator\r\n",
      "... einternal\r\n",
      "1 frames in statefile, Ids are: 10000 \r\n",
      "Starting at frame 10000\r\n",
      "Evaluating frame 10000\r\n",
      "Import MD Topology (i.e. frame 10000) from state.hdf5\r\n",
      ".... \r\n",
      "... einternal\r\n",
      " Using 1 threads\r\n",
      "... ... Site, reorg. energies from system.xml.\r\n",
      "\r\n",
      "... ... Read in site, reorg. energies for 1000 segments. Wrote MD topology (step = 10000, time = 0) to state.hdf5\r\n",
      "... . \r\n"
     ]
    }
   ],
   "source": [
    "!cp \"$VOTCASHARE/xtp/xml/einternal.xml\" OPTIONFILES/\n",
    "!xtp_run -e einternal -o OPTIONFILES/einternal.xml -f state.hdf5"
   ]
  },
  {
   "cell_type": "markdown",
   "metadata": {},
   "source": [
    "## Compute site energy\n",
    "In this step we will perform some *QMMM* calculations to compute the site energies. The `qmmm_mm.xml` file contains some predefined settings to perform the *MM* calculations. Let us first copy these settings into the state file,"
   ]
  },
  {
   "cell_type": "code",
   "execution_count": 12,
   "metadata": {
    "execution": {
     "iopub.execute_input": "2021-06-25T06:10:42.531719Z",
     "iopub.status.busy": "2021-06-25T06:10:42.529416Z",
     "iopub.status.idle": "2021-06-25T06:10:45.086654Z",
     "shell.execute_reply": "2021-06-25T06:10:45.086198Z"
    }
   },
   "outputs": [
    {
     "name": "stdout",
     "output_type": "stream",
     "text": [
      "==================================================\r\n",
      "========   VOTCA (http://www.votca.org)   ========\r\n",
      "==================================================\r\n",
      "\r\n",
      "please submit bugs to https://github.com/votca/xtp/issues\r\n",
      "\r\n",
      "xtp_parallel, version 2022-dev gitid: 1c1eeee (compiled Jun 25 2021, 05:58:23)\r\n",
      "votca_csg, version 2022-dev gitid: 1c1eeee (compiled Jun 25 2021, 05:41:49)\r\n",
      "votca_tools, version 2022-dev gitid: 1c1eeee (compiled Jun 25 2021, 05:39:22)\r\n",
      "\r\n",
      "Initializing calculator\r\n",
      "... qmmm\r\n",
      "\r\n",
      "... ... Initialized with 1 threads.\r\n",
      "\r\n",
      "... ... Using 1 openmp threads for 1x1=1 total threads.\r\n",
      "1 frames in statefile, Ids are: 10000 \r\n",
      "Starting at frame 10000\r\n",
      "Evaluating frame 10000\r\n",
      "Import MD Topology (i.e. frame 10000) from state.hdf5\r\n",
      ".... \r\n",
      "... qmmm \r\n",
      "... ... Writing job file qmmm_mm_jobs.xml\r\n",
      "... ... In total 3001 jobs\r\n",
      "Changes have not been written to state file.\r\n"
     ]
    }
   ],
   "source": [
    "!cp qmmm_mm.xml OPTIONFILES\n",
    "!xtp_parallel -e qmmm -o OPTIONFILES/qmmm_mm.xml -f state.hdf5 -j \"write\""
   ]
  },
  {
   "cell_type": "markdown",
   "metadata": {},
   "source": [
    "The previous command generates a `qmmm_mm_jobs.xml` containing 3000 *MM* jobs to compute, if you examine that file, it should look something like:\n",
    "```xml\n",
    "<jobs>\n",
    "        <job>\n",
    "                <id>0</id>\n",
    "                <tag>thiophene_0:n</tag>\n",
    "                <input>\n",
    "                        <site_energies>0:n</site_energies>\n",
    "                        <regions>\n",
    "                                <region>\n",
    "                                        <id>0</id>\n",
    "                                        <segments>0:n</segments>\n",
    "                                </region>\n",
    "                        </regions>\n",
    "                </input>\n",
    "                <status>AVAILABLE</status>\n",
    "        </job>\n",
    "```"
   ]
  },
  {
   "cell_type": "markdown",
   "metadata": {},
   "source": [
    "Let us run just the first 4 jobs by settings all jobs `status` to `COMPLETE` except for the first four. This can be easily done with [sed](https://www.gnu.org/software/sed/manual/sed.html) as follows,"
   ]
  },
  {
   "cell_type": "code",
   "execution_count": 13,
   "metadata": {
    "execution": {
     "iopub.execute_input": "2021-06-25T06:10:45.098830Z",
     "iopub.status.busy": "2021-06-25T06:10:45.095265Z",
     "iopub.status.idle": "2021-06-25T06:10:48.545440Z",
     "shell.execute_reply": "2021-06-25T06:10:48.544833Z"
    }
   },
   "outputs": [],
   "source": [
    "!sed -i \"s/AVAILABLE/COMPLETE/g\" qmmm_mm_jobs.xml\n",
    "!sed -i '0,/COMPLETE/s/COMPLETE/AVAILABLE/' qmmm_mm_jobs.xml\n",
    "!sed -i '0,/COMPLETE/s/COMPLETE/AVAILABLE/' qmmm_mm_jobs.xml\n",
    "!sed -i '0,/COMPLETE/s/COMPLETE/AVAILABLE/' qmmm_mm_jobs.xml\n",
    "!sed -i '0,/COMPLETE/s/COMPLETE/AVAILABLE/' qmmm_mm_jobs.xml"
   ]
  },
  {
   "cell_type": "markdown",
   "metadata": {},
   "source": [
    "Now we can run the jobs and save the results in the state file"
   ]
  },
  {
   "cell_type": "code",
   "execution_count": 14,
   "metadata": {
    "execution": {
     "iopub.execute_input": "2021-06-25T06:10:48.555505Z",
     "iopub.status.busy": "2021-06-25T06:10:48.551556Z",
     "iopub.status.idle": "2021-06-25T06:10:58.301603Z",
     "shell.execute_reply": "2021-06-25T06:10:58.302041Z"
    }
   },
   "outputs": [
    {
     "name": "stdout",
     "output_type": "stream",
     "text": [
      "==================================================\r\n",
      "========   VOTCA (http://www.votca.org)   ========\r\n",
      "==================================================\r\n",
      "\r\n",
      "please submit bugs to https://github.com/votca/xtp/issues\r\n",
      "\r\n",
      "xtp_parallel, version 2022-dev gitid: 1c1eeee (compiled Jun 25 2021, 05:58:23)\r\n",
      "votca_csg, version 2022-dev gitid: 1c1eeee (compiled Jun 25 2021, 05:41:49)\r\n",
      "votca_tools, version 2022-dev gitid: 1c1eeee (compiled Jun 25 2021, 05:39:22)\r\n",
      "\r\n",
      "Initializing calculator\r\n",
      "... qmmm\r\n",
      "\r\n",
      "... ... Initialized with 1 threads.\r\n",
      "\r\n",
      "... ... Using 1 openmp threads for 1x1=1 total threads.\r\n",
      "1 frames in statefile, Ids are: 10000 \r\n",
      "Starting at frame 10000\r\n",
      "Evaluating frame 10000\r\n",
      "Import MD Topology (i.e. frame 10000) from state.hdf5\r\n",
      ".... \r\n",
      "... qmmm \r\n",
      "MST ERR Job file = 'qmmm_mm_jobs.xml', cache size =  8\r\n",
      "MST ERR Initialize jobs from qmmm_mm_jobs.xml\r\n",
      "MST ERR Registered 3000 jobs.\r\n",
      "T00 ERR ... Requesting next job\r\n",
      "T00 ERR ... Assign jobs from stack\r\n",
      "T00 ERR ... Next job: ID = 0=> [ 0%] \r\n",
      "T00 ERR ...  Regions created\r\n",
      "T00 ERR ... Id: 0 type: polar size: 109 charge[e]= -2.40363e-14\r\n",
      "T00 ERR ... Id: 1 type: static size: 220 charge[e]= -4.86833e-14\r\n",
      "T00 ERR ... 2021-6-25 6:10:50 Writing jobtopology to MMMM/frame_10000/job_0_thiophene_0:n/regions.pdb\r\n",
      "T00 ERR ... 2021-6-25 6:10:50 Only 1 scf region is used. The remaining regions are static. So no inter regions scf is required. \r\n",
      "T00 ERR ... 2021-6-25 6:10:50 --Inter Region SCF Iteration 1 of 1\r\n",
      "T00 ERR ... 2021-6-25 6:10:50 Evaluating polar 0\r\n",
      "T00 ERR ... 2021-6-25 6:10:50 Evaluating interaction between polar 0 and static 1\r\n",
      "T00 ERR ... 2021-6-25 6:10:50 Starting Solving for classical polarization with 2943 degrees of freedom.\r\n",
      "T00 ERR ... 2021-6-25 6:10:51 CG: #iterations: 9, estimated error: 5.8912e-06\r\n",
      "T00 ERR ...   Total static energy [hrt]= -0.1317875845\r\n",
      "T00 ERR ...   Total polar energy [hrt]= -0.04919654338\r\n",
      "T00 ERR ...  Total energy [hrt]= -0.1809841279\r\n",
      "T00 ERR ... 2021-6-25 6:10:51 Evaluating static 1\r\n",
      "T00 ERR ... 2021-6-25 6:10:51 Writing checkpoint to checkpoint_iter_1.hdf5\r\n",
      "T00 ERR ... Reporting job results\r\n",
      "\r\n",
      "T00 ERR ... Requesting next job\r\n",
      "T00 ERR ... Next job: ID = 1\r\n",
      "T00 ERR ...  Regions created\r\n",
      "T00 ERR ... Id: 0 type: polar size: 109 charge[e]= -1\r\n",
      "T00 ERR ... Id: 1 type: static size: 220 charge[e]= -4.868327963e-14\r\n",
      "T00 ERR ... 2021-6-25 6:10:51 Writing jobtopology to MMMM/frame_10000/job_1_thiophene_0:e/regions.pdb\r\n",
      "T00 ERR ... 2021-6-25 6:10:51 Only 1 scf region is used. The remaining regions are static. So no inter regions scf is required. \r\n",
      "T00 ERR ... 2021-6-25 6:10:51 --Inter Region SCF Iteration 1 of 1\r\n",
      "T00 ERR ... 2021-6-25 6:10:51 Evaluating polar 0\r\n",
      "T00 ERR ... 2021-6-25 6:10:51 Evaluating interaction between polar 0 and static 1\r\n",
      "T00 ERR ... 2021-6-25 6:10:51 Starting Solving for classical polarization with 2943 degrees of freedom.\r\n",
      "T00 ERR ... 2021-6-25 6:10:52 CG: #iterations: 9, estimated error: 7.290261819e-06\r\n",
      "T00 ERR ...   Total static energy [hrt]= -0.1308082539\r\n",
      "T00 ERR ...   Total polar energy [hrt]= -0.07598511534\r\n",
      "T00 ERR ...  Total energy [hrt]= -0.2067933693\r\n",
      "T00 ERR ... 2021-6-25 6:10:52 Evaluating static 1\r\n",
      "T00 ERR ... 2021-6-25 6:10:52 Writing checkpoint to checkpoint_iter_1.hdf5\r\n",
      "T00 ERR ... Reporting job results\r\n",
      "\r\n",
      "T00 ERR ... Requesting next job\r\n",
      "T00 ERR ... Next job: ID = 2\r\n",
      "T00 ERR ...  Regions created\r\n",
      "T00 ERR ... Id: 0 type: polar size: 109 charge[e]= 1\r\n",
      "T00 ERR ... Id: 1 type: static size: 220 charge[e]= -4.868327963e-14\r\n",
      "T00 ERR ... 2021-6-25 6:10:52 Writing jobtopology to MMMM/frame_10000/job_2_thiophene_0:h/regions.pdb\r\n",
      "T00 ERR ... 2021-6-25 6:10:52 Only 1 scf region is used. The remaining regions are static. So no inter regions scf is required. \r\n",
      "T00 ERR ... 2021-6-25 6:10:52 --Inter Region SCF Iteration 1 of 1\r\n",
      "T00 ERR ... 2021-6-25 6:10:52 Evaluating polar 0\r\n",
      "T00 ERR ... 2021-6-25 6:10:52 Evaluating interaction between polar 0 and static 1\r\n",
      "T00 ERR ... 2021-6-25 6:10:52 Starting Solving for classical polarization with 2943 degrees of freedom.\r\n",
      "T00 ERR ... 2021-6-25 6:10:53 CG: #iterations: 9, estimated error: 6.815230208e-06\r\n",
      "T00 ERR ...   Total static energy [hrt]= -0.1321768235\r\n",
      "T00 ERR ...   Total polar energy [hrt]= -0.07922942047\r\n",
      "T00 ERR ...  Total energy [hrt]= -0.2114062439\r\n",
      "T00 ERR ... 2021-6-25 6:10:53 Evaluating static 1\r\n",
      "T00 ERR ... 2021-6-25 6:10:53 Writing checkpoint to checkpoint_iter_1.hdf5\r\n",
      "T00 ERR ... Reporting job results\r\n",
      "\r\n",
      "T00 ERR ... Requesting next job\r\n",
      "T00 ERR ... Next job: ID = 3\r\n",
      "T00 ERR ...  Regions created\r\n",
      "T00 ERR ... Id: 0 type: polar size: 104 charge[e]= -2.292610546e-14\r\n",
      "T00 ERR ... Id: 1 type: static size: 222 charge[e]= -4.912736884e-14\r\n",
      "T00 ERR ... 2021-6-25 6:10:53 Writing jobtopology to MMMM/frame_10000/job_3_thiophene_1:n/regions.pdb\r\n",
      "T00 ERR ... 2021-6-25 6:10:53 Only 1 scf region is used. The remaining regions are static. So no inter regions scf is required. \r\n",
      "T00 ERR ... 2021-6-25 6:10:53 --Inter Region SCF Iteration 1 of 1\r\n",
      "T00 ERR ... 2021-6-25 6:10:53 Evaluating polar 0\r\n",
      "T00 ERR ... 2021-6-25 6:10:53 Evaluating interaction between polar 0 and static 1\r\n",
      "T00 ERR ... 2021-6-25 6:10:53 Starting Solving for classical polarization with 2808 degrees of freedom.\r\n",
      "T00 ERR ... 2021-6-25 6:10:54 CG: #iterations: 9, estimated error: 5.656501514e-06\r\n",
      "T00 ERR ...   Total static energy [hrt]= -0.1295146321\r\n",
      "T00 ERR ...   Total polar energy [hrt]= -0.04409049212\r\n",
      "T00 ERR ...  Total energy [hrt]= -0.1736051242\r\n",
      "T00 ERR ... 2021-6-25 6:10:54 Evaluating static 1\r\n",
      "T00 ERR ... 2021-6-25 6:10:54 Writing checkpoint to checkpoint_iter_1.hdf5\r\n",
      "T00 ERR ... Reporting job results\r\n",
      "\r\n",
      "T00 ERR ... Requesting next job\r\n",
      "T00 ERR ... Assign jobs from stack\r\n",
      "T00 ERR ... Sync did not yield any new jobs.\r\n",
      "T00 ERR ... Next job: ID = - (none available)\r\n",
      "MST ERR Assign jobs from stack\r\n",
      "Changes have not been written to state file.\r\n",
      "==================================================\r\n",
      "========   VOTCA (http://www.votca.org)   ========\r\n",
      "==================================================\r\n",
      "\r\n",
      "please submit bugs to https://github.com/votca/xtp/issues\r\n",
      "\r\n",
      "xtp_parallel, version 2022-dev gitid: 1c1eeee (compiled Jun 25 2021, 05:58:23)\r\n",
      "votca_csg, version 2022-dev gitid: 1c1eeee (compiled Jun 25 2021, 05:41:49)\r\n",
      "votca_tools, version 2022-dev gitid: 1c1eeee (compiled Jun 25 2021, 05:39:22)\r\n",
      "\r\n",
      "Initializing calculator\r\n",
      "... qmmm\r\n",
      "\r\n",
      "... ... Initialized with 1 threads.\r\n",
      "\r\n",
      "... ... Using 1 openmp threads for 1x1=1 total threads.\r\n",
      "1 frames in statefile, Ids are: 10000 \r\n",
      "Starting at frame 10000\r\n",
      "Evaluating frame 10000\r\n",
      "Import MD Topology (i.e. frame 10000) from state.hdf5\r\n",
      ".... \r\n",
      "... qmmm \r\n",
      "Found 1 states of type e\r\n",
      "Found 1 states of type h\r\n",
      "Found 2 states of type n\r\n",
      "2996 incomplete jobs found.\r\n",
      "\r\n",
      "Wrote MD topology (step = 10000, time = 0) to state.hdf5\r\n",
      "... . \r\n"
     ]
    }
   ],
   "source": [
    "!xtp_parallel -e qmmm -o OPTIONFILES/qmmm_mm.xml -f state.hdf5 -j \"run\"\n",
    "!xtp_parallel -e qmmm -o OPTIONFILES/qmmm_mm.xml -f state.hdf5 -j \"read\""
   ]
  },
  {
   "cell_type": "markdown",
   "metadata": {},
   "source": [
    "## Site energy and pair energy analysis\n",
    "In this step we generate an histogram and compute the correlation function of site energies and pair energy differences."
   ]
  },
  {
   "cell_type": "code",
   "execution_count": 15,
   "metadata": {
    "execution": {
     "iopub.execute_input": "2021-06-25T06:10:58.309132Z",
     "iopub.status.busy": "2021-06-25T06:10:58.306769Z",
     "iopub.status.idle": "2021-06-25T06:11:01.867717Z",
     "shell.execute_reply": "2021-06-25T06:11:01.867222Z"
    }
   },
   "outputs": [
    {
     "name": "stdout",
     "output_type": "stream",
     "text": [
      "==================================================\r\n",
      "========   VOTCA (http://www.votca.org)   ========\r\n",
      "==================================================\r\n",
      "\r\n",
      "please submit bugs to https://github.com/votca/xtp/issues\r\n",
      "\r\n",
      "xtp_run, version 2022-dev gitid: 1c1eeee (compiled Jun 25 2021, 05:58:23)\r\n",
      "votca_csg, version 2022-dev gitid: 1c1eeee (compiled Jun 25 2021, 05:41:49)\r\n",
      "votca_tools, version 2022-dev gitid: 1c1eeee (compiled Jun 25 2021, 05:39:22)\r\n",
      "\r\n",
      "Initializing calculator\r\n",
      "... eanalyze\r\n",
      "1 frames in statefile, Ids are: 10000 \r\n",
      "Starting at frame 10000\r\n",
      "Evaluating frame 10000\r\n",
      "Import MD Topology (i.e. frame 10000) from state.hdf5\r\n",
      ".... \r\n",
      "... eanalyze\r\n",
      " Using 1 threads\r\n",
      "... ... Short-listed 1000 segments (pattern='*')\r\n",
      "... ... ... NOTE Statistics of site energies and spatial correlations thereof are based on the short-listed segments only. \r\n",
      "... ... ...      Statistics of site-energy differences operate on the full list.\r\n",
      "... ... excited state e\r\n",
      "... ... excited state h\r\n",
      "... ... excited state s\r\n",
      "... ... excited state tChanges have not been written to state file.\r\n"
     ]
    }
   ],
   "source": [
    "!cp \"$VOTCASHARE/xtp/xml/eanalyze.xml\" OPTIONFILES/\n",
    "!xtp_run -e eanalyze -o OPTIONFILES/eanalyze.xml -f state.hdf5"
   ]
  },
  {
   "cell_type": "markdown",
   "metadata": {},
   "source": [
    "You should now see a set of files prefixed with `eanalyze` containing the histrogram and correlation functions."
   ]
  },
  {
   "cell_type": "code",
   "execution_count": 16,
   "metadata": {
    "execution": {
     "iopub.execute_input": "2021-06-25T06:11:01.872008Z",
     "iopub.status.busy": "2021-06-25T06:11:01.871493Z",
     "iopub.status.idle": "2021-06-25T06:11:02.562650Z",
     "shell.execute_reply": "2021-06-25T06:11:02.563399Z"
    }
   },
   "outputs": [
    {
     "name": "stdout",
     "output_type": "stream",
     "text": [
      "eanalyze.pairhist_e.out  eanalyze.pairlist_s.out  eanalyze.sitehist_e.out\r\n",
      "eanalyze.pairhist_h.out  eanalyze.pairlist_t.out  eanalyze.sitehist_h.out\r\n",
      "eanalyze.pairhist_s.out  eanalyze.sitecorr_e.out  eanalyze.sitehist_s.out\r\n",
      "eanalyze.pairhist_t.out  eanalyze.sitecorr_h.out  eanalyze.sitehist_t.out\r\n",
      "eanalyze.pairlist_e.out  eanalyze.sitecorr_s.out\r\n",
      "eanalyze.pairlist_h.out  eanalyze.sitecorr_t.out\r\n"
     ]
    }
   ],
   "source": [
    "!ls eanalyze*"
   ]
  },
  {
   "cell_type": "markdown",
   "metadata": {},
   "source": [
    "## QM energy calculation\n",
    "Our next task is to perform the qm calculations for each segment that we have stored in the hdf5 file. The calculations take place in 3 stages: write the jobs to a file, perform the computation and finally save the results to the state file. We will first copy the input into our local folder"
   ]
  },
  {
   "cell_type": "code",
   "execution_count": 17,
   "metadata": {
    "execution": {
     "iopub.execute_input": "2021-06-25T06:11:02.569648Z",
     "iopub.status.busy": "2021-06-25T06:11:02.567423Z",
     "iopub.status.idle": "2021-06-25T06:11:03.256913Z",
     "shell.execute_reply": "2021-06-25T06:11:03.255704Z"
    }
   },
   "outputs": [],
   "source": [
    "!cp \"$VOTCASHARE/xtp/xml/eqm.xml\" OPTIONFILES/"
   ]
  },
  {
   "cell_type": "markdown",
   "metadata": {},
   "source": [
    "Now we set the GWBSE mode to `G0W0`,  the `ranges` to `full` and the `basisset` and `auxbasisset` to `def2-svp` and `aux-def2-svp`. For more information, check the [eqm calculator options](https://www.votca.org/xtp/eqm.html)."
   ]
  },
  {
   "cell_type": "code",
   "execution_count": 18,
   "metadata": {
    "execution": {
     "iopub.execute_input": "2021-06-25T06:11:03.264584Z",
     "iopub.status.busy": "2021-06-25T06:11:03.263786Z",
     "iopub.status.idle": "2021-06-25T06:11:03.285549Z",
     "shell.execute_reply": "2021-06-25T06:11:03.285064Z"
    }
   },
   "outputs": [
    {
     "name": "stdout",
     "output_type": "stream",
     "text": [
      "The option 'gwbse_options.gwbse.ranges' on file 'OPTIONFILES/eqm.xml' has been set to 'full'\n",
      "The option 'gwbse_options.gwbse.mode' on file 'OPTIONFILES/eqm.xml' has been set to 'G0W0'\n",
      "The option 'gwbse_options.gwbse.qp_solver' on file 'OPTIONFILES/eqm.xml' has been set to 'fixedpoint'\n",
      "The option 'gwbse_options.gwbse.qp_grid_steps' on file 'OPTIONFILES/eqm.xml' has been set to '100'\n",
      "The option 'gwbse_options.gwbse.qp_grid_spacing' on file 'OPTIONFILES/eqm.xml' has been set to '0.01'\n",
      "The option 'gwbse_options.gwbse.exctotal' on file 'OPTIONFILES/eqm.xml' has been set to '10'\n",
      "The option 'map_file' on file 'OPTIONFILES/eqm.xml' has been set to 'system.xml'\n",
      "The option 'basisset' on file 'OPTIONFILES/eqm.xml' has been set to '3-21G'\n",
      "The option 'auxbasisset' on file 'OPTIONFILES/eqm.xml' has been set to 'aux-def2-svp'\n"
     ]
    }
   ],
   "source": [
    "edit_calculator(\"eqm\", \"gwbse_options.gwbse.ranges\", \"full\")\n",
    "edit_calculator(\"eqm\", \"gwbse_options.gwbse.mode\", \"G0W0\")\n",
    "edit_calculator(\"eqm\", \"gwbse_options.gwbse.qp_solver\", \"fixedpoint\")\n",
    "edit_calculator(\"eqm\", \"gwbse_options.gwbse.qp_grid_steps\", \"100\")\n",
    "edit_calculator(\"eqm\", \"gwbse_options.gwbse.qp_grid_spacing\", \"0.01\")\n",
    "edit_calculator(\"eqm\", \"gwbse_options.gwbse.exctotal\", \"10\")\n",
    "edit_calculator(\"eqm\", \"map_file\", \"system.xml\")\n",
    "edit_calculator(\"eqm\", \"basisset\", \"3-21G\")\n",
    "edit_calculator(\"eqm\", \"auxbasisset\", \"aux-def2-svp\")"
   ]
  },
  {
   "cell_type": "markdown",
   "metadata": {},
   "source": [
    "For the sake of computational time let just compute the `gw` approximation and the `singlet`. You can also request the `triplet` or `all`,  see the [gwbse sectionfor the eqm calculator](https://www.votca.org/xtp/eqm.html)."
   ]
  },
  {
   "cell_type": "code",
   "execution_count": 19,
   "metadata": {
    "execution": {
     "iopub.execute_input": "2021-06-25T06:11:03.288891Z",
     "iopub.status.busy": "2021-06-25T06:11:03.288407Z",
     "iopub.status.idle": "2021-06-25T06:11:03.292893Z",
     "shell.execute_reply": "2021-06-25T06:11:03.292484Z"
    }
   },
   "outputs": [
    {
     "name": "stdout",
     "output_type": "stream",
     "text": [
      "The option 'gwbse_options.gwbse.tasks' on file 'OPTIONFILES/eqm.xml' has been set to 'gw,singlets'\n"
     ]
    }
   ],
   "source": [
    "edit_calculator(\"eqm\", \"gwbse_options.gwbse.tasks\", \"gw,singlets\")"
   ]
  },
  {
   "cell_type": "markdown",
   "metadata": {},
   "source": [
    "First we will write the job in a file and enable only the first 2 jobs"
   ]
  },
  {
   "cell_type": "code",
   "execution_count": 20,
   "metadata": {
    "execution": {
     "iopub.execute_input": "2021-06-25T06:11:03.302006Z",
     "iopub.status.busy": "2021-06-25T06:11:03.301511Z",
     "iopub.status.idle": "2021-06-25T06:11:07.178349Z",
     "shell.execute_reply": "2021-06-25T06:11:07.177855Z"
    }
   },
   "outputs": [
    {
     "name": "stdout",
     "output_type": "stream",
     "text": [
      "==================================================\r\n",
      "========   VOTCA (http://www.votca.org)   ========\r\n",
      "==================================================\r\n",
      "\r\n",
      "please submit bugs to https://github.com/votca/xtp/issues\r\n",
      "\r\n",
      "xtp_parallel, version 2022-dev gitid: 1c1eeee (compiled Jun 25 2021, 05:58:23)\r\n",
      "votca_csg, version 2022-dev gitid: 1c1eeee (compiled Jun 25 2021, 05:41:49)\r\n",
      "votca_tools, version 2022-dev gitid: 1c1eeee (compiled Jun 25 2021, 05:39:22)\r\n",
      "\r\n",
      "Initializing calculator\r\n",
      "... eqm\r\n",
      "\r\n",
      "... ... Initialized with 1 threads.\r\n",
      "\r\n",
      "... ... Using 1 openmp threads for 1x1=1 total threads.\r\n",
      "1 frames in statefile, Ids are: 10000 \r\n",
      "Starting at frame 10000\r\n",
      "Evaluating frame 10000\r\n",
      "Import MD Topology (i.e. frame 10000) from state.hdf5\r\n",
      ".... \r\n",
      "... eqm \r\n",
      "... ... Writing job file: eqm.jobs with 1000 jobs\r\n",
      "Changes have not been written to state file.\r\n"
     ]
    }
   ],
   "source": [
    "!xtp_parallel -e eqm -o OPTIONFILES/eqm.xml -f state.hdf5 -s 0 -j \"write\"\n",
    "!sed -i \"s/AVAILABLE/COMPLETE/g\" eqm.jobs\n",
    "!sed -i '0,/COMPLETE/s/COMPLETE/AVAILABLE/' eqm.jobs\n",
    "!sed -i '0,/COMPLETE/s/COMPLETE/AVAILABLE/' eqm.jobs"
   ]
  },
  {
   "cell_type": "markdown",
   "metadata": {},
   "source": [
    "Now, let run these 2 jobs"
   ]
  },
  {
   "cell_type": "code",
   "execution_count": 21,
   "metadata": {
    "execution": {
     "iopub.execute_input": "2021-06-25T06:11:07.186704Z",
     "iopub.status.busy": "2021-06-25T06:11:07.183731Z",
     "iopub.status.idle": "2021-06-25T06:11:07.929588Z",
     "shell.execute_reply": "2021-06-25T06:11:07.928562Z"
    }
   },
   "outputs": [
    {
     "name": "stdout",
     "output_type": "stream",
     "text": [
      "an error occurred:\r\n",
      "error parsing command line: option '-c' is ambiguous and matches '--cache', and '--cmdoptions'\r\n"
     ]
    }
   ],
   "source": [
    "!xtp_parallel -e eqm -o OPTIONFILES/eqm.xml -f state.hdf5 -s 0 -j run -c 1 -p 4"
   ]
  },
  {
   "cell_type": "markdown",
   "metadata": {},
   "source": [
    "## QM calculation for pairs\n",
    "In the following step we will run QM calculations for each pair in the hdf5 file. As the calculations on the previous step, we will first write the jobs in a file, then run them and finally store the results in the state file. First, we need to copy the input to our local folder"
   ]
  },
  {
   "cell_type": "code",
   "execution_count": 22,
   "metadata": {
    "execution": {
     "iopub.execute_input": "2021-06-25T06:11:07.937481Z",
     "iopub.status.busy": "2021-06-25T06:11:07.933759Z",
     "iopub.status.idle": "2021-06-25T06:11:08.620943Z",
     "shell.execute_reply": "2021-06-25T06:11:08.620215Z"
    }
   },
   "outputs": [],
   "source": [
    "!cp \"$VOTCASHARE/xtp/xml/iqm.xml\" OPTIONFILES/"
   ]
  },
  {
   "cell_type": "markdown",
   "metadata": {},
   "source": [
    "As in the previous section, we set the GWBSE mode to `G0W0`and the `ranges` to `full`, but we compute only the `gw` approximation. We are also going to compute a single excited state. For more information, check the [iqm calculator options](https://www.votca.org/xtp/iqm.html). We also want to compute the `singlet` couplings. "
   ]
  },
  {
   "cell_type": "code",
   "execution_count": 23,
   "metadata": {
    "execution": {
     "iopub.execute_input": "2021-06-25T06:11:08.627816Z",
     "iopub.status.busy": "2021-06-25T06:11:08.626536Z",
     "iopub.status.idle": "2021-06-25T06:11:08.639925Z",
     "shell.execute_reply": "2021-06-25T06:11:08.640306Z"
    }
   },
   "outputs": [
    {
     "name": "stdout",
     "output_type": "stream",
     "text": [
      "The option 'states' on file 'OPTIONFILES/iqm.xml' has been set to '1'\n",
      "The option 'map_file' on file 'OPTIONFILES/iqm.xml' has been set to 'system.xml'\n",
      "The option 'gwbse_options.gwbse.ranges' on file 'OPTIONFILES/iqm.xml' has been set to 'full'\n",
      "The option 'gwbse_options.gwbse.tasks' on file 'OPTIONFILES/iqm.xml' has been set to 'gw'\n",
      "The option 'gwbse_options.gwbse.qp_solver' on file 'OPTIONFILES/iqm.xml' has been set to 'fixedpoint'\n",
      "The option 'gwbse_options.gwbse.qp_grid_steps' on file 'OPTIONFILES/iqm.xml' has been set to '100'\n",
      "The option 'gwbse_options.gwbse.qp_grid_spacing' on file 'OPTIONFILES/iqm.xml' has been set to '0.01'\n",
      "The option 'bsecoupling.spin' on file 'OPTIONFILES/iqm.xml' has been set to 'singlet'\n",
      "The option 'basisset' on file 'OPTIONFILES/iqm.xml' has been set to '3-21G'\n",
      "The option 'auxbasisset' on file 'OPTIONFILES/iqm.xml' has been set to 'aux-def2-svp'\n"
     ]
    }
   ],
   "source": [
    "edit_calculator(\"iqm\", \"states\", \"1\")\n",
    "edit_calculator(\"iqm\", \"map_file\", \"system.xml\")\n",
    "edit_calculator(\"iqm\", \"gwbse_options.gwbse.ranges\", \"full\")\n",
    "edit_calculator(\"iqm\", \"gwbse_options.gwbse.tasks\", \"gw\")\n",
    "edit_calculator(\"iqm\", \"gwbse_options.gwbse.qp_solver\", \"fixedpoint\")\n",
    "edit_calculator(\"iqm\", \"gwbse_options.gwbse.qp_grid_steps\", \"100\")\n",
    "edit_calculator(\"iqm\", \"gwbse_options.gwbse.qp_grid_spacing\", \"0.01\")\n",
    "edit_calculator(\"iqm\", \"bsecoupling.spin\", \"singlet\")\n",
    "edit_calculator(\"iqm\", \"basisset\", \"3-21G\")\n",
    "edit_calculator(\"iqm\", \"auxbasisset\", \"aux-def2-svp\")"
   ]
  },
  {
   "cell_type": "markdown",
   "metadata": {},
   "source": [
    "Before running the calculations, we need to specify in the `iqm` input which states to read into the jobfile for each segment type. The following *XML* snippet needs to be added"
   ]
  },
  {
   "cell_type": "code",
   "execution_count": 24,
   "metadata": {
    "execution": {
     "iopub.execute_input": "2021-06-25T06:11:08.644573Z",
     "iopub.status.busy": "2021-06-25T06:11:08.643520Z",
     "iopub.status.idle": "2021-06-25T06:11:08.645164Z",
     "shell.execute_reply": "2021-06-25T06:11:08.645566Z"
    }
   },
   "outputs": [],
   "source": [
    "readjobfile = \"\"\"\n",
    "<readjobfile help=\"which states to read into the jobfile for each segment type\">\n",
    "     <singlet>thiophene:s1</singlet>\n",
    "     <triplet>thiophene:t1</triplet>\n",
    "     <electron>thiophene:e1</electron>\n",
    "     <hole>thiophene:h1</hole>\n",
    "</readjobfile>\n",
    "\"\"\""
   ]
  },
  {
   "cell_type": "markdown",
   "metadata": {},
   "source": [
    "The following function add the `readjobfile` section,"
   ]
  },
  {
   "cell_type": "code",
   "execution_count": 25,
   "metadata": {
    "execution": {
     "iopub.execute_input": "2021-06-25T06:11:08.648760Z",
     "iopub.status.busy": "2021-06-25T06:11:08.648274Z",
     "iopub.status.idle": "2021-06-25T06:11:08.651669Z",
     "shell.execute_reply": "2021-06-25T06:11:08.651253Z"
    }
   },
   "outputs": [],
   "source": [
    "add_section(\"iqm\", readjobfile)"
   ]
  },
  {
   "cell_type": "markdown",
   "metadata": {},
   "source": [
    "Now, let's write the jobs to the file"
   ]
  },
  {
   "cell_type": "code",
   "execution_count": 26,
   "metadata": {
    "execution": {
     "iopub.execute_input": "2021-06-25T06:11:08.658046Z",
     "iopub.status.busy": "2021-06-25T06:11:08.657559Z",
     "iopub.status.idle": "2021-06-25T06:11:11.933131Z",
     "shell.execute_reply": "2021-06-25T06:11:11.932390Z"
    }
   },
   "outputs": [
    {
     "name": "stdout",
     "output_type": "stream",
     "text": [
      "==================================================\r\n",
      "========   VOTCA (http://www.votca.org)   ========\r\n",
      "==================================================\r\n",
      "\r\n",
      "please submit bugs to https://github.com/votca/xtp/issues\r\n",
      "\r\n",
      "xtp_parallel, version 2022-dev gitid: 1c1eeee (compiled Jun 25 2021, 05:58:23)\r\n",
      "votca_csg, version 2022-dev gitid: 1c1eeee (compiled Jun 25 2021, 05:41:49)\r\n",
      "votca_tools, version 2022-dev gitid: 1c1eeee (compiled Jun 25 2021, 05:39:22)\r\n",
      "\r\n",
      "Initializing calculator\r\n",
      "... iqm\r\n",
      "\r\n",
      "... ... Initialized with 1 threads.\r\n",
      "\r\n",
      "... ... Using 1 openmp threads for 1x1=1 total threads.\r\n",
      "1 frames in statefile, Ids are: 10000 \r\n",
      "Starting at frame 10000\r\n",
      "Evaluating frame 10000\r\n",
      "Import MD Topology (i.e. frame 10000) from state.hdf5\r\n",
      ".... \r\n",
      "... iqm \r\n",
      "... ... Writing job file iqm.jobs\r\n",
      "... ... In total 90067 jobs\r\n",
      "Changes have not been written to state file.\r\n"
     ]
    }
   ],
   "source": [
    "!xtp_parallel -e iqm -o OPTIONFILES/iqm.xml -f state.hdf5 -s 0 -j \"write\""
   ]
  },
  {
   "cell_type": "markdown",
   "metadata": {},
   "source": [
    "From the jobs that we just write down, let's make available only the first job"
   ]
  },
  {
   "cell_type": "code",
   "execution_count": 27,
   "metadata": {
    "execution": {
     "iopub.execute_input": "2021-06-25T06:11:11.941139Z",
     "iopub.status.busy": "2021-06-25T06:11:11.938839Z",
     "iopub.status.idle": "2021-06-25T06:11:13.688024Z",
     "shell.execute_reply": "2021-06-25T06:11:13.686796Z"
    }
   },
   "outputs": [],
   "source": [
    "!sed -i \"s/AVAILABLE/COMPLETE/g\" iqm.jobs\n",
    "!sed -i '0,/COMPLETE/s/COMPLETE/AVAILABLE/' iqm.jobs"
   ]
  },
  {
   "cell_type": "markdown",
   "metadata": {},
   "source": [
    "Now we can run and store the jobs results"
   ]
  },
  {
   "cell_type": "code",
   "execution_count": 28,
   "metadata": {
    "execution": {
     "iopub.execute_input": "2021-06-25T06:11:13.693446Z",
     "iopub.status.busy": "2021-06-25T06:11:13.692923Z",
     "iopub.status.idle": "2021-06-25T06:11:14.450287Z",
     "shell.execute_reply": "2021-06-25T06:11:14.448791Z"
    }
   },
   "outputs": [
    {
     "name": "stdout",
     "output_type": "stream",
     "text": [
      "an error occurred:\r\n",
      "error parsing command line: option '-c' is ambiguous and matches '--cache', and '--cmdoptions'\r\n"
     ]
    }
   ],
   "source": [
    "!xtp_parallel -e iqm -o OPTIONFILES/iqm.xml -f state.hdf5 -s 0 -j run -c 1 -p 4"
   ]
  },
  {
   "cell_type": "markdown",
   "metadata": {},
   "source": [
    "Finally, we read the results into the state"
   ]
  },
  {
   "cell_type": "code",
   "execution_count": 29,
   "metadata": {
    "execution": {
     "iopub.execute_input": "2021-06-25T06:11:14.457362Z",
     "iopub.status.busy": "2021-06-25T06:11:14.455512Z",
     "iopub.status.idle": "2021-06-25T06:11:19.571903Z",
     "shell.execute_reply": "2021-06-25T06:11:19.571367Z"
    }
   },
   "outputs": [
    {
     "name": "stdout",
     "output_type": "stream",
     "text": [
      "==================================================\r\n",
      "========   VOTCA (http://www.votca.org)   ========\r\n",
      "==================================================\r\n",
      "\r\n",
      "please submit bugs to https://github.com/votca/xtp/issues\r\n",
      "\r\n",
      "xtp_parallel, version 2022-dev gitid: 1c1eeee (compiled Jun 25 2021, 05:58:23)\r\n",
      "votca_csg, version 2022-dev gitid: 1c1eeee (compiled Jun 25 2021, 05:41:49)\r\n",
      "votca_tools, version 2022-dev gitid: 1c1eeee (compiled Jun 25 2021, 05:39:22)\r\n",
      "\r\n",
      "Initializing calculator\r\n",
      "... iqm\r\n",
      "\r\n",
      "... ... Initialized with 1 threads.\r\n",
      "\r\n",
      "... ... Using 1 openmp threads for 1x1=1 total threads.\r\n",
      "1 frames in statefile, Ids are: 10000 \r\n",
      "Starting at frame 10000\r\n",
      "Evaluating frame 10000\r\n",
      "Import MD Topology (i.e. frame 10000) from state.hdf5\r\n",
      ".... \r\n",
      "... iqm \r\n",
      " ERROR    Pairs [total:updated(e,h,s,t)] 90067:(0,0,0,0) Incomplete jobs: 90067\r\n",
      "\r\n",
      "Wrote MD topology (step = 10000, time = 0) to state.hdf5\r\n",
      "... . \r\n"
     ]
    }
   ],
   "source": [
    "!xtp_parallel -e iqm -o OPTIONFILES/iqm.xml -f state.hdf5 -j \"read\""
   ]
  },
  {
   "cell_type": "markdown",
   "metadata": {},
   "source": [
    "## QMMM Calculations\n",
    "We will run the *QMMM* calculations we will use the pregenerated `qmmm.jobs` file in the current work directory, so we can directly run the calculations"
   ]
  },
  {
   "cell_type": "code",
   "execution_count": 30,
   "metadata": {
    "execution": {
     "iopub.execute_input": "2021-06-25T06:11:19.579316Z",
     "iopub.status.busy": "2021-06-25T06:11:19.576928Z",
     "iopub.status.idle": "2021-06-25T06:11:21.022408Z",
     "shell.execute_reply": "2021-06-25T06:11:21.022946Z"
    }
   },
   "outputs": [
    {
     "name": "stdout",
     "output_type": "stream",
     "text": [
      "an error occurred:\r\n",
      "error parsing command line: option '-p' is ambiguous and matches '--ompthreads', and '--printoptions'\r\n"
     ]
    }
   ],
   "source": [
    "!cp qmmm.xml OPTIONFILES\n",
    "!xtp_parallel -e qmmm -o OPTIONFILES/qmmm.xml -f state.hdf5 -j run -p 4"
   ]
  },
  {
   "cell_type": "code",
   "execution_count": null,
   "metadata": {},
   "outputs": [],
   "source": []
  }
 ],
 "metadata": {
  "kernelspec": {
   "display_name": "Python 3",
   "language": "python",
   "name": "python3"
  },
  "language_info": {
   "codemirror_mode": {
    "name": "ipython",
    "version": 3
   },
   "file_extension": ".py",
   "mimetype": "text/x-python",
   "name": "python",
   "nbconvert_exporter": "python",
   "pygments_lexer": "ipython3",
   "version": "3.9.5"
  }
 },
 "nbformat": 4,
 "nbformat_minor": 4
}
