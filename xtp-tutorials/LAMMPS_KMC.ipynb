{
 "cells": [
  {
   "cell_type": "markdown",
   "metadata": {},
   "source": [
    "# Kinect Monte Carlo Simulations Using LAMMPS"
   ]
  },
  {
   "cell_type": "markdown",
   "metadata": {},
   "source": [
    "## Requirements\n",
    "* You will need to install **VOTCA** using the instructions described [here](https://github.com/votca/votca/blob/master/share/sphinx/INSTALL.rst)\n",
    "* Once the installation is completed you need to activate the VOTCA enviroment by running the `VOTCARC.bash` script that has been installed at the `bin` subfolder for the path that you have provided for the installation step above"
   ]
  },
  {
   "cell_type": "markdown",
   "metadata": {},
   "source": [
    "## Setting the environment"
   ]
  },
  {
   "cell_type": "markdown",
   "metadata": {},
   "source": [
    "We will use [matplotlib](https://matplotlib.org/), [seaborn](https://seaborn.pydata.org/) and [pandas](https://pandas.pydata.org/) libraries for plotting. You can install it using [pip](https://pip.pypa.io/en/stable/) like"
   ]
  },
  {
   "cell_type": "code",
   "execution_count": 1,
   "metadata": {
    "execution": {
     "iopub.execute_input": "2024-03-08T05:12:51.001090Z",
     "iopub.status.busy": "2024-03-08T05:12:51.000582Z",
     "iopub.status.idle": "2024-03-08T05:12:52.473760Z",
     "shell.execute_reply": "2024-03-08T05:12:52.473139Z"
    }
   },
   "outputs": [
    {
     "name": "stdout",
     "output_type": "stream",
     "text": [
      "Requirement already satisfied: seaborn in /usr/lib/python3.12/site-packages (0.13.0)\r\n",
      "Requirement already satisfied: numpy!=1.24.0,>=1.20 in /usr/lib64/python3.12/site-packages (from seaborn) (1.24.4)\r\n",
      "Requirement already satisfied: pandas>=1.2 in /usr/lib64/python3.12/site-packages (from seaborn) (1.5.3)\r\n",
      "Requirement already satisfied: matplotlib!=3.6.1,>=3.3 in /usr/lib64/python3.12/site-packages (from seaborn) (3.8.2)\r\n",
      "Requirement already satisfied: contourpy>=1.0.1 in /usr/lib64/python3.12/site-packages (from matplotlib!=3.6.1,>=3.3->seaborn) (1.2.0)\r\n",
      "Requirement already satisfied: cycler>=0.10 in /usr/lib/python3.12/site-packages (from matplotlib!=3.6.1,>=3.3->seaborn) (0.11.0)\r\n",
      "Requirement already satisfied: fonttools>=4.22.0 in /usr/lib64/python3.12/site-packages (from matplotlib!=3.6.1,>=3.3->seaborn) (4.43.1)\r\n",
      "Requirement already satisfied: kiwisolver>=1.3.1 in /usr/lib64/python3.12/site-packages (from matplotlib!=3.6.1,>=3.3->seaborn) (1.4.5)\r\n",
      "Requirement already satisfied: packaging>=20.0 in /usr/lib/python3.12/site-packages (from matplotlib!=3.6.1,>=3.3->seaborn) (23.1)\r\n",
      "Requirement already satisfied: pillow>=8 in /usr/lib64/python3.12/site-packages (from matplotlib!=3.6.1,>=3.3->seaborn) (10.2.0)\r\n",
      "Requirement already satisfied: pyparsing>=2.3.1 in /usr/lib/python3.12/site-packages (from matplotlib!=3.6.1,>=3.3->seaborn) (3.0.9)\r\n",
      "Requirement already satisfied: python-dateutil>=2.7 in /usr/lib/python3.12/site-packages (from matplotlib!=3.6.1,>=3.3->seaborn) (2.8.2)\r\n",
      "Requirement already satisfied: pytz>=2020.1 in /usr/lib/python3.12/site-packages (from pandas>=1.2->seaborn) (2024.1)\r\n",
      "Requirement already satisfied: six>=1.5 in /usr/lib/python3.12/site-packages (from python-dateutil>=2.7->matplotlib!=3.6.1,>=3.3->seaborn) (1.16.0)\r\n"
     ]
    }
   ],
   "source": [
    "!pip install seaborn --user"
   ]
  },
  {
   "cell_type": "markdown",
   "metadata": {},
   "source": [
    "### Notes\n",
    "> * The `${VOTCASHARE}` environmental variable is set to the path that you provided during the VOTCA installation, by the default is set to `/usr/local/votca`.\n",
    "> * In Jupyter the `!` symbol means: *run the following command as a standard unix command*\n",
    "> * In Jupyter the command `%env` set an environmental variable"
   ]
  },
  {
   "cell_type": "markdown",
   "metadata": {},
   "source": [
    "## Site energies and pair energy differences\n",
    "We will compute the histrogram using `resolution_sites` of 0.03 eV. See [eanalyze options and defaults](https://votca.github.io/xtp/eanalyze.html) for more information."
   ]
  },
  {
   "cell_type": "code",
   "execution_count": 2,
   "metadata": {
    "execution": {
     "iopub.execute_input": "2024-03-08T05:12:52.476896Z",
     "iopub.status.busy": "2024-03-08T05:12:52.476711Z",
     "iopub.status.idle": "2024-03-08T05:12:53.533837Z",
     "shell.execute_reply": "2024-03-08T05:12:53.533354Z"
    }
   },
   "outputs": [
    {
     "name": "stdout",
     "output_type": "stream",
     "text": [
      "==================================================\r\n",
      "========   VOTCA (http://www.votca.org)   ========\r\n",
      "==================================================\r\n",
      "\r\n",
      "please submit bugs to https://github.com/votca/votca/issues\r\n",
      "\r\n",
      "xtp_run, version 2024-dev gitid: 9f20a12 (compiled Mar  8 2024, 05:10:35)\r\n",
      "\r\n",
      "Initializing calculator\r\n",
      "... eanalyze\r\n",
      "1 frames in statefile, Ids are: 10000 \r\n",
      "Starting at frame 10000\r\n",
      "Evaluating frame 10000\r\n",
      "Import MD Topology (i.e. frame 10000) from state.hdf5\r\n",
      ".... \r\n",
      "... eanalyze\r\n",
      " Using 1 threads\r\n",
      "... ... Short-listed 1000 segments (pattern='*')\r\n",
      "... ... ... NOTE Statistics of site energies and spatial correlations thereof are based on the short-listed segments only. \r\n",
      "... ... ...      Statistics of site-energy differences operate on the full list.\r\n",
      "... ... excited state e\r\n",
      "... ... excited state h\r\n",
      "... ... excited state s\r\n",
      "... ... excited state t\r\n",
      "Changes have not been written to state file.\r\n"
     ]
    }
   ],
   "source": [
    "!xtp_run -e eanalyze -c resolution_sites=0.03 -f state.hdf5"
   ]
  },
  {
   "cell_type": "markdown",
   "metadata": {},
   "source": [
    "In the current work directoy you can see the resulting files,"
   ]
  },
  {
   "cell_type": "code",
   "execution_count": 3,
   "metadata": {
    "execution": {
     "iopub.execute_input": "2024-03-08T05:12:53.536717Z",
     "iopub.status.busy": "2024-03-08T05:12:53.536328Z",
     "iopub.status.idle": "2024-03-08T05:12:53.647827Z",
     "shell.execute_reply": "2024-03-08T05:12:53.647235Z"
    }
   },
   "outputs": [
    {
     "name": "stdout",
     "output_type": "stream",
     "text": [
      "eanalyze.pairhist_e.out  eanalyze.pairlist_s.out  eanalyze.sitehist_e.out\r\n",
      "eanalyze.pairhist_h.out  eanalyze.pairlist_t.out  eanalyze.sitehist_h.out\r\n",
      "eanalyze.pairhist_s.out  eanalyze.sitecorr_e.out  eanalyze.sitehist_s.out\r\n",
      "eanalyze.pairhist_t.out  eanalyze.sitecorr_h.out  eanalyze.sitehist_t.out\r\n",
      "eanalyze.pairlist_e.out  eanalyze.sitecorr_s.out\r\n",
      "eanalyze.pairlist_h.out  eanalyze.sitecorr_t.out\r\n"
     ]
    }
   ],
   "source": [
    "!ls eanalyze*"
   ]
  },
  {
   "cell_type": "markdown",
   "metadata": {},
   "source": [
    "## Plotting the energies\n",
    "We will the previously installed `pandas` and `seaborn` library to plot the electron histrogram computed in the previous step,"
   ]
  },
  {
   "cell_type": "code",
   "execution_count": 4,
   "metadata": {
    "execution": {
     "iopub.execute_input": "2024-03-08T05:12:53.650691Z",
     "iopub.status.busy": "2024-03-08T05:12:53.650490Z",
     "iopub.status.idle": "2024-03-08T05:12:54.768370Z",
     "shell.execute_reply": "2024-03-08T05:12:54.767663Z"
    }
   },
   "outputs": [
    {
     "name": "stderr",
     "output_type": "stream",
     "text": [
      "<>:5: SyntaxWarning: invalid escape sequence '\\s'\n",
      "<>:5: SyntaxWarning: invalid escape sequence '\\s'\n",
      "/tmp/ipykernel_15153/2362228021.py:5: SyntaxWarning: invalid escape sequence '\\s'\n",
      "  df = pd.read_table(\"eanalyze.pairhist_e.out\", comment=\"#\", sep='\\s+',names=columns, skiprows=2)\n",
      "/usr/lib/python3.12/site-packages/seaborn/axisgrid.py:854: FutureWarning: \n",
      "\n",
      "The `ci` parameter is deprecated. Use `errorbar=None` for the same effect.\n",
      "\n",
      "  func(*plot_args, **plot_kwargs)\n"
     ]
    },
    {
     "data": {
      "text/plain": [
       "[]"
      ]
     },
     "execution_count": 4,
     "metadata": {},
     "output_type": "execute_result"
    },
    {
     "data": {
      "image/png": "[encoded data removed]",
      "text/plain": [
       "<Figure size 500x500 with 1 Axes>"
      ]
     },
     "metadata": {},
     "output_type": "display_data"
    }
   ],
   "source": [
    "import pandas as pd \n",
    "import matplotlib.pyplot as plt\n",
    "import seaborn as sns\n",
    "columns = [\"E(eV)\", \"counts\"] \n",
    "df = pd.read_table(\"eanalyze.pairhist_e.out\", comment=\"#\", sep='\\s+',names=columns, skiprows=2) \n",
    "sns.relplot(x=\"E(eV)\", y=\"counts\", ci=None, kind=\"line\", data=df) \n",
    "plt.plot()"
   ]
  },
  {
   "cell_type": "markdown",
   "metadata": {},
   "source": [
    "## Couplings histrogram\n",
    "In this step we will analyze the electron/hole couplings, using the `ianalyze` calculator using the `resolution_logJ2` parameter of 0.1 units. See the [ianalyze options and defaults](https://votca.github.io/xtp/ianalyze.html) for more information about the calculator."
   ]
  },
  {
   "cell_type": "code",
   "execution_count": 5,
   "metadata": {
    "execution": {
     "iopub.execute_input": "2024-03-08T05:12:54.771232Z",
     "iopub.status.busy": "2024-03-08T05:12:54.770806Z",
     "iopub.status.idle": "2024-03-08T05:12:55.720102Z",
     "shell.execute_reply": "2024-03-08T05:12:55.719555Z"
    }
   },
   "outputs": [
    {
     "name": "stdout",
     "output_type": "stream",
     "text": [
      "==================================================\r\n",
      "========   VOTCA (http://www.votca.org)   ========\r\n",
      "==================================================\r\n",
      "\r\n",
      "please submit bugs to https://github.com/votca/votca/issues\r\n",
      "\r\n",
      "xtp_run, version 2024-dev gitid: 9f20a12 (compiled Mar  8 2024, 05:10:35)\r\n",
      "\r\n",
      "Initializing calculator\r\n",
      "... ianalyze\r\n",
      "1 frames in statefile, Ids are: 10000 \r\n",
      "Starting at frame 10000\r\n",
      "Evaluating frame 10000\r\n",
      "Import MD Topology (i.e. frame 10000) from state.hdf5\r\n",
      ".... \r\n",
      "... ianalyze\r\n",
      " Using 1 threads\r\n",
      "Calculating for state e now.\r\n",
      "Calculating for state h now.\r\n",
      "Changes have not been written to state file.\r\n"
     ]
    }
   ],
   "source": [
    "!xtp_run -e ianalyze -c resolution_logJ2=0.1 states=e,h -f state.hdf5"
   ]
  },
  {
   "cell_type": "markdown",
   "metadata": {},
   "source": [
    "## Plotting the coupling histogram\n",
    "We can now plot the logarithm of the squared coupling for the hole,"
   ]
  },
  {
   "cell_type": "code",
   "execution_count": 6,
   "metadata": {
    "execution": {
     "iopub.execute_input": "2024-03-08T05:12:55.723072Z",
     "iopub.status.busy": "2024-03-08T05:12:55.722658Z",
     "iopub.status.idle": "2024-03-08T05:12:55.925782Z",
     "shell.execute_reply": "2024-03-08T05:12:55.925042Z"
    }
   },
   "outputs": [
    {
     "name": "stderr",
     "output_type": "stream",
     "text": [
      "<>:2: SyntaxWarning: invalid escape sequence '\\s'\n",
      "<>:2: SyntaxWarning: invalid escape sequence '\\s'\n",
      "/tmp/ipykernel_15153/886975016.py:2: SyntaxWarning: invalid escape sequence '\\s'\n",
      "  df = pd.read_table(\"ianalyze.ihist_h.out\", comment=\"#\", sep='\\s+',names=columns, skiprows=2)\n",
      "/usr/lib/python3.12/site-packages/seaborn/axisgrid.py:854: FutureWarning: \n",
      "\n",
      "The `ci` parameter is deprecated. Use `errorbar=None` for the same effect.\n",
      "\n",
      "  func(*plot_args, **plot_kwargs)\n"
     ]
    },
    {
     "data": {
      "text/plain": [
       "[]"
      ]
     },
     "execution_count": 6,
     "metadata": {},
     "output_type": "execute_result"
    },
    {
     "data": {
      "image/png": "[encoded data removed]",
      "text/plain": [
       "<Figure size 500x500 with 1 Axes>"
      ]
     },
     "metadata": {},
     "output_type": "display_data"
    }
   ],
   "source": [
    "columns = [\"logJ2\", \"counts\"] \n",
    "df = pd.read_table(\"ianalyze.ihist_h.out\", comment=\"#\", sep='\\s+',names=columns, skiprows=2) \n",
    "sns.relplot(x=\"logJ2\", y=\"counts\", ci=None, kind=\"line\", data=df) \n",
    "plt.plot()"
   ]
  },
  {
   "cell_type": "markdown",
   "metadata": {},
   "source": [
    "## KMC simulations of multiple holes or electrons in periodic boundary conditions\n",
    "Finally, lets do a 1000 seconds KMC simulation for the electron, with a 10 seconds window between output and a field of 10 *V/m* along the x-axis,"
   ]
  },
  {
   "cell_type": "code",
   "execution_count": 7,
   "metadata": {
    "execution": {
     "iopub.execute_input": "2024-03-08T05:12:55.928463Z",
     "iopub.status.busy": "2024-03-08T05:12:55.928227Z",
     "iopub.status.idle": "2024-03-08T05:12:56.845847Z",
     "shell.execute_reply": "2024-03-08T05:12:56.845238Z"
    }
   },
   "outputs": [
    {
     "name": "stdout",
     "output_type": "stream",
     "text": [
      "==================================================\r\n",
      "========   VOTCA (http://www.votca.org)   ========\r\n",
      "==================================================\r\n",
      "\r\n",
      "please submit bugs to https://github.com/votca/votca/issues\r\n",
      "\r\n",
      "xtp_run, version 2024-dev gitid: 9f20a12 (compiled Mar  8 2024, 05:10:35)\r\n",
      "\r\n",
      "Initializing calculator\r\n",
      "... kmcmultiple\r\n",
      "1 frames in statefile, Ids are: 10000 \r\n",
      "Starting at frame 10000\r\n",
      "Evaluating frame 10000\r\n",
      "Import MD Topology (i.e. frame 10000) from state.hdf5\r\n",
      ".... \r\n",
      "... kmcmultiple\r\n",
      " Using 1 threads\r\n",
      " ... \r\n",
      "-----------------------------------\r\n",
      "      KMC FOR MULTIPLE CHARGES\r\n",
      "-----------------------------------\r\n",
      "\r\n",
      " ... \r\n",
      "Calculating initial rates.\r\n",
      " ... Rate engine initialized:\r\n",
      " Ratetype:marcus\r\n",
      " Temperature T[k] = 300\r\n",
      " Electric field[V/nm](x,y,z) =1e-08 0 0 ||F|| 1e-08\r\n",
      "\r\n",
      " ... \r\n",
      " ...     carriertype: electron\r\n",
      " ...     Rates for 1000 sites are computed.\r\n",
      " ... \r\n",
      "Rates are written to rates.dat\r\n",
      " ... Nblist has 10151 pairs. Nodes contain 20302 jump events\r\n",
      "with avg=20.302 std=2.07913 max=28 min=14 jumps per site\r\n",
      "Minimum jumpdistance =0.366063 nm Maximum distance =1.10167 nm\r\n",
      "\r\n",
      " ... spatial carrier density: 0.00729374 nm^-3\r\n",
      " ... \r\n",
      "Algorithm: VSSM for Multiple Charges\r\n",
      " ... number of carriers: 1\r\n",
      " ... number of nodes: 1000\r\n",
      " ... stop condition: 1000 steps.\r\n",
      " ... output frequency: every 10 steps.\r\n",
      " ... (If you specify runtimes larger than 100 kmcmultiple assumes that you are specifying the number of steps for both runtime and outputtime.)\r\n",
      " ... Writing trajectory to trajectory.csv.\r\n",
      " ... looking for injectable nodes...\r\n",
      " ... starting position for charge 0: segment 697\r\n",
      " ... \r\n",
      "Occupations are written to occupation.dat\r\n",
      " ... \r\n",
      "finished KMC simulation after 1000 steps.\r\n",
      "simulated time 5.92255e-09 seconds.\r\n",
      "\r\n",
      " ...     carrier 1: 1.205058e+08 5.671523e+07 1.959596e+07\r\n",
      " ...   Overall average velocity (nm/s): 1.205058e+08 5.671523e+07 1.959596e+07\r\n",
      " ... \r\n",
      "Distances travelled (nm): \r\n",
      " ...     carrier 1: 7.137019e-01 3.358990e-01 1.160581e-01\r\n",
      " ... \r\n",
      "Mobilities (nm^2/Vs): \r\n",
      " ...     carrier 1: mu=1.205058e+16\r\n",
      " ...   Overall average mobility in field direction <mu>=1.205058e+16 nm^2/Vs  \r\n",
      " ... \r\n",
      "Eigenvalues:\r\n",
      " \r\n",
      " ... Eigenvalue: 2.670560e-09\r\n",
      " ... Eigenvector: 1.317081e-01   6.198754e-02   -9.893485e-01\r\n",
      "\r\n",
      " ... Eigenvalue: 2.670560e-09\r\n",
      " ... Eigenvector: 4.258378e-01   -9.047995e-01   0.000000e+00\r\n",
      "\r\n",
      " ... Eigenvalue: 5.366503e+07\r\n",
      " ... Eigenvector: -8.951621e-01   -4.213020e-01   -1.455661e-01\r\n",
      "Changes have not been written to state file.\r\n"
     ]
    }
   ],
   "source": [
    "!xtp_run -e kmcmultiple -c runtime=1000 outputtime=10 field=10,0,0 carriertype=electron -f state.hdf5"
   ]
  },
  {
   "cell_type": "markdown",
   "metadata": {},
   "source": [
    "You can find both the *occupation data* and the *rates* for the electron at 300 K, on files `occupation.dat`  and `rates.dat`, respectively."
   ]
  }
 ],
 "metadata": {
  "kernelspec": {
   "display_name": "Python 3",
   "language": "python",
   "name": "python3"
  },
  "language_info": {
   "codemirror_mode": {
    "name": "ipython",
    "version": 3
   },
   "file_extension": ".py",
   "mimetype": "text/x-python",
   "name": "python",
   "nbconvert_exporter": "python",
   "pygments_lexer": "ipython3",
   "version": "3.12.2"
  }
 },
 "nbformat": 4,
 "nbformat_minor": 4
}
