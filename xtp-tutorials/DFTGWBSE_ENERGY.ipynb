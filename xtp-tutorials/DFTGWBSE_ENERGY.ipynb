{
 "cells": [
  {
   "cell_type": "markdown",
   "metadata": {},
   "source": [
    "# DFT + GWBSE Energy Calculation Using CH4"
   ]
  },
  {
   "cell_type": "markdown",
   "metadata": {},
   "source": [
    "## Introduction"
   ]
  },
  {
   "cell_type": "markdown",
   "metadata": {},
   "source": [
    "This tutorial explains how to perform calculation to predict electronic excitation using the **GWBSE** method. See [the GW Compendium: A Practical Guide to Theoretical Photoemission Spectroscopy](https://doi.org/10.3389/fchem.2019.00377), for an excellent introduction to the method."
   ]
  },
  {
   "cell_type": "markdown",
   "metadata": {},
   "source": [
    "## Requirements\n",
    "* You will need to install **VOTCA** using the instructions described [here](https://github.com/votca/votca/blob/master/share/doc/INSTALL.rst)\n",
    "* Once the installation is completed you need to activate the VOTCA enviroment by running the `VOTCARC.bash` script that has been installed at the bin subfolder for the path that you have provided for the installation step above"
   ]
  },
  {
   "cell_type": "markdown",
   "metadata": {},
   "source": [
    "## Interacting with the XTP command line interface\n",
    "To run a DFT-GWBSE calculation we will use the [xtp_tools](https://votca.github.io/xtp_tools.html) calculator. Run the following command to view the help message of `xtp_tools`:"
   ]
  },
  {
   "cell_type": "code",
   "execution_count": 1,
   "metadata": {},
   "outputs": [
    {
     "name": "stdout",
     "output_type": "stream",
     "text": [
      "==================================================\r\n",
      "========   VOTCA (http://www.votca.org)   ========\r\n",
      "==================================================\r\n",
      "\r\n",
      "please submit bugs to https://github.com/votca/xtp/issues\r\n",
      "\r\n",
      "xtp_tools, version 2021-dev gitid: 48a2eda (compiled Jan 13 2021, 01:22:16)\r\n",
      "votca_csg, version 2021-dev gitid: 48a2eda (compiled Jan 13 2021, 01:21:58)\r\n",
      "votca_tools, version 2021-dev gitid: 48a2eda (compiled Jan 13 2021, 01:21:55)\r\n",
      "\r\n",
      "Runs excitation/charge transport tools\r\n",
      "\r\n",
      "\r\n",
      "\r\n",
      "Allowed options:\r\n",
      "  -h [ --help ]                 display this help and exit\r\n",
      "  --verbose                     be loud and noisy\r\n",
      "  --verbose1                    be very loud and noisy\r\n",
      "  -v [ --verbose2 ]             be extremly loud and noisy\r\n",
      "  -o [ --options ] arg          calculator options\r\n",
      "  -t [ --nthreads ] arg (=1)    number of threads to create\r\n",
      "\r\n",
      "Tools:\r\n",
      "  -e [ --execute ] arg        name of the tool to run\r\n",
      "  -l [ --list ]               Lists all available tools\r\n",
      "  -d [ --description ] arg    Short description of a tool\r\n",
      "  -n [ --name ] arg           Name of the job to run\r\n",
      "\r\n"
     ]
    }
   ],
   "source": [
    "!xtp_tools --help"
   ]
  },
  {
   "cell_type": "markdown",
   "metadata": {},
   "source": [
    "### Note\n",
    "> * In Jupyter the `!` symbol means: *run the following command as a standard unix command*\n",
    "> * In Jupyter the command `%env` set an environmental variable"
   ]
  },
  {
   "cell_type": "markdown",
   "metadata": {},
   "source": [
    "## Running a calculation with the default options\n",
    "To run a DFT-GWBSE calculation we just need to provide the path to the file in XYZ with the molecular coordinates. Check the [dftgwbse defaults](https://votca.github.io/dftgwbse.html) for further information."
   ]
  },
  {
   "cell_type": "code",
   "execution_count": 2,
   "metadata": {},
   "outputs": [],
   "source": [
    "!xtp_tools -n methane -t 2 -e dftgwbse > dftgwbse.log"
   ]
  },
  {
   "cell_type": "markdown",
   "metadata": {},
   "source": [
    "The previous command will run the DFT-GWBSE calculation using the aforementioned defaults and the results are store in the *Current Work Directory* in a file named `methane_summary.xml`."
   ]
  },
  {
   "cell_type": "markdown",
   "metadata": {},
   "source": [
    "## Running a calculation using your own input file\n",
    "Let create a folder to store the input `options` for XTP and copy the defaults in there"
   ]
  },
  {
   "cell_type": "code",
   "execution_count": 3,
   "metadata": {},
   "outputs": [],
   "source": [
    "!mkdir -p OPTIONFILES\n",
    "!cp $VOTCASHARE/xtp/xml/dftgwbse.xml OPTIONFILES"
   ]
  },
  {
   "cell_type": "markdown",
   "metadata": {},
   "source": [
    "You should have a *XML* file with the DFTWGSE options that looks like"
   ]
  },
  {
   "cell_type": "code",
   "execution_count": 4,
   "metadata": {},
   "outputs": [
    {
     "name": "stdout",
     "output_type": "stream",
     "text": [
      "<?xml version=\"1.0\"?>\r\n",
      "<options>\r\n",
      "  <!-- xtp_tools -e dftgwbse options.xml -->\r\n",
      "  <dftgwbse help=\"Compute electronic excitations using GW-BSE\">\r\n",
      "    <optimize help=\"Perform a molecular geometry optimization\" default=\"false\" choices=\"bool\"/>\r\n",
      "    <basisset help=\"Basis set for MOs\" default=\"def2-tzvp\"/>\r\n",
      "    <auxbasisset help=\"Auxiliary basis set for RI\" default=\"aux-def2-tzvp\"/>\r\n",
      "    <functional help=\"Functional name(s) according to LIBXC\" default=\"XC_HYB_GGA_XC_PBEH\"/>\r\n",
      "    <dftpackage>\r\n",
      "      <package>\r\n"
     ]
    }
   ],
   "source": [
    "!head -n 10 OPTIONFILES/dftgwbse.xml"
   ]
  },
  {
   "cell_type": "markdown",
   "metadata": {},
   "source": [
    "We will use the folling python snippet to change the `basisset` and the `auxbasisset`,"
   ]
  },
  {
   "cell_type": "code",
   "execution_count": 5,
   "metadata": {},
   "outputs": [
    {
     "name": "stdout",
     "output_type": "stream",
     "text": [
      "The option 'basisset' on file 'OPTIONFILES/dftgwbse.xml' has been set to 'ubecppol'\n",
      "The option 'auxbasisset' on file 'OPTIONFILES/dftgwbse.xml' has been set to 'aux-ubecppol'\n"
     ]
    }
   ],
   "source": [
    "from xml_editor import edit_calculator\n",
    "edit_calculator(\"dftgwbse\", \"basisset\", \"ubecppol\")\n",
    "edit_calculator(\"dftgwbse\", \"auxbasisset\", \"aux-ubecppol\")"
   ]
  },
  {
   "cell_type": "markdown",
   "metadata": {},
   "source": [
    "Now you can run the calculation using the `-o` command line argument, as follows"
   ]
  },
  {
   "cell_type": "code",
   "execution_count": 6,
   "metadata": {},
   "outputs": [],
   "source": [
    "!xtp_tools -n methane -t 2 -e dftgwbse -o OPTIONFILES/dftgwbse.xml > dftgwbse.log"
   ]
  },
  {
   "cell_type": "markdown",
   "metadata": {},
   "source": [
    "### Note\n",
    "Alternatively you could have create an empty `dftgwbse.xml` file and add the `basisset` and the `auxbasisset` by hand, as follows,"
   ]
  },
  {
   "cell_type": "markdown",
   "metadata": {},
   "source": [
    "```xml\n",
    "<options>\n",
    "  \n",
    "  <dftgwbse help=\"Compute electronic excitations using GW-BSE\">\n",
    "    <basisset>ubecppol</basisset>\n",
    "    <auxbasisset>aux-ubecppol</auxbasisset>\n",
    "  </dftgwbse>\n",
    "\n",
    "</options>\n",
    "```"
   ]
  },
  {
   "cell_type": "markdown",
   "metadata": {},
   "source": [
    "XTP will automatically compare the default values with the user-provided and overwrites the defaults with the user input. Also, If I given property does not have a default value you can provide one using the XML file described above."
   ]
  },
  {
   "cell_type": "markdown",
   "metadata": {},
   "source": [
    "## Partial Charges\n",
    "We can compute now the partial charges using the `CHELPG` method by default. For more information see the [partialcharges documentation](https://votca.github.io/partialcharges.html). Once again, we only need to provide the name of the system to compute, which in our case is `methane`."
   ]
  },
  {
   "cell_type": "code",
   "execution_count": 7,
   "metadata": {},
   "outputs": [
    {
     "name": "stdout",
     "output_type": "stream",
     "text": [
      "Registered partialcharges==================================================\r\n",
      "========   VOTCA (http://www.votca.org)   ========\r\n",
      "==================================================\r\n",
      "\r\n",
      "please submit bugs to https://github.com/votca/xtp/issues\r\n",
      "\r\n",
      "xtp_tools, version 2021-dev gitid: 48a2eda (compiled Jan 13 2021, 01:22:16)\r\n",
      "votca_csg, version 2021-dev gitid: 48a2eda (compiled Jan 13 2021, 01:21:58)\r\n",
      "votca_tools, version 2021-dev gitid: 48a2eda (compiled Jan 13 2021, 01:21:55)\r\n",
      "\r\n",
      "Initializing tool\r\n",
      "... partialcharges Evaluating tool\r\n",
      "... partialcharges  Using 1 threads\r\n",
      "... ...  Loading QM data from methane.orb\r\n",
      "... ... ===== Running on 1 threads ===== \r\n",
      "... ... 2021-1-13 1:30:22 Calculated Densities at Numerical Grid, Number of electrons is 4.36533e-08\r\n",
      "... ... 2021-1-13 1:30:22 Calculating ESP at CHELPG grid points\r\n",
      "... ... 2021-1-13 1:30:25 Netcharge constrained to 0\r\n",
      "... ...  Sum of fitted charges: -2.17187e-14\r\n",
      "... ...  RMSE of fit:  0.00273957\r\n",
      "... ...  RRMSE of fit: 0.130704\r\n",
      "... ... El Dipole from fitted charges [e*bohr]:\r\n",
      "\t\t dx = -0.6999 dy = +0.5174 dz = -0.4871 |d|^2 = +0.9949\r\n",
      "... ... El Dipole from exact qm density [e*bohr]:\r\n",
      "\t\t dx = -0.7562 dy = +0.5599 dz = -0.5272 |d|^2 = +1.1632\r\n",
      "... ... Written charges to methane.mps"
     ]
    }
   ],
   "source": [
    "!xtp_tools -n methane -e partialcharges"
   ]
  },
  {
   "cell_type": "markdown",
   "metadata": {},
   "source": [
    "## Spectrum Calculation\n",
    "Finally, lets compute a convolution of the singlet spectrum using a gaussian function. For doing so, we will modify the default values for the [spectrum calculator](https://votca.github.io/spectrum.html) to compute the spectrum between 9 and 25 eV, using 1000 points in that energy range. We will first grap a copy of [spectrum calculator](https://votca.github.io/spectrum.html) and the modify its values as follows,"
   ]
  },
  {
   "cell_type": "code",
   "execution_count": 8,
   "metadata": {},
   "outputs": [
    {
     "name": "stdout",
     "output_type": "stream",
     "text": [
      "The option 'lower' on file 'OPTIONFILES/spectrum.xml' has been set to '9'\n",
      "The option 'upper' on file 'OPTIONFILES/spectrum.xml' has been set to '25'\n",
      "The option 'points' on file 'OPTIONFILES/spectrum.xml' has been set to '1000'\n"
     ]
    }
   ],
   "source": [
    "!cp $VOTCASHARE/xtp/xml/spectrum.xml OPTIONFILES\n",
    "edit_calculator(\"spectrum\", \"lower\", \"9\")\n",
    "edit_calculator(\"spectrum\", \"upper\", \"25\")\n",
    "edit_calculator(\"spectrum\", \"points\", \"1000\")"
   ]
  },
  {
   "cell_type": "markdown",
   "metadata": {},
   "source": [
    "Finally, we can invoke the calculator"
   ]
  },
  {
   "cell_type": "code",
   "execution_count": 9,
   "metadata": {},
   "outputs": [
    {
     "name": "stdout",
     "output_type": "stream",
     "text": [
      "Registered spectrum==================================================\r\n",
      "========   VOTCA (http://www.votca.org)   ========\r\n",
      "==================================================\r\n",
      "\r\n",
      "please submit bugs to https://github.com/votca/xtp/issues\r\n",
      "\r\n",
      "xtp_tools, version 2021-dev gitid: 48a2eda (compiled Jan 13 2021, 01:22:16)\r\n",
      "votca_csg, version 2021-dev gitid: 48a2eda (compiled Jan 13 2021, 01:21:58)\r\n",
      "votca_tools, version 2021-dev gitid: 48a2eda (compiled Jan 13 2021, 01:21:55)\r\n",
      "\r\n",
      "Initializing tool\r\n",
      "... spectrum Evaluating tool\r\n",
      "... spectrum  Using 1 threads\r\n",
      "... ... Calculating absorption spectrum plot methane.orb\r\n",
      "... ...  Loading QM data from methane.orb\r\n",
      "... ...  Considering 5 excitation with max energy 6.9598 eV / min wave length 179.923 nm\r\n",
      "... ...  Spectrum in energy range from  9 to 25 eV and with broadening of FWHM 0.2 eV written to file  methane_spectrum.dat"
     ]
    }
   ],
   "source": [
    "!xtp_tools -n methane -e spectrum -o OPTIONFILES/spectrum.xml"
   ]
  },
  {
   "cell_type": "markdown",
   "metadata": {},
   "source": [
    "The results are stored in the `methane_spectrum.dat` file."
   ]
  },
  {
   "cell_type": "markdown",
   "metadata": {},
   "source": [
    "## (Optional) Plot the spectrum"
   ]
  },
  {
   "cell_type": "markdown",
   "metadata": {},
   "source": [
    "We will use [matplotlib](https://matplotlib.org/), [seaborn](https://seaborn.pydata.org/) and [pandas](https://pandas.pydata.org/) libraries to plot the spectrum. You can install it using [pip](https://pip.pypa.io/en/stable/) like"
   ]
  },
  {
   "cell_type": "code",
   "execution_count": 10,
   "metadata": {},
   "outputs": [
    {
     "name": "stdout",
     "output_type": "stream",
     "text": [
      "Requirement already satisfied: seaborn in /usr/lib/python3.9/site-packages (0.10.1)\r\n",
      "Requirement already satisfied: numpy>=1.13.3 in /usr/lib64/python3.9/site-packages (from seaborn) (1.19.4)\r\n",
      "Requirement already satisfied: scipy>=1.0.1 in /usr/lib64/python3.9/site-packages (from seaborn) (1.5.2)\r\n",
      "Requirement already satisfied: pandas>=0.22.0 in /usr/lib64/python3.9/site-packages (from seaborn) (1.0.5)\r\n",
      "Requirement already satisfied: matplotlib>=2.1.2 in /usr/lib64/python3.9/site-packages (from seaborn) (3.3.3)\r\n",
      "Requirement already satisfied: python-dateutil>=2.6.1 in /usr/lib/python3.9/site-packages (from pandas>=0.22.0->seaborn) (2.8.1)\r\n",
      "Requirement already satisfied: pytz>=2017.2 in /usr/lib/python3.9/site-packages (from pandas>=0.22.0->seaborn) (2020.5)\r\n",
      "Requirement already satisfied: cycler>=0.10 in /usr/lib/python3.9/site-packages (from matplotlib>=2.1.2->seaborn) (0.10.0)\r\n",
      "Requirement already satisfied: kiwisolver>=1.0.1 in /usr/lib64/python3.9/site-packages (from matplotlib>=2.1.2->seaborn) (1.3.1)\r\n",
      "Requirement already satisfied: pillow>=6.2.0 in /usr/lib64/python3.9/site-packages (from matplotlib>=2.1.2->seaborn) (7.2.0)\r\n",
      "Requirement already satisfied: pyparsing!=2.0.4,!=2.1.2,!=2.1.6,>=2.0.3 in /usr/lib/python3.9/site-packages (from matplotlib>=2.1.2->seaborn) (2.4.7)\r\n",
      "Requirement already satisfied: six>=1.5 in /usr/lib/python3.9/site-packages (from python-dateutil>=2.6.1->pandas>=0.22.0->seaborn) (1.15.0)\r\n"
     ]
    }
   ],
   "source": [
    "!pip install seaborn --user"
   ]
  },
  {
   "cell_type": "code",
   "execution_count": 11,
   "metadata": {},
   "outputs": [
    {
     "data": {
      "text/plain": [
       "[]"
      ]
     },
     "execution_count": 11,
     "metadata": {},
     "output_type": "execute_result"
    },
    {
     "data": {
      "image/png": "[encoded data removed]",
      "text/plain": [
       "<Figure size 360x360 with 1 Axes>"
      ]
     },
     "metadata": {
      "needs_background": "light"
     },
     "output_type": "display_data"
    }
   ],
   "source": [
    "import pandas as pd \n",
    "import matplotlib.pyplot as plt\n",
    "import seaborn as sns\n",
    "columns = [\"E(eV)\", \"epsGaussian\",\"IM(eps)Gaussian\",  \"epsLorentz\",  \"Im(esp)Lorentz\"] \n",
    "df = pd.read_table(\"methane_spectrum.dat\", comment=\"#\", sep='\\s+',names=columns) \n",
    "sns.relplot(x=\"E(eV)\", y=\"epsGaussian\", ci=None, kind=\"line\", data=df) \n",
    "plt.plot()"
   ]
  }
 ],
 "metadata": {
  "kernelspec": {
   "display_name": "Python 3",
   "language": "python",
   "name": "python"
  },
  "language_info": {
   "codemirror_mode": {
    "name": "ipython",
    "version": 3
   },
   "file_extension": ".py",
   "mimetype": "text/x-python",
   "name": "python",
   "nbconvert_exporter": "python",
   "pygments_lexer": "ipython3",
   "version": "3.9.1"
  }
 },
 "nbformat": 4,
 "nbformat_minor": 4
}
