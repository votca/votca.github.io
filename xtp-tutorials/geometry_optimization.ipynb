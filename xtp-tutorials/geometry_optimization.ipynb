{
 "cells": [
  {
   "cell_type": "markdown",
   "metadata": {},
   "source": [
    "# Atomic Forces and Geometry Optimizaiton\n",
    "\n",
    "## What this tutorial is about \n",
    "\n",
    "In this tutorial we will learn how to compute the excited state atomic forces of a molecular structure and how to use these to perform geometry optimization. Let's start by importing the relevant modules"
   ]
  },
  {
   "cell_type": "code",
   "execution_count": 1,
   "metadata": {
    "execution": {
     "iopub.execute_input": "2025-10-31T05:51:23.277658Z",
     "iopub.status.busy": "2025-10-31T05:51:23.277266Z",
     "iopub.status.idle": "2025-10-31T05:51:23.821266Z",
     "shell.execute_reply": "2025-10-31T05:51:23.820759Z"
    }
   },
   "outputs": [],
   "source": [
    "from pyxtp import xtp\n",
    "from ase.io import write\n",
    "from ase.build import molecule\n",
    "from ase.optimize import GoodOldQuasiNewton"
   ]
  },
  {
   "cell_type": "markdown",
   "metadata": {},
   "source": [
    "## Define the molecular structure\n",
    "\n",
    "We define here a `CO` molecule in its ground state geometry.  "
   ]
  },
  {
   "cell_type": "code",
   "execution_count": 2,
   "metadata": {
    "execution": {
     "iopub.execute_input": "2025-10-31T05:51:23.824346Z",
     "iopub.status.busy": "2025-10-31T05:51:23.823815Z",
     "iopub.status.idle": "2025-10-31T05:51:23.833986Z",
     "shell.execute_reply": "2025-10-31T05:51:23.833482Z"
    }
   },
   "outputs": [],
   "source": [
    "atoms = molecule('CO')"
   ]
  },
  {
   "cell_type": "markdown",
   "metadata": {},
   "source": [
    "## Configure the `xtp` calculator\n",
    "\n",
    "We now define the `xtp` calculator and configure it to target particular forces. We can select which forces we want to compute with the method `.select_force()` of the calculator. We can choose to target different forces :\n",
    "* `energy='energy'` : DFT total energy\n",
    "* `energy='singlets'`: BSE singlet energy\n",
    "* `energy='triplets'`: BSE triplet energy \n",
    "* `energy='qp'`: Quasi particile energy\n",
    "\n",
    "For `singlets`, `triplets` and `qp` one can also specify which particular level to target to compute the forces. For example `energy='singlets', level=0` will target the lowest lying singlet state. "
   ]
  },
  {
   "cell_type": "code",
   "execution_count": 3,
   "metadata": {
    "execution": {
     "iopub.execute_input": "2025-10-31T05:51:23.836303Z",
     "iopub.status.busy": "2025-10-31T05:51:23.836134Z",
     "iopub.status.idle": "2025-10-31T05:51:23.841754Z",
     "shell.execute_reply": "2025-10-31T05:51:23.841237Z"
    }
   },
   "outputs": [],
   "source": [
    "# instantiate the calculator\n",
    "calc = xtp(nthreads=2)\n",
    "\n",
    "# select the force we want to use\n",
    "calc.select_force(energy='singlets', level=0, dynamic=False)\n",
    "\n",
    "# this allows to change all options\n",
    "# calc.options.dftpackage.functional = 'PBE'\n",
    "calc.options.dftpackage.basisset = 'def2-svp'\n",
    "calc.options.dftpackage.auxbasisset = 'aux-def2-svp'\n",
    "\n",
    "# set up the logger\n",
    "calc.options.logging_file = 'CO_forces.log'\n",
    "\n",
    "# set the calculator\n",
    "atoms.calc = calc"
   ]
  },
  {
   "cell_type": "markdown",
   "metadata": {},
   "source": [
    "## Compute the forces\n",
    "\n",
    "If you are simply interested in computing the forces, they can easily be accessed through the `.get_forces()` method"
   ]
  },
  {
   "cell_type": "code",
   "execution_count": 4,
   "metadata": {
    "execution": {
     "iopub.execute_input": "2025-10-31T05:51:23.843852Z",
     "iopub.status.busy": "2025-10-31T05:51:23.843684Z",
     "iopub.status.idle": "2025-10-31T05:52:05.933182Z",
     "shell.execute_reply": "2025-10-31T05:52:05.932635Z"
    }
   },
   "outputs": [
    {
     "name": "stdout",
     "output_type": "stream",
     "text": [
      " Using 2 threads\n",
      "... ... Reading structure from CO.xyz\n",
      "... ... Saving data to CO.orb\n",
      "... ... Writing output to CO_summary.xml Using 2 threads\n",
      "... ... Reading structure from CO.xyz\n",
      "... ... Saving data to CO.orb\n",
      "... ... Writing output to CO_summary.xml"
     ]
    },
    {
     "name": "stdout",
     "output_type": "stream",
     "text": [
      " Using 2 threads\n",
      "... ... Reading structure from CO.xyz\n",
      "... ... Saving data to CO.orb\n",
      "... ... Writing output to CO_summary.xml Using 2 threads\n",
      "... ... Reading structure from CO.xyz\n",
      "... ... Saving data to CO.orb\n",
      "... ... Writing output to CO_summary.xml"
     ]
    },
    {
     "name": "stdout",
     "output_type": "stream",
     "text": [
      " Using 2 threads\n",
      "... ... Reading structure from CO.xyz\n",
      "... ... Saving data to CO.orb\n",
      "... ... Writing output to CO_summary.xml"
     ]
    },
    {
     "name": "stdout",
     "output_type": "stream",
     "text": [
      " Using 2 threads\n",
      "... ... Reading structure from CO.xyz\n",
      "... ... Saving data to CO.orb\n",
      "... ... Writing output to CO_summary.xml Using 2 threads\n",
      "... ... Reading structure from CO.xyz"
     ]
    },
    {
     "name": "stdout",
     "output_type": "stream",
     "text": [
      "\n",
      "... ... Saving data to CO.orb\n",
      "... ... Writing output to CO_summary.xml Using 2 threads\n",
      "... ... Reading structure from CO.xyz"
     ]
    },
    {
     "name": "stdout",
     "output_type": "stream",
     "text": [
      "\n",
      "... ... Saving data to CO.orb\n",
      "... ... Writing output to CO_summary.xml Using 2 threads\n",
      "... ... Reading structure from CO.xyz\n",
      "... ... Saving data to CO.orb\n",
      "... ... Writing output to CO_summary.xml"
     ]
    },
    {
     "name": "stdout",
     "output_type": "stream",
     "text": [
      " Using 2 threads\n",
      "... ... Reading structure from CO.xyz\n",
      "... ... Saving data to CO.orb\n",
      "... ... Writing output to CO_summary.xml"
     ]
    },
    {
     "name": "stdout",
     "output_type": "stream",
     "text": [
      " Using 2 threads\n",
      "... ... Reading structure from CO.xyz\n",
      "... ... Saving data to CO.orb\n",
      "... ... Writing output to CO_summary.xml Using 2 threads\n",
      "... ... Reading structure from CO.xyz\n",
      "... ... Saving data to CO.orb\n",
      "... ... Writing output to CO_summary.xml"
     ]
    },
    {
     "data": {
      "text/plain": [
       "array([[-3.50510732e-08, -3.51221274e-08,  3.19442266e-01],\n",
       "       [ 3.50155460e-08,  3.51292329e-08, -3.19442265e-01]])"
      ]
     },
     "execution_count": 4,
     "metadata": {},
     "output_type": "execute_result"
    }
   ],
   "source": [
    "atoms.get_forces()"
   ]
  },
  {
   "cell_type": "markdown",
   "metadata": {},
   "source": [
    "## Geometry optimization\n",
    "\n",
    "Geometry optimization can be run by leveraging the intrinsic ASE capabilities. We can for example use the QuasiNewton method implemented in ASE to relax the molecular structre in the excited states we have just specified. We here fix the number of steps to 10 to limit the computational cost. "
   ]
  },
  {
   "cell_type": "code",
   "execution_count": 5,
   "metadata": {
    "execution": {
     "iopub.execute_input": "2025-10-31T05:52:05.935581Z",
     "iopub.status.busy": "2025-10-31T05:52:05.935361Z",
     "iopub.status.idle": "2025-10-31T06:00:35.510174Z",
     "shell.execute_reply": "2025-10-31T06:00:35.509645Z"
    }
   },
   "outputs": [
    {
     "name": "stdout",
     "output_type": "stream",
     "text": [
      " Using 2 threads\n",
      "... ... Reading structure from CO.xyz\n",
      "... ... Saving data to CO.orb\n",
      "... ... Writing output to CO_summary.xml                    Step     Time          Energy          fmax\n",
      "GoodOldQuasiNewton:    0 05:52:09     -113.101204        0.319442\n"
     ]
    },
    {
     "name": "stdout",
     "output_type": "stream",
     "text": [
      " Using 2 threads\n",
      "... ... Reading structure from CO.xyz"
     ]
    },
    {
     "name": "stdout",
     "output_type": "stream",
     "text": [
      "\n",
      "... ... Saving data to CO.orb\n",
      "... ... Writing output to CO_summary.xml"
     ]
    },
    {
     "name": "stdout",
     "output_type": "stream",
     "text": [
      " Using 2 threads\n",
      "... ... Reading structure from CO.xyz\n",
      "... ... Saving data to CO.orb\n",
      "... ... Writing output to CO_summary.xml Using 2 threads\n",
      "... ... Reading structure from CO.xyz\n",
      "... ... Saving data to CO.orb\n",
      "... ... Writing output to CO_summary.xml"
     ]
    },
    {
     "name": "stdout",
     "output_type": "stream",
     "text": [
      " Using 2 threads\n",
      "... ... Reading structure from CO.xyz\n",
      "... ... Saving data to CO.orb\n",
      "... ... Writing output to CO_summary.xml Using 2 threads\n",
      "... ... Reading structure from CO.xyz\n",
      "... ... Saving data to CO.orb\n",
      "... ... Writing output to CO_summary.xml"
     ]
    },
    {
     "name": "stdout",
     "output_type": "stream",
     "text": [
      " Using 2 threads\n",
      "... ... Reading structure from CO.xyz\n",
      "... ... Saving data to CO.orb\n",
      "... ... Writing output to CO_summary.xml Using 2 threads\n",
      "... ... Reading structure from CO.xyz\n",
      "... ... Saving data to CO.orb\n",
      "... ... Writing output to CO_summary.xml"
     ]
    },
    {
     "name": "stdout",
     "output_type": "stream",
     "text": [
      " Using 2 threads\n",
      "... ... Reading structure from CO.xyz\n",
      "... ... Saving data to CO.orb\n",
      "... ... Writing output to CO_summary.xml Using 2 threads\n",
      "... ... Reading structure from CO.xyz"
     ]
    },
    {
     "name": "stdout",
     "output_type": "stream",
     "text": [
      "\n",
      "... ... Saving data to CO.orb\n",
      "... ... Writing output to CO_summary.xml Using 2 threads\n",
      "... ... Reading structure from CO.xyz\n",
      "... ... Saving data to CO.orb\n",
      "... ... Writing output to CO_summary.xml"
     ]
    },
    {
     "name": "stdout",
     "output_type": "stream",
     "text": [
      " Using 2 threads\n",
      "... ... Reading structure from CO.xyz\n",
      "... ... Saving data to CO.orb\n",
      "... ... Writing output to CO_summary.xml Using 2 threads\n",
      "... ... Reading structure from CO.xyz\n",
      "... ... Saving data to CO.orb\n",
      "... ... Writing output to CO_summary.xml"
     ]
    },
    {
     "name": "stdout",
     "output_type": "stream",
     "text": [
      "new radius 0.012247 \n"
     ]
    },
    {
     "name": "stdout",
     "output_type": "stream",
     "text": [
      "eigenvalues 20.00 20.00 20.00 \n"
     ]
    },
    {
     "name": "stdout",
     "output_type": "stream",
     "text": [
      "Corrected Newton step: abs(D) = 0.02 \n"
     ]
    },
    {
     "name": "stdout",
     "output_type": "stream",
     "text": [
      "Abs Gbar estimate 0.04277062890569565\n"
     ]
    },
    {
     "name": "stdout",
     "output_type": "stream",
     "text": [
      " Using 2 threads\n",
      "... ... Reading structure from CO.xyz"
     ]
    },
    {
     "name": "stdout",
     "output_type": "stream",
     "text": [
      "\n",
      "... ... Saving data to CO.orb\n",
      "... ... Writing output to CO_summary.xmlGoodOldQuasiNewton:    1 05:52:55     -113.098913        0.319442\n"
     ]
    },
    {
     "name": "stdout",
     "output_type": "stream",
     "text": [
      " Using 2 threads\n",
      "... ... Reading structure from CO.xyz"
     ]
    },
    {
     "name": "stdout",
     "output_type": "stream",
     "text": [
      "\n",
      "... ... Saving data to CO.orb\n",
      "... ... Writing output to CO_summary.xml"
     ]
    },
    {
     "name": "stdout",
     "output_type": "stream",
     "text": [
      " Using 2 threads\n",
      "... ... Reading structure from CO.xyz\n",
      "... ... Saving data to CO.orb\n",
      "... ... Writing output to CO_summary.xml"
     ]
    },
    {
     "name": "stdout",
     "output_type": "stream",
     "text": [
      " Using 2 threads\n",
      "... ... Reading structure from CO.xyz\n",
      "... ... Saving data to CO.orb\n",
      "... ... Writing output to CO_summary.xml Using 2 threads\n",
      "... ... Reading structure from CO.xyz"
     ]
    },
    {
     "name": "stdout",
     "output_type": "stream",
     "text": [
      "\n",
      "... ... Saving data to CO.orb\n",
      "... ... Writing output to CO_summary.xml Using 2 threads\n",
      "... ... Reading structure from CO.xyz"
     ]
    },
    {
     "name": "stdout",
     "output_type": "stream",
     "text": [
      "\n",
      "... ... Saving data to CO.orb\n",
      "... ... Writing output to CO_summary.xml Using 2 threads\n",
      "... ... Reading structure from CO.xyz"
     ]
    },
    {
     "name": "stdout",
     "output_type": "stream",
     "text": [
      "\n",
      "... ... Saving data to CO.orb\n",
      "... ... Writing output to CO_summary.xml Using 2 threads\n",
      "... ... Reading structure from CO.xyz\n",
      "... ... Saving data to CO.orb\n",
      "... ... Writing output to CO_summary.xml"
     ]
    },
    {
     "name": "stdout",
     "output_type": "stream",
     "text": [
      " Using 2 threads\n",
      "... ... Reading structure from CO.xyz\n",
      "... ... Saving data to CO.orb\n",
      "... ... Writing output to CO_summary.xml"
     ]
    },
    {
     "name": "stdout",
     "output_type": "stream",
     "text": [
      " Using 2 threads\n",
      "... ... Reading structure from CO.xyz\n",
      "... ... Saving data to CO.orb\n",
      "... ... Writing output to CO_summary.xml Using 2 threads\n",
      "... ... Reading structure from CO.xyz\n",
      "... ... Saving data to CO.orb\n",
      "... ... Writing output to CO_summary.xml"
     ]
    },
    {
     "name": "stdout",
     "output_type": "stream",
     "text": [
      " Using 2 threads\n",
      "... ... Reading structure from CO.xyz\n",
      "... ... Saving data to CO.orb\n",
      "... ... Writing output to CO_summary.xml Using 2 threads\n",
      "... ... Reading structure from CO.xyz"
     ]
    },
    {
     "name": "stdout",
     "output_type": "stream",
     "text": [
      "\n",
      "... ... Saving data to CO.orb\n",
      "... ... Writing output to CO_summary.xmlenergies -113.09891342922485 -113.10120446793195\n"
     ]
    },
    {
     "name": "stdout",
     "output_type": "stream",
     "text": [
      "reject step\n"
     ]
    },
    {
     "name": "stdout",
     "output_type": "stream",
     "text": [
      "new radius 0.006124 \n"
     ]
    },
    {
     "name": "stdout",
     "output_type": "stream",
     "text": [
      "eigenvalues 20.00 20.00 20.00 \n"
     ]
    },
    {
     "name": "stdout",
     "output_type": "stream",
     "text": [
      "Corrected Newton step: abs(D) = 0.02 \n"
     ]
    },
    {
     "name": "stdout",
     "output_type": "stream",
     "text": [
      "Abs Gbar estimate 0.10842867528096961\n"
     ]
    },
    {
     "name": "stdout",
     "output_type": "stream",
     "text": [
      " Using 2 threads\n",
      "... ... Reading structure from CO.xyz"
     ]
    },
    {
     "name": "stdout",
     "output_type": "stream",
     "text": [
      "\n",
      "... ... Saving data to CO.orb\n",
      "... ... Writing output to CO_summary.xmlGoodOldQuasiNewton:    2 05:53:41     -113.100204        0.248356\n"
     ]
    },
    {
     "name": "stdout",
     "output_type": "stream",
     "text": [
      " Using 2 threads\n",
      "... ... Reading structure from CO.xyz"
     ]
    },
    {
     "name": "stdout",
     "output_type": "stream",
     "text": [
      "\n",
      "... ... Saving data to CO.orb\n",
      "... ... Writing output to CO_summary.xml Using 2 threads\n",
      "... ... Reading structure from CO.xyz\n",
      "... ... Saving data to CO.orb\n",
      "... ... Writing output to CO_summary.xml"
     ]
    },
    {
     "name": "stdout",
     "output_type": "stream",
     "text": [
      " Using 2 threads\n",
      "... ... Reading structure from CO.xyz\n",
      "... ... Saving data to CO.orb\n",
      "... ... Writing output to CO_summary.xml Using 2 threads\n",
      "... ... Reading structure from CO.xyz"
     ]
    },
    {
     "name": "stdout",
     "output_type": "stream",
     "text": [
      "\n",
      "... ... Saving data to CO.orb\n",
      "... ... Writing output to CO_summary.xml"
     ]
    },
    {
     "name": "stdout",
     "output_type": "stream",
     "text": [
      " Using 2 threads\n",
      "... ... Reading structure from CO.xyz\n",
      "... ... Saving data to CO.orb\n",
      "... ... Writing output to CO_summary.xml Using 2 threads\n",
      "... ... Reading structure from CO.xyz"
     ]
    },
    {
     "name": "stdout",
     "output_type": "stream",
     "text": [
      "\n",
      "... ... Saving data to CO.orb\n",
      "... ... Writing output to CO_summary.xml"
     ]
    },
    {
     "name": "stdout",
     "output_type": "stream",
     "text": [
      " Using 2 threads\n",
      "... ... Reading structure from CO.xyz\n",
      "... ... Saving data to CO.orb\n",
      "... ... Writing output to CO_summary.xml Using 2 threads\n",
      "... ... Reading structure from CO.xyz\n",
      "... ... Saving data to CO.orb\n",
      "... ... Writing output to CO_summary.xml"
     ]
    },
    {
     "name": "stdout",
     "output_type": "stream",
     "text": [
      " Using 2 threads\n",
      "... ... Reading structure from CO.xyz\n",
      "... ... Saving data to CO.orb\n",
      "... ... Writing output to CO_summary.xml Using 2 threads\n",
      "... ... Reading structure from CO.xyz"
     ]
    },
    {
     "name": "stdout",
     "output_type": "stream",
     "text": [
      "\n",
      "... ... Saving data to CO.orb\n",
      "... ... Writing output to CO_summary.xml Using 2 threads\n",
      "... ... Reading structure from CO.xyz\n",
      "... ... Saving data to CO.orb\n",
      "... ... Writing output to CO_summary.xml"
     ]
    },
    {
     "name": "stdout",
     "output_type": "stream",
     "text": [
      " Using 2 threads\n",
      "... ... Reading structure from CO.xyz\n",
      "... ... Saving data to CO.orb\n",
      "... ... Writing output to CO_summary.xmlenergies -113.10020359454671 -113.10120446793195\n"
     ]
    },
    {
     "name": "stdout",
     "output_type": "stream",
     "text": [
      "reject step\n"
     ]
    },
    {
     "name": "stdout",
     "output_type": "stream",
     "text": [
      "new radius 0.003062 \n"
     ]
    },
    {
     "name": "stdout",
     "output_type": "stream",
     "text": [
      "eigenvalues 20.00 20.00 20.00 \n"
     ]
    },
    {
     "name": "stdout",
     "output_type": "stream",
     "text": [
      "Corrected Newton step: abs(D) = 0.02 \n"
     ]
    },
    {
     "name": "stdout",
     "output_type": "stream",
     "text": [
      "Abs Gbar estimate 0.1525076991715426\n"
     ]
    },
    {
     "name": "stdout",
     "output_type": "stream",
     "text": [
      " Using 2 threads\n",
      "... ... Reading structure from CO.xyz\n",
      "... ... Saving data to CO.orb\n",
      "... ... Writing output to CO_summary.xml"
     ]
    },
    {
     "name": "stdout",
     "output_type": "stream",
     "text": [
      "GoodOldQuasiNewton:    3 05:54:28     -113.100741        0.282670\n"
     ]
    },
    {
     "name": "stdout",
     "output_type": "stream",
     "text": [
      " Using 2 threads\n",
      "... ... Reading structure from CO.xyz"
     ]
    },
    {
     "name": "stdout",
     "output_type": "stream",
     "text": [
      "\n",
      "... ... Saving data to CO.orb\n",
      "... ... Writing output to CO_summary.xml"
     ]
    },
    {
     "name": "stdout",
     "output_type": "stream",
     "text": [
      " Using 2 threads\n",
      "... ... Reading structure from CO.xyz"
     ]
    },
    {
     "name": "stdout",
     "output_type": "stream",
     "text": [
      "\n",
      "... ... Saving data to CO.orb\n",
      "... ... Writing output to CO_summary.xml"
     ]
    },
    {
     "name": "stdout",
     "output_type": "stream",
     "text": [
      " Using 2 threads\n",
      "... ... Reading structure from CO.xyz\n",
      "... ... Saving data to CO.orb\n",
      "... ... Writing output to CO_summary.xml"
     ]
    },
    {
     "name": "stdout",
     "output_type": "stream",
     "text": [
      " Using 2 threads\n",
      "... ... Reading structure from CO.xyz"
     ]
    },
    {
     "name": "stdout",
     "output_type": "stream",
     "text": [
      "\n",
      "... ... Saving data to CO.orb\n",
      "... ... Writing output to CO_summary.xml"
     ]
    },
    {
     "name": "stdout",
     "output_type": "stream",
     "text": [
      " Using 2 threads\n",
      "... ... Reading structure from CO.xyz"
     ]
    },
    {
     "name": "stdout",
     "output_type": "stream",
     "text": [
      "\n",
      "... ... Saving data to CO.orb\n",
      "... ... Writing output to CO_summary.xml Using 2 threads\n",
      "... ... Reading structure from CO.xyz\n",
      "... ... Saving data to CO.orb\n",
      "... ... Writing output to CO_summary.xml"
     ]
    },
    {
     "name": "stdout",
     "output_type": "stream",
     "text": [
      " Using 2 threads\n",
      "... ... Reading structure from CO.xyz\n",
      "... ... Saving data to CO.orb\n",
      "... ... Writing output to CO_summary.xml Using 2 threads\n",
      "... ... Reading structure from CO.xyz\n",
      "... ... Saving data to CO.orb\n",
      "... ... Writing output to CO_summary.xml"
     ]
    },
    {
     "name": "stdout",
     "output_type": "stream",
     "text": [
      " Using 2 threads\n",
      "... ... Reading structure from CO.xyz\n",
      "... ... Saving data to CO.orb\n",
      "... ... Writing output to CO_summary.xml Using 2 threads\n",
      "... ... Reading structure from CO.xyz"
     ]
    },
    {
     "name": "stdout",
     "output_type": "stream",
     "text": [
      "\n",
      "... ... Saving data to CO.orb\n",
      "... ... Writing output to CO_summary.xml Using 2 threads\n",
      "... ... Reading structure from CO.xyz\n",
      "... ... Saving data to CO.orb\n",
      "... ... Writing output to CO_summary.xml"
     ]
    },
    {
     "name": "stdout",
     "output_type": "stream",
     "text": [
      " Using 2 threads\n",
      "... ... Reading structure from CO.xyz\n",
      "... ... Saving data to CO.orb\n",
      "... ... Writing output to CO_summary.xmlenergies -113.10074132944273 -113.10120446793195\n"
     ]
    },
    {
     "name": "stdout",
     "output_type": "stream",
     "text": [
      "reject step\n"
     ]
    },
    {
     "name": "stdout",
     "output_type": "stream",
     "text": [
      "new radius 0.001531 \n"
     ]
    },
    {
     "name": "stdout",
     "output_type": "stream",
     "text": [
      "eigenvalues 20.00 20.00 20.00 \n"
     ]
    },
    {
     "name": "stdout",
     "output_type": "stream",
     "text": [
      "Corrected Newton step: abs(D) = 0.02 \n"
     ]
    },
    {
     "name": "stdout",
     "output_type": "stream",
     "text": [
      "Abs Gbar estimate 0.17735971071133033\n"
     ]
    },
    {
     "name": "stdout",
     "output_type": "stream",
     "text": [
      " Using 2 threads\n",
      "... ... Reading structure from CO.xyz"
     ]
    },
    {
     "name": "stdout",
     "output_type": "stream",
     "text": [
      "\n",
      "... ... Saving data to CO.orb\n",
      "... ... Writing output to CO_summary.xmlGoodOldQuasiNewton:    4 05:55:15     -113.100982        0.300957\n"
     ]
    },
    {
     "name": "stdout",
     "output_type": "stream",
     "text": [
      " Using 2 threads\n",
      "... ... Reading structure from CO.xyz\n",
      "... ... Saving data to CO.orb\n",
      "... ... Writing output to CO_summary.xml Using 2 threads\n",
      "... ... Reading structure from CO.xyz\n",
      "... ... Saving data to CO.orb\n",
      "... ... Writing output to CO_summary.xml"
     ]
    },
    {
     "name": "stdout",
     "output_type": "stream",
     "text": [
      " Using 2 threads\n",
      "... ... Reading structure from CO.xyz\n",
      "... ... Saving data to CO.orb\n",
      "... ... Writing output to CO_summary.xml Using 2 threads\n",
      "... ... Reading structure from CO.xyz\n",
      "... ... Saving data to CO.orb\n",
      "... ... Writing output to CO_summary.xml"
     ]
    },
    {
     "name": "stdout",
     "output_type": "stream",
     "text": [
      " Using 2 threads\n",
      "... ... Reading structure from CO.xyz\n",
      "... ... Saving data to CO.orb\n",
      "... ... Writing output to CO_summary.xml Using 2 threads\n",
      "... ... Reading structure from CO.xyz\n",
      "... ... Saving data to CO.orb\n",
      "... ... Writing output to CO_summary.xml"
     ]
    },
    {
     "name": "stdout",
     "output_type": "stream",
     "text": [
      " Using 2 threads\n",
      "... ... Reading structure from CO.xyz\n",
      "... ... Saving data to CO.orb\n",
      "... ... Writing output to CO_summary.xml Using 2 threads\n",
      "... ... Reading structure from CO.xyz\n",
      "... ... Saving data to CO.orb\n",
      "... ... Writing output to CO_summary.xml"
     ]
    },
    {
     "name": "stdout",
     "output_type": "stream",
     "text": [
      " Using 2 threads\n",
      "... ... Reading structure from CO.xyz\n",
      "... ... Saving data to CO.orb\n",
      "... ... Writing output to CO_summary.xml Using 2 threads\n",
      "... ... Reading structure from CO.xyz"
     ]
    },
    {
     "name": "stdout",
     "output_type": "stream",
     "text": [
      "\n",
      "... ... Saving data to CO.orb\n",
      "... ... Writing output to CO_summary.xml Using 2 threads\n",
      "... ... Reading structure from CO.xyz\n",
      "... ... Saving data to CO.orb\n",
      "... ... Writing output to CO_summary.xml"
     ]
    },
    {
     "name": "stdout",
     "output_type": "stream",
     "text": [
      " Using 2 threads\n",
      "... ... Reading structure from CO.xyz\n",
      "... ... Saving data to CO.orb\n",
      "... ... Writing output to CO_summary.xmlenergies -113.10098236796318 -113.10120446793195\n"
     ]
    },
    {
     "name": "stdout",
     "output_type": "stream",
     "text": [
      "reject step\n"
     ]
    },
    {
     "name": "stdout",
     "output_type": "stream",
     "text": [
      "new radius 0.000765 \n"
     ]
    },
    {
     "name": "stdout",
     "output_type": "stream",
     "text": [
      "eigenvalues 20.00 20.00 20.00 \n"
     ]
    },
    {
     "name": "stdout",
     "output_type": "stream",
     "text": [
      "Corrected Newton step: abs(D) = 0.02 \n"
     ]
    },
    {
     "name": "stdout",
     "output_type": "stream",
     "text": [
      "Abs Gbar estimate 0.19048884158640939\n"
     ]
    },
    {
     "name": "stdout",
     "output_type": "stream",
     "text": [
      " Using 2 threads\n",
      "... ... Reading structure from CO.xyz"
     ]
    },
    {
     "name": "stdout",
     "output_type": "stream",
     "text": [
      "\n",
      "... ... Saving data to CO.orb\n",
      "... ... Writing output to CO_summary.xmlGoodOldQuasiNewton:    5 05:56:01     -113.101096        0.310036\n"
     ]
    },
    {
     "name": "stdout",
     "output_type": "stream",
     "text": [
      " Using 2 threads\n",
      "... ... Reading structure from CO.xyz"
     ]
    },
    {
     "name": "stdout",
     "output_type": "stream",
     "text": [
      "\n",
      "... ... Saving data to CO.orb\n",
      "... ... Writing output to CO_summary.xml Using 2 threads\n",
      "... ... Reading structure from CO.xyz\n",
      "... ... Saving data to CO.orb\n",
      "... ... Writing output to CO_summary.xml"
     ]
    },
    {
     "name": "stdout",
     "output_type": "stream",
     "text": [
      " Using 2 threads\n",
      "... ... Reading structure from CO.xyz\n",
      "... ... Saving data to CO.orb\n",
      "... ... Writing output to CO_summary.xml"
     ]
    },
    {
     "name": "stdout",
     "output_type": "stream",
     "text": [
      " Using 2 threads\n",
      "... ... Reading structure from CO.xyz\n",
      "... ... Saving data to CO.orb\n",
      "... ... Writing output to CO_summary.xml Using 2 threads\n",
      "... ... Reading structure from CO.xyz\n",
      "... ... Saving data to CO.orb\n",
      "... ... Writing output to CO_summary.xml"
     ]
    },
    {
     "name": "stdout",
     "output_type": "stream",
     "text": [
      " Using 2 threads\n",
      "... ... Reading structure from CO.xyz\n",
      "... ... Saving data to CO.orb\n",
      "... ... Writing output to CO_summary.xml"
     ]
    },
    {
     "name": "stdout",
     "output_type": "stream",
     "text": [
      " Using 2 threads\n",
      "... ... Reading structure from CO.xyz\n",
      "... ... Saving data to CO.orb\n",
      "... ... Writing output to CO_summary.xml"
     ]
    },
    {
     "name": "stdout",
     "output_type": "stream",
     "text": [
      " Using 2 threads\n",
      "... ... Reading structure from CO.xyz\n",
      "... ... Saving data to CO.orb\n",
      "... ... Writing output to CO_summary.xml Using 2 threads\n",
      "... ... Reading structure from CO.xyz\n",
      "... ... Saving data to CO.orb\n",
      "... ... Writing output to CO_summary.xml"
     ]
    },
    {
     "name": "stdout",
     "output_type": "stream",
     "text": [
      " Using 2 threads\n",
      "... ... Reading structure from CO.xyz\n",
      "... ... Saving data to CO.orb\n",
      "... ... Writing output to CO_summary.xml"
     ]
    },
    {
     "name": "stdout",
     "output_type": "stream",
     "text": [
      " Using 2 threads\n",
      "... ... Reading structure from CO.xyz\n",
      "... ... Saving data to CO.orb\n",
      "... ... Writing output to CO_summary.xml Using 2 threads\n",
      "... ... Reading structure from CO.xyz"
     ]
    },
    {
     "name": "stdout",
     "output_type": "stream",
     "text": [
      "\n",
      "... ... Saving data to CO.orb\n",
      "... ... Writing output to CO_summary.xmlenergies -113.10109580257748 -113.10120446793195\n"
     ]
    },
    {
     "name": "stdout",
     "output_type": "stream",
     "text": [
      "reject step\n"
     ]
    },
    {
     "name": "stdout",
     "output_type": "stream",
     "text": [
      "new radius 0.000383 \n"
     ]
    },
    {
     "name": "stdout",
     "output_type": "stream",
     "text": [
      "eigenvalues 20.00 20.00 20.00 \n"
     ]
    },
    {
     "name": "stdout",
     "output_type": "stream",
     "text": [
      "Corrected Newton step: abs(D) = 0.02 \n"
     ]
    },
    {
     "name": "stdout",
     "output_type": "stream",
     "text": [
      "Abs Gbar estimate 0.19722918825415303\n"
     ]
    },
    {
     "name": "stdout",
     "output_type": "stream",
     "text": [
      " Using 2 threads\n",
      "... ... Reading structure from CO.xyz"
     ]
    },
    {
     "name": "stdout",
     "output_type": "stream",
     "text": [
      "\n",
      "... ... Saving data to CO.orb\n",
      "... ... Writing output to CO_summary.xmlGoodOldQuasiNewton:    6 05:56:48     -113.101151        0.314725\n"
     ]
    },
    {
     "name": "stdout",
     "output_type": "stream",
     "text": [
      " Using 2 threads\n",
      "... ... Reading structure from CO.xyz"
     ]
    },
    {
     "name": "stdout",
     "output_type": "stream",
     "text": [
      "\n",
      "... ... Saving data to CO.orb\n",
      "... ... Writing output to CO_summary.xml"
     ]
    },
    {
     "name": "stdout",
     "output_type": "stream",
     "text": [
      " Using 2 threads\n",
      "... ... Reading structure from CO.xyz"
     ]
    },
    {
     "name": "stdout",
     "output_type": "stream",
     "text": [
      "\n",
      "... ... Saving data to CO.orb\n",
      "... ... Writing output to CO_summary.xml Using 2 threads\n",
      "... ... Reading structure from CO.xyz\n",
      "... ... Saving data to CO.orb\n",
      "... ... Writing output to CO_summary.xml"
     ]
    },
    {
     "name": "stdout",
     "output_type": "stream",
     "text": [
      " Using 2 threads\n",
      "... ... Reading structure from CO.xyz\n",
      "... ... Saving data to CO.orb\n",
      "... ... Writing output to CO_summary.xml Using 2 threads\n",
      "... ... Reading structure from CO.xyz"
     ]
    },
    {
     "name": "stdout",
     "output_type": "stream",
     "text": [
      "\n",
      "... ... Saving data to CO.orb\n",
      "... ... Writing output to CO_summary.xml Using 2 threads\n",
      "... ... Reading structure from CO.xyz"
     ]
    },
    {
     "name": "stdout",
     "output_type": "stream",
     "text": [
      "\n",
      "... ... Saving data to CO.orb\n",
      "... ... Writing output to CO_summary.xml"
     ]
    },
    {
     "name": "stdout",
     "output_type": "stream",
     "text": [
      " Using 2 threads\n",
      "... ... Reading structure from CO.xyz\n",
      "... ... Saving data to CO.orb\n",
      "... ... Writing output to CO_summary.xml Using 2 threads\n",
      "... ... Reading structure from CO.xyz\n",
      "... ... Saving data to CO.orb\n",
      "... ... Writing output to CO_summary.xml"
     ]
    },
    {
     "name": "stdout",
     "output_type": "stream",
     "text": [
      " Using 2 threads\n",
      "... ... Reading structure from CO.xyz\n",
      "... ... Saving data to CO.orb\n",
      "... ... Writing output to CO_summary.xml Using 2 threads\n",
      "... ... Reading structure from CO.xyz"
     ]
    },
    {
     "name": "stdout",
     "output_type": "stream",
     "text": [
      "\n",
      "... ... Saving data to CO.orb\n",
      "... ... Writing output to CO_summary.xml"
     ]
    },
    {
     "name": "stdout",
     "output_type": "stream",
     "text": [
      " Using 2 threads\n",
      "... ... Reading structure from CO.xyz\n",
      "... ... Saving data to CO.orb\n",
      "... ... Writing output to CO_summary.xml Using 2 threads\n",
      "... ... Reading structure from CO.xyz"
     ]
    },
    {
     "name": "stdout",
     "output_type": "stream",
     "text": [
      "\n",
      "... ... Saving data to CO.orb\n",
      "... ... Writing output to CO_summary.xmlenergies -113.1011507349915 -113.10120446793195\n"
     ]
    },
    {
     "name": "stdout",
     "output_type": "stream",
     "text": [
      "energy change; actual: 0.000054 estimated: -0.000171 \n"
     ]
    },
    {
     "name": "stdout",
     "output_type": "stream",
     "text": [
      "Energy prediction factor 1.3134242659185666\n"
     ]
    },
    {
     "name": "stdout",
     "output_type": "stream",
     "text": [
      "Force prediction factor -1.452662839242584\n"
     ]
    },
    {
     "name": "stdout",
     "output_type": "stream",
     "text": [
      "Scale factors 0.364431 0.364431 \n"
     ]
    },
    {
     "name": "stdout",
     "output_type": "stream",
     "text": [
      "new radius 0.000139 \n"
     ]
    },
    {
     "name": "stdout",
     "output_type": "stream",
     "text": [
      "eigenvalues 8.15 20.00 20.00 \n"
     ]
    },
    {
     "name": "stdout",
     "output_type": "stream",
     "text": [
      "Corrected Newton step: abs(D) = 0.06 \n"
     ]
    },
    {
     "name": "stdout",
     "output_type": "stream",
     "text": [
      "Abs Gbar estimate 0.20025737114296965\n"
     ]
    },
    {
     "name": "stdout",
     "output_type": "stream",
     "text": [
      " Using 2 threads\n",
      "... ... Reading structure from CO.xyz"
     ]
    },
    {
     "name": "stdout",
     "output_type": "stream",
     "text": [
      "\n",
      "... ... Saving data to CO.orb\n",
      "... ... Writing output to CO_summary.xmlGoodOldQuasiNewton:    7 05:57:34     -113.101131        0.317235\n"
     ]
    },
    {
     "name": "stdout",
     "output_type": "stream",
     "text": [
      " Using 2 threads\n",
      "... ... Reading structure from CO.xyz"
     ]
    },
    {
     "name": "stdout",
     "output_type": "stream",
     "text": [
      "\n",
      "... ... Saving data to CO.orb\n",
      "... ... Writing output to CO_summary.xml Using 2 threads\n",
      "... ... Reading structure from CO.xyz"
     ]
    },
    {
     "name": "stdout",
     "output_type": "stream",
     "text": [
      "\n",
      "... ... Saving data to CO.orb\n",
      "... ... Writing output to CO_summary.xml"
     ]
    },
    {
     "name": "stdout",
     "output_type": "stream",
     "text": [
      " Using 2 threads\n",
      "... ... Reading structure from CO.xyz\n",
      "... ... Saving data to CO.orb\n",
      "... ... Writing output to CO_summary.xml Using 2 threads\n",
      "... ... Reading structure from CO.xyz\n",
      "... ... Saving data to CO.orb\n",
      "... ... Writing output to CO_summary.xml"
     ]
    },
    {
     "name": "stdout",
     "output_type": "stream",
     "text": [
      " Using 2 threads\n",
      "... ... Reading structure from CO.xyz\n",
      "... ... Saving data to CO.orb\n",
      "... ... Writing output to CO_summary.xml Using 2 threads\n",
      "... ... Reading structure from CO.xyz\n",
      "... ... Saving data to CO.orb\n",
      "... ... Writing output to CO_summary.xml"
     ]
    },
    {
     "name": "stdout",
     "output_type": "stream",
     "text": [
      " Using 2 threads\n",
      "... ... Reading structure from CO.xyz\n",
      "... ... Saving data to CO.orb\n",
      "... ... Writing output to CO_summary.xml Using 2 threads\n",
      "... ... Reading structure from CO.xyz\n",
      "... ... Saving data to CO.orb\n",
      "... ... Writing output to CO_summary.xml"
     ]
    },
    {
     "name": "stdout",
     "output_type": "stream",
     "text": [
      " Using 2 threads\n",
      "... ... Reading structure from CO.xyz\n",
      "... ... Saving data to CO.orb\n",
      "... ... Writing output to CO_summary.xml"
     ]
    },
    {
     "name": "stdout",
     "output_type": "stream",
     "text": [
      " Using 2 threads\n",
      "... ... Reading structure from CO.xyz\n",
      "... ... Saving data to CO.orb\n",
      "... ... Writing output to CO_summary.xml Using 2 threads\n",
      "... ... Reading structure from CO.xyz"
     ]
    },
    {
     "name": "stdout",
     "output_type": "stream",
     "text": [
      "\n",
      "... ... Saving data to CO.orb\n",
      "... ... Writing output to CO_summary.xml Using 2 threads\n",
      "... ... Reading structure from CO.xyz"
     ]
    },
    {
     "name": "stdout",
     "output_type": "stream",
     "text": [
      "\n",
      "... ... Saving data to CO.orb\n",
      "... ... Writing output to CO_summary.xmlenergies -113.10113085427948 -113.1011507349915\n"
     ]
    },
    {
     "name": "stdout",
     "output_type": "stream",
     "text": [
      "energy change; actual: 0.000020 estimated: -0.000062 \n"
     ]
    },
    {
     "name": "stdout",
     "output_type": "stream",
     "text": [
      "Energy prediction factor 1.318107992717199\n"
     ]
    },
    {
     "name": "stdout",
     "output_type": "stream",
     "text": [
      "Force prediction factor 0.125417288627287\n"
     ]
    },
    {
     "name": "stdout",
     "output_type": "stream",
     "text": [
      "Scale factors 0.364431 0.510204 \n"
     ]
    },
    {
     "name": "stdout",
     "output_type": "stream",
     "text": [
      "new radius 0.000100 \n"
     ]
    },
    {
     "name": "stdout",
     "output_type": "stream",
     "text": [
      "eigenvalues 9.32 20.00 20.00 \n"
     ]
    },
    {
     "name": "stdout",
     "output_type": "stream",
     "text": [
      "Corrected Newton step: abs(D) = 0.05 \n"
     ]
    },
    {
     "name": "stdout",
     "output_type": "stream",
     "text": [
      "Abs Gbar estimate 0.19927811504267318\n"
     ]
    },
    {
     "name": "stdout",
     "output_type": "stream",
     "text": [
      " Using 2 threads\n",
      "... ... Reading structure from CO.xyz"
     ]
    },
    {
     "name": "stdout",
     "output_type": "stream",
     "text": [
      "\n",
      "... ... Saving data to CO.orb\n",
      "... ... Writing output to CO_summary.xmlGoodOldQuasiNewton:    8 05:58:20     -113.101117        0.316316\n"
     ]
    },
    {
     "name": "stdout",
     "output_type": "stream",
     "text": [
      " Using 2 threads\n",
      "... ... Reading structure from CO.xyz\n",
      "... ... Saving data to CO.orb\n",
      "... ... Writing output to CO_summary.xml Using 2 threads\n",
      "... ... Reading structure from CO.xyz\n",
      "... ... Saving data to CO.orb\n",
      "... ... Writing output to CO_summary.xml"
     ]
    },
    {
     "name": "stdout",
     "output_type": "stream",
     "text": [
      " Using 2 threads\n",
      "... ... Reading structure from CO.xyz\n",
      "... ... Saving data to CO.orb\n",
      "... ... Writing output to CO_summary.xml Using 2 threads\n",
      "... ... Reading structure from CO.xyz\n",
      "... ... Saving data to CO.orb\n",
      "... ... Writing output to CO_summary.xml"
     ]
    },
    {
     "name": "stdout",
     "output_type": "stream",
     "text": [
      " Using 2 threads\n",
      "... ... Reading structure from CO.xyz\n",
      "... ... Saving data to CO.orb\n",
      "... ... Writing output to CO_summary.xml Using 2 threads\n",
      "... ... Reading structure from CO.xyz\n",
      "... ... Saving data to CO.orb\n",
      "... ... Writing output to CO_summary.xml"
     ]
    },
    {
     "name": "stdout",
     "output_type": "stream",
     "text": [
      " Using 2 threads\n",
      "... ... Reading structure from CO.xyz\n",
      "... ... Saving data to CO.orb\n",
      "... ... Writing output to CO_summary.xml"
     ]
    },
    {
     "name": "stdout",
     "output_type": "stream",
     "text": [
      " Using 2 threads\n",
      "... ... Reading structure from CO.xyz\n",
      "... ... Saving data to CO.orb\n",
      "... ... Writing output to CO_summary.xml"
     ]
    },
    {
     "name": "stdout",
     "output_type": "stream",
     "text": [
      " Using 2 threads\n",
      "... ... Reading structure from CO.xyz\n",
      "... ... Saving data to CO.orb\n",
      "... ... Writing output to CO_summary.xml"
     ]
    },
    {
     "name": "stdout",
     "output_type": "stream",
     "text": [
      " Using 2 threads\n",
      "... ... Reading structure from CO.xyz\n",
      "... ... Saving data to CO.orb\n",
      "... ... Writing output to CO_summary.xml"
     ]
    },
    {
     "name": "stdout",
     "output_type": "stream",
     "text": [
      " Using 2 threads\n",
      "... ... Reading structure from CO.xyz\n",
      "... ... Saving data to CO.orb\n",
      "... ... Writing output to CO_summary.xml Using 2 threads\n",
      "... ... Reading structure from CO.xyz"
     ]
    },
    {
     "name": "stdout",
     "output_type": "stream",
     "text": [
      "\n",
      "... ... Saving data to CO.orb\n",
      "... ... Writing output to CO_summary.xmlenergies -113.10111650360594 -113.10113085427948\n"
     ]
    },
    {
     "name": "stdout",
     "output_type": "stream",
     "text": [
      "energy change; actual: 0.000014 estimated: -0.000045 \n"
     ]
    },
    {
     "name": "stdout",
     "output_type": "stream",
     "text": [
      "Energy prediction factor 1.3211361364070742\n"
     ]
    },
    {
     "name": "stdout",
     "output_type": "stream",
     "text": [
      "Force prediction factor 0.09444088803337745\n"
     ]
    },
    {
     "name": "stdout",
     "output_type": "stream",
     "text": [
      "Scale factors 0.364431 0.510204 \n"
     ]
    },
    {
     "name": "stdout",
     "output_type": "stream",
     "text": [
      "new radius 0.000100 \n"
     ]
    },
    {
     "name": "stdout",
     "output_type": "stream",
     "text": [
      "eigenvalues 10.30 20.00 20.00 \n"
     ]
    },
    {
     "name": "stdout",
     "output_type": "stream",
     "text": [
      "Corrected Newton step: abs(D) = 0.04 \n"
     ]
    },
    {
     "name": "stdout",
     "output_type": "stream",
     "text": [
      "Abs Gbar estimate 0.19827331864235373\n"
     ]
    },
    {
     "name": "stdout",
     "output_type": "stream",
     "text": [
      " Using 2 threads\n",
      "... ... Reading structure from CO.xyz\n",
      "... ... Saving data to CO.orb\n",
      "... ... Writing output to CO_summary.xmlGoodOldQuasiNewton:    9 05:59:07     -113.101102        0.315588\n"
     ]
    },
    {
     "name": "stdout",
     "output_type": "stream",
     "text": [
      " Using 2 threads\n",
      "... ... Reading structure from CO.xyz"
     ]
    },
    {
     "name": "stdout",
     "output_type": "stream",
     "text": [
      "\n",
      "... ... Saving data to CO.orb\n",
      "... ... Writing output to CO_summary.xml Using 2 threads\n",
      "... ... Reading structure from CO.xyz\n",
      "... ... Saving data to CO.orb\n",
      "... ... Writing output to CO_summary.xml"
     ]
    },
    {
     "name": "stdout",
     "output_type": "stream",
     "text": [
      " Using 2 threads\n",
      "... ... Reading structure from CO.xyz\n",
      "... ... Saving data to CO.orb\n",
      "... ... Writing output to CO_summary.xml Using 2 threads\n",
      "... ... Reading structure from CO.xyz\n",
      "... ... Saving data to CO.orb\n",
      "... ... Writing output to CO_summary.xml"
     ]
    },
    {
     "name": "stdout",
     "output_type": "stream",
     "text": [
      " Using 2 threads\n",
      "... ... Reading structure from CO.xyz\n",
      "... ... Saving data to CO.orb\n",
      "... ... Writing output to CO_summary.xml"
     ]
    },
    {
     "name": "stdout",
     "output_type": "stream",
     "text": [
      " Using 2 threads\n",
      "... ... Reading structure from CO.xyz\n",
      "... ... Saving data to CO.orb\n",
      "... ... Writing output to CO_summary.xml Using 2 threads\n",
      "... ... Reading structure from CO.xyz"
     ]
    },
    {
     "name": "stdout",
     "output_type": "stream",
     "text": [
      "\n",
      "... ... Saving data to CO.orb\n",
      "... ... Writing output to CO_summary.xml Using 2 threads\n",
      "... ... Reading structure from CO.xyz\n",
      "... ... Saving data to CO.orb\n",
      "... ... Writing output to CO_summary.xml"
     ]
    },
    {
     "name": "stdout",
     "output_type": "stream",
     "text": [
      " Using 2 threads\n",
      "... ... Reading structure from CO.xyz\n",
      "... ... Saving data to CO.orb\n",
      "... ... Writing output to CO_summary.xml Using 2 threads\n",
      "... ... Reading structure from CO.xyz"
     ]
    },
    {
     "name": "stdout",
     "output_type": "stream",
     "text": [
      "\n",
      "... ... Saving data to CO.orb\n",
      "... ... Writing output to CO_summary.xml Using 2 threads\n",
      "... ... Reading structure from CO.xyz\n",
      "... ... Saving data to CO.orb\n",
      "... ... Writing output to CO_summary.xml"
     ]
    },
    {
     "name": "stdout",
     "output_type": "stream",
     "text": [
      " Using 2 threads\n",
      "... ... Reading structure from CO.xyz\n",
      "... ... Saving data to CO.orb\n",
      "... ... Writing output to CO_summary.xmlenergies -113.10110207138331 -113.10111650360594\n"
     ]
    },
    {
     "name": "stdout",
     "output_type": "stream",
     "text": [
      "energy change; actual: 0.000014 estimated: -0.000045 \n"
     ]
    },
    {
     "name": "stdout",
     "output_type": "stream",
     "text": [
      "Energy prediction factor 1.3237421631936404\n"
     ]
    },
    {
     "name": "stdout",
     "output_type": "stream",
     "text": [
      "Force prediction factor -0.31214042696412825\n"
     ]
    },
    {
     "name": "stdout",
     "output_type": "stream",
     "text": [
      "Scale factors 0.364431 0.364431 \n"
     ]
    },
    {
     "name": "stdout",
     "output_type": "stream",
     "text": [
      "new radius 0.000100 \n"
     ]
    },
    {
     "name": "stdout",
     "output_type": "stream",
     "text": [
      "eigenvalues 7.85 20.00 20.00 \n"
     ]
    },
    {
     "name": "stdout",
     "output_type": "stream",
     "text": [
      "Corrected Newton step: abs(D) = 0.06 \n"
     ]
    },
    {
     "name": "stdout",
     "output_type": "stream",
     "text": [
      "Abs Gbar estimate 0.19779292997621\n"
     ]
    },
    {
     "name": "stdout",
     "output_type": "stream",
     "text": [
      " Using 2 threads\n",
      "... ... Reading structure from CO.xyz\n",
      "... ... Saving data to CO.orb\n",
      "... ... Writing output to CO_summary.xml"
     ]
    },
    {
     "name": "stdout",
     "output_type": "stream",
     "text": [
      "GoodOldQuasiNewton:   10 05:59:53     -113.101088        0.315033\n"
     ]
    },
    {
     "name": "stdout",
     "output_type": "stream",
     "text": [
      " Using 2 threads\n",
      "... ... Reading structure from CO.xyz\n",
      "... ... Saving data to CO.orb\n",
      "... ... Writing output to CO_summary.xml Using 2 threads\n",
      "... ... Reading structure from CO.xyz"
     ]
    },
    {
     "name": "stdout",
     "output_type": "stream",
     "text": [
      "\n",
      "... ... Saving data to CO.orb\n",
      "... ... Writing output to CO_summary.xml Using 2 threads\n",
      "... ... Reading structure from CO.xyz\n",
      "... ... Saving data to CO.orb\n",
      "... ... Writing output to CO_summary.xml"
     ]
    },
    {
     "name": "stdout",
     "output_type": "stream",
     "text": [
      " Using 2 threads\n",
      "... ... Reading structure from CO.xyz\n",
      "... ... Saving data to CO.orb\n",
      "... ... Writing output to CO_summary.xml Using 2 threads\n",
      "... ... Reading structure from CO.xyz\n",
      "... ... Saving data to CO.orb\n",
      "... ... Writing output to CO_summary.xml"
     ]
    },
    {
     "name": "stdout",
     "output_type": "stream",
     "text": [
      " Using 2 threads\n",
      "... ... Reading structure from CO.xyz\n",
      "... ... Saving data to CO.orb\n",
      "... ... Writing output to CO_summary.xml Using 2 threads\n",
      "... ... Reading structure from CO.xyz\n",
      "... ... Saving data to CO.orb\n",
      "... ... Writing output to CO_summary.xml"
     ]
    },
    {
     "name": "stdout",
     "output_type": "stream",
     "text": [
      " Using 2 threads\n",
      "... ... Reading structure from CO.xyz\n",
      "... ... Saving data to CO.orb\n",
      "... ... Writing output to CO_summary.xml Using 2 threads\n",
      "... ... Reading structure from CO.xyz"
     ]
    },
    {
     "name": "stdout",
     "output_type": "stream",
     "text": [
      "\n",
      "... ... Saving data to CO.orb\n",
      "... ... Writing output to CO_summary.xml Using 2 threads\n",
      "... ... Reading structure from CO.xyz\n",
      "... ... Saving data to CO.orb\n",
      "... ... Writing output to CO_summary.xml"
     ]
    },
    {
     "name": "stdout",
     "output_type": "stream",
     "text": [
      " Using 2 threads\n",
      "... ... Reading structure from CO.xyz\n",
      "... ... Saving data to CO.orb\n",
      "... ... Writing output to CO_summary.xml Using 2 threads\n",
      "... ... Reading structure from CO.xyz\n",
      "... ... Saving data to CO.orb\n",
      "... ... Writing output to CO_summary.xml"
     ]
    }
   ],
   "source": [
    "dyn = GoodOldQuasiNewton(atoms, trajectory='test.traj')\n",
    "dyn.run(fmax=0.05, steps=10)\n",
    "write('final.xyz', atoms)"
   ]
  }
 ],
 "metadata": {
  "kernelspec": {
   "display_name": "votca_test",
   "language": "python",
   "name": "python3"
  },
  "language_info": {
   "codemirror_mode": {
    "name": "ipython",
    "version": 3
   },
   "file_extension": ".py",
   "mimetype": "text/x-python",
   "name": "python",
   "nbconvert_exporter": "python",
   "pygments_lexer": "ipython3",
   "version": "3.13.7"
  }
 },
 "nbformat": 4,
 "nbformat_minor": 2
}
