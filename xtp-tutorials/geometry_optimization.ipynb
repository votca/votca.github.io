{
 "cells": [
  {
   "cell_type": "markdown",
   "metadata": {},
   "source": [
    "# Atomic Forces and Geometry Optimizaiton\n",
    "\n",
    "## What this tutorial is about \n",
    "\n",
    "In this tutorial we will learn how to compute the excited state atomic forces of a molecular structure and how to use these to perform geometry optimization. Let's start by importing the relevant modules"
   ]
  },
  {
   "cell_type": "code",
   "execution_count": 1,
   "metadata": {
    "execution": {
     "iopub.execute_input": "2024-09-20T05:17:56.275815Z",
     "iopub.status.busy": "2024-09-20T05:17:56.275550Z",
     "iopub.status.idle": "2024-09-20T05:17:56.829469Z",
     "shell.execute_reply": "2024-09-20T05:17:56.828846Z"
    }
   },
   "outputs": [],
   "source": [
    "from pyxtp import xtp\n",
    "from ase.io import write\n",
    "from ase.build import molecule\n",
    "from ase.optimize import GoodOldQuasiNewton"
   ]
  },
  {
   "cell_type": "markdown",
   "metadata": {},
   "source": [
    "## Define the molecular structure\n",
    "\n",
    "We define here a `CO` molecule in its ground state geometry.  "
   ]
  },
  {
   "cell_type": "code",
   "execution_count": 2,
   "metadata": {
    "execution": {
     "iopub.execute_input": "2024-09-20T05:17:56.832815Z",
     "iopub.status.busy": "2024-09-20T05:17:56.832306Z",
     "iopub.status.idle": "2024-09-20T05:17:56.844748Z",
     "shell.execute_reply": "2024-09-20T05:17:56.844112Z"
    }
   },
   "outputs": [],
   "source": [
    "atoms = molecule('CO')"
   ]
  },
  {
   "cell_type": "markdown",
   "metadata": {},
   "source": [
    "## Configure the `xtp` calculator\n",
    "\n",
    "We now define the `xtp` calculator and configure it to target particular forces. We can select which forces we want to compute with the method `.select_force()` of the calculator. We can choose to target different forces :\n",
    "* `energy='energy'` : DFT total energy\n",
    "* `energy='singlets'`: BSE singlet energy\n",
    "* `energy='triplets'`: BSE triplet energy \n",
    "* `energy='qp'`: Quasi particile energy\n",
    "\n",
    "For `singlets`, `triplets` and `qp` one can also specify which particular level to target to compute the forces. For example `energy='singlets', level=0` will target the lowest lying singlet state. "
   ]
  },
  {
   "cell_type": "code",
   "execution_count": 3,
   "metadata": {
    "execution": {
     "iopub.execute_input": "2024-09-20T05:17:56.847892Z",
     "iopub.status.busy": "2024-09-20T05:17:56.847429Z",
     "iopub.status.idle": "2024-09-20T05:17:56.853903Z",
     "shell.execute_reply": "2024-09-20T05:17:56.853433Z"
    }
   },
   "outputs": [],
   "source": [
    "# instantiate the calculator\n",
    "calc = xtp(nthreads=2)\n",
    "\n",
    "# select the force we want to use\n",
    "calc.select_force(energy='singlets', level=0, dynamic=False)\n",
    "\n",
    "# this allows to change all options\n",
    "# calc.options.dftpackage.functional = 'PBE'\n",
    "calc.options.dftpackage.basisset = 'def2-svp'\n",
    "calc.options.dftpackage.auxbasisset = 'aux-def2-svp'\n",
    "\n",
    "# set up the logger\n",
    "calc.options.logging_file = 'CO_forces.log'\n",
    "\n",
    "# set the calculator\n",
    "atoms.calc = calc"
   ]
  },
  {
   "cell_type": "markdown",
   "metadata": {},
   "source": [
    "## Compute the forces\n",
    "\n",
    "If you are simply interested in computing the forces, they can easily be accessed through the `.get_forces()` method"
   ]
  },
  {
   "cell_type": "code",
   "execution_count": 4,
   "metadata": {
    "execution": {
     "iopub.execute_input": "2024-09-20T05:17:56.856740Z",
     "iopub.status.busy": "2024-09-20T05:17:56.856271Z",
     "iopub.status.idle": "2024-09-20T05:18:43.124696Z",
     "shell.execute_reply": "2024-09-20T05:18:43.123616Z"
    }
   },
   "outputs": [
    {
     "name": "stdout",
     "output_type": "stream",
     "text": [
      " Using 2 threads\n",
      "... ... Reading structure from CO.xyz\n",
      "... ... Saving data to CO.orb\n",
      "... ... Writing output to CO_summary.xml Using 2 threads\n",
      "... ... Reading structure from CO.xyz"
     ]
    },
    {
     "name": "stdout",
     "output_type": "stream",
     "text": [
      "\n",
      "... ... Saving data to CO.orb\n",
      "... ... Writing output to CO_summary.xml"
     ]
    },
    {
     "name": "stdout",
     "output_type": "stream",
     "text": [
      " Using 2 threads\n",
      "... ... Reading structure from CO.xyz\n",
      "... ... Saving data to CO.orb\n",
      "... ... Writing output to CO_summary.xml"
     ]
    },
    {
     "name": "stdout",
     "output_type": "stream",
     "text": [
      " Using 2 threads\n",
      "... ... Reading structure from CO.xyz\n",
      "... ... Saving data to CO.orb\n",
      "... ... Writing output to CO_summary.xml"
     ]
    },
    {
     "name": "stdout",
     "output_type": "stream",
     "text": [
      " Using 2 threads\n",
      "... ... Reading structure from CO.xyz\n",
      "... ... Saving data to CO.orb\n",
      "... ... Writing output to CO_summary.xml Using 2 threads\n",
      "... ... Reading structure from CO.xyz"
     ]
    },
    {
     "name": "stdout",
     "output_type": "stream",
     "text": [
      "\n",
      "... ... Saving data to CO.orb\n",
      "... ... Writing output to CO_summary.xml"
     ]
    },
    {
     "name": "stdout",
     "output_type": "stream",
     "text": [
      " Using 2 threads\n",
      "... ... Reading structure from CO.xyz\n",
      "... ... Saving data to CO.orb\n",
      "... ... Writing output to CO_summary.xml Using 2 threads\n",
      "... ... Reading structure from CO.xyz"
     ]
    },
    {
     "name": "stdout",
     "output_type": "stream",
     "text": [
      "\n",
      "... ... Saving data to CO.orb\n",
      "... ... Writing output to CO_summary.xml"
     ]
    },
    {
     "name": "stdout",
     "output_type": "stream",
     "text": [
      " Using 2 threads\n",
      "... ... Reading structure from CO.xyz\n",
      "... ... Saving data to CO.orb\n",
      "... ... Writing output to CO_summary.xml Using 2 threads\n",
      "... ... Reading structure from CO.xyz"
     ]
    },
    {
     "name": "stdout",
     "output_type": "stream",
     "text": [
      "\n",
      "... ... Saving data to CO.orb\n",
      "... ... Writing output to CO_summary.xml"
     ]
    },
    {
     "name": "stdout",
     "output_type": "stream",
     "text": [
      " Using 2 threads\n",
      "... ... Reading structure from CO.xyz\n",
      "... ... Saving data to CO.orb\n",
      "... ... Writing output to CO_summary.xml"
     ]
    },
    {
     "name": "stdout",
     "output_type": "stream",
     "text": [
      " Using 2 threads\n",
      "... ... Reading structure from CO.xyz\n",
      "... ... Saving data to CO.orb\n",
      "... ... Writing output to CO_summary.xml"
     ]
    },
    {
     "data": {
      "text/plain": [
       "array([[-3.51292329e-08, -3.51718654e-08,  3.19442265e-01],\n",
       "       [ 3.51008111e-08,  3.51505491e-08, -3.19442265e-01]])"
      ]
     },
     "execution_count": 4,
     "metadata": {},
     "output_type": "execute_result"
    }
   ],
   "source": [
    "atoms.get_forces()"
   ]
  },
  {
   "cell_type": "markdown",
   "metadata": {},
   "source": [
    "## Geometry optimization\n",
    "\n",
    "Geometry optimization can be run by leveraging the intrinsic ASE capabilities. We can for example use the QuasiNewton method implemented in ASE to relax the molecular structre in the excited states we have just specified. We here fix the number of steps to 10 to limit the computational cost. "
   ]
  },
  {
   "cell_type": "code",
   "execution_count": 5,
   "metadata": {
    "execution": {
     "iopub.execute_input": "2024-09-20T05:18:43.127386Z",
     "iopub.status.busy": "2024-09-20T05:18:43.127190Z",
     "iopub.status.idle": "2024-09-20T05:27:57.804898Z",
     "shell.execute_reply": "2024-09-20T05:27:57.804251Z"
    }
   },
   "outputs": [
    {
     "name": "stdout",
     "output_type": "stream",
     "text": [
      " Using 2 threads\n",
      "... ... Reading structure from CO.xyz\n",
      "... ... Saving data to CO.orb\n",
      "... ... Writing output to CO_summary.xml                    Step     Time          Energy         fmax\n",
      "GoodOldQuasiNewton:    0 05:18:47     -113.101204        0.3194\n"
     ]
    },
    {
     "name": "stdout",
     "output_type": "stream",
     "text": [
      " Using 2 threads\n",
      "... ... Reading structure from CO.xyz"
     ]
    },
    {
     "name": "stdout",
     "output_type": "stream",
     "text": [
      "\n",
      "... ... Saving data to CO.orb\n",
      "... ... Writing output to CO_summary.xml"
     ]
    },
    {
     "name": "stdout",
     "output_type": "stream",
     "text": [
      " Using 2 threads"
     ]
    },
    {
     "name": "stdout",
     "output_type": "stream",
     "text": [
      "\n",
      "... ... Reading structure from CO.xyz\n",
      "... ... Saving data to CO.orb\n",
      "... ... Writing output to CO_summary.xml Using 2 threads\n",
      "... ... Reading structure from CO.xyz\n",
      "... ... Saving data to CO.orb\n",
      "... ... Writing output to CO_summary.xml"
     ]
    },
    {
     "name": "stdout",
     "output_type": "stream",
     "text": [
      " Using 2 threads\n",
      "... ... Reading structure from CO.xyz\n",
      "... ... Saving data to CO.orb\n",
      "... ... Writing output to CO_summary.xml"
     ]
    },
    {
     "name": "stdout",
     "output_type": "stream",
     "text": [
      " Using 2 threads\n",
      "... ... Reading structure from CO.xyz\n",
      "... ... Saving data to CO.orb\n",
      "... ... Writing output to CO_summary.xml Using 2 threads\n",
      "... ... Reading structure from CO.xyz\n",
      "... ... Saving data to CO.orb\n",
      "... ... Writing output to CO_summary.xml"
     ]
    },
    {
     "name": "stdout",
     "output_type": "stream",
     "text": [
      " Using 2 threads\n",
      "... ... Reading structure from CO.xyz\n",
      "... ... Saving data to CO.orb\n",
      "... ... Writing output to CO_summary.xml"
     ]
    },
    {
     "name": "stdout",
     "output_type": "stream",
     "text": [
      " Using 2 threads\n",
      "... ... Reading structure from CO.xyz\n",
      "... ... Saving data to CO.orb\n",
      "... ... Writing output to CO_summary.xml"
     ]
    },
    {
     "name": "stdout",
     "output_type": "stream",
     "text": [
      " Using 2 threads\n",
      "... ... Reading structure from CO.xyz\n",
      "... ... Saving data to CO.orb\n",
      "... ... Writing output to CO_summary.xml Using 2 threads\n",
      "... ... Reading structure from CO.xyz"
     ]
    },
    {
     "name": "stdout",
     "output_type": "stream",
     "text": [
      "\n",
      "... ... Saving data to CO.orb\n",
      "... ... Writing output to CO_summary.xml"
     ]
    },
    {
     "name": "stdout",
     "output_type": "stream",
     "text": [
      " Using 2 threads\n",
      "... ... Reading structure from CO.xyz\n",
      "... ... Saving data to CO.orb\n",
      "... ... Writing output to CO_summary.xml"
     ]
    },
    {
     "name": "stdout",
     "output_type": "stream",
     "text": [
      " Using 2 threads\n",
      "... ... Reading structure from CO.xyz\n",
      "... ... Saving data to CO.orb\n",
      "... ... Writing output to CO_summary.xmlnew radius 0.012247 \n"
     ]
    },
    {
     "name": "stdout",
     "output_type": "stream",
     "text": [
      "eigenvalues 20.00 20.00 20.00 \n"
     ]
    },
    {
     "name": "stdout",
     "output_type": "stream",
     "text": [
      "Corrected Newton step: abs(D) = 0.02 \n"
     ]
    },
    {
     "name": "stdout",
     "output_type": "stream",
     "text": [
      "Abs Gbar estimate 0.04277062912549338\n"
     ]
    },
    {
     "name": "stdout",
     "output_type": "stream",
     "text": [
      " Using 2 threads\n",
      "... ... Reading structure from CO.xyz"
     ]
    },
    {
     "name": "stdout",
     "output_type": "stream",
     "text": [
      "\n",
      "... ... Saving data to CO.orb\n",
      "... ... Writing output to CO_summary.xmlGoodOldQuasiNewton:    1 05:19:37     -113.098913        0.3194\n"
     ]
    },
    {
     "name": "stdout",
     "output_type": "stream",
     "text": [
      " Using 2 threads\n",
      "... ... Reading structure from CO.xyz\n",
      "... ... Saving data to CO.orb\n",
      "... ... Writing output to CO_summary.xml Using 2 threads\n",
      "... ... Reading structure from CO.xyz\n",
      "... ... Saving data to CO.orb\n",
      "... ... Writing output to CO_summary.xml"
     ]
    },
    {
     "name": "stdout",
     "output_type": "stream",
     "text": [
      " Using 2 threads\n",
      "... ... Reading structure from CO.xyz\n",
      "... ... Saving data to CO.orb\n",
      "... ... Writing output to CO_summary.xml"
     ]
    },
    {
     "name": "stdout",
     "output_type": "stream",
     "text": [
      " Using 2 threads\n",
      "... ... Reading structure from CO.xyz\n",
      "... ... Saving data to CO.orb\n",
      "... ... Writing output to CO_summary.xml"
     ]
    },
    {
     "name": "stdout",
     "output_type": "stream",
     "text": [
      " Using 2 threads\n",
      "... ... Reading structure from CO.xyz\n",
      "... ... Saving data to CO.orb\n",
      "... ... Writing output to CO_summary.xml"
     ]
    },
    {
     "name": "stdout",
     "output_type": "stream",
     "text": [
      " Using 2 threads\n",
      "... ... Reading structure from CO.xyz\n",
      "... ... Saving data to CO.orb\n",
      "... ... Writing output to CO_summary.xml"
     ]
    },
    {
     "name": "stdout",
     "output_type": "stream",
     "text": [
      " Using 2 threads\n",
      "... ... Reading structure from CO.xyz\n",
      "... ... Saving data to CO.orb\n",
      "... ... Writing output to CO_summary.xml Using 2 threads\n",
      "... ... Reading structure from CO.xyz"
     ]
    },
    {
     "name": "stdout",
     "output_type": "stream",
     "text": [
      "\n",
      "... ... Saving data to CO.orb\n",
      "... ... Writing output to CO_summary.xml Using 2 threads\n",
      "... ... Reading structure from CO.xyz"
     ]
    },
    {
     "name": "stdout",
     "output_type": "stream",
     "text": [
      "\n",
      "... ... Saving data to CO.orb\n",
      "... ... Writing output to CO_summary.xml Using 2 threads\n",
      "... ... Reading structure from CO.xyz\n",
      "... ... Saving data to CO.orb\n",
      "... ... Writing output to CO_summary.xml"
     ]
    },
    {
     "name": "stdout",
     "output_type": "stream",
     "text": [
      " Using 2 threads\n",
      "... ... Reading structure from CO.xyz\n",
      "... ... Saving data to CO.orb\n",
      "... ... Writing output to CO_summary.xml Using 2 threads\n",
      "... ... Reading structure from CO.xyz\n",
      "... ... Saving data to CO.orb\n",
      "... ... Writing output to CO_summary.xml"
     ]
    },
    {
     "name": "stdout",
     "output_type": "stream",
     "text": [
      "energies -113.09891342922343 -113.10120446793374\n"
     ]
    },
    {
     "name": "stdout",
     "output_type": "stream",
     "text": [
      "reject step\n"
     ]
    },
    {
     "name": "stdout",
     "output_type": "stream",
     "text": [
      "new radius 0.006124 \n"
     ]
    },
    {
     "name": "stdout",
     "output_type": "stream",
     "text": [
      "eigenvalues 20.00 20.00 20.00 \n"
     ]
    },
    {
     "name": "stdout",
     "output_type": "stream",
     "text": [
      "Corrected Newton step: abs(D) = 0.02 \n"
     ]
    },
    {
     "name": "stdout",
     "output_type": "stream",
     "text": [
      "Abs Gbar estimate 0.10842867545335763\n"
     ]
    },
    {
     "name": "stdout",
     "output_type": "stream",
     "text": [
      " Using 2 threads\n",
      "... ... Reading structure from CO.xyz"
     ]
    },
    {
     "name": "stdout",
     "output_type": "stream",
     "text": [
      "\n",
      "... ... Saving data to CO.orb\n",
      "... ... Writing output to CO_summary.xmlGoodOldQuasiNewton:    2 05:20:27     -113.100204        0.1650\n"
     ]
    },
    {
     "name": "stdout",
     "output_type": "stream",
     "text": [
      " Using 2 threads\n",
      "... ... Reading structure from CO.xyz"
     ]
    },
    {
     "name": "stdout",
     "output_type": "stream",
     "text": [
      "\n",
      "... ... Saving data to CO.orb\n",
      "... ... Writing output to CO_summary.xml"
     ]
    },
    {
     "name": "stdout",
     "output_type": "stream",
     "text": [
      " Using 2 threads\n",
      "... ... Reading structure from CO.xyz\n",
      "... ... Saving data to CO.orb\n",
      "... ... Writing output to CO_summary.xml"
     ]
    },
    {
     "name": "stdout",
     "output_type": "stream",
     "text": [
      " Using 2 threads\n",
      "... ... Reading structure from CO.xyz"
     ]
    },
    {
     "name": "stdout",
     "output_type": "stream",
     "text": [
      "\n",
      "... ... Saving data to CO.orb\n",
      "... ... Writing output to CO_summary.xml"
     ]
    },
    {
     "name": "stdout",
     "output_type": "stream",
     "text": [
      " Using 2 threads\n",
      "... ... Reading structure from CO.xyz"
     ]
    },
    {
     "name": "stdout",
     "output_type": "stream",
     "text": [
      "\n",
      "... ... Saving data to CO.orb\n",
      "... ... Writing output to CO_summary.xml"
     ]
    },
    {
     "name": "stdout",
     "output_type": "stream",
     "text": [
      " Using 2 threads\n",
      "... ... Reading structure from CO.xyz"
     ]
    },
    {
     "name": "stdout",
     "output_type": "stream",
     "text": [
      "\n",
      "... ... Saving data to CO.orb\n",
      "... ... Writing output to CO_summary.xml Using 2 threads\n",
      "... ... Reading structure from CO.xyz"
     ]
    },
    {
     "name": "stdout",
     "output_type": "stream",
     "text": [
      "\n",
      "... ... Saving data to CO.orb\n",
      "... ... Writing output to CO_summary.xml"
     ]
    },
    {
     "name": "stdout",
     "output_type": "stream",
     "text": [
      " Using 2 threads\n",
      "... ... Reading structure from CO.xyz\n",
      "... ... Saving data to CO.orb\n",
      "... ... Writing output to CO_summary.xml Using 2 threads\n",
      "... ... Reading structure from CO.xyz"
     ]
    },
    {
     "name": "stdout",
     "output_type": "stream",
     "text": [
      "\n",
      "... ... Saving data to CO.orb\n",
      "... ... Writing output to CO_summary.xml"
     ]
    },
    {
     "name": "stdout",
     "output_type": "stream",
     "text": [
      " Using 2 threads\n",
      "... ... Reading structure from CO.xyz\n",
      "... ... Saving data to CO.orb\n",
      "... ... Writing output to CO_summary.xml Using 2 threads\n",
      "... ... Reading structure from CO.xyz\n",
      "... ... Saving data to CO.orb\n",
      "... ... Writing output to CO_summary.xml"
     ]
    },
    {
     "name": "stdout",
     "output_type": "stream",
     "text": [
      " Using 2 threads\n",
      "... ... Reading structure from CO.xyz\n",
      "... ... Saving data to CO.orb\n",
      "... ... Writing output to CO_summary.xml"
     ]
    },
    {
     "name": "stdout",
     "output_type": "stream",
     "text": [
      " Using 2 threads\n",
      "... ... Reading structure from CO.xyz\n",
      "... ... Saving data to CO.orb\n",
      "... ... Writing output to CO_summary.xmlenergies -113.10020359454818 -113.10120446793374\n"
     ]
    },
    {
     "name": "stdout",
     "output_type": "stream",
     "text": [
      "reject step\n"
     ]
    },
    {
     "name": "stdout",
     "output_type": "stream",
     "text": [
      "new radius 0.003062 \n"
     ]
    },
    {
     "name": "stdout",
     "output_type": "stream",
     "text": [
      "eigenvalues 20.00 20.00 20.00 \n"
     ]
    },
    {
     "name": "stdout",
     "output_type": "stream",
     "text": [
      "Corrected Newton step: abs(D) = 0.02 \n"
     ]
    },
    {
     "name": "stdout",
     "output_type": "stream",
     "text": [
      "Abs Gbar estimate 0.1525076980773868\n"
     ]
    },
    {
     "name": "stdout",
     "output_type": "stream",
     "text": [
      " Using 2 threads\n",
      "... ... Reading structure from CO.xyz"
     ]
    },
    {
     "name": "stdout",
     "output_type": "stream",
     "text": [
      "\n",
      "... ... Saving data to CO.orb\n",
      "... ... Writing output to CO_summary.xmlGoodOldQuasiNewton:    3 05:21:19     -113.100741        0.1326\n"
     ]
    },
    {
     "name": "stdout",
     "output_type": "stream",
     "text": [
      " Using 2 threads\n",
      "... ... Reading structure from CO.xyz"
     ]
    },
    {
     "name": "stdout",
     "output_type": "stream",
     "text": [
      "\n",
      "... ... Saving data to CO.orb\n",
      "... ... Writing output to CO_summary.xml"
     ]
    },
    {
     "name": "stdout",
     "output_type": "stream",
     "text": [
      " Using 2 threads\n",
      "... ... Reading structure from CO.xyz\n",
      "... ... Saving data to CO.orb\n",
      "... ... Writing output to CO_summary.xml"
     ]
    },
    {
     "name": "stdout",
     "output_type": "stream",
     "text": [
      " Using 2 threads\n",
      "... ... Reading structure from CO.xyz\n",
      "... ... Saving data to CO.orb\n",
      "... ... Writing output to CO_summary.xml Using 2 threads\n",
      "... ... Reading structure from CO.xyz\n",
      "... ... Saving data to CO.orb\n",
      "... ... Writing output to CO_summary.xml"
     ]
    },
    {
     "name": "stdout",
     "output_type": "stream",
     "text": [
      " Using 2 threads\n",
      "... ... Reading structure from CO.xyz\n",
      "... ... Saving data to CO.orb\n",
      "... ... Writing output to CO_summary.xml Using 2 threads\n",
      "... ... Reading structure from CO.xyz\n",
      "... ... Saving data to CO.orb\n",
      "... ... Writing output to CO_summary.xml"
     ]
    },
    {
     "name": "stdout",
     "output_type": "stream",
     "text": [
      " Using 2 threads\n",
      "... ... Reading structure from CO.xyz\n",
      "... ... Saving data to CO.orb\n",
      "... ... Writing output to CO_summary.xml"
     ]
    },
    {
     "name": "stdout",
     "output_type": "stream",
     "text": [
      " Using 2 threads\n",
      "... ... Reading structure from CO.xyz\n",
      "... ... Saving data to CO.orb\n",
      "... ... Writing output to CO_summary.xml Using 2 threads\n",
      "... ... Reading structure from CO.xyz"
     ]
    },
    {
     "name": "stdout",
     "output_type": "stream",
     "text": [
      "\n",
      "... ... Saving data to CO.orb\n",
      "... ... Writing output to CO_summary.xml"
     ]
    },
    {
     "name": "stdout",
     "output_type": "stream",
     "text": [
      " Using 2 threads\n",
      "... ... Reading structure from CO.xyz\n",
      "... ... Saving data to CO.orb\n",
      "... ... Writing output to CO_summary.xml"
     ]
    },
    {
     "name": "stdout",
     "output_type": "stream",
     "text": [
      " Using 2 threads\n",
      "... ... Reading structure from CO.xyz\n",
      "... ... Saving data to CO.orb\n",
      "... ... Writing output to CO_summary.xml"
     ]
    },
    {
     "name": "stdout",
     "output_type": "stream",
     "text": [
      " Using 2 threads\n",
      "... ... Reading structure from CO.xyz\n",
      "... ... Saving data to CO.orb\n",
      "... ... Writing output to CO_summary.xmlenergies -113.10074132944398 -113.10120446793374\n"
     ]
    },
    {
     "name": "stdout",
     "output_type": "stream",
     "text": [
      "reject step\n"
     ]
    },
    {
     "name": "stdout",
     "output_type": "stream",
     "text": [
      "new radius 0.001531 \n"
     ]
    },
    {
     "name": "stdout",
     "output_type": "stream",
     "text": [
      "eigenvalues 20.00 20.00 20.00 \n"
     ]
    },
    {
     "name": "stdout",
     "output_type": "stream",
     "text": [
      "Corrected Newton step: abs(D) = 0.02 \n"
     ]
    },
    {
     "name": "stdout",
     "output_type": "stream",
     "text": [
      "Abs Gbar estimate 0.17735970979806848\n"
     ]
    },
    {
     "name": "stdout",
     "output_type": "stream",
     "text": [
      " Using 2 threads\n",
      "... ... Reading structure from CO.xyz\n",
      "... ... Saving data to CO.orb\n",
      "... ... Writing output to CO_summary.xmlGoodOldQuasiNewton:    4 05:22:10     -113.100982        0.1157\n"
     ]
    },
    {
     "name": "stdout",
     "output_type": "stream",
     "text": [
      " Using 2 threads\n",
      "... ... Reading structure from CO.xyz\n",
      "... ... Saving data to CO.orb\n",
      "... ... Writing output to CO_summary.xml Using 2 threads\n",
      "... ... Reading structure from CO.xyz"
     ]
    },
    {
     "name": "stdout",
     "output_type": "stream",
     "text": [
      "\n",
      "... ... Saving data to CO.orb\n",
      "... ... Writing output to CO_summary.xml"
     ]
    },
    {
     "name": "stdout",
     "output_type": "stream",
     "text": [
      " Using 2 threads\n",
      "... ... Reading structure from CO.xyz\n",
      "... ... Saving data to CO.orb\n",
      "... ... Writing output to CO_summary.xml Using 2 threads\n",
      "... ... Reading structure from CO.xyz\n",
      "... ... Saving data to CO.orb\n",
      "... ... Writing output to CO_summary.xml"
     ]
    },
    {
     "name": "stdout",
     "output_type": "stream",
     "text": [
      " Using 2 threads\n",
      "... ... Reading structure from CO.xyz\n",
      "... ... Saving data to CO.orb\n",
      "... ... Writing output to CO_summary.xml"
     ]
    },
    {
     "name": "stdout",
     "output_type": "stream",
     "text": [
      " Using 2 threads\n",
      "... ... Reading structure from CO.xyz\n",
      "... ... Saving data to CO.orb\n",
      "... ... Writing output to CO_summary.xml"
     ]
    },
    {
     "name": "stdout",
     "output_type": "stream",
     "text": [
      " Using 2 threads\n",
      "... ... Reading structure from CO.xyz\n",
      "... ... Saving data to CO.orb\n",
      "... ... Writing output to CO_summary.xml"
     ]
    },
    {
     "name": "stdout",
     "output_type": "stream",
     "text": [
      " Using 2 threads\n",
      "... ... Reading structure from CO.xyz\n",
      "... ... Saving data to CO.orb\n",
      "... ... Writing output to CO_summary.xml"
     ]
    },
    {
     "name": "stdout",
     "output_type": "stream",
     "text": [
      " Using 2 threads\n",
      "... ... Reading structure from CO.xyz\n",
      "... ... Saving data to CO.orb\n",
      "... ... Writing output to CO_summary.xml"
     ]
    },
    {
     "name": "stdout",
     "output_type": "stream",
     "text": [
      " Using 2 threads\n",
      "... ... Reading structure from CO.xyz\n",
      "... ... Saving data to CO.orb\n",
      "... ... Writing output to CO_summary.xml"
     ]
    },
    {
     "name": "stdout",
     "output_type": "stream",
     "text": [
      " Using 2 threads\n",
      "... ... Reading structure from CO.xyz\n",
      "... ... Saving data to CO.orb\n",
      "... ... Writing output to CO_summary.xml"
     ]
    },
    {
     "name": "stdout",
     "output_type": "stream",
     "text": [
      " Using 2 threads\n",
      "... ... Reading structure from CO.xyz\n",
      "... ... Saving data to CO.orb\n",
      "... ... Writing output to CO_summary.xmlenergies -113.10098236796563 -113.10120446793374\n"
     ]
    },
    {
     "name": "stdout",
     "output_type": "stream",
     "text": [
      "reject step\n"
     ]
    },
    {
     "name": "stdout",
     "output_type": "stream",
     "text": [
      "new radius 0.000765 \n"
     ]
    },
    {
     "name": "stdout",
     "output_type": "stream",
     "text": [
      "eigenvalues 20.00 20.00 20.00 \n"
     ]
    },
    {
     "name": "stdout",
     "output_type": "stream",
     "text": [
      "Corrected Newton step: abs(D) = 0.02 \n"
     ]
    },
    {
     "name": "stdout",
     "output_type": "stream",
     "text": [
      "Abs Gbar estimate 0.19048884059936\n"
     ]
    },
    {
     "name": "stdout",
     "output_type": "stream",
     "text": [
      " Using 2 threads\n",
      "... ... Reading structure from CO.xyz"
     ]
    },
    {
     "name": "stdout",
     "output_type": "stream",
     "text": [
      "\n",
      "... ... Saving data to CO.orb\n",
      "... ... Writing output to CO_summary.xmlGoodOldQuasiNewton:    5 05:23:00     -113.101096        0.1070\n"
     ]
    },
    {
     "name": "stdout",
     "output_type": "stream",
     "text": [
      " Using 2 threads\n",
      "... ... Reading structure from CO.xyz"
     ]
    },
    {
     "name": "stdout",
     "output_type": "stream",
     "text": [
      "\n",
      "... ... Saving data to CO.orb\n",
      "... ... Writing output to CO_summary.xml"
     ]
    },
    {
     "name": "stdout",
     "output_type": "stream",
     "text": [
      " Using 2 threads\n",
      "... ... Reading structure from CO.xyz"
     ]
    },
    {
     "name": "stdout",
     "output_type": "stream",
     "text": [
      "\n",
      "... ... Saving data to CO.orb\n",
      "... ... Writing output to CO_summary.xml"
     ]
    },
    {
     "name": "stdout",
     "output_type": "stream",
     "text": [
      " Using 2 threads\n",
      "... ... Reading structure from CO.xyz\n",
      "... ... Saving data to CO.orb\n",
      "... ... Writing output to CO_summary.xml"
     ]
    },
    {
     "name": "stdout",
     "output_type": "stream",
     "text": [
      " Using 2 threads\n",
      "... ... Reading structure from CO.xyz\n",
      "... ... Saving data to CO.orb\n",
      "... ... Writing output to CO_summary.xml"
     ]
    },
    {
     "name": "stdout",
     "output_type": "stream",
     "text": [
      " Using 2 threads\n",
      "... ... Reading structure from CO.xyz\n",
      "... ... Saving data to CO.orb\n",
      "... ... Writing output to CO_summary.xml"
     ]
    },
    {
     "name": "stdout",
     "output_type": "stream",
     "text": [
      " Using 2 threads\n",
      "... ... Reading structure from CO.xyz\n",
      "... ... Saving data to CO.orb\n",
      "... ... Writing output to CO_summary.xml"
     ]
    },
    {
     "name": "stdout",
     "output_type": "stream",
     "text": [
      " Using 2 threads\n",
      "... ... Reading structure from CO.xyz\n",
      "... ... Saving data to CO.orb\n",
      "... ... Writing output to CO_summary.xml Using 2 threads\n",
      "... ... Reading structure from CO.xyz"
     ]
    },
    {
     "name": "stdout",
     "output_type": "stream",
     "text": [
      "\n",
      "... ... Saving data to CO.orb\n",
      "... ... Writing output to CO_summary.xml"
     ]
    },
    {
     "name": "stdout",
     "output_type": "stream",
     "text": [
      " Using 2 threads\n",
      "... ... Reading structure from CO.xyz\n",
      "... ... Saving data to CO.orb\n",
      "... ... Writing output to CO_summary.xml Using 2 threads\n",
      "... ... Reading structure from CO.xyz"
     ]
    },
    {
     "name": "stdout",
     "output_type": "stream",
     "text": [
      "\n",
      "... ... Saving data to CO.orb\n",
      "... ... Writing output to CO_summary.xml Using 2 threads\n",
      "... ... Reading structure from CO.xyz\n",
      "... ... Saving data to CO.orb\n",
      "... ... Writing output to CO_summary.xml"
     ]
    },
    {
     "name": "stdout",
     "output_type": "stream",
     "text": [
      " Using 2 threads\n",
      "... ... Reading structure from CO.xyz\n",
      "... ... Saving data to CO.orb\n",
      "... ... Writing output to CO_summary.xmlenergies -113.10109580257986 -113.10120446793374\n"
     ]
    },
    {
     "name": "stdout",
     "output_type": "stream",
     "text": [
      "reject step\n"
     ]
    },
    {
     "name": "stdout",
     "output_type": "stream",
     "text": [
      "new radius 0.000383 \n"
     ]
    },
    {
     "name": "stdout",
     "output_type": "stream",
     "text": [
      "eigenvalues 20.00 20.00 20.00 \n"
     ]
    },
    {
     "name": "stdout",
     "output_type": "stream",
     "text": [
      "Corrected Newton step: abs(D) = 0.02 \n"
     ]
    },
    {
     "name": "stdout",
     "output_type": "stream",
     "text": [
      "Abs Gbar estimate 0.19722918724991323\n"
     ]
    },
    {
     "name": "stdout",
     "output_type": "stream",
     "text": [
      " Using 2 threads\n",
      "... ... Reading structure from CO.xyz"
     ]
    },
    {
     "name": "stdout",
     "output_type": "stream",
     "text": [
      "\n",
      "... ... Saving data to CO.orb\n",
      "... ... Writing output to CO_summary.xmlGoodOldQuasiNewton:    6 05:23:51     -113.101151        0.1026\n"
     ]
    },
    {
     "name": "stdout",
     "output_type": "stream",
     "text": [
      " Using 2 threads\n",
      "... ... Reading structure from CO.xyz"
     ]
    },
    {
     "name": "stdout",
     "output_type": "stream",
     "text": [
      "\n",
      "... ... Saving data to CO.orb\n",
      "... ... Writing output to CO_summary.xml Using 2 threads\n",
      "... ... Reading structure from CO.xyz"
     ]
    },
    {
     "name": "stdout",
     "output_type": "stream",
     "text": [
      "\n",
      "... ... Saving data to CO.orb\n",
      "... ... Writing output to CO_summary.xml Using 2 threads\n",
      "... ... Reading structure from CO.xyz"
     ]
    },
    {
     "name": "stdout",
     "output_type": "stream",
     "text": [
      "\n",
      "... ... Saving data to CO.orb\n",
      "... ... Writing output to CO_summary.xml"
     ]
    },
    {
     "name": "stdout",
     "output_type": "stream",
     "text": [
      " Using 2 threads\n",
      "... ... Reading structure from CO.xyz\n",
      "... ... Saving data to CO.orb\n",
      "... ... Writing output to CO_summary.xml"
     ]
    },
    {
     "name": "stdout",
     "output_type": "stream",
     "text": [
      " Using 2 threads\n",
      "... ... Reading structure from CO.xyz\n",
      "... ... Saving data to CO.orb\n",
      "... ... Writing output to CO_summary.xml"
     ]
    },
    {
     "name": "stdout",
     "output_type": "stream",
     "text": [
      " Using 2 threads\n",
      "... ... Reading structure from CO.xyz\n",
      "... ... Saving data to CO.orb\n",
      "... ... Writing output to CO_summary.xml"
     ]
    },
    {
     "name": "stdout",
     "output_type": "stream",
     "text": [
      " Using 2 threads\n",
      "... ... Reading structure from CO.xyz\n",
      "... ... Saving data to CO.orb\n",
      "... ... Writing output to CO_summary.xml Using 2 threads\n",
      "... ... Reading structure from CO.xyz\n",
      "... ... Saving data to CO.orb\n",
      "... ... Writing output to CO_summary.xml"
     ]
    },
    {
     "name": "stdout",
     "output_type": "stream",
     "text": [
      " Using 2 threads\n",
      "... ... Reading structure from CO.xyz\n",
      "... ... Saving data to CO.orb\n",
      "... ... Writing output to CO_summary.xml Using 2 threads\n",
      "... ... Reading structure from CO.xyz"
     ]
    },
    {
     "name": "stdout",
     "output_type": "stream",
     "text": [
      "\n",
      "... ... Saving data to CO.orb\n",
      "... ... Writing output to CO_summary.xml"
     ]
    },
    {
     "name": "stdout",
     "output_type": "stream",
     "text": [
      " Using 2 threads\n",
      "... ... Reading structure from CO.xyz\n",
      "... ... Saving data to CO.orb\n",
      "... ... Writing output to CO_summary.xml"
     ]
    },
    {
     "name": "stdout",
     "output_type": "stream",
     "text": [
      " Using 2 threads\n",
      "... ... Reading structure from CO.xyz\n",
      "... ... Saving data to CO.orb\n",
      "... ... Writing output to CO_summary.xmlenergies -113.10115073499102 -113.10120446793374\n"
     ]
    },
    {
     "name": "stdout",
     "output_type": "stream",
     "text": [
      "energy change; actual: 0.000054 estimated: -0.000171 \n"
     ]
    },
    {
     "name": "stdout",
     "output_type": "stream",
     "text": [
      "Energy prediction factor 1.3134242799655023\n"
     ]
    },
    {
     "name": "stdout",
     "output_type": "stream",
     "text": [
      "Force prediction factor 0.9871071542317894\n"
     ]
    },
    {
     "name": "stdout",
     "output_type": "stream",
     "text": [
      "Scale factors 0.364431 2.744000 \n"
     ]
    },
    {
     "name": "stdout",
     "output_type": "stream",
     "text": [
      "new radius 0.000139 \n"
     ]
    },
    {
     "name": "stdout",
     "output_type": "stream",
     "text": [
      "eigenvalues 20.00 20.00 20.00 \n"
     ]
    },
    {
     "name": "stdout",
     "output_type": "stream",
     "text": [
      "Newton step\n"
     ]
    },
    {
     "name": "stdout",
     "output_type": "stream",
     "text": [
      "Abs Gbar estimate 0.0\n"
     ]
    },
    {
     "name": "stdout",
     "output_type": "stream",
     "text": [
      " Using 2 threads\n",
      "... ... Reading structure from CO.xyz\n",
      "... ... Saving data to CO.orb\n",
      "... ... Writing output to CO_summary.xmlGoodOldQuasiNewton:    7 05:24:42     -113.101164        0.1004\n"
     ]
    },
    {
     "name": "stdout",
     "output_type": "stream",
     "text": [
      " Using 2 threads\n",
      "... ... Reading structure from CO.xyz"
     ]
    },
    {
     "name": "stdout",
     "output_type": "stream",
     "text": [
      "\n",
      "... ... Saving data to CO.orb\n",
      "... ... Writing output to CO_summary.xml"
     ]
    },
    {
     "name": "stdout",
     "output_type": "stream",
     "text": [
      " Using 2 threads\n",
      "... ... Reading structure from CO.xyz"
     ]
    },
    {
     "name": "stdout",
     "output_type": "stream",
     "text": [
      "\n",
      "... ... Saving data to CO.orb\n",
      "... ... Writing output to CO_summary.xml Using 2 threads\n",
      "... ... Reading structure from CO.xyz"
     ]
    },
    {
     "name": "stdout",
     "output_type": "stream",
     "text": [
      "\n",
      "... ... Saving data to CO.orb\n",
      "... ... Writing output to CO_summary.xml Using 2 threads\n",
      "... ... Reading structure from CO.xyz\n",
      "... ... Saving data to CO.orb\n",
      "... ... Writing output to CO_summary.xml"
     ]
    },
    {
     "name": "stdout",
     "output_type": "stream",
     "text": [
      " Using 2 threads\n",
      "... ... Reading structure from CO.xyz\n",
      "... ... Saving data to CO.orb\n",
      "... ... Writing output to CO_summary.xml"
     ]
    },
    {
     "name": "stdout",
     "output_type": "stream",
     "text": [
      " Using 2 threads\n",
      "... ... Reading structure from CO.xyz\n",
      "... ... Saving data to CO.orb\n",
      "... ... Writing output to CO_summary.xml"
     ]
    },
    {
     "name": "stdout",
     "output_type": "stream",
     "text": [
      " Using 2 threads\n",
      "... ... Reading structure from CO.xyz\n",
      "... ... Saving data to CO.orb\n",
      "... ... Writing output to CO_summary.xml"
     ]
    },
    {
     "name": "stdout",
     "output_type": "stream",
     "text": [
      " Using 2 threads\n",
      "... ... Reading structure from CO.xyz\n",
      "... ... Saving data to CO.orb\n",
      "... ... Writing output to CO_summary.xml"
     ]
    },
    {
     "name": "stdout",
     "output_type": "stream",
     "text": [
      " Using 2 threads\n",
      "... ... Reading structure from CO.xyz\n",
      "... ... Saving data to CO.orb\n",
      "... ... Writing output to CO_summary.xml Using 2 threads\n",
      "... ... Reading structure from CO.xyz"
     ]
    },
    {
     "name": "stdout",
     "output_type": "stream",
     "text": [
      "\n",
      "... ... Saving data to CO.orb\n",
      "... ... Writing output to CO_summary.xml"
     ]
    },
    {
     "name": "stdout",
     "output_type": "stream",
     "text": [
      " Using 2 threads\n",
      "... ... Reading structure from CO.xyz\n",
      "... ... Saving data to CO.orb\n",
      "... ... Writing output to CO_summary.xml"
     ]
    },
    {
     "name": "stdout",
     "output_type": "stream",
     "text": [
      " Using 2 threads\n",
      "... ... Reading structure from CO.xyz\n",
      "... ... Saving data to CO.orb\n",
      "... ... Writing output to CO_summary.xmlenergies -113.10116369011206 -113.10115073499102\n"
     ]
    },
    {
     "name": "stdout",
     "output_type": "stream",
     "text": [
      "energy change; actual: -0.000013 estimated: -0.000006 \n"
     ]
    },
    {
     "name": "stdout",
     "output_type": "stream",
     "text": [
      "Energy prediction factor 0.9946121531849772\n"
     ]
    },
    {
     "name": "stdout",
     "output_type": "stream",
     "text": [
      "Force prediction factor -188.69765863950212\n"
     ]
    },
    {
     "name": "stdout",
     "output_type": "stream",
     "text": [
      "Scale factors 0.510204 0.364431 \n"
     ]
    },
    {
     "name": "stdout",
     "output_type": "stream",
     "text": [
      "new radius 0.000100 \n"
     ]
    },
    {
     "name": "stdout",
     "output_type": "stream",
     "text": [
      "eigenvalues 8.18 20.00 20.00 \n"
     ]
    },
    {
     "name": "stdout",
     "output_type": "stream",
     "text": [
      "Corrected Newton step: abs(D) = 0.02 \n"
     ]
    },
    {
     "name": "stdout",
     "output_type": "stream",
     "text": [
      "Abs Gbar estimate 0.019708724410048735\n"
     ]
    },
    {
     "name": "stdout",
     "output_type": "stream",
     "text": [
      " Using 2 threads\n",
      "... ... Reading structure from CO.xyz\n",
      "... ... Saving data to CO.orb\n",
      "... ... Writing output to CO_summary.xmlGoodOldQuasiNewton:    8 05:25:32     -113.101178        0.0998\n"
     ]
    },
    {
     "name": "stdout",
     "output_type": "stream",
     "text": [
      " Using 2 threads\n",
      "... ... Reading structure from CO.xyz"
     ]
    },
    {
     "name": "stdout",
     "output_type": "stream",
     "text": [
      "\n",
      "... ... Saving data to CO.orb\n",
      "... ... Writing output to CO_summary.xml"
     ]
    },
    {
     "name": "stdout",
     "output_type": "stream",
     "text": [
      " Using 2 threads\n",
      "... ... Reading structure from CO.xyz"
     ]
    },
    {
     "name": "stdout",
     "output_type": "stream",
     "text": [
      "\n",
      "... ... Saving data to CO.orb\n",
      "... ... Writing output to CO_summary.xml Using 2 threads\n",
      "... ... Reading structure from CO.xyz\n",
      "... ... Saving data to CO.orb\n",
      "... ... Writing output to CO_summary.xml"
     ]
    },
    {
     "name": "stdout",
     "output_type": "stream",
     "text": [
      " Using 2 threads\n",
      "... ... Reading structure from CO.xyz\n",
      "... ... Saving data to CO.orb\n",
      "... ... Writing output to CO_summary.xml Using 2 threads\n",
      "... ... Reading structure from CO.xyz\n",
      "... ... Saving data to CO.orb\n",
      "... ... Writing output to CO_summary.xml"
     ]
    },
    {
     "name": "stdout",
     "output_type": "stream",
     "text": [
      " Using 2 threads\n",
      "... ... Reading structure from CO.xyz\n",
      "... ... Saving data to CO.orb\n",
      "... ... Writing output to CO_summary.xml"
     ]
    },
    {
     "name": "stdout",
     "output_type": "stream",
     "text": [
      " Using 2 threads\n",
      "... ... Reading structure from CO.xyz\n",
      "... ... Saving data to CO.orb\n",
      "... ... Writing output to CO_summary.xml"
     ]
    },
    {
     "name": "stdout",
     "output_type": "stream",
     "text": [
      " Using 2 threads\n",
      "... ... Reading structure from CO.xyz\n",
      "... ... Saving data to CO.orb\n",
      "... ... Writing output to CO_summary.xml Using 2 threads\n",
      "... ... Reading structure from CO.xyz\n",
      "... ... Saving data to CO.orb\n",
      "... ... Writing output to CO_summary.xml"
     ]
    },
    {
     "name": "stdout",
     "output_type": "stream",
     "text": [
      " Using 2 threads\n",
      "... ... Reading structure from CO.xyz\n",
      "... ... Saving data to CO.orb\n",
      "... ... Writing output to CO_summary.xml"
     ]
    },
    {
     "name": "stdout",
     "output_type": "stream",
     "text": [
      " Using 2 threads\n",
      "... ... Reading structure from CO.xyz\n",
      "... ... Saving data to CO.orb\n",
      "... ... Writing output to CO_summary.xml"
     ]
    },
    {
     "name": "stdout",
     "output_type": "stream",
     "text": [
      " Using 2 threads\n",
      "... ... Reading structure from CO.xyz\n",
      "... ... Saving data to CO.orb\n",
      "... ... Writing output to CO_summary.xmlenergies -113.1011777702902 -113.10116369011206\n"
     ]
    },
    {
     "name": "stdout",
     "output_type": "stream",
     "text": [
      "energy change; actual: -0.000014 estimated: -0.000014 \n"
     ]
    },
    {
     "name": "stdout",
     "output_type": "stream",
     "text": [
      "Energy prediction factor 3.652918535257399e-05\n"
     ]
    },
    {
     "name": "stdout",
     "output_type": "stream",
     "text": [
      "Force prediction factor 0.0010675987001811276\n"
     ]
    },
    {
     "name": "stdout",
     "output_type": "stream",
     "text": [
      "Scale factors 3.841600 0.510204 \n"
     ]
    },
    {
     "name": "stdout",
     "output_type": "stream",
     "text": [
      "new radius 0.000384 \n"
     ]
    },
    {
     "name": "stdout",
     "output_type": "stream",
     "text": [
      "eigenvalues 8.19 20.00 20.00 \n"
     ]
    },
    {
     "name": "stdout",
     "output_type": "stream",
     "text": [
      "Corrected Newton step: abs(D) = 0.02 \n"
     ]
    },
    {
     "name": "stdout",
     "output_type": "stream",
     "text": [
      "Abs Gbar estimate 0.01883538693398839\n"
     ]
    },
    {
     "name": "stdout",
     "output_type": "stream",
     "text": [
      " Using 2 threads\n",
      "... ... Reading structure from CO.xyz\n",
      "... ... Saving data to CO.orb\n",
      "... ... Writing output to CO_summary.xmlGoodOldQuasiNewton:    9 05:26:22     -113.101231        0.0993\n"
     ]
    },
    {
     "name": "stdout",
     "output_type": "stream",
     "text": [
      " Using 2 threads\n",
      "... ... Reading structure from CO.xyz"
     ]
    },
    {
     "name": "stdout",
     "output_type": "stream",
     "text": [
      "\n",
      "... ... Saving data to CO.orb\n",
      "... ... Writing output to CO_summary.xml"
     ]
    },
    {
     "name": "stdout",
     "output_type": "stream",
     "text": [
      " Using 2 threads\n",
      "... ... Reading structure from CO.xyz\n",
      "... ... Saving data to CO.orb\n",
      "... ... Writing output to CO_summary.xml"
     ]
    },
    {
     "name": "stdout",
     "output_type": "stream",
     "text": [
      " Using 2 threads\n",
      "... ... Reading structure from CO.xyz\n",
      "... ... Saving data to CO.orb\n",
      "... ... Writing output to CO_summary.xml"
     ]
    },
    {
     "name": "stdout",
     "output_type": "stream",
     "text": [
      " Using 2 threads\n",
      "... ... Reading structure from CO.xyz\n",
      "... ... Saving data to CO.orb\n",
      "... ... Writing output to CO_summary.xml"
     ]
    },
    {
     "name": "stdout",
     "output_type": "stream",
     "text": [
      " Using 2 threads\n",
      "... ... Reading structure from CO.xyz\n",
      "... ... Saving data to CO.orb\n",
      "... ... Writing output to CO_summary.xml Using 2 threads\n",
      "... ... Reading structure from CO.xyz"
     ]
    },
    {
     "name": "stdout",
     "output_type": "stream",
     "text": [
      "\n",
      "... ... Saving data to CO.orb\n",
      "... ... Writing output to CO_summary.xml"
     ]
    },
    {
     "name": "stdout",
     "output_type": "stream",
     "text": [
      " Using 2 threads\n",
      "... ... Reading structure from CO.xyz\n",
      "... ... Saving data to CO.orb\n",
      "... ... Writing output to CO_summary.xml Using 2 threads\n",
      "... ... Reading structure from CO.xyz"
     ]
    },
    {
     "name": "stdout",
     "output_type": "stream",
     "text": [
      "\n",
      "... ... Saving data to CO.orb\n",
      "... ... Writing output to CO_summary.xml"
     ]
    },
    {
     "name": "stdout",
     "output_type": "stream",
     "text": [
      " Using 2 threads\n",
      "... ... Reading structure from CO.xyz\n",
      "... ... Saving data to CO.orb\n",
      "... ... Writing output to CO_summary.xml Using 2 threads\n",
      "... ... Reading structure from CO.xyz"
     ]
    },
    {
     "name": "stdout",
     "output_type": "stream",
     "text": [
      "\n",
      "... ... Saving data to CO.orb\n",
      "... ... Writing output to CO_summary.xml"
     ]
    },
    {
     "name": "stdout",
     "output_type": "stream",
     "text": [
      " Using 2 threads\n",
      "... ... Reading structure from CO.xyz\n",
      "... ... Saving data to CO.orb\n",
      "... ... Writing output to CO_summary.xml"
     ]
    },
    {
     "name": "stdout",
     "output_type": "stream",
     "text": [
      " Using 2 threads\n",
      "... ... Reading structure from CO.xyz\n",
      "... ... Saving data to CO.orb\n",
      "... ... Writing output to CO_summary.xmlenergies -113.10123110034627 -113.1011777702902\n"
     ]
    },
    {
     "name": "stdout",
     "output_type": "stream",
     "text": [
      "energy change; actual: -0.000053 estimated: -0.000053 \n"
     ]
    },
    {
     "name": "stdout",
     "output_type": "stream",
     "text": [
      "Energy prediction factor 5.7841804963931764e-05\n"
     ]
    },
    {
     "name": "stdout",
     "output_type": "stream",
     "text": [
      "Force prediction factor 0.0024740489595172083\n"
     ]
    },
    {
     "name": "stdout",
     "output_type": "stream",
     "text": [
      "Scale factors 3.841600 0.510204 \n"
     ]
    },
    {
     "name": "stdout",
     "output_type": "stream",
     "text": [
      "new radius 0.001476 \n"
     ]
    },
    {
     "name": "stdout",
     "output_type": "stream",
     "text": [
      "eigenvalues 8.21 20.00 20.00 \n"
     ]
    },
    {
     "name": "stdout",
     "output_type": "stream",
     "text": [
      "Corrected Newton step: abs(D) = 0.02 \n"
     ]
    },
    {
     "name": "stdout",
     "output_type": "stream",
     "text": [
      "Abs Gbar estimate 0.01565581137291732\n"
     ]
    },
    {
     "name": "stdout",
     "output_type": "stream",
     "text": [
      " Using 2 threads\n",
      "... ... Reading structure from CO.xyz\n",
      "... ... Saving data to CO.orb\n",
      "... ... Writing output to CO_summary.xmlGoodOldQuasiNewton:   10 05:27:12     -113.101425        0.0970\n"
     ]
    },
    {
     "name": "stdout",
     "output_type": "stream",
     "text": [
      " Using 2 threads\n",
      "... ... Reading structure from CO.xyz"
     ]
    },
    {
     "name": "stdout",
     "output_type": "stream",
     "text": [
      "\n",
      "... ... Saving data to CO.orb\n",
      "... ... Writing output to CO_summary.xml"
     ]
    },
    {
     "name": "stdout",
     "output_type": "stream",
     "text": [
      " Using 2 threads\n",
      "... ... Reading structure from CO.xyz\n",
      "... ... Saving data to CO.orb\n",
      "... ... Writing output to CO_summary.xml Using 2 threads\n",
      "... ... Reading structure from CO.xyz\n",
      "... ... Saving data to CO.orb\n",
      "... ... Writing output to CO_summary.xml"
     ]
    },
    {
     "name": "stdout",
     "output_type": "stream",
     "text": [
      " Using 2 threads\n",
      "... ... Reading structure from CO.xyz\n",
      "... ... Saving data to CO.orb\n",
      "... ... Writing output to CO_summary.xml Using 2 threads\n",
      "... ... Reading structure from CO.xyz\n",
      "... ... Saving data to CO.orb\n",
      "... ... Writing output to CO_summary.xml"
     ]
    },
    {
     "name": "stdout",
     "output_type": "stream",
     "text": [
      " Using 2 threads\n",
      "... ... Reading structure from CO.xyz\n",
      "... ... Saving data to CO.orb\n",
      "... ... Writing output to CO_summary.xml Using 2 threads\n",
      "... ... Reading structure from CO.xyz\n",
      "... ... Saving data to CO.orb\n",
      "... ... Writing output to CO_summary.xml"
     ]
    },
    {
     "name": "stdout",
     "output_type": "stream",
     "text": [
      " Using 2 threads\n",
      "... ... Reading structure from CO.xyz\n",
      "... ... Saving data to CO.orb\n",
      "... ... Writing output to CO_summary.xml Using 2 threads\n",
      "... ... Reading structure from CO.xyz\n",
      "... ... Saving data to CO.orb\n",
      "... ... Writing output to CO_summary.xml"
     ]
    },
    {
     "name": "stdout",
     "output_type": "stream",
     "text": [
      " Using 2 threads\n",
      "... ... Reading structure from CO.xyz\n",
      "... ... Saving data to CO.orb\n",
      "... ... Writing output to CO_summary.xml"
     ]
    },
    {
     "name": "stdout",
     "output_type": "stream",
     "text": [
      " Using 2 threads\n",
      "... ... Reading structure from CO.xyz\n",
      "... ... Saving data to CO.orb\n",
      "... ... Writing output to CO_summary.xml"
     ]
    },
    {
     "name": "stdout",
     "output_type": "stream",
     "text": [
      " Using 2 threads\n",
      "... ... Reading structure from CO.xyz\n",
      "... ... Saving data to CO.orb\n",
      "... ... Writing output to CO_summary.xml"
     ]
    }
   ],
   "source": [
    "dyn = GoodOldQuasiNewton(atoms, trajectory='test.traj')\n",
    "dyn.run(fmax=0.05, steps=10)\n",
    "write('final.xyz', atoms)"
   ]
  }
 ],
 "metadata": {
  "kernelspec": {
   "display_name": "votca_test",
   "language": "python",
   "name": "python3"
  },
  "language_info": {
   "codemirror_mode": {
    "name": "ipython",
    "version": 3
   },
   "file_extension": ".py",
   "mimetype": "text/x-python",
   "name": "python",
   "nbconvert_exporter": "python",
   "pygments_lexer": "ipython3",
   "version": "3.12.4"
  }
 },
 "nbformat": 4,
 "nbformat_minor": 2
}
