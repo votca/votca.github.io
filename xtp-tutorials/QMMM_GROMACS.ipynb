{
 "cells": [
  {
   "cell_type": "markdown",
   "metadata": {},
   "source": [
    "# QMMM workflow using GROMACS and VOTCA-XTP"
   ]
  },
  {
   "cell_type": "markdown",
   "metadata": {},
   "source": [
    "## What is this tutorial about\n",
    "In this tutorial, we will learn how to set and perform excited state calculation using the Votca XTP library. We will use methane as our QM region."
   ]
  },
  {
   "cell_type": "markdown",
   "metadata": {},
   "source": [
    "## Requirements\n",
    "* You will need to install **VOTCA** using the instructions described [here](https://github.com/votca/votca/blob/master/share/sphinx/INSTALL.rst)\n",
    "* Once the installation is completed you need to activate the VOTCA enviroment by running the `VOTCARC.bash` script that has been installed at the bin subfolder for the path that you have provided for the installation step above"
   ]
  },
  {
   "cell_type": "markdown",
   "metadata": {},
   "source": [
    "## Interacting with the XTP command line interface\n",
    "The XTP package offers the following command line interface that the user can interact with:\n",
    "* [xtp_map](https://www.votca.org/xtp/xtp_map.html)\n",
    "* [xtp_parallel](https://www.votca.org/xtp/xtp_parallel.html)\n",
    "* [xtp_run](https://www.votca.org/xtp/xtp_run.html)\n",
    "* [xtp_tools](https://www.votca.org/xtp/xtp_tools.html)\n",
    "\n",
    "Run the following command to view the help message of `xtp_tools`:"
   ]
  },
  {
   "cell_type": "code",
   "execution_count": 1,
   "metadata": {
    "execution": {
     "iopub.execute_input": "2025-10-31T02:17:17.637960Z",
     "iopub.status.busy": "2025-10-31T02:17:17.637794Z",
     "iopub.status.idle": "2025-10-31T02:17:17.770632Z",
     "shell.execute_reply": "2025-10-31T02:17:17.770035Z"
    }
   },
   "outputs": [
    {
     "name": "stdout",
     "output_type": "stream",
     "text": [
      "==================================================\r\n",
      "========   VOTCA (http://www.votca.org)   ========\r\n",
      "==================================================\r\n",
      "\r\n",
      "please read and cite: https://doi.org/10.21105/joss.06864\r\n",
      "and submit bugs to https://github.com/votca/votca/issues\r\n",
      "\r\n",
      "xtp_tools, version 2025.1-dev gitid: 9782ace (compiled Oct 31 2025, 02:15:17)\r\n",
      "\r\n",
      "Runs excitation/charge transport tools\r\n",
      "\r\n",
      "\r\n",
      "\r\n",
      "Allowed options:\r\n",
      "  -h [ --help ]                 display this help and exit\r\n",
      "  --verbose                     be loud and noisy\r\n",
      "  --verbose1                    be very loud and noisy\r\n",
      "  -v [ --verbose2 ]             be extremly loud and noisy\r\n",
      "  -o [ --options ] arg          Tool user options.\r\n",
      "  -t [ --nthreads ] arg (=1)    number of threads to create\r\n",
      "  -e [ --execute ] arg        Name of Tool to run\r\n",
      "  -l [ --list ]               Lists all available Tools\r\n",
      "  -d [ --description ] arg    Short description of a Tools\r\n",
      "  -c [ --cmdoptions ] arg     Modify options via command line by e.g. '-c \r\n",
      "                              xmltag.subtag=value'. Use whitespace to separate \r\n",
      "                              multiple options\r\n",
      "  -p [ --printoptions ] arg   Prints xml options of a Tool\r\n",
      "\r\n"
     ]
    }
   ],
   "source": [
    "!xtp_tools -h"
   ]
  },
  {
   "cell_type": "markdown",
   "metadata": {},
   "source": [
    "### Note\n",
    "> * In Jupyter the `!` symbol means: *run the following command as a standard unix command*\n",
    "> * In Jupyter the command `%env` set an environmental variable"
   ]
  },
  {
   "cell_type": "markdown",
   "metadata": {},
   "source": [
    "## Setting the environment\n"
   ]
  },
  {
   "cell_type": "markdown",
   "metadata": {},
   "source": [
    "Remove previous hdf5 file"
   ]
  },
  {
   "cell_type": "code",
   "execution_count": 2,
   "metadata": {
    "execution": {
     "iopub.execute_input": "2025-10-31T02:17:17.773726Z",
     "iopub.status.busy": "2025-10-31T02:17:17.773337Z",
     "iopub.status.idle": "2025-10-31T02:17:17.883161Z",
     "shell.execute_reply": "2025-10-31T02:17:17.882565Z"
    }
   },
   "outputs": [],
   "source": [
    "!rm -f state.hdf5"
   ]
  },
  {
   "cell_type": "markdown",
   "metadata": {},
   "source": [
    "## Generate the topology from the Gromacs file"
   ]
  },
  {
   "cell_type": "markdown",
   "metadata": {},
   "source": [
    "runs the mapping from MD coordinates to segments and creates an [hdf5 file](https://www.hdfgroup.org/solutions/hdf5/). You can explore the generated `state.hdf5` file with e.g. hdf5itebrowser. In Python, you can use the [h5py library](https://www.h5py.org/)."
   ]
  },
  {
   "cell_type": "code",
   "execution_count": 3,
   "metadata": {
    "execution": {
     "iopub.execute_input": "2025-10-31T02:17:17.885737Z",
     "iopub.status.busy": "2025-10-31T02:17:17.885541Z",
     "iopub.status.idle": "2025-10-31T02:17:18.421395Z",
     "shell.execute_reply": "2025-10-31T02:17:18.420881Z"
    }
   },
   "outputs": [
    {
     "name": "stdout",
     "output_type": "stream",
     "text": [
      "==================================================\r\n",
      "========   VOTCA (http://www.votca.org)   ========\r\n",
      "==================================================\r\n",
      "\r\n",
      "please read and cite: https://doi.org/10.21105/joss.06864\r\n",
      "and submit bugs to https://github.com/votca/votca/issues\r\n",
      "\r\n",
      "xtp_map, version 2025.1-dev gitid: 9782ace (compiled Oct 31 2025, 02:15:17)\r\n",
      "\r\n",
      "Reading file MD_FILES/topol.tpr, VERSION 5.1.1 (single precision)\r\n",
      "Note: file tpx version 103, software tpx version 116\r\n"
     ]
    },
    {
     "name": "stdout",
     "output_type": "stream",
     "text": [
      "Creating statefile state.hdf5\r\n",
      "Frame with id 0 was not in statefile state.hdf5 ,adding it now.\r\n"
     ]
    },
    {
     "name": "stdout",
     "output_type": "stream",
     "text": [
      "Wrote MD topology (step = 0, time = 0) to state.hdf5\r\n",
      "... . \r\n"
     ]
    }
   ],
   "source": [
    "!xtp_map -t MD_FILES/topol.tpr -c MD_FILES/conf.gro -s system.xml -f state.hdf5"
   ]
  },
  {
   "cell_type": "markdown",
   "metadata": {},
   "source": [
    "##  Check the mapping\n",
    "\n",
    "Let us first output `.pdb` files for the segments, qmmolecules and classical segments in order to check the mapping. Use `xtp_run -d mapchecker` to see all options `mapchecker` calculator takes. We use the `-c` option to change one option on the commandline."
   ]
  },
  {
   "cell_type": "markdown",
   "metadata": {},
   "source": [
    "In the [mapchecker section of the manual](https://votca.github.io/xtp/mapchecker.html) you can find a table with the `mapchecker` input variables and their corresponding defaults. Finally, the following command run the check"
   ]
  },
  {
   "cell_type": "code",
   "execution_count": 4,
   "metadata": {
    "execution": {
     "iopub.execute_input": "2025-10-31T02:17:18.424354Z",
     "iopub.status.busy": "2025-10-31T02:17:18.424181Z",
     "iopub.status.idle": "2025-10-31T02:17:19.020022Z",
     "shell.execute_reply": "2025-10-31T02:17:19.019425Z"
    }
   },
   "outputs": [
    {
     "name": "stdout",
     "output_type": "stream",
     "text": [
      "==================================================\r\n",
      "========   VOTCA (http://www.votca.org)   ========\r\n",
      "==================================================\r\n",
      "\r\n",
      "please read and cite: https://doi.org/10.21105/joss.06864\r\n",
      "and submit bugs to https://github.com/votca/votca/issues\r\n",
      "\r\n",
      "xtp_run, version 2025.1-dev gitid: 9782ace (compiled Oct 31 2025, 02:15:17)\r\n",
      "\r\n",
      "Initializing calculator\r\n",
      "... mapchecker\r\n",
      "1 frames in statefile, Ids are: 0 \r\n",
      "Starting at frame 0\r\n",
      "Evaluating frame 0\r\n",
      "Import MD Topology (i.e. frame 0) from state.hdf5\r\n"
     ]
    },
    {
     "name": "stdout",
     "output_type": "stream",
     "text": [
      ".... \r\n"
     ]
    },
    {
     "name": "stdout",
     "output_type": "stream",
     "text": [
      "... mapchecker\r\n",
      " Using 1 threads\r\n",
      "Writing segments to md_segments_step_0.pdb\r\n",
      "Writing qmmolecules to qm_segments_n_step_0.pdb\r\n"
     ]
    },
    {
     "name": "stdout",
     "output_type": "stream",
     "text": [
      "Writing polarsegments to mp_segments_e_step_0.pdb\r\n"
     ]
    },
    {
     "name": "stdout",
     "output_type": "stream",
     "text": [
      "Writing polarsegments to mp_segments_h_step_0.pdb\r\n"
     ]
    },
    {
     "name": "stdout",
     "output_type": "stream",
     "text": [
      "Changes have not been written to state file.\r\n"
     ]
    }
   ],
   "source": [
    "!xtp_run -e mapchecker -c map_file=system.xml -f state.hdf5"
   ]
  },
  {
   "cell_type": "markdown",
   "metadata": {},
   "source": [
    "## Neighborlist Calculation"
   ]
  },
  {
   "cell_type": "markdown",
   "metadata": {},
   "source": [
    "The following step is to determine the neighbouring pairs for exciton transport. See the [neighborlist options](https://www.votca.org/xtp/neighborlist.html) for further information. "
   ]
  },
  {
   "cell_type": "markdown",
   "metadata": {},
   "source": [
    "Finally, we can run the calculation using 4 threads"
   ]
  },
  {
   "cell_type": "code",
   "execution_count": 5,
   "metadata": {
    "execution": {
     "iopub.execute_input": "2025-10-31T02:17:19.022774Z",
     "iopub.status.busy": "2025-10-31T02:17:19.022562Z",
     "iopub.status.idle": "2025-10-31T02:17:19.736481Z",
     "shell.execute_reply": "2025-10-31T02:17:19.735962Z"
    }
   },
   "outputs": [
    {
     "name": "stdout",
     "output_type": "stream",
     "text": [
      "==================================================\r\n",
      "========   VOTCA (http://www.votca.org)   ========\r\n",
      "==================================================\r\n",
      "\r\n",
      "please read and cite: https://doi.org/10.21105/joss.06864\r\n",
      "and submit bugs to https://github.com/votca/votca/issues\r\n",
      "\r\n",
      "xtp_run, version 2025.1-dev gitid: 9782ace (compiled Oct 31 2025, 02:15:17)\r\n",
      "\r\n",
      "Initializing calculator\r\n",
      "... neighborlist\r\n",
      "1 frames in statefile, Ids are: 0 \r\n",
      "Starting at frame 0\r\n",
      "Evaluating frame 0\r\n",
      "Import MD Topology (i.e. frame 0) from state.hdf5\r\n"
     ]
    },
    {
     "name": "stdout",
     "output_type": "stream",
     "text": [
      ".... \r\n"
     ]
    },
    {
     "name": "stdout",
     "output_type": "stream",
     "text": [
      "... neighborlist\r\n",
      " Using 4 threads\r\n",
      "Evaluating 1000 segments for neighborlist. \r\n",
      "\r",
      " ... ... Evaluating \r\n",
      "0%   10   20   30   40   50   60   70   80   90   100%\r\n",
      "|----|----|----|----|----|----|----|----|----|----|\r\n",
      "***************************************************\r\n",
      "\r\n",
      " ... ... Created 21093 direct pairs.\r\n",
      " ... ... Determining classical pairs \r\n",
      " ... ... Found 8586 classical pairs \r\n"
     ]
    },
    {
     "name": "stdout",
     "output_type": "stream",
     "text": [
      "Wrote MD topology (step = 0, time = 0) to state.hdf5\r\n",
      "... . \r\n"
     ]
    }
   ],
   "source": [
    "!xtp_run -e neighborlist -c exciton_cutoff=0.5 constant=0.6 -f state.hdf5 -t 4"
   ]
  },
  {
   "cell_type": "markdown",
   "metadata": {},
   "source": [
    "## Read reorganization energies\n",
    "In this step we will read the in site reorganization energies and store them in the `state.hdf5` file. We just need to copy the input file and execute the calculation. The side energies have to be calculated by the user beforehand and put into an xml file. We added them to `system.xml`"
   ]
  },
  {
   "cell_type": "code",
   "execution_count": 6,
   "metadata": {
    "execution": {
     "iopub.execute_input": "2025-10-31T02:17:19.739198Z",
     "iopub.status.busy": "2025-10-31T02:17:19.739012Z",
     "iopub.status.idle": "2025-10-31T02:17:20.457600Z",
     "shell.execute_reply": "2025-10-31T02:17:20.456978Z"
    }
   },
   "outputs": [
    {
     "name": "stdout",
     "output_type": "stream",
     "text": [
      "==================================================\r\n",
      "========   VOTCA (http://www.votca.org)   ========\r\n",
      "==================================================\r\n",
      "\r\n",
      "please read and cite: https://doi.org/10.21105/joss.06864\r\n",
      "and submit bugs to https://github.com/votca/votca/issues\r\n",
      "\r\n",
      "xtp_run, version 2025.1-dev gitid: 9782ace (compiled Oct 31 2025, 02:15:17)\r\n",
      "\r\n",
      "Initializing calculator\r\n",
      "... einternal\r\n",
      "1 frames in statefile, Ids are: 0 \r\n",
      "Starting at frame 0\r\n",
      "Evaluating frame 0\r\n",
      "Import MD Topology (i.e. frame 0) from state.hdf5\r\n"
     ]
    },
    {
     "name": "stdout",
     "output_type": "stream",
     "text": [
      ".... \r\n",
      "... einternal\r\n",
      " Using 1 threads\r\n",
      "... ... Site, reorg. energies from system.xml.\r\n",
      "\r\n",
      "... ... Read in site, reorg. energies for 1000 segments. "
     ]
    },
    {
     "name": "stdout",
     "output_type": "stream",
     "text": [
      "Wrote MD topology (step = 0, time = 0) to state.hdf5\r\n",
      "... . \r\n"
     ]
    }
   ],
   "source": [
    "!xtp_run -e einternal -c energies_file=system.xml -f state.hdf5"
   ]
  },
  {
   "cell_type": "markdown",
   "metadata": {},
   "source": [
    "## Compute site energy\n",
    "In this step we will perform some *QMMM* calculations to compute the site energies. The `qmmm_mm.xml` file contains some predefined settings to perform the *MM* calculations. Let us first copy these settings into the state file. Instead of using the `-c` option we now use the `-o` option to read in options from an xml file."
   ]
  },
  {
   "cell_type": "code",
   "execution_count": 7,
   "metadata": {
    "execution": {
     "iopub.execute_input": "2025-10-31T02:17:20.460472Z",
     "iopub.status.busy": "2025-10-31T02:17:20.460288Z",
     "iopub.status.idle": "2025-10-31T02:17:20.881248Z",
     "shell.execute_reply": "2025-10-31T02:17:20.880727Z"
    }
   },
   "outputs": [
    {
     "name": "stdout",
     "output_type": "stream",
     "text": [
      "==================================================\r\n",
      "========   VOTCA (http://www.votca.org)   ========\r\n",
      "==================================================\r\n",
      "\r\n",
      "please read and cite: https://doi.org/10.21105/joss.06864\r\n",
      "and submit bugs to https://github.com/votca/votca/issues\r\n",
      "\r\n",
      "xtp_parallel, version 2025.1-dev gitid: 9782ace (compiled Oct 31 2025, 02:15:17)\r\n",
      "\r\n",
      "Initializing calculator\r\n",
      "... qmmm\r\n",
      "\r\n",
      "... ... Initialized with 1 threads.\r\n",
      "\r\n",
      "... ... Using 1 openmp threads for 1x1=1 total threads.\r\n",
      "1 frames in statefile, Ids are: 0 \r\n",
      "Starting at frame 0\r\n",
      "Evaluating frame 0\r\n",
      "Import MD Topology (i.e. frame 0) from state.hdf5\r\n"
     ]
    },
    {
     "name": "stdout",
     "output_type": "stream",
     "text": [
      ".... \r\n",
      "... qmmm \r\n",
      "... ... Writing job file qmmm_mm_jobs.xml"
     ]
    },
    {
     "name": "stdout",
     "output_type": "stream",
     "text": [
      "\r\n",
      "... ... In total 4000 jobs\r\n",
      "Changes have not been written to state file.\r\n"
     ]
    }
   ],
   "source": [
    "!xtp_parallel -e qmmm -o qmmm_mm.xml -f state.hdf5 -j \"write\""
   ]
  },
  {
   "cell_type": "markdown",
   "metadata": {},
   "source": [
    "The previous command generates a `qmmm_mm_jobs.xml` containing 4000 *MM* jobs to compute, if you examine that file, it should look something like"
   ]
  },
  {
   "cell_type": "markdown",
   "metadata": {},
   "source": [
    "```xml\n",
    "<jobs>\n",
    "  <job>\n",
    "    <id>0</id>\n",
    "    <tag>Methane_0:n</tag>\n",
    "    <input>\n",
    "      <site_energies>0:n</site_energies>\n",
    "      <regions>\n",
    "        <region>\n",
    "          <id>0</id>\n",
    "          <segments>0:n</segments>\n",
    "        </region>\n",
    "      </regions>\n",
    "    </input>\n",
    "    <status>AVAILABLE</status>\n",
    "  </job>    \n",
    "...\n",
    "```"
   ]
  },
  {
   "cell_type": "markdown",
   "metadata": {},
   "source": [
    "Let us run just the first 4 jobs by settings all jobs `status` to `COMPLETE` except for the first four. This can be easily done with [sed](https://www.gnu.org/software/sed/manual/sed.html) as follows,"
   ]
  },
  {
   "cell_type": "code",
   "execution_count": 8,
   "metadata": {
    "execution": {
     "iopub.execute_input": "2025-10-31T02:17:20.884239Z",
     "iopub.status.busy": "2025-10-31T02:17:20.884053Z",
     "iopub.status.idle": "2025-10-31T02:17:21.451964Z",
     "shell.execute_reply": "2025-10-31T02:17:21.451288Z"
    }
   },
   "outputs": [],
   "source": [
    "!sed -i \"s/AVAILABLE/COMPLETE/g\" qmmm_mm_jobs.xml\n",
    "!sed -i '0,/COMPLETE/s/COMPLETE/AVAILABLE/' qmmm_mm_jobs.xml\n",
    "!sed -i '0,/COMPLETE/s/COMPLETE/AVAILABLE/' qmmm_mm_jobs.xml\n",
    "!sed -i '0,/COMPLETE/s/COMPLETE/AVAILABLE/' qmmm_mm_jobs.xml\n",
    "!sed -i '0,/COMPLETE/s/COMPLETE/AVAILABLE/' qmmm_mm_jobs.xml"
   ]
  },
  {
   "cell_type": "markdown",
   "metadata": {},
   "source": [
    "Now we can run the jobs and save the results in the state file"
   ]
  },
  {
   "cell_type": "code",
   "execution_count": 9,
   "metadata": {
    "execution": {
     "iopub.execute_input": "2025-10-31T02:17:21.454742Z",
     "iopub.status.busy": "2025-10-31T02:17:21.454528Z",
     "iopub.status.idle": "2025-10-31T02:17:23.616159Z",
     "shell.execute_reply": "2025-10-31T02:17:23.615625Z"
    }
   },
   "outputs": [
    {
     "name": "stdout",
     "output_type": "stream",
     "text": [
      "==================================================\r\n",
      "========   VOTCA (http://www.votca.org)   ========\r\n",
      "==================================================\r\n",
      "\r\n",
      "please read and cite: https://doi.org/10.21105/joss.06864\r\n",
      "and submit bugs to https://github.com/votca/votca/issues\r\n",
      "\r\n",
      "xtp_parallel, version 2025.1-dev gitid: 9782ace (compiled Oct 31 2025, 02:15:17)\r\n",
      "\r\n",
      "Initializing calculator\r\n",
      "... qmmm\r\n",
      "\r\n",
      "... ... Initialized with 1 threads.\r\n",
      "\r\n",
      "... ... Using 2 openmp threads for 1x2=2 total threads.\r\n",
      "1 frames in statefile, Ids are: 0 \r\n",
      "Starting at frame 0\r\n",
      "Evaluating frame 0\r\n",
      "Import MD Topology (i.e. frame 0) from state.hdf5\r\n"
     ]
    },
    {
     "name": "stdout",
     "output_type": "stream",
     "text": [
      ".... \r\n",
      "... qmmm \r\n",
      "MST ERR Job file = 'qmmm_mm_jobs.xml', cache size =  8\r\n",
      "MST ERR Initialize jobs from qmmm_mm_jobs.xml"
     ]
    },
    {
     "name": "stdout",
     "output_type": "stream",
     "text": [
      "\r\n",
      "MST ERR Registered 4000 jobs.\r\n",
      "T00 ERR ... Requesting next job"
     ]
    },
    {
     "name": "stdout",
     "output_type": "stream",
     "text": [
      "\r\n",
      "T00 ERR ... Assign jobs from stack"
     ]
    },
    {
     "name": "stdout",
     "output_type": "stream",
     "text": [
      "\r\n",
      "T00 ERR ... Next job: ID = 0=> [ 0%] \r\n",
      "T00 ERR ...  Regions created\r\n",
      "T00 ERR ... Id: 0 type: polarregion size: 17 charge[e]= -9.29812e-16\r\n",
      "T00 ERR ... Id: 1 type: staticregion size: 254 charge[e]= -1.4086e-14\r\n",
      "T00 ERR ... 2025-10-31 2:17:22 Writing jobtopology to MMMM/frame_0/job_0_Methane_0:n/regions.pdb"
     ]
    },
    {
     "name": "stdout",
     "output_type": "stream",
     "text": [
      "\r\n",
      "T00 ERR ... 2025-10-31 2:17:22 Only 1 scf region is used. The remaining regions are static. So no inter regions scf is required. \r\n",
      "T00 ERR ... 2025-10-31 2:17:22 --Inter Region SCF Iteration 1 of 1\r\n",
      "T00 ERR ... 2025-10-31 2:17:22 Evaluating polarregion 0\r\n",
      "T00 ERR ... 2025-10-31 2:17:22 Evaluating interaction between polarregion 0 and staticregion 1\r\n",
      "T00 ERR ... 2025-10-31 2:17:22 Starting Solving for classical polarization with 255 degrees of freedom.\r\n",
      "T00 ERR ... 2025-10-31 2:17:22 CG: #iterations: 6, estimated error: 1.68317e-05\r\n",
      "T00 ERR ...   Total static energy [hrt]= 8.121948104e-05\r\n",
      "T00 ERR ...   Total polar energy [hrt]= -0.0001235439304\r\n",
      "T00 ERR ...  Total energy [hrt]= -4.232444934e-05\r\n",
      "T00 ERR ... 2025-10-31 2:17:22 Evaluating staticregion 1\r\n",
      "T00 ERR ... 2025-10-31 2:17:22 Writing checkpoint to checkpoint_iter_1.hdf5\r\n",
      "T00 ERR ... Reporting job results\r\n",
      "\r\n",
      "T00 ERR ... Requesting next job\r\n",
      "T00 ERR ... Next job: ID = 1"
     ]
    },
    {
     "name": "stdout",
     "output_type": "stream",
     "text": [
      "\r\n",
      "T00 ERR ...  Regions created\r\n",
      "T00 ERR ... Id: 0 type: polarregion size: 17 charge[e]= -1\r\n",
      "T00 ERR ... Id: 1 type: staticregion size: 254 charge[e]= -1.408595462e-14\r\n",
      "T00 ERR ... 2025-10-31 2:17:22 Writing jobtopology to MMMM/frame_0/job_1_Methane_0:e/regions.pdb\r\n",
      "T00 ERR ... 2025-10-31 2:17:22 Only 1 scf region is used. The remaining regions are static. So no inter regions scf is required. \r\n",
      "T00 ERR ... 2025-10-31 2:17:22 --Inter Region SCF Iteration 1 of 1\r\n",
      "T00 ERR ... 2025-10-31 2:17:22 Evaluating polarregion 0\r\n",
      "T00 ERR ... 2025-10-31 2:17:22 Evaluating interaction between polarregion 0 and staticregion 1\r\n",
      "T00 ERR ... 2025-10-31 2:17:22 Starting Solving for classical polarization with 255 degrees of freedom.\r\n",
      "T00 ERR ... 2025-10-31 2:17:22 CG: #iterations: 25, estimated error: 3.559681927e-05\r\n",
      "T00 ERR ...   Total static energy [hrt]= -0.0009055590147\r\n",
      "T00 ERR ...   Total polar energy [hrt]= -0.03058901388\r\n",
      "T00 ERR ...  Total energy [hrt]= -0.0314945729\r\n",
      "T00 ERR ... 2025-10-31 2:17:22 Evaluating staticregion 1\r\n",
      "T00 ERR ... 2025-10-31 2:17:22 Writing checkpoint to checkpoint_iter_1.hdf5\r\n",
      "T00 ERR ... Reporting job results\r\n",
      "\r\n",
      "T00 ERR ... Requesting next job\r\n",
      "T00 ERR ... Next job: ID = 2"
     ]
    },
    {
     "name": "stdout",
     "output_type": "stream",
     "text": [
      "\r\n",
      "T00 ERR ...  Regions created\r\n",
      "T00 ERR ... Id: 0 type: polarregion size: 17 charge[e]= 1\r\n",
      "T00 ERR ... Id: 1 type: staticregion size: 254 charge[e]= -1.408595462e-14\r\n",
      "T00 ERR ... 2025-10-31 2:17:22 Writing jobtopology to MMMM/frame_0/job_2_Methane_0:h/regions.pdb\r\n",
      "T00 ERR ... 2025-10-31 2:17:22 Only 1 scf region is used. The remaining regions are static. So no inter regions scf is required. \r\n",
      "T00 ERR ... 2025-10-31 2:17:22 --Inter Region SCF Iteration 1 of 1\r\n",
      "T00 ERR ... 2025-10-31 2:17:22 Evaluating polarregion 0\r\n",
      "T00 ERR ... 2025-10-31 2:17:22 Evaluating interaction between polarregion 0 and staticregion 1\r\n",
      "T00 ERR ... 2025-10-31 2:17:22 Starting Solving for classical polarization with 255 degrees of freedom.\r\n",
      "T00 ERR ... 2025-10-31 2:17:22 CG: #iterations: 6, estimated error: 1.527283514e-05\r\n",
      "T00 ERR ...   Total static energy [hrt]= 0.001994038371\r\n",
      "T00 ERR ...   Total polar energy [hrt]= -0.02768723937\r\n",
      "T00 ERR ...  Total energy [hrt]= -0.025693201\r\n",
      "T00 ERR ... 2025-10-31 2:17:22 Evaluating staticregion 1\r\n",
      "T00 ERR ... 2025-10-31 2:17:22 Writing checkpoint to checkpoint_iter_1.hdf5"
     ]
    },
    {
     "name": "stdout",
     "output_type": "stream",
     "text": [
      "\r\n",
      "T00 ERR ... Reporting job results\r\n",
      "\r\n",
      "T00 ERR ... Requesting next job\r\n",
      "T00 ERR ... Next job: ID = 3\r\n",
      "T00 ERR ...  Regions created\r\n",
      "T00 ERR ... Id: 0 type: polarregion size: 17 charge[e]= -7.632783294e-16\r\n",
      "T00 ERR ... Id: 1 type: staticregion size: 254 charge[e]= -1.408595462e-14\r\n",
      "T00 ERR ... 2025-10-31 2:17:22 Writing jobtopology to MMMM/frame_0/job_3_Methane_0:s1/regions.pdb\r\n",
      "T00 ERR ... 2025-10-31 2:17:22 Only 1 scf region is used. The remaining regions are static. So no inter regions scf is required. \r\n",
      "T00 ERR ... 2025-10-31 2:17:22 --Inter Region SCF Iteration 1 of 1\r\n",
      "T00 ERR ... 2025-10-31 2:17:22 Evaluating polarregion 0\r\n",
      "T00 ERR ... 2025-10-31 2:17:22 Evaluating interaction between polarregion 0 and staticregion 1\r\n",
      "T00 ERR ... 2025-10-31 2:17:22 Starting Solving for classical polarization with 255 degrees of freedom.\r\n",
      "T00 ERR ... 2025-10-31 2:17:22 CG: #iterations: 6, estimated error: 2.170495882e-05\r\n",
      "T00 ERR ...   Total static energy [hrt]= 0.0002401293715\r\n",
      "T00 ERR ...   Total polar energy [hrt]= -0.0004782854373\r\n",
      "T00 ERR ...  Total energy [hrt]= -0.0002381560658\r\n",
      "T00 ERR ... 2025-10-31 2:17:22 Evaluating staticregion 1\r\n",
      "T00 ERR ... 2025-10-31 2:17:22 Writing checkpoint to checkpoint_iter_1.hdf5"
     ]
    },
    {
     "name": "stdout",
     "output_type": "stream",
     "text": [
      "\r\n",
      "T00 ERR ... Reporting job results\r\n",
      "\r\n",
      "T00 ERR ... Requesting next job"
     ]
    },
    {
     "name": "stdout",
     "output_type": "stream",
     "text": [
      "\r\n",
      "T00 ERR ... Assign jobs from stack"
     ]
    },
    {
     "name": "stdout",
     "output_type": "stream",
     "text": [
      "\r\n",
      "T00 ERR ... Sync did not yield any new jobs.\r\n",
      "T00 ERR ... Next job: ID = - (none available)"
     ]
    },
    {
     "name": "stdout",
     "output_type": "stream",
     "text": [
      "\r\n",
      "MST ERR Assign jobs from stack"
     ]
    },
    {
     "name": "stdout",
     "output_type": "stream",
     "text": [
      "\r\n",
      "Changes have not been written to state file.\r\n"
     ]
    },
    {
     "name": "stdout",
     "output_type": "stream",
     "text": [
      "==================================================\r\n",
      "========   VOTCA (http://www.votca.org)   ========\r\n",
      "==================================================\r\n",
      "\r\n",
      "please read and cite: https://doi.org/10.21105/joss.06864\r\n",
      "and submit bugs to https://github.com/votca/votca/issues\r\n",
      "\r\n",
      "xtp_parallel, version 2025.1-dev gitid: 9782ace (compiled Oct 31 2025, 02:15:17)\r\n",
      "\r\n",
      "Initializing calculator\r\n",
      "... qmmm\r\n",
      "\r\n",
      "... ... Initialized with 1 threads.\r\n",
      "\r\n",
      "... ... Using 1 openmp threads for 1x1=1 total threads.\r\n",
      "1 frames in statefile, Ids are: 0 \r\n",
      "Starting at frame 0\r\n",
      "Evaluating frame 0\r\n",
      "Import MD Topology (i.e. frame 0) from state.hdf5\r\n"
     ]
    },
    {
     "name": "stdout",
     "output_type": "stream",
     "text": [
      ".... \r\n",
      "... qmmm "
     ]
    },
    {
     "name": "stdout",
     "output_type": "stream",
     "text": [
      "\r\n",
      "Found 1 states of type e\r\n",
      "Found 1 states of type h\r\n",
      "Found 1 states of type s\r\n",
      "Found 1 states of type n\r\n",
      "3996 incomplete jobs found.\r\n",
      "\r\n"
     ]
    },
    {
     "name": "stdout",
     "output_type": "stream",
     "text": [
      "Wrote MD topology (step = 0, time = 0) to state.hdf5\r\n",
      "... . \r\n"
     ]
    }
   ],
   "source": [
    "!xtp_parallel -e qmmm -o qmmm_mm.xml -f state.hdf5 -x 2 -j \"run\"\n",
    "!xtp_parallel -e qmmm -o qmmm_mm.xml -f state.hdf5 -j \"read\""
   ]
  },
  {
   "cell_type": "markdown",
   "metadata": {},
   "source": [
    "## Site energy and pair energy analysis\n",
    "In this step we generate an histogram and compute the correlation function of site energies and pair energy differences."
   ]
  },
  {
   "cell_type": "code",
   "execution_count": 10,
   "metadata": {
    "execution": {
     "iopub.execute_input": "2025-10-31T02:17:23.618908Z",
     "iopub.status.busy": "2025-10-31T02:17:23.618719Z",
     "iopub.status.idle": "2025-10-31T02:17:24.144328Z",
     "shell.execute_reply": "2025-10-31T02:17:24.143716Z"
    }
   },
   "outputs": [
    {
     "name": "stdout",
     "output_type": "stream",
     "text": [
      "==================================================\r\n",
      "========   VOTCA (http://www.votca.org)   ========\r\n",
      "==================================================\r\n",
      "\r\n",
      "please read and cite: https://doi.org/10.21105/joss.06864\r\n",
      "and submit bugs to https://github.com/votca/votca/issues\r\n",
      "\r\n",
      "xtp_run, version 2025.1-dev gitid: 9782ace (compiled Oct 31 2025, 02:15:17)\r\n",
      "\r\n",
      "Initializing calculator\r\n",
      "... eanalyze\r\n",
      "1 frames in statefile, Ids are: 0 \r\n",
      "Starting at frame 0\r\n",
      "Evaluating frame 0\r\n",
      "Import MD Topology (i.e. frame 0) from state.hdf5\r\n"
     ]
    },
    {
     "name": "stdout",
     "output_type": "stream",
     "text": [
      ".... \r\n",
      "... eanalyze\r\n",
      " Using 1 threads\r\n",
      "... ... Short-listed 1000 segments (pattern='*')\r\n",
      "... ... ... NOTE Statistics of site energies and spatial correlations thereof are based on the short-listed segments only. \r\n",
      "... ... ...      Statistics of site-energy differences operate on the full list.\r\n",
      "... ... excited state e"
     ]
    },
    {
     "name": "stdout",
     "output_type": "stream",
     "text": [
      "\r\n",
      "... ... excited state h"
     ]
    },
    {
     "name": "stdout",
     "output_type": "stream",
     "text": [
      "\r\n",
      "... ... excited state s"
     ]
    },
    {
     "name": "stdout",
     "output_type": "stream",
     "text": [
      "\r\n",
      "... ... excited state t\r\n",
      "Changes have not been written to state file.\r\n"
     ]
    }
   ],
   "source": [
    "!xtp_run -e eanalyze -f state.hdf5"
   ]
  },
  {
   "cell_type": "markdown",
   "metadata": {},
   "source": [
    "You should now see a set of files prefixed with `eanalyze` containing the histrogram and correlation functions."
   ]
  },
  {
   "cell_type": "code",
   "execution_count": 11,
   "metadata": {
    "execution": {
     "iopub.execute_input": "2025-10-31T02:17:24.147024Z",
     "iopub.status.busy": "2025-10-31T02:17:24.146841Z",
     "iopub.status.idle": "2025-10-31T02:17:24.257299Z",
     "shell.execute_reply": "2025-10-31T02:17:24.256748Z"
    }
   },
   "outputs": [
    {
     "name": "stdout",
     "output_type": "stream",
     "text": [
      "eanalyze.pairhist_e.out  eanalyze.pairlist_s.out  eanalyze.sitehist_e.out\r\n",
      "eanalyze.pairhist_h.out  eanalyze.pairlist_t.out  eanalyze.sitehist_h.out\r\n",
      "eanalyze.pairhist_s.out  eanalyze.sitecorr_e.out  eanalyze.sitehist_s.out\r\n",
      "eanalyze.pairhist_t.out  eanalyze.sitecorr_h.out  eanalyze.sitehist_t.out\r\n",
      "eanalyze.pairlist_e.out  eanalyze.sitecorr_s.out\r\n",
      "eanalyze.pairlist_h.out  eanalyze.sitecorr_t.out\r\n"
     ]
    }
   ],
   "source": [
    "!ls eanalyze*"
   ]
  },
  {
   "cell_type": "markdown",
   "metadata": {},
   "source": [
    "## QM energy calculation\n",
    "Our next task is to perform the qm calculations for each segment that we have stored in the hdf5 file. The calculations take place in 3 stages: write the jobs to a file, perform the computation and finally save the results to the state file. We provided a small options file to make the computation cheaper."
   ]
  },
  {
   "cell_type": "code",
   "execution_count": 12,
   "metadata": {
    "execution": {
     "iopub.execute_input": "2025-10-31T02:17:24.259553Z",
     "iopub.status.busy": "2025-10-31T02:17:24.259379Z",
     "iopub.status.idle": "2025-10-31T02:17:24.369044Z",
     "shell.execute_reply": "2025-10-31T02:17:24.368477Z"
    }
   },
   "outputs": [
    {
     "name": "stdout",
     "output_type": "stream",
     "text": [
      "<?xml version=\"1.0\"?>\r\n",
      "<options>\r\n",
      "  <eqm help=\"Executes qm calculations for individual molecules\" section=\"sec:eqm\">\r\n",
      "    <map_file>system.xml</map_file>\r\n",
      "    <gwbse>\r\n",
      "      <gw>\r\n",
      "        <mode>G0W0</mode>\r\n",
      "      </gw>\r\n",
      "      <bse>\r\n",
      "        <exctotal>10</exctotal>\r\n",
      "      </bse>\r\n",
      "      <ranges>full</ranges>\r\n",
      "    </gwbse>\r\n",
      "    <dftpackage>\r\n",
      "      <basisset>3-21G</basisset>\r\n",
      "      <auxbasisset>aux-def2-svp</auxbasisset>\r\n",
      "    </dftpackage>\r\n",
      "  </eqm>\r\n",
      "</options>"
     ]
    }
   ],
   "source": [
    "!cat eqm.xml"
   ]
  },
  {
   "cell_type": "markdown",
   "metadata": {},
   "source": [
    "We set the GWBSE mode to `G0W0`,  the `ranges` to `full` and the `basisset` and `auxbasisset` to `3-21G` and `aux-def2-svp`. For more information, check the [eqm calculator options](https://votca.github.io/xtp/eqm.html). For the sake of computational time let just compute the `gw` approximation and the `singlet`. You can also request the `triplet` or `all`"
   ]
  },
  {
   "cell_type": "markdown",
   "metadata": {},
   "source": [
    "First we will write the job in a file and enable only the first 2,"
   ]
  },
  {
   "cell_type": "code",
   "execution_count": 13,
   "metadata": {
    "execution": {
     "iopub.execute_input": "2025-10-31T02:17:24.371630Z",
     "iopub.status.busy": "2025-10-31T02:17:24.371449Z",
     "iopub.status.idle": "2025-10-31T02:17:25.051467Z",
     "shell.execute_reply": "2025-10-31T02:17:25.050827Z"
    }
   },
   "outputs": [
    {
     "name": "stdout",
     "output_type": "stream",
     "text": [
      "==================================================\r\n",
      "========   VOTCA (http://www.votca.org)   ========\r\n",
      "==================================================\r\n",
      "\r\n",
      "please read and cite: https://doi.org/10.21105/joss.06864\r\n",
      "and submit bugs to https://github.com/votca/votca/issues\r\n",
      "\r\n",
      "xtp_parallel, version 2025.1-dev gitid: 9782ace (compiled Oct 31 2025, 02:15:17)\r\n",
      "\r\n",
      "Initializing calculator\r\n",
      "... eqm\r\n",
      "\r\n",
      "... ... Initialized with 1 threads.\r\n",
      "\r\n",
      "... ... Using 1 openmp threads for 1x1=1 total threads.\r\n",
      "1 frames in statefile, Ids are: 0 \r\n",
      "Starting at frame 0\r\n",
      "Evaluating frame 0\r\n",
      "Import MD Topology (i.e. frame 0) from state.hdf5\r\n"
     ]
    },
    {
     "name": "stdout",
     "output_type": "stream",
     "text": [
      ".... \r\n",
      "... eqm \r\n",
      "... ... Writing job file: eqm.jobs with 1000 jobs\r\n",
      "Changes have not been written to state file.\r\n"
     ]
    }
   ],
   "source": [
    "!xtp_parallel -e eqm -o eqm.xml -f state.hdf5 -s 0 -j \"write\"\n",
    "!sed -i \"s/AVAILABLE/COMPLETE/g\" eqm.jobs\n",
    "!sed -i '0,/COMPLETE/s/COMPLETE/AVAILABLE/' eqm.jobs\n",
    "!sed -i '0,/COMPLETE/s/COMPLETE/AVAILABLE/' eqm.jobs"
   ]
  },
  {
   "cell_type": "markdown",
   "metadata": {},
   "source": [
    "Now, let run these 2 jobs"
   ]
  },
  {
   "cell_type": "code",
   "execution_count": 14,
   "metadata": {
    "execution": {
     "iopub.execute_input": "2025-10-31T02:17:25.054569Z",
     "iopub.status.busy": "2025-10-31T02:17:25.054145Z",
     "iopub.status.idle": "2025-10-31T02:17:31.505040Z",
     "shell.execute_reply": "2025-10-31T02:17:31.504507Z"
    }
   },
   "outputs": [
    {
     "name": "stdout",
     "output_type": "stream",
     "text": [
      "==================================================\r\n",
      "========   VOTCA (http://www.votca.org)   ========\r\n",
      "==================================================\r\n",
      "\r\n",
      "please read and cite: https://doi.org/10.21105/joss.06864\r\n",
      "and submit bugs to https://github.com/votca/votca/issues\r\n",
      "\r\n",
      "xtp_parallel, version 2025.1-dev gitid: 9782ace (compiled Oct 31 2025, 02:15:17)\r\n",
      "\r\n",
      "Initializing calculator\r\n",
      "... eqm\r\n",
      "\r\n",
      "... ... Initialized with 1 threads.\r\n",
      "\r\n",
      "... ... Using 2 openmp threads for 1x2=2 total threads.\r\n",
      "1 frames in statefile, Ids are: 0 \r\n",
      "Starting at frame 0\r\n",
      "Evaluating frame 0\r\n",
      "Import MD Topology (i.e. frame 0) from state.hdf5\r\n"
     ]
    },
    {
     "name": "stdout",
     "output_type": "stream",
     "text": [
      ".... \r\n",
      "... eqm \r\n",
      "MST ERR Job file = 'eqm.jobs', cache size =  1\r\n",
      "MST ERR Initialize jobs from eqm.jobs\r\n",
      "MST ERR Registered 1000 jobs.\r\n",
      "T00 ERR ... Requesting next job"
     ]
    },
    {
     "name": "stdout",
     "output_type": "stream",
     "text": [
      "\r\n",
      "T00 ERR ... Assign jobs from stack\r\n",
      "T00 ERR ... Next job: ID = 0=> [ 0%] \r\n",
      "T00 ERR ... 2025-10-31 2:17:25 Evaluating site 0\r\n",
      "T00 ERR ... Running DFT"
     ]
    },
    {
     "name": "stdout",
     "output_type": "stream",
     "text": [
      "\r\n",
      "T00 ERR ... Running GWBSE"
     ]
    },
    {
     "name": "stdout",
     "output_type": "stream",
     "text": [
      "\r\n",
      "T00 ERR ... Running ESPFIT\r\n",
      "T00 ERR ... ===== Running on 2 threads ===== "
     ]
    },
    {
     "name": "stdout",
     "output_type": "stream",
     "text": [
      "\r\n",
      "T00 ERR ... 2025-10-31 2:17:27 Calculated Densities at Numerical Grid, Number of electrons is 2.97136e-08\r\n",
      "T00 ERR ... 2025-10-31 2:17:27 Calculating ESP at CHELPG grid points"
     ]
    },
    {
     "name": "stdout",
     "output_type": "stream",
     "text": [
      "\r\n",
      "T00 ERR ... 2025-10-31 2:17:28 Netcharge constrained to -0\r\n",
      "T00 ERR ...  Sum of fitted charges: 0\r\n",
      "T00 ERR ...  RMSE of fit:  0.00116442\r\n",
      "T00 ERR ...  RRMSE of fit: 0.0678743\r\n",
      "T00 ERR ... El Dipole from fitted charges [e*bohr]:\r\n",
      "\t\t dx = -0.4968 dy = +0.5157 dz = -0.4030 |d|^2 = +0.6752\r\n",
      "T00 ERR ... El Dipole from exact qm density [e*bohr]:\r\n",
      "\t\t dx = -0.5077 dy = +0.5280 dz = -0.4125 |d|^2 = +0.7067\r\n",
      "T00 ERR ... Written charges to MP_FILES/frame_0/n2s1/Methane_0_n2s1.mps\r\n",
      "T00 ERR ... 2025-10-31 2:17:28 Finished evaluating site 0\r\n",
      "T00 ERR ... Saving data to molecule_0.orb\r\n",
      "T00 ERR ... Reporting job results\r\n",
      "\r\n",
      "T00 ERR ... Requesting next job"
     ]
    },
    {
     "name": "stdout",
     "output_type": "stream",
     "text": [
      "\r\n",
      "T00 ERR ... Assign jobs from stack\r\n",
      "T00 ERR ... Next job: ID = 1\r\n",
      "T00 ERR ... 2025-10-31 2:17:28 Evaluating site 1\r\n",
      "T00 ERR ... Running DFT"
     ]
    },
    {
     "name": "stdout",
     "output_type": "stream",
     "text": [
      "\r\n",
      "T00 ERR ... Running GWBSE"
     ]
    },
    {
     "name": "stdout",
     "output_type": "stream",
     "text": [
      "\r\n",
      "T00 ERR ... Running ESPFIT\r\n",
      "T00 ERR ... ===== Running on 2 threads ===== "
     ]
    },
    {
     "name": "stdout",
     "output_type": "stream",
     "text": [
      "\r\n",
      "T00 ERR ... 2025-10-31 2:17:30 Calculated Densities at Numerical Grid, Number of electrons is 2.24147e-08\r\n",
      "T00 ERR ... 2025-10-31 2:17:30 Calculating ESP at CHELPG grid points"
     ]
    },
    {
     "name": "stdout",
     "output_type": "stream",
     "text": [
      "\r\n",
      "T00 ERR ... 2025-10-31 2:17:31 Netcharge constrained to -0\r\n",
      "T00 ERR ...  Sum of fitted charges: -1.66533e-16\r\n",
      "T00 ERR ...  RMSE of fit:  0.00114403\r\n",
      "T00 ERR ...  RRMSE of fit: 0.0642009\r\n",
      "T00 ERR ... El Dipole from fitted charges [e*bohr]:\r\n",
      "\t\t dx = -0.5613 dy = -0.1878 dz = -0.6118 |d|^2 = +0.7245\r\n",
      "T00 ERR ... El Dipole from exact qm density [e*bohr]:\r\n",
      "\t\t dx = -0.5741 dy = -0.1919 dz = -0.6258 |d|^2 = +0.7581\r\n",
      "T00 ERR ... Written charges to MP_FILES/frame_0/n2s1/Methane_1_n2s1.mps\r\n",
      "T00 ERR ... 2025-10-31 2:17:31 Finished evaluating site 1\r\n",
      "T00 ERR ... Saving data to molecule_1.orb\r\n",
      "T00 ERR ... Reporting job results\r\n",
      "\r\n",
      "T00 ERR ... Requesting next job\r\n",
      "T00 ERR ... Assign jobs from stack\r\n",
      "T00 ERR ... Sync did not yield any new jobs.\r\n",
      "T00 ERR ... Next job: ID = - (none available)"
     ]
    },
    {
     "name": "stdout",
     "output_type": "stream",
     "text": [
      "\r\n",
      "MST ERR Assign jobs from stack\r\n",
      "Changes have not been written to state file.\r\n"
     ]
    }
   ],
   "source": [
    "!xtp_parallel -e eqm -o eqm.xml -f state.hdf5 -x 2 -s 0 -j run -q 1"
   ]
  },
  {
   "cell_type": "markdown",
   "metadata": {},
   "source": [
    "## QM calculation for pairs\n",
    "In the following step we will run QM calculations for each pair in the hdf5 file. As the calculations on the previous step, we will first write the jobs in a file, then run them and finally store the results in the state file. First, we need to copy the input to our local folder"
   ]
  },
  {
   "cell_type": "markdown",
   "metadata": {},
   "source": [
    "As in the previous section, we set the GWBSE mode to `G0W0`, the `ranges` to `full` and the `basisset` and `auxbasisset` to `3-21G` and `aux-def2-svp`. But we compute only the `gw` approximation, as the BSE is formed in the coupling step only once and we do not have to diagonalize it. For more information, check the [iqm calculator options](https://www.votca.org/xtp/iqm.html). We only compute the `singlet` couplings. "
   ]
  },
  {
   "cell_type": "markdown",
   "metadata": {},
   "source": [
    "Before running the calculations, we need to specify in the `iqm` input which states to read into the jobfile for each segment type."
   ]
  },
  {
   "cell_type": "code",
   "execution_count": 15,
   "metadata": {
    "execution": {
     "iopub.execute_input": "2025-10-31T02:17:31.507990Z",
     "iopub.status.busy": "2025-10-31T02:17:31.507815Z",
     "iopub.status.idle": "2025-10-31T02:17:31.618802Z",
     "shell.execute_reply": "2025-10-31T02:17:31.618093Z"
    }
   },
   "outputs": [
    {
     "name": "stdout",
     "output_type": "stream",
     "text": [
      "<?xml version=\"1.0\"?>\r\n",
      "<options>\r\n",
      "  <iqm help=\"Executes qm calculations for individual molecules\" section=\"sec:eqm\">\r\n",
      "    <map_file>system.xml</map_file>\r\n",
      "    <gwbse>\r\n",
      "      <tasks>gw</tasks>\r\n",
      "      <gw>\r\n",
      "        <mode>G0W0</mode>\r\n",
      "      </gw>\r\n",
      "      <ranges>full</ranges>\r\n",
      "    </gwbse>\r\n",
      "    <dftpackage>\r\n",
      "      <basisset>3-21G</basisset>\r\n",
      "      <auxbasisset>aux-def2-svp</auxbasisset>\r\n",
      "    </dftpackage>\r\n",
      "    <bsecoupling>\r\n",
      "      <spin>singlet</spin>\r\n",
      "    </bsecoupling>\r\n",
      "    <readjobfile help=\"which states to read into the jobfile for each segment type\">\r\n",
      "      <singlet>Methane:s1</singlet>\r\n",
      "      <triplet>Methane:t1</triplet>\r\n",
      "      <electron>Methane:e1</electron>\r\n",
      "      <hole>Methane:h1</hole>\r\n",
      "    </readjobfile>\r\n",
      "  </iqm>\r\n",
      "</options>"
     ]
    }
   ],
   "source": [
    "!cat iqm.xml"
   ]
  },
  {
   "cell_type": "markdown",
   "metadata": {},
   "source": [
    "Now, let's write the jobs to the file"
   ]
  },
  {
   "cell_type": "code",
   "execution_count": 16,
   "metadata": {
    "execution": {
     "iopub.execute_input": "2025-10-31T02:17:31.621844Z",
     "iopub.status.busy": "2025-10-31T02:17:31.621626Z",
     "iopub.status.idle": "2025-10-31T02:17:32.106276Z",
     "shell.execute_reply": "2025-10-31T02:17:32.105668Z"
    }
   },
   "outputs": [
    {
     "name": "stdout",
     "output_type": "stream",
     "text": [
      "==================================================\r\n",
      "========   VOTCA (http://www.votca.org)   ========\r\n",
      "==================================================\r\n",
      "\r\n",
      "please read and cite: https://doi.org/10.21105/joss.06864\r\n",
      "and submit bugs to https://github.com/votca/votca/issues\r\n",
      "\r\n",
      "xtp_parallel, version 2025.1-dev gitid: 9782ace (compiled Oct 31 2025, 02:15:17)\r\n",
      "\r\n",
      "Initializing calculator\r\n",
      "... iqm\r\n",
      "\r\n",
      "... ... Initialized with 1 threads.\r\n",
      "\r\n",
      "... ... Using 1 openmp threads for 1x1=1 total threads.\r\n",
      "1 frames in statefile, Ids are: 0 \r\n",
      "Starting at frame 0\r\n",
      "Evaluating frame 0\r\n",
      "Import MD Topology (i.e. frame 0) from state.hdf5\r\n"
     ]
    },
    {
     "name": "stdout",
     "output_type": "stream",
     "text": [
      ".... \r\n",
      "... iqm \r\n",
      "... ... Writing job file iqm.jobs"
     ]
    },
    {
     "name": "stdout",
     "output_type": "stream",
     "text": [
      "\r\n",
      "... ... In total 12507 jobs\r\n",
      "Changes have not been written to state file.\r\n"
     ]
    }
   ],
   "source": [
    "!xtp_parallel -e iqm -o iqm.xml -f state.hdf5 -s 0 -j \"write\""
   ]
  },
  {
   "cell_type": "markdown",
   "metadata": {},
   "source": [
    "From the jobs that we just write down, let's make available only the first job"
   ]
  },
  {
   "cell_type": "code",
   "execution_count": 17,
   "metadata": {
    "execution": {
     "iopub.execute_input": "2025-10-31T02:17:32.109051Z",
     "iopub.status.busy": "2025-10-31T02:17:32.108657Z",
     "iopub.status.idle": "2025-10-31T02:17:32.351927Z",
     "shell.execute_reply": "2025-10-31T02:17:32.351223Z"
    }
   },
   "outputs": [],
   "source": [
    "!sed -i \"s/AVAILABLE/COMPLETE/g\" iqm.jobs\n",
    "!sed -i '0,/COMPLETE/s/COMPLETE/AVAILABLE/' iqm.jobs"
   ]
  },
  {
   "cell_type": "markdown",
   "metadata": {},
   "source": [
    "Now we can run and store the jobs results"
   ]
  },
  {
   "cell_type": "code",
   "execution_count": 18,
   "metadata": {
    "execution": {
     "iopub.execute_input": "2025-10-31T02:17:32.354801Z",
     "iopub.status.busy": "2025-10-31T02:17:32.354429Z",
     "iopub.status.idle": "2025-10-31T02:17:36.966365Z",
     "shell.execute_reply": "2025-10-31T02:17:36.965872Z"
    }
   },
   "outputs": [
    {
     "name": "stdout",
     "output_type": "stream",
     "text": [
      "==================================================\r\n",
      "========   VOTCA (http://www.votca.org)   ========\r\n",
      "==================================================\r\n",
      "\r\n",
      "please read and cite: https://doi.org/10.21105/joss.06864\r\n",
      "and submit bugs to https://github.com/votca/votca/issues\r\n",
      "\r\n",
      "xtp_parallel, version 2025.1-dev gitid: 9782ace (compiled Oct 31 2025, 02:15:17)\r\n",
      "\r\n",
      "Initializing calculator\r\n",
      "... iqm\r\n",
      "\r\n",
      "... ... Initialized with 1 threads.\r\n",
      "\r\n",
      "... ... Using 2 openmp threads for 1x2=2 total threads.\r\n",
      "1 frames in statefile, Ids are: 0 \r\n",
      "Starting at frame 0\r\n",
      "Evaluating frame 0\r\n",
      "Import MD Topology (i.e. frame 0) from state.hdf5\r\n"
     ]
    },
    {
     "name": "stdout",
     "output_type": "stream",
     "text": [
      ".... \r\n",
      "... iqm \r\n",
      "MST ERR Job file = 'iqm.jobs', cache size =  1\r\n",
      "MST ERR Initialize jobs from iqm.jobs"
     ]
    },
    {
     "name": "stdout",
     "output_type": "stream",
     "text": [
      "\r\n",
      "MST ERR Registered 12507 jobs.\r\n",
      "T00 ERR ... Requesting next job"
     ]
    },
    {
     "name": "stdout",
     "output_type": "stream",
     "text": [
      "\r\n",
      "T00 ERR ... Assign jobs from stack"
     ]
    },
    {
     "name": "stdout",
     "output_type": "stream",
     "text": [
      "\r\n",
      "T00 ERR ... Next job: ID = 0=> [ 0%] \r\n",
      "T00 ERR ... 2025-10-31 2:17:33 Evaluating pair 0 [0:1] out of 21093\r\n",
      "T00 ERR ... Running DFT"
     ]
    },
    {
     "name": "stdout",
     "output_type": "stream",
     "text": [
      "\r\n",
      "T00 ERR ... Calculating electronic couplings\r\n",
      "T00 ERR ... ======WARNING=======\r\n",
      " Coordinates of monomer and dimer atoms do not agree\r\n",
      "T00 ERR ... Levels:Basis A[2:17] B[2:17]\r\n",
      "T00 ERR ... Done with electronic couplings\r\n",
      "T00 ERR ... Running GWBSE"
     ]
    },
    {
     "name": "stdout",
     "output_type": "stream",
     "text": [
      "\r\n",
      "T00 ERR ... Running BSECoupling"
     ]
    },
    {
     "name": "stdout",
     "output_type": "stream",
     "text": [
      "\r\n",
      "T00 ERR ... 2025-10-31 2:17:35 Finished evaluating pair 0:1\r\n",
      "T00 ERR ... Orb file is not saved according to options \r\n",
      "T00 ERR ... Reporting job results\r\n",
      "\r\n",
      "T00 ERR ... Requesting next job"
     ]
    },
    {
     "name": "stdout",
     "output_type": "stream",
     "text": [
      "\r\n",
      "T00 ERR ... Assign jobs from stack"
     ]
    },
    {
     "name": "stdout",
     "output_type": "stream",
     "text": [
      "\r\n",
      "T00 ERR ... Sync did not yield any new jobs.\r\n",
      "T00 ERR ... Next job: ID = - (none available)"
     ]
    },
    {
     "name": "stdout",
     "output_type": "stream",
     "text": [
      "\r\n",
      "MST ERR Assign jobs from stack"
     ]
    },
    {
     "name": "stdout",
     "output_type": "stream",
     "text": [
      "\r\n",
      "Changes have not been written to state file.\r\n"
     ]
    }
   ],
   "source": [
    "!xtp_parallel -e iqm -o iqm.xml -f state.hdf5 -x 2 -s 0 -j run -q 1"
   ]
  },
  {
   "cell_type": "markdown",
   "metadata": {},
   "source": [
    "Finally, we read the results into the state"
   ]
  },
  {
   "cell_type": "code",
   "execution_count": 19,
   "metadata": {
    "execution": {
     "iopub.execute_input": "2025-10-31T02:17:36.969285Z",
     "iopub.status.busy": "2025-10-31T02:17:36.968857Z",
     "iopub.status.idle": "2025-10-31T02:17:37.873524Z",
     "shell.execute_reply": "2025-10-31T02:17:37.872952Z"
    }
   },
   "outputs": [
    {
     "name": "stdout",
     "output_type": "stream",
     "text": [
      "==================================================\r\n",
      "========   VOTCA (http://www.votca.org)   ========\r\n",
      "==================================================\r\n",
      "\r\n",
      "please read and cite: https://doi.org/10.21105/joss.06864\r\n",
      "and submit bugs to https://github.com/votca/votca/issues\r\n",
      "\r\n",
      "xtp_parallel, version 2025.1-dev gitid: 9782ace (compiled Oct 31 2025, 02:15:17)\r\n",
      "\r\n",
      "Initializing calculator\r\n",
      "... iqm\r\n",
      "\r\n",
      "... ... Initialized with 1 threads.\r\n",
      "\r\n",
      "... ... Using 1 openmp threads for 1x1=1 total threads.\r\n",
      "1 frames in statefile, Ids are: 0 \r\n",
      "Starting at frame 0\r\n",
      "Evaluating frame 0\r\n",
      "Import MD Topology (i.e. frame 0) from state.hdf5\r\n"
     ]
    },
    {
     "name": "stdout",
     "output_type": "stream",
     "text": [
      ".... \r\n",
      "... iqm "
     ]
    },
    {
     "name": "stdout",
     "output_type": "stream",
     "text": [
      "\r\n",
      " ERROR    Pairs [total:updated(e,h,s,t)] 21093:(1,1,1,0) Incomplete jobs: 12506\r\n"
     ]
    },
    {
     "name": "stdout",
     "output_type": "stream",
     "text": [
      "\r\n"
     ]
    },
    {
     "name": "stdout",
     "output_type": "stream",
     "text": [
      "Wrote MD topology (step = 0, time = 0) to state.hdf5\r\n",
      "... . \r\n"
     ]
    }
   ],
   "source": [
    "!xtp_parallel -e iqm -o iqm.xml -f state.hdf5 -j \"read\""
   ]
  },
  {
   "cell_type": "markdown",
   "metadata": {},
   "source": [
    "## Coupling\n",
    "We can now compute the classical coupling of transition in the aformentioned three stages,"
   ]
  },
  {
   "cell_type": "markdown",
   "metadata": {},
   "source": [
    "We need to change in the `iexcitoncl` input the name `map_file` option and add the state. check all the available of the [iexcitoncl calculator](https://www.votca.org/xtp/iexcitoncl.html). We do this via the commandline using the `-c` option."
   ]
  },
  {
   "cell_type": "code",
   "execution_count": 20,
   "metadata": {
    "execution": {
     "iopub.execute_input": "2025-10-31T02:17:37.876720Z",
     "iopub.status.busy": "2025-10-31T02:17:37.876212Z",
     "iopub.status.idle": "2025-10-31T02:17:38.331432Z",
     "shell.execute_reply": "2025-10-31T02:17:38.330831Z"
    }
   },
   "outputs": [
    {
     "name": "stdout",
     "output_type": "stream",
     "text": [
      "==================================================\r\n",
      "========   VOTCA (http://www.votca.org)   ========\r\n",
      "==================================================\r\n",
      "\r\n",
      "please read and cite: https://doi.org/10.21105/joss.06864\r\n",
      "and submit bugs to https://github.com/votca/votca/issues\r\n",
      "\r\n",
      "xtp_parallel, version 2025.1-dev gitid: 9782ace (compiled Oct 31 2025, 02:15:17)\r\n",
      "\r\n",
      "Initializing calculator\r\n",
      "... iexcitoncl\r\n",
      "\r\n",
      "... ... Initialized with 1 threads.\r\n",
      "\r\n",
      "... ... Using 1 openmp threads for 1x1=1 total threads.\r\n",
      "1 frames in statefile, Ids are: 0 \r\n",
      "Starting at frame 0\r\n",
      "Evaluating frame 0\r\n",
      "Import MD Topology (i.e. frame 0) from state.hdf5\r\n"
     ]
    },
    {
     "name": "stdout",
     "output_type": "stream",
     "text": [
      ".... \r\n",
      "... iexcitoncl \r\n",
      "... ... Writing job file exciton.jobs"
     ]
    },
    {
     "name": "stdout",
     "output_type": "stream",
     "text": [
      "\r\n",
      "... ... In total 8586 jobs\r\n",
      "Changes have not been written to state file.\r\n"
     ]
    }
   ],
   "source": [
    "!xtp_parallel -e iexcitoncl -c map_file=system.xml states=Methane:n2s1 -f state.hdf5 -j \"write\""
   ]
  },
  {
   "cell_type": "code",
   "execution_count": 21,
   "metadata": {
    "execution": {
     "iopub.execute_input": "2025-10-31T02:17:38.334053Z",
     "iopub.status.busy": "2025-10-31T02:17:38.333877Z",
     "iopub.status.idle": "2025-10-31T02:17:38.444681Z",
     "shell.execute_reply": "2025-10-31T02:17:38.444146Z"
    }
   },
   "outputs": [
    {
     "name": "stdout",
     "output_type": "stream",
     "text": [
      "<jobs>\r\n",
      "\t<job>\r\n",
      "\t\t<id>0</id>\r\n",
      "\t\t<tag></tag>\r\n",
      "\t\t<input>\r\n",
      "\t\t\t<segment id=\"0\" mps_file=\"MP_FILES/Methane_n2s1.mps\" type=\"Methane\">0</segment>\r\n",
      "\t\t\t<segment id=\"2\" mps_file=\"MP_FILES/Methane_n2s1.mps\" type=\"Methane\">2</segment>\r\n",
      "\t\t</input>\r\n",
      "\t\t<status>AVAILABLE</status>\r\n",
      "\t</job>\r\n",
      "\t<job>\r\n",
      "\t\t<id>1</id>\r\n",
      "\t\t<tag></tag>\r\n",
      "\t\t<input>\r\n",
      "\t\t\t<segment id=\"0\" mps_file=\"MP_FILES/Methane_n2s1.mps\" type=\"Methane\">0</segment>\r\n"
     ]
    }
   ],
   "source": [
    "!head -n 15 exciton.jobs"
   ]
  },
  {
   "cell_type": "markdown",
   "metadata": {},
   "source": [
    "Now we can run and save the jobs. For demo purposes we will run only the first job"
   ]
  },
  {
   "cell_type": "code",
   "execution_count": 22,
   "metadata": {
    "execution": {
     "iopub.execute_input": "2025-10-31T02:17:38.447206Z",
     "iopub.status.busy": "2025-10-31T02:17:38.447032Z",
     "iopub.status.idle": "2025-10-31T02:17:40.262324Z",
     "shell.execute_reply": "2025-10-31T02:17:40.261819Z"
    }
   },
   "outputs": [
    {
     "name": "stdout",
     "output_type": "stream",
     "text": [
      "==================================================\r\n",
      "========   VOTCA (http://www.votca.org)   ========\r\n",
      "==================================================\r\n",
      "\r\n",
      "please read and cite: https://doi.org/10.21105/joss.06864\r\n",
      "and submit bugs to https://github.com/votca/votca/issues\r\n",
      "\r\n",
      "xtp_parallel, version 2025.1-dev gitid: 9782ace (compiled Oct 31 2025, 02:15:17)\r\n",
      "\r\n",
      "Initializing calculator\r\n",
      "... iexcitoncl\r\n",
      "\r\n",
      "... ... Initialized with 1 threads.\r\n",
      "\r\n",
      "... ... Using 1 openmp threads for 1x1=1 total threads.\r\n",
      "1 frames in statefile, Ids are: 0 \r\n",
      "Starting at frame 0\r\n",
      "Evaluating frame 0\r\n",
      "Import MD Topology (i.e. frame 0) from state.hdf5\r\n"
     ]
    },
    {
     "name": "stdout",
     "output_type": "stream",
     "text": [
      ".... \r\n",
      "... iexcitoncl \r\n",
      "MST ERR Job file = 'exciton.jobs', cache size =  8\r\n",
      "MST ERR Initialize jobs from exciton.jobs"
     ]
    },
    {
     "name": "stdout",
     "output_type": "stream",
     "text": [
      "\r\n",
      "MST ERR Registered 8586 jobs.\r\n",
      "T00 ERR ... Requesting next job"
     ]
    },
    {
     "name": "stdout",
     "output_type": "stream",
     "text": [
      "\r\n",
      "T00 ERR ... Assign jobs from stack"
     ]
    },
    {
     "name": "stdout",
     "output_type": "stream",
     "text": [
      "\r\n",
      "T00 ERR ... Next job: ID = 0=> [ 0%] \r\n",
      "T00 ERR ... 2025-10-31 2:17:39 Evaluating pair 0 [0:2]\r\n",
      "T00 ERR ... Reporting job results\r\n",
      "\r\n",
      "T00 ERR ... Requesting next job"
     ]
    },
    {
     "name": "stdout",
     "output_type": "stream",
     "text": [
      "\r\n",
      "T00 ERR ... Assign jobs from stack"
     ]
    },
    {
     "name": "stdout",
     "output_type": "stream",
     "text": [
      "\r\n",
      "T00 ERR ... Sync did not yield any new jobs.\r\n",
      "T00 ERR ... Next job: ID = - (none available)"
     ]
    },
    {
     "name": "stdout",
     "output_type": "stream",
     "text": [
      "\r\n",
      "MST ERR Assign jobs from stack"
     ]
    },
    {
     "name": "stdout",
     "output_type": "stream",
     "text": [
      "\r\n",
      "Changes have not been written to state file.\r\n"
     ]
    }
   ],
   "source": [
    "!sed -i \"s/AVAILABLE/COMPLETE/g\" exciton.jobs\n",
    "!sed -i '0,/COMPLETE/s/COMPLETE/AVAILABLE/' exciton.jobs\n",
    "!xtp_parallel -e iexcitoncl -c map_file=system.xml states=Methane:n2s1 -f state.hdf5"
   ]
  },
  {
   "cell_type": "code",
   "execution_count": 23,
   "metadata": {
    "execution": {
     "iopub.execute_input": "2025-10-31T02:17:40.264706Z",
     "iopub.status.busy": "2025-10-31T02:17:40.264514Z",
     "iopub.status.idle": "2025-10-31T02:17:41.159252Z",
     "shell.execute_reply": "2025-10-31T02:17:41.158642Z"
    }
   },
   "outputs": [
    {
     "name": "stdout",
     "output_type": "stream",
     "text": [
      "==================================================\r\n",
      "========   VOTCA (http://www.votca.org)   ========\r\n",
      "==================================================\r\n",
      "\r\n",
      "please read and cite: https://doi.org/10.21105/joss.06864\r\n",
      "and submit bugs to https://github.com/votca/votca/issues\r\n",
      "\r\n",
      "xtp_parallel, version 2025.1-dev gitid: 9782ace (compiled Oct 31 2025, 02:15:17)\r\n",
      "\r\n",
      "Initializing calculator\r\n",
      "... iexcitoncl\r\n",
      "\r\n",
      "... ... Initialized with 1 threads.\r\n",
      "\r\n",
      "... ... Using 1 openmp threads for 1x1=1 total threads.\r\n",
      "1 frames in statefile, Ids are: 0 \r\n",
      "Starting at frame 0\r\n",
      "Evaluating frame 0\r\n",
      "Import MD Topology (i.e. frame 0) from state.hdf5\r\n"
     ]
    },
    {
     "name": "stdout",
     "output_type": "stream",
     "text": [
      ".... \r\n",
      "... iexcitoncl "
     ]
    },
    {
     "name": "stdout",
     "output_type": "stream",
     "text": [
      "\r\n",
      " ERROR    Neighborlist size 21093\r\n"
     ]
    },
    {
     "name": "stdout",
     "output_type": "stream",
     "text": [
      " ERROR    Pairs in jobfile [total:updated:incomplete] 8586:1:8585\r\n"
     ]
    },
    {
     "name": "stdout",
     "output_type": "stream",
     "text": [
      "Wrote MD topology (step = 0, time = 0) to state.hdf5\r\n",
      "... . \r\n"
     ]
    }
   ],
   "source": [
    "!xtp_parallel -e iexcitoncl -c map_file=system.xml -f state.hdf5 -j \"read\""
   ]
  },
  {
   "cell_type": "markdown",
   "metadata": {},
   "source": [
    "## Coupling analysis\n",
    "Using the coupling computed in the previous steps, we will generate an histogram for the squared couplings in logarithmic scale,"
   ]
  },
  {
   "cell_type": "code",
   "execution_count": 24,
   "metadata": {
    "execution": {
     "iopub.execute_input": "2025-10-31T02:17:41.162204Z",
     "iopub.status.busy": "2025-10-31T02:17:41.161845Z",
     "iopub.status.idle": "2025-10-31T02:17:41.507867Z",
     "shell.execute_reply": "2025-10-31T02:17:41.507344Z"
    }
   },
   "outputs": [
    {
     "name": "stdout",
     "output_type": "stream",
     "text": [
      "==================================================\r\n",
      "========   VOTCA (http://www.votca.org)   ========\r\n",
      "==================================================\r\n",
      "\r\n",
      "please read and cite: https://doi.org/10.21105/joss.06864\r\n",
      "and submit bugs to https://github.com/votca/votca/issues\r\n",
      "\r\n",
      "xtp_run, version 2025.1-dev gitid: 9782ace (compiled Oct 31 2025, 02:15:17)\r\n",
      "\r\n",
      "Initializing calculator\r\n",
      "... ianalyze\r\n",
      "1 frames in statefile, Ids are: 0 \r\n",
      "Starting at frame 0\r\n",
      "Evaluating frame 0\r\n",
      "Import MD Topology (i.e. frame 0) from state.hdf5\r\n"
     ]
    },
    {
     "name": "stdout",
     "output_type": "stream",
     "text": [
      ".... \r\n",
      "... ianalyze\r\n",
      " Using 1 threads\r\n",
      "Calculating for state e now.\r\n",
      "Calculating for state h now.\r\n",
      "Calculating for state s now.\r\n",
      "Changes have not been written to state file.\r\n"
     ]
    }
   ],
   "source": [
    "!xtp_run -e ianalyze -c states=e,h,s -f state.hdf5"
   ]
  },
  {
   "cell_type": "markdown",
   "metadata": {},
   "source": [
    "## QMMM calculations"
   ]
  },
  {
   "cell_type": "markdown",
   "metadata": {},
   "source": [
    "Finally let us run a proper qmmm calculation using the qmmm calculator"
   ]
  },
  {
   "cell_type": "code",
   "execution_count": 25,
   "metadata": {
    "execution": {
     "iopub.execute_input": "2025-10-31T02:17:41.510439Z",
     "iopub.status.busy": "2025-10-31T02:17:41.510255Z",
     "iopub.status.idle": "2025-10-31T02:17:41.620914Z",
     "shell.execute_reply": "2025-10-31T02:17:41.620333Z"
    }
   },
   "outputs": [
    {
     "name": "stdout",
     "output_type": "stream",
     "text": [
      "<?xml version=\"1.0\"?>\r\n",
      "<options>\r\n",
      "  <qmmm help=\"Executes qmmm calculations for individual molecules and clusters\" section=\"sec:qmmm\">\r\n",
      "    <print_regions_pdb help=\"print the geometry of the regions to a pdb file\">true</print_regions_pdb>\r\n",
      "    <max_iterations help=\"max iterations for qmmm scf loop\">50</max_iterations>\r\n",
      "    <map_file help=\"xml file with segment definition\">system.xml</map_file>\r\n",
      "    <job_file help=\"name of jobfile to which jobs are written\">qmmm_jobs.xml</job_file>\r\n",
      "    <io_jobfile>\r\n",
      "    <states>n s1 t1</states>\r\n",
      "    </io_jobfile>\r\n",
      "    <regions>\r\n",
      "      <qmregion help=\"definition of a region\">\r\n",
      "        <id help=\"id of a region has to start from 0\">0</id>\r\n",
      "        <gwbse>\r\n",
      "          <gw>\r\n",
      "            <mode>G0W0</mode>\r\n",
      "          </gw>\r\n",
      "          <bse>\r\n",
      "            <exctotal>10</exctotal>\r\n",
      "          </bse>\r\n",
      "          <ranges>full</ranges>\r\n",
      "        </gwbse>\r\n",
      "        <dftpackage>\r\n",
      "          <basisset>3-21G</basisset>\r\n",
      "          <auxbasisset>aux-def2-svp</auxbasisset>\r\n",
      "        </dftpackage>\r\n",
      "        <statetracker>\r\n",
      "          <overlap>0.8</overlap>\r\n",
      "        </statetracker>\r\n",
      "        <state help=\"qmstate to calculate i.e. n or s1\">jobfile</state>\r\n",
      "        <segments help=\"which segments to include in this region and which geometry they have\">jobfile</segments>\r\n",
      "      </qmregion>\r\n",
      "      <polarregion>\r\n",
      "        <id>1</id>\r\n",
      "        <cutoff>\r\n",
      "          <geometry>n</geometry>\r\n",
      "          <radius>1</radius>\r\n",
      "          <region>0</region>\r\n",
      "        </cutoff>\r\n",
      "      </polarregion>\r\n",
      "      <staticregion>\r\n",
      "        <id>2</id>\r\n",
      "        <cutoff>\r\n",
      "          <geometry>n</geometry>\r\n",
      "          <radius>1.4</radius>\r\n",
      "          <region>0</region>\r\n",
      "        </cutoff>\r\n",
      "      </staticregion>\r\n",
      "    </regions>\r\n",
      "  </qmmm>\r\n",
      "</options>\r\n"
     ]
    }
   ],
   "source": [
    "!cat qmmm.xml"
   ]
  },
  {
   "cell_type": "code",
   "execution_count": 26,
   "metadata": {
    "execution": {
     "iopub.execute_input": "2025-10-31T02:17:41.623266Z",
     "iopub.status.busy": "2025-10-31T02:17:41.623088Z",
     "iopub.status.idle": "2025-10-31T02:17:42.030830Z",
     "shell.execute_reply": "2025-10-31T02:17:42.030175Z"
    }
   },
   "outputs": [
    {
     "name": "stdout",
     "output_type": "stream",
     "text": [
      "==================================================\r\n",
      "========   VOTCA (http://www.votca.org)   ========\r\n",
      "==================================================\r\n",
      "\r\n",
      "please read and cite: https://doi.org/10.21105/joss.06864\r\n",
      "and submit bugs to https://github.com/votca/votca/issues\r\n",
      "\r\n",
      "xtp_parallel, version 2025.1-dev gitid: 9782ace (compiled Oct 31 2025, 02:15:17)\r\n",
      "\r\n",
      "Initializing calculator\r\n",
      "... qmmm\r\n",
      "\r\n",
      "... ... Initialized with 1 threads.\r\n",
      "\r\n",
      "... ... Using 1 openmp threads for 1x1=1 total threads.\r\n",
      "1 frames in statefile, Ids are: 0 \r\n",
      "Starting at frame 0\r\n",
      "Evaluating frame 0\r\n",
      "Import MD Topology (i.e. frame 0) from state.hdf5\r\n"
     ]
    },
    {
     "name": "stdout",
     "output_type": "stream",
     "text": [
      ".... \r\n",
      "... qmmm \r\n",
      "... ... Writing job file qmmm_jobs.xml"
     ]
    },
    {
     "name": "stdout",
     "output_type": "stream",
     "text": [
      "\r\n",
      "... ... In total 3000 jobs\r\n",
      "Changes have not been written to state file.\r\n"
     ]
    }
   ],
   "source": [
    "!xtp_parallel -e qmmm -o qmmm.xml -f state.hdf5 -j \"write\""
   ]
  },
  {
   "cell_type": "markdown",
   "metadata": {},
   "source": [
    "Lets run just the first job"
   ]
  },
  {
   "cell_type": "code",
   "execution_count": 27,
   "metadata": {
    "execution": {
     "iopub.execute_input": "2025-10-31T02:17:42.033720Z",
     "iopub.status.busy": "2025-10-31T02:17:42.033293Z",
     "iopub.status.idle": "2025-10-31T02:18:17.926819Z",
     "shell.execute_reply": "2025-10-31T02:18:17.926214Z"
    }
   },
   "outputs": [
    {
     "name": "stdout",
     "output_type": "stream",
     "text": [
      "==================================================\r\n",
      "========   VOTCA (http://www.votca.org)   ========\r\n",
      "==================================================\r\n",
      "\r\n",
      "please read and cite: https://doi.org/10.21105/joss.06864\r\n",
      "and submit bugs to https://github.com/votca/votca/issues\r\n",
      "\r\n",
      "xtp_parallel, version 2025.1-dev gitid: 9782ace (compiled Oct 31 2025, 02:15:17)\r\n",
      "\r\n",
      "Initializing calculator\r\n",
      "... qmmm\r\n",
      "\r\n",
      "... ... Initialized with 1 threads.\r\n",
      "\r\n",
      "... ... Using 2 openmp threads for 1x2=2 total threads.\r\n",
      "1 frames in statefile, Ids are: 0 \r\n",
      "Starting at frame 0\r\n",
      "Evaluating frame 0\r\n",
      "Import MD Topology (i.e. frame 0) from state.hdf5\r\n"
     ]
    },
    {
     "name": "stdout",
     "output_type": "stream",
     "text": [
      ".... \r\n",
      "... qmmm \r\n",
      "MST ERR Job file = 'qmmm_jobs.xml', cache size =  8\r\n",
      "MST ERR Initialize jobs from qmmm_jobs.xml"
     ]
    },
    {
     "name": "stdout",
     "output_type": "stream",
     "text": [
      "\r\n",
      "MST ERR Registered 3000 jobs.\r\n",
      "T00 ERR ... Requesting next job"
     ]
    },
    {
     "name": "stdout",
     "output_type": "stream",
     "text": [
      "\r\n",
      "T00 ERR ... Assign jobs from stack"
     ]
    },
    {
     "name": "stdout",
     "output_type": "stream",
     "text": [
      "\r\n",
      "T00 ERR ... Next job: ID = 0=> [ 0%] \r\n",
      "T00 ERR ...  Regions created\r\n",
      "T00 ERR ... Id: 0 type: qmregion size: 1 charge[e]= 11\r\n",
      "T00 ERR ... Id: 1 type: polarregion size: 92 charge[e]= -5.09315e-15\r\n",
      "T00 ERR ... Id: 2 type: staticregion size: 178 charge[e]= -9.86711e-15\r\n",
      "T00 ERR ... 2025-10-31 2:17:42 Writing jobtopology to QMMM/frame_0/job_0_Methane_0:n/regions.pdb\r\n",
      "T00 ERR ... 2025-10-31 2:17:42 --Inter Region SCF Iteration 1 of 50\r\n",
      "T00 ERR ... 2025-10-31 2:17:42 Evaluating qmregion 0\r\n",
      "T00 ERR ... 2025-10-31 2:17:42 Evaluating interaction between qmregion 0 and polarregion 1\r\n",
      "T00 ERR ... 2025-10-31 2:17:42 Evaluating interaction between qmregion 0 and staticregion 2\r\n",
      "T00 ERR ... Running DFT calculation\r\n",
      "T00 ERR ... 2025-10-31 2:17:42 Using 2 threads\r\n",
      "T00 ERR ... 2025-10-31 2:17:42 Using native Eigen implementation, no BLAS overload \r\n",
      "T00 ERR ...  Molecule Coordinates [A] \r\n",
      "T00 ERR ...   C   +30.3000 +1.2704 +5.5205\r\n",
      "T00 ERR ...   H   +31.2392 +1.4802 +6.0301\r\n",
      "T00 ERR ...   H   +30.4910 +0.6554 +4.6433\r\n",
      "T00 ERR ...   H   +29.8500 +2.2100 +5.2100\r\n",
      "T00 ERR ...   H   +29.6200 +0.7500 +6.2000\r\n",
      "T00 ERR ... 2025-10-31 2:17:42 Loaded DFT Basis Set 3-21G with 17 functions"
     ]
    },
    {
     "name": "stdout",
     "output_type": "stream",
     "text": [
      "\r\n",
      "T00 ERR ... 2025-10-31 2:17:42 Loaded AUX Basis Set aux-def2-svp with 104 functions\r\n",
      "T00 ERR ... 2025-10-31 2:17:42 Total number of electrons: 10\r\n",
      "T00 ERR ... 2025-10-31 2:17:42 Smallest value of AOOverlap matrix is 0.0336407\r\n",
      "T00 ERR ... 2025-10-31 2:17:42 Removed 0 basisfunction from inverse overlap matrix\r\n",
      "T00 ERR ... 2025-10-31 2:17:42 Convergence Options:\r\n",
      "T00 ERR ... \t\t Delta E [Ha]: 1e-07\r\n",
      "T00 ERR ... \t\t DIIS max error: 1e-07\r\n",
      "T00 ERR ... \t\t DIIS histlength: 20\r\n",
      "T00 ERR ... \t\t ADIIS start: 0.8\r\n",
      "T00 ERR ... \t\t DIIS start: 0.002\r\n",
      "T00 ERR ... \t\t Deleting oldest element from DIIS hist\r\n",
      "T00 ERR ... \t\t Levelshift[Ha]: 0\r\n",
      "T00 ERR ... \t\t Levelshift end: 0.2\r\n",
      "T00 ERR ... \t\t Mixing Parameter alpha: 0.7\r\n",
      "T00 ERR ... 2025-10-31 2:17:42 Setup invariant parts of Electron Repulsion integrals \r\n",
      "T00 ERR ... 2025-10-31 2:17:42 Constructed independent particle hamiltonian \r\n",
      "T00 ERR ... 2025-10-31 2:17:42 Nuclear Repulsion Energy is 13.4434088\r\n",
      "T00 ERR ... 2025-10-31 2:17:42 1350 External sites\r\n",
      "T00 ERR ...  Name      Coordinates[a0]     charge[e]         dipole[e*a0]    \r\n",
      "T00 ERR ...   C   +63.8902 +7.9543 +11.0171   -0.3282   +0.0000 +0.0000 +0.0000\r\n",
      "T00 ERR ...   H   +62.3892 +6.5470 +10.9796   +0.0824   +0.0000 +0.0000 +0.0000\r\n",
      "T00 ERR ...   H   +65.3194 +7.4736 +9.6186   +0.0822   +0.0000 +0.0000 +0.0000\r\n",
      "T00 ERR ...   H   +63.1170 +9.8077 +10.6203   +0.0817   +0.0000 +0.0000 +0.0000\r\n",
      "T00 ERR ...   H   +64.7422 +7.9557 +12.9068   +0.0819   +0.0000 +0.0000 +0.0000\r\n",
      "T00 ERR ...   C   +63.9128 -0.3996 +22.8673   -0.3282   +0.0000 +0.0000 +0.0000\r\n",
      "T00 ERR ...   H   +63.0449 -1.1731 +21.1692   +0.0824   +0.0000 +0.0000 +0.0000\r\n",
      "T00 ERR ...   H   +62.7676 +1.1530 +23.5795   +0.0822   +0.0000 +0.0000 +0.0000\r\n",
      "T00 ERR ...   H   +64.0430 -1.8922 +24.2830   +0.0817   +0.0000 +0.0000 +0.0000\r\n",
      "T00 ERR ...   H   +65.8004 +0.2810 +22.4122   +0.0819   +0.0000 +0.0000 +0.0000\r\n",
      "T00 ERR ...   C   +61.7182 -0.4374 -3.3115   -0.3282   +0.0000 +0.0000 +0.0000\r\n",
      "T00 ERR ...   H   +60.6600 -1.0798 -4.9554   +0.0824   +0.0000 +0.0000 +0.0000\r\n",
      "T00 ERR ...   H   +63.3309 +0.6815 -3.9252   +0.0822   +0.0000 +0.0000 +0.0000\r\n",
      "T00 ERR ...   H   +62.3800 -2.0623 -2.2148   +0.0817   +0.0000 +0.0000 +0.0000\r\n",
      "T00 ERR ...   H   +60.5092 +0.7345 -2.1392   +0.0819   +0.0000 +0.0000 +0.0000\r\n",
      "T00 ERR ...   C   +62.0402 +12.7739 +4.5175   -0.3282   +0.0000 +0.0000 +0.0000\r\n",
      "T00 ERR ...   H   +60.1049 +13.3052 +4.0622   +0.0824   +0.0000 +0.0000 +0.0000\r\n",
      "T00 ERR ...   H   +62.0812 +11.8167 +6.3372   +0.0822   +0.0000 +0.0000 +0.0000\r\n",
      "T00 ERR ...   H   +63.2115 +14.4753 +4.6109   +0.0817   +0.0000 +0.0000 +0.0000\r\n",
      "T00 ERR ...   H   +62.7769 +11.5084 +3.0803   +0.0819   +0.0000 +0.0000 +0.0000\r\n",
      "T00 ERR ...   C   +60.6789 +14.3239 +12.6808   -0.3282   +0.0000 +0.0000 +0.0000\r\n",
      "T00 ERR ...   H   +61.0756 +13.9461 +10.6972   +0.0824   +0.0000 +0.0000 +0.0000\r\n",
      "T00 ERR ...   H   +61.0224 +16.3108 +13.0851   +0.0822   +0.0000 +0.0000 +0.0000\r\n",
      "T00 ERR ...   H   +58.7327 +13.8328 +13.0580   +0.0817   +0.0000 +0.0000 +0.0000\r\n",
      "T00 ERR ...   H   +61.9074 +13.1525 +13.8517   +0.0819   +0.0000 +0.0000 +0.0000\r\n",
      "T00 ERR ...   C   +68.7870 +4.1961 +17.9521   -0.3282   +0.0000 +0.0000 +0.0000\r\n",
      "T00 ERR ...   H   +68.2015 +2.4962 +18.9532   +0.0824   +0.0000 +0.0000 +0.0000\r\n",
      "T00 ERR ...   H   +67.2445 +4.8625 +16.7665   +0.0822   +0.0000 +0.0000 +0.0000\r\n",
      "T00 ERR ...   H   +70.4303 +3.7606 +16.7997   +0.0817   +0.0000 +0.0000 +0.0000\r\n",
      "T00 ERR ...   H   +69.2964 +5.6503 +19.3130   +0.0819   +0.0000 +0.0000 +0.0000\r\n",
      "T00 ERR ...   C   +54.0832 +4.4983 +27.1938   -0.3282   +0.0000 +0.0000 +0.0000\r\n",
      "T00 ERR ...   H   +53.5372 +6.4564 +27.5139   +0.0824   +0.0000 +0.0000 +0.0000\r\n",
      "T00 ERR ...   H   +52.9768 +3.2670 +28.4141   +0.0822   +0.0000 +0.0000 +0.0000\r\n",
      "T00 ERR ...   H   +53.7249 +4.0062 +25.2278   +0.0817   +0.0000 +0.0000 +0.0000\r\n",
      "T00 ERR ...   H   +56.0682 +4.2330 +27.6278   +0.0819   +0.0000 +0.0000 +0.0000\r\n",
      "T00 ERR ...   C   +63.8174 +6.3112 -1.0788   -0.3282   +0.0000 +0.0000 +0.0000\r\n",
      "T00 ERR ...   H   +65.2393 +6.4796 +0.3993   +0.0824   +0.0000 +0.0000 +0.0000\r\n",
      "T00 ERR ...   H   +62.4364 +4.8836 -0.5459   +0.0822   +0.0000 +0.0000 +0.0000\r\n",
      "T00 ERR ...   H   +64.7422 +5.7637 -2.8384   +0.0817   +0.0000 +0.0000 +0.0000\r\n",
      "T00 ERR ...   H   +62.8903 +8.1258 -1.3455   +0.0819   +0.0000 +0.0000 +0.0000\r\n",
      "T00 ERR ...   C   +64.1752 +19.2751 +7.8615   -0.3282   +0.0000 +0.0000 +0.0000\r\n",
      "T00 ERR ...   H   +62.9276 +19.0860 +6.2359   +0.0824   +0.0000 +0.0000 +0.0000\r\n",
      "T00 ERR ...   H   +63.4396 +18.1623 +9.4267   +0.0822   +0.0000 +0.0000 +0.0000\r\n",
      "T00 ERR ...   H   +66.0461 +18.6138 +7.3699   +0.0817   +0.0000 +0.0000 +0.0000\r\n",
      "T00 ERR ...   H   +64.2509 +21.2405 +8.4282   +0.0819   +0.0000 +0.0000 +0.0000\r\n",
      "T00 ERR ...   C   +61.3975 +17.7254 +18.4625   -0.3282   +0.0000 +0.0000 +0.0000\r\n",
      "T00 ERR ...   H   +60.9990 +19.0346 +16.9256   +0.0824   +0.0000 +0.0000 +0.0000\r\n",
      "T00 ERR ...   H   +61.0958 +18.6680 +20.2653   +0.0822   +0.0000 +0.0000 +0.0000\r\n",
      "T00 ERR ...   H   +60.1502 +16.1005 +18.3303   +0.0817   +0.0000 +0.0000 +0.0000\r\n",
      "T00 ERR ...   H   +63.3627 +17.1020 +18.3492   +0.0819   +0.0000 +0.0000 +0.0000\r\n",
      "T00 ERR ...               ... (1300 sites not displayed)\r\n"
     ]
    },
    {
     "name": "stdout",
     "output_type": "stream",
     "text": [
      "\r\n",
      "T00 ERR ... 2025-10-31 2:17:42 Filled DFT external multipole potential matrix\r\n",
      "T00 ERR ... 2025-10-31 2:17:42 Nuclei-external site interaction energy 0.0204347161\r\n",
      "T00 ERR ... 2025-10-31 2:17:42 Using hybrid functional with alpha=0.25\r\n",
      "T00 ERR ... 2025-10-31 2:17:43 Setup numerical integration grid medium for vxc functional XC_HYB_GGA_XC_PBEH\r\n",
      "T00 ERR ... 2025-10-31 2:17:43 Setup Initial Guess using: atom\r\n",
      "T00 ERR ... 2025-10-31 2:17:43 Calculating atom density for C"
     ]
    },
    {
     "name": "stdout",
     "output_type": "stream",
     "text": [
      "\r\n",
      "T00 ERR ... 2025-10-31 2:17:43 Calculating atom density for H"
     ]
    },
    {
     "name": "stdout",
     "output_type": "stream",
     "text": [
      "\r\n",
      "T00 ERR ... 2025-10-31 2:17:43 STARTING SCF cycle\r\n",
      "T00 ERR ...  --------------------------------------------------------------------------\r\n",
      "T00 ERR ... \r\n",
      "T00 ERR ... 2025-10-31 2:17:43 Iteration 1 of 100"
     ]
    },
    {
     "name": "stdout",
     "output_type": "stream",
     "text": [
      "\r\n",
      "T00 ERR ... 2025-10-31 2:17:43 Total Energy -40.1570486273\r\n",
      "T00 ERR ... 2025-10-31 2:17:43 DIIs error 0.219689889334\r\n",
      "T00 ERR ... 2025-10-31 2:17:43 Delta Etot 0\r\n",
      "T00 ERR ... \r\n",
      "T00 ERR ... 2025-10-31 2:17:43 Iteration 2 of 100"
     ]
    },
    {
     "name": "stdout",
     "output_type": "stream",
     "text": [
      "\r\n",
      "T00 ERR ... 2025-10-31 2:17:43 Total Energy -40.1929958671\r\n",
      "T00 ERR ... 2025-10-31 2:17:43 DIIs error 0.128777833988\r\n",
      "T00 ERR ... 2025-10-31 2:17:43 Delta Etot -0.0359472398464\r\n",
      "T00 ERR ... \r\n",
      "T00 ERR ... 2025-10-31 2:17:43 Iteration 3 of 100"
     ]
    },
    {
     "name": "stdout",
     "output_type": "stream",
     "text": [
      "\r\n",
      "T00 ERR ... 2025-10-31 2:17:43 Total Energy -40.209483865\r\n",
      "T00 ERR ... 2025-10-31 2:17:43 DIIs error 0.0793411431108\r\n",
      "T00 ERR ... 2025-10-31 2:17:43 Delta Etot -0.016487997892\r\n",
      "T00 ERR ... \r\n",
      "T00 ERR ... 2025-10-31 2:17:43 Iteration 4 of 100"
     ]
    },
    {
     "name": "stdout",
     "output_type": "stream",
     "text": [
      "\r\n",
      "T00 ERR ... 2025-10-31 2:17:44 Total Energy -40.2401676261\r\n",
      "T00 ERR ... 2025-10-31 2:17:44 DIIs error 0.0296047735871\r\n",
      "T00 ERR ... 2025-10-31 2:17:44 Delta Etot -0.0306837610599\r\n",
      "T00 ERR ... \r\n",
      "T00 ERR ... 2025-10-31 2:17:44 Iteration 5 of 100"
     ]
    },
    {
     "name": "stdout",
     "output_type": "stream",
     "text": [
      "\r\n",
      "T00 ERR ... 2025-10-31 2:17:44 Total Energy -40.24006075\r\n",
      "T00 ERR ... 2025-10-31 2:17:44 DIIs error 0.0311802824608\r\n",
      "T00 ERR ... 2025-10-31 2:17:44 Delta Etot 0.000106876037613\r\n",
      "T00 ERR ... \r\n",
      "T00 ERR ... 2025-10-31 2:17:44 Iteration 6 of 100"
     ]
    },
    {
     "name": "stdout",
     "output_type": "stream",
     "text": [
      "\r\n",
      "T00 ERR ... 2025-10-31 2:17:44 Total Energy -40.2424135955\r\n",
      "T00 ERR ... 2025-10-31 2:17:44 DIIs error 0.000315586011549\r\n",
      "T00 ERR ... 2025-10-31 2:17:44 Delta Etot -0.00235284545867\r\n",
      "T00 ERR ... \r\n",
      "T00 ERR ... 2025-10-31 2:17:44 Iteration 7 of 100"
     ]
    },
    {
     "name": "stdout",
     "output_type": "stream",
     "text": [
      "\r\n",
      "T00 ERR ... 2025-10-31 2:17:44 Total Energy -40.2424138448\r\n",
      "T00 ERR ... 2025-10-31 2:17:44 DIIs error 2.08700287088e-05\r\n",
      "T00 ERR ... 2025-10-31 2:17:44 Delta Etot -2.49285463383e-07\r\n",
      "T00 ERR ... \r\n",
      "T00 ERR ... 2025-10-31 2:17:44 Iteration 8 of 100"
     ]
    },
    {
     "name": "stdout",
     "output_type": "stream",
     "text": [
      "\r\n",
      "T00 ERR ... 2025-10-31 2:17:44 Total Energy -40.242413845\r\n",
      "T00 ERR ... 2025-10-31 2:17:44 DIIs error 1.08550543401e-05\r\n",
      "T00 ERR ... 2025-10-31 2:17:44 Delta Etot -2.62218691205e-10\r\n",
      "T00 ERR ... \r\n",
      "T00 ERR ... 2025-10-31 2:17:44 Iteration 9 of 100"
     ]
    },
    {
     "name": "stdout",
     "output_type": "stream",
     "text": [
      "\r\n",
      "T00 ERR ... 2025-10-31 2:17:44 Total Energy -40.2424138454\r\n",
      "T00 ERR ... 2025-10-31 2:17:44 DIIs error 3.00317798402e-06\r\n",
      "T00 ERR ... 2025-10-31 2:17:44 Delta Etot -4.09720257721e-10\r\n",
      "T00 ERR ... \r\n",
      "T00 ERR ... 2025-10-31 2:17:44 Iteration 10 of 100"
     ]
    },
    {
     "name": "stdout",
     "output_type": "stream",
     "text": [
      "\r\n",
      "T00 ERR ... 2025-10-31 2:17:44 Total Energy -40.2424138455\r\n",
      "T00 ERR ... 2025-10-31 2:17:44 DIIs error 8.25971388577e-07\r\n",
      "T00 ERR ... 2025-10-31 2:17:44 Delta Etot -3.2308378195e-11\r\n",
      "T00 ERR ... \r\n",
      "T00 ERR ... 2025-10-31 2:17:44 Iteration 11 of 100"
     ]
    },
    {
     "name": "stdout",
     "output_type": "stream",
     "text": [
      "\r\n",
      "T00 ERR ... 2025-10-31 2:17:44 Total Energy -40.2424138455\r\n",
      "T00 ERR ... 2025-10-31 2:17:44 DIIs error 1.31691795572e-09\r\n",
      "T00 ERR ... 2025-10-31 2:17:44 Delta Etot -2.50111042988e-12\r\n",
      "T00 ERR ... 2025-10-31 2:17:44 Total Energy has converged to -2.50111043e-12[Ha] after 11 iterations. DIIS error is converged up to 1.31691796e-09\r\n",
      "T00 ERR ... 2025-10-31 2:17:44 Final Single Point Energy -40.2424138455 Ha\r\n",
      "T00 ERR ... 2025-10-31 2:17:44 Final Local Exc contribution -5.18435611699 Ha\r\n",
      "T00 ERR ... 2025-10-31 2:17:44 Final Non Local Ex contribution -1.63928269767 Ha\r\n",
      "T00 ERR ...   Orbital energies: \r\n",
      "T00 ERR ...   index occupation energy(Hartree) \r\n",
      "T00 ERR ...      0      2   -10.1489317519\r\n",
      "T00 ERR ...      1      2   -0.7132904411\r\n",
      "T00 ERR ...      2      2   -0.4030713273\r\n",
      "T00 ERR ...      3      2   -0.4023963806\r\n",
      "T00 ERR ...      4      2   -0.4011120794\r\n",
      "T00 ERR ...      5      0   +0.1603096275\r\n",
      "T00 ERR ...      6      0   +0.2042082497\r\n",
      "T00 ERR ...      7      0   +0.2067242788\r\n",
      "T00 ERR ...      8      0   +0.2073711844\r\n",
      "T00 ERR ...      9      0   +0.7230331626\r\n",
      "T00 ERR ...     10      0   +0.7243405880\r\n",
      "T00 ERR ...     11      0   +0.7264635791\r\n",
      "T00 ERR ...     12      0   +1.0550127626\r\n",
      "T00 ERR ...     13      0   +1.0860845419\r\n",
      "T00 ERR ...     14      0   +1.0887857975\r\n",
      "T00 ERR ...     15      0   +1.0898327458\r\n",
      "T00 ERR ...     16      0   +1.7110608067\r\n",
      "T00 ERR ... 2025-10-31 2:17:44 Electric Dipole is[e*bohr]:\r\n",
      "\t\t dx=0.00699744426816\r\n",
      "\t\t dy=0.00987002179593\r\n",
      "\t\t dz=-0.00920995433508\r\n",
      "T00 ERR ... Writing result to temp.orb\r\n",
      "T00 ERR ... 2025-10-31 2:17:44 DFT calculation took 1.614577701 seconds.\r\n",
      "T00 ERR ... 2025-10-31 2:17:44 Evaluating polarregion 1\r\n",
      "T00 ERR ... 2025-10-31 2:17:44 Evaluating interaction between polarregion 1 and qmregion 0"
     ]
    },
    {
     "name": "stdout",
     "output_type": "stream",
     "text": [
      "\r\n",
      "T00 ERR ... 2025-10-31 2:17:44 Evaluating interaction between polarregion 1 and staticregion 2"
     ]
    },
    {
     "name": "stdout",
     "output_type": "stream",
     "text": [
      "\r\n",
      "T00 ERR ... 2025-10-31 2:17:44 Starting Solving for classical polarization with 1380 degrees of freedom.\r\n",
      "T00 ERR ... 2025-10-31 2:17:44 CG: #iterations: 6, estimated error: 2.00536304568e-05\r\n",
      "T00 ERR ...   Total static energy [hrt]= 0.0009102654542\r\n",
      "T00 ERR ...   Total polar energy [hrt]= -0.0006100905345\r\n",
      "T00 ERR ...  Total energy [hrt]= 0.0003001749197\r\n",
      "T00 ERR ... 2025-10-31 2:17:44 Evaluating staticregion 2\r\n",
      "T00 ERR ... 2025-10-31 2:17:44 Writing checkpoint to checkpoint_iter_1.hdf5"
     ]
    },
    {
     "name": "stdout",
     "output_type": "stream",
     "text": [
      "\r\n",
      "T00 ERR ...  Region:qmregion 0 is not converged deltaE=-40.24241385 RMS Dmat=0.1635648179 MaxDmat=2.034289803\r\n",
      "T00 ERR ... 2025-10-31 2:17:44 Region:polarregion 1 is not converged deltaE=0.0003001749197\r\n",
      "T00 ERR ... 2025-10-31 2:17:44 --Total Energy all regions -40.24211367\r\n",
      "T00 ERR ... 2025-10-31 2:17:44 --Inter Region SCF Iteration 2 of 50\r\n",
      "T00 ERR ... 2025-10-31 2:17:44 Evaluating qmregion 0\r\n",
      "T00 ERR ... 2025-10-31 2:17:44 Evaluating interaction between qmregion 0 and polarregion 1\r\n",
      "T00 ERR ... 2025-10-31 2:17:44 Evaluating interaction between qmregion 0 and staticregion 2\r\n",
      "T00 ERR ... Running DFT calculation\r\n",
      "T00 ERR ... 2025-10-31 2:17:44 Using 2 threads\r\n",
      "T00 ERR ... 2025-10-31 2:17:44 Using native Eigen implementation, no BLAS overload \r\n",
      "T00 ERR ...  Molecule Coordinates [A] \r\n",
      "T00 ERR ...   C   +30.3000 +1.2704 +5.5205\r\n",
      "T00 ERR ...   H   +31.2392 +1.4802 +6.0301\r\n",
      "T00 ERR ...   H   +30.4910 +0.6554 +4.6433\r\n",
      "T00 ERR ...   H   +29.8500 +2.2100 +5.2100\r\n",
      "T00 ERR ...   H   +29.6200 +0.7500 +6.2000\r\n",
      "T00 ERR ... 2025-10-31 2:17:44 Loaded DFT Basis Set 3-21G with 17 functions\r\n",
      "T00 ERR ... 2025-10-31 2:17:44 Loaded AUX Basis Set aux-def2-svp with 104 functions\r\n",
      "T00 ERR ... 2025-10-31 2:17:44 Total number of electrons: 10\r\n",
      "T00 ERR ... 2025-10-31 2:17:44 Smallest value of AOOverlap matrix is 0.03364074275\r\n",
      "T00 ERR ... 2025-10-31 2:17:44 Removed 0 basisfunction from inverse overlap matrix\r\n",
      "T00 ERR ... 2025-10-31 2:17:44 Convergence Options:\r\n",
      "T00 ERR ... \t\t Delta E [Ha]: 1e-07\r\n",
      "T00 ERR ... \t\t DIIS max error: 1e-07\r\n",
      "T00 ERR ... \t\t DIIS histlength: 20\r\n",
      "T00 ERR ... \t\t ADIIS start: 0.8\r\n",
      "T00 ERR ... \t\t DIIS start: 0.002\r\n",
      "T00 ERR ... \t\t Deleting oldest element from DIIS hist\r\n",
      "T00 ERR ... \t\t Levelshift[Ha]: 0\r\n",
      "T00 ERR ... \t\t Levelshift end: 0.2\r\n",
      "T00 ERR ... \t\t Mixing Parameter alpha: 0.7"
     ]
    },
    {
     "name": "stdout",
     "output_type": "stream",
     "text": [
      "\r\n",
      "T00 ERR ... 2025-10-31 2:17:44 Setup invariant parts of Electron Repulsion integrals \r\n",
      "T00 ERR ... 2025-10-31 2:17:44 Constructed independent particle hamiltonian \r\n",
      "T00 ERR ... 2025-10-31 2:17:44 Nuclear Repulsion Energy is 13.4434088\r\n",
      "T00 ERR ... 2025-10-31 2:17:44 1350 External sites\r\n",
      "T00 ERR ...  Name      Coordinates[a0]     charge[e]         dipole[e*a0]    \r\n",
      "T00 ERR ...   C   +63.8902 +7.9543 +11.0171   -0.3282   +0.0023 -0.0026 -0.0071\r\n",
      "T00 ERR ...   H   +62.3892 +6.5470 +10.9796   +0.0824   +0.0017 -0.0006 -0.0018\r\n",
      "T00 ERR ...   H   +65.3194 +7.4736 +9.6186   +0.0822   +0.0015 -0.0009 -0.0014\r\n",
      "T00 ERR ...   H   +63.1170 +9.8077 +10.6203   +0.0817   +0.0003 -0.0004 +0.0009\r\n",
      "T00 ERR ...   H   +64.7422 +7.9557 +12.9068   +0.0819   +0.0025 +0.0030 -0.0028\r\n",
      "T00 ERR ...   C   +63.9128 -0.3996 +22.8673   -0.3282   -0.0018 +0.0027 +0.0048\r\n",
      "T00 ERR ...   H   +63.0449 -1.1731 +21.1692   +0.0824   +0.0009 +0.0003 +0.0015\r\n",
      "T00 ERR ...   H   +62.7676 +1.1530 +23.5795   +0.0822   -0.0011 +0.0054 +0.0020\r\n",
      "T00 ERR ...   H   +64.0430 -1.8922 +24.2830   +0.0817   +0.0013 +0.0001 -0.0010\r\n",
      "T00 ERR ...   H   +65.8004 +0.2810 +22.4122   +0.0819   -0.0031 -0.0003 +0.0013\r\n",
      "T00 ERR ...   C   +61.7182 -0.4374 -3.3115   -0.3282   +0.0004 -0.0004 +0.0004\r\n",
      "T00 ERR ...   H   +60.6600 -1.0798 -4.9554   +0.0824   +0.0012 +0.0017 +0.0012\r\n",
      "T00 ERR ...   H   +63.3309 +0.6815 -3.9252   +0.0822   -0.0010 -0.0012 -0.0005\r\n",
      "T00 ERR ...   H   +62.3800 -2.0623 -2.2148   +0.0817   +0.0014 -0.0012 +0.0006\r\n",
      "T00 ERR ...   H   +60.5092 +0.7345 -2.1392   +0.0819   -0.0024 -0.0025 -0.0022\r\n",
      "T00 ERR ...   C   +62.0402 +12.7739 +4.5175   -0.3282   +0.0014 -0.0014 +0.0034\r\n",
      "T00 ERR ...   H   +60.1049 +13.3052 +4.0622   +0.0824   -0.0001 -0.0021 -0.0002\r\n",
      "T00 ERR ...   H   +62.0812 +11.8167 +6.3372   +0.0822   -0.0005 -0.0035 -0.0004\r\n",
      "T00 ERR ...   H   +63.2115 +14.4753 +4.6109   +0.0817   +0.0022 +0.0014 +0.0015\r\n",
      "T00 ERR ...   H   +62.7769 +11.5084 +3.0803   +0.0819   -0.0008 -0.0012 +0.0015\r\n",
      "T00 ERR ...   C   +60.6789 +14.3239 +12.6808   -0.3282   -0.0029 +0.0004 +0.0003\r\n",
      "T00 ERR ...   H   +61.0756 +13.9461 +10.6972   +0.0824   -0.0044 +0.0027 -0.0009\r\n",
      "T00 ERR ...   H   +61.0224 +16.3108 +13.0851   +0.0822   -0.0003 -0.0006 +0.0029\r\n",
      "T00 ERR ...   H   +58.7327 +13.8328 +13.0580   +0.0817   +0.0003 -0.0017 -0.0004\r\n",
      "T00 ERR ...   H   +61.9074 +13.1525 +13.8517   +0.0819   -0.0011 -0.0014 +0.0030\r\n",
      "T00 ERR ...   C   +68.7870 +4.1961 +17.9521   -0.3282   +0.0040 +0.0012 +0.0051\r\n",
      "T00 ERR ...   H   +68.2015 +2.4962 +18.9532   +0.0824   +0.0001 +0.0002 -0.0018\r\n",
      "T00 ERR ...   H   +67.2445 +4.8625 +16.7665   +0.0822   +0.0006 -0.0026 +0.0019\r\n",
      "T00 ERR ...   H   +70.4303 +3.7606 +16.7997   +0.0817   -0.0010 +0.0014 +0.0001\r\n",
      "T00 ERR ...   H   +69.2964 +5.6503 +19.3130   +0.0819   +0.0009 +0.0010 +0.0051\r\n",
      "T00 ERR ...   C   +54.0832 +4.4983 +27.1938   -0.3282   -0.0002 -0.0014 -0.0006\r\n",
      "T00 ERR ...   H   +53.5372 +6.4564 +27.5139   +0.0824   -0.0012 -0.0009 +0.0003\r\n",
      "T00 ERR ...   H   +52.9768 +3.2670 +28.4141   +0.0822   -0.0006 -0.0011 +0.0004\r\n",
      "T00 ERR ...   H   +53.7249 +4.0062 +25.2278   +0.0817   +0.0023 -0.0001 +0.0009\r\n",
      "T00 ERR ...   H   +56.0682 +4.2330 +27.6278   +0.0819   -0.0029 +0.0017 -0.0014\r\n",
      "T00 ERR ...   C   +63.8174 +6.3112 -1.0788   -0.3282   -0.0012 +0.0005 +0.0014\r\n",
      "T00 ERR ...   H   +65.2393 +6.4796 +0.3993   +0.0824   -0.0006 -0.0007 +0.0023\r\n",
      "T00 ERR ...   H   +62.4364 +4.8836 -0.5459   +0.0822   +0.0019 +0.0016 +0.0003\r\n",
      "T00 ERR ...   H   +64.7422 +5.7637 -2.8384   +0.0817   -0.0007 +0.0031 +0.0009\r\n",
      "T00 ERR ...   H   +62.8903 +8.1258 -1.3455   +0.0819   -0.0008 -0.0013 -0.0031\r\n",
      "T00 ERR ...   C   +64.1752 +19.2751 +7.8615   -0.3282   +0.0044 -0.0010 +0.0007\r\n",
      "T00 ERR ...   H   +62.9276 +19.0860 +6.2359   +0.0824   -0.0013 +0.0000 +0.0022\r\n",
      "T00 ERR ...   H   +63.4396 +18.1623 +9.4267   +0.0822   +0.0009 -0.0007 -0.0001\r\n",
      "T00 ERR ...   H   +66.0461 +18.6138 +7.3699   +0.0817   +0.0010 -0.0012 -0.0000\r\n",
      "T00 ERR ...   H   +64.2509 +21.2405 +8.4282   +0.0819   +0.0016 +0.0003 -0.0004\r\n",
      "T00 ERR ...   C   +61.3975 +17.7254 +18.4625   -0.3282   +0.0020 -0.0008 +0.0016\r\n",
      "T00 ERR ...   H   +60.9990 +19.0346 +16.9256   +0.0824   -0.0004 +0.0009 -0.0001\r\n",
      "T00 ERR ...   H   +61.0958 +18.6680 +20.2653   +0.0822   +0.0002 -0.0002 -0.0002\r\n",
      "T00 ERR ...   H   +60.1502 +16.1005 +18.3303   +0.0817   +0.0028 +0.0002 -0.0011\r\n",
      "T00 ERR ...   H   +63.3627 +17.1020 +18.3492   +0.0819   -0.0014 -0.0007 +0.0011\r\n",
      "T00 ERR ...               ... (1300 sites not displayed)\r\n"
     ]
    },
    {
     "name": "stdout",
     "output_type": "stream",
     "text": [
      "\r\n",
      "T00 ERR ... 2025-10-31 2:17:45 Filled DFT external multipole potential matrix\r\n",
      "T00 ERR ... 2025-10-31 2:17:45 Nuclei-external site interaction energy 0.0204347161\r\n",
      "T00 ERR ... 2025-10-31 2:17:45 Using hybrid functional with alpha=0.25\r\n",
      "T00 ERR ... 2025-10-31 2:17:45 Setup numerical integration grid medium for vxc functional XC_HYB_GGA_XC_PBEH\r\n",
      "T00 ERR ... 2025-10-31 2:17:45 Setup Initial Guess using: atom\r\n",
      "T00 ERR ... 2025-10-31 2:17:45 Calculating atom density for C"
     ]
    },
    {
     "name": "stdout",
     "output_type": "stream",
     "text": [
      "\r\n",
      "T00 ERR ... 2025-10-31 2:17:45 Calculating atom density for H"
     ]
    },
    {
     "name": "stdout",
     "output_type": "stream",
     "text": [
      "\r\n",
      "T00 ERR ... 2025-10-31 2:17:45 STARTING SCF cycle\r\n",
      "T00 ERR ...  --------------------------------------------------------------------------\r\n",
      "T00 ERR ... \r\n",
      "T00 ERR ... 2025-10-31 2:17:45 Iteration 1 of 100"
     ]
    },
    {
     "name": "stdout",
     "output_type": "stream",
     "text": [
      "\r\n",
      "T00 ERR ... 2025-10-31 2:17:45 Total Energy -40.1612611508\r\n",
      "T00 ERR ... 2025-10-31 2:17:45 DIIs error 0.219710694807\r\n",
      "T00 ERR ... 2025-10-31 2:17:45 Delta Etot 0\r\n",
      "T00 ERR ... \r\n",
      "T00 ERR ... 2025-10-31 2:17:45 Iteration 2 of 100"
     ]
    },
    {
     "name": "stdout",
     "output_type": "stream",
     "text": [
      "\r\n",
      "T00 ERR ... 2025-10-31 2:17:45 Total Energy -40.1972265256\r\n",
      "T00 ERR ... 2025-10-31 2:17:45 DIIs error 0.128786956338\r\n",
      "T00 ERR ... 2025-10-31 2:17:45 Delta Etot -0.0359653748475\r\n",
      "T00 ERR ... \r\n",
      "T00 ERR ... 2025-10-31 2:17:45 Iteration 3 of 100"
     ]
    },
    {
     "name": "stdout",
     "output_type": "stream",
     "text": [
      "\r\n",
      "T00 ERR ... 2025-10-31 2:17:45 Total Energy -40.2137233083\r\n",
      "T00 ERR ... 2025-10-31 2:17:45 DIIs error 0.0793434828999\r\n",
      "T00 ERR ... 2025-10-31 2:17:45 Delta Etot -0.0164967826908\r\n",
      "T00 ERR ... \r\n",
      "T00 ERR ... 2025-10-31 2:17:45 Iteration 4 of 100"
     ]
    },
    {
     "name": "stdout",
     "output_type": "stream",
     "text": [
      "\r\n",
      "T00 ERR ... 2025-10-31 2:17:46 Total Energy -40.2444216105\r\n",
      "T00 ERR ... 2025-10-31 2:17:46 DIIs error 0.0296179574866\r\n",
      "T00 ERR ... 2025-10-31 2:17:46 Delta Etot -0.0306983021701\r\n",
      "T00 ERR ... \r\n",
      "T00 ERR ... 2025-10-31 2:17:46 Iteration 5 of 100"
     ]
    },
    {
     "name": "stdout",
     "output_type": "stream",
     "text": [
      "\r\n",
      "T00 ERR ... 2025-10-31 2:17:46 Total Energy -40.2443154623\r\n",
      "T00 ERR ... 2025-10-31 2:17:46 DIIs error 0.0311898024755\r\n",
      "T00 ERR ... 2025-10-31 2:17:46 Delta Etot 0.000106148163241\r\n",
      "T00 ERR ... \r\n",
      "T00 ERR ... 2025-10-31 2:17:46 Iteration 6 of 100"
     ]
    },
    {
     "name": "stdout",
     "output_type": "stream",
     "text": [
      "\r\n",
      "T00 ERR ... 2025-10-31 2:17:46 Total Energy -40.2466692301\r\n",
      "T00 ERR ... 2025-10-31 2:17:46 DIIs error 0.000313153880714\r\n",
      "T00 ERR ... 2025-10-31 2:17:46 Delta Etot -0.00235376778975\r\n",
      "T00 ERR ... \r\n",
      "T00 ERR ... 2025-10-31 2:17:46 Iteration 7 of 100"
     ]
    },
    {
     "name": "stdout",
     "output_type": "stream",
     "text": [
      "\r\n",
      "T00 ERR ... 2025-10-31 2:17:46 Total Energy -40.2466694754\r\n",
      "T00 ERR ... 2025-10-31 2:17:46 DIIs error 2.08661333196e-05\r\n",
      "T00 ERR ... 2025-10-31 2:17:46 Delta Etot -2.4532625531e-07\r\n",
      "T00 ERR ... \r\n",
      "T00 ERR ... 2025-10-31 2:17:46 Iteration 8 of 100"
     ]
    },
    {
     "name": "stdout",
     "output_type": "stream",
     "text": [
      "\r\n",
      "T00 ERR ... 2025-10-31 2:17:46 Total Energy -40.2466694757\r\n",
      "T00 ERR ... 2025-10-31 2:17:46 DIIs error 1.08473658573e-05\r\n",
      "T00 ERR ... 2025-10-31 2:17:46 Delta Etot -2.62787125394e-10\r\n",
      "T00 ERR ... \r\n",
      "T00 ERR ... 2025-10-31 2:17:46 Iteration 9 of 100"
     ]
    },
    {
     "name": "stdout",
     "output_type": "stream",
     "text": [
      "\r\n",
      "T00 ERR ... 2025-10-31 2:17:46 Total Energy -40.2466694761\r\n",
      "T00 ERR ... 2025-10-31 2:17:46 DIIs error 3.00633339461e-06\r\n",
      "T00 ERR ... 2025-10-31 2:17:46 Delta Etot -4.08839184729e-10\r\n",
      "T00 ERR ... \r\n",
      "T00 ERR ... 2025-10-31 2:17:46 Iteration 10 of 100"
     ]
    },
    {
     "name": "stdout",
     "output_type": "stream",
     "text": [
      "\r\n",
      "T00 ERR ... 2025-10-31 2:17:46 Total Energy -40.2466694761\r\n",
      "T00 ERR ... 2025-10-31 2:17:46 DIIs error 8.27826895582e-07\r\n",
      "T00 ERR ... 2025-10-31 2:17:46 Delta Etot -3.2507330161e-11\r\n",
      "T00 ERR ... \r\n",
      "T00 ERR ... 2025-10-31 2:17:46 Iteration 11 of 100"
     ]
    },
    {
     "name": "stdout",
     "output_type": "stream",
     "text": [
      "\r\n",
      "T00 ERR ... 2025-10-31 2:17:46 Total Energy -40.2466694761\r\n",
      "T00 ERR ... 2025-10-31 2:17:46 DIIs error 1.32053094445e-09\r\n",
      "T00 ERR ... 2025-10-31 2:17:46 Delta Etot -2.44426701101e-12\r\n",
      "T00 ERR ... 2025-10-31 2:17:46 Total Energy has converged to -2.44426701e-12[Ha] after 11 iterations. DIIS error is converged up to 1.32053094e-09\r\n",
      "T00 ERR ... 2025-10-31 2:17:46 Final Single Point Energy -40.2466694761 Ha\r\n",
      "T00 ERR ... 2025-10-31 2:17:46 Final Local Exc contribution -5.18438664646 Ha\r\n",
      "T00 ERR ... 2025-10-31 2:17:46 Final Non Local Ex contribution -1.63929070408 Ha\r\n",
      "T00 ERR ...   Orbital energies: \r\n",
      "T00 ERR ...   index occupation energy(Hartree) \r\n",
      "T00 ERR ...      0      2   -10.1492575683\r\n",
      "T00 ERR ...      1      2   -0.7136670548\r\n",
      "T00 ERR ...      2      2   -0.4033850264\r\n",
      "T00 ERR ...      3      2   -0.4027679149\r\n",
      "T00 ERR ...      4      2   -0.4015036443\r\n",
      "T00 ERR ...      5      0   +0.1600847790\r\n",
      "T00 ERR ...      6      0   +0.2040535999\r\n",
      "T00 ERR ...      7      0   +0.2064983174\r\n",
      "T00 ERR ...      8      0   +0.2070188591\r\n",
      "T00 ERR ...      9      0   +0.7225963231\r\n",
      "T00 ERR ...     10      0   +0.7238947956\r\n",
      "T00 ERR ...     11      0   +0.7260292798\r\n",
      "T00 ERR ...     12      0   +1.0546673718\r\n",
      "T00 ERR ...     13      0   +1.0858849381\r\n",
      "T00 ERR ...     14      0   +1.0885046099\r\n",
      "T00 ERR ...     15      0   +1.0894811770\r\n",
      "T00 ERR ...     16      0   +1.7107222299\r\n",
      "T00 ERR ... 2025-10-31 2:17:46 Electric Dipole is[e*bohr]:\r\n",
      "\t\t dx=0.00685376198608\r\n",
      "\t\t dy=0.00923445963309\r\n",
      "\t\t dz=-0.00815833189816\r\n",
      "T00 ERR ... Writing result to temp.orb\r\n",
      "T00 ERR ... 2025-10-31 2:17:46 DFT calculation took 1.626947681 seconds.\r\n",
      "T00 ERR ... 2025-10-31 2:17:46 Evaluating polarregion 1\r\n",
      "T00 ERR ... 2025-10-31 2:17:46 Evaluating interaction between polarregion 1 and qmregion 0"
     ]
    },
    {
     "name": "stdout",
     "output_type": "stream",
     "text": [
      "\r\n",
      "T00 ERR ... 2025-10-31 2:17:46 Evaluating interaction between polarregion 1 and staticregion 2\r\n",
      "T00 ERR ... 2025-10-31 2:17:46 Starting Solving for classical polarization with 1380 degrees of freedom.\r\n",
      "T00 ERR ... 2025-10-31 2:17:46 CG: #iterations: 2, estimated error: 3.22550455153e-05\r\n",
      "T00 ERR ...   Total static energy [hrt]= 0.0009102654542\r\n",
      "T00 ERR ...   Total polar energy [hrt]= -0.0006099814217\r\n",
      "T00 ERR ...  Total energy [hrt]= 0.0003002840325\r\n",
      "T00 ERR ... 2025-10-31 2:17:46 Evaluating staticregion 2\r\n",
      "T00 ERR ... 2025-10-31 2:17:46 Writing checkpoint to checkpoint_iter_2.hdf5"
     ]
    },
    {
     "name": "stdout",
     "output_type": "stream",
     "text": [
      "\r\n",
      "T00 ERR ...  Region:qmregion 0 is not converged deltaE=-0.004255630639 RMS Dmat=9.662261105e-05 MaxDmat=0.0005641721304\r\n",
      "T00 ERR ... 2025-10-31 2:17:46 Region:polarregion 1 is converged deltaE=1.091127552e-07\r\n",
      "T00 ERR ... 2025-10-31 2:17:46 --Total Energy all regions -40.24636919\r\n",
      "T00 ERR ... 2025-10-31 2:17:46 --Inter Region SCF Iteration 3 of 50\r\n",
      "T00 ERR ... 2025-10-31 2:17:46 Evaluating qmregion 0\r\n",
      "T00 ERR ... 2025-10-31 2:17:46 Evaluating interaction between qmregion 0 and polarregion 1\r\n",
      "T00 ERR ... 2025-10-31 2:17:46 Evaluating interaction between qmregion 0 and staticregion 2\r\n",
      "T00 ERR ... Running DFT calculation\r\n",
      "T00 ERR ... 2025-10-31 2:17:46 Using 2 threads\r\n",
      "T00 ERR ... 2025-10-31 2:17:46 Using native Eigen implementation, no BLAS overload \r\n",
      "T00 ERR ...  Molecule Coordinates [A] \r\n",
      "T00 ERR ...   C   +30.3000 +1.2704 +5.5205\r\n",
      "T00 ERR ...   H   +31.2392 +1.4802 +6.0301\r\n",
      "T00 ERR ...   H   +30.4910 +0.6554 +4.6433\r\n",
      "T00 ERR ...   H   +29.8500 +2.2100 +5.2100\r\n",
      "T00 ERR ...   H   +29.6200 +0.7500 +6.2000\r\n",
      "T00 ERR ... 2025-10-31 2:17:46 Loaded DFT Basis Set 3-21G with 17 functions\r\n",
      "T00 ERR ... 2025-10-31 2:17:46 Loaded AUX Basis Set aux-def2-svp with 104 functions\r\n",
      "T00 ERR ... 2025-10-31 2:17:46 Total number of electrons: 10\r\n",
      "T00 ERR ... 2025-10-31 2:17:46 Smallest value of AOOverlap matrix is 0.03364074275\r\n",
      "T00 ERR ... 2025-10-31 2:17:46 Removed 0 basisfunction from inverse overlap matrix\r\n",
      "T00 ERR ... 2025-10-31 2:17:46 Convergence Options:\r\n",
      "T00 ERR ... \t\t Delta E [Ha]: 1e-07\r\n",
      "T00 ERR ... \t\t DIIS max error: 1e-07\r\n",
      "T00 ERR ... \t\t DIIS histlength: 20\r\n",
      "T00 ERR ... \t\t ADIIS start: 0.8\r\n",
      "T00 ERR ... \t\t DIIS start: 0.002\r\n",
      "T00 ERR ... \t\t Deleting oldest element from DIIS hist\r\n",
      "T00 ERR ... \t\t Levelshift[Ha]: 0\r\n",
      "T00 ERR ... \t\t Levelshift end: 0.2\r\n",
      "T00 ERR ... \t\t Mixing Parameter alpha: 0.7\r\n",
      "T00 ERR ... 2025-10-31 2:17:46 Setup invariant parts of Electron Repulsion integrals \r\n",
      "T00 ERR ... 2025-10-31 2:17:46 Constructed independent particle hamiltonian \r\n",
      "T00 ERR ... 2025-10-31 2:17:46 Nuclear Repulsion Energy is 13.4434088\r\n",
      "T00 ERR ... 2025-10-31 2:17:46 1350 External sites\r\n",
      "T00 ERR ...  Name      Coordinates[a0]     charge[e]         dipole[e*a0]    \r\n",
      "T00 ERR ...   C   +63.8902 +7.9543 +11.0171   -0.3282   +0.0023 -0.0026 -0.0071\r\n",
      "T00 ERR ...   H   +62.3892 +6.5470 +10.9796   +0.0824   +0.0017 -0.0006 -0.0018\r\n",
      "T00 ERR ...   H   +65.3194 +7.4736 +9.6186   +0.0822   +0.0015 -0.0009 -0.0014\r\n",
      "T00 ERR ...   H   +63.1170 +9.8077 +10.6203   +0.0817   +0.0003 -0.0004 +0.0009\r\n",
      "T00 ERR ...   H   +64.7422 +7.9557 +12.9068   +0.0819   +0.0025 +0.0030 -0.0028\r\n",
      "T00 ERR ...   C   +63.9128 -0.3996 +22.8673   -0.3282   -0.0018 +0.0027 +0.0048\r\n",
      "T00 ERR ...   H   +63.0449 -1.1731 +21.1692   +0.0824   +0.0009 +0.0003 +0.0015\r\n",
      "T00 ERR ...   H   +62.7676 +1.1530 +23.5795   +0.0822   -0.0011 +0.0054 +0.0020\r\n",
      "T00 ERR ...   H   +64.0430 -1.8922 +24.2830   +0.0817   +0.0013 +0.0001 -0.0010\r\n",
      "T00 ERR ...   H   +65.8004 +0.2810 +22.4122   +0.0819   -0.0031 -0.0003 +0.0013\r\n",
      "T00 ERR ...   C   +61.7182 -0.4374 -3.3115   -0.3282   +0.0004 -0.0004 +0.0004\r\n",
      "T00 ERR ...   H   +60.6600 -1.0798 -4.9554   +0.0824   +0.0012 +0.0017 +0.0012\r\n",
      "T00 ERR ...   H   +63.3309 +0.6815 -3.9252   +0.0822   -0.0010 -0.0012 -0.0005\r\n",
      "T00 ERR ...   H   +62.3800 -2.0623 -2.2148   +0.0817   +0.0014 -0.0012 +0.0006\r\n",
      "T00 ERR ...   H   +60.5092 +0.7345 -2.1392   +0.0819   -0.0024 -0.0025 -0.0022\r\n",
      "T00 ERR ...   C   +62.0402 +12.7739 +4.5175   -0.3282   +0.0014 -0.0014 +0.0034\r\n",
      "T00 ERR ...   H   +60.1049 +13.3052 +4.0622   +0.0824   -0.0001 -0.0021 -0.0002\r\n",
      "T00 ERR ...   H   +62.0812 +11.8167 +6.3372   +0.0822   -0.0005 -0.0035 -0.0004\r\n",
      "T00 ERR ...   H   +63.2115 +14.4753 +4.6109   +0.0817   +0.0022 +0.0014 +0.0015\r\n",
      "T00 ERR ...   H   +62.7769 +11.5084 +3.0803   +0.0819   -0.0008 -0.0012 +0.0015\r\n",
      "T00 ERR ...   C   +60.6789 +14.3239 +12.6808   -0.3282   -0.0029 +0.0004 +0.0003\r\n",
      "T00 ERR ...   H   +61.0756 +13.9461 +10.6972   +0.0824   -0.0044 +0.0027 -0.0009\r\n",
      "T00 ERR ...   H   +61.0224 +16.3108 +13.0851   +0.0822   -0.0003 -0.0006 +0.0029\r\n",
      "T00 ERR ...   H   +58.7327 +13.8328 +13.0580   +0.0817   +0.0003 -0.0017 -0.0004\r\n",
      "T00 ERR ...   H   +61.9074 +13.1525 +13.8517   +0.0819   -0.0011 -0.0014 +0.0030\r\n",
      "T00 ERR ...   C   +68.7870 +4.1961 +17.9521   -0.3282   +0.0041 +0.0012 +0.0051\r\n",
      "T00 ERR ...   H   +68.2015 +2.4962 +18.9532   +0.0824   +0.0001 +0.0002 -0.0018\r\n",
      "T00 ERR ...   H   +67.2445 +4.8625 +16.7665   +0.0822   +0.0006 -0.0026 +0.0019\r\n",
      "T00 ERR ...   H   +70.4303 +3.7606 +16.7997   +0.0817   -0.0010 +0.0014 +0.0001\r\n",
      "T00 ERR ...   H   +69.2964 +5.6503 +19.3130   +0.0819   +0.0009 +0.0010 +0.0051\r\n",
      "T00 ERR ...   C   +54.0832 +4.4983 +27.1938   -0.3282   -0.0002 -0.0014 -0.0006\r\n",
      "T00 ERR ...   H   +53.5372 +6.4564 +27.5139   +0.0824   -0.0012 -0.0009 +0.0003\r\n",
      "T00 ERR ...   H   +52.9768 +3.2670 +28.4141   +0.0822   -0.0006 -0.0011 +0.0004\r\n",
      "T00 ERR ...   H   +53.7249 +4.0062 +25.2278   +0.0817   +0.0023 -0.0001 +0.0009\r\n",
      "T00 ERR ...   H   +56.0682 +4.2330 +27.6278   +0.0819   -0.0029 +0.0017 -0.0014\r\n",
      "T00 ERR ...   C   +63.8174 +6.3112 -1.0788   -0.3282   -0.0012 +0.0005 +0.0014\r\n",
      "T00 ERR ...   H   +65.2393 +6.4796 +0.3993   +0.0824   -0.0006 -0.0007 +0.0023\r\n",
      "T00 ERR ...   H   +62.4364 +4.8836 -0.5459   +0.0822   +0.0019 +0.0016 +0.0003\r\n",
      "T00 ERR ...   H   +64.7422 +5.7637 -2.8384   +0.0817   -0.0007 +0.0031 +0.0009\r\n",
      "T00 ERR ...   H   +62.8903 +8.1258 -1.3455   +0.0819   -0.0008 -0.0013 -0.0031\r\n",
      "T00 ERR ...   C   +64.1752 +19.2751 +7.8615   -0.3282   +0.0044 -0.0010 +0.0007\r\n",
      "T00 ERR ...   H   +62.9276 +19.0860 +6.2359   +0.0824   -0.0013 -0.0000 +0.0022\r\n",
      "T00 ERR ...   H   +63.4396 +18.1623 +9.4267   +0.0822   +0.0009 -0.0007 -0.0002\r\n",
      "T00 ERR ...   H   +66.0461 +18.6138 +7.3699   +0.0817   +0.0010 -0.0012 -0.0000\r\n",
      "T00 ERR ...   H   +64.2509 +21.2405 +8.4282   +0.0819   +0.0016 +0.0003 -0.0004\r\n",
      "T00 ERR ...   C   +61.3975 +17.7254 +18.4625   -0.3282   +0.0020 -0.0008 +0.0016\r\n",
      "T00 ERR ...   H   +60.9990 +19.0346 +16.9256   +0.0824   -0.0004 +0.0009 -0.0001\r\n",
      "T00 ERR ...   H   +61.0958 +18.6680 +20.2653   +0.0822   +0.0002 -0.0002 -0.0002\r\n",
      "T00 ERR ...   H   +60.1502 +16.1005 +18.3303   +0.0817   +0.0028 +0.0002 -0.0011\r\n",
      "T00 ERR ...   H   +63.3627 +17.1020 +18.3492   +0.0819   -0.0014 -0.0007 +0.0011\r\n",
      "T00 ERR ...               ... (1300 sites not displayed)\r\n"
     ]
    },
    {
     "name": "stdout",
     "output_type": "stream",
     "text": [
      "\r\n",
      "T00 ERR ... 2025-10-31 2:17:47 Filled DFT external multipole potential matrix\r\n",
      "T00 ERR ... 2025-10-31 2:17:47 Nuclei-external site interaction energy 0.0204347161\r\n",
      "T00 ERR ... 2025-10-31 2:17:47 Using hybrid functional with alpha=0.25\r\n",
      "T00 ERR ... 2025-10-31 2:17:47 Setup numerical integration grid medium for vxc functional XC_HYB_GGA_XC_PBEH\r\n",
      "T00 ERR ... 2025-10-31 2:17:47 Setup Initial Guess using: atom\r\n",
      "T00 ERR ... 2025-10-31 2:17:47 Calculating atom density for C"
     ]
    },
    {
     "name": "stdout",
     "output_type": "stream",
     "text": [
      "\r\n",
      "T00 ERR ... 2025-10-31 2:17:47 Calculating atom density for H"
     ]
    },
    {
     "name": "stdout",
     "output_type": "stream",
     "text": [
      "\r\n",
      "T00 ERR ... 2025-10-31 2:17:47 STARTING SCF cycle\r\n",
      "T00 ERR ...  --------------------------------------------------------------------------\r\n",
      "T00 ERR ... \r\n",
      "T00 ERR ... 2025-10-31 2:17:47 Iteration 1 of 100"
     ]
    },
    {
     "name": "stdout",
     "output_type": "stream",
     "text": [
      "\r\n",
      "T00 ERR ... 2025-10-31 2:17:47 Total Energy -40.1612759261\r\n",
      "T00 ERR ... 2025-10-31 2:17:47 DIIs error 0.219710748579\r\n",
      "T00 ERR ... 2025-10-31 2:17:47 Delta Etot 0\r\n",
      "T00 ERR ... \r\n",
      "T00 ERR ... 2025-10-31 2:17:47 Iteration 2 of 100"
     ]
    },
    {
     "name": "stdout",
     "output_type": "stream",
     "text": [
      "\r\n",
      "T00 ERR ... 2025-10-31 2:17:47 Total Energy -40.197241349\r\n",
      "T00 ERR ... 2025-10-31 2:17:47 DIIs error 0.128786978886\r\n",
      "T00 ERR ... 2025-10-31 2:17:47 Delta Etot -0.0359654229423\r\n",
      "T00 ERR ... \r\n",
      "T00 ERR ... 2025-10-31 2:17:47 Iteration 3 of 100"
     ]
    },
    {
     "name": "stdout",
     "output_type": "stream",
     "text": [
      "\r\n",
      "T00 ERR ... 2025-10-31 2:17:48 Total Energy -40.2137381549\r\n",
      "T00 ERR ... 2025-10-31 2:17:48 DIIs error 0.079343488077\r\n",
      "T00 ERR ... 2025-10-31 2:17:48 Delta Etot -0.0164968058627\r\n",
      "T00 ERR ... \r\n",
      "T00 ERR ... 2025-10-31 2:17:48 Iteration 4 of 100"
     ]
    },
    {
     "name": "stdout",
     "output_type": "stream",
     "text": [
      "\r\n",
      "T00 ERR ... 2025-10-31 2:17:48 Total Energy -40.2444364958\r\n",
      "T00 ERR ... 2025-10-31 2:17:48 DIIs error 0.0296179019705\r\n",
      "T00 ERR ... 2025-10-31 2:17:48 Delta Etot -0.030698340932\r\n",
      "T00 ERR ... \r\n",
      "T00 ERR ... 2025-10-31 2:17:48 Iteration 5 of 100"
     ]
    },
    {
     "name": "stdout",
     "output_type": "stream",
     "text": [
      "\r\n",
      "T00 ERR ... 2025-10-31 2:17:48 Total Energy -40.2443303494\r\n",
      "T00 ERR ... 2025-10-31 2:17:48 DIIs error 0.0311897389336\r\n",
      "T00 ERR ... 2025-10-31 2:17:48 Delta Etot 0.000106146392724\r\n",
      "T00 ERR ... \r\n",
      "T00 ERR ... 2025-10-31 2:17:48 Iteration 6 of 100"
     ]
    },
    {
     "name": "stdout",
     "output_type": "stream",
     "text": [
      "\r\n",
      "T00 ERR ... 2025-10-31 2:17:48 Total Energy -40.2466841197\r\n",
      "T00 ERR ... 2025-10-31 2:17:48 DIIs error 0.000313148403187\r\n",
      "T00 ERR ... 2025-10-31 2:17:48 Delta Etot -0.00235377025963\r\n",
      "T00 ERR ... \r\n",
      "T00 ERR ... 2025-10-31 2:17:48 Iteration 7 of 100"
     ]
    },
    {
     "name": "stdout",
     "output_type": "stream",
     "text": [
      "\r\n",
      "T00 ERR ... 2025-10-31 2:17:48 Total Energy -40.246684365\r\n",
      "T00 ERR ... 2025-10-31 2:17:48 DIIs error 2.08661170568e-05\r\n",
      "T00 ERR ... 2025-10-31 2:17:48 Delta Etot -2.45316726932e-07\r\n",
      "T00 ERR ... \r\n",
      "T00 ERR ... 2025-10-31 2:17:48 Iteration 8 of 100"
     ]
    },
    {
     "name": "stdout",
     "output_type": "stream",
     "text": [
      "\r\n",
      "T00 ERR ... 2025-10-31 2:17:48 Total Energy -40.2466843652\r\n",
      "T00 ERR ... 2025-10-31 2:17:48 DIIs error 1.08473724836e-05\r\n",
      "T00 ERR ... 2025-10-31 2:17:48 Delta Etot -2.62815547103e-10\r\n",
      "T00 ERR ... \r\n",
      "T00 ERR ... 2025-10-31 2:17:48 Iteration 9 of 100"
     ]
    },
    {
     "name": "stdout",
     "output_type": "stream",
     "text": [
      "\r\n",
      "T00 ERR ... 2025-10-31 2:17:48 Total Energy -40.2466843657\r\n",
      "T00 ERR ... 2025-10-31 2:17:48 DIIs error 3.00657688627e-06\r\n",
      "T00 ERR ... 2025-10-31 2:17:48 Delta Etot -4.08867606438e-10\r\n",
      "T00 ERR ... \r\n",
      "T00 ERR ... 2025-10-31 2:17:48 Iteration 10 of 100"
     ]
    },
    {
     "name": "stdout",
     "output_type": "stream",
     "text": [
      "\r\n",
      "T00 ERR ... 2025-10-31 2:17:48 Total Energy -40.2466843657\r\n",
      "T00 ERR ... 2025-10-31 2:17:48 DIIs error 8.2792668407e-07\r\n",
      "T00 ERR ... 2025-10-31 2:17:48 Delta Etot -3.24646975969e-11\r\n",
      "T00 ERR ... \r\n",
      "T00 ERR ... 2025-10-31 2:17:48 Iteration 11 of 100"
     ]
    },
    {
     "name": "stdout",
     "output_type": "stream",
     "text": [
      "\r\n",
      "T00 ERR ... 2025-10-31 2:17:48 Total Energy -40.2466843657\r\n",
      "T00 ERR ... 2025-10-31 2:17:48 DIIs error 1.32047283107e-09\r\n",
      "T00 ERR ... 2025-10-31 2:17:48 Delta Etot -2.49400500252e-12\r\n",
      "T00 ERR ... 2025-10-31 2:17:48 Total Energy has converged to -2.494005e-12[Ha] after 11 iterations. DIIS error is converged up to 1.32047283e-09\r\n",
      "T00 ERR ... 2025-10-31 2:17:48 Final Single Point Energy -40.2466843657 Ha\r\n",
      "T00 ERR ... 2025-10-31 2:17:48 Final Local Exc contribution -5.18438673299 Ha\r\n",
      "T00 ERR ... 2025-10-31 2:17:48 Final Non Local Ex contribution -1.6392907273 Ha\r\n",
      "T00 ERR ...   Orbital energies: \r\n",
      "T00 ERR ...   index occupation energy(Hartree) \r\n",
      "T00 ERR ...      0      2   -10.1492587942\r\n",
      "T00 ERR ...      1      2   -0.7136684224\r\n",
      "T00 ERR ...      2      2   -0.4033854200\r\n",
      "T00 ERR ...      3      2   -0.4027695136\r\n",
      "T00 ERR ...      4      2   -0.4015055683\r\n",
      "T00 ERR ...      5      0   +0.1600840534\r\n",
      "T00 ERR ...      6      0   +0.2040549413\r\n",
      "T00 ERR ...      7      0   +0.2064972623\r\n",
      "T00 ERR ...      8      0   +0.2070151279\r\n",
      "T00 ERR ...      9      0   +0.7225954352\r\n",
      "T00 ERR ...     10      0   +0.7238934025\r\n",
      "T00 ERR ...     11      0   +0.7260270156\r\n",
      "T00 ERR ...     12      0   +1.0546664564\r\n",
      "T00 ERR ...     13      0   +1.0858859499\r\n",
      "T00 ERR ...     14      0   +1.0885031086\r\n",
      "T00 ERR ...     15      0   +1.0894779289\r\n",
      "T00 ERR ...     16      0   +1.7107209314\r\n",
      "T00 ERR ... 2025-10-31 2:17:48 Electric Dipole is[e*bohr]:\r\n",
      "\t\t dx=0.00684943426444\r\n",
      "\t\t dy=0.00921442548642\r\n",
      "\t\t dz=-0.00812527464226\r\n",
      "T00 ERR ... Writing result to temp.orb\r\n",
      "T00 ERR ... 2025-10-31 2:17:48 DFT calculation took 1.631762882 seconds.\r\n",
      "T00 ERR ... 2025-10-31 2:17:48 Evaluating polarregion 1\r\n",
      "T00 ERR ... 2025-10-31 2:17:48 Evaluating interaction between polarregion 1 and qmregion 0"
     ]
    },
    {
     "name": "stdout",
     "output_type": "stream",
     "text": [
      "\r\n",
      "T00 ERR ... 2025-10-31 2:17:48 Evaluating interaction between polarregion 1 and staticregion 2\r\n",
      "T00 ERR ... 2025-10-31 2:17:48 Starting Solving for classical polarization with 1380 degrees of freedom.\r\n",
      "T00 ERR ... 2025-10-31 2:17:48 CG: #iterations: 0, estimated error: 1.83589513081e-05\r\n",
      "T00 ERR ...   Total static energy [hrt]= 0.0009102654542\r\n",
      "T00 ERR ...   Total polar energy [hrt]= -0.0006099814189\r\n",
      "T00 ERR ...  Total energy [hrt]= 0.0003002840353\r\n",
      "T00 ERR ... 2025-10-31 2:17:48 Evaluating staticregion 2\r\n",
      "T00 ERR ... 2025-10-31 2:17:48 Writing checkpoint to checkpoint_iter_3.hdf5"
     ]
    },
    {
     "name": "stdout",
     "output_type": "stream",
     "text": [
      "\r\n",
      "T00 ERR ...  Region:qmregion 0 is converged deltaE=-1.488956958e-05 RMS Dmat=2.039532387e-06 MaxDmat=1.056655173e-05\r\n",
      "T00 ERR ... 2025-10-31 2:17:48 Region:polarregion 1 is converged deltaE=2.832861211e-12\r\n",
      "T00 ERR ... 2025-10-31 2:17:48 --Total Energy all regions -40.24638408\r\n",
      "T00 ERR ... 2025-10-31 2:17:48 Job converged after 3 iterations.\r\n",
      "T00 ERR ... Reporting job results\r\n",
      "\r\n",
      "T00 ERR ... Requesting next job\r\n",
      "T00 ERR ... Next job: ID = 1\r\n",
      "T00 ERR ... Initial state: s1\r\n",
      "T00 ERR ... Using overlap filter with threshold 0.8\r\n",
      "T00 ERR ...  Regions created\r\n",
      "T00 ERR ... Id: 0 type: qmregion size: 1 charge[e]= 0\r\n",
      "T00 ERR ... Id: 1 type: polarregion size: 92 charge[e]= -5.093148125e-15\r\n",
      "T00 ERR ... Id: 2 type: staticregion size: 178 charge[e]= -9.867107131e-15\r\n",
      "T00 ERR ... 2025-10-31 2:17:48 Writing jobtopology to QMMM/frame_0/job_1_Methane_0:s1/regions.pdb\r\n",
      "T00 ERR ... 2025-10-31 2:17:48 --Inter Region SCF Iteration 1 of 50\r\n",
      "T00 ERR ... 2025-10-31 2:17:48 Evaluating qmregion 0\r\n",
      "T00 ERR ... 2025-10-31 2:17:48 Evaluating interaction between qmregion 0 and polarregion 1\r\n",
      "T00 ERR ... 2025-10-31 2:17:48 Evaluating interaction between qmregion 0 and staticregion 2\r\n",
      "T00 ERR ... Running DFT calculation\r\n",
      "T00 ERR ... 2025-10-31 2:17:48 Using 2 threads\r\n",
      "T00 ERR ... 2025-10-31 2:17:48 Using native Eigen implementation, no BLAS overload \r\n",
      "T00 ERR ...  Molecule Coordinates [A] \r\n",
      "T00 ERR ...   C   +30.3000 +1.2704 +5.5205\r\n",
      "T00 ERR ...   H   +31.2392 +1.4802 +6.0301\r\n",
      "T00 ERR ...   H   +30.4910 +0.6554 +4.6433\r\n",
      "T00 ERR ...   H   +29.8500 +2.2100 +5.2100\r\n",
      "T00 ERR ...   H   +29.6200 +0.7500 +6.2000\r\n",
      "T00 ERR ... 2025-10-31 2:17:48 Loaded DFT Basis Set 3-21G with 17 functions"
     ]
    },
    {
     "name": "stdout",
     "output_type": "stream",
     "text": [
      "\r\n",
      "T00 ERR ... 2025-10-31 2:17:48 Loaded AUX Basis Set aux-def2-svp with 104 functions\r\n",
      "T00 ERR ... 2025-10-31 2:17:48 Total number of electrons: 10\r\n",
      "T00 ERR ... 2025-10-31 2:17:48 Smallest value of AOOverlap matrix is 0.03364074275\r\n",
      "T00 ERR ... 2025-10-31 2:17:48 Removed 0 basisfunction from inverse overlap matrix\r\n",
      "T00 ERR ... 2025-10-31 2:17:48 Convergence Options:\r\n",
      "T00 ERR ... \t\t Delta E [Ha]: 1e-07\r\n",
      "T00 ERR ... \t\t DIIS max error: 1e-07\r\n",
      "T00 ERR ... \t\t DIIS histlength: 20\r\n",
      "T00 ERR ... \t\t ADIIS start: 0.8\r\n",
      "T00 ERR ... \t\t DIIS start: 0.002\r\n",
      "T00 ERR ... \t\t Deleting oldest element from DIIS hist\r\n",
      "T00 ERR ... \t\t Levelshift[Ha]: 0\r\n",
      "T00 ERR ... \t\t Levelshift end: 0.2\r\n",
      "T00 ERR ... \t\t Mixing Parameter alpha: 0.7\r\n",
      "T00 ERR ... 2025-10-31 2:17:48 Setup invariant parts of Electron Repulsion integrals \r\n",
      "T00 ERR ... 2025-10-31 2:17:48 Constructed independent particle hamiltonian \r\n",
      "T00 ERR ... 2025-10-31 2:17:48 Nuclear Repulsion Energy is 13.4434088\r\n",
      "T00 ERR ... 2025-10-31 2:17:48 1350 External sites\r\n",
      "T00 ERR ...  Name      Coordinates[a0]     charge[e]         dipole[e*a0]    \r\n",
      "T00 ERR ...   C   +63.8902 +7.9543 +11.0171   -0.3282   +0.0000 +0.0000 +0.0000\r\n",
      "T00 ERR ...   H   +62.3892 +6.5470 +10.9796   +0.0824   +0.0000 +0.0000 +0.0000\r\n",
      "T00 ERR ...   H   +65.3194 +7.4736 +9.6186   +0.0822   +0.0000 +0.0000 +0.0000\r\n",
      "T00 ERR ...   H   +63.1170 +9.8077 +10.6203   +0.0817   +0.0000 +0.0000 +0.0000\r\n",
      "T00 ERR ...   H   +64.7422 +7.9557 +12.9068   +0.0819   +0.0000 +0.0000 +0.0000\r\n",
      "T00 ERR ...   C   +63.9128 -0.3996 +22.8673   -0.3282   +0.0000 +0.0000 +0.0000\r\n",
      "T00 ERR ...   H   +63.0449 -1.1731 +21.1692   +0.0824   +0.0000 +0.0000 +0.0000\r\n",
      "T00 ERR ...   H   +62.7676 +1.1530 +23.5795   +0.0822   +0.0000 +0.0000 +0.0000\r\n",
      "T00 ERR ...   H   +64.0430 -1.8922 +24.2830   +0.0817   +0.0000 +0.0000 +0.0000\r\n",
      "T00 ERR ...   H   +65.8004 +0.2810 +22.4122   +0.0819   +0.0000 +0.0000 +0.0000\r\n",
      "T00 ERR ...   C   +61.7182 -0.4374 -3.3115   -0.3282   +0.0000 +0.0000 +0.0000\r\n",
      "T00 ERR ...   H   +60.6600 -1.0798 -4.9554   +0.0824   +0.0000 +0.0000 +0.0000\r\n",
      "T00 ERR ...   H   +63.3309 +0.6815 -3.9252   +0.0822   +0.0000 +0.0000 +0.0000\r\n",
      "T00 ERR ...   H   +62.3800 -2.0623 -2.2148   +0.0817   +0.0000 +0.0000 +0.0000\r\n",
      "T00 ERR ...   H   +60.5092 +0.7345 -2.1392   +0.0819   +0.0000 +0.0000 +0.0000\r\n",
      "T00 ERR ...   C   +62.0402 +12.7739 +4.5175   -0.3282   +0.0000 +0.0000 +0.0000\r\n",
      "T00 ERR ...   H   +60.1049 +13.3052 +4.0622   +0.0824   +0.0000 +0.0000 +0.0000\r\n",
      "T00 ERR ...   H   +62.0812 +11.8167 +6.3372   +0.0822   +0.0000 +0.0000 +0.0000\r\n",
      "T00 ERR ...   H   +63.2115 +14.4753 +4.6109   +0.0817   +0.0000 +0.0000 +0.0000\r\n",
      "T00 ERR ...   H   +62.7769 +11.5084 +3.0803   +0.0819   +0.0000 +0.0000 +0.0000\r\n",
      "T00 ERR ...   C   +60.6789 +14.3239 +12.6808   -0.3282   +0.0000 +0.0000 +0.0000\r\n",
      "T00 ERR ...   H   +61.0756 +13.9461 +10.6972   +0.0824   +0.0000 +0.0000 +0.0000\r\n",
      "T00 ERR ...   H   +61.0224 +16.3108 +13.0851   +0.0822   +0.0000 +0.0000 +0.0000\r\n",
      "T00 ERR ...   H   +58.7327 +13.8328 +13.0580   +0.0817   +0.0000 +0.0000 +0.0000\r\n",
      "T00 ERR ...   H   +61.9074 +13.1525 +13.8517   +0.0819   +0.0000 +0.0000 +0.0000\r\n",
      "T00 ERR ...   C   +68.7870 +4.1961 +17.9521   -0.3282   +0.0000 +0.0000 +0.0000\r\n",
      "T00 ERR ...   H   +68.2015 +2.4962 +18.9532   +0.0824   +0.0000 +0.0000 +0.0000\r\n",
      "T00 ERR ...   H   +67.2445 +4.8625 +16.7665   +0.0822   +0.0000 +0.0000 +0.0000\r\n",
      "T00 ERR ...   H   +70.4303 +3.7606 +16.7997   +0.0817   +0.0000 +0.0000 +0.0000\r\n",
      "T00 ERR ...   H   +69.2964 +5.6503 +19.3130   +0.0819   +0.0000 +0.0000 +0.0000\r\n",
      "T00 ERR ...   C   +54.0832 +4.4983 +27.1938   -0.3282   +0.0000 +0.0000 +0.0000\r\n",
      "T00 ERR ...   H   +53.5372 +6.4564 +27.5139   +0.0824   +0.0000 +0.0000 +0.0000\r\n",
      "T00 ERR ...   H   +52.9768 +3.2670 +28.4141   +0.0822   +0.0000 +0.0000 +0.0000\r\n",
      "T00 ERR ...   H   +53.7249 +4.0062 +25.2278   +0.0817   +0.0000 +0.0000 +0.0000\r\n",
      "T00 ERR ...   H   +56.0682 +4.2330 +27.6278   +0.0819   +0.0000 +0.0000 +0.0000\r\n",
      "T00 ERR ...   C   +63.8174 +6.3112 -1.0788   -0.3282   +0.0000 +0.0000 +0.0000\r\n",
      "T00 ERR ...   H   +65.2393 +6.4796 +0.3993   +0.0824   +0.0000 +0.0000 +0.0000\r\n",
      "T00 ERR ...   H   +62.4364 +4.8836 -0.5459   +0.0822   +0.0000 +0.0000 +0.0000\r\n",
      "T00 ERR ...   H   +64.7422 +5.7637 -2.8384   +0.0817   +0.0000 +0.0000 +0.0000\r\n",
      "T00 ERR ...   H   +62.8903 +8.1258 -1.3455   +0.0819   +0.0000 +0.0000 +0.0000\r\n",
      "T00 ERR ...   C   +64.1752 +19.2751 +7.8615   -0.3282   +0.0000 +0.0000 +0.0000\r\n",
      "T00 ERR ...   H   +62.9276 +19.0860 +6.2359   +0.0824   +0.0000 +0.0000 +0.0000\r\n",
      "T00 ERR ...   H   +63.4396 +18.1623 +9.4267   +0.0822   +0.0000 +0.0000 +0.0000\r\n",
      "T00 ERR ...   H   +66.0461 +18.6138 +7.3699   +0.0817   +0.0000 +0.0000 +0.0000\r\n",
      "T00 ERR ...   H   +64.2509 +21.2405 +8.4282   +0.0819   +0.0000 +0.0000 +0.0000\r\n",
      "T00 ERR ...   C   +61.3975 +17.7254 +18.4625   -0.3282   +0.0000 +0.0000 +0.0000\r\n",
      "T00 ERR ...   H   +60.9990 +19.0346 +16.9256   +0.0824   +0.0000 +0.0000 +0.0000\r\n",
      "T00 ERR ...   H   +61.0958 +18.6680 +20.2653   +0.0822   +0.0000 +0.0000 +0.0000\r\n",
      "T00 ERR ...   H   +60.1502 +16.1005 +18.3303   +0.0817   +0.0000 +0.0000 +0.0000\r\n",
      "T00 ERR ...   H   +63.3627 +17.1020 +18.3492   +0.0819   +0.0000 +0.0000 +0.0000\r\n",
      "T00 ERR ...               ... (1300 sites not displayed)\r\n"
     ]
    },
    {
     "name": "stdout",
     "output_type": "stream",
     "text": [
      "\r\n",
      "T00 ERR ... 2025-10-31 2:17:49 Filled DFT external multipole potential matrix\r\n",
      "T00 ERR ... 2025-10-31 2:17:49 Nuclei-external site interaction energy 0.0204347161\r\n",
      "T00 ERR ... 2025-10-31 2:17:49 Using hybrid functional with alpha=0.25\r\n",
      "T00 ERR ... 2025-10-31 2:17:49 Setup numerical integration grid medium for vxc functional XC_HYB_GGA_XC_PBEH\r\n",
      "T00 ERR ... 2025-10-31 2:17:49 Setup Initial Guess using: atom\r\n",
      "T00 ERR ... 2025-10-31 2:17:49 Calculating atom density for C"
     ]
    },
    {
     "name": "stdout",
     "output_type": "stream",
     "text": [
      "\r\n",
      "T00 ERR ... 2025-10-31 2:17:49 Calculating atom density for H"
     ]
    },
    {
     "name": "stdout",
     "output_type": "stream",
     "text": [
      "\r\n",
      "T00 ERR ... 2025-10-31 2:17:49 STARTING SCF cycle\r\n",
      "T00 ERR ...  --------------------------------------------------------------------------\r\n",
      "T00 ERR ... \r\n",
      "T00 ERR ... 2025-10-31 2:17:49 Iteration 1 of 100"
     ]
    },
    {
     "name": "stdout",
     "output_type": "stream",
     "text": [
      "\r\n",
      "T00 ERR ... 2025-10-31 2:17:49 Total Energy -40.1570486273\r\n",
      "T00 ERR ... 2025-10-31 2:17:49 DIIs error 0.219689889334\r\n",
      "T00 ERR ... 2025-10-31 2:17:49 Delta Etot 0\r\n",
      "T00 ERR ... \r\n",
      "T00 ERR ... 2025-10-31 2:17:49 Iteration 2 of 100"
     ]
    },
    {
     "name": "stdout",
     "output_type": "stream",
     "text": [
      "\r\n",
      "T00 ERR ... 2025-10-31 2:17:49 Total Energy -40.1929958671\r\n",
      "T00 ERR ... 2025-10-31 2:17:49 DIIs error 0.128777833988\r\n",
      "T00 ERR ... 2025-10-31 2:17:49 Delta Etot -0.0359472398464\r\n",
      "T00 ERR ... \r\n",
      "T00 ERR ... 2025-10-31 2:17:49 Iteration 3 of 100"
     ]
    },
    {
     "name": "stdout",
     "output_type": "stream",
     "text": [
      "\r\n",
      "T00 ERR ... 2025-10-31 2:17:50 Total Energy -40.209483865\r\n",
      "T00 ERR ... 2025-10-31 2:17:50 DIIs error 0.0793411431108\r\n",
      "T00 ERR ... 2025-10-31 2:17:50 Delta Etot -0.016487997892\r\n",
      "T00 ERR ... \r\n",
      "T00 ERR ... 2025-10-31 2:17:50 Iteration 4 of 100"
     ]
    },
    {
     "name": "stdout",
     "output_type": "stream",
     "text": [
      "\r\n",
      "T00 ERR ... 2025-10-31 2:17:50 Total Energy -40.2401676261"
     ]
    },
    {
     "name": "stdout",
     "output_type": "stream",
     "text": [
      "\r\n",
      "T00 ERR ... 2025-10-31 2:17:50 DIIs error 0.0296047735871\r\n",
      "T00 ERR ... 2025-10-31 2:17:50 Delta Etot -0.0306837610599\r\n",
      "T00 ERR ... \r\n",
      "T00 ERR ... 2025-10-31 2:17:50 Iteration 5 of 100"
     ]
    },
    {
     "name": "stdout",
     "output_type": "stream",
     "text": [
      "\r\n",
      "T00 ERR ... 2025-10-31 2:17:50 Total Energy -40.24006075\r\n",
      "T00 ERR ... 2025-10-31 2:17:50 DIIs error 0.0311802824608\r\n",
      "T00 ERR ... 2025-10-31 2:17:50 Delta Etot 0.000106876037684\r\n",
      "T00 ERR ... \r\n",
      "T00 ERR ... 2025-10-31 2:17:50 Iteration 6 of 100"
     ]
    },
    {
     "name": "stdout",
     "output_type": "stream",
     "text": [
      "\r\n",
      "T00 ERR ... 2025-10-31 2:17:50 Total Energy -40.2424135955\r\n",
      "T00 ERR ... 2025-10-31 2:17:50 DIIs error 0.000315586011613\r\n",
      "T00 ERR ... 2025-10-31 2:17:50 Delta Etot -0.00235284545869\r\n",
      "T00 ERR ... \r\n",
      "T00 ERR ... 2025-10-31 2:17:50 Iteration 7 of 100"
     ]
    },
    {
     "name": "stdout",
     "output_type": "stream",
     "text": [
      "\r\n",
      "T00 ERR ... 2025-10-31 2:17:50 Total Energy -40.2424138448\r\n",
      "T00 ERR ... 2025-10-31 2:17:50 DIIs error 2.08700287401e-05\r\n",
      "T00 ERR ... 2025-10-31 2:17:50 Delta Etot -2.49285491805e-07\r\n",
      "T00 ERR ... \r\n",
      "T00 ERR ... 2025-10-31 2:17:50 Iteration 8 of 100"
     ]
    },
    {
     "name": "stdout",
     "output_type": "stream",
     "text": [
      "\r\n",
      "T00 ERR ... 2025-10-31 2:17:50 Total Energy -40.242413845\r\n",
      "T00 ERR ... 2025-10-31 2:17:50 DIIs error 1.08550543421e-05\r\n",
      "T00 ERR ... 2025-10-31 2:17:50 Delta Etot -2.62190269495e-10\r\n",
      "T00 ERR ... \r\n",
      "T00 ERR ... 2025-10-31 2:17:50 Iteration 9 of 100"
     ]
    },
    {
     "name": "stdout",
     "output_type": "stream",
     "text": [
      "\r\n",
      "T00 ERR ... 2025-10-31 2:17:50 Total Energy -40.2424138454\r\n",
      "T00 ERR ... 2025-10-31 2:17:50 DIIs error 3.00317801502e-06\r\n",
      "T00 ERR ... 2025-10-31 2:17:50 Delta Etot -4.09734468576e-10\r\n",
      "T00 ERR ... \r\n",
      "T00 ERR ... 2025-10-31 2:17:50 Iteration 10 of 100"
     ]
    },
    {
     "name": "stdout",
     "output_type": "stream",
     "text": [
      "\r\n",
      "T00 ERR ... 2025-10-31 2:17:50 Total Energy -40.2424138455\r\n",
      "T00 ERR ... 2025-10-31 2:17:50 DIIs error 8.25971389378e-07\r\n",
      "T00 ERR ... 2025-10-31 2:17:50 Delta Etot -3.2308378195e-11\r\n",
      "T00 ERR ... \r\n",
      "T00 ERR ... 2025-10-31 2:17:50 Iteration 11 of 100"
     ]
    },
    {
     "name": "stdout",
     "output_type": "stream",
     "text": [
      "\r\n",
      "T00 ERR ... 2025-10-31 2:17:50 Total Energy -40.2424138455\r\n",
      "T00 ERR ... 2025-10-31 2:17:50 DIIs error 1.31691195287e-09\r\n",
      "T00 ERR ... 2025-10-31 2:17:50 Delta Etot -2.55795384874e-12\r\n",
      "T00 ERR ... 2025-10-31 2:17:50 Total Energy has converged to -2.55795385e-12[Ha] after 11 iterations. DIIS error is converged up to 1.31691195e-09\r\n",
      "T00 ERR ... 2025-10-31 2:17:50 Final Single Point Energy -40.2424138455 Ha\r\n",
      "T00 ERR ... 2025-10-31 2:17:50 Final Local Exc contribution -5.18435611699 Ha\r\n",
      "T00 ERR ... 2025-10-31 2:17:50 Final Non Local Ex contribution -1.63928269767 Ha\r\n",
      "T00 ERR ...   Orbital energies: \r\n",
      "T00 ERR ...   index occupation energy(Hartree) \r\n",
      "T00 ERR ...      0      2   -10.1489317519\r\n",
      "T00 ERR ...      1      2   -0.7132904411\r\n",
      "T00 ERR ...      2      2   -0.4030713273\r\n",
      "T00 ERR ...      3      2   -0.4023963806\r\n",
      "T00 ERR ...      4      2   -0.4011120794\r\n",
      "T00 ERR ...      5      0   +0.1603096275\r\n",
      "T00 ERR ...      6      0   +0.2042082497\r\n",
      "T00 ERR ...      7      0   +0.2067242788\r\n",
      "T00 ERR ...      8      0   +0.2073711844\r\n",
      "T00 ERR ...      9      0   +0.7230331626\r\n",
      "T00 ERR ...     10      0   +0.7243405880\r\n",
      "T00 ERR ...     11      0   +0.7264635791\r\n",
      "T00 ERR ...     12      0   +1.0550127626\r\n",
      "T00 ERR ...     13      0   +1.0860845419\r\n",
      "T00 ERR ...     14      0   +1.0887857975\r\n",
      "T00 ERR ...     15      0   +1.0898327458\r\n",
      "T00 ERR ...     16      0   +1.7110608067\r\n",
      "T00 ERR ... 2025-10-31 2:17:50 Electric Dipole is[e*bohr]:\r\n",
      "\t\t dx=0.00699744426816\r\n",
      "\t\t dy=0.00987002179593\r\n",
      "\t\t dz=-0.00920995433508\r\n",
      "T00 ERR ... Writing result to temp.orb\r\n",
      "T00 ERR ... 2025-10-31 2:17:50 DFT calculation took 1.619258852 seconds.\r\n",
      "T00 ERR ... 2025-10-31 2:17:50 RPA level range [0:16]\r\n",
      "T00 ERR ... 2025-10-31 2:17:50 GW  level range [0:16]\r\n",
      "T00 ERR ... 2025-10-31 2:17:50 BSE level range occ[0:4]  virt[5:16]\r\n",
      "T00 ERR ...  BSE type: full\r\n",
      "T00 ERR ... 2025-10-31 2:17:50 BSE Hamiltonian has size 120x120\r\n",
      "T00 ERR ...  BSE without Hqp offdiagonal elements\r\n",
      "T00 ERR ...  Running GW as: G0W0\r\n",
      "T00 ERR ...  qp_sc_limit [Hartree]: 1e-05\r\n",
      "T00 ERR ...  Tasks: \r\n",
      "T00 ERR ...  GW \r\n",
      "T00 ERR ...  singlets \r\n",
      "T00 ERR ...  triplets \r\n",
      "T00 ERR ...  Store: \r\n",
      "T00 ERR ...  GW \r\n",
      "T00 ERR ...  Sigma integration: ppm\r\n",
      "T00 ERR ...  eta: 0.001\r\n",
      "T00 ERR ...  QP solver: grid\r\n",
      "T00 ERR ...  QP grid steps: 1001\r\n",
      "T00 ERR ...  QP grid spacing: 0.001\r\n",
      "T00 ERR ... 2025-10-31 2:17:50 Using 2 threads\r\n",
      "T00 ERR ... 2025-10-31 2:17:50 Using native Eigen implementation, no BLAS overload \r\n",
      "T00 ERR ... 2025-10-31 2:17:50 Molecule Coordinates [A] \r\n",
      "T00 ERR ...     0    C   30.3000 1.2704 5.5205\r\n",
      "T00 ERR ...     1    H   31.2392 1.4802 6.0301\r\n",
      "T00 ERR ...     2    H   30.4910 0.6554 4.6433\r\n",
      "T00 ERR ...     3    H   29.8500 2.2100 5.2100\r\n",
      "T00 ERR ...     4    H   29.6200 0.7500 6.2000\r\n",
      "T00 ERR ... 2025-10-31 2:17:50 DFT data was created by xtp\r\n",
      "T00 ERR ... 2025-10-31 2:17:50 Loaded DFT Basis Set 3-21G\r\n",
      "T00 ERR ... 2025-10-31 2:17:50 Filled DFT Basis of size 17\r\n",
      "T00 ERR ... 2025-10-31 2:17:50 Loaded Auxbasis Set aux-def2-svp"
     ]
    },
    {
     "name": "stdout",
     "output_type": "stream",
     "text": [
      "\r\n",
      "T00 ERR ... 2025-10-31 2:17:50 Filled Auxbasis of size 104\r\n",
      "T00 ERR ... 2025-10-31 2:17:50 Calculating Mmn_beta (3-center-repulsion x orbitals)  \r\n",
      "T00 ERR ... 2025-10-31 2:17:50 Calculated Mmn_beta (3-center-repulsion x orbitals)  \r\n",
      "T00 ERR ... 2025-10-31 2:17:50 Integrating Vxc with functional XC_HYB_GGA_XC_PBEH"
     ]
    },
    {
     "name": "stdout",
     "output_type": "stream",
     "text": [
      "\r\n",
      "T00 ERR ... 2025-10-31 2:17:50 Set hybrid exchange factor: 0.25\r\n",
      "T00 ERR ... 2025-10-31 2:17:50 Calculated exchange-correlation expectation values \r\n",
      "T00 ERR ... 2025-10-31 2:17:50 Calculated Hartree exchange contribution\r\n",
      "T00 ERR ... 2025-10-31 2:17:50 Scissor shifting DFT energies by: 0 Hrt\r\n",
      "T00 ERR ...   ====== Perturbative quasiparticle energies (Hartree) ====== \r\n",
      "T00 ERR ...    DeltaHLGap = +0.215366 Hartree\r\n",
      "T00 ERR ...   Level =    0 DFT = -10.1489 VXC = -1.7031 S-X = -2.6689 S-C = +0.5631 GWA = -10.5516\r\n",
      "T00 ERR ...   Level =    1 DFT = -0.7133 VXC = -0.4404 S-X = -0.6606 S-C = +0.1083 GWA = -0.8252\r\n",
      "T00 ERR ...   Level =    2 DFT = -0.4031 VXC = -0.3961 S-X = -0.5289 S-C = +0.0325 GWA = -0.5033\r\n",
      "T00 ERR ...   Level =    3 DFT = -0.4024 VXC = -0.3967 S-X = -0.5298 S-C = +0.0328 GWA = -0.5026\r\n",
      "T00 ERR ...   HOMO  =    4 DFT = -0.4011 VXC = -0.3967 S-X = -0.5297 S-C = +0.0327 GWA = -0.5013\r\n",
      "T00 ERR ...   LUMO  =    5 DFT = +0.1603 VXC = -0.2414 S-X = -0.1016 S-C = -0.0247 GWA = +0.2755\r\n",
      "T00 ERR ...   Level =    6 DFT = +0.2042 VXC = -0.2616 S-X = -0.1100 S-C = -0.0238 GWA = +0.3320\r\n",
      "T00 ERR ...   Level =    7 DFT = +0.2067 VXC = -0.2615 S-X = -0.1099 S-C = -0.0238 GWA = +0.3345\r\n",
      "T00 ERR ...   Level =    8 DFT = +0.2074 VXC = -0.2613 S-X = -0.1098 S-C = -0.0238 GWA = +0.3351\r\n",
      "T00 ERR ...   Level =    9 DFT = +0.7230 VXC = -0.3180 S-X = -0.1080 S-C = -0.0635 GWA = +0.8695\r\n",
      "T00 ERR ...   Level =   10 DFT = +0.7243 VXC = -0.3181 S-X = -0.1079 S-C = -0.0637 GWA = +0.8708\r\n",
      "T00 ERR ...   Level =   11 DFT = +0.7265 VXC = -0.3182 S-X = -0.1076 S-C = -0.0643 GWA = +0.8727\r\n",
      "T00 ERR ...   Level =   12 DFT = +1.0550 VXC = -0.4047 S-X = -0.1334 S-C = -0.0315 GWA = +1.2948\r\n",
      "T00 ERR ...   Level =   13 DFT = +1.0861 VXC = -0.3954 S-X = -0.1270 S-C = -0.1727 GWA = +1.1818\r\n",
      "T00 ERR ...   Level =   14 DFT = +1.0888 VXC = -0.3952 S-X = -0.1270 S-C = -0.1725 GWA = +1.1844\r\n",
      "T00 ERR ...   Level =   15 DFT = +1.0898 VXC = -0.3955 S-X = -0.1272 S-C = -0.1729 GWA = +1.1853\r\n",
      "T00 ERR ...   Level =   16 DFT = +1.7111 VXC = -0.3559 S-X = -0.1045 S-C = -0.0295 GWA = +1.9329\r\n",
      "T00 ERR ... 2025-10-31 2:17:50 Calculated offdiagonal part of Sigma  \r\n",
      "T00 ERR ... 2025-10-31 2:17:50 Full quasiparticle Hamiltonian  \r\n",
      "T00 ERR ...   ====== Diagonalized quasiparticle energies (Hartree) ====== \r\n",
      "T00 ERR ...   Level =    0 PQP = -10.551641 DQP = -10.551825 \r\n",
      "T00 ERR ...   Level =    1 PQP = -0.825202 DQP = -0.825580 \r\n",
      "T00 ERR ...   Level =    2 PQP = -0.503333 DQP = -0.503551 \r\n",
      "T00 ERR ...   Level =    3 PQP = -0.502605 DQP = -0.502816 \r\n",
      "T00 ERR ...   HOMO  =    4 PQP = -0.501296 DQP = -0.501526 \r\n",
      "T00 ERR ...   LUMO  =    5 PQP = +0.275492 DQP = +0.267593 \r\n",
      "T00 ERR ...   Level =    6 PQP = +0.331983 DQP = +0.330537 \r\n",
      "T00 ERR ...   Level =    7 PQP = +0.334470 DQP = +0.332640 \r\n",
      "T00 ERR ...   Level =    8 PQP = +0.335068 DQP = +0.333439 \r\n",
      "T00 ERR ...   Level =    9 PQP = +0.869488 DQP = +0.867410 \r\n",
      "T00 ERR ...   Level =   10 PQP = +0.870810 DQP = +0.868845 \r\n",
      "T00 ERR ...   Level =   11 PQP = +0.872736 DQP = +0.870820 \r\n",
      "T00 ERR ...   Level =   12 PQP = +1.294774 DQP = +1.185129 \r\n",
      "T00 ERR ...   Level =   13 PQP = +1.181776 DQP = +1.188054 \r\n",
      "T00 ERR ...   Level =   14 PQP = +1.184423 DQP = +1.189876 \r\n",
      "T00 ERR ...   Level =   15 PQP = +1.185290 DQP = +1.289399 \r\n",
      "T00 ERR ...   Level =   16 PQP = +1.932946 DQP = +1.946737 \r\n",
      "T00 ERR ... 2025-10-31 2:17:50 Diagonalized QP Hamiltonian  \r\n",
      "T00 ERR ... 2025-10-31 2:17:50 GW calculation took 0.116721287 seconds.\r\n",
      "T00 ERR ... 2025-10-31 2:17:50 Setup Full triplet hamiltonian \r\n",
      "T00 ERR ... 2025-10-31 2:17:50 Davidson Solver using 2 threads.\r\n",
      "T00 ERR ... 2025-10-31 2:17:50 Tolerance : 0.0001\r\n",
      "T00 ERR ... 2025-10-31 2:17:50 DPR Correction\r\n",
      "T00 ERR ... 2025-10-31 2:17:50 Matrix size : 120x120\r\n",
      "T00 ERR ... 2025-10-31 2:17:50 iter\tSearch Space\tNorm\r\n",
      "T00 ERR ... 2025-10-31 2:17:50    0           20 \t 1.31e-01 \t  0.00% converged\r\n",
      "T00 ERR ... 2025-10-31 2:17:50    1           35 \t 1.50e-02 \t  0.00% converged\r\n",
      "T00 ERR ... 2025-10-31 2:17:50    2           50 \t 8.18e-04 \t 20.00% converged\r\n",
      "T00 ERR ... 2025-10-31 2:17:50    3           61 \t 7.36e-05 \t 100.00% converged\r\n",
      "T00 ERR ... 2025-10-31 2:17:50 Davidson converged after 3 iterations.\r\n",
      "T00 ERR ... 2025-10-31 2:17:50-----------------------------------\r\n",
      "T00 ERR ... 2025-10-31 2:17:50- Davidson ran for 0.007394875secs.\r\n",
      "T00 ERR ... 2025-10-31 2:17:50-----------------------------------\r\n",
      "T00 ERR ... 2025-10-31 2:17:50 Solved BSE for triplets \r\n",
      "T00 ERR ...   ====== triplet energies (eV) ====== \r\n",
      "T00 ERR ...   T =    1 Omega = +11.665683099752 eV  lamdba = +106.29 nm <FT> = +23.0868 <K_d> = -11.4212\r\n",
      "T00 ERR ...    \r\n",
      "T00 ERR ...   T =    2 Omega = +11.774993919845 eV  lamdba = +105.31 nm <FT> = +23.0191 <K_d> = -11.2441\r\n",
      "T00 ERR ...    \r\n",
      "T00 ERR ...   T =    3 Omega = +11.809072655189 eV  lamdba = +105.00 nm <FT> = +22.3312 <K_d> = -10.5221\r\n",
      "T00 ERR ...    \r\n",
      "T00 ERR ...   T =    4 Omega = +11.826313083827 eV  lamdba = +104.85 nm <FT> = +22.2631 <K_d> = -10.4368\r\n",
      "T00 ERR ...    \r\n",
      "T00 ERR ...   T =    5 Omega = +13.748833475304 eV  lamdba = +90.19 nm <FT> = +22.2967 <K_d> = -8.5479\r\n",
      "T00 ERR ...    \r\n",
      "T00 ERR ...   T =    6 Omega = +13.797778403066 eV  lamdba = +89.87 nm <FT> = +22.3234 <K_d> = -8.5257\r\n",
      "T00 ERR ...    \r\n",
      "T00 ERR ...   T =    7 Omega = +13.888802782736 eV  lamdba = +89.28 nm <FT> = +22.3631 <K_d> = -8.4743\r\n",
      "T00 ERR ...    \r\n",
      "T00 ERR ...   T =    8 Omega = +14.201880421716 eV  lamdba = +87.31 nm <FT> = +22.8286 <K_d> = -8.6267\r\n",
      "T00 ERR ...            HOMO-0   -> LUMO+1    : 53.2%\r\n",
      "T00 ERR ...    \r\n",
      "T00 ERR ...   T =    9 Omega = +14.219654864029 eV  lamdba = +87.20 nm <FT> = +22.8548 <K_d> = -8.6351\r\n",
      "T00 ERR ...    \r\n",
      "T00 ERR ...   T =   10 Omega = +14.350510850867 eV  lamdba = +86.41 nm <FT> = +22.8512 <K_d> = -8.5007\r\n",
      "T00 ERR ...    \r\n",
      "T00 ERR ... 2025-10-31 2:17:50 Setup Full singlet hamiltonian \r\n",
      "T00 ERR ... 2025-10-31 2:17:50 Davidson Solver using 2 threads.\r\n",
      "T00 ERR ... 2025-10-31 2:17:50 Tolerance : 0.0001\r\n",
      "T00 ERR ... 2025-10-31 2:17:50 DPR Correction\r\n",
      "T00 ERR ... 2025-10-31 2:17:50 Matrix size : 120x120\r\n",
      "T00 ERR ... 2025-10-31 2:17:50 iter\tSearch Space\tNorm\r\n",
      "T00 ERR ... 2025-10-31 2:17:50    0           20 \t 1.27e-01 \t  0.00% converged\r\n",
      "T00 ERR ... 2025-10-31 2:17:50    1           35 \t 1.28e-02 \t  0.00% converged\r\n",
      "T00 ERR ... 2025-10-31 2:17:50    2           50 \t 9.49e-04 \t 50.00% converged"
     ]
    },
    {
     "name": "stdout",
     "output_type": "stream",
     "text": [
      "\r\n",
      "T00 ERR ... 2025-10-31 2:17:50    3           60 \t 3.43e-05 \t 100.00% converged\r\n",
      "T00 ERR ... 2025-10-31 2:17:50 Davidson converged after 3 iterations.\r\n",
      "T00 ERR ... 2025-10-31 2:17:50-----------------------------------\r\n",
      "T00 ERR ... 2025-10-31 2:17:50- Davidson ran for 0.011612421secs.\r\n",
      "T00 ERR ... 2025-10-31 2:17:50-----------------------------------\r\n",
      "T00 ERR ... 2025-10-31 2:17:50 Solved BSE for singlets \r\n",
      "T00 ERR ...   ====== singlet energies (eV) ====== \r\n",
      "T00 ERR ...   S =    1 Omega = +13.885549497865 eV  lamdba = +89.30 nm <FT> = +21.2565 <K_x> = +1.0501 <K_d> = -8.4211\r\n",
      "T00 ERR ...            TrDipole length gauge[e*bohr]  dx = +0.5170 dy = -0.4953 dz = +0.3960 |d|^2 = +0.6694 f = +0.2277\r\n",
      "T00 ERR ...            HOMO-0   -> LUMO+0    : 99.6%\r\n",
      "T00 ERR ... \r\n",
      "T00 ERR ...   S =    2 Omega = +13.922940673037 eV  lamdba = +89.06 nm <FT> = +21.2950 <K_x> = +1.0609 <K_d> = -8.4329\r\n",
      "T00 ERR ...            TrDipole length gauge[e*bohr]  dx = +0.2393 dy = +0.6283 dz = +0.4921 |d|^2 = +0.6942 f = +0.2368\r\n",
      "T00 ERR ...            HOMO-1   -> LUMO+0    : 99.4%\r\n",
      "T00 ERR ... \r\n",
      "T00 ERR ...   S =    3 Omega = +13.951056700180 eV  lamdba = +88.88 nm <FT> = +21.3243 <K_x> = +1.1321 <K_d> = -8.5054\r\n",
      "T00 ERR ...            TrDipole length gauge[e*bohr]  dx = +0.6421 dy = +0.2429 dz = -0.5842 |d|^2 = +0.8127 f = +0.2778\r\n",
      "T00 ERR ...            HOMO-2   -> LUMO+0    : 99.5%\r\n",
      "T00 ERR ... \r\n",
      "T00 ERR ...   S =    4 Omega = +14.588375602351 eV  lamdba = +85.00 nm <FT> = +22.7977 <K_x> = +0.2774 <K_d> = -8.4867\r\n",
      "T00 ERR ...            TrDipole length gauge[e*bohr]  dx = -0.1094 dy = +0.0315 dz = -0.0353 |d|^2 = +0.0142 f = +0.0051\r\n",
      "T00 ERR ...            HOMO-0   -> LUMO+1    : 58.7%\r\n",
      "T00 ERR ... \r\n",
      "T00 ERR ...   S =    5 Omega = +14.611884246660 eV  lamdba = +84.86 nm <FT> = +22.8232 <K_x> = +0.2741 <K_d> = -8.4854\r\n",
      "T00 ERR ...            TrDipole length gauge[e*bohr]  dx = +0.0014 dy = -0.0784 dz = -0.0871 |d|^2 = +0.0137 f = +0.0049\r\n",
      "T00 ERR ... \r\n",
      "T00 ERR ...   S =    6 Omega = +14.625393269086 eV  lamdba = +84.78 nm <FT> = +22.8467 <K_x> = +0.2585 <K_d> = -8.4797\r\n",
      "T00 ERR ...            TrDipole length gauge[e*bohr]  dx = +0.0126 dy = -0.0115 dz = -0.0046 |d|^2 = +0.0003 f = +0.0001\r\n",
      "T00 ERR ... \r\n",
      "T00 ERR ...   S =    7 Omega = +14.968897773936 eV  lamdba = +82.84 nm <FT> = +22.8328 <K_x> = +0.7085 <K_d> = -8.5725\r\n",
      "T00 ERR ...            TrDipole length gauge[e*bohr]  dx = +0.0255 dy = -0.0025 dz = +0.0434 |d|^2 = +0.0025 f = +0.0009\r\n",
      "T00 ERR ... \r\n",
      "T00 ERR ...   S =    8 Omega = +14.985587006346 eV  lamdba = +82.75 nm <FT> = +22.8504 <K_x> = +0.7057 <K_d> = -8.5705\r\n",
      "T00 ERR ...            TrDipole length gauge[e*bohr]  dx = -0.0094 dy = +0.0298 dz = +0.0090 |d|^2 = +0.0011 f = +0.0004\r\n",
      "T00 ERR ... \r\n",
      "T00 ERR ...   S =    9 Omega = +16.009228355999 eV  lamdba = +77.46 nm <FT> = +23.1898 <K_x> = +2.2410 <K_d> = -9.4215\r\n",
      "T00 ERR ...            TrDipole length gauge[e*bohr]  dx = +0.9436 dy = +0.9034 dz = -0.5293 |d|^2 = +1.9867 f = +0.7792\r\n",
      "T00 ERR ...            HOMO-2   -> LUMO+1    : 60.0%\r\n",
      "T00 ERR ... \r\n",
      "T00 ERR ...   S =   10 Omega = +16.024580356914 eV  lamdba = +77.38 nm <FT> = +23.2167 <K_x> = +2.3086 <K_d> = -9.5007\r\n",
      "T00 ERR ...            TrDipole length gauge[e*bohr]  dx = -1.0479 dy = +0.9550 dz = -0.2603 |d|^2 = +2.0780 f = +0.8158\r\n",
      "T00 ERR ... \r\n",
      "T00 ERR ... 2025-10-31 2:17:50 BSE calculation took 0.021879745 seconds.\r\n",
      "T00 ERR ... 2025-10-31 2:17:50 GWBSE calculation finished \r\n",
      "T00 ERR ... Filter overlap not used in first iteration as it needs a reference state\r\n",
      "T00 ERR ... No State found by tracker using last state: s1\r\n",
      "T00 ERR ... 2025-10-31 2:17:50 Evaluating polarregion 1\r\n",
      "T00 ERR ... 2025-10-31 2:17:50 Evaluating interaction between polarregion 1 and qmregion 0\r\n",
      "T00 ERR ... Next State is: s1"
     ]
    },
    {
     "name": "stdout",
     "output_type": "stream",
     "text": [
      "\r\n",
      "T00 ERR ... 2025-10-31 2:17:51 Evaluating interaction between polarregion 1 and staticregion 2\r\n",
      "T00 ERR ... 2025-10-31 2:17:51 Starting Solving for classical polarization with 1380 degrees of freedom."
     ]
    },
    {
     "name": "stdout",
     "output_type": "stream",
     "text": [
      "\r\n",
      "T00 ERR ... 2025-10-31 2:17:51 CG: #iterations: 6, estimated error: 2.1616342707e-05\r\n",
      "T00 ERR ...   Total static energy [hrt]= 0.0009102654542\r\n",
      "T00 ERR ...   Total polar energy [hrt]= 0.0001193903899\r\n",
      "T00 ERR ...  Total energy [hrt]= 0.001029655844\r\n",
      "T00 ERR ... 2025-10-31 2:17:51 Evaluating staticregion 2\r\n",
      "T00 ERR ... 2025-10-31 2:17:51 Writing checkpoint to checkpoint_iter_1.hdf5"
     ]
    },
    {
     "name": "stdout",
     "output_type": "stream",
     "text": [
      "\r\n",
      "T00 ERR ...  Region:qmregion 0 is not converged deltaE=-39.73212931 RMS Dmat=0.5787798587 MaxDmat=6.406590116\r\n",
      "T00 ERR ... 2025-10-31 2:17:51 Region:polarregion 1 is not converged deltaE=0.001029655844\r\n",
      "T00 ERR ... 2025-10-31 2:17:51 --Total Energy all regions -39.73109965\r\n",
      "T00 ERR ... 2025-10-31 2:17:51 --Inter Region SCF Iteration 2 of 50\r\n",
      "T00 ERR ... 2025-10-31 2:17:51 Evaluating qmregion 0\r\n",
      "T00 ERR ... 2025-10-31 2:17:51 Evaluating interaction between qmregion 0 and polarregion 1\r\n",
      "T00 ERR ... 2025-10-31 2:17:51 Evaluating interaction between qmregion 0 and staticregion 2\r\n",
      "T00 ERR ... Running DFT calculation\r\n",
      "T00 ERR ... 2025-10-31 2:17:51 Using 2 threads\r\n",
      "T00 ERR ... 2025-10-31 2:17:51 Using native Eigen implementation, no BLAS overload \r\n",
      "T00 ERR ...  Molecule Coordinates [A] \r\n",
      "T00 ERR ...   C   +30.3000 +1.2704 +5.5205\r\n",
      "T00 ERR ...   H   +31.2392 +1.4802 +6.0301\r\n",
      "T00 ERR ...   H   +30.4910 +0.6554 +4.6433\r\n",
      "T00 ERR ...   H   +29.8500 +2.2100 +5.2100\r\n",
      "T00 ERR ...   H   +29.6200 +0.7500 +6.2000\r\n",
      "T00 ERR ... 2025-10-31 2:17:51 Loaded DFT Basis Set 3-21G with 17 functions\r\n",
      "T00 ERR ... 2025-10-31 2:17:51 Loaded AUX Basis Set aux-def2-svp with 104 functions\r\n",
      "T00 ERR ... 2025-10-31 2:17:51 Total number of electrons: 10\r\n",
      "T00 ERR ... 2025-10-31 2:17:51 Smallest value of AOOverlap matrix is 0.03364074275\r\n",
      "T00 ERR ... 2025-10-31 2:17:51 Removed 0 basisfunction from inverse overlap matrix\r\n",
      "T00 ERR ... 2025-10-31 2:17:51 Convergence Options:\r\n",
      "T00 ERR ... \t\t Delta E [Ha]: 1e-07\r\n",
      "T00 ERR ... \t\t DIIS max error: 1e-07\r\n",
      "T00 ERR ... \t\t DIIS histlength: 20\r\n",
      "T00 ERR ... \t\t ADIIS start: 0.8\r\n",
      "T00 ERR ... \t\t DIIS start: 0.002\r\n",
      "T00 ERR ... \t\t Deleting oldest element from DIIS hist\r\n",
      "T00 ERR ... \t\t Levelshift[Ha]: 0\r\n",
      "T00 ERR ... \t\t Levelshift end: 0.2\r\n",
      "T00 ERR ... \t\t Mixing Parameter alpha: 0.7\r\n",
      "T00 ERR ... 2025-10-31 2:17:51 Setup invariant parts of Electron Repulsion integrals \r\n",
      "T00 ERR ... 2025-10-31 2:17:51 Constructed independent particle hamiltonian \r\n",
      "T00 ERR ... 2025-10-31 2:17:51 Nuclear Repulsion Energy is 13.4434088\r\n",
      "T00 ERR ... 2025-10-31 2:17:51 1350 External sites\r\n",
      "T00 ERR ...  Name      Coordinates[a0]     charge[e]         dipole[e*a0]    \r\n",
      "T00 ERR ...   C   +63.8902 +7.9543 +11.0171   -0.3282   +0.0058 -0.0022 -0.0061\r\n",
      "T00 ERR ...   H   +62.3892 +6.5470 +10.9796   +0.0824   +0.0056 -0.0018 +0.0008\r\n",
      "T00 ERR ...   H   +65.3194 +7.4736 +9.6186   +0.0822   +0.0027 -0.0011 -0.0015\r\n",
      "T00 ERR ...   H   +63.1170 +9.8077 +10.6203   +0.0817   +0.0015 -0.0001 +0.0012\r\n",
      "T00 ERR ...   H   +64.7422 +7.9557 +12.9068   +0.0819   +0.0035 +0.0028 -0.0017\r\n",
      "T00 ERR ...   C   +63.9128 -0.3996 +22.8673   -0.3282   -0.0024 +0.0020 +0.0047\r\n",
      "T00 ERR ...   H   +63.0449 -1.1731 +21.1692   +0.0824   +0.0003 -0.0001 +0.0013\r\n",
      "T00 ERR ...   H   +62.7676 +1.1530 +23.5795   +0.0822   -0.0013 +0.0050 +0.0020\r\n",
      "T00 ERR ...   H   +64.0430 -1.8922 +24.2830   +0.0817   +0.0011 -0.0001 -0.0010\r\n",
      "T00 ERR ...   H   +65.8004 +0.2810 +22.4122   +0.0819   -0.0034 -0.0007 +0.0014\r\n",
      "T00 ERR ...   C   +61.7182 -0.4374 -3.3115   -0.3282   +0.0001 -0.0015 +0.0011\r\n",
      "T00 ERR ...   H   +60.6600 -1.0798 -4.9554   +0.0824   +0.0012 +0.0015 +0.0013\r\n",
      "T00 ERR ...   H   +63.3309 +0.6815 -3.9252   +0.0822   -0.0012 -0.0017 -0.0005\r\n",
      "T00 ERR ...   H   +62.3800 -2.0623 -2.2148   +0.0817   +0.0011 -0.0017 +0.0013\r\n",
      "T00 ERR ...   H   +60.5092 +0.7345 -2.1392   +0.0819   -0.0025 -0.0034 -0.0018\r\n",
      "T00 ERR ...   C   +62.0402 +12.7739 +4.5175   -0.3282   +0.0026 -0.0001 +0.0023\r\n",
      "T00 ERR ...   H   +60.1049 +13.3052 +4.0622   +0.0824   +0.0003 -0.0015 -0.0007\r\n",
      "T00 ERR ...   H   +62.0812 +11.8167 +6.3372   +0.0822   +0.0005 -0.0026 -0.0011\r\n",
      "T00 ERR ...   H   +63.2115 +14.4753 +4.6109   +0.0817   +0.0027 +0.0020 +0.0014\r\n",
      "T00 ERR ...   H   +62.7769 +11.5084 +3.0803   +0.0819   -0.0003 -0.0010 +0.0009\r\n",
      "T00 ERR ...   C   +60.6789 +14.3239 +12.6808   -0.3282   -0.0018 +0.0020 +0.0011\r\n",
      "T00 ERR ...   H   +61.0756 +13.9461 +10.6972   +0.0824   -0.0037 +0.0035 -0.0005\r\n",
      "T00 ERR ...   H   +61.0224 +16.3108 +13.0851   +0.0822   -0.0001 +0.0002 +0.0032\r\n",
      "T00 ERR ...   H   +58.7327 +13.8328 +13.0580   +0.0817   +0.0008 -0.0006 +0.0001\r\n",
      "T00 ERR ...   H   +61.9074 +13.1525 +13.8517   +0.0819   -0.0006 -0.0010 +0.0034\r\n",
      "T00 ERR ...   C   +68.7870 +4.1961 +17.9521   -0.3282   +0.0042 +0.0005 +0.0056\r\n",
      "T00 ERR ...   H   +68.2015 +2.4962 +18.9532   +0.0824   +0.0000 -0.0003 -0.0016\r\n",
      "T00 ERR ...   H   +67.2445 +4.8625 +16.7665   +0.0822   +0.0008 -0.0030 +0.0023\r\n",
      "T00 ERR ...   H   +70.4303 +3.7606 +16.7997   +0.0817   -0.0009 +0.0011 +0.0003\r\n",
      "T00 ERR ...   H   +69.2964 +5.6503 +19.3130   +0.0819   +0.0010 +0.0008 +0.0052\r\n",
      "T00 ERR ...   C   +54.0832 +4.4983 +27.1938   -0.3282   -0.0004 -0.0022 -0.0010\r\n",
      "T00 ERR ...   H   +53.5372 +6.4564 +27.5139   +0.0824   -0.0011 -0.0013 +0.0003\r\n",
      "T00 ERR ...   H   +52.9768 +3.2670 +28.4141   +0.0822   -0.0007 -0.0013 +0.0003\r\n",
      "T00 ERR ...   H   +53.7249 +4.0062 +25.2278   +0.0817   +0.0022 -0.0006 +0.0005\r\n",
      "T00 ERR ...   H   +56.0682 +4.2330 +27.6278   +0.0819   -0.0030 +0.0015 -0.0015\r\n",
      "T00 ERR ...   C   +63.8174 +6.3112 -1.0788   -0.3282   -0.0006 -0.0003 +0.0002\r\n",
      "T00 ERR ...   H   +65.2393 +6.4796 +0.3993   +0.0824   -0.0003 -0.0010 +0.0017\r\n",
      "T00 ERR ...   H   +62.4364 +4.8836 -0.5459   +0.0822   +0.0021 +0.0010 -0.0005\r\n",
      "T00 ERR ...   H   +64.7422 +5.7637 -2.8384   +0.0817   -0.0005 +0.0028 +0.0004\r\n",
      "T00 ERR ...   H   +62.8903 +8.1258 -1.3455   +0.0819   -0.0005 -0.0016 -0.0035\r\n",
      "T00 ERR ...   C   +64.1752 +19.2751 +7.8615   -0.3282   +0.0049 -0.0004 +0.0007\r\n",
      "T00 ERR ...   H   +62.9276 +19.0860 +6.2359   +0.0824   -0.0011 +0.0003 +0.0022\r\n",
      "T00 ERR ...   H   +63.4396 +18.1623 +9.4267   +0.0822   +0.0012 -0.0004 -0.0002\r\n",
      "T00 ERR ...   H   +66.0461 +18.6138 +7.3699   +0.0817   +0.0012 -0.0011 -0.0000\r\n",
      "T00 ERR ...   H   +64.2509 +21.2405 +8.4282   +0.0819   +0.0017 +0.0006 -0.0004\r\n",
      "T00 ERR ...   C   +61.3975 +17.7254 +18.4625   -0.3282   +0.0022 -0.0005 +0.0022\r\n",
      "T00 ERR ...   H   +60.9990 +19.0346 +16.9256   +0.0824   -0.0003 +0.0011 +0.0001\r\n",
      "T00 ERR ...   H   +61.0958 +18.6680 +20.2653   +0.0822   +0.0002 -0.0000 +0.0001\r\n",
      "T00 ERR ...   H   +60.1502 +16.1005 +18.3303   +0.0817   +0.0029 +0.0004 -0.0008\r\n",
      "T00 ERR ...   H   +63.3627 +17.1020 +18.3492   +0.0819   -0.0013 -0.0006 +0.0013\r\n",
      "T00 ERR ...               ... (1300 sites not displayed)\r\n"
     ]
    },
    {
     "name": "stdout",
     "output_type": "stream",
     "text": [
      "\r\n",
      "T00 ERR ... 2025-10-31 2:17:51 Filled DFT external multipole potential matrix\r\n",
      "T00 ERR ... 2025-10-31 2:17:51 Nuclei-external site interaction energy 0.0204347161\r\n",
      "T00 ERR ... 2025-10-31 2:17:51 Using hybrid functional with alpha=0.25"
     ]
    },
    {
     "name": "stdout",
     "output_type": "stream",
     "text": [
      "\r\n",
      "T00 ERR ... 2025-10-31 2:17:51 Setup numerical integration grid medium for vxc functional XC_HYB_GGA_XC_PBEH\r\n",
      "T00 ERR ... 2025-10-31 2:17:51 Setup Initial Guess using: atom\r\n",
      "T00 ERR ... 2025-10-31 2:17:51 Calculating atom density for C"
     ]
    },
    {
     "name": "stdout",
     "output_type": "stream",
     "text": [
      "\r\n",
      "T00 ERR ... 2025-10-31 2:17:51 Calculating atom density for H"
     ]
    },
    {
     "name": "stdout",
     "output_type": "stream",
     "text": [
      "\r\n",
      "T00 ERR ... 2025-10-31 2:17:52 STARTING SCF cycle\r\n",
      "T00 ERR ...  --------------------------------------------------------------------------\r\n",
      "T00 ERR ... \r\n",
      "T00 ERR ... 2025-10-31 2:17:52 Iteration 1 of 100"
     ]
    },
    {
     "name": "stdout",
     "output_type": "stream",
     "text": [
      "\r\n",
      "T00 ERR ... 2025-10-31 2:17:52 Total Energy -40.14677432\r\n",
      "T00 ERR ... 2025-10-31 2:17:52 DIIs error 0.219658442692\r\n",
      "T00 ERR ... 2025-10-31 2:17:52 Delta Etot 0\r\n",
      "T00 ERR ... \r\n",
      "T00 ERR ... 2025-10-31 2:17:52 Iteration 2 of 100"
     ]
    },
    {
     "name": "stdout",
     "output_type": "stream",
     "text": [
      "\r\n",
      "T00 ERR ... 2025-10-31 2:17:52 Total Energy -40.1826940559\r\n",
      "T00 ERR ... 2025-10-31 2:17:52 DIIs error 0.128764565669\r\n",
      "T00 ERR ... 2025-10-31 2:17:52 Delta Etot -0.0359197359127\r\n",
      "T00 ERR ... \r\n",
      "T00 ERR ... 2025-10-31 2:17:52 Iteration 3 of 100"
     ]
    },
    {
     "name": "stdout",
     "output_type": "stream",
     "text": [
      "\r\n",
      "T00 ERR ... 2025-10-31 2:17:52 Total Energy -40.1991688244\r\n",
      "T00 ERR ... 2025-10-31 2:17:52 DIIs error 0.079338018363\r\n",
      "T00 ERR ... 2025-10-31 2:17:52 Delta Etot -0.0164747684455\r\n",
      "T00 ERR ... \r\n",
      "T00 ERR ... 2025-10-31 2:17:52 Iteration 4 of 100"
     ]
    },
    {
     "name": "stdout",
     "output_type": "stream",
     "text": [
      "\r\n",
      "T00 ERR ... 2025-10-31 2:17:52 Total Energy -40.2298305277\r\n",
      "T00 ERR ... 2025-10-31 2:17:52 DIIs error 0.0296198858708\r\n",
      "T00 ERR ... 2025-10-31 2:17:52 Delta Etot -0.030661703319\r\n",
      "T00 ERR ... \r\n",
      "T00 ERR ... 2025-10-31 2:17:52 Iteration 5 of 100"
     ]
    },
    {
     "name": "stdout",
     "output_type": "stream",
     "text": [
      "\r\n",
      "T00 ERR ... 2025-10-31 2:17:52 Total Energy -40.2297226299\r\n",
      "T00 ERR ... 2025-10-31 2:17:52 DIIs error 0.0311999755746\r\n",
      "T00 ERR ... 2025-10-31 2:17:52 Delta Etot 0.000107897781895\r\n",
      "T00 ERR ... \r\n",
      "T00 ERR ... 2025-10-31 2:17:52 Iteration 6 of 100"
     ]
    },
    {
     "name": "stdout",
     "output_type": "stream",
     "text": [
      "\r\n",
      "T00 ERR ... 2025-10-31 2:17:52 Total Energy -40.232074057\r\n",
      "T00 ERR ... 2025-10-31 2:17:52 DIIs error 0.000319005894156\r\n",
      "T00 ERR ... 2025-10-31 2:17:52 Delta Etot -0.00235142707856\r\n",
      "T00 ERR ... \r\n",
      "T00 ERR ... 2025-10-31 2:17:52 Iteration 7 of 100"
     ]
    },
    {
     "name": "stdout",
     "output_type": "stream",
     "text": [
      "\r\n",
      "T00 ERR ... 2025-10-31 2:17:52 Total Energy -40.2320743119\r\n",
      "T00 ERR ... 2025-10-31 2:17:52 DIIs error 2.0804224415e-05\r\n",
      "T00 ERR ... 2025-10-31 2:17:52 Delta Etot -2.54917416953e-07\r\n",
      "T00 ERR ... \r\n",
      "T00 ERR ... 2025-10-31 2:17:52 Iteration 8 of 100"
     ]
    },
    {
     "name": "stdout",
     "output_type": "stream",
     "text": [
      "\r\n",
      "T00 ERR ... 2025-10-31 2:17:52 Total Energy -40.2320743122\r\n",
      "T00 ERR ... 2025-10-31 2:17:52 DIIs error 1.08535260636e-05\r\n",
      "T00 ERR ... 2025-10-31 2:17:52 Delta Etot -2.55035104146e-10\r\n",
      "T00 ERR ... \r\n",
      "T00 ERR ... 2025-10-31 2:17:52 Iteration 9 of 100"
     ]
    },
    {
     "name": "stdout",
     "output_type": "stream",
     "text": [
      "\r\n",
      "T00 ERR ... 2025-10-31 2:17:52 Total Energy -40.2320743126\r\n",
      "T00 ERR ... 2025-10-31 2:17:52 DIIs error 3.02455665032e-06\r\n",
      "T00 ERR ... 2025-10-31 2:17:52 Delta Etot -4.09144718105e-10\r\n",
      "T00 ERR ... \r\n",
      "T00 ERR ... 2025-10-31 2:17:52 Iteration 10 of 100"
     ]
    },
    {
     "name": "stdout",
     "output_type": "stream",
     "text": [
      "\r\n",
      "T00 ERR ... 2025-10-31 2:17:52 Total Energy -40.2320743126\r\n",
      "T00 ERR ... 2025-10-31 2:17:52 DIIs error 8.29597271996e-07\r\n",
      "T00 ERR ... 2025-10-31 2:17:52 Delta Etot -3.27560201185e-11\r\n",
      "T00 ERR ... \r\n",
      "T00 ERR ... 2025-10-31 2:17:52 Iteration 11 of 100"
     ]
    },
    {
     "name": "stdout",
     "output_type": "stream",
     "text": [
      "\r\n",
      "T00 ERR ... 2025-10-31 2:17:52 Total Energy -40.2320743126\r\n",
      "T00 ERR ... 2025-10-31 2:17:52 DIIs error 1.36676962834e-09\r\n",
      "T00 ERR ... 2025-10-31 2:17:52 Delta Etot -2.50821585723e-12\r\n",
      "T00 ERR ... 2025-10-31 2:17:52 Total Energy has converged to -2.50821586e-12[Ha] after 11 iterations. DIIS error is converged up to 1.36676963e-09\r\n",
      "T00 ERR ... 2025-10-31 2:17:52 Final Single Point Energy -40.2320743126 Ha\r\n",
      "T00 ERR ... 2025-10-31 2:17:52 Final Local Exc contribution -5.1843025672 Ha\r\n",
      "T00 ERR ... 2025-10-31 2:17:52 Final Non Local Ex contribution -1.63926814108 Ha\r\n",
      "T00 ERR ...   Orbital energies: \r\n",
      "T00 ERR ...   index occupation energy(Hartree) \r\n",
      "T00 ERR ...      0      2   -10.1480530314\r\n",
      "T00 ERR ...      1      2   -0.7123317703\r\n",
      "T00 ERR ...      2      2   -0.4027758119\r\n",
      "T00 ERR ...      3      2   -0.4015734309\r\n",
      "T00 ERR ...      4      2   -0.3994523933\r\n",
      "T00 ERR ...      5      0   +0.1608149811\r\n",
      "T00 ERR ...      6      0   +0.2036688761\r\n",
      "T00 ERR ...      7      0   +0.2075639736\r\n",
      "T00 ERR ...      8      0   +0.2096881079\r\n",
      "T00 ERR ...      9      0   +0.7240276991\r\n",
      "T00 ERR ...     10      0   +0.7252856337\r\n",
      "T00 ERR ...     11      0   +0.7276691092\r\n",
      "T00 ERR ...     12      0   +1.0556849017\r\n",
      "T00 ERR ...     13      0   +1.0858931281\r\n",
      "T00 ERR ...     14      0   +1.0898638092\r\n",
      "T00 ERR ...     15      0   +1.0916778626\r\n",
      "T00 ERR ...     16      0   +1.7119905785\r\n",
      "T00 ERR ... 2025-10-31 2:17:52 Electric Dipole is[e*bohr]:\r\n",
      "\t\t dx=0.0112734632172\r\n",
      "\t\t dy=0.029009196791\r\n",
      "\t\t dz=-0.0123141534078\r\n",
      "T00 ERR ... Writing result to temp.orb\r\n",
      "T00 ERR ... 2025-10-31 2:17:52 DFT calculation took 1.626770041 seconds.\r\n",
      "T00 ERR ... 2025-10-31 2:17:52 RPA level range [0:16]\r\n",
      "T00 ERR ... 2025-10-31 2:17:52 GW  level range [0:16]\r\n",
      "T00 ERR ... 2025-10-31 2:17:52 BSE level range occ[0:4]  virt[5:16]\r\n",
      "T00 ERR ...  BSE type: full\r\n",
      "T00 ERR ... 2025-10-31 2:17:52 BSE Hamiltonian has size 120x120\r\n",
      "T00 ERR ...  BSE without Hqp offdiagonal elements\r\n",
      "T00 ERR ...  Running GW as: G0W0\r\n",
      "T00 ERR ...  qp_sc_limit [Hartree]: 1e-05\r\n",
      "T00 ERR ...  Tasks: \r\n",
      "T00 ERR ...  GW \r\n",
      "T00 ERR ...  singlets \r\n",
      "T00 ERR ...  triplets \r\n",
      "T00 ERR ...  Store: \r\n",
      "T00 ERR ...  GW \r\n",
      "T00 ERR ...  Sigma integration: ppm\r\n",
      "T00 ERR ...  eta: 0.001\r\n",
      "T00 ERR ...  QP solver: grid\r\n",
      "T00 ERR ...  QP grid steps: 1001\r\n",
      "T00 ERR ...  QP grid spacing: 0.001\r\n",
      "T00 ERR ... 2025-10-31 2:17:52 Using 2 threads\r\n",
      "T00 ERR ... 2025-10-31 2:17:52 Using native Eigen implementation, no BLAS overload \r\n",
      "T00 ERR ... 2025-10-31 2:17:52 Molecule Coordinates [A] \r\n",
      "T00 ERR ...     0    C   30.3000 1.2704 5.5205\r\n",
      "T00 ERR ...     1    H   31.2392 1.4802 6.0301\r\n",
      "T00 ERR ...     2    H   30.4910 0.6554 4.6433\r\n",
      "T00 ERR ...     3    H   29.8500 2.2100 5.2100\r\n",
      "T00 ERR ...     4    H   29.6200 0.7500 6.2000\r\n",
      "T00 ERR ... 2025-10-31 2:17:52 DFT data was created by xtp\r\n",
      "T00 ERR ... 2025-10-31 2:17:52 Loaded DFT Basis Set 3-21G\r\n",
      "T00 ERR ... 2025-10-31 2:17:52 Filled DFT Basis of size 17\r\n",
      "T00 ERR ... 2025-10-31 2:17:52 Loaded Auxbasis Set aux-def2-svp\r\n",
      "T00 ERR ... 2025-10-31 2:17:52 Filled Auxbasis of size 104\r\n",
      "T00 ERR ... 2025-10-31 2:17:52 Calculating Mmn_beta (3-center-repulsion x orbitals)  \r\n",
      "T00 ERR ... 2025-10-31 2:17:52 Calculated Mmn_beta (3-center-repulsion x orbitals)  "
     ]
    },
    {
     "name": "stdout",
     "output_type": "stream",
     "text": [
      "\r\n",
      "T00 ERR ... 2025-10-31 2:17:52 Integrating Vxc with functional XC_HYB_GGA_XC_PBEH"
     ]
    },
    {
     "name": "stdout",
     "output_type": "stream",
     "text": [
      "\r\n",
      "T00 ERR ... 2025-10-31 2:17:52 Set hybrid exchange factor: 0.25\r\n",
      "T00 ERR ... 2025-10-31 2:17:52 Calculated exchange-correlation expectation values \r\n",
      "T00 ERR ... 2025-10-31 2:17:52 Calculated Hartree exchange contribution\r\n",
      "T00 ERR ... 2025-10-31 2:17:52 Scissor shifting DFT energies by: 0 Hrt"
     ]
    },
    {
     "name": "stdout",
     "output_type": "stream",
     "text": [
      "\r\n",
      "T00 ERR ...   ====== Perturbative quasiparticle energies (Hartree) ====== \r\n",
      "T00 ERR ...    DeltaHLGap = +0.215441 Hartree\r\n",
      "T00 ERR ...   Level =    0 DFT = -10.1481 VXC = -1.7031 S-X = -2.6689 S-C = +0.5631 GWA = -10.5507\r\n",
      "T00 ERR ...   Level =    1 DFT = -0.7123 VXC = -0.4404 S-X = -0.6606 S-C = +0.1083 GWA = -0.8242\r\n",
      "T00 ERR ...   Level =    2 DFT = -0.4028 VXC = -0.3960 S-X = -0.5287 S-C = +0.0325 GWA = -0.5031\r\n",
      "T00 ERR ...   Level =    3 DFT = -0.4016 VXC = -0.3967 S-X = -0.5297 S-C = +0.0328 GWA = -0.5018\r\n",
      "T00 ERR ...   HOMO  =    4 DFT = -0.3995 VXC = -0.3969 S-X = -0.5299 S-C = +0.0329 GWA = -0.4996\r\n",
      "T00 ERR ...   LUMO  =    5 DFT = +0.1608 VXC = -0.2416 S-X = -0.1017 S-C = -0.0246 GWA = +0.2761\r\n",
      "T00 ERR ...   Level =    6 DFT = +0.2037 VXC = -0.2616 S-X = -0.1101 S-C = -0.0238 GWA = +0.3315\r\n",
      "T00 ERR ...   Level =    7 DFT = +0.2076 VXC = -0.2613 S-X = -0.1098 S-C = -0.0238 GWA = +0.3352\r\n",
      "T00 ERR ...   Level =    8 DFT = +0.2097 VXC = -0.2613 S-X = -0.1098 S-C = -0.0238 GWA = +0.3373\r\n",
      "T00 ERR ...   Level =    9 DFT = +0.7240 VXC = -0.3182 S-X = -0.1082 S-C = -0.0635 GWA = +0.8705\r\n",
      "T00 ERR ...   Level =   10 DFT = +0.7253 VXC = -0.3181 S-X = -0.1079 S-C = -0.0638 GWA = +0.8717\r\n",
      "T00 ERR ...   Level =   11 DFT = +0.7277 VXC = -0.3178 S-X = -0.1074 S-C = -0.0643 GWA = +0.8738\r\n",
      "T00 ERR ...   Level =   12 DFT = +1.0557 VXC = -0.4047 S-X = -0.1334 S-C = -0.0321 GWA = +1.2949\r\n",
      "T00 ERR ...   Level =   13 DFT = +1.0859 VXC = -0.3960 S-X = -0.1273 S-C = -0.1735 GWA = +1.1811\r\n",
      "T00 ERR ...   Level =   14 DFT = +1.0899 VXC = -0.3954 S-X = -0.1271 S-C = -0.1729 GWA = +1.1853\r\n",
      "T00 ERR ...   Level =   15 DFT = +1.0917 VXC = -0.3949 S-X = -0.1269 S-C = -0.1729 GWA = +1.1867\r\n",
      "T00 ERR ...   Level =   16 DFT = +1.7120 VXC = -0.3559 S-X = -0.1045 S-C = -0.0297 GWA = +1.9337\r\n",
      "T00 ERR ... 2025-10-31 2:17:52 Calculated offdiagonal part of Sigma  \r\n",
      "T00 ERR ... 2025-10-31 2:17:52 Full quasiparticle Hamiltonian  \r\n",
      "T00 ERR ...   ====== Diagonalized quasiparticle energies (Hartree) ====== \r\n",
      "T00 ERR ...   Level =    0 PQP = -10.550701 DQP = -10.550886 \r\n",
      "T00 ERR ...   Level =    1 PQP = -0.824221 DQP = -0.824634 \r\n",
      "T00 ERR ...   Level =    2 PQP = -0.503053 DQP = -0.503306 \r\n",
      "T00 ERR ...   Level =    3 PQP = -0.501779 DQP = -0.501990 \r\n",
      "T00 ERR ...   HOMO  =    4 PQP = -0.499602 DQP = -0.499804 \r\n",
      "T00 ERR ...   LUMO  =    5 PQP = +0.276106 DQP = +0.268028 \r\n",
      "T00 ERR ...   Level =    6 PQP = +0.331451 DQP = +0.329756 \r\n",
      "T00 ERR ...   Level =    7 PQP = +0.335236 DQP = +0.333703 \r\n",
      "T00 ERR ...   Level =    8 PQP = +0.337337 DQP = +0.335799 \r\n",
      "T00 ERR ...   Level =    9 PQP = +0.870527 DQP = +0.868730 \r\n",
      "T00 ERR ...   Level =   10 PQP = +0.871700 DQP = +0.869748 \r\n",
      "T00 ERR ...   Level =   11 PQP = +0.873819 DQP = +0.871707 \r\n",
      "T00 ERR ...   Level =   12 PQP = +1.294860 DQP = +1.184216 \r\n",
      "T00 ERR ...   Level =   13 PQP = +1.181144 DQP = +1.189017 \r\n",
      "T00 ERR ...   Level =   14 PQP = +1.185321 DQP = +1.191196 \r\n",
      "T00 ERR ...   Level =   15 PQP = +1.186715 DQP = +1.289759 \r\n",
      "T00 ERR ...   Level =   16 PQP = +1.933716 DQP = +1.947538 \r\n",
      "T00 ERR ... 2025-10-31 2:17:52 Diagonalized QP Hamiltonian  \r\n",
      "T00 ERR ... 2025-10-31 2:17:52 GW calculation took 0.119506355 seconds.\r\n",
      "T00 ERR ... 2025-10-31 2:17:52 Setup Full triplet hamiltonian \r\n",
      "T00 ERR ... 2025-10-31 2:17:52 Davidson Solver using 2 threads.\r\n",
      "T00 ERR ... 2025-10-31 2:17:52 Tolerance : 0.0001\r\n",
      "T00 ERR ... 2025-10-31 2:17:52 DPR Correction\r\n",
      "T00 ERR ... 2025-10-31 2:17:52 Matrix size : 120x120\r\n",
      "T00 ERR ... 2025-10-31 2:17:52 iter\tSearch Space\tNorm\r\n",
      "T00 ERR ... 2025-10-31 2:17:52    0           20 \t 1.28e-01 \t  0.00% converged\r\n",
      "T00 ERR ... 2025-10-31 2:17:52    1           35 \t 1.45e-02 \t  0.00% converged\r\n",
      "T00 ERR ... 2025-10-31 2:17:52    2           50 \t 8.75e-04 \t 10.00% converged\r\n",
      "T00 ERR ... 2025-10-31 2:17:52    3           62 \t 3.03e-05 \t 100.00% converged\r\n",
      "T00 ERR ... 2025-10-31 2:17:52 Davidson converged after 3 iterations.\r\n",
      "T00 ERR ... 2025-10-31 2:17:52-----------------------------------\r\n",
      "T00 ERR ... 2025-10-31 2:17:52- Davidson ran for 0.007188099secs.\r\n",
      "T00 ERR ... 2025-10-31 2:17:52-----------------------------------\r\n",
      "T00 ERR ... 2025-10-31 2:17:52 Solved BSE for triplets \r\n",
      "T00 ERR ...   ====== triplet energies (eV) ====== \r\n",
      "T00 ERR ...   T =    1 Omega = +11.619603174149 eV  lamdba = +106.72 nm <FT> = +22.8814 <K_d> = -11.2618\r\n",
      "T00 ERR ...    \r\n",
      "T00 ERR ...   T =    2 Omega = +11.767434969650 eV  lamdba = +105.38 nm <FT> = +23.0052 <K_d> = -11.2379\r\n",
      "T00 ERR ...    \r\n",
      "T00 ERR ...   T =    3 Omega = +11.807234539496 eV  lamdba = +105.02 nm <FT> = +22.3276 <K_d> = -10.5204\r\n",
      "T00 ERR ...    \r\n",
      "T00 ERR ...   T =    4 Omega = +11.865605923796 eV  lamdba = +104.50 nm <FT> = +22.4625 <K_d> = -10.5969\r\n",
      "T00 ERR ...    \r\n",
      "T00 ERR ...   T =    5 Omega = +13.686164683390 eV  lamdba = +90.60 nm <FT> = +22.2624 <K_d> = -8.5762\r\n",
      "T00 ERR ...    \r\n",
      "T00 ERR ...   T =    6 Omega = +13.776237527112 eV  lamdba = +90.01 nm <FT> = +22.3089 <K_d> = -8.5327\r\n",
      "T00 ERR ...    \r\n",
      "T00 ERR ...   T =    7 Omega = +13.920043439227 eV  lamdba = +89.08 nm <FT> = +22.3804 <K_d> = -8.4604\r\n",
      "T00 ERR ...    \r\n",
      "T00 ERR ...   T =    8 Omega = +14.149913476390 eV  lamdba = +87.63 nm <FT> = +22.7580 <K_d> = -8.6081\r\n",
      "T00 ERR ...            HOMO-0   -> LUMO+1    : 71.0%\r\n",
      "T00 ERR ...    \r\n",
      "T00 ERR ...   T =    9 Omega = +14.219398627320 eV  lamdba = +87.20 nm <FT> = +22.8423 <K_d> = -8.6229\r\n",
      "T00 ERR ...    \r\n",
      "T00 ERR ...   T =   10 Omega = +14.358765186907 eV  lamdba = +86.36 nm <FT> = +22.8525 <K_d> = -8.4937\r\n",
      "T00 ERR ...            HOMO-2   -> LUMO+2    : 59.5%\r\n",
      "T00 ERR ...    \r\n",
      "T00 ERR ... 2025-10-31 2:17:52 Setup Full singlet hamiltonian \r\n",
      "T00 ERR ... 2025-10-31 2:17:52 Davidson Solver using 2 threads.\r\n",
      "T00 ERR ... 2025-10-31 2:17:52 Tolerance : 0.0001\r\n",
      "T00 ERR ... 2025-10-31 2:17:52 DPR Correction\r\n",
      "T00 ERR ... 2025-10-31 2:17:52 Matrix size : 120x120\r\n",
      "T00 ERR ... 2025-10-31 2:17:52 iter\tSearch Space\tNorm\r\n",
      "T00 ERR ... 2025-10-31 2:17:52    0           20 \t 1.28e-01 \t  0.00% converged\r\n",
      "T00 ERR ... 2025-10-31 2:17:52    1           35 \t 1.29e-02 \t  0.00% converged\r\n",
      "T00 ERR ... 2025-10-31 2:17:52    2           50 \t 9.29e-04 \t 40.00% converged\r\n",
      "T00 ERR ... 2025-10-31 2:17:52    3           61 \t 3.27e-05 \t 100.00% converged\r\n",
      "T00 ERR ... 2025-10-31 2:17:52 Davidson converged after 3 iterations.\r\n",
      "T00 ERR ... 2025-10-31 2:17:52-----------------------------------\r\n",
      "T00 ERR ... 2025-10-31 2:17:52- Davidson ran for 0.007959631secs.\r\n",
      "T00 ERR ... 2025-10-31 2:17:52-----------------------------------\r\n",
      "T00 ERR ... 2025-10-31 2:17:52 Solved BSE for singlets \r\n",
      "T00 ERR ...   ====== singlet energies (eV) ====== \r\n",
      "T00 ERR ...   S =    1 Omega = +13.853532391818 eV  lamdba = +89.51 nm <FT> = +21.2270 <K_x> = +1.0021 <K_d> = -8.3756\r\n",
      "T00 ERR ...            TrDipole length gauge[e*bohr]  dx = -0.5199 dy = +0.4558 dz = -0.3451 |d|^2 = +0.5971 f = +0.2027\r\n",
      "T00 ERR ...            HOMO-0   -> LUMO+0    : 99.0%\r\n",
      "T00 ERR ... \r\n",
      "T00 ERR ...   S =    2 Omega = +13.911334530861 eV  lamdba = +89.14 nm <FT> = +21.2962 <K_x> = +1.0487 <K_d> = -8.4336\r\n",
      "T00 ERR ...            TrDipole length gauge[e*bohr]  dx = -0.2448 dy = -0.6230 dz = -0.4810 |d|^2 = +0.6795 f = +0.2316\r\n",
      "T00 ERR ...            HOMO-1   -> LUMO+0    : 97.6%\r\n",
      "T00 ERR ... \r\n",
      "T00 ERR ...   S =    3 Omega = +13.958362243092 eV  lamdba = +88.84 nm <FT> = +21.3442 <K_x> = +1.1630 <K_d> = -8.5489\r\n",
      "T00 ERR ...            TrDipole length gauge[e*bohr]  dx = +0.6231 dy = +0.2707 dz = -0.6355 |d|^2 = +0.8653 f = +0.2959\r\n",
      "T00 ERR ...            HOMO-2   -> LUMO+0    : 97.9%\r\n",
      "T00 ERR ... \r\n",
      "T00 ERR ...   S =    4 Omega = +14.564981273968 eV  lamdba = +85.14 nm <FT> = +22.7464 <K_x> = +0.3161 <K_d> = -8.4976\r\n",
      "T00 ERR ...            TrDipole length gauge[e*bohr]  dx = +0.1529 dy = -0.0502 dz = +0.0252 |d|^2 = +0.0265 f = +0.0095\r\n",
      "T00 ERR ...            HOMO-0   -> LUMO+1    : 72.1%\r\n",
      "T00 ERR ... \r\n",
      "T00 ERR ...   S =    5 Omega = +14.603053905146 eV  lamdba = +84.91 nm <FT> = +22.7986 <K_x> = +0.2993 <K_d> = -8.4949\r\n",
      "T00 ERR ...            TrDipole length gauge[e*bohr]  dx = +0.0385 dy = -0.1014 dz = -0.1684 |d|^2 = +0.0401 f = +0.0144\r\n",
      "T00 ERR ...            HOMO-1   -> LUMO+1    : 56.7%\r\n",
      "T00 ERR ... \r\n",
      "T00 ERR ...   S =    6 Omega = +14.628354968695 eV  lamdba = +84.77 nm <FT> = +22.8413 <K_x> = +0.2732 <K_d> = -8.4861\r\n",
      "T00 ERR ...            TrDipole length gauge[e*bohr]  dx = -0.0961 dy = +0.0026 dz = -0.0759 |d|^2 = +0.0150 f = +0.0054\r\n",
      "T00 ERR ...            HOMO-0   -> LUMO+2    : 55.6%\r\n",
      "T00 ERR ... \r\n",
      "T00 ERR ...   S =    7 Omega = +14.982533297414 eV  lamdba = +82.76 nm <FT> = +22.8486 <K_x> = +0.7042 <K_d> = -8.5702\r\n",
      "T00 ERR ...            TrDipole length gauge[e*bohr]  dx = -0.0429 dy = -0.0570 dz = -0.0722 |d|^2 = +0.0103 f = +0.0038\r\n",
      "T00 ERR ... \r\n",
      "T00 ERR ...   S =    8 Omega = +15.000944926918 eV  lamdba = +82.66 nm <FT> = +22.8816 <K_x> = +0.6835 <K_d> = -8.5641\r\n",
      "T00 ERR ...            TrDipole length gauge[e*bohr]  dx = +0.0296 dy = +0.0511 dz = -0.0238 |d|^2 = +0.0041 f = +0.0015\r\n",
      "T00 ERR ...            HOMO-2   -> LUMO+3    : 59.8%\r\n",
      "T00 ERR ... \r\n",
      "T00 ERR ...   S =    9 Omega = +16.001178636749 eV  lamdba = +77.49 nm <FT> = +23.1757 <K_x> = +2.2106 <K_d> = -9.3851\r\n",
      "T00 ERR ...            TrDipole length gauge[e*bohr]  dx = +0.9382 dy = +0.8768 dz = -0.5418 |d|^2 = +1.9427 f = +0.7616\r\n",
      "T00 ERR ...            HOMO-2   -> LUMO+1    : 58.4%\r\n",
      "T00 ERR ... \r\n",
      "T00 ERR ...   S =   10 Omega = +16.029823152372 eV  lamdba = +77.36 nm <FT> = +23.2244 <K_x> = +2.2960 <K_d> = -9.4906\r\n",
      "T00 ERR ...            TrDipole length gauge[e*bohr]  dx = +0.6285 dy = -1.1253 dz = -0.6377 |d|^2 = +2.0680 f = +0.8121\r\n",
      "T00 ERR ... \r\n",
      "T00 ERR ... 2025-10-31 2:17:52 BSE calculation took 0.017562884 seconds.\r\n",
      "T00 ERR ... 2025-10-31 2:17:52 GWBSE calculation finished \r\n",
      "T00 ERR ... Next State is: s1\r\n",
      "T00 ERR ... 2025-10-31 2:17:52 Evaluating polarregion 1\r\n",
      "T00 ERR ... 2025-10-31 2:17:52 Evaluating interaction between polarregion 1 and qmregion 0\r\n",
      "T00 ERR ... Next State is: s1"
     ]
    },
    {
     "name": "stdout",
     "output_type": "stream",
     "text": [
      "\r\n",
      "T00 ERR ... 2025-10-31 2:17:53 Evaluating interaction between polarregion 1 and staticregion 2"
     ]
    },
    {
     "name": "stdout",
     "output_type": "stream",
     "text": [
      "\r\n",
      "T00 ERR ... 2025-10-31 2:17:53 Starting Solving for classical polarization with 1380 degrees of freedom.\r\n",
      "T00 ERR ... 2025-10-31 2:17:53 CG: #iterations: 6, estimated error: 2.17453665038e-05\r\n",
      "T00 ERR ...   Total static energy [hrt]= 0.0009102654542\r\n",
      "T00 ERR ...   Total polar energy [hrt]= 0.0005315652092\r\n",
      "T00 ERR ...  Total energy [hrt]= 0.001441830663\r\n",
      "T00 ERR ... 2025-10-31 2:17:53 Evaluating staticregion 2\r\n",
      "T00 ERR ... 2025-10-31 2:17:53 Writing checkpoint to checkpoint_iter_2.hdf5"
     ]
    },
    {
     "name": "stdout",
     "output_type": "stream",
     "text": [
      "\r\n",
      "T00 ERR ...  Region:qmregion 0 is not converged deltaE=0.009162925927 RMS Dmat=0.03746356495 MaxDmat=0.1802321855\r\n",
      "T00 ERR ... 2025-10-31 2:17:53 Region:polarregion 1 is not converged deltaE=0.0004121748193\r\n",
      "T00 ERR ... 2025-10-31 2:17:53 --Total Energy all regions -39.72152455\r\n",
      "T00 ERR ... 2025-10-31 2:17:53 --Inter Region SCF Iteration 3 of 50\r\n",
      "T00 ERR ... 2025-10-31 2:17:53 Evaluating qmregion 0\r\n",
      "T00 ERR ... 2025-10-31 2:17:53 Evaluating interaction between qmregion 0 and polarregion 1\r\n",
      "T00 ERR ... 2025-10-31 2:17:53 Evaluating interaction between qmregion 0 and staticregion 2\r\n",
      "T00 ERR ... Running DFT calculation\r\n",
      "T00 ERR ... 2025-10-31 2:17:53 Using 2 threads\r\n",
      "T00 ERR ... 2025-10-31 2:17:53 Using native Eigen implementation, no BLAS overload \r\n",
      "T00 ERR ...  Molecule Coordinates [A] \r\n",
      "T00 ERR ...   C   +30.3000 +1.2704 +5.5205\r\n",
      "T00 ERR ...   H   +31.2392 +1.4802 +6.0301\r\n",
      "T00 ERR ...   H   +30.4910 +0.6554 +4.6433\r\n",
      "T00 ERR ...   H   +29.8500 +2.2100 +5.2100\r\n",
      "T00 ERR ...   H   +29.6200 +0.7500 +6.2000\r\n",
      "T00 ERR ... 2025-10-31 2:17:53 Loaded DFT Basis Set 3-21G with 17 functions"
     ]
    },
    {
     "name": "stdout",
     "output_type": "stream",
     "text": [
      "\r\n",
      "T00 ERR ... 2025-10-31 2:17:53 Loaded AUX Basis Set aux-def2-svp with 104 functions\r\n",
      "T00 ERR ... 2025-10-31 2:17:53 Total number of electrons: 10\r\n",
      "T00 ERR ... 2025-10-31 2:17:53 Smallest value of AOOverlap matrix is 0.03364074275\r\n",
      "T00 ERR ... 2025-10-31 2:17:53 Removed 0 basisfunction from inverse overlap matrix\r\n",
      "T00 ERR ... 2025-10-31 2:17:53 Convergence Options:\r\n",
      "T00 ERR ... \t\t Delta E [Ha]: 1e-07\r\n",
      "T00 ERR ... \t\t DIIS max error: 1e-07\r\n",
      "T00 ERR ... \t\t DIIS histlength: 20\r\n",
      "T00 ERR ... \t\t ADIIS start: 0.8\r\n",
      "T00 ERR ... \t\t DIIS start: 0.002\r\n",
      "T00 ERR ... \t\t Deleting oldest element from DIIS hist\r\n",
      "T00 ERR ... \t\t Levelshift[Ha]: 0\r\n",
      "T00 ERR ... \t\t Levelshift end: 0.2\r\n",
      "T00 ERR ... \t\t Mixing Parameter alpha: 0.7\r\n",
      "T00 ERR ... 2025-10-31 2:17:53 Setup invariant parts of Electron Repulsion integrals \r\n",
      "T00 ERR ... 2025-10-31 2:17:53 Constructed independent particle hamiltonian \r\n",
      "T00 ERR ... 2025-10-31 2:17:53 Nuclear Repulsion Energy is 13.4434088\r\n",
      "T00 ERR ... 2025-10-31 2:17:53 1350 External sites\r\n",
      "T00 ERR ...  Name      Coordinates[a0]     charge[e]         dipole[e*a0]    \r\n",
      "T00 ERR ...   C   +63.8902 +7.9543 +11.0171   -0.3282   +0.0076 -0.0006 -0.0060\r\n",
      "T00 ERR ...   H   +62.3892 +6.5470 +10.9796   +0.0824   +0.0078 +0.0004 +0.0004\r\n",
      "T00 ERR ...   H   +65.3194 +7.4736 +9.6186   +0.0822   +0.0033 -0.0010 -0.0020\r\n",
      "T00 ERR ...   H   +63.1170 +9.8077 +10.6203   +0.0817   +0.0016 +0.0006 +0.0011\r\n",
      "T00 ERR ...   H   +64.7422 +7.9557 +12.9068   +0.0819   +0.0039 +0.0030 -0.0011\r\n",
      "T00 ERR ...   C   +63.9128 -0.3996 +22.8673   -0.3282   -0.0027 +0.0017 +0.0049\r\n",
      "T00 ERR ...   H   +63.0449 -1.1731 +21.1692   +0.0824   +0.0001 -0.0004 +0.0013\r\n",
      "T00 ERR ...   H   +62.7676 +1.1530 +23.5795   +0.0822   -0.0014 +0.0049 +0.0021\r\n",
      "T00 ERR ...   H   +64.0430 -1.8922 +24.2830   +0.0817   +0.0010 -0.0002 -0.0010\r\n",
      "T00 ERR ...   H   +65.8004 +0.2810 +22.4122   +0.0819   -0.0035 -0.0008 +0.0015\r\n",
      "T00 ERR ...   C   +61.7182 -0.4374 -3.3115   -0.3282   -0.0000 -0.0017 +0.0011\r\n",
      "T00 ERR ...   H   +60.6600 -1.0798 -4.9554   +0.0824   +0.0012 +0.0014 +0.0013\r\n",
      "T00 ERR ...   H   +63.3309 +0.6815 -3.9252   +0.0822   -0.0013 -0.0018 -0.0005\r\n",
      "T00 ERR ...   H   +62.3800 -2.0623 -2.2148   +0.0817   +0.0011 -0.0018 +0.0013\r\n",
      "T00 ERR ...   H   +60.5092 +0.7345 -2.1392   +0.0819   -0.0026 -0.0035 -0.0018\r\n",
      "T00 ERR ...   C   +62.0402 +12.7739 +4.5175   -0.3282   +0.0028 +0.0002 +0.0019\r\n",
      "T00 ERR ...   H   +60.1049 +13.3052 +4.0622   +0.0824   +0.0003 -0.0014 -0.0009\r\n",
      "T00 ERR ...   H   +62.0812 +11.8167 +6.3372   +0.0822   +0.0006 -0.0024 -0.0014\r\n",
      "T00 ERR ...   H   +63.2115 +14.4753 +4.6109   +0.0817   +0.0028 +0.0022 +0.0014\r\n",
      "T00 ERR ...   H   +62.7769 +11.5084 +3.0803   +0.0819   -0.0002 -0.0010 +0.0007\r\n",
      "T00 ERR ...   C   +60.6789 +14.3239 +12.6808   -0.3282   -0.0017 +0.0025 +0.0014\r\n",
      "T00 ERR ...   H   +61.0756 +13.9461 +10.6972   +0.0824   -0.0037 +0.0038 -0.0004\r\n",
      "T00 ERR ...   H   +61.0224 +16.3108 +13.0851   +0.0822   -0.0001 +0.0005 +0.0033\r\n",
      "T00 ERR ...   H   +58.7327 +13.8328 +13.0580   +0.0817   +0.0008 -0.0003 +0.0003\r\n",
      "T00 ERR ...   H   +61.9074 +13.1525 +13.8517   +0.0819   -0.0005 -0.0008 +0.0035\r\n",
      "T00 ERR ...   C   +68.7870 +4.1961 +17.9521   -0.3282   +0.0045 +0.0003 +0.0059\r\n",
      "T00 ERR ...   H   +68.2015 +2.4962 +18.9532   +0.0824   +0.0001 -0.0004 -0.0014\r\n",
      "T00 ERR ...   H   +67.2445 +4.8625 +16.7665   +0.0822   +0.0011 -0.0031 +0.0026\r\n",
      "T00 ERR ...   H   +70.4303 +3.7606 +16.7997   +0.0817   -0.0008 +0.0010 +0.0003\r\n",
      "T00 ERR ...   H   +69.2964 +5.6503 +19.3130   +0.0819   +0.0010 +0.0008 +0.0054\r\n",
      "T00 ERR ...   C   +54.0832 +4.4983 +27.1938   -0.3282   -0.0005 -0.0024 -0.0011\r\n",
      "T00 ERR ...   H   +53.5372 +6.4564 +27.5139   +0.0824   -0.0012 -0.0015 +0.0002\r\n",
      "T00 ERR ...   H   +52.9768 +3.2670 +28.4141   +0.0822   -0.0007 -0.0014 +0.0003\r\n",
      "T00 ERR ...   H   +53.7249 +4.0062 +25.2278   +0.0817   +0.0022 -0.0008 +0.0003\r\n",
      "T00 ERR ...   H   +56.0682 +4.2330 +27.6278   +0.0819   -0.0031 +0.0014 -0.0015\r\n",
      "T00 ERR ...   C   +63.8174 +6.3112 -1.0788   -0.3282   -0.0006 -0.0004 -0.0001\r\n",
      "T00 ERR ...   H   +65.2393 +6.4796 +0.3993   +0.0824   -0.0003 -0.0010 +0.0015\r\n",
      "T00 ERR ...   H   +62.4364 +4.8836 -0.5459   +0.0822   +0.0021 +0.0009 -0.0006\r\n",
      "T00 ERR ...   H   +64.7422 +5.7637 -2.8384   +0.0817   -0.0005 +0.0027 +0.0003\r\n",
      "T00 ERR ...   H   +62.8903 +8.1258 -1.3455   +0.0819   -0.0005 -0.0016 -0.0036\r\n",
      "T00 ERR ...   C   +64.1752 +19.2751 +7.8615   -0.3282   +0.0049 -0.0002 +0.0007\r\n",
      "T00 ERR ...   H   +62.9276 +19.0860 +6.2359   +0.0824   -0.0010 +0.0004 +0.0021\r\n",
      "T00 ERR ...   H   +63.4396 +18.1623 +9.4267   +0.0822   +0.0013 -0.0003 -0.0003\r\n",
      "T00 ERR ...   H   +66.0461 +18.6138 +7.3699   +0.0817   +0.0013 -0.0010 -0.0001\r\n",
      "T00 ERR ...   H   +64.2509 +21.2405 +8.4282   +0.0819   +0.0017 +0.0008 -0.0004\r\n",
      "T00 ERR ...   C   +61.3975 +17.7254 +18.4625   -0.3282   +0.0022 -0.0003 +0.0024\r\n",
      "T00 ERR ...   H   +60.9990 +19.0346 +16.9256   +0.0824   -0.0004 +0.0011 +0.0002\r\n",
      "T00 ERR ...   H   +61.0958 +18.6680 +20.2653   +0.0822   +0.0001 +0.0000 +0.0002\r\n",
      "T00 ERR ...   H   +60.1502 +16.1005 +18.3303   +0.0817   +0.0029 +0.0005 -0.0007\r\n",
      "T00 ERR ...   H   +63.3627 +17.1020 +18.3492   +0.0819   -0.0013 -0.0006 +0.0013\r\n",
      "T00 ERR ...               ... (1300 sites not displayed)\r\n"
     ]
    },
    {
     "name": "stdout",
     "output_type": "stream",
     "text": [
      "\r\n",
      "T00 ERR ... 2025-10-31 2:17:53 Filled DFT external multipole potential matrix\r\n",
      "T00 ERR ... 2025-10-31 2:17:53 Nuclei-external site interaction energy 0.0204347161\r\n",
      "T00 ERR ... 2025-10-31 2:17:53 Using hybrid functional with alpha=0.25\r\n",
      "T00 ERR ... 2025-10-31 2:17:53 Setup numerical integration grid medium for vxc functional XC_HYB_GGA_XC_PBEH\r\n",
      "T00 ERR ... 2025-10-31 2:17:53 Setup Initial Guess using: atom\r\n",
      "T00 ERR ... 2025-10-31 2:17:53 Calculating atom density for C"
     ]
    },
    {
     "name": "stdout",
     "output_type": "stream",
     "text": [
      "\r\n",
      "T00 ERR ... 2025-10-31 2:17:54 Calculating atom density for H"
     ]
    },
    {
     "name": "stdout",
     "output_type": "stream",
     "text": [
      "\r\n",
      "T00 ERR ... 2025-10-31 2:17:54 STARTING SCF cycle\r\n",
      "T00 ERR ...  --------------------------------------------------------------------------\r\n",
      "T00 ERR ... \r\n",
      "T00 ERR ... 2025-10-31 2:17:54 Iteration 1 of 100"
     ]
    },
    {
     "name": "stdout",
     "output_type": "stream",
     "text": [
      "\r\n",
      "T00 ERR ... 2025-10-31 2:17:54 Total Energy -40.1461104361\r\n",
      "T00 ERR ... 2025-10-31 2:17:54 DIIs error 0.219657090107\r\n",
      "T00 ERR ... 2025-10-31 2:17:54 Delta Etot 0\r\n",
      "T00 ERR ... \r\n",
      "T00 ERR ... 2025-10-31 2:17:54 Iteration 2 of 100"
     ]
    },
    {
     "name": "stdout",
     "output_type": "stream",
     "text": [
      "\r\n",
      "T00 ERR ... 2025-10-31 2:17:54 Total Energy -40.1820291538\r\n",
      "T00 ERR ... 2025-10-31 2:17:54 DIIs error 0.128764191557\r\n",
      "T00 ERR ... 2025-10-31 2:17:54 Delta Etot -0.0359187177228\r\n",
      "T00 ERR ... \r\n",
      "T00 ERR ... 2025-10-31 2:17:54 Iteration 3 of 100"
     ]
    },
    {
     "name": "stdout",
     "output_type": "stream",
     "text": [
      "\r\n",
      "T00 ERR ... 2025-10-31 2:17:54 Total Energy -40.1985034856\r\n",
      "T00 ERR ... 2025-10-31 2:17:54 DIIs error 0.0793380177009\r\n",
      "T00 ERR ... 2025-10-31 2:17:54 Delta Etot -0.0164743317519\r\n",
      "T00 ERR ... \r\n",
      "T00 ERR ... 2025-10-31 2:17:54 Iteration 4 of 100"
     ]
    },
    {
     "name": "stdout",
     "output_type": "stream",
     "text": [
      "\r\n",
      "T00 ERR ... 2025-10-31 2:17:54 Total Energy -40.2291644176\r\n",
      "T00 ERR ... 2025-10-31 2:17:54 DIIs error 0.0296232169398\r\n",
      "T00 ERR ... 2025-10-31 2:17:54 Delta Etot -0.0306609320061\r\n",
      "T00 ERR ... \r\n",
      "T00 ERR ... 2025-10-31 2:17:54 Iteration 5 of 100"
     ]
    },
    {
     "name": "stdout",
     "output_type": "stream",
     "text": [
      "\r\n",
      "T00 ERR ... 2025-10-31 2:17:54 Total Energy -40.2290565164\r\n",
      "T00 ERR ... 2025-10-31 2:17:54 DIIs error 0.0312032228138\r\n",
      "T00 ERR ... 2025-10-31 2:17:54 Delta Etot 0.000107901128757\r\n",
      "T00 ERR ... \r\n",
      "T00 ERR ... 2025-10-31 2:17:54 Iteration 6 of 100"
     ]
    },
    {
     "name": "stdout",
     "output_type": "stream",
     "text": [
      "\r\n",
      "T00 ERR ... 2025-10-31 2:17:54 Total Energy -40.2314078768\r\n",
      "T00 ERR ... 2025-10-31 2:17:54 DIIs error 0.000319032567251\r\n",
      "T00 ERR ... 2025-10-31 2:17:54 Delta Etot -0.00235136040771\r\n",
      "T00 ERR ... \r\n",
      "T00 ERR ... 2025-10-31 2:17:54 Iteration 7 of 100"
     ]
    },
    {
     "name": "stdout",
     "output_type": "stream",
     "text": [
      "\r\n",
      "T00 ERR ... 2025-10-31 2:17:54 Total Energy -40.2314081318\r\n",
      "T00 ERR ... 2025-10-31 2:17:54 DIIs error 2.06134471869e-05\r\n",
      "T00 ERR ... 2025-10-31 2:17:54 Delta Etot -2.54969201308e-07\r\n",
      "T00 ERR ... \r\n",
      "T00 ERR ... 2025-10-31 2:17:54 Iteration 8 of 100"
     ]
    },
    {
     "name": "stdout",
     "output_type": "stream",
     "text": [
      "\r\n",
      "T00 ERR ... 2025-10-31 2:17:54 Total Energy -40.2314081321\r\n",
      "T00 ERR ... 2025-10-31 2:17:54 DIIs error 1.08375740345e-05\r\n",
      "T00 ERR ... 2025-10-31 2:17:54 Delta Etot -2.4859758696e-10\r\n",
      "T00 ERR ... \r\n",
      "T00 ERR ... 2025-10-31 2:17:54 Iteration 9 of 100"
     ]
    },
    {
     "name": "stdout",
     "output_type": "stream",
     "text": [
      "\r\n",
      "T00 ERR ... 2025-10-31 2:17:54 Total Energy -40.2314081325\r\n",
      "T00 ERR ... 2025-10-31 2:17:54 DIIs error 3.25965788465e-06\r\n",
      "T00 ERR ... 2025-10-31 2:17:54 Delta Etot -3.98841848437e-10\r\n",
      "T00 ERR ... \r\n",
      "T00 ERR ... 2025-10-31 2:17:54 Iteration 10 of 100"
     ]
    },
    {
     "name": "stdout",
     "output_type": "stream",
     "text": [
      "\r\n",
      "T00 ERR ... 2025-10-31 2:17:54 Total Energy -40.2314081325\r\n",
      "T00 ERR ... 2025-10-31 2:17:54 DIIs error 8.88688260357e-07\r\n",
      "T00 ERR ... 2025-10-31 2:17:54 Delta Etot -3.91082721762e-11\r\n",
      "T00 ERR ... \r\n",
      "T00 ERR ... 2025-10-31 2:17:54 Iteration 11 of 100"
     ]
    },
    {
     "name": "stdout",
     "output_type": "stream",
     "text": [
      "\r\n",
      "T00 ERR ... 2025-10-31 2:17:54 Total Energy -40.2314081325\r\n",
      "T00 ERR ... 2025-10-31 2:17:54 DIIs error 1.37596912567e-09\r\n",
      "T00 ERR ... 2025-10-31 2:17:54 Delta Etot -2.73558953268e-12\r\n",
      "T00 ERR ... 2025-10-31 2:17:54 Total Energy has converged to -2.73558953e-12[Ha] after 11 iterations. DIIS error is converged up to 1.37596913e-09\r\n",
      "T00 ERR ... 2025-10-31 2:17:54 Final Single Point Energy -40.2314081325 Ha\r\n",
      "T00 ERR ... 2025-10-31 2:17:54 Final Local Exc contribution -5.18429843973 Ha\r\n",
      "T00 ERR ... 2025-10-31 2:17:54 Final Non Local Ex contribution -1.63926687355 Ha\r\n",
      "T00 ERR ...   Orbital energies: \r\n",
      "T00 ERR ...   index occupation energy(Hartree) \r\n",
      "T00 ERR ...      0      2   -10.1479923570\r\n",
      "T00 ERR ...      1      2   -0.7122695728\r\n",
      "T00 ERR ...      2      2   -0.4029279339\r\n",
      "T00 ERR ...      3      2   -0.4014686032\r\n",
      "T00 ERR ...      4      2   -0.3992210673\r\n",
      "T00 ERR ...      5      0   +0.1607640934\r\n",
      "T00 ERR ...      6      0   +0.2032679926\r\n",
      "T00 ERR ...      7      0   +0.2078297288\r\n",
      "T00 ERR ...      8      0   +0.2101333484\r\n",
      "T00 ERR ...      9      0   +0.7240720775\r\n",
      "T00 ERR ...     10      0   +0.7253178730\r\n",
      "T00 ERR ...     11      0   +0.7277844186\r\n",
      "T00 ERR ...     12      0   +1.0556488467\r\n",
      "T00 ERR ...     13      0   +1.0855952542\r\n",
      "T00 ERR ...     14      0   +1.0901107966\r\n",
      "T00 ERR ...     15      0   +1.0920241228\r\n",
      "T00 ERR ...     16      0   +1.7120593565\r\n",
      "T00 ERR ... 2025-10-31 2:17:54 Electric Dipole is[e*bohr]:\r\n",
      "\t\t dx=0.0150025182634\r\n",
      "\t\t dy=0.0336860379666\r\n",
      "\t\t dz=-0.0134526153696\r\n",
      "T00 ERR ... Writing result to temp.orb"
     ]
    },
    {
     "name": "stdout",
     "output_type": "stream",
     "text": [
      "\r\n",
      "T00 ERR ... 2025-10-31 2:17:55 DFT calculation took 1.635989819 seconds.\r\n",
      "T00 ERR ... 2025-10-31 2:17:55 RPA level range [0:16]\r\n",
      "T00 ERR ... 2025-10-31 2:17:55 GW  level range [0:16]\r\n",
      "T00 ERR ... 2025-10-31 2:17:55 BSE level range occ[0:4]  virt[5:16]\r\n",
      "T00 ERR ...  BSE type: full\r\n",
      "T00 ERR ... 2025-10-31 2:17:55 BSE Hamiltonian has size 120x120\r\n",
      "T00 ERR ...  BSE without Hqp offdiagonal elements\r\n",
      "T00 ERR ...  Running GW as: G0W0\r\n",
      "T00 ERR ...  qp_sc_limit [Hartree]: 1e-05\r\n",
      "T00 ERR ...  Tasks: \r\n",
      "T00 ERR ...  GW \r\n",
      "T00 ERR ...  singlets \r\n",
      "T00 ERR ...  triplets \r\n",
      "T00 ERR ...  Store: \r\n",
      "T00 ERR ...  GW \r\n",
      "T00 ERR ...  Sigma integration: ppm\r\n",
      "T00 ERR ...  eta: 0.001\r\n",
      "T00 ERR ...  QP solver: grid\r\n",
      "T00 ERR ...  QP grid steps: 1001\r\n",
      "T00 ERR ...  QP grid spacing: 0.001\r\n",
      "T00 ERR ... 2025-10-31 2:17:55 Using 2 threads\r\n",
      "T00 ERR ... 2025-10-31 2:17:55 Using native Eigen implementation, no BLAS overload \r\n",
      "T00 ERR ... 2025-10-31 2:17:55 Molecule Coordinates [A] \r\n",
      "T00 ERR ...     0    C   30.3000 1.2704 5.5205\r\n",
      "T00 ERR ...     1    H   31.2392 1.4802 6.0301\r\n",
      "T00 ERR ...     2    H   30.4910 0.6554 4.6433\r\n",
      "T00 ERR ...     3    H   29.8500 2.2100 5.2100\r\n",
      "T00 ERR ...     4    H   29.6200 0.7500 6.2000\r\n",
      "T00 ERR ... 2025-10-31 2:17:55 DFT data was created by xtp\r\n",
      "T00 ERR ... 2025-10-31 2:17:55 Loaded DFT Basis Set 3-21G\r\n",
      "T00 ERR ... 2025-10-31 2:17:55 Filled DFT Basis of size 17\r\n",
      "T00 ERR ... 2025-10-31 2:17:55 Loaded Auxbasis Set aux-def2-svp\r\n",
      "T00 ERR ... 2025-10-31 2:17:55 Filled Auxbasis of size 104\r\n",
      "T00 ERR ... 2025-10-31 2:17:55 Calculating Mmn_beta (3-center-repulsion x orbitals)  \r\n",
      "T00 ERR ... 2025-10-31 2:17:55 Calculated Mmn_beta (3-center-repulsion x orbitals)  \r\n",
      "T00 ERR ... 2025-10-31 2:17:55 Integrating Vxc with functional XC_HYB_GGA_XC_PBEH"
     ]
    },
    {
     "name": "stdout",
     "output_type": "stream",
     "text": [
      "\r\n",
      "T00 ERR ... 2025-10-31 2:17:55 Set hybrid exchange factor: 0.25\r\n",
      "T00 ERR ... 2025-10-31 2:17:55 Calculated exchange-correlation expectation values \r\n",
      "T00 ERR ... 2025-10-31 2:17:55 Calculated Hartree exchange contribution\r\n",
      "T00 ERR ... 2025-10-31 2:17:55 Scissor shifting DFT energies by: 0 Hrt\r\n",
      "T00 ERR ...   ====== Perturbative quasiparticle energies (Hartree) ====== \r\n",
      "T00 ERR ...    DeltaHLGap = +0.215481 Hartree\r\n",
      "T00 ERR ...   Level =    0 DFT = -10.1480 VXC = -1.7031 S-X = -2.6689 S-C = +0.5631 GWA = -10.5506\r\n",
      "T00 ERR ...   Level =    1 DFT = -0.7123 VXC = -0.4404 S-X = -0.6606 S-C = +0.1083 GWA = -0.8242\r\n",
      "T00 ERR ...   Level =    2 DFT = -0.4029 VXC = -0.3959 S-X = -0.5286 S-C = +0.0324 GWA = -0.5032\r\n",
      "T00 ERR ...   Level =    3 DFT = -0.4015 VXC = -0.3967 S-X = -0.5297 S-C = +0.0328 GWA = -0.5017\r\n",
      "T00 ERR ...   HOMO  =    4 DFT = -0.3992 VXC = -0.3969 S-X = -0.5300 S-C = +0.0329 GWA = -0.4994\r\n",
      "T00 ERR ...   LUMO  =    5 DFT = +0.1608 VXC = -0.2417 S-X = -0.1017 S-C = -0.0246 GWA = +0.2761\r\n",
      "T00 ERR ...   Level =    6 DFT = +0.2033 VXC = -0.2616 S-X = -0.1101 S-C = -0.0238 GWA = +0.3310\r\n",
      "T00 ERR ...   Level =    7 DFT = +0.2078 VXC = -0.2612 S-X = -0.1097 S-C = -0.0239 GWA = +0.3355\r\n",
      "T00 ERR ...   Level =    8 DFT = +0.2101 VXC = -0.2613 S-X = -0.1098 S-C = -0.0238 GWA = +0.3378\r\n",
      "T00 ERR ...   Level =    9 DFT = +0.7241 VXC = -0.3183 S-X = -0.1082 S-C = -0.0635 GWA = +0.8706\r\n",
      "T00 ERR ...   Level =   10 DFT = +0.7253 VXC = -0.3181 S-X = -0.1079 S-C = -0.0638 GWA = +0.8717\r\n",
      "T00 ERR ...   Level =   11 DFT = +0.7278 VXC = -0.3177 S-X = -0.1073 S-C = -0.0643 GWA = +0.8739\r\n",
      "T00 ERR ...   Level =   12 DFT = +1.0556 VXC = -0.4047 S-X = -0.1334 S-C = -0.0322 GWA = +1.2947\r\n",
      "T00 ERR ...   Level =   13 DFT = +1.0856 VXC = -0.3962 S-X = -0.1274 S-C = -0.1737 GWA = +1.1807\r\n",
      "T00 ERR ...   Level =   14 DFT = +1.0901 VXC = -0.3954 S-X = -0.1271 S-C = -0.1730 GWA = +1.1855\r\n",
      "T00 ERR ...   Level =   15 DFT = +1.0920 VXC = -0.3947 S-X = -0.1268 S-C = -0.1728 GWA = +1.1871\r\n",
      "T00 ERR ...   Level =   16 DFT = +1.7121 VXC = -0.3559 S-X = -0.1045 S-C = -0.0297 GWA = +1.9338\r\n",
      "T00 ERR ... 2025-10-31 2:17:55 Calculated offdiagonal part of Sigma  \r\n",
      "T00 ERR ... 2025-10-31 2:17:55 Full quasiparticle Hamiltonian  \r\n",
      "T00 ERR ...   ====== Diagonalized quasiparticle energies (Hartree) ====== \r\n",
      "T00 ERR ...   Level =    0 PQP = -10.550643 DQP = -10.550828 \r\n",
      "T00 ERR ...   Level =    1 PQP = -0.824156 DQP = -0.824587 \r\n",
      "T00 ERR ...   Level =    2 PQP = -0.503213 DQP = -0.503479 \r\n",
      "T00 ERR ...   Level =    3 PQP = -0.501672 DQP = -0.501881 \r\n",
      "T00 ERR ...   HOMO  =    4 PQP = -0.499365 DQP = -0.499561 \r\n",
      "T00 ERR ...   LUMO  =    5 PQP = +0.276101 DQP = +0.267953 \r\n",
      "T00 ERR ...   Level =    6 PQP = +0.331048 DQP = +0.329235 \r\n",
      "T00 ERR ...   Level =    7 PQP = +0.335474 DQP = +0.333995 \r\n",
      "T00 ERR ...   Level =    8 PQP = +0.337767 DQP = +0.336306 \r\n",
      "T00 ERR ...   Level =    9 PQP = +0.870582 DQP = +0.868856 \r\n",
      "T00 ERR ...   Level =   10 PQP = +0.871742 DQP = +0.869836 \r\n",
      "T00 ERR ...   Level =   11 PQP = +0.873910 DQP = +0.871704 \r\n",
      "T00 ERR ...   Level =   12 PQP = +1.294695 DQP = +1.183588 \r\n",
      "T00 ERR ...   Level =   13 PQP = +1.180686 DQP = +1.189258 \r\n",
      "T00 ERR ...   Level =   14 PQP = +1.185456 DQP = +1.191534 \r\n",
      "T00 ERR ...   Level =   15 PQP = +1.187121 DQP = +1.289775 \r\n",
      "T00 ERR ...   Level =   16 PQP = +1.933756 DQP = +1.947586 \r\n",
      "T00 ERR ... 2025-10-31 2:17:55 Diagonalized QP Hamiltonian  \r\n",
      "T00 ERR ... 2025-10-31 2:17:55 GW calculation took 0.118813159 seconds.\r\n",
      "T00 ERR ... 2025-10-31 2:17:55 Setup Full triplet hamiltonian \r\n",
      "T00 ERR ... 2025-10-31 2:17:55 Davidson Solver using 2 threads.\r\n",
      "T00 ERR ... 2025-10-31 2:17:55 Tolerance : 0.0001\r\n",
      "T00 ERR ... 2025-10-31 2:17:55 DPR Correction\r\n",
      "T00 ERR ... 2025-10-31 2:17:55 Matrix size : 120x120\r\n",
      "T00 ERR ... 2025-10-31 2:17:55 iter\tSearch Space\tNorm\r\n",
      "T00 ERR ... 2025-10-31 2:17:55    0           20 \t 1.28e-01 \t  0.00% converged\r\n",
      "T00 ERR ... 2025-10-31 2:17:55    1           35 \t 1.43e-02 \t  0.00% converged"
     ]
    },
    {
     "name": "stdout",
     "output_type": "stream",
     "text": [
      "\r\n",
      "T00 ERR ... 2025-10-31 2:17:55    2           50 \t 8.71e-04 \t 10.00% converged\r\n",
      "T00 ERR ... 2025-10-31 2:17:55    3           62 \t 2.86e-05 \t 100.00% converged\r\n",
      "T00 ERR ... 2025-10-31 2:17:55 Davidson converged after 3 iterations.\r\n",
      "T00 ERR ... 2025-10-31 2:17:55-----------------------------------\r\n",
      "T00 ERR ... 2025-10-31 2:17:55- Davidson ran for 0.007699535secs.\r\n",
      "T00 ERR ... 2025-10-31 2:17:55-----------------------------------\r\n",
      "T00 ERR ... 2025-10-31 2:17:55 Solved BSE for triplets \r\n",
      "T00 ERR ...   ====== triplet energies (eV) ====== \r\n",
      "T00 ERR ...   T =    1 Omega = +11.603127102385 eV  lamdba = +106.87 nm <FT> = +22.8275 <K_d> = -11.2244\r\n",
      "T00 ERR ...    \r\n",
      "T00 ERR ...   T =    2 Omega = +11.766167613189 eV  lamdba = +105.39 nm <FT> = +22.9570 <K_d> = -11.1909\r\n",
      "T00 ERR ...    \r\n",
      "T00 ERR ...   T =    3 Omega = +11.816411199892 eV  lamdba = +104.94 nm <FT> = +22.4167 <K_d> = -10.6003\r\n",
      "T00 ERR ...    \r\n",
      "T00 ERR ...   T =    4 Omega = +11.874668606372 eV  lamdba = +104.42 nm <FT> = +22.4735 <K_d> = -10.5988\r\n",
      "T00 ERR ...    \r\n",
      "T00 ERR ...   T =    5 Omega = +13.667861989895 eV  lamdba = +90.72 nm <FT> = +22.2529 <K_d> = -8.5851\r\n",
      "T00 ERR ...    \r\n",
      "T00 ERR ...   T =    6 Omega = +13.763161924052 eV  lamdba = +90.10 nm <FT> = +22.3021 <K_d> = -8.5389\r\n",
      "T00 ERR ...    \r\n",
      "T00 ERR ...   T =    7 Omega = +13.932456841201 eV  lamdba = +89.00 nm <FT> = +22.3883 <K_d> = -8.4558\r\n",
      "T00 ERR ...    \r\n",
      "T00 ERR ...   T =    8 Omega = +14.135966276698 eV  lamdba = +87.72 nm <FT> = +22.7404 <K_d> = -8.6044\r\n",
      "T00 ERR ...            HOMO-0   -> LUMO+1    : 72.1%\r\n",
      "T00 ERR ...    \r\n",
      "T00 ERR ...   T =    9 Omega = +14.222665296474 eV  lamdba = +87.18 nm <FT> = +22.8412 <K_d> = -8.6185\r\n",
      "T00 ERR ...    \r\n",
      "T00 ERR ...   T =   10 Omega = +14.366470176073 eV  lamdba = +86.31 nm <FT> = +22.8589 <K_d> = -8.4924\r\n",
      "T00 ERR ...            HOMO-2   -> LUMO+2    : 61.4%\r\n",
      "T00 ERR ...    \r\n",
      "T00 ERR ... 2025-10-31 2:17:55 Setup Full singlet hamiltonian \r\n",
      "T00 ERR ... 2025-10-31 2:17:55 Davidson Solver using 2 threads.\r\n",
      "T00 ERR ... 2025-10-31 2:17:55 Tolerance : 0.0001\r\n",
      "T00 ERR ... 2025-10-31 2:17:55 DPR Correction\r\n",
      "T00 ERR ... 2025-10-31 2:17:55 Matrix size : 120x120\r\n",
      "T00 ERR ... 2025-10-31 2:17:55 iter\tSearch Space\tNorm\r\n",
      "T00 ERR ... 2025-10-31 2:17:55    0           20 \t 1.28e-01 \t  0.00% converged\r\n",
      "T00 ERR ... 2025-10-31 2:17:55    1           35 \t 1.29e-02 \t  0.00% converged\r\n",
      "T00 ERR ... 2025-10-31 2:17:55    2           50 \t 9.31e-04 \t 40.00% converged\r\n",
      "T00 ERR ... 2025-10-31 2:17:55    3           61 \t 3.33e-05 \t 100.00% converged\r\n",
      "T00 ERR ... 2025-10-31 2:17:55 Davidson converged after 3 iterations.\r\n",
      "T00 ERR ... 2025-10-31 2:17:55-----------------------------------\r\n",
      "T00 ERR ... 2025-10-31 2:17:55- Davidson ran for 0.008094032secs.\r\n",
      "T00 ERR ... 2025-10-31 2:17:55-----------------------------------\r\n",
      "T00 ERR ... 2025-10-31 2:17:55 Solved BSE for singlets \r\n",
      "T00 ERR ...   ====== singlet energies (eV) ====== \r\n",
      "T00 ERR ...   S =    1 Omega = +13.844365793557 eV  lamdba = +89.57 nm <FT> = +21.2221 <K_x> = +0.9871 <K_d> = -8.3648\r\n",
      "T00 ERR ...            TrDipole length gauge[e*bohr]  dx = -0.5242 dy = +0.4325 dz = -0.3380 |d|^2 = +0.5761 f = +0.1954\r\n",
      "T00 ERR ...            HOMO-0   -> LUMO+0    : 98.8%\r\n",
      "T00 ERR ... \r\n",
      "T00 ERR ...   S =    2 Omega = +13.905496036634 eV  lamdba = +89.17 nm <FT> = +21.2955 <K_x> = +1.0388 <K_d> = -8.4289\r\n",
      "T00 ERR ...            TrDipole length gauge[e*bohr]  dx = +0.2211 dy = +0.6235 dz = +0.4776 |d|^2 = +0.6657 f = +0.2268\r\n",
      "T00 ERR ...            HOMO-1   -> LUMO+0    : 97.1%\r\n",
      "T00 ERR ... \r\n",
      "T00 ERR ...   S =    3 Omega = +13.962496962038 eV  lamdba = +88.81 nm <FT> = +21.3521 <K_x> = +1.1752 <K_d> = -8.5648\r\n",
      "T00 ERR ...            TrDipole length gauge[e*bohr]  dx = -0.6219 dy = -0.2945 dz = +0.6416 |d|^2 = +0.8850 f = +0.3027\r\n",
      "T00 ERR ...            HOMO-2   -> LUMO+0    : 97.5%\r\n",
      "T00 ERR ... \r\n",
      "T00 ERR ...   S =    4 Omega = +14.556199454892 eV  lamdba = +85.19 nm <FT> = +22.7280 <K_x> = +0.3296 <K_d> = -8.5013\r\n",
      "T00 ERR ...            TrDipole length gauge[e*bohr]  dx = -0.1630 dy = +0.0599 dz = -0.0313 |d|^2 = +0.0311 f = +0.0111\r\n",
      "T00 ERR ...            HOMO-0   -> LUMO+1    : 75.2%\r\n",
      "T00 ERR ... \r\n",
      "T00 ERR ...   S =    5 Omega = +14.601670280812 eV  lamdba = +84.92 nm <FT> = +22.7896 <K_x> = +0.3120 <K_d> = -8.5000\r\n",
      "T00 ERR ...            TrDipole length gauge[e*bohr]  dx = +0.0473 dy = -0.1157 dz = -0.1954 |d|^2 = +0.0538 f = +0.0192\r\n",
      "T00 ERR ...            HOMO-1   -> LUMO+1    : 58.5%\r\n",
      "T00 ERR ... \r\n",
      "T00 ERR ...   S =    6 Omega = +14.633252657791 eV  lamdba = +84.74 nm <FT> = +22.8438 <K_x> = +0.2777 <K_d> = -8.4882\r\n",
      "T00 ERR ...            TrDipole length gauge[e*bohr]  dx = -0.1132 dy = +0.0127 dz = -0.0868 |d|^2 = +0.0205 f = +0.0073\r\n",
      "T00 ERR ...            HOMO-0   -> LUMO+2    : 56.2%\r\n",
      "T00 ERR ... \r\n",
      "T00 ERR ...   S =    7 Omega = +14.987794406130 eV  lamdba = +82.73 nm <FT> = +22.8521 <K_x> = +0.7062 <K_d> = -8.5705\r\n",
      "T00 ERR ...            TrDipole length gauge[e*bohr]  dx = -0.0528 dy = -0.0773 dz = -0.0688 |d|^2 = +0.0135 f = +0.0050\r\n",
      "T00 ERR ... \r\n",
      "T00 ERR ...   S =    8 Omega = +15.009516911842 eV  lamdba = +82.61 nm <FT> = +22.8976 <K_x> = +0.6730 <K_d> = -8.5611\r\n",
      "T00 ERR ...            TrDipole length gauge[e*bohr]  dx = +0.0278 dy = +0.0470 dz = -0.0334 |d|^2 = +0.0041 f = +0.0015\r\n",
      "T00 ERR ...            HOMO-2   -> LUMO+3    : 66.9%\r\n",
      "T00 ERR ... \r\n",
      "T00 ERR ...   S =    9 Omega = +16.000038454815 eV  lamdba = +77.50 nm <FT> = +23.1718 <K_x> = +2.1983 <K_d> = -9.3700\r\n",
      "T00 ERR ...            TrDipole length gauge[e*bohr]  dx = +0.9151 dy = +0.8760 dz = -0.5650 |d|^2 = +1.9241 f = +0.7542\r\n",
      "T00 ERR ...            HOMO-2   -> LUMO+1    : 59.0%\r\n",
      "T00 ERR ... \r\n",
      "T00 ERR ...   S =   10 Omega = +16.031040524102 eV  lamdba = +77.35 nm <FT> = +23.2236 <K_x> = +2.2792 <K_d> = -9.4717\r\n",
      "T00 ERR ...            TrDipole length gauge[e*bohr]  dx = +0.4309 dy = -1.0685 dz = -0.8476 |d|^2 = +2.0457 f = +0.8035\r\n",
      "T00 ERR ... \r\n",
      "T00 ERR ... 2025-10-31 2:17:55 BSE calculation took 0.018364955 seconds.\r\n",
      "T00 ERR ... 2025-10-31 2:17:55 GWBSE calculation finished \r\n",
      "T00 ERR ... Next State is: s1\r\n",
      "T00 ERR ... 2025-10-31 2:17:55 Evaluating polarregion 1\r\n",
      "T00 ERR ... 2025-10-31 2:17:55 Evaluating interaction between polarregion 1 and qmregion 0\r\n",
      "T00 ERR ... Next State is: s1"
     ]
    },
    {
     "name": "stdout",
     "output_type": "stream",
     "text": [
      "\r\n",
      "T00 ERR ... 2025-10-31 2:17:55 Evaluating interaction between polarregion 1 and staticregion 2\r\n",
      "T00 ERR ... 2025-10-31 2:17:55 Starting Solving for classical polarization with 1380 degrees of freedom."
     ]
    },
    {
     "name": "stdout",
     "output_type": "stream",
     "text": [
      "\r\n",
      "T00 ERR ... 2025-10-31 2:17:55 CG: #iterations: 5, estimated error: 3.94306387927e-05\r\n",
      "T00 ERR ...   Total static energy [hrt]= 0.0009102654542\r\n",
      "T00 ERR ...   Total polar energy [hrt]= 0.0006914774472\r\n",
      "T00 ERR ...  Total energy [hrt]= 0.001601742901\r\n",
      "T00 ERR ... 2025-10-31 2:17:55 Evaluating staticregion 2\r\n",
      "T00 ERR ... 2025-10-31 2:17:55 Writing checkpoint to checkpoint_iter_3.hdf5"
     ]
    },
    {
     "name": "stdout",
     "output_type": "stream",
     "text": [
      "\r\n",
      "T00 ERR ...  Region:qmregion 0 is not converged deltaE=0.0003293138317 RMS Dmat=0.01422268073 MaxDmat=0.07846303153\r\n",
      "T00 ERR ... 2025-10-31 2:17:55 Region:polarregion 1 is not converged deltaE=0.000159912238\r\n",
      "T00 ERR ... 2025-10-31 2:17:55 --Total Energy all regions -39.72103533\r\n",
      "T00 ERR ... 2025-10-31 2:17:55 --Inter Region SCF Iteration 4 of 50\r\n",
      "T00 ERR ... 2025-10-31 2:17:55 Evaluating qmregion 0\r\n",
      "T00 ERR ... 2025-10-31 2:17:55 Evaluating interaction between qmregion 0 and polarregion 1\r\n",
      "T00 ERR ... 2025-10-31 2:17:55 Evaluating interaction between qmregion 0 and staticregion 2\r\n",
      "T00 ERR ... Running DFT calculation\r\n",
      "T00 ERR ... 2025-10-31 2:17:55 Using 2 threads\r\n",
      "T00 ERR ... 2025-10-31 2:17:55 Using native Eigen implementation, no BLAS overload \r\n",
      "T00 ERR ...  Molecule Coordinates [A] \r\n",
      "T00 ERR ...   C   +30.3000 +1.2704 +5.5205\r\n",
      "T00 ERR ...   H   +31.2392 +1.4802 +6.0301\r\n",
      "T00 ERR ...   H   +30.4910 +0.6554 +4.6433\r\n",
      "T00 ERR ...   H   +29.8500 +2.2100 +5.2100\r\n",
      "T00 ERR ...   H   +29.6200 +0.7500 +6.2000\r\n",
      "T00 ERR ... 2025-10-31 2:17:55 Loaded DFT Basis Set 3-21G with 17 functions\r\n",
      "T00 ERR ... 2025-10-31 2:17:55 Loaded AUX Basis Set aux-def2-svp with 104 functions\r\n",
      "T00 ERR ... 2025-10-31 2:17:55 Total number of electrons: 10\r\n",
      "T00 ERR ... 2025-10-31 2:17:55 Smallest value of AOOverlap matrix is 0.03364074275\r\n",
      "T00 ERR ... 2025-10-31 2:17:55 Removed 0 basisfunction from inverse overlap matrix\r\n",
      "T00 ERR ... 2025-10-31 2:17:55 Convergence Options:\r\n",
      "T00 ERR ... \t\t Delta E [Ha]: 1e-07\r\n",
      "T00 ERR ... \t\t DIIS max error: 1e-07\r\n",
      "T00 ERR ... \t\t DIIS histlength: 20\r\n",
      "T00 ERR ... \t\t ADIIS start: 0.8\r\n",
      "T00 ERR ... \t\t DIIS start: 0.002\r\n",
      "T00 ERR ... \t\t Deleting oldest element from DIIS hist\r\n",
      "T00 ERR ... \t\t Levelshift[Ha]: 0\r\n",
      "T00 ERR ... \t\t Levelshift end: 0.2\r\n",
      "T00 ERR ... \t\t Mixing Parameter alpha: 0.7\r\n",
      "T00 ERR ... 2025-10-31 2:17:55 Setup invariant parts of Electron Repulsion integrals \r\n",
      "T00 ERR ... 2025-10-31 2:17:55 Constructed independent particle hamiltonian \r\n",
      "T00 ERR ... 2025-10-31 2:17:55 Nuclear Repulsion Energy is 13.4434088\r\n",
      "T00 ERR ... 2025-10-31 2:17:55 1350 External sites\r\n",
      "T00 ERR ...  Name      Coordinates[a0]     charge[e]         dipole[e*a0]    \r\n",
      "T00 ERR ...   C   +63.8902 +7.9543 +11.0171   -0.3282   +0.0084 +0.0002 -0.0060\r\n",
      "T00 ERR ...   H   +62.3892 +6.5470 +10.9796   +0.0824   +0.0087 +0.0017 +0.0002\r\n",
      "T00 ERR ...   H   +65.3194 +7.4736 +9.6186   +0.0822   +0.0036 -0.0009 -0.0022\r\n",
      "T00 ERR ...   H   +63.1170 +9.8077 +10.6203   +0.0817   +0.0016 +0.0010 +0.0011\r\n",
      "T00 ERR ...   H   +64.7422 +7.9557 +12.9068   +0.0819   +0.0041 +0.0031 -0.0009\r\n",
      "T00 ERR ...   C   +63.9128 -0.3996 +22.8673   -0.3282   -0.0028 +0.0015 +0.0050\r\n",
      "T00 ERR ...   H   +63.0449 -1.1731 +21.1692   +0.0824   -0.0000 -0.0005 +0.0014\r\n",
      "T00 ERR ...   H   +62.7676 +1.1530 +23.5795   +0.0822   -0.0014 +0.0049 +0.0021\r\n",
      "T00 ERR ...   H   +64.0430 -1.8922 +24.2830   +0.0817   +0.0010 -0.0003 -0.0010\r\n",
      "T00 ERR ...   H   +65.8004 +0.2810 +22.4122   +0.0819   -0.0036 -0.0009 +0.0016\r\n",
      "T00 ERR ...   C   +61.7182 -0.4374 -3.3115   -0.3282   -0.0001 -0.0018 +0.0011\r\n",
      "T00 ERR ...   H   +60.6600 -1.0798 -4.9554   +0.0824   +0.0011 +0.0014 +0.0013\r\n",
      "T00 ERR ...   H   +63.3309 +0.6815 -3.9252   +0.0822   -0.0013 -0.0018 -0.0005\r\n",
      "T00 ERR ...   H   +62.3800 -2.0623 -2.2148   +0.0817   +0.0010 -0.0019 +0.0013\r\n",
      "T00 ERR ...   H   +60.5092 +0.7345 -2.1392   +0.0819   -0.0026 -0.0035 -0.0018\r\n",
      "T00 ERR ...   C   +62.0402 +12.7739 +4.5175   -0.3282   +0.0028 +0.0003 +0.0018\r\n",
      "T00 ERR ...   H   +60.1049 +13.3052 +4.0622   +0.0824   +0.0002 -0.0014 -0.0009\r\n",
      "T00 ERR ...   H   +62.0812 +11.8167 +6.3372   +0.0822   +0.0006 -0.0023 -0.0015\r\n",
      "T00 ERR ...   H   +63.2115 +14.4753 +4.6109   +0.0817   +0.0028 +0.0022 +0.0014\r\n",
      "T00 ERR ...   H   +62.7769 +11.5084 +3.0803   +0.0819   -0.0002 -0.0010 +0.0007\r\n",
      "T00 ERR ...   C   +60.6789 +14.3239 +12.6808   -0.3282   -0.0018 +0.0027 +0.0014\r\n",
      "T00 ERR ...   H   +61.0756 +13.9461 +10.6972   +0.0824   -0.0037 +0.0039 -0.0004\r\n",
      "T00 ERR ...   H   +61.0224 +16.3108 +13.0851   +0.0822   -0.0001 +0.0005 +0.0033\r\n",
      "T00 ERR ...   H   +58.7327 +13.8328 +13.0580   +0.0817   +0.0007 -0.0003 +0.0003\r\n",
      "T00 ERR ...   H   +61.9074 +13.1525 +13.8517   +0.0819   -0.0006 -0.0007 +0.0035\r\n",
      "T00 ERR ...   C   +68.7870 +4.1961 +17.9521   -0.3282   +0.0047 +0.0003 +0.0061\r\n",
      "T00 ERR ...   H   +68.2015 +2.4962 +18.9532   +0.0824   +0.0001 -0.0005 -0.0013\r\n",
      "T00 ERR ...   H   +67.2445 +4.8625 +16.7665   +0.0822   +0.0013 -0.0031 +0.0027\r\n",
      "T00 ERR ...   H   +70.4303 +3.7606 +16.7997   +0.0817   -0.0008 +0.0010 +0.0004\r\n",
      "T00 ERR ...   H   +69.2964 +5.6503 +19.3130   +0.0819   +0.0010 +0.0009 +0.0054\r\n",
      "T00 ERR ...   C   +54.0832 +4.4983 +27.1938   -0.3282   -0.0006 -0.0024 -0.0012\r\n",
      "T00 ERR ...   H   +53.5372 +6.4564 +27.5139   +0.0824   -0.0012 -0.0015 +0.0002\r\n",
      "T00 ERR ...   H   +52.9768 +3.2670 +28.4141   +0.0822   -0.0007 -0.0014 +0.0003\r\n",
      "T00 ERR ...   H   +53.7249 +4.0062 +25.2278   +0.0817   +0.0021 -0.0008 +0.0003\r\n",
      "T00 ERR ...   H   +56.0682 +4.2330 +27.6278   +0.0819   -0.0032 +0.0014 -0.0015\r\n",
      "T00 ERR ...   C   +63.8174 +6.3112 -1.0788   -0.3282   -0.0006 -0.0004 -0.0002\r\n",
      "T00 ERR ...   H   +65.2393 +6.4796 +0.3993   +0.0824   -0.0003 -0.0010 +0.0014\r\n",
      "T00 ERR ...   H   +62.4364 +4.8836 -0.5459   +0.0822   +0.0021 +0.0009 -0.0007\r\n",
      "T00 ERR ...   H   +64.7422 +5.7637 -2.8384   +0.0817   -0.0005 +0.0027 +0.0003\r\n",
      "T00 ERR ...   H   +62.8903 +8.1258 -1.3455   +0.0819   -0.0005 -0.0016 -0.0037\r\n",
      "T00 ERR ...   C   +64.1752 +19.2751 +7.8615   -0.3282   +0.0049 -0.0001 +0.0006\r\n",
      "T00 ERR ...   H   +62.9276 +19.0860 +6.2359   +0.0824   -0.0011 +0.0004 +0.0021\r\n",
      "T00 ERR ...   H   +63.4396 +18.1623 +9.4267   +0.0822   +0.0013 -0.0002 -0.0003\r\n",
      "T00 ERR ...   H   +66.0461 +18.6138 +7.3699   +0.0817   +0.0012 -0.0009 -0.0001\r\n",
      "T00 ERR ...   H   +64.2509 +21.2405 +8.4282   +0.0819   +0.0017 +0.0008 -0.0004\r\n",
      "T00 ERR ...   C   +61.3975 +17.7254 +18.4625   -0.3282   +0.0021 -0.0003 +0.0024\r\n",
      "T00 ERR ...   H   +60.9990 +19.0346 +16.9256   +0.0824   -0.0004 +0.0011 +0.0002\r\n",
      "T00 ERR ...   H   +61.0958 +18.6680 +20.2653   +0.0822   +0.0001 +0.0000 +0.0003\r\n",
      "T00 ERR ...   H   +60.1502 +16.1005 +18.3303   +0.0817   +0.0029 +0.0005 -0.0006\r\n",
      "T00 ERR ...   H   +63.3627 +17.1020 +18.3492   +0.0819   -0.0013 -0.0005 +0.0014\r\n",
      "T00 ERR ...               ... (1300 sites not displayed)\r\n"
     ]
    },
    {
     "name": "stdout",
     "output_type": "stream",
     "text": [
      "\r\n",
      "T00 ERR ... 2025-10-31 2:17:55 Filled DFT external multipole potential matrix\r\n",
      "T00 ERR ... 2025-10-31 2:17:55 Nuclei-external site interaction energy 0.0204347161\r\n",
      "T00 ERR ... 2025-10-31 2:17:55 Using hybrid functional with alpha=0.25"
     ]
    },
    {
     "name": "stdout",
     "output_type": "stream",
     "text": [
      "\r\n",
      "T00 ERR ... 2025-10-31 2:17:55 Setup numerical integration grid medium for vxc functional XC_HYB_GGA_XC_PBEH\r\n",
      "T00 ERR ... 2025-10-31 2:17:55 Setup Initial Guess using: atom\r\n",
      "T00 ERR ... 2025-10-31 2:17:55 Calculating atom density for C"
     ]
    },
    {
     "name": "stdout",
     "output_type": "stream",
     "text": [
      "\r\n",
      "T00 ERR ... 2025-10-31 2:17:56 Calculating atom density for H"
     ]
    },
    {
     "name": "stdout",
     "output_type": "stream",
     "text": [
      "\r\n",
      "T00 ERR ... 2025-10-31 2:17:56 STARTING SCF cycle\r\n",
      "T00 ERR ...  --------------------------------------------------------------------------\r\n",
      "T00 ERR ... \r\n",
      "T00 ERR ... 2025-10-31 2:17:56 Iteration 1 of 100"
     ]
    },
    {
     "name": "stdout",
     "output_type": "stream",
     "text": [
      "\r\n",
      "T00 ERR ... 2025-10-31 2:17:56 Total Energy -40.1458598207\r\n",
      "T00 ERR ... 2025-10-31 2:17:56 DIIs error 0.219656742681\r\n",
      "T00 ERR ... 2025-10-31 2:17:56 Delta Etot 0\r\n",
      "T00 ERR ... \r\n",
      "T00 ERR ... 2025-10-31 2:17:56 Iteration 2 of 100"
     ]
    },
    {
     "name": "stdout",
     "output_type": "stream",
     "text": [
      "\r\n",
      "T00 ERR ... 2025-10-31 2:17:56 Total Energy -40.18177831\r\n",
      "T00 ERR ... 2025-10-31 2:17:56 DIIs error 0.128764129509\r\n",
      "T00 ERR ... 2025-10-31 2:17:56 Delta Etot -0.0359184893321\r\n",
      "T00 ERR ... \r\n",
      "T00 ERR ... 2025-10-31 2:17:56 Iteration 3 of 100"
     ]
    },
    {
     "name": "stdout",
     "output_type": "stream",
     "text": [
      "\r\n",
      "T00 ERR ... 2025-10-31 2:17:56 Total Energy -40.1982525566\r\n",
      "T00 ERR ... 2025-10-31 2:17:56 DIIs error 0.0793380371981\r\n",
      "T00 ERR ... 2025-10-31 2:17:56 Delta Etot -0.0164742465679\r\n",
      "T00 ERR ... \r\n",
      "T00 ERR ... 2025-10-31 2:17:56 Iteration 4 of 100"
     ]
    },
    {
     "name": "stdout",
     "output_type": "stream",
     "text": [
      "\r\n",
      "T00 ERR ... 2025-10-31 2:17:56 Total Energy -40.2289133259\r\n",
      "T00 ERR ... 2025-10-31 2:17:56 DIIs error 0.0296216588801\r\n",
      "T00 ERR ... 2025-10-31 2:17:56 Delta Etot -0.0306607692472\r\n",
      "T00 ERR ... \r\n",
      "T00 ERR ... 2025-10-31 2:17:56 Iteration 5 of 100"
     ]
    },
    {
     "name": "stdout",
     "output_type": "stream",
     "text": [
      "\r\n",
      "T00 ERR ... 2025-10-31 2:17:56 Total Energy -40.2288054327\r\n",
      "T00 ERR ... 2025-10-31 2:17:56 DIIs error 0.0312016728405\r\n",
      "T00 ERR ... 2025-10-31 2:17:56 Delta Etot 0.000107893193814\r\n",
      "T00 ERR ... \r\n",
      "T00 ERR ... 2025-10-31 2:17:56 Iteration 6 of 100"
     ]
    },
    {
     "name": "stdout",
     "output_type": "stream",
     "text": [
      "\r\n",
      "T00 ERR ... 2025-10-31 2:17:56 Total Energy -40.2311567742\r\n",
      "T00 ERR ... 2025-10-31 2:17:56 DIIs error 0.000318998771095\r\n",
      "T00 ERR ... 2025-10-31 2:17:56 Delta Etot -0.00235134156114\r\n",
      "T00 ERR ... \r\n",
      "T00 ERR ... 2025-10-31 2:17:56 Iteration 7 of 100"
     ]
    },
    {
     "name": "stdout",
     "output_type": "stream",
     "text": [
      "\r\n",
      "T00 ERR ... 2025-10-31 2:17:56 Total Energy -40.2311570292\r\n",
      "T00 ERR ... 2025-10-31 2:17:56 DIIs error 2.051763695e-05\r\n",
      "T00 ERR ... 2025-10-31 2:17:56 Delta Etot -2.54942108313e-07\r\n",
      "T00 ERR ... \r\n",
      "T00 ERR ... 2025-10-31 2:17:56 Iteration 8 of 100"
     ]
    },
    {
     "name": "stdout",
     "output_type": "stream",
     "text": [
      "\r\n",
      "T00 ERR ... 2025-10-31 2:17:57 Total Energy -40.2311570294\r\n",
      "T00 ERR ... 2025-10-31 2:17:57 DIIs error 1.08288602232e-05\r\n",
      "T00 ERR ... 2025-10-31 2:17:57 Delta Etot -2.45663045462e-10\r\n",
      "T00 ERR ... \r\n",
      "T00 ERR ... 2025-10-31 2:17:57 Iteration 9 of 100"
     ]
    },
    {
     "name": "stdout",
     "output_type": "stream",
     "text": [
      "\r\n",
      "T00 ERR ... 2025-10-31 2:17:57 Total Energy -40.2311570298\r\n",
      "T00 ERR ... 2025-10-31 2:17:57 DIIs error 3.38123571297e-06\r\n",
      "T00 ERR ... 2025-10-31 2:17:57 Delta Etot -3.93654886466e-10\r\n",
      "T00 ERR ... \r\n",
      "T00 ERR ... 2025-10-31 2:17:57 Iteration 10 of 100"
     ]
    },
    {
     "name": "stdout",
     "output_type": "stream",
     "text": [
      "\r\n",
      "T00 ERR ... 2025-10-31 2:17:57 Total Energy -40.2311570298\r\n",
      "T00 ERR ... 2025-10-31 2:17:57 DIIs error 9.01558771683e-07\r\n",
      "T00 ERR ... 2025-10-31 2:17:57 Delta Etot -4.2263081923e-11\r\n",
      "T00 ERR ... \r\n",
      "T00 ERR ... 2025-10-31 2:17:57 Iteration 11 of 100"
     ]
    },
    {
     "name": "stdout",
     "output_type": "stream",
     "text": [
      "\r\n",
      "T00 ERR ... 2025-10-31 2:17:57 Total Energy -40.2311570298\r\n",
      "T00 ERR ... 2025-10-31 2:17:57 DIIs error 1.37146989063e-09\r\n",
      "T00 ERR ... 2025-10-31 2:17:57 Delta Etot -2.92743607133e-12\r\n",
      "T00 ERR ... 2025-10-31 2:17:57 Total Energy has converged to -2.92743607e-12[Ha] after 11 iterations. DIIS error is converged up to 1.37146989e-09\r\n",
      "T00 ERR ... 2025-10-31 2:17:57 Final Single Point Energy -40.2311570298 Ha\r\n",
      "T00 ERR ... 2025-10-31 2:17:57 Final Local Exc contribution -5.1842972773 Ha\r\n",
      "T00 ERR ... 2025-10-31 2:17:57 Final Non Local Ex contribution -1.63926650414 Ha\r\n",
      "T00 ERR ...   Orbital energies: \r\n",
      "T00 ERR ...   index occupation energy(Hartree) \r\n",
      "T00 ERR ...      0      2   -10.1479683078\r\n",
      "T00 ERR ...      1      2   -0.7122457873\r\n",
      "T00 ERR ...      2      2   -0.4029850496\r\n",
      "T00 ERR ...      3      2   -0.4014087419\r\n",
      "T00 ERR ...      4      2   -0.3991518757\r\n",
      "T00 ERR ...      5      0   +0.1607447802\r\n",
      "T00 ERR ...      6      0   +0.2031215119\r\n",
      "T00 ERR ...      7      0   +0.2079954255\r\n",
      "T00 ERR ...      8      0   +0.2102407617\r\n",
      "T00 ERR ...      9      0   +0.7240940803\r\n",
      "T00 ERR ...     10      0   +0.7253248672\r\n",
      "T00 ERR ...     11      0   +0.7278273562\r\n",
      "T00 ERR ...     12      0   +1.0556347026\r\n",
      "T00 ERR ...     13      0   +1.0854841421\r\n",
      "T00 ERR ...     14      0   +1.0902661920\r\n",
      "T00 ERR ...     15      0   +1.0920981492\r\n",
      "T00 ERR ...     16      0   +1.7120862101\r\n",
      "T00 ERR ... 2025-10-31 2:17:57 Electric Dipole is[e*bohr]:\r\n",
      "\t\t dx=0.0171961071929\r\n",
      "\t\t dy=0.0348517866194\r\n",
      "\t\t dz=-0.0139232613626\r\n",
      "T00 ERR ... Writing result to temp.orb\r\n",
      "T00 ERR ... 2025-10-31 2:17:57 DFT calculation took 1.653081933 seconds.\r\n",
      "T00 ERR ... 2025-10-31 2:17:57 RPA level range [0:16]\r\n",
      "T00 ERR ... 2025-10-31 2:17:57 GW  level range [0:16]\r\n",
      "T00 ERR ... 2025-10-31 2:17:57 BSE level range occ[0:4]  virt[5:16]\r\n",
      "T00 ERR ...  BSE type: full\r\n",
      "T00 ERR ... 2025-10-31 2:17:57 BSE Hamiltonian has size 120x120\r\n",
      "T00 ERR ...  BSE without Hqp offdiagonal elements\r\n",
      "T00 ERR ...  Running GW as: G0W0\r\n",
      "T00 ERR ...  qp_sc_limit [Hartree]: 1e-05\r\n",
      "T00 ERR ...  Tasks: \r\n",
      "T00 ERR ...  GW \r\n",
      "T00 ERR ...  singlets \r\n",
      "T00 ERR ...  triplets \r\n",
      "T00 ERR ...  Store: \r\n",
      "T00 ERR ...  GW \r\n",
      "T00 ERR ...  Sigma integration: ppm\r\n",
      "T00 ERR ...  eta: 0.001\r\n",
      "T00 ERR ...  QP solver: grid\r\n",
      "T00 ERR ...  QP grid steps: 1001\r\n",
      "T00 ERR ...  QP grid spacing: 0.001\r\n",
      "T00 ERR ... 2025-10-31 2:17:57 Using 2 threads\r\n",
      "T00 ERR ... 2025-10-31 2:17:57 Using native Eigen implementation, no BLAS overload \r\n",
      "T00 ERR ... 2025-10-31 2:17:57 Molecule Coordinates [A] \r\n",
      "T00 ERR ...     0    C   30.3000 1.2704 5.5205\r\n",
      "T00 ERR ...     1    H   31.2392 1.4802 6.0301\r\n",
      "T00 ERR ...     2    H   30.4910 0.6554 4.6433\r\n",
      "T00 ERR ...     3    H   29.8500 2.2100 5.2100\r\n",
      "T00 ERR ...     4    H   29.6200 0.7500 6.2000\r\n",
      "T00 ERR ... 2025-10-31 2:17:57 DFT data was created by xtp"
     ]
    },
    {
     "name": "stdout",
     "output_type": "stream",
     "text": [
      "\r\n",
      "T00 ERR ... 2025-10-31 2:17:57 Loaded DFT Basis Set 3-21G\r\n",
      "T00 ERR ... 2025-10-31 2:17:57 Filled DFT Basis of size 17\r\n",
      "T00 ERR ... 2025-10-31 2:17:57 Loaded Auxbasis Set aux-def2-svp\r\n",
      "T00 ERR ... 2025-10-31 2:17:57 Filled Auxbasis of size 104\r\n",
      "T00 ERR ... 2025-10-31 2:17:57 Calculating Mmn_beta (3-center-repulsion x orbitals)  \r\n",
      "T00 ERR ... 2025-10-31 2:17:57 Calculated Mmn_beta (3-center-repulsion x orbitals)  \r\n",
      "T00 ERR ... 2025-10-31 2:17:57 Integrating Vxc with functional XC_HYB_GGA_XC_PBEH"
     ]
    },
    {
     "name": "stdout",
     "output_type": "stream",
     "text": [
      "\r\n",
      "T00 ERR ... 2025-10-31 2:17:57 Set hybrid exchange factor: 0.25\r\n",
      "T00 ERR ... 2025-10-31 2:17:57 Calculated exchange-correlation expectation values \r\n",
      "T00 ERR ... 2025-10-31 2:17:57 Calculated Hartree exchange contribution\r\n",
      "T00 ERR ... 2025-10-31 2:17:57 Scissor shifting DFT energies by: 0 Hrt\r\n",
      "T00 ERR ...   ====== Perturbative quasiparticle energies (Hartree) ====== \r\n",
      "T00 ERR ...    DeltaHLGap = +0.215499 Hartree\r\n",
      "T00 ERR ...   Level =    0 DFT = -10.1480 VXC = -1.7031 S-X = -2.6689 S-C = +0.5631 GWA = -10.5506\r\n",
      "T00 ERR ...   Level =    1 DFT = -0.7122 VXC = -0.4404 S-X = -0.6606 S-C = +0.1083 GWA = -0.8241\r\n",
      "T00 ERR ...   Level =    2 DFT = -0.4030 VXC = -0.3959 S-X = -0.5286 S-C = +0.0324 GWA = -0.5033\r\n",
      "T00 ERR ...   Level =    3 DFT = -0.4014 VXC = -0.3967 S-X = -0.5297 S-C = +0.0328 GWA = -0.5016\r\n",
      "T00 ERR ...   HOMO  =    4 DFT = -0.3992 VXC = -0.3970 S-X = -0.5300 S-C = +0.0329 GWA = -0.4993\r\n",
      "T00 ERR ...   LUMO  =    5 DFT = +0.1607 VXC = -0.2417 S-X = -0.1017 S-C = -0.0246 GWA = +0.2761\r\n",
      "T00 ERR ...   Level =    6 DFT = +0.2031 VXC = -0.2616 S-X = -0.1101 S-C = -0.0238 GWA = +0.3309\r\n",
      "T00 ERR ...   Level =    7 DFT = +0.2080 VXC = -0.2612 S-X = -0.1097 S-C = -0.0239 GWA = +0.3356\r\n",
      "T00 ERR ...   Level =    8 DFT = +0.2102 VXC = -0.2613 S-X = -0.1098 S-C = -0.0238 GWA = +0.3379\r\n",
      "T00 ERR ...   Level =    9 DFT = +0.7241 VXC = -0.3183 S-X = -0.1082 S-C = -0.0635 GWA = +0.8706\r\n",
      "T00 ERR ...   Level =   10 DFT = +0.7253 VXC = -0.3181 S-X = -0.1079 S-C = -0.0638 GWA = +0.8718\r\n",
      "T00 ERR ...   Level =   11 DFT = +0.7278 VXC = -0.3177 S-X = -0.1073 S-C = -0.0643 GWA = +0.8739\r\n",
      "T00 ERR ...   Level =   12 DFT = +1.0556 VXC = -0.4047 S-X = -0.1334 S-C = -0.0323 GWA = +1.2946\r\n",
      "T00 ERR ...   Level =   13 DFT = +1.0855 VXC = -0.3963 S-X = -0.1274 S-C = -0.1739 GWA = +1.1805\r\n",
      "T00 ERR ...   Level =   14 DFT = +1.0903 VXC = -0.3954 S-X = -0.1271 S-C = -0.1730 GWA = +1.1856\r\n",
      "T00 ERR ...   Level =   15 DFT = +1.0921 VXC = -0.3947 S-X = -0.1268 S-C = -0.1727 GWA = +1.1872\r\n",
      "T00 ERR ...   Level =   16 DFT = +1.7121 VXC = -0.3559 S-X = -0.1045 S-C = -0.0297 GWA = +1.9338\r\n",
      "T00 ERR ... 2025-10-31 2:17:57 Calculated offdiagonal part of Sigma  \r\n",
      "T00 ERR ... 2025-10-31 2:17:57 Full quasiparticle Hamiltonian  \r\n",
      "T00 ERR ...   ====== Diagonalized quasiparticle energies (Hartree) ====== \r\n",
      "T00 ERR ...   Level =    0 PQP = -10.550618 DQP = -10.550803 \r\n",
      "T00 ERR ...   Level =    1 PQP = -0.824131 DQP = -0.824570 \r\n",
      "T00 ERR ...   Level =    2 PQP = -0.503274 DQP = -0.503545 \r\n",
      "T00 ERR ...   Level =    3 PQP = -0.501610 DQP = -0.501818 \r\n",
      "T00 ERR ...   HOMO  =    4 PQP = -0.499294 DQP = -0.499488 \r\n",
      "T00 ERR ...   LUMO  =    5 PQP = +0.276102 DQP = +0.267925 \r\n",
      "T00 ERR ...   Level =    6 PQP = +0.330897 DQP = +0.329042 \r\n",
      "T00 ERR ...   Level =    7 PQP = +0.335624 DQP = +0.334171 \r\n",
      "T00 ERR ...   Level =    8 PQP = +0.337875 DQP = +0.336444 \r\n",
      "T00 ERR ...   Level =    9 PQP = +0.870604 DQP = +0.868903 \r\n",
      "T00 ERR ...   Level =   10 PQP = +0.871759 DQP = +0.869877 \r\n",
      "T00 ERR ...   Level =   11 PQP = +0.873942 DQP = +0.871698 \r\n",
      "T00 ERR ...   Level =   12 PQP = +1.294628 DQP = +1.183351 \r\n",
      "T00 ERR ...   Level =   13 PQP = +1.180481 DQP = +1.189437 \r\n",
      "T00 ERR ...   Level =   14 PQP = +1.185570 DQP = +1.191547 \r\n",
      "T00 ERR ...   Level =   15 PQP = +1.187236 DQP = +1.289789 \r\n",
      "T00 ERR ...   Level =   16 PQP = +1.933779 DQP = +1.947610 \r\n",
      "T00 ERR ... 2025-10-31 2:17:57 Diagonalized QP Hamiltonian  \r\n",
      "T00 ERR ... 2025-10-31 2:17:57 GW calculation took 0.119966175 seconds.\r\n",
      "T00 ERR ... 2025-10-31 2:17:57 Setup Full triplet hamiltonian \r\n",
      "T00 ERR ... 2025-10-31 2:17:57 Davidson Solver using 2 threads.\r\n",
      "T00 ERR ... 2025-10-31 2:17:57 Tolerance : 0.0001\r\n",
      "T00 ERR ... 2025-10-31 2:17:57 DPR Correction\r\n",
      "T00 ERR ... 2025-10-31 2:17:57 Matrix size : 120x120\r\n",
      "T00 ERR ... 2025-10-31 2:17:57 iter\tSearch Space\tNorm\r\n",
      "T00 ERR ... 2025-10-31 2:17:57    0           20 \t 1.28e-01 \t  0.00% converged\r\n",
      "T00 ERR ... 2025-10-31 2:17:57    1           35 \t 1.42e-02 \t  0.00% converged\r\n",
      "T00 ERR ... 2025-10-31 2:17:57    2           50 \t 8.66e-04 \t 10.00% converged"
     ]
    },
    {
     "name": "stdout",
     "output_type": "stream",
     "text": [
      "\r\n",
      "T00 ERR ... 2025-10-31 2:17:57    3           62 \t 2.83e-05 \t 100.00% converged\r\n",
      "T00 ERR ... 2025-10-31 2:17:57 Davidson converged after 3 iterations.\r\n",
      "T00 ERR ... 2025-10-31 2:17:57-----------------------------------\r\n",
      "T00 ERR ... 2025-10-31 2:17:57- Davidson ran for 0.007618854secs.\r\n",
      "T00 ERR ... 2025-10-31 2:17:57-----------------------------------\r\n",
      "T00 ERR ... 2025-10-31 2:17:57 Solved BSE for triplets \r\n",
      "T00 ERR ...   ====== triplet energies (eV) ====== \r\n",
      "T00 ERR ...   T =    1 Omega = +11.596180714273 eV  lamdba = +106.93 nm <FT> = +22.8066 <K_d> = -11.2105\r\n",
      "T00 ERR ...    \r\n",
      "T00 ERR ...   T =    2 Omega = +11.766968309106 eV  lamdba = +105.38 nm <FT> = +22.9498 <K_d> = -11.1829\r\n",
      "T00 ERR ...    \r\n",
      "T00 ERR ...   T =    3 Omega = +11.821827371804 eV  lamdba = +104.89 nm <FT> = +22.4523 <K_d> = -10.6305\r\n",
      "T00 ERR ...    \r\n",
      "T00 ERR ...   T =    4 Omega = +11.875782489340 eV  lamdba = +104.41 nm <FT> = +22.4654 <K_d> = -10.5896\r\n",
      "T00 ERR ...    \r\n",
      "T00 ERR ...   T =    5 Omega = +13.661363821590 eV  lamdba = +90.77 nm <FT> = +22.2495 <K_d> = -8.5881\r\n",
      "T00 ERR ...    \r\n",
      "T00 ERR ...   T =    6 Omega = +13.756438943439 eV  lamdba = +90.14 nm <FT> = +22.2986 <K_d> = -8.5421\r\n",
      "T00 ERR ...    \r\n",
      "T00 ERR ...   T =    7 Omega = +13.938198533387 eV  lamdba = +88.96 nm <FT> = +22.3920 <K_d> = -8.4538\r\n",
      "T00 ERR ...    \r\n",
      "T00 ERR ...   T =    8 Omega = +14.131910036874 eV  lamdba = +87.74 nm <FT> = +22.7348 <K_d> = -8.6029\r\n",
      "T00 ERR ...            HOMO-0   -> LUMO+1    : 72.2%\r\n",
      "T00 ERR ...    \r\n",
      "T00 ERR ...   T =    9 Omega = +14.224640554346 eV  lamdba = +87.17 nm <FT> = +22.8414 <K_d> = -8.6168\r\n",
      "T00 ERR ...    \r\n",
      "T00 ERR ...   T =   10 Omega = +14.370760772516 eV  lamdba = +86.29 nm <FT> = +22.8625 <K_d> = -8.4918\r\n",
      "T00 ERR ...            HOMO-2   -> LUMO+2    : 59.8%\r\n",
      "T00 ERR ...    \r\n",
      "T00 ERR ... 2025-10-31 2:17:57 Setup Full singlet hamiltonian \r\n",
      "T00 ERR ... 2025-10-31 2:17:57 Davidson Solver using 2 threads.\r\n",
      "T00 ERR ... 2025-10-31 2:17:57 Tolerance : 0.0001\r\n",
      "T00 ERR ... 2025-10-31 2:17:57 DPR Correction\r\n",
      "T00 ERR ... 2025-10-31 2:17:57 Matrix size : 120x120\r\n",
      "T00 ERR ... 2025-10-31 2:17:57 iter\tSearch Space\tNorm\r\n",
      "T00 ERR ... 2025-10-31 2:17:57    0           20 \t 1.28e-01 \t  0.00% converged\r\n",
      "T00 ERR ... 2025-10-31 2:17:57    1           35 \t 1.29e-02 \t  0.00% converged\r\n",
      "T00 ERR ... 2025-10-31 2:17:57    2           50 \t 9.32e-04 \t 40.00% converged\r\n",
      "T00 ERR ... 2025-10-31 2:17:57    3           61 \t 3.36e-05 \t 100.00% converged\r\n",
      "T00 ERR ... 2025-10-31 2:17:57 Davidson converged after 3 iterations.\r\n",
      "T00 ERR ... 2025-10-31 2:17:57-----------------------------------\r\n",
      "T00 ERR ... 2025-10-31 2:17:57- Davidson ran for 0.009155898secs.\r\n",
      "T00 ERR ... 2025-10-31 2:17:57-----------------------------------\r\n",
      "T00 ERR ... 2025-10-31 2:17:57 Solved BSE for singlets \r\n",
      "T00 ERR ...   ====== singlet energies (eV) ====== \r\n",
      "T00 ERR ...   S =    1 Omega = +13.841018751960 eV  lamdba = +89.59 nm <FT> = +21.2211 <K_x> = +0.9816 <K_d> = -8.3617\r\n",
      "T00 ERR ...            TrDipole length gauge[e*bohr]  dx = -0.5271 dy = +0.4204 dz = -0.3380 |d|^2 = +0.5689 f = +0.1929\r\n",
      "T00 ERR ...            HOMO-0   -> LUMO+0    : 98.7%\r\n",
      "T00 ERR ... \r\n",
      "T00 ERR ...   S =    2 Omega = +13.902573923807 eV  lamdba = +89.19 nm <FT> = +21.2948 <K_x> = +1.0336 <K_d> = -8.4258\r\n",
      "T00 ERR ...            TrDipole length gauge[e*bohr]  dx = +0.2054 dy = +0.6244 dz = +0.4756 |d|^2 = +0.6583 f = +0.2242\r\n",
      "T00 ERR ...            HOMO-1   -> LUMO+0    : 97.0%\r\n",
      "T00 ERR ... \r\n",
      "T00 ERR ...   S =    3 Omega = +13.964478239554 eV  lamdba = +88.80 nm <FT> = +21.3551 <K_x> = +1.1809 <K_d> = -8.5715\r\n",
      "T00 ERR ...            TrDipole length gauge[e*bohr]  dx = +0.6221 dy = +0.3073 dz = -0.6422 |d|^2 = +0.8938 f = +0.3058\r\n",
      "T00 ERR ...            HOMO-2   -> LUMO+0    : 97.5%\r\n",
      "T00 ERR ... \r\n",
      "T00 ERR ...   S =    4 Omega = +14.553151723768 eV  lamdba = +85.20 nm <FT> = +22.7212 <K_x> = +0.3347 <K_d> = -8.5027\r\n",
      "T00 ERR ...            TrDipole length gauge[e*bohr]  dx = +0.1671 dy = -0.0651 dz = +0.0373 |d|^2 = +0.0336 f = +0.0120\r\n",
      "T00 ERR ...            HOMO-0   -> LUMO+1    : 76.2%\r\n",
      "T00 ERR ... \r\n",
      "T00 ERR ...   S =    5 Omega = +14.601354343648 eV  lamdba = +84.92 nm <FT> = +22.7856 <K_x> = +0.3181 <K_d> = -8.5023\r\n",
      "T00 ERR ...            TrDipole length gauge[e*bohr]  dx = +0.0476 dy = -0.1230 dz = -0.2068 |d|^2 = +0.0602 f = +0.0215\r\n",
      "T00 ERR ...            HOMO-1   -> LUMO+1    : 59.6%\r\n",
      "T00 ERR ... \r\n",
      "T00 ERR ...   S =    6 Omega = +14.635546274389 eV  lamdba = +84.73 nm <FT> = +22.8459 <K_x> = +0.2781 <K_d> = -8.4884\r\n",
      "T00 ERR ...            TrDipole length gauge[e*bohr]  dx = -0.1179 dy = +0.0200 dz = -0.0860 |d|^2 = +0.0217 f = +0.0078\r\n",
      "T00 ERR ...            HOMO-0   -> LUMO+2    : 56.0%\r\n",
      "T00 ERR ... \r\n",
      "T00 ERR ...   S =    7 Omega = +14.989501459373 eV  lamdba = +82.72 nm <FT> = +22.8533 <K_x> = +0.7066 <K_d> = -8.5704\r\n",
      "T00 ERR ...            TrDipole length gauge[e*bohr]  dx = +0.0544 dy = +0.0836 dz = +0.0645 |d|^2 = +0.0141 f = +0.0052\r\n",
      "T00 ERR ... \r\n",
      "T00 ERR ...   S =    8 Omega = +15.012626209271 eV  lamdba = +82.60 nm <FT> = +22.9031 <K_x> = +0.6695 <K_d> = -8.5599\r\n",
      "T00 ERR ...            TrDipole length gauge[e*bohr]  dx = +0.0235 dy = +0.0453 dz = -0.0331 |d|^2 = +0.0037 f = +0.0014\r\n",
      "T00 ERR ...            HOMO-2   -> LUMO+3    : 69.1%\r\n",
      "T00 ERR ... \r\n",
      "T00 ERR ...   S =    9 Omega = +15.999483394104 eV  lamdba = +77.50 nm <FT> = +23.1699 <K_x> = +2.1930 <K_d> = -9.3634\r\n",
      "T00 ERR ...            TrDipole length gauge[e*bohr]  dx = +0.9040 dy = +0.8756 dz = -0.5764 |d|^2 = +1.9162 f = +0.7511\r\n",
      "T00 ERR ...            HOMO-2   -> LUMO+1    : 59.7%\r\n",
      "T00 ERR ... \r\n",
      "T00 ERR ...   S =   10 Omega = +16.031470675681 eV  lamdba = +77.35 nm <FT> = +23.2242 <K_x> = +2.2784 <K_d> = -9.4711\r\n",
      "T00 ERR ...            TrDipole length gauge[e*bohr]  dx = +0.4228 dy = -1.0702 dz = -0.8490 |d|^2 = +2.0448 f = +0.8031\r\n",
      "T00 ERR ... \r\n",
      "T00 ERR ... 2025-10-31 2:17:57 BSE calculation took 0.019442779 seconds.\r\n",
      "T00 ERR ... 2025-10-31 2:17:57 GWBSE calculation finished \r\n",
      "T00 ERR ... Next State is: s1\r\n",
      "T00 ERR ... 2025-10-31 2:17:57 Evaluating polarregion 1\r\n",
      "T00 ERR ... 2025-10-31 2:17:57 Evaluating interaction between polarregion 1 and qmregion 0\r\n",
      "T00 ERR ... Next State is: s1"
     ]
    },
    {
     "name": "stdout",
     "output_type": "stream",
     "text": [
      "\r\n",
      "T00 ERR ... 2025-10-31 2:17:57 Evaluating interaction between polarregion 1 and staticregion 2\r\n",
      "T00 ERR ... 2025-10-31 2:17:57 Starting Solving for classical polarization with 1380 degrees of freedom."
     ]
    },
    {
     "name": "stdout",
     "output_type": "stream",
     "text": [
      "\r\n",
      "T00 ERR ... 2025-10-31 2:17:57 CG: #iterations: 5, estimated error: 1.82320981154e-05\r\n",
      "T00 ERR ...   Total static energy [hrt]= 0.0009102654542\r\n",
      "T00 ERR ...   Total polar energy [hrt]= 0.0007586913404\r\n",
      "T00 ERR ...  Total energy [hrt]= 0.001668956795\r\n",
      "T00 ERR ... 2025-10-31 2:17:57 Evaluating staticregion 2\r\n",
      "T00 ERR ... 2025-10-31 2:17:57 Writing checkpoint to checkpoint_iter_4.hdf5"
     ]
    },
    {
     "name": "stdout",
     "output_type": "stream",
     "text": [
      "\r\n",
      "T00 ERR ...  Region:qmregion 0 is not converged deltaE=0.0001281011347 RMS Dmat=0.006202998419 MaxDmat=0.03552164256\r\n",
      "T00 ERR ... 2025-10-31 2:17:57 Region:polarregion 1 is not converged deltaE=6.72138932e-05\r\n",
      "T00 ERR ... 2025-10-31 2:17:57 --Total Energy all regions -39.72084001\r\n",
      "T00 ERR ... 2025-10-31 2:17:57 --Inter Region SCF Iteration 5 of 50\r\n",
      "T00 ERR ... 2025-10-31 2:17:57 Evaluating qmregion 0\r\n",
      "T00 ERR ... 2025-10-31 2:17:57 Evaluating interaction between qmregion 0 and polarregion 1\r\n",
      "T00 ERR ... 2025-10-31 2:17:57 Evaluating interaction between qmregion 0 and staticregion 2\r\n",
      "T00 ERR ... Running DFT calculation\r\n",
      "T00 ERR ... 2025-10-31 2:17:57 Using 2 threads\r\n",
      "T00 ERR ... 2025-10-31 2:17:57 Using native Eigen implementation, no BLAS overload \r\n",
      "T00 ERR ...  Molecule Coordinates [A] \r\n",
      "T00 ERR ...   C   +30.3000 +1.2704 +5.5205\r\n",
      "T00 ERR ...   H   +31.2392 +1.4802 +6.0301\r\n",
      "T00 ERR ...   H   +30.4910 +0.6554 +4.6433\r\n",
      "T00 ERR ...   H   +29.8500 +2.2100 +5.2100\r\n",
      "T00 ERR ...   H   +29.6200 +0.7500 +6.2000\r\n",
      "T00 ERR ... 2025-10-31 2:17:57 Loaded DFT Basis Set 3-21G with 17 functions\r\n",
      "T00 ERR ... 2025-10-31 2:17:57 Loaded AUX Basis Set aux-def2-svp with 104 functions\r\n",
      "T00 ERR ... 2025-10-31 2:17:57 Total number of electrons: 10\r\n",
      "T00 ERR ... 2025-10-31 2:17:57 Smallest value of AOOverlap matrix is 0.03364074275\r\n",
      "T00 ERR ... 2025-10-31 2:17:57 Removed 0 basisfunction from inverse overlap matrix\r\n",
      "T00 ERR ... 2025-10-31 2:17:57 Convergence Options:\r\n",
      "T00 ERR ... \t\t Delta E [Ha]: 1e-07\r\n",
      "T00 ERR ... \t\t DIIS max error: 1e-07\r\n",
      "T00 ERR ... \t\t DIIS histlength: 20\r\n",
      "T00 ERR ... \t\t ADIIS start: 0.8\r\n",
      "T00 ERR ... \t\t DIIS start: 0.002\r\n",
      "T00 ERR ... \t\t Deleting oldest element from DIIS hist\r\n",
      "T00 ERR ... \t\t Levelshift[Ha]: 0\r\n",
      "T00 ERR ... \t\t Levelshift end: 0.2\r\n",
      "T00 ERR ... \t\t Mixing Parameter alpha: 0.7\r\n",
      "T00 ERR ... 2025-10-31 2:17:57 Setup invariant parts of Electron Repulsion integrals \r\n",
      "T00 ERR ... 2025-10-31 2:17:57 Constructed independent particle hamiltonian \r\n",
      "T00 ERR ... 2025-10-31 2:17:57 Nuclear Repulsion Energy is 13.4434088\r\n",
      "T00 ERR ... 2025-10-31 2:17:57 1350 External sites\r\n",
      "T00 ERR ...  Name      Coordinates[a0]     charge[e]         dipole[e*a0]    \r\n",
      "T00 ERR ...   C   +63.8902 +7.9543 +11.0171   -0.3282   +0.0087 +0.0007 -0.0060\r\n",
      "T00 ERR ...   H   +62.3892 +6.5470 +10.9796   +0.0824   +0.0091 +0.0023 +0.0000\r\n",
      "T00 ERR ...   H   +65.3194 +7.4736 +9.6186   +0.0822   +0.0037 -0.0009 -0.0023\r\n",
      "T00 ERR ...   H   +63.1170 +9.8077 +10.6203   +0.0817   +0.0015 +0.0012 +0.0010\r\n",
      "T00 ERR ...   H   +64.7422 +7.9557 +12.9068   +0.0819   +0.0042 +0.0032 -0.0008\r\n",
      "T00 ERR ...   C   +63.9128 -0.3996 +22.8673   -0.3282   -0.0028 +0.0015 +0.0051\r\n",
      "T00 ERR ...   H   +63.0449 -1.1731 +21.1692   +0.0824   -0.0001 -0.0006 +0.0014\r\n",
      "T00 ERR ...   H   +62.7676 +1.1530 +23.5795   +0.0822   -0.0015 +0.0049 +0.0022\r\n",
      "T00 ERR ...   H   +64.0430 -1.8922 +24.2830   +0.0817   +0.0010 -0.0003 -0.0009\r\n",
      "T00 ERR ...   H   +65.8004 +0.2810 +22.4122   +0.0819   -0.0036 -0.0009 +0.0016\r\n",
      "T00 ERR ...   C   +61.7182 -0.4374 -3.3115   -0.3282   -0.0001 -0.0018 +0.0010\r\n",
      "T00 ERR ...   H   +60.6600 -1.0798 -4.9554   +0.0824   +0.0011 +0.0014 +0.0013\r\n",
      "T00 ERR ...   H   +63.3309 +0.6815 -3.9252   +0.0822   -0.0013 -0.0019 -0.0005\r\n",
      "T00 ERR ...   H   +62.3800 -2.0623 -2.2148   +0.0817   +0.0010 -0.0019 +0.0013\r\n",
      "T00 ERR ...   H   +60.5092 +0.7345 -2.1392   +0.0819   -0.0026 -0.0035 -0.0018\r\n",
      "T00 ERR ...   C   +62.0402 +12.7739 +4.5175   -0.3282   +0.0027 +0.0004 +0.0017\r\n",
      "T00 ERR ...   H   +60.1049 +13.3052 +4.0622   +0.0824   +0.0002 -0.0013 -0.0010\r\n",
      "T00 ERR ...   H   +62.0812 +11.8167 +6.3372   +0.0822   +0.0006 -0.0022 -0.0015\r\n",
      "T00 ERR ...   H   +63.2115 +14.4753 +4.6109   +0.0817   +0.0028 +0.0022 +0.0014\r\n",
      "T00 ERR ...   H   +62.7769 +11.5084 +3.0803   +0.0819   -0.0002 -0.0010 +0.0006\r\n",
      "T00 ERR ...   C   +60.6789 +14.3239 +12.6808   -0.3282   -0.0019 +0.0028 +0.0015\r\n",
      "T00 ERR ...   H   +61.0756 +13.9461 +10.6972   +0.0824   -0.0037 +0.0039 -0.0004\r\n",
      "T00 ERR ...   H   +61.0224 +16.3108 +13.0851   +0.0822   -0.0001 +0.0006 +0.0033\r\n",
      "T00 ERR ...   H   +58.7327 +13.8328 +13.0580   +0.0817   +0.0007 -0.0002 +0.0003\r\n",
      "T00 ERR ...   H   +61.9074 +13.1525 +13.8517   +0.0819   -0.0006 -0.0006 +0.0035\r\n",
      "T00 ERR ...   C   +68.7870 +4.1961 +17.9521   -0.3282   +0.0048 +0.0003 +0.0062\r\n",
      "T00 ERR ...   H   +68.2015 +2.4962 +18.9532   +0.0824   +0.0001 -0.0005 -0.0013\r\n",
      "T00 ERR ...   H   +67.2445 +4.8625 +16.7665   +0.0822   +0.0014 -0.0031 +0.0028\r\n",
      "T00 ERR ...   H   +70.4303 +3.7606 +16.7997   +0.0817   -0.0007 +0.0010 +0.0004\r\n",
      "T00 ERR ...   H   +69.2964 +5.6503 +19.3130   +0.0819   +0.0010 +0.0009 +0.0055\r\n",
      "T00 ERR ...   C   +54.0832 +4.4983 +27.1938   -0.3282   -0.0006 -0.0025 -0.0012\r\n",
      "T00 ERR ...   H   +53.5372 +6.4564 +27.5139   +0.0824   -0.0012 -0.0015 +0.0002\r\n",
      "T00 ERR ...   H   +52.9768 +3.2670 +28.4141   +0.0822   -0.0007 -0.0015 +0.0003\r\n",
      "T00 ERR ...   H   +53.7249 +4.0062 +25.2278   +0.0817   +0.0021 -0.0008 +0.0002\r\n",
      "T00 ERR ...   H   +56.0682 +4.2330 +27.6278   +0.0819   -0.0032 +0.0014 -0.0015\r\n",
      "T00 ERR ...   C   +63.8174 +6.3112 -1.0788   -0.3282   -0.0007 -0.0004 -0.0003\r\n",
      "T00 ERR ...   H   +65.2393 +6.4796 +0.3993   +0.0824   -0.0003 -0.0010 +0.0014\r\n",
      "T00 ERR ...   H   +62.4364 +4.8836 -0.5459   +0.0822   +0.0021 +0.0009 -0.0007\r\n",
      "T00 ERR ...   H   +64.7422 +5.7637 -2.8384   +0.0817   -0.0005 +0.0027 +0.0002\r\n",
      "T00 ERR ...   H   +62.8903 +8.1258 -1.3455   +0.0819   -0.0005 -0.0016 -0.0037\r\n",
      "T00 ERR ...   C   +64.1752 +19.2751 +7.8615   -0.3282   +0.0049 -0.0001 +0.0006\r\n",
      "T00 ERR ...   H   +62.9276 +19.0860 +6.2359   +0.0824   -0.0011 +0.0004 +0.0021\r\n",
      "T00 ERR ...   H   +63.4396 +18.1623 +9.4267   +0.0822   +0.0013 -0.0002 -0.0003\r\n",
      "T00 ERR ...   H   +66.0461 +18.6138 +7.3699   +0.0817   +0.0012 -0.0009 -0.0001\r\n",
      "T00 ERR ...   H   +64.2509 +21.2405 +8.4282   +0.0819   +0.0017 +0.0008 -0.0004\r\n",
      "T00 ERR ...   C   +61.3975 +17.7254 +18.4625   -0.3282   +0.0021 -0.0003 +0.0025\r\n",
      "T00 ERR ...   H   +60.9990 +19.0346 +16.9256   +0.0824   -0.0004 +0.0011 +0.0002\r\n",
      "T00 ERR ...   H   +61.0958 +18.6680 +20.2653   +0.0822   +0.0001 +0.0000 +0.0003\r\n",
      "T00 ERR ...   H   +60.1502 +16.1005 +18.3303   +0.0817   +0.0028 +0.0005 -0.0006\r\n",
      "T00 ERR ...   H   +63.3627 +17.1020 +18.3492   +0.0819   -0.0014 -0.0005 +0.0014\r\n",
      "T00 ERR ...               ... (1300 sites not displayed)\r\n"
     ]
    },
    {
     "name": "stdout",
     "output_type": "stream",
     "text": [
      "\r\n",
      "T00 ERR ... 2025-10-31 2:17:57 Filled DFT external multipole potential matrix\r\n",
      "T00 ERR ... 2025-10-31 2:17:57 Nuclei-external site interaction energy 0.0204347161\r\n",
      "T00 ERR ... 2025-10-31 2:17:57 Using hybrid functional with alpha=0.25"
     ]
    },
    {
     "name": "stdout",
     "output_type": "stream",
     "text": [
      "\r\n",
      "T00 ERR ... 2025-10-31 2:17:57 Setup numerical integration grid medium for vxc functional XC_HYB_GGA_XC_PBEH\r\n",
      "T00 ERR ... 2025-10-31 2:17:57 Setup Initial Guess using: atom\r\n",
      "T00 ERR ... 2025-10-31 2:17:57 Calculating atom density for C"
     ]
    },
    {
     "name": "stdout",
     "output_type": "stream",
     "text": [
      "\r\n",
      "T00 ERR ... 2025-10-31 2:17:58 Calculating atom density for H"
     ]
    },
    {
     "name": "stdout",
     "output_type": "stream",
     "text": [
      "\r\n",
      "T00 ERR ... 2025-10-31 2:17:58 STARTING SCF cycle\r\n",
      "T00 ERR ...  --------------------------------------------------------------------------\r\n",
      "T00 ERR ... \r\n",
      "T00 ERR ... 2025-10-31 2:17:58 Iteration 1 of 100"
     ]
    },
    {
     "name": "stdout",
     "output_type": "stream",
     "text": [
      "\r\n",
      "T00 ERR ... 2025-10-31 2:17:58 Total Energy -40.1457508062\r\n",
      "T00 ERR ... 2025-10-31 2:17:58 DIIs error 0.219656634866\r\n",
      "T00 ERR ... 2025-10-31 2:17:58 Delta Etot 0\r\n",
      "T00 ERR ... \r\n",
      "T00 ERR ... 2025-10-31 2:17:58 Iteration 2 of 100"
     ]
    },
    {
     "name": "stdout",
     "output_type": "stream",
     "text": [
      "\r\n",
      "T00 ERR ... 2025-10-31 2:17:58 Total Energy -40.1816692356\r\n",
      "T00 ERR ... 2025-10-31 2:17:58 DIIs error 0.128764122054\r\n",
      "T00 ERR ... 2025-10-31 2:17:58 Delta Etot -0.0359184293978\r\n",
      "T00 ERR ... \r\n",
      "T00 ERR ... 2025-10-31 2:17:58 Iteration 3 of 100"
     ]
    },
    {
     "name": "stdout",
     "output_type": "stream",
     "text": [
      "\r\n",
      "T00 ERR ... 2025-10-31 2:17:58 Total Energy -40.1981434648\r\n",
      "T00 ERR ... 2025-10-31 2:17:58 DIIs error 0.0793380500478\r\n",
      "T00 ERR ... 2025-10-31 2:17:58 Delta Etot -0.016474229221\r\n",
      "T00 ERR ... \r\n",
      "T00 ERR ... 2025-10-31 2:17:58 Iteration 4 of 100"
     ]
    },
    {
     "name": "stdout",
     "output_type": "stream",
     "text": [
      "\r\n",
      "T00 ERR ... 2025-10-31 2:17:58 Total Energy -40.2288041953\r\n",
      "T00 ERR ... 2025-10-31 2:17:58 DIIs error 0.0296202360613\r\n",
      "T00 ERR ... 2025-10-31 2:17:58 Delta Etot -0.0306607304652\r\n",
      "T00 ERR ... \r\n",
      "T00 ERR ... 2025-10-31 2:17:58 Iteration 5 of 100"
     ]
    },
    {
     "name": "stdout",
     "output_type": "stream",
     "text": [
      "\r\n",
      "T00 ERR ... 2025-10-31 2:17:58 Total Energy -40.2286963076\r\n",
      "T00 ERR ... 2025-10-31 2:17:58 DIIs error 0.0312002643586\r\n",
      "T00 ERR ... 2025-10-31 2:17:58 Delta Etot 0.000107887676059\r\n",
      "T00 ERR ... \r\n",
      "T00 ERR ... 2025-10-31 2:17:58 Iteration 6 of 100"
     ]
    },
    {
     "name": "stdout",
     "output_type": "stream",
     "text": [
      "\r\n",
      "T00 ERR ... 2025-10-31 2:17:59 Total Energy -40.2310476427\r\n",
      "T00 ERR ... 2025-10-31 2:17:59 DIIs error 0.000318973655776\r\n",
      "T00 ERR ... 2025-10-31 2:17:59 Delta Etot -0.00235133507852\r\n",
      "T00 ERR ... \r\n",
      "T00 ERR ... 2025-10-31 2:17:59 Iteration 7 of 100"
     ]
    },
    {
     "name": "stdout",
     "output_type": "stream",
     "text": [
      "\r\n",
      "T00 ERR ... 2025-10-31 2:17:59 Total Energy -40.2310478976\r\n",
      "T00 ERR ... 2025-10-31 2:17:59 DIIs error 2.04716167137e-05\r\n",
      "T00 ERR ... 2025-10-31 2:17:59 Delta Etot -2.54919775955e-07\r\n",
      "T00 ERR ... \r\n",
      "T00 ERR ... 2025-10-31 2:17:59 Iteration 8 of 100"
     ]
    },
    {
     "name": "stdout",
     "output_type": "stream",
     "text": [
      "\r\n",
      "T00 ERR ... 2025-10-31 2:17:59 Total Energy -40.2310478978\r\n",
      "T00 ERR ... 2025-10-31 2:17:59 DIIs error 1.08244856046e-05\r\n",
      "T00 ERR ... 2025-10-31 2:17:59 Delta Etot -2.44327225118e-10\r\n",
      "T00 ERR ... \r\n",
      "T00 ERR ... 2025-10-31 2:17:59 Iteration 9 of 100"
     ]
    },
    {
     "name": "stdout",
     "output_type": "stream",
     "text": [
      "\r\n",
      "T00 ERR ... 2025-10-31 2:17:59 Total Energy -40.2310478982\r\n",
      "T00 ERR ... 2025-10-31 2:17:59 DIIs error 3.44413809856e-06\r\n",
      "T00 ERR ... 2025-10-31 2:17:59 Delta Etot -3.90997456634e-10\r\n",
      "T00 ERR ... \r\n",
      "T00 ERR ... 2025-10-31 2:17:59 Iteration 10 of 100"
     ]
    },
    {
     "name": "stdout",
     "output_type": "stream",
     "text": [
      "\r\n",
      "T00 ERR ... 2025-10-31 2:17:59 Total Energy -40.2310478983\r\n",
      "T00 ERR ... 2025-10-31 2:17:59 DIIs error 9.06044452615e-07\r\n",
      "T00 ERR ... 2025-10-31 2:17:59 Delta Etot -4.38973302153e-11\r\n",
      "T00 ERR ... \r\n",
      "T00 ERR ... 2025-10-31 2:17:59 Iteration 11 of 100"
     ]
    },
    {
     "name": "stdout",
     "output_type": "stream",
     "text": [
      "\r\n",
      "T00 ERR ... 2025-10-31 2:17:59 Total Energy -40.2310478983\r\n",
      "T00 ERR ... 2025-10-31 2:17:59 DIIs error 1.36761794115e-09\r\n",
      "T00 ERR ... 2025-10-31 2:17:59 Delta Etot -3.04112290905e-12\r\n",
      "T00 ERR ... 2025-10-31 2:17:59 Total Energy has converged to -3.04112291e-12[Ha] after 11 iterations. DIIS error is converged up to 1.36761794e-09\r\n",
      "T00 ERR ... 2025-10-31 2:17:59 Final Single Point Energy -40.2310478983 Ha\r\n",
      "T00 ERR ... 2025-10-31 2:17:59 Final Local Exc contribution -5.18429688777 Ha\r\n",
      "T00 ERR ... 2025-10-31 2:17:59 Final Non Local Ex contribution -1.6392663765 Ha\r\n",
      "T00 ERR ...   Orbital energies: \r\n",
      "T00 ERR ...   index occupation energy(Hartree) \r\n",
      "T00 ERR ...      0      2   -10.1479575567\r\n",
      "T00 ERR ...      1      2   -0.7122353480\r\n",
      "T00 ERR ...      2      2   -0.4030088375\r\n",
      "T00 ERR ...      3      2   -0.4013781356\r\n",
      "T00 ERR ...      4      2   -0.3991267560\r\n",
      "T00 ERR ...      5      0   +0.1607370632\r\n",
      "T00 ERR ...      6      0   +0.2030612448\r\n",
      "T00 ERR ...      7      0   +0.2080811868\r\n",
      "T00 ERR ...      8      0   +0.2102718390\r\n",
      "T00 ERR ...      9      0   +0.7241052732\r\n",
      "T00 ERR ...     10      0   +0.7253266612\r\n",
      "T00 ERR ...     11      0   +0.7278456000\r\n",
      "T00 ERR ...     12      0   +1.0556289979\r\n",
      "T00 ERR ...     13      0   +1.0854379896\r\n",
      "T00 ERR ...     14      0   +1.0903483338\r\n",
      "T00 ERR ...     15      0   +1.0921146081\r\n",
      "T00 ERR ...     16      0   +1.7120980743\r\n",
      "T00 ERR ... 2025-10-31 2:17:59 Electric Dipole is[e*bohr]:\r\n",
      "\t\t dx=0.0183319173689\r\n",
      "\t\t dy=0.0351817247358\r\n",
      "\t\t dz=-0.0141306305268\r\n",
      "T00 ERR ... Writing result to temp.orb\r\n",
      "T00 ERR ... 2025-10-31 2:17:59 DFT calculation took 1.635365892 seconds.\r\n",
      "T00 ERR ... 2025-10-31 2:17:59 RPA level range [0:16]\r\n",
      "T00 ERR ... 2025-10-31 2:17:59 GW  level range [0:16]\r\n",
      "T00 ERR ... 2025-10-31 2:17:59 BSE level range occ[0:4]  virt[5:16]\r\n",
      "T00 ERR ...  BSE type: full\r\n",
      "T00 ERR ... 2025-10-31 2:17:59 BSE Hamiltonian has size 120x120\r\n",
      "T00 ERR ...  BSE without Hqp offdiagonal elements\r\n",
      "T00 ERR ...  Running GW as: G0W0\r\n",
      "T00 ERR ...  qp_sc_limit [Hartree]: 1e-05\r\n",
      "T00 ERR ...  Tasks: \r\n",
      "T00 ERR ...  GW \r\n",
      "T00 ERR ...  singlets \r\n",
      "T00 ERR ...  triplets \r\n",
      "T00 ERR ...  Store: \r\n",
      "T00 ERR ...  GW \r\n",
      "T00 ERR ...  Sigma integration: ppm\r\n",
      "T00 ERR ...  eta: 0.001\r\n",
      "T00 ERR ...  QP solver: grid\r\n",
      "T00 ERR ...  QP grid steps: 1001\r\n",
      "T00 ERR ...  QP grid spacing: 0.001\r\n",
      "T00 ERR ... 2025-10-31 2:17:59 Using 2 threads\r\n",
      "T00 ERR ... 2025-10-31 2:17:59 Using native Eigen implementation, no BLAS overload \r\n",
      "T00 ERR ... 2025-10-31 2:17:59 Molecule Coordinates [A] \r\n",
      "T00 ERR ...     0    C   30.3000 1.2704 5.5205\r\n",
      "T00 ERR ...     1    H   31.2392 1.4802 6.0301\r\n",
      "T00 ERR ...     2    H   30.4910 0.6554 4.6433\r\n",
      "T00 ERR ...     3    H   29.8500 2.2100 5.2100\r\n",
      "T00 ERR ...     4    H   29.6200 0.7500 6.2000\r\n",
      "T00 ERR ... 2025-10-31 2:17:59 DFT data was created by xtp\r\n",
      "T00 ERR ... 2025-10-31 2:17:59 Loaded DFT Basis Set 3-21G\r\n",
      "T00 ERR ... 2025-10-31 2:17:59 Filled DFT Basis of size 17\r\n",
      "T00 ERR ... 2025-10-31 2:17:59 Loaded Auxbasis Set aux-def2-svp\r\n",
      "T00 ERR ... 2025-10-31 2:17:59 Filled Auxbasis of size 104\r\n",
      "T00 ERR ... 2025-10-31 2:17:59 Calculating Mmn_beta (3-center-repulsion x orbitals)  "
     ]
    },
    {
     "name": "stdout",
     "output_type": "stream",
     "text": [
      "\r\n",
      "T00 ERR ... 2025-10-31 2:17:59 Calculated Mmn_beta (3-center-repulsion x orbitals)  \r\n",
      "T00 ERR ... 2025-10-31 2:17:59 Integrating Vxc with functional XC_HYB_GGA_XC_PBEH"
     ]
    },
    {
     "name": "stdout",
     "output_type": "stream",
     "text": [
      "\r\n",
      "T00 ERR ... 2025-10-31 2:17:59 Set hybrid exchange factor: 0.25\r\n",
      "T00 ERR ... 2025-10-31 2:17:59 Calculated exchange-correlation expectation values \r\n",
      "T00 ERR ... 2025-10-31 2:17:59 Calculated Hartree exchange contribution\r\n",
      "T00 ERR ... 2025-10-31 2:17:59 Scissor shifting DFT energies by: 0 Hrt"
     ]
    },
    {
     "name": "stdout",
     "output_type": "stream",
     "text": [
      "\r\n",
      "T00 ERR ...   ====== Perturbative quasiparticle energies (Hartree) ====== \r\n",
      "T00 ERR ...    DeltaHLGap = +0.215507 Hartree\r\n",
      "T00 ERR ...   Level =    0 DFT = -10.1480 VXC = -1.7031 S-X = -2.6689 S-C = +0.5631 GWA = -10.5506\r\n",
      "T00 ERR ...   Level =    1 DFT = -0.7122 VXC = -0.4404 S-X = -0.6606 S-C = +0.1083 GWA = -0.8241\r\n",
      "T00 ERR ...   Level =    2 DFT = -0.4030 VXC = -0.3959 S-X = -0.5286 S-C = +0.0324 GWA = -0.5033\r\n",
      "T00 ERR ...   Level =    3 DFT = -0.4014 VXC = -0.3967 S-X = -0.5297 S-C = +0.0328 GWA = -0.5016\r\n",
      "T00 ERR ...   HOMO  =    4 DFT = -0.3991 VXC = -0.3970 S-X = -0.5300 S-C = +0.0329 GWA = -0.4993\r\n",
      "T00 ERR ...   LUMO  =    5 DFT = +0.1607 VXC = -0.2417 S-X = -0.1018 S-C = -0.0246 GWA = +0.2761\r\n",
      "T00 ERR ...   Level =    6 DFT = +0.2031 VXC = -0.2616 S-X = -0.1101 S-C = -0.0238 GWA = +0.3308\r\n",
      "T00 ERR ...   Level =    7 DFT = +0.2081 VXC = -0.2612 S-X = -0.1097 S-C = -0.0239 GWA = +0.3357\r\n",
      "T00 ERR ...   Level =    8 DFT = +0.2103 VXC = -0.2613 S-X = -0.1098 S-C = -0.0238 GWA = +0.3379\r\n",
      "T00 ERR ...   Level =    9 DFT = +0.7241 VXC = -0.3183 S-X = -0.1082 S-C = -0.0635 GWA = +0.8706\r\n",
      "T00 ERR ...   Level =   10 DFT = +0.7253 VXC = -0.3182 S-X = -0.1079 S-C = -0.0638 GWA = +0.8718\r\n",
      "T00 ERR ...   Level =   11 DFT = +0.7278 VXC = -0.3177 S-X = -0.1073 S-C = -0.0643 GWA = +0.8740\r\n",
      "T00 ERR ...   Level =   12 DFT = +1.0556 VXC = -0.4047 S-X = -0.1334 S-C = -0.0323 GWA = +1.2946\r\n",
      "T00 ERR ...   Level =   13 DFT = +1.0854 VXC = -0.3963 S-X = -0.1274 S-C = -0.1739 GWA = +1.1804\r\n",
      "T00 ERR ...   Level =   14 DFT = +1.0903 VXC = -0.3953 S-X = -0.1271 S-C = -0.1730 GWA = +1.1857\r\n",
      "T00 ERR ...   Level =   15 DFT = +1.0921 VXC = -0.3947 S-X = -0.1268 S-C = -0.1727 GWA = +1.1873\r\n",
      "T00 ERR ...   Level =   16 DFT = +1.7121 VXC = -0.3559 S-X = -0.1045 S-C = -0.0297 GWA = +1.9338\r\n",
      "T00 ERR ... 2025-10-31 2:17:59 Calculated offdiagonal part of Sigma  \r\n",
      "T00 ERR ... 2025-10-31 2:17:59 Full quasiparticle Hamiltonian  \r\n",
      "T00 ERR ...   ====== Diagonalized quasiparticle energies (Hartree) ====== \r\n",
      "T00 ERR ...   Level =    0 PQP = -10.550607 DQP = -10.550793 \r\n",
      "T00 ERR ...   Level =    1 PQP = -0.824121 DQP = -0.824562 \r\n",
      "T00 ERR ...   Level =    2 PQP = -0.503299 DQP = -0.503573 \r\n",
      "T00 ERR ...   Level =    3 PQP = -0.501578 DQP = -0.501785 \r\n",
      "T00 ERR ...   HOMO  =    4 PQP = -0.499269 DQP = -0.499461 \r\n",
      "T00 ERR ...   LUMO  =    5 PQP = +0.276103 DQP = +0.267915 \r\n",
      "T00 ERR ...   Level =    6 PQP = +0.330833 DQP = +0.328960 \r\n",
      "T00 ERR ...   Level =    7 PQP = +0.335702 DQP = +0.334262 \r\n",
      "T00 ERR ...   Level =    8 PQP = +0.337909 DQP = +0.336490 \r\n",
      "T00 ERR ...   Level =    9 PQP = +0.870614 DQP = +0.868923 \r\n",
      "T00 ERR ...   Level =   10 PQP = +0.871769 DQP = +0.869897 \r\n",
      "T00 ERR ...   Level =   11 PQP = +0.873954 DQP = +0.871694 \r\n",
      "T00 ERR ...   Level =   12 PQP = +1.294606 DQP = +1.183252 \r\n",
      "T00 ERR ...   Level =   13 PQP = +1.180381 DQP = +1.189536 \r\n",
      "T00 ERR ...   Level =   14 PQP = +1.185652 DQP = +1.191529 \r\n",
      "T00 ERR ...   Level =   15 PQP = +1.187269 DQP = +1.289803 \r\n",
      "T00 ERR ...   Level =   16 PQP = +1.933784 DQP = +1.947615 \r\n",
      "T00 ERR ... 2025-10-31 2:17:59 Diagonalized QP Hamiltonian  \r\n",
      "T00 ERR ... 2025-10-31 2:17:59 GW calculation took 0.118295601 seconds.\r\n",
      "T00 ERR ... 2025-10-31 2:17:59 Setup Full triplet hamiltonian \r\n",
      "T00 ERR ... 2025-10-31 2:17:59 Davidson Solver using 2 threads.\r\n",
      "T00 ERR ... 2025-10-31 2:17:59 Tolerance : 0.0001\r\n",
      "T00 ERR ... 2025-10-31 2:17:59 DPR Correction\r\n",
      "T00 ERR ... 2025-10-31 2:17:59 Matrix size : 120x120\r\n",
      "T00 ERR ... 2025-10-31 2:17:59 iter\tSearch Space\tNorm\r\n",
      "T00 ERR ... 2025-10-31 2:17:59    0           20 \t 1.28e-01 \t  0.00% converged\r\n",
      "T00 ERR ... 2025-10-31 2:17:59    1           35 \t 1.42e-02 \t  0.00% converged\r\n",
      "T00 ERR ... 2025-10-31 2:17:59    2           50 \t 8.62e-04 \t 10.00% converged\r\n",
      "T00 ERR ... 2025-10-31 2:17:59    3           62 \t 2.82e-05 \t 100.00% converged\r\n",
      "T00 ERR ... 2025-10-31 2:17:59 Davidson converged after 3 iterations.\r\n",
      "T00 ERR ... 2025-10-31 2:17:59-----------------------------------\r\n",
      "T00 ERR ... 2025-10-31 2:17:59- Davidson ran for 0.007161008secs.\r\n",
      "T00 ERR ... 2025-10-31 2:17:59-----------------------------------\r\n",
      "T00 ERR ... 2025-10-31 2:17:59 Solved BSE for triplets \r\n",
      "T00 ERR ...   ====== triplet energies (eV) ====== \r\n",
      "T00 ERR ...   T =    1 Omega = +11.593064717771 eV  lamdba = +106.96 nm <FT> = +22.7976 <K_d> = -11.2046\r\n",
      "T00 ERR ...    \r\n",
      "T00 ERR ...   T =    2 Omega = +11.767679643104 eV  lamdba = +105.37 nm <FT> = +22.9495 <K_d> = -11.1819\r\n",
      "T00 ERR ...    \r\n",
      "T00 ERR ...   T =    3 Omega = +11.824595608941 eV  lamdba = +104.87 nm <FT> = +22.4687 <K_d> = -10.6441\r\n",
      "T00 ERR ...    \r\n",
      "T00 ERR ...   T =    4 Omega = +11.875650160849 eV  lamdba = +104.42 nm <FT> = +22.4582 <K_d> = -10.5826\r\n",
      "T00 ERR ...    \r\n",
      "T00 ERR ...   T =    5 Omega = +13.658721174993 eV  lamdba = +90.78 nm <FT> = +22.2481 <K_d> = -8.5894\r\n",
      "T00 ERR ...    \r\n",
      "T00 ERR ...   T =    6 Omega = +13.753158477045 eV  lamdba = +90.16 nm <FT> = +22.2968 <K_d> = -8.5437\r\n",
      "T00 ERR ...    \r\n",
      "T00 ERR ...   T =    7 Omega = +13.940927567418 eV  lamdba = +88.95 nm <FT> = +22.3937 <K_d> = -8.4528\r\n",
      "T00 ERR ...    \r\n",
      "T00 ERR ...   T =    8 Omega = +14.130538416848 eV  lamdba = +87.75 nm <FT> = +22.7328 <K_d> = -8.6022\r\n",
      "T00 ERR ...            HOMO-0   -> LUMO+1    : 72.1%\r\n",
      "T00 ERR ...    \r\n",
      "T00 ERR ...   T =    9 Omega = +14.225578813988 eV  lamdba = +87.17 nm <FT> = +22.8416 <K_d> = -8.6161\r\n",
      "T00 ERR ...    \r\n",
      "T00 ERR ...   T =   10 Omega = +14.372864641932 eV  lamdba = +86.27 nm <FT> = +22.8643 <K_d> = -8.4915\r\n",
      "T00 ERR ...            HOMO-2   -> LUMO+2    : 58.2%\r\n",
      "T00 ERR ...    \r\n",
      "T00 ERR ... 2025-10-31 2:17:59 Setup Full singlet hamiltonian \r\n",
      "T00 ERR ... 2025-10-31 2:17:59 Davidson Solver using 2 threads.\r\n",
      "T00 ERR ... 2025-10-31 2:17:59 Tolerance : 0.0001\r\n",
      "T00 ERR ... 2025-10-31 2:17:59 DPR Correction\r\n",
      "T00 ERR ... 2025-10-31 2:17:59 Matrix size : 120x120\r\n",
      "T00 ERR ... 2025-10-31 2:17:59 iter\tSearch Space\tNorm\r\n",
      "T00 ERR ... 2025-10-31 2:17:59    0           20 \t 1.28e-01 \t  0.00% converged\r\n",
      "T00 ERR ... 2025-10-31 2:17:59    1           35 \t 1.29e-02 \t  0.00% converged\r\n",
      "T00 ERR ... 2025-10-31 2:17:59    2           50 \t 9.32e-04 \t 40.00% converged\r\n",
      "T00 ERR ... 2025-10-31 2:17:59    3           61 \t 3.37e-05 \t 100.00% converged\r\n",
      "T00 ERR ... 2025-10-31 2:17:59 Davidson converged after 3 iterations.\r\n",
      "T00 ERR ... 2025-10-31 2:17:59-----------------------------------\r\n",
      "T00 ERR ... 2025-10-31 2:17:59- Davidson ran for 0.007823396secs.\r\n",
      "T00 ERR ... 2025-10-31 2:17:59-----------------------------------\r\n",
      "T00 ERR ... 2025-10-31 2:17:59 Solved BSE for singlets \r\n",
      "T00 ERR ...   ====== singlet energies (eV) ====== \r\n",
      "T00 ERR ...   S =    1 Omega = +13.839645778683 eV  lamdba = +89.60 nm <FT> = +21.2209 <K_x> = +0.9794 <K_d> = -8.3606\r\n",
      "T00 ERR ...            TrDipole length gauge[e*bohr]  dx = -0.5288 dy = +0.4144 dz = -0.3387 |d|^2 = +0.5660 f = +0.1919\r\n",
      "T00 ERR ...            HOMO-0   -> LUMO+0    : 98.7%\r\n",
      "T00 ERR ... \r\n",
      "T00 ERR ...   S =    2 Omega = +13.901164503557 eV  lamdba = +89.20 nm <FT> = +21.2944 <K_x> = +1.0310 <K_d> = -8.4241\r\n",
      "T00 ERR ...            TrDipole length gauge[e*bohr]  dx = -0.1972 dy = -0.6250 dz = -0.4744 |d|^2 = +0.6546 f = +0.2229\r\n",
      "T00 ERR ...            HOMO-1   -> LUMO+0    : 97.0%\r\n",
      "T00 ERR ... \r\n",
      "T00 ERR ...   S =    3 Omega = +13.965434297610 eV  lamdba = +88.79 nm <FT> = +21.3564 <K_x> = +1.1836 <K_d> = -8.5745\r\n",
      "T00 ERR ...            TrDipole length gauge[e*bohr]  dx = -0.6223 dy = -0.3136 dz = +0.6422 |d|^2 = +0.8979 f = +0.3072\r\n",
      "T00 ERR ...            HOMO-2   -> LUMO+0    : 97.5%\r\n",
      "T00 ERR ... \r\n",
      "T00 ERR ...   S =    4 Omega = +14.551993469611 eV  lamdba = +85.21 nm <FT> = +22.7184 <K_x> = +0.3369 <K_d> = -8.5033\r\n",
      "T00 ERR ...            TrDipole length gauge[e*bohr]  dx = +0.1689 dy = -0.0678 dz = +0.0409 |d|^2 = +0.0348 f = +0.0124\r\n",
      "T00 ERR ...            HOMO-0   -> LUMO+1    : 76.7%\r\n",
      "T00 ERR ... \r\n",
      "T00 ERR ...   S =    5 Omega = +14.601240001637 eV  lamdba = +84.92 nm <FT> = +22.7837 <K_x> = +0.3209 <K_d> = -8.5034\r\n",
      "T00 ERR ...            TrDipole length gauge[e*bohr]  dx = -0.0470 dy = +0.1265 dz = +0.2119 |d|^2 = +0.0631 f = +0.0226\r\n",
      "T00 ERR ...            HOMO-1   -> LUMO+1    : 60.1%\r\n",
      "T00 ERR ... \r\n",
      "T00 ERR ...   S =    6 Omega = +14.636602211579 eV  lamdba = +84.72 nm <FT> = +22.8470 <K_x> = +0.2780 <K_d> = -8.4884\r\n",
      "T00 ERR ...            TrDipole length gauge[e*bohr]  dx = +0.1196 dy = -0.0241 dz = +0.0843 |d|^2 = +0.0220 f = +0.0079\r\n",
      "T00 ERR ...            HOMO-0   -> LUMO+2    : 55.8%\r\n",
      "T00 ERR ... \r\n",
      "T00 ERR ...   S =    7 Omega = +14.990202851428 eV  lamdba = +82.72 nm <FT> = +22.8539 <K_x> = +0.7066 <K_d> = -8.5703\r\n",
      "T00 ERR ...            TrDipole length gauge[e*bohr]  dx = +0.0544 dy = +0.0860 dz = +0.0619 |d|^2 = +0.0142 f = +0.0052\r\n",
      "T00 ERR ... \r\n",
      "T00 ERR ...   S =    8 Omega = +15.013857674061 eV  lamdba = +82.59 nm <FT> = +22.9052 <K_x> = +0.6681 <K_d> = -8.5594\r\n",
      "T00 ERR ...            TrDipole length gauge[e*bohr]  dx = +0.0207 dy = +0.0445 dz = -0.0319 |d|^2 = +0.0034 f = +0.0013\r\n",
      "T00 ERR ...            HOMO-2   -> LUMO+3    : 69.9%\r\n",
      "T00 ERR ... \r\n",
      "T00 ERR ...   S =    9 Omega = +15.999217943462 eV  lamdba = +77.50 nm <FT> = +23.1691 <K_x> = +2.1906 <K_d> = -9.3604\r\n",
      "T00 ERR ...            TrDipole length gauge[e*bohr]  dx = +0.8987 dy = +0.8751 dz = -0.5822 |d|^2 = +1.9125 f = +0.7497\r\n",
      "T00 ERR ...            HOMO-2   -> LUMO+1    : 60.1%\r\n",
      "T00 ERR ... \r\n",
      "T00 ERR ...   S =   10 Omega = +16.031660197440 eV  lamdba = +77.35 nm <FT> = +23.2247 <K_x> = +2.2789 <K_d> = -9.4719\r\n",
      "T00 ERR ...            TrDipole length gauge[e*bohr]  dx = +0.4300 dy = -1.0756 dz = -0.8389 |d|^2 = +2.0455 f = +0.8034\r\n",
      "T00 ERR ... \r\n",
      "T00 ERR ... 2025-10-31 2:17:59 BSE calculation took 0.017457618 seconds.\r\n",
      "T00 ERR ... 2025-10-31 2:17:59 GWBSE calculation finished \r\n",
      "T00 ERR ... Next State is: s1\r\n",
      "T00 ERR ... 2025-10-31 2:17:59 Evaluating polarregion 1\r\n",
      "T00 ERR ... 2025-10-31 2:17:59 Evaluating interaction between polarregion 1 and qmregion 0"
     ]
    },
    {
     "name": "stdout",
     "output_type": "stream",
     "text": [
      "\r\n",
      "T00 ERR ... Next State is: s1"
     ]
    },
    {
     "name": "stdout",
     "output_type": "stream",
     "text": [
      "\r\n",
      "T00 ERR ... 2025-10-31 2:17:59 Evaluating interaction between polarregion 1 and staticregion 2\r\n",
      "T00 ERR ... 2025-10-31 2:17:59 Starting Solving for classical polarization with 1380 degrees of freedom.\r\n",
      "T00 ERR ... 2025-10-31 2:17:59 CG: #iterations: 4, estimated error: 2.79197056184e-05\r\n",
      "T00 ERR ...   Total static energy [hrt]= 0.0009102654542\r\n",
      "T00 ERR ...   Total polar energy [hrt]= 0.0007888332959\r\n",
      "T00 ERR ...  Total energy [hrt]= 0.00169909875\r\n",
      "T00 ERR ... 2025-10-31 2:17:59 Evaluating staticregion 2\r\n",
      "T00 ERR ... 2025-10-31 2:17:59 Writing checkpoint to checkpoint_iter_5.hdf5"
     ]
    },
    {
     "name": "stdout",
     "output_type": "stream",
     "text": [
      "\r\n",
      "T00 ERR ...  Region:qmregion 0 is not converged deltaE=5.867575391e-05 RMS Dmat=0.002859480376 MaxDmat=0.01648145294\r\n",
      "T00 ERR ... 2025-10-31 2:17:59 Region:polarregion 1 is converged deltaE=3.014195544e-05\r\n",
      "T00 ERR ... 2025-10-31 2:17:59 --Total Energy all regions -39.72075119\r\n",
      "T00 ERR ... 2025-10-31 2:17:59 --Inter Region SCF Iteration 6 of 50\r\n",
      "T00 ERR ... 2025-10-31 2:17:59 Evaluating qmregion 0\r\n",
      "T00 ERR ... 2025-10-31 2:17:59 Evaluating interaction between qmregion 0 and polarregion 1\r\n",
      "T00 ERR ... 2025-10-31 2:17:59 Evaluating interaction between qmregion 0 and staticregion 2\r\n",
      "T00 ERR ... Running DFT calculation\r\n",
      "T00 ERR ... 2025-10-31 2:17:59 Using 2 threads\r\n",
      "T00 ERR ... 2025-10-31 2:17:59 Using native Eigen implementation, no BLAS overload \r\n",
      "T00 ERR ...  Molecule Coordinates [A] \r\n",
      "T00 ERR ...   C   +30.3000 +1.2704 +5.5205\r\n",
      "T00 ERR ...   H   +31.2392 +1.4802 +6.0301\r\n",
      "T00 ERR ...   H   +30.4910 +0.6554 +4.6433\r\n",
      "T00 ERR ...   H   +29.8500 +2.2100 +5.2100\r\n",
      "T00 ERR ...   H   +29.6200 +0.7500 +6.2000\r\n",
      "T00 ERR ... 2025-10-31 2:17:59 Loaded DFT Basis Set 3-21G with 17 functions\r\n",
      "T00 ERR ... 2025-10-31 2:17:59 Loaded AUX Basis Set aux-def2-svp with 104 functions\r\n",
      "T00 ERR ... 2025-10-31 2:17:59 Total number of electrons: 10\r\n",
      "T00 ERR ... 2025-10-31 2:17:59 Smallest value of AOOverlap matrix is 0.03364074275\r\n",
      "T00 ERR ... 2025-10-31 2:17:59 Removed 0 basisfunction from inverse overlap matrix\r\n",
      "T00 ERR ... 2025-10-31 2:17:59 Convergence Options:\r\n",
      "T00 ERR ... \t\t Delta E [Ha]: 1e-07\r\n",
      "T00 ERR ... \t\t DIIS max error: 1e-07\r\n",
      "T00 ERR ... \t\t DIIS histlength: 20\r\n",
      "T00 ERR ... \t\t ADIIS start: 0.8\r\n",
      "T00 ERR ... \t\t DIIS start: 0.002\r\n",
      "T00 ERR ... \t\t Deleting oldest element from DIIS hist\r\n",
      "T00 ERR ... \t\t Levelshift[Ha]: 0\r\n",
      "T00 ERR ... \t\t Levelshift end: 0.2\r\n",
      "T00 ERR ... \t\t Mixing Parameter alpha: 0.7"
     ]
    },
    {
     "name": "stdout",
     "output_type": "stream",
     "text": [
      "\r\n",
      "T00 ERR ... 2025-10-31 2:17:59 Setup invariant parts of Electron Repulsion integrals \r\n",
      "T00 ERR ... 2025-10-31 2:18:0 Constructed independent particle hamiltonian \r\n",
      "T00 ERR ... 2025-10-31 2:18:0 Nuclear Repulsion Energy is 13.4434088\r\n",
      "T00 ERR ... 2025-10-31 2:18:0 1350 External sites\r\n",
      "T00 ERR ...  Name      Coordinates[a0]     charge[e]         dipole[e*a0]    \r\n",
      "T00 ERR ...   C   +63.8902 +7.9543 +11.0171   -0.3282   +0.0088 +0.0009 -0.0060\r\n",
      "T00 ERR ...   H   +62.3892 +6.5470 +10.9796   +0.0824   +0.0093 +0.0026 -0.0000\r\n",
      "T00 ERR ...   H   +65.3194 +7.4736 +9.6186   +0.0822   +0.0038 -0.0009 -0.0023\r\n",
      "T00 ERR ...   H   +63.1170 +9.8077 +10.6203   +0.0817   +0.0015 +0.0013 +0.0010\r\n",
      "T00 ERR ...   H   +64.7422 +7.9557 +12.9068   +0.0819   +0.0043 +0.0033 -0.0007\r\n",
      "T00 ERR ...   C   +63.9128 -0.3996 +22.8673   -0.3282   -0.0029 +0.0015 +0.0051\r\n",
      "T00 ERR ...   H   +63.0449 -1.1731 +21.1692   +0.0824   -0.0001 -0.0006 +0.0015\r\n",
      "T00 ERR ...   H   +62.7676 +1.1530 +23.5795   +0.0822   -0.0015 +0.0049 +0.0022\r\n",
      "T00 ERR ...   H   +64.0430 -1.8922 +24.2830   +0.0817   +0.0010 -0.0003 -0.0009\r\n",
      "T00 ERR ...   H   +65.8004 +0.2810 +22.4122   +0.0819   -0.0036 -0.0009 +0.0017\r\n",
      "T00 ERR ...   C   +61.7182 -0.4374 -3.3115   -0.3282   -0.0001 -0.0018 +0.0010\r\n",
      "T00 ERR ...   H   +60.6600 -1.0798 -4.9554   +0.0824   +0.0011 +0.0014 +0.0012\r\n",
      "T00 ERR ...   H   +63.3309 +0.6815 -3.9252   +0.0822   -0.0014 -0.0019 -0.0005\r\n",
      "T00 ERR ...   H   +62.3800 -2.0623 -2.2148   +0.0817   +0.0010 -0.0019 +0.0013\r\n",
      "T00 ERR ...   H   +60.5092 +0.7345 -2.1392   +0.0819   -0.0027 -0.0035 -0.0018\r\n",
      "T00 ERR ...   C   +62.0402 +12.7739 +4.5175   -0.3282   +0.0027 +0.0004 +0.0017\r\n",
      "T00 ERR ...   H   +60.1049 +13.3052 +4.0622   +0.0824   +0.0002 -0.0013 -0.0010\r\n",
      "T00 ERR ...   H   +62.0812 +11.8167 +6.3372   +0.0822   +0.0006 -0.0022 -0.0015\r\n",
      "T00 ERR ...   H   +63.2115 +14.4753 +4.6109   +0.0817   +0.0028 +0.0022 +0.0014\r\n",
      "T00 ERR ...   H   +62.7769 +11.5084 +3.0803   +0.0819   -0.0003 -0.0009 +0.0006\r\n",
      "T00 ERR ...   C   +60.6789 +14.3239 +12.6808   -0.3282   -0.0019 +0.0028 +0.0015\r\n",
      "T00 ERR ...   H   +61.0756 +13.9461 +10.6972   +0.0824   -0.0038 +0.0039 -0.0004\r\n",
      "T00 ERR ...   H   +61.0224 +16.3108 +13.0851   +0.0822   -0.0001 +0.0006 +0.0033\r\n",
      "T00 ERR ...   H   +58.7327 +13.8328 +13.0580   +0.0817   +0.0007 -0.0002 +0.0003\r\n",
      "T00 ERR ...   H   +61.9074 +13.1525 +13.8517   +0.0819   -0.0006 -0.0006 +0.0035\r\n",
      "T00 ERR ...   C   +68.7870 +4.1961 +17.9521   -0.3282   +0.0048 +0.0003 +0.0062\r\n",
      "T00 ERR ...   H   +68.2015 +2.4962 +18.9532   +0.0824   +0.0001 -0.0005 -0.0013\r\n",
      "T00 ERR ...   H   +67.2445 +4.8625 +16.7665   +0.0822   +0.0014 -0.0030 +0.0028\r\n",
      "T00 ERR ...   H   +70.4303 +3.7606 +16.7997   +0.0817   -0.0007 +0.0010 +0.0004\r\n",
      "T00 ERR ...   H   +69.2964 +5.6503 +19.3130   +0.0819   +0.0010 +0.0009 +0.0055\r\n",
      "T00 ERR ...   C   +54.0832 +4.4983 +27.1938   -0.3282   -0.0006 -0.0025 -0.0012\r\n",
      "T00 ERR ...   H   +53.5372 +6.4564 +27.5139   +0.0824   -0.0012 -0.0015 +0.0002\r\n",
      "T00 ERR ...   H   +52.9768 +3.2670 +28.4141   +0.0822   -0.0007 -0.0015 +0.0003\r\n",
      "T00 ERR ...   H   +53.7249 +4.0062 +25.2278   +0.0817   +0.0021 -0.0009 +0.0002\r\n",
      "T00 ERR ...   H   +56.0682 +4.2330 +27.6278   +0.0819   -0.0032 +0.0014 -0.0015\r\n",
      "T00 ERR ...   C   +63.8174 +6.3112 -1.0788   -0.3282   -0.0007 -0.0004 -0.0003\r\n",
      "T00 ERR ...   H   +65.2393 +6.4796 +0.3993   +0.0824   -0.0003 -0.0010 +0.0014\r\n",
      "T00 ERR ...   H   +62.4364 +4.8836 -0.5459   +0.0822   +0.0021 +0.0009 -0.0007\r\n",
      "T00 ERR ...   H   +64.7422 +5.7637 -2.8384   +0.0817   -0.0005 +0.0027 +0.0002\r\n",
      "T00 ERR ...   H   +62.8903 +8.1258 -1.3455   +0.0819   -0.0006 -0.0016 -0.0037\r\n",
      "T00 ERR ...   C   +64.1752 +19.2751 +7.8615   -0.3282   +0.0049 -0.0001 +0.0006\r\n",
      "T00 ERR ...   H   +62.9276 +19.0860 +6.2359   +0.0824   -0.0011 +0.0004 +0.0021\r\n",
      "T00 ERR ...   H   +63.4396 +18.1623 +9.4267   +0.0822   +0.0013 -0.0002 -0.0003\r\n",
      "T00 ERR ...   H   +66.0461 +18.6138 +7.3699   +0.0817   +0.0012 -0.0009 -0.0001\r\n",
      "T00 ERR ...   H   +64.2509 +21.2405 +8.4282   +0.0819   +0.0017 +0.0008 -0.0004\r\n",
      "T00 ERR ...   C   +61.3975 +17.7254 +18.4625   -0.3282   +0.0021 -0.0003 +0.0025\r\n",
      "T00 ERR ...   H   +60.9990 +19.0346 +16.9256   +0.0824   -0.0004 +0.0012 +0.0002\r\n",
      "T00 ERR ...   H   +61.0958 +18.6680 +20.2653   +0.0822   +0.0001 +0.0000 +0.0003\r\n",
      "T00 ERR ...   H   +60.1502 +16.1005 +18.3303   +0.0817   +0.0028 +0.0005 -0.0006\r\n",
      "T00 ERR ...   H   +63.3627 +17.1020 +18.3492   +0.0819   -0.0014 -0.0005 +0.0014\r\n",
      "T00 ERR ...               ... (1300 sites not displayed)\r\n"
     ]
    },
    {
     "name": "stdout",
     "output_type": "stream",
     "text": [
      "\r\n",
      "T00 ERR ... 2025-10-31 2:18:0 Filled DFT external multipole potential matrix\r\n",
      "T00 ERR ... 2025-10-31 2:18:0 Nuclei-external site interaction energy 0.0204347161\r\n",
      "T00 ERR ... 2025-10-31 2:18:0 Using hybrid functional with alpha=0.25\r\n",
      "T00 ERR ... 2025-10-31 2:18:0 Setup numerical integration grid medium for vxc functional XC_HYB_GGA_XC_PBEH\r\n",
      "T00 ERR ... 2025-10-31 2:18:0 Setup Initial Guess using: atom\r\n",
      "T00 ERR ... 2025-10-31 2:18:0 Calculating atom density for C"
     ]
    },
    {
     "name": "stdout",
     "output_type": "stream",
     "text": [
      "\r\n",
      "T00 ERR ... 2025-10-31 2:18:0 Calculating atom density for H"
     ]
    },
    {
     "name": "stdout",
     "output_type": "stream",
     "text": [
      "\r\n",
      "T00 ERR ... 2025-10-31 2:18:0 STARTING SCF cycle\r\n",
      "T00 ERR ...  --------------------------------------------------------------------------\r\n",
      "T00 ERR ... \r\n",
      "T00 ERR ... 2025-10-31 2:18:0 Iteration 1 of 100"
     ]
    },
    {
     "name": "stdout",
     "output_type": "stream",
     "text": [
      "\r\n",
      "T00 ERR ... 2025-10-31 2:18:0 Total Energy -40.1456999885\r\n",
      "T00 ERR ... 2025-10-31 2:18:0 DIIs error 0.219656595376\r\n",
      "T00 ERR ... 2025-10-31 2:18:0 Delta Etot 0\r\n",
      "T00 ERR ... \r\n",
      "T00 ERR ... 2025-10-31 2:18:0 Iteration 2 of 100"
     ]
    },
    {
     "name": "stdout",
     "output_type": "stream",
     "text": [
      "\r\n",
      "T00 ERR ... 2025-10-31 2:18:0 Total Energy -40.1816183995\r\n",
      "T00 ERR ... 2025-10-31 2:18:0 DIIs error 0.128764123013\r\n",
      "T00 ERR ... 2025-10-31 2:18:0 Delta Etot -0.035918410996\r\n",
      "T00 ERR ... \r\n",
      "T00 ERR ... 2025-10-31 2:18:0 Iteration 3 of 100"
     ]
    },
    {
     "name": "stdout",
     "output_type": "stream",
     "text": [
      "\r\n",
      "T00 ERR ... 2025-10-31 2:18:1 Total Energy -40.1980926253\r\n",
      "T00 ERR ... 2025-10-31 2:18:1 DIIs error 0.0793380568514\r\n",
      "T00 ERR ... 2025-10-31 2:18:1 Delta Etot -0.0164742257879\r\n",
      "T00 ERR ... \r\n",
      "T00 ERR ... 2025-10-31 2:18:1 Iteration 4 of 100"
     ]
    },
    {
     "name": "stdout",
     "output_type": "stream",
     "text": [
      "\r\n",
      "T00 ERR ... 2025-10-31 2:18:1 Total Energy -40.2287533453\r\n",
      "T00 ERR ... 2025-10-31 2:18:1 DIIs error 0.0296194045295\r\n",
      "T00 ERR ... 2025-10-31 2:18:1 Delta Etot -0.0306607200514\r\n",
      "T00 ERR ... \r\n",
      "T00 ERR ... 2025-10-31 2:18:1 Iteration 5 of 100"
     ]
    },
    {
     "name": "stdout",
     "output_type": "stream",
     "text": [
      "\r\n",
      "T00 ERR ... 2025-10-31 2:18:1 Total Energy -40.2286454607\r\n",
      "T00 ERR ... 2025-10-31 2:18:1 DIIs error 0.031199442009\r\n",
      "T00 ERR ... 2025-10-31 2:18:1 Delta Etot 0.000107884684716\r\n",
      "T00 ERR ... \r\n",
      "T00 ERR ... 2025-10-31 2:18:1 Iteration 6 of 100"
     ]
    },
    {
     "name": "stdout",
     "output_type": "stream",
     "text": [
      "\r\n",
      "T00 ERR ... 2025-10-31 2:18:1 Total Energy -40.2309967932\r\n",
      "T00 ERR ... 2025-10-31 2:18:1 DIIs error 0.000318959743586\r\n",
      "T00 ERR ... 2025-10-31 2:18:1 Delta Etot -0.00235133250546\r\n",
      "T00 ERR ... \r\n",
      "T00 ERR ... 2025-10-31 2:18:1 Iteration 7 of 100"
     ]
    },
    {
     "name": "stdout",
     "output_type": "stream",
     "text": [
      "\r\n",
      "T00 ERR ... 2025-10-31 2:18:1 Total Energy -40.2309970481\r\n",
      "T00 ERR ... 2025-10-31 2:18:1 DIIs error 2.04495632666e-05\r\n",
      "T00 ERR ... 2025-10-31 2:18:1 Delta Etot -2.54907178032e-07\r\n",
      "T00 ERR ... \r\n",
      "T00 ERR ... 2025-10-31 2:18:1 Iteration 8 of 100"
     ]
    },
    {
     "name": "stdout",
     "output_type": "stream",
     "text": [
      "\r\n",
      "T00 ERR ... 2025-10-31 2:18:1 Total Energy -40.2309970483\r\n",
      "T00 ERR ... 2025-10-31 2:18:1 DIIs error 1.08223442407e-05\r\n",
      "T00 ERR ... 2025-10-31 2:18:1 Delta Etot -2.43545628109e-10\r\n",
      "T00 ERR ... \r\n",
      "T00 ERR ... 2025-10-31 2:18:1 Iteration 9 of 100"
     ]
    },
    {
     "name": "stdout",
     "output_type": "stream",
     "text": [
      "\r\n",
      "T00 ERR ... 2025-10-31 2:18:1 Total Energy -40.2309970487\r\n",
      "T00 ERR ... 2025-10-31 2:18:1 DIIs error 3.47373807065e-06\r\n",
      "T00 ERR ... 2025-10-31 2:18:1 Delta Etot -3.89974275095e-10\r\n",
      "T00 ERR ... \r\n",
      "T00 ERR ... 2025-10-31 2:18:1 Iteration 10 of 100"
     ]
    },
    {
     "name": "stdout",
     "output_type": "stream",
     "text": [
      "\r\n",
      "T00 ERR ... 2025-10-31 2:18:1 Total Energy -40.2309970487\r\n",
      "T00 ERR ... 2025-10-31 2:18:1 DIIs error 9.07910976661e-07\r\n",
      "T00 ERR ... 2025-10-31 2:18:1 Delta Etot -4.47144543614e-11\r\n",
      "T00 ERR ... \r\n",
      "T00 ERR ... 2025-10-31 2:18:1 Iteration 11 of 100"
     ]
    },
    {
     "name": "stdout",
     "output_type": "stream",
     "text": [
      "\r\n",
      "T00 ERR ... 2025-10-31 2:18:1 Total Energy -40.2309970488\r\n",
      "T00 ERR ... 2025-10-31 2:18:1 DIIs error 1.36524638219e-09\r\n",
      "T00 ERR ... 2025-10-31 2:18:1 Delta Etot -2.83506551568e-12\r\n",
      "T00 ERR ... 2025-10-31 2:18:1 Total Energy has converged to -2.83506552e-12[Ha] after 11 iterations. DIIS error is converged up to 1.36524638e-09\r\n",
      "T00 ERR ... 2025-10-31 2:18:1 Final Single Point Energy -40.2309970488 Ha\r\n",
      "T00 ERR ... 2025-10-31 2:18:1 Final Local Exc contribution -5.18429673679 Ha\r\n",
      "T00 ERR ... 2025-10-31 2:18:1 Final Non Local Ex contribution -1.63926632589 Ha\r\n",
      "T00 ERR ...   Orbital energies: \r\n",
      "T00 ERR ...   index occupation energy(Hartree) \r\n",
      "T00 ERR ...      0      2   -10.1479524769\r\n",
      "T00 ERR ...      1      2   -0.7122304568\r\n",
      "T00 ERR ...      2      2   -0.4030193371\r\n",
      "T00 ERR ...      3      2   -0.4013630358\r\n",
      "T00 ERR ...      4      2   -0.3991163106\r\n",
      "T00 ERR ...      5      0   +0.1607338165\r\n",
      "T00 ERR ...      6      0   +0.2030346598\r\n",
      "T00 ERR ...      7      0   +0.2081233684\r\n",
      "T00 ERR ...      8      0   +0.2102827120\r\n",
      "T00 ERR ...      9      0   +0.7241108733\r\n",
      "T00 ERR ...     10      0   +0.7253273045\r\n",
      "T00 ERR ...     11      0   +0.7278539174\r\n",
      "T00 ERR ...     12      0   +1.0556266224\r\n",
      "T00 ERR ...     13      0   +1.0854175687\r\n",
      "T00 ERR ...     14      0   +1.0903893072\r\n",
      "T00 ERR ...     15      0   +1.0921185208\r\n",
      "T00 ERR ...     16      0   +1.7121036372\r\n",
      "T00 ERR ... 2025-10-31 2:18:1 Electric Dipole is[e*bohr]:\r\n",
      "\t\t dx=0.0188937217359\r\n",
      "\t\t dy=0.0352898487825\r\n",
      "\t\t dz=-0.0142242586425\r\n",
      "T00 ERR ... Writing result to temp.orb\r\n",
      "T00 ERR ... 2025-10-31 2:18:1 DFT calculation took 1.6256532 seconds.\r\n",
      "T00 ERR ... 2025-10-31 2:18:1 RPA level range [0:16]\r\n",
      "T00 ERR ... 2025-10-31 2:18:1 GW  level range [0:16]\r\n",
      "T00 ERR ... 2025-10-31 2:18:1 BSE level range occ[0:4]  virt[5:16]\r\n",
      "T00 ERR ...  BSE type: full\r\n",
      "T00 ERR ... 2025-10-31 2:18:1 BSE Hamiltonian has size 120x120\r\n",
      "T00 ERR ...  BSE without Hqp offdiagonal elements\r\n",
      "T00 ERR ...  Running GW as: G0W0\r\n",
      "T00 ERR ...  qp_sc_limit [Hartree]: 1e-05\r\n",
      "T00 ERR ...  Tasks: \r\n",
      "T00 ERR ...  GW \r\n",
      "T00 ERR ...  singlets \r\n",
      "T00 ERR ...  triplets \r\n",
      "T00 ERR ...  Store: \r\n",
      "T00 ERR ...  GW \r\n",
      "T00 ERR ...  Sigma integration: ppm\r\n",
      "T00 ERR ...  eta: 0.001\r\n",
      "T00 ERR ...  QP solver: grid\r\n",
      "T00 ERR ...  QP grid steps: 1001\r\n",
      "T00 ERR ...  QP grid spacing: 0.001\r\n",
      "T00 ERR ... 2025-10-31 2:18:1 Using 2 threads\r\n",
      "T00 ERR ... 2025-10-31 2:18:1 Using native Eigen implementation, no BLAS overload \r\n",
      "T00 ERR ... 2025-10-31 2:18:1 Molecule Coordinates [A] \r\n",
      "T00 ERR ...     0    C   30.3000 1.2704 5.5205\r\n",
      "T00 ERR ...     1    H   31.2392 1.4802 6.0301\r\n",
      "T00 ERR ...     2    H   30.4910 0.6554 4.6433\r\n",
      "T00 ERR ...     3    H   29.8500 2.2100 5.2100\r\n",
      "T00 ERR ...     4    H   29.6200 0.7500 6.2000\r\n",
      "T00 ERR ... 2025-10-31 2:18:1 DFT data was created by xtp\r\n",
      "T00 ERR ... 2025-10-31 2:18:1 Loaded DFT Basis Set 3-21G\r\n",
      "T00 ERR ... 2025-10-31 2:18:1 Filled DFT Basis of size 17\r\n",
      "T00 ERR ... 2025-10-31 2:18:1 Loaded Auxbasis Set aux-def2-svp"
     ]
    },
    {
     "name": "stdout",
     "output_type": "stream",
     "text": [
      "\r\n",
      "T00 ERR ... 2025-10-31 2:18:1 Filled Auxbasis of size 104\r\n",
      "T00 ERR ... 2025-10-31 2:18:1 Calculating Mmn_beta (3-center-repulsion x orbitals)  \r\n",
      "T00 ERR ... 2025-10-31 2:18:1 Calculated Mmn_beta (3-center-repulsion x orbitals)  \r\n",
      "T00 ERR ... 2025-10-31 2:18:1 Integrating Vxc with functional XC_HYB_GGA_XC_PBEH"
     ]
    },
    {
     "name": "stdout",
     "output_type": "stream",
     "text": [
      "\r\n",
      "T00 ERR ... 2025-10-31 2:18:1 Set hybrid exchange factor: 0.25\r\n",
      "T00 ERR ... 2025-10-31 2:18:1 Calculated exchange-correlation expectation values \r\n",
      "T00 ERR ... 2025-10-31 2:18:1 Calculated Hartree exchange contribution\r\n",
      "T00 ERR ... 2025-10-31 2:18:1 Scissor shifting DFT energies by: 0 Hrt\r\n",
      "T00 ERR ...   ====== Perturbative quasiparticle energies (Hartree) ====== \r\n",
      "T00 ERR ...    DeltaHLGap = +0.215511 Hartree\r\n",
      "T00 ERR ...   Level =    0 DFT = -10.1480 VXC = -1.7031 S-X = -2.6689 S-C = +0.5631 GWA = -10.5506\r\n",
      "T00 ERR ...   Level =    1 DFT = -0.7122 VXC = -0.4404 S-X = -0.6606 S-C = +0.1083 GWA = -0.8241\r\n",
      "T00 ERR ...   Level =    2 DFT = -0.4030 VXC = -0.3959 S-X = -0.5286 S-C = +0.0324 GWA = -0.5033\r\n",
      "T00 ERR ...   Level =    3 DFT = -0.4014 VXC = -0.3967 S-X = -0.5297 S-C = +0.0328 GWA = -0.5016\r\n",
      "T00 ERR ...   HOMO  =    4 DFT = -0.3991 VXC = -0.3970 S-X = -0.5300 S-C = +0.0329 GWA = -0.4993\r\n",
      "T00 ERR ...   LUMO  =    5 DFT = +0.1607 VXC = -0.2418 S-X = -0.1018 S-C = -0.0246 GWA = +0.2761\r\n",
      "T00 ERR ...   Level =    6 DFT = +0.2030 VXC = -0.2616 S-X = -0.1101 S-C = -0.0238 GWA = +0.3308\r\n",
      "T00 ERR ...   Level =    7 DFT = +0.2081 VXC = -0.2612 S-X = -0.1097 S-C = -0.0239 GWA = +0.3357\r\n",
      "T00 ERR ...   Level =    8 DFT = +0.2103 VXC = -0.2613 S-X = -0.1098 S-C = -0.0238 GWA = +0.3379\r\n",
      "T00 ERR ...   Level =    9 DFT = +0.7241 VXC = -0.3183 S-X = -0.1082 S-C = -0.0635 GWA = +0.8706\r\n",
      "T00 ERR ...   Level =   10 DFT = +0.7253 VXC = -0.3182 S-X = -0.1080 S-C = -0.0638 GWA = +0.8718\r\n",
      "T00 ERR ...   Level =   11 DFT = +0.7279 VXC = -0.3177 S-X = -0.1073 S-C = -0.0643 GWA = +0.8740\r\n",
      "T00 ERR ...   Level =   12 DFT = +1.0556 VXC = -0.4047 S-X = -0.1334 S-C = -0.0323 GWA = +1.2946\r\n",
      "T00 ERR ...   Level =   13 DFT = +1.0854 VXC = -0.3963 S-X = -0.1274 S-C = -0.1740 GWA = +1.1803\r\n",
      "T00 ERR ...   Level =   14 DFT = +1.0904 VXC = -0.3953 S-X = -0.1271 S-C = -0.1730 GWA = +1.1857\r\n",
      "T00 ERR ...   Level =   15 DFT = +1.0921 VXC = -0.3946 S-X = -0.1268 S-C = -0.1726 GWA = +1.1873\r\n",
      "T00 ERR ...   Level =   16 DFT = +1.7121 VXC = -0.3559 S-X = -0.1045 S-C = -0.0297 GWA = +1.9338\r\n",
      "T00 ERR ... 2025-10-31 2:18:1 Calculated offdiagonal part of Sigma  \r\n",
      "T00 ERR ... 2025-10-31 2:18:1 Full quasiparticle Hamiltonian  \r\n",
      "T00 ERR ...   ====== Diagonalized quasiparticle energies (Hartree) ====== \r\n",
      "T00 ERR ...   Level =    0 PQP = -10.550602 DQP = -10.550788 \r\n",
      "T00 ERR ...   Level =    1 PQP = -0.824116 DQP = -0.824559 \r\n",
      "T00 ERR ...   Level =    2 PQP = -0.503310 DQP = -0.503585 \r\n",
      "T00 ERR ...   Level =    3 PQP = -0.501562 DQP = -0.501769 \r\n",
      "T00 ERR ...   HOMO  =    4 PQP = -0.499258 DQP = -0.499450 \r\n",
      "T00 ERR ...   LUMO  =    5 PQP = +0.276103 DQP = +0.267908 \r\n",
      "T00 ERR ...   Level =    6 PQP = +0.330806 DQP = +0.328924 \r\n",
      "T00 ERR ...   Level =    7 PQP = +0.335740 DQP = +0.334306 \r\n",
      "T00 ERR ...   Level =    8 PQP = +0.337922 DQP = +0.336512 \r\n",
      "T00 ERR ...   Level =    9 PQP = +0.870620 DQP = +0.868935 \r\n",
      "T00 ERR ...   Level =   10 PQP = +0.871773 DQP = +0.869907 \r\n",
      "T00 ERR ...   Level =   11 PQP = +0.873960 DQP = +0.871692 \r\n",
      "T00 ERR ...   Level =   12 PQP = +1.294587 DQP = +1.183209 \r\n",
      "T00 ERR ...   Level =   13 PQP = +1.180337 DQP = +1.189579 \r\n",
      "T00 ERR ...   Level =   14 PQP = +1.185687 DQP = +1.191528 \r\n",
      "T00 ERR ...   Level =   15 PQP = +1.187296 DQP = +1.289803 \r\n",
      "T00 ERR ...   Level =   16 PQP = +1.933786 DQP = +1.947617 \r\n",
      "T00 ERR ... 2025-10-31 2:18:1 Diagonalized QP Hamiltonian  \r\n",
      "T00 ERR ... 2025-10-31 2:18:1 GW calculation took 0.117374379 seconds.\r\n",
      "T00 ERR ... 2025-10-31 2:18:1 Setup Full triplet hamiltonian \r\n",
      "T00 ERR ... 2025-10-31 2:18:1 Davidson Solver using 2 threads.\r\n",
      "T00 ERR ... 2025-10-31 2:18:1 Tolerance : 0.0001\r\n",
      "T00 ERR ... 2025-10-31 2:18:1 DPR Correction\r\n",
      "T00 ERR ... 2025-10-31 2:18:1 Matrix size : 120x120\r\n",
      "T00 ERR ... 2025-10-31 2:18:1 iter\tSearch Space\tNorm\r\n",
      "T00 ERR ... 2025-10-31 2:18:1    0           20 \t 1.28e-01 \t  0.00% converged\r\n",
      "T00 ERR ... 2025-10-31 2:18:1    1           35 \t 1.41e-02 \t  0.00% converged\r\n",
      "T00 ERR ... 2025-10-31 2:18:1    2           50 \t 8.61e-04 \t 10.00% converged\r\n",
      "T00 ERR ... 2025-10-31 2:18:1    3           62 \t 2.81e-05 \t 100.00% converged\r\n",
      "T00 ERR ... 2025-10-31 2:18:1 Davidson converged after 3 iterations.\r\n",
      "T00 ERR ... 2025-10-31 2:18:1-----------------------------------\r\n",
      "T00 ERR ... 2025-10-31 2:18:1- Davidson ran for 0.007114962secs.\r\n",
      "T00 ERR ... 2025-10-31 2:18:1-----------------------------------\r\n",
      "T00 ERR ... 2025-10-31 2:18:1 Solved BSE for triplets \r\n",
      "T00 ERR ...   ====== triplet energies (eV) ====== \r\n",
      "T00 ERR ...   T =    1 Omega = +11.591622701924 eV  lamdba = +106.97 nm <FT> = +22.7934 <K_d> = -11.2018\r\n",
      "T00 ERR ...    \r\n",
      "T00 ERR ...   T =    2 Omega = +11.768083701903 eV  lamdba = +105.37 nm <FT> = +22.9500 <K_d> = -11.1820\r\n",
      "T00 ERR ...    \r\n",
      "T00 ERR ...   T =    3 Omega = +11.825946546420 eV  lamdba = +104.85 nm <FT> = +22.4766 <K_d> = -10.6506\r\n",
      "T00 ERR ...    \r\n",
      "T00 ERR ...   T =    4 Omega = +11.875435214410 eV  lamdba = +104.42 nm <FT> = +22.4540 <K_d> = -10.5785\r\n",
      "T00 ERR ...    \r\n",
      "T00 ERR ...   T =    5 Omega = +13.657554351489 eV  lamdba = +90.79 nm <FT> = +22.2474 <K_d> = -8.5899\r\n",
      "T00 ERR ...    \r\n",
      "T00 ERR ...   T =    6 Omega = +13.751582530031 eV  lamdba = +90.17 nm <FT> = +22.2960 <K_d> = -8.5444\r\n",
      "T00 ERR ...    \r\n",
      "T00 ERR ...   T =    7 Omega = +13.942229649750 eV  lamdba = +88.94 nm <FT> = +22.3946 <K_d> = -8.4523\r\n",
      "T00 ERR ...    \r\n",
      "T00 ERR ...   T =    8 Omega = +14.130018412437 eV  lamdba = +87.76 nm <FT> = +22.7319 <K_d> = -8.6019\r\n",
      "T00 ERR ...            HOMO-0   -> LUMO+1    : 72.1%\r\n",
      "T00 ERR ...    \r\n",
      "T00 ERR ...   T =    9 Omega = +14.226017803701 eV  lamdba = +87.16 nm <FT> = +22.8417 <K_d> = -8.6157\r\n",
      "T00 ERR ...    \r\n",
      "T00 ERR ...   T =   10 Omega = +14.373871220747 eV  lamdba = +86.27 nm <FT> = +22.8652 <K_d> = -8.4914\r\n",
      "T00 ERR ...            HOMO-2   -> LUMO+2    : 57.1%\r\n",
      "T00 ERR ...    \r\n",
      "T00 ERR ... 2025-10-31 2:18:1 Setup Full singlet hamiltonian \r\n",
      "T00 ERR ... 2025-10-31 2:18:1 Davidson Solver using 2 threads.\r\n",
      "T00 ERR ... 2025-10-31 2:18:1 Tolerance : 0.0001\r\n",
      "T00 ERR ... 2025-10-31 2:18:1 DPR Correction\r\n",
      "T00 ERR ... 2025-10-31 2:18:1 Matrix size : 120x120\r\n",
      "T00 ERR ... 2025-10-31 2:18:1 iter\tSearch Space\tNorm\r\n",
      "T00 ERR ... 2025-10-31 2:18:1    0           20 \t 1.28e-01 \t  0.00% converged\r\n",
      "T00 ERR ... 2025-10-31 2:18:1    1           35 \t 1.29e-02 \t  0.00% converged\r\n",
      "T00 ERR ... 2025-10-31 2:18:1    2           50 \t 9.32e-04 \t 40.00% converged\r\n",
      "T00 ERR ... 2025-10-31 2:18:1    3           61 \t 3.38e-05 \t 100.00% converged\r\n",
      "T00 ERR ... 2025-10-31 2:18:1 Davidson converged after 3 iterations.\r\n",
      "T00 ERR ... 2025-10-31 2:18:1-----------------------------------\r\n",
      "T00 ERR ... 2025-10-31 2:18:1- Davidson ran for 0.008030494secs.\r\n",
      "T00 ERR ... 2025-10-31 2:18:1-----------------------------------\r\n",
      "T00 ERR ... 2025-10-31 2:18:1 Solved BSE for singlets \r\n",
      "T00 ERR ...   ====== singlet energies (eV) ====== \r\n",
      "T00 ERR ...   S =    1 Omega = +13.839021873095 eV  lamdba = +89.60 nm <FT> = +21.2209 <K_x> = +0.9784 <K_d> = -8.3602\r\n",
      "T00 ERR ...            TrDipole length gauge[e*bohr]  dx = +0.5296 dy = -0.4114 dz = +0.3392 |d|^2 = +0.5647 f = +0.1915\r\n",
      "T00 ERR ...            HOMO-0   -> LUMO+0    : 98.7%\r\n",
      "T00 ERR ... \r\n",
      "T00 ERR ...   S =    2 Omega = +13.900473161886 eV  lamdba = +89.21 nm <FT> = +21.2941 <K_x> = +1.0297 <K_d> = -8.4233\r\n",
      "T00 ERR ...            TrDipole length gauge[e*bohr]  dx = +0.1930 dy = +0.6254 dz = +0.4737 |d|^2 = +0.6528 f = +0.2223\r\n",
      "T00 ERR ...            HOMO-1   -> LUMO+0    : 97.0%\r\n",
      "T00 ERR ... \r\n",
      "T00 ERR ...   S =    3 Omega = +13.965874301228 eV  lamdba = +88.79 nm <FT> = +21.3569 <K_x> = +1.1849 <K_d> = -8.5759\r\n",
      "T00 ERR ...            TrDipole length gauge[e*bohr]  dx = +0.6224 dy = +0.3166 dz = -0.6421 |d|^2 = +0.8999 f = +0.3079\r\n",
      "T00 ERR ...            HOMO-2   -> LUMO+0    : 97.5%\r\n",
      "T00 ERR ... \r\n",
      "T00 ERR ...   S =    4 Omega = +14.551521590716 eV  lamdba = +85.21 nm <FT> = +22.7172 <K_x> = +0.3379 <K_d> = -8.5036\r\n",
      "T00 ERR ...            TrDipole length gauge[e*bohr]  dx = -0.1697 dy = +0.0691 dz = -0.0427 |d|^2 = +0.0354 f = +0.0126\r\n",
      "T00 ERR ...            HOMO-0   -> LUMO+1    : 76.9%\r\n",
      "T00 ERR ... \r\n",
      "T00 ERR ...   S =    5 Omega = +14.601199370563 eV  lamdba = +84.92 nm <FT> = +22.7829 <K_x> = +0.3222 <K_d> = -8.5039\r\n",
      "T00 ERR ...            TrDipole length gauge[e*bohr]  dx = -0.0465 dy = +0.1282 dz = +0.2142 |d|^2 = +0.0645 f = +0.0231\r\n",
      "T00 ERR ...            HOMO-1   -> LUMO+1    : 60.4%\r\n",
      "T00 ERR ... \r\n",
      "T00 ERR ...   S =    6 Omega = +14.637094842543 eV  lamdba = +84.72 nm <FT> = +22.8476 <K_x> = +0.2779 <K_d> = -8.4884\r\n",
      "T00 ERR ...            TrDipole length gauge[e*bohr]  dx = +0.1202 dy = -0.0262 dz = +0.0832 |d|^2 = +0.0221 f = +0.0079\r\n",
      "T00 ERR ...            HOMO-0   -> LUMO+2    : 55.7%\r\n",
      "T00 ERR ... \r\n",
      "T00 ERR ...   S =    7 Omega = +14.990522848019 eV  lamdba = +82.72 nm <FT> = +22.8541 <K_x> = +0.7066 <K_d> = -8.5702\r\n",
      "T00 ERR ...            TrDipole length gauge[e*bohr]  dx = -0.0542 dy = -0.0870 dz = -0.0606 |d|^2 = +0.0142 f = +0.0052\r\n",
      "T00 ERR ... \r\n",
      "T00 ERR ...   S =    8 Omega = +15.014389990475 eV  lamdba = +82.59 nm <FT> = +22.9061 <K_x> = +0.6675 <K_d> = -8.5592\r\n",
      "T00 ERR ...            TrDipole length gauge[e*bohr]  dx = -0.0192 dy = -0.0442 dz = +0.0312 |d|^2 = +0.0033 f = +0.0012\r\n",
      "T00 ERR ...            HOMO-2   -> LUMO+3    : 70.2%\r\n",
      "T00 ERR ... \r\n",
      "T00 ERR ...   S =    9 Omega = +15.999102976042 eV  lamdba = +77.50 nm <FT> = +23.1687 <K_x> = +2.1895 <K_d> = -9.3590\r\n",
      "T00 ERR ...            TrDipole length gauge[e*bohr]  dx = -0.8962 dy = -0.8748 dz = +0.5851 |d|^2 = +1.9108 f = +0.7490\r\n",
      "T00 ERR ...            HOMO-2   -> LUMO+1    : 60.3%\r\n",
      "T00 ERR ... \r\n",
      "T00 ERR ...   S =   10 Omega = +16.031749344910 eV  lamdba = +77.35 nm <FT> = +23.2249 <K_x> = +2.2793 <K_d> = -9.4725\r\n",
      "T00 ERR ...            TrDipole length gauge[e*bohr]  dx = -0.4357 dy = +1.0789 dz = +0.8320 |d|^2 = +2.0461 f = +0.8037\r\n",
      "T00 ERR ... \r\n",
      "T00 ERR ... 2025-10-31 2:18:1 BSE calculation took 0.017596037 seconds.\r\n",
      "T00 ERR ... 2025-10-31 2:18:1 GWBSE calculation finished \r\n",
      "T00 ERR ... Next State is: s1\r\n",
      "T00 ERR ... 2025-10-31 2:18:1 Evaluating polarregion 1\r\n",
      "T00 ERR ... 2025-10-31 2:18:1 Evaluating interaction between polarregion 1 and qmregion 0"
     ]
    },
    {
     "name": "stdout",
     "output_type": "stream",
     "text": [
      "\r\n",
      "T00 ERR ... Next State is: s1"
     ]
    },
    {
     "name": "stdout",
     "output_type": "stream",
     "text": [
      "\r\n",
      "T00 ERR ... 2025-10-31 2:18:2 Evaluating interaction between polarregion 1 and staticregion 2\r\n",
      "T00 ERR ... 2025-10-31 2:18:2 Starting Solving for classical polarization with 1380 degrees of freedom.\r\n",
      "T00 ERR ... 2025-10-31 2:18:2 CG: #iterations: 3, estimated error: 4.09466171209e-05\r\n",
      "T00 ERR ...   Total static energy [hrt]= 0.0009102654542\r\n",
      "T00 ERR ...   Total polar energy [hrt]= 0.0008027741751\r\n",
      "T00 ERR ...  Total energy [hrt]= 0.001713039629\r\n",
      "T00 ERR ... 2025-10-31 2:18:2 Evaluating staticregion 2\r\n",
      "T00 ERR ... 2025-10-31 2:18:2 Writing checkpoint to checkpoint_iter_6.hdf5"
     ]
    },
    {
     "name": "stdout",
     "output_type": "stream",
     "text": [
      "\r\n",
      "T00 ERR ...  Region:qmregion 0 is not converged deltaE=2.792139753e-05 RMS Dmat=0.001340916579 MaxDmat=0.007730807227\r\n",
      "T00 ERR ... 2025-10-31 2:18:2 Region:polarregion 1 is converged deltaE=1.394087917e-05\r\n",
      "T00 ERR ... 2025-10-31 2:18:2 --Total Energy all regions -39.72070933\r\n",
      "T00 ERR ... 2025-10-31 2:18:2 --Inter Region SCF Iteration 7 of 50\r\n",
      "T00 ERR ... 2025-10-31 2:18:2 Evaluating qmregion 0\r\n",
      "T00 ERR ... 2025-10-31 2:18:2 Evaluating interaction between qmregion 0 and polarregion 1\r\n",
      "T00 ERR ... 2025-10-31 2:18:2 Evaluating interaction between qmregion 0 and staticregion 2\r\n",
      "T00 ERR ... Running DFT calculation\r\n",
      "T00 ERR ... 2025-10-31 2:18:2 Using 2 threads\r\n",
      "T00 ERR ... 2025-10-31 2:18:2 Using native Eigen implementation, no BLAS overload \r\n",
      "T00 ERR ...  Molecule Coordinates [A] \r\n",
      "T00 ERR ...   C   +30.3000 +1.2704 +5.5205\r\n",
      "T00 ERR ...   H   +31.2392 +1.4802 +6.0301\r\n",
      "T00 ERR ...   H   +30.4910 +0.6554 +4.6433\r\n",
      "T00 ERR ...   H   +29.8500 +2.2100 +5.2100\r\n",
      "T00 ERR ...   H   +29.6200 +0.7500 +6.2000\r\n",
      "T00 ERR ... 2025-10-31 2:18:2 Loaded DFT Basis Set 3-21G with 17 functions"
     ]
    },
    {
     "name": "stdout",
     "output_type": "stream",
     "text": [
      "\r\n",
      "T00 ERR ... 2025-10-31 2:18:2 Loaded AUX Basis Set aux-def2-svp with 104 functions\r\n",
      "T00 ERR ... 2025-10-31 2:18:2 Total number of electrons: 10\r\n",
      "T00 ERR ... 2025-10-31 2:18:2 Smallest value of AOOverlap matrix is 0.03364074275\r\n",
      "T00 ERR ... 2025-10-31 2:18:2 Removed 0 basisfunction from inverse overlap matrix\r\n",
      "T00 ERR ... 2025-10-31 2:18:2 Convergence Options:\r\n",
      "T00 ERR ... \t\t Delta E [Ha]: 1e-07\r\n",
      "T00 ERR ... \t\t DIIS max error: 1e-07\r\n",
      "T00 ERR ... \t\t DIIS histlength: 20\r\n",
      "T00 ERR ... \t\t ADIIS start: 0.8\r\n",
      "T00 ERR ... \t\t DIIS start: 0.002\r\n",
      "T00 ERR ... \t\t Deleting oldest element from DIIS hist\r\n",
      "T00 ERR ... \t\t Levelshift[Ha]: 0\r\n",
      "T00 ERR ... \t\t Levelshift end: 0.2\r\n",
      "T00 ERR ... \t\t Mixing Parameter alpha: 0.7\r\n",
      "T00 ERR ... 2025-10-31 2:18:2 Setup invariant parts of Electron Repulsion integrals \r\n",
      "T00 ERR ... 2025-10-31 2:18:2 Constructed independent particle hamiltonian \r\n",
      "T00 ERR ... 2025-10-31 2:18:2 Nuclear Repulsion Energy is 13.4434088\r\n",
      "T00 ERR ... 2025-10-31 2:18:2 1350 External sites\r\n",
      "T00 ERR ...  Name      Coordinates[a0]     charge[e]         dipole[e*a0]    \r\n",
      "T00 ERR ...   C   +63.8902 +7.9543 +11.0171   -0.3282   +0.0089 +0.0010 -0.0060\r\n",
      "T00 ERR ...   H   +62.3892 +6.5470 +10.9796   +0.0824   +0.0094 +0.0028 -0.0001\r\n",
      "T00 ERR ...   H   +65.3194 +7.4736 +9.6186   +0.0822   +0.0038 -0.0009 -0.0023\r\n",
      "T00 ERR ...   H   +63.1170 +9.8077 +10.6203   +0.0817   +0.0015 +0.0013 +0.0010\r\n",
      "T00 ERR ...   H   +64.7422 +7.9557 +12.9068   +0.0819   +0.0043 +0.0033 -0.0007\r\n",
      "T00 ERR ...   C   +63.9128 -0.3996 +22.8673   -0.3282   -0.0029 +0.0015 +0.0052\r\n",
      "T00 ERR ...   H   +63.0449 -1.1731 +21.1692   +0.0824   -0.0001 -0.0006 +0.0015\r\n",
      "T00 ERR ...   H   +62.7676 +1.1530 +23.5795   +0.0822   -0.0015 +0.0049 +0.0022\r\n",
      "T00 ERR ...   H   +64.0430 -1.8922 +24.2830   +0.0817   +0.0010 -0.0003 -0.0009\r\n",
      "T00 ERR ...   H   +65.8004 +0.2810 +22.4122   +0.0819   -0.0036 -0.0009 +0.0017\r\n",
      "T00 ERR ...   C   +61.7182 -0.4374 -3.3115   -0.3282   -0.0001 -0.0018 +0.0010\r\n",
      "T00 ERR ...   H   +60.6600 -1.0798 -4.9554   +0.0824   +0.0011 +0.0014 +0.0012\r\n",
      "T00 ERR ...   H   +63.3309 +0.6815 -3.9252   +0.0822   -0.0014 -0.0019 -0.0005\r\n",
      "T00 ERR ...   H   +62.3800 -2.0623 -2.2148   +0.0817   +0.0010 -0.0019 +0.0013\r\n",
      "T00 ERR ...   H   +60.5092 +0.7345 -2.1392   +0.0819   -0.0027 -0.0035 -0.0019\r\n",
      "T00 ERR ...   C   +62.0402 +12.7739 +4.5175   -0.3282   +0.0027 +0.0004 +0.0017\r\n",
      "T00 ERR ...   H   +60.1049 +13.3052 +4.0622   +0.0824   +0.0002 -0.0013 -0.0010\r\n",
      "T00 ERR ...   H   +62.0812 +11.8167 +6.3372   +0.0822   +0.0006 -0.0022 -0.0015\r\n",
      "T00 ERR ...   H   +63.2115 +14.4753 +4.6109   +0.0817   +0.0028 +0.0022 +0.0014\r\n",
      "T00 ERR ...   H   +62.7769 +11.5084 +3.0803   +0.0819   -0.0003 -0.0009 +0.0006\r\n",
      "T00 ERR ...   C   +60.6789 +14.3239 +12.6808   -0.3282   -0.0019 +0.0028 +0.0015\r\n",
      "T00 ERR ...   H   +61.0756 +13.9461 +10.6972   +0.0824   -0.0038 +0.0039 -0.0004\r\n",
      "T00 ERR ...   H   +61.0224 +16.3108 +13.0851   +0.0822   -0.0001 +0.0006 +0.0033\r\n",
      "T00 ERR ...   H   +58.7327 +13.8328 +13.0580   +0.0817   +0.0007 -0.0002 +0.0003\r\n",
      "T00 ERR ...   H   +61.9074 +13.1525 +13.8517   +0.0819   -0.0006 -0.0006 +0.0035\r\n",
      "T00 ERR ...   C   +68.7870 +4.1961 +17.9521   -0.3282   +0.0049 +0.0003 +0.0063\r\n",
      "T00 ERR ...   H   +68.2015 +2.4962 +18.9532   +0.0824   +0.0001 -0.0005 -0.0013\r\n",
      "T00 ERR ...   H   +67.2445 +4.8625 +16.7665   +0.0822   +0.0015 -0.0030 +0.0028\r\n",
      "T00 ERR ...   H   +70.4303 +3.7606 +16.7997   +0.0817   -0.0007 +0.0010 +0.0004\r\n",
      "T00 ERR ...   H   +69.2964 +5.6503 +19.3130   +0.0819   +0.0011 +0.0009 +0.0055\r\n",
      "T00 ERR ...   C   +54.0832 +4.4983 +27.1938   -0.3282   -0.0007 -0.0025 -0.0012\r\n",
      "T00 ERR ...   H   +53.5372 +6.4564 +27.5139   +0.0824   -0.0012 -0.0015 +0.0002\r\n",
      "T00 ERR ...   H   +52.9768 +3.2670 +28.4141   +0.0822   -0.0007 -0.0015 +0.0003\r\n",
      "T00 ERR ...   H   +53.7249 +4.0062 +25.2278   +0.0817   +0.0021 -0.0009 +0.0002\r\n",
      "T00 ERR ...   H   +56.0682 +4.2330 +27.6278   +0.0819   -0.0032 +0.0014 -0.0015\r\n",
      "T00 ERR ...   C   +63.8174 +6.3112 -1.0788   -0.3282   -0.0007 -0.0004 -0.0003\r\n",
      "T00 ERR ...   H   +65.2393 +6.4796 +0.3993   +0.0824   -0.0003 -0.0010 +0.0014\r\n",
      "T00 ERR ...   H   +62.4364 +4.8836 -0.5459   +0.0822   +0.0020 +0.0009 -0.0007\r\n",
      "T00 ERR ...   H   +64.7422 +5.7637 -2.8384   +0.0817   -0.0005 +0.0027 +0.0002\r\n",
      "T00 ERR ...   H   +62.8903 +8.1258 -1.3455   +0.0819   -0.0006 -0.0016 -0.0037\r\n",
      "T00 ERR ...   C   +64.1752 +19.2751 +7.8615   -0.3282   +0.0049 -0.0000 +0.0006\r\n",
      "T00 ERR ...   H   +62.9276 +19.0860 +6.2359   +0.0824   -0.0011 +0.0004 +0.0021\r\n",
      "T00 ERR ...   H   +63.4396 +18.1623 +9.4267   +0.0822   +0.0013 -0.0002 -0.0003\r\n",
      "T00 ERR ...   H   +66.0461 +18.6138 +7.3699   +0.0817   +0.0012 -0.0009 -0.0001\r\n",
      "T00 ERR ...   H   +64.2509 +21.2405 +8.4282   +0.0819   +0.0017 +0.0008 -0.0004\r\n",
      "T00 ERR ...   C   +61.3975 +17.7254 +18.4625   -0.3282   +0.0021 -0.0003 +0.0025\r\n",
      "T00 ERR ...   H   +60.9990 +19.0346 +16.9256   +0.0824   -0.0004 +0.0012 +0.0002\r\n",
      "T00 ERR ...   H   +61.0958 +18.6680 +20.2653   +0.0822   +0.0001 +0.0000 +0.0003\r\n",
      "T00 ERR ...   H   +60.1502 +16.1005 +18.3303   +0.0817   +0.0028 +0.0005 -0.0006\r\n",
      "T00 ERR ...   H   +63.3627 +17.1020 +18.3492   +0.0819   -0.0014 -0.0005 +0.0014\r\n",
      "T00 ERR ...               ... (1300 sites not displayed)\r\n"
     ]
    },
    {
     "name": "stdout",
     "output_type": "stream",
     "text": [
      "\r\n",
      "T00 ERR ... 2025-10-31 2:18:2 Filled DFT external multipole potential matrix\r\n",
      "T00 ERR ... 2025-10-31 2:18:2 Nuclei-external site interaction energy 0.0204347161\r\n",
      "T00 ERR ... 2025-10-31 2:18:2 Using hybrid functional with alpha=0.25\r\n",
      "T00 ERR ... 2025-10-31 2:18:2 Setup numerical integration grid medium for vxc functional XC_HYB_GGA_XC_PBEH"
     ]
    },
    {
     "name": "stdout",
     "output_type": "stream",
     "text": [
      "\r\n",
      "T00 ERR ... 2025-10-31 2:18:2 Setup Initial Guess using: atom\r\n",
      "T00 ERR ... 2025-10-31 2:18:2 Calculating atom density for C"
     ]
    },
    {
     "name": "stdout",
     "output_type": "stream",
     "text": [
      "\r\n",
      "T00 ERR ... 2025-10-31 2:18:2 Calculating atom density for H"
     ]
    },
    {
     "name": "stdout",
     "output_type": "stream",
     "text": [
      "\r\n",
      "T00 ERR ... 2025-10-31 2:18:3 STARTING SCF cycle\r\n",
      "T00 ERR ...  --------------------------------------------------------------------------\r\n",
      "T00 ERR ... \r\n",
      "T00 ERR ... 2025-10-31 2:18:3 Iteration 1 of 100"
     ]
    },
    {
     "name": "stdout",
     "output_type": "stream",
     "text": [
      "\r\n",
      "T00 ERR ... 2025-10-31 2:18:3 Total Energy -40.1456786595\r\n",
      "T00 ERR ... 2025-10-31 2:18:3 DIIs error 0.219656579317\r\n",
      "T00 ERR ... 2025-10-31 2:18:3 Delta Etot 0\r\n",
      "T00 ERR ... \r\n",
      "T00 ERR ... 2025-10-31 2:18:3 Iteration 2 of 100"
     ]
    },
    {
     "name": "stdout",
     "output_type": "stream",
     "text": [
      "\r\n",
      "T00 ERR ... 2025-10-31 2:18:3 Total Energy -40.1815970641\r\n",
      "T00 ERR ... 2025-10-31 2:18:3 DIIs error 0.128764124506\r\n",
      "T00 ERR ... 2025-10-31 2:18:3 Delta Etot -0.0359184046258\r\n",
      "T00 ERR ... \r\n",
      "T00 ERR ... 2025-10-31 2:18:3 Iteration 3 of 100"
     ]
    },
    {
     "name": "stdout",
     "output_type": "stream",
     "text": [
      "\r\n",
      "T00 ERR ... 2025-10-31 2:18:3 Total Energy -40.1980712894\r\n",
      "T00 ERR ... 2025-10-31 2:18:3 DIIs error 0.079338060238\r\n",
      "T00 ERR ... 2025-10-31 2:18:3 Delta Etot -0.0164742252934\r\n",
      "T00 ERR ... \r\n",
      "T00 ERR ... 2025-10-31 2:18:3 Iteration 4 of 100"
     ]
    },
    {
     "name": "stdout",
     "output_type": "stream",
     "text": [
      "\r\n",
      "T00 ERR ... 2025-10-31 2:18:3 Total Energy -40.2287320064\r\n",
      "T00 ERR ... 2025-10-31 2:18:3 DIIs error 0.0296189713791\r\n",
      "T00 ERR ... 2025-10-31 2:18:3 Delta Etot -0.0306607169967\r\n",
      "T00 ERR ... \r\n",
      "T00 ERR ... 2025-10-31 2:18:3 Iteration 5 of 100"
     ]
    },
    {
     "name": "stdout",
     "output_type": "stream",
     "text": [
      "\r\n",
      "T00 ERR ... 2025-10-31 2:18:3 Total Energy -40.2286241232\r\n",
      "T00 ERR ... 2025-10-31 2:18:3 DIIs error 0.0311990138352\r\n",
      "T00 ERR ... 2025-10-31 2:18:3 Delta Etot 0.00010788317428\r\n",
      "T00 ERR ... \r\n",
      "T00 ERR ... 2025-10-31 2:18:3 Iteration 6 of 100"
     ]
    },
    {
     "name": "stdout",
     "output_type": "stream",
     "text": [
      "\r\n",
      "T00 ERR ... 2025-10-31 2:18:3 Total Energy -40.2309754546\r\n",
      "T00 ERR ... 2025-10-31 2:18:3 DIIs error 0.000318952654911\r\n",
      "T00 ERR ... 2025-10-31 2:18:3 Delta Etot -0.00235133140114\r\n",
      "T00 ERR ... \r\n",
      "T00 ERR ... 2025-10-31 2:18:3 Iteration 7 of 100"
     ]
    },
    {
     "name": "stdout",
     "output_type": "stream",
     "text": [
      "\r\n",
      "T00 ERR ... 2025-10-31 2:18:3 Total Energy -40.2309757095\r\n",
      "T00 ERR ... 2025-10-31 2:18:3 DIIs error 2.04390221131e-05\r\n",
      "T00 ERR ... 2025-10-31 2:18:3 Delta Etot -2.5490065525e-07\r\n",
      "T00 ERR ... \r\n",
      "T00 ERR ... 2025-10-31 2:18:3 Iteration 8 of 100"
     ]
    },
    {
     "name": "stdout",
     "output_type": "stream",
     "text": [
      "\r\n",
      "T00 ERR ... 2025-10-31 2:18:3 Total Energy -40.2309757098\r\n",
      "T00 ERR ... 2025-10-31 2:18:3 DIIs error 1.08213101383e-05\r\n",
      "T00 ERR ... 2025-10-31 2:18:3 Delta Etot -2.43346676143e-10\r\n",
      "T00 ERR ... \r\n",
      "T00 ERR ... 2025-10-31 2:18:3 Iteration 9 of 100"
     ]
    },
    {
     "name": "stdout",
     "output_type": "stream",
     "text": [
      "\r\n",
      "T00 ERR ... 2025-10-31 2:18:3 Total Energy -40.2309757102\r\n",
      "T00 ERR ... 2025-10-31 2:18:3 DIIs error 3.4877607757e-06\r\n",
      "T00 ERR ... 2025-10-31 2:18:3 Delta Etot -3.89391630051e-10\r\n",
      "T00 ERR ... \r\n",
      "T00 ERR ... 2025-10-31 2:18:3 Iteration 10 of 100"
     ]
    },
    {
     "name": "stdout",
     "output_type": "stream",
     "text": [
      "\r\n",
      "T00 ERR ... 2025-10-31 2:18:3 Total Energy -40.2309757102\r\n",
      "T00 ERR ... 2025-10-31 2:18:3 DIIs error 9.08746714857e-07\r\n",
      "T00 ERR ... 2025-10-31 2:18:3 Delta Etot -4.49205117548e-11\r\n",
      "T00 ERR ... \r\n",
      "T00 ERR ... 2025-10-31 2:18:3 Iteration 11 of 100"
     ]
    },
    {
     "name": "stdout",
     "output_type": "stream",
     "text": [
      "\r\n",
      "T00 ERR ... 2025-10-31 2:18:3 Total Energy -40.2309757102\r\n",
      "T00 ERR ... 2025-10-31 2:18:3 DIIs error 1.36397503541e-09\r\n",
      "T00 ERR ... 2025-10-31 2:18:3 Delta Etot -2.99849034491e-12\r\n",
      "T00 ERR ... 2025-10-31 2:18:3 Total Energy has converged to -2.99849034e-12[Ha] after 11 iterations. DIIS error is converged up to 1.36397504e-09\r\n",
      "T00 ERR ... 2025-10-31 2:18:3 Final Single Point Energy -40.2309757102 Ha\r\n",
      "T00 ERR ... 2025-10-31 2:18:3 Final Local Exc contribution -5.18429667271 Ha\r\n",
      "T00 ERR ... 2025-10-31 2:18:3 Final Non Local Ex contribution -1.63926630408 Ha\r\n",
      "T00 ERR ...   Orbital energies: \r\n",
      "T00 ERR ...   index occupation energy(Hartree) \r\n",
      "T00 ERR ...      0      2   -10.1479503288\r\n",
      "T00 ERR ...      1      2   -0.7122284079\r\n",
      "T00 ERR ...      2      2   -0.4030244075\r\n",
      "T00 ERR ...      3      2   -0.4013560033\r\n",
      "T00 ERR ...      4      2   -0.3991119309\r\n",
      "T00 ERR ...      5      0   +0.1607321101\r\n",
      "T00 ERR ...      6      0   +0.2030222144\r\n",
      "T00 ERR ...      7      0   +0.2081434572\r\n",
      "T00 ERR ...      8      0   +0.2102867786\r\n",
      "T00 ERR ...      9      0   +0.7241133284\r\n",
      "T00 ERR ...     10      0   +0.7253272928\r\n",
      "T00 ERR ...     11      0   +0.7278575504\r\n",
      "T00 ERR ...     12      0   +1.0556253123\r\n",
      "T00 ERR ...     13      0   +1.0854079409\r\n",
      "T00 ERR ...     14      0   +1.0904089753\r\n",
      "T00 ERR ...     15      0   +1.0921192259\r\n",
      "T00 ERR ...     16      0   +1.7121060048\r\n",
      "T00 ERR ... 2025-10-31 2:18:3 Electric Dipole is[e*bohr]:\r\n",
      "\t\t dx=0.0191664306321\r\n",
      "\t\t dy=0.0353304094197\r\n",
      "\t\t dz=-0.0142667902919\r\n",
      "T00 ERR ... Writing result to temp.orb\r\n",
      "T00 ERR ... 2025-10-31 2:18:3 DFT calculation took 1.633528867 seconds.\r\n",
      "T00 ERR ... 2025-10-31 2:18:3 RPA level range [0:16]\r\n",
      "T00 ERR ... 2025-10-31 2:18:3 GW  level range [0:16]\r\n",
      "T00 ERR ... 2025-10-31 2:18:3 BSE level range occ[0:4]  virt[5:16]\r\n",
      "T00 ERR ...  BSE type: full\r\n",
      "T00 ERR ... 2025-10-31 2:18:3 BSE Hamiltonian has size 120x120\r\n",
      "T00 ERR ...  BSE without Hqp offdiagonal elements\r\n",
      "T00 ERR ...  Running GW as: G0W0\r\n",
      "T00 ERR ...  qp_sc_limit [Hartree]: 1e-05\r\n",
      "T00 ERR ...  Tasks: \r\n",
      "T00 ERR ...  GW \r\n",
      "T00 ERR ...  singlets \r\n",
      "T00 ERR ...  triplets \r\n",
      "T00 ERR ...  Store: \r\n",
      "T00 ERR ...  GW \r\n",
      "T00 ERR ...  Sigma integration: ppm\r\n",
      "T00 ERR ...  eta: 0.001\r\n",
      "T00 ERR ...  QP solver: grid\r\n",
      "T00 ERR ...  QP grid steps: 1001\r\n",
      "T00 ERR ...  QP grid spacing: 0.001\r\n",
      "T00 ERR ... 2025-10-31 2:18:3 Using 2 threads\r\n",
      "T00 ERR ... 2025-10-31 2:18:3 Using native Eigen implementation, no BLAS overload \r\n",
      "T00 ERR ... 2025-10-31 2:18:3 Molecule Coordinates [A] \r\n",
      "T00 ERR ...     0    C   30.3000 1.2704 5.5205\r\n",
      "T00 ERR ...     1    H   31.2392 1.4802 6.0301\r\n",
      "T00 ERR ...     2    H   30.4910 0.6554 4.6433\r\n",
      "T00 ERR ...     3    H   29.8500 2.2100 5.2100\r\n",
      "T00 ERR ...     4    H   29.6200 0.7500 6.2000\r\n",
      "T00 ERR ... 2025-10-31 2:18:3 DFT data was created by xtp\r\n",
      "T00 ERR ... 2025-10-31 2:18:3 Loaded DFT Basis Set 3-21G\r\n",
      "T00 ERR ... 2025-10-31 2:18:3 Filled DFT Basis of size 17\r\n",
      "T00 ERR ... 2025-10-31 2:18:3 Loaded Auxbasis Set aux-def2-svp\r\n",
      "T00 ERR ... 2025-10-31 2:18:3 Filled Auxbasis of size 104\r\n",
      "T00 ERR ... 2025-10-31 2:18:3 Calculating Mmn_beta (3-center-repulsion x orbitals)  \r\n",
      "T00 ERR ... 2025-10-31 2:18:3 Calculated Mmn_beta (3-center-repulsion x orbitals)  \r\n",
      "T00 ERR ... 2025-10-31 2:18:3 Integrating Vxc with functional XC_HYB_GGA_XC_PBEH"
     ]
    },
    {
     "name": "stdout",
     "output_type": "stream",
     "text": [
      "\r\n",
      "T00 ERR ... 2025-10-31 2:18:3 Set hybrid exchange factor: 0.25\r\n",
      "T00 ERR ... 2025-10-31 2:18:3 Calculated exchange-correlation expectation values \r\n",
      "T00 ERR ... 2025-10-31 2:18:3 Calculated Hartree exchange contribution\r\n",
      "T00 ERR ... 2025-10-31 2:18:3 Scissor shifting DFT energies by: 0 Hrt\r\n",
      "T00 ERR ...   ====== Perturbative quasiparticle energies (Hartree) ====== \r\n",
      "T00 ERR ...    DeltaHLGap = +0.215513 Hartree\r\n",
      "T00 ERR ...   Level =    0 DFT = -10.1480 VXC = -1.7031 S-X = -2.6689 S-C = +0.5631 GWA = -10.5506\r\n",
      "T00 ERR ...   Level =    1 DFT = -0.7122 VXC = -0.4404 S-X = -0.6606 S-C = +0.1083 GWA = -0.8241\r\n",
      "T00 ERR ...   Level =    2 DFT = -0.4030 VXC = -0.3959 S-X = -0.5286 S-C = +0.0324 GWA = -0.5033\r\n",
      "T00 ERR ...   Level =    3 DFT = -0.4014 VXC = -0.3967 S-X = -0.5298 S-C = +0.0328 GWA = -0.5016\r\n",
      "T00 ERR ...   HOMO  =    4 DFT = -0.3991 VXC = -0.3970 S-X = -0.5300 S-C = +0.0329 GWA = -0.4993\r\n",
      "T00 ERR ...   LUMO  =    5 DFT = +0.1607 VXC = -0.2418 S-X = -0.1018 S-C = -0.0246 GWA = +0.2761\r\n",
      "T00 ERR ...   Level =    6 DFT = +0.2030 VXC = -0.2616 S-X = -0.1101 S-C = -0.0238 GWA = +0.3308\r\n",
      "T00 ERR ...   Level =    7 DFT = +0.2081 VXC = -0.2612 S-X = -0.1097 S-C = -0.0239 GWA = +0.3358\r\n",
      "T00 ERR ...   Level =    8 DFT = +0.2103 VXC = -0.2613 S-X = -0.1098 S-C = -0.0238 GWA = +0.3379\r\n",
      "T00 ERR ...   Level =    9 DFT = +0.7241 VXC = -0.3183 S-X = -0.1082 S-C = -0.0635 GWA = +0.8706\r\n",
      "T00 ERR ...   Level =   10 DFT = +0.7253 VXC = -0.3182 S-X = -0.1080 S-C = -0.0638 GWA = +0.8718\r\n",
      "T00 ERR ...   Level =   11 DFT = +0.7279 VXC = -0.3177 S-X = -0.1073 S-C = -0.0643 GWA = +0.8740\r\n",
      "T00 ERR ...   Level =   12 DFT = +1.0556 VXC = -0.4047 S-X = -0.1334 S-C = -0.0323 GWA = +1.2946\r\n",
      "T00 ERR ...   Level =   13 DFT = +1.0854 VXC = -0.3963 S-X = -0.1274 S-C = -0.1740 GWA = +1.1803\r\n",
      "T00 ERR ...   Level =   14 DFT = +1.0904 VXC = -0.3953 S-X = -0.1271 S-C = -0.1730 GWA = +1.1857\r\n",
      "T00 ERR ...   Level =   15 DFT = +1.0921 VXC = -0.3946 S-X = -0.1268 S-C = -0.1726 GWA = +1.1873\r\n",
      "T00 ERR ...   Level =   16 DFT = +1.7121 VXC = -0.3559 S-X = -0.1045 S-C = -0.0297 GWA = +1.9338\r\n",
      "T00 ERR ... 2025-10-31 2:18:3 Calculated offdiagonal part of Sigma  \r\n",
      "T00 ERR ... 2025-10-31 2:18:3 Full quasiparticle Hamiltonian  \r\n",
      "T00 ERR ...   ====== Diagonalized quasiparticle energies (Hartree) ====== \r\n",
      "T00 ERR ...   Level =    0 PQP = -10.550600 DQP = -10.550785 \r\n",
      "T00 ERR ...   Level =    1 PQP = -0.824114 DQP = -0.824558 \r\n",
      "T00 ERR ...   Level =    2 PQP = -0.503315 DQP = -0.503591 \r\n",
      "T00 ERR ...   Level =    3 PQP = -0.501555 DQP = -0.501762 \r\n",
      "T00 ERR ...   HOMO  =    4 PQP = -0.499254 DQP = -0.499445 \r\n",
      "T00 ERR ...   LUMO  =    5 PQP = +0.276103 DQP = +0.267907 \r\n",
      "T00 ERR ...   Level =    6 PQP = +0.330792 DQP = +0.328908 \r\n",
      "T00 ERR ...   Level =    7 PQP = +0.335759 DQP = +0.334326 \r\n",
      "T00 ERR ...   Level =    8 PQP = +0.337927 DQP = +0.336519 \r\n",
      "T00 ERR ...   Level =    9 PQP = +0.870622 DQP = +0.868939 \r\n",
      "T00 ERR ...   Level =   10 PQP = +0.871773 DQP = +0.869909 \r\n",
      "T00 ERR ...   Level =   11 PQP = +0.873963 DQP = +0.871691 \r\n",
      "T00 ERR ...   Level =   12 PQP = +1.294586 DQP = +1.183189 \r\n",
      "T00 ERR ...   Level =   13 PQP = +1.180318 DQP = +1.189595 \r\n",
      "T00 ERR ...   Level =   14 PQP = +1.185697 DQP = +1.191519 \r\n",
      "T00 ERR ...   Level =   15 PQP = +1.187298 DQP = +1.289809 \r\n",
      "T00 ERR ...   Level =   16 PQP = +1.933787 DQP = +1.947618 \r\n",
      "T00 ERR ... 2025-10-31 2:18:3 Diagonalized QP Hamiltonian  \r\n",
      "T00 ERR ... 2025-10-31 2:18:3 GW calculation took 0.118368256 seconds.\r\n",
      "T00 ERR ... 2025-10-31 2:18:3 Setup Full triplet hamiltonian \r\n",
      "T00 ERR ... 2025-10-31 2:18:3 Davidson Solver using 2 threads.\r\n",
      "T00 ERR ... 2025-10-31 2:18:3 Tolerance : 0.0001\r\n",
      "T00 ERR ... 2025-10-31 2:18:3 DPR Correction\r\n",
      "T00 ERR ... 2025-10-31 2:18:3 Matrix size : 120x120\r\n",
      "T00 ERR ... 2025-10-31 2:18:3 iter\tSearch Space\tNorm\r\n",
      "T00 ERR ... 2025-10-31 2:18:3    0           20 \t 1.28e-01 \t  0.00% converged"
     ]
    },
    {
     "name": "stdout",
     "output_type": "stream",
     "text": [
      "\r\n",
      "T00 ERR ... 2025-10-31 2:18:3    1           35 \t 1.41e-02 \t  0.00% converged\r\n",
      "T00 ERR ... 2025-10-31 2:18:3    2           50 \t 8.60e-04 \t 10.00% converged\r\n",
      "T00 ERR ... 2025-10-31 2:18:3    3           62 \t 2.81e-05 \t 100.00% converged\r\n",
      "T00 ERR ... 2025-10-31 2:18:3 Davidson converged after 3 iterations.\r\n",
      "T00 ERR ... 2025-10-31 2:18:3-----------------------------------\r\n",
      "T00 ERR ... 2025-10-31 2:18:3- Davidson ran for 0.007967992secs.\r\n",
      "T00 ERR ... 2025-10-31 2:18:3-----------------------------------\r\n",
      "T00 ERR ... 2025-10-31 2:18:3 Solved BSE for triplets \r\n",
      "T00 ERR ...   ====== triplet energies (eV) ====== \r\n",
      "T00 ERR ...   T =    1 Omega = +11.590948138087 eV  lamdba = +106.98 nm <FT> = +22.7914 <K_d> = -11.2005\r\n",
      "T00 ERR ...    \r\n",
      "T00 ERR ...   T =    2 Omega = +11.768297558579 eV  lamdba = +105.37 nm <FT> = +22.9504 <K_d> = -11.1822\r\n",
      "T00 ERR ...    \r\n",
      "T00 ERR ...   T =    3 Omega = +11.826607125354 eV  lamdba = +104.85 nm <FT> = +22.4804 <K_d> = -10.6538\r\n",
      "T00 ERR ...    \r\n",
      "T00 ERR ...   T =    4 Omega = +11.875302504752 eV  lamdba = +104.42 nm <FT> = +22.4517 <K_d> = -10.5764\r\n",
      "T00 ERR ...    \r\n",
      "T00 ERR ...   T =    5 Omega = +13.657025233248 eV  lamdba = +90.80 nm <FT> = +22.2472 <K_d> = -8.5901\r\n",
      "T00 ERR ...    \r\n",
      "T00 ERR ...   T =    6 Omega = +13.750832863132 eV  lamdba = +90.18 nm <FT> = +22.2956 <K_d> = -8.5448\r\n",
      "T00 ERR ...    \r\n",
      "T00 ERR ...   T =    7 Omega = +13.942847602727 eV  lamdba = +88.93 nm <FT> = +22.3950 <K_d> = -8.4521\r\n",
      "T00 ERR ...    \r\n",
      "T00 ERR ...   T =    8 Omega = +14.129792949695 eV  lamdba = +87.76 nm <FT> = +22.7316 <K_d> = -8.6018\r\n",
      "T00 ERR ...            HOMO-0   -> LUMO+1    : 72.0%\r\n",
      "T00 ERR ...    \r\n",
      "T00 ERR ...   T =    9 Omega = +14.226230404711 eV  lamdba = +87.16 nm <FT> = +22.8418 <K_d> = -8.6155\r\n",
      "T00 ERR ...    \r\n",
      "T00 ERR ...   T =   10 Omega = +14.374359431950 eV  lamdba = +86.26 nm <FT> = +22.8657 <K_d> = -8.4913\r\n",
      "T00 ERR ...            HOMO-2   -> LUMO+2    : 56.5%\r\n",
      "T00 ERR ...    \r\n",
      "T00 ERR ... 2025-10-31 2:18:3 Setup Full singlet hamiltonian \r\n",
      "T00 ERR ... 2025-10-31 2:18:3 Davidson Solver using 2 threads.\r\n",
      "T00 ERR ... 2025-10-31 2:18:3 Tolerance : 0.0001\r\n",
      "T00 ERR ... 2025-10-31 2:18:3 DPR Correction\r\n",
      "T00 ERR ... 2025-10-31 2:18:3 Matrix size : 120x120\r\n",
      "T00 ERR ... 2025-10-31 2:18:3 iter\tSearch Space\tNorm\r\n",
      "T00 ERR ... 2025-10-31 2:18:3    0           20 \t 1.28e-01 \t  0.00% converged\r\n",
      "T00 ERR ... 2025-10-31 2:18:3    1           35 \t 1.29e-02 \t  0.00% converged\r\n",
      "T00 ERR ... 2025-10-31 2:18:3    2           50 \t 9.32e-04 \t 40.00% converged\r\n",
      "T00 ERR ... 2025-10-31 2:18:3    3           61 \t 3.38e-05 \t 100.00% converged\r\n",
      "T00 ERR ... 2025-10-31 2:18:3 Davidson converged after 3 iterations.\r\n",
      "T00 ERR ... 2025-10-31 2:18:3-----------------------------------\r\n",
      "T00 ERR ... 2025-10-31 2:18:3- Davidson ran for 0.008010423secs.\r\n",
      "T00 ERR ... 2025-10-31 2:18:3-----------------------------------\r\n",
      "T00 ERR ... 2025-10-31 2:18:3 Solved BSE for singlets \r\n",
      "T00 ERR ...   ====== singlet energies (eV) ====== \r\n",
      "T00 ERR ...   S =    1 Omega = +13.838742603874 eV  lamdba = +89.60 nm <FT> = +21.2209 <K_x> = +0.9779 <K_d> = -8.3600\r\n",
      "T00 ERR ...            TrDipole length gauge[e*bohr]  dx = -0.5300 dy = +0.4100 dz = -0.3395 |d|^2 = +0.5642 f = +0.1913\r\n",
      "T00 ERR ...            HOMO-0   -> LUMO+0    : 98.7%\r\n",
      "T00 ERR ... \r\n",
      "T00 ERR ...   S =    2 Omega = +13.900151419316 eV  lamdba = +89.21 nm <FT> = +21.2940 <K_x> = +1.0291 <K_d> = -8.4230\r\n",
      "T00 ERR ...            TrDipole length gauge[e*bohr]  dx = -0.1910 dy = -0.6256 dz = -0.4733 |d|^2 = +0.6519 f = +0.2220\r\n",
      "T00 ERR ...            HOMO-1   -> LUMO+0    : 97.0%\r\n",
      "T00 ERR ... \r\n",
      "T00 ERR ...   S =    3 Omega = +13.966090966331 eV  lamdba = +88.79 nm <FT> = +21.3572 <K_x> = +1.1855 <K_d> = -8.5766\r\n",
      "T00 ERR ...            TrDipole length gauge[e*bohr]  dx = -0.6224 dy = -0.3180 dz = +0.6421 |d|^2 = +0.9008 f = +0.3082\r\n",
      "T00 ERR ...            HOMO-2   -> LUMO+0    : 97.5%\r\n",
      "T00 ERR ... \r\n",
      "T00 ERR ...   S =    4 Omega = +14.551305432783 eV  lamdba = +85.22 nm <FT> = +22.7166 <K_x> = +0.3384 <K_d> = -8.5037\r\n",
      "T00 ERR ...            TrDipole length gauge[e*bohr]  dx = +0.1701 dy = -0.0698 dz = +0.0436 |d|^2 = +0.0357 f = +0.0127\r\n",
      "T00 ERR ...            HOMO-0   -> LUMO+1    : 76.9%\r\n",
      "T00 ERR ... \r\n",
      "T00 ERR ...   S =    5 Omega = +14.601181237021 eV  lamdba = +84.92 nm <FT> = +22.7825 <K_x> = +0.3228 <K_d> = -8.5041\r\n",
      "T00 ERR ...            TrDipole length gauge[e*bohr]  dx = -0.0462 dy = +0.1289 dz = +0.2153 |d|^2 = +0.0651 f = +0.0233\r\n",
      "T00 ERR ...            HOMO-1   -> LUMO+1    : 60.5%\r\n",
      "T00 ERR ... \r\n",
      "T00 ERR ...   S =    6 Omega = +14.637336086250 eV  lamdba = +84.71 nm <FT> = +22.8479 <K_x> = +0.2778 <K_d> = -8.4884\r\n",
      "T00 ERR ...            TrDipole length gauge[e*bohr]  dx = +0.1204 dy = -0.0272 dz = +0.0826 |d|^2 = +0.0221 f = +0.0079\r\n",
      "T00 ERR ...            HOMO-0   -> LUMO+2    : 55.7%\r\n",
      "T00 ERR ... \r\n",
      "T00 ERR ...   S =    7 Omega = +14.990679940384 eV  lamdba = +82.72 nm <FT> = +22.8543 <K_x> = +0.7066 <K_d> = -8.5702\r\n",
      "T00 ERR ...            TrDipole length gauge[e*bohr]  dx = -0.0541 dy = -0.0875 dz = -0.0599 |d|^2 = +0.0142 f = +0.0052\r\n",
      "T00 ERR ... \r\n",
      "T00 ERR ...   S =    8 Omega = +15.014630558865 eV  lamdba = +82.59 nm <FT> = +22.9065 <K_x> = +0.6672 <K_d> = -8.5591\r\n",
      "T00 ERR ...            TrDipole length gauge[e*bohr]  dx = +0.0184 dy = +0.0440 dz = -0.0307 |d|^2 = +0.0032 f = +0.0012\r\n",
      "T00 ERR ...            HOMO-2   -> LUMO+3    : 70.4%\r\n",
      "T00 ERR ... \r\n",
      "T00 ERR ...   S =    9 Omega = +15.999045045056 eV  lamdba = +77.50 nm <FT> = +23.1685 <K_x> = +2.1889 <K_d> = -9.3583\r\n",
      "T00 ERR ...            TrDipole length gauge[e*bohr]  dx = -0.8950 dy = -0.8747 dz = +0.5864 |d|^2 = +1.9100 f = +0.7487\r\n",
      "T00 ERR ...            HOMO-2   -> LUMO+1    : 60.4%\r\n",
      "T00 ERR ... \r\n",
      "T00 ERR ...   S =   10 Omega = +16.031795871963 eV  lamdba = +77.35 nm <FT> = +23.2251 <K_x> = +2.2796 <K_d> = -9.4728\r\n",
      "T00 ERR ...            TrDipole length gauge[e*bohr]  dx = +0.4390 dy = -1.0806 dz = -0.8282 |d|^2 = +2.0464 f = +0.8038\r\n",
      "T00 ERR ... \r\n",
      "T00 ERR ... 2025-10-31 2:18:3 BSE calculation took 0.018527667 seconds.\r\n",
      "T00 ERR ... 2025-10-31 2:18:3 GWBSE calculation finished \r\n",
      "T00 ERR ... Next State is: s1\r\n",
      "T00 ERR ... 2025-10-31 2:18:3 Evaluating polarregion 1\r\n",
      "T00 ERR ... 2025-10-31 2:18:3 Evaluating interaction between polarregion 1 and qmregion 0\r\n",
      "T00 ERR ... Next State is: s1"
     ]
    },
    {
     "name": "stdout",
     "output_type": "stream",
     "text": [
      "\r\n",
      "T00 ERR ... 2025-10-31 2:18:4 Evaluating interaction between polarregion 1 and staticregion 2\r\n",
      "T00 ERR ... 2025-10-31 2:18:4 Starting Solving for classical polarization with 1380 degrees of freedom."
     ]
    },
    {
     "name": "stdout",
     "output_type": "stream",
     "text": [
      "\r\n",
      "T00 ERR ... 2025-10-31 2:18:4 CG: #iterations: 3, estimated error: 2.04896588875e-05\r\n",
      "T00 ERR ...   Total static energy [hrt]= 0.0009102654542\r\n",
      "T00 ERR ...   Total polar energy [hrt]= 0.0008093249469\r\n",
      "T00 ERR ...  Total energy [hrt]= 0.001719590401\r\n",
      "T00 ERR ... 2025-10-31 2:18:4 Evaluating staticregion 2\r\n",
      "T00 ERR ... 2025-10-31 2:18:4 Writing checkpoint to checkpoint_iter_7.hdf5"
     ]
    },
    {
     "name": "stdout",
     "output_type": "stream",
     "text": [
      "\r\n",
      "T00 ERR ...  Region:qmregion 0 is not converged deltaE=1.107559458e-05 RMS Dmat=0.0006341409491 MaxDmat=0.003653548682\r\n",
      "T00 ERR ... 2025-10-31 2:18:4 Region:polarregion 1 is converged deltaE=6.550771842e-06\r\n",
      "T00 ERR ... 2025-10-31 2:18:4 --Total Energy all regions -39.72069171\r\n",
      "T00 ERR ... 2025-10-31 2:18:4 --Inter Region SCF Iteration 8 of 50\r\n",
      "T00 ERR ... 2025-10-31 2:18:4 Evaluating qmregion 0\r\n",
      "T00 ERR ... 2025-10-31 2:18:4 Evaluating interaction between qmregion 0 and polarregion 1\r\n",
      "T00 ERR ... 2025-10-31 2:18:4 Evaluating interaction between qmregion 0 and staticregion 2\r\n",
      "T00 ERR ... Running DFT calculation\r\n",
      "T00 ERR ... 2025-10-31 2:18:4 Using 2 threads\r\n",
      "T00 ERR ... 2025-10-31 2:18:4 Using native Eigen implementation, no BLAS overload \r\n",
      "T00 ERR ...  Molecule Coordinates [A] \r\n",
      "T00 ERR ...   C   +30.3000 +1.2704 +5.5205\r\n",
      "T00 ERR ...   H   +31.2392 +1.4802 +6.0301\r\n",
      "T00 ERR ...   H   +30.4910 +0.6554 +4.6433\r\n",
      "T00 ERR ...   H   +29.8500 +2.2100 +5.2100\r\n",
      "T00 ERR ...   H   +29.6200 +0.7500 +6.2000\r\n",
      "T00 ERR ... 2025-10-31 2:18:4 Loaded DFT Basis Set 3-21G with 17 functions\r\n",
      "T00 ERR ... 2025-10-31 2:18:4 Loaded AUX Basis Set aux-def2-svp with 104 functions\r\n",
      "T00 ERR ... 2025-10-31 2:18:4 Total number of electrons: 10\r\n",
      "T00 ERR ... 2025-10-31 2:18:4 Smallest value of AOOverlap matrix is 0.03364074275\r\n",
      "T00 ERR ... 2025-10-31 2:18:4 Removed 0 basisfunction from inverse overlap matrix\r\n",
      "T00 ERR ... 2025-10-31 2:18:4 Convergence Options:\r\n",
      "T00 ERR ... \t\t Delta E [Ha]: 1e-07\r\n",
      "T00 ERR ... \t\t DIIS max error: 1e-07\r\n",
      "T00 ERR ... \t\t DIIS histlength: 20\r\n",
      "T00 ERR ... \t\t ADIIS start: 0.8\r\n",
      "T00 ERR ... \t\t DIIS start: 0.002\r\n",
      "T00 ERR ... \t\t Deleting oldest element from DIIS hist\r\n",
      "T00 ERR ... \t\t Levelshift[Ha]: 0\r\n",
      "T00 ERR ... \t\t Levelshift end: 0.2\r\n",
      "T00 ERR ... \t\t Mixing Parameter alpha: 0.7\r\n",
      "T00 ERR ... 2025-10-31 2:18:4 Setup invariant parts of Electron Repulsion integrals \r\n",
      "T00 ERR ... 2025-10-31 2:18:4 Constructed independent particle hamiltonian \r\n",
      "T00 ERR ... 2025-10-31 2:18:4 Nuclear Repulsion Energy is 13.4434088\r\n",
      "T00 ERR ... 2025-10-31 2:18:4 1350 External sites\r\n",
      "T00 ERR ...  Name      Coordinates[a0]     charge[e]         dipole[e*a0]    \r\n",
      "T00 ERR ...   C   +63.8902 +7.9543 +11.0171   -0.3282   +0.0089 +0.0011 -0.0060\r\n",
      "T00 ERR ...   H   +62.3892 +6.5470 +10.9796   +0.0824   +0.0094 +0.0028 -0.0001\r\n",
      "T00 ERR ...   H   +65.3194 +7.4736 +9.6186   +0.0822   +0.0038 -0.0009 -0.0023\r\n",
      "T00 ERR ...   H   +63.1170 +9.8077 +10.6203   +0.0817   +0.0015 +0.0014 +0.0010\r\n",
      "T00 ERR ...   H   +64.7422 +7.9557 +12.9068   +0.0819   +0.0043 +0.0033 -0.0007\r\n",
      "T00 ERR ...   C   +63.9128 -0.3996 +22.8673   -0.3282   -0.0029 +0.0014 +0.0052\r\n",
      "T00 ERR ...   H   +63.0449 -1.1731 +21.1692   +0.0824   -0.0001 -0.0006 +0.0015\r\n",
      "T00 ERR ...   H   +62.7676 +1.1530 +23.5795   +0.0822   -0.0015 +0.0049 +0.0022\r\n",
      "T00 ERR ...   H   +64.0430 -1.8922 +24.2830   +0.0817   +0.0010 -0.0003 -0.0009\r\n",
      "T00 ERR ...   H   +65.8004 +0.2810 +22.4122   +0.0819   -0.0036 -0.0009 +0.0017\r\n",
      "T00 ERR ...   C   +61.7182 -0.4374 -3.3115   -0.3282   -0.0002 -0.0018 +0.0010\r\n",
      "T00 ERR ...   H   +60.6600 -1.0798 -4.9554   +0.0824   +0.0011 +0.0014 +0.0012\r\n",
      "T00 ERR ...   H   +63.3309 +0.6815 -3.9252   +0.0822   -0.0014 -0.0019 -0.0005\r\n",
      "T00 ERR ...   H   +62.3800 -2.0623 -2.2148   +0.0817   +0.0010 -0.0019 +0.0013\r\n",
      "T00 ERR ...   H   +60.5092 +0.7345 -2.1392   +0.0819   -0.0027 -0.0035 -0.0019\r\n",
      "T00 ERR ...   C   +62.0402 +12.7739 +4.5175   -0.3282   +0.0027 +0.0004 +0.0017\r\n",
      "T00 ERR ...   H   +60.1049 +13.3052 +4.0622   +0.0824   +0.0002 -0.0013 -0.0010\r\n",
      "T00 ERR ...   H   +62.0812 +11.8167 +6.3372   +0.0822   +0.0006 -0.0022 -0.0015\r\n",
      "T00 ERR ...   H   +63.2115 +14.4753 +4.6109   +0.0817   +0.0028 +0.0023 +0.0014\r\n",
      "T00 ERR ...   H   +62.7769 +11.5084 +3.0803   +0.0819   -0.0003 -0.0009 +0.0006\r\n",
      "T00 ERR ...   C   +60.6789 +14.3239 +12.6808   -0.3282   -0.0019 +0.0028 +0.0015\r\n",
      "T00 ERR ...   H   +61.0756 +13.9461 +10.6972   +0.0824   -0.0038 +0.0040 -0.0004\r\n",
      "T00 ERR ...   H   +61.0224 +16.3108 +13.0851   +0.0822   -0.0001 +0.0006 +0.0033\r\n",
      "T00 ERR ...   H   +58.7327 +13.8328 +13.0580   +0.0817   +0.0007 -0.0002 +0.0003\r\n",
      "T00 ERR ...   H   +61.9074 +13.1525 +13.8517   +0.0819   -0.0006 -0.0006 +0.0035\r\n",
      "T00 ERR ...   C   +68.7870 +4.1961 +17.9521   -0.3282   +0.0049 +0.0003 +0.0063\r\n",
      "T00 ERR ...   H   +68.2015 +2.4962 +18.9532   +0.0824   +0.0001 -0.0005 -0.0013\r\n",
      "T00 ERR ...   H   +67.2445 +4.8625 +16.7665   +0.0822   +0.0015 -0.0030 +0.0028\r\n",
      "T00 ERR ...   H   +70.4303 +3.7606 +16.7997   +0.0817   -0.0007 +0.0010 +0.0004\r\n",
      "T00 ERR ...   H   +69.2964 +5.6503 +19.3130   +0.0819   +0.0011 +0.0009 +0.0055\r\n",
      "T00 ERR ...   C   +54.0832 +4.4983 +27.1938   -0.3282   -0.0007 -0.0025 -0.0012\r\n",
      "T00 ERR ...   H   +53.5372 +6.4564 +27.5139   +0.0824   -0.0012 -0.0015 +0.0002\r\n",
      "T00 ERR ...   H   +52.9768 +3.2670 +28.4141   +0.0822   -0.0007 -0.0015 +0.0003\r\n",
      "T00 ERR ...   H   +53.7249 +4.0062 +25.2278   +0.0817   +0.0021 -0.0009 +0.0002\r\n",
      "T00 ERR ...   H   +56.0682 +4.2330 +27.6278   +0.0819   -0.0032 +0.0014 -0.0015\r\n",
      "T00 ERR ...   C   +63.8174 +6.3112 -1.0788   -0.3282   -0.0007 -0.0003 -0.0004\r\n",
      "T00 ERR ...   H   +65.2393 +6.4796 +0.3993   +0.0824   -0.0003 -0.0010 +0.0014\r\n",
      "T00 ERR ...   H   +62.4364 +4.8836 -0.5459   +0.0822   +0.0020 +0.0009 -0.0008\r\n",
      "T00 ERR ...   H   +64.7422 +5.7637 -2.8384   +0.0817   -0.0005 +0.0027 +0.0002\r\n",
      "T00 ERR ...   H   +62.8903 +8.1258 -1.3455   +0.0819   -0.0006 -0.0016 -0.0037\r\n",
      "T00 ERR ...   C   +64.1752 +19.2751 +7.8615   -0.3282   +0.0049 -0.0000 +0.0006\r\n",
      "T00 ERR ...   H   +62.9276 +19.0860 +6.2359   +0.0824   -0.0011 +0.0004 +0.0021\r\n",
      "T00 ERR ...   H   +63.4396 +18.1623 +9.4267   +0.0822   +0.0013 -0.0002 -0.0003\r\n",
      "T00 ERR ...   H   +66.0461 +18.6138 +7.3699   +0.0817   +0.0012 -0.0009 -0.0001\r\n",
      "T00 ERR ...   H   +64.2509 +21.2405 +8.4282   +0.0819   +0.0017 +0.0008 -0.0004\r\n",
      "T00 ERR ...   C   +61.3975 +17.7254 +18.4625   -0.3282   +0.0021 -0.0003 +0.0025\r\n",
      "T00 ERR ...   H   +60.9990 +19.0346 +16.9256   +0.0824   -0.0004 +0.0012 +0.0002\r\n",
      "T00 ERR ...   H   +61.0958 +18.6680 +20.2653   +0.0822   +0.0001 +0.0000 +0.0003\r\n",
      "T00 ERR ...   H   +60.1502 +16.1005 +18.3303   +0.0817   +0.0028 +0.0005 -0.0006\r\n",
      "T00 ERR ...   H   +63.3627 +17.1020 +18.3492   +0.0819   -0.0014 -0.0005 +0.0014\r\n",
      "T00 ERR ...               ... (1300 sites not displayed)\r\n"
     ]
    },
    {
     "name": "stdout",
     "output_type": "stream",
     "text": [
      "\r\n",
      "T00 ERR ... 2025-10-31 2:18:4 Filled DFT external multipole potential matrix\r\n",
      "T00 ERR ... 2025-10-31 2:18:4 Nuclei-external site interaction energy 0.0204347161\r\n",
      "T00 ERR ... 2025-10-31 2:18:4 Using hybrid functional with alpha=0.25"
     ]
    },
    {
     "name": "stdout",
     "output_type": "stream",
     "text": [
      "\r\n",
      "T00 ERR ... 2025-10-31 2:18:4 Setup numerical integration grid medium for vxc functional XC_HYB_GGA_XC_PBEH\r\n",
      "T00 ERR ... 2025-10-31 2:18:4 Setup Initial Guess using: atom\r\n",
      "T00 ERR ... 2025-10-31 2:18:4 Calculating atom density for C"
     ]
    },
    {
     "name": "stdout",
     "output_type": "stream",
     "text": [
      "\r\n",
      "T00 ERR ... 2025-10-31 2:18:5 Calculating atom density for H"
     ]
    },
    {
     "name": "stdout",
     "output_type": "stream",
     "text": [
      "\r\n",
      "T00 ERR ... 2025-10-31 2:18:5 STARTING SCF cycle\r\n",
      "T00 ERR ...  --------------------------------------------------------------------------\r\n",
      "T00 ERR ... \r\n",
      "T00 ERR ... 2025-10-31 2:18:5 Iteration 1 of 100"
     ]
    },
    {
     "name": "stdout",
     "output_type": "stream",
     "text": [
      "\r\n",
      "T00 ERR ... 2025-10-31 2:18:5 Total Energy -40.1456674358\r\n",
      "T00 ERR ... 2025-10-31 2:18:5 DIIs error 0.219656572574\r\n",
      "T00 ERR ... 2025-10-31 2:18:5 Delta Etot 0\r\n",
      "T00 ERR ... \r\n",
      "T00 ERR ... 2025-10-31 2:18:5 Iteration 2 of 100"
     ]
    },
    {
     "name": "stdout",
     "output_type": "stream",
     "text": [
      "\r\n",
      "T00 ERR ... 2025-10-31 2:18:5 Total Energy -40.1815858382\r\n",
      "T00 ERR ... 2025-10-31 2:18:5 DIIs error 0.128764125572\r\n",
      "T00 ERR ... 2025-10-31 2:18:5 Delta Etot -0.0359184023833\r\n",
      "T00 ERR ... \r\n",
      "T00 ERR ... 2025-10-31 2:18:5 Iteration 3 of 100"
     ]
    },
    {
     "name": "stdout",
     "output_type": "stream",
     "text": [
      "\r\n",
      "T00 ERR ... 2025-10-31 2:18:5 Total Energy -40.1980600637\r\n",
      "T00 ERR ... 2025-10-31 2:18:5 DIIs error 0.0793380619141\r\n",
      "T00 ERR ... 2025-10-31 2:18:5 Delta Etot -0.0164742254361\r\n",
      "T00 ERR ... \r\n",
      "T00 ERR ... 2025-10-31 2:18:5 Iteration 4 of 100"
     ]
    },
    {
     "name": "stdout",
     "output_type": "stream",
     "text": [
      "\r\n",
      "T00 ERR ... 2025-10-31 2:18:5 Total Energy -40.2287207798\r\n",
      "T00 ERR ... 2025-10-31 2:18:5 DIIs error 0.0296187555716\r\n",
      "T00 ERR ... 2025-10-31 2:18:5 Delta Etot -0.0306607161756\r\n",
      "T00 ERR ... \r\n",
      "T00 ERR ... 2025-10-31 2:18:5 Iteration 5 of 100"
     ]
    },
    {
     "name": "stdout",
     "output_type": "stream",
     "text": [
      "\r\n",
      "T00 ERR ... 2025-10-31 2:18:5 Total Energy -40.2286128974\r\n",
      "T00 ERR ... 2025-10-31 2:18:5 DIIs error 0.0311988005347\r\n",
      "T00 ERR ... 2025-10-31 2:18:5 Delta Etot 0.00010788242713\r\n",
      "T00 ERR ... \r\n",
      "T00 ERR ... 2025-10-31 2:18:5 Iteration 6 of 100"
     ]
    },
    {
     "name": "stdout",
     "output_type": "stream",
     "text": [
      "\r\n",
      "T00 ERR ... 2025-10-31 2:18:5 Total Energy -40.2309642283\r\n",
      "T00 ERR ... 2025-10-31 2:18:5 DIIs error 0.000318949139998\r\n",
      "T00 ERR ... 2025-10-31 2:18:5 Delta Etot -0.00235133091559\r\n",
      "T00 ERR ... \r\n",
      "T00 ERR ... 2025-10-31 2:18:5 Iteration 7 of 100"
     ]
    },
    {
     "name": "stdout",
     "output_type": "stream",
     "text": [
      "\r\n",
      "T00 ERR ... 2025-10-31 2:18:5 Total Energy -40.2309644832\r\n",
      "T00 ERR ... 2025-10-31 2:18:5 DIIs error 2.04339949216e-05\r\n",
      "T00 ERR ... 2025-10-31 2:18:5 Delta Etot -2.54897628338e-07\r\n",
      "T00 ERR ... \r\n",
      "T00 ERR ... 2025-10-31 2:18:5 Iteration 8 of 100"
     ]
    },
    {
     "name": "stdout",
     "output_type": "stream",
     "text": [
      "\r\n",
      "T00 ERR ... 2025-10-31 2:18:5 Total Energy -40.2309644835\r\n",
      "T00 ERR ... 2025-10-31 2:18:5 DIIs error 1.08208146563e-05\r\n",
      "T00 ERR ... 2025-10-31 2:18:5 Delta Etot -2.42970088493e-10\r\n",
      "T00 ERR ... \r\n",
      "T00 ERR ... 2025-10-31 2:18:5 Iteration 9 of 100"
     ]
    },
    {
     "name": "stdout",
     "output_type": "stream",
     "text": [
      "\r\n",
      "T00 ERR ... 2025-10-31 2:18:5 Total Energy -40.2309644838\r\n",
      "T00 ERR ... 2025-10-31 2:18:5 DIIs error 3.49441975964e-06\r\n",
      "T00 ERR ... 2025-10-31 2:18:5 Delta Etot -3.89142940094e-10\r\n",
      "T00 ERR ... \r\n",
      "T00 ERR ... 2025-10-31 2:18:5 Iteration 10 of 100"
     ]
    },
    {
     "name": "stdout",
     "output_type": "stream",
     "text": [
      "\r\n",
      "T00 ERR ... 2025-10-31 2:18:5 Total Energy -40.2309644839\r\n",
      "T00 ERR ... 2025-10-31 2:18:5 DIIs error 9.0913322314e-07\r\n",
      "T00 ERR ... 2025-10-31 2:18:5 Delta Etot -4.52899939773e-11\r\n",
      "T00 ERR ... \r\n",
      "T00 ERR ... 2025-10-31 2:18:5 Iteration 11 of 100"
     ]
    },
    {
     "name": "stdout",
     "output_type": "stream",
     "text": [
      "\r\n",
      "T00 ERR ... 2025-10-31 2:18:5 Total Energy -40.2309644839\r\n",
      "T00 ERR ... 2025-10-31 2:18:5 DIIs error 1.36339654391e-09\r\n",
      "T00 ERR ... 2025-10-31 2:18:5 Delta Etot -2.99849034491e-12\r\n",
      "T00 ERR ... 2025-10-31 2:18:5 Total Energy has converged to -2.99849034e-12[Ha] after 11 iterations. DIIS error is converged up to 1.36339654e-09\r\n",
      "T00 ERR ... 2025-10-31 2:18:5 Final Single Point Energy -40.2309644839 Ha\r\n",
      "T00 ERR ... 2025-10-31 2:18:5 Final Local Exc contribution -5.18429664439 Ha\r\n",
      "T00 ERR ... 2025-10-31 2:18:5 Final Non Local Ex contribution -1.63926629433 Ha\r\n",
      "T00 ERR ...   Orbital energies: \r\n",
      "T00 ERR ...   index occupation energy(Hartree) \r\n",
      "T00 ERR ...      0      2   -10.1479491943\r\n",
      "T00 ERR ...      1      2   -0.7122273235\r\n",
      "T00 ERR ...      2      2   -0.4030266702\r\n",
      "T00 ERR ...      3      2   -0.4013525153\r\n",
      "T00 ERR ...      4      2   -0.3991098050\r\n",
      "T00 ERR ...      5      0   +0.1607314335\r\n",
      "T00 ERR ...      6      0   +0.2030165024\r\n",
      "T00 ERR ...      7      0   +0.2081532088\r\n",
      "T00 ERR ...      8      0   +0.2102886357\r\n",
      "T00 ERR ...      9      0   +0.7241146280\r\n",
      "T00 ERR ...     10      0   +0.7253273949\r\n",
      "T00 ERR ...     11      0   +0.7278593626\r\n",
      "T00 ERR ...     12      0   +1.0556248203\r\n",
      "T00 ERR ...     13      0   +1.0854035493\r\n",
      "T00 ERR ...     14      0   +1.0904185659\r\n",
      "T00 ERR ...     15      0   +1.0921194594\r\n",
      "T00 ERR ...     16      0   +1.7121072410\r\n",
      "T00 ERR ... 2025-10-31 2:18:5 Electric Dipole is[e*bohr]:\r\n",
      "\t\t dx=0.0192977061248\r\n",
      "\t\t dy=0.0353471737003\r\n",
      "\t\t dz=-0.0142862509563\r\n",
      "T00 ERR ... Writing result to temp.orb\r\n",
      "T00 ERR ... 2025-10-31 2:18:5 DFT calculation took 1.620276098 seconds.\r\n",
      "T00 ERR ... 2025-10-31 2:18:5 RPA level range [0:16]\r\n",
      "T00 ERR ... 2025-10-31 2:18:5 GW  level range [0:16]\r\n",
      "T00 ERR ... 2025-10-31 2:18:5 BSE level range occ[0:4]  virt[5:16]\r\n",
      "T00 ERR ...  BSE type: full\r\n",
      "T00 ERR ... 2025-10-31 2:18:5 BSE Hamiltonian has size 120x120\r\n",
      "T00 ERR ...  BSE without Hqp offdiagonal elements\r\n",
      "T00 ERR ...  Running GW as: G0W0\r\n",
      "T00 ERR ...  qp_sc_limit [Hartree]: 1e-05\r\n",
      "T00 ERR ...  Tasks: \r\n",
      "T00 ERR ...  GW \r\n",
      "T00 ERR ...  singlets \r\n",
      "T00 ERR ...  triplets \r\n",
      "T00 ERR ...  Store: \r\n",
      "T00 ERR ...  GW \r\n",
      "T00 ERR ...  Sigma integration: ppm\r\n",
      "T00 ERR ...  eta: 0.001\r\n",
      "T00 ERR ...  QP solver: grid\r\n",
      "T00 ERR ...  QP grid steps: 1001\r\n",
      "T00 ERR ...  QP grid spacing: 0.001\r\n",
      "T00 ERR ... 2025-10-31 2:18:5 Using 2 threads\r\n",
      "T00 ERR ... 2025-10-31 2:18:5 Using native Eigen implementation, no BLAS overload \r\n",
      "T00 ERR ... 2025-10-31 2:18:5 Molecule Coordinates [A] \r\n",
      "T00 ERR ...     0    C   30.3000 1.2704 5.5205\r\n",
      "T00 ERR ...     1    H   31.2392 1.4802 6.0301\r\n",
      "T00 ERR ...     2    H   30.4910 0.6554 4.6433\r\n",
      "T00 ERR ...     3    H   29.8500 2.2100 5.2100\r\n",
      "T00 ERR ...     4    H   29.6200 0.7500 6.2000\r\n",
      "T00 ERR ... 2025-10-31 2:18:5 DFT data was created by xtp\r\n",
      "T00 ERR ... 2025-10-31 2:18:5 Loaded DFT Basis Set 3-21G\r\n",
      "T00 ERR ... 2025-10-31 2:18:5 Filled DFT Basis of size 17\r\n",
      "T00 ERR ... 2025-10-31 2:18:5 Loaded Auxbasis Set aux-def2-svp\r\n",
      "T00 ERR ... 2025-10-31 2:18:5 Filled Auxbasis of size 104\r\n",
      "T00 ERR ... 2025-10-31 2:18:5 Calculating Mmn_beta (3-center-repulsion x orbitals)  \r\n",
      "T00 ERR ... 2025-10-31 2:18:5 Calculated Mmn_beta (3-center-repulsion x orbitals)  "
     ]
    },
    {
     "name": "stdout",
     "output_type": "stream",
     "text": [
      "\r\n",
      "T00 ERR ... 2025-10-31 2:18:6 Integrating Vxc with functional XC_HYB_GGA_XC_PBEH"
     ]
    },
    {
     "name": "stdout",
     "output_type": "stream",
     "text": [
      "\r\n",
      "T00 ERR ... 2025-10-31 2:18:6 Set hybrid exchange factor: 0.25\r\n",
      "T00 ERR ... 2025-10-31 2:18:6 Calculated exchange-correlation expectation values \r\n",
      "T00 ERR ... 2025-10-31 2:18:6 Calculated Hartree exchange contribution\r\n",
      "T00 ERR ... 2025-10-31 2:18:6 Scissor shifting DFT energies by: 0 Hrt"
     ]
    },
    {
     "name": "stdout",
     "output_type": "stream",
     "text": [
      "\r\n",
      "T00 ERR ...   ====== Perturbative quasiparticle energies (Hartree) ====== \r\n",
      "T00 ERR ...    DeltaHLGap = +0.215513 Hartree\r\n",
      "T00 ERR ...   Level =    0 DFT = -10.1479 VXC = -1.7031 S-X = -2.6689 S-C = +0.5631 GWA = -10.5506\r\n",
      "T00 ERR ...   Level =    1 DFT = -0.7122 VXC = -0.4404 S-X = -0.6606 S-C = +0.1083 GWA = -0.8241\r\n",
      "T00 ERR ...   Level =    2 DFT = -0.4030 VXC = -0.3959 S-X = -0.5286 S-C = +0.0324 GWA = -0.5033\r\n",
      "T00 ERR ...   Level =    3 DFT = -0.4014 VXC = -0.3967 S-X = -0.5298 S-C = +0.0328 GWA = -0.5016\r\n",
      "T00 ERR ...   HOMO  =    4 DFT = -0.3991 VXC = -0.3970 S-X = -0.5300 S-C = +0.0329 GWA = -0.4993\r\n",
      "T00 ERR ...   LUMO  =    5 DFT = +0.1607 VXC = -0.2418 S-X = -0.1018 S-C = -0.0246 GWA = +0.2761\r\n",
      "T00 ERR ...   Level =    6 DFT = +0.2030 VXC = -0.2616 S-X = -0.1101 S-C = -0.0238 GWA = +0.3308\r\n",
      "T00 ERR ...   Level =    7 DFT = +0.2082 VXC = -0.2612 S-X = -0.1097 S-C = -0.0239 GWA = +0.3358\r\n",
      "T00 ERR ...   Level =    8 DFT = +0.2103 VXC = -0.2613 S-X = -0.1098 S-C = -0.0238 GWA = +0.3379\r\n",
      "T00 ERR ...   Level =    9 DFT = +0.7241 VXC = -0.3183 S-X = -0.1082 S-C = -0.0635 GWA = +0.8706\r\n",
      "T00 ERR ...   Level =   10 DFT = +0.7253 VXC = -0.3182 S-X = -0.1080 S-C = -0.0638 GWA = +0.8718\r\n",
      "T00 ERR ...   Level =   11 DFT = +0.7279 VXC = -0.3177 S-X = -0.1073 S-C = -0.0643 GWA = +0.8740\r\n",
      "T00 ERR ...   Level =   12 DFT = +1.0556 VXC = -0.4047 S-X = -0.1334 S-C = -0.0323 GWA = +1.2946\r\n",
      "T00 ERR ...   Level =   13 DFT = +1.0854 VXC = -0.3963 S-X = -0.1274 S-C = -0.1740 GWA = +1.1803\r\n",
      "T00 ERR ...   Level =   14 DFT = +1.0904 VXC = -0.3953 S-X = -0.1271 S-C = -0.1730 GWA = +1.1857\r\n",
      "T00 ERR ...   Level =   15 DFT = +1.0921 VXC = -0.3946 S-X = -0.1268 S-C = -0.1726 GWA = +1.1873\r\n",
      "T00 ERR ...   Level =   16 DFT = +1.7121 VXC = -0.3559 S-X = -0.1045 S-C = -0.0297 GWA = +1.9338\r\n",
      "T00 ERR ... 2025-10-31 2:18:6 Calculated offdiagonal part of Sigma  \r\n",
      "T00 ERR ... 2025-10-31 2:18:6 Full quasiparticle Hamiltonian  \r\n",
      "T00 ERR ...   ====== Diagonalized quasiparticle energies (Hartree) ====== \r\n",
      "T00 ERR ...   Level =    0 PQP = -10.550599 DQP = -10.550784 \r\n",
      "T00 ERR ...   Level =    1 PQP = -0.824113 DQP = -0.824557 \r\n",
      "T00 ERR ...   Level =    2 PQP = -0.503318 DQP = -0.503594 \r\n",
      "T00 ERR ...   Level =    3 PQP = -0.501552 DQP = -0.501758 \r\n",
      "T00 ERR ...   HOMO  =    4 PQP = -0.499251 DQP = -0.499443 \r\n",
      "T00 ERR ...   LUMO  =    5 PQP = +0.276103 DQP = +0.267905 \r\n",
      "T00 ERR ...   Level =    6 PQP = +0.330786 DQP = +0.328899 \r\n",
      "T00 ERR ...   Level =    7 PQP = +0.335767 DQP = +0.334337 \r\n",
      "T00 ERR ...   Level =    8 PQP = +0.337929 DQP = +0.336522 \r\n",
      "T00 ERR ...   Level =    9 PQP = +0.870623 DQP = +0.868941 \r\n",
      "T00 ERR ...   Level =   10 PQP = +0.871774 DQP = +0.869911 \r\n",
      "T00 ERR ...   Level =   11 PQP = +0.873964 DQP = +0.871691 \r\n",
      "T00 ERR ...   Level =   12 PQP = +1.294578 DQP = +1.183177 \r\n",
      "T00 ERR ...   Level =   13 PQP = +1.180304 DQP = +1.189608 \r\n",
      "T00 ERR ...   Level =   14 PQP = +1.185714 DQP = +1.191516 \r\n",
      "T00 ERR ...   Level =   15 PQP = +1.187298 DQP = +1.289807 \r\n",
      "T00 ERR ...   Level =   16 PQP = +1.933788 DQP = +1.947619 \r\n",
      "T00 ERR ... 2025-10-31 2:18:6 Diagonalized QP Hamiltonian  \r\n",
      "T00 ERR ... 2025-10-31 2:18:6 GW calculation took 0.125425027 seconds.\r\n",
      "T00 ERR ... 2025-10-31 2:18:6 Setup Full triplet hamiltonian \r\n",
      "T00 ERR ... 2025-10-31 2:18:6 Davidson Solver using 2 threads.\r\n",
      "T00 ERR ... 2025-10-31 2:18:6 Tolerance : 0.0001\r\n",
      "T00 ERR ... 2025-10-31 2:18:6 DPR Correction\r\n",
      "T00 ERR ... 2025-10-31 2:18:6 Matrix size : 120x120\r\n",
      "T00 ERR ... 2025-10-31 2:18:6 iter\tSearch Space\tNorm\r\n",
      "T00 ERR ... 2025-10-31 2:18:6    0           20 \t 1.28e-01 \t  0.00% converged\r\n",
      "T00 ERR ... 2025-10-31 2:18:6    1           35 \t 1.41e-02 \t  0.00% converged\r\n",
      "T00 ERR ... 2025-10-31 2:18:6    2           50 \t 8.59e-04 \t 10.00% converged\r\n",
      "T00 ERR ... 2025-10-31 2:18:6    3           62 \t 2.81e-05 \t 100.00% converged\r\n",
      "T00 ERR ... 2025-10-31 2:18:6 Davidson converged after 3 iterations.\r\n",
      "T00 ERR ... 2025-10-31 2:18:6-----------------------------------\r\n",
      "T00 ERR ... 2025-10-31 2:18:6- Davidson ran for 0.007246813secs.\r\n",
      "T00 ERR ... 2025-10-31 2:18:6-----------------------------------\r\n",
      "T00 ERR ... 2025-10-31 2:18:6 Solved BSE for triplets \r\n",
      "T00 ERR ...   ====== triplet energies (eV) ====== \r\n",
      "T00 ERR ...   T =    1 Omega = +11.590627550523 eV  lamdba = +106.98 nm <FT> = +22.7905 <K_d> = -11.2000\r\n",
      "T00 ERR ...    \r\n",
      "T00 ERR ...   T =    2 Omega = +11.768399831514 eV  lamdba = +105.37 nm <FT> = +22.9506 <K_d> = -11.1822\r\n",
      "T00 ERR ...    \r\n",
      "T00 ERR ...   T =    3 Omega = +11.826923914531 eV  lamdba = +104.85 nm <FT> = +22.4823 <K_d> = -10.6554\r\n",
      "T00 ERR ...    \r\n",
      "T00 ERR ...   T =    4 Omega = +11.875230259536 eV  lamdba = +104.42 nm <FT> = +22.4505 <K_d> = -10.5753\r\n",
      "T00 ERR ...    \r\n",
      "T00 ERR ...   T =    5 Omega = +13.656776293489 eV  lamdba = +90.80 nm <FT> = +22.2470 <K_d> = -8.5903\r\n",
      "T00 ERR ...    \r\n",
      "T00 ERR ...   T =    6 Omega = +13.750474335855 eV  lamdba = +90.18 nm <FT> = +22.2954 <K_d> = -8.5449\r\n",
      "T00 ERR ...    \r\n",
      "T00 ERR ...   T =    7 Omega = +13.943140574735 eV  lamdba = +88.93 nm <FT> = +22.3951 <K_d> = -8.4520\r\n",
      "T00 ERR ...    \r\n",
      "T00 ERR ...   T =    8 Omega = +14.129689426829 eV  lamdba = +87.76 nm <FT> = +22.7314 <K_d> = -8.6017\r\n",
      "T00 ERR ...            HOMO-0   -> LUMO+1    : 72.0%\r\n",
      "T00 ERR ...    \r\n",
      "T00 ERR ...   T =    9 Omega = +14.226327654072 eV  lamdba = +87.16 nm <FT> = +22.8418 <K_d> = -8.6155\r\n",
      "T00 ERR ...    \r\n",
      "T00 ERR ...   T =   10 Omega = +14.374586671078 eV  lamdba = +86.26 nm <FT> = +22.8659 <K_d> = -8.4913\r\n",
      "T00 ERR ...            HOMO-2   -> LUMO+2    : 56.2%\r\n",
      "T00 ERR ...    \r\n",
      "T00 ERR ... 2025-10-31 2:18:6 Setup Full singlet hamiltonian \r\n",
      "T00 ERR ... 2025-10-31 2:18:6 Davidson Solver using 2 threads.\r\n",
      "T00 ERR ... 2025-10-31 2:18:6 Tolerance : 0.0001\r\n",
      "T00 ERR ... 2025-10-31 2:18:6 DPR Correction\r\n",
      "T00 ERR ... 2025-10-31 2:18:6 Matrix size : 120x120\r\n",
      "T00 ERR ... 2025-10-31 2:18:6 iter\tSearch Space\tNorm\r\n",
      "T00 ERR ... 2025-10-31 2:18:6    0           20 \t 1.28e-01 \t  0.00% converged\r\n",
      "T00 ERR ... 2025-10-31 2:18:6    1           35 \t 1.29e-02 \t  0.00% converged\r\n",
      "T00 ERR ... 2025-10-31 2:18:6    2           50 \t 9.32e-04 \t 40.00% converged\r\n",
      "T00 ERR ... 2025-10-31 2:18:6    3           61 \t 3.38e-05 \t 100.00% converged\r\n",
      "T00 ERR ... 2025-10-31 2:18:6 Davidson converged after 3 iterations.\r\n",
      "T00 ERR ... 2025-10-31 2:18:6-----------------------------------\r\n",
      "T00 ERR ... 2025-10-31 2:18:6- Davidson ran for 0.007916467secs.\r\n",
      "T00 ERR ... 2025-10-31 2:18:6-----------------------------------\r\n",
      "T00 ERR ... 2025-10-31 2:18:6 Solved BSE for singlets \r\n",
      "T00 ERR ...   ====== singlet energies (eV) ====== \r\n",
      "T00 ERR ...   S =    1 Omega = +13.838611776696 eV  lamdba = +89.60 nm <FT> = +21.2209 <K_x> = +0.9777 <K_d> = -8.3599\r\n",
      "T00 ERR ...            TrDipole length gauge[e*bohr]  dx = +0.5301 dy = -0.4093 dz = +0.3396 |d|^2 = +0.5639 f = +0.1912\r\n",
      "T00 ERR ...            HOMO-0   -> LUMO+0    : 98.7%\r\n",
      "T00 ERR ... \r\n",
      "T00 ERR ...   S =    2 Omega = +13.899998164271 eV  lamdba = +89.21 nm <FT> = +21.2940 <K_x> = +1.0288 <K_d> = -8.4228\r\n",
      "T00 ERR ...            TrDipole length gauge[e*bohr]  dx = -0.1901 dy = -0.6257 dz = -0.4731 |d|^2 = +0.6515 f = +0.2219\r\n",
      "T00 ERR ...            HOMO-1   -> LUMO+0    : 97.0%\r\n",
      "T00 ERR ... \r\n",
      "T00 ERR ...   S =    3 Omega = +13.966194038949 eV  lamdba = +88.79 nm <FT> = +21.3573 <K_x> = +1.1858 <K_d> = -8.5769\r\n",
      "T00 ERR ...            TrDipole length gauge[e*bohr]  dx = -0.6224 dy = -0.3187 dz = +0.6421 |d|^2 = +0.9012 f = +0.3084\r\n",
      "T00 ERR ...            HOMO-2   -> LUMO+0    : 97.5%\r\n",
      "T00 ERR ... \r\n",
      "T00 ERR ...   S =    4 Omega = +14.551205121979 eV  lamdba = +85.22 nm <FT> = +22.7164 <K_x> = +0.3386 <K_d> = -8.5038\r\n",
      "T00 ERR ...            TrDipole length gauge[e*bohr]  dx = -0.1703 dy = +0.0701 dz = -0.0440 |d|^2 = +0.0359 f = +0.0128\r\n",
      "T00 ERR ...            HOMO-0   -> LUMO+1    : 77.0%\r\n",
      "T00 ERR ... \r\n",
      "T00 ERR ...   S =    5 Omega = +14.601169987722 eV  lamdba = +84.92 nm <FT> = +22.7823 <K_x> = +0.3231 <K_d> = -8.5042\r\n",
      "T00 ERR ...            TrDipole length gauge[e*bohr]  dx = -0.0460 dy = +0.1293 dz = +0.2158 |d|^2 = +0.0654 f = +0.0234\r\n",
      "T00 ERR ...            HOMO-1   -> LUMO+1    : 60.6%\r\n",
      "T00 ERR ... \r\n",
      "T00 ERR ...   S =    6 Omega = +14.637446478207 eV  lamdba = +84.71 nm <FT> = +22.8480 <K_x> = +0.2778 <K_d> = -8.4884\r\n",
      "T00 ERR ...            TrDipole length gauge[e*bohr]  dx = +0.1206 dy = -0.0277 dz = +0.0823 |d|^2 = +0.0221 f = +0.0079\r\n",
      "T00 ERR ...            HOMO-0   -> LUMO+2    : 55.6%\r\n",
      "T00 ERR ... \r\n",
      "T00 ERR ...   S =    7 Omega = +14.990749664804 eV  lamdba = +82.72 nm <FT> = +22.8543 <K_x> = +0.7066 <K_d> = -8.5701\r\n",
      "T00 ERR ...            TrDipole length gauge[e*bohr]  dx = +0.0540 dy = +0.0877 dz = +0.0596 |d|^2 = +0.0142 f = +0.0052\r\n",
      "T00 ERR ... \r\n",
      "T00 ERR ...   S =    8 Omega = +15.014741423129 eV  lamdba = +82.59 nm <FT> = +22.9067 <K_x> = +0.6671 <K_d> = -8.5591\r\n",
      "T00 ERR ...            TrDipole length gauge[e*bohr]  dx = +0.0181 dy = +0.0439 dz = -0.0305 |d|^2 = +0.0032 f = +0.0012\r\n",
      "T00 ERR ...            HOMO-2   -> LUMO+3    : 70.5%\r\n",
      "T00 ERR ... \r\n",
      "T00 ERR ...   S =    9 Omega = +15.999016575609 eV  lamdba = +77.50 nm <FT> = +23.1684 <K_x> = +2.1887 <K_d> = -9.3580\r\n",
      "T00 ERR ...            TrDipole length gauge[e*bohr]  dx = -0.8944 dy = -0.8747 dz = +0.5871 |d|^2 = +1.9096 f = +0.7485\r\n",
      "T00 ERR ...            HOMO-2   -> LUMO+1    : 60.4%\r\n",
      "T00 ERR ... \r\n",
      "T00 ERR ...   S =   10 Omega = +16.031813694305 eV  lamdba = +77.35 nm <FT> = +23.2251 <K_x> = +2.2797 <K_d> = -9.4730\r\n",
      "T00 ERR ...            TrDipole length gauge[e*bohr]  dx = -0.4406 dy = +1.0815 dz = +0.8264 |d|^2 = +2.0466 f = +0.8038\r\n",
      "T00 ERR ... \r\n",
      "T00 ERR ... 2025-10-31 2:18:6 BSE calculation took 0.017691752 seconds.\r\n",
      "T00 ERR ... 2025-10-31 2:18:6 GWBSE calculation finished \r\n",
      "T00 ERR ... Next State is: s1\r\n",
      "T00 ERR ... 2025-10-31 2:18:6 Evaluating polarregion 1\r\n",
      "T00 ERR ... 2025-10-31 2:18:6 Evaluating interaction between polarregion 1 and qmregion 0\r\n",
      "T00 ERR ... Next State is: s1"
     ]
    },
    {
     "name": "stdout",
     "output_type": "stream",
     "text": [
      "\r\n",
      "T00 ERR ... 2025-10-31 2:18:6 Evaluating interaction between polarregion 1 and staticregion 2"
     ]
    },
    {
     "name": "stdout",
     "output_type": "stream",
     "text": [
      "\r\n",
      "T00 ERR ... 2025-10-31 2:18:6 Starting Solving for classical polarization with 1380 degrees of freedom.\r\n",
      "T00 ERR ... 2025-10-31 2:18:6 CG: #iterations: 2, estimated error: 2.73665623788e-05\r\n",
      "T00 ERR ...   Total static energy [hrt]= 0.0009102654542\r\n",
      "T00 ERR ...   Total polar energy [hrt]= 0.0008124374894\r\n",
      "T00 ERR ...  Total energy [hrt]= 0.001722702944\r\n",
      "T00 ERR ... 2025-10-31 2:18:6 Evaluating staticregion 2\r\n",
      "T00 ERR ... 2025-10-31 2:18:6 Writing checkpoint to checkpoint_iter_8.hdf5"
     ]
    },
    {
     "name": "stdout",
     "output_type": "stream",
     "text": [
      "\r\n",
      "T00 ERR ...  Region:qmregion 0 is not converged deltaE=6.418497932e-06 RMS Dmat=0.0003010438462 MaxDmat=0.001733243491\r\n",
      "T00 ERR ... 2025-10-31 2:18:6 Region:polarregion 1 is converged deltaE=3.112542541e-06\r\n",
      "T00 ERR ... 2025-10-31 2:18:6 --Total Energy all regions -39.72068217\r\n",
      "T00 ERR ... 2025-10-31 2:18:6 --Inter Region SCF Iteration 9 of 50\r\n",
      "T00 ERR ... 2025-10-31 2:18:6 Evaluating qmregion 0\r\n",
      "T00 ERR ... 2025-10-31 2:18:6 Evaluating interaction between qmregion 0 and polarregion 1\r\n",
      "T00 ERR ... 2025-10-31 2:18:6 Evaluating interaction between qmregion 0 and staticregion 2\r\n",
      "T00 ERR ... Running DFT calculation\r\n",
      "T00 ERR ... 2025-10-31 2:18:6 Using 2 threads\r\n",
      "T00 ERR ... 2025-10-31 2:18:6 Using native Eigen implementation, no BLAS overload \r\n",
      "T00 ERR ...  Molecule Coordinates [A] \r\n",
      "T00 ERR ...   C   +30.3000 +1.2704 +5.5205\r\n",
      "T00 ERR ...   H   +31.2392 +1.4802 +6.0301\r\n",
      "T00 ERR ...   H   +30.4910 +0.6554 +4.6433\r\n",
      "T00 ERR ...   H   +29.8500 +2.2100 +5.2100\r\n",
      "T00 ERR ...   H   +29.6200 +0.7500 +6.2000\r\n",
      "T00 ERR ... 2025-10-31 2:18:6 Loaded DFT Basis Set 3-21G with 17 functions\r\n",
      "T00 ERR ... 2025-10-31 2:18:6 Loaded AUX Basis Set aux-def2-svp with 104 functions\r\n",
      "T00 ERR ... 2025-10-31 2:18:6 Total number of electrons: 10\r\n",
      "T00 ERR ... 2025-10-31 2:18:6 Smallest value of AOOverlap matrix is 0.03364074275\r\n",
      "T00 ERR ... 2025-10-31 2:18:6 Removed 0 basisfunction from inverse overlap matrix\r\n",
      "T00 ERR ... 2025-10-31 2:18:6 Convergence Options:\r\n",
      "T00 ERR ... \t\t Delta E [Ha]: 1e-07\r\n",
      "T00 ERR ... \t\t DIIS max error: 1e-07\r\n",
      "T00 ERR ... \t\t DIIS histlength: 20\r\n",
      "T00 ERR ... \t\t ADIIS start: 0.8\r\n",
      "T00 ERR ... \t\t DIIS start: 0.002\r\n",
      "T00 ERR ... \t\t Deleting oldest element from DIIS hist\r\n",
      "T00 ERR ... \t\t Levelshift[Ha]: 0\r\n",
      "T00 ERR ... \t\t Levelshift end: 0.2\r\n",
      "T00 ERR ... \t\t Mixing Parameter alpha: 0.7\r\n",
      "T00 ERR ... 2025-10-31 2:18:6 Setup invariant parts of Electron Repulsion integrals \r\n",
      "T00 ERR ... 2025-10-31 2:18:6 Constructed independent particle hamiltonian \r\n",
      "T00 ERR ... 2025-10-31 2:18:6 Nuclear Repulsion Energy is 13.4434088\r\n",
      "T00 ERR ... 2025-10-31 2:18:6 1350 External sites\r\n",
      "T00 ERR ...  Name      Coordinates[a0]     charge[e]         dipole[e*a0]    \r\n",
      "T00 ERR ...   C   +63.8902 +7.9543 +11.0171   -0.3282   +0.0090 +0.0011 -0.0060\r\n",
      "T00 ERR ...   H   +62.3892 +6.5470 +10.9796   +0.0824   +0.0094 +0.0029 -0.0001\r\n",
      "T00 ERR ...   H   +65.3194 +7.4736 +9.6186   +0.0822   +0.0038 -0.0009 -0.0023\r\n",
      "T00 ERR ...   H   +63.1170 +9.8077 +10.6203   +0.0817   +0.0015 +0.0014 +0.0010\r\n",
      "T00 ERR ...   H   +64.7422 +7.9557 +12.9068   +0.0819   +0.0043 +0.0033 -0.0007\r\n",
      "T00 ERR ...   C   +63.9128 -0.3996 +22.8673   -0.3282   -0.0029 +0.0014 +0.0052\r\n",
      "T00 ERR ...   H   +63.0449 -1.1731 +21.1692   +0.0824   -0.0001 -0.0006 +0.0015\r\n",
      "T00 ERR ...   H   +62.7676 +1.1530 +23.5795   +0.0822   -0.0015 +0.0049 +0.0022\r\n",
      "T00 ERR ...   H   +64.0430 -1.8922 +24.2830   +0.0817   +0.0010 -0.0004 -0.0009\r\n",
      "T00 ERR ...   H   +65.8004 +0.2810 +22.4122   +0.0819   -0.0036 -0.0009 +0.0017\r\n",
      "T00 ERR ...   C   +61.7182 -0.4374 -3.3115   -0.3282   -0.0002 -0.0018 +0.0010\r\n",
      "T00 ERR ...   H   +60.6600 -1.0798 -4.9554   +0.0824   +0.0011 +0.0014 +0.0012\r\n",
      "T00 ERR ...   H   +63.3309 +0.6815 -3.9252   +0.0822   -0.0014 -0.0019 -0.0006\r\n",
      "T00 ERR ...   H   +62.3800 -2.0623 -2.2148   +0.0817   +0.0010 -0.0019 +0.0013\r\n",
      "T00 ERR ...   H   +60.5092 +0.7345 -2.1392   +0.0819   -0.0027 -0.0035 -0.0019\r\n",
      "T00 ERR ...   C   +62.0402 +12.7739 +4.5175   -0.3282   +0.0027 +0.0004 +0.0017\r\n",
      "T00 ERR ...   H   +60.1049 +13.3052 +4.0622   +0.0824   +0.0002 -0.0013 -0.0010\r\n",
      "T00 ERR ...   H   +62.0812 +11.8167 +6.3372   +0.0822   +0.0006 -0.0022 -0.0015\r\n",
      "T00 ERR ...   H   +63.2115 +14.4753 +4.6109   +0.0817   +0.0028 +0.0023 +0.0014\r\n",
      "T00 ERR ...   H   +62.7769 +11.5084 +3.0803   +0.0819   -0.0003 -0.0009 +0.0006\r\n",
      "T00 ERR ...   C   +60.6789 +14.3239 +12.6808   -0.3282   -0.0019 +0.0028 +0.0014\r\n",
      "T00 ERR ...   H   +61.0756 +13.9461 +10.6972   +0.0824   -0.0038 +0.0040 -0.0004\r\n",
      "T00 ERR ...   H   +61.0224 +16.3108 +13.0851   +0.0822   -0.0001 +0.0006 +0.0033\r\n",
      "T00 ERR ...   H   +58.7327 +13.8328 +13.0580   +0.0817   +0.0007 -0.0002 +0.0003\r\n",
      "T00 ERR ...   H   +61.9074 +13.1525 +13.8517   +0.0819   -0.0006 -0.0006 +0.0035\r\n",
      "T00 ERR ...   C   +68.7870 +4.1961 +17.9521   -0.3282   +0.0049 +0.0003 +0.0063\r\n",
      "T00 ERR ...   H   +68.2015 +2.4962 +18.9532   +0.0824   +0.0001 -0.0005 -0.0013\r\n",
      "T00 ERR ...   H   +67.2445 +4.8625 +16.7665   +0.0822   +0.0015 -0.0030 +0.0028\r\n",
      "T00 ERR ...   H   +70.4303 +3.7606 +16.7997   +0.0817   -0.0007 +0.0010 +0.0004\r\n",
      "T00 ERR ...   H   +69.2964 +5.6503 +19.3130   +0.0819   +0.0011 +0.0009 +0.0055\r\n",
      "T00 ERR ...   C   +54.0832 +4.4983 +27.1938   -0.3282   -0.0007 -0.0025 -0.0012\r\n",
      "T00 ERR ...   H   +53.5372 +6.4564 +27.5139   +0.0824   -0.0012 -0.0015 +0.0002\r\n",
      "T00 ERR ...   H   +52.9768 +3.2670 +28.4141   +0.0822   -0.0007 -0.0015 +0.0003\r\n",
      "T00 ERR ...   H   +53.7249 +4.0062 +25.2278   +0.0817   +0.0021 -0.0009 +0.0002\r\n",
      "T00 ERR ...   H   +56.0682 +4.2330 +27.6278   +0.0819   -0.0032 +0.0014 -0.0015\r\n",
      "T00 ERR ...   C   +63.8174 +6.3112 -1.0788   -0.3282   -0.0007 -0.0003 -0.0004\r\n",
      "T00 ERR ...   H   +65.2393 +6.4796 +0.3993   +0.0824   -0.0003 -0.0010 +0.0014\r\n",
      "T00 ERR ...   H   +62.4364 +4.8836 -0.5459   +0.0822   +0.0020 +0.0009 -0.0008\r\n",
      "T00 ERR ...   H   +64.7422 +5.7637 -2.8384   +0.0817   -0.0005 +0.0027 +0.0002\r\n",
      "T00 ERR ...   H   +62.8903 +8.1258 -1.3455   +0.0819   -0.0006 -0.0016 -0.0037\r\n",
      "T00 ERR ...   C   +64.1752 +19.2751 +7.8615   -0.3282   +0.0049 -0.0000 +0.0006\r\n",
      "T00 ERR ...   H   +62.9276 +19.0860 +6.2359   +0.0824   -0.0011 +0.0004 +0.0021\r\n",
      "T00 ERR ...   H   +63.4396 +18.1623 +9.4267   +0.0822   +0.0013 -0.0002 -0.0003\r\n",
      "T00 ERR ...   H   +66.0461 +18.6138 +7.3699   +0.0817   +0.0012 -0.0009 -0.0001\r\n",
      "T00 ERR ...   H   +64.2509 +21.2405 +8.4282   +0.0819   +0.0017 +0.0008 -0.0004\r\n",
      "T00 ERR ...   C   +61.3975 +17.7254 +18.4625   -0.3282   +0.0021 -0.0003 +0.0025\r\n",
      "T00 ERR ...   H   +60.9990 +19.0346 +16.9256   +0.0824   -0.0004 +0.0012 +0.0002\r\n",
      "T00 ERR ...   H   +61.0958 +18.6680 +20.2653   +0.0822   +0.0001 +0.0000 +0.0003\r\n",
      "T00 ERR ...   H   +60.1502 +16.1005 +18.3303   +0.0817   +0.0028 +0.0005 -0.0006\r\n",
      "T00 ERR ...   H   +63.3627 +17.1020 +18.3492   +0.0819   -0.0014 -0.0005 +0.0014\r\n",
      "T00 ERR ...               ... (1300 sites not displayed)\r\n"
     ]
    },
    {
     "name": "stdout",
     "output_type": "stream",
     "text": [
      "\r\n",
      "T00 ERR ... 2025-10-31 2:18:6 Filled DFT external multipole potential matrix\r\n",
      "T00 ERR ... 2025-10-31 2:18:6 Nuclei-external site interaction energy 0.0204347161\r\n",
      "T00 ERR ... 2025-10-31 2:18:6 Using hybrid functional with alpha=0.25"
     ]
    },
    {
     "name": "stdout",
     "output_type": "stream",
     "text": [
      "\r\n",
      "T00 ERR ... 2025-10-31 2:18:6 Setup numerical integration grid medium for vxc functional XC_HYB_GGA_XC_PBEH\r\n",
      "T00 ERR ... 2025-10-31 2:18:6 Setup Initial Guess using: atom\r\n",
      "T00 ERR ... 2025-10-31 2:18:6 Calculating atom density for C"
     ]
    },
    {
     "name": "stdout",
     "output_type": "stream",
     "text": [
      "\r\n",
      "T00 ERR ... 2025-10-31 2:18:7 Calculating atom density for H"
     ]
    },
    {
     "name": "stdout",
     "output_type": "stream",
     "text": [
      "\r\n",
      "T00 ERR ... 2025-10-31 2:18:7 STARTING SCF cycle\r\n",
      "T00 ERR ...  --------------------------------------------------------------------------\r\n",
      "T00 ERR ... \r\n",
      "T00 ERR ... 2025-10-31 2:18:7 Iteration 1 of 100"
     ]
    },
    {
     "name": "stdout",
     "output_type": "stream",
     "text": [
      "\r\n",
      "T00 ERR ... 2025-10-31 2:18:7 Total Energy -40.145662034\r\n",
      "T00 ERR ... 2025-10-31 2:18:7 DIIs error 0.219656569436\r\n",
      "T00 ERR ... 2025-10-31 2:18:7 Delta Etot 0\r\n",
      "T00 ERR ... \r\n",
      "T00 ERR ... 2025-10-31 2:18:7 Iteration 2 of 100"
     ]
    },
    {
     "name": "stdout",
     "output_type": "stream",
     "text": [
      "\r\n",
      "T00 ERR ... 2025-10-31 2:18:7 Total Energy -40.1815804354"
     ]
    },
    {
     "name": "stdout",
     "output_type": "stream",
     "text": [
      "\r\n",
      "T00 ERR ... 2025-10-31 2:18:7 DIIs error 0.128764126109\r\n",
      "T00 ERR ... 2025-10-31 2:18:7 Delta Etot -0.035918401391\r\n",
      "T00 ERR ... \r\n",
      "T00 ERR ... 2025-10-31 2:18:7 Iteration 3 of 100"
     ]
    },
    {
     "name": "stdout",
     "output_type": "stream",
     "text": [
      "\r\n",
      "T00 ERR ... 2025-10-31 2:18:7 Total Energy -40.1980546609\r\n",
      "T00 ERR ... 2025-10-31 2:18:7 DIIs error 0.0793380627148\r\n",
      "T00 ERR ... 2025-10-31 2:18:7 Delta Etot -0.0164742255419\r\n",
      "T00 ERR ... \r\n",
      "T00 ERR ... 2025-10-31 2:18:7 Iteration 4 of 100"
     ]
    },
    {
     "name": "stdout",
     "output_type": "stream",
     "text": [
      "\r\n",
      "T00 ERR ... 2025-10-31 2:18:7 Total Energy -40.2287153768\r\n",
      "T00 ERR ... 2025-10-31 2:18:7 DIIs error 0.0296186506909\r\n",
      "T00 ERR ... 2025-10-31 2:18:7 Delta Etot -0.0306607158464\r\n",
      "T00 ERR ... \r\n",
      "T00 ERR ... 2025-10-31 2:18:7 Iteration 5 of 100"
     ]
    },
    {
     "name": "stdout",
     "output_type": "stream",
     "text": [
      "\r\n",
      "T00 ERR ... 2025-10-31 2:18:7 Total Energy -40.2286074947\r\n",
      "T00 ERR ... 2025-10-31 2:18:7 DIIs error 0.0311986969051\r\n",
      "T00 ERR ... 2025-10-31 2:18:7 Delta Etot 0.000107882067383\r\n",
      "T00 ERR ... \r\n",
      "T00 ERR ... 2025-10-31 2:18:7 Iteration 6 of 100"
     ]
    },
    {
     "name": "stdout",
     "output_type": "stream",
     "text": [
      "\r\n",
      "T00 ERR ... 2025-10-31 2:18:7 Total Energy -40.2309588254\r\n",
      "T00 ERR ... 2025-10-31 2:18:7 DIIs error 0.00031894744445\r\n",
      "T00 ERR ... 2025-10-31 2:18:7 Delta Etot -0.00235133068769\r\n",
      "T00 ERR ... \r\n",
      "T00 ERR ... 2025-10-31 2:18:7 Iteration 7 of 100"
     ]
    },
    {
     "name": "stdout",
     "output_type": "stream",
     "text": [
      "\r\n",
      "T00 ERR ... 2025-10-31 2:18:7 Total Energy -40.2309590803\r\n",
      "T00 ERR ... 2025-10-31 2:18:7 DIIs error 2.04315894869e-05\r\n",
      "T00 ERR ... 2025-10-31 2:18:7 Delta Etot -2.54895894614e-07\r\n",
      "T00 ERR ... \r\n",
      "T00 ERR ... 2025-10-31 2:18:7 Iteration 8 of 100"
     ]
    },
    {
     "name": "stdout",
     "output_type": "stream",
     "text": [
      "\r\n",
      "T00 ERR ... 2025-10-31 2:18:7 Total Energy -40.2309590805\r\n",
      "T00 ERR ... 2025-10-31 2:18:7 DIIs error 1.08205770128e-05\r\n",
      "T00 ERR ... 2025-10-31 2:18:7 Delta Etot -2.43097986186e-10\r\n",
      "T00 ERR ... \r\n",
      "T00 ERR ... 2025-10-31 2:18:7 Iteration 9 of 100"
     ]
    },
    {
     "name": "stdout",
     "output_type": "stream",
     "text": [
      "\r\n",
      "T00 ERR ... 2025-10-31 2:18:8 Total Energy -40.2309590809\r\n",
      "T00 ERR ... 2025-10-31 2:18:8 DIIs error 3.49759931175e-06\r\n",
      "T00 ERR ... 2025-10-31 2:18:8 Delta Etot -3.88901355564e-10\r\n",
      "T00 ERR ... \r\n",
      "T00 ERR ... 2025-10-31 2:18:8 Iteration 10 of 100"
     ]
    },
    {
     "name": "stdout",
     "output_type": "stream",
     "text": [
      "\r\n",
      "T00 ERR ... 2025-10-31 2:18:8 Total Energy -40.2309590809\r\n",
      "T00 ERR ... 2025-10-31 2:18:8 DIIs error 9.09315460034e-07\r\n",
      "T00 ERR ... 2025-10-31 2:18:8 Delta Etot -4.52970994047e-11\r\n",
      "T00 ERR ... \r\n",
      "T00 ERR ... 2025-10-31 2:18:8 Iteration 11 of 100"
     ]
    },
    {
     "name": "stdout",
     "output_type": "stream",
     "text": [
      "\r\n",
      "T00 ERR ... 2025-10-31 2:18:8 Total Energy -40.230959081\r\n",
      "T00 ERR ... 2025-10-31 2:18:8 DIIs error 1.36306259216e-09\r\n",
      "T00 ERR ... 2025-10-31 2:18:8 Delta Etot -2.94164692605e-12\r\n",
      "T00 ERR ... 2025-10-31 2:18:8 Total Energy has converged to -2.94164693e-12[Ha] after 11 iterations. DIIS error is converged up to 1.36306259e-09\r\n",
      "T00 ERR ... 2025-10-31 2:18:8 Final Single Point Energy -40.230959081 Ha\r\n",
      "T00 ERR ... 2025-10-31 2:18:8 Final Local Exc contribution -5.18429663115 Ha\r\n",
      "T00 ERR ... 2025-10-31 2:18:8 Final Non Local Ex contribution -1.63926628975 Ha\r\n",
      "T00 ERR ...   Orbital energies: \r\n",
      "T00 ERR ...   index occupation energy(Hartree) \r\n",
      "T00 ERR ...      0      2   -10.1479486478\r\n",
      "T00 ERR ...      1      2   -0.7122268012\r\n",
      "T00 ERR ...      2      2   -0.4030277351\r\n",
      "T00 ERR ...      3      2   -0.4013508429\r\n",
      "T00 ERR ...      4      2   -0.3991087981\r\n",
      "T00 ERR ...      5      0   +0.1607311204\r\n",
      "T00 ERR ...      6      0   +0.2030138024\r\n",
      "T00 ERR ...      7      0   +0.2081578781\r\n",
      "T00 ERR ...      8      0   +0.2102894921\r\n",
      "T00 ERR ...      9      0   +0.7241152529\r\n",
      "T00 ERR ...     10      0   +0.7253274426\r\n",
      "T00 ERR ...     11      0   +0.7278602375\r\n",
      "T00 ERR ...     12      0   +1.0556245950\r\n",
      "T00 ERR ...     13      0   +1.0854014744\r\n",
      "T00 ERR ...     14      0   +1.0904231683\r\n",
      "T00 ERR ...     15      0   +1.0921195357\r\n",
      "T00 ERR ...     16      0   +1.7121078357\r\n",
      "T00 ERR ... 2025-10-31 2:18:8 Electric Dipole is[e*bohr]:\r\n",
      "\t\t dx=0.0193606710086\r\n",
      "\t\t dy=0.0353547140005\r\n",
      "\t\t dz=-0.0142953891783\r\n",
      "T00 ERR ... Writing result to temp.orb\r\n",
      "T00 ERR ... 2025-10-31 2:18:8 DFT calculation took 1.625508912 seconds.\r\n",
      "T00 ERR ... 2025-10-31 2:18:8 RPA level range [0:16]\r\n",
      "T00 ERR ... 2025-10-31 2:18:8 GW  level range [0:16]\r\n",
      "T00 ERR ... 2025-10-31 2:18:8 BSE level range occ[0:4]  virt[5:16]\r\n",
      "T00 ERR ...  BSE type: full\r\n",
      "T00 ERR ... 2025-10-31 2:18:8 BSE Hamiltonian has size 120x120\r\n",
      "T00 ERR ...  BSE without Hqp offdiagonal elements\r\n",
      "T00 ERR ...  Running GW as: G0W0\r\n",
      "T00 ERR ...  qp_sc_limit [Hartree]: 1e-05\r\n",
      "T00 ERR ...  Tasks: \r\n",
      "T00 ERR ...  GW \r\n",
      "T00 ERR ...  singlets \r\n",
      "T00 ERR ...  triplets \r\n",
      "T00 ERR ...  Store: \r\n",
      "T00 ERR ...  GW \r\n",
      "T00 ERR ...  Sigma integration: ppm\r\n",
      "T00 ERR ...  eta: 0.001\r\n",
      "T00 ERR ...  QP solver: grid\r\n",
      "T00 ERR ...  QP grid steps: 1001\r\n",
      "T00 ERR ...  QP grid spacing: 0.001\r\n",
      "T00 ERR ... 2025-10-31 2:18:8 Using 2 threads\r\n",
      "T00 ERR ... 2025-10-31 2:18:8 Using native Eigen implementation, no BLAS overload \r\n",
      "T00 ERR ... 2025-10-31 2:18:8 Molecule Coordinates [A] \r\n",
      "T00 ERR ...     0    C   30.3000 1.2704 5.5205\r\n",
      "T00 ERR ...     1    H   31.2392 1.4802 6.0301\r\n",
      "T00 ERR ...     2    H   30.4910 0.6554 4.6433\r\n",
      "T00 ERR ...     3    H   29.8500 2.2100 5.2100\r\n",
      "T00 ERR ...     4    H   29.6200 0.7500 6.2000\r\n",
      "T00 ERR ... 2025-10-31 2:18:8 DFT data was created by xtp\r\n",
      "T00 ERR ... 2025-10-31 2:18:8 Loaded DFT Basis Set 3-21G\r\n",
      "T00 ERR ... 2025-10-31 2:18:8 Filled DFT Basis of size 17\r\n",
      "T00 ERR ... 2025-10-31 2:18:8 Loaded Auxbasis Set aux-def2-svp\r\n",
      "T00 ERR ... 2025-10-31 2:18:8 Filled Auxbasis of size 104\r\n",
      "T00 ERR ... 2025-10-31 2:18:8 Calculating Mmn_beta (3-center-repulsion x orbitals)  "
     ]
    },
    {
     "name": "stdout",
     "output_type": "stream",
     "text": [
      "\r\n",
      "T00 ERR ... 2025-10-31 2:18:8 Calculated Mmn_beta (3-center-repulsion x orbitals)  \r\n",
      "T00 ERR ... 2025-10-31 2:18:8 Integrating Vxc with functional XC_HYB_GGA_XC_PBEH"
     ]
    },
    {
     "name": "stdout",
     "output_type": "stream",
     "text": [
      "\r\n",
      "T00 ERR ... 2025-10-31 2:18:8 Set hybrid exchange factor: 0.25\r\n",
      "T00 ERR ... 2025-10-31 2:18:8 Calculated exchange-correlation expectation values \r\n",
      "T00 ERR ... 2025-10-31 2:18:8 Calculated Hartree exchange contribution\r\n",
      "T00 ERR ... 2025-10-31 2:18:8 Scissor shifting DFT energies by: 0 Hrt"
     ]
    },
    {
     "name": "stdout",
     "output_type": "stream",
     "text": [
      "\r\n",
      "T00 ERR ...   ====== Perturbative quasiparticle energies (Hartree) ====== \r\n",
      "T00 ERR ...    DeltaHLGap = +0.215514 Hartree\r\n",
      "T00 ERR ...   Level =    0 DFT = -10.1479 VXC = -1.7031 S-X = -2.6689 S-C = +0.5631 GWA = -10.5506\r\n",
      "T00 ERR ...   Level =    1 DFT = -0.7122 VXC = -0.4404 S-X = -0.6606 S-C = +0.1083 GWA = -0.8241\r\n",
      "T00 ERR ...   Level =    2 DFT = -0.4030 VXC = -0.3959 S-X = -0.5286 S-C = +0.0324 GWA = -0.5033\r\n",
      "T00 ERR ...   Level =    3 DFT = -0.4014 VXC = -0.3967 S-X = -0.5298 S-C = +0.0328 GWA = -0.5015\r\n",
      "T00 ERR ...   HOMO  =    4 DFT = -0.3991 VXC = -0.3970 S-X = -0.5300 S-C = +0.0329 GWA = -0.4993\r\n",
      "T00 ERR ...   LUMO  =    5 DFT = +0.1607 VXC = -0.2418 S-X = -0.1018 S-C = -0.0246 GWA = +0.2761\r\n",
      "T00 ERR ...   Level =    6 DFT = +0.2030 VXC = -0.2616 S-X = -0.1101 S-C = -0.0238 GWA = +0.3308\r\n",
      "T00 ERR ...   Level =    7 DFT = +0.2082 VXC = -0.2612 S-X = -0.1097 S-C = -0.0239 GWA = +0.3358\r\n",
      "T00 ERR ...   Level =    8 DFT = +0.2103 VXC = -0.2613 S-X = -0.1098 S-C = -0.0238 GWA = +0.3379\r\n",
      "T00 ERR ...   Level =    9 DFT = +0.7241 VXC = -0.3183 S-X = -0.1082 S-C = -0.0635 GWA = +0.8706\r\n",
      "T00 ERR ...   Level =   10 DFT = +0.7253 VXC = -0.3182 S-X = -0.1080 S-C = -0.0638 GWA = +0.8718\r\n",
      "T00 ERR ...   Level =   11 DFT = +0.7279 VXC = -0.3177 S-X = -0.1073 S-C = -0.0643 GWA = +0.8740\r\n",
      "T00 ERR ...   Level =   12 DFT = +1.0556 VXC = -0.4047 S-X = -0.1334 S-C = -0.0323 GWA = +1.2946\r\n",
      "T00 ERR ...   Level =   13 DFT = +1.0854 VXC = -0.3963 S-X = -0.1274 S-C = -0.1740 GWA = +1.1803\r\n",
      "T00 ERR ...   Level =   14 DFT = +1.0904 VXC = -0.3953 S-X = -0.1271 S-C = -0.1730 GWA = +1.1857\r\n",
      "T00 ERR ...   Level =   15 DFT = +1.0921 VXC = -0.3946 S-X = -0.1268 S-C = -0.1726 GWA = +1.1873\r\n",
      "T00 ERR ...   Level =   16 DFT = +1.7121 VXC = -0.3559 S-X = -0.1045 S-C = -0.0297 GWA = +1.9338\r\n",
      "T00 ERR ... 2025-10-31 2:18:8 Calculated offdiagonal part of Sigma  \r\n",
      "T00 ERR ... 2025-10-31 2:18:8 Full quasiparticle Hamiltonian  \r\n",
      "T00 ERR ...   ====== Diagonalized quasiparticle energies (Hartree) ====== \r\n",
      "T00 ERR ...   Level =    0 PQP = -10.550598 DQP = -10.550784 \r\n",
      "T00 ERR ...   Level =    1 PQP = -0.824112 DQP = -0.824557 \r\n",
      "T00 ERR ...   Level =    2 PQP = -0.503318 DQP = -0.503594 \r\n",
      "T00 ERR ...   Level =    3 PQP = -0.501550 DQP = -0.501757 \r\n",
      "T00 ERR ...   HOMO  =    4 PQP = -0.499250 DQP = -0.499442 \r\n",
      "T00 ERR ...   LUMO  =    5 PQP = +0.276103 DQP = +0.267906 \r\n",
      "T00 ERR ...   Level =    6 PQP = +0.330783 DQP = +0.328896 \r\n",
      "T00 ERR ...   Level =    7 PQP = +0.335772 DQP = +0.334342 \r\n",
      "T00 ERR ...   Level =    8 PQP = +0.337930 DQP = +0.336525 \r\n",
      "T00 ERR ...   Level =    9 PQP = +0.870623 DQP = +0.868942 \r\n",
      "T00 ERR ...   Level =   10 PQP = +0.871774 DQP = +0.869912 \r\n",
      "T00 ERR ...   Level =   11 PQP = +0.873964 DQP = +0.871690 \r\n",
      "T00 ERR ...   Level =   12 PQP = +1.294583 DQP = +1.183176 \r\n",
      "T00 ERR ...   Level =   13 PQP = +1.180304 DQP = +1.189612 \r\n",
      "T00 ERR ...   Level =   14 PQP = +1.185716 DQP = +1.191519 \r\n",
      "T00 ERR ...   Level =   15 PQP = +1.187304 DQP = +1.289811 \r\n",
      "T00 ERR ...   Level =   16 PQP = +1.933788 DQP = +1.947619 \r\n",
      "T00 ERR ... 2025-10-31 2:18:8 Diagonalized QP Hamiltonian  \r\n",
      "T00 ERR ... 2025-10-31 2:18:8 GW calculation took 0.123752491 seconds.\r\n",
      "T00 ERR ... 2025-10-31 2:18:8 Setup Full triplet hamiltonian \r\n",
      "T00 ERR ... 2025-10-31 2:18:8 Davidson Solver using 2 threads.\r\n",
      "T00 ERR ... 2025-10-31 2:18:8 Tolerance : 0.0001\r\n",
      "T00 ERR ... 2025-10-31 2:18:8 DPR Correction\r\n",
      "T00 ERR ... 2025-10-31 2:18:8 Matrix size : 120x120\r\n",
      "T00 ERR ... 2025-10-31 2:18:8 iter\tSearch Space\tNorm\r\n",
      "T00 ERR ... 2025-10-31 2:18:8    0           20 \t 1.28e-01 \t  0.00% converged\r\n",
      "T00 ERR ... 2025-10-31 2:18:8    1           35 \t 1.41e-02 \t  0.00% converged\r\n",
      "T00 ERR ... 2025-10-31 2:18:8    2           50 \t 8.59e-04 \t 10.00% converged\r\n",
      "T00 ERR ... 2025-10-31 2:18:8    3           62 \t 2.81e-05 \t 100.00% converged\r\n",
      "T00 ERR ... 2025-10-31 2:18:8 Davidson converged after 3 iterations.\r\n",
      "T00 ERR ... 2025-10-31 2:18:8-----------------------------------\r\n",
      "T00 ERR ... 2025-10-31 2:18:8- Davidson ran for 0.007111226secs.\r\n",
      "T00 ERR ... 2025-10-31 2:18:8-----------------------------------\r\n",
      "T00 ERR ... 2025-10-31 2:18:8 Solved BSE for triplets \r\n",
      "T00 ERR ...   ====== triplet energies (eV) ====== \r\n",
      "T00 ERR ...   T =    1 Omega = +11.590450210931 eV  lamdba = +106.98 nm <FT> = +22.7900 <K_d> = -11.1996\r\n",
      "T00 ERR ...    \r\n",
      "T00 ERR ...   T =    2 Omega = +11.768436915421 eV  lamdba = +105.37 nm <FT> = +22.9507 <K_d> = -11.1823\r\n",
      "T00 ERR ...    \r\n",
      "T00 ERR ...   T =    3 Omega = +11.827074595578 eV  lamdba = +104.84 nm <FT> = +22.4832 <K_d> = -10.6561\r\n",
      "T00 ERR ...    \r\n",
      "T00 ERR ...   T =    4 Omega = +11.875195227650 eV  lamdba = +104.42 nm <FT> = +22.4500 <K_d> = -10.5748\r\n",
      "T00 ERR ...    \r\n",
      "T00 ERR ...   T =    5 Omega = +13.656657594876 eV  lamdba = +90.80 nm <FT> = +22.2470 <K_d> = -8.5903\r\n",
      "T00 ERR ...    \r\n",
      "T00 ERR ...   T =    6 Omega = +13.750297371881 eV  lamdba = +90.18 nm <FT> = +22.2953 <K_d> = -8.5450\r\n",
      "T00 ERR ...    \r\n",
      "T00 ERR ...   T =    7 Omega = +13.943259371067 eV  lamdba = +88.93 nm <FT> = +22.3952 <K_d> = -8.4520\r\n",
      "T00 ERR ...    \r\n",
      "T00 ERR ...   T =    8 Omega = +14.129640172473 eV  lamdba = +87.76 nm <FT> = +22.7313 <K_d> = -8.6017\r\n",
      "T00 ERR ...            HOMO-0   -> LUMO+1    : 72.0%\r\n",
      "T00 ERR ...    \r\n",
      "T00 ERR ...   T =    9 Omega = +14.226372414746 eV  lamdba = +87.16 nm <FT> = +22.8418 <K_d> = -8.6154\r\n",
      "T00 ERR ...    \r\n",
      "T00 ERR ...   T =   10 Omega = +14.374676546673 eV  lamdba = +86.26 nm <FT> = +22.8660 <K_d> = -8.4913\r\n",
      "T00 ERR ...            HOMO-2   -> LUMO+2    : 56.1%\r\n",
      "T00 ERR ...    \r\n",
      "T00 ERR ... 2025-10-31 2:18:8 Setup Full singlet hamiltonian \r\n",
      "T00 ERR ... 2025-10-31 2:18:8 Davidson Solver using 2 threads.\r\n",
      "T00 ERR ... 2025-10-31 2:18:8 Tolerance : 0.0001\r\n",
      "T00 ERR ... 2025-10-31 2:18:8 DPR Correction\r\n",
      "T00 ERR ... 2025-10-31 2:18:8 Matrix size : 120x120\r\n",
      "T00 ERR ... 2025-10-31 2:18:8 iter\tSearch Space\tNorm\r\n",
      "T00 ERR ... 2025-10-31 2:18:8    0           20 \t 1.28e-01 \t  0.00% converged\r\n",
      "T00 ERR ... 2025-10-31 2:18:8    1           35 \t 1.29e-02 \t  0.00% converged\r\n",
      "T00 ERR ... 2025-10-31 2:18:8    2           50 \t 9.32e-04 \t 40.00% converged\r\n",
      "T00 ERR ... 2025-10-31 2:18:8    3           61 \t 3.38e-05 \t 100.00% converged\r\n",
      "T00 ERR ... 2025-10-31 2:18:8 Davidson converged after 3 iterations.\r\n",
      "T00 ERR ... 2025-10-31 2:18:8-----------------------------------\r\n",
      "T00 ERR ... 2025-10-31 2:18:8- Davidson ran for 0.008046805secs.\r\n",
      "T00 ERR ... 2025-10-31 2:18:8-----------------------------------\r\n",
      "T00 ERR ... 2025-10-31 2:18:8 Solved BSE for singlets \r\n",
      "T00 ERR ...   ====== singlet energies (eV) ====== \r\n",
      "T00 ERR ...   S =    1 Omega = +13.838549782377 eV  lamdba = +89.60 nm <FT> = +21.2209 <K_x> = +0.9776 <K_d> = -8.3599\r\n",
      "T00 ERR ...            TrDipole length gauge[e*bohr]  dx = -0.5302 dy = +0.4089 dz = -0.3397 |d|^2 = +0.5638 f = +0.1911\r\n",
      "T00 ERR ...            HOMO-0   -> LUMO+0    : 98.7%\r\n",
      "T00 ERR ... \r\n",
      "T00 ERR ...   S =    2 Omega = +13.899924493526 eV  lamdba = +89.21 nm <FT> = +21.2939 <K_x> = +1.0287 <K_d> = -8.4227\r\n",
      "T00 ERR ...            TrDipole length gauge[e*bohr]  dx = +0.1896 dy = +0.6257 dz = +0.4731 |d|^2 = +0.6513 f = +0.2218\r\n",
      "T00 ERR ...            HOMO-1   -> LUMO+0    : 97.0%\r\n",
      "T00 ERR ... \r\n",
      "T00 ERR ...   S =    3 Omega = +13.966211980029 eV  lamdba = +88.79 nm <FT> = +21.3573 <K_x> = +1.1860 <K_d> = -8.5770\r\n",
      "T00 ERR ...            TrDipole length gauge[e*bohr]  dx = +0.6224 dy = +0.3190 dz = -0.6421 |d|^2 = +0.9014 f = +0.3084\r\n",
      "T00 ERR ...            HOMO-2   -> LUMO+0    : 97.5%\r\n",
      "T00 ERR ... \r\n",
      "T00 ERR ...   S =    4 Omega = +14.551152045797 eV  lamdba = +85.22 nm <FT> = +22.7162 <K_x> = +0.3387 <K_d> = -8.5038\r\n",
      "T00 ERR ...            TrDipole length gauge[e*bohr]  dx = -0.1704 dy = +0.0702 dz = -0.0443 |d|^2 = +0.0359 f = +0.0128\r\n",
      "T00 ERR ...            HOMO-0   -> LUMO+1    : 77.0%\r\n",
      "T00 ERR ... \r\n",
      "T00 ERR ...   S =    5 Omega = +14.601152862166 eV  lamdba = +84.92 nm <FT> = +22.7822 <K_x> = +0.3232 <K_d> = -8.5043\r\n",
      "T00 ERR ...            TrDipole length gauge[e*bohr]  dx = -0.0460 dy = +0.1295 dz = +0.2160 |d|^2 = +0.0656 f = +0.0234\r\n",
      "T00 ERR ...            HOMO-1   -> LUMO+1    : 60.6%\r\n",
      "T00 ERR ... \r\n",
      "T00 ERR ...   S =    6 Omega = +14.637499005980 eV  lamdba = +84.71 nm <FT> = +22.8481 <K_x> = +0.2777 <K_d> = -8.4883\r\n",
      "T00 ERR ...            TrDipole length gauge[e*bohr]  dx = +0.1206 dy = -0.0280 dz = +0.0821 |d|^2 = +0.0221 f = +0.0079\r\n",
      "T00 ERR ...            HOMO-0   -> LUMO+2    : 55.6%\r\n",
      "T00 ERR ... \r\n",
      "T00 ERR ...   S =    7 Omega = +14.990772476228 eV  lamdba = +82.72 nm <FT> = +22.8543 <K_x> = +0.7066 <K_d> = -8.5701\r\n",
      "T00 ERR ...            TrDipole length gauge[e*bohr]  dx = +0.0540 dy = +0.0878 dz = +0.0594 |d|^2 = +0.0142 f = +0.0052\r\n",
      "T00 ERR ... \r\n",
      "T00 ERR ...   S =    8 Omega = +15.014770780730 eV  lamdba = +82.59 nm <FT> = +22.9068 <K_x> = +0.6670 <K_d> = -8.5591\r\n",
      "T00 ERR ...            TrDipole length gauge[e*bohr]  dx = +0.0179 dy = +0.0439 dz = -0.0304 |d|^2 = +0.0032 f = +0.0012\r\n",
      "T00 ERR ...            HOMO-2   -> LUMO+3    : 70.5%\r\n",
      "T00 ERR ... \r\n",
      "T00 ERR ...   S =    9 Omega = +15.998982402882 eV  lamdba = +77.50 nm <FT> = +23.1683 <K_x> = +2.1886 <K_d> = -9.3578\r\n",
      "T00 ERR ...            TrDipole length gauge[e*bohr]  dx = +0.8941 dy = +0.8746 dz = -0.5875 |d|^2 = +1.9094 f = +0.7484\r\n",
      "T00 ERR ...            HOMO-2   -> LUMO+1    : 60.4%\r\n",
      "T00 ERR ... \r\n",
      "T00 ERR ...   S =   10 Omega = +16.031811994963 eV  lamdba = +77.35 nm <FT> = +23.2251 <K_x> = +2.2797 <K_d> = -9.4730\r\n",
      "T00 ERR ...            TrDipole length gauge[e*bohr]  dx = +0.4409 dy = -1.0818 dz = -0.8258 |d|^2 = +2.0466 f = +0.8039\r\n",
      "T00 ERR ... \r\n",
      "T00 ERR ... 2025-10-31 2:18:8 BSE calculation took 0.017624533 seconds.\r\n",
      "T00 ERR ... 2025-10-31 2:18:8 GWBSE calculation finished \r\n",
      "T00 ERR ... Next State is: s1\r\n",
      "T00 ERR ... 2025-10-31 2:18:8 Evaluating polarregion 1\r\n",
      "T00 ERR ... 2025-10-31 2:18:8 Evaluating interaction between polarregion 1 and qmregion 0"
     ]
    },
    {
     "name": "stdout",
     "output_type": "stream",
     "text": [
      "\r\n",
      "T00 ERR ... Next State is: s1"
     ]
    },
    {
     "name": "stdout",
     "output_type": "stream",
     "text": [
      "\r\n",
      "T00 ERR ... 2025-10-31 2:18:8 Evaluating interaction between polarregion 1 and staticregion 2\r\n",
      "T00 ERR ... 2025-10-31 2:18:8 Starting Solving for classical polarization with 1380 degrees of freedom.\r\n",
      "T00 ERR ... 2025-10-31 2:18:8 CG: #iterations: 1, estimated error: 4.81073266795e-05\r\n",
      "T00 ERR ...   Total static energy [hrt]= 0.0009102654542\r\n",
      "T00 ERR ...   Total polar energy [hrt]= 0.0008138909845\r\n",
      "T00 ERR ...  Total energy [hrt]= 0.001724156439\r\n",
      "T00 ERR ... 2025-10-31 2:18:8 Evaluating staticregion 2\r\n",
      "T00 ERR ... 2025-10-31 2:18:8 Writing checkpoint to checkpoint_iter_9.hdf5"
     ]
    },
    {
     "name": "stdout",
     "output_type": "stream",
     "text": [
      "\r\n",
      "T00 ERR ...  Region:qmregion 0 is not converged deltaE=3.124694359e-06 RMS Dmat=0.0001436156626 MaxDmat=0.0008267815796\r\n",
      "T00 ERR ... 2025-10-31 2:18:8 Region:polarregion 1 is converged deltaE=1.4534951e-06\r\n",
      "T00 ERR ... 2025-10-31 2:18:8 --Total Energy all regions -39.7206776\r\n",
      "T00 ERR ... 2025-10-31 2:18:8 --Inter Region SCF Iteration 10 of 50\r\n",
      "T00 ERR ... 2025-10-31 2:18:8 Evaluating qmregion 0\r\n",
      "T00 ERR ... 2025-10-31 2:18:8 Evaluating interaction between qmregion 0 and polarregion 1\r\n",
      "T00 ERR ... 2025-10-31 2:18:8 Evaluating interaction between qmregion 0 and staticregion 2\r\n",
      "T00 ERR ... Running DFT calculation\r\n",
      "T00 ERR ... 2025-10-31 2:18:8 Using 2 threads\r\n",
      "T00 ERR ... 2025-10-31 2:18:8 Using native Eigen implementation, no BLAS overload \r\n",
      "T00 ERR ...  Molecule Coordinates [A] \r\n",
      "T00 ERR ...   C   +30.3000 +1.2704 +5.5205\r\n",
      "T00 ERR ...   H   +31.2392 +1.4802 +6.0301\r\n",
      "T00 ERR ...   H   +30.4910 +0.6554 +4.6433\r\n",
      "T00 ERR ...   H   +29.8500 +2.2100 +5.2100\r\n",
      "T00 ERR ...   H   +29.6200 +0.7500 +6.2000\r\n",
      "T00 ERR ... 2025-10-31 2:18:8 Loaded DFT Basis Set 3-21G with 17 functions\r\n",
      "T00 ERR ... 2025-10-31 2:18:8 Loaded AUX Basis Set aux-def2-svp with 104 functions\r\n",
      "T00 ERR ... 2025-10-31 2:18:8 Total number of electrons: 10\r\n",
      "T00 ERR ... 2025-10-31 2:18:8 Smallest value of AOOverlap matrix is 0.03364074275\r\n",
      "T00 ERR ... 2025-10-31 2:18:8 Removed 0 basisfunction from inverse overlap matrix\r\n",
      "T00 ERR ... 2025-10-31 2:18:8 Convergence Options:\r\n",
      "T00 ERR ... \t\t Delta E [Ha]: 1e-07\r\n",
      "T00 ERR ... \t\t DIIS max error: 1e-07\r\n",
      "T00 ERR ... \t\t DIIS histlength: 20\r\n",
      "T00 ERR ... \t\t ADIIS start: 0.8\r\n",
      "T00 ERR ... \t\t DIIS start: 0.002\r\n",
      "T00 ERR ... \t\t Deleting oldest element from DIIS hist\r\n",
      "T00 ERR ... \t\t Levelshift[Ha]: 0\r\n",
      "T00 ERR ... \t\t Levelshift end: 0.2\r\n",
      "T00 ERR ... \t\t Mixing Parameter alpha: 0.7\r\n",
      "T00 ERR ... 2025-10-31 2:18:8 Setup invariant parts of Electron Repulsion integrals \r\n",
      "T00 ERR ... 2025-10-31 2:18:8 Constructed independent particle hamiltonian \r\n",
      "T00 ERR ... 2025-10-31 2:18:8 Nuclear Repulsion Energy is 13.4434088\r\n",
      "T00 ERR ... 2025-10-31 2:18:8 1350 External sites\r\n",
      "T00 ERR ...  Name      Coordinates[a0]     charge[e]         dipole[e*a0]    \r\n",
      "T00 ERR ...   C   +63.8902 +7.9543 +11.0171   -0.3282   +0.0090 +0.0011 -0.0060\r\n",
      "T00 ERR ...   H   +62.3892 +6.5470 +10.9796   +0.0824   +0.0094 +0.0029 -0.0001\r\n",
      "T00 ERR ...   H   +65.3194 +7.4736 +9.6186   +0.0822   +0.0038 -0.0009 -0.0023\r\n",
      "T00 ERR ...   H   +63.1170 +9.8077 +10.6203   +0.0817   +0.0015 +0.0014 +0.0010\r\n",
      "T00 ERR ...   H   +64.7422 +7.9557 +12.9068   +0.0819   +0.0043 +0.0033 -0.0007\r\n",
      "T00 ERR ...   C   +63.9128 -0.3996 +22.8673   -0.3282   -0.0029 +0.0014 +0.0052\r\n",
      "T00 ERR ...   H   +63.0449 -1.1731 +21.1692   +0.0824   -0.0001 -0.0006 +0.0015\r\n",
      "T00 ERR ...   H   +62.7676 +1.1530 +23.5795   +0.0822   -0.0015 +0.0049 +0.0022\r\n",
      "T00 ERR ...   H   +64.0430 -1.8922 +24.2830   +0.0817   +0.0010 -0.0004 -0.0009\r\n",
      "T00 ERR ...   H   +65.8004 +0.2810 +22.4122   +0.0819   -0.0036 -0.0009 +0.0017\r\n",
      "T00 ERR ...   C   +61.7182 -0.4374 -3.3115   -0.3282   -0.0002 -0.0018 +0.0010\r\n",
      "T00 ERR ...   H   +60.6600 -1.0798 -4.9554   +0.0824   +0.0011 +0.0014 +0.0012\r\n",
      "T00 ERR ...   H   +63.3309 +0.6815 -3.9252   +0.0822   -0.0014 -0.0019 -0.0006\r\n",
      "T00 ERR ...   H   +62.3800 -2.0623 -2.2148   +0.0817   +0.0010 -0.0019 +0.0013\r\n",
      "T00 ERR ...   H   +60.5092 +0.7345 -2.1392   +0.0819   -0.0027 -0.0035 -0.0019\r\n",
      "T00 ERR ...   C   +62.0402 +12.7739 +4.5175   -0.3282   +0.0027 +0.0004 +0.0017\r\n",
      "T00 ERR ...   H   +60.1049 +13.3052 +4.0622   +0.0824   +0.0002 -0.0013 -0.0010\r\n",
      "T00 ERR ...   H   +62.0812 +11.8167 +6.3372   +0.0822   +0.0006 -0.0022 -0.0015\r\n",
      "T00 ERR ...   H   +63.2115 +14.4753 +4.6109   +0.0817   +0.0028 +0.0023 +0.0014\r\n",
      "T00 ERR ...   H   +62.7769 +11.5084 +3.0803   +0.0819   -0.0003 -0.0009 +0.0006\r\n",
      "T00 ERR ...   C   +60.6789 +14.3239 +12.6808   -0.3282   -0.0020 +0.0028 +0.0014\r\n",
      "T00 ERR ...   H   +61.0756 +13.9461 +10.6972   +0.0824   -0.0038 +0.0040 -0.0004\r\n",
      "T00 ERR ...   H   +61.0224 +16.3108 +13.0851   +0.0822   -0.0001 +0.0006 +0.0033\r\n",
      "T00 ERR ...   H   +58.7327 +13.8328 +13.0580   +0.0817   +0.0007 -0.0002 +0.0003\r\n",
      "T00 ERR ...   H   +61.9074 +13.1525 +13.8517   +0.0819   -0.0006 -0.0006 +0.0035\r\n",
      "T00 ERR ...   C   +68.7870 +4.1961 +17.9521   -0.3282   +0.0049 +0.0003 +0.0063\r\n",
      "T00 ERR ...   H   +68.2015 +2.4962 +18.9532   +0.0824   +0.0001 -0.0005 -0.0013\r\n",
      "T00 ERR ...   H   +67.2445 +4.8625 +16.7665   +0.0822   +0.0015 -0.0030 +0.0028\r\n",
      "T00 ERR ...   H   +70.4303 +3.7606 +16.7997   +0.0817   -0.0007 +0.0010 +0.0004\r\n",
      "T00 ERR ...   H   +69.2964 +5.6503 +19.3130   +0.0819   +0.0011 +0.0009 +0.0055\r\n",
      "T00 ERR ...   C   +54.0832 +4.4983 +27.1938   -0.3282   -0.0007 -0.0025 -0.0012\r\n",
      "T00 ERR ...   H   +53.5372 +6.4564 +27.5139   +0.0824   -0.0012 -0.0015 +0.0002\r\n",
      "T00 ERR ...   H   +52.9768 +3.2670 +28.4141   +0.0822   -0.0007 -0.0015 +0.0003\r\n",
      "T00 ERR ...   H   +53.7249 +4.0062 +25.2278   +0.0817   +0.0021 -0.0009 +0.0002\r\n",
      "T00 ERR ...   H   +56.0682 +4.2330 +27.6278   +0.0819   -0.0032 +0.0014 -0.0015\r\n",
      "T00 ERR ...   C   +63.8174 +6.3112 -1.0788   -0.3282   -0.0007 -0.0003 -0.0004\r\n",
      "T00 ERR ...   H   +65.2393 +6.4796 +0.3993   +0.0824   -0.0003 -0.0010 +0.0014\r\n",
      "T00 ERR ...   H   +62.4364 +4.8836 -0.5459   +0.0822   +0.0020 +0.0009 -0.0008\r\n",
      "T00 ERR ...   H   +64.7422 +5.7637 -2.8384   +0.0817   -0.0005 +0.0027 +0.0002\r\n",
      "T00 ERR ...   H   +62.8903 +8.1258 -1.3455   +0.0819   -0.0006 -0.0016 -0.0037\r\n",
      "T00 ERR ...   C   +64.1752 +19.2751 +7.8615   -0.3282   +0.0049 -0.0000 +0.0006\r\n",
      "T00 ERR ...   H   +62.9276 +19.0860 +6.2359   +0.0824   -0.0011 +0.0004 +0.0021\r\n",
      "T00 ERR ...   H   +63.4396 +18.1623 +9.4267   +0.0822   +0.0013 -0.0002 -0.0003\r\n",
      "T00 ERR ...   H   +66.0461 +18.6138 +7.3699   +0.0817   +0.0012 -0.0009 -0.0001\r\n",
      "T00 ERR ...   H   +64.2509 +21.2405 +8.4282   +0.0819   +0.0017 +0.0008 -0.0004\r\n",
      "T00 ERR ...   C   +61.3975 +17.7254 +18.4625   -0.3282   +0.0021 -0.0003 +0.0025\r\n",
      "T00 ERR ...   H   +60.9990 +19.0346 +16.9256   +0.0824   -0.0004 +0.0012 +0.0002\r\n",
      "T00 ERR ...   H   +61.0958 +18.6680 +20.2653   +0.0822   +0.0001 +0.0000 +0.0003\r\n",
      "T00 ERR ...   H   +60.1502 +16.1005 +18.3303   +0.0817   +0.0028 +0.0005 -0.0006\r\n",
      "T00 ERR ...   H   +63.3627 +17.1020 +18.3492   +0.0819   -0.0014 -0.0005 +0.0014\r\n",
      "T00 ERR ...               ... (1300 sites not displayed)\r\n"
     ]
    },
    {
     "name": "stdout",
     "output_type": "stream",
     "text": [
      "\r\n",
      "T00 ERR ... 2025-10-31 2:18:8 Filled DFT external multipole potential matrix\r\n",
      "T00 ERR ... 2025-10-31 2:18:8 Nuclei-external site interaction energy 0.0204347161\r\n",
      "T00 ERR ... 2025-10-31 2:18:8 Using hybrid functional with alpha=0.25\r\n",
      "T00 ERR ... 2025-10-31 2:18:8 Setup numerical integration grid medium for vxc functional XC_HYB_GGA_XC_PBEH\r\n",
      "T00 ERR ... 2025-10-31 2:18:8 Setup Initial Guess using: atom\r\n",
      "T00 ERR ... 2025-10-31 2:18:8 Calculating atom density for C"
     ]
    },
    {
     "name": "stdout",
     "output_type": "stream",
     "text": [
      "\r\n",
      "T00 ERR ... 2025-10-31 2:18:9 Calculating atom density for H"
     ]
    },
    {
     "name": "stdout",
     "output_type": "stream",
     "text": [
      "\r\n",
      "T00 ERR ... 2025-10-31 2:18:9 STARTING SCF cycle\r\n",
      "T00 ERR ...  --------------------------------------------------------------------------\r\n",
      "T00 ERR ... \r\n",
      "T00 ERR ... 2025-10-31 2:18:9 Iteration 1 of 100"
     ]
    },
    {
     "name": "stdout",
     "output_type": "stream",
     "text": [
      "\r\n",
      "T00 ERR ... 2025-10-31 2:18:9 Total Energy -40.1456604338\r\n",
      "T00 ERR ... 2025-10-31 2:18:9 DIIs error 0.219656568785\r\n",
      "T00 ERR ... 2025-10-31 2:18:9 Delta Etot 0\r\n",
      "T00 ERR ... \r\n",
      "T00 ERR ... 2025-10-31 2:18:9 Iteration 2 of 100"
     ]
    },
    {
     "name": "stdout",
     "output_type": "stream",
     "text": [
      "\r\n",
      "T00 ERR ... 2025-10-31 2:18:9 Total Energy -40.1815788354\r\n",
      "T00 ERR ... 2025-10-31 2:18:9 DIIs error 0.128764126716\r\n",
      "T00 ERR ... 2025-10-31 2:18:9 Delta Etot -0.0359184016471\r\n",
      "T00 ERR ... \r\n",
      "T00 ERR ... 2025-10-31 2:18:9 Iteration 3 of 100"
     ]
    },
    {
     "name": "stdout",
     "output_type": "stream",
     "text": [
      "\r\n",
      "T00 ERR ... 2025-10-31 2:18:9 Total Energy -40.1980530614\r\n",
      "T00 ERR ... 2025-10-31 2:18:9 DIIs error 0.0793380631784\r\n",
      "T00 ERR ... 2025-10-31 2:18:9 Delta Etot -0.0164742259409\r\n",
      "T00 ERR ... \r\n",
      "T00 ERR ... 2025-10-31 2:18:9 Iteration 4 of 100"
     ]
    },
    {
     "name": "stdout",
     "output_type": "stream",
     "text": [
      "\r\n",
      "T00 ERR ... 2025-10-31 2:18:9 Total Energy -40.2287137776\r\n",
      "T00 ERR ... 2025-10-31 2:18:9 DIIs error 0.0296185989468\r\n",
      "T00 ERR ... 2025-10-31 2:18:9 Delta Etot -0.0306607162724\r\n",
      "T00 ERR ... \r\n",
      "T00 ERR ... 2025-10-31 2:18:9 Iteration 5 of 100"
     ]
    },
    {
     "name": "stdout",
     "output_type": "stream",
     "text": [
      "\r\n",
      "T00 ERR ... 2025-10-31 2:18:9 Total Energy -40.2286058958\r\n",
      "T00 ERR ... 2025-10-31 2:18:9 DIIs error 0.0311986456688\r\n",
      "T00 ERR ... 2025-10-31 2:18:9 Delta Etot 0.000107881870086\r\n",
      "T00 ERR ... \r\n",
      "T00 ERR ... 2025-10-31 2:18:9 Iteration 6 of 100"
     ]
    },
    {
     "name": "stdout",
     "output_type": "stream",
     "text": [
      "\r\n",
      "T00 ERR ... 2025-10-31 2:18:10 Total Energy -40.2309572264\r\n",
      "T00 ERR ... 2025-10-31 2:18:10 DIIs error 0.000318946537657\r\n",
      "T00 ERR ... 2025-10-31 2:18:10 Delta Etot -0.00235133061722\r\n",
      "T00 ERR ... \r\n",
      "T00 ERR ... 2025-10-31 2:18:10 Iteration 7 of 100"
     ]
    },
    {
     "name": "stdout",
     "output_type": "stream",
     "text": [
      "\r\n",
      "T00 ERR ... 2025-10-31 2:18:10 Total Energy -40.2309574813\r\n",
      "T00 ERR ... 2025-10-31 2:18:10 DIIs error 2.04304566728e-05\r\n",
      "T00 ERR ... 2025-10-31 2:18:10 Delta Etot -2.548950917e-07\r\n",
      "T00 ERR ... \r\n",
      "T00 ERR ... 2025-10-31 2:18:10 Iteration 8 of 100"
     ]
    },
    {
     "name": "stdout",
     "output_type": "stream",
     "text": [
      "\r\n",
      "T00 ERR ... 2025-10-31 2:18:10 Total Energy -40.2309574815\r\n",
      "T00 ERR ... 2025-10-31 2:18:10 DIIs error 1.08204647961e-05\r\n",
      "T00 ERR ... 2025-10-31 2:18:10 Delta Etot -2.4300561563e-10\r\n",
      "T00 ERR ... \r\n",
      "T00 ERR ... 2025-10-31 2:18:10 Iteration 9 of 100"
     ]
    },
    {
     "name": "stdout",
     "output_type": "stream",
     "text": [
      "\r\n",
      "T00 ERR ... 2025-10-31 2:18:10 Total Energy -40.2309574819\r\n",
      "T00 ERR ... 2025-10-31 2:18:10 DIIs error 3.49909563026e-06\r\n",
      "T00 ERR ... 2025-10-31 2:18:10 Delta Etot -3.88894250136e-10\r\n",
      "T00 ERR ... \r\n",
      "T00 ERR ... 2025-10-31 2:18:10 Iteration 10 of 100"
     ]
    },
    {
     "name": "stdout",
     "output_type": "stream",
     "text": [
      "\r\n",
      "T00 ERR ... 2025-10-31 2:18:10 Total Energy -40.230957482\r\n",
      "T00 ERR ... 2025-10-31 2:18:10 DIIs error 9.09400744987e-07\r\n",
      "T00 ERR ... 2025-10-31 2:18:10 Delta Etot -4.52473614132e-11\r\n",
      "T00 ERR ... \r\n",
      "T00 ERR ... 2025-10-31 2:18:10 Iteration 11 of 100"
     ]
    },
    {
     "name": "stdout",
     "output_type": "stream",
     "text": [
      "\r\n",
      "T00 ERR ... 2025-10-31 2:18:10 Total Energy -40.230957482\r\n",
      "T00 ERR ... 2025-10-31 2:18:10 DIIs error 1.36292631181e-09\r\n",
      "T00 ERR ... 2025-10-31 2:18:10 Delta Etot -3.10507175527e-12\r\n",
      "T00 ERR ... 2025-10-31 2:18:10 Total Energy has converged to -3.10507176e-12[Ha] after 11 iterations. DIIS error is converged up to 1.36292631e-09\r\n",
      "T00 ERR ... 2025-10-31 2:18:10 Final Single Point Energy -40.230957482 Ha\r\n",
      "T00 ERR ... 2025-10-31 2:18:10 Final Local Exc contribution -5.18429662622 Ha\r\n",
      "T00 ERR ... 2025-10-31 2:18:10 Final Non Local Ex contribution -1.63926628795 Ha\r\n",
      "T00 ERR ...   Orbital energies: \r\n",
      "T00 ERR ...   index occupation energy(Hartree) \r\n",
      "T00 ERR ...      0      2   -10.1479484809\r\n",
      "T00 ERR ...      1      2   -0.7122266479\r\n",
      "T00 ERR ...      2      2   -0.4030283267\r\n",
      "T00 ERR ...      3      2   -0.4013501404\r\n",
      "T00 ERR ...      4      2   -0.3991084240\r\n",
      "T00 ERR ...      5      0   +0.1607308880\r\n",
      "T00 ERR ...      6      0   +0.2030124479\r\n",
      "T00 ERR ...      7      0   +0.2081600197\r\n",
      "T00 ERR ...      8      0   +0.2102897719\r\n",
      "T00 ERR ...      9      0   +0.7241154627\r\n",
      "T00 ERR ...     10      0   +0.7253273670\r\n",
      "T00 ERR ...     11      0   +0.7278605472\r\n",
      "T00 ERR ...     12      0   +1.0556244001\r\n",
      "T00 ERR ...     13      0   +1.0854004157\r\n",
      "T00 ERR ...     14      0   +1.0904252837\r\n",
      "T00 ERR ...     15      0   +1.0921194365\r\n",
      "T00 ERR ...     16      0   +1.7121080246\r\n",
      "T00 ERR ... 2025-10-31 2:18:10 Electric Dipole is[e*bohr]:\r\n",
      "\t\t dx=0.0193908901715\r\n",
      "\t\t dy=0.03535792352\r\n",
      "\t\t dz=-0.0142991897423\r\n",
      "T00 ERR ... Writing result to temp.orb"
     ]
    },
    {
     "name": "stdout",
     "output_type": "stream",
     "text": [
      "\r\n",
      "T00 ERR ... 2025-10-31 2:18:10 DFT calculation took 1.638771317 seconds.\r\n",
      "T00 ERR ... 2025-10-31 2:18:10 RPA level range [0:16]\r\n",
      "T00 ERR ... 2025-10-31 2:18:10 GW  level range [0:16]\r\n",
      "T00 ERR ... 2025-10-31 2:18:10 BSE level range occ[0:4]  virt[5:16]\r\n",
      "T00 ERR ...  BSE type: full\r\n",
      "T00 ERR ... 2025-10-31 2:18:10 BSE Hamiltonian has size 120x120\r\n",
      "T00 ERR ...  BSE without Hqp offdiagonal elements\r\n",
      "T00 ERR ...  Running GW as: G0W0\r\n",
      "T00 ERR ...  qp_sc_limit [Hartree]: 1e-05\r\n",
      "T00 ERR ...  Tasks: \r\n",
      "T00 ERR ...  GW \r\n",
      "T00 ERR ...  singlets \r\n",
      "T00 ERR ...  triplets \r\n",
      "T00 ERR ...  Store: \r\n",
      "T00 ERR ...  GW \r\n",
      "T00 ERR ...  Sigma integration: ppm\r\n",
      "T00 ERR ...  eta: 0.001\r\n",
      "T00 ERR ...  QP solver: grid\r\n",
      "T00 ERR ...  QP grid steps: 1001\r\n",
      "T00 ERR ...  QP grid spacing: 0.001\r\n",
      "T00 ERR ... 2025-10-31 2:18:10 Using 2 threads\r\n",
      "T00 ERR ... 2025-10-31 2:18:10 Using native Eigen implementation, no BLAS overload \r\n",
      "T00 ERR ... 2025-10-31 2:18:10 Molecule Coordinates [A] \r\n",
      "T00 ERR ...     0    C   30.3000 1.2704 5.5205\r\n",
      "T00 ERR ...     1    H   31.2392 1.4802 6.0301\r\n",
      "T00 ERR ...     2    H   30.4910 0.6554 4.6433\r\n",
      "T00 ERR ...     3    H   29.8500 2.2100 5.2100\r\n",
      "T00 ERR ...     4    H   29.6200 0.7500 6.2000\r\n",
      "T00 ERR ... 2025-10-31 2:18:10 DFT data was created by xtp\r\n",
      "T00 ERR ... 2025-10-31 2:18:10 Loaded DFT Basis Set 3-21G\r\n",
      "T00 ERR ... 2025-10-31 2:18:10 Filled DFT Basis of size 17\r\n",
      "T00 ERR ... 2025-10-31 2:18:10 Loaded Auxbasis Set aux-def2-svp\r\n",
      "T00 ERR ... 2025-10-31 2:18:10 Filled Auxbasis of size 104\r\n",
      "T00 ERR ... 2025-10-31 2:18:10 Calculating Mmn_beta (3-center-repulsion x orbitals)  \r\n",
      "T00 ERR ... 2025-10-31 2:18:10 Calculated Mmn_beta (3-center-repulsion x orbitals)  \r\n",
      "T00 ERR ... 2025-10-31 2:18:10 Integrating Vxc with functional XC_HYB_GGA_XC_PBEH"
     ]
    },
    {
     "name": "stdout",
     "output_type": "stream",
     "text": [
      "\r\n",
      "T00 ERR ... 2025-10-31 2:18:10 Set hybrid exchange factor: 0.25\r\n",
      "T00 ERR ... 2025-10-31 2:18:10 Calculated exchange-correlation expectation values \r\n",
      "T00 ERR ... 2025-10-31 2:18:10 Calculated Hartree exchange contribution\r\n",
      "T00 ERR ... 2025-10-31 2:18:10 Scissor shifting DFT energies by: 0 Hrt\r\n",
      "T00 ERR ...   ====== Perturbative quasiparticle energies (Hartree) ====== \r\n",
      "T00 ERR ...    DeltaHLGap = +0.215514 Hartree\r\n",
      "T00 ERR ...   Level =    0 DFT = -10.1479 VXC = -1.7031 S-X = -2.6689 S-C = +0.5631 GWA = -10.5506\r\n",
      "T00 ERR ...   Level =    1 DFT = -0.7122 VXC = -0.4404 S-X = -0.6606 S-C = +0.1083 GWA = -0.8241\r\n",
      "T00 ERR ...   Level =    2 DFT = -0.4030 VXC = -0.3959 S-X = -0.5286 S-C = +0.0324 GWA = -0.5033\r\n",
      "T00 ERR ...   Level =    3 DFT = -0.4014 VXC = -0.3967 S-X = -0.5298 S-C = +0.0328 GWA = -0.5015\r\n",
      "T00 ERR ...   HOMO  =    4 DFT = -0.3991 VXC = -0.3970 S-X = -0.5300 S-C = +0.0329 GWA = -0.4993\r\n",
      "T00 ERR ...   LUMO  =    5 DFT = +0.1607 VXC = -0.2418 S-X = -0.1018 S-C = -0.0246 GWA = +0.2761\r\n",
      "T00 ERR ...   Level =    6 DFT = +0.2030 VXC = -0.2616 S-X = -0.1101 S-C = -0.0238 GWA = +0.3308\r\n",
      "T00 ERR ...   Level =    7 DFT = +0.2082 VXC = -0.2612 S-X = -0.1097 S-C = -0.0239 GWA = +0.3358\r\n",
      "T00 ERR ...   Level =    8 DFT = +0.2103 VXC = -0.2613 S-X = -0.1098 S-C = -0.0238 GWA = +0.3379\r\n",
      "T00 ERR ...   Level =    9 DFT = +0.7241 VXC = -0.3183 S-X = -0.1082 S-C = -0.0635 GWA = +0.8706\r\n",
      "T00 ERR ...   Level =   10 DFT = +0.7253 VXC = -0.3182 S-X = -0.1080 S-C = -0.0638 GWA = +0.8718\r\n",
      "T00 ERR ...   Level =   11 DFT = +0.7279 VXC = -0.3177 S-X = -0.1073 S-C = -0.0643 GWA = +0.8740\r\n",
      "T00 ERR ...   Level =   12 DFT = +1.0556 VXC = -0.4047 S-X = -0.1334 S-C = -0.0323 GWA = +1.2946\r\n",
      "T00 ERR ...   Level =   13 DFT = +1.0854 VXC = -0.3963 S-X = -0.1274 S-C = -0.1740 GWA = +1.1803\r\n",
      "T00 ERR ...   Level =   14 DFT = +1.0904 VXC = -0.3953 S-X = -0.1271 S-C = -0.1730 GWA = +1.1857\r\n",
      "T00 ERR ...   Level =   15 DFT = +1.0921 VXC = -0.3946 S-X = -0.1268 S-C = -0.1726 GWA = +1.1873\r\n",
      "T00 ERR ...   Level =   16 DFT = +1.7121 VXC = -0.3559 S-X = -0.1045 S-C = -0.0297 GWA = +1.9338\r\n",
      "T00 ERR ... 2025-10-31 2:18:10 Calculated offdiagonal part of Sigma  \r\n",
      "T00 ERR ... 2025-10-31 2:18:10 Full quasiparticle Hamiltonian  \r\n",
      "T00 ERR ...   ====== Diagonalized quasiparticle energies (Hartree) ====== \r\n",
      "T00 ERR ...   Level =    0 PQP = -10.550598 DQP = -10.550784 \r\n",
      "T00 ERR ...   Level =    1 PQP = -0.824112 DQP = -0.824557 \r\n",
      "T00 ERR ...   Level =    2 PQP = -0.503318 DQP = -0.503595 \r\n",
      "T00 ERR ...   Level =    3 PQP = -0.501549 DQP = -0.501756 \r\n",
      "T00 ERR ...   HOMO  =    4 PQP = -0.499250 DQP = -0.499441 \r\n",
      "T00 ERR ...   LUMO  =    5 PQP = +0.276103 DQP = +0.267905 \r\n",
      "T00 ERR ...   Level =    6 PQP = +0.330782 DQP = +0.328894 \r\n",
      "T00 ERR ...   Level =    7 PQP = +0.335774 DQP = +0.334344 \r\n",
      "T00 ERR ...   Level =    8 PQP = +0.337931 DQP = +0.336526 \r\n",
      "T00 ERR ...   Level =    9 PQP = +0.870623 DQP = +0.868943 \r\n",
      "T00 ERR ...   Level =   10 PQP = +0.871775 DQP = +0.869913 \r\n",
      "T00 ERR ...   Level =   11 PQP = +0.873965 DQP = +0.871690 \r\n",
      "T00 ERR ...   Level =   12 PQP = +1.294581 DQP = +1.183170 \r\n",
      "T00 ERR ...   Level =   13 PQP = +1.180297 DQP = +1.189613 \r\n",
      "T00 ERR ...   Level =   14 PQP = +1.185717 DQP = +1.191519 \r\n",
      "T00 ERR ...   Level =   15 PQP = +1.187307 DQP = +1.289811 \r\n",
      "T00 ERR ...   Level =   16 PQP = +1.933788 DQP = +1.947619 \r\n",
      "T00 ERR ... 2025-10-31 2:18:10 Diagonalized QP Hamiltonian  \r\n",
      "T00 ERR ... 2025-10-31 2:18:10 GW calculation took 0.117994483 seconds.\r\n",
      "T00 ERR ... 2025-10-31 2:18:10 Setup Full triplet hamiltonian \r\n",
      "T00 ERR ... 2025-10-31 2:18:10 Davidson Solver using 2 threads.\r\n",
      "T00 ERR ... 2025-10-31 2:18:10 Tolerance : 0.0001\r\n",
      "T00 ERR ... 2025-10-31 2:18:10 DPR Correction\r\n",
      "T00 ERR ... 2025-10-31 2:18:10 Matrix size : 120x120\r\n",
      "T00 ERR ... 2025-10-31 2:18:10 iter\tSearch Space\tNorm\r\n",
      "T00 ERR ... 2025-10-31 2:18:10    0           20 \t 1.28e-01 \t  0.00% converged\r\n",
      "T00 ERR ... 2025-10-31 2:18:10    1           35 \t 1.41e-02 \t  0.00% converged\r\n",
      "T00 ERR ... 2025-10-31 2:18:10    2           50 \t 8.59e-04 \t 10.00% converged"
     ]
    },
    {
     "name": "stdout",
     "output_type": "stream",
     "text": [
      "\r\n",
      "T00 ERR ... 2025-10-31 2:18:10    3           62 \t 2.81e-05 \t 100.00% converged\r\n",
      "T00 ERR ... 2025-10-31 2:18:10 Davidson converged after 3 iterations.\r\n",
      "T00 ERR ... 2025-10-31 2:18:10-----------------------------------\r\n",
      "T00 ERR ... 2025-10-31 2:18:10- Davidson ran for 0.007260651secs.\r\n",
      "T00 ERR ... 2025-10-31 2:18:10-----------------------------------\r\n",
      "T00 ERR ... 2025-10-31 2:18:10 Solved BSE for triplets \r\n",
      "T00 ERR ...   ====== triplet energies (eV) ====== \r\n",
      "T00 ERR ...   T =    1 Omega = +11.590378251005 eV  lamdba = +106.99 nm <FT> = +22.7898 <K_d> = -11.1995\r\n",
      "T00 ERR ...    \r\n",
      "T00 ERR ...   T =    2 Omega = +11.768459600282 eV  lamdba = +105.37 nm <FT> = +22.9507 <K_d> = -11.1823\r\n",
      "T00 ERR ...    \r\n",
      "T00 ERR ...   T =    3 Omega = +11.827147917124 eV  lamdba = +104.84 nm <FT> = +22.4836 <K_d> = -10.6565\r\n",
      "T00 ERR ...    \r\n",
      "T00 ERR ...   T =    4 Omega = +11.875176908402 eV  lamdba = +104.42 nm <FT> = +22.4497 <K_d> = -10.5745\r\n",
      "T00 ERR ...    \r\n",
      "T00 ERR ...   T =    5 Omega = +13.656602547575 eV  lamdba = +90.80 nm <FT> = +22.2469 <K_d> = -8.5903\r\n",
      "T00 ERR ...    \r\n",
      "T00 ERR ...   T =    6 Omega = +13.750216636579 eV  lamdba = +90.18 nm <FT> = +22.2953 <K_d> = -8.5451\r\n",
      "T00 ERR ...    \r\n",
      "T00 ERR ...   T =    7 Omega = +13.943325046038 eV  lamdba = +88.93 nm <FT> = +22.3953 <K_d> = -8.4519\r\n",
      "T00 ERR ...    \r\n",
      "T00 ERR ...   T =    8 Omega = +14.129617129992 eV  lamdba = +87.76 nm <FT> = +22.7313 <K_d> = -8.6017\r\n",
      "T00 ERR ...            HOMO-0   -> LUMO+1    : 72.0%\r\n",
      "T00 ERR ...    \r\n",
      "T00 ERR ...   T =    9 Omega = +14.226395150807 eV  lamdba = +87.16 nm <FT> = +22.8418 <K_d> = -8.6154\r\n",
      "T00 ERR ...    \r\n",
      "T00 ERR ...   T =   10 Omega = +14.374727953330 eV  lamdba = +86.26 nm <FT> = +22.8660 <K_d> = -8.4913\r\n",
      "T00 ERR ...            HOMO-2   -> LUMO+2    : 56.1%\r\n",
      "T00 ERR ...    \r\n",
      "T00 ERR ... 2025-10-31 2:18:10 Setup Full singlet hamiltonian \r\n",
      "T00 ERR ... 2025-10-31 2:18:10 Davidson Solver using 2 threads.\r\n",
      "T00 ERR ... 2025-10-31 2:18:10 Tolerance : 0.0001\r\n",
      "T00 ERR ... 2025-10-31 2:18:10 DPR Correction\r\n",
      "T00 ERR ... 2025-10-31 2:18:10 Matrix size : 120x120\r\n",
      "T00 ERR ... 2025-10-31 2:18:10 iter\tSearch Space\tNorm\r\n",
      "T00 ERR ... 2025-10-31 2:18:10    0           20 \t 1.28e-01 \t  0.00% converged\r\n",
      "T00 ERR ... 2025-10-31 2:18:10    1           35 \t 1.29e-02 \t  0.00% converged\r\n",
      "T00 ERR ... 2025-10-31 2:18:10    2           50 \t 9.32e-04 \t 40.00% converged\r\n",
      "T00 ERR ... 2025-10-31 2:18:10    3           61 \t 3.38e-05 \t 100.00% converged\r\n",
      "T00 ERR ... 2025-10-31 2:18:10 Davidson converged after 3 iterations.\r\n",
      "T00 ERR ... 2025-10-31 2:18:10-----------------------------------\r\n",
      "T00 ERR ... 2025-10-31 2:18:10- Davidson ran for 0.009333413secs.\r\n",
      "T00 ERR ... 2025-10-31 2:18:10-----------------------------------\r\n",
      "T00 ERR ... 2025-10-31 2:18:10 Solved BSE for singlets \r\n",
      "T00 ERR ...   ====== singlet energies (eV) ====== \r\n",
      "T00 ERR ...   S =    1 Omega = +13.838520845903 eV  lamdba = +89.60 nm <FT> = +21.2209 <K_x> = +0.9775 <K_d> = -8.3599\r\n",
      "T00 ERR ...            TrDipole length gauge[e*bohr]  dx = -0.5303 dy = +0.4088 dz = -0.3397 |d|^2 = +0.5637 f = +0.1911\r\n",
      "T00 ERR ...            HOMO-0   -> LUMO+0    : 98.7%\r\n",
      "T00 ERR ... \r\n",
      "T00 ERR ...   S =    2 Omega = +13.899890198146 eV  lamdba = +89.21 nm <FT> = +21.2939 <K_x> = +1.0286 <K_d> = -8.4226\r\n",
      "T00 ERR ...            TrDipole length gauge[e*bohr]  dx = -0.1894 dy = -0.6258 dz = -0.4730 |d|^2 = +0.6512 f = +0.2218\r\n",
      "T00 ERR ...            HOMO-1   -> LUMO+0    : 97.0%\r\n",
      "T00 ERR ... \r\n",
      "T00 ERR ...   S =    3 Omega = +13.966235210328 eV  lamdba = +88.79 nm <FT> = +21.3573 <K_x> = +1.1860 <K_d> = -8.5771\r\n",
      "T00 ERR ...            TrDipole length gauge[e*bohr]  dx = -0.6224 dy = -0.3192 dz = +0.6421 |d|^2 = +0.9015 f = +0.3085\r\n",
      "T00 ERR ...            HOMO-2   -> LUMO+0    : 97.5%\r\n",
      "T00 ERR ... \r\n",
      "T00 ERR ...   S =    4 Omega = +14.551129761595 eV  lamdba = +85.22 nm <FT> = +22.7162 <K_x> = +0.3388 <K_d> = -8.5038\r\n",
      "T00 ERR ...            TrDipole length gauge[e*bohr]  dx = +0.1704 dy = -0.0703 dz = +0.0444 |d|^2 = +0.0360 f = +0.0128\r\n",
      "T00 ERR ...            HOMO-0   -> LUMO+1    : 77.0%\r\n",
      "T00 ERR ... \r\n",
      "T00 ERR ...   S =    5 Omega = +14.601150360772 eV  lamdba = +84.92 nm <FT> = +22.7821 <K_x> = +0.3233 <K_d> = -8.5043\r\n",
      "T00 ERR ...            TrDipole length gauge[e*bohr]  dx = -0.0459 dy = +0.1296 dz = +0.2162 |d|^2 = +0.0656 f = +0.0235\r\n",
      "T00 ERR ...            HOMO-1   -> LUMO+1    : 60.6%\r\n",
      "T00 ERR ... \r\n",
      "T00 ERR ...   S =    6 Omega = +14.637524140373 eV  lamdba = +84.71 nm <FT> = +22.8481 <K_x> = +0.2777 <K_d> = -8.4883\r\n",
      "T00 ERR ...            TrDipole length gauge[e*bohr]  dx = +0.1206 dy = -0.0281 dz = +0.0820 |d|^2 = +0.0221 f = +0.0079\r\n",
      "T00 ERR ...            HOMO-0   -> LUMO+2    : 55.6%\r\n",
      "T00 ERR ... \r\n",
      "T00 ERR ...   S =    7 Omega = +14.990787877183 eV  lamdba = +82.72 nm <FT> = +22.8544 <K_x> = +0.7066 <K_d> = -8.5701\r\n",
      "T00 ERR ...            TrDipole length gauge[e*bohr]  dx = +0.0540 dy = +0.0879 dz = +0.0593 |d|^2 = +0.0142 f = +0.0052\r\n",
      "T00 ERR ... \r\n",
      "T00 ERR ...   S =    8 Omega = +15.014795400452 eV  lamdba = +82.59 nm <FT> = +22.9068 <K_x> = +0.6670 <K_d> = -8.5591\r\n",
      "T00 ERR ...            TrDipole length gauge[e*bohr]  dx = +0.0178 dy = +0.0439 dz = -0.0304 |d|^2 = +0.0032 f = +0.0012\r\n",
      "T00 ERR ...            HOMO-2   -> LUMO+3    : 70.5%\r\n",
      "T00 ERR ... \r\n",
      "T00 ERR ...   S =    9 Omega = +15.998976143333 eV  lamdba = +77.50 nm <FT> = +23.1683 <K_x> = +2.1885 <K_d> = -9.3578\r\n",
      "T00 ERR ...            TrDipole length gauge[e*bohr]  dx = -0.8939 dy = -0.8746 dz = +0.5876 |d|^2 = +1.9093 f = +0.7484\r\n",
      "T00 ERR ...            HOMO-2   -> LUMO+1    : 60.5%\r\n",
      "T00 ERR ... \r\n",
      "T00 ERR ...   S =   10 Omega = +16.031815738043 eV  lamdba = +77.35 nm <FT> = +23.2251 <K_x> = +2.2797 <K_d> = -9.4730\r\n",
      "T00 ERR ...            TrDipole length gauge[e*bohr]  dx = -0.4413 dy = +1.0820 dz = +0.8254 |d|^2 = +2.0467 f = +0.8039\r\n",
      "T00 ERR ... \r\n",
      "T00 ERR ... 2025-10-31 2:18:10 BSE calculation took 0.019153197 seconds.\r\n",
      "T00 ERR ... 2025-10-31 2:18:10 GWBSE calculation finished \r\n",
      "T00 ERR ... Next State is: s1\r\n",
      "T00 ERR ... 2025-10-31 2:18:10 Evaluating polarregion 1\r\n",
      "T00 ERR ... 2025-10-31 2:18:10 Evaluating interaction between polarregion 1 and qmregion 0\r\n",
      "T00 ERR ... Next State is: s1"
     ]
    },
    {
     "name": "stdout",
     "output_type": "stream",
     "text": [
      "\r\n",
      "T00 ERR ... 2025-10-31 2:18:10 Evaluating interaction between polarregion 1 and staticregion 2\r\n",
      "T00 ERR ... 2025-10-31 2:18:10 Starting Solving for classical polarization with 1380 degrees of freedom.\r\n",
      "T00 ERR ... 2025-10-31 2:18:10 CG: #iterations: 1, estimated error: 2.35101933617e-05"
     ]
    },
    {
     "name": "stdout",
     "output_type": "stream",
     "text": [
      "\r\n",
      "T00 ERR ...   Total static energy [hrt]= 0.0009102654542\r\n",
      "T00 ERR ...   Total polar energy [hrt]= 0.0008146013497\r\n",
      "T00 ERR ...  Total energy [hrt]= 0.001724866804\r\n",
      "T00 ERR ... 2025-10-31 2:18:10 Evaluating staticregion 2\r\n",
      "T00 ERR ... 2025-10-31 2:18:10 Writing checkpoint to checkpoint_iter_10.hdf5\r\n",
      "T00 ERR ...  Region:qmregion 0 is not converged deltaE=5.355844905e-07 RMS Dmat=6.754438172e-05 MaxDmat=0.0003882751702\r\n",
      "T00 ERR ... 2025-10-31 2:18:10 Region:polarregion 1 is converged deltaE=7.103651336e-07\r\n",
      "T00 ERR ... 2025-10-31 2:18:10 --Total Energy all regions -39.72067635\r\n",
      "T00 ERR ... 2025-10-31 2:18:10 --Inter Region SCF Iteration 11 of 50\r\n",
      "T00 ERR ... 2025-10-31 2:18:10 Evaluating qmregion 0\r\n",
      "T00 ERR ... 2025-10-31 2:18:10 Evaluating interaction between qmregion 0 and polarregion 1\r\n",
      "T00 ERR ... 2025-10-31 2:18:10 Evaluating interaction between qmregion 0 and staticregion 2\r\n",
      "T00 ERR ... Running DFT calculation\r\n",
      "T00 ERR ... 2025-10-31 2:18:10 Using 2 threads\r\n",
      "T00 ERR ... 2025-10-31 2:18:10 Using native Eigen implementation, no BLAS overload \r\n",
      "T00 ERR ...  Molecule Coordinates [A] \r\n",
      "T00 ERR ...   C   +30.3000 +1.2704 +5.5205\r\n",
      "T00 ERR ...   H   +31.2392 +1.4802 +6.0301\r\n",
      "T00 ERR ...   H   +30.4910 +0.6554 +4.6433\r\n",
      "T00 ERR ...   H   +29.8500 +2.2100 +5.2100\r\n",
      "T00 ERR ...   H   +29.6200 +0.7500 +6.2000"
     ]
    },
    {
     "name": "stdout",
     "output_type": "stream",
     "text": [
      "\r\n",
      "T00 ERR ... 2025-10-31 2:18:10 Loaded DFT Basis Set 3-21G with 17 functions\r\n",
      "T00 ERR ... 2025-10-31 2:18:10 Loaded AUX Basis Set aux-def2-svp with 104 functions\r\n",
      "T00 ERR ... 2025-10-31 2:18:10 Total number of electrons: 10\r\n",
      "T00 ERR ... 2025-10-31 2:18:10 Smallest value of AOOverlap matrix is 0.03364074275\r\n",
      "T00 ERR ... 2025-10-31 2:18:10 Removed 0 basisfunction from inverse overlap matrix\r\n",
      "T00 ERR ... 2025-10-31 2:18:10 Convergence Options:\r\n",
      "T00 ERR ... \t\t Delta E [Ha]: 1e-07\r\n",
      "T00 ERR ... \t\t DIIS max error: 1e-07\r\n",
      "T00 ERR ... \t\t DIIS histlength: 20\r\n",
      "T00 ERR ... \t\t ADIIS start: 0.8\r\n",
      "T00 ERR ... \t\t DIIS start: 0.002\r\n",
      "T00 ERR ... \t\t Deleting oldest element from DIIS hist\r\n",
      "T00 ERR ... \t\t Levelshift[Ha]: 0\r\n",
      "T00 ERR ... \t\t Levelshift end: 0.2\r\n",
      "T00 ERR ... \t\t Mixing Parameter alpha: 0.7\r\n",
      "T00 ERR ... 2025-10-31 2:18:10 Setup invariant parts of Electron Repulsion integrals \r\n",
      "T00 ERR ... 2025-10-31 2:18:10 Constructed independent particle hamiltonian \r\n",
      "T00 ERR ... 2025-10-31 2:18:10 Nuclear Repulsion Energy is 13.4434088\r\n",
      "T00 ERR ... 2025-10-31 2:18:10 1350 External sites\r\n",
      "T00 ERR ...  Name      Coordinates[a0]     charge[e]         dipole[e*a0]    \r\n",
      "T00 ERR ...   C   +63.8902 +7.9543 +11.0171   -0.3282   +0.0090 +0.0011 -0.0060\r\n",
      "T00 ERR ...   H   +62.3892 +6.5470 +10.9796   +0.0824   +0.0094 +0.0029 -0.0001\r\n",
      "T00 ERR ...   H   +65.3194 +7.4736 +9.6186   +0.0822   +0.0038 -0.0009 -0.0023\r\n",
      "T00 ERR ...   H   +63.1170 +9.8077 +10.6203   +0.0817   +0.0015 +0.0014 +0.0010\r\n",
      "T00 ERR ...   H   +64.7422 +7.9557 +12.9068   +0.0819   +0.0043 +0.0033 -0.0007\r\n",
      "T00 ERR ...   C   +63.9128 -0.3996 +22.8673   -0.3282   -0.0029 +0.0014 +0.0052\r\n",
      "T00 ERR ...   H   +63.0449 -1.1731 +21.1692   +0.0824   -0.0001 -0.0006 +0.0015\r\n",
      "T00 ERR ...   H   +62.7676 +1.1530 +23.5795   +0.0822   -0.0015 +0.0049 +0.0022\r\n",
      "T00 ERR ...   H   +64.0430 -1.8922 +24.2830   +0.0817   +0.0010 -0.0004 -0.0009\r\n",
      "T00 ERR ...   H   +65.8004 +0.2810 +22.4122   +0.0819   -0.0036 -0.0009 +0.0017\r\n",
      "T00 ERR ...   C   +61.7182 -0.4374 -3.3115   -0.3282   -0.0002 -0.0018 +0.0010\r\n",
      "T00 ERR ...   H   +60.6600 -1.0798 -4.9554   +0.0824   +0.0011 +0.0014 +0.0012\r\n",
      "T00 ERR ...   H   +63.3309 +0.6815 -3.9252   +0.0822   -0.0014 -0.0019 -0.0006\r\n",
      "T00 ERR ...   H   +62.3800 -2.0623 -2.2148   +0.0817   +0.0010 -0.0019 +0.0013\r\n",
      "T00 ERR ...   H   +60.5092 +0.7345 -2.1392   +0.0819   -0.0027 -0.0035 -0.0019\r\n",
      "T00 ERR ...   C   +62.0402 +12.7739 +4.5175   -0.3282   +0.0027 +0.0004 +0.0017\r\n",
      "T00 ERR ...   H   +60.1049 +13.3052 +4.0622   +0.0824   +0.0002 -0.0013 -0.0010\r\n",
      "T00 ERR ...   H   +62.0812 +11.8167 +6.3372   +0.0822   +0.0006 -0.0022 -0.0015\r\n",
      "T00 ERR ...   H   +63.2115 +14.4753 +4.6109   +0.0817   +0.0028 +0.0023 +0.0014\r\n",
      "T00 ERR ...   H   +62.7769 +11.5084 +3.0803   +0.0819   -0.0003 -0.0009 +0.0006\r\n",
      "T00 ERR ...   C   +60.6789 +14.3239 +12.6808   -0.3282   -0.0020 +0.0028 +0.0014\r\n",
      "T00 ERR ...   H   +61.0756 +13.9461 +10.6972   +0.0824   -0.0038 +0.0040 -0.0004\r\n",
      "T00 ERR ...   H   +61.0224 +16.3108 +13.0851   +0.0822   -0.0001 +0.0006 +0.0033\r\n",
      "T00 ERR ...   H   +58.7327 +13.8328 +13.0580   +0.0817   +0.0007 -0.0002 +0.0003\r\n",
      "T00 ERR ...   H   +61.9074 +13.1525 +13.8517   +0.0819   -0.0006 -0.0006 +0.0035\r\n",
      "T00 ERR ...   C   +68.7870 +4.1961 +17.9521   -0.3282   +0.0049 +0.0003 +0.0063\r\n",
      "T00 ERR ...   H   +68.2015 +2.4962 +18.9532   +0.0824   +0.0001 -0.0005 -0.0013\r\n",
      "T00 ERR ...   H   +67.2445 +4.8625 +16.7665   +0.0822   +0.0015 -0.0030 +0.0028\r\n",
      "T00 ERR ...   H   +70.4303 +3.7606 +16.7997   +0.0817   -0.0007 +0.0010 +0.0004\r\n",
      "T00 ERR ...   H   +69.2964 +5.6503 +19.3130   +0.0819   +0.0011 +0.0009 +0.0055\r\n",
      "T00 ERR ...   C   +54.0832 +4.4983 +27.1938   -0.3282   -0.0007 -0.0025 -0.0012\r\n",
      "T00 ERR ...   H   +53.5372 +6.4564 +27.5139   +0.0824   -0.0012 -0.0015 +0.0002\r\n",
      "T00 ERR ...   H   +52.9768 +3.2670 +28.4141   +0.0822   -0.0007 -0.0015 +0.0003\r\n",
      "T00 ERR ...   H   +53.7249 +4.0062 +25.2278   +0.0817   +0.0021 -0.0009 +0.0002\r\n",
      "T00 ERR ...   H   +56.0682 +4.2330 +27.6278   +0.0819   -0.0032 +0.0014 -0.0015\r\n",
      "T00 ERR ...   C   +63.8174 +6.3112 -1.0788   -0.3282   -0.0007 -0.0003 -0.0004\r\n",
      "T00 ERR ...   H   +65.2393 +6.4796 +0.3993   +0.0824   -0.0003 -0.0010 +0.0014\r\n",
      "T00 ERR ...   H   +62.4364 +4.8836 -0.5459   +0.0822   +0.0020 +0.0009 -0.0008\r\n",
      "T00 ERR ...   H   +64.7422 +5.7637 -2.8384   +0.0817   -0.0005 +0.0027 +0.0002\r\n",
      "T00 ERR ...   H   +62.8903 +8.1258 -1.3455   +0.0819   -0.0006 -0.0016 -0.0037\r\n",
      "T00 ERR ...   C   +64.1752 +19.2751 +7.8615   -0.3282   +0.0049 -0.0000 +0.0006\r\n",
      "T00 ERR ...   H   +62.9276 +19.0860 +6.2359   +0.0824   -0.0011 +0.0004 +0.0021\r\n",
      "T00 ERR ...   H   +63.4396 +18.1623 +9.4267   +0.0822   +0.0013 -0.0002 -0.0003\r\n",
      "T00 ERR ...   H   +66.0461 +18.6138 +7.3699   +0.0817   +0.0012 -0.0009 -0.0001\r\n",
      "T00 ERR ...   H   +64.2509 +21.2405 +8.4282   +0.0819   +0.0017 +0.0008 -0.0004\r\n",
      "T00 ERR ...   C   +61.3975 +17.7254 +18.4625   -0.3282   +0.0021 -0.0003 +0.0025\r\n",
      "T00 ERR ...   H   +60.9990 +19.0346 +16.9256   +0.0824   -0.0004 +0.0012 +0.0002\r\n",
      "T00 ERR ...   H   +61.0958 +18.6680 +20.2653   +0.0822   +0.0001 +0.0000 +0.0003\r\n",
      "T00 ERR ...   H   +60.1502 +16.1005 +18.3303   +0.0817   +0.0028 +0.0005 -0.0006\r\n",
      "T00 ERR ...   H   +63.3627 +17.1020 +18.3492   +0.0819   -0.0014 -0.0005 +0.0014\r\n",
      "T00 ERR ...               ... (1300 sites not displayed)\r\n"
     ]
    },
    {
     "name": "stdout",
     "output_type": "stream",
     "text": [
      "\r\n",
      "T00 ERR ... 2025-10-31 2:18:10 Filled DFT external multipole potential matrix\r\n",
      "T00 ERR ... 2025-10-31 2:18:10 Nuclei-external site interaction energy 0.0204347161\r\n",
      "T00 ERR ... 2025-10-31 2:18:10 Using hybrid functional with alpha=0.25\r\n",
      "T00 ERR ... 2025-10-31 2:18:11 Setup numerical integration grid medium for vxc functional XC_HYB_GGA_XC_PBEH"
     ]
    },
    {
     "name": "stdout",
     "output_type": "stream",
     "text": [
      "\r\n",
      "T00 ERR ... 2025-10-31 2:18:11 Setup Initial Guess using: atom\r\n",
      "T00 ERR ... 2025-10-31 2:18:11 Calculating atom density for C"
     ]
    },
    {
     "name": "stdout",
     "output_type": "stream",
     "text": [
      "\r\n",
      "T00 ERR ... 2025-10-31 2:18:11 Calculating atom density for H"
     ]
    },
    {
     "name": "stdout",
     "output_type": "stream",
     "text": [
      "\r\n",
      "T00 ERR ... 2025-10-31 2:18:11 STARTING SCF cycle\r\n",
      "T00 ERR ...  --------------------------------------------------------------------------\r\n",
      "T00 ERR ... \r\n",
      "T00 ERR ... 2025-10-31 2:18:11 Iteration 1 of 100"
     ]
    },
    {
     "name": "stdout",
     "output_type": "stream",
     "text": [
      "\r\n",
      "T00 ERR ... 2025-10-31 2:18:11 Total Energy -40.1456588366\r\n",
      "T00 ERR ... 2025-10-31 2:18:11 DIIs error 0.219656567759\r\n",
      "T00 ERR ... 2025-10-31 2:18:11 Delta Etot 0\r\n",
      "T00 ERR ... \r\n",
      "T00 ERR ... 2025-10-31 2:18:11 Iteration 2 of 100"
     ]
    },
    {
     "name": "stdout",
     "output_type": "stream",
     "text": [
      "\r\n",
      "T00 ERR ... 2025-10-31 2:18:11 Total Energy -40.1815772378\r\n",
      "T00 ERR ... 2025-10-31 2:18:11 DIIs error 0.1287641267\r\n",
      "T00 ERR ... 2025-10-31 2:18:11 Delta Etot -0.0359184011559\r\n",
      "T00 ERR ... \r\n",
      "T00 ERR ... 2025-10-31 2:18:11 Iteration 3 of 100"
     ]
    },
    {
     "name": "stdout",
     "output_type": "stream",
     "text": [
      "\r\n",
      "T00 ERR ... 2025-10-31 2:18:11 Total Energy -40.1980514636\r\n",
      "T00 ERR ... 2025-10-31 2:18:11 DIIs error 0.0793380633235\r\n",
      "T00 ERR ... 2025-10-31 2:18:11 Delta Etot -0.0164742258368\r\n",
      "T00 ERR ... \r\n",
      "T00 ERR ... 2025-10-31 2:18:11 Iteration 4 of 100"
     ]
    },
    {
     "name": "stdout",
     "output_type": "stream",
     "text": [
      "\r\n",
      "T00 ERR ... 2025-10-31 2:18:12 Total Energy -40.2287121796\r\n",
      "T00 ERR ... 2025-10-31 2:18:12 DIIs error 0.0296185737691\r\n",
      "T00 ERR ... 2025-10-31 2:18:12 Delta Etot -0.0306607159857\r\n",
      "T00 ERR ... \r\n",
      "T00 ERR ... 2025-10-31 2:18:12 Iteration 5 of 100"
     ]
    },
    {
     "name": "stdout",
     "output_type": "stream",
     "text": [
      "\r\n",
      "T00 ERR ... 2025-10-31 2:18:12 Total Energy -40.2286042978\r\n",
      "T00 ERR ... 2025-10-31 2:18:12 DIIs error 0.0311986208618\r\n",
      "T00 ERR ... 2025-10-31 2:18:12 Delta Etot 0.000107881798947\r\n",
      "T00 ERR ... \r\n",
      "T00 ERR ... 2025-10-31 2:18:12 Iteration 6 of 100"
     ]
    },
    {
     "name": "stdout",
     "output_type": "stream",
     "text": [
      "\r\n",
      "T00 ERR ... 2025-10-31 2:18:12 Total Energy -40.2309556284\r\n",
      "T00 ERR ... 2025-10-31 2:18:12 DIIs error 0.000318946182183\r\n",
      "T00 ERR ... 2025-10-31 2:18:12 Delta Etot -0.00235133055183\r\n",
      "T00 ERR ... \r\n",
      "T00 ERR ... 2025-10-31 2:18:12 Iteration 7 of 100"
     ]
    },
    {
     "name": "stdout",
     "output_type": "stream",
     "text": [
      "\r\n",
      "T00 ERR ... 2025-10-31 2:18:12 Total Energy -40.2309558833\r\n",
      "T00 ERR ... 2025-10-31 2:18:12 DIIs error 2.04299058641e-05\r\n",
      "T00 ERR ... 2025-10-31 2:18:12 Delta Etot -2.54894729323e-07\r\n",
      "T00 ERR ... \r\n",
      "T00 ERR ... 2025-10-31 2:18:12 Iteration 8 of 100"
     ]
    },
    {
     "name": "stdout",
     "output_type": "stream",
     "text": [
      "\r\n",
      "T00 ERR ... 2025-10-31 2:18:12 Total Energy -40.2309558835\r\n",
      "T00 ERR ... 2025-10-31 2:18:12 DIIs error 1.08204104531e-05\r\n",
      "T00 ERR ... 2025-10-31 2:18:12 Delta Etot -2.42927455929e-10\r\n",
      "T00 ERR ... \r\n",
      "T00 ERR ... 2025-10-31 2:18:12 Iteration 9 of 100"
     ]
    },
    {
     "name": "stdout",
     "output_type": "stream",
     "text": [
      "\r\n",
      "T00 ERR ... 2025-10-31 2:18:12 Total Energy -40.2309558839\r\n",
      "T00 ERR ... 2025-10-31 2:18:12 DIIs error 3.49982299388e-06\r\n",
      "T00 ERR ... 2025-10-31 2:18:12 Delta Etot -3.88887144709e-10\r\n",
      "T00 ERR ... \r\n",
      "T00 ERR ... 2025-10-31 2:18:12 Iteration 10 of 100"
     ]
    },
    {
     "name": "stdout",
     "output_type": "stream",
     "text": [
      "\r\n",
      "T00 ERR ... 2025-10-31 2:18:12 Total Energy -40.2309558839\r\n",
      "T00 ERR ... 2025-10-31 2:18:12 DIIs error 9.09442056654e-07\r\n",
      "T00 ERR ... 2025-10-31 2:18:12 Delta Etot -4.53397319689e-11\r\n",
      "T00 ERR ... \r\n",
      "T00 ERR ... 2025-10-31 2:18:12 Iteration 11 of 100"
     ]
    },
    {
     "name": "stdout",
     "output_type": "stream",
     "text": [
      "\r\n",
      "T00 ERR ... 2025-10-31 2:18:12 Total Energy -40.2309558839\r\n",
      "T00 ERR ... 2025-10-31 2:18:12 DIIs error 1.36283052148e-09\r\n",
      "T00 ERR ... 2025-10-31 2:18:12 Delta Etot -2.97717406283e-12\r\n",
      "T00 ERR ... 2025-10-31 2:18:12 Total Energy has converged to -2.97717406e-12[Ha] after 11 iterations. DIIS error is converged up to 1.36283052e-09\r\n",
      "T00 ERR ... 2025-10-31 2:18:12 Final Single Point Energy -40.2309558839 Ha\r\n",
      "T00 ERR ... 2025-10-31 2:18:12 Final Local Exc contribution -5.18429662278 Ha\r\n",
      "T00 ERR ... 2025-10-31 2:18:12 Final Non Local Ex contribution -1.6392662868 Ha\r\n",
      "T00 ERR ...   Orbital energies: \r\n",
      "T00 ERR ...   index occupation energy(Hartree) \r\n",
      "T00 ERR ...      0      2   -10.1479483211\r\n",
      "T00 ERR ...      1      2   -0.7122264930\r\n",
      "T00 ERR ...      2      2   -0.4030285345\r\n",
      "T00 ERR ...      3      2   -0.4013497202\r\n",
      "T00 ERR ...      4      2   -0.3991081614\r\n",
      "T00 ERR ...      5      0   +0.1607308508\r\n",
      "T00 ERR ...      6      0   +0.2030118659\r\n",
      "T00 ERR ...      7      0   +0.2081611298\r\n",
      "T00 ERR ...      8      0   +0.2102899897\r\n",
      "T00 ERR ...      9      0   +0.7241156443\r\n",
      "T00 ERR ...     10      0   +0.7253274160\r\n",
      "T00 ERR ...     11      0   +0.7278607800\r\n",
      "T00 ERR ...     12      0   +1.0556243848\r\n",
      "T00 ERR ...     13      0   +1.0853999782\r\n",
      "T00 ERR ...     14      0   +1.0904263813\r\n",
      "T00 ERR ...     15      0   +1.0921194728\r\n",
      "T00 ERR ...     16      0   +1.7121081955\r\n",
      "T00 ERR ... 2025-10-31 2:18:12 Electric Dipole is[e*bohr]:\r\n",
      "\t\t dx=0.0194054623402\r\n",
      "\t\t dy=0.0353595388585\r\n",
      "\t\t dz=-0.0143011207837\r\n",
      "T00 ERR ... Writing result to temp.orb\r\n",
      "T00 ERR ... 2025-10-31 2:18:12 DFT calculation took 1.620311617 seconds."
     ]
    },
    {
     "name": "stdout",
     "output_type": "stream",
     "text": [
      "\r\n",
      "T00 ERR ... 2025-10-31 2:18:12 RPA level range [0:16]\r\n",
      "T00 ERR ... 2025-10-31 2:18:12 GW  level range [0:16]\r\n",
      "T00 ERR ... 2025-10-31 2:18:12 BSE level range occ[0:4]  virt[5:16]\r\n",
      "T00 ERR ...  BSE type: full\r\n",
      "T00 ERR ... 2025-10-31 2:18:12 BSE Hamiltonian has size 120x120\r\n",
      "T00 ERR ...  BSE without Hqp offdiagonal elements\r\n",
      "T00 ERR ...  Running GW as: G0W0\r\n",
      "T00 ERR ...  qp_sc_limit [Hartree]: 1e-05\r\n",
      "T00 ERR ...  Tasks: \r\n",
      "T00 ERR ...  GW \r\n",
      "T00 ERR ...  singlets \r\n",
      "T00 ERR ...  triplets \r\n",
      "T00 ERR ...  Store: \r\n",
      "T00 ERR ...  GW \r\n",
      "T00 ERR ...  Sigma integration: ppm\r\n",
      "T00 ERR ...  eta: 0.001\r\n",
      "T00 ERR ...  QP solver: grid\r\n",
      "T00 ERR ...  QP grid steps: 1001\r\n",
      "T00 ERR ...  QP grid spacing: 0.001\r\n",
      "T00 ERR ... 2025-10-31 2:18:12 Using 2 threads\r\n",
      "T00 ERR ... 2025-10-31 2:18:12 Using native Eigen implementation, no BLAS overload \r\n",
      "T00 ERR ... 2025-10-31 2:18:12 Molecule Coordinates [A] \r\n",
      "T00 ERR ...     0    C   30.3000 1.2704 5.5205\r\n",
      "T00 ERR ...     1    H   31.2392 1.4802 6.0301\r\n",
      "T00 ERR ...     2    H   30.4910 0.6554 4.6433\r\n",
      "T00 ERR ...     3    H   29.8500 2.2100 5.2100\r\n",
      "T00 ERR ...     4    H   29.6200 0.7500 6.2000\r\n",
      "T00 ERR ... 2025-10-31 2:18:12 DFT data was created by xtp\r\n",
      "T00 ERR ... 2025-10-31 2:18:12 Loaded DFT Basis Set 3-21G\r\n",
      "T00 ERR ... 2025-10-31 2:18:12 Filled DFT Basis of size 17\r\n",
      "T00 ERR ... 2025-10-31 2:18:12 Loaded Auxbasis Set aux-def2-svp\r\n",
      "T00 ERR ... 2025-10-31 2:18:12 Filled Auxbasis of size 104\r\n",
      "T00 ERR ... 2025-10-31 2:18:12 Calculating Mmn_beta (3-center-repulsion x orbitals)  \r\n",
      "T00 ERR ... 2025-10-31 2:18:12 Calculated Mmn_beta (3-center-repulsion x orbitals)  \r\n",
      "T00 ERR ... 2025-10-31 2:18:12 Integrating Vxc with functional XC_HYB_GGA_XC_PBEH"
     ]
    },
    {
     "name": "stdout",
     "output_type": "stream",
     "text": [
      "\r\n",
      "T00 ERR ... 2025-10-31 2:18:12 Set hybrid exchange factor: 0.25\r\n",
      "T00 ERR ... 2025-10-31 2:18:12 Calculated exchange-correlation expectation values \r\n",
      "T00 ERR ... 2025-10-31 2:18:12 Calculated Hartree exchange contribution\r\n",
      "T00 ERR ... 2025-10-31 2:18:12 Scissor shifting DFT energies by: 0 Hrt\r\n",
      "T00 ERR ...   ====== Perturbative quasiparticle energies (Hartree) ====== \r\n",
      "T00 ERR ...    DeltaHLGap = +0.215514 Hartree\r\n",
      "T00 ERR ...   Level =    0 DFT = -10.1479 VXC = -1.7031 S-X = -2.6689 S-C = +0.5631 GWA = -10.5506\r\n",
      "T00 ERR ...   Level =    1 DFT = -0.7122 VXC = -0.4404 S-X = -0.6606 S-C = +0.1083 GWA = -0.8241\r\n",
      "T00 ERR ...   Level =    2 DFT = -0.4030 VXC = -0.3959 S-X = -0.5286 S-C = +0.0324 GWA = -0.5033\r\n",
      "T00 ERR ...   Level =    3 DFT = -0.4013 VXC = -0.3967 S-X = -0.5298 S-C = +0.0328 GWA = -0.5015\r\n",
      "T00 ERR ...   HOMO  =    4 DFT = -0.3991 VXC = -0.3970 S-X = -0.5300 S-C = +0.0329 GWA = -0.4992\r\n",
      "T00 ERR ...   LUMO  =    5 DFT = +0.1607 VXC = -0.2418 S-X = -0.1018 S-C = -0.0246 GWA = +0.2761\r\n",
      "T00 ERR ...   Level =    6 DFT = +0.2030 VXC = -0.2616 S-X = -0.1101 S-C = -0.0238 GWA = +0.3308\r\n",
      "T00 ERR ...   Level =    7 DFT = +0.2082 VXC = -0.2612 S-X = -0.1097 S-C = -0.0239 GWA = +0.3358\r\n",
      "T00 ERR ...   Level =    8 DFT = +0.2103 VXC = -0.2613 S-X = -0.1098 S-C = -0.0238 GWA = +0.3379\r\n",
      "T00 ERR ...   Level =    9 DFT = +0.7241 VXC = -0.3183 S-X = -0.1082 S-C = -0.0635 GWA = +0.8706\r\n",
      "T00 ERR ...   Level =   10 DFT = +0.7253 VXC = -0.3182 S-X = -0.1080 S-C = -0.0638 GWA = +0.8718\r\n",
      "T00 ERR ...   Level =   11 DFT = +0.7279 VXC = -0.3177 S-X = -0.1073 S-C = -0.0643 GWA = +0.8740\r\n",
      "T00 ERR ...   Level =   12 DFT = +1.0556 VXC = -0.4047 S-X = -0.1334 S-C = -0.0323 GWA = +1.2946\r\n",
      "T00 ERR ...   Level =   13 DFT = +1.0854 VXC = -0.3963 S-X = -0.1274 S-C = -0.1740 GWA = +1.1803\r\n",
      "T00 ERR ...   Level =   14 DFT = +1.0904 VXC = -0.3953 S-X = -0.1271 S-C = -0.1730 GWA = +1.1857\r\n",
      "T00 ERR ...   Level =   15 DFT = +1.0921 VXC = -0.3946 S-X = -0.1268 S-C = -0.1726 GWA = +1.1873\r\n",
      "T00 ERR ...   Level =   16 DFT = +1.7121 VXC = -0.3559 S-X = -0.1045 S-C = -0.0297 GWA = +1.9338\r\n",
      "T00 ERR ... 2025-10-31 2:18:12 Calculated offdiagonal part of Sigma  \r\n",
      "T00 ERR ... 2025-10-31 2:18:12 Full quasiparticle Hamiltonian  \r\n",
      "T00 ERR ...   ====== Diagonalized quasiparticle energies (Hartree) ====== \r\n",
      "T00 ERR ...   Level =    0 PQP = -10.550598 DQP = -10.550783 \r\n",
      "T00 ERR ...   Level =    1 PQP = -0.824112 DQP = -0.824556 \r\n",
      "T00 ERR ...   Level =    2 PQP = -0.503319 DQP = -0.503595 \r\n",
      "T00 ERR ...   Level =    3 PQP = -0.501549 DQP = -0.501755 \r\n",
      "T00 ERR ...   HOMO  =    4 PQP = -0.499250 DQP = -0.499441 \r\n",
      "T00 ERR ...   LUMO  =    5 PQP = +0.276103 DQP = +0.267905 \r\n",
      "T00 ERR ...   Level =    6 PQP = +0.330781 DQP = +0.328895 \r\n",
      "T00 ERR ...   Level =    7 PQP = +0.335775 DQP = +0.334345 \r\n",
      "T00 ERR ...   Level =    8 PQP = +0.337931 DQP = +0.336525 \r\n",
      "T00 ERR ...   Level =    9 PQP = +0.870624 DQP = +0.868943 \r\n",
      "T00 ERR ...   Level =   10 PQP = +0.871775 DQP = +0.869913 \r\n",
      "T00 ERR ...   Level =   11 PQP = +0.873965 DQP = +0.871690 \r\n",
      "T00 ERR ...   Level =   12 PQP = +1.294580 DQP = +1.183178 \r\n",
      "T00 ERR ...   Level =   13 PQP = +1.180307 DQP = +1.189614 \r\n",
      "T00 ERR ...   Level =   14 PQP = +1.185717 DQP = +1.191513 \r\n",
      "T00 ERR ...   Level =   15 PQP = +1.187297 DQP = +1.289810 \r\n",
      "T00 ERR ...   Level =   16 PQP = +1.933788 DQP = +1.947619 \r\n",
      "T00 ERR ... 2025-10-31 2:18:12 Diagonalized QP Hamiltonian  \r\n",
      "T00 ERR ... 2025-10-31 2:18:12 GW calculation took 0.118135999 seconds.\r\n",
      "T00 ERR ... 2025-10-31 2:18:12 Setup Full triplet hamiltonian \r\n",
      "T00 ERR ... 2025-10-31 2:18:12 Davidson Solver using 2 threads.\r\n",
      "T00 ERR ... 2025-10-31 2:18:12 Tolerance : 0.0001\r\n",
      "T00 ERR ... 2025-10-31 2:18:12 DPR Correction\r\n",
      "T00 ERR ... 2025-10-31 2:18:12 Matrix size : 120x120\r\n",
      "T00 ERR ... 2025-10-31 2:18:12 iter\tSearch Space\tNorm\r\n",
      "T00 ERR ... 2025-10-31 2:18:12    0           20 \t 1.28e-01 \t  0.00% converged\r\n",
      "T00 ERR ... 2025-10-31 2:18:12    1           35 \t 1.41e-02 \t  0.00% converged\r\n",
      "T00 ERR ... 2025-10-31 2:18:12    2           50 \t 8.59e-04 \t 10.00% converged\r\n",
      "T00 ERR ... 2025-10-31 2:18:12    3           62 \t 2.81e-05 \t 100.00% converged\r\n",
      "T00 ERR ... 2025-10-31 2:18:12 Davidson converged after 3 iterations.\r\n",
      "T00 ERR ... 2025-10-31 2:18:12-----------------------------------\r\n",
      "T00 ERR ... 2025-10-31 2:18:12- Davidson ran for 0.007153519secs.\r\n",
      "T00 ERR ... 2025-10-31 2:18:12-----------------------------------\r\n",
      "T00 ERR ... 2025-10-31 2:18:12 Solved BSE for triplets "
     ]
    },
    {
     "name": "stdout",
     "output_type": "stream",
     "text": [
      "\r\n",
      "T00 ERR ...   ====== triplet energies (eV) ====== \r\n",
      "T00 ERR ...   T =    1 Omega = +11.590344971901 eV  lamdba = +106.99 nm <FT> = +22.7897 <K_d> = -11.1994\r\n",
      "T00 ERR ...    \r\n",
      "T00 ERR ...   T =    2 Omega = +11.768470634395 eV  lamdba = +105.37 nm <FT> = +22.9508 <K_d> = -11.1824\r\n",
      "T00 ERR ...    \r\n",
      "T00 ERR ...   T =    3 Omega = +11.827182819556 eV  lamdba = +104.84 nm <FT> = +22.4838 <K_d> = -10.6567\r\n",
      "T00 ERR ...    \r\n",
      "T00 ERR ...   T =    4 Omega = +11.875166718330 eV  lamdba = +104.42 nm <FT> = +22.4496 <K_d> = -10.5744\r\n",
      "T00 ERR ...    \r\n",
      "T00 ERR ...   T =    5 Omega = +13.656575507226 eV  lamdba = +90.80 nm <FT> = +22.2469 <K_d> = -8.5903\r\n",
      "T00 ERR ...    \r\n",
      "T00 ERR ...   T =    6 Omega = +13.750177897106 eV  lamdba = +90.18 nm <FT> = +22.2952 <K_d> = -8.5451\r\n",
      "T00 ERR ...    \r\n",
      "T00 ERR ...   T =    7 Omega = +13.943357642810 eV  lamdba = +88.93 nm <FT> = +22.3953 <K_d> = -8.4519\r\n",
      "T00 ERR ...    \r\n",
      "T00 ERR ...   T =    8 Omega = +14.129606648019 eV  lamdba = +87.76 nm <FT> = +22.7313 <K_d> = -8.6017\r\n",
      "T00 ERR ...            HOMO-0   -> LUMO+1    : 72.0%\r\n",
      "T00 ERR ...    \r\n",
      "T00 ERR ...   T =    9 Omega = +14.226405980502 eV  lamdba = +87.16 nm <FT> = +22.8418 <K_d> = -8.6154\r\n",
      "T00 ERR ...    \r\n",
      "T00 ERR ...   T =   10 Omega = +14.374752757977 eV  lamdba = +86.26 nm <FT> = +22.8660 <K_d> = -8.4913\r\n",
      "T00 ERR ...            HOMO-2   -> LUMO+2    : 56.0%\r\n",
      "T00 ERR ...    \r\n",
      "T00 ERR ... 2025-10-31 2:18:12 Setup Full singlet hamiltonian \r\n",
      "T00 ERR ... 2025-10-31 2:18:12 Davidson Solver using 2 threads.\r\n",
      "T00 ERR ... 2025-10-31 2:18:12 Tolerance : 0.0001\r\n",
      "T00 ERR ... 2025-10-31 2:18:12 DPR Correction\r\n",
      "T00 ERR ... 2025-10-31 2:18:12 Matrix size : 120x120\r\n",
      "T00 ERR ... 2025-10-31 2:18:12 iter\tSearch Space\tNorm\r\n",
      "T00 ERR ... 2025-10-31 2:18:12    0           20 \t 1.28e-01 \t  0.00% converged\r\n",
      "T00 ERR ... 2025-10-31 2:18:12    1           35 \t 1.29e-02 \t  0.00% converged\r\n",
      "T00 ERR ... 2025-10-31 2:18:12    2           50 \t 9.32e-04 \t 40.00% converged\r\n",
      "T00 ERR ... 2025-10-31 2:18:12    3           61 \t 3.38e-05 \t 100.00% converged\r\n",
      "T00 ERR ... 2025-10-31 2:18:12 Davidson converged after 3 iterations.\r\n",
      "T00 ERR ... 2025-10-31 2:18:12-----------------------------------\r\n",
      "T00 ERR ... 2025-10-31 2:18:12- Davidson ran for 0.009612476secs.\r\n",
      "T00 ERR ... 2025-10-31 2:18:12-----------------------------------\r\n",
      "T00 ERR ... 2025-10-31 2:18:12 Solved BSE for singlets \r\n",
      "T00 ERR ...   ====== singlet energies (eV) ====== \r\n",
      "T00 ERR ...   S =    1 Omega = +13.838506640197 eV  lamdba = +89.61 nm <FT> = +21.2209 <K_x> = +0.9775 <K_d> = -8.3599\r\n",
      "T00 ERR ...            TrDipole length gauge[e*bohr]  dx = -0.5303 dy = +0.4087 dz = -0.3397 |d|^2 = +0.5637 f = +0.1911\r\n",
      "T00 ERR ...            HOMO-0   -> LUMO+0    : 98.7%\r\n",
      "T00 ERR ... \r\n",
      "T00 ERR ...   S =    2 Omega = +13.899873480364 eV  lamdba = +89.21 nm <FT> = +21.2939 <K_x> = +1.0286 <K_d> = -8.4226\r\n",
      "T00 ERR ...            TrDipole length gauge[e*bohr]  dx = -0.1892 dy = -0.6258 dz = -0.4730 |d|^2 = +0.6512 f = +0.2218\r\n",
      "T00 ERR ...            HOMO-1   -> LUMO+0    : 97.0%\r\n",
      "T00 ERR ... \r\n",
      "T00 ERR ...   S =    3 Omega = +13.966246528102 eV  lamdba = +88.79 nm <FT> = +21.3573 <K_x> = +1.1861 <K_d> = -8.5771\r\n",
      "T00 ERR ...            TrDipole length gauge[e*bohr]  dx = -0.6224 dy = -0.3192 dz = +0.6421 |d|^2 = +0.9016 f = +0.3085\r\n",
      "T00 ERR ...            HOMO-2   -> LUMO+0    : 97.5%\r\n",
      "T00 ERR ... \r\n",
      "T00 ERR ...   S =    4 Omega = +14.551119373014 eV  lamdba = +85.22 nm <FT> = +22.7161 <K_x> = +0.3388 <K_d> = -8.5038\r\n",
      "T00 ERR ...            TrDipole length gauge[e*bohr]  dx = +0.1704 dy = -0.0703 dz = +0.0444 |d|^2 = +0.0360 f = +0.0128\r\n",
      "T00 ERR ...            HOMO-0   -> LUMO+1    : 77.0%\r\n",
      "T00 ERR ... \r\n",
      "T00 ERR ...   S =    5 Omega = +14.601149540698 eV  lamdba = +84.92 nm <FT> = +22.7821 <K_x> = +0.3233 <K_d> = -8.5043\r\n",
      "T00 ERR ...            TrDipole length gauge[e*bohr]  dx = -0.0459 dy = +0.1296 dz = +0.2162 |d|^2 = +0.0657 f = +0.0235\r\n",
      "T00 ERR ...            HOMO-1   -> LUMO+1    : 60.6%\r\n",
      "T00 ERR ... \r\n",
      "T00 ERR ...   S =    6 Omega = +14.637535725432 eV  lamdba = +84.71 nm <FT> = +22.8482 <K_x> = +0.2777 <K_d> = -8.4883\r\n",
      "T00 ERR ...            TrDipole length gauge[e*bohr]  dx = +0.1207 dy = -0.0281 dz = +0.0820 |d|^2 = +0.0221 f = +0.0079\r\n",
      "T00 ERR ...            HOMO-0   -> LUMO+2    : 55.6%\r\n",
      "T00 ERR ... \r\n",
      "T00 ERR ...   S =    7 Omega = +14.990795226246 eV  lamdba = +82.72 nm <FT> = +22.8544 <K_x> = +0.7066 <K_d> = -8.5701\r\n",
      "T00 ERR ...            TrDipole length gauge[e*bohr]  dx = +0.0540 dy = +0.0879 dz = +0.0593 |d|^2 = +0.0142 f = +0.0052\r\n",
      "T00 ERR ... \r\n",
      "T00 ERR ...   S =    8 Omega = +15.014806800728 eV  lamdba = +82.59 nm <FT> = +22.9069 <K_x> = +0.6670 <K_d> = -8.5590\r\n",
      "T00 ERR ...            TrDipole length gauge[e*bohr]  dx = +0.0177 dy = +0.0439 dz = -0.0303 |d|^2 = +0.0032 f = +0.0012\r\n",
      "T00 ERR ...            HOMO-2   -> LUMO+3    : 70.5%\r\n",
      "T00 ERR ... \r\n",
      "T00 ERR ...   S =    9 Omega = +15.998973119260 eV  lamdba = +77.50 nm <FT> = +23.1683 <K_x> = +2.1885 <K_d> = -9.3577\r\n",
      "T00 ERR ...            TrDipole length gauge[e*bohr]  dx = -0.8939 dy = -0.8746 dz = +0.5877 |d|^2 = +1.9093 f = +0.7484\r\n",
      "T00 ERR ...            HOMO-2   -> LUMO+1    : 60.5%\r\n",
      "T00 ERR ... \r\n",
      "T00 ERR ...   S =   10 Omega = +16.031817507857 eV  lamdba = +77.35 nm <FT> = +23.2251 <K_x> = +2.2797 <K_d> = -9.4731\r\n",
      "T00 ERR ...            TrDipole length gauge[e*bohr]  dx = -0.4415 dy = +1.0821 dz = +0.8252 |d|^2 = +2.0467 f = +0.8039\r\n",
      "T00 ERR ... \r\n",
      "T00 ERR ... 2025-10-31 2:18:12 BSE calculation took 0.01905326 seconds.\r\n",
      "T00 ERR ... 2025-10-31 2:18:12 GWBSE calculation finished \r\n",
      "T00 ERR ... Next State is: s1\r\n",
      "T00 ERR ... 2025-10-31 2:18:12 Evaluating polarregion 1\r\n",
      "T00 ERR ... 2025-10-31 2:18:12 Evaluating interaction between polarregion 1 and qmregion 0\r\n",
      "T00 ERR ... Next State is: s1"
     ]
    },
    {
     "name": "stdout",
     "output_type": "stream",
     "text": [
      "\r\n",
      "T00 ERR ... 2025-10-31 2:18:13 Evaluating interaction between polarregion 1 and staticregion 2\r\n",
      "T00 ERR ... 2025-10-31 2:18:13 Starting Solving for classical polarization with 1380 degrees of freedom.\r\n",
      "T00 ERR ... 2025-10-31 2:18:13 CG: #iterations: 1, estimated error: 1.15274918165e-05\r\n",
      "T00 ERR ...   Total static energy [hrt]= 0.0009102654542\r\n",
      "T00 ERR ...   Total polar energy [hrt]= 0.0008149399292\r\n",
      "T00 ERR ...  Total energy [hrt]= 0.001725205383\r\n",
      "T00 ERR ... 2025-10-31 2:18:13 Evaluating staticregion 2\r\n",
      "T00 ERR ... 2025-10-31 2:18:13 Writing checkpoint to checkpoint_iter_11.hdf5"
     ]
    },
    {
     "name": "stdout",
     "output_type": "stream",
     "text": [
      "\r\n",
      "T00 ERR ...  Region:qmregion 0 is not converged deltaE=1.075990625e-06 RMS Dmat=3.268857281e-05 MaxDmat=0.000188116238\r\n",
      "T00 ERR ... 2025-10-31 2:18:13 Region:polarregion 1 is converged deltaE=3.385795583e-07\r\n",
      "T00 ERR ... 2025-10-31 2:18:13 --Total Energy all regions -39.72067494\r\n",
      "T00 ERR ... 2025-10-31 2:18:13 --Inter Region SCF Iteration 12 of 50\r\n",
      "T00 ERR ... 2025-10-31 2:18:13 Evaluating qmregion 0\r\n",
      "T00 ERR ... 2025-10-31 2:18:13 Evaluating interaction between qmregion 0 and polarregion 1\r\n",
      "T00 ERR ... 2025-10-31 2:18:13 Evaluating interaction between qmregion 0 and staticregion 2\r\n",
      "T00 ERR ... Running DFT calculation\r\n",
      "T00 ERR ... 2025-10-31 2:18:13 Using 2 threads\r\n",
      "T00 ERR ... 2025-10-31 2:18:13 Using native Eigen implementation, no BLAS overload \r\n",
      "T00 ERR ...  Molecule Coordinates [A] \r\n",
      "T00 ERR ...   C   +30.3000 +1.2704 +5.5205\r\n",
      "T00 ERR ...   H   +31.2392 +1.4802 +6.0301\r\n",
      "T00 ERR ...   H   +30.4910 +0.6554 +4.6433\r\n",
      "T00 ERR ...   H   +29.8500 +2.2100 +5.2100\r\n",
      "T00 ERR ...   H   +29.6200 +0.7500 +6.2000\r\n",
      "T00 ERR ... 2025-10-31 2:18:13 Loaded DFT Basis Set 3-21G with 17 functions"
     ]
    },
    {
     "name": "stdout",
     "output_type": "stream",
     "text": [
      "\r\n",
      "T00 ERR ... 2025-10-31 2:18:13 Loaded AUX Basis Set aux-def2-svp with 104 functions\r\n",
      "T00 ERR ... 2025-10-31 2:18:13 Total number of electrons: 10\r\n",
      "T00 ERR ... 2025-10-31 2:18:13 Smallest value of AOOverlap matrix is 0.03364074275\r\n",
      "T00 ERR ... 2025-10-31 2:18:13 Removed 0 basisfunction from inverse overlap matrix\r\n",
      "T00 ERR ... 2025-10-31 2:18:13 Convergence Options:\r\n",
      "T00 ERR ... \t\t Delta E [Ha]: 1e-07\r\n",
      "T00 ERR ... \t\t DIIS max error: 1e-07\r\n",
      "T00 ERR ... \t\t DIIS histlength: 20\r\n",
      "T00 ERR ... \t\t ADIIS start: 0.8\r\n",
      "T00 ERR ... \t\t DIIS start: 0.002\r\n",
      "T00 ERR ... \t\t Deleting oldest element from DIIS hist\r\n",
      "T00 ERR ... \t\t Levelshift[Ha]: 0\r\n",
      "T00 ERR ... \t\t Levelshift end: 0.2\r\n",
      "T00 ERR ... \t\t Mixing Parameter alpha: 0.7\r\n",
      "T00 ERR ... 2025-10-31 2:18:13 Setup invariant parts of Electron Repulsion integrals \r\n",
      "T00 ERR ... 2025-10-31 2:18:13 Constructed independent particle hamiltonian \r\n",
      "T00 ERR ... 2025-10-31 2:18:13 Nuclear Repulsion Energy is 13.4434088\r\n",
      "T00 ERR ... 2025-10-31 2:18:13 1350 External sites\r\n",
      "T00 ERR ...  Name      Coordinates[a0]     charge[e]         dipole[e*a0]    \r\n",
      "T00 ERR ...   C   +63.8902 +7.9543 +11.0171   -0.3282   +0.0090 +0.0011 -0.0060\r\n",
      "T00 ERR ...   H   +62.3892 +6.5470 +10.9796   +0.0824   +0.0094 +0.0029 -0.0001\r\n",
      "T00 ERR ...   H   +65.3194 +7.4736 +9.6186   +0.0822   +0.0038 -0.0009 -0.0023\r\n",
      "T00 ERR ...   H   +63.1170 +9.8077 +10.6203   +0.0817   +0.0015 +0.0014 +0.0010\r\n",
      "T00 ERR ...   H   +64.7422 +7.9557 +12.9068   +0.0819   +0.0043 +0.0033 -0.0007\r\n",
      "T00 ERR ...   C   +63.9128 -0.3996 +22.8673   -0.3282   -0.0029 +0.0014 +0.0052\r\n",
      "T00 ERR ...   H   +63.0449 -1.1731 +21.1692   +0.0824   -0.0001 -0.0006 +0.0015\r\n",
      "T00 ERR ...   H   +62.7676 +1.1530 +23.5795   +0.0822   -0.0015 +0.0049 +0.0022\r\n",
      "T00 ERR ...   H   +64.0430 -1.8922 +24.2830   +0.0817   +0.0010 -0.0004 -0.0009\r\n",
      "T00 ERR ...   H   +65.8004 +0.2810 +22.4122   +0.0819   -0.0036 -0.0009 +0.0017\r\n",
      "T00 ERR ...   C   +61.7182 -0.4374 -3.3115   -0.3282   -0.0002 -0.0018 +0.0010\r\n",
      "T00 ERR ...   H   +60.6600 -1.0798 -4.9554   +0.0824   +0.0011 +0.0014 +0.0012\r\n",
      "T00 ERR ...   H   +63.3309 +0.6815 -3.9252   +0.0822   -0.0014 -0.0019 -0.0006\r\n",
      "T00 ERR ...   H   +62.3800 -2.0623 -2.2148   +0.0817   +0.0010 -0.0019 +0.0013\r\n",
      "T00 ERR ...   H   +60.5092 +0.7345 -2.1392   +0.0819   -0.0027 -0.0035 -0.0019\r\n",
      "T00 ERR ...   C   +62.0402 +12.7739 +4.5175   -0.3282   +0.0027 +0.0004 +0.0017\r\n",
      "T00 ERR ...   H   +60.1049 +13.3052 +4.0622   +0.0824   +0.0002 -0.0013 -0.0010\r\n",
      "T00 ERR ...   H   +62.0812 +11.8167 +6.3372   +0.0822   +0.0006 -0.0022 -0.0015\r\n",
      "T00 ERR ...   H   +63.2115 +14.4753 +4.6109   +0.0817   +0.0028 +0.0023 +0.0014\r\n",
      "T00 ERR ...   H   +62.7769 +11.5084 +3.0803   +0.0819   -0.0003 -0.0009 +0.0006\r\n",
      "T00 ERR ...   C   +60.6789 +14.3239 +12.6808   -0.3282   -0.0020 +0.0028 +0.0014\r\n",
      "T00 ERR ...   H   +61.0756 +13.9461 +10.6972   +0.0824   -0.0038 +0.0040 -0.0004\r\n",
      "T00 ERR ...   H   +61.0224 +16.3108 +13.0851   +0.0822   -0.0001 +0.0006 +0.0033\r\n",
      "T00 ERR ...   H   +58.7327 +13.8328 +13.0580   +0.0817   +0.0007 -0.0002 +0.0003\r\n",
      "T00 ERR ...   H   +61.9074 +13.1525 +13.8517   +0.0819   -0.0006 -0.0006 +0.0035\r\n",
      "T00 ERR ...   C   +68.7870 +4.1961 +17.9521   -0.3282   +0.0049 +0.0003 +0.0063\r\n",
      "T00 ERR ...   H   +68.2015 +2.4962 +18.9532   +0.0824   +0.0001 -0.0005 -0.0013\r\n",
      "T00 ERR ...   H   +67.2445 +4.8625 +16.7665   +0.0822   +0.0015 -0.0030 +0.0028\r\n",
      "T00 ERR ...   H   +70.4303 +3.7606 +16.7997   +0.0817   -0.0007 +0.0010 +0.0004\r\n",
      "T00 ERR ...   H   +69.2964 +5.6503 +19.3130   +0.0819   +0.0011 +0.0009 +0.0055\r\n",
      "T00 ERR ...   C   +54.0832 +4.4983 +27.1938   -0.3282   -0.0007 -0.0025 -0.0012\r\n",
      "T00 ERR ...   H   +53.5372 +6.4564 +27.5139   +0.0824   -0.0012 -0.0015 +0.0002\r\n",
      "T00 ERR ...   H   +52.9768 +3.2670 +28.4141   +0.0822   -0.0007 -0.0015 +0.0003\r\n",
      "T00 ERR ...   H   +53.7249 +4.0062 +25.2278   +0.0817   +0.0021 -0.0009 +0.0002\r\n",
      "T00 ERR ...   H   +56.0682 +4.2330 +27.6278   +0.0819   -0.0032 +0.0014 -0.0015\r\n",
      "T00 ERR ...   C   +63.8174 +6.3112 -1.0788   -0.3282   -0.0007 -0.0003 -0.0004\r\n",
      "T00 ERR ...   H   +65.2393 +6.4796 +0.3993   +0.0824   -0.0003 -0.0010 +0.0014\r\n",
      "T00 ERR ...   H   +62.4364 +4.8836 -0.5459   +0.0822   +0.0020 +0.0009 -0.0008\r\n",
      "T00 ERR ...   H   +64.7422 +5.7637 -2.8384   +0.0817   -0.0005 +0.0027 +0.0002\r\n",
      "T00 ERR ...   H   +62.8903 +8.1258 -1.3455   +0.0819   -0.0006 -0.0016 -0.0037\r\n",
      "T00 ERR ...   C   +64.1752 +19.2751 +7.8615   -0.3282   +0.0049 -0.0000 +0.0006\r\n",
      "T00 ERR ...   H   +62.9276 +19.0860 +6.2359   +0.0824   -0.0011 +0.0004 +0.0021\r\n",
      "T00 ERR ...   H   +63.4396 +18.1623 +9.4267   +0.0822   +0.0013 -0.0002 -0.0003\r\n",
      "T00 ERR ...   H   +66.0461 +18.6138 +7.3699   +0.0817   +0.0012 -0.0009 -0.0001\r\n",
      "T00 ERR ...   H   +64.2509 +21.2405 +8.4282   +0.0819   +0.0017 +0.0008 -0.0004\r\n",
      "T00 ERR ...   C   +61.3975 +17.7254 +18.4625   -0.3282   +0.0021 -0.0003 +0.0025\r\n",
      "T00 ERR ...   H   +60.9990 +19.0346 +16.9256   +0.0824   -0.0004 +0.0012 +0.0002\r\n",
      "T00 ERR ...   H   +61.0958 +18.6680 +20.2653   +0.0822   +0.0001 +0.0000 +0.0003\r\n",
      "T00 ERR ...   H   +60.1502 +16.1005 +18.3303   +0.0817   +0.0028 +0.0005 -0.0006\r\n",
      "T00 ERR ...   H   +63.3627 +17.1020 +18.3492   +0.0819   -0.0014 -0.0005 +0.0014\r\n",
      "T00 ERR ...               ... (1300 sites not displayed)\r\n"
     ]
    },
    {
     "name": "stdout",
     "output_type": "stream",
     "text": [
      "\r\n",
      "T00 ERR ... 2025-10-31 2:18:13 Filled DFT external multipole potential matrix\r\n",
      "T00 ERR ... 2025-10-31 2:18:13 Nuclei-external site interaction energy 0.0204347161\r\n",
      "T00 ERR ... 2025-10-31 2:18:13 Using hybrid functional with alpha=0.25\r\n",
      "T00 ERR ... 2025-10-31 2:18:13 Setup numerical integration grid medium for vxc functional XC_HYB_GGA_XC_PBEH"
     ]
    },
    {
     "name": "stdout",
     "output_type": "stream",
     "text": [
      "\r\n",
      "T00 ERR ... 2025-10-31 2:18:13 Setup Initial Guess using: atom\r\n",
      "T00 ERR ... 2025-10-31 2:18:13 Calculating atom density for C"
     ]
    },
    {
     "name": "stdout",
     "output_type": "stream",
     "text": [
      "\r\n",
      "T00 ERR ... 2025-10-31 2:18:13 Calculating atom density for H"
     ]
    },
    {
     "name": "stdout",
     "output_type": "stream",
     "text": [
      "\r\n",
      "T00 ERR ... 2025-10-31 2:18:13 STARTING SCF cycle\r\n",
      "T00 ERR ...  --------------------------------------------------------------------------\r\n",
      "T00 ERR ... \r\n",
      "T00 ERR ... 2025-10-31 2:18:13 Iteration 1 of 100"
     ]
    },
    {
     "name": "stdout",
     "output_type": "stream",
     "text": [
      "\r\n",
      "T00 ERR ... 2025-10-31 2:18:13 Total Energy -40.1456579855\r\n",
      "T00 ERR ... 2025-10-31 2:18:13 DIIs error 0.219656567285\r\n",
      "T00 ERR ... 2025-10-31 2:18:13 Delta Etot 0\r\n",
      "T00 ERR ... \r\n",
      "T00 ERR ... 2025-10-31 2:18:13 Iteration 2 of 100"
     ]
    },
    {
     "name": "stdout",
     "output_type": "stream",
     "text": [
      "\r\n",
      "T00 ERR ... 2025-10-31 2:18:14 Total Energy -40.1815763865\r\n",
      "T00 ERR ... 2025-10-31 2:18:14 DIIs error 0.128764126699\r\n",
      "T00 ERR ... 2025-10-31 2:18:14 Delta Etot -0.0359184009341\r\n",
      "T00 ERR ... \r\n",
      "T00 ERR ... 2025-10-31 2:18:14 Iteration 3 of 100"
     ]
    },
    {
     "name": "stdout",
     "output_type": "stream",
     "text": [
      "\r\n",
      "T00 ERR ... 2025-10-31 2:18:14 Total Energy -40.1980506123\r\n",
      "T00 ERR ... 2025-10-31 2:18:14 DIIs error 0.0793380633948\r\n",
      "T00 ERR ... 2025-10-31 2:18:14 Delta Etot -0.0164742257933\r\n",
      "T00 ERR ... \r\n",
      "T00 ERR ... 2025-10-31 2:18:14 Iteration 4 of 100"
     ]
    },
    {
     "name": "stdout",
     "output_type": "stream",
     "text": [
      "\r\n",
      "T00 ERR ... 2025-10-31 2:18:14 Total Energy -40.2287113281\r\n",
      "T00 ERR ... 2025-10-31 2:18:14 DIIs error 0.02961856188\r\n",
      "T00 ERR ... 2025-10-31 2:18:14 Delta Etot -0.0306607158591\r\n",
      "T00 ERR ... \r\n",
      "T00 ERR ... 2025-10-31 2:18:14 Iteration 5 of 100"
     ]
    },
    {
     "name": "stdout",
     "output_type": "stream",
     "text": [
      "\r\n",
      "T00 ERR ... 2025-10-31 2:18:14 Total Energy -40.2286034464\r\n",
      "T00 ERR ... 2025-10-31 2:18:14 DIIs error 0.0311986091432\r\n",
      "T00 ERR ... 2025-10-31 2:18:14 Delta Etot 0.000107881764514\r\n",
      "T00 ERR ... \r\n",
      "T00 ERR ... 2025-10-31 2:18:14 Iteration 6 of 100"
     ]
    },
    {
     "name": "stdout",
     "output_type": "stream",
     "text": [
      "\r\n",
      "T00 ERR ... 2025-10-31 2:18:14 Total Energy -40.2309547769\r\n",
      "T00 ERR ... 2025-10-31 2:18:14 DIIs error 0.000318946011486\r\n",
      "T00 ERR ... 2025-10-31 2:18:14 Delta Etot -0.00235133052116\r\n",
      "T00 ERR ... \r\n",
      "T00 ERR ... 2025-10-31 2:18:14 Iteration 7 of 100"
     ]
    },
    {
     "name": "stdout",
     "output_type": "stream",
     "text": [
      "\r\n",
      "T00 ERR ... 2025-10-31 2:18:14 Total Energy -40.2309550318\r\n",
      "T00 ERR ... 2025-10-31 2:18:14 DIIs error 2.04296437934e-05\r\n",
      "T00 ERR ... 2025-10-31 2:18:14 Delta Etot -2.54894587215e-07\r\n",
      "T00 ERR ... \r\n",
      "T00 ERR ... 2025-10-31 2:18:14 Iteration 8 of 100"
     ]
    },
    {
     "name": "stdout",
     "output_type": "stream",
     "text": [
      "\r\n",
      "T00 ERR ... 2025-10-31 2:18:14 Total Energy -40.230955032\r\n",
      "T00 ERR ... 2025-10-31 2:18:14 DIIs error 1.08203845888e-05\r\n",
      "T00 ERR ... 2025-10-31 2:18:14 Delta Etot -2.42991404775e-10\r\n",
      "T00 ERR ... \r\n",
      "T00 ERR ... 2025-10-31 2:18:14 Iteration 9 of 100"
     ]
    },
    {
     "name": "stdout",
     "output_type": "stream",
     "text": [
      "\r\n",
      "T00 ERR ... 2025-10-31 2:18:14 Total Energy -40.2309550324\r\n",
      "T00 ERR ... 2025-10-31 2:18:14 DIIs error 3.50016891568e-06\r\n",
      "T00 ERR ... 2025-10-31 2:18:14 Delta Etot -3.88837406717e-10\r\n",
      "T00 ERR ... \r\n",
      "T00 ERR ... 2025-10-31 2:18:14 Iteration 10 of 100"
     ]
    },
    {
     "name": "stdout",
     "output_type": "stream",
     "text": [
      "\r\n",
      "T00 ERR ... 2025-10-31 2:18:14 Total Energy -40.2309550325\r\n",
      "T00 ERR ... 2025-10-31 2:18:14 DIIs error 9.09461757615e-07\r\n",
      "T00 ERR ... 2025-10-31 2:18:14 Delta Etot -4.54036808151e-11\r\n",
      "T00 ERR ... \r\n",
      "T00 ERR ... 2025-10-31 2:18:14 Iteration 11 of 100"
     ]
    },
    {
     "name": "stdout",
     "output_type": "stream",
     "text": [
      "\r\n",
      "T00 ERR ... 2025-10-31 2:18:14 Total Energy -40.2309550325\r\n",
      "T00 ERR ... 2025-10-31 2:18:14 DIIs error 1.36282979117e-09\r\n",
      "T00 ERR ... 2025-10-31 2:18:14 Delta Etot -2.92743607133e-12\r\n",
      "T00 ERR ... 2025-10-31 2:18:14 Total Energy has converged to -2.92743607e-12[Ha] after 11 iterations. DIIS error is converged up to 1.36282979e-09\r\n",
      "T00 ERR ... 2025-10-31 2:18:14 Final Single Point Energy -40.2309550325 Ha\r\n",
      "T00 ERR ... 2025-10-31 2:18:14 Final Local Exc contribution -5.18429662116 Ha\r\n",
      "T00 ERR ... 2025-10-31 2:18:14 Final Non Local Ex contribution -1.63926628625 Ha\r\n",
      "T00 ERR ...   Orbital energies: \r\n",
      "T00 ERR ...   index occupation energy(Hartree) \r\n",
      "T00 ERR ...      0      2   -10.1479482359\r\n",
      "T00 ERR ...      1      2   -0.7122264101\r\n",
      "T00 ERR ...      2      2   -0.4030286246\r\n",
      "T00 ERR ...      3      2   -0.4013495108\r\n",
      "T00 ERR ...      4      2   -0.3991080271\r\n",
      "T00 ERR ...      5      0   +0.1607308421\r\n",
      "T00 ERR ...      6      0   +0.2030115977\r\n",
      "T00 ERR ...      7      0   +0.2081616669\r\n",
      "T00 ERR ...      8      0   +0.2102901036\r\n",
      "T00 ERR ...      9      0   +0.7241157402\r\n",
      "T00 ERR ...     10      0   +0.7253274491\r\n",
      "T00 ERR ...     11      0   +0.7278608988\r\n",
      "T00 ERR ...     12      0   +1.0556243864\r\n",
      "T00 ERR ...     13      0   +1.0853997788\r\n",
      "T00 ERR ...     14      0   +1.0904269123\r\n",
      "T00 ERR ...     15      0   +1.0921195005\r\n",
      "T00 ERR ...     16      0   +1.7121082860\r\n",
      "T00 ERR ... 2025-10-31 2:18:14 Electric Dipole is[e*bohr]:\r\n",
      "\t\t dx=0.0194123783368\r\n",
      "\t\t dy=0.0353603058224\r\n",
      "\t\t dz=-0.0143020631985\r\n",
      "T00 ERR ... Writing result to temp.orb\r\n",
      "T00 ERR ... 2025-10-31 2:18:14 DFT calculation took 1.623080923 seconds."
     ]
    },
    {
     "name": "stdout",
     "output_type": "stream",
     "text": [
      "\r\n",
      "T00 ERR ... 2025-10-31 2:18:14 RPA level range [0:16]\r\n",
      "T00 ERR ... 2025-10-31 2:18:14 GW  level range [0:16]\r\n",
      "T00 ERR ... 2025-10-31 2:18:14 BSE level range occ[0:4]  virt[5:16]\r\n",
      "T00 ERR ...  BSE type: full\r\n",
      "T00 ERR ... 2025-10-31 2:18:14 BSE Hamiltonian has size 120x120\r\n",
      "T00 ERR ...  BSE without Hqp offdiagonal elements\r\n",
      "T00 ERR ...  Running GW as: G0W0\r\n",
      "T00 ERR ...  qp_sc_limit [Hartree]: 1e-05\r\n",
      "T00 ERR ...  Tasks: \r\n",
      "T00 ERR ...  GW \r\n",
      "T00 ERR ...  singlets \r\n",
      "T00 ERR ...  triplets \r\n",
      "T00 ERR ...  Store: \r\n",
      "T00 ERR ...  GW \r\n",
      "T00 ERR ...  Sigma integration: ppm\r\n",
      "T00 ERR ...  eta: 0.001\r\n",
      "T00 ERR ...  QP solver: grid\r\n",
      "T00 ERR ...  QP grid steps: 1001\r\n",
      "T00 ERR ...  QP grid spacing: 0.001\r\n",
      "T00 ERR ... 2025-10-31 2:18:14 Using 2 threads\r\n",
      "T00 ERR ... 2025-10-31 2:18:14 Using native Eigen implementation, no BLAS overload \r\n",
      "T00 ERR ... 2025-10-31 2:18:14 Molecule Coordinates [A] \r\n",
      "T00 ERR ...     0    C   30.3000 1.2704 5.5205\r\n",
      "T00 ERR ...     1    H   31.2392 1.4802 6.0301\r\n",
      "T00 ERR ...     2    H   30.4910 0.6554 4.6433\r\n",
      "T00 ERR ...     3    H   29.8500 2.2100 5.2100\r\n",
      "T00 ERR ...     4    H   29.6200 0.7500 6.2000\r\n",
      "T00 ERR ... 2025-10-31 2:18:14 DFT data was created by xtp\r\n",
      "T00 ERR ... 2025-10-31 2:18:14 Loaded DFT Basis Set 3-21G\r\n",
      "T00 ERR ... 2025-10-31 2:18:14 Filled DFT Basis of size 17\r\n",
      "T00 ERR ... 2025-10-31 2:18:14 Loaded Auxbasis Set aux-def2-svp\r\n",
      "T00 ERR ... 2025-10-31 2:18:14 Filled Auxbasis of size 104\r\n",
      "T00 ERR ... 2025-10-31 2:18:14 Calculating Mmn_beta (3-center-repulsion x orbitals)  \r\n",
      "T00 ERR ... 2025-10-31 2:18:14 Calculated Mmn_beta (3-center-repulsion x orbitals)  \r\n",
      "T00 ERR ... 2025-10-31 2:18:14 Integrating Vxc with functional XC_HYB_GGA_XC_PBEH"
     ]
    },
    {
     "name": "stdout",
     "output_type": "stream",
     "text": [
      "\r\n",
      "T00 ERR ... 2025-10-31 2:18:14 Set hybrid exchange factor: 0.25\r\n",
      "T00 ERR ... 2025-10-31 2:18:14 Calculated exchange-correlation expectation values \r\n",
      "T00 ERR ... 2025-10-31 2:18:14 Calculated Hartree exchange contribution\r\n",
      "T00 ERR ... 2025-10-31 2:18:14 Scissor shifting DFT energies by: 0 Hrt\r\n",
      "T00 ERR ...   ====== Perturbative quasiparticle energies (Hartree) ====== \r\n",
      "T00 ERR ...    DeltaHLGap = +0.215514 Hartree\r\n",
      "T00 ERR ...   Level =    0 DFT = -10.1479 VXC = -1.7031 S-X = -2.6689 S-C = +0.5631 GWA = -10.5506\r\n",
      "T00 ERR ...   Level =    1 DFT = -0.7122 VXC = -0.4404 S-X = -0.6606 S-C = +0.1083 GWA = -0.8241\r\n",
      "T00 ERR ...   Level =    2 DFT = -0.4030 VXC = -0.3959 S-X = -0.5286 S-C = +0.0324 GWA = -0.5033\r\n",
      "T00 ERR ...   Level =    3 DFT = -0.4013 VXC = -0.3967 S-X = -0.5298 S-C = +0.0328 GWA = -0.5015\r\n",
      "T00 ERR ...   HOMO  =    4 DFT = -0.3991 VXC = -0.3970 S-X = -0.5300 S-C = +0.0329 GWA = -0.4992\r\n",
      "T00 ERR ...   LUMO  =    5 DFT = +0.1607 VXC = -0.2418 S-X = -0.1018 S-C = -0.0246 GWA = +0.2761\r\n",
      "T00 ERR ...   Level =    6 DFT = +0.2030 VXC = -0.2616 S-X = -0.1101 S-C = -0.0238 GWA = +0.3308\r\n",
      "T00 ERR ...   Level =    7 DFT = +0.2082 VXC = -0.2612 S-X = -0.1097 S-C = -0.0239 GWA = +0.3358\r\n",
      "T00 ERR ...   Level =    8 DFT = +0.2103 VXC = -0.2613 S-X = -0.1098 S-C = -0.0238 GWA = +0.3379\r\n",
      "T00 ERR ...   Level =    9 DFT = +0.7241 VXC = -0.3183 S-X = -0.1082 S-C = -0.0635 GWA = +0.8706\r\n",
      "T00 ERR ...   Level =   10 DFT = +0.7253 VXC = -0.3182 S-X = -0.1080 S-C = -0.0638 GWA = +0.8718\r\n",
      "T00 ERR ...   Level =   11 DFT = +0.7279 VXC = -0.3177 S-X = -0.1073 S-C = -0.0643 GWA = +0.8740\r\n",
      "T00 ERR ...   Level =   12 DFT = +1.0556 VXC = -0.4047 S-X = -0.1334 S-C = -0.0323 GWA = +1.2946\r\n",
      "T00 ERR ...   Level =   13 DFT = +1.0854 VXC = -0.3963 S-X = -0.1274 S-C = -0.1740 GWA = +1.1803\r\n",
      "T00 ERR ...   Level =   14 DFT = +1.0904 VXC = -0.3953 S-X = -0.1271 S-C = -0.1730 GWA = +1.1857\r\n",
      "T00 ERR ...   Level =   15 DFT = +1.0921 VXC = -0.3946 S-X = -0.1268 S-C = -0.1726 GWA = +1.1873\r\n",
      "T00 ERR ...   Level =   16 DFT = +1.7121 VXC = -0.3559 S-X = -0.1045 S-C = -0.0297 GWA = +1.9338\r\n",
      "T00 ERR ... 2025-10-31 2:18:14 Calculated offdiagonal part of Sigma  \r\n",
      "T00 ERR ... 2025-10-31 2:18:14 Full quasiparticle Hamiltonian  \r\n",
      "T00 ERR ...   ====== Diagonalized quasiparticle energies (Hartree) ====== \r\n",
      "T00 ERR ...   Level =    0 PQP = -10.550598 DQP = -10.550783 \r\n",
      "T00 ERR ...   Level =    1 PQP = -0.824112 DQP = -0.824556 \r\n",
      "T00 ERR ...   Level =    2 PQP = -0.503319 DQP = -0.503595 \r\n",
      "T00 ERR ...   Level =    3 PQP = -0.501548 DQP = -0.501755 \r\n",
      "T00 ERR ...   HOMO  =    4 PQP = -0.499250 DQP = -0.499441 \r\n",
      "T00 ERR ...   LUMO  =    5 PQP = +0.276103 DQP = +0.267906 \r\n",
      "T00 ERR ...   Level =    6 PQP = +0.330781 DQP = +0.328894 \r\n",
      "T00 ERR ...   Level =    7 PQP = +0.335775 DQP = +0.334345 \r\n",
      "T00 ERR ...   Level =    8 PQP = +0.337931 DQP = +0.336525 \r\n",
      "T00 ERR ...   Level =    9 PQP = +0.870624 DQP = +0.868943 \r\n",
      "T00 ERR ...   Level =   10 PQP = +0.871775 DQP = +0.869913 \r\n",
      "T00 ERR ...   Level =   11 PQP = +0.873965 DQP = +0.871690 \r\n",
      "T00 ERR ...   Level =   12 PQP = +1.294587 DQP = +1.183177 \r\n",
      "T00 ERR ...   Level =   13 PQP = +1.180306 DQP = +1.189614 \r\n",
      "T00 ERR ...   Level =   14 PQP = +1.185718 DQP = +1.191513 \r\n",
      "T00 ERR ...   Level =   15 PQP = +1.187298 DQP = +1.289817 \r\n",
      "T00 ERR ...   Level =   16 PQP = +1.933788 DQP = +1.947619 \r\n",
      "T00 ERR ... 2025-10-31 2:18:14 Diagonalized QP Hamiltonian  \r\n",
      "T00 ERR ... 2025-10-31 2:18:14 GW calculation took 0.118525882 seconds.\r\n",
      "T00 ERR ... 2025-10-31 2:18:14 Setup Full triplet hamiltonian \r\n",
      "T00 ERR ... 2025-10-31 2:18:14 Davidson Solver using 2 threads.\r\n",
      "T00 ERR ... 2025-10-31 2:18:14 Tolerance : 0.0001\r\n",
      "T00 ERR ... 2025-10-31 2:18:14 DPR Correction\r\n",
      "T00 ERR ... 2025-10-31 2:18:14 Matrix size : 120x120\r\n",
      "T00 ERR ... 2025-10-31 2:18:14 iter\tSearch Space\tNorm\r\n",
      "T00 ERR ... 2025-10-31 2:18:14    0           20 \t 1.28e-01 \t  0.00% converged\r\n",
      "T00 ERR ... 2025-10-31 2:18:14    1           35 \t 1.41e-02 \t  0.00% converged\r\n",
      "T00 ERR ... 2025-10-31 2:18:14    2           50 \t 8.59e-04 \t 10.00% converged"
     ]
    },
    {
     "name": "stdout",
     "output_type": "stream",
     "text": [
      "\r\n",
      "T00 ERR ... 2025-10-31 2:18:14    3           62 \t 2.81e-05 \t 100.00% converged\r\n",
      "T00 ERR ... 2025-10-31 2:18:14 Davidson converged after 3 iterations.\r\n",
      "T00 ERR ... 2025-10-31 2:18:14-----------------------------------\r\n",
      "T00 ERR ... 2025-10-31 2:18:14- Davidson ran for 0.007179195secs.\r\n",
      "T00 ERR ... 2025-10-31 2:18:14-----------------------------------\r\n",
      "T00 ERR ... 2025-10-31 2:18:14 Solved BSE for triplets \r\n",
      "T00 ERR ...   ====== triplet energies (eV) ====== \r\n",
      "T00 ERR ...   T =    1 Omega = +11.590329093677 eV  lamdba = +106.99 nm <FT> = +22.7897 <K_d> = -11.1994\r\n",
      "T00 ERR ...    \r\n",
      "T00 ERR ...   T =    2 Omega = +11.768476464383 eV  lamdba = +105.37 nm <FT> = +22.9508 <K_d> = -11.1824\r\n",
      "T00 ERR ...    \r\n",
      "T00 ERR ...   T =    3 Omega = +11.827199979116 eV  lamdba = +104.84 nm <FT> = +22.4839 <K_d> = -10.6567\r\n",
      "T00 ERR ...    \r\n",
      "T00 ERR ...   T =    4 Omega = +11.875163050675 eV  lamdba = +104.42 nm <FT> = +22.4495 <K_d> = -10.5744\r\n",
      "T00 ERR ...    \r\n",
      "T00 ERR ...   T =    5 Omega = +13.656562725976 eV  lamdba = +90.80 nm <FT> = +22.2469 <K_d> = -8.5903\r\n",
      "T00 ERR ...    \r\n",
      "T00 ERR ...   T =    6 Omega = +13.750159183099 eV  lamdba = +90.18 nm <FT> = +22.2952 <K_d> = -8.5451\r\n",
      "T00 ERR ...    \r\n",
      "T00 ERR ...   T =    7 Omega = +13.943372794015 eV  lamdba = +88.93 nm <FT> = +22.3953 <K_d> = -8.4519\r\n",
      "T00 ERR ...    \r\n",
      "T00 ERR ...   T =    8 Omega = +14.129601334539 eV  lamdba = +87.76 nm <FT> = +22.7313 <K_d> = -8.6017\r\n",
      "T00 ERR ...            HOMO-0   -> LUMO+1    : 72.0%\r\n",
      "T00 ERR ...    \r\n",
      "T00 ERR ...   T =    9 Omega = +14.226411027889 eV  lamdba = +87.16 nm <FT> = +22.8418 <K_d> = -8.6154\r\n",
      "T00 ERR ...    \r\n",
      "T00 ERR ...   T =   10 Omega = +14.374764553034 eV  lamdba = +86.26 nm <FT> = +22.8661 <K_d> = -8.4913\r\n",
      "T00 ERR ...            HOMO-2   -> LUMO+2    : 56.0%\r\n",
      "T00 ERR ...    \r\n",
      "T00 ERR ... 2025-10-31 2:18:14 Setup Full singlet hamiltonian \r\n",
      "T00 ERR ... 2025-10-31 2:18:14 Davidson Solver using 2 threads.\r\n",
      "T00 ERR ... 2025-10-31 2:18:14 Tolerance : 0.0001\r\n",
      "T00 ERR ... 2025-10-31 2:18:14 DPR Correction\r\n",
      "T00 ERR ... 2025-10-31 2:18:14 Matrix size : 120x120\r\n",
      "T00 ERR ... 2025-10-31 2:18:14 iter\tSearch Space\tNorm\r\n",
      "T00 ERR ... 2025-10-31 2:18:14    0           20 \t 1.28e-01 \t  0.00% converged\r\n",
      "T00 ERR ... 2025-10-31 2:18:14    1           35 \t 1.29e-02 \t  0.00% converged\r\n",
      "T00 ERR ... 2025-10-31 2:18:14    2           50 \t 9.32e-04 \t 40.00% converged\r\n",
      "T00 ERR ... 2025-10-31 2:18:14    3           61 \t 3.38e-05 \t 100.00% converged\r\n",
      "T00 ERR ... 2025-10-31 2:18:14 Davidson converged after 3 iterations.\r\n",
      "T00 ERR ... 2025-10-31 2:18:14-----------------------------------\r\n",
      "T00 ERR ... 2025-10-31 2:18:14- Davidson ran for 0.009429402secs.\r\n",
      "T00 ERR ... 2025-10-31 2:18:14-----------------------------------\r\n",
      "T00 ERR ... 2025-10-31 2:18:14 Solved BSE for singlets \r\n",
      "T00 ERR ...   ====== singlet energies (eV) ====== \r\n",
      "T00 ERR ...   S =    1 Omega = +13.838499953476 eV  lamdba = +89.61 nm <FT> = +21.2209 <K_x> = +0.9775 <K_d> = -8.3599\r\n",
      "T00 ERR ...            TrDipole length gauge[e*bohr]  dx = +0.5303 dy = -0.4087 dz = +0.3397 |d|^2 = +0.5637 f = +0.1911\r\n",
      "T00 ERR ...            HOMO-0   -> LUMO+0    : 98.7%\r\n",
      "T00 ERR ... \r\n",
      "T00 ERR ...   S =    2 Omega = +13.899865540836 eV  lamdba = +89.21 nm <FT> = +21.2939 <K_x> = +1.0286 <K_d> = -8.4226\r\n",
      "T00 ERR ...            TrDipole length gauge[e*bohr]  dx = -0.1892 dy = -0.6258 dz = -0.4730 |d|^2 = +0.6512 f = +0.2217\r\n",
      "T00 ERR ...            HOMO-1   -> LUMO+0    : 97.0%\r\n",
      "T00 ERR ... \r\n",
      "T00 ERR ...   S =    3 Omega = +13.966251916712 eV  lamdba = +88.79 nm <FT> = +21.3573 <K_x> = +1.1861 <K_d> = -8.5772\r\n",
      "T00 ERR ...            TrDipole length gauge[e*bohr]  dx = -0.6224 dy = -0.3193 dz = +0.6421 |d|^2 = +0.9016 f = +0.3085\r\n",
      "T00 ERR ...            HOMO-2   -> LUMO+0    : 97.5%\r\n",
      "T00 ERR ... \r\n",
      "T00 ERR ...   S =    4 Omega = +14.551114196004 eV  lamdba = +85.22 nm <FT> = +22.7161 <K_x> = +0.3388 <K_d> = -8.5038\r\n",
      "T00 ERR ...            TrDipole length gauge[e*bohr]  dx = -0.1704 dy = +0.0703 dz = -0.0444 |d|^2 = +0.0360 f = +0.0128\r\n",
      "T00 ERR ...            HOMO-0   -> LUMO+1    : 77.0%\r\n",
      "T00 ERR ... \r\n",
      "T00 ERR ...   S =    5 Omega = +14.601148896635 eV  lamdba = +84.92 nm <FT> = +22.7821 <K_x> = +0.3234 <K_d> = -8.5043\r\n",
      "T00 ERR ...            TrDipole length gauge[e*bohr]  dx = +0.0459 dy = -0.1296 dz = -0.2162 |d|^2 = +0.0657 f = +0.0235\r\n",
      "T00 ERR ...            HOMO-1   -> LUMO+1    : 60.6%\r\n",
      "T00 ERR ... \r\n",
      "T00 ERR ...   S =    6 Omega = +14.637541448209 eV  lamdba = +84.71 nm <FT> = +22.8482 <K_x> = +0.2777 <K_d> = -8.4883\r\n",
      "T00 ERR ...            TrDipole length gauge[e*bohr]  dx = -0.1207 dy = +0.0282 dz = -0.0820 |d|^2 = +0.0221 f = +0.0079\r\n",
      "T00 ERR ...            HOMO-0   -> LUMO+2    : 55.6%\r\n",
      "T00 ERR ... \r\n",
      "T00 ERR ...   S =    7 Omega = +14.990798793290 eV  lamdba = +82.72 nm <FT> = +22.8544 <K_x> = +0.7066 <K_d> = -8.5701\r\n",
      "T00 ERR ...            TrDipole length gauge[e*bohr]  dx = -0.0540 dy = -0.0879 dz = -0.0593 |d|^2 = +0.0142 f = +0.0052\r\n",
      "T00 ERR ... \r\n",
      "T00 ERR ...   S =    8 Omega = +15.014812454508 eV  lamdba = +82.59 nm <FT> = +22.9069 <K_x> = +0.6670 <K_d> = -8.5590\r\n",
      "T00 ERR ...            TrDipole length gauge[e*bohr]  dx = -0.0177 dy = -0.0439 dz = +0.0303 |d|^2 = +0.0032 f = +0.0012\r\n",
      "T00 ERR ...            HOMO-2   -> LUMO+3    : 70.5%\r\n",
      "T00 ERR ... \r\n",
      "T00 ERR ...   S =    9 Omega = +15.998971734879 eV  lamdba = +77.50 nm <FT> = +23.1683 <K_x> = +2.1885 <K_d> = -9.3577\r\n",
      "T00 ERR ...            TrDipole length gauge[e*bohr]  dx = -0.8939 dy = -0.8746 dz = +0.5878 |d|^2 = +1.9093 f = +0.7484\r\n",
      "T00 ERR ...            HOMO-2   -> LUMO+1    : 60.5%\r\n",
      "T00 ERR ... \r\n",
      "T00 ERR ...   S =   10 Omega = +16.031818467744 eV  lamdba = +77.35 nm <FT> = +23.2251 <K_x> = +2.2798 <K_d> = -9.4731\r\n",
      "T00 ERR ...            TrDipole length gauge[e*bohr]  dx = +0.4416 dy = -1.0821 dz = -0.8251 |d|^2 = +2.0467 f = +0.8039\r\n",
      "T00 ERR ... \r\n",
      "T00 ERR ... 2025-10-31 2:18:14 BSE calculation took 0.019254054 seconds.\r\n",
      "T00 ERR ... 2025-10-31 2:18:14 GWBSE calculation finished \r\n",
      "T00 ERR ... Next State is: s1\r\n",
      "T00 ERR ... 2025-10-31 2:18:14 Evaluating polarregion 1\r\n",
      "T00 ERR ... 2025-10-31 2:18:14 Evaluating interaction between polarregion 1 and qmregion 0\r\n",
      "T00 ERR ... Next State is: s1"
     ]
    },
    {
     "name": "stdout",
     "output_type": "stream",
     "text": [
      "\r\n",
      "T00 ERR ... 2025-10-31 2:18:15 Evaluating interaction between polarregion 1 and staticregion 2\r\n",
      "T00 ERR ... 2025-10-31 2:18:15 Starting Solving for classical polarization with 1380 degrees of freedom.\r\n",
      "T00 ERR ... 2025-10-31 2:18:15 CG: #iterations: 0, estimated error: 2.59639219968e-05"
     ]
    },
    {
     "name": "stdout",
     "output_type": "stream",
     "text": [
      "\r\n",
      "T00 ERR ...   Total static energy [hrt]= 0.0009102654542\r\n",
      "T00 ERR ...   Total polar energy [hrt]= 0.0008150807097\r\n",
      "T00 ERR ...  Total energy [hrt]= 0.001725346164\r\n",
      "T00 ERR ... 2025-10-31 2:18:15 Evaluating staticregion 2\r\n",
      "T00 ERR ... 2025-10-31 2:18:15 Writing checkpoint to checkpoint_iter_12.hdf5\r\n",
      "T00 ERR ...  Region:qmregion 0 is not converged deltaE=6.057401265e-07 RMS Dmat=1.562126841e-05 MaxDmat=8.998903953e-05\r\n",
      "T00 ERR ... 2025-10-31 2:18:15 Region:polarregion 1 is converged deltaE=1.407804559e-07\r\n",
      "T00 ERR ... 2025-10-31 2:18:15 --Total Energy all regions -39.72067419\r\n",
      "T00 ERR ... 2025-10-31 2:18:15 --Inter Region SCF Iteration 13 of 50\r\n",
      "T00 ERR ... 2025-10-31 2:18:15 Evaluating qmregion 0\r\n",
      "T00 ERR ... 2025-10-31 2:18:15 Evaluating interaction between qmregion 0 and polarregion 1\r\n",
      "T00 ERR ... 2025-10-31 2:18:15 Evaluating interaction between qmregion 0 and staticregion 2\r\n",
      "T00 ERR ... Running DFT calculation\r\n",
      "T00 ERR ... 2025-10-31 2:18:15 Using 2 threads\r\n",
      "T00 ERR ... 2025-10-31 2:18:15 Using native Eigen implementation, no BLAS overload \r\n",
      "T00 ERR ...  Molecule Coordinates [A] \r\n",
      "T00 ERR ...   C   +30.3000 +1.2704 +5.5205\r\n",
      "T00 ERR ...   H   +31.2392 +1.4802 +6.0301\r\n",
      "T00 ERR ...   H   +30.4910 +0.6554 +4.6433\r\n",
      "T00 ERR ...   H   +29.8500 +2.2100 +5.2100\r\n",
      "T00 ERR ...   H   +29.6200 +0.7500 +6.2000"
     ]
    },
    {
     "name": "stdout",
     "output_type": "stream",
     "text": [
      "\r\n",
      "T00 ERR ... 2025-10-31 2:18:15 Loaded DFT Basis Set 3-21G with 17 functions\r\n",
      "T00 ERR ... 2025-10-31 2:18:15 Loaded AUX Basis Set aux-def2-svp with 104 functions\r\n",
      "T00 ERR ... 2025-10-31 2:18:15 Total number of electrons: 10\r\n",
      "T00 ERR ... 2025-10-31 2:18:15 Smallest value of AOOverlap matrix is 0.03364074275\r\n",
      "T00 ERR ... 2025-10-31 2:18:15 Removed 0 basisfunction from inverse overlap matrix\r\n",
      "T00 ERR ... 2025-10-31 2:18:15 Convergence Options:\r\n",
      "T00 ERR ... \t\t Delta E [Ha]: 1e-07\r\n",
      "T00 ERR ... \t\t DIIS max error: 1e-07\r\n",
      "T00 ERR ... \t\t DIIS histlength: 20\r\n",
      "T00 ERR ... \t\t ADIIS start: 0.8\r\n",
      "T00 ERR ... \t\t DIIS start: 0.002\r\n",
      "T00 ERR ... \t\t Deleting oldest element from DIIS hist\r\n",
      "T00 ERR ... \t\t Levelshift[Ha]: 0\r\n",
      "T00 ERR ... \t\t Levelshift end: 0.2\r\n",
      "T00 ERR ... \t\t Mixing Parameter alpha: 0.7\r\n",
      "T00 ERR ... 2025-10-31 2:18:15 Setup invariant parts of Electron Repulsion integrals \r\n",
      "T00 ERR ... 2025-10-31 2:18:15 Constructed independent particle hamiltonian \r\n",
      "T00 ERR ... 2025-10-31 2:18:15 Nuclear Repulsion Energy is 13.4434088\r\n",
      "T00 ERR ... 2025-10-31 2:18:15 1350 External sites\r\n",
      "T00 ERR ...  Name      Coordinates[a0]     charge[e]         dipole[e*a0]    \r\n",
      "T00 ERR ...   C   +63.8902 +7.9543 +11.0171   -0.3282   +0.0090 +0.0011 -0.0060\r\n",
      "T00 ERR ...   H   +62.3892 +6.5470 +10.9796   +0.0824   +0.0094 +0.0029 -0.0001\r\n",
      "T00 ERR ...   H   +65.3194 +7.4736 +9.6186   +0.0822   +0.0038 -0.0009 -0.0023\r\n",
      "T00 ERR ...   H   +63.1170 +9.8077 +10.6203   +0.0817   +0.0015 +0.0014 +0.0010\r\n",
      "T00 ERR ...   H   +64.7422 +7.9557 +12.9068   +0.0819   +0.0043 +0.0033 -0.0007\r\n",
      "T00 ERR ...   C   +63.9128 -0.3996 +22.8673   -0.3282   -0.0029 +0.0014 +0.0052\r\n",
      "T00 ERR ...   H   +63.0449 -1.1731 +21.1692   +0.0824   -0.0001 -0.0006 +0.0015\r\n",
      "T00 ERR ...   H   +62.7676 +1.1530 +23.5795   +0.0822   -0.0015 +0.0049 +0.0022\r\n",
      "T00 ERR ...   H   +64.0430 -1.8922 +24.2830   +0.0817   +0.0010 -0.0004 -0.0009\r\n",
      "T00 ERR ...   H   +65.8004 +0.2810 +22.4122   +0.0819   -0.0036 -0.0009 +0.0017\r\n",
      "T00 ERR ...   C   +61.7182 -0.4374 -3.3115   -0.3282   -0.0002 -0.0018 +0.0010\r\n",
      "T00 ERR ...   H   +60.6600 -1.0798 -4.9554   +0.0824   +0.0011 +0.0014 +0.0012\r\n",
      "T00 ERR ...   H   +63.3309 +0.6815 -3.9252   +0.0822   -0.0014 -0.0019 -0.0006\r\n",
      "T00 ERR ...   H   +62.3800 -2.0623 -2.2148   +0.0817   +0.0010 -0.0019 +0.0013\r\n",
      "T00 ERR ...   H   +60.5092 +0.7345 -2.1392   +0.0819   -0.0027 -0.0035 -0.0019\r\n",
      "T00 ERR ...   C   +62.0402 +12.7739 +4.5175   -0.3282   +0.0027 +0.0004 +0.0017\r\n",
      "T00 ERR ...   H   +60.1049 +13.3052 +4.0622   +0.0824   +0.0002 -0.0013 -0.0010\r\n",
      "T00 ERR ...   H   +62.0812 +11.8167 +6.3372   +0.0822   +0.0006 -0.0022 -0.0015\r\n",
      "T00 ERR ...   H   +63.2115 +14.4753 +4.6109   +0.0817   +0.0028 +0.0023 +0.0014\r\n",
      "T00 ERR ...   H   +62.7769 +11.5084 +3.0803   +0.0819   -0.0003 -0.0009 +0.0006\r\n",
      "T00 ERR ...   C   +60.6789 +14.3239 +12.6808   -0.3282   -0.0020 +0.0028 +0.0014\r\n",
      "T00 ERR ...   H   +61.0756 +13.9461 +10.6972   +0.0824   -0.0038 +0.0040 -0.0004\r\n",
      "T00 ERR ...   H   +61.0224 +16.3108 +13.0851   +0.0822   -0.0001 +0.0006 +0.0033\r\n",
      "T00 ERR ...   H   +58.7327 +13.8328 +13.0580   +0.0817   +0.0007 -0.0002 +0.0003\r\n",
      "T00 ERR ...   H   +61.9074 +13.1525 +13.8517   +0.0819   -0.0006 -0.0006 +0.0035\r\n",
      "T00 ERR ...   C   +68.7870 +4.1961 +17.9521   -0.3282   +0.0049 +0.0003 +0.0063\r\n",
      "T00 ERR ...   H   +68.2015 +2.4962 +18.9532   +0.0824   +0.0001 -0.0005 -0.0013\r\n",
      "T00 ERR ...   H   +67.2445 +4.8625 +16.7665   +0.0822   +0.0015 -0.0030 +0.0028\r\n",
      "T00 ERR ...   H   +70.4303 +3.7606 +16.7997   +0.0817   -0.0007 +0.0010 +0.0004\r\n",
      "T00 ERR ...   H   +69.2964 +5.6503 +19.3130   +0.0819   +0.0011 +0.0009 +0.0055\r\n",
      "T00 ERR ...   C   +54.0832 +4.4983 +27.1938   -0.3282   -0.0007 -0.0025 -0.0012\r\n",
      "T00 ERR ...   H   +53.5372 +6.4564 +27.5139   +0.0824   -0.0012 -0.0015 +0.0002\r\n",
      "T00 ERR ...   H   +52.9768 +3.2670 +28.4141   +0.0822   -0.0007 -0.0015 +0.0003\r\n",
      "T00 ERR ...   H   +53.7249 +4.0062 +25.2278   +0.0817   +0.0021 -0.0009 +0.0002\r\n",
      "T00 ERR ...   H   +56.0682 +4.2330 +27.6278   +0.0819   -0.0032 +0.0014 -0.0015\r\n",
      "T00 ERR ...   C   +63.8174 +6.3112 -1.0788   -0.3282   -0.0007 -0.0003 -0.0004\r\n",
      "T00 ERR ...   H   +65.2393 +6.4796 +0.3993   +0.0824   -0.0003 -0.0010 +0.0014\r\n",
      "T00 ERR ...   H   +62.4364 +4.8836 -0.5459   +0.0822   +0.0020 +0.0009 -0.0008\r\n",
      "T00 ERR ...   H   +64.7422 +5.7637 -2.8384   +0.0817   -0.0005 +0.0027 +0.0002\r\n",
      "T00 ERR ...   H   +62.8903 +8.1258 -1.3455   +0.0819   -0.0006 -0.0016 -0.0037\r\n",
      "T00 ERR ...   C   +64.1752 +19.2751 +7.8615   -0.3282   +0.0049 -0.0000 +0.0006\r\n",
      "T00 ERR ...   H   +62.9276 +19.0860 +6.2359   +0.0824   -0.0011 +0.0004 +0.0021\r\n",
      "T00 ERR ...   H   +63.4396 +18.1623 +9.4267   +0.0822   +0.0013 -0.0002 -0.0003\r\n",
      "T00 ERR ...   H   +66.0461 +18.6138 +7.3699   +0.0817   +0.0012 -0.0009 -0.0001\r\n",
      "T00 ERR ...   H   +64.2509 +21.2405 +8.4282   +0.0819   +0.0017 +0.0008 -0.0004\r\n",
      "T00 ERR ...   C   +61.3975 +17.7254 +18.4625   -0.3282   +0.0021 -0.0003 +0.0025\r\n",
      "T00 ERR ...   H   +60.9990 +19.0346 +16.9256   +0.0824   -0.0004 +0.0012 +0.0002\r\n",
      "T00 ERR ...   H   +61.0958 +18.6680 +20.2653   +0.0822   +0.0001 +0.0000 +0.0003\r\n",
      "T00 ERR ...   H   +60.1502 +16.1005 +18.3303   +0.0817   +0.0028 +0.0005 -0.0006\r\n",
      "T00 ERR ...   H   +63.3627 +17.1020 +18.3492   +0.0819   -0.0014 -0.0005 +0.0014\r\n",
      "T00 ERR ...               ... (1300 sites not displayed)\r\n"
     ]
    },
    {
     "name": "stdout",
     "output_type": "stream",
     "text": [
      "\r\n",
      "T00 ERR ... 2025-10-31 2:18:15 Filled DFT external multipole potential matrix\r\n",
      "T00 ERR ... 2025-10-31 2:18:15 Nuclei-external site interaction energy 0.0204347161\r\n",
      "T00 ERR ... 2025-10-31 2:18:15 Using hybrid functional with alpha=0.25\r\n",
      "T00 ERR ... 2025-10-31 2:18:15 Setup numerical integration grid medium for vxc functional XC_HYB_GGA_XC_PBEH"
     ]
    },
    {
     "name": "stdout",
     "output_type": "stream",
     "text": [
      "\r\n",
      "T00 ERR ... 2025-10-31 2:18:15 Setup Initial Guess using: atom\r\n",
      "T00 ERR ... 2025-10-31 2:18:15 Calculating atom density for C"
     ]
    },
    {
     "name": "stdout",
     "output_type": "stream",
     "text": [
      "\r\n",
      "T00 ERR ... 2025-10-31 2:18:16 Calculating atom density for H"
     ]
    },
    {
     "name": "stdout",
     "output_type": "stream",
     "text": [
      "\r\n",
      "T00 ERR ... 2025-10-31 2:18:16 STARTING SCF cycle\r\n",
      "T00 ERR ...  --------------------------------------------------------------------------\r\n",
      "T00 ERR ... \r\n",
      "T00 ERR ... 2025-10-31 2:18:16 Iteration 1 of 100"
     ]
    },
    {
     "name": "stdout",
     "output_type": "stream",
     "text": [
      "\r\n",
      "T00 ERR ... 2025-10-31 2:18:16 Total Energy -40.1456570578\r\n",
      "T00 ERR ... 2025-10-31 2:18:16 DIIs error 0.219656567344\r\n",
      "T00 ERR ... 2025-10-31 2:18:16 Delta Etot 0\r\n",
      "T00 ERR ... \r\n",
      "T00 ERR ... 2025-10-31 2:18:16 Iteration 2 of 100"
     ]
    },
    {
     "name": "stdout",
     "output_type": "stream",
     "text": [
      "\r\n",
      "T00 ERR ... 2025-10-31 2:18:16 Total Energy -40.1815754588\r\n",
      "T00 ERR ... 2025-10-31 2:18:16 DIIs error 0.128764126813\r\n",
      "T00 ERR ... 2025-10-31 2:18:16 Delta Etot -0.0359184010677\r\n",
      "T00 ERR ... \r\n",
      "T00 ERR ... 2025-10-31 2:18:16 Iteration 3 of 100"
     ]
    },
    {
     "name": "stdout",
     "output_type": "stream",
     "text": [
      "\r\n",
      "T00 ERR ... 2025-10-31 2:18:16 Total Energy -40.1980496847\r\n",
      "T00 ERR ... 2025-10-31 2:18:16 DIIs error 0.0793380634538\r\n",
      "T00 ERR ... 2025-10-31 2:18:16 Delta Etot -0.016474225885\r\n",
      "T00 ERR ... \r\n",
      "T00 ERR ... 2025-10-31 2:18:16 Iteration 4 of 100"
     ]
    },
    {
     "name": "stdout",
     "output_type": "stream",
     "text": [
      "\r\n",
      "T00 ERR ... 2025-10-31 2:18:16 Total Energy -40.2287104007\r\n",
      "T00 ERR ... 2025-10-31 2:18:16 DIIs error 0.0296185567801\r\n",
      "T00 ERR ... 2025-10-31 2:18:16 Delta Etot -0.0306607159878\r\n",
      "T00 ERR ... \r\n",
      "T00 ERR ... 2025-10-31 2:18:16 Iteration 5 of 100"
     ]
    },
    {
     "name": "stdout",
     "output_type": "stream",
     "text": [
      "\r\n",
      "T00 ERR ... 2025-10-31 2:18:16 Total Energy -40.228602519\r\n",
      "T00 ERR ... 2025-10-31 2:18:16 DIIs error 0.0311986040824\r\n",
      "T00 ERR ... 2025-10-31 2:18:16 Delta Etot 0.000107881740583\r\n",
      "T00 ERR ... \r\n",
      "T00 ERR ... 2025-10-31 2:18:16 Iteration 6 of 100"
     ]
    },
    {
     "name": "stdout",
     "output_type": "stream",
     "text": [
      "\r\n",
      "T00 ERR ... 2025-10-31 2:18:16 Total Energy -40.2309538495\r\n",
      "T00 ERR ... 2025-10-31 2:18:16 DIIs error 0.0003189459075\r\n",
      "T00 ERR ... 2025-10-31 2:18:16 Delta Etot -0.00235133051959\r\n",
      "T00 ERR ... \r\n",
      "T00 ERR ... 2025-10-31 2:18:16 Iteration 7 of 100"
     ]
    },
    {
     "name": "stdout",
     "output_type": "stream",
     "text": [
      "\r\n",
      "T00 ERR ... 2025-10-31 2:18:16 Total Energy -40.2309541044\r\n",
      "T00 ERR ... 2025-10-31 2:18:16 DIIs error 2.0429531309e-05\r\n",
      "T00 ERR ... 2025-10-31 2:18:16 Delta Etot -2.54894537477e-07\r\n",
      "T00 ERR ... \r\n",
      "T00 ERR ... 2025-10-31 2:18:16 Iteration 8 of 100"
     ]
    },
    {
     "name": "stdout",
     "output_type": "stream",
     "text": [
      "\r\n",
      "T00 ERR ... 2025-10-31 2:18:16 Total Energy -40.2309541046\r\n",
      "T00 ERR ... 2025-10-31 2:18:16 DIIs error 1.08203733837e-05\r\n",
      "T00 ERR ... 2025-10-31 2:18:16 Delta Etot -2.42906139647e-10\r\n",
      "T00 ERR ... \r\n",
      "T00 ERR ... 2025-10-31 2:18:16 Iteration 9 of 100"
     ]
    },
    {
     "name": "stdout",
     "output_type": "stream",
     "text": [
      "\r\n",
      "T00 ERR ... 2025-10-31 2:18:16 Total Energy -40.230954105\r\n",
      "T00 ERR ... 2025-10-31 2:18:16 DIIs error 3.50031739044e-06\r\n",
      "T00 ERR ... 2025-10-31 2:18:16 Delta Etot -3.88943988128e-10\r\n",
      "T00 ERR ... \r\n",
      "T00 ERR ... 2025-10-31 2:18:16 Iteration 10 of 100"
     ]
    },
    {
     "name": "stdout",
     "output_type": "stream",
     "text": [
      "\r\n",
      "T00 ERR ... 2025-10-31 2:18:16 Total Energy -40.2309541051\r\n",
      "T00 ERR ... 2025-10-31 2:18:16 DIIs error 9.094701114e-07\r\n",
      "T00 ERR ... 2025-10-31 2:18:16 Delta Etot -4.53042048321e-11\r\n",
      "T00 ERR ... \r\n",
      "T00 ERR ... 2025-10-31 2:18:16 Iteration 11 of 100"
     ]
    },
    {
     "name": "stdout",
     "output_type": "stream",
     "text": [
      "\r\n",
      "T00 ERR ... 2025-10-31 2:18:16 Total Energy -40.2309541051\r\n",
      "T00 ERR ... 2025-10-31 2:18:16 DIIs error 1.36281754728e-09\r\n",
      "T00 ERR ... 2025-10-31 2:18:16 Delta Etot -3.02691205434e-12\r\n",
      "T00 ERR ... 2025-10-31 2:18:16 Total Energy has converged to -3.02691205e-12[Ha] after 11 iterations. DIIS error is converged up to 1.36281755e-09\r\n",
      "T00 ERR ... 2025-10-31 2:18:16 Final Single Point Energy -40.2309541051 Ha\r\n",
      "T00 ERR ... 2025-10-31 2:18:16 Final Local Exc contribution -5.18429662085 Ha\r\n",
      "T00 ERR ... 2025-10-31 2:18:16 Final Non Local Ex contribution -1.63926628612 Ha\r\n",
      "T00 ERR ...   Orbital energies: \r\n",
      "T00 ERR ...   index occupation energy(Hartree) \r\n",
      "T00 ERR ...      0      2   -10.1479481419\r\n",
      "T00 ERR ...      1      2   -0.7122263177\r\n",
      "T00 ERR ...      2      2   -0.4030286045\r\n",
      "T00 ERR ...      3      2   -0.4013493633\r\n",
      "T00 ERR ...      4      2   -0.3991079148\r\n",
      "T00 ERR ...      5      0   +0.1607308976\r\n",
      "T00 ERR ...      6      0   +0.2030115427\r\n",
      "T00 ERR ...      7      0   +0.2081619593\r\n",
      "T00 ERR ...      8      0   +0.2102902053\r\n",
      "T00 ERR ...      9      0   +0.7241158353\r\n",
      "T00 ERR ...     10      0   +0.7253275190\r\n",
      "T00 ERR ...     11      0   +0.7278610082\r\n",
      "T00 ERR ...     12      0   +1.0556244449\r\n",
      "T00 ERR ...     13      0   +1.0853997527\r\n",
      "T00 ERR ...     14      0   +1.0904272018\r\n",
      "T00 ERR ...     15      0   +1.0921195649\r\n",
      "T00 ERR ...     16      0   +1.7121083820\r\n",
      "T00 ERR ... 2025-10-31 2:18:16 Electric Dipole is[e*bohr]:\r\n",
      "\t\t dx=0.0194153826548\r\n",
      "\t\t dy=0.0353605995105\r\n",
      "\t\t dz=-0.0143024467095\r\n",
      "T00 ERR ... Writing result to temp.orb\r\n",
      "T00 ERR ... 2025-10-31 2:18:16 DFT calculation took 1.658446917 seconds.\r\n",
      "T00 ERR ... 2025-10-31 2:18:16 RPA level range [0:16]\r\n",
      "T00 ERR ... 2025-10-31 2:18:16 GW  level range [0:16]\r\n",
      "T00 ERR ... 2025-10-31 2:18:16 BSE level range occ[0:4]  virt[5:16]\r\n",
      "T00 ERR ...  BSE type: full\r\n",
      "T00 ERR ... 2025-10-31 2:18:16 BSE Hamiltonian has size 120x120\r\n",
      "T00 ERR ...  BSE without Hqp offdiagonal elements\r\n",
      "T00 ERR ...  Running GW as: G0W0\r\n",
      "T00 ERR ...  qp_sc_limit [Hartree]: 1e-05\r\n",
      "T00 ERR ...  Tasks: \r\n",
      "T00 ERR ...  GW \r\n",
      "T00 ERR ...  singlets \r\n",
      "T00 ERR ...  triplets \r\n",
      "T00 ERR ...  Store: \r\n",
      "T00 ERR ...  GW \r\n",
      "T00 ERR ...  Sigma integration: ppm\r\n",
      "T00 ERR ...  eta: 0.001\r\n",
      "T00 ERR ...  QP solver: grid\r\n",
      "T00 ERR ...  QP grid steps: 1001\r\n",
      "T00 ERR ...  QP grid spacing: 0.001\r\n",
      "T00 ERR ... 2025-10-31 2:18:16 Using 2 threads\r\n",
      "T00 ERR ... 2025-10-31 2:18:16 Using native Eigen implementation, no BLAS overload \r\n",
      "T00 ERR ... 2025-10-31 2:18:16 Molecule Coordinates [A] \r\n",
      "T00 ERR ...     0    C   30.3000 1.2704 5.5205\r\n",
      "T00 ERR ...     1    H   31.2392 1.4802 6.0301\r\n",
      "T00 ERR ...     2    H   30.4910 0.6554 4.6433\r\n",
      "T00 ERR ...     3    H   29.8500 2.2100 5.2100\r\n",
      "T00 ERR ...     4    H   29.6200 0.7500 6.2000\r\n",
      "T00 ERR ... 2025-10-31 2:18:16 DFT data was created by xtp\r\n",
      "T00 ERR ... 2025-10-31 2:18:16 Loaded DFT Basis Set 3-21G\r\n",
      "T00 ERR ... 2025-10-31 2:18:16 Filled DFT Basis of size 17\r\n",
      "T00 ERR ... 2025-10-31 2:18:16 Loaded Auxbasis Set aux-def2-svp"
     ]
    },
    {
     "name": "stdout",
     "output_type": "stream",
     "text": [
      "\r\n",
      "T00 ERR ... 2025-10-31 2:18:16 Filled Auxbasis of size 104\r\n",
      "T00 ERR ... 2025-10-31 2:18:16 Calculating Mmn_beta (3-center-repulsion x orbitals)  \r\n",
      "T00 ERR ... 2025-10-31 2:18:16 Calculated Mmn_beta (3-center-repulsion x orbitals)  \r\n",
      "T00 ERR ... 2025-10-31 2:18:16 Integrating Vxc with functional XC_HYB_GGA_XC_PBEH"
     ]
    },
    {
     "name": "stdout",
     "output_type": "stream",
     "text": [
      "\r\n",
      "T00 ERR ... 2025-10-31 2:18:17 Set hybrid exchange factor: 0.25\r\n",
      "T00 ERR ... 2025-10-31 2:18:17 Calculated exchange-correlation expectation values \r\n",
      "T00 ERR ... 2025-10-31 2:18:17 Calculated Hartree exchange contribution\r\n",
      "T00 ERR ... 2025-10-31 2:18:17 Scissor shifting DFT energies by: 0 Hrt\r\n",
      "T00 ERR ...   ====== Perturbative quasiparticle energies (Hartree) ====== \r\n",
      "T00 ERR ...    DeltaHLGap = +0.215514 Hartree\r\n",
      "T00 ERR ...   Level =    0 DFT = -10.1479 VXC = -1.7031 S-X = -2.6689 S-C = +0.5631 GWA = -10.5506\r\n",
      "T00 ERR ...   Level =    1 DFT = -0.7122 VXC = -0.4404 S-X = -0.6606 S-C = +0.1083 GWA = -0.8241\r\n",
      "T00 ERR ...   Level =    2 DFT = -0.4030 VXC = -0.3959 S-X = -0.5286 S-C = +0.0324 GWA = -0.5033\r\n",
      "T00 ERR ...   Level =    3 DFT = -0.4013 VXC = -0.3967 S-X = -0.5298 S-C = +0.0328 GWA = -0.5015\r\n",
      "T00 ERR ...   HOMO  =    4 DFT = -0.3991 VXC = -0.3970 S-X = -0.5300 S-C = +0.0329 GWA = -0.4992\r\n",
      "T00 ERR ...   LUMO  =    5 DFT = +0.1607 VXC = -0.2418 S-X = -0.1018 S-C = -0.0246 GWA = +0.2761\r\n",
      "T00 ERR ...   Level =    6 DFT = +0.2030 VXC = -0.2616 S-X = -0.1101 S-C = -0.0238 GWA = +0.3308\r\n",
      "T00 ERR ...   Level =    7 DFT = +0.2082 VXC = -0.2612 S-X = -0.1097 S-C = -0.0239 GWA = +0.3358\r\n",
      "T00 ERR ...   Level =    8 DFT = +0.2103 VXC = -0.2613 S-X = -0.1098 S-C = -0.0238 GWA = +0.3379\r\n",
      "T00 ERR ...   Level =    9 DFT = +0.7241 VXC = -0.3183 S-X = -0.1082 S-C = -0.0635 GWA = +0.8706\r\n",
      "T00 ERR ...   Level =   10 DFT = +0.7253 VXC = -0.3182 S-X = -0.1080 S-C = -0.0638 GWA = +0.8718\r\n",
      "T00 ERR ...   Level =   11 DFT = +0.7279 VXC = -0.3177 S-X = -0.1073 S-C = -0.0643 GWA = +0.8740\r\n",
      "T00 ERR ...   Level =   12 DFT = +1.0556 VXC = -0.4047 S-X = -0.1334 S-C = -0.0323 GWA = +1.2946\r\n",
      "T00 ERR ...   Level =   13 DFT = +1.0854 VXC = -0.3963 S-X = -0.1274 S-C = -0.1740 GWA = +1.1803\r\n",
      "T00 ERR ...   Level =   14 DFT = +1.0904 VXC = -0.3953 S-X = -0.1271 S-C = -0.1730 GWA = +1.1857\r\n",
      "T00 ERR ...   Level =   15 DFT = +1.0921 VXC = -0.3946 S-X = -0.1268 S-C = -0.1726 GWA = +1.1873\r\n",
      "T00 ERR ...   Level =   16 DFT = +1.7121 VXC = -0.3559 S-X = -0.1045 S-C = -0.0297 GWA = +1.9338\r\n",
      "T00 ERR ... 2025-10-31 2:18:17 Calculated offdiagonal part of Sigma  \r\n",
      "T00 ERR ... 2025-10-31 2:18:17 Full quasiparticle Hamiltonian  \r\n",
      "T00 ERR ...   ====== Diagonalized quasiparticle energies (Hartree) ====== \r\n",
      "T00 ERR ...   Level =    0 PQP = -10.550598 DQP = -10.550783 \r\n",
      "T00 ERR ...   Level =    1 PQP = -0.824112 DQP = -0.824556 \r\n",
      "T00 ERR ...   Level =    2 PQP = -0.503319 DQP = -0.503595 \r\n",
      "T00 ERR ...   Level =    3 PQP = -0.501548 DQP = -0.501755 \r\n",
      "T00 ERR ...   HOMO  =    4 PQP = -0.499250 DQP = -0.499441 \r\n",
      "T00 ERR ...   LUMO  =    5 PQP = +0.276103 DQP = +0.267906 \r\n",
      "T00 ERR ...   Level =    6 PQP = +0.330781 DQP = +0.328894 \r\n",
      "T00 ERR ...   Level =    7 PQP = +0.335775 DQP = +0.334346 \r\n",
      "T00 ERR ...   Level =    8 PQP = +0.337931 DQP = +0.336525 \r\n",
      "T00 ERR ...   Level =    9 PQP = +0.870624 DQP = +0.868943 \r\n",
      "T00 ERR ...   Level =   10 PQP = +0.871775 DQP = +0.869913 \r\n",
      "T00 ERR ...   Level =   11 PQP = +0.873965 DQP = +0.871690 \r\n",
      "T00 ERR ...   Level =   12 PQP = +1.294587 DQP = +1.183176 \r\n",
      "T00 ERR ...   Level =   13 PQP = +1.180305 DQP = +1.189614 \r\n",
      "T00 ERR ...   Level =   14 PQP = +1.185718 DQP = +1.191513 \r\n",
      "T00 ERR ...   Level =   15 PQP = +1.187298 DQP = +1.289817 \r\n",
      "T00 ERR ...   Level =   16 PQP = +1.933789 DQP = +1.947619 \r\n",
      "T00 ERR ... 2025-10-31 2:18:17 Diagonalized QP Hamiltonian  \r\n",
      "T00 ERR ... 2025-10-31 2:18:17 GW calculation took 0.120536351 seconds.\r\n",
      "T00 ERR ... 2025-10-31 2:18:17 Setup Full triplet hamiltonian \r\n",
      "T00 ERR ... 2025-10-31 2:18:17 Davidson Solver using 2 threads.\r\n",
      "T00 ERR ... 2025-10-31 2:18:17 Tolerance : 0.0001\r\n",
      "T00 ERR ... 2025-10-31 2:18:17 DPR Correction\r\n",
      "T00 ERR ... 2025-10-31 2:18:17 Matrix size : 120x120\r\n",
      "T00 ERR ... 2025-10-31 2:18:17 iter\tSearch Space\tNorm\r\n",
      "T00 ERR ... 2025-10-31 2:18:17    0           20 \t 1.28e-01 \t  0.00% converged\r\n",
      "T00 ERR ... 2025-10-31 2:18:17    1           35 \t 1.41e-02 \t  0.00% converged\r\n",
      "T00 ERR ... 2025-10-31 2:18:17    2           50 \t 8.59e-04 \t 10.00% converged\r\n",
      "T00 ERR ... 2025-10-31 2:18:17    3           62 \t 2.81e-05 \t 100.00% converged\r\n",
      "T00 ERR ... 2025-10-31 2:18:17 Davidson converged after 3 iterations.\r\n",
      "T00 ERR ... 2025-10-31 2:18:17-----------------------------------\r\n",
      "T00 ERR ... 2025-10-31 2:18:17- Davidson ran for 0.00724062secs.\r\n",
      "T00 ERR ... 2025-10-31 2:18:17-----------------------------------\r\n",
      "T00 ERR ... 2025-10-31 2:18:17 Solved BSE for triplets \r\n",
      "T00 ERR ...   ====== triplet energies (eV) ====== \r\n",
      "T00 ERR ...   T =    1 Omega = +11.590322009249 eV  lamdba = +106.99 nm <FT> = +22.7896 <K_d> = -11.1994\r\n",
      "T00 ERR ...    \r\n",
      "T00 ERR ...   T =    2 Omega = +11.768478789883 eV  lamdba = +105.37 nm <FT> = +22.9508 <K_d> = -11.1824\r\n",
      "T00 ERR ...    \r\n",
      "T00 ERR ...   T =    3 Omega = +11.827207326978 eV  lamdba = +104.84 nm <FT> = +22.4839 <K_d> = -10.6568\r\n",
      "T00 ERR ...    \r\n",
      "T00 ERR ...   T =    4 Omega = +11.875161108513 eV  lamdba = +104.42 nm <FT> = +22.4495 <K_d> = -10.5743\r\n",
      "T00 ERR ...    \r\n",
      "T00 ERR ...   T =    5 Omega = +13.656557401567 eV  lamdba = +90.80 nm <FT> = +22.2469 <K_d> = -8.5903\r\n",
      "T00 ERR ...    \r\n",
      "T00 ERR ...   T =    6 Omega = +13.750151204388 eV  lamdba = +90.18 nm <FT> = +22.2952 <K_d> = -8.5451\r\n",
      "T00 ERR ...    \r\n",
      "T00 ERR ...   T =    7 Omega = +13.943379288674 eV  lamdba = +88.93 nm <FT> = +22.3953 <K_d> = -8.4519\r\n",
      "T00 ERR ...    \r\n",
      "T00 ERR ...   T =    8 Omega = +14.129599168828 eV  lamdba = +87.76 nm <FT> = +22.7313 <K_d> = -8.6017\r\n",
      "T00 ERR ...            HOMO-0   -> LUMO+1    : 72.0%\r\n",
      "T00 ERR ...    \r\n",
      "T00 ERR ...   T =    9 Omega = +14.226413303833 eV  lamdba = +87.16 nm <FT> = +22.8418 <K_d> = -8.6154\r\n",
      "T00 ERR ...    \r\n",
      "T00 ERR ...   T =   10 Omega = +14.374769677453 eV  lamdba = +86.26 nm <FT> = +22.8661 <K_d> = -8.4913\r\n",
      "T00 ERR ...            HOMO-2   -> LUMO+2    : 56.0%\r\n",
      "T00 ERR ...    \r\n",
      "T00 ERR ... 2025-10-31 2:18:17 Setup Full singlet hamiltonian \r\n",
      "T00 ERR ... 2025-10-31 2:18:17 Davidson Solver using 2 threads.\r\n",
      "T00 ERR ... 2025-10-31 2:18:17 Tolerance : 0.0001\r\n",
      "T00 ERR ... 2025-10-31 2:18:17 DPR Correction\r\n",
      "T00 ERR ... 2025-10-31 2:18:17 Matrix size : 120x120\r\n",
      "T00 ERR ... 2025-10-31 2:18:17 iter\tSearch Space\tNorm\r\n",
      "T00 ERR ... 2025-10-31 2:18:17    0           20 \t 1.28e-01 \t  0.00% converged\r\n",
      "T00 ERR ... 2025-10-31 2:18:17    1           35 \t 1.29e-02 \t  0.00% converged\r\n",
      "T00 ERR ... 2025-10-31 2:18:17    2           50 \t 9.32e-04 \t 40.00% converged\r\n",
      "T00 ERR ... 2025-10-31 2:18:17    3           61 \t 3.38e-05 \t 100.00% converged\r\n",
      "T00 ERR ... 2025-10-31 2:18:17 Davidson converged after 3 iterations.\r\n",
      "T00 ERR ... 2025-10-31 2:18:17-----------------------------------\r\n",
      "T00 ERR ... 2025-10-31 2:18:17- Davidson ran for 0.008108353secs.\r\n",
      "T00 ERR ... 2025-10-31 2:18:17-----------------------------------\r\n",
      "T00 ERR ... 2025-10-31 2:18:17 Solved BSE for singlets \r\n",
      "T00 ERR ...   ====== singlet energies (eV) ====== \r\n",
      "T00 ERR ...   S =    1 Omega = +13.838497169357 eV  lamdba = +89.61 nm <FT> = +21.2209 <K_x> = +0.9775 <K_d> = -8.3599"
     ]
    },
    {
     "name": "stdout",
     "output_type": "stream",
     "text": [
      "\r\n",
      "T00 ERR ...            TrDipole length gauge[e*bohr]  dx = -0.5303 dy = +0.4086 dz = -0.3397 |d|^2 = +0.5637 f = +0.1911\r\n",
      "T00 ERR ...            HOMO-0   -> LUMO+0    : 98.7%\r\n",
      "T00 ERR ... \r\n",
      "T00 ERR ...   S =    2 Omega = +13.899862166592 eV  lamdba = +89.21 nm <FT> = +21.2939 <K_x> = +1.0286 <K_d> = -8.4226\r\n",
      "T00 ERR ...            TrDipole length gauge[e*bohr]  dx = -0.1892 dy = -0.6258 dz = -0.4730 |d|^2 = +0.6511 f = +0.2217\r\n",
      "T00 ERR ...            HOMO-1   -> LUMO+0    : 97.0%\r\n",
      "T00 ERR ... \r\n",
      "T00 ERR ...   S =    3 Omega = +13.966254216121 eV  lamdba = +88.79 nm <FT> = +21.3574 <K_x> = +1.1861 <K_d> = -8.5772\r\n",
      "T00 ERR ...            TrDipole length gauge[e*bohr]  dx = -0.6224 dy = -0.3193 dz = +0.6421 |d|^2 = +0.9016 f = +0.3085\r\n",
      "T00 ERR ...            HOMO-2   -> LUMO+0    : 97.5%\r\n",
      "T00 ERR ... \r\n",
      "T00 ERR ...   S =    4 Omega = +14.551112061054 eV  lamdba = +85.22 nm <FT> = +22.7161 <K_x> = +0.3388 <K_d> = -8.5038\r\n",
      "T00 ERR ...            TrDipole length gauge[e*bohr]  dx = +0.1704 dy = -0.0704 dz = +0.0444 |d|^2 = +0.0360 f = +0.0128\r\n",
      "T00 ERR ...            HOMO-0   -> LUMO+1    : 77.0%\r\n",
      "T00 ERR ... \r\n",
      "T00 ERR ...   S =    5 Omega = +14.601148654685 eV  lamdba = +84.92 nm <FT> = +22.7821 <K_x> = +0.3234 <K_d> = -8.5043\r\n",
      "T00 ERR ...            TrDipole length gauge[e*bohr]  dx = +0.0459 dy = -0.1296 dz = -0.2162 |d|^2 = +0.0657 f = +0.0235\r\n",
      "T00 ERR ...            HOMO-1   -> LUMO+1    : 60.6%\r\n",
      "T00 ERR ... \r\n",
      "T00 ERR ...   S =    6 Omega = +14.637543965236 eV  lamdba = +84.71 nm <FT> = +22.8482 <K_x> = +0.2777 <K_d> = -8.4883\r\n",
      "T00 ERR ...            TrDipole length gauge[e*bohr]  dx = -0.1207 dy = +0.0282 dz = -0.0820 |d|^2 = +0.0221 f = +0.0079\r\n",
      "T00 ERR ...            HOMO-0   -> LUMO+2    : 55.6%\r\n",
      "T00 ERR ... \r\n",
      "T00 ERR ...   S =    7 Omega = +14.990800317421 eV  lamdba = +82.72 nm <FT> = +22.8544 <K_x> = +0.7066 <K_d> = -8.5701\r\n",
      "T00 ERR ...            TrDipole length gauge[e*bohr]  dx = +0.0540 dy = +0.0879 dz = +0.0593 |d|^2 = +0.0142 f = +0.0052\r\n",
      "T00 ERR ... \r\n",
      "T00 ERR ...   S =    8 Omega = +15.014814843206 eV  lamdba = +82.59 nm <FT> = +22.9069 <K_x> = +0.6670 <K_d> = -8.5590\r\n",
      "T00 ERR ...            TrDipole length gauge[e*bohr]  dx = +0.0177 dy = +0.0439 dz = -0.0303 |d|^2 = +0.0032 f = +0.0012\r\n",
      "T00 ERR ...            HOMO-2   -> LUMO+3    : 70.5%\r\n",
      "T00 ERR ... \r\n",
      "T00 ERR ...   S =    9 Omega = +15.998971128836 eV  lamdba = +77.50 nm <FT> = +23.1683 <K_x> = +2.1885 <K_d> = -9.3577\r\n",
      "T00 ERR ...            TrDipole length gauge[e*bohr]  dx = -0.8938 dy = -0.8746 dz = +0.5878 |d|^2 = +1.9093 f = +0.7484\r\n",
      "T00 ERR ...            HOMO-2   -> LUMO+1    : 60.5%\r\n",
      "T00 ERR ... \r\n",
      "T00 ERR ...   S =   10 Omega = +16.031818856026 eV  lamdba = +77.35 nm <FT> = +23.2251 <K_x> = +2.2798 <K_d> = -9.4731\r\n",
      "T00 ERR ...            TrDipole length gauge[e*bohr]  dx = -0.4416 dy = +1.0821 dz = +0.8250 |d|^2 = +2.0467 f = +0.8039\r\n",
      "T00 ERR ... \r\n",
      "T00 ERR ... 2025-10-31 2:18:17 BSE calculation took 0.017854277 seconds.\r\n",
      "T00 ERR ... 2025-10-31 2:18:17 GWBSE calculation finished \r\n",
      "T00 ERR ... Next State is: s1\r\n",
      "T00 ERR ... 2025-10-31 2:18:17 Evaluating polarregion 1\r\n",
      "T00 ERR ... 2025-10-31 2:18:17 Evaluating interaction between polarregion 1 and qmregion 0\r\n",
      "T00 ERR ... Next State is: s1"
     ]
    },
    {
     "name": "stdout",
     "output_type": "stream",
     "text": [
      "\r\n",
      "T00 ERR ... 2025-10-31 2:18:17 Evaluating interaction between polarregion 1 and staticregion 2\r\n",
      "T00 ERR ... 2025-10-31 2:18:17 Starting Solving for classical polarization with 1380 degrees of freedom.\r\n",
      "T00 ERR ... 2025-10-31 2:18:17 CG: #iterations: 0, estimated error: 1.32052617269e-05\r\n",
      "T00 ERR ...   Total static energy [hrt]= 0.0009102654542\r\n",
      "T00 ERR ...   Total polar energy [hrt]= 0.0008151697285\r\n",
      "T00 ERR ...  Total energy [hrt]= 0.001725435183\r\n",
      "T00 ERR ... 2025-10-31 2:18:17 Evaluating staticregion 2\r\n",
      "T00 ERR ... 2025-10-31 2:18:17 Writing checkpoint to checkpoint_iter_13.hdf5"
     ]
    },
    {
     "name": "stdout",
     "output_type": "stream",
     "text": [
      "\r\n",
      "T00 ERR ...  Region:qmregion 0 is converged deltaE=8.250861256e-07 RMS Dmat=6.674983924e-06 MaxDmat=3.834895716e-05\r\n",
      "T00 ERR ... 2025-10-31 2:18:17 Region:polarregion 1 is converged deltaE=8.901880347e-08\r\n",
      "T00 ERR ... 2025-10-31 2:18:17 --Total Energy all regions -39.72067327\r\n",
      "T00 ERR ... 2025-10-31 2:18:17 Job converged after 13 iterations.\r\n",
      "T00 ERR ... Next State is: s1\r\n",
      "T00 ERR ... Reporting job results\r\n",
      "\r\n",
      "T00 ERR ... Requesting next job"
     ]
    },
    {
     "name": "stdout",
     "output_type": "stream",
     "text": [
      "\r\n",
      "T00 ERR ... Assign jobs from stack"
     ]
    },
    {
     "name": "stdout",
     "output_type": "stream",
     "text": [
      "\r\n",
      "T00 ERR ... Sync did not yield any new jobs.\r\n",
      "T00 ERR ... Next job: ID = - (none available)"
     ]
    },
    {
     "name": "stdout",
     "output_type": "stream",
     "text": [
      "\r\n",
      "MST ERR Assign jobs from stack"
     ]
    },
    {
     "name": "stdout",
     "output_type": "stream",
     "text": [
      "\r\n",
      "Changes have not been written to state file.\r\n"
     ]
    }
   ],
   "source": [
    "!sed -i \"s/AVAILABLE/COMPLETE/g\" qmmm_jobs.xml                                                                                                                                                            \n",
    "!sed -i '0,/COMPLETE/s/COMPLETE/AVAILABLE/' qmmm_jobs.xml   \n",
    "!sed -i '0,/COMPLETE/s/COMPLETE/AVAILABLE/' qmmm_jobs.xml  \n",
    "!xtp_parallel -e qmmm -o qmmm.xml -x 2 -f state.hdf5 -j run"
   ]
  },
  {
   "cell_type": "markdown",
   "metadata": {},
   "source": [
    "Finally, save the results. We could read them in but that is a bit pointless. Maybe check out how to turn a checkpoint file into an or orbfile (look at the scripts) and visualise it with the `gencube` tool. "
   ]
  },
  {
   "cell_type": "code",
   "execution_count": 28,
   "metadata": {
    "execution": {
     "iopub.execute_input": "2025-10-31T02:18:17.929529Z",
     "iopub.status.busy": "2025-10-31T02:18:17.929338Z",
     "iopub.status.idle": "2025-10-31T02:18:17.932006Z",
     "shell.execute_reply": "2025-10-31T02:18:17.931483Z"
    }
   },
   "outputs": [],
   "source": [
    "#!xtp_parallel -e qmmm -o OPTIONFILES/qmmm.xml -f state.hdf5 -j \"read\""
   ]
  },
  {
   "cell_type": "code",
   "execution_count": null,
   "metadata": {},
   "outputs": [],
   "source": []
  }
 ],
 "metadata": {
  "kernelspec": {
   "display_name": "Python 3",
   "language": "python",
   "name": "python3"
  },
  "language_info": {
   "codemirror_mode": {
    "name": "ipython",
    "version": 3
   },
   "file_extension": ".py",
   "mimetype": "text/x-python",
   "name": "python",
   "nbconvert_exporter": "python",
   "pygments_lexer": "ipython3",
   "version": "3.13.7"
  }
 },
 "nbformat": 4,
 "nbformat_minor": 4
}
