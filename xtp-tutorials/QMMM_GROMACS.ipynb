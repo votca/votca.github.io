{
 "cells": [
  {
   "cell_type": "markdown",
   "metadata": {},
   "source": [
    "# QMMM workflow using GROMACS and VOTCA-XTP"
   ]
  },
  {
   "cell_type": "markdown",
   "metadata": {},
   "source": [
    "## What is this tutorial about\n",
    "In this tutorial, we will learn how to set and perform excited state calculation using the Votca XTP library. We will use methane as our QM region."
   ]
  },
  {
   "cell_type": "markdown",
   "metadata": {},
   "source": [
    "## Requirements\n",
    "* You will need to install **VOTCA** using the instructions described [here](https://github.com/votca/votca/blob/master/share/sphinx/INSTALL.rst)\n",
    "* Once the installation is completed you need to activate the VOTCA enviroment by running the `VOTCARC.bash` script that has been installed at the bin subfolder for the path that you have provided for the installation step above"
   ]
  },
  {
   "cell_type": "markdown",
   "metadata": {},
   "source": [
    "## Interacting with the XTP command line interface\n",
    "The XTP package offers the following command line interface that the user can interact with:\n",
    "* [xtp_map](https://www.votca.org/xtp/xtp_map.html)\n",
    "* [xtp_parallel](https://www.votca.org/xtp/xtp_parallel.html)\n",
    "* [xtp_run](https://www.votca.org/xtp/xtp_run.html)\n",
    "* [xtp_tools](https://www.votca.org/xtp/xtp_tools.html)\n",
    "\n",
    "Run the following command to view the help message of `xtp_tools`:"
   ]
  },
  {
   "cell_type": "code",
   "execution_count": 1,
   "metadata": {
    "execution": {
     "iopub.execute_input": "2025-05-23T05:56:13.669879Z",
     "iopub.status.busy": "2025-05-23T05:56:13.669703Z",
     "iopub.status.idle": "2025-05-23T05:56:13.802418Z",
     "shell.execute_reply": "2025-05-23T05:56:13.801766Z"
    }
   },
   "outputs": [
    {
     "name": "stdout",
     "output_type": "stream",
     "text": [
      "==================================================\r\n",
      "========   VOTCA (http://www.votca.org)   ========\r\n",
      "==================================================\r\n",
      "\r\n",
      "please read and cite: https://doi.org/10.21105/joss.06864\r\n",
      "and submit bugs to https://github.com/votca/votca/issues\r\n",
      "\r\n",
      "xtp_tools, version 2025-dev gitid: 7b6d1e5 (compiled May 23 2025, 05:54:09)\r\n",
      "\r\n",
      "Runs excitation/charge transport tools\r\n",
      "\r\n",
      "\r\n",
      "\r\n",
      "Allowed options:\r\n",
      "  -h [ --help ]                 display this help and exit\r\n",
      "  --verbose                     be loud and noisy\r\n",
      "  --verbose1                    be very loud and noisy\r\n",
      "  -v [ --verbose2 ]             be extremly loud and noisy\r\n",
      "  -o [ --options ] arg          Tool user options.\r\n",
      "  -t [ --nthreads ] arg (=1)    number of threads to create\r\n",
      "  -e [ --execute ] arg        Name of Tool to run\r\n",
      "  -l [ --list ]               Lists all available Tools\r\n",
      "  -d [ --description ] arg    Short description of a Tools\r\n",
      "  -c [ --cmdoptions ] arg     Modify options via command line by e.g. '-c \r\n",
      "                              xmltag.subtag=value'. Use whitespace to separate \r\n",
      "                              multiple options\r\n",
      "  -p [ --printoptions ] arg   Prints xml options of a Tool\r\n",
      "\r\n"
     ]
    }
   ],
   "source": [
    "!xtp_tools -h"
   ]
  },
  {
   "cell_type": "markdown",
   "metadata": {},
   "source": [
    "### Note\n",
    "> * In Jupyter the `!` symbol means: *run the following command as a standard unix command*\n",
    "> * In Jupyter the command `%env` set an environmental variable"
   ]
  },
  {
   "cell_type": "markdown",
   "metadata": {},
   "source": [
    "## Setting the environment\n"
   ]
  },
  {
   "cell_type": "markdown",
   "metadata": {},
   "source": [
    "Remove previous hdf5 file"
   ]
  },
  {
   "cell_type": "code",
   "execution_count": 2,
   "metadata": {
    "execution": {
     "iopub.execute_input": "2025-05-23T05:56:13.805739Z",
     "iopub.status.busy": "2025-05-23T05:56:13.805219Z",
     "iopub.status.idle": "2025-05-23T05:56:13.915294Z",
     "shell.execute_reply": "2025-05-23T05:56:13.914751Z"
    }
   },
   "outputs": [],
   "source": [
    "!rm -f state.hdf5"
   ]
  },
  {
   "cell_type": "markdown",
   "metadata": {},
   "source": [
    "## Generate the topology from the Gromacs file"
   ]
  },
  {
   "cell_type": "markdown",
   "metadata": {},
   "source": [
    "runs the mapping from MD coordinates to segments and creates an [hdf5 file](https://www.hdfgroup.org/solutions/hdf5/). You can explore the generated `state.hdf5` file with e.g. hdf5itebrowser. In Python, you can use the [h5py library](https://www.h5py.org/)."
   ]
  },
  {
   "cell_type": "code",
   "execution_count": 3,
   "metadata": {
    "execution": {
     "iopub.execute_input": "2025-05-23T05:56:13.918351Z",
     "iopub.status.busy": "2025-05-23T05:56:13.917869Z",
     "iopub.status.idle": "2025-05-23T05:56:14.455444Z",
     "shell.execute_reply": "2025-05-23T05:56:14.454890Z"
    }
   },
   "outputs": [
    {
     "name": "stdout",
     "output_type": "stream",
     "text": [
      "==================================================\r\n",
      "========   VOTCA (http://www.votca.org)   ========\r\n",
      "==================================================\r\n",
      "\r\n",
      "please read and cite: https://doi.org/10.21105/joss.06864\r\n",
      "and submit bugs to https://github.com/votca/votca/issues\r\n",
      "\r\n",
      "xtp_map, version 2025-dev gitid: 7b6d1e5 (compiled May 23 2025, 05:54:09)\r\n",
      "\r\n",
      "Reading file MD_FILES/topol.tpr, VERSION 5.1.1 (single precision)\r\n",
      "Note: file tpx version 103, software tpx version 116\r\n"
     ]
    },
    {
     "name": "stdout",
     "output_type": "stream",
     "text": [
      "Creating statefile state.hdf5\r\n",
      "Frame with id 0 was not in statefile state.hdf5 ,adding it now.\r\n"
     ]
    },
    {
     "name": "stdout",
     "output_type": "stream",
     "text": [
      "Wrote MD topology (step = 0, time = 0) to state.hdf5\r\n",
      "... . \r\n"
     ]
    }
   ],
   "source": [
    "!xtp_map -t MD_FILES/topol.tpr -c MD_FILES/conf.gro -s system.xml -f state.hdf5"
   ]
  },
  {
   "cell_type": "markdown",
   "metadata": {},
   "source": [
    "##  Check the mapping\n",
    "\n",
    "Let us first output `.pdb` files for the segments, qmmolecules and classical segments in order to check the mapping. Use `xtp_run -d mapchecker` to see all options `mapchecker` calculator takes. We use the `-c` option to change one option on the commandline."
   ]
  },
  {
   "cell_type": "markdown",
   "metadata": {},
   "source": [
    "In the [mapchecker section of the manual](https://votca.github.io/xtp/mapchecker.html) you can find a table with the `mapchecker` input variables and their corresponding defaults. Finally, the following command run the check"
   ]
  },
  {
   "cell_type": "code",
   "execution_count": 4,
   "metadata": {
    "execution": {
     "iopub.execute_input": "2025-05-23T05:56:14.458312Z",
     "iopub.status.busy": "2025-05-23T05:56:14.458115Z",
     "iopub.status.idle": "2025-05-23T05:56:15.066934Z",
     "shell.execute_reply": "2025-05-23T05:56:15.066339Z"
    }
   },
   "outputs": [
    {
     "name": "stdout",
     "output_type": "stream",
     "text": [
      "==================================================\r\n",
      "========   VOTCA (http://www.votca.org)   ========\r\n",
      "==================================================\r\n",
      "\r\n",
      "please read and cite: https://doi.org/10.21105/joss.06864\r\n",
      "and submit bugs to https://github.com/votca/votca/issues\r\n",
      "\r\n",
      "xtp_run, version 2025-dev gitid: 7b6d1e5 (compiled May 23 2025, 05:54:09)\r\n",
      "\r\n",
      "Initializing calculator\r\n",
      "... mapchecker\r\n",
      "1 frames in statefile, Ids are: 0 \r\n",
      "Starting at frame 0\r\n",
      "Evaluating frame 0\r\n",
      "Import MD Topology (i.e. frame 0) from state.hdf5\r\n"
     ]
    },
    {
     "name": "stdout",
     "output_type": "stream",
     "text": [
      ".... \r\n"
     ]
    },
    {
     "name": "stdout",
     "output_type": "stream",
     "text": [
      "... mapchecker\r\n",
      " Using 1 threads\r\n",
      "Writing segments to md_segments_step_0.pdb\r\n",
      "Writing qmmolecules to qm_segments_n_step_0.pdb\r\n"
     ]
    },
    {
     "name": "stdout",
     "output_type": "stream",
     "text": [
      "Writing polarsegments to mp_segments_e_step_0.pdb\r\n"
     ]
    },
    {
     "name": "stdout",
     "output_type": "stream",
     "text": [
      "Writing polarsegments to mp_segments_h_step_0.pdb\r\n"
     ]
    },
    {
     "name": "stdout",
     "output_type": "stream",
     "text": [
      "Changes have not been written to state file.\r\n"
     ]
    }
   ],
   "source": [
    "!xtp_run -e mapchecker -c map_file=system.xml -f state.hdf5"
   ]
  },
  {
   "cell_type": "markdown",
   "metadata": {},
   "source": [
    "## Neighborlist Calculation"
   ]
  },
  {
   "cell_type": "markdown",
   "metadata": {},
   "source": [
    "The following step is to determine the neighbouring pairs for exciton transport. See the [neighborlist options](https://www.votca.org/xtp/neighborlist.html) for further information. "
   ]
  },
  {
   "cell_type": "markdown",
   "metadata": {},
   "source": [
    "Finally, we can run the calculation using 4 threads"
   ]
  },
  {
   "cell_type": "code",
   "execution_count": 5,
   "metadata": {
    "execution": {
     "iopub.execute_input": "2025-05-23T05:56:15.070054Z",
     "iopub.status.busy": "2025-05-23T05:56:15.069841Z",
     "iopub.status.idle": "2025-05-23T05:56:15.784617Z",
     "shell.execute_reply": "2025-05-23T05:56:15.784108Z"
    }
   },
   "outputs": [
    {
     "name": "stdout",
     "output_type": "stream",
     "text": [
      "==================================================\r\n",
      "========   VOTCA (http://www.votca.org)   ========\r\n",
      "==================================================\r\n",
      "\r\n",
      "please read and cite: https://doi.org/10.21105/joss.06864\r\n",
      "and submit bugs to https://github.com/votca/votca/issues\r\n",
      "\r\n",
      "xtp_run, version 2025-dev gitid: 7b6d1e5 (compiled May 23 2025, 05:54:09)\r\n",
      "\r\n",
      "Initializing calculator\r\n",
      "... neighborlist\r\n",
      "1 frames in statefile, Ids are: 0 \r\n",
      "Starting at frame 0\r\n",
      "Evaluating frame 0\r\n",
      "Import MD Topology (i.e. frame 0) from state.hdf5\r\n"
     ]
    },
    {
     "name": "stdout",
     "output_type": "stream",
     "text": [
      ".... \r\n"
     ]
    },
    {
     "name": "stdout",
     "output_type": "stream",
     "text": [
      "... neighborlist\r\n",
      " Using 4 threads\r\n",
      "Evaluating 1000 segments for neighborlist. \r\n",
      "\r",
      " ... ... Evaluating \r\n",
      "0%   10   20   30   40   50   60   70   80   90   100%\r\n",
      "|----|----|----|----|----|----|----|----|----|----|\r\n",
      "***************************************************\r\n",
      "\r\n",
      " ... ... Created 21093 direct pairs.\r\n",
      " ... ... Determining classical pairs \r\n",
      " ... ... Found 8586 classical pairs \r\n"
     ]
    },
    {
     "name": "stdout",
     "output_type": "stream",
     "text": [
      "Wrote MD topology (step = 0, time = 0) to state.hdf5\r\n",
      "... . \r\n"
     ]
    }
   ],
   "source": [
    "!xtp_run -e neighborlist -c exciton_cutoff=0.5 constant=0.6 -f state.hdf5 -t 4"
   ]
  },
  {
   "cell_type": "markdown",
   "metadata": {},
   "source": [
    "## Read reorganization energies\n",
    "In this step we will read the in site reorganization energies and store them in the `state.hdf5` file. We just need to copy the input file and execute the calculation. The side energies have to be calculated by the user beforehand and put into an xml file. We added them to `system.xml`"
   ]
  },
  {
   "cell_type": "code",
   "execution_count": 6,
   "metadata": {
    "execution": {
     "iopub.execute_input": "2025-05-23T05:56:15.787176Z",
     "iopub.status.busy": "2025-05-23T05:56:15.786962Z",
     "iopub.status.idle": "2025-05-23T05:56:16.499576Z",
     "shell.execute_reply": "2025-05-23T05:56:16.498935Z"
    }
   },
   "outputs": [
    {
     "name": "stdout",
     "output_type": "stream",
     "text": [
      "==================================================\r\n",
      "========   VOTCA (http://www.votca.org)   ========\r\n",
      "==================================================\r\n",
      "\r\n",
      "please read and cite: https://doi.org/10.21105/joss.06864\r\n",
      "and submit bugs to https://github.com/votca/votca/issues\r\n",
      "\r\n",
      "xtp_run, version 2025-dev gitid: 7b6d1e5 (compiled May 23 2025, 05:54:09)\r\n",
      "\r\n",
      "Initializing calculator\r\n",
      "... einternal\r\n",
      "1 frames in statefile, Ids are: 0 \r\n",
      "Starting at frame 0\r\n",
      "Evaluating frame 0\r\n",
      "Import MD Topology (i.e. frame 0) from state.hdf5\r\n"
     ]
    },
    {
     "name": "stdout",
     "output_type": "stream",
     "text": [
      ".... \r\n",
      "... einternal\r\n",
      " Using 1 threads\r\n",
      "... ... Site, reorg. energies from system.xml.\r\n",
      "\r\n",
      "... ... Read in site, reorg. energies for 1000 segments. "
     ]
    },
    {
     "name": "stdout",
     "output_type": "stream",
     "text": [
      "Wrote MD topology (step = 0, time = 0) to state.hdf5\r\n",
      "... . \r\n"
     ]
    }
   ],
   "source": [
    "!xtp_run -e einternal -c energies_file=system.xml -f state.hdf5"
   ]
  },
  {
   "cell_type": "markdown",
   "metadata": {},
   "source": [
    "## Compute site energy\n",
    "In this step we will perform some *QMMM* calculations to compute the site energies. The `qmmm_mm.xml` file contains some predefined settings to perform the *MM* calculations. Let us first copy these settings into the state file. Instead of using the `-c` option we now use the `-o` option to read in options from an xml file."
   ]
  },
  {
   "cell_type": "code",
   "execution_count": 7,
   "metadata": {
    "execution": {
     "iopub.execute_input": "2025-05-23T05:56:16.502380Z",
     "iopub.status.busy": "2025-05-23T05:56:16.502190Z",
     "iopub.status.idle": "2025-05-23T05:56:16.920368Z",
     "shell.execute_reply": "2025-05-23T05:56:16.919829Z"
    }
   },
   "outputs": [
    {
     "name": "stdout",
     "output_type": "stream",
     "text": [
      "==================================================\r\n",
      "========   VOTCA (http://www.votca.org)   ========\r\n",
      "==================================================\r\n",
      "\r\n",
      "please read and cite: https://doi.org/10.21105/joss.06864\r\n",
      "and submit bugs to https://github.com/votca/votca/issues\r\n",
      "\r\n",
      "xtp_parallel, version 2025-dev gitid: 7b6d1e5 (compiled May 23 2025, 05:54:09)\r\n",
      "\r\n",
      "Initializing calculator\r\n",
      "... qmmm\r\n",
      "\r\n",
      "... ... Initialized with 1 threads.\r\n",
      "\r\n",
      "... ... Using 1 openmp threads for 1x1=1 total threads.\r\n",
      "1 frames in statefile, Ids are: 0 \r\n",
      "Starting at frame 0\r\n",
      "Evaluating frame 0\r\n",
      "Import MD Topology (i.e. frame 0) from state.hdf5\r\n"
     ]
    },
    {
     "name": "stdout",
     "output_type": "stream",
     "text": [
      ".... \r\n",
      "... qmmm \r\n",
      "... ... Writing job file qmmm_mm_jobs.xml"
     ]
    },
    {
     "name": "stdout",
     "output_type": "stream",
     "text": [
      "\r\n",
      "... ... In total 4000 jobs\r\n",
      "Changes have not been written to state file.\r\n"
     ]
    }
   ],
   "source": [
    "!xtp_parallel -e qmmm -o qmmm_mm.xml -f state.hdf5 -j \"write\""
   ]
  },
  {
   "cell_type": "markdown",
   "metadata": {},
   "source": [
    "The previous command generates a `qmmm_mm_jobs.xml` containing 4000 *MM* jobs to compute, if you examine that file, it should look something like"
   ]
  },
  {
   "cell_type": "markdown",
   "metadata": {},
   "source": [
    "```xml\n",
    "<jobs>\n",
    "  <job>\n",
    "    <id>0</id>\n",
    "    <tag>Methane_0:n</tag>\n",
    "    <input>\n",
    "      <site_energies>0:n</site_energies>\n",
    "      <regions>\n",
    "        <region>\n",
    "          <id>0</id>\n",
    "          <segments>0:n</segments>\n",
    "        </region>\n",
    "      </regions>\n",
    "    </input>\n",
    "    <status>AVAILABLE</status>\n",
    "  </job>    \n",
    "...\n",
    "```"
   ]
  },
  {
   "cell_type": "markdown",
   "metadata": {},
   "source": [
    "Let us run just the first 4 jobs by settings all jobs `status` to `COMPLETE` except for the first four. This can be easily done with [sed](https://www.gnu.org/software/sed/manual/sed.html) as follows,"
   ]
  },
  {
   "cell_type": "code",
   "execution_count": 8,
   "metadata": {
    "execution": {
     "iopub.execute_input": "2025-05-23T05:56:16.923485Z",
     "iopub.status.busy": "2025-05-23T05:56:16.923035Z",
     "iopub.status.idle": "2025-05-23T05:56:17.487643Z",
     "shell.execute_reply": "2025-05-23T05:56:17.487002Z"
    }
   },
   "outputs": [],
   "source": [
    "!sed -i \"s/AVAILABLE/COMPLETE/g\" qmmm_mm_jobs.xml\n",
    "!sed -i '0,/COMPLETE/s/COMPLETE/AVAILABLE/' qmmm_mm_jobs.xml\n",
    "!sed -i '0,/COMPLETE/s/COMPLETE/AVAILABLE/' qmmm_mm_jobs.xml\n",
    "!sed -i '0,/COMPLETE/s/COMPLETE/AVAILABLE/' qmmm_mm_jobs.xml\n",
    "!sed -i '0,/COMPLETE/s/COMPLETE/AVAILABLE/' qmmm_mm_jobs.xml"
   ]
  },
  {
   "cell_type": "markdown",
   "metadata": {},
   "source": [
    "Now we can run the jobs and save the results in the state file"
   ]
  },
  {
   "cell_type": "code",
   "execution_count": 9,
   "metadata": {
    "execution": {
     "iopub.execute_input": "2025-05-23T05:56:17.490411Z",
     "iopub.status.busy": "2025-05-23T05:56:17.490229Z",
     "iopub.status.idle": "2025-05-23T05:56:19.651105Z",
     "shell.execute_reply": "2025-05-23T05:56:19.650498Z"
    }
   },
   "outputs": [
    {
     "name": "stdout",
     "output_type": "stream",
     "text": [
      "==================================================\r\n",
      "========   VOTCA (http://www.votca.org)   ========\r\n",
      "==================================================\r\n",
      "\r\n",
      "please read and cite: https://doi.org/10.21105/joss.06864\r\n",
      "and submit bugs to https://github.com/votca/votca/issues\r\n",
      "\r\n",
      "xtp_parallel, version 2025-dev gitid: 7b6d1e5 (compiled May 23 2025, 05:54:09)\r\n",
      "\r\n",
      "Initializing calculator\r\n",
      "... qmmm\r\n",
      "\r\n",
      "... ... Initialized with 1 threads.\r\n",
      "\r\n",
      "... ... Using 2 openmp threads for 1x2=2 total threads.\r\n",
      "1 frames in statefile, Ids are: 0 \r\n",
      "Starting at frame 0\r\n",
      "Evaluating frame 0\r\n",
      "Import MD Topology (i.e. frame 0) from state.hdf5\r\n"
     ]
    },
    {
     "name": "stdout",
     "output_type": "stream",
     "text": [
      ".... \r\n",
      "... qmmm \r\n",
      "MST ERR Job file = 'qmmm_mm_jobs.xml', cache size =  8\r\n",
      "MST ERR Initialize jobs from qmmm_mm_jobs.xml"
     ]
    },
    {
     "name": "stdout",
     "output_type": "stream",
     "text": [
      "\r\n",
      "MST ERR Registered 4000 jobs.\r\n",
      "T00 ERR ... Requesting next job"
     ]
    },
    {
     "name": "stdout",
     "output_type": "stream",
     "text": [
      "\r\n",
      "T00 ERR ... Assign jobs from stack"
     ]
    },
    {
     "name": "stdout",
     "output_type": "stream",
     "text": [
      "\r\n",
      "T00 ERR ... Next job: ID = 0=> [ 0%] "
     ]
    },
    {
     "name": "stdout",
     "output_type": "stream",
     "text": [
      "\r\n",
      "T00 ERR ...  Regions created\r\n",
      "T00 ERR ... Id: 0 type: polarregion size: 17 charge[e]= -9.29812e-16\r\n",
      "T00 ERR ... Id: 1 type: staticregion size: 254 charge[e]= -1.4086e-14\r\n",
      "T00 ERR ... 2025-5-23 5:56:18 Writing jobtopology to MMMM/frame_0/job_0_Methane_0:n/regions.pdb\r\n",
      "T00 ERR ... 2025-5-23 5:56:18 Only 1 scf region is used. The remaining regions are static. So no inter regions scf is required. \r\n",
      "T00 ERR ... 2025-5-23 5:56:18 --Inter Region SCF Iteration 1 of 1\r\n",
      "T00 ERR ... 2025-5-23 5:56:18 Evaluating polarregion 0\r\n",
      "T00 ERR ... 2025-5-23 5:56:18 Evaluating interaction between polarregion 0 and staticregion 1\r\n",
      "T00 ERR ... 2025-5-23 5:56:18 Starting Solving for classical polarization with 255 degrees of freedom.\r\n",
      "T00 ERR ... 2025-5-23 5:56:18 CG: #iterations: 6, estimated error: 1.68317e-05\r\n",
      "T00 ERR ...   Total static energy [hrt]= 8.121948104e-05\r\n",
      "T00 ERR ...   Total polar energy [hrt]= -0.0001235439304\r\n",
      "T00 ERR ...  Total energy [hrt]= -4.232444934e-05\r\n",
      "T00 ERR ... 2025-5-23 5:56:18 Evaluating staticregion 1\r\n",
      "T00 ERR ... 2025-5-23 5:56:18 Writing checkpoint to checkpoint_iter_1.hdf5\r\n",
      "T00 ERR ... Reporting job results\r\n",
      "\r\n",
      "T00 ERR ... Requesting next job\r\n",
      "T00 ERR ... Next job: ID = 1"
     ]
    },
    {
     "name": "stdout",
     "output_type": "stream",
     "text": [
      "\r\n",
      "T00 ERR ...  Regions created\r\n",
      "T00 ERR ... Id: 0 type: polarregion size: 17 charge[e]= -1\r\n",
      "T00 ERR ... Id: 1 type: staticregion size: 254 charge[e]= -1.408595462e-14\r\n",
      "T00 ERR ... 2025-5-23 5:56:18 Writing jobtopology to MMMM/frame_0/job_1_Methane_0:e/regions.pdb\r\n",
      "T00 ERR ... 2025-5-23 5:56:18 Only 1 scf region is used. The remaining regions are static. So no inter regions scf is required. \r\n",
      "T00 ERR ... 2025-5-23 5:56:18 --Inter Region SCF Iteration 1 of 1\r\n",
      "T00 ERR ... 2025-5-23 5:56:18 Evaluating polarregion 0\r\n",
      "T00 ERR ... 2025-5-23 5:56:18 Evaluating interaction between polarregion 0 and staticregion 1\r\n",
      "T00 ERR ... 2025-5-23 5:56:18 Starting Solving for classical polarization with 255 degrees of freedom.\r\n",
      "T00 ERR ... 2025-5-23 5:56:18 CG: #iterations: 25, estimated error: 3.559653769e-05\r\n",
      "T00 ERR ...   Total static energy [hrt]= -0.0009055590147\r\n",
      "T00 ERR ...   Total polar energy [hrt]= -0.03058901388\r\n",
      "T00 ERR ...  Total energy [hrt]= -0.0314945729\r\n",
      "T00 ERR ... 2025-5-23 5:56:18 Evaluating staticregion 1\r\n",
      "T00 ERR ... 2025-5-23 5:56:18 Writing checkpoint to checkpoint_iter_1.hdf5"
     ]
    },
    {
     "name": "stdout",
     "output_type": "stream",
     "text": [
      "\r\n",
      "T00 ERR ... Reporting job results\r\n",
      "\r\n",
      "T00 ERR ... Requesting next job\r\n",
      "T00 ERR ... Next job: ID = 2\r\n",
      "T00 ERR ...  Regions created\r\n",
      "T00 ERR ... Id: 0 type: polarregion size: 17 charge[e]= 1\r\n",
      "T00 ERR ... Id: 1 type: staticregion size: 254 charge[e]= -1.408595462e-14\r\n",
      "T00 ERR ... 2025-5-23 5:56:18 Writing jobtopology to MMMM/frame_0/job_2_Methane_0:h/regions.pdb\r\n",
      "T00 ERR ... 2025-5-23 5:56:18 Only 1 scf region is used. The remaining regions are static. So no inter regions scf is required. \r\n",
      "T00 ERR ... 2025-5-23 5:56:18 --Inter Region SCF Iteration 1 of 1\r\n",
      "T00 ERR ... 2025-5-23 5:56:18 Evaluating polarregion 0\r\n",
      "T00 ERR ... 2025-5-23 5:56:18 Evaluating interaction between polarregion 0 and staticregion 1\r\n",
      "T00 ERR ... 2025-5-23 5:56:18 Starting Solving for classical polarization with 255 degrees of freedom.\r\n",
      "T00 ERR ... 2025-5-23 5:56:18 CG: #iterations: 6, estimated error: 1.527283514e-05\r\n",
      "T00 ERR ...   Total static energy [hrt]= 0.001994038371\r\n",
      "T00 ERR ...   Total polar energy [hrt]= -0.02768723937\r\n",
      "T00 ERR ...  Total energy [hrt]= -0.025693201\r\n",
      "T00 ERR ... 2025-5-23 5:56:18 Evaluating staticregion 1\r\n",
      "T00 ERR ... 2025-5-23 5:56:18 Writing checkpoint to checkpoint_iter_1.hdf5"
     ]
    },
    {
     "name": "stdout",
     "output_type": "stream",
     "text": [
      "\r\n",
      "T00 ERR ... Reporting job results\r\n",
      "\r\n",
      "T00 ERR ... Requesting next job\r\n",
      "T00 ERR ... Next job: ID = 3\r\n",
      "T00 ERR ...  Regions created\r\n",
      "T00 ERR ... Id: 0 type: polarregion size: 17 charge[e]= -7.632783294e-16\r\n",
      "T00 ERR ... Id: 1 type: staticregion size: 254 charge[e]= -1.408595462e-14\r\n",
      "T00 ERR ... 2025-5-23 5:56:18 Writing jobtopology to MMMM/frame_0/job_3_Methane_0:s1/regions.pdb\r\n",
      "T00 ERR ... 2025-5-23 5:56:18 Only 1 scf region is used. The remaining regions are static. So no inter regions scf is required. \r\n",
      "T00 ERR ... 2025-5-23 5:56:18 --Inter Region SCF Iteration 1 of 1\r\n",
      "T00 ERR ... 2025-5-23 5:56:18 Evaluating polarregion 0\r\n",
      "T00 ERR ... 2025-5-23 5:56:18 Evaluating interaction between polarregion 0 and staticregion 1\r\n",
      "T00 ERR ... 2025-5-23 5:56:18 Starting Solving for classical polarization with 255 degrees of freedom.\r\n",
      "T00 ERR ... 2025-5-23 5:56:18 CG: #iterations: 6, estimated error: 2.170495882e-05\r\n",
      "T00 ERR ...   Total static energy [hrt]= 0.0002401293715\r\n",
      "T00 ERR ...   Total polar energy [hrt]= -0.0004782854373\r\n",
      "T00 ERR ...  Total energy [hrt]= -0.0002381560658\r\n",
      "T00 ERR ... 2025-5-23 5:56:18 Evaluating staticregion 1\r\n",
      "T00 ERR ... 2025-5-23 5:56:18 Writing checkpoint to checkpoint_iter_1.hdf5"
     ]
    },
    {
     "name": "stdout",
     "output_type": "stream",
     "text": [
      "\r\n",
      "T00 ERR ... Reporting job results\r\n",
      "\r\n",
      "T00 ERR ... Requesting next job"
     ]
    },
    {
     "name": "stdout",
     "output_type": "stream",
     "text": [
      "\r\n",
      "T00 ERR ... Assign jobs from stack"
     ]
    },
    {
     "name": "stdout",
     "output_type": "stream",
     "text": [
      "\r\n",
      "T00 ERR ... Sync did not yield any new jobs.\r\n",
      "T00 ERR ... Next job: ID = - (none available)"
     ]
    },
    {
     "name": "stdout",
     "output_type": "stream",
     "text": [
      "\r\n",
      "MST ERR Assign jobs from stack"
     ]
    },
    {
     "name": "stdout",
     "output_type": "stream",
     "text": [
      "\r\n",
      "Changes have not been written to state file.\r\n"
     ]
    },
    {
     "name": "stdout",
     "output_type": "stream",
     "text": [
      "==================================================\r\n",
      "========   VOTCA (http://www.votca.org)   ========\r\n",
      "==================================================\r\n",
      "\r\n",
      "please read and cite: https://doi.org/10.21105/joss.06864\r\n",
      "and submit bugs to https://github.com/votca/votca/issues\r\n",
      "\r\n",
      "xtp_parallel, version 2025-dev gitid: 7b6d1e5 (compiled May 23 2025, 05:54:09)\r\n",
      "\r\n",
      "Initializing calculator\r\n",
      "... qmmm\r\n",
      "\r\n",
      "... ... Initialized with 1 threads.\r\n",
      "\r\n",
      "... ... Using 1 openmp threads for 1x1=1 total threads.\r\n",
      "1 frames in statefile, Ids are: 0 \r\n",
      "Starting at frame 0\r\n",
      "Evaluating frame 0\r\n",
      "Import MD Topology (i.e. frame 0) from state.hdf5\r\n"
     ]
    },
    {
     "name": "stdout",
     "output_type": "stream",
     "text": [
      ".... \r\n",
      "... qmmm "
     ]
    },
    {
     "name": "stdout",
     "output_type": "stream",
     "text": [
      "\r\n",
      "Found 1 states of type e\r\n",
      "Found 1 states of type h\r\n",
      "Found 1 states of type s\r\n",
      "Found 1 states of type n\r\n",
      "3996 incomplete jobs found.\r\n",
      "\r\n"
     ]
    },
    {
     "name": "stdout",
     "output_type": "stream",
     "text": [
      "Wrote MD topology (step = 0, time = 0) to state.hdf5\r\n",
      "... . \r\n"
     ]
    }
   ],
   "source": [
    "!xtp_parallel -e qmmm -o qmmm_mm.xml -f state.hdf5 -x 2 -j \"run\"\n",
    "!xtp_parallel -e qmmm -o qmmm_mm.xml -f state.hdf5 -j \"read\""
   ]
  },
  {
   "cell_type": "markdown",
   "metadata": {},
   "source": [
    "## Site energy and pair energy analysis\n",
    "In this step we generate an histogram and compute the correlation function of site energies and pair energy differences."
   ]
  },
  {
   "cell_type": "code",
   "execution_count": 10,
   "metadata": {
    "execution": {
     "iopub.execute_input": "2025-05-23T05:56:19.654216Z",
     "iopub.status.busy": "2025-05-23T05:56:19.653648Z",
     "iopub.status.idle": "2025-05-23T05:56:20.176900Z",
     "shell.execute_reply": "2025-05-23T05:56:20.176377Z"
    }
   },
   "outputs": [
    {
     "name": "stdout",
     "output_type": "stream",
     "text": [
      "==================================================\r\n",
      "========   VOTCA (http://www.votca.org)   ========\r\n",
      "==================================================\r\n",
      "\r\n",
      "please read and cite: https://doi.org/10.21105/joss.06864\r\n",
      "and submit bugs to https://github.com/votca/votca/issues\r\n",
      "\r\n",
      "xtp_run, version 2025-dev gitid: 7b6d1e5 (compiled May 23 2025, 05:54:09)\r\n",
      "\r\n",
      "Initializing calculator\r\n",
      "... eanalyze\r\n",
      "1 frames in statefile, Ids are: 0 \r\n",
      "Starting at frame 0\r\n",
      "Evaluating frame 0\r\n",
      "Import MD Topology (i.e. frame 0) from state.hdf5\r\n"
     ]
    },
    {
     "name": "stdout",
     "output_type": "stream",
     "text": [
      ".... \r\n",
      "... eanalyze\r\n",
      " Using 1 threads\r\n",
      "... ... Short-listed 1000 segments (pattern='*')\r\n",
      "... ... ... NOTE Statistics of site energies and spatial correlations thereof are based on the short-listed segments only. \r\n",
      "... ... ...      Statistics of site-energy differences operate on the full list.\r\n",
      "... ... excited state e"
     ]
    },
    {
     "name": "stdout",
     "output_type": "stream",
     "text": [
      "\r\n",
      "... ... excited state h"
     ]
    },
    {
     "name": "stdout",
     "output_type": "stream",
     "text": [
      "\r\n",
      "... ... excited state s"
     ]
    },
    {
     "name": "stdout",
     "output_type": "stream",
     "text": [
      "\r\n",
      "... ... excited state t\r\n",
      "Changes have not been written to state file.\r\n"
     ]
    }
   ],
   "source": [
    "!xtp_run -e eanalyze -f state.hdf5"
   ]
  },
  {
   "cell_type": "markdown",
   "metadata": {},
   "source": [
    "You should now see a set of files prefixed with `eanalyze` containing the histrogram and correlation functions."
   ]
  },
  {
   "cell_type": "code",
   "execution_count": 11,
   "metadata": {
    "execution": {
     "iopub.execute_input": "2025-05-23T05:56:20.180029Z",
     "iopub.status.busy": "2025-05-23T05:56:20.179489Z",
     "iopub.status.idle": "2025-05-23T05:56:20.290146Z",
     "shell.execute_reply": "2025-05-23T05:56:20.289535Z"
    }
   },
   "outputs": [
    {
     "name": "stdout",
     "output_type": "stream",
     "text": [
      "eanalyze.pairhist_e.out  eanalyze.pairlist_s.out  eanalyze.sitehist_e.out\r\n",
      "eanalyze.pairhist_h.out  eanalyze.pairlist_t.out  eanalyze.sitehist_h.out\r\n",
      "eanalyze.pairhist_s.out  eanalyze.sitecorr_e.out  eanalyze.sitehist_s.out\r\n",
      "eanalyze.pairhist_t.out  eanalyze.sitecorr_h.out  eanalyze.sitehist_t.out\r\n",
      "eanalyze.pairlist_e.out  eanalyze.sitecorr_s.out\r\n",
      "eanalyze.pairlist_h.out  eanalyze.sitecorr_t.out\r\n"
     ]
    }
   ],
   "source": [
    "!ls eanalyze*"
   ]
  },
  {
   "cell_type": "markdown",
   "metadata": {},
   "source": [
    "## QM energy calculation\n",
    "Our next task is to perform the qm calculations for each segment that we have stored in the hdf5 file. The calculations take place in 3 stages: write the jobs to a file, perform the computation and finally save the results to the state file. We provided a small options file to make the computation cheaper."
   ]
  },
  {
   "cell_type": "code",
   "execution_count": 12,
   "metadata": {
    "execution": {
     "iopub.execute_input": "2025-05-23T05:56:20.292712Z",
     "iopub.status.busy": "2025-05-23T05:56:20.292529Z",
     "iopub.status.idle": "2025-05-23T05:56:20.402354Z",
     "shell.execute_reply": "2025-05-23T05:56:20.401741Z"
    }
   },
   "outputs": [
    {
     "name": "stdout",
     "output_type": "stream",
     "text": [
      "<?xml version=\"1.0\"?>\r\n",
      "<options>\r\n",
      "  <eqm help=\"Executes qm calculations for individual molecules\" section=\"sec:eqm\">\r\n",
      "    <map_file>system.xml</map_file>\r\n",
      "    <gwbse>\r\n",
      "      <gw>\r\n",
      "        <mode>G0W0</mode>\r\n",
      "      </gw>\r\n",
      "      <bse>\r\n",
      "        <exctotal>10</exctotal>\r\n",
      "      </bse>\r\n",
      "      <ranges>full</ranges>\r\n",
      "    </gwbse>\r\n",
      "    <dftpackage>\r\n",
      "      <basisset>3-21G</basisset>\r\n",
      "      <auxbasisset>aux-def2-svp</auxbasisset>\r\n",
      "    </dftpackage>\r\n",
      "  </eqm>\r\n",
      "</options>"
     ]
    }
   ],
   "source": [
    "!cat eqm.xml"
   ]
  },
  {
   "cell_type": "markdown",
   "metadata": {},
   "source": [
    "We set the GWBSE mode to `G0W0`,  the `ranges` to `full` and the `basisset` and `auxbasisset` to `3-21G` and `aux-def2-svp`. For more information, check the [eqm calculator options](https://votca.github.io/xtp/eqm.html). For the sake of computational time let just compute the `gw` approximation and the `singlet`. You can also request the `triplet` or `all`"
   ]
  },
  {
   "cell_type": "markdown",
   "metadata": {},
   "source": [
    "First we will write the job in a file and enable only the first 2,"
   ]
  },
  {
   "cell_type": "code",
   "execution_count": 13,
   "metadata": {
    "execution": {
     "iopub.execute_input": "2025-05-23T05:56:20.405457Z",
     "iopub.status.busy": "2025-05-23T05:56:20.405011Z",
     "iopub.status.idle": "2025-05-23T05:56:21.088871Z",
     "shell.execute_reply": "2025-05-23T05:56:21.088237Z"
    }
   },
   "outputs": [
    {
     "name": "stdout",
     "output_type": "stream",
     "text": [
      "==================================================\r\n",
      "========   VOTCA (http://www.votca.org)   ========\r\n",
      "==================================================\r\n",
      "\r\n",
      "please read and cite: https://doi.org/10.21105/joss.06864\r\n",
      "and submit bugs to https://github.com/votca/votca/issues\r\n",
      "\r\n",
      "xtp_parallel, version 2025-dev gitid: 7b6d1e5 (compiled May 23 2025, 05:54:09)\r\n",
      "\r\n",
      "Initializing calculator\r\n",
      "... eqm\r\n",
      "\r\n",
      "... ... Initialized with 1 threads.\r\n",
      "\r\n",
      "... ... Using 1 openmp threads for 1x1=1 total threads.\r\n",
      "1 frames in statefile, Ids are: 0 \r\n",
      "Starting at frame 0\r\n",
      "Evaluating frame 0\r\n",
      "Import MD Topology (i.e. frame 0) from state.hdf5\r\n"
     ]
    },
    {
     "name": "stdout",
     "output_type": "stream",
     "text": [
      ".... \r\n",
      "... eqm \r\n",
      "... ... Writing job file: eqm.jobs with 1000 jobs\r\n",
      "Changes have not been written to state file.\r\n"
     ]
    }
   ],
   "source": [
    "!xtp_parallel -e eqm -o eqm.xml -f state.hdf5 -s 0 -j \"write\"\n",
    "!sed -i \"s/AVAILABLE/COMPLETE/g\" eqm.jobs\n",
    "!sed -i '0,/COMPLETE/s/COMPLETE/AVAILABLE/' eqm.jobs\n",
    "!sed -i '0,/COMPLETE/s/COMPLETE/AVAILABLE/' eqm.jobs"
   ]
  },
  {
   "cell_type": "markdown",
   "metadata": {},
   "source": [
    "Now, let run these 2 jobs"
   ]
  },
  {
   "cell_type": "code",
   "execution_count": 14,
   "metadata": {
    "execution": {
     "iopub.execute_input": "2025-05-23T05:56:21.091744Z",
     "iopub.status.busy": "2025-05-23T05:56:21.091334Z",
     "iopub.status.idle": "2025-05-23T05:56:27.579526Z",
     "shell.execute_reply": "2025-05-23T05:56:27.578908Z"
    }
   },
   "outputs": [
    {
     "name": "stdout",
     "output_type": "stream",
     "text": [
      "==================================================\r\n",
      "========   VOTCA (http://www.votca.org)   ========\r\n",
      "==================================================\r\n",
      "\r\n",
      "please read and cite: https://doi.org/10.21105/joss.06864\r\n",
      "and submit bugs to https://github.com/votca/votca/issues\r\n",
      "\r\n",
      "xtp_parallel, version 2025-dev gitid: 7b6d1e5 (compiled May 23 2025, 05:54:09)\r\n",
      "\r\n",
      "Initializing calculator\r\n",
      "... eqm\r\n",
      "\r\n",
      "... ... Initialized with 1 threads.\r\n",
      "\r\n",
      "... ... Using 2 openmp threads for 1x2=2 total threads.\r\n",
      "1 frames in statefile, Ids are: 0 \r\n",
      "Starting at frame 0\r\n",
      "Evaluating frame 0\r\n",
      "Import MD Topology (i.e. frame 0) from state.hdf5\r\n"
     ]
    },
    {
     "name": "stdout",
     "output_type": "stream",
     "text": [
      ".... \r\n",
      "... eqm \r\n",
      "MST ERR Job file = 'eqm.jobs', cache size =  1\r\n",
      "MST ERR Initialize jobs from eqm.jobs"
     ]
    },
    {
     "name": "stdout",
     "output_type": "stream",
     "text": [
      "\r\n",
      "MST ERR Registered 1000 jobs.\r\n",
      "T00 ERR ... Requesting next job\r\n",
      "T00 ERR ... Assign jobs from stack\r\n",
      "T00 ERR ... Next job: ID = 0=> [ 0%] \r\n",
      "T00 ERR ... 2025-5-23 5:56:21 Evaluating site 0\r\n",
      "T00 ERR ... Running DFT"
     ]
    },
    {
     "name": "stdout",
     "output_type": "stream",
     "text": [
      "\r\n",
      "T00 ERR ... Running GWBSE"
     ]
    },
    {
     "name": "stdout",
     "output_type": "stream",
     "text": [
      "\r\n",
      "T00 ERR ... Running ESPFIT\r\n",
      "T00 ERR ... ===== Running on 2 threads ===== "
     ]
    },
    {
     "name": "stdout",
     "output_type": "stream",
     "text": [
      "\r\n",
      "T00 ERR ... 2025-5-23 5:56:23 Calculated Densities at Numerical Grid, Number of electrons is 2.97136e-08\r\n",
      "T00 ERR ... 2025-5-23 5:56:23 Calculating ESP at CHELPG grid points"
     ]
    },
    {
     "name": "stdout",
     "output_type": "stream",
     "text": [
      "\r\n",
      "T00 ERR ... 2025-5-23 5:56:24 Netcharge constrained to -0\r\n",
      "T00 ERR ...  Sum of fitted charges: -5.55112e-17\r\n",
      "T00 ERR ...  RMSE of fit:  0.00116442\r\n",
      "T00 ERR ...  RRMSE of fit: 0.0678743\r\n",
      "T00 ERR ... El Dipole from fitted charges [e*bohr]:\r\n",
      "\t\t dx = -0.4968 dy = +0.5157 dz = -0.4030 |d|^2 = +0.6752\r\n",
      "T00 ERR ... El Dipole from exact qm density [e*bohr]:\r\n",
      "\t\t dx = -0.5077 dy = +0.5280 dz = -0.4125 |d|^2 = +0.7067\r\n",
      "T00 ERR ... Written charges to MP_FILES/frame_0/n2s1/Methane_0_n2s1.mps\r\n",
      "T00 ERR ... 2025-5-23 5:56:24 Finished evaluating site 0\r\n",
      "T00 ERR ... Saving data to molecule_0.orb\r\n",
      "T00 ERR ... Reporting job results\r\n",
      "\r\n",
      "T00 ERR ... Requesting next job\r\n",
      "T00 ERR ... Assign jobs from stack\r\n",
      "T00 ERR ... Next job: ID = 1\r\n",
      "T00 ERR ... 2025-5-23 5:56:24 Evaluating site 1\r\n",
      "T00 ERR ... Running DFT"
     ]
    },
    {
     "name": "stdout",
     "output_type": "stream",
     "text": [
      "\r\n",
      "T00 ERR ... Running GWBSE"
     ]
    },
    {
     "name": "stdout",
     "output_type": "stream",
     "text": [
      "\r\n",
      "T00 ERR ... Running ESPFIT\r\n",
      "T00 ERR ... ===== Running on 2 threads ===== "
     ]
    },
    {
     "name": "stdout",
     "output_type": "stream",
     "text": [
      "\r\n",
      "T00 ERR ... 2025-5-23 5:56:26 Calculated Densities at Numerical Grid, Number of electrons is 2.24147e-08\r\n",
      "T00 ERR ... 2025-5-23 5:56:26 Calculating ESP at CHELPG grid points"
     ]
    },
    {
     "name": "stdout",
     "output_type": "stream",
     "text": [
      "\r\n",
      "T00 ERR ... 2025-5-23 5:56:27 Netcharge constrained to -0\r\n",
      "T00 ERR ...  Sum of fitted charges: -2.77556e-16\r\n",
      "T00 ERR ...  RMSE of fit:  0.00114403\r\n",
      "T00 ERR ...  RRMSE of fit: 0.0642009\r\n",
      "T00 ERR ... El Dipole from fitted charges [e*bohr]:\r\n",
      "\t\t dx = -0.5613 dy = -0.1878 dz = -0.6118 |d|^2 = +0.7245\r\n",
      "T00 ERR ... El Dipole from exact qm density [e*bohr]:\r\n",
      "\t\t dx = -0.5741 dy = -0.1919 dz = -0.6258 |d|^2 = +0.7581\r\n",
      "T00 ERR ... Written charges to MP_FILES/frame_0/n2s1/Methane_1_n2s1.mps\r\n",
      "T00 ERR ... 2025-5-23 5:56:27 Finished evaluating site 1\r\n",
      "T00 ERR ... Saving data to molecule_1.orb\r\n",
      "T00 ERR ... Reporting job results\r\n",
      "\r\n",
      "T00 ERR ... Requesting next job"
     ]
    },
    {
     "name": "stdout",
     "output_type": "stream",
     "text": [
      "\r\n",
      "T00 ERR ... Assign jobs from stack\r\n",
      "T00 ERR ... Sync did not yield any new jobs.\r\n",
      "T00 ERR ... Next job: ID = - (none available)"
     ]
    },
    {
     "name": "stdout",
     "output_type": "stream",
     "text": [
      "\r\n",
      "MST ERR Assign jobs from stack\r\n",
      "Changes have not been written to state file.\r\n"
     ]
    }
   ],
   "source": [
    "!xtp_parallel -e eqm -o eqm.xml -f state.hdf5 -x 2 -s 0 -j run -q 1"
   ]
  },
  {
   "cell_type": "markdown",
   "metadata": {},
   "source": [
    "## QM calculation for pairs\n",
    "In the following step we will run QM calculations for each pair in the hdf5 file. As the calculations on the previous step, we will first write the jobs in a file, then run them and finally store the results in the state file. First, we need to copy the input to our local folder"
   ]
  },
  {
   "cell_type": "markdown",
   "metadata": {},
   "source": [
    "As in the previous section, we set the GWBSE mode to `G0W0`, the `ranges` to `full` and the `basisset` and `auxbasisset` to `3-21G` and `aux-def2-svp`. But we compute only the `gw` approximation, as the BSE is formed in the coupling step only once and we do not have to diagonalize it. For more information, check the [iqm calculator options](https://www.votca.org/xtp/iqm.html). We only compute the `singlet` couplings. "
   ]
  },
  {
   "cell_type": "markdown",
   "metadata": {},
   "source": [
    "Before running the calculations, we need to specify in the `iqm` input which states to read into the jobfile for each segment type."
   ]
  },
  {
   "cell_type": "code",
   "execution_count": 15,
   "metadata": {
    "execution": {
     "iopub.execute_input": "2025-05-23T05:56:27.582430Z",
     "iopub.status.busy": "2025-05-23T05:56:27.582228Z",
     "iopub.status.idle": "2025-05-23T05:56:27.692484Z",
     "shell.execute_reply": "2025-05-23T05:56:27.691938Z"
    }
   },
   "outputs": [
    {
     "name": "stdout",
     "output_type": "stream",
     "text": [
      "<?xml version=\"1.0\"?>\r\n",
      "<options>\r\n",
      "  <iqm help=\"Executes qm calculations for individual molecules\" section=\"sec:eqm\">\r\n",
      "    <map_file>system.xml</map_file>\r\n",
      "    <gwbse>\r\n",
      "      <tasks>gw</tasks>\r\n",
      "      <gw>\r\n",
      "        <mode>G0W0</mode>\r\n",
      "      </gw>\r\n",
      "      <ranges>full</ranges>\r\n",
      "    </gwbse>\r\n",
      "    <dftpackage>\r\n",
      "      <basisset>3-21G</basisset>\r\n",
      "      <auxbasisset>aux-def2-svp</auxbasisset>\r\n",
      "    </dftpackage>\r\n",
      "    <bsecoupling>\r\n",
      "      <spin>singlet</spin>\r\n",
      "    </bsecoupling>\r\n",
      "    <readjobfile help=\"which states to read into the jobfile for each segment type\">\r\n",
      "      <singlet>Methane:s1</singlet>\r\n",
      "      <triplet>Methane:t1</triplet>\r\n",
      "      <electron>Methane:e1</electron>\r\n",
      "      <hole>Methane:h1</hole>\r\n",
      "    </readjobfile>\r\n",
      "  </iqm>\r\n",
      "</options>"
     ]
    }
   ],
   "source": [
    "!cat iqm.xml"
   ]
  },
  {
   "cell_type": "markdown",
   "metadata": {},
   "source": [
    "Now, let's write the jobs to the file"
   ]
  },
  {
   "cell_type": "code",
   "execution_count": 16,
   "metadata": {
    "execution": {
     "iopub.execute_input": "2025-05-23T05:56:27.695254Z",
     "iopub.status.busy": "2025-05-23T05:56:27.695053Z",
     "iopub.status.idle": "2025-05-23T05:56:28.176321Z",
     "shell.execute_reply": "2025-05-23T05:56:28.175672Z"
    }
   },
   "outputs": [
    {
     "name": "stdout",
     "output_type": "stream",
     "text": [
      "==================================================\r\n",
      "========   VOTCA (http://www.votca.org)   ========\r\n",
      "==================================================\r\n",
      "\r\n",
      "please read and cite: https://doi.org/10.21105/joss.06864\r\n",
      "and submit bugs to https://github.com/votca/votca/issues\r\n",
      "\r\n",
      "xtp_parallel, version 2025-dev gitid: 7b6d1e5 (compiled May 23 2025, 05:54:09)\r\n",
      "\r\n",
      "Initializing calculator\r\n",
      "... iqm\r\n",
      "\r\n",
      "... ... Initialized with 1 threads.\r\n",
      "\r\n",
      "... ... Using 1 openmp threads for 1x1=1 total threads.\r\n",
      "1 frames in statefile, Ids are: 0 \r\n",
      "Starting at frame 0\r\n",
      "Evaluating frame 0\r\n",
      "Import MD Topology (i.e. frame 0) from state.hdf5\r\n"
     ]
    },
    {
     "name": "stdout",
     "output_type": "stream",
     "text": [
      ".... \r\n",
      "... iqm \r\n",
      "... ... Writing job file iqm.jobs"
     ]
    },
    {
     "name": "stdout",
     "output_type": "stream",
     "text": [
      "\r\n",
      "... ... In total 12507 jobs\r\n",
      "Changes have not been written to state file.\r\n"
     ]
    }
   ],
   "source": [
    "!xtp_parallel -e iqm -o iqm.xml -f state.hdf5 -s 0 -j \"write\""
   ]
  },
  {
   "cell_type": "markdown",
   "metadata": {},
   "source": [
    "From the jobs that we just write down, let's make available only the first job"
   ]
  },
  {
   "cell_type": "code",
   "execution_count": 17,
   "metadata": {
    "execution": {
     "iopub.execute_input": "2025-05-23T05:56:28.179393Z",
     "iopub.status.busy": "2025-05-23T05:56:28.178922Z",
     "iopub.status.idle": "2025-05-23T05:56:28.422687Z",
     "shell.execute_reply": "2025-05-23T05:56:28.422030Z"
    }
   },
   "outputs": [],
   "source": [
    "!sed -i \"s/AVAILABLE/COMPLETE/g\" iqm.jobs\n",
    "!sed -i '0,/COMPLETE/s/COMPLETE/AVAILABLE/' iqm.jobs"
   ]
  },
  {
   "cell_type": "markdown",
   "metadata": {},
   "source": [
    "Now we can run and store the jobs results"
   ]
  },
  {
   "cell_type": "code",
   "execution_count": 18,
   "metadata": {
    "execution": {
     "iopub.execute_input": "2025-05-23T05:56:28.425522Z",
     "iopub.status.busy": "2025-05-23T05:56:28.425336Z",
     "iopub.status.idle": "2025-05-23T05:56:33.055389Z",
     "shell.execute_reply": "2025-05-23T05:56:33.054776Z"
    }
   },
   "outputs": [
    {
     "name": "stdout",
     "output_type": "stream",
     "text": [
      "==================================================\r\n",
      "========   VOTCA (http://www.votca.org)   ========\r\n",
      "==================================================\r\n",
      "\r\n",
      "please read and cite: https://doi.org/10.21105/joss.06864\r\n",
      "and submit bugs to https://github.com/votca/votca/issues\r\n",
      "\r\n",
      "xtp_parallel, version 2025-dev gitid: 7b6d1e5 (compiled May 23 2025, 05:54:09)\r\n",
      "\r\n",
      "Initializing calculator\r\n",
      "... iqm\r\n",
      "\r\n",
      "... ... Initialized with 1 threads.\r\n",
      "\r\n",
      "... ... Using 2 openmp threads for 1x2=2 total threads.\r\n",
      "1 frames in statefile, Ids are: 0 \r\n",
      "Starting at frame 0\r\n",
      "Evaluating frame 0\r\n",
      "Import MD Topology (i.e. frame 0) from state.hdf5\r\n"
     ]
    },
    {
     "name": "stdout",
     "output_type": "stream",
     "text": [
      ".... \r\n",
      "... iqm \r\n",
      "MST ERR Job file = 'iqm.jobs', cache size =  1\r\n",
      "MST ERR Initialize jobs from iqm.jobs"
     ]
    },
    {
     "name": "stdout",
     "output_type": "stream",
     "text": [
      "\r\n",
      "MST ERR Registered 12507 jobs.\r\n",
      "T00 ERR ... Requesting next job"
     ]
    },
    {
     "name": "stdout",
     "output_type": "stream",
     "text": [
      "\r\n",
      "T00 ERR ... Assign jobs from stack"
     ]
    },
    {
     "name": "stdout",
     "output_type": "stream",
     "text": [
      "\r\n",
      "T00 ERR ... Next job: ID = 0=> [ 0%] \r\n",
      "T00 ERR ... 2025-5-23 5:56:29 Evaluating pair 0 [0:1] out of 21093\r\n",
      "T00 ERR ... Running DFT"
     ]
    },
    {
     "name": "stdout",
     "output_type": "stream",
     "text": [
      "\r\n",
      "T00 ERR ... Calculating electronic couplings\r\n",
      "T00 ERR ... ======WARNING=======\r\n",
      " Coordinates of monomer and dimer atoms do not agree\r\n",
      "T00 ERR ... Levels:Basis A[2:17] B[2:17]\r\n",
      "T00 ERR ... Done with electronic couplings\r\n",
      "T00 ERR ... Running GWBSE"
     ]
    },
    {
     "name": "stdout",
     "output_type": "stream",
     "text": [
      "\r\n",
      "T00 ERR ... Running BSECoupling"
     ]
    },
    {
     "name": "stdout",
     "output_type": "stream",
     "text": [
      "\r\n",
      "T00 ERR ... 2025-5-23 5:56:32 Finished evaluating pair 0:1\r\n",
      "T00 ERR ... Orb file is not saved according to options \r\n",
      "T00 ERR ... Reporting job results\r\n",
      "\r\n",
      "T00 ERR ... Requesting next job"
     ]
    },
    {
     "name": "stdout",
     "output_type": "stream",
     "text": [
      "\r\n",
      "T00 ERR ... Assign jobs from stack"
     ]
    },
    {
     "name": "stdout",
     "output_type": "stream",
     "text": [
      "\r\n",
      "T00 ERR ... Sync did not yield any new jobs.\r\n",
      "T00 ERR ... Next job: ID = - (none available)"
     ]
    },
    {
     "name": "stdout",
     "output_type": "stream",
     "text": [
      "\r\n",
      "MST ERR Assign jobs from stack"
     ]
    },
    {
     "name": "stdout",
     "output_type": "stream",
     "text": [
      "\r\n",
      "Changes have not been written to state file.\r\n"
     ]
    }
   ],
   "source": [
    "!xtp_parallel -e iqm -o iqm.xml -f state.hdf5 -x 2 -s 0 -j run -q 1"
   ]
  },
  {
   "cell_type": "markdown",
   "metadata": {},
   "source": [
    "Finally, we read the results into the state"
   ]
  },
  {
   "cell_type": "code",
   "execution_count": 19,
   "metadata": {
    "execution": {
     "iopub.execute_input": "2025-05-23T05:56:33.057919Z",
     "iopub.status.busy": "2025-05-23T05:56:33.057719Z",
     "iopub.status.idle": "2025-05-23T05:56:33.960620Z",
     "shell.execute_reply": "2025-05-23T05:56:33.960094Z"
    }
   },
   "outputs": [
    {
     "name": "stdout",
     "output_type": "stream",
     "text": [
      "==================================================\r\n",
      "========   VOTCA (http://www.votca.org)   ========\r\n",
      "==================================================\r\n",
      "\r\n",
      "please read and cite: https://doi.org/10.21105/joss.06864\r\n",
      "and submit bugs to https://github.com/votca/votca/issues\r\n",
      "\r\n",
      "xtp_parallel, version 2025-dev gitid: 7b6d1e5 (compiled May 23 2025, 05:54:09)\r\n",
      "\r\n",
      "Initializing calculator\r\n",
      "... iqm\r\n",
      "\r\n",
      "... ... Initialized with 1 threads.\r\n",
      "\r\n",
      "... ... Using 1 openmp threads for 1x1=1 total threads.\r\n",
      "1 frames in statefile, Ids are: 0 \r\n",
      "Starting at frame 0\r\n",
      "Evaluating frame 0\r\n",
      "Import MD Topology (i.e. frame 0) from state.hdf5\r\n"
     ]
    },
    {
     "name": "stdout",
     "output_type": "stream",
     "text": [
      ".... \r\n",
      "... iqm "
     ]
    },
    {
     "name": "stdout",
     "output_type": "stream",
     "text": [
      "\r\n",
      " ERROR    Pairs [total:updated(e,h,s,t)] 21093:(1,1,1,0) Incomplete jobs: 12506\r\n",
      "\r\n"
     ]
    },
    {
     "name": "stdout",
     "output_type": "stream",
     "text": [
      "Wrote MD topology (step = 0, time = 0) to state.hdf5\r\n",
      "... . \r\n"
     ]
    }
   ],
   "source": [
    "!xtp_parallel -e iqm -o iqm.xml -f state.hdf5 -j \"read\""
   ]
  },
  {
   "cell_type": "markdown",
   "metadata": {},
   "source": [
    "## Coupling\n",
    "We can now compute the classical coupling of transition in the aformentioned three stages,"
   ]
  },
  {
   "cell_type": "markdown",
   "metadata": {},
   "source": [
    "We need to change in the `iexcitoncl` input the name `map_file` option and add the state. check all the available of the [iexcitoncl calculator](https://www.votca.org/xtp/iexcitoncl.html). We do this via the commandline using the `-c` option."
   ]
  },
  {
   "cell_type": "code",
   "execution_count": 20,
   "metadata": {
    "execution": {
     "iopub.execute_input": "2025-05-23T05:56:33.963476Z",
     "iopub.status.busy": "2025-05-23T05:56:33.963278Z",
     "iopub.status.idle": "2025-05-23T05:56:34.422324Z",
     "shell.execute_reply": "2025-05-23T05:56:34.421800Z"
    }
   },
   "outputs": [
    {
     "name": "stdout",
     "output_type": "stream",
     "text": [
      "==================================================\r\n",
      "========   VOTCA (http://www.votca.org)   ========\r\n",
      "==================================================\r\n",
      "\r\n",
      "please read and cite: https://doi.org/10.21105/joss.06864\r\n",
      "and submit bugs to https://github.com/votca/votca/issues\r\n",
      "\r\n",
      "xtp_parallel, version 2025-dev gitid: 7b6d1e5 (compiled May 23 2025, 05:54:09)\r\n",
      "\r\n",
      "Initializing calculator\r\n",
      "... iexcitoncl\r\n",
      "\r\n",
      "... ... Initialized with 1 threads.\r\n",
      "\r\n",
      "... ... Using 1 openmp threads for 1x1=1 total threads.\r\n",
      "1 frames in statefile, Ids are: 0 \r\n",
      "Starting at frame 0\r\n",
      "Evaluating frame 0\r\n",
      "Import MD Topology (i.e. frame 0) from state.hdf5\r\n"
     ]
    },
    {
     "name": "stdout",
     "output_type": "stream",
     "text": [
      ".... \r\n",
      "... iexcitoncl \r\n",
      "... ... Writing job file exciton.jobs"
     ]
    },
    {
     "name": "stdout",
     "output_type": "stream",
     "text": [
      "\r\n",
      "... ... In total 8586 jobs\r\n",
      "Changes have not been written to state file.\r\n"
     ]
    }
   ],
   "source": [
    "!xtp_parallel -e iexcitoncl -c map_file=system.xml states=Methane:n2s1 -f state.hdf5 -j \"write\""
   ]
  },
  {
   "cell_type": "code",
   "execution_count": 21,
   "metadata": {
    "execution": {
     "iopub.execute_input": "2025-05-23T05:56:34.424836Z",
     "iopub.status.busy": "2025-05-23T05:56:34.424647Z",
     "iopub.status.idle": "2025-05-23T05:56:34.535096Z",
     "shell.execute_reply": "2025-05-23T05:56:34.534568Z"
    }
   },
   "outputs": [
    {
     "name": "stdout",
     "output_type": "stream",
     "text": [
      "<jobs>\r\n",
      "\t<job>\r\n",
      "\t\t<id>0</id>\r\n",
      "\t\t<tag></tag>\r\n",
      "\t\t<input>\r\n",
      "\t\t\t<segment id=\"0\" mps_file=\"MP_FILES/Methane_n2s1.mps\" type=\"Methane\">0</segment>\r\n",
      "\t\t\t<segment id=\"2\" mps_file=\"MP_FILES/Methane_n2s1.mps\" type=\"Methane\">2</segment>\r\n",
      "\t\t</input>\r\n",
      "\t\t<status>AVAILABLE</status>\r\n",
      "\t</job>\r\n",
      "\t<job>\r\n",
      "\t\t<id>1</id>\r\n",
      "\t\t<tag></tag>\r\n",
      "\t\t<input>\r\n",
      "\t\t\t<segment id=\"0\" mps_file=\"MP_FILES/Methane_n2s1.mps\" type=\"Methane\">0</segment>\r\n"
     ]
    }
   ],
   "source": [
    "!head -n 15 exciton.jobs"
   ]
  },
  {
   "cell_type": "markdown",
   "metadata": {},
   "source": [
    "Now we can run and save the jobs. For demo purposes we will run only the first job"
   ]
  },
  {
   "cell_type": "code",
   "execution_count": 22,
   "metadata": {
    "execution": {
     "iopub.execute_input": "2025-05-23T05:56:34.537639Z",
     "iopub.status.busy": "2025-05-23T05:56:34.537458Z",
     "iopub.status.idle": "2025-05-23T05:56:36.354069Z",
     "shell.execute_reply": "2025-05-23T05:56:36.353540Z"
    }
   },
   "outputs": [
    {
     "name": "stdout",
     "output_type": "stream",
     "text": [
      "==================================================\r\n",
      "========   VOTCA (http://www.votca.org)   ========\r\n",
      "==================================================\r\n",
      "\r\n",
      "please read and cite: https://doi.org/10.21105/joss.06864\r\n",
      "and submit bugs to https://github.com/votca/votca/issues\r\n",
      "\r\n",
      "xtp_parallel, version 2025-dev gitid: 7b6d1e5 (compiled May 23 2025, 05:54:09)\r\n",
      "\r\n",
      "Initializing calculator\r\n",
      "... iexcitoncl\r\n",
      "\r\n",
      "... ... Initialized with 1 threads.\r\n",
      "\r\n",
      "... ... Using 1 openmp threads for 1x1=1 total threads.\r\n",
      "1 frames in statefile, Ids are: 0 \r\n",
      "Starting at frame 0\r\n",
      "Evaluating frame 0\r\n",
      "Import MD Topology (i.e. frame 0) from state.hdf5\r\n"
     ]
    },
    {
     "name": "stdout",
     "output_type": "stream",
     "text": [
      ".... \r\n",
      "... iexcitoncl \r\n",
      "MST ERR Job file = 'exciton.jobs', cache size =  8\r\n",
      "MST ERR Initialize jobs from exciton.jobs"
     ]
    },
    {
     "name": "stdout",
     "output_type": "stream",
     "text": [
      "\r\n",
      "MST ERR Registered 8586 jobs.\r\n",
      "T00 ERR ... Requesting next job"
     ]
    },
    {
     "name": "stdout",
     "output_type": "stream",
     "text": [
      "\r\n",
      "T00 ERR ... Assign jobs from stack"
     ]
    },
    {
     "name": "stdout",
     "output_type": "stream",
     "text": [
      "\r\n",
      "T00 ERR ... Next job: ID = 0=> [ 0%] \r\n",
      "T00 ERR ... 2025-5-23 5:56:35 Evaluating pair 0 [0:2]"
     ]
    },
    {
     "name": "stdout",
     "output_type": "stream",
     "text": [
      "\r\n",
      "T00 ERR ... Reporting job results\r\n",
      "\r\n",
      "T00 ERR ... Requesting next job"
     ]
    },
    {
     "name": "stdout",
     "output_type": "stream",
     "text": [
      "\r\n",
      "T00 ERR ... Assign jobs from stack"
     ]
    },
    {
     "name": "stdout",
     "output_type": "stream",
     "text": [
      "\r\n",
      "T00 ERR ... Sync did not yield any new jobs.\r\n",
      "T00 ERR ... Next job: ID = - (none available)"
     ]
    },
    {
     "name": "stdout",
     "output_type": "stream",
     "text": [
      "\r\n",
      "MST ERR Assign jobs from stack"
     ]
    },
    {
     "name": "stdout",
     "output_type": "stream",
     "text": [
      "\r\n",
      "Changes have not been written to state file.\r\n"
     ]
    }
   ],
   "source": [
    "!sed -i \"s/AVAILABLE/COMPLETE/g\" exciton.jobs\n",
    "!sed -i '0,/COMPLETE/s/COMPLETE/AVAILABLE/' exciton.jobs\n",
    "!xtp_parallel -e iexcitoncl -c map_file=system.xml states=Methane:n2s1 -f state.hdf5"
   ]
  },
  {
   "cell_type": "code",
   "execution_count": 23,
   "metadata": {
    "execution": {
     "iopub.execute_input": "2025-05-23T05:56:36.356559Z",
     "iopub.status.busy": "2025-05-23T05:56:36.356374Z",
     "iopub.status.idle": "2025-05-23T05:56:37.264322Z",
     "shell.execute_reply": "2025-05-23T05:56:37.263807Z"
    }
   },
   "outputs": [
    {
     "name": "stdout",
     "output_type": "stream",
     "text": [
      "==================================================\r\n",
      "========   VOTCA (http://www.votca.org)   ========\r\n",
      "==================================================\r\n",
      "\r\n",
      "please read and cite: https://doi.org/10.21105/joss.06864\r\n",
      "and submit bugs to https://github.com/votca/votca/issues\r\n",
      "\r\n",
      "xtp_parallel, version 2025-dev gitid: 7b6d1e5 (compiled May 23 2025, 05:54:09)\r\n",
      "\r\n",
      "Initializing calculator\r\n",
      "... iexcitoncl\r\n",
      "\r\n",
      "... ... Initialized with 1 threads.\r\n",
      "\r\n",
      "... ... Using 1 openmp threads for 1x1=1 total threads.\r\n",
      "1 frames in statefile, Ids are: 0 \r\n",
      "Starting at frame 0\r\n",
      "Evaluating frame 0\r\n",
      "Import MD Topology (i.e. frame 0) from state.hdf5\r\n"
     ]
    },
    {
     "name": "stdout",
     "output_type": "stream",
     "text": [
      ".... \r\n",
      "... iexcitoncl "
     ]
    },
    {
     "name": "stdout",
     "output_type": "stream",
     "text": [
      "\r\n",
      " ERROR    Neighborlist size 21093\r\n",
      " ERROR    Pairs in jobfile [total:updated:incomplete] 8586:1:8585\r\n"
     ]
    },
    {
     "name": "stdout",
     "output_type": "stream",
     "text": [
      "Wrote MD topology (step = 0, time = 0) to state.hdf5\r\n",
      "... . \r\n"
     ]
    }
   ],
   "source": [
    "!xtp_parallel -e iexcitoncl -c map_file=system.xml -f state.hdf5 -j \"read\""
   ]
  },
  {
   "cell_type": "markdown",
   "metadata": {},
   "source": [
    "## Coupling analysis\n",
    "Using the coupling computed in the previous steps, we will generate an histogram for the squared couplings in logarithmic scale,"
   ]
  },
  {
   "cell_type": "code",
   "execution_count": 24,
   "metadata": {
    "execution": {
     "iopub.execute_input": "2025-05-23T05:56:37.266920Z",
     "iopub.status.busy": "2025-05-23T05:56:37.266738Z",
     "iopub.status.idle": "2025-05-23T05:56:37.613874Z",
     "shell.execute_reply": "2025-05-23T05:56:37.613266Z"
    }
   },
   "outputs": [
    {
     "name": "stdout",
     "output_type": "stream",
     "text": [
      "==================================================\r\n",
      "========   VOTCA (http://www.votca.org)   ========\r\n",
      "==================================================\r\n",
      "\r\n",
      "please read and cite: https://doi.org/10.21105/joss.06864\r\n",
      "and submit bugs to https://github.com/votca/votca/issues\r\n",
      "\r\n",
      "xtp_run, version 2025-dev gitid: 7b6d1e5 (compiled May 23 2025, 05:54:09)\r\n",
      "\r\n",
      "Initializing calculator\r\n",
      "... ianalyze\r\n",
      "1 frames in statefile, Ids are: 0 \r\n",
      "Starting at frame 0\r\n",
      "Evaluating frame 0\r\n",
      "Import MD Topology (i.e. frame 0) from state.hdf5\r\n"
     ]
    },
    {
     "name": "stdout",
     "output_type": "stream",
     "text": [
      ".... \r\n",
      "... ianalyze\r\n",
      " Using 1 threads\r\n",
      "Calculating for state e now.\r\n",
      "Calculating for state h now.\r\n",
      "Calculating for state s now.\r\n",
      "Changes have not been written to state file.\r\n"
     ]
    }
   ],
   "source": [
    "!xtp_run -e ianalyze -c states=e,h,s -f state.hdf5"
   ]
  },
  {
   "cell_type": "markdown",
   "metadata": {},
   "source": [
    "## QMMM calculations"
   ]
  },
  {
   "cell_type": "markdown",
   "metadata": {},
   "source": [
    "Finally let us run a proper qmmm calculation using the qmmm calculator"
   ]
  },
  {
   "cell_type": "code",
   "execution_count": 25,
   "metadata": {
    "execution": {
     "iopub.execute_input": "2025-05-23T05:56:37.617022Z",
     "iopub.status.busy": "2025-05-23T05:56:37.616538Z",
     "iopub.status.idle": "2025-05-23T05:56:37.727399Z",
     "shell.execute_reply": "2025-05-23T05:56:37.726739Z"
    }
   },
   "outputs": [
    {
     "name": "stdout",
     "output_type": "stream",
     "text": [
      "<?xml version=\"1.0\"?>\r\n",
      "<options>\r\n",
      "  <qmmm help=\"Executes qmmm calculations for individual molecules and clusters\" section=\"sec:qmmm\">\r\n",
      "    <print_regions_pdb help=\"print the geometry of the regions to a pdb file\">true</print_regions_pdb>\r\n",
      "    <max_iterations help=\"max iterations for qmmm scf loop\">50</max_iterations>\r\n",
      "    <map_file help=\"xml file with segment definition\">system.xml</map_file>\r\n",
      "    <job_file help=\"name of jobfile to which jobs are written\">qmmm_jobs.xml</job_file>\r\n",
      "    <io_jobfile>\r\n",
      "    <states>n s1 t1</states>\r\n",
      "    </io_jobfile>\r\n",
      "    <regions>\r\n",
      "      <qmregion help=\"definition of a region\">\r\n",
      "        <id help=\"id of a region has to start from 0\">0</id>\r\n",
      "        <gwbse>\r\n",
      "          <gw>\r\n",
      "            <mode>G0W0</mode>\r\n",
      "          </gw>\r\n",
      "          <bse>\r\n",
      "            <exctotal>10</exctotal>\r\n",
      "          </bse>\r\n",
      "          <ranges>full</ranges>\r\n",
      "        </gwbse>\r\n",
      "        <dftpackage>\r\n",
      "          <basisset>3-21G</basisset>\r\n",
      "          <auxbasisset>aux-def2-svp</auxbasisset>\r\n",
      "        </dftpackage>\r\n",
      "        <statetracker>\r\n",
      "          <overlap>0.8</overlap>\r\n",
      "        </statetracker>\r\n",
      "        <state help=\"qmstate to calculate i.e. n or s1\">jobfile</state>\r\n",
      "        <segments help=\"which segments to include in this region and which geometry they have\">jobfile</segments>\r\n",
      "      </qmregion>\r\n",
      "      <polarregion>\r\n",
      "        <id>1</id>\r\n",
      "        <cutoff>\r\n",
      "          <geometry>n</geometry>\r\n",
      "          <radius>1</radius>\r\n",
      "          <region>0</region>\r\n",
      "        </cutoff>\r\n",
      "      </polarregion>\r\n",
      "      <staticregion>\r\n",
      "        <id>2</id>\r\n",
      "        <cutoff>\r\n",
      "          <geometry>n</geometry>\r\n",
      "          <radius>1.4</radius>\r\n",
      "          <region>0</region>\r\n",
      "        </cutoff>\r\n",
      "      </staticregion>\r\n",
      "    </regions>\r\n",
      "  </qmmm>\r\n",
      "</options>\r\n"
     ]
    }
   ],
   "source": [
    "!cat qmmm.xml"
   ]
  },
  {
   "cell_type": "code",
   "execution_count": 26,
   "metadata": {
    "execution": {
     "iopub.execute_input": "2025-05-23T05:56:37.730505Z",
     "iopub.status.busy": "2025-05-23T05:56:37.730025Z",
     "iopub.status.idle": "2025-05-23T05:56:38.143254Z",
     "shell.execute_reply": "2025-05-23T05:56:38.142615Z"
    }
   },
   "outputs": [
    {
     "name": "stdout",
     "output_type": "stream",
     "text": [
      "==================================================\r\n",
      "========   VOTCA (http://www.votca.org)   ========\r\n",
      "==================================================\r\n",
      "\r\n",
      "please read and cite: https://doi.org/10.21105/joss.06864\r\n",
      "and submit bugs to https://github.com/votca/votca/issues\r\n",
      "\r\n",
      "xtp_parallel, version 2025-dev gitid: 7b6d1e5 (compiled May 23 2025, 05:54:09)\r\n",
      "\r\n",
      "Initializing calculator\r\n",
      "... qmmm\r\n",
      "\r\n",
      "... ... Initialized with 1 threads.\r\n",
      "\r\n",
      "... ... Using 1 openmp threads for 1x1=1 total threads.\r\n",
      "1 frames in statefile, Ids are: 0 \r\n",
      "Starting at frame 0\r\n",
      "Evaluating frame 0\r\n",
      "Import MD Topology (i.e. frame 0) from state.hdf5\r\n"
     ]
    },
    {
     "name": "stdout",
     "output_type": "stream",
     "text": [
      ".... \r\n",
      "... qmmm \r\n",
      "... ... Writing job file qmmm_jobs.xml"
     ]
    },
    {
     "name": "stdout",
     "output_type": "stream",
     "text": [
      "\r\n",
      "... ... In total 3000 jobs\r\n",
      "Changes have not been written to state file.\r\n"
     ]
    }
   ],
   "source": [
    "!xtp_parallel -e qmmm -o qmmm.xml -f state.hdf5 -j \"write\""
   ]
  },
  {
   "cell_type": "markdown",
   "metadata": {},
   "source": [
    "Lets run just the first job"
   ]
  },
  {
   "cell_type": "code",
   "execution_count": 27,
   "metadata": {
    "execution": {
     "iopub.execute_input": "2025-05-23T05:56:38.146070Z",
     "iopub.status.busy": "2025-05-23T05:56:38.145842Z",
     "iopub.status.idle": "2025-05-23T05:57:14.854245Z",
     "shell.execute_reply": "2025-05-23T05:57:14.853775Z"
    }
   },
   "outputs": [
    {
     "name": "stdout",
     "output_type": "stream",
     "text": [
      "==================================================\r\n",
      "========   VOTCA (http://www.votca.org)   ========\r\n",
      "==================================================\r\n",
      "\r\n",
      "please read and cite: https://doi.org/10.21105/joss.06864\r\n",
      "and submit bugs to https://github.com/votca/votca/issues\r\n",
      "\r\n",
      "xtp_parallel, version 2025-dev gitid: 7b6d1e5 (compiled May 23 2025, 05:54:09)\r\n",
      "\r\n",
      "Initializing calculator\r\n",
      "... qmmm\r\n",
      "\r\n",
      "... ... Initialized with 1 threads.\r\n",
      "\r\n",
      "... ... Using 2 openmp threads for 1x2=2 total threads.\r\n",
      "1 frames in statefile, Ids are: 0 \r\n",
      "Starting at frame 0\r\n",
      "Evaluating frame 0\r\n",
      "Import MD Topology (i.e. frame 0) from state.hdf5\r\n"
     ]
    },
    {
     "name": "stdout",
     "output_type": "stream",
     "text": [
      ".... \r\n",
      "... qmmm \r\n",
      "MST ERR Job file = 'qmmm_jobs.xml', cache size =  8\r\n",
      "MST ERR Initialize jobs from qmmm_jobs.xml"
     ]
    },
    {
     "name": "stdout",
     "output_type": "stream",
     "text": [
      "\r\n",
      "MST ERR Registered 3000 jobs.\r\n",
      "T00 ERR ... Requesting next job"
     ]
    },
    {
     "name": "stdout",
     "output_type": "stream",
     "text": [
      "\r\n",
      "T00 ERR ... Assign jobs from stack"
     ]
    },
    {
     "name": "stdout",
     "output_type": "stream",
     "text": [
      "\r\n",
      "T00 ERR ... Next job: ID = 0=> [ 0%] \r\n",
      "T00 ERR ...  Regions created\r\n",
      "T00 ERR ... Id: 0 type: qmregion size: 1 charge[e]= 11\r\n",
      "T00 ERR ... Id: 1 type: polarregion size: 92 charge[e]= -5.09315e-15\r\n",
      "T00 ERR ... Id: 2 type: staticregion size: 178 charge[e]= -9.86711e-15\r\n",
      "T00 ERR ... 2025-5-23 5:56:39 Writing jobtopology to QMMM/frame_0/job_0_Methane_0:n/regions.pdb\r\n",
      "T00 ERR ... 2025-5-23 5:56:39 --Inter Region SCF Iteration 1 of 50\r\n",
      "T00 ERR ... 2025-5-23 5:56:39 Evaluating qmregion 0\r\n",
      "T00 ERR ... 2025-5-23 5:56:39 Evaluating interaction between qmregion 0 and polarregion 1\r\n",
      "T00 ERR ... 2025-5-23 5:56:39 Evaluating interaction between qmregion 0 and staticregion 2\r\n",
      "T00 ERR ... Running DFT calculation\r\n",
      "T00 ERR ... 2025-5-23 5:56:39 Using 2 threads\r\n",
      "T00 ERR ... 2025-5-23 5:56:39 Using native Eigen implementation, no BLAS overload \r\n",
      "T00 ERR ...  Molecule Coordinates [A] \r\n",
      "T00 ERR ...   C   +30.3000 +1.2704 +5.5205\r\n",
      "T00 ERR ...   H   +31.2392 +1.4802 +6.0301\r\n",
      "T00 ERR ...   H   +30.4910 +0.6554 +4.6433\r\n",
      "T00 ERR ...   H   +29.8500 +2.2100 +5.2100\r\n",
      "T00 ERR ...   H   +29.6200 +0.7500 +6.2000\r\n",
      "T00 ERR ... 2025-5-23 5:56:39 Loaded DFT Basis Set 3-21G with 17 functions"
     ]
    },
    {
     "name": "stdout",
     "output_type": "stream",
     "text": [
      "\r\n",
      "T00 ERR ... 2025-5-23 5:56:39 Loaded AUX Basis Set aux-def2-svp with 104 functions\r\n",
      "T00 ERR ... 2025-5-23 5:56:39 Total number of electrons: 10\r\n",
      "T00 ERR ... 2025-5-23 5:56:39 Smallest value of AOOverlap matrix is 0.0336407\r\n",
      "T00 ERR ... 2025-5-23 5:56:39 Removed 0 basisfunction from inverse overlap matrix\r\n",
      "T00 ERR ... 2025-5-23 5:56:39 Convergence Options:\r\n",
      "T00 ERR ... \t\t Delta E [Ha]: 1e-07\r\n",
      "T00 ERR ... \t\t DIIS max error: 1e-07\r\n",
      "T00 ERR ... \t\t DIIS histlength: 20\r\n",
      "T00 ERR ... \t\t ADIIS start: 0.8\r\n",
      "T00 ERR ... \t\t DIIS start: 0.002\r\n",
      "T00 ERR ... \t\t Deleting oldest element from DIIS hist\r\n",
      "T00 ERR ... \t\t Levelshift[Ha]: 0\r\n",
      "T00 ERR ... \t\t Levelshift end: 0.2\r\n",
      "T00 ERR ... \t\t Mixing Parameter alpha: 0.7\r\n",
      "T00 ERR ... 2025-5-23 5:56:39 Setup invariant parts of Electron Repulsion integrals \r\n",
      "T00 ERR ... 2025-5-23 5:56:39 Constructed independent particle hamiltonian \r\n",
      "T00 ERR ... 2025-5-23 5:56:39 Nuclear Repulsion Energy is 13.4434088\r\n",
      "T00 ERR ... 2025-5-23 5:56:39 1350 External sites\r\n",
      "T00 ERR ...  Name      Coordinates[a0]     charge[e]         dipole[e*a0]    \r\n",
      "T00 ERR ...   C   +63.8902 +7.9543 +11.0171   -0.3282   +0.0000 +0.0000 +0.0000\r\n",
      "T00 ERR ...   H   +62.3892 +6.5470 +10.9796   +0.0824   +0.0000 +0.0000 +0.0000\r\n",
      "T00 ERR ...   H   +65.3194 +7.4736 +9.6186   +0.0822   +0.0000 +0.0000 +0.0000\r\n",
      "T00 ERR ...   H   +63.1170 +9.8077 +10.6203   +0.0817   +0.0000 +0.0000 +0.0000\r\n",
      "T00 ERR ...   H   +64.7422 +7.9557 +12.9068   +0.0819   +0.0000 +0.0000 +0.0000\r\n",
      "T00 ERR ...   C   +63.9128 -0.3996 +22.8673   -0.3282   +0.0000 +0.0000 +0.0000\r\n",
      "T00 ERR ...   H   +63.0449 -1.1731 +21.1692   +0.0824   +0.0000 +0.0000 +0.0000\r\n",
      "T00 ERR ...   H   +62.7676 +1.1530 +23.5795   +0.0822   +0.0000 +0.0000 +0.0000\r\n",
      "T00 ERR ...   H   +64.0430 -1.8922 +24.2830   +0.0817   +0.0000 +0.0000 +0.0000\r\n",
      "T00 ERR ...   H   +65.8004 +0.2810 +22.4122   +0.0819   +0.0000 +0.0000 +0.0000\r\n",
      "T00 ERR ...   C   +61.7182 -0.4374 -3.3115   -0.3282   +0.0000 +0.0000 +0.0000\r\n",
      "T00 ERR ...   H   +60.6600 -1.0798 -4.9554   +0.0824   +0.0000 +0.0000 +0.0000\r\n",
      "T00 ERR ...   H   +63.3309 +0.6815 -3.9252   +0.0822   +0.0000 +0.0000 +0.0000\r\n",
      "T00 ERR ...   H   +62.3800 -2.0623 -2.2148   +0.0817   +0.0000 +0.0000 +0.0000\r\n",
      "T00 ERR ...   H   +60.5092 +0.7345 -2.1392   +0.0819   +0.0000 +0.0000 +0.0000\r\n",
      "T00 ERR ...   C   +62.0402 +12.7739 +4.5175   -0.3282   +0.0000 +0.0000 +0.0000\r\n",
      "T00 ERR ...   H   +60.1049 +13.3052 +4.0622   +0.0824   +0.0000 +0.0000 +0.0000\r\n",
      "T00 ERR ...   H   +62.0812 +11.8167 +6.3372   +0.0822   +0.0000 +0.0000 +0.0000\r\n",
      "T00 ERR ...   H   +63.2115 +14.4753 +4.6109   +0.0817   +0.0000 +0.0000 +0.0000\r\n",
      "T00 ERR ...   H   +62.7769 +11.5084 +3.0803   +0.0819   +0.0000 +0.0000 +0.0000\r\n",
      "T00 ERR ...   C   +60.6789 +14.3239 +12.6808   -0.3282   +0.0000 +0.0000 +0.0000\r\n",
      "T00 ERR ...   H   +61.0756 +13.9461 +10.6972   +0.0824   +0.0000 +0.0000 +0.0000\r\n",
      "T00 ERR ...   H   +61.0224 +16.3108 +13.0851   +0.0822   +0.0000 +0.0000 +0.0000\r\n",
      "T00 ERR ...   H   +58.7327 +13.8328 +13.0580   +0.0817   +0.0000 +0.0000 +0.0000\r\n",
      "T00 ERR ...   H   +61.9074 +13.1525 +13.8517   +0.0819   +0.0000 +0.0000 +0.0000\r\n",
      "T00 ERR ...   C   +68.7870 +4.1961 +17.9521   -0.3282   +0.0000 +0.0000 +0.0000\r\n",
      "T00 ERR ...   H   +68.2015 +2.4962 +18.9532   +0.0824   +0.0000 +0.0000 +0.0000\r\n",
      "T00 ERR ...   H   +67.2445 +4.8625 +16.7665   +0.0822   +0.0000 +0.0000 +0.0000\r\n",
      "T00 ERR ...   H   +70.4303 +3.7606 +16.7997   +0.0817   +0.0000 +0.0000 +0.0000\r\n",
      "T00 ERR ...   H   +69.2964 +5.6503 +19.3130   +0.0819   +0.0000 +0.0000 +0.0000\r\n",
      "T00 ERR ...   C   +54.0832 +4.4983 +27.1938   -0.3282   +0.0000 +0.0000 +0.0000\r\n",
      "T00 ERR ...   H   +53.5372 +6.4564 +27.5139   +0.0824   +0.0000 +0.0000 +0.0000\r\n",
      "T00 ERR ...   H   +52.9768 +3.2670 +28.4141   +0.0822   +0.0000 +0.0000 +0.0000\r\n",
      "T00 ERR ...   H   +53.7249 +4.0062 +25.2278   +0.0817   +0.0000 +0.0000 +0.0000\r\n",
      "T00 ERR ...   H   +56.0682 +4.2330 +27.6278   +0.0819   +0.0000 +0.0000 +0.0000\r\n",
      "T00 ERR ...   C   +63.8174 +6.3112 -1.0788   -0.3282   +0.0000 +0.0000 +0.0000\r\n",
      "T00 ERR ...   H   +65.2393 +6.4796 +0.3993   +0.0824   +0.0000 +0.0000 +0.0000\r\n",
      "T00 ERR ...   H   +62.4364 +4.8836 -0.5459   +0.0822   +0.0000 +0.0000 +0.0000\r\n",
      "T00 ERR ...   H   +64.7422 +5.7637 -2.8384   +0.0817   +0.0000 +0.0000 +0.0000\r\n",
      "T00 ERR ...   H   +62.8903 +8.1258 -1.3455   +0.0819   +0.0000 +0.0000 +0.0000\r\n",
      "T00 ERR ...   C   +64.1752 +19.2751 +7.8615   -0.3282   +0.0000 +0.0000 +0.0000\r\n",
      "T00 ERR ...   H   +62.9276 +19.0860 +6.2359   +0.0824   +0.0000 +0.0000 +0.0000\r\n",
      "T00 ERR ...   H   +63.4396 +18.1623 +9.4267   +0.0822   +0.0000 +0.0000 +0.0000\r\n",
      "T00 ERR ...   H   +66.0461 +18.6138 +7.3699   +0.0817   +0.0000 +0.0000 +0.0000\r\n",
      "T00 ERR ...   H   +64.2509 +21.2405 +8.4282   +0.0819   +0.0000 +0.0000 +0.0000\r\n",
      "T00 ERR ...   C   +61.3975 +17.7254 +18.4625   -0.3282   +0.0000 +0.0000 +0.0000\r\n",
      "T00 ERR ...   H   +60.9990 +19.0346 +16.9256   +0.0824   +0.0000 +0.0000 +0.0000\r\n",
      "T00 ERR ...   H   +61.0958 +18.6680 +20.2653   +0.0822   +0.0000 +0.0000 +0.0000\r\n",
      "T00 ERR ...   H   +60.1502 +16.1005 +18.3303   +0.0817   +0.0000 +0.0000 +0.0000\r\n",
      "T00 ERR ...   H   +63.3627 +17.1020 +18.3492   +0.0819   +0.0000 +0.0000 +0.0000\r\n",
      "T00 ERR ...               ... (1300 sites not displayed)\r\n"
     ]
    },
    {
     "name": "stdout",
     "output_type": "stream",
     "text": [
      "\r\n",
      "T00 ERR ... 2025-5-23 5:56:39 Filled DFT external multipole potential matrix\r\n",
      "T00 ERR ... 2025-5-23 5:56:39 Nuclei-external site interaction energy 0.0204347161\r\n",
      "T00 ERR ... 2025-5-23 5:56:39 Using hybrid functional with alpha=0.25\r\n",
      "T00 ERR ... 2025-5-23 5:56:39 Setup numerical integration grid medium for vxc functional XC_HYB_GGA_XC_PBEH\r\n",
      "T00 ERR ... 2025-5-23 5:56:39 Setup Initial Guess using: atom\r\n",
      "T00 ERR ... 2025-5-23 5:56:39 Calculating atom density for C"
     ]
    },
    {
     "name": "stdout",
     "output_type": "stream",
     "text": [
      "\r\n",
      "T00 ERR ... 2025-5-23 5:56:39 Calculating atom density for H"
     ]
    },
    {
     "name": "stdout",
     "output_type": "stream",
     "text": [
      "\r\n",
      "T00 ERR ... 2025-5-23 5:56:39 STARTING SCF cycle\r\n",
      "T00 ERR ...  --------------------------------------------------------------------------\r\n",
      "T00 ERR ... \r\n",
      "T00 ERR ... 2025-5-23 5:56:39 Iteration 1 of 100"
     ]
    },
    {
     "name": "stdout",
     "output_type": "stream",
     "text": [
      "\r\n",
      "T00 ERR ... 2025-5-23 5:56:39 Total Energy -40.1570486273\r\n",
      "T00 ERR ... 2025-5-23 5:56:39 DIIs error 0.219689889334\r\n",
      "T00 ERR ... 2025-5-23 5:56:39 Delta Etot 0\r\n",
      "T00 ERR ... \r\n",
      "T00 ERR ... 2025-5-23 5:56:39 Iteration 2 of 100"
     ]
    },
    {
     "name": "stdout",
     "output_type": "stream",
     "text": [
      "\r\n",
      "T00 ERR ... 2025-5-23 5:56:40 Total Energy -40.1929958671\r\n",
      "T00 ERR ... 2025-5-23 5:56:40 DIIs error 0.128777833988\r\n",
      "T00 ERR ... 2025-5-23 5:56:40 Delta Etot -0.0359472398464\r\n",
      "T00 ERR ... \r\n",
      "T00 ERR ... 2025-5-23 5:56:40 Iteration 3 of 100"
     ]
    },
    {
     "name": "stdout",
     "output_type": "stream",
     "text": [
      "\r\n",
      "T00 ERR ... 2025-5-23 5:56:40 Total Energy -40.209483865\r\n",
      "T00 ERR ... 2025-5-23 5:56:40 DIIs error 0.0793411431108\r\n",
      "T00 ERR ... 2025-5-23 5:56:40 Delta Etot -0.016487997892\r\n",
      "T00 ERR ... \r\n",
      "T00 ERR ... 2025-5-23 5:56:40 Iteration 4 of 100"
     ]
    },
    {
     "name": "stdout",
     "output_type": "stream",
     "text": [
      "\r\n",
      "T00 ERR ... 2025-5-23 5:56:40 Total Energy -40.2401676261"
     ]
    },
    {
     "name": "stdout",
     "output_type": "stream",
     "text": [
      "\r\n",
      "T00 ERR ... 2025-5-23 5:56:40 DIIs error 0.0296047735871\r\n",
      "T00 ERR ... 2025-5-23 5:56:40 Delta Etot -0.03068376106\r\n",
      "T00 ERR ... \r\n",
      "T00 ERR ... 2025-5-23 5:56:40 Iteration 5 of 100"
     ]
    },
    {
     "name": "stdout",
     "output_type": "stream",
     "text": [
      "\r\n",
      "T00 ERR ... 2025-5-23 5:56:40 Total Energy -40.24006075\r\n",
      "T00 ERR ... 2025-5-23 5:56:40 DIIs error 0.0311802824608\r\n",
      "T00 ERR ... 2025-5-23 5:56:40 Delta Etot 0.000106876037634\r\n",
      "T00 ERR ... \r\n",
      "T00 ERR ... 2025-5-23 5:56:40 Iteration 6 of 100"
     ]
    },
    {
     "name": "stdout",
     "output_type": "stream",
     "text": [
      "\r\n",
      "T00 ERR ... 2025-5-23 5:56:40 Total Energy -40.2424135955\r\n",
      "T00 ERR ... 2025-5-23 5:56:40 DIIs error 0.000315586011649\r\n",
      "T00 ERR ... 2025-5-23 5:56:40 Delta Etot -0.00235284545869\r\n",
      "T00 ERR ... \r\n",
      "T00 ERR ... 2025-5-23 5:56:40 Iteration 7 of 100"
     ]
    },
    {
     "name": "stdout",
     "output_type": "stream",
     "text": [
      "\r\n",
      "T00 ERR ... 2025-5-23 5:56:40 Total Energy -40.2424138448\r\n",
      "T00 ERR ... 2025-5-23 5:56:40 DIIs error 2.08700287349e-05\r\n",
      "T00 ERR ... 2025-5-23 5:56:40 Delta Etot -2.4928542075e-07\r\n",
      "T00 ERR ... \r\n",
      "T00 ERR ... 2025-5-23 5:56:40 Iteration 8 of 100"
     ]
    },
    {
     "name": "stdout",
     "output_type": "stream",
     "text": [
      "\r\n",
      "T00 ERR ... 2025-5-23 5:56:40 Total Energy -40.242413845\r\n",
      "T00 ERR ... 2025-5-23 5:56:40 DIIs error 1.08550543431e-05\r\n",
      "T00 ERR ... 2025-5-23 5:56:40 Delta Etot -2.62254218342e-10\r\n",
      "T00 ERR ... \r\n",
      "T00 ERR ... 2025-5-23 5:56:40 Iteration 9 of 100"
     ]
    },
    {
     "name": "stdout",
     "output_type": "stream",
     "text": [
      "\r\n",
      "T00 ERR ... 2025-5-23 5:56:40 Total Energy -40.2424138454\r\n",
      "T00 ERR ... 2025-5-23 5:56:40 DIIs error 3.00317799203e-06\r\n",
      "T00 ERR ... 2025-5-23 5:56:40 Delta Etot -4.09720257721e-10\r\n",
      "T00 ERR ... \r\n",
      "T00 ERR ... 2025-5-23 5:56:40 Iteration 10 of 100"
     ]
    },
    {
     "name": "stdout",
     "output_type": "stream",
     "text": [
      "\r\n",
      "T00 ERR ... 2025-5-23 5:56:40 Total Energy -40.2424138455\r\n",
      "T00 ERR ... 2025-5-23 5:56:40 DIIs error 8.25971372696e-07\r\n",
      "T00 ERR ... 2025-5-23 5:56:40 Delta Etot -3.22728510582e-11\r\n",
      "T00 ERR ... \r\n",
      "T00 ERR ... 2025-5-23 5:56:40 Iteration 11 of 100"
     ]
    },
    {
     "name": "stdout",
     "output_type": "stream",
     "text": [
      "\r\n",
      "T00 ERR ... 2025-5-23 5:56:40 Total Energy -40.2424138455\r\n",
      "T00 ERR ... 2025-5-23 5:56:40 DIIs error 1.31691635442e-09\r\n",
      "T00 ERR ... 2025-5-23 5:56:40 Delta Etot -2.55795384874e-12\r\n",
      "T00 ERR ... 2025-5-23 5:56:40 Total Energy has converged to -2.55795385e-12[Ha] after 11 iterations. DIIS error is converged up to 1.31691635e-09\r\n",
      "T00 ERR ... 2025-5-23 5:56:40 Final Single Point Energy -40.2424138455 Ha\r\n",
      "T00 ERR ... 2025-5-23 5:56:40 Final Local Exc contribution -5.18435611699 Ha\r\n",
      "T00 ERR ... 2025-5-23 5:56:40 Final Non Local Ex contribution -1.63928269767 Ha\r\n",
      "T00 ERR ...   Orbital energies: \r\n",
      "T00 ERR ...   index occupation energy(Hartree) \r\n",
      "T00 ERR ...      0      2   -10.1489317519\r\n",
      "T00 ERR ...      1      2   -0.7132904411\r\n",
      "T00 ERR ...      2      2   -0.4030713273\r\n",
      "T00 ERR ...      3      2   -0.4023963806\r\n",
      "T00 ERR ...      4      2   -0.4011120794\r\n",
      "T00 ERR ...      5      0   +0.1603096275\r\n",
      "T00 ERR ...      6      0   +0.2042082497\r\n",
      "T00 ERR ...      7      0   +0.2067242788\r\n",
      "T00 ERR ...      8      0   +0.2073711844\r\n",
      "T00 ERR ...      9      0   +0.7230331626\r\n",
      "T00 ERR ...     10      0   +0.7243405880\r\n",
      "T00 ERR ...     11      0   +0.7264635791\r\n",
      "T00 ERR ...     12      0   +1.0550127626\r\n",
      "T00 ERR ...     13      0   +1.0860845419\r\n",
      "T00 ERR ...     14      0   +1.0887857975\r\n",
      "T00 ERR ...     15      0   +1.0898327458\r\n",
      "T00 ERR ...     16      0   +1.7110608067\r\n",
      "T00 ERR ... 2025-5-23 5:56:40 Electric Dipole is[e*bohr]:\r\n",
      "\t\t dx=0.00699744426817\r\n",
      "\t\t dy=0.00987002179593\r\n",
      "\t\t dz=-0.00920995433508\r\n",
      "T00 ERR ... Writing result to temp.orb\r\n",
      "T00 ERR ... 2025-5-23 5:56:40 DFT calculation took 1.673199207 seconds.\r\n",
      "T00 ERR ... 2025-5-23 5:56:40 Evaluating polarregion 1\r\n",
      "T00 ERR ... 2025-5-23 5:56:40 Evaluating interaction between polarregion 1 and qmregion 0"
     ]
    },
    {
     "name": "stdout",
     "output_type": "stream",
     "text": [
      "\r\n",
      "T00 ERR ... 2025-5-23 5:56:41 Evaluating interaction between polarregion 1 and staticregion 2\r\n",
      "T00 ERR ... 2025-5-23 5:56:41 Starting Solving for classical polarization with 1380 degrees of freedom.\r\n",
      "T00 ERR ... 2025-5-23 5:56:41 CG: #iterations: 6, estimated error: 2.00536304568e-05\r\n",
      "T00 ERR ...   Total static energy [hrt]= 0.0009102654542\r\n",
      "T00 ERR ...   Total polar energy [hrt]= -0.0006100905345\r\n",
      "T00 ERR ...  Total energy [hrt]= 0.0003001749197\r\n",
      "T00 ERR ... 2025-5-23 5:56:41 Evaluating staticregion 2\r\n",
      "T00 ERR ... 2025-5-23 5:56:41 Writing checkpoint to checkpoint_iter_1.hdf5"
     ]
    },
    {
     "name": "stdout",
     "output_type": "stream",
     "text": [
      "\r\n",
      "T00 ERR ...  Region:qmregion 0 is not converged deltaE=-40.24241385 RMS Dmat=0.1635648179 MaxDmat=2.034289803\r\n",
      "T00 ERR ... 2025-5-23 5:56:41 Region:polarregion 1 is not converged deltaE=0.0003001749197\r\n",
      "T00 ERR ... 2025-5-23 5:56:41 --Total Energy all regions -40.24211367\r\n",
      "T00 ERR ... 2025-5-23 5:56:41 --Inter Region SCF Iteration 2 of 50\r\n",
      "T00 ERR ... 2025-5-23 5:56:41 Evaluating qmregion 0\r\n",
      "T00 ERR ... 2025-5-23 5:56:41 Evaluating interaction between qmregion 0 and polarregion 1\r\n",
      "T00 ERR ... 2025-5-23 5:56:41 Evaluating interaction between qmregion 0 and staticregion 2\r\n",
      "T00 ERR ... Running DFT calculation\r\n",
      "T00 ERR ... 2025-5-23 5:56:41 Using 2 threads\r\n",
      "T00 ERR ... 2025-5-23 5:56:41 Using native Eigen implementation, no BLAS overload \r\n",
      "T00 ERR ...  Molecule Coordinates [A] \r\n",
      "T00 ERR ...   C   +30.3000 +1.2704 +5.5205\r\n",
      "T00 ERR ...   H   +31.2392 +1.4802 +6.0301\r\n",
      "T00 ERR ...   H   +30.4910 +0.6554 +4.6433\r\n",
      "T00 ERR ...   H   +29.8500 +2.2100 +5.2100\r\n",
      "T00 ERR ...   H   +29.6200 +0.7500 +6.2000\r\n",
      "T00 ERR ... 2025-5-23 5:56:41 Loaded DFT Basis Set 3-21G with 17 functions"
     ]
    },
    {
     "name": "stdout",
     "output_type": "stream",
     "text": [
      "\r\n",
      "T00 ERR ... 2025-5-23 5:56:41 Loaded AUX Basis Set aux-def2-svp with 104 functions\r\n",
      "T00 ERR ... 2025-5-23 5:56:41 Total number of electrons: 10\r\n",
      "T00 ERR ... 2025-5-23 5:56:41 Smallest value of AOOverlap matrix is 0.03364074275\r\n",
      "T00 ERR ... 2025-5-23 5:56:41 Removed 0 basisfunction from inverse overlap matrix\r\n",
      "T00 ERR ... 2025-5-23 5:56:41 Convergence Options:\r\n",
      "T00 ERR ... \t\t Delta E [Ha]: 1e-07\r\n",
      "T00 ERR ... \t\t DIIS max error: 1e-07\r\n",
      "T00 ERR ... \t\t DIIS histlength: 20\r\n",
      "T00 ERR ... \t\t ADIIS start: 0.8\r\n",
      "T00 ERR ... \t\t DIIS start: 0.002\r\n",
      "T00 ERR ... \t\t Deleting oldest element from DIIS hist\r\n",
      "T00 ERR ... \t\t Levelshift[Ha]: 0\r\n",
      "T00 ERR ... \t\t Levelshift end: 0.2\r\n",
      "T00 ERR ... \t\t Mixing Parameter alpha: 0.7\r\n",
      "T00 ERR ... 2025-5-23 5:56:41 Setup invariant parts of Electron Repulsion integrals \r\n",
      "T00 ERR ... 2025-5-23 5:56:41 Constructed independent particle hamiltonian \r\n",
      "T00 ERR ... 2025-5-23 5:56:41 Nuclear Repulsion Energy is 13.4434088\r\n",
      "T00 ERR ... 2025-5-23 5:56:41 1350 External sites\r\n",
      "T00 ERR ...  Name      Coordinates[a0]     charge[e]         dipole[e*a0]    \r\n",
      "T00 ERR ...   C   +63.8902 +7.9543 +11.0171   -0.3282   +0.0023 -0.0026 -0.0071\r\n",
      "T00 ERR ...   H   +62.3892 +6.5470 +10.9796   +0.0824   +0.0017 -0.0006 -0.0018\r\n",
      "T00 ERR ...   H   +65.3194 +7.4736 +9.6186   +0.0822   +0.0015 -0.0009 -0.0014\r\n",
      "T00 ERR ...   H   +63.1170 +9.8077 +10.6203   +0.0817   +0.0003 -0.0004 +0.0009\r\n",
      "T00 ERR ...   H   +64.7422 +7.9557 +12.9068   +0.0819   +0.0025 +0.0030 -0.0028\r\n",
      "T00 ERR ...   C   +63.9128 -0.3996 +22.8673   -0.3282   -0.0018 +0.0027 +0.0048\r\n",
      "T00 ERR ...   H   +63.0449 -1.1731 +21.1692   +0.0824   +0.0009 +0.0003 +0.0015\r\n",
      "T00 ERR ...   H   +62.7676 +1.1530 +23.5795   +0.0822   -0.0011 +0.0054 +0.0020\r\n",
      "T00 ERR ...   H   +64.0430 -1.8922 +24.2830   +0.0817   +0.0013 +0.0001 -0.0010\r\n",
      "T00 ERR ...   H   +65.8004 +0.2810 +22.4122   +0.0819   -0.0031 -0.0003 +0.0013\r\n",
      "T00 ERR ...   C   +61.7182 -0.4374 -3.3115   -0.3282   +0.0004 -0.0004 +0.0004\r\n",
      "T00 ERR ...   H   +60.6600 -1.0798 -4.9554   +0.0824   +0.0012 +0.0017 +0.0012\r\n",
      "T00 ERR ...   H   +63.3309 +0.6815 -3.9252   +0.0822   -0.0010 -0.0012 -0.0005\r\n",
      "T00 ERR ...   H   +62.3800 -2.0623 -2.2148   +0.0817   +0.0014 -0.0012 +0.0006\r\n",
      "T00 ERR ...   H   +60.5092 +0.7345 -2.1392   +0.0819   -0.0024 -0.0025 -0.0022\r\n",
      "T00 ERR ...   C   +62.0402 +12.7739 +4.5175   -0.3282   +0.0014 -0.0014 +0.0034\r\n",
      "T00 ERR ...   H   +60.1049 +13.3052 +4.0622   +0.0824   -0.0001 -0.0021 -0.0002\r\n",
      "T00 ERR ...   H   +62.0812 +11.8167 +6.3372   +0.0822   -0.0005 -0.0035 -0.0004\r\n",
      "T00 ERR ...   H   +63.2115 +14.4753 +4.6109   +0.0817   +0.0022 +0.0014 +0.0015\r\n",
      "T00 ERR ...   H   +62.7769 +11.5084 +3.0803   +0.0819   -0.0008 -0.0012 +0.0015\r\n",
      "T00 ERR ...   C   +60.6789 +14.3239 +12.6808   -0.3282   -0.0029 +0.0004 +0.0003\r\n",
      "T00 ERR ...   H   +61.0756 +13.9461 +10.6972   +0.0824   -0.0044 +0.0027 -0.0009\r\n",
      "T00 ERR ...   H   +61.0224 +16.3108 +13.0851   +0.0822   -0.0003 -0.0006 +0.0029\r\n",
      "T00 ERR ...   H   +58.7327 +13.8328 +13.0580   +0.0817   +0.0003 -0.0017 -0.0004\r\n",
      "T00 ERR ...   H   +61.9074 +13.1525 +13.8517   +0.0819   -0.0011 -0.0014 +0.0030\r\n",
      "T00 ERR ...   C   +68.7870 +4.1961 +17.9521   -0.3282   +0.0040 +0.0012 +0.0051\r\n",
      "T00 ERR ...   H   +68.2015 +2.4962 +18.9532   +0.0824   +0.0001 +0.0002 -0.0018\r\n",
      "T00 ERR ...   H   +67.2445 +4.8625 +16.7665   +0.0822   +0.0006 -0.0026 +0.0019\r\n",
      "T00 ERR ...   H   +70.4303 +3.7606 +16.7997   +0.0817   -0.0010 +0.0014 +0.0001\r\n",
      "T00 ERR ...   H   +69.2964 +5.6503 +19.3130   +0.0819   +0.0009 +0.0010 +0.0051\r\n",
      "T00 ERR ...   C   +54.0832 +4.4983 +27.1938   -0.3282   -0.0002 -0.0014 -0.0006\r\n",
      "T00 ERR ...   H   +53.5372 +6.4564 +27.5139   +0.0824   -0.0012 -0.0009 +0.0003\r\n",
      "T00 ERR ...   H   +52.9768 +3.2670 +28.4141   +0.0822   -0.0006 -0.0011 +0.0004\r\n",
      "T00 ERR ...   H   +53.7249 +4.0062 +25.2278   +0.0817   +0.0023 -0.0001 +0.0009\r\n",
      "T00 ERR ...   H   +56.0682 +4.2330 +27.6278   +0.0819   -0.0029 +0.0017 -0.0014\r\n",
      "T00 ERR ...   C   +63.8174 +6.3112 -1.0788   -0.3282   -0.0012 +0.0005 +0.0014\r\n",
      "T00 ERR ...   H   +65.2393 +6.4796 +0.3993   +0.0824   -0.0006 -0.0007 +0.0023\r\n",
      "T00 ERR ...   H   +62.4364 +4.8836 -0.5459   +0.0822   +0.0019 +0.0016 +0.0003\r\n",
      "T00 ERR ...   H   +64.7422 +5.7637 -2.8384   +0.0817   -0.0007 +0.0031 +0.0009\r\n",
      "T00 ERR ...   H   +62.8903 +8.1258 -1.3455   +0.0819   -0.0008 -0.0013 -0.0031\r\n",
      "T00 ERR ...   C   +64.1752 +19.2751 +7.8615   -0.3282   +0.0044 -0.0010 +0.0007\r\n",
      "T00 ERR ...   H   +62.9276 +19.0860 +6.2359   +0.0824   -0.0013 +0.0000 +0.0022\r\n",
      "T00 ERR ...   H   +63.4396 +18.1623 +9.4267   +0.0822   +0.0009 -0.0007 -0.0001\r\n",
      "T00 ERR ...   H   +66.0461 +18.6138 +7.3699   +0.0817   +0.0010 -0.0012 -0.0000\r\n",
      "T00 ERR ...   H   +64.2509 +21.2405 +8.4282   +0.0819   +0.0016 +0.0003 -0.0004\r\n",
      "T00 ERR ...   C   +61.3975 +17.7254 +18.4625   -0.3282   +0.0020 -0.0008 +0.0016\r\n",
      "T00 ERR ...   H   +60.9990 +19.0346 +16.9256   +0.0824   -0.0004 +0.0009 -0.0001\r\n",
      "T00 ERR ...   H   +61.0958 +18.6680 +20.2653   +0.0822   +0.0002 -0.0002 -0.0002\r\n",
      "T00 ERR ...   H   +60.1502 +16.1005 +18.3303   +0.0817   +0.0028 +0.0002 -0.0011\r\n",
      "T00 ERR ...   H   +63.3627 +17.1020 +18.3492   +0.0819   -0.0014 -0.0007 +0.0011\r\n",
      "T00 ERR ...               ... (1300 sites not displayed)\r\n"
     ]
    },
    {
     "name": "stdout",
     "output_type": "stream",
     "text": [
      "\r\n",
      "T00 ERR ... 2025-5-23 5:56:41 Filled DFT external multipole potential matrix\r\n",
      "T00 ERR ... 2025-5-23 5:56:41 Nuclei-external site interaction energy 0.0204347161\r\n",
      "T00 ERR ... 2025-5-23 5:56:41 Using hybrid functional with alpha=0.25\r\n",
      "T00 ERR ... 2025-5-23 5:56:41 Setup numerical integration grid medium for vxc functional XC_HYB_GGA_XC_PBEH"
     ]
    },
    {
     "name": "stdout",
     "output_type": "stream",
     "text": [
      "\r\n",
      "T00 ERR ... 2025-5-23 5:56:41 Setup Initial Guess using: atom\r\n",
      "T00 ERR ... 2025-5-23 5:56:41 Calculating atom density for C"
     ]
    },
    {
     "name": "stdout",
     "output_type": "stream",
     "text": [
      "\r\n",
      "T00 ERR ... 2025-5-23 5:56:41 Calculating atom density for H"
     ]
    },
    {
     "name": "stdout",
     "output_type": "stream",
     "text": [
      "\r\n",
      "T00 ERR ... 2025-5-23 5:56:41 STARTING SCF cycle\r\n",
      "T00 ERR ...  --------------------------------------------------------------------------\r\n",
      "T00 ERR ... \r\n",
      "T00 ERR ... 2025-5-23 5:56:41 Iteration 1 of 100"
     ]
    },
    {
     "name": "stdout",
     "output_type": "stream",
     "text": [
      "\r\n",
      "T00 ERR ... 2025-5-23 5:56:42 Total Energy -40.1612611508\r\n",
      "T00 ERR ... 2025-5-23 5:56:42 DIIs error 0.219710694807\r\n",
      "T00 ERR ... 2025-5-23 5:56:42 Delta Etot 0\r\n",
      "T00 ERR ... \r\n",
      "T00 ERR ... 2025-5-23 5:56:42 Iteration 2 of 100"
     ]
    },
    {
     "name": "stdout",
     "output_type": "stream",
     "text": [
      "\r\n",
      "T00 ERR ... 2025-5-23 5:56:42 Total Energy -40.1972265256\r\n",
      "T00 ERR ... 2025-5-23 5:56:42 DIIs error 0.128786956338\r\n",
      "T00 ERR ... 2025-5-23 5:56:42 Delta Etot -0.0359653748475\r\n",
      "T00 ERR ... \r\n",
      "T00 ERR ... 2025-5-23 5:56:42 Iteration 3 of 100"
     ]
    },
    {
     "name": "stdout",
     "output_type": "stream",
     "text": [
      "\r\n",
      "T00 ERR ... 2025-5-23 5:56:42 Total Energy -40.2137233083\r\n",
      "T00 ERR ... 2025-5-23 5:56:42 DIIs error 0.0793434828999\r\n",
      "T00 ERR ... 2025-5-23 5:56:42 Delta Etot -0.0164967826908\r\n",
      "T00 ERR ... \r\n",
      "T00 ERR ... 2025-5-23 5:56:42 Iteration 4 of 100"
     ]
    },
    {
     "name": "stdout",
     "output_type": "stream",
     "text": [
      "\r\n",
      "T00 ERR ... 2025-5-23 5:56:42 Total Energy -40.2444216105\r\n",
      "T00 ERR ... 2025-5-23 5:56:42 DIIs error 0.0296179574866\r\n",
      "T00 ERR ... 2025-5-23 5:56:42 Delta Etot -0.0306983021701\r\n",
      "T00 ERR ... \r\n",
      "T00 ERR ... 2025-5-23 5:56:42 Iteration 5 of 100"
     ]
    },
    {
     "name": "stdout",
     "output_type": "stream",
     "text": [
      "\r\n",
      "T00 ERR ... 2025-5-23 5:56:42 Total Energy -40.2443154623\r\n",
      "T00 ERR ... 2025-5-23 5:56:42 DIIs error 0.0311898024755\r\n",
      "T00 ERR ... 2025-5-23 5:56:42 Delta Etot 0.000106148163241\r\n",
      "T00 ERR ... \r\n",
      "T00 ERR ... 2025-5-23 5:56:42 Iteration 6 of 100"
     ]
    },
    {
     "name": "stdout",
     "output_type": "stream",
     "text": [
      "\r\n",
      "T00 ERR ... 2025-5-23 5:56:42 Total Energy -40.2466692301\r\n",
      "T00 ERR ... 2025-5-23 5:56:42 DIIs error 0.000313153880681\r\n",
      "T00 ERR ... 2025-5-23 5:56:42 Delta Etot -0.00235376778973\r\n",
      "T00 ERR ... \r\n",
      "T00 ERR ... 2025-5-23 5:56:42 Iteration 7 of 100"
     ]
    },
    {
     "name": "stdout",
     "output_type": "stream",
     "text": [
      "\r\n",
      "T00 ERR ... 2025-5-23 5:56:42 Total Energy -40.2466694754\r\n",
      "T00 ERR ... 2025-5-23 5:56:42 DIIs error 2.08661333319e-05\r\n",
      "T00 ERR ... 2025-5-23 5:56:42 Delta Etot -2.45326262416e-07\r\n",
      "T00 ERR ... \r\n",
      "T00 ERR ... 2025-5-23 5:56:42 Iteration 8 of 100"
     ]
    },
    {
     "name": "stdout",
     "output_type": "stream",
     "text": [
      "\r\n",
      "T00 ERR ... 2025-5-23 5:56:42 Total Energy -40.2466694757\r\n",
      "T00 ERR ... 2025-5-23 5:56:42 DIIs error 1.08473658627e-05\r\n",
      "T00 ERR ... 2025-5-23 5:56:42 Delta Etot -2.62787125394e-10\r\n",
      "T00 ERR ... \r\n",
      "T00 ERR ... 2025-5-23 5:56:42 Iteration 9 of 100"
     ]
    },
    {
     "name": "stdout",
     "output_type": "stream",
     "text": [
      "\r\n",
      "T00 ERR ... 2025-5-23 5:56:42 Total Energy -40.2466694761\r\n",
      "T00 ERR ... 2025-5-23 5:56:42 DIIs error 3.0063333886e-06\r\n",
      "T00 ERR ... 2025-5-23 5:56:42 Delta Etot -4.08874711866e-10\r\n",
      "T00 ERR ... \r\n",
      "T00 ERR ... 2025-5-23 5:56:42 Iteration 10 of 100"
     ]
    },
    {
     "name": "stdout",
     "output_type": "stream",
     "text": [
      "\r\n",
      "T00 ERR ... 2025-5-23 5:56:42 Total Energy -40.2466694761\r\n",
      "T00 ERR ... 2025-5-23 5:56:42 DIIs error 8.27826902688e-07\r\n",
      "T00 ERR ... 2025-5-23 5:56:42 Delta Etot -3.24931193063e-11\r\n",
      "T00 ERR ... \r\n",
      "T00 ERR ... 2025-5-23 5:56:42 Iteration 11 of 100"
     ]
    },
    {
     "name": "stdout",
     "output_type": "stream",
     "text": [
      "\r\n",
      "T00 ERR ... 2025-5-23 5:56:42 Total Energy -40.2466694761\r\n",
      "T00 ERR ... 2025-5-23 5:56:42 DIIs error 1.32053845853e-09\r\n",
      "T00 ERR ... 2025-5-23 5:56:42 Delta Etot -2.42295072894e-12\r\n",
      "T00 ERR ... 2025-5-23 5:56:42 Total Energy has converged to -2.42295073e-12[Ha] after 11 iterations. DIIS error is converged up to 1.32053846e-09\r\n",
      "T00 ERR ... 2025-5-23 5:56:42 Final Single Point Energy -40.2466694761 Ha\r\n",
      "T00 ERR ... 2025-5-23 5:56:42 Final Local Exc contribution -5.18438664646 Ha\r\n",
      "T00 ERR ... 2025-5-23 5:56:42 Final Non Local Ex contribution -1.63929070408 Ha\r\n",
      "T00 ERR ...   Orbital energies: \r\n",
      "T00 ERR ...   index occupation energy(Hartree) \r\n",
      "T00 ERR ...      0      2   -10.1492575683\r\n",
      "T00 ERR ...      1      2   -0.7136670548\r\n",
      "T00 ERR ...      2      2   -0.4033850264\r\n",
      "T00 ERR ...      3      2   -0.4027679149\r\n",
      "T00 ERR ...      4      2   -0.4015036443\r\n",
      "T00 ERR ...      5      0   +0.1600847790\r\n",
      "T00 ERR ...      6      0   +0.2040535999\r\n",
      "T00 ERR ...      7      0   +0.2064983174\r\n",
      "T00 ERR ...      8      0   +0.2070188591\r\n",
      "T00 ERR ...      9      0   +0.7225963231\r\n",
      "T00 ERR ...     10      0   +0.7238947956\r\n",
      "T00 ERR ...     11      0   +0.7260292798\r\n",
      "T00 ERR ...     12      0   +1.0546673718\r\n",
      "T00 ERR ...     13      0   +1.0858849381\r\n",
      "T00 ERR ...     14      0   +1.0885046099\r\n",
      "T00 ERR ...     15      0   +1.0894811770\r\n",
      "T00 ERR ...     16      0   +1.7107222299\r\n",
      "T00 ERR ... 2025-5-23 5:56:42 Electric Dipole is[e*bohr]:\r\n",
      "\t\t dx=0.00685376198608\r\n",
      "\t\t dy=0.00923445963309\r\n",
      "\t\t dz=-0.00815833189816\r\n",
      "T00 ERR ... Writing result to temp.orb\r\n",
      "T00 ERR ... 2025-5-23 5:56:42 DFT calculation took 1.658267199 seconds.\r\n",
      "T00 ERR ... 2025-5-23 5:56:42 Evaluating polarregion 1\r\n",
      "T00 ERR ... 2025-5-23 5:56:42 Evaluating interaction between polarregion 1 and qmregion 0"
     ]
    },
    {
     "name": "stdout",
     "output_type": "stream",
     "text": [
      "\r\n",
      "T00 ERR ... 2025-5-23 5:56:43 Evaluating interaction between polarregion 1 and staticregion 2"
     ]
    },
    {
     "name": "stdout",
     "output_type": "stream",
     "text": [
      "\r\n",
      "T00 ERR ... 2025-5-23 5:56:43 Starting Solving for classical polarization with 1380 degrees of freedom.\r\n",
      "T00 ERR ... 2025-5-23 5:56:43 CG: #iterations: 2, estimated error: 3.22550455151e-05\r\n",
      "T00 ERR ...   Total static energy [hrt]= 0.0009102654542\r\n",
      "T00 ERR ...   Total polar energy [hrt]= -0.0006099814217\r\n",
      "T00 ERR ...  Total energy [hrt]= 0.0003002840325\r\n",
      "T00 ERR ... 2025-5-23 5:56:43 Evaluating staticregion 2\r\n",
      "T00 ERR ... 2025-5-23 5:56:43 Writing checkpoint to checkpoint_iter_2.hdf5"
     ]
    },
    {
     "name": "stdout",
     "output_type": "stream",
     "text": [
      "\r\n",
      "T00 ERR ...  Region:qmregion 0 is not converged deltaE=-0.004255630639 RMS Dmat=9.662261106e-05 MaxDmat=0.0005641721304\r\n",
      "T00 ERR ... 2025-5-23 5:56:43 Region:polarregion 1 is converged deltaE=1.091127552e-07\r\n",
      "T00 ERR ... 2025-5-23 5:56:43 --Total Energy all regions -40.24636919\r\n",
      "T00 ERR ... 2025-5-23 5:56:43 --Inter Region SCF Iteration 3 of 50\r\n",
      "T00 ERR ... 2025-5-23 5:56:43 Evaluating qmregion 0\r\n",
      "T00 ERR ... 2025-5-23 5:56:43 Evaluating interaction between qmregion 0 and polarregion 1\r\n",
      "T00 ERR ... 2025-5-23 5:56:43 Evaluating interaction between qmregion 0 and staticregion 2\r\n",
      "T00 ERR ... Running DFT calculation\r\n",
      "T00 ERR ... 2025-5-23 5:56:43 Using 2 threads\r\n",
      "T00 ERR ... 2025-5-23 5:56:43 Using native Eigen implementation, no BLAS overload \r\n",
      "T00 ERR ...  Molecule Coordinates [A] \r\n",
      "T00 ERR ...   C   +30.3000 +1.2704 +5.5205\r\n",
      "T00 ERR ...   H   +31.2392 +1.4802 +6.0301\r\n",
      "T00 ERR ...   H   +30.4910 +0.6554 +4.6433\r\n",
      "T00 ERR ...   H   +29.8500 +2.2100 +5.2100\r\n",
      "T00 ERR ...   H   +29.6200 +0.7500 +6.2000\r\n",
      "T00 ERR ... 2025-5-23 5:56:43 Loaded DFT Basis Set 3-21G with 17 functions\r\n",
      "T00 ERR ... 2025-5-23 5:56:43 Loaded AUX Basis Set aux-def2-svp with 104 functions\r\n",
      "T00 ERR ... 2025-5-23 5:56:43 Total number of electrons: 10\r\n",
      "T00 ERR ... 2025-5-23 5:56:43 Smallest value of AOOverlap matrix is 0.03364074275\r\n",
      "T00 ERR ... 2025-5-23 5:56:43 Removed 0 basisfunction from inverse overlap matrix\r\n",
      "T00 ERR ... 2025-5-23 5:56:43 Convergence Options:\r\n",
      "T00 ERR ... \t\t Delta E [Ha]: 1e-07\r\n",
      "T00 ERR ... \t\t DIIS max error: 1e-07\r\n",
      "T00 ERR ... \t\t DIIS histlength: 20\r\n",
      "T00 ERR ... \t\t ADIIS start: 0.8\r\n",
      "T00 ERR ... \t\t DIIS start: 0.002\r\n",
      "T00 ERR ... \t\t Deleting oldest element from DIIS hist\r\n",
      "T00 ERR ... \t\t Levelshift[Ha]: 0\r\n",
      "T00 ERR ... \t\t Levelshift end: 0.2\r\n",
      "T00 ERR ... \t\t Mixing Parameter alpha: 0.7\r\n",
      "T00 ERR ... 2025-5-23 5:56:43 Setup invariant parts of Electron Repulsion integrals \r\n",
      "T00 ERR ... 2025-5-23 5:56:43 Constructed independent particle hamiltonian \r\n",
      "T00 ERR ... 2025-5-23 5:56:43 Nuclear Repulsion Energy is 13.4434088\r\n",
      "T00 ERR ... 2025-5-23 5:56:43 1350 External sites\r\n",
      "T00 ERR ...  Name      Coordinates[a0]     charge[e]         dipole[e*a0]    \r\n",
      "T00 ERR ...   C   +63.8902 +7.9543 +11.0171   -0.3282   +0.0023 -0.0026 -0.0071\r\n",
      "T00 ERR ...   H   +62.3892 +6.5470 +10.9796   +0.0824   +0.0017 -0.0006 -0.0018\r\n",
      "T00 ERR ...   H   +65.3194 +7.4736 +9.6186   +0.0822   +0.0015 -0.0009 -0.0014\r\n",
      "T00 ERR ...   H   +63.1170 +9.8077 +10.6203   +0.0817   +0.0003 -0.0004 +0.0009\r\n",
      "T00 ERR ...   H   +64.7422 +7.9557 +12.9068   +0.0819   +0.0025 +0.0030 -0.0028\r\n",
      "T00 ERR ...   C   +63.9128 -0.3996 +22.8673   -0.3282   -0.0018 +0.0027 +0.0048\r\n",
      "T00 ERR ...   H   +63.0449 -1.1731 +21.1692   +0.0824   +0.0009 +0.0003 +0.0015\r\n",
      "T00 ERR ...   H   +62.7676 +1.1530 +23.5795   +0.0822   -0.0011 +0.0054 +0.0020\r\n",
      "T00 ERR ...   H   +64.0430 -1.8922 +24.2830   +0.0817   +0.0013 +0.0001 -0.0010\r\n",
      "T00 ERR ...   H   +65.8004 +0.2810 +22.4122   +0.0819   -0.0031 -0.0003 +0.0013\r\n",
      "T00 ERR ...   C   +61.7182 -0.4374 -3.3115   -0.3282   +0.0004 -0.0004 +0.0004\r\n",
      "T00 ERR ...   H   +60.6600 -1.0798 -4.9554   +0.0824   +0.0012 +0.0017 +0.0012\r\n",
      "T00 ERR ...   H   +63.3309 +0.6815 -3.9252   +0.0822   -0.0010 -0.0012 -0.0005\r\n",
      "T00 ERR ...   H   +62.3800 -2.0623 -2.2148   +0.0817   +0.0014 -0.0012 +0.0006\r\n",
      "T00 ERR ...   H   +60.5092 +0.7345 -2.1392   +0.0819   -0.0024 -0.0025 -0.0022\r\n",
      "T00 ERR ...   C   +62.0402 +12.7739 +4.5175   -0.3282   +0.0014 -0.0014 +0.0034\r\n",
      "T00 ERR ...   H   +60.1049 +13.3052 +4.0622   +0.0824   -0.0001 -0.0021 -0.0002\r\n",
      "T00 ERR ...   H   +62.0812 +11.8167 +6.3372   +0.0822   -0.0005 -0.0035 -0.0004\r\n",
      "T00 ERR ...   H   +63.2115 +14.4753 +4.6109   +0.0817   +0.0022 +0.0014 +0.0015\r\n",
      "T00 ERR ...   H   +62.7769 +11.5084 +3.0803   +0.0819   -0.0008 -0.0012 +0.0015\r\n",
      "T00 ERR ...   C   +60.6789 +14.3239 +12.6808   -0.3282   -0.0029 +0.0004 +0.0003\r\n",
      "T00 ERR ...   H   +61.0756 +13.9461 +10.6972   +0.0824   -0.0044 +0.0027 -0.0009\r\n",
      "T00 ERR ...   H   +61.0224 +16.3108 +13.0851   +0.0822   -0.0003 -0.0006 +0.0029\r\n",
      "T00 ERR ...   H   +58.7327 +13.8328 +13.0580   +0.0817   +0.0003 -0.0017 -0.0004\r\n",
      "T00 ERR ...   H   +61.9074 +13.1525 +13.8517   +0.0819   -0.0011 -0.0014 +0.0030\r\n",
      "T00 ERR ...   C   +68.7870 +4.1961 +17.9521   -0.3282   +0.0041 +0.0012 +0.0051\r\n",
      "T00 ERR ...   H   +68.2015 +2.4962 +18.9532   +0.0824   +0.0001 +0.0002 -0.0018\r\n",
      "T00 ERR ...   H   +67.2445 +4.8625 +16.7665   +0.0822   +0.0006 -0.0026 +0.0019\r\n",
      "T00 ERR ...   H   +70.4303 +3.7606 +16.7997   +0.0817   -0.0010 +0.0014 +0.0001\r\n",
      "T00 ERR ...   H   +69.2964 +5.6503 +19.3130   +0.0819   +0.0009 +0.0010 +0.0051\r\n",
      "T00 ERR ...   C   +54.0832 +4.4983 +27.1938   -0.3282   -0.0002 -0.0014 -0.0006\r\n",
      "T00 ERR ...   H   +53.5372 +6.4564 +27.5139   +0.0824   -0.0012 -0.0009 +0.0003\r\n",
      "T00 ERR ...   H   +52.9768 +3.2670 +28.4141   +0.0822   -0.0006 -0.0011 +0.0004\r\n",
      "T00 ERR ...   H   +53.7249 +4.0062 +25.2278   +0.0817   +0.0023 -0.0001 +0.0009\r\n",
      "T00 ERR ...   H   +56.0682 +4.2330 +27.6278   +0.0819   -0.0029 +0.0017 -0.0014\r\n",
      "T00 ERR ...   C   +63.8174 +6.3112 -1.0788   -0.3282   -0.0012 +0.0005 +0.0014\r\n",
      "T00 ERR ...   H   +65.2393 +6.4796 +0.3993   +0.0824   -0.0006 -0.0007 +0.0023\r\n",
      "T00 ERR ...   H   +62.4364 +4.8836 -0.5459   +0.0822   +0.0019 +0.0016 +0.0003\r\n",
      "T00 ERR ...   H   +64.7422 +5.7637 -2.8384   +0.0817   -0.0007 +0.0031 +0.0009\r\n",
      "T00 ERR ...   H   +62.8903 +8.1258 -1.3455   +0.0819   -0.0008 -0.0013 -0.0031\r\n",
      "T00 ERR ...   C   +64.1752 +19.2751 +7.8615   -0.3282   +0.0044 -0.0010 +0.0007\r\n",
      "T00 ERR ...   H   +62.9276 +19.0860 +6.2359   +0.0824   -0.0013 -0.0000 +0.0022\r\n",
      "T00 ERR ...   H   +63.4396 +18.1623 +9.4267   +0.0822   +0.0009 -0.0007 -0.0002\r\n",
      "T00 ERR ...   H   +66.0461 +18.6138 +7.3699   +0.0817   +0.0010 -0.0012 -0.0000\r\n",
      "T00 ERR ...   H   +64.2509 +21.2405 +8.4282   +0.0819   +0.0016 +0.0003 -0.0004\r\n",
      "T00 ERR ...   C   +61.3975 +17.7254 +18.4625   -0.3282   +0.0020 -0.0008 +0.0016\r\n",
      "T00 ERR ...   H   +60.9990 +19.0346 +16.9256   +0.0824   -0.0004 +0.0009 -0.0001\r\n",
      "T00 ERR ...   H   +61.0958 +18.6680 +20.2653   +0.0822   +0.0002 -0.0002 -0.0002\r\n",
      "T00 ERR ...   H   +60.1502 +16.1005 +18.3303   +0.0817   +0.0028 +0.0002 -0.0011\r\n",
      "T00 ERR ...   H   +63.3627 +17.1020 +18.3492   +0.0819   -0.0014 -0.0007 +0.0011\r\n",
      "T00 ERR ...               ... (1300 sites not displayed)\r\n"
     ]
    },
    {
     "name": "stdout",
     "output_type": "stream",
     "text": [
      "\r\n",
      "T00 ERR ... 2025-5-23 5:56:43 Filled DFT external multipole potential matrix\r\n",
      "T00 ERR ... 2025-5-23 5:56:43 Nuclei-external site interaction energy 0.0204347161\r\n",
      "T00 ERR ... 2025-5-23 5:56:43 Using hybrid functional with alpha=0.25\r\n",
      "T00 ERR ... 2025-5-23 5:56:43 Setup numerical integration grid medium for vxc functional XC_HYB_GGA_XC_PBEH\r\n",
      "T00 ERR ... 2025-5-23 5:56:43 Setup Initial Guess using: atom\r\n",
      "T00 ERR ... 2025-5-23 5:56:43 Calculating atom density for C"
     ]
    },
    {
     "name": "stdout",
     "output_type": "stream",
     "text": [
      "\r\n",
      "T00 ERR ... 2025-5-23 5:56:43 Calculating atom density for H"
     ]
    },
    {
     "name": "stdout",
     "output_type": "stream",
     "text": [
      "\r\n",
      "T00 ERR ... 2025-5-23 5:56:44 STARTING SCF cycle\r\n",
      "T00 ERR ...  --------------------------------------------------------------------------\r\n",
      "T00 ERR ... \r\n",
      "T00 ERR ... 2025-5-23 5:56:44 Iteration 1 of 100"
     ]
    },
    {
     "name": "stdout",
     "output_type": "stream",
     "text": [
      "\r\n",
      "T00 ERR ... 2025-5-23 5:56:44 Total Energy -40.1612759261\r\n",
      "T00 ERR ... 2025-5-23 5:56:44 DIIs error 0.219710748579\r\n",
      "T00 ERR ... 2025-5-23 5:56:44 Delta Etot 0\r\n",
      "T00 ERR ... \r\n",
      "T00 ERR ... 2025-5-23 5:56:44 Iteration 2 of 100"
     ]
    },
    {
     "name": "stdout",
     "output_type": "stream",
     "text": [
      "\r\n",
      "T00 ERR ... 2025-5-23 5:56:44 Total Energy -40.197241349\r\n",
      "T00 ERR ... 2025-5-23 5:56:44 DIIs error 0.128786978886\r\n",
      "T00 ERR ... 2025-5-23 5:56:44 Delta Etot -0.0359654229423\r\n",
      "T00 ERR ... \r\n",
      "T00 ERR ... 2025-5-23 5:56:44 Iteration 3 of 100"
     ]
    },
    {
     "name": "stdout",
     "output_type": "stream",
     "text": [
      "\r\n",
      "T00 ERR ... 2025-5-23 5:56:44 Total Energy -40.2137381549\r\n",
      "T00 ERR ... 2025-5-23 5:56:44 DIIs error 0.079343488077\r\n",
      "T00 ERR ... 2025-5-23 5:56:44 Delta Etot -0.0164968058627\r\n",
      "T00 ERR ... \r\n",
      "T00 ERR ... 2025-5-23 5:56:44 Iteration 4 of 100"
     ]
    },
    {
     "name": "stdout",
     "output_type": "stream",
     "text": [
      "\r\n",
      "T00 ERR ... 2025-5-23 5:56:44 Total Energy -40.2444364958\r\n",
      "T00 ERR ... 2025-5-23 5:56:44 DIIs error 0.0296179019705\r\n",
      "T00 ERR ... 2025-5-23 5:56:44 Delta Etot -0.030698340932\r\n",
      "T00 ERR ... \r\n",
      "T00 ERR ... 2025-5-23 5:56:44 Iteration 5 of 100"
     ]
    },
    {
     "name": "stdout",
     "output_type": "stream",
     "text": [
      "\r\n",
      "T00 ERR ... 2025-5-23 5:56:44 Total Energy -40.2443303494\r\n",
      "T00 ERR ... 2025-5-23 5:56:44 DIIs error 0.0311897389336\r\n",
      "T00 ERR ... 2025-5-23 5:56:44 Delta Etot 0.000106146392739\r\n",
      "T00 ERR ... \r\n",
      "T00 ERR ... 2025-5-23 5:56:44 Iteration 6 of 100"
     ]
    },
    {
     "name": "stdout",
     "output_type": "stream",
     "text": [
      "\r\n",
      "T00 ERR ... 2025-5-23 5:56:44 Total Energy -40.2466841197\r\n",
      "T00 ERR ... 2025-5-23 5:56:44 DIIs error 0.000313148403247\r\n",
      "T00 ERR ... 2025-5-23 5:56:44 Delta Etot -0.00235377025965\r\n",
      "T00 ERR ... \r\n",
      "T00 ERR ... 2025-5-23 5:56:44 Iteration 7 of 100"
     ]
    },
    {
     "name": "stdout",
     "output_type": "stream",
     "text": [
      "\r\n",
      "T00 ERR ... 2025-5-23 5:56:44 Total Energy -40.246684365\r\n",
      "T00 ERR ... 2025-5-23 5:56:44 DIIs error 2.08661170774e-05\r\n",
      "T00 ERR ... 2025-5-23 5:56:44 Delta Etot -2.45316726932e-07\r\n",
      "T00 ERR ... \r\n",
      "T00 ERR ... 2025-5-23 5:56:44 Iteration 8 of 100"
     ]
    },
    {
     "name": "stdout",
     "output_type": "stream",
     "text": [
      "\r\n",
      "T00 ERR ... 2025-5-23 5:56:44 Total Energy -40.2466843652\r\n",
      "T00 ERR ... 2025-5-23 5:56:44 DIIs error 1.08473725186e-05\r\n",
      "T00 ERR ... 2025-5-23 5:56:44 Delta Etot -2.62843968812e-10\r\n",
      "T00 ERR ... \r\n",
      "T00 ERR ... 2025-5-23 5:56:44 Iteration 9 of 100"
     ]
    },
    {
     "name": "stdout",
     "output_type": "stream",
     "text": [
      "\r\n",
      "T00 ERR ... 2025-5-23 5:56:44 Total Energy -40.2466843657\r\n",
      "T00 ERR ... 2025-5-23 5:56:44 DIIs error 3.00657694022e-06\r\n",
      "T00 ERR ... 2025-5-23 5:56:44 Delta Etot -4.08824973874e-10\r\n",
      "T00 ERR ... \r\n",
      "T00 ERR ... 2025-5-23 5:56:44 Iteration 10 of 100"
     ]
    },
    {
     "name": "stdout",
     "output_type": "stream",
     "text": [
      "\r\n",
      "T00 ERR ... 2025-5-23 5:56:44 Total Energy -40.2466843657\r\n",
      "T00 ERR ... 2025-5-23 5:56:44 DIIs error 8.27926730509e-07\r\n",
      "T00 ERR ... 2025-5-23 5:56:44 Delta Etot -3.24362758874e-11\r\n",
      "T00 ERR ... \r\n",
      "T00 ERR ... 2025-5-23 5:56:44 Iteration 11 of 100"
     ]
    },
    {
     "name": "stdout",
     "output_type": "stream",
     "text": [
      "\r\n",
      "T00 ERR ... 2025-5-23 5:56:44 Total Energy -40.2466843657\r\n",
      "T00 ERR ... 2025-5-23 5:56:44 DIIs error 1.32047602705e-09\r\n",
      "T00 ERR ... 2025-5-23 5:56:44 Delta Etot -2.57216470345e-12\r\n",
      "T00 ERR ... 2025-5-23 5:56:44 Total Energy has converged to -2.5721647e-12[Ha] after 11 iterations. DIIS error is converged up to 1.32047603e-09\r\n",
      "T00 ERR ... 2025-5-23 5:56:44 Final Single Point Energy -40.2466843657 Ha\r\n",
      "T00 ERR ... 2025-5-23 5:56:44 Final Local Exc contribution -5.18438673299 Ha\r\n",
      "T00 ERR ... 2025-5-23 5:56:44 Final Non Local Ex contribution -1.6392907273 Ha\r\n",
      "T00 ERR ...   Orbital energies: \r\n",
      "T00 ERR ...   index occupation energy(Hartree) \r\n",
      "T00 ERR ...      0      2   -10.1492587942\r\n",
      "T00 ERR ...      1      2   -0.7136684224\r\n",
      "T00 ERR ...      2      2   -0.4033854200\r\n",
      "T00 ERR ...      3      2   -0.4027695136\r\n",
      "T00 ERR ...      4      2   -0.4015055683\r\n",
      "T00 ERR ...      5      0   +0.1600840534\r\n",
      "T00 ERR ...      6      0   +0.2040549413\r\n",
      "T00 ERR ...      7      0   +0.2064972623\r\n",
      "T00 ERR ...      8      0   +0.2070151279\r\n",
      "T00 ERR ...      9      0   +0.7225954352\r\n",
      "T00 ERR ...     10      0   +0.7238934025\r\n",
      "T00 ERR ...     11      0   +0.7260270156\r\n",
      "T00 ERR ...     12      0   +1.0546664564\r\n",
      "T00 ERR ...     13      0   +1.0858859499\r\n",
      "T00 ERR ...     14      0   +1.0885031086\r\n",
      "T00 ERR ...     15      0   +1.0894779289\r\n",
      "T00 ERR ...     16      0   +1.7107209314\r\n",
      "T00 ERR ... 2025-5-23 5:56:44 Electric Dipole is[e*bohr]:\r\n",
      "\t\t dx=0.00684943426445\r\n",
      "\t\t dy=0.00921442548642\r\n",
      "\t\t dz=-0.00812527464226\r\n",
      "T00 ERR ... Writing result to temp.orb\r\n",
      "T00 ERR ... 2025-5-23 5:56:44 DFT calculation took 1.653431987 seconds.\r\n",
      "T00 ERR ... 2025-5-23 5:56:44 Evaluating polarregion 1\r\n",
      "T00 ERR ... 2025-5-23 5:56:44 Evaluating interaction between polarregion 1 and qmregion 0"
     ]
    },
    {
     "name": "stdout",
     "output_type": "stream",
     "text": [
      "\r\n",
      "T00 ERR ... 2025-5-23 5:56:45 Evaluating interaction between polarregion 1 and staticregion 2\r\n",
      "T00 ERR ... 2025-5-23 5:56:45 Starting Solving for classical polarization with 1380 degrees of freedom.\r\n",
      "T00 ERR ... 2025-5-23 5:56:45 CG: #iterations: 0, estimated error: 1.8358951308e-05\r\n",
      "T00 ERR ...   Total static energy [hrt]= 0.0009102654542\r\n",
      "T00 ERR ...   Total polar energy [hrt]= -0.0006099814189\r\n",
      "T00 ERR ...  Total energy [hrt]= 0.0003002840353\r\n",
      "T00 ERR ... 2025-5-23 5:56:45 Evaluating staticregion 2\r\n",
      "T00 ERR ... 2025-5-23 5:56:45 Writing checkpoint to checkpoint_iter_3.hdf5"
     ]
    },
    {
     "name": "stdout",
     "output_type": "stream",
     "text": [
      "\r\n",
      "T00 ERR ...  Region:qmregion 0 is converged deltaE=-1.488956964e-05 RMS Dmat=2.039532387e-06 MaxDmat=1.056655171e-05\r\n",
      "T00 ERR ... 2025-5-23 5:56:45 Region:polarregion 1 is converged deltaE=2.832855105e-12\r\n",
      "T00 ERR ... 2025-5-23 5:56:45 --Total Energy all regions -40.24638408\r\n",
      "T00 ERR ... 2025-5-23 5:56:45 Job converged after 3 iterations.\r\n",
      "T00 ERR ... Reporting job results\r\n",
      "\r\n",
      "T00 ERR ... Requesting next job\r\n",
      "T00 ERR ... Next job: ID = 1\r\n",
      "T00 ERR ... Initial state: s1\r\n",
      "T00 ERR ... Using overlap filter with threshold 0.8"
     ]
    },
    {
     "name": "stdout",
     "output_type": "stream",
     "text": [
      "\r\n",
      "T00 ERR ...  Regions created\r\n",
      "T00 ERR ... Id: 0 type: qmregion size: 1 charge[e]= 0\r\n",
      "T00 ERR ... Id: 1 type: polarregion size: 92 charge[e]= -5.093148125e-15\r\n",
      "T00 ERR ... Id: 2 type: staticregion size: 178 charge[e]= -9.867107131e-15\r\n",
      "T00 ERR ... 2025-5-23 5:56:45 Writing jobtopology to QMMM/frame_0/job_1_Methane_0:s1/regions.pdb\r\n",
      "T00 ERR ... 2025-5-23 5:56:45 --Inter Region SCF Iteration 1 of 50\r\n",
      "T00 ERR ... 2025-5-23 5:56:45 Evaluating qmregion 0\r\n",
      "T00 ERR ... 2025-5-23 5:56:45 Evaluating interaction between qmregion 0 and polarregion 1\r\n",
      "T00 ERR ... 2025-5-23 5:56:45 Evaluating interaction between qmregion 0 and staticregion 2\r\n",
      "T00 ERR ... Running DFT calculation\r\n",
      "T00 ERR ... 2025-5-23 5:56:45 Using 2 threads\r\n",
      "T00 ERR ... 2025-5-23 5:56:45 Using native Eigen implementation, no BLAS overload \r\n",
      "T00 ERR ...  Molecule Coordinates [A] \r\n",
      "T00 ERR ...   C   +30.3000 +1.2704 +5.5205\r\n",
      "T00 ERR ...   H   +31.2392 +1.4802 +6.0301\r\n",
      "T00 ERR ...   H   +30.4910 +0.6554 +4.6433\r\n",
      "T00 ERR ...   H   +29.8500 +2.2100 +5.2100\r\n",
      "T00 ERR ...   H   +29.6200 +0.7500 +6.2000\r\n",
      "T00 ERR ... 2025-5-23 5:56:45 Loaded DFT Basis Set 3-21G with 17 functions\r\n",
      "T00 ERR ... 2025-5-23 5:56:45 Loaded AUX Basis Set aux-def2-svp with 104 functions\r\n",
      "T00 ERR ... 2025-5-23 5:56:45 Total number of electrons: 10\r\n",
      "T00 ERR ... 2025-5-23 5:56:45 Smallest value of AOOverlap matrix is 0.03364074275\r\n",
      "T00 ERR ... 2025-5-23 5:56:45 Removed 0 basisfunction from inverse overlap matrix\r\n",
      "T00 ERR ... 2025-5-23 5:56:45 Convergence Options:\r\n",
      "T00 ERR ... \t\t Delta E [Ha]: 1e-07\r\n",
      "T00 ERR ... \t\t DIIS max error: 1e-07\r\n",
      "T00 ERR ... \t\t DIIS histlength: 20\r\n",
      "T00 ERR ... \t\t ADIIS start: 0.8\r\n",
      "T00 ERR ... \t\t DIIS start: 0.002\r\n",
      "T00 ERR ... \t\t Deleting oldest element from DIIS hist\r\n",
      "T00 ERR ... \t\t Levelshift[Ha]: 0\r\n",
      "T00 ERR ... \t\t Levelshift end: 0.2\r\n",
      "T00 ERR ... \t\t Mixing Parameter alpha: 0.7\r\n",
      "T00 ERR ... 2025-5-23 5:56:45 Setup invariant parts of Electron Repulsion integrals \r\n",
      "T00 ERR ... 2025-5-23 5:56:45 Constructed independent particle hamiltonian \r\n",
      "T00 ERR ... 2025-5-23 5:56:45 Nuclear Repulsion Energy is 13.4434088\r\n",
      "T00 ERR ... 2025-5-23 5:56:45 1350 External sites\r\n",
      "T00 ERR ...  Name      Coordinates[a0]     charge[e]         dipole[e*a0]    \r\n",
      "T00 ERR ...   C   +63.8902 +7.9543 +11.0171   -0.3282   +0.0000 +0.0000 +0.0000\r\n",
      "T00 ERR ...   H   +62.3892 +6.5470 +10.9796   +0.0824   +0.0000 +0.0000 +0.0000\r\n",
      "T00 ERR ...   H   +65.3194 +7.4736 +9.6186   +0.0822   +0.0000 +0.0000 +0.0000\r\n",
      "T00 ERR ...   H   +63.1170 +9.8077 +10.6203   +0.0817   +0.0000 +0.0000 +0.0000\r\n",
      "T00 ERR ...   H   +64.7422 +7.9557 +12.9068   +0.0819   +0.0000 +0.0000 +0.0000\r\n",
      "T00 ERR ...   C   +63.9128 -0.3996 +22.8673   -0.3282   +0.0000 +0.0000 +0.0000\r\n",
      "T00 ERR ...   H   +63.0449 -1.1731 +21.1692   +0.0824   +0.0000 +0.0000 +0.0000\r\n",
      "T00 ERR ...   H   +62.7676 +1.1530 +23.5795   +0.0822   +0.0000 +0.0000 +0.0000\r\n",
      "T00 ERR ...   H   +64.0430 -1.8922 +24.2830   +0.0817   +0.0000 +0.0000 +0.0000\r\n",
      "T00 ERR ...   H   +65.8004 +0.2810 +22.4122   +0.0819   +0.0000 +0.0000 +0.0000\r\n",
      "T00 ERR ...   C   +61.7182 -0.4374 -3.3115   -0.3282   +0.0000 +0.0000 +0.0000\r\n",
      "T00 ERR ...   H   +60.6600 -1.0798 -4.9554   +0.0824   +0.0000 +0.0000 +0.0000\r\n",
      "T00 ERR ...   H   +63.3309 +0.6815 -3.9252   +0.0822   +0.0000 +0.0000 +0.0000\r\n",
      "T00 ERR ...   H   +62.3800 -2.0623 -2.2148   +0.0817   +0.0000 +0.0000 +0.0000\r\n",
      "T00 ERR ...   H   +60.5092 +0.7345 -2.1392   +0.0819   +0.0000 +0.0000 +0.0000\r\n",
      "T00 ERR ...   C   +62.0402 +12.7739 +4.5175   -0.3282   +0.0000 +0.0000 +0.0000\r\n",
      "T00 ERR ...   H   +60.1049 +13.3052 +4.0622   +0.0824   +0.0000 +0.0000 +0.0000\r\n",
      "T00 ERR ...   H   +62.0812 +11.8167 +6.3372   +0.0822   +0.0000 +0.0000 +0.0000\r\n",
      "T00 ERR ...   H   +63.2115 +14.4753 +4.6109   +0.0817   +0.0000 +0.0000 +0.0000\r\n",
      "T00 ERR ...   H   +62.7769 +11.5084 +3.0803   +0.0819   +0.0000 +0.0000 +0.0000\r\n",
      "T00 ERR ...   C   +60.6789 +14.3239 +12.6808   -0.3282   +0.0000 +0.0000 +0.0000\r\n",
      "T00 ERR ...   H   +61.0756 +13.9461 +10.6972   +0.0824   +0.0000 +0.0000 +0.0000\r\n",
      "T00 ERR ...   H   +61.0224 +16.3108 +13.0851   +0.0822   +0.0000 +0.0000 +0.0000\r\n",
      "T00 ERR ...   H   +58.7327 +13.8328 +13.0580   +0.0817   +0.0000 +0.0000 +0.0000\r\n",
      "T00 ERR ...   H   +61.9074 +13.1525 +13.8517   +0.0819   +0.0000 +0.0000 +0.0000\r\n",
      "T00 ERR ...   C   +68.7870 +4.1961 +17.9521   -0.3282   +0.0000 +0.0000 +0.0000\r\n",
      "T00 ERR ...   H   +68.2015 +2.4962 +18.9532   +0.0824   +0.0000 +0.0000 +0.0000\r\n",
      "T00 ERR ...   H   +67.2445 +4.8625 +16.7665   +0.0822   +0.0000 +0.0000 +0.0000\r\n",
      "T00 ERR ...   H   +70.4303 +3.7606 +16.7997   +0.0817   +0.0000 +0.0000 +0.0000\r\n",
      "T00 ERR ...   H   +69.2964 +5.6503 +19.3130   +0.0819   +0.0000 +0.0000 +0.0000\r\n",
      "T00 ERR ...   C   +54.0832 +4.4983 +27.1938   -0.3282   +0.0000 +0.0000 +0.0000\r\n",
      "T00 ERR ...   H   +53.5372 +6.4564 +27.5139   +0.0824   +0.0000 +0.0000 +0.0000\r\n",
      "T00 ERR ...   H   +52.9768 +3.2670 +28.4141   +0.0822   +0.0000 +0.0000 +0.0000\r\n",
      "T00 ERR ...   H   +53.7249 +4.0062 +25.2278   +0.0817   +0.0000 +0.0000 +0.0000\r\n",
      "T00 ERR ...   H   +56.0682 +4.2330 +27.6278   +0.0819   +0.0000 +0.0000 +0.0000\r\n",
      "T00 ERR ...   C   +63.8174 +6.3112 -1.0788   -0.3282   +0.0000 +0.0000 +0.0000\r\n",
      "T00 ERR ...   H   +65.2393 +6.4796 +0.3993   +0.0824   +0.0000 +0.0000 +0.0000\r\n",
      "T00 ERR ...   H   +62.4364 +4.8836 -0.5459   +0.0822   +0.0000 +0.0000 +0.0000\r\n",
      "T00 ERR ...   H   +64.7422 +5.7637 -2.8384   +0.0817   +0.0000 +0.0000 +0.0000\r\n",
      "T00 ERR ...   H   +62.8903 +8.1258 -1.3455   +0.0819   +0.0000 +0.0000 +0.0000\r\n",
      "T00 ERR ...   C   +64.1752 +19.2751 +7.8615   -0.3282   +0.0000 +0.0000 +0.0000\r\n",
      "T00 ERR ...   H   +62.9276 +19.0860 +6.2359   +0.0824   +0.0000 +0.0000 +0.0000\r\n",
      "T00 ERR ...   H   +63.4396 +18.1623 +9.4267   +0.0822   +0.0000 +0.0000 +0.0000\r\n",
      "T00 ERR ...   H   +66.0461 +18.6138 +7.3699   +0.0817   +0.0000 +0.0000 +0.0000\r\n",
      "T00 ERR ...   H   +64.2509 +21.2405 +8.4282   +0.0819   +0.0000 +0.0000 +0.0000\r\n",
      "T00 ERR ...   C   +61.3975 +17.7254 +18.4625   -0.3282   +0.0000 +0.0000 +0.0000\r\n",
      "T00 ERR ...   H   +60.9990 +19.0346 +16.9256   +0.0824   +0.0000 +0.0000 +0.0000\r\n",
      "T00 ERR ...   H   +61.0958 +18.6680 +20.2653   +0.0822   +0.0000 +0.0000 +0.0000\r\n",
      "T00 ERR ...   H   +60.1502 +16.1005 +18.3303   +0.0817   +0.0000 +0.0000 +0.0000\r\n",
      "T00 ERR ...   H   +63.3627 +17.1020 +18.3492   +0.0819   +0.0000 +0.0000 +0.0000\r\n",
      "T00 ERR ...               ... (1300 sites not displayed)\r\n"
     ]
    },
    {
     "name": "stdout",
     "output_type": "stream",
     "text": [
      "\r\n",
      "T00 ERR ... 2025-5-23 5:56:45 Filled DFT external multipole potential matrix\r\n",
      "T00 ERR ... 2025-5-23 5:56:45 Nuclei-external site interaction energy 0.0204347161\r\n",
      "T00 ERR ... 2025-5-23 5:56:45 Using hybrid functional with alpha=0.25"
     ]
    },
    {
     "name": "stdout",
     "output_type": "stream",
     "text": [
      "\r\n",
      "T00 ERR ... 2025-5-23 5:56:45 Setup numerical integration grid medium for vxc functional XC_HYB_GGA_XC_PBEH\r\n",
      "T00 ERR ... 2025-5-23 5:56:45 Setup Initial Guess using: atom\r\n",
      "T00 ERR ... 2025-5-23 5:56:45 Calculating atom density for C"
     ]
    },
    {
     "name": "stdout",
     "output_type": "stream",
     "text": [
      "\r\n",
      "T00 ERR ... 2025-5-23 5:56:46 Calculating atom density for H"
     ]
    },
    {
     "name": "stdout",
     "output_type": "stream",
     "text": [
      "\r\n",
      "T00 ERR ... 2025-5-23 5:56:46 STARTING SCF cycle\r\n",
      "T00 ERR ...  --------------------------------------------------------------------------\r\n",
      "T00 ERR ... \r\n",
      "T00 ERR ... 2025-5-23 5:56:46 Iteration 1 of 100"
     ]
    },
    {
     "name": "stdout",
     "output_type": "stream",
     "text": [
      "\r\n",
      "T00 ERR ... 2025-5-23 5:56:46 Total Energy -40.1570486273\r\n",
      "T00 ERR ... 2025-5-23 5:56:46 DIIs error 0.219689889334\r\n",
      "T00 ERR ... 2025-5-23 5:56:46 Delta Etot 0\r\n",
      "T00 ERR ... \r\n",
      "T00 ERR ... 2025-5-23 5:56:46 Iteration 2 of 100"
     ]
    },
    {
     "name": "stdout",
     "output_type": "stream",
     "text": [
      "\r\n",
      "T00 ERR ... 2025-5-23 5:56:46 Total Energy -40.1929958671\r\n",
      "T00 ERR ... 2025-5-23 5:56:46 DIIs error 0.128777833988\r\n",
      "T00 ERR ... 2025-5-23 5:56:46 Delta Etot -0.0359472398464\r\n",
      "T00 ERR ... \r\n",
      "T00 ERR ... 2025-5-23 5:56:46 Iteration 3 of 100"
     ]
    },
    {
     "name": "stdout",
     "output_type": "stream",
     "text": [
      "\r\n",
      "T00 ERR ... 2025-5-23 5:56:46 Total Energy -40.209483865\r\n",
      "T00 ERR ... 2025-5-23 5:56:46 DIIs error 0.0793411431108\r\n",
      "T00 ERR ... 2025-5-23 5:56:46 Delta Etot -0.016487997892\r\n",
      "T00 ERR ... \r\n",
      "T00 ERR ... 2025-5-23 5:56:46 Iteration 4 of 100"
     ]
    },
    {
     "name": "stdout",
     "output_type": "stream",
     "text": [
      "\r\n",
      "T00 ERR ... 2025-5-23 5:56:46 Total Energy -40.2401676261\r\n",
      "T00 ERR ... 2025-5-23 5:56:46 DIIs error 0.0296047735871\r\n",
      "T00 ERR ... 2025-5-23 5:56:46 Delta Etot -0.0306837610599\r\n",
      "T00 ERR ... \r\n",
      "T00 ERR ... 2025-5-23 5:56:46 Iteration 5 of 100"
     ]
    },
    {
     "name": "stdout",
     "output_type": "stream",
     "text": [
      "\r\n",
      "T00 ERR ... 2025-5-23 5:56:46 Total Energy -40.24006075\r\n",
      "T00 ERR ... 2025-5-23 5:56:46 DIIs error 0.0311802824608\r\n",
      "T00 ERR ... 2025-5-23 5:56:46 Delta Etot 0.00010687603767\r\n",
      "T00 ERR ... \r\n",
      "T00 ERR ... 2025-5-23 5:56:46 Iteration 6 of 100"
     ]
    },
    {
     "name": "stdout",
     "output_type": "stream",
     "text": [
      "\r\n",
      "T00 ERR ... 2025-5-23 5:56:46 Total Energy -40.2424135955\r\n",
      "T00 ERR ... 2025-5-23 5:56:46 DIIs error 0.000315586011571\r\n",
      "T00 ERR ... 2025-5-23 5:56:46 Delta Etot -0.00235284545872\r\n",
      "T00 ERR ... \r\n",
      "T00 ERR ... 2025-5-23 5:56:46 Iteration 7 of 100"
     ]
    },
    {
     "name": "stdout",
     "output_type": "stream",
     "text": [
      "\r\n",
      "T00 ERR ... 2025-5-23 5:56:46 Total Energy -40.2424138448\r\n",
      "T00 ERR ... 2025-5-23 5:56:46 DIIs error 2.0870028742e-05\r\n",
      "T00 ERR ... 2025-5-23 5:56:46 Delta Etot -2.49285470488e-07\r\n",
      "T00 ERR ... \r\n",
      "T00 ERR ... 2025-5-23 5:56:46 Iteration 8 of 100"
     ]
    },
    {
     "name": "stdout",
     "output_type": "stream",
     "text": [
      "\r\n",
      "T00 ERR ... 2025-5-23 5:56:46 Total Energy -40.242413845\r\n",
      "T00 ERR ... 2025-5-23 5:56:46 DIIs error 1.0855054381e-05\r\n",
      "T00 ERR ... 2025-5-23 5:56:46 Delta Etot -2.62268429196e-10\r\n",
      "T00 ERR ... \r\n",
      "T00 ERR ... 2025-5-23 5:56:46 Iteration 9 of 100"
     ]
    },
    {
     "name": "stdout",
     "output_type": "stream",
     "text": [
      "\r\n",
      "T00 ERR ... 2025-5-23 5:56:46 Total Energy -40.2424138454\r\n",
      "T00 ERR ... 2025-5-23 5:56:46 DIIs error 3.00317806134e-06\r\n",
      "T00 ERR ... 2025-5-23 5:56:46 Delta Etot -4.09649203448e-10\r\n",
      "T00 ERR ... \r\n",
      "T00 ERR ... 2025-5-23 5:56:46 Iteration 10 of 100"
     ]
    },
    {
     "name": "stdout",
     "output_type": "stream",
     "text": [
      "\r\n",
      "T00 ERR ... 2025-5-23 5:56:46 Total Energy -40.2424138455\r\n",
      "T00 ERR ... 2025-5-23 5:56:46 DIIs error 8.25971402268e-07\r\n",
      "T00 ERR ... 2025-5-23 5:56:46 Delta Etot -3.23439053318e-11\r\n",
      "T00 ERR ... \r\n",
      "T00 ERR ... 2025-5-23 5:56:46 Iteration 11 of 100"
     ]
    },
    {
     "name": "stdout",
     "output_type": "stream",
     "text": [
      "\r\n",
      "T00 ERR ... 2025-5-23 5:56:46 Total Energy -40.2424138455\r\n",
      "T00 ERR ... 2025-5-23 5:56:46 DIIs error 1.31691711013e-09\r\n",
      "T00 ERR ... 2025-5-23 5:56:46 Delta Etot -2.48689957516e-12\r\n",
      "T00 ERR ... 2025-5-23 5:56:46 Total Energy has converged to -2.48689958e-12[Ha] after 11 iterations. DIIS error is converged up to 1.31691711e-09\r\n",
      "T00 ERR ... 2025-5-23 5:56:46 Final Single Point Energy -40.2424138455 Ha\r\n",
      "T00 ERR ... 2025-5-23 5:56:46 Final Local Exc contribution -5.18435611699 Ha\r\n",
      "T00 ERR ... 2025-5-23 5:56:46 Final Non Local Ex contribution -1.63928269767 Ha\r\n",
      "T00 ERR ...   Orbital energies: \r\n",
      "T00 ERR ...   index occupation energy(Hartree) \r\n",
      "T00 ERR ...      0      2   -10.1489317519\r\n",
      "T00 ERR ...      1      2   -0.7132904411\r\n",
      "T00 ERR ...      2      2   -0.4030713273\r\n",
      "T00 ERR ...      3      2   -0.4023963806\r\n",
      "T00 ERR ...      4      2   -0.4011120794\r\n",
      "T00 ERR ...      5      0   +0.1603096275\r\n",
      "T00 ERR ...      6      0   +0.2042082497\r\n",
      "T00 ERR ...      7      0   +0.2067242788\r\n",
      "T00 ERR ...      8      0   +0.2073711844\r\n",
      "T00 ERR ...      9      0   +0.7230331626\r\n",
      "T00 ERR ...     10      0   +0.7243405880\r\n",
      "T00 ERR ...     11      0   +0.7264635791\r\n",
      "T00 ERR ...     12      0   +1.0550127626\r\n",
      "T00 ERR ...     13      0   +1.0860845419\r\n",
      "T00 ERR ...     14      0   +1.0887857975\r\n",
      "T00 ERR ...     15      0   +1.0898327458\r\n",
      "T00 ERR ...     16      0   +1.7110608067\r\n",
      "T00 ERR ... 2025-5-23 5:56:46 Electric Dipole is[e*bohr]:\r\n",
      "\t\t dx=0.00699744426816\r\n",
      "\t\t dy=0.00987002179594\r\n",
      "\t\t dz=-0.00920995433508\r\n",
      "T00 ERR ... Writing result to temp.orb\r\n",
      "T00 ERR ... 2025-5-23 5:56:46 DFT calculation took 1.657685986 seconds."
     ]
    },
    {
     "name": "stdout",
     "output_type": "stream",
     "text": [
      "\r\n",
      "T00 ERR ... 2025-5-23 5:56:46 RPA level range [0:16]\r\n",
      "T00 ERR ... 2025-5-23 5:56:46 GW  level range [0:16]\r\n",
      "T00 ERR ... 2025-5-23 5:56:46 BSE level range occ[0:4]  virt[5:16]\r\n",
      "T00 ERR ...  BSE type: full\r\n",
      "T00 ERR ... 2025-5-23 5:56:46 BSE Hamiltonian has size 120x120\r\n",
      "T00 ERR ...  BSE without Hqp offdiagonal elements\r\n",
      "T00 ERR ...  Running GW as: G0W0\r\n",
      "T00 ERR ...  qp_sc_limit [Hartree]: 1e-05\r\n",
      "T00 ERR ...  Tasks: \r\n",
      "T00 ERR ...  GW \r\n",
      "T00 ERR ...  singlets \r\n",
      "T00 ERR ...  triplets \r\n",
      "T00 ERR ...  Store: \r\n",
      "T00 ERR ...  GW \r\n",
      "T00 ERR ...  Sigma integration: ppm\r\n",
      "T00 ERR ...  eta: 0.001\r\n",
      "T00 ERR ...  QP solver: grid\r\n",
      "T00 ERR ...  QP grid steps: 1001\r\n",
      "T00 ERR ...  QP grid spacing: 0.001\r\n",
      "T00 ERR ... 2025-5-23 5:56:46 Using 2 threads\r\n",
      "T00 ERR ... 2025-5-23 5:56:46 Using native Eigen implementation, no BLAS overload \r\n",
      "T00 ERR ... 2025-5-23 5:56:46 Molecule Coordinates [A] \r\n",
      "T00 ERR ...     0    C   30.3000 1.2704 5.5205\r\n",
      "T00 ERR ...     1    H   31.2392 1.4802 6.0301\r\n",
      "T00 ERR ...     2    H   30.4910 0.6554 4.6433\r\n",
      "T00 ERR ...     3    H   29.8500 2.2100 5.2100\r\n",
      "T00 ERR ...     4    H   29.6200 0.7500 6.2000\r\n",
      "T00 ERR ... 2025-5-23 5:56:46 DFT data was created by xtp\r\n",
      "T00 ERR ... 2025-5-23 5:56:46 Loaded DFT Basis Set 3-21G\r\n",
      "T00 ERR ... 2025-5-23 5:56:46 Filled DFT Basis of size 17\r\n",
      "T00 ERR ... 2025-5-23 5:56:46 Loaded Auxbasis Set aux-def2-svp\r\n",
      "T00 ERR ... 2025-5-23 5:56:46 Filled Auxbasis of size 104\r\n",
      "T00 ERR ... 2025-5-23 5:56:46 Calculating Mmn_beta (3-center-repulsion x orbitals)  \r\n",
      "T00 ERR ... 2025-5-23 5:56:46 Calculated Mmn_beta (3-center-repulsion x orbitals)  \r\n",
      "T00 ERR ... 2025-5-23 5:56:46 Integrating Vxc with functional XC_HYB_GGA_XC_PBEH"
     ]
    },
    {
     "name": "stdout",
     "output_type": "stream",
     "text": [
      "\r\n",
      "T00 ERR ... 2025-5-23 5:56:46 Set hybrid exchange factor: 0.25\r\n",
      "T00 ERR ... 2025-5-23 5:56:46 Calculated exchange-correlation expectation values \r\n",
      "T00 ERR ... 2025-5-23 5:56:46 Calculated Hartree exchange contribution\r\n",
      "T00 ERR ... 2025-5-23 5:56:46 Scissor shifting DFT energies by: 0 Hrt\r\n",
      "T00 ERR ...   ====== Perturbative quasiparticle energies (Hartree) ====== \r\n",
      "T00 ERR ...    DeltaHLGap = +0.215366 Hartree\r\n",
      "T00 ERR ...   Level =    0 DFT = -10.1489 VXC = -1.7031 S-X = -2.6689 S-C = +0.5631 GWA = -10.5516\r\n",
      "T00 ERR ...   Level =    1 DFT = -0.7133 VXC = -0.4404 S-X = -0.6606 S-C = +0.1083 GWA = -0.8252\r\n",
      "T00 ERR ...   Level =    2 DFT = -0.4031 VXC = -0.3961 S-X = -0.5289 S-C = +0.0325 GWA = -0.5033\r\n",
      "T00 ERR ...   Level =    3 DFT = -0.4024 VXC = -0.3967 S-X = -0.5298 S-C = +0.0328 GWA = -0.5026\r\n",
      "T00 ERR ...   HOMO  =    4 DFT = -0.4011 VXC = -0.3967 S-X = -0.5297 S-C = +0.0327 GWA = -0.5013\r\n",
      "T00 ERR ...   LUMO  =    5 DFT = +0.1603 VXC = -0.2414 S-X = -0.1016 S-C = -0.0247 GWA = +0.2755\r\n",
      "T00 ERR ...   Level =    6 DFT = +0.2042 VXC = -0.2616 S-X = -0.1100 S-C = -0.0238 GWA = +0.3320\r\n",
      "T00 ERR ...   Level =    7 DFT = +0.2067 VXC = -0.2615 S-X = -0.1099 S-C = -0.0238 GWA = +0.3345\r\n",
      "T00 ERR ...   Level =    8 DFT = +0.2074 VXC = -0.2613 S-X = -0.1098 S-C = -0.0238 GWA = +0.3351\r\n",
      "T00 ERR ...   Level =    9 DFT = +0.7230 VXC = -0.3180 S-X = -0.1080 S-C = -0.0635 GWA = +0.8695\r\n",
      "T00 ERR ...   Level =   10 DFT = +0.7243 VXC = -0.3181 S-X = -0.1079 S-C = -0.0637 GWA = +0.8708\r\n",
      "T00 ERR ...   Level =   11 DFT = +0.7265 VXC = -0.3182 S-X = -0.1076 S-C = -0.0643 GWA = +0.8727\r\n",
      "T00 ERR ...   Level =   12 DFT = +1.0550 VXC = -0.4047 S-X = -0.1334 S-C = -0.0315 GWA = +1.2948\r\n",
      "T00 ERR ...   Level =   13 DFT = +1.0861 VXC = -0.3954 S-X = -0.1270 S-C = -0.1727 GWA = +1.1818\r\n",
      "T00 ERR ...   Level =   14 DFT = +1.0888 VXC = -0.3952 S-X = -0.1270 S-C = -0.1725 GWA = +1.1844\r\n",
      "T00 ERR ...   Level =   15 DFT = +1.0898 VXC = -0.3955 S-X = -0.1272 S-C = -0.1729 GWA = +1.1853\r\n",
      "T00 ERR ...   Level =   16 DFT = +1.7111 VXC = -0.3559 S-X = -0.1045 S-C = -0.0295 GWA = +1.9329\r\n",
      "T00 ERR ... 2025-5-23 5:56:47 Calculated offdiagonal part of Sigma  \r\n",
      "T00 ERR ... 2025-5-23 5:56:47 Full quasiparticle Hamiltonian  \r\n",
      "T00 ERR ...   ====== Diagonalized quasiparticle energies (Hartree) ====== \r\n",
      "T00 ERR ...   Level =    0 PQP = -10.551641 DQP = -10.551825 \r\n",
      "T00 ERR ...   Level =    1 PQP = -0.825202 DQP = -0.825580 \r\n",
      "T00 ERR ...   Level =    2 PQP = -0.503333 DQP = -0.503551 \r\n",
      "T00 ERR ...   Level =    3 PQP = -0.502605 DQP = -0.502816 \r\n",
      "T00 ERR ...   HOMO  =    4 PQP = -0.501296 DQP = -0.501526 \r\n",
      "T00 ERR ...   LUMO  =    5 PQP = +0.275492 DQP = +0.267593 \r\n",
      "T00 ERR ...   Level =    6 PQP = +0.331983 DQP = +0.330537 \r\n",
      "T00 ERR ...   Level =    7 PQP = +0.334470 DQP = +0.332640 \r\n",
      "T00 ERR ...   Level =    8 PQP = +0.335068 DQP = +0.333439 \r\n",
      "T00 ERR ...   Level =    9 PQP = +0.869488 DQP = +0.867410 \r\n",
      "T00 ERR ...   Level =   10 PQP = +0.870810 DQP = +0.868845 \r\n",
      "T00 ERR ...   Level =   11 PQP = +0.872736 DQP = +0.870820 \r\n",
      "T00 ERR ...   Level =   12 PQP = +1.294774 DQP = +1.185129 \r\n",
      "T00 ERR ...   Level =   13 PQP = +1.181776 DQP = +1.188054 \r\n",
      "T00 ERR ...   Level =   14 PQP = +1.184423 DQP = +1.189876 \r\n",
      "T00 ERR ...   Level =   15 PQP = +1.185290 DQP = +1.289399 \r\n",
      "T00 ERR ...   Level =   16 PQP = +1.932946 DQP = +1.946737 \r\n",
      "T00 ERR ... 2025-5-23 5:56:47 Diagonalized QP Hamiltonian  \r\n",
      "T00 ERR ... 2025-5-23 5:56:47 GW calculation took 0.119898533 seconds.\r\n",
      "T00 ERR ... 2025-5-23 5:56:47 Setup Full triplet hamiltonian \r\n",
      "T00 ERR ... 2025-5-23 5:56:47 Davidson Solver using 2 threads.\r\n",
      "T00 ERR ... 2025-5-23 5:56:47 Tolerance : 0.0001\r\n",
      "T00 ERR ... 2025-5-23 5:56:47 DPR Correction\r\n",
      "T00 ERR ... 2025-5-23 5:56:47 Matrix size : 120x120\r\n",
      "T00 ERR ... 2025-5-23 5:56:47 iter\tSearch Space\tNorm\r\n",
      "T00 ERR ... 2025-5-23 5:56:47    0           20 \t 1.31e-01 \t  0.00% converged\r\n",
      "T00 ERR ... 2025-5-23 5:56:47    1           35 \t 1.50e-02 \t  0.00% converged\r\n",
      "T00 ERR ... 2025-5-23 5:56:47    2           50 \t 8.18e-04 \t 20.00% converged"
     ]
    },
    {
     "name": "stdout",
     "output_type": "stream",
     "text": [
      "\r\n",
      "T00 ERR ... 2025-5-23 5:56:47    3           61 \t 7.36e-05 \t 100.00% converged\r\n",
      "T00 ERR ... 2025-5-23 5:56:47 Davidson converged after 3 iterations.\r\n",
      "T00 ERR ... 2025-5-23 5:56:47-----------------------------------\r\n",
      "T00 ERR ... 2025-5-23 5:56:47- Davidson ran for 0.007678319secs.\r\n",
      "T00 ERR ... 2025-5-23 5:56:47-----------------------------------\r\n",
      "T00 ERR ... 2025-5-23 5:56:47 Solved BSE for triplets \r\n",
      "T00 ERR ...   ====== triplet energies (eV) ====== \r\n",
      "T00 ERR ...   T =    1 Omega = +11.665683099751 eV  lamdba = +106.29 nm <FT> = +23.0868 <K_d> = -11.4212\r\n",
      "T00 ERR ...    \r\n",
      "T00 ERR ...   T =    2 Omega = +11.774993919844 eV  lamdba = +105.31 nm <FT> = +23.0191 <K_d> = -11.2441\r\n",
      "T00 ERR ...    \r\n",
      "T00 ERR ...   T =    3 Omega = +11.809072655189 eV  lamdba = +105.00 nm <FT> = +22.3312 <K_d> = -10.5221\r\n",
      "T00 ERR ...    \r\n",
      "T00 ERR ...   T =    4 Omega = +11.826313083827 eV  lamdba = +104.85 nm <FT> = +22.2631 <K_d> = -10.4368\r\n",
      "T00 ERR ...    \r\n",
      "T00 ERR ...   T =    5 Omega = +13.748833475304 eV  lamdba = +90.19 nm <FT> = +22.2967 <K_d> = -8.5479\r\n",
      "T00 ERR ...    \r\n",
      "T00 ERR ...   T =    6 Omega = +13.797778403066 eV  lamdba = +89.87 nm <FT> = +22.3234 <K_d> = -8.5257\r\n",
      "T00 ERR ...    \r\n",
      "T00 ERR ...   T =    7 Omega = +13.888802782736 eV  lamdba = +89.28 nm <FT> = +22.3631 <K_d> = -8.4743\r\n",
      "T00 ERR ...    \r\n",
      "T00 ERR ...   T =    8 Omega = +14.201880421716 eV  lamdba = +87.31 nm <FT> = +22.8286 <K_d> = -8.6267\r\n",
      "T00 ERR ...            HOMO-0   -> LUMO+1    : 53.2%\r\n",
      "T00 ERR ...    \r\n",
      "T00 ERR ...   T =    9 Omega = +14.219654864029 eV  lamdba = +87.20 nm <FT> = +22.8548 <K_d> = -8.6351\r\n",
      "T00 ERR ...    \r\n",
      "T00 ERR ...   T =   10 Omega = +14.350510850867 eV  lamdba = +86.41 nm <FT> = +22.8512 <K_d> = -8.5007\r\n",
      "T00 ERR ...    \r\n",
      "T00 ERR ... 2025-5-23 5:56:47 Setup Full singlet hamiltonian \r\n",
      "T00 ERR ... 2025-5-23 5:56:47 Davidson Solver using 2 threads.\r\n",
      "T00 ERR ... 2025-5-23 5:56:47 Tolerance : 0.0001\r\n",
      "T00 ERR ... 2025-5-23 5:56:47 DPR Correction\r\n",
      "T00 ERR ... 2025-5-23 5:56:47 Matrix size : 120x120\r\n",
      "T00 ERR ... 2025-5-23 5:56:47 iter\tSearch Space\tNorm\r\n",
      "T00 ERR ... 2025-5-23 5:56:47    0           20 \t 1.27e-01 \t  0.00% converged\r\n",
      "T00 ERR ... 2025-5-23 5:56:47    1           35 \t 1.28e-02 \t  0.00% converged\r\n",
      "T00 ERR ... 2025-5-23 5:56:47    2           50 \t 9.49e-04 \t 50.00% converged\r\n",
      "T00 ERR ... 2025-5-23 5:56:47    3           60 \t 3.43e-05 \t 100.00% converged\r\n",
      "T00 ERR ... 2025-5-23 5:56:47 Davidson converged after 3 iterations.\r\n",
      "T00 ERR ... 2025-5-23 5:56:47-----------------------------------\r\n",
      "T00 ERR ... 2025-5-23 5:56:47- Davidson ran for 0.008237061secs.\r\n",
      "T00 ERR ... 2025-5-23 5:56:47-----------------------------------\r\n",
      "T00 ERR ... 2025-5-23 5:56:47 Solved BSE for singlets \r\n",
      "T00 ERR ...   ====== singlet energies (eV) ====== \r\n",
      "T00 ERR ...   S =    1 Omega = +13.885549497865 eV  lamdba = +89.30 nm <FT> = +21.2565 <K_x> = +1.0501 <K_d> = -8.4211\r\n",
      "T00 ERR ...            TrDipole length gauge[e*bohr]  dx = +0.5170 dy = -0.4953 dz = +0.3960 |d|^2 = +0.6694 f = +0.2277\r\n",
      "T00 ERR ...            HOMO-0   -> LUMO+0    : 99.6%\r\n",
      "T00 ERR ... \r\n",
      "T00 ERR ...   S =    2 Omega = +13.922940673037 eV  lamdba = +89.06 nm <FT> = +21.2950 <K_x> = +1.0609 <K_d> = -8.4329\r\n",
      "T00 ERR ...            TrDipole length gauge[e*bohr]  dx = +0.2393 dy = +0.6283 dz = +0.4921 |d|^2 = +0.6942 f = +0.2368\r\n",
      "T00 ERR ...            HOMO-1   -> LUMO+0    : 99.4%\r\n",
      "T00 ERR ... \r\n",
      "T00 ERR ...   S =    3 Omega = +13.951056700180 eV  lamdba = +88.88 nm <FT> = +21.3243 <K_x> = +1.1321 <K_d> = -8.5054\r\n",
      "T00 ERR ...            TrDipole length gauge[e*bohr]  dx = +0.6421 dy = +0.2429 dz = -0.5842 |d|^2 = +0.8127 f = +0.2778\r\n",
      "T00 ERR ...            HOMO-2   -> LUMO+0    : 99.5%\r\n",
      "T00 ERR ... \r\n",
      "T00 ERR ...   S =    4 Omega = +14.588375602351 eV  lamdba = +85.00 nm <FT> = +22.7977 <K_x> = +0.2774 <K_d> = -8.4867\r\n",
      "T00 ERR ...            TrDipole length gauge[e*bohr]  dx = -0.1094 dy = +0.0315 dz = -0.0353 |d|^2 = +0.0142 f = +0.0051\r\n",
      "T00 ERR ...            HOMO-0   -> LUMO+1    : 58.7%\r\n",
      "T00 ERR ... \r\n",
      "T00 ERR ...   S =    5 Omega = +14.611884246660 eV  lamdba = +84.86 nm <FT> = +22.8232 <K_x> = +0.2741 <K_d> = -8.4854\r\n",
      "T00 ERR ...            TrDipole length gauge[e*bohr]  dx = +0.0014 dy = -0.0784 dz = -0.0871 |d|^2 = +0.0137 f = +0.0049\r\n",
      "T00 ERR ... \r\n",
      "T00 ERR ...   S =    6 Omega = +14.625393269086 eV  lamdba = +84.78 nm <FT> = +22.8467 <K_x> = +0.2585 <K_d> = -8.4797\r\n",
      "T00 ERR ...            TrDipole length gauge[e*bohr]  dx = +0.0126 dy = -0.0115 dz = -0.0046 |d|^2 = +0.0003 f = +0.0001\r\n",
      "T00 ERR ... \r\n",
      "T00 ERR ...   S =    7 Omega = +14.968897773936 eV  lamdba = +82.84 nm <FT> = +22.8328 <K_x> = +0.7085 <K_d> = -8.5725\r\n",
      "T00 ERR ...            TrDipole length gauge[e*bohr]  dx = +0.0255 dy = -0.0025 dz = +0.0434 |d|^2 = +0.0025 f = +0.0009\r\n",
      "T00 ERR ... \r\n",
      "T00 ERR ...   S =    8 Omega = +14.985587006346 eV  lamdba = +82.75 nm <FT> = +22.8504 <K_x> = +0.7057 <K_d> = -8.5705\r\n",
      "T00 ERR ...            TrDipole length gauge[e*bohr]  dx = -0.0094 dy = +0.0298 dz = +0.0090 |d|^2 = +0.0011 f = +0.0004\r\n",
      "T00 ERR ... \r\n",
      "T00 ERR ...   S =    9 Omega = +16.009228355999 eV  lamdba = +77.46 nm <FT> = +23.1898 <K_x> = +2.2410 <K_d> = -9.4215\r\n",
      "T00 ERR ...            TrDipole length gauge[e*bohr]  dx = +0.9436 dy = +0.9034 dz = -0.5293 |d|^2 = +1.9867 f = +0.7792\r\n",
      "T00 ERR ...            HOMO-2   -> LUMO+1    : 60.0%\r\n",
      "T00 ERR ... \r\n",
      "T00 ERR ...   S =   10 Omega = +16.024580356914 eV  lamdba = +77.38 nm <FT> = +23.2167 <K_x> = +2.3086 <K_d> = -9.5007\r\n",
      "T00 ERR ...            TrDipole length gauge[e*bohr]  dx = -1.0479 dy = +0.9550 dz = -0.2603 |d|^2 = +2.0780 f = +0.8158\r\n",
      "T00 ERR ... \r\n",
      "T00 ERR ... 2025-5-23 5:56:47 BSE calculation took 0.018279519 seconds.\r\n",
      "T00 ERR ... 2025-5-23 5:56:47 GWBSE calculation finished \r\n",
      "T00 ERR ... Filter overlap not used in first iteration as it needs a reference state\r\n",
      "T00 ERR ... No State found by tracker using last state: s1\r\n",
      "T00 ERR ... 2025-5-23 5:56:47 Evaluating polarregion 1\r\n",
      "T00 ERR ... 2025-5-23 5:56:47 Evaluating interaction between polarregion 1 and qmregion 0\r\n",
      "T00 ERR ... Next State is: s1"
     ]
    },
    {
     "name": "stdout",
     "output_type": "stream",
     "text": [
      "\r\n",
      "T00 ERR ... 2025-5-23 5:56:47 Evaluating interaction between polarregion 1 and staticregion 2\r\n",
      "T00 ERR ... 2025-5-23 5:56:47 Starting Solving for classical polarization with 1380 degrees of freedom."
     ]
    },
    {
     "name": "stdout",
     "output_type": "stream",
     "text": [
      "\r\n",
      "T00 ERR ... 2025-5-23 5:56:47 CG: #iterations: 6, estimated error: 2.1616342707e-05\r\n",
      "T00 ERR ...   Total static energy [hrt]= 0.0009102654542\r\n",
      "T00 ERR ...   Total polar energy [hrt]= 0.0001193903899\r\n",
      "T00 ERR ...  Total energy [hrt]= 0.001029655844\r\n",
      "T00 ERR ... 2025-5-23 5:56:47 Evaluating staticregion 2\r\n",
      "T00 ERR ... 2025-5-23 5:56:47 Writing checkpoint to checkpoint_iter_1.hdf5"
     ]
    },
    {
     "name": "stdout",
     "output_type": "stream",
     "text": [
      "\r\n",
      "T00 ERR ...  Region:qmregion 0 is not converged deltaE=-39.73212931 RMS Dmat=0.5787798587 MaxDmat=6.406590116\r\n",
      "T00 ERR ... 2025-5-23 5:56:47 Region:polarregion 1 is not converged deltaE=0.001029655844\r\n",
      "T00 ERR ... 2025-5-23 5:56:47 --Total Energy all regions -39.73109965\r\n",
      "T00 ERR ... 2025-5-23 5:56:47 --Inter Region SCF Iteration 2 of 50\r\n",
      "T00 ERR ... 2025-5-23 5:56:47 Evaluating qmregion 0\r\n",
      "T00 ERR ... 2025-5-23 5:56:47 Evaluating interaction between qmregion 0 and polarregion 1\r\n",
      "T00 ERR ... 2025-5-23 5:56:47 Evaluating interaction between qmregion 0 and staticregion 2\r\n",
      "T00 ERR ... Running DFT calculation\r\n",
      "T00 ERR ... 2025-5-23 5:56:47 Using 2 threads\r\n",
      "T00 ERR ... 2025-5-23 5:56:47 Using native Eigen implementation, no BLAS overload \r\n",
      "T00 ERR ...  Molecule Coordinates [A] \r\n",
      "T00 ERR ...   C   +30.3000 +1.2704 +5.5205\r\n",
      "T00 ERR ...   H   +31.2392 +1.4802 +6.0301\r\n",
      "T00 ERR ...   H   +30.4910 +0.6554 +4.6433\r\n",
      "T00 ERR ...   H   +29.8500 +2.2100 +5.2100\r\n",
      "T00 ERR ...   H   +29.6200 +0.7500 +6.2000\r\n",
      "T00 ERR ... 2025-5-23 5:56:47 Loaded DFT Basis Set 3-21G with 17 functions\r\n",
      "T00 ERR ... 2025-5-23 5:56:47 Loaded AUX Basis Set aux-def2-svp with 104 functions\r\n",
      "T00 ERR ... 2025-5-23 5:56:47 Total number of electrons: 10\r\n",
      "T00 ERR ... 2025-5-23 5:56:47 Smallest value of AOOverlap matrix is 0.03364074275\r\n",
      "T00 ERR ... 2025-5-23 5:56:47 Removed 0 basisfunction from inverse overlap matrix\r\n",
      "T00 ERR ... 2025-5-23 5:56:47 Convergence Options:\r\n",
      "T00 ERR ... \t\t Delta E [Ha]: 1e-07\r\n",
      "T00 ERR ... \t\t DIIS max error: 1e-07\r\n",
      "T00 ERR ... \t\t DIIS histlength: 20\r\n",
      "T00 ERR ... \t\t ADIIS start: 0.8\r\n",
      "T00 ERR ... \t\t DIIS start: 0.002\r\n",
      "T00 ERR ... \t\t Deleting oldest element from DIIS hist\r\n",
      "T00 ERR ... \t\t Levelshift[Ha]: 0\r\n",
      "T00 ERR ... \t\t Levelshift end: 0.2\r\n",
      "T00 ERR ... \t\t Mixing Parameter alpha: 0.7\r\n",
      "T00 ERR ... 2025-5-23 5:56:47 Setup invariant parts of Electron Repulsion integrals \r\n",
      "T00 ERR ... 2025-5-23 5:56:47 Constructed independent particle hamiltonian \r\n",
      "T00 ERR ... 2025-5-23 5:56:47 Nuclear Repulsion Energy is 13.4434088\r\n",
      "T00 ERR ... 2025-5-23 5:56:47 1350 External sites\r\n",
      "T00 ERR ...  Name      Coordinates[a0]     charge[e]         dipole[e*a0]    \r\n",
      "T00 ERR ...   C   +63.8902 +7.9543 +11.0171   -0.3282   +0.0058 -0.0022 -0.0061\r\n",
      "T00 ERR ...   H   +62.3892 +6.5470 +10.9796   +0.0824   +0.0056 -0.0018 +0.0008\r\n",
      "T00 ERR ...   H   +65.3194 +7.4736 +9.6186   +0.0822   +0.0027 -0.0011 -0.0015\r\n",
      "T00 ERR ...   H   +63.1170 +9.8077 +10.6203   +0.0817   +0.0015 -0.0001 +0.0012\r\n",
      "T00 ERR ...   H   +64.7422 +7.9557 +12.9068   +0.0819   +0.0035 +0.0028 -0.0017\r\n",
      "T00 ERR ...   C   +63.9128 -0.3996 +22.8673   -0.3282   -0.0024 +0.0020 +0.0047\r\n",
      "T00 ERR ...   H   +63.0449 -1.1731 +21.1692   +0.0824   +0.0003 -0.0001 +0.0013\r\n",
      "T00 ERR ...   H   +62.7676 +1.1530 +23.5795   +0.0822   -0.0013 +0.0050 +0.0020\r\n",
      "T00 ERR ...   H   +64.0430 -1.8922 +24.2830   +0.0817   +0.0011 -0.0001 -0.0010\r\n",
      "T00 ERR ...   H   +65.8004 +0.2810 +22.4122   +0.0819   -0.0034 -0.0007 +0.0014\r\n",
      "T00 ERR ...   C   +61.7182 -0.4374 -3.3115   -0.3282   +0.0001 -0.0015 +0.0011\r\n",
      "T00 ERR ...   H   +60.6600 -1.0798 -4.9554   +0.0824   +0.0012 +0.0015 +0.0013\r\n",
      "T00 ERR ...   H   +63.3309 +0.6815 -3.9252   +0.0822   -0.0012 -0.0017 -0.0005\r\n",
      "T00 ERR ...   H   +62.3800 -2.0623 -2.2148   +0.0817   +0.0011 -0.0017 +0.0013\r\n",
      "T00 ERR ...   H   +60.5092 +0.7345 -2.1392   +0.0819   -0.0025 -0.0034 -0.0018\r\n",
      "T00 ERR ...   C   +62.0402 +12.7739 +4.5175   -0.3282   +0.0026 -0.0001 +0.0023\r\n",
      "T00 ERR ...   H   +60.1049 +13.3052 +4.0622   +0.0824   +0.0003 -0.0015 -0.0007\r\n",
      "T00 ERR ...   H   +62.0812 +11.8167 +6.3372   +0.0822   +0.0005 -0.0026 -0.0011\r\n",
      "T00 ERR ...   H   +63.2115 +14.4753 +4.6109   +0.0817   +0.0027 +0.0020 +0.0014\r\n",
      "T00 ERR ...   H   +62.7769 +11.5084 +3.0803   +0.0819   -0.0003 -0.0010 +0.0009\r\n",
      "T00 ERR ...   C   +60.6789 +14.3239 +12.6808   -0.3282   -0.0018 +0.0020 +0.0011\r\n",
      "T00 ERR ...   H   +61.0756 +13.9461 +10.6972   +0.0824   -0.0037 +0.0035 -0.0005\r\n",
      "T00 ERR ...   H   +61.0224 +16.3108 +13.0851   +0.0822   -0.0001 +0.0002 +0.0032\r\n",
      "T00 ERR ...   H   +58.7327 +13.8328 +13.0580   +0.0817   +0.0008 -0.0006 +0.0001\r\n",
      "T00 ERR ...   H   +61.9074 +13.1525 +13.8517   +0.0819   -0.0006 -0.0010 +0.0034\r\n",
      "T00 ERR ...   C   +68.7870 +4.1961 +17.9521   -0.3282   +0.0042 +0.0005 +0.0056\r\n",
      "T00 ERR ...   H   +68.2015 +2.4962 +18.9532   +0.0824   +0.0000 -0.0003 -0.0016\r\n",
      "T00 ERR ...   H   +67.2445 +4.8625 +16.7665   +0.0822   +0.0008 -0.0030 +0.0023\r\n",
      "T00 ERR ...   H   +70.4303 +3.7606 +16.7997   +0.0817   -0.0009 +0.0011 +0.0003\r\n",
      "T00 ERR ...   H   +69.2964 +5.6503 +19.3130   +0.0819   +0.0010 +0.0008 +0.0052\r\n",
      "T00 ERR ...   C   +54.0832 +4.4983 +27.1938   -0.3282   -0.0004 -0.0022 -0.0010\r\n",
      "T00 ERR ...   H   +53.5372 +6.4564 +27.5139   +0.0824   -0.0011 -0.0013 +0.0003\r\n",
      "T00 ERR ...   H   +52.9768 +3.2670 +28.4141   +0.0822   -0.0007 -0.0013 +0.0003\r\n",
      "T00 ERR ...   H   +53.7249 +4.0062 +25.2278   +0.0817   +0.0022 -0.0006 +0.0005\r\n",
      "T00 ERR ...   H   +56.0682 +4.2330 +27.6278   +0.0819   -0.0030 +0.0015 -0.0015\r\n",
      "T00 ERR ...   C   +63.8174 +6.3112 -1.0788   -0.3282   -0.0006 -0.0003 +0.0002\r\n",
      "T00 ERR ...   H   +65.2393 +6.4796 +0.3993   +0.0824   -0.0003 -0.0010 +0.0017\r\n",
      "T00 ERR ...   H   +62.4364 +4.8836 -0.5459   +0.0822   +0.0021 +0.0010 -0.0005\r\n",
      "T00 ERR ...   H   +64.7422 +5.7637 -2.8384   +0.0817   -0.0005 +0.0028 +0.0004\r\n",
      "T00 ERR ...   H   +62.8903 +8.1258 -1.3455   +0.0819   -0.0005 -0.0016 -0.0035\r\n",
      "T00 ERR ...   C   +64.1752 +19.2751 +7.8615   -0.3282   +0.0049 -0.0004 +0.0007\r\n",
      "T00 ERR ...   H   +62.9276 +19.0860 +6.2359   +0.0824   -0.0011 +0.0003 +0.0022\r\n",
      "T00 ERR ...   H   +63.4396 +18.1623 +9.4267   +0.0822   +0.0012 -0.0004 -0.0002\r\n",
      "T00 ERR ...   H   +66.0461 +18.6138 +7.3699   +0.0817   +0.0012 -0.0011 -0.0000\r\n",
      "T00 ERR ...   H   +64.2509 +21.2405 +8.4282   +0.0819   +0.0017 +0.0006 -0.0004\r\n",
      "T00 ERR ...   C   +61.3975 +17.7254 +18.4625   -0.3282   +0.0022 -0.0005 +0.0022\r\n",
      "T00 ERR ...   H   +60.9990 +19.0346 +16.9256   +0.0824   -0.0003 +0.0011 +0.0001\r\n",
      "T00 ERR ...   H   +61.0958 +18.6680 +20.2653   +0.0822   +0.0002 -0.0000 +0.0001\r\n",
      "T00 ERR ...   H   +60.1502 +16.1005 +18.3303   +0.0817   +0.0029 +0.0004 -0.0008\r\n",
      "T00 ERR ...   H   +63.3627 +17.1020 +18.3492   +0.0819   -0.0013 -0.0006 +0.0013\r\n",
      "T00 ERR ...               ... (1300 sites not displayed)\r\n"
     ]
    },
    {
     "name": "stdout",
     "output_type": "stream",
     "text": [
      "\r\n",
      "T00 ERR ... 2025-5-23 5:56:47 Filled DFT external multipole potential matrix\r\n",
      "T00 ERR ... 2025-5-23 5:56:47 Nuclei-external site interaction energy 0.0204347161\r\n",
      "T00 ERR ... 2025-5-23 5:56:47 Using hybrid functional with alpha=0.25"
     ]
    },
    {
     "name": "stdout",
     "output_type": "stream",
     "text": [
      "\r\n",
      "T00 ERR ... 2025-5-23 5:56:47 Setup numerical integration grid medium for vxc functional XC_HYB_GGA_XC_PBEH\r\n",
      "T00 ERR ... 2025-5-23 5:56:47 Setup Initial Guess using: atom\r\n",
      "T00 ERR ... 2025-5-23 5:56:47 Calculating atom density for C"
     ]
    },
    {
     "name": "stdout",
     "output_type": "stream",
     "text": [
      "\r\n",
      "T00 ERR ... 2025-5-23 5:56:48 Calculating atom density for H"
     ]
    },
    {
     "name": "stdout",
     "output_type": "stream",
     "text": [
      "\r\n",
      "T00 ERR ... 2025-5-23 5:56:48 STARTING SCF cycle\r\n",
      "T00 ERR ...  --------------------------------------------------------------------------\r\n",
      "T00 ERR ... \r\n",
      "T00 ERR ... 2025-5-23 5:56:48 Iteration 1 of 100"
     ]
    },
    {
     "name": "stdout",
     "output_type": "stream",
     "text": [
      "\r\n",
      "T00 ERR ... 2025-5-23 5:56:48 Total Energy -40.14677432\r\n",
      "T00 ERR ... 2025-5-23 5:56:48 DIIs error 0.219658442692\r\n",
      "T00 ERR ... 2025-5-23 5:56:48 Delta Etot 0\r\n",
      "T00 ERR ... \r\n",
      "T00 ERR ... 2025-5-23 5:56:48 Iteration 2 of 100"
     ]
    },
    {
     "name": "stdout",
     "output_type": "stream",
     "text": [
      "\r\n",
      "T00 ERR ... 2025-5-23 5:56:48 Total Energy -40.1826940559\r\n",
      "T00 ERR ... 2025-5-23 5:56:48 DIIs error 0.128764565669\r\n",
      "T00 ERR ... 2025-5-23 5:56:48 Delta Etot -0.0359197359127\r\n",
      "T00 ERR ... \r\n",
      "T00 ERR ... 2025-5-23 5:56:48 Iteration 3 of 100"
     ]
    },
    {
     "name": "stdout",
     "output_type": "stream",
     "text": [
      "\r\n",
      "T00 ERR ... 2025-5-23 5:56:48 Total Energy -40.1991688244\r\n",
      "T00 ERR ... 2025-5-23 5:56:48 DIIs error 0.079338018363\r\n",
      "T00 ERR ... 2025-5-23 5:56:48 Delta Etot -0.0164747684455\r\n",
      "T00 ERR ... \r\n",
      "T00 ERR ... 2025-5-23 5:56:48 Iteration 4 of 100"
     ]
    },
    {
     "name": "stdout",
     "output_type": "stream",
     "text": [
      "\r\n",
      "T00 ERR ... 2025-5-23 5:56:48 Total Energy -40.2298305277\r\n",
      "T00 ERR ... 2025-5-23 5:56:48 DIIs error 0.0296198858708\r\n",
      "T00 ERR ... 2025-5-23 5:56:48 Delta Etot -0.030661703319\r\n",
      "T00 ERR ... \r\n",
      "T00 ERR ... 2025-5-23 5:56:48 Iteration 5 of 100"
     ]
    },
    {
     "name": "stdout",
     "output_type": "stream",
     "text": [
      "\r\n",
      "T00 ERR ... 2025-5-23 5:56:48 Total Energy -40.2297226299\r\n",
      "T00 ERR ... 2025-5-23 5:56:48 DIIs error 0.0311999755746\r\n",
      "T00 ERR ... 2025-5-23 5:56:48 Delta Etot 0.000107897781916\r\n",
      "T00 ERR ... \r\n",
      "T00 ERR ... 2025-5-23 5:56:48 Iteration 6 of 100"
     ]
    },
    {
     "name": "stdout",
     "output_type": "stream",
     "text": [
      "\r\n",
      "T00 ERR ... 2025-5-23 5:56:48 Total Energy -40.232074057\r\n",
      "T00 ERR ... 2025-5-23 5:56:48 DIIs error 0.000319005894136\r\n",
      "T00 ERR ... 2025-5-23 5:56:48 Delta Etot -0.00235142707855\r\n",
      "T00 ERR ... \r\n",
      "T00 ERR ... 2025-5-23 5:56:48 Iteration 7 of 100"
     ]
    },
    {
     "name": "stdout",
     "output_type": "stream",
     "text": [
      "\r\n",
      "T00 ERR ... 2025-5-23 5:56:48 Total Energy -40.2320743119\r\n",
      "T00 ERR ... 2025-5-23 5:56:48 DIIs error 2.08042244103e-05\r\n",
      "T00 ERR ... 2025-5-23 5:56:48 Delta Etot -2.5491745248e-07\r\n",
      "T00 ERR ... \r\n",
      "T00 ERR ... 2025-5-23 5:56:48 Iteration 8 of 100"
     ]
    },
    {
     "name": "stdout",
     "output_type": "stream",
     "text": [
      "\r\n",
      "T00 ERR ... 2025-5-23 5:56:48 Total Energy -40.2320743122\r\n",
      "T00 ERR ... 2025-5-23 5:56:48 DIIs error 1.08535260618e-05\r\n",
      "T00 ERR ... 2025-5-23 5:56:48 Delta Etot -2.55006682437e-10\r\n",
      "T00 ERR ... \r\n",
      "T00 ERR ... 2025-5-23 5:56:48 Iteration 9 of 100"
     ]
    },
    {
     "name": "stdout",
     "output_type": "stream",
     "text": [
      "\r\n",
      "T00 ERR ... 2025-5-23 5:56:48 Total Energy -40.2320743126\r\n",
      "T00 ERR ... 2025-5-23 5:56:48 DIIs error 3.02455664058e-06\r\n",
      "T00 ERR ... 2025-5-23 5:56:48 Delta Etot -4.09173139815e-10\r\n",
      "T00 ERR ... \r\n",
      "T00 ERR ... 2025-5-23 5:56:48 Iteration 10 of 100"
     ]
    },
    {
     "name": "stdout",
     "output_type": "stream",
     "text": [
      "\r\n",
      "T00 ERR ... 2025-5-23 5:56:49 Total Energy -40.2320743126\r\n",
      "T00 ERR ... 2025-5-23 5:56:49 DIIs error 8.29597285046e-07\r\n",
      "T00 ERR ... 2025-5-23 5:56:49 Delta Etot -3.27418092638e-11\r\n",
      "T00 ERR ... \r\n",
      "T00 ERR ... 2025-5-23 5:56:49 Iteration 11 of 100"
     ]
    },
    {
     "name": "stdout",
     "output_type": "stream",
     "text": [
      "\r\n",
      "T00 ERR ... 2025-5-23 5:56:49 Total Energy -40.2320743126\r\n",
      "T00 ERR ... 2025-5-23 5:56:49 DIIs error 1.36678621891e-09\r\n",
      "T00 ERR ... 2025-5-23 5:56:49 Delta Etot -2.57927013081e-12\r\n",
      "T00 ERR ... 2025-5-23 5:56:49 Total Energy has converged to -2.57927013e-12[Ha] after 11 iterations. DIIS error is converged up to 1.36678622e-09\r\n",
      "T00 ERR ... 2025-5-23 5:56:49 Final Single Point Energy -40.2320743126 Ha\r\n",
      "T00 ERR ... 2025-5-23 5:56:49 Final Local Exc contribution -5.1843025672 Ha\r\n",
      "T00 ERR ... 2025-5-23 5:56:49 Final Non Local Ex contribution -1.63926814108 Ha\r\n",
      "T00 ERR ...   Orbital energies: \r\n",
      "T00 ERR ...   index occupation energy(Hartree) \r\n",
      "T00 ERR ...      0      2   -10.1480530314\r\n",
      "T00 ERR ...      1      2   -0.7123317703\r\n",
      "T00 ERR ...      2      2   -0.4027758119\r\n",
      "T00 ERR ...      3      2   -0.4015734309\r\n",
      "T00 ERR ...      4      2   -0.3994523933\r\n",
      "T00 ERR ...      5      0   +0.1608149811\r\n",
      "T00 ERR ...      6      0   +0.2036688761\r\n",
      "T00 ERR ...      7      0   +0.2075639736\r\n",
      "T00 ERR ...      8      0   +0.2096881079\r\n",
      "T00 ERR ...      9      0   +0.7240276991\r\n",
      "T00 ERR ...     10      0   +0.7252856337\r\n",
      "T00 ERR ...     11      0   +0.7276691092\r\n",
      "T00 ERR ...     12      0   +1.0556849017\r\n",
      "T00 ERR ...     13      0   +1.0858931281\r\n",
      "T00 ERR ...     14      0   +1.0898638092\r\n",
      "T00 ERR ...     15      0   +1.0916778626\r\n",
      "T00 ERR ...     16      0   +1.7119905785\r\n",
      "T00 ERR ... 2025-5-23 5:56:49 Electric Dipole is[e*bohr]:\r\n",
      "\t\t dx=0.0112734632172\r\n",
      "\t\t dy=0.029009196791\r\n",
      "\t\t dz=-0.0123141534078\r\n",
      "T00 ERR ... Writing result to temp.orb\r\n",
      "T00 ERR ... 2025-5-23 5:56:49 DFT calculation took 1.659511999 seconds.\r\n",
      "T00 ERR ... 2025-5-23 5:56:49 RPA level range [0:16]\r\n",
      "T00 ERR ... 2025-5-23 5:56:49 GW  level range [0:16]\r\n",
      "T00 ERR ... 2025-5-23 5:56:49 BSE level range occ[0:4]  virt[5:16]\r\n",
      "T00 ERR ...  BSE type: full\r\n",
      "T00 ERR ... 2025-5-23 5:56:49 BSE Hamiltonian has size 120x120\r\n",
      "T00 ERR ...  BSE without Hqp offdiagonal elements\r\n",
      "T00 ERR ...  Running GW as: G0W0\r\n",
      "T00 ERR ...  qp_sc_limit [Hartree]: 1e-05\r\n",
      "T00 ERR ...  Tasks: \r\n",
      "T00 ERR ...  GW \r\n",
      "T00 ERR ...  singlets \r\n",
      "T00 ERR ...  triplets \r\n",
      "T00 ERR ...  Store: \r\n",
      "T00 ERR ...  GW \r\n",
      "T00 ERR ...  Sigma integration: ppm\r\n",
      "T00 ERR ...  eta: 0.001\r\n",
      "T00 ERR ...  QP solver: grid\r\n",
      "T00 ERR ...  QP grid steps: 1001\r\n",
      "T00 ERR ...  QP grid spacing: 0.001\r\n",
      "T00 ERR ... 2025-5-23 5:56:49 Using 2 threads\r\n",
      "T00 ERR ... 2025-5-23 5:56:49 Using native Eigen implementation, no BLAS overload \r\n",
      "T00 ERR ... 2025-5-23 5:56:49 Molecule Coordinates [A] \r\n",
      "T00 ERR ...     0    C   30.3000 1.2704 5.5205\r\n",
      "T00 ERR ...     1    H   31.2392 1.4802 6.0301\r\n",
      "T00 ERR ...     2    H   30.4910 0.6554 4.6433\r\n",
      "T00 ERR ...     3    H   29.8500 2.2100 5.2100\r\n",
      "T00 ERR ...     4    H   29.6200 0.7500 6.2000\r\n",
      "T00 ERR ... 2025-5-23 5:56:49 DFT data was created by xtp\r\n",
      "T00 ERR ... 2025-5-23 5:56:49 Loaded DFT Basis Set 3-21G\r\n",
      "T00 ERR ... 2025-5-23 5:56:49 Filled DFT Basis of size 17\r\n",
      "T00 ERR ... 2025-5-23 5:56:49 Loaded Auxbasis Set aux-def2-svp\r\n",
      "T00 ERR ... 2025-5-23 5:56:49 Filled Auxbasis of size 104\r\n",
      "T00 ERR ... 2025-5-23 5:56:49 Calculating Mmn_beta (3-center-repulsion x orbitals)  \r\n",
      "T00 ERR ... 2025-5-23 5:56:49 Calculated Mmn_beta (3-center-repulsion x orbitals)  \r\n",
      "T00 ERR ... 2025-5-23 5:56:49 Integrating Vxc with functional XC_HYB_GGA_XC_PBEH"
     ]
    },
    {
     "name": "stdout",
     "output_type": "stream",
     "text": [
      "\r\n",
      "T00 ERR ... 2025-5-23 5:56:49 Set hybrid exchange factor: 0.25\r\n",
      "T00 ERR ... 2025-5-23 5:56:49 Calculated exchange-correlation expectation values \r\n",
      "T00 ERR ... 2025-5-23 5:56:49 Calculated Hartree exchange contribution\r\n",
      "T00 ERR ... 2025-5-23 5:56:49 Scissor shifting DFT energies by: 0 Hrt\r\n",
      "T00 ERR ...   ====== Perturbative quasiparticle energies (Hartree) ====== \r\n",
      "T00 ERR ...    DeltaHLGap = +0.215441 Hartree\r\n",
      "T00 ERR ...   Level =    0 DFT = -10.1481 VXC = -1.7031 S-X = -2.6689 S-C = +0.5631 GWA = -10.5507\r\n",
      "T00 ERR ...   Level =    1 DFT = -0.7123 VXC = -0.4404 S-X = -0.6606 S-C = +0.1083 GWA = -0.8242\r\n",
      "T00 ERR ...   Level =    2 DFT = -0.4028 VXC = -0.3960 S-X = -0.5287 S-C = +0.0325 GWA = -0.5031\r\n",
      "T00 ERR ...   Level =    3 DFT = -0.4016 VXC = -0.3967 S-X = -0.5297 S-C = +0.0328 GWA = -0.5018\r\n",
      "T00 ERR ...   HOMO  =    4 DFT = -0.3995 VXC = -0.3969 S-X = -0.5299 S-C = +0.0329 GWA = -0.4996\r\n",
      "T00 ERR ...   LUMO  =    5 DFT = +0.1608 VXC = -0.2416 S-X = -0.1017 S-C = -0.0246 GWA = +0.2761\r\n",
      "T00 ERR ...   Level =    6 DFT = +0.2037 VXC = -0.2616 S-X = -0.1101 S-C = -0.0238 GWA = +0.3315\r\n",
      "T00 ERR ...   Level =    7 DFT = +0.2076 VXC = -0.2613 S-X = -0.1098 S-C = -0.0238 GWA = +0.3352\r\n",
      "T00 ERR ...   Level =    8 DFT = +0.2097 VXC = -0.2613 S-X = -0.1098 S-C = -0.0238 GWA = +0.3373\r\n",
      "T00 ERR ...   Level =    9 DFT = +0.7240 VXC = -0.3182 S-X = -0.1082 S-C = -0.0635 GWA = +0.8705\r\n",
      "T00 ERR ...   Level =   10 DFT = +0.7253 VXC = -0.3181 S-X = -0.1079 S-C = -0.0638 GWA = +0.8717\r\n",
      "T00 ERR ...   Level =   11 DFT = +0.7277 VXC = -0.3178 S-X = -0.1074 S-C = -0.0643 GWA = +0.8738\r\n",
      "T00 ERR ...   Level =   12 DFT = +1.0557 VXC = -0.4047 S-X = -0.1334 S-C = -0.0321 GWA = +1.2949\r\n",
      "T00 ERR ...   Level =   13 DFT = +1.0859 VXC = -0.3960 S-X = -0.1273 S-C = -0.1735 GWA = +1.1811\r\n",
      "T00 ERR ...   Level =   14 DFT = +1.0899 VXC = -0.3954 S-X = -0.1271 S-C = -0.1729 GWA = +1.1853\r\n",
      "T00 ERR ...   Level =   15 DFT = +1.0917 VXC = -0.3949 S-X = -0.1269 S-C = -0.1729 GWA = +1.1867\r\n",
      "T00 ERR ...   Level =   16 DFT = +1.7120 VXC = -0.3559 S-X = -0.1045 S-C = -0.0297 GWA = +1.9337\r\n",
      "T00 ERR ... 2025-5-23 5:56:49 Calculated offdiagonal part of Sigma  \r\n",
      "T00 ERR ... 2025-5-23 5:56:49 Full quasiparticle Hamiltonian  \r\n",
      "T00 ERR ...   ====== Diagonalized quasiparticle energies (Hartree) ====== \r\n",
      "T00 ERR ...   Level =    0 PQP = -10.550701 DQP = -10.550886 \r\n",
      "T00 ERR ...   Level =    1 PQP = -0.824221 DQP = -0.824634 \r\n",
      "T00 ERR ...   Level =    2 PQP = -0.503053 DQP = -0.503306 \r\n",
      "T00 ERR ...   Level =    3 PQP = -0.501779 DQP = -0.501990 \r\n",
      "T00 ERR ...   HOMO  =    4 PQP = -0.499602 DQP = -0.499804 \r\n",
      "T00 ERR ...   LUMO  =    5 PQP = +0.276106 DQP = +0.268028 \r\n",
      "T00 ERR ...   Level =    6 PQP = +0.331451 DQP = +0.329756 \r\n",
      "T00 ERR ...   Level =    7 PQP = +0.335236 DQP = +0.333703 \r\n",
      "T00 ERR ...   Level =    8 PQP = +0.337337 DQP = +0.335799 \r\n",
      "T00 ERR ...   Level =    9 PQP = +0.870527 DQP = +0.868730 \r\n",
      "T00 ERR ...   Level =   10 PQP = +0.871700 DQP = +0.869748 \r\n",
      "T00 ERR ...   Level =   11 PQP = +0.873819 DQP = +0.871707 \r\n",
      "T00 ERR ...   Level =   12 PQP = +1.294860 DQP = +1.184216 \r\n",
      "T00 ERR ...   Level =   13 PQP = +1.181144 DQP = +1.189017 \r\n",
      "T00 ERR ...   Level =   14 PQP = +1.185321 DQP = +1.191196 \r\n",
      "T00 ERR ...   Level =   15 PQP = +1.186715 DQP = +1.289759 \r\n",
      "T00 ERR ...   Level =   16 PQP = +1.933716 DQP = +1.947538 \r\n",
      "T00 ERR ... 2025-5-23 5:56:49 Diagonalized QP Hamiltonian  \r\n",
      "T00 ERR ... 2025-5-23 5:56:49 GW calculation took 0.120162275 seconds.\r\n",
      "T00 ERR ... 2025-5-23 5:56:49 Setup Full triplet hamiltonian \r\n",
      "T00 ERR ... 2025-5-23 5:56:49 Davidson Solver using 2 threads.\r\n",
      "T00 ERR ... 2025-5-23 5:56:49 Tolerance : 0.0001\r\n",
      "T00 ERR ... 2025-5-23 5:56:49 DPR Correction\r\n",
      "T00 ERR ... 2025-5-23 5:56:49 Matrix size : 120x120\r\n",
      "T00 ERR ... 2025-5-23 5:56:49 iter\tSearch Space\tNorm"
     ]
    },
    {
     "name": "stdout",
     "output_type": "stream",
     "text": [
      "\r\n",
      "T00 ERR ... 2025-5-23 5:56:49    0           20 \t 1.28e-01 \t  0.00% converged\r\n",
      "T00 ERR ... 2025-5-23 5:56:49    1           35 \t 1.45e-02 \t  0.00% converged\r\n",
      "T00 ERR ... 2025-5-23 5:56:49    2           50 \t 8.75e-04 \t 10.00% converged\r\n",
      "T00 ERR ... 2025-5-23 5:56:49    3           62 \t 3.03e-05 \t 100.00% converged\r\n",
      "T00 ERR ... 2025-5-23 5:56:49 Davidson converged after 3 iterations.\r\n",
      "T00 ERR ... 2025-5-23 5:56:49-----------------------------------\r\n",
      "T00 ERR ... 2025-5-23 5:56:49- Davidson ran for 0.008296461secs.\r\n",
      "T00 ERR ... 2025-5-23 5:56:49-----------------------------------\r\n",
      "T00 ERR ... 2025-5-23 5:56:49 Solved BSE for triplets \r\n",
      "T00 ERR ...   ====== triplet energies (eV) ====== \r\n",
      "T00 ERR ...   T =    1 Omega = +11.619603174149 eV  lamdba = +106.72 nm <FT> = +22.8814 <K_d> = -11.2618\r\n",
      "T00 ERR ...    \r\n",
      "T00 ERR ...   T =    2 Omega = +11.767434969650 eV  lamdba = +105.38 nm <FT> = +23.0052 <K_d> = -11.2379\r\n",
      "T00 ERR ...    \r\n",
      "T00 ERR ...   T =    3 Omega = +11.807234539496 eV  lamdba = +105.02 nm <FT> = +22.3276 <K_d> = -10.5204\r\n",
      "T00 ERR ...    \r\n",
      "T00 ERR ...   T =    4 Omega = +11.865605923796 eV  lamdba = +104.50 nm <FT> = +22.4625 <K_d> = -10.5969\r\n",
      "T00 ERR ...    \r\n",
      "T00 ERR ...   T =    5 Omega = +13.686164683390 eV  lamdba = +90.60 nm <FT> = +22.2624 <K_d> = -8.5762\r\n",
      "T00 ERR ...    \r\n",
      "T00 ERR ...   T =    6 Omega = +13.776237527112 eV  lamdba = +90.01 nm <FT> = +22.3089 <K_d> = -8.5327\r\n",
      "T00 ERR ...    \r\n",
      "T00 ERR ...   T =    7 Omega = +13.920043439227 eV  lamdba = +89.08 nm <FT> = +22.3804 <K_d> = -8.4604\r\n",
      "T00 ERR ...    \r\n",
      "T00 ERR ...   T =    8 Omega = +14.149913476389 eV  lamdba = +87.63 nm <FT> = +22.7580 <K_d> = -8.6081\r\n",
      "T00 ERR ...            HOMO-0   -> LUMO+1    : 71.0%\r\n",
      "T00 ERR ...    \r\n",
      "T00 ERR ...   T =    9 Omega = +14.219398627320 eV  lamdba = +87.20 nm <FT> = +22.8423 <K_d> = -8.6229\r\n",
      "T00 ERR ...    \r\n",
      "T00 ERR ...   T =   10 Omega = +14.358765186906 eV  lamdba = +86.36 nm <FT> = +22.8525 <K_d> = -8.4937\r\n",
      "T00 ERR ...            HOMO-2   -> LUMO+2    : 59.5%\r\n",
      "T00 ERR ...    \r\n",
      "T00 ERR ... 2025-5-23 5:56:49 Setup Full singlet hamiltonian \r\n",
      "T00 ERR ... 2025-5-23 5:56:49 Davidson Solver using 2 threads.\r\n",
      "T00 ERR ... 2025-5-23 5:56:49 Tolerance : 0.0001\r\n",
      "T00 ERR ... 2025-5-23 5:56:49 DPR Correction\r\n",
      "T00 ERR ... 2025-5-23 5:56:49 Matrix size : 120x120\r\n",
      "T00 ERR ... 2025-5-23 5:56:49 iter\tSearch Space\tNorm\r\n",
      "T00 ERR ... 2025-5-23 5:56:49    0           20 \t 1.28e-01 \t  0.00% converged\r\n",
      "T00 ERR ... 2025-5-23 5:56:49    1           35 \t 1.29e-02 \t  0.00% converged\r\n",
      "T00 ERR ... 2025-5-23 5:56:49    2           50 \t 9.29e-04 \t 40.00% converged\r\n",
      "T00 ERR ... 2025-5-23 5:56:49    3           61 \t 3.27e-05 \t 100.00% converged\r\n",
      "T00 ERR ... 2025-5-23 5:56:49 Davidson converged after 3 iterations.\r\n",
      "T00 ERR ... 2025-5-23 5:56:49-----------------------------------\r\n",
      "T00 ERR ... 2025-5-23 5:56:49- Davidson ran for 0.008055833secs.\r\n",
      "T00 ERR ... 2025-5-23 5:56:49-----------------------------------\r\n",
      "T00 ERR ... 2025-5-23 5:56:49 Solved BSE for singlets \r\n",
      "T00 ERR ...   ====== singlet energies (eV) ====== \r\n",
      "T00 ERR ...   S =    1 Omega = +13.853532391819 eV  lamdba = +89.51 nm <FT> = +21.2270 <K_x> = +1.0021 <K_d> = -8.3756\r\n",
      "T00 ERR ...            TrDipole length gauge[e*bohr]  dx = -0.5199 dy = +0.4558 dz = -0.3451 |d|^2 = +0.5971 f = +0.2027\r\n",
      "T00 ERR ...            HOMO-0   -> LUMO+0    : 99.0%\r\n",
      "T00 ERR ... \r\n",
      "T00 ERR ...   S =    2 Omega = +13.911334530862 eV  lamdba = +89.14 nm <FT> = +21.2962 <K_x> = +1.0487 <K_d> = -8.4336\r\n",
      "T00 ERR ...            TrDipole length gauge[e*bohr]  dx = -0.2448 dy = -0.6230 dz = -0.4810 |d|^2 = +0.6795 f = +0.2316\r\n",
      "T00 ERR ...            HOMO-1   -> LUMO+0    : 97.6%\r\n",
      "T00 ERR ... \r\n",
      "T00 ERR ...   S =    3 Omega = +13.958362243092 eV  lamdba = +88.84 nm <FT> = +21.3442 <K_x> = +1.1630 <K_d> = -8.5489\r\n",
      "T00 ERR ...            TrDipole length gauge[e*bohr]  dx = +0.6231 dy = +0.2707 dz = -0.6355 |d|^2 = +0.8653 f = +0.2959\r\n",
      "T00 ERR ...            HOMO-2   -> LUMO+0    : 97.9%\r\n",
      "T00 ERR ... \r\n",
      "T00 ERR ...   S =    4 Omega = +14.564981273967 eV  lamdba = +85.14 nm <FT> = +22.7464 <K_x> = +0.3161 <K_d> = -8.4976\r\n",
      "T00 ERR ...            TrDipole length gauge[e*bohr]  dx = +0.1529 dy = -0.0502 dz = +0.0252 |d|^2 = +0.0265 f = +0.0095\r\n",
      "T00 ERR ...            HOMO-0   -> LUMO+1    : 72.1%\r\n",
      "T00 ERR ... \r\n",
      "T00 ERR ...   S =    5 Omega = +14.603053905146 eV  lamdba = +84.91 nm <FT> = +22.7986 <K_x> = +0.2993 <K_d> = -8.4949\r\n",
      "T00 ERR ...            TrDipole length gauge[e*bohr]  dx = -0.0385 dy = +0.1014 dz = +0.1684 |d|^2 = +0.0401 f = +0.0144\r\n",
      "T00 ERR ...            HOMO-1   -> LUMO+1    : 56.7%\r\n",
      "T00 ERR ... \r\n",
      "T00 ERR ...   S =    6 Omega = +14.628354968695 eV  lamdba = +84.77 nm <FT> = +22.8413 <K_x> = +0.2732 <K_d> = -8.4861\r\n",
      "T00 ERR ...            TrDipole length gauge[e*bohr]  dx = +0.0961 dy = -0.0026 dz = +0.0759 |d|^2 = +0.0150 f = +0.0054\r\n",
      "T00 ERR ...            HOMO-0   -> LUMO+2    : 55.6%\r\n",
      "T00 ERR ... \r\n",
      "T00 ERR ...   S =    7 Omega = +14.982533297414 eV  lamdba = +82.76 nm <FT> = +22.8486 <K_x> = +0.7042 <K_d> = -8.5702\r\n",
      "T00 ERR ...            TrDipole length gauge[e*bohr]  dx = -0.0429 dy = -0.0570 dz = -0.0722 |d|^2 = +0.0103 f = +0.0038\r\n",
      "T00 ERR ... \r\n",
      "T00 ERR ...   S =    8 Omega = +15.000944926917 eV  lamdba = +82.66 nm <FT> = +22.8816 <K_x> = +0.6835 <K_d> = -8.5641\r\n",
      "T00 ERR ...            TrDipole length gauge[e*bohr]  dx = +0.0296 dy = +0.0511 dz = -0.0238 |d|^2 = +0.0041 f = +0.0015\r\n",
      "T00 ERR ...            HOMO-2   -> LUMO+3    : 59.8%\r\n",
      "T00 ERR ... \r\n",
      "T00 ERR ...   S =    9 Omega = +16.001178636749 eV  lamdba = +77.49 nm <FT> = +23.1757 <K_x> = +2.2106 <K_d> = -9.3851\r\n",
      "T00 ERR ...            TrDipole length gauge[e*bohr]  dx = +0.9382 dy = +0.8768 dz = -0.5418 |d|^2 = +1.9427 f = +0.7616\r\n",
      "T00 ERR ...            HOMO-2   -> LUMO+1    : 58.4%\r\n",
      "T00 ERR ... \r\n",
      "T00 ERR ...   S =   10 Omega = +16.029823152371 eV  lamdba = +77.36 nm <FT> = +23.2244 <K_x> = +2.2960 <K_d> = -9.4906\r\n",
      "T00 ERR ...            TrDipole length gauge[e*bohr]  dx = +0.6285 dy = -1.1253 dz = -0.6377 |d|^2 = +2.0680 f = +0.8121\r\n",
      "T00 ERR ... \r\n",
      "T00 ERR ... 2025-5-23 5:56:49 BSE calculation took 0.018872414 seconds.\r\n",
      "T00 ERR ... 2025-5-23 5:56:49 GWBSE calculation finished \r\n",
      "T00 ERR ... Next State is: s1\r\n",
      "T00 ERR ... 2025-5-23 5:56:49 Evaluating polarregion 1\r\n",
      "T00 ERR ... 2025-5-23 5:56:49 Evaluating interaction between polarregion 1 and qmregion 0\r\n",
      "T00 ERR ... Next State is: s1"
     ]
    },
    {
     "name": "stdout",
     "output_type": "stream",
     "text": [
      "\r\n",
      "T00 ERR ... 2025-5-23 5:56:49 Evaluating interaction between polarregion 1 and staticregion 2\r\n",
      "T00 ERR ... 2025-5-23 5:56:49 Starting Solving for classical polarization with 1380 degrees of freedom."
     ]
    },
    {
     "name": "stdout",
     "output_type": "stream",
     "text": [
      "\r\n",
      "T00 ERR ... 2025-5-23 5:56:49 CG: #iterations: 6, estimated error: 2.17453665038e-05\r\n",
      "T00 ERR ...   Total static energy [hrt]= 0.0009102654542\r\n",
      "T00 ERR ...   Total polar energy [hrt]= 0.0005315652092\r\n",
      "T00 ERR ...  Total energy [hrt]= 0.001441830663\r\n",
      "T00 ERR ... 2025-5-23 5:56:49 Evaluating staticregion 2\r\n",
      "T00 ERR ... 2025-5-23 5:56:49 Writing checkpoint to checkpoint_iter_2.hdf5"
     ]
    },
    {
     "name": "stdout",
     "output_type": "stream",
     "text": [
      "\r\n",
      "T00 ERR ...  Region:qmregion 0 is not converged deltaE=0.009162925927 RMS Dmat=0.03746356495 MaxDmat=0.1802321855\r\n",
      "T00 ERR ... 2025-5-23 5:56:49 Region:polarregion 1 is not converged deltaE=0.0004121748193\r\n",
      "T00 ERR ... 2025-5-23 5:56:49 --Total Energy all regions -39.72152455\r\n",
      "T00 ERR ... 2025-5-23 5:56:49 --Inter Region SCF Iteration 3 of 50\r\n",
      "T00 ERR ... 2025-5-23 5:56:49 Evaluating qmregion 0\r\n",
      "T00 ERR ... 2025-5-23 5:56:49 Evaluating interaction between qmregion 0 and polarregion 1\r\n",
      "T00 ERR ... 2025-5-23 5:56:49 Evaluating interaction between qmregion 0 and staticregion 2\r\n",
      "T00 ERR ... Running DFT calculation\r\n",
      "T00 ERR ... 2025-5-23 5:56:49 Using 2 threads\r\n",
      "T00 ERR ... 2025-5-23 5:56:49 Using native Eigen implementation, no BLAS overload \r\n",
      "T00 ERR ...  Molecule Coordinates [A] \r\n",
      "T00 ERR ...   C   +30.3000 +1.2704 +5.5205\r\n",
      "T00 ERR ...   H   +31.2392 +1.4802 +6.0301\r\n",
      "T00 ERR ...   H   +30.4910 +0.6554 +4.6433\r\n",
      "T00 ERR ...   H   +29.8500 +2.2100 +5.2100\r\n",
      "T00 ERR ...   H   +29.6200 +0.7500 +6.2000\r\n",
      "T00 ERR ... 2025-5-23 5:56:49 Loaded DFT Basis Set 3-21G with 17 functions\r\n",
      "T00 ERR ... 2025-5-23 5:56:49 Loaded AUX Basis Set aux-def2-svp with 104 functions\r\n",
      "T00 ERR ... 2025-5-23 5:56:49 Total number of electrons: 10\r\n",
      "T00 ERR ... 2025-5-23 5:56:49 Smallest value of AOOverlap matrix is 0.03364074275\r\n",
      "T00 ERR ... 2025-5-23 5:56:49 Removed 0 basisfunction from inverse overlap matrix\r\n",
      "T00 ERR ... 2025-5-23 5:56:49 Convergence Options:\r\n",
      "T00 ERR ... \t\t Delta E [Ha]: 1e-07\r\n",
      "T00 ERR ... \t\t DIIS max error: 1e-07\r\n",
      "T00 ERR ... \t\t DIIS histlength: 20\r\n",
      "T00 ERR ... \t\t ADIIS start: 0.8\r\n",
      "T00 ERR ... \t\t DIIS start: 0.002\r\n",
      "T00 ERR ... \t\t Deleting oldest element from DIIS hist\r\n",
      "T00 ERR ... \t\t Levelshift[Ha]: 0\r\n",
      "T00 ERR ... \t\t Levelshift end: 0.2\r\n",
      "T00 ERR ... \t\t Mixing Parameter alpha: 0.7\r\n",
      "T00 ERR ... 2025-5-23 5:56:49 Setup invariant parts of Electron Repulsion integrals \r\n",
      "T00 ERR ... 2025-5-23 5:56:49 Constructed independent particle hamiltonian \r\n",
      "T00 ERR ... 2025-5-23 5:56:49 Nuclear Repulsion Energy is 13.4434088\r\n",
      "T00 ERR ... 2025-5-23 5:56:49 1350 External sites\r\n",
      "T00 ERR ...  Name      Coordinates[a0]     charge[e]         dipole[e*a0]    \r\n",
      "T00 ERR ...   C   +63.8902 +7.9543 +11.0171   -0.3282   +0.0076 -0.0006 -0.0060\r\n",
      "T00 ERR ...   H   +62.3892 +6.5470 +10.9796   +0.0824   +0.0078 +0.0004 +0.0004\r\n",
      "T00 ERR ...   H   +65.3194 +7.4736 +9.6186   +0.0822   +0.0033 -0.0010 -0.0020\r\n",
      "T00 ERR ...   H   +63.1170 +9.8077 +10.6203   +0.0817   +0.0016 +0.0006 +0.0011\r\n",
      "T00 ERR ...   H   +64.7422 +7.9557 +12.9068   +0.0819   +0.0039 +0.0030 -0.0011\r\n",
      "T00 ERR ...   C   +63.9128 -0.3996 +22.8673   -0.3282   -0.0027 +0.0017 +0.0049\r\n",
      "T00 ERR ...   H   +63.0449 -1.1731 +21.1692   +0.0824   +0.0001 -0.0004 +0.0013\r\n",
      "T00 ERR ...   H   +62.7676 +1.1530 +23.5795   +0.0822   -0.0014 +0.0049 +0.0021\r\n",
      "T00 ERR ...   H   +64.0430 -1.8922 +24.2830   +0.0817   +0.0010 -0.0002 -0.0010\r\n",
      "T00 ERR ...   H   +65.8004 +0.2810 +22.4122   +0.0819   -0.0035 -0.0008 +0.0015\r\n",
      "T00 ERR ...   C   +61.7182 -0.4374 -3.3115   -0.3282   -0.0000 -0.0017 +0.0011\r\n",
      "T00 ERR ...   H   +60.6600 -1.0798 -4.9554   +0.0824   +0.0012 +0.0014 +0.0013\r\n",
      "T00 ERR ...   H   +63.3309 +0.6815 -3.9252   +0.0822   -0.0013 -0.0018 -0.0005\r\n",
      "T00 ERR ...   H   +62.3800 -2.0623 -2.2148   +0.0817   +0.0011 -0.0018 +0.0013\r\n",
      "T00 ERR ...   H   +60.5092 +0.7345 -2.1392   +0.0819   -0.0026 -0.0035 -0.0018\r\n",
      "T00 ERR ...   C   +62.0402 +12.7739 +4.5175   -0.3282   +0.0028 +0.0002 +0.0019\r\n",
      "T00 ERR ...   H   +60.1049 +13.3052 +4.0622   +0.0824   +0.0003 -0.0014 -0.0009\r\n",
      "T00 ERR ...   H   +62.0812 +11.8167 +6.3372   +0.0822   +0.0006 -0.0024 -0.0014\r\n",
      "T00 ERR ...   H   +63.2115 +14.4753 +4.6109   +0.0817   +0.0028 +0.0022 +0.0014\r\n",
      "T00 ERR ...   H   +62.7769 +11.5084 +3.0803   +0.0819   -0.0002 -0.0010 +0.0007\r\n",
      "T00 ERR ...   C   +60.6789 +14.3239 +12.6808   -0.3282   -0.0017 +0.0025 +0.0014\r\n",
      "T00 ERR ...   H   +61.0756 +13.9461 +10.6972   +0.0824   -0.0037 +0.0038 -0.0004\r\n",
      "T00 ERR ...   H   +61.0224 +16.3108 +13.0851   +0.0822   -0.0001 +0.0005 +0.0033\r\n",
      "T00 ERR ...   H   +58.7327 +13.8328 +13.0580   +0.0817   +0.0008 -0.0003 +0.0003\r\n",
      "T00 ERR ...   H   +61.9074 +13.1525 +13.8517   +0.0819   -0.0005 -0.0008 +0.0035\r\n",
      "T00 ERR ...   C   +68.7870 +4.1961 +17.9521   -0.3282   +0.0045 +0.0003 +0.0059\r\n",
      "T00 ERR ...   H   +68.2015 +2.4962 +18.9532   +0.0824   +0.0001 -0.0004 -0.0014\r\n",
      "T00 ERR ...   H   +67.2445 +4.8625 +16.7665   +0.0822   +0.0011 -0.0031 +0.0026\r\n",
      "T00 ERR ...   H   +70.4303 +3.7606 +16.7997   +0.0817   -0.0008 +0.0010 +0.0003\r\n",
      "T00 ERR ...   H   +69.2964 +5.6503 +19.3130   +0.0819   +0.0010 +0.0008 +0.0054\r\n",
      "T00 ERR ...   C   +54.0832 +4.4983 +27.1938   -0.3282   -0.0005 -0.0024 -0.0011\r\n",
      "T00 ERR ...   H   +53.5372 +6.4564 +27.5139   +0.0824   -0.0012 -0.0015 +0.0002\r\n",
      "T00 ERR ...   H   +52.9768 +3.2670 +28.4141   +0.0822   -0.0007 -0.0014 +0.0003\r\n",
      "T00 ERR ...   H   +53.7249 +4.0062 +25.2278   +0.0817   +0.0022 -0.0008 +0.0003\r\n",
      "T00 ERR ...   H   +56.0682 +4.2330 +27.6278   +0.0819   -0.0031 +0.0014 -0.0015\r\n",
      "T00 ERR ...   C   +63.8174 +6.3112 -1.0788   -0.3282   -0.0006 -0.0004 -0.0001\r\n",
      "T00 ERR ...   H   +65.2393 +6.4796 +0.3993   +0.0824   -0.0003 -0.0010 +0.0015\r\n",
      "T00 ERR ...   H   +62.4364 +4.8836 -0.5459   +0.0822   +0.0021 +0.0009 -0.0006\r\n",
      "T00 ERR ...   H   +64.7422 +5.7637 -2.8384   +0.0817   -0.0005 +0.0027 +0.0003\r\n",
      "T00 ERR ...   H   +62.8903 +8.1258 -1.3455   +0.0819   -0.0005 -0.0016 -0.0036\r\n",
      "T00 ERR ...   C   +64.1752 +19.2751 +7.8615   -0.3282   +0.0049 -0.0002 +0.0007\r\n",
      "T00 ERR ...   H   +62.9276 +19.0860 +6.2359   +0.0824   -0.0010 +0.0004 +0.0021\r\n",
      "T00 ERR ...   H   +63.4396 +18.1623 +9.4267   +0.0822   +0.0013 -0.0003 -0.0003\r\n",
      "T00 ERR ...   H   +66.0461 +18.6138 +7.3699   +0.0817   +0.0013 -0.0010 -0.0001\r\n",
      "T00 ERR ...   H   +64.2509 +21.2405 +8.4282   +0.0819   +0.0017 +0.0008 -0.0004\r\n",
      "T00 ERR ...   C   +61.3975 +17.7254 +18.4625   -0.3282   +0.0022 -0.0003 +0.0024\r\n",
      "T00 ERR ...   H   +60.9990 +19.0346 +16.9256   +0.0824   -0.0004 +0.0011 +0.0002\r\n",
      "T00 ERR ...   H   +61.0958 +18.6680 +20.2653   +0.0822   +0.0001 +0.0000 +0.0002\r\n",
      "T00 ERR ...   H   +60.1502 +16.1005 +18.3303   +0.0817   +0.0029 +0.0005 -0.0007\r\n",
      "T00 ERR ...   H   +63.3627 +17.1020 +18.3492   +0.0819   -0.0013 -0.0006 +0.0013\r\n",
      "T00 ERR ...               ... (1300 sites not displayed)\r\n"
     ]
    },
    {
     "name": "stdout",
     "output_type": "stream",
     "text": [
      "\r\n",
      "T00 ERR ... 2025-5-23 5:56:49 Filled DFT external multipole potential matrix\r\n",
      "T00 ERR ... 2025-5-23 5:56:49 Nuclei-external site interaction energy 0.0204347161"
     ]
    },
    {
     "name": "stdout",
     "output_type": "stream",
     "text": [
      "\r\n",
      "T00 ERR ... 2025-5-23 5:56:49 Using hybrid functional with alpha=0.25\r\n",
      "T00 ERR ... 2025-5-23 5:56:49 Setup numerical integration grid medium for vxc functional XC_HYB_GGA_XC_PBEH\r\n",
      "T00 ERR ... 2025-5-23 5:56:49 Setup Initial Guess using: atom\r\n",
      "T00 ERR ... 2025-5-23 5:56:49 Calculating atom density for C"
     ]
    },
    {
     "name": "stdout",
     "output_type": "stream",
     "text": [
      "\r\n",
      "T00 ERR ... 2025-5-23 5:56:50 Calculating atom density for H"
     ]
    },
    {
     "name": "stdout",
     "output_type": "stream",
     "text": [
      "\r\n",
      "T00 ERR ... 2025-5-23 5:56:50 STARTING SCF cycle\r\n",
      "T00 ERR ...  --------------------------------------------------------------------------\r\n",
      "T00 ERR ... \r\n",
      "T00 ERR ... 2025-5-23 5:56:50 Iteration 1 of 100"
     ]
    },
    {
     "name": "stdout",
     "output_type": "stream",
     "text": [
      "\r\n",
      "T00 ERR ... 2025-5-23 5:56:50 Total Energy -40.1461104361\r\n",
      "T00 ERR ... 2025-5-23 5:56:50 DIIs error 0.219657090107\r\n",
      "T00 ERR ... 2025-5-23 5:56:50 Delta Etot 0\r\n",
      "T00 ERR ... \r\n",
      "T00 ERR ... 2025-5-23 5:56:50 Iteration 2 of 100"
     ]
    },
    {
     "name": "stdout",
     "output_type": "stream",
     "text": [
      "\r\n",
      "T00 ERR ... 2025-5-23 5:56:50 Total Energy -40.1820291538\r\n",
      "T00 ERR ... 2025-5-23 5:56:50 DIIs error 0.128764191557\r\n",
      "T00 ERR ... 2025-5-23 5:56:50 Delta Etot -0.0359187177227\r\n",
      "T00 ERR ... \r\n",
      "T00 ERR ... 2025-5-23 5:56:50 Iteration 3 of 100"
     ]
    },
    {
     "name": "stdout",
     "output_type": "stream",
     "text": [
      "\r\n",
      "T00 ERR ... 2025-5-23 5:56:50 Total Energy -40.1985034856\r\n",
      "T00 ERR ... 2025-5-23 5:56:50 DIIs error 0.0793380177009\r\n",
      "T00 ERR ... 2025-5-23 5:56:50 Delta Etot -0.0164743317521\r\n",
      "T00 ERR ... \r\n",
      "T00 ERR ... 2025-5-23 5:56:50 Iteration 4 of 100"
     ]
    },
    {
     "name": "stdout",
     "output_type": "stream",
     "text": [
      "\r\n",
      "T00 ERR ... 2025-5-23 5:56:50 Total Energy -40.2291644176\r\n",
      "T00 ERR ... 2025-5-23 5:56:50 DIIs error 0.0296232169398\r\n",
      "T00 ERR ... 2025-5-23 5:56:50 Delta Etot -0.0306609320061\r\n",
      "T00 ERR ... \r\n",
      "T00 ERR ... 2025-5-23 5:56:50 Iteration 5 of 100"
     ]
    },
    {
     "name": "stdout",
     "output_type": "stream",
     "text": [
      "\r\n",
      "T00 ERR ... 2025-5-23 5:56:50 Total Energy -40.2290565164"
     ]
    },
    {
     "name": "stdout",
     "output_type": "stream",
     "text": [
      "\r\n",
      "T00 ERR ... 2025-5-23 5:56:50 DIIs error 0.0312032228138\r\n",
      "T00 ERR ... 2025-5-23 5:56:50 Delta Etot 0.000107901128729\r\n",
      "T00 ERR ... \r\n",
      "T00 ERR ... 2025-5-23 5:56:50 Iteration 6 of 100"
     ]
    },
    {
     "name": "stdout",
     "output_type": "stream",
     "text": [
      "\r\n",
      "T00 ERR ... 2025-5-23 5:56:50 Total Energy -40.2314078768\r\n",
      "T00 ERR ... 2025-5-23 5:56:50 DIIs error 0.000319032567206\r\n",
      "T00 ERR ... 2025-5-23 5:56:50 Delta Etot -0.00235136040764\r\n",
      "T00 ERR ... \r\n",
      "T00 ERR ... 2025-5-23 5:56:50 Iteration 7 of 100"
     ]
    },
    {
     "name": "stdout",
     "output_type": "stream",
     "text": [
      "\r\n",
      "T00 ERR ... 2025-5-23 5:56:51 Total Energy -40.2314081318\r\n",
      "T00 ERR ... 2025-5-23 5:56:51 DIIs error 2.06134471706e-05\r\n",
      "T00 ERR ... 2025-5-23 5:56:51 Delta Etot -2.54969215518e-07\r\n",
      "T00 ERR ... \r\n",
      "T00 ERR ... 2025-5-23 5:56:51 Iteration 8 of 100"
     ]
    },
    {
     "name": "stdout",
     "output_type": "stream",
     "text": [
      "\r\n",
      "T00 ERR ... 2025-5-23 5:56:51 Total Energy -40.2314081321\r\n",
      "T00 ERR ... 2025-5-23 5:56:51 DIIs error 1.08375740054e-05\r\n",
      "T00 ERR ... 2025-5-23 5:56:51 Delta Etot -2.48654430379e-10\r\n",
      "T00 ERR ... \r\n",
      "T00 ERR ... 2025-5-23 5:56:51 Iteration 9 of 100"
     ]
    },
    {
     "name": "stdout",
     "output_type": "stream",
     "text": [
      "\r\n",
      "T00 ERR ... 2025-5-23 5:56:51 Total Energy -40.2314081325\r\n",
      "T00 ERR ... 2025-5-23 5:56:51 DIIs error 3.25965783219e-06\r\n",
      "T00 ERR ... 2025-5-23 5:56:51 Delta Etot -3.98749477881e-10\r\n",
      "T00 ERR ... \r\n",
      "T00 ERR ... 2025-5-23 5:56:51 Iteration 10 of 100"
     ]
    },
    {
     "name": "stdout",
     "output_type": "stream",
     "text": [
      "\r\n",
      "T00 ERR ... 2025-5-23 5:56:51 Total Energy -40.2314081325\r\n",
      "T00 ERR ... 2025-5-23 5:56:51 DIIs error 8.88688270785e-07\r\n",
      "T00 ERR ... 2025-5-23 5:56:51 Delta Etot -3.91011667489e-11\r\n",
      "T00 ERR ... \r\n",
      "T00 ERR ... 2025-5-23 5:56:51 Iteration 11 of 100"
     ]
    },
    {
     "name": "stdout",
     "output_type": "stream",
     "text": [
      "\r\n",
      "T00 ERR ... 2025-5-23 5:56:51 Total Energy -40.2314081325\r\n",
      "T00 ERR ... 2025-5-23 5:56:51 DIIs error 1.37595453327e-09\r\n",
      "T00 ERR ... 2025-5-23 5:56:51 Delta Etot -2.80664380625e-12\r\n",
      "T00 ERR ... 2025-5-23 5:56:51 Total Energy has converged to -2.80664381e-12[Ha] after 11 iterations. DIIS error is converged up to 1.37595453e-09\r\n",
      "T00 ERR ... 2025-5-23 5:56:51 Final Single Point Energy -40.2314081325 Ha\r\n",
      "T00 ERR ... 2025-5-23 5:56:51 Final Local Exc contribution -5.18429843973 Ha\r\n",
      "T00 ERR ... 2025-5-23 5:56:51 Final Non Local Ex contribution -1.63926687355 Ha\r\n",
      "T00 ERR ...   Orbital energies: \r\n",
      "T00 ERR ...   index occupation energy(Hartree) \r\n",
      "T00 ERR ...      0      2   -10.1479923570\r\n",
      "T00 ERR ...      1      2   -0.7122695728\r\n",
      "T00 ERR ...      2      2   -0.4029279339\r\n",
      "T00 ERR ...      3      2   -0.4014686032\r\n",
      "T00 ERR ...      4      2   -0.3992210673\r\n",
      "T00 ERR ...      5      0   +0.1607640934\r\n",
      "T00 ERR ...      6      0   +0.2032679926\r\n",
      "T00 ERR ...      7      0   +0.2078297288\r\n",
      "T00 ERR ...      8      0   +0.2101333484\r\n",
      "T00 ERR ...      9      0   +0.7240720775\r\n",
      "T00 ERR ...     10      0   +0.7253178730\r\n",
      "T00 ERR ...     11      0   +0.7277844186\r\n",
      "T00 ERR ...     12      0   +1.0556488467\r\n",
      "T00 ERR ...     13      0   +1.0855952542\r\n",
      "T00 ERR ...     14      0   +1.0901107966\r\n",
      "T00 ERR ...     15      0   +1.0920241228\r\n",
      "T00 ERR ...     16      0   +1.7120593565\r\n",
      "T00 ERR ... 2025-5-23 5:56:51 Electric Dipole is[e*bohr]:\r\n",
      "\t\t dx=0.0150025182634\r\n",
      "\t\t dy=0.0336860379666\r\n",
      "\t\t dz=-0.0134526153696\r\n",
      "T00 ERR ... Writing result to temp.orb\r\n",
      "T00 ERR ... 2025-5-23 5:56:51 DFT calculation took 1.712228218 seconds.\r\n",
      "T00 ERR ... 2025-5-23 5:56:51 RPA level range [0:16]\r\n",
      "T00 ERR ... 2025-5-23 5:56:51 GW  level range [0:16]\r\n",
      "T00 ERR ... 2025-5-23 5:56:51 BSE level range occ[0:4]  virt[5:16]\r\n",
      "T00 ERR ...  BSE type: full\r\n",
      "T00 ERR ... 2025-5-23 5:56:51 BSE Hamiltonian has size 120x120\r\n",
      "T00 ERR ...  BSE without Hqp offdiagonal elements\r\n",
      "T00 ERR ...  Running GW as: G0W0\r\n",
      "T00 ERR ...  qp_sc_limit [Hartree]: 1e-05\r\n",
      "T00 ERR ...  Tasks: \r\n",
      "T00 ERR ...  GW \r\n",
      "T00 ERR ...  singlets \r\n",
      "T00 ERR ...  triplets \r\n",
      "T00 ERR ...  Store: \r\n",
      "T00 ERR ...  GW \r\n",
      "T00 ERR ...  Sigma integration: ppm\r\n",
      "T00 ERR ...  eta: 0.001\r\n",
      "T00 ERR ...  QP solver: grid\r\n",
      "T00 ERR ...  QP grid steps: 1001\r\n",
      "T00 ERR ...  QP grid spacing: 0.001\r\n",
      "T00 ERR ... 2025-5-23 5:56:51 Using 2 threads\r\n",
      "T00 ERR ... 2025-5-23 5:56:51 Using native Eigen implementation, no BLAS overload \r\n",
      "T00 ERR ... 2025-5-23 5:56:51 Molecule Coordinates [A] \r\n",
      "T00 ERR ...     0    C   30.3000 1.2704 5.5205\r\n",
      "T00 ERR ...     1    H   31.2392 1.4802 6.0301\r\n",
      "T00 ERR ...     2    H   30.4910 0.6554 4.6433\r\n",
      "T00 ERR ...     3    H   29.8500 2.2100 5.2100\r\n",
      "T00 ERR ...     4    H   29.6200 0.7500 6.2000\r\n",
      "T00 ERR ... 2025-5-23 5:56:51 DFT data was created by xtp\r\n",
      "T00 ERR ... 2025-5-23 5:56:51 Loaded DFT Basis Set 3-21G\r\n",
      "T00 ERR ... 2025-5-23 5:56:51 Filled DFT Basis of size 17\r\n",
      "T00 ERR ... 2025-5-23 5:56:51 Loaded Auxbasis Set aux-def2-svp\r\n",
      "T00 ERR ... 2025-5-23 5:56:51 Filled Auxbasis of size 104\r\n",
      "T00 ERR ... 2025-5-23 5:56:51 Calculating Mmn_beta (3-center-repulsion x orbitals)  \r\n",
      "T00 ERR ... 2025-5-23 5:56:51 Calculated Mmn_beta (3-center-repulsion x orbitals)  "
     ]
    },
    {
     "name": "stdout",
     "output_type": "stream",
     "text": [
      "\r\n",
      "T00 ERR ... 2025-5-23 5:56:51 Integrating Vxc with functional XC_HYB_GGA_XC_PBEH"
     ]
    },
    {
     "name": "stdout",
     "output_type": "stream",
     "text": [
      "\r\n",
      "T00 ERR ... 2025-5-23 5:56:51 Set hybrid exchange factor: 0.25\r\n",
      "T00 ERR ... 2025-5-23 5:56:51 Calculated exchange-correlation expectation values \r\n",
      "T00 ERR ... 2025-5-23 5:56:51 Calculated Hartree exchange contribution\r\n",
      "T00 ERR ... 2025-5-23 5:56:51 Scissor shifting DFT energies by: 0 Hrt"
     ]
    },
    {
     "name": "stdout",
     "output_type": "stream",
     "text": [
      "\r\n",
      "T00 ERR ...   ====== Perturbative quasiparticle energies (Hartree) ====== \r\n",
      "T00 ERR ...    DeltaHLGap = +0.215481 Hartree\r\n",
      "T00 ERR ...   Level =    0 DFT = -10.1480 VXC = -1.7031 S-X = -2.6689 S-C = +0.5631 GWA = -10.5506\r\n",
      "T00 ERR ...   Level =    1 DFT = -0.7123 VXC = -0.4404 S-X = -0.6606 S-C = +0.1083 GWA = -0.8242\r\n",
      "T00 ERR ...   Level =    2 DFT = -0.4029 VXC = -0.3959 S-X = -0.5286 S-C = +0.0324 GWA = -0.5032\r\n",
      "T00 ERR ...   Level =    3 DFT = -0.4015 VXC = -0.3967 S-X = -0.5297 S-C = +0.0328 GWA = -0.5017\r\n",
      "T00 ERR ...   HOMO  =    4 DFT = -0.3992 VXC = -0.3969 S-X = -0.5300 S-C = +0.0329 GWA = -0.4994\r\n",
      "T00 ERR ...   LUMO  =    5 DFT = +0.1608 VXC = -0.2417 S-X = -0.1017 S-C = -0.0246 GWA = +0.2761\r\n",
      "T00 ERR ...   Level =    6 DFT = +0.2033 VXC = -0.2616 S-X = -0.1101 S-C = -0.0238 GWA = +0.3310\r\n",
      "T00 ERR ...   Level =    7 DFT = +0.2078 VXC = -0.2612 S-X = -0.1097 S-C = -0.0239 GWA = +0.3355\r\n",
      "T00 ERR ...   Level =    8 DFT = +0.2101 VXC = -0.2613 S-X = -0.1098 S-C = -0.0238 GWA = +0.3378\r\n",
      "T00 ERR ...   Level =    9 DFT = +0.7241 VXC = -0.3183 S-X = -0.1082 S-C = -0.0635 GWA = +0.8706\r\n",
      "T00 ERR ...   Level =   10 DFT = +0.7253 VXC = -0.3181 S-X = -0.1079 S-C = -0.0638 GWA = +0.8717\r\n",
      "T00 ERR ...   Level =   11 DFT = +0.7278 VXC = -0.3177 S-X = -0.1073 S-C = -0.0643 GWA = +0.8739\r\n",
      "T00 ERR ...   Level =   12 DFT = +1.0556 VXC = -0.4047 S-X = -0.1334 S-C = -0.0322 GWA = +1.2947\r\n",
      "T00 ERR ...   Level =   13 DFT = +1.0856 VXC = -0.3962 S-X = -0.1274 S-C = -0.1737 GWA = +1.1807\r\n",
      "T00 ERR ...   Level =   14 DFT = +1.0901 VXC = -0.3954 S-X = -0.1271 S-C = -0.1730 GWA = +1.1855\r\n",
      "T00 ERR ...   Level =   15 DFT = +1.0920 VXC = -0.3947 S-X = -0.1268 S-C = -0.1728 GWA = +1.1871\r\n",
      "T00 ERR ...   Level =   16 DFT = +1.7121 VXC = -0.3559 S-X = -0.1045 S-C = -0.0297 GWA = +1.9338\r\n",
      "T00 ERR ... 2025-5-23 5:56:51 Calculated offdiagonal part of Sigma  \r\n",
      "T00 ERR ... 2025-5-23 5:56:51 Full quasiparticle Hamiltonian  \r\n",
      "T00 ERR ...   ====== Diagonalized quasiparticle energies (Hartree) ====== \r\n",
      "T00 ERR ...   Level =    0 PQP = -10.550643 DQP = -10.550828 \r\n",
      "T00 ERR ...   Level =    1 PQP = -0.824156 DQP = -0.824587 \r\n",
      "T00 ERR ...   Level =    2 PQP = -0.503213 DQP = -0.503479 \r\n",
      "T00 ERR ...   Level =    3 PQP = -0.501672 DQP = -0.501881 \r\n",
      "T00 ERR ...   HOMO  =    4 PQP = -0.499365 DQP = -0.499561 \r\n",
      "T00 ERR ...   LUMO  =    5 PQP = +0.276101 DQP = +0.267953 \r\n",
      "T00 ERR ...   Level =    6 PQP = +0.331048 DQP = +0.329235 \r\n",
      "T00 ERR ...   Level =    7 PQP = +0.335474 DQP = +0.333995 \r\n",
      "T00 ERR ...   Level =    8 PQP = +0.337767 DQP = +0.336306 \r\n",
      "T00 ERR ...   Level =    9 PQP = +0.870582 DQP = +0.868856 \r\n",
      "T00 ERR ...   Level =   10 PQP = +0.871742 DQP = +0.869836 \r\n",
      "T00 ERR ...   Level =   11 PQP = +0.873910 DQP = +0.871704 \r\n",
      "T00 ERR ...   Level =   12 PQP = +1.294695 DQP = +1.183588 \r\n",
      "T00 ERR ...   Level =   13 PQP = +1.180686 DQP = +1.189258 \r\n",
      "T00 ERR ...   Level =   14 PQP = +1.185456 DQP = +1.191534 \r\n",
      "T00 ERR ...   Level =   15 PQP = +1.187121 DQP = +1.289775 \r\n",
      "T00 ERR ...   Level =   16 PQP = +1.933756 DQP = +1.947586 \r\n",
      "T00 ERR ... 2025-5-23 5:56:51 Diagonalized QP Hamiltonian  \r\n",
      "T00 ERR ... 2025-5-23 5:56:51 GW calculation took 0.122150653 seconds.\r\n",
      "T00 ERR ... 2025-5-23 5:56:51 Setup Full triplet hamiltonian \r\n",
      "T00 ERR ... 2025-5-23 5:56:51 Davidson Solver using 2 threads.\r\n",
      "T00 ERR ... 2025-5-23 5:56:51 Tolerance : 0.0001\r\n",
      "T00 ERR ... 2025-5-23 5:56:51 DPR Correction\r\n",
      "T00 ERR ... 2025-5-23 5:56:51 Matrix size : 120x120\r\n",
      "T00 ERR ... 2025-5-23 5:56:51 iter\tSearch Space\tNorm\r\n",
      "T00 ERR ... 2025-5-23 5:56:51    0           20 \t 1.28e-01 \t  0.00% converged\r\n",
      "T00 ERR ... 2025-5-23 5:56:51    1           35 \t 1.43e-02 \t  0.00% converged\r\n",
      "T00 ERR ... 2025-5-23 5:56:51    2           50 \t 8.71e-04 \t 10.00% converged\r\n",
      "T00 ERR ... 2025-5-23 5:56:51    3           62 \t 2.86e-05 \t 100.00% converged\r\n",
      "T00 ERR ... 2025-5-23 5:56:51 Davidson converged after 3 iterations.\r\n",
      "T00 ERR ... 2025-5-23 5:56:51-----------------------------------\r\n",
      "T00 ERR ... 2025-5-23 5:56:51- Davidson ran for 0.007234269secs.\r\n",
      "T00 ERR ... 2025-5-23 5:56:51-----------------------------------\r\n",
      "T00 ERR ... 2025-5-23 5:56:51 Solved BSE for triplets \r\n",
      "T00 ERR ...   ====== triplet energies (eV) ====== \r\n",
      "T00 ERR ...   T =    1 Omega = +11.603127102385 eV  lamdba = +106.87 nm <FT> = +22.8275 <K_d> = -11.2244\r\n",
      "T00 ERR ...    \r\n",
      "T00 ERR ...   T =    2 Omega = +11.766167613189 eV  lamdba = +105.39 nm <FT> = +22.9570 <K_d> = -11.1909\r\n",
      "T00 ERR ...    \r\n",
      "T00 ERR ...   T =    3 Omega = +11.816411199893 eV  lamdba = +104.94 nm <FT> = +22.4167 <K_d> = -10.6003\r\n",
      "T00 ERR ...    \r\n",
      "T00 ERR ...   T =    4 Omega = +11.874668606373 eV  lamdba = +104.42 nm <FT> = +22.4735 <K_d> = -10.5988\r\n",
      "T00 ERR ...    \r\n",
      "T00 ERR ...   T =    5 Omega = +13.667861989895 eV  lamdba = +90.72 nm <FT> = +22.2529 <K_d> = -8.5851\r\n",
      "T00 ERR ...    \r\n",
      "T00 ERR ...   T =    6 Omega = +13.763161924052 eV  lamdba = +90.10 nm <FT> = +22.3021 <K_d> = -8.5389\r\n",
      "T00 ERR ...    \r\n",
      "T00 ERR ...   T =    7 Omega = +13.932456841201 eV  lamdba = +89.00 nm <FT> = +22.3883 <K_d> = -8.4558\r\n",
      "T00 ERR ...    \r\n",
      "T00 ERR ...   T =    8 Omega = +14.135966276698 eV  lamdba = +87.72 nm <FT> = +22.7404 <K_d> = -8.6044\r\n",
      "T00 ERR ...            HOMO-0   -> LUMO+1    : 72.1%\r\n",
      "T00 ERR ...    \r\n",
      "T00 ERR ...   T =    9 Omega = +14.222665296474 eV  lamdba = +87.18 nm <FT> = +22.8412 <K_d> = -8.6185\r\n",
      "T00 ERR ...    \r\n",
      "T00 ERR ...   T =   10 Omega = +14.366470176073 eV  lamdba = +86.31 nm <FT> = +22.8589 <K_d> = -8.4924\r\n",
      "T00 ERR ...            HOMO-2   -> LUMO+2    : 61.4%\r\n",
      "T00 ERR ...    \r\n",
      "T00 ERR ... 2025-5-23 5:56:51 Setup Full singlet hamiltonian \r\n",
      "T00 ERR ... 2025-5-23 5:56:51 Davidson Solver using 2 threads.\r\n",
      "T00 ERR ... 2025-5-23 5:56:51 Tolerance : 0.0001\r\n",
      "T00 ERR ... 2025-5-23 5:56:51 DPR Correction\r\n",
      "T00 ERR ... 2025-5-23 5:56:51 Matrix size : 120x120\r\n",
      "T00 ERR ... 2025-5-23 5:56:51 iter\tSearch Space\tNorm\r\n",
      "T00 ERR ... 2025-5-23 5:56:51    0           20 \t 1.28e-01 \t  0.00% converged\r\n",
      "T00 ERR ... 2025-5-23 5:56:51    1           35 \t 1.29e-02 \t  0.00% converged\r\n",
      "T00 ERR ... 2025-5-23 5:56:51    2           50 \t 9.31e-04 \t 40.00% converged\r\n",
      "T00 ERR ... 2025-5-23 5:56:51    3           61 \t 3.33e-05 \t 100.00% converged\r\n",
      "T00 ERR ... 2025-5-23 5:56:51 Davidson converged after 3 iterations.\r\n",
      "T00 ERR ... 2025-5-23 5:56:51-----------------------------------\r\n",
      "T00 ERR ... 2025-5-23 5:56:51- Davidson ran for 0.008132162secs.\r\n",
      "T00 ERR ... 2025-5-23 5:56:51-----------------------------------\r\n",
      "T00 ERR ... 2025-5-23 5:56:51 Solved BSE for singlets \r\n",
      "T00 ERR ...   ====== singlet energies (eV) ====== \r\n",
      "T00 ERR ...   S =    1 Omega = +13.844365793557 eV  lamdba = +89.57 nm <FT> = +21.2221 <K_x> = +0.9871 <K_d> = -8.3648\r\n",
      "T00 ERR ...            TrDipole length gauge[e*bohr]  dx = -0.5242 dy = +0.4325 dz = -0.3380 |d|^2 = +0.5761 f = +0.1954\r\n",
      "T00 ERR ...            HOMO-0   -> LUMO+0    : 98.8%\r\n",
      "T00 ERR ... \r\n",
      "T00 ERR ...   S =    2 Omega = +13.905496036635 eV  lamdba = +89.17 nm <FT> = +21.2955 <K_x> = +1.0388 <K_d> = -8.4289\r\n",
      "T00 ERR ...            TrDipole length gauge[e*bohr]  dx = +0.2211 dy = +0.6235 dz = +0.4776 |d|^2 = +0.6657 f = +0.2268\r\n",
      "T00 ERR ...            HOMO-1   -> LUMO+0    : 97.1%\r\n",
      "T00 ERR ... \r\n",
      "T00 ERR ...   S =    3 Omega = +13.962496962039 eV  lamdba = +88.81 nm <FT> = +21.3521 <K_x> = +1.1752 <K_d> = -8.5648\r\n",
      "T00 ERR ...            TrDipole length gauge[e*bohr]  dx = -0.6219 dy = -0.2945 dz = +0.6416 |d|^2 = +0.8850 f = +0.3027\r\n",
      "T00 ERR ...            HOMO-2   -> LUMO+0    : 97.5%\r\n",
      "T00 ERR ... \r\n",
      "T00 ERR ...   S =    4 Omega = +14.556199454892 eV  lamdba = +85.19 nm <FT> = +22.7280 <K_x> = +0.3296 <K_d> = -8.5013\r\n",
      "T00 ERR ...            TrDipole length gauge[e*bohr]  dx = -0.1630 dy = +0.0599 dz = -0.0313 |d|^2 = +0.0311 f = +0.0111\r\n",
      "T00 ERR ...            HOMO-0   -> LUMO+1    : 75.2%\r\n",
      "T00 ERR ... \r\n",
      "T00 ERR ...   S =    5 Omega = +14.601670280813 eV  lamdba = +84.92 nm <FT> = +22.7896 <K_x> = +0.3120 <K_d> = -8.5000\r\n",
      "T00 ERR ...            TrDipole length gauge[e*bohr]  dx = +0.0473 dy = -0.1157 dz = -0.1954 |d|^2 = +0.0538 f = +0.0192\r\n",
      "T00 ERR ...            HOMO-1   -> LUMO+1    : 58.5%\r\n",
      "T00 ERR ... \r\n",
      "T00 ERR ...   S =    6 Omega = +14.633252657791 eV  lamdba = +84.74 nm <FT> = +22.8438 <K_x> = +0.2777 <K_d> = -8.4882\r\n",
      "T00 ERR ...            TrDipole length gauge[e*bohr]  dx = -0.1132 dy = +0.0127 dz = -0.0868 |d|^2 = +0.0205 f = +0.0073\r\n",
      "T00 ERR ...            HOMO-0   -> LUMO+2    : 56.2%\r\n",
      "T00 ERR ... \r\n",
      "T00 ERR ...   S =    7 Omega = +14.987794406130 eV  lamdba = +82.73 nm <FT> = +22.8521 <K_x> = +0.7062 <K_d> = -8.5705\r\n",
      "T00 ERR ...            TrDipole length gauge[e*bohr]  dx = -0.0528 dy = -0.0773 dz = -0.0688 |d|^2 = +0.0135 f = +0.0050\r\n",
      "T00 ERR ... \r\n",
      "T00 ERR ...   S =    8 Omega = +15.009516911843 eV  lamdba = +82.61 nm <FT> = +22.8976 <K_x> = +0.6730 <K_d> = -8.5611\r\n",
      "T00 ERR ...            TrDipole length gauge[e*bohr]  dx = +0.0278 dy = +0.0470 dz = -0.0334 |d|^2 = +0.0041 f = +0.0015\r\n",
      "T00 ERR ...            HOMO-2   -> LUMO+3    : 66.9%\r\n",
      "T00 ERR ... \r\n",
      "T00 ERR ...   S =    9 Omega = +16.000038454815 eV  lamdba = +77.50 nm <FT> = +23.1718 <K_x> = +2.1983 <K_d> = -9.3700\r\n",
      "T00 ERR ...            TrDipole length gauge[e*bohr]  dx = +0.9151 dy = +0.8760 dz = -0.5650 |d|^2 = +1.9241 f = +0.7542\r\n",
      "T00 ERR ...            HOMO-2   -> LUMO+1    : 59.0%\r\n",
      "T00 ERR ... \r\n",
      "T00 ERR ...   S =   10 Omega = +16.031040524102 eV  lamdba = +77.35 nm <FT> = +23.2236 <K_x> = +2.2792 <K_d> = -9.4717\r\n",
      "T00 ERR ...            TrDipole length gauge[e*bohr]  dx = -0.4309 dy = +1.0685 dz = +0.8476 |d|^2 = +2.0457 f = +0.8035\r\n",
      "T00 ERR ... \r\n",
      "T00 ERR ... 2025-5-23 5:56:51 BSE calculation took 0.017790347 seconds.\r\n",
      "T00 ERR ... 2025-5-23 5:56:51 GWBSE calculation finished \r\n",
      "T00 ERR ... Next State is: s1\r\n",
      "T00 ERR ... 2025-5-23 5:56:51 Evaluating polarregion 1\r\n",
      "T00 ERR ... 2025-5-23 5:56:51 Evaluating interaction between polarregion 1 and qmregion 0\r\n",
      "T00 ERR ... Next State is: s1"
     ]
    },
    {
     "name": "stdout",
     "output_type": "stream",
     "text": [
      "\r\n",
      "T00 ERR ... 2025-5-23 5:56:51 Evaluating interaction between polarregion 1 and staticregion 2\r\n",
      "T00 ERR ... 2025-5-23 5:56:51 Starting Solving for classical polarization with 1380 degrees of freedom."
     ]
    },
    {
     "name": "stdout",
     "output_type": "stream",
     "text": [
      "\r\n",
      "T00 ERR ... 2025-5-23 5:56:51 CG: #iterations: 5, estimated error: 3.94306387927e-05\r\n",
      "T00 ERR ...   Total static energy [hrt]= 0.0009102654542\r\n",
      "T00 ERR ...   Total polar energy [hrt]= 0.0006914774472\r\n",
      "T00 ERR ...  Total energy [hrt]= 0.001601742901\r\n",
      "T00 ERR ... 2025-5-23 5:56:51 Evaluating staticregion 2\r\n",
      "T00 ERR ... 2025-5-23 5:56:51 Writing checkpoint to checkpoint_iter_3.hdf5"
     ]
    },
    {
     "name": "stdout",
     "output_type": "stream",
     "text": [
      "\r\n",
      "T00 ERR ...  Region:qmregion 0 is not converged deltaE=0.0003293138318 RMS Dmat=0.01422268073 MaxDmat=0.07846303153\r\n",
      "T00 ERR ... 2025-5-23 5:56:51 Region:polarregion 1 is not converged deltaE=0.000159912238\r\n",
      "T00 ERR ... 2025-5-23 5:56:51 --Total Energy all regions -39.72103533\r\n",
      "T00 ERR ... 2025-5-23 5:56:51 --Inter Region SCF Iteration 4 of 50\r\n",
      "T00 ERR ... 2025-5-23 5:56:51 Evaluating qmregion 0\r\n",
      "T00 ERR ... 2025-5-23 5:56:51 Evaluating interaction between qmregion 0 and polarregion 1\r\n",
      "T00 ERR ... 2025-5-23 5:56:51 Evaluating interaction between qmregion 0 and staticregion 2\r\n",
      "T00 ERR ... Running DFT calculation\r\n",
      "T00 ERR ... 2025-5-23 5:56:51 Using 2 threads\r\n",
      "T00 ERR ... 2025-5-23 5:56:51 Using native Eigen implementation, no BLAS overload \r\n",
      "T00 ERR ...  Molecule Coordinates [A] \r\n",
      "T00 ERR ...   C   +30.3000 +1.2704 +5.5205\r\n",
      "T00 ERR ...   H   +31.2392 +1.4802 +6.0301\r\n",
      "T00 ERR ...   H   +30.4910 +0.6554 +4.6433\r\n",
      "T00 ERR ...   H   +29.8500 +2.2100 +5.2100\r\n",
      "T00 ERR ...   H   +29.6200 +0.7500 +6.2000\r\n",
      "T00 ERR ... 2025-5-23 5:56:51 Loaded DFT Basis Set 3-21G with 17 functions\r\n",
      "T00 ERR ... 2025-5-23 5:56:51 Loaded AUX Basis Set aux-def2-svp with 104 functions\r\n",
      "T00 ERR ... 2025-5-23 5:56:51 Total number of electrons: 10\r\n",
      "T00 ERR ... 2025-5-23 5:56:51 Smallest value of AOOverlap matrix is 0.03364074275\r\n",
      "T00 ERR ... 2025-5-23 5:56:51 Removed 0 basisfunction from inverse overlap matrix\r\n",
      "T00 ERR ... 2025-5-23 5:56:51 Convergence Options:\r\n",
      "T00 ERR ... \t\t Delta E [Ha]: 1e-07\r\n",
      "T00 ERR ... \t\t DIIS max error: 1e-07\r\n",
      "T00 ERR ... \t\t DIIS histlength: 20\r\n",
      "T00 ERR ... \t\t ADIIS start: 0.8\r\n",
      "T00 ERR ... \t\t DIIS start: 0.002\r\n",
      "T00 ERR ... \t\t Deleting oldest element from DIIS hist\r\n",
      "T00 ERR ... \t\t Levelshift[Ha]: 0\r\n",
      "T00 ERR ... \t\t Levelshift end: 0.2\r\n",
      "T00 ERR ... \t\t Mixing Parameter alpha: 0.7\r\n",
      "T00 ERR ... 2025-5-23 5:56:51 Setup invariant parts of Electron Repulsion integrals \r\n",
      "T00 ERR ... 2025-5-23 5:56:51 Constructed independent particle hamiltonian \r\n",
      "T00 ERR ... 2025-5-23 5:56:51 Nuclear Repulsion Energy is 13.4434088\r\n",
      "T00 ERR ... 2025-5-23 5:56:51 1350 External sites\r\n",
      "T00 ERR ...  Name      Coordinates[a0]     charge[e]         dipole[e*a0]    \r\n",
      "T00 ERR ...   C   +63.8902 +7.9543 +11.0171   -0.3282   +0.0084 +0.0002 -0.0060\r\n",
      "T00 ERR ...   H   +62.3892 +6.5470 +10.9796   +0.0824   +0.0087 +0.0017 +0.0002\r\n",
      "T00 ERR ...   H   +65.3194 +7.4736 +9.6186   +0.0822   +0.0036 -0.0009 -0.0022\r\n",
      "T00 ERR ...   H   +63.1170 +9.8077 +10.6203   +0.0817   +0.0016 +0.0010 +0.0011\r\n",
      "T00 ERR ...   H   +64.7422 +7.9557 +12.9068   +0.0819   +0.0041 +0.0031 -0.0009\r\n",
      "T00 ERR ...   C   +63.9128 -0.3996 +22.8673   -0.3282   -0.0028 +0.0015 +0.0050\r\n",
      "T00 ERR ...   H   +63.0449 -1.1731 +21.1692   +0.0824   -0.0000 -0.0005 +0.0014\r\n",
      "T00 ERR ...   H   +62.7676 +1.1530 +23.5795   +0.0822   -0.0014 +0.0049 +0.0021\r\n",
      "T00 ERR ...   H   +64.0430 -1.8922 +24.2830   +0.0817   +0.0010 -0.0003 -0.0010\r\n",
      "T00 ERR ...   H   +65.8004 +0.2810 +22.4122   +0.0819   -0.0036 -0.0009 +0.0016\r\n",
      "T00 ERR ...   C   +61.7182 -0.4374 -3.3115   -0.3282   -0.0001 -0.0018 +0.0011\r\n",
      "T00 ERR ...   H   +60.6600 -1.0798 -4.9554   +0.0824   +0.0011 +0.0014 +0.0013\r\n",
      "T00 ERR ...   H   +63.3309 +0.6815 -3.9252   +0.0822   -0.0013 -0.0018 -0.0005\r\n",
      "T00 ERR ...   H   +62.3800 -2.0623 -2.2148   +0.0817   +0.0010 -0.0019 +0.0013\r\n",
      "T00 ERR ...   H   +60.5092 +0.7345 -2.1392   +0.0819   -0.0026 -0.0035 -0.0018\r\n",
      "T00 ERR ...   C   +62.0402 +12.7739 +4.5175   -0.3282   +0.0028 +0.0003 +0.0018\r\n",
      "T00 ERR ...   H   +60.1049 +13.3052 +4.0622   +0.0824   +0.0002 -0.0014 -0.0009\r\n",
      "T00 ERR ...   H   +62.0812 +11.8167 +6.3372   +0.0822   +0.0006 -0.0023 -0.0015\r\n",
      "T00 ERR ...   H   +63.2115 +14.4753 +4.6109   +0.0817   +0.0028 +0.0022 +0.0014\r\n",
      "T00 ERR ...   H   +62.7769 +11.5084 +3.0803   +0.0819   -0.0002 -0.0010 +0.0007\r\n",
      "T00 ERR ...   C   +60.6789 +14.3239 +12.6808   -0.3282   -0.0018 +0.0027 +0.0014\r\n",
      "T00 ERR ...   H   +61.0756 +13.9461 +10.6972   +0.0824   -0.0037 +0.0039 -0.0004\r\n",
      "T00 ERR ...   H   +61.0224 +16.3108 +13.0851   +0.0822   -0.0001 +0.0005 +0.0033\r\n",
      "T00 ERR ...   H   +58.7327 +13.8328 +13.0580   +0.0817   +0.0007 -0.0003 +0.0003\r\n",
      "T00 ERR ...   H   +61.9074 +13.1525 +13.8517   +0.0819   -0.0006 -0.0007 +0.0035\r\n",
      "T00 ERR ...   C   +68.7870 +4.1961 +17.9521   -0.3282   +0.0047 +0.0003 +0.0061\r\n",
      "T00 ERR ...   H   +68.2015 +2.4962 +18.9532   +0.0824   +0.0001 -0.0005 -0.0013\r\n",
      "T00 ERR ...   H   +67.2445 +4.8625 +16.7665   +0.0822   +0.0013 -0.0031 +0.0027\r\n",
      "T00 ERR ...   H   +70.4303 +3.7606 +16.7997   +0.0817   -0.0008 +0.0010 +0.0004\r\n",
      "T00 ERR ...   H   +69.2964 +5.6503 +19.3130   +0.0819   +0.0010 +0.0009 +0.0054\r\n",
      "T00 ERR ...   C   +54.0832 +4.4983 +27.1938   -0.3282   -0.0006 -0.0024 -0.0012\r\n",
      "T00 ERR ...   H   +53.5372 +6.4564 +27.5139   +0.0824   -0.0012 -0.0015 +0.0002\r\n",
      "T00 ERR ...   H   +52.9768 +3.2670 +28.4141   +0.0822   -0.0007 -0.0014 +0.0003\r\n",
      "T00 ERR ...   H   +53.7249 +4.0062 +25.2278   +0.0817   +0.0021 -0.0008 +0.0003\r\n",
      "T00 ERR ...   H   +56.0682 +4.2330 +27.6278   +0.0819   -0.0032 +0.0014 -0.0015\r\n",
      "T00 ERR ...   C   +63.8174 +6.3112 -1.0788   -0.3282   -0.0006 -0.0004 -0.0002\r\n",
      "T00 ERR ...   H   +65.2393 +6.4796 +0.3993   +0.0824   -0.0003 -0.0010 +0.0014\r\n",
      "T00 ERR ...   H   +62.4364 +4.8836 -0.5459   +0.0822   +0.0021 +0.0009 -0.0007\r\n",
      "T00 ERR ...   H   +64.7422 +5.7637 -2.8384   +0.0817   -0.0005 +0.0027 +0.0003\r\n",
      "T00 ERR ...   H   +62.8903 +8.1258 -1.3455   +0.0819   -0.0005 -0.0016 -0.0037\r\n",
      "T00 ERR ...   C   +64.1752 +19.2751 +7.8615   -0.3282   +0.0049 -0.0001 +0.0006\r\n",
      "T00 ERR ...   H   +62.9276 +19.0860 +6.2359   +0.0824   -0.0011 +0.0004 +0.0021\r\n",
      "T00 ERR ...   H   +63.4396 +18.1623 +9.4267   +0.0822   +0.0013 -0.0002 -0.0003\r\n",
      "T00 ERR ...   H   +66.0461 +18.6138 +7.3699   +0.0817   +0.0012 -0.0009 -0.0001\r\n",
      "T00 ERR ...   H   +64.2509 +21.2405 +8.4282   +0.0819   +0.0017 +0.0008 -0.0004\r\n",
      "T00 ERR ...   C   +61.3975 +17.7254 +18.4625   -0.3282   +0.0021 -0.0003 +0.0024\r\n",
      "T00 ERR ...   H   +60.9990 +19.0346 +16.9256   +0.0824   -0.0004 +0.0011 +0.0002\r\n",
      "T00 ERR ...   H   +61.0958 +18.6680 +20.2653   +0.0822   +0.0001 +0.0000 +0.0003\r\n",
      "T00 ERR ...   H   +60.1502 +16.1005 +18.3303   +0.0817   +0.0029 +0.0005 -0.0006\r\n",
      "T00 ERR ...   H   +63.3627 +17.1020 +18.3492   +0.0819   -0.0013 -0.0005 +0.0014\r\n",
      "T00 ERR ...               ... (1300 sites not displayed)\r\n"
     ]
    },
    {
     "name": "stdout",
     "output_type": "stream",
     "text": [
      "\r\n",
      "T00 ERR ... 2025-5-23 5:56:52 Filled DFT external multipole potential matrix\r\n",
      "T00 ERR ... 2025-5-23 5:56:52 Nuclei-external site interaction energy 0.0204347161\r\n",
      "T00 ERR ... 2025-5-23 5:56:52 Using hybrid functional with alpha=0.25\r\n",
      "T00 ERR ... 2025-5-23 5:56:52 Setup numerical integration grid medium for vxc functional XC_HYB_GGA_XC_PBEH\r\n",
      "T00 ERR ... 2025-5-23 5:56:52 Setup Initial Guess using: atom\r\n",
      "T00 ERR ... 2025-5-23 5:56:52 Calculating atom density for C"
     ]
    },
    {
     "name": "stdout",
     "output_type": "stream",
     "text": [
      "\r\n",
      "T00 ERR ... 2025-5-23 5:56:52 Calculating atom density for H"
     ]
    },
    {
     "name": "stdout",
     "output_type": "stream",
     "text": [
      "\r\n",
      "T00 ERR ... 2025-5-23 5:56:52 STARTING SCF cycle\r\n",
      "T00 ERR ...  --------------------------------------------------------------------------\r\n",
      "T00 ERR ... "
     ]
    },
    {
     "name": "stdout",
     "output_type": "stream",
     "text": [
      "\r\n",
      "T00 ERR ... 2025-5-23 5:56:52 Iteration 1 of 100"
     ]
    },
    {
     "name": "stdout",
     "output_type": "stream",
     "text": [
      "\r\n",
      "T00 ERR ... 2025-5-23 5:56:52 Total Energy -40.1458598207\r\n",
      "T00 ERR ... 2025-5-23 5:56:52 DIIs error 0.219656742681\r\n",
      "T00 ERR ... 2025-5-23 5:56:52 Delta Etot 0\r\n",
      "T00 ERR ... \r\n",
      "T00 ERR ... 2025-5-23 5:56:52 Iteration 2 of 100"
     ]
    },
    {
     "name": "stdout",
     "output_type": "stream",
     "text": [
      "\r\n",
      "T00 ERR ... 2025-5-23 5:56:52 Total Energy -40.18177831\r\n",
      "T00 ERR ... 2025-5-23 5:56:52 DIIs error 0.128764129509\r\n",
      "T00 ERR ... 2025-5-23 5:56:52 Delta Etot -0.0359184893321\r\n",
      "T00 ERR ... \r\n",
      "T00 ERR ... 2025-5-23 5:56:52 Iteration 3 of 100"
     ]
    },
    {
     "name": "stdout",
     "output_type": "stream",
     "text": [
      "\r\n",
      "T00 ERR ... 2025-5-23 5:56:53 Total Energy -40.1982525566\r\n",
      "T00 ERR ... 2025-5-23 5:56:53 DIIs error 0.0793380371981\r\n",
      "T00 ERR ... 2025-5-23 5:56:53 Delta Etot -0.0164742465678\r\n",
      "T00 ERR ... \r\n",
      "T00 ERR ... 2025-5-23 5:56:53 Iteration 4 of 100"
     ]
    },
    {
     "name": "stdout",
     "output_type": "stream",
     "text": [
      "\r\n",
      "T00 ERR ... 2025-5-23 5:56:53 Total Energy -40.2289133259\r\n",
      "T00 ERR ... 2025-5-23 5:56:53 DIIs error 0.0296216588801\r\n",
      "T00 ERR ... 2025-5-23 5:56:53 Delta Etot -0.0306607692472\r\n",
      "T00 ERR ... \r\n",
      "T00 ERR ... 2025-5-23 5:56:53 Iteration 5 of 100"
     ]
    },
    {
     "name": "stdout",
     "output_type": "stream",
     "text": [
      "\r\n",
      "T00 ERR ... 2025-5-23 5:56:53 Total Energy -40.2288054327\r\n",
      "T00 ERR ... 2025-5-23 5:56:53 DIIs error 0.0312016728405\r\n",
      "T00 ERR ... 2025-5-23 5:56:53 Delta Etot 0.000107893193814\r\n",
      "T00 ERR ... \r\n",
      "T00 ERR ... 2025-5-23 5:56:53 Iteration 6 of 100"
     ]
    },
    {
     "name": "stdout",
     "output_type": "stream",
     "text": [
      "\r\n",
      "T00 ERR ... 2025-5-23 5:56:53 Total Energy -40.2311567742\r\n",
      "T00 ERR ... 2025-5-23 5:56:53 DIIs error 0.000318998771142\r\n",
      "T00 ERR ... 2025-5-23 5:56:53 Delta Etot -0.00235134156116\r\n",
      "T00 ERR ... \r\n",
      "T00 ERR ... 2025-5-23 5:56:53 Iteration 7 of 100"
     ]
    },
    {
     "name": "stdout",
     "output_type": "stream",
     "text": [
      "\r\n",
      "T00 ERR ... 2025-5-23 5:56:53 Total Energy -40.2311570292\r\n",
      "T00 ERR ... 2025-5-23 5:56:53 DIIs error 2.05176369819e-05\r\n",
      "T00 ERR ... 2025-5-23 5:56:53 Delta Etot -2.54942065681e-07\r\n",
      "T00 ERR ... \r\n",
      "T00 ERR ... 2025-5-23 5:56:53 Iteration 8 of 100"
     ]
    },
    {
     "name": "stdout",
     "output_type": "stream",
     "text": [
      "\r\n",
      "T00 ERR ... 2025-5-23 5:56:53 Total Energy -40.2311570294\r\n",
      "T00 ERR ... 2025-5-23 5:56:53 DIIs error 1.08288602602e-05\r\n",
      "T00 ERR ... 2025-5-23 5:56:53 Delta Etot -2.45726994308e-10\r\n",
      "T00 ERR ... \r\n",
      "T00 ERR ... 2025-5-23 5:56:53 Iteration 9 of 100"
     ]
    },
    {
     "name": "stdout",
     "output_type": "stream",
     "text": [
      "\r\n",
      "T00 ERR ... 2025-5-23 5:56:53 Total Energy -40.2311570298\r\n",
      "T00 ERR ... 2025-5-23 5:56:53 DIIs error 3.38123574732e-06\r\n",
      "T00 ERR ... 2025-5-23 5:56:53 Delta Etot -3.93583832192e-10\r\n",
      "T00 ERR ... \r\n",
      "T00 ERR ... 2025-5-23 5:56:53 Iteration 10 of 100"
     ]
    },
    {
     "name": "stdout",
     "output_type": "stream",
     "text": [
      "\r\n",
      "T00 ERR ... 2025-5-23 5:56:53 Total Energy -40.2311570298\r\n",
      "T00 ERR ... 2025-5-23 5:56:53 DIIs error 9.01558822156e-07\r\n",
      "T00 ERR ... 2025-5-23 5:56:53 Delta Etot -4.23341361966e-11\r\n",
      "T00 ERR ... \r\n",
      "T00 ERR ... 2025-5-23 5:56:53 Iteration 11 of 100"
     ]
    },
    {
     "name": "stdout",
     "output_type": "stream",
     "text": [
      "\r\n",
      "T00 ERR ... 2025-5-23 5:56:53 Total Energy -40.2311570298\r\n",
      "T00 ERR ... 2025-5-23 5:56:53 DIIs error 1.37150522265e-09\r\n",
      "T00 ERR ... 2025-5-23 5:56:53 Delta Etot -2.92743607133e-12\r\n",
      "T00 ERR ... 2025-5-23 5:56:53 Total Energy has converged to -2.92743607e-12[Ha] after 11 iterations. DIIS error is converged up to 1.37150522e-09\r\n",
      "T00 ERR ... 2025-5-23 5:56:53 Final Single Point Energy -40.2311570298 Ha\r\n",
      "T00 ERR ... 2025-5-23 5:56:53 Final Local Exc contribution -5.1842972773 Ha\r\n",
      "T00 ERR ... 2025-5-23 5:56:53 Final Non Local Ex contribution -1.63926650414 Ha\r\n",
      "T00 ERR ...   Orbital energies: \r\n",
      "T00 ERR ...   index occupation energy(Hartree) \r\n",
      "T00 ERR ...      0      2   -10.1479683078\r\n",
      "T00 ERR ...      1      2   -0.7122457873\r\n",
      "T00 ERR ...      2      2   -0.4029850496\r\n",
      "T00 ERR ...      3      2   -0.4014087419\r\n",
      "T00 ERR ...      4      2   -0.3991518757\r\n",
      "T00 ERR ...      5      0   +0.1607447802\r\n",
      "T00 ERR ...      6      0   +0.2031215119\r\n",
      "T00 ERR ...      7      0   +0.2079954255\r\n",
      "T00 ERR ...      8      0   +0.2102407617\r\n",
      "T00 ERR ...      9      0   +0.7240940803\r\n",
      "T00 ERR ...     10      0   +0.7253248672\r\n",
      "T00 ERR ...     11      0   +0.7278273562\r\n",
      "T00 ERR ...     12      0   +1.0556347026\r\n",
      "T00 ERR ...     13      0   +1.0854841421\r\n",
      "T00 ERR ...     14      0   +1.0902661920\r\n",
      "T00 ERR ...     15      0   +1.0920981492\r\n",
      "T00 ERR ...     16      0   +1.7120862101\r\n",
      "T00 ERR ... 2025-5-23 5:56:53 Electric Dipole is[e*bohr]:\r\n",
      "\t\t dx=0.017196107193\r\n",
      "\t\t dy=0.0348517866194\r\n",
      "\t\t dz=-0.0139232613626\r\n",
      "T00 ERR ... Writing result to temp.orb\r\n",
      "T00 ERR ... 2025-5-23 5:56:53 DFT calculation took 1.677366119 seconds.\r\n",
      "T00 ERR ... 2025-5-23 5:56:53 RPA level range [0:16]\r\n",
      "T00 ERR ... 2025-5-23 5:56:53 GW  level range [0:16]\r\n",
      "T00 ERR ... 2025-5-23 5:56:53 BSE level range occ[0:4]  virt[5:16]\r\n",
      "T00 ERR ...  BSE type: full\r\n",
      "T00 ERR ... 2025-5-23 5:56:53 BSE Hamiltonian has size 120x120\r\n",
      "T00 ERR ...  BSE without Hqp offdiagonal elements\r\n",
      "T00 ERR ...  Running GW as: G0W0\r\n",
      "T00 ERR ...  qp_sc_limit [Hartree]: 1e-05\r\n",
      "T00 ERR ...  Tasks: \r\n",
      "T00 ERR ...  GW \r\n",
      "T00 ERR ...  singlets \r\n",
      "T00 ERR ...  triplets \r\n",
      "T00 ERR ...  Store: \r\n",
      "T00 ERR ...  GW \r\n",
      "T00 ERR ...  Sigma integration: ppm\r\n",
      "T00 ERR ...  eta: 0.001\r\n",
      "T00 ERR ...  QP solver: grid\r\n",
      "T00 ERR ...  QP grid steps: 1001\r\n",
      "T00 ERR ...  QP grid spacing: 0.001\r\n",
      "T00 ERR ... 2025-5-23 5:56:53 Using 2 threads\r\n",
      "T00 ERR ... 2025-5-23 5:56:53 Using native Eigen implementation, no BLAS overload \r\n",
      "T00 ERR ... 2025-5-23 5:56:53 Molecule Coordinates [A] \r\n",
      "T00 ERR ...     0    C   30.3000 1.2704 5.5205\r\n",
      "T00 ERR ...     1    H   31.2392 1.4802 6.0301\r\n",
      "T00 ERR ...     2    H   30.4910 0.6554 4.6433\r\n",
      "T00 ERR ...     3    H   29.8500 2.2100 5.2100\r\n",
      "T00 ERR ...     4    H   29.6200 0.7500 6.2000\r\n",
      "T00 ERR ... 2025-5-23 5:56:53 DFT data was created by xtp\r\n",
      "T00 ERR ... 2025-5-23 5:56:53 Loaded DFT Basis Set 3-21G\r\n",
      "T00 ERR ... 2025-5-23 5:56:53 Filled DFT Basis of size 17\r\n",
      "T00 ERR ... 2025-5-23 5:56:53 Loaded Auxbasis Set aux-def2-svp"
     ]
    },
    {
     "name": "stdout",
     "output_type": "stream",
     "text": [
      "\r\n",
      "T00 ERR ... 2025-5-23 5:56:53 Filled Auxbasis of size 104\r\n",
      "T00 ERR ... 2025-5-23 5:56:53 Calculating Mmn_beta (3-center-repulsion x orbitals)  \r\n",
      "T00 ERR ... 2025-5-23 5:56:53 Calculated Mmn_beta (3-center-repulsion x orbitals)  \r\n",
      "T00 ERR ... 2025-5-23 5:56:53 Integrating Vxc with functional XC_HYB_GGA_XC_PBEH"
     ]
    },
    {
     "name": "stdout",
     "output_type": "stream",
     "text": [
      "\r\n",
      "T00 ERR ... 2025-5-23 5:56:53 Set hybrid exchange factor: 0.25\r\n",
      "T00 ERR ... 2025-5-23 5:56:53 Calculated exchange-correlation expectation values \r\n",
      "T00 ERR ... 2025-5-23 5:56:53 Calculated Hartree exchange contribution\r\n",
      "T00 ERR ... 2025-5-23 5:56:53 Scissor shifting DFT energies by: 0 Hrt"
     ]
    },
    {
     "name": "stdout",
     "output_type": "stream",
     "text": [
      "\r\n",
      "T00 ERR ...   ====== Perturbative quasiparticle energies (Hartree) ====== \r\n",
      "T00 ERR ...    DeltaHLGap = +0.215499 Hartree\r\n",
      "T00 ERR ...   Level =    0 DFT = -10.1480 VXC = -1.7031 S-X = -2.6689 S-C = +0.5631 GWA = -10.5506\r\n",
      "T00 ERR ...   Level =    1 DFT = -0.7122 VXC = -0.4404 S-X = -0.6606 S-C = +0.1083 GWA = -0.8241\r\n",
      "T00 ERR ...   Level =    2 DFT = -0.4030 VXC = -0.3959 S-X = -0.5286 S-C = +0.0324 GWA = -0.5033\r\n",
      "T00 ERR ...   Level =    3 DFT = -0.4014 VXC = -0.3967 S-X = -0.5297 S-C = +0.0328 GWA = -0.5016\r\n",
      "T00 ERR ...   HOMO  =    4 DFT = -0.3992 VXC = -0.3970 S-X = -0.5300 S-C = +0.0329 GWA = -0.4993\r\n",
      "T00 ERR ...   LUMO  =    5 DFT = +0.1607 VXC = -0.2417 S-X = -0.1017 S-C = -0.0246 GWA = +0.2761\r\n",
      "T00 ERR ...   Level =    6 DFT = +0.2031 VXC = -0.2616 S-X = -0.1101 S-C = -0.0238 GWA = +0.3309\r\n",
      "T00 ERR ...   Level =    7 DFT = +0.2080 VXC = -0.2612 S-X = -0.1097 S-C = -0.0239 GWA = +0.3356\r\n",
      "T00 ERR ...   Level =    8 DFT = +0.2102 VXC = -0.2613 S-X = -0.1098 S-C = -0.0238 GWA = +0.3379\r\n",
      "T00 ERR ...   Level =    9 DFT = +0.7241 VXC = -0.3183 S-X = -0.1082 S-C = -0.0635 GWA = +0.8706\r\n",
      "T00 ERR ...   Level =   10 DFT = +0.7253 VXC = -0.3181 S-X = -0.1079 S-C = -0.0638 GWA = +0.8718\r\n",
      "T00 ERR ...   Level =   11 DFT = +0.7278 VXC = -0.3177 S-X = -0.1073 S-C = -0.0643 GWA = +0.8739\r\n",
      "T00 ERR ...   Level =   12 DFT = +1.0556 VXC = -0.4047 S-X = -0.1334 S-C = -0.0323 GWA = +1.2946\r\n",
      "T00 ERR ...   Level =   13 DFT = +1.0855 VXC = -0.3963 S-X = -0.1274 S-C = -0.1739 GWA = +1.1805\r\n",
      "T00 ERR ...   Level =   14 DFT = +1.0903 VXC = -0.3954 S-X = -0.1271 S-C = -0.1730 GWA = +1.1856\r\n",
      "T00 ERR ...   Level =   15 DFT = +1.0921 VXC = -0.3947 S-X = -0.1268 S-C = -0.1727 GWA = +1.1872\r\n",
      "T00 ERR ...   Level =   16 DFT = +1.7121 VXC = -0.3559 S-X = -0.1045 S-C = -0.0297 GWA = +1.9338\r\n",
      "T00 ERR ... 2025-5-23 5:56:53 Calculated offdiagonal part of Sigma  \r\n",
      "T00 ERR ... 2025-5-23 5:56:53 Full quasiparticle Hamiltonian  \r\n",
      "T00 ERR ...   ====== Diagonalized quasiparticle energies (Hartree) ====== \r\n",
      "T00 ERR ...   Level =    0 PQP = -10.550618 DQP = -10.550803 \r\n",
      "T00 ERR ...   Level =    1 PQP = -0.824131 DQP = -0.824570 \r\n",
      "T00 ERR ...   Level =    2 PQP = -0.503274 DQP = -0.503545 \r\n",
      "T00 ERR ...   Level =    3 PQP = -0.501610 DQP = -0.501818 \r\n",
      "T00 ERR ...   HOMO  =    4 PQP = -0.499294 DQP = -0.499488 \r\n",
      "T00 ERR ...   LUMO  =    5 PQP = +0.276102 DQP = +0.267925 \r\n",
      "T00 ERR ...   Level =    6 PQP = +0.330897 DQP = +0.329042 \r\n",
      "T00 ERR ...   Level =    7 PQP = +0.335624 DQP = +0.334171 \r\n",
      "T00 ERR ...   Level =    8 PQP = +0.337875 DQP = +0.336444 \r\n",
      "T00 ERR ...   Level =    9 PQP = +0.870604 DQP = +0.868903 \r\n",
      "T00 ERR ...   Level =   10 PQP = +0.871759 DQP = +0.869877 \r\n",
      "T00 ERR ...   Level =   11 PQP = +0.873942 DQP = +0.871698 \r\n",
      "T00 ERR ...   Level =   12 PQP = +1.294628 DQP = +1.183351 \r\n",
      "T00 ERR ...   Level =   13 PQP = +1.180481 DQP = +1.189437 \r\n",
      "T00 ERR ...   Level =   14 PQP = +1.185570 DQP = +1.191547 \r\n",
      "T00 ERR ...   Level =   15 PQP = +1.187236 DQP = +1.289789 \r\n",
      "T00 ERR ...   Level =   16 PQP = +1.933779 DQP = +1.947610 \r\n",
      "T00 ERR ... 2025-5-23 5:56:53 Diagonalized QP Hamiltonian  \r\n",
      "T00 ERR ... 2025-5-23 5:56:53 GW calculation took 0.120840803 seconds.\r\n",
      "T00 ERR ... 2025-5-23 5:56:53 Setup Full triplet hamiltonian \r\n",
      "T00 ERR ... 2025-5-23 5:56:53 Davidson Solver using 2 threads.\r\n",
      "T00 ERR ... 2025-5-23 5:56:53 Tolerance : 0.0001\r\n",
      "T00 ERR ... 2025-5-23 5:56:53 DPR Correction\r\n",
      "T00 ERR ... 2025-5-23 5:56:53 Matrix size : 120x120\r\n",
      "T00 ERR ... 2025-5-23 5:56:53 iter\tSearch Space\tNorm\r\n",
      "T00 ERR ... 2025-5-23 5:56:53    0           20 \t 1.28e-01 \t  0.00% converged\r\n",
      "T00 ERR ... 2025-5-23 5:56:53    1           35 \t 1.42e-02 \t  0.00% converged\r\n",
      "T00 ERR ... 2025-5-23 5:56:53    2           50 \t 8.66e-04 \t 10.00% converged\r\n",
      "T00 ERR ... 2025-5-23 5:56:53    3           62 \t 2.83e-05 \t 100.00% converged\r\n",
      "T00 ERR ... 2025-5-23 5:56:53 Davidson converged after 3 iterations.\r\n",
      "T00 ERR ... 2025-5-23 5:56:53-----------------------------------\r\n",
      "T00 ERR ... 2025-5-23 5:56:53- Davidson ran for 0.007429913secs.\r\n",
      "T00 ERR ... 2025-5-23 5:56:53-----------------------------------\r\n",
      "T00 ERR ... 2025-5-23 5:56:53 Solved BSE for triplets \r\n",
      "T00 ERR ...   ====== triplet energies (eV) ====== \r\n",
      "T00 ERR ...   T =    1 Omega = +11.596180714273 eV  lamdba = +106.93 nm <FT> = +22.8066 <K_d> = -11.2105\r\n",
      "T00 ERR ...    \r\n",
      "T00 ERR ...   T =    2 Omega = +11.766968309106 eV  lamdba = +105.38 nm <FT> = +22.9498 <K_d> = -11.1829\r\n",
      "T00 ERR ...    \r\n",
      "T00 ERR ...   T =    3 Omega = +11.821827371804 eV  lamdba = +104.89 nm <FT> = +22.4523 <K_d> = -10.6305\r\n",
      "T00 ERR ...    \r\n",
      "T00 ERR ...   T =    4 Omega = +11.875782489340 eV  lamdba = +104.41 nm <FT> = +22.4654 <K_d> = -10.5896\r\n",
      "T00 ERR ...    \r\n",
      "T00 ERR ...   T =    5 Omega = +13.661363821590 eV  lamdba = +90.77 nm <FT> = +22.2495 <K_d> = -8.5881\r\n",
      "T00 ERR ...    \r\n",
      "T00 ERR ...   T =    6 Omega = +13.756438943439 eV  lamdba = +90.14 nm <FT> = +22.2986 <K_d> = -8.5421\r\n",
      "T00 ERR ...    \r\n",
      "T00 ERR ...   T =    7 Omega = +13.938198533387 eV  lamdba = +88.96 nm <FT> = +22.3920 <K_d> = -8.4538\r\n",
      "T00 ERR ...    \r\n",
      "T00 ERR ...   T =    8 Omega = +14.131910036874 eV  lamdba = +87.74 nm <FT> = +22.7348 <K_d> = -8.6029\r\n",
      "T00 ERR ...            HOMO-0   -> LUMO+1    : 72.2%\r\n",
      "T00 ERR ...    \r\n",
      "T00 ERR ...   T =    9 Omega = +14.224640554346 eV  lamdba = +87.17 nm <FT> = +22.8414 <K_d> = -8.6168\r\n",
      "T00 ERR ...    \r\n",
      "T00 ERR ...   T =   10 Omega = +14.370760772516 eV  lamdba = +86.29 nm <FT> = +22.8625 <K_d> = -8.4918\r\n",
      "T00 ERR ...            HOMO-2   -> LUMO+2    : 59.8%\r\n",
      "T00 ERR ...    \r\n",
      "T00 ERR ... 2025-5-23 5:56:53 Setup Full singlet hamiltonian \r\n",
      "T00 ERR ... 2025-5-23 5:56:53 Davidson Solver using 2 threads.\r\n",
      "T00 ERR ... 2025-5-23 5:56:53 Tolerance : 0.0001\r\n",
      "T00 ERR ... 2025-5-23 5:56:53 DPR Correction\r\n",
      "T00 ERR ... 2025-5-23 5:56:53 Matrix size : 120x120\r\n",
      "T00 ERR ... 2025-5-23 5:56:53 iter\tSearch Space\tNorm\r\n",
      "T00 ERR ... 2025-5-23 5:56:53    0           20 \t 1.28e-01 \t  0.00% converged\r\n",
      "T00 ERR ... 2025-5-23 5:56:53    1           35 \t 1.29e-02 \t  0.00% converged\r\n",
      "T00 ERR ... 2025-5-23 5:56:53    2           50 \t 9.32e-04 \t 40.00% converged\r\n",
      "T00 ERR ... 2025-5-23 5:56:53    3           61 \t 3.36e-05 \t 100.00% converged\r\n",
      "T00 ERR ... 2025-5-23 5:56:53 Davidson converged after 3 iterations.\r\n",
      "T00 ERR ... 2025-5-23 5:56:53-----------------------------------\r\n",
      "T00 ERR ... 2025-5-23 5:56:53- Davidson ran for 0.008114529secs.\r\n",
      "T00 ERR ... 2025-5-23 5:56:53-----------------------------------\r\n",
      "T00 ERR ... 2025-5-23 5:56:53 Solved BSE for singlets \r\n",
      "T00 ERR ...   ====== singlet energies (eV) ====== \r\n",
      "T00 ERR ...   S =    1 Omega = +13.841018751960 eV  lamdba = +89.59 nm <FT> = +21.2211 <K_x> = +0.9816 <K_d> = -8.3617\r\n",
      "T00 ERR ...            TrDipole length gauge[e*bohr]  dx = +0.5271 dy = -0.4204 dz = +0.3380 |d|^2 = +0.5689 f = +0.1929\r\n",
      "T00 ERR ...            HOMO-0   -> LUMO+0    : 98.7%\r\n",
      "T00 ERR ... \r\n",
      "T00 ERR ...   S =    2 Omega = +13.902573923807 eV  lamdba = +89.19 nm <FT> = +21.2948 <K_x> = +1.0336 <K_d> = -8.4258\r\n",
      "T00 ERR ...            TrDipole length gauge[e*bohr]  dx = -0.2054 dy = -0.6244 dz = -0.4756 |d|^2 = +0.6583 f = +0.2242\r\n",
      "T00 ERR ...            HOMO-1   -> LUMO+0    : 97.0%\r\n",
      "T00 ERR ... \r\n",
      "T00 ERR ...   S =    3 Omega = +13.964478239553 eV  lamdba = +88.80 nm <FT> = +21.3551 <K_x> = +1.1809 <K_d> = -8.5715\r\n",
      "T00 ERR ...            TrDipole length gauge[e*bohr]  dx = -0.6221 dy = -0.3073 dz = +0.6422 |d|^2 = +0.8938 f = +0.3058\r\n",
      "T00 ERR ...            HOMO-2   -> LUMO+0    : 97.5%\r\n",
      "T00 ERR ... \r\n",
      "T00 ERR ...   S =    4 Omega = +14.553151723768 eV  lamdba = +85.20 nm <FT> = +22.7212 <K_x> = +0.3347 <K_d> = -8.5027\r\n",
      "T00 ERR ...            TrDipole length gauge[e*bohr]  dx = -0.1671 dy = +0.0651 dz = -0.0373 |d|^2 = +0.0336 f = +0.0120\r\n",
      "T00 ERR ...            HOMO-0   -> LUMO+1    : 76.2%\r\n",
      "T00 ERR ... \r\n",
      "T00 ERR ...   S =    5 Omega = +14.601354343648 eV  lamdba = +84.92 nm <FT> = +22.7856 <K_x> = +0.3181 <K_d> = -8.5023\r\n",
      "T00 ERR ...            TrDipole length gauge[e*bohr]  dx = +0.0476 dy = -0.1230 dz = -0.2068 |d|^2 = +0.0602 f = +0.0215\r\n",
      "T00 ERR ...            HOMO-1   -> LUMO+1    : 59.6%\r\n",
      "T00 ERR ... \r\n",
      "T00 ERR ...   S =    6 Omega = +14.635546274389 eV  lamdba = +84.73 nm <FT> = +22.8459 <K_x> = +0.2781 <K_d> = -8.4884\r\n",
      "T00 ERR ...            TrDipole length gauge[e*bohr]  dx = -0.1179 dy = +0.0200 dz = -0.0860 |d|^2 = +0.0217 f = +0.0078\r\n",
      "T00 ERR ...            HOMO-0   -> LUMO+2    : 56.0%\r\n",
      "T00 ERR ... \r\n",
      "T00 ERR ...   S =    7 Omega = +14.989501459373 eV  lamdba = +82.72 nm <FT> = +22.8533 <K_x> = +0.7066 <K_d> = -8.5704\r\n",
      "T00 ERR ...            TrDipole length gauge[e*bohr]  dx = +0.0544 dy = +0.0836 dz = +0.0645 |d|^2 = +0.0141 f = +0.0052\r\n",
      "T00 ERR ... \r\n",
      "T00 ERR ...   S =    8 Omega = +15.012626209271 eV  lamdba = +82.60 nm <FT> = +22.9031 <K_x> = +0.6695 <K_d> = -8.5599\r\n",
      "T00 ERR ...            TrDipole length gauge[e*bohr]  dx = +0.0235 dy = +0.0453 dz = -0.0331 |d|^2 = +0.0037 f = +0.0014\r\n",
      "T00 ERR ...            HOMO-2   -> LUMO+3    : 69.1%\r\n",
      "T00 ERR ... \r\n",
      "T00 ERR ...   S =    9 Omega = +15.999483394104 eV  lamdba = +77.50 nm <FT> = +23.1699 <K_x> = +2.1930 <K_d> = -9.3634\r\n",
      "T00 ERR ...            TrDipole length gauge[e*bohr]  dx = -0.9040 dy = -0.8756 dz = +0.5764 |d|^2 = +1.9162 f = +0.7511\r\n",
      "T00 ERR ...            HOMO-2   -> LUMO+1    : 59.7%\r\n",
      "T00 ERR ... \r\n",
      "T00 ERR ...   S =   10 Omega = +16.031470675681 eV  lamdba = +77.35 nm <FT> = +23.2242 <K_x> = +2.2784 <K_d> = -9.4711\r\n",
      "T00 ERR ...            TrDipole length gauge[e*bohr]  dx = -0.4228 dy = +1.0702 dz = +0.8490 |d|^2 = +2.0448 f = +0.8031\r\n",
      "T00 ERR ... \r\n",
      "T00 ERR ... 2025-5-23 5:56:53 BSE calculation took 0.018246687 seconds.\r\n",
      "T00 ERR ... 2025-5-23 5:56:53 GWBSE calculation finished \r\n",
      "T00 ERR ... Next State is: s1\r\n",
      "T00 ERR ... 2025-5-23 5:56:53 Evaluating polarregion 1\r\n",
      "T00 ERR ... 2025-5-23 5:56:53 Evaluating interaction between polarregion 1 and qmregion 0"
     ]
    },
    {
     "name": "stdout",
     "output_type": "stream",
     "text": [
      "\r\n",
      "T00 ERR ... Next State is: s1"
     ]
    },
    {
     "name": "stdout",
     "output_type": "stream",
     "text": [
      "\r\n",
      "T00 ERR ... 2025-5-23 5:56:54 Evaluating interaction between polarregion 1 and staticregion 2\r\n",
      "T00 ERR ... 2025-5-23 5:56:54 Starting Solving for classical polarization with 1380 degrees of freedom.\r\n",
      "T00 ERR ... 2025-5-23 5:56:54 CG: #iterations: 5, estimated error: 1.82320981153e-05\r\n",
      "T00 ERR ...   Total static energy [hrt]= 0.0009102654542\r\n",
      "T00 ERR ...   Total polar energy [hrt]= 0.0007586913404\r\n",
      "T00 ERR ...  Total energy [hrt]= 0.001668956795\r\n",
      "T00 ERR ... 2025-5-23 5:56:54 Evaluating staticregion 2\r\n",
      "T00 ERR ... 2025-5-23 5:56:54 Writing checkpoint to checkpoint_iter_4.hdf5"
     ]
    },
    {
     "name": "stdout",
     "output_type": "stream",
     "text": [
      "\r\n",
      "T00 ERR ...  Region:qmregion 0 is not converged deltaE=0.0001281011347 RMS Dmat=0.006202998419 MaxDmat=0.03552164256\r\n",
      "T00 ERR ... 2025-5-23 5:56:54 Region:polarregion 1 is not converged deltaE=6.72138932e-05\r\n",
      "T00 ERR ... 2025-5-23 5:56:54 --Total Energy all regions -39.72084001\r\n",
      "T00 ERR ... 2025-5-23 5:56:54 --Inter Region SCF Iteration 5 of 50\r\n",
      "T00 ERR ... 2025-5-23 5:56:54 Evaluating qmregion 0\r\n",
      "T00 ERR ... 2025-5-23 5:56:54 Evaluating interaction between qmregion 0 and polarregion 1\r\n",
      "T00 ERR ... 2025-5-23 5:56:54 Evaluating interaction between qmregion 0 and staticregion 2\r\n",
      "T00 ERR ... Running DFT calculation\r\n",
      "T00 ERR ... 2025-5-23 5:56:54 Using 2 threads\r\n",
      "T00 ERR ... 2025-5-23 5:56:54 Using native Eigen implementation, no BLAS overload \r\n",
      "T00 ERR ...  Molecule Coordinates [A] \r\n",
      "T00 ERR ...   C   +30.3000 +1.2704 +5.5205\r\n",
      "T00 ERR ...   H   +31.2392 +1.4802 +6.0301\r\n",
      "T00 ERR ...   H   +30.4910 +0.6554 +4.6433\r\n",
      "T00 ERR ...   H   +29.8500 +2.2100 +5.2100\r\n",
      "T00 ERR ...   H   +29.6200 +0.7500 +6.2000\r\n",
      "T00 ERR ... 2025-5-23 5:56:54 Loaded DFT Basis Set 3-21G with 17 functions"
     ]
    },
    {
     "name": "stdout",
     "output_type": "stream",
     "text": [
      "\r\n",
      "T00 ERR ... 2025-5-23 5:56:54 Loaded AUX Basis Set aux-def2-svp with 104 functions\r\n",
      "T00 ERR ... 2025-5-23 5:56:54 Total number of electrons: 10\r\n",
      "T00 ERR ... 2025-5-23 5:56:54 Smallest value of AOOverlap matrix is 0.03364074275\r\n",
      "T00 ERR ... 2025-5-23 5:56:54 Removed 0 basisfunction from inverse overlap matrix\r\n",
      "T00 ERR ... 2025-5-23 5:56:54 Convergence Options:\r\n",
      "T00 ERR ... \t\t Delta E [Ha]: 1e-07\r\n",
      "T00 ERR ... \t\t DIIS max error: 1e-07\r\n",
      "T00 ERR ... \t\t DIIS histlength: 20\r\n",
      "T00 ERR ... \t\t ADIIS start: 0.8\r\n",
      "T00 ERR ... \t\t DIIS start: 0.002\r\n",
      "T00 ERR ... \t\t Deleting oldest element from DIIS hist\r\n",
      "T00 ERR ... \t\t Levelshift[Ha]: 0\r\n",
      "T00 ERR ... \t\t Levelshift end: 0.2\r\n",
      "T00 ERR ... \t\t Mixing Parameter alpha: 0.7\r\n",
      "T00 ERR ... 2025-5-23 5:56:54 Setup invariant parts of Electron Repulsion integrals \r\n",
      "T00 ERR ... 2025-5-23 5:56:54 Constructed independent particle hamiltonian \r\n",
      "T00 ERR ... 2025-5-23 5:56:54 Nuclear Repulsion Energy is 13.4434088\r\n",
      "T00 ERR ... 2025-5-23 5:56:54 1350 External sites\r\n",
      "T00 ERR ...  Name      Coordinates[a0]     charge[e]         dipole[e*a0]    \r\n",
      "T00 ERR ...   C   +63.8902 +7.9543 +11.0171   -0.3282   +0.0087 +0.0007 -0.0060\r\n",
      "T00 ERR ...   H   +62.3892 +6.5470 +10.9796   +0.0824   +0.0091 +0.0023 +0.0000\r\n",
      "T00 ERR ...   H   +65.3194 +7.4736 +9.6186   +0.0822   +0.0037 -0.0009 -0.0023\r\n",
      "T00 ERR ...   H   +63.1170 +9.8077 +10.6203   +0.0817   +0.0015 +0.0012 +0.0010\r\n",
      "T00 ERR ...   H   +64.7422 +7.9557 +12.9068   +0.0819   +0.0042 +0.0032 -0.0008\r\n",
      "T00 ERR ...   C   +63.9128 -0.3996 +22.8673   -0.3282   -0.0028 +0.0015 +0.0051\r\n",
      "T00 ERR ...   H   +63.0449 -1.1731 +21.1692   +0.0824   -0.0001 -0.0006 +0.0014\r\n",
      "T00 ERR ...   H   +62.7676 +1.1530 +23.5795   +0.0822   -0.0015 +0.0049 +0.0022\r\n",
      "T00 ERR ...   H   +64.0430 -1.8922 +24.2830   +0.0817   +0.0010 -0.0003 -0.0009\r\n",
      "T00 ERR ...   H   +65.8004 +0.2810 +22.4122   +0.0819   -0.0036 -0.0009 +0.0016\r\n",
      "T00 ERR ...   C   +61.7182 -0.4374 -3.3115   -0.3282   -0.0001 -0.0018 +0.0010\r\n",
      "T00 ERR ...   H   +60.6600 -1.0798 -4.9554   +0.0824   +0.0011 +0.0014 +0.0013\r\n",
      "T00 ERR ...   H   +63.3309 +0.6815 -3.9252   +0.0822   -0.0013 -0.0019 -0.0005\r\n",
      "T00 ERR ...   H   +62.3800 -2.0623 -2.2148   +0.0817   +0.0010 -0.0019 +0.0013\r\n",
      "T00 ERR ...   H   +60.5092 +0.7345 -2.1392   +0.0819   -0.0026 -0.0035 -0.0018\r\n",
      "T00 ERR ...   C   +62.0402 +12.7739 +4.5175   -0.3282   +0.0027 +0.0004 +0.0017\r\n",
      "T00 ERR ...   H   +60.1049 +13.3052 +4.0622   +0.0824   +0.0002 -0.0013 -0.0010\r\n",
      "T00 ERR ...   H   +62.0812 +11.8167 +6.3372   +0.0822   +0.0006 -0.0022 -0.0015\r\n",
      "T00 ERR ...   H   +63.2115 +14.4753 +4.6109   +0.0817   +0.0028 +0.0022 +0.0014\r\n",
      "T00 ERR ...   H   +62.7769 +11.5084 +3.0803   +0.0819   -0.0002 -0.0010 +0.0006\r\n",
      "T00 ERR ...   C   +60.6789 +14.3239 +12.6808   -0.3282   -0.0019 +0.0028 +0.0015\r\n",
      "T00 ERR ...   H   +61.0756 +13.9461 +10.6972   +0.0824   -0.0037 +0.0039 -0.0004\r\n",
      "T00 ERR ...   H   +61.0224 +16.3108 +13.0851   +0.0822   -0.0001 +0.0006 +0.0033\r\n",
      "T00 ERR ...   H   +58.7327 +13.8328 +13.0580   +0.0817   +0.0007 -0.0002 +0.0003\r\n",
      "T00 ERR ...   H   +61.9074 +13.1525 +13.8517   +0.0819   -0.0006 -0.0006 +0.0035\r\n",
      "T00 ERR ...   C   +68.7870 +4.1961 +17.9521   -0.3282   +0.0048 +0.0003 +0.0062\r\n",
      "T00 ERR ...   H   +68.2015 +2.4962 +18.9532   +0.0824   +0.0001 -0.0005 -0.0013\r\n",
      "T00 ERR ...   H   +67.2445 +4.8625 +16.7665   +0.0822   +0.0014 -0.0031 +0.0028\r\n",
      "T00 ERR ...   H   +70.4303 +3.7606 +16.7997   +0.0817   -0.0007 +0.0010 +0.0004\r\n",
      "T00 ERR ...   H   +69.2964 +5.6503 +19.3130   +0.0819   +0.0010 +0.0009 +0.0055\r\n",
      "T00 ERR ...   C   +54.0832 +4.4983 +27.1938   -0.3282   -0.0006 -0.0025 -0.0012\r\n",
      "T00 ERR ...   H   +53.5372 +6.4564 +27.5139   +0.0824   -0.0012 -0.0015 +0.0002\r\n",
      "T00 ERR ...   H   +52.9768 +3.2670 +28.4141   +0.0822   -0.0007 -0.0015 +0.0003\r\n",
      "T00 ERR ...   H   +53.7249 +4.0062 +25.2278   +0.0817   +0.0021 -0.0008 +0.0002\r\n",
      "T00 ERR ...   H   +56.0682 +4.2330 +27.6278   +0.0819   -0.0032 +0.0014 -0.0015\r\n",
      "T00 ERR ...   C   +63.8174 +6.3112 -1.0788   -0.3282   -0.0007 -0.0004 -0.0003\r\n",
      "T00 ERR ...   H   +65.2393 +6.4796 +0.3993   +0.0824   -0.0003 -0.0010 +0.0014\r\n",
      "T00 ERR ...   H   +62.4364 +4.8836 -0.5459   +0.0822   +0.0021 +0.0009 -0.0007\r\n",
      "T00 ERR ...   H   +64.7422 +5.7637 -2.8384   +0.0817   -0.0005 +0.0027 +0.0002\r\n",
      "T00 ERR ...   H   +62.8903 +8.1258 -1.3455   +0.0819   -0.0005 -0.0016 -0.0037\r\n",
      "T00 ERR ...   C   +64.1752 +19.2751 +7.8615   -0.3282   +0.0049 -0.0001 +0.0006\r\n",
      "T00 ERR ...   H   +62.9276 +19.0860 +6.2359   +0.0824   -0.0011 +0.0004 +0.0021\r\n",
      "T00 ERR ...   H   +63.4396 +18.1623 +9.4267   +0.0822   +0.0013 -0.0002 -0.0003\r\n",
      "T00 ERR ...   H   +66.0461 +18.6138 +7.3699   +0.0817   +0.0012 -0.0009 -0.0001\r\n",
      "T00 ERR ...   H   +64.2509 +21.2405 +8.4282   +0.0819   +0.0017 +0.0008 -0.0004\r\n",
      "T00 ERR ...   C   +61.3975 +17.7254 +18.4625   -0.3282   +0.0021 -0.0003 +0.0025\r\n",
      "T00 ERR ...   H   +60.9990 +19.0346 +16.9256   +0.0824   -0.0004 +0.0011 +0.0002\r\n",
      "T00 ERR ...   H   +61.0958 +18.6680 +20.2653   +0.0822   +0.0001 +0.0000 +0.0003\r\n",
      "T00 ERR ...   H   +60.1502 +16.1005 +18.3303   +0.0817   +0.0028 +0.0005 -0.0006\r\n",
      "T00 ERR ...   H   +63.3627 +17.1020 +18.3492   +0.0819   -0.0014 -0.0005 +0.0014\r\n",
      "T00 ERR ...               ... (1300 sites not displayed)\r\n"
     ]
    },
    {
     "name": "stdout",
     "output_type": "stream",
     "text": [
      "\r\n",
      "T00 ERR ... 2025-5-23 5:56:54 Filled DFT external multipole potential matrix\r\n",
      "T00 ERR ... 2025-5-23 5:56:54 Nuclei-external site interaction energy 0.0204347161\r\n",
      "T00 ERR ... 2025-5-23 5:56:54 Using hybrid functional with alpha=0.25\r\n",
      "T00 ERR ... 2025-5-23 5:56:54 Setup numerical integration grid medium for vxc functional XC_HYB_GGA_XC_PBEH"
     ]
    },
    {
     "name": "stdout",
     "output_type": "stream",
     "text": [
      "\r\n",
      "T00 ERR ... 2025-5-23 5:56:54 Setup Initial Guess using: atom\r\n",
      "T00 ERR ... 2025-5-23 5:56:54 Calculating atom density for C"
     ]
    },
    {
     "name": "stdout",
     "output_type": "stream",
     "text": [
      "\r\n",
      "T00 ERR ... 2025-5-23 5:56:54 Calculating atom density for H"
     ]
    },
    {
     "name": "stdout",
     "output_type": "stream",
     "text": [
      "\r\n",
      "T00 ERR ... 2025-5-23 5:56:55 STARTING SCF cycle\r\n",
      "T00 ERR ...  --------------------------------------------------------------------------\r\n",
      "T00 ERR ... \r\n",
      "T00 ERR ... 2025-5-23 5:56:55 Iteration 1 of 100"
     ]
    },
    {
     "name": "stdout",
     "output_type": "stream",
     "text": [
      "\r\n",
      "T00 ERR ... 2025-5-23 5:56:55 Total Energy -40.1457508062\r\n",
      "T00 ERR ... 2025-5-23 5:56:55 DIIs error 0.219656634866\r\n",
      "T00 ERR ... 2025-5-23 5:56:55 Delta Etot 0\r\n",
      "T00 ERR ... \r\n",
      "T00 ERR ... 2025-5-23 5:56:55 Iteration 2 of 100"
     ]
    },
    {
     "name": "stdout",
     "output_type": "stream",
     "text": [
      "\r\n",
      "T00 ERR ... 2025-5-23 5:56:55 Total Energy -40.1816692356\r\n",
      "T00 ERR ... 2025-5-23 5:56:55 DIIs error 0.128764122054\r\n",
      "T00 ERR ... 2025-5-23 5:56:55 Delta Etot -0.0359184293978\r\n",
      "T00 ERR ... \r\n",
      "T00 ERR ... 2025-5-23 5:56:55 Iteration 3 of 100"
     ]
    },
    {
     "name": "stdout",
     "output_type": "stream",
     "text": [
      "\r\n",
      "T00 ERR ... 2025-5-23 5:56:55 Total Energy -40.1981434648\r\n",
      "T00 ERR ... 2025-5-23 5:56:55 DIIs error 0.0793380500478\r\n",
      "T00 ERR ... 2025-5-23 5:56:55 Delta Etot -0.016474229221\r\n",
      "T00 ERR ... \r\n",
      "T00 ERR ... 2025-5-23 5:56:55 Iteration 4 of 100"
     ]
    },
    {
     "name": "stdout",
     "output_type": "stream",
     "text": [
      "\r\n",
      "T00 ERR ... 2025-5-23 5:56:55 Total Energy -40.2288041953\r\n",
      "T00 ERR ... 2025-5-23 5:56:55 DIIs error 0.0296202360613\r\n",
      "T00 ERR ... 2025-5-23 5:56:55 Delta Etot -0.0306607304652\r\n",
      "T00 ERR ... \r\n",
      "T00 ERR ... 2025-5-23 5:56:55 Iteration 5 of 100"
     ]
    },
    {
     "name": "stdout",
     "output_type": "stream",
     "text": [
      "\r\n",
      "T00 ERR ... 2025-5-23 5:56:55 Total Energy -40.2286963076\r\n",
      "T00 ERR ... 2025-5-23 5:56:55 DIIs error 0.0312002643586\r\n",
      "T00 ERR ... 2025-5-23 5:56:55 Delta Etot 0.00010788767603\r\n",
      "T00 ERR ... \r\n",
      "T00 ERR ... 2025-5-23 5:56:55 Iteration 6 of 100"
     ]
    },
    {
     "name": "stdout",
     "output_type": "stream",
     "text": [
      "\r\n",
      "T00 ERR ... 2025-5-23 5:56:55 Total Energy -40.2310476427\r\n",
      "T00 ERR ... 2025-5-23 5:56:55 DIIs error 0.000318973655782\r\n",
      "T00 ERR ... 2025-5-23 5:56:55 Delta Etot -0.00235133507853\r\n",
      "T00 ERR ... \r\n",
      "T00 ERR ... 2025-5-23 5:56:55 Iteration 7 of 100"
     ]
    },
    {
     "name": "stdout",
     "output_type": "stream",
     "text": [
      "\r\n",
      "T00 ERR ... 2025-5-23 5:56:55 Total Energy -40.2310478976\r\n",
      "T00 ERR ... 2025-5-23 5:56:55 DIIs error 2.04716167188e-05\r\n",
      "T00 ERR ... 2025-5-23 5:56:55 Delta Etot -2.5491978306e-07\r\n",
      "T00 ERR ... \r\n",
      "T00 ERR ... 2025-5-23 5:56:55 Iteration 8 of 100"
     ]
    },
    {
     "name": "stdout",
     "output_type": "stream",
     "text": [
      "\r\n",
      "T00 ERR ... 2025-5-23 5:56:55 Total Energy -40.2310478978\r\n",
      "T00 ERR ... 2025-5-23 5:56:55 DIIs error 1.08244856094e-05\r\n",
      "T00 ERR ... 2025-5-23 5:56:55 Delta Etot -2.44305908836e-10\r\n",
      "T00 ERR ... \r\n",
      "T00 ERR ... 2025-5-23 5:56:55 Iteration 9 of 100"
     ]
    },
    {
     "name": "stdout",
     "output_type": "stream",
     "text": [
      "\r\n",
      "T00 ERR ... 2025-5-23 5:56:55 Total Energy -40.2310478982\r\n",
      "T00 ERR ... 2025-5-23 5:56:55 DIIs error 3.44413810161e-06\r\n",
      "T00 ERR ... 2025-5-23 5:56:55 Delta Etot -3.90969034925e-10\r\n",
      "T00 ERR ... \r\n",
      "T00 ERR ... 2025-5-23 5:56:55 Iteration 10 of 100"
     ]
    },
    {
     "name": "stdout",
     "output_type": "stream",
     "text": [
      "\r\n",
      "T00 ERR ... 2025-5-23 5:56:55 Total Energy -40.2310478983\r\n",
      "T00 ERR ... 2025-5-23 5:56:55 DIIs error 9.06044468334e-07\r\n",
      "T00 ERR ... 2025-5-23 5:56:55 Delta Etot -4.38831193605e-11\r\n",
      "T00 ERR ... \r\n",
      "T00 ERR ... 2025-5-23 5:56:55 Iteration 11 of 100"
     ]
    },
    {
     "name": "stdout",
     "output_type": "stream",
     "text": [
      "\r\n",
      "T00 ERR ... 2025-5-23 5:56:55 Total Energy -40.2310478983\r\n",
      "T00 ERR ... 2025-5-23 5:56:55 DIIs error 1.36762390672e-09\r\n",
      "T00 ERR ... 2025-5-23 5:56:55 Delta Etot -3.10507175527e-12\r\n",
      "T00 ERR ... 2025-5-23 5:56:55 Total Energy has converged to -3.10507176e-12[Ha] after 11 iterations. DIIS error is converged up to 1.36762391e-09\r\n",
      "T00 ERR ... 2025-5-23 5:56:55 Final Single Point Energy -40.2310478983 Ha\r\n",
      "T00 ERR ... 2025-5-23 5:56:55 Final Local Exc contribution -5.18429688777 Ha\r\n",
      "T00 ERR ... 2025-5-23 5:56:55 Final Non Local Ex contribution -1.6392663765 Ha\r\n",
      "T00 ERR ...   Orbital energies: \r\n",
      "T00 ERR ...   index occupation energy(Hartree) \r\n",
      "T00 ERR ...      0      2   -10.1479575567\r\n",
      "T00 ERR ...      1      2   -0.7122353480\r\n",
      "T00 ERR ...      2      2   -0.4030088375\r\n",
      "T00 ERR ...      3      2   -0.4013781356\r\n",
      "T00 ERR ...      4      2   -0.3991267560\r\n",
      "T00 ERR ...      5      0   +0.1607370632\r\n",
      "T00 ERR ...      6      0   +0.2030612448\r\n",
      "T00 ERR ...      7      0   +0.2080811868\r\n",
      "T00 ERR ...      8      0   +0.2102718390\r\n",
      "T00 ERR ...      9      0   +0.7241052732\r\n",
      "T00 ERR ...     10      0   +0.7253266612\r\n",
      "T00 ERR ...     11      0   +0.7278456000\r\n",
      "T00 ERR ...     12      0   +1.0556289979\r\n",
      "T00 ERR ...     13      0   +1.0854379896\r\n",
      "T00 ERR ...     14      0   +1.0903483338\r\n",
      "T00 ERR ...     15      0   +1.0921146081\r\n",
      "T00 ERR ...     16      0   +1.7120980743\r\n",
      "T00 ERR ... 2025-5-23 5:56:55 Electric Dipole is[e*bohr]:\r\n",
      "\t\t dx=0.0183319173689\r\n",
      "\t\t dy=0.0351817247358\r\n",
      "\t\t dz=-0.0141306305269\r\n",
      "T00 ERR ... Writing result to temp.orb\r\n",
      "T00 ERR ... 2025-5-23 5:56:55 DFT calculation took 1.693928804 seconds.\r\n",
      "T00 ERR ... 2025-5-23 5:56:55 RPA level range [0:16]\r\n",
      "T00 ERR ... 2025-5-23 5:56:55 GW  level range [0:16]\r\n",
      "T00 ERR ... 2025-5-23 5:56:55 BSE level range occ[0:4]  virt[5:16]\r\n",
      "T00 ERR ...  BSE type: full\r\n",
      "T00 ERR ... 2025-5-23 5:56:55 BSE Hamiltonian has size 120x120\r\n",
      "T00 ERR ...  BSE without Hqp offdiagonal elements\r\n",
      "T00 ERR ...  Running GW as: G0W0\r\n",
      "T00 ERR ...  qp_sc_limit [Hartree]: 1e-05\r\n",
      "T00 ERR ...  Tasks: \r\n",
      "T00 ERR ...  GW \r\n",
      "T00 ERR ...  singlets \r\n",
      "T00 ERR ...  triplets \r\n",
      "T00 ERR ...  Store: \r\n",
      "T00 ERR ...  GW \r\n",
      "T00 ERR ...  Sigma integration: ppm\r\n",
      "T00 ERR ...  eta: 0.001\r\n",
      "T00 ERR ...  QP solver: grid\r\n",
      "T00 ERR ...  QP grid steps: 1001\r\n",
      "T00 ERR ...  QP grid spacing: 0.001\r\n",
      "T00 ERR ... 2025-5-23 5:56:55 Using 2 threads\r\n",
      "T00 ERR ... 2025-5-23 5:56:55 Using native Eigen implementation, no BLAS overload \r\n",
      "T00 ERR ... 2025-5-23 5:56:55 Molecule Coordinates [A] \r\n",
      "T00 ERR ...     0    C   30.3000 1.2704 5.5205\r\n",
      "T00 ERR ...     1    H   31.2392 1.4802 6.0301\r\n",
      "T00 ERR ...     2    H   30.4910 0.6554 4.6433\r\n",
      "T00 ERR ...     3    H   29.8500 2.2100 5.2100\r\n",
      "T00 ERR ...     4    H   29.6200 0.7500 6.2000\r\n",
      "T00 ERR ... 2025-5-23 5:56:55 DFT data was created by xtp\r\n",
      "T00 ERR ... 2025-5-23 5:56:55 Loaded DFT Basis Set 3-21G\r\n",
      "T00 ERR ... 2025-5-23 5:56:55 Filled DFT Basis of size 17\r\n",
      "T00 ERR ... 2025-5-23 5:56:55 Loaded Auxbasis Set aux-def2-svp\r\n",
      "T00 ERR ... 2025-5-23 5:56:55 Filled Auxbasis of size 104\r\n",
      "T00 ERR ... 2025-5-23 5:56:55 Calculating Mmn_beta (3-center-repulsion x orbitals)  \r\n",
      "T00 ERR ... 2025-5-23 5:56:55 Calculated Mmn_beta (3-center-repulsion x orbitals)  "
     ]
    },
    {
     "name": "stdout",
     "output_type": "stream",
     "text": [
      "\r\n",
      "T00 ERR ... 2025-5-23 5:56:55 Integrating Vxc with functional XC_HYB_GGA_XC_PBEH"
     ]
    },
    {
     "name": "stdout",
     "output_type": "stream",
     "text": [
      "\r\n",
      "T00 ERR ... 2025-5-23 5:56:55 Set hybrid exchange factor: 0.25\r\n",
      "T00 ERR ... 2025-5-23 5:56:55 Calculated exchange-correlation expectation values \r\n",
      "T00 ERR ... 2025-5-23 5:56:55 Calculated Hartree exchange contribution\r\n",
      "T00 ERR ... 2025-5-23 5:56:55 Scissor shifting DFT energies by: 0 Hrt"
     ]
    },
    {
     "name": "stdout",
     "output_type": "stream",
     "text": [
      "\r\n",
      "T00 ERR ...   ====== Perturbative quasiparticle energies (Hartree) ====== \r\n",
      "T00 ERR ...    DeltaHLGap = +0.215507 Hartree\r\n",
      "T00 ERR ...   Level =    0 DFT = -10.1480 VXC = -1.7031 S-X = -2.6689 S-C = +0.5631 GWA = -10.5506\r\n",
      "T00 ERR ...   Level =    1 DFT = -0.7122 VXC = -0.4404 S-X = -0.6606 S-C = +0.1083 GWA = -0.8241\r\n",
      "T00 ERR ...   Level =    2 DFT = -0.4030 VXC = -0.3959 S-X = -0.5286 S-C = +0.0324 GWA = -0.5033\r\n",
      "T00 ERR ...   Level =    3 DFT = -0.4014 VXC = -0.3967 S-X = -0.5297 S-C = +0.0328 GWA = -0.5016\r\n",
      "T00 ERR ...   HOMO  =    4 DFT = -0.3991 VXC = -0.3970 S-X = -0.5300 S-C = +0.0329 GWA = -0.4993\r\n",
      "T00 ERR ...   LUMO  =    5 DFT = +0.1607 VXC = -0.2417 S-X = -0.1018 S-C = -0.0246 GWA = +0.2761\r\n",
      "T00 ERR ...   Level =    6 DFT = +0.2031 VXC = -0.2616 S-X = -0.1101 S-C = -0.0238 GWA = +0.3308\r\n",
      "T00 ERR ...   Level =    7 DFT = +0.2081 VXC = -0.2612 S-X = -0.1097 S-C = -0.0239 GWA = +0.3357\r\n",
      "T00 ERR ...   Level =    8 DFT = +0.2103 VXC = -0.2613 S-X = -0.1098 S-C = -0.0238 GWA = +0.3379\r\n",
      "T00 ERR ...   Level =    9 DFT = +0.7241 VXC = -0.3183 S-X = -0.1082 S-C = -0.0635 GWA = +0.8706\r\n",
      "T00 ERR ...   Level =   10 DFT = +0.7253 VXC = -0.3182 S-X = -0.1079 S-C = -0.0638 GWA = +0.8718\r\n",
      "T00 ERR ...   Level =   11 DFT = +0.7278 VXC = -0.3177 S-X = -0.1073 S-C = -0.0643 GWA = +0.8740\r\n",
      "T00 ERR ...   Level =   12 DFT = +1.0556 VXC = -0.4047 S-X = -0.1334 S-C = -0.0323 GWA = +1.2946\r\n",
      "T00 ERR ...   Level =   13 DFT = +1.0854 VXC = -0.3963 S-X = -0.1274 S-C = -0.1739 GWA = +1.1804\r\n",
      "T00 ERR ...   Level =   14 DFT = +1.0903 VXC = -0.3953 S-X = -0.1271 S-C = -0.1730 GWA = +1.1857\r\n",
      "T00 ERR ...   Level =   15 DFT = +1.0921 VXC = -0.3947 S-X = -0.1268 S-C = -0.1727 GWA = +1.1873\r\n",
      "T00 ERR ...   Level =   16 DFT = +1.7121 VXC = -0.3559 S-X = -0.1045 S-C = -0.0297 GWA = +1.9338\r\n",
      "T00 ERR ... 2025-5-23 5:56:56 Calculated offdiagonal part of Sigma  \r\n",
      "T00 ERR ... 2025-5-23 5:56:56 Full quasiparticle Hamiltonian  \r\n",
      "T00 ERR ...   ====== Diagonalized quasiparticle energies (Hartree) ====== \r\n",
      "T00 ERR ...   Level =    0 PQP = -10.550607 DQP = -10.550793 \r\n",
      "T00 ERR ...   Level =    1 PQP = -0.824121 DQP = -0.824562 \r\n",
      "T00 ERR ...   Level =    2 PQP = -0.503299 DQP = -0.503573 \r\n",
      "T00 ERR ...   Level =    3 PQP = -0.501578 DQP = -0.501785 \r\n",
      "T00 ERR ...   HOMO  =    4 PQP = -0.499269 DQP = -0.499461 \r\n",
      "T00 ERR ...   LUMO  =    5 PQP = +0.276103 DQP = +0.267915 \r\n",
      "T00 ERR ...   Level =    6 PQP = +0.330833 DQP = +0.328960 \r\n",
      "T00 ERR ...   Level =    7 PQP = +0.335702 DQP = +0.334262 \r\n",
      "T00 ERR ...   Level =    8 PQP = +0.337909 DQP = +0.336490 \r\n",
      "T00 ERR ...   Level =    9 PQP = +0.870614 DQP = +0.868923 \r\n",
      "T00 ERR ...   Level =   10 PQP = +0.871769 DQP = +0.869897 \r\n",
      "T00 ERR ...   Level =   11 PQP = +0.873954 DQP = +0.871694 \r\n",
      "T00 ERR ...   Level =   12 PQP = +1.294606 DQP = +1.183252 \r\n",
      "T00 ERR ...   Level =   13 PQP = +1.180381 DQP = +1.189536 \r\n",
      "T00 ERR ...   Level =   14 PQP = +1.185652 DQP = +1.191529 \r\n",
      "T00 ERR ...   Level =   15 PQP = +1.187269 DQP = +1.289803 \r\n",
      "T00 ERR ...   Level =   16 PQP = +1.933784 DQP = +1.947615 \r\n",
      "T00 ERR ... 2025-5-23 5:56:56 Diagonalized QP Hamiltonian  \r\n",
      "T00 ERR ... 2025-5-23 5:56:56 GW calculation took 0.121351069 seconds.\r\n",
      "T00 ERR ... 2025-5-23 5:56:56 Setup Full triplet hamiltonian \r\n",
      "T00 ERR ... 2025-5-23 5:56:56 Davidson Solver using 2 threads.\r\n",
      "T00 ERR ... 2025-5-23 5:56:56 Tolerance : 0.0001\r\n",
      "T00 ERR ... 2025-5-23 5:56:56 DPR Correction\r\n",
      "T00 ERR ... 2025-5-23 5:56:56 Matrix size : 120x120\r\n",
      "T00 ERR ... 2025-5-23 5:56:56 iter\tSearch Space\tNorm\r\n",
      "T00 ERR ... 2025-5-23 5:56:56    0           20 \t 1.28e-01 \t  0.00% converged\r\n",
      "T00 ERR ... 2025-5-23 5:56:56    1           35 \t 1.42e-02 \t  0.00% converged\r\n",
      "T00 ERR ... 2025-5-23 5:56:56    2           50 \t 8.62e-04 \t 10.00% converged\r\n",
      "T00 ERR ... 2025-5-23 5:56:56    3           62 \t 2.82e-05 \t 100.00% converged\r\n",
      "T00 ERR ... 2025-5-23 5:56:56 Davidson converged after 3 iterations.\r\n",
      "T00 ERR ... 2025-5-23 5:56:56-----------------------------------\r\n",
      "T00 ERR ... 2025-5-23 5:56:56- Davidson ran for 0.007356785secs.\r\n",
      "T00 ERR ... 2025-5-23 5:56:56-----------------------------------\r\n",
      "T00 ERR ... 2025-5-23 5:56:56 Solved BSE for triplets \r\n",
      "T00 ERR ...   ====== triplet energies (eV) ====== \r\n",
      "T00 ERR ...   T =    1 Omega = +11.593064717771 eV  lamdba = +106.96 nm <FT> = +22.7976 <K_d> = -11.2046\r\n",
      "T00 ERR ...    \r\n",
      "T00 ERR ...   T =    2 Omega = +11.767679643104 eV  lamdba = +105.37 nm <FT> = +22.9495 <K_d> = -11.1819\r\n",
      "T00 ERR ...    \r\n",
      "T00 ERR ...   T =    3 Omega = +11.824595608940 eV  lamdba = +104.87 nm <FT> = +22.4687 <K_d> = -10.6441\r\n",
      "T00 ERR ...    \r\n",
      "T00 ERR ...   T =    4 Omega = +11.875650160849 eV  lamdba = +104.42 nm <FT> = +22.4582 <K_d> = -10.5826\r\n",
      "T00 ERR ...    \r\n",
      "T00 ERR ...   T =    5 Omega = +13.658721174993 eV  lamdba = +90.78 nm <FT> = +22.2481 <K_d> = -8.5894\r\n",
      "T00 ERR ...    \r\n",
      "T00 ERR ...   T =    6 Omega = +13.753158477045 eV  lamdba = +90.16 nm <FT> = +22.2968 <K_d> = -8.5437\r\n",
      "T00 ERR ...    \r\n",
      "T00 ERR ...   T =    7 Omega = +13.940927567418 eV  lamdba = +88.95 nm <FT> = +22.3937 <K_d> = -8.4528\r\n",
      "T00 ERR ...    \r\n",
      "T00 ERR ...   T =    8 Omega = +14.130538416847 eV  lamdba = +87.75 nm <FT> = +22.7328 <K_d> = -8.6022\r\n",
      "T00 ERR ...            HOMO-0   -> LUMO+1    : 72.1%\r\n",
      "T00 ERR ...    \r\n",
      "T00 ERR ...   T =    9 Omega = +14.225578813987 eV  lamdba = +87.17 nm <FT> = +22.8416 <K_d> = -8.6161\r\n",
      "T00 ERR ...    \r\n",
      "T00 ERR ...   T =   10 Omega = +14.372864641932 eV  lamdba = +86.27 nm <FT> = +22.8643 <K_d> = -8.4915\r\n",
      "T00 ERR ...            HOMO-2   -> LUMO+2    : 58.2%\r\n",
      "T00 ERR ...    \r\n",
      "T00 ERR ... 2025-5-23 5:56:56 Setup Full singlet hamiltonian \r\n",
      "T00 ERR ... 2025-5-23 5:56:56 Davidson Solver using 2 threads.\r\n",
      "T00 ERR ... 2025-5-23 5:56:56 Tolerance : 0.0001\r\n",
      "T00 ERR ... 2025-5-23 5:56:56 DPR Correction\r\n",
      "T00 ERR ... 2025-5-23 5:56:56 Matrix size : 120x120\r\n",
      "T00 ERR ... 2025-5-23 5:56:56 iter\tSearch Space\tNorm\r\n",
      "T00 ERR ... 2025-5-23 5:56:56    0           20 \t 1.28e-01 \t  0.00% converged\r\n",
      "T00 ERR ... 2025-5-23 5:56:56    1           35 \t 1.29e-02 \t  0.00% converged\r\n",
      "T00 ERR ... 2025-5-23 5:56:56    2           50 \t 9.32e-04 \t 40.00% converged\r\n",
      "T00 ERR ... 2025-5-23 5:56:56    3           61 \t 3.37e-05 \t 100.00% converged\r\n",
      "T00 ERR ... 2025-5-23 5:56:56 Davidson converged after 3 iterations.\r\n",
      "T00 ERR ... 2025-5-23 5:56:56-----------------------------------\r\n",
      "T00 ERR ... 2025-5-23 5:56:56- Davidson ran for 0.008125179secs.\r\n",
      "T00 ERR ... 2025-5-23 5:56:56-----------------------------------\r\n",
      "T00 ERR ... 2025-5-23 5:56:56 Solved BSE for singlets \r\n",
      "T00 ERR ...   ====== singlet energies (eV) ====== \r\n",
      "T00 ERR ...   S =    1 Omega = +13.839645778682 eV  lamdba = +89.60 nm <FT> = +21.2209 <K_x> = +0.9794 <K_d> = -8.3606\r\n",
      "T00 ERR ...            TrDipole length gauge[e*bohr]  dx = -0.5288 dy = +0.4144 dz = -0.3387 |d|^2 = +0.5660 f = +0.1919\r\n",
      "T00 ERR ...            HOMO-0   -> LUMO+0    : 98.7%\r\n",
      "T00 ERR ... \r\n",
      "T00 ERR ...   S =    2 Omega = +13.901164503557 eV  lamdba = +89.20 nm <FT> = +21.2944 <K_x> = +1.0310 <K_d> = -8.4241\r\n",
      "T00 ERR ...            TrDipole length gauge[e*bohr]  dx = +0.1972 dy = +0.6250 dz = +0.4744 |d|^2 = +0.6546 f = +0.2229\r\n",
      "T00 ERR ...            HOMO-1   -> LUMO+0    : 97.0%\r\n",
      "T00 ERR ... \r\n",
      "T00 ERR ...   S =    3 Omega = +13.965434297610 eV  lamdba = +88.79 nm <FT> = +21.3564 <K_x> = +1.1836 <K_d> = -8.5745\r\n",
      "T00 ERR ...            TrDipole length gauge[e*bohr]  dx = +0.6223 dy = +0.3136 dz = -0.6422 |d|^2 = +0.8979 f = +0.3072\r\n",
      "T00 ERR ...            HOMO-2   -> LUMO+0    : 97.5%\r\n",
      "T00 ERR ... \r\n",
      "T00 ERR ...   S =    4 Omega = +14.551993469611 eV  lamdba = +85.21 nm <FT> = +22.7184 <K_x> = +0.3369 <K_d> = -8.5033\r\n",
      "T00 ERR ...            TrDipole length gauge[e*bohr]  dx = +0.1689 dy = -0.0678 dz = +0.0409 |d|^2 = +0.0348 f = +0.0124\r\n",
      "T00 ERR ...            HOMO-0   -> LUMO+1    : 76.7%\r\n",
      "T00 ERR ... \r\n",
      "T00 ERR ...   S =    5 Omega = +14.601240001637 eV  lamdba = +84.92 nm <FT> = +22.7837 <K_x> = +0.3209 <K_d> = -8.5034\r\n",
      "T00 ERR ...            TrDipole length gauge[e*bohr]  dx = +0.0470 dy = -0.1265 dz = -0.2119 |d|^2 = +0.0631 f = +0.0226\r\n",
      "T00 ERR ...            HOMO-1   -> LUMO+1    : 60.1%\r\n",
      "T00 ERR ... \r\n",
      "T00 ERR ...   S =    6 Omega = +14.636602211578 eV  lamdba = +84.72 nm <FT> = +22.8470 <K_x> = +0.2780 <K_d> = -8.4884\r\n",
      "T00 ERR ...            TrDipole length gauge[e*bohr]  dx = -0.1196 dy = +0.0241 dz = -0.0843 |d|^2 = +0.0220 f = +0.0079\r\n",
      "T00 ERR ...            HOMO-0   -> LUMO+2    : 55.8%\r\n",
      "T00 ERR ... \r\n",
      "T00 ERR ...   S =    7 Omega = +14.990202851427 eV  lamdba = +82.72 nm <FT> = +22.8539 <K_x> = +0.7066 <K_d> = -8.5703\r\n",
      "T00 ERR ...            TrDipole length gauge[e*bohr]  dx = -0.0544 dy = -0.0860 dz = -0.0619 |d|^2 = +0.0142 f = +0.0052\r\n",
      "T00 ERR ... \r\n",
      "T00 ERR ...   S =    8 Omega = +15.013857674061 eV  lamdba = +82.59 nm <FT> = +22.9052 <K_x> = +0.6681 <K_d> = -8.5594\r\n",
      "T00 ERR ...            TrDipole length gauge[e*bohr]  dx = -0.0207 dy = -0.0445 dz = +0.0319 |d|^2 = +0.0034 f = +0.0013\r\n",
      "T00 ERR ...            HOMO-2   -> LUMO+3    : 69.9%\r\n",
      "T00 ERR ... \r\n",
      "T00 ERR ...   S =    9 Omega = +15.999217943462 eV  lamdba = +77.50 nm <FT> = +23.1691 <K_x> = +2.1906 <K_d> = -9.3604\r\n",
      "T00 ERR ...            TrDipole length gauge[e*bohr]  dx = +0.8987 dy = +0.8751 dz = -0.5822 |d|^2 = +1.9125 f = +0.7497\r\n",
      "T00 ERR ...            HOMO-2   -> LUMO+1    : 60.1%\r\n",
      "T00 ERR ... \r\n",
      "T00 ERR ...   S =   10 Omega = +16.031660197439 eV  lamdba = +77.35 nm <FT> = +23.2247 <K_x> = +2.2789 <K_d> = -9.4719\r\n",
      "T00 ERR ...            TrDipole length gauge[e*bohr]  dx = +0.4300 dy = -1.0756 dz = -0.8389 |d|^2 = +2.0455 f = +0.8034\r\n",
      "T00 ERR ... \r\n",
      "T00 ERR ... 2025-5-23 5:56:56 BSE calculation took 0.017913788 seconds.\r\n",
      "T00 ERR ... 2025-5-23 5:56:56 GWBSE calculation finished \r\n",
      "T00 ERR ... Next State is: s1\r\n",
      "T00 ERR ... 2025-5-23 5:56:56 Evaluating polarregion 1\r\n",
      "T00 ERR ... 2025-5-23 5:56:56 Evaluating interaction between polarregion 1 and qmregion 0"
     ]
    },
    {
     "name": "stdout",
     "output_type": "stream",
     "text": [
      "\r\n",
      "T00 ERR ... Next State is: s1"
     ]
    },
    {
     "name": "stdout",
     "output_type": "stream",
     "text": [
      "\r\n",
      "T00 ERR ... 2025-5-23 5:56:56 Evaluating interaction between polarregion 1 and staticregion 2\r\n",
      "T00 ERR ... 2025-5-23 5:56:56 Starting Solving for classical polarization with 1380 degrees of freedom.\r\n",
      "T00 ERR ... 2025-5-23 5:56:56 CG: #iterations: 4, estimated error: 2.79197056185e-05\r\n",
      "T00 ERR ...   Total static energy [hrt]= 0.0009102654542\r\n",
      "T00 ERR ...   Total polar energy [hrt]= 0.0007888332959\r\n",
      "T00 ERR ...  Total energy [hrt]= 0.00169909875\r\n",
      "T00 ERR ... 2025-5-23 5:56:56 Evaluating staticregion 2\r\n",
      "T00 ERR ... 2025-5-23 5:56:56 Writing checkpoint to checkpoint_iter_5.hdf5"
     ]
    },
    {
     "name": "stdout",
     "output_type": "stream",
     "text": [
      "\r\n",
      "T00 ERR ...  Region:qmregion 0 is not converged deltaE=5.867575391e-05 RMS Dmat=0.002859480376 MaxDmat=0.01648145294\r\n",
      "T00 ERR ... 2025-5-23 5:56:56 Region:polarregion 1 is converged deltaE=3.014195545e-05\r\n",
      "T00 ERR ... 2025-5-23 5:56:56 --Total Energy all regions -39.72075119\r\n",
      "T00 ERR ... 2025-5-23 5:56:56 --Inter Region SCF Iteration 6 of 50\r\n",
      "T00 ERR ... 2025-5-23 5:56:56 Evaluating qmregion 0\r\n",
      "T00 ERR ... 2025-5-23 5:56:56 Evaluating interaction between qmregion 0 and polarregion 1\r\n",
      "T00 ERR ... 2025-5-23 5:56:56 Evaluating interaction between qmregion 0 and staticregion 2\r\n",
      "T00 ERR ... Running DFT calculation\r\n",
      "T00 ERR ... 2025-5-23 5:56:56 Using 2 threads\r\n",
      "T00 ERR ... 2025-5-23 5:56:56 Using native Eigen implementation, no BLAS overload \r\n",
      "T00 ERR ...  Molecule Coordinates [A] \r\n",
      "T00 ERR ...   C   +30.3000 +1.2704 +5.5205\r\n",
      "T00 ERR ...   H   +31.2392 +1.4802 +6.0301\r\n",
      "T00 ERR ...   H   +30.4910 +0.6554 +4.6433\r\n",
      "T00 ERR ...   H   +29.8500 +2.2100 +5.2100\r\n",
      "T00 ERR ...   H   +29.6200 +0.7500 +6.2000\r\n",
      "T00 ERR ... 2025-5-23 5:56:56 Loaded DFT Basis Set 3-21G with 17 functions\r\n",
      "T00 ERR ... 2025-5-23 5:56:56 Loaded AUX Basis Set aux-def2-svp with 104 functions\r\n",
      "T00 ERR ... 2025-5-23 5:56:56 Total number of electrons: 10\r\n",
      "T00 ERR ... 2025-5-23 5:56:56 Smallest value of AOOverlap matrix is 0.03364074275\r\n",
      "T00 ERR ... 2025-5-23 5:56:56 Removed 0 basisfunction from inverse overlap matrix\r\n",
      "T00 ERR ... 2025-5-23 5:56:56 Convergence Options:\r\n",
      "T00 ERR ... \t\t Delta E [Ha]: 1e-07\r\n",
      "T00 ERR ... \t\t DIIS max error: 1e-07\r\n",
      "T00 ERR ... \t\t DIIS histlength: 20\r\n",
      "T00 ERR ... \t\t ADIIS start: 0.8\r\n",
      "T00 ERR ... \t\t DIIS start: 0.002\r\n",
      "T00 ERR ... \t\t Deleting oldest element from DIIS hist\r\n",
      "T00 ERR ... \t\t Levelshift[Ha]: 0\r\n",
      "T00 ERR ... \t\t Levelshift end: 0.2\r\n",
      "T00 ERR ... \t\t Mixing Parameter alpha: 0.7"
     ]
    },
    {
     "name": "stdout",
     "output_type": "stream",
     "text": [
      "\r\n",
      "T00 ERR ... 2025-5-23 5:56:56 Setup invariant parts of Electron Repulsion integrals \r\n",
      "T00 ERR ... 2025-5-23 5:56:56 Constructed independent particle hamiltonian \r\n",
      "T00 ERR ... 2025-5-23 5:56:56 Nuclear Repulsion Energy is 13.4434088\r\n",
      "T00 ERR ... 2025-5-23 5:56:56 1350 External sites\r\n",
      "T00 ERR ...  Name      Coordinates[a0]     charge[e]         dipole[e*a0]    \r\n",
      "T00 ERR ...   C   +63.8902 +7.9543 +11.0171   -0.3282   +0.0088 +0.0009 -0.0060\r\n",
      "T00 ERR ...   H   +62.3892 +6.5470 +10.9796   +0.0824   +0.0093 +0.0026 -0.0000\r\n",
      "T00 ERR ...   H   +65.3194 +7.4736 +9.6186   +0.0822   +0.0038 -0.0009 -0.0023\r\n",
      "T00 ERR ...   H   +63.1170 +9.8077 +10.6203   +0.0817   +0.0015 +0.0013 +0.0010\r\n",
      "T00 ERR ...   H   +64.7422 +7.9557 +12.9068   +0.0819   +0.0043 +0.0033 -0.0007\r\n",
      "T00 ERR ...   C   +63.9128 -0.3996 +22.8673   -0.3282   -0.0029 +0.0015 +0.0051\r\n",
      "T00 ERR ...   H   +63.0449 -1.1731 +21.1692   +0.0824   -0.0001 -0.0006 +0.0015\r\n",
      "T00 ERR ...   H   +62.7676 +1.1530 +23.5795   +0.0822   -0.0015 +0.0049 +0.0022\r\n",
      "T00 ERR ...   H   +64.0430 -1.8922 +24.2830   +0.0817   +0.0010 -0.0003 -0.0009\r\n",
      "T00 ERR ...   H   +65.8004 +0.2810 +22.4122   +0.0819   -0.0036 -0.0009 +0.0017\r\n",
      "T00 ERR ...   C   +61.7182 -0.4374 -3.3115   -0.3282   -0.0001 -0.0018 +0.0010\r\n",
      "T00 ERR ...   H   +60.6600 -1.0798 -4.9554   +0.0824   +0.0011 +0.0014 +0.0012\r\n",
      "T00 ERR ...   H   +63.3309 +0.6815 -3.9252   +0.0822   -0.0014 -0.0019 -0.0005\r\n",
      "T00 ERR ...   H   +62.3800 -2.0623 -2.2148   +0.0817   +0.0010 -0.0019 +0.0013\r\n",
      "T00 ERR ...   H   +60.5092 +0.7345 -2.1392   +0.0819   -0.0027 -0.0035 -0.0018\r\n",
      "T00 ERR ...   C   +62.0402 +12.7739 +4.5175   -0.3282   +0.0027 +0.0004 +0.0017\r\n",
      "T00 ERR ...   H   +60.1049 +13.3052 +4.0622   +0.0824   +0.0002 -0.0013 -0.0010\r\n",
      "T00 ERR ...   H   +62.0812 +11.8167 +6.3372   +0.0822   +0.0006 -0.0022 -0.0015\r\n",
      "T00 ERR ...   H   +63.2115 +14.4753 +4.6109   +0.0817   +0.0028 +0.0022 +0.0014\r\n",
      "T00 ERR ...   H   +62.7769 +11.5084 +3.0803   +0.0819   -0.0003 -0.0009 +0.0006\r\n",
      "T00 ERR ...   C   +60.6789 +14.3239 +12.6808   -0.3282   -0.0019 +0.0028 +0.0015\r\n",
      "T00 ERR ...   H   +61.0756 +13.9461 +10.6972   +0.0824   -0.0038 +0.0039 -0.0004\r\n",
      "T00 ERR ...   H   +61.0224 +16.3108 +13.0851   +0.0822   -0.0001 +0.0006 +0.0033\r\n",
      "T00 ERR ...   H   +58.7327 +13.8328 +13.0580   +0.0817   +0.0007 -0.0002 +0.0003\r\n",
      "T00 ERR ...   H   +61.9074 +13.1525 +13.8517   +0.0819   -0.0006 -0.0006 +0.0035\r\n",
      "T00 ERR ...   C   +68.7870 +4.1961 +17.9521   -0.3282   +0.0048 +0.0003 +0.0062\r\n",
      "T00 ERR ...   H   +68.2015 +2.4962 +18.9532   +0.0824   +0.0001 -0.0005 -0.0013\r\n",
      "T00 ERR ...   H   +67.2445 +4.8625 +16.7665   +0.0822   +0.0014 -0.0030 +0.0028\r\n",
      "T00 ERR ...   H   +70.4303 +3.7606 +16.7997   +0.0817   -0.0007 +0.0010 +0.0004\r\n",
      "T00 ERR ...   H   +69.2964 +5.6503 +19.3130   +0.0819   +0.0010 +0.0009 +0.0055\r\n",
      "T00 ERR ...   C   +54.0832 +4.4983 +27.1938   -0.3282   -0.0006 -0.0025 -0.0012\r\n",
      "T00 ERR ...   H   +53.5372 +6.4564 +27.5139   +0.0824   -0.0012 -0.0015 +0.0002\r\n",
      "T00 ERR ...   H   +52.9768 +3.2670 +28.4141   +0.0822   -0.0007 -0.0015 +0.0003\r\n",
      "T00 ERR ...   H   +53.7249 +4.0062 +25.2278   +0.0817   +0.0021 -0.0009 +0.0002\r\n",
      "T00 ERR ...   H   +56.0682 +4.2330 +27.6278   +0.0819   -0.0032 +0.0014 -0.0015\r\n",
      "T00 ERR ...   C   +63.8174 +6.3112 -1.0788   -0.3282   -0.0007 -0.0004 -0.0003\r\n",
      "T00 ERR ...   H   +65.2393 +6.4796 +0.3993   +0.0824   -0.0003 -0.0010 +0.0014\r\n",
      "T00 ERR ...   H   +62.4364 +4.8836 -0.5459   +0.0822   +0.0021 +0.0009 -0.0007\r\n",
      "T00 ERR ...   H   +64.7422 +5.7637 -2.8384   +0.0817   -0.0005 +0.0027 +0.0002\r\n",
      "T00 ERR ...   H   +62.8903 +8.1258 -1.3455   +0.0819   -0.0006 -0.0016 -0.0037\r\n",
      "T00 ERR ...   C   +64.1752 +19.2751 +7.8615   -0.3282   +0.0049 -0.0001 +0.0006\r\n",
      "T00 ERR ...   H   +62.9276 +19.0860 +6.2359   +0.0824   -0.0011 +0.0004 +0.0021\r\n",
      "T00 ERR ...   H   +63.4396 +18.1623 +9.4267   +0.0822   +0.0013 -0.0002 -0.0003\r\n",
      "T00 ERR ...   H   +66.0461 +18.6138 +7.3699   +0.0817   +0.0012 -0.0009 -0.0001\r\n",
      "T00 ERR ...   H   +64.2509 +21.2405 +8.4282   +0.0819   +0.0017 +0.0008 -0.0004\r\n",
      "T00 ERR ...   C   +61.3975 +17.7254 +18.4625   -0.3282   +0.0021 -0.0003 +0.0025\r\n",
      "T00 ERR ...   H   +60.9990 +19.0346 +16.9256   +0.0824   -0.0004 +0.0012 +0.0002\r\n",
      "T00 ERR ...   H   +61.0958 +18.6680 +20.2653   +0.0822   +0.0001 +0.0000 +0.0003\r\n",
      "T00 ERR ...   H   +60.1502 +16.1005 +18.3303   +0.0817   +0.0028 +0.0005 -0.0006\r\n",
      "T00 ERR ...   H   +63.3627 +17.1020 +18.3492   +0.0819   -0.0014 -0.0005 +0.0014\r\n",
      "T00 ERR ...               ... (1300 sites not displayed)\r\n"
     ]
    },
    {
     "name": "stdout",
     "output_type": "stream",
     "text": [
      "\r\n",
      "T00 ERR ... 2025-5-23 5:56:56 Filled DFT external multipole potential matrix\r\n",
      "T00 ERR ... 2025-5-23 5:56:56 Nuclei-external site interaction energy 0.0204347161\r\n",
      "T00 ERR ... 2025-5-23 5:56:56 Using hybrid functional with alpha=0.25\r\n",
      "T00 ERR ... 2025-5-23 5:56:56 Setup numerical integration grid medium for vxc functional XC_HYB_GGA_XC_PBEH\r\n",
      "T00 ERR ... 2025-5-23 5:56:56 Setup Initial Guess using: atom\r\n",
      "T00 ERR ... 2025-5-23 5:56:56 Calculating atom density for C"
     ]
    },
    {
     "name": "stdout",
     "output_type": "stream",
     "text": [
      "\r\n",
      "T00 ERR ... 2025-5-23 5:56:57 Calculating atom density for H"
     ]
    },
    {
     "name": "stdout",
     "output_type": "stream",
     "text": [
      "\r\n",
      "T00 ERR ... 2025-5-23 5:56:57 STARTING SCF cycle\r\n",
      "T00 ERR ...  --------------------------------------------------------------------------\r\n",
      "T00 ERR ... \r\n",
      "T00 ERR ... 2025-5-23 5:56:57 Iteration 1 of 100"
     ]
    },
    {
     "name": "stdout",
     "output_type": "stream",
     "text": [
      "\r\n",
      "T00 ERR ... 2025-5-23 5:56:57 Total Energy -40.1456999885\r\n",
      "T00 ERR ... 2025-5-23 5:56:57 DIIs error 0.219656595376\r\n",
      "T00 ERR ... 2025-5-23 5:56:57 Delta Etot 0\r\n",
      "T00 ERR ... \r\n",
      "T00 ERR ... 2025-5-23 5:56:57 Iteration 2 of 100"
     ]
    },
    {
     "name": "stdout",
     "output_type": "stream",
     "text": [
      "\r\n",
      "T00 ERR ... 2025-5-23 5:56:57 Total Energy -40.1816183995"
     ]
    },
    {
     "name": "stdout",
     "output_type": "stream",
     "text": [
      "\r\n",
      "T00 ERR ... 2025-5-23 5:56:57 DIIs error 0.128764123013\r\n",
      "T00 ERR ... 2025-5-23 5:56:57 Delta Etot -0.035918410996\r\n",
      "T00 ERR ... \r\n",
      "T00 ERR ... 2025-5-23 5:56:57 Iteration 3 of 100"
     ]
    },
    {
     "name": "stdout",
     "output_type": "stream",
     "text": [
      "\r\n",
      "T00 ERR ... 2025-5-23 5:56:57 Total Energy -40.1980926253\r\n",
      "T00 ERR ... 2025-5-23 5:56:57 DIIs error 0.0793380568514\r\n",
      "T00 ERR ... 2025-5-23 5:56:57 Delta Etot -0.0164742257879\r\n",
      "T00 ERR ... \r\n",
      "T00 ERR ... 2025-5-23 5:56:57 Iteration 4 of 100"
     ]
    },
    {
     "name": "stdout",
     "output_type": "stream",
     "text": [
      "\r\n",
      "T00 ERR ... 2025-5-23 5:56:57 Total Energy -40.2287533453\r\n",
      "T00 ERR ... 2025-5-23 5:56:57 DIIs error 0.0296194045295\r\n",
      "T00 ERR ... 2025-5-23 5:56:57 Delta Etot -0.0306607200514\r\n",
      "T00 ERR ... \r\n",
      "T00 ERR ... 2025-5-23 5:56:57 Iteration 5 of 100"
     ]
    },
    {
     "name": "stdout",
     "output_type": "stream",
     "text": [
      "\r\n",
      "T00 ERR ... 2025-5-23 5:56:57 Total Energy -40.2286454607\r\n",
      "T00 ERR ... 2025-5-23 5:56:57 DIIs error 0.031199442009\r\n",
      "T00 ERR ... 2025-5-23 5:56:57 Delta Etot 0.000107884684688\r\n",
      "T00 ERR ... \r\n",
      "T00 ERR ... 2025-5-23 5:56:57 Iteration 6 of 100"
     ]
    },
    {
     "name": "stdout",
     "output_type": "stream",
     "text": [
      "\r\n",
      "T00 ERR ... 2025-5-23 5:56:57 Total Energy -40.2309967932\r\n",
      "T00 ERR ... 2025-5-23 5:56:57 DIIs error 0.000318959743564\r\n",
      "T00 ERR ... 2025-5-23 5:56:57 Delta Etot -0.00235133250545\r\n",
      "T00 ERR ... \r\n",
      "T00 ERR ... 2025-5-23 5:56:57 Iteration 7 of 100"
     ]
    },
    {
     "name": "stdout",
     "output_type": "stream",
     "text": [
      "\r\n",
      "T00 ERR ... 2025-5-23 5:56:57 Total Energy -40.2309970481\r\n",
      "T00 ERR ... 2025-5-23 5:56:57 DIIs error 2.04495633005e-05\r\n",
      "T00 ERR ... 2025-5-23 5:56:57 Delta Etot -2.54907199349e-07\r\n",
      "T00 ERR ... \r\n",
      "T00 ERR ... 2025-5-23 5:56:57 Iteration 8 of 100"
     ]
    },
    {
     "name": "stdout",
     "output_type": "stream",
     "text": [
      "\r\n",
      "T00 ERR ... 2025-5-23 5:56:57 Total Energy -40.2309970483\r\n",
      "T00 ERR ... 2025-5-23 5:56:57 DIIs error 1.08223442499e-05\r\n",
      "T00 ERR ... 2025-5-23 5:56:57 Delta Etot -2.435172064e-10\r\n",
      "T00 ERR ... \r\n",
      "T00 ERR ... 2025-5-23 5:56:57 Iteration 9 of 100"
     ]
    },
    {
     "name": "stdout",
     "output_type": "stream",
     "text": [
      "\r\n",
      "T00 ERR ... 2025-5-23 5:56:57 Total Energy -40.2309970487\r\n",
      "T00 ERR ... 2025-5-23 5:56:57 DIIs error 3.4737381086e-06\r\n",
      "T00 ERR ... 2025-5-23 5:56:57 Delta Etot -3.90024013086e-10\r\n",
      "T00 ERR ... \r\n",
      "T00 ERR ... 2025-5-23 5:56:57 Iteration 10 of 100"
     ]
    },
    {
     "name": "stdout",
     "output_type": "stream",
     "text": [
      "\r\n",
      "T00 ERR ... 2025-5-23 5:56:58 Total Energy -40.2309970487\r\n",
      "T00 ERR ... 2025-5-23 5:56:58 DIIs error 9.07910979478e-07\r\n",
      "T00 ERR ... 2025-5-23 5:56:58 Delta Etot -4.4686032652e-11\r\n",
      "T00 ERR ... \r\n",
      "T00 ERR ... 2025-5-23 5:56:58 Iteration 11 of 100"
     ]
    },
    {
     "name": "stdout",
     "output_type": "stream",
     "text": [
      "\r\n",
      "T00 ERR ... 2025-5-23 5:56:58 Total Energy -40.2309970488\r\n",
      "T00 ERR ... 2025-5-23 5:56:58 DIIs error 1.3652455855e-09\r\n",
      "T00 ERR ... 2025-5-23 5:56:58 Delta Etot -2.87769807983e-12\r\n",
      "T00 ERR ... 2025-5-23 5:56:58 Total Energy has converged to -2.87769808e-12[Ha] after 11 iterations. DIIS error is converged up to 1.36524559e-09\r\n",
      "T00 ERR ... 2025-5-23 5:56:58 Final Single Point Energy -40.2309970488 Ha\r\n",
      "T00 ERR ... 2025-5-23 5:56:58 Final Local Exc contribution -5.18429673679 Ha\r\n",
      "T00 ERR ... 2025-5-23 5:56:58 Final Non Local Ex contribution -1.63926632589 Ha\r\n",
      "T00 ERR ...   Orbital energies: \r\n",
      "T00 ERR ...   index occupation energy(Hartree) \r\n",
      "T00 ERR ...      0      2   -10.1479524769\r\n",
      "T00 ERR ...      1      2   -0.7122304568\r\n",
      "T00 ERR ...      2      2   -0.4030193371\r\n",
      "T00 ERR ...      3      2   -0.4013630358\r\n",
      "T00 ERR ...      4      2   -0.3991163106\r\n",
      "T00 ERR ...      5      0   +0.1607338165\r\n",
      "T00 ERR ...      6      0   +0.2030346598\r\n",
      "T00 ERR ...      7      0   +0.2081233684\r\n",
      "T00 ERR ...      8      0   +0.2102827120\r\n",
      "T00 ERR ...      9      0   +0.7241108733\r\n",
      "T00 ERR ...     10      0   +0.7253273045\r\n",
      "T00 ERR ...     11      0   +0.7278539174\r\n",
      "T00 ERR ...     12      0   +1.0556266224\r\n",
      "T00 ERR ...     13      0   +1.0854175687\r\n",
      "T00 ERR ...     14      0   +1.0903893072\r\n",
      "T00 ERR ...     15      0   +1.0921185208\r\n",
      "T00 ERR ...     16      0   +1.7121036372\r\n",
      "T00 ERR ... 2025-5-23 5:56:58 Electric Dipole is[e*bohr]:\r\n",
      "\t\t dx=0.0188937217359\r\n",
      "\t\t dy=0.0352898487826\r\n",
      "\t\t dz=-0.0142242586425\r\n",
      "T00 ERR ... Writing result to temp.orb\r\n",
      "T00 ERR ... 2025-5-23 5:56:58 DFT calculation took 1.680902255 seconds.\r\n",
      "T00 ERR ... 2025-5-23 5:56:58 RPA level range [0:16]\r\n",
      "T00 ERR ... 2025-5-23 5:56:58 GW  level range [0:16]\r\n",
      "T00 ERR ... 2025-5-23 5:56:58 BSE level range occ[0:4]  virt[5:16]\r\n",
      "T00 ERR ...  BSE type: full\r\n",
      "T00 ERR ... 2025-5-23 5:56:58 BSE Hamiltonian has size 120x120\r\n",
      "T00 ERR ...  BSE without Hqp offdiagonal elements\r\n",
      "T00 ERR ...  Running GW as: G0W0\r\n",
      "T00 ERR ...  qp_sc_limit [Hartree]: 1e-05\r\n",
      "T00 ERR ...  Tasks: \r\n",
      "T00 ERR ...  GW \r\n",
      "T00 ERR ...  singlets \r\n",
      "T00 ERR ...  triplets \r\n",
      "T00 ERR ...  Store: \r\n",
      "T00 ERR ...  GW \r\n",
      "T00 ERR ...  Sigma integration: ppm\r\n",
      "T00 ERR ...  eta: 0.001\r\n",
      "T00 ERR ...  QP solver: grid\r\n",
      "T00 ERR ...  QP grid steps: 1001\r\n",
      "T00 ERR ...  QP grid spacing: 0.001\r\n",
      "T00 ERR ... 2025-5-23 5:56:58 Using 2 threads\r\n",
      "T00 ERR ... 2025-5-23 5:56:58 Using native Eigen implementation, no BLAS overload \r\n",
      "T00 ERR ... 2025-5-23 5:56:58 Molecule Coordinates [A] \r\n",
      "T00 ERR ...     0    C   30.3000 1.2704 5.5205\r\n",
      "T00 ERR ...     1    H   31.2392 1.4802 6.0301\r\n",
      "T00 ERR ...     2    H   30.4910 0.6554 4.6433\r\n",
      "T00 ERR ...     3    H   29.8500 2.2100 5.2100\r\n",
      "T00 ERR ...     4    H   29.6200 0.7500 6.2000\r\n",
      "T00 ERR ... 2025-5-23 5:56:58 DFT data was created by xtp"
     ]
    },
    {
     "name": "stdout",
     "output_type": "stream",
     "text": [
      "\r\n",
      "T00 ERR ... 2025-5-23 5:56:58 Loaded DFT Basis Set 3-21G\r\n",
      "T00 ERR ... 2025-5-23 5:56:58 Filled DFT Basis of size 17\r\n",
      "T00 ERR ... 2025-5-23 5:56:58 Loaded Auxbasis Set aux-def2-svp\r\n",
      "T00 ERR ... 2025-5-23 5:56:58 Filled Auxbasis of size 104\r\n",
      "T00 ERR ... 2025-5-23 5:56:58 Calculating Mmn_beta (3-center-repulsion x orbitals)  \r\n",
      "T00 ERR ... 2025-5-23 5:56:58 Calculated Mmn_beta (3-center-repulsion x orbitals)  \r\n",
      "T00 ERR ... 2025-5-23 5:56:58 Integrating Vxc with functional XC_HYB_GGA_XC_PBEH"
     ]
    },
    {
     "name": "stdout",
     "output_type": "stream",
     "text": [
      "\r\n",
      "T00 ERR ... 2025-5-23 5:56:58 Set hybrid exchange factor: 0.25\r\n",
      "T00 ERR ... 2025-5-23 5:56:58 Calculated exchange-correlation expectation values \r\n",
      "T00 ERR ... 2025-5-23 5:56:58 Calculated Hartree exchange contribution\r\n",
      "T00 ERR ... 2025-5-23 5:56:58 Scissor shifting DFT energies by: 0 Hrt\r\n",
      "T00 ERR ...   ====== Perturbative quasiparticle energies (Hartree) ====== \r\n",
      "T00 ERR ...    DeltaHLGap = +0.215511 Hartree\r\n",
      "T00 ERR ...   Level =    0 DFT = -10.1480 VXC = -1.7031 S-X = -2.6689 S-C = +0.5631 GWA = -10.5506\r\n",
      "T00 ERR ...   Level =    1 DFT = -0.7122 VXC = -0.4404 S-X = -0.6606 S-C = +0.1083 GWA = -0.8241\r\n",
      "T00 ERR ...   Level =    2 DFT = -0.4030 VXC = -0.3959 S-X = -0.5286 S-C = +0.0324 GWA = -0.5033\r\n",
      "T00 ERR ...   Level =    3 DFT = -0.4014 VXC = -0.3967 S-X = -0.5297 S-C = +0.0328 GWA = -0.5016\r\n",
      "T00 ERR ...   HOMO  =    4 DFT = -0.3991 VXC = -0.3970 S-X = -0.5300 S-C = +0.0329 GWA = -0.4993\r\n",
      "T00 ERR ...   LUMO  =    5 DFT = +0.1607 VXC = -0.2418 S-X = -0.1018 S-C = -0.0246 GWA = +0.2761\r\n",
      "T00 ERR ...   Level =    6 DFT = +0.2030 VXC = -0.2616 S-X = -0.1101 S-C = -0.0238 GWA = +0.3308\r\n",
      "T00 ERR ...   Level =    7 DFT = +0.2081 VXC = -0.2612 S-X = -0.1097 S-C = -0.0239 GWA = +0.3357\r\n",
      "T00 ERR ...   Level =    8 DFT = +0.2103 VXC = -0.2613 S-X = -0.1098 S-C = -0.0238 GWA = +0.3379\r\n",
      "T00 ERR ...   Level =    9 DFT = +0.7241 VXC = -0.3183 S-X = -0.1082 S-C = -0.0635 GWA = +0.8706\r\n",
      "T00 ERR ...   Level =   10 DFT = +0.7253 VXC = -0.3182 S-X = -0.1080 S-C = -0.0638 GWA = +0.8718\r\n",
      "T00 ERR ...   Level =   11 DFT = +0.7279 VXC = -0.3177 S-X = -0.1073 S-C = -0.0643 GWA = +0.8740\r\n",
      "T00 ERR ...   Level =   12 DFT = +1.0556 VXC = -0.4047 S-X = -0.1334 S-C = -0.0323 GWA = +1.2946\r\n",
      "T00 ERR ...   Level =   13 DFT = +1.0854 VXC = -0.3963 S-X = -0.1274 S-C = -0.1740 GWA = +1.1803\r\n",
      "T00 ERR ...   Level =   14 DFT = +1.0904 VXC = -0.3953 S-X = -0.1271 S-C = -0.1730 GWA = +1.1857\r\n",
      "T00 ERR ...   Level =   15 DFT = +1.0921 VXC = -0.3946 S-X = -0.1268 S-C = -0.1726 GWA = +1.1873\r\n",
      "T00 ERR ...   Level =   16 DFT = +1.7121 VXC = -0.3559 S-X = -0.1045 S-C = -0.0297 GWA = +1.9338\r\n",
      "T00 ERR ... 2025-5-23 5:56:58 Calculated offdiagonal part of Sigma  \r\n",
      "T00 ERR ... 2025-5-23 5:56:58 Full quasiparticle Hamiltonian  \r\n",
      "T00 ERR ...   ====== Diagonalized quasiparticle energies (Hartree) ====== \r\n",
      "T00 ERR ...   Level =    0 PQP = -10.550602 DQP = -10.550788 \r\n",
      "T00 ERR ...   Level =    1 PQP = -0.824116 DQP = -0.824559 \r\n",
      "T00 ERR ...   Level =    2 PQP = -0.503310 DQP = -0.503585 \r\n",
      "T00 ERR ...   Level =    3 PQP = -0.501562 DQP = -0.501769 \r\n",
      "T00 ERR ...   HOMO  =    4 PQP = -0.499258 DQP = -0.499450 \r\n",
      "T00 ERR ...   LUMO  =    5 PQP = +0.276103 DQP = +0.267908 \r\n",
      "T00 ERR ...   Level =    6 PQP = +0.330806 DQP = +0.328924 \r\n",
      "T00 ERR ...   Level =    7 PQP = +0.335740 DQP = +0.334306 \r\n",
      "T00 ERR ...   Level =    8 PQP = +0.337922 DQP = +0.336512 \r\n",
      "T00 ERR ...   Level =    9 PQP = +0.870620 DQP = +0.868935 \r\n",
      "T00 ERR ...   Level =   10 PQP = +0.871773 DQP = +0.869907 \r\n",
      "T00 ERR ...   Level =   11 PQP = +0.873960 DQP = +0.871692 \r\n",
      "T00 ERR ...   Level =   12 PQP = +1.294587 DQP = +1.183209 \r\n",
      "T00 ERR ...   Level =   13 PQP = +1.180337 DQP = +1.189579 \r\n",
      "T00 ERR ...   Level =   14 PQP = +1.185687 DQP = +1.191528 \r\n",
      "T00 ERR ...   Level =   15 PQP = +1.187296 DQP = +1.289803 \r\n",
      "T00 ERR ...   Level =   16 PQP = +1.933786 DQP = +1.947617 \r\n",
      "T00 ERR ... 2025-5-23 5:56:58 Diagonalized QP Hamiltonian  \r\n",
      "T00 ERR ... 2025-5-23 5:56:58 GW calculation took 0.120287417 seconds.\r\n",
      "T00 ERR ... 2025-5-23 5:56:58 Setup Full triplet hamiltonian \r\n",
      "T00 ERR ... 2025-5-23 5:56:58 Davidson Solver using 2 threads.\r\n",
      "T00 ERR ... 2025-5-23 5:56:58 Tolerance : 0.0001\r\n",
      "T00 ERR ... 2025-5-23 5:56:58 DPR Correction\r\n",
      "T00 ERR ... 2025-5-23 5:56:58 Matrix size : 120x120\r\n",
      "T00 ERR ... 2025-5-23 5:56:58 iter\tSearch Space\tNorm\r\n",
      "T00 ERR ... 2025-5-23 5:56:58    0           20 \t 1.28e-01 \t  0.00% converged\r\n",
      "T00 ERR ... 2025-5-23 5:56:58    1           35 \t 1.41e-02 \t  0.00% converged\r\n",
      "T00 ERR ... 2025-5-23 5:56:58    2           50 \t 8.61e-04 \t 10.00% converged\r\n",
      "T00 ERR ... 2025-5-23 5:56:58    3           62 \t 2.81e-05 \t 100.00% converged\r\n",
      "T00 ERR ... 2025-5-23 5:56:58 Davidson converged after 3 iterations.\r\n",
      "T00 ERR ... 2025-5-23 5:56:58-----------------------------------\r\n",
      "T00 ERR ... 2025-5-23 5:56:58- Davidson ran for 0.007177511secs.\r\n",
      "T00 ERR ... 2025-5-23 5:56:58-----------------------------------\r\n",
      "T00 ERR ... 2025-5-23 5:56:58 Solved BSE for triplets \r\n",
      "T00 ERR ...   ====== triplet energies (eV) ====== \r\n",
      "T00 ERR ...   T =    1 Omega = +11.591622701925 eV  lamdba = +106.97 nm <FT> = +22.7934 <K_d> = -11.2018\r\n",
      "T00 ERR ...    \r\n",
      "T00 ERR ...   T =    2 Omega = +11.768083701903 eV  lamdba = +105.37 nm <FT> = +22.9500 <K_d> = -11.1820\r\n",
      "T00 ERR ...    \r\n",
      "T00 ERR ...   T =    3 Omega = +11.825946546420 eV  lamdba = +104.85 nm <FT> = +22.4766 <K_d> = -10.6506\r\n",
      "T00 ERR ...    \r\n",
      "T00 ERR ...   T =    4 Omega = +11.875435214410 eV  lamdba = +104.42 nm <FT> = +22.4540 <K_d> = -10.5785\r\n",
      "T00 ERR ...    \r\n",
      "T00 ERR ...   T =    5 Omega = +13.657554351489 eV  lamdba = +90.79 nm <FT> = +22.2474 <K_d> = -8.5899\r\n",
      "T00 ERR ...    \r\n",
      "T00 ERR ...   T =    6 Omega = +13.751582530031 eV  lamdba = +90.17 nm <FT> = +22.2960 <K_d> = -8.5444\r\n",
      "T00 ERR ...    \r\n",
      "T00 ERR ...   T =    7 Omega = +13.942229649751 eV  lamdba = +88.94 nm <FT> = +22.3946 <K_d> = -8.4523\r\n",
      "T00 ERR ...    \r\n",
      "T00 ERR ...   T =    8 Omega = +14.130018412438 eV  lamdba = +87.76 nm <FT> = +22.7319 <K_d> = -8.6019\r\n",
      "T00 ERR ...            HOMO-0   -> LUMO+1    : 72.1%\r\n",
      "T00 ERR ...    \r\n",
      "T00 ERR ...   T =    9 Omega = +14.226017803701 eV  lamdba = +87.16 nm <FT> = +22.8417 <K_d> = -8.6157\r\n",
      "T00 ERR ...    \r\n",
      "T00 ERR ...   T =   10 Omega = +14.373871220748 eV  lamdba = +86.27 nm <FT> = +22.8652 <K_d> = -8.4914\r\n",
      "T00 ERR ...            HOMO-2   -> LUMO+2    : 57.1%\r\n",
      "T00 ERR ...    \r\n",
      "T00 ERR ... 2025-5-23 5:56:58 Setup Full singlet hamiltonian \r\n",
      "T00 ERR ... 2025-5-23 5:56:58 Davidson Solver using 2 threads.\r\n",
      "T00 ERR ... 2025-5-23 5:56:58 Tolerance : 0.0001\r\n",
      "T00 ERR ... 2025-5-23 5:56:58 DPR Correction\r\n",
      "T00 ERR ... 2025-5-23 5:56:58 Matrix size : 120x120\r\n",
      "T00 ERR ... 2025-5-23 5:56:58 iter\tSearch Space\tNorm\r\n",
      "T00 ERR ... 2025-5-23 5:56:58    0           20 \t 1.28e-01 \t  0.00% converged"
     ]
    },
    {
     "name": "stdout",
     "output_type": "stream",
     "text": [
      "\r\n",
      "T00 ERR ... 2025-5-23 5:56:58    1           35 \t 1.29e-02 \t  0.00% converged\r\n",
      "T00 ERR ... 2025-5-23 5:56:58    2           50 \t 9.32e-04 \t 40.00% converged\r\n",
      "T00 ERR ... 2025-5-23 5:56:58    3           61 \t 3.38e-05 \t 100.00% converged\r\n",
      "T00 ERR ... 2025-5-23 5:56:58 Davidson converged after 3 iterations.\r\n",
      "T00 ERR ... 2025-5-23 5:56:58-----------------------------------\r\n",
      "T00 ERR ... 2025-5-23 5:56:58- Davidson ran for 0.008799726secs.\r\n",
      "T00 ERR ... 2025-5-23 5:56:58-----------------------------------\r\n",
      "T00 ERR ... 2025-5-23 5:56:58 Solved BSE for singlets \r\n",
      "T00 ERR ...   ====== singlet energies (eV) ====== \r\n",
      "T00 ERR ...   S =    1 Omega = +13.839021873096 eV  lamdba = +89.60 nm <FT> = +21.2209 <K_x> = +0.9784 <K_d> = -8.3602\r\n",
      "T00 ERR ...            TrDipole length gauge[e*bohr]  dx = +0.5296 dy = -0.4114 dz = +0.3392 |d|^2 = +0.5647 f = +0.1915\r\n",
      "T00 ERR ...            HOMO-0   -> LUMO+0    : 98.7%\r\n",
      "T00 ERR ... \r\n",
      "T00 ERR ...   S =    2 Omega = +13.900473161886 eV  lamdba = +89.21 nm <FT> = +21.2941 <K_x> = +1.0297 <K_d> = -8.4233\r\n",
      "T00 ERR ...            TrDipole length gauge[e*bohr]  dx = +0.1930 dy = +0.6254 dz = +0.4737 |d|^2 = +0.6528 f = +0.2223\r\n",
      "T00 ERR ...            HOMO-1   -> LUMO+0    : 97.0%\r\n",
      "T00 ERR ... \r\n",
      "T00 ERR ...   S =    3 Omega = +13.965874301228 eV  lamdba = +88.79 nm <FT> = +21.3569 <K_x> = +1.1849 <K_d> = -8.5759\r\n",
      "T00 ERR ...            TrDipole length gauge[e*bohr]  dx = +0.6224 dy = +0.3166 dz = -0.6421 |d|^2 = +0.8999 f = +0.3079\r\n",
      "T00 ERR ...            HOMO-2   -> LUMO+0    : 97.5%\r\n",
      "T00 ERR ... \r\n",
      "T00 ERR ...   S =    4 Omega = +14.551521590717 eV  lamdba = +85.21 nm <FT> = +22.7172 <K_x> = +0.3379 <K_d> = -8.5036\r\n",
      "T00 ERR ...            TrDipole length gauge[e*bohr]  dx = -0.1697 dy = +0.0691 dz = -0.0427 |d|^2 = +0.0354 f = +0.0126\r\n",
      "T00 ERR ...            HOMO-0   -> LUMO+1    : 76.9%\r\n",
      "T00 ERR ... \r\n",
      "T00 ERR ...   S =    5 Omega = +14.601199370563 eV  lamdba = +84.92 nm <FT> = +22.7829 <K_x> = +0.3222 <K_d> = -8.5039\r\n",
      "T00 ERR ...            TrDipole length gauge[e*bohr]  dx = +0.0465 dy = -0.1282 dz = -0.2142 |d|^2 = +0.0645 f = +0.0231\r\n",
      "T00 ERR ...            HOMO-1   -> LUMO+1    : 60.4%\r\n",
      "T00 ERR ... \r\n",
      "T00 ERR ...   S =    6 Omega = +14.637094842543 eV  lamdba = +84.72 nm <FT> = +22.8476 <K_x> = +0.2779 <K_d> = -8.4884\r\n",
      "T00 ERR ...            TrDipole length gauge[e*bohr]  dx = -0.1202 dy = +0.0262 dz = -0.0832 |d|^2 = +0.0221 f = +0.0079\r\n",
      "T00 ERR ...            HOMO-0   -> LUMO+2    : 55.7%\r\n",
      "T00 ERR ... \r\n",
      "T00 ERR ...   S =    7 Omega = +14.990522848020 eV  lamdba = +82.72 nm <FT> = +22.8541 <K_x> = +0.7066 <K_d> = -8.5702\r\n",
      "T00 ERR ...            TrDipole length gauge[e*bohr]  dx = -0.0542 dy = -0.0870 dz = -0.0606 |d|^2 = +0.0142 f = +0.0052\r\n",
      "T00 ERR ... \r\n",
      "T00 ERR ...   S =    8 Omega = +15.014389990475 eV  lamdba = +82.59 nm <FT> = +22.9061 <K_x> = +0.6675 <K_d> = -8.5592\r\n",
      "T00 ERR ...            TrDipole length gauge[e*bohr]  dx = -0.0192 dy = -0.0442 dz = +0.0312 |d|^2 = +0.0033 f = +0.0012\r\n",
      "T00 ERR ...            HOMO-2   -> LUMO+3    : 70.2%\r\n",
      "T00 ERR ... \r\n",
      "T00 ERR ...   S =    9 Omega = +15.999102976042 eV  lamdba = +77.50 nm <FT> = +23.1687 <K_x> = +2.1895 <K_d> = -9.3590\r\n",
      "T00 ERR ...            TrDipole length gauge[e*bohr]  dx = -0.8962 dy = -0.8748 dz = +0.5851 |d|^2 = +1.9108 f = +0.7490\r\n",
      "T00 ERR ...            HOMO-2   -> LUMO+1    : 60.3%\r\n",
      "T00 ERR ... \r\n",
      "T00 ERR ...   S =   10 Omega = +16.031749344911 eV  lamdba = +77.35 nm <FT> = +23.2249 <K_x> = +2.2793 <K_d> = -9.4725\r\n",
      "T00 ERR ...            TrDipole length gauge[e*bohr]  dx = -0.4357 dy = +1.0789 dz = +0.8320 |d|^2 = +2.0461 f = +0.8037\r\n",
      "T00 ERR ... \r\n",
      "T00 ERR ... 2025-5-23 5:56:58 BSE calculation took 0.018415272 seconds.\r\n",
      "T00 ERR ... 2025-5-23 5:56:58 GWBSE calculation finished \r\n",
      "T00 ERR ... Next State is: s1\r\n",
      "T00 ERR ... 2025-5-23 5:56:58 Evaluating polarregion 1\r\n",
      "T00 ERR ... 2025-5-23 5:56:58 Evaluating interaction between polarregion 1 and qmregion 0\r\n",
      "T00 ERR ... Next State is: s1"
     ]
    },
    {
     "name": "stdout",
     "output_type": "stream",
     "text": [
      "\r\n",
      "T00 ERR ... 2025-5-23 5:56:58 Evaluating interaction between polarregion 1 and staticregion 2\r\n",
      "T00 ERR ... 2025-5-23 5:56:58 Starting Solving for classical polarization with 1380 degrees of freedom."
     ]
    },
    {
     "name": "stdout",
     "output_type": "stream",
     "text": [
      "\r\n",
      "T00 ERR ... 2025-5-23 5:56:58 CG: #iterations: 3, estimated error: 4.09466171191e-05\r\n",
      "T00 ERR ...   Total static energy [hrt]= 0.0009102654542\r\n",
      "T00 ERR ...   Total polar energy [hrt]= 0.0008027741751\r\n",
      "T00 ERR ...  Total energy [hrt]= 0.001713039629\r\n",
      "T00 ERR ... 2025-5-23 5:56:58 Evaluating staticregion 2\r\n",
      "T00 ERR ... 2025-5-23 5:56:58 Writing checkpoint to checkpoint_iter_6.hdf5"
     ]
    },
    {
     "name": "stdout",
     "output_type": "stream",
     "text": [
      "\r\n",
      "T00 ERR ...  Region:qmregion 0 is not converged deltaE=2.792139754e-05 RMS Dmat=0.001340916579 MaxDmat=0.007730807227\r\n",
      "T00 ERR ... 2025-5-23 5:56:58 Region:polarregion 1 is converged deltaE=1.394087916e-05\r\n",
      "T00 ERR ... 2025-5-23 5:56:58 --Total Energy all regions -39.72070933\r\n",
      "T00 ERR ... 2025-5-23 5:56:58 --Inter Region SCF Iteration 7 of 50\r\n",
      "T00 ERR ... 2025-5-23 5:56:58 Evaluating qmregion 0\r\n",
      "T00 ERR ... 2025-5-23 5:56:58 Evaluating interaction between qmregion 0 and polarregion 1\r\n",
      "T00 ERR ... 2025-5-23 5:56:58 Evaluating interaction between qmregion 0 and staticregion 2\r\n",
      "T00 ERR ... Running DFT calculation\r\n",
      "T00 ERR ... 2025-5-23 5:56:58 Using 2 threads\r\n",
      "T00 ERR ... 2025-5-23 5:56:58 Using native Eigen implementation, no BLAS overload \r\n",
      "T00 ERR ...  Molecule Coordinates [A] \r\n",
      "T00 ERR ...   C   +30.3000 +1.2704 +5.5205\r\n",
      "T00 ERR ...   H   +31.2392 +1.4802 +6.0301\r\n",
      "T00 ERR ...   H   +30.4910 +0.6554 +4.6433\r\n",
      "T00 ERR ...   H   +29.8500 +2.2100 +5.2100\r\n",
      "T00 ERR ...   H   +29.6200 +0.7500 +6.2000\r\n",
      "T00 ERR ... 2025-5-23 5:56:58 Loaded DFT Basis Set 3-21G with 17 functions\r\n",
      "T00 ERR ... 2025-5-23 5:56:58 Loaded AUX Basis Set aux-def2-svp with 104 functions\r\n",
      "T00 ERR ... 2025-5-23 5:56:58 Total number of electrons: 10\r\n",
      "T00 ERR ... 2025-5-23 5:56:58 Smallest value of AOOverlap matrix is 0.03364074275\r\n",
      "T00 ERR ... 2025-5-23 5:56:58 Removed 0 basisfunction from inverse overlap matrix\r\n",
      "T00 ERR ... 2025-5-23 5:56:58 Convergence Options:\r\n",
      "T00 ERR ... \t\t Delta E [Ha]: 1e-07\r\n",
      "T00 ERR ... \t\t DIIS max error: 1e-07\r\n",
      "T00 ERR ... \t\t DIIS histlength: 20\r\n",
      "T00 ERR ... \t\t ADIIS start: 0.8\r\n",
      "T00 ERR ... \t\t DIIS start: 0.002\r\n",
      "T00 ERR ... \t\t Deleting oldest element from DIIS hist\r\n",
      "T00 ERR ... \t\t Levelshift[Ha]: 0\r\n",
      "T00 ERR ... \t\t Levelshift end: 0.2\r\n",
      "T00 ERR ... \t\t Mixing Parameter alpha: 0.7\r\n",
      "T00 ERR ... 2025-5-23 5:56:58 Setup invariant parts of Electron Repulsion integrals \r\n",
      "T00 ERR ... 2025-5-23 5:56:58 Constructed independent particle hamiltonian \r\n",
      "T00 ERR ... 2025-5-23 5:56:58 Nuclear Repulsion Energy is 13.4434088\r\n",
      "T00 ERR ... 2025-5-23 5:56:58 1350 External sites\r\n",
      "T00 ERR ...  Name      Coordinates[a0]     charge[e]         dipole[e*a0]    \r\n",
      "T00 ERR ...   C   +63.8902 +7.9543 +11.0171   -0.3282   +0.0089 +0.0010 -0.0060\r\n",
      "T00 ERR ...   H   +62.3892 +6.5470 +10.9796   +0.0824   +0.0094 +0.0028 -0.0001\r\n",
      "T00 ERR ...   H   +65.3194 +7.4736 +9.6186   +0.0822   +0.0038 -0.0009 -0.0023\r\n",
      "T00 ERR ...   H   +63.1170 +9.8077 +10.6203   +0.0817   +0.0015 +0.0013 +0.0010\r\n",
      "T00 ERR ...   H   +64.7422 +7.9557 +12.9068   +0.0819   +0.0043 +0.0033 -0.0007\r\n",
      "T00 ERR ...   C   +63.9128 -0.3996 +22.8673   -0.3282   -0.0029 +0.0015 +0.0052\r\n",
      "T00 ERR ...   H   +63.0449 -1.1731 +21.1692   +0.0824   -0.0001 -0.0006 +0.0015\r\n",
      "T00 ERR ...   H   +62.7676 +1.1530 +23.5795   +0.0822   -0.0015 +0.0049 +0.0022\r\n",
      "T00 ERR ...   H   +64.0430 -1.8922 +24.2830   +0.0817   +0.0010 -0.0003 -0.0009\r\n",
      "T00 ERR ...   H   +65.8004 +0.2810 +22.4122   +0.0819   -0.0036 -0.0009 +0.0017\r\n",
      "T00 ERR ...   C   +61.7182 -0.4374 -3.3115   -0.3282   -0.0001 -0.0018 +0.0010\r\n",
      "T00 ERR ...   H   +60.6600 -1.0798 -4.9554   +0.0824   +0.0011 +0.0014 +0.0012\r\n",
      "T00 ERR ...   H   +63.3309 +0.6815 -3.9252   +0.0822   -0.0014 -0.0019 -0.0005\r\n",
      "T00 ERR ...   H   +62.3800 -2.0623 -2.2148   +0.0817   +0.0010 -0.0019 +0.0013\r\n",
      "T00 ERR ...   H   +60.5092 +0.7345 -2.1392   +0.0819   -0.0027 -0.0035 -0.0019\r\n",
      "T00 ERR ...   C   +62.0402 +12.7739 +4.5175   -0.3282   +0.0027 +0.0004 +0.0017\r\n",
      "T00 ERR ...   H   +60.1049 +13.3052 +4.0622   +0.0824   +0.0002 -0.0013 -0.0010\r\n",
      "T00 ERR ...   H   +62.0812 +11.8167 +6.3372   +0.0822   +0.0006 -0.0022 -0.0015\r\n",
      "T00 ERR ...   H   +63.2115 +14.4753 +4.6109   +0.0817   +0.0028 +0.0022 +0.0014\r\n",
      "T00 ERR ...   H   +62.7769 +11.5084 +3.0803   +0.0819   -0.0003 -0.0009 +0.0006\r\n",
      "T00 ERR ...   C   +60.6789 +14.3239 +12.6808   -0.3282   -0.0019 +0.0028 +0.0015\r\n",
      "T00 ERR ...   H   +61.0756 +13.9461 +10.6972   +0.0824   -0.0038 +0.0039 -0.0004\r\n",
      "T00 ERR ...   H   +61.0224 +16.3108 +13.0851   +0.0822   -0.0001 +0.0006 +0.0033\r\n",
      "T00 ERR ...   H   +58.7327 +13.8328 +13.0580   +0.0817   +0.0007 -0.0002 +0.0003\r\n",
      "T00 ERR ...   H   +61.9074 +13.1525 +13.8517   +0.0819   -0.0006 -0.0006 +0.0035\r\n",
      "T00 ERR ...   C   +68.7870 +4.1961 +17.9521   -0.3282   +0.0049 +0.0003 +0.0063\r\n",
      "T00 ERR ...   H   +68.2015 +2.4962 +18.9532   +0.0824   +0.0001 -0.0005 -0.0013\r\n",
      "T00 ERR ...   H   +67.2445 +4.8625 +16.7665   +0.0822   +0.0015 -0.0030 +0.0028\r\n",
      "T00 ERR ...   H   +70.4303 +3.7606 +16.7997   +0.0817   -0.0007 +0.0010 +0.0004\r\n",
      "T00 ERR ...   H   +69.2964 +5.6503 +19.3130   +0.0819   +0.0011 +0.0009 +0.0055\r\n",
      "T00 ERR ...   C   +54.0832 +4.4983 +27.1938   -0.3282   -0.0007 -0.0025 -0.0012\r\n",
      "T00 ERR ...   H   +53.5372 +6.4564 +27.5139   +0.0824   -0.0012 -0.0015 +0.0002\r\n",
      "T00 ERR ...   H   +52.9768 +3.2670 +28.4141   +0.0822   -0.0007 -0.0015 +0.0003\r\n",
      "T00 ERR ...   H   +53.7249 +4.0062 +25.2278   +0.0817   +0.0021 -0.0009 +0.0002\r\n",
      "T00 ERR ...   H   +56.0682 +4.2330 +27.6278   +0.0819   -0.0032 +0.0014 -0.0015\r\n",
      "T00 ERR ...   C   +63.8174 +6.3112 -1.0788   -0.3282   -0.0007 -0.0004 -0.0003\r\n",
      "T00 ERR ...   H   +65.2393 +6.4796 +0.3993   +0.0824   -0.0003 -0.0010 +0.0014\r\n",
      "T00 ERR ...   H   +62.4364 +4.8836 -0.5459   +0.0822   +0.0020 +0.0009 -0.0007\r\n",
      "T00 ERR ...   H   +64.7422 +5.7637 -2.8384   +0.0817   -0.0005 +0.0027 +0.0002\r\n",
      "T00 ERR ...   H   +62.8903 +8.1258 -1.3455   +0.0819   -0.0006 -0.0016 -0.0037\r\n",
      "T00 ERR ...   C   +64.1752 +19.2751 +7.8615   -0.3282   +0.0049 -0.0000 +0.0006\r\n",
      "T00 ERR ...   H   +62.9276 +19.0860 +6.2359   +0.0824   -0.0011 +0.0004 +0.0021\r\n",
      "T00 ERR ...   H   +63.4396 +18.1623 +9.4267   +0.0822   +0.0013 -0.0002 -0.0003\r\n",
      "T00 ERR ...   H   +66.0461 +18.6138 +7.3699   +0.0817   +0.0012 -0.0009 -0.0001\r\n",
      "T00 ERR ...   H   +64.2509 +21.2405 +8.4282   +0.0819   +0.0017 +0.0008 -0.0004\r\n",
      "T00 ERR ...   C   +61.3975 +17.7254 +18.4625   -0.3282   +0.0021 -0.0003 +0.0025\r\n",
      "T00 ERR ...   H   +60.9990 +19.0346 +16.9256   +0.0824   -0.0004 +0.0012 +0.0002\r\n",
      "T00 ERR ...   H   +61.0958 +18.6680 +20.2653   +0.0822   +0.0001 +0.0000 +0.0003\r\n",
      "T00 ERR ...   H   +60.1502 +16.1005 +18.3303   +0.0817   +0.0028 +0.0005 -0.0006\r\n",
      "T00 ERR ...   H   +63.3627 +17.1020 +18.3492   +0.0819   -0.0014 -0.0005 +0.0014\r\n",
      "T00 ERR ...               ... (1300 sites not displayed)\r\n"
     ]
    },
    {
     "name": "stdout",
     "output_type": "stream",
     "text": [
      "\r\n",
      "T00 ERR ... 2025-5-23 5:56:58 Filled DFT external multipole potential matrix\r\n",
      "T00 ERR ... 2025-5-23 5:56:58 Nuclei-external site interaction energy 0.0204347161\r\n",
      "T00 ERR ... 2025-5-23 5:56:58 Using hybrid functional with alpha=0.25\r\n",
      "T00 ERR ... 2025-5-23 5:56:58 Setup numerical integration grid medium for vxc functional XC_HYB_GGA_XC_PBEH\r\n",
      "T00 ERR ... 2025-5-23 5:56:58 Setup Initial Guess using: atom\r\n",
      "T00 ERR ... 2025-5-23 5:56:58 Calculating atom density for C"
     ]
    },
    {
     "name": "stdout",
     "output_type": "stream",
     "text": [
      "\r\n",
      "T00 ERR ... 2025-5-23 5:56:59 Calculating atom density for H"
     ]
    },
    {
     "name": "stdout",
     "output_type": "stream",
     "text": [
      "\r\n",
      "T00 ERR ... 2025-5-23 5:56:59 STARTING SCF cycle\r\n",
      "T00 ERR ...  --------------------------------------------------------------------------\r\n",
      "T00 ERR ... \r\n",
      "T00 ERR ... 2025-5-23 5:56:59 Iteration 1 of 100"
     ]
    },
    {
     "name": "stdout",
     "output_type": "stream",
     "text": [
      "\r\n",
      "T00 ERR ... 2025-5-23 5:56:59 Total Energy -40.1456786595\r\n",
      "T00 ERR ... 2025-5-23 5:56:59 DIIs error 0.219656579317\r\n",
      "T00 ERR ... 2025-5-23 5:56:59 Delta Etot 0\r\n",
      "T00 ERR ... \r\n",
      "T00 ERR ... 2025-5-23 5:56:59 Iteration 2 of 100"
     ]
    },
    {
     "name": "stdout",
     "output_type": "stream",
     "text": [
      "\r\n",
      "T00 ERR ... 2025-5-23 5:56:59 Total Energy -40.1815970641\r\n",
      "T00 ERR ... 2025-5-23 5:56:59 DIIs error 0.128764124506\r\n",
      "T00 ERR ... 2025-5-23 5:56:59 Delta Etot -0.0359184046258\r\n",
      "T00 ERR ... \r\n",
      "T00 ERR ... 2025-5-23 5:56:59 Iteration 3 of 100"
     ]
    },
    {
     "name": "stdout",
     "output_type": "stream",
     "text": [
      "\r\n",
      "T00 ERR ... 2025-5-23 5:56:59 Total Energy -40.1980712894\r\n",
      "T00 ERR ... 2025-5-23 5:56:59 DIIs error 0.079338060238\r\n",
      "T00 ERR ... 2025-5-23 5:56:59 Delta Etot -0.0164742252934\r\n",
      "T00 ERR ... \r\n",
      "T00 ERR ... 2025-5-23 5:56:59 Iteration 4 of 100"
     ]
    },
    {
     "name": "stdout",
     "output_type": "stream",
     "text": [
      "\r\n",
      "T00 ERR ... 2025-5-23 5:56:59 Total Energy -40.2287320064\r\n",
      "T00 ERR ... 2025-5-23 5:56:59 DIIs error 0.0296189713791\r\n",
      "T00 ERR ... 2025-5-23 5:56:59 Delta Etot -0.0306607169966\r\n",
      "T00 ERR ... \r\n",
      "T00 ERR ... 2025-5-23 5:56:59 Iteration 5 of 100"
     ]
    },
    {
     "name": "stdout",
     "output_type": "stream",
     "text": [
      "\r\n",
      "T00 ERR ... 2025-5-23 5:56:59 Total Energy -40.2286241232\r\n",
      "T00 ERR ... 2025-5-23 5:56:59 DIIs error 0.0311990138352\r\n",
      "T00 ERR ... 2025-5-23 5:56:59 Delta Etot 0.000107883174252\r\n",
      "T00 ERR ... \r\n",
      "T00 ERR ... 2025-5-23 5:56:59 Iteration 6 of 100"
     ]
    },
    {
     "name": "stdout",
     "output_type": "stream",
     "text": [
      "\r\n",
      "T00 ERR ... 2025-5-23 5:57:0 Total Energy -40.2309754546\r\n",
      "T00 ERR ... 2025-5-23 5:57:0 DIIs error 0.000318952654897\r\n",
      "T00 ERR ... 2025-5-23 5:57:0 Delta Etot -0.00235133140115\r\n",
      "T00 ERR ... \r\n",
      "T00 ERR ... 2025-5-23 5:57:0 Iteration 7 of 100"
     ]
    },
    {
     "name": "stdout",
     "output_type": "stream",
     "text": [
      "\r\n",
      "T00 ERR ... 2025-5-23 5:57:0 Total Energy -40.2309757095\r\n",
      "T00 ERR ... 2025-5-23 5:57:0 DIIs error 2.04390221275e-05\r\n",
      "T00 ERR ... 2025-5-23 5:57:0 Delta Etot -2.54900648144e-07\r\n",
      "T00 ERR ... \r\n",
      "T00 ERR ... 2025-5-23 5:57:0 Iteration 8 of 100"
     ]
    },
    {
     "name": "stdout",
     "output_type": "stream",
     "text": [
      "\r\n",
      "T00 ERR ... 2025-5-23 5:57:0 Total Energy -40.2309757098\r\n",
      "T00 ERR ... 2025-5-23 5:57:0 DIIs error 1.08213101661e-05\r\n",
      "T00 ERR ... 2025-5-23 5:57:0 Delta Etot -2.43325359861e-10\r\n",
      "T00 ERR ... \r\n",
      "T00 ERR ... 2025-5-23 5:57:0 Iteration 9 of 100"
     ]
    },
    {
     "name": "stdout",
     "output_type": "stream",
     "text": [
      "\r\n",
      "T00 ERR ... 2025-5-23 5:57:0 Total Energy -40.2309757102\r\n",
      "T00 ERR ... 2025-5-23 5:57:0 DIIs error 3.48776080881e-06\r\n",
      "T00 ERR ... 2025-5-23 5:57:0 Delta Etot -3.89420051761e-10\r\n",
      "T00 ERR ... \r\n",
      "T00 ERR ... 2025-5-23 5:57:0 Iteration 10 of 100"
     ]
    },
    {
     "name": "stdout",
     "output_type": "stream",
     "text": [
      "\r\n",
      "T00 ERR ... 2025-5-23 5:57:0 Total Energy -40.2309757102\r\n",
      "T00 ERR ... 2025-5-23 5:57:0 DIIs error 9.0874672055e-07\r\n",
      "T00 ERR ... 2025-5-23 5:57:0 Delta Etot -4.48778791906e-11\r\n",
      "T00 ERR ... \r\n",
      "T00 ERR ... 2025-5-23 5:57:0 Iteration 11 of 100"
     ]
    },
    {
     "name": "stdout",
     "output_type": "stream",
     "text": [
      "\r\n",
      "T00 ERR ... 2025-5-23 5:57:0 Total Energy -40.2309757102\r\n",
      "T00 ERR ... 2025-5-23 5:57:0 DIIs error 1.36399954447e-09\r\n",
      "T00 ERR ... 2025-5-23 5:57:0 Delta Etot -3.01980662698e-12\r\n",
      "T00 ERR ... 2025-5-23 5:57:0 Total Energy has converged to -3.01980663e-12[Ha] after 11 iterations. DIIS error is converged up to 1.36399954e-09\r\n",
      "T00 ERR ... 2025-5-23 5:57:0 Final Single Point Energy -40.2309757102 Ha\r\n",
      "T00 ERR ... 2025-5-23 5:57:0 Final Local Exc contribution -5.18429667271 Ha\r\n",
      "T00 ERR ... 2025-5-23 5:57:0 Final Non Local Ex contribution -1.63926630408 Ha\r\n",
      "T00 ERR ...   Orbital energies: \r\n",
      "T00 ERR ...   index occupation energy(Hartree) \r\n",
      "T00 ERR ...      0      2   -10.1479503288\r\n",
      "T00 ERR ...      1      2   -0.7122284079\r\n",
      "T00 ERR ...      2      2   -0.4030244075\r\n",
      "T00 ERR ...      3      2   -0.4013560033\r\n",
      "T00 ERR ...      4      2   -0.3991119309\r\n",
      "T00 ERR ...      5      0   +0.1607321101\r\n",
      "T00 ERR ...      6      0   +0.2030222144\r\n",
      "T00 ERR ...      7      0   +0.2081434572\r\n",
      "T00 ERR ...      8      0   +0.2102867786\r\n",
      "T00 ERR ...      9      0   +0.7241133284\r\n",
      "T00 ERR ...     10      0   +0.7253272928\r\n",
      "T00 ERR ...     11      0   +0.7278575504\r\n",
      "T00 ERR ...     12      0   +1.0556253123\r\n",
      "T00 ERR ...     13      0   +1.0854079409\r\n",
      "T00 ERR ...     14      0   +1.0904089753\r\n",
      "T00 ERR ...     15      0   +1.0921192259\r\n",
      "T00 ERR ...     16      0   +1.7121060048\r\n",
      "T00 ERR ... 2025-5-23 5:57:0 Electric Dipole is[e*bohr]:\r\n",
      "\t\t dx=0.0191664306321\r\n",
      "\t\t dy=0.0353304094197\r\n",
      "\t\t dz=-0.0142667902919\r\n",
      "T00 ERR ... Writing result to temp.orb\r\n",
      "T00 ERR ... 2025-5-23 5:57:0 DFT calculation took 1.703947396 seconds.\r\n",
      "T00 ERR ... 2025-5-23 5:57:0 RPA level range [0:16]\r\n",
      "T00 ERR ... 2025-5-23 5:57:0 GW  level range [0:16]\r\n",
      "T00 ERR ... 2025-5-23 5:57:0 BSE level range occ[0:4]  virt[5:16]\r\n",
      "T00 ERR ...  BSE type: full\r\n",
      "T00 ERR ... 2025-5-23 5:57:0 BSE Hamiltonian has size 120x120\r\n",
      "T00 ERR ...  BSE without Hqp offdiagonal elements\r\n",
      "T00 ERR ...  Running GW as: G0W0\r\n",
      "T00 ERR ...  qp_sc_limit [Hartree]: 1e-05\r\n",
      "T00 ERR ...  Tasks: \r\n",
      "T00 ERR ...  GW \r\n",
      "T00 ERR ...  singlets \r\n",
      "T00 ERR ...  triplets \r\n",
      "T00 ERR ...  Store: \r\n",
      "T00 ERR ...  GW \r\n",
      "T00 ERR ...  Sigma integration: ppm\r\n",
      "T00 ERR ...  eta: 0.001\r\n",
      "T00 ERR ...  QP solver: grid\r\n",
      "T00 ERR ...  QP grid steps: 1001\r\n",
      "T00 ERR ...  QP grid spacing: 0.001\r\n",
      "T00 ERR ... 2025-5-23 5:57:0 Using 2 threads\r\n",
      "T00 ERR ... 2025-5-23 5:57:0 Using native Eigen implementation, no BLAS overload \r\n",
      "T00 ERR ... 2025-5-23 5:57:0 Molecule Coordinates [A] \r\n",
      "T00 ERR ...     0    C   30.3000 1.2704 5.5205\r\n",
      "T00 ERR ...     1    H   31.2392 1.4802 6.0301\r\n",
      "T00 ERR ...     2    H   30.4910 0.6554 4.6433\r\n",
      "T00 ERR ...     3    H   29.8500 2.2100 5.2100\r\n",
      "T00 ERR ...     4    H   29.6200 0.7500 6.2000\r\n",
      "T00 ERR ... 2025-5-23 5:57:0 DFT data was created by xtp\r\n",
      "T00 ERR ... 2025-5-23 5:57:0 Loaded DFT Basis Set 3-21G\r\n",
      "T00 ERR ... 2025-5-23 5:57:0 Filled DFT Basis of size 17\r\n",
      "T00 ERR ... 2025-5-23 5:57:0 Loaded Auxbasis Set aux-def2-svp\r\n",
      "T00 ERR ... 2025-5-23 5:57:0 Filled Auxbasis of size 104\r\n",
      "T00 ERR ... 2025-5-23 5:57:0 Calculating Mmn_beta (3-center-repulsion x orbitals)  \r\n",
      "T00 ERR ... 2025-5-23 5:57:0 Calculated Mmn_beta (3-center-repulsion x orbitals)  "
     ]
    },
    {
     "name": "stdout",
     "output_type": "stream",
     "text": [
      "\r\n",
      "T00 ERR ... 2025-5-23 5:57:0 Integrating Vxc with functional XC_HYB_GGA_XC_PBEH"
     ]
    },
    {
     "name": "stdout",
     "output_type": "stream",
     "text": [
      "\r\n",
      "T00 ERR ... 2025-5-23 5:57:0 Set hybrid exchange factor: 0.25\r\n",
      "T00 ERR ... 2025-5-23 5:57:0 Calculated exchange-correlation expectation values \r\n",
      "T00 ERR ... 2025-5-23 5:57:0 Calculated Hartree exchange contribution\r\n",
      "T00 ERR ... 2025-5-23 5:57:0 Scissor shifting DFT energies by: 0 Hrt"
     ]
    },
    {
     "name": "stdout",
     "output_type": "stream",
     "text": [
      "\r\n",
      "T00 ERR ...   ====== Perturbative quasiparticle energies (Hartree) ====== \r\n",
      "T00 ERR ...    DeltaHLGap = +0.215513 Hartree\r\n",
      "T00 ERR ...   Level =    0 DFT = -10.1480 VXC = -1.7031 S-X = -2.6689 S-C = +0.5631 GWA = -10.5506\r\n",
      "T00 ERR ...   Level =    1 DFT = -0.7122 VXC = -0.4404 S-X = -0.6606 S-C = +0.1083 GWA = -0.8241\r\n",
      "T00 ERR ...   Level =    2 DFT = -0.4030 VXC = -0.3959 S-X = -0.5286 S-C = +0.0324 GWA = -0.5033\r\n",
      "T00 ERR ...   Level =    3 DFT = -0.4014 VXC = -0.3967 S-X = -0.5298 S-C = +0.0328 GWA = -0.5016\r\n",
      "T00 ERR ...   HOMO  =    4 DFT = -0.3991 VXC = -0.3970 S-X = -0.5300 S-C = +0.0329 GWA = -0.4993\r\n",
      "T00 ERR ...   LUMO  =    5 DFT = +0.1607 VXC = -0.2418 S-X = -0.1018 S-C = -0.0246 GWA = +0.2761\r\n",
      "T00 ERR ...   Level =    6 DFT = +0.2030 VXC = -0.2616 S-X = -0.1101 S-C = -0.0238 GWA = +0.3308\r\n",
      "T00 ERR ...   Level =    7 DFT = +0.2081 VXC = -0.2612 S-X = -0.1097 S-C = -0.0239 GWA = +0.3358\r\n",
      "T00 ERR ...   Level =    8 DFT = +0.2103 VXC = -0.2613 S-X = -0.1098 S-C = -0.0238 GWA = +0.3379\r\n",
      "T00 ERR ...   Level =    9 DFT = +0.7241 VXC = -0.3183 S-X = -0.1082 S-C = -0.0635 GWA = +0.8706\r\n",
      "T00 ERR ...   Level =   10 DFT = +0.7253 VXC = -0.3182 S-X = -0.1080 S-C = -0.0638 GWA = +0.8718\r\n",
      "T00 ERR ...   Level =   11 DFT = +0.7279 VXC = -0.3177 S-X = -0.1073 S-C = -0.0643 GWA = +0.8740\r\n",
      "T00 ERR ...   Level =   12 DFT = +1.0556 VXC = -0.4047 S-X = -0.1334 S-C = -0.0323 GWA = +1.2946\r\n",
      "T00 ERR ...   Level =   13 DFT = +1.0854 VXC = -0.3963 S-X = -0.1274 S-C = -0.1740 GWA = +1.1803\r\n",
      "T00 ERR ...   Level =   14 DFT = +1.0904 VXC = -0.3953 S-X = -0.1271 S-C = -0.1730 GWA = +1.1857\r\n",
      "T00 ERR ...   Level =   15 DFT = +1.0921 VXC = -0.3946 S-X = -0.1268 S-C = -0.1726 GWA = +1.1873\r\n",
      "T00 ERR ...   Level =   16 DFT = +1.7121 VXC = -0.3559 S-X = -0.1045 S-C = -0.0297 GWA = +1.9338\r\n",
      "T00 ERR ... 2025-5-23 5:57:0 Calculated offdiagonal part of Sigma  \r\n",
      "T00 ERR ... 2025-5-23 5:57:0 Full quasiparticle Hamiltonian  \r\n",
      "T00 ERR ...   ====== Diagonalized quasiparticle energies (Hartree) ====== \r\n",
      "T00 ERR ...   Level =    0 PQP = -10.550600 DQP = -10.550785 \r\n",
      "T00 ERR ...   Level =    1 PQP = -0.824114 DQP = -0.824558 \r\n",
      "T00 ERR ...   Level =    2 PQP = -0.503315 DQP = -0.503591 \r\n",
      "T00 ERR ...   Level =    3 PQP = -0.501555 DQP = -0.501762 \r\n",
      "T00 ERR ...   HOMO  =    4 PQP = -0.499254 DQP = -0.499445 \r\n",
      "T00 ERR ...   LUMO  =    5 PQP = +0.276103 DQP = +0.267907 \r\n",
      "T00 ERR ...   Level =    6 PQP = +0.330792 DQP = +0.328908 \r\n",
      "T00 ERR ...   Level =    7 PQP = +0.335759 DQP = +0.334326 \r\n",
      "T00 ERR ...   Level =    8 PQP = +0.337927 DQP = +0.336519 \r\n",
      "T00 ERR ...   Level =    9 PQP = +0.870622 DQP = +0.868939 \r\n",
      "T00 ERR ...   Level =   10 PQP = +0.871773 DQP = +0.869909 \r\n",
      "T00 ERR ...   Level =   11 PQP = +0.873963 DQP = +0.871691 \r\n",
      "T00 ERR ...   Level =   12 PQP = +1.294586 DQP = +1.183189 \r\n",
      "T00 ERR ...   Level =   13 PQP = +1.180318 DQP = +1.189595 \r\n",
      "T00 ERR ...   Level =   14 PQP = +1.185697 DQP = +1.191519 \r\n",
      "T00 ERR ...   Level =   15 PQP = +1.187298 DQP = +1.289809 \r\n",
      "T00 ERR ...   Level =   16 PQP = +1.933787 DQP = +1.947618 \r\n",
      "T00 ERR ... 2025-5-23 5:57:0 Diagonalized QP Hamiltonian  \r\n",
      "T00 ERR ... 2025-5-23 5:57:0 GW calculation took 0.120908877 seconds.\r\n",
      "T00 ERR ... 2025-5-23 5:57:0 Setup Full triplet hamiltonian \r\n",
      "T00 ERR ... 2025-5-23 5:57:0 Davidson Solver using 2 threads.\r\n",
      "T00 ERR ... 2025-5-23 5:57:0 Tolerance : 0.0001\r\n",
      "T00 ERR ... 2025-5-23 5:57:0 DPR Correction\r\n",
      "T00 ERR ... 2025-5-23 5:57:0 Matrix size : 120x120\r\n",
      "T00 ERR ... 2025-5-23 5:57:0 iter\tSearch Space\tNorm\r\n",
      "T00 ERR ... 2025-5-23 5:57:0    0           20 \t 1.28e-01 \t  0.00% converged\r\n",
      "T00 ERR ... 2025-5-23 5:57:0    1           35 \t 1.41e-02 \t  0.00% converged\r\n",
      "T00 ERR ... 2025-5-23 5:57:0    2           50 \t 8.60e-04 \t 10.00% converged\r\n",
      "T00 ERR ... 2025-5-23 5:57:0    3           62 \t 2.81e-05 \t 100.00% converged\r\n",
      "T00 ERR ... 2025-5-23 5:57:0 Davidson converged after 3 iterations.\r\n",
      "T00 ERR ... 2025-5-23 5:57:0-----------------------------------\r\n",
      "T00 ERR ... 2025-5-23 5:57:0- Davidson ran for 0.007365512secs.\r\n",
      "T00 ERR ... 2025-5-23 5:57:0-----------------------------------\r\n",
      "T00 ERR ... 2025-5-23 5:57:0 Solved BSE for triplets \r\n",
      "T00 ERR ...   ====== triplet energies (eV) ====== \r\n",
      "T00 ERR ...   T =    1 Omega = +11.590948138087 eV  lamdba = +106.98 nm <FT> = +22.7914 <K_d> = -11.2005\r\n",
      "T00 ERR ...    \r\n",
      "T00 ERR ...   T =    2 Omega = +11.768297558579 eV  lamdba = +105.37 nm <FT> = +22.9504 <K_d> = -11.1822\r\n",
      "T00 ERR ...    \r\n",
      "T00 ERR ...   T =    3 Omega = +11.826607125355 eV  lamdba = +104.85 nm <FT> = +22.4804 <K_d> = -10.6538\r\n",
      "T00 ERR ...    \r\n",
      "T00 ERR ...   T =    4 Omega = +11.875302504752 eV  lamdba = +104.42 nm <FT> = +22.4517 <K_d> = -10.5764\r\n",
      "T00 ERR ...    \r\n",
      "T00 ERR ...   T =    5 Omega = +13.657025233248 eV  lamdba = +90.80 nm <FT> = +22.2472 <K_d> = -8.5901\r\n",
      "T00 ERR ...    \r\n",
      "T00 ERR ...   T =    6 Omega = +13.750832863131 eV  lamdba = +90.18 nm <FT> = +22.2956 <K_d> = -8.5448\r\n",
      "T00 ERR ...    \r\n",
      "T00 ERR ...   T =    7 Omega = +13.942847602728 eV  lamdba = +88.93 nm <FT> = +22.3950 <K_d> = -8.4521\r\n",
      "T00 ERR ...    \r\n",
      "T00 ERR ...   T =    8 Omega = +14.129792949695 eV  lamdba = +87.76 nm <FT> = +22.7316 <K_d> = -8.6018\r\n",
      "T00 ERR ...            HOMO-0   -> LUMO+1    : 72.0%\r\n",
      "T00 ERR ...    \r\n",
      "T00 ERR ...   T =    9 Omega = +14.226230404711 eV  lamdba = +87.16 nm <FT> = +22.8418 <K_d> = -8.6155\r\n",
      "T00 ERR ...    \r\n",
      "T00 ERR ...   T =   10 Omega = +14.374359431950 eV  lamdba = +86.26 nm <FT> = +22.8657 <K_d> = -8.4913\r\n",
      "T00 ERR ...            HOMO-2   -> LUMO+2    : 56.5%\r\n",
      "T00 ERR ...    \r\n",
      "T00 ERR ... 2025-5-23 5:57:0 Setup Full singlet hamiltonian \r\n",
      "T00 ERR ... 2025-5-23 5:57:0 Davidson Solver using 2 threads.\r\n",
      "T00 ERR ... 2025-5-23 5:57:0 Tolerance : 0.0001\r\n",
      "T00 ERR ... 2025-5-23 5:57:0 DPR Correction\r\n",
      "T00 ERR ... 2025-5-23 5:57:0 Matrix size : 120x120\r\n",
      "T00 ERR ... 2025-5-23 5:57:0 iter\tSearch Space\tNorm\r\n",
      "T00 ERR ... 2025-5-23 5:57:0    0           20 \t 1.28e-01 \t  0.00% converged\r\n",
      "T00 ERR ... 2025-5-23 5:57:0    1           35 \t 1.29e-02 \t  0.00% converged\r\n",
      "T00 ERR ... 2025-5-23 5:57:0    2           50 \t 9.32e-04 \t 40.00% converged\r\n",
      "T00 ERR ... 2025-5-23 5:57:0    3           61 \t 3.38e-05 \t 100.00% converged\r\n",
      "T00 ERR ... 2025-5-23 5:57:0 Davidson converged after 3 iterations.\r\n",
      "T00 ERR ... 2025-5-23 5:57:0-----------------------------------\r\n",
      "T00 ERR ... 2025-5-23 5:57:0- Davidson ran for 0.007978525secs.\r\n",
      "T00 ERR ... 2025-5-23 5:57:0-----------------------------------\r\n",
      "T00 ERR ... 2025-5-23 5:57:0 Solved BSE for singlets \r\n",
      "T00 ERR ...   ====== singlet energies (eV) ====== \r\n",
      "T00 ERR ...   S =    1 Omega = +13.838742603874 eV  lamdba = +89.60 nm <FT> = +21.2209 <K_x> = +0.9779 <K_d> = -8.3600\r\n",
      "T00 ERR ...            TrDipole length gauge[e*bohr]  dx = -0.5300 dy = +0.4100 dz = -0.3395 |d|^2 = +0.5642 f = +0.1913\r\n",
      "T00 ERR ...            HOMO-0   -> LUMO+0    : 98.7%\r\n",
      "T00 ERR ... \r\n",
      "T00 ERR ...   S =    2 Omega = +13.900151419316 eV  lamdba = +89.21 nm <FT> = +21.2940 <K_x> = +1.0291 <K_d> = -8.4230\r\n",
      "T00 ERR ...            TrDipole length gauge[e*bohr]  dx = +0.1910 dy = +0.6256 dz = +0.4733 |d|^2 = +0.6519 f = +0.2220\r\n",
      "T00 ERR ...            HOMO-1   -> LUMO+0    : 97.0%\r\n",
      "T00 ERR ... \r\n",
      "T00 ERR ...   S =    3 Omega = +13.966090966332 eV  lamdba = +88.79 nm <FT> = +21.3572 <K_x> = +1.1855 <K_d> = -8.5766\r\n",
      "T00 ERR ...            TrDipole length gauge[e*bohr]  dx = +0.6224 dy = +0.3180 dz = -0.6421 |d|^2 = +0.9008 f = +0.3082\r\n",
      "T00 ERR ...            HOMO-2   -> LUMO+0    : 97.5%\r\n",
      "T00 ERR ... \r\n",
      "T00 ERR ...   S =    4 Omega = +14.551305432783 eV  lamdba = +85.22 nm <FT> = +22.7166 <K_x> = +0.3384 <K_d> = -8.5037\r\n",
      "T00 ERR ...            TrDipole length gauge[e*bohr]  dx = +0.1701 dy = -0.0698 dz = +0.0436 |d|^2 = +0.0357 f = +0.0127\r\n",
      "T00 ERR ...            HOMO-0   -> LUMO+1    : 76.9%\r\n",
      "T00 ERR ... \r\n",
      "T00 ERR ...   S =    5 Omega = +14.601181237021 eV  lamdba = +84.92 nm <FT> = +22.7825 <K_x> = +0.3228 <K_d> = -8.5041\r\n",
      "T00 ERR ...            TrDipole length gauge[e*bohr]  dx = +0.0462 dy = -0.1289 dz = -0.2153 |d|^2 = +0.0651 f = +0.0233\r\n",
      "T00 ERR ...            HOMO-1   -> LUMO+1    : 60.5%\r\n",
      "T00 ERR ... \r\n",
      "T00 ERR ...   S =    6 Omega = +14.637336086250 eV  lamdba = +84.71 nm <FT> = +22.8479 <K_x> = +0.2778 <K_d> = -8.4884\r\n",
      "T00 ERR ...            TrDipole length gauge[e*bohr]  dx = -0.1204 dy = +0.0272 dz = -0.0826 |d|^2 = +0.0221 f = +0.0079\r\n",
      "T00 ERR ...            HOMO-0   -> LUMO+2    : 55.7%\r\n",
      "T00 ERR ... \r\n",
      "T00 ERR ...   S =    7 Omega = +14.990679940384 eV  lamdba = +82.72 nm <FT> = +22.8543 <K_x> = +0.7066 <K_d> = -8.5702\r\n",
      "T00 ERR ...            TrDipole length gauge[e*bohr]  dx = -0.0541 dy = -0.0875 dz = -0.0599 |d|^2 = +0.0142 f = +0.0052\r\n",
      "T00 ERR ... \r\n",
      "T00 ERR ...   S =    8 Omega = +15.014630558865 eV  lamdba = +82.59 nm <FT> = +22.9065 <K_x> = +0.6672 <K_d> = -8.5591\r\n",
      "T00 ERR ...            TrDipole length gauge[e*bohr]  dx = +0.0184 dy = +0.0440 dz = -0.0307 |d|^2 = +0.0032 f = +0.0012\r\n",
      "T00 ERR ...            HOMO-2   -> LUMO+3    : 70.4%\r\n",
      "T00 ERR ... \r\n",
      "T00 ERR ...   S =    9 Omega = +15.999045045056 eV  lamdba = +77.50 nm <FT> = +23.1685 <K_x> = +2.1889 <K_d> = -9.3583\r\n",
      "T00 ERR ...            TrDipole length gauge[e*bohr]  dx = -0.8950 dy = -0.8747 dz = +0.5864 |d|^2 = +1.9100 f = +0.7487\r\n",
      "T00 ERR ...            HOMO-2   -> LUMO+1    : 60.4%\r\n",
      "T00 ERR ... \r\n",
      "T00 ERR ...   S =   10 Omega = +16.031795871963 eV  lamdba = +77.35 nm <FT> = +23.2251 <K_x> = +2.2796 <K_d> = -9.4728\r\n",
      "T00 ERR ...            TrDipole length gauge[e*bohr]  dx = +0.4390 dy = -1.0806 dz = -0.8282 |d|^2 = +2.0464 f = +0.8038\r\n",
      "T00 ERR ... \r\n",
      "T00 ERR ... 2025-5-23 5:57:0 BSE calculation took 0.017901556 seconds.\r\n",
      "T00 ERR ... 2025-5-23 5:57:0 GWBSE calculation finished \r\n",
      "T00 ERR ... Next State is: s1\r\n",
      "T00 ERR ... 2025-5-23 5:57:0 Evaluating polarregion 1\r\n",
      "T00 ERR ... 2025-5-23 5:57:0 Evaluating interaction between polarregion 1 and qmregion 0\r\n",
      "T00 ERR ... Next State is: s1"
     ]
    },
    {
     "name": "stdout",
     "output_type": "stream",
     "text": [
      "\r\n",
      "T00 ERR ... 2025-5-23 5:57:0 Evaluating interaction between polarregion 1 and staticregion 2"
     ]
    },
    {
     "name": "stdout",
     "output_type": "stream",
     "text": [
      "\r\n",
      "T00 ERR ... 2025-5-23 5:57:0 Starting Solving for classical polarization with 1380 degrees of freedom.\r\n",
      "T00 ERR ... 2025-5-23 5:57:0 CG: #iterations: 3, estimated error: 2.04896588896e-05\r\n",
      "T00 ERR ...   Total static energy [hrt]= 0.0009102654542\r\n",
      "T00 ERR ...   Total polar energy [hrt]= 0.0008093249469\r\n",
      "T00 ERR ...  Total energy [hrt]= 0.001719590401\r\n",
      "T00 ERR ... 2025-5-23 5:57:0 Evaluating staticregion 2\r\n",
      "T00 ERR ... 2025-5-23 5:57:0 Writing checkpoint to checkpoint_iter_7.hdf5"
     ]
    },
    {
     "name": "stdout",
     "output_type": "stream",
     "text": [
      "\r\n",
      "T00 ERR ...  Region:qmregion 0 is not converged deltaE=1.107559463e-05 RMS Dmat=0.0006341409492 MaxDmat=0.003653548682\r\n",
      "T00 ERR ... 2025-5-23 5:57:0 Region:polarregion 1 is converged deltaE=6.550771843e-06\r\n",
      "T00 ERR ... 2025-5-23 5:57:0 --Total Energy all regions -39.72069171\r\n",
      "T00 ERR ... 2025-5-23 5:57:0 --Inter Region SCF Iteration 8 of 50\r\n",
      "T00 ERR ... 2025-5-23 5:57:0 Evaluating qmregion 0\r\n",
      "T00 ERR ... 2025-5-23 5:57:0 Evaluating interaction between qmregion 0 and polarregion 1\r\n",
      "T00 ERR ... 2025-5-23 5:57:0 Evaluating interaction between qmregion 0 and staticregion 2\r\n",
      "T00 ERR ... Running DFT calculation\r\n",
      "T00 ERR ... 2025-5-23 5:57:0 Using 2 threads\r\n",
      "T00 ERR ... 2025-5-23 5:57:0 Using native Eigen implementation, no BLAS overload \r\n",
      "T00 ERR ...  Molecule Coordinates [A] \r\n",
      "T00 ERR ...   C   +30.3000 +1.2704 +5.5205\r\n",
      "T00 ERR ...   H   +31.2392 +1.4802 +6.0301\r\n",
      "T00 ERR ...   H   +30.4910 +0.6554 +4.6433\r\n",
      "T00 ERR ...   H   +29.8500 +2.2100 +5.2100\r\n",
      "T00 ERR ...   H   +29.6200 +0.7500 +6.2000\r\n",
      "T00 ERR ... 2025-5-23 5:57:0 Loaded DFT Basis Set 3-21G with 17 functions\r\n",
      "T00 ERR ... 2025-5-23 5:57:1 Loaded AUX Basis Set aux-def2-svp with 104 functions\r\n",
      "T00 ERR ... 2025-5-23 5:57:1 Total number of electrons: 10\r\n",
      "T00 ERR ... 2025-5-23 5:57:1 Smallest value of AOOverlap matrix is 0.03364074275\r\n",
      "T00 ERR ... 2025-5-23 5:57:1 Removed 0 basisfunction from inverse overlap matrix\r\n",
      "T00 ERR ... 2025-5-23 5:57:1 Convergence Options:\r\n",
      "T00 ERR ... \t\t Delta E [Ha]: 1e-07\r\n",
      "T00 ERR ... \t\t DIIS max error: 1e-07\r\n",
      "T00 ERR ... \t\t DIIS histlength: 20\r\n",
      "T00 ERR ... \t\t ADIIS start: 0.8\r\n",
      "T00 ERR ... \t\t DIIS start: 0.002\r\n",
      "T00 ERR ... \t\t Deleting oldest element from DIIS hist\r\n",
      "T00 ERR ... \t\t Levelshift[Ha]: 0\r\n",
      "T00 ERR ... \t\t Levelshift end: 0.2\r\n",
      "T00 ERR ... \t\t Mixing Parameter alpha: 0.7\r\n",
      "T00 ERR ... 2025-5-23 5:57:1 Setup invariant parts of Electron Repulsion integrals \r\n",
      "T00 ERR ... 2025-5-23 5:57:1 Constructed independent particle hamiltonian \r\n",
      "T00 ERR ... 2025-5-23 5:57:1 Nuclear Repulsion Energy is 13.4434088\r\n",
      "T00 ERR ... 2025-5-23 5:57:1 1350 External sites\r\n",
      "T00 ERR ...  Name      Coordinates[a0]     charge[e]         dipole[e*a0]    \r\n",
      "T00 ERR ...   C   +63.8902 +7.9543 +11.0171   -0.3282   +0.0089 +0.0011 -0.0060\r\n",
      "T00 ERR ...   H   +62.3892 +6.5470 +10.9796   +0.0824   +0.0094 +0.0028 -0.0001\r\n",
      "T00 ERR ...   H   +65.3194 +7.4736 +9.6186   +0.0822   +0.0038 -0.0009 -0.0023\r\n",
      "T00 ERR ...   H   +63.1170 +9.8077 +10.6203   +0.0817   +0.0015 +0.0014 +0.0010\r\n",
      "T00 ERR ...   H   +64.7422 +7.9557 +12.9068   +0.0819   +0.0043 +0.0033 -0.0007\r\n",
      "T00 ERR ...   C   +63.9128 -0.3996 +22.8673   -0.3282   -0.0029 +0.0014 +0.0052\r\n",
      "T00 ERR ...   H   +63.0449 -1.1731 +21.1692   +0.0824   -0.0001 -0.0006 +0.0015\r\n",
      "T00 ERR ...   H   +62.7676 +1.1530 +23.5795   +0.0822   -0.0015 +0.0049 +0.0022\r\n",
      "T00 ERR ...   H   +64.0430 -1.8922 +24.2830   +0.0817   +0.0010 -0.0003 -0.0009\r\n",
      "T00 ERR ...   H   +65.8004 +0.2810 +22.4122   +0.0819   -0.0036 -0.0009 +0.0017\r\n",
      "T00 ERR ...   C   +61.7182 -0.4374 -3.3115   -0.3282   -0.0002 -0.0018 +0.0010\r\n",
      "T00 ERR ...   H   +60.6600 -1.0798 -4.9554   +0.0824   +0.0011 +0.0014 +0.0012\r\n",
      "T00 ERR ...   H   +63.3309 +0.6815 -3.9252   +0.0822   -0.0014 -0.0019 -0.0005\r\n",
      "T00 ERR ...   H   +62.3800 -2.0623 -2.2148   +0.0817   +0.0010 -0.0019 +0.0013\r\n",
      "T00 ERR ...   H   +60.5092 +0.7345 -2.1392   +0.0819   -0.0027 -0.0035 -0.0019\r\n",
      "T00 ERR ...   C   +62.0402 +12.7739 +4.5175   -0.3282   +0.0027 +0.0004 +0.0017\r\n",
      "T00 ERR ...   H   +60.1049 +13.3052 +4.0622   +0.0824   +0.0002 -0.0013 -0.0010\r\n",
      "T00 ERR ...   H   +62.0812 +11.8167 +6.3372   +0.0822   +0.0006 -0.0022 -0.0015\r\n",
      "T00 ERR ...   H   +63.2115 +14.4753 +4.6109   +0.0817   +0.0028 +0.0023 +0.0014\r\n",
      "T00 ERR ...   H   +62.7769 +11.5084 +3.0803   +0.0819   -0.0003 -0.0009 +0.0006\r\n",
      "T00 ERR ...   C   +60.6789 +14.3239 +12.6808   -0.3282   -0.0019 +0.0028 +0.0015\r\n",
      "T00 ERR ...   H   +61.0756 +13.9461 +10.6972   +0.0824   -0.0038 +0.0040 -0.0004\r\n",
      "T00 ERR ...   H   +61.0224 +16.3108 +13.0851   +0.0822   -0.0001 +0.0006 +0.0033\r\n",
      "T00 ERR ...   H   +58.7327 +13.8328 +13.0580   +0.0817   +0.0007 -0.0002 +0.0003\r\n",
      "T00 ERR ...   H   +61.9074 +13.1525 +13.8517   +0.0819   -0.0006 -0.0006 +0.0035\r\n",
      "T00 ERR ...   C   +68.7870 +4.1961 +17.9521   -0.3282   +0.0049 +0.0003 +0.0063\r\n",
      "T00 ERR ...   H   +68.2015 +2.4962 +18.9532   +0.0824   +0.0001 -0.0005 -0.0013\r\n",
      "T00 ERR ...   H   +67.2445 +4.8625 +16.7665   +0.0822   +0.0015 -0.0030 +0.0028\r\n",
      "T00 ERR ...   H   +70.4303 +3.7606 +16.7997   +0.0817   -0.0007 +0.0010 +0.0004\r\n",
      "T00 ERR ...   H   +69.2964 +5.6503 +19.3130   +0.0819   +0.0011 +0.0009 +0.0055\r\n",
      "T00 ERR ...   C   +54.0832 +4.4983 +27.1938   -0.3282   -0.0007 -0.0025 -0.0012\r\n",
      "T00 ERR ...   H   +53.5372 +6.4564 +27.5139   +0.0824   -0.0012 -0.0015 +0.0002\r\n",
      "T00 ERR ...   H   +52.9768 +3.2670 +28.4141   +0.0822   -0.0007 -0.0015 +0.0003\r\n",
      "T00 ERR ...   H   +53.7249 +4.0062 +25.2278   +0.0817   +0.0021 -0.0009 +0.0002\r\n",
      "T00 ERR ...   H   +56.0682 +4.2330 +27.6278   +0.0819   -0.0032 +0.0014 -0.0015\r\n",
      "T00 ERR ...   C   +63.8174 +6.3112 -1.0788   -0.3282   -0.0007 -0.0003 -0.0004\r\n",
      "T00 ERR ...   H   +65.2393 +6.4796 +0.3993   +0.0824   -0.0003 -0.0010 +0.0014\r\n",
      "T00 ERR ...   H   +62.4364 +4.8836 -0.5459   +0.0822   +0.0020 +0.0009 -0.0008\r\n",
      "T00 ERR ...   H   +64.7422 +5.7637 -2.8384   +0.0817   -0.0005 +0.0027 +0.0002\r\n",
      "T00 ERR ...   H   +62.8903 +8.1258 -1.3455   +0.0819   -0.0006 -0.0016 -0.0037\r\n",
      "T00 ERR ...   C   +64.1752 +19.2751 +7.8615   -0.3282   +0.0049 -0.0000 +0.0006\r\n",
      "T00 ERR ...   H   +62.9276 +19.0860 +6.2359   +0.0824   -0.0011 +0.0004 +0.0021\r\n",
      "T00 ERR ...   H   +63.4396 +18.1623 +9.4267   +0.0822   +0.0013 -0.0002 -0.0003\r\n",
      "T00 ERR ...   H   +66.0461 +18.6138 +7.3699   +0.0817   +0.0012 -0.0009 -0.0001\r\n",
      "T00 ERR ...   H   +64.2509 +21.2405 +8.4282   +0.0819   +0.0017 +0.0008 -0.0004\r\n",
      "T00 ERR ...   C   +61.3975 +17.7254 +18.4625   -0.3282   +0.0021 -0.0003 +0.0025\r\n",
      "T00 ERR ...   H   +60.9990 +19.0346 +16.9256   +0.0824   -0.0004 +0.0012 +0.0002\r\n",
      "T00 ERR ...   H   +61.0958 +18.6680 +20.2653   +0.0822   +0.0001 +0.0000 +0.0003\r\n",
      "T00 ERR ...   H   +60.1502 +16.1005 +18.3303   +0.0817   +0.0028 +0.0005 -0.0006\r\n",
      "T00 ERR ...   H   +63.3627 +17.1020 +18.3492   +0.0819   -0.0014 -0.0005 +0.0014\r\n",
      "T00 ERR ...               ... (1300 sites not displayed)\r\n"
     ]
    },
    {
     "name": "stdout",
     "output_type": "stream",
     "text": [
      "\r\n",
      "T00 ERR ... 2025-5-23 5:57:1 Filled DFT external multipole potential matrix\r\n",
      "T00 ERR ... 2025-5-23 5:57:1 Nuclei-external site interaction energy 0.0204347161\r\n",
      "T00 ERR ... 2025-5-23 5:57:1 Using hybrid functional with alpha=0.25\r\n",
      "T00 ERR ... 2025-5-23 5:57:1 Setup numerical integration grid medium for vxc functional XC_HYB_GGA_XC_PBEH\r\n",
      "T00 ERR ... 2025-5-23 5:57:1 Setup Initial Guess using: atom\r\n",
      "T00 ERR ... 2025-5-23 5:57:1 Calculating atom density for C"
     ]
    },
    {
     "name": "stdout",
     "output_type": "stream",
     "text": [
      "\r\n",
      "T00 ERR ... 2025-5-23 5:57:1 Calculating atom density for H"
     ]
    },
    {
     "name": "stdout",
     "output_type": "stream",
     "text": [
      "\r\n",
      "T00 ERR ... 2025-5-23 5:57:1 STARTING SCF cycle\r\n",
      "T00 ERR ...  --------------------------------------------------------------------------\r\n",
      "T00 ERR ... \r\n",
      "T00 ERR ... 2025-5-23 5:57:1 Iteration 1 of 100"
     ]
    },
    {
     "name": "stdout",
     "output_type": "stream",
     "text": [
      "\r\n",
      "T00 ERR ... 2025-5-23 5:57:1 Total Energy -40.1456674358\r\n",
      "T00 ERR ... 2025-5-23 5:57:1 DIIs error 0.219656572574\r\n",
      "T00 ERR ... 2025-5-23 5:57:1 Delta Etot 0\r\n",
      "T00 ERR ... \r\n",
      "T00 ERR ... 2025-5-23 5:57:1 Iteration 2 of 100"
     ]
    },
    {
     "name": "stdout",
     "output_type": "stream",
     "text": [
      "\r\n",
      "T00 ERR ... 2025-5-23 5:57:2 Total Energy -40.1815858382\r\n",
      "T00 ERR ... 2025-5-23 5:57:2 DIIs error 0.128764125572\r\n",
      "T00 ERR ... 2025-5-23 5:57:2 Delta Etot -0.0359184023832\r\n",
      "T00 ERR ... \r\n",
      "T00 ERR ... 2025-5-23 5:57:2 Iteration 3 of 100"
     ]
    },
    {
     "name": "stdout",
     "output_type": "stream",
     "text": [
      "\r\n",
      "T00 ERR ... 2025-5-23 5:57:2 Total Energy -40.1980600637\r\n",
      "T00 ERR ... 2025-5-23 5:57:2 DIIs error 0.0793380619141\r\n",
      "T00 ERR ... 2025-5-23 5:57:2 Delta Etot -0.0164742254361\r\n",
      "T00 ERR ... \r\n",
      "T00 ERR ... 2025-5-23 5:57:2 Iteration 4 of 100"
     ]
    },
    {
     "name": "stdout",
     "output_type": "stream",
     "text": [
      "\r\n",
      "T00 ERR ... 2025-5-23 5:57:2 Total Energy -40.2287207798\r\n",
      "T00 ERR ... 2025-5-23 5:57:2 DIIs error 0.0296187555716\r\n",
      "T00 ERR ... 2025-5-23 5:57:2 Delta Etot -0.0306607161756\r\n",
      "T00 ERR ... \r\n",
      "T00 ERR ... 2025-5-23 5:57:2 Iteration 5 of 100"
     ]
    },
    {
     "name": "stdout",
     "output_type": "stream",
     "text": [
      "\r\n",
      "T00 ERR ... 2025-5-23 5:57:2 Total Energy -40.2286128974\r\n",
      "T00 ERR ... 2025-5-23 5:57:2 DIIs error 0.0311988005347\r\n",
      "T00 ERR ... 2025-5-23 5:57:2 Delta Etot 0.00010788242713\r\n",
      "T00 ERR ... \r\n",
      "T00 ERR ... 2025-5-23 5:57:2 Iteration 6 of 100"
     ]
    },
    {
     "name": "stdout",
     "output_type": "stream",
     "text": [
      "\r\n",
      "T00 ERR ... 2025-5-23 5:57:2 Total Energy -40.2309642283\r\n",
      "T00 ERR ... 2025-5-23 5:57:2 DIIs error 0.000318949140007\r\n",
      "T00 ERR ... 2025-5-23 5:57:2 Delta Etot -0.00235133091559\r\n",
      "T00 ERR ... \r\n",
      "T00 ERR ... 2025-5-23 5:57:2 Iteration 7 of 100"
     ]
    },
    {
     "name": "stdout",
     "output_type": "stream",
     "text": [
      "\r\n",
      "T00 ERR ... 2025-5-23 5:57:2 Total Energy -40.2309644832\r\n",
      "T00 ERR ... 2025-5-23 5:57:2 DIIs error 2.04339949326e-05\r\n",
      "T00 ERR ... 2025-5-23 5:57:2 Delta Etot -2.54897607022e-07\r\n",
      "T00 ERR ... \r\n",
      "T00 ERR ... 2025-5-23 5:57:2 Iteration 8 of 100"
     ]
    },
    {
     "name": "stdout",
     "output_type": "stream",
     "text": [
      "\r\n",
      "T00 ERR ... 2025-5-23 5:57:2 Total Energy -40.2309644835\r\n",
      "T00 ERR ... 2025-5-23 5:57:2 DIIs error 1.08208146593e-05\r\n",
      "T00 ERR ... 2025-5-23 5:57:2 Delta Etot -2.43062459049e-10\r\n",
      "T00 ERR ... \r\n",
      "T00 ERR ... 2025-5-23 5:57:2 Iteration 9 of 100"
     ]
    },
    {
     "name": "stdout",
     "output_type": "stream",
     "text": [
      "\r\n",
      "T00 ERR ... 2025-5-23 5:57:2 Total Energy -40.2309644838\r\n",
      "T00 ERR ... 2025-5-23 5:57:2 DIIs error 3.4944197709e-06\r\n",
      "T00 ERR ... 2025-5-23 5:57:2 Delta Etot -3.89057674965e-10\r\n",
      "T00 ERR ... \r\n",
      "T00 ERR ... 2025-5-23 5:57:2 Iteration 10 of 100"
     ]
    },
    {
     "name": "stdout",
     "output_type": "stream",
     "text": [
      "\r\n",
      "T00 ERR ... 2025-5-23 5:57:2 Total Energy -40.2309644839\r\n",
      "T00 ERR ... 2025-5-23 5:57:2 DIIs error 9.09133216601e-07\r\n",
      "T00 ERR ... 2025-5-23 5:57:2 Delta Etot -4.52402559858e-11\r\n",
      "T00 ERR ... \r\n",
      "T00 ERR ... 2025-5-23 5:57:2 Iteration 11 of 100"
     ]
    },
    {
     "name": "stdout",
     "output_type": "stream",
     "text": [
      "\r\n",
      "T00 ERR ... 2025-5-23 5:57:2 Total Energy -40.2309644839\r\n",
      "T00 ERR ... 2025-5-23 5:57:2 DIIs error 1.36335310764e-09\r\n",
      "T00 ERR ... 2025-5-23 5:57:2 Delta Etot -2.99138491755e-12\r\n",
      "T00 ERR ... 2025-5-23 5:57:2 Total Energy has converged to -2.99138492e-12[Ha] after 11 iterations. DIIS error is converged up to 1.36335311e-09\r\n",
      "T00 ERR ... 2025-5-23 5:57:2 Final Single Point Energy -40.2309644839 Ha\r\n",
      "T00 ERR ... 2025-5-23 5:57:2 Final Local Exc contribution -5.18429664439 Ha\r\n",
      "T00 ERR ... 2025-5-23 5:57:2 Final Non Local Ex contribution -1.63926629433 Ha\r\n",
      "T00 ERR ...   Orbital energies: \r\n",
      "T00 ERR ...   index occupation energy(Hartree) \r\n",
      "T00 ERR ...      0      2   -10.1479491943\r\n",
      "T00 ERR ...      1      2   -0.7122273235\r\n",
      "T00 ERR ...      2      2   -0.4030266702\r\n",
      "T00 ERR ...      3      2   -0.4013525153\r\n",
      "T00 ERR ...      4      2   -0.3991098050\r\n",
      "T00 ERR ...      5      0   +0.1607314335\r\n",
      "T00 ERR ...      6      0   +0.2030165024\r\n",
      "T00 ERR ...      7      0   +0.2081532088\r\n",
      "T00 ERR ...      8      0   +0.2102886357\r\n",
      "T00 ERR ...      9      0   +0.7241146280\r\n",
      "T00 ERR ...     10      0   +0.7253273949\r\n",
      "T00 ERR ...     11      0   +0.7278593626\r\n",
      "T00 ERR ...     12      0   +1.0556248203\r\n",
      "T00 ERR ...     13      0   +1.0854035493\r\n",
      "T00 ERR ...     14      0   +1.0904185659\r\n",
      "T00 ERR ...     15      0   +1.0921194594\r\n",
      "T00 ERR ...     16      0   +1.7121072410\r\n",
      "T00 ERR ... 2025-5-23 5:57:2 Electric Dipole is[e*bohr]:\r\n",
      "\t\t dx=0.0192977061249\r\n",
      "\t\t dy=0.0353471737003\r\n",
      "\t\t dz=-0.0142862509563\r\n",
      "T00 ERR ... Writing result to temp.orb\r\n",
      "T00 ERR ... 2025-5-23 5:57:2 DFT calculation took 1.675788486 seconds.\r\n",
      "T00 ERR ... 2025-5-23 5:57:2 RPA level range [0:16]\r\n",
      "T00 ERR ... 2025-5-23 5:57:2 GW  level range [0:16]\r\n",
      "T00 ERR ... 2025-5-23 5:57:2 BSE level range occ[0:4]  virt[5:16]\r\n",
      "T00 ERR ...  BSE type: full\r\n",
      "T00 ERR ... 2025-5-23 5:57:2 BSE Hamiltonian has size 120x120\r\n",
      "T00 ERR ...  BSE without Hqp offdiagonal elements\r\n",
      "T00 ERR ...  Running GW as: G0W0\r\n",
      "T00 ERR ...  qp_sc_limit [Hartree]: 1e-05\r\n",
      "T00 ERR ...  Tasks: \r\n",
      "T00 ERR ...  GW \r\n",
      "T00 ERR ...  singlets \r\n",
      "T00 ERR ...  triplets \r\n",
      "T00 ERR ...  Store: \r\n",
      "T00 ERR ...  GW \r\n",
      "T00 ERR ...  Sigma integration: ppm\r\n",
      "T00 ERR ...  eta: 0.001\r\n",
      "T00 ERR ...  QP solver: grid\r\n",
      "T00 ERR ...  QP grid steps: 1001\r\n",
      "T00 ERR ...  QP grid spacing: 0.001\r\n",
      "T00 ERR ... 2025-5-23 5:57:2 Using 2 threads\r\n",
      "T00 ERR ... 2025-5-23 5:57:2 Using native Eigen implementation, no BLAS overload \r\n",
      "T00 ERR ... 2025-5-23 5:57:2 Molecule Coordinates [A] \r\n",
      "T00 ERR ...     0    C   30.3000 1.2704 5.5205\r\n",
      "T00 ERR ...     1    H   31.2392 1.4802 6.0301\r\n",
      "T00 ERR ...     2    H   30.4910 0.6554 4.6433\r\n",
      "T00 ERR ...     3    H   29.8500 2.2100 5.2100\r\n",
      "T00 ERR ...     4    H   29.6200 0.7500 6.2000\r\n",
      "T00 ERR ... 2025-5-23 5:57:2 DFT data was created by xtp\r\n",
      "T00 ERR ... 2025-5-23 5:57:2 Loaded DFT Basis Set 3-21G\r\n",
      "T00 ERR ... 2025-5-23 5:57:2 Filled DFT Basis of size 17\r\n",
      "T00 ERR ... 2025-5-23 5:57:2 Loaded Auxbasis Set aux-def2-svp"
     ]
    },
    {
     "name": "stdout",
     "output_type": "stream",
     "text": [
      "\r\n",
      "T00 ERR ... 2025-5-23 5:57:2 Filled Auxbasis of size 104\r\n",
      "T00 ERR ... 2025-5-23 5:57:2 Calculating Mmn_beta (3-center-repulsion x orbitals)  \r\n",
      "T00 ERR ... 2025-5-23 5:57:2 Calculated Mmn_beta (3-center-repulsion x orbitals)  \r\n",
      "T00 ERR ... 2025-5-23 5:57:2 Integrating Vxc with functional XC_HYB_GGA_XC_PBEH"
     ]
    },
    {
     "name": "stdout",
     "output_type": "stream",
     "text": [
      "\r\n",
      "T00 ERR ... 2025-5-23 5:57:2 Set hybrid exchange factor: 0.25\r\n",
      "T00 ERR ... 2025-5-23 5:57:2 Calculated exchange-correlation expectation values \r\n",
      "T00 ERR ... 2025-5-23 5:57:2 Calculated Hartree exchange contribution\r\n",
      "T00 ERR ... 2025-5-23 5:57:2 Scissor shifting DFT energies by: 0 Hrt"
     ]
    },
    {
     "name": "stdout",
     "output_type": "stream",
     "text": [
      "\r\n",
      "T00 ERR ...   ====== Perturbative quasiparticle energies (Hartree) ====== \r\n",
      "T00 ERR ...    DeltaHLGap = +0.215513 Hartree\r\n",
      "T00 ERR ...   Level =    0 DFT = -10.1479 VXC = -1.7031 S-X = -2.6689 S-C = +0.5631 GWA = -10.5506\r\n",
      "T00 ERR ...   Level =    1 DFT = -0.7122 VXC = -0.4404 S-X = -0.6606 S-C = +0.1083 GWA = -0.8241\r\n",
      "T00 ERR ...   Level =    2 DFT = -0.4030 VXC = -0.3959 S-X = -0.5286 S-C = +0.0324 GWA = -0.5033\r\n",
      "T00 ERR ...   Level =    3 DFT = -0.4014 VXC = -0.3967 S-X = -0.5298 S-C = +0.0328 GWA = -0.5016\r\n",
      "T00 ERR ...   HOMO  =    4 DFT = -0.3991 VXC = -0.3970 S-X = -0.5300 S-C = +0.0329 GWA = -0.4993\r\n",
      "T00 ERR ...   LUMO  =    5 DFT = +0.1607 VXC = -0.2418 S-X = -0.1018 S-C = -0.0246 GWA = +0.2761\r\n",
      "T00 ERR ...   Level =    6 DFT = +0.2030 VXC = -0.2616 S-X = -0.1101 S-C = -0.0238 GWA = +0.3308\r\n",
      "T00 ERR ...   Level =    7 DFT = +0.2082 VXC = -0.2612 S-X = -0.1097 S-C = -0.0239 GWA = +0.3358\r\n",
      "T00 ERR ...   Level =    8 DFT = +0.2103 VXC = -0.2613 S-X = -0.1098 S-C = -0.0238 GWA = +0.3379\r\n",
      "T00 ERR ...   Level =    9 DFT = +0.7241 VXC = -0.3183 S-X = -0.1082 S-C = -0.0635 GWA = +0.8706\r\n",
      "T00 ERR ...   Level =   10 DFT = +0.7253 VXC = -0.3182 S-X = -0.1080 S-C = -0.0638 GWA = +0.8718\r\n",
      "T00 ERR ...   Level =   11 DFT = +0.7279 VXC = -0.3177 S-X = -0.1073 S-C = -0.0643 GWA = +0.8740\r\n",
      "T00 ERR ...   Level =   12 DFT = +1.0556 VXC = -0.4047 S-X = -0.1334 S-C = -0.0323 GWA = +1.2946\r\n",
      "T00 ERR ...   Level =   13 DFT = +1.0854 VXC = -0.3963 S-X = -0.1274 S-C = -0.1740 GWA = +1.1803\r\n",
      "T00 ERR ...   Level =   14 DFT = +1.0904 VXC = -0.3953 S-X = -0.1271 S-C = -0.1730 GWA = +1.1857\r\n",
      "T00 ERR ...   Level =   15 DFT = +1.0921 VXC = -0.3946 S-X = -0.1268 S-C = -0.1726 GWA = +1.1873\r\n",
      "T00 ERR ...   Level =   16 DFT = +1.7121 VXC = -0.3559 S-X = -0.1045 S-C = -0.0297 GWA = +1.9338\r\n",
      "T00 ERR ... 2025-5-23 5:57:2 Calculated offdiagonal part of Sigma  \r\n",
      "T00 ERR ... 2025-5-23 5:57:2 Full quasiparticle Hamiltonian  \r\n",
      "T00 ERR ...   ====== Diagonalized quasiparticle energies (Hartree) ====== \r\n",
      "T00 ERR ...   Level =    0 PQP = -10.550599 DQP = -10.550784 \r\n",
      "T00 ERR ...   Level =    1 PQP = -0.824113 DQP = -0.824557 \r\n",
      "T00 ERR ...   Level =    2 PQP = -0.503318 DQP = -0.503594 \r\n",
      "T00 ERR ...   Level =    3 PQP = -0.501552 DQP = -0.501758 \r\n",
      "T00 ERR ...   HOMO  =    4 PQP = -0.499251 DQP = -0.499443 \r\n",
      "T00 ERR ...   LUMO  =    5 PQP = +0.276103 DQP = +0.267905 \r\n",
      "T00 ERR ...   Level =    6 PQP = +0.330786 DQP = +0.328899 \r\n",
      "T00 ERR ...   Level =    7 PQP = +0.335767 DQP = +0.334337 \r\n",
      "T00 ERR ...   Level =    8 PQP = +0.337929 DQP = +0.336522 \r\n",
      "T00 ERR ...   Level =    9 PQP = +0.870623 DQP = +0.868941 \r\n",
      "T00 ERR ...   Level =   10 PQP = +0.871774 DQP = +0.869911 \r\n",
      "T00 ERR ...   Level =   11 PQP = +0.873964 DQP = +0.871691 \r\n",
      "T00 ERR ...   Level =   12 PQP = +1.294578 DQP = +1.183177 \r\n",
      "T00 ERR ...   Level =   13 PQP = +1.180304 DQP = +1.189608 \r\n",
      "T00 ERR ...   Level =   14 PQP = +1.185714 DQP = +1.191516 \r\n",
      "T00 ERR ...   Level =   15 PQP = +1.187298 DQP = +1.289807 \r\n",
      "T00 ERR ...   Level =   16 PQP = +1.933788 DQP = +1.947619 \r\n",
      "T00 ERR ... 2025-5-23 5:57:2 Diagonalized QP Hamiltonian  \r\n",
      "T00 ERR ... 2025-5-23 5:57:2 GW calculation took 0.123563737 seconds.\r\n",
      "T00 ERR ... 2025-5-23 5:57:2 Setup Full triplet hamiltonian \r\n",
      "T00 ERR ... 2025-5-23 5:57:2 Davidson Solver using 2 threads.\r\n",
      "T00 ERR ... 2025-5-23 5:57:2 Tolerance : 0.0001\r\n",
      "T00 ERR ... 2025-5-23 5:57:2 DPR Correction\r\n",
      "T00 ERR ... 2025-5-23 5:57:2 Matrix size : 120x120\r\n",
      "T00 ERR ... 2025-5-23 5:57:2 iter\tSearch Space\tNorm\r\n",
      "T00 ERR ... 2025-5-23 5:57:2    0           20 \t 1.28e-01 \t  0.00% converged\r\n",
      "T00 ERR ... 2025-5-23 5:57:2    1           35 \t 1.41e-02 \t  0.00% converged\r\n",
      "T00 ERR ... 2025-5-23 5:57:2    2           50 \t 8.59e-04 \t 10.00% converged\r\n",
      "T00 ERR ... 2025-5-23 5:57:2    3           62 \t 2.81e-05 \t 100.00% converged\r\n",
      "T00 ERR ... 2025-5-23 5:57:2 Davidson converged after 3 iterations.\r\n",
      "T00 ERR ... 2025-5-23 5:57:2-----------------------------------\r\n",
      "T00 ERR ... 2025-5-23 5:57:2- Davidson ran for 0.007251089secs.\r\n",
      "T00 ERR ... 2025-5-23 5:57:2-----------------------------------\r\n",
      "T00 ERR ... 2025-5-23 5:57:2 Solved BSE for triplets \r\n",
      "T00 ERR ...   ====== triplet energies (eV) ====== \r\n",
      "T00 ERR ...   T =    1 Omega = +11.590627550523 eV  lamdba = +106.98 nm <FT> = +22.7905 <K_d> = -11.2000\r\n",
      "T00 ERR ...    \r\n",
      "T00 ERR ...   T =    2 Omega = +11.768399831514 eV  lamdba = +105.37 nm <FT> = +22.9506 <K_d> = -11.1822\r\n",
      "T00 ERR ...    \r\n",
      "T00 ERR ...   T =    3 Omega = +11.826923914531 eV  lamdba = +104.85 nm <FT> = +22.4823 <K_d> = -10.6554\r\n",
      "T00 ERR ...    \r\n",
      "T00 ERR ...   T =    4 Omega = +11.875230259536 eV  lamdba = +104.42 nm <FT> = +22.4505 <K_d> = -10.5753\r\n",
      "T00 ERR ...    \r\n",
      "T00 ERR ...   T =    5 Omega = +13.656776293489 eV  lamdba = +90.80 nm <FT> = +22.2470 <K_d> = -8.5903\r\n",
      "T00 ERR ...    \r\n",
      "T00 ERR ...   T =    6 Omega = +13.750474335854 eV  lamdba = +90.18 nm <FT> = +22.2954 <K_d> = -8.5449\r\n",
      "T00 ERR ...    \r\n",
      "T00 ERR ...   T =    7 Omega = +13.943140574735 eV  lamdba = +88.93 nm <FT> = +22.3951 <K_d> = -8.4520\r\n",
      "T00 ERR ...    \r\n",
      "T00 ERR ...   T =    8 Omega = +14.129689426829 eV  lamdba = +87.76 nm <FT> = +22.7314 <K_d> = -8.6017\r\n",
      "T00 ERR ...            HOMO-0   -> LUMO+1    : 72.0%\r\n",
      "T00 ERR ...    \r\n",
      "T00 ERR ...   T =    9 Omega = +14.226327654072 eV  lamdba = +87.16 nm <FT> = +22.8418 <K_d> = -8.6155\r\n",
      "T00 ERR ...    \r\n",
      "T00 ERR ...   T =   10 Omega = +14.374586671078 eV  lamdba = +86.26 nm <FT> = +22.8659 <K_d> = -8.4913\r\n",
      "T00 ERR ...            HOMO-2   -> LUMO+2    : 56.2%\r\n",
      "T00 ERR ...    \r\n",
      "T00 ERR ... 2025-5-23 5:57:2 Setup Full singlet hamiltonian \r\n",
      "T00 ERR ... 2025-5-23 5:57:2 Davidson Solver using 2 threads.\r\n",
      "T00 ERR ... 2025-5-23 5:57:2 Tolerance : 0.0001\r\n",
      "T00 ERR ... 2025-5-23 5:57:2 DPR Correction\r\n",
      "T00 ERR ... 2025-5-23 5:57:2 Matrix size : 120x120\r\n",
      "T00 ERR ... 2025-5-23 5:57:2 iter\tSearch Space\tNorm\r\n",
      "T00 ERR ... 2025-5-23 5:57:2    0           20 \t 1.28e-01 \t  0.00% converged\r\n",
      "T00 ERR ... 2025-5-23 5:57:2    1           35 \t 1.29e-02 \t  0.00% converged\r\n",
      "T00 ERR ... 2025-5-23 5:57:2    2           50 \t 9.32e-04 \t 40.00% converged\r\n",
      "T00 ERR ... 2025-5-23 5:57:2    3           61 \t 3.38e-05 \t 100.00% converged\r\n",
      "T00 ERR ... 2025-5-23 5:57:2 Davidson converged after 3 iterations.\r\n",
      "T00 ERR ... 2025-5-23 5:57:2-----------------------------------\r\n",
      "T00 ERR ... 2025-5-23 5:57:2- Davidson ran for 0.008026856secs.\r\n",
      "T00 ERR ... 2025-5-23 5:57:2-----------------------------------\r\n",
      "T00 ERR ... 2025-5-23 5:57:2 Solved BSE for singlets \r\n",
      "T00 ERR ...   ====== singlet energies (eV) ====== \r\n",
      "T00 ERR ...   S =    1 Omega = +13.838611776696 eV  lamdba = +89.60 nm <FT> = +21.2209 <K_x> = +0.9777 <K_d> = -8.3599\r\n",
      "T00 ERR ...            TrDipole length gauge[e*bohr]  dx = +0.5301 dy = -0.4093 dz = +0.3396 |d|^2 = +0.5639 f = +0.1912\r\n",
      "T00 ERR ...            HOMO-0   -> LUMO+0    : 98.7%\r\n",
      "T00 ERR ... \r\n",
      "T00 ERR ...   S =    2 Omega = +13.899998164271 eV  lamdba = +89.21 nm <FT> = +21.2940 <K_x> = +1.0288 <K_d> = -8.4228\r\n",
      "T00 ERR ...            TrDipole length gauge[e*bohr]  dx = +0.1901 dy = +0.6257 dz = +0.4731 |d|^2 = +0.6515 f = +0.2219\r\n",
      "T00 ERR ...            HOMO-1   -> LUMO+0    : 97.0%\r\n",
      "T00 ERR ... \r\n",
      "T00 ERR ...   S =    3 Omega = +13.966194038949 eV  lamdba = +88.79 nm <FT> = +21.3573 <K_x> = +1.1858 <K_d> = -8.5769\r\n",
      "T00 ERR ...            TrDipole length gauge[e*bohr]  dx = +0.6224 dy = +0.3187 dz = -0.6421 |d|^2 = +0.9012 f = +0.3084\r\n",
      "T00 ERR ...            HOMO-2   -> LUMO+0    : 97.5%\r\n",
      "T00 ERR ... \r\n",
      "T00 ERR ...   S =    4 Omega = +14.551205121979 eV  lamdba = +85.22 nm <FT> = +22.7164 <K_x> = +0.3386 <K_d> = -8.5038\r\n",
      "T00 ERR ...            TrDipole length gauge[e*bohr]  dx = -0.1703 dy = +0.0701 dz = -0.0440 |d|^2 = +0.0359 f = +0.0128\r\n",
      "T00 ERR ...            HOMO-0   -> LUMO+1    : 77.0%\r\n",
      "T00 ERR ... \r\n",
      "T00 ERR ...   S =    5 Omega = +14.601169987721 eV  lamdba = +84.92 nm <FT> = +22.7823 <K_x> = +0.3231 <K_d> = -8.5042\r\n",
      "T00 ERR ...            TrDipole length gauge[e*bohr]  dx = +0.0460 dy = -0.1293 dz = -0.2158 |d|^2 = +0.0654 f = +0.0234\r\n",
      "T00 ERR ...            HOMO-1   -> LUMO+1    : 60.6%\r\n",
      "T00 ERR ... \r\n",
      "T00 ERR ...   S =    6 Omega = +14.637446478207 eV  lamdba = +84.71 nm <FT> = +22.8480 <K_x> = +0.2778 <K_d> = -8.4884\r\n",
      "T00 ERR ...            TrDipole length gauge[e*bohr]  dx = -0.1206 dy = +0.0277 dz = -0.0823 |d|^2 = +0.0221 f = +0.0079\r\n",
      "T00 ERR ...            HOMO-0   -> LUMO+2    : 55.6%\r\n",
      "T00 ERR ... \r\n",
      "T00 ERR ...   S =    7 Omega = +14.990749664803 eV  lamdba = +82.72 nm <FT> = +22.8543 <K_x> = +0.7066 <K_d> = -8.5701\r\n",
      "T00 ERR ...            TrDipole length gauge[e*bohr]  dx = -0.0540 dy = -0.0877 dz = -0.0596 |d|^2 = +0.0142 f = +0.0052\r\n",
      "T00 ERR ... \r\n",
      "T00 ERR ...   S =    8 Omega = +15.014741423129 eV  lamdba = +82.59 nm <FT> = +22.9067 <K_x> = +0.6671 <K_d> = -8.5591\r\n",
      "T00 ERR ...            TrDipole length gauge[e*bohr]  dx = -0.0181 dy = -0.0439 dz = +0.0305 |d|^2 = +0.0032 f = +0.0012\r\n",
      "T00 ERR ...            HOMO-2   -> LUMO+3    : 70.5%\r\n",
      "T00 ERR ... \r\n",
      "T00 ERR ...   S =    9 Omega = +15.999016575609 eV  lamdba = +77.50 nm <FT> = +23.1684 <K_x> = +2.1887 <K_d> = -9.3580\r\n",
      "T00 ERR ...            TrDipole length gauge[e*bohr]  dx = -0.8944 dy = -0.8747 dz = +0.5871 |d|^2 = +1.9096 f = +0.7485\r\n",
      "T00 ERR ...            HOMO-2   -> LUMO+1    : 60.4%\r\n",
      "T00 ERR ... \r\n",
      "T00 ERR ...   S =   10 Omega = +16.031813694305 eV  lamdba = +77.35 nm <FT> = +23.2251 <K_x> = +2.2797 <K_d> = -9.4730\r\n",
      "T00 ERR ...            TrDipole length gauge[e*bohr]  dx = -0.4406 dy = +1.0815 dz = +0.8264 |d|^2 = +2.0466 f = +0.8038\r\n",
      "T00 ERR ... \r\n",
      "T00 ERR ... 2025-5-23 5:57:2 BSE calculation took 0.017803825 seconds.\r\n",
      "T00 ERR ... 2025-5-23 5:57:2 GWBSE calculation finished \r\n",
      "T00 ERR ... Next State is: s1\r\n",
      "T00 ERR ... 2025-5-23 5:57:2 Evaluating polarregion 1\r\n",
      "T00 ERR ... 2025-5-23 5:57:2 Evaluating interaction between polarregion 1 and qmregion 0"
     ]
    },
    {
     "name": "stdout",
     "output_type": "stream",
     "text": [
      "\r\n",
      "T00 ERR ... Next State is: s1"
     ]
    },
    {
     "name": "stdout",
     "output_type": "stream",
     "text": [
      "\r\n",
      "T00 ERR ... 2025-5-23 5:57:3 Evaluating interaction between polarregion 1 and staticregion 2\r\n",
      "T00 ERR ... 2025-5-23 5:57:3 Starting Solving for classical polarization with 1380 degrees of freedom.\r\n",
      "T00 ERR ... 2025-5-23 5:57:3 CG: #iterations: 2, estimated error: 2.73665623769e-05\r\n",
      "T00 ERR ...   Total static energy [hrt]= 0.0009102654542\r\n",
      "T00 ERR ...   Total polar energy [hrt]= 0.0008124374894\r\n",
      "T00 ERR ...  Total energy [hrt]= 0.001722702944\r\n",
      "T00 ERR ... 2025-5-23 5:57:3 Evaluating staticregion 2\r\n",
      "T00 ERR ... 2025-5-23 5:57:3 Writing checkpoint to checkpoint_iter_8.hdf5"
     ]
    },
    {
     "name": "stdout",
     "output_type": "stream",
     "text": [
      "\r\n",
      "T00 ERR ...  Region:qmregion 0 is not converged deltaE=6.418497975e-06 RMS Dmat=0.0003010438461 MaxDmat=0.001733243491\r\n",
      "T00 ERR ... 2025-5-23 5:57:3 Region:polarregion 1 is converged deltaE=3.11254254e-06\r\n",
      "T00 ERR ... 2025-5-23 5:57:3 --Total Energy all regions -39.72068217\r\n",
      "T00 ERR ... 2025-5-23 5:57:3 --Inter Region SCF Iteration 9 of 50\r\n",
      "T00 ERR ... 2025-5-23 5:57:3 Evaluating qmregion 0\r\n",
      "T00 ERR ... 2025-5-23 5:57:3 Evaluating interaction between qmregion 0 and polarregion 1\r\n",
      "T00 ERR ... 2025-5-23 5:57:3 Evaluating interaction between qmregion 0 and staticregion 2\r\n",
      "T00 ERR ... Running DFT calculation\r\n",
      "T00 ERR ... 2025-5-23 5:57:3 Using 2 threads\r\n",
      "T00 ERR ... 2025-5-23 5:57:3 Using native Eigen implementation, no BLAS overload \r\n",
      "T00 ERR ...  Molecule Coordinates [A] \r\n",
      "T00 ERR ...   C   +30.3000 +1.2704 +5.5205\r\n",
      "T00 ERR ...   H   +31.2392 +1.4802 +6.0301\r\n",
      "T00 ERR ...   H   +30.4910 +0.6554 +4.6433\r\n",
      "T00 ERR ...   H   +29.8500 +2.2100 +5.2100\r\n",
      "T00 ERR ...   H   +29.6200 +0.7500 +6.2000\r\n",
      "T00 ERR ... 2025-5-23 5:57:3 Loaded DFT Basis Set 3-21G with 17 functions"
     ]
    },
    {
     "name": "stdout",
     "output_type": "stream",
     "text": [
      "\r\n",
      "T00 ERR ... 2025-5-23 5:57:3 Loaded AUX Basis Set aux-def2-svp with 104 functions\r\n",
      "T00 ERR ... 2025-5-23 5:57:3 Total number of electrons: 10\r\n",
      "T00 ERR ... 2025-5-23 5:57:3 Smallest value of AOOverlap matrix is 0.03364074275\r\n",
      "T00 ERR ... 2025-5-23 5:57:3 Removed 0 basisfunction from inverse overlap matrix\r\n",
      "T00 ERR ... 2025-5-23 5:57:3 Convergence Options:\r\n",
      "T00 ERR ... \t\t Delta E [Ha]: 1e-07\r\n",
      "T00 ERR ... \t\t DIIS max error: 1e-07\r\n",
      "T00 ERR ... \t\t DIIS histlength: 20\r\n",
      "T00 ERR ... \t\t ADIIS start: 0.8\r\n",
      "T00 ERR ... \t\t DIIS start: 0.002\r\n",
      "T00 ERR ... \t\t Deleting oldest element from DIIS hist\r\n",
      "T00 ERR ... \t\t Levelshift[Ha]: 0\r\n",
      "T00 ERR ... \t\t Levelshift end: 0.2\r\n",
      "T00 ERR ... \t\t Mixing Parameter alpha: 0.7\r\n",
      "T00 ERR ... 2025-5-23 5:57:3 Setup invariant parts of Electron Repulsion integrals \r\n",
      "T00 ERR ... 2025-5-23 5:57:3 Constructed independent particle hamiltonian \r\n",
      "T00 ERR ... 2025-5-23 5:57:3 Nuclear Repulsion Energy is 13.4434088\r\n",
      "T00 ERR ... 2025-5-23 5:57:3 1350 External sites\r\n",
      "T00 ERR ...  Name      Coordinates[a0]     charge[e]         dipole[e*a0]    \r\n",
      "T00 ERR ...   C   +63.8902 +7.9543 +11.0171   -0.3282   +0.0090 +0.0011 -0.0060\r\n",
      "T00 ERR ...   H   +62.3892 +6.5470 +10.9796   +0.0824   +0.0094 +0.0029 -0.0001\r\n",
      "T00 ERR ...   H   +65.3194 +7.4736 +9.6186   +0.0822   +0.0038 -0.0009 -0.0023\r\n",
      "T00 ERR ...   H   +63.1170 +9.8077 +10.6203   +0.0817   +0.0015 +0.0014 +0.0010\r\n",
      "T00 ERR ...   H   +64.7422 +7.9557 +12.9068   +0.0819   +0.0043 +0.0033 -0.0007\r\n",
      "T00 ERR ...   C   +63.9128 -0.3996 +22.8673   -0.3282   -0.0029 +0.0014 +0.0052\r\n",
      "T00 ERR ...   H   +63.0449 -1.1731 +21.1692   +0.0824   -0.0001 -0.0006 +0.0015\r\n",
      "T00 ERR ...   H   +62.7676 +1.1530 +23.5795   +0.0822   -0.0015 +0.0049 +0.0022\r\n",
      "T00 ERR ...   H   +64.0430 -1.8922 +24.2830   +0.0817   +0.0010 -0.0004 -0.0009\r\n",
      "T00 ERR ...   H   +65.8004 +0.2810 +22.4122   +0.0819   -0.0036 -0.0009 +0.0017\r\n",
      "T00 ERR ...   C   +61.7182 -0.4374 -3.3115   -0.3282   -0.0002 -0.0018 +0.0010\r\n",
      "T00 ERR ...   H   +60.6600 -1.0798 -4.9554   +0.0824   +0.0011 +0.0014 +0.0012\r\n",
      "T00 ERR ...   H   +63.3309 +0.6815 -3.9252   +0.0822   -0.0014 -0.0019 -0.0006\r\n",
      "T00 ERR ...   H   +62.3800 -2.0623 -2.2148   +0.0817   +0.0010 -0.0019 +0.0013\r\n",
      "T00 ERR ...   H   +60.5092 +0.7345 -2.1392   +0.0819   -0.0027 -0.0035 -0.0019\r\n",
      "T00 ERR ...   C   +62.0402 +12.7739 +4.5175   -0.3282   +0.0027 +0.0004 +0.0017\r\n",
      "T00 ERR ...   H   +60.1049 +13.3052 +4.0622   +0.0824   +0.0002 -0.0013 -0.0010\r\n",
      "T00 ERR ...   H   +62.0812 +11.8167 +6.3372   +0.0822   +0.0006 -0.0022 -0.0015\r\n",
      "T00 ERR ...   H   +63.2115 +14.4753 +4.6109   +0.0817   +0.0028 +0.0023 +0.0014\r\n",
      "T00 ERR ...   H   +62.7769 +11.5084 +3.0803   +0.0819   -0.0003 -0.0009 +0.0006\r\n",
      "T00 ERR ...   C   +60.6789 +14.3239 +12.6808   -0.3282   -0.0019 +0.0028 +0.0014\r\n",
      "T00 ERR ...   H   +61.0756 +13.9461 +10.6972   +0.0824   -0.0038 +0.0040 -0.0004\r\n",
      "T00 ERR ...   H   +61.0224 +16.3108 +13.0851   +0.0822   -0.0001 +0.0006 +0.0033\r\n",
      "T00 ERR ...   H   +58.7327 +13.8328 +13.0580   +0.0817   +0.0007 -0.0002 +0.0003\r\n",
      "T00 ERR ...   H   +61.9074 +13.1525 +13.8517   +0.0819   -0.0006 -0.0006 +0.0035\r\n",
      "T00 ERR ...   C   +68.7870 +4.1961 +17.9521   -0.3282   +0.0049 +0.0003 +0.0063\r\n",
      "T00 ERR ...   H   +68.2015 +2.4962 +18.9532   +0.0824   +0.0001 -0.0005 -0.0013\r\n",
      "T00 ERR ...   H   +67.2445 +4.8625 +16.7665   +0.0822   +0.0015 -0.0030 +0.0028\r\n",
      "T00 ERR ...   H   +70.4303 +3.7606 +16.7997   +0.0817   -0.0007 +0.0010 +0.0004\r\n",
      "T00 ERR ...   H   +69.2964 +5.6503 +19.3130   +0.0819   +0.0011 +0.0009 +0.0055\r\n",
      "T00 ERR ...   C   +54.0832 +4.4983 +27.1938   -0.3282   -0.0007 -0.0025 -0.0012\r\n",
      "T00 ERR ...   H   +53.5372 +6.4564 +27.5139   +0.0824   -0.0012 -0.0015 +0.0002\r\n",
      "T00 ERR ...   H   +52.9768 +3.2670 +28.4141   +0.0822   -0.0007 -0.0015 +0.0003\r\n",
      "T00 ERR ...   H   +53.7249 +4.0062 +25.2278   +0.0817   +0.0021 -0.0009 +0.0002\r\n",
      "T00 ERR ...   H   +56.0682 +4.2330 +27.6278   +0.0819   -0.0032 +0.0014 -0.0015\r\n",
      "T00 ERR ...   C   +63.8174 +6.3112 -1.0788   -0.3282   -0.0007 -0.0003 -0.0004\r\n",
      "T00 ERR ...   H   +65.2393 +6.4796 +0.3993   +0.0824   -0.0003 -0.0010 +0.0014\r\n",
      "T00 ERR ...   H   +62.4364 +4.8836 -0.5459   +0.0822   +0.0020 +0.0009 -0.0008\r\n",
      "T00 ERR ...   H   +64.7422 +5.7637 -2.8384   +0.0817   -0.0005 +0.0027 +0.0002\r\n",
      "T00 ERR ...   H   +62.8903 +8.1258 -1.3455   +0.0819   -0.0006 -0.0016 -0.0037\r\n",
      "T00 ERR ...   C   +64.1752 +19.2751 +7.8615   -0.3282   +0.0049 -0.0000 +0.0006\r\n",
      "T00 ERR ...   H   +62.9276 +19.0860 +6.2359   +0.0824   -0.0011 +0.0004 +0.0021\r\n",
      "T00 ERR ...   H   +63.4396 +18.1623 +9.4267   +0.0822   +0.0013 -0.0002 -0.0003\r\n",
      "T00 ERR ...   H   +66.0461 +18.6138 +7.3699   +0.0817   +0.0012 -0.0009 -0.0001\r\n",
      "T00 ERR ...   H   +64.2509 +21.2405 +8.4282   +0.0819   +0.0017 +0.0008 -0.0004\r\n",
      "T00 ERR ...   C   +61.3975 +17.7254 +18.4625   -0.3282   +0.0021 -0.0003 +0.0025\r\n",
      "T00 ERR ...   H   +60.9990 +19.0346 +16.9256   +0.0824   -0.0004 +0.0012 +0.0002\r\n",
      "T00 ERR ...   H   +61.0958 +18.6680 +20.2653   +0.0822   +0.0001 +0.0000 +0.0003\r\n",
      "T00 ERR ...   H   +60.1502 +16.1005 +18.3303   +0.0817   +0.0028 +0.0005 -0.0006\r\n",
      "T00 ERR ...   H   +63.3627 +17.1020 +18.3492   +0.0819   -0.0014 -0.0005 +0.0014\r\n",
      "T00 ERR ...               ... (1300 sites not displayed)\r\n"
     ]
    },
    {
     "name": "stdout",
     "output_type": "stream",
     "text": [
      "\r\n",
      "T00 ERR ... 2025-5-23 5:57:3 Filled DFT external multipole potential matrix\r\n",
      "T00 ERR ... 2025-5-23 5:57:3 Nuclei-external site interaction energy 0.0204347161\r\n",
      "T00 ERR ... 2025-5-23 5:57:3 Using hybrid functional with alpha=0.25\r\n",
      "T00 ERR ... 2025-5-23 5:57:3 Setup numerical integration grid medium for vxc functional XC_HYB_GGA_XC_PBEH"
     ]
    },
    {
     "name": "stdout",
     "output_type": "stream",
     "text": [
      "\r\n",
      "T00 ERR ... 2025-5-23 5:57:3 Setup Initial Guess using: atom\r\n",
      "T00 ERR ... 2025-5-23 5:57:3 Calculating atom density for C"
     ]
    },
    {
     "name": "stdout",
     "output_type": "stream",
     "text": [
      "\r\n",
      "T00 ERR ... 2025-5-23 5:57:4 Calculating atom density for H"
     ]
    },
    {
     "name": "stdout",
     "output_type": "stream",
     "text": [
      "\r\n",
      "T00 ERR ... 2025-5-23 5:57:4 STARTING SCF cycle\r\n",
      "T00 ERR ...  --------------------------------------------------------------------------\r\n",
      "T00 ERR ... \r\n",
      "T00 ERR ... 2025-5-23 5:57:4 Iteration 1 of 100"
     ]
    },
    {
     "name": "stdout",
     "output_type": "stream",
     "text": [
      "\r\n",
      "T00 ERR ... 2025-5-23 5:57:4 Total Energy -40.145662034\r\n",
      "T00 ERR ... 2025-5-23 5:57:4 DIIs error 0.219656569436\r\n",
      "T00 ERR ... 2025-5-23 5:57:4 Delta Etot 0\r\n",
      "T00 ERR ... \r\n",
      "T00 ERR ... 2025-5-23 5:57:4 Iteration 2 of 100"
     ]
    },
    {
     "name": "stdout",
     "output_type": "stream",
     "text": [
      "\r\n",
      "T00 ERR ... 2025-5-23 5:57:4 Total Energy -40.1815804354\r\n",
      "T00 ERR ... 2025-5-23 5:57:4 DIIs error 0.128764126109\r\n",
      "T00 ERR ... 2025-5-23 5:57:4 Delta Etot -0.0359184013911\r\n",
      "T00 ERR ... \r\n",
      "T00 ERR ... 2025-5-23 5:57:4 Iteration 3 of 100"
     ]
    },
    {
     "name": "stdout",
     "output_type": "stream",
     "text": [
      "\r\n",
      "T00 ERR ... 2025-5-23 5:57:4 Total Energy -40.1980546609\r\n",
      "T00 ERR ... 2025-5-23 5:57:4 DIIs error 0.0793380627148\r\n",
      "T00 ERR ... 2025-5-23 5:57:4 Delta Etot -0.0164742255418\r\n",
      "T00 ERR ... \r\n",
      "T00 ERR ... 2025-5-23 5:57:4 Iteration 4 of 100"
     ]
    },
    {
     "name": "stdout",
     "output_type": "stream",
     "text": [
      "\r\n",
      "T00 ERR ... 2025-5-23 5:57:4 Total Energy -40.2287153768\r\n",
      "T00 ERR ... 2025-5-23 5:57:4 DIIs error 0.0296186506909\r\n",
      "T00 ERR ... 2025-5-23 5:57:4 Delta Etot -0.0306607158465\r\n",
      "T00 ERR ... \r\n",
      "T00 ERR ... 2025-5-23 5:57:4 Iteration 5 of 100"
     ]
    },
    {
     "name": "stdout",
     "output_type": "stream",
     "text": [
      "\r\n",
      "T00 ERR ... 2025-5-23 5:57:4 Total Energy -40.2286074947\r\n",
      "T00 ERR ... 2025-5-23 5:57:4 DIIs error 0.0311986969051\r\n",
      "T00 ERR ... 2025-5-23 5:57:4 Delta Etot 0.000107882067439\r\n",
      "T00 ERR ... \r\n",
      "T00 ERR ... 2025-5-23 5:57:4 Iteration 6 of 100"
     ]
    },
    {
     "name": "stdout",
     "output_type": "stream",
     "text": [
      "\r\n",
      "T00 ERR ... 2025-5-23 5:57:4 Total Energy -40.2309588254\r\n",
      "T00 ERR ... 2025-5-23 5:57:4 DIIs error 0.000318947444457\r\n",
      "T00 ERR ... 2025-5-23 5:57:4 Delta Etot -0.00235133068769\r\n",
      "T00 ERR ... \r\n",
      "T00 ERR ... 2025-5-23 5:57:4 Iteration 7 of 100"
     ]
    },
    {
     "name": "stdout",
     "output_type": "stream",
     "text": [
      "\r\n",
      "T00 ERR ... 2025-5-23 5:57:4 Total Energy -40.2309590803\r\n",
      "T00 ERR ... 2025-5-23 5:57:4 DIIs error 2.04315894865e-05\r\n",
      "T00 ERR ... 2025-5-23 5:57:4 Delta Etot -2.54895951457e-07\r\n",
      "T00 ERR ... \r\n",
      "T00 ERR ... 2025-5-23 5:57:4 Iteration 8 of 100"
     ]
    },
    {
     "name": "stdout",
     "output_type": "stream",
     "text": [
      "\r\n",
      "T00 ERR ... 2025-5-23 5:57:4 Total Energy -40.2309590805\r\n",
      "T00 ERR ... 2025-5-23 5:57:4 DIIs error 1.08205769884e-05\r\n",
      "T00 ERR ... 2025-5-23 5:57:4 Delta Etot -2.43097986186e-10\r\n",
      "T00 ERR ... \r\n",
      "T00 ERR ... 2025-5-23 5:57:4 Iteration 9 of 100"
     ]
    },
    {
     "name": "stdout",
     "output_type": "stream",
     "text": [
      "\r\n",
      "T00 ERR ... 2025-5-23 5:57:4 Total Energy -40.2309590809\r\n",
      "T00 ERR ... 2025-5-23 5:57:4 DIIs error 3.49759926168e-06\r\n",
      "T00 ERR ... 2025-5-23 5:57:4 Delta Etot -3.88887144709e-10\r\n",
      "T00 ERR ... \r\n",
      "T00 ERR ... 2025-5-23 5:57:4 Iteration 10 of 100"
     ]
    },
    {
     "name": "stdout",
     "output_type": "stream",
     "text": [
      "\r\n",
      "T00 ERR ... 2025-5-23 5:57:4 Total Energy -40.2309590809\r\n",
      "T00 ERR ... 2025-5-23 5:57:4 DIIs error 9.09315416335e-07\r\n",
      "T00 ERR ... 2025-5-23 5:57:4 Delta Etot -4.52615722679e-11\r\n",
      "T00 ERR ... \r\n",
      "T00 ERR ... 2025-5-23 5:57:4 Iteration 11 of 100"
     ]
    },
    {
     "name": "stdout",
     "output_type": "stream",
     "text": [
      "\r\n",
      "T00 ERR ... 2025-5-23 5:57:4 Total Energy -40.230959081\r\n",
      "T00 ERR ... 2025-5-23 5:57:4 DIIs error 1.36304181762e-09\r\n",
      "T00 ERR ... 2025-5-23 5:57:4 Delta Etot -2.92743607133e-12\r\n",
      "T00 ERR ... 2025-5-23 5:57:4 Total Energy has converged to -2.92743607e-12[Ha] after 11 iterations. DIIS error is converged up to 1.36304182e-09\r\n",
      "T00 ERR ... 2025-5-23 5:57:4 Final Single Point Energy -40.230959081 Ha\r\n",
      "T00 ERR ... 2025-5-23 5:57:4 Final Local Exc contribution -5.18429663115 Ha\r\n",
      "T00 ERR ... 2025-5-23 5:57:4 Final Non Local Ex contribution -1.63926628975 Ha\r\n",
      "T00 ERR ...   Orbital energies: \r\n",
      "T00 ERR ...   index occupation energy(Hartree) \r\n",
      "T00 ERR ...      0      2   -10.1479486478\r\n",
      "T00 ERR ...      1      2   -0.7122268012\r\n",
      "T00 ERR ...      2      2   -0.4030277351\r\n",
      "T00 ERR ...      3      2   -0.4013508429\r\n",
      "T00 ERR ...      4      2   -0.3991087981\r\n",
      "T00 ERR ...      5      0   +0.1607311204\r\n",
      "T00 ERR ...      6      0   +0.2030138024\r\n",
      "T00 ERR ...      7      0   +0.2081578781\r\n",
      "T00 ERR ...      8      0   +0.2102894921\r\n",
      "T00 ERR ...      9      0   +0.7241152529\r\n",
      "T00 ERR ...     10      0   +0.7253274426\r\n",
      "T00 ERR ...     11      0   +0.7278602375\r\n",
      "T00 ERR ...     12      0   +1.0556245950\r\n",
      "T00 ERR ...     13      0   +1.0854014744\r\n",
      "T00 ERR ...     14      0   +1.0904231683\r\n",
      "T00 ERR ...     15      0   +1.0921195357\r\n",
      "T00 ERR ...     16      0   +1.7121078357\r\n",
      "T00 ERR ... 2025-5-23 5:57:4 Electric Dipole is[e*bohr]:\r\n",
      "\t\t dx=0.0193606710086\r\n",
      "\t\t dy=0.0353547140004\r\n",
      "\t\t dz=-0.0142953891783\r\n",
      "T00 ERR ... Writing result to temp.orb\r\n",
      "T00 ERR ... 2025-5-23 5:57:4 DFT calculation took 1.670044289 seconds.\r\n",
      "T00 ERR ... 2025-5-23 5:57:4 RPA level range [0:16]\r\n",
      "T00 ERR ... 2025-5-23 5:57:4 GW  level range [0:16]\r\n",
      "T00 ERR ... 2025-5-23 5:57:4 BSE level range occ[0:4]  virt[5:16]\r\n",
      "T00 ERR ...  BSE type: full\r\n",
      "T00 ERR ... 2025-5-23 5:57:4 BSE Hamiltonian has size 120x120\r\n",
      "T00 ERR ...  BSE without Hqp offdiagonal elements\r\n",
      "T00 ERR ...  Running GW as: G0W0\r\n",
      "T00 ERR ...  qp_sc_limit [Hartree]: 1e-05\r\n",
      "T00 ERR ...  Tasks: \r\n",
      "T00 ERR ...  GW \r\n",
      "T00 ERR ...  singlets \r\n",
      "T00 ERR ...  triplets \r\n",
      "T00 ERR ...  Store: \r\n",
      "T00 ERR ...  GW \r\n",
      "T00 ERR ...  Sigma integration: ppm\r\n",
      "T00 ERR ...  eta: 0.001\r\n",
      "T00 ERR ...  QP solver: grid\r\n",
      "T00 ERR ...  QP grid steps: 1001\r\n",
      "T00 ERR ...  QP grid spacing: 0.001\r\n",
      "T00 ERR ... 2025-5-23 5:57:4 Using 2 threads\r\n",
      "T00 ERR ... 2025-5-23 5:57:4 Using native Eigen implementation, no BLAS overload \r\n",
      "T00 ERR ... 2025-5-23 5:57:4 Molecule Coordinates [A] \r\n",
      "T00 ERR ...     0    C   30.3000 1.2704 5.5205\r\n",
      "T00 ERR ...     1    H   31.2392 1.4802 6.0301\r\n",
      "T00 ERR ...     2    H   30.4910 0.6554 4.6433\r\n",
      "T00 ERR ...     3    H   29.8500 2.2100 5.2100\r\n",
      "T00 ERR ...     4    H   29.6200 0.7500 6.2000\r\n",
      "T00 ERR ... 2025-5-23 5:57:4 DFT data was created by xtp"
     ]
    },
    {
     "name": "stdout",
     "output_type": "stream",
     "text": [
      "\r\n",
      "T00 ERR ... 2025-5-23 5:57:4 Loaded DFT Basis Set 3-21G\r\n",
      "T00 ERR ... 2025-5-23 5:57:4 Filled DFT Basis of size 17\r\n",
      "T00 ERR ... 2025-5-23 5:57:4 Loaded Auxbasis Set aux-def2-svp\r\n",
      "T00 ERR ... 2025-5-23 5:57:4 Filled Auxbasis of size 104\r\n",
      "T00 ERR ... 2025-5-23 5:57:4 Calculating Mmn_beta (3-center-repulsion x orbitals)  \r\n",
      "T00 ERR ... 2025-5-23 5:57:4 Calculated Mmn_beta (3-center-repulsion x orbitals)  \r\n",
      "T00 ERR ... 2025-5-23 5:57:4 Integrating Vxc with functional XC_HYB_GGA_XC_PBEH"
     ]
    },
    {
     "name": "stdout",
     "output_type": "stream",
     "text": [
      "\r\n",
      "T00 ERR ... 2025-5-23 5:57:5 Set hybrid exchange factor: 0.25\r\n",
      "T00 ERR ... 2025-5-23 5:57:5 Calculated exchange-correlation expectation values \r\n",
      "T00 ERR ... 2025-5-23 5:57:5 Calculated Hartree exchange contribution\r\n",
      "T00 ERR ... 2025-5-23 5:57:5 Scissor shifting DFT energies by: 0 Hrt\r\n",
      "T00 ERR ...   ====== Perturbative quasiparticle energies (Hartree) ====== \r\n",
      "T00 ERR ...    DeltaHLGap = +0.215514 Hartree\r\n",
      "T00 ERR ...   Level =    0 DFT = -10.1479 VXC = -1.7031 S-X = -2.6689 S-C = +0.5631 GWA = -10.5506\r\n",
      "T00 ERR ...   Level =    1 DFT = -0.7122 VXC = -0.4404 S-X = -0.6606 S-C = +0.1083 GWA = -0.8241\r\n",
      "T00 ERR ...   Level =    2 DFT = -0.4030 VXC = -0.3959 S-X = -0.5286 S-C = +0.0324 GWA = -0.5033\r\n",
      "T00 ERR ...   Level =    3 DFT = -0.4014 VXC = -0.3967 S-X = -0.5298 S-C = +0.0328 GWA = -0.5015\r\n",
      "T00 ERR ...   HOMO  =    4 DFT = -0.3991 VXC = -0.3970 S-X = -0.5300 S-C = +0.0329 GWA = -0.4993\r\n",
      "T00 ERR ...   LUMO  =    5 DFT = +0.1607 VXC = -0.2418 S-X = -0.1018 S-C = -0.0246 GWA = +0.2761\r\n",
      "T00 ERR ...   Level =    6 DFT = +0.2030 VXC = -0.2616 S-X = -0.1101 S-C = -0.0238 GWA = +0.3308\r\n",
      "T00 ERR ...   Level =    7 DFT = +0.2082 VXC = -0.2612 S-X = -0.1097 S-C = -0.0239 GWA = +0.3358\r\n",
      "T00 ERR ...   Level =    8 DFT = +0.2103 VXC = -0.2613 S-X = -0.1098 S-C = -0.0238 GWA = +0.3379\r\n",
      "T00 ERR ...   Level =    9 DFT = +0.7241 VXC = -0.3183 S-X = -0.1082 S-C = -0.0635 GWA = +0.8706\r\n",
      "T00 ERR ...   Level =   10 DFT = +0.7253 VXC = -0.3182 S-X = -0.1080 S-C = -0.0638 GWA = +0.8718\r\n",
      "T00 ERR ...   Level =   11 DFT = +0.7279 VXC = -0.3177 S-X = -0.1073 S-C = -0.0643 GWA = +0.8740\r\n",
      "T00 ERR ...   Level =   12 DFT = +1.0556 VXC = -0.4047 S-X = -0.1334 S-C = -0.0323 GWA = +1.2946\r\n",
      "T00 ERR ...   Level =   13 DFT = +1.0854 VXC = -0.3963 S-X = -0.1274 S-C = -0.1740 GWA = +1.1803\r\n",
      "T00 ERR ...   Level =   14 DFT = +1.0904 VXC = -0.3953 S-X = -0.1271 S-C = -0.1730 GWA = +1.1857\r\n",
      "T00 ERR ...   Level =   15 DFT = +1.0921 VXC = -0.3946 S-X = -0.1268 S-C = -0.1726 GWA = +1.1873\r\n",
      "T00 ERR ...   Level =   16 DFT = +1.7121 VXC = -0.3559 S-X = -0.1045 S-C = -0.0297 GWA = +1.9338\r\n",
      "T00 ERR ... 2025-5-23 5:57:5 Calculated offdiagonal part of Sigma  \r\n",
      "T00 ERR ... 2025-5-23 5:57:5 Full quasiparticle Hamiltonian  \r\n",
      "T00 ERR ...   ====== Diagonalized quasiparticle energies (Hartree) ====== \r\n",
      "T00 ERR ...   Level =    0 PQP = -10.550598 DQP = -10.550784 \r\n",
      "T00 ERR ...   Level =    1 PQP = -0.824112 DQP = -0.824557 \r\n",
      "T00 ERR ...   Level =    2 PQP = -0.503318 DQP = -0.503594 \r\n",
      "T00 ERR ...   Level =    3 PQP = -0.501550 DQP = -0.501757 \r\n",
      "T00 ERR ...   HOMO  =    4 PQP = -0.499250 DQP = -0.499442 \r\n",
      "T00 ERR ...   LUMO  =    5 PQP = +0.276103 DQP = +0.267906 \r\n",
      "T00 ERR ...   Level =    6 PQP = +0.330783 DQP = +0.328896 \r\n",
      "T00 ERR ...   Level =    7 PQP = +0.335772 DQP = +0.334342 \r\n",
      "T00 ERR ...   Level =    8 PQP = +0.337930 DQP = +0.336525 \r\n",
      "T00 ERR ...   Level =    9 PQP = +0.870623 DQP = +0.868942 \r\n",
      "T00 ERR ...   Level =   10 PQP = +0.871774 DQP = +0.869912 \r\n",
      "T00 ERR ...   Level =   11 PQP = +0.873964 DQP = +0.871690 \r\n",
      "T00 ERR ...   Level =   12 PQP = +1.294583 DQP = +1.183176 \r\n",
      "T00 ERR ...   Level =   13 PQP = +1.180304 DQP = +1.189612 \r\n",
      "T00 ERR ...   Level =   14 PQP = +1.185716 DQP = +1.191519 \r\n",
      "T00 ERR ...   Level =   15 PQP = +1.187304 DQP = +1.289811 \r\n",
      "T00 ERR ...   Level =   16 PQP = +1.933788 DQP = +1.947619 \r\n",
      "T00 ERR ... 2025-5-23 5:57:5 Diagonalized QP Hamiltonian  \r\n",
      "T00 ERR ... 2025-5-23 5:57:5 GW calculation took 0.121491013 seconds.\r\n",
      "T00 ERR ... 2025-5-23 5:57:5 Setup Full triplet hamiltonian \r\n",
      "T00 ERR ... 2025-5-23 5:57:5 Davidson Solver using 2 threads.\r\n",
      "T00 ERR ... 2025-5-23 5:57:5 Tolerance : 0.0001\r\n",
      "T00 ERR ... 2025-5-23 5:57:5 DPR Correction\r\n",
      "T00 ERR ... 2025-5-23 5:57:5 Matrix size : 120x120\r\n",
      "T00 ERR ... 2025-5-23 5:57:5 iter\tSearch Space\tNorm\r\n",
      "T00 ERR ... 2025-5-23 5:57:5    0           20 \t 1.28e-01 \t  0.00% converged\r\n",
      "T00 ERR ... 2025-5-23 5:57:5    1           35 \t 1.41e-02 \t  0.00% converged\r\n",
      "T00 ERR ... 2025-5-23 5:57:5    2           50 \t 8.59e-04 \t 10.00% converged\r\n",
      "T00 ERR ... 2025-5-23 5:57:5    3           62 \t 2.81e-05 \t 100.00% converged\r\n",
      "T00 ERR ... 2025-5-23 5:57:5 Davidson converged after 3 iterations.\r\n",
      "T00 ERR ... 2025-5-23 5:57:5-----------------------------------\r\n",
      "T00 ERR ... 2025-5-23 5:57:5- Davidson ran for 0.007161973secs.\r\n",
      "T00 ERR ... 2025-5-23 5:57:5-----------------------------------\r\n",
      "T00 ERR ... 2025-5-23 5:57:5 Solved BSE for triplets \r\n",
      "T00 ERR ...   ====== triplet energies (eV) ====== \r\n",
      "T00 ERR ...   T =    1 Omega = +11.590450210931 eV  lamdba = +106.98 nm <FT> = +22.7900 <K_d> = -11.1996\r\n",
      "T00 ERR ...    \r\n",
      "T00 ERR ...   T =    2 Omega = +11.768436915421 eV  lamdba = +105.37 nm <FT> = +22.9507 <K_d> = -11.1823\r\n",
      "T00 ERR ...    \r\n",
      "T00 ERR ...   T =    3 Omega = +11.827074595578 eV  lamdba = +104.84 nm <FT> = +22.4832 <K_d> = -10.6561\r\n",
      "T00 ERR ...    \r\n",
      "T00 ERR ...   T =    4 Omega = +11.875195227650 eV  lamdba = +104.42 nm <FT> = +22.4500 <K_d> = -10.5748\r\n",
      "T00 ERR ...    \r\n",
      "T00 ERR ...   T =    5 Omega = +13.656657594876 eV  lamdba = +90.80 nm <FT> = +22.2470 <K_d> = -8.5903\r\n",
      "T00 ERR ...    \r\n",
      "T00 ERR ...   T =    6 Omega = +13.750297371881 eV  lamdba = +90.18 nm <FT> = +22.2953 <K_d> = -8.5450\r\n",
      "T00 ERR ...    \r\n",
      "T00 ERR ...   T =    7 Omega = +13.943259371067 eV  lamdba = +88.93 nm <FT> = +22.3952 <K_d> = -8.4520\r\n",
      "T00 ERR ...    \r\n",
      "T00 ERR ...   T =    8 Omega = +14.129640172472 eV  lamdba = +87.76 nm <FT> = +22.7313 <K_d> = -8.6017\r\n",
      "T00 ERR ...            HOMO-0   -> LUMO+1    : 72.0%\r\n",
      "T00 ERR ...    \r\n",
      "T00 ERR ...   T =    9 Omega = +14.226372414746 eV  lamdba = +87.16 nm <FT> = +22.8418 <K_d> = -8.6154\r\n",
      "T00 ERR ...    \r\n",
      "T00 ERR ...   T =   10 Omega = +14.374676546673 eV  lamdba = +86.26 nm <FT> = +22.8660 <K_d> = -8.4913\r\n",
      "T00 ERR ...            HOMO-2   -> LUMO+2    : 56.1%\r\n",
      "T00 ERR ...    \r\n",
      "T00 ERR ... 2025-5-23 5:57:5 Setup Full singlet hamiltonian \r\n",
      "T00 ERR ... 2025-5-23 5:57:5 Davidson Solver using 2 threads.\r\n",
      "T00 ERR ... 2025-5-23 5:57:5 Tolerance : 0.0001\r\n",
      "T00 ERR ... 2025-5-23 5:57:5 DPR Correction\r\n",
      "T00 ERR ... 2025-5-23 5:57:5 Matrix size : 120x120\r\n",
      "T00 ERR ... 2025-5-23 5:57:5 iter\tSearch Space\tNorm\r\n",
      "T00 ERR ... 2025-5-23 5:57:5    0           20 \t 1.28e-01 \t  0.00% converged"
     ]
    },
    {
     "name": "stdout",
     "output_type": "stream",
     "text": [
      "\r\n",
      "T00 ERR ... 2025-5-23 5:57:5    1           35 \t 1.29e-02 \t  0.00% converged\r\n",
      "T00 ERR ... 2025-5-23 5:57:5    2           50 \t 9.32e-04 \t 40.00% converged\r\n",
      "T00 ERR ... 2025-5-23 5:57:5    3           61 \t 3.38e-05 \t 100.00% converged\r\n",
      "T00 ERR ... 2025-5-23 5:57:5 Davidson converged after 3 iterations.\r\n",
      "T00 ERR ... 2025-5-23 5:57:5-----------------------------------\r\n",
      "T00 ERR ... 2025-5-23 5:57:5- Davidson ran for 0.008740196secs.\r\n",
      "T00 ERR ... 2025-5-23 5:57:5-----------------------------------\r\n",
      "T00 ERR ... 2025-5-23 5:57:5 Solved BSE for singlets \r\n",
      "T00 ERR ...   ====== singlet energies (eV) ====== \r\n",
      "T00 ERR ...   S =    1 Omega = +13.838549782377 eV  lamdba = +89.60 nm <FT> = +21.2209 <K_x> = +0.9776 <K_d> = -8.3599\r\n",
      "T00 ERR ...            TrDipole length gauge[e*bohr]  dx = +0.5302 dy = -0.4089 dz = +0.3397 |d|^2 = +0.5638 f = +0.1911\r\n",
      "T00 ERR ...            HOMO-0   -> LUMO+0    : 98.7%\r\n",
      "T00 ERR ... \r\n",
      "T00 ERR ...   S =    2 Omega = +13.899924493526 eV  lamdba = +89.21 nm <FT> = +21.2939 <K_x> = +1.0287 <K_d> = -8.4227\r\n",
      "T00 ERR ...            TrDipole length gauge[e*bohr]  dx = +0.1896 dy = +0.6257 dz = +0.4731 |d|^2 = +0.6513 f = +0.2218\r\n",
      "T00 ERR ...            HOMO-1   -> LUMO+0    : 97.0%\r\n",
      "T00 ERR ... \r\n",
      "T00 ERR ...   S =    3 Omega = +13.966211980029 eV  lamdba = +88.79 nm <FT> = +21.3573 <K_x> = +1.1860 <K_d> = -8.5770\r\n",
      "T00 ERR ...            TrDipole length gauge[e*bohr]  dx = +0.6224 dy = +0.3190 dz = -0.6421 |d|^2 = +0.9014 f = +0.3084\r\n",
      "T00 ERR ...            HOMO-2   -> LUMO+0    : 97.5%\r\n",
      "T00 ERR ... \r\n",
      "T00 ERR ...   S =    4 Omega = +14.551152045797 eV  lamdba = +85.22 nm <FT> = +22.7162 <K_x> = +0.3387 <K_d> = -8.5038\r\n",
      "T00 ERR ...            TrDipole length gauge[e*bohr]  dx = -0.1704 dy = +0.0702 dz = -0.0443 |d|^2 = +0.0359 f = +0.0128\r\n",
      "T00 ERR ...            HOMO-0   -> LUMO+1    : 77.0%\r\n",
      "T00 ERR ... \r\n",
      "T00 ERR ...   S =    5 Omega = +14.601152862165 eV  lamdba = +84.92 nm <FT> = +22.7822 <K_x> = +0.3232 <K_d> = -8.5043\r\n",
      "T00 ERR ...            TrDipole length gauge[e*bohr]  dx = -0.0460 dy = +0.1295 dz = +0.2160 |d|^2 = +0.0656 f = +0.0234\r\n",
      "T00 ERR ...            HOMO-1   -> LUMO+1    : 60.6%\r\n",
      "T00 ERR ... \r\n",
      "T00 ERR ...   S =    6 Omega = +14.637499005980 eV  lamdba = +84.71 nm <FT> = +22.8481 <K_x> = +0.2777 <K_d> = -8.4883\r\n",
      "T00 ERR ...            TrDipole length gauge[e*bohr]  dx = +0.1206 dy = -0.0280 dz = +0.0821 |d|^2 = +0.0221 f = +0.0079\r\n",
      "T00 ERR ...            HOMO-0   -> LUMO+2    : 55.6%\r\n",
      "T00 ERR ... \r\n",
      "T00 ERR ...   S =    7 Omega = +14.990772476228 eV  lamdba = +82.72 nm <FT> = +22.8543 <K_x> = +0.7066 <K_d> = -8.5701\r\n",
      "T00 ERR ...            TrDipole length gauge[e*bohr]  dx = +0.0540 dy = +0.0878 dz = +0.0594 |d|^2 = +0.0142 f = +0.0052\r\n",
      "T00 ERR ... \r\n",
      "T00 ERR ...   S =    8 Omega = +15.014770780729 eV  lamdba = +82.59 nm <FT> = +22.9068 <K_x> = +0.6670 <K_d> = -8.5591\r\n",
      "T00 ERR ...            TrDipole length gauge[e*bohr]  dx = +0.0179 dy = +0.0439 dz = -0.0304 |d|^2 = +0.0032 f = +0.0012\r\n",
      "T00 ERR ...            HOMO-2   -> LUMO+3    : 70.5%\r\n",
      "T00 ERR ... \r\n",
      "T00 ERR ...   S =    9 Omega = +15.998982402881 eV  lamdba = +77.50 nm <FT> = +23.1683 <K_x> = +2.1886 <K_d> = -9.3578\r\n",
      "T00 ERR ...            TrDipole length gauge[e*bohr]  dx = -0.8941 dy = -0.8746 dz = +0.5875 |d|^2 = +1.9094 f = +0.7484\r\n",
      "T00 ERR ...            HOMO-2   -> LUMO+1    : 60.4%\r\n",
      "T00 ERR ... \r\n",
      "T00 ERR ...   S =   10 Omega = +16.031811994963 eV  lamdba = +77.35 nm <FT> = +23.2251 <K_x> = +2.2797 <K_d> = -9.4730\r\n",
      "T00 ERR ...            TrDipole length gauge[e*bohr]  dx = -0.4409 dy = +1.0818 dz = +0.8258 |d|^2 = +2.0466 f = +0.8039\r\n",
      "T00 ERR ... \r\n",
      "T00 ERR ... 2025-5-23 5:57:5 BSE calculation took 0.018342008 seconds.\r\n",
      "T00 ERR ... 2025-5-23 5:57:5 GWBSE calculation finished \r\n",
      "T00 ERR ... Next State is: s1\r\n",
      "T00 ERR ... 2025-5-23 5:57:5 Evaluating polarregion 1\r\n",
      "T00 ERR ... 2025-5-23 5:57:5 Evaluating interaction between polarregion 1 and qmregion 0\r\n",
      "T00 ERR ... Next State is: s1"
     ]
    },
    {
     "name": "stdout",
     "output_type": "stream",
     "text": [
      "\r\n",
      "T00 ERR ... 2025-5-23 5:57:5 Evaluating interaction between polarregion 1 and staticregion 2\r\n",
      "T00 ERR ... 2025-5-23 5:57:5 Starting Solving for classical polarization with 1380 degrees of freedom.\r\n",
      "T00 ERR ... 2025-5-23 5:57:5 CG: #iterations: 1, estimated error: 4.81073266655e-05"
     ]
    },
    {
     "name": "stdout",
     "output_type": "stream",
     "text": [
      "\r\n",
      "T00 ERR ...   Total static energy [hrt]= 0.0009102654542\r\n",
      "T00 ERR ...   Total polar energy [hrt]= 0.0008138909845\r\n",
      "T00 ERR ...  Total energy [hrt]= 0.001724156439\r\n",
      "T00 ERR ... 2025-5-23 5:57:5 Evaluating staticregion 2\r\n",
      "T00 ERR ... 2025-5-23 5:57:5 Writing checkpoint to checkpoint_iter_9.hdf5\r\n",
      "T00 ERR ...  Region:qmregion 0 is not converged deltaE=3.124694331e-06 RMS Dmat=0.0001436156626 MaxDmat=0.0008267815792\r\n",
      "T00 ERR ... 2025-5-23 5:57:5 Region:polarregion 1 is converged deltaE=1.453495099e-06\r\n",
      "T00 ERR ... 2025-5-23 5:57:5 --Total Energy all regions -39.7206776\r\n",
      "T00 ERR ... 2025-5-23 5:57:5 --Inter Region SCF Iteration 10 of 50\r\n",
      "T00 ERR ... 2025-5-23 5:57:5 Evaluating qmregion 0\r\n",
      "T00 ERR ... 2025-5-23 5:57:5 Evaluating interaction between qmregion 0 and polarregion 1\r\n",
      "T00 ERR ... 2025-5-23 5:57:5 Evaluating interaction between qmregion 0 and staticregion 2\r\n",
      "T00 ERR ... Running DFT calculation\r\n",
      "T00 ERR ... 2025-5-23 5:57:5 Using 2 threads\r\n",
      "T00 ERR ... 2025-5-23 5:57:5 Using native Eigen implementation, no BLAS overload \r\n",
      "T00 ERR ...  Molecule Coordinates [A] \r\n",
      "T00 ERR ...   C   +30.3000 +1.2704 +5.5205\r\n",
      "T00 ERR ...   H   +31.2392 +1.4802 +6.0301\r\n",
      "T00 ERR ...   H   +30.4910 +0.6554 +4.6433\r\n",
      "T00 ERR ...   H   +29.8500 +2.2100 +5.2100\r\n",
      "T00 ERR ...   H   +29.6200 +0.7500 +6.2000"
     ]
    },
    {
     "name": "stdout",
     "output_type": "stream",
     "text": [
      "\r\n",
      "T00 ERR ... 2025-5-23 5:57:5 Loaded DFT Basis Set 3-21G with 17 functions\r\n",
      "T00 ERR ... 2025-5-23 5:57:5 Loaded AUX Basis Set aux-def2-svp with 104 functions\r\n",
      "T00 ERR ... 2025-5-23 5:57:5 Total number of electrons: 10\r\n",
      "T00 ERR ... 2025-5-23 5:57:5 Smallest value of AOOverlap matrix is 0.03364074275\r\n",
      "T00 ERR ... 2025-5-23 5:57:5 Removed 0 basisfunction from inverse overlap matrix\r\n",
      "T00 ERR ... 2025-5-23 5:57:5 Convergence Options:\r\n",
      "T00 ERR ... \t\t Delta E [Ha]: 1e-07\r\n",
      "T00 ERR ... \t\t DIIS max error: 1e-07\r\n",
      "T00 ERR ... \t\t DIIS histlength: 20\r\n",
      "T00 ERR ... \t\t ADIIS start: 0.8\r\n",
      "T00 ERR ... \t\t DIIS start: 0.002\r\n",
      "T00 ERR ... \t\t Deleting oldest element from DIIS hist\r\n",
      "T00 ERR ... \t\t Levelshift[Ha]: 0\r\n",
      "T00 ERR ... \t\t Levelshift end: 0.2\r\n",
      "T00 ERR ... \t\t Mixing Parameter alpha: 0.7\r\n",
      "T00 ERR ... 2025-5-23 5:57:5 Setup invariant parts of Electron Repulsion integrals \r\n",
      "T00 ERR ... 2025-5-23 5:57:5 Constructed independent particle hamiltonian \r\n",
      "T00 ERR ... 2025-5-23 5:57:5 Nuclear Repulsion Energy is 13.4434088\r\n",
      "T00 ERR ... 2025-5-23 5:57:5 1350 External sites\r\n",
      "T00 ERR ...  Name      Coordinates[a0]     charge[e]         dipole[e*a0]    \r\n",
      "T00 ERR ...   C   +63.8902 +7.9543 +11.0171   -0.3282   +0.0090 +0.0011 -0.0060\r\n",
      "T00 ERR ...   H   +62.3892 +6.5470 +10.9796   +0.0824   +0.0094 +0.0029 -0.0001\r\n",
      "T00 ERR ...   H   +65.3194 +7.4736 +9.6186   +0.0822   +0.0038 -0.0009 -0.0023\r\n",
      "T00 ERR ...   H   +63.1170 +9.8077 +10.6203   +0.0817   +0.0015 +0.0014 +0.0010\r\n",
      "T00 ERR ...   H   +64.7422 +7.9557 +12.9068   +0.0819   +0.0043 +0.0033 -0.0007\r\n",
      "T00 ERR ...   C   +63.9128 -0.3996 +22.8673   -0.3282   -0.0029 +0.0014 +0.0052\r\n",
      "T00 ERR ...   H   +63.0449 -1.1731 +21.1692   +0.0824   -0.0001 -0.0006 +0.0015\r\n",
      "T00 ERR ...   H   +62.7676 +1.1530 +23.5795   +0.0822   -0.0015 +0.0049 +0.0022\r\n",
      "T00 ERR ...   H   +64.0430 -1.8922 +24.2830   +0.0817   +0.0010 -0.0004 -0.0009\r\n",
      "T00 ERR ...   H   +65.8004 +0.2810 +22.4122   +0.0819   -0.0036 -0.0009 +0.0017\r\n",
      "T00 ERR ...   C   +61.7182 -0.4374 -3.3115   -0.3282   -0.0002 -0.0018 +0.0010\r\n",
      "T00 ERR ...   H   +60.6600 -1.0798 -4.9554   +0.0824   +0.0011 +0.0014 +0.0012\r\n",
      "T00 ERR ...   H   +63.3309 +0.6815 -3.9252   +0.0822   -0.0014 -0.0019 -0.0006\r\n",
      "T00 ERR ...   H   +62.3800 -2.0623 -2.2148   +0.0817   +0.0010 -0.0019 +0.0013\r\n",
      "T00 ERR ...   H   +60.5092 +0.7345 -2.1392   +0.0819   -0.0027 -0.0035 -0.0019\r\n",
      "T00 ERR ...   C   +62.0402 +12.7739 +4.5175   -0.3282   +0.0027 +0.0004 +0.0017\r\n",
      "T00 ERR ...   H   +60.1049 +13.3052 +4.0622   +0.0824   +0.0002 -0.0013 -0.0010\r\n",
      "T00 ERR ...   H   +62.0812 +11.8167 +6.3372   +0.0822   +0.0006 -0.0022 -0.0015\r\n",
      "T00 ERR ...   H   +63.2115 +14.4753 +4.6109   +0.0817   +0.0028 +0.0023 +0.0014\r\n",
      "T00 ERR ...   H   +62.7769 +11.5084 +3.0803   +0.0819   -0.0003 -0.0009 +0.0006\r\n",
      "T00 ERR ...   C   +60.6789 +14.3239 +12.6808   -0.3282   -0.0020 +0.0028 +0.0014\r\n",
      "T00 ERR ...   H   +61.0756 +13.9461 +10.6972   +0.0824   -0.0038 +0.0040 -0.0004\r\n",
      "T00 ERR ...   H   +61.0224 +16.3108 +13.0851   +0.0822   -0.0001 +0.0006 +0.0033\r\n",
      "T00 ERR ...   H   +58.7327 +13.8328 +13.0580   +0.0817   +0.0007 -0.0002 +0.0003\r\n",
      "T00 ERR ...   H   +61.9074 +13.1525 +13.8517   +0.0819   -0.0006 -0.0006 +0.0035\r\n",
      "T00 ERR ...   C   +68.7870 +4.1961 +17.9521   -0.3282   +0.0049 +0.0003 +0.0063\r\n",
      "T00 ERR ...   H   +68.2015 +2.4962 +18.9532   +0.0824   +0.0001 -0.0005 -0.0013\r\n",
      "T00 ERR ...   H   +67.2445 +4.8625 +16.7665   +0.0822   +0.0015 -0.0030 +0.0028\r\n",
      "T00 ERR ...   H   +70.4303 +3.7606 +16.7997   +0.0817   -0.0007 +0.0010 +0.0004\r\n",
      "T00 ERR ...   H   +69.2964 +5.6503 +19.3130   +0.0819   +0.0011 +0.0009 +0.0055\r\n",
      "T00 ERR ...   C   +54.0832 +4.4983 +27.1938   -0.3282   -0.0007 -0.0025 -0.0012\r\n",
      "T00 ERR ...   H   +53.5372 +6.4564 +27.5139   +0.0824   -0.0012 -0.0015 +0.0002\r\n",
      "T00 ERR ...   H   +52.9768 +3.2670 +28.4141   +0.0822   -0.0007 -0.0015 +0.0003\r\n",
      "T00 ERR ...   H   +53.7249 +4.0062 +25.2278   +0.0817   +0.0021 -0.0009 +0.0002\r\n",
      "T00 ERR ...   H   +56.0682 +4.2330 +27.6278   +0.0819   -0.0032 +0.0014 -0.0015\r\n",
      "T00 ERR ...   C   +63.8174 +6.3112 -1.0788   -0.3282   -0.0007 -0.0003 -0.0004\r\n",
      "T00 ERR ...   H   +65.2393 +6.4796 +0.3993   +0.0824   -0.0003 -0.0010 +0.0014\r\n",
      "T00 ERR ...   H   +62.4364 +4.8836 -0.5459   +0.0822   +0.0020 +0.0009 -0.0008\r\n",
      "T00 ERR ...   H   +64.7422 +5.7637 -2.8384   +0.0817   -0.0005 +0.0027 +0.0002\r\n",
      "T00 ERR ...   H   +62.8903 +8.1258 -1.3455   +0.0819   -0.0006 -0.0016 -0.0037\r\n",
      "T00 ERR ...   C   +64.1752 +19.2751 +7.8615   -0.3282   +0.0049 -0.0000 +0.0006\r\n",
      "T00 ERR ...   H   +62.9276 +19.0860 +6.2359   +0.0824   -0.0011 +0.0004 +0.0021\r\n",
      "T00 ERR ...   H   +63.4396 +18.1623 +9.4267   +0.0822   +0.0013 -0.0002 -0.0003\r\n",
      "T00 ERR ...   H   +66.0461 +18.6138 +7.3699   +0.0817   +0.0012 -0.0009 -0.0001\r\n",
      "T00 ERR ...   H   +64.2509 +21.2405 +8.4282   +0.0819   +0.0017 +0.0008 -0.0004\r\n",
      "T00 ERR ...   C   +61.3975 +17.7254 +18.4625   -0.3282   +0.0021 -0.0003 +0.0025\r\n",
      "T00 ERR ...   H   +60.9990 +19.0346 +16.9256   +0.0824   -0.0004 +0.0012 +0.0002\r\n",
      "T00 ERR ...   H   +61.0958 +18.6680 +20.2653   +0.0822   +0.0001 +0.0000 +0.0003\r\n",
      "T00 ERR ...   H   +60.1502 +16.1005 +18.3303   +0.0817   +0.0028 +0.0005 -0.0006\r\n",
      "T00 ERR ...   H   +63.3627 +17.1020 +18.3492   +0.0819   -0.0014 -0.0005 +0.0014\r\n",
      "T00 ERR ...               ... (1300 sites not displayed)\r\n"
     ]
    },
    {
     "name": "stdout",
     "output_type": "stream",
     "text": [
      "\r\n",
      "T00 ERR ... 2025-5-23 5:57:5 Filled DFT external multipole potential matrix\r\n",
      "T00 ERR ... 2025-5-23 5:57:5 Nuclei-external site interaction energy 0.0204347161\r\n",
      "T00 ERR ... 2025-5-23 5:57:5 Using hybrid functional with alpha=0.25\r\n",
      "T00 ERR ... 2025-5-23 5:57:5 Setup numerical integration grid medium for vxc functional XC_HYB_GGA_XC_PBEH"
     ]
    },
    {
     "name": "stdout",
     "output_type": "stream",
     "text": [
      "\r\n",
      "T00 ERR ... 2025-5-23 5:57:5 Setup Initial Guess using: atom\r\n",
      "T00 ERR ... 2025-5-23 5:57:5 Calculating atom density for C"
     ]
    },
    {
     "name": "stdout",
     "output_type": "stream",
     "text": [
      "\r\n",
      "T00 ERR ... 2025-5-23 5:57:6 Calculating atom density for H"
     ]
    },
    {
     "name": "stdout",
     "output_type": "stream",
     "text": [
      "\r\n",
      "T00 ERR ... 2025-5-23 5:57:6 STARTING SCF cycle\r\n",
      "T00 ERR ...  --------------------------------------------------------------------------\r\n",
      "T00 ERR ... \r\n",
      "T00 ERR ... 2025-5-23 5:57:6 Iteration 1 of 100"
     ]
    },
    {
     "name": "stdout",
     "output_type": "stream",
     "text": [
      "\r\n",
      "T00 ERR ... 2025-5-23 5:57:6 Total Energy -40.1456604338\r\n",
      "T00 ERR ... 2025-5-23 5:57:6 DIIs error 0.219656568785\r\n",
      "T00 ERR ... 2025-5-23 5:57:6 Delta Etot 0\r\n",
      "T00 ERR ... \r\n",
      "T00 ERR ... 2025-5-23 5:57:6 Iteration 2 of 100"
     ]
    },
    {
     "name": "stdout",
     "output_type": "stream",
     "text": [
      "\r\n",
      "T00 ERR ... 2025-5-23 5:57:6 Total Energy -40.1815788354\r\n",
      "T00 ERR ... 2025-5-23 5:57:6 DIIs error 0.128764126716\r\n",
      "T00 ERR ... 2025-5-23 5:57:6 Delta Etot -0.035918401647\r\n",
      "T00 ERR ... \r\n",
      "T00 ERR ... 2025-5-23 5:57:6 Iteration 3 of 100"
     ]
    },
    {
     "name": "stdout",
     "output_type": "stream",
     "text": [
      "\r\n",
      "T00 ERR ... 2025-5-23 5:57:6 Total Energy -40.1980530614\r\n",
      "T00 ERR ... 2025-5-23 5:57:6 DIIs error 0.0793380631784\r\n",
      "T00 ERR ... 2025-5-23 5:57:6 Delta Etot -0.016474225941\r\n",
      "T00 ERR ... \r\n",
      "T00 ERR ... 2025-5-23 5:57:6 Iteration 4 of 100"
     ]
    },
    {
     "name": "stdout",
     "output_type": "stream",
     "text": [
      "\r\n",
      "T00 ERR ... 2025-5-23 5:57:6 Total Energy -40.2287137776\r\n",
      "T00 ERR ... 2025-5-23 5:57:6 DIIs error 0.0296185989468\r\n",
      "T00 ERR ... 2025-5-23 5:57:6 Delta Etot -0.0306607162724\r\n",
      "T00 ERR ... \r\n",
      "T00 ERR ... 2025-5-23 5:57:6 Iteration 5 of 100"
     ]
    },
    {
     "name": "stdout",
     "output_type": "stream",
     "text": [
      "\r\n",
      "T00 ERR ... 2025-5-23 5:57:6 Total Energy -40.2286058958\r\n",
      "T00 ERR ... 2025-5-23 5:57:6 DIIs error 0.0311986456688\r\n",
      "T00 ERR ... 2025-5-23 5:57:6 Delta Etot 0.000107881870186\r\n",
      "T00 ERR ... \r\n",
      "T00 ERR ... 2025-5-23 5:57:6 Iteration 6 of 100"
     ]
    },
    {
     "name": "stdout",
     "output_type": "stream",
     "text": [
      "\r\n",
      "T00 ERR ... 2025-5-23 5:57:6 Total Energy -40.2309572264\r\n",
      "T00 ERR ... 2025-5-23 5:57:6 DIIs error 0.000318946537704\r\n",
      "T00 ERR ... 2025-5-23 5:57:6 Delta Etot -0.00235133061726\r\n",
      "T00 ERR ... \r\n",
      "T00 ERR ... 2025-5-23 5:57:6 Iteration 7 of 100"
     ]
    },
    {
     "name": "stdout",
     "output_type": "stream",
     "text": [
      "\r\n",
      "T00 ERR ... 2025-5-23 5:57:6 Total Energy -40.2309574813\r\n",
      "T00 ERR ... 2025-5-23 5:57:6 DIIs error 2.04304566743e-05\r\n",
      "T00 ERR ... 2025-5-23 5:57:6 Delta Etot -2.54895098806e-07\r\n",
      "T00 ERR ... \r\n",
      "T00 ERR ... 2025-5-23 5:57:6 Iteration 8 of 100"
     ]
    },
    {
     "name": "stdout",
     "output_type": "stream",
     "text": [
      "\r\n",
      "T00 ERR ... 2025-5-23 5:57:6 Total Energy -40.2309574815\r\n",
      "T00 ERR ... 2025-5-23 5:57:6 DIIs error 1.0820464815e-05\r\n",
      "T00 ERR ... 2025-5-23 5:57:6 Delta Etot -2.42962983066e-10\r\n",
      "T00 ERR ... \r\n",
      "T00 ERR ... 2025-5-23 5:57:6 Iteration 9 of 100"
     ]
    },
    {
     "name": "stdout",
     "output_type": "stream",
     "text": [
      "\r\n",
      "T00 ERR ... 2025-5-23 5:57:6 Total Energy -40.2309574819\r\n",
      "T00 ERR ... 2025-5-23 5:57:6 DIIs error 3.49909568012e-06\r\n",
      "T00 ERR ... 2025-5-23 5:57:6 Delta Etot -3.88922671846e-10\r\n",
      "T00 ERR ... \r\n",
      "T00 ERR ... 2025-5-23 5:57:6 Iteration 10 of 100"
     ]
    },
    {
     "name": "stdout",
     "output_type": "stream",
     "text": [
      "\r\n",
      "T00 ERR ... 2025-5-23 5:57:7 Total Energy -40.230957482\r\n",
      "T00 ERR ... 2025-5-23 5:57:7 DIIs error 9.09400766837e-07\r\n",
      "T00 ERR ... 2025-5-23 5:57:7 Delta Etot -4.52899939773e-11\r\n",
      "T00 ERR ... \r\n",
      "T00 ERR ... 2025-5-23 5:57:7 Iteration 11 of 100"
     ]
    },
    {
     "name": "stdout",
     "output_type": "stream",
     "text": [
      "\r\n",
      "T00 ERR ... 2025-5-23 5:57:7 Total Energy -40.230957482\r\n",
      "T00 ERR ... 2025-5-23 5:57:7 DIIs error 1.36293956422e-09\r\n",
      "T00 ERR ... 2025-5-23 5:57:7 Delta Etot -3.05533376377e-12\r\n",
      "T00 ERR ... 2025-5-23 5:57:7 Total Energy has converged to -3.05533376e-12[Ha] after 11 iterations. DIIS error is converged up to 1.36293956e-09\r\n",
      "T00 ERR ... 2025-5-23 5:57:7 Final Single Point Energy -40.230957482 Ha\r\n",
      "T00 ERR ... 2025-5-23 5:57:7 Final Local Exc contribution -5.18429662622 Ha\r\n",
      "T00 ERR ... 2025-5-23 5:57:7 Final Non Local Ex contribution -1.63926628795 Ha\r\n",
      "T00 ERR ...   Orbital energies: \r\n",
      "T00 ERR ...   index occupation energy(Hartree) \r\n",
      "T00 ERR ...      0      2   -10.1479484809\r\n",
      "T00 ERR ...      1      2   -0.7122266479\r\n",
      "T00 ERR ...      2      2   -0.4030283267\r\n",
      "T00 ERR ...      3      2   -0.4013501404\r\n",
      "T00 ERR ...      4      2   -0.3991084240\r\n",
      "T00 ERR ...      5      0   +0.1607308880\r\n",
      "T00 ERR ...      6      0   +0.2030124479\r\n",
      "T00 ERR ...      7      0   +0.2081600197\r\n",
      "T00 ERR ...      8      0   +0.2102897719\r\n",
      "T00 ERR ...      9      0   +0.7241154627\r\n",
      "T00 ERR ...     10      0   +0.7253273670\r\n",
      "T00 ERR ...     11      0   +0.7278605472\r\n",
      "T00 ERR ...     12      0   +1.0556244001\r\n",
      "T00 ERR ...     13      0   +1.0854004157\r\n",
      "T00 ERR ...     14      0   +1.0904252837\r\n",
      "T00 ERR ...     15      0   +1.0921194365\r\n",
      "T00 ERR ...     16      0   +1.7121080246\r\n",
      "T00 ERR ... 2025-5-23 5:57:7 Electric Dipole is[e*bohr]:\r\n",
      "\t\t dx=0.0193908901715\r\n",
      "\t\t dy=0.03535792352\r\n",
      "\t\t dz=-0.0142991897423\r\n",
      "T00 ERR ... Writing result to temp.orb\r\n",
      "T00 ERR ... 2025-5-23 5:57:7 DFT calculation took 1.677531615 seconds.\r\n",
      "T00 ERR ... 2025-5-23 5:57:7 RPA level range [0:16]\r\n",
      "T00 ERR ... 2025-5-23 5:57:7 GW  level range [0:16]\r\n",
      "T00 ERR ... 2025-5-23 5:57:7 BSE level range occ[0:4]  virt[5:16]\r\n",
      "T00 ERR ...  BSE type: full\r\n",
      "T00 ERR ... 2025-5-23 5:57:7 BSE Hamiltonian has size 120x120\r\n",
      "T00 ERR ...  BSE without Hqp offdiagonal elements\r\n",
      "T00 ERR ...  Running GW as: G0W0\r\n",
      "T00 ERR ...  qp_sc_limit [Hartree]: 1e-05\r\n",
      "T00 ERR ...  Tasks: \r\n",
      "T00 ERR ...  GW \r\n",
      "T00 ERR ...  singlets \r\n",
      "T00 ERR ...  triplets \r\n",
      "T00 ERR ...  Store: \r\n",
      "T00 ERR ...  GW \r\n",
      "T00 ERR ...  Sigma integration: ppm\r\n",
      "T00 ERR ...  eta: 0.001\r\n",
      "T00 ERR ...  QP solver: grid\r\n",
      "T00 ERR ...  QP grid steps: 1001\r\n",
      "T00 ERR ...  QP grid spacing: 0.001\r\n",
      "T00 ERR ... 2025-5-23 5:57:7 Using 2 threads\r\n",
      "T00 ERR ... 2025-5-23 5:57:7 Using native Eigen implementation, no BLAS overload \r\n",
      "T00 ERR ... 2025-5-23 5:57:7 Molecule Coordinates [A] \r\n",
      "T00 ERR ...     0    C   30.3000 1.2704 5.5205\r\n",
      "T00 ERR ...     1    H   31.2392 1.4802 6.0301\r\n",
      "T00 ERR ...     2    H   30.4910 0.6554 4.6433\r\n",
      "T00 ERR ...     3    H   29.8500 2.2100 5.2100\r\n",
      "T00 ERR ...     4    H   29.6200 0.7500 6.2000\r\n",
      "T00 ERR ... 2025-5-23 5:57:7 DFT data was created by xtp\r\n",
      "T00 ERR ... 2025-5-23 5:57:7 Loaded DFT Basis Set 3-21G\r\n",
      "T00 ERR ... 2025-5-23 5:57:7 Filled DFT Basis of size 17\r\n",
      "T00 ERR ... 2025-5-23 5:57:7 Loaded Auxbasis Set aux-def2-svp\r\n",
      "T00 ERR ... 2025-5-23 5:57:7 Filled Auxbasis of size 104\r\n",
      "T00 ERR ... 2025-5-23 5:57:7 Calculating Mmn_beta (3-center-repulsion x orbitals)  \r\n",
      "T00 ERR ... 2025-5-23 5:57:7 Calculated Mmn_beta (3-center-repulsion x orbitals)  "
     ]
    },
    {
     "name": "stdout",
     "output_type": "stream",
     "text": [
      "\r\n",
      "T00 ERR ... 2025-5-23 5:57:7 Integrating Vxc with functional XC_HYB_GGA_XC_PBEH"
     ]
    },
    {
     "name": "stdout",
     "output_type": "stream",
     "text": [
      "\r\n",
      "T00 ERR ... 2025-5-23 5:57:7 Set hybrid exchange factor: 0.25\r\n",
      "T00 ERR ... 2025-5-23 5:57:7 Calculated exchange-correlation expectation values \r\n",
      "T00 ERR ... 2025-5-23 5:57:7 Calculated Hartree exchange contribution\r\n",
      "T00 ERR ... 2025-5-23 5:57:7 Scissor shifting DFT energies by: 0 Hrt"
     ]
    },
    {
     "name": "stdout",
     "output_type": "stream",
     "text": [
      "\r\n",
      "T00 ERR ...   ====== Perturbative quasiparticle energies (Hartree) ====== \r\n",
      "T00 ERR ...    DeltaHLGap = +0.215514 Hartree\r\n",
      "T00 ERR ...   Level =    0 DFT = -10.1479 VXC = -1.7031 S-X = -2.6689 S-C = +0.5631 GWA = -10.5506\r\n",
      "T00 ERR ...   Level =    1 DFT = -0.7122 VXC = -0.4404 S-X = -0.6606 S-C = +0.1083 GWA = -0.8241\r\n",
      "T00 ERR ...   Level =    2 DFT = -0.4030 VXC = -0.3959 S-X = -0.5286 S-C = +0.0324 GWA = -0.5033\r\n",
      "T00 ERR ...   Level =    3 DFT = -0.4014 VXC = -0.3967 S-X = -0.5298 S-C = +0.0328 GWA = -0.5015\r\n",
      "T00 ERR ...   HOMO  =    4 DFT = -0.3991 VXC = -0.3970 S-X = -0.5300 S-C = +0.0329 GWA = -0.4993\r\n",
      "T00 ERR ...   LUMO  =    5 DFT = +0.1607 VXC = -0.2418 S-X = -0.1018 S-C = -0.0246 GWA = +0.2761\r\n",
      "T00 ERR ...   Level =    6 DFT = +0.2030 VXC = -0.2616 S-X = -0.1101 S-C = -0.0238 GWA = +0.3308\r\n",
      "T00 ERR ...   Level =    7 DFT = +0.2082 VXC = -0.2612 S-X = -0.1097 S-C = -0.0239 GWA = +0.3358\r\n",
      "T00 ERR ...   Level =    8 DFT = +0.2103 VXC = -0.2613 S-X = -0.1098 S-C = -0.0238 GWA = +0.3379\r\n",
      "T00 ERR ...   Level =    9 DFT = +0.7241 VXC = -0.3183 S-X = -0.1082 S-C = -0.0635 GWA = +0.8706\r\n",
      "T00 ERR ...   Level =   10 DFT = +0.7253 VXC = -0.3182 S-X = -0.1080 S-C = -0.0638 GWA = +0.8718\r\n",
      "T00 ERR ...   Level =   11 DFT = +0.7279 VXC = -0.3177 S-X = -0.1073 S-C = -0.0643 GWA = +0.8740\r\n",
      "T00 ERR ...   Level =   12 DFT = +1.0556 VXC = -0.4047 S-X = -0.1334 S-C = -0.0323 GWA = +1.2946\r\n",
      "T00 ERR ...   Level =   13 DFT = +1.0854 VXC = -0.3963 S-X = -0.1274 S-C = -0.1740 GWA = +1.1803\r\n",
      "T00 ERR ...   Level =   14 DFT = +1.0904 VXC = -0.3953 S-X = -0.1271 S-C = -0.1730 GWA = +1.1857\r\n",
      "T00 ERR ...   Level =   15 DFT = +1.0921 VXC = -0.3946 S-X = -0.1268 S-C = -0.1726 GWA = +1.1873\r\n",
      "T00 ERR ...   Level =   16 DFT = +1.7121 VXC = -0.3559 S-X = -0.1045 S-C = -0.0297 GWA = +1.9338\r\n",
      "T00 ERR ... 2025-5-23 5:57:7 Calculated offdiagonal part of Sigma  \r\n",
      "T00 ERR ... 2025-5-23 5:57:7 Full quasiparticle Hamiltonian  \r\n",
      "T00 ERR ...   ====== Diagonalized quasiparticle energies (Hartree) ====== \r\n",
      "T00 ERR ...   Level =    0 PQP = -10.550598 DQP = -10.550784 \r\n",
      "T00 ERR ...   Level =    1 PQP = -0.824112 DQP = -0.824557 \r\n",
      "T00 ERR ...   Level =    2 PQP = -0.503318 DQP = -0.503595 \r\n",
      "T00 ERR ...   Level =    3 PQP = -0.501549 DQP = -0.501756 \r\n",
      "T00 ERR ...   HOMO  =    4 PQP = -0.499250 DQP = -0.499441 \r\n",
      "T00 ERR ...   LUMO  =    5 PQP = +0.276103 DQP = +0.267905 \r\n",
      "T00 ERR ...   Level =    6 PQP = +0.330782 DQP = +0.328894 \r\n",
      "T00 ERR ...   Level =    7 PQP = +0.335774 DQP = +0.334344 \r\n",
      "T00 ERR ...   Level =    8 PQP = +0.337931 DQP = +0.336526 \r\n",
      "T00 ERR ...   Level =    9 PQP = +0.870623 DQP = +0.868943 \r\n",
      "T00 ERR ...   Level =   10 PQP = +0.871775 DQP = +0.869913 \r\n",
      "T00 ERR ...   Level =   11 PQP = +0.873965 DQP = +0.871690 \r\n",
      "T00 ERR ...   Level =   12 PQP = +1.294581 DQP = +1.183170 \r\n",
      "T00 ERR ...   Level =   13 PQP = +1.180297 DQP = +1.189613 \r\n",
      "T00 ERR ...   Level =   14 PQP = +1.185717 DQP = +1.191519 \r\n",
      "T00 ERR ...   Level =   15 PQP = +1.187307 DQP = +1.289811 \r\n",
      "T00 ERR ...   Level =   16 PQP = +1.933788 DQP = +1.947619 \r\n",
      "T00 ERR ... 2025-5-23 5:57:7 Diagonalized QP Hamiltonian  \r\n",
      "T00 ERR ... 2025-5-23 5:57:7 GW calculation took 0.123461518 seconds.\r\n",
      "T00 ERR ... 2025-5-23 5:57:7 Setup Full triplet hamiltonian \r\n",
      "T00 ERR ... 2025-5-23 5:57:7 Davidson Solver using 2 threads.\r\n",
      "T00 ERR ... 2025-5-23 5:57:7 Tolerance : 0.0001\r\n",
      "T00 ERR ... 2025-5-23 5:57:7 DPR Correction\r\n",
      "T00 ERR ... 2025-5-23 5:57:7 Matrix size : 120x120\r\n",
      "T00 ERR ... 2025-5-23 5:57:7 iter\tSearch Space\tNorm\r\n",
      "T00 ERR ... 2025-5-23 5:57:7    0           20 \t 1.28e-01 \t  0.00% converged\r\n",
      "T00 ERR ... 2025-5-23 5:57:7    1           35 \t 1.41e-02 \t  0.00% converged\r\n",
      "T00 ERR ... 2025-5-23 5:57:7    2           50 \t 8.59e-04 \t 10.00% converged\r\n",
      "T00 ERR ... 2025-5-23 5:57:7    3           62 \t 2.81e-05 \t 100.00% converged\r\n",
      "T00 ERR ... 2025-5-23 5:57:7 Davidson converged after 3 iterations.\r\n",
      "T00 ERR ... 2025-5-23 5:57:7-----------------------------------\r\n",
      "T00 ERR ... 2025-5-23 5:57:7- Davidson ran for 0.00730263secs.\r\n",
      "T00 ERR ... 2025-5-23 5:57:7-----------------------------------\r\n",
      "T00 ERR ... 2025-5-23 5:57:7 Solved BSE for triplets \r\n",
      "T00 ERR ...   ====== triplet energies (eV) ====== \r\n",
      "T00 ERR ...   T =    1 Omega = +11.590378251005 eV  lamdba = +106.99 nm <FT> = +22.7898 <K_d> = -11.1995\r\n",
      "T00 ERR ...    \r\n",
      "T00 ERR ...   T =    2 Omega = +11.768459600282 eV  lamdba = +105.37 nm <FT> = +22.9507 <K_d> = -11.1823\r\n",
      "T00 ERR ...    \r\n",
      "T00 ERR ...   T =    3 Omega = +11.827147917124 eV  lamdba = +104.84 nm <FT> = +22.4836 <K_d> = -10.6565\r\n",
      "T00 ERR ...    \r\n",
      "T00 ERR ...   T =    4 Omega = +11.875176908402 eV  lamdba = +104.42 nm <FT> = +22.4497 <K_d> = -10.5745\r\n",
      "T00 ERR ...    \r\n",
      "T00 ERR ...   T =    5 Omega = +13.656602547575 eV  lamdba = +90.80 nm <FT> = +22.2469 <K_d> = -8.5903\r\n",
      "T00 ERR ...    \r\n",
      "T00 ERR ...   T =    6 Omega = +13.750216636578 eV  lamdba = +90.18 nm <FT> = +22.2953 <K_d> = -8.5451\r\n",
      "T00 ERR ...    \r\n",
      "T00 ERR ...   T =    7 Omega = +13.943325046038 eV  lamdba = +88.93 nm <FT> = +22.3953 <K_d> = -8.4519\r\n",
      "T00 ERR ...    \r\n",
      "T00 ERR ...   T =    8 Omega = +14.129617129992 eV  lamdba = +87.76 nm <FT> = +22.7313 <K_d> = -8.6017\r\n",
      "T00 ERR ...            HOMO-0   -> LUMO+1    : 72.0%\r\n",
      "T00 ERR ...    \r\n",
      "T00 ERR ...   T =    9 Omega = +14.226395150806 eV  lamdba = +87.16 nm <FT> = +22.8418 <K_d> = -8.6154\r\n",
      "T00 ERR ...    \r\n",
      "T00 ERR ...   T =   10 Omega = +14.374727953330 eV  lamdba = +86.26 nm <FT> = +22.8660 <K_d> = -8.4913\r\n",
      "T00 ERR ...            HOMO-2   -> LUMO+2    : 56.1%\r\n",
      "T00 ERR ...    \r\n",
      "T00 ERR ... 2025-5-23 5:57:7 Setup Full singlet hamiltonian \r\n",
      "T00 ERR ... 2025-5-23 5:57:7 Davidson Solver using 2 threads.\r\n",
      "T00 ERR ... 2025-5-23 5:57:7 Tolerance : 0.0001\r\n",
      "T00 ERR ... 2025-5-23 5:57:7 DPR Correction\r\n",
      "T00 ERR ... 2025-5-23 5:57:7 Matrix size : 120x120\r\n",
      "T00 ERR ... 2025-5-23 5:57:7 iter\tSearch Space\tNorm\r\n",
      "T00 ERR ... 2025-5-23 5:57:7    0           20 \t 1.28e-01 \t  0.00% converged\r\n",
      "T00 ERR ... 2025-5-23 5:57:7    1           35 \t 1.29e-02 \t  0.00% converged\r\n",
      "T00 ERR ... 2025-5-23 5:57:7    2           50 \t 9.32e-04 \t 40.00% converged\r\n",
      "T00 ERR ... 2025-5-23 5:57:7    3           61 \t 3.38e-05 \t 100.00% converged\r\n",
      "T00 ERR ... 2025-5-23 5:57:7 Davidson converged after 3 iterations.\r\n",
      "T00 ERR ... 2025-5-23 5:57:7-----------------------------------\r\n",
      "T00 ERR ... 2025-5-23 5:57:7- Davidson ran for 0.008085399secs.\r\n",
      "T00 ERR ... 2025-5-23 5:57:7-----------------------------------\r\n",
      "T00 ERR ... 2025-5-23 5:57:7 Solved BSE for singlets \r\n",
      "T00 ERR ...   ====== singlet energies (eV) ====== \r\n",
      "T00 ERR ...   S =    1 Omega = +13.838520845903 eV  lamdba = +89.60 nm <FT> = +21.2209 <K_x> = +0.9775 <K_d> = -8.3599\r\n",
      "T00 ERR ...            TrDipole length gauge[e*bohr]  dx = -0.5303 dy = +0.4088 dz = -0.3397 |d|^2 = +0.5637 f = +0.1911\r\n",
      "T00 ERR ...            HOMO-0   -> LUMO+0    : 98.7%\r\n",
      "T00 ERR ... \r\n",
      "T00 ERR ...   S =    2 Omega = +13.899890198146 eV  lamdba = +89.21 nm <FT> = +21.2939 <K_x> = +1.0286 <K_d> = -8.4226\r\n",
      "T00 ERR ...            TrDipole length gauge[e*bohr]  dx = -0.1894 dy = -0.6258 dz = -0.4730 |d|^2 = +0.6512 f = +0.2218\r\n",
      "T00 ERR ...            HOMO-1   -> LUMO+0    : 97.0%\r\n",
      "T00 ERR ... \r\n",
      "T00 ERR ...   S =    3 Omega = +13.966235210328 eV  lamdba = +88.79 nm <FT> = +21.3573 <K_x> = +1.1860 <K_d> = -8.5771\r\n",
      "T00 ERR ...            TrDipole length gauge[e*bohr]  dx = -0.6224 dy = -0.3192 dz = +0.6421 |d|^2 = +0.9015 f = +0.3085\r\n",
      "T00 ERR ...            HOMO-2   -> LUMO+0    : 97.5%\r\n",
      "T00 ERR ... \r\n",
      "T00 ERR ...   S =    4 Omega = +14.551129761595 eV  lamdba = +85.22 nm <FT> = +22.7162 <K_x> = +0.3388 <K_d> = -8.5038\r\n",
      "T00 ERR ...            TrDipole length gauge[e*bohr]  dx = +0.1704 dy = -0.0703 dz = +0.0444 |d|^2 = +0.0360 f = +0.0128\r\n",
      "T00 ERR ...            HOMO-0   -> LUMO+1    : 77.0%\r\n",
      "T00 ERR ... \r\n",
      "T00 ERR ...   S =    5 Omega = +14.601150360772 eV  lamdba = +84.92 nm <FT> = +22.7821 <K_x> = +0.3233 <K_d> = -8.5043\r\n",
      "T00 ERR ...            TrDipole length gauge[e*bohr]  dx = -0.0459 dy = +0.1296 dz = +0.2162 |d|^2 = +0.0656 f = +0.0235\r\n",
      "T00 ERR ...            HOMO-1   -> LUMO+1    : 60.6%\r\n",
      "T00 ERR ... \r\n",
      "T00 ERR ...   S =    6 Omega = +14.637524140373 eV  lamdba = +84.71 nm <FT> = +22.8481 <K_x> = +0.2777 <K_d> = -8.4883\r\n",
      "T00 ERR ...            TrDipole length gauge[e*bohr]  dx = +0.1206 dy = -0.0281 dz = +0.0820 |d|^2 = +0.0221 f = +0.0079\r\n",
      "T00 ERR ...            HOMO-0   -> LUMO+2    : 55.6%\r\n",
      "T00 ERR ... \r\n",
      "T00 ERR ...   S =    7 Omega = +14.990787877183 eV  lamdba = +82.72 nm <FT> = +22.8544 <K_x> = +0.7066 <K_d> = -8.5701\r\n",
      "T00 ERR ...            TrDipole length gauge[e*bohr]  dx = -0.0540 dy = -0.0879 dz = -0.0593 |d|^2 = +0.0142 f = +0.0052\r\n",
      "T00 ERR ... \r\n",
      "T00 ERR ...   S =    8 Omega = +15.014795400452 eV  lamdba = +82.59 nm <FT> = +22.9068 <K_x> = +0.6670 <K_d> = -8.5591\r\n",
      "T00 ERR ...            TrDipole length gauge[e*bohr]  dx = -0.0178 dy = -0.0439 dz = +0.0304 |d|^2 = +0.0032 f = +0.0012\r\n",
      "T00 ERR ...            HOMO-2   -> LUMO+3    : 70.5%\r\n",
      "T00 ERR ... \r\n",
      "T00 ERR ...   S =    9 Omega = +15.998976143332 eV  lamdba = +77.50 nm <FT> = +23.1683 <K_x> = +2.1885 <K_d> = -9.3578\r\n",
      "T00 ERR ...            TrDipole length gauge[e*bohr]  dx = -0.8939 dy = -0.8746 dz = +0.5876 |d|^2 = +1.9093 f = +0.7484\r\n",
      "T00 ERR ...            HOMO-2   -> LUMO+1    : 60.5%\r\n",
      "T00 ERR ... \r\n",
      "T00 ERR ...   S =   10 Omega = +16.031815738042 eV  lamdba = +77.35 nm <FT> = +23.2251 <K_x> = +2.2797 <K_d> = -9.4730\r\n",
      "T00 ERR ...            TrDipole length gauge[e*bohr]  dx = -0.4413 dy = +1.0820 dz = +0.8254 |d|^2 = +2.0467 f = +0.8039\r\n",
      "T00 ERR ... \r\n",
      "T00 ERR ... 2025-5-23 5:57:7 BSE calculation took 0.017911725 seconds.\r\n",
      "T00 ERR ... 2025-5-23 5:57:7 GWBSE calculation finished \r\n",
      "T00 ERR ... Next State is: s1\r\n",
      "T00 ERR ... 2025-5-23 5:57:7 Evaluating polarregion 1\r\n",
      "T00 ERR ... 2025-5-23 5:57:7 Evaluating interaction between polarregion 1 and qmregion 0\r\n",
      "T00 ERR ... Next State is: s1"
     ]
    },
    {
     "name": "stdout",
     "output_type": "stream",
     "text": [
      "\r\n",
      "T00 ERR ... 2025-5-23 5:57:7 Evaluating interaction between polarregion 1 and staticregion 2"
     ]
    },
    {
     "name": "stdout",
     "output_type": "stream",
     "text": [
      "\r\n",
      "T00 ERR ... 2025-5-23 5:57:7 Starting Solving for classical polarization with 1380 degrees of freedom.\r\n",
      "T00 ERR ... 2025-5-23 5:57:7 CG: #iterations: 1, estimated error: 2.35101933824e-05\r\n",
      "T00 ERR ...   Total static energy [hrt]= 0.0009102654542\r\n",
      "T00 ERR ...   Total polar energy [hrt]= 0.0008146013497\r\n",
      "T00 ERR ...  Total energy [hrt]= 0.001724866804\r\n",
      "T00 ERR ... 2025-5-23 5:57:7 Evaluating staticregion 2\r\n",
      "T00 ERR ... 2025-5-23 5:57:7 Writing checkpoint to checkpoint_iter_10.hdf5"
     ]
    },
    {
     "name": "stdout",
     "output_type": "stream",
     "text": [
      "\r\n",
      "T00 ERR ...  Region:qmregion 0 is not converged deltaE=5.355844834e-07 RMS Dmat=6.75443818e-05 MaxDmat=0.0003882751706\r\n",
      "T00 ERR ... 2025-5-23 5:57:7 Region:polarregion 1 is converged deltaE=7.10365134e-07\r\n",
      "T00 ERR ... 2025-5-23 5:57:7 --Total Energy all regions -39.72067635\r\n",
      "T00 ERR ... 2025-5-23 5:57:7 --Inter Region SCF Iteration 11 of 50\r\n",
      "T00 ERR ... 2025-5-23 5:57:7 Evaluating qmregion 0\r\n",
      "T00 ERR ... 2025-5-23 5:57:7 Evaluating interaction between qmregion 0 and polarregion 1\r\n",
      "T00 ERR ... 2025-5-23 5:57:7 Evaluating interaction between qmregion 0 and staticregion 2\r\n",
      "T00 ERR ... Running DFT calculation\r\n",
      "T00 ERR ... 2025-5-23 5:57:7 Using 2 threads\r\n",
      "T00 ERR ... 2025-5-23 5:57:7 Using native Eigen implementation, no BLAS overload \r\n",
      "T00 ERR ...  Molecule Coordinates [A] \r\n",
      "T00 ERR ...   C   +30.3000 +1.2704 +5.5205\r\n",
      "T00 ERR ...   H   +31.2392 +1.4802 +6.0301\r\n",
      "T00 ERR ...   H   +30.4910 +0.6554 +4.6433\r\n",
      "T00 ERR ...   H   +29.8500 +2.2100 +5.2100\r\n",
      "T00 ERR ...   H   +29.6200 +0.7500 +6.2000\r\n",
      "T00 ERR ... 2025-5-23 5:57:7 Loaded DFT Basis Set 3-21G with 17 functions\r\n",
      "T00 ERR ... 2025-5-23 5:57:7 Loaded AUX Basis Set aux-def2-svp with 104 functions\r\n",
      "T00 ERR ... 2025-5-23 5:57:7 Total number of electrons: 10\r\n",
      "T00 ERR ... 2025-5-23 5:57:7 Smallest value of AOOverlap matrix is 0.03364074275\r\n",
      "T00 ERR ... 2025-5-23 5:57:7 Removed 0 basisfunction from inverse overlap matrix\r\n",
      "T00 ERR ... 2025-5-23 5:57:7 Convergence Options:\r\n",
      "T00 ERR ... \t\t Delta E [Ha]: 1e-07\r\n",
      "T00 ERR ... \t\t DIIS max error: 1e-07\r\n",
      "T00 ERR ... \t\t DIIS histlength: 20\r\n",
      "T00 ERR ... \t\t ADIIS start: 0.8\r\n",
      "T00 ERR ... \t\t DIIS start: 0.002\r\n",
      "T00 ERR ... \t\t Deleting oldest element from DIIS hist\r\n",
      "T00 ERR ... \t\t Levelshift[Ha]: 0\r\n",
      "T00 ERR ... \t\t Levelshift end: 0.2\r\n",
      "T00 ERR ... \t\t Mixing Parameter alpha: 0.7\r\n",
      "T00 ERR ... 2025-5-23 5:57:7 Setup invariant parts of Electron Repulsion integrals \r\n",
      "T00 ERR ... 2025-5-23 5:57:7 Constructed independent particle hamiltonian \r\n",
      "T00 ERR ... 2025-5-23 5:57:7 Nuclear Repulsion Energy is 13.4434088\r\n",
      "T00 ERR ... 2025-5-23 5:57:7 1350 External sites\r\n",
      "T00 ERR ...  Name      Coordinates[a0]     charge[e]         dipole[e*a0]    \r\n",
      "T00 ERR ...   C   +63.8902 +7.9543 +11.0171   -0.3282   +0.0090 +0.0011 -0.0060\r\n",
      "T00 ERR ...   H   +62.3892 +6.5470 +10.9796   +0.0824   +0.0094 +0.0029 -0.0001\r\n",
      "T00 ERR ...   H   +65.3194 +7.4736 +9.6186   +0.0822   +0.0038 -0.0009 -0.0023\r\n",
      "T00 ERR ...   H   +63.1170 +9.8077 +10.6203   +0.0817   +0.0015 +0.0014 +0.0010\r\n",
      "T00 ERR ...   H   +64.7422 +7.9557 +12.9068   +0.0819   +0.0043 +0.0033 -0.0007\r\n",
      "T00 ERR ...   C   +63.9128 -0.3996 +22.8673   -0.3282   -0.0029 +0.0014 +0.0052\r\n",
      "T00 ERR ...   H   +63.0449 -1.1731 +21.1692   +0.0824   -0.0001 -0.0006 +0.0015\r\n",
      "T00 ERR ...   H   +62.7676 +1.1530 +23.5795   +0.0822   -0.0015 +0.0049 +0.0022\r\n",
      "T00 ERR ...   H   +64.0430 -1.8922 +24.2830   +0.0817   +0.0010 -0.0004 -0.0009\r\n",
      "T00 ERR ...   H   +65.8004 +0.2810 +22.4122   +0.0819   -0.0036 -0.0009 +0.0017\r\n",
      "T00 ERR ...   C   +61.7182 -0.4374 -3.3115   -0.3282   -0.0002 -0.0018 +0.0010\r\n",
      "T00 ERR ...   H   +60.6600 -1.0798 -4.9554   +0.0824   +0.0011 +0.0014 +0.0012\r\n",
      "T00 ERR ...   H   +63.3309 +0.6815 -3.9252   +0.0822   -0.0014 -0.0019 -0.0006\r\n",
      "T00 ERR ...   H   +62.3800 -2.0623 -2.2148   +0.0817   +0.0010 -0.0019 +0.0013\r\n",
      "T00 ERR ...   H   +60.5092 +0.7345 -2.1392   +0.0819   -0.0027 -0.0035 -0.0019\r\n",
      "T00 ERR ...   C   +62.0402 +12.7739 +4.5175   -0.3282   +0.0027 +0.0004 +0.0017\r\n",
      "T00 ERR ...   H   +60.1049 +13.3052 +4.0622   +0.0824   +0.0002 -0.0013 -0.0010\r\n",
      "T00 ERR ...   H   +62.0812 +11.8167 +6.3372   +0.0822   +0.0006 -0.0022 -0.0015\r\n",
      "T00 ERR ...   H   +63.2115 +14.4753 +4.6109   +0.0817   +0.0028 +0.0023 +0.0014\r\n",
      "T00 ERR ...   H   +62.7769 +11.5084 +3.0803   +0.0819   -0.0003 -0.0009 +0.0006\r\n",
      "T00 ERR ...   C   +60.6789 +14.3239 +12.6808   -0.3282   -0.0020 +0.0028 +0.0014\r\n",
      "T00 ERR ...   H   +61.0756 +13.9461 +10.6972   +0.0824   -0.0038 +0.0040 -0.0004\r\n",
      "T00 ERR ...   H   +61.0224 +16.3108 +13.0851   +0.0822   -0.0001 +0.0006 +0.0033\r\n",
      "T00 ERR ...   H   +58.7327 +13.8328 +13.0580   +0.0817   +0.0007 -0.0002 +0.0003\r\n",
      "T00 ERR ...   H   +61.9074 +13.1525 +13.8517   +0.0819   -0.0006 -0.0006 +0.0035\r\n",
      "T00 ERR ...   C   +68.7870 +4.1961 +17.9521   -0.3282   +0.0049 +0.0003 +0.0063\r\n",
      "T00 ERR ...   H   +68.2015 +2.4962 +18.9532   +0.0824   +0.0001 -0.0005 -0.0013\r\n",
      "T00 ERR ...   H   +67.2445 +4.8625 +16.7665   +0.0822   +0.0015 -0.0030 +0.0028\r\n",
      "T00 ERR ...   H   +70.4303 +3.7606 +16.7997   +0.0817   -0.0007 +0.0010 +0.0004\r\n",
      "T00 ERR ...   H   +69.2964 +5.6503 +19.3130   +0.0819   +0.0011 +0.0009 +0.0055\r\n",
      "T00 ERR ...   C   +54.0832 +4.4983 +27.1938   -0.3282   -0.0007 -0.0025 -0.0012\r\n",
      "T00 ERR ...   H   +53.5372 +6.4564 +27.5139   +0.0824   -0.0012 -0.0015 +0.0002\r\n",
      "T00 ERR ...   H   +52.9768 +3.2670 +28.4141   +0.0822   -0.0007 -0.0015 +0.0003\r\n",
      "T00 ERR ...   H   +53.7249 +4.0062 +25.2278   +0.0817   +0.0021 -0.0009 +0.0002\r\n",
      "T00 ERR ...   H   +56.0682 +4.2330 +27.6278   +0.0819   -0.0032 +0.0014 -0.0015\r\n",
      "T00 ERR ...   C   +63.8174 +6.3112 -1.0788   -0.3282   -0.0007 -0.0003 -0.0004\r\n",
      "T00 ERR ...   H   +65.2393 +6.4796 +0.3993   +0.0824   -0.0003 -0.0010 +0.0014\r\n",
      "T00 ERR ...   H   +62.4364 +4.8836 -0.5459   +0.0822   +0.0020 +0.0009 -0.0008\r\n",
      "T00 ERR ...   H   +64.7422 +5.7637 -2.8384   +0.0817   -0.0005 +0.0027 +0.0002\r\n",
      "T00 ERR ...   H   +62.8903 +8.1258 -1.3455   +0.0819   -0.0006 -0.0016 -0.0037\r\n",
      "T00 ERR ...   C   +64.1752 +19.2751 +7.8615   -0.3282   +0.0049 -0.0000 +0.0006\r\n",
      "T00 ERR ...   H   +62.9276 +19.0860 +6.2359   +0.0824   -0.0011 +0.0004 +0.0021\r\n",
      "T00 ERR ...   H   +63.4396 +18.1623 +9.4267   +0.0822   +0.0013 -0.0002 -0.0003\r\n",
      "T00 ERR ...   H   +66.0461 +18.6138 +7.3699   +0.0817   +0.0012 -0.0009 -0.0001\r\n",
      "T00 ERR ...   H   +64.2509 +21.2405 +8.4282   +0.0819   +0.0017 +0.0008 -0.0004\r\n",
      "T00 ERR ...   C   +61.3975 +17.7254 +18.4625   -0.3282   +0.0021 -0.0003 +0.0025\r\n",
      "T00 ERR ...   H   +60.9990 +19.0346 +16.9256   +0.0824   -0.0004 +0.0012 +0.0002\r\n",
      "T00 ERR ...   H   +61.0958 +18.6680 +20.2653   +0.0822   +0.0001 +0.0000 +0.0003\r\n",
      "T00 ERR ...   H   +60.1502 +16.1005 +18.3303   +0.0817   +0.0028 +0.0005 -0.0006\r\n",
      "T00 ERR ...   H   +63.3627 +17.1020 +18.3492   +0.0819   -0.0014 -0.0005 +0.0014\r\n",
      "T00 ERR ...               ... (1300 sites not displayed)\r\n"
     ]
    },
    {
     "name": "stdout",
     "output_type": "stream",
     "text": [
      "\r\n",
      "T00 ERR ... 2025-5-23 5:57:7 Filled DFT external multipole potential matrix\r\n",
      "T00 ERR ... 2025-5-23 5:57:7 Nuclei-external site interaction energy 0.0204347161\r\n",
      "T00 ERR ... 2025-5-23 5:57:7 Using hybrid functional with alpha=0.25\r\n",
      "T00 ERR ... 2025-5-23 5:57:7 Setup numerical integration grid medium for vxc functional XC_HYB_GGA_XC_PBEH\r\n",
      "T00 ERR ... 2025-5-23 5:57:7 Setup Initial Guess using: atom\r\n",
      "T00 ERR ... 2025-5-23 5:57:7 Calculating atom density for C"
     ]
    },
    {
     "name": "stdout",
     "output_type": "stream",
     "text": [
      "\r\n",
      "T00 ERR ... 2025-5-23 5:57:8 Calculating atom density for H"
     ]
    },
    {
     "name": "stdout",
     "output_type": "stream",
     "text": [
      "\r\n",
      "T00 ERR ... 2025-5-23 5:57:8 STARTING SCF cycle\r\n",
      "T00 ERR ...  --------------------------------------------------------------------------\r\n",
      "T00 ERR ... \r\n",
      "T00 ERR ... 2025-5-23 5:57:8 Iteration 1 of 100"
     ]
    },
    {
     "name": "stdout",
     "output_type": "stream",
     "text": [
      "\r\n",
      "T00 ERR ... 2025-5-23 5:57:8 Total Energy -40.1456588366\r\n",
      "T00 ERR ... 2025-5-23 5:57:8 DIIs error 0.219656567759\r\n",
      "T00 ERR ... 2025-5-23 5:57:8 Delta Etot 0\r\n",
      "T00 ERR ... \r\n",
      "T00 ERR ... 2025-5-23 5:57:8 Iteration 2 of 100"
     ]
    },
    {
     "name": "stdout",
     "output_type": "stream",
     "text": [
      "\r\n",
      "T00 ERR ... 2025-5-23 5:57:8 Total Energy -40.1815772378\r\n",
      "T00 ERR ... 2025-5-23 5:57:8 DIIs error 0.1287641267\r\n",
      "T00 ERR ... 2025-5-23 5:57:8 Delta Etot -0.035918401156\r\n",
      "T00 ERR ... \r\n",
      "T00 ERR ... 2025-5-23 5:57:8 Iteration 3 of 100"
     ]
    },
    {
     "name": "stdout",
     "output_type": "stream",
     "text": [
      "\r\n",
      "T00 ERR ... 2025-5-23 5:57:8 Total Energy -40.1980514636\r\n",
      "T00 ERR ... 2025-5-23 5:57:8 DIIs error 0.0793380633235\r\n",
      "T00 ERR ... 2025-5-23 5:57:8 Delta Etot -0.0164742258368\r\n",
      "T00 ERR ... \r\n",
      "T00 ERR ... 2025-5-23 5:57:8 Iteration 4 of 100"
     ]
    },
    {
     "name": "stdout",
     "output_type": "stream",
     "text": [
      "\r\n",
      "T00 ERR ... 2025-5-23 5:57:8 Total Energy -40.2287121796\r\n",
      "T00 ERR ... 2025-5-23 5:57:8 DIIs error 0.0296185737691\r\n",
      "T00 ERR ... 2025-5-23 5:57:8 Delta Etot -0.0306607159857\r\n",
      "T00 ERR ... \r\n",
      "T00 ERR ... 2025-5-23 5:57:8 Iteration 5 of 100"
     ]
    },
    {
     "name": "stdout",
     "output_type": "stream",
     "text": [
      "\r\n",
      "T00 ERR ... 2025-5-23 5:57:8 Total Energy -40.2286042978\r\n",
      "T00 ERR ... 2025-5-23 5:57:8 DIIs error 0.0311986208618\r\n",
      "T00 ERR ... 2025-5-23 5:57:8 Delta Etot 0.000107881798925\r\n",
      "T00 ERR ... \r\n",
      "T00 ERR ... 2025-5-23 5:57:8 Iteration 6 of 100"
     ]
    },
    {
     "name": "stdout",
     "output_type": "stream",
     "text": [
      "\r\n",
      "T00 ERR ... 2025-5-23 5:57:9 Total Energy -40.2309556284\r\n",
      "T00 ERR ... 2025-5-23 5:57:9 DIIs error 0.0003189461822\r\n",
      "T00 ERR ... 2025-5-23 5:57:9 Delta Etot -0.00235133055178\r\n",
      "T00 ERR ... \r\n",
      "T00 ERR ... 2025-5-23 5:57:9 Iteration 7 of 100"
     ]
    },
    {
     "name": "stdout",
     "output_type": "stream",
     "text": [
      "\r\n",
      "T00 ERR ... 2025-5-23 5:57:9 Total Energy -40.2309558833\r\n",
      "T00 ERR ... 2025-5-23 5:57:9 DIIs error 2.04299058653e-05\r\n",
      "T00 ERR ... 2025-5-23 5:57:9 Delta Etot -2.5489475064e-07\r\n",
      "T00 ERR ... \r\n",
      "T00 ERR ... 2025-5-23 5:57:9 Iteration 8 of 100"
     ]
    },
    {
     "name": "stdout",
     "output_type": "stream",
     "text": [
      "\r\n",
      "T00 ERR ... 2025-5-23 5:57:9 Total Energy -40.2309558835\r\n",
      "T00 ERR ... 2025-5-23 5:57:9 DIIs error 1.08204104705e-05\r\n",
      "T00 ERR ... 2025-5-23 5:57:9 Delta Etot -2.42913245074e-10\r\n",
      "T00 ERR ... \r\n",
      "T00 ERR ... 2025-5-23 5:57:9 Iteration 9 of 100"
     ]
    },
    {
     "name": "stdout",
     "output_type": "stream",
     "text": [
      "\r\n",
      "T00 ERR ... 2025-5-23 5:57:9 Total Energy -40.2309558839\r\n",
      "T00 ERR ... 2025-5-23 5:57:9 DIIs error 3.4998230311e-06\r\n",
      "T00 ERR ... 2025-5-23 5:57:9 Delta Etot -3.88865828427e-10\r\n",
      "T00 ERR ... \r\n",
      "T00 ERR ... 2025-5-23 5:57:9 Iteration 10 of 100"
     ]
    },
    {
     "name": "stdout",
     "output_type": "stream",
     "text": [
      "\r\n",
      "T00 ERR ... 2025-5-23 5:57:9 Total Energy -40.2309558839\r\n",
      "T00 ERR ... 2025-5-23 5:57:9 DIIs error 9.09442077417e-07\r\n",
      "T00 ERR ... 2025-5-23 5:57:9 Delta Etot -4.53539428236e-11\r\n",
      "T00 ERR ... \r\n",
      "T00 ERR ... 2025-5-23 5:57:9 Iteration 11 of 100"
     ]
    },
    {
     "name": "stdout",
     "output_type": "stream",
     "text": [
      "\r\n",
      "T00 ERR ... 2025-5-23 5:57:9 Total Energy -40.2309558839\r\n",
      "T00 ERR ... 2025-5-23 5:57:9 DIIs error 1.36281943265e-09\r\n",
      "T00 ERR ... 2025-5-23 5:57:9 Delta Etot -2.96296320812e-12\r\n",
      "T00 ERR ... 2025-5-23 5:57:9 Total Energy has converged to -2.96296321e-12[Ha] after 11 iterations. DIIS error is converged up to 1.36281943e-09\r\n",
      "T00 ERR ... 2025-5-23 5:57:9 Final Single Point Energy -40.2309558839 Ha\r\n",
      "T00 ERR ... 2025-5-23 5:57:9 Final Local Exc contribution -5.18429662278 Ha\r\n",
      "T00 ERR ... 2025-5-23 5:57:9 Final Non Local Ex contribution -1.6392662868 Ha\r\n",
      "T00 ERR ...   Orbital energies: \r\n",
      "T00 ERR ...   index occupation energy(Hartree) \r\n",
      "T00 ERR ...      0      2   -10.1479483211\r\n",
      "T00 ERR ...      1      2   -0.7122264930\r\n",
      "T00 ERR ...      2      2   -0.4030285345\r\n",
      "T00 ERR ...      3      2   -0.4013497202\r\n",
      "T00 ERR ...      4      2   -0.3991081614\r\n",
      "T00 ERR ...      5      0   +0.1607308508\r\n",
      "T00 ERR ...      6      0   +0.2030118659\r\n",
      "T00 ERR ...      7      0   +0.2081611298\r\n",
      "T00 ERR ...      8      0   +0.2102899897\r\n",
      "T00 ERR ...      9      0   +0.7241156443\r\n",
      "T00 ERR ...     10      0   +0.7253274160\r\n",
      "T00 ERR ...     11      0   +0.7278607800\r\n",
      "T00 ERR ...     12      0   +1.0556243848\r\n",
      "T00 ERR ...     13      0   +1.0853999782\r\n",
      "T00 ERR ...     14      0   +1.0904263813\r\n",
      "T00 ERR ...     15      0   +1.0921194728\r\n",
      "T00 ERR ...     16      0   +1.7121081955\r\n",
      "T00 ERR ... 2025-5-23 5:57:9 Electric Dipole is[e*bohr]:\r\n",
      "\t\t dx=0.0194054623402\r\n",
      "\t\t dy=0.0353595388585\r\n",
      "\t\t dz=-0.0143011207837\r\n",
      "T00 ERR ... Writing result to temp.orb\r\n",
      "T00 ERR ... 2025-5-23 5:57:9 DFT calculation took 1.679710695 seconds.\r\n",
      "T00 ERR ... 2025-5-23 5:57:9 RPA level range [0:16]\r\n",
      "T00 ERR ... 2025-5-23 5:57:9 GW  level range [0:16]\r\n",
      "T00 ERR ... 2025-5-23 5:57:9 BSE level range occ[0:4]  virt[5:16]\r\n",
      "T00 ERR ...  BSE type: full\r\n",
      "T00 ERR ... 2025-5-23 5:57:9 BSE Hamiltonian has size 120x120\r\n",
      "T00 ERR ...  BSE without Hqp offdiagonal elements\r\n",
      "T00 ERR ...  Running GW as: G0W0\r\n",
      "T00 ERR ...  qp_sc_limit [Hartree]: 1e-05\r\n",
      "T00 ERR ...  Tasks: \r\n",
      "T00 ERR ...  GW \r\n",
      "T00 ERR ...  singlets \r\n",
      "T00 ERR ...  triplets \r\n",
      "T00 ERR ...  Store: \r\n",
      "T00 ERR ...  GW \r\n",
      "T00 ERR ...  Sigma integration: ppm\r\n",
      "T00 ERR ...  eta: 0.001\r\n",
      "T00 ERR ...  QP solver: grid\r\n",
      "T00 ERR ...  QP grid steps: 1001\r\n",
      "T00 ERR ...  QP grid spacing: 0.001\r\n",
      "T00 ERR ... 2025-5-23 5:57:9 Using 2 threads\r\n",
      "T00 ERR ... 2025-5-23 5:57:9 Using native Eigen implementation, no BLAS overload \r\n",
      "T00 ERR ... 2025-5-23 5:57:9 Molecule Coordinates [A] \r\n",
      "T00 ERR ...     0    C   30.3000 1.2704 5.5205\r\n",
      "T00 ERR ...     1    H   31.2392 1.4802 6.0301\r\n",
      "T00 ERR ...     2    H   30.4910 0.6554 4.6433\r\n",
      "T00 ERR ...     3    H   29.8500 2.2100 5.2100\r\n",
      "T00 ERR ...     4    H   29.6200 0.7500 6.2000\r\n",
      "T00 ERR ... 2025-5-23 5:57:9 DFT data was created by xtp\r\n",
      "T00 ERR ... 2025-5-23 5:57:9 Loaded DFT Basis Set 3-21G\r\n",
      "T00 ERR ... 2025-5-23 5:57:9 Filled DFT Basis of size 17\r\n",
      "T00 ERR ... 2025-5-23 5:57:9 Loaded Auxbasis Set aux-def2-svp"
     ]
    },
    {
     "name": "stdout",
     "output_type": "stream",
     "text": [
      "\r\n",
      "T00 ERR ... 2025-5-23 5:57:9 Filled Auxbasis of size 104\r\n",
      "T00 ERR ... 2025-5-23 5:57:9 Calculating Mmn_beta (3-center-repulsion x orbitals)  \r\n",
      "T00 ERR ... 2025-5-23 5:57:9 Calculated Mmn_beta (3-center-repulsion x orbitals)  \r\n",
      "T00 ERR ... 2025-5-23 5:57:9 Integrating Vxc with functional XC_HYB_GGA_XC_PBEH"
     ]
    },
    {
     "name": "stdout",
     "output_type": "stream",
     "text": [
      "\r\n",
      "T00 ERR ... 2025-5-23 5:57:9 Set hybrid exchange factor: 0.25\r\n",
      "T00 ERR ... 2025-5-23 5:57:9 Calculated exchange-correlation expectation values \r\n",
      "T00 ERR ... 2025-5-23 5:57:9 Calculated Hartree exchange contribution\r\n",
      "T00 ERR ... 2025-5-23 5:57:9 Scissor shifting DFT energies by: 0 Hrt"
     ]
    },
    {
     "name": "stdout",
     "output_type": "stream",
     "text": [
      "\r\n",
      "T00 ERR ...   ====== Perturbative quasiparticle energies (Hartree) ====== \r\n",
      "T00 ERR ...    DeltaHLGap = +0.215514 Hartree\r\n",
      "T00 ERR ...   Level =    0 DFT = -10.1479 VXC = -1.7031 S-X = -2.6689 S-C = +0.5631 GWA = -10.5506\r\n",
      "T00 ERR ...   Level =    1 DFT = -0.7122 VXC = -0.4404 S-X = -0.6606 S-C = +0.1083 GWA = -0.8241\r\n",
      "T00 ERR ...   Level =    2 DFT = -0.4030 VXC = -0.3959 S-X = -0.5286 S-C = +0.0324 GWA = -0.5033\r\n",
      "T00 ERR ...   Level =    3 DFT = -0.4013 VXC = -0.3967 S-X = -0.5298 S-C = +0.0328 GWA = -0.5015\r\n",
      "T00 ERR ...   HOMO  =    4 DFT = -0.3991 VXC = -0.3970 S-X = -0.5300 S-C = +0.0329 GWA = -0.4992\r\n",
      "T00 ERR ...   LUMO  =    5 DFT = +0.1607 VXC = -0.2418 S-X = -0.1018 S-C = -0.0246 GWA = +0.2761\r\n",
      "T00 ERR ...   Level =    6 DFT = +0.2030 VXC = -0.2616 S-X = -0.1101 S-C = -0.0238 GWA = +0.3308\r\n",
      "T00 ERR ...   Level =    7 DFT = +0.2082 VXC = -0.2612 S-X = -0.1097 S-C = -0.0239 GWA = +0.3358\r\n",
      "T00 ERR ...   Level =    8 DFT = +0.2103 VXC = -0.2613 S-X = -0.1098 S-C = -0.0238 GWA = +0.3379\r\n",
      "T00 ERR ...   Level =    9 DFT = +0.7241 VXC = -0.3183 S-X = -0.1082 S-C = -0.0635 GWA = +0.8706\r\n",
      "T00 ERR ...   Level =   10 DFT = +0.7253 VXC = -0.3182 S-X = -0.1080 S-C = -0.0638 GWA = +0.8718\r\n",
      "T00 ERR ...   Level =   11 DFT = +0.7279 VXC = -0.3177 S-X = -0.1073 S-C = -0.0643 GWA = +0.8740\r\n",
      "T00 ERR ...   Level =   12 DFT = +1.0556 VXC = -0.4047 S-X = -0.1334 S-C = -0.0323 GWA = +1.2946\r\n",
      "T00 ERR ...   Level =   13 DFT = +1.0854 VXC = -0.3963 S-X = -0.1274 S-C = -0.1740 GWA = +1.1803\r\n",
      "T00 ERR ...   Level =   14 DFT = +1.0904 VXC = -0.3953 S-X = -0.1271 S-C = -0.1730 GWA = +1.1857\r\n",
      "T00 ERR ...   Level =   15 DFT = +1.0921 VXC = -0.3946 S-X = -0.1268 S-C = -0.1726 GWA = +1.1873\r\n",
      "T00 ERR ...   Level =   16 DFT = +1.7121 VXC = -0.3559 S-X = -0.1045 S-C = -0.0297 GWA = +1.9338\r\n",
      "T00 ERR ... 2025-5-23 5:57:9 Calculated offdiagonal part of Sigma  \r\n",
      "T00 ERR ... 2025-5-23 5:57:9 Full quasiparticle Hamiltonian  \r\n",
      "T00 ERR ...   ====== Diagonalized quasiparticle energies (Hartree) ====== \r\n",
      "T00 ERR ...   Level =    0 PQP = -10.550598 DQP = -10.550783 \r\n",
      "T00 ERR ...   Level =    1 PQP = -0.824112 DQP = -0.824556 \r\n",
      "T00 ERR ...   Level =    2 PQP = -0.503319 DQP = -0.503595 \r\n",
      "T00 ERR ...   Level =    3 PQP = -0.501549 DQP = -0.501755 \r\n",
      "T00 ERR ...   HOMO  =    4 PQP = -0.499250 DQP = -0.499441 \r\n",
      "T00 ERR ...   LUMO  =    5 PQP = +0.276103 DQP = +0.267905 \r\n",
      "T00 ERR ...   Level =    6 PQP = +0.330781 DQP = +0.328895 \r\n",
      "T00 ERR ...   Level =    7 PQP = +0.335775 DQP = +0.334345 \r\n",
      "T00 ERR ...   Level =    8 PQP = +0.337931 DQP = +0.336525 \r\n",
      "T00 ERR ...   Level =    9 PQP = +0.870624 DQP = +0.868943 \r\n",
      "T00 ERR ...   Level =   10 PQP = +0.871775 DQP = +0.869913 \r\n",
      "T00 ERR ...   Level =   11 PQP = +0.873965 DQP = +0.871690 \r\n",
      "T00 ERR ...   Level =   12 PQP = +1.294580 DQP = +1.183178 \r\n",
      "T00 ERR ...   Level =   13 PQP = +1.180307 DQP = +1.189614 \r\n",
      "T00 ERR ...   Level =   14 PQP = +1.185717 DQP = +1.191513 \r\n",
      "T00 ERR ...   Level =   15 PQP = +1.187297 DQP = +1.289810 \r\n",
      "T00 ERR ...   Level =   16 PQP = +1.933788 DQP = +1.947619 \r\n",
      "T00 ERR ... 2025-5-23 5:57:9 Diagonalized QP Hamiltonian  \r\n",
      "T00 ERR ... 2025-5-23 5:57:9 GW calculation took 0.125988279 seconds.\r\n",
      "T00 ERR ... 2025-5-23 5:57:9 Setup Full triplet hamiltonian \r\n",
      "T00 ERR ... 2025-5-23 5:57:9 Davidson Solver using 2 threads.\r\n",
      "T00 ERR ... 2025-5-23 5:57:9 Tolerance : 0.0001\r\n",
      "T00 ERR ... 2025-5-23 5:57:9 DPR Correction\r\n",
      "T00 ERR ... 2025-5-23 5:57:9 Matrix size : 120x120\r\n",
      "T00 ERR ... 2025-5-23 5:57:9 iter\tSearch Space\tNorm\r\n",
      "T00 ERR ... 2025-5-23 5:57:9    0           20 \t 1.28e-01 \t  0.00% converged\r\n",
      "T00 ERR ... 2025-5-23 5:57:9    1           35 \t 1.41e-02 \t  0.00% converged\r\n",
      "T00 ERR ... 2025-5-23 5:57:9    2           50 \t 8.59e-04 \t 10.00% converged\r\n",
      "T00 ERR ... 2025-5-23 5:57:9    3           62 \t 2.81e-05 \t 100.00% converged\r\n",
      "T00 ERR ... 2025-5-23 5:57:9 Davidson converged after 3 iterations.\r\n",
      "T00 ERR ... 2025-5-23 5:57:9-----------------------------------\r\n",
      "T00 ERR ... 2025-5-23 5:57:9- Davidson ran for 0.007229012secs.\r\n",
      "T00 ERR ... 2025-5-23 5:57:9-----------------------------------\r\n",
      "T00 ERR ... 2025-5-23 5:57:9 Solved BSE for triplets \r\n",
      "T00 ERR ...   ====== triplet energies (eV) ====== \r\n",
      "T00 ERR ...   T =    1 Omega = +11.590344971901 eV  lamdba = +106.99 nm <FT> = +22.7897 <K_d> = -11.1994\r\n",
      "T00 ERR ...    \r\n",
      "T00 ERR ...   T =    2 Omega = +11.768470634394 eV  lamdba = +105.37 nm <FT> = +22.9508 <K_d> = -11.1824\r\n",
      "T00 ERR ...    \r\n",
      "T00 ERR ...   T =    3 Omega = +11.827182819555 eV  lamdba = +104.84 nm <FT> = +22.4838 <K_d> = -10.6567\r\n",
      "T00 ERR ...    \r\n",
      "T00 ERR ...   T =    4 Omega = +11.875166718330 eV  lamdba = +104.42 nm <FT> = +22.4496 <K_d> = -10.5744\r\n",
      "T00 ERR ...    \r\n",
      "T00 ERR ...   T =    5 Omega = +13.656575507226 eV  lamdba = +90.80 nm <FT> = +22.2469 <K_d> = -8.5903\r\n",
      "T00 ERR ...    \r\n",
      "T00 ERR ...   T =    6 Omega = +13.750177897106 eV  lamdba = +90.18 nm <FT> = +22.2952 <K_d> = -8.5451\r\n",
      "T00 ERR ...    \r\n",
      "T00 ERR ...   T =    7 Omega = +13.943357642810 eV  lamdba = +88.93 nm <FT> = +22.3953 <K_d> = -8.4519\r\n",
      "T00 ERR ...    \r\n",
      "T00 ERR ...   T =    8 Omega = +14.129606648019 eV  lamdba = +87.76 nm <FT> = +22.7313 <K_d> = -8.6017\r\n",
      "T00 ERR ...            HOMO-0   -> LUMO+1    : 72.0%\r\n",
      "T00 ERR ...    \r\n",
      "T00 ERR ...   T =    9 Omega = +14.226405980502 eV  lamdba = +87.16 nm <FT> = +22.8418 <K_d> = -8.6154\r\n",
      "T00 ERR ...    \r\n",
      "T00 ERR ...   T =   10 Omega = +14.374752757977 eV  lamdba = +86.26 nm <FT> = +22.8660 <K_d> = -8.4913\r\n",
      "T00 ERR ...            HOMO-2   -> LUMO+2    : 56.0%\r\n",
      "T00 ERR ...    \r\n",
      "T00 ERR ... 2025-5-23 5:57:9 Setup Full singlet hamiltonian \r\n",
      "T00 ERR ... 2025-5-23 5:57:9 Davidson Solver using 2 threads.\r\n",
      "T00 ERR ... 2025-5-23 5:57:9 Tolerance : 0.0001\r\n",
      "T00 ERR ... 2025-5-23 5:57:9 DPR Correction\r\n",
      "T00 ERR ... 2025-5-23 5:57:9 Matrix size : 120x120\r\n",
      "T00 ERR ... 2025-5-23 5:57:9 iter\tSearch Space\tNorm\r\n",
      "T00 ERR ... 2025-5-23 5:57:9    0           20 \t 1.28e-01 \t  0.00% converged\r\n",
      "T00 ERR ... 2025-5-23 5:57:9    1           35 \t 1.29e-02 \t  0.00% converged\r\n",
      "T00 ERR ... 2025-5-23 5:57:9    2           50 \t 9.32e-04 \t 40.00% converged\r\n",
      "T00 ERR ... 2025-5-23 5:57:9    3           61 \t 3.38e-05 \t 100.00% converged\r\n",
      "T00 ERR ... 2025-5-23 5:57:9 Davidson converged after 3 iterations.\r\n",
      "T00 ERR ... 2025-5-23 5:57:9-----------------------------------\r\n",
      "T00 ERR ... 2025-5-23 5:57:9- Davidson ran for 0.008092713secs.\r\n",
      "T00 ERR ... 2025-5-23 5:57:9-----------------------------------\r\n",
      "T00 ERR ... 2025-5-23 5:57:9 Solved BSE for singlets \r\n",
      "T00 ERR ...   ====== singlet energies (eV) ====== \r\n",
      "T00 ERR ...   S =    1 Omega = +13.838506640197 eV  lamdba = +89.61 nm <FT> = +21.2209 <K_x> = +0.9775 <K_d> = -8.3599\r\n",
      "T00 ERR ...            TrDipole length gauge[e*bohr]  dx = -0.5303 dy = +0.4087 dz = -0.3397 |d|^2 = +0.5637 f = +0.1911\r\n",
      "T00 ERR ...            HOMO-0   -> LUMO+0    : 98.7%\r\n",
      "T00 ERR ... \r\n",
      "T00 ERR ...   S =    2 Omega = +13.899873480363 eV  lamdba = +89.21 nm <FT> = +21.2939 <K_x> = +1.0286 <K_d> = -8.4226\r\n",
      "T00 ERR ...            TrDipole length gauge[e*bohr]  dx = -0.1892 dy = -0.6258 dz = -0.4730 |d|^2 = +0.6512 f = +0.2218\r\n",
      "T00 ERR ...            HOMO-1   -> LUMO+0    : 97.0%\r\n",
      "T00 ERR ... \r\n",
      "T00 ERR ...   S =    3 Omega = +13.966246528101 eV  lamdba = +88.79 nm <FT> = +21.3573 <K_x> = +1.1861 <K_d> = -8.5771\r\n",
      "T00 ERR ...            TrDipole length gauge[e*bohr]  dx = -0.6224 dy = -0.3192 dz = +0.6421 |d|^2 = +0.9016 f = +0.3085\r\n",
      "T00 ERR ...            HOMO-2   -> LUMO+0    : 97.5%\r\n",
      "T00 ERR ... \r\n",
      "T00 ERR ...   S =    4 Omega = +14.551119373014 eV  lamdba = +85.22 nm <FT> = +22.7161 <K_x> = +0.3388 <K_d> = -8.5038\r\n",
      "T00 ERR ...            TrDipole length gauge[e*bohr]  dx = +0.1704 dy = -0.0703 dz = +0.0444 |d|^2 = +0.0360 f = +0.0128\r\n",
      "T00 ERR ...            HOMO-0   -> LUMO+1    : 77.0%\r\n",
      "T00 ERR ... \r\n",
      "T00 ERR ...   S =    5 Omega = +14.601149540698 eV  lamdba = +84.92 nm <FT> = +22.7821 <K_x> = +0.3233 <K_d> = -8.5043\r\n",
      "T00 ERR ...            TrDipole length gauge[e*bohr]  dx = +0.0459 dy = -0.1296 dz = -0.2162 |d|^2 = +0.0657 f = +0.0235\r\n",
      "T00 ERR ...            HOMO-1   -> LUMO+1    : 60.6%\r\n",
      "T00 ERR ... \r\n",
      "T00 ERR ...   S =    6 Omega = +14.637535725431 eV  lamdba = +84.71 nm <FT> = +22.8482 <K_x> = +0.2777 <K_d> = -8.4883\r\n",
      "T00 ERR ...            TrDipole length gauge[e*bohr]  dx = -0.1207 dy = +0.0281 dz = -0.0820 |d|^2 = +0.0221 f = +0.0079\r\n",
      "T00 ERR ...            HOMO-0   -> LUMO+2    : 55.6%\r\n",
      "T00 ERR ... \r\n",
      "T00 ERR ...   S =    7 Omega = +14.990795226246 eV  lamdba = +82.72 nm <FT> = +22.8544 <K_x> = +0.7066 <K_d> = -8.5701\r\n",
      "T00 ERR ...            TrDipole length gauge[e*bohr]  dx = -0.0540 dy = -0.0879 dz = -0.0593 |d|^2 = +0.0142 f = +0.0052\r\n",
      "T00 ERR ... \r\n",
      "T00 ERR ...   S =    8 Omega = +15.014806800728 eV  lamdba = +82.59 nm <FT> = +22.9069 <K_x> = +0.6670 <K_d> = -8.5590\r\n",
      "T00 ERR ...            TrDipole length gauge[e*bohr]  dx = -0.0177 dy = -0.0439 dz = +0.0303 |d|^2 = +0.0032 f = +0.0012\r\n",
      "T00 ERR ...            HOMO-2   -> LUMO+3    : 70.5%\r\n",
      "T00 ERR ... \r\n",
      "T00 ERR ...   S =    9 Omega = +15.998973119260 eV  lamdba = +77.50 nm <FT> = +23.1683 <K_x> = +2.1885 <K_d> = -9.3577\r\n",
      "T00 ERR ...            TrDipole length gauge[e*bohr]  dx = -0.8939 dy = -0.8746 dz = +0.5877 |d|^2 = +1.9093 f = +0.7484\r\n",
      "T00 ERR ...            HOMO-2   -> LUMO+1    : 60.5%\r\n",
      "T00 ERR ... \r\n",
      "T00 ERR ...   S =   10 Omega = +16.031817507856 eV  lamdba = +77.35 nm <FT> = +23.2251 <K_x> = +2.2797 <K_d> = -9.4731\r\n",
      "T00 ERR ...            TrDipole length gauge[e*bohr]  dx = -0.4415 dy = +1.0821 dz = +0.8252 |d|^2 = +2.0467 f = +0.8039\r\n",
      "T00 ERR ... \r\n",
      "T00 ERR ... 2025-5-23 5:57:9 BSE calculation took 0.017979782 seconds.\r\n",
      "T00 ERR ... 2025-5-23 5:57:9 GWBSE calculation finished \r\n",
      "T00 ERR ... Next State is: s1\r\n",
      "T00 ERR ... 2025-5-23 5:57:9 Evaluating polarregion 1\r\n",
      "T00 ERR ... 2025-5-23 5:57:9 Evaluating interaction between polarregion 1 and qmregion 0"
     ]
    },
    {
     "name": "stdout",
     "output_type": "stream",
     "text": [
      "\r\n",
      "T00 ERR ... Next State is: s1"
     ]
    },
    {
     "name": "stdout",
     "output_type": "stream",
     "text": [
      "\r\n",
      "T00 ERR ... 2025-5-23 5:57:9 Evaluating interaction between polarregion 1 and staticregion 2"
     ]
    },
    {
     "name": "stdout",
     "output_type": "stream",
     "text": [
      "\r\n",
      "T00 ERR ... 2025-5-23 5:57:9 Starting Solving for classical polarization with 1380 degrees of freedom.\r\n",
      "T00 ERR ... 2025-5-23 5:57:9 CG: #iterations: 1, estimated error: 1.15274917866e-05\r\n",
      "T00 ERR ...   Total static energy [hrt]= 0.0009102654542\r\n",
      "T00 ERR ...   Total polar energy [hrt]= 0.0008149399292\r\n",
      "T00 ERR ...  Total energy [hrt]= 0.001725205383\r\n",
      "T00 ERR ... 2025-5-23 5:57:9 Evaluating staticregion 2\r\n",
      "T00 ERR ... 2025-5-23 5:57:9 Writing checkpoint to checkpoint_iter_11.hdf5"
     ]
    },
    {
     "name": "stdout",
     "output_type": "stream",
     "text": [
      "\r\n",
      "T00 ERR ...  Region:qmregion 0 is not converged deltaE=1.075990603e-06 RMS Dmat=3.268857266e-05 MaxDmat=0.0001881162372\r\n",
      "T00 ERR ... 2025-5-23 5:57:9 Region:polarregion 1 is converged deltaE=3.385795582e-07\r\n",
      "T00 ERR ... 2025-5-23 5:57:9 --Total Energy all regions -39.72067494\r\n",
      "T00 ERR ... 2025-5-23 5:57:9 --Inter Region SCF Iteration 12 of 50\r\n",
      "T00 ERR ... 2025-5-23 5:57:9 Evaluating qmregion 0\r\n",
      "T00 ERR ... 2025-5-23 5:57:9 Evaluating interaction between qmregion 0 and polarregion 1\r\n",
      "T00 ERR ... 2025-5-23 5:57:9 Evaluating interaction between qmregion 0 and staticregion 2\r\n",
      "T00 ERR ... Running DFT calculation\r\n",
      "T00 ERR ... 2025-5-23 5:57:9 Using 2 threads\r\n",
      "T00 ERR ... 2025-5-23 5:57:9 Using native Eigen implementation, no BLAS overload \r\n",
      "T00 ERR ...  Molecule Coordinates [A] \r\n",
      "T00 ERR ...   C   +30.3000 +1.2704 +5.5205\r\n",
      "T00 ERR ...   H   +31.2392 +1.4802 +6.0301\r\n",
      "T00 ERR ...   H   +30.4910 +0.6554 +4.6433\r\n",
      "T00 ERR ...   H   +29.8500 +2.2100 +5.2100\r\n",
      "T00 ERR ...   H   +29.6200 +0.7500 +6.2000\r\n",
      "T00 ERR ... 2025-5-23 5:57:9 Loaded DFT Basis Set 3-21G with 17 functions\r\n",
      "T00 ERR ... 2025-5-23 5:57:9 Loaded AUX Basis Set aux-def2-svp with 104 functions\r\n",
      "T00 ERR ... 2025-5-23 5:57:9 Total number of electrons: 10\r\n",
      "T00 ERR ... 2025-5-23 5:57:9 Smallest value of AOOverlap matrix is 0.03364074275\r\n",
      "T00 ERR ... 2025-5-23 5:57:9 Removed 0 basisfunction from inverse overlap matrix\r\n",
      "T00 ERR ... 2025-5-23 5:57:9 Convergence Options:\r\n",
      "T00 ERR ... \t\t Delta E [Ha]: 1e-07\r\n",
      "T00 ERR ... \t\t DIIS max error: 1e-07\r\n",
      "T00 ERR ... \t\t DIIS histlength: 20\r\n",
      "T00 ERR ... \t\t ADIIS start: 0.8\r\n",
      "T00 ERR ... \t\t DIIS start: 0.002\r\n",
      "T00 ERR ... \t\t Deleting oldest element from DIIS hist\r\n",
      "T00 ERR ... \t\t Levelshift[Ha]: 0\r\n",
      "T00 ERR ... \t\t Levelshift end: 0.2\r\n",
      "T00 ERR ... \t\t Mixing Parameter alpha: 0.7\r\n",
      "T00 ERR ... 2025-5-23 5:57:9 Setup invariant parts of Electron Repulsion integrals \r\n",
      "T00 ERR ... 2025-5-23 5:57:9 Constructed independent particle hamiltonian \r\n",
      "T00 ERR ... 2025-5-23 5:57:9 Nuclear Repulsion Energy is 13.4434088\r\n",
      "T00 ERR ... 2025-5-23 5:57:9 1350 External sites\r\n",
      "T00 ERR ...  Name      Coordinates[a0]     charge[e]         dipole[e*a0]    \r\n",
      "T00 ERR ...   C   +63.8902 +7.9543 +11.0171   -0.3282   +0.0090 +0.0011 -0.0060\r\n",
      "T00 ERR ...   H   +62.3892 +6.5470 +10.9796   +0.0824   +0.0094 +0.0029 -0.0001\r\n",
      "T00 ERR ...   H   +65.3194 +7.4736 +9.6186   +0.0822   +0.0038 -0.0009 -0.0023\r\n",
      "T00 ERR ...   H   +63.1170 +9.8077 +10.6203   +0.0817   +0.0015 +0.0014 +0.0010\r\n",
      "T00 ERR ...   H   +64.7422 +7.9557 +12.9068   +0.0819   +0.0043 +0.0033 -0.0007\r\n",
      "T00 ERR ...   C   +63.9128 -0.3996 +22.8673   -0.3282   -0.0029 +0.0014 +0.0052\r\n",
      "T00 ERR ...   H   +63.0449 -1.1731 +21.1692   +0.0824   -0.0001 -0.0006 +0.0015\r\n",
      "T00 ERR ...   H   +62.7676 +1.1530 +23.5795   +0.0822   -0.0015 +0.0049 +0.0022\r\n",
      "T00 ERR ...   H   +64.0430 -1.8922 +24.2830   +0.0817   +0.0010 -0.0004 -0.0009\r\n",
      "T00 ERR ...   H   +65.8004 +0.2810 +22.4122   +0.0819   -0.0036 -0.0009 +0.0017\r\n",
      "T00 ERR ...   C   +61.7182 -0.4374 -3.3115   -0.3282   -0.0002 -0.0018 +0.0010\r\n",
      "T00 ERR ...   H   +60.6600 -1.0798 -4.9554   +0.0824   +0.0011 +0.0014 +0.0012\r\n",
      "T00 ERR ...   H   +63.3309 +0.6815 -3.9252   +0.0822   -0.0014 -0.0019 -0.0006\r\n",
      "T00 ERR ...   H   +62.3800 -2.0623 -2.2148   +0.0817   +0.0010 -0.0019 +0.0013\r\n",
      "T00 ERR ...   H   +60.5092 +0.7345 -2.1392   +0.0819   -0.0027 -0.0035 -0.0019\r\n",
      "T00 ERR ...   C   +62.0402 +12.7739 +4.5175   -0.3282   +0.0027 +0.0004 +0.0017\r\n",
      "T00 ERR ...   H   +60.1049 +13.3052 +4.0622   +0.0824   +0.0002 -0.0013 -0.0010\r\n",
      "T00 ERR ...   H   +62.0812 +11.8167 +6.3372   +0.0822   +0.0006 -0.0022 -0.0015\r\n",
      "T00 ERR ...   H   +63.2115 +14.4753 +4.6109   +0.0817   +0.0028 +0.0023 +0.0014\r\n",
      "T00 ERR ...   H   +62.7769 +11.5084 +3.0803   +0.0819   -0.0003 -0.0009 +0.0006\r\n",
      "T00 ERR ...   C   +60.6789 +14.3239 +12.6808   -0.3282   -0.0020 +0.0028 +0.0014\r\n",
      "T00 ERR ...   H   +61.0756 +13.9461 +10.6972   +0.0824   -0.0038 +0.0040 -0.0004\r\n",
      "T00 ERR ...   H   +61.0224 +16.3108 +13.0851   +0.0822   -0.0001 +0.0006 +0.0033\r\n",
      "T00 ERR ...   H   +58.7327 +13.8328 +13.0580   +0.0817   +0.0007 -0.0002 +0.0003\r\n",
      "T00 ERR ...   H   +61.9074 +13.1525 +13.8517   +0.0819   -0.0006 -0.0006 +0.0035\r\n",
      "T00 ERR ...   C   +68.7870 +4.1961 +17.9521   -0.3282   +0.0049 +0.0003 +0.0063\r\n",
      "T00 ERR ...   H   +68.2015 +2.4962 +18.9532   +0.0824   +0.0001 -0.0005 -0.0013\r\n",
      "T00 ERR ...   H   +67.2445 +4.8625 +16.7665   +0.0822   +0.0015 -0.0030 +0.0028\r\n",
      "T00 ERR ...   H   +70.4303 +3.7606 +16.7997   +0.0817   -0.0007 +0.0010 +0.0004\r\n",
      "T00 ERR ...   H   +69.2964 +5.6503 +19.3130   +0.0819   +0.0011 +0.0009 +0.0055\r\n",
      "T00 ERR ...   C   +54.0832 +4.4983 +27.1938   -0.3282   -0.0007 -0.0025 -0.0012\r\n",
      "T00 ERR ...   H   +53.5372 +6.4564 +27.5139   +0.0824   -0.0012 -0.0015 +0.0002\r\n",
      "T00 ERR ...   H   +52.9768 +3.2670 +28.4141   +0.0822   -0.0007 -0.0015 +0.0003\r\n",
      "T00 ERR ...   H   +53.7249 +4.0062 +25.2278   +0.0817   +0.0021 -0.0009 +0.0002\r\n",
      "T00 ERR ...   H   +56.0682 +4.2330 +27.6278   +0.0819   -0.0032 +0.0014 -0.0015\r\n",
      "T00 ERR ...   C   +63.8174 +6.3112 -1.0788   -0.3282   -0.0007 -0.0003 -0.0004\r\n",
      "T00 ERR ...   H   +65.2393 +6.4796 +0.3993   +0.0824   -0.0003 -0.0010 +0.0014\r\n",
      "T00 ERR ...   H   +62.4364 +4.8836 -0.5459   +0.0822   +0.0020 +0.0009 -0.0008\r\n",
      "T00 ERR ...   H   +64.7422 +5.7637 -2.8384   +0.0817   -0.0005 +0.0027 +0.0002\r\n",
      "T00 ERR ...   H   +62.8903 +8.1258 -1.3455   +0.0819   -0.0006 -0.0016 -0.0037\r\n",
      "T00 ERR ...   C   +64.1752 +19.2751 +7.8615   -0.3282   +0.0049 -0.0000 +0.0006\r\n",
      "T00 ERR ...   H   +62.9276 +19.0860 +6.2359   +0.0824   -0.0011 +0.0004 +0.0021\r\n",
      "T00 ERR ...   H   +63.4396 +18.1623 +9.4267   +0.0822   +0.0013 -0.0002 -0.0003\r\n",
      "T00 ERR ...   H   +66.0461 +18.6138 +7.3699   +0.0817   +0.0012 -0.0009 -0.0001\r\n",
      "T00 ERR ...   H   +64.2509 +21.2405 +8.4282   +0.0819   +0.0017 +0.0008 -0.0004\r\n",
      "T00 ERR ...   C   +61.3975 +17.7254 +18.4625   -0.3282   +0.0021 -0.0003 +0.0025\r\n",
      "T00 ERR ...   H   +60.9990 +19.0346 +16.9256   +0.0824   -0.0004 +0.0012 +0.0002\r\n",
      "T00 ERR ...   H   +61.0958 +18.6680 +20.2653   +0.0822   +0.0001 +0.0000 +0.0003\r\n",
      "T00 ERR ...   H   +60.1502 +16.1005 +18.3303   +0.0817   +0.0028 +0.0005 -0.0006\r\n",
      "T00 ERR ...   H   +63.3627 +17.1020 +18.3492   +0.0819   -0.0014 -0.0005 +0.0014\r\n",
      "T00 ERR ...               ... (1300 sites not displayed)\r\n"
     ]
    },
    {
     "name": "stdout",
     "output_type": "stream",
     "text": [
      "\r\n",
      "T00 ERR ... 2025-5-23 5:57:10 Filled DFT external multipole potential matrix\r\n",
      "T00 ERR ... 2025-5-23 5:57:10 Nuclei-external site interaction energy 0.0204347161\r\n",
      "T00 ERR ... 2025-5-23 5:57:10 Using hybrid functional with alpha=0.25\r\n",
      "T00 ERR ... 2025-5-23 5:57:10 Setup numerical integration grid medium for vxc functional XC_HYB_GGA_XC_PBEH\r\n",
      "T00 ERR ... 2025-5-23 5:57:10 Setup Initial Guess using: atom\r\n",
      "T00 ERR ... 2025-5-23 5:57:10 Calculating atom density for C"
     ]
    },
    {
     "name": "stdout",
     "output_type": "stream",
     "text": [
      "\r\n",
      "T00 ERR ... 2025-5-23 5:57:10 Calculating atom density for H"
     ]
    },
    {
     "name": "stdout",
     "output_type": "stream",
     "text": [
      "\r\n",
      "T00 ERR ... 2025-5-23 5:57:10 STARTING SCF cycle\r\n",
      "T00 ERR ...  --------------------------------------------------------------------------\r\n",
      "T00 ERR ... \r\n",
      "T00 ERR ... 2025-5-23 5:57:10 Iteration 1 of 100"
     ]
    },
    {
     "name": "stdout",
     "output_type": "stream",
     "text": [
      "\r\n",
      "T00 ERR ... 2025-5-23 5:57:10 Total Energy -40.1456579855\r\n",
      "T00 ERR ... 2025-5-23 5:57:10 DIIs error 0.219656567285\r\n",
      "T00 ERR ... 2025-5-23 5:57:10 Delta Etot 0\r\n",
      "T00 ERR ... \r\n",
      "T00 ERR ... 2025-5-23 5:57:10 Iteration 2 of 100"
     ]
    },
    {
     "name": "stdout",
     "output_type": "stream",
     "text": [
      "\r\n",
      "T00 ERR ... 2025-5-23 5:57:10 Total Energy -40.1815763865\r\n",
      "T00 ERR ... 2025-5-23 5:57:10 DIIs error 0.128764126699\r\n",
      "T00 ERR ... 2025-5-23 5:57:10 Delta Etot -0.035918400934\r\n",
      "T00 ERR ... \r\n",
      "T00 ERR ... 2025-5-23 5:57:10 Iteration 3 of 100"
     ]
    },
    {
     "name": "stdout",
     "output_type": "stream",
     "text": [
      "\r\n",
      "T00 ERR ... 2025-5-23 5:57:11 Total Energy -40.1980506123\r\n",
      "T00 ERR ... 2025-5-23 5:57:11 DIIs error 0.0793380633948\r\n",
      "T00 ERR ... 2025-5-23 5:57:11 Delta Etot -0.0164742257933\r\n",
      "T00 ERR ... \r\n",
      "T00 ERR ... 2025-5-23 5:57:11 Iteration 4 of 100"
     ]
    },
    {
     "name": "stdout",
     "output_type": "stream",
     "text": [
      "\r\n",
      "T00 ERR ... 2025-5-23 5:57:11 Total Energy -40.2287113281\r\n",
      "T00 ERR ... 2025-5-23 5:57:11 DIIs error 0.02961856188\r\n",
      "T00 ERR ... 2025-5-23 5:57:11 Delta Etot -0.0306607158591\r\n",
      "T00 ERR ... \r\n",
      "T00 ERR ... 2025-5-23 5:57:11 Iteration 5 of 100"
     ]
    },
    {
     "name": "stdout",
     "output_type": "stream",
     "text": [
      "\r\n",
      "T00 ERR ... 2025-5-23 5:57:11 Total Energy -40.2286034464\r\n",
      "T00 ERR ... 2025-5-23 5:57:11 DIIs error 0.0311986091432\r\n",
      "T00 ERR ... 2025-5-23 5:57:11 Delta Etot 0.00010788176445\r\n",
      "T00 ERR ... \r\n",
      "T00 ERR ... 2025-5-23 5:57:11 Iteration 6 of 100"
     ]
    },
    {
     "name": "stdout",
     "output_type": "stream",
     "text": [
      "\r\n",
      "T00 ERR ... 2025-5-23 5:57:11 Total Energy -40.2309547769\r\n",
      "T00 ERR ... 2025-5-23 5:57:11 DIIs error 0.000318946011492\r\n",
      "T00 ERR ... 2025-5-23 5:57:11 Delta Etot -0.00235133052111\r\n",
      "T00 ERR ... \r\n",
      "T00 ERR ... 2025-5-23 5:57:11 Iteration 7 of 100"
     ]
    },
    {
     "name": "stdout",
     "output_type": "stream",
     "text": [
      "\r\n",
      "T00 ERR ... 2025-5-23 5:57:11 Total Energy -40.2309550318\r\n",
      "T00 ERR ... 2025-5-23 5:57:11 DIIs error 2.04296438255e-05\r\n",
      "T00 ERR ... 2025-5-23 5:57:11 Delta Etot -2.54894587215e-07\r\n",
      "T00 ERR ... \r\n",
      "T00 ERR ... 2025-5-23 5:57:11 Iteration 8 of 100"
     ]
    },
    {
     "name": "stdout",
     "output_type": "stream",
     "text": [
      "\r\n",
      "T00 ERR ... 2025-5-23 5:57:11 Total Energy -40.230955032\r\n",
      "T00 ERR ... 2025-5-23 5:57:11 DIIs error 1.08203846068e-05\r\n",
      "T00 ERR ... 2025-5-23 5:57:11 Delta Etot -2.43012721057e-10\r\n",
      "T00 ERR ... \r\n",
      "T00 ERR ... 2025-5-23 5:57:11 Iteration 9 of 100"
     ]
    },
    {
     "name": "stdout",
     "output_type": "stream",
     "text": [
      "\r\n",
      "T00 ERR ... 2025-5-23 5:57:11 Total Energy -40.2309550324\r\n",
      "T00 ERR ... 2025-5-23 5:57:11 DIIs error 3.50016894194e-06\r\n",
      "T00 ERR ... 2025-5-23 5:57:11 Delta Etot -3.88872933854e-10\r\n",
      "T00 ERR ... \r\n",
      "T00 ERR ... 2025-5-23 5:57:11 Iteration 10 of 100"
     ]
    },
    {
     "name": "stdout",
     "output_type": "stream",
     "text": [
      "\r\n",
      "T00 ERR ... 2025-5-23 5:57:11 Total Energy -40.2309550325\r\n",
      "T00 ERR ... 2025-5-23 5:57:11 DIIs error 9.09461764608e-07\r\n",
      "T00 ERR ... 2025-5-23 5:57:11 Delta Etot -4.53042048321e-11\r\n",
      "T00 ERR ... \r\n",
      "T00 ERR ... 2025-5-23 5:57:11 Iteration 11 of 100"
     ]
    },
    {
     "name": "stdout",
     "output_type": "stream",
     "text": [
      "\r\n",
      "T00 ERR ... 2025-5-23 5:57:11 Total Energy -40.2309550325\r\n",
      "T00 ERR ... 2025-5-23 5:57:11 DIIs error 1.36282822746e-09\r\n",
      "T00 ERR ... 2025-5-23 5:57:11 Delta Etot -2.98427949019e-12\r\n",
      "T00 ERR ... 2025-5-23 5:57:11 Total Energy has converged to -2.98427949e-12[Ha] after 11 iterations. DIIS error is converged up to 1.36282823e-09\r\n",
      "T00 ERR ... 2025-5-23 5:57:11 Final Single Point Energy -40.2309550325 Ha\r\n",
      "T00 ERR ... 2025-5-23 5:57:11 Final Local Exc contribution -5.18429662116 Ha\r\n",
      "T00 ERR ... 2025-5-23 5:57:11 Final Non Local Ex contribution -1.63926628625 Ha\r\n",
      "T00 ERR ...   Orbital energies: \r\n",
      "T00 ERR ...   index occupation energy(Hartree) \r\n",
      "T00 ERR ...      0      2   -10.1479482359\r\n",
      "T00 ERR ...      1      2   -0.7122264101\r\n",
      "T00 ERR ...      2      2   -0.4030286246\r\n",
      "T00 ERR ...      3      2   -0.4013495108\r\n",
      "T00 ERR ...      4      2   -0.3991080271\r\n",
      "T00 ERR ...      5      0   +0.1607308421\r\n",
      "T00 ERR ...      6      0   +0.2030115977\r\n",
      "T00 ERR ...      7      0   +0.2081616669\r\n",
      "T00 ERR ...      8      0   +0.2102901036\r\n",
      "T00 ERR ...      9      0   +0.7241157402\r\n",
      "T00 ERR ...     10      0   +0.7253274491\r\n",
      "T00 ERR ...     11      0   +0.7278608988\r\n",
      "T00 ERR ...     12      0   +1.0556243864\r\n",
      "T00 ERR ...     13      0   +1.0853997788\r\n",
      "T00 ERR ...     14      0   +1.0904269123\r\n",
      "T00 ERR ...     15      0   +1.0921195005\r\n",
      "T00 ERR ...     16      0   +1.7121082860\r\n",
      "T00 ERR ... 2025-5-23 5:57:11 Electric Dipole is[e*bohr]:\r\n",
      "\t\t dx=0.0194123783368\r\n",
      "\t\t dy=0.0353603058224\r\n",
      "\t\t dz=-0.0143020631985\r\n",
      "T00 ERR ... Writing result to temp.orb\r\n",
      "T00 ERR ... 2025-5-23 5:57:11 DFT calculation took 1.661366904 seconds.\r\n",
      "T00 ERR ... 2025-5-23 5:57:11 RPA level range [0:16]\r\n",
      "T00 ERR ... 2025-5-23 5:57:11 GW  level range [0:16]\r\n",
      "T00 ERR ... 2025-5-23 5:57:11 BSE level range occ[0:4]  virt[5:16]\r\n",
      "T00 ERR ...  BSE type: full\r\n",
      "T00 ERR ... 2025-5-23 5:57:11 BSE Hamiltonian has size 120x120\r\n",
      "T00 ERR ...  BSE without Hqp offdiagonal elements\r\n",
      "T00 ERR ...  Running GW as: G0W0\r\n",
      "T00 ERR ...  qp_sc_limit [Hartree]: 1e-05\r\n",
      "T00 ERR ...  Tasks: \r\n",
      "T00 ERR ...  GW \r\n",
      "T00 ERR ...  singlets \r\n",
      "T00 ERR ...  triplets \r\n",
      "T00 ERR ...  Store: \r\n",
      "T00 ERR ...  GW \r\n",
      "T00 ERR ...  Sigma integration: ppm\r\n",
      "T00 ERR ...  eta: 0.001\r\n",
      "T00 ERR ...  QP solver: grid\r\n",
      "T00 ERR ...  QP grid steps: 1001\r\n",
      "T00 ERR ...  QP grid spacing: 0.001\r\n",
      "T00 ERR ... 2025-5-23 5:57:11 Using 2 threads\r\n",
      "T00 ERR ... 2025-5-23 5:57:11 Using native Eigen implementation, no BLAS overload \r\n",
      "T00 ERR ... 2025-5-23 5:57:11 Molecule Coordinates [A] \r\n",
      "T00 ERR ...     0    C   30.3000 1.2704 5.5205\r\n",
      "T00 ERR ...     1    H   31.2392 1.4802 6.0301\r\n",
      "T00 ERR ...     2    H   30.4910 0.6554 4.6433\r\n",
      "T00 ERR ...     3    H   29.8500 2.2100 5.2100\r\n",
      "T00 ERR ...     4    H   29.6200 0.7500 6.2000\r\n",
      "T00 ERR ... 2025-5-23 5:57:11 DFT data was created by xtp\r\n",
      "T00 ERR ... 2025-5-23 5:57:11 Loaded DFT Basis Set 3-21G\r\n",
      "T00 ERR ... 2025-5-23 5:57:11 Filled DFT Basis of size 17\r\n",
      "T00 ERR ... 2025-5-23 5:57:11 Loaded Auxbasis Set aux-def2-svp\r\n",
      "T00 ERR ... 2025-5-23 5:57:11 Filled Auxbasis of size 104\r\n",
      "T00 ERR ... 2025-5-23 5:57:11 Calculating Mmn_beta (3-center-repulsion x orbitals)  \r\n",
      "T00 ERR ... 2025-5-23 5:57:11 Calculated Mmn_beta (3-center-repulsion x orbitals)  "
     ]
    },
    {
     "name": "stdout",
     "output_type": "stream",
     "text": [
      "\r\n",
      "T00 ERR ... 2025-5-23 5:57:11 Integrating Vxc with functional XC_HYB_GGA_XC_PBEH"
     ]
    },
    {
     "name": "stdout",
     "output_type": "stream",
     "text": [
      "\r\n",
      "T00 ERR ... 2025-5-23 5:57:11 Set hybrid exchange factor: 0.25\r\n",
      "T00 ERR ... 2025-5-23 5:57:11 Calculated exchange-correlation expectation values \r\n",
      "T00 ERR ... 2025-5-23 5:57:11 Calculated Hartree exchange contribution\r\n",
      "T00 ERR ... 2025-5-23 5:57:11 Scissor shifting DFT energies by: 0 Hrt"
     ]
    },
    {
     "name": "stdout",
     "output_type": "stream",
     "text": [
      "\r\n",
      "T00 ERR ...   ====== Perturbative quasiparticle energies (Hartree) ====== \r\n",
      "T00 ERR ...    DeltaHLGap = +0.215514 Hartree\r\n",
      "T00 ERR ...   Level =    0 DFT = -10.1479 VXC = -1.7031 S-X = -2.6689 S-C = +0.5631 GWA = -10.5506\r\n",
      "T00 ERR ...   Level =    1 DFT = -0.7122 VXC = -0.4404 S-X = -0.6606 S-C = +0.1083 GWA = -0.8241\r\n",
      "T00 ERR ...   Level =    2 DFT = -0.4030 VXC = -0.3959 S-X = -0.5286 S-C = +0.0324 GWA = -0.5033\r\n",
      "T00 ERR ...   Level =    3 DFT = -0.4013 VXC = -0.3967 S-X = -0.5298 S-C = +0.0328 GWA = -0.5015\r\n",
      "T00 ERR ...   HOMO  =    4 DFT = -0.3991 VXC = -0.3970 S-X = -0.5300 S-C = +0.0329 GWA = -0.4992\r\n",
      "T00 ERR ...   LUMO  =    5 DFT = +0.1607 VXC = -0.2418 S-X = -0.1018 S-C = -0.0246 GWA = +0.2761\r\n",
      "T00 ERR ...   Level =    6 DFT = +0.2030 VXC = -0.2616 S-X = -0.1101 S-C = -0.0238 GWA = +0.3308\r\n",
      "T00 ERR ...   Level =    7 DFT = +0.2082 VXC = -0.2612 S-X = -0.1097 S-C = -0.0239 GWA = +0.3358\r\n",
      "T00 ERR ...   Level =    8 DFT = +0.2103 VXC = -0.2613 S-X = -0.1098 S-C = -0.0238 GWA = +0.3379\r\n",
      "T00 ERR ...   Level =    9 DFT = +0.7241 VXC = -0.3183 S-X = -0.1082 S-C = -0.0635 GWA = +0.8706\r\n",
      "T00 ERR ...   Level =   10 DFT = +0.7253 VXC = -0.3182 S-X = -0.1080 S-C = -0.0638 GWA = +0.8718\r\n",
      "T00 ERR ...   Level =   11 DFT = +0.7279 VXC = -0.3177 S-X = -0.1073 S-C = -0.0643 GWA = +0.8740\r\n",
      "T00 ERR ...   Level =   12 DFT = +1.0556 VXC = -0.4047 S-X = -0.1334 S-C = -0.0323 GWA = +1.2946\r\n",
      "T00 ERR ...   Level =   13 DFT = +1.0854 VXC = -0.3963 S-X = -0.1274 S-C = -0.1740 GWA = +1.1803\r\n",
      "T00 ERR ...   Level =   14 DFT = +1.0904 VXC = -0.3953 S-X = -0.1271 S-C = -0.1730 GWA = +1.1857\r\n",
      "T00 ERR ...   Level =   15 DFT = +1.0921 VXC = -0.3946 S-X = -0.1268 S-C = -0.1726 GWA = +1.1873\r\n",
      "T00 ERR ...   Level =   16 DFT = +1.7121 VXC = -0.3559 S-X = -0.1045 S-C = -0.0297 GWA = +1.9338\r\n",
      "T00 ERR ... 2025-5-23 5:57:11 Calculated offdiagonal part of Sigma  \r\n",
      "T00 ERR ... 2025-5-23 5:57:11 Full quasiparticle Hamiltonian  \r\n",
      "T00 ERR ...   ====== Diagonalized quasiparticle energies (Hartree) ====== \r\n",
      "T00 ERR ...   Level =    0 PQP = -10.550598 DQP = -10.550783 \r\n",
      "T00 ERR ...   Level =    1 PQP = -0.824112 DQP = -0.824556 \r\n",
      "T00 ERR ...   Level =    2 PQP = -0.503319 DQP = -0.503595 \r\n",
      "T00 ERR ...   Level =    3 PQP = -0.501548 DQP = -0.501755 \r\n",
      "T00 ERR ...   HOMO  =    4 PQP = -0.499250 DQP = -0.499441 \r\n",
      "T00 ERR ...   LUMO  =    5 PQP = +0.276103 DQP = +0.267906 \r\n",
      "T00 ERR ...   Level =    6 PQP = +0.330781 DQP = +0.328894 \r\n",
      "T00 ERR ...   Level =    7 PQP = +0.335775 DQP = +0.334345 \r\n",
      "T00 ERR ...   Level =    8 PQP = +0.337931 DQP = +0.336525 \r\n",
      "T00 ERR ...   Level =    9 PQP = +0.870624 DQP = +0.868943 \r\n",
      "T00 ERR ...   Level =   10 PQP = +0.871775 DQP = +0.869913 \r\n",
      "T00 ERR ...   Level =   11 PQP = +0.873965 DQP = +0.871690 \r\n",
      "T00 ERR ...   Level =   12 PQP = +1.294587 DQP = +1.183177 \r\n",
      "T00 ERR ...   Level =   13 PQP = +1.180306 DQP = +1.189614 \r\n",
      "T00 ERR ...   Level =   14 PQP = +1.185718 DQP = +1.191513 \r\n",
      "T00 ERR ...   Level =   15 PQP = +1.187298 DQP = +1.289817 \r\n",
      "T00 ERR ...   Level =   16 PQP = +1.933788 DQP = +1.947619 \r\n",
      "T00 ERR ... 2025-5-23 5:57:11 Diagonalized QP Hamiltonian  \r\n",
      "T00 ERR ... 2025-5-23 5:57:11 GW calculation took 0.120219371 seconds.\r\n",
      "T00 ERR ... 2025-5-23 5:57:11 Setup Full triplet hamiltonian \r\n",
      "T00 ERR ... 2025-5-23 5:57:11 Davidson Solver using 2 threads.\r\n",
      "T00 ERR ... 2025-5-23 5:57:11 Tolerance : 0.0001\r\n",
      "T00 ERR ... 2025-5-23 5:57:11 DPR Correction\r\n",
      "T00 ERR ... 2025-5-23 5:57:11 Matrix size : 120x120\r\n",
      "T00 ERR ... 2025-5-23 5:57:11 iter\tSearch Space\tNorm\r\n",
      "T00 ERR ... 2025-5-23 5:57:11    0           20 \t 1.28e-01 \t  0.00% converged\r\n",
      "T00 ERR ... 2025-5-23 5:57:11    1           35 \t 1.41e-02 \t  0.00% converged\r\n",
      "T00 ERR ... 2025-5-23 5:57:11    2           50 \t 8.59e-04 \t 10.00% converged\r\n",
      "T00 ERR ... 2025-5-23 5:57:11    3           62 \t 2.81e-05 \t 100.00% converged\r\n",
      "T00 ERR ... 2025-5-23 5:57:11 Davidson converged after 3 iterations.\r\n",
      "T00 ERR ... 2025-5-23 5:57:11-----------------------------------\r\n",
      "T00 ERR ... 2025-5-23 5:57:11- Davidson ran for 0.007172914secs.\r\n",
      "T00 ERR ... 2025-5-23 5:57:11-----------------------------------\r\n",
      "T00 ERR ... 2025-5-23 5:57:11 Solved BSE for triplets \r\n",
      "T00 ERR ...   ====== triplet energies (eV) ====== \r\n",
      "T00 ERR ...   T =    1 Omega = +11.590329093677 eV  lamdba = +106.99 nm <FT> = +22.7897 <K_d> = -11.1994\r\n",
      "T00 ERR ...    \r\n",
      "T00 ERR ...   T =    2 Omega = +11.768476464383 eV  lamdba = +105.37 nm <FT> = +22.9508 <K_d> = -11.1824\r\n",
      "T00 ERR ...    \r\n",
      "T00 ERR ...   T =    3 Omega = +11.827199979116 eV  lamdba = +104.84 nm <FT> = +22.4839 <K_d> = -10.6567\r\n",
      "T00 ERR ...    \r\n",
      "T00 ERR ...   T =    4 Omega = +11.875163050675 eV  lamdba = +104.42 nm <FT> = +22.4495 <K_d> = -10.5744\r\n",
      "T00 ERR ...    \r\n",
      "T00 ERR ...   T =    5 Omega = +13.656562725976 eV  lamdba = +90.80 nm <FT> = +22.2469 <K_d> = -8.5903\r\n",
      "T00 ERR ...    \r\n",
      "T00 ERR ...   T =    6 Omega = +13.750159183098 eV  lamdba = +90.18 nm <FT> = +22.2952 <K_d> = -8.5451\r\n",
      "T00 ERR ...    \r\n",
      "T00 ERR ...   T =    7 Omega = +13.943372794015 eV  lamdba = +88.93 nm <FT> = +22.3953 <K_d> = -8.4519\r\n",
      "T00 ERR ...    \r\n",
      "T00 ERR ...   T =    8 Omega = +14.129601334539 eV  lamdba = +87.76 nm <FT> = +22.7313 <K_d> = -8.6017\r\n",
      "T00 ERR ...            HOMO-0   -> LUMO+1    : 72.0%\r\n",
      "T00 ERR ...    \r\n",
      "T00 ERR ...   T =    9 Omega = +14.226411027889 eV  lamdba = +87.16 nm <FT> = +22.8418 <K_d> = -8.6154\r\n",
      "T00 ERR ...    \r\n",
      "T00 ERR ...   T =   10 Omega = +14.374764553034 eV  lamdba = +86.26 nm <FT> = +22.8661 <K_d> = -8.4913\r\n",
      "T00 ERR ...            HOMO-2   -> LUMO+2    : 56.0%\r\n",
      "T00 ERR ...    \r\n",
      "T00 ERR ... 2025-5-23 5:57:11 Setup Full singlet hamiltonian \r\n",
      "T00 ERR ... 2025-5-23 5:57:11 Davidson Solver using 2 threads.\r\n",
      "T00 ERR ... 2025-5-23 5:57:11 Tolerance : 0.0001\r\n",
      "T00 ERR ... 2025-5-23 5:57:11 DPR Correction\r\n",
      "T00 ERR ... 2025-5-23 5:57:11 Matrix size : 120x120\r\n",
      "T00 ERR ... 2025-5-23 5:57:11 iter\tSearch Space\tNorm\r\n",
      "T00 ERR ... 2025-5-23 5:57:11    0           20 \t 1.28e-01 \t  0.00% converged\r\n",
      "T00 ERR ... 2025-5-23 5:57:11    1           35 \t 1.29e-02 \t  0.00% converged\r\n",
      "T00 ERR ... 2025-5-23 5:57:11    2           50 \t 9.32e-04 \t 40.00% converged\r\n",
      "T00 ERR ... 2025-5-23 5:57:11    3           61 \t 3.38e-05 \t 100.00% converged\r\n",
      "T00 ERR ... 2025-5-23 5:57:11 Davidson converged after 3 iterations.\r\n",
      "T00 ERR ... 2025-5-23 5:57:11-----------------------------------\r\n",
      "T00 ERR ... 2025-5-23 5:57:11- Davidson ran for 0.008066058secs.\r\n",
      "T00 ERR ... 2025-5-23 5:57:11-----------------------------------\r\n",
      "T00 ERR ... 2025-5-23 5:57:11 Solved BSE for singlets \r\n",
      "T00 ERR ...   ====== singlet energies (eV) ====== \r\n",
      "T00 ERR ...   S =    1 Omega = +13.838499953476 eV  lamdba = +89.61 nm <FT> = +21.2209 <K_x> = +0.9775 <K_d> = -8.3599\r\n",
      "T00 ERR ...            TrDipole length gauge[e*bohr]  dx = -0.5303 dy = +0.4087 dz = -0.3397 |d|^2 = +0.5637 f = +0.1911\r\n",
      "T00 ERR ...            HOMO-0   -> LUMO+0    : 98.7%\r\n",
      "T00 ERR ... \r\n",
      "T00 ERR ...   S =    2 Omega = +13.899865540836 eV  lamdba = +89.21 nm <FT> = +21.2939 <K_x> = +1.0286 <K_d> = -8.4226\r\n",
      "T00 ERR ...            TrDipole length gauge[e*bohr]  dx = +0.1892 dy = +0.6258 dz = +0.4730 |d|^2 = +0.6512 f = +0.2217\r\n",
      "T00 ERR ...            HOMO-1   -> LUMO+0    : 97.0%\r\n",
      "T00 ERR ... \r\n",
      "T00 ERR ...   S =    3 Omega = +13.966251916712 eV  lamdba = +88.79 nm <FT> = +21.3573 <K_x> = +1.1861 <K_d> = -8.5772\r\n",
      "T00 ERR ...            TrDipole length gauge[e*bohr]  dx = +0.6224 dy = +0.3193 dz = -0.6421 |d|^2 = +0.9016 f = +0.3085\r\n",
      "T00 ERR ...            HOMO-2   -> LUMO+0    : 97.5%\r\n",
      "T00 ERR ... \r\n",
      "T00 ERR ...   S =    4 Omega = +14.551114196004 eV  lamdba = +85.22 nm <FT> = +22.7161 <K_x> = +0.3388 <K_d> = -8.5038\r\n",
      "T00 ERR ...            TrDipole length gauge[e*bohr]  dx = +0.1704 dy = -0.0703 dz = +0.0444 |d|^2 = +0.0360 f = +0.0128\r\n",
      "T00 ERR ...            HOMO-0   -> LUMO+1    : 77.0%\r\n",
      "T00 ERR ... \r\n",
      "T00 ERR ...   S =    5 Omega = +14.601148896635 eV  lamdba = +84.92 nm <FT> = +22.7821 <K_x> = +0.3234 <K_d> = -8.5043\r\n",
      "T00 ERR ...            TrDipole length gauge[e*bohr]  dx = -0.0459 dy = +0.1296 dz = +0.2162 |d|^2 = +0.0657 f = +0.0235\r\n",
      "T00 ERR ...            HOMO-1   -> LUMO+1    : 60.6%\r\n",
      "T00 ERR ... \r\n",
      "T00 ERR ...   S =    6 Omega = +14.637541448209 eV  lamdba = +84.71 nm <FT> = +22.8482 <K_x> = +0.2777 <K_d> = -8.4883\r\n",
      "T00 ERR ...            TrDipole length gauge[e*bohr]  dx = +0.1207 dy = -0.0282 dz = +0.0820 |d|^2 = +0.0221 f = +0.0079\r\n",
      "T00 ERR ...            HOMO-0   -> LUMO+2    : 55.6%\r\n",
      "T00 ERR ... \r\n",
      "T00 ERR ...   S =    7 Omega = +14.990798793290 eV  lamdba = +82.72 nm <FT> = +22.8544 <K_x> = +0.7066 <K_d> = -8.5701\r\n",
      "T00 ERR ...            TrDipole length gauge[e*bohr]  dx = -0.0540 dy = -0.0879 dz = -0.0593 |d|^2 = +0.0142 f = +0.0052\r\n",
      "T00 ERR ... \r\n",
      "T00 ERR ...   S =    8 Omega = +15.014812454508 eV  lamdba = +82.59 nm <FT> = +22.9069 <K_x> = +0.6670 <K_d> = -8.5590\r\n",
      "T00 ERR ...            TrDipole length gauge[e*bohr]  dx = -0.0177 dy = -0.0439 dz = +0.0303 |d|^2 = +0.0032 f = +0.0012\r\n",
      "T00 ERR ...            HOMO-2   -> LUMO+3    : 70.5%\r\n",
      "T00 ERR ... \r\n",
      "T00 ERR ...   S =    9 Omega = +15.998971734879 eV  lamdba = +77.50 nm <FT> = +23.1683 <K_x> = +2.1885 <K_d> = -9.3577\r\n",
      "T00 ERR ...            TrDipole length gauge[e*bohr]  dx = -0.8939 dy = -0.8746 dz = +0.5878 |d|^2 = +1.9093 f = +0.7484\r\n",
      "T00 ERR ...            HOMO-2   -> LUMO+1    : 60.5%\r\n",
      "T00 ERR ... \r\n",
      "T00 ERR ...   S =   10 Omega = +16.031818467744 eV  lamdba = +77.35 nm <FT> = +23.2251 <K_x> = +2.2798 <K_d> = -9.4731\r\n",
      "T00 ERR ...            TrDipole length gauge[e*bohr]  dx = -0.4416 dy = +1.0821 dz = +0.8251 |d|^2 = +2.0467 f = +0.8039\r\n",
      "T00 ERR ... \r\n",
      "T00 ERR ... 2025-5-23 5:57:11 BSE calculation took 0.017674264 seconds.\r\n",
      "T00 ERR ... 2025-5-23 5:57:11 GWBSE calculation finished \r\n",
      "T00 ERR ... Next State is: s1\r\n",
      "T00 ERR ... 2025-5-23 5:57:11 Evaluating polarregion 1\r\n",
      "T00 ERR ... 2025-5-23 5:57:11 Evaluating interaction between polarregion 1 and qmregion 0\r\n",
      "T00 ERR ... Next State is: s1"
     ]
    },
    {
     "name": "stdout",
     "output_type": "stream",
     "text": [
      "\r\n",
      "T00 ERR ... 2025-5-23 5:57:12 Evaluating interaction between polarregion 1 and staticregion 2"
     ]
    },
    {
     "name": "stdout",
     "output_type": "stream",
     "text": [
      "\r\n",
      "T00 ERR ... 2025-5-23 5:57:12 Starting Solving for classical polarization with 1380 degrees of freedom.\r\n",
      "T00 ERR ... 2025-5-23 5:57:12 CG: #iterations: 0, estimated error: 2.59639220807e-05\r\n",
      "T00 ERR ...   Total static energy [hrt]= 0.0009102654542\r\n",
      "T00 ERR ...   Total polar energy [hrt]= 0.0008150807097\r\n",
      "T00 ERR ...  Total energy [hrt]= 0.001725346164\r\n",
      "T00 ERR ... 2025-5-23 5:57:12 Evaluating staticregion 2\r\n",
      "T00 ERR ... 2025-5-23 5:57:12 Writing checkpoint to checkpoint_iter_12.hdf5"
     ]
    },
    {
     "name": "stdout",
     "output_type": "stream",
     "text": [
      "\r\n",
      "T00 ERR ...  Region:qmregion 0 is not converged deltaE=6.057400981e-07 RMS Dmat=1.562126849e-05 MaxDmat=8.998903998e-05\r\n",
      "T00 ERR ... 2025-5-23 5:57:12 Region:polarregion 1 is converged deltaE=1.407804562e-07\r\n",
      "T00 ERR ... 2025-5-23 5:57:12 --Total Energy all regions -39.72067419\r\n",
      "T00 ERR ... 2025-5-23 5:57:12 --Inter Region SCF Iteration 13 of 50\r\n",
      "T00 ERR ... 2025-5-23 5:57:12 Evaluating qmregion 0\r\n",
      "T00 ERR ... 2025-5-23 5:57:12 Evaluating interaction between qmregion 0 and polarregion 1\r\n",
      "T00 ERR ... 2025-5-23 5:57:12 Evaluating interaction between qmregion 0 and staticregion 2\r\n",
      "T00 ERR ... Running DFT calculation\r\n",
      "T00 ERR ... 2025-5-23 5:57:12 Using 2 threads\r\n",
      "T00 ERR ... 2025-5-23 5:57:12 Using native Eigen implementation, no BLAS overload \r\n",
      "T00 ERR ...  Molecule Coordinates [A] \r\n",
      "T00 ERR ...   C   +30.3000 +1.2704 +5.5205\r\n",
      "T00 ERR ...   H   +31.2392 +1.4802 +6.0301\r\n",
      "T00 ERR ...   H   +30.4910 +0.6554 +4.6433\r\n",
      "T00 ERR ...   H   +29.8500 +2.2100 +5.2100\r\n",
      "T00 ERR ...   H   +29.6200 +0.7500 +6.2000\r\n",
      "T00 ERR ... 2025-5-23 5:57:12 Loaded DFT Basis Set 3-21G with 17 functions\r\n",
      "T00 ERR ... 2025-5-23 5:57:12 Loaded AUX Basis Set aux-def2-svp with 104 functions\r\n",
      "T00 ERR ... 2025-5-23 5:57:12 Total number of electrons: 10\r\n",
      "T00 ERR ... 2025-5-23 5:57:12 Smallest value of AOOverlap matrix is 0.03364074275\r\n",
      "T00 ERR ... 2025-5-23 5:57:12 Removed 0 basisfunction from inverse overlap matrix\r\n",
      "T00 ERR ... 2025-5-23 5:57:12 Convergence Options:\r\n",
      "T00 ERR ... \t\t Delta E [Ha]: 1e-07\r\n",
      "T00 ERR ... \t\t DIIS max error: 1e-07\r\n",
      "T00 ERR ... \t\t DIIS histlength: 20\r\n",
      "T00 ERR ... \t\t ADIIS start: 0.8\r\n",
      "T00 ERR ... \t\t DIIS start: 0.002\r\n",
      "T00 ERR ... \t\t Deleting oldest element from DIIS hist\r\n",
      "T00 ERR ... \t\t Levelshift[Ha]: 0\r\n",
      "T00 ERR ... \t\t Levelshift end: 0.2\r\n",
      "T00 ERR ... \t\t Mixing Parameter alpha: 0.7\r\n",
      "T00 ERR ... 2025-5-23 5:57:12 Setup invariant parts of Electron Repulsion integrals \r\n",
      "T00 ERR ... 2025-5-23 5:57:12 Constructed independent particle hamiltonian \r\n",
      "T00 ERR ... 2025-5-23 5:57:12 Nuclear Repulsion Energy is 13.4434088\r\n",
      "T00 ERR ... 2025-5-23 5:57:12 1350 External sites\r\n",
      "T00 ERR ...  Name      Coordinates[a0]     charge[e]         dipole[e*a0]    \r\n",
      "T00 ERR ...   C   +63.8902 +7.9543 +11.0171   -0.3282   +0.0090 +0.0011 -0.0060\r\n",
      "T00 ERR ...   H   +62.3892 +6.5470 +10.9796   +0.0824   +0.0094 +0.0029 -0.0001\r\n",
      "T00 ERR ...   H   +65.3194 +7.4736 +9.6186   +0.0822   +0.0038 -0.0009 -0.0023\r\n",
      "T00 ERR ...   H   +63.1170 +9.8077 +10.6203   +0.0817   +0.0015 +0.0014 +0.0010\r\n",
      "T00 ERR ...   H   +64.7422 +7.9557 +12.9068   +0.0819   +0.0043 +0.0033 -0.0007\r\n",
      "T00 ERR ...   C   +63.9128 -0.3996 +22.8673   -0.3282   -0.0029 +0.0014 +0.0052\r\n",
      "T00 ERR ...   H   +63.0449 -1.1731 +21.1692   +0.0824   -0.0001 -0.0006 +0.0015\r\n",
      "T00 ERR ...   H   +62.7676 +1.1530 +23.5795   +0.0822   -0.0015 +0.0049 +0.0022\r\n",
      "T00 ERR ...   H   +64.0430 -1.8922 +24.2830   +0.0817   +0.0010 -0.0004 -0.0009\r\n",
      "T00 ERR ...   H   +65.8004 +0.2810 +22.4122   +0.0819   -0.0036 -0.0009 +0.0017\r\n",
      "T00 ERR ...   C   +61.7182 -0.4374 -3.3115   -0.3282   -0.0002 -0.0018 +0.0010\r\n",
      "T00 ERR ...   H   +60.6600 -1.0798 -4.9554   +0.0824   +0.0011 +0.0014 +0.0012\r\n",
      "T00 ERR ...   H   +63.3309 +0.6815 -3.9252   +0.0822   -0.0014 -0.0019 -0.0006\r\n",
      "T00 ERR ...   H   +62.3800 -2.0623 -2.2148   +0.0817   +0.0010 -0.0019 +0.0013\r\n",
      "T00 ERR ...   H   +60.5092 +0.7345 -2.1392   +0.0819   -0.0027 -0.0035 -0.0019\r\n",
      "T00 ERR ...   C   +62.0402 +12.7739 +4.5175   -0.3282   +0.0027 +0.0004 +0.0017\r\n",
      "T00 ERR ...   H   +60.1049 +13.3052 +4.0622   +0.0824   +0.0002 -0.0013 -0.0010\r\n",
      "T00 ERR ...   H   +62.0812 +11.8167 +6.3372   +0.0822   +0.0006 -0.0022 -0.0015\r\n",
      "T00 ERR ...   H   +63.2115 +14.4753 +4.6109   +0.0817   +0.0028 +0.0023 +0.0014\r\n",
      "T00 ERR ...   H   +62.7769 +11.5084 +3.0803   +0.0819   -0.0003 -0.0009 +0.0006\r\n",
      "T00 ERR ...   C   +60.6789 +14.3239 +12.6808   -0.3282   -0.0020 +0.0028 +0.0014\r\n",
      "T00 ERR ...   H   +61.0756 +13.9461 +10.6972   +0.0824   -0.0038 +0.0040 -0.0004\r\n",
      "T00 ERR ...   H   +61.0224 +16.3108 +13.0851   +0.0822   -0.0001 +0.0006 +0.0033\r\n",
      "T00 ERR ...   H   +58.7327 +13.8328 +13.0580   +0.0817   +0.0007 -0.0002 +0.0003\r\n",
      "T00 ERR ...   H   +61.9074 +13.1525 +13.8517   +0.0819   -0.0006 -0.0006 +0.0035\r\n",
      "T00 ERR ...   C   +68.7870 +4.1961 +17.9521   -0.3282   +0.0049 +0.0003 +0.0063\r\n",
      "T00 ERR ...   H   +68.2015 +2.4962 +18.9532   +0.0824   +0.0001 -0.0005 -0.0013\r\n",
      "T00 ERR ...   H   +67.2445 +4.8625 +16.7665   +0.0822   +0.0015 -0.0030 +0.0028\r\n",
      "T00 ERR ...   H   +70.4303 +3.7606 +16.7997   +0.0817   -0.0007 +0.0010 +0.0004\r\n",
      "T00 ERR ...   H   +69.2964 +5.6503 +19.3130   +0.0819   +0.0011 +0.0009 +0.0055\r\n",
      "T00 ERR ...   C   +54.0832 +4.4983 +27.1938   -0.3282   -0.0007 -0.0025 -0.0012\r\n",
      "T00 ERR ...   H   +53.5372 +6.4564 +27.5139   +0.0824   -0.0012 -0.0015 +0.0002\r\n",
      "T00 ERR ...   H   +52.9768 +3.2670 +28.4141   +0.0822   -0.0007 -0.0015 +0.0003\r\n",
      "T00 ERR ...   H   +53.7249 +4.0062 +25.2278   +0.0817   +0.0021 -0.0009 +0.0002\r\n",
      "T00 ERR ...   H   +56.0682 +4.2330 +27.6278   +0.0819   -0.0032 +0.0014 -0.0015\r\n",
      "T00 ERR ...   C   +63.8174 +6.3112 -1.0788   -0.3282   -0.0007 -0.0003 -0.0004\r\n",
      "T00 ERR ...   H   +65.2393 +6.4796 +0.3993   +0.0824   -0.0003 -0.0010 +0.0014\r\n",
      "T00 ERR ...   H   +62.4364 +4.8836 -0.5459   +0.0822   +0.0020 +0.0009 -0.0008\r\n",
      "T00 ERR ...   H   +64.7422 +5.7637 -2.8384   +0.0817   -0.0005 +0.0027 +0.0002\r\n",
      "T00 ERR ...   H   +62.8903 +8.1258 -1.3455   +0.0819   -0.0006 -0.0016 -0.0037\r\n",
      "T00 ERR ...   C   +64.1752 +19.2751 +7.8615   -0.3282   +0.0049 -0.0000 +0.0006\r\n",
      "T00 ERR ...   H   +62.9276 +19.0860 +6.2359   +0.0824   -0.0011 +0.0004 +0.0021\r\n",
      "T00 ERR ...   H   +63.4396 +18.1623 +9.4267   +0.0822   +0.0013 -0.0002 -0.0003\r\n",
      "T00 ERR ...   H   +66.0461 +18.6138 +7.3699   +0.0817   +0.0012 -0.0009 -0.0001\r\n",
      "T00 ERR ...   H   +64.2509 +21.2405 +8.4282   +0.0819   +0.0017 +0.0008 -0.0004\r\n",
      "T00 ERR ...   C   +61.3975 +17.7254 +18.4625   -0.3282   +0.0021 -0.0003 +0.0025\r\n",
      "T00 ERR ...   H   +60.9990 +19.0346 +16.9256   +0.0824   -0.0004 +0.0012 +0.0002\r\n",
      "T00 ERR ...   H   +61.0958 +18.6680 +20.2653   +0.0822   +0.0001 +0.0000 +0.0003\r\n",
      "T00 ERR ...   H   +60.1502 +16.1005 +18.3303   +0.0817   +0.0028 +0.0005 -0.0006\r\n",
      "T00 ERR ...   H   +63.3627 +17.1020 +18.3492   +0.0819   -0.0014 -0.0005 +0.0014\r\n",
      "T00 ERR ...               ... (1300 sites not displayed)\r\n"
     ]
    },
    {
     "name": "stdout",
     "output_type": "stream",
     "text": [
      "\r\n",
      "T00 ERR ... 2025-5-23 5:57:12 Filled DFT external multipole potential matrix\r\n",
      "T00 ERR ... 2025-5-23 5:57:12 Nuclei-external site interaction energy 0.0204347161\r\n",
      "T00 ERR ... 2025-5-23 5:57:12 Using hybrid functional with alpha=0.25"
     ]
    },
    {
     "name": "stdout",
     "output_type": "stream",
     "text": [
      "\r\n",
      "T00 ERR ... 2025-5-23 5:57:12 Setup numerical integration grid medium for vxc functional XC_HYB_GGA_XC_PBEH\r\n",
      "T00 ERR ... 2025-5-23 5:57:12 Setup Initial Guess using: atom\r\n",
      "T00 ERR ... 2025-5-23 5:57:12 Calculating atom density for C"
     ]
    },
    {
     "name": "stdout",
     "output_type": "stream",
     "text": [
      "\r\n",
      "T00 ERR ... 2025-5-23 5:57:12 Calculating atom density for H"
     ]
    },
    {
     "name": "stdout",
     "output_type": "stream",
     "text": [
      "\r\n",
      "T00 ERR ... 2025-5-23 5:57:13 STARTING SCF cycle\r\n",
      "T00 ERR ...  --------------------------------------------------------------------------\r\n",
      "T00 ERR ... \r\n",
      "T00 ERR ... 2025-5-23 5:57:13 Iteration 1 of 100"
     ]
    },
    {
     "name": "stdout",
     "output_type": "stream",
     "text": [
      "\r\n",
      "T00 ERR ... 2025-5-23 5:57:13 Total Energy -40.1456570578\r\n",
      "T00 ERR ... 2025-5-23 5:57:13 DIIs error 0.219656567344\r\n",
      "T00 ERR ... 2025-5-23 5:57:13 Delta Etot 0\r\n",
      "T00 ERR ... \r\n",
      "T00 ERR ... 2025-5-23 5:57:13 Iteration 2 of 100"
     ]
    },
    {
     "name": "stdout",
     "output_type": "stream",
     "text": [
      "\r\n",
      "T00 ERR ... 2025-5-23 5:57:13 Total Energy -40.1815754588\r\n",
      "T00 ERR ... 2025-5-23 5:57:13 DIIs error 0.128764126813\r\n",
      "T00 ERR ... 2025-5-23 5:57:13 Delta Etot -0.0359184010678\r\n",
      "T00 ERR ... \r\n",
      "T00 ERR ... 2025-5-23 5:57:13 Iteration 3 of 100"
     ]
    },
    {
     "name": "stdout",
     "output_type": "stream",
     "text": [
      "\r\n",
      "T00 ERR ... 2025-5-23 5:57:13 Total Energy -40.1980496847\r\n",
      "T00 ERR ... 2025-5-23 5:57:13 DIIs error 0.0793380634538\r\n",
      "T00 ERR ... 2025-5-23 5:57:13 Delta Etot -0.016474225885\r\n",
      "T00 ERR ... \r\n",
      "T00 ERR ... 2025-5-23 5:57:13 Iteration 4 of 100"
     ]
    },
    {
     "name": "stdout",
     "output_type": "stream",
     "text": [
      "\r\n",
      "T00 ERR ... 2025-5-23 5:57:13 Total Energy -40.2287104007\r\n",
      "T00 ERR ... 2025-5-23 5:57:13 DIIs error 0.0296185567801\r\n",
      "T00 ERR ... 2025-5-23 5:57:13 Delta Etot -0.0306607159878\r\n",
      "T00 ERR ... \r\n",
      "T00 ERR ... 2025-5-23 5:57:13 Iteration 5 of 100"
     ]
    },
    {
     "name": "stdout",
     "output_type": "stream",
     "text": [
      "\r\n",
      "T00 ERR ... 2025-5-23 5:57:13 Total Energy -40.228602519\r\n",
      "T00 ERR ... 2025-5-23 5:57:13 DIIs error 0.0311986040824\r\n",
      "T00 ERR ... 2025-5-23 5:57:13 Delta Etot 0.000107881740632\r\n",
      "T00 ERR ... \r\n",
      "T00 ERR ... 2025-5-23 5:57:13 Iteration 6 of 100"
     ]
    },
    {
     "name": "stdout",
     "output_type": "stream",
     "text": [
      "\r\n",
      "T00 ERR ... 2025-5-23 5:57:13 Total Energy -40.2309538495\r\n",
      "T00 ERR ... 2025-5-23 5:57:13 DIIs error 0.000318945907474\r\n",
      "T00 ERR ... 2025-5-23 5:57:13 Delta Etot -0.00235133051963\r\n",
      "T00 ERR ... \r\n",
      "T00 ERR ... 2025-5-23 5:57:13 Iteration 7 of 100"
     ]
    },
    {
     "name": "stdout",
     "output_type": "stream",
     "text": [
      "\r\n",
      "T00 ERR ... 2025-5-23 5:57:13 Total Energy -40.2309541044\r\n",
      "T00 ERR ... 2025-5-23 5:57:13 DIIs error 2.04295313129e-05\r\n",
      "T00 ERR ... 2025-5-23 5:57:13 Delta Etot -2.54894480634e-07\r\n",
      "T00 ERR ... \r\n",
      "T00 ERR ... 2025-5-23 5:57:13 Iteration 8 of 100"
     ]
    },
    {
     "name": "stdout",
     "output_type": "stream",
     "text": [
      "\r\n",
      "T00 ERR ... 2025-5-23 5:57:13 Total Energy -40.2309541046\r\n",
      "T00 ERR ... 2025-5-23 5:57:13 DIIs error 1.08203733974e-05\r\n",
      "T00 ERR ... 2025-5-23 5:57:13 Delta Etot -2.42913245074e-10\r\n",
      "T00 ERR ... \r\n",
      "T00 ERR ... 2025-5-23 5:57:13 Iteration 9 of 100"
     ]
    },
    {
     "name": "stdout",
     "output_type": "stream",
     "text": [
      "\r\n",
      "T00 ERR ... 2025-5-23 5:57:13 Total Energy -40.230954105\r\n",
      "T00 ERR ... 2025-5-23 5:57:13 DIIs error 3.50031743294e-06\r\n",
      "T00 ERR ... 2025-5-23 5:57:13 Delta Etot -3.8896530441e-10\r\n",
      "T00 ERR ... \r\n",
      "T00 ERR ... 2025-5-23 5:57:13 Iteration 10 of 100"
     ]
    },
    {
     "name": "stdout",
     "output_type": "stream",
     "text": [
      "\r\n",
      "T00 ERR ... 2025-5-23 5:57:13 Total Energy -40.2309541051\r\n",
      "T00 ERR ... 2025-5-23 5:57:13 DIIs error 9.09470107511e-07\r\n",
      "T00 ERR ... 2025-5-23 5:57:13 Delta Etot -4.52757831226e-11\r\n",
      "T00 ERR ... \r\n",
      "T00 ERR ... 2025-5-23 5:57:13 Iteration 11 of 100"
     ]
    },
    {
     "name": "stdout",
     "output_type": "stream",
     "text": [
      "\r\n",
      "T00 ERR ... 2025-5-23 5:57:13 Total Energy -40.2309541051\r\n",
      "T00 ERR ... 2025-5-23 5:57:13 DIIs error 1.36281292142e-09\r\n",
      "T00 ERR ... 2025-5-23 5:57:13 Delta Etot -3.04112290905e-12\r\n",
      "T00 ERR ... 2025-5-23 5:57:13 Total Energy has converged to -3.04112291e-12[Ha] after 11 iterations. DIIS error is converged up to 1.36281292e-09\r\n",
      "T00 ERR ... 2025-5-23 5:57:13 Final Single Point Energy -40.2309541051 Ha\r\n",
      "T00 ERR ... 2025-5-23 5:57:13 Final Local Exc contribution -5.18429662085 Ha\r\n",
      "T00 ERR ... 2025-5-23 5:57:13 Final Non Local Ex contribution -1.63926628612 Ha\r\n",
      "T00 ERR ...   Orbital energies: \r\n",
      "T00 ERR ...   index occupation energy(Hartree) \r\n",
      "T00 ERR ...      0      2   -10.1479481419\r\n",
      "T00 ERR ...      1      2   -0.7122263177\r\n",
      "T00 ERR ...      2      2   -0.4030286045\r\n",
      "T00 ERR ...      3      2   -0.4013493633\r\n",
      "T00 ERR ...      4      2   -0.3991079148\r\n",
      "T00 ERR ...      5      0   +0.1607308976\r\n",
      "T00 ERR ...      6      0   +0.2030115427\r\n",
      "T00 ERR ...      7      0   +0.2081619593\r\n",
      "T00 ERR ...      8      0   +0.2102902053\r\n",
      "T00 ERR ...      9      0   +0.7241158353\r\n",
      "T00 ERR ...     10      0   +0.7253275190\r\n",
      "T00 ERR ...     11      0   +0.7278610082\r\n",
      "T00 ERR ...     12      0   +1.0556244449\r\n",
      "T00 ERR ...     13      0   +1.0853997527\r\n",
      "T00 ERR ...     14      0   +1.0904272018\r\n",
      "T00 ERR ...     15      0   +1.0921195649\r\n",
      "T00 ERR ...     16      0   +1.7121083820\r\n",
      "T00 ERR ... 2025-5-23 5:57:13 Electric Dipole is[e*bohr]:\r\n",
      "\t\t dx=0.0194153826548\r\n",
      "\t\t dy=0.0353605995105\r\n",
      "\t\t dz=-0.0143024467095\r\n",
      "T00 ERR ... Writing result to temp.orb\r\n",
      "T00 ERR ... 2025-5-23 5:57:13 DFT calculation took 1.661245889 seconds.\r\n",
      "T00 ERR ... 2025-5-23 5:57:13 RPA level range [0:16]\r\n",
      "T00 ERR ... 2025-5-23 5:57:13 GW  level range [0:16]\r\n",
      "T00 ERR ... 2025-5-23 5:57:13 BSE level range occ[0:4]  virt[5:16]\r\n",
      "T00 ERR ...  BSE type: full\r\n",
      "T00 ERR ... 2025-5-23 5:57:13 BSE Hamiltonian has size 120x120\r\n",
      "T00 ERR ...  BSE without Hqp offdiagonal elements\r\n",
      "T00 ERR ...  Running GW as: G0W0\r\n",
      "T00 ERR ...  qp_sc_limit [Hartree]: 1e-05\r\n",
      "T00 ERR ...  Tasks: \r\n",
      "T00 ERR ...  GW \r\n",
      "T00 ERR ...  singlets \r\n",
      "T00 ERR ...  triplets \r\n",
      "T00 ERR ...  Store: \r\n",
      "T00 ERR ...  GW \r\n",
      "T00 ERR ...  Sigma integration: ppm\r\n",
      "T00 ERR ...  eta: 0.001\r\n",
      "T00 ERR ...  QP solver: grid\r\n",
      "T00 ERR ...  QP grid steps: 1001\r\n",
      "T00 ERR ...  QP grid spacing: 0.001\r\n",
      "T00 ERR ... 2025-5-23 5:57:13 Using 2 threads\r\n",
      "T00 ERR ... 2025-5-23 5:57:13 Using native Eigen implementation, no BLAS overload \r\n",
      "T00 ERR ... 2025-5-23 5:57:13 Molecule Coordinates [A] \r\n",
      "T00 ERR ...     0    C   30.3000 1.2704 5.5205\r\n",
      "T00 ERR ...     1    H   31.2392 1.4802 6.0301\r\n",
      "T00 ERR ...     2    H   30.4910 0.6554 4.6433\r\n",
      "T00 ERR ...     3    H   29.8500 2.2100 5.2100\r\n",
      "T00 ERR ...     4    H   29.6200 0.7500 6.2000\r\n",
      "T00 ERR ... 2025-5-23 5:57:13 DFT data was created by xtp\r\n",
      "T00 ERR ... 2025-5-23 5:57:13 Loaded DFT Basis Set 3-21G\r\n",
      "T00 ERR ... 2025-5-23 5:57:13 Filled DFT Basis of size 17\r\n",
      "T00 ERR ... 2025-5-23 5:57:13 Loaded Auxbasis Set aux-def2-svp\r\n",
      "T00 ERR ... 2025-5-23 5:57:13 Filled Auxbasis of size 104\r\n",
      "T00 ERR ... 2025-5-23 5:57:13 Calculating Mmn_beta (3-center-repulsion x orbitals)  \r\n",
      "T00 ERR ... 2025-5-23 5:57:13 Calculated Mmn_beta (3-center-repulsion x orbitals)  \r\n",
      "T00 ERR ... 2025-5-23 5:57:13 Integrating Vxc with functional XC_HYB_GGA_XC_PBEH"
     ]
    },
    {
     "name": "stdout",
     "output_type": "stream",
     "text": [
      "\r\n",
      "T00 ERR ... 2025-5-23 5:57:13 Set hybrid exchange factor: 0.25\r\n",
      "T00 ERR ... 2025-5-23 5:57:13 Calculated exchange-correlation expectation values \r\n",
      "T00 ERR ... 2025-5-23 5:57:13 Calculated Hartree exchange contribution\r\n",
      "T00 ERR ... 2025-5-23 5:57:13 Scissor shifting DFT energies by: 0 Hrt\r\n",
      "T00 ERR ...   ====== Perturbative quasiparticle energies (Hartree) ====== \r\n",
      "T00 ERR ...    DeltaHLGap = +0.215514 Hartree\r\n",
      "T00 ERR ...   Level =    0 DFT = -10.1479 VXC = -1.7031 S-X = -2.6689 S-C = +0.5631 GWA = -10.5506\r\n",
      "T00 ERR ...   Level =    1 DFT = -0.7122 VXC = -0.4404 S-X = -0.6606 S-C = +0.1083 GWA = -0.8241\r\n",
      "T00 ERR ...   Level =    2 DFT = -0.4030 VXC = -0.3959 S-X = -0.5286 S-C = +0.0324 GWA = -0.5033\r\n",
      "T00 ERR ...   Level =    3 DFT = -0.4013 VXC = -0.3967 S-X = -0.5298 S-C = +0.0328 GWA = -0.5015\r\n",
      "T00 ERR ...   HOMO  =    4 DFT = -0.3991 VXC = -0.3970 S-X = -0.5300 S-C = +0.0329 GWA = -0.4992\r\n",
      "T00 ERR ...   LUMO  =    5 DFT = +0.1607 VXC = -0.2418 S-X = -0.1018 S-C = -0.0246 GWA = +0.2761\r\n",
      "T00 ERR ...   Level =    6 DFT = +0.2030 VXC = -0.2616 S-X = -0.1101 S-C = -0.0238 GWA = +0.3308\r\n",
      "T00 ERR ...   Level =    7 DFT = +0.2082 VXC = -0.2612 S-X = -0.1097 S-C = -0.0239 GWA = +0.3358\r\n",
      "T00 ERR ...   Level =    8 DFT = +0.2103 VXC = -0.2613 S-X = -0.1098 S-C = -0.0238 GWA = +0.3379\r\n",
      "T00 ERR ...   Level =    9 DFT = +0.7241 VXC = -0.3183 S-X = -0.1082 S-C = -0.0635 GWA = +0.8706\r\n",
      "T00 ERR ...   Level =   10 DFT = +0.7253 VXC = -0.3182 S-X = -0.1080 S-C = -0.0638 GWA = +0.8718\r\n",
      "T00 ERR ...   Level =   11 DFT = +0.7279 VXC = -0.3177 S-X = -0.1073 S-C = -0.0643 GWA = +0.8740\r\n",
      "T00 ERR ...   Level =   12 DFT = +1.0556 VXC = -0.4047 S-X = -0.1334 S-C = -0.0323 GWA = +1.2946\r\n",
      "T00 ERR ...   Level =   13 DFT = +1.0854 VXC = -0.3963 S-X = -0.1274 S-C = -0.1740 GWA = +1.1803\r\n",
      "T00 ERR ...   Level =   14 DFT = +1.0904 VXC = -0.3953 S-X = -0.1271 S-C = -0.1730 GWA = +1.1857\r\n",
      "T00 ERR ...   Level =   15 DFT = +1.0921 VXC = -0.3946 S-X = -0.1268 S-C = -0.1726 GWA = +1.1873\r\n",
      "T00 ERR ...   Level =   16 DFT = +1.7121 VXC = -0.3559 S-X = -0.1045 S-C = -0.0297 GWA = +1.9338\r\n",
      "T00 ERR ... 2025-5-23 5:57:13 Calculated offdiagonal part of Sigma  \r\n",
      "T00 ERR ... 2025-5-23 5:57:13 Full quasiparticle Hamiltonian  \r\n",
      "T00 ERR ...   ====== Diagonalized quasiparticle energies (Hartree) ====== \r\n",
      "T00 ERR ...   Level =    0 PQP = -10.550598 DQP = -10.550783 \r\n",
      "T00 ERR ...   Level =    1 PQP = -0.824112 DQP = -0.824556 \r\n",
      "T00 ERR ...   Level =    2 PQP = -0.503319 DQP = -0.503595 \r\n",
      "T00 ERR ...   Level =    3 PQP = -0.501548 DQP = -0.501755 \r\n",
      "T00 ERR ...   HOMO  =    4 PQP = -0.499250 DQP = -0.499441 \r\n",
      "T00 ERR ...   LUMO  =    5 PQP = +0.276103 DQP = +0.267906 \r\n",
      "T00 ERR ...   Level =    6 PQP = +0.330781 DQP = +0.328894 \r\n",
      "T00 ERR ...   Level =    7 PQP = +0.335775 DQP = +0.334346 \r\n",
      "T00 ERR ...   Level =    8 PQP = +0.337931 DQP = +0.336525 \r\n",
      "T00 ERR ...   Level =    9 PQP = +0.870624 DQP = +0.868943 \r\n",
      "T00 ERR ...   Level =   10 PQP = +0.871775 DQP = +0.869913 \r\n",
      "T00 ERR ...   Level =   11 PQP = +0.873965 DQP = +0.871690 \r\n",
      "T00 ERR ...   Level =   12 PQP = +1.294587 DQP = +1.183176 \r\n",
      "T00 ERR ...   Level =   13 PQP = +1.180305 DQP = +1.189614 \r\n",
      "T00 ERR ...   Level =   14 PQP = +1.185718 DQP = +1.191513 \r\n",
      "T00 ERR ...   Level =   15 PQP = +1.187298 DQP = +1.289817 \r\n",
      "T00 ERR ...   Level =   16 PQP = +1.933789 DQP = +1.947619 \r\n",
      "T00 ERR ... 2025-5-23 5:57:13 Diagonalized QP Hamiltonian  \r\n",
      "T00 ERR ... 2025-5-23 5:57:13 GW calculation took 0.119570926 seconds."
     ]
    },
    {
     "name": "stdout",
     "output_type": "stream",
     "text": [
      "\r\n",
      "T00 ERR ... 2025-5-23 5:57:13 Setup Full triplet hamiltonian \r\n",
      "T00 ERR ... 2025-5-23 5:57:13 Davidson Solver using 2 threads.\r\n",
      "T00 ERR ... 2025-5-23 5:57:13 Tolerance : 0.0001\r\n",
      "T00 ERR ... 2025-5-23 5:57:13 DPR Correction\r\n",
      "T00 ERR ... 2025-5-23 5:57:13 Matrix size : 120x120\r\n",
      "T00 ERR ... 2025-5-23 5:57:13 iter\tSearch Space\tNorm\r\n",
      "T00 ERR ... 2025-5-23 5:57:13    0           20 \t 1.28e-01 \t  0.00% converged\r\n",
      "T00 ERR ... 2025-5-23 5:57:13    1           35 \t 1.41e-02 \t  0.00% converged\r\n",
      "T00 ERR ... 2025-5-23 5:57:13    2           50 \t 8.59e-04 \t 10.00% converged\r\n",
      "T00 ERR ... 2025-5-23 5:57:13    3           62 \t 2.81e-05 \t 100.00% converged\r\n",
      "T00 ERR ... 2025-5-23 5:57:13 Davidson converged after 3 iterations.\r\n",
      "T00 ERR ... 2025-5-23 5:57:13-----------------------------------\r\n",
      "T00 ERR ... 2025-5-23 5:57:13- Davidson ran for 0.008558717secs.\r\n",
      "T00 ERR ... 2025-5-23 5:57:13-----------------------------------\r\n",
      "T00 ERR ... 2025-5-23 5:57:13 Solved BSE for triplets \r\n",
      "T00 ERR ...   ====== triplet energies (eV) ====== \r\n",
      "T00 ERR ...   T =    1 Omega = +11.590322009249 eV  lamdba = +106.99 nm <FT> = +22.7896 <K_d> = -11.1994\r\n",
      "T00 ERR ...    \r\n",
      "T00 ERR ...   T =    2 Omega = +11.768478789883 eV  lamdba = +105.37 nm <FT> = +22.9508 <K_d> = -11.1824\r\n",
      "T00 ERR ...    \r\n",
      "T00 ERR ...   T =    3 Omega = +11.827207326977 eV  lamdba = +104.84 nm <FT> = +22.4839 <K_d> = -10.6568\r\n",
      "T00 ERR ...    \r\n",
      "T00 ERR ...   T =    4 Omega = +11.875161108513 eV  lamdba = +104.42 nm <FT> = +22.4495 <K_d> = -10.5743\r\n",
      "T00 ERR ...    \r\n",
      "T00 ERR ...   T =    5 Omega = +13.656557401567 eV  lamdba = +90.80 nm <FT> = +22.2469 <K_d> = -8.5903\r\n",
      "T00 ERR ...    \r\n",
      "T00 ERR ...   T =    6 Omega = +13.750151204388 eV  lamdba = +90.18 nm <FT> = +22.2952 <K_d> = -8.5451\r\n",
      "T00 ERR ...    \r\n",
      "T00 ERR ...   T =    7 Omega = +13.943379288674 eV  lamdba = +88.93 nm <FT> = +22.3953 <K_d> = -8.4519\r\n",
      "T00 ERR ...    \r\n",
      "T00 ERR ...   T =    8 Omega = +14.129599168828 eV  lamdba = +87.76 nm <FT> = +22.7313 <K_d> = -8.6017\r\n",
      "T00 ERR ...            HOMO-0   -> LUMO+1    : 72.0%\r\n",
      "T00 ERR ...    \r\n",
      "T00 ERR ...   T =    9 Omega = +14.226413303833 eV  lamdba = +87.16 nm <FT> = +22.8418 <K_d> = -8.6154\r\n",
      "T00 ERR ...    \r\n",
      "T00 ERR ...   T =   10 Omega = +14.374769677453 eV  lamdba = +86.26 nm <FT> = +22.8661 <K_d> = -8.4913\r\n",
      "T00 ERR ...            HOMO-2   -> LUMO+2    : 56.0%\r\n",
      "T00 ERR ...    \r\n",
      "T00 ERR ... 2025-5-23 5:57:14 Setup Full singlet hamiltonian \r\n",
      "T00 ERR ... 2025-5-23 5:57:14 Davidson Solver using 2 threads.\r\n",
      "T00 ERR ... 2025-5-23 5:57:14 Tolerance : 0.0001\r\n",
      "T00 ERR ... 2025-5-23 5:57:14 DPR Correction\r\n",
      "T00 ERR ... 2025-5-23 5:57:14 Matrix size : 120x120\r\n",
      "T00 ERR ... 2025-5-23 5:57:14 iter\tSearch Space\tNorm\r\n",
      "T00 ERR ... 2025-5-23 5:57:14    0           20 \t 1.28e-01 \t  0.00% converged\r\n",
      "T00 ERR ... 2025-5-23 5:57:14    1           35 \t 1.29e-02 \t  0.00% converged\r\n",
      "T00 ERR ... 2025-5-23 5:57:14    2           50 \t 9.32e-04 \t 40.00% converged\r\n",
      "T00 ERR ... 2025-5-23 5:57:14    3           61 \t 3.38e-05 \t 100.00% converged\r\n",
      "T00 ERR ... 2025-5-23 5:57:14 Davidson converged after 3 iterations.\r\n",
      "T00 ERR ... 2025-5-23 5:57:14-----------------------------------\r\n",
      "T00 ERR ... 2025-5-23 5:57:14- Davidson ran for 0.008144955secs.\r\n",
      "T00 ERR ... 2025-5-23 5:57:14-----------------------------------\r\n",
      "T00 ERR ... 2025-5-23 5:57:14 Solved BSE for singlets \r\n",
      "T00 ERR ...   ====== singlet energies (eV) ====== \r\n",
      "T00 ERR ...   S =    1 Omega = +13.838497169357 eV  lamdba = +89.61 nm <FT> = +21.2209 <K_x> = +0.9775 <K_d> = -8.3599\r\n",
      "T00 ERR ...            TrDipole length gauge[e*bohr]  dx = -0.5303 dy = +0.4086 dz = -0.3397 |d|^2 = +0.5637 f = +0.1911\r\n",
      "T00 ERR ...            HOMO-0   -> LUMO+0    : 98.7%\r\n",
      "T00 ERR ... \r\n",
      "T00 ERR ...   S =    2 Omega = +13.899862166592 eV  lamdba = +89.21 nm <FT> = +21.2939 <K_x> = +1.0286 <K_d> = -8.4226\r\n",
      "T00 ERR ...            TrDipole length gauge[e*bohr]  dx = +0.1892 dy = +0.6258 dz = +0.4730 |d|^2 = +0.6511 f = +0.2217\r\n",
      "T00 ERR ...            HOMO-1   -> LUMO+0    : 97.0%\r\n",
      "T00 ERR ... \r\n",
      "T00 ERR ...   S =    3 Omega = +13.966254216121 eV  lamdba = +88.79 nm <FT> = +21.3574 <K_x> = +1.1861 <K_d> = -8.5772\r\n",
      "T00 ERR ...            TrDipole length gauge[e*bohr]  dx = +0.6224 dy = +0.3193 dz = -0.6421 |d|^2 = +0.9016 f = +0.3085\r\n",
      "T00 ERR ...            HOMO-2   -> LUMO+0    : 97.5%\r\n",
      "T00 ERR ... \r\n",
      "T00 ERR ...   S =    4 Omega = +14.551112061054 eV  lamdba = +85.22 nm <FT> = +22.7161 <K_x> = +0.3388 <K_d> = -8.5038\r\n",
      "T00 ERR ...            TrDipole length gauge[e*bohr]  dx = +0.1704 dy = -0.0704 dz = +0.0444 |d|^2 = +0.0360 f = +0.0128\r\n",
      "T00 ERR ...            HOMO-0   -> LUMO+1    : 77.0%\r\n",
      "T00 ERR ... \r\n",
      "T00 ERR ...   S =    5 Omega = +14.601148654685 eV  lamdba = +84.92 nm <FT> = +22.7821 <K_x> = +0.3234 <K_d> = -8.5043\r\n",
      "T00 ERR ...            TrDipole length gauge[e*bohr]  dx = +0.0459 dy = -0.1296 dz = -0.2162 |d|^2 = +0.0657 f = +0.0235\r\n",
      "T00 ERR ...            HOMO-1   -> LUMO+1    : 60.6%\r\n",
      "T00 ERR ... \r\n",
      "T00 ERR ...   S =    6 Omega = +14.637543965236 eV  lamdba = +84.71 nm <FT> = +22.8482 <K_x> = +0.2777 <K_d> = -8.4883\r\n",
      "T00 ERR ...            TrDipole length gauge[e*bohr]  dx = -0.1207 dy = +0.0282 dz = -0.0820 |d|^2 = +0.0221 f = +0.0079\r\n",
      "T00 ERR ...            HOMO-0   -> LUMO+2    : 55.6%\r\n",
      "T00 ERR ... \r\n",
      "T00 ERR ...   S =    7 Omega = +14.990800317421 eV  lamdba = +82.72 nm <FT> = +22.8544 <K_x> = +0.7066 <K_d> = -8.5701\r\n",
      "T00 ERR ...            TrDipole length gauge[e*bohr]  dx = -0.0540 dy = -0.0879 dz = -0.0593 |d|^2 = +0.0142 f = +0.0052\r\n",
      "T00 ERR ... \r\n",
      "T00 ERR ...   S =    8 Omega = +15.014814843206 eV  lamdba = +82.59 nm <FT> = +22.9069 <K_x> = +0.6670 <K_d> = -8.5590\r\n",
      "T00 ERR ...            TrDipole length gauge[e*bohr]  dx = -0.0177 dy = -0.0439 dz = +0.0303 |d|^2 = +0.0032 f = +0.0012\r\n",
      "T00 ERR ...            HOMO-2   -> LUMO+3    : 70.5%\r\n",
      "T00 ERR ... \r\n",
      "T00 ERR ...   S =    9 Omega = +15.998971128836 eV  lamdba = +77.50 nm <FT> = +23.1683 <K_x> = +2.1885 <K_d> = -9.3577\r\n",
      "T00 ERR ...            TrDipole length gauge[e*bohr]  dx = -0.8938 dy = -0.8746 dz = +0.5878 |d|^2 = +1.9093 f = +0.7484\r\n",
      "T00 ERR ...            HOMO-2   -> LUMO+1    : 60.5%\r\n",
      "T00 ERR ... \r\n",
      "T00 ERR ...   S =   10 Omega = +16.031818856026 eV  lamdba = +77.35 nm <FT> = +23.2251 <K_x> = +2.2798 <K_d> = -9.4731\r\n",
      "T00 ERR ...            TrDipole length gauge[e*bohr]  dx = -0.4416 dy = +1.0821 dz = +0.8250 |d|^2 = +2.0467 f = +0.8039\r\n",
      "T00 ERR ... \r\n",
      "T00 ERR ... 2025-5-23 5:57:14 BSE calculation took 0.019403455 seconds.\r\n",
      "T00 ERR ... 2025-5-23 5:57:14 GWBSE calculation finished \r\n",
      "T00 ERR ... Next State is: s1\r\n",
      "T00 ERR ... 2025-5-23 5:57:14 Evaluating polarregion 1\r\n",
      "T00 ERR ... 2025-5-23 5:57:14 Evaluating interaction between polarregion 1 and qmregion 0\r\n",
      "T00 ERR ... Next State is: s1"
     ]
    },
    {
     "name": "stdout",
     "output_type": "stream",
     "text": [
      "\r\n",
      "T00 ERR ... 2025-5-23 5:57:14 Evaluating interaction between polarregion 1 and staticregion 2\r\n",
      "T00 ERR ... 2025-5-23 5:57:14 Starting Solving for classical polarization with 1380 degrees of freedom.\r\n",
      "T00 ERR ... 2025-5-23 5:57:14 CG: #iterations: 0, estimated error: 1.32052616766e-05"
     ]
    },
    {
     "name": "stdout",
     "output_type": "stream",
     "text": [
      "\r\n",
      "T00 ERR ...   Total static energy [hrt]= 0.0009102654542\r\n",
      "T00 ERR ...   Total polar energy [hrt]= 0.0008151697285\r\n",
      "T00 ERR ...  Total energy [hrt]= 0.001725435183\r\n",
      "T00 ERR ... 2025-5-23 5:57:14 Evaluating staticregion 2\r\n",
      "T00 ERR ... 2025-5-23 5:57:14 Writing checkpoint to checkpoint_iter_13.hdf5\r\n",
      "T00 ERR ...  Region:qmregion 0 is converged deltaE=8.250861683e-07 RMS Dmat=6.674983903e-06 MaxDmat=3.834895694e-05"
     ]
    },
    {
     "name": "stdout",
     "output_type": "stream",
     "text": [
      "\r\n",
      "T00 ERR ... 2025-5-23 5:57:14 Region:polarregion 1 is converged deltaE=8.901880268e-08\r\n",
      "T00 ERR ... 2025-5-23 5:57:14 --Total Energy all regions -39.72067327\r\n",
      "T00 ERR ... 2025-5-23 5:57:14 Job converged after 13 iterations.\r\n",
      "T00 ERR ... Next State is: s1\r\n",
      "T00 ERR ... Reporting job results\r\n",
      "\r\n",
      "T00 ERR ... Requesting next job"
     ]
    },
    {
     "name": "stdout",
     "output_type": "stream",
     "text": [
      "\r\n",
      "T00 ERR ... Assign jobs from stack"
     ]
    },
    {
     "name": "stdout",
     "output_type": "stream",
     "text": [
      "\r\n",
      "T00 ERR ... Sync did not yield any new jobs.\r\n",
      "T00 ERR ... Next job: ID = - (none available)"
     ]
    },
    {
     "name": "stdout",
     "output_type": "stream",
     "text": [
      "\r\n",
      "MST ERR Assign jobs from stack"
     ]
    },
    {
     "name": "stdout",
     "output_type": "stream",
     "text": [
      "\r\n",
      "Changes have not been written to state file.\r\n"
     ]
    }
   ],
   "source": [
    "!sed -i \"s/AVAILABLE/COMPLETE/g\" qmmm_jobs.xml                                                                                                                                                            \n",
    "!sed -i '0,/COMPLETE/s/COMPLETE/AVAILABLE/' qmmm_jobs.xml   \n",
    "!sed -i '0,/COMPLETE/s/COMPLETE/AVAILABLE/' qmmm_jobs.xml  \n",
    "!xtp_parallel -e qmmm -o qmmm.xml -x 2 -f state.hdf5 -j run"
   ]
  },
  {
   "cell_type": "markdown",
   "metadata": {},
   "source": [
    "Finally, save the results. We could read them in but that is a bit pointless. Maybe check out how to turn a checkpoint file into an or orbfile (look at the scripts) and visualise it with the `gencube` tool. "
   ]
  },
  {
   "cell_type": "code",
   "execution_count": 28,
   "metadata": {
    "execution": {
     "iopub.execute_input": "2025-05-23T05:57:14.857101Z",
     "iopub.status.busy": "2025-05-23T05:57:14.856604Z",
     "iopub.status.idle": "2025-05-23T05:57:14.859442Z",
     "shell.execute_reply": "2025-05-23T05:57:14.858957Z"
    }
   },
   "outputs": [],
   "source": [
    "#!xtp_parallel -e qmmm -o OPTIONFILES/qmmm.xml -f state.hdf5 -j \"read\""
   ]
  },
  {
   "cell_type": "code",
   "execution_count": null,
   "metadata": {},
   "outputs": [],
   "source": []
  }
 ],
 "metadata": {
  "kernelspec": {
   "display_name": "Python 3",
   "language": "python",
   "name": "python3"
  },
  "language_info": {
   "codemirror_mode": {
    "name": "ipython",
    "version": 3
   },
   "file_extension": ".py",
   "mimetype": "text/x-python",
   "name": "python",
   "nbconvert_exporter": "python",
   "pygments_lexer": "ipython3",
   "version": "3.13.3"
  }
 },
 "nbformat": 4,
 "nbformat_minor": 4
}
